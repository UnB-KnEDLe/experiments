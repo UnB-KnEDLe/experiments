{
 "cells": [
  {
   "cell_type": "markdown",
   "metadata": {},
   "source": [
    "# Pré-processamento"
   ]
  },
  {
   "cell_type": "code",
   "execution_count": 1,
   "metadata": {
    "scrolled": true
   },
   "outputs": [
    {
     "data": {
      "text/html": [
       "<div>\n",
       "<style scoped>\n",
       "    .dataframe tbody tr th:only-of-type {\n",
       "        vertical-align: middle;\n",
       "    }\n",
       "\n",
       "    .dataframe tbody tr th {\n",
       "        vertical-align: top;\n",
       "    }\n",
       "\n",
       "    .dataframe thead th {\n",
       "        text-align: right;\n",
       "    }\n",
       "</style>\n",
       "<table border=\"1\" class=\"dataframe\">\n",
       "  <thead>\n",
       "    <tr style=\"text-align: right;\">\n",
       "      <th></th>\n",
       "      <th>tipo_ato</th>\n",
       "      <th>ato</th>\n",
       "    </tr>\n",
       "  </thead>\n",
       "  <tbody>\n",
       "    <tr>\n",
       "      <th>0</th>\n",
       "      <td>Ato_Substituicao</td>\n",
       "      <td>Designar os servidores relacionados abaixo, co...</td>\n",
       "    </tr>\n",
       "    <tr>\n",
       "      <th>1</th>\n",
       "      <td>Ato_Substituicao</td>\n",
       "      <td>Designar ALEXANDRA GUEDES FUKUCHI CORADO, matr...</td>\n",
       "    </tr>\n",
       "    <tr>\n",
       "      <th>2</th>\n",
       "      <td>Ato_Substituicao</td>\n",
       "      <td>DESIGNAR LUIZ EDUARDO FERNANDES MACHADO, matri...</td>\n",
       "    </tr>\n",
       "    <tr>\n",
       "      <th>3</th>\n",
       "      <td>Ato_Nomeacao_Comissionado</td>\n",
       "      <td>NOMEAR MANOEL LUIZ CAMILO DE MORAIS ANTUNES, A...</td>\n",
       "    </tr>\n",
       "    <tr>\n",
       "      <th>4</th>\n",
       "      <td>Ato_Exoneracao_Comissionado</td>\n",
       "      <td>EXONERAR, por motivo de falecimento, LUDWIK DE...</td>\n",
       "    </tr>\n",
       "    <tr>\n",
       "      <th>...</th>\n",
       "      <td>...</td>\n",
       "      <td>...</td>\n",
       "    </tr>\n",
       "    <tr>\n",
       "      <th>50276</th>\n",
       "      <td>Ato_Nomeacao_Comissionado</td>\n",
       "      <td>NOMEAR ADRIANA PEIXOTO GOMES, Tecnico de Gesta...</td>\n",
       "    </tr>\n",
       "    <tr>\n",
       "      <th>50277</th>\n",
       "      <td>Ato_Nomeacao_Comissionado</td>\n",
       "      <td>NOMEAR MARIO MARQUES FRANCO para exercer o Car...</td>\n",
       "    </tr>\n",
       "    <tr>\n",
       "      <th>50278</th>\n",
       "      <td>Ato_Exoneracao_Comissionado</td>\n",
       "      <td>EXONERAR BENILSON BATISTA AMORIM do Cargo em C...</td>\n",
       "    </tr>\n",
       "    <tr>\n",
       "      <th>50279</th>\n",
       "      <td>Ato_Exoneracao_Comissionado</td>\n",
       "      <td>EXONERAR, por estar sendo nomeada para outro c...</td>\n",
       "    </tr>\n",
       "    <tr>\n",
       "      <th>50280</th>\n",
       "      <td>Ato_Aposentadoria</td>\n",
       "      <td>CONCEDER APOSENTADORIA a CLAUDIA MARIA GUEDES ...</td>\n",
       "    </tr>\n",
       "  </tbody>\n",
       "</table>\n",
       "<p>50281 rows × 2 columns</p>\n",
       "</div>"
      ],
      "text/plain": [
       "                          tipo_ato  \\\n",
       "0                 Ato_Substituicao   \n",
       "1                 Ato_Substituicao   \n",
       "2                 Ato_Substituicao   \n",
       "3        Ato_Nomeacao_Comissionado   \n",
       "4      Ato_Exoneracao_Comissionado   \n",
       "...                            ...   \n",
       "50276    Ato_Nomeacao_Comissionado   \n",
       "50277    Ato_Nomeacao_Comissionado   \n",
       "50278  Ato_Exoneracao_Comissionado   \n",
       "50279  Ato_Exoneracao_Comissionado   \n",
       "50280            Ato_Aposentadoria   \n",
       "\n",
       "                                                     ato  \n",
       "0      Designar os servidores relacionados abaixo, co...  \n",
       "1      Designar ALEXANDRA GUEDES FUKUCHI CORADO, matr...  \n",
       "2      DESIGNAR LUIZ EDUARDO FERNANDES MACHADO, matri...  \n",
       "3      NOMEAR MANOEL LUIZ CAMILO DE MORAIS ANTUNES, A...  \n",
       "4      EXONERAR, por motivo de falecimento, LUDWIK DE...  \n",
       "...                                                  ...  \n",
       "50276  NOMEAR ADRIANA PEIXOTO GOMES, Tecnico de Gesta...  \n",
       "50277  NOMEAR MARIO MARQUES FRANCO para exercer o Car...  \n",
       "50278  EXONERAR BENILSON BATISTA AMORIM do Cargo em C...  \n",
       "50279  EXONERAR, por estar sendo nomeada para outro c...  \n",
       "50280  CONCEDER APOSENTADORIA a CLAUDIA MARIA GUEDES ...  \n",
       "\n",
       "[50281 rows x 2 columns]"
      ]
     },
     "execution_count": 1,
     "metadata": {},
     "output_type": "execute_result"
    }
   ],
   "source": [
    "import pandas as pd\n",
    "import numpy as np\n",
    "import nltk\n",
    "\n",
    "df = pd.read_csv('atos_2020_nao_anotados2.csv', index_col = 0)\n",
    "df"
   ]
  },
  {
   "cell_type": "code",
   "execution_count": 2,
   "metadata": {},
   "outputs": [
    {
     "data": {
      "text/plain": [
       "Ato_Substituicao               20797\n",
       "Ato_Nomeacao_Comissionado      13776\n",
       "Ato_Exoneracao_Comissionado    10658\n",
       "Ato_Aposentadoria               3353\n",
       "Ato_Cessao                       625\n",
       "Ato_Abono_Permanencia            333\n",
       "Ato_Exoneracao_Efetivo           323\n",
       "Ato_Tornado_Sem_Efeito_Apo       292\n",
       "Ato_Nomeacao_Efetivo              99\n",
       "Ato_Reversao                      17\n",
       "Ato_Retificacao_Efetivo            8\n",
       "Name: tipo_ato, dtype: int64"
      ]
     },
     "execution_count": 2,
     "metadata": {},
     "output_type": "execute_result"
    }
   ],
   "source": [
    "df['tipo_ato'].value_counts()"
   ]
  },
  {
   "cell_type": "code",
   "execution_count": 3,
   "metadata": {},
   "outputs": [],
   "source": [
    "df = df.sample(frac=1)\n",
    "df = df.reset_index(drop = True)\n",
    "original = df.copy()"
   ]
  },
  {
   "cell_type": "markdown",
   "metadata": {},
   "source": [
    "### Retira caracteres não-alfanuméricos (\"(\", \",\", \".\", \"\\n\", etc)"
   ]
  },
  {
   "cell_type": "code",
   "execution_count": 4,
   "metadata": {},
   "outputs": [
    {
     "data": {
      "text/html": [
       "<div>\n",
       "<style scoped>\n",
       "    .dataframe tbody tr th:only-of-type {\n",
       "        vertical-align: middle;\n",
       "    }\n",
       "\n",
       "    .dataframe tbody tr th {\n",
       "        vertical-align: top;\n",
       "    }\n",
       "\n",
       "    .dataframe thead th {\n",
       "        text-align: right;\n",
       "    }\n",
       "</style>\n",
       "<table border=\"1\" class=\"dataframe\">\n",
       "  <thead>\n",
       "    <tr style=\"text-align: right;\">\n",
       "      <th></th>\n",
       "      <th>tipo_ato</th>\n",
       "      <th>ato</th>\n",
       "    </tr>\n",
       "  </thead>\n",
       "  <tbody>\n",
       "    <tr>\n",
       "      <th>0</th>\n",
       "      <td>Ato_Substituicao</td>\n",
       "      <td>DESIGNAR DANIELA MARTINS MACHADO  Enfermeira  ...</td>\n",
       "    </tr>\n",
       "    <tr>\n",
       "      <th>1</th>\n",
       "      <td>Ato_Nomeacao_Comissionado</td>\n",
       "      <td>NOMEAR MANOEL PERES BARBOSA BORGES para exerce...</td>\n",
       "    </tr>\n",
       "    <tr>\n",
       "      <th>2</th>\n",
       "      <td>Ato_Nomeacao_Comissionado</td>\n",
       "      <td>NOMEAR JANUI NUNES DA ROCHA para exercer o Car...</td>\n",
       "    </tr>\n",
       "    <tr>\n",
       "      <th>3</th>\n",
       "      <td>Ato_Nomeacao_Comissionado</td>\n",
       "      <td>NOMEAR CRISTIANE PINTO COSTA VIEIRA  Enfermeir...</td>\n",
       "    </tr>\n",
       "    <tr>\n",
       "      <th>4</th>\n",
       "      <td>Ato_Substituicao</td>\n",
       "      <td>Designar PEDRO AUGUSTO GOMES RORIZ JUNIOR  mat...</td>\n",
       "    </tr>\n",
       "    <tr>\n",
       "      <th>...</th>\n",
       "      <td>...</td>\n",
       "      <td>...</td>\n",
       "    </tr>\n",
       "    <tr>\n",
       "      <th>50276</th>\n",
       "      <td>Ato_Substituicao</td>\n",
       "      <td>DESIGNAR o Agente de Policia JEAN PAOLO GALDIN...</td>\n",
       "    </tr>\n",
       "    <tr>\n",
       "      <th>50277</th>\n",
       "      <td>Ato_Nomeacao_Comissionado</td>\n",
       "      <td>NOMEAR MATEUS DA SILVA SOUZA para exercer o Ca...</td>\n",
       "    </tr>\n",
       "    <tr>\n",
       "      <th>50278</th>\n",
       "      <td>Ato_Exoneracao_Comissionado</td>\n",
       "      <td>EXONERAR  por estar sendo nomeada para outro c...</td>\n",
       "    </tr>\n",
       "    <tr>\n",
       "      <th>50279</th>\n",
       "      <td>Ato_Nomeacao_Comissionado</td>\n",
       "      <td>NOMEAR FRANCISCO JOSE PEREIRA FAGUNDES  para e...</td>\n",
       "    </tr>\n",
       "    <tr>\n",
       "      <th>50280</th>\n",
       "      <td>Ato_Nomeacao_Comissionado</td>\n",
       "      <td>NOMEAR CIRO SERIGHELLI SAMPAIO para exercer o ...</td>\n",
       "    </tr>\n",
       "  </tbody>\n",
       "</table>\n",
       "<p>50281 rows × 2 columns</p>\n",
       "</div>"
      ],
      "text/plain": [
       "                          tipo_ato  \\\n",
       "0                 Ato_Substituicao   \n",
       "1        Ato_Nomeacao_Comissionado   \n",
       "2        Ato_Nomeacao_Comissionado   \n",
       "3        Ato_Nomeacao_Comissionado   \n",
       "4                 Ato_Substituicao   \n",
       "...                            ...   \n",
       "50276             Ato_Substituicao   \n",
       "50277    Ato_Nomeacao_Comissionado   \n",
       "50278  Ato_Exoneracao_Comissionado   \n",
       "50279    Ato_Nomeacao_Comissionado   \n",
       "50280    Ato_Nomeacao_Comissionado   \n",
       "\n",
       "                                                     ato  \n",
       "0      DESIGNAR DANIELA MARTINS MACHADO  Enfermeira  ...  \n",
       "1      NOMEAR MANOEL PERES BARBOSA BORGES para exerce...  \n",
       "2      NOMEAR JANUI NUNES DA ROCHA para exercer o Car...  \n",
       "3      NOMEAR CRISTIANE PINTO COSTA VIEIRA  Enfermeir...  \n",
       "4      Designar PEDRO AUGUSTO GOMES RORIZ JUNIOR  mat...  \n",
       "...                                                  ...  \n",
       "50276  DESIGNAR o Agente de Policia JEAN PAOLO GALDIN...  \n",
       "50277  NOMEAR MATEUS DA SILVA SOUZA para exercer o Ca...  \n",
       "50278  EXONERAR  por estar sendo nomeada para outro c...  \n",
       "50279  NOMEAR FRANCISCO JOSE PEREIRA FAGUNDES  para e...  \n",
       "50280  NOMEAR CIRO SERIGHELLI SAMPAIO para exercer o ...  \n",
       "\n",
       "[50281 rows x 2 columns]"
      ]
     },
     "execution_count": 4,
     "metadata": {},
     "output_type": "execute_result"
    }
   ],
   "source": [
    "df['ato'] = df.ato.str.replace('\\W', ' ')\n",
    "df"
   ]
  },
  {
   "cell_type": "markdown",
   "metadata": {},
   "source": [
    "### Remoção de stopwords"
   ]
  },
  {
   "cell_type": "code",
   "execution_count": 5,
   "metadata": {
    "scrolled": true
   },
   "outputs": [],
   "source": [
    "stopwords = nltk.corpus.stopwords.words('portuguese')"
   ]
  },
  {
   "cell_type": "code",
   "execution_count": 6,
   "metadata": {
    "scrolled": true
   },
   "outputs": [
    {
     "data": {
      "text/html": [
       "<div>\n",
       "<style scoped>\n",
       "    .dataframe tbody tr th:only-of-type {\n",
       "        vertical-align: middle;\n",
       "    }\n",
       "\n",
       "    .dataframe tbody tr th {\n",
       "        vertical-align: top;\n",
       "    }\n",
       "\n",
       "    .dataframe thead th {\n",
       "        text-align: right;\n",
       "    }\n",
       "</style>\n",
       "<table border=\"1\" class=\"dataframe\">\n",
       "  <thead>\n",
       "    <tr style=\"text-align: right;\">\n",
       "      <th></th>\n",
       "      <th>tipo_ato</th>\n",
       "      <th>ato</th>\n",
       "    </tr>\n",
       "  </thead>\n",
       "  <tbody>\n",
       "    <tr>\n",
       "      <th>0</th>\n",
       "      <td>Ato_Substituicao</td>\n",
       "      <td>DESIGNAR DANIELA MARTINS MACHADO Enfermeira Ma...</td>\n",
       "    </tr>\n",
       "    <tr>\n",
       "      <th>1</th>\n",
       "      <td>Ato_Nomeacao_Comissionado</td>\n",
       "      <td>NOMEAR MANOEL PERES BARBOSA BORGES exercer Car...</td>\n",
       "    </tr>\n",
       "    <tr>\n",
       "      <th>2</th>\n",
       "      <td>Ato_Nomeacao_Comissionado</td>\n",
       "      <td>NOMEAR JANUI NUNES DA ROCHA exercer Cargo Comi...</td>\n",
       "    </tr>\n",
       "    <tr>\n",
       "      <th>3</th>\n",
       "      <td>Ato_Nomeacao_Comissionado</td>\n",
       "      <td>NOMEAR CRISTIANE PINTO COSTA VIEIRA Enfermeira...</td>\n",
       "    </tr>\n",
       "    <tr>\n",
       "      <th>4</th>\n",
       "      <td>Ato_Substituicao</td>\n",
       "      <td>Designar PEDRO AUGUSTO GOMES RORIZ JUNIOR matr...</td>\n",
       "    </tr>\n",
       "    <tr>\n",
       "      <th>...</th>\n",
       "      <td>...</td>\n",
       "      <td>...</td>\n",
       "    </tr>\n",
       "    <tr>\n",
       "      <th>50276</th>\n",
       "      <td>Ato_Substituicao</td>\n",
       "      <td>DESIGNAR Agente Policia JEAN PAOLO GALDINO VAS...</td>\n",
       "    </tr>\n",
       "    <tr>\n",
       "      <th>50277</th>\n",
       "      <td>Ato_Nomeacao_Comissionado</td>\n",
       "      <td>NOMEAR MATEUS DA SILVA SOUZA exercer Cargo Com...</td>\n",
       "    </tr>\n",
       "    <tr>\n",
       "      <th>50278</th>\n",
       "      <td>Ato_Exoneracao_Comissionado</td>\n",
       "      <td>EXONERAR estar sendo nomeada outro cargo KELLY...</td>\n",
       "    </tr>\n",
       "    <tr>\n",
       "      <th>50279</th>\n",
       "      <td>Ato_Nomeacao_Comissionado</td>\n",
       "      <td>NOMEAR FRANCISCO JOSE PEREIRA FAGUNDES exercer...</td>\n",
       "    </tr>\n",
       "    <tr>\n",
       "      <th>50280</th>\n",
       "      <td>Ato_Nomeacao_Comissionado</td>\n",
       "      <td>NOMEAR CIRO SERIGHELLI SAMPAIO exercer Cargo N...</td>\n",
       "    </tr>\n",
       "  </tbody>\n",
       "</table>\n",
       "<p>50281 rows × 2 columns</p>\n",
       "</div>"
      ],
      "text/plain": [
       "                          tipo_ato  \\\n",
       "0                 Ato_Substituicao   \n",
       "1        Ato_Nomeacao_Comissionado   \n",
       "2        Ato_Nomeacao_Comissionado   \n",
       "3        Ato_Nomeacao_Comissionado   \n",
       "4                 Ato_Substituicao   \n",
       "...                            ...   \n",
       "50276             Ato_Substituicao   \n",
       "50277    Ato_Nomeacao_Comissionado   \n",
       "50278  Ato_Exoneracao_Comissionado   \n",
       "50279    Ato_Nomeacao_Comissionado   \n",
       "50280    Ato_Nomeacao_Comissionado   \n",
       "\n",
       "                                                     ato  \n",
       "0      DESIGNAR DANIELA MARTINS MACHADO Enfermeira Ma...  \n",
       "1      NOMEAR MANOEL PERES BARBOSA BORGES exercer Car...  \n",
       "2      NOMEAR JANUI NUNES DA ROCHA exercer Cargo Comi...  \n",
       "3      NOMEAR CRISTIANE PINTO COSTA VIEIRA Enfermeira...  \n",
       "4      Designar PEDRO AUGUSTO GOMES RORIZ JUNIOR matr...  \n",
       "...                                                  ...  \n",
       "50276  DESIGNAR Agente Policia JEAN PAOLO GALDINO VAS...  \n",
       "50277  NOMEAR MATEUS DA SILVA SOUZA exercer Cargo Com...  \n",
       "50278  EXONERAR estar sendo nomeada outro cargo KELLY...  \n",
       "50279  NOMEAR FRANCISCO JOSE PEREIRA FAGUNDES exercer...  \n",
       "50280  NOMEAR CIRO SERIGHELLI SAMPAIO exercer Cargo N...  \n",
       "\n",
       "[50281 rows x 2 columns]"
      ]
     },
     "execution_count": 6,
     "metadata": {},
     "output_type": "execute_result"
    }
   ],
   "source": [
    "df['ato'] = df['ato'].apply(lambda x: ' '.join([item for item in x.split() if item not in stopwords]))\n",
    "df"
   ]
  },
  {
   "cell_type": "markdown",
   "metadata": {},
   "source": [
    "### Stemming"
   ]
  },
  {
   "cell_type": "code",
   "execution_count": 7,
   "metadata": {},
   "outputs": [],
   "source": [
    "stemmer = nltk.stem.RSLPStemmer()"
   ]
  },
  {
   "cell_type": "code",
   "execution_count": 8,
   "metadata": {
    "scrolled": true
   },
   "outputs": [
    {
     "data": {
      "text/html": [
       "<div>\n",
       "<style scoped>\n",
       "    .dataframe tbody tr th:only-of-type {\n",
       "        vertical-align: middle;\n",
       "    }\n",
       "\n",
       "    .dataframe tbody tr th {\n",
       "        vertical-align: top;\n",
       "    }\n",
       "\n",
       "    .dataframe thead th {\n",
       "        text-align: right;\n",
       "    }\n",
       "</style>\n",
       "<table border=\"1\" class=\"dataframe\">\n",
       "  <thead>\n",
       "    <tr style=\"text-align: right;\">\n",
       "      <th></th>\n",
       "      <th>tipo_ato</th>\n",
       "      <th>ato</th>\n",
       "    </tr>\n",
       "  </thead>\n",
       "  <tbody>\n",
       "    <tr>\n",
       "      <th>0</th>\n",
       "      <td>Ato_Substituicao</td>\n",
       "      <td>design daniel martim mach enferm matricul 0136...</td>\n",
       "    </tr>\n",
       "    <tr>\n",
       "      <th>1</th>\n",
       "      <td>Ato_Nomeacao_Comissionado</td>\n",
       "      <td>nome manoel per barb borg exerc carg comissa s...</td>\n",
       "    </tr>\n",
       "    <tr>\n",
       "      <th>2</th>\n",
       "      <td>Ato_Nomeacao_Comissionado</td>\n",
       "      <td>nome janu nun da roch exerc carg comissa simbo...</td>\n",
       "    </tr>\n",
       "    <tr>\n",
       "      <th>3</th>\n",
       "      <td>Ato_Nomeacao_Comissionado</td>\n",
       "      <td>nome cristian pint cost vie enferm matricul 14...</td>\n",
       "    </tr>\n",
       "    <tr>\n",
       "      <th>4</th>\n",
       "      <td>Ato_Substituicao</td>\n",
       "      <td>design pedr august gom roriz juni matricul 168...</td>\n",
       "    </tr>\n",
       "    <tr>\n",
       "      <th>...</th>\n",
       "      <td>...</td>\n",
       "      <td>...</td>\n",
       "    </tr>\n",
       "    <tr>\n",
       "      <th>50276</th>\n",
       "      <td>Ato_Substituicao</td>\n",
       "      <td>design agent polic jean paol galdin vasconcel ...</td>\n",
       "    </tr>\n",
       "    <tr>\n",
       "      <th>50277</th>\n",
       "      <td>Ato_Nomeacao_Comissionado</td>\n",
       "      <td>nome mat da silv souz exerc carg comissa simbo...</td>\n",
       "    </tr>\n",
       "    <tr>\n",
       "      <th>50278</th>\n",
       "      <td>Ato_Exoneracao_Comissionado</td>\n",
       "      <td>exoner est send nome outr carg kelly cristian ...</td>\n",
       "    </tr>\n",
       "    <tr>\n",
       "      <th>50279</th>\n",
       "      <td>Ato_Nomeacao_Comissionado</td>\n",
       "      <td>nome francisc jos per fagund exerc carg comiss...</td>\n",
       "    </tr>\n",
       "    <tr>\n",
       "      <th>50280</th>\n",
       "      <td>Ato_Nomeacao_Comissionado</td>\n",
       "      <td>nome cir serighell sampai exerc carg natur esp...</td>\n",
       "    </tr>\n",
       "  </tbody>\n",
       "</table>\n",
       "<p>50281 rows × 2 columns</p>\n",
       "</div>"
      ],
      "text/plain": [
       "                          tipo_ato  \\\n",
       "0                 Ato_Substituicao   \n",
       "1        Ato_Nomeacao_Comissionado   \n",
       "2        Ato_Nomeacao_Comissionado   \n",
       "3        Ato_Nomeacao_Comissionado   \n",
       "4                 Ato_Substituicao   \n",
       "...                            ...   \n",
       "50276             Ato_Substituicao   \n",
       "50277    Ato_Nomeacao_Comissionado   \n",
       "50278  Ato_Exoneracao_Comissionado   \n",
       "50279    Ato_Nomeacao_Comissionado   \n",
       "50280    Ato_Nomeacao_Comissionado   \n",
       "\n",
       "                                                     ato  \n",
       "0      design daniel martim mach enferm matricul 0136...  \n",
       "1      nome manoel per barb borg exerc carg comissa s...  \n",
       "2      nome janu nun da roch exerc carg comissa simbo...  \n",
       "3      nome cristian pint cost vie enferm matricul 14...  \n",
       "4      design pedr august gom roriz juni matricul 168...  \n",
       "...                                                  ...  \n",
       "50276  design agent polic jean paol galdin vasconcel ...  \n",
       "50277  nome mat da silv souz exerc carg comissa simbo...  \n",
       "50278  exoner est send nome outr carg kelly cristian ...  \n",
       "50279  nome francisc jos per fagund exerc carg comiss...  \n",
       "50280  nome cir serighell sampai exerc carg natur esp...  \n",
       "\n",
       "[50281 rows x 2 columns]"
      ]
     },
     "execution_count": 8,
     "metadata": {},
     "output_type": "execute_result"
    }
   ],
   "source": [
    "df['ato'] = df['ato'].apply(lambda x: ' '.join([stemmer.stem(item) for item in x.split()]))\n",
    "df"
   ]
  },
  {
   "cell_type": "markdown",
   "metadata": {},
   "source": [
    "### Carregando modelos"
   ]
  },
  {
   "cell_type": "code",
   "execution_count": 9,
   "metadata": {},
   "outputs": [],
   "source": [
    "from sklearn.ensemble import RandomForestClassifier\n",
    "from sklearn.tree import DecisionTreeClassifier\n",
    "from sklearn.linear_model import SGDClassifier\n",
    "from sklearn.feature_extraction.text import TfidfVectorizer"
   ]
  },
  {
   "cell_type": "code",
   "execution_count": 44,
   "metadata": {
    "scrolled": true
   },
   "outputs": [],
   "source": [
    "import pickle\n",
    "file = open('classificadores_treinados_com_2020', 'rb')\n",
    "clf_rf = pickle.load(file)\n",
    "clf_dt = pickle.load(file)\n",
    "clf_sgd = pickle.load(file)\n",
    "vectorizer = pickle.load(file)\n",
    "file.close()"
   ]
  },
  {
   "cell_type": "code",
   "execution_count": 45,
   "metadata": {
    "scrolled": true
   },
   "outputs": [
    {
     "data": {
      "text/plain": [
       "RandomForestClassifier(max_features=0.2, n_jobs=2, random_state=87)"
      ]
     },
     "execution_count": 45,
     "metadata": {},
     "output_type": "execute_result"
    }
   ],
   "source": [
    "clf_rf"
   ]
  },
  {
   "cell_type": "code",
   "execution_count": 46,
   "metadata": {},
   "outputs": [
    {
     "data": {
      "text/plain": [
       "DecisionTreeClassifier(class_weight='balanced', random_state=87)"
      ]
     },
     "execution_count": 46,
     "metadata": {},
     "output_type": "execute_result"
    }
   ],
   "source": [
    "clf_dt"
   ]
  },
  {
   "cell_type": "code",
   "execution_count": 47,
   "metadata": {},
   "outputs": [
    {
     "data": {
      "text/plain": [
       "SGDClassifier(alpha=0.0002, loss='modified_huber', random_state=87)"
      ]
     },
     "execution_count": 47,
     "metadata": {},
     "output_type": "execute_result"
    }
   ],
   "source": [
    "clf_sgd"
   ]
  },
  {
   "cell_type": "code",
   "execution_count": 48,
   "metadata": {},
   "outputs": [
    {
     "data": {
      "text/plain": [
       "TfidfVectorizer(max_df=0.9, min_df=2,\n",
       "                stop_words=['de', 'a', 'o', 'que', 'e', 'é', 'do', 'da', 'em',\n",
       "                            'um', 'para', 'com', 'não', 'uma', 'os', 'no', 'se',\n",
       "                            'na', 'por', 'mais', 'as', 'dos', 'como', 'mas',\n",
       "                            'ao', 'ele', 'das', 'à', 'seu', 'sua', ...])"
      ]
     },
     "execution_count": 48,
     "metadata": {},
     "output_type": "execute_result"
    }
   ],
   "source": [
    "vectorizer"
   ]
  },
  {
   "cell_type": "markdown",
   "metadata": {},
   "source": [
    "### Aplicação do tfidf"
   ]
  },
  {
   "cell_type": "code",
   "execution_count": 49,
   "metadata": {},
   "outputs": [
    {
     "data": {
      "text/plain": [
       "<50281x2900 sparse matrix of type '<class 'numpy.float64'>'\n",
       "\twith 1447786 stored elements in Compressed Sparse Row format>"
      ]
     },
     "execution_count": 49,
     "metadata": {},
     "output_type": "execute_result"
    }
   ],
   "source": [
    "X = vectorizer.transform(df['ato'])\n",
    "X"
   ]
  },
  {
   "cell_type": "markdown",
   "metadata": {},
   "source": [
    "# Classificação"
   ]
  },
  {
   "cell_type": "code",
   "execution_count": 50,
   "metadata": {},
   "outputs": [],
   "source": [
    "from sklearn.metrics import classification_report"
   ]
  },
  {
   "cell_type": "code",
   "execution_count": 51,
   "metadata": {},
   "outputs": [],
   "source": [
    "y = np.array(df['tipo_ato'])"
   ]
  },
  {
   "cell_type": "code",
   "execution_count": 52,
   "metadata": {
    "scrolled": true
   },
   "outputs": [
    {
     "name": "stderr",
     "output_type": "stream",
     "text": [
      "C:\\Users\\felip\\anaconda3\\lib\\site-packages\\sklearn\\metrics\\_classification.py:1221: UndefinedMetricWarning: Recall and F-score are ill-defined and being set to 0.0 in labels with no true samples. Use `zero_division` parameter to control this behavior.\n",
      "  _warn_prf(average, modifier, msg_start, len(result))\n"
     ]
    },
    {
     "name": "stdout",
     "output_type": "stream",
     "text": [
      "                                precision    recall  f1-score   support\n",
      "\n",
      "         Ato_Abono_Permanencia       0.99      0.31      0.47       333\n",
      "             Ato_Aposentadoria       0.99      1.00      0.99      3353\n",
      "                    Ato_Cessao       0.99      1.00      0.99       625\n",
      "   Ato_Exoneracao_Comissionado       0.97      0.99      0.98     10658\n",
      "        Ato_Exoneracao_Efetivo       0.15      0.03      0.06       323\n",
      "     Ato_Nomeacao_Comissionado       0.99      0.98      0.99     13776\n",
      "          Ato_Nomeacao_Efetivo       0.30      0.69      0.42        99\n",
      "  Ato_Retificacao_Comissionado       0.00      0.00      0.00         0\n",
      "       Ato_Retificacao_Efetivo       0.10      1.00      0.19         8\n",
      "                  Ato_Reversao       0.59      1.00      0.74        17\n",
      "              Ato_Substituicao       0.99      1.00      1.00     20797\n",
      "    Ato_Tornado_Sem_Efeito_Apo       1.00      0.39      0.56       292\n",
      "Ato_Tornado_Sem_Efeito_Exo_Nom       0.00      0.00      0.00         0\n",
      "\n",
      "                      accuracy                           0.98     50281\n",
      "                     macro avg       0.62      0.64      0.57     50281\n",
      "                  weighted avg       0.98      0.98      0.98     50281\n",
      "\n"
     ]
    }
   ],
   "source": [
    "# Random Forest\n",
    "y_true, y_pred = y, clf_rf.predict(X)\n",
    "print(classification_report(y_true, y_pred))"
   ]
  },
  {
   "cell_type": "code",
   "execution_count": 53,
   "metadata": {},
   "outputs": [
    {
     "name": "stdout",
     "output_type": "stream",
     "text": [
      "                                precision    recall  f1-score   support\n",
      "\n",
      "         Ato_Abono_Permanencia       0.28      0.71      0.40       333\n",
      "             Ato_Aposentadoria       0.94      0.97      0.96      3353\n",
      "                    Ato_Cessao       0.97      1.00      0.98       625\n",
      "   Ato_Exoneracao_Comissionado       0.81      0.99      0.89     10658\n",
      "        Ato_Exoneracao_Efetivo       0.02      0.07      0.03       323\n",
      "     Ato_Nomeacao_Comissionado       1.00      0.98      0.99     13776\n",
      "          Ato_Nomeacao_Efetivo       0.37      1.00      0.54        99\n",
      "  Ato_Retificacao_Comissionado       0.00      0.00      0.00         0\n",
      "       Ato_Retificacao_Efetivo       0.00      1.00      0.00         8\n",
      "                  Ato_Reversao       0.23      1.00      0.38        17\n",
      "              Ato_Substituicao       1.00      0.64      0.78     20797\n",
      "    Ato_Tornado_Sem_Efeito_Apo       0.97      0.53      0.68       292\n",
      "Ato_Tornado_Sem_Efeito_Exo_Nom       0.00      0.00      0.00         0\n",
      "\n",
      "                      accuracy                           0.83     50281\n",
      "                     macro avg       0.51      0.68      0.51     50281\n",
      "                  weighted avg       0.94      0.83      0.87     50281\n",
      "\n"
     ]
    }
   ],
   "source": [
    "# Decision Tree Classifier\n",
    "y_true, y_pred = y, clf_dt.predict(X)\n",
    "print(classification_report(y_true, y_pred))"
   ]
  },
  {
   "cell_type": "code",
   "execution_count": 54,
   "metadata": {
    "scrolled": true
   },
   "outputs": [
    {
     "name": "stdout",
     "output_type": "stream",
     "text": [
      "                                precision    recall  f1-score   support\n",
      "\n",
      "         Ato_Abono_Permanencia       0.97      0.31      0.47       333\n",
      "             Ato_Aposentadoria       0.94      1.00      0.97      3353\n",
      "                    Ato_Cessao       0.97      1.00      0.98       625\n",
      "   Ato_Exoneracao_Comissionado       0.95      0.99      0.97     10658\n",
      "        Ato_Exoneracao_Efetivo       0.14      0.03      0.05       323\n",
      "     Ato_Nomeacao_Comissionado       0.84      0.97      0.90     13776\n",
      "          Ato_Nomeacao_Efetivo       0.36      1.00      0.53        99\n",
      "  Ato_Retificacao_Comissionado       0.00      0.00      0.00         0\n",
      "       Ato_Retificacao_Efetivo       0.01      1.00      0.02         8\n",
      "                  Ato_Reversao       0.08      1.00      0.14        17\n",
      "              Ato_Substituicao       1.00      0.85      0.92     20797\n",
      "    Ato_Tornado_Sem_Efeito_Apo       1.00      0.03      0.05       292\n",
      "Ato_Tornado_Sem_Efeito_Exo_Nom       0.00      0.00      0.00         0\n",
      "\n",
      "                      accuracy                           0.91     50281\n",
      "                     macro avg       0.56      0.63      0.46     50281\n",
      "                  weighted avg       0.93      0.91      0.91     50281\n",
      "\n"
     ]
    }
   ],
   "source": [
    "# SGD\n",
    "y_true, y_pred = y, clf_sgd.predict(X)\n",
    "print(classification_report(y_true, y_pred))"
   ]
  },
  {
   "cell_type": "markdown",
   "metadata": {},
   "source": [
    "# Matriz de confusão"
   ]
  },
  {
   "cell_type": "code",
   "execution_count": 55,
   "metadata": {},
   "outputs": [],
   "source": [
    "from sklearn.metrics import plot_confusion_matrix\n",
    "from matplotlib import pyplot as plt\n",
    "\n",
    "def plotConfusionMatrix(classifier, X_test, y_test, class_names):\n",
    "    np.set_printoptions(precision=2)\n",
    "\n",
    "    fig, ax = plt.subplots(figsize=(13, 13))\n",
    "    disp = plot_confusion_matrix(classifier, X_test, y_test,display_labels=class_names,cmap=plt.cm.Blues, ax = ax)\n",
    "    disp.ax_.set_title(\"Matriz de Confusão\")\n",
    "    plt.show()"
   ]
  },
  {
   "cell_type": "code",
   "execution_count": 56,
   "metadata": {},
   "outputs": [],
   "source": [
    "atos_nomes = ['Abono', 'Apo', 'Cessao', 'ExoCom', 'ExoEfe', 'NomCom', 'NomEfe', 'RetCom', 'RetEfe', 'Rev', 'Subs', 'SEApo', 'SEExoNom']"
   ]
  },
  {
   "cell_type": "code",
   "execution_count": 57,
   "metadata": {},
   "outputs": [
    {
     "data": {
      "image/png": "[encoded data removed]",
      "text/plain": [
       "<Figure size 936x936 with 2 Axes>"
      ]
     },
     "metadata": {
      "needs_background": "light"
     },
     "output_type": "display_data"
    }
   ],
   "source": [
    "plotConfusionMatrix(clf_rf, X, y, atos_nomes)"
   ]
  },
  {
   "cell_type": "code",
   "execution_count": 58,
   "metadata": {},
   "outputs": [
    {
     "data": {
      "image/png": "[encoded data removed]",
      "text/plain": [
       "<Figure size 936x936 with 2 Axes>"
      ]
     },
     "metadata": {
      "needs_background": "light"
     },
     "output_type": "display_data"
    }
   ],
   "source": [
    "plotConfusionMatrix(clf_dt, X, y, atos_nomes)"
   ]
  },
  {
   "cell_type": "code",
   "execution_count": 59,
   "metadata": {},
   "outputs": [
    {
     "data": {
      "image/png": "[encoded data removed]",
      "text/plain": [
       "<Figure size 936x936 with 2 Axes>"
      ]
     },
     "metadata": {
      "needs_background": "light"
     },
     "output_type": "display_data"
    }
   ],
   "source": [
    "plotConfusionMatrix(clf_sgd, X, y, atos_nomes)"
   ]
  },
  {
   "cell_type": "markdown",
   "metadata": {},
   "source": [
    "## Cohen's kappa"
   ]
  },
  {
   "cell_type": "code",
   "execution_count": 60,
   "metadata": {},
   "outputs": [],
   "source": [
    "y_rf = clf_rf.predict(X)\n",
    "y_dt = clf_dt.predict(X)\n",
    "y_sgd = clf_sgd.predict(X)"
   ]
  },
  {
   "cell_type": "code",
   "execution_count": 61,
   "metadata": {
    "scrolled": false
   },
   "outputs": [
    {
     "name": "stdout",
     "output_type": "stream",
     "text": [
      "RFC: 0.969\n",
      "DTC: 0.775\n",
      "SGD: 0.875\n"
     ]
    }
   ],
   "source": [
    "from sklearn.metrics import cohen_kappa_score\n",
    "print(\"RFC: %.3f\" %cohen_kappa_score(y, y_rf))\n",
    "print(\"DTC: %.3f\" %cohen_kappa_score(y, y_dt))\n",
    "print(\"SGD: %.3f\" %cohen_kappa_score(y, y_sgd))"
   ]
  },
  {
   "cell_type": "code",
   "execution_count": 62,
   "metadata": {},
   "outputs": [
    {
     "name": "stdout",
     "output_type": "stream",
     "text": [
      "RFC com DTC: 0.783\n",
      "DTC com SGD: 0.770\n",
      "SGD com RFC: 0.892\n"
     ]
    }
   ],
   "source": [
    "from sklearn.metrics import cohen_kappa_score\n",
    "print(\"RFC com DTC: %.3f\" %cohen_kappa_score(y_dt, y_rf))\n",
    "print(\"DTC com SGD: %.3f\" %cohen_kappa_score(y_sgd, y_dt))\n",
    "print(\"SGD com RFC: %.3f\" %cohen_kappa_score(y_rf, y_sgd))"
   ]
  },
  {
   "cell_type": "markdown",
   "metadata": {},
   "source": [
    "## Fleiss' kappa"
   ]
  },
  {
   "cell_type": "code",
   "execution_count": 63,
   "metadata": {
    "scrolled": true
   },
   "outputs": [
    {
     "data": {
      "text/plain": [
       "array(['Ato_Abono_Permanencia', 'Ato_Aposentadoria', 'Ato_Cessao',\n",
       "       'Ato_Exoneracao_Comissionado', 'Ato_Exoneracao_Efetivo',\n",
       "       'Ato_Nomeacao_Comissionado', 'Ato_Nomeacao_Efetivo',\n",
       "       'Ato_Retificacao_Efetivo', 'Ato_Reversao', 'Ato_Substituicao',\n",
       "       'Ato_Tornado_Sem_Efeito_Apo'], dtype=object)"
      ]
     },
     "execution_count": 63,
     "metadata": {},
     "output_type": "execute_result"
    }
   ],
   "source": [
    "np.unique(y)"
   ]
  },
  {
   "cell_type": "code",
   "execution_count": 64,
   "metadata": {
    "scrolled": true
   },
   "outputs": [
    {
     "data": {
      "text/plain": [
       "{'Ato_Abono_Permanencia': 0,\n",
       " 'Ato_Aposentadoria': 1,\n",
       " 'Ato_Cessao': 2,\n",
       " 'Ato_Exoneracao_Comissionado': 3,\n",
       " 'Ato_Exoneracao_Efetivo': 4,\n",
       " 'Ato_Nomeacao_Comissionado': 5,\n",
       " 'Ato_Nomeacao_Efetivo': 6,\n",
       " 'Ato_Retificacao_Efetivo': 7,\n",
       " 'Ato_Reversao': 8,\n",
       " 'Ato_Substituicao': 9,\n",
       " 'Ato_Tornado_Sem_Efeito_Apo': 10,\n",
       " 'Ato_Tornado_Sem_Efeito_Exo_Nom': 11,\n",
       " 'Ato_Retificacao_Comissionado': 12}"
      ]
     },
     "execution_count": 64,
     "metadata": {},
     "output_type": "execute_result"
    }
   ],
   "source": [
    "m = {}\n",
    "index = 0\n",
    "for i in np.unique(y):\n",
    "    m[i] = index\n",
    "    index += 1\n",
    "    \n",
    "m['Ato_Tornado_Sem_Efeito_Exo_Nom'] = 11\n",
    "m['Ato_Retificacao_Comissionado'] = 12\n",
    "m"
   ]
  },
  {
   "cell_type": "code",
   "execution_count": 65,
   "metadata": {
    "scrolled": true
   },
   "outputs": [],
   "source": [
    "fun = np.vectorize(lambda x: m[x])"
   ]
  },
  {
   "cell_type": "code",
   "execution_count": 66,
   "metadata": {},
   "outputs": [
    {
     "data": {
      "text/plain": [
       "array([9, 5, 5, ..., 3, 5, 5])"
      ]
     },
     "execution_count": 66,
     "metadata": {},
     "output_type": "execute_result"
    }
   ],
   "source": [
    "fun(y)"
   ]
  },
  {
   "cell_type": "code",
   "execution_count": 67,
   "metadata": {},
   "outputs": [
    {
     "data": {
      "text/plain": [
       "array([[0., 0., 0., 0., 0.],\n",
       "       [0., 0., 0., 0., 0.]])"
      ]
     },
     "execution_count": 67,
     "metadata": {},
     "output_type": "execute_result"
    }
   ],
   "source": [
    "np.zeros((2, 5))"
   ]
  },
  {
   "cell_type": "code",
   "execution_count": 68,
   "metadata": {},
   "outputs": [
    {
     "data": {
      "text/plain": [
       "50281"
      ]
     },
     "execution_count": 68,
     "metadata": {},
     "output_type": "execute_result"
    }
   ],
   "source": [
    "len(y)"
   ]
  },
  {
   "cell_type": "code",
   "execution_count": 69,
   "metadata": {},
   "outputs": [],
   "source": [
    "k = np.zeros((len(y), 13))"
   ]
  },
  {
   "cell_type": "code",
   "execution_count": 70,
   "metadata": {},
   "outputs": [],
   "source": [
    "fy = fun(y)\n",
    "fy_rf = fun(y_rf)\n",
    "fy_dt = fun(y_dt)\n",
    "fy_sgd = fun(y_sgd)"
   ]
  },
  {
   "cell_type": "code",
   "execution_count": 71,
   "metadata": {
    "scrolled": true
   },
   "outputs": [],
   "source": [
    "for i in range(0, len(y)):\n",
    "    k[i][fy[i]] += 1\n",
    "    k[i][fy_rf[i]] += 1\n",
    "    k[i][fy_dt[i]] += 1\n",
    "    k[i][fy_sgd[i]] += 1"
   ]
  },
  {
   "cell_type": "code",
   "execution_count": 72,
   "metadata": {},
   "outputs": [
    {
     "data": {
      "text/plain": [
       "array([[0., 0., 0., 0., 0., 0., 0., 0., 0., 4., 0., 0., 0.],\n",
       "       [0., 0., 0., 0., 0., 4., 0., 0., 0., 0., 0., 0., 0.],\n",
       "       [0., 0., 0., 0., 0., 4., 0., 0., 0., 0., 0., 0., 0.],\n",
       "       [0., 0., 0., 0., 0., 4., 0., 0., 0., 0., 0., 0., 0.],\n",
       "       [0., 0., 0., 0., 0., 0., 0., 0., 0., 4., 0., 0., 0.]])"
      ]
     },
     "execution_count": 72,
     "metadata": {},
     "output_type": "execute_result"
    }
   ],
   "source": [
    "k[:5]"
   ]
  },
  {
   "cell_type": "code",
   "execution_count": 73,
   "metadata": {
    "scrolled": true
   },
   "outputs": [
    {
     "data": {
      "text/plain": [
       "0.841374259201344"
      ]
     },
     "execution_count": 73,
     "metadata": {},
     "output_type": "execute_result"
    }
   ],
   "source": [
    "from statsmodels.stats.inter_rater import fleiss_kappa\n",
    "fleiss_kappa(k)"
   ]
  },
  {
   "cell_type": "code",
   "execution_count": 74,
   "metadata": {
    "scrolled": true
   },
   "outputs": [
    {
     "data": {
      "text/plain": [
       "0.8741414914845237"
      ]
     },
     "execution_count": 74,
     "metadata": {},
     "output_type": "execute_result"
    }
   ],
   "source": [
    "fleiss_kappa(k, method = 'rand')"
   ]
  },
  {
   "cell_type": "markdown",
   "metadata": {},
   "source": [
    "# Análise das confianças dos modelos"
   ]
  },
  {
   "cell_type": "markdown",
   "metadata": {},
   "source": [
    "### Confiança média geral"
   ]
  },
  {
   "cell_type": "code",
   "execution_count": 75,
   "metadata": {
    "scrolled": true
   },
   "outputs": [],
   "source": [
    "probs_rf = clf_rf.predict_proba(X)\n",
    "probs_dt = clf_dt.predict_proba(X)\n",
    "probs_sgd = clf_sgd.predict_proba(X)"
   ]
  },
  {
   "cell_type": "code",
   "execution_count": 96,
   "metadata": {},
   "outputs": [
    {
     "data": {
      "text/plain": [
       "array([[0., 0., 0., ..., 1., 0., 0.],\n",
       "       [0., 0., 0., ..., 0., 0., 0.],\n",
       "       [0., 0., 0., ..., 0., 0., 0.],\n",
       "       ...,\n",
       "       [0., 0., 0., ..., 0., 0., 0.],\n",
       "       [0., 0., 0., ..., 0., 0., 0.],\n",
       "       [0., 0., 0., ..., 0., 0., 0.]])"
      ]
     },
     "execution_count": 96,
     "metadata": {},
     "output_type": "execute_result"
    }
   ],
   "source": [
    "probs_rf"
   ]
  },
  {
   "cell_type": "code",
   "execution_count": 77,
   "metadata": {
    "scrolled": false
   },
   "outputs": [
    {
     "data": {
      "text/plain": [
       "numpy.ndarray"
      ]
     },
     "execution_count": 77,
     "metadata": {},
     "output_type": "execute_result"
    }
   ],
   "source": [
    "type(probs_rf)"
   ]
  },
  {
   "cell_type": "code",
   "execution_count": 99,
   "metadata": {},
   "outputs": [],
   "source": [
    "def confianca_media(array):\n",
    "    n = len(array)\n",
    "    return sum(np.amax(array, axis = 1))/n"
   ]
  },
  {
   "cell_type": "code",
   "execution_count": 100,
   "metadata": {},
   "outputs": [
    {
     "data": {
      "text/plain": [
       "0.8912838646805208"
      ]
     },
     "execution_count": 100,
     "metadata": {},
     "output_type": "execute_result"
    }
   ],
   "source": [
    "confianca_media(probs_rf)"
   ]
  },
  {
   "cell_type": "code",
   "execution_count": 101,
   "metadata": {},
   "outputs": [
    {
     "data": {
      "text/plain": [
       "0.9997485639088219"
      ]
     },
     "execution_count": 101,
     "metadata": {},
     "output_type": "execute_result"
    }
   ],
   "source": [
    "confianca_media(probs_dt)"
   ]
  },
  {
   "cell_type": "code",
   "execution_count": 102,
   "metadata": {},
   "outputs": [
    {
     "data": {
      "text/plain": [
       "0.8019762430996443"
      ]
     },
     "execution_count": 102,
     "metadata": {},
     "output_type": "execute_result"
    }
   ],
   "source": [
    "confianca_media(probs_sgd)"
   ]
  },
  {
   "cell_type": "markdown",
   "metadata": {},
   "source": [
    "### Confiança por tipo de ato"
   ]
  },
  {
   "cell_type": "code",
   "execution_count": 105,
   "metadata": {
    "scrolled": false
   },
   "outputs": [
    {
     "data": {
      "text/plain": [
       "array(['Ato_Abono_Permanencia', 'Ato_Aposentadoria', 'Ato_Cessao',\n",
       "       'Ato_Exoneracao_Comissionado', 'Ato_Exoneracao_Efetivo',\n",
       "       'Ato_Nomeacao_Comissionado', 'Ato_Nomeacao_Efetivo',\n",
       "       'Ato_Retificacao_Efetivo', 'Ato_Reversao', 'Ato_Substituicao',\n",
       "       'Ato_Tornado_Sem_Efeito_Apo'], dtype=object)"
      ]
     },
     "execution_count": 105,
     "metadata": {},
     "output_type": "execute_result"
    }
   ],
   "source": [
    "atos = np.unique(y)\n",
    "atos"
   ]
  },
  {
   "cell_type": "code",
   "execution_count": 111,
   "metadata": {},
   "outputs": [],
   "source": [
    "probs_rf = {}\n",
    "probs_dt = {}\n",
    "probs_sgd = {}"
   ]
  },
  {
   "cell_type": "code",
   "execution_count": 112,
   "metadata": {
    "scrolled": false
   },
   "outputs": [],
   "source": [
    "for ato in atos:    \n",
    "    lista = []\n",
    "    for i in range(0, len(y)):\n",
    "        label = y[i]\n",
    "        if label == ato:\n",
    "            lista.append(i)\n",
    "            \n",
    "    probs_rf_type = clf_rf.predict_proba(X[lista])\n",
    "    probs_dt_type = clf_dt.predict_proba(X[lista])\n",
    "    probs_sgd_type = clf_sgd.predict_proba(X[lista])\n",
    "    \n",
    "    probs_rf[ato] = confianca_media(probs_rf_type)\n",
    "    probs_dt[ato] = confianca_media(probs_dt_type)\n",
    "    probs_sgd[ato] = confianca_media(probs_sgd_type)"
   ]
  },
  {
   "cell_type": "code",
   "execution_count": 119,
   "metadata": {},
   "outputs": [],
   "source": [
    "probs_rf = dict(sorted(probs_rf.items(), key=lambda item: item[1], reverse = True))\n",
    "probs_dt = dict(sorted(probs_dt.items(), key=lambda item: item[1], reverse = True))\n",
    "probs_sgd = dict(sorted(probs_sgd.items(), key=lambda item: item[1], reverse = True))"
   ]
  },
  {
   "cell_type": "code",
   "execution_count": 127,
   "metadata": {
    "scrolled": false
   },
   "outputs": [
    {
     "name": "stdout",
     "output_type": "stream",
     "text": [
      "Ato_Exoneracao_Efetivo: 0.960\n",
      "Ato_Nomeacao_Comissionado: 0.956\n",
      "Ato_Aposentadoria: 0.950\n",
      "Ato_Exoneracao_Comissionado: 0.921\n",
      "Ato_Substituicao: 0.847\n",
      "Ato_Reversao: 0.836\n",
      "Ato_Retificacao_Efetivo: 0.825\n",
      "Ato_Cessao: 0.617\n",
      "Ato_Nomeacao_Efetivo: 0.581\n",
      "Ato_Tornado_Sem_Efeito_Apo: 0.430\n",
      "Ato_Abono_Permanencia: 0.398\n"
     ]
    }
   ],
   "source": [
    "for ato in probs_rf:\n",
    "    print('%s: %.3f' %(ato, probs_rf[ato]))"
   ]
  },
  {
   "cell_type": "code",
   "execution_count": 128,
   "metadata": {},
   "outputs": [
    {
     "name": "stdout",
     "output_type": "stream",
     "text": [
      "Ato_Abono_Permanencia: 1.000\n",
      "Ato_Aposentadoria: 1.000\n",
      "Ato_Cessao: 1.000\n",
      "Ato_Exoneracao_Comissionado: 1.000\n",
      "Ato_Exoneracao_Efetivo: 1.000\n",
      "Ato_Nomeacao_Efetivo: 1.000\n",
      "Ato_Retificacao_Efetivo: 1.000\n",
      "Ato_Reversao: 1.000\n",
      "Ato_Substituicao: 1.000\n",
      "Ato_Tornado_Sem_Efeito_Apo: 1.000\n",
      "Ato_Nomeacao_Comissionado: 0.999\n"
     ]
    }
   ],
   "source": [
    "for ato in probs_dt:\n",
    "    print('%s: %.3f' %(ato, probs_dt[ato]))"
   ]
  },
  {
   "cell_type": "code",
   "execution_count": 129,
   "metadata": {},
   "outputs": [
    {
     "name": "stdout",
     "output_type": "stream",
     "text": [
      "Ato_Aposentadoria: 0.970\n",
      "Ato_Nomeacao_Comissionado: 0.930\n",
      "Ato_Exoneracao_Efetivo: 0.917\n",
      "Ato_Cessao: 0.901\n",
      "Ato_Exoneracao_Comissionado: 0.882\n",
      "Ato_Reversao: 0.847\n",
      "Ato_Retificacao_Efetivo: 0.845\n",
      "Ato_Nomeacao_Efetivo: 0.725\n",
      "Ato_Substituicao: 0.651\n",
      "Ato_Tornado_Sem_Efeito_Apo: 0.590\n",
      "Ato_Abono_Permanencia: 0.556\n"
     ]
    }
   ],
   "source": [
    "for ato in probs_sgd:\n",
    "    print('%s: %.3f' %(ato, probs_sgd[ato]))"
   ]
  },
  {
   "cell_type": "code",
   "execution_count": null,
   "metadata": {},
   "outputs": [],
   "source": []
  }
 ],
 "metadata": {
  "kernelspec": {
   "display_name": "Python 3",
   "language": "python",
   "name": "python3"
  },
  "language_info": {
   "codemirror_mode": {
    "name": "ipython",
    "version": 3
   },
   "file_extension": ".py",
   "mimetype": "text/x-python",
   "name": "python",
   "nbconvert_exporter": "python",
   "pygments_lexer": "ipython3",
   "version": "3.8.5"
  }
 },
 "nbformat": 4,
 "nbformat_minor": 4
}
