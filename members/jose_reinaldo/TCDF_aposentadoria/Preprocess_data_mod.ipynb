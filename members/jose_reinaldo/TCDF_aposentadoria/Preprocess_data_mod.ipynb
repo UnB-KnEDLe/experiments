{
 "cells": [
  {
   "cell_type": "markdown",
   "metadata": {},
   "source": [
    "# Notacao IOB para NER (preprocess 2/2)\n",
    "\n",
    "Notebook para incluir labels de entidades no esquema IOB para cada trecho de texto extraido em extract_text.ipynb"
   ]
  },
  {
   "cell_type": "code",
   "execution_count": 1,
   "metadata": {},
   "outputs": [],
   "source": [
    "import pandas as pd\n",
    "import re\n",
    "import string"
   ]
  },
  {
   "cell_type": "markdown",
   "metadata": {},
   "source": [
    "## Parte 1 - Carregamento dos dados"
   ]
  },
  {
   "cell_type": "code",
   "execution_count": 2,
   "metadata": {},
   "outputs": [],
   "source": [
    "# data = pd.read_csv(\"verif_data.csv\")\n",
    "data = pd.read_csv(\"verif_dataV1.csv\")\n",
    "data['labels'] = \"\""
   ]
  },
  {
   "cell_type": "code",
   "execution_count": 3,
   "metadata": {},
   "outputs": [
    {
     "data": {
      "text/plain": [
       "Index(['REF_ANOMES', 'DATA_DODF', 'NUM_DODF', 'PAGINA_DODF', 'TIPO_DODF',\n",
       "       'ATO', 'COD_EMPRESA', 'EMPRESA_ATO', 'COD_MATRICULA_ATO',\n",
       "       'COD_MATRICULA_SIGRH', 'CPF', 'NOME_ATO', 'NOME_SIGRH', 'CARGO',\n",
       "       'CLASSE', 'PADRAO', 'QUADRO', 'PROCESSO', 'FUND_LEGAL', 'text',\n",
       "       'labels'],\n",
       "      dtype='object')"
      ]
     },
     "execution_count": 3,
     "metadata": {},
     "output_type": "execute_result"
    }
   ],
   "source": [
    "data.columns"
   ]
  },
  {
   "cell_type": "markdown",
   "metadata": {},
   "source": [
    "Colunas a serem utilizadas: 'ATO', 'EMPRESA_ATO', 'COD_MATRICULA_ATO', 'CPF', 'NOME_ATO', 'CARGO', 'CLASSE',                                   'PADRAO', 'QUADRO', 'PROCESSO', 'FUND_LEGAL'\n",
    "\n",
    "Colunas descartadas: 'Unnamed: 0', 'REF_ANOMES', 'DATA_DODF', 'NUM_DODF', 'PAGINA_DODF',\n",
    "       'TIPO_DODF', 'COD_EMPRESA', 'COD_MATRICULA_SIGRH', 'NOME_SIGRH'"
   ]
  },
  {
   "cell_type": "code",
   "execution_count": 4,
   "metadata": {},
   "outputs": [],
   "source": [
    "data = data.drop(columns=[ \n",
    "    'REF_ANOMES', \n",
    "    'DATA_DODF', \n",
    "    'NUM_DODF', \n",
    "    'PAGINA_DODF', \n",
    "    'TIPO_DODF', \n",
    "    'COD_EMPRESA', \n",
    "    'COD_MATRICULA_SIGRH', \n",
    "    'NOME_SIGRH'\n",
    "])"
   ]
  },
  {
   "cell_type": "code",
   "execution_count": 5,
   "metadata": {},
   "outputs": [
    {
     "data": {
      "text/plain": [
       "Index(['ATO', 'EMPRESA_ATO', 'COD_MATRICULA_ATO', 'CPF', 'NOME_ATO', 'CARGO',\n",
       "       'CLASSE', 'PADRAO', 'QUADRO', 'PROCESSO', 'FUND_LEGAL', 'text',\n",
       "       'labels'],\n",
       "      dtype='object')"
      ]
     },
     "execution_count": 5,
     "metadata": {},
     "output_type": "execute_result"
    }
   ],
   "source": [
    "data.columns"
   ]
  },
  {
   "cell_type": "code",
   "execution_count": 6,
   "metadata": {},
   "outputs": [],
   "source": [
    "# print(data['FUND_LEGAL'][0], '\\n\\n')\n",
    "\n",
    "# for row in range(len(data)):\n",
    "#     for col in data.drop(columns=['text', 'labels']).columns:\n",
    "#         if pd.notna(data[col][row]):\n",
    "#             data[col][row] = str(data.loc[row][col]).replace('º', 'o')\n",
    "# #             t.replace('º', 'o')\n",
    "# #             data[col][row] = t\n",
    "\n",
    "# for row in range(len(data)):\n",
    "#     for col in data.drop(columns=['text', 'labels']).columns:\n",
    "#         if pd.notna(data[col][row]):\n",
    "#             if 'º' in str(data[col][row]):\n",
    "#                 print(row, col)\n",
    "\n",
    "# print(data['FUND_LEGAL'][0])"
   ]
  },
  {
   "cell_type": "code",
   "execution_count": 7,
   "metadata": {},
   "outputs": [
    {
     "name": "stdout",
     "output_type": "stream",
     "text": [
      "CPU times: user 46.8 ms, sys: 1.51 ms, total: 48.3 ms\n",
      "Wall time: 46 ms\n"
     ]
    },
    {
     "data": {
      "text/html": [
       "<div>\n",
       "<style scoped>\n",
       "    .dataframe tbody tr th:only-of-type {\n",
       "        vertical-align: middle;\n",
       "    }\n",
       "\n",
       "    .dataframe tbody tr th {\n",
       "        vertical-align: top;\n",
       "    }\n",
       "\n",
       "    .dataframe thead th {\n",
       "        text-align: right;\n",
       "    }\n",
       "</style>\n",
       "<table border=\"1\" class=\"dataframe\">\n",
       "  <thead>\n",
       "    <tr style=\"text-align: right;\">\n",
       "      <th></th>\n",
       "      <th>CPF</th>\n",
       "      <th>ATO</th>\n",
       "      <th>EMPRESA_ATO</th>\n",
       "      <th>COD_MATRICULA_ATO</th>\n",
       "      <th>NOME_ATO</th>\n",
       "      <th>CARGO</th>\n",
       "      <th>CLASSE</th>\n",
       "      <th>PADRAO</th>\n",
       "      <th>QUADRO</th>\n",
       "      <th>PROCESSO</th>\n",
       "      <th>FUND_LEGAL</th>\n",
       "      <th>text</th>\n",
       "      <th>labels</th>\n",
       "    </tr>\n",
       "  </thead>\n",
       "  <tbody>\n",
       "    <tr>\n",
       "      <th>0</th>\n",
       "      <td>36868604149</td>\n",
       "      <td>CONCEDER APOSENTADORIA</td>\n",
       "      <td>SECRETARIA DE ESTADO DE PLANEJAMENTO, ORCAMENT...</td>\n",
       "      <td>00317276</td>\n",
       "      <td>MARIA DE JESUS BARBOSA SANTOS</td>\n",
       "      <td>ANALISTA EM POLITICAS PUBLICAS E GESTAO GOVERN...</td>\n",
       "      <td>CLASSE ESPECIAL</td>\n",
       "      <td>PADRAO V</td>\n",
       "      <td>QUADRO DE PESSOAL DO DISTRITO FEDERAL</td>\n",
       "      <td>00410-00015650/2018-74</td>\n",
       "      <td>NOS TERMOS DO ARTIGO 3o, INCISOS I, II E III, ...</td>\n",
       "      <td>CONCEDER, aposentadoria voluntaria integral, a...</td>\n",
       "      <td></td>\n",
       "    </tr>\n",
       "  </tbody>\n",
       "</table>\n",
       "</div>"
      ],
      "text/plain": [
       "           CPF                     ATO  \\\n",
       "0  36868604149  CONCEDER APOSENTADORIA   \n",
       "\n",
       "                                         EMPRESA_ATO COD_MATRICULA_ATO  \\\n",
       "0  SECRETARIA DE ESTADO DE PLANEJAMENTO, ORCAMENT...          00317276   \n",
       "\n",
       "                        NOME_ATO  \\\n",
       "0  MARIA DE JESUS BARBOSA SANTOS   \n",
       "\n",
       "                                               CARGO           CLASSE  \\\n",
       "0  ANALISTA EM POLITICAS PUBLICAS E GESTAO GOVERN...  CLASSE ESPECIAL   \n",
       "\n",
       "     PADRAO                                 QUADRO                PROCESSO  \\\n",
       "0  PADRAO V  QUADRO DE PESSOAL DO DISTRITO FEDERAL  00410-00015650/2018-74   \n",
       "\n",
       "                                          FUND_LEGAL  \\\n",
       "0  NOS TERMOS DO ARTIGO 3o, INCISOS I, II E III, ...   \n",
       "\n",
       "                                                text labels  \n",
       "0  CONCEDER, aposentadoria voluntaria integral, a...         "
      ]
     },
     "execution_count": 7,
     "metadata": {},
     "output_type": "execute_result"
    }
   ],
   "source": [
    "%%time\n",
    "d = data.select_dtypes('object').copy()\n",
    "d.fillna('nan', inplace=True)\n",
    "\n",
    "d=d.applymap(\n",
    "    lambda x: x.replace('º', 'o')\n",
    ")\n",
    "scalar = data.select_dtypes(exclude='object').copy()\n",
    "d = scalar.join(d)\n",
    "d.head(1)"
   ]
  },
  {
   "cell_type": "markdown",
   "metadata": {},
   "source": [
    "## Parte 2 - Funcoes para identificar entidades e anotar no padrao IOB"
   ]
  },
  {
   "cell_type": "code",
   "execution_count": 8,
   "metadata": {},
   "outputs": [],
   "source": [
    "# Creates regex for the entity in data[col][idx]\n",
    "def get_regex(data, col, idx):\n",
    "    entity = str(data[col][idx])\n",
    "    re_entity = \"\"\n",
    "    if col == \"COD_MATRICULA_ATO\":\n",
    "        while entity[0] == '0':\n",
    "            entity = entity[1:]\n",
    "        re_entity += '[0oO]*?'\n",
    "    for i in entity:\n",
    "        if (i >= 'a' and i <= 'z') or (i>='A' and i<='Z'):\n",
    "            re_entity += f\"[{i.lower()}{i.upper()}]\" + \"[-,.\\s]*?\"\n",
    "        else:\n",
    "            re_entity += i + \"[-,.\\s]*?\"\n",
    "    return re_entity\n",
    "\n",
    "def get_regex_fast(s, col):\n",
    "    entity = str(s)\n",
    "    re_entity = \"\"\n",
    "    if col == \"COD_MATRICULA_ATO\":\n",
    "        entity = entity.lstrip('0')\n",
    "        re_entity = '[0oO]*?'            \n",
    "    re_entity += '(?i:{})'.format(\n",
    "        \"[-,.\\s]*?\".join(list(entity)+[''])\n",
    "    )\n",
    "    return re_entity\n"
   ]
  },
  {
   "cell_type": "code",
   "execution_count": 9,
   "metadata": {},
   "outputs": [],
   "source": [
    "def IOBify_text(text, entities):\n",
    "    labels = [\"O\" for _ in range(len(text.split()))]\n",
    "    word_start_position = []\n",
    "    number_of_word = []\n",
    "    for i in range(len(text)):\n",
    "        if (i == 0):\n",
    "            if (text[i] == ' '):\n",
    "                continue\n",
    "            else:\n",
    "                number_of_word.append(len(word_start_position))\n",
    "                word_start_position.append(i)\n",
    "        elif text[i] != ' ' and text[i-1] == ' ':\n",
    "            number_of_word.append(len(word_start_position))\n",
    "            word_start_position.append(i)\n",
    "    i = 0\n",
    "    for entity in entities:\n",
    "        entity_begin = entity_end = -1\n",
    "        # Find initial position of entity\n",
    "        if entity[0] in word_start_position:\n",
    "            entity_begin = word_start_position.index(entity[0])\n",
    "        # Find final position of entity\n",
    "        for pos, idx in zip(word_start_position, number_of_word):\n",
    "            if pos > entity[1]:\n",
    "                entity_end = idx-1\n",
    "                break\n",
    "        if entity_end == -1:\n",
    "            entity_end = number_of_word[-1]\n",
    "            \n",
    "        if entity_begin != -1:\n",
    "            for i in range(entity_begin, entity_end+1):\n",
    "                if i==entity_begin:\n",
    "                    labels[i] = \"B-\"+entity[2]\n",
    "                else:\n",
    "                    labels[i] = \"I-\"+entity[2]\n",
    "    return labels\n",
    "                \n",
    "found_entities  = {col: 0 for col in data.drop(columns=['text', 'labels']).columns}\n",
    "missed_entities = {col: [0, []] for col in data.drop(columns=['text', 'labels']).columns}\n",
    "\n",
    "def find_entities(data, idx):\n",
    "    list_entities = []\n",
    "    for col in data.drop(columns=['text', 'labels']).columns:\n",
    "        if pd.notna(data[col][idx]):\n",
    "            re_entity = get_regex(data, col, idx)\n",
    "            aux = re.search(re_entity, data['text'][idx])\n",
    "            if aux:\n",
    "                found_entities[col]  += 1\n",
    "                list_entities.append([aux.span()[0], aux.span()[1], col])\n",
    "            else:\n",
    "                missed_entities[col][0] += 1\n",
    "                missed_entities[col][1].append(idx)\n",
    "    return list_entities\n",
    "\n",
    "def find_entities_fast(data, idx):\n",
    "    list_entities = []\n",
    "    for col in data.drop(columns=['text', 'labels']).columns:\n",
    "        if pd.notna(data[col][idx]):\n",
    "            re_entity = get_regex_fast(data[col][idx], col)\n",
    "            aux = re.search(re_entity, data['text'][idx])\n",
    "            if aux:\n",
    "                found_entities[col]  += 1\n",
    "                list_entities.append([aux.span()[0], aux.span()[1], col])\n",
    "            else:\n",
    "                missed_entities[col][0] += 1\n",
    "                missed_entities[col][1].append(idx)\n",
    "    return list_entities\n"
   ]
  },
  {
   "cell_type": "markdown",
   "metadata": {},
   "source": [
    "## Parte 3 - Identificando entidades e anotando-as"
   ]
  },
  {
   "cell_type": "code",
   "execution_count": 10,
   "metadata": {},
   "outputs": [
    {
     "name": "stderr",
     "output_type": "stream",
     "text": [
      "<timed exec>:11: SettingWithCopyWarning: \n",
      "A value is trying to be set on a copy of a slice from a DataFrame\n",
      "\n",
      "See the caveats in the documentation: https://pandas.pydata.org/pandas-docs/stable/user_guide/indexing.html#returning-a-view-versus-a-copy\n"
     ]
    },
    {
     "name": "stdout",
     "output_type": "stream",
     "text": [
      "Found ATO: 5165 \t\t Missed ATO: 2\n",
      "Found EMPRESA_ATO: 2204 \t\t Missed EMPRESA_ATO: 2963\n",
      "Found COD_MATRICULA_ATO: 5155 \t\t Missed COD_MATRICULA_ATO: 12\n",
      "Found CPF: 0 \t\t Missed CPF: 5167\n",
      "Found NOME_ATO: 5157 \t\t Missed NOME_ATO: 10\n",
      "Found CARGO: 5160 \t\t Missed CARGO: 6\n",
      "Found CLASSE: 2381 \t\t Missed CLASSE: 39\n",
      "Found PADRAO: 4871 \t\t Missed PADRAO: 6\n",
      "Found QUADRO: 4903 \t\t Missed QUADRO: 47\n",
      "Found PROCESSO: 5167 \t\t Missed PROCESSO: 0\n",
      "Found FUND_LEGAL: 0 \t\t Missed FUND_LEGAL: 5166\n",
      "CPU times: user 27.3 s, sys: 7.13 ms, total: 27.3 s\n",
      "Wall time: 27.3 s\n"
     ]
    }
   ],
   "source": [
    "%%time\n",
    "for row in range(len(data)):\n",
    "    if row == 455 or row == 3372:\n",
    "        continue\n",
    "    if pd.notna(data['text'][row]):\n",
    "        entities = find_entities_fast(data, row)\n",
    "        entities.sort()\n",
    "        labels = IOBify_text(data['text'][row], entities)\n",
    "        s = \"\"\n",
    "        for l in labels:\n",
    "            s += l + ' '\n",
    "        data['labels'][row] = s\n",
    "#         data.loc['labels', row] = s\n",
    "        \n",
    "for col in found_entities:\n",
    "    print(f\"Found {col}: {found_entities[col]}\", f\"\\t\\t Missed {col}: {missed_entities[col][0]}\")"
   ]
  },
  {
   "cell_type": "code",
   "execution_count": 11,
   "metadata": {},
   "outputs": [
    {
     "name": "stderr",
     "output_type": "stream",
     "text": [
      "<timed exec>:11: SettingWithCopyWarning: \n",
      "A value is trying to be set on a copy of a slice from a DataFrame\n",
      "\n",
      "See the caveats in the documentation: https://pandas.pydata.org/pandas-docs/stable/user_guide/indexing.html#returning-a-view-versus-a-copy\n"
     ]
    },
    {
     "name": "stdout",
     "output_type": "stream",
     "text": [
      "Found ATO: 10330 \t\t Missed ATO: 4\n",
      "Found EMPRESA_ATO: 4408 \t\t Missed EMPRESA_ATO: 5926\n",
      "Found COD_MATRICULA_ATO: 10310 \t\t Missed COD_MATRICULA_ATO: 24\n",
      "Found CPF: 0 \t\t Missed CPF: 10334\n",
      "Found NOME_ATO: 10314 \t\t Missed NOME_ATO: 20\n",
      "Found CARGO: 10320 \t\t Missed CARGO: 12\n",
      "Found CLASSE: 4762 \t\t Missed CLASSE: 78\n",
      "Found PADRAO: 9742 \t\t Missed PADRAO: 12\n",
      "Found QUADRO: 9806 \t\t Missed QUADRO: 94\n",
      "Found PROCESSO: 10334 \t\t Missed PROCESSO: 0\n",
      "Found FUND_LEGAL: 0 \t\t Missed FUND_LEGAL: 10332\n",
      "CPU times: user 29.1 s, sys: 3.75 ms, total: 29.1 s\n",
      "Wall time: 29.1 s\n"
     ]
    }
   ],
   "source": [
    "%%time\n",
    "for row in range(len(data)):\n",
    "    if row == 455 or row == 3372:\n",
    "        continue\n",
    "    if pd.notna(data['text'][row]):\n",
    "        entities = find_entities(data, row)\n",
    "        entities.sort()\n",
    "        labels = IOBify_text(data['text'][row], entities)\n",
    "        s = \"\"\n",
    "        for l in labels:\n",
    "            s += l + ' '\n",
    "        data['labels'][row] = s\n",
    "#         data.loc['labels', row] = s\n",
    "        \n",
    "for col in found_entities:\n",
    "    print(f\"Found {col}: {found_entities[col]}\", f\"\\t\\t Missed {col}: {missed_entities[col][0]}\")"
   ]
  },
  {
   "cell_type": "code",
   "execution_count": 12,
   "metadata": {},
   "outputs": [
    {
     "data": {
      "text/plain": [
       "0    True\n",
       "Name: text, dtype: bool"
      ]
     },
     "execution_count": 12,
     "metadata": {},
     "output_type": "execute_result"
    }
   ],
   "source": [
    "msk=data.loc[:, 'text'].notna()\n",
    "msk.head(1)"
   ]
  },
  {
   "cell_type": "code",
   "execution_count": 13,
   "metadata": {},
   "outputs": [],
   "source": [
    "# data.text.map(str.lower, na_action='ignore')"
   ]
  },
  {
   "cell_type": "code",
   "execution_count": 14,
   "metadata": {},
   "outputs": [
    {
     "data": {
      "text/plain": [
       "0       SECRETARIA DE ESTADO DE PLANEJAMENTO, ORCAMENT...\n",
       "1       SECRETARIA DE ESTADO DO TRABALHO, DESENVOLVIME...\n",
       "2           SERVICO DE LIMPEZA URBANA DO DISTRITO FEDERAL\n",
       "3       SECRETARIA DE ESTADO DO TRABALHO, DESENVOLVIME...\n",
       "4       SECRETARIA DE ESTADO DE PLANEJAMENTO, ORCAMENT...\n",
       "                              ...                        \n",
       "5511                        SECRETARIA DE ESTADO DE SAUDE\n",
       "5512                        SECRETARIA DE ESTADO DE SAUDE\n",
       "5513                        SECRETARIA DE ESTADO DE SAUDE\n",
       "5514                        SECRETARIA DE ESTADO DE SAUDE\n",
       "5515                        SECRETARIA DE ESTADO DE SAUDE\n",
       "Length: 5516, dtype: object"
      ]
     },
     "execution_count": 14,
     "metadata": {},
     "output_type": "execute_result"
    }
   ],
   "source": [
    "data.apply(lambda x: x[1], axis=1, raw=True)"
   ]
  },
  {
   "cell_type": "code",
   "execution_count": 15,
   "metadata": {},
   "outputs": [
    {
     "data": {
      "text/html": [
       "<div>\n",
       "<style scoped>\n",
       "    .dataframe tbody tr th:only-of-type {\n",
       "        vertical-align: middle;\n",
       "    }\n",
       "\n",
       "    .dataframe tbody tr th {\n",
       "        vertical-align: top;\n",
       "    }\n",
       "\n",
       "    .dataframe thead th {\n",
       "        text-align: right;\n",
       "    }\n",
       "</style>\n",
       "<table border=\"1\" class=\"dataframe\">\n",
       "  <thead>\n",
       "    <tr style=\"text-align: right;\">\n",
       "      <th></th>\n",
       "      <th>ATO</th>\n",
       "      <th>EMPRESA_ATO</th>\n",
       "      <th>COD_MATRICULA_ATO</th>\n",
       "      <th>CPF</th>\n",
       "      <th>NOME_ATO</th>\n",
       "      <th>CARGO</th>\n",
       "      <th>CLASSE</th>\n",
       "      <th>PADRAO</th>\n",
       "      <th>QUADRO</th>\n",
       "      <th>PROCESSO</th>\n",
       "      <th>FUND_LEGAL</th>\n",
       "      <th>text</th>\n",
       "      <th>labels</th>\n",
       "    </tr>\n",
       "  </thead>\n",
       "  <tbody>\n",
       "    <tr>\n",
       "      <th>0</th>\n",
       "      <td>CONCEDER APOSENTADORIA</td>\n",
       "      <td>SECRETARIA DE ESTADO DE PLANEJAMENTO, ORCAMENT...</td>\n",
       "      <td>00317276</td>\n",
       "      <td>36868604149</td>\n",
       "      <td>MARIA DE JESUS BARBOSA SANTOS</td>\n",
       "      <td>ANALISTA EM POLITICAS PUBLICAS E GESTAO GOVERN...</td>\n",
       "      <td>CLASSE ESPECIAL</td>\n",
       "      <td>PADRAO V</td>\n",
       "      <td>QUADRO DE PESSOAL DO DISTRITO FEDERAL</td>\n",
       "      <td>00410-00015650/2018-74</td>\n",
       "      <td>NOS TERMOS DO ARTIGO 3º, INCISOS I, II E III, ...</td>\n",
       "      <td>CONCEDER, aposentadoria voluntaria integral, a...</td>\n",
       "      <td>B-ATO I-ATO O O O O B-NOME_ATO I-NOME_ATO I-NO...</td>\n",
       "    </tr>\n",
       "  </tbody>\n",
       "</table>\n",
       "</div>"
      ],
      "text/plain": [
       "                      ATO                                        EMPRESA_ATO  \\\n",
       "0  CONCEDER APOSENTADORIA  SECRETARIA DE ESTADO DE PLANEJAMENTO, ORCAMENT...   \n",
       "\n",
       "  COD_MATRICULA_ATO          CPF                       NOME_ATO  \\\n",
       "0          00317276  36868604149  MARIA DE JESUS BARBOSA SANTOS   \n",
       "\n",
       "                                               CARGO           CLASSE  \\\n",
       "0  ANALISTA EM POLITICAS PUBLICAS E GESTAO GOVERN...  CLASSE ESPECIAL   \n",
       "\n",
       "     PADRAO                                 QUADRO                PROCESSO  \\\n",
       "0  PADRAO V  QUADRO DE PESSOAL DO DISTRITO FEDERAL  00410-00015650/2018-74   \n",
       "\n",
       "                                          FUND_LEGAL  \\\n",
       "0  NOS TERMOS DO ARTIGO 3º, INCISOS I, II E III, ...   \n",
       "\n",
       "                                                text  \\\n",
       "0  CONCEDER, aposentadoria voluntaria integral, a...   \n",
       "\n",
       "                                              labels  \n",
       "0  B-ATO I-ATO O O O O B-NOME_ATO I-NOME_ATO I-NO...  "
      ]
     },
     "execution_count": 15,
     "metadata": {},
     "output_type": "execute_result"
    }
   ],
   "source": [
    "data.head(1)"
   ]
  },
  {
   "cell_type": "markdown",
   "metadata": {},
   "source": [
    "## Parte 4 - Corrigindo entidades nao identificadas"
   ]
  },
  {
   "cell_type": "code",
   "execution_count": 16,
   "metadata": {},
   "outputs": [],
   "source": [
    "# Carregamento dos dados originais anotados\n",
    "data_og = pd.read_csv('TCDF_data/Atos_Aposentadoria_validados.csv')"
   ]
  },
  {
   "cell_type": "code",
   "execution_count": 17,
   "metadata": {},
   "outputs": [
    {
     "name": "stdout",
     "output_type": "stream",
     "text": [
      "Entidades nao identificadas e as linhas do dataframe em que elas aparecem:\n",
      "\n",
      "Col:ATO -> [3846, 4416, 3846, 4416]\n",
      "Col:COD_MATRICULA_ATO -> [138, 422, 481, 506, 537, 571, 719, 761, 3199, 3610, 4449, 5512, 138, 422, 481, 506, 537, 571, 719, 761, 3199, 3610, 4449, 5512]\n",
      "Col:NOME_ATO -> [201, 481, 571, 604, 2763, 5199, 5229, 5310, 5427, 5512, 201, 481, 571, 604, 2763, 5199, 5229, 5310, 5427, 5512]\n",
      "Col:CARGO -> [138, 506, 571, 719, 4141, 5512, 138, 506, 571, 719, 4141, 5512]\n",
      "Col:CLASSE -> [4, 13, 37, 59, 138, 506, 571, 947, 954, 1205, 1448, 1449, 1464, 1466, 1937, 1958, 2170, 2193, 2298, 2616, 2785, 3340, 3964, 4141, 4148, 4161, 4264, 4365, 4426, 4520, 4840, 4842, 4998, 5171, 5252, 5273, 5274, 5278, 5512, 4, 13, 37, 59, 138, 506, 571, 947, 954, 1205, 1448, 1449, 1464, 1466, 1937, 1958, 2170, 2193, 2298, 2616, 2785, 3340, 3964, 4141, 4148, 4161, 4264, 4365, 4426, 4520, 4840, 4842, 4998, 5171, 5252, 5273, 5274, 5278, 5512]\n",
      "Col:PADRAO -> [138, 481, 571, 3199, 4449, 5512, 138, 481, 571, 3199, 4449, 5512]\n",
      "Col:QUADRO -> [104, 138, 269, 270, 271, 272, 273, 280, 282, 339, 526, 528, 529, 530, 531, 532, 571, 971, 975, 976, 977, 978, 980, 981, 983, 984, 985, 987, 988, 3850, 3855, 3927, 4474, 4496, 4505, 4509, 4527, 4529, 4531, 4532, 4533, 4545, 4550, 4571, 5476, 5477, 5512, 104, 138, 269, 270, 271, 272, 273, 280, 282, 339, 526, 528, 529, 530, 531, 532, 571, 971, 975, 976, 977, 978, 980, 981, 983, 984, 985, 987, 988, 3850, 3855, 3927, 4474, 4496, 4505, 4509, 4527, 4529, 4531, 4532, 4533, 4545, 4550, 4571, 5476, 5477, 5512]\n",
      "Col:PROCESSO -> []\n"
     ]
    }
   ],
   "source": [
    "print(\"Entidades nao identificadas e as linhas do dataframe em que elas aparecem:\\n\")\n",
    "for col in data.drop(columns=['text', 'labels']).columns:\n",
    "    if len(missed_entities[col][1]) <= 100:\n",
    "        print(f\"Col:{col} -> {missed_entities[col][1]}\") "
   ]
  },
  {
   "cell_type": "code",
   "execution_count": 18,
   "metadata": {},
   "outputs": [
    {
     "name": "stdout",
     "output_type": "stream",
     "text": [
      "DINA MARIA PIRES DE MIRANDA ||| 0025293X ||| 0025293X ||| 00361.00004000/201835 ||| 68 ||| 10/04/2018\n",
      "CLASSE ESPECIAL ||| PADRAO V ||| QUADRO DE PESSOAL DO DISTRITO FEDERAL\n",
      "\n",
      "CONCEDER Aposentadoria a DINA MARIA PIRES DE MIRANDA, matricula 25.293-X, no cargo de Auditor Fiscal de Atividades Urbanas, Classe Especial, Padrao V, do Quadro de Diario Oficial do Distrito Federal No 68, terca-feira, 10 de abril de 2018 PAGINA 20 Este documento pode ser verificado no endereco eletronico http://www.in.gov.br/autenticidade.html , pelo codigo 50012018041000020 Documento assinado digitalmente conforme MP n 2.200-2 de 24/08/2001, que institui a Infraestrutura de Chaves Publicas Brasileira - ICP-Brasil. Pessoal do Distrito Federal, nos termos do artigo 3o, incisos I, II, III, paragrafo unico da Emenda Constitucional no 47, de 06 de julho de 2005, combinado com o artigo 44, da Lei Complementar no 769, de 30 de junho de 2008. Processo SEI n o 00361.00004000/2018- 35\n"
     ]
    }
   ],
   "source": [
    "row = 104\n",
    "print(data['NOME_ATO'][row], \"|||\", data['COD_MATRICULA_ATO'][row], \"|||\", data_og['COD_MATRICULA_SIGRH'][row], \"|||\", data['PROCESSO'][row], \"|||\", data_og['NUM_DODF'][row], \"|||\", data_og['DATA_DODF'][row])\n",
    "print(data['CLASSE'][row], \"|||\", data['PADRAO'][row], \"|||\", data['QUADRO'][row])\n",
    "print()\n",
    "print(data['text'][row])"
   ]
  },
  {
   "cell_type": "markdown",
   "metadata": {},
   "source": [
    "### Correcao manual de trechos de texto identificados erroneamente\n",
    "\n",
    "Trechos de texto que nao condizem com as entidades anotadas sao corrigidos aqui"
   ]
  },
  {
   "cell_type": "code",
   "execution_count": 19,
   "metadata": {},
   "outputs": [],
   "source": [
    "# Matricula(DONE) | NOME(DONE) | CARGO(DONE) | CLASSE(DONE) | PADRAO(DONE) | QUADRO() | \n",
    "\n",
    "# Fix row 138\n",
    "data.loc['text', 138] = \"CONCEDER aposentadoria voluntaria com proventos integrais a servidora a seguir nominada: MARIA AUXILIADORA PE- REIRA, matricula 101.008-5, processo SEI n 00070- 00011305/2018-23, no cargo de Au- xiliar de Desenvolvimento e Fiscalizacao Agropecuaria, Classe Unica, Padrao X, do Quadro de Pessoal do Distrito Federal, com fundamento no Art. 6, incisos I, II, III e IV, da EC n 41/ 2003, combinado com o artigo 2 da EC n 47/2005, c/c a Lei Complementar no 769/08.\"\n",
    "\n",
    "# Fix row 481\n",
    "data.loc['text', 481] = \"CONCEDER APOSENTADORIA a IZAAC NEWTON DA SILVA, matricula 38.950-1, no Cargo de Professor de Educacao Basica, Padrao 22, Etapa IV, do Quadro de Pessoal do Distrito Federal, nos termos do artigo 6o da Emenda Constitucional no 41, de 31 de dezembro de 2003, combinado com o artigo 2o da Emenda Constitucional no 47, de 06 de julho de 2005. Processo 00080-00033434/2017-54.\"\n",
    "\n",
    "# Fix row 506\n",
    "data.loc['text', 506] = \"CONCEDER aposentadoria voluntaria com proventos integrais ao servidor a seguir nominado: AMISAEL GONCALVES BI- NACETT, matricula 100.453-0, processo SEI n 00070-00013097/2018-05, no cargo de Auxiliar de Desenvolvimento e Fiscalizacao Agropecuaria, Classe Unica, Padrao X, do Quadro de Pessoal do Distrito Federal, com fundamento no Art. 3, incisos I, II, III e paragrafo unico da EC no 47/2005, c/c a LC no 769/2008.\"\n",
    "data.loc['PROCESSO', 506] = \"00070-00013097/2018-05\"\n",
    "data.loc['CARGO', 506] = \"Auxiliar de Desenvolvimento e Fiscalizacao Agropecuaria\"\n",
    "\n",
    "# Fix row 537\n",
    "data.loc['text', 506] = \"CONCEDER APOSENTADORIA a VERA LUCIA FERREIRA DE SOUSA, matricula 40.787-9, no Cargo de Agente de Gestao Educacional/Servicos Gerais, Nivel 10, Padrao 02, Etapa III, do Quadro de Pessoal do Distrito Federal, nos termos do artigo 3o da Emenda Constitucional no 47, de 06 de julho de 2005 e o Paragrafo unico do mesmo artigo. Processo 0 0 0 8 0 - 0 0 0 0 3 4 3 2 / 2 0 1 8 - 11 .\"\n",
    "data.loc['PROCESSO', 506] = \"0 0 0 8 0 - 0 0 0 0 3 4 3 2 / 2 0 1 8 - 11\"\n",
    "\n",
    "#Fix row 571\n",
    "data.loc['text', 571] = \"CONCEDER APOSENTADORIA, nos termos do artigo 6o da Emenda Constitucional no 41/2003, combinado com o artigo 2o da Emenda Constitucional no 47/2005, combinados com o artigo 43, da Lei Complementar no 769, de 30/06/2008, a MARIA DE LOURDES SOUSA, matricula no 0143048-3, na Carreira de Assistencia Publica a Saude, no Cargo de Tecnico em Saude - TEC. LAB. HEMAT. E HEMOT, Primeira Classe, Padrao II, do Quadro de Pessoal da Secretaria de Estado de Saude do Distrito Federal. Lotacao: ADMC. Processo no 00060- 00247085/2017-21.\"\n",
    "\n",
    "# Fix row 2763\n",
    "data.loc['text', 2763] = \"APOSENTAR MARIA ESTER BATISTA DE MEDEIROS, matricula 204.859-0, no Cargo de Professor de Educacao Basica, Padrao 19, Etapa IV, do Quadro de Pessoal do Distrito Federal, nos termos do artigo 40, 1o, inciso I, da Constituicao da Republica Federativa do Brasil, na redacao dada pela Emenda Constitucional no 41, de 31 de dezembro de 2003, combinado com o artigo 6o-A da Emenda Constitucional no 41, de 31 de dezembro de 2003, incluido pela Emenda Constitucional no 70, de 29 de marco de 2012. Processo 00040-00015628/2019-89.\"\n",
    "\n",
    "# Fix row 5512\n",
    "data.loc['text', 5512] = \"APOSENTAR, nos termos do artigo 6o da Emenda Constitucional no 41/2003, combinado com o artigo 2o da Emenda Constitucional no 47/2005, combinados com o artigo 43, da Lei Complementar no 769, de 30/06/2008, a MARIA DE LOURDES SOUSA, matricula no 0143048-3, na Carreira de Assistencia Publica a Saude, no Cargo de Tecnico em Saude - TEC. LAB. HEMAT. E HEMOT, Primeira Classe, Padrao II, do Quadro de Pessoal da Secretaria de Estado de Saude do Distrito Federal. Lotacao: ADMC. Processo no 00060- 00247085/2017-21.\"\n",
    "\n",
    "# Fix row "
   ]
  },
  {
   "cell_type": "markdown",
   "metadata": {},
   "source": [
    "### Correcao manual das entidades de MATRICULA\n",
    "\n",
    "utilizando as matriculas SIGRH quando matriculas ATO nao sao encontradas"
   ]
  },
  {
   "cell_type": "code",
   "execution_count": 20,
   "metadata": {},
   "outputs": [],
   "source": [
    "#Fix row 138\n",
    "data.loc['COD_MATRICULA_ATO', 138] = data_og.iloc[138]['COD_MATRICULA_SIGRH']\n",
    "\n",
    "#Fix row 422\n",
    "data.loc['COD_MATRICULA_ATO', 422] = data_og.iloc[422]['COD_MATRICULA_SIGRH']\n",
    "\n",
    "#Fix row 719\n",
    "data.loc['COD_MATRICULA_ATO', 719] = data_og.iloc[719]['COD_MATRICULA_SIGRH']\n",
    "\n",
    "# FIx row 761\n",
    "data.loc['COD_MATRICULA_ATO', 761] = data_og.iloc[761]['COD_MATRICULA_SIGRH']\n",
    "\n",
    "# Fix row 3199\n",
    "data.loc['COD_MATRICULA_ATO', 3199] = \"209.913-6\"\n",
    "\n",
    "# Fix row 3610\n",
    "data.loc['COD_MATRICULA_ATO', 3610] = data_og.iloc[3610]['COD_MATRICULA_SIGRH']\n",
    "\n",
    "# Fix row 4449\n",
    "data.loc['COD_MATRICULA_ATO', 4449] = \"42.299-1\""
   ]
  },
  {
   "cell_type": "markdown",
   "metadata": {},
   "source": [
    "### Correcao manual das entidades de NOME\n",
    "\n",
    "Diferenca no processamento de acentos e apostrofos entre o DODFminer e as anotacoes"
   ]
  },
  {
   "cell_type": "code",
   "execution_count": 21,
   "metadata": {},
   "outputs": [],
   "source": [
    "# Fix row 201\n",
    "data.loc['NOME_ATO', 201] = \"ROSELI DE MOURA GONZALES D ALMEIDA\"\n",
    "\n",
    "# Fix row 604\n",
    "data.loc['NOME_ATO', 604] = \"MARIA FLORA CALVINO MARQUES\"\n",
    "\n",
    "# Fix row 5199\n",
    "data.loc['NOME_ATO', 5199] = \"LORIVANDA D ABADIA DOS SANTOS\"\n",
    "\n",
    "# Fix row 5229\n",
    "data.loc['NOME_ATO', 5229] = \"ELZA LUCIA MENDES MUNIZ\"\n",
    "\n",
    "# Fix row 5310\n",
    "data.loc['NOME_ATO', 5310] = \"MARIA D ARC PEREIRA\"\n",
    "\n",
    "# Fix row 5427\n",
    "data.loc['NOME_ATO', 5427] = \"MARCIA CRISTINA TOMAZ MULLER\""
   ]
  },
  {
   "cell_type": "markdown",
   "metadata": {},
   "source": [
    "### Correcao manual das entidades de CARGO\n",
    "\n",
    "Algumas anotacoes erroneas (apresentadas abaixo)"
   ]
  },
  {
   "cell_type": "code",
   "execution_count": 22,
   "metadata": {},
   "outputs": [],
   "source": [
    "# Fix row 719\n",
    "data.loc['CARGO', 719] = \"agente de transito\"\n",
    "\n",
    "# Fix row 4141\n",
    "data.loc['CARGO', 4141] = \"Gestor em Politicas Publicas e Gestao Governamental\""
   ]
  },
  {
   "cell_type": "markdown",
   "metadata": {},
   "source": [
    "### Correcao manual das entidades de CLASSE\n",
    "\n",
    "Em grande parte diferenca entre numeros ordinais e suas escritas por extenso (1a classe == primeira classe)"
   ]
  },
  {
   "cell_type": "code",
   "execution_count": 26,
   "metadata": {},
   "outputs": [],
   "source": [
    "for i in missed_entities['CLASSE'][1]:\n",
    "    a = data.iloc[i]['CLASSE']\n",
    "    a = a.split()\n",
    "    s = \"\"\n",
    "    if a[0].lower() == 'primeira':\n",
    "        s = \"1a Classe\"\n",
    "    elif a[0].lower() == 'segunda':\n",
    "        s = \"2a Classe\"\n",
    "    elif a[0].lower() == 'terceira':\n",
    "        s = \"3a Classe\"\n",
    "    elif a[0].lower() == 'quarta':\n",
    "        s = \"4a Classe\"\n",
    "    if s:\n",
    "        data['CLASSE', i] = s\n",
    "        \n",
    "# Fix row 506\n",
    "data.loc['CLASSE', 506] = \"Classe Unica\"\n",
    "\n",
    "# Fix row 947\n",
    "data.loc['CLASSE', 947] = \"Classe Unica\"\n",
    "\n",
    "# Fix row 5512\n",
    "data.loc['CLASSE', 5512] = \"Classe Unica\""
   ]
  },
  {
   "cell_type": "markdown",
   "metadata": {},
   "source": [
    "### Correcao manual das entidades de PADRAO\n",
    "\n",
    "Entidades da classe PADRAO foram anotadas erroneamente (casos abaixo)"
   ]
  },
  {
   "cell_type": "code",
   "execution_count": 24,
   "metadata": {},
   "outputs": [],
   "source": [
    "# Fix row 719\n",
    "data.loc['CARGO', 719] = \"agente de transito\"\n",
    "\n",
    "# Fix row 4141\n",
    "data.loc['CARGO', 4141] = \"Gestor em Politicas Publicas e Gestao Governamental\""
   ]
  },
  {
   "cell_type": "markdown",
   "metadata": {},
   "source": [
    "### Correcao manual das entidades de QUADRO\n",
    "\n",
    "Ainda nao sei qual o erro"
   ]
  },
  {
   "cell_type": "code",
   "execution_count": null,
   "metadata": {},
   "outputs": [],
   "source": []
  },
  {
   "cell_type": "code",
   "execution_count": null,
   "metadata": {},
   "outputs": [],
   "source": []
  },
  {
   "cell_type": "code",
   "execution_count": null,
   "metadata": {},
   "outputs": [],
   "source": []
  },
  {
   "cell_type": "code",
   "execution_count": null,
   "metadata": {},
   "outputs": [],
   "source": []
  },
  {
   "cell_type": "code",
   "execution_count": null,
   "metadata": {},
   "outputs": [],
   "source": []
  },
  {
   "cell_type": "code",
   "execution_count": null,
   "metadata": {},
   "outputs": [],
   "source": []
  },
  {
   "cell_type": "code",
   "execution_count": null,
   "metadata": {},
   "outputs": [],
   "source": []
  },
  {
   "cell_type": "markdown",
   "metadata": {},
   "source": [
    "## Final - Salvando os dados preprocessados\n",
    "\n",
    "Salva o dataframe com os trechos de texto e os rotulos em arquivo csv para treinamento de modelos de NER"
   ]
  },
  {
   "cell_type": "code",
   "execution_count": 25,
   "metadata": {},
   "outputs": [],
   "source": [
    "data.to_csv('labeled.csv', index=False)"
   ]
  }
 ],
 "metadata": {
  "kernelspec": {
   "display_name": "Python 3",
   "language": "python",
   "name": "python3"
  },
  "language_info": {
   "codemirror_mode": {
    "name": "ipython",
    "version": 3
   },
   "file_extension": ".py",
   "mimetype": "text/x-python",
   "name": "python",
   "nbconvert_exporter": "python",
   "pygments_lexer": "ipython3",
   "version": "3.8.1"
  }
 },
 "nbformat": 4,
 "nbformat_minor": 4
}
