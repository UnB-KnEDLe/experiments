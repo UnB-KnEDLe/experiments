{
 "cells": [
  {
   "cell_type": "markdown",
   "metadata": {},
   "source": [
    "## CRF model\n",
    "\n",
    "Modelo CRF para ato de aposentadoria (com dados rotulados manualmente)"
   ]
  },
  {
   "cell_type": "code",
   "execution_count": 20,
   "metadata": {},
   "outputs": [],
   "source": [
    "import pandas as pd\n",
    "import sklearn_crfsuite"
   ]
  },
  {
   "cell_type": "markdown",
   "metadata": {},
   "source": [
    "Load csv with text and labels"
   ]
  },
  {
   "cell_type": "code",
   "execution_count": 21,
   "metadata": {},
   "outputs": [
    {
     "data": {
      "text/plain": [
       "(5162, 5162)"
      ]
     },
     "execution_count": 21,
     "metadata": {},
     "output_type": "execute_result"
    }
   ],
   "source": [
    "data = pd.read_csv('labeled.csv')\n",
    "x = []\n",
    "y = []\n",
    "for row in range(len(data)):\n",
    "    if pd.notna(data['text'][row]) and pd.notna(data['labels'][row]):\n",
    "        x.append(data['text'][row].split())\n",
    "        y.append(data['labels'][row].split())\n",
    "len(x), len(y)"
   ]
  },
  {
   "cell_type": "code",
   "execution_count": 22,
   "metadata": {},
   "outputs": [
    {
     "data": {
      "text/plain": [
       "['341-6,',\n",
       " 'no',\n",
       " 'cargo',\n",
       " 'de',\n",
       " 'Tecnico',\n",
       " 'em',\n",
       " 'Politicas',\n",
       " 'Publicas',\n",
       " 'e',\n",
       " 'Gestao',\n",
       " 'Governamental,',\n",
       " 'Classe',\n",
       " 'Unica,',\n",
       " 'Padrao',\n",
       " 'X,',\n",
       " 'do',\n",
       " 'Quadro',\n",
       " 'de',\n",
       " 'Pessoal',\n",
       " 'do',\n",
       " 'Distrito',\n",
       " 'Federal,',\n",
       " 'termos',\n",
       " 'do',\n",
       " 'artigo',\n",
       " '40,',\n",
       " '1o,',\n",
       " 'inciso',\n",
       " 'III,',\n",
       " 'alinea',\n",
       " '\"b\",',\n",
       " 'e',\n",
       " '3o,',\n",
       " '8o',\n",
       " 'e',\n",
       " '17,',\n",
       " 'da',\n",
       " 'Constituicao',\n",
       " 'da',\n",
       " 'Republica',\n",
       " 'Federativa',\n",
       " 'do',\n",
       " 'Brasil,',\n",
       " 'na',\n",
       " 'redacao',\n",
       " 'dada',\n",
       " 'pela',\n",
       " 'Emenda',\n",
       " 'Constitucional',\n",
       " 'no',\n",
       " '41,',\n",
       " 'de',\n",
       " '19/12/2003,',\n",
       " 'e',\n",
       " 'artigos',\n",
       " '46',\n",
       " 'e',\n",
       " '51',\n",
       " 'da',\n",
       " 'Lei',\n",
       " 'Complementar',\n",
       " 'no',\n",
       " '769,',\n",
       " 'de',\n",
       " '30/06/2008.',\n",
       " 'Lotacao:',\n",
       " 'Administracao',\n",
       " 'Regional',\n",
       " 'de',\n",
       " 'Taguatinga.',\n",
       " 'Processo',\n",
       " 'SEI',\n",
       " 'n.o',\n",
       " '00132-00005298/2018-',\n",
       " '77.',\n",
       " 'CONCEDER,',\n",
       " 'aposentadoria',\n",
       " 'voluntaria',\n",
       " 'integral,',\n",
       " 'a',\n",
       " 'servidora',\n",
       " 'MARIA',\n",
       " 'DE',\n",
       " 'JESUS',\n",
       " 'BARBOSA',\n",
       " 'SANTOS,',\n",
       " 'matricula',\n",
       " 'n.o',\n",
       " '31.727-6,',\n",
       " 'no',\n",
       " 'cargo',\n",
       " 'de',\n",
       " 'Analista',\n",
       " 'em',\n",
       " 'Politicas',\n",
       " 'Publicas',\n",
       " 'e',\n",
       " 'Gestao',\n",
       " 'Governamental,',\n",
       " 'Classe',\n",
       " 'Especial,',\n",
       " 'Padrao',\n",
       " 'V,',\n",
       " 'do',\n",
       " 'Quadro',\n",
       " 'de',\n",
       " 'Pessoal',\n",
       " 'do',\n",
       " 'Distrito',\n",
       " 'Federal,',\n",
       " 'nos',\n",
       " 'termos',\n",
       " 'do',\n",
       " 'artigo',\n",
       " '3o,',\n",
       " 'incisos',\n",
       " 'I,',\n",
       " 'II',\n",
       " 'e',\n",
       " 'III,',\n",
       " 'e',\n",
       " 'Paragrafo',\n",
       " 'unico',\n",
       " 'da',\n",
       " 'Emenda',\n",
       " 'Constitucional',\n",
       " 'n.o',\n",
       " '47',\n",
       " 'de',\n",
       " '05/07/2005,',\n",
       " 'combinado',\n",
       " 'com',\n",
       " 'o',\n",
       " 'artigo',\n",
       " '44',\n",
       " 'da',\n",
       " 'Lei',\n",
       " 'Complementar',\n",
       " 'n.o',\n",
       " '769,',\n",
       " 'de',\n",
       " '30/06/2008,',\n",
       " 'com',\n",
       " 'a',\n",
       " 'vantagem',\n",
       " 'pessoal',\n",
       " 'prevista',\n",
       " 'no',\n",
       " 'artigo',\n",
       " '5o',\n",
       " 'da',\n",
       " 'Lei',\n",
       " 'no',\n",
       " '4.584,',\n",
       " 'de',\n",
       " '08/07/2011.',\n",
       " 'Lotacao:',\n",
       " 'Secretaria',\n",
       " 'de',\n",
       " 'Estado',\n",
       " 'de',\n",
       " 'Planejamento,',\n",
       " 'Orcamento',\n",
       " 'e',\n",
       " 'Gestao',\n",
       " 'do',\n",
       " 'Distrito',\n",
       " 'Federal.',\n",
       " 'Processo',\n",
       " 'SEI',\n",
       " 'n.o',\n",
       " '00410-00015650/2018-74']"
      ]
     },
     "execution_count": 22,
     "metadata": {},
     "output_type": "execute_result"
    }
   ],
   "source": [
    "x[0]"
   ]
  },
  {
   "cell_type": "markdown",
   "metadata": {},
   "source": [
    "Create dictionary feature for each word in each sequence in x"
   ]
  },
  {
   "cell_type": "code",
   "execution_count": 23,
   "metadata": {},
   "outputs": [],
   "source": [
    "def get_features(sentence):\n",
    "        \"\"\"Create features for each word in act.\n",
    "        Create a list of dict of words features to be used in the predictor module.\n",
    "        Args:\n",
    "            act (list): List of words in an act.\n",
    "        Returns:\n",
    "            A list with a dictionary of features for each of the words.\n",
    "        \"\"\"\n",
    "        sent_features = []\n",
    "        for i in range(len(sentence)):\n",
    "            word_feat = {\n",
    "                'word': sentence[i].lower(),\n",
    "                'capital_letter': sentence[i][0].isupper(),\n",
    "                'all_capital': sentence[i].isupper(),\n",
    "                'isdigit': sentence[i].isdigit(),\n",
    "                'word_before': sentence[i].lower() if i == 0 else sentence[i-1].lower(),\n",
    "                'word_after:': sentence[i].lower() if i+1 >= len(sentence) else sentence[i+1].lower(),\n",
    "                'BOS': i == 0,\n",
    "                'EOS': i == len(sentence)-1\n",
    "            }\n",
    "            sent_features.append(word_feat)\n",
    "        return sent_features\n",
    "    \n",
    "for i in range(len(x)):\n",
    "    x[i] = get_features(x[i])"
   ]
  },
  {
   "cell_type": "markdown",
   "metadata": {},
   "source": [
    "Separate train and test splits (in order)"
   ]
  },
  {
   "cell_type": "code",
   "execution_count": 24,
   "metadata": {},
   "outputs": [
    {
     "data": {
      "text/plain": [
       "(4129, 1033, 5162)"
      ]
     },
     "execution_count": 24,
     "metadata": {},
     "output_type": "execute_result"
    }
   ],
   "source": [
    "import math\n",
    "split_idx = math.floor(0.8*len(x))\n",
    "x_train = x[0:split_idx]\n",
    "y_train = y[0:split_idx]\n",
    "x_test = x[split_idx:]\n",
    "y_test = y[split_idx:]\n",
    "len(x_train),  len(x_test), len(x)\n"
   ]
  },
  {
   "cell_type": "code",
   "execution_count": 25,
   "metadata": {},
   "outputs": [
    {
     "data": {
      "text/plain": [
       "<sklearn_crfsuite.estimator.CRF at 0x7f573c993940>"
      ]
     },
     "execution_count": 25,
     "metadata": {},
     "output_type": "execute_result"
    }
   ],
   "source": [
    "import sklearn_crfsuite\n",
    "from sklearn_crfsuite import metrics\n",
    "\n",
    "crf = sklearn_crfsuite.CRF(\n",
    "    algorithm = 'l2sgd',\n",
    "    c2=1,\n",
    "    max_iterations=100,\n",
    "    all_possible_transitions=True\n",
    ")\n",
    "\n",
    "crf.fit(x_train, y_train)"
   ]
  },
  {
   "cell_type": "code",
   "execution_count": 26,
   "metadata": {},
   "outputs": [
    {
     "name": "stderr",
     "output_type": "stream",
     "text": [
      "/home/jose/anaconda3/envs/ner/lib/python3.8/site-packages/sklearn/metrics/_classification.py:1464: UndefinedMetricWarning: F-score is ill-defined and being set to 0.0 in labels with no true nor predicted samples. Use `zero_division` parameter to control this behavior.\n",
      "  _warn_prf(\n"
     ]
    },
    {
     "data": {
      "text/plain": [
       "0.5114313469557288"
      ]
     },
     "execution_count": 26,
     "metadata": {},
     "output_type": "execute_result"
    }
   ],
   "source": [
    "classes = list(crf.classes_)\n",
    "classes.remove('O')\n",
    "\n",
    "y_pred = crf.predict(x_test)\n",
    "metrics.flat_f1_score(y_test, y_pred, average='weighted', labels=classes)"
   ]
  },
  {
   "cell_type": "code",
   "execution_count": 27,
   "metadata": {},
   "outputs": [
    {
     "name": "stderr",
     "output_type": "stream",
     "text": [
      "/home/jose/anaconda3/envs/ner/lib/python3.8/site-packages/sklearn/utils/validation.py:68: FutureWarning: Pass labels=['B-QUADRO', 'I-QUADRO', 'B-ATO', 'I-ATO', 'B-NOME_ATO', 'I-NOME_ATO', 'B-CARGO', 'I-CARGO', 'B-CLASSE', 'I-CLASSE', 'B-PADRAO', 'I-PADRAO', 'B-FUND_LEGAL', 'I-FUND_LEGAL', 'B-EMPRESA_ATO', 'I-EMPRESA_ATO', 'B-PROCESSO', 'I-PROCESSO', 'B-COD_MATRICULA_ATO', 'I-COD_MATRICULA_ATO'] as keyword args. From version 0.25 passing these as positional arguments will result in an error\n",
      "  warnings.warn(\"Pass {} as keyword args. From version 0.25 \"\n",
      "/home/jose/anaconda3/envs/ner/lib/python3.8/site-packages/sklearn/metrics/_classification.py:1221: UndefinedMetricWarning: Precision and F-score are ill-defined and being set to 0.0 in labels with no predicted samples. Use `zero_division` parameter to control this behavior.\n",
      "  _warn_prf(average, modifier, msg_start, len(result))\n",
      "/home/jose/anaconda3/envs/ner/lib/python3.8/site-packages/sklearn/metrics/_classification.py:1221: UndefinedMetricWarning: Recall and F-score are ill-defined and being set to 0.0 in labels with no true samples. Use `zero_division` parameter to control this behavior.\n",
      "  _warn_prf(average, modifier, msg_start, len(result))\n"
     ]
    },
    {
     "name": "stdout",
     "output_type": "stream",
     "text": [
      "                     precision    recall  f1-score   support\n",
      "\n",
      "           B-QUADRO      0.240     0.006     0.012      1017\n",
      "           I-QUADRO      0.373     0.008     0.015      5348\n",
      "              B-ATO      0.800     1.000     0.889       963\n",
      "              I-ATO      0.805     1.000     0.892       808\n",
      "         B-NOME_ATO      0.678     0.965     0.796      1032\n",
      "         I-NOME_ATO      0.675     0.970     0.796      3290\n",
      "            B-CARGO      0.464     0.364     0.408      1030\n",
      "            I-CARGO      0.447     0.382     0.412      3202\n",
      "           B-CLASSE      0.522     0.519     0.521       520\n",
      "           I-CLASSE      0.522     0.517     0.520       522\n",
      "           B-PADRAO      0.496     0.359     0.417      1008\n",
      "           I-PADRAO      0.496     0.359     0.417      1008\n",
      "       B-FUND_LEGAL      0.770     0.661     0.711       386\n",
      "       I-FUND_LEGAL      0.741     0.625     0.678     11720\n",
      "      B-EMPRESA_ATO      0.350     0.069     0.115       508\n",
      "      I-EMPRESA_ATO      0.379     0.147     0.212      2606\n",
      "         B-PROCESSO      0.995     0.997     0.996      1031\n",
      "         I-PROCESSO      0.999     0.997     0.998       676\n",
      "B-COD_MATRICULA_ATO      0.000     0.000     0.000        17\n",
      "I-COD_MATRICULA_ATO      0.000     0.000     0.000         0\n",
      "\n",
      "          micro avg      0.672     0.506     0.578     36692\n",
      "          macro avg      0.538     0.497     0.490     36692\n",
      "       weighted avg      0.596     0.506     0.511     36692\n",
      "\n"
     ]
    }
   ],
   "source": [
    "print(metrics.flat_classification_report(\n",
    "    y_test, y_pred, labels=classes, digits=3\n",
    "))"
   ]
  }
 ],
 "metadata": {
  "kernelspec": {
   "display_name": "Python 3",
   "language": "python",
   "name": "python3"
  },
  "language_info": {
   "codemirror_mode": {
    "name": "ipython",
    "version": 3
   },
   "file_extension": ".py",
   "mimetype": "text/x-python",
   "name": "python",
   "nbconvert_exporter": "python",
   "pygments_lexer": "ipython3",
   "version": "3.8.5"
  }
 },
 "nbformat": 4,
 "nbformat_minor": 4
}
