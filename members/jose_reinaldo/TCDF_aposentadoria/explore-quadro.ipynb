{
 "cells": [
  {
   "cell_type": "code",
   "execution_count": 42,
   "metadata": {},
   "outputs": [
    {
     "name": "stdout",
     "output_type": "stream",
     "text": [
      "txt  txt.zip\n"
     ]
    }
   ],
   "source": [
    "!ls dodfs/results/"
   ]
  },
  {
   "cell_type": "code",
   "execution_count": 43,
   "metadata": {},
   "outputs": [],
   "source": [
    "import glob\n",
    "import re\n",
    "from matplotlib import pyplot as plt\n",
    "import pandas as pd\n",
    "import numpy as np\n",
    "import unicodedata as uni\n",
    "from collections import Counter\n",
    "import gc"
   ]
  },
  {
   "cell_type": "code",
   "execution_count": 44,
   "metadata": {},
   "outputs": [
    {
     "data": {
      "text/plain": [
       "(5516, 19)"
      ]
     },
     "execution_count": 44,
     "metadata": {},
     "output_type": "execute_result"
    }
   ],
   "source": [
    "df_validado = pd.read_csv('TCDF_data/Atos_Aposentadoria_validados.csv',\n",
    "                         index_col=False)\n",
    "df_validado.shape"
   ]
  },
  {
   "cell_type": "code",
   "execution_count": 45,
   "metadata": {},
   "outputs": [],
   "source": [
    "def get_num(s):\n",
    "    return int(re.search('\\d+', s).group())\n",
    "\n",
    "def get_date(s):\n",
    "    return re.search('\\d+[-]\\d+[-]\\d+', s).group()\n",
    "def get_rdate(s):\n",
    "    return '-'.join(re.search('\\d+[-]\\d+[-]\\d+', s).group().split('-'))\n",
    "\n",
    "def erase(p, s):\n",
    "    return re.sub(p, '', s)\n",
    "\n",
    "data = pd.read_csv(\"verif_dataV1.csv\")\n",
    "data['labels'] = \"\"\n",
    "data.rename(mapper=lambda x: erase('_dodf', x.lower()),\n",
    "            axis=1,inplace=True)"
   ]
  },
  {
   "cell_type": "code",
   "execution_count": 46,
   "metadata": {
    "scrolled": true
   },
   "outputs": [
    {
     "data": {
      "text/plain": [
       "Index(['ref_anomes', 'data', 'num', 'pagina', 'tipo', 'ato', 'cod_empresa',\n",
       "       'empresa_ato', 'cod_matricula_ato', 'cod_matricula_sigrh', 'cpf',\n",
       "       'nome_ato', 'nome_sigrh', 'cargo', 'classe', 'padrao', 'quadro',\n",
       "       'processo', 'fund_legal', 'text', 'labels'],\n",
       "      dtype='object')"
      ]
     },
     "execution_count": 46,
     "metadata": {},
     "output_type": "execute_result"
    }
   ],
   "source": [
    "data.columns"
   ]
  },
  {
   "cell_type": "code",
   "execution_count": 47,
   "metadata": {},
   "outputs": [],
   "source": [
    "cols = ['data', 'num', 'pagina', 'tipo', 'nome_ato', 'quadro']\n",
    "df = data[cols].copy()\n",
    "df.rename(\n",
    "    {'pagina':'pag',\n",
    "    'nome_ato':'nome'\n",
    "    },\n",
    "axis=1,inplace=True)\n",
    "df['pag'] = df.pag.str.replace('[^\\d]+', '').astype(np.int16)\n",
    "df.sort_values(['data', 'num', 'pag', 'nome'], inplace=True)\n",
    "df.to_csv('quadro.csv', index=False)"
   ]
  },
  {
   "cell_type": "code",
   "execution_count": 48,
   "metadata": {},
   "outputs": [
    {
     "data": {
      "text/plain": [
       "QUADRO DE PESSOAL DO DISTRITO FEDERAL                                           3285\n",
       "QUADRO DE PESSOAL DA SECRETARIA DE ESTADO DE SAUDE DO DISTRITO FEDERAL          1164\n",
       "QUADRO SUPLEMENTAR                                                               138\n",
       "QUADRO DE PESSOAL DO SERVICO DE LIMPEZA URBANA DO DISTRITO FEDERAL               127\n",
       "QUADRO SUPLEMENTAR DO DISTRITO FEDERAL                                            71\n",
       "QUADRO DE PESSOAL DO GOVERNO DO DISTRITO FEDERAL                                  64\n",
       "QUADRO DE PESSOAL DO DEPARTAMENTO DE ESTRADAS DE RODAGEM DO DISTRITO FEDERAL      45\n",
       "QUADRO DE PESSOAL DO SERVICO DE LIMPEZA URBANA                                    39\n",
       "QUADRO DE PESSOAL DO DEPARTAMENTO DE TRANSITO DO DISTRITO FEDERAL                 25\n",
       "QUADRO DE PESSOAL DOS SERVICOS AUXILIARES DESTE TRIBUNAL                          21\n",
       "QUADRO DE PESSOAL DA AGENCIA DE FISCALIZACAO DO DISTRITO FEDERAL                  20\n",
       "QUADRO DE PESSOAL DOS SERVICOS AUXILIARES DESTA CORTE                              8\n",
       "QUADRO DE SUPLEMENTAR DO DISTRITO FEDERAL                                          3\n",
       "QUADRO DE PESSOAL DO DISTRITO FEDERAL NOS TERMOS DO ARTIGO 3º                      3\n",
       "QUADRO DE PESSOAL DO GOVERNO DISTRITO FEDERAL                                      3\n",
       "QUADRO SUPLEMENTAR DA SECRETARIA DE ESTADO DE SAUDE DO DISTRITO FEDERAL            2\n",
       "QUADRO DE PESSOAL DA DEFENSORIA PUBLICA DO DISTRITO FEDERAL                        2\n",
       "QUADRO DE SUPLEMENTAR DA SECRETARIA DE ESTADO DE SAUDE DO DISTRITO FEDERAL         2\n",
       "QUADRO DE PESSOAL DA SECRETARIA DE ESTADO DO DISTRITO FEDERAL                      2\n",
       "QUADRO EM EXTINCAO DA PROCURADORIAGERAL DO DISTRITO FEDERAL                        1\n",
       "QUADRO DE PESSOAL DA PROCURADORIA GERAL DO DISTRITO FEDERAL                        1\n",
       "QUADRO DE PESSOAL DO SLU                                                           1\n",
       "QUADRO DE PESSOAL DA DEFENSORIA PUBLICA DO GOVERNO DO DISTRITO FEDERAL             1\n",
       "QUADRO PESSOAL DO DISTRITO FEDERAL                                                 1\n",
       "QUADRO DO DEPARTAMENTO DE TRANSITO DO DISTRITO FEDERAL                             1\n",
       "QUADRO SUPLEMENTAR DISTRITO FEDERAL                                                1\n",
       "QUADRO DE PESSOAL DOA DEFENSORIA PUBLICA DO DISTRITO FEDERAL                       1\n",
       "QUADRO DE PESSOAL DA SECRETARIA DE SAUDE DO DISTRITO FEDERAL                       1\n",
       "QUADRO DE PESSOAL DA FUNDACAO HEMOCENTRO DE BRASILIA                               1\n",
       "QUADRO DE PESSOAL DO DER                                                           1\n",
       "QUADRO DE PESSOAL DA FUNDACAO JARDIM ZOOLOGICO DE BRASILIA                         1\n",
       "QUADRO DE PESSOAL DA POLICIA CIVIL DO DISTRITO FEDERAL                             1\n",
       "Name: quadro, dtype: int64"
      ]
     },
     "execution_count": 48,
     "metadata": {},
     "output_type": "execute_result"
    }
   ],
   "source": [
    "df.quadro.value_counts()"
   ]
  },
  {
   "cell_type": "code",
   "execution_count": 49,
   "metadata": {},
   "outputs": [
    {
     "name": "stdout",
     "output_type": "stream",
     "text": [
      "CPU times: user 347 ms, sys: 457 ms, total: 804 ms\n",
      "Wall time: 1.71 s\n"
     ]
    }
   ],
   "source": [
    "%%time\n",
    "lis = [open(i, 'r') for i in glob.glob('dodfs_flat/*.txt')]\n",
    "txt = {i.name.split('/')[-1]: i.read() for i in lis}\n",
    "txt = {(get_rdate(k), get_num(k), k): v for (k,v) in txt.items()}"
   ]
  },
  {
   "cell_type": "code",
   "execution_count": 50,
   "metadata": {},
   "outputs": [],
   "source": [
    "def cand_files(date, num):\n",
    "    padded = '0'*( num < 100 + num < 10) + str(num)\n",
    "    date = date.replace('/', '-')\n",
    "    cands = [i for i in glob.glob('dodfs_flat/*.txt') if date in i and padded in i]\n",
    "    return cands\n",
    "\n",
    "def preprocess(s):\n",
    "    s=uni.normalize('NFKD', s).encode(\n",
    "        'ascii', errors='ignore').decode()\n",
    "    s = re.sub('-\\n', '-', s)\n",
    "    s = re.sub('\\n', ' ', s)\n",
    "    s = re.sub('\\s{2,}', ' ', s)\n",
    "    return s\n",
    "\n",
    "def reg_nome_quadro(nome, quadro):\n",
    "    start = r'(?im:'\n",
    "    nome = '[-]?\\s+?'.join(list(nome))\n",
    "    nome = nome.replace(' ', '\\s+')\n",
    "    body = nome + '(.){0,500}?' + quadro.replace(' ','\\s+')\n",
    "    end = ')'\n",
    "    return start + body + end"
   ]
  },
  {
   "cell_type": "code",
   "execution_count": 51,
   "metadata": {},
   "outputs": [
    {
     "data": {
      "text/html": [
       "<div>\n",
       "<style scoped>\n",
       "    .dataframe tbody tr th:only-of-type {\n",
       "        vertical-align: middle;\n",
       "    }\n",
       "\n",
       "    .dataframe tbody tr th {\n",
       "        vertical-align: top;\n",
       "    }\n",
       "\n",
       "    .dataframe thead th {\n",
       "        text-align: right;\n",
       "    }\n",
       "</style>\n",
       "<table border=\"1\" class=\"dataframe\">\n",
       "  <thead>\n",
       "    <tr style=\"text-align: right;\">\n",
       "      <th></th>\n",
       "      <th>data</th>\n",
       "      <th>num</th>\n",
       "      <th>pag</th>\n",
       "      <th>tipo</th>\n",
       "      <th>nome</th>\n",
       "      <th>quadro</th>\n",
       "    </tr>\n",
       "  </thead>\n",
       "  <tbody>\n",
       "    <tr>\n",
       "      <th>45</th>\n",
       "      <td>01-01-2019</td>\n",
       "      <td>248</td>\n",
       "      <td>13</td>\n",
       "      <td>NORMAL</td>\n",
       "      <td>ADERALDO LUIZ DA SILVA</td>\n",
       "      <td>QUADRO DE PESSOAL DO DISTRITO FEDERAL</td>\n",
       "    </tr>\n",
       "  </tbody>\n",
       "</table>\n",
       "</div>"
      ],
      "text/plain": [
       "          data  num  pag    tipo                    nome  \\\n",
       "45  01-01-2019  248   13  NORMAL  ADERALDO LUIZ DA SILVA   \n",
       "\n",
       "                                   quadro  \n",
       "45  QUADRO DE PESSOAL DO DISTRITO FEDERAL  "
      ]
     },
     "execution_count": 51,
     "metadata": {},
     "output_type": "execute_result"
    }
   ],
   "source": [
    "dfc = df[df.quadro.notna()].copy()\n",
    "dfc['data'] = dfc.data.str.replace('/', '-')\n",
    "dfc.head(1)"
   ]
  },
  {
   "cell_type": "code",
   "execution_count": 52,
   "metadata": {},
   "outputs": [
    {
     "name": "stdout",
     "output_type": "stream",
     "text": [
      "CPU times: user 13.4 s, sys: 2.08 s, total: 15.5 s\n",
      "Wall time: 15.5 s\n"
     ]
    },
    {
     "data": {
      "text/plain": [
       "2172"
      ]
     },
     "execution_count": 52,
     "metadata": {},
     "output_type": "execute_result"
    }
   ],
   "source": [
    "%%time\n",
    "cols = ['data', 'num']\n",
    "_ = dfc[cols].copy()\n",
    "_.set_index(cols, inplace=True)\n",
    "cached_fnames = {i:cand_files(*i) for i in _.index}\n",
    "# ` $$CAFEBABE$$ ` é um separador entre os textos de dois textos pois\n",
    "# alguns DODFs compartilham número e data, mas diferem no tipo de edição\n",
    "\n",
    "cached_text = {k: preprocess(' $$CAFEBABE$$ '.join([open(jj, 'r').read() for jj in val]))\n",
    "                   for (k, val) in cached_fnames.items()}\n",
    "del _\n",
    "gc.collect()"
   ]
  },
  {
   "cell_type": "code",
   "execution_count": 53,
   "metadata": {},
   "outputs": [
    {
     "name": "stdout",
     "output_type": "stream",
     "text": [
      "CPU times: user 53.1 s, sys: 28.8 ms, total: 53.1 s\n",
      "Wall time: 53.1 s\n"
     ]
    },
    {
     "data": {
      "text/plain": [
       "45    None\n",
       "13    None\n",
       "11    None\n",
       "40    None\n",
       "24    None\n",
       "Name: match, dtype: object"
      ]
     },
     "execution_count": 53,
     "metadata": {},
     "output_type": "execute_result"
    }
   ],
   "source": [
    "%%time\n",
    "dfc['match'] = dfc.apply(\n",
    "    lambda x: re.search(reg_nome_quadro(x.nome, x.quadro), cached_text[x.data, x.num],\n",
    "                        flags=re.MULTILINE|re.DOTALL), axis=1\n",
    ")\n",
    "dfc['match'].head()"
   ]
  },
  {
   "cell_type": "code",
   "execution_count": 54,
   "metadata": {},
   "outputs": [
    {
     "name": "stdout",
     "output_type": "stream",
     "text": [
      "CPU times: user 2.08 ms, sys: 0 ns, total: 2.08 ms\n",
      "Wall time: 1.75 ms\n"
     ]
    }
   ],
   "source": [
    "%%time\n",
    "dfc['match'] = dfc.match.map(\n",
    "    lambda x: x.group(),\n",
    "    na_action='ignore'\n",
    ")"
   ]
  },
  {
   "cell_type": "code",
   "execution_count": 55,
   "metadata": {},
   "outputs": [
    {
     "data": {
      "text/html": [
       "<div>\n",
       "<style scoped>\n",
       "    .dataframe tbody tr th:only-of-type {\n",
       "        vertical-align: middle;\n",
       "    }\n",
       "\n",
       "    .dataframe tbody tr th {\n",
       "        vertical-align: top;\n",
       "    }\n",
       "\n",
       "    .dataframe thead th {\n",
       "        text-align: right;\n",
       "    }\n",
       "</style>\n",
       "<table border=\"1\" class=\"dataframe\">\n",
       "  <thead>\n",
       "    <tr style=\"text-align: right;\">\n",
       "      <th></th>\n",
       "      <th>data</th>\n",
       "      <th>num</th>\n",
       "      <th>pag</th>\n",
       "      <th>tipo</th>\n",
       "      <th>nome</th>\n",
       "      <th>quadro</th>\n",
       "      <th>match</th>\n",
       "    </tr>\n",
       "  </thead>\n",
       "  <tbody>\n",
       "    <tr>\n",
       "      <th>45</th>\n",
       "      <td>01-01-2019</td>\n",
       "      <td>248</td>\n",
       "      <td>13</td>\n",
       "      <td>NORMAL</td>\n",
       "      <td>ADERALDO LUIZ DA SILVA</td>\n",
       "      <td>QUADRO DE PESSOAL DO DISTRITO FEDERAL</td>\n",
       "      <td>None</td>\n",
       "    </tr>\n",
       "    <tr>\n",
       "      <th>13</th>\n",
       "      <td>01-01-2019</td>\n",
       "      <td>248</td>\n",
       "      <td>13</td>\n",
       "      <td>NORMAL</td>\n",
       "      <td>ALEXANDRE ZILAHI JUNIOR</td>\n",
       "      <td>QUADRO DE PESSOAL DO DISTRITO FEDERAL</td>\n",
       "      <td>None</td>\n",
       "    </tr>\n",
       "  </tbody>\n",
       "</table>\n",
       "</div>"
      ],
      "text/plain": [
       "          data  num  pag    tipo                     nome  \\\n",
       "45  01-01-2019  248   13  NORMAL   ADERALDO LUIZ DA SILVA   \n",
       "13  01-01-2019  248   13  NORMAL  ALEXANDRE ZILAHI JUNIOR   \n",
       "\n",
       "                                   quadro match  \n",
       "45  QUADRO DE PESSOAL DO DISTRITO FEDERAL  None  \n",
       "13  QUADRO DE PESSOAL DO DISTRITO FEDERAL  None  "
      ]
     },
     "execution_count": 55,
     "metadata": {},
     "output_type": "execute_result"
    }
   ],
   "source": [
    "dfc.head(2)"
   ]
  },
  {
   "cell_type": "code",
   "execution_count": 56,
   "metadata": {},
   "outputs": [],
   "source": [
    "dfc.drop(['tipo'], axis=1).to_csv('quadro-match.csv', index=False)\n",
    "dfc[dfc.match.isna()].drop(['tipo'], axis=1).to_csv('quadro-missing.csv', index=False)\n",
    "dfc[dfc.match.notna()].drop(['tipo'], axis=1).to_csv('quadro-found.csv', index=False)"
   ]
  },
  {
   "cell_type": "markdown",
   "metadata": {},
   "source": [
    "# Após análise manual dos casos falhos, e de inspeção da planilhados casos bem sucedidos, constatou-se que todos os quadros estão corretos"
   ]
  },
  {
   "cell_type": "code",
   "execution_count": 57,
   "metadata": {},
   "outputs": [],
   "source": [
    "dfc['correto'] = 1\n",
    "dfc.drop('match', axis=1, inplace=True)\n",
    "dfc.to_csv('quadro-final.csv', index=False)"
   ]
  }
 ],
 "metadata": {
  "kernelspec": {
   "display_name": "Python 3",
   "language": "python",
   "name": "python3"
  },
  "language_info": {
   "codemirror_mode": {
    "name": "ipython",
    "version": 3
   },
   "file_extension": ".py",
   "mimetype": "text/x-python",
   "name": "python",
   "nbconvert_exporter": "python",
   "pygments_lexer": "ipython3",
   "version": "3.8.5"
  }
 },
 "nbformat": 4,
 "nbformat_minor": 4
}
