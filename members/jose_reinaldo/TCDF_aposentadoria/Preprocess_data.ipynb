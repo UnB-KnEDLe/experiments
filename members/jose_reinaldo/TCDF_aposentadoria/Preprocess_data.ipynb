{
 "cells": [
  {
   "cell_type": "markdown",
   "metadata": {},
   "source": [
    "# Notacao IOB para NER (preprocess 2/2)\n",
    "\n",
    "Notebook para incluir labels de entidades no esquema IOB para cada trecho de texto extraido em extract_text.ipynb"
   ]
  },
  {
   "cell_type": "code",
   "execution_count": 117,
   "metadata": {},
   "outputs": [],
   "source": [
    "import pandas as pd\n",
    "import re"
   ]
  },
  {
   "cell_type": "markdown",
   "metadata": {},
   "source": [
    "## Parte 1 - Carregamento dos dados"
   ]
  },
  {
   "cell_type": "code",
   "execution_count": 118,
   "metadata": {},
   "outputs": [],
   "source": [
    "# data = pd.read_csv(\"verif_data.csv\")\n",
    "data = pd.read_csv(\"verif_dataV1.csv\")\n",
    "data['labels'] = \"\""
   ]
  },
  {
   "cell_type": "code",
   "execution_count": 119,
   "metadata": {},
   "outputs": [
    {
     "data": {
      "text/plain": [
       "Index(['REF_ANOMES', 'DATA_DODF', 'NUM_DODF', 'PAGINA_DODF', 'TIPO_DODF',\n",
       "       'ATO', 'COD_EMPRESA', 'EMPRESA_ATO', 'COD_MATRICULA_ATO',\n",
       "       'COD_MATRICULA_SIGRH', 'CPF', 'NOME_ATO', 'NOME_SIGRH', 'CARGO',\n",
       "       'CLASSE', 'PADRAO', 'QUADRO', 'PROCESSO', 'FUND_LEGAL', 'text',\n",
       "       'labels'],\n",
       "      dtype='object')"
      ]
     },
     "execution_count": 119,
     "metadata": {},
     "output_type": "execute_result"
    }
   ],
   "source": [
    "data.columns"
   ]
  },
  {
   "cell_type": "markdown",
   "metadata": {},
   "source": [
    "Colunas a serem utilizadas: 'ATO', 'EMPRESA_ATO', 'COD_MATRICULA_ATO', 'CPF', 'NOME_ATO', 'CARGO', 'CLASSE',                                   'PADRAO', 'QUADRO', 'PROCESSO', 'FUND_LEGAL'\n",
    "\n",
    "Colunas descartadas: 'Unnamed: 0', 'REF_ANOMES', 'DATA_DODF', 'NUM_DODF', 'PAGINA_DODF',\n",
    "       'TIPO_DODF', 'COD_EMPRESA', 'COD_MATRICULA_SIGRH', 'NOME_SIGRH'"
   ]
  },
  {
   "cell_type": "code",
   "execution_count": 120,
   "metadata": {},
   "outputs": [],
   "source": [
    "data = data.drop(columns=[ \n",
    "    'REF_ANOMES', \n",
    "    'DATA_DODF', \n",
    "    'NUM_DODF', \n",
    "    'PAGINA_DODF', \n",
    "    'TIPO_DODF', \n",
    "    'COD_EMPRESA', \n",
    "    'COD_MATRICULA_SIGRH', \n",
    "    'NOME_SIGRH'\n",
    "])"
   ]
  },
  {
   "cell_type": "code",
   "execution_count": 121,
   "metadata": {},
   "outputs": [
    {
     "data": {
      "text/plain": [
       "Index(['ATO', 'EMPRESA_ATO', 'COD_MATRICULA_ATO', 'CPF', 'NOME_ATO', 'CARGO',\n",
       "       'CLASSE', 'PADRAO', 'QUADRO', 'PROCESSO', 'FUND_LEGAL', 'text',\n",
       "       'labels'],\n",
       "      dtype='object')"
      ]
     },
     "execution_count": 121,
     "metadata": {},
     "output_type": "execute_result"
    }
   ],
   "source": [
    "data.columns"
   ]
  },
  {
   "cell_type": "code",
   "execution_count": 122,
   "metadata": {},
   "outputs": [
    {
     "name": "stdout",
     "output_type": "stream",
     "text": [
      "NOS TERMOS DO ARTIGO 3º, INCISOS I, II E III, E PARAGRAFO UNICO DA EMENDA CONSTITUCIONAL N.º 47 DE 05/07/2005, COMBINADO COM O ARTIGO 44 DA LEI COMPLEMENTAR N.º 769, DE 30/06/2008, COM A VANTAGEM PESSOAL PREVISTA NO ARTIGO 5º DA LEI Nº 4.584, DE 08/07/2011 \n",
      "\n",
      "\n"
     ]
    },
    {
     "name": "stderr",
     "output_type": "stream",
     "text": [
      "<ipython-input-122-c4f77dbb7915>:6: SettingWithCopyWarning: \n",
      "A value is trying to be set on a copy of a slice from a DataFrame\n",
      "\n",
      "See the caveats in the documentation: https://pandas.pydata.org/pandas-docs/stable/user_guide/indexing.html#returning-a-view-versus-a-copy\n",
      "  data[col][row] = str(data.loc[row][col]).replace('º', 'o')\n"
     ]
    },
    {
     "name": "stdout",
     "output_type": "stream",
     "text": [
      "NOS TERMOS DO ARTIGO 3o, INCISOS I, II E III, E PARAGRAFO UNICO DA EMENDA CONSTITUCIONAL N.o 47 DE 05/07/2005, COMBINADO COM O ARTIGO 44 DA LEI COMPLEMENTAR N.o 769, DE 30/06/2008, COM A VANTAGEM PESSOAL PREVISTA NO ARTIGO 5o DA LEI No 4.584, DE 08/07/2011\n"
     ]
    }
   ],
   "source": [
    "print(data['FUND_LEGAL'][0], '\\n\\n')\n",
    "\n",
    "for row in range(len(data)):\n",
    "    for col in data.drop(columns=['text', 'labels']).columns:\n",
    "        if pd.notna(data[col][row]):\n",
    "            data[col][row] = str(data.loc[row][col]).replace('º', 'o')\n",
    "#             t.replace('º', 'o')\n",
    "#             data[col][row] = t\n",
    "\n",
    "for row in range(len(data)):\n",
    "    for col in data.drop(columns=['text', 'labels']).columns:\n",
    "        if pd.notna(data[col][row]):\n",
    "            if 'º' in str(data[col][row]):\n",
    "                print(row, col)\n",
    "\n",
    "print(data['FUND_LEGAL'][0])"
   ]
  },
  {
   "cell_type": "markdown",
   "metadata": {},
   "source": [
    "## Parte 2 - Funcoes para identificar entidades e anotar no padrao IOB"
   ]
  },
  {
   "cell_type": "code",
   "execution_count": 123,
   "metadata": {},
   "outputs": [],
   "source": [
    "# Creates regex for the entity in data[col][idx]\n",
    "def get_regex(data, col, idx):\n",
    "    entity = str(data[col][idx])\n",
    "    re_entity = \"\"\n",
    "    if col == \"COD_MATRICULA_ATO\":\n",
    "        while entity[0] == '0':\n",
    "            entity = entity[1:]\n",
    "        re_entity += '[0oO]*?'\n",
    "    for i in entity:\n",
    "        if (i >= 'a' and i <= 'z') or (i>='A' and i<='Z'):\n",
    "            re_entity += f\"[{i.lower()}{i.upper()}]\" + \"[-,.\\s]*?\"\n",
    "        else:\n",
    "            re_entity += i + \"[-,.\\s]*?\"\n",
    "    return re_entity"
   ]
  },
  {
   "cell_type": "code",
   "execution_count": 124,
   "metadata": {},
   "outputs": [],
   "source": [
    "def IOBify_text(text, entities):\n",
    "    labels = [\"O\" for _ in range(len(text.split()))]\n",
    "    word_start_position = []\n",
    "    number_of_word = []\n",
    "    for i in range(len(text)):\n",
    "        if (i == 0):\n",
    "            if (text[i] == ' '):\n",
    "                continue\n",
    "            else:\n",
    "                number_of_word.append(len(word_start_position))\n",
    "                word_start_position.append(i)\n",
    "        elif text[i] != ' ' and text[i-1] == ' ':\n",
    "            number_of_word.append(len(word_start_position))\n",
    "            word_start_position.append(i)\n",
    "    i = 0\n",
    "    for entity in entities:\n",
    "        entity_begin = entity_end = -1\n",
    "        # Find initial position of entity\n",
    "        if entity[0] in word_start_position:\n",
    "            entity_begin = word_start_position.index(entity[0])\n",
    "        # Find final position of entity\n",
    "        for pos, idx in zip(word_start_position, number_of_word):\n",
    "            if pos > entity[1]:\n",
    "                entity_end = idx-1\n",
    "                break\n",
    "        if entity_end == -1:\n",
    "            entity_end = number_of_word[-1]\n",
    "            \n",
    "        if entity_begin != -1:\n",
    "            for i in range(entity_begin, entity_end+1):\n",
    "                if i==entity_begin:\n",
    "                    labels[i] = \"B-\"+entity[2]\n",
    "                else:\n",
    "                    labels[i] = \"I-\"+entity[2]\n",
    "    return labels\n",
    "                \n",
    "found_entities  = {col: 0 for col in data.drop(columns=['text', 'labels']).columns}\n",
    "missed_entities = {col: [0, []] for col in data.drop(columns=['text', 'labels']).columns}\n",
    "def find_entities(data, idx):\n",
    "    list_entities = []\n",
    "    for col in data.drop(columns=['text', 'labels']).columns:\n",
    "        if pd.notna(data[col][idx]):\n",
    "            re_entity = get_regex(data, col, idx)\n",
    "            aux = re.search(re_entity, data['text'][idx])\n",
    "            if aux:\n",
    "                found_entities[col]  += 1\n",
    "                list_entities.append([aux.span()[0], aux.span()[1], col])\n",
    "            else:\n",
    "                missed_entities[col][0] += 1\n",
    "                missed_entities[col][1].append(idx)\n",
    "    return list_entities\n"
   ]
  },
  {
   "cell_type": "markdown",
   "metadata": {},
   "source": [
    "## Parte 3 - Identificando entidades e anotando-as"
   ]
  },
  {
   "cell_type": "code",
   "execution_count": 125,
   "metadata": {},
   "outputs": [
    {
     "name": "stderr",
     "output_type": "stream",
     "text": [
      "<ipython-input-125-4ed4f662c7d6>:11: SettingWithCopyWarning: \n",
      "A value is trying to be set on a copy of a slice from a DataFrame\n",
      "\n",
      "See the caveats in the documentation: https://pandas.pydata.org/pandas-docs/stable/user_guide/indexing.html#returning-a-view-versus-a-copy\n",
      "  data['labels'][row] = s\n"
     ]
    },
    {
     "name": "stdout",
     "output_type": "stream",
     "text": [
      "Found ATO: 5165 \t\t Missed ATO: 2\n",
      "Found EMPRESA_ATO: 2204 \t\t Missed EMPRESA_ATO: 2963\n",
      "Found COD_MATRICULA_ATO: 5155 \t\t Missed COD_MATRICULA_ATO: 12\n",
      "Found CPF: 0 \t\t Missed CPF: 5167\n",
      "Found NOME_ATO: 5157 \t\t Missed NOME_ATO: 10\n",
      "Found CARGO: 5160 \t\t Missed CARGO: 6\n",
      "Found CLASSE: 2381 \t\t Missed CLASSE: 39\n",
      "Found PADRAO: 4871 \t\t Missed PADRAO: 6\n",
      "Found QUADRO: 4906 \t\t Missed QUADRO: 44\n",
      "Found PROCESSO: 5167 \t\t Missed PROCESSO: 0\n",
      "Found FUND_LEGAL: 1672 \t\t Missed FUND_LEGAL: 3494\n"
     ]
    }
   ],
   "source": [
    "for row in range(len(data)):\n",
    "    if row == 455 or row == 3372:\n",
    "        continue\n",
    "    if pd.notna(data['text'][row]):\n",
    "        entities = find_entities(data, row)\n",
    "        entities.sort()\n",
    "        labels = IOBify_text(data['text'][row], entities)\n",
    "        s = \"\"\n",
    "        for l in labels:\n",
    "            s += l + ' '\n",
    "        data['labels'][row] = s\n",
    "\n",
    "for col in found_entities:\n",
    "    print(f\"Found {col}: {found_entities[col]}\", f\"\\t\\t Missed {col}: {missed_entities[col][0]}\")"
   ]
  },
  {
   "cell_type": "markdown",
   "metadata": {},
   "source": [
    "## Parte 4 - Corrigindo entidades nao identificadas"
   ]
  },
  {
   "cell_type": "code",
   "execution_count": null,
   "metadata": {},
   "outputs": [],
   "source": [
    "# Carregamento dos dados originais anotados\n",
    "data_og = pd.read_csv('TCDF_data/Atos_Aposentadoria_validados.csv')"
   ]
  },
  {
   "cell_type": "code",
   "execution_count": 126,
   "metadata": {},
   "outputs": [
    {
     "name": "stdout",
     "output_type": "stream",
     "text": [
      "Entidades nao identificadas e as linhas do dataframe em que elas aparecem:\n",
      "\n",
      "Col:ATO -> [3846, 4416]\n",
      "Col:COD_MATRICULA_ATO -> [138, 422, 481, 506, 537, 571, 719, 761, 3199, 3610, 4449, 5512]\n",
      "Col:NOME_ATO -> [201, 481, 571, 604, 2763, 5199, 5229, 5310, 5427, 5512]\n",
      "Col:CARGO -> [138, 506, 571, 719, 4141, 5512]\n",
      "Col:CLASSE -> [4, 13, 37, 59, 138, 506, 571, 947, 954, 1205, 1448, 1449, 1464, 1466, 1937, 1958, 2170, 2193, 2298, 2616, 2785, 3340, 3964, 4141, 4148, 4161, 4264, 4365, 4426, 4520, 4840, 4842, 4998, 5171, 5252, 5273, 5274, 5278, 5512]\n",
      "Col:PADRAO -> [138, 481, 571, 3199, 4449, 5512]\n",
      "Col:QUADRO -> [104, 138, 269, 270, 271, 272, 273, 280, 282, 526, 528, 529, 530, 531, 532, 571, 975, 976, 977, 978, 980, 981, 983, 984, 985, 987, 988, 3855, 3927, 4474, 4496, 4505, 4509, 4527, 4529, 4531, 4532, 4533, 4545, 4550, 4571, 5476, 5477, 5512]\n",
      "Col:PROCESSO -> []\n"
     ]
    }
   ],
   "source": [
    "print(\"Entidades nao identificadas e as linhas do dataframe em que elas aparecem:\\n\")\n",
    "for col in data.drop(columns=['text', 'labels']).columns:\n",
    "    if len(missed_entities[col][1]) <= 100:\n",
    "        print(f\"Col:{col} -> {missed_entities[col][1]}\") "
   ]
  },
  {
   "cell_type": "code",
   "execution_count": 216,
   "metadata": {},
   "outputs": [
    {
     "name": "stdout",
     "output_type": "stream",
     "text": [
      "DINA MARIA PIRES DE MIRANDA ||| 0025293X ||| 0025293X ||| 00361.00004000/201835 ||| 68 ||| 10/04/2018\n",
      "CLASSE ESPECIAL ||| PADRAO V ||| QUADRO DE PESSOAL DO DISTRITO FEDERAL\n",
      "\n",
      "CONCEDER Aposentadoria a DINA MARIA PIRES DE MIRANDA, matricula 25.293-X, no cargo de Auditor Fiscal de Atividades Urbanas, Classe Especial, Padrao V, do Quadro de Diario Oficial do Distrito Federal No 68, terca-feira, 10 de abril de 2018 PAGINA 20 Este documento pode ser verificado no endereco eletronico http://www.in.gov.br/autenticidade.html , pelo codigo 50012018041000020 Documento assinado digitalmente conforme MP n 2.200-2 de 24/08/2001, que institui a Infraestrutura de Chaves Publicas Brasileira - ICP-Brasil. Pessoal do Distrito Federal, nos termos do artigo 3o, incisos I, II, III, paragrafo unico da Emenda Constitucional no 47, de 06 de julho de 2005, combinado com o artigo 44, da Lei Complementar no 769, de 30 de junho de 2008. Processo SEI n o 00361.00004000/2018- 35\n"
     ]
    }
   ],
   "source": [
    "row = 104\n",
    "print(data['NOME_ATO'][row], \"|||\", data['COD_MATRICULA_ATO'][row], \"|||\", data_og['COD_MATRICULA_SIGRH'][row], \"|||\", data['PROCESSO'][row], \"|||\", data_og['NUM_DODF'][row], \"|||\", data_og['DATA_DODF'][row])\n",
    "print(data['CLASSE'][row], \"|||\", data['PADRAO'][row], \"|||\", data['QUADRO'][row])\n",
    "print()\n",
    "print(data['text'][row])"
   ]
  },
  {
   "cell_type": "markdown",
   "metadata": {},
   "source": [
    "### Correcao manual de trechos de texto identificados erroneamente\n",
    "\n",
    "Trechos de texto que nao condizem com as entidades anotadas sao corrigidos aqui"
   ]
  },
  {
   "cell_type": "code",
   "execution_count": 112,
   "metadata": {
    "collapsed": true
   },
   "outputs": [
    {
     "name": "stderr",
     "output_type": "stream",
     "text": [
      "<ipython-input-112-139fc7fb404b>:2: SettingWithCopyWarning: \n",
      "A value is trying to be set on a copy of a slice from a DataFrame\n",
      "\n",
      "See the caveats in the documentation: https://pandas.pydata.org/pandas-docs/stable/user_guide/indexing.html#returning-a-view-versus-a-copy\n",
      "  data['text'][481] = \"CONCEDER APOSENTADORIA a IZAAC NEWTON DA SILVA, matricula 38.950-1, no Cargo de Professor de Educacao Basica, Padrao 22, Etapa IV, do Quadro de Pessoal do Distrito Federal, nos termos do artigo 6o da Emenda Constitucional no 41, de 31 de dezembro de 2003, combinado com o artigo 2o da Emenda Constitucional no 47, de 06 de julho de 2005. Processo 00080-00033434/2017-54.\"\n",
      "<ipython-input-112-139fc7fb404b>:5: SettingWithCopyWarning: \n",
      "A value is trying to be set on a copy of a slice from a DataFrame\n",
      "\n",
      "See the caveats in the documentation: https://pandas.pydata.org/pandas-docs/stable/user_guide/indexing.html#returning-a-view-versus-a-copy\n",
      "  data['text'][506] = \"CONCEDER aposentadoria voluntaria com proventos integrais ao servidor a seguir nominado: AMISAEL GONCALVES BI- NACETT, matricula 100.453-0, processo SEI n 00070-00013097/2018-05, no cargo de Auxiliar de Desenvolvimento e Fiscalizacao Agropecuaria, Classe Unica, Padrao X, do Quadro de Pessoal do Distrito Federal, com fundamento no Art. 3, incisos I, II, III e paragrafo unico da EC no 47/2005, c/c a LC no 769/2008.\"\n",
      "<ipython-input-112-139fc7fb404b>:6: SettingWithCopyWarning: \n",
      "A value is trying to be set on a copy of a slice from a DataFrame\n",
      "\n",
      "See the caveats in the documentation: https://pandas.pydata.org/pandas-docs/stable/user_guide/indexing.html#returning-a-view-versus-a-copy\n",
      "  data['PROCESSO'][506] = \"00070-00013097/2018-05\"\n",
      "<ipython-input-112-139fc7fb404b>:7: SettingWithCopyWarning: \n",
      "A value is trying to be set on a copy of a slice from a DataFrame\n",
      "\n",
      "See the caveats in the documentation: https://pandas.pydata.org/pandas-docs/stable/user_guide/indexing.html#returning-a-view-versus-a-copy\n",
      "  data['CARGO'][506] = \"Auxiliar de Desenvolvimento e Fiscalizacao Agropecuaria\"\n"
     ]
    }
   ],
   "source": [
    "# Matricula(DONE) | NOME(DONE) | CARGO(DONE) | CLASSE(DONE) | PADRAO(DONE) | QUADRO() | \n",
    "\n",
    "# Fix row 138\n",
    "data['text'][138] = \"CONCEDER aposentadoria voluntaria com proventos integrais a servidora a seguir nominada: MARIA AUXILIADORA PE- REIRA, matricula 101.008-5, processo SEI n 00070- 00011305/2018-23, no cargo de Au- xiliar de Desenvolvimento e Fiscalizacao Agropecuaria, Classe Unica, Padrao X, do Quadro de Pessoal do Distrito Federal, com fundamento no Art. 6, incisos I, II, III e IV, da EC n 41/ 2003, combinado com o artigo 2 da EC n 47/2005, c/c a Lei Complementar no 769/08.\"\n",
    "\n",
    "# Fix row 481\n",
    "data['text'][481] = \"CONCEDER APOSENTADORIA a IZAAC NEWTON DA SILVA, matricula 38.950-1, no Cargo de Professor de Educacao Basica, Padrao 22, Etapa IV, do Quadro de Pessoal do Distrito Federal, nos termos do artigo 6o da Emenda Constitucional no 41, de 31 de dezembro de 2003, combinado com o artigo 2o da Emenda Constitucional no 47, de 06 de julho de 2005. Processo 00080-00033434/2017-54.\"\n",
    "\n",
    "# Fix row 506\n",
    "data['text'][506] = \"CONCEDER aposentadoria voluntaria com proventos integrais ao servidor a seguir nominado: AMISAEL GONCALVES BI- NACETT, matricula 100.453-0, processo SEI n 00070-00013097/2018-05, no cargo de Auxiliar de Desenvolvimento e Fiscalizacao Agropecuaria, Classe Unica, Padrao X, do Quadro de Pessoal do Distrito Federal, com fundamento no Art. 3, incisos I, II, III e paragrafo unico da EC no 47/2005, c/c a LC no 769/2008.\"\n",
    "data['PROCESSO'][506] = \"00070-00013097/2018-05\"\n",
    "data['CARGO'][506] = \"Auxiliar de Desenvolvimento e Fiscalizacao Agropecuaria\"\n",
    "\n",
    "# Fix row 537\n",
    "data['text'][506] = \"CONCEDER APOSENTADORIA a VERA LUCIA FERREIRA DE SOUSA, matricula 40.787-9, no Cargo de Agente de Gestao Educacional/Servicos Gerais, Nivel 10, Padrao 02, Etapa III, do Quadro de Pessoal do Distrito Federal, nos termos do artigo 3o da Emenda Constitucional no 47, de 06 de julho de 2005 e o Paragrafo unico do mesmo artigo. Processo 0 0 0 8 0 - 0 0 0 0 3 4 3 2 / 2 0 1 8 - 11 .\"\n",
    "data['PROCESSO'][506] = \"0 0 0 8 0 - 0 0 0 0 3 4 3 2 / 2 0 1 8 - 11\"\n",
    "\n",
    "#Fix row 571\n",
    "data['text'][571] = \"CONCEDER APOSENTADORIA, nos termos do artigo 6o da Emenda Constitucional no 41/2003, combinado com o artigo 2o da Emenda Constitucional no 47/2005, combinados com o artigo 43, da Lei Complementar no 769, de 30/06/2008, a MARIA DE LOURDES SOUSA, matricula no 0143048-3, na Carreira de Assistencia Publica a Saude, no Cargo de Tecnico em Saude - TEC. LAB. HEMAT. E HEMOT, Primeira Classe, Padrao II, do Quadro de Pessoal da Secretaria de Estado de Saude do Distrito Federal. Lotacao: ADMC. Processo no 00060- 00247085/2017-21.\"\n",
    "\n",
    "# Fix row 2763\n",
    "data['text'][2763] = \"APOSENTAR MARIA ESTER BATISTA DE MEDEIROS, matricula 204.859-0, no Cargo de Professor de Educacao Basica, Padrao 19, Etapa IV, do Quadro de Pessoal do Distrito Federal, nos termos do artigo 40, 1o, inciso I, da Constituicao da Republica Federativa do Brasil, na redacao dada pela Emenda Constitucional no 41, de 31 de dezembro de 2003, combinado com o artigo 6o-A da Emenda Constitucional no 41, de 31 de dezembro de 2003, incluido pela Emenda Constitucional no 70, de 29 de marco de 2012. Processo 00040-00015628/2019-89.\"\n",
    "\n",
    "# Fix row 5512\n",
    "data['text'][5512] = \"APOSENTAR, nos termos do artigo 6o da Emenda Constitucional no 41/2003, combinado com o artigo 2o da Emenda Constitucional no 47/2005, combinados com o artigo 43, da Lei Complementar no 769, de 30/06/2008, a MARIA DE LOURDES SOUSA, matricula no 0143048-3, na Carreira de Assistencia Publica a Saude, no Cargo de Tecnico em Saude - TEC. LAB. HEMAT. E HEMOT, Primeira Classe, Padrao II, do Quadro de Pessoal da Secretaria de Estado de Saude do Distrito Federal. Lotacao: ADMC. Processo no 00060- 00247085/2017-21.\"\n",
    "\n",
    "# Fix row "
   ]
  },
  {
   "cell_type": "markdown",
   "metadata": {},
   "source": [
    "### Correcao manual das entidades de MATRICULA\n",
    "\n",
    "utilizando as matriculas SIGRH quando matriculas ATO nao sao encontradas"
   ]
  },
  {
   "cell_type": "code",
   "execution_count": 82,
   "metadata": {},
   "outputs": [
    {
     "name": "stdout",
     "output_type": "stream",
     "text": [
      "01793403\n",
      "01010085\n"
     ]
    },
    {
     "name": "stderr",
     "output_type": "stream",
     "text": [
      "<ipython-input-82-496206d5e61b>:4: SettingWithCopyWarning: \n",
      "A value is trying to be set on a copy of a slice from a DataFrame\n",
      "\n",
      "See the caveats in the documentation: https://pandas.pydata.org/pandas-docs/stable/user_guide/indexing.html#returning-a-view-versus-a-copy\n",
      "  data['COD_MATRICULA_ATO'][idx] = data_og.iloc[idx]['COD_MATRICULA_SIGRH']\n"
     ]
    }
   ],
   "source": [
    "#Fix row 138\n",
    "data['COD_MATRICULA_ATO'][138] = data_og.iloc[138]['COD_MATRICULA_SIGRH']\n",
    "\n",
    "#Fix row 422\n",
    "data['COD_MATRICULA_ATO'][422] = data_og.iloc[422]['COD_MATRICULA_SIGRH']\n",
    "\n",
    "#Fix row 719\n",
    "data['COD_MATRICULA_ATO'][719] = data_og.iloc[719]['COD_MATRICULA_SIGRH']\n",
    "\n",
    "# FIx row 761\n",
    "data['COD_MATRICULA_ATO'][761] = data_og.iloc[761]['COD_MATRICULA_SIGRH']\n",
    "\n",
    "# Fix row 3199\n",
    "data['COD_MATRICULA_ATO'][3199] = \"209.913-6\"\n",
    "\n",
    "# Fix row 3610\n",
    "data['COD_MATRICULA_ATO'][3610] = data_og.iloc[3610]['COD_MATRICULA_SIGRH']\n",
    "\n",
    "# Fix row 4449\n",
    "data['COD_MATRICULA_ATO'][4449] = \"42.299-1\""
   ]
  },
  {
   "cell_type": "markdown",
   "metadata": {},
   "source": [
    "### Correcao manual das entidades de NOME\n",
    "\n",
    "Diferenca no processamento de acentos e apostrofos entre o DODFminer e as anotacoes"
   ]
  },
  {
   "cell_type": "code",
   "execution_count": null,
   "metadata": {},
   "outputs": [],
   "source": [
    "# Fix row 201\n",
    "data['NOME_ATO'][201] = \"ROSELI DE MOURA GONZALES D ALMEIDA\"\n",
    "\n",
    "# Fix row 604\n",
    "data['NOME_ATO'][604] = \"MARIA FLORA CALVINO MARQUES\"\n",
    "\n",
    "# Fix row 5199\n",
    "data['NOME_ATO'][5199] = \"LORIVANDA D ABADIA DOS SANTOS\"\n",
    "\n",
    "# Fix row 5229\n",
    "data['NOME_ATO'][5229] = \"ELZA LUCIA MENDES MUNIZ\"\n",
    "\n",
    "# Fix row 5310\n",
    "data['NOME_ATO'][5310] = \"MARIA D ARC PEREIRA\"\n",
    "\n",
    "# Fix row 5427\n",
    "data['NOME_ATO'][5427] = \"MARCIA CRISTINA TOMAZ MULLER\""
   ]
  },
  {
   "cell_type": "markdown",
   "metadata": {},
   "source": [
    "### Correcao manual das entidades de CARGO\n",
    "\n",
    "Algumas anotacoes erroneas (apresentadas abaixo)"
   ]
  },
  {
   "cell_type": "code",
   "execution_count": null,
   "metadata": {},
   "outputs": [],
   "source": [
    "# Fix row 719\n",
    "data['CARGO'][719] = \"agente de transito\"\n",
    "\n",
    "# Fix row 4141\n",
    "data['CARGO'][4141] = \"Gestor em Politicas Publicas e Gestao Governamental\""
   ]
  },
  {
   "cell_type": "markdown",
   "metadata": {},
   "source": [
    "### Correcao manual das entidades de CLASSE\n",
    "\n",
    "Em grande parte diferenca entre numeros ordinais e suas escritas por extenso (1a classe == primeira classe)"
   ]
  },
  {
   "cell_type": "code",
   "execution_count": null,
   "metadata": {},
   "outputs": [],
   "source": [
    "for i in missed_entities['CLASSE'][1]:\n",
    "    a = data.iloc[i]['CLASSE']\n",
    "    a = a.split()\n",
    "    s = \"\"\n",
    "    if a[0].lower() == 'primeira':\n",
    "        s = \"1a Classe\"\n",
    "    elif a[0].lower() == 'segunda':\n",
    "        s = \"2a Classe\"\n",
    "    elif a[0].lower() == 'terceira':\n",
    "        s = \"3a Classe\"\n",
    "    elif a[0].lower() == 'quarta':\n",
    "        s = \"4a Classe\"\n",
    "    if s:\n",
    "        data['CLASSE'][i] = s\n",
    "        \n",
    "# Fix row 506\n",
    "data['CLASSE'][506] = \"Classe Unica\"\n",
    "\n",
    "# Fix row 947\n",
    "data['CLASSE'][947] = \"Classe Unica\"\n",
    "\n",
    "# Fix row 5512\n",
    "data['CLASSE'][5512] = \"Classe Unica\"\n"
   ]
  },
  {
   "cell_type": "markdown",
   "metadata": {},
   "source": [
    "### Correcao manual das entidades de PADRAO\n",
    "\n",
    "Entidades da classe PADRAO foram anotadas erroneamente (casos abaixo)"
   ]
  },
  {
   "cell_type": "code",
   "execution_count": null,
   "metadata": {},
   "outputs": [],
   "source": [
    "# Fix row 3199\n",
    "data['PADRAO'][3199] = \"Padrao 15\"\n",
    "\n",
    "# FIx row 4449\n",
    "data['PADRAO'][4449] = \"Padrao 25\""
   ]
  },
  {
   "cell_type": "markdown",
   "metadata": {},
   "source": [
    "### Correcao manual das entidades de QUADRO\n",
    "\n",
    "Ainda nao sei qual o erro"
   ]
  },
  {
   "cell_type": "code",
   "execution_count": null,
   "metadata": {},
   "outputs": [],
   "source": []
  },
  {
   "cell_type": "code",
   "execution_count": null,
   "metadata": {},
   "outputs": [],
   "source": []
  },
  {
   "cell_type": "code",
   "execution_count": null,
   "metadata": {},
   "outputs": [],
   "source": []
  },
  {
   "cell_type": "code",
   "execution_count": null,
   "metadata": {},
   "outputs": [],
   "source": []
  },
  {
   "cell_type": "code",
   "execution_count": null,
   "metadata": {},
   "outputs": [],
   "source": []
  },
  {
   "cell_type": "code",
   "execution_count": null,
   "metadata": {},
   "outputs": [],
   "source": []
  },
  {
   "cell_type": "code",
   "execution_count": null,
   "metadata": {},
   "outputs": [],
   "source": []
  },
  {
   "cell_type": "markdown",
   "metadata": {},
   "source": [
    "## Final - Salvando os dados preprocessados\n",
    "\n",
    "Salva o dataframe com os trechos de texto e os rotulos em arquivo csv para treinamento de modelos de NER"
   ]
  },
  {
   "cell_type": "code",
   "execution_count": null,
   "metadata": {},
   "outputs": [],
   "source": [
    "data.to_csv('labeled.csv', index=False)"
   ]
  }
 ],
 "metadata": {
  "kernelspec": {
   "display_name": "Python 3",
   "language": "python",
   "name": "python3"
  },
  "language_info": {
   "codemirror_mode": {
    "name": "ipython",
    "version": 3
   },
   "file_extension": ".py",
   "mimetype": "text/x-python",
   "name": "python",
   "nbconvert_exporter": "python",
   "pygments_lexer": "ipython3",
   "version": "3.8.3"
  }
 },
 "nbformat": 4,
 "nbformat_minor": 4
}
