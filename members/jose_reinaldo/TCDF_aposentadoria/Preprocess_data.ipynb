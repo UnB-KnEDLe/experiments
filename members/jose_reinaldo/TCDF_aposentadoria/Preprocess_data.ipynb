{
 "cells": [
  {
   "cell_type": "markdown",
   "metadata": {},
   "source": [
    "# Notacao IOB para NER (preprocess 2/2)\n",
    "\n",
    "Notebook para incluir labels de entidades no esquema IOB para cada trecho de texto extraido em extract_text.ipynb"
   ]
  },
  {
   "cell_type": "code",
   "execution_count": 1,
   "metadata": {},
   "outputs": [],
   "source": [
    "import pandas as pd\n",
    "import numpy as np\n",
    "import re\n",
    "import unicodedata\n",
    "from sklearn.model_selection import train_test_split\n",
    "import math"
   ]
  },
  {
   "cell_type": "markdown",
   "metadata": {},
   "source": [
    "## Parte 1 - Carregamento dos dados"
   ]
  },
  {
   "cell_type": "code",
   "execution_count": 2,
   "metadata": {},
   "outputs": [],
   "source": [
    "# data = pd.read_csv(\"verif_data.csv\")\n",
    "data = pd.read_csv(\"verif_dataV1.csv\")\n",
    "data['labels'] = \"\""
   ]
  },
  {
   "cell_type": "code",
   "execution_count": 3,
   "metadata": {},
   "outputs": [
    {
     "data": {
      "text/plain": [
       "Index(['REF_ANOMES', 'DATA_DODF', 'NUM_DODF', 'PAGINA_DODF', 'TIPO_DODF',\n",
       "       'ATO', 'COD_EMPRESA', 'EMPRESA_ATO', 'COD_MATRICULA_ATO',\n",
       "       'COD_MATRICULA_SIGRH', 'CPF', 'NOME_ATO', 'NOME_SIGRH', 'CARGO',\n",
       "       'CLASSE', 'PADRAO', 'QUADRO', 'PROCESSO', 'FUND_LEGAL', 'text',\n",
       "       'labels'],\n",
       "      dtype='object')"
      ]
     },
     "execution_count": 3,
     "metadata": {},
     "output_type": "execute_result"
    }
   ],
   "source": [
    "data.columns"
   ]
  },
  {
   "cell_type": "markdown",
   "metadata": {},
   "source": [
    "Colunas a serem utilizadas: 'ATO', 'EMPRESA_ATO', 'COD_MATRICULA_ATO', 'CPF', 'NOME_ATO', 'CARGO', 'CLASSE',                                   'PADRAO', 'QUADRO', 'PROCESSO', 'FUND_LEGAL'\n",
    "\n",
    "Colunas descartadas: 'Unnamed: 0', 'REF_ANOMES', 'DATA_DODF', 'NUM_DODF', 'PAGINA_DODF',\n",
    "       'TIPO_DODF', 'COD_EMPRESA', 'COD_MATRICULA_SIGRH', 'NOME_SIGRH'"
   ]
  },
  {
   "cell_type": "code",
   "execution_count": 4,
   "metadata": {},
   "outputs": [],
   "source": [
    "data = data.drop(columns=[ \n",
    "    'REF_ANOMES', \n",
    "#     'DATA_DODF', \n",
    "#     'NUM_DODF', \n",
    "    'PAGINA_DODF', \n",
    "    'TIPO_DODF', \n",
    "    'COD_EMPRESA', \n",
    "    'COD_MATRICULA_SIGRH', \n",
    "    'NOME_SIGRH', \n",
    "    'CPF'\n",
    "])"
   ]
  },
  {
   "cell_type": "code",
   "execution_count": 5,
   "metadata": {},
   "outputs": [
    {
     "data": {
      "text/plain": [
       "Index(['DATA_DODF', 'NUM_DODF', 'ATO', 'EMPRESA_ATO', 'COD_MATRICULA_ATO',\n",
       "       'NOME_ATO', 'CARGO', 'CLASSE', 'PADRAO', 'QUADRO', 'PROCESSO',\n",
       "       'FUND_LEGAL', 'text', 'labels'],\n",
       "      dtype='object')"
      ]
     },
     "execution_count": 5,
     "metadata": {},
     "output_type": "execute_result"
    }
   ],
   "source": [
    "data.columns"
   ]
  },
  {
   "cell_type": "code",
   "execution_count": 6,
   "metadata": {
    "scrolled": true
   },
   "outputs": [
    {
     "name": "stdout",
     "output_type": "stream",
     "text": [
      "NOS TERMOS DO ARTIGO 3º, INCISOS I, II E III, E PARAGRAFO UNICO DA EMENDA CONSTITUCIONAL N.º 47 DE 05/07/2005, COMBINADO COM O ARTIGO 44 DA LEI COMPLEMENTAR N.º 769, DE 30/06/2008, COM A VANTAGEM PESSOAL PREVISTA NO ARTIGO 5º DA LEI Nº 4.584, DE 08/07/2011 \n",
      "\n",
      "\n",
      "NOS TERMOS DO ARTIGO 3o, INCISOS I, II E III, E PARAGRAFO UNICO DA EMENDA CONSTITUCIONAL N.o 47 DE 05/07/2005, COMBINADO COM O ARTIGO 44 DA LEI COMPLEMENTAR N.o 769, DE 30/06/2008, COM A VANTAGEM PESSOAL PREVISTA NO ARTIGO 5o DA LEI No 4.584, DE 08/07/2011\n"
     ]
    }
   ],
   "source": [
    "print(data['FUND_LEGAL'][0], '\\n\\n')\n",
    "\n",
    "# for row in range(len(data)):\n",
    "#     for col in data.drop(columns=['text', 'labels']).columns:\n",
    "#         if pd.notna(data[col][row]):\n",
    "#             data.loc[row, col] = str(data.loc[row, col]).replace('º', 'o')\n",
    "\n",
    "for row in range(len(data)):\n",
    "    for col in data.drop(columns=['text', 'labels', 'DATA_DODF', 'NUM_DODF']).columns:\n",
    "        if pd.notna(data.loc[row, col]):\n",
    "            data.loc[row, col] = unicodedata.normalize('NFKD', str(data.loc[row, col])).encode('ascii', 'ignore').decode('utf8')\n",
    "\n",
    "print(data['FUND_LEGAL'][0])"
   ]
  },
  {
   "cell_type": "markdown",
   "metadata": {},
   "source": [
    "## Parte 2 - Funcoes para identificar entidades e anotar no padrao IOB"
   ]
  },
  {
   "cell_type": "code",
   "execution_count": 7,
   "metadata": {},
   "outputs": [],
   "source": [
    "def get_regex(data, col, idx):\n",
    "    entity = str(data.loc[idx, col])\n",
    "    re_entity = \"\"\n",
    "    if col == \"COD_MATRICULA_ATO\":\n",
    "        while entity[0] == '0':\n",
    "            entity = entity[1:]\n",
    "        re_entity += '[0oO]*?'\n",
    "    for i in entity:\n",
    "        if (i >= 'a' and i <= 'z') or (i>='A' and i<='Z'):\n",
    "            re_entity += f\"[{i.lower()}{i.upper()}]\" + \"[-,.\\s\\\"]*?\"\n",
    "        elif i == '(' or i == ')':\n",
    "            re_entity += '\\\\' + i + \"[-,.\\s\\\"]*?\"\n",
    "        else:\n",
    "            re_entity += i + \"[-,.\\s\\\"]*?\"\n",
    "    return re_entity"
   ]
  },
  {
   "cell_type": "code",
   "execution_count": 8,
   "metadata": {},
   "outputs": [],
   "source": [
    "def IOBify_text(text, entities):\n",
    "    labels = [\"O\" for _ in range(len(text.split()))]\n",
    "    word_start_position = []\n",
    "    number_of_word = []\n",
    "    for i in range(len(text)):\n",
    "        if (i == 0):\n",
    "            if (text[i] == ' '):\n",
    "                continue\n",
    "            else:\n",
    "                number_of_word.append(len(word_start_position))\n",
    "                word_start_position.append(i)\n",
    "        elif text[i] != ' ' and text[i-1] == ' ':\n",
    "            number_of_word.append(len(word_start_position))\n",
    "            word_start_position.append(i)\n",
    "    i = 0\n",
    "    for entity in entities:\n",
    "        entity_begin = entity_end = -1\n",
    "        # Find initial position of entity\n",
    "        if entity[0] in word_start_position:\n",
    "            entity_begin = word_start_position.index(entity[0])\n",
    "        # Find final position of entity\n",
    "        for pos, idx in zip(word_start_position, number_of_word):\n",
    "            if pos > entity[1]:\n",
    "                entity_end = idx-1\n",
    "                break\n",
    "        if entity_end == -1:\n",
    "            entity_end = number_of_word[-1]\n",
    "            \n",
    "        if entity_begin != -1:\n",
    "            for i in range(entity_begin, entity_end+1):\n",
    "                if i==entity_begin:\n",
    "                    labels[i] = \"B-\"+entity[2]\n",
    "                else:\n",
    "                    labels[i] = \"I-\"+entity[2]\n",
    "    return labels\n",
    "                \n",
    "def find_entities(data, idx):\n",
    "    list_entities = []\n",
    "    for col in data.drop(columns=['text', 'labels', 'DATA_DODF', 'NUM_DODF']).columns:\n",
    "        if pd.notna(data[col][idx]):\n",
    "            re_entity = get_regex(data, col, idx)\n",
    "            aux = re.search(re_entity, data['text'][idx])\n",
    "            if aux:\n",
    "                found_entities[col]  += 1\n",
    "                list_entities.append([aux.span()[0], aux.span()[1], col])\n",
    "            else:\n",
    "                missed_entities[col][0] += 1\n",
    "                missed_entities[col][1].append(idx)\n",
    "    return list_entities\n"
   ]
  },
  {
   "cell_type": "markdown",
   "metadata": {},
   "source": [
    "## Parte 3 - Identificando entidades e anotando-as"
   ]
  },
  {
   "cell_type": "code",
   "execution_count": 9,
   "metadata": {},
   "outputs": [
    {
     "name": "stdout",
     "output_type": "stream",
     "text": [
      "Found ATO: 5511 \t\t Missed ATO: 5\n",
      "Found EMPRESA_ATO: 2476 \t\t Missed EMPRESA_ATO: 3040\n",
      "Found COD_MATRICULA_ATO: 5504 \t\t Missed COD_MATRICULA_ATO: 12\n",
      "Found NOME_ATO: 5512 \t\t Missed NOME_ATO: 4\n",
      "Found CARGO: 5508 \t\t Missed CARGO: 7\n",
      "Found CLASSE: 2710 \t\t Missed CLASSE: 40\n",
      "Found PADRAO: 4956 \t\t Missed PADRAO: 5\n",
      "Found QUADRO: 4992 \t\t Missed QUADRO: 45\n",
      "Found PROCESSO: 5182 \t\t Missed PROCESSO: 36\n",
      "Found FUND_LEGAL: 4830 \t\t Missed FUND_LEGAL: 685\n"
     ]
    }
   ],
   "source": [
    "found_entities  = {col: 0 for col in data.drop(columns=['text', 'labels', 'DATA_DODF', 'NUM_DODF']).columns}\n",
    "missed_entities = {col: [0, []] for col in data.drop(columns=['text', 'labels', 'DATA_DODF', 'NUM_DODF']).columns}\n",
    "\n",
    "for row in range(len(data)):\n",
    "    if pd.notna(data.loc[row, 'text']):\n",
    "        entities = find_entities(data, row)\n",
    "        entities.sort()\n",
    "        labels = IOBify_text(data.loc[row, 'text'], entities)\n",
    "        s = \"\"\n",
    "        for l in labels:\n",
    "            s += l + ' '\n",
    "        data.loc[row, 'labels'] = s\n",
    "\n",
    "for col in found_entities:\n",
    "    print(f\"Found {col}: {found_entities[col]}\", f\"\\t\\t Missed {col}: {missed_entities[col][0]}\")"
   ]
  },
  {
   "cell_type": "markdown",
   "metadata": {},
   "source": [
    "## Parte 4 - Corrigindo entidades nao identificadas"
   ]
  },
  {
   "cell_type": "code",
   "execution_count": 10,
   "metadata": {},
   "outputs": [],
   "source": [
    "# Carregamento dos dados originais anotados\n",
    "data_og = pd.read_csv('TCDF_data/Atos_Aposentadoria_validados.csv')"
   ]
  },
  {
   "cell_type": "markdown",
   "metadata": {},
   "source": [
    "### Correcao manual de trechos de texto identificados erroneamente\n",
    "\n",
    "Trechos de texto que nao condizem com as entidades anotadas sao corrigidos aqui"
   ]
  },
  {
   "cell_type": "code",
   "execution_count": 11,
   "metadata": {},
   "outputs": [],
   "source": [
    "# Matricula(DONE) | NOME(DONE) | CARGO(DONE) | CLASSE(DONE) | PADRAO(DONE) | QUADRO(DONE) | PROCESSO()\n",
    "\n",
    "# Fix row 138\n",
    "data.loc[138, 'text'] = \"CONCEDER aposentadoria voluntaria com proventos integrais a servidora a seguir nominada: MARIA AUXILIADORA PE- REIRA, matricula 101.008-5, processo SEI n 00070- 00011305/2018-23, no cargo de Au- xiliar de Desenvolvimento e Fiscalizacao Agropecuaria, Classe Unica, Padrao X, do Quadro de Pessoal do Distrito Federal, com fundamento no Art. 6, incisos I, II, III e IV, da EC n 41/ 2003, combinado com o artigo 2 da EC n 47/2005, c/c a Lei Complementar no 769/08.\"\n",
    "\n",
    "# Fix row 481\n",
    "data.loc[481, 'text'] = \"CONCEDER APOSENTADORIA a IZAAC NEWTON DA SILVA, matricula 38.950-1, no Cargo de Professor de Educacao Basica, Padrao 22, Etapa IV, do Quadro de Pessoal do Distrito Federal, nos termos do artigo 6o da Emenda Constitucional no 41, de 31 de dezembro de 2003, combinado com o artigo 2o da Emenda Constitucional no 47, de 06 de julho de 2005. Processo 00080-00033434/2017-54.\"\n",
    "\n",
    "# Fix row 506\n",
    "data.loc[506, 'text'] = \"CONCEDER aposentadoria voluntaria com proventos integrais ao servidor a seguir nominado: AMISAEL GONCALVES BI- NACETT, matricula 100.453-0, processo SEI n 00070-00013097/2018-05, no cargo de Auxiliar de Desenvolvimento e Fiscalizacao Agropecuaria, Classe Unica, Padrao X, do Quadro de Pessoal do Distrito Federal, com fundamento no Art. 3, incisos I, II, III e paragrafo unico da EC no 47/2005, c/c a LC no 769/2008.\"\n",
    "data.loc[506, 'PROCESSO'] = \"00070-00013097/2018-05\"\n",
    "data.loc[506, 'CARGO'] = \"Auxiliar de Desenvolvimento e Fiscalizacao Agropecuaria\"\n",
    "\n",
    "# Fix row 537\n",
    "data.loc[537, 'text'] = \"CONCEDER APOSENTADORIA a VERA LUCIA FERREIRA DE SOUSA, matricula 40.787-9, no Cargo de Agente de Gestao Educacional/Servicos Gerais, Nivel 10, Padrao 02, Etapa III, do Quadro de Pessoal do Distrito Federal, nos termos do artigo 3o da Emenda Constitucional no 47, de 06 de julho de 2005 e o Paragrafo unico do mesmo artigo. Processo 0 0 0 8 0 - 0 0 0 0 3 4 3 2 / 2 0 1 8 - 11 .\"\n",
    "data.loc[537, 'PROCESSO'] = \"0 0 0 8 0 - 0 0 0 0 3 4 3 2 / 2 0 1 8 - 11\"\n",
    "\n",
    "#Fix row 571\n",
    "data.loc[571, 'text'] = \"CONCEDER APOSENTADORIA, nos termos do artigo 6o da Emenda Constitucional no 41/2003, combinado com o artigo 2o da Emenda Constitucional no 47/2005, combinados com o artigo 43, da Lei Complementar no 769, de 30/06/2008, a MARIA DE LOURDES SOUSA, matricula no 0143048-3, na Carreira de Assistencia Publica a Saude, no Cargo de Tecnico em Saude - TEC. LAB. HEMAT. E HEMOT, Primeira Classe, Padrao II, do Quadro de Pessoal da Secretaria de Estado de Saude do Distrito Federal. Lotacao: ADMC. Processo no 00060- 00247085/2017-21.\"\n",
    "\n",
    "# Fix row 2763\n",
    "data.loc[2763, 'text'] = \"APOSENTAR MARIA ESTER BATISTA DE MEDEIROS, matricula 204.859-0, no Cargo de Professor de Educacao Basica, Padrao 19, Etapa IV, do Quadro de Pessoal do Distrito Federal, nos termos do artigo 40, 1o, inciso I, da Constituicao da Republica Federativa do Brasil, na redacao dada pela Emenda Constitucional no 41, de 31 de dezembro de 2003, combinado com o artigo 6o-A da Emenda Constitucional no 41, de 31 de dezembro de 2003, incluido pela Emenda Constitucional no 70, de 29 de marco de 2012. Processo 00040-00015628/2019-89.\"\n",
    "\n",
    "# Fix row 4851\n",
    "data.loc[4851, 'text'] = \"CONCEDER APOSENTADORIA a KATIA MARIA ALMEIDA, matricula 49.118-7, no Cargo de Professor de Educacao Basica, Padrao 25, Etapa III, do Quadro de Pessoal do Distrito Federal, nos termos do artigo 6o da Emenda Constitucional no 41, de 31 de dezembro de 2003, combinado com o artigo 2o da Emenda Constitucional no 47, de 06 de julho de 2005, e com o artigo 40,  5o, da Constituicao da Republica Federativa do Brasil. Processo 00080-00029812/2018-86\"\n",
    "\n",
    "# Fix row 5086\n",
    "data.loc[5086, 'text'] = \"CONCEDER APOSENTADORIA, nos termos do artigo 3o, incisos I, II, III, paragrafo unico da Emenda Constitucional no 47/2005, combinados com artigo 44 da Lei Complementar no 769, de 30/06/2008, bem como as vantagens do art. 5 da Lei 4.584/2011, a LUIZ CARLOS CHAVES E SILVA, matricula no 1.400.743-6, na Carreira de Auditoria de Atividades Ur- banas, no Cargo de AUDITOR DE ATIVIDADES URBANAS, Classe Especial, Padrao V, do Quadro de Pessoal do Distrito Federal. Lotacao: ADMC. Processo: 00060- 00256728/2017-27\"\n",
    "\n",
    "# Fix row 5512\n",
    "data.loc[5512, 'text'] = \"APOSENTAR, nos termos do artigo 6o da Emenda Constitucional no 41/2003, combinado com o artigo 2o da Emenda Constitucional no 47/2005, combinados com o artigo 43, da Lei Complementar no 769, de 30/06/2008, a MARIA DE LOURDES SOUSA, matricula no 0143048-3, na Carreira de Assistencia Publica a Saude, no Cargo de Tecnico em Saude - TEC. LAB. HEMAT. E HEMOT, Primeira Classe, Padrao II, do Quadro de Pessoal da Secretaria de Estado de Saude do Distrito Federal. Lotacao: ADMC. Processo no 00060- 00247085/2017-21.\"\n"
   ]
  },
  {
   "cell_type": "markdown",
   "metadata": {},
   "source": [
    "## Correcao manual das entidades de ATO"
   ]
  },
  {
   "cell_type": "code",
   "execution_count": 12,
   "metadata": {},
   "outputs": [],
   "source": [
    "# Fix row 403\n",
    "data.loc[403, 'ATO'] = \"APOSENTADORIA VOLUNTARIA\"\n",
    "\n",
    "# Fix row 982\n",
    "data.loc[982, 'ATO'] = \"APOSENTADORIA VOLUNTARIA\"\n",
    "\n",
    "# Fix row 3846\n",
    "data.loc[3846, 'ATO'] = \"APOSENTADORIA VOLUNTARIA\"\n",
    "\n",
    "# Fix row 3853\n",
    "data.loc[3853, 'ATO'] = \"APOSENTADORIA VOLUNTARIA\""
   ]
  },
  {
   "cell_type": "markdown",
   "metadata": {},
   "source": [
    "### Correcao manual das entidades de MATRICULA\n",
    "\n",
    "utilizando as matriculas SIGRH quando matriculas ATO nao sao encontradas"
   ]
  },
  {
   "cell_type": "code",
   "execution_count": 13,
   "metadata": {},
   "outputs": [],
   "source": [
    "# Fix row 116\n",
    "data.loc[116, 'COD_MATRICULA_ATO'] = \"100.723-8\"\n",
    "\n",
    "# Fix row 138\n",
    "data.loc[138, 'COD_MATRICULA_ATO'] = data_og.loc[138, 'COD_MATRICULA_SIGRH']\n",
    "\n",
    "# Fix row 236\n",
    "data.loc[236, 'COD_MATRICULA_ATO'] = \"100.997-4\"\n",
    "\n",
    "# Fix row 422\n",
    "data.loc[422, 'COD_MATRICULA_ATO'] = data_og.loc[422, 'COD_MATRICULA_SIGRH']\n",
    "\n",
    "# Fix row 506\n",
    "data.loc[506, 'COD_MATRICULA_ATO'] = data_og.loc[506, 'COD_MATRICULA_SIGRH']\n",
    "\n",
    "# Fix row 537\n",
    "data.loc[537, 'COD_MATRICULA_ATO'] = data_og.loc[537, 'COD_MATRICULA_SIGRH']\n",
    "\n",
    "# Fix row 719\n",
    "data.loc[719, 'COD_MATRICULA_ATO'] = data_og.loc[719, 'COD_MATRICULA_SIGRH']\n",
    "\n",
    "# Fix row 761\n",
    "data.loc[761, 'COD_MATRICULA_ATO'] = data_og.loc[761, 'COD_MATRICULA_SIGRH']\n",
    "\n",
    "# Fix row 3610\n",
    "data.loc[3610, 'COD_MATRICULA_ATO'] = data_og.loc[3610, 'COD_MATRICULA_SIGRH']"
   ]
  },
  {
   "cell_type": "markdown",
   "metadata": {},
   "source": [
    "### Correcao manual das entidades de NOME\n",
    "\n",
    "Diferenca no processamento de acentos e apostrofos entre o DODFminer e as anotacoes"
   ]
  },
  {
   "cell_type": "code",
   "execution_count": 14,
   "metadata": {},
   "outputs": [],
   "source": [
    "# Nenhuma correcao necessaria"
   ]
  },
  {
   "cell_type": "markdown",
   "metadata": {},
   "source": [
    "### Correcao manual das entidades de CARGO\n",
    "\n",
    "Algumas anotacoes erroneas (apresentadas abaixo)"
   ]
  },
  {
   "cell_type": "code",
   "execution_count": 15,
   "metadata": {},
   "outputs": [],
   "source": [
    "# Fix row 719\n",
    "data.loc[719, 'CARGO'] = \"agente de transito\"\n",
    "\n",
    "# Fix row 4141\n",
    "data.loc[4141, 'CARGO'] = \"Gestor em Politicas Publicas e Gestao Governamental\""
   ]
  },
  {
   "cell_type": "markdown",
   "metadata": {},
   "source": [
    "### Correcao manual das entidades de CLASSE\n",
    "\n",
    "Em grande parte diferenca entre numeros ordinais e suas escritas por extenso (1a classe == primeira classe)"
   ]
  },
  {
   "cell_type": "code",
   "execution_count": 16,
   "metadata": {},
   "outputs": [],
   "source": [
    "for i in missed_entities['CLASSE'][1]:\n",
    "    a = data.iloc[i]['CLASSE']\n",
    "    a = a.split()\n",
    "    s = \"\"\n",
    "    if a[0].lower() == 'primeira':\n",
    "        s = \"1a Classe\"\n",
    "    elif a[0].lower() == 'segunda':\n",
    "        s = \"2a Classe\"\n",
    "    elif a[0].lower() == 'terceira':\n",
    "        s = \"3a Classe\"\n",
    "    elif a[0].lower() == 'quarta':\n",
    "        s = \"4a Classe\"\n",
    "    if s:\n",
    "        data.loc[i, 'CLASSE'] = s\n",
    "        \n",
    "# Fix row 506\n",
    "data.loc[506, 'CLASSE'] = \"Classe Unica\"\n",
    "\n",
    "# Fix row 571\n",
    "data.loc[571, 'CLASSE'] = \"Primeira Classe\"\n",
    "\n",
    "# Fix row 947\n",
    "data.loc[947, 'CLASSE'] = \"Classe Unica\"\n",
    "\n",
    "# Fix row 5512\n",
    "data.loc[5512, 'CLASSE'] = \"Primeira Classe\"\n"
   ]
  },
  {
   "cell_type": "markdown",
   "metadata": {},
   "source": [
    "### Correcao manual das entidades de PADRAO\n",
    "\n",
    "Entidades da classe PADRAO foram anotadas erroneamente (casos abaixo)"
   ]
  },
  {
   "cell_type": "code",
   "execution_count": 17,
   "metadata": {},
   "outputs": [],
   "source": [
    "# # Fix row 3199\n",
    "# data.loc[3199, 'PADRAO'] = \"Padrao 15\"\n",
    "\n",
    "# # Fix row 4449\n",
    "# data.loc[4449, 'PADRAO'] = \"Padrao 25\""
   ]
  },
  {
   "cell_type": "markdown",
   "metadata": {},
   "source": [
    "### Correcao manual das entidades de QUADRO\n",
    "\n",
    "Ainda nao sei qual o erro"
   ]
  },
  {
   "cell_type": "code",
   "execution_count": 18,
   "metadata": {},
   "outputs": [],
   "source": [
    "for i in missed_entities['QUADRO'][1]:\n",
    "    if data.loc[i, 'QUADRO'] == 'QUADRO DE PESSOAL DO SERVICO DE LIMPEZA URBANA':\n",
    "        data.loc[i, 'QUADRO'] = \"QP/SLU\"\n",
    "        \n",
    "# Fix row 3927 (DODFminer pulou parte do texto do DODF)\n",
    "data.loc[3927, 'QUADRO'] = \"Quadro de Pessoal do Governo do Distrito\"\n",
    "\n",
    "# Fix row 104 (DODFminer pulou parte do texto do DODF)\n",
    "data.loc[104, 'QUADRO'] = \"Quadro de\""
   ]
  },
  {
   "cell_type": "markdown",
   "metadata": {},
   "source": [
    "### Correcao manual das entidades de EMPRESA_ATO\n",
    "\n",
    "Algumas anotacoes nao aparecem no DODF"
   ]
  },
  {
   "cell_type": "code",
   "execution_count": null,
   "metadata": {},
   "outputs": [],
   "source": [
    "\n"
   ]
  },
  {
   "cell_type": "markdown",
   "metadata": {},
   "source": [
    "### Correcao manual das entidades de FUND_LEGAL\n",
    "\n",
    "Tentativa de usar o comeco e o final das entidades de FUND_LEGAL (3 primeiras e tres ultimas palavras\n",
    "\n",
    "Para as entidades nao encontradas, correcao manual"
   ]
  },
  {
   "cell_type": "markdown",
   "metadata": {},
   "source": [
    "#### Utilizando as 3 primeiras e 3 ultimas palavras da entidade FUND_LEGAL anotada"
   ]
  },
  {
   "cell_type": "code",
   "execution_count": 19,
   "metadata": {
    "scrolled": true
   },
   "outputs": [
    {
     "name": "stdout",
     "output_type": "stream",
     "text": [
      "NOS TERMOS DO ARTIGO 40,  1o, INCISO III, ALINEA AE  3o, 5o,8o E 17, DA CONSTITUICAO DA REPUBLICA FEDERATIVA DO BRASIL, NA REDACAO DADA PELA EMENDA CONSTITUCIONAL No 41, DE 31 DE DEZEMBRO DE 2003, E ARTIGOS 46 E 51 DA LEI COMPLEMENTAR No 769, DE 01 DE JULHO DE 2008\n",
      "nos termos do artigo 40,  1o, inciso III, alinea \"a\"e 3o, 5o,8o e 17, da Constituicao da Republica Federativa do Brasil, na redacao dada pelaEmenda Constitucional no 41, de 31 de dezembro de 2003, e artigos 46 e 51 da LeiComplementar no 769, de 01 de julho de 2008\n"
     ]
    }
   ],
   "source": [
    "# Utilizando as tres primeiras e tres ultimas palavras da entidade anotada (ao inves de a entidade completa) com regex\n",
    "\n",
    "print(data.loc[290, 'FUND_LEGAL'])\n",
    "for sample in missed_entities['FUND_LEGAL'][1]:\n",
    "    s = data.loc[sample, 'FUND_LEGAL'].split()\n",
    "    beg = ' '.join(s[:4])\n",
    "    end = ' '.join(s[-3:len(s)]).replace(' NAo ', ' No ')\n",
    "        \n",
    "    # Criando regex para a entidade FUND_LEGAL (utilizando as primeiras 3 e as ultimas 3 palavras de data.loc[sample, 'FUND_LEGAL'])\n",
    "    re_FUND_LEGAL = \"\"\n",
    "    for i in beg:\n",
    "        if (i >= 'a' and i <= 'z') or (i>='A' and i<='Z'):\n",
    "            re_FUND_LEGAL += f\"[{i.lower()}{i.upper()}]\" + \"[-,.\\s]*?\"\n",
    "        else:\n",
    "            re_FUND_LEGAL += i + \"[-,.\\s]*?\"\n",
    "    re_FUND_LEGAL += '.*?'\n",
    "    for i in end:\n",
    "        if (i >= 'a' and i <= 'z') or (i>='A' and i<='Z'):\n",
    "            re_FUND_LEGAL += f\"[{i.lower()}{i.upper()}]\" + \"[-,.\\s]*?\"\n",
    "        else:\n",
    "            re_FUND_LEGAL += i + \"[-,.\\s]*?\"\n",
    "            \n",
    "    # Busca do regex no trecho de texto que deve conter esta entidade\n",
    "    result = re.search(re_FUND_LEGAL, data.loc[sample, 'text'])\n",
    "    if result:\n",
    "        if abs(len(data.loc[sample, 'text'][result.span()[0]:result.span()[1]].split()) - len(data.loc[sample, 'FUND_LEGAL'].split())) < 3:\n",
    "            data.loc[sample, 'FUND_LEGAL'] = result[0]\n",
    "            \n",
    "print(data.loc[290, 'FUND_LEGAL'])\n"
   ]
  },
  {
   "cell_type": "markdown",
   "metadata": {},
   "source": [
    "#### correcao manual"
   ]
  },
  {
   "cell_type": "code",
   "execution_count": 20,
   "metadata": {},
   "outputs": [],
   "source": [
    "# Fix row 947\n",
    "data.loc[947, 'FUND_LEGAL'] = 'nos termos do artigo 40,  1o, inciso I, da Constituicao da Republica Federativa do Brasil, na redacao da Emenda Constitucional no 41, de 19/12/2003, combinado com o artigo 6o-A da Emenda Constitucional no 41, de 19/12/2003, incluido pela Emenda Constitucional no. 70, de 29/03/2012, com a vantagem pessoal prevista no artigo 5o da Lei no 4.584, de 08 / 0 7 / 2 0 11'\n",
    "\n",
    "# Fix row 4023\n",
    "data.loc[4023, 'FUND_LEGAL'] = 'fundamentada no art. 3o, incisos I, II e III, e paragrafo unico da Emenda Constitucional no 47/05, com a vantagem pessoal prevista no art. 7o da Lei no 1.004/96, c/c com o art. 4o da Lei no 1.141/96, com o art. 4o, paragrafo unico, da Lei no 1.864/98.'\n",
    "\n",
    "# Fix row 4091\n",
    "data.loc[4091, 'FUND_LEGAL'] = 'nos termos do artigo 40, 1o, inciso I, e  3o, 8o e 17, da Constituicao da Republica Federativa do Brasil, na redacao dada pela Emenda Constitucional no 41/2003, e artigos 46 e 51 da Lei Complementar 769/2008, de acordo com o Laudo Medico no 032/2017 e Laudo de Junta Medica Oficial de Recurso n 019/2017'\n",
    "\n",
    "# Fix row 4265\n",
    "data.loc[4265, 'FUND_LEGAL'] = 'nos termos do artigo 6o da Emenda Constitucional no 41/2003, c/c o artigo 2o da Emenda Constitucional no 41/2003'\n",
    "\n",
    "# Fix row 4351\n",
    "data.loc[4351, 'FUND_LEGAL'] = 'fundamentada no art. 3o, incisos I, II e III, e paragrafo unico, da Emenda Constitucional no 47/05, com a vantagem pessoal prevista no art. 7o da Lei no 1.004/96, c/c com o art. 4o da Lei no 1.141/96, com o art. 4o, paragrafo unico, da Lei no 1.864/98'\n",
    "\n",
    "# Fix row 4352\n",
    "data.loc[4352, 'FUND_LEGAL'] = 'fundamentada no art. 3o, incisos I, II e III, e paragrafo unico da Emenda Constitucional no 47/05, com a vantagem pessoal prevista nos artigos 1o e 7o da Lei no 1.004/96, combinados com o artigo 4o da Lei no 1.141/96, e com o artigo 4o, Paragrafo unico, da Lei no 1.864/98'\n",
    "\n",
    "# Fix row 4353\n",
    "data.loc[4353, 'FUND_LEGAL'] = 'fundamentada no art. 3o, incisos I, II e III, e paragrafo unico da Emenda Constitucional no 47/05, com a vantagem pessoal prevista no art. 1o e 7o da Lei no 1.004/96, c/c com o art. 4o da Lei no 1.141/96, e com o art. 4o, paragrafo unico, da Lei no 1.864/98'\n",
    "\n",
    "# Fix row 4365\n",
    "data.loc[4365, 'FUND_LEGAL'] = 'nos termos do artigo 40,  1o, inciso I, in fine, e  3o, 8o e 17, da Constituicao da Republica Federativa do Brasil, na redacao da Emenda Constitucional no 41, de 19/12/2003, e artigos 18,  5o, 46 e 51 da Lei Complementar no 769, de 30/06/2008'\n",
    "\n",
    "# Fix row 4368\n",
    "data.loc[4368, 'FUND_LEGAL'] = 'fundamentada no art. 3o, incisos I, II e III, e paragrafo unico da Emenda Constitucional no 47/05'\n",
    "\n",
    "# Fix row 4383\n",
    "data.loc[4383, 'FUND_LEGAL'] = 'fundamentada no art. 3o, incisos I, II e III, e paragrafo unico da Emenda Constitucional no 47/05, com a vantagem pessoal prevista no art. 7o da Lei no 1.004/96, c/c com o art. 4o da Lei no 1.141/96, com o art. 4o, paragrafo unico, da Lei no 1.864/98'\n",
    "\n",
    "# Fix row 4388\n",
    "data.loc[4388, 'FUND_LEGAL'] = 'fundamentada no art. 3o, incisos I, II e III, e paragrafo unico da Emenda Constitucional no 47/05'\n",
    "\n",
    "# Fix row 4416\n",
    "data.loc[4416, 'FUND_LEGAL'] = 'na redacao dada pela Emenda Constitucional no 41/2003, e artigos 18,  5o, 46 e 51 da Lei Complementar no 769/08, de acordo com o Laudo Medico no 042/2017'\n",
    "\n",
    "# Fix row 4426\n",
    "data.loc[4426, 'FUND_LEGAL'] = 'nos termos do artigo 40,  1o, inciso I, in fine, e  3o, 8o e 17, da Constituicao da Republica Federativa do Brasil, na redacao da Emenda Constitucional no 41, de 19/12/2003, e artigos 18,  5o, 46 e 51 da Lei Complementar no 769, de 30/06/2008'\n",
    "\n",
    "# Fix row 4990\n",
    "data.loc[4990, 'FUND_LEGAL'] = 'nos termos do artigo 6o SECRETARIA DE ESTADO DE EDUCACAO da Emenda Constitucional no 41, de 31 de dezembro de 2003, combinado com o artigo 2o da Emenda Constitucional no 47, de 06 de julho de 2005'\n"
   ]
  },
  {
   "cell_type": "markdown",
   "metadata": {},
   "source": [
    "### Correcao manual de trechos das entidades de PROCESSO"
   ]
  },
  {
   "cell_type": "code",
   "execution_count": 21,
   "metadata": {},
   "outputs": [],
   "source": [
    "# Fix row 124\n",
    "data.loc[124, 'text'] = 'A DIRETORA DO DEPARTAMENTO DE GESTAO DE PESSOAS, DA POLICIA CIVIL DO DISTRITO FEDERAL, no uso de suas atribuicoes legais e tendo em vista a delegacao de competencia que lhe foi conferida pelo artigo 1o da Portaria no 3, de 11 de janeiro de 2012, e, ainda, o constante no processo 052.001.852/2013, RESOLVE: CONCEDER apo- sentadoria a WILSON FRANCISCO DA SILVA, matricula no 58.678-1, no cargo efetivo de Agente Policial de Custodia, Classe Especial, da Carreira de Policia Civil do Distrito Federal, nos termos do artigo 6o da Emenda Constitucional no 41/2003 c/c o artigo 2o da Emenda Constitucional no 47/2005.'\n",
    "\n",
    "# fix row 973\n",
    "data.loc[973, 'text'] = \"O PRESIDENTE EM EXERCICIO DO TRIBUNAL DE CONTAS DO DISTRITO FE- DERAL, no uso da atribuicao que lhe confere o art. 68, inc. III, da Lei Complementar no 1, de 9 de maio de 1994, e tendo em vista o que se apresenta no Processo no29.644/2017-e, RESOLVE: CONCEDER aposentadoria voluntaria a servidora IVONETE PETRONILO DE AQUINO, Auxiliar de Administracao Publica, Classe Especial, Padrao 25, matricula 988-1, do Quadro de Pessoal dos Servicos Auxiliares desta Corte, fundamentada no art. 3o, incisos I, II e III, e paragrafo unico da Emenda Constitucional no 47/05, com a vantagem pessoal prevista no artigo 1o da Lei no 1.004/96, combinado com os artigos 4o da Lei no 1.141/96 e 4o, paragrafo unico, da Lei no 1.864/98.\"\n",
    "\n",
    "# Fix row 1059\n",
    "data.loc[1059, 'text'] = \"O PRESIDENTE EM EXERCICIO DO TRIBUNAL DE CONTAS DO DISTRITO FEDERAL, no uso da atribuicao que lhe confere o art. 68, inc. III, da Lei Complementar no 1, de 9 de maio de 1994, e tendo em vista o que se apresenta no Processo no 18.329/2018-e, resolve: Conceder aposentadoria voluntaria ao servidor EDUARDO MARIA DE MACEDO FRANCA, Auditor de Controle Externo, Classe Especial, Padrao 63, matricula 276-3, do Quadro de Pessoal dos Servicos Auxiliares deste Tribunal, fundamentada no art. 3o, incisos I, II e III, e paragrafo unico da Emenda Constitucional no 47/05, com a vantagem pessoal prevista no art. 7o da Lei no 1.004/96, c/c com o art. 4o da Lei no 1.141/96, com o art. 4o, paragrafo unico, da Lei no 1.864/98.\"\n",
    "\n",
    "# Fix row 1070\n",
    "data.loc[1070, 'text'] = \"O DIRETOR DO DEPARTAMENTO DE GESTAO DE PESSOAS, DA POLICIA CIVIL DO DISTRITO FEDERAL, no uso de suas atribuicoes legais e tendo em vista a delegacao de competencia que lhe foi conferida pelo artigo 1o da Portaria no 3, de 11 de janeiro de 2012, e, ainda, o constante no processo 00052- 00022842/2018-17, resolve: CONCEDER aposentadoria a LEONIDAS PEREIRA DE ALMEIDA, matricula no 57.863-0, no cargo efetivo de Agente de Policia, Classe Especial, da Carreira de Policia Civil do Distrito Federal, nos termos do artigo 1o, inciso II, alinea \\\"a\\\", da Lei Complementar no 51, de 20 de dezembro de 1985, com redacao dada pela Lei Complementar no 144, de 15 de maio de 2014, combinado com o artigo 40,  3o e 4o da CONSTITUICAO DA REPUBLICA.\"\n",
    "\n",
    "# Fix row 1227\n",
    "data.loc[1227, 'text'] = \"A PRESIDENTE DO TRIBUNAL DE CONTAS DO DISTRITO FEDERAL, no uso da atribuicao que lhe confere o art. 68, inc. III, da Lei Complementar no 1, de 9 de maio de 1994, e tendo em vista o que se apresenta no Processo no 1.499/2019-e, resolve: CONCEDER aposentadoria voluntaria a servidora SANDRA DE ANDRADE PACHECO, Tecnica de Administracao Publica, Classe Especial, Padrao 44, matricula no 1270-0, do Quadro de Pessoal dos Servicos Auxiliares deste Tribunal, fundamentada no art. 3o, incisos I, II e III, e paragrafo unico da Emenda Constitucional no 47/05.\"\n",
    "\n",
    "# Fix row 1261\n",
    "data.loc[1261, 'text'] = \"O PRESIDENTE EM EXERCICIO DO TRIBUNAL DE CONTAS DO DISTRITO FEDERAL, no uso da atribuicao que lhe confere o art. 68, inc. III, da Lei Complementar no 1, de 9 de maio de 1994, e tendo em vista o que se apresenta no Processo no 906/2019-e, resolve: CONCEDER aposentadoria voluntaria a servidora JOSEFA DA SILVA RIBEIRO DE AVILA, Tecnica de Administracao Publica, Classe Especial, Padrao 44, matricula no 1021-9, do Quadro de Pessoal dos Servicos Auxiliares deste Tribunal, fundamentada no art. 3o, incisos I, II e III, e paragrafo unico da Emenda Constitucional no 47/05, com a vantagem pessoal prevista no art. 1o e 7o da Lei no 1.004/96, c/c o art. 4o da Lei no 1.141/96, e com o art. 4o, paragrafo unico, da Lei no 1.864/98.\"\n",
    "\n",
    "# Fix row 1398\n",
    "data.loc[1398, 'text'] = 'O DIRETOR DO DEPARTAMENTO DE GESTAO DE PESSOAS DA POLICIA CIVIL DO DISTRITO FEDERAL, no uso de suas atribuicoes legais e tendo em vista a delegacao de competencia que lhe foi conferida pelo artigo 1o, inciso IV, da Portaria no 25, de 18 de junho de 2018, e, ainda, o constante no processo 00052-00002900/2019-77, resolve: CONCEDER aposentadoria a FRANCISCO FIDELMAN ALVES DE LIMA, matricula no 46.846-0, no cargo efetivo de Agente de Policia, Classe Especial, da Carreira de Policia Civil do Distrito Federal, nos termos do artigo 1o, inciso II, alinea \\\"a\\\", da Lei Complementar no 51, de 20 de dezembro de 1985, com redacao dada pela Lei Complementar no 144, de 15 de maio de 2014, combinado com o artigo 40,  3o e 4o da CONSTITUICAO DA RE- PUBLICA FEDERATIVA DO BRASIL, com redacao dada pela Emenda Constitucional no 20/1998, e com os artigos 3o e 7o da Emenda Constitucional no 41/2003.'\n",
    "\n",
    "# Fix row 1419\n",
    "data.loc[1419, 'text'] = 'A PRESIDENTE DO TRIBUNAL DE CONTAS DO DISTRITO FEDERAL, no uso da atribuicao que lhe confere o art. 68, inc. III, da Lei Complementar no 1, de 9 de maio de 1994, e tendo em vista o que se apresenta no Processo no 21.320/2018-e, resolve: Conceder aposentadoria voluntaria ao servidor JOAO ADRIANO DE CARVALHO, Auditor de Controle Externo, Classe Especial, Padrao 63, matricula 500-2, do Quadro de Pessoal dos Servicos Auxiliares deste Tribunal, fundamentada no art. 3o, incisos I, II e III, e paragrafo unico da Emenda Constitucional no 47/05.'\n",
    "\n",
    "# Fix row 1606\n",
    "data.loc[1606, 'text'] = ' PRESIDENTE DO TRIBUNAL DE CONTAS DO DISTRITO FEDERAL, no uso da atribuicao que lhe confere o art. 68, inc. III, da Lei Complementar no 1, de 9 de maio de 1994, e tendo em vista o que se apresenta no Processo no 5338/2019-e, resolve: Conceder aposentadoria voluntaria ao servidor EDNALDO NOGUEIRA AMARAL, Tecnico de Administracao Publica, Classe Especial, Padrao 44, matricula no 1199-1, do Quadro de Pessoal dos Servicos Auxiliares deste Tribunal, fundamentada no art. 3o, incisos I, II e III, e paragrafo unico da Emenda Constitucional no 47/05.'\n",
    "\n",
    "# Fix row 1607\n",
    "data.loc[1607, 'text'] = 'A PRESIDENTE DO TRIBUNAL DE CONTAS DO DISTRITO FEDERAL, no uso da atribuicao que lhe confere o art. 68, inc. III, da Lei Complementar no 1, de 9 de maio de 1994, e tendo em vista o que se apresenta no Processo no 20269/2018-e, resolve: Conceder aposentadoria voluntaria ao servidor ITAMAR LINO DE OLIVEIRA, Tecnico de Administracao Publica, Classe Especial, Padrao 44, matricula no 1101- 1, do Quadro de Pessoal dos Servicos Auxiliares deste Tribunal, fundamentada no art. 3o, incisos I, II e III, e paragrafo unico da Emenda Constitucional no 47/05, com a vantagem pessoal prevista no art. 1o e 7o da Lei no 1.004/96, c/c o art. 4o da Lei no 1.141/96, e com o art. 4o, paragrafo unico, da Lei no 1.864/98.'\n",
    "\n",
    "# Fix row 1611\n",
    "data.loc[1611, 'text'] = 'A PRESIDENTE DO TRIBUNAL DE CONTAS DO DISTRITO FEDERAL, no uso da atribuicao que lhe confere o art. 68, inc. III, da Lei Complementar no 1, de 9 de maio de 1994, e tendo em vista o que se apresenta no Processo no 10471/2017-e, resolve: CONCEDER aposentadoria voluntaria ao servidor CLERIO BORBA BRASIL, Auditor de Controle Externo, Classe Especial, Padrao 63, matricula no 414-6, do Quadro de Pessoal dos Servicos Auxiliares deste Tribunal, fundamentada no art. 3o, incisos I, II e III, e paragrafo unico da Emenda Constitucional no 47/05.'\n",
    "\n",
    "# Fix row 1716\n",
    "data.loc[1716, 'text'] = 'A PRESIDENTE DO TRIBUNAL DE CONTAS DO DISTRITO FEDERAL, no uso da atribuicao que lhe confere o art. 68, inc. III, da Lei Complementar no 1, de 9 de maio de 1994, e tendo em vista o que se apresenta no Processo no 5.419/2019-e, resolve: CONCEDER aposentadoria voluntaria a servidora LUCIANA DE ALBUQUERQUE MELLO SEIXAS, Auditora de Controle Externo, Classe Especial, Padrao 63, matricula no 546-1, do Quadro de Pessoal dos Servicos Auxiliares deste Tribunal, fundamentada no art. 3o, incisos I, II e III, e paragrafo unico da Emenda Constitucional no 47/05.'\n",
    "\n",
    "# Fix row 2000\n",
    "data.loc[2000, 'text'] = 'A PRESIDENTE DO TRIBUNAL DE CONTAS DO DISTRITO FEDERAL, no uso da atribuicao que lhe confere o art. 68, inc. III, da Lei Complementar no 1, de 9 de maio de 1994, e tendo em vista o que se apresenta no Processo no 8310/2019-e, resolve: Conceder aposentadoria voluntaria a servidora ROSELI RAPOSO, Auxiliar de Administracao Publica, Classe Especial, Padrao 25, matricula 1030-8, do Quadro de Pessoal dos Servicos Auxiliares deste Tribunal, fundamentada no art. 3o, incisos I, II e III, e paragrafo unico da Emenda Constitucional no 47/05.'\n",
    "\n",
    "# Fix row 2101\n",
    "data.loc[2101, 'text'] = 'A PRESIDENTE DO TRIBUNAL DE CONTAS DO DISTRITO FEDERAL, no uso da atribuicao que lhe confere o art. 68, inc. III, da Lei Complementar no 1, de 9 de maio de 1994, e tendo em vista o que se apresenta no Processo no 36.696/2018-e, resolve: CONCEDER aposentadoria voluntaria a JOSIMAR DIAS MATOS, Tecnico de Administracao Publica, Classe Especial, Padrao 44, matricula no 836-2, do Quadro de Pessoal dos Servicos Auxiliares desta Corte, fundamentada no art. 3o, incisos I, II e III, e paragrafo unico da Emenda Constitucional no 47/05.'\n",
    "\n",
    "# Fix row 2272\n",
    "data.loc[2272, 'text'] = 'A PRESIDENTE DO TRIBUNAL DE CONTAS DO DISTRITO FEDERAL, no uso da atribuicao que lhe confere o art. 68, inc. III, da Lei Complementar no 1, de 9 de maio de 1994, e tendo em vista o que se apresenta no Processo no 11.671/2019-e, resolve: CONCEDER aposentadoria voluntaria ao servidor GIVALDO ANTONIO BATISTA DA CUNHA, Tecnico de Administracao Publica, Classe Especial, Padrao 44, matricula no 990-3, do Quadro de Pessoal dos Servicos Auxiliares deste Tribunal, fundamentada no art. 3o, incisos I, II e III, e paragrafo unico da Emenda Constitucional no 47/05.'\n",
    "\n",
    "# Fix row 2299\n",
    "data.loc[2299, 'text'] = 'A PRESIDENTE DO TRIBUNAL DE CONTAS DO DISTRITO FEDERAL, no uso da atribuicao que lhe confere o art. 68, inc. III, da Lei Complementar no 1, de 9 de maio de 1994, e tendo em vista o que se apresenta no Processo no 36.858/2018-e, resolve: CONCEDER aposentadoria voluntaria a servidora CELINA PEREIRA DE SOUZA, Auxiliar de Administracao Publica, Classe Especial, Padrao 25, matricula no 1042-1, do Quadro de Pessoal dos Servicos Auxiliares desta Corte, fundamentada no art. 3o, incisos I, II e III, e paragrafo unico da Emenda Constitucional no 47/05, com a vantagem pessoal prevista no artigo 1o da Lei no 1.004/96, combinado com os artigos 4o da Lei no 1.141/96 e 4o, paragrafo unico, da Lei no 1.864/98.'\n",
    "\n",
    "# Fix row 2393\n",
    "data.loc[2393, 'text'] = 'A PRESIDENTE DO TRIBUNAL DE CONTAS DO DISTRITO FEDERAL, no uso da atribuicao que lhe confere o art. 68, inc. III, da Lei Complementar no 1, de 9 de maio de 1994, e tendo em vista o que se apresenta no Processo no 18.876/2018-e, resolve: CONCEDER aposentadoria voluntaria a servidora ELIZABETH DAS GRACAS CALDEIRA BRANT OLIVEIRA, Auxiliar de Administracao Publica, Classe Especial, Padrao 25, matricula no 757-9, do Quadro de Pessoal dos Servicos Auxiliares desta Corte, fundamentada no art. 3o, incisos I, II e III, e paragrafo unico da Emenda Constitucional no 47/05, com a vantagem pessoal prevista no artigo 1o da Lei no 1.004/96, combinado com os artigos 4o da Lei no 1.141/96 e 4o, paragrafo unico, da Lei 1.864/98.'\n",
    "\n",
    "# Fix row 2444\n",
    "data.loc[2444, 'text'] = 'A PRESIDENTE DO TRIBUNAL DE CONTAS DO DISTRITO FEDERAL, no uso da atribuicao que lhe confere o art. 68, inc. III, da Lei Complementar no 1, de 9 de maio de 1994, e tendo em vista o que se apresenta no Processo no 2690/2019-e, resolve: CONCEDER aposentadoria voluntaria a servidora ROSILAINY DA FONSECA SIQUEIRA, Tecnica de Administracao Publica, Classe Especial, Padrao 44, matricula 1006-5, do Quadro de Pessoal dos Servicos Auxiliares deste Tribunal, fundamentada no art. 3o, incisos I, II e III, e paragrafo unico da Emenda Constitucional no 47/05, com a vantagem pessoal prevista no art. 7o da Lei no 1.004/96, c/c com o art. 4o da Lei no 1.141/96, com o art. 4o, paragrafo unico, da Lei no 1.864/98.'\n",
    "\n",
    "# Fix row 2574\n",
    "data.loc[2574, 'text'] = 'O PRESIDENTE DO TRIBUNAL DE CONTAS DO DISTRITO FEDERAL, Em Exercicio, no uso da atribuicao que lhe confere o art. 68, inc. III, da Lei Complementar no 1, de 9 de maio de 1994, e tendo em vista o que se apresenta no Processo no 9074/2019-e, resolve: CONCEDER aposentadoria voluntaria ao servidor PEDRO JOSE MARTINS SALGADO, Tecnico de Administracao Publica, Classe Especial, Padrao 44, matricula 932-6, do Quadro de Pessoal dos Servicos Auxiliares deste Tribunal, fundamentada no art. 3o, incisos I, II e III, e paragrafo unico da Emenda Constitucional no 47/05, com a vantagem pessoal prevista nos artigos 1o e 7o da Lei no 1.004/96, combinados com o artigo 4o da Lei no 1.141/96, e com o artigo 4o, paragrafo unico, da Lei no 1.864/98.'\n",
    "\n",
    "# Fix row 3049\n",
    "data.loc[3049, 'text'] = 'O PRESIDENTE EM EXERCICIO DO TRIBUNAL DE CONTAS DO DISTRITO FEDERAL, no uso da atribuicao que lhe confere o art. 68, inc. III, da Lei Complementar no 1, de 9 de maio de 1994, e tendo em vista o que se apresenta no Processo no 8639/2019-e, resolve: CONCEDER aposentadoria voluntaria ao servidor ULISSES APARECIDO RIBEIRO, Tecnico de Administracao Publica, Classe Especial, Padrao 44, matricula 964-4, do Quadro de Pessoal dos Servicos Auxiliares deste Tribunal, fundamentada no art. 3o, incisos I, II e III, e paragrafo unico da Emenda Constitucional no 47/05, com a vantagem pessoal prevista no art. 7o da Lei no 1.004/96, c/c com o art. 4o da Lei no 1.141/96, com o art. 4o, paragrafo unico, da Lei no 1.864/98.'\n",
    "\n",
    "# Fix row 3070\n",
    "data.loc[3070, 'text'] = 'A PRESIDENTE DO TRIBUNAL DE CONTAS DO DISTRITO FEDERAL, no uso da atribuicao que lhe confere o art. 68, inc. III, da Lei Complementar no 1, de 9 de maio de 1994, e tendo em vista o que se apresenta no Processo no 6236/2017-e, resolve: CONCEDER aposentadoria voluntaria ao servidor HENRIQUE MATTEI, Auditor de Controle Externo, Classe Especial, Padrao 63, matricula no 526-6, do Quadro de Pessoal dos Servicos Auxiliares deste Tribunal, fundamentada no art. 3o, incisos I, II e III, e paragrafo unico da Emenda Constitucional no 47/05.'\n",
    "\n",
    "# Fix row 4023\n",
    "data.loc[4023, 'text'] = 'A PRESIDENTE DO TRIBUNAL DE CONTAS DO DISTRITO FEDERAL, no uso da atribuicao que lhe confere o art. 68, inc. III, da Lei Complementar no 1, de 9 de maio de 1994, e tendo em vista o que se apresenta no Processo no 11.715/2018-e, resolve: Conceder aposentadoria voluntaria a servidora TELMA FONTINELE QUEIROZ, Auxiliar de Administracao Publica, Classe Especial, Padrao 25, matricula 1029-4, do Quadro de Pessoal dos Servicos Auxiliares desta Corte, fundamentada no art. 3o, incisos I, II e III, e paragrafo unico da Emenda Constitucional no 47/05, com a vantagem pessoal prevista no art. 7o da Lei no 1.004/96, c/c com o art. 4o da Lei no 1.141/96, com o art. 4o, paragrafo unico, da Lei no 1.864/98.'\n",
    "\n",
    "# Fix row 4300\n",
    "data.loc[4300, 'text'] = 'A DIRETORA DO DEPARTAMENTO DE GESTAO DE PESSOAS, DA POLICIA CIVIL DO DISTRITO FEDERAL, no uso de suas atribuicoes legais e tendo em vista a delegacao de competencia que lhe foi conferida pelo artigo 1o da Portaria no 3, de 11 de janeiro de 2012, e, ainda, o constante no processo 00052-00020632/2018-94, resolve: CONCEDER aposentadoria a NAGELA CRISTIEN DO MONT, matricula no 43.492-2, no cargo efetivo de Agente de Policia, Classe Especial, da Carreira de Policia Civil do Distrito Federal, nos termos do artigo 1o, inciso II, alinea \\\"b\\\", da Lei Complementar no 51, de 20 de dezembro de 1985, com redacao dada pela Lei Complementar no 144, de 15 de maio de 2014, combinado com o artigo 40,  3o e 4o da Constituicao da Republica Federativa do Brasil, com redacao dada pela Emenda Constitucional no 20/1998, e com os artigos 3o e 7o da Emenda Constitucional no 41/2003.'\n",
    "\n",
    "# Fix row 4351\n",
    "data.loc[4351, 'text'] = \"A PRESIDENTE DO TRIBUNAL DE CONTAS DO DISTRITO FEDERAL, no uso da atribuicao que lhe confere o art. 68, inciso III, da Lei Complementar no 1, de 9 de maio de 1994, e tendo em vista o que se apresenta no Processo no 24081/17-e, resolve: Conceder aposentadoria voluntaria ao servidor MARIO NUNES ATAIDES, Tecnico de Administracao Publica, Classe Especial, Padrao 44, matricula no 901-6, do Quadro de Pessoal dos Servicos Auxiliares deste Tribunal, fundamentada no art. 3o, incisos I, II e III, e paragrafo unico, da Emenda Constitucional no 47/05, com a vantagem pessoal prevista no art. 7o da Lei no 1.004/96, c/c com o art. 4o da Lei no 1.141/96, com o art. 4o, paragrafo unico, da Lei no 1.864/98.\"\n",
    "\n",
    "# Fix row 4352\n",
    "data.loc[4352, 'text'] = \"A PRESIDENTE DO TRIBUNAL DE CONTAS DO DISTRITO FEDERAL, no uso da atribuicao que lhe confere o art. 68, inciso III, da Lei Complementar no 1, de 9 de maio de 1994, e tendo em vista o que se apresenta no Processo no 40.249/2017-e, resolve: Conceder aposentadoria voluntaria ao servidor PAULO CEZAR CARNEIRO, Auditor de Controle Externo, Classe Especial, Padrao 63, matricula 316-6, do Quadro de Pessoal dos Servicos Auxiliares deste Tribunal, fundamentada no art. 3o, incisos I, II e III, e paragrafo unico da Emenda Constitucional no 47/05, com a vantagem pessoal prevista nos artigos 1o e 7o da Lei no 1.004/96, combinados com o artigo 4o da Lei no 1.141/96, e com o artigo 4o, Paragrafo unico, da Lei no 1.864/98.\"\n",
    "\n",
    "# Fix row 4353\n",
    "data.loc[4353, 'text'] = \"A PRESIDENTE DO TRIBUNAL DE CONTAS DO DISTRITO FEDERAL, no uso da atribuicao que lhe confere o art. 68, inciso III, da Lei Complementar no 1, de 9 de maio de 1994, e tendo em vista o que se apresenta no Processo no 29.420/2014-e, resolve: Conceder aposentadoria voluntaria a servidora GEUSA SANTANA DA SILVA, Tecnica de Administracao Publica, Classe Especial, Padrao 44, matricula 1122-3, do Quadro de Pessoal dos Servicos Auxiliares deste Tribunal, fundamentada no art. 3o, incisos I, II e III, e paragrafo unico da Emenda Constitucional no 47/05, com a vantagem pessoal prevista no art. 1o e 7o da Lei no 1.004/96, c/c com o art. 4o da Lei no 1.141/96, e com o art. 4o, paragrafo unico, da Lei no 1.864/98.\"\n",
    "\n",
    "# Fix row 4368\n",
    "data.loc[4368, 'text'] = \"A PRESIDENTE DO TRIBUNAL DE CONTAS DO DISTRITO FEDERAL, no uso da atribuicao que lhe confere o art. 68, inc. III, da Lei Complementar no 1, de 9 de maio de 1994, e tendo em vista o que se apresenta no Processo no 36.629/2018-e, resolve: Conceder aposentadoria voluntaria ao servidor FRANCISCO SOARES DA SILVA, Tecnico de Administracao Publica, Classe Especial, Padrao 44, matricula no 781-1, do Quadro de Pessoal dos Servicos Auxiliares desta Corte, fundamentada no art. 3o, incisos I, II e III, e paragrafo unico da Emenda Constitucional no 47/05.\"\n",
    "\n",
    "# Fix row 4383\n",
    "data.loc[4383, 'text'] = \"A PRESIDENTE DO TRIBUNAL DE CONTAS DO DISTRITO FEDERAL, no uso da atribuicao que lhe confere o art. 68, inc. III, da Lei Complementar no 1, de 9 de maio de 1994, e tendo em vista o que se apresenta no Processo no 31.538/2018-e, resolve: Conceder aposentadoria voluntaria a servidora GIRLENE MOREIRA DA SILVA, Tecnica de Administracao Publica, Classe Especial, Padrao 44, matricula 790-1, do Quadro de Pessoal dos Servicos Auxiliares deste Tribunal, fundamentada no art. 3o, incisos I, II e III, e paragrafo unico da Emenda Constitucional no 47/05, com a vantagem pessoal prevista no art. 7o da Lei no 1.004/96, c/c com o art. 4o da Lei no 1.141/96, com o art. 4o, paragrafo unico, da Lei no 1.864/98.\"\n",
    "\n",
    "# Fix row 4388\n",
    "data.loc[4388, 'text'] = \"A PRESIDENTE DO TRIBUNAL DE CONTAS DO DISTRITO FEDERAL, no uso da atribuicao que lhe confere o art. 68, inc. III, da Lei Complementar no 1, de 9 de maio de 1994, e tendo em vista o que se apresenta no Processo no 16.879/2017-e, resolve: Conceder aposentadoria voluntaria ao servidor FRANCISCO JOSCELY TEIXEIRA ALBUQUERQUE, Auditor de Controle Externo, Classe Especial, Padrao 63, matricula no 521-5, do Quadro de Pessoal dos Servicos Auxiliares deste Tribunal, fundamentada no art. 3o, incisos I, II e III, e paragrafo unico da Emenda Constitucional no 47/05.\"\n",
    "\n",
    "# Fix row 4468\n",
    "data.loc[4468, 'text'] = \"A PRESIDENTE DO TRIBUNAL DE CONTAS DO DISTRITO FEDERAL, no uso da atribuicao que lhe confere o art. 68, inc. III, da Lei Complementar no 1, de 9 de maio de 1994, e tendo em vista o que se apresenta no Processo no 4050/2018-e, resolve: CONCEDER aposentadoria por invalidez permanente a servidora LEILA MAGDA DE MELO, Tecnica de Administracao Publica, Classe Especial, Padrao 44, matricula no 1103-7, do Quadro de Pessoal dos Servicos Auxiliares deste Tribunal, com fundamento no artigo 40,  1o, inciso I, in fine, da CRFB, na redacao dada pela Emenda Constitucional no 41/03, combinado com o artigo 6o-A da Emenda Constitucional no 41/03, incluido pela Emenda Constitucional no 70/12, e o art. 18,  5o, da Lei Complementar no 769/08, com a vantagem pessoal prevista nos artigos 1o e 7o da Lei no 1.004/96, combinados com o artigo 4o da Lei no 1.141/96, e com o artigo 4o, paragrafo unico, da Lei no 1.864/98.\"\n",
    "\n",
    "# Fix row 4796\n",
    "data.loc[4796, 'PROCESSO'] = \"00060-00054308/2018-99\"\n",
    "\n",
    "# Fix row 5002\n",
    "data.loc[5002, 'text'] = \"A PRESIDENTE DO TRIBUNAL DE CONTAS DO DISTRITO FEDERAL, no uso da atribuicao que lhe confere o art. 68, inc. III, da Lei Complementar no 1, de 9 de maio de 1994, e tendo em vista o que se apresenta no Processo no 23.292/2018-e, RESOLVE: CONCEDER aposentadoria voluntaria ao servidor WILLIAM DA COSTA, Tecnico de Administracao Publica, Classe Especial, Padrao 44, matricula 975-0, do Quadro de Pessoal dos Servicos Auxiliares desta Corte, fundamentada no art. 3o, incisos I, II e III, e paragrafo unico da Emenda Constitucional no 47/05, com a vantagem pessoal prevista no artigo 7o da Lei no 1.004/96, combinado com os artigos 4o da Lei no 1.141/96 e 4o, paragrafo unico, da Lei no 1.864/98.\"\n",
    "\n",
    "# Fix row 5030\n",
    "data.loc[5030, 'text'] = \"A DIRETORA DO DEPARTAMENTO DE GESTAO DE PESSOAS, DA POLICIA CIVIL DO DISTRITO FEDERAL, no uso de suas atribuicoes legais e tendo em vista a delegacao de competencia que lhe foi conferida pelo artigo 1o da Portaria no 3, de 11 de janeiro de 2012, e, ainda, o constante no processo 00052.00011934/2018-71 RESOLVE: AP O S E N TA R a servidora KLEYTAMAR DE ARAUJO, matricula no 57.594-1, no cargo efetivo de Agente de Policia, Classe Especial, da Carreira de Policia Civil do Distrito Federal, nos termos do artigo 40o, paragrafo 1o, inciso I, da Constituicao da Republica Federativa do Brasil, na redacao dada pela Emenda Constitucional no 41/2003, c/c artigo 6o-A da Emenda Cons- titucional no 41/2003, incluido pela Emenda Constitucional no 70/2012 e o artigo 186, inciso I, da Lei no 8.112/90.\"\n",
    "\n",
    "# Fix row 5142\n",
    "data.loc[5142, 'PROCESSO'] = \"00060-00034069/2018-51\"\n",
    "\n",
    "# Fix row 5170\n",
    "data.loc[5170, 'text'] = \"A PRESIDENTE DO TRIBUNAL DE CONTAS DO DISTRITO FEDERAL, no uso da atribuicao que lhe confere o art. 68, inc. III, da Lei Complementar no 1, de 9 de maio de 1994, e tendo em vista o que se apresenta no Processo no 24.639/2018-e, RESOLVE: CONCEDER aposentadoria voluntaria a servidora OLGA LEITE DA SILVA, Auxiliar de Administracao Publica, Classe Especial, Padrao 25, matricula no 1109-6, do Quadro de Pessoal dos Servicos Auxiliares desta Corte, fundamentada no art. 3o, incisos I, II e III, e paragrafo unico da Emenda Constitucional no 47/05.\""
   ]
  },
  {
   "cell_type": "markdown",
   "metadata": {},
   "source": [
    "## Parte 5 - Reanotando entidades corrigidas\n",
    "\n",
    "Similar a Parte 3, mas agora utilizando os dados corrigidos na Parte 4"
   ]
  },
  {
   "cell_type": "code",
   "execution_count": 22,
   "metadata": {},
   "outputs": [
    {
     "name": "stderr",
     "output_type": "stream",
     "text": [
      "<ipython-input-22-996c51c1db21>:12: SettingWithCopyWarning: \n",
      "A value is trying to be set on a copy of a slice from a DataFrame\n",
      "\n",
      "See the caveats in the documentation: https://pandas.pydata.org/pandas-docs/stable/user_guide/indexing.html#returning-a-view-versus-a-copy\n",
      "  data['labels'][row] = s\n"
     ]
    },
    {
     "name": "stdout",
     "output_type": "stream",
     "text": [
      "Found ATO: 5515 \t\t Missed ATO: 1\n",
      "Found EMPRESA_ATO: 2506 \t\t Missed EMPRESA_ATO: 3010\n",
      "Found COD_MATRICULA_ATO: 5516 \t\t Missed COD_MATRICULA_ATO: 0\n",
      "Found NOME_ATO: 5516 \t\t Missed NOME_ATO: 0\n",
      "Found CARGO: 5514 \t\t Missed CARGO: 1\n",
      "Found CLASSE: 2749 \t\t Missed CLASSE: 1\n",
      "Found PADRAO: 4960 \t\t Missed PADRAO: 1\n",
      "Found QUADRO: 5036 \t\t Missed QUADRO: 1\n",
      "Found PROCESSO: 5217 \t\t Missed PROCESSO: 1\n",
      "Found FUND_LEGAL: 5515 \t\t Missed FUND_LEGAL: 0\n"
     ]
    }
   ],
   "source": [
    "found_entities  = {col: 0 for col in data.drop(columns=['text', 'labels', 'DATA_DODF', 'NUM_DODF']).columns}\n",
    "missed_entities = {col: [0, []] for col in data.drop(columns=['text', 'labels', 'DATA_DODF', 'NUM_DODF']).columns}\n",
    "data['labels'] = \"\"\n",
    "for row in range(len(data)):\n",
    "    if pd.notna(data['text'][row]):\n",
    "        entities = find_entities(data, row)\n",
    "        entities.sort()\n",
    "        labels = IOBify_text(data['text'][row], entities)\n",
    "        s = \"\"\n",
    "        for l in labels:\n",
    "            s += l + ' '\n",
    "        data['labels'][row] = s\n",
    "    \n",
    "for col in found_entities:\n",
    "    print(f\"Found {col}: {found_entities[col]}\", f\"\\t\\t Missed {col}: {missed_entities[col][0]}\")"
   ]
  },
  {
   "cell_type": "code",
   "execution_count": null,
   "metadata": {},
   "outputs": [],
   "source": []
  },
  {
   "cell_type": "markdown",
   "metadata": {},
   "source": [
    "## Final - salvando os dados preprocessados"
   ]
  },
  {
   "cell_type": "markdown",
   "metadata": {},
   "source": [
    "### Salvando no formato CoNLL03 \n",
    "\n",
    "Salva os trechos de texto e labels, separando em conjuntos \"nao rotulado\" e \"rotulado\" para teste com active learning"
   ]
  },
  {
   "cell_type": "code",
   "execution_count": 23,
   "metadata": {},
   "outputs": [
    {
     "name": "stdout",
     "output_type": "stream",
     "text": [
      "Tamanho do conjunto de treinamento\n",
      "unlabeled set size: 3822 labeled set size: 39\n",
      "\n",
      "Tamanho do conjunto de teste\n",
      "test set size: 1655\n"
     ]
    }
   ],
   "source": [
    "x = []\n",
    "y = []\n",
    "t = []\n",
    "\n",
    "# Separa conjuntos de dados de forma cronológica\n",
    "def func(a):\n",
    "    a = a.split('/')\n",
    "    return a[2], a[1], a[0]\n",
    "for row in data.index:\n",
    "    if pd.notna(data['text'][row]) and pd.notna(data['labels'][row]):\n",
    "        x.append(data.loc[row, 'text'])\n",
    "        y.append(data.loc[row, 'labels'])\n",
    "        t.append(' '.join((lambda x: x[::-1])(data.loc[row, 'DATA_DODF'].split('/'))))\n",
    "idx = np.argsort(t)\n",
    "test_split_idx = math.floor(len(idx)*0.7)\n",
    "t1 = [-1 for _ in range(len(t))]\n",
    "for i, j in enumerate(idx):\n",
    "    t1[i] = t[j]\n",
    "x_train = [x[i] for i in idx[:test_split_idx]]\n",
    "y_train = [y[i] for i in idx[:test_split_idx]]\n",
    "x_test = [x[i] for i in idx[test_split_idx:]]\n",
    "y_test = [y[i] for i in idx[test_split_idx:]]\n",
    "\n",
    "initial_labeled_set_idx = math.floor(len(x_train)*0.99)\n",
    "labeled_x = x_train[initial_labeled_set_idx:]\n",
    "labeled_y = y_train[initial_labeled_set_idx:]\n",
    "unlabeled_x = x_train[:initial_labeled_set_idx]\n",
    "unlabeled_y = y_train[:initial_labeled_set_idx]\n",
    "print(\"Tamanho do conjunto de treinamento\")\n",
    "print(\"unlabeled set size:\", len(unlabeled_x), \"labeled set size:\",  len(labeled_x))\n",
    "print(\"\\nTamanho do conjunto de teste\")\n",
    "print(\"test set size:\", len(x_test))"
   ]
  },
  {
   "cell_type": "code",
   "execution_count": 24,
   "metadata": {},
   "outputs": [],
   "source": [
    "def save_conll(x, y, nome_arquivo):\n",
    "    ptr = open(nome_arquivo, 'w')\n",
    "    for i in range(len(x)):\n",
    "        text = x[i]\n",
    "        label = y[i]\n",
    "        assert len(text.split()) == len(label.split()), f\"Erro em {text}\"\n",
    "        for word, label in zip(text.split(), label.split()):\n",
    "            ptr.write(word + ' ' + label + '\\n')\n",
    "        ptr.write('\\n')\n",
    "save_conll(labeled_x,   labeled_y,   \"labeled_set.txt\"  )\n",
    "save_conll(unlabeled_x, unlabeled_y, \"unlabeled_set.txt\")\n",
    "save_conll(x_test,      y_test,      \"test_set.txt\"     )\n",
    "save_conll(x_train,     y_train,     \"train_set.txt\")"
   ]
  },
  {
   "cell_type": "markdown",
   "metadata": {},
   "source": [
    "### Salvando o dataframe completo \n",
    "\n",
    "Salva dataframe contendo anotacoes de entidades, trechos de texto contendo as anotacoes e as labels (IOB) para cada palavra no texto."
   ]
  },
  {
   "cell_type": "code",
   "execution_count": 25,
   "metadata": {},
   "outputs": [],
   "source": [
    "data.to_csv('labeled.csv', index=False)"
   ]
  }
 ],
 "metadata": {
  "kernelspec": {
   "display_name": "Python 3",
   "language": "python",
   "name": "python3"
  },
  "language_info": {
   "codemirror_mode": {
    "name": "ipython",
    "version": 3
   },
   "file_extension": ".py",
   "mimetype": "text/x-python",
   "name": "python",
   "nbconvert_exporter": "python",
   "pygments_lexer": "ipython3",
   "version": "3.8.5"
  }
 },
 "nbformat": 4,
 "nbformat_minor": 4
}
