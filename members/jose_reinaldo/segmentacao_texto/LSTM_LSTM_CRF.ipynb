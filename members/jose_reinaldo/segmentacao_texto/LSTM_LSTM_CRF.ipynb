{
 "cells": [
  {
   "cell_type": "code",
   "execution_count": 1,
   "metadata": {},
   "outputs": [],
   "source": [
    "import torch\n",
    "from torch import nn\n",
    "from torch.utils.data import Dataset, DataLoader\n",
    "from gensim.models import KeyedVectors\n",
    "from torchcrf import CRF\n",
    "from tqdm import tqdm\n",
    "from tabulate import tabulate\n",
    "import unicodedata\n",
    "from math import floor\n",
    "import numpy as np"
   ]
  },
  {
   "cell_type": "markdown",
   "metadata": {},
   "source": [
    "# Parte 1 - Criando o dataset"
   ]
  },
  {
   "cell_type": "code",
   "execution_count": 2,
   "metadata": {},
   "outputs": [],
   "source": [
    "class segmentation_dataset(Dataset):\n",
    "    def __init__(self, tag2idx, word2idx, set_type):\n",
    "        \"\"\"\n",
    "        Load the segmentation dataset, (self.__load__())\n",
    "        Truncate long sentences/split long blocks/ignore very short blocks (self.__trunc__())\n",
    "        get indices of words and tags (self.__get_idx__())\n",
    "        PAD the sentences and blocks/create MASKS representing padded elements (self.__pad__())\n",
    "        \"\"\"\n",
    "        self.set_type = set_type\n",
    "        self.min_block_length = 3\n",
    "        self.max_sentence_length = 30\n",
    "        self.max_block_length = 20\n",
    "        \n",
    "        self.__load__()\n",
    "        self.__trunc__()\n",
    "        self.__split__()\n",
    "        self.__get_idx__(tag2idx, word2idx)\n",
    "        self.__pad__()\n",
    "        \n",
    "        self.x = torch.LongTensor(self.x)\n",
    "        self.y = torch.LongTensor(self.y)\n",
    "        self.mask = torch.ByteTensor(self.mask)\n",
    "        \n",
    "    def __getitem__(self, index):\n",
    "        \"\"\"\n",
    "        Get one item from the dataset\n",
    "        \"\"\"\n",
    "        return self.x[index], self.mask[index], self.y[index]\n",
    "    \n",
    "    def __len__(self):\n",
    "        \"\"\"\n",
    "        Returns the length of the dataset\n",
    "        \"\"\"\n",
    "        return len(self.x)\n",
    "    \n",
    "    def __load__(self):\n",
    "        \"\"\"\n",
    "        Load raw dataset from seg_data.txt\n",
    "        \"\"\"\n",
    "        data = open('seg_data.txt', 'r').read().splitlines()\n",
    "        x = []\n",
    "        y = []\n",
    "        temp_x = []\n",
    "        temp_y = []\n",
    "        for line in data:\n",
    "            if not line:\n",
    "                if len(temp_x)>0:\n",
    "                    x.append(temp_x)\n",
    "                    y.append(temp_y)\n",
    "                temp_x = []\n",
    "                temp_y = []\n",
    "            else:\n",
    "                if len(line.split())>=2:\n",
    "                    temp_x.append(line[1:].split())\n",
    "                    temp_y.append(line[0])\n",
    "        if temp_x:\n",
    "            x.append(temp_x)\n",
    "            y.append(temp_y)\n",
    "        \n",
    "        self.x = x\n",
    "        self.y = y\n",
    "        \n",
    "    def __trunc__(self):\n",
    "        \"\"\"\n",
    "        Truncate sentences with length > max_sentence_length\n",
    "        Separate blocks with length > max_block_length\n",
    "        Delete blocks with length < min_block_length\n",
    "        \"\"\"\n",
    "        # For each block in x\n",
    "        for i in range(len(self.x)):\n",
    "            # For each sentence in x[i]\n",
    "            for j in range(len(self.x[i])):\n",
    "                if len(self.x[i][j]) > self.max_sentence_length:\n",
    "                    self.x[i][j] = self.x[i][j][:self.max_sentence_length]\n",
    "\n",
    "        sep_x = []\n",
    "        sep_y = []\n",
    "        for i in range(len(self.x)):\n",
    "            if len(self.x[i]) > self.max_block_length:\n",
    "                for j in range((len(self.x[i])//self.max_block_length)+1):\n",
    "                    if self.x[i][j*self.max_block_length:(j+1)*self.max_block_length]:# and 'B' in self.y[i]:\n",
    "                        sep_x.append(self.x[i][j*self.max_block_length:(j+1)*self.max_block_length])\n",
    "                        sep_y.append(self.y[i][j*self.max_block_length:(j+1)*self.max_block_length])\n",
    "            elif len(self.x[i]) < self.min_block_length:\n",
    "                continue\n",
    "#             elif 'B' in self.y[i]:\n",
    "            else:\n",
    "                sep_x.append(self.x[i])\n",
    "                sep_y.append(self.y[i])\n",
    "        self.x = sep_x\n",
    "        self.y = sep_y\n",
    "        \n",
    "    def __split__(self):\n",
    "        train_split = floor(0.6*len(self.x))\n",
    "        valid_split = floor(0.1*len(self.x)) + train_split \n",
    "        if self.set_type == 'train':\n",
    "            print(\"Treinamento\")\n",
    "            self.x = self.x[:train_split]\n",
    "            self.y = self.y[:train_split]\n",
    "        elif self.set_type == 'valid':\n",
    "            print(\"validacao\")\n",
    "            self.x = self.x[train_split:valid_split]\n",
    "            self.y = self.y[train_split:valid_split]\n",
    "        else:\n",
    "            print(\"teste\")\n",
    "            self.x = self.x[valid_split:]\n",
    "            self.y = self.y[valid_split:]\n",
    "        \n",
    "    def __get_idx__(self, tag2idx, word2idx):\n",
    "        \"\"\"\n",
    "        Convert words (x) into indices for the embedding layer\n",
    "        PADs sentences to self.max_sentence_length\n",
    "        Convert tags (y) into indices \n",
    "        \"\"\"\n",
    "        # get_idx of x\n",
    "        for i in range(len(self.x)):\n",
    "            for j in range(len(self.x[i])):\n",
    "                for k in range(len(self.x[i][j])):\n",
    "                    w = self.x[i][j][k].replace(',', '').replace(';', '').replace(':', '').lower()\n",
    "                    if w in word2idx:\n",
    "                        self.x[i][j][k] = word2idx[w]\n",
    "                    else:\n",
    "                        self.x[i][j][k] = 0\n",
    "                while(len(self.x[i][j]) < self.max_sentence_length):\n",
    "                    self.x[i][j].append(0)\n",
    "                \n",
    "        # get_idx of y      \n",
    "        for i in range(len(self.y)):\n",
    "            for j in range(len(self.y[i])):\n",
    "                self.y[i][j] = tag2idx[self.y[i][j]]\n",
    "                \n",
    "    def __pad__(self):\n",
    "        \"\"\"\n",
    "        Pad blocks of sentences to self.max_block_length\n",
    "        Creates MASKS to indicate padded sentences in each block\n",
    "        \"\"\"\n",
    "        self.mask = []\n",
    "        sent_padder = [0 for i in range(self.max_sentence_length)]\n",
    "        for i in range(len(self.x)):\n",
    "            temp_mask = [0 for i in range(self.max_block_length)]\n",
    "            for j in range(len(self.x[i])):\n",
    "                temp_mask[j] = 1\n",
    "            self.mask.append(temp_mask)\n",
    "            while len(self.x[i]) < self.max_block_length:\n",
    "                self.x[i].append(sent_padder)\n",
    "                self.y[i].append(-1)\n",
    "                "
   ]
  },
  {
   "cell_type": "code",
   "execution_count": 3,
   "metadata": {
    "scrolled": true
   },
   "outputs": [
    {
     "name": "stderr",
     "output_type": "stream",
     "text": [
      "<ipython-input-3-55cbd2721a19>:3: DeprecationWarning: Call to deprecated `wv` (Attribute will be removed in 4.0.0, use self instead).\n",
      "  for j in emb.wv.index2word:\n"
     ]
    },
    {
     "name": "stdout",
     "output_type": "stream",
     "text": [
      "866822\n"
     ]
    }
   ],
   "source": [
    "emb = KeyedVectors.load_word2vec_format(\"embeddings/cbow_s50.txt\")\n",
    "dic = {}\n",
    "for j in emb.wv.index2word:\n",
    "    num = emb.vocab[j].index\n",
    "    word = unicodedata.normalize('NFKD', j).encode('ascii', 'ignore').decode('utf8')\n",
    "    dic[word] = emb.vocab[j].index\n",
    "print(len(dic))\n",
    "\n",
    "dic_tag = {'B': 0, 'I': 1, 'O': 2}\n",
    "idx2tag = {0: 'B', 1:'I', 2:'O'}"
   ]
  },
  {
   "cell_type": "code",
   "execution_count": 4,
   "metadata": {},
   "outputs": [
    {
     "name": "stdout",
     "output_type": "stream",
     "text": [
      "Treinamento\n",
      "validacao\n",
      "teste\n"
     ]
    },
    {
     "data": {
      "text/plain": [
       "(81139, 13523, 40571)"
      ]
     },
     "execution_count": 4,
     "metadata": {},
     "output_type": "execute_result"
    }
   ],
   "source": [
    "train_dataset = segmentation_dataset(tag2idx=dic_tag, word2idx=dic, set_type='train')\n",
    "valid_dataset = segmentation_dataset(tag2idx=dic_tag, word2idx=dic, set_type='valid')\n",
    "test_dataset = segmentation_dataset(tag2idx=dic_tag, word2idx=dic, set_type='test')\n",
    "len(train_dataset.x), len(valid_dataset.x), len(test_dataset.x)"
   ]
  },
  {
   "cell_type": "code",
   "execution_count": 5,
   "metadata": {},
   "outputs": [
    {
     "name": "stdout",
     "output_type": "stream",
     "text": [
      "Numero de classes por conjunto de dados (treinamento, validacao e teste)\n",
      "Conjunto de treinamento: [3613, 10768, 1608399]\n",
      "Conjunto de validacao: [518, 1464, 268478]\n",
      "Conjunto de teste: [1251, 3875, 806294]\n"
     ]
    }
   ],
   "source": [
    "print(\"Numero de classes por conjunto de dados (treinamento, validacao e teste)\")\n",
    "\n",
    "# tags = {'B':0, 'I':0, 'O':0}\n",
    "tags = [0, 0, 0]\n",
    "for block in train_dataset.y:\n",
    "    for tag in block:\n",
    "        tags[tag] += 1\n",
    "print(\"Conjunto de treinamento:\", tags)\n",
    "\n",
    "# tags = {'B':0, 'I':0, 'O':0}\n",
    "tags = [0, 0, 0]\n",
    "for block in valid_dataset.y:\n",
    "    for tag in block:\n",
    "        tags[tag] += 1\n",
    "print(\"Conjunto de validacao:\", tags)\n",
    "\n",
    "# tags = {'B':0, 'I':0, 'O':0}\n",
    "tags = [0, 0, 0]\n",
    "for block in test_dataset.y:\n",
    "    for tag in block:\n",
    "        tags[tag] += 1\n",
    "print(\"Conjunto de teste:\", tags)"
   ]
  },
  {
   "cell_type": "code",
   "execution_count": 6,
   "metadata": {},
   "outputs": [],
   "source": [
    "train_dataloader = DataLoader(dataset = train_dataset, batch_size=32, shuffle=False, num_workers=2, pin_memory=True)\n",
    "valid_dataloader = DataLoader(dataset = valid_dataset, batch_size=32, shuffle=False, num_workers=2, pin_memory=True)\n",
    "test_dataloader  = DataLoader(dataset = test_dataset , batch_size=32, shuffle=False, num_workers=2, pin_memory=True)"
   ]
  },
  {
   "cell_type": "markdown",
   "metadata": {},
   "source": [
    "# Parte 2 - Criando o modelo"
   ]
  },
  {
   "cell_type": "code",
   "execution_count": 7,
   "metadata": {},
   "outputs": [],
   "source": [
    "class LSTM_CRF(nn.Module):\n",
    "    def __init__(self, embedding_dim, num_tags, hidden_dim, pretrained_emb, idx2tag):\n",
    "        super(LSTM_CRF, self).__init__()\n",
    "        self.embedding_dim = embedding_dim\n",
    "        self.hidden_dim = hidden_dim\n",
    "        self.num_tags = num_tags\n",
    "        self.idx2tag_dict = idx2tag\n",
    "        # Set device for training\n",
    "        self.device = torch.device(\"cuda\" if torch.cuda.is_available() else \"cpu\")\n",
    "\n",
    "        # Defining all the nn layers\n",
    "        self.embed_layer       = nn.Embedding.from_pretrained(torch.FloatTensor(pretrained_emb.vectors))\n",
    "        self.embed_layer.weight[0] = 0\n",
    "        self.word_LSTM_layer   = nn.LSTM(embedding_dim, hidden_dim, num_layers=1, batch_first=True)\n",
    "        self.sent_LSTM_layer   = nn.LSTM(hidden_dim, hidden_dim//4, num_layers=1, batch_first=True)\n",
    "        self.linear_layer      = nn.Linear(hidden_dim//4, num_tags)\n",
    "        self.crf_layer         = CRF(num_tags, batch_first=True)\n",
    "\n",
    "    def forward(self, batch_input, batch_tags, mask_pad):\n",
    "        \"\"\"\n",
    "        Method to compute the forward pass of the LSTM_CRF model\n",
    "        Input: (x) shape:        (batch_size) x (sequence_length) x (sentence_length)\n",
    "               (y) shape:        (batch_size) x (sequence_length)\n",
    "               (mask_pad) shape: (batch_size) x (sequence_length)\n",
    "        output: log_likelihood  of the probability of the expected sequence of tags\n",
    "        \"\"\"\n",
    "        batch_size = batch_input.shape[0]\n",
    "        sequence_pad_size = batch_input.shape[1]\n",
    "        sentence_pad_size = batch_input.shape[2]\n",
    "        \n",
    "        # Embedding Layer\n",
    "        emb_out = self.embed_layer(batch_input)\n",
    "        # Word level LSTM layer\n",
    "        word_lstm_out, (hn, cn) = self.word_LSTM_layer(emb_out.view(batch_size*sequence_pad_size, sentence_pad_size, self.embedding_dim))\n",
    "        # Sentence level LSTM layer\n",
    "        sent_lstm_out, (hn, cn) = self.sent_LSTM_layer(hn.view(batch_size, sequence_pad_size, self.hidden_dim))\n",
    "        # Linear (fully-connected) layer\n",
    "        lin_out = self.linear_layer(sent_lstm_out.reshape(batch_size * sequence_pad_size, self.hidden_dim//4))\n",
    "        # CRF layer\n",
    "        return self.crf_layer(lin_out.view(batch_size, sequence_pad_size, self.num_tags), batch_tags)\n",
    "\n",
    "    def fit(self, epoch, train_loader, eval_loader, **kwargs):\n",
    "        \"\"\"\n",
    "        Method to train the LSTM_CRF model\n",
    "        Input: (x) shape: (number of batches) x (batch_size) x (sequence_length) x (sentence_length)\n",
    "               (y) shape: (number of batches) x (batch_size) x (sequence_length)\n",
    "        output: validation_loss (validation loss over all epochs)\n",
    "        \"\"\"\n",
    "        if 'lr' in kwargs:\n",
    "            learning_rate = kwargs.get('lr')\n",
    "        else:\n",
    "            learning_rate = 0.01\n",
    "            \n",
    "        if 'weight_decay' in kwargs:\n",
    "            wd = kwargs.get('weight_decay')\n",
    "        else:\n",
    "            wd = 1e-4\n",
    "            \n",
    "        validation_loss = []\n",
    "        min_loss = float('inf')\n",
    "#         optimizer = torch.optim.SGD(self.parameters(), lr=learning_rate, weight_decay=wd)\n",
    "        optimizer = torch.optim.Adam(self.parameters(), lr=learning_rate, weight_decay=wd)\n",
    "        for it in range(epoch):\n",
    "            print(\"Epoch:\", it)\n",
    "            for batch in tqdm(train_loader):\n",
    "                x, mask, y = batch\n",
    "                x = x.to(self.device)\n",
    "                mask = mask.to(self.device)\n",
    "                y = y.to(self.device)\n",
    "                \n",
    "                self.zero_grad()\n",
    "                loss = -self.forward(x, y, mask)\n",
    "                loss.backward()\n",
    "                optimizer.step()\n",
    "                \n",
    "            new_loss = self.evaluate(eval_loader, opt='loss')\n",
    "            if new_loss < min_loss:\n",
    "                min_loss = new_loss\n",
    "                torch.save(model.state_dict(), \"normal_dataset/seg_model_256_50dim_adam\")\n",
    "            validation_loss.append(new_loss)\n",
    "        return validation_loss\n",
    "    \n",
    "    def evaluate(self, valid_loader, opt):\n",
    "        \"\"\"\n",
    "        Method to evaluate trained model on unseen data\n",
    "        \"\"\"\n",
    "        if opt == 'loss':\n",
    "            with torch.no_grad():\n",
    "                loss = 0\n",
    "                for batch in valid_loader:\n",
    "                    x, mask, y = batch\n",
    "                    x = x.to(self.device)\n",
    "                    mask = mask.to(self.device)\n",
    "                    y = y.to(self.device)\n",
    "                    loss -= self.forward(x, y, mask)\n",
    "                return loss\n",
    "        \n",
    "        elif opt == 'f1':\n",
    "            TP = np.array([0, 0, 0])\n",
    "            FP = np.array([0, 0, 0])\n",
    "            FN = np.array([0, 0, 0])\n",
    "            with torch.no_grad():\n",
    "                for batch in tqdm(valid_loader):\n",
    "                    x, mask, y = batch\n",
    "                    x = x.to(self.device)\n",
    "                    mask = mask.to(self.device)\n",
    "                    y = y.to(self.device)\n",
    "                    pred = self.predict(x, mask)\n",
    "                    for i in range(len(pred)):\n",
    "                        for j in range(len(pred[i])):\n",
    "                            if y[i][j] == -1:\n",
    "                                break\n",
    "                            if pred[i][j] == y[i][j]:\n",
    "                                TP[pred[i][j]] += 1\n",
    "                            else:\n",
    "                                FP[pred[i][j]] += 1\n",
    "                                FN[y[i][j]] += 1\n",
    "            recall = TP/(TP+FN)\n",
    "            precision = TP/(TP+FP)\n",
    "            f1_score = 2*(recall*precision)/(recall+precision)\n",
    "            print(tabulate([\n",
    "                ['Recall', recall[0], recall[1], recall[2]], \n",
    "                ['Precision', precision[0], precision[1], precision[2]], \n",
    "                ['F1 score', f1_score[0], f1_score[1], f1_score[2]]\n",
    "                ], \n",
    "                headers=['', self.idx2tag_dict[0], self.idx2tag_dict[1], self.idx2tag_dict[2]]\n",
    "            ))\n",
    "            return recall, precision, f1_score\n",
    "        \n",
    "        else:\n",
    "            print(\"Chosen opt doesn't exist\")\n",
    "            \n",
    "    def predict(self, batch_input, mask):\n",
    "        \"\"\"\n",
    "        Method to predict segmentation tags\n",
    "        Input: sequence - shape:(batch_size)x(sequence_size)x(sentence_size)\n",
    "        output: Predicted tags - shape: (batch_size)x(sequence_size)\n",
    "        \"\"\"\n",
    "        with torch.no_grad():\n",
    "            batch_size = batch_input.shape[0]\n",
    "            sequence_pad_size = batch_input.shape[1]\n",
    "            sentence_pad_size = batch_input.shape[2]\n",
    "\n",
    "            # Embedding Layer\n",
    "            emb_out = self.embed_layer(batch_input)\n",
    "            # Word level LSTM layer\n",
    "            word_lstm_out, (hn, cn) = self.word_LSTM_layer(emb_out.view(batch_size*sequence_pad_size, sentence_pad_size, self.embedding_dim))\n",
    "            # Sentence level LSTM layer\n",
    "            sent_lstm_out, (hn, cn) = self.sent_LSTM_layer(hn.view(batch_size, sequence_pad_size, self.hidden_dim))\n",
    "            # Linear (fully-connected) layer\n",
    "            lin_out = self.linear_layer(sent_lstm_out.reshape(batch_size * sequence_pad_size, self.hidden_dim//4))\n",
    "            # CRF layer\n",
    "            return self.crf_layer.decode(lin_out.view(batch_size, sequence_pad_size, self.num_tags), mask=mask)\n"
   ]
  },
  {
   "cell_type": "code",
   "execution_count": 8,
   "metadata": {},
   "outputs": [],
   "source": [
    "model = LSTM_CRF(embedding_dim=50, num_tags=3, hidden_dim=256, pretrained_emb=emb, idx2tag=idx2tag)\n",
    "model = model.to(model.device)\n",
    "emb = []"
   ]
  },
  {
   "cell_type": "markdown",
   "metadata": {},
   "source": [
    "# Parte 3 - Treinamento"
   ]
  },
  {
   "cell_type": "code",
   "execution_count": 9,
   "metadata": {},
   "outputs": [
    {
     "name": "stdout",
     "output_type": "stream",
     "text": [
      "188240896\n",
      "209715200\n"
     ]
    }
   ],
   "source": [
    "print(torch.cuda.memory_allocated())\n",
    "print(torch.cuda.memory_reserved())"
   ]
  },
  {
   "cell_type": "code",
   "execution_count": 10,
   "metadata": {},
   "outputs": [
    {
     "name": "stderr",
     "output_type": "stream",
     "text": [
      "\r",
      "  0%|          | 0/2536 [00:00<?, ?it/s]"
     ]
    },
    {
     "name": "stdout",
     "output_type": "stream",
     "text": [
      "Epoch: 0\n"
     ]
    },
    {
     "name": "stderr",
     "output_type": "stream",
     "text": [
      "100%|██████████| 2536/2536 [01:58<00:00, 21.43it/s]\n",
      "  0%|          | 0/2536 [00:00<?, ?it/s]"
     ]
    },
    {
     "name": "stdout",
     "output_type": "stream",
     "text": [
      "Epoch: 1\n"
     ]
    },
    {
     "name": "stderr",
     "output_type": "stream",
     "text": [
      "100%|██████████| 2536/2536 [01:57<00:00, 21.55it/s]\n",
      "  0%|          | 0/2536 [00:00<?, ?it/s]"
     ]
    },
    {
     "name": "stdout",
     "output_type": "stream",
     "text": [
      "Epoch: 2\n"
     ]
    },
    {
     "name": "stderr",
     "output_type": "stream",
     "text": [
      "100%|██████████| 2536/2536 [01:57<00:00, 21.59it/s]\n",
      "  0%|          | 0/2536 [00:00<?, ?it/s]"
     ]
    },
    {
     "name": "stdout",
     "output_type": "stream",
     "text": [
      "Epoch: 3\n"
     ]
    },
    {
     "name": "stderr",
     "output_type": "stream",
     "text": [
      "100%|██████████| 2536/2536 [01:55<00:00, 21.94it/s]\n",
      "  0%|          | 0/2536 [00:00<?, ?it/s]"
     ]
    },
    {
     "name": "stdout",
     "output_type": "stream",
     "text": [
      "Epoch: 4\n"
     ]
    },
    {
     "name": "stderr",
     "output_type": "stream",
     "text": [
      "100%|██████████| 2536/2536 [01:55<00:00, 21.97it/s]\n",
      "  0%|          | 0/2536 [00:00<?, ?it/s]"
     ]
    },
    {
     "name": "stdout",
     "output_type": "stream",
     "text": [
      "Epoch: 5\n"
     ]
    },
    {
     "name": "stderr",
     "output_type": "stream",
     "text": [
      "100%|██████████| 2536/2536 [01:57<00:00, 21.63it/s]\n",
      "  0%|          | 0/2536 [00:00<?, ?it/s]"
     ]
    },
    {
     "name": "stdout",
     "output_type": "stream",
     "text": [
      "Epoch: 6\n"
     ]
    },
    {
     "name": "stderr",
     "output_type": "stream",
     "text": [
      "100%|██████████| 2536/2536 [01:58<00:00, 21.44it/s]\n",
      "  0%|          | 0/2536 [00:00<?, ?it/s]"
     ]
    },
    {
     "name": "stdout",
     "output_type": "stream",
     "text": [
      "Epoch: 7\n"
     ]
    },
    {
     "name": "stderr",
     "output_type": "stream",
     "text": [
      "100%|██████████| 2536/2536 [01:57<00:00, 21.51it/s]\n",
      "  0%|          | 0/2536 [00:00<?, ?it/s]"
     ]
    },
    {
     "name": "stdout",
     "output_type": "stream",
     "text": [
      "Epoch: 8\n"
     ]
    },
    {
     "name": "stderr",
     "output_type": "stream",
     "text": [
      "100%|██████████| 2536/2536 [01:56<00:00, 21.80it/s]\n",
      "  0%|          | 0/2536 [00:00<?, ?it/s]"
     ]
    },
    {
     "name": "stdout",
     "output_type": "stream",
     "text": [
      "Epoch: 9\n"
     ]
    },
    {
     "name": "stderr",
     "output_type": "stream",
     "text": [
      "100%|██████████| 2536/2536 [01:55<00:00, 21.94it/s]\n",
      "  0%|          | 0/2536 [00:00<?, ?it/s]"
     ]
    },
    {
     "name": "stdout",
     "output_type": "stream",
     "text": [
      "Epoch: 10\n"
     ]
    },
    {
     "name": "stderr",
     "output_type": "stream",
     "text": [
      "100%|██████████| 2536/2536 [01:55<00:00, 21.93it/s]\n",
      "  0%|          | 0/2536 [00:00<?, ?it/s]"
     ]
    },
    {
     "name": "stdout",
     "output_type": "stream",
     "text": [
      "Epoch: 11\n"
     ]
    },
    {
     "name": "stderr",
     "output_type": "stream",
     "text": [
      "100%|██████████| 2536/2536 [01:55<00:00, 21.98it/s]\n",
      "  0%|          | 0/2536 [00:00<?, ?it/s]"
     ]
    },
    {
     "name": "stdout",
     "output_type": "stream",
     "text": [
      "Epoch: 12\n"
     ]
    },
    {
     "name": "stderr",
     "output_type": "stream",
     "text": [
      "100%|██████████| 2536/2536 [01:56<00:00, 21.84it/s]\n",
      "  0%|          | 0/2536 [00:00<?, ?it/s]"
     ]
    },
    {
     "name": "stdout",
     "output_type": "stream",
     "text": [
      "Epoch: 13\n"
     ]
    },
    {
     "name": "stderr",
     "output_type": "stream",
     "text": [
      "100%|██████████| 2536/2536 [01:55<00:00, 21.91it/s]\n",
      "  0%|          | 0/2536 [00:00<?, ?it/s]"
     ]
    },
    {
     "name": "stdout",
     "output_type": "stream",
     "text": [
      "Epoch: 14\n"
     ]
    },
    {
     "name": "stderr",
     "output_type": "stream",
     "text": [
      "100%|██████████| 2536/2536 [01:55<00:00, 21.96it/s]\n",
      "  0%|          | 0/2536 [00:00<?, ?it/s]"
     ]
    },
    {
     "name": "stdout",
     "output_type": "stream",
     "text": [
      "Epoch: 15\n"
     ]
    },
    {
     "name": "stderr",
     "output_type": "stream",
     "text": [
      "100%|██████████| 2536/2536 [01:55<00:00, 21.97it/s]\n",
      "  0%|          | 0/2536 [00:00<?, ?it/s]"
     ]
    },
    {
     "name": "stdout",
     "output_type": "stream",
     "text": [
      "Epoch: 16\n"
     ]
    },
    {
     "name": "stderr",
     "output_type": "stream",
     "text": [
      "100%|██████████| 2536/2536 [01:55<00:00, 21.95it/s]\n",
      "  0%|          | 0/2536 [00:00<?, ?it/s]"
     ]
    },
    {
     "name": "stdout",
     "output_type": "stream",
     "text": [
      "Epoch: 17\n"
     ]
    },
    {
     "name": "stderr",
     "output_type": "stream",
     "text": [
      "100%|██████████| 2536/2536 [01:55<00:00, 21.92it/s]\n",
      "  0%|          | 0/2536 [00:00<?, ?it/s]"
     ]
    },
    {
     "name": "stdout",
     "output_type": "stream",
     "text": [
      "Epoch: 18\n"
     ]
    },
    {
     "name": "stderr",
     "output_type": "stream",
     "text": [
      "100%|██████████| 2536/2536 [01:55<00:00, 21.97it/s]\n",
      "  0%|          | 0/2536 [00:00<?, ?it/s]"
     ]
    },
    {
     "name": "stdout",
     "output_type": "stream",
     "text": [
      "Epoch: 19\n"
     ]
    },
    {
     "name": "stderr",
     "output_type": "stream",
     "text": [
      "100%|██████████| 2536/2536 [01:56<00:00, 21.83it/s]\n",
      "  0%|          | 0/2536 [00:00<?, ?it/s]"
     ]
    },
    {
     "name": "stdout",
     "output_type": "stream",
     "text": [
      "Epoch: 20\n"
     ]
    },
    {
     "name": "stderr",
     "output_type": "stream",
     "text": [
      "100%|██████████| 2536/2536 [01:55<00:00, 21.89it/s]\n",
      "  0%|          | 0/2536 [00:00<?, ?it/s]"
     ]
    },
    {
     "name": "stdout",
     "output_type": "stream",
     "text": [
      "Epoch: 21\n"
     ]
    },
    {
     "name": "stderr",
     "output_type": "stream",
     "text": [
      "100%|██████████| 2536/2536 [01:55<00:00, 21.97it/s]\n",
      "  0%|          | 0/2536 [00:00<?, ?it/s]"
     ]
    },
    {
     "name": "stdout",
     "output_type": "stream",
     "text": [
      "Epoch: 22\n"
     ]
    },
    {
     "name": "stderr",
     "output_type": "stream",
     "text": [
      "100%|██████████| 2536/2536 [01:55<00:00, 21.98it/s]\n",
      "  0%|          | 0/2536 [00:00<?, ?it/s]"
     ]
    },
    {
     "name": "stdout",
     "output_type": "stream",
     "text": [
      "Epoch: 23\n"
     ]
    },
    {
     "name": "stderr",
     "output_type": "stream",
     "text": [
      "100%|██████████| 2536/2536 [01:55<00:00, 21.95it/s]\n",
      "  0%|          | 0/2536 [00:00<?, ?it/s]"
     ]
    },
    {
     "name": "stdout",
     "output_type": "stream",
     "text": [
      "Epoch: 24\n"
     ]
    },
    {
     "name": "stderr",
     "output_type": "stream",
     "text": [
      "100%|██████████| 2536/2536 [01:55<00:00, 21.94it/s]\n",
      "  0%|          | 0/2536 [00:00<?, ?it/s]"
     ]
    },
    {
     "name": "stdout",
     "output_type": "stream",
     "text": [
      "Epoch: 25\n"
     ]
    },
    {
     "name": "stderr",
     "output_type": "stream",
     "text": [
      "100%|██████████| 2536/2536 [01:55<00:00, 21.99it/s]\n",
      "  0%|          | 0/2536 [00:00<?, ?it/s]"
     ]
    },
    {
     "name": "stdout",
     "output_type": "stream",
     "text": [
      "Epoch: 26\n"
     ]
    },
    {
     "name": "stderr",
     "output_type": "stream",
     "text": [
      "100%|██████████| 2536/2536 [01:56<00:00, 21.84it/s]\n",
      "  0%|          | 0/2536 [00:00<?, ?it/s]"
     ]
    },
    {
     "name": "stdout",
     "output_type": "stream",
     "text": [
      "Epoch: 27\n"
     ]
    },
    {
     "name": "stderr",
     "output_type": "stream",
     "text": [
      "100%|██████████| 2536/2536 [01:55<00:00, 21.92it/s]\n",
      "  0%|          | 0/2536 [00:00<?, ?it/s]"
     ]
    },
    {
     "name": "stdout",
     "output_type": "stream",
     "text": [
      "Epoch: 28\n"
     ]
    },
    {
     "name": "stderr",
     "output_type": "stream",
     "text": [
      "100%|██████████| 2536/2536 [01:55<00:00, 21.97it/s]\n",
      "  0%|          | 0/2536 [00:00<?, ?it/s]"
     ]
    },
    {
     "name": "stdout",
     "output_type": "stream",
     "text": [
      "Epoch: 29\n"
     ]
    },
    {
     "name": "stderr",
     "output_type": "stream",
     "text": [
      "100%|██████████| 2536/2536 [01:55<00:00, 21.99it/s]\n",
      "  0%|          | 0/2536 [00:00<?, ?it/s]"
     ]
    },
    {
     "name": "stdout",
     "output_type": "stream",
     "text": [
      "Epoch: 30\n"
     ]
    },
    {
     "name": "stderr",
     "output_type": "stream",
     "text": [
      "100%|██████████| 2536/2536 [01:55<00:00, 21.96it/s]\n",
      "  0%|          | 0/2536 [00:00<?, ?it/s]"
     ]
    },
    {
     "name": "stdout",
     "output_type": "stream",
     "text": [
      "Epoch: 31\n"
     ]
    },
    {
     "name": "stderr",
     "output_type": "stream",
     "text": [
      "100%|██████████| 2536/2536 [01:55<00:00, 21.88it/s]\n",
      "  0%|          | 0/2536 [00:00<?, ?it/s]"
     ]
    },
    {
     "name": "stdout",
     "output_type": "stream",
     "text": [
      "Epoch: 32\n"
     ]
    },
    {
     "name": "stderr",
     "output_type": "stream",
     "text": [
      "100%|██████████| 2536/2536 [01:58<00:00, 21.48it/s]\n",
      "  0%|          | 0/2536 [00:00<?, ?it/s]"
     ]
    },
    {
     "name": "stdout",
     "output_type": "stream",
     "text": [
      "Epoch: 33\n"
     ]
    },
    {
     "name": "stderr",
     "output_type": "stream",
     "text": [
      "100%|██████████| 2536/2536 [01:58<00:00, 21.38it/s]\n",
      "  0%|          | 0/2536 [00:00<?, ?it/s]"
     ]
    },
    {
     "name": "stdout",
     "output_type": "stream",
     "text": [
      "Epoch: 34\n"
     ]
    },
    {
     "name": "stderr",
     "output_type": "stream",
     "text": [
      "100%|██████████| 2536/2536 [01:57<00:00, 21.56it/s]\n",
      "  0%|          | 0/2536 [00:00<?, ?it/s]"
     ]
    },
    {
     "name": "stdout",
     "output_type": "stream",
     "text": [
      "Epoch: 35\n"
     ]
    },
    {
     "name": "stderr",
     "output_type": "stream",
     "text": [
      "100%|██████████| 2536/2536 [01:55<00:00, 21.98it/s]\n",
      "  0%|          | 0/2536 [00:00<?, ?it/s]"
     ]
    },
    {
     "name": "stdout",
     "output_type": "stream",
     "text": [
      "Epoch: 36\n"
     ]
    },
    {
     "name": "stderr",
     "output_type": "stream",
     "text": [
      "100%|██████████| 2536/2536 [01:55<00:00, 21.99it/s]\n",
      "  0%|          | 0/2536 [00:00<?, ?it/s]"
     ]
    },
    {
     "name": "stdout",
     "output_type": "stream",
     "text": [
      "Epoch: 37\n"
     ]
    },
    {
     "name": "stderr",
     "output_type": "stream",
     "text": [
      "100%|██████████| 2536/2536 [01:55<00:00, 21.97it/s]\n",
      "  0%|          | 0/2536 [00:00<?, ?it/s]"
     ]
    },
    {
     "name": "stdout",
     "output_type": "stream",
     "text": [
      "Epoch: 38\n"
     ]
    },
    {
     "name": "stderr",
     "output_type": "stream",
     "text": [
      "100%|██████████| 2536/2536 [01:55<00:00, 21.91it/s]\n",
      "  0%|          | 0/2536 [00:00<?, ?it/s]"
     ]
    },
    {
     "name": "stdout",
     "output_type": "stream",
     "text": [
      "Epoch: 39\n"
     ]
    },
    {
     "name": "stderr",
     "output_type": "stream",
     "text": [
      "100%|██████████| 2536/2536 [01:56<00:00, 21.74it/s]\n",
      "  0%|          | 0/2536 [00:00<?, ?it/s]"
     ]
    },
    {
     "name": "stdout",
     "output_type": "stream",
     "text": [
      "Epoch: 40\n"
     ]
    },
    {
     "name": "stderr",
     "output_type": "stream",
     "text": [
      "100%|██████████| 2536/2536 [01:58<00:00, 21.38it/s]\n",
      "  0%|          | 0/2536 [00:00<?, ?it/s]"
     ]
    },
    {
     "name": "stdout",
     "output_type": "stream",
     "text": [
      "Epoch: 41\n"
     ]
    },
    {
     "name": "stderr",
     "output_type": "stream",
     "text": [
      "100%|██████████| 2536/2536 [01:58<00:00, 21.45it/s]\n",
      "  0%|          | 0/2536 [00:00<?, ?it/s]"
     ]
    },
    {
     "name": "stdout",
     "output_type": "stream",
     "text": [
      "Epoch: 42\n"
     ]
    },
    {
     "name": "stderr",
     "output_type": "stream",
     "text": [
      "100%|██████████| 2536/2536 [01:55<00:00, 21.88it/s]\n",
      "  0%|          | 0/2536 [00:00<?, ?it/s]"
     ]
    },
    {
     "name": "stdout",
     "output_type": "stream",
     "text": [
      "Epoch: 43\n"
     ]
    },
    {
     "name": "stderr",
     "output_type": "stream",
     "text": [
      "100%|██████████| 2536/2536 [01:55<00:00, 21.97it/s]\n",
      "  0%|          | 0/2536 [00:00<?, ?it/s]"
     ]
    },
    {
     "name": "stdout",
     "output_type": "stream",
     "text": [
      "Epoch: 44\n"
     ]
    },
    {
     "name": "stderr",
     "output_type": "stream",
     "text": [
      "100%|██████████| 2536/2536 [01:55<00:00, 21.95it/s]\n",
      "  0%|          | 0/2536 [00:00<?, ?it/s]"
     ]
    },
    {
     "name": "stdout",
     "output_type": "stream",
     "text": [
      "Epoch: 45\n"
     ]
    },
    {
     "name": "stderr",
     "output_type": "stream",
     "text": [
      "100%|██████████| 2536/2536 [01:55<00:00, 21.92it/s]\n",
      "  0%|          | 0/2536 [00:00<?, ?it/s]"
     ]
    },
    {
     "name": "stdout",
     "output_type": "stream",
     "text": [
      "Epoch: 46\n"
     ]
    },
    {
     "name": "stderr",
     "output_type": "stream",
     "text": [
      "100%|██████████| 2536/2536 [01:55<00:00, 21.99it/s]\n",
      "  0%|          | 0/2536 [00:00<?, ?it/s]"
     ]
    },
    {
     "name": "stdout",
     "output_type": "stream",
     "text": [
      "Epoch: 47\n"
     ]
    },
    {
     "name": "stderr",
     "output_type": "stream",
     "text": [
      "100%|██████████| 2536/2536 [01:58<00:00, 21.45it/s]\n",
      "  0%|          | 0/2536 [00:00<?, ?it/s]"
     ]
    },
    {
     "name": "stdout",
     "output_type": "stream",
     "text": [
      "Epoch: 48\n"
     ]
    },
    {
     "name": "stderr",
     "output_type": "stream",
     "text": [
      "100%|██████████| 2536/2536 [01:58<00:00, 21.45it/s]\n",
      "  0%|          | 0/2536 [00:00<?, ?it/s]"
     ]
    },
    {
     "name": "stdout",
     "output_type": "stream",
     "text": [
      "Epoch: 49\n"
     ]
    },
    {
     "name": "stderr",
     "output_type": "stream",
     "text": [
      "100%|██████████| 2536/2536 [01:57<00:00, 21.52it/s]\n"
     ]
    }
   ],
   "source": [
    "valid_loss = model.fit(\n",
    "    epoch=50, \n",
    "    train_loader = train_dataloader, \n",
    "    eval_loader = valid_dataloader, \n",
    "    lr=0.001, \n",
    "    weight_decay=1e-6\n",
    ")"
   ]
  },
  {
   "cell_type": "code",
   "execution_count": 11,
   "metadata": {},
   "outputs": [
    {
     "data": {
      "text/plain": [
       "[<matplotlib.lines.Line2D at 0x7fb4ca6f9d30>]"
      ]
     },
     "execution_count": 11,
     "metadata": {},
     "output_type": "execute_result"
    },
    {
     "data": {
      "image/png": "[encoded data removed]",
      "text/plain": [
       "<Figure size 432x288 with 1 Axes>"
      ]
     },
     "metadata": {
      "needs_background": "light"
     },
     "output_type": "display_data"
    }
   ],
   "source": [
    "import matplotlib.pyplot as plt\n",
    "plt.plot(valid_loss)"
   ]
  },
  {
   "cell_type": "markdown",
   "metadata": {},
   "source": [
    "# Parte 4 - Avaliacao do modelo no conjunto de teste"
   ]
  },
  {
   "cell_type": "code",
   "execution_count": 12,
   "metadata": {},
   "outputs": [
    {
     "data": {
      "text/plain": [
       "<All keys matched successfully>"
      ]
     },
     "execution_count": 12,
     "metadata": {},
     "output_type": "execute_result"
    }
   ],
   "source": [
    "model.load_state_dict(torch.load(\"normal_dataset/seg_model_256_50dim_adam\"))"
   ]
  },
  {
   "cell_type": "code",
   "execution_count": 13,
   "metadata": {
    "scrolled": true
   },
   "outputs": [
    {
     "name": "stderr",
     "output_type": "stream",
     "text": [
      "100%|██████████| 1268/1268 [00:51<00:00, 24.84it/s]"
     ]
    },
    {
     "name": "stdout",
     "output_type": "stream",
     "text": [
      "                  B         I         O\n",
      "---------  --------  --------  --------\n",
      "Recall     0.992806  0.984258  0.999725\n",
      "Precision  0.981043  0.973207  0.99985\n",
      "F1 score   0.986889  0.978702  0.999787\n"
     ]
    },
    {
     "name": "stderr",
     "output_type": "stream",
     "text": [
      "\n"
     ]
    },
    {
     "name": "stdout",
     "output_type": "stream",
     "text": [
      "Test set loss: tensor(287.2744, device='cuda:0')\n"
     ]
    }
   ],
   "source": [
    "model.evaluate(test_dataloader, opt='f1')\n",
    "print(\"Test set loss:\", model.evaluate(test_dataloader, opt='loss'))"
   ]
  },
  {
   "cell_type": "markdown",
   "metadata": {},
   "source": [
    "# Parte 5 - Salvando o modelo"
   ]
  },
  {
   "cell_type": "code",
   "execution_count": 14,
   "metadata": {},
   "outputs": [],
   "source": [
    "# To save trained pytorch model\n",
    "# torch.save(model.state_dict(), \"seg_model_256\")\n",
    "\n",
    "# # To load trained pytorch model\n",
    "# loaded_model = LSTM_CRF(embedding_dim=100, word2idx_dict=dic, num_tags=3, hidden_dim=128)\n",
    "# new_model.load_state_dict(torch.load(\"seg_model\"))"
   ]
  }
 ],
 "metadata": {
  "kernelspec": {
   "display_name": "Python 3",
   "language": "python",
   "name": "python3"
  },
  "language_info": {
   "codemirror_mode": {
    "name": "ipython",
    "version": 3
   },
   "file_extension": ".py",
   "mimetype": "text/x-python",
   "name": "python",
   "nbconvert_exporter": "python",
   "pygments_lexer": "ipython3",
   "version": "3.8.5"
  }
 },
 "nbformat": 4,
 "nbformat_minor": 4
}
