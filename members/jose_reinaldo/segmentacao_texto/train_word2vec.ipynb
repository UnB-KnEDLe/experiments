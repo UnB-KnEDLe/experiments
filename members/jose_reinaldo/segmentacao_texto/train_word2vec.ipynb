{
 "cells": [
  {
   "cell_type": "markdown",
   "metadata": {},
   "source": [
    "## Training the word2vec embeddings\n",
    "\n",
    "Using the pure extracted DODFs"
   ]
  },
  {
   "cell_type": "code",
   "execution_count": 1,
   "metadata": {},
   "outputs": [],
   "source": [
    "import pandas as pd\n",
    "import numpy as np\n",
    "import gensim"
   ]
  },
  {
   "cell_type": "code",
   "execution_count": 3,
   "metadata": {},
   "outputs": [],
   "source": [
    "def prep_dodf(dodf):\n",
    "    # Function to split sentences and clean punctuation from the DODF\n",
    "    text = []\n",
    "    sentence = \"\"\n",
    "    for i in range(len(dodf)):\n",
    "        if i < len(dodf)-2 and dodf[i] == '.' and (dodf[i+1].isupper() or (dodf[i+1] == ' ' and dodf[i+2].isupper())):\n",
    "            text.append(sentence.replace('\\n', '').replace(',', '').replace(':', '').replace('.', ' ').replace(';', ''))\n",
    "            sentence = \"\"\n",
    "        else:\n",
    "            sentence += dodf[i]\n",
    "    if sentence:\n",
    "        text.append(sentence.replace('\\n', '').replace(',', '').replace(':', '').replace('.', ' ').replace(';', ''))\n",
    "    return text\n",
    "\n",
    "teste = open('../dodfs/results/txt/2018/04_Abril/DODF 082 30-04-2018 INTEGRA.txt', 'r').read()\n",
    "teste = prep_dodf(teste)"
   ]
  },
  {
   "cell_type": "code",
   "execution_count": 4,
   "metadata": {},
   "outputs": [
    {
     "data": {
      "text/plain": [
       "('Este documento pode ser verificado no endereco eletronico http//www in gov br/autenticidade html pelo codigo 50012018043000001Documento assinado digitalmente conforme MP n 2 200-2 de 24/08/2001 que institui aInfraestrutura de Chaves Publicas Brasileira - ICP-Brasil',\n",
       " ' ANO XLVII EDICAO No- 82BRASILIA - DF SEGUNDA-FEIRA 30 DE ABRIL DE 2018 SUMARIOSECAO IPAG SECAO IIPAG SECAO IIIPAG')"
      ]
     },
     "execution_count": 4,
     "metadata": {},
     "output_type": "execute_result"
    }
   ],
   "source": [
    "teste[0], teste[1]"
   ]
  },
  {
   "cell_type": "code",
   "execution_count": 5,
   "metadata": {},
   "outputs": [
    {
     "name": "stdout",
     "output_type": "stream",
     "text": [
      "<DirEntry '06_Junho'>\n",
      "<DirEntry '11_Novembro'>\n",
      "<DirEntry '09_Setembro'>\n",
      "<DirEntry '12_Dezembro'>\n",
      "<DirEntry '10_Outubro'>\n",
      "<DirEntry '08_Agosto'>\n",
      "<DirEntry '05_Maio'>\n",
      "<DirEntry '07_Julho'>\n",
      "<DirEntry '04_Abril'>\n"
     ]
    }
   ],
   "source": [
    "import os\n",
    "import glob\n",
    "data = []\n",
    "for i in os.scandir(\"../dodfs/results/txt/2018/\"):\n",
    "    print(i)\n",
    "    for j in glob.glob(i.path + '/*.txt'):\n",
    "        temp = open(j, 'r').read()\n",
    "        temp = prep_dodf(temp)\n",
    "        for k in temp:\n",
    "            data.append(k)\n",
    "        "
   ]
  },
  {
   "cell_type": "code",
   "execution_count": 46,
   "metadata": {},
   "outputs": [
    {
     "data": {
      "text/plain": [
       "' Os documentos urbanisticos mencionados no caput deste artigo encontram-se disponiveis no endereco eletronico http//www sisduc segeth df gov br/ conforme deter-mina a Portaria no 06 de 08 de fevereiro de 2017 da Secretaria de Estado de Gestao doTerritorio e Habitacao do Distrito Federal - SEGETH Art  2o Este Decreto entra em vigor na data da sua publicacao Art  3o Revogam-se as disposicoes em contrario Brasilia 25 de junho de 2018130 da Republica e 59 de Brasilia RODRIGO ROLLEMBERG DECRETO No 39 145 DE 25 DE JUNHO DE 2018Aprova as Normas de Edificacao Uso e Gabarito NGB 39/14 aplicaveis ao Lote N da QI 07(atual QI 21) do Setor de Habitacoes Individuais Sul - SHIS da Regiao Administrativa doLago Sul - RA XVI e da outras providencias O GOVERNADOR DO DISTRITO FEDERAL no uso das atribuicoes que lhe conferem osincisos VII e XXVI do art  100 da Lei Organica do Distrito Federal tendo em vista o quedispoe a Lei Complementar no 924 de 12 de junho de 2017 o art  4o do Decreto no 37 966de 20 de janeiro de 2017 e o que consta do Processo SEI-GDF n 00390-00011729/2017-01D E C R E TA Art  1o Ficam aprovadas as Normas de Edificacao Uso e Gabarito NGB 39/14 aplicaveis aoLote N da QI 07 (atual QI 21) do Setor de Habitacoes Individuais Sul - SHIS da RegiaoAdministrativa do Lago Sul - RA XVI Art  2o As Normas de Edificacao Uso e Gabarito NGB 39/14 de que trata este Decretoencontram-se disponiveis no endereco eletronico http//www sisduc segeth df gov br/ con-soante Portaria n 6 de 08 de fevereiro de 2017 Art  3o Este Decreto entra em vigor na data de sua publicacao Art  4o Revogam-se as disposicoes em contrario Brasilia 25 de junho de 2018130o da Republica e 59o de Brasilia RODRIGO ROLLEMBERG DECRETO No 39 146 DE 25 DE JUNHO DE 2018Altera o Decreto no 18 955 de 22 de dezembro de 1997 que regulamenta o Imposto sobreOperacoes Relativas a Circulacao de Mercadorias e sobre Prestacoes de Servicos de Trans-porte Interestadual e Intermunicipal e de Comunicacao - ICMS O GOVERNADOR DO DISTRITO FEDERAL no uso das atribuicoes que lhe confere o art 100 inciso VII da Lei Organica do Distrito Federal e tendo em vista o disposto nos artigos66 I \"a\" e 78 ambos da Lei no 1 254 de 8 de novembro de 1996 DECRETAArt  1o O art  364 I \"a\" do Decreto no 18 955 de 22 de dezembro de 1997 passa a vigorarcom a seguinte redacao\"Art  364                                                                    I -                                                                             a) entregar remeter transportar receber estocar ou depositar mercadoria desacompanhada dedocumento fiscal ou acompanhada de documento fiscal inidoneo (NR)                                                                            \"Art  2o Este Decreto entra em vigor na data de sua publicacao Brasilia 25 de junho de 2018130 da Republica e 59 de Brasilia RODRIGO ROLLEMBERG DECRETO No 39 147 DE 25 DE JUNHO DE 2018Dispoe sobre a estrutura administrativa da Fundacao Jardim Zoologico de Brasilia queespecifica e da outras providencias O GOVERNADOR DO DISTRITO FEDERAL no uso das atribuicoes conferidas pelo Art 100 incisos VII e XXVI da Lei Organica do Distrito Federal e pelo Art  3o inciso III eParagrafo unico da Lei no 2 299 de 21 de janeiro de 1999 DECRETAArt  1o As Unidades Administrativas e os Cargos em Comissao relacionados no Anexo Ideste Decreto ficam transformados nas Unidades Administrativas e nos Cargos em Comissaorelacionados no Anexo II Paragrafo unico'"
      ]
     },
     "execution_count": 46,
     "metadata": {},
     "output_type": "execute_result"
    }
   ],
   "source": [
    "data[3]"
   ]
  },
  {
   "cell_type": "markdown",
   "metadata": {},
   "source": [
    "### Word2vec model\n",
    "\n",
    "Create and train word2vec embeddings"
   ]
  },
  {
   "cell_type": "code",
   "execution_count": null,
   "metadata": {},
   "outputs": [],
   "source": [
    "from gensim.test.utils import common_texts, get_tmpfile\n",
    "from gensim.models import Word2Vec\n",
    "\n",
    "path = get_tmpfile(\"word2vec.model\")\n",
    "model = Word2Vec(common_texts, size=100, window=5, min_count=5, workers=4)"
   ]
  }
 ],
 "metadata": {
  "kernelspec": {
   "display_name": "Python 3",
   "language": "python",
   "name": "python3"
  },
  "language_info": {
   "codemirror_mode": {
    "name": "ipython",
    "version": 3
   },
   "file_extension": ".py",
   "mimetype": "text/x-python",
   "name": "python",
   "nbconvert_exporter": "python",
   "pygments_lexer": "ipython3",
   "version": "3.8.5"
  }
 },
 "nbformat": 4,
 "nbformat_minor": 4
}
