{
 "cells": [
  {
   "cell_type": "code",
   "execution_count": 1,
   "metadata": {},
   "outputs": [],
   "source": [
    "import pandas as pd\n",
    "import os\n",
    "import numpy as np\n",
    "from treino_crf import CRF_Flow\n",
    "\n",
    "csv_path = '../../ian/atos_licitacao_contratos/Corpus3/'"
   ]
  },
  {
   "cell_type": "code",
   "execution_count": 2,
   "metadata": {},
   "outputs": [
    {
     "name": "stdout",
     "output_type": "stream",
     "text": [
      "mkdir: cannot create directory ‘results’: File exists\n"
     ]
    }
   ],
   "source": [
    "!mkdir results"
   ]
  },
  {
   "cell_type": "code",
   "execution_count": 3,
   "metadata": {},
   "outputs": [
    {
     "name": "stderr",
     "output_type": "stream",
     "text": [
      "/home/lucas/miniconda3/envs/crf/lib/python3.7/site-packages/sklearn/metrics/_classification.py:1465: UndefinedMetricWarning: F-score is ill-defined and being set to 0.0 in labels with no true nor predicted samples. Use `zero_division` parameter to control this behavior.\n",
      "  average, \"true nor predicted\", 'F-score is', len(true_sum)\n",
      "/home/lucas/miniconda3/envs/crf/lib/python3.7/site-packages/sklearn/utils/validation.py:70: FutureWarning: Pass labels=['B-NUM_LICITACAO', 'B-ORGAO_LICITANTE', 'I-ORGAO_LICITANTE', 'B-MODALIDADE_LICITACAO', 'I-MODALIDADE_LICITACAO', 'B-OBJ_LICITACAO', 'I-OBJ_LICITACAO', 'B-PROCESSO', 'B-NOME_RESPONSAVEL', 'I-NOME_RESPONSAVEL', 'B-DECISAO_TCDF', 'I-DECISAO_TCDF', 'I-PROCESSO'] as keyword args. From version 0.25 passing these as positional arguments will result in an error\n",
      "  FutureWarning)\n",
      "/home/lucas/miniconda3/envs/crf/lib/python3.7/site-packages/sklearn/metrics/_classification.py:1221: UndefinedMetricWarning: Precision and F-score are ill-defined and being set to 0.0 in labels with no predicted samples. Use `zero_division` parameter to control this behavior.\n",
      "  _warn_prf(average, modifier, msg_start, len(result))\n",
      "/home/lucas/miniconda3/envs/crf/lib/python3.7/site-packages/sklearn/metrics/_classification.py:1221: UndefinedMetricWarning: Recall and F-score are ill-defined and being set to 0.0 in labels with no true samples. Use `zero_division` parameter to control this behavior.\n",
      "  _warn_prf(average, modifier, msg_start, len(result))\n",
      "/home/lucas/miniconda3/envs/crf/lib/python3.7/site-packages/sklearn/utils/validation.py:70: FutureWarning: Pass labels=['B-MODALIDADE_LICITACAO', 'I-MODALIDADE_LICITACAO', 'B-NUM_LICITACAO', 'B-PROCESSO', 'B-ORGAO_LICITANTE', 'I-ORGAO_LICITANTE', 'B-OBJ_LICITACAO', 'I-OBJ_LICITACAO', 'B-VALOR_ESTIMADO', 'B-DATA_ABERTURA', 'B-SISTEMA_COMPRAS', 'B-CODIGO_SISTEMA_COMPRAS', 'B-NOME_RESPONSAVEL', 'I-NOME_RESPONSAVEL', 'I-DATA_ABERTURA', 'I-SISTEMA_COMPRAS', 'I-VALOR_ESTIMADO', 'I-PROCESSO', 'B-TIPO_OBJ', 'I-NUM_LICITACAO', 'I-TIPO_OBJ', 'I-CODIGO_SISTEMA_COMPRAS'] as keyword args. From version 0.25 passing these as positional arguments will result in an error\n",
      "  FutureWarning)\n",
      "/home/lucas/miniconda3/envs/crf/lib/python3.7/site-packages/sklearn/utils/validation.py:70: FutureWarning: Pass labels=['B-MODALIDADE_LICITACAO', 'I-MODALIDADE_LICITACAO', 'B-NUM_LICITACAO', 'B-PROCESSO', 'B-ORGAO_LICITANTE', 'I-ORGAO_LICITANTE', 'B-IDENTIFICACAO_OCORRENCIA', 'B-NOME_RESPONSAVEL', 'I-NOME_RESPONSAVEL', 'B-DATA_ESCRITO', 'I-DATA_ESCRITO', 'I-NUM_LICITACAO', 'I-PROCESSO'] as keyword args. From version 0.25 passing these as positional arguments will result in an error\n",
      "  FutureWarning)\n",
      "/home/lucas/miniconda3/envs/crf/lib/python3.7/site-packages/sklearn/utils/validation.py:70: FutureWarning: Pass labels=['B-NUM_ADITIVO', 'I-NUM_ADITIVO', 'B-NUM_AJUSTE', 'B-PROCESSO', 'B-CONTRATANTE', 'B-OBJ_ADITIVO', 'I-OBJ_ADITIVO', 'B-DATA_ESCRITO', 'B-CODIGO_SIGGO', 'I-CONTRATANTE', 'I-PROCESSO', 'B-NOME_RESPONSAVEL', 'I-NOME_RESPONSAVEL', 'I-DATA_ESCRITO', 'I-NUM_AJUSTE'] as keyword args. From version 0.25 passing these as positional arguments will result in an error\n",
      "  FutureWarning)\n",
      "/home/lucas/miniconda3/envs/crf/lib/python3.7/site-packages/sklearn/utils/validation.py:70: FutureWarning: Pass labels=['B-NUM_AJUSTE', 'B-PROCESSO', 'B-CONTRATANTE_ou_CONCEDENTE', 'B-CNPJ_CONTRATANTE_ou_CONCEDENTE', 'B-CONTRATADA_ou_CONVENENTE', 'I-CONTRATADA_ou_CONVENENTE', 'B-CNPJ_CONTRATADA_ou_CONVENENTE', 'B-OBJ_AJUSTE', 'I-OBJ_AJUSTE', 'B-CODIGO_UO', 'B-PROGRAMA_TRABALHO', 'B-NATUREZA_DESPESA', 'B-FONTE_RECURSO', 'B-VALOR', 'B-VIGENCIA', 'I-VIGENCIA', 'B-DATA_ASSINATURA', 'B-NOTA_EMPENHO', 'I-CONTRATANTE_ou_CONCEDENTE', 'I-DATA_ASSINATURA', 'B-CODIGO_SIGGO', 'B-NOME_RESPONSAVEL', 'I-NOME_RESPONSAVEL', 'I-VALOR', 'I-FONTE_RECURSO', 'I-PROCESSO', 'I-CODIGO_UO', 'I-NUM_AJUSTE', 'I-NOTA_EMPENHO', 'I-PROGRAMA_TRABALHO', 'I-CNPJ_CONTRATADA_ou_CONVENENTE', 'I-NATUREZA_DESPESA', 'I-CODIGO_SIGGO'] as keyword args. From version 0.25 passing these as positional arguments will result in an error\n",
      "  FutureWarning)\n"
     ]
    }
   ],
   "source": [
    "csvs = os.listdir(csv_path)\n",
    "models = [CRF_Flow(csv_path = csv_path + csv, n_iterations = 50) for csv in csvs]"
   ]
  }
 ],
 "metadata": {
  "kernelspec": {
   "display_name": "Python 3.7.13 ('crf')",
   "language": "python",
   "name": "python3"
  },
  "language_info": {
   "codemirror_mode": {
    "name": "ipython",
    "version": 3
   },
   "file_extension": ".py",
   "mimetype": "text/x-python",
   "name": "python",
   "nbconvert_exporter": "python",
   "pygments_lexer": "ipython3",
   "version": "3.7.13"
  },
  "orig_nbformat": 4,
  "vscode": {
   "interpreter": {
    "hash": "9d1ecda79764162e1fbc3b1a0506532127e7ca811bcc5168455f396532f691fa"
   }
  }
 },
 "nbformat": 4,
 "nbformat_minor": 2
}
