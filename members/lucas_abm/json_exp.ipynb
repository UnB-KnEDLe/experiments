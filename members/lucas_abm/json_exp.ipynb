{
 "cells": [
  {
   "cell_type": "code",
   "execution_count": 216,
   "metadata": {},
   "outputs": [],
   "source": [
    "from os import listdir\n",
    "import pandas as pd\n",
    "import json\n",
    "import re"
   ]
  },
  {
   "cell_type": "code",
   "execution_count": 217,
   "metadata": {},
   "outputs": [
    {
     "data": {
      "text/plain": [
       "True"
      ]
     },
     "execution_count": 217,
     "metadata": {},
     "output_type": "execute_result"
    }
   ],
   "source": [
    "f = open(\"data/DODF 004 06-01-2022.json\")\n",
    "f.readable()"
   ]
  },
  {
   "cell_type": "code",
   "execution_count": 218,
   "metadata": {},
   "outputs": [],
   "source": [
    "data = json.load(f)"
   ]
  },
  {
   "cell_type": "code",
   "execution_count": 219,
   "metadata": {},
   "outputs": [
    {
     "data": {
      "text/plain": [
       "dict"
      ]
     },
     "execution_count": 219,
     "metadata": {},
     "output_type": "execute_result"
    }
   ],
   "source": [
    "type(data)"
   ]
  },
  {
   "cell_type": "code",
   "execution_count": 220,
   "metadata": {},
   "outputs": [
    {
     "data": {
      "text/plain": [
       "dict_keys(['type', 'result', 'pathDate', 'lstJornalDia', 'json'])"
      ]
     },
     "execution_count": 220,
     "metadata": {},
     "output_type": "execute_result"
    }
   ],
   "source": [
    "data.keys()"
   ]
  },
  {
   "cell_type": "code",
   "execution_count": 221,
   "metadata": {},
   "outputs": [
    {
     "data": {
      "text/plain": [
       "dict_keys(['tituloJornal', 'coJornal', 'tituloSangria', 'linkJornal', 'dsLayoutNome', 'lstCoIneditorial', 'lstHierarquia', 'co_jornal', 'tp_jornal', 'nu_jornal', 'tx_letra', 'dt_publicacao', 'password', 'INFO', 'ANEXOS', 'ESTATISTICA', 'ds_titulo', 'nu_numero', 'ds_letra', 'dt_previsao_publicacao', 'ds_descricao_tipo', 'ds_jornal_situacao'])"
      ]
     },
     "execution_count": 221,
     "metadata": {},
     "output_type": "execute_result"
    }
   ],
   "source": [
    "data[\"json\"].keys()"
   ]
  },
  {
   "cell_type": "code",
   "execution_count": 222,
   "metadata": {},
   "outputs": [
    {
     "data": {
      "text/plain": [
       "dict_keys(['Seção I', 'Seção II', 'Seção III'])"
      ]
     },
     "execution_count": 222,
     "metadata": {},
     "output_type": "execute_result"
    }
   ],
   "source": [
    "data[\"json\"][\"INFO\"].keys()"
   ]
  },
  {
   "cell_type": "code",
   "execution_count": 223,
   "metadata": {},
   "outputs": [
    {
     "data": {
      "text/plain": [
       "dict_keys(['Poder Legislativo', 'Casa Civil', 'Secretaria de Estado de Governo', 'Secretaria de Estado de Economia', 'Secretaria de Estado de Saúde', 'Secretaria de Estado de Educação', 'Secretaria de Estado de Segurança Pública', 'Secretaria de Estado de Transporte e Mobilidade', 'Secretaria de Estado de Justiça e Cidadania', 'Secretaria de Estado de Proteção da Ordem Urbanística - DF LEGAL', 'Secretaria de Estado de Obras e Infraestrutura', 'Secretaria de Estado de Agricultura, Abastecimento e Desenvolvimento Rural', 'Secretaria de Estado de Ciência, Tecnologia e Inovação', 'Secretaria de Estado de Comunicação', 'Secretaria de Estado de Cultura e Economia Criativa', 'Secretaria de Estado de Desenvolvimento Econômico', 'Secretaria de Estado de Desenvolvimento Social', 'Secretaria de Estado de Desenvolvimento Urbano e Habitação', 'Secretaria de Estado de Esporte e Lazer', 'Secretaria de Estado de Meio Ambiente', 'Secretaria de Estado de Turismo', 'Ineditorial'])"
      ]
     },
     "execution_count": 223,
     "metadata": {},
     "output_type": "execute_result"
    }
   ],
   "source": [
    "secao3 = data[\"json\"][\"INFO\"][\"Seção III\"]\n",
    "secao3.keys()"
   ]
  },
  {
   "cell_type": "code",
   "execution_count": 224,
   "metadata": {},
   "outputs": [
    {
     "data": {
      "text/plain": [
       "dict_keys(['coMateria', 'coDemandante', 'titulo', 'preambulo', 'tipo', 'situacao', 'regraSituacao', 'layout', 'nuOrdem', 'texto'])"
      ]
     },
     "execution_count": 224,
     "metadata": {},
     "output_type": "execute_result"
    }
   ],
   "source": [
    "secao3 = data[\"json\"][\"INFO\"][\"Seção III\"]['Poder Legislativo'][\"documentos\"][' 163260']\n",
    "secao3.keys()"
   ]
  },
  {
   "cell_type": "code",
   "execution_count": 230,
   "metadata": {},
   "outputs": [
    {
     "data": {
      "text/html": [
       "<div>\n",
       "<style scoped>\n",
       "    .dataframe tbody tr th:only-of-type {\n",
       "        vertical-align: middle;\n",
       "    }\n",
       "\n",
       "    .dataframe tbody tr th {\n",
       "        vertical-align: top;\n",
       "    }\n",
       "\n",
       "    .dataframe thead th {\n",
       "        text-align: right;\n",
       "    }\n",
       "</style>\n",
       "<table border=\"1\" class=\"dataframe\">\n",
       "  <thead>\n",
       "    <tr style=\"text-align: right;\">\n",
       "      <th></th>\n",
       "      <th>file_name</th>\n",
       "      <th>coMateria</th>\n",
       "      <th>coDemandante</th>\n",
       "      <th>titulo</th>\n",
       "      <th>preambulo</th>\n",
       "      <th>tipo</th>\n",
       "      <th>situacao</th>\n",
       "      <th>regraSituacao</th>\n",
       "      <th>layout</th>\n",
       "      <th>nuOrdem</th>\n",
       "      <th>texto</th>\n",
       "    </tr>\n",
       "  </thead>\n",
       "  <tbody>\n",
       "    <tr>\n",
       "      <th>0</th>\n",
       "      <td>DODF 002 04-01-2022.json</td>\n",
       "      <td>162755</td>\n",
       "      <td>1125</td>\n",
       "      <td>EXTRATO DE TERMO DE CREDENCIAMENTO</td>\n",
       "      <td>None</td>\n",
       "      <td>Extrato</td>\n",
       "      <td>16</td>\n",
       "      <td>15</td>\n",
       "      <td>col1</td>\n",
       "      <td>12</td>\n",
       "      <td>&lt;p style=\"text-align:justify;\"&gt;Processo: 00001...</td>\n",
       "    </tr>\n",
       "    <tr>\n",
       "      <th>1</th>\n",
       "      <td>DODF 002 04-01-2022.json</td>\n",
       "      <td>162634</td>\n",
       "      <td>619</td>\n",
       "      <td>EXTRATO DO CONTRATO DE PRESTAÇÃO DE SERVIÇOS N...</td>\n",
       "      <td>None</td>\n",
       "      <td>Extrato</td>\n",
       "      <td>16</td>\n",
       "      <td>15</td>\n",
       "      <td>col1</td>\n",
       "      <td>66</td>\n",
       "      <td>&lt;p style=\"text-align:center;\"&gt;NOS TERMOS DO PA...</td>\n",
       "    </tr>\n",
       "    <tr>\n",
       "      <th>2</th>\n",
       "      <td>DODF 002 04-01-2022.json</td>\n",
       "      <td>162696</td>\n",
       "      <td>795</td>\n",
       "      <td>EXTRATO DO TERCEIRO TERMO ADITIVO AO CONTRATO ...</td>\n",
       "      <td>None</td>\n",
       "      <td>Extrato</td>\n",
       "      <td>16</td>\n",
       "      <td>15</td>\n",
       "      <td>col1</td>\n",
       "      <td>166</td>\n",
       "      <td>&lt;p style=\"text-align:justify;\"&gt;Processo: 00040...</td>\n",
       "    </tr>\n",
       "    <tr>\n",
       "      <th>3</th>\n",
       "      <td>DODF 002 04-01-2022.json</td>\n",
       "      <td>162701</td>\n",
       "      <td>795</td>\n",
       "      <td>EXTRATO DO PRIMEIRO TERMO ADITIVO AO CONTRATO ...</td>\n",
       "      <td>None</td>\n",
       "      <td>Extrato</td>\n",
       "      <td>16</td>\n",
       "      <td>15</td>\n",
       "      <td>col1</td>\n",
       "      <td>166</td>\n",
       "      <td>&lt;p style=\"text-align:justify;\"&gt;Processo: 00040...</td>\n",
       "    </tr>\n",
       "    <tr>\n",
       "      <th>4</th>\n",
       "      <td>DODF 002 04-01-2022.json</td>\n",
       "      <td>162690</td>\n",
       "      <td>795</td>\n",
       "      <td>EXTRATO DO PRIMEIRO TERMO ADITIVO AO CONTRATO ...</td>\n",
       "      <td>None</td>\n",
       "      <td>Extrato</td>\n",
       "      <td>16</td>\n",
       "      <td>15</td>\n",
       "      <td>col1</td>\n",
       "      <td>166</td>\n",
       "      <td>&lt;p style=\"text-align:justify;\"&gt;Processo: 00040...</td>\n",
       "    </tr>\n",
       "    <tr>\n",
       "      <th>...</th>\n",
       "      <td>...</td>\n",
       "      <td>...</td>\n",
       "      <td>...</td>\n",
       "      <td>...</td>\n",
       "      <td>...</td>\n",
       "      <td>...</td>\n",
       "      <td>...</td>\n",
       "      <td>...</td>\n",
       "      <td>...</td>\n",
       "      <td>...</td>\n",
       "      <td>...</td>\n",
       "    </tr>\n",
       "    <tr>\n",
       "      <th>288</th>\n",
       "      <td>DODF 009 13-01-2022.json</td>\n",
       "      <td>165820</td>\n",
       "      <td>947</td>\n",
       "      <td>EXTRATO TERMO DE FOMENTO Nº 16/2021</td>\n",
       "      <td>None</td>\n",
       "      <td>Extrato</td>\n",
       "      <td>16</td>\n",
       "      <td>15</td>\n",
       "      <td>col1</td>\n",
       "      <td>863</td>\n",
       "      <td>&lt;p style=\"text-align:justify;\"&gt;Processo: 00370...</td>\n",
       "    </tr>\n",
       "    <tr>\n",
       "      <th>289</th>\n",
       "      <td>DODF 009 13-01-2022.json</td>\n",
       "      <td>165821</td>\n",
       "      <td>947</td>\n",
       "      <td>EXTRATO TERMO DE FOMENTO Nº 17/2021</td>\n",
       "      <td>None</td>\n",
       "      <td>Extrato</td>\n",
       "      <td>16</td>\n",
       "      <td>15</td>\n",
       "      <td>col1</td>\n",
       "      <td>863</td>\n",
       "      <td>&lt;p style=\"text-align:justify;\"&gt;Processo: 00370...</td>\n",
       "    </tr>\n",
       "    <tr>\n",
       "      <th>290</th>\n",
       "      <td>DODF 009 13-01-2022.json</td>\n",
       "      <td>165822</td>\n",
       "      <td>947</td>\n",
       "      <td>EXTRATO TERMO DE FOMENTO Nº 18/2021</td>\n",
       "      <td>None</td>\n",
       "      <td>Extrato</td>\n",
       "      <td>16</td>\n",
       "      <td>15</td>\n",
       "      <td>col1</td>\n",
       "      <td>863</td>\n",
       "      <td>&lt;p style=\"text-align:justify;\"&gt;Processo: 00370...</td>\n",
       "    </tr>\n",
       "    <tr>\n",
       "      <th>291</th>\n",
       "      <td>DODF 009 13-01-2022.json</td>\n",
       "      <td>165878</td>\n",
       "      <td>1154</td>\n",
       "      <td>EXTRATO DE INSTRUMENTO CONTRATUAL</td>\n",
       "      <td>None</td>\n",
       "      <td>Extrato</td>\n",
       "      <td>16</td>\n",
       "      <td>15</td>\n",
       "      <td>col1</td>\n",
       "      <td>876</td>\n",
       "      <td>&lt;p style=\"text-align:justify;\"&gt;Processo: 00111...</td>\n",
       "    </tr>\n",
       "    <tr>\n",
       "      <th>292</th>\n",
       "      <td>DODF 009 13-01-2022.json</td>\n",
       "      <td>165879</td>\n",
       "      <td>1154</td>\n",
       "      <td>EXTRATO DE INSTRUMENTO CONTRATUAL</td>\n",
       "      <td>None</td>\n",
       "      <td>Extrato</td>\n",
       "      <td>16</td>\n",
       "      <td>15</td>\n",
       "      <td>col1</td>\n",
       "      <td>876</td>\n",
       "      <td>&lt;p style=\"text-align:justify;\"&gt;Processo: 00111...</td>\n",
       "    </tr>\n",
       "  </tbody>\n",
       "</table>\n",
       "<p>293 rows × 11 columns</p>\n",
       "</div>"
      ],
      "text/plain": [
       "                    file_name coMateria coDemandante  \\\n",
       "0    DODF 002 04-01-2022.json    162755         1125   \n",
       "1    DODF 002 04-01-2022.json    162634          619   \n",
       "2    DODF 002 04-01-2022.json    162696          795   \n",
       "3    DODF 002 04-01-2022.json    162701          795   \n",
       "4    DODF 002 04-01-2022.json    162690          795   \n",
       "..                        ...       ...          ...   \n",
       "288  DODF 009 13-01-2022.json    165820          947   \n",
       "289  DODF 009 13-01-2022.json    165821          947   \n",
       "290  DODF 009 13-01-2022.json    165822          947   \n",
       "291  DODF 009 13-01-2022.json    165878         1154   \n",
       "292  DODF 009 13-01-2022.json    165879         1154   \n",
       "\n",
       "                                                titulo preambulo     tipo  \\\n",
       "0                   EXTRATO DE TERMO DE CREDENCIAMENTO      None  Extrato   \n",
       "1    EXTRATO DO CONTRATO DE PRESTAÇÃO DE SERVIÇOS N...      None  Extrato   \n",
       "2    EXTRATO DO TERCEIRO TERMO ADITIVO AO CONTRATO ...      None  Extrato   \n",
       "3    EXTRATO DO PRIMEIRO TERMO ADITIVO AO CONTRATO ...      None  Extrato   \n",
       "4    EXTRATO DO PRIMEIRO TERMO ADITIVO AO CONTRATO ...      None  Extrato   \n",
       "..                                                 ...       ...      ...   \n",
       "288                EXTRATO TERMO DE FOMENTO Nº 16/2021      None  Extrato   \n",
       "289                EXTRATO TERMO DE FOMENTO Nº 17/2021      None  Extrato   \n",
       "290                EXTRATO TERMO DE FOMENTO Nº 18/2021      None  Extrato   \n",
       "291                  EXTRATO DE INSTRUMENTO CONTRATUAL      None  Extrato   \n",
       "292                  EXTRATO DE INSTRUMENTO CONTRATUAL      None  Extrato   \n",
       "\n",
       "    situacao regraSituacao layout nuOrdem  \\\n",
       "0         16            15   col1      12   \n",
       "1         16            15   col1      66   \n",
       "2         16            15   col1     166   \n",
       "3         16            15   col1     166   \n",
       "4         16            15   col1     166   \n",
       "..       ...           ...    ...     ...   \n",
       "288       16            15   col1     863   \n",
       "289       16            15   col1     863   \n",
       "290       16            15   col1     863   \n",
       "291       16            15   col1     876   \n",
       "292       16            15   col1     876   \n",
       "\n",
       "                                                 texto  \n",
       "0    <p style=\"text-align:justify;\">Processo: 00001...  \n",
       "1    <p style=\"text-align:center;\">NOS TERMOS DO PA...  \n",
       "2    <p style=\"text-align:justify;\">Processo: 00040...  \n",
       "3    <p style=\"text-align:justify;\">Processo: 00040...  \n",
       "4    <p style=\"text-align:justify;\">Processo: 00040...  \n",
       "..                                                 ...  \n",
       "288  <p style=\"text-align:justify;\">Processo: 00370...  \n",
       "289  <p style=\"text-align:justify;\">Processo: 00370...  \n",
       "290  <p style=\"text-align:justify;\">Processo: 00370...  \n",
       "291  <p style=\"text-align:justify;\">Processo: 00111...  \n",
       "292  <p style=\"text-align:justify;\">Processo: 00111...  \n",
       "\n",
       "[293 rows x 11 columns]"
      ]
     },
     "execution_count": 230,
     "metadata": {},
     "output_type": "execute_result"
    }
   ],
   "source": [
    "res = dict({\"file_name\": [], \"coMateria\": [], \"coDemandante\": [], \"titulo\": [], \"preambulo\": [], \"tipo\": [], \"situacao\": [], \"regraSituacao\": [], \"layout\": [], \"nuOrdem\": [], \"texto\": []})\n",
    "files = sorted(listdir(\"./data/\"))\n",
    "\n",
    "for file_name in files:\n",
    "  if file_name.split(\".\")[-1] != \"json\": continue\n",
    "  f = open(f\"./data/{file_name}\")\n",
    "  json_obj = json.load(f)\n",
    "\n",
    "  secao3 = json_obj[\"json\"][\"INFO\"][\"Seção III\"]\n",
    "  for dep in secao3:\n",
    "    sec = secao3[dep][\"documentos\"]\n",
    "    \n",
    "    for documento in sec:\n",
    "      string = sec[documento][\"titulo\"]\n",
    "      regex = r\".*(EXTRATOS? (((D(E|O))|(AO)) )?)?(TERMO|CONTRATUA(L|IS)|INSTRUMENTOS?|CONV[ÊE]NIOS?|CONTRATOS?( (SIMPLIFICADO|DE (DOAÇÃO|PRESTA[ÇC][ÃA]O|AQUISI[ÇC][ÃA]O|EXECU[ÇC][ÃA]O)))?)\"\n",
    "      m = re.search(regex, string)\n",
    "      \n",
    "      if m is not None:\n",
    "      # if True:\n",
    "        res[\"file_name\"].append(file_name)\n",
    "        res[\"coMateria\"].append(sec[documento][\"coMateria\"])\n",
    "        res[\"coDemandante\"].append(sec[documento][\"coDemandante\"])\n",
    "        res[\"titulo\"].append(sec[documento][\"titulo\"])\n",
    "        res[\"preambulo\"].append(sec[documento][\"preambulo\"])\n",
    "        res[\"tipo\"].append(sec[documento][\"tipo\"])\n",
    "        res[\"situacao\"].append(sec[documento][\"situacao\"])\n",
    "        res[\"regraSituacao\"].append(sec[documento][\"regraSituacao\"])\n",
    "        res[\"layout\"].append(sec[documento][\"layout\"])\n",
    "        res[\"nuOrdem\"].append(sec[documento][\"nuOrdem\"])\n",
    "        res[\"texto\"].append(sec[documento][\"texto\"])\n",
    "  f.close()\n",
    "\n",
    "df = pd.DataFrame(res)\n",
    "df"
   ]
  },
  {
   "cell_type": "code",
   "execution_count": 226,
   "metadata": {},
   "outputs": [
    {
     "data": {
      "text/plain": [
       "DODF 004 06-01-2022.json    81\n",
       "DODF 003 05-01-2022.json    68\n",
       "DODF 009 13-01-2022.json    39\n",
       "DODF 008 12-01-2022.json    29\n",
       "DODF 005 07-01-2022.json    24\n",
       "DODF 006 10-01-2022.json    20\n",
       "DODF 002 04-01-2022.json    19\n",
       "DODF 007 11-01-2022.json    13\n",
       "Name: file_name, dtype: int64"
      ]
     },
     "execution_count": 226,
     "metadata": {},
     "output_type": "execute_result"
    }
   ],
   "source": [
    "df.file_name.value_counts()"
   ]
  },
  {
   "cell_type": "code",
   "execution_count": 229,
   "metadata": {},
   "outputs": [
    {
     "data": {
      "text/plain": [
       "'EXTRATO DO PRIMEIRO TERMO ADITIVO AO CONTRATO Nº 43121/2021'"
      ]
     },
     "execution_count": 229,
     "metadata": {},
     "output_type": "execute_result"
    }
   ],
   "source": [
    "df.titulo[3]"
   ]
  }
 ],
 "metadata": {
  "kernelspec": {
   "display_name": "Python 3.7.13 ('dodfminer')",
   "language": "python",
   "name": "python3"
  },
  "language_info": {
   "codemirror_mode": {
    "name": "ipython",
    "version": 3
   },
   "file_extension": ".py",
   "mimetype": "text/x-python",
   "name": "python",
   "nbconvert_exporter": "python",
   "pygments_lexer": "ipython3",
   "version": "3.7.13"
  },
  "orig_nbformat": 4,
  "vscode": {
   "interpreter": {
    "hash": "9d52b7b75ae943785801baebbd3476a2dc186326c32c937a61282ccd96166447"
   }
  }
 },
 "nbformat": 4,
 "nbformat_minor": 2
}
