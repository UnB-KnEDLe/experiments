{
 "cells": [
  {
   "cell_type": "code",
   "execution_count": 233,
   "metadata": {},
   "outputs": [],
   "source": [
    "import pandas as pd\n",
    "pd.options.display.max_columns = 0\n",
    "\n",
    "import re"
   ]
  },
  {
   "cell_type": "code",
   "execution_count": 234,
   "metadata": {},
   "outputs": [
    {
     "data": {
      "text/html": [
       "<div>\n",
       "<style scoped>\n",
       "    .dataframe tbody tr th:only-of-type {\n",
       "        vertical-align: middle;\n",
       "    }\n",
       "\n",
       "    .dataframe tbody tr th {\n",
       "        vertical-align: top;\n",
       "    }\n",
       "\n",
       "    .dataframe thead th {\n",
       "        text-align: right;\n",
       "    }\n",
       "</style>\n",
       "<table border=\"1\" class=\"dataframe\">\n",
       "  <thead>\n",
       "    <tr style=\"text-align: right;\">\n",
       "      <th></th>\n",
       "      <th>arquivo_rast</th>\n",
       "      <th>ato</th>\n",
       "      <th>dodf</th>\n",
       "      <th>treated_text</th>\n",
       "      <th>PROCESSO</th>\n",
       "      <th>OBJ_AJUSTE</th>\n",
       "      <th>VIGENCIA</th>\n",
       "      <th>VALOR</th>\n",
       "      <th>PROGRAMA_TRABALHO</th>\n",
       "      <th>DATA_ASSINATURA</th>\n",
       "      <th>CODIGO_UO</th>\n",
       "      <th>NATUREZA_DESPESA</th>\n",
       "      <th>NOTA_EMPENHO</th>\n",
       "      <th>FUND_DISPENSA</th>\n",
       "      <th>ORGAO_LICITANTE</th>\n",
       "      <th>NUM_LICITACAO</th>\n",
       "      <th>NUM_CONTRATO</th>\n",
       "      <th>IDENT_DISPENSA</th>\n",
       "      <th>OG_ATA</th>\n",
       "      <th>FONTE_RECURSO</th>\n",
       "      <th>NOME_RESPONSAVEL</th>\n",
       "      <th>IOB</th>\n",
       "      <th>CONTRATANTE_ou_CONCEDENTE</th>\n",
       "      <th>CONTRATADA_ou_CONVENENTE</th>\n",
       "      <th>CNPJ_CONTRATANTE_ou_CONCEDENTE</th>\n",
       "      <th>CNPJ_CONTRATADA_ou_CONVENENTE</th>\n",
       "      <th>NUM_AJUSTE</th>\n",
       "    </tr>\n",
       "  </thead>\n",
       "  <tbody>\n",
       "    <tr>\n",
       "      <th>0</th>\n",
       "      <td>9_extrato_de_contrato_ou_convenio_DODF_004_07-...</td>\n",
       "      <td>EXTRATO_CONTRATO_CONVENIO</td>\n",
       "      <td>DODF_004_07-01-2016</td>\n",
       "      <td>EXTRATO DE CONTRATO SIMPLIFICADO Nº 6/2015 Esp...</td>\n",
       "      <td>093.000.118/2015</td>\n",
       "      <td>Administração e controle da carteira de ações ...</td>\n",
       "      <td>13 meses</td>\n",
       "      <td>R$ 21.000,00</td>\n",
       "      <td>NaN</td>\n",
       "      <td>23/12/2015</td>\n",
       "      <td>NaN</td>\n",
       "      <td>NaN</td>\n",
       "      <td>NaN</td>\n",
       "      <td>NaN</td>\n",
       "      <td>NaN</td>\n",
       "      <td>NaN</td>\n",
       "      <td>6/2015</td>\n",
       "      <td>NaN</td>\n",
       "      <td>NaN</td>\n",
       "      <td>NaN</td>\n",
       "      <td>NaN</td>\n",
       "      <td>O O O O O B-NUM_CONTRATO O O O O O O O O B-CON...</td>\n",
       "      <td>COMPANHIA ENERGÉTICA DE BRASÍLIA CEB CEB</td>\n",
       "      <td>BANCO BRADESCO S.A</td>\n",
       "      <td>NaN</td>\n",
       "      <td>NaN</td>\n",
       "      <td>NaN</td>\n",
       "    </tr>\n",
       "    <tr>\n",
       "      <th>1</th>\n",
       "      <td>14_extrato_de_contrato_ou_convenio_DODF_010_15...</td>\n",
       "      <td>EXTRATO_CONTRATO_CONVENIO</td>\n",
       "      <td>DODF_010_15-01-2021</td>\n",
       "      <td>EXTRATOS DE CONTRATO DE DOAÇÃO Processo: 00001...</td>\n",
       "      <td>00001-00036856/2020-47</td>\n",
       "      <td>doação de bens móveis não mais utilizados na CLDF</td>\n",
       "      <td>NaN</td>\n",
       "      <td>NaN</td>\n",
       "      <td>NaN</td>\n",
       "      <td>NaN</td>\n",
       "      <td>NaN</td>\n",
       "      <td>NaN</td>\n",
       "      <td>NaN</td>\n",
       "      <td>NaN</td>\n",
       "      <td>NaN</td>\n",
       "      <td>NaN</td>\n",
       "      <td>42/2020</td>\n",
       "      <td>NaN</td>\n",
       "      <td>NaN</td>\n",
       "      <td>NaN</td>\n",
       "      <td>NaN</td>\n",
       "      <td>O O O O O O O B-PROCESSO O O O O O O O B-OBJ_A...</td>\n",
       "      <td>ESCOLA CLASSE 01 DO PORTO RICO EM SANTA MARIA-DF</td>\n",
       "      <td>Câmara Legislativa do Distrito Federal</td>\n",
       "      <td>NaN</td>\n",
       "      <td>NaN</td>\n",
       "      <td>NaN</td>\n",
       "    </tr>\n",
       "    <tr>\n",
       "      <th>2</th>\n",
       "      <td>34_extrato_de_contrato_ou_convenio_DODF_037_25...</td>\n",
       "      <td>EXTRATO_CONTRATO_CONVENIO</td>\n",
       "      <td>DODF_037_25-02-2021</td>\n",
       "      <td>EXTRATO DO CONTRATO DE PRESTAÇÃO DE SERVIÇOS N...</td>\n",
       "      <td>04011-00001654/2020-25</td>\n",
       "      <td>prestação de serviços de telecomunicações, par...</td>\n",
       "      <td>12 (doze) meses a partir de 23/02/2021</td>\n",
       "      <td>265.433,86</td>\n",
       "      <td>NaN</td>\n",
       "      <td>NaN</td>\n",
       "      <td>57.101</td>\n",
       "      <td>NaN</td>\n",
       "      <td>NaN</td>\n",
       "      <td>NaN</td>\n",
       "      <td>NaN</td>\n",
       "      <td>116/2020</td>\n",
       "      <td>04/2021</td>\n",
       "      <td>NaN</td>\n",
       "      <td>NaN</td>\n",
       "      <td>NaN</td>\n",
       "      <td>NaN</td>\n",
       "      <td>O O O O O O O O B-NUM_CONTRATO O O B-PROCESSO ...</td>\n",
       "      <td>O DISTRITO FEDERAL, por meio da SECRETARIA DE ...</td>\n",
       "      <td>OI S/A., CNPJ nº: 76.535.764/0001-43</td>\n",
       "      <td>NaN</td>\n",
       "      <td>NaN</td>\n",
       "      <td>NaN</td>\n",
       "    </tr>\n",
       "    <tr>\n",
       "      <th>3</th>\n",
       "      <td>37_extrato_de_contrato_ou_convenio_DODF_070_14...</td>\n",
       "      <td>EXTRATO_CONTRATO_CONVENIO</td>\n",
       "      <td>DODF_070_14-04-2020</td>\n",
       "      <td>EXTRATO DO CONTRATO DE AQUISIÇÃO DE BENS Nº 02...</td>\n",
       "      <td>00050-00002517/2020-17</td>\n",
       "      <td>aquisição de 02 (dois) Gateways, visando o ate...</td>\n",
       "      <td>120 (cento e vinte) dias a partir de sua assin...</td>\n",
       "      <td>13.870,00</td>\n",
       "      <td>NaN</td>\n",
       "      <td>09/04/2020</td>\n",
       "      <td>24101</td>\n",
       "      <td>NaN</td>\n",
       "      <td>NaN</td>\n",
       "      <td>NaN</td>\n",
       "      <td>NaN</td>\n",
       "      <td>44/2019-SSP</td>\n",
       "      <td>022/2020</td>\n",
       "      <td>NaN</td>\n",
       "      <td>NaN</td>\n",
       "      <td>NaN</td>\n",
       "      <td>NaN</td>\n",
       "      <td>O O O O O O O O B-NUM_CONTRATO O O O O O O O O...</td>\n",
       "      <td>o Distrito Federal, por da SECRETARIA DE ESTAD...</td>\n",
       "      <td>NETSCIENCE TECNOLOGIA INDUSTRIA DE EQUIPAMENTO...</td>\n",
       "      <td>NaN</td>\n",
       "      <td>NaN</td>\n",
       "      <td>NaN</td>\n",
       "    </tr>\n",
       "    <tr>\n",
       "      <th>4</th>\n",
       "      <td>38_extrato_de_contrato_ou_convenio_DODF_173_01...</td>\n",
       "      <td>EXTRATO_CONTRATO_CONVENIO</td>\n",
       "      <td>DODF_173_01-09-08</td>\n",
       "      <td>EXTRATO DO CONTRATO DE EXECUÇÃO DE OBRAS Nº 09...</td>\n",
       "      <td>138.000.961/2008</td>\n",
       "      <td>Reforma do próprio da QNP 28/32 Setor P SUL de...</td>\n",
       "      <td>O contrato terá vigência de 365 (Trezentos e s...</td>\n",
       "      <td>148.583,34</td>\n",
       "      <td>NaN</td>\n",
       "      <td>07 de Agosto de 2008</td>\n",
       "      <td>11111</td>\n",
       "      <td>NaN</td>\n",
       "      <td>NaN</td>\n",
       "      <td>NaN</td>\n",
       "      <td>NaN</td>\n",
       "      <td>05/2008</td>\n",
       "      <td>09/2008</td>\n",
       "      <td>NaN</td>\n",
       "      <td>NaN</td>\n",
       "      <td>NaN</td>\n",
       "      <td>NaN</td>\n",
       "      <td>O O O O O O O O B-NUM_CONTRATO O O O O O O O O...</td>\n",
       "      <td>DF/ADMINISTRAÇÃO REGIONAL DE CEILÂN- DIA</td>\n",
       "      <td>ECC CONSTRUTORA LTDA ME</td>\n",
       "      <td>NaN</td>\n",
       "      <td>NaN</td>\n",
       "      <td>NaN</td>\n",
       "    </tr>\n",
       "  </tbody>\n",
       "</table>\n",
       "</div>"
      ],
      "text/plain": [
       "                                        arquivo_rast  ... NUM_AJUSTE\n",
       "0  9_extrato_de_contrato_ou_convenio_DODF_004_07-...  ...        NaN\n",
       "1  14_extrato_de_contrato_ou_convenio_DODF_010_15...  ...        NaN\n",
       "2  34_extrato_de_contrato_ou_convenio_DODF_037_25...  ...        NaN\n",
       "3  37_extrato_de_contrato_ou_convenio_DODF_070_14...  ...        NaN\n",
       "4  38_extrato_de_contrato_ou_convenio_DODF_173_01...  ...        NaN\n",
       "\n",
       "[5 rows x 27 columns]"
      ]
     },
     "execution_count": 234,
     "metadata": {},
     "output_type": "execute_result"
    }
   ],
   "source": [
    "df = pd.read_csv(\"data/contrato_convenio.csv\")\n",
    "df.head()"
   ]
  },
  {
   "cell_type": "code",
   "execution_count": 235,
   "metadata": {},
   "outputs": [
    {
     "data": {
      "text/plain": [
       "Index(['arquivo_rast', 'ato', 'dodf', 'treated_text', 'PROCESSO', 'OBJ_AJUSTE',\n",
       "       'VIGENCIA', 'VALOR', 'PROGRAMA_TRABALHO', 'DATA_ASSINATURA',\n",
       "       'CODIGO_UO', 'NATUREZA_DESPESA', 'NOTA_EMPENHO', 'FUND_DISPENSA',\n",
       "       'ORGAO_LICITANTE', 'NUM_LICITACAO', 'NUM_CONTRATO', 'IDENT_DISPENSA',\n",
       "       'OG_ATA', 'FONTE_RECURSO', 'NOME_RESPONSAVEL', 'IOB',\n",
       "       'CONTRATANTE_ou_CONCEDENTE', 'CONTRATADA_ou_CONVENENTE',\n",
       "       'CNPJ_CONTRATANTE_ou_CONCEDENTE', 'CNPJ_CONTRATADA_ou_CONVENENTE',\n",
       "       'NUM_AJUSTE'],\n",
       "      dtype='object')"
      ]
     },
     "execution_count": 235,
     "metadata": {},
     "output_type": "execute_result"
    }
   ],
   "source": [
    "df.columns"
   ]
  },
  {
   "cell_type": "code",
   "execution_count": 236,
   "metadata": {},
   "outputs": [
    {
     "data": {
      "text/plain": [
       "EXTRATO_CONTRATO             1342\n",
       "EXTRATO_CONTRATO_CONVENIO     442\n",
       "EXTRATO_CONVENIO               23\n",
       "Name: ato, dtype: int64"
      ]
     },
     "execution_count": 236,
     "metadata": {},
     "output_type": "execute_result"
    }
   ],
   "source": [
    "df.ato.value_counts()"
   ]
  },
  {
   "cell_type": "code",
   "execution_count": 237,
   "metadata": {},
   "outputs": [
    {
     "data": {
      "text/plain": [
       "EXTRATO_CONTRATO             1342\n",
       "EXTRATO_CONTRATO_CONVENIO     442\n",
       "EXTRATO_CONVENIO               23\n",
       "Name: ato, dtype: int64"
      ]
     },
     "execution_count": 237,
     "metadata": {},
     "output_type": "execute_result"
    }
   ],
   "source": [
    "# e_c = df[df.ato == \"EXTRATO_CONTRATO_CONVENIO\"]\n",
    "e_c = df.copy()\n",
    "e_c.ato.value_counts()\n",
    "# df.treated_text[5]"
   ]
  },
  {
   "cell_type": "code",
   "execution_count": 238,
   "metadata": {},
   "outputs": [
    {
     "data": {
      "text/plain": [
       "(1662, 1807)"
      ]
     },
     "execution_count": 238,
     "metadata": {},
     "output_type": "execute_result"
    }
   ],
   "source": [
    "def check_regex_e_c(text):\n",
    "  regex = r\".*(EXTRATOS? (((D(E|O))|(AO)) )?)?(TERMO|CONTRATUA(L|IS)|INSTRUMENTOS?|CONV[ÊE]NIOS?|CONTRATOS?( (SIMPLIFICADO|DE (DOAÇÃO|PRESTA[ÇC][ÃA]O|AQUISI[ÇC][ÃA]O|EXECU[ÇC][ÃA]O)))?)\"\n",
    "  return re.match(regex, text) is not None\n",
    "\n",
    "s = e_c.treated_text.apply(check_regex_e_c)\n",
    "s.sum(), len(s)"
   ]
  },
  {
   "cell_type": "code",
   "execution_count": 239,
   "metadata": {},
   "outputs": [],
   "source": [
    "e_c.treated_text[~s].to_csv(\"teste.csv\")"
   ]
  },
  {
   "cell_type": "markdown",
   "metadata": {},
   "source": [
    "mau exemplo"
   ]
  },
  {
   "cell_type": "code",
   "execution_count": 240,
   "metadata": {},
   "outputs": [
    {
     "data": {
      "text/plain": [
       "('EXTRATO DO convênio', 'EXTRATO. DO CONTRATO')"
      ]
     },
     "execution_count": 240,
     "metadata": {},
     "output_type": "execute_result"
    }
   ],
   "source": [
    "e_c.treated_text[199][:19], e_c.treated_text[200][:20]"
   ]
  }
 ],
 "metadata": {
  "kernelspec": {
   "display_name": "Python 3.7.13 ('dodfminer')",
   "language": "python",
   "name": "python3"
  },
  "language_info": {
   "codemirror_mode": {
    "name": "ipython",
    "version": 3
   },
   "file_extension": ".py",
   "mimetype": "text/x-python",
   "name": "python",
   "nbconvert_exporter": "python",
   "pygments_lexer": "ipython3",
   "version": "3.7.13"
  },
  "orig_nbformat": 4,
  "vscode": {
   "interpreter": {
    "hash": "9d52b7b75ae943785801baebbd3476a2dc186326c32c937a61282ccd96166447"
   }
  }
 },
 "nbformat": 4,
 "nbformat_minor": 2
}
