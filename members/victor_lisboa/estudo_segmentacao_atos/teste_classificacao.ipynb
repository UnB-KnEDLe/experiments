{
 "cells": [
  {
   "cell_type": "code",
   "execution_count": 3,
   "metadata": {},
   "outputs": [
    {
     "name": "stdout",
     "output_type": "stream",
     "text": [
      "Defaulting to user installation because normal site-packages is not writeable\n",
      "Requirement already satisfied: sklearn_crfsuite in /home/victor/.local/lib/python3.10/site-packages (0.3.6)\n",
      "Requirement already satisfied: tabulate in /home/victor/.local/lib/python3.10/site-packages (from sklearn_crfsuite) (0.8.10)\n",
      "Requirement already satisfied: tqdm>=2.0 in /home/victor/.local/lib/python3.10/site-packages (from sklearn_crfsuite) (4.46.1)\n",
      "Requirement already satisfied: python-crfsuite>=0.8.3 in /home/victor/.local/lib/python3.10/site-packages (from sklearn_crfsuite) (0.9.8)\n",
      "Requirement already satisfied: six in /usr/lib/python3/dist-packages (from sklearn_crfsuite) (1.16.0)\n",
      "Defaulting to user installation because normal site-packages is not writeable\n",
      "Collecting scikit-learn<0.24\n",
      "  Using cached scikit-learn-0.23.2.tar.gz (7.2 MB)\n",
      "  Installing build dependencies ... \u001b[?25l/"
     ]
    }
   ],
   "source": [
    "!pip install sklearn_crfsuite\n",
    "!pip install -U 'scikit-learn<0.24'\n",
    "!pip install nltk\n",
    "import sklearn_crfsuite\n",
    "import pandas as pd\n",
    "import numpy as np\n",
    "import scipy.stats\n",
    "import sklearn\n",
    "import joblib\n",
    "import nltk\n",
    "import joblib\n",
    "import json\n",
    "import re\n",
    "import os\n",
    "from sklearn_crfsuite.metrics import flat_classification_report, flat_f1_score\n",
    "from sklearn.metrics import classification_report, make_scorer\n",
    "from sklearn.model_selection import RandomizedSearchCV\n",
    "from sklearn.model_selection import train_test_split\n",
    "from nltk.tokenize import word_tokenize\n",
    "from sklearn_crfsuite import scorers\n",
    "\n",
    "nltk.download('punkt')"
   ]
  }
 ],
 "metadata": {
  "kernelspec": {
   "display_name": "Python 3.8.15 64-bit",
   "language": "python",
   "name": "python3"
  },
  "language_info": {
   "codemirror_mode": {
    "name": "ipython",
    "version": 3
   },
   "file_extension": ".py",
   "mimetype": "text/x-python",
   "name": "python",
   "nbconvert_exporter": "python",
   "pygments_lexer": "ipython3",
   "version": "3.8.15"
  },
  "orig_nbformat": 4,
  "vscode": {
   "interpreter": {
    "hash": "5b3ded1ccb95c1d9bd405e7b823d9e85424cde40fbb5985eb47e999ef50e15b4"
   }
  }
 },
 "nbformat": 4,
 "nbformat_minor": 2
}
