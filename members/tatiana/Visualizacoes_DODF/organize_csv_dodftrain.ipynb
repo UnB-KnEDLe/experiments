{
 "cells": [
  {
   "cell_type": "markdown",
   "metadata": {},
   "source": [
    "# Organizando o conjunto de dados dodftrain.csv\n",
    "\n",
    "O conjunto de dados original está disponível em: https://github.com/oraclesknedle/text_collections/tree/master/dodf-v1\n",
    "\n",
    "Para facilitar o processamento dos dados e suas visualizações, eu adicionei a coluna 'int_label' ao dataset.\n",
    "\n",
    "## 1. Importar biblioteca pandas, conjunto de dados e gerar lista 'int_label'\n",
    "\n",
    "Primeiro eu gerei um dicionário relacionando cada uma das label a um inteiro distinto, e depois me baseando na coluna 'label' gerei a lista 'int_label', a qual adicionei ao dataset na coluna de mesmo nome."
   ]
  },
  {
   "cell_type": "code",
   "execution_count": 1,
   "metadata": {
    "scrolled": false
   },
   "outputs": [],
   "source": [
    "import pandas as pd\n",
    "\n",
    "data = pd.read_csv(\"dodftrain.csv\")\n",
    "data.head()\n",
    "text = data[\"text\"]\n",
    "label = data[\"label\"]\n",
    "\n",
    "labels_to_int = {  'SECRETARIA DE ESTADO DE SEGURANÇA PÚBLICA' : 0,\n",
    "                'SECRETARIA DE ESTADO DE CULTURA' : 1,\n",
    "                'SECRETARIA DE ESTADO DE FAZENDA, PLANEJAMENTO, ORÇAMENTO E GESTÃO' : 2,\n",
    "                'CASA CIVIL' : 3,\n",
    "                'SECRETARIA DE ESTADO DE OBRAS E INFRAESTRUTURA' : 4,\n",
    "                'SECRETARIA DE ESTADO DE EDUCAÇÃO' : 5,\n",
    "                'DEFENSORIA PÚBLICA DO DISTRITO FEDERAL' : 6,\n",
    "                'SECRETARIA DE ESTADO DE SAÚDE' : 7,\n",
    "                'TRIBUNAL DE CONTAS DO DISTRITO FEDERAL' : 8,\n",
    "                'SECRETARIA DE ESTADO DE DESENVOLVIMENTO URBANO E HABITAÇÃO' : 9,\n",
    "                'PODER LEGISLATIVO' : 10,\n",
    "                'SECRETARIA DE ESTADO DE JUSTIÇA E CIDADANIA' : 11,\n",
    "                'SECRETARIA DE ESTADO DE TRANSPORTE E MOBILIDADE' : 12,\n",
    "                'CONTROLADORIA GERAL DO DISTRITO FEDERAL' : 13,\n",
    "                'PODER EXECUTIVO' : 14,\n",
    "                'SECRETARIA DE ESTADO DE AGRICULTURA, ABASTECIMENTO E DESENVOLVIMENTO RURAL' : 15,\n",
    "                'SECRETARIA DE ESTADO DE ECONOMIA, DESENVOLVIMENTO, INOVAÇÃO, CIÊNCIA E TECNOLOGIA' : 16,\n",
    "                'SECRETARIA DE ESTADO DE DESENVOLVIMENTO ECONÔMICO' : 17,\n",
    "                'SECRETARIA DE ESTADO DO MEIO AMBIENTE' : 18}\n",
    "\n",
    "int_label = []\n",
    "for i in label:\n",
    "    for j in labels_to_int:\n",
    "        if i == j:\n",
    "            int_label.append(labels_to_int[j])\n",
    "            "
   ]
  },
  {
   "cell_type": "markdown",
   "metadata": {},
   "source": [
    "## 2.  Criar coluna 'int_label' no data frame\n",
    "\n",
    "Depois, criei a coluna 'int_label' e adicionei os dados da lista 'int_label':"
   ]
  },
  {
   "cell_type": "code",
   "execution_count": 2,
   "metadata": {
    "scrolled": true
   },
   "outputs": [],
   "source": [
    "df = pd.DataFrame(int_label, columns=[\"int_label\"])\n",
    "df[\"labels\"] = label\n",
    "df[\"conteudo\"] = text"
   ]
  },
  {
   "cell_type": "markdown",
   "metadata": {},
   "source": [
    "## 3. Passar data frame para um arquivo .csv\n",
    "\n",
    "Por fim, passei o dataframe para um novo arquivo csv:"
   ]
  },
  {
   "cell_type": "code",
   "execution_count": 3,
   "metadata": {},
   "outputs": [],
   "source": [
    "df.to_csv(\"DODF.csv\")"
   ]
  }
 ],
 "metadata": {
  "kernelspec": {
   "display_name": "Python 3",
   "language": "python",
   "name": "python3"
  },
  "language_info": {
   "codemirror_mode": {
    "name": "ipython",
    "version": 3
   },
   "file_extension": ".py",
   "mimetype": "text/x-python",
   "name": "python",
   "nbconvert_exporter": "python",
   "pygments_lexer": "ipython3",
   "version": "3.8.2"
  }
 },
 "nbformat": 4,
 "nbformat_minor": 4
}
