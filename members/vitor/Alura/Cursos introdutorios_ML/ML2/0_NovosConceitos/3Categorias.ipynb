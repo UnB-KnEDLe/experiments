{
 "cells": [
  {
   "cell_type": "markdown",
   "id": "142b00db-d129-41a3-8dd5-1ee90ddbdbea",
   "metadata": {},
   "source": [
    "- Cliente\n",
    "    - variáveis:\n",
    "        * Recencia: O quão recente é o último acesso\n",
    "        * Frequências: Quantas vezes ele acessou a plataforma\n",
    "        * Cadastro: Quando ele se cadastrou \n",
    "    - Com essas 3 variáveis , quero dizer se meu cliente está: Alegre(2) / Neutro(1) / Insatisfeito(0) com meu produto! (3 CATEGORIAS) "
   ]
  },
  {
   "cell_type": "markdown",
   "id": "caa4554a-111a-404c-ac4f-24883d1cfeac",
   "metadata": {},
   "source": [
    "- Assim, vamos utilizar o ONE VS REST para classifcação com mais de 2 categorias:\n",
    "    * 0=>0      1=>1,2  LinearSVC 0 ou do resto (38%, resto 62%) \n",
    "    * 0=>0,2    1=>1    LinearSVC 1 ou do resto (44%, resto 56%) \n",
    "    * 0=>0,1    2=>2    LinearSVC 2 ou do resto (20%, resto 80%) "
   ]
  },
  {
   "cell_type": "markdown",
   "id": "27c31b2e-0b80-4aae-9594-734b2ab49216",
   "metadata": {},
   "source": [
    "* Também podemos utilizar o ONE VS ONE para classifcação com mais de 2 categorias tabém:\n",
    "    * se tivermos n categorias, vamos rodar n*n classificadores. Onde temos um a um cada categoria "
   ]
  },
  {
   "cell_type": "code",
   "execution_count": 3,
   "id": "7d06609c-9e2d-49e9-8f28-fbfac9c83e88",
   "metadata": {},
   "outputs": [],
   "source": [
    "from typing import Counter\n",
    "import pandas as pd\n",
    "import numpy as np\n",
    "from sklearn.model_selection import cross_val_score # já vai fazar o fit, predict e devolver as notas\n",
    "\n",
    "df = pd.read_csv('clientes.csv')\n",
    "X_df = df[['recencia','frequencia', 'semanas_de_inscricao']]\n",
    "Y_df = df['situacao']\n",
    "\n",
    "Xdummies_df = pd.get_dummies(X_df)\n",
    "Ydummies_df = Y_df\n",
    "\n",
    "X = Xdummies_df.values\n",
    "Y = Ydummies_df.values \n",
    "\n",
    "porcentagem_de_treino_e_teste = 0.9\n",
    "\n",
    "tamanho_de_treino_e_teste = int(porcentagem_de_treino_e_teste * len(Y))\n",
    "\n",
    "treino_dados = X[:tamanho_de_treino_e_teste]\n",
    "treino_marcacoes = Y[:tamanho_de_treino_e_teste]\n",
    "\n",
    "validacao_dados = X[tamanho_de_treino_e_teste:]\n",
    "validacao_marcacoes = Y[tamanho_de_treino_e_teste:]"
   ]
  },
  {
   "cell_type": "code",
   "execution_count": 4,
   "id": "eebdb0d4-8613-4bf8-aed3-a9a2505cccaa",
   "metadata": {},
   "outputs": [],
   "source": [
    "def fit_and_predict(nome, modelo, treino_dados, treino_marcacoes):\n",
    "    k = 10\n",
    "    scores = cross_val_score(modelo, treino_dados, treino_marcacoes, cv = k)\n",
    "    taxa_de_acerto = np.mean(scores)\n",
    "    msg = f'A taxa de acerto de {nome} foi: {taxa_de_acerto}'\n",
    "    print(msg)\n",
    "    return(taxa_de_acerto)\n",
    "\n",
    "def teste_real(modelo, validacao_dados, validacao_marcacoes):\n",
    "    resultado = modelo.predict(validacao_dados)\n",
    "\n",
    "    acertos = resultado == validacao_marcacoes\n",
    "\n",
    "    total_de_acertos = sum(acertos)\n",
    "    total_de_elementos = len(validacao_marcacoes)\n",
    "\n",
    "    taxa_de_acerto = 100.0 * total_de_acertos / total_de_elementos\n",
    "\n",
    "    msg = \"Taxa de acerto do vencedor entre os algoritmos no mundo real: {0}\".format(taxa_de_acerto)\n",
    "    print(msg)"
   ]
  },
  {
   "cell_type": "code",
   "execution_count": 5,
   "id": "c014db42-b2d7-4279-852a-5ba2c063e045",
   "metadata": {},
   "outputs": [
    {
     "name": "stdout",
     "output_type": "stream",
     "text": [
      "A taxa de acerto de OneVsRest foi: 0.9257142857142858\n",
      "A taxa de acerto de OneVsOne foi: 1.0\n",
      "A taxa de acerto de MultinomialNB foi: 0.8366666666666667\n",
      "A taxa de acerto de AdaBoostClassifier foi: 0.7528571428571429\n"
     ]
    }
   ],
   "source": [
    "resultados = {}\n",
    "\n",
    "from sklearn.multiclass import OneVsRestClassifier\n",
    "from sklearn.svm import LinearSVC\n",
    "modeloOneVsRest = OneVsRestClassifier(LinearSVC(random_state = 0, max_iter=10000))\n",
    "resultadoOneVsRest = fit_and_predict(\"OneVsRest\", modeloOneVsRest, treino_dados, treino_marcacoes)\n",
    "resultados[resultadoOneVsRest] = modeloOneVsRest\n",
    "\n",
    "from sklearn.multiclass import OneVsOneClassifier\n",
    "modeloOneVsOne = OneVsOneClassifier(LinearSVC(random_state = 0, max_iter=10000))\n",
    "resultadoOneVsOne = fit_and_predict(\"OneVsOne\", modeloOneVsOne, treino_dados, treino_marcacoes)\n",
    "resultados[resultadoOneVsOne] = modeloOneVsOne\n",
    "\n",
    "from sklearn.naive_bayes import MultinomialNB\n",
    "modeloMultinomial = MultinomialNB()\n",
    "resultadoMultinomial = fit_and_predict(\"MultinomialNB\", modeloMultinomial, treino_dados, treino_marcacoes)\n",
    "resultados[resultadoMultinomial] = modeloMultinomial\n",
    "\n",
    "from sklearn.ensemble import AdaBoostClassifier\n",
    "modeloAdaBoost = AdaBoostClassifier()\n",
    "resultadoAdaBoost = fit_and_predict(\"AdaBoostClassifier\", modeloAdaBoost, treino_dados, treino_marcacoes)\n",
    "resultados[resultadoAdaBoost] = modeloAdaBoost"
   ]
  },
  {
   "cell_type": "code",
   "execution_count": 6,
   "id": "59a9b34c-0b75-4abb-ad69-3132bfcbe0c4",
   "metadata": {},
   "outputs": [
    {
     "name": "stdout",
     "output_type": "stream",
     "text": [
      "(0.9257142857142858, OneVsRestClassifier(estimator=LinearSVC(max_iter=10000, random_state=0)))\n",
      "(1.0, OneVsOneClassifier(estimator=LinearSVC(max_iter=10000, random_state=0)))\n",
      "(0.8366666666666667, MultinomialNB())\n",
      "(0.7528571428571429, AdaBoostClassifier())\n"
     ]
    }
   ],
   "source": [
    "for r in resultados.items():\n",
    "    print(r)"
   ]
  },
  {
   "cell_type": "code",
   "execution_count": 7,
   "id": "b63ec130-9a14-4b12-867b-9430383dada2",
   "metadata": {},
   "outputs": [],
   "source": [
    "maximo = max(resultados)\n",
    "vencedor = resultados[maximo]"
   ]
  },
  {
   "cell_type": "code",
   "execution_count": 8,
   "id": "ac699786-4444-42a3-9769-00f1c6c8c128",
   "metadata": {},
   "outputs": [
    {
     "name": "stdout",
     "output_type": "stream",
     "text": [
      "Vencerdor: \n",
      "OneVsOneClassifier(estimator=LinearSVC(max_iter=10000, random_state=0))\n"
     ]
    }
   ],
   "source": [
    "print(\"Vencerdor: \")\n",
    "print(vencedor)"
   ]
  },
  {
   "cell_type": "code",
   "execution_count": 9,
   "id": "5284481c-7e93-43ce-b73e-218ccbd9d3f4",
   "metadata": {},
   "outputs": [
    {
     "data": {
      "text/plain": [
       "OneVsOneClassifier(estimator=LinearSVC(max_iter=10000, random_state=0))"
      ]
     },
     "execution_count": 9,
     "metadata": {},
     "output_type": "execute_result"
    }
   ],
   "source": [
    "vencedor.fit(treino_dados, treino_marcacoes)"
   ]
  },
  {
   "cell_type": "code",
   "execution_count": 11,
   "id": "69ca2726-0275-4c6c-b3c1-0566cef44514",
   "metadata": {},
   "outputs": [
    {
     "name": "stdout",
     "output_type": "stream",
     "text": [
      "Taxa de acerto do vencedor entre os algoritmos no mundo real: 100.0\n"
     ]
    }
   ],
   "source": [
    "teste_real(vencedor, validacao_dados, validacao_marcacoes)"
   ]
  },
  {
   "cell_type": "code",
   "execution_count": 12,
   "id": "6b890e35-36da-4005-a28e-999aaa16f22d",
   "metadata": {},
   "outputs": [
    {
     "name": "stdout",
     "output_type": "stream",
     "text": [
      "Taxa de acerto base: 82.608696\n"
     ]
    }
   ],
   "source": [
    "acerto_base = max(Counter(validacao_marcacoes).values())\n",
    "taxa_de_acerto_base = 100.0 * acerto_base / len(validacao_marcacoes)\n",
    "print(\"Taxa de acerto base: %f\" % taxa_de_acerto_base)"
   ]
  },
  {
   "cell_type": "code",
   "execution_count": 13,
   "id": "c24f3b1d-b0e7-4ce0-8b8c-1ba5069d4de4",
   "metadata": {},
   "outputs": [
    {
     "name": "stdout",
     "output_type": "stream",
     "text": [
      "Total de teste: 23\n"
     ]
    }
   ],
   "source": [
    "total_de_elementos = len(validacao_dados)\n",
    "print(\"Total de teste: %d\" % total_de_elementos)"
   ]
  },
  {
   "cell_type": "markdown",
   "id": "aabaebb7-59c2-4391-b1fc-1d50033b619c",
   "metadata": {},
   "source": [
    "APRENDIZADO:\n",
    "* Como classificar um elemento em 3 categorias\n",
    "* Os algoritmos One vs Rest e One vs One\n",
    "* A comparação entre os algoritmos OneVsRest, OneVsOne, MultinomialNB e AdaBoostClassifier"
   ]
  },
  {
   "cell_type": "code",
   "execution_count": null,
   "id": "94b63775-d498-4e71-87f5-61a653331349",
   "metadata": {},
   "outputs": [],
   "source": []
  }
 ],
 "metadata": {
  "kernelspec": {
   "display_name": "Python 3",
   "language": "python",
   "name": "python3"
  },
  "language_info": {
   "codemirror_mode": {
    "name": "ipython",
    "version": 3
   },
   "file_extension": ".py",
   "mimetype": "text/x-python",
   "name": "python",
   "nbconvert_exporter": "python",
   "pygments_lexer": "ipython3",
   "version": "3.8.5"
  }
 },
 "nbformat": 4,
 "nbformat_minor": 5
}
