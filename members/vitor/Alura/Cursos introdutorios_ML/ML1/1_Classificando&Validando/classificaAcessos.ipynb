{
 "cells": [
  {
   "cell_type": "markdown",
   "id": "8fdfb056-eb7c-462f-84ea-1ece43c9f6ab",
   "metadata": {},
   "source": [
    "* Função para ler arquivo CSV"
   ]
  },
  {
   "cell_type": "code",
   "execution_count": 1,
   "id": "7c1d0e82-1e21-4d18-a0b5-cf7f31050951",
   "metadata": {},
   "outputs": [],
   "source": [
    "import csv\n",
    "\n",
    "def carregar_dados():\n",
    "    X = [] #dados\n",
    "    Y = [] #marcações\n",
    "\n",
    "    arquivo = open('acesso.csv', 'r')  #Carregar arquivo \n",
    "    leitor = csv.reader(arquivo)       #Ler arquivo (linha a linha)\n",
    "    next(leitor)                       #Joga fora a primeira linha\n",
    "\n",
    "    for home,como_funciona,contato,comprou in leitor:\n",
    "        dado = [int(home),int(como_funciona),int(contato)]\n",
    "        X.append(dado)\n",
    "        Y.append(int(comprou))\n",
    "    \n",
    "    return X, Y"
   ]
  },
  {
   "cell_type": "markdown",
   "id": "7e519ee5-2812-40b4-b24d-5baff848bfa0",
   "metadata": {},
   "source": [
    "* Carregando dados do meu csv"
   ]
  },
  {
   "cell_type": "code",
   "execution_count": 2,
   "id": "82a0be3f-3ec6-4ae9-bd34-ad322107bd87",
   "metadata": {},
   "outputs": [],
   "source": [
    "X, Y = carregar_dados()"
   ]
  },
  {
   "cell_type": "code",
   "execution_count": 3,
   "id": "3403e1c1-7508-46b6-b581-577faead1535",
   "metadata": {},
   "outputs": [
    {
     "data": {
      "text/plain": [
       "MultinomialNB()"
      ]
     },
     "execution_count": 3,
     "metadata": {},
     "output_type": "execute_result"
    }
   ],
   "source": [
    "from sklearn.naive_bayes import MultinomialNB\n",
    "modelo = MultinomialNB()\n",
    "modelo.fit(X,Y)"
   ]
  },
  {
   "cell_type": "markdown",
   "id": "650fb46e-d3c2-4bab-9229-2effc488085e",
   "metadata": {},
   "source": [
    "* Aqui estou tetado predizer com os dados que já tinham sido passados pelo fit, logo, espera-se uma taxa de acerto alta"
   ]
  },
  {
   "cell_type": "code",
   "execution_count": 4,
   "id": "3a6990f9-cc40-4be6-acf2-b923032e840a",
   "metadata": {},
   "outputs": [],
   "source": [
    "resultado = modelo.predict(X) \n",
    "diferenca = resultado - Y"
   ]
  },
  {
   "cell_type": "code",
   "execution_count": 5,
   "id": "dc89b5ac-e05e-4cc0-b56b-93c7706c8d4e",
   "metadata": {},
   "outputs": [],
   "source": [
    "acertos = [d for d in diferenca if d == 0]\n",
    "total_acertos = len(acertos)\n",
    "total_elementos = len(X)\n",
    "taxa_acerto = 100.0 * (total_acertos / total_elementos)"
   ]
  },
  {
   "cell_type": "code",
   "execution_count": 6,
   "id": "1676e858-e2b5-4ff9-b746-a2d109a5d72c",
   "metadata": {},
   "outputs": [
    {
     "name": "stdout",
     "output_type": "stream",
     "text": [
      "93.93939393939394\n",
      "99\n"
     ]
    }
   ],
   "source": [
    "print(taxa_acerto)\n",
    "print(total_elementos)"
   ]
  },
  {
   "cell_type": "markdown",
   "id": "1f3d61db-5ac5-4f73-a87a-caf311b893fd",
   "metadata": {},
   "source": [
    "* Agora vou separar uma porcentagem de dados para treinar e outra para testar "
   ]
  },
  {
   "cell_type": "code",
   "execution_count": 7,
   "id": "e210e3bf-6c34-4d6d-a991-e3bd715a1b90",
   "metadata": {},
   "outputs": [],
   "source": [
    "treino_dados = X[:90]\n",
    "treino_marcacoes = Y[:90]\n",
    "\n",
    "teste_dados = X[-9:]\n",
    "teste_marcacoes = Y[-9:]"
   ]
  },
  {
   "cell_type": "code",
   "execution_count": 8,
   "id": "035d5f66-762e-4923-a963-2443f4f14e77",
   "metadata": {},
   "outputs": [
    {
     "name": "stdout",
     "output_type": "stream",
     "text": [
      "88.88888888888889\n",
      "9\n"
     ]
    }
   ],
   "source": [
    "modelo = MultinomialNB()\n",
    "modelo.fit(treino_dados,treino_marcacoes)\n",
    "\n",
    "resultado = modelo.predict(teste_dados) \n",
    "diferenca = resultado - teste_marcacoes\n",
    "\n",
    "acertos = [d for d in diferenca if d == 0]\n",
    "total_acertos = len(acertos)\n",
    "total_elementos = len(teste_dados)\n",
    "taxa_acerto = 100.0 * (total_acertos / total_elementos)\n",
    "\n",
    "print(taxa_acerto)\n",
    "print(total_elementos)"
   ]
  },
  {
   "cell_type": "markdown",
   "id": "50173aa2-46fb-4d5a-a7b4-2568e0422dc5",
   "metadata": {},
   "source": [
    "APRENDIZADO:\n",
    "\n",
    "* Importamos e verificamos os dados de um arquivo CSV\n",
    "* Utilizamos o algoritmo MultinomialNB\n",
    "* Obtemos a taxa de acerto\n",
    "* Dividimos os registros, metade para treinar o nosso algoritmo e a outra metade para testá-lo"
   ]
  },
  {
   "cell_type": "code",
   "execution_count": null,
   "id": "9b6b636d-1cdc-40c2-9c4b-d0623dc7672a",
   "metadata": {},
   "outputs": [],
   "source": []
  },
  {
   "cell_type": "code",
   "execution_count": null,
   "id": "c57b7785-2302-4b27-840c-eb8c089285bd",
   "metadata": {},
   "outputs": [],
   "source": []
  }
 ],
 "metadata": {
  "kernelspec": {
   "display_name": "Python 3",
   "language": "python",
   "name": "python3"
  },
  "language_info": {
   "codemirror_mode": {
    "name": "ipython",
    "version": 3
   },
   "file_extension": ".py",
   "mimetype": "text/x-python",
   "name": "python",
   "nbconvert_exporter": "python",
   "pygments_lexer": "ipython3",
   "version": "3.8.5"
  }
 },
 "nbformat": 4,
 "nbformat_minor": 5
}
