{
 "cells": [
  {
   "cell_type": "code",
   "execution_count": 6,
   "id": "a5e4f49d-8f35-4044-b16c-a8885e167875",
   "metadata": {},
   "outputs": [],
   "source": [
    "import pandas as pd\n",
    "from sklearn.naive_bayes import MultinomialNB"
   ]
  },
  {
   "cell_type": "code",
   "execution_count": 7,
   "id": "6a453f05-c31f-4ccc-ab53-551557e6850e",
   "metadata": {},
   "outputs": [],
   "source": [
    "dados = pd.read_csv('categoricas.csv')"
   ]
  },
  {
   "cell_type": "markdown",
   "id": "d2ae6516-1f3d-44d5-9c4a-23676f33036d",
   "metadata": {},
   "source": [
    "* Ao analisarmos as variáveis desse CSV, percebe-se que a \"BUSCA\" é uma variável categórica e não apenas um valor binário\n",
    "* Com a função \"get_dummies\" , transformamos uma variável categórica em diversas categorias de acordo com a quantidade de dados distintos\n",
    "    * exemplo = pd.get_dummies(dados)"
   ]
  },
  {
   "cell_type": "code",
   "execution_count": 10,
   "id": "963fde98-53be-4381-b1be-160101c9136e",
   "metadata": {},
   "outputs": [],
   "source": [
    "X_df = dados[['home', 'busca', 'logado']]\n",
    "Y_df = dados['comprou']"
   ]
  },
  {
   "cell_type": "code",
   "execution_count": 11,
   "id": "887b250f-b7f8-449d-89f2-5bc308630477",
   "metadata": {},
   "outputs": [
    {
     "data": {
      "text/html": [
       "<div>\n",
       "<style scoped>\n",
       "    .dataframe tbody tr th:only-of-type {\n",
       "        vertical-align: middle;\n",
       "    }\n",
       "\n",
       "    .dataframe tbody tr th {\n",
       "        vertical-align: top;\n",
       "    }\n",
       "\n",
       "    .dataframe thead th {\n",
       "        text-align: right;\n",
       "    }\n",
       "</style>\n",
       "<table border=\"1\" class=\"dataframe\">\n",
       "  <thead>\n",
       "    <tr style=\"text-align: right;\">\n",
       "      <th></th>\n",
       "      <th>home</th>\n",
       "      <th>busca</th>\n",
       "      <th>logado</th>\n",
       "    </tr>\n",
       "  </thead>\n",
       "  <tbody>\n",
       "    <tr>\n",
       "      <th>0</th>\n",
       "      <td>0</td>\n",
       "      <td>algoritmos</td>\n",
       "      <td>1</td>\n",
       "    </tr>\n",
       "    <tr>\n",
       "      <th>1</th>\n",
       "      <td>0</td>\n",
       "      <td>java</td>\n",
       "      <td>0</td>\n",
       "    </tr>\n",
       "    <tr>\n",
       "      <th>2</th>\n",
       "      <td>1</td>\n",
       "      <td>algoritmos</td>\n",
       "      <td>0</td>\n",
       "    </tr>\n",
       "    <tr>\n",
       "      <th>3</th>\n",
       "      <td>1</td>\n",
       "      <td>ruby</td>\n",
       "      <td>1</td>\n",
       "    </tr>\n",
       "    <tr>\n",
       "      <th>4</th>\n",
       "      <td>1</td>\n",
       "      <td>ruby</td>\n",
       "      <td>0</td>\n",
       "    </tr>\n",
       "    <tr>\n",
       "      <th>...</th>\n",
       "      <td>...</td>\n",
       "      <td>...</td>\n",
       "      <td>...</td>\n",
       "    </tr>\n",
       "    <tr>\n",
       "      <th>995</th>\n",
       "      <td>0</td>\n",
       "      <td>ruby</td>\n",
       "      <td>0</td>\n",
       "    </tr>\n",
       "    <tr>\n",
       "      <th>996</th>\n",
       "      <td>0</td>\n",
       "      <td>ruby</td>\n",
       "      <td>0</td>\n",
       "    </tr>\n",
       "    <tr>\n",
       "      <th>997</th>\n",
       "      <td>0</td>\n",
       "      <td>java</td>\n",
       "      <td>1</td>\n",
       "    </tr>\n",
       "    <tr>\n",
       "      <th>998</th>\n",
       "      <td>1</td>\n",
       "      <td>algoritmos</td>\n",
       "      <td>0</td>\n",
       "    </tr>\n",
       "    <tr>\n",
       "      <th>999</th>\n",
       "      <td>0</td>\n",
       "      <td>ruby</td>\n",
       "      <td>1</td>\n",
       "    </tr>\n",
       "  </tbody>\n",
       "</table>\n",
       "<p>1000 rows × 3 columns</p>\n",
       "</div>"
      ],
      "text/plain": [
       "     home       busca  logado\n",
       "0       0  algoritmos       1\n",
       "1       0        java       0\n",
       "2       1  algoritmos       0\n",
       "3       1        ruby       1\n",
       "4       1        ruby       0\n",
       "..    ...         ...     ...\n",
       "995     0        ruby       0\n",
       "996     0        ruby       0\n",
       "997     0        java       1\n",
       "998     1  algoritmos       0\n",
       "999     0        ruby       1\n",
       "\n",
       "[1000 rows x 3 columns]"
      ]
     },
     "execution_count": 11,
     "metadata": {},
     "output_type": "execute_result"
    }
   ],
   "source": [
    "X_df"
   ]
  },
  {
   "cell_type": "code",
   "execution_count": 12,
   "id": "fe28f910-1959-4fb7-9edc-e29a1ec27365",
   "metadata": {},
   "outputs": [],
   "source": [
    "x_dummies_df = pd.get_dummies(X_df)\n",
    "y_dummies_df = (Y_df)"
   ]
  },
  {
   "cell_type": "code",
   "execution_count": 13,
   "id": "e7a360d6-2bd1-4ec6-bb2d-dbe5ad813722",
   "metadata": {},
   "outputs": [
    {
     "data": {
      "text/html": [
       "<div>\n",
       "<style scoped>\n",
       "    .dataframe tbody tr th:only-of-type {\n",
       "        vertical-align: middle;\n",
       "    }\n",
       "\n",
       "    .dataframe tbody tr th {\n",
       "        vertical-align: top;\n",
       "    }\n",
       "\n",
       "    .dataframe thead th {\n",
       "        text-align: right;\n",
       "    }\n",
       "</style>\n",
       "<table border=\"1\" class=\"dataframe\">\n",
       "  <thead>\n",
       "    <tr style=\"text-align: right;\">\n",
       "      <th></th>\n",
       "      <th>home</th>\n",
       "      <th>logado</th>\n",
       "      <th>busca_algoritmos</th>\n",
       "      <th>busca_java</th>\n",
       "      <th>busca_ruby</th>\n",
       "    </tr>\n",
       "  </thead>\n",
       "  <tbody>\n",
       "    <tr>\n",
       "      <th>0</th>\n",
       "      <td>0</td>\n",
       "      <td>1</td>\n",
       "      <td>1</td>\n",
       "      <td>0</td>\n",
       "      <td>0</td>\n",
       "    </tr>\n",
       "    <tr>\n",
       "      <th>1</th>\n",
       "      <td>0</td>\n",
       "      <td>0</td>\n",
       "      <td>0</td>\n",
       "      <td>1</td>\n",
       "      <td>0</td>\n",
       "    </tr>\n",
       "    <tr>\n",
       "      <th>2</th>\n",
       "      <td>1</td>\n",
       "      <td>0</td>\n",
       "      <td>1</td>\n",
       "      <td>0</td>\n",
       "      <td>0</td>\n",
       "    </tr>\n",
       "    <tr>\n",
       "      <th>3</th>\n",
       "      <td>1</td>\n",
       "      <td>1</td>\n",
       "      <td>0</td>\n",
       "      <td>0</td>\n",
       "      <td>1</td>\n",
       "    </tr>\n",
       "    <tr>\n",
       "      <th>4</th>\n",
       "      <td>1</td>\n",
       "      <td>0</td>\n",
       "      <td>0</td>\n",
       "      <td>0</td>\n",
       "      <td>1</td>\n",
       "    </tr>\n",
       "    <tr>\n",
       "      <th>...</th>\n",
       "      <td>...</td>\n",
       "      <td>...</td>\n",
       "      <td>...</td>\n",
       "      <td>...</td>\n",
       "      <td>...</td>\n",
       "    </tr>\n",
       "    <tr>\n",
       "      <th>995</th>\n",
       "      <td>0</td>\n",
       "      <td>0</td>\n",
       "      <td>0</td>\n",
       "      <td>0</td>\n",
       "      <td>1</td>\n",
       "    </tr>\n",
       "    <tr>\n",
       "      <th>996</th>\n",
       "      <td>0</td>\n",
       "      <td>0</td>\n",
       "      <td>0</td>\n",
       "      <td>0</td>\n",
       "      <td>1</td>\n",
       "    </tr>\n",
       "    <tr>\n",
       "      <th>997</th>\n",
       "      <td>0</td>\n",
       "      <td>1</td>\n",
       "      <td>0</td>\n",
       "      <td>1</td>\n",
       "      <td>0</td>\n",
       "    </tr>\n",
       "    <tr>\n",
       "      <th>998</th>\n",
       "      <td>1</td>\n",
       "      <td>0</td>\n",
       "      <td>1</td>\n",
       "      <td>0</td>\n",
       "      <td>0</td>\n",
       "    </tr>\n",
       "    <tr>\n",
       "      <th>999</th>\n",
       "      <td>0</td>\n",
       "      <td>1</td>\n",
       "      <td>0</td>\n",
       "      <td>0</td>\n",
       "      <td>1</td>\n",
       "    </tr>\n",
       "  </tbody>\n",
       "</table>\n",
       "<p>1000 rows × 5 columns</p>\n",
       "</div>"
      ],
      "text/plain": [
       "     home  logado  busca_algoritmos  busca_java  busca_ruby\n",
       "0       0       1                 1           0           0\n",
       "1       0       0                 0           1           0\n",
       "2       1       0                 1           0           0\n",
       "3       1       1                 0           0           1\n",
       "4       1       0                 0           0           1\n",
       "..    ...     ...               ...         ...         ...\n",
       "995     0       0                 0           0           1\n",
       "996     0       0                 0           0           1\n",
       "997     0       1                 0           1           0\n",
       "998     1       0                 1           0           0\n",
       "999     0       1                 0           0           1\n",
       "\n",
       "[1000 rows x 5 columns]"
      ]
     },
     "execution_count": 13,
     "metadata": {},
     "output_type": "execute_result"
    }
   ],
   "source": [
    "x_dummies_df"
   ]
  },
  {
   "cell_type": "markdown",
   "id": "51ac3cbf-f794-445c-8372-f80c221874f7",
   "metadata": {},
   "source": [
    "* Passando DataFrames para Array:"
   ]
  },
  {
   "cell_type": "code",
   "execution_count": 14,
   "id": "d5e76356-d611-4191-8600-c117cd9c1824",
   "metadata": {},
   "outputs": [],
   "source": [
    "X = x_dummies_df.values\n",
    "Y = y_dummies_df.values"
   ]
  },
  {
   "cell_type": "code",
   "execution_count": 15,
   "id": "38f6652f-d953-48f9-9218-504c64b2bbe0",
   "metadata": {},
   "outputs": [],
   "source": [
    "tamanho_treino = int(0.9 * len(Y))\n",
    "tamanho_teste = len(Y) - tamanho_treino"
   ]
  },
  {
   "cell_type": "code",
   "execution_count": 16,
   "id": "e77bd5c7-70c1-44ef-aeca-c43ff1380349",
   "metadata": {},
   "outputs": [],
   "source": [
    "treino_dados = X[:tamanho_treino]\n",
    "treino_marcacoes = Y[:tamanho_treino]\n",
    "teste_dados = X[-tamanho_teste:]\n",
    "teste_marcacoes = Y[-tamanho_teste:]"
   ]
  },
  {
   "cell_type": "code",
   "execution_count": 20,
   "id": "d63597da-4770-4c5b-8dad-370a41141898",
   "metadata": {},
   "outputs": [],
   "source": [
    "modelo = MultinomialNB()\n",
    "modelo.fit(treino_dados, treino_marcacoes)\n",
    "\n",
    "resultado = modelo.predict(teste_dados)\n",
    "diferencas = resultado - teste_marcacoes\n",
    "\n",
    "acertos = [d for d in diferencas if d == 0]\n",
    "total_acertos = len(acertos)\n",
    "total_elementos = len(teste_dados)\n",
    "taxa_acerto = 100.0 * (total_acertos / total_elementos)"
   ]
  },
  {
   "cell_type": "code",
   "execution_count": 21,
   "id": "85f41f2c-92d0-4e08-afeb-daeb1a25eb56",
   "metadata": {},
   "outputs": [
    {
     "name": "stdout",
     "output_type": "stream",
     "text": [
      "Taxa de acerto do algoritmo: 100.0\n",
      "total de elementos: 100\n"
     ]
    }
   ],
   "source": [
    "print(f\"Taxa de acerto do algoritmo: {taxa_acerto}\")\n",
    "print(f\"total de elementos: {total_elementos}\")"
   ]
  },
  {
   "cell_type": "markdown",
   "id": "58d6aeba-a3fe-4da2-98fc-c08ee7943661",
   "metadata": {},
   "source": [
    "* Algoritmo \"burro\" \n",
    "    * Algoritmo mais simples possível para classificações\n",
    "    * Ele considera como resposta para todas as situações o valor no qual mais aparece\n",
    "    * Por exemplo: se a maioria das marcações foi \"comprou\", ele marca todos como comprou"
   ]
  },
  {
   "cell_type": "code",
   "execution_count": 19,
   "id": "08d08ec0-5630-4c0b-a38c-6af05691f0a8",
   "metadata": {},
   "outputs": [
    {
     "name": "stdout",
     "output_type": "stream",
     "text": [
      "Taxa de acerto base (algoritmo burro): 83.2\n"
     ]
    }
   ],
   "source": [
    "acerto_um = sum(Y)\n",
    "acerto_zero = len(Y) - acerto_um\n",
    "taxa_acerto_base = 100.0 * max(acerto_um, acerto_zero) / len(Y)\n",
    "print(f\"Taxa de acerto base (algoritmo burro): {taxa_acerto_base}\")"
   ]
  },
  {
   "cell_type": "code",
   "execution_count": null,
   "id": "53df2450-79f2-4622-aafa-7435f6dedbcc",
   "metadata": {},
   "outputs": [],
   "source": []
  }
 ],
 "metadata": {
  "kernelspec": {
   "display_name": "Python 3",
   "language": "python",
   "name": "python3"
  },
  "language_info": {
   "codemirror_mode": {
    "name": "ipython",
    "version": 3
   },
   "file_extension": ".py",
   "mimetype": "text/x-python",
   "name": "python",
   "nbconvert_exporter": "python",
   "pygments_lexer": "ipython3",
   "version": "3.8.5"
  }
 },
 "nbformat": 4,
 "nbformat_minor": 5
}
