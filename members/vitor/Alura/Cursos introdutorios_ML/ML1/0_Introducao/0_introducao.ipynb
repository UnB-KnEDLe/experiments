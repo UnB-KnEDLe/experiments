{
 "cells": [
  {
   "cell_type": "code",
   "execution_count": 1,
   "id": "3e5f283c-4aaa-46dd-b589-57da59584f2f",
   "metadata": {},
   "outputs": [],
   "source": [
    "from sklearn.naive_bayes import MultinomialNB"
   ]
  },
  {
   "cell_type": "markdown",
   "id": "e2089185-0ef4-48b4-ac65-6c338dba779b",
   "metadata": {},
   "source": [
    "Gordin, Perna Curta, Faz \"auau\""
   ]
  },
  {
   "cell_type": "code",
   "execution_count": 2,
   "id": "921f3ce7-b3e3-4e9f-837a-619418cf4d31",
   "metadata": {},
   "outputs": [],
   "source": [
    "porco1 =    [1, 1, 0]\n",
    "porco2 =    [1, 1, 0]\n",
    "porco3 =    [1, 1, 0]\n",
    "cachorro4 = [1, 1, 1]\n",
    "cachorro5 = [0, 1, 1]\n",
    "cachorro6 = [0, 1, 1]"
   ]
  },
  {
   "cell_type": "markdown",
   "id": "3d4ea178-ed21-48a6-8eac-abd0488cea54",
   "metadata": {},
   "source": [
    "Recolhendo dados e suas marcações (logo, porco = 1 e cachorro = -1 )"
   ]
  },
  {
   "cell_type": "code",
   "execution_count": 3,
   "id": "f076cd8e-50d5-4d90-abb3-64d7cefc8fb5",
   "metadata": {},
   "outputs": [],
   "source": [
    "dados = [porco1, porco2, porco3, cachorro4, cachorro5, cachorro6]\n",
    "marcacoes = [1, 1, 1, -1, -1, -1]"
   ]
  },
  {
   "cell_type": "markdown",
   "id": "97e519ca-40ef-4a65-ab91-d2fa2f67bf13",
   "metadata": {},
   "source": [
    "Animais que desejo classificar:"
   ]
  },
  {
   "cell_type": "code",
   "execution_count": 4,
   "id": "4ffbbf90-d6e1-4efb-b68c-2bf4727c0840",
   "metadata": {},
   "outputs": [],
   "source": [
    "misterioso1 = [1, 1, 1]\n",
    "misterioso2 = [1, 0, 0]\n",
    "misterioso3 = [0, 0, 1]"
   ]
  },
  {
   "cell_type": "markdown",
   "id": "410bf970-ce31-48af-bb07-cb5e0ef2fe59",
   "metadata": {},
   "source": [
    "Agora recolho meus DADOS (docs) que desejo treinar e suas MARCAÇÕES (classes)"
   ]
  },
  {
   "cell_type": "code",
   "execution_count": 5,
   "id": "96b478b6-98ba-41a8-99e4-f53eae587766",
   "metadata": {},
   "outputs": [],
   "source": [
    "teste = [misterioso1, misterioso2, misterioso3]\n",
    "marcacoes_teste = [-1, 1, -1]"
   ]
  },
  {
   "cell_type": "markdown",
   "id": "51267311-0406-4e59-b4df-edf74275d1bc",
   "metadata": {},
   "source": [
    "Modelo utilizado: MultinomialNB\n",
    "FIT: faz o modelo se adequar/treinar à essas informações (dados e marcações)"
   ]
  },
  {
   "cell_type": "code",
   "execution_count": 6,
   "id": "539c045c-72c7-4570-ba2d-44da12d40945",
   "metadata": {},
   "outputs": [
    {
     "name": "stdout",
     "output_type": "stream",
     "text": [
      "[-1  1 -1]\n"
     ]
    }
   ],
   "source": [
    "modelo = MultinomialNB()\n",
    "modelo.fit(dados, marcacoes)\n",
    "resultado = modelo.predict(teste)\n",
    "print(resultado)"
   ]
  },
  {
   "cell_type": "markdown",
   "id": "55c0cda8-f264-4548-bd97-5d5c5d8e2138",
   "metadata": {},
   "source": [
    "Resgatando taxa de acerto. Nesse caso acertou tudo (0,0,0)"
   ]
  },
  {
   "cell_type": "code",
   "execution_count": 7,
   "id": "fd43ab17-36df-43b7-ae26-4e6435de2da2",
   "metadata": {},
   "outputs": [
    {
     "name": "stdout",
     "output_type": "stream",
     "text": [
      "[0 0 0]\n"
     ]
    }
   ],
   "source": [
    "diferencas = resultado - marcacoes_teste\n",
    "print(diferencas)"
   ]
  },
  {
   "cell_type": "code",
   "execution_count": 8,
   "id": "2765d240-931e-4f0f-8feb-4ef2a0c2ed82",
   "metadata": {},
   "outputs": [
    {
     "name": "stdout",
     "output_type": "stream",
     "text": [
      "[0, 0, 0]\n"
     ]
    }
   ],
   "source": [
    "acertos = [d for d in diferencas if d == 0]\n",
    "print(acertos)"
   ]
  },
  {
   "cell_type": "code",
   "execution_count": 9,
   "id": "300614f8-2ffa-42a3-afb1-34c1f9eabb82",
   "metadata": {},
   "outputs": [
    {
     "name": "stdout",
     "output_type": "stream",
     "text": [
      "100.0\n"
     ]
    }
   ],
   "source": [
    "total_acertos = len(acertos)\n",
    "total_elementos = len(teste)\n",
    "taxa_acerto = 100.0 * (total_acertos / total_elementos)\n",
    "print(taxa_acerto)"
   ]
  },
  {
   "cell_type": "markdown",
   "id": "f021dfb5-e5df-4ef1-8864-d1707dd9c7d5",
   "metadata": {},
   "source": [
    "APRENDIZADO:\n",
    "\n",
    "* A classificação de elementos entre 1 e 0\n",
    "* Como representar os dados no código\n",
    "* Como implementar o algoritmo Multinomial\n",
    "* Como prever elementos misteriosos\n",
    "* Como calcular a taxa de acerto"
   ]
  },
  {
   "cell_type": "code",
   "execution_count": null,
   "id": "6a902819-d5b8-4b38-bf79-d8233a0da060",
   "metadata": {},
   "outputs": [],
   "source": []
  }
 ],
 "metadata": {
  "kernelspec": {
   "display_name": "Python 3",
   "language": "python",
   "name": "python3"
  },
  "language_info": {
   "codemirror_mode": {
    "name": "ipython",
    "version": 3
   },
   "file_extension": ".py",
   "mimetype": "text/x-python",
   "name": "python",
   "nbconvert_exporter": "python",
   "pygments_lexer": "ipython3",
   "version": "3.8.5"
  }
 },
 "nbformat": 4,
 "nbformat_minor": 5
}
