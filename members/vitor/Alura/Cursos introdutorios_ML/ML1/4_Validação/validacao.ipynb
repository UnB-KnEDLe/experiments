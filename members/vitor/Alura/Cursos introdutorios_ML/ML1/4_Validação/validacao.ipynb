{
 "cells": [
  {
   "cell_type": "code",
   "execution_count": 2,
   "id": "282537c0-e93a-45d2-a468-b43e039b02de",
   "metadata": {},
   "outputs": [],
   "source": [
    "import pandas as pd\n",
    "from collections import Counter"
   ]
  },
  {
   "cell_type": "code",
   "execution_count": 3,
   "id": "7b224897-625b-49ab-a39a-db2500e48675",
   "metadata": {},
   "outputs": [],
   "source": [
    "df = pd.read_csv('categoricas2.csv')\n",
    "X_df = df[['home','busca', 'logado']]\n",
    "Y_df = df['comprou']\n",
    "\n",
    "Xdummies_df = pd.get_dummies(X_df)\n",
    "Ydummies_df = Y_df\n",
    "\n",
    "X = Xdummies_df.values\n",
    "Y = Ydummies_df.values "
   ]
  },
  {
   "cell_type": "markdown",
   "id": "f365c2c7-d64c-44de-89fc-cae76e26155b",
   "metadata": {},
   "source": [
    " * Usei 90% dos dados entre treino e teste abaixo ,logo a  % de validação vai ser de 0.1 "
   ]
  },
  {
   "cell_type": "code",
   "execution_count": 4,
   "id": "c8c2d831-5acc-4f55-aa75-e055f801c096",
   "metadata": {},
   "outputs": [],
   "source": [
    "porcentagem_de_treino = 0.8\n",
    "porcentagem_de_teste = 0.1"
   ]
  },
  {
   "cell_type": "code",
   "execution_count": 5,
   "id": "64ecef14-069a-4929-9cd6-d9a63cb689c3",
   "metadata": {},
   "outputs": [],
   "source": [
    "tamanho_de_treino = int(porcentagem_de_treino * len(Y))\n",
    "tamanho_de_teste = int(porcentagem_de_teste * len(Y))\n",
    "tamanho_de_validacao = len(Y) - tamanho_de_treino - tamanho_de_teste\n",
    "\n",
    "fim_de_teste = tamanho_de_treino + tamanho_de_teste"
   ]
  },
  {
   "cell_type": "code",
   "execution_count": 6,
   "id": "b38593c4-4c35-471d-9a32-50563a7e7191",
   "metadata": {},
   "outputs": [],
   "source": [
    "#0 - 799\n",
    "treino_dados = X[:tamanho_de_treino]\n",
    "treino_marcacoes = Y[:tamanho_de_treino]"
   ]
  },
  {
   "cell_type": "code",
   "execution_count": 7,
   "id": "e042578c-78ba-49f3-97ad-637f0ab1e7fd",
   "metadata": {},
   "outputs": [],
   "source": [
    "#800 - 899\n",
    "teste_dados = X[tamanho_de_treino:fim_de_teste]\n",
    "teste_marcacoes = Y[tamanho_de_treino:fim_de_teste]"
   ]
  },
  {
   "cell_type": "code",
   "execution_count": 8,
   "id": "75e6abca-99f8-4703-ab4e-5bdd4f229ef4",
   "metadata": {},
   "outputs": [],
   "source": [
    "#900 - 999\n",
    "validacao_dados = X[fim_de_teste:]\n",
    "validacao_marcacoes = Y[fim_de_teste:]"
   ]
  },
  {
   "cell_type": "code",
   "execution_count": 9,
   "id": "de47a4ef-0f5a-43fa-8a0f-76bdef9aa1ed",
   "metadata": {},
   "outputs": [],
   "source": [
    "def fit_and_predict(nome, modelo, treino_dados, treino_marcacoes, teste_dados, teste_marcacoes):\n",
    "    modelo.fit(treino_dados, treino_marcacoes)\n",
    "\n",
    "    resultado = modelo.predict(teste_dados)\n",
    "    \n",
    "    print(resultado)\n",
    "\n",
    "    acertos = resultado == teste_marcacoes\n",
    "    \n",
    "    print(acertos)\n",
    "\n",
    "    total_de_acertos = sum(acertos)\n",
    "    \n",
    "    print(total_de_acertos)\n",
    "    \n",
    "    total_de_elementos = len(teste_dados)\n",
    "\n",
    "    taxa_de_acerto = 100.0 * total_de_acertos / total_de_elementos\n",
    "\n",
    "    msg = \"Taxa de acerto do algoritmo {0}: {1}\".format(nome, taxa_de_acerto)\n",
    "\n",
    "    print(msg)\n",
    "    return taxa_de_acerto"
   ]
  },
  {
   "cell_type": "code",
   "execution_count": 10,
   "id": "66933645-31c8-4caa-9ac7-89b7c36f6a6c",
   "metadata": {},
   "outputs": [],
   "source": [
    "def teste_real(modelo, validacao_dados, validacao_marcacoes):\n",
    "    resultado = modelo.predict(validacao_dados)\n",
    "    acertos = resultado == validacao_marcacoes\n",
    "\n",
    "    total_de_acertos = sum(acertos)\n",
    "    total_de_elementos = len(validacao_marcacoes)\n",
    "\n",
    "    taxa_de_acerto = 100.0 * total_de_acertos / total_de_elementos\n",
    "\n",
    "    msg = \"Taxa de acerto do vencedor entre os dois algoritmos no mundo real: {0}\".format(taxa_de_acerto)\n",
    "    print(msg)"
   ]
  },
  {
   "cell_type": "code",
   "execution_count": 11,
   "id": "21ae03ac-3798-45f6-b931-40c185e5bf41",
   "metadata": {},
   "outputs": [
    {
     "name": "stdout",
     "output_type": "stream",
     "text": [
      "[0 0 1 1 1 1 1]\n",
      "[False  True  True  True  True  True  True]\n",
      "6\n",
      "Taxa de acerto do algoritmo MultinomialNB: 85.71428571428571\n"
     ]
    }
   ],
   "source": [
    "from sklearn.naive_bayes import MultinomialNB\n",
    "modeloMultinomial = MultinomialNB()\n",
    "resultadoMultinomial = fit_and_predict(\"MultinomialNB\", modeloMultinomial, treino_dados,\n",
    " treino_marcacoes, teste_dados, teste_marcacoes)"
   ]
  },
  {
   "cell_type": "code",
   "execution_count": 12,
   "id": "5e617789-7ec0-4672-92c9-ca022b6c8443",
   "metadata": {},
   "outputs": [
    {
     "name": "stdout",
     "output_type": "stream",
     "text": [
      "[1 1 1 1 1 1 1]\n",
      "[ True False  True  True  True  True  True]\n",
      "6\n",
      "Taxa de acerto do algoritmo AdaBoostClassifier: 85.71428571428571\n"
     ]
    }
   ],
   "source": [
    "from sklearn.ensemble import AdaBoostClassifier\n",
    "modeloAdaBoost = AdaBoostClassifier()\n",
    "resultadoAdaBoost = fit_and_predict(\"AdaBoostClassifier\", modeloAdaBoost, treino_dados, \n",
    "treino_marcacoes, teste_dados, teste_marcacoes)"
   ]
  },
  {
   "cell_type": "code",
   "execution_count": 18,
   "id": "ca50ccbc-5bff-479c-9f50-e4045f6fdb64",
   "metadata": {},
   "outputs": [
    {
     "name": "stdout",
     "output_type": "stream",
     "text": [
      "vencedor: AdaBoostClassifier()\n"
     ]
    }
   ],
   "source": [
    "if resultadoMultinomial > resultadoAdaBoost:\n",
    "    vencedor = modeloMultinomial\n",
    "else:\n",
    "    vencedor = modeloAdaBoost\n",
    "    \n",
    "print(f'vencedor: {vencedor}')"
   ]
  },
  {
   "cell_type": "code",
   "execution_count": 19,
   "id": "1578f6ff-bf5b-46ed-9deb-337b69b9d58c",
   "metadata": {},
   "outputs": [
    {
     "name": "stdout",
     "output_type": "stream",
     "text": [
      "Taxa de acerto do vencedor entre os dois algoritmos no mundo real: 62.5\n"
     ]
    }
   ],
   "source": [
    "teste_real(vencedor, validacao_dados, validacao_marcacoes)"
   ]
  },
  {
   "cell_type": "markdown",
   "id": "cebdde87-5ec2-4d8d-b926-18bcab0bdcdb",
   "metadata": {},
   "source": [
    "* Comparando resultado do melhor classificador com o algoritmo base"
   ]
  },
  {
   "cell_type": "code",
   "execution_count": 20,
   "id": "dd00314f-69e2-4086-a224-fd8d137f26f7",
   "metadata": {},
   "outputs": [
    {
     "name": "stdout",
     "output_type": "stream",
     "text": [
      "Taxa de acerto base: 62.500000\n"
     ]
    }
   ],
   "source": [
    "acerto_base = max(Counter(validacao_marcacoes).values())\n",
    "taxa_de_acerto_base = 100.0 * acerto_base / len(validacao_marcacoes)\n",
    "print(\"Taxa de acerto base: %f\" % taxa_de_acerto_base)"
   ]
  },
  {
   "cell_type": "code",
   "execution_count": 21,
   "id": "40f7d36c-b8db-460f-8f2c-c278aefee679",
   "metadata": {},
   "outputs": [
    {
     "name": "stdout",
     "output_type": "stream",
     "text": [
      "Total de teste: 8\n"
     ]
    }
   ],
   "source": [
    "total_de_elementos = len(validacao_dados)\n",
    "print(\"Total de teste: %d\" % total_de_elementos)"
   ]
  },
  {
   "cell_type": "code",
   "execution_count": null,
   "id": "fdc52d92-a637-4164-b17d-f8e3b0f9c341",
   "metadata": {},
   "outputs": [],
   "source": []
  }
 ],
 "metadata": {
  "kernelspec": {
   "display_name": "Python 3",
   "language": "python",
   "name": "python3"
  },
  "language_info": {
   "codemirror_mode": {
    "name": "ipython",
    "version": 3
   },
   "file_extension": ".py",
   "mimetype": "text/x-python",
   "name": "python",
   "nbconvert_exporter": "python",
   "pygments_lexer": "ipython3",
   "version": "3.8.5"
  }
 },
 "nbformat": 4,
 "nbformat_minor": 5
}
