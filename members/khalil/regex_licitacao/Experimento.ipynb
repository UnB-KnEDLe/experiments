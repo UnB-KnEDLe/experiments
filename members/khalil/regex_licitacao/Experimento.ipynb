{
 "cells": [
  {
   "cell_type": "markdown",
   "metadata": {},
   "source": [
    "# KneDle: Licitações e Contratos\n",
    "## DODF Evaluation by RegEx "
   ]
  },
  {
   "cell_type": "markdown",
   "metadata": {},
   "source": [
    "<div align=\"center\">Figure 1. WorkFlow"
   ]
  },
  {
   "cell_type": "markdown",
   "metadata": {},
   "source": [
    "![alternative text](esquema.png \"WorkFlow\")"
   ]
  },
  {
   "cell_type": "code",
   "execution_count": 1,
   "metadata": {},
   "outputs": [],
   "source": [
    "from TextExploration.Regex.TRegex import TREClass #Regex Class\n",
    "from TextExploration.DataAccess.TTXTExtractor import TTXTExtractor #Text extractions from another format files\n",
    "import glob\n",
    "import re\n",
    "import pandas as pd\n",
    "from yattag import Doc\n",
    "import unicodedata\n",
    "import json"
   ]
  },
  {
   "cell_type": "markdown",
   "metadata": {},
   "source": [
    "## DODF Loading"
   ]
  },
  {
   "cell_type": "code",
   "execution_count": 18,
   "metadata": {},
   "outputs": [],
   "source": [
    "txt_files = glob.glob('data/text/**/**/*.txt')\n",
    "block_files = glob.glob('data/blocks/**/**/*.json')\n",
    "texto = ''\n",
    "for txt in txt_files:\n",
    "    texto += open(txt, encoding='utf-8').read()\n",
    "    \n",
    "texto = texto[:100_000]"
   ]
  },
  {
   "cell_type": "code",
   "execution_count": null,
   "metadata": {},
   "outputs": [],
   "source": [
    "#PDFFile = TTXTExtractor('DODF_011_16_01_2020_INTEGRA.pdf')\n",
    "#texto = PDFFile.getPageText(80).lower()\n",
    "#print(texto)"
   ]
  },
  {
   "cell_type": "markdown",
   "metadata": {},
   "source": [
    "* [ ] _What's the best RegExp set (**expvenc**) for \"aviso de vencedor\"?_ "
   ]
  },
  {
   "cell_type": "code",
   "execution_count": 19,
   "metadata": {},
   "outputs": [],
   "source": [
    "#print(texto)\n",
    "#expvenc = ['aviso de declaração de vencedor', 'após verificada a aceitabilidade', 'aceitabilidade', 'aviso', 'convocatório', 'licitatório', 'vencedor', 'vencedora']\n",
    "expvenc = [r'PROCESSO[\\s\\S]*?(\\d{5}[\\.|\\-]\\d{8}\\/\\d{4}-\\d{2})']\n",
    "tokvenc = 'TK_AVISO_ABERTURA_PROCESSO'"
   ]
  },
  {
   "cell_type": "code",
   "execution_count": 20,
   "metadata": {},
   "outputs": [
    {
     "name": "stdout",
     "output_type": "stream",
     "text": [
      "TK_AVISO_ABERTURA_PROCESSO : ['PROCESSO[\\\\s\\\\S]*?(\\\\d{5}[\\\\.|\\\\-]\\\\d{8}\\\\/\\\\d{4}-\\\\d{2})']\n"
     ]
    }
   ],
   "source": [
    "RegExp = TREClass(tokvenc, expvenc)\n",
    "#print(RegExp.token, len(RegExp.expressionnamelist))\n",
    "print(RegExp.token, ':', RegExp.expressionnamelist)"
   ]
  },
  {
   "cell_type": "code",
   "execution_count": 21,
   "metadata": {},
   "outputs": [
    {
     "name": "stdout",
     "output_type": "stream",
     "text": [
      "100000\n",
      "PROCESSO[\\s\\S]*?(\\d{5}[\\.|\\-]\\d{8}\\/\\d{4}-\\d{2})\n"
     ]
    }
   ],
   "source": [
    "RegExp.applyExpressions(texto)\n",
    "#pr = RegExp.getExpressions()\n",
    "#pr2 = RegExp.getTerms()"
   ]
  },
  {
   "cell_type": "code",
   "execution_count": 22,
   "metadata": {},
   "outputs": [
    {
     "name": "stdout",
     "output_type": "stream",
     "text": [
      "Token: TK_AVISO_ABERTURA_PROCESSO\n",
      "  \n",
      "Expressão: PROCESSO[\\s\\S]*?(\\d{5}[\\.|\\-]\\d{8}\\/\\d{4}-\\d{2})\n",
      "    Termo: 00111-00016893/2017-50\n",
      "      Local 0 : 93301 - 93323\n",
      "    Termo: 00111-00008155/2018-10\n",
      "      Local 0 : 95950 - 95972\n",
      "    Termo: 00111-00003686/2018-16\n",
      "      Local 0 : 89070 - 89092\n",
      "    Termo: 00111-00016009/2017-87\n",
      "      Local 0 : 92309 - 92331\n",
      "    Termo: 00111-00017934/2017-25\n",
      "      Local 0 : 94195 - 94217\n",
      "    Termo: 00111-00008183/2018-37\n",
      "      Local 0 : 95714 - 95736\n",
      "    Termo: 00111-00004631/2018-23\n",
      "      Local 0 : 88104 - 88126\n",
      "    Termo: 00111-00016429/2017-63\n",
      "      Local 0 : 92009 - 92031\n",
      "    Termo: 00111-00019595/2017-11\n",
      "      Local 0 : 91458 - 91480\n",
      "    Termo: 00111-00005418/2018-39\n",
      "      Local 0 : 89603 - 89625\n",
      "    Termo: 00111-00019650/2017-73\n",
      "      Local 0 : 87063 - 87085\n",
      "    Termo: 00111-00016484/2017-53\n",
      "      Local 0 : 91740 - 91762\n",
      "    Termo: 00111-00017842/2017-45\n",
      "      Local 0 : 94484 - 94506\n",
      "    Termo: 00111-00017876/2017-30\n",
      "      Local 0 : 90600 - 90622\n",
      "    Termo: 00111-00016758/2017-12\n",
      "      Local 0 : 92584 - 92606\n",
      "    Termo: 00111-00005215/2018-42\n",
      "      Local 0 : 89876 - 89898\n",
      "    Termo: 00111-00020866/2017-81\n",
      "      Local 0 : 86774 - 86796\n",
      "    Termo: 00111-00016555/2017-18\n",
      "      Local 0 : 93004 - 93026\n",
      "    Termo: 00111-00003479/2018-61\n",
      "      Local 0 : 88524 - 88546\n",
      "    Termo: 00111-00008077/2018-53\n",
      "      Local 0 : 88791 - 88813\n",
      "    Termo: 00111-00017296/2017-42\n",
      "      Local 0 : 93924 - 93946\n",
      "    Termo: 00111-00006701/2018-88\n",
      "      Local 0 : 95289 - 95311\n",
      "    Termo: 00111-00016502/2017-05\n",
      "      Local 0 : 91160 - 91182\n",
      "    Termo: 00111-00016512/2017-32\n",
      "      Local 0 : 90878 - 90900\n"
     ]
    }
   ],
   "source": [
    "print('Token:', RegExp.token)\n",
    "for pexp in RegExp.expressions:\n",
    "    print('  \\nExpressão:', pexp.name)\n",
    "    for pt in pexp.terms:\n",
    "        print('    Termo:', pt.name)\n",
    "        for pind in range(0,len(pt.begin)):\n",
    "            print('      Local', pind, ':', pt.begin[pind], '-', pt.end[pind])"
   ]
  },
  {
   "cell_type": "code",
   "execution_count": 23,
   "metadata": {},
   "outputs": [
    {
     "name": "stdout",
     "output_type": "stream",
     "text": [
      "Scores of TK_AVISO_ABERTURA_PROCESSO : Absolute:  24 and Relative: 0.00024\n"
     ]
    }
   ],
   "source": [
    "print('Scores of', RegExp.token, ': Absolute: ', RegExp.getScore(), 'and Relative:', (RegExp.getScore()/len(texto)))"
   ]
  },
  {
   "cell_type": "markdown",
   "metadata": {},
   "source": [
    "## DODF Evaluation by using key terms\n",
    "\n",
    "---\n",
    "\n",
    "### Next: \n",
    "#### Samples Data achievement:\n",
    "* [ ] Use \"Data Exploration\" notebook in order to select key terms for a specific **procedural act** (of \"licitação\")\n",
    "* [ ] Access DODFMiner base \n",
    "* [ ] Access **pieces of DODF pages** \n",
    "* [ ] **Evaluate pieces of DODF**: Apply \"RegExp.getScore()\" for each pieces of DODF pages.\n",
    "* [ ] Define a \"good\" minimum threshold that **identify a piece as a procedural act**.\n",
    "* [ ] Construct a **database of procedural act samples**.\n",
    "\n",
    "#### Modelling:\n",
    "* [ ] **Train an AI model** to identify a procedural act into the DODFMiner.\n",
    "* [ ] **Integrate the model into the DODFMiner**."
   ]
  },
  {
   "cell_type": "code",
   "execution_count": null,
   "metadata": {},
   "outputs": [],
   "source": []
  },
  {
   "cell_type": "code",
   "execution_count": null,
   "metadata": {},
   "outputs": [],
   "source": []
  }
 ],
 "metadata": {
  "kernelspec": {
   "display_name": "Python 3",
   "language": "python",
   "name": "python3"
  },
  "language_info": {
   "codemirror_mode": {
    "name": "ipython",
    "version": 3
   },
   "file_extension": ".py",
   "mimetype": "text/x-python",
   "name": "python",
   "nbconvert_exporter": "python",
   "pygments_lexer": "ipython3",
   "version": "3.8.5"
  }
 },
 "nbformat": 4,
 "nbformat_minor": 5
}
