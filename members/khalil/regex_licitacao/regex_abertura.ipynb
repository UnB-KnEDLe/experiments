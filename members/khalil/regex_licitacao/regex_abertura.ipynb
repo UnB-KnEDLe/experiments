{
 "cells": [
  {
   "cell_type": "code",
   "execution_count": 3,
   "metadata": {},
   "outputs": [],
   "source": [
    "import glob\n",
    "import re\n",
    "import pandas as pd\n",
    "from yattag import Doc\n",
    "import unicodedata"
   ]
  },
  {
   "cell_type": "code",
   "execution_count": 4,
   "metadata": {},
   "outputs": [],
   "source": [
    "doc, tag, text = Doc().tagtext()"
   ]
  },
  {
   "cell_type": "code",
   "execution_count": 5,
   "metadata": {},
   "outputs": [],
   "source": [
    "txt_files = glob.glob('data/**/**/*.txt')\n",
    "#txt_files = glob.glob('teste_manual.txt')"
   ]
  },
  {
   "cell_type": "code",
   "execution_count": 6,
   "metadata": {},
   "outputs": [],
   "source": [
    "all_contracts = []\n",
    "for txt in txt_files:\n",
    "    instances = re.findall('aviso (?:de)? abertura (?:.*licitacao)([\\s\\S]*?)\\.\\n',\n",
    "                            unicodedata.normalize('NFKD', open(txt, encoding='utf-8').read()), \n",
    "                            re.IGNORECASE)\n",
    "    all_contracts.extend(instances)"
   ]
  },
  {
   "cell_type": "code",
   "execution_count": 10,
   "metadata": {},
   "outputs": [],
   "source": [
    "regex_dict = {'processo': 'PROCESSO[\\s\\S]*(\\d{5}[\\.|\\-]\\d{8}/\\d{4}-\\d{2})', \n",
    "              'objeto': 'objeto[\\s\\S]*?:?([\\s\\S]*?)\\.',\n",
    "              'valor_estimado': 'valor[\\s\\S]*estimado?[\\s\\S]*?(\\d+(?:\\.\\d+)*,\\d\\d)', \n",
    "              'prazo': 'prazo[s]?:?([\\s\\S]*)data', \n",
    "              'tipo': 'Tipo[:]?([\\s\\S]*?)\\.',\n",
    "              'data': 'data[\\s\\S]*?\\.*(\\d{2}/\\d{2}/\\d{4}[\\s\\S].*\\d)|(\\d+ de .*),',\n",
    "}\n",
    "\n",
    "df_dict = {\n",
    "    'processo': [],\n",
    "    'objeto': [],\n",
    "    'valor_estimado': [],\n",
    "    'prazo': [],\n",
    "    'tipo': [],\n",
    "    'data': [],\n",
    "    'texto': [],\n",
    "}"
   ]
  },
  {
   "cell_type": "code",
   "execution_count": 11,
   "metadata": {},
   "outputs": [],
   "source": [
    "for contract in all_contracts:\n",
    "    df_dict['texto'].append(contract)\n",
    "    for field in regex_dict:\n",
    "        match = re.search(regex_dict[field], contract, re.IGNORECASE)\n",
    "        if match:\n",
    "            res = tuple(x for x in match.groups() if x is not None)\n",
    "            df_dict[field].append(res[0])\n",
    "        else:\n",
    "            df_dict[field].append('nan')\n",
    "\n",
    "df = pd.DataFrame.from_dict(df_dict)\n",
    "df.to_csv('abertura_regex.csv')"
   ]
  },
  {
   "cell_type": "code",
   "execution_count": null,
   "metadata": {},
   "outputs": [],
   "source": []
  }
 ],
 "metadata": {
  "kernelspec": {
   "display_name": "Python 3",
   "language": "python",
   "name": "python3"
  },
  "language_info": {
   "codemirror_mode": {
    "name": "ipython",
    "version": 3
   },
   "file_extension": ".py",
   "mimetype": "text/x-python",
   "name": "python",
   "nbconvert_exporter": "python",
   "pygments_lexer": "ipython3",
   "version": "3.8.6"
  }
 },
 "nbformat": 4,
 "nbformat_minor": 4
}
