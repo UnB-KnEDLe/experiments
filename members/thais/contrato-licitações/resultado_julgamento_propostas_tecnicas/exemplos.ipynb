{
 "cells": [
  {
   "cell_type": "markdown",
   "metadata": {},
   "source": [
    "# Exemplos - Julgamento de Propostas"
   ]
  },
  {
   "cell_type": "markdown",
   "metadata": {},
   "source": [
    "## Documentos:\n",
    "\n",
    "### 1 - [DODF - 059](https://dodf.df.gov.br/index/visualizar-arquivo/?pasta=2021|03_Mar%C3%A7o|DODF%20059%2029-03-2021|&arquivo=DODF%20059%2029-03-2021%20INTEGRA.pdf)\n",
    "### 2 - [DODF - 242](https://www.dodf.df.gov.br/index/visualizar-arquivo/?pasta=2020/12_Dezembro/DODF%20242%2024-12-2020&arquivo=DODF%20242%2024-12-2020%20INTEGRA.pdf)\n",
    "### 3 - [DODF - 027](https://dodf.df.gov.br/index/visualizar-arquivo/?pasta=2021|02_Fevereiro|DODF%20027%2009-02-2021|&arquivo=DODF%20027%2009-02-2021%20INTEGRA.pdf)\n",
    "### 4 - [DODF - 034](https://dodf.df.gov.br/index/visualizar-arquivo/?pasta=2021|02_Fevereiro|DODF%20034%2022-02-2021|&arquivo=DODF%20034%2022-02-2021%20INTEGRA.pdf)\n",
    "### 5 - [DODF - 043](https://dodf.df.gov.br/index/visualizar-arquivo/?pasta=2021|03_Mar%C3%A7o|DODF%20043%2005-03-2021|&arquivo=DODF%20043%2005-03-2021%20INTEGRA.pdf)\n",
    "### 6 - [DODF - 046](https://dodf.df.gov.br/index/visualizar-arquivo/?pasta=2021|03_Mar%C3%A7o|DODF%20046%2010-03-2021|&arquivo=DODF%20046%2010-03-2021%20INTEGRA.pdf)\n",
    "### 7 - [DODF - 048](https://dodf.df.gov.br/index/visualizar-arquivo/?pasta=2021|03_Mar%C3%A7o|DODF%20048%2012-03-2021|&arquivo=DODF%20048%2012-03-2021%20INTEGRA.pdf)"
   ]
  },
  {
   "cell_type": "markdown",
   "metadata": {},
   "source": [
    "## Documento 1"
   ]
  },
  {
   "cell_type": "markdown",
   "metadata": {},
   "source": [
    "### Ato:"
   ]
  },
  {
   "cell_type": "markdown",
   "metadata": {},
   "source": [
    "COMPANHIA URBANIZADORA DA NOVA CAPITAL DO BRASIL\n",
    "AVISO DE JULGAMENTO DE PROPOSTAS\n",
    "\n",
    "Comunicamos  aos  interessados  na  Concorrência  nº  016/2020  –  DECOMP/DA,  processo 00110-00002168/2020-28,  que  a  Comissão  Permanente  de  Licitação  da  NOVACAP,  coma    corroboração    técnica    da    área    demandante    (Parecer    Técnico    n.º    5/2021    -SODF/GAB/CPL/CIAT  (Sei  58410430))  dos  Membros  da  Comissão  Interna  de  ApoioTécnico   da   SODF,   após   análise   das   propostas   de   preços   (2ª   fase),   decidiu   pela desclassificação  das  empresas/consórcios:  CONSÓRCIO  G5  –  ESPM  -  (formado  pelasempresas:   CONSTRUTORA   ARTEC   S/A,   EB   INFRA   CONSTRUÇÕES   LTDA,CENTRAL      ENGENHARIA      E      CONSTRUTORA      LTDA,      CONSTRUTEQCONSTRUÇÕES, TERRAPLENAGEM E COMÉRCIO DE EQUIPAMENTOS EIRELI -EPP  e  GW  CONSTRUÇÕES  E  INCORPORAÇÕES  LTDA);  AUGUSTO  VELLOSOENGENHARIA   S/A;   CONSÓRCIO   OBRAS   BRT   EIXO   OESTE   -   (formado   pelasempresas:  MRM  CONSTRUTORA  LTDA  E  SHOX  DO  BRASIL  CONSTRUÇÕESLTDA)   e   TRIER   ENGENHARIA   S/A   e   pela   classificação   das   empresas:   JMTERRAPLANAGEM  E  CONSTRUÇÕES  LTDA;  VIA  ENGENHARIA  S/A  –  (EMRECUPERAÇÃO   JUDICIAL)   e   CONSTRAN   INTERNACIONAL   CONSTRUÇÕESS/A.  Ato  contínuo  processou  a  classificação  e  o  julgamento,  proclamando  vencedora  da licitação  a  empresa  JM  TERRAPLANAGEM  E  CONSTRUÇÕES  LTDA,  com  o  valor total  de  R$  52.940.361,66,  2º  lugar  a  VIA  ENGENHARIA  S/A  –  (EM  RECUPERAÇÃOJUDICIAL),   com   o   valor   total   de   R$   54.320.037,69   e   3º   lugar   a   CONSTRANINTERNACIONAL  CONSTRUÇÕES  S/A,  com  o  valor  total  de  R$  57.617.733,40. \n",
    "\n",
    "O Parecer  Técnico  que  fundamentou  a  tomada  de  decisão  encontra-se  a  disposição  de  todosno  endereço  eletrônico  www.novacap.df.gov.br  –  link:  licitações.  Para  informações  -telefones (0xx61) 3403-2321 ou (0xx61) 3403-2322.Brasília/DF, 26 de março de 2021SHIRLEY DE FARIA SOARES DE CARVALHOChefe"
   ]
  },
  {
   "cell_type": "markdown",
   "metadata": {},
   "source": [
    "### Padrões:"
   ]
  },
  {
   "cell_type": "markdown",
   "metadata": {},
   "source": [
    "- ORGAO\n",
    "- DESCRIÇAO OBJETO\n",
    "- CONCORRENCIA\n",
    "- SIGLA LICITANTE\n",
    "- PROCESSO\n",
    "- COMISSAO\n",
    "- PARECER TECNICO\n",
    "- SEI\n",
    "- STATUS\n",
    "- EMPRESA\n",
    "- VALOR"
   ]
  },
  {
   "cell_type": "markdown",
   "metadata": {},
   "source": [
    "## Documento 2"
   ]
  },
  {
   "cell_type": "markdown",
   "metadata": {},
   "source": [
    "### Ato:"
   ]
  },
  {
   "cell_type": "markdown",
   "metadata": {},
   "source": [
    "POLÍCIA CIVIL DEPARTAMENTO DE ATIVIDADES ESPECIAIS\n",
    "DIVISÃO DE CONTROLE DE ARMAS, MUNIÇÕES E EXPLOSIVOS\n",
    "COMISSÃO PERMANENTE DE LICITAÇÃO CONCORRÊNCIA Nº 01/2020\n",
    "AVISO DE JULGAMENTO DE PROPOSTASA  \n",
    "\n",
    "Comissão  Permanente  de  Licitação,  de  acordo  com  o  artigo  109,  §  1º,  da  Lei  8.666/93,torna   público   aos   licitantes   e   demais   interessados   que,   após   análise   das   propostas apresentadas  pelas  empresas  habilitadas  na  Concorrência  nº  01/2020,  processo  nº  00052-00006910/2020-15,  cujo  objeto  é  a  contratação  de  empresa  para  executar  a  construção  doInstituto de Medicina Legal da Polícia Civil do Distrito Federal, em terreno situado no SPO,Lote  23,  Conjunto  A,  Brasília/DF,  conforme  o  projeto  básico  e  seus  anexos,  que  são  partesintegrantes  do  edital,  DECIDIU  desclassificar  a  proposta  da  empresa  2-  Gonar  EngenhariaLtda.  EPP,  nos  termos  do  item  6.3.2  do  edital,  por  ausência  da  Planilha  Detalhada  porEventos  e  a  Declaração  referente  ao  Decreto  Distrital  nº  39.860/2019,  exigidas  nos  itens5.1.VI  e  5.1.  XV  do  Edital,  e  classificar  as  demais  propostas.  Sagrou-se  vencedora  docertame   a   empresa   GCE   S/A,   CNPJ   nº   05.275.229/0001-52,   no   valor   total   de   R$34.866.736,81  (trinta  e  quatro  milhões,  oitocentos  e  sessenta  e  seis  mil,  setecentos  e  trinta  eseis reais e oitenta e um centavos), por ter apresentado o menor preço global para a execuçãoda  construção  e  atender  a  todas  as  exigências  do  Edital \n",
    "\n",
    "A  íntegra  da  Ata  de  Julgamento  seencontra   no   site   da   PCDF   www.pcdf.df.gov.br,   link   licitações,   Demais   Modalidades.Maiores  informações  na  CPL/PCDF  ou  pelos  fones:  3207-4071/4046.  A  vista  do  processoencontra-se franqueada aos interessados a partir dessa publicação.Brasília/DF, 23 de dezembro de 2020LORELEI DE A. P. SANTOS FAUSTINOPresidente da Comissão"
   ]
  },
  {
   "cell_type": "markdown",
   "metadata": {},
   "source": [
    "### Padrões:"
   ]
  },
  {
   "cell_type": "markdown",
   "metadata": {},
   "source": [
    "- ORGAO\n",
    "- DESCRIÇAO OBJETO\n",
    "- COMISSAO\n",
    "- FUNDAMENTO LEGAL\n",
    "- CONCORRENCIA\n",
    "- PROCESSO\n",
    "- OBJETIVO\n",
    "- STATUS\n",
    "- EMPRESA\n",
    "- MOTIVO\n",
    "- VALOR"
   ]
  },
  {
   "cell_type": "markdown",
   "metadata": {},
   "source": [
    "## Documento 3"
   ]
  },
  {
   "cell_type": "markdown",
   "metadata": {},
   "source": [
    "COMPANHIA URBANIZADORADA NOVA CAPITAL DO BRASIL\n",
    "DIRETORIA ADMINISTRATIVADEPARTAMENTO DE COMPRAS\n",
    "DIVISÃO DE LICITAÇÕES E CONTRATOS\n",
    "AVISO DE JULGAMENTO DE PROPOSTAS\n",
    "\n",
    "Comunicamos  aos  interessados  na  Concorrência  nº  015/2020  –  DECOMP/DA  –  processonº  00110-00001782/2020-72,  que  a  Comissão  Permanente  de  Licitação  da  NOVACAP,com a corroboração da área técnica demandante, após análise das propostas de preços dasconcorrentes,  decidiu  pelas  desclassificações  da  empresa  SOBRADO  CONSTRUÇÕESLTDA  e  dos  consórcios  REQUALIFICAÇÃO  VIA  MN1  (composto  pelas  empresas:MRM  Construtora  Ltda/SHOX  do  Brasil  Construções  Ltda)  e  CONSÓRCIO  ETERC-EPCCON  (composto  pelas  empresas:  Eterc  Engenharia  Ltda/Epccon  Construções  S/A), por  não  atenderem  ao  item  7.2,  letra  “k”  do  Edital  e  pela  classificação  do  CONSÓRCIOHP  (composto  pelas  empresas:  Construtora  LDN  Ltda/AMC  Engenharia  e  ConstruçãoLtda),  na  forma  do  Edital..  Ato  contínuo  processou  a  classificação  e  o  julgamento,proclamando  vencedora  da  licitação  o  CONSÓRCIO  HP  (composto  pelas  empresas:Construtora  LDN  Ltda/AMC  Engenharia  e  Construção  Ltda),  com  o  preço  total  de  R$14.394.920,01.  \n",
    "\n",
    "As  documentações  que  fundamentaram  a  tomada  de  decisão  encontram-sea  disposição  de  todos  no  endereço  eletrônico  www.novacap.df.gov.br  –  link:  licitações(Parecer  Técnico  nº  22/2021  -  SODF/GAB  –  Sei  54999028).  Para  maiores  informaçõesligar para o telefone (0xx61) 3403-2321 ou (0xx61) 3403-2322.Brasília/DF, 05 de fevereiro de 2021SHIRLEY DE FARIA SOARES DE CARVALHOChefe"
   ]
  },
  {
   "cell_type": "markdown",
   "metadata": {},
   "source": [
    "### Padrões:"
   ]
  },
  {
   "cell_type": "markdown",
   "metadata": {},
   "source": [
    "- ORGAO\n",
    "- DESCRIÇAO OBJETO\n",
    "- CONCORRENCIA\n",
    "- SIGLA LICITANTE\n",
    "- PROCESSO\n",
    "- COMISSAO\n",
    "- STATUS\n",
    "- EMPRESA\n",
    "- MOTIVO\n",
    "- VALOR"
   ]
  },
  {
   "cell_type": "markdown",
   "metadata": {},
   "source": [
    "## Documento 4"
   ]
  },
  {
   "cell_type": "markdown",
   "metadata": {},
   "source": [
    "### Ato:"
   ]
  },
  {
   "cell_type": "markdown",
   "metadata": {},
   "source": [
    "COMPANHIA URBANIZADORADA NOVA CAPITAL DO BRASIL\n",
    "DIRETORIA ADMINISTRATIVA DEPARTAMENTO DE COMPRAS\n",
    "AVISO DE JULGAMENTO DE PROPOSTAS\n",
    "\n",
    "Comunicamos  aos  interessados  na  Concorrência  nº  009/2020  –  DECOMP/DA  –  processonº  00110-00001255/2020-68,  que  a  Comissão  Permanente  de  Licitação  da  NOVACAP,com a corroboração da área técnica demandante, após análise das propostas de preços dasconcorrentes,  decidiu  pelas  desclassificações  das  empresas/consórcios:  CONSÓRCIO  G  4DF-140  (composto  pelas  empresas:  Construtora  ARTEC  S/A,  EB  Infra  Construção  Ltda,Central  Engenharia  e  Construtora  Ltda  e  LAN  Empreendimentos  e  Construções  EIRELI),HL  TERRAPLENAGEM  EIRELI,  CONSÓRCIO  BRASÍLIA  (composto  pela  empresas:PENTAG  Engenharia  Ltda  e  BM  Silva  Construções  Ltda),  CONSÓRCIO  TECCON/RS(composto   pelas   empresas:   RS   Engenharia   Ltda   e   TECCON   S/A   Construção   ePavimentação),  CONSÓRCIO  INFRAESTRUTURA  VICENTE  PIRES  (composto  pelaempresas:  MRM  Construtora  Ltda,  Shox  do  Brasil  Construções  Ltda),  FUAD  RASSIENGENHARIA  INDÚSTRIA  E  COMÉRCIO  LTDA  e  CONTERC  CONSTRUÇÃO,TERRAPLENAGEM   E   CONSULTORIA   LTDA   e   pela   classificação   das   empresasGOIÁS CONSTRUTORA LTDA, GW CONSTRUÇÕES E INCORPORAÇÕES LTDA eJM   TERRAPLANAGEM   E   CONSTRUÇÕES   LTDA.   Ato   contínuo   processou   aclassificação  e  o  julgamento,  proclamando  vencedora  da  licitação  a  empresa  GOIÁSCONSTRUTORA LTDA, com o preço total de R$ 39.529.475,16, 2º lugar a empresa GWCONSTRUÇÕES  E  INCORPORAÇÕES  LTDA,  com  o  preço  total  de  R$  42.264.500,81e  3º  lugar  a  empresa  JM  TERRAPLANAGEM  E  CONSTRUÇÕES  LTDA,  com  o  preçototal  de  R$  44.524.391,63.  As  documentações  que  fundamentaram  a  tomada  de  decisão encontram-se a disposição de todos no endereço eletrônico www.novacap.df.gov.br – link:licitações  (Parecer  Técnico  n.º  26/2021  -  SODF/GAB  –  Sei  56149708).  Para  maioresinformações ligar para o telefone (0xx61) 3403-2321 ou (0xx61) 3403-2322.Brasília/DF, 18 de fevereiro de 2021SHIRLEY DE FARIA SOARES DE CARVALHOChefe"
   ]
  },
  {
   "cell_type": "markdown",
   "metadata": {},
   "source": [
    "### Padrões:"
   ]
  },
  {
   "cell_type": "markdown",
   "metadata": {},
   "source": [
    "- ORGAO\n",
    "- DESCRIÇAO OBJETO\n",
    "- CONCORRENCIA\n",
    "- SIGLA LICITANTE\n",
    "- PROCESSO\n",
    "- COMISSAO\n",
    "- SEI\n",
    "- STATUS\n",
    "- EMPRESA\n",
    "- VALOR"
   ]
  },
  {
   "cell_type": "markdown",
   "metadata": {},
   "source": [
    "### Ato:"
   ]
  },
  {
   "cell_type": "markdown",
   "metadata": {},
   "source": [
    "COMPANHIA URBANIZADORADA NOVA CAPITAL DO BRASIL\n",
    "DIVISÃO DE LICITAÇÕES E CONTRATOS\n",
    "AVISO DE JULGAMENTO DE PROPOSTA\n",
    "\n",
    "Comunicamos  aos  interessados  na  Concorrência  nº  004/2020  –  DECOMP/DA  –processo  nº  00112-00001813/2020-39,  que  a  Comissão  Permanente  de  Licitação  daNOVACAP,  com  a  corroboração  da  área  técnica  demandante,  após  análise  da  únicaproposta  de  preços  da  concorrente  habilitada,  decidiu  pela  desclassificação  da  mesma–  CBC  -  CONSTRUTORA  BRASIL  CENTRAL  EIRELI  –  CNPJ  04.496.605/0001-76.  Ato  contínuo,  a  CPL,  com  base  no  item  9.3  do  Edital,  decidiu  fixar  a  licitante  oprazo  de  08  (oito)  dias  úteis  para  a  apresentação  de  outra  proposta,  escoimando  ascausas  que  as  desclassificou.  \n",
    "\n",
    "As  documentações  que  fundamentaram  a  tomada  dedecisão     encontram-se     a     disposição     de     todos     no     endereço     eletrônicowww.novacap.df.gov.br    –    link:    licitações    (Análise    Técnica    n.º    17/2021    -NOVACAP/DETEC/DITEC/CNUAPLI  –  Sei  56145957).  Para  maiores  informaçõesligar para o telefone (0xx61) 3403-2321 ou (0xx61) 3403-2322Brasília/DF, 19 de fevereiro de 2021SHIRLEY DE FARIA SOARES DE CARVALHOChefe"
   ]
  },
  {
   "cell_type": "markdown",
   "metadata": {},
   "source": [
    "### Padrões:"
   ]
  },
  {
   "cell_type": "markdown",
   "metadata": {},
   "source": [
    "- ORGAO\n",
    "- DESCRIÇAO OBJETO\n",
    "- CONCORRENCIA\n",
    "- SIGLA LICITANTE\n",
    "- PROCESSO\n",
    "- COMISSAO\n",
    "- STATUS\n",
    "- EMPRESA"
   ]
  },
  {
   "cell_type": "markdown",
   "metadata": {},
   "source": [
    "## Documento 5"
   ]
  },
  {
   "cell_type": "markdown",
   "metadata": {},
   "source": [
    "### Ato:"
   ]
  },
  {
   "cell_type": "markdown",
   "metadata": {},
   "source": [
    "COMPANHIA URBANIZADORA DA NOVA CAPITAL DO BRASIL \n",
    "DIRETORIA ADMINISTRATIVADEPARTAMENTO DE COMPRAS\n",
    "AVISO DE JULGAMENTO DE PROPOSTAS\n",
    "\n",
    "Comunicamos  aos  interessados  na  Concorrência  nº  005/2020  –  DECOMP/DA  –processo  nº  00112-00001517/2020-38,  que  a  Comissão  Permanente  de  Licitação  daNOVACAP,  com  a  corroboração  da  área  técnica  demandante,  após  análise  daspropostas  de  preços  das  concorrentes,  decidiu  pelas  desclassificações  das  empresas:CBC  Construtora  Brasil  Central  EIRELI  e  Alcance  Engenharia  e  Construção  Ltda  epela   classificação   da   empresa   AJL   Engenharia   e   Construção   EIRELI.   CNPJ   nº32.913.725/0001-67.   Ato   contínuo   processou   a   classificação   e   o   julgamento, proclamando     vencedora     da     licitação     a     empresa     AJL     ENGENHARIA     ECONSTRUÇÃO  EIRELI,  com  o  preço  total  de  R$  4.139.568,48.  \n",
    "As  documentaçõesque  fundamentaram  a  tomada  de  decisão  encontram-se  a  disposição  de  todos  noendereço  eletrônico  www.novacap.df.gov.br  –  link:  licitações  (Pareceres  Técnicosn.ºs 29, 30 e 31/2021 – DE/NOVACAP). Para mais informações ligar para o telefone(0xx61) 3403-2321 ou (0xx61) 3403-2322.Brasília/DF, 03 de março de 2021SHIRLEY DE FARIA SOARES DE CARVALHOChefe"
   ]
  },
  {
   "cell_type": "markdown",
   "metadata": {},
   "source": [
    "### Padrões:"
   ]
  },
  {
   "cell_type": "markdown",
   "metadata": {},
   "source": [
    "- ORGAO\n",
    "- DESCRIÇAO OBJETO\n",
    "- CONCORRENCIA\n",
    "- SIGLA LICITANTE\n",
    "- PROCESSO\n",
    "- COMISSAO\n",
    "- STATUS\n",
    "- EMPRESA\n",
    "- VALOR"
   ]
  },
  {
   "cell_type": "markdown",
   "metadata": {},
   "source": [
    "## Documento 6"
   ]
  },
  {
   "cell_type": "markdown",
   "metadata": {},
   "source": [
    "### Ato:"
   ]
  },
  {
   "cell_type": "markdown",
   "metadata": {},
   "source": [
    "COMPANHIA URBANIZADORA DA NOVA CAPITAL DO BRASIL \n",
    "DIRETORIA ADMINISTRATIVA DEPARTAMENTO DE COMPRAS\n",
    "AVISO DE JULGAMENTO DE PROPOSTAS\n",
    "\n",
    "Comunicamos  aos  interessados  na  Concorrência  nº  006/2020  –  3ª  versão  -  DECOMP/DA–  processo  nº  00112-00001818/2020-61,  que  a  Comissão  Permanente  de  Licitação  daNOVACAP,  com  a  corroboração  da  área  técnica  demandante,  após  análise  das  propostasde  preços  das  concorrentes,  decidiu  pelas  desclassificações  das  empresas:  OLÍMPIOCONSTRUÇÕES  EIRELI  ME  e  CONSTRUTORA  BRASIL  CENTRAL  EIRELI  e  pelaclassificação  da  empresa  AJL  ENGENHARIA  E  CONSTRUÇAO  EIRELI.  Ato  contínuo processou  a  classificação  e  o  julgamento,  proclamando  vencedora  da  licitação  a  empresaAJL  ENGENHARIA  E  CONSTRUÇAO  EIRELI,  CNPJ  nº  32.913.725/0001-67,  com  opreço  total  de  R$  4.038.009,81.  \n",
    "\n",
    "As  análises  técnicas  que  fundamentaram  a  tomada  de decisão encontram-se a disposição de todos no endereço eletrônico www.novacap.df.gov.br –link:  licitações  (Pareceres  Técnicos  n.ºs  20,  27  e  28/2021  –  DETEC/DE).  Para  maisinformações, telefones (0xx61) 3403-2321 ou (0xx61) 3403-2322.Brasília/DF, 09 de março de 2021SHIRLEY DE FARIA SOARES DE CARVALHOChefe"
   ]
  },
  {
   "cell_type": "markdown",
   "metadata": {},
   "source": [
    "### Padrões:"
   ]
  },
  {
   "cell_type": "markdown",
   "metadata": {},
   "source": [
    "- ORGAO\n",
    "- DESCRIÇAO OBJETO\n",
    "- CONCORRENCIA\n",
    "- SIGLA LICITANTE\n",
    "- PROCESSO\n",
    "- COMISSAO\n",
    "- STATUS\n",
    "- EMPRESA\n",
    "- VALOR"
   ]
  },
  {
   "cell_type": "markdown",
   "metadata": {},
   "source": [
    "## Documento 7"
   ]
  },
  {
   "cell_type": "markdown",
   "metadata": {},
   "source": [
    "### Ato:"
   ]
  },
  {
   "cell_type": "markdown",
   "metadata": {},
   "source": [
    "COMPANHIA URBANIZADORADA NOVA CAPITAL DO BRASIL\n",
    "DIRETORIA ADMINISTRATIVA \n",
    "DEPARTAMENTO DE COMPRAS DIVISÃO DE LICITAÇÕES E CONTRATOS\n",
    "AVISO DE JULGAMENTO DE PROPOSTAS\n",
    "\n",
    "Comunicamos  aos  interessados  na  Concorrência  nº  010/2020  –  DECOMP/DA  –  processonº  00112-00001835/2020-07,  que  a  Comissão  Permanente  de  Licitação  da  NOVACAP,com a corroboração da área técnica demandante, após análise das propostas de preços dasconcorrentes,  decidiu  pelas  desclassificações  das  empresas:  OLÍMPIO  CONSTRUÇÕES EIRELI  ME  e  CONSTRUTORA  BRASIL  CENTRAL  EIRELI  e  pela  classificação das   empresas   C.Q.O.   –   CONSTRUTORA   QUEIROZ   OLIVEIRA   LTDA   e   AJLENGENHARIA  E  CONSTRUÇAO  EIRELI.  Ato  contínuo  processou  a  classificaçãoe    o    julgamento,    proclamando    vencedora    da    licitação    a    empresa    C.Q.O.    –CONSTRUTORA  QUEIROZ  OLIVEIRA  LTDA,  CNPJ  nº  06.224.599/0001-23,  como   preço   total   de   R$   4.248.735,16   e   em   2º   lugar:   AJL   ENGENHARIA   ECONSTRUÇAO  EIRELI,  CNPJ  nº  32.913.725/0001-67,  com  o  preço  total  de  R$4.315.398,65.  \n",
    "\n",
    "As   análises   técnicas   que   fundamentaram   a   tomada   de   decisãoencontram-se  a  disposição  de  todos  no  endereço  eletrônico  www.novacap.df.gov.br  –link:  licitações  (Pareceres  Técnicos  nºs  26,  36,  37  e  38/2021  –  DETEC/DE).  Paramais informações, telefones (0xx61) 3403-2321 ou (0xx61) 3403-2322.Brasília/DF, 11 de março de 2021SHIRLEY DE FARIA SOARES DE CARVALHOChefe"
   ]
  },
  {
   "cell_type": "markdown",
   "metadata": {},
   "source": [
    "### Padrões:"
   ]
  },
  {
   "cell_type": "markdown",
   "metadata": {},
   "source": [
    "- ORGAO\n",
    "- DESCRIÇAO OBJETO\n",
    "- CONCORRENCIA\n",
    "- SIGLA LICITANTE\n",
    "- PROCESSO\n",
    "- COMISSAO\n",
    "- STATUS\n",
    "- EMPRESA\n",
    "- VALOR"
   ]
  }
 ],
 "metadata": {
  "kernelspec": {
   "display_name": "Python 3",
   "language": "python",
   "name": "python3"
  },
  "language_info": {
   "codemirror_mode": {
    "name": "ipython",
    "version": 3
   },
   "file_extension": ".py",
   "mimetype": "text/x-python",
   "name": "python",
   "nbconvert_exporter": "python",
   "pygments_lexer": "ipython3",
   "version": "3.8.5"
  }
 },
 "nbformat": 4,
 "nbformat_minor": 4
}
