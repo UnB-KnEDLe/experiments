{
 "cells": [
  {
   "cell_type": "markdown",
   "metadata": {},
   "source": [
    "# Julgamento de Propostas"
   ]
  },
  {
   "cell_type": "markdown",
   "metadata": {},
   "source": [
    "## Documentos:\n",
    "\n",
    "### 1 - [DODF - 059](https://dodf.df.gov.br/index/visualizar-arquivo/?pasta=2021|03_Mar%C3%A7o|DODF%20059%2029-03-2021|&arquivo=DODF%20059%2029-03-2021%20INTEGRA.pdf)\n",
    "### 2 - [DODF - 242](https://www.dodf.df.gov.br/index/visualizar-arquivo/?pasta=2020/12_Dezembro/DODF%20242%2024-12-2020&arquivo=DODF%20242%2024-12-2020%20INTEGRA.pdf)\n",
    "### 3 - [DODF - 027](https://dodf.df.gov.br/index/visualizar-arquivo/?pasta=2021|02_Fevereiro|DODF%20027%2009-02-2021|&arquivo=DODF%20027%2009-02-2021%20INTEGRA.pdf)\n",
    "### 4 - [DODF - 000]()"
   ]
  },
  {
   "cell_type": "markdown",
   "metadata": {},
   "source": [
    "## Documento 1"
   ]
  },
  {
   "cell_type": "markdown",
   "metadata": {},
   "source": [
    "### Ato:"
   ]
  },
  {
   "cell_type": "markdown",
   "metadata": {},
   "source": [
    "COMPANHIA URBANIZADORADA NOVA CAPITAL DO BRASIL\n",
    "AVISO DE JULGAMENTO DE PROPOSTAS\n",
    "\n",
    "Comunicamos  aos  interessados  na  Concorrência  nº  016/2020  –  DECOMP/DA,  processo00110-00002168/2020-28,  que  a  Comissão  Permanente  de  Licitação  da  NOVACAP,  coma    corroboração    técnica    da    área    demandante    (Parecer    Técnico    n.º    5/2021    -SODF/GAB/CPL/CIAT  (Sei  58410430))  dos  Membros  da  Comissão  Interna  de  ApoioTécnico   da   SODF,   após   análise   das   propostas   de   preços   (2ª   fase),   decidiu   peladesclassificação  das  empresas/consórcios:  CONSÓRCIO  G5  –  ESPM  -  (formado  pelasempresas:   CONSTRUTORA   ARTEC   S/A,   EB   INFRA   CONSTRUÇÕES   LTDA,CENTRAL      ENGENHARIA      E      CONSTRUTORA      LTDA,      CONSTRUTEQCONSTRUÇÕES, TERRAPLENAGEM E COMÉRCIO DE EQUIPAMENTOS EIRELI -EPP  e  GW  CONSTRUÇÕES  E  INCORPORAÇÕES  LTDA);  AUGUSTO  VELLOSOENGENHARIA   S/A;   CONSÓRCIO   OBRAS   BRT   EIXO   OESTE   -   (formado   pelasempresas:  MRM  CONSTRUTORA  LTDA  E  SHOX  DO  BRASIL  CONSTRUÇÕESLTDA)   e   TRIER   ENGENHARIA   S/A   e   pela   classificação   das   empresas:   JMTERRAPLANAGEM  E  CONSTRUÇÕES  LTDA;  VIA  ENGENHARIA  S/A  –  (EMRECUPERAÇÃO   JUDICIAL)   e   CONSTRAN   INTERNACIONAL   CONSTRUÇÕESS/A.  Ato  contínuo  processou  a  classificação  e  o  julgamento,  proclamando  vencedora  dalicitação  a  empresa  JM  TERRAPLANAGEM  E  CONSTRUÇÕES  LTDA,  com  o  valortotal  de  R$  52.940.361,66,  2º  lugar  a  VIA  ENGENHARIA  S/A  –  (EM  RECUPERAÇÃOJUDICIAL),   com   o   valor   total   de   R$   54.320.037,69   e   3º   lugar   a   CONSTRANINTERNACIONAL  CONSTRUÇÕES  S/A,  com  o  valor  total  de  R$  57.617.733,40.  OParecer  Técnico  que  fundamentou  a  tomada  de  decisão  encontra-se  a  disposição  de  todosno  endereço  eletrônico  www.novacap.df.gov.br  –  link:  licitações.  Para  informações  -telefones (0xx61) 3403-2321 ou (0xx61) 3403-2322.Brasília/DF, 26 de março de 2021SHIRLEY DE FARIA SOARES DE CARVALHOChefe"
   ]
  },
  {
   "cell_type": "markdown",
   "metadata": {},
   "source": [
    "### Padrões:"
   ]
  },
  {
   "cell_type": "markdown",
   "metadata": {},
   "source": []
  },
  {
   "cell_type": "markdown",
   "metadata": {},
   "source": [
    "## Documento 2"
   ]
  },
  {
   "cell_type": "markdown",
   "metadata": {},
   "source": [
    "### Ato:"
   ]
  },
  {
   "cell_type": "markdown",
   "metadata": {},
   "source": [
    "POLÍCIA CIVIL DEPARTAMENTO DE ATIVIDADES ESPECIAIS\n",
    "DIVISÃO DE CONTROLE DE ARMAS, MUNIÇÕES E EXPLOSIVOS\n",
    "COMISSÃO PERMANENTE DE LICITAÇÃO CONCORRÊNCIA Nº 01/2020\n",
    "AVISO DE JULGAMENTO DE PROPOSTASA  \n",
    "\n",
    "Comissão  Permanente  de  Licitação,  de  acordo  com  o  artigo  109,  §  1º,  da  Lei  8.666/93,torna   público   aos   licitantes   e   demais   interessados   que,   após   análise   das   propostasapresentadas  pelas  empresas  habilitadas  na  Concorrência  nº  01/2020,  processo  nº  00052-00006910/2020-15,  cujo  objeto  é  a  contratação  de  empresa  para  executar  a  construção  doInstituto de Medicina Legal da Polícia Civil do Distrito Federal, em terreno situado no SPO,Lote  23,  Conjunto  A,  Brasília/DF,  conforme  o  projeto  básico  e  seus  anexos,  que  são  partesintegrantes  do  edital,  DECIDIU  desclassificar  a  proposta  da  empresa  2-  Gonar  EngenhariaLtda.  EPP,  nos  termos  do  item  6.3.2  do  edital,  por  ausência  da  Planilha  Detalhada  porEventos  e  a  Declaração  referente  ao  Decreto  Distrital  nº  39.860/2019,  exigidas  nos  itens5.1.VI  e  5.1.  XV  do  Edital,  e  classificar  as  demais  propostas.  Sagrou-se  vencedora  docertame   a   empresa   GCE   S/A,   CNPJ   nº   05.275.229/0001-52,   no   valor   total   de   R$34.866.736,81  (trinta  e  quatro  milhões,  oitocentos  e  sessenta  e  seis  mil,  setecentos  e  trinta  eseis reais e oitenta e um centavos), por ter apresentado o menor preço global para a execuçãoda  construção  e  atender  a  todas  as  exigências  do  Edital  A  íntegra  da  Ata  de  Julgamento  seencontra   no   site   da   PCDF   www.pcdf.df.gov.br,   link   licitações,   Demais   Modalidades.Maiores  informações  na  CPL/PCDF  ou  pelos  fones:  3207-4071/4046.  A  vista  do  processoencontra-se franqueada aos interessados a partir dessa publicação.Brasília/DF, 23 de dezembro de 2020LORELEI DE A. P. SANTOS FAUSTINOPresidente da Comissão"
   ]
  },
  {
   "cell_type": "markdown",
   "metadata": {},
   "source": [
    "### Padrões:"
   ]
  },
  {
   "cell_type": "markdown",
   "metadata": {},
   "source": []
  },
  {
   "cell_type": "markdown",
   "metadata": {},
   "source": [
    "## Documento 3"
   ]
  },
  {
   "cell_type": "markdown",
   "metadata": {},
   "source": [
    "COMPANHIA URBANIZADORADA NOVA CAPITAL DO BRASIL\n",
    "DIRETORIA ADMINISTRATIVADEPARTAMENTO DE COMPRAS\n",
    "DIVISÃO DE LICITAÇÕES E CONTRATOS\n",
    "AVISO DE JULGAMENTO DE PROPOSTAS\n",
    "\n",
    "Comunicamos  aos  interessados  na  Concorrência  nº  015/2020  –  DECOMP/DA  –  processonº  00110-00001782/2020-72,  que  a  Comissão  Permanente  de  Licitação  da  NOVACAP,com a corroboração da área técnica demandante, após análise das propostas de preços dasconcorrentes,  decidiu  pelas  desclassificações  da  empresa  SOBRADO  CONSTRUÇÕESLTDA  e  dos  consórcios  REQUALIFICAÇÃO  VIA  MN1  (composto  pelas  empresas:MRM  Construtora  Ltda/SHOX  do  Brasil  Construções  Ltda)  e  CONSÓRCIO  ETERC-EPCCON  (composto  pelas  empresas:  Eterc  Engenharia  Ltda/Epccon  Construções  S/A), por  não  atenderem  ao  item  7.2,  letra  “k”  do  Edital  e  pela  classificação  do  CONSÓRCIOHP  (composto  pelas  empresas:  Construtora  LDN  Ltda/AMC  Engenharia  e  ConstruçãoLtda),  na  forma  do  Edital..  Ato  contínuo  processou  a  classificação  e  o  julgamento,proclamando  vencedora  da  licitação  o  CONSÓRCIO  HP  (composto  pelas  empresas:Construtora  LDN  Ltda/AMC  Engenharia  e  Construção  Ltda),  com  o  preço  total  de  R$14.394.920,01.  As  documentações  que  fundamentaram  a  tomada  de  decisão  encontram-sea  disposição  de  todos  no  endereço  eletrônico  www.novacap.df.gov.br  –  link:  licitações(Parecer  Técnico  nº  22/2021  -  SODF/GAB  –  Sei  54999028).  Para  maiores  informaçõesligar para o telefone (0xx61) 3403-2321 ou (0xx61) 3403-2322.Brasília/DF, 05 de fevereiro de 2021SHIRLEY DE FARIA SOARES DE CARVALHOChefe"
   ]
  },
  {
   "cell_type": "markdown",
   "metadata": {},
   "source": [
    "### Padrões:"
   ]
  },
  {
   "cell_type": "markdown",
   "metadata": {},
   "source": []
  },
  {
   "cell_type": "markdown",
   "metadata": {},
   "source": []
  }
 ],
 "metadata": {
  "kernelspec": {
   "display_name": "Python 3",
   "language": "python",
   "name": "python3"
  },
  "language_info": {
   "codemirror_mode": {
    "name": "ipython",
    "version": 3
   },
   "file_extension": ".py",
   "mimetype": "text/x-python",
   "name": "python",
   "nbconvert_exporter": "python",
   "pygments_lexer": "ipython3",
   "version": "3.8.5"
  }
 },
 "nbformat": 4,
 "nbformat_minor": 4
}
