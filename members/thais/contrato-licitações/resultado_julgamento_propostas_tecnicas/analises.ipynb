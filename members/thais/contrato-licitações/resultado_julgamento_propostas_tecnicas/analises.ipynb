{
 "cells": [
  {
   "cell_type": "markdown",
   "metadata": {},
   "source": [
    "# Análise - Julgamento de Propostas"
   ]
  },
  {
   "cell_type": "markdown",
   "metadata": {},
   "source": [
    "Para essa análise foram usados 10 DODFs e 13 Atos. Eles podem ser encontrados [aqui](https://github.com/UnB-KnEDLe/experiments/members/thais/contrato-licitações/resultado_julgamento_propostas_tecnicas/exemplos.ipynb)."
   ]
  },
  {
   "cell_type": "markdown",
   "metadata": {},
   "source": [
    "### Obrigatórios:\n",
    "\n",
    "- ORGAO\n",
    "- DESCRIÇAO OBJETO\n",
    "- CONCORRENCIA\n",
    "- SIGLA LICITANTE\n",
    "- PROCESSO\n",
    "- COMISSAO\n",
    "- STATUS\n",
    "- EMPRESA\n",
    "- VALOR"
   ]
  },
  {
   "cell_type": "markdown",
   "metadata": {},
   "source": [
    "### Não-Obrigatórios:\n",
    "\n",
    "- PARECER TECNICO\n",
    "- SEI\n",
    "- FUNDAMENTO LEGAL\n",
    "- OBJETIVO\n",
    "- MOTIVO"
   ]
  },
  {
   "cell_type": "markdown",
   "metadata": {},
   "source": [
    "## ORGAO\n"
   ]
  },
  {
   "cell_type": "markdown",
   "metadata": {},
   "source": [
    "### Exemplos:"
   ]
  },
  {
   "cell_type": "markdown",
   "metadata": {},
   "source": [
    "COMPANHIA URBANIZADORA DA NOVA CAPITAL DO BRASIL"
   ]
  },
  {
   "cell_type": "markdown",
   "metadata": {},
   "source": [
    "POLÍCIA CIVIL DEPARTAMENTO DE ATIVIDADES ESPECIAIS\n",
    "DIVISÃO DE CONTROLE DE ARMAS, MUNIÇÕES E EXPLOSIVOS"
   ]
  },
  {
   "cell_type": "markdown",
   "metadata": {},
   "source": [
    "COMPANHIA URBANIZADORADA NOVA CAPITAL DO BRASIL\n",
    "DIRETORIA ADMINISTRATIVADEPARTAMENTO DE COMPRAS\n",
    "DIVISÃO DE LICITAÇÕES E CONTRATOS"
   ]
  },
  {
   "cell_type": "markdown",
   "metadata": {},
   "source": [
    "COMPANHIA URBANIZADORADA NOVA CAPITAL DO BRASIL\n",
    "DIRETORIA ADMINISTRATIVA DEPARTAMENTO DE COMPRAS"
   ]
  },
  {
   "cell_type": "markdown",
   "metadata": {},
   "source": [
    "COMPANHIA URBANIZADORADA NOVA CAPITAL DO BRASIL\n",
    "DIVISÃO DE LICITAÇÕES E CONTRATOS"
   ]
  },
  {
   "cell_type": "markdown",
   "metadata": {},
   "source": [
    "COMPANHIA URBANIZADORA DA NOVA CAPITAL DO BRASIL \n",
    "DIRETORIA ADMINISTRATIVADEPARTAMENTO DE COMPRAS"
   ]
  },
  {
   "cell_type": "markdown",
   "metadata": {},
   "source": [
    "COMPANHIA URBANIZADORA DA NOVA CAPITAL DO BRASIL \n",
    "DIRETORIA ADMINISTRATIVA DEPARTAMENTO DE COMPRAS"
   ]
  },
  {
   "cell_type": "markdown",
   "metadata": {},
   "source": [
    "COMPANHIA URBANIZADORADA NOVA CAPITAL DO BRASIL\n",
    "DIRETORIA ADMINISTRATIVA \n",
    "DEPARTAMENTO DE COMPRAS DIVISÃO DE LICITAÇÕES E CONTRATOS"
   ]
  },
  {
   "cell_type": "markdown",
   "metadata": {},
   "source": [
    "## DESCRIÇAO OBJETO"
   ]
  },
  {
   "cell_type": "markdown",
   "metadata": {},
   "source": [
    "### Exemplos:\n"
   ]
  },
  {
   "cell_type": "markdown",
   "metadata": {},
   "source": [
    "AVISO DE REABERTURA LICITAÇÃO"
   ]
  },
  {
   "cell_type": "markdown",
   "metadata": {},
   "source": [
    "AVISO DE REABERTURA DE LICITAÇÃO EXCLUSIVA"
   ]
  },
  {
   "cell_type": "markdown",
   "metadata": {},
   "source": [
    "AVISO DE REABERTURA – LICITAÇÃO EXCLUSIVA"
   ]
  },
  {
   "cell_type": "markdown",
   "metadata": {},
   "source": [
    "AVISO DE LICITAÇÃO – NOVA ABERTURA"
   ]
  },
  {
   "cell_type": "markdown",
   "metadata": {},
   "source": [
    "AVISO DE REABERTURA"
   ]
  },
  {
   "cell_type": "markdown",
   "metadata": {},
   "source": [
    "### CONCORRENCIA"
   ]
  },
  {
   "cell_type": "markdown",
   "metadata": {},
   "source": [
    "### Exemplos:"
   ]
  },
  {
   "cell_type": "markdown",
   "metadata": {},
   "source": [
    "- nº 010/2020\n",
    "- nº  006/2020\n",
    "- nº  005/2020\n",
    "- nº  004/2020\n",
    "- nº  009/2020\n",
    "- nº  015/2020\n",
    "- Nº 01/2020\n",
    "- nº  016/2020"
   ]
  },
  {
   "cell_type": "markdown",
   "metadata": {},
   "source": [
    "### PROCESSO"
   ]
  },
  {
   "cell_type": "markdown",
   "metadata": {},
   "source": [
    "Número em série que identifica o processo. Pode vir acompanhado da palavra **processo** ou como **Pro-cesso**, no ínicio ou no meio do ato."
   ]
  },
  {
   "cell_type": "markdown",
   "metadata": {},
   "source": [
    "### Exemplos:"
   ]
  },
  {
   "cell_type": "markdown",
   "metadata": {},
   "source": [
    "00054-00018174/2020-91"
   ]
  },
  {
   "cell_type": "markdown",
   "metadata": {},
   "source": [
    "001-001.759/2015"
   ]
  },
  {
   "cell_type": "markdown",
   "metadata": {},
   "source": [
    "001-001639/2015"
   ]
  },
  {
   "cell_type": "markdown",
   "metadata": {},
   "source": [
    "053.000.967/2014/CBMDF"
   ]
  },
  {
   "cell_type": "markdown",
   "metadata": {},
   "source": [
    "390.000.457/2013"
   ]
  },
  {
   "cell_type": "markdown",
   "metadata": {},
   "source": [
    "060.005.813/2012"
   ]
  },
  {
   "cell_type": "markdown",
   "metadata": {},
   "source": [
    "390.000.614/2012"
   ]
  },
  {
   "cell_type": "markdown",
   "metadata": {},
   "source": [
    "020.002.097/2010"
   ]
  },
  {
   "cell_type": "markdown",
   "metadata": {},
   "source": [
    "00001-00010995/2020-41"
   ]
  },
  {
   "cell_type": "markdown",
   "metadata": {},
   "source": [
    "00053-00063193/2019-67/CBMDF"
   ]
  },
  {
   "cell_type": "markdown",
   "metadata": {},
   "source": [
    "24/2020"
   ]
  },
  {
   "cell_type": "markdown",
   "metadata": {},
   "source": [
    "10/2020"
   ]
  },
  {
   "cell_type": "markdown",
   "metadata": {},
   "source": [
    "210/2020"
   ]
  },
  {
   "cell_type": "markdown",
   "metadata": {},
   "source": [
    "### SIGLA LICITANTE"
   ]
  },
  {
   "cell_type": "markdown",
   "metadata": {},
   "source": [
    "### Exemplos:"
   ]
  },
  {
   "cell_type": "markdown",
   "metadata": {},
   "source": [
    "DECOMP/DA"
   ]
  },
  {
   "cell_type": "markdown",
   "metadata": {},
   "source": [
    "### COMISSAO"
   ]
  },
  {
   "cell_type": "markdown",
   "metadata": {},
   "source": [
    "### Exemplos:"
   ]
  },
  {
   "cell_type": "markdown",
   "metadata": {},
   "source": [
    " Comissão  Permanente  de  Licitação  da  NOVACAP"
   ]
  },
  {
   "cell_type": "markdown",
   "metadata": {},
   "source": [
    "### STATUS"
   ]
  },
  {
   "cell_type": "markdown",
   "metadata": {},
   "source": [
    "### Exemplos:"
   ]
  },
  {
   "cell_type": "markdown",
   "metadata": {},
   "source": [
    "vencedora"
   ]
  },
  {
   "cell_type": "markdown",
   "metadata": {},
   "source": [
    "desclassificação(es)"
   ]
  },
  {
   "cell_type": "markdown",
   "metadata": {},
   "source": [
    "desclassificar "
   ]
  },
  {
   "cell_type": "markdown",
   "metadata": {},
   "source": [
    "### SEI"
   ]
  },
  {
   "cell_type": "markdown",
   "metadata": {},
   "source": [
    "### Exemplos:"
   ]
  },
  {
   "cell_type": "markdown",
   "metadata": {},
   "source": [
    "58410430"
   ]
  },
  {
   "cell_type": "markdown",
   "metadata": {},
   "source": [
    "### EMPRESA"
   ]
  },
  {
   "cell_type": "markdown",
   "metadata": {},
   "source": [
    "### Exemplos:"
   ]
  },
  {
   "cell_type": "markdown",
   "metadata": {},
   "source": [
    "OLÍMPIO  CONSTRUÇÕES EIRELI  ME  e  CONSTRUTORA  BRASIL  CENTRAL  EIRELI "
   ]
  },
  {
   "cell_type": "markdown",
   "metadata": {},
   "source": [
    "C.Q.O.   –   CONSTRUTORA   QUEIROZ   OLIVEIRA   LTDA"
   ]
  },
  {
   "cell_type": "markdown",
   "metadata": {},
   "source": [
    " AJLENGENHARIA  E  CONSTRUÇAO  EIRELI"
   ]
  },
  {
   "cell_type": "markdown",
   "metadata": {},
   "source": [
    "CBC  -  CONSTRUTORA  BRASIL  CENTRAL  EIRELI  –  CNPJ  04.496.605/0001-76"
   ]
  },
  {
   "cell_type": "markdown",
   "metadata": {},
   "source": [
    "### VALOR"
   ]
  },
  {
   "cell_type": "markdown",
   "metadata": {},
   "source": [
    "Sucede \"**total de**\""
   ]
  },
  {
   "cell_type": "markdown",
   "metadata": {},
   "source": [
    "### Exemplos:"
   ]
  },
  {
   "cell_type": "markdown",
   "metadata": {},
   "source": [
    "R$  52.940.361,66"
   ]
  },
  {
   "cell_type": "markdown",
   "metadata": {},
   "source": [
    "R$   54.320.037,69"
   ]
  },
  {
   "cell_type": "markdown",
   "metadata": {},
   "source": [
    "R$  57.617.733,40"
   ]
  },
  {
   "cell_type": "markdown",
   "metadata": {},
   "source": [
    "R$34.866.736,81 (trinta  e  quatro  milhões,  oitocentos  e  sessenta  e  seis  mil,  setecentos  e  trinta  eseis reais e oitenta e um centavos)"
   ]
  },
  {
   "cell_type": "markdown",
   "metadata": {},
   "source": [
    "R$14.394.920,01"
   ]
  },
  {
   "cell_type": "markdown",
   "metadata": {},
   "source": [
    "R$ 39.529.475,16"
   ]
  },
  {
   "cell_type": "markdown",
   "metadata": {},
   "source": [
    "R$  42.264.500,81"
   ]
  },
  {
   "cell_type": "markdown",
   "metadata": {},
   "source": [
    "R$  44.524.391,63"
   ]
  },
  {
   "cell_type": "markdown",
   "metadata": {},
   "source": [
    "R$  4.139.568,48"
   ]
  },
  {
   "cell_type": "markdown",
   "metadata": {},
   "source": [
    "R$  4.038.009,81"
   ]
  },
  {
   "cell_type": "markdown",
   "metadata": {},
   "source": [
    "### PARECER TECNICO"
   ]
  },
  {
   "cell_type": "markdown",
   "metadata": {},
   "source": [
    "### Exemplos:"
   ]
  },
  {
   "cell_type": "markdown",
   "metadata": {},
   "source": [
    "n.º    5/2021 "
   ]
  },
  {
   "cell_type": "markdown",
   "metadata": {},
   "source": [
    "### FUNDAMENTO LEGAL"
   ]
  },
  {
   "cell_type": "markdown",
   "metadata": {},
   "source": [
    "### Exemplos:"
   ]
  },
  {
   "cell_type": "markdown",
   "metadata": {},
   "source": [
    "artigo  109,  §  1º,  da  Lei  8.666/93"
   ]
  },
  {
   "cell_type": "markdown",
   "metadata": {},
   "source": [
    "### OBJETIVO"
   ]
  },
  {
   "cell_type": "markdown",
   "metadata": {},
   "source": [
    "### Exemplos:"
   ]
  },
  {
   "cell_type": "markdown",
   "metadata": {},
   "source": [
    "contratação  de  empresa  para  executar  a  construção  doInstituto de Medicina Legal da Polícia Civil do Distrito Federal, em terreno situado no SPO,Lote  23,  Conjunto  A,  Brasília/DF"
   ]
  },
  {
   "cell_type": "markdown",
   "metadata": {},
   "source": [
    "### MOTIVO"
   ]
  },
  {
   "cell_type": "markdown",
   "metadata": {},
   "source": [
    "### Exemplos:"
   ]
  },
  {
   "cell_type": "markdown",
   "metadata": {},
   "source": [
    "por  não  atenderem  ao  item  7.2,  letra  “k”  do  Edital  e  pela  classificação  do  CONSÓRCIOHP  (composto  pelas  empresas:  Construtora  LDN  Ltda/AMC  Engenharia  e  ConstruçãoLtda),  na  forma  do  Edital"
   ]
  },
  {
   "cell_type": "markdown",
   "metadata": {},
   "source": [
    "por  ausência  da  Planilha  Detalhada  porEventos  e  a  Declaração  referente  ao  Decreto  Distrital  nº  39.860/2019,  exigidas  nos  itens5.1.VI  e  5.1.  XV  do  Edital,  e  classificar  as  demais  propostas"
   ]
  },
  {
   "cell_type": "code",
   "execution_count": null,
   "metadata": {},
   "outputs": [],
   "source": []
  }
 ],
 "metadata": {
  "kernelspec": {
   "display_name": "Python 3",
   "language": "python",
   "name": "python3"
  },
  "language_info": {
   "codemirror_mode": {
    "name": "ipython",
    "version": 3
   },
   "file_extension": ".py",
   "mimetype": "text/x-python",
   "name": "python",
   "nbconvert_exporter": "python",
   "pygments_lexer": "ipython3",
   "version": "3.8.5"
  }
 },
 "nbformat": 4,
 "nbformat_minor": 4
}
