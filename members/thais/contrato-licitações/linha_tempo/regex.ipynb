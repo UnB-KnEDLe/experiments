{
 "metadata": {
  "language_info": {
   "codemirror_mode": {
    "name": "ipython",
    "version": 3
   },
   "file_extension": ".py",
   "mimetype": "text/x-python",
   "name": "python",
   "nbconvert_exporter": "python",
   "pygments_lexer": "ipython3",
   "version": "3.8.5"
  },
  "orig_nbformat": 2,
  "kernelspec": {
   "name": "python385jvsc74a57bd0d6e70badd58d0343576aa678b1e847c1ad0336ec996a7846bc648094d19da43e",
   "display_name": "Python 3.8.5 64-bit ('base': conda)"
  },
  "metadata": {
   "interpreter": {
    "hash": "d6e70badd58d0343576aa678b1e847c1ad0336ec996a7846bc648094d19da43e"
   }
  }
 },
 "nbformat": 4,
 "nbformat_minor": 2,
 "cells": [
  {
   "source": [
    "# Linha do tempo"
   ],
   "cell_type": "markdown",
   "metadata": {}
  },
  {
   "cell_type": "code",
   "execution_count": 220,
   "metadata": {},
   "outputs": [],
   "source": [
    "import glob\n",
    "import re\n",
    "import pandas as pd\n",
    "from yattag import Doc\n",
    "import unicodedata\n",
    "import os\n",
    "import json\n",
    "import numpy as np"
   ]
  },
  {
   "cell_type": "code",
   "execution_count": 221,
   "metadata": {},
   "outputs": [],
   "source": [
    "doc, tag, text = Doc().tagtext()"
   ]
  },
  {
   "cell_type": "code",
   "execution_count": 222,
   "metadata": {},
   "outputs": [],
   "source": [
    "txt_files = glob.glob('text/**/**/*.txt')\n",
    "block_files = glob.glob('blocks/**/**/*.json')"
   ]
  },
  {
   "cell_type": "code",
   "execution_count": 223,
   "metadata": {},
   "outputs": [],
   "source": [
    "# determinando um processo específico\n",
    "all_acts = []\n",
    "processo = '00401-00019051/2018-39'\n",
    "pregao = '001/2020'"
   ]
  },
  {
   "cell_type": "code",
   "execution_count": 224,
   "metadata": {
    "tags": []
   },
   "outputs": [],
   "source": [
    "for txt in txt_files:\n",
    "    instances = re.findall(r'((?:(?:AVISO|RESULTADO[s]|EXTRATO|EDITAL).*[\\s ])(?:[\\s\\S]*?)\\.)\\n',\n",
    "                            unicodedata.normalize('NFKD', open(txt, encoding='utf-8').read()), \n",
    "                            re.IGNORECASE)\n",
    "    for instance in instances:\n",
    "        if processo in instance:\n",
    "            all_acts.append(txt)\n",
    "            all_acts.append(instance)"
   ]
  },
  {
   "cell_type": "code",
   "execution_count": 225,
   "metadata": {},
   "outputs": [],
   "source": [
    "df_dict = {\n",
    "    'descricao_objeto': [],\n",
    "    'data_dodf': [],\n",
    "    'texto': [],\n",
    "}\n",
    "\n",
    "regex_dict = {\n",
    "    'descricao_objeto': '(?:(?:aviso|resultado[s]|extrato|edital).*\\n)',\n",
    "    'data_dodf': '\\d{2}-\\d{2}-\\d{4}',\n",
    "}"
   ]
  },
  {
   "cell_type": "code",
   "execution_count": 226,
   "metadata": {
    "tags": []
   },
   "outputs": [
    {
     "output_type": "execute_result",
     "data": {
      "text/plain": [
       "                                    descricao_objeto   data_dodf  \\\n",
       "0                 AVISO DE HOMOLOGACAO E CONVOCACAO\n",
       "  14-02-2019   \n",
       "1                                AVISO DE RESULTADO\n",
       "  15-02-2019   \n",
       "2                   EXTRATO DO CONTRATO No 006/2019\n",
       "  22-02-2019   \n",
       "3  EXTRATO DO PRIMEIRO TERMO ADITIVO AO CONTRATO ...  04-12-2019   \n",
       "4                    AVISO DE ABERTURA DE LICITACAO\n",
       "  25-01-2019   \n",
       "\n",
       "                                               texto  \n",
       "0  AVISO DE HOMOLOGACAO E CONVOCACAO\n",
       "PREGAO ELETR...  \n",
       "1  AVISO DE RESULTADO\n",
       "PREGAO ELETRONICO No 01/201...  \n",
       "2  EXTRATO DO CONTRATO No 006/2019\n",
       "PROCESSO: 0040...  \n",
       "3  EXTRATO DO PRIMEIRO TERMO ADITIVO AO CONTRATO ...  \n",
       "4  AVISO DE ABERTURA DE LICITACAO\n",
       "PREGAO ELETRONI...  "
      ],
      "text/html": "<div>\n<style scoped>\n    .dataframe tbody tr th:only-of-type {\n        vertical-align: middle;\n    }\n\n    .dataframe tbody tr th {\n        vertical-align: top;\n    }\n\n    .dataframe thead th {\n        text-align: right;\n    }\n</style>\n<table border=\"1\" class=\"dataframe\">\n  <thead>\n    <tr style=\"text-align: right;\">\n      <th></th>\n      <th>descricao_objeto</th>\n      <th>data_dodf</th>\n      <th>texto</th>\n    </tr>\n  </thead>\n  <tbody>\n    <tr>\n      <th>0</th>\n      <td>AVISO DE HOMOLOGACAO E CONVOCACAO</td>\n      <td>14-02-2019</td>\n      <td>AVISO DE HOMOLOGACAO E CONVOCACAO\nPREGAO ELETR...</td>\n    </tr>\n    <tr>\n      <th>1</th>\n      <td>AVISO DE RESULTADO</td>\n      <td>15-02-2019</td>\n      <td>AVISO DE RESULTADO\nPREGAO ELETRONICO No 01/201...</td>\n    </tr>\n    <tr>\n      <th>2</th>\n      <td>EXTRATO DO CONTRATO No 006/2019</td>\n      <td>22-02-2019</td>\n      <td>EXTRATO DO CONTRATO No 006/2019\nPROCESSO: 0040...</td>\n    </tr>\n    <tr>\n      <th>3</th>\n      <td>EXTRATO DO PRIMEIRO TERMO ADITIVO AO CONTRATO ...</td>\n      <td>04-12-2019</td>\n      <td>EXTRATO DO PRIMEIRO TERMO ADITIVO AO CONTRATO ...</td>\n    </tr>\n    <tr>\n      <th>4</th>\n      <td>AVISO DE ABERTURA DE LICITACAO</td>\n      <td>25-01-2019</td>\n      <td>AVISO DE ABERTURA DE LICITACAO\nPREGAO ELETRONI...</td>\n    </tr>\n  </tbody>\n</table>\n</div>"
     },
     "metadata": {},
     "execution_count": 226
    }
   ],
   "source": [
    "for act in range(0, len(all_acts)):\n",
    "    if act % 2 == 0:\n",
    "        dodf = all_acts[act]\n",
    "        match_data = re.search(regex_dict['data_dodf'], str(dodf), re.IGNORECASE)\n",
    "        if match_data:\n",
    "            df_dict['data_dodf'].append(match_data.group())\n",
    "        else:\n",
    "            df_dict['data_dodf'].append(np.nan)\n",
    "    else:\n",
    "        df_dict['texto'].append(all_acts[act])\n",
    "        match_descricao = re.search(regex_dict['descricao_objeto'], str(all_acts[act]), re.IGNORECASE)\n",
    "\n",
    "        if match_descricao:\n",
    "            df_dict['descricao_objeto'].append(match_descricao.group())\n",
    "        else:\n",
    "            df_dict['descricao_objeto'].append(np.nan)\n",
    "\n",
    "df = pd.DataFrame.from_dict(dict([ (k,pd.Series(v,dtype=pd.StringDtype())) for k,v in df_dict.items() ]))\n",
    "df.to_csv('linha_tempo.csv')\n",
    "df"
   ]
  },
  {
   "cell_type": "code",
   "execution_count": null,
   "metadata": {},
   "outputs": [],
   "source": []
  }
 ]
}