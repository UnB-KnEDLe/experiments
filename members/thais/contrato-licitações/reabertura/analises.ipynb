{
 "cells": [
  {
   "cell_type": "markdown",
   "metadata": {},
   "source": [
    "# Aviso Reabertura Licitações"
   ]
  },
  {
   "cell_type": "markdown",
   "metadata": {},
   "source": [
    "Para essa análise foram usados 10 DODFs e 13 Atos. Eles podem ser encontrados [aqui](https://github.com/UnB-KnEDLe/experiments/blob/master/members/thais)."
   ]
  },
  {
   "cell_type": "markdown",
   "metadata": {},
   "source": [
    "### Obrigatórios:\n",
    "\n",
    "- ORGAO\n",
    "- AVISO\n",
    "- MODALIDADE LICITATORIA\n",
    "- PROCESSO\n",
    "- OBJETO"
   ]
  },
  {
   "cell_type": "markdown",
   "metadata": {},
   "source": [
    "### Não-Obrigatórios:\n",
    "\n",
    "- VALOR ESTIMADO\n",
    "- TIPO\n",
    "- DATA RECEBIMENTO DAS PROPOSTAS\n",
    "- DATA ABERTURA DAS PROPOSTAS\n",
    "- RECURSO ORÇAMENTARIO\n",
    "- UNIDADE ORÇAMENTARIA\n",
    "- FONTE DE RECURSOS\n",
    "- FUNÇAO\n",
    "- PROGRAMA DE TRABALHO\n",
    "- SUBTITULO\n",
    "- SUBPROGRAMA\n",
    "- ELEMENTO DE DESPESA\n",
    "- LOCAL\n",
    "- TOTAL ITENS\n",
    "- ENQUADRAMENTO"
   ]
  },
  {
   "cell_type": "markdown",
   "metadata": {},
   "source": [
    "## ORGAO\n"
   ]
  },
  {
   "cell_type": "markdown",
   "metadata": {},
   "source": [
    "### Exemplos:"
   ]
  },
  {
   "cell_type": "markdown",
   "metadata": {},
   "source": [
    "POLÍCIA MILITAR DO DISTRITO FEDERAL"
   ]
  },
  {
   "cell_type": "markdown",
   "metadata": {},
   "source": [
    "CÂMARA LEGISLATIVA DO DISTRITO FEDERAL"
   ]
  },
  {
   "cell_type": "markdown",
   "metadata": {},
   "source": [
    "CORPO DE BOMBEIROS MILITAR DO DISTRITO FEDERAL"
   ]
  },
  {
   "cell_type": "markdown",
   "metadata": {},
   "source": [
    "SUBSECRETARIA DE ADMINISTRAÇÃO GERAL"
   ]
  },
  {
   "cell_type": "markdown",
   "metadata": {},
   "source": [
    "SUBSECRETARIA DE LICITAÇÕES E COMPRAS"
   ]
  },
  {
   "cell_type": "markdown",
   "metadata": {},
   "source": [
    "CORPO DE BOMBEIROS MILITAR SUBCOMANDO GERAL \n"
   ]
  },
  {
   "cell_type": "markdown",
   "metadata": {},
   "source": [
    "TRIBUNAL DE CONTAS"
   ]
  },
  {
   "cell_type": "markdown",
   "metadata": {},
   "source": [
    "DIRETORIA DE AQUISIÇÕES CENTRAL DE COMPRAS"
   ]
  },
  {
   "cell_type": "markdown",
   "metadata": {},
   "source": [
    "## AVISO"
   ]
  },
  {
   "cell_type": "markdown",
   "metadata": {},
   "source": [
    "### Exemplos:\n"
   ]
  },
  {
   "cell_type": "markdown",
   "metadata": {},
   "source": [
    "AVISO DE REABERTURA LICITAÇÃO"
   ]
  },
  {
   "cell_type": "markdown",
   "metadata": {},
   "source": [
    "AVISO DE REABERTURA DE LICITAÇÃO EXCLUSIVA"
   ]
  },
  {
   "cell_type": "markdown",
   "metadata": {},
   "source": [
    "AVISO DE REABERTURA – LICITAÇÃO EXCLUSIVA"
   ]
  },
  {
   "cell_type": "markdown",
   "metadata": {},
   "source": [
    "AVISO DE LICITAÇÃO – NOVA ABERTURA"
   ]
  },
  {
   "cell_type": "markdown",
   "metadata": {},
   "source": [
    "AVISO DE REABERTURA"
   ]
  },
  {
   "cell_type": "markdown",
   "metadata": {},
   "source": [
    "### MODALIDADE LICITATORIA"
   ]
  },
  {
   "cell_type": "markdown",
   "metadata": {},
   "source": [
    "Nessas amostras foram encontradas apenas modalidade licitatória do tipo **PREGÃO ELETRÔNICO**. Acompanha um número."
   ]
  },
  {
   "cell_type": "markdown",
   "metadata": {},
   "source": [
    "### Exemplos:"
   ]
  },
  {
   "cell_type": "markdown",
   "metadata": {},
   "source": [
    "- Nº 20/2020\n",
    "- Nº 28/2015\n",
    "- Nº 31/2015\n",
    "- Nº 26/2014\n",
    "- 02/2014-SEDHAB \n",
    "- SRP Nº 263/2012\n",
    "- Nº 01/2013\n",
    "- Nº 500/2011\n",
    "- Nº 07/2021"
   ]
  },
  {
   "cell_type": "markdown",
   "metadata": {},
   "source": [
    "### PROCESSO"
   ]
  },
  {
   "cell_type": "markdown",
   "metadata": {},
   "source": [
    "Número em série que identifica o processo. Pode vir acompanhado da palavra **processo** ou como **Pro-cesso**, no ínicio ou no meio do ato."
   ]
  },
  {
   "cell_type": "markdown",
   "metadata": {},
   "source": [
    "### Exemplos:"
   ]
  },
  {
   "cell_type": "markdown",
   "metadata": {},
   "source": [
    "00054-00018174/2020-91"
   ]
  },
  {
   "cell_type": "markdown",
   "metadata": {},
   "source": [
    "001-001.759/2015"
   ]
  },
  {
   "cell_type": "markdown",
   "metadata": {},
   "source": [
    "001-001639/2015"
   ]
  },
  {
   "cell_type": "markdown",
   "metadata": {},
   "source": [
    "053.000.967/2014/CBMDF"
   ]
  },
  {
   "cell_type": "markdown",
   "metadata": {},
   "source": [
    "390.000.457/2013"
   ]
  },
  {
   "cell_type": "markdown",
   "metadata": {},
   "source": [
    "060.005.813/2012"
   ]
  },
  {
   "cell_type": "markdown",
   "metadata": {},
   "source": [
    "390.000.614/2012"
   ]
  },
  {
   "cell_type": "markdown",
   "metadata": {},
   "source": [
    "020.002.097/2010"
   ]
  },
  {
   "cell_type": "markdown",
   "metadata": {},
   "source": [
    "00001-00010995/2020-41"
   ]
  },
  {
   "cell_type": "markdown",
   "metadata": {},
   "source": [
    "00053-00063193/2019-67/CBMDF"
   ]
  },
  {
   "cell_type": "markdown",
   "metadata": {},
   "source": [
    "24/2020"
   ]
  },
  {
   "cell_type": "markdown",
   "metadata": {},
   "source": [
    "10/2020"
   ]
  },
  {
   "cell_type": "markdown",
   "metadata": {},
   "source": [
    "210/2020"
   ]
  },
  {
   "cell_type": "markdown",
   "metadata": {},
   "source": [
    "### OBJETO"
   ]
  },
  {
   "cell_type": "markdown",
   "metadata": {},
   "source": [
    "Breve descrição do serviço prestado e a empresa que irá fornecer o serviço."
   ]
  },
  {
   "cell_type": "markdown",
   "metadata": {},
   "source": [
    "### Exemplos:"
   ]
  },
  {
   "cell_type": "markdown",
   "metadata": {},
   "source": [
    "Contratação   de   empresa   do   ramo   de   engenharia/arquitetura  para  prestação  de  Serviços  Técnicos  Profissionais  Especializados  visando  a  ELABORAÇÃO  DE  PROJETOS  E  ESTUDOS  TÉCNICOS  com  modelagem  em  software  BIM  (building  information  modeling),  conforme  especificações  e  condições  estabelecidas  no  termo  de  referência  constante  do  Anexo  I  do  Edital."
   ]
  },
  {
   "cell_type": "markdown",
   "metadata": {},
   "source": [
    "Fornecimento diário de água mineral para a Câmara Legis-lativa do Distrito Federal – CLDF no exercício de 2016, de acordo com as especificações e quan-titativos constantes do Termo de Referência – Anexo I do Edital. "
   ]
  },
  {
   "cell_type": "markdown",
   "metadata": {},
   "source": [
    "Contratação  de  serviços  de  manutenção  preventiva  e  corretiva em 12 (doze) servidores IBM System X, integrantes da infraestrutura computacional da Câmara Legislativa do Distrito Federal - CLDF,  conforme condições, quantidades e especi-ficações constantes do Termo de Referência - Anexo I do Edital."
   ]
  },
  {
   "cell_type": "markdown",
   "metadata": {},
   "source": [
    "Aquisição de servi-dores de rede pra o data center do CBMDF, conforme Edital e anexos. "
   ]
  },
  {
   "cell_type": "markdown",
   "metadata": {},
   "source": [
    "Contratação de empresa especializada para na prestação de serviço de manutenção pre-ventiva e corretiva com insumos para veículo, para a Secretaria de Estado de Habitação, Regularização  e  Desenvolvimento  Urbano  do  Distrito  Federal"
   ]
  },
  {
   "cell_type": "markdown",
   "metadata": {},
   "source": [
    "Registro de Preços, válido pelo prazo de até 12 meses, para eventual aquisição de material médico hospitalar para as Unida-des de Saúde da Secretaria de Estado de Saúde do Distrito Federal, conforme especificações e condições estabelecidas no Termo de Referência constante do Anexo I do Edital. "
   ]
  },
  {
   "cell_type": "markdown",
   "metadata": {},
   "source": [
    "Aquisição de material de expediente (papel e fita datadora). "
   ]
  },
  {
   "cell_type": "markdown",
   "metadata": {},
   "source": [
    "Aquisição  de  material  de  Informática  (Software,\n",
    "Tipo  Programa:  Solução  de  backup/restore para ambiente corporativo, instalada, acompanhada de licenças e trei-namento)  conforme  condições  e  especificações  constantes  dos  Anexos  deste  Edital."
   ]
  },
  {
   "cell_type": "markdown",
   "metadata": {},
   "source": [
    " Contratação  de  empresa  especializada  naprestação de serviços de apoio administrativo, por meio de recepcionistas, por posto e sobdemanda,  necessários  ao  funcionamento  dos  diferentes  segmentos  organizacionais  da Câmara  Legislativa  do  Distrito  Federal,  de  acordo  com  as  condições  e  especificações constantes  do  Termo  de  Referência  –  Anexo  I  do  Edital. "
   ]
  },
  {
   "cell_type": "markdown",
   "metadata": {},
   "source": [
    "Contratação  de  empresa  especializada  para  construção  da  edificação  do  Anexo  II  do Quartel   do   Comando   Geral   do   CBMDF,   conforme   Edital   e   anexos."
   ]
  },
  {
   "cell_type": "markdown",
   "metadata": {},
   "source": [
    "Contratação  de  empresa  especializada  para  execução  de  serviços  contínuos  e  sob  demanda  de  limpeza,  conservação  e  higienização  com  fornecimento  de  materiais  e  equipamentos, nos edifícios do Tribunal de Contas do Distrito Federal – TCDF."
   ]
  },
  {
   "cell_type": "markdown",
   "metadata": {},
   "source": [
    "Aquisição de resinas odontológicas de diversos tipos para uso na Policlínica Odontológica do  CBMDF,  conforme  Edital  e  anexos."
   ]
  },
  {
   "cell_type": "markdown",
   "metadata": {},
   "source": [
    "Aquisição  de  material  médico  hospitalar  FIO  DE  SUTURA  e  outros,  em  sistema  de  registro  de  preços,  para  atender  a  demanda  da  Secretaria  de  Saúde  –  DF,  conformeespecificações  e  quantitativos  constantes  no  Anexo  I  do  Edital.  "
   ]
  },
  {
   "cell_type": "markdown",
   "metadata": {},
   "source": [
    "### VALOR ESTIMADO"
   ]
  },
  {
   "cell_type": "markdown",
   "metadata": {},
   "source": [
    "Valor estimado do serviço prestado, pode vir como **valor estimado**, **valor máximo** ou **valor**. O valor pode vir acompanhado pelo valor por extenso, pode não ser acompanhado de R$."
   ]
  },
  {
   "cell_type": "markdown",
   "metadata": {},
   "source": [
    "### Exemplos:"
   ]
  },
  {
   "cell_type": "markdown",
   "metadata": {},
   "source": [
    "R$  1.158.555,31  (um  milhão,  cento  e  cinquenta  e  oito  mil,  quinhentos  e  cinquenta  e  cinco  reais  e  trinta  e  um  centavos)"
   ]
  },
  {
   "cell_type": "markdown",
   "metadata": {},
   "source": [
    "R$ 40.480,00 (quarenta mil, quatrocentos e oitenta reais)"
   ]
  },
  {
   "cell_type": "markdown",
   "metadata": {},
   "source": [
    "R$ 36.720,00 (trinta e seis mil, setecentos e vinte reais)"
   ]
  },
  {
   "cell_type": "markdown",
   "metadata": {},
   "source": [
    "R$ 956.875,00"
   ]
  },
  {
   "cell_type": "markdown",
   "metadata": {},
   "source": [
    "R$ 31.035,73 (Trinta e um mil e trinta e cinco reais e setenta e três centavos)"
   ]
  },
  {
   "cell_type": "markdown",
   "metadata": {},
   "source": [
    "43.578.450,28"
   ]
  },
  {
   "cell_type": "markdown",
   "metadata": {},
   "source": [
    "R$  488.112,96"
   ]
  },
  {
   "cell_type": "markdown",
   "metadata": {},
   "source": [
    "R$ 32.737.621,44"
   ]
  },
  {
   "cell_type": "markdown",
   "metadata": {},
   "source": [
    "R$   3.563.216,88"
   ]
  },
  {
   "cell_type": "markdown",
   "metadata": {},
   "source": [
    "R$  117.601,3800"
   ]
  },
  {
   "cell_type": "markdown",
   "metadata": {},
   "source": [
    "### TIPO"
   ]
  },
  {
   "cell_type": "markdown",
   "metadata": {},
   "source": [
    "### Exemplos:"
   ]
  },
  {
   "cell_type": "markdown",
   "metadata": {},
   "source": [
    "menor preço"
   ]
  },
  {
   "cell_type": "markdown",
   "metadata": {},
   "source": [
    "menor preço global (licitação exclusiva)"
   ]
  },
  {
   "cell_type": "markdown",
   "metadata": {},
   "source": [
    "menor preço global"
   ]
  },
  {
   "cell_type": "markdown",
   "metadata": {},
   "source": [
    "### DATA "
   ]
  },
  {
   "cell_type": "markdown",
   "metadata": {},
   "source": [
    "Pode estar como **recebimento das propostas, entrega das Propostas** ou **Data da sessão**. Pode vir indicado por **data, a partir de, às, até às, dia:**"
   ]
  },
  {
   "cell_type": "markdown",
   "metadata": {},
   "source": [
    "### Exemplos:"
   ]
  },
  {
   "cell_type": "markdown",
   "metadata": {},
   "source": [
    "06 de janeiro 2012 as 09:00hs"
   ]
  },
  {
   "cell_type": "markdown",
   "metadata": {},
   "source": [
    "até às 09h59 do dia 09/05/2013"
   ]
  },
  {
   "cell_type": "markdown",
   "metadata": {},
   "source": [
    "a partir de 25/04/2013 às 08h "
   ]
  },
  {
   "cell_type": "markdown",
   "metadata": {},
   "source": [
    "para o dia 03/12/2015 às 13:30h"
   ]
  },
  {
   "cell_type": "markdown",
   "metadata": {},
   "source": [
    "às 9h30min do dia 8 de dezembro de 2015"
   ]
  },
  {
   "cell_type": "markdown",
   "metadata": {},
   "source": [
    "às 09:30 horas do dia 03 de dezembro de 2015"
   ]
  },
  {
   "cell_type": "markdown",
   "metadata": {},
   "source": [
    "Dia: 05/05/2020 às 14h (horário de Brasília/DF)"
   ]
  },
  {
   "cell_type": "markdown",
   "metadata": {},
   "source": [
    "31/03/2021,   às   09:30"
   ]
  },
  {
   "cell_type": "markdown",
   "metadata": {},
   "source": [
    "03/09/2020, às 14h30min"
   ]
  },
  {
   "cell_type": "markdown",
   "metadata": {},
   "source": [
    "a partir de 09/02/2021"
   ]
  },
  {
   "cell_type": "markdown",
   "metadata": {},
   "source": [
    "### DATA ABERTURA DAS PROPOSTAS"
   ]
  },
  {
   "cell_type": "markdown",
   "metadata": {},
   "source": [
    "### Exemplos:"
   ]
  },
  {
   "cell_type": "markdown",
   "metadata": {},
   "source": [
    "08/05/2013 às 09hs"
   ]
  },
  {
   "cell_type": "markdown",
   "metadata": {},
   "source": [
    "23/02/2021, às 09 horas"
   ]
  },
  {
   "cell_type": "markdown",
   "metadata": {},
   "source": [
    "### RECURSO ORÇAMENTARIO"
   ]
  },
  {
   "cell_type": "markdown",
   "metadata": {},
   "source": [
    "Dentro de RECURSO ORÇAMENTARIO pode vir **FONTE DE RECURSOS, FUNÇAO, PROGRAMA** e **SUBPROGRAMA**."
   ]
  },
  {
   "cell_type": "markdown",
   "metadata": {},
   "source": [
    "### FONTE DE RECURSOS"
   ]
  },
  {
   "cell_type": "markdown",
   "metadata": {},
   "source": [
    "### Exemplos:"
   ]
  },
  {
   "cell_type": "markdown",
   "metadata": {},
   "source": [
    "Fonte 100 FCDF"
   ]
  },
  {
   "cell_type": "markdown",
   "metadata": {},
   "source": [
    "100"
   ]
  },
  {
   "cell_type": "markdown",
   "metadata": {},
   "source": [
    "100  FCDF"
   ]
  },
  {
   "cell_type": "markdown",
   "metadata": {},
   "source": [
    "### FUNÇAO"
   ]
  },
  {
   "cell_type": "markdown",
   "metadata": {},
   "source": [
    "### Exemplos:"
   ]
  },
  {
   "cell_type": "markdown",
   "metadata": {},
   "source": [
    "Função   28"
   ]
  },
  {
   "cell_type": "markdown",
   "metadata": {},
   "source": [
    "### PROGRAMA"
   ]
  },
  {
   "cell_type": "markdown",
   "metadata": {},
   "source": [
    "### Exemplos:"
   ]
  },
  {
   "cell_type": "markdown",
   "metadata": {},
   "source": [
    "Programa   845"
   ]
  },
  {
   "cell_type": "markdown",
   "metadata": {},
   "source": [
    "28.845.0903.00NR.0053"
   ]
  },
  {
   "cell_type": "markdown",
   "metadata": {},
   "source": [
    "### SUBPROGRAMA"
   ]
  },
  {
   "cell_type": "markdown",
   "metadata": {},
   "source": [
    "### Exemplos:"
   ]
  },
  {
   "cell_type": "markdown",
   "metadata": {},
   "source": [
    "Subprograma   0903"
   ]
  },
  {
   "cell_type": "markdown",
   "metadata": {},
   "source": [
    "### UNIDADE ORÇAMENTARIA"
   ]
  },
  {
   "cell_type": "markdown",
   "metadata": {},
   "source": [
    "### Exemplos:"
   ]
  },
  {
   "cell_type": "markdown",
   "metadata": {},
   "source": [
    "01101"
   ]
  },
  {
   "cell_type": "markdown",
   "metadata": {},
   "source": [
    "### PROGRAMA DE TRABALHO"
   ]
  },
  {
   "cell_type": "markdown",
   "metadata": {},
   "source": [
    "### Exemplos:"
   ]
  },
  {
   "cell_type": "markdown",
   "metadata": {},
   "source": [
    "0112260058517"
   ]
  },
  {
   "cell_type": "markdown",
   "metadata": {},
   "source": [
    "### SUBTITULO"
   ]
  },
  {
   "cell_type": "markdown",
   "metadata": {},
   "source": [
    "0065: Câmara Legislativa Do Distrito Federal - Plano Piloto"
   ]
  },
  {
   "cell_type": "markdown",
   "metadata": {},
   "source": [
    "2627: Gestão da Informação e dos Sistemas de Tecnologia da Informação – Câmara Legislativa do Distrito Federal – Plano Piloto"
   ]
  },
  {
   "cell_type": "markdown",
   "metadata": {},
   "source": [
    "### SUBPROGRAMA"
   ]
  },
  {
   "cell_type": "markdown",
   "metadata": {},
   "source": [
    "### Exemplos:"
   ]
  },
  {
   "cell_type": "markdown",
   "metadata": {},
   "source": [
    "Subprograma 0903"
   ]
  },
  {
   "cell_type": "markdown",
   "metadata": {},
   "source": [
    "### ELEMENTO DE DESPESA"
   ]
  },
  {
   "cell_type": "markdown",
   "metadata": {},
   "source": [
    "### Exemplos:"
   ]
  },
  {
   "cell_type": "markdown",
   "metadata": {},
   "source": [
    "33.90.39"
   ]
  },
  {
   "cell_type": "markdown",
   "metadata": {},
   "source": [
    "3390-30"
   ]
  },
  {
   "cell_type": "markdown",
   "metadata": {},
   "source": [
    "3390-39"
   ]
  },
  {
   "cell_type": "markdown",
   "metadata": {},
   "source": [
    "### LOCAL"
   ]
  },
  {
   "cell_type": "markdown",
   "metadata": {},
   "source": [
    "Pode vir depois de **endereço**."
   ]
  },
  {
   "cell_type": "markdown",
   "metadata": {},
   "source": [
    "### Exemplos:"
   ]
  },
  {
   "cell_type": "markdown",
   "metadata": {},
   "source": [
    "SCS Quadra 6 Lote 13/14, Edifício SEDHAB, 3º andar - Brasília/DF"
   ]
  },
  {
   "cell_type": "markdown",
   "metadata": {},
   "source": [
    " site: www.comprasnet.gov.br"
   ]
  },
  {
   "cell_type": "markdown",
   "metadata": {},
   "source": [
    "COMPRASNET (procedência: sala da  CPL,  localizada  no  Edifício  Sede  da  CLDF,  Eixo  Monumental,  Praça  Municipal,  Quadra  02, Lote 05, Térreo Inferior, em Brasília/DF)"
   ]
  },
  {
   "cell_type": "markdown",
   "metadata": {},
   "source": [
    "COMPRAS GOVERNAMENTAIS (procedência:  sala  da  CPL,  localizada  no  Edifício  Sede  da  CLDF,  Eixo  Monumental,  Praça  Municipal, Quadra 02, Lote 05, Térreo Inferior, em Brasília/DF)"
   ]
  },
  {
   "cell_type": "markdown",
   "metadata": {},
   "source": [
    "Internet,   no   endereço www.comprasnet.gov.br"
   ]
  },
  {
   "cell_type": "markdown",
   "metadata": {},
   "source": [
    "### TOTAL DE ITENS"
   ]
  },
  {
   "cell_type": "markdown",
   "metadata": {},
   "source": [
    "Pode vir após **total de itens licitados**."
   ]
  },
  {
   "cell_type": "markdown",
   "metadata": {},
   "source": [
    "### Exemplos:"
   ]
  },
  {
   "cell_type": "markdown",
   "metadata": {},
   "source": [
    "Total de 59 itens"
   ]
  },
  {
   "cell_type": "markdown",
   "metadata": {},
   "source": [
    "02 (dois)"
   ]
  },
  {
   "cell_type": "markdown",
   "metadata": {},
   "source": [
    "03  itens"
   ]
  },
  {
   "cell_type": "markdown",
   "metadata": {},
   "source": [
    "### ENQUADRAMENTO"
   ]
  },
  {
   "cell_type": "markdown",
   "metadata": {},
   "source": [
    "### Exemplos:"
   ]
  },
  {
   "cell_type": "markdown",
   "metadata": {},
   "source": [
    "3.3.90.37.02  –  Locação  de  Mão  de  Obra;  "
   ]
  },
  {
   "cell_type": "markdown",
   "metadata": {},
   "source": [
    "3.3.90.39.78  –  Outros  Serviços  de  Terceiros   -   PJ;  "
   ]
  },
  {
   "cell_type": "markdown",
   "metadata": {},
   "source": [
    "3.3.90.30.22   –   Material   de   Consumo; "
   ]
  },
  {
   "cell_type": "code",
   "execution_count": null,
   "metadata": {},
   "outputs": [],
   "source": []
  }
 ],
 "metadata": {
  "kernelspec": {
   "display_name": "Python 3",
   "language": "python",
   "name": "python3"
  },
  "language_info": {
   "codemirror_mode": {
    "name": "ipython",
    "version": 3
   },
   "file_extension": ".py",
   "mimetype": "text/x-python",
   "name": "python",
   "nbconvert_exporter": "python",
   "pygments_lexer": "ipython3",
   "version": "3.8.5"
  }
 },
 "nbformat": 4,
 "nbformat_minor": 4
}
