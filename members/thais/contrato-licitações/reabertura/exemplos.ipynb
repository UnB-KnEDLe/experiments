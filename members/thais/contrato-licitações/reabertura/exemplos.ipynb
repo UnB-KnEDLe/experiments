{
 "cells": [
  {
   "cell_type": "markdown",
   "metadata": {},
   "source": [
    "# Aviso Reabertura Licitações"
   ]
  },
  {
   "cell_type": "markdown",
   "metadata": {},
   "source": [
    "## Documentos:\n",
    "### 1 - [DODF - 074](https://www.dodf.df.gov.br/index/visualizar-arquivo/?pasta=2020/04_Abril/DODF%20074%2020-04-2020&arquivo=DODF%20074%2020-04-2020%20INTEGRA.pdf)\n",
    "\n",
    "### 2 - [DODF - 223](https://www.dodf.df.gov.br/index/visualizar-arquivo/?pasta=2015/11_Novembro/DODF%20223%2020-11-2015&arquivo=DODF%20223%2020-11-2015%20SECAO3.pdf)\n",
    "\n",
    "### 3 - [DODF - 060](https://www.dodf.df.gov.br/index/visualizar-arquivo/?pasta=2014/03_Mar%C3%A7o/DODF%20060%2025-03-2014&arquivo=DODF%20060%2025-03-2014%20SECAO3.pdf)\n",
    "\n",
    "### 4 - [DODF - 085](https://www.dodf.df.gov.br/index/visualizar-arquivo/?pasta=2013/04_Abril/DODF%20085%2025-04-2013&arquivo=DODF%20085%2025-04-2013%20SECAO3.pdf)\n",
    "\n",
    "### 5 - [DODF - 247](https://www.dodf.df.gov.br/index/visualizar-arquivo/?pasta=2011/12_Dezembro/DODF%20247%2027-12-2011&arquivo=DODF%20247%2027-12-2011%20SECAO3.pdf)\n"
   ]
  },
  {
   "cell_type": "markdown",
   "metadata": {},
   "source": [
    "## Documento 1"
   ]
  },
  {
   "cell_type": "markdown",
   "metadata": {},
   "source": [
    "### Ato:"
   ]
  },
  {
   "cell_type": "markdown",
   "metadata": {},
   "source": [
    "POLÍCIA MILITAR DO DISTRITO FEDERAL\n",
    "DEPARTAMENTO DE LOGÍSTICA E FINANÇAS\n",
    "\n",
    "AVISO DE REABERTURA LICITAÇÃO\n",
    "PREGÃO ELETRÔNICO Nº 20/2020\n",
    "Processo:   00054-00018174/2020-91.   \n",
    "Objeto:   Contratação   de   empresa   do   ramo   de   engenharia/arquitetura  para  prestação  de  Serviços  Técnicos  Profissionais  Especializados  visando  a  ELABORAÇÃO  DE  PROJETOS  E  ESTUDOS  TÉCNICOS  com  modelagem  em  software  BIM  (building  information  modeling),  conforme  especificações  e  condições  estabelecidas  no  termo  de  referência  constante  do  Anexo  I  do  Edital.  \n",
    "Valor  estimado:  R$  1.158.555,31  (um  milhão,  cento  e  cinquenta  e  oito  mil,  quinhentos  e  cinquenta  e  cinco  reais  e  trinta  e  um  centavos).  \n",
    "Tipo:  menor  preço.  \n",
    "Data  limite  para  recebimento  das  propostas: Dia: 05/05/2020 às 14h (horário de Brasília/DF). \n",
    "Recurso Orçamentário: Fonte 100   FCDF,   Função   28,   Programa   845,   Subprograma   0903,   \n",
    "Elemento   de   Despesa:   33.90.39.  \n",
    "\n",
    "Cópia  do  Edital  se  encontra  no  sítio  www.comprasgovernamentais.gov.br  e  em  www.pm.df.gov.br. UASG: 926016. Informações: 3190-5557.Brasília/DF, 17 de abril de 2020STÉFANO ENES LOBÃOOrdenador de Despesas"
   ]
  },
  {
   "cell_type": "markdown",
   "metadata": {},
   "source": [
    "### Padrões:"
   ]
  },
  {
   "cell_type": "markdown",
   "metadata": {},
   "source": [
    "ORGAO\n",
    "AVISO\n",
    "MODALIDADE LICITATORIA\n",
    "PROCESSO\n",
    "OBJETO\n",
    "VALOR ESTIMADO\n",
    "TIPO\n",
    "DATA RECEBIMENTO DAS PROPOSTAS\n",
    "RECURSO ORÇAMENTARIO\n",
    "FONTE DE RECURSOS\n",
    "FUNÇÃO\n",
    "PROGRAMA DE TRABALHO\n",
    "SUBPROGRAMA\n",
    "ELEMENTO DE DESPESA"
   ]
  },
  {
   "cell_type": "markdown",
   "metadata": {},
   "source": [
    "## Documento 2"
   ]
  },
  {
   "cell_type": "markdown",
   "metadata": {},
   "source": [
    "### Ato:"
   ]
  },
  {
   "cell_type": "markdown",
   "metadata": {},
   "source": [
    "CÂMARA LEGISLATIVA DO DISTRITO FEDERAL\n",
    "\n",
    "AVISO DE REABERTURA DE LICITAÇÃO EXCLUSIVA\n",
    "PREGÃO ELETRÔNICO Nº 28/2015.\n",
    "Processo: 001-001.759/2015. \n",
    "Objeto: Fornecimento diário de água mineral para a Câmara Legis-lativa do Distrito Federal – CLDF no exercício de 2016, de acordo com as especificações e quan-titativos constantes do Termo de Referência – Anexo I do Edital. Valor estimado: R$ 40.480,00 (quarenta mil, quatrocentos e oitenta reais).\n",
    "Data e horário para recebimento das propostas: às 09:30 horas do dia 03 de dezembro de 2015. \n",
    "Local da sessão: COMPRAS GOVERNAMENTAIS (procedência:  sala  da  CPL,  localizada  no  Edifício  Sede  da  CLDF,  Eixo  Monumental,  Praça  Municipal, Quadra 02, Lote 05, Térreo Inferior, em Brasília/DF). \n",
    "Tipo: menor preço. \n",
    "Unidade Orçamentária: 01101; \n",
    "Fonte de Recursos: 100; \n",
    "Programa de Trabalho: 0112260058517 - Ma-nutenção de Serviços Administrativos Gerais; \n",
    "Subtítulo: 0065: Câmara Legislativa Do Distrito Federal - Plano Piloto; \n",
    "Elemento de Despesa:  3390-30 “Material de Consumo”. \n",
    "\n",
    "O respectivo edital  poderá  ser  retirado  nos  endereços  eletrônicos:  www.comprasgovernamentais.gov.br  (UASG: 974004) ou www.cl.df.gov.br. Maiores informações pelos telefones (61) 3348-8651; 3348-8650 ou 3348-8652.Brasília/DF, 19 de novembro de 2015.KALINCKA DE GRAMONT FREITASPregoeira"
   ]
  },
  {
   "cell_type": "markdown",
   "metadata": {},
   "source": [
    "### Padrões:"
   ]
  },
  {
   "cell_type": "markdown",
   "metadata": {},
   "source": [
    "ORGAO\n",
    "AVISO\n",
    "MODALIDADE LICITATORIA\n",
    "PROCESSO\n",
    "OBJETO\n",
    "VALOR ESTIMADO\n",
    "DATA RECEBIMENTO DAS PROPOSTAS\n",
    "LOCAL SESSAO\n",
    "TIPO\n",
    "UNIDADE ORÇAMENTARIA\n",
    "FONTE DE RECURSOS\n",
    "PROGRAMA DE TRABALHO\n",
    "SUBTITULO\n",
    "ELEMENTO DE DESPESA"
   ]
  },
  {
   "cell_type": "markdown",
   "metadata": {},
   "source": [
    "### Ato:"
   ]
  },
  {
   "cell_type": "markdown",
   "metadata": {},
   "source": [
    "CÂMARA LEGISLATIVA DO DISTRITO FEDERAL\n",
    "\n",
    "AVISO DE REABERTURA – LICITAÇÃO EXCLUSIVA\n",
    "PREGÃO ELETRÔNICO Nº 31/2015\n",
    "Processo:  001-001639/2015.  \n",
    "Objeto:  Contratação  de  serviços  de  manutenção  preventiva  e  corretiva em 12 (doze) servidores IBM System X, integrantes da infraestrutura computacional da Câmara Legislativa do Distrito Federal - CLDF,  conforme condições, quantidades e especi-ficações constantes do Termo de Referência - Anexo I do Edital. \n",
    "Valor estimado: R$ 36.720,00 (trinta e seis mil, setecentos e vinte reais). \n",
    "Data e horário para recebimento das propostas: às 9h30min do dia 8 de dezembro de 2015. \n",
    "Local da sessão: COMPRASNET (procedência: sala da  CPL,  localizada  no  Edifício  Sede  da  CLDF,  Eixo  Monumental,  Praça  Municipal,  Quadra  02, Lote 05, Térreo Inferior, em Brasília/DF). Tipo: menor preço global (Licitação Exclusiva). \n",
    "Unidade Orçamentária: 01101; \n",
    "Fonte de Recursos: 100; \n",
    "Programa de Trabalho: 0112660052557 – Gestão da Informação e dos Sistemas de Tecnologia da Informação; \n",
    "Subtítulo: 2627: Gestão da Informação e dos Sistemas de Tecnologia da Informação – Câmara Legislativa do Distrito Federal – Plano Piloto; \n",
    "Elemento de Despesa: 3390-39: Outros Serviços de Terceiros – Pessoa Jurídica. \n",
    "\n",
    "O respectivo Edital poderá ser retirado nos endereços eletrônicos: www.comprasgover-namentais.gov.br (UASG: 974004) ou www.cl.df.gov.br. Maiores informações pelos telefones (61) 3348-8651; 3348-8650 ou 3348-8652.Brasília/DF, 19 de novembro de 2015.GUILHERME TAPAJÓS TÁVORAPregoeiro"
   ]
  },
  {
   "cell_type": "markdown",
   "metadata": {},
   "source": [
    "### Padrões:"
   ]
  },
  {
   "cell_type": "markdown",
   "metadata": {},
   "source": [
    "ORGAO\n",
    "AVISO\n",
    "MODALIDADE LICITATORIA\n",
    "PROCESSO\n",
    "OBJETO\n",
    "VALOR ESTIMADO\n",
    "DATA RECEBIMENTO DAS PROPOSTAS\n",
    "LOCAL SESSAO\n",
    "UNIDADE ORÇAMENTARIA\n",
    "FONTE DE RECURSOS\n",
    "PROGRAMA DE TRABALHO\n",
    "SUBTITULO\n",
    "ELEMENTO DE DESPESA"
   ]
  },
  {
   "cell_type": "markdown",
   "metadata": {},
   "source": [
    "### Ato:"
   ]
  },
  {
   "cell_type": "markdown",
   "metadata": {},
   "source": [
    "CORPO DE BOMBEIROS MILITAR DO DISTRITO FEDERAL\n",
    "\n",
    "AVISO DE LICITAÇÃO – NOVA ABERTURA\n",
    "PREGÃO ELETRÔNICO Nº 26/2014.\n",
    "PROCESSO: 053.000.967/2014/CBMDF. \n",
    "TIPO: Menor preço. \n",
    "OBJETO: Aquisição de servi-dores de rede pra o data center do CBMDF, conforme Edital e anexos. \n",
    "VALOR MÁXIMO DA CONTRATAÇÃO: R$ 956.875,00. \n",
    "O DICOA informa a NOVA ABERTURA da licitação publi-cado no DODF Nº 254 e DOU Nº 235 ambos de 04/12/2014, para o dia 03/12/2015 às 13:30h. \n",
    "LOCAL: site: www.comprasnet.gov.br. \n",
    "\n",
    "RETIRADA DO EDITAL pela internet, nos sites www.cbm.df.gov.br e www.comprasnet.gov.br. UASG: 170394. Inf.: (61) 3901-3481. Jorge Martins Rodrigues de Oliveira – Diretor."
   ]
  },
  {
   "cell_type": "markdown",
   "metadata": {},
   "source": [
    "### Padrões:"
   ]
  },
  {
   "cell_type": "markdown",
   "metadata": {},
   "source": [
    "ORGAO\n",
    "AVISO\n",
    "MODALIDADE LICITATORIA\n",
    "PROCESSO\n",
    "TIPO\n",
    "OBJETO\n",
    "VALOR ESTIMADO\n",
    "DATA RECEBIMENTO DAS PROPOSTAS\n",
    "LOCAL"
   ]
  },
  {
   "cell_type": "markdown",
   "metadata": {},
   "source": [
    "## Documento 3"
   ]
  },
  {
   "cell_type": "markdown",
   "metadata": {},
   "source": [
    "### Ato:"
   ]
  },
  {
   "cell_type": "markdown",
   "metadata": {},
   "source": [
    "SUBSECRETARIA DE ADMINISTRAÇÃO GERAL\n",
    "COMISSÃO PERMANENTE DE LICITAÇÃO\n",
    "\n",
    "AVISO DE REABERTURA AVISO DE REABERTURA LICITAÇÃO \n",
    "PREGÃO ELETRÔNICO Nº 02/2014-SEDHAB \n",
    "Processo 390.000.457/2013. \n",
    "UASG: 926209. \n",
    "Informo a quem possa interessar a reaber-tura da fase de aceitação referente ao Item 02 do PE 02/2014, após a desclassificação da Empresa M. R. S. DA ROCHA – ME, em julgamento de recurso, \n",
    "objeto da licitação: Contratação de empresa especializada para na prestação de serviço de manutenção pre-ventiva e corretiva com insumos para veículo, para a Secretaria de Estado de Habitação, Regularização  e  Desenvolvimento  Urbano  do  Distrito  Federal,  \n",
    "\n",
    "maiores  Informações:  Comissão Permanente de Licitações, telefone: 0xx(61) 3214.4131. Brasília/DF, 24 de março de 2014.ADRIANO GUEDES"
   ]
  },
  {
   "cell_type": "markdown",
   "metadata": {},
   "source": [
    "### Padrões:"
   ]
  },
  {
   "cell_type": "markdown",
   "metadata": {},
   "source": [
    "ORGAO\n",
    "AVISO\n",
    "MODALIDADE LICITATORIA\n",
    "PROCESSO\n",
    "OBJETO"
   ]
  },
  {
   "cell_type": "markdown",
   "metadata": {},
   "source": [
    "## Documento 4"
   ]
  },
  {
   "cell_type": "markdown",
   "metadata": {},
   "source": [
    "### Ato:"
   ]
  },
  {
   "cell_type": "markdown",
   "metadata": {},
   "source": [
    "SUBSECRETARIA DE ADMINSTRAÇÃO GERAL\n",
    "\n",
    "AVISO DE REABERTURA \n",
    "PREGÃO ELETRÔNICO POR SRP Nº 263/2012.\n",
    "Comunicamos a reabertura da licitação supracitada. \n",
    "Objeto: Registro de Preços, válido pelo prazo de até 12 meses, para eventual aquisição de material médico hospitalar para as Unida-des de Saúde da Secretaria de Estado de Saúde do Distrito Federal, conforme especificações e condições estabelecidas no Termo de Referência constante do Anexo I do Edital. \n",
    "Pro-cesso 060.005.813/2012. \n",
    "Total de 59 itens. \n",
    "Valor Total Estimado 43.578.450,28. \n",
    "Edital: 25/04/2013 de 08h às 12h e de 14h às 17h. \n",
    "Entrega das Propostas: a partir de 25/04/2013 às 08h no site www.comprasnet.gov.br. \n",
    "Abertura das Propostas: 08/05/2013 às 09hs no site www.comprasnet.gov.br. \n",
    "\n",
    "Informações Gerais: O Edital encontra-se disponibilizado sem ônus, no sítio: www.comprasnet.gov.br ou com ônus, no endereço: SAIN – Setor de Áreas Isoladas Norte – Parque Rural s/nº - Asa Norte – Bloco “A”, 1° andar, sala 83/124, Central de Compras da SUAG/SES, CEP 70770-200, Brasília/DF. JANET GOMES DOS SANTOS ALENCARPregoeira"
   ]
  },
  {
   "cell_type": "markdown",
   "metadata": {},
   "source": [
    "### Padrões:"
   ]
  },
  {
   "cell_type": "markdown",
   "metadata": {},
   "source": [
    "ORGAO\n",
    "AVISO\n",
    "MODALIDADE LICITATORIA\n",
    "OBJETO\n",
    "PROCESSO\n",
    "VALOR ESTIMADO\n",
    "DATA RECEBIMENTO DAS PROPOSTAS\n",
    "DATA ABERTURA DAS PROPOSTAS"
   ]
  },
  {
   "cell_type": "markdown",
   "metadata": {},
   "source": [
    "### Ato:"
   ]
  },
  {
   "cell_type": "markdown",
   "metadata": {},
   "source": [
    "SUBSECRETARIA DE ADMINISTRAÇÃO GERAL\n",
    "\n",
    "AVISO DE REABERTURA LICITAÇÃO \n",
    "PREGÃO ELETRÔNICO Nº 01/2013. \n",
    "Processo 390.000.614/2012. \n",
    "UASG: 926209. \n",
    "Objeto: Aquisição de material de expediente (papel e fita datadora). \n",
    "Total de Itens Licitados: 02 (dois). \n",
    "Valor estimado: R$ 31.035,73 (Trinta e um mil e trinta e cinco reais e setenta e três centavos) \n",
    "Endereço: SCS Quadra 6 Lote 13/14, Edifício SEDHAB, 3º andar - Brasília/DF. \n",
    "Data e horário para recebimento das Propostas até às 09h59 do dia 09/05/2013. \n",
    "\n",
    "O respectivo Edital poderá ser retirado a partir do dia 25/04/2013 no endereço eletrônico http://www.comprasnet.gov.br. Informações: Comissão Permanente de Licitações, telefone: 0xx(61) 3214.4131. Brasília/DF, 24 de abril de 2013. ADRIANO GUEDES Pregoeiro"
   ]
  },
  {
   "cell_type": "markdown",
   "metadata": {},
   "source": [
    "### Padrões:"
   ]
  },
  {
   "cell_type": "markdown",
   "metadata": {},
   "source": [
    "ORGAO\n",
    "AVISO\n",
    "MODALIDADE LICITATORIA\n",
    "PROCESSO\n",
    "OBJETO\n",
    "TOTAL ITENS\n",
    "VALOR ESTIMADO\n",
    "LOCAL\n",
    "DATA RECEBIMENTO DAS PROPOSTAS"
   ]
  },
  {
   "cell_type": "markdown",
   "metadata": {},
   "source": [
    "## Documento 5"
   ]
  },
  {
   "cell_type": "markdown",
   "metadata": {},
   "source": [
    "### Ato:"
   ]
  },
  {
   "cell_type": "markdown",
   "metadata": {},
   "source": [
    "SUBSECRETARIA DE LICITAÇÕES E COMPRAS\n",
    "\n",
    "AVISO DE REABERTURA LICITAÇÃO\n",
    "PREGÃO ELETRÔNICO Nº 500/2011.\n",
    "Objeto:  Aquisição  de  material  de  Informática  (Software,\n",
    "Tipo  Programa:  Solução  de  backup/restore para ambiente corporativo, instalada, acompanhada de licenças e trei-namento)  conforme  condições  e  especificações  constantes  dos  Anexos  deste  Edital.  \n",
    "Data e horário para recebimento das propostas: 06 de janeiro 2012 as 09:00hs, processo 020.002.097/2010. \n",
    "\n",
    "O respectivo edital poderá ser retirado exclusivamente no endereço eletrônico:  www.compras.df.gov.brhttp://www.compras.df.gov.br/.  Informações  pelo  telefone 0xx(61) 3312.5275.Brasília/DF, 26 de dezembro de 2011.Augusto César Pires AranhaPregoeiro"
   ]
  },
  {
   "cell_type": "markdown",
   "metadata": {},
   "source": [
    "### Padrões:"
   ]
  },
  {
   "cell_type": "markdown",
   "metadata": {},
   "source": [
    "ORGAO\n",
    "AVISO\n",
    "MODALIDADE LICITATORIA\n",
    "OBJETO\n",
    "TIPO\n",
    "DATA DE RECEBIMENTO DAS PROPOSTAS\n",
    "PROCESSO"
   ]
  }
 ],
 "metadata": {
  "kernelspec": {
   "display_name": "Python 3",
   "language": "python",
   "name": "python3"
  },
  "language_info": {
   "codemirror_mode": {
    "name": "ipython",
    "version": 3
   },
   "file_extension": ".py",
   "mimetype": "text/x-python",
   "name": "python",
   "nbconvert_exporter": "python",
   "pygments_lexer": "ipython3",
   "version": "3.8.5"
  }
 },
 "nbformat": 4,
 "nbformat_minor": 4
}
