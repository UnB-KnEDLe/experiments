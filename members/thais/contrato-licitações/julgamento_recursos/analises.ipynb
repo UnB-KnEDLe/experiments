{
 "cells": [
  {
   "cell_type": "markdown",
   "metadata": {},
   "source": [
    "# Análise - Julgamento de recursos"
   ]
  },
  {
   "cell_type": "markdown",
   "metadata": {},
   "source": [
    "Para essa análise foram usados 7 DODFs e 9 Atos. Eles podem ser encontrados [aqui](https://github.com/UnB-KnEDLe/experiments/members/thais/contrato-licitações/julgamento_recursos/exemplos.ipynb)."
   ]
  },
  {
   "cell_type": "markdown",
   "metadata": {},
   "source": [
    "### Obrigatórios:\n",
    "\n",
    "- ORGAO\n",
    "- DESCRIÇAO OBJETO\n",
    "- SIGLA LICITANTE\n",
    "- PROCESSO\n",
    "- CONCORRENCIA\n",
    "- STATUS\n",
    "- EMPRESA\n",
    "- COMISSAO"
   ]
  },
  {
   "cell_type": "markdown",
   "metadata": {},
   "source": [
    "### Não-Obrigatórios:\n",
    "\n",
    "- FUNDAMENTO LEGAL\n",
    "- MOTIVO\n",
    "- DODF\n",
    "- DATA ABERTURA\n",
    "- DATA SESSAO\n",
    "- LOCAL SESSAO\n",
    "- SIMBOLO\n",
    "- VALOR\n"
   ]
  },
  {
   "cell_type": "markdown",
   "metadata": {},
   "source": [
    "## ORGAO\n"
   ]
  },
  {
   "cell_type": "markdown",
   "metadata": {},
   "source": [
    "### Exemplos:"
   ]
  },
  {
   "cell_type": "markdown",
   "metadata": {},
   "source": [
    "POLÍCIA MILITAR DO DISTRITO FEDERAL"
   ]
  },
  {
   "cell_type": "markdown",
   "metadata": {},
   "source": [
    "CÂMARA LEGISLATIVA DO DISTRITO FEDERAL"
   ]
  },
  {
   "cell_type": "markdown",
   "metadata": {},
   "source": [
    "CORPO DE BOMBEIROS MILITAR DO DISTRITO FEDERAL"
   ]
  },
  {
   "cell_type": "markdown",
   "metadata": {},
   "source": [
    "SUBSECRETARIA DE ADMINISTRAÇÃO GERAL"
   ]
  },
  {
   "cell_type": "markdown",
   "metadata": {},
   "source": [
    "SUBSECRETARIA DE LICITAÇÕES E COMPRAS"
   ]
  },
  {
   "cell_type": "markdown",
   "metadata": {},
   "source": [
    "CORPO DE BOMBEIROS MILITAR SUBCOMANDO GERAL \n"
   ]
  },
  {
   "cell_type": "markdown",
   "metadata": {},
   "source": [
    "TRIBUNAL DE CONTAS"
   ]
  },
  {
   "cell_type": "markdown",
   "metadata": {},
   "source": [
    "DIRETORIA DE AQUISIÇÕES CENTRAL DE COMPRAS"
   ]
  },
  {
   "cell_type": "markdown",
   "metadata": {},
   "source": [
    "## DESCRIÇAO OBJETO"
   ]
  },
  {
   "cell_type": "markdown",
   "metadata": {},
   "source": [
    "AVISO DE JULGAMENTO DE RECURSO"
   ]
  },
  {
   "cell_type": "markdown",
   "metadata": {},
   "source": [
    "AVISO DO RESULTADO DO JULGAMENTO DE RECURSOS - PROPOSTAS TÉCNICAS E CONVOCAÇÃO PARA ABERTURA DA TERCEIRA SESSÃO"
   ]
  },
  {
   "cell_type": "markdown",
   "metadata": {},
   "source": [
    "AVISO DO RESULTADO DO JULGAMENTO DE RECURSOS - PROPOSTAS DE PREÇOS CONCORRÊNCIA"
   ]
  },
  {
   "cell_type": "markdown",
   "metadata": {},
   "source": [
    "### SIGLA LICITANTE"
   ]
  },
  {
   "cell_type": "markdown",
   "metadata": {},
   "source": [
    "### Exemplos:"
   ]
  },
  {
   "cell_type": "markdown",
   "metadata": {},
   "source": [
    "- DECOMP/DA\n",
    "- ASCAL/PRES\n",
    "- DILIC/DECOMP/DA\n",
    "- SECOM-DF"
   ]
  },
  {
   "cell_type": "markdown",
   "metadata": {},
   "source": [
    "### PROCESSO"
   ]
  },
  {
   "cell_type": "markdown",
   "metadata": {},
   "source": [
    "Número em série que identifica o processo. Pode vir acompanhado da palavra **processo** ou como **Pro-cesso**, no ínicio ou no meio do ato."
   ]
  },
  {
   "cell_type": "markdown",
   "metadata": {},
   "source": [
    "### Exemplos:"
   ]
  },
  {
   "cell_type": "markdown",
   "metadata": {},
   "source": [
    "00054-00018174/2020-91"
   ]
  },
  {
   "cell_type": "markdown",
   "metadata": {},
   "source": [
    "001-001.759/2015"
   ]
  },
  {
   "cell_type": "markdown",
   "metadata": {},
   "source": [
    "001-001639/2015"
   ]
  },
  {
   "cell_type": "markdown",
   "metadata": {},
   "source": [
    "053.000.967/2014/CBMDF"
   ]
  },
  {
   "cell_type": "markdown",
   "metadata": {},
   "source": [
    "390.000.457/2013"
   ]
  },
  {
   "cell_type": "markdown",
   "metadata": {},
   "source": [
    "060.005.813/2012"
   ]
  },
  {
   "cell_type": "markdown",
   "metadata": {},
   "source": [
    "390.000.614/2012"
   ]
  },
  {
   "cell_type": "markdown",
   "metadata": {},
   "source": [
    "020.002.097/2010"
   ]
  },
  {
   "cell_type": "markdown",
   "metadata": {},
   "source": [
    "00001-00010995/2020-41"
   ]
  },
  {
   "cell_type": "markdown",
   "metadata": {},
   "source": [
    "00053-00063193/2019-67/CBMDF"
   ]
  },
  {
   "cell_type": "markdown",
   "metadata": {},
   "source": [
    "24/2020"
   ]
  },
  {
   "cell_type": "markdown",
   "metadata": {},
   "source": [
    "10/2020"
   ]
  },
  {
   "cell_type": "markdown",
   "metadata": {},
   "source": [
    "210/2020"
   ]
  },
  {
   "cell_type": "markdown",
   "metadata": {},
   "source": [
    "### CONCORRENCIA"
   ]
  },
  {
   "cell_type": "markdown",
   "metadata": {},
   "source": [
    "### Exemplos:"
   ]
  },
  {
   "cell_type": "markdown",
   "metadata": {},
   "source": [
    "- Nº 02/2019\n",
    "- Nº 01/2020A \n",
    "- nº 003/2020\n",
    "- nº 003/2019\n",
    "- nº 008/2020\n",
    "- nº 015/2020\n",
    "- nº 016/2020\n",
    "- nº 006/2020\n",
    "- nº  007/2020"
   ]
  },
  {
   "cell_type": "markdown",
   "metadata": {},
   "source": [
    "### STATUS"
   ]
  },
  {
   "cell_type": "markdown",
   "metadata": {},
   "source": [
    "### Exemplos:"
   ]
  },
  {
   "cell_type": "markdown",
   "metadata": {},
   "source": [
    "inabilitada(o)"
   ]
  },
  {
   "cell_type": "markdown",
   "metadata": {},
   "source": [
    "inabilitadas(os)"
   ]
  },
  {
   "cell_type": "markdown",
   "metadata": {},
   "source": [
    "inabilitada/desclassificada"
   ]
  },
  {
   "cell_type": "markdown",
   "metadata": {},
   "source": [
    "### EMPRESA"
   ]
  },
  {
   "cell_type": "markdown",
   "metadata": {},
   "source": [
    "### Exemplos:"
   ]
  },
  {
   "cell_type": "markdown",
   "metadata": {},
   "source": [
    "ENDEAL ENGENHARIA E CONSTRUÇÕES LTDA e VIA ENGENHARIA S.A"
   ]
  },
  {
   "cell_type": "markdown",
   "metadata": {},
   "source": [
    "ESFERAS   CONSTRUÇÕES   E   EMPREENDIMENTOS   LTDA"
   ]
  },
  {
   "cell_type": "markdown",
   "metadata": {},
   "source": [
    "CENTRAL    ENGENHARIA    ECONTRUTORA  LTDA"
   ]
  },
  {
   "cell_type": "markdown",
   "metadata": {},
   "source": [
    "### COMISSAO"
   ]
  },
  {
   "cell_type": "markdown",
   "metadata": {},
   "source": [
    "Comissão  Permanente  de  Licitação  da NOVACAP"
   ]
  },
  {
   "cell_type": "markdown",
   "metadata": {},
   "source": [
    "Comissão    Especial    de    Licitação-CEL-SECOM/DF"
   ]
  },
  {
   "cell_type": "markdown",
   "metadata": {},
   "source": [
    "Comissão   Especial   de   Licitação-CEL/SECOM"
   ]
  },
  {
   "cell_type": "markdown",
   "metadata": {},
   "source": [
    "### FUNDAMENTO LEGAL"
   ]
  },
  {
   "cell_type": "markdown",
   "metadata": {},
   "source": [
    "### Exemplos:"
   ]
  },
  {
   "cell_type": "markdown",
   "metadata": {},
   "source": [
    "art.  109  §  4º  da  Lei  Federal  n.º  8.666/93 "
   ]
  },
  {
   "cell_type": "markdown",
   "metadata": {},
   "source": [
    "### MOTIVO"
   ]
  },
  {
   "cell_type": "markdown",
   "metadata": {},
   "source": [
    "### Exemplos:"
   ]
  },
  {
   "cell_type": "markdown",
   "metadata": {},
   "source": [
    "por  não  atender  ao subitem   7.1.3,   alínea   “c”   do   Instrumento   Convocatório"
   ]
  },
  {
   "cell_type": "markdown",
   "metadata": {},
   "source": [
    "### DODF"
   ]
  },
  {
   "cell_type": "markdown",
   "metadata": {},
   "source": [
    "### Exemplos:"
   ]
  },
  {
   "cell_type": "markdown",
   "metadata": {},
   "source": [
    "DODF  nº  16,  página  77,  do  dia  25  de  janeiro  de  2021"
   ]
  },
  {
   "cell_type": "markdown",
   "metadata": {},
   "source": [
    " DODF  nº  173  –  página  83,  de  11/09/2020"
   ]
  },
  {
   "cell_type": "markdown",
   "metadata": {},
   "source": [
    "DODF  n.º  233,  de  9  de  dezembro  de  2019,  página  35"
   ]
  },
  {
   "cell_type": "markdown",
   "metadata": {},
   "source": [
    "DODF  e  DOU  de  11.05.2020"
   ]
  },
  {
   "cell_type": "markdown",
   "metadata": {},
   "source": [
    "### DATA ABERTURA"
   ]
  },
  {
   "cell_type": "markdown",
   "metadata": {},
   "source": [
    "### Exemplos:"
   ]
  },
  {
   "cell_type": "markdown",
   "metadata": {},
   "source": [
    "10 de fevereiro de 2021 – às 09:00h"
   ]
  },
  {
   "cell_type": "markdown",
   "metadata": {},
   "source": [
    "### DATA SESSAO"
   ]
  },
  {
   "cell_type": "markdown",
   "metadata": {},
   "source": [
    "### Exemplos:"
   ]
  },
  {
   "cell_type": "markdown",
   "metadata": {},
   "source": [
    "14/07/2020"
   ]
  },
  {
   "cell_type": "markdown",
   "metadata": {},
   "source": [
    "11.11.2020  (quarta-feira)"
   ]
  },
  {
   "cell_type": "markdown",
   "metadata": {},
   "source": [
    "### LOCAL SESSAO"
   ]
  },
  {
   "cell_type": "markdown",
   "metadata": {},
   "source": [
    "### Exemplos:"
   ]
  },
  {
   "cell_type": "markdown",
   "metadata": {},
   "source": [
    "Edifício   Anexo   do   Palácio   do   Buriti,   16º   andar,   sala   1610/D   -   Brasília/DF"
   ]
  },
  {
   "cell_type": "markdown",
   "metadata": {},
   "source": [
    "### SIMBOLO"
   ]
  },
  {
   "cell_type": "markdown",
   "metadata": {},
   "source": [
    "### Exemplos:"
   ]
  },
  {
   "cell_type": "markdown",
   "metadata": {},
   "source": [
    "10-AV"
   ]
  },
  {
   "cell_type": "markdown",
   "metadata": {},
   "source": [
    "### VALOR"
   ]
  },
  {
   "cell_type": "markdown",
   "metadata": {},
   "source": [
    "### Exemplos:"
   ]
  },
  {
   "cell_type": "markdown",
   "metadata": {},
   "source": [
    "R$1.562.759,70"
   ]
  }
 ],
 "metadata": {
  "kernelspec": {
   "display_name": "Python 3",
   "language": "python",
   "name": "python3"
  },
  "language_info": {
   "codemirror_mode": {
    "name": "ipython",
    "version": 3
   },
   "file_extension": ".py",
   "mimetype": "text/x-python",
   "name": "python",
   "nbconvert_exporter": "python",
   "pygments_lexer": "ipython3",
   "version": "3.8.5"
  }
 },
 "nbformat": 4,
 "nbformat_minor": 4
}
