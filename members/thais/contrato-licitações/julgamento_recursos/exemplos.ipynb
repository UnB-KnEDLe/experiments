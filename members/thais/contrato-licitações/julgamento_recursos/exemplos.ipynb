{
 "cells": [
  {
   "cell_type": "markdown",
   "metadata": {},
   "source": [
    "# Exemplos - Julgamento de recursos"
   ]
  },
  {
   "cell_type": "markdown",
   "metadata": {},
   "source": [
    "## Documentos:\n",
    "### 1 - [DODF - 004](https://dodf.df.gov.br/index/visualizar-arquivo/?pasta=2021|01_Janeiro|DODF%20004%2007-01-2021|&arquivo=DODF%20004%2007-01-2021%20INTEGRA.pdf)\n",
    "\n",
    "### 2 - [DODF - 024](https://dodf.df.gov.br/index/visualizar-arquivo/?pasta=2021|02_Fevereiro|DODF%20024%2004-02-2021|&arquivo=DODF%20024%2004-02-2021%20INTEGRA.pdf)\n",
    "\n",
    "### 3 - [DODF - 053](https://dodf.df.gov.br/index/visualizar-arquivo/?pasta=2021|03_Mar%C3%A7o|DODF%20053%2019-03-2021|&arquivo=DODF%20053%2019-03-2021%20INTEGRA.pdf)\n",
    "\n",
    "### 4 - [DODF - 237](https://www.dodf.df.gov.br/index/visualizar-arquivo/?pasta=2020/12_Dezembro/DODF%20237%2017-12-2020&arquivo=DODF%20237%2017-12-2020%20INTEGRA.pdf)\n",
    "\n",
    "### 5 - [DODF - 214](https://www.dodf.df.gov.br/index/visualizar-arquivo/?pasta=2020/11_Novembro/DODF%20214%2012-11-2020&arquivo=DODF%20214%2012-11-2020%20INTEGRA.pdf)\n",
    "\n",
    "### 6 - [DODF - 211](https://www.dodf.df.gov.br/index/visualizar-arquivo/?pasta=2020/11_Novembro/DODF%20211%2009-11-2020&arquivo=DODF%20211%2009-11-2020%20INTEGRA.pdf)\n",
    "\n",
    "### 7 - [DODF - 127](https://www.dodf.df.gov.br/index/visualizar-arquivo/?pasta=2020/07_Julho/DODF%20127%2008-07-2020&arquivo=DODF%20127%2008-07-2020%20INTEGRA.pdf)"
   ]
  },
  {
   "cell_type": "markdown",
   "metadata": {},
   "source": [
    "## Documento 1"
   ]
  },
  {
   "cell_type": "markdown",
   "metadata": {},
   "source": [
    "### Ato:"
   ]
  },
  {
   "cell_type": "markdown",
   "metadata": {},
   "source": [
    "DIRETORIA ADMINISTRATIVA\n",
    "DEPARTAMENTO DE COMPRAS\n",
    "AVISO DE JULGAMENTO DE RECURSO\n",
    "\n",
    "Comunicamos  aos  interessados  na  Tomada  de  Preços  nº  007/2020  –  DECOMP/DA  –\n",
    "processo  nº  00110-00002198/2020-34,  que  a  Comissão  Permanente  de  Licitação  da NOVACAP,  após  análise  do  Recurso  Administrativo  interposto  pelo  CONSÓRCIOSTE/FUTURE   ATP/PRISMA   –   BRT   (formado   pelas   empresas   STE-ServiçosTécnicos  de  Engenharia  S.A,  FUTURE  ATP  Serviços  de  Engenharia  Consultiva  Ltdae  PRISMA  Consultoria  e  Engenharia  Ltda),  decidiu  pelo  provimento  do  mesmo,  para considerar        inabilitado        o        CONSÓRCIO        SUPERVISOR        –        UFC–TECHNE–GERIBELLO,  (composto  pelas  empresas:  UFC  Engenharia  Ltda,  TechneEngenharia  Consultores  Ltda  e  Geribello  Engenharia  Ltda),  por  não  atender  aosubitem   7.1.3,   alínea   “c”   do   Instrumento   Convocatório.   \n",
    "\n",
    "A   documentação   que fundamentou  a  tomada  de  decisão  encontra-se  a  disposição  de  todos  no  endereçoeletrônico   www.novacap.df.gov.br   –   link:   licitações.   Para   informações   ligar   -(0xx61) 3403-2321 ou (0xx61) 3403-2322.Brasília/DF, 06 de janeiro de 2021SÍLVIO ROMERO C. GOMESChefe, Respondendo"
   ]
  },
  {
   "cell_type": "markdown",
   "metadata": {},
   "source": [
    "### Padrões: "
   ]
  },
  {
   "cell_type": "markdown",
   "metadata": {},
   "source": [
    "- ORGAO\n",
    "- DESCRIÇAO OBJETO\n",
    "- CONCORRENCIA\n",
    "- SIGLA LICITANTE\n",
    "- PROCESSO\n",
    "- COMISSAO\n",
    "- EMPRESA\n",
    "- STATUS\n",
    "- MOTIVO\n"
   ]
  },
  {
   "cell_type": "markdown",
   "metadata": {},
   "source": [
    "## Documento 2\n"
   ]
  },
  {
   "cell_type": "markdown",
   "metadata": {},
   "source": [
    "### Ato:"
   ]
  },
  {
   "cell_type": "markdown",
   "metadata": {},
   "source": [
    "COMPANHIA URBANIZADORA DA NOVA CAPITAL DO BRASIL\n",
    "AVISO DE JULGAMENTO DE RECURSO\n",
    "\n",
    "Comunicamos  aos  interessados  na  Concorrência  nº  006/2020  –  3ª  versão  -  DECOMP/DA–  processo  nº  00112-00001818/2020-61,  que  a  Comissão  Permanente  de  Licitação  da NOVACAP,  após  análises  e  submetidos  ao  Diretor  Presidente  da  Companhia  os  RecursosAdministrativos  interpostos,  decidiu  pelo  improvimento  dos  recursos  administrativos  dasempresas   Construtora   Concretiza   Eireli,   COMBRASEN   -   Companhia   Brasileira   deSoluções  em  Engenharia  Ltda  e  GCE  S/A,  para  manter  as  recorrentes  inabilitadas  no presente certame. Diante do exposto, fica designada a data de 10 de fevereiro de 2021 – às09:00h,  para  abertura  das  propostas  de  preços  das  concorrentes  habilitadas  na  licitação.  \n",
    "\n",
    "A documentação que fundamentou a tomada de decisão encontra-se à disposição de todos noendereço  eletrônico  www.novacap.df.gov.br  –  link:  licitações.  Para  informações  ligar  -(0xx61) 3403-2321 ou (0xx61) 3403-2322.Brasília/DF, 03 de fevereiro de 2021SHIRLEY DE FARIA SOARES DE CARVALHOChefe"
   ]
  },
  {
   "cell_type": "markdown",
   "metadata": {},
   "source": [
    "### Padrões:"
   ]
  },
  {
   "cell_type": "markdown",
   "metadata": {},
   "source": [
    "- ORGAO\n",
    "- DESCRIÇAO OBJETO\n",
    "- CONCORRENCIA\n",
    "- SIGLA LICITANTE\n",
    "- PROCESSO\n",
    "- COMISSAO\n",
    "- STATUS\n",
    "- EMPRESA\n",
    "- DATA ABERTURA"
   ]
  },
  {
   "cell_type": "markdown",
   "metadata": {},
   "source": [
    "## Documento 3"
   ]
  },
  {
   "cell_type": "markdown",
   "metadata": {},
   "source": [
    "### Ato:"
   ]
  },
  {
   "cell_type": "markdown",
   "metadata": {},
   "source": [
    "COMPANHIA URBANIZADORA DA NOVA CAPITAL DO BRASIL \n",
    "DIRETORIA ADMINISTRATIVA DEPARTAMENTO DE COMPRAS \n",
    "AVISO DE JULGAMENTO DE RECURSO\n",
    "\n",
    "Comunicamos  aos  interessados  no  Procedimento  Licitatório  Eletrônico  nº  016/2020  –DECOMP/DA  -  processo  nº  00112-00023131/2019-43  –  Lote  01,  que  a  Comissão Permanente   de   Licitação   da   NOVACAP,   após   análise   e   submetido   ao   Diretor Presidente   da   Companhia   o   Recurso   Administrativo   interposto,   decidiu   pelo PROVIMENTO  PARCIAL  do  recurso  da  empresa  TVA  CONSTRUÇÃO  EIRELI, para  dar  provimento  ao  pedido  de  desclassificação  da  empresa  Central  Engenharia  e Construtora  Ltda  e  negar  provimento  ao  pedido  para  ser  declarada  classificada  aempresa  TVA  Construção  EIRELI,  mantendo  a  desclassificação  da  recorrente  no certame  e  declarando  nova  arrematante  para  o  pleito.  Fica  sem  efeito  a  Declaração de Vencedor do Lote 01 a empresa Central Engenharia e Construtora Ltda, publicadono  DODF  nº  16,  página  77,  do  dia  25  de  janeiro  de  2021.  O  certame  seguirá  o  cursonatural  até  o  ato  administrativo  anterior  a  homologação,  na  forma  do  DespachoSingular  nº  049/2021  –  GCMM,  Inciso  II,  do  Tribunal  de  Contas  do  Distrito  Federal–  TCDF.  \n",
    "\n",
    "As  documentações  que  fundamentaram  a  tomada  de  decisão  encontram-se  adisposição     de     todos     no     endereço     eletrônico     www.licitacoes-e.com.br     ewww.novacap.df.gov.br  –  link:  licitações.  Para  maiores  informações  ligar  para  otelefone (0xx61) 3403-2321 ou (0xx61) 3403-2322.Brasília/DF, 18 de março de 2021SHIRLEY DE FARIA SOARES DE CARVALHOChefe"
   ]
  },
  {
   "cell_type": "markdown",
   "metadata": {},
   "source": [
    "### Padrões:"
   ]
  },
  {
   "cell_type": "markdown",
   "metadata": {},
   "source": [
    "- ORGAO\n",
    "- DESCRIÇAO OBJETO\n",
    "- CONCORRENCIA\n",
    "- PROCESSO\n",
    "- COMISSAO\n",
    "- STATUS\n",
    "- EMPRESA\n",
    "- DODF"
   ]
  },
  {
   "cell_type": "markdown",
   "metadata": {},
   "source": [
    "## Documento 4"
   ]
  },
  {
   "cell_type": "markdown",
   "metadata": {},
   "source": [
    "### Ato:"
   ]
  },
  {
   "cell_type": "markdown",
   "metadata": {},
   "source": [
    "COMPANHIA URBANIZADORA DA NOVA CAPITAL DO BRASIL \n",
    "DIRETORIA ADMINISTRATIVA DEPARTAMENTO DE COMPRAS\n",
    "AVISOS DE JULGAMENTO DE RECURSOS\n",
    "\n",
    "Comunicamos  aos  interessados  na  Concorrência  nº  015/2020  –  DECOMP/DA  –  processonº  00110-00001782/2020-72,  que,  a  Comissão  Permanente  de  Licitação  da  NOVACAP,após   análises   e   submetidos   ao   Diretor   Presidente   da   Companhia   os   Recursos Administrativos   interpostos,   decidiu   pelo   indeferimento   ao   recurso   administrativointerposto  pelas  recorrentes  PENTAG  Engenharia  Ltda  e  Consórcio  HÉLIO  PRATES(formado   pelas   empresas   CONSTRUTEQ   CONSTRUÇÕES   TERRAPLANAGEM   eCOMÉRCIO    DE    EQUIPAMENTOS    EIRELLI    e    CENTRAL    ENGENHARIA    ECONSTRUTORA   LTDA)   e   deferimento   do   recurso   administrativo   interposto   pela empresa SOBRADO CONSTRUÇÃO LTDA, tornando-a habilitada.\n",
    "\n",
    "A documentação que fundamentou   a   tomada   de   decisão   encontra-se   a   disposição   de   todos   no   endereçoeletrônico www.novacap.df.gov.br – link: licitações."
   ]
  },
  {
   "cell_type": "markdown",
   "metadata": {},
   "source": [
    "### Padrões:"
   ]
  },
  {
   "cell_type": "markdown",
   "metadata": {},
   "source": [
    "- ORGAO\n",
    "- DESCRIÇAO OBJETO\n",
    "- CONCORRENCIA\n",
    "- SIGLA LICITANTE\n",
    "- PROCESSO\n",
    "- COMISSAO\n",
    "- STATUS\n",
    "- EMPRESA"
   ]
  },
  {
   "cell_type": "markdown",
   "metadata": {},
   "source": [
    "### Ato:"
   ]
  },
  {
   "cell_type": "markdown",
   "metadata": {},
   "source": [
    "COMPANHIA URBANIZADORA DA NOVA CAPITAL DO BRASIL \n",
    "DIRETORIA ADMINISTRATIVA DEPARTAMENTO DE COMPRAS\n",
    "AVISOS DE JULGAMENTO DE RECURSOS\n",
    "\n",
    "Comunicamos  aos  interessados  no  Procedimento  Licitatório  Eletrônico  nº  008/2020  –DECOMP/DA  –  processo  nº  00112-00032151/2018-24,  que,  a  Comissão  Permanente  de Licitação da NOVACAP, após análise e submetido ao Diretor Presidente da Companhia oRecurso    Administrativo    interposto    pela    empresa    CENTRAL    ENGENHARIA    ECONTRUTORA  LTDA,  decidiu  pelo  improvimento  do  mesmo,  para  manter  a  recorrente inabilitada/desclassificada  no  certame.  A  documentação  que  fundamentou  a  tomada  dedecisão  encontra-se  a  disposição  de  todos  no  endereço  eletrônico  www.novacap.df.gov.br– link: licitações e no licitacoes-e do Bando do Brasil S/A. Para maiores informações ligarpara o telefone (0xx61) 3403-2321 ou (0xx61) 3403-2322.Brasília/DF, 15 de dezembro de 2020SHIRLEY DE FARIA SOARES DE CARVALHOChefe"
   ]
  },
  {
   "cell_type": "markdown",
   "metadata": {},
   "source": [
    "### Padrões:"
   ]
  },
  {
   "cell_type": "markdown",
   "metadata": {},
   "source": [
    "- ORGAO\n",
    "- DESCRIÇAO OBJETO\n",
    "- CONCORRENCIA\n",
    "- SIGLA LICITANTE\n",
    "- PROCESSO\n",
    "- COMISSAO\n",
    "- EMPRESA\n",
    "- STATUS"
   ]
  },
  {
   "cell_type": "markdown",
   "metadata": {},
   "source": [
    "### Ato:"
   ]
  },
  {
   "cell_type": "markdown",
   "metadata": {},
   "source": [
    "COMPANHIA URBANIZADORA DA NOVA CAPITAL DO BRASIL\n",
    "DIRETORIA ADMINISTRATIVA DEPARTAMENTO DE COMPRAS\n",
    "AVISO DE JULGAMENTO DE RECURSO \n",
    "\n",
    "Comunicamos  aos  interessados  na  Tomada  de  Preços  nº  003/2019  –  ASCAL/PRES  –processo  nº  00110-00002073/2019-71,  que,  a  Comissão  Permanente  de  Licitação  daNOVACAP,  após  análise  e  submetido  ao  Diretor  Presidente  da  Companhia  os  Recursos Administrativos   da   SFERAS   CONSTRUÇÕES   E   EMPREENDIMENTOS   LTDA,decidiu  negar  provimento  aos  mesmos,  mantendo  o  julgamento  da  Ata  da  Sessão  Públicado   dia   14/07/2020,   que   julgou   vencedora   do   certame   a   C.Q.O   CONSTRUTORAQUEIROZ  OLIVEIRA  LTDA  –  CNPJ  06.224.599/0001-23,  com  o  valor  total  de  R$1.562.759,70. \n",
    "\n",
    "A  documentação  que  fundamentou  a  tomada  de  decisão  encontra-se  adisposição de todos no endereço eletrônico www.novacap.df.gov.br – link: licitações. Parainformações ligar - (0xx61) 3403-2321 ou (0xx61) 3403-2322.Brasília/DF, 08 de dezembro de 2020SHIRLEY DE FARIA SOARES DE CARVALHOChefe"
   ]
  },
  {
   "cell_type": "markdown",
   "metadata": {},
   "source": [
    "### Padrões:"
   ]
  },
  {
   "cell_type": "markdown",
   "metadata": {},
   "source": [
    "- ORGAO\n",
    "- DESCRIÇAO OBJETO\n",
    "- CONCORRENCIA\n",
    "- SIGLA LICITANTE\n",
    "- PROCESSO\n",
    "- COMISSAO\n",
    "- STATUS\n",
    "- EMPRESA\n",
    "- DATA SESSAO\n",
    "- VALOR"
   ]
  },
  {
   "cell_type": "markdown",
   "metadata": {},
   "source": [
    "## Documento 5"
   ]
  },
  {
   "cell_type": "markdown",
   "metadata": {},
   "source": [
    "### Ato:"
   ]
  },
  {
   "cell_type": "markdown",
   "metadata": {},
   "source": [
    "COMPANHIA URBANIZADORADA NOVA CAPITAL DO BRASIL\n",
    "DIRETORIA ADMINISTRATIVA DEPARTAMENTO DE COMPRAS\n",
    "AVISO DE JULGAMENTO DE RECURSOS\n",
    "\n",
    "Comunicamos    aos    interessados    na    Concorrência    nº    003/2020    –    2ª    versão    –    DILIC/DECOMP/DA,  que,  a  Comissão  Permanente  de  Licitação  da  NOVACAP,  após  análise  e  submetido  ao  Diretor  Presidente  da  Companhia  os  Recursos  Administrativos  interpostos   pelo   consórcio   OIKOS   –   SH   –   (OIKOS   CONSTRUÇÕES   LTDA/SH   ENGENHARIA E CONSTRUÇÕES LTDA) e pelas empresas ENDEAL ENGENHARIA E CONSTRUÇÕES LTDA e VIA ENGENHARIA S.A, decidiu NEGAR PROVIMENTO ao  Recurso  Administrativo  do  Consórcio  OIKOS  –  SH  –  (OIKOS  CONSTRUÇÕES  LTDA/SH   ENGENHARIA   E   CONSTRUÇÕES   LTDA),   DAR   PROVIMENTO   ao   recurso   da   empresa   ENDEAL   ENGENHARIA   E   CONSTRUÇÕES   LTDA   e   DAR   PARCIAL PROVIMENTO ao recurso da VIA ENGENHARIA S.A, para rerratificar a sua decisão  publicada  no  DODF  nº  173  –  página  83,  de  11/09/2020  e  DOU  nº  176,  página  155,   de   14/09/2020,   considerando   habilitadas   no   certame   as   empresas/consórcios:   ENGEMIL   ENG.,   EMP.   MANUTENÇÃO   E   INSTALAÇÕES   LTDA,   ENDEAL   ENGENHARIA E CONSTRUÇÕES LTDA, CONSÓRCIO CONSTRUÇÃO H.O.B – DF –   (CCB   CONST./ADEMALDO   CONST.E   PROJ/COMSA   S/A),   CONSÓRCIO   ES-SAÚDE   –   (ENGEFORM   ENG.LTDA/SOLUFARMA   DO   BRASIL   ENGENHARIA   LTDA),  AUGUSTO  VELLOSO  ENGENHARIA  S/A  e  VIA  ENGENHARIA  S/A  e  inabilitadas  as  empresas/consórcios:  GCE  S/A,  CONSÓRCIO  RAC/GEL  –  (RAC  ENG.  S/A/GEL    –    GOETZE    ENGENHARIA    LTDA),    TECON    TECNOLOGIA    EM    CONSTRUÇÕES     LTDA,     CONSÓRCIO     HONCO     –     (CONSTRUTORA     LDN     LTDA/PAULO      OCTÁVIO      INVESTIMENTOS      IMOBILIÁRIOS      LTDA)      e      CONSÓRCIO  OIKOS  –  SH  –  (OIKOS  CONSTRUÇÕES  LTDA/SH  ENGENHARIA  E  CONSTRUÇÕES  LTDA).  \n",
    "\n",
    "A  documentação  que  fundamentou  a  tomada  de  decisão  encontra-se  a  disposição  de  todos  no  endereço  eletrônico  www.novacap.df.gov.br  –  link:  licitações.  Diante  do  exposto,  fica  designado  a  data  de  19/11/2020  –  às  09h00min,  para  abertura  das  propostas  de  preços  das  empresas/consórcios  habilitados  no  certame,  a  ser  realizado  na  Sala  de  Licitações  do  DECOMP/DA,  sito  no  Setor  de  Áreas  Públicas,  Lote  “B”,  Bloco  “A”  1º  andar  –  Sede  da  Companhia  em  Brasília  –  DF.  Para  maiores  informações ligar para o telefone (0xx61) 3403-2321 ou (0xx61) 3403-2322.Brasília/DF, 10 de novembro de 2020SHIRLEY DE FARIA SOARES DE CARVALHOChefe"
   ]
  },
  {
   "cell_type": "markdown",
   "metadata": {},
   "source": [
    "### Padrões:"
   ]
  },
  {
   "cell_type": "markdown",
   "metadata": {},
   "source": [
    "- ORGAO\n",
    "- DESCRIÇAO OBJETO\n",
    "- CONCORRENCIA\n",
    "- SIGLA LICITANTE\n",
    "- PROCESSO\n",
    "- COMISSAO\n",
    "- EMPRESA\n",
    "- STATUS\n",
    "- DODF"
   ]
  },
  {
   "cell_type": "markdown",
   "metadata": {},
   "source": [
    "## Documento 6"
   ]
  },
  {
   "cell_type": "markdown",
   "metadata": {},
   "source": [
    "### Ato:"
   ]
  },
  {
   "cell_type": "markdown",
   "metadata": {},
   "source": [
    "COMISSÃO ESPECIAL DE LICITAÇÃO\n",
    "AVISO DO RESULTADO DO JULGAMENTO DE RECURSOS - PROPOSTAS TÉCNICAS E CONVOCAÇÃO PARA ABERTURA DA TERCEIRA SESSÃO CONCORRÊNCIA Nº 01/2020A    \n",
    "\n",
    "Comissão    Especial    de    Licitação-CEL-SECOM/DF,    designada    por    meio    da    Portaria/SECOM-DF  n.  º  72  de  6  de  dezembro  de  2019,  publicada  no  Diário  Oficial  do  Distrito  Federal-DODF  n.º  233,  de  9  de  dezembro  de  2019,  página  35,  no  uso  de  suas  atribuições  e  nos  termos  do  art.  109  §  4º  da  Lei  Federal  n.º  8.666/93  e  nos  itens  19.4  e 21.1  do  edital,  torna  público  aos  interessados  que,  foi  decidido  pela  improcedência  dos  recursos  administrativos  tempestivos  interpostos  pelas  licitantes  10-AV  Comunicação  e  Marketing Ltda e 18-Nova/SB Comunicação Ltda devidamente acolhidos pela Autoridade competente,  mantendo  o  resultado  do  julgamento  das  propostas  técnicas  constante  do  aviso  publicado  Diário  Oficial  do  D https://www.youtube.com/watch?v=MNLGlWk2S2cistrito  Federal-DODF  n.º  194,  de  13  de  outubro  de  2020,  página  46.  A  integra  das  instruções  referentes  ao  julgamento  dos  recursos  acima  citados    encontram-se    à    disposição    dos    interessados    no    endereço    eletrônico:    http://www.comunicacao.df.gov.br/concorrencia-detran/,  podendo  ainda,  serem  acessados  por  meio  do  Processo  n.º:  00055-00068095/2019-60,  devendo  o  interessado  solicitar  acesso  ao  mesmo  no  Sistema  Eletrônico  de  Informações-SEI  por  meio  do  e-mail:  secom.ccpublidetran@buriti.df.gov.br  informando  nome  completo,  razão  social  e  e-mail  para  contato.  A  CEL-SECOM/DF  convoca  as  licitantes  classificadas  no  julgamento  das  propostas  técnicas  para  comparecerem  às  09:00  horas  do  dia  11.11.2020  (quarta-feira)  no  Edifício   Anexo   do   Palácio   do   Buriti,   16º   andar,   sala   1610/D   -   Brasília/DF,   para   participarem da terceira sessão pública com o objetivo de cumprir a pauta estabelecida no subitem  19.4  do  edital  da  Concorrência  nº  01/2020-SECOM/DF.  Tendo  em  vista  as  medidas  de  enfrentamento  do  Covid-19,  será  permitida  a  presença  de  um  representante  por  Agência  durante  a  sessão  pública,  devendo  o  representante  legal  credenciado  e  os  demais presentes utilizarem máscaras, conforme determina o Decreto Distrital n.º 40.648, de  23  de  abril  de  2020.  Demais  informações  poderão  ser  obtidas  na  CEL-SECOM/DF,  situada  na  Praça  do  Buriti,  Anexo  do  Palácio  do  Buriti,  16º  andar,  sala  1610-C  -  Brasília/DF,  telefone:  0xx(61)  3961.1696,  nos  dias  úteis,  de  08:00  às  12:00h  e  das  14:00  às 18:00h. Processo SEI n.º: 00055-00068095/2019-60-Detran/DF.Brasília/DF, 06 de novembro de 2020FABIO PAIXÃO DE AZEVEDOPresidente da Comissão"
   ]
  },
  {
   "cell_type": "markdown",
   "metadata": {},
   "source": [
    "### Padrões:"
   ]
  },
  {
   "cell_type": "markdown",
   "metadata": {},
   "source": [
    "- ORGAO\n",
    "- DESCRIÇAO OBJETO\n",
    "- CONCORRENCIA\n",
    "- COMISSAO\n",
    "- SIGLA LICITANTE\n",
    "- DODF\n",
    "- FUNDAMENTO LEGAL\n",
    "- STATUS\n",
    "- SIMBOLO\n",
    "- EMPRESA\n",
    "- PROCESSO\n",
    "- DATA SESSAO\n",
    "- LOCAL SESSAO"
   ]
  },
  {
   "cell_type": "markdown",
   "metadata": {},
   "source": [
    "## Documento 7"
   ]
  },
  {
   "cell_type": "markdown",
   "metadata": {},
   "source": [
    "### Ato:"
   ]
  },
  {
   "cell_type": "markdown",
   "metadata": {},
   "source": [
    "COMISSÃO ESPECIAL DE LICITAÇÃO\n",
    "AVISO DO RESULTADO DO JULGAMENTO DE RECURSOS - PROPOSTAS DE PREÇOS CONCORRÊNCIA Nº 02/2019\n",
    "\n",
    "Processo:   04000-00000184/2019-12-SECOM/DF.   A   Comissão   Especial   de   Licitação-CEL/SECOM, instituída pela Portaria-SECOM/DF, nº. 29, de 5 de junho de 2019, no uso de  suas  atribuições  e  nos  termos  do  art.  109  §  4º  da  Lei  Federal  n.º  8.666/93  e  nos  itens  18.1 e 19.4 do edital, torna público aos interessados que, foi decidido pela improcedência dos  recursos  administrativos  tempestivos  interpostos  pela  licitante  09-Digital  Consultoria e  Publicidade  Ltda  e  o  recurso  administrativo  tempestivo  interposto  pela  licitante  13-Monumenta  Comunicação  e  Estratégias  Sociais  Ltda,  devidamente  acolhidos  pela  Autoridade  competente,  mantendo  a  decisão  que  declarou  vencedoras  do  certame  as  licitante  Talk  Comunicação  Interativa  Ltda  e  Clara  Serviços  Integrados  de  Vídeo,  Conteúdo  e  Web  Eireli,  conforme  Ata  de  Abertura  da  Quarta  Sessão,  divulgada  por  meio  dos  avisos  publicados  no  DODF  e  DOU  de  11.05.2020  e  disponibilizados  no  portal   da   SECOM/DF.   A   integra   das   instruções   referentes   ao   julgamento   dos   recursos  acima  citados  encontram-se  à  disposição  dos  interessados  no  endereço  eletrônico:       http://www.comunicacao.df.gov.br/concorrencia-02-2019/,       podendo       ainda,  ser  acessadas  por  meio  do  Processo  n.º:  04000-00000184/2019-12,  devendo  o  interessado   solicitar   acesso   ao   mesmo   no   Sistema   SEI   por   meio   do   e-mail   secom.ccdigital@buriti.df.gov.br  informando  nome  completo,  razão  social  e  e-mail.  Demais informações poderão ser obtidas na Secretaria de Estado de Comunicação do Distrito  Federal,  situada  na  Praça  do  Buriti,  Anexo  do  Palácio  do  Buriti,  14º  andar,  sala    1405    -    Brasília/DF    -    CEP:    70.075.900-Brasília-DF,    Telefone:    0xx(61)    3961.4509, nos dias úteis, de 09:00 às 12:00h e das 14:00 às 17:30h.Brasília/DF, 07 de julho de 2020FABIO PAIXÃO DE AZEVEDOPresidente da Comissão\n",
    "    "
   ]
  },
  {
   "cell_type": "markdown",
   "metadata": {},
   "source": [
    "### Padrões:"
   ]
  },
  {
   "cell_type": "markdown",
   "metadata": {},
   "source": [
    "- ORGAO\n",
    "- DESCRIÇAO OBJETO\n",
    "- CONCORRENCIA\n",
    "- PROCESSO\n",
    "- COMISSAO\n",
    "- SIGLA LICITANTE\n",
    "- FUNDAMENTO LEGAL\n",
    "- STATUS\n",
    "- EMPRESA\n",
    "- DODF"
   ]
  },
  {
   "cell_type": "code",
   "execution_count": null,
   "metadata": {},
   "outputs": [],
   "source": []
  }
 ],
 "metadata": {
  "kernelspec": {
   "display_name": "Python 3",
   "language": "python",
   "name": "python3"
  },
  "language_info": {
   "codemirror_mode": {
    "name": "ipython",
    "version": 3
   },
   "file_extension": ".py",
   "mimetype": "text/x-python",
   "name": "python",
   "nbconvert_exporter": "python",
   "pygments_lexer": "ipython3",
   "version": "3.8.5"
  }
 },
 "nbformat": 4,
 "nbformat_minor": 4
}
