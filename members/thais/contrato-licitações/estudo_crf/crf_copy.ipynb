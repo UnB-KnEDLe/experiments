{
 "cells": [
  {
   "cell_type": "markdown",
   "metadata": {},
   "source": [
    "## CRF model with cross validation\n",
    "\n",
    "Modelo CRF para ato de aviso de licitação (com dados rotulados manualmente)"
   ]
  },
  {
   "cell_type": "code",
   "execution_count": 17,
   "metadata": {},
   "outputs": [],
   "source": [
    "# !pip install sklearn_crfsuite\n",
    "# !pip install nltk\n",
    "\n",
    "import pandas as pd\n",
    "import sklearn_crfsuite\n",
    "import nltk\n",
    "from nltk.tokenize import word_tokenize"
   ]
  },
  {
   "cell_type": "code",
   "execution_count": 18,
   "metadata": {},
   "outputs": [],
   "source": [
    "df= pd.read_parquet('iob_aviso_licitacao.parquet')\n",
    "result = pd.DataFrame(df)"
   ]
  },
  {
   "cell_type": "markdown",
   "metadata": {},
   "source": [
    "Load csv with text and labels"
   ]
  },
  {
   "cell_type": "code",
   "execution_count": 19,
   "metadata": {},
   "outputs": [
    {
     "data": {
      "text/plain": [
       "(234, 234)"
      ]
     },
     "execution_count": 19,
     "metadata": {},
     "output_type": "execute_result"
    }
   ],
   "source": [
    "from nltk.tokenize import RegexpTokenizer\n",
    "\n",
    "TOKENIZER = nltk.RegexpTokenizer(r\"\\w+\").tokenize\n",
    "\n",
    "x = []\n",
    "y = []\n",
    "for row in range(len(result)):\n",
    "    if pd.notna(result['treated_text'][row]):\n",
    "        x.append(TOKENIZER(result['treated_text'][row]))\n",
    "        y.append(result['IOB'][row].split())\n",
    "len(x), len(y)"
   ]
  },
  {
   "cell_type": "markdown",
   "metadata": {},
   "source": [
    "Create dictionary feature for each word in each sequence in x"
   ]
  },
  {
   "cell_type": "code",
   "execution_count": 20,
   "metadata": {},
   "outputs": [],
   "source": [
    "def get_features(sentence):\n",
    "        \"\"\"Create features for each word in act.\n",
    "        Create a list of dict of words features to be used in the predictor module.\n",
    "        Args:\n",
    "            act (list): List of words in an act.\n",
    "        Returns:\n",
    "            A list with a dictionary of features for each of the words.\n",
    "        \"\"\"\n",
    "        sent_features = []\n",
    "        for i in range(len(sentence)):\n",
    "            word_feat = {\n",
    "                'word': sentence[i].lower(),\n",
    "                'word[-3:]': sentence[i][-3:],\n",
    "                'word[-2:]': sentence[i][-2:],\n",
    "                'capital_letter': sentence[i][0].isupper(),\n",
    "                'word_istitle': sentence[i].istitle(),\n",
    "                'all_capital': sentence[i].isupper(),\n",
    "                'word_isdigit': sentence[i].isdigit(),\n",
    "                'word_before': '' if i == 0 else sentence[i-1].lower(),\n",
    "                'word_before_isdigit': '' if i == 0 else sentence[i-1].isdigit(),\n",
    "                'word_before_isupper': '' if i == 0 else sentence[i-1].isupper(),\n",
    "                'word_before_istitle': '' if i == 0 else sentence[i-1].istitle(),\n",
    "                'word_after:': '' if i+1 >= len(sentence) else sentence[i+1].lower(),\n",
    "                'word_after_isdigit:': '' if i+1 >= len(sentence) else sentence[i+1].isdigit(),\n",
    "                'word_after_isupper:': '' if i+1 >= len(sentence) else sentence[i+1].isupper(),\n",
    "                'word_after_istitle:': '' if i+1 >= len(sentence) else sentence[i+1].istitle(),\n",
    "                'BOS': i == 0,\n",
    "                'EOS': i == len(sentence)-1\n",
    "            }\n",
    "            sent_features.append(word_feat)\n",
    "        return sent_features\n",
    "    \n",
    "for i in range(len(x)):\n",
    "    x[i] = get_features(x[i])"
   ]
  },
  {
   "cell_type": "markdown",
   "metadata": {},
   "source": [
    "Separate train and test splits (in order)"
   ]
  },
  {
   "cell_type": "code",
   "execution_count": 21,
   "metadata": {},
   "outputs": [
    {
     "data": {
      "text/plain": [
       "(187, 47, 187)"
      ]
     },
     "execution_count": 21,
     "metadata": {},
     "output_type": "execute_result"
    }
   ],
   "source": [
    "import math\n",
    "split_idx = math.floor(0.8*len(x))\n",
    "x_train = x[0:split_idx]\n",
    "y_train = y[0:split_idx]\n",
    "x_test = x[split_idx:]\n",
    "y_test = y[split_idx:]\n",
    "len(x_train),  len(x_test), len(y_train)\n"
   ]
  },
  {
   "cell_type": "code",
   "execution_count": 22,
   "metadata": {},
   "outputs": [
    {
     "name": "stdout",
     "output_type": "stream",
     "text": [
      "Fitting 5 folds for each of 50 candidates, totalling 250 fits\n"
     ]
    },
    {
     "name": "stderr",
     "output_type": "stream",
     "text": [
      "[Parallel(n_jobs=-1)]: Using backend LokyBackend with 8 concurrent workers.\n",
      "/home/thais/Documentos/Knedle/experiments/members/thais/contrato-licitações/estudo_crf/venv/lib/python3.8/site-packages/sklearn/base.py:209: FutureWarning: From version 0.24, get_params will raise an AttributeError if a parameter cannot be retrieved as an instance attribute. Previously it would return None.\n",
      "  warnings.warn('From version 0.24, get_params will raise an '\n",
      "/home/thais/Documentos/Knedle/experiments/members/thais/contrato-licitações/estudo_crf/venv/lib/python3.8/site-packages/sklearn/base.py:209: FutureWarning: From version 0.24, get_params will raise an AttributeError if a parameter cannot be retrieved as an instance attribute. Previously it would return None.\n",
      "  warnings.warn('From version 0.24, get_params will raise an '\n",
      "/home/thais/Documentos/Knedle/experiments/members/thais/contrato-licitações/estudo_crf/venv/lib/python3.8/site-packages/sklearn/base.py:209: FutureWarning: From version 0.24, get_params will raise an AttributeError if a parameter cannot be retrieved as an instance attribute. Previously it would return None.\n",
      "  warnings.warn('From version 0.24, get_params will raise an '\n",
      "/home/thais/Documentos/Knedle/experiments/members/thais/contrato-licitações/estudo_crf/venv/lib/python3.8/site-packages/sklearn/base.py:209: FutureWarning: From version 0.24, get_params will raise an AttributeError if a parameter cannot be retrieved as an instance attribute. Previously it would return None.\n",
      "  warnings.warn('From version 0.24, get_params will raise an '\n",
      "/home/thais/Documentos/Knedle/experiments/members/thais/contrato-licitações/estudo_crf/venv/lib/python3.8/site-packages/sklearn/base.py:209: FutureWarning: From version 0.24, get_params will raise an AttributeError if a parameter cannot be retrieved as an instance attribute. Previously it would return None.\n",
      "  warnings.warn('From version 0.24, get_params will raise an '\n",
      "/home/thais/Documentos/Knedle/experiments/members/thais/contrato-licitações/estudo_crf/venv/lib/python3.8/site-packages/sklearn/base.py:209: FutureWarning: From version 0.24, get_params will raise an AttributeError if a parameter cannot be retrieved as an instance attribute. Previously it would return None.\n",
      "  warnings.warn('From version 0.24, get_params will raise an '\n",
      "/home/thais/Documentos/Knedle/experiments/members/thais/contrato-licitações/estudo_crf/venv/lib/python3.8/site-packages/sklearn/base.py:209: FutureWarning: From version 0.24, get_params will raise an AttributeError if a parameter cannot be retrieved as an instance attribute. Previously it would return None.\n",
      "  warnings.warn('From version 0.24, get_params will raise an '\n",
      "/home/thais/Documentos/Knedle/experiments/members/thais/contrato-licitações/estudo_crf/venv/lib/python3.8/site-packages/sklearn/base.py:209: FutureWarning: From version 0.24, get_params will raise an AttributeError if a parameter cannot be retrieved as an instance attribute. Previously it would return None.\n",
      "  warnings.warn('From version 0.24, get_params will raise an '\n",
      "[Parallel(n_jobs=-1)]: Done  34 tasks      | elapsed:  1.6min\n",
      "[Parallel(n_jobs=-1)]: Done 184 tasks      | elapsed:  7.9min\n",
      "[Parallel(n_jobs=-1)]: Done 250 out of 250 | elapsed: 10.5min finished\n"
     ]
    },
    {
     "data": {
      "text/plain": [
       "RandomizedSearchCV(cv=5,\n",
       "                   estimator=CRF(algorithm='lbfgs',\n",
       "                                 all_possible_transitions=True,\n",
       "                                 keep_tempfiles=None, max_iterations=100),\n",
       "                   n_iter=50, n_jobs=-1,\n",
       "                   param_distributions={'c1': <scipy.stats._distn_infrastructure.rv_frozen object at 0x7f3481040a60>,\n",
       "                                        'c2': <scipy.stats._distn_infrastructure.rv_frozen object at 0x7f3460cd4c10>},\n",
       "                   verbose=1)"
      ]
     },
     "execution_count": 22,
     "metadata": {},
     "output_type": "execute_result"
    }
   ],
   "source": [
    "# !pip install scipy\n",
    "import sklearn_crfsuite\n",
    "from sklearn_crfsuite import metrics\n",
    "import scipy.stats\n",
    "from sklearn.metrics import make_scorer\n",
    "from sklearn.model_selection import RandomizedSearchCV\n",
    "\n",
    "\n",
    "crf = sklearn_crfsuite.CRF(\n",
    "    algorithm='lbfgs', \n",
    "    max_iterations=100, \n",
    "    all_possible_transitions=True\n",
    ")\n",
    "\n",
    "params_space = {\n",
    "    'c1': scipy.stats.expon(scale=0.5),\n",
    "    'c2': scipy.stats.expon(scale=0.05),\n",
    "}\n",
    "\n",
    "rs = RandomizedSearchCV(crf, params_space, \n",
    "                        cv=5, \n",
    "                        verbose=1, \n",
    "                        n_jobs=-1, \n",
    "                        n_iter=50)\n",
    "rs.fit(x_train, y_train)"
   ]
  },
  {
   "cell_type": "code",
   "execution_count": 23,
   "metadata": {},
   "outputs": [
    {
     "name": "stdout",
     "output_type": "stream",
     "text": [
      "best params: {'c1': 0.8255380650353655, 'c2': 0.06517638358398285}\n",
      "best CV score: 0.895343436287717\n",
      "model size: 0.14M\n"
     ]
    }
   ],
   "source": [
    "print('best params:', rs.best_params_)\n",
    "print('best CV score:', rs.best_score_)\n",
    "print('model size: {:0.2f}M'.format(rs.best_estimator_.size_ / 1000000))"
   ]
  },
  {
   "cell_type": "code",
   "execution_count": 24,
   "metadata": {},
   "outputs": [],
   "source": [
    "# !pip install matplotlib\n",
    "# import matplotlib.pyplot as plt\n",
    "# from sklearn.model_selection import RandomizedSearchCV\n",
    "# plt.style.use('ggplot')\n",
    "\n",
    "# _x = rs.cv_results_['param_c1']\n",
    "# _y = rs.cv_results_['param_c2']\n",
    "# _c = rs.cv_results_['mean_test_score']\n",
    "\n",
    "# fig = plt.figure()\n",
    "# fig.set_size_inches(12, 12)\n",
    "# ax = plt.gca()\n",
    "# ax.set_yscale('log')\n",
    "# ax.set_xscale('log')\n",
    "# ax.set_xlabel('C1')\n",
    "# ax.set_ylabel('C2')\n",
    "# ax.set_title(\"Randomized Hyperparameter Search CV Results (min={:0.3}, max={:0.3})\".format(\n",
    "#     min(_c), max(_c)\n",
    "# ))\n",
    "\n",
    "# ax.scatter(_x, _y, c=_c, s=60, alpha=0.9, edgecolors=[0,0,0])\n",
    "\n",
    "# print(\"Dark blue => {:0.4}, dark red => {:0.4}\".format(min(_c), max(_c)))"
   ]
  },
  {
   "cell_type": "code",
   "execution_count": 25,
   "metadata": {},
   "outputs": [
    {
     "name": "stdout",
     "output_type": "stream",
     "text": [
      "                          precision    recall  f1-score   support\n",
      "\n",
      "  B-MODALIDADE_LICITACAO      0.975     0.812     0.886        48\n",
      "  I-MODALIDADE_LICITACAO      1.000     0.725     0.841        51\n",
      "         B-NUM_LICITACAO      0.942     0.875     0.907        56\n",
      "         I-NUM_LICITACAO      0.942     0.961     0.951        51\n",
      "              B-PROCESSO      0.815     0.524     0.638        42\n",
      "              I-PROCESSO      0.816     0.559     0.663       111\n",
      "         B-OBJ_LICITACAO      0.950     0.844     0.894        45\n",
      "         I-OBJ_LICITACAO      0.811     0.856     0.833      1442\n",
      "        B-VALOR_ESTIMADO      0.800     0.471     0.593        17\n",
      "        I-VALOR_ESTIMADO      0.960     0.649     0.774        37\n",
      "B-CODIGO_SISTEMA_COMPRAS      0.400     0.333     0.364         6\n",
      "       B-SISTEMA_COMPRAS      0.775     0.838     0.805        37\n",
      "       I-SISTEMA_COMPRAS      0.693     0.906     0.785       117\n",
      "         B-DATA_ABERTURA      0.850     0.654     0.739        52\n",
      "         I-DATA_ABERTURA      0.750     0.779     0.764       131\n",
      "              B-TIPO_OBJ      0.000     0.000     0.000         0\n",
      "              I-TIPO_OBJ      0.000     0.000     0.000         0\n",
      "       B-ORGAO_LICITANTE      0.667     0.133     0.222        15\n",
      "       I-ORGAO_LICITANTE      0.875     0.300     0.447        70\n",
      "I-CODIGO_SISTEMA_COMPRAS      1.000     0.200     0.333         5\n",
      "\n",
      "               micro avg      0.816     0.798     0.807      2333\n",
      "               macro avg      0.751     0.571     0.622      2333\n",
      "            weighted avg      0.821     0.798     0.799      2333\n",
      "\n"
     ]
    }
   ],
   "source": [
    "crf = rs.best_estimator_\n",
    "\n",
    "classes = list(crf.classes_)\n",
    "classes.remove('O')\n",
    "\n",
    "y_pred = crf.predict(x_test)\n",
    "print(metrics.flat_classification_report(\n",
    "    y_test, y_pred, labels=classes, digits=3\n",
    "))"
   ]
  },
  {
   "cell_type": "code",
   "execution_count": 26,
   "metadata": {},
   "outputs": [
    {
     "name": "stdout",
     "output_type": "stream",
     "text": [
      "Top likely transitions:\n",
      "I-OBJ_LICITACAO -> I-OBJ_LICITACAO 5.454570\n",
      "O      -> O       5.377731\n",
      "B-NUM_LICITACAO -> I-NUM_LICITACAO 5.245663\n",
      "I-SISTEMA_COMPRAS -> I-SISTEMA_COMPRAS 4.989615\n",
      "B-TIPO_OBJ -> I-TIPO_OBJ 4.568041\n",
      "I-ORGAO_LICITANTE -> I-ORGAO_LICITANTE 4.412276\n",
      "B-VALOR_ESTIMADO -> I-VALOR_ESTIMADO 4.340435\n",
      "I-TIPO_OBJ -> I-TIPO_OBJ 4.222748\n",
      "B-ORGAO_LICITANTE -> I-ORGAO_LICITANTE 3.944919\n",
      "B-MODALIDADE_LICITACAO -> I-MODALIDADE_LICITACAO 3.931801\n",
      "I-VALOR_ESTIMADO -> I-VALOR_ESTIMADO 3.919917\n",
      "I-PROCESSO -> I-PROCESSO 3.730050\n",
      "I-DATA_ABERTURA -> I-DATA_ABERTURA 3.664360\n",
      "B-CODIGO_SISTEMA_COMPRAS -> I-CODIGO_SISTEMA_COMPRAS 3.473041\n",
      "B-PROCESSO -> I-PROCESSO 2.986749\n",
      "B-SISTEMA_COMPRAS -> I-SISTEMA_COMPRAS 2.930768\n",
      "I-MODALIDADE_LICITACAO -> I-MODALIDADE_LICITACAO 2.874957\n",
      "O      -> B-SISTEMA_COMPRAS 2.606481\n",
      "B-OBJ_LICITACAO -> I-OBJ_LICITACAO 2.523743\n",
      "O      -> B-OBJ_LICITACAO 2.497686\n",
      "\n",
      "Top unlikely transitions:\n",
      "B-PROCESSO -> I-DATA_ABERTURA -1.066920\n",
      "I-PROCESSO -> I-OBJ_LICITACAO -1.108104\n",
      "I-VALOR_ESTIMADO -> I-PROCESSO -1.111317\n",
      "B-DATA_ABERTURA -> B-DATA_ABERTURA -1.135813\n",
      "B-DATA_ABERTURA -> I-VALOR_ESTIMADO -1.163918\n",
      "I-DATA_ABERTURA -> I-OBJ_LICITACAO -1.206684\n",
      "I-PROCESSO -> I-NUM_LICITACAO -1.237412\n",
      "I-DATA_ABERTURA -> B-PROCESSO -1.243149\n",
      "I-ORGAO_LICITANTE -> B-MODALIDADE_LICITACAO -1.256965\n",
      "O      -> I-SISTEMA_COMPRAS -1.291861\n",
      "I-PROCESSO -> I-VALOR_ESTIMADO -1.294104\n",
      "I-OBJ_LICITACAO -> B-OBJ_LICITACAO -1.306959\n",
      "O      -> I-ORGAO_LICITANTE -1.316510\n",
      "B-PROCESSO -> I-VALOR_ESTIMADO -1.544089\n",
      "B-DATA_ABERTURA -> I-PROCESSO -1.660066\n",
      "O      -> I-VALOR_ESTIMADO -1.757021\n",
      "B-NUM_LICITACAO -> I-PROCESSO -1.775726\n",
      "O      -> I-PROCESSO -1.973533\n",
      "O      -> I-DATA_ABERTURA -2.599613\n",
      "O      -> I-OBJ_LICITACAO -2.601680\n"
     ]
    }
   ],
   "source": [
    "from collections import Counter\n",
    "\n",
    "def print_transitions(trans_features):\n",
    "    for (label_from, label_to), weight in trans_features:\n",
    "        print(\"%-6s -> %-7s %0.6f\" % (label_from, label_to, weight))\n",
    "        \n",
    "\n",
    "print(\"Top likely transitions:\")\n",
    "print_transitions(Counter(crf.transition_features_).most_common(20))\n",
    "\n",
    "print(\"\\nTop unlikely transitions:\")\n",
    "print_transitions(Counter(crf.transition_features_).most_common()[-20:])"
   ]
  },
  {
   "cell_type": "code",
   "execution_count": 27,
   "metadata": {},
   "outputs": [
    {
     "name": "stdout",
     "output_type": "stream",
     "text": [
      "Top positive:\n",
      "4.735413 B-CODIGO_SISTEMA_COMPRAS word_before:uasg\n",
      "3.929046 B-NUM_LICITACAO word_before:nº\n",
      "3.881915 B-CODIGO_SISTEMA_COMPRAS word_before:id\n",
      "3.582970 O        word_before:br\n",
      "3.532931 B-MODALIDADE_LICITACAO word:concorrência\n",
      "3.520654 B-DATA_ABERTURA word_before:abertura\n",
      "3.423585 B-SISTEMA_COMPRAS word:wwwlicitacoes\n",
      "3.339143 B-MODALIDADE_LICITACAO word:convite\n",
      "3.308811 I-DATA_ABERTURA word_after::às\n",
      "3.300599 B-MODALIDADE_LICITACAO word_before:licitação\n",
      "3.289942 B-VALOR_ESTIMADO word_before:r\n",
      "3.284088 B-OBJ_LICITACAO word_before:objeto\n",
      "3.223029 B-TIPO_OBJ word:execução\n",
      "3.187037 B-PROCESSO word_before:processo\n",
      "3.160723 I-SISTEMA_COMPRAS word_after::codhab\n",
      "2.946253 B-NUM_LICITACAO word_after::fonte\n",
      "2.840146 B-OBJ_LICITACAO word_before:é\n",
      "2.739770 I-CODIGO_SISTEMA_COMPRAS word_before:uasg\n",
      "2.689305 B-MODALIDADE_LICITACAO word:tomada\n",
      "2.525708 B-MODALIDADE_LICITACAO word:pregão\n",
      "2.519824 B-ORGAO_LICITANTE word_before:a\n",
      "2.497259 O        word:abertura\n",
      "2.453163 O        word:valor\n",
      "2.348936 I-DATA_ABERTURA word_after::horário\n",
      "2.282977 B-MODALIDADE_LICITACAO word[-3:]:GÃO\n",
      "2.256324 O        word:nº\n",
      "2.222196 O        word:processo\n",
      "2.193848 O        word_after::companhia\n",
      "2.188361 B-MODALIDADE_LICITACAO word_after::nº\n",
      "2.186392 B-SISTEMA_COMPRAS word:www\n",
      "\n",
      "Top negative:\n",
      "-1.108383 I-OBJ_LICITACAO word[-2:]:IO\n",
      "-1.130725 I-PROCESSO all_capital\n",
      "-1.140587 B-SISTEMA_COMPRAS word_after::fazenda\n",
      "-1.188847 O        word[-2:]:NO\n",
      "-1.199939 O        word_after::cbmdf\n",
      "-1.210803 O        word_after::objeto\n",
      "-1.225508 O        word_before:nº\n",
      "-1.228333 I-PROCESSO word_before:060\n",
      "-1.229390 O        word_after::processo\n",
      "-1.291509 I-OBJ_LICITACAO word[-3:]:são\n",
      "-1.340007 O        word[-3:]:GÃO\n",
      "-1.353284 O        word_after::com\n",
      "-1.370960 B-TIPO_OBJ word_isdigit\n",
      "-1.375481 O        word_before:r\n",
      "-1.378888 O        word_after::2021\n",
      "-1.409942 B-NUM_LICITACAO word_before_isdigit\n",
      "-1.416378 O        word:contratação\n",
      "-1.443792 O        word_after::dotação\n",
      "-1.448402 I-OBJ_LICITACAO word_after::ção\n",
      "-1.516628 O        word_after::data\n",
      "-1.544230 O        word_before:pe\n",
      "-1.608159 B-MODALIDADE_LICITACAO word_isdigit\n",
      "-1.650540 O        word[-2:]:60\n",
      "-1.749225 O        word_before:objeto\n",
      "-1.846038 O        word_after::tipo\n",
      "-1.855150 O        word_before:º\n",
      "-2.003131 B-OBJ_LICITACAO word_isdigit\n",
      "-2.036079 I-PROCESSO word_after::000\n",
      "-2.200249 O        word_isdigit\n",
      "-3.051856 O        word_before:uasg\n"
     ]
    }
   ],
   "source": [
    "def print_state_features(state_features):\n",
    "    for (attr, label), weight in state_features:\n",
    "        print(\"%0.6f %-8s %s\" % (weight, label, attr))    \n",
    "\n",
    "print(\"Top positive:\")\n",
    "print_state_features(Counter(crf.state_features_).most_common(30))\n",
    "\n",
    "print(\"\\nTop negative:\")\n",
    "print_state_features(Counter(crf.state_features_).most_common()[-30:])"
   ]
  },
  {
   "cell_type": "code",
   "execution_count": null,
   "metadata": {},
   "outputs": [],
   "source": []
  },
  {
   "cell_type": "code",
   "execution_count": null,
   "metadata": {},
   "outputs": [],
   "source": []
  }
 ],
 "metadata": {
  "kernelspec": {
   "display_name": "Python 3",
   "language": "python",
   "name": "python3"
  },
  "language_info": {
   "codemirror_mode": {
    "name": "ipython",
    "version": 3
   },
   "file_extension": ".py",
   "mimetype": "text/x-python",
   "name": "python",
   "nbconvert_exporter": "python",
   "pygments_lexer": "ipython3",
   "version": "3.8.10"
  }
 },
 "nbformat": 4,
 "nbformat_minor": 4
}
