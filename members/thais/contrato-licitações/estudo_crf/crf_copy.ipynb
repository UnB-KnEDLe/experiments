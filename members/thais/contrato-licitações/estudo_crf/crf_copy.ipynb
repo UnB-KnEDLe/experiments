{
 "cells": [
  {
   "cell_type": "markdown",
   "metadata": {},
   "source": [
    "## CRF model\n",
    "\n",
    "Modelo CRF para ato de aviso de licitação (com dados rotulados manualmente)"
   ]
  },
  {
   "cell_type": "markdown",
   "metadata": {},
   "source": []
  },
  {
   "cell_type": "code",
   "execution_count": null,
   "metadata": {},
   "outputs": [
    {
     "ename": "",
     "evalue": "",
     "output_type": "error",
     "traceback": [
      "\u001b[1;31mRunning cells with 'Python 2.7.18 64-bit' requires ipykernel package.\n",
      "Run the following command to install 'ipykernel' into the Python environment. \n",
      "Command: '/bin/python -m pip install ipykernel -U --user --force-reinstall'"
     ]
    }
   ],
   "source": [
    "# !pip install sklearn_crfsuite\n",
    "import pandas as pd\n",
    "import sklearn_crfsuite\n",
    "import nltk\n",
    "from nltk.tokenize import word_tokenize"
   ]
  },
  {
   "cell_type": "code",
   "execution_count": 143,
   "metadata": {},
   "outputs": [],
   "source": [
    "df= pd.read_csv('result_aviso_licitacao.csv')\n",
    "result = pd.DataFrame(df)\n",
    "result.tokenized_text = result.tokenized_text.apply(lambda x: x.encode('ascii','ignore'))"
   ]
  },
  {
   "cell_type": "code",
   "execution_count": 144,
   "metadata": {},
   "outputs": [
    {
     "data": {
      "text/plain": [
       "'O O O B-MODALIDADE_LICITACAO I-MODALIDADE_LICITACAO O B-NUM_LICITACAO O O B-PROCESSO O O O B-OBJ_LICITACAO I-OBJ_LICITACAO I-OBJ_LICITACAO I-OBJ_LICITACAO I-OBJ_LICITACAO I-OBJ_LICITACAO I-OBJ_LICITACAO I-OBJ_LICITACAO I-OBJ_LICITACAO I-OBJ_LICITACAO I-OBJ_LICITACAO B-TIPO_OBJ I-TIPO_OBJ I-TIPO_OBJ I-TIPO_OBJ I-TIPO_OBJ O O O O O O O O O O O O O O O O O O O O O O O O O O O O O O O O O O O O O O O O O O O O O O O O O O O O O O O O O O O O O O O O O O O O O O O O O O O O O O O O O O O O O O O O O O O O O O O O O O O O O O B-VALOR_ESTIMADO I-VALOR_ESTIMADO I-VALOR_ESTIMADO O O O O O O O O O O O O O O O O O O O O O O O O O O O O O O O O O O O O O O O O O O O O O O O O O O O O O B-CODIGO_SISTEMA_COMPRAS O O O O O O O O O O O O O O O O O O O O O O O O O O O O O O O O O O O O O O O B-SISTEMA_COMPRAS O O O O O O O O O O O O O O O O O O O O O O O O O O O O O O O O O O O O O O O O O O O O O O O O O O O O O O O O O O O O O O O O O O O O O O O O O O O'"
      ]
     },
     "execution_count": 144,
     "metadata": {},
     "output_type": "execute_result"
    }
   ],
   "source": [
    "result['tokenized_text'][0].decode(\"utf-8\").replace(\"', '\", '').replace(\"[' \", '').replace(\"']\", '')"
   ]
  },
  {
   "cell_type": "markdown",
   "metadata": {},
   "source": [
    "Load csv with text and labels"
   ]
  },
  {
   "cell_type": "code",
   "execution_count": null,
   "metadata": {},
   "outputs": [
    {
     "ename": "",
     "evalue": "",
     "output_type": "error",
     "traceback": [
      "\u001b[1;31mRunning cells with 'Python 2.7.18 64-bit' requires ipykernel package.\n",
      "Run the following command to install 'ipykernel' into the Python environment. \n",
      "Command: '/bin/python -m pip install ipykernel -U --user --force-reinstall'"
     ]
    }
   ],
   "source": [
    "x = []\n",
    "y = []\n",
    "for row in range(len(result)):\n",
    "    if pd.notna(result['treated_text'][row]):\n",
    "        text_iob = result['tokenized_text'][row].decode(\"utf-8\").replace(\"', '\", '').replace(\"[' \", '').replace(\"']\", '')\n",
    "        x.append(tokenizer.tokenize(result['treated_text'][row]))\n",
    "        y.append(text_iob.split())\n",
    "len(x), len(y)"
   ]
  },
  {
   "cell_type": "code",
   "execution_count": 146,
   "metadata": {},
   "outputs": [],
   "source": [
    "# Tirando os rotulos que nao batem com os dados\n",
    "continua = True\n",
    "while continua == True:\n",
    "    continua = False\n",
    "    for i in range(len(x)):\n",
    "        if len(x[i]) > len(y[i]):\n",
    "            x[i].pop()\n",
    "            continua = True\n",
    "\n",
    "        if len(x[i]) < len(y[i]):\n",
    "            y[i].pop()\n",
    "            continua = True"
   ]
  },
  {
   "cell_type": "markdown",
   "metadata": {},
   "source": [
    "Create dictionary feature for each word in each sequence in x"
   ]
  },
  {
   "cell_type": "code",
   "execution_count": 147,
   "metadata": {},
   "outputs": [],
   "source": [
    "def get_features(sentence):\n",
    "        \"\"\"Create features for each word in act.\n",
    "        Create a list of dict of words features to be used in the predictor module.\n",
    "        Args:\n",
    "            act (list): List of words in an act.\n",
    "        Returns:\n",
    "            A list with a dictionary of features for each of the words.\n",
    "        \"\"\"\n",
    "        sent_features = []\n",
    "        for i in range(len(sentence)):\n",
    "            word_feat = {\n",
    "                'word': sentence[i].lower(),\n",
    "                'word[-3:]': sentence[i][-3:],\n",
    "                'word[-2:]': sentence[i][-2:],\n",
    "                'capital_letter': sentence[i][0].isupper(),\n",
    "                'word_istitle': sentence[i].istitle(),\n",
    "                'all_capital': sentence[i].isupper(),\n",
    "                'word_isdigit': sentence[i].isdigit(),\n",
    "                'word_before': '' if i == 0 else sentence[i-1].lower(),\n",
    "                'word_before_isdigit': '' if i == 0 else sentence[i-1].isdigit(),\n",
    "                'word_before_isupper': '' if i == 0 else sentence[i-1].isupper(),\n",
    "                'word_before_istitle': '' if i == 0 else sentence[i-1].istitle(),\n",
    "                'word_after:': '' if i+1 >= len(sentence) else sentence[i+1].lower(),\n",
    "                'word_after_isdigit:': '' if i+1 >= len(sentence) else sentence[i+1].isdigit(),\n",
    "                'word_after_isupper:': '' if i+1 >= len(sentence) else sentence[i+1].isupper(),\n",
    "                'word_after_istitle:': '' if i+1 >= len(sentence) else sentence[i+1].istitle(),\n",
    "                'BOS': i == 0,\n",
    "                'EOS': i == len(sentence)-1\n",
    "            }\n",
    "            sent_features.append(word_feat)\n",
    "        return sent_features\n",
    "    \n",
    "for i in range(len(x)):\n",
    "    x[i] = get_features(x[i])"
   ]
  },
  {
   "cell_type": "markdown",
   "metadata": {},
   "source": [
    "Separate train and test splits (in order)"
   ]
  },
  {
   "cell_type": "code",
   "execution_count": 148,
   "metadata": {},
   "outputs": [
    {
     "data": {
      "text/plain": [
       "(188, 47, 188)"
      ]
     },
     "execution_count": 148,
     "metadata": {},
     "output_type": "execute_result"
    }
   ],
   "source": [
    "import math\n",
    "split_idx = math.floor(0.8*len(x))\n",
    "x_train = x[0:split_idx]\n",
    "y_train = y[0:split_idx]\n",
    "x_test = x[split_idx:]\n",
    "y_test = y[split_idx:]\n",
    "len(x_train),  len(x_test), len(y_train)\n"
   ]
  },
  {
   "cell_type": "code",
   "execution_count": 149,
   "metadata": {},
   "outputs": [
    {
     "name": "stderr",
     "output_type": "stream",
     "text": [
      "/home/thais/Documentos/Knedle/venv/lib/python3.8/site-packages/sklearn/base.py:209: FutureWarning: From version 0.24, get_params will raise an AttributeError if a parameter cannot be retrieved as an instance attribute. Previously it would return None.\n",
      "  warnings.warn('From version 0.24, get_params will raise an '\n",
      "[Parallel(n_jobs=-1)]: Using backend LokyBackend with 8 concurrent workers.\n"
     ]
    },
    {
     "name": "stdout",
     "output_type": "stream",
     "text": [
      "Fitting 3 folds for each of 50 candidates, totalling 150 fits\n"
     ]
    },
    {
     "name": "stderr",
     "output_type": "stream",
     "text": [
      "[Parallel(n_jobs=-1)]: Done  34 tasks      | elapsed:  1.2min\n",
      "[Parallel(n_jobs=-1)]: Done 150 out of 150 | elapsed:  5.9min finished\n"
     ]
    },
    {
     "data": {
      "text/plain": [
       "RandomizedSearchCV(cv=3,\n",
       "                   estimator=CRF(algorithm='lbfgs',\n",
       "                                 all_possible_transitions=True,\n",
       "                                 keep_tempfiles=None, max_iterations=100),\n",
       "                   n_iter=50, n_jobs=-1,\n",
       "                   param_distributions={'c1': <scipy.stats._distn_infrastructure.rv_frozen object at 0x7f98d5c56fa0>,\n",
       "                                        'c2': <scipy.stats._distn_infrastructure.rv_frozen object at 0x7f98d5c56400>},\n",
       "                   verbose=1)"
      ]
     },
     "execution_count": 149,
     "metadata": {},
     "output_type": "execute_result"
    }
   ],
   "source": [
    "# !pip install scipy\n",
    "import sklearn_crfsuite\n",
    "from sklearn_crfsuite import metrics\n",
    "import scipy.stats\n",
    "from sklearn.metrics import make_scorer\n",
    "from sklearn.model_selection import RandomizedSearchCV\n",
    "\n",
    "\n",
    "crf = sklearn_crfsuite.CRF(\n",
    "    algorithm='lbfgs', \n",
    "    max_iterations=100, \n",
    "    all_possible_transitions=True\n",
    ")\n",
    "\n",
    "params_space = {\n",
    "    'c1': scipy.stats.expon(scale=0.5),\n",
    "    'c2': scipy.stats.expon(scale=0.05),\n",
    "}\n",
    "\n",
    "rs = RandomizedSearchCV(crf, params_space, \n",
    "                        cv=5, \n",
    "                        verbose=1, \n",
    "                        n_jobs=-1, \n",
    "                        n_iter=50)\n",
    "rs.fit(x_train, y_train)"
   ]
  },
  {
   "cell_type": "code",
   "execution_count": 150,
   "metadata": {},
   "outputs": [
    {
     "name": "stdout",
     "output_type": "stream",
     "text": [
      "best params: {'c1': 0.172277893821461, 'c2': 0.17230888367230024}\n",
      "best CV score: 0.9373763893335019\n",
      "model size: 0.30M\n"
     ]
    }
   ],
   "source": [
    "print('best params:', rs.best_params_)\n",
    "print('best CV score:', rs.best_score_)\n",
    "print('model size: {:0.2f}M'.format(rs.best_estimator_.size_ / 1000000))"
   ]
  },
  {
   "cell_type": "code",
   "execution_count": 151,
   "metadata": {},
   "outputs": [
    {
     "name": "stdout",
     "output_type": "stream",
     "text": [
      "Dark blue => 0.9284, dark red => 0.9374\n"
     ]
    },
    {
     "data": {
      "image/png": "[encoded data removed]",
      "text/plain": [
       "<Figure size 864x864 with 1 Axes>"
      ]
     },
     "metadata": {},
     "output_type": "display_data"
    }
   ],
   "source": [
    "# !pip install matplotlib\n",
    "import matplotlib.pyplot as plt\n",
    "from sklearn.model_selection import RandomizedSearchCV\n",
    "plt.style.use('ggplot')\n",
    "\n",
    "_x = rs.cv_results_['param_c1']\n",
    "_y = rs.cv_results_['param_c2']\n",
    "_c = rs.cv_results_['mean_test_score']\n",
    "\n",
    "fig = plt.figure()\n",
    "fig.set_size_inches(12, 12)\n",
    "ax = plt.gca()\n",
    "ax.set_yscale('log')\n",
    "ax.set_xscale('log')\n",
    "ax.set_xlabel('C1')\n",
    "ax.set_ylabel('C2')\n",
    "ax.set_title(\"Randomized Hyperparameter Search CV Results (min={:0.3}, max={:0.3})\".format(\n",
    "    min(_c), max(_c)\n",
    "))\n",
    "\n",
    "ax.scatter(_x, _y, c=_c, s=60, alpha=0.9, edgecolors=[0,0,0])\n",
    "\n",
    "print(\"Dark blue => {:0.4}, dark red => {:0.4}\".format(min(_c), max(_c)))"
   ]
  },
  {
   "cell_type": "code",
   "execution_count": 166,
   "metadata": {},
   "outputs": [
    {
     "name": "stdout",
     "output_type": "stream",
     "text": [
      "                          precision    recall  f1-score   support\n",
      "\n",
      "  B-MODALIDADE_LICITACAO      1.000     0.830     0.907        47\n",
      "  I-MODALIDADE_LICITACAO      1.000     0.796     0.886        49\n",
      "         B-NUM_LICITACAO      0.872     0.891     0.882        46\n",
      "              B-PROCESSO      0.000     0.000     0.000        48\n",
      "         B-OBJ_LICITACAO      0.000     0.000     0.000         1\n",
      "         I-OBJ_LICITACAO      0.000     0.000     0.000         6\n",
      "              B-TIPO_OBJ      0.000     0.000     0.000         2\n",
      "              I-TIPO_OBJ      0.000     0.000     0.000         1\n",
      "        B-VALOR_ESTIMADO      0.000     0.000     0.000        16\n",
      "        I-VALOR_ESTIMADO      0.000     0.000     0.000         2\n",
      "B-CODIGO_SISTEMA_COMPRAS      0.000     0.000     0.000         6\n",
      "       B-SISTEMA_COMPRAS      0.526     0.333     0.408        30\n",
      "         B-DATA_ABERTURA      0.800     0.190     0.308        42\n",
      "         I-DATA_ABERTURA      0.931     0.325     0.482        83\n",
      "       B-ORGAO_LICITANTE      1.000     0.231     0.375        13\n",
      "       I-ORGAO_LICITANTE      1.000     0.294     0.455        68\n",
      "       I-SISTEMA_COMPRAS      0.000     0.000     0.000        12\n",
      "              I-PROCESSO      0.000     0.000     0.000        18\n",
      "I-CODIGO_SISTEMA_COMPRAS      0.000     0.000     0.000         9\n",
      "\n",
      "               micro avg      0.842     0.375     0.519       499\n",
      "               macro avg      0.375     0.205     0.248       499\n",
      "            weighted avg      0.689     0.375     0.456       499\n",
      "\n"
     ]
    }
   ],
   "source": [
    "crf = rs.best_estimator_\n",
    "\n",
    "classes = list(crf.classes_)\n",
    "classes.remove('O')\n",
    "\n",
    "y_pred = crf.predict(x_test)\n",
    "print(metrics.flat_classification_report(\n",
    "    y_test, y_pred, labels=classes, digits=3\n",
    "))"
   ]
  },
  {
   "cell_type": "code",
   "execution_count": 167,
   "metadata": {},
   "outputs": [
    {
     "name": "stdout",
     "output_type": "stream",
     "text": [
      "Top likely transitions:\n",
      "O      -> O       5.510030\n",
      "I-OBJ_LICITACAO -> I-OBJ_LICITACAO 5.291924\n",
      "I-SISTEMA_COMPRAS -> I-SISTEMA_COMPRAS 4.640225\n",
      "I-TIPO_OBJ -> I-TIPO_OBJ 4.531007\n",
      "I-DATA_ABERTURA -> I-DATA_ABERTURA 4.249091\n",
      "B-TIPO_OBJ -> I-TIPO_OBJ 4.086054\n",
      "I-VALOR_ESTIMADO -> I-VALOR_ESTIMADO 3.792919\n",
      "I-PROCESSO -> I-PROCESSO 3.596817\n",
      "O      -> B-PROCESSO 3.554533\n",
      "I-ORGAO_LICITANTE -> I-ORGAO_LICITANTE 3.432894\n",
      "B-MODALIDADE_LICITACAO -> I-MODALIDADE_LICITACAO 3.377692\n",
      "O      -> B-VALOR_ESTIMADO 3.328390\n",
      "O      -> B-DATA_ABERTURA 3.228145\n",
      "O      -> B-SISTEMA_COMPRAS 3.198344\n",
      "B-OBJ_LICITACAO -> I-OBJ_LICITACAO 3.160317\n",
      "B-PROCESSO -> I-PROCESSO 2.827270\n",
      "B-SISTEMA_COMPRAS -> I-SISTEMA_COMPRAS 2.731190\n",
      "O      -> B-CODIGO_SISTEMA_COMPRAS 2.653185\n",
      "I-OBJ_LICITACAO -> B-TIPO_OBJ 2.554736\n",
      "B-ORGAO_LICITANTE -> I-ORGAO_LICITANTE 2.398209\n",
      "\n",
      "Top unlikely transitions:\n",
      "O      -> I-SISTEMA_COMPRAS -1.509968\n",
      "B-SISTEMA_COMPRAS -> B-CODIGO_SISTEMA_COMPRAS -1.516390\n",
      "I-PROCESSO -> B-PROCESSO -1.519143\n",
      "I-ORGAO_LICITANTE -> B-MODALIDADE_LICITACAO -1.555231\n",
      "I-DATA_ABERTURA -> B-PROCESSO -1.557675\n",
      "B-MODALIDADE_LICITACAO -> B-MODALIDADE_LICITACAO -1.575760\n",
      "B-PROCESSO -> B-VALOR_ESTIMADO -1.647511\n",
      "B-PROCESSO -> B-SISTEMA_COMPRAS -1.659430\n",
      "B-CODIGO_SISTEMA_COMPRAS -> B-CODIGO_SISTEMA_COMPRAS -1.788957\n",
      "I-SISTEMA_COMPRAS -> B-SISTEMA_COMPRAS -1.941827\n",
      "I-DATA_ABERTURA -> B-DATA_ABERTURA -1.977594\n",
      "B-PROCESSO -> B-DATA_ABERTURA -2.086517\n",
      "O      -> I-OBJ_LICITACAO -2.206084\n",
      "B-NUM_LICITACAO -> B-PROCESSO -2.474170\n",
      "B-NUM_LICITACAO -> B-NUM_LICITACAO -2.480049\n",
      "O      -> I-ORGAO_LICITANTE -2.595363\n",
      "B-PROCESSO -> B-PROCESSO -2.760491\n",
      "B-DATA_ABERTURA -> B-DATA_ABERTURA -3.206233\n",
      "B-SISTEMA_COMPRAS -> B-SISTEMA_COMPRAS -3.568451\n",
      "O      -> I-DATA_ABERTURA -3.635741\n"
     ]
    }
   ],
   "source": [
    "from collections import Counter\n",
    "\n",
    "def print_transitions(trans_features):\n",
    "    # print(list(trans_features))\n",
    "    for (label_from, label_to), weight in trans_features:\n",
    "        # if not 'O' in label_from or 'O' not in label_to:\n",
    "            # print(\"%-6s -> %-7s %0.6f\" % (label_from, label_to, weight))\n",
    "        print(\"%-6s -> %-7s %0.6f\" % (label_from, label_to, weight))\n",
    "        \n",
    "\n",
    "print(\"Top likely transitions:\")\n",
    "print_transitions(Counter(crf.transition_features_).most_common(20))\n",
    "\n",
    "print(\"\\nTop unlikely transitions:\")\n",
    "print_transitions(Counter(crf.transition_features_).most_common()[-20:])"
   ]
  },
  {
   "cell_type": "code",
   "execution_count": 168,
   "metadata": {},
   "outputs": [
    {
     "name": "stdout",
     "output_type": "stream",
     "text": [
      "Top positive:\n",
      "4.183201 B-SISTEMA_COMPRAS word_before:www.compras.df.gov.br\n",
      "4.155416 B-DATA_ABERTURA word_after::às\n",
      "3.967783 B-NUM_LICITACAO word_before:nº\n",
      "3.707740 B-SISTEMA_COMPRAS word_before:www.licitacoes-e.com.br\n",
      "3.494202 B-CODIGO_SISTEMA_COMPRAS word_before:)\n",
      "3.349372 B-DATA_ABERTURA word:às\n",
      "3.301431 B-DATA_ABERTURA word_before:às\n",
      "3.185665 B-DATA_ABERTURA word_before:17/12/2009\n",
      "3.077822 B-SISTEMA_COMPRAS word_after::pré-cadastro\n",
      "3.044414 B-MODALIDADE_LICITACAO word_before:licitação\n",
      "3.018451 B-TIPO_OBJ word_after::especializada\n",
      "2.998662 B-SISTEMA_COMPRAS word_before:www.comprasnet.gov.br\n",
      "2.957043 B-NUM_LICITACAO word_before:n.º\n",
      "2.951460 B-SISTEMA_COMPRAS word_before:www.fazenda.df.gov.br\n",
      "2.864215 B-CODIGO_SISTEMA_COMPRAS word_before:uasg\n",
      "2.848882 B-SISTEMA_COMPRAS word_before:www.comprasgovernamentais.gov.br\n",
      "2.712402 B-PROCESSO word_before:processo\n",
      "2.671490 B-VALOR_ESTIMADO word_before:$\n",
      "2.656141 B-CODIGO_SISTEMA_COMPRAS word_after::a\n",
      "2.564933 B-NUM_LICITACAO word_before:eletrônico\n",
      "2.561059 I-SISTEMA_COMPRAS word_before:gov.br\n",
      "2.541212 B-NUM_LICITACAO word_before_istitle\n",
      "2.501718 B-PROCESSO word_after::respectivo\n",
      "2.387940 I-DATA_ABERTURA word_before:de\n",
      "2.381914 B-DATA_ABERTURA word_after::horário\n",
      "2.371086 I-TIPO_OBJ word_after::prestação\n",
      "2.360342 B-PROCESSO word_after::401.000.303/2013\n",
      "2.331337 B-NUM_LICITACAO word_after::004/2003\n",
      "2.326437 B-NUM_LICITACAO word_before:94/2018\n",
      "2.320627 B-DATA_ABERTURA word_after::os\n",
      "\n",
      "Top negative:\n",
      "-1.374815 O        word_after::09:00h\n",
      "-1.390265 B-DATA_ABERTURA word_isdigit\n",
      "-1.416758 O        word_after::09:00\n",
      "-1.420073 O        word_after::nº\n",
      "-1.435390 O        word_after::portal\n",
      "-1.472828 O        word[-3:]:ADA\n",
      "-1.474946 O        word[-2:]:CA\n",
      "-1.493477 B-SISTEMA_COMPRAS word_after_isdigit:\n",
      "-1.526175 O        word_before:www-licitacoes-e.com.br\n",
      "-1.556471 O        word:enquadramento\n",
      "-1.562008 I-OBJ_LICITACAO word_before:.\n",
      "-1.572068 O        word_after::execução\n",
      "-1.593704 O        word:www.licitacoes-e.com.br\n",
      "-1.603139 B-VALOR_ESTIMADO word_before_isupper\n",
      "-1.605507 O        word[-3:]:200\n",
      "-1.625861 B-DATA_ABERTURA word_before_istitle\n",
      "-1.635071 B-DATA_ABERTURA word_before_isupper\n",
      "-1.656387 O        word_after::09h30min\n",
      "-1.739746 O        word_after::um\n",
      "-1.756104 O        word[-3:]:010\n",
      "-1.770233 O        word_before:www.licitacoes-e.com.br\n",
      "-1.791879 O        word:elemento\n",
      "-1.800272 O        word_after::pré-cadastro\n",
      "-1.843962 B-VALOR_ESTIMADO word_before_isdigit\n",
      "-1.895261 O        word[-3:]:000\n",
      "-1.918170 O        word_after::www.pedf.df.gov.br\n",
      "-1.947494 O        word_before:926015\n",
      "-2.201714 O        word_before:n.º\n",
      "-2.281891 B-PROCESSO word_before_isdigit\n",
      "-2.735600 O        word_before:974200\n"
     ]
    }
   ],
   "source": [
    "def print_state_features(state_features):\n",
    "    for (attr, label), weight in state_features:\n",
    "        print(\"%0.6f %-8s %s\" % (weight, label, attr))    \n",
    "\n",
    "print(\"Top positive:\")\n",
    "print_state_features(Counter(crf.state_features_).most_common(30))\n",
    "\n",
    "print(\"\\nTop negative:\")\n",
    "print_state_features(Counter(crf.state_features_).most_common()[-30:])"
   ]
  },
  {
   "cell_type": "code",
   "execution_count": null,
   "metadata": {},
   "outputs": [],
   "source": []
  }
 ],
 "metadata": {
  "kernelspec": {
   "display_name": "Python 3",
   "language": "python",
   "name": "python3"
  },
  "language_info": {
   "codemirror_mode": {
    "name": "ipython",
    "version": 3
   },
   "file_extension": ".py",
   "mimetype": "text/x-python",
   "name": "python",
   "nbconvert_exporter": "python",
   "pygments_lexer": "ipython3",
   "version": "2.7.18"
  }
 },
 "nbformat": 4,
 "nbformat_minor": 4
}
