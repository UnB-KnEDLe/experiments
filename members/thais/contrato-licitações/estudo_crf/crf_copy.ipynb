{
 "cells": [
  {
   "cell_type": "markdown",
   "metadata": {},
   "source": [
    "## CRF model\n",
    "\n",
    "Modelo CRF para ato de aposentadoria (com dados rotulados manualmente)"
   ]
  },
  {
   "cell_type": "code",
   "execution_count": 211,
   "metadata": {},
   "outputs": [],
   "source": [
    "# !pip install sklearn_crfsuite\n",
    "import pandas as pd\n",
    "import sklearn_crfsuite\n",
    "import nltk\n",
    "from nltk.tokenize import word_tokenize"
   ]
  },
  {
   "cell_type": "code",
   "execution_count": 212,
   "metadata": {},
   "outputs": [],
   "source": [
    "df= pd.read_csv('result.csv')\n",
    "result = pd.DataFrame(df)\n",
    "result.tokenized_text = result.tokenized_text.apply(lambda x: x.encode('ascii','ignore'))"
   ]
  },
  {
   "cell_type": "code",
   "execution_count": 213,
   "metadata": {},
   "outputs": [
    {
     "data": {
      "text/plain": [
       "'O O O O B-NUM_AJUSTE O O O B-PROCESSO O O O B-CONTRATANTE O B-CONTRATADA I-CONTRATADA I-CONTRATADA O O O O O O O O O O O O O O B-OBJ_AJUSTE I-OBJ_AJUSTE I-OBJ_AJUSTE I-OBJ_AJUSTE I-OBJ_AJUSTE I-OBJ_AJUSTE I-OBJ_AJUSTE I-OBJ_AJUSTE I-OBJ_AJUSTE I-OBJ_AJUSTE I-OBJ_AJUSTE I-OBJ_AJUSTE I-OBJ_AJUSTE I-OBJ_AJUSTE I-OBJ_AJUSTE I-OBJ_AJUSTE I-OBJ_AJUSTE I-OBJ_AJUSTE I-OBJ_AJUSTE I-OBJ_AJUSTE I-OBJ_AJUSTE I-OBJ_AJUSTE I-OBJ_AJUSTE I-OBJ_AJUSTE I-OBJ_AJUSTE I-OBJ_AJUSTE I-OBJ_AJUSTE I-OBJ_AJUSTE I-OBJ_AJUSTE I-OBJ_AJUSTE I-OBJ_AJUSTE O O O O O O B-VALOR O O O O O O O O O O O O O O O O O O O O O O O O O O O O O O O O O O O O O O O O O O O O O O O O B-PT I-PT O O O O O O O O O O O O O O O O O O O B-VIGENCIA I-VIGENCIA I-VIGENCIA I-VIGENCIA I-VIGENCIA I-VIGENCIA I-VIGENCIA I-VIGENCIA I-VIGENCIA I-VIGENCIA I-VIGENCIA I-VIGENCIA I-VIGENCIA I-VIGENCIA I-VIGENCIA I-VIGENCIA I-VIGENCIA I-VIGENCIA I-VIGENCIA I-VIGENCIA O O O O O O O O O O O O O O O O O O O O O O O O O O O O O O O O O O'"
      ]
     },
     "execution_count": 213,
     "metadata": {},
     "output_type": "execute_result"
    }
   ],
   "source": [
    "result['tokenized_text'][0].decode(\"utf-8\").replace(\"', '\", '').replace(\"[' \", '').replace(\"']\", '')"
   ]
  },
  {
   "cell_type": "markdown",
   "metadata": {},
   "source": [
    "Load csv with text and labels"
   ]
  },
  {
   "cell_type": "code",
   "execution_count": 214,
   "metadata": {},
   "outputs": [
    {
     "data": {
      "text/plain": [
       "(1168, 1168)"
      ]
     },
     "execution_count": 214,
     "metadata": {},
     "output_type": "execute_result"
    }
   ],
   "source": [
    "x = []\n",
    "y = []\n",
    "for row in range(len(result)):\n",
    "    if pd.notna(result['treated_text'][row]):\n",
    "        text_iob = result['tokenized_text'][row].decode(\"utf-8\").replace(\"', '\", '').replace(\"[' \", '').replace(\"']\", '')\n",
    "        x.append(word_tokenize(result['treated_text'][row]))\n",
    "        y.append(text_iob.split())\n",
    "len(x), len(y)"
   ]
  },
  {
   "cell_type": "code",
   "execution_count": 215,
   "metadata": {},
   "outputs": [],
   "source": [
    "# Tirando os rotulos que nao batem com os dados\n",
    "continua = True\n",
    "while continua == True:\n",
    "    continua = False\n",
    "    for i in range(len(x)):\n",
    "        if len(x[i]) > len(y[i]):\n",
    "            x[i].pop()\n",
    "            continua = True\n",
    "\n",
    "        if len(x[i]) < len(y[i]):\n",
    "            y[i].pop()\n",
    "            continua = True"
   ]
  },
  {
   "cell_type": "markdown",
   "metadata": {},
   "source": [
    "Create dictionary feature for each word in each sequence in x"
   ]
  },
  {
   "cell_type": "code",
   "execution_count": 216,
   "metadata": {},
   "outputs": [],
   "source": [
    "def get_features(sentence):\n",
    "        \"\"\"Create features for each word in act.\n",
    "        Create a list of dict of words features to be used in the predictor module.\n",
    "        Args:\n",
    "            act (list): List of words in an act.\n",
    "        Returns:\n",
    "            A list with a dictionary of features for each of the words.\n",
    "        \"\"\"\n",
    "        sent_features = []\n",
    "        for i in range(len(sentence)):\n",
    "            # print(sentence[i])\n",
    "            word_feat = {\n",
    "                'word': sentence[i].lower(),\n",
    "                'capital_letter': sentence[i][0].isupper(),\n",
    "                'all_capital': sentence[i].isupper(),\n",
    "                'isdigit': sentence[i].isdigit(),\n",
    "                'word_before': sentence[i].lower() if i == 0 else sentence[i-1].lower(),\n",
    "                'word_after:': sentence[i].lower() if i+1 >= len(sentence) else sentence[i+1].lower(),\n",
    "                'BOS': i == 0,\n",
    "                'EOS': i == len(sentence)-1\n",
    "            }\n",
    "            sent_features.append(word_feat)\n",
    "        return sent_features\n",
    "    \n",
    "for i in range(len(x)):\n",
    "    x[i] = get_features(x[i])"
   ]
  },
  {
   "cell_type": "markdown",
   "metadata": {},
   "source": [
    "Separate train and test splits (in order)"
   ]
  },
  {
   "cell_type": "code",
   "execution_count": 217,
   "metadata": {},
   "outputs": [
    {
     "data": {
      "text/plain": [
       "(934, 234, 934)"
      ]
     },
     "execution_count": 217,
     "metadata": {},
     "output_type": "execute_result"
    }
   ],
   "source": [
    "import math\n",
    "split_idx = math.floor(0.8*len(x))\n",
    "x_train = x[0:split_idx]\n",
    "y_train = y[0:split_idx]\n",
    "x_test = x[split_idx:]\n",
    "y_test = y[split_idx:]\n",
    "len(x_train),  len(x_test), len(y_train)\n"
   ]
  },
  {
   "cell_type": "code",
   "execution_count": 228,
   "metadata": {},
   "outputs": [
    {
     "data": {
      "text/plain": [
       "CRF(algorithm='lbfgs', all_possible_transitions=True, c1=0.1, c2=0.1,\n",
       "    keep_tempfiles=None, max_iterations=100)"
      ]
     },
     "execution_count": 228,
     "metadata": {},
     "output_type": "execute_result"
    }
   ],
   "source": [
    "import sklearn_crfsuite\n",
    "from sklearn_crfsuite import metrics\n",
    "\n",
    "crf = sklearn_crfsuite.CRF(\n",
    "    algorithm='lbfgs', \n",
    "    c1=0.1, \n",
    "    c2=0.1, \n",
    "    max_iterations=100, \n",
    "    all_possible_transitions=True\n",
    ")\n",
    "\n",
    "crf.fit(x_train, y_train)"
   ]
  },
  {
   "cell_type": "code",
   "execution_count": 229,
   "metadata": {},
   "outputs": [
    {
     "name": "stdout",
     "output_type": "stream",
     "text": [
      "['B-NUM_AJUSTE', 'B-PROCESSO', 'B-CONTRATANTE', 'B-CONTRATADA', 'I-CONTRATADA', 'B-OBJ_AJUSTE', 'I-OBJ_AJUSTE', 'B-VALOR', 'B-PT', 'I-PT', 'B-VIGENCIA', 'I-VIGENCIA', 'I-CONTRATANTE', 'B-DATA_ASSINATURA', 'I-DATA_ASSINATURA', 'B-NE', 'B-CODIGO_UO', 'B-ND', 'B-FUND_DISPENSA', 'I-FUND_DISPENSA', 'B-MODALIDADE_LICITACAO', 'I-MODALIDADE_LICITACAO', 'B-NUM_LICITACAO', 'B-TIPO_OBJ', 'I-TIPO_OBJ', 'B-ORGAO_LICITANTE', 'B-DATA_ABERTURA', 'I-DATA_ABERTURA', 'B-CODIGO_SISTEMA_COMPRAS', 'B-VALOR_ESTIMADO', 'B-NUM_CONTRATO', 'B-OBJ_ADITIVO', 'I-OBJ_ADITIVO', 'I-ND', 'B-NUM_ADITIVO', 'I-NUM_ADITIVO', 'B-IDENT_REVOGACAO_ANULACAO', 'I-IDENT_REVOGACAO_ANULACAO', 'B-SISTEMA_COMPRAS', 'I-VALOR_ESTIMADO', 'I-SISTEMA_COMPRAS', 'B-CONVENENTE', 'I-CONVENENTE', 'B-IDENT_DISPENSA', 'B-OBJ_LICITACAO', 'I-OBJ_LICITACAO', 'I-PROCESSO', 'I-NUM_LICITACAO', 'I-ORGAO_LICITANTE', 'I-VALOR', 'I-NE', 'I-NUM_CONTRATO', 'B-DECISAO_TCDF', 'I-IDENT_DISPENSA', 'I-DECISAO_TCDF', 'B-PRAZO_SUSPENSAO', 'I-PRAZO_SUSPENSAO', 'I-CODIGO_SISTEMA_COMPRAS']\n"
     ]
    },
    {
     "data": {
      "text/plain": [
       "0.6804841275892826"
      ]
     },
     "execution_count": 229,
     "metadata": {},
     "output_type": "execute_result"
    }
   ],
   "source": [
    "classes = list(crf.classes_)\n",
    "classes.remove('O')\n",
    "print(classes)\n",
    "y_pred = crf.predict(x_test)\n",
    "metrics.flat_f1_score(y_test, y_pred, average='weighted', labels=classes)"
   ]
  },
  {
   "cell_type": "code",
   "execution_count": 230,
   "metadata": {},
   "outputs": [
    {
     "name": "stdout",
     "output_type": "stream",
     "text": [
      "                            precision    recall  f1-score   support\n",
      "\n",
      "              B-NUM_AJUSTE      0.200     0.009     0.017       116\n",
      "                B-PROCESSO      1.000     0.023     0.045       130\n",
      "             B-CONTRATANTE      0.817     0.694     0.751       206\n",
      "              B-CONTRATADA      0.486     0.148     0.227       115\n",
      "              I-CONTRATADA      0.552     0.188     0.281       536\n",
      "              B-OBJ_AJUSTE      0.654     0.440     0.526       116\n",
      "              I-OBJ_AJUSTE      0.751     0.645     0.694      3781\n",
      "                   B-VALOR      0.154     0.030     0.051        66\n",
      "                      B-PT      0.286     0.035     0.062        57\n",
      "                      I-PT      0.000     0.000     0.000         4\n",
      "                B-VIGENCIA      0.651     0.500     0.566       112\n",
      "                I-VIGENCIA      0.757     0.836     0.794      1413\n",
      "             I-CONTRATANTE      0.962     0.864     0.910       927\n",
      "         B-DATA_ASSINATURA      0.154     0.018     0.032       111\n",
      "         I-DATA_ASSINATURA      0.297     0.268     0.282        41\n",
      "                      B-NE      0.296     0.163     0.211        49\n",
      "               B-CODIGO_UO      0.571     0.229     0.327        35\n",
      "                      B-ND      0.500     0.149     0.230        47\n",
      "           B-FUND_DISPENSA      0.000     0.000     0.000         5\n",
      "           I-FUND_DISPENSA      0.000     0.000     0.000        71\n",
      "    B-MODALIDADE_LICITACAO      0.909     0.833     0.870        24\n",
      "    I-MODALIDADE_LICITACAO      0.905     0.760     0.826        25\n",
      "           B-NUM_LICITACAO      0.600     0.218     0.320        55\n",
      "                B-TIPO_OBJ      0.000     0.000     0.000         0\n",
      "                I-TIPO_OBJ      0.000     0.000     0.000         0\n",
      "         B-ORGAO_LICITANTE      0.750     0.750     0.750         4\n",
      "           B-DATA_ABERTURA      0.333     0.067     0.111        15\n",
      "           I-DATA_ABERTURA      0.889     0.400     0.552        20\n",
      "  B-CODIGO_SISTEMA_COMPRAS      0.000     0.000     0.000         1\n",
      "          B-VALOR_ESTIMADO      0.000     0.000     0.000         3\n",
      "            B-NUM_CONTRATO      0.378     0.183     0.246        93\n",
      "             B-OBJ_ADITIVO      0.727     0.609     0.663        92\n",
      "             I-OBJ_ADITIVO      0.725     0.779     0.751      4925\n",
      "                      I-ND      0.000     0.000     0.000         2\n",
      "             B-NUM_ADITIVO      1.000     0.877     0.934        65\n",
      "             I-NUM_ADITIVO      1.000     0.912     0.954       125\n",
      "B-IDENT_REVOGACAO_ANULACAO      0.667     0.400     0.500         5\n",
      "I-IDENT_REVOGACAO_ANULACAO      1.000     0.500     0.667         8\n",
      "         B-SISTEMA_COMPRAS      1.000     0.200     0.333        10\n",
      "          I-VALOR_ESTIMADO      0.000     0.000     0.000         0\n",
      "         I-SISTEMA_COMPRAS      0.000     0.000     0.000         2\n",
      "              B-CONVENENTE      0.000     0.000     0.000         0\n",
      "              I-CONVENENTE      0.000     0.000     0.000         0\n",
      "          B-IDENT_DISPENSA      0.000     0.000     0.000         6\n",
      "           B-OBJ_LICITACAO      0.000     0.000     0.000         0\n",
      "           I-OBJ_LICITACAO      0.000     0.000     0.000         0\n",
      "                I-PROCESSO      0.000     0.000     0.000         7\n",
      "           I-NUM_LICITACAO      0.000     0.000     0.000         2\n",
      "         I-ORGAO_LICITANTE      0.952     0.833     0.889        24\n",
      "                   I-VALOR      0.000     0.000     0.000         5\n",
      "                      I-NE      0.000     0.000     0.000         6\n",
      "            I-NUM_CONTRATO      0.000     0.000     0.000         1\n",
      "            B-DECISAO_TCDF      0.000     0.000     0.000         0\n",
      "          I-IDENT_DISPENSA      0.000     0.000     0.000        24\n",
      "            I-DECISAO_TCDF      0.000     0.000     0.000         0\n",
      "         B-PRAZO_SUSPENSAO      0.000     0.000     0.000         0\n",
      "         I-PRAZO_SUSPENSAO      0.000     0.000     0.000         0\n",
      "  I-CODIGO_SISTEMA_COMPRAS      0.000     0.000     0.000         0\n",
      "\n",
      "                 micro avg      0.747     0.668     0.705     13487\n",
      "                 macro avg      0.361     0.234     0.265     13487\n",
      "              weighted avg      0.723     0.668     0.680     13487\n",
      "\n"
     ]
    }
   ],
   "source": [
    "print(metrics.flat_classification_report(\n",
    "    y_test, y_pred, labels=classes, digits=3\n",
    "))"
   ]
  },
  {
   "cell_type": "code",
   "execution_count": null,
   "metadata": {},
   "outputs": [],
   "source": []
  }
 ],
 "metadata": {
  "kernelspec": {
   "display_name": "Python 3",
   "language": "python",
   "name": "python3"
  },
  "language_info": {
   "codemirror_mode": {
    "name": "ipython",
    "version": 3
   },
   "file_extension": ".py",
   "mimetype": "text/x-python",
   "name": "python",
   "nbconvert_exporter": "python",
   "pygments_lexer": "ipython3",
   "version": "3.8.10"
  }
 },
 "nbformat": 4,
 "nbformat_minor": 4
}
