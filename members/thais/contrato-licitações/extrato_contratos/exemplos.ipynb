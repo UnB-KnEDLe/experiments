{
 "cells": [
  {
   "cell_type": "markdown",
   "metadata": {},
   "source": [
    "# Exemplos: Extrato de contrato"
   ]
  },
  {
   "cell_type": "code",
   "execution_count": null,
   "metadata": {},
   "outputs": [],
   "source": [
    "Extrato do primeiro/segundo/terceiro/quarto... termo aditivo/apostilado do/ao contrato"
   ]
  },
  {
   "cell_type": "markdown",
   "metadata": {},
   "source": [
    "## Documentos:\n",
    "### 1 - [DODF - 025](https://dodf.df.gov.br/index/visualizar-arquivo/?pasta=2021|02_Fevereiro|DODF%20025%2005-02-2021|&arquivo=DODF%20025%2005-02-2021%20INTEGRA.pdf)\n",
    "\n",
    "### 2 - [DODF - 246](https://www.dodf.df.gov.br/index/visualizar-arquivo/?pasta=2020/12_Dezembro/DODF%20246%2031-12-2020&arquivo=DODF%20246%2031-12-2020%20INTEGRA.pdf)\n",
    "\n"
   ]
  },
  {
   "cell_type": "markdown",
   "metadata": {},
   "source": [
    "## Documento 1"
   ]
  },
  {
   "cell_type": "markdown",
   "metadata": {},
   "source": [
    "### Ato:"
   ]
  },
  {
   "cell_type": "markdown",
   "metadata": {},
   "source": [
    "EXTRATO DE CONTRATO Nº 042745/2021\n",
    "Processo:    00304-00000024/2021-50.    \n",
    "Contratante:    Administração    Regional    de Sobradinho  II.  \n",
    "Contratada:  Empresa  Connec  Telecomunicações  e  Informática  Ltda-EPP.  \n",
    "Objeto:  Contratação  de  Serviços  de  Telecomunicações  (serviço  telefônicofixo  comutado  STFC,  LDN  e  solução  de  telefonia  fixa  corporativa  baseada  natecnologia  VoIP).  \n",
    "Vigência:  a  partir  de  03  de  fevereiro  de  2021  a  04  de  fevereirode  2022.  \n",
    "Valor  Estimado:  R$  16.016.04  (dezesseis  mil  e  e  dezesseis  reais  e  quatrocentavos).  \n",
    "Modalidade  da  contratação:  Ata  de  Registro  de  Preços  nº  01/2021, tendo  por  objetivo  os  itens  no  qual  esta  Administração  Regional  é  participante  do Pregão   Eletrônico   nº   142/2020   -   COLIC/SCG/SPLAN/SEEC-DF.  \n",
    "Fundamento Legal:  Lei  nº  8.666/93  e  Decreto  nº  39.103,  de  06  de  junho  de  2018,  \n",
    "Signatários: Pelo  Distrito  Federal,  OSMAR  DA  SILVA  FELICIO  -  Administrador  Regional,pela Contratada, Paula Tatiane de matos – Representante Legal da Empresa."
   ]
  },
  {
   "cell_type": "markdown",
   "metadata": {},
   "source": [
    "### Padrões:"
   ]
  },
  {
   "cell_type": "markdown",
   "metadata": {},
   "source": [
    "- DESCRIÇAO OBJETO\n",
    "- CONTRATO\n",
    "- PROCESSO\n",
    "- CONTRATANTE\n",
    "- CONTRATADA\n",
    "- OBJETO\n",
    "- VIGENCIA\n",
    "- VALOR\n",
    "- MODALIDADE LICITATORIA\n",
    "- ATA REGISTRO DE PREÇOS\n",
    "- FUNDAMENTO LEGAL\n",
    "- SIGNATARIOS\n"
   ]
  },
  {
   "cell_type": "markdown",
   "metadata": {},
   "source": [
    "### Ato:"
   ]
  },
  {
   "cell_type": "markdown",
   "metadata": {},
   "source": [
    "EXTRATO DO CONTRATO Nº 42676/2021\n",
    "Processo:  00020-00005713/2020-47.  \n",
    "A  SECRETARIA  DE  ESTADO  DE  ECONOMIADO  DISTRITO  FEDERAL  (SEEC),  na  qualidade  de  CONTRATANTE  e  CAMILO ZUFELATO,   na   qualidade   de   CONSULTOR   INDIVIDUAL.   \n",
    "DO   OBJETO: consultoria  especializada  para  a  realização  de  pesquisa  e  a  compilação  de  dadospara  a  elaboração  de  relatório  que  defina  o  custo  unitário  e  o  tempo  médio  doprocesso  eletrônico  de  execução  fiscal  na  Justiça  do  Distrito  Federal,  para  o  anode  2019,  com  a  aplicação  da  metodologia  desenvolvida  pelo  IPEA  no  estudodenominado  “Custo  Unitário  de  Execução  Fiscal  da  Justiça  Federal  -  Relatóriode  Pesquisa  IPEA”.  \n",
    "DO  VALOR:  R$  114.000,00  (cento  e  quatorze  mil  reais).\n",
    "DA  DOTAÇÃO  ORÇAMENTÁRIA:  I  –  Unidade  Orçamentária:  19.101; \n",
    "II  –Programa  de  Trabalho:  04.122.6203.31046.0001;  \n",
    "III  –  Natureza  da  Despesa: 33.90.35.  O  empenho  é  de  R$  114.000,00  (cento  e  quatorze  mil  reais),  conforme Nota  de  Empenho  nº  2021NE00908,  emitida  em  28/01/2021,  sob  o  evento  nº400091,  na  modalidade  Ordinário.  \n",
    "DO  PRAZO  DE  VIGÊNCIA:  O  contrato  terávigência    a    partir    da    sua    assinatura    até    31    de    março    de    2021.    \n",
    "DA ASSINATURA:   02/02/2021.   \n",
    "DOS   SIGNATÁRIOS:   Pela   SEEC:   ANALICEMARQUES   DA   SILVA,   Subsecretária   de   Compras   Governamentais   e   peloConsultor: CAMILO ZUFELATO, na qualidade de Consultor Individual."
   ]
  },
  {
   "cell_type": "markdown",
   "metadata": {},
   "source": [
    "### Padrões:"
   ]
  },
  {
   "cell_type": "markdown",
   "metadata": {},
   "source": [
    "- DESCRIÇAO OBJETO\n",
    "- CONTRATO\n",
    "- PROCESSO\n",
    "- CONTRATANTE\n",
    "- CONTRATADO\n",
    "- OBJETO\n",
    "- VALOR\n",
    "- VIGENCIA\n",
    "- MODALIDADE LICITATORIA\n",
    "- SIGNATARIOS\n",
    "\n",
    "- DATA ASSINATURA\n",
    "- DOTAÇAO ORÇAMENTARIA\n",
    "- NOTA DE EMPENHO\n"
   ]
  },
  {
   "cell_type": "markdown",
   "metadata": {},
   "source": [
    "### Ato:"
   ]
  },
  {
   "cell_type": "markdown",
   "metadata": {},
   "source": [
    "EXTRATO DO CONTRATO Nº 42686/2021\n",
    "Processo:    00040-00015583/2020-86.    \n",
    "A    SECRETARIA    DE    ESTADO    DEECONOMIA     DO     DISTRITO     FEDERAL     (SEEC),     na     qualidade     de CONTRATANTE    e    a    ITA    EMPRESA    DE    TRANSPORTES    LTDA,    naqualidade  de  CONTRATADA. \n",
    "DO  OBJETO:  prestação  de  serviços  de  locação de  veículos  automotores  do  tipo  executivo,  sedan  médio,  na  cor  preta,  compotência  mínima  de  150  cv,  zero  quilômetro,  sem  motorista,  sem  combustível (com    exceção    da    entrega    que    deverá    ser    com    o    tanque    cheio),    comquilometragem  livre,  com  seguro  total,  sem  franquia,  com  ar-condicionado  edireção   hidráulica   (ou   elétrica)   para   atender   à   Secretaria   de   Estado   de Economia     do     Distrito     Federal-SEEC/DF,     nos     termos,     condições     eespecificações   estabelecidas   no   Termo   de   Referência,   no   Edital   de   PregãoEletrônico  nº  123/2020  -  COLIC/SCG/SPLAN/SEEC-DF.  \n",
    "DO  VALOR:  O  valortotal  do  contrato  é  de  R$  2.047.459,68  (dois  milhões,  quarenta  e  sete  mil,quatrocentos  e  cinquenta  e  nove  reais  e  sessenta  e  oito  centavos)  e  correrá  àconta   de   dotações   orçamentárias   consignadas   no   orçamento   corrente   –   LeiOrçamentária   Anual,   enquanto   as   parcelas   remanescentes   serão   custeadas   àconta  de  dotações  a  serem  alocadas  no  orçamento  seguinte.  \n",
    "DA  DOTAÇÃO ORÇAMENTÁRIA:   I   –   Unidade   Orçamentária:   19.101;   II   –   Programa   deTrabalho:  04.122.8203.2984.0001;  III  –  Natureza  da  Despesa:  33.90.39;  IV  –Fonte  de  Recursos:  100.  \n",
    "O  empenho  é  de  R$  170.621,64  (cento  e  setenta  mil,seiscentos  e  vinte  e  um  reais  e  sessenta  e  quatro  centavos),  conforme  Nota  deEmpenho  nº  2021NE00775,  emitida  em  27/01/2021,  sob  o  evento  nº  400091,na   modalidade   Estimativo.   \n",
    "DO   PRAZO   DE   VIGÊNCIA:   O   contrato   terávigência   de   12   (doze)   meses,   contados   a   partir   da   data   de   sua   assinatura,podendo   ser   prorrogado,   no   interesse   do   CONTRATANTE,   por   iguais   esucessivos  períodos  até  o  limite  de  60  (sessenta)  meses,  conforme  artigo  57,inciso    II,    da    Lei    nº    8.666/93.    \n",
    "DA    ASSINATURA:    03/02/2021.    \n",
    "DOS SIGNATÁRIOS:  Pela  SEEC:  ANALICE  MARQUES  DA  SILVA,  Subsecretáriade   Compras   Governamentais   e   pela   CONTRATADA:   HELOISA   PINHEIRODIAS SEMEGHINI, na qualidade de Procuradora Legal da Empresa."
   ]
  },
  {
   "cell_type": "markdown",
   "metadata": {},
   "source": [
    "### Padrões:"
   ]
  },
  {
   "cell_type": "markdown",
   "metadata": {},
   "source": [
    "- DESCRIÇAO OBJETO\n",
    "- CONTRATO\n",
    "- PROCESSO\n",
    "- CONTRATANTE\n",
    "- CONTRATADO\n",
    "- OBJETO\n",
    "- VALOR\n",
    "- VIGENCIA\n",
    "- MODALIDADE LICITATORIA\n",
    "- SIGNATARIOS\n",
    "\n",
    "- DATA ASSINATURA\n",
    "- DOTAÇAO ORÇAMENTARIA\n",
    "- NOTA DE EMPENHO\n"
   ]
  },
  {
   "cell_type": "markdown",
   "metadata": {},
   "source": [
    "### Ato:"
   ]
  },
  {
   "cell_type": "markdown",
   "metadata": {},
   "source": [
    "EXTRATO DO CONTRATO CORRETORA SEGUROS BRB Nº 37/2020\n",
    "Contratante:    BRB    ADMINISTRADORA    E    CORRETORA    DE    SEGUROS    S.A.\n",
    "Contratada:   FERNANDO   GONÇALVES   COSTA.   \n",
    "Modalidade:   Pregão   Eletrônico.\n",
    "Objeto  do  Contrato:  Contratação  de  Leiloeiro  Público  Oficial  para  a  realização,  incluindoa preparação, avaliação, transporte, organização e condução, de futuros leilões públicos debens   móveis   e/ou   imóveis   pertencentes   ao   patrimônio   desta   Companhia.   \n",
    "Vigência: 08/01/2021  a  08/01/2022. \n",
    "Taxa  de  Comissão:  0,01%  (zero  vírgula  zero  um  por  cento)  dovalor  de  arrematação.  \n",
    "Gestor:  Wellington  Ferreira  da  Silva  Junior.  A  despesa  decorrentedo  presente  Contrato  correrá  com  base  no  Planejamento  Estratégico  e  Orçamentário2021/2025.  \n",
    "Signatários,  pela  CORRETORA  SEGUROS  BRB:  Humberto  José  TeófiloMagalhães  e  Luciano  Henn  Bernardi  e  pela  CONTRATADA:  Fernando  Gonçalves  Costa.Processo nº: 2862/2020"
   ]
  },
  {
   "cell_type": "markdown",
   "metadata": {},
   "source": [
    "### Padrões:"
   ]
  },
  {
   "cell_type": "markdown",
   "metadata": {},
   "source": [
    "- DESCRIÇAO OBJETO\n",
    "- CONTRATO\n",
    "- PROCESSO\n",
    "- CONTRATANTE\n",
    "- CONTRATADO\n",
    "- OBJETO\n",
    "- TAXA DE COMISSAO\n",
    "- VIGENCIA\n",
    "- GESTOR\n",
    "- MODALIDADE LICITATORIA\n",
    "- SIGNATARIOS\n"
   ]
  },
  {
   "cell_type": "markdown",
   "metadata": {},
   "source": [
    "### Ato:"
   ]
  },
  {
   "cell_type": "markdown",
   "metadata": {},
   "source": [
    "EXTRATO DO CONTRATO CORRETORA SEGUROS BRB Nº 01/2021\n",
    "Contratante:   BRB   ADMINISTRADORA   E   CORRETORA   DE   SEGUROS   S.A.\n",
    "Contratada:    DECISION    SERVIÇOS    DE    TECNOLOGIA    DA    INFORMAÇÃOLTDA.  \n",
    "Modalidade:   Pregão   Eletrônico.   \n",
    "Objeto   do   Contrato:   Fornecimento   decomputadores  tipo  Desktops  e  computadores  portáteis  tipo  Notebooks.  \n",
    "Vigência: 26/01/2021  a  26/01/2024.  \n",
    "Valor  Total:  R$  558.327,96  (quinhentos  e  cinquenta  e  oitomil,  trezentos  e  vinte  e  sete  reais  e  noventa  e  seis  centavos).  \n",
    "Gestor:  Rafael  PintoFerreira.   A   despesa   decorrente   do   presente   Contrato   correrá   com   base   noPlanejamento    Estratégico    e    Orçamentário    2021/2025,    registrada    na    rubrica“Computadores   e   Periféricos”.   \n",
    "Signatários   pela   CORRETORA   SEGUROS   BRB: Humberto     José     Teófilo     Magalhães     e     Luciano     Henn     Bernardi,     e     pela CONTRATADA: Jader Edwardo Lopes Andrade. \n",
    "Processo nº: 2602/2018."
   ]
  },
  {
   "cell_type": "markdown",
   "metadata": {},
   "source": [
    "### Padrões:"
   ]
  },
  {
   "cell_type": "markdown",
   "metadata": {},
   "source": [
    "- DESCRIÇAO OBJETO\n",
    "- CONTRATO\n",
    "- PROCESSO\n",
    "- CONTRATANTE\n",
    "- CONTRATADO\n",
    "- OBJETO\n",
    "- VIGENCIA\n",
    "- VALOR\n",
    "- GESTOR\n",
    "- MODALIDADE LICITATORIA\n",
    "- SIGNATARIOS\n"
   ]
  },
  {
   "cell_type": "markdown",
   "metadata": {},
   "source": [
    "### Ato:"
   ]
  },
  {
   "cell_type": "markdown",
   "metadata": {},
   "source": [
    "EXTRATOS CONTRATUAIS \n",
    "Espécie:  Quinto  Termo  Aditivo  ao  Contrato  nº  063/2017-SES/DF.  \n",
    "SIGGO:  35189-35190.\n",
    "Partes:  DISTRITO  FEDERAL,  por  intermédio  de  sua  SECRETARIA  DE  ESTADO  DESAÚDE  DO  DISTRITO  FEDERAL  e  a  empresa  DISTRITAL  MEDICO  HOSPITALARLTDA. \n",
    "CNPJ nº 02.403.217/000178. \n",
    "Objeto: a modificação do valor contratual decorrenteda  supressão  percentual  de  0,1750603%  do  valor  inicial  atualizado  do  contrato,  conformepreceitua  a  alínea  \"b\"  do  inciso  I,  do  §1º  do  art.  65  da  Lei  8.666/93  e  dentro  dos  limites estabelecidos, de forma que: Valor Total Anual passará de R$ 2.188.945,85 (dois milhões,cento  e  oitenta  e  oito  mil  novecentos  e  quarenta  e  cinco  reais  e  oitenta  e  cinco  centavos)para  R$  2.183.666,16  (dois  milhões,  cento  e  oitenta  e  três  mil  seiscentos  e  sessenta  e  seisreais e dezesseis centavos); Valor Total Mensal passará de R$ 182.412,15 (cento e oitentae  dois  mil  quatrocentos  e  doze  reais  e  quinze  centavos)  para  R$  181.972,18  (cento  eoitenta e um mil novecentos e setenta e dois reais e dezoito centavos). O detalhamento doobjeto  está  contido  no  anexo  I  deste  Termo  Aditivo.  \n",
    "Vigência:  a  contar  da  assinatura.\n",
    "Despesa  de  Publicação:  SES.  \n",
    "Processo  nº:00060-00037126/2017-72.  \n",
    "Data  de  Assinatura:02/02/2021.  Pela  SES/DF:  OSNEI  OKUMOTO.  Pela  contratada:  LEONARDO  LAUSERCOLETTO.  \n",
    "Testemunhas:  MARCUS  PAULO  SANTOS  GOMES  e  CAMILA  CALVETGUIMARAES. \n",
    "Publicação do Ajuste Original: 01/09/2017.\n",
    "\n",
    "\n",
    "\n",
    "Espécie:  Quarto  Termo  Aditivo  ao  Contrato  nº  017/2018-SES/DF.  \n",
    "SIGGO:  35825.  \n",
    "Partes:  DISTRITO  FEDERAL,  por  intermédio  de  sua  SECRETARIA  DE  ESTADO  DE  SAÚDE  DO DISTRITO FEDERAL e a empresa METHABIO FARMACÊUTICA DO BRASIL LTDA. \n",
    "CNPJ nº 08.766.992/0001-74. \n",
    "Objeto: 2.4. A modificação do valor contratual em decorrênciada  supressão  de  1,13721%  percentual  em  seu  objeto  item  3,  cod.  SES  35189,  na  quantidade  de  240,  passando  o  valor  contratual  atualizado  de  R$  1.005.901,46  (um  milhão,  cinco  milnovecentos e um reais e quarenta e seis centavos) para R$ 994.590,82 (novecentos e noventa e quatro mil quinhentos e noventa reais e oitenta e dois centavos).2.5.Reajustar em 3,48% ovalor do contrato, referente ao IPCA acumulado do período de Março/2019 - Dez/2019, passando o valor total de R$ 968.234,24 (novecentos e sessenta e oito mil duzentos e trinta e quatroreais e vinte e quatro centavos) para R$ 1.056.455,07 (um milhão, cinquenta e seis mil quatrocentos e cinquenta e cinco reais e sete centavos). Leia-se: 2.4. Suprimir o quantitativo de 228unidades no item 3 do contrato, conforme tabela abaixo:\n"
   ]
  },
  {
   "cell_type": "markdown",
   "metadata": {},
   "source": [
    "### Padrões:"
   ]
  },
  {
   "cell_type": "markdown",
   "metadata": {},
   "source": [
    "- DESCRIÇAO OBJETO\n",
    "- ESPECIE\n",
    "- SIGGO\n",
    "- PARTES\n",
    "- CNPJ\n",
    "- OBJETO\n",
    "- VIGENCIA\n",
    "- PROCESSO\n",
    "- DATA ASSINATURA\n",
    "- SIGNATARIOS\n",
    "- TESTEMUNHAS\n"
   ]
  },
  {
   "cell_type": "markdown",
   "metadata": {},
   "source": [
    "### Ato:"
   ]
  },
  {
   "cell_type": "markdown",
   "metadata": {},
   "source": [
    "EXTRATOS DE CONTRATO \n",
    "CONTRATO Nº 9295. \n",
    "ASSINATURA: 02/02/2021.\n",
    "Processo:     0009200015496202070.     \n",
    "PE     nº     197/2020     -     CAESB.     \n",
    "OBJETO: Fornecimento,   substituição   e   tratamento   do   óleo   isolante   do   transformador   depotência  TR-B,  de  15/20  MVA  –138/13,8  KV,  instalado  na  Estação  Elevatória  deÁgua   Bruta   do   Rio   Descoberto.   \n",
    "DOTAÇÃO   ORÇAMENTÁRIA:   UO:   22.202; PROGRAMA     DE     TRABALHO:     17.122.8209.8517.6977/33.90.39,     CÓDIGO12.203.205.300-3,   FONTE   DE   RECURSO:   RECURSOS   PRÓPRIOS,   CÓDIGO11.101.000.000-3;    UG:    190.206;    GESTÃO:    19.206;    EMPENHO    789/2021,DATADO  DE:  29/01/2021,  VALOR  DO  EMPENHO:  R$  240.000,00  (duzentos  equarenta  mil  reais).  VALOR  DO  CONTRATO:  R$  240.000,00  (duzentos  e  quarentamil  reais)  EXECUÇÃO/VIGÊNCIA:  90(noventa)  dias  consecutivos  e  270  (duzentose  setenta)  dias  consecutivos,  respectivamente.  FISCALIZAÇÃO:  Aldemir  Pino  DeSouza,  matrícula  nº  49.522-0  gestor.  Elizandro  Rodrigues  Da  Cruz,  matrícula  nº51.904-9;  José  Armando  de  Jesus  Moreno,  matrícula  nº  51.965-0;  Fábio  dos  SantosSilva,   matrícula   nº   52.408-5   para   fiscais.   ASSINANTES:   Pela   CAESB:   DanielBeltrão  de  Rossiter  Corrêa  -  Presidente  e  Carlos  Eduardo  Borges  Pereira  -  GABDP  -GABINETE   DA   DIRETORIA   DE   OPERACAO   E   MANUTENCAO.   Pela   WPAAMBIENTAL INDUSTRIA, COMERCIO E SERVIÇOS LTDA: Jose Angelo Rigo."
   ]
  },
  {
   "cell_type": "markdown",
   "metadata": {},
   "source": [
    "### Padrões:"
   ]
  },
  {
   "cell_type": "markdown",
   "metadata": {},
   "source": [
    "- DESCRIÇAO OBJETO\n",
    "- CONTRATO\n",
    "- DATA ASSINATURA\n",
    "- PROCESSO\n",
    "- MODALIDADE LICITATORIA\n",
    "- OBJETO\n",
    "- DOTAÇAO ORÇAMENTARIA\n",
    "- VALOR\n",
    "- VIGENCIA\n",
    "- FISCALIZAÇAO\n",
    "- MATRICULA\n",
    "\n",
    "- SIGNATARIOS\n"
   ]
  },
  {
   "cell_type": "markdown",
   "metadata": {},
   "source": [
    "### Ato:"
   ]
  },
  {
   "cell_type": "markdown",
   "metadata": {},
   "source": [
    "EXTRATOS DE CONTRATOS\n",
    "\n",
    "Espécie:  Contrato  nº  974/2021  -  CEB  DISTRIBUIÇÃO  S.A.  \n",
    "Partes:  CEB  DistribuiçãoS.A.  e  a  Indel  Bauru  Indústria  Eletrometalurgica  LTDA.  \n",
    "Processo  00310-00016661/2020-32,  regido  pelo  Regulamento  de  Licitações  e  Contratos  do  Grupo  CEB  –  CEBLic  e  a  Lei13.303/2016  \n",
    "Data  de  Assinatura:  03/02/2021.  \n",
    "Objeto:  aquisição  de  elos  fusíveis  pelosistema  de  registro  de  preços.  \n",
    "Vigência:  120  dias.  \n",
    "Valor:  R$  3.302,25.  \n",
    "Assinaturas:  pelaCEB  Distribuição:  Edison  Antonio  Costa  Britto  Garcia  e  Graziela  Maria  Fernandes  dasNeves; e pela contratada: Antonio Fortunato Brustello.\n",
    "\n",
    "Espécie: Contrato nº 976/2021 - CEB DISTRIBUIÇÃO S.A. \n",
    "Partes: CEB Distribuição S.A. ea  Síntese  Indústria  e  Comércio  LTDA.  \n",
    "Processo  00310-00010123/2020-34,  regido  peloRegulamento  de  Licitações  e  Contratos  do  Grupo  CEB  –  CEBLic  e  a  Lei  13.303/2016  \n",
    "Data de  Assinatura:  03/02/2021.  \n",
    "Objeto  aquisição  de  escadas.  \n",
    "Vigência:  120  dias.  \n",
    "Valor:  R$7.722,00. \n",
    "Assinaturas: pela CEB Distribuição: Edison Antonio Costa Britto Garcia e Graziela Maria Fernandes das Neves; e pela contratada: Ricardo Choairy Coelho.CEB GERAÇÃO S.AEXTRATO DE CONTRATO\n",
    "\n",
    "Espécie:  Contrato  Simplificado  de  Serviço  nº  002/2021  CEB  Geração  S.A.  \n",
    "Partes:  CEBGERAÇÃO  S.A.,  e  a  PURILUB  TRANSPORTE  E  PURIFICAÇÃO  LTDA.  \n",
    "Assinatura:29/01/2021.  \n",
    "Objeto:  Contratação  de  empresa  especializada  para  realização  de  Análise  doÓleo  Lubrificante  da  PCH  PA,  o  valor  anual  do  contrato  dependerá  da  periodicidade  dostestes  a  serem  realizados.  Os  serviços  serão  realizados  sob  demanda,  com  o  mínimo  dedois testes anuais. O valor da execução de cada grupo de testes descritos na Especificação Técnica   n.º   001/2021   -   CEBG/DIR/TEC   (54235883)   será   de   1.485,00   (um   milquatrocentos e oitenta e cinco reais), perfazendo valor mínimo anual de R$ 2.970 (dois milnovecentos  e  setenta  reais)  e  o  valor  total  mínimo  do  contrato  após  os  5  anos  de  R$14.850,00  (quatorze  mil  oitocentos  e  cinquenta  reais).  \n",
    "Prazo:  05  (cinco)  anos  a  contar  daassinatura do contrato simplificado.Brasília/DF, 04 de fevereiro de 2021PRISCILA PARIS MENDONÇADiretora"
   ]
  },
  {
   "cell_type": "markdown",
   "metadata": {},
   "source": [
    "### Padrões:"
   ]
  },
  {
   "cell_type": "markdown",
   "metadata": {},
   "source": [
    "- DESCRIÇAO OBJETO\n",
    "- ESPECIE\n",
    "- CONTRATO\n",
    "- PARTES\n",
    "- PROCESSO\n",
    "- OBJETO\n",
    "- VIGENCIA\n",
    "- VALOR\n",
    "- DATA ASSINATURA\n"
   ]
  },
  {
   "cell_type": "markdown",
   "metadata": {},
   "source": [
    "### Ato:"
   ]
  },
  {
   "cell_type": "markdown",
   "metadata": {},
   "source": [
    "EXTRATOS CONTRATUAIS\n",
    "Processo:  00112-00015735/2018-35.  \n",
    "ESPÉCIE:  PRIMEIRO  TERMO  ADITIVO  AOCONTRATO   DE   AQUISIÇÃO   DE   BENS   D.A.   Nº   002/2019   –   ASJUR/PRES.\n",
    "CONTRATANTES:  NOVACAP  e  NEO  CONSULTORIA  E  ADMINISTRAÇÃO  DEBENEFÍCIOS  EIRELI  -  EPP.  DO  \n",
    "OBJETO:  Prorrogação  do  prazo  de  vigência  doContrato   originário.   \n",
    "VALOR:   R$   1.453.511,45.   \n",
    "PRAZO:   24   meses   a   partir   de15/02/2021.   \n",
    "RECURSOS:   Nota   de   Empenho   n°   2021NE00122,   no   valor   de   R$122.000,00,  à  conta  do  Programa  de  Trabalho  nº  15.425.6209.8508.0002,  Natureza  da Despesa   nº   33.90.39,   Fonte   de   Recurso   nº   100.   \n",
    "DATA   DA   ASSINATURA: 01/02/2021.  \n",
    "PELA  NOVACAP:  Fernando  Rodrigues  Ferreira  Leite  e  Elzo  BertoldoGomes. \n",
    "PELA CONTRATADA: Julio Cesar Miranda.\n",
    "\n",
    "Processo:   00112-00026231/2018-41.   \n",
    "ESPÉCIE:   TERCEIRO   TERMO   ADITIVO   AOCONTRATO  DE  EXECUÇÃO  DE  OBRA  DE  ENGENHARIA  –  D.E.  –  Nº  071/2019  –DJ/NOVACAP.  \n",
    "CONTRATANTES:  NOVACAP  e  SOLTEC  ENGENHARIA  LTDA.DO  \n",
    "OBJETO:  Prorrogação  do  prazo  de  execução  e  vigência  do  Contrato  originário.\n",
    "PRAZO:  Prorrogam-se  os  prazos,  por  mais  60  dias  corridos  de  execução  e  vigência,considerando que os termos finais se darão em 31/01/2021 e 04/04/2021, respectivamente.\n",
    "DATA DA ASSINATURA: 30/01/2021. \n",
    "PELA NOVACAP: Fernando Rodrigues FerreiraLeite e Virgínia Cussi Sanchez. \n",
    "PELA CONTRATADA: Adalberto Cleber Valadao.\n",
    "\n",
    "Processo:   00138-00000757/2020-81.   \n",
    "ESPÉCIE:   PRIMEIRO   TERMO   ADITIVO   AOCONTRATO  DE  PRESTAÇÃO  DE  SERVIÇOS  -  D.E.  Nº  090/2020  -  DJ/NOVACAP.\n",
    "CONTRATANTES:  NOVACAP  e  CASA  HUM  ARQUITETURA  E  EVENTOS  EIRELIEPP.   DO   \n",
    "OBJETO:   Prorrogação   do   prazo   de   vigência,   com   convalidação   de   atos praticados e reabertura do prazo de execução do Contrato originário. \n",
    "PRAZO: Prorroga-seo prazo de vigência por mais 107 dias corridos considerando que o seu termo final se daráem   14/04/2021. Convalidam-se   os   atos   praticados   a   partir   de   15/12/2020   até   aformalização  do  Termo  Aditivo.  Reabre-se  o  prazo  de  execução  por  mais  107  diascorridos,  deduzido  deste  o  prazo  convalidado.  \n",
    "DATA  DA  ASSINATURA:  02/02/2021.\n",
    "PELA  NOVACAP:  Fernando  Rodrigues  Ferreira  Leite  e  Virgínia  Cussi  Sanchez.  \n",
    "PELA CONTRATADA: José Humberto Macêdo de Gois."
   ]
  },
  {
   "cell_type": "markdown",
   "metadata": {},
   "source": [
    "### Padrões:"
   ]
  },
  {
   "cell_type": "markdown",
   "metadata": {},
   "source": [
    "- DESCRIÇAO OBJETO\n",
    "- ESPECIE\n",
    "- CONTRATO\n",
    "- CONTRATANTE\n",
    "- CONTRATADO\n",
    "- OBJETO\n",
    "- PARTES\n",
    "- PROCESSO\n",
    "- VIGENCIA\n",
    "- VALOR\n",
    "- DATA ASSINATURA\n",
    "- DOTAÇAO ORÇAMENTARIA\n",
    "\n"
   ]
  },
  {
   "cell_type": "code",
   "execution_count": null,
   "metadata": {},
   "outputs": [],
   "source": [
    "### Ato"
   ]
  },
  {
   "cell_type": "code",
   "execution_count": null,
   "metadata": {},
   "outputs": [],
   "source": [
    "EXTRATOS CONTRATUAIS\n",
    "Processo:  00112-00015735/2018-35.  \n",
    "ESPÉCIE:  PRIMEIRO  TERMO  ADITIVO  AOCONTRATO   DE   AQUISIÇÃO   DE   BENS   D.A.   Nº   002/2019   –   ASJUR/PRES.\n",
    "CONTRATANTES:  NOVACAP  e  NEO  CONSULTORIA  E  ADMINISTRAÇÃO  DEBENEFÍCIOS  EIRELI  -  EPP.  \n",
    "DO  OBJETO:  Prorrogação  do  prazo  de  vigência  doContrato   originário.   \n",
    "VALOR:   R$   1.453.511,45.   \n",
    "PRAZO:   24   meses   a   partir   de 15/02/2021.   \n",
    "RECURSOS:   Nota   de   Empenho   n°   2021NE00122,   no   valor   de   R$122.000,00,  à  conta  do  Programa  de  Trabalho  nº  15.425.6209.8508.0002,  Natureza  daDespesa   nº   33.90.39,   Fonte   de   Recurso   nº   100.   \n",
    "DATA   DA   ASSINATURA:01/02/2021.  \n",
    "PELA  NOVACAP:  Fernando  Rodrigues  Ferreira  Leite  e  Elzo  BertoldoGomes. \n",
    "PELA CONTRATADA: Julio Cesar Miranda.\n",
    "\n",
    "Processo:   00112-00026231/2018-41.   \n",
    "ESPÉCIE:   TERCEIRO   TERMO   ADITIVO   AOCONTRATO  DE  EXECUÇÃO  DE  OBRA  DE  ENGENHARIA  –  D.E.  –  Nº  071/2019  –DJ/NOVACAP.  CONTRATANTES:  NOVACAP  e  SOLTEC  ENGENHARIA  LTDA.DO  \n",
    "OBJETO:  Prorrogação  do  prazo  de  execução  e  vigência  do  Contrato  originário.\n",
    "PRAZO:  Prorrogam-se  os  prazos,  por  mais  60  dias  corridos  de  execução  e  vigência,considerando que os termos finais se darão em 31/01/2021 e 04/04/2021, respectivamente.\n",
    "DATA DA ASSINATURA: 30/01/2021. \n",
    "PELA NOVACAP: Fernando Rodrigues Ferreira Leite e Virgínia Cussi Sanchez. \n",
    "PELA CONTRATADA: Adalberto Cleber Valadao.\n",
    "\n",
    "Processo:   00138-00000757/2020-81.   \n",
    "ESPÉCIE:   PRIMEIRO   TERMO   ADITIVO   AOCONTRATO  DE  PRESTAÇÃO  DE  SERVIÇOS  -  D.E.  Nº  090/2020  -  DJ/NOVACAP.\n",
    "CONTRATANTES:  NOVACAP  e  CASA  HUM  ARQUITETURA  E  EVENTOS  EIRELIEPP.   \n",
    "DO   OBJETO:   Prorrogação   do   prazo   de   vigência,   com   convalidação   de   atospraticados e reabertura do prazo de execução do Contrato originário. \n",
    "PRAZO: Prorroga-seo prazo de vigência por mais 107 dias corridos considerando que o seu termo final se daráem   14/04/2021.Convalidam-se   os   atos   praticados   a   partir   de   15/12/2020   até   aformalização  do  Termo  Aditivo.  Reabre-se  o  prazo  de  execução  por  mais  107  diascorridos,  deduzido  deste  o  prazo  convalidado.  \n",
    "DATA  DA  ASSINATURA:  02/02/2021.\n",
    "PELA  NOVACAP:  Fernando  Rodrigues  Ferreira  Leite  e  Virgínia  Cussi  Sanchez.  \n",
    "PELA CONTRATADA: José Humberto Macêdo de Gois.LICENCIAMENTO AMBIENTALA  COMPANHIA  URBANIZADORA  DA  NOVA  CAPITAL  DO  BRASIL  -  NOVACAP torna  público  que  requereu  do  Instituto  Brasília  Ambiental  -  IBRAM  a  renovação  daLicença Ambiental Simplificada nº 001/2016 (Doc. SEI/GDF 52414557) - referente à obrade arte e duplicação da ligação entre o Guará II e o Núcleo Bandeirante. Processo IBRAMSEI/GDF 00391-00000331/2021-90Brasília/DF, 1º de fevereiro de 2021FERNANDO RODRIGUES FERREIRA LEITEDiretor-Presidente"
   ]
  },
  {
   "cell_type": "code",
   "execution_count": null,
   "metadata": {},
   "outputs": [],
   "source": [
    "### Padrões:"
   ]
  },
  {
   "cell_type": "code",
   "execution_count": null,
   "metadata": {},
   "outputs": [],
   "source": [
    "- DESCRIÇAO OBJETO\n",
    "- ESPECIE\n",
    "- CONTRATO\n",
    "- CONTRATANTE\n",
    "- CONTRATADO\n",
    "- OBJETO\n",
    "- PARTES\n",
    "- PROCESSO\n",
    "- VIGENCIA\n",
    "- VALOR\n",
    "- DATA ASSINATURA\n",
    "- DOTAÇAO ORÇAMENTARIA\n",
    "\n"
   ]
  },
  {
   "cell_type": "markdown",
   "metadata": {},
   "source": [
    "## Documento 2\n"
   ]
  },
  {
   "cell_type": "markdown",
   "metadata": {},
   "source": [
    "### Ato:"
   ]
  },
  {
   "cell_type": "markdown",
   "metadata": {},
   "source": [
    "EXTRATO DO CONTRATO DE EXECUÇÃO DE OBRAS Nº 03/2020,NOS TERMOS DO PADRÃO Nº 09/2002\n",
    "Processo:      00145-00001222/2020-75;      \n",
    "DAS      PARTES:      DF/ADMINISTRAÇÃOREGIONAL  DO  RECANTO  DAS  EMAS  –  RA  XV  e  CML  BRAGA  CONSTRUÇÃODE  EDIFICIOS;  \n",
    "DO  PROCEDIMENTO:  O  presente  Contrato  obedece  aos  termos  do Edital de nº 03/SEI (52231054), da Proposta de Lote 01 (52855422) e Lote 02 (52855795)e  da  Lei  nº  8.666  de  21/06/93;  \n",
    "DO  OBJETO:  O  Contrato  tem  por  objeto  a  execução  dasobras de cobertura da piscina do Centro de Convivência do Idoso, na Quadra 206, Lote 05,Recanto das Emas – DF (Lote 01) e reforma do Ginásio de Esporte Tatuzinho, na Quadra112,  Conjunto  05A,  Lote  02,  Recanto  das  Emas-DF  (Lote  02),  consoante  especifica  oEdital  de  Convite  nº  03/2020  -  RA  XV  (52231054)  e  a  Proposta  da  empresa  CMLBRAGA   CONSTRUÇÃO   DE   EDIFICIOS,   (52855422   e   52855795),   que   passam   aintegrar  o  presente  Termo;  \n",
    "DO  VALOR:  O  valor  total  do  Contrato  para  o  Lote  01  é  deR$53.811,02  (cinquenta  e  três  mil  oitocentos  e  onze  reais  e  dois  centavos)  e  para  o  Lote02  é  de  R$142.396,19  (cento  e  quarenta  e  dois  mil  trezentos  e  noventa  e  seis  reais  edezenove  centavos),  devendo  a  importância  de  R$  196.207,21  (cento  e  noventa  e  seis  milduzentos   e   sete   reais   e   vinte   e   um   centavos),   ser   atendida   à   conta   de   dotaçõesorçamentárias  consignadas  no  orçamento  corrente  –  Lei  Orçamentária  nº  6482,  de  09  dejaneiro   de   2020;   \n",
    "DA   DOTAÇÃO   ORÇAMENTÁRIA:   U.O:   09117;   Programa   de Trabalho:  15.451.6206.3048.0015;  Natureza  da  Despesa:  449051;  Fonte  de  Recurso:  120; Notas  de  Empenho:  2020NE00334  e  2020NE00335,  emitidas  em  28/12/2020,  sob  o evento  nº  400091,  na  modalidade  Global;  \n",
    "DA  VIGÊNCIA:  O  prazo  de  vigência  docontrato  será  de  90  (noventa)  dias;  \n",
    "DATA  DE  ASSINATURA:  29  de  dezembro  de  2020;\n",
    "SIGNATÁRIOS:  Pelo  Distrito  Federal,  CARLOS  DALVAN  SOARES  DE  OLIVEIRA,  e pela Contratada, CASSIUS MARCELO LOUREIRO BRAGA.EXTRATO DO CONTRATO DE EXECUÇÃO DE OBRAS Nº 04/2020,NOS TERMOS DO PADRÃO Nº 09/2002\n",
    "\n",
    "Processo:      00145-00001177/2020-59;      \n",
    "DAS      PARTES:      DF/ADMINISTRAÇÃOREGIONAL  DO  RECANTO  DAS  EMAS  –  RA  XV  e  CML  BRAGA  CONSTRUÇÃODE  EDIFICIOS;  \n",
    "DO  PROCEDIMENTO:  O  presente  Contrato  obedece  aos  termos  do Edital  de  nº  02/SEI  (51456054),  da  Proposta  de  Lote  05  (52627647)  e  da  Lei  nº  8.666  de21/06/93;  \n",
    "DO  OBJETO:  O  Contrato  tem  por  objeto  a  execução  da  obra  de  instalação  deiluminação  da  Quadra  Poliesportiva  Coberta  da  Praça  da  Quadra  802  do  Recanto  dasEmas - DF, consoante especifica o Edital de Convite nº 02/2020 - RA XV (51456054) e aProposta  da  empresa  CML  BRAGA  CONSTRUÇÃO  DE  EDIFICIOS  (52627647),  quepassam  a  integrar  o  presente  Termo;  \n",
    "DO  VALOR:  O  valor  total  do  Contrato  para  o  Lote05 é de R$14.499,57 (quatorze mil quatrocentos e noventa e nove reais e cinquenta e setecentavos),  a  ser  atendido  à  conta  de  dotações  orçamentárias  consignadas  no  orçamentocorrente  –  Lei  Orçamentária  nº  6482,  de  09  de  janeiro  de  2020;  \n",
    "DA  DOTAÇÃO ORÇAMENTÁRIA:   U.O:   09117;   Programa   de   Trabalho:   15.451.6206.3048.0015;Natureza  da  Despesa:  449051;  Fonte  de  Recurso:  120;  Nota  de  Empenho:  2020NE00329,emitida  em  28/12/2020,  sob  o  evento  nº  400091,  na  modalidade  Global;  \n",
    "DA  VIGÊNCIA: O   prazo   de   vigência   do   contrato   será   de   60   (sessenta)   dias;   \n",
    "DATA DE ASSINATURA:  29  de  dezembro  de  2020;  \n",
    "SIGNATÁRIOS:  Pelo  Distrito  Federal,CARLOS   DALVAN   SOARES   DE   OLIVEIRA,   e   pela   Contratada,   CASSIUSMARCELO LOUREIRO BRAGA.ADMINISTRAÇÃO REGIONAL DE SOBRADINHO II\n",
    "\n",
    "EXTRATO DE CONTRATO Nº 042542/2020\n",
    "Processo:  00304-000040/2014.  \n",
    "Contratante:  Administração  Regional  de  Sobradinho  II.\n",
    "Contratada:  Empresa  Estrutura  Center  Comercio  de  Materiais  de  Construção  LTDA,\n",
    "Objeto:  Fornecimento  de  400(quatrocentos)  Sacos  de  Cimento.Vigência:  a  partir  de  23de   dezembro   de   2020   a   04   de   junho   de   2021.   \n",
    "Valor:   R$   8.492,00   (oito   mil,quatrocentos  e  noventa  e  dois  reais).\n",
    "Modalidade  da  contratação: Item  nº  09  da  Ata  nº0090/2020  -  do  Edital  nº  045/2020-  COLIC/SCG/SEGEA/SEEC-DF(47515250)  e  aAutorização  do  SRP  nº  4374/2020  da  Gerencia  de  Gestão  de  Atas  -  da  Secretaria  deEstado de Economia do Distrito Federal, como também com a Proposta(51512116), que passam  a  integrar  o  Contrato.  \n",
    "Fundamento  Legal:  Lei  nº  8.666/93  e  Decreto  nº  39.103,de  06  de  junho  de  2018,  \n",
    "Signatários:  Pelo  Distrito  Federal,  OSMAR  DA  SILVAFELICIO  -  Administrador  Regional,  pela  Contratada,  VICENTE  DIAS  DE  LIMAJÚNIOR – Represente Legal da Empresa."
   ]
  },
  {
   "cell_type": "markdown",
   "metadata": {},
   "source": [
    "### Padrões:"
   ]
  },
  {
   "cell_type": "markdown",
   "metadata": {},
   "source": [
    "- DESCRIÇAO OBJETO\n",
    "- CONTRATO\n",
    "- PROCESSO\n",
    "- CONTRATANTE\n",
    "- CONTRATADO\n",
    "- OBJETO\n",
    "- VALOR\n",
    "- VIGENCIA\n",
    "- MODALIDADE LICITATORIA\n",
    "- SIGNATARIOS\n",
    "- FUNDAMENTO LEGAL\n",
    "- DATA ASSINATURA\n",
    "- DOTAÇAO ORÇAMENTARIA\n",
    "- NOTA DE EMPENHO\n"
   ]
  },
  {
   "cell_type": "markdown",
   "metadata": {},
   "source": [
    "### Ato:"
   ]
  },
  {
   "cell_type": "markdown",
   "metadata": {},
   "source": [
    "EXTRATO DO CONTRATO DE PRESTAÇÃO DE SERVIÇOS Nº 074/2020-SSP/DF,NOS TERMOS DO PADRÃO Nº 01/2002,INSTITUÍDO PELO DECRETO/DF Nº 23.287/2002.Processo:  00050-00027327/2020-02,  SIGGO  Nº  042488.  Partes:  o  Distrito  Federal,  pormeio  do  FUNDO  DE  SEGURANÇA  PÚBLICA  DO  DISTRITO  FEDERAL  e  a  empresaCONNECTOR  ENGENHARIA  LTDA,  inscrita  no  CNPJ  Nº  01.114.245/0001-02.  DoObjeto:  a  contratação  de  empresa  especializada  para  prestação  de  serviços  técnicosespecializados  de  modernização  do  sistema  de  ar  condicionado  do  edifício  CIOB  (CentroIntegrado  de  Operações  de  Brasília),  com  fornecimento  de  equipamentos  principais  eacessórios,  visando  modernização/retrofit  de  sistema  de  climatização  de  expansão  indiretaconsoante  especifica  o  Edital  de  Licitação  de  Licitação  do  Pregão  Eletrônico  nº  50/2020SSPDF (49348078) e Proposta da Contratada (50605477). Do valor: R$ 1.599.000,00 (ummilhão  quinhentos  e  noventa  e  nove  mil  reais).  Evento:  400091.  Modalidade:  Global.Unidade  Orçamentária:  24909.  Programa  de  Trabalho:  06.181.6217.4220.0010.  Naturezasda  Despesa:  33.90.30,  44.90.39,  44.90.52  e  33.90.39.  Fonte  de  Recurso:  182.  UnidadeGestora:  220909.  Gestão:  22909.  Notas  de  Empenho:  2020NE00015,  2020NE00016,2020NE00017  e  Nota  de  Empenho  2020NE00018.  Da  vigência:  10  (dez)  meses,  a  partirda  data  de  sua  assinatura.  Data  da  assinatura:  29/12/2020.  Signatários:  pelo  DistritoFederal:  ANDERSON  GUSTAVO  TORRES,  Presidente  do  Fundo  de  Segurança  Públicado  Distrito  Federal  e  Secretário  de  Estado  de  Segurança  Pública  do  Distrito  Federal;  pelaContratada: NEWTON SILVEIRA CAIAFA, Representante Legal."
   ]
  },
  {
   "cell_type": "markdown",
   "metadata": {},
   "source": [
    "### Padrões:"
   ]
  },
  {
   "cell_type": "markdown",
   "metadata": {},
   "source": [
    "- ORGAO\n",
    "- AVISO\n",
    "- MODALIDADE LICITATORIA\n",
    "- PROCESSO\n",
    "- OBJETO\n",
    "- VALOR ESTIMADO\n",
    "- ENQUADRAMENTO\n",
    "- DATA RECEBIMENTO DAS PROPOSTAS\n",
    "- FONTE DE RECURSOS"
   ]
  },
  {
   "cell_type": "markdown",
   "metadata": {},
   "source": [
    "### Ato:"
   ]
  },
  {
   "cell_type": "markdown",
   "metadata": {},
   "source": [
    "EXTRATO DO CONTRATO DE PRESTAÇÃO DE SERVIÇOS Nº 25/2020 Partes:  DETRAN-DF  e  a  empresa  CLM  SOFTWARE  COMÉRCIO,  IMPORTAÇÃO  EEXPORTAÇÃO   LTDA.   Processo:   00055-00030602/2020-26.   Objeto:   contratação   deempresa  especializada  para  fornecimento  de  solução  de  infraestrutura  hiperconvergente,incluindo   serviços   de   instalação,   configuração   básica,   suporte   técnico   e   atualizaçãotecnológica. Valor contratado: R$ 4.188.836,45 (quatro milhões, cento e oitenta e oito mil,oitocentos  e  trinta  e  seis  reais  e  quarenta  e  cinco  centavos).  Dotação  Orçamentária:  Notasde  Empenhos  nºs  2020NE02048,  na  modalidade  Ordinário,  Fonte  220,  Programa  deTrabalho  06126621714712485,  evento  400091,  Natureza  da  Despesa  449052,  no  valor  deR$  2.535.743,01  (dois  milhões,  quinhentos  e  trinta  e  cinco  mil,  setecentos  e  quarenta  etrês reais e um centavos) e 2020NE02049, na modalidade Ordinário, Fonte 237, Programade  Trabalho  06126621714712485,  evento  400091,  Natureza  da  Despesa  449052,  no  valorde  R$  1.653.093,44  (hum  milhão,  seiscentos  e  cinquenta  e  três  mil,  noventa  e  três  reais  equarenta  e  quatro  centavos).  Vigência:  12  (doze)  meses.  Data  da  assinatura:  23/12/2020.Das  partes:  GUSTAVO  CARVALHO  AMARAL,  Diretor  -Geral  Substituto/DETRAN  eFRANCISCO JOSÉ DE ARRUDA CAMARGO, Representante Legal.EXTRATO DO CONTRATO DE PRESTAÇÃO DE SERVIÇOS Nº 26/2020Partes: DETRAN-DF e a empresa G&P PROJETOS E SISTEMAS S/A. Processo: 00055-00044609/2020-25.    Objeto:    prestação    de    serviços    técnicos    especializados    parasustentação  de  sistemas  legados.  Valor  contratado:  R$  2.002.176,00  (dois  milhões,  doismil,   cento   e   setenta   e   seis   reais).   Dotação   Orçamentária:   Nota   de   Empenho   nº2020NE02073,   Programa   de   Trabalho   06126621725572564,   Fonte   de   Recurso   220,Evento  400091,  Natureza  da  despesa:  449039,  Modalidade:  Global,  no  valor  de  R$55.616,00  (cinquenta  e  cinco  mil,  seiscentos  e  dezesseis  reais).  Vigência:  12  (doze)meses,    prorrogáveis.    Data    da    assinatura:    29/12/2020.    Das    partes:    GUSTAVOCARVALHO  AMARAL,  Diretor  Geral  em  exercício/DETRAN  e  RICARDO  DA  SILVARIBEIRO, Representante Legal.EXTRATO DO CONTRATO DE PRESTAÇÃO DE SERVIÇOS Nº 28/2020Partes:    DETRAN-DF    e    a    empresa    AMM    TECNOLOGIA    E    SERVIÇOS    DEINFORMÁTICA   LTDA.   Processo:   00055-00037709/2020-03.   Objeto:   Aquisição   delicenças   de   uso   perpétuo   e   ilimitado   (por   12   meses),   na   modalidade   Acordo   de Licenciamento   Ilimitado   (Unlimited   License   Agreement   -   ULA),   de   softwareOracle.  Valor  contratado:  R$  5.180.000,00  (cinco  milhões,  cento  e  oitenta  milreais).  Dotação  Orçamentária:  Nota  de  Empenho  nº  2020NE02084,  Programa  deTrabalho  06126621714712485,  Fonte  de  Recurso  220,  Evento  400091,  Naturezada    despesa:    449039,    Modalidade:    Estimativo.    Vigência:    12    (doze)    meses,prorrogáveis.     Data     da     assinatura:     30/12/2020.     Das     partes:     GUSTAVOCARVALHO  AMARAL,  Diretor  Geral  em  exercício  /DETRAN  e  ANDRÉ  LUIZDO NASCIMENTO GOES, Representante Legal."
   ]
  },
  {
   "cell_type": "markdown",
   "metadata": {},
   "source": [
    "### Padrões:"
   ]
  },
  {
   "cell_type": "markdown",
   "metadata": {},
   "source": [
    "- ORGAO\n",
    "- AVISO\n",
    "- MODALIDADE LICITATORIA\n",
    "- PROCESSO\n",
    "- OBJETO\n",
    "- TIPO\n",
    "- LOCAL"
   ]
  },
  {
   "cell_type": "markdown",
   "metadata": {},
   "source": [
    "### Ato:\n"
   ]
  },
  {
   "cell_type": "markdown",
   "metadata": {},
   "source": [
    "EXTRATO DE CONTRATOCONTRATO       Nº       9284.       ASSINATURA:       24/12/2020.       PROCESSO       Nº0009200011344202072.  PE  nº  186/2020  -  CAESB.  OBJETO:  Contratação  de  serviços  delimpeza  e  reparos  da  lagoa  de  deposição  de  lodo  da  ETA  Rio  Descoberto  –  ETA  RD.DOTAÇÃO  ORÇAMENTÁRIA:  UO:  22.202;  CÓDIGO  11.101.000.000-3,  FONTE  DERECURSO:    RECURSOS    PRÓPRIOS,    CÓDIGO    12.203.204.300-8;    UG:    190.206;GESTÃO:  19.206.  VALOR  DO  CONTRATO:  R$  456.412,59  (quatrocentos  e  cinquenta  eseis mil e quatrocentos e doze reais e cinquenta e nove centavos) EXECUÇÃO/VIGÊNCIA:90(noventa)  dias  consecutivos  e  180  (cento  e  oitenta)  dias  consecutivos,  respectivamente.FISCALIZAÇÃO:  Wellington  Ribeiro  De  Freitas,  matrícula  nº  51.709-7  gestor.  MauricioAssunção  Cavalcante,  matrícula  nº  53.987-2  e  José  Ricardo  Pereira  Ramos  para  fiscais.ASSINANTES:  Pela  CAESB:  Daniel  Beltrao  de  Rossiter  Correa  -  Presidente  e  CarlosEduardo  Borges  Pereira  -  GABDP  -  GABINETE  DA  DIRETORIA  DE  OPERACAO  EMANUTENCAO. Pela MB ENGENHARIA E COMERCIO EIRELI: Gustavo Melo Brito."
   ]
  },
  {
   "cell_type": "markdown",
   "metadata": {},
   "source": [
    "### Padrões:"
   ]
  },
  {
   "cell_type": "markdown",
   "metadata": {},
   "source": [
    "- ORGAO\n",
    "- AVISO\n",
    "- MODALIDADE LICITATORIA\n",
    "- PROCESSO\n",
    "- OBJETO\n",
    "- TOTAL ITENS\n",
    "- VALOR ESTIMADO\n",
    "- DATA RECEBIMENTO DAS PROPOSTAS\n",
    "- DATA ABERTURA DAS PROPOSTAS"
   ]
  },
  {
   "cell_type": "code",
   "execution_count": null,
   "metadata": {},
   "outputs": [],
   "source": [
    "### Ato"
   ]
  },
  {
   "cell_type": "code",
   "execution_count": null,
   "metadata": {},
   "outputs": [],
   "source": [
    "EXTRATO DE CONTRATOEspécie:  Solução  de  Gestão  da  Governança  Corporativa  (GGC),  por  meio  de  subscrição(Software  as  a  Service  -SaaS)  para  a  Secretaria  de  Órgãos  Colegiados  da  CompanhiaEnergética   de   Brasília   -   CEB.   Contrato   Nº   030-A/2020   -   CJU/CEB-H.   Processo   nº:SEI/GDF:        00093-00000335/2020-70.        Contratada:        ATLAS        GOVERNANCETECNOLOGIA  LTDA.  Inscrita  sob  o  CNPJ  nº  25.462.636/0001-86.  Do  Objeto:  Gestão  noacompanhamento  das  reuniões  de  Conselhos  e  Comitês,  para  criar  um  fluxo  documentalorganizado, controlado, protegido e de fácil acesso. Do Valor: R$ 172.500,00 (cento e setentae  dois  mil  e  quinhentos  reais).  Prazo  De  Vigência:  30  (trinta)  meses  contados  da  data  depublicação  do  instrumento  contratual  na  imprensa  oficial.  Da  assinatura  do  contrato:  17  dedezembro de 2020. Pela CEB: Edison Antonio Costa Britto Garcia, Diretor-Presidente, e JoelAntonio  de  Araújo,  Diretor  Administrativo-Financeiro  e  de  Relações  com  Investidores.  PelaContratada: Eduardo Shakir Carone, Representante Legal."
   ]
  },
  {
   "cell_type": "code",
   "execution_count": null,
   "metadata": {},
   "outputs": [],
   "source": [
    "### Padrões:"
   ]
  },
  {
   "cell_type": "code",
   "execution_count": null,
   "metadata": {},
   "outputs": [],
   "source": []
  },
  {
   "cell_type": "code",
   "execution_count": null,
   "metadata": {},
   "outputs": [],
   "source": [
    "### Ato"
   ]
  },
  {
   "cell_type": "code",
   "execution_count": null,
   "metadata": {},
   "outputs": [],
   "source": [
    "EXTRATOS CONTRATUAISProcesso:  00112-00007608/2020-87.  ESPÉCIE:  CONTRATO  DE  PRESTAÇÃO  DESERVIÇOS  –  D.U  Nº  150/2020  –  DJ/NOVACAP.  CONTRATANTES:  NOVACAP  eCCL   SERVIÇOS   EM   RODOVIAS   —   EIRELI.   DO   OBJETO:   Contratação   deempresa  para  execução  de  serviços  de  ensaios  geotécnicos,  a  fim  de  subsidiar  aelaboração  dos  projetos  executivos  de  pavimentação  do  Setor  de  Oficinas  –  SOFSUL,   visando   atendimento   a   solicitação   da   Secretaria   de   Estado   de   Obras   eInfraestrutura  do  Distrito  Federal.  Lote  Nº  01.  VALOR:  R$  62.897,60.  PRAZO:  Oprazo  de  vigência  será  igual  ao  prazo  de  execução,  previsto  neste  contrato,  acrescidode  120  dias  corridos,  contado  a  partir  da  data  da  assinatura  do  Contrato,  de  acordocom  os  itens  11.18  e  11.19  do  Edital  e  os  prazos  de  execução  total  dos  serviçosseguirão   os   prazos   estabelecidos   nas   tabelas   10.1   do   Item   10   do   Termo   deReferência.   RECURSOS:   Nota   de   Empenho   n°   2020NE04279   no   valor   de   R$62.897,60.  Natureza  da  Despesa:  33-90-35.  Fonte  de  Recurso:  100.  DATA  DAASSINATURA:  22/12/2020.  PELA  NOVACAP:  Fernando  Rodrigues  Ferreira  Leitee Sérgio Antunes Lemos. PELA CONTRATADA: Cleyton Leocadio de Lara.Processo:   00112-00015508/2019-91.   ESPÉCIE:   SÉTIMO   TERMO   ADITIVO   AOCONTRATO  DE  EMPREITADA  DE  OBRA  DE  ENGENHARIA  D.E.  Nº  089/2019  –DJ/NOVACAP.   CONTRATANTES:   NOVACAP   e   DIAMANTE   ENGENHARIA   ECOMÉRCIO   LTDA.   DO   OBJETO:   Convalidação   de   atos   praticados,   bem   comoprorrogação do prazo de vigência, do Contrato originário. PRAZO: Convalidam-se os atospraticados  no  período  de  29/10/2020  até  12/11/2020.  Prorroga-se  o  prazo  de  vigência  dopor mais por mais 15 dias corridos, passando seu término de 27/01/2021 para 11/02/2021.DATA DA ASSINATURA: 22/12/2020. PELA NOVACAP: Fernando Rodrigues FerreiraLeite e Virgínia Cussi Sanchez. PELA CONTRATADA: Marcus Vinicius de Andrade.Processo:     00112-00015538/2019-05.     ESPÉCIE:     OITAVO     TERMO     ADITIVO     AOCONTRATO   DE   EMPREITADA   DE   OBRA   DE   ENGENHARIA   D.E.   Nº   091/2019   –DJ/NOVACAP.    CONTRATANTES:    NOVACAP    e    DIAMANTE    ENGENHARIA    ECOMÉRCIO  LTDA.  DO  OBJETO:  Prorrogação  dos  prazos  de  execução  e  vigência  do  Contratooriginário,  sem  ônus  para  a  NOVACAP.  PRAZO:  Passando  o  término  do  prazo  Execução  de25/12/2020  para  24/01/2021,  e  o  término  do  prazo  de  vigência  de  09/04/2021  para  09/05/2021.DATA  DA  ASSINATURA:  23/12/2020.  PELA  NOVACAP:  Fernando  Rodrigues  Ferreira  Leitee Virgínia Cussi Sanchez. PELA CONTRATADA: Marcus Vinicius De Andrade.Processo:  00112-00022026/2019-97.  ESPÉCIE:  PRIMEIRO  TERMO  ADITIVO  AOCONTRATO  DE  AQUISIÇÃO  DE  BENS  -  D.A.  Nº  094/2020  –  DJ/NOVACAP.CONTRATANTES:  NOVACAP  e  SILVENINA  UNIFORMES  LTDA  -  EPP.  DOOBJETO:  Retificação  do  quantitativo  do  item  4  da  Planilha  e  o  Reajuste  de  valor  doContrato   originário.   VALOR:   Acrescenta-se   ao   contrato   a   importância   de   R$8.836,04    correspondente    à    aproximadamente    24,97%    do    valor    inicialmentecontratado.  Após  o  presente  ajuste  o  valor  do  Contrato  passa  de  R$  35.387,40  paraR$  44.223,44.  Retifica-se  o  quantitativo  do  item  4  da  Planilha,  passando  de  13  itensda   Camiseta   de   gola   polo   de   cor   amarelo   canário   em   tecido   malha   fria.Marca/Fabricante:  Silvenina,  Tamanho:  P,  com  valor  unitário  de  R$  16,17  e  valortotal  R$  194,04  para  12  itens  da  Camiseta  de  gola  polo  de  cor  amarelo  canário  emtecido  malha  fria.  Marca/Fabricante:  Silvenina,  Tamanho:  P,  com  valor  unitário  deR$  16,17  e  valor  total  R$  194,04  sem  alterar  o  valor  objeto  do  aditivo.  RECURSOS:Nota   de   Empenho   n°   2020NEE04167,   no   valor   de   R$   8.836,04.   Programa   de Trabalho:  15.122.8209.8517.0001,  Natureza  da  Despesa  33.90-30,  Fonte  de  Recurso:  100.DATA DA ASSINATURA: 22/12/2020. PELA NOVACAP: Fernando Rodrigues FerreiraLeite e Elzo Bertoldo Gomes. PELA CONTRATADA: Tiago Tinoco Oliveira Fonseca.Processo:   00112-00036828/2019-84.   ESPÉCIE:   CONTRATO   DE   AQUISIÇÃO   DEBENS  –  D.U.  Nº  149/2020  –  DJ  /NOVACAP.  CONTRATANTES:  NOVACAP  e  JCACOMÉRCIO  DE  ALIMENTOS  EIRELI.  DO  OBJETO:  A  aquisição  de  11.000  toneladasde  Brita  Graduada  Simples  –  BGS,  oriunda  da  Ata  de  Registro  de  Preços  nº  029/2020  –DJ/PRES/NOVACAP.   Lote   Nº   01.   VALOR:   R$   511.610,00.   PRAZO:   O   prazo   devigência  será  de  12  meses.  RECURSOS:  Nota  de  Empenho  n°  2020NE04367  no  valor  deR$  511.610,00.  Programa  de  Trabalho:  15.122.8209.2396.5316.  Natureza  da  Despesa33.90-30,   Fonte   de   Recurso:   231.   DATA   DA   ASSINATURA:   28/12/2020.   PELANOVACAP:   Fernando   Rodrigues   Ferreira   Leite   e   Sérgio   Antunes   Lemos.   PELACONTRATADA: Julio Cesar Pereira Ribeiro.Processo:     0112-000411/2017.     Espécie:     QUARTO     TERMO     ADITIVO     AOCONTRATO  DE  PRESTAÇÃO  DE  SERVIÇOS  D.A  Nº  011/2017  ASJUR/PRES.CONTRATANTES:    NOVACAP    e    RODOESTE    TRANSPORTE    E    TURISMOEIRELI.  DO  OBJETO:  Inclusão  de  cláusula  e  o  Acréscimo  financeira  do  objeto  doContrato  originário.  VALOR:  Acrescenta-se  01  veículo  à  frota  contratada,  com  aadição   de   R$   37.684,80,   correspondente   aproximadamente   4,584%   do   valoratualizado   do   contrato,   para   o   período   de   03   meses   e   09   dias,   novembro   edezembro/2020,  janeiro  e  09  dias  de  fevereiro  de  2021,  até  seu  vencimento  em09/02/2021,   no   valor   mensal   unitário   de   R$   11.419,65.   Incluir   Cláusula   paracorreção  do  cálculo  do  reajuste.  DATA  DA  ASSINATURA:  22/12/2020.  PELANOVACAP:   Fernando   Rodrigues   Ferreira   Leite   e   Elzo   Bertoldo   Gomes.   PELACONTRATADA: Pedro Henrique Viegas De Oliveira.Processo:  0112-000411/2017.  Espécie:  QUARTO  TERMO  ADITIVO  AO  CONTRATODE  PRESTAÇÃO  DE  SERVIÇOS  D.A  Nº  011/2017  ASJUR/PRES.  CONTRATANTES:NOVACAP   e   RODOESTE   TRANSPORTE   E   TURISMO   EIRELI.   DO   OBJETO:Inclusão  de  cláusula  e  o  Acréscimo  financeira  do  objeto  do  Contrato  originário.  VALOR:Acrescenta-se   01   veículo   à   frota   contratada,   com   a   adição   de   R$   37.684,80,correspondente  aproximadamente  4,584%  do  valor  atualizado  do  contrato,  para  o  períodode 03 meses e 09 dias, novembro e dezembro/2020, janeiro e 09 dias de fevereiro de 2021,até  seu  vencimento  em  09/02/2021,  no  valor  mensal  unitário  de  R$  11.419,65.  IncluirCláusula  para  correção  do  cálculo  do  reajuste.  DATA  DA  ASSINATURA:  22/12/2020.PELA  NOVACAP:  Fernando  Rodrigues  Ferreira  Leite  e  Elzo  Bertoldo  Gomes.  PELACONTRATADA: Pedro Henrique Viegas DeOliveira.Processo:     0112-000419/2017.     Espécie:     QUARTO     TERMO     ADITIVO     AOCONTRATO  DE  PRESTAÇÃO  DE  SERVIÇO  D.A.  Nº  010/2017–  ASJUR/PRES.CONTRATANTES:  NOVACAP  e  BRAZ  &  BRAZ  LTDA.  DO  OBJETO:  Inclusão  decláusula  e  o  Acréscimo  financeira  do  objeto  do  Contrato  originário.  Acrescenta-se  oquantitativo  de  09  veículos  à  frota  anteriormente  contratada.  Incluir  Cláusula  paracorreção  do  cálculo  do  reajuste.  VALOR:  O  custo  unitário  de  cada  veículo  é  de  R$11.501,41.   O   valor   total   do   presente   ajuste   é   R$   341.591,85   correspondente   aaproximadamente 6,3462% do valor atualizado do contrato, para o período de 03 mesese  nove  dias,  novembro  e  dezembro/2020,  janeiro  e  fevereiro  09  dias  de  2021,  até  seuvencimento   em   09/02/2021.   Após   os   ajustes   o   valor   do   contrato   passará   de   R$5.382.659,88  para  R$  5.724.251,73.  RECURSOS:  Nota  de  Empenho  n°  2020NE04127,no    valor    de    R$    20.000,00,    todas    à    conta    do    Programa    de    Trabalho:15.452.6209.8508.0002,  Natureza  da  Despesa  33.90-33,  Fonte  de  Recurso:  100.  DATADA   ASSINATURA:   24/12/2020.   PELA   NOVACAP:   Fernando   Rodrigues   FerreiraLeite e Elzo Bertoldo Gomes. PELA CONTRATADA: Ricardo Gomes Braz Da Silva.Processo:   00112-00026487/2018-58.   ESPÉCIE:   CONTRATO   DE   EXECUÇÃO   DEOBRA  DE  ENGENHARIA  -  D.E  -  Nº  148/2020  –  DJ/NOVACAP.  CONTRATANTES:NOVACAP   e   C   M   L   BRAGA   CONSTRUÇÃO   DE   EDIFÍCIOS.   DO   OBJETO:Contratação   de   empresa   especializada   para   execução   de   complementação   de   forro,fechamento  do  beiral  da  cobertura  e  substituição  de  luminárias  na  Feira  Modelo  deSobradinho,  localizada  na  Quadra  Central,  Lote  \"M\",  Setor  Comercial,  Sobradinho  -  DF.VALOR: R$ 468.116,00. PRAZO: O prazo de vigência será de 180 dias corridos. O prazode  execução  será  de  90  dias  corridos.  RECURSOS:  Nota  de  Empenho  n°  2020NE02606,no  valor  de  R$  100.000,00,  Programa  de  Trabalho:  15.122.8209.1984.9818,  Natureza  daDespesa 33.90-39, Fonte de Recurso: 100. DATA DA ASSINATURA: 24/12/2020. PELANOVACAP:   Fernando   Rodrigues   Ferreira   Leite   e   Sérgio   Antunes   Lemos.   PELACONTRATADA: Cassius Marcelo Loureiro Braga."
   ]
  }
 ],
 "metadata": {
  "kernelspec": {
   "display_name": "Python 3",
   "language": "python",
   "name": "python3"
  },
  "language_info": {
   "codemirror_mode": {
    "name": "ipython",
    "version": 3
   },
   "file_extension": ".py",
   "mimetype": "text/x-python",
   "name": "python",
   "nbconvert_exporter": "python",
   "pygments_lexer": "ipython3",
   "version": "3.8.5"
  }
 },
 "nbformat": 4,
 "nbformat_minor": 4
}