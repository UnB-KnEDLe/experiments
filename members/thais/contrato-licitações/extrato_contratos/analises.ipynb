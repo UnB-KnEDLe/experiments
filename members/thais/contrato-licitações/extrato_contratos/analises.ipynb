{
 "metadata": {
  "language_info": {
   "codemirror_mode": {
    "name": "ipython",
    "version": 3
   },
   "file_extension": ".py",
   "mimetype": "text/x-python",
   "name": "python",
   "nbconvert_exporter": "python",
   "pygments_lexer": "ipython3",
   "version": 3
  },
  "orig_nbformat": 2
 },
 "nbformat": 4,
 "nbformat_minor": 2,
 "cells": [
  {
   "cell_type": "code",
   "execution_count": null,
   "metadata": {},
   "outputs": [],
   "source": [
    "# Análise: Extrato de contrato"
   ]
  },
  {
   "cell_type": "code",
   "execution_count": null,
   "metadata": {},
   "outputs": [],
   "source": [
    "### Descrição do objeto"
   ]
  },
  {
   "cell_type": "code",
   "execution_count": null,
   "metadata": {},
   "outputs": [],
   "source": [
    "EXTRATO DE CONTRATO Nº 042745/2021\n",
    "EXTRATO DO CONTRATO Nº 42676/2021\n",
    "EXTRATO DO CONTRATO Nº 42686/2021\n",
    "EXTRATO DO CONTRATO CORRETORA SEGUROS BRB Nº 37/2020\n",
    "EXTRATO DO CONTRATO CORRETORA SEGUROS BRB Nº 01/2021\n",
    "EXTRATOS DE CONTRATO CONTRATO Nº 9295.\n",
    "EXTRATO DO CONTRATO DE EXECUÇÃO DE OBRAS Nº 03/2020\n",
    "EXTRATO DO CONTRATO DE PRESTAÇÃO DE SERVIÇOS Nº 074/2020-SSP/DF\n",
    "EXTRATO DO CONTRATO DE PRESTAÇÃO DE SERVIÇOS Nº 25/2020\n",
    "EXTRATO DE CONTRATO CONTRATO Nº 9284."
   ]
  },
  {
   "cell_type": "code",
   "execution_count": null,
   "metadata": {},
   "outputs": [],
   "source": [
    "### Processo"
   ]
  },
  {
   "cell_type": "code",
   "execution_count": null,
   "metadata": {},
   "outputs": [],
   "source": [
    "Processo:    00304-00000024/2021-50.  \n",
    "Processo: 00020-00005713/2020-47.\n",
    "Processo: 00040-00015583/2020-86.\n",
    "Processo nº: 2862/2020\n",
    "Processo nº: 2602/2018.\n",
    "Processo: 0009200015496202070.\n",
    "Processo 00310-00016661/2020-32, regido pelo Regulamento de Licitações e Contratos do Grupo CEB – CEBLic e a Lei13.303/2016\n",
    "EXTRATO DO CONTRATO DE EXECUÇÃO DE OBRAS Nº 03/2020,NOS TERMOS DO PADRÃO Nº 09/2002 Processo:      00145-00001222/2020-75;  \n",
    "Processo:  00050-00027327/2020-02,  SIGGO  Nº  042488. \n",
    "Processo: 00055-00030602/2020-26. \n",
    "PROCESSO Nº0009200011344202072. \n",
    "Processo   nº:SEI/GDF:        00093-00000335/2020-70.   "
   ]
  },
  {
   "cell_type": "code",
   "execution_count": null,
   "metadata": {},
   "outputs": [],
   "source": [
    "### Modalidade licitatória"
   ]
  },
  {
   "cell_type": "code",
   "execution_count": null,
   "metadata": {},
   "outputs": [],
   "source": [
    "- concorrência\n",
    "- tomada de preços\n",
    "- convite\n",
    "- concurso\n",
    "- leilão\n",
    "\n",
    "Modalidade da contratação: Ata de Registro de Preços nº 01/2021, tendo por objetivo os itens no qual esta Administração Regional é participante do Pregão Eletrônico nº 142/2020 - COLIC/SCG/SPLAN/SEEC-DF.\n",
    "\n",
    "III–NaturezadaDespesa:33.90.35.OempenhoédeR  114.000,00 (cento e quatorze mil reais), conforme Nota de Empenho nº 2021NE00908, emitida em 28/01/2021, sob o evento nº400091, na modalidade Ordinário.\n",
    "\n",
    "nos termos, condições eespecificações estabelecidas no Termo de Referência, no Edital de Pregão Eletrônico nº 123/2020 - COLIC/SCG/SPLAN/SEEC-DF.\n",
    "\n",
    "Modalidade: Pregão Eletrônico. \n",
    "\n",
    "PE     nº     197/2020     -     CAESB.  \n",
    "\n",
    "Empenho: 2020NE00329,emitida em 28/12/2020, sob o evento nº 400091, na modalidade Global;\n",
    "\n",
    " DoObjeto:  a  contratação  de  empresa  especializada  para  prestação  de  serviços  técnicosespecializados  de  modernização  do  sistema  de  ar  condicionado  do  edifício  CIOB  (CentroIntegrado  de  Operações  de  Brasília),  com  fornecimento  de  equipamentos  principais  eacessórios,  visando  modernização/retrofit  de  sistema  de  climatização  de  expansão  indiretaconsoante  especifica  o  Edital  de  Licitação  de  Licitação  do  Pregão  Eletrônico  nº  50/2020SSPDF (49348078) e Proposta da Contratada (50605477).\n",
    "\n",
    "Modalidade:    Estimativo. \n",
    " \n",
    "PE nº 186/2020 - CAESB."
   ]
  }
 ]
}