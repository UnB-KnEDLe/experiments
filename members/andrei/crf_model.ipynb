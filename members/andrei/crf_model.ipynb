{
 "cells": [
  {
   "cell_type": "code",
   "execution_count": 1,
   "id": "e908e8d0-3f11-4e18-a222-cfb9b3e7f559",
   "metadata": {},
   "outputs": [],
   "source": [
    "import pandas as pd\n",
    "import sklearn_crfsuite\n",
    "import nltk\n",
    "from nltk.tokenize import word_tokenize\n",
    "from nltk.tokenize import RegexpTokenizer\n",
    "\n",
    "import sklearn_crfsuite\n",
    "from sklearn_crfsuite import metrics\n"
   ]
  },
  {
   "cell_type": "code",
   "execution_count": 2,
   "id": "5abb8993-87b9-4bc8-99d6-df5361ed81d7",
   "metadata": {},
   "outputs": [],
   "source": [
    "df= pd.read_parquet(r'C:\\Users\\72118423187\\desenvolvimento\\github\\experiments\\members\\ian\\deep-learning\\acts_parquet\\iob_aviso_licitacao.parquet')\n",
    "result = pd.DataFrame(df)"
   ]
  },
  {
   "cell_type": "code",
   "execution_count": 3,
   "id": "c63b02d3-3ee3-4e6c-bcea-8d6a8b09b165",
   "metadata": {},
   "outputs": [
    {
     "data": {
      "text/html": [
       "<div>\n",
       "<style scoped>\n",
       "    .dataframe tbody tr th:only-of-type {\n",
       "        vertical-align: middle;\n",
       "    }\n",
       "\n",
       "    .dataframe tbody tr th {\n",
       "        vertical-align: top;\n",
       "    }\n",
       "\n",
       "    .dataframe thead th {\n",
       "        text-align: right;\n",
       "    }\n",
       "</style>\n",
       "<table border=\"1\" class=\"dataframe\">\n",
       "  <thead>\n",
       "    <tr style=\"text-align: right;\">\n",
       "      <th></th>\n",
       "      <th>treated_text</th>\n",
       "      <th>IOB</th>\n",
       "    </tr>\n",
       "  </thead>\n",
       "  <tbody>\n",
       "    <tr>\n",
       "      <th>0</th>\n",
       "      <td>AVISO DE LICITAÇÃO PREGÃO ELETRÔNICO Nº 01/202...</td>\n",
       "      <td>O O O B-MODALIDADE_LICITACAO I-MODALIDADE_LICI...</td>\n",
       "    </tr>\n",
       "    <tr>\n",
       "      <th>1</th>\n",
       "      <td>AVISO DE LICITAÇÃO PREGÃO ELETRÔNICO Nº 50/201...</td>\n",
       "      <td>O O O B-MODALIDADE_LICITACAO I-MODALIDADE_LICI...</td>\n",
       "    </tr>\n",
       "    <tr>\n",
       "      <th>2</th>\n",
       "      <td>PREGÃO ELETRÔNICO Nº 14/2021 Processo: 092.041...</td>\n",
       "      <td>B-MODALIDADE_LICITACAO I-MODALIDADE_LICITACAO ...</td>\n",
       "    </tr>\n",
       "    <tr>\n",
       "      <th>3</th>\n",
       "      <td>AVISO DE LICITAÇÃO PREGÃO ELETRÔNICO (SRP) Nº ...</td>\n",
       "      <td>O O O B-MODALIDADE_LICITACAO I-MODALIDADE_LICI...</td>\n",
       "    </tr>\n",
       "    <tr>\n",
       "      <th>4</th>\n",
       "      <td>AVISO DE LICITAÇÃO TOMADA DE PREÇOS Nº 144/200...</td>\n",
       "      <td>O O O B-MODALIDADE_LICITACAO I-MODALIDADE_LICI...</td>\n",
       "    </tr>\n",
       "    <tr>\n",
       "      <th>...</th>\n",
       "      <td>...</td>\n",
       "      <td>...</td>\n",
       "    </tr>\n",
       "    <tr>\n",
       "      <th>229</th>\n",
       "      <td>PREGÃO Nº 442/2004 SUCOM/SEF/DF Objeto: Aquisi...</td>\n",
       "      <td>B-MODALIDADE_LICITACAO O B-NUM_LICITACAO I-NUM...</td>\n",
       "    </tr>\n",
       "    <tr>\n",
       "      <th>230</th>\n",
       "      <td>PREGÃO Nº 451/2004 SUCOM/SEF/DF Objeto: Aquisi...</td>\n",
       "      <td>B-MODALIDADE_LICITACAO O B-NUM_LICITACAO I-NUM...</td>\n",
       "    </tr>\n",
       "    <tr>\n",
       "      <th>231</th>\n",
       "      <td>AVISO DE LICITAÇÃO A COMPANHIA ENERGÉTICA DE B...</td>\n",
       "      <td>O O O O O O O O O O O O O O O O O O O O O O O ...</td>\n",
       "    </tr>\n",
       "    <tr>\n",
       "      <th>232</th>\n",
       "      <td>AVISO DE LICITAÇÃO PROCESSO N.º 053.000.918/20...</td>\n",
       "      <td>O O O O O O B-PROCESSO I-PROCESSO I-PROCESSO I...</td>\n",
       "    </tr>\n",
       "    <tr>\n",
       "      <th>233</th>\n",
       "      <td>AVISO DE LICITAÇÃO TOMADA DE PREÇOS Nº 31/2000...</td>\n",
       "      <td>O O O B-MODALIDADE_LICITACAO I-MODALIDADE_LICI...</td>\n",
       "    </tr>\n",
       "  </tbody>\n",
       "</table>\n",
       "<p>234 rows × 2 columns</p>\n",
       "</div>"
      ],
      "text/plain": [
       "                                          treated_text  \\\n",
       "0    AVISO DE LICITAÇÃO PREGÃO ELETRÔNICO Nº 01/202...   \n",
       "1    AVISO DE LICITAÇÃO PREGÃO ELETRÔNICO Nº 50/201...   \n",
       "2    PREGÃO ELETRÔNICO Nº 14/2021 Processo: 092.041...   \n",
       "3    AVISO DE LICITAÇÃO PREGÃO ELETRÔNICO (SRP) Nº ...   \n",
       "4    AVISO DE LICITAÇÃO TOMADA DE PREÇOS Nº 144/200...   \n",
       "..                                                 ...   \n",
       "229  PREGÃO Nº 442/2004 SUCOM/SEF/DF Objeto: Aquisi...   \n",
       "230  PREGÃO Nº 451/2004 SUCOM/SEF/DF Objeto: Aquisi...   \n",
       "231  AVISO DE LICITAÇÃO A COMPANHIA ENERGÉTICA DE B...   \n",
       "232  AVISO DE LICITAÇÃO PROCESSO N.º 053.000.918/20...   \n",
       "233  AVISO DE LICITAÇÃO TOMADA DE PREÇOS Nº 31/2000...   \n",
       "\n",
       "                                                   IOB  \n",
       "0    O O O B-MODALIDADE_LICITACAO I-MODALIDADE_LICI...  \n",
       "1    O O O B-MODALIDADE_LICITACAO I-MODALIDADE_LICI...  \n",
       "2    B-MODALIDADE_LICITACAO I-MODALIDADE_LICITACAO ...  \n",
       "3    O O O B-MODALIDADE_LICITACAO I-MODALIDADE_LICI...  \n",
       "4    O O O B-MODALIDADE_LICITACAO I-MODALIDADE_LICI...  \n",
       "..                                                 ...  \n",
       "229  B-MODALIDADE_LICITACAO O B-NUM_LICITACAO I-NUM...  \n",
       "230  B-MODALIDADE_LICITACAO O B-NUM_LICITACAO I-NUM...  \n",
       "231  O O O O O O O O O O O O O O O O O O O O O O O ...  \n",
       "232  O O O O O O B-PROCESSO I-PROCESSO I-PROCESSO I...  \n",
       "233  O O O B-MODALIDADE_LICITACAO I-MODALIDADE_LICI...  \n",
       "\n",
       "[234 rows x 2 columns]"
      ]
     },
     "execution_count": 3,
     "metadata": {},
     "output_type": "execute_result"
    }
   ],
   "source": [
    "result"
   ]
  },
  {
   "cell_type": "code",
   "execution_count": 4,
   "id": "3ecaed7f-c98b-4ed4-a52d-b7cc2100d18b",
   "metadata": {},
   "outputs": [],
   "source": [
    "#\n",
    "# Transforma as setencas da coluna treated_text em listas de palavras\n",
    "# Transforma as setencas da coluna IOB me listas de entidades\n",
    "#\n",
    "def preparaVetoresXeY(dataset):\n",
    "    TOKENIZER = nltk.RegexpTokenizer(r\"\\w+\").tokenize\n",
    "\n",
    "    x = []\n",
    "    y = []\n",
    "    for row in range(len(dataset)):\n",
    "        if pd.notna(dataset['treated_text'][row]):\n",
    "            # text_iob = result['IOB'][row].decode(\"utf-8\").replace(\"', '\", '').replace(\"[' \", '').replace(\"']\", '')\n",
    "            x.append(TOKENIZER(dataset['treated_text'][row]))\n",
    "            y.append(dataset['IOB'][row].split())\n",
    "    return x, y\n",
    "\n",
    "def tokenizaTextoRaw(texto):\n",
    "    TOKENIZER = nltk.RegexpTokenizer(r\"\\w+\").tokenize\n",
    "\n",
    "    return TOKENIZER(texto)\n",
    "    \n",
    "\n",
    "#\n",
    "# Verifica se o número de palavras da sentença (X) está igual ao numero de anotações de entidade (y)\n",
    "#\n",
    "def validaTransformacao(x, y):\n",
    "    if (len(x) != len(y)):\n",
    "        print(\"Erro: o número de sentenças do DODF não correspondem com o número de anotaçôes. x=%i e y=%i\" %(len(x), len(y)))\n",
    "        return\n",
    "        \n",
    "    for row in range(len(x)):\n",
    "        tamanho_x = len(x[row])\n",
    "        tamanho_y = len(y[row])\n",
    "        if (tamanho_x != tamanho_y):\n",
    "            print(\"Erro: Tamanhos de X e Y no índice=%i deveriam ser iguais. X=%i e Y=%i.\" %(row, tamanho_x, tamanho_y))\n",
    "            return\n",
    "\n",
    "#\n",
    "# Extrai features das sentencas do DODF\n",
    "#\n",
    "def get_features(sentence):\n",
    "        \"\"\"Create features for each word in act.\n",
    "        Create a list of dict of words features to be used in the predictor module.\n",
    "        Args:\n",
    "            act (list): List of words in an act.\n",
    "        Returns:\n",
    "            A list with a dictionary of features for each of the words.\n",
    "        \"\"\"\n",
    "        sent_features = []\n",
    "        for i in range(len(sentence)):\n",
    "            word_feat = {\n",
    "                'word': sentence[i].lower(),\n",
    "                'word[-3:]': sentence[i][-3:],\n",
    "                'word[-2:]': sentence[i][-2:],\n",
    "                'capital_letter': sentence[i][0].isupper(),\n",
    "                'word_istitle': sentence[i].istitle(),\n",
    "                'all_capital': sentence[i].isupper(),\n",
    "                'word_isdigit': sentence[i].isdigit(),\n",
    "                'word_before': '' if i == 0 else sentence[i-1].lower(),\n",
    "                'word_before_isdigit': '' if i == 0 else sentence[i-1].isdigit(),\n",
    "                'word_before_isupper': '' if i == 0 else sentence[i-1].isupper(),\n",
    "                'word_before_istitle': '' if i == 0 else sentence[i-1].istitle(),\n",
    "                'word_after:': '' if i+1 >= len(sentence) else sentence[i+1].lower(),\n",
    "                'word_after_isdigit:': '' if i+1 >= len(sentence) else sentence[i+1].isdigit(),\n",
    "                'word_after_isupper:': '' if i+1 >= len(sentence) else sentence[i+1].isupper(),\n",
    "                'word_after_istitle:': '' if i+1 >= len(sentence) else sentence[i+1].istitle(),\n",
    "                'BOS': i == 0,\n",
    "                'EOS': i == len(sentence)-1\n",
    "            }\n",
    "            sent_features.append(word_feat)\n",
    "        return sent_features\n",
    "    \n",
    "import math\n",
    "def repartirDadosTreinoTeste(x,y):\n",
    "    split=0.8\n",
    "    split_idx = math.floor(split*len(x))\n",
    "    x_train = x[0:split_idx]\n",
    "    y_train = y[0:split_idx]\n",
    "    x_test = x[split_idx:]\n",
    "    y_test = y[split_idx:]\n",
    "    print(\"Qtd treino = %i, Qtd teste = %i\" %(len(x_train),len(x_test)))\n",
    "    print(\"%i porcento para Treino\" %(split*100))    \n",
    "    return x_train, y_train, x_test, y_test\n",
    "\n",
    "\n",
    "\n",
    "#\n",
    "# Concatena cada palavra do texto do ato com sua respectiva anotação de entidade\n",
    "#\n",
    "def concatenaPredicao(ato,  predicao):\n",
    "    for i in range(len(ato)):\n",
    "               print(ato[i] + '[' + predicao[i] + ']' , end=\" \")"
   ]
  },
  {
   "cell_type": "markdown",
   "id": "e4e2dc00-abb6-4587-9d60-c1f4681a7c23",
   "metadata": {},
   "source": [
    "### 1. Prepara o dataset"
   ]
  },
  {
   "cell_type": "code",
   "execution_count": 5,
   "id": "9d50ffea-f304-41fb-8e57-8572fa3860f9",
   "metadata": {},
   "outputs": [],
   "source": [
    "x_data, y_data = preparaVetoresXeY(result);"
   ]
  },
  {
   "cell_type": "markdown",
   "id": "e4295fd1-e316-476e-9cbe-178cc9d6928d",
   "metadata": {},
   "source": [
    "### 2.Valida a prepação do dataset"
   ]
  },
  {
   "cell_type": "code",
   "execution_count": 6,
   "id": "a998f338-e956-41b2-a799-8ff5d1174a8c",
   "metadata": {},
   "outputs": [],
   "source": [
    "validaTransformacao(x_data, y_data)"
   ]
  },
  {
   "cell_type": "markdown",
   "id": "4f59b96f-3f1c-4a04-b882-71feab95ab8c",
   "metadata": {},
   "source": [
    "### 3. Extrai features das sentencas do DODF"
   ]
  },
  {
   "cell_type": "code",
   "execution_count": 7,
   "id": "bb3ff42a-22ad-4a8e-ab80-e1ef80e116e3",
   "metadata": {},
   "outputs": [],
   "source": [
    "x = []\n",
    "for i in range(len(x_data)):\n",
    "    x.append(get_features(x_data[i]))\n",
    "x_data = x"
   ]
  },
  {
   "cell_type": "markdown",
   "id": "d5cae3cb-8c01-45ff-9869-291089f8b416",
   "metadata": {},
   "source": [
    "### 4. Divide dataset em Treino e Teste (hold-out)"
   ]
  },
  {
   "cell_type": "code",
   "execution_count": 8,
   "id": "8b76db67-8922-435c-ac3e-dec90be9844f",
   "metadata": {},
   "outputs": [
    {
     "name": "stdout",
     "output_type": "stream",
     "text": [
      "Qtd treino = 187, Qtd teste = 47\n",
      "80 porcento para Treino\n"
     ]
    }
   ],
   "source": [
    " x_train, y_train, x_test, y_test = repartirDadosTreinoTeste(x_data,y_data)"
   ]
  },
  {
   "cell_type": "markdown",
   "id": "f4a0f9ef-9d85-4317-9ab2-5db4a8f3bd97",
   "metadata": {},
   "source": [
    "### 5. Treina o modelo"
   ]
  },
  {
   "cell_type": "markdown",
   "id": "60de2074-b452-4698-9391-5d6c142b5631",
   "metadata": {},
   "source": [
    "#### Usa parametros default do CRF"
   ]
  },
  {
   "cell_type": "code",
   "execution_count": 26,
   "id": "e2711ed2-c564-45d7-b3ca-e288ae40898b",
   "metadata": {},
   "outputs": [],
   "source": [
    "crf = sklearn_crfsuite.CRF(\n",
    "    #algorithm = 'lbfgs'\n",
    "    #c1=0.17,\n",
    "    #c2=0.17,\n",
    "    #max_iterations=1000,\n",
    "    #all_possible_transitions=True\n",
    ")"
   ]
  },
  {
   "cell_type": "markdown",
   "id": "b2d4ec0f-94f8-4d16-be8b-fee8212e1e9d",
   "metadata": {},
   "source": [
    "#### Cross-Validation (TODO1: implementar grindsearch para achar melhores valore de c1 e c2)"
   ]
  },
  {
   "cell_type": "markdown",
   "id": "59b8f37f-767c-4a56-9d0d-754474ca6383",
   "metadata": {},
   "source": [
    "ver secao Hyperparameter Optimization em:  https://sklearn-crfsuite.readthedocs.io/en/latest/tutorial.html"
   ]
  },
  {
   "cell_type": "code",
   "execution_count": 19,
   "id": "a67d70ff-7e62-4db6-9c47-16a7fd1781f1",
   "metadata": {},
   "outputs": [
    {
     "data": {
      "text/plain": [
       "array([0.65020395, 0.72186731, 0.66394081, 0.68682123, 0.6412906 ])"
      ]
     },
     "execution_count": 19,
     "metadata": {},
     "output_type": "execute_result"
    }
   ],
   "source": [
    "from sklearn.model_selection import cross_val_score\n",
    "from sklearn.metrics import make_scorer\n",
    "\n",
    "#Cria-se uma custom scorer com a métrica f1_score macro\n",
    "custom_scorer_f1 = make_scorer(metrics.flat_f1_score, average='macro')\n",
    "\n",
    "scores = cross_val_score(crf, x_train, y_train, cv=5, scoring=custom_scorer_f1)\n",
    "\n",
    "scores"
   ]
  },
  {
   "cell_type": "code",
   "execution_count": 23,
   "id": "d4d05d75-212c-47ca-8303-78f1875d3a22",
   "metadata": {},
   "outputs": [
    {
     "name": "stdout",
     "output_type": "stream",
     "text": [
      "0.67 accuracy with a standard deviation of 0.03\n"
     ]
    }
   ],
   "source": [
    "print(\"%0.2f accuracy with a standard deviation of %0.2f\" % (scores.mean(), scores.std()))"
   ]
  },
  {
   "cell_type": "markdown",
   "id": "6df070a3-9358-4116-8257-422a21821b12",
   "metadata": {},
   "source": [
    "### 6. Teste "
   ]
  },
  {
   "cell_type": "markdown",
   "id": "c1115306-cc9f-49a3-a23a-a6016b665be2",
   "metadata": {},
   "source": [
    "(TODO2: Usar melhor combinacao de hyperparametros c1 e c2)"
   ]
  },
  {
   "cell_type": "code",
   "execution_count": 27,
   "id": "ae288c69-d461-4f05-9066-2dcb03d7cc85",
   "metadata": {},
   "outputs": [],
   "source": [
    "#Apos implementar grindseach (TODO1), usar best_estimator\n",
    "#crf = rs.best_estimator_\n",
    "\n",
    "crf.fit(x_train, y_train)\n",
    "\n",
    "y_pred = crf.predict(x_test)"
   ]
  },
  {
   "cell_type": "code",
   "execution_count": 25,
   "id": "f66f2f7a-375f-4747-8b74-bb97582b59bf",
   "metadata": {},
   "outputs": [
    {
     "name": "stdout",
     "output_type": "stream",
     "text": [
      "                          precision    recall  f1-score   support\n",
      "\n",
      "B-CODIGO_SISTEMA_COMPRAS      0.400     0.333     0.364         6\n",
      "         B-DATA_ABERTURA      0.818     0.692     0.750        52\n",
      "  B-MODALIDADE_LICITACAO      1.000     0.854     0.921        48\n",
      "         B-NUM_LICITACAO      0.906     0.857     0.881        56\n",
      "         B-OBJ_LICITACAO      0.949     0.822     0.881        45\n",
      "       B-ORGAO_LICITANTE      1.000     0.267     0.421        15\n",
      "              B-PROCESSO      0.824     0.667     0.737        42\n",
      "       B-SISTEMA_COMPRAS      0.789     0.811     0.800        37\n",
      "              B-TIPO_OBJ      0.000     0.000     0.000         0\n",
      "        B-VALOR_ESTIMADO      0.875     0.412     0.560        17\n",
      "I-CODIGO_SISTEMA_COMPRAS      1.000     0.200     0.333         5\n",
      "         I-DATA_ABERTURA      0.740     0.824     0.780       131\n",
      "  I-MODALIDADE_LICITACAO      1.000     0.765     0.867        51\n",
      "         I-NUM_LICITACAO      0.941     0.941     0.941        51\n",
      "         I-OBJ_LICITACAO      0.833     0.850     0.842      1442\n",
      "       I-ORGAO_LICITANTE      1.000     0.386     0.557        70\n",
      "              I-PROCESSO      0.740     0.640     0.686       111\n",
      "       I-SISTEMA_COMPRAS      0.809     0.906     0.855       117\n",
      "              I-TIPO_OBJ      0.000     0.000     0.000         0\n",
      "        I-VALOR_ESTIMADO      0.950     0.514     0.667        37\n",
      "                       O      0.913     0.929     0.921      4728\n",
      "\n",
      "                accuracy                          0.888      7061\n",
      "               macro avg      0.785     0.603     0.655      7061\n",
      "            weighted avg      0.890     0.888     0.886      7061\n",
      "\n"
     ]
    }
   ],
   "source": [
    "print(metrics.flat_classification_report(\n",
    "    y_test, y_pred, digits=3, labels=None\n",
    "))"
   ]
  },
  {
   "cell_type": "markdown",
   "id": "5a54b496-7fb2-4c51-9aca-64031de6a0f4",
   "metadata": {},
   "source": [
    "### Aplicado modelo em ato"
   ]
  },
  {
   "cell_type": "code",
   "execution_count": 15,
   "id": "02db69cb-f32d-4e24-bf57-b49aab6bfaa3",
   "metadata": {},
   "outputs": [],
   "source": [
    "ato1 = \"AVISO DE ABERTURA DE LICITACAO PREGAO ELETRONICO No 34/2019. Processo: 001-001334/2019. Objeto: Registro de precos para eventual contratacao de servicos de organizacao de eventos e correlatos, a serem realizados nas dependencias internas e externas da Camara Legislativa do Distrito Federal, sob demanda, abrangendo o planejamento operacional, apoio logistico, organizacao, execucao, montagem de infraestrutura, fornecimento de bens e mao-de-obra, independentemente da prestacao de servicos concomitantes, utilizando mobiliario necessario e adequado, fornecimento de layouts para estandes e exposicoes, compreendendo a montagem, desmontagem, limpeza, manutencao, sonorizacao, iluminacao, instalacoes eletrica e equipamentos, conforme os requisitos e condicoes estabelecidos no Termo de Referencia - Anexo I, do Edital. Valor estimado: R$ 6.014.928,12. Data/hora da Sessao Publica: 25/10/2019. Local: Internet, no endereco www.comprasnet.gov.br. Tipo: menor preco global. O edital encontra-se nos enderecos: www.comprasnet.gov.br (UASG 974004) e www.cl.df.gov.br, no link transparencia. Maiores informacoes (61) 3348-8650. Brasilia/DF, 14 de outubro de 2019. DOUGLAS BRUNO GONCALVES DE LAET.\"\n",
    "ato2 = \"AVISO DE TOMADA DE PREÇOS Nº 01/2021 Processo 00220-00000503/2021-51 O DISTRITO FEDERAL, por meio da SECRETARIA DE ESTADO DE ESPORTE E LAZER DO DISTRITO FEDERAL, autorizada pelo Decreto Distrital nº 41.497/2020, por meio da Comissão Permanente de Licitação, doravante denominada CPL/SEL/GDF, mediante a Portaria nº 186, de 27 de novembro de 2020, publicada no DODF nº 225, de 01 de dezembro de 2020, torna público, para conhecimento dos interessados, que fará licitação, cujo objeto é: CONTRATAÇÃO DE EMPRESA ESPECIALIZADA EM LIMPEZA, NIVELAMENTO E EXECUÇÃO DE PISO EM CONCRETO ARMADO dos terrenos onde serão implantados os módulos esportivos, objeto do processo 00220-00000398/2021-50, sob a modalidade de TOMADA DE PREÇOS, Tipo MENOR PREÇO GLOBAL POR LOTE, Adjudicação POR LOTE. VALOR TOTAL ESTIMADO: R$ 1.348.175,68(um milhão, trezentos e quarenta e oito mil, cento e setenta e cinco reais e sessenta e oito centavos), em SESSÃO PÚBLICA: no dia 03 de agosto de 2021, às 13h00min, DATA LIMITE DE RECEBIMENTO DOS DOCUMENTOS DE HABILITAÇÃO E PROPOSTA DE PREÇOS: até às 13:00 horas do dia 03 de agosto de 2021, conforme especificações e quantitativos constantes no Edital. O Edital encontra-se disponibilizado, sem ônus, no setor de Comissão Permanente de Licitação, doravante denominada CPL/SEL/GDF no endereço SCS, Quadra 4, Edifício Luiz Carlos Botelho, 7º andar - Bairro Asa Sul – Brasília/DF; CEP: 70.304-000, e na página da Secretaria de Estado de Esporte e Lazer do Distrito Federal – SEL/GDF, www.esporte.df.gov.br (clicar em Publicações). THIAGO MOREIRA CARVALHO DOS SANTOS Presidente da Comissão\"\n",
    "ato3 = \"AVISO DE ABERTURA PREGÃO ELETRÔNICO POR SRP Nº 33/2022 - UASG 926119 Objeto: Aquisição de material médico hospitalar CATETER INTRAVENOSO PERIFÉRICO 14G e outros, para atender a demanda da Secretaria de Saúde – DF, conforme especificações e quantitativos constantes no Anexo I do Edital. Processo 00060-00437454/2021-51. Total de 37 itens (Ampla concorrência e cotas destinadas às ME/EPPs). Valor Estimado: R$ 7.833.355,042. Cadastro das Propostas: a partir de 31/01/2022. Abertura das Propostas 10/02/2022, às 9h, horário de Brasília, no site www. net.gov.br. O Edital encontra-se disponibilizado, sem ônus, no site, ou, com ônus, no endereço: SRTVN, Quadra 701, Conjunto C, Edifício PO 700, 2º andar, sala: Central de Compras/DAQ/SUAG, CEP: 70.723-040 – Brasília/DF. PEDRO PAULO B.D.C. FLEURY Pregoeiro\"\n",
    "ato4 = \"AVISO DE LICITAÇÃO PREGÃO ELETRÔNICO Nº 18/2022 - UASG 974002 A Pregoeira comunica aos interessados que a fim de atender a demanda do Jardim Botânico e Brasília - JBB, a Subsecretaria de Compras Governamentais - SCG/SPLAN/SEEC operacionalizará licitação do PE nº 18/2022 no sistema Comprasnet, cujo objeto é a aquisição de bomba com vazão, bomba hidráulica, motobomba, bloco de cimento, cimento, relê, disjuntor, mini contactor, etc, conforme especificações e condições estabelecidas no termo de referência constante do Anexo I do Edital. Valor total estimado: R$ 46.237,77. Tipo de Licitação: Menor Preço. Unidade Orçamentária: 150106; Programa de Trabalho: 18.122.8210.8517.9658. Elemento de despesa: 33.90.30 e 44.90.52. Fonte: 100 e 120. Abertura das propostas dia 21/02/2022, às 9h30min. Processo 00195-00000275/2021-73. O edital poderá ser retirado no endereço eletrônico: www.comprasgovernamentais.gov.br. Informações pelo e-mail: pregoeirosulog08@economia.df.gov.br Brasília/DF, 04 de fevereiro de 2022 RITA DE CÁSSIA GODINHO DE CAMPOS\"\n",
    "ato5 = \"AVISO DE LICITAÇÃO PREGÃO ELETRÔNICO Nº 06/2022 Objeto: Contratação de empresa especializada para fornecimento de 13 (treze) notebooks de alta performance e prestação de garantia on site de 12 (doze) meses, para atendimento das demandas internas do Tribunal de Contas do Distrito Federal. Processo: 00600-00000249/2021-80-TCDF. Valor estimado: R$ 155.654,46; enquadramento: natureza 4.4.90.52.35 – Equipamentos e Material Permanente; classificação funcional e programática 01.126.8231.1471.0005 - Modernização de Sistema de Informação do TCDF; fonte de Recursos 100. Data limite de recebimento das propostas: 17/02/2022, às 14h30min. Cópia do Edital encontra-se à disposição no Serviço de Licitação, localizado no 2º Andar do Ed. Anexo do TCDF, telefone (61) 3314- 2742 ou pelos sítios: www.tc.df.gov.br e www.comprasnet.gov.br (UASG: 974003). A Sessão Pública será processada no sítio do ComprasNet, nos termos do Edital. Em atendimento à Lei Distrital nº 5.453/2015, as informações referentes ao certame também estão disponíveis no sítio www.tc.df.gov.br, link: Consulta Processo do TCDF. Brasília/DF, 02 de fevereiro de 2022 ALESSANDRA RIBEIRO ASTUTI Pregoeira\"\n",
    "\n",
    "atos_lista = [ato1, ato2, ato3, ato4, ato5]\n",
    "\n",
    "atos_tokens_lista = [tokenizaTextoRaw(atos_lista[i]) for i in range(len(atos_lista))] \n",
    "\n",
    "atos_features_lista = [get_features(atos_tokens_lista[i]) for i in range(len(atos_tokens_lista))]\n",
    "    \n",
    "predicao = crf.predict(atos_features_lista)\n"
   ]
  },
  {
   "cell_type": "markdown",
   "id": "1d004017-8b67-4ffe-b3f7-a8b8ce6de753",
   "metadata": {},
   "source": [
    "### Resultado da predição"
   ]
  },
  {
   "cell_type": "code",
   "execution_count": 17,
   "id": "645d2638-1d50-4111-b574-3935b5c21404",
   "metadata": {},
   "outputs": [
    {
     "name": "stdout",
     "output_type": "stream",
     "text": [
      "AVISO[O] DE[O] LICITAÇÃO[O] PREGÃO[B-MODALIDADE_LICITACAO] ELETRÔNICO[I-MODALIDADE_LICITACAO] Nº[O] 18[B-NUM_LICITACAO] 2022[I-NUM_LICITACAO] UASG[O] 974002[O] A[O] Pregoeira[O] comunica[O] aos[O] interessados[O] que[O] a[O] fim[O] de[O] atender[O] a[O] demanda[O] do[O] Jardim[O] Botânico[O] e[O] Brasília[O] JBB[O] a[O] Subsecretaria[O] de[O] Compras[O] Governamentais[O] SCG[O] SPLAN[O] SEEC[O] operacionalizará[O] licitação[O] do[O] PE[O] nº[O] 18[B-NUM_LICITACAO] 2022[I-NUM_LICITACAO] no[O] sistema[O] Comprasnet[O] cujo[O] objeto[O] é[O] a[O] aquisição[B-OBJ_LICITACAO] de[I-OBJ_LICITACAO] bomba[I-OBJ_LICITACAO] com[I-OBJ_LICITACAO] vazão[I-OBJ_LICITACAO] bomba[I-OBJ_LICITACAO] hidráulica[I-OBJ_LICITACAO] motobomba[I-OBJ_LICITACAO] bloco[I-OBJ_LICITACAO] de[I-OBJ_LICITACAO] cimento[I-OBJ_LICITACAO] cimento[I-OBJ_LICITACAO] relê[I-OBJ_LICITACAO] disjuntor[I-OBJ_LICITACAO] mini[I-OBJ_LICITACAO] contactor[I-OBJ_LICITACAO] etc[I-OBJ_LICITACAO] conforme[I-OBJ_LICITACAO] especificações[I-OBJ_LICITACAO] e[I-OBJ_LICITACAO] condições[I-OBJ_LICITACAO] estabelecidas[I-OBJ_LICITACAO] no[I-OBJ_LICITACAO] termo[I-OBJ_LICITACAO] de[I-OBJ_LICITACAO] referência[I-OBJ_LICITACAO] constante[I-OBJ_LICITACAO] do[I-OBJ_LICITACAO] Anexo[I-OBJ_LICITACAO] I[I-OBJ_LICITACAO] do[I-OBJ_LICITACAO] Edital[I-OBJ_LICITACAO] Valor[O] total[O] estimado[O] R[O] 46[O] 237[O] 77[O] Tipo[O] de[O] Licitação[O] Menor[O] Preço[O] Unidade[O] Orçamentária[O] 150106[O] Programa[O] de[O] Trabalho[O] 18[O] 122[O] 8210[O] 8517[O] 9658[O] Elemento[O] de[O] despesa[O] 33[O] 90[O] 30[O] e[O] 44[O] 90[O] 52[O] Fonte[O] 100[O] e[O] 120[O] Abertura[O] das[O] propostas[O] dia[O] 21[B-DATA_ABERTURA] 02[I-DATA_ABERTURA] 2022[I-DATA_ABERTURA] às[O] 9h30min[O] Processo[O] 00195[B-PROCESSO] 00000275[I-PROCESSO] 2021[I-PROCESSO] 73[I-PROCESSO] O[O] edital[O] poderá[O] ser[O] retirado[O] no[O] endereço[O] eletrônico[O] www[B-SISTEMA_COMPRAS] comprasgovernamentais[I-SISTEMA_COMPRAS] gov[I-SISTEMA_COMPRAS] br[I-SISTEMA_COMPRAS] Informações[O] pelo[O] e[O] mail[O] pregoeirosulog08[O] economia[O] df[O] gov[O] br[O] Brasília[O] DF[O] 04[O] de[O] fevereiro[O] de[O] 2022[O] RITA[O] DE[O] CÁSSIA[O] GODINHO[O] DE[O] CAMPOS[O] "
     ]
    }
   ],
   "source": [
    "concatenaPredicao(atos_tokens_lista[3], predicao[3])"
   ]
  },
  {
   "cell_type": "code",
   "execution_count": 80,
   "id": "8c1071b0-b4be-49ba-a58b-94387a548fa9",
   "metadata": {},
   "outputs": [
    {
     "name": "stdout",
     "output_type": "stream",
     "text": [
      "de bomba com vazão bomba hidráulica motobomba bloco de cimento cimento relê disjuntor mini contactor etc conforme especificações e condições estabelecidas no termo de referência constante do Anexo I do Edital "
     ]
    }
   ],
   "source": [
    "#def getModalidadeLicitacao():\n",
    "import numpy as np\n",
    "\n",
    "\n",
    "def resultadoModelo(listaEntidades):\n",
    "    \n",
    "    if (listaEntidades == 'OBJ_LICITACAO'):\n",
    "        values = np.array(predicao[3])\n",
    "\n",
    "        searchval = 'I-OBJ_LICITACAO'\n",
    "\n",
    "        ii = np.where(values == searchval)[0]\n",
    "        \n",
    "        res_list = [atos_tokens_lista[3][i] for i in ii.tolist()]\n",
    "        \n",
    "        for i in res_list: \n",
    "            print(i, end = ' ')\n",
    "\n",
    "\n",
    "\n",
    "resultadoModelo('OBJ_LICITACAO')\n",
    "\n",
    "\n"
   ]
  },
  {
   "cell_type": "code",
   "execution_count": null,
   "id": "b0db0544-672a-4e1b-81bb-9762016319b7",
   "metadata": {},
   "outputs": [],
   "source": []
  },
  {
   "cell_type": "code",
   "execution_count": null,
   "id": "afca5a87-10f3-4866-a659-f334bc02bc56",
   "metadata": {},
   "outputs": [],
   "source": []
  },
  {
   "cell_type": "code",
   "execution_count": 72,
   "id": "4e415478-0345-4ee0-8c8f-1c8004b570b8",
   "metadata": {},
   "outputs": [],
   "source": [
    "res_list = [atos_tokens_lista[3][i] for i in ii.tolist()]"
   ]
  },
  {
   "cell_type": "code",
   "execution_count": 73,
   "id": "9ba9b698-2d26-4e9e-b42b-c7ee4b3b8e7f",
   "metadata": {},
   "outputs": [
    {
     "data": {
      "text/plain": [
       "['de',\n",
       " 'bomba',\n",
       " 'com',\n",
       " 'vazão',\n",
       " 'bomba',\n",
       " 'hidráulica',\n",
       " 'motobomba',\n",
       " 'bloco',\n",
       " 'de',\n",
       " 'cimento',\n",
       " 'cimento',\n",
       " 'relê',\n",
       " 'disjuntor',\n",
       " 'mini',\n",
       " 'contactor',\n",
       " 'etc',\n",
       " 'conforme',\n",
       " 'especificações',\n",
       " 'e',\n",
       " 'condições',\n",
       " 'estabelecidas',\n",
       " 'no',\n",
       " 'termo',\n",
       " 'de',\n",
       " 'referência',\n",
       " 'constante',\n",
       " 'do',\n",
       " 'Anexo',\n",
       " 'I',\n",
       " 'do',\n",
       " 'Edital']"
      ]
     },
     "execution_count": 73,
     "metadata": {},
     "output_type": "execute_result"
    }
   ],
   "source": [
    "res_list"
   ]
  },
  {
   "cell_type": "code",
   "execution_count": null,
   "id": "eefd51aa-19d4-4d5d-8f74-2364c163916c",
   "metadata": {},
   "outputs": [],
   "source": []
  }
 ],
 "metadata": {
  "kernelspec": {
   "display_name": "Python 3 (ipykernel)",
   "language": "python",
   "name": "python3"
  },
  "language_info": {
   "codemirror_mode": {
    "name": "ipython",
    "version": 3
   },
   "file_extension": ".py",
   "mimetype": "text/x-python",
   "name": "python",
   "nbconvert_exporter": "python",
   "pygments_lexer": "ipython3",
   "version": "3.8.13"
  }
 },
 "nbformat": 4,
 "nbformat_minor": 5
}
