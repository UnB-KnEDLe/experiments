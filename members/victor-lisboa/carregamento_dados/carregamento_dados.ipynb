{
 "cells": [
  {
   "cell_type": "code",
   "execution_count": 96,
   "metadata": {},
   "outputs": [
    {
     "name": "stdout",
     "output_type": "stream",
     "text": [
      "2093\n"
     ]
    },
    {
     "data": {
      "text/html": [
       "<div>\n",
       "<style scoped>\n",
       "    .dataframe tbody tr th:only-of-type {\n",
       "        vertical-align: middle;\n",
       "    }\n",
       "\n",
       "    .dataframe tbody tr th {\n",
       "        vertical-align: top;\n",
       "    }\n",
       "\n",
       "    .dataframe thead th {\n",
       "        text-align: right;\n",
       "    }\n",
       "</style>\n",
       "<table border=\"1\" class=\"dataframe\">\n",
       "  <thead>\n",
       "    <tr style=\"text-align: right;\">\n",
       "      <th></th>\n",
       "      <th>arquivo_rast</th>\n",
       "      <th>ato</th>\n",
       "      <th>dodf</th>\n",
       "      <th>treated_text</th>\n",
       "      <th>PROCESSO</th>\n",
       "      <th>CONTRATANTE</th>\n",
       "      <th>NUM_CONTRATO</th>\n",
       "      <th>OBJ_ADITIVO</th>\n",
       "      <th>NUM_ADITIVO</th>\n",
       "      <th>NOME_RESPONSAVEL</th>\n",
       "      <th>DATA_ESCRITO</th>\n",
       "      <th>IOB</th>\n",
       "      <th>NUM_AJUSTE</th>\n",
       "    </tr>\n",
       "  </thead>\n",
       "  <tbody>\n",
       "    <tr>\n",
       "      <th>0</th>\n",
       "      <td>24_aviso_de_aditamento_contratual_DODF_093_20-...</td>\n",
       "      <td>EXTRATO_ADITAMENTO_CONTRATUAL</td>\n",
       "      <td>DODF_093_20-05-2019</td>\n",
       "      <td>HI TERMO ADITIVO AO CONTRATO BRB 2016/100 Cont...</td>\n",
       "      <td>NaN</td>\n",
       "      <td>BRB BANCO DE BRASÍLIA S.A.</td>\n",
       "      <td>2016/100</td>\n",
       "      <td>prorrogação do contrato, a partir de 17/05/201...</td>\n",
       "      <td>HI TERMO ADITIVO</td>\n",
       "      <td>NaN</td>\n",
       "      <td>NaN</td>\n",
       "      <td>B-NUM_ADITIVO I-NUM_ADITIVO I-NUM_ADITIVO O O ...</td>\n",
       "      <td>NaN</td>\n",
       "    </tr>\n",
       "    <tr>\n",
       "      <th>1</th>\n",
       "      <td>24_extrato_de_aditamento_contratual_DODF_004_0...</td>\n",
       "      <td>EXTRATO_ADITAMENTO_CONTRATUAL</td>\n",
       "      <td>DODF_004_07-01-2016</td>\n",
       "      <td>Espécie: Segundo Termo Aditivo ao Contrato 000...</td>\n",
       "      <td>NaN</td>\n",
       "      <td>CEB Distribuição S/A</td>\n",
       "      <td>0006/2015</td>\n",
       "      <td>Prorrogação rogação do prazo de vigência por 0...</td>\n",
       "      <td>Segundo Termo Aditivo</td>\n",
       "      <td>NaN</td>\n",
       "      <td>NaN</td>\n",
       "      <td>O O B-NUM_ADITIVO I-NUM_ADITIVO I-NUM_ADITIVO ...</td>\n",
       "      <td>NaN</td>\n",
       "    </tr>\n",
       "    <tr>\n",
       "      <th>2</th>\n",
       "      <td>35_extrato_de_aditamento_contratual_DODF_173_0...</td>\n",
       "      <td>EXTRATO_ADITAMENTO_CONTRATUAL</td>\n",
       "      <td>DODF_173_01-09-08</td>\n",
       "      <td>EXTRATO DO PRIMEIRO TERMO ADITIVO AO CONTRATO ...</td>\n",
       "      <td>NaN</td>\n",
       "      <td>DF/ST</td>\n",
       "      <td>14/2008</td>\n",
       "      <td>Prorrogar, por 60 (sessenta) dias, o prazo de ...</td>\n",
       "      <td>PRIMEIRO TERMO ADITIVO</td>\n",
       "      <td>NaN</td>\n",
       "      <td>NaN</td>\n",
       "      <td>O O B-NUM_ADITIVO I-NUM_ADITIVO I-NUM_ADITIVO ...</td>\n",
       "      <td>NaN</td>\n",
       "    </tr>\n",
       "    <tr>\n",
       "      <th>3</th>\n",
       "      <td>59_aviso_de_aditamento_contratual_DODF_121_27-...</td>\n",
       "      <td>EXTRATO_ADITAMENTO_CONTRATUAL</td>\n",
       "      <td>DODF_121_27-06-2017</td>\n",
       "      <td>EXTRATO DO SEGUNDO TERMO ADITIVO AO CONTRATO N...</td>\n",
       "      <td>NaN</td>\n",
       "      <td>DEFENSORIA PÚBLICA DO DISTRITO FEDERAL</td>\n",
       "      <td>04/2015</td>\n",
       "      <td>Prorrogar por mais 12 (doze) meses o prazo de ...</td>\n",
       "      <td>SEGUNDO TERMO ADITIVO</td>\n",
       "      <td>NaN</td>\n",
       "      <td>NaN</td>\n",
       "      <td>O O B-NUM_ADITIVO I-NUM_ADITIVO I-NUM_ADITIVO ...</td>\n",
       "      <td>NaN</td>\n",
       "    </tr>\n",
       "    <tr>\n",
       "      <th>4</th>\n",
       "      <td>63_aviso_de_aditamento_contratual_DODF_070_14-...</td>\n",
       "      <td>EXTRATO_ADITAMENTO_CONTRATUAL</td>\n",
       "      <td>DODF_070_14-04-2020</td>\n",
       "      <td>EXTRATO DO QUINTO TERMO ADITIVO AO CONTRATO Nº...</td>\n",
       "      <td>NaN</td>\n",
       "      <td>CBMDF</td>\n",
       "      <td>17/2016</td>\n",
       "      <td>alteração contratual com vistas a incluir no e...</td>\n",
       "      <td>QUINTO TERMO ADITIVO</td>\n",
       "      <td>NaN</td>\n",
       "      <td>NaN</td>\n",
       "      <td>O O B-NUM_ADITIVO I-NUM_ADITIVO I-NUM_ADITIVO ...</td>\n",
       "      <td>NaN</td>\n",
       "    </tr>\n",
       "  </tbody>\n",
       "</table>\n",
       "</div>"
      ],
      "text/plain": [
       "                                        arquivo_rast  \\\n",
       "0  24_aviso_de_aditamento_contratual_DODF_093_20-...   \n",
       "1  24_extrato_de_aditamento_contratual_DODF_004_0...   \n",
       "2  35_extrato_de_aditamento_contratual_DODF_173_0...   \n",
       "3  59_aviso_de_aditamento_contratual_DODF_121_27-...   \n",
       "4  63_aviso_de_aditamento_contratual_DODF_070_14-...   \n",
       "\n",
       "                             ato                 dodf  \\\n",
       "0  EXTRATO_ADITAMENTO_CONTRATUAL  DODF_093_20-05-2019   \n",
       "1  EXTRATO_ADITAMENTO_CONTRATUAL  DODF_004_07-01-2016   \n",
       "2  EXTRATO_ADITAMENTO_CONTRATUAL    DODF_173_01-09-08   \n",
       "3  EXTRATO_ADITAMENTO_CONTRATUAL  DODF_121_27-06-2017   \n",
       "4  EXTRATO_ADITAMENTO_CONTRATUAL  DODF_070_14-04-2020   \n",
       "\n",
       "                                        treated_text PROCESSO  \\\n",
       "0  HI TERMO ADITIVO AO CONTRATO BRB 2016/100 Cont...      NaN   \n",
       "1  Espécie: Segundo Termo Aditivo ao Contrato 000...      NaN   \n",
       "2  EXTRATO DO PRIMEIRO TERMO ADITIVO AO CONTRATO ...      NaN   \n",
       "3  EXTRATO DO SEGUNDO TERMO ADITIVO AO CONTRATO N...      NaN   \n",
       "4  EXTRATO DO QUINTO TERMO ADITIVO AO CONTRATO Nº...      NaN   \n",
       "\n",
       "                              CONTRATANTE NUM_CONTRATO  \\\n",
       "0              BRB BANCO DE BRASÍLIA S.A.     2016/100   \n",
       "1                    CEB Distribuição S/A    0006/2015   \n",
       "2                                   DF/ST      14/2008   \n",
       "3  DEFENSORIA PÚBLICA DO DISTRITO FEDERAL      04/2015   \n",
       "4                                   CBMDF      17/2016   \n",
       "\n",
       "                                         OBJ_ADITIVO             NUM_ADITIVO  \\\n",
       "0  prorrogação do contrato, a partir de 17/05/201...        HI TERMO ADITIVO   \n",
       "1  Prorrogação rogação do prazo de vigência por 0...   Segundo Termo Aditivo   \n",
       "2  Prorrogar, por 60 (sessenta) dias, o prazo de ...  PRIMEIRO TERMO ADITIVO   \n",
       "3  Prorrogar por mais 12 (doze) meses o prazo de ...   SEGUNDO TERMO ADITIVO   \n",
       "4  alteração contratual com vistas a incluir no e...    QUINTO TERMO ADITIVO   \n",
       "\n",
       "  NOME_RESPONSAVEL DATA_ESCRITO  \\\n",
       "0              NaN          NaN   \n",
       "1              NaN          NaN   \n",
       "2              NaN          NaN   \n",
       "3              NaN          NaN   \n",
       "4              NaN          NaN   \n",
       "\n",
       "                                                 IOB NUM_AJUSTE  \n",
       "0  B-NUM_ADITIVO I-NUM_ADITIVO I-NUM_ADITIVO O O ...        NaN  \n",
       "1  O O B-NUM_ADITIVO I-NUM_ADITIVO I-NUM_ADITIVO ...        NaN  \n",
       "2  O O B-NUM_ADITIVO I-NUM_ADITIVO I-NUM_ADITIVO ...        NaN  \n",
       "3  O O B-NUM_ADITIVO I-NUM_ADITIVO I-NUM_ADITIVO ...        NaN  \n",
       "4  O O B-NUM_ADITIVO I-NUM_ADITIVO I-NUM_ADITIVO ...        NaN  "
      ]
     },
     "execution_count": 96,
     "metadata": {},
     "output_type": "execute_result"
    }
   ],
   "source": [
    "import pandas as pd\n",
    "\n",
    "arquivo = 'aditamento_contratual.csv'\n",
    "df = pd.read_csv(arquivo)\n",
    "num_atos = df.ato.count()\n",
    "print(num_atos)\n",
    "df.head()\n"
   ]
  },
  {
   "cell_type": "code",
   "execution_count": 97,
   "metadata": {},
   "outputs": [
    {
     "name": "stdout",
     "output_type": "stream",
     "text": [
      "Aditamento Contratual\n",
      "> Entidades:\n",
      "1 - arquivo_rast\n",
      "2 - ato\n",
      "3 - dodf\n",
      "4 - treated_text\n",
      "5 - PROCESSO\n",
      "6 - CONTRATANTE\n",
      "7 - NUM_CONTRATO\n",
      "8 - OBJ_ADITIVO\n",
      "9 - NUM_ADITIVO\n",
      "10 - NOME_RESPONSAVEL\n",
      "11 - DATA_ESCRITO\n",
      "12 - IOB\n",
      "13 - NUM_AJUSTE\n"
     ]
    }
   ],
   "source": [
    "num_entidades = len(df.columns)\n",
    "print('Aditamento Contratual')\n",
    "print('> Entidades:')\n",
    "for i in range(num_entidades):\n",
    "    print(f'{i+1} - ' + df.columns[i])\n"
   ]
  },
  {
   "cell_type": "code",
   "execution_count": 98,
   "metadata": {},
   "outputs": [
    {
     "name": "stdout",
     "output_type": "stream",
     "text": [
      "Número médio de palavras por ato: 171\n"
     ]
    }
   ],
   "source": [
    "num_palavras_ato = [] # numero de palavras pra cada ato\n",
    "\n",
    "for ato in df.treated_text:\n",
    "    num_palavras_ato.append(len(ato.split()))\n",
    "\n",
    "print(f'Número médio de palavras por ato: {sum(num_palavras_ato)//num_atos}')\n"
   ]
  },
  {
   "cell_type": "code",
   "execution_count": 95,
   "metadata": {},
   "outputs": [
    {
     "data": {
      "text/plain": [
       "0       B-NUM_ADITIVO I-NUM_ADITIVO I-NUM_ADITIVO O O ...\n",
       "1       O O B-NUM_ADITIVO I-NUM_ADITIVO I-NUM_ADITIVO ...\n",
       "2       O O B-NUM_ADITIVO I-NUM_ADITIVO I-NUM_ADITIVO ...\n",
       "3       O O B-NUM_ADITIVO I-NUM_ADITIVO I-NUM_ADITIVO ...\n",
       "4       O O B-NUM_ADITIVO I-NUM_ADITIVO I-NUM_ADITIVO ...\n",
       "                              ...                        \n",
       "2088    B-NUM_ADITIVO I-NUM_ADITIVO I-NUM_ADITIVO O O ...\n",
       "2089    B-NUM_ADITIVO I-NUM_ADITIVO I-NUM_ADITIVO O O ...\n",
       "2090    B-NUM_ADITIVO I-NUM_ADITIVO I-NUM_ADITIVO O O ...\n",
       "2091    B-NUM_ADITIVO I-NUM_ADITIVO I-NUM_ADITIVO O O ...\n",
       "2092    O O B-NUM_ADITIVO I-NUM_ADITIVO I-NUM_ADITIVO ...\n",
       "Name: IOB, Length: 2093, dtype: object"
      ]
     },
     "execution_count": 95,
     "metadata": {},
     "output_type": "execute_result"
    }
   ],
   "source": [
    "num_palavras_ent = [0]*num_entidades  # numero de palavras pra cada entidade\n",
    "\n",
    "# Falta calcular a quantidade total e média de palavras por entidade\n",
    "\n",
    "df.IOB"
   ]
  }
 ],
 "metadata": {
  "kernelspec": {
   "display_name": "Python 3.10.5 64-bit (windows store)",
   "language": "python",
   "name": "python3"
  },
  "language_info": {
   "codemirror_mode": {
    "name": "ipython",
    "version": 3
   },
   "file_extension": ".py",
   "mimetype": "text/x-python",
   "name": "python",
   "nbconvert_exporter": "python",
   "pygments_lexer": "ipython3",
   "version": "3.10.5"
  },
  "orig_nbformat": 4,
  "vscode": {
   "interpreter": {
    "hash": "a141e979f47d0321f552a3a7e629b4f252c2696d405db34dd45befa51abe3df3"
   }
  }
 },
 "nbformat": 4,
 "nbformat_minor": 2
}
