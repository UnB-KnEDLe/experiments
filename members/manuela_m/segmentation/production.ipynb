{
 "cells": [
  {
   "cell_type": "code",
   "execution_count": 27,
   "metadata": {},
   "outputs": [],
   "source": [
    "from gensim.models import KeyedVectors\n",
    "from torch.utils.data import DataLoader\n",
    "from dataset_structure import SegmentationDataset\n",
    "from model_structure import LstmCrf\n",
    "import torch\n",
    "from nltk.tokenize import sent_tokenize\n",
    "import unicodedata\n",
    "from aux_functions import *"
   ]
  },
  {
   "cell_type": "markdown",
   "metadata": {},
   "source": [
    "Tentativa de segmentar o DODF *data_path* usando o modelo de avisos de licitacao *model_path*"
   ]
  },
  {
   "cell_type": "code",
   "execution_count": null,
   "metadata": {},
   "outputs": [],
   "source": [
    "data_path = \"../dodf_txt/2019/03_Março/DODF 043 01-03-2019.txt\"\n",
    "model_path = \"../Models/seg_model_256_aviso_de_licitacao\""
   ]
  },
  {
   "cell_type": "code",
   "execution_count": 28,
   "metadata": {},
   "outputs": [],
   "source": [
    "#Lê o dodf, junta o texto em um parágrafo só e tokeniza em sentenças\n",
    "data = open(data_path, \"rt\").read()\n",
    "text = join_block(data)\n",
    "sents = sent_tokenize(text)"
   ]
  },
  {
   "cell_type": "code",
   "execution_count": 29,
   "metadata": {},
   "outputs": [
    {
     "data": {
      "text/plain": [
       "689030"
      ]
     },
     "execution_count": 29,
     "metadata": {},
     "output_type": "execute_result"
    }
   ],
   "source": [
    "#cria tags IOB para as sentenças e escreve o resultado em um arquivo\n",
    "# (isso é feito só pra poder usar as mesmas funções, as tags não são usadas)\n",
    "\n",
    "output = open(\"../Processed_datasets/production_test.iob\", \"w\")\n",
    "\n",
    "iob_sents = [\"O \" + x for x in sents]\n",
    "output.write(\"\\n\".join(iob_sents))\n"
   ]
  },
  {
   "cell_type": "code",
   "execution_count": 26,
   "metadata": {},
   "outputs": [],
   "source": [
    "#carrega o embedding pre treinado e os dicionários salvos durante o treinamento\n",
    "emb = KeyedVectors.load_word2vec_format(\"../Models/cbow_s50_2.txt\")\n",
    "word2idx = {}\n",
    "for j in emb.index_to_key:\n",
    "    word = (\n",
    "        unicodedata.normalize(\"NFKD\", j)\n",
    "        .encode(\"ascii\", \"ignore\")\n",
    "        .decode(\"utf8\")\n",
    "    )\n",
    "    word2idx[word] = emb.key_to_index[j]\n",
    "\n",
    "tag2idx = {\"B\": 0, \"I\": 1, \"O\": 2}\n",
    "idx2tag = {0: \"B\", 1: \"I\", 2: \"O\"}\n"
   ]
  },
  {
   "cell_type": "code",
   "execution_count": 30,
   "metadata": {},
   "outputs": [],
   "source": [
    "#carrega o dodf usando a classe SegmentationDataset, que processa o texto para a classificação\n",
    "ata = SegmentationDataset(\n",
    "    tag2idx=tag2idx,\n",
    "    word2idx=word2idx,\n",
    "    set_type=\"whole\",\n",
    "    path=\"../Processed_datasets/production_test.iob\",\n",
    ")\n",
    "\n",
    "data_loader = DataLoader(\n",
    "    dataset=data, batch_size=32, shuffle=False, num_workers=2, pin_memory=True\n",
    ")"
   ]
  },
  {
   "cell_type": "code",
   "execution_count": 31,
   "metadata": {},
   "outputs": [
    {
     "data": {
      "text/plain": [
       "<All keys matched successfully>"
      ]
     },
     "execution_count": 31,
     "metadata": {},
     "output_type": "execute_result"
    }
   ],
   "source": [
    "#carrega o modelo treinado usando o dicionário de estados salvo no treinamento\n",
    "\n",
    "model = LstmCrf(\n",
    "    embedding_dim=50,\n",
    "    num_tags=3,\n",
    "    hidden_dim=256,\n",
    "    pretrained_emb=emb,\n",
    "    idx2tag=idx2tag,\n",
    "    path=model_path,\n",
    ")\n",
    "model = model.to(model.device)\n",
    "\n",
    "model.load_state_dict(torch.load(model_path))"
   ]
  },
  {
   "cell_type": "code",
   "execution_count": 32,
   "metadata": {},
   "outputs": [
    {
     "name": "stderr",
     "output_type": "stream",
     "text": [
      "/home/munak98/.local/lib/python3.8/site-packages/torchcrf/__init__.py:305: UserWarning: where received a uint8 condition tensor. This behavior is deprecated and will be removed in a future version of PyTorch. Use a boolean condition instead. (Triggered internally at  ../aten/src/ATen/native/TensorCompare.cpp:328.)\n",
      "  score = torch.where(mask[i].unsqueeze(1), next_score, score)\n"
     ]
    }
   ],
   "source": [
    "#faz a predição\n",
    "x, mask, y = data.x, data.mask, data.y\n",
    "pred = model.predict(x.to(model.device), mask.to(model.device))"
   ]
  },
  {
   "cell_type": "code",
   "execution_count": null,
   "metadata": {},
   "outputs": [],
   "source": [
    "#seleciona os atos que foram identificados\n",
    "j = 0\n",
    "findings = []\n",
    "pred = [item for sublist in pred for item in sublist]\n",
    "text = [\" \".join(item) for sublist in data.truncated for item in sublist]\n",
    "\n",
    "while j < len(pred):\n",
    "    if idx2tag[pred[j]] == 'B':\n",
    "        new_finding = [text[j]]\n",
    "        j += 1\n",
    "        while idx2tag[pred[j]] == 'I':\n",
    "            new_finding.append(text[j])\n",
    "            j += 1\n",
    "        findings.append(\" \".join(new_finding))\n",
    "    else:\n",
    "        j += 1"
   ]
  },
  {
   "cell_type": "code",
   "execution_count": 33,
   "metadata": {},
   "outputs": [],
   "source": [
    "for act in findings:\n",
    "    print(act, \"\\n\")"
   ]
  }
 ],
 "metadata": {
  "interpreter": {
   "hash": "31f2aee4e71d21fbe5cf8b01ff0e069b9275f58929596ceb00d14d90e3e16cd6"
  },
  "kernelspec": {
   "display_name": "Python 3.8.10 64-bit",
   "language": "python",
   "name": "python3"
  },
  "language_info": {
   "codemirror_mode": {
    "name": "ipython",
    "version": 3
   },
   "file_extension": ".py",
   "mimetype": "text/x-python",
   "name": "python",
   "nbconvert_exporter": "python",
   "pygments_lexer": "ipython3",
   "version": "3.8.10"
  },
  "orig_nbformat": 4
 },
 "nbformat": 4,
 "nbformat_minor": 2
}
