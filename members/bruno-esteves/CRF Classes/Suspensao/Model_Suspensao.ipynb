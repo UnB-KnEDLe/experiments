{
  "nbformat": 4,
  "nbformat_minor": 0,
  "metadata": {
    "colab": {
      "provenance": []
    },
    "kernelspec": {
      "name": "python3",
      "display_name": "Python 3"
    },
    "language_info": {
      "name": "python"
    }
  },
  "cells": [
    {
      "cell_type": "code",
      "source": [
        "!pip install sklearn_crfsuite\n",
        "!pip install -U 'scikit-learn<0.24'\n",
        "!pip install nltk"
      ],
      "metadata": {
        "id": "4M6YZfgEjjXL"
      },
      "execution_count": null,
      "outputs": []
    },
    {
      "cell_type": "code",
      "source": [
        "import warnings\n",
        "warnings.filterwarnings('ignore')"
      ],
      "metadata": {
        "id": "taDzXxLsjmzK"
      },
      "execution_count": 2,
      "outputs": []
    },
    {
      "cell_type": "code",
      "source": [
        "import sklearn_crfsuite\n",
        "import pandas as pd\n",
        "import numpy as np\n",
        "import scipy.stats\n",
        "import sklearn\n",
        "import joblib\n",
        "import nltk\n",
        "\n",
        "from sklearn_crfsuite.metrics import flat_classification_report, flat_f1_score\n",
        "from sklearn.metrics import classification_report, make_scorer\n",
        "from sklearn.model_selection import RandomizedSearchCV\n",
        "from sklearn.model_selection import train_test_split\n",
        "from nltk.tokenize import word_tokenize\n",
        "from sklearn_crfsuite import scorers\n",
        "\n",
        "nltk.download('punkt')"
      ],
      "metadata": {
        "id": "VwdSqMfAXqrs",
        "colab": {
          "base_uri": "https://localhost:8080/"
        },
        "outputId": "297763d9-5247-4dcd-f569-d20be5e4735f"
      },
      "execution_count": 3,
      "outputs": [
        {
          "output_type": "stream",
          "name": "stderr",
          "text": [
            "[nltk_data] Downloading package punkt to /root/nltk_data...\n",
            "[nltk_data]   Unzipping tokenizers/punkt.zip.\n"
          ]
        },
        {
          "output_type": "execute_result",
          "data": {
            "text/plain": [
              "True"
            ]
          },
          "metadata": {},
          "execution_count": 3
        }
      ]
    },
    {
      "cell_type": "code",
      "execution_count": 4,
      "metadata": {
        "id": "r4uKtj8EUdEa"
      },
      "outputs": [],
      "source": [
        "class model_licitacao():\n",
        "  \n",
        "  def __init__(self):\n",
        "    self.crf = None\n",
        "    self.load('suspensao.pkl')\n",
        "    \n",
        "  def load(self, path):\n",
        "    self.crf = joblib.load(path)\n",
        "\n",
        "  def get_features(self, sentence):\n",
        "        \n",
        "        sent_features = []\n",
        "        for i in range(len(sentence)):\n",
        "            # print(sentence[i])\n",
        "            word_feat = {\n",
        "                # Palavra atual\n",
        "                'word': sentence[i].lower(),\n",
        "                'capital_letter': sentence[i][0].isupper(),\n",
        "                'all_capital': sentence[i].isupper(),\n",
        "                'isdigit': sentence[i].isdigit(),\n",
        "                # Uma palavra antes\n",
        "                'word_before': '' if i == 0 else sentence[i-1].lower(),\n",
        "                'word_before_isdigit': '' if i == 0 else sentence[i-1].isdigit(),\n",
        "                'word_before_isupper': '' if i == 0 else sentence[i-1].isupper(),\n",
        "                'word_before_istitle': '' if i == 0 else sentence[i-1].istitle(),\n",
        "                # Uma palavra depois\n",
        "                'word_after': '' if i+1 >= len(sentence) else sentence[i+1].lower(),\n",
        "                'word_after_isdigit': '' if i+1 >= len(sentence) else sentence[i+1].isdigit(),\n",
        "                'word_after_isupper': '' if i+1 >= len(sentence) else sentence[i+1].isupper(),\n",
        "                'word_after_istitle': '' if i+1 >= len(sentence) else sentence[i+1].istitle(),\n",
        "\n",
        "                'BOS': i == 0,\n",
        "                'EOS': i == len(sentence)-1\n",
        "            }\n",
        "            sent_features.append(word_feat)\n",
        "        return sent_features\n",
        "    \n",
        "\n",
        "  def pred(self, ato):\n",
        "    tokenized_ato = word_tokenize(ato)\n",
        "    features_ato = self.get_features(tokenized_ato)\n",
        "    prediction = self.crf.predict([features_ato])\n",
        "    \n",
        "    return prediction\n"
      ]
    },
    {
      "cell_type": "code",
      "source": [
        "model = model_licitacao()"
      ],
      "metadata": {
        "id": "GjABY_BpWXO_"
      },
      "execution_count": 5,
      "outputs": []
    },
    {
      "cell_type": "code",
      "source": [
        "model.pred(\"AVISO DE SUSPENSAO PREGAO ELETRONICO POR SRP No 459/2018 UASG UASG 926119 A Pregoeira da Central de Compras/SUAG, da Secretaria de Estado de Saude do Distrito Federal, comunica a suspensao da licitacao supracitada, por acatar a impugnacao apresentada. LARISSA ALVIM DE OLIVEIRA\")"
      ],
      "metadata": {
        "colab": {
          "base_uri": "https://localhost:8080/"
        },
        "id": "t9QXHYa3WXSI",
        "outputId": "e28ef207-a277-42dd-eba2-345924c1ffcd"
      },
      "execution_count": 6,
      "outputs": [
        {
          "output_type": "execute_result",
          "data": {
            "text/plain": [
              "[['O',\n",
              "  'O',\n",
              "  'O',\n",
              "  'B-MODALIDADE_LICITACAO',\n",
              "  'I-MODALIDADE_LICITACAO',\n",
              "  'O',\n",
              "  'O',\n",
              "  'O',\n",
              "  'B-NUM_LICITACAO',\n",
              "  'O',\n",
              "  'O',\n",
              "  'O',\n",
              "  'O',\n",
              "  'O',\n",
              "  'O',\n",
              "  'O',\n",
              "  'O',\n",
              "  'O',\n",
              "  'O',\n",
              "  'O',\n",
              "  'B-ORGAO_LICITANTE',\n",
              "  'I-ORGAO_LICITANTE',\n",
              "  'I-ORGAO_LICITANTE',\n",
              "  'I-ORGAO_LICITANTE',\n",
              "  'I-ORGAO_LICITANTE',\n",
              "  'I-ORGAO_LICITANTE',\n",
              "  'I-ORGAO_LICITANTE',\n",
              "  'I-ORGAO_LICITANTE',\n",
              "  'O',\n",
              "  'O',\n",
              "  'O',\n",
              "  'O',\n",
              "  'O',\n",
              "  'O',\n",
              "  'O',\n",
              "  'O',\n",
              "  'O',\n",
              "  'O',\n",
              "  'O',\n",
              "  'O',\n",
              "  'O',\n",
              "  'O',\n",
              "  'B-NOME_RESPONSAVEL',\n",
              "  'I-NOME_RESPONSAVEL',\n",
              "  'I-NOME_RESPONSAVEL',\n",
              "  'I-NOME_RESPONSAVEL']]"
            ]
          },
          "metadata": {},
          "execution_count": 6
        }
      ]
    }
  ]
}