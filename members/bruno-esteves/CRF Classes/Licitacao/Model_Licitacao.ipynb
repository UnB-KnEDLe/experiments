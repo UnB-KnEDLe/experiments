{
  "nbformat": 4,
  "nbformat_minor": 0,
  "metadata": {
    "colab": {
      "provenance": []
    },
    "kernelspec": {
      "name": "python3",
      "display_name": "Python 3"
    },
    "language_info": {
      "name": "python"
    }
  },
  "cells": [
    {
      "cell_type": "code",
      "source": [
        "!pip install sklearn_crfsuite\n",
        "!pip install -U 'scikit-learn<0.24'\n",
        "!pip install nltk"
      ],
      "metadata": {
        "id": "4M6YZfgEjjXL",
        "colab": {
          "base_uri": "https://localhost:8080/"
        },
        "outputId": "354722f6-3db6-4052-b170-e2e45e4f9258"
      },
      "execution_count": 1,
      "outputs": [
        {
          "output_type": "stream",
          "name": "stdout",
          "text": [
            "Looking in indexes: https://pypi.org/simple, https://us-python.pkg.dev/colab-wheels/public/simple/\n",
            "Collecting sklearn_crfsuite\n",
            "  Downloading sklearn_crfsuite-0.3.6-py2.py3-none-any.whl (12 kB)\n",
            "Collecting python-crfsuite>=0.8.3\n",
            "  Downloading python_crfsuite-0.9.8-cp37-cp37m-manylinux_2_17_x86_64.manylinux2014_x86_64.whl (965 kB)\n",
            "\u001b[K     |████████████████████████████████| 965 kB 2.1 MB/s \n",
            "\u001b[?25hRequirement already satisfied: tqdm>=2.0 in /usr/local/lib/python3.7/dist-packages (from sklearn_crfsuite) (4.64.1)\n",
            "Requirement already satisfied: six in /usr/local/lib/python3.7/dist-packages (from sklearn_crfsuite) (1.15.0)\n",
            "Requirement already satisfied: tabulate in /usr/local/lib/python3.7/dist-packages (from sklearn_crfsuite) (0.8.10)\n",
            "Installing collected packages: python-crfsuite, sklearn-crfsuite\n",
            "Successfully installed python-crfsuite-0.9.8 sklearn-crfsuite-0.3.6\n",
            "Looking in indexes: https://pypi.org/simple, https://us-python.pkg.dev/colab-wheels/public/simple/\n",
            "Collecting scikit-learn<0.24\n",
            "  Downloading scikit_learn-0.23.2-cp37-cp37m-manylinux1_x86_64.whl (6.8 MB)\n",
            "\u001b[K     |████████████████████████████████| 6.8 MB 2.1 MB/s \n",
            "\u001b[?25hRequirement already satisfied: scipy>=0.19.1 in /usr/local/lib/python3.7/dist-packages (from scikit-learn<0.24) (1.7.3)\n",
            "Requirement already satisfied: numpy>=1.13.3 in /usr/local/lib/python3.7/dist-packages (from scikit-learn<0.24) (1.21.6)\n",
            "Requirement already satisfied: joblib>=0.11 in /usr/local/lib/python3.7/dist-packages (from scikit-learn<0.24) (1.1.0)\n",
            "Requirement already satisfied: threadpoolctl>=2.0.0 in /usr/local/lib/python3.7/dist-packages (from scikit-learn<0.24) (3.1.0)\n",
            "Installing collected packages: scikit-learn\n",
            "  Attempting uninstall: scikit-learn\n",
            "    Found existing installation: scikit-learn 1.0.2\n",
            "    Uninstalling scikit-learn-1.0.2:\n",
            "      Successfully uninstalled scikit-learn-1.0.2\n",
            "\u001b[31mERROR: pip's dependency resolver does not currently take into account all the packages that are installed. This behaviour is the source of the following dependency conflicts.\n",
            "yellowbrick 1.5 requires scikit-learn>=1.0.0, but you have scikit-learn 0.23.2 which is incompatible.\n",
            "imbalanced-learn 0.8.1 requires scikit-learn>=0.24, but you have scikit-learn 0.23.2 which is incompatible.\u001b[0m\n",
            "Successfully installed scikit-learn-0.23.2\n",
            "Looking in indexes: https://pypi.org/simple, https://us-python.pkg.dev/colab-wheels/public/simple/\n",
            "Requirement already satisfied: nltk in /usr/local/lib/python3.7/dist-packages (3.7)\n",
            "Requirement already satisfied: joblib in /usr/local/lib/python3.7/dist-packages (from nltk) (1.1.0)\n",
            "Requirement already satisfied: click in /usr/local/lib/python3.7/dist-packages (from nltk) (7.1.2)\n",
            "Requirement already satisfied: tqdm in /usr/local/lib/python3.7/dist-packages (from nltk) (4.64.1)\n",
            "Requirement already satisfied: regex>=2021.8.3 in /usr/local/lib/python3.7/dist-packages (from nltk) (2022.6.2)\n"
          ]
        }
      ]
    },
    {
      "cell_type": "code",
      "source": [
        "import warnings\n",
        "warnings.filterwarnings('ignore')"
      ],
      "metadata": {
        "id": "taDzXxLsjmzK"
      },
      "execution_count": 2,
      "outputs": []
    },
    {
      "cell_type": "code",
      "source": [
        "import sklearn_crfsuite\n",
        "import pandas as pd\n",
        "import numpy as np\n",
        "import scipy.stats\n",
        "import sklearn\n",
        "import joblib\n",
        "import nltk\n",
        "\n",
        "from sklearn_crfsuite.metrics import flat_classification_report, flat_f1_score\n",
        "from sklearn.metrics import classification_report, make_scorer\n",
        "from sklearn.model_selection import RandomizedSearchCV\n",
        "from sklearn.model_selection import train_test_split\n",
        "from nltk.tokenize import word_tokenize\n",
        "from sklearn_crfsuite import scorers\n",
        "\n",
        "nltk.download('punkt')"
      ],
      "metadata": {
        "id": "VwdSqMfAXqrs",
        "colab": {
          "base_uri": "https://localhost:8080/"
        },
        "outputId": "2e88a21a-a492-411c-f495-488bb7fdff06"
      },
      "execution_count": 3,
      "outputs": [
        {
          "output_type": "stream",
          "name": "stderr",
          "text": [
            "[nltk_data] Downloading package punkt to /root/nltk_data...\n",
            "[nltk_data]   Unzipping tokenizers/punkt.zip.\n"
          ]
        },
        {
          "output_type": "execute_result",
          "data": {
            "text/plain": [
              "True"
            ]
          },
          "metadata": {},
          "execution_count": 3
        }
      ]
    },
    {
      "cell_type": "code",
      "execution_count": 4,
      "metadata": {
        "id": "r4uKtj8EUdEa"
      },
      "outputs": [],
      "source": [
        "class model_licitacao():\n",
        "  \n",
        "  def __init__(self):\n",
        "    self.crf = None\n",
        "    self.load('licitacao.pkl')\n",
        "    \n",
        "  def load(self, path):\n",
        "    self.crf = joblib.load(path)\n",
        "\n",
        "  def get_features(self, sentence):\n",
        "        \n",
        "        sent_features = []\n",
        "        for i in range(len(sentence)):\n",
        "            # print(sentence[i])\n",
        "            word_feat = {\n",
        "                # Palavra atual\n",
        "                'word': sentence[i].lower(),\n",
        "                'capital_letter': sentence[i][0].isupper(),\n",
        "                'all_capital': sentence[i].isupper(),\n",
        "                'isdigit': sentence[i].isdigit(),\n",
        "                # Uma palavra antes\n",
        "                'word_before': '' if i == 0 else sentence[i-1].lower(),\n",
        "                'word_before_isdigit': '' if i == 0 else sentence[i-1].isdigit(),\n",
        "                'word_before_isupper': '' if i == 0 else sentence[i-1].isupper(),\n",
        "                'word_before_istitle': '' if i == 0 else sentence[i-1].istitle(),\n",
        "                # Uma palavra depois\n",
        "                'word_after': '' if i+1 >= len(sentence) else sentence[i+1].lower(),\n",
        "                'word_after_isdigit': '' if i+1 >= len(sentence) else sentence[i+1].isdigit(),\n",
        "                'word_after_isupper': '' if i+1 >= len(sentence) else sentence[i+1].isupper(),\n",
        "                'word_after_istitle': '' if i+1 >= len(sentence) else sentence[i+1].istitle(),\n",
        "\n",
        "                'BOS': i == 0,\n",
        "                'EOS': i == len(sentence)-1\n",
        "            }\n",
        "            sent_features.append(word_feat)\n",
        "        return sent_features\n",
        "    \n",
        "\n",
        "  def pred(self, ato):\n",
        "    tokenized_ato = word_tokenize(ato)\n",
        "    features_ato = self.get_features(tokenized_ato)\n",
        "    prediction = self.crf.predict([features_ato])\n",
        "    \n",
        "    return prediction\n"
      ]
    },
    {
      "cell_type": "code",
      "source": [
        "model = model_licitacao()"
      ],
      "metadata": {
        "id": "GjABY_BpWXO_"
      },
      "execution_count": 5,
      "outputs": []
    },
    {
      "cell_type": "code",
      "source": [
        "model.pred(\"AVISOS DE LICITACOES PREGAO ELETRONICO No 116/2018 OBJETO: Registro de Precos visando a eventual aquisicao de Material de Expediente; Material de Acondicionamento e Embalagem; Material de Limpeza e Producao de Higienizacao; Material de Protecao e Seguranca; Ferramenta; Uniformes, Tecidos e Aviamentos; e aquisicao de equipamentos e material permanente: Aparelho de Medicao e Orientacao, a fim de atender aos diversos orgaos integrantes da centralizacao de compras do Distrito Federal, conforme especificacoes e condicoes constantes no Termo de Referencia Anexo Anexo I do Edital. Valor total estimado: R$ 767.907,37. Tipo de licitacao: Menor preco. Elemento de despesa: 33.90.30. Prazo de vigencia da Ata de Registro de Precos: 12 (doze) meses. Abertura das propostas dia 20/11/2018, as 9h30min. Processo (SEI) n 00410-00024534/2017-65. O edital podera ser retirado no endereco eletronico www.compras.df.gov.br. Informacoes pelo telefone: (61) 3313.8497. Brasilia/DF, 1o de novembro de 2018 GERARDA DA SILVA CARVALHO Pregoeira\")"
      ],
      "metadata": {
        "colab": {
          "base_uri": "https://localhost:8080/"
        },
        "id": "t9QXHYa3WXSI",
        "outputId": "e71832a9-443e-45bf-edf1-0e22dec48613"
      },
      "execution_count": 6,
      "outputs": [
        {
          "output_type": "execute_result",
          "data": {
            "text/plain": [
              "[['O',\n",
              "  'O',\n",
              "  'O',\n",
              "  'B-MODALIDADE_LICITACAO',\n",
              "  'I-MODALIDADE_LICITACAO',\n",
              "  'O',\n",
              "  'B-NUM_LICITACAO',\n",
              "  'O',\n",
              "  'O',\n",
              "  'B-OBJ_LICITACAO',\n",
              "  'I-OBJ_LICITACAO',\n",
              "  'I-OBJ_LICITACAO',\n",
              "  'I-OBJ_LICITACAO',\n",
              "  'I-OBJ_LICITACAO',\n",
              "  'I-OBJ_LICITACAO',\n",
              "  'I-OBJ_LICITACAO',\n",
              "  'I-OBJ_LICITACAO',\n",
              "  'I-OBJ_LICITACAO',\n",
              "  'I-OBJ_LICITACAO',\n",
              "  'I-OBJ_LICITACAO',\n",
              "  'I-OBJ_LICITACAO',\n",
              "  'I-OBJ_LICITACAO',\n",
              "  'I-OBJ_LICITACAO',\n",
              "  'I-OBJ_LICITACAO',\n",
              "  'I-OBJ_LICITACAO',\n",
              "  'I-OBJ_LICITACAO',\n",
              "  'I-OBJ_LICITACAO',\n",
              "  'I-OBJ_LICITACAO',\n",
              "  'I-OBJ_LICITACAO',\n",
              "  'I-OBJ_LICITACAO',\n",
              "  'I-OBJ_LICITACAO',\n",
              "  'I-OBJ_LICITACAO',\n",
              "  'I-OBJ_LICITACAO',\n",
              "  'I-OBJ_LICITACAO',\n",
              "  'I-OBJ_LICITACAO',\n",
              "  'I-OBJ_LICITACAO',\n",
              "  'I-OBJ_LICITACAO',\n",
              "  'I-OBJ_LICITACAO',\n",
              "  'I-OBJ_LICITACAO',\n",
              "  'I-OBJ_LICITACAO',\n",
              "  'I-OBJ_LICITACAO',\n",
              "  'I-OBJ_LICITACAO',\n",
              "  'I-OBJ_LICITACAO',\n",
              "  'I-OBJ_LICITACAO',\n",
              "  'I-OBJ_LICITACAO',\n",
              "  'I-OBJ_LICITACAO',\n",
              "  'I-OBJ_LICITACAO',\n",
              "  'I-OBJ_LICITACAO',\n",
              "  'I-OBJ_LICITACAO',\n",
              "  'I-OBJ_LICITACAO',\n",
              "  'I-OBJ_LICITACAO',\n",
              "  'I-OBJ_LICITACAO',\n",
              "  'I-OBJ_LICITACAO',\n",
              "  'I-OBJ_LICITACAO',\n",
              "  'I-OBJ_LICITACAO',\n",
              "  'I-OBJ_LICITACAO',\n",
              "  'I-OBJ_LICITACAO',\n",
              "  'I-OBJ_LICITACAO',\n",
              "  'I-OBJ_LICITACAO',\n",
              "  'I-OBJ_LICITACAO',\n",
              "  'I-OBJ_LICITACAO',\n",
              "  'I-OBJ_LICITACAO',\n",
              "  'I-OBJ_LICITACAO',\n",
              "  'I-OBJ_LICITACAO',\n",
              "  'I-OBJ_LICITACAO',\n",
              "  'I-OBJ_LICITACAO',\n",
              "  'I-OBJ_LICITACAO',\n",
              "  'I-OBJ_LICITACAO',\n",
              "  'I-OBJ_LICITACAO',\n",
              "  'I-OBJ_LICITACAO',\n",
              "  'I-OBJ_LICITACAO',\n",
              "  'I-OBJ_LICITACAO',\n",
              "  'I-OBJ_LICITACAO',\n",
              "  'I-OBJ_LICITACAO',\n",
              "  'I-OBJ_LICITACAO',\n",
              "  'I-OBJ_LICITACAO',\n",
              "  'I-OBJ_LICITACAO',\n",
              "  'I-OBJ_LICITACAO',\n",
              "  'I-OBJ_LICITACAO',\n",
              "  'I-OBJ_LICITACAO',\n",
              "  'I-OBJ_LICITACAO',\n",
              "  'I-OBJ_LICITACAO',\n",
              "  'I-OBJ_LICITACAO',\n",
              "  'I-OBJ_LICITACAO',\n",
              "  'I-OBJ_LICITACAO',\n",
              "  'I-OBJ_LICITACAO',\n",
              "  'I-OBJ_LICITACAO',\n",
              "  'I-OBJ_LICITACAO',\n",
              "  'I-OBJ_LICITACAO',\n",
              "  'I-OBJ_LICITACAO',\n",
              "  'I-OBJ_LICITACAO',\n",
              "  'I-OBJ_LICITACAO',\n",
              "  'I-OBJ_LICITACAO',\n",
              "  'O',\n",
              "  'O',\n",
              "  'O',\n",
              "  'O',\n",
              "  'O',\n",
              "  'O',\n",
              "  'O',\n",
              "  'B-VALOR_ESTIMADO',\n",
              "  'O',\n",
              "  'O',\n",
              "  'O',\n",
              "  'O',\n",
              "  'O',\n",
              "  'O',\n",
              "  'O',\n",
              "  'O',\n",
              "  'O',\n",
              "  'O',\n",
              "  'O',\n",
              "  'O',\n",
              "  'O',\n",
              "  'O',\n",
              "  'O',\n",
              "  'O',\n",
              "  'O',\n",
              "  'O',\n",
              "  'O',\n",
              "  'O',\n",
              "  'O',\n",
              "  'O',\n",
              "  'O',\n",
              "  'O',\n",
              "  'O',\n",
              "  'O',\n",
              "  'O',\n",
              "  'O',\n",
              "  'O',\n",
              "  'O',\n",
              "  'O',\n",
              "  'O',\n",
              "  'O',\n",
              "  'O',\n",
              "  'B-DATA_ABERTURA',\n",
              "  'O',\n",
              "  'O',\n",
              "  'O',\n",
              "  'O',\n",
              "  'O',\n",
              "  'O',\n",
              "  'O',\n",
              "  'O',\n",
              "  'O',\n",
              "  'B-PROCESSO',\n",
              "  'O',\n",
              "  'O',\n",
              "  'O',\n",
              "  'O',\n",
              "  'O',\n",
              "  'O',\n",
              "  'O',\n",
              "  'O',\n",
              "  'O',\n",
              "  'O',\n",
              "  'O',\n",
              "  'O',\n",
              "  'O',\n",
              "  'O',\n",
              "  'O',\n",
              "  'O',\n",
              "  'O',\n",
              "  'O',\n",
              "  'O',\n",
              "  'O',\n",
              "  'O',\n",
              "  'O',\n",
              "  'O',\n",
              "  'O',\n",
              "  'O',\n",
              "  'O',\n",
              "  'O',\n",
              "  'B-NOME_RESPONSAVEL',\n",
              "  'I-NOME_RESPONSAVEL',\n",
              "  'I-NOME_RESPONSAVEL',\n",
              "  'I-NOME_RESPONSAVEL',\n",
              "  'O']]"
            ]
          },
          "metadata": {},
          "execution_count": 6
        }
      ]
    }
  ]
}