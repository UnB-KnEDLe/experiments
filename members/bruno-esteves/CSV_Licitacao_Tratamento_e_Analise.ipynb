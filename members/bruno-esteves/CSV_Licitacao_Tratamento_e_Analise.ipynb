{
  "nbformat": 4,
  "nbformat_minor": 0,
  "metadata": {
    "colab": {
      "name": "CSV_Licitacao_Tratamento.ipynb",
      "provenance": []
    },
    "kernelspec": {
      "name": "python3",
      "display_name": "Python 3"
    },
    "language_info": {
      "name": "python"
    }
  },
  "cells": [
    {
      "cell_type": "markdown",
      "source": [
        "***Para acessar o arquivo CSV pelo notebook***"
      ],
      "metadata": {
        "id": "16bIRPSFJtTb"
      }
    },
    {
      "cell_type": "code",
      "source": [
        "import os"
      ],
      "metadata": {
        "id": "bSKlaq49JVvj"
      },
      "execution_count": 1,
      "outputs": []
    },
    {
      "cell_type": "code",
      "execution_count": 2,
      "metadata": {
        "colab": {
          "base_uri": "https://localhost:8080/"
        },
        "id": "103xz2lsIXfY",
        "outputId": "9e6fef0a-cdcb-421a-c32d-71d51e4d8872"
      },
      "outputs": [
        {
          "output_type": "stream",
          "name": "stdout",
          "text": [
            "Mounted at /content/drive\n"
          ]
        }
      ],
      "source": [
        "from google.colab import drive\n",
        "drive.mount('/content/drive')"
      ]
    },
    {
      "cell_type": "code",
      "source": [
        "!cp -r '/content/drive/MyDrive/CSV_Licitacao/' 'CSV'"
      ],
      "metadata": {
        "id": "K-HdLsI5Iiw-"
      },
      "execution_count": 3,
      "outputs": []
    },
    {
      "cell_type": "code",
      "source": [
        "path_CSV = 'CSV/licitacao.csv'"
      ],
      "metadata": {
        "id": "5qaAkWuGIr-W"
      },
      "execution_count": 4,
      "outputs": []
    },
    {
      "cell_type": "code",
      "source": [
        "import pandas as pd"
      ],
      "metadata": {
        "id": "IE9MrzMKpZjC"
      },
      "execution_count": 5,
      "outputs": []
    },
    {
      "cell_type": "code",
      "source": [
        "CSV_df = pd.read_csv(path_CSV)"
      ],
      "metadata": {
        "id": "dLOzUklnpbTx"
      },
      "execution_count": 6,
      "outputs": []
    },
    {
      "cell_type": "code",
      "source": [
        "CSV_df.head(3)"
      ],
      "metadata": {
        "colab": {
          "base_uri": "https://localhost:8080/",
          "height": 416
        },
        "id": "si49j-29pniW",
        "outputId": "ca7dd612-0633-4799-e7b0-d9a6e0c2cbd3"
      },
      "execution_count": 7,
      "outputs": [
        {
          "output_type": "execute_result",
          "data": {
            "text/plain": [
              "                                   arquivo_rast              ato  \\\n",
              "0  0_aviso_de_licitacao_DODF_010_15-01-2021.txt  AVISO_LICITACAO   \n",
              "1  0_aviso_de_licitacao_DODF_093_20-05-2019.txt  AVISO_LICITACAO   \n",
              "2  2_aviso_de_licitacao_DODF_010_15-01-2021.txt  AVISO_LICITACAO   \n",
              "\n",
              "                  dodf                                       treated_text  \\\n",
              "0  DODF_010_15-01-2021  AVISO DE LICITAÇÃO PREGÃO ELETRÔNICO Nº 01/202...   \n",
              "1  DODF_093_20-05-2019  AVISO DE LICITAÇÃO PREGÃO ELETRÔNICO Nº 50/201...   \n",
              "2  DODF_010_15-01-2021  PREGÃO ELETRÔNICO Nº 14/2021 Processo: 092.041...   \n",
              "\n",
              "                 PROCESSO ORGAO_LICITANTE NUM_LICITACAO  \\\n",
              "0  00052-00021170/2020-47             NaN       01/2021   \n",
              "1       0052.0001119/2017             NaN       50/2018   \n",
              "2         092.041904/2020             NaN       14/2021   \n",
              "\n",
              "                                       OBJ_LICITACAO MODALIDADE_LICITACAO  \\\n",
              "0  Contratação de Concessionária Autorizada pela ...    PREGÃO ELETRÔNICO   \n",
              "1  Contratação de empresa especializada para forn...    PREGÃO ELETRÔNICO   \n",
              "2  Aquisição de lubrificantes (graxa, lubrificant...    PREGÃO ELETRÔNICO   \n",
              "\n",
              "  DATA_ABERTURA                              TIPO_OBJ VALOR_ESTIMADO  \\\n",
              "0           NaN                 prestação de serviços  R$ 826.897,20   \n",
              "1           NaN  fornecimento de licenças de software   8.568.972,28   \n",
              "2    01/02/2021                             Aquisição            NaN   \n",
              "\n",
              "  CODIGO_SISTEMA_COMPRAS        SISTEMA_COMPRAS NOME_RESPONSAVEL  \\\n",
              "0                 926015  www.comprasnet.gov.br              NaN   \n",
              "1                 926015  www.comprasnet.gov.br              NaN   \n",
              "2                 974200  www.comprasnet.gov.br              NaN   \n",
              "\n",
              "                                                 IOB  \n",
              "0  O O O B-MODALIDADE_LICITACAO I-MODALIDADE_LICI...  \n",
              "1  O O O B-MODALIDADE_LICITACAO I-MODALIDADE_LICI...  \n",
              "2  B-MODALIDADE_LICITACAO I-MODALIDADE_LICITACAO ...  "
            ],
            "text/html": [
              "\n",
              "  <div id=\"df-6697ba9f-0b9f-4a9c-8ec1-aa58245a53ca\">\n",
              "    <div class=\"colab-df-container\">\n",
              "      <div>\n",
              "<style scoped>\n",
              "    .dataframe tbody tr th:only-of-type {\n",
              "        vertical-align: middle;\n",
              "    }\n",
              "\n",
              "    .dataframe tbody tr th {\n",
              "        vertical-align: top;\n",
              "    }\n",
              "\n",
              "    .dataframe thead th {\n",
              "        text-align: right;\n",
              "    }\n",
              "</style>\n",
              "<table border=\"1\" class=\"dataframe\">\n",
              "  <thead>\n",
              "    <tr style=\"text-align: right;\">\n",
              "      <th></th>\n",
              "      <th>arquivo_rast</th>\n",
              "      <th>ato</th>\n",
              "      <th>dodf</th>\n",
              "      <th>treated_text</th>\n",
              "      <th>PROCESSO</th>\n",
              "      <th>ORGAO_LICITANTE</th>\n",
              "      <th>NUM_LICITACAO</th>\n",
              "      <th>OBJ_LICITACAO</th>\n",
              "      <th>MODALIDADE_LICITACAO</th>\n",
              "      <th>DATA_ABERTURA</th>\n",
              "      <th>TIPO_OBJ</th>\n",
              "      <th>VALOR_ESTIMADO</th>\n",
              "      <th>CODIGO_SISTEMA_COMPRAS</th>\n",
              "      <th>SISTEMA_COMPRAS</th>\n",
              "      <th>NOME_RESPONSAVEL</th>\n",
              "      <th>IOB</th>\n",
              "    </tr>\n",
              "  </thead>\n",
              "  <tbody>\n",
              "    <tr>\n",
              "      <th>0</th>\n",
              "      <td>0_aviso_de_licitacao_DODF_010_15-01-2021.txt</td>\n",
              "      <td>AVISO_LICITACAO</td>\n",
              "      <td>DODF_010_15-01-2021</td>\n",
              "      <td>AVISO DE LICITAÇÃO PREGÃO ELETRÔNICO Nº 01/202...</td>\n",
              "      <td>00052-00021170/2020-47</td>\n",
              "      <td>NaN</td>\n",
              "      <td>01/2021</td>\n",
              "      <td>Contratação de Concessionária Autorizada pela ...</td>\n",
              "      <td>PREGÃO ELETRÔNICO</td>\n",
              "      <td>NaN</td>\n",
              "      <td>prestação de serviços</td>\n",
              "      <td>R$ 826.897,20</td>\n",
              "      <td>926015</td>\n",
              "      <td>www.comprasnet.gov.br</td>\n",
              "      <td>NaN</td>\n",
              "      <td>O O O B-MODALIDADE_LICITACAO I-MODALIDADE_LICI...</td>\n",
              "    </tr>\n",
              "    <tr>\n",
              "      <th>1</th>\n",
              "      <td>0_aviso_de_licitacao_DODF_093_20-05-2019.txt</td>\n",
              "      <td>AVISO_LICITACAO</td>\n",
              "      <td>DODF_093_20-05-2019</td>\n",
              "      <td>AVISO DE LICITAÇÃO PREGÃO ELETRÔNICO Nº 50/201...</td>\n",
              "      <td>0052.0001119/2017</td>\n",
              "      <td>NaN</td>\n",
              "      <td>50/2018</td>\n",
              "      <td>Contratação de empresa especializada para forn...</td>\n",
              "      <td>PREGÃO ELETRÔNICO</td>\n",
              "      <td>NaN</td>\n",
              "      <td>fornecimento de licenças de software</td>\n",
              "      <td>8.568.972,28</td>\n",
              "      <td>926015</td>\n",
              "      <td>www.comprasnet.gov.br</td>\n",
              "      <td>NaN</td>\n",
              "      <td>O O O B-MODALIDADE_LICITACAO I-MODALIDADE_LICI...</td>\n",
              "    </tr>\n",
              "    <tr>\n",
              "      <th>2</th>\n",
              "      <td>2_aviso_de_licitacao_DODF_010_15-01-2021.txt</td>\n",
              "      <td>AVISO_LICITACAO</td>\n",
              "      <td>DODF_010_15-01-2021</td>\n",
              "      <td>PREGÃO ELETRÔNICO Nº 14/2021 Processo: 092.041...</td>\n",
              "      <td>092.041904/2020</td>\n",
              "      <td>NaN</td>\n",
              "      <td>14/2021</td>\n",
              "      <td>Aquisição de lubrificantes (graxa, lubrificant...</td>\n",
              "      <td>PREGÃO ELETRÔNICO</td>\n",
              "      <td>01/02/2021</td>\n",
              "      <td>Aquisição</td>\n",
              "      <td>NaN</td>\n",
              "      <td>974200</td>\n",
              "      <td>www.comprasnet.gov.br</td>\n",
              "      <td>NaN</td>\n",
              "      <td>B-MODALIDADE_LICITACAO I-MODALIDADE_LICITACAO ...</td>\n",
              "    </tr>\n",
              "  </tbody>\n",
              "</table>\n",
              "</div>\n",
              "      <button class=\"colab-df-convert\" onclick=\"convertToInteractive('df-6697ba9f-0b9f-4a9c-8ec1-aa58245a53ca')\"\n",
              "              title=\"Convert this dataframe to an interactive table.\"\n",
              "              style=\"display:none;\">\n",
              "        \n",
              "  <svg xmlns=\"http://www.w3.org/2000/svg\" height=\"24px\"viewBox=\"0 0 24 24\"\n",
              "       width=\"24px\">\n",
              "    <path d=\"M0 0h24v24H0V0z\" fill=\"none\"/>\n",
              "    <path d=\"M18.56 5.44l.94 2.06.94-2.06 2.06-.94-2.06-.94-.94-2.06-.94 2.06-2.06.94zm-11 1L8.5 8.5l.94-2.06 2.06-.94-2.06-.94L8.5 2.5l-.94 2.06-2.06.94zm10 10l.94 2.06.94-2.06 2.06-.94-2.06-.94-.94-2.06-.94 2.06-2.06.94z\"/><path d=\"M17.41 7.96l-1.37-1.37c-.4-.4-.92-.59-1.43-.59-.52 0-1.04.2-1.43.59L10.3 9.45l-7.72 7.72c-.78.78-.78 2.05 0 2.83L4 21.41c.39.39.9.59 1.41.59.51 0 1.02-.2 1.41-.59l7.78-7.78 2.81-2.81c.8-.78.8-2.07 0-2.86zM5.41 20L4 18.59l7.72-7.72 1.47 1.35L5.41 20z\"/>\n",
              "  </svg>\n",
              "      </button>\n",
              "      \n",
              "  <style>\n",
              "    .colab-df-container {\n",
              "      display:flex;\n",
              "      flex-wrap:wrap;\n",
              "      gap: 12px;\n",
              "    }\n",
              "\n",
              "    .colab-df-convert {\n",
              "      background-color: #E8F0FE;\n",
              "      border: none;\n",
              "      border-radius: 50%;\n",
              "      cursor: pointer;\n",
              "      display: none;\n",
              "      fill: #1967D2;\n",
              "      height: 32px;\n",
              "      padding: 0 0 0 0;\n",
              "      width: 32px;\n",
              "    }\n",
              "\n",
              "    .colab-df-convert:hover {\n",
              "      background-color: #E2EBFA;\n",
              "      box-shadow: 0px 1px 2px rgba(60, 64, 67, 0.3), 0px 1px 3px 1px rgba(60, 64, 67, 0.15);\n",
              "      fill: #174EA6;\n",
              "    }\n",
              "\n",
              "    [theme=dark] .colab-df-convert {\n",
              "      background-color: #3B4455;\n",
              "      fill: #D2E3FC;\n",
              "    }\n",
              "\n",
              "    [theme=dark] .colab-df-convert:hover {\n",
              "      background-color: #434B5C;\n",
              "      box-shadow: 0px 1px 3px 1px rgba(0, 0, 0, 0.15);\n",
              "      filter: drop-shadow(0px 1px 2px rgba(0, 0, 0, 0.3));\n",
              "      fill: #FFFFFF;\n",
              "    }\n",
              "  </style>\n",
              "\n",
              "      <script>\n",
              "        const buttonEl =\n",
              "          document.querySelector('#df-6697ba9f-0b9f-4a9c-8ec1-aa58245a53ca button.colab-df-convert');\n",
              "        buttonEl.style.display =\n",
              "          google.colab.kernel.accessAllowed ? 'block' : 'none';\n",
              "\n",
              "        async function convertToInteractive(key) {\n",
              "          const element = document.querySelector('#df-6697ba9f-0b9f-4a9c-8ec1-aa58245a53ca');\n",
              "          const dataTable =\n",
              "            await google.colab.kernel.invokeFunction('convertToInteractive',\n",
              "                                                     [key], {});\n",
              "          if (!dataTable) return;\n",
              "\n",
              "          const docLinkHtml = 'Like what you see? Visit the ' +\n",
              "            '<a target=\"_blank\" href=https://colab.research.google.com/notebooks/data_table.ipynb>data table notebook</a>'\n",
              "            + ' to learn more about interactive tables.';\n",
              "          element.innerHTML = '';\n",
              "          dataTable['output_type'] = 'display_data';\n",
              "          await google.colab.output.renderOutput(dataTable, element);\n",
              "          const docLink = document.createElement('div');\n",
              "          docLink.innerHTML = docLinkHtml;\n",
              "          element.appendChild(docLink);\n",
              "        }\n",
              "      </script>\n",
              "    </div>\n",
              "  </div>\n",
              "  "
            ]
          },
          "metadata": {},
          "execution_count": 7
        }
      ]
    },
    {
      "cell_type": "markdown",
      "source": [
        "***O que é IOB?***\n",
        "\n",
        "\n",
        "**IOB - Inside/Outside/Beginning**\n",
        "\n",
        "*   **É similar às tags de part-of-speech mas podem além de denotar somente um Pronome, um Verbo ou Adjetivo, também denotar o começo, meio e fim de uma \"*noun phrase*\" ou sentença**\n",
        "\n",
        "*   **Na frase \"*AVISO DE LICITAÇÃO PREGÃO ELETRÔNICO Nº 01/2021 *\" temos o equivalente em IOB a \"*O O O B-MODALIDADE_LICITACAO I-MODALIDADE_LICITACAO O B-NUM_LICITACAO*\"**\n",
        "\n",
        "*   **PREGAO ELETRONICO é a modalidade sendo \"PREGAO\" o início da tag de modalidade (B-MODALIDADE_LICITACAO ou beginning de MODALIDADE_LICITACAO) e \"ELETRONICO\" uma parte de dentro na modalidade, dentro da tag  (I-MODALIDADE_LICITACAO ou inside de MODALIDADE_LICITACAO)**\n",
        "\n"
      ],
      "metadata": {
        "id": "5OmqRlJjqXqG"
      }
    },
    {
      "cell_type": "code",
      "source": [
        "IOB_dict = {}\n",
        "IOB_dict['texto'] = []\n",
        "IOB_dict['IOB'] = []\n",
        "\n",
        "for i, row in enumerate(CSV_df['treated_text']):\n",
        "  IOB_dict['texto'].append(CSV_df['treated_text'][i])\n",
        "  IOB_dict['IOB'].append(CSV_df['IOB'][i])"
      ],
      "metadata": {
        "id": "5IgDk92Drfpb"
      },
      "execution_count": 8,
      "outputs": []
    },
    {
      "cell_type": "code",
      "source": [
        "IOB_df = pd.DataFrame(IOB_dict)"
      ],
      "metadata": {
        "id": "BHmVS6-ltbDE"
      },
      "execution_count": 9,
      "outputs": []
    },
    {
      "cell_type": "code",
      "source": [
        "IOB_df.head(3)"
      ],
      "metadata": {
        "colab": {
          "base_uri": "https://localhost:8080/",
          "height": 766
        },
        "id": "ZkeX5oELtgS9",
        "outputId": "b3cab51c-c622-4ca6-ce88-24ae308a6f83"
      },
      "execution_count": 10,
      "outputs": [
        {
          "output_type": "execute_result",
          "data": {
            "text/plain": [
              "                                               texto  \\\n",
              "0  AVISO DE LICITAÇÃO PREGÃO ELETRÔNICO Nº 01/202...   \n",
              "1  AVISO DE LICITAÇÃO PREGÃO ELETRÔNICO Nº 50/201...   \n",
              "2  PREGÃO ELETRÔNICO Nº 14/2021 Processo: 092.041...   \n",
              "\n",
              "                                                 IOB  \n",
              "0  O O O B-MODALIDADE_LICITACAO I-MODALIDADE_LICI...  \n",
              "1  O O O B-MODALIDADE_LICITACAO I-MODALIDADE_LICI...  \n",
              "2  B-MODALIDADE_LICITACAO I-MODALIDADE_LICITACAO ...  "
            ],
            "text/html": [
              "\n",
              "  <div id=\"df-7849b558-9600-4929-8acd-aebe916251e7\">\n",
              "    <div class=\"colab-df-container\">\n",
              "      <div>\n",
              "<style scoped>\n",
              "    .dataframe tbody tr th:only-of-type {\n",
              "        vertical-align: middle;\n",
              "    }\n",
              "\n",
              "    .dataframe tbody tr th {\n",
              "        vertical-align: top;\n",
              "    }\n",
              "\n",
              "    .dataframe thead th {\n",
              "        text-align: right;\n",
              "    }\n",
              "</style>\n",
              "<table border=\"1\" class=\"dataframe\">\n",
              "  <thead>\n",
              "    <tr style=\"text-align: right;\">\n",
              "      <th></th>\n",
              "      <th>texto</th>\n",
              "      <th>IOB</th>\n",
              "    </tr>\n",
              "  </thead>\n",
              "  <tbody>\n",
              "    <tr>\n",
              "      <th>0</th>\n",
              "      <td>AVISO DE LICITAÇÃO PREGÃO ELETRÔNICO Nº 01/202...</td>\n",
              "      <td>O O O B-MODALIDADE_LICITACAO I-MODALIDADE_LICI...</td>\n",
              "    </tr>\n",
              "    <tr>\n",
              "      <th>1</th>\n",
              "      <td>AVISO DE LICITAÇÃO PREGÃO ELETRÔNICO Nº 50/201...</td>\n",
              "      <td>O O O B-MODALIDADE_LICITACAO I-MODALIDADE_LICI...</td>\n",
              "    </tr>\n",
              "    <tr>\n",
              "      <th>2</th>\n",
              "      <td>PREGÃO ELETRÔNICO Nº 14/2021 Processo: 092.041...</td>\n",
              "      <td>B-MODALIDADE_LICITACAO I-MODALIDADE_LICITACAO ...</td>\n",
              "    </tr>\n",
              "  </tbody>\n",
              "</table>\n",
              "</div>\n",
              "      <button class=\"colab-df-convert\" onclick=\"convertToInteractive('df-7849b558-9600-4929-8acd-aebe916251e7')\"\n",
              "              title=\"Convert this dataframe to an interactive table.\"\n",
              "              style=\"display:none;\">\n",
              "        \n",
              "  <svg xmlns=\"http://www.w3.org/2000/svg\" height=\"24px\"viewBox=\"0 0 24 24\"\n",
              "       width=\"24px\">\n",
              "    <path d=\"M0 0h24v24H0V0z\" fill=\"none\"/>\n",
              "    <path d=\"M18.56 5.44l.94 2.06.94-2.06 2.06-.94-2.06-.94-.94-2.06-.94 2.06-2.06.94zm-11 1L8.5 8.5l.94-2.06 2.06-.94-2.06-.94L8.5 2.5l-.94 2.06-2.06.94zm10 10l.94 2.06.94-2.06 2.06-.94-2.06-.94-.94-2.06-.94 2.06-2.06.94z\"/><path d=\"M17.41 7.96l-1.37-1.37c-.4-.4-.92-.59-1.43-.59-.52 0-1.04.2-1.43.59L10.3 9.45l-7.72 7.72c-.78.78-.78 2.05 0 2.83L4 21.41c.39.39.9.59 1.41.59.51 0 1.02-.2 1.41-.59l7.78-7.78 2.81-2.81c.8-.78.8-2.07 0-2.86zM5.41 20L4 18.59l7.72-7.72 1.47 1.35L5.41 20z\"/>\n",
              "  </svg>\n",
              "      </button>\n",
              "      \n",
              "  <style>\n",
              "    .colab-df-container {\n",
              "      display:flex;\n",
              "      flex-wrap:wrap;\n",
              "      gap: 12px;\n",
              "    }\n",
              "\n",
              "    .colab-df-convert {\n",
              "      background-color: #E8F0FE;\n",
              "      border: none;\n",
              "      border-radius: 50%;\n",
              "      cursor: pointer;\n",
              "      display: none;\n",
              "      fill: #1967D2;\n",
              "      height: 32px;\n",
              "      padding: 0 0 0 0;\n",
              "      width: 32px;\n",
              "    }\n",
              "\n",
              "    .colab-df-convert:hover {\n",
              "      background-color: #E2EBFA;\n",
              "      box-shadow: 0px 1px 2px rgba(60, 64, 67, 0.3), 0px 1px 3px 1px rgba(60, 64, 67, 0.15);\n",
              "      fill: #174EA6;\n",
              "    }\n",
              "\n",
              "    [theme=dark] .colab-df-convert {\n",
              "      background-color: #3B4455;\n",
              "      fill: #D2E3FC;\n",
              "    }\n",
              "\n",
              "    [theme=dark] .colab-df-convert:hover {\n",
              "      background-color: #434B5C;\n",
              "      box-shadow: 0px 1px 3px 1px rgba(0, 0, 0, 0.15);\n",
              "      filter: drop-shadow(0px 1px 2px rgba(0, 0, 0, 0.3));\n",
              "      fill: #FFFFFF;\n",
              "    }\n",
              "  </style>\n",
              "\n",
              "      <script>\n",
              "        const buttonEl =\n",
              "          document.querySelector('#df-7849b558-9600-4929-8acd-aebe916251e7 button.colab-df-convert');\n",
              "        buttonEl.style.display =\n",
              "          google.colab.kernel.accessAllowed ? 'block' : 'none';\n",
              "\n",
              "        async function convertToInteractive(key) {\n",
              "          const element = document.querySelector('#df-7849b558-9600-4929-8acd-aebe916251e7');\n",
              "          const dataTable =\n",
              "            await google.colab.kernel.invokeFunction('convertToInteractive',\n",
              "                                                     [key], {});\n",
              "          if (!dataTable) return;\n",
              "\n",
              "          const docLinkHtml = 'Like what you see? Visit the ' +\n",
              "            '<a target=\"_blank\" href=https://colab.research.google.com/notebooks/data_table.ipynb>data table notebook</a>'\n",
              "            + ' to learn more about interactive tables.';\n",
              "          element.innerHTML = '';\n",
              "          dataTable['output_type'] = 'display_data';\n",
              "          await google.colab.output.renderOutput(dataTable, element);\n",
              "          const docLink = document.createElement('div');\n",
              "          docLink.innerHTML = docLinkHtml;\n",
              "          element.appendChild(docLink);\n",
              "        }\n",
              "      </script>\n",
              "    </div>\n",
              "  </div>\n",
              "  "
            ]
          },
          "metadata": {},
          "execution_count": 10
        }
      ]
    },
    {
      "cell_type": "code",
      "source": [
        "print(\"Entidades: \\n\")\n",
        "for column in CSV_df:\n",
        "  print(f\"  {column}\")"
      ],
      "metadata": {
        "colab": {
          "base_uri": "https://localhost:8080/"
        },
        "id": "mDSUko7Su4vA",
        "outputId": "98540b1c-dfff-446c-afc1-0ecac7e85ef5"
      },
      "execution_count": 11,
      "outputs": [
        {
          "output_type": "stream",
          "name": "stdout",
          "text": [
            "Entidades: \n",
            "\n",
            "  arquivo_rast\n",
            "  ato\n",
            "  dodf\n",
            "  treated_text\n",
            "  PROCESSO\n",
            "  ORGAO_LICITANTE\n",
            "  NUM_LICITACAO\n",
            "  OBJ_LICITACAO\n",
            "  MODALIDADE_LICITACAO\n",
            "  DATA_ABERTURA\n",
            "  TIPO_OBJ\n",
            "  VALOR_ESTIMADO\n",
            "  CODIGO_SISTEMA_COMPRAS\n",
            "  SISTEMA_COMPRAS\n",
            "  NOME_RESPONSAVEL\n",
            "  IOB\n"
          ]
        }
      ]
    },
    {
      "cell_type": "markdown",
      "source": [
        "***ENTIDADE: OBJ_LICITACAO***"
      ],
      "metadata": {
        "id": "Ztt9iYP1zs93"
      }
    },
    {
      "cell_type": "code",
      "source": [
        "numero_palavras_OBJ_LICITACAO_dict = {}\n",
        "numero_palavras_OBJ_LICITACAO_dict['OBJ'] = []\n",
        "numero_palavras_OBJ_LICITACAO_dict['numero'] = []\n",
        "\n",
        "for objeto in CSV_df['OBJ_LICITACAO']:\n",
        "  numero_palavras_OBJ_LICITACAO_dict['OBJ'].append(objeto)\n",
        "  numero_palavras_OBJ_LICITACAO_dict['numero'].append(len( str(objeto).split() ))"
      ],
      "metadata": {
        "id": "65byLhOSvjdZ"
      },
      "execution_count": 12,
      "outputs": []
    },
    {
      "cell_type": "code",
      "source": [
        "numero_palavras_OBJ_LICITACAO_df = pd.DataFrame(numero_palavras_OBJ_LICITACAO_dict)"
      ],
      "metadata": {
        "id": "l100Q6NRyexG"
      },
      "execution_count": 13,
      "outputs": []
    },
    {
      "cell_type": "code",
      "source": [
        "numero_palavras_OBJ_LICITACAO_df.head(3)"
      ],
      "metadata": {
        "colab": {
          "base_uri": "https://localhost:8080/",
          "height": 143
        },
        "id": "zi7Oy-NPyjQz",
        "outputId": "3f12e348-52cd-499c-831b-dd9f9fe02e47"
      },
      "execution_count": 20,
      "outputs": [
        {
          "output_type": "execute_result",
          "data": {
            "text/plain": [
              "                                                 OBJ  numero\n",
              "0  Contratação de Concessionária Autorizada pela ...      71\n",
              "1  Contratação de empresa especializada para forn...      17\n",
              "2  Aquisição de lubrificantes (graxa, lubrificant...       8"
            ],
            "text/html": [
              "\n",
              "  <div id=\"df-701d82f4-110f-4325-8b44-8798cefabb2f\">\n",
              "    <div class=\"colab-df-container\">\n",
              "      <div>\n",
              "<style scoped>\n",
              "    .dataframe tbody tr th:only-of-type {\n",
              "        vertical-align: middle;\n",
              "    }\n",
              "\n",
              "    .dataframe tbody tr th {\n",
              "        vertical-align: top;\n",
              "    }\n",
              "\n",
              "    .dataframe thead th {\n",
              "        text-align: right;\n",
              "    }\n",
              "</style>\n",
              "<table border=\"1\" class=\"dataframe\">\n",
              "  <thead>\n",
              "    <tr style=\"text-align: right;\">\n",
              "      <th></th>\n",
              "      <th>OBJ</th>\n",
              "      <th>numero</th>\n",
              "    </tr>\n",
              "  </thead>\n",
              "  <tbody>\n",
              "    <tr>\n",
              "      <th>0</th>\n",
              "      <td>Contratação de Concessionária Autorizada pela ...</td>\n",
              "      <td>71</td>\n",
              "    </tr>\n",
              "    <tr>\n",
              "      <th>1</th>\n",
              "      <td>Contratação de empresa especializada para forn...</td>\n",
              "      <td>17</td>\n",
              "    </tr>\n",
              "    <tr>\n",
              "      <th>2</th>\n",
              "      <td>Aquisição de lubrificantes (graxa, lubrificant...</td>\n",
              "      <td>8</td>\n",
              "    </tr>\n",
              "  </tbody>\n",
              "</table>\n",
              "</div>\n",
              "      <button class=\"colab-df-convert\" onclick=\"convertToInteractive('df-701d82f4-110f-4325-8b44-8798cefabb2f')\"\n",
              "              title=\"Convert this dataframe to an interactive table.\"\n",
              "              style=\"display:none;\">\n",
              "        \n",
              "  <svg xmlns=\"http://www.w3.org/2000/svg\" height=\"24px\"viewBox=\"0 0 24 24\"\n",
              "       width=\"24px\">\n",
              "    <path d=\"M0 0h24v24H0V0z\" fill=\"none\"/>\n",
              "    <path d=\"M18.56 5.44l.94 2.06.94-2.06 2.06-.94-2.06-.94-.94-2.06-.94 2.06-2.06.94zm-11 1L8.5 8.5l.94-2.06 2.06-.94-2.06-.94L8.5 2.5l-.94 2.06-2.06.94zm10 10l.94 2.06.94-2.06 2.06-.94-2.06-.94-.94-2.06-.94 2.06-2.06.94z\"/><path d=\"M17.41 7.96l-1.37-1.37c-.4-.4-.92-.59-1.43-.59-.52 0-1.04.2-1.43.59L10.3 9.45l-7.72 7.72c-.78.78-.78 2.05 0 2.83L4 21.41c.39.39.9.59 1.41.59.51 0 1.02-.2 1.41-.59l7.78-7.78 2.81-2.81c.8-.78.8-2.07 0-2.86zM5.41 20L4 18.59l7.72-7.72 1.47 1.35L5.41 20z\"/>\n",
              "  </svg>\n",
              "      </button>\n",
              "      \n",
              "  <style>\n",
              "    .colab-df-container {\n",
              "      display:flex;\n",
              "      flex-wrap:wrap;\n",
              "      gap: 12px;\n",
              "    }\n",
              "\n",
              "    .colab-df-convert {\n",
              "      background-color: #E8F0FE;\n",
              "      border: none;\n",
              "      border-radius: 50%;\n",
              "      cursor: pointer;\n",
              "      display: none;\n",
              "      fill: #1967D2;\n",
              "      height: 32px;\n",
              "      padding: 0 0 0 0;\n",
              "      width: 32px;\n",
              "    }\n",
              "\n",
              "    .colab-df-convert:hover {\n",
              "      background-color: #E2EBFA;\n",
              "      box-shadow: 0px 1px 2px rgba(60, 64, 67, 0.3), 0px 1px 3px 1px rgba(60, 64, 67, 0.15);\n",
              "      fill: #174EA6;\n",
              "    }\n",
              "\n",
              "    [theme=dark] .colab-df-convert {\n",
              "      background-color: #3B4455;\n",
              "      fill: #D2E3FC;\n",
              "    }\n",
              "\n",
              "    [theme=dark] .colab-df-convert:hover {\n",
              "      background-color: #434B5C;\n",
              "      box-shadow: 0px 1px 3px 1px rgba(0, 0, 0, 0.15);\n",
              "      filter: drop-shadow(0px 1px 2px rgba(0, 0, 0, 0.3));\n",
              "      fill: #FFFFFF;\n",
              "    }\n",
              "  </style>\n",
              "\n",
              "      <script>\n",
              "        const buttonEl =\n",
              "          document.querySelector('#df-701d82f4-110f-4325-8b44-8798cefabb2f button.colab-df-convert');\n",
              "        buttonEl.style.display =\n",
              "          google.colab.kernel.accessAllowed ? 'block' : 'none';\n",
              "\n",
              "        async function convertToInteractive(key) {\n",
              "          const element = document.querySelector('#df-701d82f4-110f-4325-8b44-8798cefabb2f');\n",
              "          const dataTable =\n",
              "            await google.colab.kernel.invokeFunction('convertToInteractive',\n",
              "                                                     [key], {});\n",
              "          if (!dataTable) return;\n",
              "\n",
              "          const docLinkHtml = 'Like what you see? Visit the ' +\n",
              "            '<a target=\"_blank\" href=https://colab.research.google.com/notebooks/data_table.ipynb>data table notebook</a>'\n",
              "            + ' to learn more about interactive tables.';\n",
              "          element.innerHTML = '';\n",
              "          dataTable['output_type'] = 'display_data';\n",
              "          await google.colab.output.renderOutput(dataTable, element);\n",
              "          const docLink = document.createElement('div');\n",
              "          docLink.innerHTML = docLinkHtml;\n",
              "          element.appendChild(docLink);\n",
              "        }\n",
              "      </script>\n",
              "    </div>\n",
              "  </div>\n",
              "  "
            ]
          },
          "metadata": {},
          "execution_count": 20
        }
      ]
    },
    {
      "cell_type": "code",
      "source": [
        "soma = 0\n",
        "for num in numero_palavras_OBJ_LICITACAO_df['numero']:\n",
        "  soma += int(num)\n",
        "\n",
        "media = soma/len(numero_palavras_OBJ_LICITACAO_df['numero'])\n",
        "\n",
        "print(f\"Media de palavras por entidade OBJ_LICITACAO: {media}\")"
      ],
      "metadata": {
        "colab": {
          "base_uri": "https://localhost:8080/"
        },
        "id": "6QjlpFPCyoAl",
        "outputId": "030357c1-e9e5-462e-c576-d106156a7566"
      },
      "execution_count": 15,
      "outputs": [
        {
          "output_type": "stream",
          "name": "stdout",
          "text": [
            "Media de palavras por entidade OBJ_LICITACAO: 39.723404255319146\n"
          ]
        }
      ]
    },
    {
      "cell_type": "markdown",
      "source": [
        "***ATO ou Texto Tratado***"
      ],
      "metadata": {
        "id": "wKGjwbgvz7qe"
      }
    },
    {
      "cell_type": "code",
      "source": [
        "numero_palavras_TEXTO_dict = {}\n",
        "numero_palavras_TEXTO_dict['TEXTO'] = []\n",
        "numero_palavras_TEXTO_dict['numero'] = []\n",
        "\n",
        "for TEXTO in CSV_df['treated_text']:\n",
        "  numero_palavras_TEXTO_dict['TEXTO'].append(TEXTO)\n",
        "  numero_palavras_TEXTO_dict['numero'].append(len( str(TEXTO).split() ))"
      ],
      "metadata": {
        "id": "Tp2SgLGe0Nw6"
      },
      "execution_count": 16,
      "outputs": []
    },
    {
      "cell_type": "code",
      "source": [
        "numero_palavras_TEXTO_df = pd.DataFrame(numero_palavras_TEXTO_dict)"
      ],
      "metadata": {
        "id": "fmaqBXsc0Nw7"
      },
      "execution_count": 17,
      "outputs": []
    },
    {
      "cell_type": "code",
      "source": [
        "numero_palavras_TEXTO_df.head(3)"
      ],
      "metadata": {
        "colab": {
          "base_uri": "https://localhost:8080/",
          "height": 143
        },
        "outputId": "e4dad46d-06bd-4888-d2ca-348bbd14956b",
        "id": "3mp1J9W_0Nw7"
      },
      "execution_count": 18,
      "outputs": [
        {
          "output_type": "execute_result",
          "data": {
            "text/plain": [
              "                                               TEXTO  numero\n",
              "0  AVISO DE LICITAÇÃO PREGÃO ELETRÔNICO Nº 01/202...     241\n",
              "1  AVISO DE LICITAÇÃO PREGÃO ELETRÔNICO Nº 50/201...     162\n",
              "2  PREGÃO ELETRÔNICO Nº 14/2021 Processo: 092.041...      96"
            ],
            "text/html": [
              "\n",
              "  <div id=\"df-b67d9cf7-59e7-4245-9321-f472fa01de51\">\n",
              "    <div class=\"colab-df-container\">\n",
              "      <div>\n",
              "<style scoped>\n",
              "    .dataframe tbody tr th:only-of-type {\n",
              "        vertical-align: middle;\n",
              "    }\n",
              "\n",
              "    .dataframe tbody tr th {\n",
              "        vertical-align: top;\n",
              "    }\n",
              "\n",
              "    .dataframe thead th {\n",
              "        text-align: right;\n",
              "    }\n",
              "</style>\n",
              "<table border=\"1\" class=\"dataframe\">\n",
              "  <thead>\n",
              "    <tr style=\"text-align: right;\">\n",
              "      <th></th>\n",
              "      <th>TEXTO</th>\n",
              "      <th>numero</th>\n",
              "    </tr>\n",
              "  </thead>\n",
              "  <tbody>\n",
              "    <tr>\n",
              "      <th>0</th>\n",
              "      <td>AVISO DE LICITAÇÃO PREGÃO ELETRÔNICO Nº 01/202...</td>\n",
              "      <td>241</td>\n",
              "    </tr>\n",
              "    <tr>\n",
              "      <th>1</th>\n",
              "      <td>AVISO DE LICITAÇÃO PREGÃO ELETRÔNICO Nº 50/201...</td>\n",
              "      <td>162</td>\n",
              "    </tr>\n",
              "    <tr>\n",
              "      <th>2</th>\n",
              "      <td>PREGÃO ELETRÔNICO Nº 14/2021 Processo: 092.041...</td>\n",
              "      <td>96</td>\n",
              "    </tr>\n",
              "  </tbody>\n",
              "</table>\n",
              "</div>\n",
              "      <button class=\"colab-df-convert\" onclick=\"convertToInteractive('df-b67d9cf7-59e7-4245-9321-f472fa01de51')\"\n",
              "              title=\"Convert this dataframe to an interactive table.\"\n",
              "              style=\"display:none;\">\n",
              "        \n",
              "  <svg xmlns=\"http://www.w3.org/2000/svg\" height=\"24px\"viewBox=\"0 0 24 24\"\n",
              "       width=\"24px\">\n",
              "    <path d=\"M0 0h24v24H0V0z\" fill=\"none\"/>\n",
              "    <path d=\"M18.56 5.44l.94 2.06.94-2.06 2.06-.94-2.06-.94-.94-2.06-.94 2.06-2.06.94zm-11 1L8.5 8.5l.94-2.06 2.06-.94-2.06-.94L8.5 2.5l-.94 2.06-2.06.94zm10 10l.94 2.06.94-2.06 2.06-.94-2.06-.94-.94-2.06-.94 2.06-2.06.94z\"/><path d=\"M17.41 7.96l-1.37-1.37c-.4-.4-.92-.59-1.43-.59-.52 0-1.04.2-1.43.59L10.3 9.45l-7.72 7.72c-.78.78-.78 2.05 0 2.83L4 21.41c.39.39.9.59 1.41.59.51 0 1.02-.2 1.41-.59l7.78-7.78 2.81-2.81c.8-.78.8-2.07 0-2.86zM5.41 20L4 18.59l7.72-7.72 1.47 1.35L5.41 20z\"/>\n",
              "  </svg>\n",
              "      </button>\n",
              "      \n",
              "  <style>\n",
              "    .colab-df-container {\n",
              "      display:flex;\n",
              "      flex-wrap:wrap;\n",
              "      gap: 12px;\n",
              "    }\n",
              "\n",
              "    .colab-df-convert {\n",
              "      background-color: #E8F0FE;\n",
              "      border: none;\n",
              "      border-radius: 50%;\n",
              "      cursor: pointer;\n",
              "      display: none;\n",
              "      fill: #1967D2;\n",
              "      height: 32px;\n",
              "      padding: 0 0 0 0;\n",
              "      width: 32px;\n",
              "    }\n",
              "\n",
              "    .colab-df-convert:hover {\n",
              "      background-color: #E2EBFA;\n",
              "      box-shadow: 0px 1px 2px rgba(60, 64, 67, 0.3), 0px 1px 3px 1px rgba(60, 64, 67, 0.15);\n",
              "      fill: #174EA6;\n",
              "    }\n",
              "\n",
              "    [theme=dark] .colab-df-convert {\n",
              "      background-color: #3B4455;\n",
              "      fill: #D2E3FC;\n",
              "    }\n",
              "\n",
              "    [theme=dark] .colab-df-convert:hover {\n",
              "      background-color: #434B5C;\n",
              "      box-shadow: 0px 1px 3px 1px rgba(0, 0, 0, 0.15);\n",
              "      filter: drop-shadow(0px 1px 2px rgba(0, 0, 0, 0.3));\n",
              "      fill: #FFFFFF;\n",
              "    }\n",
              "  </style>\n",
              "\n",
              "      <script>\n",
              "        const buttonEl =\n",
              "          document.querySelector('#df-b67d9cf7-59e7-4245-9321-f472fa01de51 button.colab-df-convert');\n",
              "        buttonEl.style.display =\n",
              "          google.colab.kernel.accessAllowed ? 'block' : 'none';\n",
              "\n",
              "        async function convertToInteractive(key) {\n",
              "          const element = document.querySelector('#df-b67d9cf7-59e7-4245-9321-f472fa01de51');\n",
              "          const dataTable =\n",
              "            await google.colab.kernel.invokeFunction('convertToInteractive',\n",
              "                                                     [key], {});\n",
              "          if (!dataTable) return;\n",
              "\n",
              "          const docLinkHtml = 'Like what you see? Visit the ' +\n",
              "            '<a target=\"_blank\" href=https://colab.research.google.com/notebooks/data_table.ipynb>data table notebook</a>'\n",
              "            + ' to learn more about interactive tables.';\n",
              "          element.innerHTML = '';\n",
              "          dataTable['output_type'] = 'display_data';\n",
              "          await google.colab.output.renderOutput(dataTable, element);\n",
              "          const docLink = document.createElement('div');\n",
              "          docLink.innerHTML = docLinkHtml;\n",
              "          element.appendChild(docLink);\n",
              "        }\n",
              "      </script>\n",
              "    </div>\n",
              "  </div>\n",
              "  "
            ]
          },
          "metadata": {},
          "execution_count": 18
        }
      ]
    },
    {
      "cell_type": "code",
      "source": [
        "soma = 0\n",
        "for num in numero_palavras_TEXTO_df['numero']:\n",
        "  soma += int(num)\n",
        "\n",
        "media = soma/len(numero_palavras_TEXTO_df['numero'])\n",
        "\n",
        "print(f\"Media de palavras por ATO ou Texto Tratado: {media}\")"
      ],
      "metadata": {
        "colab": {
          "base_uri": "https://localhost:8080/"
        },
        "outputId": "443f853c-c3b5-4453-8f69-80a2984cd799",
        "id": "W3yTqLwD0Nw8"
      },
      "execution_count": 19,
      "outputs": [
        {
          "output_type": "stream",
          "name": "stdout",
          "text": [
            "Media de palavras por ATO ou Texto Tratado: 137.8284574468085\n"
          ]
        }
      ]
    },
    {
      "cell_type": "markdown",
      "source": [
        "***Número de Entidades por ATO***"
      ],
      "metadata": {
        "id": "PQkJIVWfRkwj"
      }
    },
    {
      "cell_type": "code",
      "source": [
        "def count_ents(IOB):\n",
        "  list_IOB = IOB.split()\n",
        "  count = 0\n",
        "  for word in list_IOB:\n",
        "    if 'B-' in word:\n",
        "      count += 1\n",
        "  return count"
      ],
      "metadata": {
        "id": "NGlu82_JR3mx"
      },
      "execution_count": 21,
      "outputs": []
    },
    {
      "cell_type": "code",
      "source": [
        "numero_palavras_IOB_dict = {}\n",
        "numero_palavras_IOB_dict['TEXTO'] = []\n",
        "numero_palavras_IOB_dict['numero'] = []\n",
        "\n",
        "for IOB in CSV_df['IOB']:\n",
        "  numero_palavras_IOB_dict['TEXTO'].append(TEXTO)\n",
        "  numero_palavras_IOB_dict['numero'].append( count_ents(str(IOB)) )"
      ],
      "metadata": {
        "id": "-g--qySBRnx7"
      },
      "execution_count": 23,
      "outputs": []
    },
    {
      "cell_type": "code",
      "source": [
        "numero_palavras_IOB_df = pd.DataFrame(numero_palavras_IOB_dict)"
      ],
      "metadata": {
        "id": "VidYHzpZRnx7"
      },
      "execution_count": 24,
      "outputs": []
    },
    {
      "cell_type": "code",
      "source": [
        "numero_palavras_IOB_df.head(5)"
      ],
      "metadata": {
        "colab": {
          "base_uri": "https://localhost:8080/",
          "height": 206
        },
        "id": "4wcz4kTyRnx8",
        "outputId": "2a9cf1cd-900e-46f6-a131-e7213158cc60"
      },
      "execution_count": 28,
      "outputs": [
        {
          "output_type": "execute_result",
          "data": {
            "text/plain": [
              "                                               TEXTO  numero\n",
              "0  AVISO DE LICITAÇÃO NOVA DATA PREGÃO ELETRÔNICO...       7\n",
              "1  AVISO DE LICITAÇÃO NOVA DATA PREGÃO ELETRÔNICO...       7\n",
              "2  AVISO DE LICITAÇÃO NOVA DATA PREGÃO ELETRÔNICO...       8\n",
              "3  AVISO DE LICITAÇÃO NOVA DATA PREGÃO ELETRÔNICO...      11\n",
              "4  AVISO DE LICITAÇÃO NOVA DATA PREGÃO ELETRÔNICO...       5"
            ],
            "text/html": [
              "\n",
              "  <div id=\"df-2fa66f27-6b9a-42d2-966a-2d23929f7795\">\n",
              "    <div class=\"colab-df-container\">\n",
              "      <div>\n",
              "<style scoped>\n",
              "    .dataframe tbody tr th:only-of-type {\n",
              "        vertical-align: middle;\n",
              "    }\n",
              "\n",
              "    .dataframe tbody tr th {\n",
              "        vertical-align: top;\n",
              "    }\n",
              "\n",
              "    .dataframe thead th {\n",
              "        text-align: right;\n",
              "    }\n",
              "</style>\n",
              "<table border=\"1\" class=\"dataframe\">\n",
              "  <thead>\n",
              "    <tr style=\"text-align: right;\">\n",
              "      <th></th>\n",
              "      <th>TEXTO</th>\n",
              "      <th>numero</th>\n",
              "    </tr>\n",
              "  </thead>\n",
              "  <tbody>\n",
              "    <tr>\n",
              "      <th>0</th>\n",
              "      <td>AVISO DE LICITAÇÃO NOVA DATA PREGÃO ELETRÔNICO...</td>\n",
              "      <td>7</td>\n",
              "    </tr>\n",
              "    <tr>\n",
              "      <th>1</th>\n",
              "      <td>AVISO DE LICITAÇÃO NOVA DATA PREGÃO ELETRÔNICO...</td>\n",
              "      <td>7</td>\n",
              "    </tr>\n",
              "    <tr>\n",
              "      <th>2</th>\n",
              "      <td>AVISO DE LICITAÇÃO NOVA DATA PREGÃO ELETRÔNICO...</td>\n",
              "      <td>8</td>\n",
              "    </tr>\n",
              "    <tr>\n",
              "      <th>3</th>\n",
              "      <td>AVISO DE LICITAÇÃO NOVA DATA PREGÃO ELETRÔNICO...</td>\n",
              "      <td>11</td>\n",
              "    </tr>\n",
              "    <tr>\n",
              "      <th>4</th>\n",
              "      <td>AVISO DE LICITAÇÃO NOVA DATA PREGÃO ELETRÔNICO...</td>\n",
              "      <td>5</td>\n",
              "    </tr>\n",
              "  </tbody>\n",
              "</table>\n",
              "</div>\n",
              "      <button class=\"colab-df-convert\" onclick=\"convertToInteractive('df-2fa66f27-6b9a-42d2-966a-2d23929f7795')\"\n",
              "              title=\"Convert this dataframe to an interactive table.\"\n",
              "              style=\"display:none;\">\n",
              "        \n",
              "  <svg xmlns=\"http://www.w3.org/2000/svg\" height=\"24px\"viewBox=\"0 0 24 24\"\n",
              "       width=\"24px\">\n",
              "    <path d=\"M0 0h24v24H0V0z\" fill=\"none\"/>\n",
              "    <path d=\"M18.56 5.44l.94 2.06.94-2.06 2.06-.94-2.06-.94-.94-2.06-.94 2.06-2.06.94zm-11 1L8.5 8.5l.94-2.06 2.06-.94-2.06-.94L8.5 2.5l-.94 2.06-2.06.94zm10 10l.94 2.06.94-2.06 2.06-.94-2.06-.94-.94-2.06-.94 2.06-2.06.94z\"/><path d=\"M17.41 7.96l-1.37-1.37c-.4-.4-.92-.59-1.43-.59-.52 0-1.04.2-1.43.59L10.3 9.45l-7.72 7.72c-.78.78-.78 2.05 0 2.83L4 21.41c.39.39.9.59 1.41.59.51 0 1.02-.2 1.41-.59l7.78-7.78 2.81-2.81c.8-.78.8-2.07 0-2.86zM5.41 20L4 18.59l7.72-7.72 1.47 1.35L5.41 20z\"/>\n",
              "  </svg>\n",
              "      </button>\n",
              "      \n",
              "  <style>\n",
              "    .colab-df-container {\n",
              "      display:flex;\n",
              "      flex-wrap:wrap;\n",
              "      gap: 12px;\n",
              "    }\n",
              "\n",
              "    .colab-df-convert {\n",
              "      background-color: #E8F0FE;\n",
              "      border: none;\n",
              "      border-radius: 50%;\n",
              "      cursor: pointer;\n",
              "      display: none;\n",
              "      fill: #1967D2;\n",
              "      height: 32px;\n",
              "      padding: 0 0 0 0;\n",
              "      width: 32px;\n",
              "    }\n",
              "\n",
              "    .colab-df-convert:hover {\n",
              "      background-color: #E2EBFA;\n",
              "      box-shadow: 0px 1px 2px rgba(60, 64, 67, 0.3), 0px 1px 3px 1px rgba(60, 64, 67, 0.15);\n",
              "      fill: #174EA6;\n",
              "    }\n",
              "\n",
              "    [theme=dark] .colab-df-convert {\n",
              "      background-color: #3B4455;\n",
              "      fill: #D2E3FC;\n",
              "    }\n",
              "\n",
              "    [theme=dark] .colab-df-convert:hover {\n",
              "      background-color: #434B5C;\n",
              "      box-shadow: 0px 1px 3px 1px rgba(0, 0, 0, 0.15);\n",
              "      filter: drop-shadow(0px 1px 2px rgba(0, 0, 0, 0.3));\n",
              "      fill: #FFFFFF;\n",
              "    }\n",
              "  </style>\n",
              "\n",
              "      <script>\n",
              "        const buttonEl =\n",
              "          document.querySelector('#df-2fa66f27-6b9a-42d2-966a-2d23929f7795 button.colab-df-convert');\n",
              "        buttonEl.style.display =\n",
              "          google.colab.kernel.accessAllowed ? 'block' : 'none';\n",
              "\n",
              "        async function convertToInteractive(key) {\n",
              "          const element = document.querySelector('#df-2fa66f27-6b9a-42d2-966a-2d23929f7795');\n",
              "          const dataTable =\n",
              "            await google.colab.kernel.invokeFunction('convertToInteractive',\n",
              "                                                     [key], {});\n",
              "          if (!dataTable) return;\n",
              "\n",
              "          const docLinkHtml = 'Like what you see? Visit the ' +\n",
              "            '<a target=\"_blank\" href=https://colab.research.google.com/notebooks/data_table.ipynb>data table notebook</a>'\n",
              "            + ' to learn more about interactive tables.';\n",
              "          element.innerHTML = '';\n",
              "          dataTable['output_type'] = 'display_data';\n",
              "          await google.colab.output.renderOutput(dataTable, element);\n",
              "          const docLink = document.createElement('div');\n",
              "          docLink.innerHTML = docLinkHtml;\n",
              "          element.appendChild(docLink);\n",
              "        }\n",
              "      </script>\n",
              "    </div>\n",
              "  </div>\n",
              "  "
            ]
          },
          "metadata": {},
          "execution_count": 28
        }
      ]
    },
    {
      "cell_type": "code",
      "source": [
        "soma = 0\n",
        "for num in numero_palavras_IOB_df['numero']:\n",
        "  soma += int(num)\n",
        "\n",
        "media = soma/len(numero_palavras_IOB_df['numero'])\n",
        "\n",
        "print(f\"Media de entidades por ATO: {media}\")"
      ],
      "metadata": {
        "colab": {
          "base_uri": "https://localhost:8080/"
        },
        "id": "knGEn3VCRnx8",
        "outputId": "529a7cd2-010b-4d77-f858-c2c4b1dc9d43"
      },
      "execution_count": 27,
      "outputs": [
        {
          "output_type": "stream",
          "name": "stdout",
          "text": [
            "Media de entidades por ATO: 7.974734042553192\n"
          ]
        }
      ]
    }
  ]
}