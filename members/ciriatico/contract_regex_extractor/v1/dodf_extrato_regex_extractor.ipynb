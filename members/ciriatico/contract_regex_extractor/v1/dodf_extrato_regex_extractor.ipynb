{
 "cells": [
  {
   "cell_type": "code",
   "execution_count": 1,
   "id": "15c6780d",
   "metadata": {},
   "outputs": [],
   "source": [
    "import pandas as pd\n",
    "import re"
   ]
  },
  {
   "cell_type": "code",
   "execution_count": 2,
   "id": "e97ae4b7",
   "metadata": {},
   "outputs": [],
   "source": [
    "def rem_texts_begin_end_page(text, p_begin_page1, p_begin_page2, p_end_page):\n",
    "    bp1 = re.search(p_begin_page1, text)\n",
    "    bp2 = re.search(p_begin_page2, text)\n",
    "    \n",
    "    # Se as regras não encontrarem correspondência no texto, retornar o texto até à última alteração\n",
    "    if (bp1 == None) or (bp2 == None):\n",
    "        return text\n",
    "    \n",
    "    if bp1.end() > bp2.end():\n",
    "        bp = bp1\n",
    "    else:\n",
    "        bp = bp2\n",
    "\n",
    "    text = text[bp.end():]\n",
    "\n",
    "    ep = re.search(p_end_page, text)\n",
    "    \n",
    "    if ep == None:\n",
    "        return text\n",
    "    \n",
    "    text = text[:ep.start()]\n",
    "\n",
    "    return text"
   ]
  },
  {
   "cell_type": "code",
   "execution_count": 3,
   "id": "b6cfc843",
   "metadata": {},
   "outputs": [],
   "source": [
    "def extracted_texts_to_df(texts_indexes, base_df, column_names):\n",
    "    # Gera dataframe com os textos extraídos, com informações do documento onde foram encontrados\n",
    "    extracted_texts_df = []\n",
    "    \n",
    "    for extracted_text in texts_indexes:\n",
    "        index_text = extracted_text[0]\n",
    "        ext_text = extracted_text[1]\n",
    "        \n",
    "        list_text = list(base_df.loc[index_text, base_df.columns].values)\n",
    "        list_text.append(ext_text)\n",
    "        \n",
    "        extracted_texts_df.append(list_text)\n",
    "        \n",
    "    return pd.DataFrame(extracted_texts_df, columns=column_names)"
   ]
  },
  {
   "cell_type": "code",
   "execution_count": 4,
   "id": "ddd8ee2f",
   "metadata": {},
   "outputs": [],
   "source": [
    "def row_list_regex(index, text, pattern_ext, pattern_blk):\n",
    "    # Lista com as buscas por regex. O findall permite ver se no documento há pelo menos 1 extrato detectado\n",
    "    row_list = [index, re.findall(pattern_ext, text), re.finditer(pattern_ext, text), re.finditer(pattern_blk, text)]\n",
    "    \n",
    "    # Se findall não achou nenhum, então o documento não tem nada que interessa\n",
    "    if len(row_list[1]) > 0:\n",
    "        return row_list"
   ]
  },
  {
   "cell_type": "code",
   "execution_count": 5,
   "id": "ad4cff09",
   "metadata": {},
   "outputs": [],
   "source": [
    "def mapped_positions_regex(matched_texts):\n",
    "    # Mapeia as posições do que foi encontrado pelo regex\n",
    "    # Lista de 2 dimensões: na primeira, de extrato; na segunda, de bloco\n",
    "    mapped_positions_ext_blk = []\n",
    "\n",
    "    for match in matched_texts:\n",
    "        a_ext = match[2]\n",
    "        a_blk = match[3]\n",
    "\n",
    "        a_ext_list = []\n",
    "        a_blk_list = []\n",
    "\n",
    "        for i in a_ext:\n",
    "            a_ext_list.append(i.start())\n",
    "\n",
    "        for i in a_blk:\n",
    "            a_blk_list.append(i.start())\n",
    "\n",
    "        mapped_positions_ext_blk.append([match[0], a_ext_list, a_blk_list])\n",
    "    \n",
    "    return mapped_positions_ext_blk"
   ]
  },
  {
   "cell_type": "code",
   "execution_count": 6,
   "id": "0a3ab172",
   "metadata": {},
   "outputs": [],
   "source": [
    "def extract_texts_from_mapped_positions(mapped_positions, base_df, text_column):\n",
    "    extracted_texts = []\n",
    "    \n",
    "    for mapped_position in mapped_positions:\n",
    "        mapped_text = base_df.loc[mapped_position[0]][text_column]\n",
    "        \n",
    "        for ia in mapped_position[1]:\n",
    "            # Um texto começa no bloco detectado pelo regex para extrato e termina no próximo bloco qualquer detectado\n",
    "            index_ia = mapped_position[2].index(ia)\n",
    "            \n",
    "            if (index_ia + 1) <= (len(mapped_position[2])-1):\n",
    "                ib = mapped_position[2][index_ia+1]\n",
    "                extracted_text = mapped_text[ia:ib]\n",
    "            else:\n",
    "                extracted_text = mapped_text[ia:]\n",
    "\n",
    "            extracted_texts.append([mapped_position[0], extracted_text])\n",
    "    \n",
    "    return extracted_texts"
   ]
  },
  {
   "cell_type": "code",
   "execution_count": null,
   "id": "4fe79f9c",
   "metadata": {},
   "outputs": [],
   "source": []
  },
  {
   "cell_type": "code",
   "execution_count": 7,
   "id": "f724d2b6",
   "metadata": {},
   "outputs": [],
   "source": [
    "pattern_new_page1 = r\"ÁGINA\\s([0-9]{1,5})\"\n",
    "p_new_page1 = re.compile(pattern_new_page1)\n",
    "\n",
    "pattern_new_page2 = r\"N(.+?)20([0-9]{2})\"\n",
    "p_new_page2 = re.compile(pattern_new_page2)\n",
    "\n",
    "pattern_end_page = r\"\\nEste documento pode ser verificado no\"\n",
    "p_end_page = re.compile(pattern_end_page)"
   ]
  },
  {
   "cell_type": "code",
   "execution_count": 8,
   "id": "ac886b00",
   "metadata": {},
   "outputs": [],
   "source": [
    "pattern_extrato = \"(\\nxx([a-z]{0,10})\\sEXTRAT([A-Z]{0,3})\\sD([A-Z]{0,3})\\sCONTRAT([A-Z]{0,3}))\"\n",
    "p_ext = re.compile(pattern_extrato)\n",
    "\n",
    "pattern_bloco = \"(\\nxx([a-z]{0,10})\\s([A-ZÀ-Ú0-9º\\/x\\-\\.\\,\\(\\)\\|\\*&\\s\\']{5,}) xx([a-z]{0,10}))\"\n",
    "pattern_bloco = pattern_bloco + \"|\" + pattern_extrato\n",
    "\n",
    "p_blk = re.compile(pattern_bloco)"
   ]
  },
  {
   "cell_type": "code",
   "execution_count": null,
   "id": "863ecd46",
   "metadata": {},
   "outputs": [],
   "source": []
  },
  {
   "cell_type": "code",
   "execution_count": 9,
   "id": "3f95b43e",
   "metadata": {},
   "outputs": [],
   "source": [
    "data = pd.read_parquet(\"df.parquet.gzip\")"
   ]
  },
  {
   "cell_type": "code",
   "execution_count": 10,
   "id": "799a842a",
   "metadata": {},
   "outputs": [],
   "source": [
    "dodf_selected = data[data[\"year\"] == 2021].copy()"
   ]
  },
  {
   "cell_type": "code",
   "execution_count": 11,
   "id": "3aab1dc0",
   "metadata": {},
   "outputs": [],
   "source": [
    "del data"
   ]
  },
  {
   "cell_type": "code",
   "execution_count": null,
   "id": "b55b42f7",
   "metadata": {},
   "outputs": [],
   "source": []
  },
  {
   "cell_type": "code",
   "execution_count": 13,
   "id": "b9295c52",
   "metadata": {},
   "outputs": [],
   "source": [
    "dodf_selected = dodf_selected.sort_values([\"file_name\", \"page\"])"
   ]
  },
  {
   "cell_type": "code",
   "execution_count": 12,
   "id": "aa0bf0fd",
   "metadata": {},
   "outputs": [],
   "source": [
    "dodf_selected.loc[:, \"text_corr\"] = dodf_selected.apply(lambda row: rem_texts_begin_end_page(row[\"text\"], p_new_page1, p_new_page2, p_end_page), axis=1)"
   ]
  },
  {
   "cell_type": "code",
   "execution_count": null,
   "id": "80ca1775",
   "metadata": {},
   "outputs": [],
   "source": []
  },
  {
   "cell_type": "code",
   "execution_count": 14,
   "id": "6843b6a0",
   "metadata": {},
   "outputs": [],
   "source": [
    "# Concatenar todas as páginas em uma única linha\n",
    "dodf_selected = dodf_selected.groupby([\"file_name\", \"number\", \"day\", \"month\", \"year\"])[\"text_corr\"].apply('\\n'.join).reset_index()"
   ]
  },
  {
   "cell_type": "code",
   "execution_count": 15,
   "id": "d7161726",
   "metadata": {},
   "outputs": [],
   "source": [
    "matched_texts = dodf_selected.apply(lambda row: row_list_regex(row.name, row[\"text_corr\"], p_ext, p_blk), axis=1)\n",
    "matched_texts = [matched_text for matched_text in matched_texts if matched_text != None]"
   ]
  },
  {
   "cell_type": "code",
   "execution_count": 16,
   "id": "0b3e2532",
   "metadata": {},
   "outputs": [],
   "source": [
    "ext_blk_list = mapped_positions_regex(matched_texts)"
   ]
  },
  {
   "cell_type": "code",
   "execution_count": 17,
   "id": "7f7962a1",
   "metadata": {},
   "outputs": [],
   "source": [
    "textos_extraidos = extract_texts_from_mapped_positions(ext_blk_list, dodf_selected, \"text_corr\")"
   ]
  },
  {
   "cell_type": "code",
   "execution_count": 18,
   "id": "194d0ca1",
   "metadata": {},
   "outputs": [],
   "source": [
    "ext_df = extracted_texts_to_df(textos_extraidos, dodf_selected[[\"file_name\", \"number\", \"day\", \"month\", \"year\"]], [\"file_name\", \"number\", \"day\", \"month\", \"year\", \"text\"])"
   ]
  },
  {
   "cell_type": "code",
   "execution_count": 19,
   "id": "880ce24d",
   "metadata": {},
   "outputs": [
    {
     "data": {
      "text/html": [
       "<div>\n",
       "<style scoped>\n",
       "    .dataframe tbody tr th:only-of-type {\n",
       "        vertical-align: middle;\n",
       "    }\n",
       "\n",
       "    .dataframe tbody tr th {\n",
       "        vertical-align: top;\n",
       "    }\n",
       "\n",
       "    .dataframe thead th {\n",
       "        text-align: right;\n",
       "    }\n",
       "</style>\n",
       "<table border=\"1\" class=\"dataframe\">\n",
       "  <thead>\n",
       "    <tr style=\"text-align: right;\">\n",
       "      <th></th>\n",
       "      <th>file_name</th>\n",
       "      <th>number</th>\n",
       "      <th>day</th>\n",
       "      <th>month</th>\n",
       "      <th>year</th>\n",
       "      <th>text</th>\n",
       "    </tr>\n",
       "  </thead>\n",
       "  <tbody>\n",
       "    <tr>\n",
       "      <th>0</th>\n",
       "      <td>DODF 001 04-01-2021</td>\n",
       "      <td>1</td>\n",
       "      <td>4</td>\n",
       "      <td>1</td>\n",
       "      <td>2021</td>\n",
       "      <td>\\nxxbcet EXTRATO DO CONTRATO DE EXECUÇÃO DE OB...</td>\n",
       "    </tr>\n",
       "    <tr>\n",
       "      <th>1</th>\n",
       "      <td>DODF 001 04-01-2021</td>\n",
       "      <td>1</td>\n",
       "      <td>4</td>\n",
       "      <td>1</td>\n",
       "      <td>2021</td>\n",
       "      <td>\\nxxbcet EXTRATO DO CONTRATO DE EXECUÇÃO DE OB...</td>\n",
       "    </tr>\n",
       "    <tr>\n",
       "      <th>2</th>\n",
       "      <td>DODF 001 04-01-2021</td>\n",
       "      <td>1</td>\n",
       "      <td>4</td>\n",
       "      <td>1</td>\n",
       "      <td>2021</td>\n",
       "      <td>\\nxxbcet EXTRATO DO CONTRATO DE EXECUÇÃO DE OB...</td>\n",
       "    </tr>\n",
       "    <tr>\n",
       "      <th>3</th>\n",
       "      <td>DODF 001 04-01-2021</td>\n",
       "      <td>1</td>\n",
       "      <td>4</td>\n",
       "      <td>1</td>\n",
       "      <td>2021</td>\n",
       "      <td>\\nxxbcet EXTRATO DO CONTRATO Nº41470/2020 xxec...</td>\n",
       "    </tr>\n",
       "    <tr>\n",
       "      <th>4</th>\n",
       "      <td>DODF 001 04-01-2021</td>\n",
       "      <td>1</td>\n",
       "      <td>4</td>\n",
       "      <td>1</td>\n",
       "      <td>2021</td>\n",
       "      <td>\\nxxbcet EXTRATO DO CONTRATO Nº42437/2020 xxec...</td>\n",
       "    </tr>\n",
       "  </tbody>\n",
       "</table>\n",
       "</div>"
      ],
      "text/plain": [
       "             file_name  number  day  month  year  \\\n",
       "0  DODF 001 04-01-2021       1    4      1  2021   \n",
       "1  DODF 001 04-01-2021       1    4      1  2021   \n",
       "2  DODF 001 04-01-2021       1    4      1  2021   \n",
       "3  DODF 001 04-01-2021       1    4      1  2021   \n",
       "4  DODF 001 04-01-2021       1    4      1  2021   \n",
       "\n",
       "                                                text  \n",
       "0  \\nxxbcet EXTRATO DO CONTRATO DE EXECUÇÃO DE OB...  \n",
       "1  \\nxxbcet EXTRATO DO CONTRATO DE EXECUÇÃO DE OB...  \n",
       "2  \\nxxbcet EXTRATO DO CONTRATO DE EXECUÇÃO DE OB...  \n",
       "3  \\nxxbcet EXTRATO DO CONTRATO Nº41470/2020 xxec...  \n",
       "4  \\nxxbcet EXTRATO DO CONTRATO Nº42437/2020 xxec...  "
      ]
     },
     "execution_count": 19,
     "metadata": {},
     "output_type": "execute_result"
    }
   ],
   "source": [
    "ext_df.head(5)"
   ]
  },
  {
   "cell_type": "code",
   "execution_count": null,
   "id": "de1ebefd",
   "metadata": {},
   "outputs": [],
   "source": []
  }
 ],
 "metadata": {
  "kernelspec": {
   "display_name": "Python 3",
   "language": "python",
   "name": "python3"
  },
  "language_info": {
   "codemirror_mode": {
    "name": "ipython",
    "version": 3
   },
   "file_extension": ".py",
   "mimetype": "text/x-python",
   "name": "python",
   "nbconvert_exporter": "python",
   "pygments_lexer": "ipython3",
   "version": "3.8.8"
  }
 },
 "nbformat": 4,
 "nbformat_minor": 5
}
