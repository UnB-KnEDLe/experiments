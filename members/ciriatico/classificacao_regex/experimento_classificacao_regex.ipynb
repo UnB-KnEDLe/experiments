{
 "cells": [
  {
   "cell_type": "code",
   "execution_count": 1,
   "metadata": {},
   "outputs": [],
   "source": [
    "import pandas as pd\n",
    "import re\n",
    "from sklearn.metrics import f1_score, recall_score, precision_score"
   ]
  },
  {
   "cell_type": "code",
   "execution_count": 2,
   "metadata": {},
   "outputs": [],
   "source": [
    "def simple_search(rules, text):\n",
    "    # Busca simples, usada principalmente em atos de pessoal\n",
    "    return re.search(rules, text) != None\n",
    "\n",
    "def long_search(rules, text):\n",
    "    # Busca longa, usada em contrato e convênio\n",
    "    principal, sub, titulo, low = rules\n",
    "    \n",
    "    if re.search(principal, text) == None:\n",
    "        if re.search(sub, text) == None:\n",
    "            if re.search(titulo, text) == None:\n",
    "                if re.search(low, text.lower()) == None:\n",
    "                    return False\n",
    "    \n",
    "    return True\n",
    "\n",
    "def not_long_search(rules, text):\n",
    "    # Busca maior que a simples mas menor que a longa, usada em aditamento\n",
    "    principal, titulo, texto = rules\n",
    "    \n",
    "    if re.search(principal, text) == None:\n",
    "        if re.search(titulo, text) == None:\n",
    "            if re.search(texto, text) == None:\n",
    "                return False\n",
    "    \n",
    "    return True"
   ]
  },
  {
   "cell_type": "code",
   "execution_count": 3,
   "metadata": {},
   "outputs": [],
   "source": [
    "def get_scores(x, y):\n",
    "    f1 = f1_score(x, y)\n",
    "    recall_n = recall_score(x, y)\n",
    "    precision_n = precision_score(x, y)\n",
    "    \n",
    "    return f1, recall_n, precision_n"
   ]
  },
  {
   "cell_type": "code",
   "execution_count": 4,
   "metadata": {},
   "outputs": [],
   "source": [
    "# https://github.com/UnB-KnEDLe/DODFMiner/blob/classesNER/dodfminer/extract/polished/acts/licitacao.py\n",
    "regex_licitacao = r'(?:AVISO\\s+D[EO]\\s+ABERTURA\\s+D[EO]\\s+LICITA[CÇ][AÃ]O|AVISO\\s+ABERTURA\\s+D[EO]\\s+LICITA[CÇ][AÃ]O|AVISO\\s+D[EO]\\s+LICITA[CÇ][AÃ]O|AVISO\\s+D[EO]\\s+PREG[AÃ]O\\s+ELETR[OÔ]NICO|AVISOS\\s+D[EO]\\s+ABERTURA\\s+D[EO]\\s+LICITA[CÇ][AÃ]O|AVISOS\\s+D[EO]\\s+LICITA[CÇ][AÃ]O|AVISOS\\s+D[EO]\\s+PREG[AÃ]O\\s+ELETR[OÔ]NICO|AVISOS\\s+D[EO]\\s+ABERTURA\\s+D[EO]\\s+LICITA[CÇ][OÕ]ES|AVISOS?\\s+D[EO]\\s+LICITA[CÇ][OÕ]ES)'"
   ]
  },
  {
   "cell_type": "code",
   "execution_count": 5,
   "metadata": {},
   "outputs": [],
   "source": [
    "# https://github.com/UnB-KnEDLe/DODFMiner/blob/classesNER/dodfminer/extract/polished/acts/anulacao_revogacao.py\n",
    "regex_anulacao_revogacao = r'(?:AVISO\\s+D[EO]\\s+REVOGA[CÇ][AÃ]O\\s+D[EO]\\s+LICITA[CÇ][AÃ]O|AVISO\\s+D[EO]\\s+REVOGA[CÇ][AÃ]O|AVISO\\s+D[EO]\\s+ANULA[CÇ][AÃ]O\\s+D[EO]\\s+LICITA[CÇ][AÃ]O|AVISO\\s+D[EO]\\s+ANULA[CÇ][AÃ]O)'"
   ]
  },
  {
   "cell_type": "code",
   "execution_count": 6,
   "metadata": {},
   "outputs": [],
   "source": [
    "# https://github.com/UnB-KnEDLe/DODFMiner/blob/classesNER/dodfminer/extract/polished/acts/suspensao.py\n",
    "regex_suspensao = r'(?:AVISO\\s+D[EO]\\s+SUSPENS[AÃ]O\\s+D[EO]\\s+LICITA[CÇ][AÃ]O|AVISO\\s+D[EO]\\s+SUSPENS[AÃ]O)'"
   ]
  },
  {
   "cell_type": "code",
   "execution_count": 7,
   "metadata": {},
   "outputs": [],
   "source": [
    "# https://github.com/UnB-KnEDLe/DODFMiner/blob/classesNER/dodfminer/extract/polished/acts/aditamento.py\n",
    "principal_aditivo = r'(?:ADITIVO)'\n",
    "regex_titulo_aditivo = r'(?:(ADITIVO[S]*\\s.*CONTRAT[OUALIS]*)|(CONTRATO[S]*\\s.*ADITIVO[S]*)|(ADITIVO,\\s.*CONTRATO))'\n",
    "regex_texto_aditivo = r'(?:(aditivo\\sao\\scontrato)|(espécie:\\scontrato)|(termo\\saditivo\\s-\\sao\\scontrato))'"
   ]
  },
  {
   "cell_type": "code",
   "execution_count": 8,
   "metadata": {},
   "outputs": [],
   "source": [
    "# https://github.com/UnB-KnEDLe/DODFMiner/blob/classesNER/dodfminer/extract/polished/acts/contrato_convenio.py\n",
    "principal_contrato = r'(?:CONTRATO)'\n",
    "regex_titulo_contrato = r'(?:(EXTRATO\\sD[OE]\\sCONTRATO)|(CONTRATO\\sSIMPLIFICADO)|(CONTRATO\\sPARA\\sAQUISIÇÃO)|(^CONTRATO)'\\\n",
    "                        '|(EXTRATO\\sD[OE]\\sTERMO\\sD[OE]\\sCONTRATO\\sNº\\s)|(EXTRATO\\sAO\\sCONTRATO)|(CONTRATO\\sDE\\sPRESTAÇÃO\\sDE\\sSERVIÇOS\\sNº)'\\\n",
    "                        '|(CONTRATO\\sDE\\sPATROCÍNIO)|(CONTRATO\\sDE\\sCONCESSÃO\\sDE)|(^CONTRATO\\sNº)|(^EXTRATOS\\sDE\\sCONTRATO[S]*))'\n",
    "sub_contrato = r'(?:ADITIVO)'\n",
    "low_contrato = 'termo aditivo ao contrato'"
   ]
  },
  {
   "cell_type": "code",
   "execution_count": 9,
   "metadata": {},
   "outputs": [],
   "source": [
    "# https://github.com/UnB-KnEDLe/DODFMiner/blob/classesNER/dodfminer/extract/polished/acts/contrato_convenio.py\n",
    "principal_convenio = r'(?:(CONVÊNIO)|(CONVENIO))'\n",
    "regex_titulo_convenio = r'(?:(EXTRATO\\sD[OE]\\sCONVÊNIO)|(EXTRATO\\sDE\\sTERMO\\sDE\\sCONVÊNIO)|(CONVÊNIO\\sSIMPLIFICADO)|(CONVÊNIO\\sPARA\\sAQUISIÇÃO)|(^CONVÊNIO)'\\\n",
    "                        '|(EXTRATO\\sD[OE]\\sTERMO\\sD[OE]\\sCONVÊNIO\\sNº\\s)|(EXTRATO\\sAO\\sCONVÊNIO)|(CONVÊNIO\\sDE\\sPRESTAÇÃO\\sDE\\sSERVIÇOS\\sNº)'\\\n",
    "                        '|(CONVÊNIO\\sDE\\sPATROCÍNIO)|(CONVÊNIO\\sDE\\sCONCESSÃO\\sDE)|(^CONVÊNIO\\sNº)|(^EXTRATOS\\sDE\\sCONVÊNIO[S]*))'\n",
    "sub_convenio = r'(?:ADITIVO)'\n",
    "low_convenio = 'termo aditivo ao con'"
   ]
  },
  {
   "cell_type": "code",
   "execution_count": 10,
   "metadata": {},
   "outputs": [],
   "source": [
    "# https://github.com/UnB-KnEDLe/DODFMiner/blob/classesNER/dodfminer/extract/polished/acts/abono.py\n",
    "regex_abono = re.compile(\"(%s|%s|%s)\" % (r\"(Abono\\sDE\\sPERMANENCIA\\s[(ao|equiva)][\\s\\S]*?)\\s\", r\"([\\s\\S]*?\", r\"\\d+\\s*[\\.|\\-]\\s*\\d+\\s*\\/\\s*\\d+\\s*\\-\\s*\\d+)\"))"
   ]
  },
  {
   "cell_type": "code",
   "execution_count": 11,
   "metadata": {},
   "outputs": [],
   "source": [
    "# https://github.com/UnB-KnEDLe/DODFMiner/blob/classesNER/dodfminer/extract/polished/acts/cessoes.py\n",
    "regex_cessoes = re.compile(r\"([Pp][Rr][Oo][Cc][Ee][Ss][Ss][Oo][^0-9/]{0,12})([^\\n]+?\\n){0,2}?\" + r\"[^\\n]*?[Aa]\\s*[Ss]\\s*[Ss]\\s*[Uu]\\s*[Nn]\\s*[Tt]\\s*[Oo]\\s*:?\\s*\\bCESS.O\\b\" + r\"([^\\n]*\\n){0,}?[^\\n]*?(?=(?P<look_ahead>PROCESSO|Processo:|PUBLICAR|pertinentes[.]|autoridade cedente|\" + r\"(?i:publique-se)\" + \"))\")"
   ]
  },
  {
   "cell_type": "code",
   "execution_count": 12,
   "metadata": {},
   "outputs": [],
   "source": [
    "# https://github.com/UnB-KnEDLe/DODFMiner/blob/classesNER/dodfminer/extract/polished/acts/exoneracao.py\n",
    "regex_exoneracao_naoefetivos = re.compile(\"(%s|%s|%s)\" % (r\"(EXONERAR)\", r'((?=.*Comissao|.*\\n.*Comissao|.*Especial|.*\\n.*Especial )[\\s\\S]*?', r\"(?:\\.\\n|NOMEAR|\\d+\\-\\d+\\/\\d+\\-\\d+\\.))\"))\n",
    "regex_exoneracao_efetivos = re.compile(\"(%s|%s|%s)\" % (r\"(EXONERAR,\\s?)\", r'((?:a\\spedido,)?\\s(?:[A-Z\\\\n\\s]+),\\s(?:matr[ií]cula\\s(?:[0-9\\.,X-])+)\\s' + r'(?!.*\\n?.*Cargo\\sem\\s+Comissao,|.*\\n?.*Natureza\\sEspecial,)[,\\sa-zA-Z0-9\\\\\\/-]*)', \"\"))"
   ]
  },
  {
   "cell_type": "code",
   "execution_count": 13,
   "metadata": {},
   "outputs": [],
   "source": [
    "# https://github.com/UnB-KnEDLe/DODFMiner/blob/classesNER/dodfminer/extract/polished/acts/nomeacao.py\n",
    "regex_nomeacao_comissionados = re.compile(\"(%s|%s|%s)\" % (r\"(NOMEAR)\", r\"([\\s\\S]*?)\", r\"((\\.\\s)|(?=(EXONERAR|NOMEAR)))\"))\n",
    "regex_nomeacao_efetivos = re.compile(\"(%s|%s|%s)\" % (r\"(NOMEAR\\s)\", r\"((?:[ao]s\\scandidat[ao]s\\sabaixo(?:([a-zA-Z_0-9,\\s\\/-\\:\\-\\(\\);](no?\\.)?)*).|\" + r\"(?:[ao]\\scandidat[oa]\\sabaixo(?:([a-zA-Z_0-9,\\s\\/-\\:\\-\\(\\);](no?\\.)?)*)))(?:\\s[a-zA-Z_\\s]*\" + r\"(?:deficiencia|especiais):(?:\\s[\\sA-Zo]+,\\s?\\d{1,4}o?;?)+)?(?:\\s)?(?:[\\r\\n\\t\\f\\sa-zA-Z_\\s]*\" + r\"classificacao:(?:\\s[\\sA-Zo]+,\\s?\\d{1,4}o?[,;]?)+)?)\", \"\"))"
   ]
  },
  {
   "cell_type": "code",
   "execution_count": 14,
   "metadata": {},
   "outputs": [],
   "source": [
    "# https://github.com/UnB-KnEDLe/DODFMiner/blob/classesNER/dodfminer/extract/polished/acts/reversoes.py\n",
    "regex_reversoes = re.compile(\"(%s|%s)\" % (r\"(reverter\\sa\\satividade[,|\\s])\", r\"(?<!lei)\\s(?:[0-9|\\s]*?[.|-]\\s?)+?[0-9|\\s]\"))"
   ]
  },
  {
   "cell_type": "code",
   "execution_count": 15,
   "metadata": {},
   "outputs": [],
   "source": [
    "# https://github.com/UnB-KnEDLe/DODFMiner/blob/classesNER/dodfminer/extract/polished/acts/substituicao.py\n",
    "regex_substituicao = re.compile(\"(%s|%s|%s)\" % (r\"(DESIGNAR)\", r\"([\\s\\S]*?)\", r\"\\.\\s\"))"
   ]
  },
  {
   "cell_type": "code",
   "execution_count": 16,
   "metadata": {},
   "outputs": [],
   "source": [
    "# https://github.com/UnB-KnEDLe/DODFMiner/blob/classesNER/dodfminer/extract/polished/acts/sem_efeito_aposentadoria.py\n",
    "regex_sem_efeito_aposentadoria = re.compile(r\"TORNAR SEM EFEITO\" + r\"([^\\n]+\\n){0,10}?[^\\n]*?\" + r\"(tempo\\sde\\sservi.o|aposentadoria|aposentou|([Dd][Ee][Ss])?[Aa][Vv][Ee][Rr][Bb][Aa]..[Oo]|(des)?averb(ar?|ou))\" + r\"[\\d\\D]{0,500}?[.]\\s+\" + r\"(?=[A-Z]{3})\")"
   ]
  },
  {
   "cell_type": "code",
   "execution_count": null,
   "metadata": {},
   "outputs": [],
   "source": []
  },
  {
   "cell_type": "code",
   "execution_count": 17,
   "metadata": {},
   "outputs": [],
   "source": [
    "data_contratos = pd.read_csv(\"DODFCorpus_contratos_licitacoes_v2.1.csv\")"
   ]
  },
  {
   "cell_type": "code",
   "execution_count": 18,
   "metadata": {},
   "outputs": [],
   "source": [
    "data_contratos = data_contratos.drop_duplicates([\"texto_rel\"])[[\"id_dodf\", \"tipo_rel\", \"texto_rel\"]]"
   ]
  },
  {
   "cell_type": "code",
   "execution_count": 19,
   "metadata": {},
   "outputs": [],
   "source": [
    "licitacao = data_contratos.apply(lambda row: simple_search(regex_licitacao, row[\"texto_rel\"]), axis=1)\n",
    "anulacao_revogacao = data_contratos.apply(lambda row: simple_search(regex_anulacao_revogacao, row[\"texto_rel\"]), axis=1)\n",
    "suspensao = data_contratos.apply(lambda row: simple_search(regex_suspensao, row[\"texto_rel\"]), axis=1)"
   ]
  },
  {
   "cell_type": "code",
   "execution_count": 20,
   "metadata": {},
   "outputs": [],
   "source": [
    "contrato = data_contratos.apply(lambda row: long_search([principal_contrato, regex_titulo_contrato, sub_contrato, low_contrato], row[\"texto_rel\"]), axis=1)\n",
    "convenio = data_contratos.apply(lambda row: long_search([principal_convenio, regex_titulo_convenio, sub_convenio, low_convenio], row[\"texto_rel\"]), axis=1)"
   ]
  },
  {
   "cell_type": "code",
   "execution_count": 21,
   "metadata": {},
   "outputs": [],
   "source": [
    "aditamento = data_contratos.apply(lambda row: not_long_search([principal_aditivo, regex_titulo_aditivo, regex_texto_aditivo], row[\"texto_rel\"]), axis = 1)"
   ]
  },
  {
   "cell_type": "code",
   "execution_count": null,
   "metadata": {},
   "outputs": [],
   "source": []
  },
  {
   "cell_type": "code",
   "execution_count": 22,
   "metadata": {},
   "outputs": [],
   "source": [
    "data_pessoal = pd.read_csv(\"atos.csv\")"
   ]
  },
  {
   "cell_type": "code",
   "execution_count": 23,
   "metadata": {},
   "outputs": [],
   "source": [
    "abono = data_pessoal.apply(lambda row: simple_search(regex_abono, row[\"Texto\"]), axis=1)\n",
    "cessoes = data_pessoal.apply(lambda row: simple_search(regex_cessoes, row[\"Texto\"]), axis=1)\n",
    "\n",
    "exoneracao_naoefetivos = data_pessoal.apply(lambda row: simple_search(regex_exoneracao_naoefetivos, row[\"Texto\"]), axis=1)\n",
    "exoneracao_efetivos = data_pessoal.apply(lambda row: simple_search(regex_exoneracao_efetivos, row[\"Texto\"]), axis=1)\n",
    "\n",
    "nomeacao_comissionados = data_pessoal.apply(lambda row: simple_search(regex_nomeacao_comissionados, row[\"Texto\"]), axis=1)\n",
    "nomeacao_efetivos = data_pessoal.apply(lambda row: simple_search(regex_nomeacao_efetivos, row[\"Texto\"]), axis=1)\n",
    "\n",
    "reversoes = data_pessoal.apply(lambda row: simple_search(regex_reversoes, row[\"Texto\"]), axis=1)\n",
    "substituicao = data_pessoal.apply(lambda row: simple_search(regex_substituicao, row[\"Texto\"]), axis=1)\n",
    "sem_efeito_aposentadoria = data_pessoal.apply(lambda row: simple_search(regex_sem_efeito_aposentadoria, row[\"Texto\"]), axis=1)"
   ]
  },
  {
   "cell_type": "code",
   "execution_count": null,
   "metadata": {},
   "outputs": [],
   "source": []
  },
  {
   "cell_type": "code",
   "execution_count": 34,
   "metadata": {},
   "outputs": [
    {
     "data": {
      "text/plain": [
       "(0.8443649373881931, 0.7386541471048513, 0.9853862212943633)"
      ]
     },
     "execution_count": 34,
     "metadata": {},
     "output_type": "execute_result"
    }
   ],
   "source": [
    "get_scores(data[\"tipo_rel\"] == \"AVISO_LICITACAO\", licitacao)"
   ]
  },
  {
   "cell_type": "code",
   "execution_count": 35,
   "metadata": {},
   "outputs": [
    {
     "data": {
      "text/plain": [
       "(0.9591836734693878, 0.9215686274509803, 1.0)"
      ]
     },
     "execution_count": 35,
     "metadata": {},
     "output_type": "execute_result"
    }
   ],
   "source": [
    "get_scores(data[\"tipo_rel\"] == \"AVISO_ANUL_REV_LICITACAO\", anulacao_revogacao)"
   ]
  },
  {
   "cell_type": "code",
   "execution_count": 38,
   "metadata": {},
   "outputs": [
    {
     "data": {
      "text/plain": [
       "(0.9554140127388536, 0.9146341463414634, 1.0)"
      ]
     },
     "execution_count": 38,
     "metadata": {},
     "output_type": "execute_result"
    }
   ],
   "source": [
    "get_scores(data[\"tipo_rel\"] == \"AVISO_SUSPENSAO_LICITACAO\", suspensao)"
   ]
  },
  {
   "cell_type": "code",
   "execution_count": 39,
   "metadata": {},
   "outputs": [
    {
     "data": {
      "text/plain": [
       "(0.665979381443299, 0.9584569732937686, 0.5102685624012638)"
      ]
     },
     "execution_count": 39,
     "metadata": {},
     "output_type": "execute_result"
    }
   ],
   "source": [
    "get_scores(data[\"tipo_rel\"] == \"EXTRATO_CONTRATO\", contrato)"
   ]
  },
  {
   "cell_type": "code",
   "execution_count": 40,
   "metadata": {},
   "outputs": [
    {
     "data": {
      "text/plain": [
       "(0.03636363636363637, 0.90625, 0.018554062699936022)"
      ]
     },
     "execution_count": 40,
     "metadata": {},
     "output_type": "execute_result"
    }
   ],
   "source": [
    "get_scores(data[\"tipo_rel\"] == \"EXTRATO_CONVENIO\", convenio)"
   ]
  },
  {
   "cell_type": "code",
   "execution_count": 41,
   "metadata": {},
   "outputs": [
    {
     "data": {
      "text/plain": [
       "(0.971086739780658, 0.945631067961165, 0.9979508196721312)"
      ]
     },
     "execution_count": 41,
     "metadata": {},
     "output_type": "execute_result"
    }
   ],
   "source": [
    "get_scores(data[\"tipo_rel\"] == \"EXTRATO_ADITAMENTO_CONTRATUAL\", aditamento)"
   ]
  },
  {
   "cell_type": "code",
   "execution_count": 48,
   "metadata": {},
   "outputs": [
    {
     "data": {
      "text/plain": [
       "(0.029155787641427327, 1.0, 0.014793552660631487)"
      ]
     },
     "execution_count": 48,
     "metadata": {},
     "output_type": "execute_result"
    }
   ],
   "source": [
    "get_scores(data_pessoal[\"Tipo\"] == \"Ato_Abono_Permanencia\", abono)"
   ]
  },
  {
   "cell_type": "code",
   "execution_count": 50,
   "metadata": {},
   "outputs": [
    {
     "data": {
      "text/plain": [
       "(0.7149758454106281, 0.5584905660377358, 0.9932885906040269)"
      ]
     },
     "execution_count": 50,
     "metadata": {},
     "output_type": "execute_result"
    }
   ],
   "source": [
    "get_scores(data_pessoal[\"Tipo\"] == \"Ato_Cessao\", cessoes)"
   ]
  },
  {
   "cell_type": "code",
   "execution_count": 51,
   "metadata": {},
   "outputs": [
    {
     "data": {
      "text/plain": [
       "(0.5276461295418642, 0.9975111996017919, 0.35868981564345803)"
      ]
     },
     "execution_count": 51,
     "metadata": {},
     "output_type": "execute_result"
    }
   ],
   "source": [
    "get_scores(data_pessoal[\"Tipo\"] == \"Ato_Exoneracao_Comissionado\", exoneracao_naoefetivos)"
   ]
  },
  {
   "cell_type": "code",
   "execution_count": 52,
   "metadata": {},
   "outputs": [
    {
     "data": {
      "text/plain": [
       "(0.05183353048714916, 1.0, 0.026606314859792448)"
      ]
     },
     "execution_count": 52,
     "metadata": {},
     "output_type": "execute_result"
    }
   ],
   "source": [
    "get_scores(data_pessoal[\"Tipo\"] == \"Ato_Exoneracao_Efetivo\", exoneracao_efetivos)"
   ]
  },
  {
   "cell_type": "code",
   "execution_count": 53,
   "metadata": {},
   "outputs": [
    {
     "data": {
      "text/plain": [
       "(0.4068243778031836, 1.0, 0.25535438286597484)"
      ]
     },
     "execution_count": 53,
     "metadata": {},
     "output_type": "execute_result"
    }
   ],
   "source": [
    "get_scores(data_pessoal[\"Tipo\"] == \"Ato_Nomeacao_Comissionado\", nomeacao_comissionados)"
   ]
  },
  {
   "cell_type": "code",
   "execution_count": 54,
   "metadata": {},
   "outputs": [
    {
     "data": {
      "text/plain": [
       "(0.010105448154657295, 1.0, 0.005078383749172003)"
      ]
     },
     "execution_count": 54,
     "metadata": {},
     "output_type": "execute_result"
    }
   ],
   "source": [
    "get_scores(data_pessoal[\"Tipo\"] == \"Ato_Nomeacao_Efetivo\", nomeacao_efetivos)"
   ]
  },
  {
   "cell_type": "code",
   "execution_count": 55,
   "metadata": {},
   "outputs": [
    {
     "data": {
      "text/plain": [
       "(0.01784340870635287, 1.0, 0.009002017693620985)"
      ]
     },
     "execution_count": 55,
     "metadata": {},
     "output_type": "execute_result"
    }
   ],
   "source": [
    "get_scores(data_pessoal[\"Tipo\"] == \"Ato_Reversao\", reversoes)"
   ]
  },
  {
   "cell_type": "code",
   "execution_count": 56,
   "metadata": {},
   "outputs": [
    {
     "data": {
      "text/plain": [
       "(0.4066842568161829, 1.0, 0.2552439832192537)"
      ]
     },
     "execution_count": 56,
     "metadata": {},
     "output_type": "execute_result"
    }
   ],
   "source": [
    "get_scores(data_pessoal[\"Tipo\"] == \"Ato_Substituicao\", substituicao)"
   ]
  },
  {
   "cell_type": "code",
   "execution_count": 57,
   "metadata": {},
   "outputs": [
    {
     "name": "stderr",
     "output_type": "stream",
     "text": [
      "/home/ciri/.local/lib/python3.8/site-packages/sklearn/metrics/_classification.py:1248: UndefinedMetricWarning: Precision is ill-defined and being set to 0.0 due to no predicted samples. Use `zero_division` parameter to control this behavior.\n",
      "  _warn_prf(average, modifier, msg_start, len(result))\n"
     ]
    },
    {
     "data": {
      "text/plain": [
       "(0.0, 0.0, 0.0)"
      ]
     },
     "execution_count": 57,
     "metadata": {},
     "output_type": "execute_result"
    }
   ],
   "source": [
    "get_scores(data_pessoal[\"Tipo\"] == \"Ato_Tornado_Sem_Efeito_Apo\", sem_efeito_aposentadoria)"
   ]
  },
  {
   "cell_type": "code",
   "execution_count": null,
   "metadata": {},
   "outputs": [],
   "source": []
  }
 ],
 "metadata": {
  "kernelspec": {
   "display_name": "Python 3",
   "language": "python",
   "name": "python3"
  },
  "language_info": {
   "codemirror_mode": {
    "name": "ipython",
    "version": 3
   },
   "file_extension": ".py",
   "mimetype": "text/x-python",
   "name": "python",
   "nbconvert_exporter": "python",
   "pygments_lexer": "ipython3",
   "version": "3.8.10"
  }
 },
 "nbformat": 4,
 "nbformat_minor": 4
}
