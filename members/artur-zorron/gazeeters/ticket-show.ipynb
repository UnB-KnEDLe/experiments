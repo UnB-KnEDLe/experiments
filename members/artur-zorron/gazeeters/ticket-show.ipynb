{
 "cells": [
  {
   "cell_type": "code",
   "execution_count": 2,
   "source": [
    "import spacy\n",
    "import re\n",
    "from skweak import heuristics, gazetteers, aggregation, utils"
   ],
   "outputs": [],
   "metadata": {}
  },
  {
   "cell_type": "code",
   "execution_count": 3,
   "source": [
    "def money_detector(doc):\n",
    "    for tok in doc[1:]:\n",
    "        if tok.text[0].isdigit() and tok.nbor(-1).is_currency:\n",
    "            yield tok.i-1, tok.i+1, \"MONEY\""
   ],
   "outputs": [],
   "metadata": {}
  },
  {
   "cell_type": "code",
   "execution_count": 4,
   "source": [
    "lf1 = heuristics.FunctionAnnotator(\"money\", money_detector)"
   ],
   "outputs": [],
   "metadata": {}
  },
  {
   "cell_type": "code",
   "execution_count": 5,
   "source": [
    "lf2 = heuristics.TokenConstraintAnnotator(\n",
    "    \"years\", lambda tok: re.match(\"(19|20)\\d{2}$\", tok.text), \"DATE\")\n"
   ],
   "outputs": [],
   "metadata": {}
  },
  {
   "cell_type": "code",
   "execution_count": 22,
   "source": [
    "names = [(\"Artur\", \"Zorron\"), (\"Vitor\", \"Araruna\"), (\"Victor\", \"Vasconcelos\"), (\"Lucelia\", \"Vieira\")]\n",
    "trie = gazetteers.Trie(names)\n",
    "lf3 = gazetteers.GazetteerAnnotator(\"knedle-team\", {\"PERSON\": trie})"
   ],
   "outputs": [],
   "metadata": {}
  },
  {
   "cell_type": "code",
   "execution_count": 23,
   "source": [
    "# bands = [\"DOPE LEMON\", \"Tash Sultana\", \"Ocean Alley\"]\n",
    "# trie = gazetteers.Trie(bands)\n",
    "# lf4 = gazetteers.GazetteerAnnotator(\"good-bands\", {\"BAND\": trie})"
   ],
   "outputs": [],
   "metadata": {}
  },
  {
   "cell_type": "code",
   "execution_count": 24,
   "source": [
    "nlp = spacy.load(\"en_core_web_sm\")\n",
    "doc = nlp(\"Artur Zorron está querendo comprar um ingresso do show do DOPE LEMON que ocorrerá em Madri em março de 2022 O ingresso custa $100,00\")"
   ],
   "outputs": [],
   "metadata": {}
  },
  {
   "cell_type": "code",
   "execution_count": 25,
   "source": [
    "doc = lf3(lf2(lf1(doc)))"
   ],
   "outputs": [],
   "metadata": {}
  },
  {
   "cell_type": "code",
   "execution_count": 28,
   "source": [
    "hmm = aggregation.HMM(\"hmm\", [\"PERSON\", \"DATE\", \"MONEY\"])\n",
    "hmm.fit_and_aggregate([doc])"
   ],
   "outputs": [
    {
     "output_type": "stream",
     "name": "stdout",
     "text": [
      "Starting iteration 1\n",
      "Finished E-step with 1 documents\n",
      "Starting iteration 2\n",
      "Finished E-step with 1 documents\n",
      "Starting iteration 3\n",
      "Finished E-step with 1 documents\n",
      "Starting iteration 4\n",
      "Finished E-step with 1 documents\n",
      "Starting iteration 5\n",
      "Finished E-step with 1 documents\n"
     ]
    },
    {
     "output_type": "stream",
     "name": "stderr",
     "text": [
      "         1         -15.5631             +nan\n",
      "         2         -15.4148          +0.1483\n",
      "         3         -15.1820          +0.2328\n",
      "         4         -14.9440          +0.2380\n",
      "         5         -14.7952          +0.1489\n"
     ]
    },
    {
     "output_type": "execute_result",
     "data": {
      "text/plain": [
       "[Artur Zorron está querendo comprar um ingresso do show do DOPE LEMON que ocorrerá em Madri em março de 2022 O ingresso custa $100,00]"
      ]
     },
     "metadata": {},
     "execution_count": 28
    }
   ],
   "metadata": {}
  },
  {
   "cell_type": "code",
   "execution_count": 29,
   "source": [
    "utils.display_entities(doc, \"hmm\")"
   ],
   "outputs": [
    {
     "output_type": "display_data",
     "data": {
      "text/html": [
       "<span class=\"tex2jax_ignore\"><div class=\"entities\" style=\"line-height: 2.5; direction: ltr\">Artur Zorron está querendo comprar um ingresso do show do DOPE LEMON que ocorrerá em Madri em março de 2022 O ingresso custa \n",
       "<mark class=\"entity\" style=\"background: #e4e7d2; padding: 0.45em 0.6em; margin: 0 0.25em; line-height: 1; border-radius: 0.35em;\">\n",
       "    $100,00\n",
       "    <span style=\"font-size: 0.8em; font-weight: bold; line-height: 1; border-radius: 0.35em; vertical-align: middle; margin-left: 0.5rem\">MONEY</span>\n",
       "</mark>\n",
       "</div></span>"
      ],
      "text/plain": [
       "<IPython.core.display.HTML object>"
      ]
     },
     "metadata": {}
    }
   ],
   "metadata": {}
  }
 ],
 "metadata": {
  "orig_nbformat": 4,
  "language_info": {
   "name": "python",
   "version": "3.8.10",
   "mimetype": "text/x-python",
   "codemirror_mode": {
    "name": "ipython",
    "version": 3
   },
   "pygments_lexer": "ipython3",
   "nbconvert_exporter": "python",
   "file_extension": ".py"
  },
  "kernelspec": {
   "name": "python3",
   "display_name": "Python 3.8.10 64-bit"
  },
  "interpreter": {
   "hash": "916dbcbb3f70747c44a77c7bcd40155683ae19c65e1c03b4aa3499c5328201f1"
  }
 },
 "nbformat": 4,
 "nbformat_minor": 2
}