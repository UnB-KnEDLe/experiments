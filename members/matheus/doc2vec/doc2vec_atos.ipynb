{
 "cells": [
  {
   "cell_type": "markdown",
   "metadata": {},
   "source": [
    "# Experimento Doc2Vec\n",
    "\n",
    "O objetivo aqui é usar doc2vec para classificação multi-classe no mini-dataset de atos/classes gerado após teste no ezTag.\n",
    "\n",
    "Fontes principais:\n",
    "- https://towardsdatascience.com/implementing-multi-class-text-classification-with-doc2vec-df7c3812824d\n",
    "- https://github.com/UnB-KnEDLe/experiments/blob/master/members/matheus/BioC_XML_to_conll.ipynb"
   ]
  },
  {
   "cell_type": "markdown",
   "metadata": {},
   "source": [
    "### Import de packages"
   ]
  },
  {
   "cell_type": "code",
   "execution_count": 1,
   "metadata": {},
   "outputs": [],
   "source": [
    "from gensim.test.utils import common_texts\n",
    "from gensim.models.doc2vec import Doc2Vec, TaggedDocument\n",
    "from sklearn.metrics import accuracy_score, f1_score\n",
    "from sklearn.model_selection import train_test_split\n",
    "from sklearn.linear_model import LogisticRegression\n",
    "from sklearn import utils\n",
    "import csv\n",
    "from tqdm import tqdm\n",
    "import multiprocessing\n",
    "import nltk\n",
    "from nltk.corpus import stopwords"
   ]
  },
  {
   "cell_type": "markdown",
   "metadata": {},
   "source": [
    "### Mini-Dataset de atos\n",
    "- Instanciação em memória\n",
    "- Retirada de classes com apenas 1 instância"
   ]
  },
  {
   "cell_type": "code",
   "execution_count": 2,
   "metadata": {},
   "outputs": [
    {
     "data": {
      "text/html": [
       "<div>\n",
       "<style scoped>\n",
       "    .dataframe tbody tr th:only-of-type {\n",
       "        vertical-align: middle;\n",
       "    }\n",
       "\n",
       "    .dataframe tbody tr th {\n",
       "        vertical-align: top;\n",
       "    }\n",
       "\n",
       "    .dataframe thead th {\n",
       "        text-align: right;\n",
       "    }\n",
       "</style>\n",
       "<table border=\"1\" class=\"dataframe\">\n",
       "  <thead>\n",
       "    <tr style=\"text-align: right;\">\n",
       "      <th></th>\n",
       "      <th>tipo_ato</th>\n",
       "      <th>ato</th>\n",
       "    </tr>\n",
       "  </thead>\n",
       "  <tbody>\n",
       "    <tr>\n",
       "      <th>0</th>\n",
       "      <td>nomeacao</td>\n",
       "      <td>NOMEAR LETÍCIA MATOS MAGALHÃES para exercer o ...</td>\n",
       "    </tr>\n",
       "    <tr>\n",
       "      <th>1</th>\n",
       "      <td>exoneracao</td>\n",
       "      <td>EXONERAR, a pedido, ANNA LUIZA BARCIA HALLEY d...</td>\n",
       "    </tr>\n",
       "    <tr>\n",
       "      <th>2</th>\n",
       "      <td>nomeacao</td>\n",
       "      <td>NOMEAR SANDRA TURCATO JORGE TOLENTINO para exe...</td>\n",
       "    </tr>\n",
       "    <tr>\n",
       "      <th>3</th>\n",
       "      <td>nomeacao</td>\n",
       "      <td>NOMEAR RAIMUNDO DA COSTA SANTOS NETO, Procurad...</td>\n",
       "    </tr>\n",
       "    <tr>\n",
       "      <th>4</th>\n",
       "      <td>ato_tornado_sem_efeito</td>\n",
       "      <td>TORNAR SEM EFEITO no Decreto de 02 de julho de...</td>\n",
       "    </tr>\n",
       "    <tr>\n",
       "      <th>...</th>\n",
       "      <td>...</td>\n",
       "      <td>...</td>\n",
       "    </tr>\n",
       "    <tr>\n",
       "      <th>268</th>\n",
       "      <td>substituicao</td>\n",
       "      <td>DESIGNAR\\nrespectivamente TEREZA CRISTINA DE A...</td>\n",
       "    </tr>\n",
       "    <tr>\n",
       "      <th>269</th>\n",
       "      <td>substituicao</td>\n",
       "      <td>Designar FLÁVIO DE ARAÚJO ALMEIDA, matrícula n...</td>\n",
       "    </tr>\n",
       "    <tr>\n",
       "      <th>270</th>\n",
       "      <td>substituicao</td>\n",
       "      <td>DESIGNAR OTAMÁ DANTAS BARRETO, matrícula\\n159....</td>\n",
       "    </tr>\n",
       "    <tr>\n",
       "      <th>271</th>\n",
       "      <td>retificacao</td>\n",
       "      <td>RETIFICAR o Sexto Termo\\nAditivo ao Contrato, ...</td>\n",
       "    </tr>\n",
       "    <tr>\n",
       "      <th>272</th>\n",
       "      <td>retificacao</td>\n",
       "      <td>RETIFICAR o Primeiro Termo Aditivo (45138948)\\...</td>\n",
       "    </tr>\n",
       "  </tbody>\n",
       "</table>\n",
       "<p>273 rows × 2 columns</p>\n",
       "</div>"
      ],
      "text/plain": [
       "                   tipo_ato                                                ato\n",
       "0                  nomeacao  NOMEAR LETÍCIA MATOS MAGALHÃES para exercer o ...\n",
       "1                exoneracao  EXONERAR, a pedido, ANNA LUIZA BARCIA HALLEY d...\n",
       "2                  nomeacao  NOMEAR SANDRA TURCATO JORGE TOLENTINO para exe...\n",
       "3                  nomeacao  NOMEAR RAIMUNDO DA COSTA SANTOS NETO, Procurad...\n",
       "4    ato_tornado_sem_efeito  TORNAR SEM EFEITO no Decreto de 02 de julho de...\n",
       "..                      ...                                                ...\n",
       "268            substituicao  DESIGNAR\\nrespectivamente TEREZA CRISTINA DE A...\n",
       "269            substituicao  Designar FLÁVIO DE ARAÚJO ALMEIDA, matrícula n...\n",
       "270            substituicao  DESIGNAR OTAMÁ DANTAS BARRETO, matrícula\\n159....\n",
       "271             retificacao  RETIFICAR o Sexto Termo\\nAditivo ao Contrato, ...\n",
       "272             retificacao  RETIFICAR o Primeiro Termo Aditivo (45138948)\\...\n",
       "\n",
       "[273 rows x 2 columns]"
      ]
     },
     "execution_count": 2,
     "metadata": {},
     "output_type": "execute_result"
    }
   ],
   "source": [
    "import pandas as pd\n",
    "\n",
    "df = pd.read_csv('seg_textos/atos_segs.csv')\n",
    "df"
   ]
  },
  {
   "cell_type": "code",
   "execution_count": 3,
   "metadata": {},
   "outputs": [
    {
     "data": {
      "text/plain": [
       "aposentadoria             69\n",
       "nomeacao                  53\n",
       "exoneracao                49\n",
       "retificacao               38\n",
       "substituicao              37\n",
       "ato_tornado_sem_efeito    16\n",
       "cessao                     9\n",
       "reversao                   1\n",
       "abono_de_permanência       1\n",
       "Name: tipo_ato, dtype: int64"
      ]
     },
     "execution_count": 3,
     "metadata": {},
     "output_type": "execute_result"
    }
   ],
   "source": [
    "df.tipo_ato.value_counts()"
   ]
  },
  {
   "cell_type": "code",
   "execution_count": 4,
   "metadata": {},
   "outputs": [
    {
     "data": {
      "text/plain": [
       "aposentadoria             69\n",
       "nomeacao                  53\n",
       "exoneracao                49\n",
       "retificacao               38\n",
       "substituicao              37\n",
       "ato_tornado_sem_efeito    16\n",
       "cessao                     9\n",
       "Name: tipo_ato, dtype: int64"
      ]
     },
     "execution_count": 4,
     "metadata": {},
     "output_type": "execute_result"
    }
   ],
   "source": [
    "df = df[df.tipo_ato != 'abono_de_permanência']\n",
    "df = df[df.tipo_ato != 'reversao']\n",
    "df.tipo_ato.value_counts()"
   ]
  },
  {
   "cell_type": "markdown",
   "metadata": {},
   "source": [
    "### Criação de listas de atos e tipos de ato, em ordem"
   ]
  },
  {
   "cell_type": "code",
   "execution_count": 6,
   "metadata": {},
   "outputs": [],
   "source": [
    "col_names = ['tipo_ato', 'ato']\n",
    "dt = pd.read_csv('seg_textos/atos_segs.csv', names=col_names)\n",
    "atos = dt.ato.to_list()\n",
    "tipos = dt.tipo_ato.to_list()\n",
    "atos.remove('ato')\n",
    "tipos.remove('tipo_ato')"
   ]
  },
  {
   "cell_type": "markdown",
   "metadata": {},
   "source": [
    "### Retira \\n das instâncias de atos"
   ]
  },
  {
   "cell_type": "code",
   "execution_count": 77,
   "metadata": {},
   "outputs": [],
   "source": [
    "import re\n",
    "\n",
    "at_contiguos = []\n",
    "for ato in atos:\n",
    "    at_contiguos.append(re.sub('\\n', ' ', ato))\n",
    "#at_contiguos"
   ]
  },
  {
   "cell_type": "markdown",
   "metadata": {},
   "source": [
    "### Cria lista de listas de referência\n",
    "\n",
    "infos é uma lista que contém duas outras listas:\n",
    "- tipos\n",
    "- at_contiguos\n",
    "\n",
    "Ela servirá de referência para mapear instâncias"
   ]
  },
  {
   "cell_type": "code",
   "execution_count": 8,
   "metadata": {},
   "outputs": [
    {
     "data": {
      "text/plain": [
       "'exoneracao'"
      ]
     },
     "execution_count": 8,
     "metadata": {},
     "output_type": "execute_result"
    }
   ],
   "source": [
    "infos = []\n",
    "infos.append(tipos)\n",
    "infos.append(at_contiguos)\n",
    "infos\n",
    "\n",
    "infos[0][1]"
   ]
  },
  {
   "cell_type": "markdown",
   "metadata": {},
   "source": [
    "### Função para tokenização"
   ]
  },
  {
   "cell_type": "code",
   "execution_count": 9,
   "metadata": {},
   "outputs": [],
   "source": [
    "tqdm.pandas(desc=\"progress-bar\")\n",
    "# Function for tokenizing\n",
    "def tokenize_text(text):\n",
    "    tokens = []\n",
    "    for sent in nltk.sent_tokenize(text):\n",
    "        for word in nltk.word_tokenize(sent):\n",
    "            if len(word) < 2:\n",
    "                continue\n",
    "            tokens.append(word.lower())\n",
    "    return tokens"
   ]
  },
  {
   "cell_type": "code",
   "execution_count": 10,
   "metadata": {},
   "outputs": [
    {
     "data": {
      "text/plain": [
       "['nomear',\n",
       " 'letícia',\n",
       " 'matos',\n",
       " 'magalhães',\n",
       " 'para',\n",
       " 'exercer',\n",
       " 'cargo',\n",
       " 'em',\n",
       " 'comissão',\n",
       " 'símbolo',\n",
       " 'cc-04',\n",
       " 'código',\n",
       " 'sigrh',\n",
       " 'b0001615',\n",
       " 'de',\n",
       " 'assessor',\n",
       " 'técnico',\n",
       " 'da',\n",
       " 'chefia',\n",
       " 'de',\n",
       " 'gabinete',\n",
       " 'do',\n",
       " 'gabinete',\n",
       " 'do',\n",
       " 'governador']"
      ]
     },
     "execution_count": 10,
     "metadata": {},
     "output_type": "execute_result"
    }
   ],
   "source": [
    "tokenize_text(at_contiguos[0])"
   ]
  },
  {
   "cell_type": "markdown",
   "metadata": {},
   "source": [
    "### Mapear labels"
   ]
  },
  {
   "cell_type": "code",
   "execution_count": 11,
   "metadata": {},
   "outputs": [],
   "source": [
    "possible_labels = dt.tipo_ato.unique()\n",
    "label_dict = {}\n",
    "for index, possible_label in enumerate(possible_labels):\n",
    "    label_dict[possible_label] = index"
   ]
  },
  {
   "cell_type": "code",
   "execution_count": 12,
   "metadata": {},
   "outputs": [
    {
     "data": {
      "text/html": [
       "<div>\n",
       "<style scoped>\n",
       "    .dataframe tbody tr th:only-of-type {\n",
       "        vertical-align: middle;\n",
       "    }\n",
       "\n",
       "    .dataframe tbody tr th {\n",
       "        vertical-align: top;\n",
       "    }\n",
       "\n",
       "    .dataframe thead th {\n",
       "        text-align: right;\n",
       "    }\n",
       "</style>\n",
       "<table border=\"1\" class=\"dataframe\">\n",
       "  <thead>\n",
       "    <tr style=\"text-align: right;\">\n",
       "      <th></th>\n",
       "      <th>tipo_ato</th>\n",
       "      <th>ato</th>\n",
       "      <th>label</th>\n",
       "    </tr>\n",
       "  </thead>\n",
       "  <tbody>\n",
       "    <tr>\n",
       "      <th>0</th>\n",
       "      <td>nomeacao</td>\n",
       "      <td>NOMEAR LETÍCIA MATOS MAGALHÃES para exercer o ...</td>\n",
       "      <td>1</td>\n",
       "    </tr>\n",
       "    <tr>\n",
       "      <th>1</th>\n",
       "      <td>exoneracao</td>\n",
       "      <td>EXONERAR, a pedido, ANNA LUIZA BARCIA HALLEY d...</td>\n",
       "      <td>2</td>\n",
       "    </tr>\n",
       "    <tr>\n",
       "      <th>2</th>\n",
       "      <td>nomeacao</td>\n",
       "      <td>NOMEAR SANDRA TURCATO JORGE TOLENTINO para exe...</td>\n",
       "      <td>1</td>\n",
       "    </tr>\n",
       "    <tr>\n",
       "      <th>3</th>\n",
       "      <td>nomeacao</td>\n",
       "      <td>NOMEAR RAIMUNDO DA COSTA SANTOS NETO, Procurad...</td>\n",
       "      <td>1</td>\n",
       "    </tr>\n",
       "    <tr>\n",
       "      <th>4</th>\n",
       "      <td>ato_tornado_sem_efeito</td>\n",
       "      <td>TORNAR SEM EFEITO no Decreto de 02 de julho de...</td>\n",
       "      <td>3</td>\n",
       "    </tr>\n",
       "    <tr>\n",
       "      <th>...</th>\n",
       "      <td>...</td>\n",
       "      <td>...</td>\n",
       "      <td>...</td>\n",
       "    </tr>\n",
       "    <tr>\n",
       "      <th>268</th>\n",
       "      <td>substituicao</td>\n",
       "      <td>DESIGNAR\\nrespectivamente TEREZA CRISTINA DE A...</td>\n",
       "      <td>5</td>\n",
       "    </tr>\n",
       "    <tr>\n",
       "      <th>269</th>\n",
       "      <td>substituicao</td>\n",
       "      <td>Designar FLÁVIO DE ARAÚJO ALMEIDA, matrícula n...</td>\n",
       "      <td>5</td>\n",
       "    </tr>\n",
       "    <tr>\n",
       "      <th>270</th>\n",
       "      <td>substituicao</td>\n",
       "      <td>DESIGNAR OTAMÁ DANTAS BARRETO, matrícula\\n159....</td>\n",
       "      <td>5</td>\n",
       "    </tr>\n",
       "    <tr>\n",
       "      <th>271</th>\n",
       "      <td>retificacao</td>\n",
       "      <td>RETIFICAR o Sexto Termo\\nAditivo ao Contrato, ...</td>\n",
       "      <td>4</td>\n",
       "    </tr>\n",
       "    <tr>\n",
       "      <th>272</th>\n",
       "      <td>retificacao</td>\n",
       "      <td>RETIFICAR o Primeiro Termo Aditivo (45138948)\\...</td>\n",
       "      <td>4</td>\n",
       "    </tr>\n",
       "  </tbody>\n",
       "</table>\n",
       "<p>271 rows × 3 columns</p>\n",
       "</div>"
      ],
      "text/plain": [
       "                   tipo_ato  \\\n",
       "0                  nomeacao   \n",
       "1                exoneracao   \n",
       "2                  nomeacao   \n",
       "3                  nomeacao   \n",
       "4    ato_tornado_sem_efeito   \n",
       "..                      ...   \n",
       "268            substituicao   \n",
       "269            substituicao   \n",
       "270            substituicao   \n",
       "271             retificacao   \n",
       "272             retificacao   \n",
       "\n",
       "                                                   ato  label  \n",
       "0    NOMEAR LETÍCIA MATOS MAGALHÃES para exercer o ...      1  \n",
       "1    EXONERAR, a pedido, ANNA LUIZA BARCIA HALLEY d...      2  \n",
       "2    NOMEAR SANDRA TURCATO JORGE TOLENTINO para exe...      1  \n",
       "3    NOMEAR RAIMUNDO DA COSTA SANTOS NETO, Procurad...      1  \n",
       "4    TORNAR SEM EFEITO no Decreto de 02 de julho de...      3  \n",
       "..                                                 ...    ...  \n",
       "268  DESIGNAR\\nrespectivamente TEREZA CRISTINA DE A...      5  \n",
       "269  Designar FLÁVIO DE ARAÚJO ALMEIDA, matrícula n...      5  \n",
       "270  DESIGNAR OTAMÁ DANTAS BARRETO, matrícula\\n159....      5  \n",
       "271  RETIFICAR o Sexto Termo\\nAditivo ao Contrato, ...      4  \n",
       "272  RETIFICAR o Primeiro Termo Aditivo (45138948)\\...      4  \n",
       "\n",
       "[271 rows x 3 columns]"
      ]
     },
     "execution_count": 12,
     "metadata": {},
     "output_type": "execute_result"
    }
   ],
   "source": [
    "df['label'] = df.tipo_ato.replace(label_dict)\n",
    "df"
   ]
  },
  {
   "cell_type": "markdown",
   "metadata": {},
   "source": [
    "### Divisão treino e teste para fins de indexação\n",
    "\n",
    "Vamos usar os valores de X_train, X_test, y_train, y_test para popular listas de treino e teste que serão posteriormente usadas em objetos TaggedDocument para usar com doc2vec"
   ]
  },
  {
   "cell_type": "code",
   "execution_count": 50,
   "metadata": {},
   "outputs": [],
   "source": [
    "from sklearn.model_selection import train_test_split\n",
    "\n",
    "X_train, X_test, y_train, y_test = train_test_split(df.index.values, \n",
    "                                                  df.label.values, \n",
    "                                                  test_size=0.25, \n",
    "                                                  random_state=17, \n",
    "                                                  stratify=df.label.values)"
   ]
  },
  {
   "cell_type": "code",
   "execution_count": 51,
   "metadata": {},
   "outputs": [
    {
     "data": {
      "text/plain": [
       "(array([  4, 192,  70, 132,  83, 186,  91, 195,  82,  48, 256,  87,  26,\n",
       "         69, 136, 204,  22, 179,  27, 216,  72, 261,   0,  80, 169, 157,\n",
       "        246, 189, 207, 110,  57, 240, 137,  81, 102, 115, 241, 103,  10,\n",
       "         19, 190,  29,  16, 234, 184, 205, 151, 180,  71,  86, 231,   1,\n",
       "        257,  45, 174, 188, 260, 218, 214, 202, 248,  21, 139, 173,   5,\n",
       "        165,  32,  58, 167, 177,  76,  28,   6,  49, 220, 134,  56,   7,\n",
       "        131, 187, 237, 166,  17, 101, 225, 228, 269, 119,  94, 142, 250,\n",
       "        217, 107,  41, 252,  78,  55, 135, 270,  59, 201, 211,  34, 153,\n",
       "         13,  25, 209,  12, 244,  23,  73,  60, 268,  30,  18,  36,  42,\n",
       "        224, 196, 128,  92, 242, 112,  66, 213,  84, 122, 170,  50, 208,\n",
       "         43,  46,  53, 222,  37,  24,  74,  54, 105, 109, 159, 100, 198,\n",
       "        164, 148, 254, 121, 194,  61, 243, 124, 158, 138, 182, 266, 253,\n",
       "        221, 162, 152, 230, 263, 133,  38,  97,  88,  65, 147,  77,   8,\n",
       "        145, 108, 212, 168, 203, 183, 239,   3, 226, 271,  96,  52, 144,\n",
       "        141, 247, 171,  89, 129,  95, 150, 155, 197, 154, 175, 156, 123,\n",
       "        117, 262, 258, 227, 118,  11,  98,  85]),\n",
       " array([264, 259,  67,  64,  63, 106, 172, 127, 233, 210, 176, 232, 229,\n",
       "        116,  44, 255, 163,  99, 160,   9,  93, 161, 143, 178,  15, 193,\n",
       "         75, 206, 140,  47, 215, 125,   2, 245, 251, 223, 219,  90,  40,\n",
       "         39, 185, 235, 181,  35,  14, 191, 114, 267, 272, 200, 104, 111,\n",
       "         31, 149,  51, 113,  20, 265, 238, 146,  33,  62, 249, 199,  68,\n",
       "        236,  79, 126]),\n",
       " array([3, 4, 6, 4, 7, 1, 7, 5, 7, 1, 4, 7, 1, 6, 5, 5, 2, 2, 1, 4, 6, 5,\n",
       "        1, 7, 2, 2, 7, 4, 3, 7, 2, 7, 5, 7, 7, 7, 7, 7, 2, 1, 4, 3, 2, 7,\n",
       "        3, 5, 2, 2, 6, 7, 7, 2, 4, 2, 1, 1, 5, 4, 4, 4, 7, 1, 5, 2, 1, 2,\n",
       "        1, 1, 2, 2, 3, 1, 3, 2, 5, 5, 1, 3, 3, 2, 7, 1, 1, 7, 7, 7, 5, 7,\n",
       "        7, 5, 7, 4, 7, 2, 4, 5, 2, 5, 5, 2, 2, 4, 1, 2, 1, 2, 4, 2, 7, 1,\n",
       "        6, 3, 5, 2, 2, 1, 1, 7, 5, 4, 7, 7, 7, 4, 4, 7, 5, 1, 1, 3, 2, 1,\n",
       "        2, 7, 2, 2, 4, 1, 7, 7, 2, 7, 6, 1, 1, 4, 5, 4, 1, 7, 4, 1, 5, 1,\n",
       "        4, 4, 3, 1, 1, 7, 4, 5, 1, 7, 7, 1, 2, 5, 2, 5, 7, 4, 1, 5, 3, 7,\n",
       "        1, 7, 4, 7, 1, 5, 5, 7, 2, 7, 4, 7, 1, 2, 6, 1, 2, 1, 5, 7, 5, 4,\n",
       "        7, 7, 2, 7, 7]),\n",
       " array([5, 5, 5, 3, 1, 7, 1, 3, 7, 4, 1, 7, 7, 7, 1, 4, 2, 7, 1, 1, 7, 2,\n",
       "        5, 1, 1, 4, 4, 5, 5, 2, 4, 5, 1, 7, 4, 7, 4, 7, 1, 2, 2, 7, 1, 2,\n",
       "        1, 4, 7, 5, 4, 6, 7, 7, 1, 2, 2, 7, 2, 4, 7, 3, 2, 2, 7, 6, 5, 7,\n",
       "        2, 3]))"
      ]
     },
     "execution_count": 51,
     "metadata": {},
     "output_type": "execute_result"
    }
   ],
   "source": [
    "X_train, X_test, y_train, y_test"
   ]
  },
  {
   "cell_type": "markdown",
   "metadata": {},
   "source": [
    "### Conversão numpy.int64 para int nativo da linguagem"
   ]
  },
  {
   "cell_type": "code",
   "execution_count": 26,
   "metadata": {},
   "outputs": [
    {
     "name": "stdout",
     "output_type": "stream",
     "text": [
      "<class 'numpy.int64'>\n",
      "4\n",
      "<class 'int'>\n"
     ]
    }
   ],
   "source": [
    "print(type(X_train[0]))\n",
    "a = X_train[0].item()\n",
    "print(a)\n",
    "print(type(a))"
   ]
  },
  {
   "cell_type": "code",
   "execution_count": 33,
   "metadata": {},
   "outputs": [
    {
     "name": "stdout",
     "output_type": "stream",
     "text": [
      "4\n",
      "<class 'int'>\n",
      "TORNAR SEM EFEITO no Decreto de 02 de julho de 2020, publicado no DODF nº 124, de 03 de julho de 2020, página 18, o ato que nomeou ERNANY SANTOS DE ALMEIDA para exercer o Cargo Público de Natureza Especial, Símbolo CPE-02, código SIGRH 65260137, de Subsecretário, da Subsecretaria de Planejamento, Acompanhamento e Avaliação, da Secretaria de Estado de Educação do Distrito Federal.\n",
      "<class 'str'>\n",
      "3\n",
      "<class 'int'>\n"
     ]
    }
   ],
   "source": [
    "index_doc = X_train[0].item()\n",
    "print(index_doc)\n",
    "print(type(index_doc))\n",
    "doc = at_contiguos[index_doc]\n",
    "print(doc)\n",
    "print(type(doc))\n",
    "tag = y_train[0].item()\n",
    "print(tag)\n",
    "print(type(tag))"
   ]
  },
  {
   "cell_type": "code",
   "execution_count": 78,
   "metadata": {},
   "outputs": [],
   "source": [
    "# Initializing the variables\n",
    "train_documents = []\n",
    "test_documents = []\n",
    "\n",
    "j = 0\n",
    "for i in X_train:\n",
    "    index_doc = i.item()\n",
    "    doc = at_contiguos[index_doc]\n",
    "    tag = y_train[j].item()\n",
    "    train_documents.append(TaggedDocument(words=tokenize_text(doc), tags=[tag]))\n",
    "    j+=1\n",
    "\n",
    "j = 0\n",
    "for i in X_test:\n",
    "    index_doc = i.item()\n",
    "    doc = at_contiguos[index_doc]\n",
    "    tag = y_test[j].item()\n",
    "    test_documents.append(TaggedDocument(words=tokenize_text(doc), tags=[tag]))\n",
    "    j+=1"
   ]
  },
  {
   "cell_type": "code",
   "execution_count": 68,
   "metadata": {},
   "outputs": [
    {
     "data": {
      "text/plain": [
       "TaggedDocument(words=['designar', 'servidora', 'rosângela', 'davi', 'de', 'carvalho', 'matrícula', 'nº', '387.606', 'técnico', 'em', 'políticas', 'públicas', 'gestão', 'governamental', 'para', 'substituir', 'sem', 'acumular', 'vencimentos', 'sem', 'prejuízos', 'de', 'suas', 'atribuições', 'servidora', 'eliane', 'delfino', 'matrícula', 'nº', '0166951-1', 'gerente', 'da', 'gerência', 'de', 'pessoas', 'da', 'coordenação', 'de', 'administração', 'geral', 'da', 'administração', 'regional', 'do', 'paranoá', 'símbolo', 'cpc-08', 'no', 'período', 'de', '16', '25', 'de', 'novembro', 'de', '2020', 'referente', 'ao', 'período', 'de', 'férias', 'da', 'titular'], tags=[5])"
      ]
     },
     "execution_count": 68,
     "metadata": {},
     "output_type": "execute_result"
    }
   ],
   "source": [
    "train_documents[7]"
   ]
  },
  {
   "cell_type": "markdown",
   "metadata": {},
   "source": [
    "### Modelo doc2vec\n",
    "- Instanciação\n",
    "- Divisão treino e teste para uso no modelo em si\n",
    "- Utilização do modelo com LogisticRegression"
   ]
  },
  {
   "cell_type": "code",
   "execution_count": 69,
   "metadata": {},
   "outputs": [
    {
     "name": "stderr",
     "output_type": "stream",
     "text": [
      "100%|██████████| 203/203 [00:00<00:00, 393458.28it/s]\n"
     ]
    }
   ],
   "source": [
    "cores = multiprocessing.cpu_count()\n",
    "\n",
    "model_dbow = Doc2Vec(dm=1, vector_size=100, negative=5, hs=0, min_count=2, sample = 0, workers=cores, alpha=0.025, min_alpha=0.001)\n",
    "model_dbow.build_vocab([x for x in tqdm(train_documents)])\n",
    "train_documents  = utils.shuffle(train_documents)\n",
    "model_dbow.train(train_documents,total_examples=len(train_documents), epochs=30)\n",
    "\n",
    "def vector_for_learning(model, input_docs):\n",
    "    sents = input_docs\n",
    "    targets, feature_vectors = zip(*[(doc.tags, model.infer_vector(doc.words, steps=20)) for doc in sents])\n",
    "    return targets, feature_vectors\n",
    "\n",
    "model_dbow.save('./actModel.d2v')"
   ]
  },
  {
   "cell_type": "code",
   "execution_count": 70,
   "metadata": {},
   "outputs": [],
   "source": [
    "y_train_model, X_train_model = vector_for_learning(model_dbow, train_documents)\n",
    "y_test_model, X_test_model = vector_for_learning(model_dbow, test_documents)"
   ]
  },
  {
   "cell_type": "code",
   "execution_count": 76,
   "metadata": {},
   "outputs": [
    {
     "name": "stdout",
     "output_type": "stream",
     "text": [
      "Testing accuracy for movie plots0.8088235294117647\n",
      "Testing F1 score for movie plots: 0.8107609710550887\n"
     ]
    },
    {
     "name": "stderr",
     "output_type": "stream",
     "text": [
      "/home/mstauffer/.local/lib/python3.6/site-packages/sklearn/utils/validation.py:73: DataConversionWarning: A column-vector y was passed when a 1d array was expected. Please change the shape of y to (n_samples, ), for example using ravel().\n",
      "  return f(**kwargs)\n",
      "/home/mstauffer/.local/lib/python3.6/site-packages/sklearn/linear_model/_logistic.py:764: ConvergenceWarning: lbfgs failed to converge (status=1):\n",
      "STOP: TOTAL NO. of ITERATIONS REACHED LIMIT.\n",
      "\n",
      "Increase the number of iterations (max_iter) or scale the data as shown in:\n",
      "    https://scikit-learn.org/stable/modules/preprocessing.html\n",
      "Please also refer to the documentation for alternative solver options:\n",
      "    https://scikit-learn.org/stable/modules/linear_model.html#logistic-regression\n",
      "  extra_warning_msg=_LOGISTIC_SOLVER_CONVERGENCE_MSG)\n"
     ]
    }
   ],
   "source": [
    "logreg = LogisticRegression(n_jobs=1, C=1e5)\n",
    "logreg.fit(X_train_model, y_train_model)\n",
    "y_pred = logreg.predict(X_test_model)\n",
    "print('Testing accuracy for movie plots%s' % accuracy_score(y_test_model, y_pred))\n",
    "print('Testing F1 score for movie plots: {}'.format(f1_score(y_test_model, y_pred, average='weighted')))"
   ]
  }
 ],
 "metadata": {
  "kernelspec": {
   "display_name": "Python 3",
   "language": "python",
   "name": "python3"
  },
  "language_info": {
   "codemirror_mode": {
    "name": "ipython",
    "version": 3
   },
   "file_extension": ".py",
   "mimetype": "text/x-python",
   "name": "python",
   "nbconvert_exporter": "python",
   "pygments_lexer": "ipython3",
   "version": "3.6.9"
  }
 },
 "nbformat": 4,
 "nbformat_minor": 4
}
