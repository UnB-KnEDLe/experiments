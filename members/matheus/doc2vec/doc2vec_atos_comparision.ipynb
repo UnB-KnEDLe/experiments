{
 "cells": [
  {
   "cell_type": "markdown",
   "metadata": {},
   "source": [
    "# Experimento Doc2Vec - TFIDF\n",
    "\n",
    "O objetivo aqui é usar doc2vec para classificação multi-classe no mini-dataset de atos/classes gerado após teste no ezTag. O resultado será comparado com uma representação textual TFIDF; ambos os casos serão testados com SVM e Logistic Regression.\n",
    "\n",
    "Fontes principais:\n",
    "- https://towardsdatascience.com/implementing-multi-class-text-classification-with-doc2vec-df7c3812824d\n",
    "- https://github.com/UnB-KnEDLe/experiments/blob/master/members/matheus/BioC_XML_to_conll.ipynb\n",
    "- https://scikit-learn.org/stable/modules/generated/sklearn.linear_model.LogisticRegression.html\n",
    "- https://scikit-learn.org/stable/modules/generated/sklearn.svm.LinearSVC.html\n",
    "- https://scikit-learn.org/stable/modules/generated/sklearn.feature_extraction.text.TfidfVectorizer.html"
   ]
  },
  {
   "cell_type": "markdown",
   "metadata": {},
   "source": [
    "### Import de packages"
   ]
  },
  {
   "cell_type": "code",
   "execution_count": 1,
   "metadata": {},
   "outputs": [],
   "source": [
    "from gensim.test.utils import common_texts\n",
    "from gensim.models.doc2vec import Doc2Vec, TaggedDocument\n",
    "from sklearn.metrics import accuracy_score, f1_score\n",
    "from sklearn.model_selection import train_test_split\n",
    "from sklearn.linear_model import LogisticRegression\n",
    "from sklearn import utils\n",
    "from tqdm import tqdm\n",
    "import multiprocessing\n",
    "import nltk"
   ]
  },
  {
   "cell_type": "markdown",
   "metadata": {},
   "source": [
    "### Mini-Dataset de atos\n",
    "- Instanciação em memória\n",
    "- Retirada de classes com apenas 1 instância"
   ]
  },
  {
   "cell_type": "code",
   "execution_count": 2,
   "metadata": {},
   "outputs": [
    {
     "data": {
      "text/html": [
       "<div>\n",
       "<style scoped>\n",
       "    .dataframe tbody tr th:only-of-type {\n",
       "        vertical-align: middle;\n",
       "    }\n",
       "\n",
       "    .dataframe tbody tr th {\n",
       "        vertical-align: top;\n",
       "    }\n",
       "\n",
       "    .dataframe thead th {\n",
       "        text-align: right;\n",
       "    }\n",
       "</style>\n",
       "<table border=\"1\" class=\"dataframe\">\n",
       "  <thead>\n",
       "    <tr style=\"text-align: right;\">\n",
       "      <th></th>\n",
       "      <th>tipo_ato</th>\n",
       "      <th>ato</th>\n",
       "    </tr>\n",
       "  </thead>\n",
       "  <tbody>\n",
       "    <tr>\n",
       "      <th>0</th>\n",
       "      <td>nomeacao</td>\n",
       "      <td>NOMEAR LETÍCIA MATOS MAGALHÃES para exercer o ...</td>\n",
       "    </tr>\n",
       "    <tr>\n",
       "      <th>1</th>\n",
       "      <td>exoneracao</td>\n",
       "      <td>EXONERAR, a pedido, ANNA LUIZA BARCIA HALLEY d...</td>\n",
       "    </tr>\n",
       "    <tr>\n",
       "      <th>2</th>\n",
       "      <td>nomeacao</td>\n",
       "      <td>NOMEAR SANDRA TURCATO JORGE TOLENTINO para exe...</td>\n",
       "    </tr>\n",
       "    <tr>\n",
       "      <th>3</th>\n",
       "      <td>nomeacao</td>\n",
       "      <td>NOMEAR RAIMUNDO DA COSTA SANTOS NETO, Procurad...</td>\n",
       "    </tr>\n",
       "    <tr>\n",
       "      <th>4</th>\n",
       "      <td>ato_tornado_sem_efeito</td>\n",
       "      <td>TORNAR SEM EFEITO no Decreto de 02 de julho de...</td>\n",
       "    </tr>\n",
       "    <tr>\n",
       "      <th>...</th>\n",
       "      <td>...</td>\n",
       "      <td>...</td>\n",
       "    </tr>\n",
       "    <tr>\n",
       "      <th>268</th>\n",
       "      <td>substituicao</td>\n",
       "      <td>DESIGNAR\\nrespectivamente TEREZA CRISTINA DE A...</td>\n",
       "    </tr>\n",
       "    <tr>\n",
       "      <th>269</th>\n",
       "      <td>substituicao</td>\n",
       "      <td>Designar FLÁVIO DE ARAÚJO ALMEIDA, matrícula n...</td>\n",
       "    </tr>\n",
       "    <tr>\n",
       "      <th>270</th>\n",
       "      <td>substituicao</td>\n",
       "      <td>DESIGNAR OTAMÁ DANTAS BARRETO, matrícula\\n159....</td>\n",
       "    </tr>\n",
       "    <tr>\n",
       "      <th>271</th>\n",
       "      <td>retificacao</td>\n",
       "      <td>RETIFICAR o Sexto Termo\\nAditivo ao Contrato, ...</td>\n",
       "    </tr>\n",
       "    <tr>\n",
       "      <th>272</th>\n",
       "      <td>retificacao</td>\n",
       "      <td>RETIFICAR o Primeiro Termo Aditivo (45138948)\\...</td>\n",
       "    </tr>\n",
       "  </tbody>\n",
       "</table>\n",
       "<p>273 rows × 2 columns</p>\n",
       "</div>"
      ],
      "text/plain": [
       "                   tipo_ato                                                ato\n",
       "0                  nomeacao  NOMEAR LETÍCIA MATOS MAGALHÃES para exercer o ...\n",
       "1                exoneracao  EXONERAR, a pedido, ANNA LUIZA BARCIA HALLEY d...\n",
       "2                  nomeacao  NOMEAR SANDRA TURCATO JORGE TOLENTINO para exe...\n",
       "3                  nomeacao  NOMEAR RAIMUNDO DA COSTA SANTOS NETO, Procurad...\n",
       "4    ato_tornado_sem_efeito  TORNAR SEM EFEITO no Decreto de 02 de julho de...\n",
       "..                      ...                                                ...\n",
       "268            substituicao  DESIGNAR\\nrespectivamente TEREZA CRISTINA DE A...\n",
       "269            substituicao  Designar FLÁVIO DE ARAÚJO ALMEIDA, matrícula n...\n",
       "270            substituicao  DESIGNAR OTAMÁ DANTAS BARRETO, matrícula\\n159....\n",
       "271             retificacao  RETIFICAR o Sexto Termo\\nAditivo ao Contrato, ...\n",
       "272             retificacao  RETIFICAR o Primeiro Termo Aditivo (45138948)\\...\n",
       "\n",
       "[273 rows x 2 columns]"
      ]
     },
     "execution_count": 2,
     "metadata": {},
     "output_type": "execute_result"
    }
   ],
   "source": [
    "import pandas as pd\n",
    "\n",
    "df = pd.read_csv('/home/mstauffer/Documentos/UnB/9º Semestre/KnEDle/seg_textos/atos_segs.csv')\n",
    "df"
   ]
  },
  {
   "cell_type": "code",
   "execution_count": 3,
   "metadata": {},
   "outputs": [
    {
     "data": {
      "text/plain": [
       "aposentadoria             69\n",
       "nomeacao                  53\n",
       "exoneracao                49\n",
       "retificacao               38\n",
       "substituicao              37\n",
       "ato_tornado_sem_efeito    16\n",
       "cessao                     9\n",
       "abono_de_permanência       1\n",
       "reversao                   1\n",
       "Name: tipo_ato, dtype: int64"
      ]
     },
     "execution_count": 3,
     "metadata": {},
     "output_type": "execute_result"
    }
   ],
   "source": [
    "df.tipo_ato.value_counts()"
   ]
  },
  {
   "cell_type": "code",
   "execution_count": 4,
   "metadata": {},
   "outputs": [
    {
     "data": {
      "text/plain": [
       "aposentadoria             69\n",
       "nomeacao                  53\n",
       "exoneracao                49\n",
       "retificacao               38\n",
       "substituicao              37\n",
       "ato_tornado_sem_efeito    16\n",
       "cessao                     9\n",
       "Name: tipo_ato, dtype: int64"
      ]
     },
     "execution_count": 4,
     "metadata": {},
     "output_type": "execute_result"
    }
   ],
   "source": [
    "df = df[df.tipo_ato != 'abono_de_permanência']\n",
    "df = df[df.tipo_ato != 'reversao']\n",
    "df.tipo_ato.value_counts()"
   ]
  },
  {
   "cell_type": "markdown",
   "metadata": {},
   "source": [
    "### Criação de listas de atos e tipos de ato, em ordem"
   ]
  },
  {
   "cell_type": "code",
   "execution_count": 5,
   "metadata": {},
   "outputs": [],
   "source": [
    "atos = df.ato.to_list()\n",
    "tipos = df.tipo_ato.to_list()"
   ]
  },
  {
   "cell_type": "code",
   "execution_count": 6,
   "metadata": {},
   "outputs": [
    {
     "data": {
      "text/plain": [
       "(271, 271)"
      ]
     },
     "execution_count": 6,
     "metadata": {},
     "output_type": "execute_result"
    }
   ],
   "source": [
    "len(atos), len(tipos)"
   ]
  },
  {
   "cell_type": "markdown",
   "metadata": {},
   "source": [
    "### Retira \\n das instâncias de atos"
   ]
  },
  {
   "cell_type": "code",
   "execution_count": 7,
   "metadata": {},
   "outputs": [],
   "source": [
    "import re\n",
    "\n",
    "at_contiguos = []\n",
    "for ato in atos:\n",
    "    at_contiguos.append(re.sub('\\n', ' ', ato))\n",
    "#at_contiguos"
   ]
  },
  {
   "cell_type": "code",
   "execution_count": 8,
   "metadata": {},
   "outputs": [
    {
     "data": {
      "text/plain": [
       "271"
      ]
     },
     "execution_count": 8,
     "metadata": {},
     "output_type": "execute_result"
    }
   ],
   "source": [
    "len(at_contiguos)"
   ]
  },
  {
   "cell_type": "markdown",
   "metadata": {},
   "source": [
    "### Cria lista de listas de referência\n",
    "\n",
    "infos é uma lista que contém duas outras listas:\n",
    "- tipos\n",
    "- at_contiguos\n",
    "\n",
    "Ela servirá de referência para mapear instâncias"
   ]
  },
  {
   "cell_type": "code",
   "execution_count": 9,
   "metadata": {},
   "outputs": [
    {
     "data": {
      "text/plain": [
       "'exoneracao'"
      ]
     },
     "execution_count": 9,
     "metadata": {},
     "output_type": "execute_result"
    }
   ],
   "source": [
    "infos = []\n",
    "infos.append(tipos)\n",
    "infos.append(at_contiguos)\n",
    "infos\n",
    "\n",
    "infos[0][1]"
   ]
  },
  {
   "cell_type": "code",
   "execution_count": 10,
   "metadata": {},
   "outputs": [
    {
     "data": {
      "text/plain": [
       "('nomeacao',\n",
       " 'NOMEAR LETÍCIA MATOS MAGALHÃES para exercer o Cargo em Comissão, Símbolo CC-04, código SIGRH B0001615, de Assessor Técnico, da Chefia de Gabinete, do Gabinete do Governador.')"
      ]
     },
     "execution_count": 10,
     "metadata": {},
     "output_type": "execute_result"
    }
   ],
   "source": [
    "i = 0\n",
    "infos[0][i], infos[1][i]"
   ]
  },
  {
   "cell_type": "markdown",
   "metadata": {},
   "source": [
    "### Função para tokenização"
   ]
  },
  {
   "cell_type": "code",
   "execution_count": 11,
   "metadata": {},
   "outputs": [],
   "source": [
    "tqdm.pandas(desc=\"progress-bar\")\n",
    "# Function for tokenizing\n",
    "def tokenize_text(text):\n",
    "    tokens = []\n",
    "    for sent in nltk.sent_tokenize(text):\n",
    "        for word in nltk.word_tokenize(sent):\n",
    "            if len(word) < 2:\n",
    "                continue\n",
    "            tokens.append(word.lower())\n",
    "    return tokens"
   ]
  },
  {
   "cell_type": "markdown",
   "metadata": {},
   "source": [
    "### Mapeia labels"
   ]
  },
  {
   "cell_type": "code",
   "execution_count": 12,
   "metadata": {},
   "outputs": [],
   "source": [
    "possible_labels = df.tipo_ato.unique()\n",
    "label_dict = {}\n",
    "for index, possible_label in enumerate(possible_labels):\n",
    "    label_dict[possible_label] = index"
   ]
  },
  {
   "cell_type": "code",
   "execution_count": 13,
   "metadata": {},
   "outputs": [
    {
     "data": {
      "text/html": [
       "<div>\n",
       "<style scoped>\n",
       "    .dataframe tbody tr th:only-of-type {\n",
       "        vertical-align: middle;\n",
       "    }\n",
       "\n",
       "    .dataframe tbody tr th {\n",
       "        vertical-align: top;\n",
       "    }\n",
       "\n",
       "    .dataframe thead th {\n",
       "        text-align: right;\n",
       "    }\n",
       "</style>\n",
       "<table border=\"1\" class=\"dataframe\">\n",
       "  <thead>\n",
       "    <tr style=\"text-align: right;\">\n",
       "      <th></th>\n",
       "      <th>tipo_ato</th>\n",
       "      <th>ato</th>\n",
       "      <th>label</th>\n",
       "    </tr>\n",
       "  </thead>\n",
       "  <tbody>\n",
       "    <tr>\n",
       "      <th>0</th>\n",
       "      <td>nomeacao</td>\n",
       "      <td>NOMEAR LETÍCIA MATOS MAGALHÃES para exercer o ...</td>\n",
       "      <td>0</td>\n",
       "    </tr>\n",
       "    <tr>\n",
       "      <th>1</th>\n",
       "      <td>exoneracao</td>\n",
       "      <td>EXONERAR, a pedido, ANNA LUIZA BARCIA HALLEY d...</td>\n",
       "      <td>1</td>\n",
       "    </tr>\n",
       "    <tr>\n",
       "      <th>2</th>\n",
       "      <td>nomeacao</td>\n",
       "      <td>NOMEAR SANDRA TURCATO JORGE TOLENTINO para exe...</td>\n",
       "      <td>0</td>\n",
       "    </tr>\n",
       "    <tr>\n",
       "      <th>3</th>\n",
       "      <td>nomeacao</td>\n",
       "      <td>NOMEAR RAIMUNDO DA COSTA SANTOS NETO, Procurad...</td>\n",
       "      <td>0</td>\n",
       "    </tr>\n",
       "    <tr>\n",
       "      <th>4</th>\n",
       "      <td>ato_tornado_sem_efeito</td>\n",
       "      <td>TORNAR SEM EFEITO no Decreto de 02 de julho de...</td>\n",
       "      <td>2</td>\n",
       "    </tr>\n",
       "    <tr>\n",
       "      <th>...</th>\n",
       "      <td>...</td>\n",
       "      <td>...</td>\n",
       "      <td>...</td>\n",
       "    </tr>\n",
       "    <tr>\n",
       "      <th>268</th>\n",
       "      <td>substituicao</td>\n",
       "      <td>DESIGNAR\\nrespectivamente TEREZA CRISTINA DE A...</td>\n",
       "      <td>4</td>\n",
       "    </tr>\n",
       "    <tr>\n",
       "      <th>269</th>\n",
       "      <td>substituicao</td>\n",
       "      <td>Designar FLÁVIO DE ARAÚJO ALMEIDA, matrícula n...</td>\n",
       "      <td>4</td>\n",
       "    </tr>\n",
       "    <tr>\n",
       "      <th>270</th>\n",
       "      <td>substituicao</td>\n",
       "      <td>DESIGNAR OTAMÁ DANTAS BARRETO, matrícula\\n159....</td>\n",
       "      <td>4</td>\n",
       "    </tr>\n",
       "    <tr>\n",
       "      <th>271</th>\n",
       "      <td>retificacao</td>\n",
       "      <td>RETIFICAR o Sexto Termo\\nAditivo ao Contrato, ...</td>\n",
       "      <td>3</td>\n",
       "    </tr>\n",
       "    <tr>\n",
       "      <th>272</th>\n",
       "      <td>retificacao</td>\n",
       "      <td>RETIFICAR o Primeiro Termo Aditivo (45138948)\\...</td>\n",
       "      <td>3</td>\n",
       "    </tr>\n",
       "  </tbody>\n",
       "</table>\n",
       "<p>271 rows × 3 columns</p>\n",
       "</div>"
      ],
      "text/plain": [
       "                   tipo_ato  \\\n",
       "0                  nomeacao   \n",
       "1                exoneracao   \n",
       "2                  nomeacao   \n",
       "3                  nomeacao   \n",
       "4    ato_tornado_sem_efeito   \n",
       "..                      ...   \n",
       "268            substituicao   \n",
       "269            substituicao   \n",
       "270            substituicao   \n",
       "271             retificacao   \n",
       "272             retificacao   \n",
       "\n",
       "                                                   ato  label  \n",
       "0    NOMEAR LETÍCIA MATOS MAGALHÃES para exercer o ...      0  \n",
       "1    EXONERAR, a pedido, ANNA LUIZA BARCIA HALLEY d...      1  \n",
       "2    NOMEAR SANDRA TURCATO JORGE TOLENTINO para exe...      0  \n",
       "3    NOMEAR RAIMUNDO DA COSTA SANTOS NETO, Procurad...      0  \n",
       "4    TORNAR SEM EFEITO no Decreto de 02 de julho de...      2  \n",
       "..                                                 ...    ...  \n",
       "268  DESIGNAR\\nrespectivamente TEREZA CRISTINA DE A...      4  \n",
       "269  Designar FLÁVIO DE ARAÚJO ALMEIDA, matrícula n...      4  \n",
       "270  DESIGNAR OTAMÁ DANTAS BARRETO, matrícula\\n159....      4  \n",
       "271  RETIFICAR o Sexto Termo\\nAditivo ao Contrato, ...      3  \n",
       "272  RETIFICAR o Primeiro Termo Aditivo (45138948)\\...      3  \n",
       "\n",
       "[271 rows x 3 columns]"
      ]
     },
     "execution_count": 13,
     "metadata": {},
     "output_type": "execute_result"
    }
   ],
   "source": [
    "df['label'] = df.tipo_ato.replace(label_dict)\n",
    "df"
   ]
  },
  {
   "cell_type": "markdown",
   "metadata": {},
   "source": [
    "### Divisão treino e teste para fins de indexação do modelo doc2vec"
   ]
  },
  {
   "cell_type": "code",
   "execution_count": 14,
   "metadata": {},
   "outputs": [],
   "source": [
    "from sklearn.model_selection import train_test_split\n",
    "\n",
    "X_train, X_test, y_train, y_test = train_test_split(df.ato.values, \n",
    "                                                  df.label.values, \n",
    "                                                  test_size=0.25, \n",
    "                                                  random_state=14, \n",
    "                                                  stratify=df.label.values)"
   ]
  },
  {
   "cell_type": "code",
   "execution_count": 15,
   "metadata": {},
   "outputs": [],
   "source": [
    "#X_train, X_test, y_train, y_test"
   ]
  },
  {
   "cell_type": "code",
   "execution_count": 16,
   "metadata": {},
   "outputs": [
    {
     "data": {
      "text/plain": [
       "('nomeacao',\n",
       " 'NOMEAR LETÍCIA MATOS MAGALHÃES para exercer o Cargo em Comissão, Símbolo CC-04, código SIGRH B0001615, de Assessor Técnico, da Chefia de Gabinete, do Gabinete do Governador.',\n",
       " 271)"
      ]
     },
     "execution_count": 16,
     "metadata": {},
     "output_type": "execute_result"
    }
   ],
   "source": [
    "infos[0][0], infos[1][0], len(infos[0])"
   ]
  },
  {
   "cell_type": "code",
   "execution_count": 17,
   "metadata": {},
   "outputs": [
    {
     "data": {
      "text/plain": [
       "('nomeacao',\n",
       " 'NOMEAR LETÍCIA MATOS MAGALHÃES para exercer o Cargo em Comissão, Símbolo CC-04, código SIGRH B0001615, de Assessor Técnico, da Chefia de Gabinete, do Gabinete do Governador.')"
      ]
     },
     "execution_count": 17,
     "metadata": {},
     "output_type": "execute_result"
    }
   ],
   "source": [
    "i = 0\n",
    "infos[0][i], infos[1][i]"
   ]
  },
  {
   "cell_type": "code",
   "execution_count": 18,
   "metadata": {},
   "outputs": [],
   "source": [
    "# Initializing the variables\n",
    "train_documents = []\n",
    "test_documents = []\n",
    "\n",
    "j = 0\n",
    "for i in X_train:\n",
    "    tag = y_train[j].item()\n",
    "    train_documents.append(TaggedDocument(words=tokenize_text(i), tags=[tag]))\n",
    "    j+=1\n",
    "\n",
    "j = 0\n",
    "for i in X_test:\n",
    "    tag = y_test[j].item()\n",
    "    test_documents.append(TaggedDocument(words=tokenize_text(i), tags=[tag]))\n",
    "    j+=1"
   ]
  },
  {
   "cell_type": "code",
   "execution_count": 19,
   "metadata": {
    "scrolled": true
   },
   "outputs": [
    {
     "data": {
      "text/plain": [
       "TaggedDocument(words=['exonerar', 'por', 'estar', 'sendo', 'nomeada', 'para', 'outro', 'cargo', 'karla', 'neres', 'de', 'laet', 'santana', 'do', 'cargo', 'em', 'comissão', 'símbolo', 'cc-06', 'código', 'sigrh', '07200232', 'de', 'assessor', 'do', 'gabinete', 'da', 'administração', 'regional', 'do', 'plano', 'piloto', 'do', 'distrito', 'federal'], tags=[1])"
      ]
     },
     "execution_count": 19,
     "metadata": {},
     "output_type": "execute_result"
    }
   ],
   "source": [
    "train_documents[7]"
   ]
  },
  {
   "cell_type": "markdown",
   "metadata": {},
   "source": [
    "### Modelo doc2vec\n",
    "- Instanciação\n",
    "- Divisão treino e teste para uso no modelo em si\n",
    "- Utilização do modelo com LogisticRegression"
   ]
  },
  {
   "cell_type": "code",
   "execution_count": 20,
   "metadata": {},
   "outputs": [
    {
     "name": "stderr",
     "output_type": "stream",
     "text": [
      "100%|██████████| 203/203 [00:00<00:00, 181351.16it/s]\n"
     ]
    }
   ],
   "source": [
    "cores = multiprocessing.cpu_count()\n",
    "\n",
    "model_dbow = Doc2Vec(dm=1, vector_size=100, negative=5, hs=0, min_count=2, sample = 0, workers=cores, alpha=0.025, min_alpha=0.001)\n",
    "model_dbow.build_vocab([x for x in tqdm(train_documents)])\n",
    "train_documents  = utils.shuffle(train_documents)\n",
    "model_dbow.train(train_documents,total_examples=len(train_documents), epochs=30)\n",
    "\n",
    "def vector_for_learning(model, input_docs):\n",
    "    sents = input_docs\n",
    "    targets, feature_vectors = zip(*[(doc.tags, model.infer_vector(doc.words, steps=20)) for doc in sents])\n",
    "    return targets, feature_vectors\n",
    "\n",
    "model_dbow.save('./actModel.d2v')"
   ]
  },
  {
   "cell_type": "code",
   "execution_count": 21,
   "metadata": {},
   "outputs": [
    {
     "data": {
      "text/plain": [
       "203"
      ]
     },
     "execution_count": 21,
     "metadata": {},
     "output_type": "execute_result"
    }
   ],
   "source": [
    "len(train_documents)"
   ]
  },
  {
   "cell_type": "code",
   "execution_count": 22,
   "metadata": {},
   "outputs": [],
   "source": [
    "y_train_model, X_train_model = vector_for_learning(model_dbow, train_documents)\n",
    "y_test_model, X_test_model = vector_for_learning(model_dbow, test_documents)"
   ]
  },
  {
   "cell_type": "markdown",
   "metadata": {},
   "source": [
    "As duas células abaixo são usadas para prevenir o seguinte: `DataConversionWarning: A column-vector y was passed when a 1d array was expected. Please change the shape of y to (n_samples,), for example using ravel().`\n",
    "O método ravel() converte o shape do array para (n,). Ainda assim o warning persiste!"
   ]
  },
  {
   "cell_type": "code",
   "execution_count": 23,
   "metadata": {},
   "outputs": [],
   "source": [
    "y_resampled = pd.DataFrame(y_test_model)\n",
    "#y_resampled.values, type(y_resampled)"
   ]
  },
  {
   "cell_type": "code",
   "execution_count": 24,
   "metadata": {},
   "outputs": [
    {
     "data": {
      "text/plain": [
       "(68,)"
      ]
     },
     "execution_count": 24,
     "metadata": {},
     "output_type": "execute_result"
    }
   ],
   "source": [
    "vai = y_resampled.values\n",
    "vai = vai.ravel()\n",
    "vai.shape"
   ]
  },
  {
   "cell_type": "code",
   "execution_count": 25,
   "metadata": {},
   "outputs": [
    {
     "name": "stderr",
     "output_type": "stream",
     "text": [
      "/home/mstauffer/.local/lib/python3.6/site-packages/sklearn/utils/validation.py:72: DataConversionWarning: A column-vector y was passed when a 1d array was expected. Please change the shape of y to (n_samples, ), for example using ravel().\n",
      "  return f(**kwargs)\n"
     ]
    },
    {
     "name": "stdout",
     "output_type": "stream",
     "text": [
      "Testing accuracy for acts 0.8676470588235294\n",
      "Testing F1 score for acts: 0.8590922855628739\n"
     ]
    }
   ],
   "source": [
    "#logreg = LogisticRegression(n_jobs=1, C=1e5, max_iter=300000)\n",
    "logreg = LogisticRegression(max_iter=300000)\n",
    "logreg.fit(X_train_model, y_train_model)\n",
    "y_pred_d2v_reg = logreg.predict(X_test_model)\n",
    "#print('Testing accuracy for acts %s' % accuracy_score(y_test_model, y_pred))\n",
    "print('Testing accuracy for acts %s' % accuracy_score(vai, y_pred_d2v_reg))\n",
    "#print('Testing F1 score for acts: {}'.format(f1_score(y_test_model, y_pred, average='weighted')))\n",
    "print('Testing F1 score for acts: {}'.format(f1_score(vai, y_pred_d2v_reg, average='weighted')))"
   ]
  },
  {
   "cell_type": "code",
   "execution_count": 26,
   "metadata": {},
   "outputs": [
    {
     "name": "stderr",
     "output_type": "stream",
     "text": [
      "/home/mstauffer/.local/lib/python3.6/site-packages/sklearn/utils/validation.py:72: DataConversionWarning: A column-vector y was passed when a 1d array was expected. Please change the shape of y to (n_samples, ), for example using ravel().\n",
      "  return f(**kwargs)\n"
     ]
    }
   ],
   "source": [
    "from sklearn.svm import LinearSVC\n",
    "\n",
    "svm_model_d2v = LinearSVC(max_iter=10000)\n",
    "svm_model_d2v.fit(X_train_model, y_train_model)\n",
    "svm_prediction_d2v = svm_model_d2v.predict(X_test_model)"
   ]
  },
  {
   "cell_type": "markdown",
   "metadata": {},
   "source": [
    "### TFIDF + SVM"
   ]
  },
  {
   "cell_type": "markdown",
   "metadata": {},
   "source": [
    "O primeiro passo é instanciar um objeto Tfidfvectorizer e gerar os vetores para o nosso corpus. A lista infos, que geramos algumas células atrás, é uma lista de 2 listas, que indexam em ordem label/texto de ato. Para gerar os vetores, vamos usar a lista dos textos de atos, infos[1].\n",
    "- https://scikit-learn.org/stable/modules/generated/sklearn.feature_extraction.text.TfidfVectorizer.html"
   ]
  },
  {
   "cell_type": "code",
   "execution_count": 27,
   "metadata": {},
   "outputs": [
    {
     "name": "stdout",
     "output_type": "stream",
     "text": [
      "(271, 1933)\n"
     ]
    }
   ],
   "source": [
    "from sklearn.feature_extraction.text import TfidfVectorizer\n",
    "\n",
    "vectorizer = TfidfVectorizer()\n",
    "X = vectorizer.fit_transform(infos[1])\n",
    "#print(vectorizer.get_feature_names())\n",
    "print(X.shape)"
   ]
  },
  {
   "cell_type": "markdown",
   "metadata": {},
   "source": [
    "Para os labels, vamos usar a coluna label do dataframe, gerada ao mapear os valores de infos[0], a lista de labels em ordem, para valores inteiros em um dict."
   ]
  },
  {
   "cell_type": "code",
   "execution_count": 28,
   "metadata": {},
   "outputs": [
    {
     "data": {
      "text/plain": [
       "(271,)"
      ]
     },
     "execution_count": 28,
     "metadata": {},
     "output_type": "execute_result"
    }
   ],
   "source": [
    "labels = df['label']\n",
    "labels.shape"
   ]
  },
  {
   "cell_type": "markdown",
   "metadata": {},
   "source": [
    "Agora vamos dividir o corpus em treino e teste. Vamos usar como input X os vetores criados; usaremos o mesmo random state da divisão para o doc2vec."
   ]
  },
  {
   "cell_type": "code",
   "execution_count": 29,
   "metadata": {},
   "outputs": [],
   "source": [
    "X_train, X_test, y_train, y_test = train_test_split(X, labels, test_size=0.25, random_state=14, stratify=labels)"
   ]
  },
  {
   "cell_type": "markdown",
   "metadata": {},
   "source": [
    "Agora temos a instanciação do modelo SVM em si."
   ]
  },
  {
   "cell_type": "code",
   "execution_count": 30,
   "metadata": {},
   "outputs": [],
   "source": [
    "svm_model = LinearSVC(max_iter=1000)\n",
    "svm_model.fit(X_train, y_train)\n",
    "svm_prediction_tfidf = svm_model.predict(X_test)"
   ]
  },
  {
   "cell_type": "markdown",
   "metadata": {},
   "source": [
    "### TFIDF + regressão"
   ]
  },
  {
   "cell_type": "code",
   "execution_count": 31,
   "metadata": {},
   "outputs": [],
   "source": [
    "#tfidf_logreg = LogisticRegression(n_jobs=1, C=1e5)\n",
    "tfidf_logreg = LogisticRegression()\n",
    "tfidf_logreg.fit(X_train, y_train)\n",
    "y_pred_tfidf_reg = tfidf_logreg.predict(X_test)"
   ]
  },
  {
   "cell_type": "markdown",
   "metadata": {},
   "source": [
    "### Síntese dos resultados"
   ]
  },
  {
   "cell_type": "code",
   "execution_count": 32,
   "metadata": {},
   "outputs": [],
   "source": [
    "from sklearn.metrics import precision_recall_fscore_support"
   ]
  },
  {
   "cell_type": "code",
   "execution_count": 33,
   "metadata": {},
   "outputs": [],
   "source": [
    "results = pd.DataFrame(columns = ['Precision', 'Recall', 'F1 score', 'support']\n",
    "          )\n",
    "results.loc['d2v + regressão'] = precision_recall_fscore_support(\n",
    "          vai, \n",
    "          y_pred_d2v_reg, \n",
    "          average = 'weighted'\n",
    "          )\n",
    "results.loc['d2v + SVM'] = precision_recall_fscore_support(\n",
    "          vai, \n",
    "          svm_prediction_d2v, \n",
    "          average = 'weighted'\n",
    "          )\n",
    "results.loc['TFIDF + SVM'] = precision_recall_fscore_support(\n",
    "          y_test, \n",
    "          svm_prediction_tfidf, \n",
    "          average = 'weighted'\n",
    "          )\n",
    "results.loc['TFIDF + regressão'] = precision_recall_fscore_support(\n",
    "          y_test, \n",
    "          y_pred_tfidf_reg, \n",
    "          average = 'weighted'\n",
    "          )"
   ]
  },
  {
   "cell_type": "code",
   "execution_count": 34,
   "metadata": {},
   "outputs": [
    {
     "data": {
      "text/html": [
       "<div>\n",
       "<style scoped>\n",
       "    .dataframe tbody tr th:only-of-type {\n",
       "        vertical-align: middle;\n",
       "    }\n",
       "\n",
       "    .dataframe tbody tr th {\n",
       "        vertical-align: top;\n",
       "    }\n",
       "\n",
       "    .dataframe thead th {\n",
       "        text-align: right;\n",
       "    }\n",
       "</style>\n",
       "<table border=\"1\" class=\"dataframe\">\n",
       "  <thead>\n",
       "    <tr style=\"text-align: right;\">\n",
       "      <th></th>\n",
       "      <th>Precision</th>\n",
       "      <th>Recall</th>\n",
       "      <th>F1 score</th>\n",
       "      <th>support</th>\n",
       "    </tr>\n",
       "  </thead>\n",
       "  <tbody>\n",
       "    <tr>\n",
       "      <th>d2v + regressão</th>\n",
       "      <td>0.857332</td>\n",
       "      <td>0.867647</td>\n",
       "      <td>0.859092</td>\n",
       "      <td>NaN</td>\n",
       "    </tr>\n",
       "    <tr>\n",
       "      <th>d2v + SVM</th>\n",
       "      <td>0.875908</td>\n",
       "      <td>0.867647</td>\n",
       "      <td>0.870539</td>\n",
       "      <td>NaN</td>\n",
       "    </tr>\n",
       "    <tr>\n",
       "      <th>TFIDF + SVM</th>\n",
       "      <td>0.986631</td>\n",
       "      <td>0.985294</td>\n",
       "      <td>0.984594</td>\n",
       "      <td>NaN</td>\n",
       "    </tr>\n",
       "    <tr>\n",
       "      <th>TFIDF + regressão</th>\n",
       "      <td>0.972976</td>\n",
       "      <td>0.970588</td>\n",
       "      <td>0.966309</td>\n",
       "      <td>NaN</td>\n",
       "    </tr>\n",
       "  </tbody>\n",
       "</table>\n",
       "</div>"
      ],
      "text/plain": [
       "                   Precision    Recall  F1 score  support\n",
       "d2v + regressão     0.857332  0.867647  0.859092      NaN\n",
       "d2v + SVM           0.875908  0.867647  0.870539      NaN\n",
       "TFIDF + SVM         0.986631  0.985294  0.984594      NaN\n",
       "TFIDF + regressão   0.972976  0.970588  0.966309      NaN"
      ]
     },
     "execution_count": 34,
     "metadata": {},
     "output_type": "execute_result"
    }
   ],
   "source": [
    "results"
   ]
  }
 ],
 "metadata": {
  "kernelspec": {
   "display_name": "Python 3",
   "language": "python",
   "name": "python3"
  },
  "language_info": {
   "codemirror_mode": {
    "name": "ipython",
    "version": 3
   },
   "file_extension": ".py",
   "mimetype": "text/x-python",
   "name": "python",
   "nbconvert_exporter": "python",
   "pygments_lexer": "ipython3",
   "version": "3.6.9"
  }
 },
 "nbformat": 4,
 "nbformat_minor": 4
}
