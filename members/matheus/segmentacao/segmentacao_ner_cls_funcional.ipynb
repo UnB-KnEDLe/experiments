{
  "cells": [
    {
      "cell_type": "markdown",
      "metadata": {
        "id": "q4gSqDnOaJ7W"
      },
      "source": [
        "# Segmentação de textos\n",
        "\n",
        "Esse código é parte do trabalho final do aluno Matheus Stauffer Viana de Oliveira, 16/0071852, da disciplina de Estudos em Inteligência Artificial, ministrada pela professora Drª Roberta Barbosa Oliveira.\n",
        "\n",
        "O problema tratado é a segmentação de textos, com uma modelagem usando reconhecimento de entidades nomeadas em conjunto com classificação de texto."
      ]
    },
    {
      "cell_type": "markdown",
      "metadata": {
        "id": "CR6sbrOO7dZ9"
      },
      "source": [
        "## Reconhecimento de entidades nomeadas\n",
        "\n",
        "Será usada a base KnEDLe de atos de pessoal, https://github.com/UnB-KnEDLe/datasets/blob/master/anotacoes_atos_de_pessoal.md.\n",
        "\n",
        "Os dados serão rotulados no formato IOB com 4 classes:\n",
        "1. B-Inicio\n",
        "2. I-Inicio\n",
        "3. B-FIM\n",
        "4. O\n",
        "\n",
        "O objetivo é identificar os tokens que demarcam o começo e o final dos atos de pessoal."
      ]
    },
    {
      "cell_type": "markdown",
      "metadata": {
        "id": "1d5ZadZsFUvt"
      },
      "source": [
        "### Pré-processamento IOB"
      ]
    },
    {
      "cell_type": "code",
      "execution_count": null,
      "metadata": {
        "id": "F7sJnksm9QvG"
      },
      "outputs": [],
      "source": [
        "import pandas as pd\n",
        "import numpy as np"
      ]
    },
    {
      "cell_type": "code",
      "execution_count": null,
      "metadata": {
        "id": "6hneYK3u9Sa3"
      },
      "outputs": [],
      "source": [
        "df = pd.read_csv('/content/dodf_atos_pessoal_v3.csv')\n",
        "df"
      ]
    },
    {
      "cell_type": "code",
      "execution_count": null,
      "metadata": {
        "colab": {
          "base_uri": "https://localhost:8080/"
        },
        "id": "FYvsDsp09UDK",
        "outputId": "9c6d6ec2-feca-4479-811e-c053a2251adb"
      },
      "outputs": [
        {
          "name": "stdout",
          "output_type": "stream",
          "text": [
            "<class 'pandas.core.frame.DataFrame'>\n",
            "RangeIndex: 93897 entries, 0 to 93896\n",
            "Data columns (total 12 columns):\n",
            " #   Column         Non-Null Count  Dtype \n",
            "---  ------         --------------  ----- \n",
            " 0   id_ato         93897 non-null  object\n",
            " 1   id_dodf        93897 non-null  object\n",
            " 2   num_doc_dodf   93897 non-null  int64 \n",
            " 3   data_doc_dodf  93897 non-null  object\n",
            " 4   tipo_rel       93897 non-null  object\n",
            " 5   id_rel         93897 non-null  object\n",
            " 6   anotador_rel   93897 non-null  object\n",
            " 7   texto_rel      93897 non-null  object\n",
            " 8   tipo_ent       93897 non-null  object\n",
            " 9   id_ent         93897 non-null  int64 \n",
            " 10  anotador_ent   93897 non-null  object\n",
            " 11  texto_ent      93897 non-null  object\n",
            "dtypes: int64(2), object(10)\n",
            "memory usage: 8.6+ MB\n"
          ]
        }
      ],
      "source": [
        "df.info()"
      ]
    },
    {
      "cell_type": "markdown",
      "metadata": {
        "id": "xHZQPUNP-ZGi"
      },
      "source": [
        "Filtro de entidades de atos inteiros"
      ]
    },
    {
      "cell_type": "code",
      "execution_count": null,
      "metadata": {
        "id": "LdBYyv0v9W3g"
      },
      "outputs": [],
      "source": [
        "df_atos = df.loc[df['tipo_ent'].str.contains('Ato_')]\n",
        "df_atos = df_atos.reset_index(drop=True)"
      ]
    },
    {
      "cell_type": "code",
      "execution_count": null,
      "metadata": {
        "colab": {
          "base_uri": "https://localhost:8080/"
        },
        "id": "98D3ONNU-YWv",
        "outputId": "5d0387ff-9228-484c-c3c7-e905c8bf6bb1"
      },
      "outputs": [
        {
          "data": {
            "text/plain": [
              "Ato_Substituicao                  2404\n",
              "Ato_Exoneracao_Comissionado       2372\n",
              "Ato_Nomeacao_Comissionado         2316\n",
              "Ato_Retificacao_Efetivo           1196\n",
              "Ato_Exoneracao_Efetivo             303\n",
              "Ato_Cessao                         266\n",
              "Ato_Retificacao_Comissionado       264\n",
              "Ato_Tornado_Sem_Efeito_Exo_Nom     253\n",
              "Ato_Abono_Permanencia              137\n",
              "Ato_Nomeacao_Efetivo                82\n",
              "Ato_Reversao                        67\n",
              "Ato_Tornado_Sem_Efeito_Apo          19\n",
              "Name: tipo_rel, dtype: int64"
            ]
          },
          "execution_count": 5,
          "metadata": {},
          "output_type": "execute_result"
        }
      ],
      "source": [
        "df_atos.tipo_rel.value_counts()"
      ]
    },
    {
      "cell_type": "markdown",
      "metadata": {
        "id": "TfmMh045-kfu"
      },
      "source": [
        "Identificando DODFs com mais tipos diferentes de ato anotados para exclusão e posterior uso em avaliação de usabilidade"
      ]
    },
    {
      "cell_type": "code",
      "execution_count": null,
      "metadata": {
        "colab": {
          "base_uri": "https://localhost:8080/"
        },
        "id": "gfOLN01e-iOh",
        "outputId": "64e2f71c-04a3-4696-cf32-e9e386fd4d7c"
      },
      "outputs": [
        {
          "name": "stdout",
          "output_type": "stream",
          "text": [
            "44_175.10.9.2015\n",
            "63_191.20.9.2012\n",
            "29_200.24.9.2014\n",
            "21_139.10.7.2014\n"
          ]
        }
      ],
      "source": [
        "lista_dodfs = df_atos.id_dodf.to_list()\n",
        "relacao_atos = []\n",
        "\n",
        "for id_dodf in lista_dodfs:\n",
        "  oi = df_atos.loc[df_atos['id_dodf'] == id_dodf]\n",
        "  if len(oi.tipo_rel.value_counts()) > 9:\n",
        "    if id_dodf not in relacao_atos:\n",
        "      print(id_dodf)\n",
        "      relacao_atos.append(id_dodf)"
      ]
    },
    {
      "cell_type": "code",
      "execution_count": null,
      "metadata": {
        "id": "CQVZCfoW-ydo"
      },
      "outputs": [],
      "source": [
        "df_atos_usab = df_atos.loc[df_atos['id_dodf'] != ('44_175.10.9.2015' or '63_191.20.9.2012' or '29_200.24.9.2014' or '21_139.10.7.2014')]\n",
        "df_atos_usab = df_atos_usab.reset_index(drop=True)"
      ]
    },
    {
      "cell_type": "code",
      "execution_count": null,
      "metadata": {
        "colab": {
          "base_uri": "https://localhost:8080/"
        },
        "id": "vX7uG3vj-y5l",
        "outputId": "53c5c6cb-8fb4-44e4-c1cc-9b2224da34f9"
      },
      "outputs": [
        {
          "data": {
            "text/plain": [
              "Ato_Substituicao                  2384\n",
              "Ato_Exoneracao_Comissionado       2366\n",
              "Ato_Nomeacao_Comissionado         2311\n",
              "Ato_Retificacao_Efetivo           1194\n",
              "Ato_Exoneracao_Efetivo             302\n",
              "Ato_Cessao                         265\n",
              "Ato_Retificacao_Comissionado       261\n",
              "Ato_Tornado_Sem_Efeito_Exo_Nom     251\n",
              "Ato_Abono_Permanencia              135\n",
              "Ato_Nomeacao_Efetivo                80\n",
              "Ato_Reversao                        67\n",
              "Ato_Tornado_Sem_Efeito_Apo          19\n",
              "Name: tipo_rel, dtype: int64"
            ]
          },
          "execution_count": 8,
          "metadata": {},
          "output_type": "execute_result"
        }
      ],
      "source": [
        "df_atos_usab.tipo_rel.value_counts()"
      ]
    },
    {
      "cell_type": "markdown",
      "metadata": {
        "id": "FaZHRC62-5C0"
      },
      "source": [
        "Separação dos dados de interesse"
      ]
    },
    {
      "cell_type": "code",
      "execution_count": null,
      "metadata": {
        "colab": {
          "base_uri": "https://localhost:8080/",
          "height": 105
        },
        "id": "xioqLI5B-4tk",
        "outputId": "7dd8da5a-a66e-4631-d77d-e6fda8b5c2c9"
      },
      "outputs": [
        {
          "data": {
            "application/vnd.google.colaboratory.intrinsic+json": {
              "type": "string"
            },
            "text/plain": [
              "'DESIGNAR ROBERTO MARTINS DE MELO, Inspetor Tecnico de Controle Interno, matricula  25.856-3, para substituir IVANILDA SOUSA PEREIRA DE MESQUITA, Inspetor Tecnico de  Controle Interno, matricula 25.810-5, Coordenador, Simbolo CNE-06, da Coordenacao de Orien- tacao, Controle e Analise Contabil da Administracao Direta, da Subsecretaria de Contabilidade,  da Secretaria de Estado de Fazenda do Distrito Federal, no periodo de 02 a 31 de julho de 2015,  por motivo de ferias regulamentares.'"
            ]
          },
          "execution_count": 9,
          "metadata": {},
          "output_type": "execute_result"
        }
      ],
      "source": [
        "import re\n",
        "\n",
        "atos = df_atos_usab.texto_ent.to_list()\n",
        "tipos = df_atos_usab.tipo_ent.to_list()\n",
        "at_contiguos = []\n",
        "for ato in atos:\n",
        "    at_contiguos.append(re.sub('\\n', ' ', ato))\n",
        "at_contiguos[0]"
      ]
    },
    {
      "cell_type": "code",
      "execution_count": null,
      "metadata": {
        "colab": {
          "base_uri": "https://localhost:8080/",
          "height": 35
        },
        "id": "Euo8Rqxx_Aym",
        "outputId": "28c50bb4-c272-4769-f240-5a81cfd9257a"
      },
      "outputs": [
        {
          "data": {
            "application/vnd.google.colaboratory.intrinsic+json": {
              "type": "string"
            },
            "text/plain": [
              "'Ato_Substituicao'"
            ]
          },
          "execution_count": 10,
          "metadata": {},
          "output_type": "execute_result"
        }
      ],
      "source": [
        "infos = []\n",
        "infos.append(tipos)\n",
        "infos.append(at_contiguos)\n",
        "\n",
        "infos[0][1]"
      ]
    },
    {
      "cell_type": "code",
      "execution_count": null,
      "metadata": {
        "colab": {
          "base_uri": "https://localhost:8080/"
        },
        "id": "3mZTj7AnLl5s",
        "outputId": "cbb61c98-fda6-4cd5-ec08-64f36d8c78b1"
      },
      "outputs": [
        {
          "name": "stdout",
          "output_type": "stream",
          "text": [
            "[nltk_data] Downloading package punkt to /root/nltk_data...\n",
            "[nltk_data]   Unzipping tokenizers/punkt.zip.\n"
          ]
        },
        {
          "data": {
            "text/plain": [
              "True"
            ]
          },
          "execution_count": 11,
          "metadata": {},
          "output_type": "execute_result"
        }
      ],
      "source": [
        "import nltk\n",
        "nltk.download('punkt')"
      ]
    },
    {
      "cell_type": "code",
      "execution_count": null,
      "metadata": {
        "id": "UULtBaAH_Co7"
      },
      "outputs": [],
      "source": [
        "from nltk import word_tokenize\n",
        "\n",
        "at_tokenizados = []\n",
        "\n",
        "for ato in at_contiguos:\n",
        "    nltk_tokens = word_tokenize(ato)\n",
        "    at_tokenizados.append(nltk_tokens)"
      ]
    },
    {
      "cell_type": "code",
      "execution_count": null,
      "metadata": {
        "id": "uBYDjgyO_ElF"
      },
      "outputs": [],
      "source": [
        "possible_labels = df_atos_usab.tipo_ent.unique()\n",
        "label_dict = {}\n",
        "for index, label in enumerate(possible_labels):\n",
        "    label_dict[label] = index"
      ]
    },
    {
      "cell_type": "code",
      "execution_count": null,
      "metadata": {
        "id": "gW3HRSAD_H3z"
      },
      "outputs": [],
      "source": [
        "df_atos_usab['label_int'] = df_atos_usab.tipo_ent.replace(label_dict)\n",
        "df_atos_usab = df_atos_usab.drop(['id_ato', 'id_dodf', 'num_doc_dodf', 'data_doc_dodf',\n",
        "              'tipo_rel', 'id_rel', 'anotador_rel', 'texto_rel', 'id_ent', 'anotador_ent'], axis=1)\n",
        "df_atos_usab"
      ]
    },
    {
      "cell_type": "markdown",
      "metadata": {
        "id": "1UDeqvoN_K9U"
      },
      "source": [
        "Split treino/teste/validação"
      ]
    },
    {
      "cell_type": "code",
      "execution_count": null,
      "metadata": {
        "id": "Udz5TBY8_Jti"
      },
      "outputs": [],
      "source": [
        "from sklearn.model_selection import train_test_split\n",
        "\n",
        "X_train, X_test, y_train, y_test = train_test_split(df_atos_usab.index.values, \n",
        "                                                  df_atos_usab.label_int.values, \n",
        "                                                  test_size=0.25, \n",
        "                                                  random_state=14, \n",
        "                                                  stratify=df_atos_usab.label_int.values)\n",
        "\n",
        "X_test, X_val, y_test, y_val = train_test_split(X_test, y_test, test_size=0.5,\n",
        "                                                random_state=14, stratify=y_test)"
      ]
    },
    {
      "cell_type": "code",
      "execution_count": null,
      "metadata": {
        "colab": {
          "base_uri": "https://localhost:8080/"
        },
        "id": "rhQX3B3Y_Ux5",
        "outputId": "1a7edde3-b953-4347-9d40-6fc5e57f1df2"
      },
      "outputs": [
        {
          "data": {
            "text/plain": [
              "(7226, 1204, 1205)"
            ]
          },
          "execution_count": 16,
          "metadata": {},
          "output_type": "execute_result"
        }
      ],
      "source": [
        "len(y_train), len(y_test), len(y_val)"
      ]
    },
    {
      "cell_type": "markdown",
      "metadata": {
        "id": "T_n_UqBv_dNP"
      },
      "source": [
        "Rotulagem IOB"
      ]
    },
    {
      "cell_type": "code",
      "execution_count": null,
      "metadata": {
        "colab": {
          "base_uri": "https://localhost:8080/",
          "height": 49,
          "referenced_widgets": [
            "d08b6dd863db439cb321f55f1182b302",
            "42e83e1845084bc4b9785437c85353ed",
            "fcf090f12fe04284b0a9bfcdc6911711",
            "5bf76d5335184feb9a05660fd935d286",
            "c17856e04a694e2fad0b5cbd9636b7b1",
            "3128c4d819ea4ac394d004726c80f23b",
            "c5fc732d0e8b4886bdf7bf5008b74a36",
            "fa46e77b446f4220b3f3bccb0e7bb9f1",
            "ca19d4ff615b4d73ac493430750e0430",
            "75f7ff37f7b14480a9b8804b27d7f57d",
            "83334b56d32c4639aae74192f2cea961"
          ]
        },
        "id": "H3XjSTog_e_c",
        "outputId": "5d9fa379-4746-407d-c254-70d4ca0cee79"
      },
      "outputs": [
        {
          "data": {
            "application/vnd.jupyter.widget-view+json": {
              "model_id": "d08b6dd863db439cb321f55f1182b302",
              "version_major": 2,
              "version_minor": 0
            },
            "text/plain": [
              "  0%|          | 0/1 [00:00<?, ?it/s]"
            ]
          },
          "metadata": {},
          "output_type": "display_data"
        }
      ],
      "source": [
        "from tqdm.notebook import tqdm\n",
        "\n",
        "train_x = []\n",
        "train_y = []\n",
        "\n",
        "# itera sobre array de treino\n",
        "for valor in tqdm(np.nditer(X_train)):\n",
        "    # instancia variavel para mapear instancia na lista at_tokenizados\n",
        "    index_ato = int(valor)\n",
        "    # instancia variavel para iterar sobre a lista de palavras\n",
        "    index_token = 0\n",
        "    ato = at_tokenizados[index_ato]\n",
        "    if len(ato) < 256:\n",
        "        train_x.append(ato)\n",
        "        labels = []\n",
        "        # itera sobre lista de palavras\n",
        "        for palavra in ato:\n",
        "            # é o token inicial?\n",
        "            if index_token == 0:\n",
        "                labels.append('B-Inicio')#+ infos[0][index_ato])\n",
        "            # é o segundo token?\n",
        "            elif index_token == 1:\n",
        "                labels.append('I-Inicio')#+ infos[0][index_ato])\n",
        "            # é o token final?\n",
        "            elif index_token == len(at_tokenizados[index_ato])-1:\n",
        "                # Já temos a informação de classe no token de início.\n",
        "                #train_x.append(palavra)\n",
        "                labels.append('B-FIM')\n",
        "            else:\n",
        "                labels.append('O')\n",
        "            index_token = index_token + 1\n",
        "        train_y.append(labels)"
      ]
    },
    {
      "cell_type": "code",
      "execution_count": null,
      "metadata": {
        "colab": {
          "base_uri": "https://localhost:8080/"
        },
        "id": "ESk-1BjS7dEn",
        "outputId": "f9f1884e-83f3-45cc-8534-eba488989134"
      },
      "outputs": [
        {
          "data": {
            "text/plain": [
              "(7178, 7178)"
            ]
          },
          "execution_count": 18,
          "metadata": {},
          "output_type": "execute_result"
        }
      ],
      "source": [
        "len(train_x), len(train_y)"
      ]
    },
    {
      "cell_type": "code",
      "execution_count": null,
      "metadata": {
        "colab": {
          "base_uri": "https://localhost:8080/"
        },
        "id": "Xx68zRZl7fbW",
        "outputId": "13608877-a340-4048-8f8e-06537fe49a8a"
      },
      "outputs": [
        {
          "name": "stdout",
          "output_type": "stream",
          "text": [
            "95\n"
          ]
        }
      ],
      "source": [
        "print(len(train_x[0]))"
      ]
    },
    {
      "cell_type": "markdown",
      "metadata": {
        "id": "od2rxeKw8tWm"
      },
      "source": [
        "7178 atos\n",
        "ato 1 tem 95 palavras\n",
        "\n",
        "Objetivo:: juntar chunks de 256 palavras\n",
        "\n",
        "Passo 1: juntar tudo em um listão\n",
        "Passo 2: separar pedaços de 256 palavras"
      ]
    },
    {
      "cell_type": "code",
      "execution_count": null,
      "metadata": {
        "id": "03y--5hA8cNH"
      },
      "outputs": [],
      "source": [
        "treinamento_x_tudo = []\n",
        "treinamento_y_tudo = []\n",
        "\n",
        "for lista_ato, conj_rotulos in zip(train_x, train_y):\n",
        "  for token, rotulo in zip(lista_ato, conj_rotulos):\n",
        "    treinamento_x_tudo.append(token)\n",
        "    treinamento_y_tudo.append(rotulo)"
      ]
    },
    {
      "cell_type": "code",
      "execution_count": null,
      "metadata": {
        "colab": {
          "base_uri": "https://localhost:8080/"
        },
        "id": "e8Fkjir790kw",
        "outputId": "6d7c31b9-6a41-4ee2-ff36-0f750060f571"
      },
      "outputs": [
        {
          "data": {
            "text/plain": [
              "(487395, 487395)"
            ]
          },
          "execution_count": 21,
          "metadata": {},
          "output_type": "execute_result"
        }
      ],
      "source": [
        "len(treinamento_x_tudo), len(treinamento_y_tudo)"
      ]
    },
    {
      "cell_type": "code",
      "execution_count": null,
      "metadata": {
        "id": "jv5zLw7l95VR"
      },
      "outputs": [],
      "source": [
        "treinamento_x_256 = []\n",
        "treinamento_y_256 = []\n",
        "lista_256_x = []\n",
        "lista_256_y = []\n",
        "\n",
        "for token, rotulo in zip(treinamento_x_tudo, treinamento_y_tudo):\n",
        "  if len(lista_256_x) < 256:\n",
        "    lista_256_x.append(token)\n",
        "    lista_256_y.append(rotulo)\n",
        "  else:\n",
        "    treinamento_x_256.append(lista_256_x)\n",
        "    treinamento_y_256.append(lista_256_y)\n",
        "    lista_256_x = []\n",
        "    lista_256_y = []"
      ]
    },
    {
      "cell_type": "code",
      "execution_count": null,
      "metadata": {
        "id": "0UmgW7U1-xNO"
      },
      "outputs": [],
      "source": [
        "for idx, lista in enumerate(treinamento_x_256):\n",
        "  if len(lista) != 256:\n",
        "    print(f'indice {idx} com len {len(lista)}')"
      ]
    },
    {
      "cell_type": "code",
      "execution_count": null,
      "metadata": {
        "id": "2L_D_v_xA3Q6"
      },
      "outputs": [],
      "source": [
        "for a, r in zip(treinamento_x_256[0], treinamento_y_256[0]):\n",
        "  print(a, r)"
      ]
    },
    {
      "cell_type": "code",
      "execution_count": null,
      "metadata": {
        "id": "O46Hx4PVAXe5"
      },
      "outputs": [],
      "source": [
        "def mapear_para_256_tokens(atos, rotulos):\n",
        "  treinamento_x_tudo = []\n",
        "  treinamento_y_tudo = []\n",
        "\n",
        "  for lista_ato, conj_rotulos in zip(atos, rotulos):\n",
        "    for token, rotulo in zip(lista_ato, conj_rotulos):\n",
        "      treinamento_x_tudo.append(token)\n",
        "      treinamento_y_tudo.append(rotulo)\n",
        "  \n",
        "  treinamento_x_256 = []\n",
        "  treinamento_y_256 = []\n",
        "  lista_256_x = []\n",
        "  lista_256_y = []\n",
        "\n",
        "  for token, rotulo in zip(treinamento_x_tudo, treinamento_y_tudo):\n",
        "    if len(lista_256_x) < 256:\n",
        "      lista_256_x.append(token)\n",
        "      lista_256_y.append(rotulo)\n",
        "    else:\n",
        "      treinamento_x_256.append(lista_256_x)\n",
        "      treinamento_y_256.append(lista_256_y)\n",
        "      lista_256_x = []\n",
        "      lista_256_y = []\n",
        "  \n",
        "  return treinamento_x_256, treinamento_y_256"
      ]
    },
    {
      "cell_type": "code",
      "execution_count": null,
      "metadata": {
        "id": "5b9oATcRBArP"
      },
      "outputs": [],
      "source": [
        "train_x_256, train_y_256 = mapear_para_256_tokens(train_x, train_y)"
      ]
    },
    {
      "cell_type": "code",
      "execution_count": null,
      "metadata": {
        "colab": {
          "base_uri": "https://localhost:8080/",
          "height": 49,
          "referenced_widgets": [
            "82fc11b94cec4a5aba52d37b2bb47b04",
            "c29cb72211ad44c78c8640bd4ed64186",
            "7d24900a47c14468a6a35a631daab79e",
            "29137e2110114374a5f43b4a2a36bb5d",
            "28f4626ea84b46979ce7b2dfd0c06ccb",
            "22db9ea8622b4b42b720513f4cd00239",
            "75ec51380b454b7a8d8bdeeecdd18ec4",
            "4dee3e76506c426580e07aad363a5408",
            "5ab7d1a5e0c241769c404b08b1d6a779",
            "22d70ed2bbd841b883b53e31c969037e",
            "f81fd62fcf434398aa190bba9e37429e"
          ]
        },
        "id": "NWZyrZ-u_hkP",
        "outputId": "c60adab8-2bc0-4a6c-8571-b5986d1dd42e"
      },
      "outputs": [
        {
          "data": {
            "application/vnd.jupyter.widget-view+json": {
              "model_id": "82fc11b94cec4a5aba52d37b2bb47b04",
              "version_major": 2,
              "version_minor": 0
            },
            "text/plain": [
              "  0%|          | 0/1 [00:00<?, ?it/s]"
            ]
          },
          "metadata": {},
          "output_type": "display_data"
        }
      ],
      "source": [
        "test_x = []\n",
        "test_y = []\n",
        "\n",
        "# itera sobre array de treino\n",
        "for valor in tqdm(np.nditer(X_test)):\n",
        "    # instancia variavel para mapear instancia na lista at_tokenizados\n",
        "    index_ato = int(valor)\n",
        "    # instancia variavel para iterar sobre a lista de palavras\n",
        "    index_token = 0\n",
        "    ato = at_tokenizados[index_ato]\n",
        "    if len(ato) < 256:\n",
        "        test_x.append(ato)\n",
        "        labels = []\n",
        "        # itera sobre lista de palavras\n",
        "        for palavra in ato:\n",
        "            # é o token inicial?\n",
        "            if index_token == 0:\n",
        "                labels.append('B-Inicio')#+ infos[0][index_ato])\n",
        "            # é o segundo token?\n",
        "            elif index_token == 1:\n",
        "                labels.append('I-Inicio')#+ infos[0][index_ato])\n",
        "            # é o token final?\n",
        "            elif index_token == len(at_tokenizados[index_ato])-1:\n",
        "                # Já temos a informação de classe no token de início.\n",
        "                #train_x.append(palavra)\n",
        "                labels.append('B-FIM')\n",
        "            else:\n",
        "                labels.append('O')\n",
        "            index_token = index_token + 1\n",
        "        test_y.append(labels)"
      ]
    },
    {
      "cell_type": "code",
      "execution_count": null,
      "metadata": {
        "id": "sE9FmAvRBZ7k"
      },
      "outputs": [],
      "source": [
        "test_x_256, test_y_256 = mapear_para_256_tokens(test_x, test_y)"
      ]
    },
    {
      "cell_type": "code",
      "execution_count": null,
      "metadata": {
        "colab": {
          "base_uri": "https://localhost:8080/",
          "height": 49,
          "referenced_widgets": [
            "61e5c8e121c84a088b0b837781ed6914",
            "e78fa08f39a640bfaac85710d4776406",
            "df0c1bb97ff9444e8c82ca37f3167418",
            "9d6266ca64cd43d2bba84e8dcd2b47bd",
            "434f0ad4cc0f4f319edd628e1834948d",
            "05c4316726b742a7a6c50e86c54cf17e",
            "5463ce6cf35d48198885b26cc6457c73",
            "f18f6886da404e26b42bba28537ecf6e",
            "cf0684611476470e95183daae4b45679",
            "5342cade63f341948c25841489497af0",
            "50572adbcd964c63b2c32f5a172b3193"
          ]
        },
        "id": "dI64WE-O_kSC",
        "outputId": "6e780412-58f5-41b5-ab8b-dad19e078c65"
      },
      "outputs": [
        {
          "data": {
            "application/vnd.jupyter.widget-view+json": {
              "model_id": "61e5c8e121c84a088b0b837781ed6914",
              "version_major": 2,
              "version_minor": 0
            },
            "text/plain": [
              "  0%|          | 0/1 [00:00<?, ?it/s]"
            ]
          },
          "metadata": {},
          "output_type": "display_data"
        }
      ],
      "source": [
        "val_x = []\n",
        "val_y = []\n",
        "\n",
        "# itera sobre array de treino\n",
        "for valor in tqdm(np.nditer(X_val)):\n",
        "    # instancia variavel para mapear instancia na lista at_tokenizados\n",
        "    index_ato = int(valor)\n",
        "    # instancia variavel para iterar sobre a lista de palavras\n",
        "    index_token = 0\n",
        "    ato = at_tokenizados[index_ato]\n",
        "    if len(ato) < 256:\n",
        "        val_x.append(ato)\n",
        "        labels = []\n",
        "        # itera sobre lista de palavras\n",
        "        for palavra in ato:\n",
        "            # é o token inicial?\n",
        "            if index_token == 0:\n",
        "                labels.append('B-Inicio')#+ infos[0][index_ato])\n",
        "            # é o segundo token?\n",
        "            elif index_token == 1:\n",
        "                labels.append('I-Inicio')#+ infos[0][index_ato])\n",
        "            # é o token final?\n",
        "            elif index_token == len(at_tokenizados[index_ato])-1:\n",
        "                # Já temos a informação de classe no token de início.\n",
        "                #train_x.append(palavra)\n",
        "                labels.append('B-FIM')\n",
        "            else:\n",
        "                labels.append('O')\n",
        "            index_token = index_token + 1\n",
        "        val_y.append(labels)"
      ]
    },
    {
      "cell_type": "code",
      "execution_count": null,
      "metadata": {
        "id": "Z-Vpf8csBmvG"
      },
      "outputs": [],
      "source": [
        "val_x_256, val_y_256 = mapear_para_256_tokens(val_x, val_y)"
      ]
    },
    {
      "cell_type": "markdown",
      "metadata": {
        "id": "JUjx-lmoAtIi"
      },
      "source": [
        "Salvar os dados pré-processados em arquivo pickle."
      ]
    },
    {
      "cell_type": "code",
      "execution_count": null,
      "metadata": {
        "id": "fL64JqTPAsjd"
      },
      "outputs": [],
      "source": [
        "import pickle as pkl\n",
        "\n",
        "data = [train_x_256, train_y_256,\n",
        "        test_x_256, test_y_256,\n",
        "        val_x_256, val_y_256]\n",
        "\n",
        "with open('dados_comecoefim_256.pkl', 'wb') as f:\n",
        "    pkl.dump(data, f)"
      ]
    },
    {
      "cell_type": "markdown",
      "metadata": {
        "id": "fdo8oAodagwo"
      },
      "source": [
        "### Import de módulos"
      ]
    },
    {
      "cell_type": "code",
      "execution_count": null,
      "metadata": {
        "colab": {
          "base_uri": "https://localhost:8080/"
        },
        "id": "oLK7Y1jiNXDa",
        "outputId": "1fbdf421-99b9-4812-ff0f-0158f3b0e88c"
      },
      "outputs": [
        {
          "name": "stdout",
          "output_type": "stream",
          "text": [
            "Tensorflow version: 2.7.0\n",
            "GPU detected: []\n"
          ]
        }
      ],
      "source": [
        "%matplotlib inline\n",
        "import matplotlib.pyplot as plt\n",
        "import pandas as pd\n",
        "import numpy as np\n",
        "np.random.seed(0)\n",
        "plt.style.use(\"ggplot\")\n",
        "\n",
        "import tensorflow as tf\n",
        "print('Tensorflow version:', tf.__version__)\n",
        "print('GPU detected:', tf.config.list_physical_devices('GPU'))"
      ]
    },
    {
      "cell_type": "markdown",
      "metadata": {
        "id": "4N_AW6lMbB5N"
      },
      "source": [
        "### Carregamento e processamento do conjunto de dados "
      ]
    },
    {
      "cell_type": "code",
      "execution_count": null,
      "metadata": {
        "id": "C9AZQQV6Qd5p"
      },
      "outputs": [],
      "source": [
        "import pickle as pkl\n",
        "import pandas as pd\n",
        "import numpy as np\n",
        "\n",
        "with open('/content/dados_comecoefim_256.pkl', 'rb') as f:\n",
        "  data = pkl.load(f)"
      ]
    },
    {
      "cell_type": "code",
      "execution_count": null,
      "metadata": {
        "colab": {
          "base_uri": "https://localhost:8080/"
        },
        "id": "QnV3ntXygjdE",
        "outputId": "a69c2b68-c0d3-404a-9917-74e636569cbc"
      },
      "outputs": [
        {
          "data": {
            "text/plain": [
              "6"
            ]
          },
          "execution_count": 3,
          "metadata": {},
          "output_type": "execute_result"
        }
      ],
      "source": [
        "len(data)"
      ]
    },
    {
      "cell_type": "markdown",
      "metadata": {
        "id": "znvNOGdaCZoP"
      },
      "source": [
        "As duas linhas comentadas da célula abaixo se referem ao seguinte: o processamento fica mais simples se houver apenas X e y (e não X_train, X_test, ...). Como temos apenas duas classes (Inicio e FIM), em termos balanceamento de classes, não há problema em juntar os dados previamente divididos e depois fazer o split novamente - validação e teste foram unidos em apenas teste.\n",
        "\n",
        "O ponto é que ainda vale a pena manter o split feito anteriormente. Mesmo tendo apenas duas classes, a divisão feita anteriormente é estratificada nos tipos de ato, o que leva em consideração os diferentes contextos em que um início ou um fim podem ocorrer."
      ]
    },
    {
      "cell_type": "code",
      "execution_count": null,
      "metadata": {
        "id": "IusYmwBAQyVv"
      },
      "outputs": [],
      "source": [
        "# X = data[0] + data[2] + data[4]\n",
        "# y = data[1] + data[3] + data[5]\n",
        "X = train_x_256 + test_x_256 + val_x_256\n",
        "y = train_y_256 + test_y_256 + val_y_256\n",
        "\n",
        "X_train = train_x_256\n",
        "y_train = train_y_256\n",
        "\n",
        "X_test = test_x_256\n",
        "y_test = test_y_256\n",
        "\n",
        "X_val = val_x_256\n",
        "y_val = val_y_256"
      ]
    },
    {
      "cell_type": "code",
      "execution_count": null,
      "metadata": {
        "colab": {
          "base_uri": "https://localhost:8080/"
        },
        "id": "wk7WM1-WQ1LV",
        "outputId": "d8c74525-82af-4fc8-ab96-1fe4ddf800fb"
      },
      "outputs": [
        {
          "data": {
            "text/plain": [
              "(256, 256)"
            ]
          },
          "execution_count": 34,
          "metadata": {},
          "output_type": "execute_result"
        }
      ],
      "source": [
        "len(X[0]), len(y[0])"
      ]
    },
    {
      "cell_type": "code",
      "execution_count": null,
      "metadata": {
        "colab": {
          "base_uri": "https://localhost:8080/",
          "height": 49
        },
        "id": "YohKOHodQ46U",
        "outputId": "daa44416-1c42-4f65-e1fe-4c16e7c3fb9f"
      },
      "outputs": [
        {
          "data": {
            "text/html": [
              "\n",
              "  <div id=\"df-2c257e0d-bca2-4910-9511-ba6700566114\">\n",
              "    <div class=\"colab-df-container\">\n",
              "      <div>\n",
              "<style scoped>\n",
              "    .dataframe tbody tr th:only-of-type {\n",
              "        vertical-align: middle;\n",
              "    }\n",
              "\n",
              "    .dataframe tbody tr th {\n",
              "        vertical-align: top;\n",
              "    }\n",
              "\n",
              "    .dataframe thead th {\n",
              "        text-align: right;\n",
              "    }\n",
              "</style>\n",
              "<table border=\"1\" class=\"dataframe\">\n",
              "  <thead>\n",
              "    <tr style=\"text-align: right;\">\n",
              "      <th></th>\n",
              "      <th>Sentence_idx</th>\n",
              "      <th>Word</th>\n",
              "      <th>Tag</th>\n",
              "    </tr>\n",
              "  </thead>\n",
              "  <tbody>\n",
              "  </tbody>\n",
              "</table>\n",
              "</div>\n",
              "      <button class=\"colab-df-convert\" onclick=\"convertToInteractive('df-2c257e0d-bca2-4910-9511-ba6700566114')\"\n",
              "              title=\"Convert this dataframe to an interactive table.\"\n",
              "              style=\"display:none;\">\n",
              "        \n",
              "  <svg xmlns=\"http://www.w3.org/2000/svg\" height=\"24px\"viewBox=\"0 0 24 24\"\n",
              "       width=\"24px\">\n",
              "    <path d=\"M0 0h24v24H0V0z\" fill=\"none\"/>\n",
              "    <path d=\"M18.56 5.44l.94 2.06.94-2.06 2.06-.94-2.06-.94-.94-2.06-.94 2.06-2.06.94zm-11 1L8.5 8.5l.94-2.06 2.06-.94-2.06-.94L8.5 2.5l-.94 2.06-2.06.94zm10 10l.94 2.06.94-2.06 2.06-.94-2.06-.94-.94-2.06-.94 2.06-2.06.94z\"/><path d=\"M17.41 7.96l-1.37-1.37c-.4-.4-.92-.59-1.43-.59-.52 0-1.04.2-1.43.59L10.3 9.45l-7.72 7.72c-.78.78-.78 2.05 0 2.83L4 21.41c.39.39.9.59 1.41.59.51 0 1.02-.2 1.41-.59l7.78-7.78 2.81-2.81c.8-.78.8-2.07 0-2.86zM5.41 20L4 18.59l7.72-7.72 1.47 1.35L5.41 20z\"/>\n",
              "  </svg>\n",
              "      </button>\n",
              "      \n",
              "  <style>\n",
              "    .colab-df-container {\n",
              "      display:flex;\n",
              "      flex-wrap:wrap;\n",
              "      gap: 12px;\n",
              "    }\n",
              "\n",
              "    .colab-df-convert {\n",
              "      background-color: #E8F0FE;\n",
              "      border: none;\n",
              "      border-radius: 50%;\n",
              "      cursor: pointer;\n",
              "      display: none;\n",
              "      fill: #1967D2;\n",
              "      height: 32px;\n",
              "      padding: 0 0 0 0;\n",
              "      width: 32px;\n",
              "    }\n",
              "\n",
              "    .colab-df-convert:hover {\n",
              "      background-color: #E2EBFA;\n",
              "      box-shadow: 0px 1px 2px rgba(60, 64, 67, 0.3), 0px 1px 3px 1px rgba(60, 64, 67, 0.15);\n",
              "      fill: #174EA6;\n",
              "    }\n",
              "\n",
              "    [theme=dark] .colab-df-convert {\n",
              "      background-color: #3B4455;\n",
              "      fill: #D2E3FC;\n",
              "    }\n",
              "\n",
              "    [theme=dark] .colab-df-convert:hover {\n",
              "      background-color: #434B5C;\n",
              "      box-shadow: 0px 1px 3px 1px rgba(0, 0, 0, 0.15);\n",
              "      filter: drop-shadow(0px 1px 2px rgba(0, 0, 0, 0.3));\n",
              "      fill: #FFFFFF;\n",
              "    }\n",
              "  </style>\n",
              "\n",
              "      <script>\n",
              "        const buttonEl =\n",
              "          document.querySelector('#df-2c257e0d-bca2-4910-9511-ba6700566114 button.colab-df-convert');\n",
              "        buttonEl.style.display =\n",
              "          google.colab.kernel.accessAllowed ? 'block' : 'none';\n",
              "\n",
              "        async function convertToInteractive(key) {\n",
              "          const element = document.querySelector('#df-2c257e0d-bca2-4910-9511-ba6700566114');\n",
              "          const dataTable =\n",
              "            await google.colab.kernel.invokeFunction('convertToInteractive',\n",
              "                                                     [key], {});\n",
              "          if (!dataTable) return;\n",
              "\n",
              "          const docLinkHtml = 'Like what you see? Visit the ' +\n",
              "            '<a target=\"_blank\" href=https://colab.research.google.com/notebooks/data_table.ipynb>data table notebook</a>'\n",
              "            + ' to learn more about interactive tables.';\n",
              "          element.innerHTML = '';\n",
              "          dataTable['output_type'] = 'display_data';\n",
              "          await google.colab.output.renderOutput(dataTable, element);\n",
              "          const docLink = document.createElement('div');\n",
              "          docLink.innerHTML = docLinkHtml;\n",
              "          element.appendChild(docLink);\n",
              "        }\n",
              "      </script>\n",
              "    </div>\n",
              "  </div>\n",
              "  "
            ],
            "text/plain": [
              "Empty DataFrame\n",
              "Columns: [Sentence_idx, Word, Tag]\n",
              "Index: []"
            ]
          },
          "execution_count": 35,
          "metadata": {},
          "output_type": "execute_result"
        }
      ],
      "source": [
        "df = pd.DataFrame(columns=['Sentence_idx', 'Word', 'Tag'])\n",
        "\n",
        "df_train = pd.DataFrame(columns=['Sentence_idx', 'Word', 'Tag'])\n",
        "df_test = pd.DataFrame(columns=['Sentence_idx', 'Word', 'Tag'])\n",
        "df_val = pd.DataFrame(columns=['Sentence_idx', 'Word', 'Tag'])\n",
        "df"
      ]
    },
    {
      "cell_type": "code",
      "execution_count": null,
      "metadata": {
        "colab": {
          "base_uri": "https://localhost:8080/",
          "height": 145,
          "referenced_widgets": [
            "961b8cb53d094075ae53bba22968489f",
            "11deaced35df4545b54f8cad3729ca30",
            "a4498952de8c41c4aa69acdcce570413",
            "397b7b3b24224708bb2e66c8df92d488",
            "ed9d14bf290641c0a121adb9fd3b9045",
            "ede04973ebeb4e7a89f696a48dcd1295",
            "c67b13d2edda415ab6004e57b7e4c364",
            "96a3f25583e34de9bd4a762e520f1365",
            "c661c0184b9446988c8398ec5c58f2b1",
            "24fdb498e88f49ed86b54b352ed49126",
            "20055a3e3bac4ff18f8e920c11d35b0d",
            "7b66084199c04ce2b903f724ad0b4af7",
            "3707d80739bd400c984d686f7471d2bb",
            "5aac85269ade46458a76aa6ef9708a29",
            "06a341d77c6646ce8e731f67e1813aa3",
            "7d1965e1375c48b59609af9b4c92f403",
            "a1d8ce39dd224c38bbb74e34ddbcba28",
            "88c09c1e123149f19fa5e428356077ce",
            "ec425c81983a4108bac8b4edd46c2da7",
            "16a9036aa57f46338dca627be4a33651",
            "eb79eb21b77147dca0aaf94e1405742f",
            "d7603628ccbf4fcf8e2126026ed7e9c6",
            "4178e74732e548969ac24de81951f915",
            "7e4ac74ea9d04c5b9d2ac0529bf032bd",
            "b07233e7b3d2429a94634680260e9f6a",
            "b78dd04ff2f947b0b5fce638b0d28c9a",
            "3cd2924065fe4eea820215685143172d",
            "1ed9758c1acb4e11af79b35b85d75f80",
            "545594bdb73342369a762194edeb26fc",
            "aeee3b1cda714dc39efe6c7541f4b41c",
            "0e8902a5f5554a3083bf3311f054befc",
            "83711afbafe64c0f8ce75aa2120d0584",
            "6b4bdd358d16459faf69df225ba7b6b7",
            "a1b4512d68f2491194baa680b802cc68",
            "7d01db996bee4d1bb8941bc835e05c56",
            "47281fbb063b4df9adb35a7d5a419250",
            "12f4a6bda1124330be8ac1c6229c8edf",
            "f9d4324d1d304389a70edd61736c4fd5",
            "80a8166458884d559efb0fdb3ac8fe8d",
            "ea418eefba6845008eb092e4fc87b37f",
            "7aac85943dd14c26bb7be41a885ac3b2",
            "751dc9502dd6438099deb690f21d126c",
            "010df2c3c8eb4a18be0c4d3bf679ffa3",
            "3a56a456595544c18b5bb0a1c7af27d8"
          ]
        },
        "id": "SCWboHwoQ-va",
        "outputId": "4c8c040e-c2df-41f5-f2a4-4e2936c01ea3"
      },
      "outputs": [
        {
          "data": {
            "application/vnd.jupyter.widget-view+json": {
              "model_id": "961b8cb53d094075ae53bba22968489f",
              "version_major": 2,
              "version_minor": 0
            },
            "text/plain": [
              "0it [00:00, ?it/s]"
            ]
          },
          "metadata": {},
          "output_type": "display_data"
        },
        {
          "data": {
            "application/vnd.jupyter.widget-view+json": {
              "model_id": "7b66084199c04ce2b903f724ad0b4af7",
              "version_major": 2,
              "version_minor": 0
            },
            "text/plain": [
              "0it [00:00, ?it/s]"
            ]
          },
          "metadata": {},
          "output_type": "display_data"
        },
        {
          "data": {
            "application/vnd.jupyter.widget-view+json": {
              "model_id": "4178e74732e548969ac24de81951f915",
              "version_major": 2,
              "version_minor": 0
            },
            "text/plain": [
              "0it [00:00, ?it/s]"
            ]
          },
          "metadata": {},
          "output_type": "display_data"
        },
        {
          "data": {
            "application/vnd.jupyter.widget-view+json": {
              "model_id": "a1b4512d68f2491194baa680b802cc68",
              "version_major": 2,
              "version_minor": 0
            },
            "text/plain": [
              "0it [00:00, ?it/s]"
            ]
          },
          "metadata": {},
          "output_type": "display_data"
        }
      ],
      "source": [
        "from tqdm.notebook import tqdm\n",
        "\n",
        "rows_list = []\n",
        "dict1 = {\n",
        "        'Sentence_idx': -1,\n",
        "        'Word': 'UNK',\n",
        "        'Tag': 'O'\n",
        "    }\n",
        "rows_list.append(dict1)\n",
        "id_ato = 0\n",
        "for ato, lista_labels in tqdm(zip(X, y)):\n",
        "  for word, label in zip(ato, lista_labels):\n",
        "    dict1 = {\n",
        "        'Sentence_idx': id_ato,\n",
        "        'Word': word,\n",
        "        'Tag': label\n",
        "    }\n",
        "    rows_list.append(dict1)\n",
        "    #print(word, label)\n",
        "  id_ato += 1\n",
        "df = pd.DataFrame(rows_list)\n",
        "\n",
        "rows_list = []\n",
        "dict1 = {\n",
        "        'Sentence_idx': -1,\n",
        "        'Word': 'UNK',\n",
        "        'Tag': 'O'\n",
        "}\n",
        "rows_list.append(dict1)\n",
        "id_ato = 0\n",
        "for ato, lista_labels in tqdm(zip(X_train, y_train)):\n",
        "  for word, label in zip(ato, lista_labels):\n",
        "    dict1 = {\n",
        "        'Sentence_idx': id_ato,\n",
        "        'Word': word,\n",
        "        'Tag': label\n",
        "    }\n",
        "    rows_list.append(dict1)\n",
        "    #print(word, label)\n",
        "  id_ato += 1\n",
        "df_train = pd.DataFrame(rows_list)\n",
        "\n",
        "rows_list = []\n",
        "dict1 = {\n",
        "        'Sentence_idx': -1,\n",
        "        'Word': 'UNK',\n",
        "        'Tag': 'O'\n",
        "}\n",
        "rows_list.append(dict1)\n",
        "id_ato = 0\n",
        "for ato, lista_labels in tqdm(zip(X_test, y_test)):\n",
        "  for word, label in zip(ato, lista_labels):\n",
        "    dict1 = {\n",
        "        'Sentence_idx': id_ato,\n",
        "        'Word': word,\n",
        "        'Tag': label\n",
        "    }\n",
        "    rows_list.append(dict1)\n",
        "    #print(word, label)\n",
        "  id_ato += 1\n",
        "df_test = pd.DataFrame(rows_list)\n",
        "\n",
        "rows_list = []\n",
        "dict1 = {\n",
        "        'Sentence_idx': -1,\n",
        "        'Word': 'UNK',\n",
        "        'Tag': 'O'\n",
        "    }\n",
        "rows_list.append(dict1)\n",
        "id_ato = 0\n",
        "for ato, lista_labels in tqdm(zip(X_val, y_val)):\n",
        "  for word, label in zip(ato, lista_labels):\n",
        "    dict1 = {\n",
        "        'Sentence_idx': id_ato,\n",
        "        'Word': word,\n",
        "        'Tag': label\n",
        "    }\n",
        "    rows_list.append(dict1)\n",
        "    #print(word, label)\n",
        "  id_ato += 1\n",
        "df_val = pd.DataFrame(rows_list)"
      ]
    },
    {
      "cell_type": "code",
      "execution_count": null,
      "metadata": {
        "colab": {
          "base_uri": "https://localhost:8080/"
        },
        "id": "riOztP-8NXHT",
        "outputId": "6a1a08b2-1daa-4af7-9765-abdbac2f51c9"
      },
      "outputs": [
        {
          "name": "stdout",
          "output_type": "stream",
          "text": [
            "Unique words in corpus: 26603\n",
            "Unique tags in corpus: 4\n",
            "Unique words in train: 22066\n",
            "Unique tags in train: 4\n",
            "Unique words in test: 6629\n",
            "Unique tags in test: 4\n",
            "Unique words in val: 6779\n",
            "Unique tags in val: 4\n"
          ]
        }
      ],
      "source": [
        "print(\"Unique words in corpus:\", df['Word'].nunique())\n",
        "print(\"Unique tags in corpus:\", df['Tag'].nunique())\n",
        "\n",
        "print(\"Unique words in train:\", df_train['Word'].nunique())\n",
        "print(\"Unique tags in train:\", df_train['Tag'].nunique())\n",
        "\n",
        "print(\"Unique words in test:\", df_test['Word'].nunique())\n",
        "print(\"Unique tags in test:\", df_test['Tag'].nunique())\n",
        "\n",
        "print(\"Unique words in val:\", df_val['Word'].nunique())\n",
        "print(\"Unique tags in val:\", df_val['Tag'].nunique())"
      ]
    },
    {
      "cell_type": "code",
      "execution_count": null,
      "metadata": {
        "id": "tIVdakPTOv6x"
      },
      "outputs": [],
      "source": [
        "words = list(set(df[\"Word\"].values))\n",
        "words.append(\"ENDPAD\")\n",
        "num_words = len(words)\n",
        "\n",
        "words_train = list(set(df_train[\"Word\"].values))\n",
        "words_train.append(\"ENDPAD\")\n",
        "num_words_train = len(words_train)\n",
        "\n",
        "words_test = list(set(df_test[\"Word\"].values))\n",
        "words_test.append(\"ENDPAD\")\n",
        "num_words_test = len(words_test)\n",
        "\n",
        "words_val = list(set(df_val[\"Word\"].values))\n",
        "words_val.append(\"ENDPAD\")\n",
        "num_words_val = len(words_val)"
      ]
    },
    {
      "cell_type": "code",
      "execution_count": null,
      "metadata": {
        "colab": {
          "base_uri": "https://localhost:8080/"
        },
        "id": "PAFBLhpwMqFK",
        "outputId": "28ce0a0a-0197-4ba3-9d0e-cc8234a92fd9"
      },
      "outputs": [
        {
          "data": {
            "text/plain": [
              "26604"
            ]
          },
          "execution_count": 40,
          "metadata": {},
          "output_type": "execute_result"
        }
      ],
      "source": [
        "num_words"
      ]
    },
    {
      "cell_type": "code",
      "execution_count": null,
      "metadata": {
        "id": "0_bn7sjqOv6y"
      },
      "outputs": [],
      "source": [
        "tags = list(set(df[\"Tag\"].values))\n",
        "num_tags = len(tags)\n",
        "\n",
        "tags_train = list(set(df_train[\"Tag\"].values))\n",
        "num_tags_train = len(tags_train)\n",
        "\n",
        "tags_test = list(set(df_test[\"Tag\"].values))\n",
        "num_tags_test = len(tags_test)\n",
        "\n",
        "tags_val = list(set(df_val[\"Tag\"].values))\n",
        "num_tags_val = len(tags_val)"
      ]
    },
    {
      "cell_type": "markdown",
      "metadata": {
        "id": "M9D9JEzUbdnS"
      },
      "source": [
        "### Classe para retornar sentenças e tags correspondentes"
      ]
    },
    {
      "cell_type": "code",
      "execution_count": null,
      "metadata": {
        "id": "VdJst_g5NYY_"
      },
      "outputs": [],
      "source": [
        "class SentenceGetter(object):\n",
        "    def __init__(self, df):\n",
        "        self.n_sent = 1\n",
        "        self.df = df\n",
        "        self.empty = False\n",
        "        agg_func = lambda s: [(w, p, t) for w, p, t in zip(s[\"Word\"].values.tolist(),\n",
        "                                                           s[\"Sentence_idx\"].values.tolist(),\n",
        "                                                           s[\"Tag\"].values.tolist())]\n",
        "        self.grouped = self.df.groupby(\"Sentence_idx\").apply(agg_func)\n",
        "        self.sentences = [s for s in self.grouped]\n",
        "    \n",
        "    def get_next(self):\n",
        "        try:\n",
        "            s = self.grouped[\"Sentence: {}\".format(self.n_sent)]\n",
        "            self.n_sent += 1\n",
        "            return s\n",
        "        except:\n",
        "            return None"
      ]
    },
    {
      "cell_type": "code",
      "execution_count": null,
      "metadata": {
        "id": "nMUQLppspkPj"
      },
      "outputs": [],
      "source": [
        "getter = SentenceGetter(df)\n",
        "sentences = getter.sentences\n",
        "\n",
        "getter_train = SentenceGetter(df_train)\n",
        "sentences_train = getter_train.sentences\n",
        "\n",
        "getter_test = SentenceGetter(df_test)\n",
        "sentences_test = getter_test.sentences\n",
        "\n",
        "getter_val = SentenceGetter(df_val)\n",
        "sentences_val = getter_val.sentences"
      ]
    },
    {
      "cell_type": "code",
      "execution_count": null,
      "metadata": {
        "colab": {
          "base_uri": "https://localhost:8080/"
        },
        "id": "GhiSTt2UdzYC",
        "outputId": "c41edb63-78bb-480f-8cd9-38fbcc8dd839"
      },
      "outputs": [
        {
          "data": {
            "text/plain": [
              "[('RETIFICACAO', 0, 'B-Inicio'),\n",
              " ('Na', 0, 'I-Inicio'),\n",
              " ('Ordem', 0, 'O'),\n",
              " ('de', 0, 'O'),\n",
              " ('Servico', 0, 'O'),\n",
              " ('no', 0, 'O'),\n",
              " ('37', 0, 'O'),\n",
              " (',', 0, 'O'),\n",
              " ('de', 0, 'O'),\n",
              " ('09', 0, 'O'),\n",
              " ('de', 0, 'O'),\n",
              " ('Outubro', 0, 'O'),\n",
              " ('de', 0, 'O'),\n",
              " ('2012', 0, 'O'),\n",
              " (',', 0, 'O'),\n",
              " ('publicada', 0, 'O'),\n",
              " ('no', 0, 'O'),\n",
              " ('DODF', 0, 'O'),\n",
              " ('no', 0, 'O'),\n",
              " ('208', 0, 'O'),\n",
              " ('de', 0, 'O'),\n",
              " ('15', 0, 'O'),\n",
              " ('de', 0, 'O'),\n",
              " ('Outubro', 0, 'O'),\n",
              " ('de', 0, 'O'),\n",
              " ('2012', 0, 'O'),\n",
              " (',', 0, 'O'),\n",
              " ('que', 0, 'O'),\n",
              " ('concedeu', 0, 'O'),\n",
              " ('Licenca', 0, 'O'),\n",
              " ('Premio', 0, 'O'),\n",
              " ('por', 0, 'O'),\n",
              " ('Assiduidade', 0, 'O'),\n",
              " (',', 0, 'O'),\n",
              " ('a', 0, 'O'),\n",
              " ('UBIRAJARA', 0, 'O'),\n",
              " ('BARBOSA', 0, 'O'),\n",
              " ('DE', 0, 'O'),\n",
              " ('OLIVEIRA', 0, 'O'),\n",
              " (',', 0, 'O'),\n",
              " ('da', 0, 'O'),\n",
              " ('Administracao', 0, 'O'),\n",
              " ('Regional', 0, 'O'),\n",
              " ('da', 0, 'O'),\n",
              " ('Candangolandia', 0, 'O'),\n",
              " (',', 0, 'O'),\n",
              " ('ONDE', 0, 'O'),\n",
              " ('SE', 0, 'O'),\n",
              " ('LE', 0, 'O'),\n",
              " (':', 0, 'O'),\n",
              " ('...', 0, 'O'),\n",
              " ('REFERENTE', 0, 'O'),\n",
              " ('AO', 0, 'O'),\n",
              " ('4o', 0, 'O'),\n",
              " ('QUINQUENIO', 0, 'O'),\n",
              " ('NO', 0, 'O'),\n",
              " ('PERIODO', 0, 'O'),\n",
              " ('DE', 0, 'O'),\n",
              " ('12', 0, 'O'),\n",
              " ('DE', 0, 'O'),\n",
              " ('OUTUBRO', 0, 'O'),\n",
              " ('DE', 0, 'O'),\n",
              " ('2001', 0, 'O'),\n",
              " ('A', 0, 'O'),\n",
              " ('09', 0, 'O'),\n",
              " ('DE', 0, 'O'),\n",
              " ('OUTUBRO', 0, 'O'),\n",
              " ('DE', 0, 'O'),\n",
              " ('2012', 0, 'O'),\n",
              " ('...', 0, 'O'),\n",
              " (',', 0, 'O'),\n",
              " ('LEIA-SE', 0, 'O'),\n",
              " (':', 0, 'O'),\n",
              " ('...', 0, 'O'),\n",
              " ('REFERENTE', 0, 'O'),\n",
              " ('AO', 0, 'O'),\n",
              " ('3o', 0, 'O'),\n",
              " ('QUINQUE-', 0, 'O'),\n",
              " ('NIO', 0, 'O'),\n",
              " ('NO', 0, 'O'),\n",
              " ('PERIODO', 0, 'O'),\n",
              " ('DE', 0, 'O'),\n",
              " ('12', 0, 'O'),\n",
              " ('DE', 0, 'O'),\n",
              " ('OUTUBRO', 0, 'O'),\n",
              " ('DE', 0, 'O'),\n",
              " ('2007', 0, 'O'),\n",
              " ('A', 0, 'O'),\n",
              " ('09', 0, 'O'),\n",
              " ('DE', 0, 'O'),\n",
              " ('OUTUBRO', 0, 'O'),\n",
              " ('DE', 0, 'O'),\n",
              " ('2012', 0, 'O'),\n",
              " ('...', 0, 'O'),\n",
              " ('.', 0, 'B-FIM'),\n",
              " ('EXONERAR', 0, 'B-Inicio'),\n",
              " ('o', 0, 'I-Inicio'),\n",
              " ('Maj', 0, 'O'),\n",
              " ('QOBM/Intd', 0, 'O'),\n",
              " ('MELQUIADES', 0, 'O'),\n",
              " ('JOAO', 0, 'O'),\n",
              " ('DA', 0, 'O'),\n",
              " ('SILVA', 0, 'O'),\n",
              " (',', 0, 'O'),\n",
              " ('matricula/GDF', 0, 'O'),\n",
              " ('181.538-', 0, 'O'),\n",
              " ('5', 0, 'O'),\n",
              " (',', 0, 'O'),\n",
              " ('do', 0, 'O'),\n",
              " ('Cargo', 0, 'O'),\n",
              " ('em', 0, 'O'),\n",
              " ('Comissao', 0, 'O'),\n",
              " (',', 0, 'O'),\n",
              " ('Simbolo', 0, 'O'),\n",
              " ('DFG-09', 0, 'O'),\n",
              " (',', 0, 'O'),\n",
              " ('Chefe', 0, 'O'),\n",
              " ('de', 0, 'O'),\n",
              " ('Despacho', 0, 'O'),\n",
              " (',', 0, 'O'),\n",
              " ('do', 0, 'O'),\n",
              " ('Nucleo', 0, 'O'),\n",
              " ('Operacional', 0, 'O'),\n",
              " (',', 0, 'O'),\n",
              " ('da', 0, 'O'),\n",
              " ('Gerencia', 0, 'O'),\n",
              " ('Operacional', 0, 'O'),\n",
              " (',', 0, 'O'),\n",
              " ('da', 0, 'O'),\n",
              " ('Central', 0, 'O'),\n",
              " ('Integrada', 0, 'O'),\n",
              " ('de', 0, 'O'),\n",
              " ('Atendimento', 0, 'O'),\n",
              " ('e', 0, 'O'),\n",
              " ('Despacho', 0, 'O'),\n",
              " (',', 0, 'O'),\n",
              " ('da', 0, 'O'),\n",
              " ('Subsecretaria', 0, 'O'),\n",
              " ('de', 0, 'O'),\n",
              " ('Integracao', 0, 'O'),\n",
              " ('e', 0, 'O'),\n",
              " ('Operacoes', 0, 'O'),\n",
              " ('de', 0, 'O'),\n",
              " ('Seguranca', 0, 'O'),\n",
              " ('Publica', 0, 'O'),\n",
              " (',', 0, 'O'),\n",
              " ('da', 0, 'O'),\n",
              " ('Secretaria', 0, 'O'),\n",
              " ('de', 0, 'O'),\n",
              " ('Estado', 0, 'O'),\n",
              " ('de', 0, 'O'),\n",
              " ('Seguranca', 0, 'O'),\n",
              " ('Publica', 0, 'O'),\n",
              " ('do', 0, 'O'),\n",
              " ('Distrito', 0, 'O'),\n",
              " ('Federal', 0, 'O'),\n",
              " (',', 0, 'O'),\n",
              " ('a', 0, 'O'),\n",
              " ('contar', 0, 'O'),\n",
              " ('de', 0, 'O'),\n",
              " ('03', 0, 'O'),\n",
              " ('de', 0, 'O'),\n",
              " ('junho', 0, 'O'),\n",
              " ('de', 0, 'O'),\n",
              " ('2014', 0, 'O'),\n",
              " ('.', 0, 'B-FIM'),\n",
              " ('CIRLENE', 0, 'B-Inicio'),\n",
              " ('SILVA', 0, 'I-Inicio'),\n",
              " ('DO', 0, 'O'),\n",
              " ('CARMO', 0, 'O'),\n",
              " ('VARGAS', 0, 'O'),\n",
              " (',', 0, 'O'),\n",
              " ('Assistente', 0, 'O'),\n",
              " ('de', 0, 'O'),\n",
              " ('Educacao', 0, 'O'),\n",
              " (',', 0, 'O'),\n",
              " ('matricula', 0, 'O'),\n",
              " ('23.210-6', 0, 'O'),\n",
              " (',', 0, 'O'),\n",
              " ('para', 0, 'O'),\n",
              " ('substituir', 0, 'O'),\n",
              " ('o', 0, 'O'),\n",
              " ('titular', 0, 'O'),\n",
              " ('da', 0, 'O'),\n",
              " ('Funcao', 0, 'O'),\n",
              " ('Gratificada', 0, 'O'),\n",
              " ('de', 0, 'O'),\n",
              " ('Instituicao', 0, 'O'),\n",
              " ('Educacional', 0, 'O'),\n",
              " (',', 0, 'O'),\n",
              " ('Simbolo', 0, 'O'),\n",
              " ('FGIE-01', 0, 'O'),\n",
              " (',', 0, 'O'),\n",
              " ('de', 0, 'O'),\n",
              " ('Chefe', 0, 'O'),\n",
              " ('de', 0, 'O'),\n",
              " ('Secretaria', 0, 'O'),\n",
              " ('da', 0, 'O'),\n",
              " ('Escola', 0, 'O'),\n",
              " ('Classe', 0, 'O'),\n",
              " ('302', 0, 'O'),\n",
              " ('Norte', 0, 'O'),\n",
              " (',', 0, 'O'),\n",
              " ('pelo', 0, 'O'),\n",
              " ('periodo', 0, 'O'),\n",
              " ('de', 0, 'O'),\n",
              " ('24', 0, 'O'),\n",
              " ('de', 0, 'O'),\n",
              " ('marco', 0, 'O'),\n",
              " ('a', 0, 'O'),\n",
              " ('07', 0, 'O'),\n",
              " ('de', 0, 'O'),\n",
              " ('abril', 0, 'O'),\n",
              " ('de', 0, 'O'),\n",
              " ('2008', 0, 'O'),\n",
              " (',', 0, 'O'),\n",
              " ('por', 0, 'O'),\n",
              " ('motivo', 0, 'O'),\n",
              " ('de', 0, 'O'),\n",
              " ('ferias', 0, 'O'),\n",
              " (';', 0, 'B-FIM'),\n",
              " ('EXONERAR', 0, 'B-Inicio'),\n",
              " (',', 0, 'I-Inicio'),\n",
              " ('por', 0, 'O'),\n",
              " ('estar', 0, 'O'),\n",
              " ('sendo', 0, 'O'),\n",
              " ('nomeado', 0, 'O'),\n",
              " ('para', 0, 'O'),\n",
              " ('outro', 0, 'O'),\n",
              " ('cargo', 0, 'O'),\n",
              " (',', 0, 'O'),\n",
              " ('VALMIR', 0, 'O'),\n",
              " ('ADELINO', 0, 'O'),\n",
              " ('CAMILO', 0, 'O'),\n",
              " ('JUNIOR', 0, 'O'),\n",
              " (',', 0, 'O'),\n",
              " ('matricula', 0, 'O'),\n",
              " ('1656627-0', 0, 'O'),\n",
              " (',', 0, 'O'),\n",
              " ('do', 0, 'O'),\n",
              " ('Cargo', 0, 'O'),\n",
              " ('em', 0, 'O'),\n",
              " ('Comissao', 0, 'O'),\n",
              " (',', 0, 'O'),\n",
              " ('Simbolo', 0, 'O'),\n",
              " ('DFA-06', 0, 'O'),\n",
              " (',', 0, 'O'),\n",
              " ('de', 0, 'O'),\n",
              " ('Secretario', 0, 'O'),\n",
              " ('Admi-', 0, 'O'),\n",
              " ('nistrativo', 0, 'O'),\n",
              " (',', 0, 'O'),\n",
              " ('do', 0, 'O'),\n",
              " ('Gabinete', 0, 'O'),\n",
              " (',', 0, 'O'),\n",
              " ('da', 0, 'O')]"
            ]
          },
          "execution_count": 44,
          "metadata": {},
          "output_type": "execute_result"
        }
      ],
      "source": [
        "sentences[1]"
      ]
    },
    {
      "cell_type": "markdown",
      "metadata": {
        "id": "ldhuogX4eHE4"
      },
      "source": [
        "### Mapeamento entre sentenças e tags"
      ]
    },
    {
      "cell_type": "code",
      "execution_count": null,
      "metadata": {
        "id": "SvENHO18pkaQ"
      },
      "outputs": [],
      "source": [
        "word2idx = {w: i + 1 for i, w in enumerate(words)}\n",
        "tag2idx = {t: i for i, t in enumerate(tags)}\n",
        "\n",
        "word2idx_train = {w: i + 1 for i, w in enumerate(words_train)}\n",
        "tag2idx_train = {t: i for i, t in enumerate(tags_train)}\n",
        "\n",
        "word2idx_test = {w: i + 1 for i, w in enumerate(words_test)}\n",
        "tag2idx_test = {t: i for i, t in enumerate(tags_test)}\n",
        "\n",
        "word2idx_val = {w: i + 1 for i, w in enumerate(words_val)}\n",
        "tag2idx_val = {t: i for i, t in enumerate(tags_val)}"
      ]
    },
    {
      "cell_type": "code",
      "execution_count": null,
      "metadata": {
        "colab": {
          "base_uri": "https://localhost:8080/"
        },
        "id": "brKzYY6tOv63",
        "outputId": "cb795d8f-6cc2-40f6-a578-de218853a955"
      },
      "outputs": [
        {
          "data": {
            "text/plain": [
              "23091"
            ]
          },
          "execution_count": 46,
          "metadata": {},
          "output_type": "execute_result"
        }
      ],
      "source": [
        "word2idx['UNK']"
      ]
    },
    {
      "cell_type": "markdown",
      "metadata": {
        "id": "zXzE0MdsemCH"
      },
      "source": [
        "### Padding das sentenças"
      ]
    },
    {
      "cell_type": "markdown",
      "metadata": {
        "id": "GvgoE21HWG8F"
      },
      "source": [
        "Apenas sentenças com 256 tokens, conforme esperado."
      ]
    },
    {
      "cell_type": "code",
      "execution_count": null,
      "metadata": {
        "colab": {
          "base_uri": "https://localhost:8080/",
          "height": 265
        },
        "id": "R44g5T7NYp_H",
        "outputId": "0ee14bf1-a363-4933-f17c-46403659b584"
      },
      "outputs": [
        {
          "data": {
            "image/png": "[encoded data removed]",
            "text/plain": [
              "<Figure size 432x288 with 1 Axes>"
            ]
          },
          "metadata": {},
          "output_type": "display_data"
        }
      ],
      "source": [
        "plt.hist([len(s) for s in sentences], bins=50)\n",
        "plt.show()"
      ]
    },
    {
      "cell_type": "code",
      "execution_count": null,
      "metadata": {
        "id": "FS4u3CRkpkc1"
      },
      "outputs": [],
      "source": [
        "from tensorflow.keras.preprocessing.sequence import pad_sequences\n",
        "\n",
        "max_len = 256\n",
        "\n",
        "# X = [[word2idx[w[0]] for w in s] for s in sentences]\n",
        "# X = pad_sequences(maxlen=max_len, sequences=X, padding=\"post\", value=num_words-1)\n",
        "\n",
        "# y = [[tag2idx[w[2]] for w in s] for s in sentences]\n",
        "# y = pad_sequences(maxlen=max_len, sequences=y, padding=\"post\", value=tag2idx[\"O\"])\n",
        "\n",
        "x_train = [[word2idx[w[0]] for w in s] for s in sentences_train]\n",
        "x_train = pad_sequences(maxlen=max_len, sequences=x_train, padding=\"post\", value=num_words-1)\n",
        "\n",
        "x_test = [[word2idx[w[0]] for w in s] for s in sentences_test]\n",
        "x_test = pad_sequences(maxlen=max_len, sequences=x_test, padding=\"post\", value=num_words-1)\n",
        "\n",
        "x_val = [[word2idx[w[0]] for w in s] for s in sentences_val]\n",
        "x_val = pad_sequences(maxlen=max_len, sequences=x_val, padding=\"post\", value=num_words-1)\n",
        "\n",
        "y_train = [[tag2idx[w[2]] for w in s] for s in sentences_train]\n",
        "y_train = pad_sequences(maxlen=max_len, sequences=y_train, padding=\"post\", value=tag2idx_train[\"O\"])\n",
        "\n",
        "y_test = [[tag2idx[w[2]] for w in s] for s in sentences_test]\n",
        "y_test = pad_sequences(maxlen=max_len, sequences=y_test, padding=\"post\", value=tag2idx_test[\"O\"])\n",
        "\n",
        "y_val = [[tag2idx[w[2]] for w in s] for s in sentences_val]\n",
        "y_val = pad_sequences(maxlen=max_len, sequences=y_val, padding=\"post\", value=tag2idx_val[\"O\"])"
      ]
    },
    {
      "cell_type": "code",
      "execution_count": null,
      "metadata": {
        "id": "q7VfnnkXpkfS"
      },
      "outputs": [],
      "source": [
        "# from sklearn.model_selection import train_test_split\n",
        "# x_train, x_test, y_train, y_test = train_test_split(X, y, test_size=0.2, random_state=1)"
      ]
    },
    {
      "cell_type": "markdown",
      "metadata": {
        "id": "P-r4PR85hpoF"
      },
      "source": [
        "### Rede Neural: Bi-LSTM"
      ]
    },
    {
      "cell_type": "code",
      "execution_count": null,
      "metadata": {
        "id": "Y2vM7IkXpkiH"
      },
      "outputs": [],
      "source": [
        "from tensorflow.keras import Model, Input\n",
        "from tensorflow.keras.layers import LSTM, Embedding, Dense\n",
        "from tensorflow.keras.layers import TimeDistributed, SpatialDropout1D, Bidirectional"
      ]
    },
    {
      "cell_type": "code",
      "execution_count": null,
      "metadata": {
        "colab": {
          "base_uri": "https://localhost:8080/"
        },
        "id": "Aee3mCZ3pkkv",
        "outputId": "e8adf78f-8175-4a88-940a-e2551654ef46"
      },
      "outputs": [
        {
          "name": "stdout",
          "output_type": "stream",
          "text": [
            "Model: \"model\"\n",
            "_________________________________________________________________\n",
            " Layer (type)                Output Shape              Param #   \n",
            "=================================================================\n",
            " input_1 (InputLayer)        [(None, 256)]             0         \n",
            "                                                                 \n",
            " embedding (Embedding)       (None, 256, 50)           1330200   \n",
            "                                                                 \n",
            " spatial_dropout1d (SpatialD  (None, 256, 50)          0         \n",
            " ropout1D)                                                       \n",
            "                                                                 \n",
            " bidirectional (Bidirectiona  (None, 256, 200)         120800    \n",
            " l)                                                              \n",
            "                                                                 \n",
            " time_distributed (TimeDistr  (None, 256, 4)           804       \n",
            " ibuted)                                                         \n",
            "                                                                 \n",
            "=================================================================\n",
            "Total params: 1,451,804\n",
            "Trainable params: 1,451,804\n",
            "Non-trainable params: 0\n",
            "_________________________________________________________________\n"
          ]
        }
      ],
      "source": [
        "input_word = Input(shape=(max_len,))\n",
        "# lowercase\n",
        "model = Embedding(input_dim=num_words, output_dim=50, input_length=max_len)(input_word)\n",
        "model = SpatialDropout1D(0.1)(model)\n",
        "model = Bidirectional(LSTM(units=100, return_sequences=True, recurrent_dropout=0.1))(model)\n",
        "out = TimeDistributed(Dense(num_tags, activation=\"softmax\"))(model)\n",
        "model = Model(input_word, out)\n",
        "model.summary()"
      ]
    },
    {
      "cell_type": "code",
      "execution_count": null,
      "metadata": {
        "id": "kOBpQg26pkqh"
      },
      "outputs": [],
      "source": [
        "model.compile(optimizer=\"adam\",\n",
        "              loss=\"sparse_categorical_crossentropy\",\n",
        "              metrics=[\"accuracy\"])"
      ]
    },
    {
      "cell_type": "markdown",
      "metadata": {
        "id": "My0tL0cciMXQ"
      },
      "source": [
        "### Treinamento do modelo"
      ]
    },
    {
      "cell_type": "code",
      "execution_count": null,
      "metadata": {
        "id": "4vy_NAcWUni3"
      },
      "outputs": [],
      "source": [
        "!pip install livelossplot"
      ]
    },
    {
      "cell_type": "code",
      "execution_count": null,
      "metadata": {
        "id": "kXIcD_pJOv68"
      },
      "outputs": [],
      "source": [
        "from tensorflow.keras.callbacks import ModelCheckpoint, EarlyStopping\n",
        "from livelossplot.tf_keras import PlotLossesCallback"
      ]
    },
    {
      "cell_type": "code",
      "execution_count": null,
      "metadata": {
        "colab": {
          "base_uri": "https://localhost:8080/",
          "height": 796
        },
        "id": "rAXexQVTho59",
        "outputId": "cfc06c26-282e-4b8d-936d-e43958756df4"
      },
      "outputs": [
        {
          "data": {
            "image/png": "[encoded data removed]",
            "text/plain": [
              "<Figure size 864x576 with 2 Axes>"
            ]
          },
          "metadata": {},
          "output_type": "display_data"
        },
        {
          "name": "stdout",
          "output_type": "stream",
          "text": [
            "accuracy\n",
            "\ttraining         \t (min:    0.944, max:    1.000, cur:    1.000)\n",
            "\tvalidation       \t (min:    0.956, max:    0.999, cur:    0.999)\n",
            "Loss\n",
            "\ttraining         \t (min:    0.002, max:    0.413, cur:    0.002)\n",
            "\tvalidation       \t (min:    0.004, max:    0.218, cur:    0.004)\n",
            "\n",
            "Epoch 00010: val_loss did not improve from 0.00362\n",
            "\b\b\b\b\b\b\b\b\b\b\b\b\b\b\b\b\b\b\b\b\b\b\b\b\b\b\b\b\b\b\b\b\b\b\b\b\b\b\b\b\b\b\b\b\b\b\b\b\b\b\b\b\b\b\b\b\b\b\b\b\b\b\b\b\b\b\b\b\b\b\b\b\b\b\b\b\b\b\b\b\b\b\r60/60 [==============================] - 55s 920ms/step - loss: 0.0016 - accuracy: 0.9997 - val_loss: 0.0040 - val_accuracy: 0.9988\n",
            "CPU times: user 16min 55s, sys: 43.4 s, total: 17min 39s\n",
            "Wall time: 9min 13s\n"
          ]
        }
      ],
      "source": [
        "%%time\n",
        "\n",
        "chkpt = ModelCheckpoint(\"model_weights_comecoefim_v3_256.h5\", monitor='val_loss',verbose=1, save_best_only=True, save_weights_only=False, mode='min')\n",
        "\n",
        "early_stopping = EarlyStopping(monitor='val_accuracy', min_delta=0, patience=1, verbose=0, mode='max', baseline=None, restore_best_weights=False)\n",
        "\n",
        "callbacks = [PlotLossesCallback(), chkpt, early_stopping]#, F1Metrics(idx2tag)]\n",
        "\n",
        "history = model.fit(\n",
        "    x=x_train,\n",
        "    y=y_train,\n",
        "    validation_data=(x_test,y_test),\n",
        "    batch_size=32, \n",
        "    epochs=10,\n",
        "    callbacks=callbacks,\n",
        "    verbose=1\n",
        ")"
      ]
    },
    {
      "cell_type": "markdown",
      "metadata": {
        "id": "2nwnnF0ziU3B"
      },
      "source": [
        "### Avaliação do modelo e funções de inferência"
      ]
    },
    {
      "cell_type": "code",
      "execution_count": null,
      "metadata": {
        "colab": {
          "base_uri": "https://localhost:8080/"
        },
        "id": "6euqX7UHplG7",
        "outputId": "c32c4457-443a-4ae1-f148-2f49c1b82f4f"
      },
      "outputs": [
        {
          "name": "stdout",
          "output_type": "stream",
          "text": [
            "10/10 [==============================] - 1s 119ms/step - loss: 0.0038 - accuracy: 0.9990\n"
          ]
        },
        {
          "data": {
            "text/plain": [
              "[0.003763139946386218, 0.9989863634109497]"
            ]
          },
          "execution_count": 55,
          "metadata": {},
          "output_type": "execute_result"
        }
      ],
      "source": [
        "model.evaluate(x_val, y_val)"
      ]
    },
    {
      "cell_type": "code",
      "execution_count": null,
      "metadata": {
        "colab": {
          "base_uri": "https://localhost:8080/"
        },
        "id": "tqwxJ7_A80wI",
        "outputId": "fbe1a81e-89a7-454c-e68d-b40feacbd487"
      },
      "outputs": [
        {
          "name": "stdout",
          "output_type": "stream",
          "text": [
            "10/10 - 2s - 2s/epoch - 160ms/step\n"
          ]
        },
        {
          "data": {
            "text/plain": [
              "(316, 256, 4)"
            ]
          },
          "execution_count": 56,
          "metadata": {},
          "output_type": "execute_result"
        }
      ],
      "source": [
        "y_pred_lstm = model.predict(x_val, batch_size=32, verbose=2)\n",
        "# explicação shape: (instâncias, palavras em cada instância(max_len), prob de cada label)\n",
        "y_pred_lstm.shape"
      ]
    },
    {
      "cell_type": "code",
      "execution_count": null,
      "metadata": {
        "colab": {
          "base_uri": "https://localhost:8080/"
        },
        "id": "uXIzfNjF9gCi",
        "outputId": "964261e1-f4e8-467c-da0c-21f890b959d9"
      },
      "outputs": [
        {
          "data": {
            "text/plain": [
              "(316, 256)"
            ]
          },
          "execution_count": 57,
          "metadata": {},
          "output_type": "execute_result"
        }
      ],
      "source": [
        "y_val.shape"
      ]
    },
    {
      "cell_type": "code",
      "execution_count": null,
      "metadata": {
        "colab": {
          "base_uri": "https://localhost:8080/"
        },
        "id": "aRh0ohs49RkT",
        "outputId": "cb557d36-8035-4536-8182-e116687d975c"
      },
      "outputs": [
        {
          "data": {
            "text/plain": [
              "(316, 256)"
            ]
          },
          "execution_count": 58,
          "metadata": {},
          "output_type": "execute_result"
        }
      ],
      "source": [
        "index_array = np.argmax(y_pred_lstm, axis=-1)\n",
        "index_array.shape"
      ]
    },
    {
      "cell_type": "markdown",
      "metadata": {
        "id": "TXS9VgdXOqim"
      },
      "source": [
        "#### F1-Score com Seqeval"
      ]
    },
    {
      "cell_type": "code",
      "execution_count": null,
      "metadata": {
        "id": "zjih0UJmOoIK"
      },
      "outputs": [],
      "source": [
        "!pip install seqeval"
      ]
    },
    {
      "cell_type": "code",
      "execution_count": null,
      "metadata": {
        "id": "4JRq6-x0Oe_w"
      },
      "outputs": [],
      "source": [
        "from seqeval.metrics import f1_score, classification_report"
      ]
    },
    {
      "cell_type": "code",
      "execution_count": null,
      "metadata": {
        "colab": {
          "base_uri": "https://localhost:8080/"
        },
        "id": "sZF4F0BKOja1",
        "outputId": "6fa00586-97b7-4dd8-c736-73c02a17b8d7"
      },
      "outputs": [
        {
          "data": {
            "text/plain": [
              "{0: 'B-FIM', 1: 'I-Inicio', 2: 'O', 3: 'B-Inicio'}"
            ]
          },
          "execution_count": 61,
          "metadata": {},
          "output_type": "execute_result"
        }
      ],
      "source": [
        "# para usar no seqeval\n",
        "idx2tag = {v: k for k, v in tag2idx.items()}\n",
        "idx2tag"
      ]
    },
    {
      "cell_type": "code",
      "execution_count": null,
      "metadata": {
        "id": "EstGluOOKTNB"
      },
      "outputs": [],
      "source": [
        "# seqeval pede listas de listas de strings como entrada.\n",
        "# esse pós-processamento mapeia os labels inteiros com suas\n",
        "# respectivas strings. É importante montar listas para atos\n",
        "# e fazer append dessas listas com a lista externa depois.\n",
        "# SÓ FUNCIONA DESSE JEITO!\n",
        "def numpy_to_seqeval(y_true, y_pred):\n",
        "  '''\n",
        "    Parameters:\n",
        "    y_true: labels verdadeiros (num_atos, max_len)\n",
        "    y_pred: saída do model.predict com argmax axis=-1 (num_atos, max_len)\n",
        "\n",
        "    Returns:\n",
        "    ground_truth: lista de listas com strings de cada tag para\n",
        "    os labels verdadeiros\n",
        "    tags_preditas: lista de listas com strings de cada tag para\n",
        "    os labels preditos\n",
        "  '''\n",
        "  tags_preditas = []\n",
        "  ground_truth = []\n",
        "  for ato in y_pred:\n",
        "    tags_ato = []\n",
        "    for palavra in ato:\n",
        "      tags_ato.append(idx2tag[palavra])\n",
        "    tags_preditas.append(tags_ato)\n",
        "\n",
        "  for ato in y_true:\n",
        "    tags_ato = []\n",
        "    for palavra in ato:\n",
        "      tags_ato.append(idx2tag[palavra])\n",
        "    ground_truth.append(tags_ato)\n",
        "  \n",
        "  return ground_truth, tags_preditas"
      ]
    },
    {
      "cell_type": "code",
      "execution_count": null,
      "metadata": {
        "id": "zPA0V7IqNk-P"
      },
      "outputs": [],
      "source": [
        "agora, foi = numpy_to_seqeval(y_val, index_array)"
      ]
    },
    {
      "cell_type": "code",
      "execution_count": null,
      "metadata": {
        "colab": {
          "base_uri": "https://localhost:8080/"
        },
        "id": "OUHDlk-XKHte",
        "outputId": "3b247a91-3c47-46f5-be8c-b89f994b3dd5"
      },
      "outputs": [
        {
          "data": {
            "text/plain": [
              "0.9829365915314935"
            ]
          },
          "execution_count": 64,
          "metadata": {},
          "output_type": "execute_result"
        }
      ],
      "source": [
        "f1_score(agora, foi)"
      ]
    },
    {
      "cell_type": "code",
      "execution_count": null,
      "metadata": {
        "colab": {
          "base_uri": "https://localhost:8080/"
        },
        "id": "UDYNSRYvLshK",
        "outputId": "7174d261-c5df-4934-e843-ade4eb409d85"
      },
      "outputs": [
        {
          "name": "stdout",
          "output_type": "stream",
          "text": [
            "              precision    recall  f1-score   support\n",
            "\n",
            "         FIM       0.99      0.98      0.99      1190\n",
            "      Inicio       0.98      0.97      0.98      1192\n",
            "\n",
            "   micro avg       0.99      0.98      0.98      2382\n",
            "   macro avg       0.99      0.98      0.98      2382\n",
            "weighted avg       0.99      0.98      0.98      2382\n",
            "\n"
          ]
        }
      ],
      "source": [
        "print(classification_report(agora, foi))"
      ]
    },
    {
      "cell_type": "markdown",
      "metadata": {
        "id": "cyLzsRyV7ujz"
      },
      "source": [
        "#### Função de inferência - Segmentação"
      ]
    },
    {
      "cell_type": "code",
      "execution_count": null,
      "metadata": {
        "colab": {
          "base_uri": "https://localhost:8080/"
        },
        "id": "I6NiltVosnpm",
        "outputId": "e0514310-32c3-4084-cf1c-06e4518f6043"
      },
      "outputs": [
        {
          "data": {
            "text/plain": [
              "{'B-FIM': 1, 'B-Inicio': 3, 'I-Inicio': 0, 'O': 2}"
            ]
          },
          "execution_count": 79,
          "metadata": {},
          "output_type": "execute_result"
        }
      ],
      "source": [
        "tag2idx"
      ]
    },
    {
      "cell_type": "code",
      "execution_count": null,
      "metadata": {
        "colab": {
          "base_uri": "https://localhost:8080/"
        },
        "id": "yGisc8Mppc_s",
        "outputId": "1a11266d-7afa-4355-8a06-e65f0de75845"
      },
      "outputs": [
        {
          "name": "stdout",
          "output_type": "stream",
          "text": [
            "[nltk_data] Downloading package punkt to /root/nltk_data...\n",
            "[nltk_data]   Package punkt is already up-to-date!\n"
          ]
        },
        {
          "data": {
            "text/plain": [
              "True"
            ]
          },
          "execution_count": 80,
          "metadata": {},
          "output_type": "execute_result"
        }
      ],
      "source": [
        "import nltk\n",
        "nltk.download('punkt')"
      ]
    },
    {
      "cell_type": "code",
      "execution_count": null,
      "metadata": {
        "id": "RV0Aqu0kWt-f"
      },
      "outputs": [],
      "source": [
        "def passito_passito(texto, max_len):\n",
        "    texto_tokenizado = word_tokenize(texto)\n",
        "    # print(f'Qtd de tokens no texto dado: {len(texto_tokenizado)}')\n",
        "    trechos = []\n",
        "    if len(texto_tokenizado) > max_len:\n",
        "        num_listas = len(texto_tokenizado) // max_len\n",
        "        idx_tokens_restantes = num_listas*max_len\n",
        "        inicio = 0\n",
        "        for num in range(num_listas):\n",
        "            fim = (num+1)*max_len\n",
        "            lista = texto_tokenizado[inicio:fim]\n",
        "            inicio = (num+1)*max_len\n",
        "            trechos.append(lista)\n",
        "            if num == num_listas-1:\n",
        "                lista = texto_tokenizado[idx_tokens_restantes:]\n",
        "                trechos.append(lista)\n",
        "    else:\n",
        "        trechos.append(texto_tokenizado)\n",
        "    return trechos"
      ]
    },
    {
      "cell_type": "code",
      "execution_count": null,
      "metadata": {
        "id": "uabibQYmWjsN"
      },
      "outputs": [],
      "source": [
        "def get_preds(texto, modelo, max_len, word2idx, idx2tag):\n",
        "    trechos = passito_passito(texto, 256)\n",
        "    preds_final = []\n",
        "    texto_tok_final = []\n",
        "\n",
        "    for trecho in trechos:\n",
        "        print(f'Qtd de tokens no texto dado: {len(trecho)}')\n",
        "        # print(trecho)\n",
        "        index_textos = []\n",
        "        for word in trecho:\n",
        "            if word in word2idx.keys():\n",
        "                index_textos.append(word2idx[word])\n",
        "            else:\n",
        "                index_textos.append(word2idx['UNK'])\n",
        "        index_textos = pad_sequences(maxlen=max_len, sequences=[index_textos], padding='post', value=len(word2idx)-1)\n",
        "        index_textos = np.array(index_textos)\n",
        "        pred = modelo.predict(index_textos)\n",
        "        pred = np.argmax(pred, axis=-1)\n",
        "        for token, rotulo in zip(trecho, pred[0]):\n",
        "            texto_tok_final.append(token)\n",
        "            preds_final.append(idx2tag[rotulo])\n",
        "\n",
        "        # for token, tag in zip(trecho, pred[0]):\n",
        "        #     print(f'{token}\\t {idx2tag[tag]}')\n",
        "\n",
        "    return texto_tok_final, preds_final"
      ]
    },
    {
      "cell_type": "code",
      "execution_count": null,
      "metadata": {
        "colab": {
          "base_uri": "https://localhost:8080/"
        },
        "id": "NUBSiRtKc0Z8",
        "outputId": "cbd291bb-6562-403d-f95c-e9d09de5bfeb"
      },
      "outputs": [
        {
          "name": "stdout",
          "output_type": "stream",
          "text": [
            "Qtd de tokens no texto dado: 90\n",
            "EXONERAR\t B-Inicio\n",
            "SANDRA\t I-Inicio\n",
            "BARBOSA\t O\n",
            "DE\t O\n",
            "ARAÚJO\t O\n",
            "do\t O\n",
            "Cargo\t O\n",
            "de\t O\n",
            "Natureza\t O\n",
            "Especial\t O\n",
            ",\t O\n",
            "Símbolo\t O\n",
            "CNE-07\t O\n",
            ",\t O\n",
            "SIGRH\t O\n",
            "05002782\t O\n",
            ",\t O\n",
            "de\t O\n",
            "Assessor\t O\n",
            "Especial\t O\n",
            ",\t O\n",
            "do\t O\n",
            "Gabinete\t O\n",
            ",\t O\n",
            "do\t O\n",
            "Gabinete\t O\n",
            "do\t O\n",
            "Vice-Governador\t O\n",
            ".\t B-FIM\n",
            "NOMEAR\t B-Inicio\n",
            "THAIS\t I-Inicio\n",
            "OLIVEIRA\t O\n",
            ",\t O\n",
            "Farmacêutico\t O\n",
            "Bioquímico-Farmácia\t O\n",
            ",\t O\n",
            "matrícula\t O\n",
            "17043700\t O\n",
            ",\t O\n",
            "para\t O\n",
            "exercer\t O\n",
            "o\t O\n",
            "Cargo\t O\n",
            "Público\t O\n",
            "em\t O\n",
            "Comissão\t O\n",
            ",\t O\n",
            "Símbolo\t O\n",
            "CPC-08\t O\n",
            ",\t O\n",
            "SIGRH\t O\n",
            "55004987\t O\n",
            ",\t O\n",
            "de\t O\n",
            "Gerente\t O\n",
            ",\t O\n",
            "da\t O\n",
            "Gerência\t O\n",
            "de\t O\n",
            "Armazenamento\t O\n",
            "e\t O\n",
            "Distribuição\t O\n",
            "de\t O\n",
            "Medicamentos\t O\n",
            "e\t O\n",
            "Materiais\t O\n",
            "Laboratoriais\t O\n",
            ",\t O\n",
            "da\t O\n",
            "Diretoria\t O\n",
            "de\t O\n",
            "Logística\t O\n",
            ",\t O\n",
            "da\t O\n",
            "Subsecretaria\t O\n",
            "de\t O\n",
            "Logística\t O\n",
            "em\t O\n",
            "Saúde\t O\n",
            ",\t O\n",
            "da\t O\n",
            "Secretaria\t O\n",
            "de\t O\n",
            "Estado\t O\n",
            "de\t O\n",
            "Saúde\t O\n",
            "do\t O\n",
            "Distrito\t O\n",
            "Federal\t O\n",
            ".\t O\n"
          ]
        }
      ],
      "source": [
        "exemplo = 'EXONERAR SANDRA BARBOSA DE ARAÚJO do Cargo de Natureza Especial, Símbolo CNE-07, SIGRH 05002782, de Assessor Especial, do Gabinete, do Gabinete do Vice-Governador. NOMEAR THAIS OLIVEIRA, Farmacêutico Bioquímico-Farmácia, matrícula 17043700, para exercer o Cargo Público em Comissão, Símbolo CPC-08, SIGRH 55004987, de Gerente, da Gerência de Armazenamento e Distribuição de Medicamentos e Materiais Laboratoriais, da Diretoria de Logística, da Subsecretaria de Logística em Saúde, da Secretaria de Estado de Saúde do Distrito Federal.'\n",
        "texto_tok_final, preds_final = get_preds(exemplo, model, 256, word2idx, idx2tag)"
      ]
    },
    {
      "cell_type": "code",
      "execution_count": null,
      "metadata": {
        "colab": {
          "base_uri": "https://localhost:8080/"
        },
        "id": "_xGq88OheeE6",
        "outputId": "60530abe-075f-4883-e8f3-fba196fbbf15"
      },
      "outputs": [
        {
          "data": {
            "text/plain": [
              "(90, 90)"
            ]
          },
          "execution_count": 92,
          "metadata": {},
          "output_type": "execute_result"
        }
      ],
      "source": [
        "len(texto_tok_final), len(preds_final)"
      ]
    },
    {
      "cell_type": "code",
      "execution_count": null,
      "metadata": {
        "colab": {
          "base_uri": "https://localhost:8080/"
        },
        "id": "eN_cXCY2f5t3",
        "outputId": "ecf6cea6-bc26-42fa-c809-5be960ca3e6d"
      },
      "outputs": [
        {
          "name": "stdout",
          "output_type": "stream",
          "text": [
            "idx 0, token EXONERAR\n",
            "idx 29, token NOMEAR\n"
          ]
        }
      ],
      "source": [
        "enderecos = encontrar_fronteiras(texto_tok_final, preds_final)"
      ]
    },
    {
      "cell_type": "code",
      "execution_count": null,
      "metadata": {
        "id": "sYzmey66eUin"
      },
      "outputs": [],
      "source": [
        "def encontrar_fronteiras(texto_tok_final, preds_final):\n",
        "    inicio = False\n",
        "    fim = False\n",
        "    enderecos = []\n",
        "    for idx, tag in enumerate(preds_final):\n",
        "        # print(f'{idx, tag}')\n",
        "        if tag == 'B-Inicio':\n",
        "            inicio = idx\n",
        "            # print(f'idx {idx}, token {texto_tok_final[idx]}')\n",
        "        elif tag == 'B-FIM':\n",
        "            # se já tem inicio, seta o fim\n",
        "            if inicio is not False:\n",
        "                # se tem início e o fim vem depois\n",
        "                if idx > inicio:\n",
        "                    fim = idx\n",
        "                else:\n",
        "                    fim = False\n",
        "            else:\n",
        "                fim = False\n",
        "        if inicio is not False and fim is not False:\n",
        "            enderecos.append([inicio, fim])\n",
        "            inicio = False\n",
        "            fim = False\n",
        "    \n",
        "    if inicio is not False and fim is False:\n",
        "        enderecos.append([inicio, len(preds_final)])            \n",
        "    \n",
        "    return enderecos"
      ]
    },
    {
      "cell_type": "code",
      "execution_count": null,
      "metadata": {
        "id": "APXJ8qgrimQV"
      },
      "outputs": [],
      "source": [
        "from nltk.tokenize.treebank import TreebankWordDetokenizer"
      ]
    },
    {
      "cell_type": "code",
      "execution_count": null,
      "metadata": {
        "id": "rTzpy5esiUv2"
      },
      "outputs": [],
      "source": [
        "def strings_finais(enderecos, texto_tok_final):\n",
        "    detokenizador = TreebankWordDetokenizer()\n",
        "    atos_encontrados = []\n",
        "    for endereco in enderecos:\n",
        "        if endereco[1] + 1 > len(texto_tok_final):\n",
        "            string_segmentada = detokenizador.detokenize(texto_tok_final[endereco[0]:endereco[1]])\n",
        "        else:\n",
        "            string_segmentada = detokenizador.detokenize(texto_tok_final[endereco[0]:endereco[1]+1])\n",
        "        atos_encontrados.append(string_segmentada)\n",
        "    \n",
        "    return atos_encontrados"
      ]
    },
    {
      "cell_type": "code",
      "execution_count": null,
      "metadata": {
        "colab": {
          "base_uri": "https://localhost:8080/"
        },
        "id": "BJQ50yFcjuXf",
        "outputId": "efed3661-beec-4626-954c-916d6dd4091f"
      },
      "outputs": [
        {
          "data": {
            "text/plain": [
              "['EXONERAR SANDRA BARBOSA DE ARAÚJO do Cargo de Natureza Especial, Símbolo CNE-07, SIGRH 05002782, de Assessor Especial, do Gabinete, do Gabinete do Vice-Governador.',\n",
              " 'NOMEAR THAIS OLIVEIRA, Farmacêutico Bioquímico-Farmácia, matrícula 17043700, para exercer o Cargo Público em Comissão, Símbolo CPC-08, SIGRH 55004987, de Gerente, da Gerência de Armazenamento e Distribuição de Medicamentos e Materiais Laboratoriais, da Diretoria de Logística, da Subsecretaria de Logística em Saúde, da Secretaria de Estado de Saúde do Distrito Federal.']"
            ]
          },
          "execution_count": 119,
          "metadata": {},
          "output_type": "execute_result"
        }
      ],
      "source": [
        "strings_finais(enderecos, texto_tok_final)"
      ]
    },
    {
      "cell_type": "code",
      "execution_count": null,
      "metadata": {
        "id": "Z5B80mVFkOxA"
      },
      "outputs": [],
      "source": [
        "def segmentacao(texto, modelo, max_len, word2idx, idx2tag):\n",
        "    texto_tok_final, preds_final = get_preds(texto, modelo, max_len, word2idx, idx2tag)\n",
        "    enderecos = encontrar_fronteiras(texto_tok_final, preds_final)\n",
        "    atos_encontrados = strings_finais(enderecos, texto_tok_final)\n",
        "\n",
        "    return(atos_encontrados)"
      ]
    },
    {
      "cell_type": "code",
      "execution_count": null,
      "metadata": {
        "colab": {
          "base_uri": "https://localhost:8080/"
        },
        "id": "qsTzlhgOlAk7",
        "outputId": "fc4cf3fc-085b-4292-9035-d4d721688070"
      },
      "outputs": [
        {
          "name": "stdout",
          "output_type": "stream",
          "text": [
            "Qtd de tokens no texto dado: 90\n"
          ]
        },
        {
          "data": {
            "text/plain": [
              "['EXONERAR SANDRA BARBOSA DE ARAÚJO do Cargo de Natureza Especial, Símbolo CNE-07, SIGRH 05002782, de Assessor Especial, do Gabinete, do Gabinete do Vice-Governador.',\n",
              " 'NOMEAR THAIS OLIVEIRA, Farmacêutico Bioquímico-Farmácia, matrícula 17043700, para exercer o Cargo Público em Comissão, Símbolo CPC-08, SIGRH 55004987, de Gerente, da Gerência de Armazenamento e Distribuição de Medicamentos e Materiais Laboratoriais, da Diretoria de Logística, da Subsecretaria de Logística em Saúde, da Secretaria de Estado de Saúde do Distrito Federal.']"
            ]
          },
          "execution_count": 125,
          "metadata": {},
          "output_type": "execute_result"
        }
      ],
      "source": [
        "exemplo = 'EXONERAR SANDRA BARBOSA DE ARAÚJO do Cargo de Natureza Especial, Símbolo CNE-07, SIGRH 05002782, de Assessor Especial, do Gabinete, do Gabinete do Vice-Governador. NOMEAR THAIS OLIVEIRA, Farmacêutico Bioquímico-Farmácia, matrícula 17043700, para exercer o Cargo Público em Comissão, Símbolo CPC-08, SIGRH 55004987, de Gerente, da Gerência de Armazenamento e Distribuição de Medicamentos e Materiais Laboratoriais, da Diretoria de Logística, da Subsecretaria de Logística em Saúde, da Secretaria de Estado de Saúde do Distrito Federal.'\n",
        "segmentacao(exemplo, model, 256, word2idx, idx2tag)"
      ]
    },
    {
      "cell_type": "markdown",
      "metadata": {
        "id": "7itidQ7Kmuqz"
      },
      "source": [
        "Texto abaixo: Página 15, https://dodf.df.gov.br/index/visualizar-arquivo/?pasta=2022|01_Janeiro|DODF%20010%2014-01-2022|&arquivo=DODF%20010%2014-01-2022%20INTEGRA.pdf"
      ]
    },
    {
      "cell_type": "code",
      "execution_count": null,
      "metadata": {
        "colab": {
          "base_uri": "https://localhost:8080/"
        },
        "id": "5r0hFmHLlaEV",
        "outputId": "de909cbc-6032-4ba7-afac-b20fa037404f"
      },
      "outputs": [
        {
          "name": "stdout",
          "output_type": "stream",
          "text": [
            "Qtd de tokens no texto dado: 256\n",
            "Qtd de tokens no texto dado: 54\n"
          ]
        },
        {
          "data": {
            "text/plain": [
              "['EXONERAR, por estar sendo nomeado para outro cargo, ADILSON ALVES DE CASTRO JÚNIOR, Analista em Gestão e Assistência Pública à Saúde, matrícula 01294873, do Cargo Público em Comissão, Símbolo CPC-01, SIGRH 55003416, de Chefe, do Núcleo de Gestão de Pessoas das Unidades de Atenção Especializada no Guará, da Gerência de Pessoas das Unidades de Atenção Especializada da Região Centro-Sul, da Diretoria Administrativa, da Superintendência Regional de Saúde Centro-Sul, da Secretaria de Estado de Saúde do Distrito Federal.',\n",
              " 'EXONERAR KELLY DE SOUSA SILVA, Administradora, matrícula 14427869, do Cargo Público de Natureza Especial, Símbolo CPE-06, SIGRH 55005524, de Coordenador, da Coordenação de Administração de Profissionais, da Subsecretaria de Gestão de Pessoas, da Secretaria de Estado de Saúde do Distrito Federal.',\n",
              " 'NOMEAR ADILSON ALVES DE CASTRO JÚNIOR, Analista em Gestão e Assistência Pública à Saúde, matrícula 01294873, para exercer o Cargo Público de Natureza Especial, Símbolo CPE-06, SIGRH 55005524, de Coordenador, da Coordenação de Administração de Profissionais, da Subsecretaria de Gestão de Pessoas, da Secretaria de Saúde do Distrito Federal.',\n",
              " 'EXONERAR, por estar sendo nomeada para outro cargo, ZAYANA SILVA DE CASTRO PIRES MENEZES, Administradora, matrícula 14405741, do Cargo Público em Comissão, Símbolo CPC-04, SIGRH 55005588, de Assessor Técnico, da Superintendência da Região de Saúde Centro-Sul, da Secretaria de Estado de Saúde do Distrito Federal.',\n",
              " 'EXONERAR FLÁVIA MACHADO DE SOUZA CABRAL, Analista em Gestão e Assistência Pública à Saúde, matrícula 14433273, do Cargo Público de Natureza Especial, Símbolo CPE-07, SIGRH 55005243, de Assessor Especial, da Subsecretaria de Gestão de Pessoas, da Secretaria de Estado de Saúde do Distrito Federal.']"
            ]
          },
          "execution_count": 126,
          "metadata": {},
          "output_type": "execute_result"
        }
      ],
      "source": [
        "ola = 'EXONERAR, por estar sendo nomeado para outro cargo, ADILSON ALVES DE CASTRO JÚNIOR, Analista em Gestão e Assistência Pública à Saúde, matrícula 01294873, do Cargo Público em Comissão, Símbolo CPC-01, SIGRH 55003416, de Chefe, do Núcleo de Gestão de Pessoas das Unidades de Atenção Especializada no Guará, da Gerência de Pessoas das Unidades de Atenção Especializada da Região Centro-Sul, da Diretoria Administrativa, da Superintendência Regional de Saúde Centro-Sul, da Secretaria de Estado de Saúde do Distrito Federal. EXONERAR KELLY DE SOUSA SILVA, Administradora, matrícula 14427869, do Cargo Público de Natureza Especial, Símbolo CPE-06, SIGRH 55005524, de Coordenador, da Coordenação de Administração de Profissionais, da Subsecretaria de Gestão de Pessoas, da Secretaria de Estado de Saúde do Distrito Federal. NOMEAR ADILSON ALVES DE CASTRO JÚNIOR, Analista em Gestão e Assistência Pública à Saúde, matrícula 01294873, para exercer o Cargo Público de Natureza Especial, Símbolo CPE-06, SIGRH 55005524, de Coordenador, da Coordenação de Administração de Profissionais, da Subsecretaria de Gestão de Pessoas, da Secretaria de Saúde do Distrito Federal. EXONERAR, por estar sendo nomeada para outro cargo, ZAYANA SILVA DE CASTRO PIRES MENEZES, Administradora, matrícula 14405741, do Cargo Público em Comissão, Símbolo CPC-04, SIGRH 55005588, de Assessor Técnico, da Superintendência da Região de Saúde Centro-Sul, da Secretaria de Estado de Saúde do Distrito Federal. EXONERAR FLÁVIA MACHADO DE SOUZA CABRAL, Analista em Gestão e Assistência Pública à Saúde, matrícula 14433273, do Cargo Público de Natureza Especial, Símbolo CPE-07, SIGRH 55005243, de Assessor Especial, da Subsecretaria de Gestão de Pessoas, da Secretaria de Estado de Saúde do Distrito Federal.'\n",
        "segmentacao(ola, model, 256, word2idx, idx2tag)"
      ]
    },
    {
      "cell_type": "code",
      "execution_count": null,
      "metadata": {
        "colab": {
          "base_uri": "https://localhost:8080/"
        },
        "id": "QhD930kKl5gH",
        "outputId": "da032f39-d547-4b2b-ec32-3e04519cf9f2"
      },
      "outputs": [
        {
          "name": "stdout",
          "output_type": "stream",
          "text": [
            "Qtd de tokens no texto dado: 256\n",
            "Qtd de tokens no texto dado: 99\n"
          ]
        },
        {
          "data": {
            "text/plain": [
              "['EXONERAR, por estar sendo nomeado para outro cargo, ADILSON ALVES DE CASTRO JÚNIOR, Analista em Gestão e Assistência Pública à Saúde, matrícula 01294873, do Cargo Público em Comissão, Símbolo CPC-01, SIGRH 55003416, de Chefe, do Núcleo de Gestão de Pessoas das Unidades de Atenção Especializada no Guará, da Gerência de Pessoas das Unidades de Atenção Especializada da Região Centro-Sul, da Diretoria Administrativa, da Superintendência Regional de Saúde Centro-Sul, da Secretaria de Estado de Saúde do Distrito Federal.',\n",
              " 'EXONERAR KELLY DE SOUSA SILVA, Administradora, matrícula 14427869, do Cargo Público de Natureza Especial, Símbolo CPE-06, SIGRH 55005524, de Coordenador, da Coordenação de Administração de Profissionais, da Subsecretaria de Gestão de Pessoas, da Secretaria de Estado de Saúde do Distrito Federal.',\n",
              " 'NOMEAR ADILSON ALVES DE CASTRO JÚNIOR, Analista em Gestão e Assistência Pública à Saúde, matrícula 01294873, para exercer o Cargo Público de Natureza Especial, Símbolo CPE-06, SIGRH 55005524, de Coordenador, da Coordenação de Administração de Profissionais, da Subsecretaria de Gestão de Pessoas, da Secretaria de Saúde do Distrito Federal.',\n",
              " 'EXONERAR, por estar sendo nomeada para outro cargo, ZAYANA SILVA DE CASTRO PIRES MENEZES, Administradora, matrícula 14405741, do Cargo Público em Comissão, Símbolo CPC-04, SIGRH 55005588, de Assessor Técnico, da Superintendência da Região de Saúde Centro-Sul, da Secretaria de Estado de Saúde do Distrito Federal.',\n",
              " 'EXONERAR FLÁVIA MACHADO DE SOUZA CABRAL, Analista em Gestão e Assistência Pública à Saúde, matrícula 14433273, do Cargo Público de Natureza Especial, Símbolo CPE-07, SIGRH 55005243, de Assessor Especial, da Subsecretaria de Gestão de Pessoas, da Secretaria de Estado de Saúde do Distrito Federal.']"
            ]
          },
          "execution_count": 127,
          "metadata": {},
          "output_type": "execute_result"
        }
      ],
      "source": [
        "hey = 'O VICE-GOVERNADOR NO EXERCÍCIO DO CARGO DE GOVERNADOR DO DISTRITO FEDERAL, com fundamento no artigo 92, e no uso das atribuições que lhe conferem os incisos XXVI e XXVII, do artigo 100, da Lei Orgânica do Distrito Federal, resolve: EXONERAR, por estar sendo nomeado para outro cargo, ADILSON ALVES DE CASTRO JÚNIOR, Analista em Gestão e Assistência Pública à Saúde, matrícula 01294873, do Cargo Público em Comissão, Símbolo CPC-01, SIGRH 55003416, de Chefe, do Núcleo de Gestão de Pessoas das Unidades de Atenção Especializada no Guará, da Gerência de Pessoas das Unidades de Atenção Especializada da Região Centro-Sul, da Diretoria Administrativa, da Superintendência Regional de Saúde Centro-Sul, da Secretaria de Estado de Saúde do Distrito Federal. EXONERAR KELLY DE SOUSA SILVA, Administradora, matrícula 14427869, do Cargo Público de Natureza Especial, Símbolo CPE-06, SIGRH 55005524, de Coordenador, da Coordenação de Administração de Profissionais, da Subsecretaria de Gestão de Pessoas, da Secretaria de Estado de Saúde do Distrito Federal. NOMEAR ADILSON ALVES DE CASTRO JÚNIOR, Analista em Gestão e Assistência Pública à Saúde, matrícula 01294873, para exercer o Cargo Público de Natureza Especial, Símbolo CPE-06, SIGRH 55005524, de Coordenador, da Coordenação de Administração de Profissionais, da Subsecretaria de Gestão de Pessoas, da Secretaria de Saúde do Distrito Federal. EXONERAR, por estar sendo nomeada para outro cargo, ZAYANA SILVA DE CASTRO PIRES MENEZES, Administradora, matrícula 14405741, do Cargo Público em Comissão, Símbolo CPC-04, SIGRH 55005588, de Assessor Técnico, da Superintendência da Região de Saúde Centro-Sul, da Secretaria de Estado de Saúde do Distrito Federal. EXONERAR FLÁVIA MACHADO DE SOUZA CABRAL, Analista em Gestão e Assistência Pública à Saúde, matrícula 14433273, do Cargo Público de Natureza Especial, Símbolo CPE-07, SIGRH 55005243, de Assessor Especial, da Subsecretaria de Gestão de Pessoas, da Secretaria de Estado de Saúde do Distrito Federal.'\n",
        "segmentacao(hey, model, 256, word2idx, idx2tag)"
      ]
    },
    {
      "cell_type": "code",
      "execution_count": null,
      "metadata": {
        "id": "c3-3mn7km4hS"
      },
      "outputs": [],
      "source": [
        "with open('word2idx_funcional.pkl', 'wb') as f:\n",
        "  pkl.dump(word2idx, f)\n",
        "\n",
        "with open('idx2tag_funcional.pkl', 'wb') as f:\n",
        "  pkl.dump(tag2idx, f)"
      ]
    },
    {
      "cell_type": "markdown",
      "metadata": {
        "id": "_028j38IGG9k"
      },
      "source": [
        "## Classificação de textos"
      ]
    },
    {
      "cell_type": "markdown",
      "metadata": {
        "id": "Pg6WXOSWH6_O"
      },
      "source": [
        "### Separação dos dados"
      ]
    },
    {
      "cell_type": "code",
      "execution_count": null,
      "metadata": {
        "id": "-Le5oXF_GJCp"
      },
      "outputs": [],
      "source": [
        "df = pd.read_csv('/content/dodf_atos_pessoal_v3.csv')\n",
        "df_atos = df.loc[df['tipo_ent'].str.contains('Ato_')]\n",
        "df_atos = df_atos.reset_index(drop=True)\n",
        "df_atos_usab = df_atos.loc[df_atos['id_dodf'] != ('44_175.10.9.2015' or '63_191.20.9.2012' or '29_200.24.9.2014' or '21_139.10.7.2014')]\n",
        "df_atos_usab = df_atos_usab.reset_index(drop=True)"
      ]
    },
    {
      "cell_type": "code",
      "execution_count": null,
      "metadata": {
        "id": "23SKLYOgHA27"
      },
      "outputs": [],
      "source": [
        "possible_labels = df_atos_usab.tipo_ent.unique()\n",
        "label_dict = {}\n",
        "for index, label in enumerate(possible_labels):\n",
        "    label_dict[label] = index\n",
        "num2label = {v: k for k, v in label_dict.items()}"
      ]
    },
    {
      "cell_type": "code",
      "execution_count": null,
      "metadata": {
        "id": "hBUWnmZLG8TL"
      },
      "outputs": [],
      "source": [
        "df_atos_usab['label_int'] = df_atos_usab.tipo_ent.replace(label_dict)\n",
        "df_atos_cls = df_atos_usab.drop(['id_ato', 'id_dodf', 'num_doc_dodf', 'data_doc_dodf',\n",
        "              'tipo_rel', 'id_rel', 'anotador_rel', 'texto_rel', 'id_ent', 'anotador_ent'], axis=1)\n",
        "df_atos_cls"
      ]
    },
    {
      "cell_type": "code",
      "execution_count": null,
      "metadata": {
        "id": "2tJNobcaHMh0"
      },
      "outputs": [],
      "source": [
        "from sklearn.model_selection import train_test_split\n",
        "\n",
        "X_train_cls, X_test_cls, y_train_cls, y_test_cls = train_test_split(df_atos_cls['texto_ent'],\n",
        "                                                                    df_atos_cls['label_int'],\n",
        "                                                                    test_size=0.25, \n",
        "                                                                    random_state=14, \n",
        "                                                                    stratify=df_atos_cls['label_int'],)\n",
        "\n",
        "# X_test_cls, X_val_cls, y_test_cls, y_val_cls = train_test_split(X_test_cls, y_test_cls, test_size=0.5,\n",
        "#                                                 random_state=14, stratify=y_test_cls)"
      ]
    },
    {
      "cell_type": "markdown",
      "metadata": {
        "id": "i1z3RA5OH54R"
      },
      "source": [
        "### Caracterização TF-IDF e classificação com SVM"
      ]
    },
    {
      "cell_type": "code",
      "execution_count": null,
      "metadata": {
        "id": "To1Lw0ClH3RB"
      },
      "outputs": [],
      "source": [
        "from sklearn.svm import LinearSVC\n",
        "from sklearn.metrics import precision_recall_fscore_support"
      ]
    },
    {
      "cell_type": "code",
      "execution_count": null,
      "metadata": {
        "colab": {
          "base_uri": "https://localhost:8080/"
        },
        "id": "Yi2JeCjTINCE",
        "outputId": "3e612076-15ce-4083-d3a9-f9f5a7209056"
      },
      "outputs": [
        {
          "name": "stdout",
          "output_type": "stream",
          "text": [
            "(7226, 12076)\n",
            "(2409, 12076)\n"
          ]
        }
      ],
      "source": [
        "from sklearn.feature_extraction.text import TfidfVectorizer\n",
        "\n",
        "vectorizer = TfidfVectorizer()\n",
        "\n",
        "# fit_transform no treino\n",
        "X_csr_train = vectorizer.fit_transform(X_train_cls)\n",
        "print(X_csr_train.shape)\n",
        "\n",
        "# apenas transform no teste\n",
        "X_csr_test = vectorizer.transform(X_test_cls)\n",
        "print(X_csr_test.shape)"
      ]
    },
    {
      "cell_type": "code",
      "execution_count": null,
      "metadata": {
        "colab": {
          "base_uri": "https://localhost:8080/"
        },
        "id": "sGCuwLLQIPMm",
        "outputId": "4b7bf0e0-516f-48db-dfac-59a5a1eaa071"
      },
      "outputs": [
        {
          "name": "stdout",
          "output_type": "stream",
          "text": [
            "[LibLinear]"
          ]
        }
      ],
      "source": [
        "svm_model = LinearSVC(max_iter=1000, random_state=14, verbose=True)\n",
        "svm_model.fit(X_csr_train, y_train_cls)\n",
        "svm_prediction_tfidf = svm_model.predict(X_csr_test)"
      ]
    },
    {
      "cell_type": "code",
      "execution_count": null,
      "metadata": {
        "id": "gQzp2_keIRm2"
      },
      "outputs": [],
      "source": [
        "results = pd.DataFrame(columns = ['Precision', 'Recall', 'F1 score', 'support']\n",
        "          )\n",
        "results.loc['TF-IDF + SVM'] = precision_recall_fscore_support(\n",
        "          y_test_cls, \n",
        "          svm_prediction_tfidf, \n",
        "          average = 'weighted'\n",
        "          )"
      ]
    },
    {
      "cell_type": "code",
      "execution_count": null,
      "metadata": {
        "colab": {
          "base_uri": "https://localhost:8080/",
          "height": 81
        },
        "id": "bD2mQ3HXITzz",
        "outputId": "603b5604-34a0-4c89-d87d-a794fb3736ac"
      },
      "outputs": [
        {
          "data": {
            "text/html": [
              "\n",
              "  <div id=\"df-ac2b4fa1-8fe6-44b4-9c31-468c78fda37c\">\n",
              "    <div class=\"colab-df-container\">\n",
              "      <div>\n",
              "<style scoped>\n",
              "    .dataframe tbody tr th:only-of-type {\n",
              "        vertical-align: middle;\n",
              "    }\n",
              "\n",
              "    .dataframe tbody tr th {\n",
              "        vertical-align: top;\n",
              "    }\n",
              "\n",
              "    .dataframe thead th {\n",
              "        text-align: right;\n",
              "    }\n",
              "</style>\n",
              "<table border=\"1\" class=\"dataframe\">\n",
              "  <thead>\n",
              "    <tr style=\"text-align: right;\">\n",
              "      <th></th>\n",
              "      <th>Precision</th>\n",
              "      <th>Recall</th>\n",
              "      <th>F1 score</th>\n",
              "      <th>support</th>\n",
              "    </tr>\n",
              "  </thead>\n",
              "  <tbody>\n",
              "    <tr>\n",
              "      <th>TF-IDF + SVM</th>\n",
              "      <td>0.991891</td>\n",
              "      <td>0.991698</td>\n",
              "      <td>0.991193</td>\n",
              "      <td>NaN</td>\n",
              "    </tr>\n",
              "  </tbody>\n",
              "</table>\n",
              "</div>\n",
              "      <button class=\"colab-df-convert\" onclick=\"convertToInteractive('df-ac2b4fa1-8fe6-44b4-9c31-468c78fda37c')\"\n",
              "              title=\"Convert this dataframe to an interactive table.\"\n",
              "              style=\"display:none;\">\n",
              "        \n",
              "  <svg xmlns=\"http://www.w3.org/2000/svg\" height=\"24px\"viewBox=\"0 0 24 24\"\n",
              "       width=\"24px\">\n",
              "    <path d=\"M0 0h24v24H0V0z\" fill=\"none\"/>\n",
              "    <path d=\"M18.56 5.44l.94 2.06.94-2.06 2.06-.94-2.06-.94-.94-2.06-.94 2.06-2.06.94zm-11 1L8.5 8.5l.94-2.06 2.06-.94-2.06-.94L8.5 2.5l-.94 2.06-2.06.94zm10 10l.94 2.06.94-2.06 2.06-.94-2.06-.94-.94-2.06-.94 2.06-2.06.94z\"/><path d=\"M17.41 7.96l-1.37-1.37c-.4-.4-.92-.59-1.43-.59-.52 0-1.04.2-1.43.59L10.3 9.45l-7.72 7.72c-.78.78-.78 2.05 0 2.83L4 21.41c.39.39.9.59 1.41.59.51 0 1.02-.2 1.41-.59l7.78-7.78 2.81-2.81c.8-.78.8-2.07 0-2.86zM5.41 20L4 18.59l7.72-7.72 1.47 1.35L5.41 20z\"/>\n",
              "  </svg>\n",
              "      </button>\n",
              "      \n",
              "  <style>\n",
              "    .colab-df-container {\n",
              "      display:flex;\n",
              "      flex-wrap:wrap;\n",
              "      gap: 12px;\n",
              "    }\n",
              "\n",
              "    .colab-df-convert {\n",
              "      background-color: #E8F0FE;\n",
              "      border: none;\n",
              "      border-radius: 50%;\n",
              "      cursor: pointer;\n",
              "      display: none;\n",
              "      fill: #1967D2;\n",
              "      height: 32px;\n",
              "      padding: 0 0 0 0;\n",
              "      width: 32px;\n",
              "    }\n",
              "\n",
              "    .colab-df-convert:hover {\n",
              "      background-color: #E2EBFA;\n",
              "      box-shadow: 0px 1px 2px rgba(60, 64, 67, 0.3), 0px 1px 3px 1px rgba(60, 64, 67, 0.15);\n",
              "      fill: #174EA6;\n",
              "    }\n",
              "\n",
              "    [theme=dark] .colab-df-convert {\n",
              "      background-color: #3B4455;\n",
              "      fill: #D2E3FC;\n",
              "    }\n",
              "\n",
              "    [theme=dark] .colab-df-convert:hover {\n",
              "      background-color: #434B5C;\n",
              "      box-shadow: 0px 1px 3px 1px rgba(0, 0, 0, 0.15);\n",
              "      filter: drop-shadow(0px 1px 2px rgba(0, 0, 0, 0.3));\n",
              "      fill: #FFFFFF;\n",
              "    }\n",
              "  </style>\n",
              "\n",
              "      <script>\n",
              "        const buttonEl =\n",
              "          document.querySelector('#df-ac2b4fa1-8fe6-44b4-9c31-468c78fda37c button.colab-df-convert');\n",
              "        buttonEl.style.display =\n",
              "          google.colab.kernel.accessAllowed ? 'block' : 'none';\n",
              "\n",
              "        async function convertToInteractive(key) {\n",
              "          const element = document.querySelector('#df-ac2b4fa1-8fe6-44b4-9c31-468c78fda37c');\n",
              "          const dataTable =\n",
              "            await google.colab.kernel.invokeFunction('convertToInteractive',\n",
              "                                                     [key], {});\n",
              "          if (!dataTable) return;\n",
              "\n",
              "          const docLinkHtml = 'Like what you see? Visit the ' +\n",
              "            '<a target=\"_blank\" href=https://colab.research.google.com/notebooks/data_table.ipynb>data table notebook</a>'\n",
              "            + ' to learn more about interactive tables.';\n",
              "          element.innerHTML = '';\n",
              "          dataTable['output_type'] = 'display_data';\n",
              "          await google.colab.output.renderOutput(dataTable, element);\n",
              "          const docLink = document.createElement('div');\n",
              "          docLink.innerHTML = docLinkHtml;\n",
              "          element.appendChild(docLink);\n",
              "        }\n",
              "      </script>\n",
              "    </div>\n",
              "  </div>\n",
              "  "
            ],
            "text/plain": [
              "              Precision    Recall  F1 score  support\n",
              "TF-IDF + SVM   0.991891  0.991698  0.991193      NaN"
            ]
          },
          "execution_count": 137,
          "metadata": {},
          "output_type": "execute_result"
        }
      ],
      "source": [
        "results"
      ]
    },
    {
      "cell_type": "code",
      "execution_count": null,
      "metadata": {
        "colab": {
          "base_uri": "https://localhost:8080/"
        },
        "id": "aNFQP_GsIZAS",
        "outputId": "b51c29c2-fa79-4934-82aa-a131200c28ae"
      },
      "outputs": [
        {
          "name": "stdout",
          "output_type": "stream",
          "text": [
            "                                precision    recall  f1-score   support\n",
            "\n",
            "              Ato_Substituicao       1.00      1.00      1.00       601\n",
            "         Ato_Abono_Permanencia       1.00      1.00      1.00        34\n",
            "       Ato_Retificacao_Efetivo       0.96      0.99      0.98       310\n",
            "                    Ato_Cessao       0.99      1.00      0.99        66\n",
            "                  Ato_Reversao       1.00      1.00      1.00        15\n",
            "   Ato_Exoneracao_Comissionado       1.00      1.00      1.00       594\n",
            "Ato_Tornado_Sem_Efeito_Exo_Nom       0.97      1.00      0.98        62\n",
            "     Ato_Nomeacao_Comissionado       1.00      1.00      1.00       577\n",
            "  Ato_Retificacao_Comissionado       1.00      0.78      0.88        50\n",
            "    Ato_Tornado_Sem_Efeito_Apo       1.00      0.40      0.57         5\n",
            "        Ato_Exoneracao_Efetivo       1.00      0.97      0.99        76\n",
            "          Ato_Nomeacao_Efetivo       1.00      0.95      0.97        19\n",
            "\n",
            "                      accuracy                           0.99      2409\n",
            "                     macro avg       0.99      0.92      0.95      2409\n",
            "                  weighted avg       0.99      0.99      0.99      2409\n",
            "\n"
          ]
        }
      ],
      "source": [
        "from sklearn.metrics import classification_report\n",
        "\n",
        "print(classification_report(y_test_cls, svm_prediction_tfidf, target_names=possible_labels))"
      ]
    },
    {
      "cell_type": "code",
      "execution_count": null,
      "metadata": {
        "id": "P7Oeh4U5uJct"
      },
      "outputs": [],
      "source": [
        "# https://stackoverflow.com/questions/60860121/plotly-how-to-make-an-annotated-confusion-matrix-using-a-heatmap\n",
        "def plot_cm_plotly(matriz_confusao, classes):\n",
        "  import plotly.figure_factory as ff\n",
        "  cm_list = matriz_confusao.tolist()\n",
        "  classes_list = classes.tolist()\n",
        "\n",
        "  z = cm_list\n",
        "\n",
        "  # invert z idx values\n",
        "  z = z[::-1]\n",
        "\n",
        "  x = classes_list\n",
        "  y = x[::-1].copy() # invert idx values of x\n",
        "\n",
        "  # change each element of z to type string for annotations\n",
        "  z_text = [[str(y) for y in x] for x in z]\n",
        "\n",
        "  # set up figure \n",
        "  fig = ff.create_annotated_heatmap(z, x=x, y=y, annotation_text=z_text, colorscale='Viridis')\n",
        "\n",
        "  # add title\n",
        "  fig.update_layout(title_text='<i><b>Confusion\\nmatrix</b></i>',\n",
        "                    #xaxis = dict(title='x'),\n",
        "                    #yaxis = dict(title='x')\n",
        "                  )\n",
        "\n",
        "  # add custom xaxis title\n",
        "  fig.add_annotation(dict(font=dict(color=\"black\",size=14),\n",
        "                          x=0.5,\n",
        "                          y=-0.15,\n",
        "                          showarrow=False,\n",
        "                          text=\"Predicted value\",\n",
        "                          xref=\"paper\",\n",
        "                          yref=\"paper\"))\n",
        "\n",
        "  # add custom yaxis title\n",
        "  fig.add_annotation(dict(font=dict(color=\"black\",size=14),\n",
        "                          x=-0.35,\n",
        "                          y=0.5,\n",
        "                          showarrow=False,\n",
        "                          text=\"Real value\",\n",
        "                          textangle=-90,\n",
        "                          xref=\"paper\",\n",
        "                          yref=\"paper\"))\n",
        "\n",
        "  # adjust margins to make room for yaxis title\n",
        "  fig.update_layout(margin=dict(t=50, l=200))\n",
        "\n",
        "  # add colorbar\n",
        "  fig['data'][0]['showscale'] = True\n",
        "  fig.show()"
      ]
    },
    {
      "cell_type": "code",
      "execution_count": null,
      "metadata": {
        "colab": {
          "base_uri": "https://localhost:8080/",
          "height": 542
        },
        "id": "W0fuGftquetk",
        "outputId": "9bc16634-d4fe-4b8f-f421-16ed7d6fd842"
      },
      "outputs": [
        {
          "data": {
            "text/html": [
              "<html>\n",
              "<head><meta charset=\"utf-8\" /></head>\n",
              "<body>\n",
              "    <div>\n",
              "            <script src=\"https://cdnjs.cloudflare.com/ajax/libs/mathjax/2.7.5/MathJax.js?config=TeX-AMS-MML_SVG\"></script><script type=\"text/javascript\">if (window.MathJax) {MathJax.Hub.Config({SVG: {font: \"STIX-Web\"}});}</script>\n",
              "                <script type=\"text/javascript\">window.PlotlyConfig = {MathJaxConfig: 'local'};</script>\n",
              "        <script src=\"https://cdn.plot.ly/plotly-latest.min.js\"></script>    \n",
              "            <div id=\"c90ad5c9-f5e7-45d0-b30e-e36094e6fd3a\" class=\"plotly-graph-div\" style=\"height:525px; width:100%;\"></div>\n",
              "            <script type=\"text/javascript\">\n",
              "                \n",
              "                    window.PLOTLYENV=window.PLOTLYENV || {};\n",
              "                    \n",
              "                if (document.getElementById(\"c90ad5c9-f5e7-45d0-b30e-e36094e6fd3a\")) {\n",
              "                    Plotly.newPlot(\n",
              "                        'c90ad5c9-f5e7-45d0-b30e-e36094e6fd3a',\n",
              "                        [{\"colorscale\": [[0.0, \"#440154\"], [0.1111111111111111, \"#482878\"], [0.2222222222222222, \"#3e4989\"], [0.3333333333333333, \"#31688e\"], [0.4444444444444444, \"#26828e\"], [0.5555555555555556, \"#1f9e89\"], [0.6666666666666666, \"#35b779\"], [0.7777777777777778, \"#6ece58\"], [0.8888888888888888, \"#b5de2b\"], [1.0, \"#fde725\"]], \"reversescale\": false, \"showscale\": true, \"type\": \"heatmap\", \"x\": [\"Ato_Substituicao\", \"Ato_Abono_Permanencia\", \"Ato_Retificacao_Efetivo\", \"Ato_Cessao\", \"Ato_Reversao\", \"Ato_Exoneracao_Comissionado\", \"Ato_Tornado_Sem_Efeito_Exo_Nom\", \"Ato_Nomeacao_Comissionado\", \"Ato_Retificacao_Comissionado\", \"Ato_Tornado_Sem_Efeito_Apo\", \"Ato_Exoneracao_Efetivo\", \"Ato_Nomeacao_Efetivo\"], \"y\": [\"Ato_Nomeacao_Efetivo\", \"Ato_Exoneracao_Efetivo\", \"Ato_Tornado_Sem_Efeito_Apo\", \"Ato_Retificacao_Comissionado\", \"Ato_Nomeacao_Comissionado\", \"Ato_Tornado_Sem_Efeito_Exo_Nom\", \"Ato_Exoneracao_Comissionado\", \"Ato_Reversao\", \"Ato_Cessao\", \"Ato_Retificacao_Efetivo\", \"Ato_Abono_Permanencia\", \"Ato_Substituicao\"], \"z\": [[1, 0, 0, 0, 0, 0, 0, 0, 0, 0, 0, 18], [0, 0, 0, 0, 0, 2, 0, 0, 0, 0, 74, 0], [0, 0, 2, 0, 0, 0, 1, 0, 0, 2, 0, 0], [0, 0, 10, 0, 0, 0, 0, 1, 39, 0, 0, 0], [0, 0, 0, 0, 0, 0, 0, 577, 0, 0, 0, 0], [0, 0, 0, 0, 0, 0, 62, 0, 0, 0, 0, 0], [0, 0, 0, 0, 0, 593, 0, 1, 0, 0, 0, 0], [0, 0, 0, 0, 15, 0, 0, 0, 0, 0, 0, 0], [0, 0, 0, 66, 0, 0, 0, 0, 0, 0, 0, 0], [0, 0, 308, 1, 0, 0, 1, 0, 0, 0, 0, 0], [0, 34, 0, 0, 0, 0, 0, 0, 0, 0, 0, 0], [601, 0, 0, 0, 0, 0, 0, 0, 0, 0, 0, 0]]}],\n",
              "                        {\"annotations\": [{\"font\": {\"color\": \"#FFFFFF\"}, \"showarrow\": false, \"text\": \"1\", \"x\": \"Ato_Substituicao\", \"xref\": \"x\", \"y\": \"Ato_Nomeacao_Efetivo\", \"yref\": \"y\"}, {\"font\": {\"color\": \"#FFFFFF\"}, \"showarrow\": false, \"text\": \"0\", \"x\": \"Ato_Abono_Permanencia\", \"xref\": \"x\", \"y\": \"Ato_Nomeacao_Efetivo\", \"yref\": \"y\"}, {\"font\": {\"color\": \"#FFFFFF\"}, \"showarrow\": false, \"text\": \"0\", \"x\": \"Ato_Retificacao_Efetivo\", \"xref\": \"x\", \"y\": \"Ato_Nomeacao_Efetivo\", \"yref\": \"y\"}, {\"font\": {\"color\": \"#FFFFFF\"}, \"showarrow\": false, \"text\": \"0\", \"x\": \"Ato_Cessao\", \"xref\": \"x\", \"y\": \"Ato_Nomeacao_Efetivo\", \"yref\": \"y\"}, {\"font\": {\"color\": \"#FFFFFF\"}, \"showarrow\": false, \"text\": \"0\", \"x\": \"Ato_Reversao\", \"xref\": \"x\", \"y\": \"Ato_Nomeacao_Efetivo\", \"yref\": \"y\"}, {\"font\": {\"color\": \"#FFFFFF\"}, \"showarrow\": false, \"text\": \"0\", \"x\": \"Ato_Exoneracao_Comissionado\", \"xref\": \"x\", \"y\": \"Ato_Nomeacao_Efetivo\", \"yref\": \"y\"}, {\"font\": {\"color\": \"#FFFFFF\"}, \"showarrow\": false, \"text\": \"0\", \"x\": \"Ato_Tornado_Sem_Efeito_Exo_Nom\", \"xref\": \"x\", \"y\": \"Ato_Nomeacao_Efetivo\", \"yref\": \"y\"}, {\"font\": {\"color\": \"#FFFFFF\"}, \"showarrow\": false, \"text\": \"0\", \"x\": \"Ato_Nomeacao_Comissionado\", \"xref\": \"x\", \"y\": \"Ato_Nomeacao_Efetivo\", \"yref\": \"y\"}, {\"font\": {\"color\": \"#FFFFFF\"}, \"showarrow\": false, \"text\": \"0\", \"x\": \"Ato_Retificacao_Comissionado\", \"xref\": \"x\", \"y\": \"Ato_Nomeacao_Efetivo\", \"yref\": \"y\"}, {\"font\": {\"color\": \"#FFFFFF\"}, \"showarrow\": false, \"text\": \"0\", \"x\": \"Ato_Tornado_Sem_Efeito_Apo\", \"xref\": \"x\", \"y\": \"Ato_Nomeacao_Efetivo\", \"yref\": \"y\"}, {\"font\": {\"color\": \"#FFFFFF\"}, \"showarrow\": false, \"text\": \"0\", \"x\": \"Ato_Exoneracao_Efetivo\", \"xref\": \"x\", \"y\": \"Ato_Nomeacao_Efetivo\", \"yref\": \"y\"}, {\"font\": {\"color\": \"#FFFFFF\"}, \"showarrow\": false, \"text\": \"18\", \"x\": \"Ato_Nomeacao_Efetivo\", \"xref\": \"x\", \"y\": \"Ato_Nomeacao_Efetivo\", \"yref\": \"y\"}, {\"font\": {\"color\": \"#FFFFFF\"}, \"showarrow\": false, \"text\": \"0\", \"x\": \"Ato_Substituicao\", \"xref\": \"x\", \"y\": \"Ato_Exoneracao_Efetivo\", \"yref\": \"y\"}, {\"font\": {\"color\": \"#FFFFFF\"}, \"showarrow\": false, \"text\": \"0\", \"x\": \"Ato_Abono_Permanencia\", \"xref\": \"x\", \"y\": \"Ato_Exoneracao_Efetivo\", \"yref\": \"y\"}, {\"font\": {\"color\": \"#FFFFFF\"}, \"showarrow\": false, \"text\": \"0\", \"x\": \"Ato_Retificacao_Efetivo\", \"xref\": \"x\", \"y\": \"Ato_Exoneracao_Efetivo\", \"yref\": \"y\"}, {\"font\": {\"color\": \"#FFFFFF\"}, \"showarrow\": false, \"text\": \"0\", \"x\": \"Ato_Cessao\", \"xref\": \"x\", \"y\": \"Ato_Exoneracao_Efetivo\", \"yref\": \"y\"}, {\"font\": {\"color\": \"#FFFFFF\"}, \"showarrow\": false, \"text\": \"0\", \"x\": \"Ato_Reversao\", \"xref\": \"x\", \"y\": \"Ato_Exoneracao_Efetivo\", \"yref\": \"y\"}, {\"font\": {\"color\": \"#FFFFFF\"}, \"showarrow\": false, \"text\": \"2\", \"x\": \"Ato_Exoneracao_Comissionado\", \"xref\": \"x\", \"y\": \"Ato_Exoneracao_Efetivo\", \"yref\": \"y\"}, {\"font\": {\"color\": \"#FFFFFF\"}, \"showarrow\": false, \"text\": \"0\", \"x\": \"Ato_Tornado_Sem_Efeito_Exo_Nom\", \"xref\": \"x\", \"y\": \"Ato_Exoneracao_Efetivo\", \"yref\": \"y\"}, {\"font\": {\"color\": \"#FFFFFF\"}, \"showarrow\": false, \"text\": \"0\", \"x\": \"Ato_Nomeacao_Comissionado\", \"xref\": \"x\", \"y\": \"Ato_Exoneracao_Efetivo\", \"yref\": \"y\"}, {\"font\": {\"color\": \"#FFFFFF\"}, \"showarrow\": false, \"text\": \"0\", \"x\": \"Ato_Retificacao_Comissionado\", \"xref\": \"x\", \"y\": \"Ato_Exoneracao_Efetivo\", \"yref\": \"y\"}, {\"font\": {\"color\": \"#FFFFFF\"}, \"showarrow\": false, \"text\": \"0\", \"x\": \"Ato_Tornado_Sem_Efeito_Apo\", \"xref\": \"x\", \"y\": \"Ato_Exoneracao_Efetivo\", \"yref\": \"y\"}, {\"font\": {\"color\": \"#FFFFFF\"}, \"showarrow\": false, \"text\": \"74\", \"x\": \"Ato_Exoneracao_Efetivo\", \"xref\": \"x\", \"y\": \"Ato_Exoneracao_Efetivo\", \"yref\": \"y\"}, {\"font\": {\"color\": \"#FFFFFF\"}, \"showarrow\": false, \"text\": \"0\", \"x\": \"Ato_Nomeacao_Efetivo\", \"xref\": \"x\", \"y\": \"Ato_Exoneracao_Efetivo\", \"yref\": \"y\"}, {\"font\": {\"color\": \"#FFFFFF\"}, \"showarrow\": false, \"text\": \"0\", \"x\": \"Ato_Substituicao\", \"xref\": \"x\", \"y\": \"Ato_Tornado_Sem_Efeito_Apo\", \"yref\": \"y\"}, {\"font\": {\"color\": \"#FFFFFF\"}, \"showarrow\": false, \"text\": \"0\", \"x\": \"Ato_Abono_Permanencia\", \"xref\": \"x\", \"y\": \"Ato_Tornado_Sem_Efeito_Apo\", \"yref\": \"y\"}, {\"font\": {\"color\": \"#FFFFFF\"}, \"showarrow\": false, \"text\": \"2\", \"x\": \"Ato_Retificacao_Efetivo\", \"xref\": \"x\", \"y\": \"Ato_Tornado_Sem_Efeito_Apo\", \"yref\": \"y\"}, {\"font\": {\"color\": \"#FFFFFF\"}, \"showarrow\": false, \"text\": \"0\", \"x\": \"Ato_Cessao\", \"xref\": \"x\", \"y\": \"Ato_Tornado_Sem_Efeito_Apo\", \"yref\": \"y\"}, {\"font\": {\"color\": \"#FFFFFF\"}, \"showarrow\": false, \"text\": \"0\", \"x\": \"Ato_Reversao\", \"xref\": \"x\", \"y\": \"Ato_Tornado_Sem_Efeito_Apo\", \"yref\": \"y\"}, {\"font\": {\"color\": \"#FFFFFF\"}, \"showarrow\": false, \"text\": \"0\", \"x\": \"Ato_Exoneracao_Comissionado\", \"xref\": \"x\", \"y\": \"Ato_Tornado_Sem_Efeito_Apo\", \"yref\": \"y\"}, {\"font\": {\"color\": \"#FFFFFF\"}, \"showarrow\": false, \"text\": \"1\", \"x\": \"Ato_Tornado_Sem_Efeito_Exo_Nom\", \"xref\": \"x\", \"y\": \"Ato_Tornado_Sem_Efeito_Apo\", \"yref\": \"y\"}, {\"font\": {\"color\": \"#FFFFFF\"}, \"showarrow\": false, \"text\": \"0\", \"x\": \"Ato_Nomeacao_Comissionado\", \"xref\": \"x\", \"y\": \"Ato_Tornado_Sem_Efeito_Apo\", \"yref\": \"y\"}, {\"font\": {\"color\": \"#FFFFFF\"}, \"showarrow\": false, \"text\": \"0\", \"x\": \"Ato_Retificacao_Comissionado\", \"xref\": \"x\", \"y\": \"Ato_Tornado_Sem_Efeito_Apo\", \"yref\": \"y\"}, {\"font\": {\"color\": \"#FFFFFF\"}, \"showarrow\": false, \"text\": \"2\", \"x\": \"Ato_Tornado_Sem_Efeito_Apo\", \"xref\": \"x\", \"y\": \"Ato_Tornado_Sem_Efeito_Apo\", \"yref\": \"y\"}, {\"font\": {\"color\": \"#FFFFFF\"}, \"showarrow\": false, \"text\": \"0\", \"x\": \"Ato_Exoneracao_Efetivo\", \"xref\": \"x\", \"y\": \"Ato_Tornado_Sem_Efeito_Apo\", \"yref\": \"y\"}, {\"font\": {\"color\": \"#FFFFFF\"}, \"showarrow\": false, \"text\": \"0\", \"x\": \"Ato_Nomeacao_Efetivo\", \"xref\": \"x\", \"y\": \"Ato_Tornado_Sem_Efeito_Apo\", \"yref\": \"y\"}, {\"font\": {\"color\": \"#FFFFFF\"}, \"showarrow\": false, \"text\": \"0\", \"x\": \"Ato_Substituicao\", \"xref\": \"x\", \"y\": \"Ato_Retificacao_Comissionado\", \"yref\": \"y\"}, {\"font\": {\"color\": \"#FFFFFF\"}, \"showarrow\": false, \"text\": \"0\", \"x\": \"Ato_Abono_Permanencia\", \"xref\": \"x\", \"y\": \"Ato_Retificacao_Comissionado\", \"yref\": \"y\"}, {\"font\": {\"color\": \"#FFFFFF\"}, \"showarrow\": false, \"text\": \"10\", \"x\": \"Ato_Retificacao_Efetivo\", \"xref\": \"x\", \"y\": \"Ato_Retificacao_Comissionado\", \"yref\": \"y\"}, {\"font\": {\"color\": \"#FFFFFF\"}, \"showarrow\": false, \"text\": \"0\", \"x\": \"Ato_Cessao\", \"xref\": \"x\", \"y\": \"Ato_Retificacao_Comissionado\", \"yref\": \"y\"}, {\"font\": {\"color\": \"#FFFFFF\"}, \"showarrow\": false, \"text\": \"0\", \"x\": \"Ato_Reversao\", \"xref\": \"x\", \"y\": \"Ato_Retificacao_Comissionado\", \"yref\": \"y\"}, {\"font\": {\"color\": \"#FFFFFF\"}, \"showarrow\": false, \"text\": \"0\", \"x\": \"Ato_Exoneracao_Comissionado\", \"xref\": \"x\", \"y\": \"Ato_Retificacao_Comissionado\", \"yref\": \"y\"}, {\"font\": {\"color\": \"#FFFFFF\"}, \"showarrow\": false, \"text\": \"0\", \"x\": \"Ato_Tornado_Sem_Efeito_Exo_Nom\", \"xref\": \"x\", \"y\": \"Ato_Retificacao_Comissionado\", \"yref\": \"y\"}, {\"font\": {\"color\": \"#FFFFFF\"}, \"showarrow\": false, \"text\": \"1\", \"x\": \"Ato_Nomeacao_Comissionado\", \"xref\": \"x\", \"y\": \"Ato_Retificacao_Comissionado\", \"yref\": \"y\"}, {\"font\": {\"color\": \"#FFFFFF\"}, \"showarrow\": false, \"text\": \"39\", \"x\": \"Ato_Retificacao_Comissionado\", \"xref\": \"x\", \"y\": \"Ato_Retificacao_Comissionado\", \"yref\": \"y\"}, {\"font\": {\"color\": \"#FFFFFF\"}, \"showarrow\": false, \"text\": \"0\", \"x\": \"Ato_Tornado_Sem_Efeito_Apo\", \"xref\": \"x\", \"y\": \"Ato_Retificacao_Comissionado\", \"yref\": \"y\"}, {\"font\": {\"color\": \"#FFFFFF\"}, \"showarrow\": false, \"text\": \"0\", \"x\": \"Ato_Exoneracao_Efetivo\", \"xref\": \"x\", \"y\": \"Ato_Retificacao_Comissionado\", \"yref\": \"y\"}, {\"font\": {\"color\": \"#FFFFFF\"}, \"showarrow\": false, \"text\": \"0\", \"x\": \"Ato_Nomeacao_Efetivo\", \"xref\": \"x\", \"y\": \"Ato_Retificacao_Comissionado\", \"yref\": \"y\"}, {\"font\": {\"color\": \"#FFFFFF\"}, \"showarrow\": false, \"text\": \"0\", \"x\": \"Ato_Substituicao\", \"xref\": \"x\", \"y\": \"Ato_Nomeacao_Comissionado\", \"yref\": \"y\"}, {\"font\": {\"color\": \"#FFFFFF\"}, \"showarrow\": false, \"text\": \"0\", \"x\": \"Ato_Abono_Permanencia\", \"xref\": \"x\", \"y\": \"Ato_Nomeacao_Comissionado\", \"yref\": \"y\"}, {\"font\": {\"color\": \"#FFFFFF\"}, \"showarrow\": false, \"text\": \"0\", \"x\": \"Ato_Retificacao_Efetivo\", \"xref\": \"x\", \"y\": \"Ato_Nomeacao_Comissionado\", \"yref\": \"y\"}, {\"font\": {\"color\": \"#FFFFFF\"}, \"showarrow\": false, \"text\": \"0\", \"x\": \"Ato_Cessao\", \"xref\": \"x\", \"y\": \"Ato_Nomeacao_Comissionado\", \"yref\": \"y\"}, {\"font\": {\"color\": \"#FFFFFF\"}, \"showarrow\": false, \"text\": \"0\", \"x\": \"Ato_Reversao\", \"xref\": \"x\", \"y\": \"Ato_Nomeacao_Comissionado\", \"yref\": \"y\"}, {\"font\": {\"color\": \"#FFFFFF\"}, \"showarrow\": false, \"text\": \"0\", \"x\": \"Ato_Exoneracao_Comissionado\", \"xref\": \"x\", \"y\": \"Ato_Nomeacao_Comissionado\", \"yref\": \"y\"}, {\"font\": {\"color\": \"#FFFFFF\"}, \"showarrow\": false, \"text\": \"0\", \"x\": \"Ato_Tornado_Sem_Efeito_Exo_Nom\", \"xref\": \"x\", \"y\": \"Ato_Nomeacao_Comissionado\", \"yref\": \"y\"}, {\"font\": {\"color\": \"#000000\"}, \"showarrow\": false, \"text\": \"577\", \"x\": \"Ato_Nomeacao_Comissionado\", \"xref\": \"x\", \"y\": \"Ato_Nomeacao_Comissionado\", \"yref\": \"y\"}, {\"font\": {\"color\": \"#FFFFFF\"}, \"showarrow\": false, \"text\": \"0\", \"x\": \"Ato_Retificacao_Comissionado\", \"xref\": \"x\", \"y\": \"Ato_Nomeacao_Comissionado\", \"yref\": \"y\"}, {\"font\": {\"color\": \"#FFFFFF\"}, \"showarrow\": false, \"text\": \"0\", \"x\": \"Ato_Tornado_Sem_Efeito_Apo\", \"xref\": \"x\", \"y\": \"Ato_Nomeacao_Comissionado\", \"yref\": \"y\"}, {\"font\": {\"color\": \"#FFFFFF\"}, \"showarrow\": false, \"text\": \"0\", \"x\": \"Ato_Exoneracao_Efetivo\", \"xref\": \"x\", \"y\": \"Ato_Nomeacao_Comissionado\", \"yref\": \"y\"}, {\"font\": {\"color\": \"#FFFFFF\"}, \"showarrow\": false, \"text\": \"0\", \"x\": \"Ato_Nomeacao_Efetivo\", \"xref\": \"x\", \"y\": \"Ato_Nomeacao_Comissionado\", \"yref\": \"y\"}, {\"font\": {\"color\": \"#FFFFFF\"}, \"showarrow\": false, \"text\": \"0\", \"x\": \"Ato_Substituicao\", \"xref\": \"x\", \"y\": \"Ato_Tornado_Sem_Efeito_Exo_Nom\", \"yref\": \"y\"}, {\"font\": {\"color\": \"#FFFFFF\"}, \"showarrow\": false, \"text\": \"0\", \"x\": \"Ato_Abono_Permanencia\", \"xref\": \"x\", \"y\": \"Ato_Tornado_Sem_Efeito_Exo_Nom\", \"yref\": \"y\"}, {\"font\": {\"color\": \"#FFFFFF\"}, \"showarrow\": false, \"text\": \"0\", \"x\": \"Ato_Retificacao_Efetivo\", \"xref\": \"x\", \"y\": \"Ato_Tornado_Sem_Efeito_Exo_Nom\", \"yref\": \"y\"}, {\"font\": {\"color\": \"#FFFFFF\"}, \"showarrow\": false, \"text\": \"0\", \"x\": \"Ato_Cessao\", \"xref\": \"x\", \"y\": \"Ato_Tornado_Sem_Efeito_Exo_Nom\", \"yref\": \"y\"}, {\"font\": {\"color\": \"#FFFFFF\"}, \"showarrow\": false, \"text\": \"0\", \"x\": \"Ato_Reversao\", \"xref\": \"x\", \"y\": \"Ato_Tornado_Sem_Efeito_Exo_Nom\", \"yref\": \"y\"}, {\"font\": {\"color\": \"#FFFFFF\"}, \"showarrow\": false, \"text\": \"0\", \"x\": \"Ato_Exoneracao_Comissionado\", \"xref\": \"x\", \"y\": \"Ato_Tornado_Sem_Efeito_Exo_Nom\", \"yref\": \"y\"}, {\"font\": {\"color\": \"#FFFFFF\"}, \"showarrow\": false, \"text\": \"62\", \"x\": \"Ato_Tornado_Sem_Efeito_Exo_Nom\", \"xref\": \"x\", \"y\": \"Ato_Tornado_Sem_Efeito_Exo_Nom\", \"yref\": \"y\"}, {\"font\": {\"color\": \"#FFFFFF\"}, \"showarrow\": false, \"text\": \"0\", \"x\": \"Ato_Nomeacao_Comissionado\", \"xref\": \"x\", \"y\": \"Ato_Tornado_Sem_Efeito_Exo_Nom\", \"yref\": \"y\"}, {\"font\": {\"color\": \"#FFFFFF\"}, \"showarrow\": false, \"text\": \"0\", \"x\": \"Ato_Retificacao_Comissionado\", \"xref\": \"x\", \"y\": \"Ato_Tornado_Sem_Efeito_Exo_Nom\", \"yref\": \"y\"}, {\"font\": {\"color\": \"#FFFFFF\"}, \"showarrow\": false, \"text\": \"0\", \"x\": \"Ato_Tornado_Sem_Efeito_Apo\", \"xref\": \"x\", \"y\": \"Ato_Tornado_Sem_Efeito_Exo_Nom\", \"yref\": \"y\"}, {\"font\": {\"color\": \"#FFFFFF\"}, \"showarrow\": false, \"text\": \"0\", \"x\": \"Ato_Exoneracao_Efetivo\", \"xref\": \"x\", \"y\": \"Ato_Tornado_Sem_Efeito_Exo_Nom\", \"yref\": \"y\"}, {\"font\": {\"color\": \"#FFFFFF\"}, \"showarrow\": false, \"text\": \"0\", \"x\": \"Ato_Nomeacao_Efetivo\", \"xref\": \"x\", \"y\": \"Ato_Tornado_Sem_Efeito_Exo_Nom\", \"yref\": \"y\"}, {\"font\": {\"color\": \"#FFFFFF\"}, \"showarrow\": false, \"text\": \"0\", \"x\": \"Ato_Substituicao\", \"xref\": \"x\", \"y\": \"Ato_Exoneracao_Comissionado\", \"yref\": \"y\"}, {\"font\": {\"color\": \"#FFFFFF\"}, \"showarrow\": false, \"text\": \"0\", \"x\": \"Ato_Abono_Permanencia\", \"xref\": \"x\", \"y\": \"Ato_Exoneracao_Comissionado\", \"yref\": \"y\"}, {\"font\": {\"color\": \"#FFFFFF\"}, \"showarrow\": false, \"text\": \"0\", \"x\": \"Ato_Retificacao_Efetivo\", \"xref\": \"x\", \"y\": \"Ato_Exoneracao_Comissionado\", \"yref\": \"y\"}, {\"font\": {\"color\": \"#FFFFFF\"}, \"showarrow\": false, \"text\": \"0\", \"x\": \"Ato_Cessao\", \"xref\": \"x\", \"y\": \"Ato_Exoneracao_Comissionado\", \"yref\": \"y\"}, {\"font\": {\"color\": \"#FFFFFF\"}, \"showarrow\": false, \"text\": \"0\", \"x\": \"Ato_Reversao\", \"xref\": \"x\", \"y\": \"Ato_Exoneracao_Comissionado\", \"yref\": \"y\"}, {\"font\": {\"color\": \"#000000\"}, \"showarrow\": false, \"text\": \"593\", \"x\": \"Ato_Exoneracao_Comissionado\", \"xref\": \"x\", \"y\": \"Ato_Exoneracao_Comissionado\", \"yref\": \"y\"}, {\"font\": {\"color\": \"#FFFFFF\"}, \"showarrow\": false, \"text\": \"0\", \"x\": \"Ato_Tornado_Sem_Efeito_Exo_Nom\", \"xref\": \"x\", \"y\": \"Ato_Exoneracao_Comissionado\", \"yref\": \"y\"}, {\"font\": {\"color\": \"#FFFFFF\"}, \"showarrow\": false, \"text\": \"1\", \"x\": \"Ato_Nomeacao_Comissionado\", \"xref\": \"x\", \"y\": \"Ato_Exoneracao_Comissionado\", \"yref\": \"y\"}, {\"font\": {\"color\": \"#FFFFFF\"}, \"showarrow\": false, \"text\": \"0\", \"x\": \"Ato_Retificacao_Comissionado\", \"xref\": \"x\", \"y\": \"Ato_Exoneracao_Comissionado\", \"yref\": \"y\"}, {\"font\": {\"color\": \"#FFFFFF\"}, \"showarrow\": false, \"text\": \"0\", \"x\": \"Ato_Tornado_Sem_Efeito_Apo\", \"xref\": \"x\", \"y\": \"Ato_Exoneracao_Comissionado\", \"yref\": \"y\"}, {\"font\": {\"color\": \"#FFFFFF\"}, \"showarrow\": false, \"text\": \"0\", \"x\": \"Ato_Exoneracao_Efetivo\", \"xref\": \"x\", \"y\": \"Ato_Exoneracao_Comissionado\", \"yref\": \"y\"}, {\"font\": {\"color\": \"#FFFFFF\"}, \"showarrow\": false, \"text\": \"0\", \"x\": \"Ato_Nomeacao_Efetivo\", \"xref\": \"x\", \"y\": \"Ato_Exoneracao_Comissionado\", \"yref\": \"y\"}, {\"font\": {\"color\": \"#FFFFFF\"}, \"showarrow\": false, \"text\": \"0\", \"x\": \"Ato_Substituicao\", \"xref\": \"x\", \"y\": \"Ato_Reversao\", \"yref\": \"y\"}, {\"font\": {\"color\": \"#FFFFFF\"}, \"showarrow\": false, \"text\": \"0\", \"x\": \"Ato_Abono_Permanencia\", \"xref\": \"x\", \"y\": \"Ato_Reversao\", \"yref\": \"y\"}, {\"font\": {\"color\": \"#FFFFFF\"}, \"showarrow\": false, \"text\": \"0\", \"x\": \"Ato_Retificacao_Efetivo\", \"xref\": \"x\", \"y\": \"Ato_Reversao\", \"yref\": \"y\"}, {\"font\": {\"color\": \"#FFFFFF\"}, \"showarrow\": false, \"text\": \"0\", \"x\": \"Ato_Cessao\", \"xref\": \"x\", \"y\": \"Ato_Reversao\", \"yref\": \"y\"}, {\"font\": {\"color\": \"#FFFFFF\"}, \"showarrow\": false, \"text\": \"15\", \"x\": \"Ato_Reversao\", \"xref\": \"x\", \"y\": \"Ato_Reversao\", \"yref\": \"y\"}, {\"font\": {\"color\": \"#FFFFFF\"}, \"showarrow\": false, \"text\": \"0\", \"x\": \"Ato_Exoneracao_Comissionado\", \"xref\": \"x\", \"y\": \"Ato_Reversao\", \"yref\": \"y\"}, {\"font\": {\"color\": \"#FFFFFF\"}, \"showarrow\": false, \"text\": \"0\", \"x\": \"Ato_Tornado_Sem_Efeito_Exo_Nom\", \"xref\": \"x\", \"y\": \"Ato_Reversao\", \"yref\": \"y\"}, {\"font\": {\"color\": \"#FFFFFF\"}, \"showarrow\": false, \"text\": \"0\", \"x\": \"Ato_Nomeacao_Comissionado\", \"xref\": \"x\", \"y\": \"Ato_Reversao\", \"yref\": \"y\"}, {\"font\": {\"color\": \"#FFFFFF\"}, \"showarrow\": false, \"text\": \"0\", \"x\": \"Ato_Retificacao_Comissionado\", \"xref\": \"x\", \"y\": \"Ato_Reversao\", \"yref\": \"y\"}, {\"font\": {\"color\": \"#FFFFFF\"}, \"showarrow\": false, \"text\": \"0\", \"x\": \"Ato_Tornado_Sem_Efeito_Apo\", \"xref\": \"x\", \"y\": \"Ato_Reversao\", \"yref\": \"y\"}, {\"font\": {\"color\": \"#FFFFFF\"}, \"showarrow\": false, \"text\": \"0\", \"x\": \"Ato_Exoneracao_Efetivo\", \"xref\": \"x\", \"y\": \"Ato_Reversao\", \"yref\": \"y\"}, {\"font\": {\"color\": \"#FFFFFF\"}, \"showarrow\": false, \"text\": \"0\", \"x\": \"Ato_Nomeacao_Efetivo\", \"xref\": \"x\", \"y\": \"Ato_Reversao\", \"yref\": \"y\"}, {\"font\": {\"color\": \"#FFFFFF\"}, \"showarrow\": false, \"text\": \"0\", \"x\": \"Ato_Substituicao\", \"xref\": \"x\", \"y\": \"Ato_Cessao\", \"yref\": \"y\"}, {\"font\": {\"color\": \"#FFFFFF\"}, \"showarrow\": false, \"text\": \"0\", \"x\": \"Ato_Abono_Permanencia\", \"xref\": \"x\", \"y\": \"Ato_Cessao\", \"yref\": \"y\"}, {\"font\": {\"color\": \"#FFFFFF\"}, \"showarrow\": false, \"text\": \"0\", \"x\": \"Ato_Retificacao_Efetivo\", \"xref\": \"x\", \"y\": \"Ato_Cessao\", \"yref\": \"y\"}, {\"font\": {\"color\": \"#FFFFFF\"}, \"showarrow\": false, \"text\": \"66\", \"x\": \"Ato_Cessao\", \"xref\": \"x\", \"y\": \"Ato_Cessao\", \"yref\": \"y\"}, {\"font\": {\"color\": \"#FFFFFF\"}, \"showarrow\": false, \"text\": \"0\", \"x\": \"Ato_Reversao\", \"xref\": \"x\", \"y\": \"Ato_Cessao\", \"yref\": \"y\"}, {\"font\": {\"color\": \"#FFFFFF\"}, \"showarrow\": false, \"text\": \"0\", \"x\": \"Ato_Exoneracao_Comissionado\", \"xref\": \"x\", \"y\": \"Ato_Cessao\", \"yref\": \"y\"}, {\"font\": {\"color\": \"#FFFFFF\"}, \"showarrow\": false, \"text\": \"0\", \"x\": \"Ato_Tornado_Sem_Efeito_Exo_Nom\", \"xref\": \"x\", \"y\": \"Ato_Cessao\", \"yref\": \"y\"}, {\"font\": {\"color\": \"#FFFFFF\"}, \"showarrow\": false, \"text\": \"0\", \"x\": \"Ato_Nomeacao_Comissionado\", \"xref\": \"x\", \"y\": \"Ato_Cessao\", \"yref\": \"y\"}, {\"font\": {\"color\": \"#FFFFFF\"}, \"showarrow\": false, \"text\": \"0\", \"x\": \"Ato_Retificacao_Comissionado\", \"xref\": \"x\", \"y\": \"Ato_Cessao\", \"yref\": \"y\"}, {\"font\": {\"color\": \"#FFFFFF\"}, \"showarrow\": false, \"text\": \"0\", \"x\": \"Ato_Tornado_Sem_Efeito_Apo\", \"xref\": \"x\", \"y\": \"Ato_Cessao\", \"yref\": \"y\"}, {\"font\": {\"color\": \"#FFFFFF\"}, \"showarrow\": false, \"text\": \"0\", \"x\": \"Ato_Exoneracao_Efetivo\", \"xref\": \"x\", \"y\": \"Ato_Cessao\", \"yref\": \"y\"}, {\"font\": {\"color\": \"#FFFFFF\"}, \"showarrow\": false, \"text\": \"0\", \"x\": \"Ato_Nomeacao_Efetivo\", \"xref\": \"x\", \"y\": \"Ato_Cessao\", \"yref\": \"y\"}, {\"font\": {\"color\": \"#FFFFFF\"}, \"showarrow\": false, \"text\": \"0\", \"x\": \"Ato_Substituicao\", \"xref\": \"x\", \"y\": \"Ato_Retificacao_Efetivo\", \"yref\": \"y\"}, {\"font\": {\"color\": \"#FFFFFF\"}, \"showarrow\": false, \"text\": \"0\", \"x\": \"Ato_Abono_Permanencia\", \"xref\": \"x\", \"y\": \"Ato_Retificacao_Efetivo\", \"yref\": \"y\"}, {\"font\": {\"color\": \"#000000\"}, \"showarrow\": false, \"text\": \"308\", \"x\": \"Ato_Retificacao_Efetivo\", \"xref\": \"x\", \"y\": \"Ato_Retificacao_Efetivo\", \"yref\": \"y\"}, {\"font\": {\"color\": \"#FFFFFF\"}, \"showarrow\": false, \"text\": \"1\", \"x\": \"Ato_Cessao\", \"xref\": \"x\", \"y\": \"Ato_Retificacao_Efetivo\", \"yref\": \"y\"}, {\"font\": {\"color\": \"#FFFFFF\"}, \"showarrow\": false, \"text\": \"0\", \"x\": \"Ato_Reversao\", \"xref\": \"x\", \"y\": \"Ato_Retificacao_Efetivo\", \"yref\": \"y\"}, {\"font\": {\"color\": \"#FFFFFF\"}, \"showarrow\": false, \"text\": \"0\", \"x\": \"Ato_Exoneracao_Comissionado\", \"xref\": \"x\", \"y\": \"Ato_Retificacao_Efetivo\", \"yref\": \"y\"}, {\"font\": {\"color\": \"#FFFFFF\"}, \"showarrow\": false, \"text\": \"1\", \"x\": \"Ato_Tornado_Sem_Efeito_Exo_Nom\", \"xref\": \"x\", \"y\": \"Ato_Retificacao_Efetivo\", \"yref\": \"y\"}, {\"font\": {\"color\": \"#FFFFFF\"}, \"showarrow\": false, \"text\": \"0\", \"x\": \"Ato_Nomeacao_Comissionado\", \"xref\": \"x\", \"y\": \"Ato_Retificacao_Efetivo\", \"yref\": \"y\"}, {\"font\": {\"color\": \"#FFFFFF\"}, \"showarrow\": false, \"text\": \"0\", \"x\": \"Ato_Retificacao_Comissionado\", \"xref\": \"x\", \"y\": \"Ato_Retificacao_Efetivo\", \"yref\": \"y\"}, {\"font\": {\"color\": \"#FFFFFF\"}, \"showarrow\": false, \"text\": \"0\", \"x\": \"Ato_Tornado_Sem_Efeito_Apo\", \"xref\": \"x\", \"y\": \"Ato_Retificacao_Efetivo\", \"yref\": \"y\"}, {\"font\": {\"color\": \"#FFFFFF\"}, \"showarrow\": false, \"text\": \"0\", \"x\": \"Ato_Exoneracao_Efetivo\", \"xref\": \"x\", \"y\": \"Ato_Retificacao_Efetivo\", \"yref\": \"y\"}, {\"font\": {\"color\": \"#FFFFFF\"}, \"showarrow\": false, \"text\": \"0\", \"x\": \"Ato_Nomeacao_Efetivo\", \"xref\": \"x\", \"y\": \"Ato_Retificacao_Efetivo\", \"yref\": \"y\"}, {\"font\": {\"color\": \"#FFFFFF\"}, \"showarrow\": false, \"text\": \"0\", \"x\": \"Ato_Substituicao\", \"xref\": \"x\", \"y\": \"Ato_Abono_Permanencia\", \"yref\": \"y\"}, {\"font\": {\"color\": \"#FFFFFF\"}, \"showarrow\": false, \"text\": \"34\", \"x\": \"Ato_Abono_Permanencia\", \"xref\": \"x\", \"y\": \"Ato_Abono_Permanencia\", \"yref\": \"y\"}, {\"font\": {\"color\": \"#FFFFFF\"}, \"showarrow\": false, \"text\": \"0\", \"x\": \"Ato_Retificacao_Efetivo\", \"xref\": \"x\", \"y\": \"Ato_Abono_Permanencia\", \"yref\": \"y\"}, {\"font\": {\"color\": \"#FFFFFF\"}, \"showarrow\": false, \"text\": \"0\", \"x\": \"Ato_Cessao\", \"xref\": \"x\", \"y\": \"Ato_Abono_Permanencia\", \"yref\": \"y\"}, {\"font\": {\"color\": \"#FFFFFF\"}, \"showarrow\": false, \"text\": \"0\", \"x\": \"Ato_Reversao\", \"xref\": \"x\", \"y\": \"Ato_Abono_Permanencia\", \"yref\": \"y\"}, {\"font\": {\"color\": \"#FFFFFF\"}, \"showarrow\": false, \"text\": \"0\", \"x\": \"Ato_Exoneracao_Comissionado\", \"xref\": \"x\", \"y\": \"Ato_Abono_Permanencia\", \"yref\": \"y\"}, {\"font\": {\"color\": \"#FFFFFF\"}, \"showarrow\": false, \"text\": \"0\", \"x\": \"Ato_Tornado_Sem_Efeito_Exo_Nom\", \"xref\": \"x\", \"y\": \"Ato_Abono_Permanencia\", \"yref\": \"y\"}, {\"font\": {\"color\": \"#FFFFFF\"}, \"showarrow\": false, \"text\": \"0\", \"x\": \"Ato_Nomeacao_Comissionado\", \"xref\": \"x\", \"y\": \"Ato_Abono_Permanencia\", \"yref\": \"y\"}, {\"font\": {\"color\": \"#FFFFFF\"}, \"showarrow\": false, \"text\": \"0\", \"x\": \"Ato_Retificacao_Comissionado\", \"xref\": \"x\", \"y\": \"Ato_Abono_Permanencia\", \"yref\": \"y\"}, {\"font\": {\"color\": \"#FFFFFF\"}, \"showarrow\": false, \"text\": \"0\", \"x\": \"Ato_Tornado_Sem_Efeito_Apo\", \"xref\": \"x\", \"y\": \"Ato_Abono_Permanencia\", \"yref\": \"y\"}, {\"font\": {\"color\": \"#FFFFFF\"}, \"showarrow\": false, \"text\": \"0\", \"x\": \"Ato_Exoneracao_Efetivo\", \"xref\": \"x\", \"y\": \"Ato_Abono_Permanencia\", \"yref\": \"y\"}, {\"font\": {\"color\": \"#FFFFFF\"}, \"showarrow\": false, \"text\": \"0\", \"x\": \"Ato_Nomeacao_Efetivo\", \"xref\": \"x\", \"y\": \"Ato_Abono_Permanencia\", \"yref\": \"y\"}, {\"font\": {\"color\": \"#000000\"}, \"showarrow\": false, \"text\": \"601\", \"x\": \"Ato_Substituicao\", \"xref\": \"x\", \"y\": \"Ato_Substituicao\", \"yref\": \"y\"}, {\"font\": {\"color\": \"#FFFFFF\"}, \"showarrow\": false, \"text\": \"0\", \"x\": \"Ato_Abono_Permanencia\", \"xref\": \"x\", \"y\": \"Ato_Substituicao\", \"yref\": \"y\"}, {\"font\": {\"color\": \"#FFFFFF\"}, \"showarrow\": false, \"text\": \"0\", \"x\": \"Ato_Retificacao_Efetivo\", \"xref\": \"x\", \"y\": \"Ato_Substituicao\", \"yref\": \"y\"}, {\"font\": {\"color\": \"#FFFFFF\"}, \"showarrow\": false, \"text\": \"0\", \"x\": \"Ato_Cessao\", \"xref\": \"x\", \"y\": \"Ato_Substituicao\", \"yref\": \"y\"}, {\"font\": {\"color\": \"#FFFFFF\"}, \"showarrow\": false, \"text\": \"0\", \"x\": \"Ato_Reversao\", \"xref\": \"x\", \"y\": \"Ato_Substituicao\", \"yref\": \"y\"}, {\"font\": {\"color\": \"#FFFFFF\"}, \"showarrow\": false, \"text\": \"0\", \"x\": \"Ato_Exoneracao_Comissionado\", \"xref\": \"x\", \"y\": \"Ato_Substituicao\", \"yref\": \"y\"}, {\"font\": {\"color\": \"#FFFFFF\"}, \"showarrow\": false, \"text\": \"0\", \"x\": \"Ato_Tornado_Sem_Efeito_Exo_Nom\", \"xref\": \"x\", \"y\": \"Ato_Substituicao\", \"yref\": \"y\"}, {\"font\": {\"color\": \"#FFFFFF\"}, \"showarrow\": false, \"text\": \"0\", \"x\": \"Ato_Nomeacao_Comissionado\", \"xref\": \"x\", \"y\": \"Ato_Substituicao\", \"yref\": \"y\"}, {\"font\": {\"color\": \"#FFFFFF\"}, \"showarrow\": false, \"text\": \"0\", \"x\": \"Ato_Retificacao_Comissionado\", \"xref\": \"x\", \"y\": \"Ato_Substituicao\", \"yref\": \"y\"}, {\"font\": {\"color\": \"#FFFFFF\"}, \"showarrow\": false, \"text\": \"0\", \"x\": \"Ato_Tornado_Sem_Efeito_Apo\", \"xref\": \"x\", \"y\": \"Ato_Substituicao\", \"yref\": \"y\"}, {\"font\": {\"color\": \"#FFFFFF\"}, \"showarrow\": false, \"text\": \"0\", \"x\": \"Ato_Exoneracao_Efetivo\", \"xref\": \"x\", \"y\": \"Ato_Substituicao\", \"yref\": \"y\"}, {\"font\": {\"color\": \"#FFFFFF\"}, \"showarrow\": false, \"text\": \"0\", \"x\": \"Ato_Nomeacao_Efetivo\", \"xref\": \"x\", \"y\": \"Ato_Substituicao\", \"yref\": \"y\"}, {\"font\": {\"color\": \"black\", \"size\": 14}, \"showarrow\": false, \"text\": \"Predicted value\", \"x\": 0.5, \"xref\": \"paper\", \"y\": -0.15, \"yref\": \"paper\"}, {\"font\": {\"color\": \"black\", \"size\": 14}, \"showarrow\": false, \"text\": \"Real value\", \"textangle\": -90, \"x\": -0.35, \"xref\": \"paper\", \"y\": 0.5, \"yref\": \"paper\"}], \"margin\": {\"l\": 200, \"t\": 50}, \"template\": {\"data\": {\"bar\": [{\"error_x\": {\"color\": \"#2a3f5f\"}, \"error_y\": {\"color\": \"#2a3f5f\"}, \"marker\": {\"line\": {\"color\": \"#E5ECF6\", \"width\": 0.5}}, \"type\": \"bar\"}], \"barpolar\": [{\"marker\": {\"line\": {\"color\": \"#E5ECF6\", \"width\": 0.5}}, \"type\": \"barpolar\"}], \"carpet\": [{\"aaxis\": {\"endlinecolor\": \"#2a3f5f\", \"gridcolor\": \"white\", \"linecolor\": \"white\", \"minorgridcolor\": \"white\", \"startlinecolor\": \"#2a3f5f\"}, \"baxis\": {\"endlinecolor\": \"#2a3f5f\", \"gridcolor\": \"white\", \"linecolor\": \"white\", \"minorgridcolor\": \"white\", \"startlinecolor\": \"#2a3f5f\"}, \"type\": \"carpet\"}], \"choropleth\": [{\"colorbar\": {\"outlinewidth\": 0, \"ticks\": \"\"}, \"type\": \"choropleth\"}], \"contour\": [{\"colorbar\": {\"outlinewidth\": 0, \"ticks\": \"\"}, \"colorscale\": [[0.0, \"#0d0887\"], [0.1111111111111111, \"#46039f\"], [0.2222222222222222, \"#7201a8\"], [0.3333333333333333, \"#9c179e\"], [0.4444444444444444, \"#bd3786\"], [0.5555555555555556, \"#d8576b\"], [0.6666666666666666, \"#ed7953\"], [0.7777777777777778, \"#fb9f3a\"], [0.8888888888888888, \"#fdca26\"], [1.0, \"#f0f921\"]], \"type\": \"contour\"}], \"contourcarpet\": [{\"colorbar\": {\"outlinewidth\": 0, \"ticks\": \"\"}, \"type\": \"contourcarpet\"}], \"heatmap\": [{\"colorbar\": {\"outlinewidth\": 0, \"ticks\": \"\"}, \"colorscale\": [[0.0, \"#0d0887\"], [0.1111111111111111, \"#46039f\"], [0.2222222222222222, \"#7201a8\"], [0.3333333333333333, \"#9c179e\"], [0.4444444444444444, \"#bd3786\"], [0.5555555555555556, \"#d8576b\"], [0.6666666666666666, \"#ed7953\"], [0.7777777777777778, \"#fb9f3a\"], [0.8888888888888888, \"#fdca26\"], [1.0, \"#f0f921\"]], \"type\": \"heatmap\"}], \"heatmapgl\": [{\"colorbar\": {\"outlinewidth\": 0, \"ticks\": \"\"}, \"colorscale\": [[0.0, \"#0d0887\"], [0.1111111111111111, \"#46039f\"], [0.2222222222222222, \"#7201a8\"], [0.3333333333333333, \"#9c179e\"], [0.4444444444444444, \"#bd3786\"], [0.5555555555555556, \"#d8576b\"], [0.6666666666666666, \"#ed7953\"], [0.7777777777777778, \"#fb9f3a\"], [0.8888888888888888, \"#fdca26\"], [1.0, \"#f0f921\"]], \"type\": \"heatmapgl\"}], \"histogram\": [{\"marker\": {\"colorbar\": {\"outlinewidth\": 0, \"ticks\": \"\"}}, \"type\": \"histogram\"}], \"histogram2d\": [{\"colorbar\": {\"outlinewidth\": 0, \"ticks\": \"\"}, \"colorscale\": [[0.0, \"#0d0887\"], [0.1111111111111111, \"#46039f\"], [0.2222222222222222, \"#7201a8\"], [0.3333333333333333, \"#9c179e\"], [0.4444444444444444, \"#bd3786\"], [0.5555555555555556, \"#d8576b\"], [0.6666666666666666, \"#ed7953\"], [0.7777777777777778, \"#fb9f3a\"], [0.8888888888888888, \"#fdca26\"], [1.0, \"#f0f921\"]], \"type\": \"histogram2d\"}], \"histogram2dcontour\": [{\"colorbar\": {\"outlinewidth\": 0, \"ticks\": \"\"}, \"colorscale\": [[0.0, \"#0d0887\"], [0.1111111111111111, \"#46039f\"], [0.2222222222222222, \"#7201a8\"], [0.3333333333333333, \"#9c179e\"], [0.4444444444444444, \"#bd3786\"], [0.5555555555555556, \"#d8576b\"], [0.6666666666666666, \"#ed7953\"], [0.7777777777777778, \"#fb9f3a\"], [0.8888888888888888, \"#fdca26\"], [1.0, \"#f0f921\"]], \"type\": \"histogram2dcontour\"}], \"mesh3d\": [{\"colorbar\": {\"outlinewidth\": 0, \"ticks\": \"\"}, \"type\": \"mesh3d\"}], \"parcoords\": [{\"line\": {\"colorbar\": {\"outlinewidth\": 0, \"ticks\": \"\"}}, \"type\": \"parcoords\"}], \"pie\": [{\"automargin\": true, \"type\": \"pie\"}], \"scatter\": [{\"marker\": {\"colorbar\": {\"outlinewidth\": 0, \"ticks\": \"\"}}, \"type\": \"scatter\"}], \"scatter3d\": [{\"line\": {\"colorbar\": {\"outlinewidth\": 0, \"ticks\": \"\"}}, \"marker\": {\"colorbar\": {\"outlinewidth\": 0, \"ticks\": \"\"}}, \"type\": \"scatter3d\"}], \"scattercarpet\": [{\"marker\": {\"colorbar\": {\"outlinewidth\": 0, \"ticks\": \"\"}}, \"type\": \"scattercarpet\"}], \"scattergeo\": [{\"marker\": {\"colorbar\": {\"outlinewidth\": 0, \"ticks\": \"\"}}, \"type\": \"scattergeo\"}], \"scattergl\": [{\"marker\": {\"colorbar\": {\"outlinewidth\": 0, \"ticks\": \"\"}}, \"type\": \"scattergl\"}], \"scattermapbox\": [{\"marker\": {\"colorbar\": {\"outlinewidth\": 0, \"ticks\": \"\"}}, \"type\": \"scattermapbox\"}], \"scatterpolar\": [{\"marker\": {\"colorbar\": {\"outlinewidth\": 0, \"ticks\": \"\"}}, \"type\": \"scatterpolar\"}], \"scatterpolargl\": [{\"marker\": {\"colorbar\": {\"outlinewidth\": 0, \"ticks\": \"\"}}, \"type\": \"scatterpolargl\"}], \"scatterternary\": [{\"marker\": {\"colorbar\": {\"outlinewidth\": 0, \"ticks\": \"\"}}, \"type\": \"scatterternary\"}], \"surface\": [{\"colorbar\": {\"outlinewidth\": 0, \"ticks\": \"\"}, \"colorscale\": [[0.0, \"#0d0887\"], [0.1111111111111111, \"#46039f\"], [0.2222222222222222, \"#7201a8\"], [0.3333333333333333, \"#9c179e\"], [0.4444444444444444, \"#bd3786\"], [0.5555555555555556, \"#d8576b\"], [0.6666666666666666, \"#ed7953\"], [0.7777777777777778, \"#fb9f3a\"], [0.8888888888888888, \"#fdca26\"], [1.0, \"#f0f921\"]], \"type\": \"surface\"}], \"table\": [{\"cells\": {\"fill\": {\"color\": \"#EBF0F8\"}, \"line\": {\"color\": \"white\"}}, \"header\": {\"fill\": {\"color\": \"#C8D4E3\"}, \"line\": {\"color\": \"white\"}}, \"type\": \"table\"}]}, \"layout\": {\"annotationdefaults\": {\"arrowcolor\": \"#2a3f5f\", \"arrowhead\": 0, \"arrowwidth\": 1}, \"coloraxis\": {\"colorbar\": {\"outlinewidth\": 0, \"ticks\": \"\"}}, \"colorscale\": {\"diverging\": [[0, \"#8e0152\"], [0.1, \"#c51b7d\"], [0.2, \"#de77ae\"], [0.3, \"#f1b6da\"], [0.4, \"#fde0ef\"], [0.5, \"#f7f7f7\"], [0.6, \"#e6f5d0\"], [0.7, \"#b8e186\"], [0.8, \"#7fbc41\"], [0.9, \"#4d9221\"], [1, \"#276419\"]], \"sequential\": [[0.0, \"#0d0887\"], [0.1111111111111111, \"#46039f\"], [0.2222222222222222, \"#7201a8\"], [0.3333333333333333, \"#9c179e\"], [0.4444444444444444, \"#bd3786\"], [0.5555555555555556, \"#d8576b\"], [0.6666666666666666, \"#ed7953\"], [0.7777777777777778, \"#fb9f3a\"], [0.8888888888888888, \"#fdca26\"], [1.0, \"#f0f921\"]], \"sequentialminus\": [[0.0, \"#0d0887\"], [0.1111111111111111, \"#46039f\"], [0.2222222222222222, \"#7201a8\"], [0.3333333333333333, \"#9c179e\"], [0.4444444444444444, \"#bd3786\"], [0.5555555555555556, \"#d8576b\"], [0.6666666666666666, \"#ed7953\"], [0.7777777777777778, \"#fb9f3a\"], [0.8888888888888888, \"#fdca26\"], [1.0, \"#f0f921\"]]}, \"colorway\": [\"#636efa\", \"#EF553B\", \"#00cc96\", \"#ab63fa\", \"#FFA15A\", \"#19d3f3\", \"#FF6692\", \"#B6E880\", \"#FF97FF\", \"#FECB52\"], \"font\": {\"color\": \"#2a3f5f\"}, \"geo\": {\"bgcolor\": \"white\", \"lakecolor\": \"white\", \"landcolor\": \"#E5ECF6\", \"showlakes\": true, \"showland\": true, \"subunitcolor\": \"white\"}, \"hoverlabel\": {\"align\": \"left\"}, \"hovermode\": \"closest\", \"mapbox\": {\"style\": \"light\"}, \"paper_bgcolor\": \"white\", \"plot_bgcolor\": \"#E5ECF6\", \"polar\": {\"angularaxis\": {\"gridcolor\": \"white\", \"linecolor\": \"white\", \"ticks\": \"\"}, \"bgcolor\": \"#E5ECF6\", \"radialaxis\": {\"gridcolor\": \"white\", \"linecolor\": \"white\", \"ticks\": \"\"}}, \"scene\": {\"xaxis\": {\"backgroundcolor\": \"#E5ECF6\", \"gridcolor\": \"white\", \"gridwidth\": 2, \"linecolor\": \"white\", \"showbackground\": true, \"ticks\": \"\", \"zerolinecolor\": \"white\"}, \"yaxis\": {\"backgroundcolor\": \"#E5ECF6\", \"gridcolor\": \"white\", \"gridwidth\": 2, \"linecolor\": \"white\", \"showbackground\": true, \"ticks\": \"\", \"zerolinecolor\": \"white\"}, \"zaxis\": {\"backgroundcolor\": \"#E5ECF6\", \"gridcolor\": \"white\", \"gridwidth\": 2, \"linecolor\": \"white\", \"showbackground\": true, \"ticks\": \"\", \"zerolinecolor\": \"white\"}}, \"shapedefaults\": {\"line\": {\"color\": \"#2a3f5f\"}}, \"ternary\": {\"aaxis\": {\"gridcolor\": \"white\", \"linecolor\": \"white\", \"ticks\": \"\"}, \"baxis\": {\"gridcolor\": \"white\", \"linecolor\": \"white\", \"ticks\": \"\"}, \"bgcolor\": \"#E5ECF6\", \"caxis\": {\"gridcolor\": \"white\", \"linecolor\": \"white\", \"ticks\": \"\"}}, \"title\": {\"x\": 0.05}, \"xaxis\": {\"automargin\": true, \"gridcolor\": \"white\", \"linecolor\": \"white\", \"ticks\": \"\", \"title\": {\"standoff\": 15}, \"zerolinecolor\": \"white\", \"zerolinewidth\": 2}, \"yaxis\": {\"automargin\": true, \"gridcolor\": \"white\", \"linecolor\": \"white\", \"ticks\": \"\", \"title\": {\"standoff\": 15}, \"zerolinecolor\": \"white\", \"zerolinewidth\": 2}}}, \"title\": {\"text\": \"<i><b>Confusion\\nmatrix</b></i>\"}, \"xaxis\": {\"dtick\": 1, \"gridcolor\": \"rgb(0, 0, 0)\", \"side\": \"top\", \"ticks\": \"\"}, \"yaxis\": {\"dtick\": 1, \"ticks\": \"\", \"ticksuffix\": \"  \"}},\n",
              "                        {\"responsive\": true}\n",
              "                    ).then(function(){\n",
              "                            \n",
              "var gd = document.getElementById('c90ad5c9-f5e7-45d0-b30e-e36094e6fd3a');\n",
              "var x = new MutationObserver(function (mutations, observer) {{\n",
              "        var display = window.getComputedStyle(gd).display;\n",
              "        if (!display || display === 'none') {{\n",
              "            console.log([gd, 'removed!']);\n",
              "            Plotly.purge(gd);\n",
              "            observer.disconnect();\n",
              "        }}\n",
              "}});\n",
              "\n",
              "// Listen for the removal of the full notebook cells\n",
              "var notebookContainer = gd.closest('#notebook-container');\n",
              "if (notebookContainer) {{\n",
              "    x.observe(notebookContainer, {childList: true});\n",
              "}}\n",
              "\n",
              "// Listen for the clearing of the current output cell\n",
              "var outputEl = gd.closest('.output');\n",
              "if (outputEl) {{\n",
              "    x.observe(outputEl, {childList: true});\n",
              "}}\n",
              "\n",
              "                        })\n",
              "                };\n",
              "                \n",
              "            </script>\n",
              "        </div>\n",
              "</body>\n",
              "</html>"
            ]
          },
          "metadata": {},
          "output_type": "display_data"
        }
      ],
      "source": [
        "from sklearn.metrics import confusion_matrix\n",
        "\n",
        "con_matrix = confusion_matrix(y_test_cls, svm_prediction_tfidf)\n",
        "classes = [num2label.get(item,item) for item in svm_model.classes_]\n",
        "\n",
        "# Plot non-normalized confusion matrix\n",
        "plot_cm_plotly(con_matrix, classes=np.array(classes))"
      ]
    },
    {
      "cell_type": "code",
      "execution_count": null,
      "metadata": {
        "id": "It5co7YQT6YE"
      },
      "outputs": [],
      "source": [
        "def predicao_cls(texto, modelo, vectorizer, map_int_label):\n",
        "    texto_csr = vectorizer.transform([texto])\n",
        "    predicao = int(modelo.predict(texto_csr))\n",
        "    classe = map_int_label[predicao]\n",
        "    \n",
        "    return classe\n",
        "    # print(f'O texto {texto}\\n é da classe {classe}.')"
      ]
    },
    {
      "cell_type": "code",
      "execution_count": null,
      "metadata": {
        "id": "fowapViPrZg3"
      },
      "outputs": [],
      "source": [
        "with open('modelo_cls_svm_v3.pkl', 'wb') as f:\n",
        "    pkl.dump(svm_model, f)\n",
        "\n",
        "with open('num2label_cls_v3.pkl', 'wb') as f:\n",
        "    pkl.dump(num2label, f)"
      ]
    },
    {
      "cell_type": "markdown",
      "metadata": {
        "id": "rSXZVUCpJXVf"
      },
      "source": [
        "## Conjunção NER/Classificação"
      ]
    },
    {
      "cell_type": "code",
      "execution_count": null,
      "metadata": {
        "id": "40hPnVYNowjd"
      },
      "outputs": [],
      "source": [
        "def segmentar_e_classificar(lista_seg, model_cls, vectorizer, num2label):\n",
        "    df_ato_label = pd.DataFrame(columns=['Texto ato', 'Rótulo'])\n",
        "    lista_linhas = []\n",
        "    for ato in lista_seg:\n",
        "        classe = predicao_cls(ato, model_cls, vectorizer, num2label)\n",
        "        dict_linha = {\n",
        "            'Texto ato': ato,\n",
        "            'Rótulo': classe\n",
        "        }\n",
        "        lista_linhas.append(dict_linha)\n",
        "    df_ato_label = pd.DataFrame(lista_linhas)\n",
        "\n",
        "    return df_ato_label"
      ]
    },
    {
      "cell_type": "code",
      "execution_count": null,
      "metadata": {
        "id": "328CAbcQq72P"
      },
      "outputs": [],
      "source": [
        "hey = 'O VICE-GOVERNADOR NO EXERCÍCIO DO CARGO DE GOVERNADOR DO DISTRITO FEDERAL, com fundamento no artigo 92, e no uso das atribuições que lhe conferem os incisos XXVI e XXVII, do artigo 100, da Lei Orgânica do Distrito Federal, resolve: EXONERAR, por estar sendo nomeado para outro cargo, ADILSON ALVES DE CASTRO JÚNIOR, Analista em Gestão e Assistência Pública à Saúde, matrícula 01294873, do Cargo Público em Comissão, Símbolo CPC-01, SIGRH 55003416, de Chefe, do Núcleo de Gestão de Pessoas das Unidades de Atenção Especializada no Guará, da Gerência de Pessoas das Unidades de Atenção Especializada da Região Centro-Sul, da Diretoria Administrativa, da Superintendência Regional de Saúde Centro-Sul, da Secretaria de Estado de Saúde do Distrito Federal. EXONERAR KELLY DE SOUSA SILVA, Administradora, matrícula 14427869, do Cargo Público de Natureza Especial, Símbolo CPE-06, SIGRH 55005524, de Coordenador, da Coordenação de Administração de Profissionais, da Subsecretaria de Gestão de Pessoas, da Secretaria de Estado de Saúde do Distrito Federal. NOMEAR ADILSON ALVES DE CASTRO JÚNIOR, Analista em Gestão e Assistência Pública à Saúde, matrícula 01294873, para exercer o Cargo Público de Natureza Especial, Símbolo CPE-06, SIGRH 55005524, de Coordenador, da Coordenação de Administração de Profissionais, da Subsecretaria de Gestão de Pessoas, da Secretaria de Saúde do Distrito Federal. EXONERAR, por estar sendo nomeada para outro cargo, ZAYANA SILVA DE CASTRO PIRES MENEZES, Administradora, matrícula 14405741, do Cargo Público em Comissão, Símbolo CPC-04, SIGRH 55005588, de Assessor Técnico, da Superintendência da Região de Saúde Centro-Sul, da Secretaria de Estado de Saúde do Distrito Federal. EXONERAR FLÁVIA MACHADO DE SOUZA CABRAL, Analista em Gestão e Assistência Pública à Saúde, matrícula 14433273, do Cargo Público de Natureza Especial, Símbolo CPE-07, SIGRH 55005243, de Assessor Especial, da Subsecretaria de Gestão de Pessoas, da Secretaria de Estado de Saúde do Distrito Federal.'"
      ]
    },
    {
      "cell_type": "code",
      "execution_count": null,
      "metadata": {
        "colab": {
          "base_uri": "https://localhost:8080/",
          "height": 241
        },
        "id": "UkLalTVNrBJ6",
        "outputId": "d8f5760d-0c2b-43df-a10a-e0b44499c0d8"
      },
      "outputs": [
        {
          "name": "stdout",
          "output_type": "stream",
          "text": [
            "Qtd de tokens no texto dado: 256\n",
            "Qtd de tokens no texto dado: 99\n"
          ]
        },
        {
          "data": {
            "text/html": [
              "\n",
              "  <div id=\"df-17b9af4b-83db-44a4-a6a8-7009eaaa0b86\">\n",
              "    <div class=\"colab-df-container\">\n",
              "      <div>\n",
              "<style scoped>\n",
              "    .dataframe tbody tr th:only-of-type {\n",
              "        vertical-align: middle;\n",
              "    }\n",
              "\n",
              "    .dataframe tbody tr th {\n",
              "        vertical-align: top;\n",
              "    }\n",
              "\n",
              "    .dataframe thead th {\n",
              "        text-align: right;\n",
              "    }\n",
              "</style>\n",
              "<table border=\"1\" class=\"dataframe\">\n",
              "  <thead>\n",
              "    <tr style=\"text-align: right;\">\n",
              "      <th></th>\n",
              "      <th>Texto ato</th>\n",
              "      <th>Rótulo</th>\n",
              "    </tr>\n",
              "  </thead>\n",
              "  <tbody>\n",
              "    <tr>\n",
              "      <th>0</th>\n",
              "      <td>EXONERAR, por estar sendo nomeado para outro c...</td>\n",
              "      <td>Ato_Exoneracao_Comissionado</td>\n",
              "    </tr>\n",
              "    <tr>\n",
              "      <th>1</th>\n",
              "      <td>EXONERAR KELLY DE SOUSA SILVA, Administradora,...</td>\n",
              "      <td>Ato_Exoneracao_Comissionado</td>\n",
              "    </tr>\n",
              "    <tr>\n",
              "      <th>2</th>\n",
              "      <td>NOMEAR ADILSON ALVES DE CASTRO JÚNIOR, Analist...</td>\n",
              "      <td>Ato_Nomeacao_Comissionado</td>\n",
              "    </tr>\n",
              "    <tr>\n",
              "      <th>3</th>\n",
              "      <td>EXONERAR, por estar sendo nomeada para outro c...</td>\n",
              "      <td>Ato_Exoneracao_Comissionado</td>\n",
              "    </tr>\n",
              "    <tr>\n",
              "      <th>4</th>\n",
              "      <td>EXONERAR FLÁVIA MACHADO DE SOUZA CABRAL, Anali...</td>\n",
              "      <td>Ato_Exoneracao_Comissionado</td>\n",
              "    </tr>\n",
              "  </tbody>\n",
              "</table>\n",
              "</div>\n",
              "      <button class=\"colab-df-convert\" onclick=\"convertToInteractive('df-17b9af4b-83db-44a4-a6a8-7009eaaa0b86')\"\n",
              "              title=\"Convert this dataframe to an interactive table.\"\n",
              "              style=\"display:none;\">\n",
              "        \n",
              "  <svg xmlns=\"http://www.w3.org/2000/svg\" height=\"24px\"viewBox=\"0 0 24 24\"\n",
              "       width=\"24px\">\n",
              "    <path d=\"M0 0h24v24H0V0z\" fill=\"none\"/>\n",
              "    <path d=\"M18.56 5.44l.94 2.06.94-2.06 2.06-.94-2.06-.94-.94-2.06-.94 2.06-2.06.94zm-11 1L8.5 8.5l.94-2.06 2.06-.94-2.06-.94L8.5 2.5l-.94 2.06-2.06.94zm10 10l.94 2.06.94-2.06 2.06-.94-2.06-.94-.94-2.06-.94 2.06-2.06.94z\"/><path d=\"M17.41 7.96l-1.37-1.37c-.4-.4-.92-.59-1.43-.59-.52 0-1.04.2-1.43.59L10.3 9.45l-7.72 7.72c-.78.78-.78 2.05 0 2.83L4 21.41c.39.39.9.59 1.41.59.51 0 1.02-.2 1.41-.59l7.78-7.78 2.81-2.81c.8-.78.8-2.07 0-2.86zM5.41 20L4 18.59l7.72-7.72 1.47 1.35L5.41 20z\"/>\n",
              "  </svg>\n",
              "      </button>\n",
              "      \n",
              "  <style>\n",
              "    .colab-df-container {\n",
              "      display:flex;\n",
              "      flex-wrap:wrap;\n",
              "      gap: 12px;\n",
              "    }\n",
              "\n",
              "    .colab-df-convert {\n",
              "      background-color: #E8F0FE;\n",
              "      border: none;\n",
              "      border-radius: 50%;\n",
              "      cursor: pointer;\n",
              "      display: none;\n",
              "      fill: #1967D2;\n",
              "      height: 32px;\n",
              "      padding: 0 0 0 0;\n",
              "      width: 32px;\n",
              "    }\n",
              "\n",
              "    .colab-df-convert:hover {\n",
              "      background-color: #E2EBFA;\n",
              "      box-shadow: 0px 1px 2px rgba(60, 64, 67, 0.3), 0px 1px 3px 1px rgba(60, 64, 67, 0.15);\n",
              "      fill: #174EA6;\n",
              "    }\n",
              "\n",
              "    [theme=dark] .colab-df-convert {\n",
              "      background-color: #3B4455;\n",
              "      fill: #D2E3FC;\n",
              "    }\n",
              "\n",
              "    [theme=dark] .colab-df-convert:hover {\n",
              "      background-color: #434B5C;\n",
              "      box-shadow: 0px 1px 3px 1px rgba(0, 0, 0, 0.15);\n",
              "      filter: drop-shadow(0px 1px 2px rgba(0, 0, 0, 0.3));\n",
              "      fill: #FFFFFF;\n",
              "    }\n",
              "  </style>\n",
              "\n",
              "      <script>\n",
              "        const buttonEl =\n",
              "          document.querySelector('#df-17b9af4b-83db-44a4-a6a8-7009eaaa0b86 button.colab-df-convert');\n",
              "        buttonEl.style.display =\n",
              "          google.colab.kernel.accessAllowed ? 'block' : 'none';\n",
              "\n",
              "        async function convertToInteractive(key) {\n",
              "          const element = document.querySelector('#df-17b9af4b-83db-44a4-a6a8-7009eaaa0b86');\n",
              "          const dataTable =\n",
              "            await google.colab.kernel.invokeFunction('convertToInteractive',\n",
              "                                                     [key], {});\n",
              "          if (!dataTable) return;\n",
              "\n",
              "          const docLinkHtml = 'Like what you see? Visit the ' +\n",
              "            '<a target=\"_blank\" href=https://colab.research.google.com/notebooks/data_table.ipynb>data table notebook</a>'\n",
              "            + ' to learn more about interactive tables.';\n",
              "          element.innerHTML = '';\n",
              "          dataTable['output_type'] = 'display_data';\n",
              "          await google.colab.output.renderOutput(dataTable, element);\n",
              "          const docLink = document.createElement('div');\n",
              "          docLink.innerHTML = docLinkHtml;\n",
              "          element.appendChild(docLink);\n",
              "        }\n",
              "      </script>\n",
              "    </div>\n",
              "  </div>\n",
              "  "
            ],
            "text/plain": [
              "                                           Texto ato                       Rótulo\n",
              "0  EXONERAR, por estar sendo nomeado para outro c...  Ato_Exoneracao_Comissionado\n",
              "1  EXONERAR KELLY DE SOUSA SILVA, Administradora,...  Ato_Exoneracao_Comissionado\n",
              "2  NOMEAR ADILSON ALVES DE CASTRO JÚNIOR, Analist...    Ato_Nomeacao_Comissionado\n",
              "3  EXONERAR, por estar sendo nomeada para outro c...  Ato_Exoneracao_Comissionado\n",
              "4  EXONERAR FLÁVIA MACHADO DE SOUZA CABRAL, Anali...  Ato_Exoneracao_Comissionado"
            ]
          },
          "execution_count": 148,
          "metadata": {},
          "output_type": "execute_result"
        }
      ],
      "source": [
        "atos = segmentacao(hey, model, 256, word2idx, idx2tag)\n",
        "segmentar_e_classificar(atos, svm_model, vectorizer, num2label)"
      ]
    }
  ],
  "metadata": {
    "colab": {
      "collapsed_sections": [],
      "name": "Cópia de segmentacao_dodfs_funcionalissimo.ipynb",
      "provenance": []
    },
    "kernelspec": {
      "display_name": "Python 3.8.10 ('.venv': venv)",
      "language": "python",
      "name": "python3"
    },
    "language_info": {
      "codemirror_mode": {
        "name": "ipython",
        "version": 3
      },
      "file_extension": ".py",
      "mimetype": "text/x-python",
      "name": "python",
      "nbconvert_exporter": "python",
      "pygments_lexer": "ipython3",
      "version": "3.8.10"
    },
    "vscode": {
      "interpreter": {
        "hash": "3a364e88e268f24bb4b4cd28b7ddb26344d4bee608858daf4c5718cf9ad82c2c"
      }
    },
    "widgets": {
      "application/vnd.jupyter.widget-state+json": {
        "010df2c3c8eb4a18be0c4d3bf679ffa3": {
          "model_module": "@jupyter-widgets/controls",
          "model_module_version": "1.5.0",
          "model_name": "DescriptionStyleModel",
          "state": {
            "_model_module": "@jupyter-widgets/controls",
            "_model_module_version": "1.5.0",
            "_model_name": "DescriptionStyleModel",
            "_view_count": null,
            "_view_module": "@jupyter-widgets/base",
            "_view_module_version": "1.2.0",
            "_view_name": "StyleView",
            "description_width": ""
          }
        },
        "05c4316726b742a7a6c50e86c54cf17e": {
          "model_module": "@jupyter-widgets/controls",
          "model_module_version": "1.5.0",
          "model_name": "DescriptionStyleModel",
          "state": {
            "_model_module": "@jupyter-widgets/controls",
            "_model_module_version": "1.5.0",
            "_model_name": "DescriptionStyleModel",
            "_view_count": null,
            "_view_module": "@jupyter-widgets/base",
            "_view_module_version": "1.2.0",
            "_view_name": "StyleView",
            "description_width": ""
          }
        },
        "06a341d77c6646ce8e731f67e1813aa3": {
          "model_module": "@jupyter-widgets/controls",
          "model_module_version": "1.5.0",
          "model_name": "FloatProgressModel",
          "state": {
            "_dom_classes": [],
            "_model_module": "@jupyter-widgets/controls",
            "_model_module_version": "1.5.0",
            "_model_name": "FloatProgressModel",
            "_view_count": null,
            "_view_module": "@jupyter-widgets/controls",
            "_view_module_version": "1.5.0",
            "_view_name": "ProgressView",
            "bar_style": "success",
            "description": "",
            "description_tooltip": null,
            "layout": "IPY_MODEL_16a9036aa57f46338dca627be4a33651",
            "max": 1,
            "min": 0,
            "orientation": "horizontal",
            "style": "IPY_MODEL_ec425c81983a4108bac8b4edd46c2da7",
            "value": 1
          }
        },
        "0e8902a5f5554a3083bf3311f054befc": {
          "model_module": "@jupyter-widgets/base",
          "model_module_version": "1.2.0",
          "model_name": "LayoutModel",
          "state": {
            "_model_module": "@jupyter-widgets/base",
            "_model_module_version": "1.2.0",
            "_model_name": "LayoutModel",
            "_view_count": null,
            "_view_module": "@jupyter-widgets/base",
            "_view_module_version": "1.2.0",
            "_view_name": "LayoutView",
            "align_content": null,
            "align_items": null,
            "align_self": null,
            "border": null,
            "bottom": null,
            "display": null,
            "flex": null,
            "flex_flow": null,
            "grid_area": null,
            "grid_auto_columns": null,
            "grid_auto_flow": null,
            "grid_auto_rows": null,
            "grid_column": null,
            "grid_gap": null,
            "grid_row": null,
            "grid_template_areas": null,
            "grid_template_columns": null,
            "grid_template_rows": null,
            "height": null,
            "justify_content": null,
            "justify_items": null,
            "left": null,
            "margin": null,
            "max_height": null,
            "max_width": null,
            "min_height": null,
            "min_width": null,
            "object_fit": null,
            "object_position": null,
            "order": null,
            "overflow": null,
            "overflow_x": null,
            "overflow_y": null,
            "padding": null,
            "right": null,
            "top": null,
            "visibility": null,
            "width": "20px"
          }
        },
        "11deaced35df4545b54f8cad3729ca30": {
          "model_module": "@jupyter-widgets/base",
          "model_module_version": "1.2.0",
          "model_name": "LayoutModel",
          "state": {
            "_model_module": "@jupyter-widgets/base",
            "_model_module_version": "1.2.0",
            "_model_name": "LayoutModel",
            "_view_count": null,
            "_view_module": "@jupyter-widgets/base",
            "_view_module_version": "1.2.0",
            "_view_name": "LayoutView",
            "align_content": null,
            "align_items": null,
            "align_self": null,
            "border": null,
            "bottom": null,
            "display": null,
            "flex": null,
            "flex_flow": null,
            "grid_area": null,
            "grid_auto_columns": null,
            "grid_auto_flow": null,
            "grid_auto_rows": null,
            "grid_column": null,
            "grid_gap": null,
            "grid_row": null,
            "grid_template_areas": null,
            "grid_template_columns": null,
            "grid_template_rows": null,
            "height": null,
            "justify_content": null,
            "justify_items": null,
            "left": null,
            "margin": null,
            "max_height": null,
            "max_width": null,
            "min_height": null,
            "min_width": null,
            "object_fit": null,
            "object_position": null,
            "order": null,
            "overflow": null,
            "overflow_x": null,
            "overflow_y": null,
            "padding": null,
            "right": null,
            "top": null,
            "visibility": null,
            "width": null
          }
        },
        "12f4a6bda1124330be8ac1c6229c8edf": {
          "model_module": "@jupyter-widgets/controls",
          "model_module_version": "1.5.0",
          "model_name": "FloatProgressModel",
          "state": {
            "_dom_classes": [],
            "_model_module": "@jupyter-widgets/controls",
            "_model_module_version": "1.5.0",
            "_model_name": "FloatProgressModel",
            "_view_count": null,
            "_view_module": "@jupyter-widgets/controls",
            "_view_module_version": "1.5.0",
            "_view_name": "ProgressView",
            "bar_style": "success",
            "description": "",
            "description_tooltip": null,
            "layout": "IPY_MODEL_751dc9502dd6438099deb690f21d126c",
            "max": 1,
            "min": 0,
            "orientation": "horizontal",
            "style": "IPY_MODEL_7aac85943dd14c26bb7be41a885ac3b2",
            "value": 1
          }
        },
        "16a9036aa57f46338dca627be4a33651": {
          "model_module": "@jupyter-widgets/base",
          "model_module_version": "1.2.0",
          "model_name": "LayoutModel",
          "state": {
            "_model_module": "@jupyter-widgets/base",
            "_model_module_version": "1.2.0",
            "_model_name": "LayoutModel",
            "_view_count": null,
            "_view_module": "@jupyter-widgets/base",
            "_view_module_version": "1.2.0",
            "_view_name": "LayoutView",
            "align_content": null,
            "align_items": null,
            "align_self": null,
            "border": null,
            "bottom": null,
            "display": null,
            "flex": null,
            "flex_flow": null,
            "grid_area": null,
            "grid_auto_columns": null,
            "grid_auto_flow": null,
            "grid_auto_rows": null,
            "grid_column": null,
            "grid_gap": null,
            "grid_row": null,
            "grid_template_areas": null,
            "grid_template_columns": null,
            "grid_template_rows": null,
            "height": null,
            "justify_content": null,
            "justify_items": null,
            "left": null,
            "margin": null,
            "max_height": null,
            "max_width": null,
            "min_height": null,
            "min_width": null,
            "object_fit": null,
            "object_position": null,
            "order": null,
            "overflow": null,
            "overflow_x": null,
            "overflow_y": null,
            "padding": null,
            "right": null,
            "top": null,
            "visibility": null,
            "width": "20px"
          }
        },
        "1ed9758c1acb4e11af79b35b85d75f80": {
          "model_module": "@jupyter-widgets/controls",
          "model_module_version": "1.5.0",
          "model_name": "DescriptionStyleModel",
          "state": {
            "_model_module": "@jupyter-widgets/controls",
            "_model_module_version": "1.5.0",
            "_model_name": "DescriptionStyleModel",
            "_view_count": null,
            "_view_module": "@jupyter-widgets/base",
            "_view_module_version": "1.2.0",
            "_view_name": "StyleView",
            "description_width": ""
          }
        },
        "20055a3e3bac4ff18f8e920c11d35b0d": {
          "model_module": "@jupyter-widgets/base",
          "model_module_version": "1.2.0",
          "model_name": "LayoutModel",
          "state": {
            "_model_module": "@jupyter-widgets/base",
            "_model_module_version": "1.2.0",
            "_model_name": "LayoutModel",
            "_view_count": null,
            "_view_module": "@jupyter-widgets/base",
            "_view_module_version": "1.2.0",
            "_view_name": "LayoutView",
            "align_content": null,
            "align_items": null,
            "align_self": null,
            "border": null,
            "bottom": null,
            "display": null,
            "flex": null,
            "flex_flow": null,
            "grid_area": null,
            "grid_auto_columns": null,
            "grid_auto_flow": null,
            "grid_auto_rows": null,
            "grid_column": null,
            "grid_gap": null,
            "grid_row": null,
            "grid_template_areas": null,
            "grid_template_columns": null,
            "grid_template_rows": null,
            "height": null,
            "justify_content": null,
            "justify_items": null,
            "left": null,
            "margin": null,
            "max_height": null,
            "max_width": null,
            "min_height": null,
            "min_width": null,
            "object_fit": null,
            "object_position": null,
            "order": null,
            "overflow": null,
            "overflow_x": null,
            "overflow_y": null,
            "padding": null,
            "right": null,
            "top": null,
            "visibility": null,
            "width": null
          }
        },
        "22d70ed2bbd841b883b53e31c969037e": {
          "model_module": "@jupyter-widgets/controls",
          "model_module_version": "1.5.0",
          "model_name": "DescriptionStyleModel",
          "state": {
            "_model_module": "@jupyter-widgets/controls",
            "_model_module_version": "1.5.0",
            "_model_name": "DescriptionStyleModel",
            "_view_count": null,
            "_view_module": "@jupyter-widgets/base",
            "_view_module_version": "1.2.0",
            "_view_name": "StyleView",
            "description_width": ""
          }
        },
        "22db9ea8622b4b42b720513f4cd00239": {
          "model_module": "@jupyter-widgets/controls",
          "model_module_version": "1.5.0",
          "model_name": "DescriptionStyleModel",
          "state": {
            "_model_module": "@jupyter-widgets/controls",
            "_model_module_version": "1.5.0",
            "_model_name": "DescriptionStyleModel",
            "_view_count": null,
            "_view_module": "@jupyter-widgets/base",
            "_view_module_version": "1.2.0",
            "_view_name": "StyleView",
            "description_width": ""
          }
        },
        "24fdb498e88f49ed86b54b352ed49126": {
          "model_module": "@jupyter-widgets/controls",
          "model_module_version": "1.5.0",
          "model_name": "DescriptionStyleModel",
          "state": {
            "_model_module": "@jupyter-widgets/controls",
            "_model_module_version": "1.5.0",
            "_model_name": "DescriptionStyleModel",
            "_view_count": null,
            "_view_module": "@jupyter-widgets/base",
            "_view_module_version": "1.2.0",
            "_view_name": "StyleView",
            "description_width": ""
          }
        },
        "28f4626ea84b46979ce7b2dfd0c06ccb": {
          "model_module": "@jupyter-widgets/controls",
          "model_module_version": "1.5.0",
          "model_name": "HTMLModel",
          "state": {
            "_dom_classes": [],
            "_model_module": "@jupyter-widgets/controls",
            "_model_module_version": "1.5.0",
            "_model_name": "HTMLModel",
            "_view_count": null,
            "_view_module": "@jupyter-widgets/controls",
            "_view_module_version": "1.5.0",
            "_view_name": "HTMLView",
            "description": "",
            "description_tooltip": null,
            "layout": "IPY_MODEL_f81fd62fcf434398aa190bba9e37429e",
            "placeholder": "​",
            "style": "IPY_MODEL_22d70ed2bbd841b883b53e31c969037e",
            "value": " 1204/? [00:00&lt;00:00, 10736.94it/s]"
          }
        },
        "29137e2110114374a5f43b4a2a36bb5d": {
          "model_module": "@jupyter-widgets/controls",
          "model_module_version": "1.5.0",
          "model_name": "FloatProgressModel",
          "state": {
            "_dom_classes": [],
            "_model_module": "@jupyter-widgets/controls",
            "_model_module_version": "1.5.0",
            "_model_name": "FloatProgressModel",
            "_view_count": null,
            "_view_module": "@jupyter-widgets/controls",
            "_view_module_version": "1.5.0",
            "_view_name": "ProgressView",
            "bar_style": "success",
            "description": "",
            "description_tooltip": null,
            "layout": "IPY_MODEL_5ab7d1a5e0c241769c404b08b1d6a779",
            "max": 1,
            "min": 0,
            "orientation": "horizontal",
            "style": "IPY_MODEL_4dee3e76506c426580e07aad363a5408",
            "value": 1
          }
        },
        "3128c4d819ea4ac394d004726c80f23b": {
          "model_module": "@jupyter-widgets/controls",
          "model_module_version": "1.5.0",
          "model_name": "DescriptionStyleModel",
          "state": {
            "_model_module": "@jupyter-widgets/controls",
            "_model_module_version": "1.5.0",
            "_model_name": "DescriptionStyleModel",
            "_view_count": null,
            "_view_module": "@jupyter-widgets/base",
            "_view_module_version": "1.2.0",
            "_view_name": "StyleView",
            "description_width": ""
          }
        },
        "3707d80739bd400c984d686f7471d2bb": {
          "model_module": "@jupyter-widgets/base",
          "model_module_version": "1.2.0",
          "model_name": "LayoutModel",
          "state": {
            "_model_module": "@jupyter-widgets/base",
            "_model_module_version": "1.2.0",
            "_model_name": "LayoutModel",
            "_view_count": null,
            "_view_module": "@jupyter-widgets/base",
            "_view_module_version": "1.2.0",
            "_view_name": "LayoutView",
            "align_content": null,
            "align_items": null,
            "align_self": null,
            "border": null,
            "bottom": null,
            "display": null,
            "flex": null,
            "flex_flow": null,
            "grid_area": null,
            "grid_auto_columns": null,
            "grid_auto_flow": null,
            "grid_auto_rows": null,
            "grid_column": null,
            "grid_gap": null,
            "grid_row": null,
            "grid_template_areas": null,
            "grid_template_columns": null,
            "grid_template_rows": null,
            "height": null,
            "justify_content": null,
            "justify_items": null,
            "left": null,
            "margin": null,
            "max_height": null,
            "max_width": null,
            "min_height": null,
            "min_width": null,
            "object_fit": null,
            "object_position": null,
            "order": null,
            "overflow": null,
            "overflow_x": null,
            "overflow_y": null,
            "padding": null,
            "right": null,
            "top": null,
            "visibility": null,
            "width": null
          }
        },
        "397b7b3b24224708bb2e66c8df92d488": {
          "model_module": "@jupyter-widgets/controls",
          "model_module_version": "1.5.0",
          "model_name": "FloatProgressModel",
          "state": {
            "_dom_classes": [],
            "_model_module": "@jupyter-widgets/controls",
            "_model_module_version": "1.5.0",
            "_model_name": "FloatProgressModel",
            "_view_count": null,
            "_view_module": "@jupyter-widgets/controls",
            "_view_module_version": "1.5.0",
            "_view_name": "ProgressView",
            "bar_style": "success",
            "description": "",
            "description_tooltip": null,
            "layout": "IPY_MODEL_c661c0184b9446988c8398ec5c58f2b1",
            "max": 1,
            "min": 0,
            "orientation": "horizontal",
            "style": "IPY_MODEL_96a3f25583e34de9bd4a762e520f1365",
            "value": 1
          }
        },
        "3a56a456595544c18b5bb0a1c7af27d8": {
          "model_module": "@jupyter-widgets/base",
          "model_module_version": "1.2.0",
          "model_name": "LayoutModel",
          "state": {
            "_model_module": "@jupyter-widgets/base",
            "_model_module_version": "1.2.0",
            "_model_name": "LayoutModel",
            "_view_count": null,
            "_view_module": "@jupyter-widgets/base",
            "_view_module_version": "1.2.0",
            "_view_name": "LayoutView",
            "align_content": null,
            "align_items": null,
            "align_self": null,
            "border": null,
            "bottom": null,
            "display": null,
            "flex": null,
            "flex_flow": null,
            "grid_area": null,
            "grid_auto_columns": null,
            "grid_auto_flow": null,
            "grid_auto_rows": null,
            "grid_column": null,
            "grid_gap": null,
            "grid_row": null,
            "grid_template_areas": null,
            "grid_template_columns": null,
            "grid_template_rows": null,
            "height": null,
            "justify_content": null,
            "justify_items": null,
            "left": null,
            "margin": null,
            "max_height": null,
            "max_width": null,
            "min_height": null,
            "min_width": null,
            "object_fit": null,
            "object_position": null,
            "order": null,
            "overflow": null,
            "overflow_x": null,
            "overflow_y": null,
            "padding": null,
            "right": null,
            "top": null,
            "visibility": null,
            "width": null
          }
        },
        "3cd2924065fe4eea820215685143172d": {
          "model_module": "@jupyter-widgets/controls",
          "model_module_version": "1.5.0",
          "model_name": "HTMLModel",
          "state": {
            "_dom_classes": [],
            "_model_module": "@jupyter-widgets/controls",
            "_model_module_version": "1.5.0",
            "_model_name": "HTMLModel",
            "_view_count": null,
            "_view_module": "@jupyter-widgets/controls",
            "_view_module_version": "1.5.0",
            "_view_name": "HTMLView",
            "description": "",
            "description_tooltip": null,
            "layout": "IPY_MODEL_6b4bdd358d16459faf69df225ba7b6b7",
            "placeholder": "​",
            "style": "IPY_MODEL_83711afbafe64c0f8ce75aa2120d0584",
            "value": " 313/? [00:00&lt;00:00, 2615.43it/s]"
          }
        },
        "4178e74732e548969ac24de81951f915": {
          "model_module": "@jupyter-widgets/controls",
          "model_module_version": "1.5.0",
          "model_name": "HBoxModel",
          "state": {
            "_dom_classes": [],
            "_model_module": "@jupyter-widgets/controls",
            "_model_module_version": "1.5.0",
            "_model_name": "HBoxModel",
            "_view_count": null,
            "_view_module": "@jupyter-widgets/controls",
            "_view_module_version": "1.5.0",
            "_view_name": "HBoxView",
            "box_style": "",
            "children": [
              "IPY_MODEL_b07233e7b3d2429a94634680260e9f6a",
              "IPY_MODEL_b78dd04ff2f947b0b5fce638b0d28c9a",
              "IPY_MODEL_3cd2924065fe4eea820215685143172d"
            ],
            "layout": "IPY_MODEL_7e4ac74ea9d04c5b9d2ac0529bf032bd"
          }
        },
        "42e83e1845084bc4b9785437c85353ed": {
          "model_module": "@jupyter-widgets/base",
          "model_module_version": "1.2.0",
          "model_name": "LayoutModel",
          "state": {
            "_model_module": "@jupyter-widgets/base",
            "_model_module_version": "1.2.0",
            "_model_name": "LayoutModel",
            "_view_count": null,
            "_view_module": "@jupyter-widgets/base",
            "_view_module_version": "1.2.0",
            "_view_name": "LayoutView",
            "align_content": null,
            "align_items": null,
            "align_self": null,
            "border": null,
            "bottom": null,
            "display": null,
            "flex": null,
            "flex_flow": null,
            "grid_area": null,
            "grid_auto_columns": null,
            "grid_auto_flow": null,
            "grid_auto_rows": null,
            "grid_column": null,
            "grid_gap": null,
            "grid_row": null,
            "grid_template_areas": null,
            "grid_template_columns": null,
            "grid_template_rows": null,
            "height": null,
            "justify_content": null,
            "justify_items": null,
            "left": null,
            "margin": null,
            "max_height": null,
            "max_width": null,
            "min_height": null,
            "min_width": null,
            "object_fit": null,
            "object_position": null,
            "order": null,
            "overflow": null,
            "overflow_x": null,
            "overflow_y": null,
            "padding": null,
            "right": null,
            "top": null,
            "visibility": null,
            "width": null
          }
        },
        "434f0ad4cc0f4f319edd628e1834948d": {
          "model_module": "@jupyter-widgets/controls",
          "model_module_version": "1.5.0",
          "model_name": "HTMLModel",
          "state": {
            "_dom_classes": [],
            "_model_module": "@jupyter-widgets/controls",
            "_model_module_version": "1.5.0",
            "_model_name": "HTMLModel",
            "_view_count": null,
            "_view_module": "@jupyter-widgets/controls",
            "_view_module_version": "1.5.0",
            "_view_name": "HTMLView",
            "description": "",
            "description_tooltip": null,
            "layout": "IPY_MODEL_50572adbcd964c63b2c32f5a172b3193",
            "placeholder": "​",
            "style": "IPY_MODEL_5342cade63f341948c25841489497af0",
            "value": " 1205/? [00:00&lt;00:00, 11454.93it/s]"
          }
        },
        "47281fbb063b4df9adb35a7d5a419250": {
          "model_module": "@jupyter-widgets/controls",
          "model_module_version": "1.5.0",
          "model_name": "HTMLModel",
          "state": {
            "_dom_classes": [],
            "_model_module": "@jupyter-widgets/controls",
            "_model_module_version": "1.5.0",
            "_model_name": "HTMLModel",
            "_view_count": null,
            "_view_module": "@jupyter-widgets/controls",
            "_view_module_version": "1.5.0",
            "_view_name": "HTMLView",
            "description": "",
            "description_tooltip": null,
            "layout": "IPY_MODEL_ea418eefba6845008eb092e4fc87b37f",
            "placeholder": "​",
            "style": "IPY_MODEL_80a8166458884d559efb0fdb3ac8fe8d",
            "value": ""
          }
        },
        "4dee3e76506c426580e07aad363a5408": {
          "model_module": "@jupyter-widgets/controls",
          "model_module_version": "1.5.0",
          "model_name": "ProgressStyleModel",
          "state": {
            "_model_module": "@jupyter-widgets/controls",
            "_model_module_version": "1.5.0",
            "_model_name": "ProgressStyleModel",
            "_view_count": null,
            "_view_module": "@jupyter-widgets/base",
            "_view_module_version": "1.2.0",
            "_view_name": "StyleView",
            "bar_color": null,
            "description_width": ""
          }
        },
        "50572adbcd964c63b2c32f5a172b3193": {
          "model_module": "@jupyter-widgets/base",
          "model_module_version": "1.2.0",
          "model_name": "LayoutModel",
          "state": {
            "_model_module": "@jupyter-widgets/base",
            "_model_module_version": "1.2.0",
            "_model_name": "LayoutModel",
            "_view_count": null,
            "_view_module": "@jupyter-widgets/base",
            "_view_module_version": "1.2.0",
            "_view_name": "LayoutView",
            "align_content": null,
            "align_items": null,
            "align_self": null,
            "border": null,
            "bottom": null,
            "display": null,
            "flex": null,
            "flex_flow": null,
            "grid_area": null,
            "grid_auto_columns": null,
            "grid_auto_flow": null,
            "grid_auto_rows": null,
            "grid_column": null,
            "grid_gap": null,
            "grid_row": null,
            "grid_template_areas": null,
            "grid_template_columns": null,
            "grid_template_rows": null,
            "height": null,
            "justify_content": null,
            "justify_items": null,
            "left": null,
            "margin": null,
            "max_height": null,
            "max_width": null,
            "min_height": null,
            "min_width": null,
            "object_fit": null,
            "object_position": null,
            "order": null,
            "overflow": null,
            "overflow_x": null,
            "overflow_y": null,
            "padding": null,
            "right": null,
            "top": null,
            "visibility": null,
            "width": null
          }
        },
        "5342cade63f341948c25841489497af0": {
          "model_module": "@jupyter-widgets/controls",
          "model_module_version": "1.5.0",
          "model_name": "DescriptionStyleModel",
          "state": {
            "_model_module": "@jupyter-widgets/controls",
            "_model_module_version": "1.5.0",
            "_model_name": "DescriptionStyleModel",
            "_view_count": null,
            "_view_module": "@jupyter-widgets/base",
            "_view_module_version": "1.2.0",
            "_view_name": "StyleView",
            "description_width": ""
          }
        },
        "545594bdb73342369a762194edeb26fc": {
          "model_module": "@jupyter-widgets/base",
          "model_module_version": "1.2.0",
          "model_name": "LayoutModel",
          "state": {
            "_model_module": "@jupyter-widgets/base",
            "_model_module_version": "1.2.0",
            "_model_name": "LayoutModel",
            "_view_count": null,
            "_view_module": "@jupyter-widgets/base",
            "_view_module_version": "1.2.0",
            "_view_name": "LayoutView",
            "align_content": null,
            "align_items": null,
            "align_self": null,
            "border": null,
            "bottom": null,
            "display": null,
            "flex": null,
            "flex_flow": null,
            "grid_area": null,
            "grid_auto_columns": null,
            "grid_auto_flow": null,
            "grid_auto_rows": null,
            "grid_column": null,
            "grid_gap": null,
            "grid_row": null,
            "grid_template_areas": null,
            "grid_template_columns": null,
            "grid_template_rows": null,
            "height": null,
            "justify_content": null,
            "justify_items": null,
            "left": null,
            "margin": null,
            "max_height": null,
            "max_width": null,
            "min_height": null,
            "min_width": null,
            "object_fit": null,
            "object_position": null,
            "order": null,
            "overflow": null,
            "overflow_x": null,
            "overflow_y": null,
            "padding": null,
            "right": null,
            "top": null,
            "visibility": null,
            "width": null
          }
        },
        "5463ce6cf35d48198885b26cc6457c73": {
          "model_module": "@jupyter-widgets/base",
          "model_module_version": "1.2.0",
          "model_name": "LayoutModel",
          "state": {
            "_model_module": "@jupyter-widgets/base",
            "_model_module_version": "1.2.0",
            "_model_name": "LayoutModel",
            "_view_count": null,
            "_view_module": "@jupyter-widgets/base",
            "_view_module_version": "1.2.0",
            "_view_name": "LayoutView",
            "align_content": null,
            "align_items": null,
            "align_self": null,
            "border": null,
            "bottom": null,
            "display": null,
            "flex": null,
            "flex_flow": null,
            "grid_area": null,
            "grid_auto_columns": null,
            "grid_auto_flow": null,
            "grid_auto_rows": null,
            "grid_column": null,
            "grid_gap": null,
            "grid_row": null,
            "grid_template_areas": null,
            "grid_template_columns": null,
            "grid_template_rows": null,
            "height": null,
            "justify_content": null,
            "justify_items": null,
            "left": null,
            "margin": null,
            "max_height": null,
            "max_width": null,
            "min_height": null,
            "min_width": null,
            "object_fit": null,
            "object_position": null,
            "order": null,
            "overflow": null,
            "overflow_x": null,
            "overflow_y": null,
            "padding": null,
            "right": null,
            "top": null,
            "visibility": null,
            "width": null
          }
        },
        "5aac85269ade46458a76aa6ef9708a29": {
          "model_module": "@jupyter-widgets/controls",
          "model_module_version": "1.5.0",
          "model_name": "HTMLModel",
          "state": {
            "_dom_classes": [],
            "_model_module": "@jupyter-widgets/controls",
            "_model_module_version": "1.5.0",
            "_model_name": "HTMLModel",
            "_view_count": null,
            "_view_module": "@jupyter-widgets/controls",
            "_view_module_version": "1.5.0",
            "_view_name": "HTMLView",
            "description": "",
            "description_tooltip": null,
            "layout": "IPY_MODEL_88c09c1e123149f19fa5e428356077ce",
            "placeholder": "​",
            "style": "IPY_MODEL_a1d8ce39dd224c38bbb74e34ddbcba28",
            "value": ""
          }
        },
        "5ab7d1a5e0c241769c404b08b1d6a779": {
          "model_module": "@jupyter-widgets/base",
          "model_module_version": "1.2.0",
          "model_name": "LayoutModel",
          "state": {
            "_model_module": "@jupyter-widgets/base",
            "_model_module_version": "1.2.0",
            "_model_name": "LayoutModel",
            "_view_count": null,
            "_view_module": "@jupyter-widgets/base",
            "_view_module_version": "1.2.0",
            "_view_name": "LayoutView",
            "align_content": null,
            "align_items": null,
            "align_self": null,
            "border": null,
            "bottom": null,
            "display": null,
            "flex": null,
            "flex_flow": null,
            "grid_area": null,
            "grid_auto_columns": null,
            "grid_auto_flow": null,
            "grid_auto_rows": null,
            "grid_column": null,
            "grid_gap": null,
            "grid_row": null,
            "grid_template_areas": null,
            "grid_template_columns": null,
            "grid_template_rows": null,
            "height": null,
            "justify_content": null,
            "justify_items": null,
            "left": null,
            "margin": null,
            "max_height": null,
            "max_width": null,
            "min_height": null,
            "min_width": null,
            "object_fit": null,
            "object_position": null,
            "order": null,
            "overflow": null,
            "overflow_x": null,
            "overflow_y": null,
            "padding": null,
            "right": null,
            "top": null,
            "visibility": null,
            "width": null
          }
        },
        "5bf76d5335184feb9a05660fd935d286": {
          "model_module": "@jupyter-widgets/controls",
          "model_module_version": "1.5.0",
          "model_name": "FloatProgressModel",
          "state": {
            "_dom_classes": [],
            "_model_module": "@jupyter-widgets/controls",
            "_model_module_version": "1.5.0",
            "_model_name": "FloatProgressModel",
            "_view_count": null,
            "_view_module": "@jupyter-widgets/controls",
            "_view_module_version": "1.5.0",
            "_view_name": "ProgressView",
            "bar_style": "success",
            "description": "",
            "description_tooltip": null,
            "layout": "IPY_MODEL_ca19d4ff615b4d73ac493430750e0430",
            "max": 1,
            "min": 0,
            "orientation": "horizontal",
            "style": "IPY_MODEL_fa46e77b446f4220b3f3bccb0e7bb9f1",
            "value": 1
          }
        },
        "61e5c8e121c84a088b0b837781ed6914": {
          "model_module": "@jupyter-widgets/controls",
          "model_module_version": "1.5.0",
          "model_name": "HBoxModel",
          "state": {
            "_dom_classes": [],
            "_model_module": "@jupyter-widgets/controls",
            "_model_module_version": "1.5.0",
            "_model_name": "HBoxModel",
            "_view_count": null,
            "_view_module": "@jupyter-widgets/controls",
            "_view_module_version": "1.5.0",
            "_view_name": "HBoxView",
            "box_style": "",
            "children": [
              "IPY_MODEL_df0c1bb97ff9444e8c82ca37f3167418",
              "IPY_MODEL_9d6266ca64cd43d2bba84e8dcd2b47bd",
              "IPY_MODEL_434f0ad4cc0f4f319edd628e1834948d"
            ],
            "layout": "IPY_MODEL_e78fa08f39a640bfaac85710d4776406"
          }
        },
        "6b4bdd358d16459faf69df225ba7b6b7": {
          "model_module": "@jupyter-widgets/base",
          "model_module_version": "1.2.0",
          "model_name": "LayoutModel",
          "state": {
            "_model_module": "@jupyter-widgets/base",
            "_model_module_version": "1.2.0",
            "_model_name": "LayoutModel",
            "_view_count": null,
            "_view_module": "@jupyter-widgets/base",
            "_view_module_version": "1.2.0",
            "_view_name": "LayoutView",
            "align_content": null,
            "align_items": null,
            "align_self": null,
            "border": null,
            "bottom": null,
            "display": null,
            "flex": null,
            "flex_flow": null,
            "grid_area": null,
            "grid_auto_columns": null,
            "grid_auto_flow": null,
            "grid_auto_rows": null,
            "grid_column": null,
            "grid_gap": null,
            "grid_row": null,
            "grid_template_areas": null,
            "grid_template_columns": null,
            "grid_template_rows": null,
            "height": null,
            "justify_content": null,
            "justify_items": null,
            "left": null,
            "margin": null,
            "max_height": null,
            "max_width": null,
            "min_height": null,
            "min_width": null,
            "object_fit": null,
            "object_position": null,
            "order": null,
            "overflow": null,
            "overflow_x": null,
            "overflow_y": null,
            "padding": null,
            "right": null,
            "top": null,
            "visibility": null,
            "width": null
          }
        },
        "751dc9502dd6438099deb690f21d126c": {
          "model_module": "@jupyter-widgets/base",
          "model_module_version": "1.2.0",
          "model_name": "LayoutModel",
          "state": {
            "_model_module": "@jupyter-widgets/base",
            "_model_module_version": "1.2.0",
            "_model_name": "LayoutModel",
            "_view_count": null,
            "_view_module": "@jupyter-widgets/base",
            "_view_module_version": "1.2.0",
            "_view_name": "LayoutView",
            "align_content": null,
            "align_items": null,
            "align_self": null,
            "border": null,
            "bottom": null,
            "display": null,
            "flex": null,
            "flex_flow": null,
            "grid_area": null,
            "grid_auto_columns": null,
            "grid_auto_flow": null,
            "grid_auto_rows": null,
            "grid_column": null,
            "grid_gap": null,
            "grid_row": null,
            "grid_template_areas": null,
            "grid_template_columns": null,
            "grid_template_rows": null,
            "height": null,
            "justify_content": null,
            "justify_items": null,
            "left": null,
            "margin": null,
            "max_height": null,
            "max_width": null,
            "min_height": null,
            "min_width": null,
            "object_fit": null,
            "object_position": null,
            "order": null,
            "overflow": null,
            "overflow_x": null,
            "overflow_y": null,
            "padding": null,
            "right": null,
            "top": null,
            "visibility": null,
            "width": "20px"
          }
        },
        "75ec51380b454b7a8d8bdeeecdd18ec4": {
          "model_module": "@jupyter-widgets/base",
          "model_module_version": "1.2.0",
          "model_name": "LayoutModel",
          "state": {
            "_model_module": "@jupyter-widgets/base",
            "_model_module_version": "1.2.0",
            "_model_name": "LayoutModel",
            "_view_count": null,
            "_view_module": "@jupyter-widgets/base",
            "_view_module_version": "1.2.0",
            "_view_name": "LayoutView",
            "align_content": null,
            "align_items": null,
            "align_self": null,
            "border": null,
            "bottom": null,
            "display": null,
            "flex": null,
            "flex_flow": null,
            "grid_area": null,
            "grid_auto_columns": null,
            "grid_auto_flow": null,
            "grid_auto_rows": null,
            "grid_column": null,
            "grid_gap": null,
            "grid_row": null,
            "grid_template_areas": null,
            "grid_template_columns": null,
            "grid_template_rows": null,
            "height": null,
            "justify_content": null,
            "justify_items": null,
            "left": null,
            "margin": null,
            "max_height": null,
            "max_width": null,
            "min_height": null,
            "min_width": null,
            "object_fit": null,
            "object_position": null,
            "order": null,
            "overflow": null,
            "overflow_x": null,
            "overflow_y": null,
            "padding": null,
            "right": null,
            "top": null,
            "visibility": null,
            "width": null
          }
        },
        "75f7ff37f7b14480a9b8804b27d7f57d": {
          "model_module": "@jupyter-widgets/controls",
          "model_module_version": "1.5.0",
          "model_name": "DescriptionStyleModel",
          "state": {
            "_model_module": "@jupyter-widgets/controls",
            "_model_module_version": "1.5.0",
            "_model_name": "DescriptionStyleModel",
            "_view_count": null,
            "_view_module": "@jupyter-widgets/base",
            "_view_module_version": "1.2.0",
            "_view_name": "StyleView",
            "description_width": ""
          }
        },
        "7aac85943dd14c26bb7be41a885ac3b2": {
          "model_module": "@jupyter-widgets/controls",
          "model_module_version": "1.5.0",
          "model_name": "ProgressStyleModel",
          "state": {
            "_model_module": "@jupyter-widgets/controls",
            "_model_module_version": "1.5.0",
            "_model_name": "ProgressStyleModel",
            "_view_count": null,
            "_view_module": "@jupyter-widgets/base",
            "_view_module_version": "1.2.0",
            "_view_name": "StyleView",
            "bar_color": null,
            "description_width": ""
          }
        },
        "7b66084199c04ce2b903f724ad0b4af7": {
          "model_module": "@jupyter-widgets/controls",
          "model_module_version": "1.5.0",
          "model_name": "HBoxModel",
          "state": {
            "_dom_classes": [],
            "_model_module": "@jupyter-widgets/controls",
            "_model_module_version": "1.5.0",
            "_model_name": "HBoxModel",
            "_view_count": null,
            "_view_module": "@jupyter-widgets/controls",
            "_view_module_version": "1.5.0",
            "_view_name": "HBoxView",
            "box_style": "",
            "children": [
              "IPY_MODEL_5aac85269ade46458a76aa6ef9708a29",
              "IPY_MODEL_06a341d77c6646ce8e731f67e1813aa3",
              "IPY_MODEL_7d1965e1375c48b59609af9b4c92f403"
            ],
            "layout": "IPY_MODEL_3707d80739bd400c984d686f7471d2bb"
          }
        },
        "7d01db996bee4d1bb8941bc835e05c56": {
          "model_module": "@jupyter-widgets/base",
          "model_module_version": "1.2.0",
          "model_name": "LayoutModel",
          "state": {
            "_model_module": "@jupyter-widgets/base",
            "_model_module_version": "1.2.0",
            "_model_name": "LayoutModel",
            "_view_count": null,
            "_view_module": "@jupyter-widgets/base",
            "_view_module_version": "1.2.0",
            "_view_name": "LayoutView",
            "align_content": null,
            "align_items": null,
            "align_self": null,
            "border": null,
            "bottom": null,
            "display": null,
            "flex": null,
            "flex_flow": null,
            "grid_area": null,
            "grid_auto_columns": null,
            "grid_auto_flow": null,
            "grid_auto_rows": null,
            "grid_column": null,
            "grid_gap": null,
            "grid_row": null,
            "grid_template_areas": null,
            "grid_template_columns": null,
            "grid_template_rows": null,
            "height": null,
            "justify_content": null,
            "justify_items": null,
            "left": null,
            "margin": null,
            "max_height": null,
            "max_width": null,
            "min_height": null,
            "min_width": null,
            "object_fit": null,
            "object_position": null,
            "order": null,
            "overflow": null,
            "overflow_x": null,
            "overflow_y": null,
            "padding": null,
            "right": null,
            "top": null,
            "visibility": null,
            "width": null
          }
        },
        "7d1965e1375c48b59609af9b4c92f403": {
          "model_module": "@jupyter-widgets/controls",
          "model_module_version": "1.5.0",
          "model_name": "HTMLModel",
          "state": {
            "_dom_classes": [],
            "_model_module": "@jupyter-widgets/controls",
            "_model_module_version": "1.5.0",
            "_model_name": "HTMLModel",
            "_view_count": null,
            "_view_module": "@jupyter-widgets/controls",
            "_view_module_version": "1.5.0",
            "_view_name": "HTMLView",
            "description": "",
            "description_tooltip": null,
            "layout": "IPY_MODEL_d7603628ccbf4fcf8e2126026ed7e9c6",
            "placeholder": "​",
            "style": "IPY_MODEL_eb79eb21b77147dca0aaf94e1405742f",
            "value": " 1896/? [00:00&lt;00:00, 5394.77it/s]"
          }
        },
        "7d24900a47c14468a6a35a631daab79e": {
          "model_module": "@jupyter-widgets/controls",
          "model_module_version": "1.5.0",
          "model_name": "HTMLModel",
          "state": {
            "_dom_classes": [],
            "_model_module": "@jupyter-widgets/controls",
            "_model_module_version": "1.5.0",
            "_model_name": "HTMLModel",
            "_view_count": null,
            "_view_module": "@jupyter-widgets/controls",
            "_view_module_version": "1.5.0",
            "_view_name": "HTMLView",
            "description": "",
            "description_tooltip": null,
            "layout": "IPY_MODEL_75ec51380b454b7a8d8bdeeecdd18ec4",
            "placeholder": "​",
            "style": "IPY_MODEL_22db9ea8622b4b42b720513f4cd00239",
            "value": ""
          }
        },
        "7e4ac74ea9d04c5b9d2ac0529bf032bd": {
          "model_module": "@jupyter-widgets/base",
          "model_module_version": "1.2.0",
          "model_name": "LayoutModel",
          "state": {
            "_model_module": "@jupyter-widgets/base",
            "_model_module_version": "1.2.0",
            "_model_name": "LayoutModel",
            "_view_count": null,
            "_view_module": "@jupyter-widgets/base",
            "_view_module_version": "1.2.0",
            "_view_name": "LayoutView",
            "align_content": null,
            "align_items": null,
            "align_self": null,
            "border": null,
            "bottom": null,
            "display": null,
            "flex": null,
            "flex_flow": null,
            "grid_area": null,
            "grid_auto_columns": null,
            "grid_auto_flow": null,
            "grid_auto_rows": null,
            "grid_column": null,
            "grid_gap": null,
            "grid_row": null,
            "grid_template_areas": null,
            "grid_template_columns": null,
            "grid_template_rows": null,
            "height": null,
            "justify_content": null,
            "justify_items": null,
            "left": null,
            "margin": null,
            "max_height": null,
            "max_width": null,
            "min_height": null,
            "min_width": null,
            "object_fit": null,
            "object_position": null,
            "order": null,
            "overflow": null,
            "overflow_x": null,
            "overflow_y": null,
            "padding": null,
            "right": null,
            "top": null,
            "visibility": null,
            "width": null
          }
        },
        "80a8166458884d559efb0fdb3ac8fe8d": {
          "model_module": "@jupyter-widgets/controls",
          "model_module_version": "1.5.0",
          "model_name": "DescriptionStyleModel",
          "state": {
            "_model_module": "@jupyter-widgets/controls",
            "_model_module_version": "1.5.0",
            "_model_name": "DescriptionStyleModel",
            "_view_count": null,
            "_view_module": "@jupyter-widgets/base",
            "_view_module_version": "1.2.0",
            "_view_name": "StyleView",
            "description_width": ""
          }
        },
        "82fc11b94cec4a5aba52d37b2bb47b04": {
          "model_module": "@jupyter-widgets/controls",
          "model_module_version": "1.5.0",
          "model_name": "HBoxModel",
          "state": {
            "_dom_classes": [],
            "_model_module": "@jupyter-widgets/controls",
            "_model_module_version": "1.5.0",
            "_model_name": "HBoxModel",
            "_view_count": null,
            "_view_module": "@jupyter-widgets/controls",
            "_view_module_version": "1.5.0",
            "_view_name": "HBoxView",
            "box_style": "",
            "children": [
              "IPY_MODEL_7d24900a47c14468a6a35a631daab79e",
              "IPY_MODEL_29137e2110114374a5f43b4a2a36bb5d",
              "IPY_MODEL_28f4626ea84b46979ce7b2dfd0c06ccb"
            ],
            "layout": "IPY_MODEL_c29cb72211ad44c78c8640bd4ed64186"
          }
        },
        "83334b56d32c4639aae74192f2cea961": {
          "model_module": "@jupyter-widgets/base",
          "model_module_version": "1.2.0",
          "model_name": "LayoutModel",
          "state": {
            "_model_module": "@jupyter-widgets/base",
            "_model_module_version": "1.2.0",
            "_model_name": "LayoutModel",
            "_view_count": null,
            "_view_module": "@jupyter-widgets/base",
            "_view_module_version": "1.2.0",
            "_view_name": "LayoutView",
            "align_content": null,
            "align_items": null,
            "align_self": null,
            "border": null,
            "bottom": null,
            "display": null,
            "flex": null,
            "flex_flow": null,
            "grid_area": null,
            "grid_auto_columns": null,
            "grid_auto_flow": null,
            "grid_auto_rows": null,
            "grid_column": null,
            "grid_gap": null,
            "grid_row": null,
            "grid_template_areas": null,
            "grid_template_columns": null,
            "grid_template_rows": null,
            "height": null,
            "justify_content": null,
            "justify_items": null,
            "left": null,
            "margin": null,
            "max_height": null,
            "max_width": null,
            "min_height": null,
            "min_width": null,
            "object_fit": null,
            "object_position": null,
            "order": null,
            "overflow": null,
            "overflow_x": null,
            "overflow_y": null,
            "padding": null,
            "right": null,
            "top": null,
            "visibility": null,
            "width": null
          }
        },
        "83711afbafe64c0f8ce75aa2120d0584": {
          "model_module": "@jupyter-widgets/controls",
          "model_module_version": "1.5.0",
          "model_name": "DescriptionStyleModel",
          "state": {
            "_model_module": "@jupyter-widgets/controls",
            "_model_module_version": "1.5.0",
            "_model_name": "DescriptionStyleModel",
            "_view_count": null,
            "_view_module": "@jupyter-widgets/base",
            "_view_module_version": "1.2.0",
            "_view_name": "StyleView",
            "description_width": ""
          }
        },
        "88c09c1e123149f19fa5e428356077ce": {
          "model_module": "@jupyter-widgets/base",
          "model_module_version": "1.2.0",
          "model_name": "LayoutModel",
          "state": {
            "_model_module": "@jupyter-widgets/base",
            "_model_module_version": "1.2.0",
            "_model_name": "LayoutModel",
            "_view_count": null,
            "_view_module": "@jupyter-widgets/base",
            "_view_module_version": "1.2.0",
            "_view_name": "LayoutView",
            "align_content": null,
            "align_items": null,
            "align_self": null,
            "border": null,
            "bottom": null,
            "display": null,
            "flex": null,
            "flex_flow": null,
            "grid_area": null,
            "grid_auto_columns": null,
            "grid_auto_flow": null,
            "grid_auto_rows": null,
            "grid_column": null,
            "grid_gap": null,
            "grid_row": null,
            "grid_template_areas": null,
            "grid_template_columns": null,
            "grid_template_rows": null,
            "height": null,
            "justify_content": null,
            "justify_items": null,
            "left": null,
            "margin": null,
            "max_height": null,
            "max_width": null,
            "min_height": null,
            "min_width": null,
            "object_fit": null,
            "object_position": null,
            "order": null,
            "overflow": null,
            "overflow_x": null,
            "overflow_y": null,
            "padding": null,
            "right": null,
            "top": null,
            "visibility": null,
            "width": null
          }
        },
        "961b8cb53d094075ae53bba22968489f": {
          "model_module": "@jupyter-widgets/controls",
          "model_module_version": "1.5.0",
          "model_name": "HBoxModel",
          "state": {
            "_dom_classes": [],
            "_model_module": "@jupyter-widgets/controls",
            "_model_module_version": "1.5.0",
            "_model_name": "HBoxModel",
            "_view_count": null,
            "_view_module": "@jupyter-widgets/controls",
            "_view_module_version": "1.5.0",
            "_view_name": "HBoxView",
            "box_style": "",
            "children": [
              "IPY_MODEL_a4498952de8c41c4aa69acdcce570413",
              "IPY_MODEL_397b7b3b24224708bb2e66c8df92d488",
              "IPY_MODEL_ed9d14bf290641c0a121adb9fd3b9045"
            ],
            "layout": "IPY_MODEL_11deaced35df4545b54f8cad3729ca30"
          }
        },
        "96a3f25583e34de9bd4a762e520f1365": {
          "model_module": "@jupyter-widgets/controls",
          "model_module_version": "1.5.0",
          "model_name": "ProgressStyleModel",
          "state": {
            "_model_module": "@jupyter-widgets/controls",
            "_model_module_version": "1.5.0",
            "_model_name": "ProgressStyleModel",
            "_view_count": null,
            "_view_module": "@jupyter-widgets/base",
            "_view_module_version": "1.2.0",
            "_view_name": "StyleView",
            "bar_color": null,
            "description_width": ""
          }
        },
        "9d6266ca64cd43d2bba84e8dcd2b47bd": {
          "model_module": "@jupyter-widgets/controls",
          "model_module_version": "1.5.0",
          "model_name": "FloatProgressModel",
          "state": {
            "_dom_classes": [],
            "_model_module": "@jupyter-widgets/controls",
            "_model_module_version": "1.5.0",
            "_model_name": "FloatProgressModel",
            "_view_count": null,
            "_view_module": "@jupyter-widgets/controls",
            "_view_module_version": "1.5.0",
            "_view_name": "ProgressView",
            "bar_style": "success",
            "description": "",
            "description_tooltip": null,
            "layout": "IPY_MODEL_cf0684611476470e95183daae4b45679",
            "max": 1,
            "min": 0,
            "orientation": "horizontal",
            "style": "IPY_MODEL_f18f6886da404e26b42bba28537ecf6e",
            "value": 1
          }
        },
        "a1b4512d68f2491194baa680b802cc68": {
          "model_module": "@jupyter-widgets/controls",
          "model_module_version": "1.5.0",
          "model_name": "HBoxModel",
          "state": {
            "_dom_classes": [],
            "_model_module": "@jupyter-widgets/controls",
            "_model_module_version": "1.5.0",
            "_model_name": "HBoxModel",
            "_view_count": null,
            "_view_module": "@jupyter-widgets/controls",
            "_view_module_version": "1.5.0",
            "_view_name": "HBoxView",
            "box_style": "",
            "children": [
              "IPY_MODEL_47281fbb063b4df9adb35a7d5a419250",
              "IPY_MODEL_12f4a6bda1124330be8ac1c6229c8edf",
              "IPY_MODEL_f9d4324d1d304389a70edd61736c4fd5"
            ],
            "layout": "IPY_MODEL_7d01db996bee4d1bb8941bc835e05c56"
          }
        },
        "a1d8ce39dd224c38bbb74e34ddbcba28": {
          "model_module": "@jupyter-widgets/controls",
          "model_module_version": "1.5.0",
          "model_name": "DescriptionStyleModel",
          "state": {
            "_model_module": "@jupyter-widgets/controls",
            "_model_module_version": "1.5.0",
            "_model_name": "DescriptionStyleModel",
            "_view_count": null,
            "_view_module": "@jupyter-widgets/base",
            "_view_module_version": "1.2.0",
            "_view_name": "StyleView",
            "description_width": ""
          }
        },
        "a4498952de8c41c4aa69acdcce570413": {
          "model_module": "@jupyter-widgets/controls",
          "model_module_version": "1.5.0",
          "model_name": "HTMLModel",
          "state": {
            "_dom_classes": [],
            "_model_module": "@jupyter-widgets/controls",
            "_model_module_version": "1.5.0",
            "_model_name": "HTMLModel",
            "_view_count": null,
            "_view_module": "@jupyter-widgets/controls",
            "_view_module_version": "1.5.0",
            "_view_name": "HTMLView",
            "description": "",
            "description_tooltip": null,
            "layout": "IPY_MODEL_c67b13d2edda415ab6004e57b7e4c364",
            "placeholder": "​",
            "style": "IPY_MODEL_ede04973ebeb4e7a89f696a48dcd1295",
            "value": ""
          }
        },
        "aeee3b1cda714dc39efe6c7541f4b41c": {
          "model_module": "@jupyter-widgets/controls",
          "model_module_version": "1.5.0",
          "model_name": "ProgressStyleModel",
          "state": {
            "_model_module": "@jupyter-widgets/controls",
            "_model_module_version": "1.5.0",
            "_model_name": "ProgressStyleModel",
            "_view_count": null,
            "_view_module": "@jupyter-widgets/base",
            "_view_module_version": "1.2.0",
            "_view_name": "StyleView",
            "bar_color": null,
            "description_width": ""
          }
        },
        "b07233e7b3d2429a94634680260e9f6a": {
          "model_module": "@jupyter-widgets/controls",
          "model_module_version": "1.5.0",
          "model_name": "HTMLModel",
          "state": {
            "_dom_classes": [],
            "_model_module": "@jupyter-widgets/controls",
            "_model_module_version": "1.5.0",
            "_model_name": "HTMLModel",
            "_view_count": null,
            "_view_module": "@jupyter-widgets/controls",
            "_view_module_version": "1.5.0",
            "_view_name": "HTMLView",
            "description": "",
            "description_tooltip": null,
            "layout": "IPY_MODEL_545594bdb73342369a762194edeb26fc",
            "placeholder": "​",
            "style": "IPY_MODEL_1ed9758c1acb4e11af79b35b85d75f80",
            "value": ""
          }
        },
        "b78dd04ff2f947b0b5fce638b0d28c9a": {
          "model_module": "@jupyter-widgets/controls",
          "model_module_version": "1.5.0",
          "model_name": "FloatProgressModel",
          "state": {
            "_dom_classes": [],
            "_model_module": "@jupyter-widgets/controls",
            "_model_module_version": "1.5.0",
            "_model_name": "FloatProgressModel",
            "_view_count": null,
            "_view_module": "@jupyter-widgets/controls",
            "_view_module_version": "1.5.0",
            "_view_name": "ProgressView",
            "bar_style": "success",
            "description": "",
            "description_tooltip": null,
            "layout": "IPY_MODEL_0e8902a5f5554a3083bf3311f054befc",
            "max": 1,
            "min": 0,
            "orientation": "horizontal",
            "style": "IPY_MODEL_aeee3b1cda714dc39efe6c7541f4b41c",
            "value": 1
          }
        },
        "c17856e04a694e2fad0b5cbd9636b7b1": {
          "model_module": "@jupyter-widgets/controls",
          "model_module_version": "1.5.0",
          "model_name": "HTMLModel",
          "state": {
            "_dom_classes": [],
            "_model_module": "@jupyter-widgets/controls",
            "_model_module_version": "1.5.0",
            "_model_name": "HTMLModel",
            "_view_count": null,
            "_view_module": "@jupyter-widgets/controls",
            "_view_module_version": "1.5.0",
            "_view_name": "HTMLView",
            "description": "",
            "description_tooltip": null,
            "layout": "IPY_MODEL_83334b56d32c4639aae74192f2cea961",
            "placeholder": "​",
            "style": "IPY_MODEL_75f7ff37f7b14480a9b8804b27d7f57d",
            "value": " 7226/? [00:00&lt;00:00, 24212.16it/s]"
          }
        },
        "c29cb72211ad44c78c8640bd4ed64186": {
          "model_module": "@jupyter-widgets/base",
          "model_module_version": "1.2.0",
          "model_name": "LayoutModel",
          "state": {
            "_model_module": "@jupyter-widgets/base",
            "_model_module_version": "1.2.0",
            "_model_name": "LayoutModel",
            "_view_count": null,
            "_view_module": "@jupyter-widgets/base",
            "_view_module_version": "1.2.0",
            "_view_name": "LayoutView",
            "align_content": null,
            "align_items": null,
            "align_self": null,
            "border": null,
            "bottom": null,
            "display": null,
            "flex": null,
            "flex_flow": null,
            "grid_area": null,
            "grid_auto_columns": null,
            "grid_auto_flow": null,
            "grid_auto_rows": null,
            "grid_column": null,
            "grid_gap": null,
            "grid_row": null,
            "grid_template_areas": null,
            "grid_template_columns": null,
            "grid_template_rows": null,
            "height": null,
            "justify_content": null,
            "justify_items": null,
            "left": null,
            "margin": null,
            "max_height": null,
            "max_width": null,
            "min_height": null,
            "min_width": null,
            "object_fit": null,
            "object_position": null,
            "order": null,
            "overflow": null,
            "overflow_x": null,
            "overflow_y": null,
            "padding": null,
            "right": null,
            "top": null,
            "visibility": null,
            "width": null
          }
        },
        "c5fc732d0e8b4886bdf7bf5008b74a36": {
          "model_module": "@jupyter-widgets/base",
          "model_module_version": "1.2.0",
          "model_name": "LayoutModel",
          "state": {
            "_model_module": "@jupyter-widgets/base",
            "_model_module_version": "1.2.0",
            "_model_name": "LayoutModel",
            "_view_count": null,
            "_view_module": "@jupyter-widgets/base",
            "_view_module_version": "1.2.0",
            "_view_name": "LayoutView",
            "align_content": null,
            "align_items": null,
            "align_self": null,
            "border": null,
            "bottom": null,
            "display": null,
            "flex": null,
            "flex_flow": null,
            "grid_area": null,
            "grid_auto_columns": null,
            "grid_auto_flow": null,
            "grid_auto_rows": null,
            "grid_column": null,
            "grid_gap": null,
            "grid_row": null,
            "grid_template_areas": null,
            "grid_template_columns": null,
            "grid_template_rows": null,
            "height": null,
            "justify_content": null,
            "justify_items": null,
            "left": null,
            "margin": null,
            "max_height": null,
            "max_width": null,
            "min_height": null,
            "min_width": null,
            "object_fit": null,
            "object_position": null,
            "order": null,
            "overflow": null,
            "overflow_x": null,
            "overflow_y": null,
            "padding": null,
            "right": null,
            "top": null,
            "visibility": null,
            "width": null
          }
        },
        "c661c0184b9446988c8398ec5c58f2b1": {
          "model_module": "@jupyter-widgets/base",
          "model_module_version": "1.2.0",
          "model_name": "LayoutModel",
          "state": {
            "_model_module": "@jupyter-widgets/base",
            "_model_module_version": "1.2.0",
            "_model_name": "LayoutModel",
            "_view_count": null,
            "_view_module": "@jupyter-widgets/base",
            "_view_module_version": "1.2.0",
            "_view_name": "LayoutView",
            "align_content": null,
            "align_items": null,
            "align_self": null,
            "border": null,
            "bottom": null,
            "display": null,
            "flex": null,
            "flex_flow": null,
            "grid_area": null,
            "grid_auto_columns": null,
            "grid_auto_flow": null,
            "grid_auto_rows": null,
            "grid_column": null,
            "grid_gap": null,
            "grid_row": null,
            "grid_template_areas": null,
            "grid_template_columns": null,
            "grid_template_rows": null,
            "height": null,
            "justify_content": null,
            "justify_items": null,
            "left": null,
            "margin": null,
            "max_height": null,
            "max_width": null,
            "min_height": null,
            "min_width": null,
            "object_fit": null,
            "object_position": null,
            "order": null,
            "overflow": null,
            "overflow_x": null,
            "overflow_y": null,
            "padding": null,
            "right": null,
            "top": null,
            "visibility": null,
            "width": "20px"
          }
        },
        "c67b13d2edda415ab6004e57b7e4c364": {
          "model_module": "@jupyter-widgets/base",
          "model_module_version": "1.2.0",
          "model_name": "LayoutModel",
          "state": {
            "_model_module": "@jupyter-widgets/base",
            "_model_module_version": "1.2.0",
            "_model_name": "LayoutModel",
            "_view_count": null,
            "_view_module": "@jupyter-widgets/base",
            "_view_module_version": "1.2.0",
            "_view_name": "LayoutView",
            "align_content": null,
            "align_items": null,
            "align_self": null,
            "border": null,
            "bottom": null,
            "display": null,
            "flex": null,
            "flex_flow": null,
            "grid_area": null,
            "grid_auto_columns": null,
            "grid_auto_flow": null,
            "grid_auto_rows": null,
            "grid_column": null,
            "grid_gap": null,
            "grid_row": null,
            "grid_template_areas": null,
            "grid_template_columns": null,
            "grid_template_rows": null,
            "height": null,
            "justify_content": null,
            "justify_items": null,
            "left": null,
            "margin": null,
            "max_height": null,
            "max_width": null,
            "min_height": null,
            "min_width": null,
            "object_fit": null,
            "object_position": null,
            "order": null,
            "overflow": null,
            "overflow_x": null,
            "overflow_y": null,
            "padding": null,
            "right": null,
            "top": null,
            "visibility": null,
            "width": null
          }
        },
        "ca19d4ff615b4d73ac493430750e0430": {
          "model_module": "@jupyter-widgets/base",
          "model_module_version": "1.2.0",
          "model_name": "LayoutModel",
          "state": {
            "_model_module": "@jupyter-widgets/base",
            "_model_module_version": "1.2.0",
            "_model_name": "LayoutModel",
            "_view_count": null,
            "_view_module": "@jupyter-widgets/base",
            "_view_module_version": "1.2.0",
            "_view_name": "LayoutView",
            "align_content": null,
            "align_items": null,
            "align_self": null,
            "border": null,
            "bottom": null,
            "display": null,
            "flex": null,
            "flex_flow": null,
            "grid_area": null,
            "grid_auto_columns": null,
            "grid_auto_flow": null,
            "grid_auto_rows": null,
            "grid_column": null,
            "grid_gap": null,
            "grid_row": null,
            "grid_template_areas": null,
            "grid_template_columns": null,
            "grid_template_rows": null,
            "height": null,
            "justify_content": null,
            "justify_items": null,
            "left": null,
            "margin": null,
            "max_height": null,
            "max_width": null,
            "min_height": null,
            "min_width": null,
            "object_fit": null,
            "object_position": null,
            "order": null,
            "overflow": null,
            "overflow_x": null,
            "overflow_y": null,
            "padding": null,
            "right": null,
            "top": null,
            "visibility": null,
            "width": null
          }
        },
        "cf0684611476470e95183daae4b45679": {
          "model_module": "@jupyter-widgets/base",
          "model_module_version": "1.2.0",
          "model_name": "LayoutModel",
          "state": {
            "_model_module": "@jupyter-widgets/base",
            "_model_module_version": "1.2.0",
            "_model_name": "LayoutModel",
            "_view_count": null,
            "_view_module": "@jupyter-widgets/base",
            "_view_module_version": "1.2.0",
            "_view_name": "LayoutView",
            "align_content": null,
            "align_items": null,
            "align_self": null,
            "border": null,
            "bottom": null,
            "display": null,
            "flex": null,
            "flex_flow": null,
            "grid_area": null,
            "grid_auto_columns": null,
            "grid_auto_flow": null,
            "grid_auto_rows": null,
            "grid_column": null,
            "grid_gap": null,
            "grid_row": null,
            "grid_template_areas": null,
            "grid_template_columns": null,
            "grid_template_rows": null,
            "height": null,
            "justify_content": null,
            "justify_items": null,
            "left": null,
            "margin": null,
            "max_height": null,
            "max_width": null,
            "min_height": null,
            "min_width": null,
            "object_fit": null,
            "object_position": null,
            "order": null,
            "overflow": null,
            "overflow_x": null,
            "overflow_y": null,
            "padding": null,
            "right": null,
            "top": null,
            "visibility": null,
            "width": null
          }
        },
        "d08b6dd863db439cb321f55f1182b302": {
          "model_module": "@jupyter-widgets/controls",
          "model_module_version": "1.5.0",
          "model_name": "HBoxModel",
          "state": {
            "_dom_classes": [],
            "_model_module": "@jupyter-widgets/controls",
            "_model_module_version": "1.5.0",
            "_model_name": "HBoxModel",
            "_view_count": null,
            "_view_module": "@jupyter-widgets/controls",
            "_view_module_version": "1.5.0",
            "_view_name": "HBoxView",
            "box_style": "",
            "children": [
              "IPY_MODEL_fcf090f12fe04284b0a9bfcdc6911711",
              "IPY_MODEL_5bf76d5335184feb9a05660fd935d286",
              "IPY_MODEL_c17856e04a694e2fad0b5cbd9636b7b1"
            ],
            "layout": "IPY_MODEL_42e83e1845084bc4b9785437c85353ed"
          }
        },
        "d7603628ccbf4fcf8e2126026ed7e9c6": {
          "model_module": "@jupyter-widgets/base",
          "model_module_version": "1.2.0",
          "model_name": "LayoutModel",
          "state": {
            "_model_module": "@jupyter-widgets/base",
            "_model_module_version": "1.2.0",
            "_model_name": "LayoutModel",
            "_view_count": null,
            "_view_module": "@jupyter-widgets/base",
            "_view_module_version": "1.2.0",
            "_view_name": "LayoutView",
            "align_content": null,
            "align_items": null,
            "align_self": null,
            "border": null,
            "bottom": null,
            "display": null,
            "flex": null,
            "flex_flow": null,
            "grid_area": null,
            "grid_auto_columns": null,
            "grid_auto_flow": null,
            "grid_auto_rows": null,
            "grid_column": null,
            "grid_gap": null,
            "grid_row": null,
            "grid_template_areas": null,
            "grid_template_columns": null,
            "grid_template_rows": null,
            "height": null,
            "justify_content": null,
            "justify_items": null,
            "left": null,
            "margin": null,
            "max_height": null,
            "max_width": null,
            "min_height": null,
            "min_width": null,
            "object_fit": null,
            "object_position": null,
            "order": null,
            "overflow": null,
            "overflow_x": null,
            "overflow_y": null,
            "padding": null,
            "right": null,
            "top": null,
            "visibility": null,
            "width": null
          }
        },
        "df0c1bb97ff9444e8c82ca37f3167418": {
          "model_module": "@jupyter-widgets/controls",
          "model_module_version": "1.5.0",
          "model_name": "HTMLModel",
          "state": {
            "_dom_classes": [],
            "_model_module": "@jupyter-widgets/controls",
            "_model_module_version": "1.5.0",
            "_model_name": "HTMLModel",
            "_view_count": null,
            "_view_module": "@jupyter-widgets/controls",
            "_view_module_version": "1.5.0",
            "_view_name": "HTMLView",
            "description": "",
            "description_tooltip": null,
            "layout": "IPY_MODEL_5463ce6cf35d48198885b26cc6457c73",
            "placeholder": "​",
            "style": "IPY_MODEL_05c4316726b742a7a6c50e86c54cf17e",
            "value": ""
          }
        },
        "e78fa08f39a640bfaac85710d4776406": {
          "model_module": "@jupyter-widgets/base",
          "model_module_version": "1.2.0",
          "model_name": "LayoutModel",
          "state": {
            "_model_module": "@jupyter-widgets/base",
            "_model_module_version": "1.2.0",
            "_model_name": "LayoutModel",
            "_view_count": null,
            "_view_module": "@jupyter-widgets/base",
            "_view_module_version": "1.2.0",
            "_view_name": "LayoutView",
            "align_content": null,
            "align_items": null,
            "align_self": null,
            "border": null,
            "bottom": null,
            "display": null,
            "flex": null,
            "flex_flow": null,
            "grid_area": null,
            "grid_auto_columns": null,
            "grid_auto_flow": null,
            "grid_auto_rows": null,
            "grid_column": null,
            "grid_gap": null,
            "grid_row": null,
            "grid_template_areas": null,
            "grid_template_columns": null,
            "grid_template_rows": null,
            "height": null,
            "justify_content": null,
            "justify_items": null,
            "left": null,
            "margin": null,
            "max_height": null,
            "max_width": null,
            "min_height": null,
            "min_width": null,
            "object_fit": null,
            "object_position": null,
            "order": null,
            "overflow": null,
            "overflow_x": null,
            "overflow_y": null,
            "padding": null,
            "right": null,
            "top": null,
            "visibility": null,
            "width": null
          }
        },
        "ea418eefba6845008eb092e4fc87b37f": {
          "model_module": "@jupyter-widgets/base",
          "model_module_version": "1.2.0",
          "model_name": "LayoutModel",
          "state": {
            "_model_module": "@jupyter-widgets/base",
            "_model_module_version": "1.2.0",
            "_model_name": "LayoutModel",
            "_view_count": null,
            "_view_module": "@jupyter-widgets/base",
            "_view_module_version": "1.2.0",
            "_view_name": "LayoutView",
            "align_content": null,
            "align_items": null,
            "align_self": null,
            "border": null,
            "bottom": null,
            "display": null,
            "flex": null,
            "flex_flow": null,
            "grid_area": null,
            "grid_auto_columns": null,
            "grid_auto_flow": null,
            "grid_auto_rows": null,
            "grid_column": null,
            "grid_gap": null,
            "grid_row": null,
            "grid_template_areas": null,
            "grid_template_columns": null,
            "grid_template_rows": null,
            "height": null,
            "justify_content": null,
            "justify_items": null,
            "left": null,
            "margin": null,
            "max_height": null,
            "max_width": null,
            "min_height": null,
            "min_width": null,
            "object_fit": null,
            "object_position": null,
            "order": null,
            "overflow": null,
            "overflow_x": null,
            "overflow_y": null,
            "padding": null,
            "right": null,
            "top": null,
            "visibility": null,
            "width": null
          }
        },
        "eb79eb21b77147dca0aaf94e1405742f": {
          "model_module": "@jupyter-widgets/controls",
          "model_module_version": "1.5.0",
          "model_name": "DescriptionStyleModel",
          "state": {
            "_model_module": "@jupyter-widgets/controls",
            "_model_module_version": "1.5.0",
            "_model_name": "DescriptionStyleModel",
            "_view_count": null,
            "_view_module": "@jupyter-widgets/base",
            "_view_module_version": "1.2.0",
            "_view_name": "StyleView",
            "description_width": ""
          }
        },
        "ec425c81983a4108bac8b4edd46c2da7": {
          "model_module": "@jupyter-widgets/controls",
          "model_module_version": "1.5.0",
          "model_name": "ProgressStyleModel",
          "state": {
            "_model_module": "@jupyter-widgets/controls",
            "_model_module_version": "1.5.0",
            "_model_name": "ProgressStyleModel",
            "_view_count": null,
            "_view_module": "@jupyter-widgets/base",
            "_view_module_version": "1.2.0",
            "_view_name": "StyleView",
            "bar_color": null,
            "description_width": ""
          }
        },
        "ed9d14bf290641c0a121adb9fd3b9045": {
          "model_module": "@jupyter-widgets/controls",
          "model_module_version": "1.5.0",
          "model_name": "HTMLModel",
          "state": {
            "_dom_classes": [],
            "_model_module": "@jupyter-widgets/controls",
            "_model_module_version": "1.5.0",
            "_model_name": "HTMLModel",
            "_view_count": null,
            "_view_module": "@jupyter-widgets/controls",
            "_view_module_version": "1.5.0",
            "_view_name": "HTMLView",
            "description": "",
            "description_tooltip": null,
            "layout": "IPY_MODEL_20055a3e3bac4ff18f8e920c11d35b0d",
            "placeholder": "​",
            "style": "IPY_MODEL_24fdb498e88f49ed86b54b352ed49126",
            "value": " 2524/? [00:00&lt;00:00, 6065.01it/s]"
          }
        },
        "ede04973ebeb4e7a89f696a48dcd1295": {
          "model_module": "@jupyter-widgets/controls",
          "model_module_version": "1.5.0",
          "model_name": "DescriptionStyleModel",
          "state": {
            "_model_module": "@jupyter-widgets/controls",
            "_model_module_version": "1.5.0",
            "_model_name": "DescriptionStyleModel",
            "_view_count": null,
            "_view_module": "@jupyter-widgets/base",
            "_view_module_version": "1.2.0",
            "_view_name": "StyleView",
            "description_width": ""
          }
        },
        "f18f6886da404e26b42bba28537ecf6e": {
          "model_module": "@jupyter-widgets/controls",
          "model_module_version": "1.5.0",
          "model_name": "ProgressStyleModel",
          "state": {
            "_model_module": "@jupyter-widgets/controls",
            "_model_module_version": "1.5.0",
            "_model_name": "ProgressStyleModel",
            "_view_count": null,
            "_view_module": "@jupyter-widgets/base",
            "_view_module_version": "1.2.0",
            "_view_name": "StyleView",
            "bar_color": null,
            "description_width": ""
          }
        },
        "f81fd62fcf434398aa190bba9e37429e": {
          "model_module": "@jupyter-widgets/base",
          "model_module_version": "1.2.0",
          "model_name": "LayoutModel",
          "state": {
            "_model_module": "@jupyter-widgets/base",
            "_model_module_version": "1.2.0",
            "_model_name": "LayoutModel",
            "_view_count": null,
            "_view_module": "@jupyter-widgets/base",
            "_view_module_version": "1.2.0",
            "_view_name": "LayoutView",
            "align_content": null,
            "align_items": null,
            "align_self": null,
            "border": null,
            "bottom": null,
            "display": null,
            "flex": null,
            "flex_flow": null,
            "grid_area": null,
            "grid_auto_columns": null,
            "grid_auto_flow": null,
            "grid_auto_rows": null,
            "grid_column": null,
            "grid_gap": null,
            "grid_row": null,
            "grid_template_areas": null,
            "grid_template_columns": null,
            "grid_template_rows": null,
            "height": null,
            "justify_content": null,
            "justify_items": null,
            "left": null,
            "margin": null,
            "max_height": null,
            "max_width": null,
            "min_height": null,
            "min_width": null,
            "object_fit": null,
            "object_position": null,
            "order": null,
            "overflow": null,
            "overflow_x": null,
            "overflow_y": null,
            "padding": null,
            "right": null,
            "top": null,
            "visibility": null,
            "width": null
          }
        },
        "f9d4324d1d304389a70edd61736c4fd5": {
          "model_module": "@jupyter-widgets/controls",
          "model_module_version": "1.5.0",
          "model_name": "HTMLModel",
          "state": {
            "_dom_classes": [],
            "_model_module": "@jupyter-widgets/controls",
            "_model_module_version": "1.5.0",
            "_model_name": "HTMLModel",
            "_view_count": null,
            "_view_module": "@jupyter-widgets/controls",
            "_view_module_version": "1.5.0",
            "_view_name": "HTMLView",
            "description": "",
            "description_tooltip": null,
            "layout": "IPY_MODEL_3a56a456595544c18b5bb0a1c7af27d8",
            "placeholder": "​",
            "style": "IPY_MODEL_010df2c3c8eb4a18be0c4d3bf679ffa3",
            "value": " 315/? [00:00&lt;00:00, 2642.71it/s]"
          }
        },
        "fa46e77b446f4220b3f3bccb0e7bb9f1": {
          "model_module": "@jupyter-widgets/controls",
          "model_module_version": "1.5.0",
          "model_name": "ProgressStyleModel",
          "state": {
            "_model_module": "@jupyter-widgets/controls",
            "_model_module_version": "1.5.0",
            "_model_name": "ProgressStyleModel",
            "_view_count": null,
            "_view_module": "@jupyter-widgets/base",
            "_view_module_version": "1.2.0",
            "_view_name": "StyleView",
            "bar_color": null,
            "description_width": ""
          }
        },
        "fcf090f12fe04284b0a9bfcdc6911711": {
          "model_module": "@jupyter-widgets/controls",
          "model_module_version": "1.5.0",
          "model_name": "HTMLModel",
          "state": {
            "_dom_classes": [],
            "_model_module": "@jupyter-widgets/controls",
            "_model_module_version": "1.5.0",
            "_model_name": "HTMLModel",
            "_view_count": null,
            "_view_module": "@jupyter-widgets/controls",
            "_view_module_version": "1.5.0",
            "_view_name": "HTMLView",
            "description": "",
            "description_tooltip": null,
            "layout": "IPY_MODEL_c5fc732d0e8b4886bdf7bf5008b74a36",
            "placeholder": "​",
            "style": "IPY_MODEL_3128c4d819ea4ac394d004726c80f23b",
            "value": ""
          }
        }
      }
    }
  },
  "nbformat": 4,
  "nbformat_minor": 0
}
