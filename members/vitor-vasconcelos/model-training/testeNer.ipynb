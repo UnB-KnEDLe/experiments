{
 "cells": [
  {
   "cell_type": "code",
   "execution_count": 6,
   "metadata": {},
   "outputs": [],
   "source": [
    "import pandas as pd\n",
    "import sklearn_crfsuite\n",
    "from sklearn_crfsuite import metrics\n",
    "import joblib\n",
    "import math\n",
    "\n",
    "import dodfSkweak\n",
    "import re\n",
    "import docx\n",
    "\n",
    "import string  "
   ]
  },
  {
   "cell_type": "code",
   "execution_count": 7,
   "metadata": {},
   "outputs": [
    {
     "data": {
      "text/plain": [
       "208"
      ]
     },
     "execution_count": 7,
     "metadata": {},
     "output_type": "execute_result"
    }
   ],
   "source": [
    "# Funcao parar extrair contratos do .docx\n",
    "def getText(filename):\n",
    "    doc = docx.Document(filename)\n",
    "    fullText = []\n",
    "    for para in doc.paragraphs:\n",
    "        fullText.append(para.text)\n",
    "    return fullText\n",
    "\n",
    "# Funcao parar extrair contratos do .txt\n",
    "def resgate():\n",
    "    pdf = open('contratos.txt', 'r')\n",
    "    leitura = pdf.read().replace(\"\\n\", \"\")\n",
    "    regex_ = re.compile(r\"(EXTRATO\\sD[O|E]\\sCONTRATO[.|\\s|\\S]*?<>END OF BLOCK<>)\")\n",
    "    return(regex_.findall(leitura))\n",
    "\n",
    "texto = getText('dodf43-62.docx')\n",
    "dados = resgate()\n",
    "\n",
    "for txt in texto:\n",
    "    dados.append(txt)\n",
    "\n",
    "len(dados)"
   ]
  },
  {
   "cell_type": "code",
   "execution_count": 8,
   "metadata": {},
   "outputs": [
    {
     "name": "stdout",
     "output_type": "stream",
     "text": [
      "Starting iteration 1\n",
      "Finished E-step with 208 documents\n",
      "Starting iteration 2\n"
     ]
    },
    {
     "name": "stderr",
     "output_type": "stream",
     "text": [
      "         1      -44899.9941             +nan\n"
     ]
    },
    {
     "name": "stdout",
     "output_type": "stream",
     "text": [
      "Finished E-step with 208 documents\n",
      "Starting iteration 3\n"
     ]
    },
    {
     "name": "stderr",
     "output_type": "stream",
     "text": [
      "         2      -25057.4408      +19842.5534\n"
     ]
    },
    {
     "name": "stdout",
     "output_type": "stream",
     "text": [
      "Finished E-step with 208 documents\n",
      "Starting iteration 4\n"
     ]
    },
    {
     "name": "stderr",
     "output_type": "stream",
     "text": [
      "         3      -24949.8705        +107.5702\n"
     ]
    },
    {
     "name": "stdout",
     "output_type": "stream",
     "text": [
      "Finished E-step with 208 documents\n",
      "Starting iteration 5\n"
     ]
    },
    {
     "name": "stderr",
     "output_type": "stream",
     "text": [
      "         4      -24945.8366          +4.0339\n"
     ]
    },
    {
     "name": "stdout",
     "output_type": "stream",
     "text": [
      "Finished E-step with 208 documents\n"
     ]
    },
    {
     "name": "stderr",
     "output_type": "stream",
     "text": [
      "         5      -24943.9195          +1.9171\n"
     ]
    },
    {
     "name": "stdout",
     "output_type": "stream",
     "text": [
      "Write to ./data/reuters_small.spacy...done\n"
     ]
    }
   ],
   "source": [
    "skw = dodfSkweak.SkweakContratos(dados)\n",
    "\n",
    "skw.apply_label_functions()\n",
    "skw.train_HMM_Dodf()\n",
    "\n",
    "df = skw.get_hmm_dataframe()\n",
    "iob = skw.get_IOB()"
   ]
  },
  {
   "cell_type": "code",
   "execution_count": 9,
   "metadata": {},
   "outputs": [
    {
     "data": {
      "text/plain": [
       "'O O O B-CONTRATO I-CONTRATO O O O O O O O O O O O O B-PROCESSO I-PROCESSO I-PROCESSO O O B-PARTES I-PARTES I-PARTES I-PARTES I-PARTES I-PARTES I-PARTES I-PARTES I-PARTES I-PARTES I-PARTES O O O O B-PROCED. I-PROCED. I-PROCED. I-PROCED. I-PROCED. I-PROCED. I-PROCED. I-PROCED. I-PROCED. I-PROCED. I-PROCED. I-PROCED. I-PROCED. I-PROCED. I-PROCED. I-PROCED. I-PROCED. I-PROCED. I-PROCED. I-PROCED. I-PROCED. I-PROCED. I-PROCED. I-PROCED. I-PROCED. I-PROCED. I-PROCED. I-PROCED. I-PROCED. I-PROCED. I-PROCED. I-PROCED. I-PROCED. I-PROCED. O O O O O O O O O O O O O O O O O O O O B-OBJETO I-OBJETO I-OBJETO I-OBJETO I-OBJETO I-OBJETO I-OBJETO I-OBJETO I-OBJETO I-OBJETO I-OBJETO I-OBJETO I-OBJETO I-OBJETO I-OBJETO I-OBJETO I-OBJETO I-OBJETO I-OBJETO I-OBJETO I-OBJETO I-OBJETO I-OBJETO I-OBJETO I-OBJETO I-OBJETO I-OBJETO I-OBJETO I-OBJETO I-OBJETO I-OBJETO I-OBJETO I-OBJETO I-OBJETO I-OBJETO I-OBJETO I-OBJETO I-OBJETO I-OBJETO I-OBJETO I-OBJETO I-OBJETO I-OBJETO I-OBJETO I-OBJETO I-OBJETO I-OBJETO I-OBJETO I-OBJETO I-OBJETO I-OBJETO I-OBJETO I-OBJETO I-OBJETO I-OBJETO I-OBJETO I-OBJETO I-OBJETO I-OBJETO I-OBJETO I-OBJETO I-OBJETO I-OBJETO I-OBJETO I-OBJETO I-OBJETO I-OBJETO I-OBJETO I-OBJETO I-OBJETO I-OBJETO I-OBJETO I-OBJETO I-OBJETO I-OBJETO I-OBJETO I-OBJETO I-OBJETO I-OBJETO I-OBJETO I-OBJETO I-OBJETO I-OBJETO I-OBJETO I-OBJETO I-OBJETO I-OBJETO I-OBJETO I-OBJETO I-OBJETO I-OBJETO I-OBJETO I-OBJETO I-OBJETO I-OBJETO I-OBJETO I-OBJETO I-OBJETO I-OBJETO I-OBJETO I-OBJETO I-OBJETO I-OBJETO I-OBJETO I-OBJETO I-OBJETO I-OBJETO I-OBJETO I-OBJETO I-OBJETO I-OBJETO I-OBJETO I-OBJETO I-OBJETO I-OBJETO I-OBJETO I-OBJETO I-OBJETO I-OBJETO I-OBJETO I-OBJETO I-OBJETO I-OBJETO I-OBJETO I-OBJETO I-OBJETO I-OBJETO I-OBJETO I-OBJETO I-OBJETO I-OBJETO I-OBJETO I-OBJETO O O O O O O O O O O O O O O O O O O O O O O O O O O O O O O O B-VALOR I-VALOR O O O O O O O O O O O O O O O O O O O O O O O O O O B-UNI_ORC. O O O O O B-PROG_TRAB. O O O O O B-NAT_DESP. O O O O O O O O O O O O O O O O O O O O O O O O O O O O O O O B-NOTA_EMP. I-NOTA_EMP. O O O O O O O O O O O O O O O O O O O O O O O O O O O O O B-VIGENCIA I-VIGENCIA I-VIGENCIA I-VIGENCIA I-VIGENCIA I-VIGENCIA I-VIGENCIA I-VIGENCIA I-VIGENCIA I-VIGENCIA I-VIGENCIA I-VIGENCIA I-VIGENCIA I-VIGENCIA I-VIGENCIA I-VIGENCIA I-VIGENCIA I-VIGENCIA I-VIGENCIA I-VIGENCIA O O O O O O O O O O O O O O O O O O O O O O O O O O O O O O O O O O O O O O O O O O O O O O O O O O O O O O O O O O O O O O O O O O O O O O O O O O O O O O O O O O O O O O O O O O O O O O O O O O O O O O O O O O O O O O O O O O O O O O O O O O O O O O O O O O O O B-DATA_ASS. I-DATA_ASS. I-DATA_ASS. I-DATA_ASS. I-DATA_ASS. O O O B-SIGNATARIOS I-SIGNATARIOS I-SIGNATARIOS I-SIGNATARIOS I-SIGNATARIOS I-SIGNATARIOS I-SIGNATARIOS I-SIGNATARIOS I-SIGNATARIOS I-SIGNATARIOS I-SIGNATARIOS I-SIGNATARIOS I-SIGNATARIOS I-SIGNATARIOS I-SIGNATARIOS I-SIGNATARIOS I-SIGNATARIOS I-SIGNATARIOS O O O O O O O O O O O O O O '"
      ]
     },
     "execution_count": 9,
     "metadata": {},
     "output_type": "execute_result"
    }
   ],
   "source": [
    "df[\"labels\"][108]"
   ]
  },
  {
   "cell_type": "code",
   "execution_count": 10,
   "metadata": {},
   "outputs": [
    {
     "data": {
      "text/html": [
       "<div>\n",
       "<style scoped>\n",
       "    .dataframe tbody tr th:only-of-type {\n",
       "        vertical-align: middle;\n",
       "    }\n",
       "\n",
       "    .dataframe tbody tr th {\n",
       "        vertical-align: top;\n",
       "    }\n",
       "\n",
       "    .dataframe thead th {\n",
       "        text-align: right;\n",
       "    }\n",
       "</style>\n",
       "<table border=\"1\" class=\"dataframe\">\n",
       "  <thead>\n",
       "    <tr style=\"text-align: right;\">\n",
       "      <th></th>\n",
       "      <th>CONTRATO</th>\n",
       "      <th>PROCESSO</th>\n",
       "      <th>PARTES</th>\n",
       "      <th>OBJETO</th>\n",
       "      <th>VALOR</th>\n",
       "      <th>LEI_ORC.</th>\n",
       "      <th>DOT_ORC.</th>\n",
       "      <th>UNI_ORC.</th>\n",
       "      <th>PROG_TRAB.</th>\n",
       "      <th>NAT_DESP.</th>\n",
       "      <th>DATA_ASS.</th>\n",
       "      <th>SIGNATARIOS</th>\n",
       "      <th>VIGENCIA</th>\n",
       "      <th>NOTA_EMP.</th>\n",
       "      <th>NUM_AJUSTE.</th>\n",
       "      <th>PROCED.</th>\n",
       "      <th>labels</th>\n",
       "      <th>text</th>\n",
       "    </tr>\n",
       "  </thead>\n",
       "  <tbody>\n",
       "    <tr>\n",
       "      <th>0</th>\n",
       "      <td>No 29/2013</td>\n",
       "      <td>139.000.604/2013.</td>\n",
       "      <td>DF/RAXI x SUMMIT CONSTRUCOES E TECNOLOGIA LTDA...</td>\n",
       "      <td>Contratacao de Empresa para Execucao de Reform...</td>\n",
       "      <td>R$ 145.832,25</td>\n",
       "      <td></td>\n",
       "      <td></td>\n",
       "      <td>09113</td>\n",
       "      <td></td>\n",
       "      <td>449051</td>\n",
       "      <td>31 de outubro de 2013</td>\n",
       "      <td>Pelo DF, Antonio Sabino de Vasconcelos Neto, e...</td>\n",
       "      <td>O presente Termo Aditivo entrara em vigor a pa...</td>\n",
       "      <td>2013NE00430</td>\n",
       "      <td></td>\n",
       "      <td></td>\n",
       "      <td>O O O B-CONTRATO I-CONTRATO O O O O O O O O B-...</td>\n",
       "      <td>EXTRATO DO CONTRATO No 29/2013 , NOS TERMOS DO...</td>\n",
       "    </tr>\n",
       "    <tr>\n",
       "      <th>1</th>\n",
       "      <td>No 29/2013,NOS</td>\n",
       "      <td>139.000.604/2013</td>\n",
       "      <td></td>\n",
       "      <td></td>\n",
       "      <td>R$ 145.832,25</td>\n",
       "      <td></td>\n",
       "      <td></td>\n",
       "      <td></td>\n",
       "      <td></td>\n",
       "      <td></td>\n",
       "      <td></td>\n",
       "      <td></td>\n",
       "      <td></td>\n",
       "      <td>no 2013NE00430</td>\n",
       "      <td></td>\n",
       "      <td></td>\n",
       "      <td>O O O B-CONTRATO I-CONTRATO O O O O O O B-PROC...</td>\n",
       "      <td>EXTRATO DO CONTRATO No 29/2013,NOS TERMOS DO P...</td>\n",
       "    </tr>\n",
       "    <tr>\n",
       "      <th>2</th>\n",
       "      <td>No 57/2013</td>\n",
       "      <td>145.000.741/2013</td>\n",
       "      <td>DF/RA-XV X CONSTRUTEQ CONST</td>\n",
       "      <td>Execucao de quadra sintetica na quadra 310 em ...</td>\n",
       "      <td>R$ 146.918,56</td>\n",
       "      <td></td>\n",
       "      <td></td>\n",
       "      <td>09117</td>\n",
       "      <td>15.451.6208.1110.9829</td>\n",
       "      <td>44.90.51</td>\n",
       "      <td>24/10/2013</td>\n",
       "      <td>Pelo DF, Sebastiao Stenio Pinho e pela Contrat...</td>\n",
       "      <td>A partir da data de sua assinatura ate 30/12/2013</td>\n",
       "      <td>2013NE00311</td>\n",
       "      <td></td>\n",
       "      <td></td>\n",
       "      <td>O O O B-CONTRATO I-CONTRATO O O O O O O O B-PR...</td>\n",
       "      <td>EXTRATO DO CONTRATO No 57/2013 , NOS TERMOS DO...</td>\n",
       "    </tr>\n",
       "    <tr>\n",
       "      <th>3</th>\n",
       "      <td>No 58/2013</td>\n",
       "      <td>145.000.742/2013</td>\n",
       "      <td>DF/RA-XV X SETE SERVICOS DE TERRAPLENAGEM LTDA</td>\n",
       "      <td>Execucao de arquibancada no campo de futebol d...</td>\n",
       "      <td>R$ 146.630,97</td>\n",
       "      <td></td>\n",
       "      <td></td>\n",
       "      <td>09117</td>\n",
       "      <td>15.451.6208.1110.9830</td>\n",
       "      <td>44.90.51</td>\n",
       "      <td>24/10/2013</td>\n",
       "      <td>Pelo DF, Sebastiao Stenio Pinho e pela Contrat...</td>\n",
       "      <td></td>\n",
       "      <td>2013NE00312</td>\n",
       "      <td></td>\n",
       "      <td></td>\n",
       "      <td>O O O B-CONTRATO I-CONTRATO O O O O O O O B-PR...</td>\n",
       "      <td>EXTRATO DO CONTRATO No 58/2013 , NOS TERMOS DO...</td>\n",
       "    </tr>\n",
       "    <tr>\n",
       "      <th>4</th>\n",
       "      <td>No 59/2013</td>\n",
       "      <td>145.000.674/2013</td>\n",
       "      <td>DF/RA-XV X HERALDO PEREIRA EIRELI ME</td>\n",
       "      <td>Colocacao de placas de enderecamento na Avenid...</td>\n",
       "      <td>R$ 148.971,44</td>\n",
       "      <td></td>\n",
       "      <td></td>\n",
       "      <td>09117</td>\n",
       "      <td>15.451.6208.1110.5557</td>\n",
       "      <td>44.90.51</td>\n",
       "      <td>29/10/2013</td>\n",
       "      <td>Pelo DF, Sebastiao Stenio Pinho e pela Contrat...</td>\n",
       "      <td>A partir da data de sua assinatura ate 30/12/2013</td>\n",
       "      <td>2013NE00313</td>\n",
       "      <td></td>\n",
       "      <td></td>\n",
       "      <td>O O O B-CONTRATO I-CONTRATO O O O O O O O B-PR...</td>\n",
       "      <td>EXTRATO DO CONTRATO No 59/2013 , NOS TERMOS DO...</td>\n",
       "    </tr>\n",
       "    <tr>\n",
       "      <th>...</th>\n",
       "      <td>...</td>\n",
       "      <td>...</td>\n",
       "      <td>...</td>\n",
       "      <td>...</td>\n",
       "      <td>...</td>\n",
       "      <td>...</td>\n",
       "      <td>...</td>\n",
       "      <td>...</td>\n",
       "      <td>...</td>\n",
       "      <td>...</td>\n",
       "      <td>...</td>\n",
       "      <td>...</td>\n",
       "      <td>...</td>\n",
       "      <td>...</td>\n",
       "      <td>...</td>\n",
       "      <td>...</td>\n",
       "      <td>...</td>\n",
       "      <td>...</td>\n",
       "    </tr>\n",
       "    <tr>\n",
       "      <th>203</th>\n",
       "      <td></td>\n",
       "      <td>00054-00039134/2020-83</td>\n",
       "      <td></td>\n",
       "      <td>PRESTAÇÃO DE SERVIÇOS CONTINUADOS DE LIMPEZA D...</td>\n",
       "      <td>R$ 3.531.413,90</td>\n",
       "      <td></td>\n",
       "      <td></td>\n",
       "      <td>73901</td>\n",
       "      <td>28845090300FM0053</td>\n",
       "      <td>3.3.90.39.78</td>\n",
       "      <td>23FEV2021</td>\n",
       "      <td>ALEXANDRE HENRIQUE GARCIA VIANNA - CEL QOPM, C...</td>\n",
       "      <td>O Contrato terá vigência de 12 (doze) meses a ...</td>\n",
       "      <td>inicial de R$ 2.854.568,90</td>\n",
       "      <td></td>\n",
       "      <td></td>\n",
       "      <td>O O O O O O O O O O O O B-PROCESSO I-PROCESSO ...</td>\n",
       "      <td>EXTRATO DO CONTRATO DE PRESTAÇÃO DE SERVIÇOS N...</td>\n",
       "    </tr>\n",
       "    <tr>\n",
       "      <th>204</th>\n",
       "      <td>Nº 01/2021</td>\n",
       "      <td>00054-00095043/2021-91</td>\n",
       "      <td></td>\n",
       "      <td>AQUISIÇÃO DE 56 (CINQUENTA E SEIS) PLACAS DE I...</td>\n",
       "      <td>R$ 1.987,60</td>\n",
       "      <td></td>\n",
       "      <td></td>\n",
       "      <td>73901</td>\n",
       "      <td>28845090300FM0053</td>\n",
       "      <td>3.3.90.39.44</td>\n",
       "      <td>22FEV2021</td>\n",
       "      <td>ALEXANDRE HENRIQUE GARCIA VIANNA - CEL QOPM, C...</td>\n",
       "      <td>O presente Contrato tem 12 (doze) meses de vig...</td>\n",
       "      <td>n° 2021NE000771</td>\n",
       "      <td></td>\n",
       "      <td></td>\n",
       "      <td>O O O B-CONTRATO I-CONTRATO O O O O O O O O O ...</td>\n",
       "      <td>EXTRATO DO CONTRATO Nº 01/2021 , NOS TERMOS DO...</td>\n",
       "    </tr>\n",
       "    <tr>\n",
       "      <th>205</th>\n",
       "      <td>Nº 02/2021</td>\n",
       "      <td>00055-00063765/2020-95.</td>\n",
       "      <td>DETRAN-DF e a empresa ALLTECH - SOLUCOES EM TE...</td>\n",
       "      <td>Aquisição de solução de antivírus para proteçã...</td>\n",
       "      <td>R$ 766.390,00</td>\n",
       "      <td></td>\n",
       "      <td></td>\n",
       "      <td></td>\n",
       "      <td>06126621725572564</td>\n",
       "      <td>449039</td>\n",
       "      <td>01/02/2021</td>\n",
       "      <td></td>\n",
       "      <td></td>\n",
       "      <td>nº 2021NE00157</td>\n",
       "      <td></td>\n",
       "      <td></td>\n",
       "      <td>O O O O O O O B-CONTRATO I-CONTRATO O O B-PART...</td>\n",
       "      <td>EXTRATO DO CONTRATO DE PRESTAÇÃO DE SERVIÇOS N...</td>\n",
       "    </tr>\n",
       "    <tr>\n",
       "      <th>206</th>\n",
       "      <td>Nº 04/2021</td>\n",
       "      <td>00055-00060018/2019-61.</td>\n",
       "      <td>DETRAN-DF e a empresa TERRA UTIL -COMERCIO DE ...</td>\n",
       "      <td>Aquisição de duas enceradeiras industriais com</td>\n",
       "      <td>R$ 3.720,00</td>\n",
       "      <td></td>\n",
       "      <td></td>\n",
       "      <td></td>\n",
       "      <td>06181621724699520</td>\n",
       "      <td>449052</td>\n",
       "      <td>10/02/2021</td>\n",
       "      <td></td>\n",
       "      <td></td>\n",
       "      <td>nº 2021NE00042</td>\n",
       "      <td></td>\n",
       "      <td></td>\n",
       "      <td>O O O O O B-CONTRATO I-CONTRATO O O B-PARTES I...</td>\n",
       "      <td>EXTRATO DO CONTRATO DE AQUISIÇÃO Nº 04/2021 Pa...</td>\n",
       "    </tr>\n",
       "    <tr>\n",
       "      <th>207</th>\n",
       "      <td>Nº 003/2021</td>\n",
       "      <td>00401-00000917/2021-33.</td>\n",
       "      <td>DEFENSORIA PÚBLICA DO DISTRITO FEDERAL X HBL C...</td>\n",
       "      <td>Aquisição de carimbos. Fundamento Legal: Pregã...</td>\n",
       "      <td>R$ 6.870,00</td>\n",
       "      <td></td>\n",
       "      <td></td>\n",
       "      <td>48101</td>\n",
       "      <td>03.122.8211.8517.0138.</td>\n",
       "      <td>33.90.39.16</td>\n",
       "      <td>03/03/2021</td>\n",
       "      <td></td>\n",
       "      <td></td>\n",
       "      <td></td>\n",
       "      <td></td>\n",
       "      <td></td>\n",
       "      <td>O O O B-CONTRATO I-CONTRATO O O B-PROCESSO I-P...</td>\n",
       "      <td>EXTRATO DO CONTRATO Nº 003/2021 Processo : 004...</td>\n",
       "    </tr>\n",
       "  </tbody>\n",
       "</table>\n",
       "<p>208 rows × 18 columns</p>\n",
       "</div>"
      ],
      "text/plain": [
       "           CONTRATO                 PROCESSO  \\\n",
       "0        No 29/2013        139.000.604/2013.   \n",
       "1    No 29/2013,NOS         139.000.604/2013   \n",
       "2        No 57/2013         145.000.741/2013   \n",
       "3        No 58/2013         145.000.742/2013   \n",
       "4        No 59/2013         145.000.674/2013   \n",
       "..              ...                      ...   \n",
       "203                   00054-00039134/2020-83   \n",
       "204      Nº 01/2021   00054-00095043/2021-91   \n",
       "205      Nº 02/2021  00055-00063765/2020-95.   \n",
       "206      Nº 04/2021  00055-00060018/2019-61.   \n",
       "207     Nº 003/2021  00401-00000917/2021-33.   \n",
       "\n",
       "                                                PARTES  \\\n",
       "0    DF/RAXI x SUMMIT CONSTRUCOES E TECNOLOGIA LTDA...   \n",
       "1                                                        \n",
       "2                          DF/RA-XV X CONSTRUTEQ CONST   \n",
       "3       DF/RA-XV X SETE SERVICOS DE TERRAPLENAGEM LTDA   \n",
       "4                 DF/RA-XV X HERALDO PEREIRA EIRELI ME   \n",
       "..                                                 ...   \n",
       "203                                                      \n",
       "204                                                      \n",
       "205  DETRAN-DF e a empresa ALLTECH - SOLUCOES EM TE...   \n",
       "206  DETRAN-DF e a empresa TERRA UTIL -COMERCIO DE ...   \n",
       "207  DEFENSORIA PÚBLICA DO DISTRITO FEDERAL X HBL C...   \n",
       "\n",
       "                                                OBJETO            VALOR  \\\n",
       "0    Contratacao de Empresa para Execucao de Reform...    R$ 145.832,25   \n",
       "1                                                         R$ 145.832,25   \n",
       "2    Execucao de quadra sintetica na quadra 310 em ...    R$ 146.918,56   \n",
       "3    Execucao de arquibancada no campo de futebol d...    R$ 146.630,97   \n",
       "4    Colocacao de placas de enderecamento na Avenid...    R$ 148.971,44   \n",
       "..                                                 ...              ...   \n",
       "203  PRESTAÇÃO DE SERVIÇOS CONTINUADOS DE LIMPEZA D...  R$ 3.531.413,90   \n",
       "204  AQUISIÇÃO DE 56 (CINQUENTA E SEIS) PLACAS DE I...      R$ 1.987,60   \n",
       "205  Aquisição de solução de antivírus para proteçã...    R$ 766.390,00   \n",
       "206     Aquisição de duas enceradeiras industriais com      R$ 3.720,00   \n",
       "207  Aquisição de carimbos. Fundamento Legal: Pregã...      R$ 6.870,00   \n",
       "\n",
       "    LEI_ORC. DOT_ORC. UNI_ORC.              PROG_TRAB.     NAT_DESP.  \\\n",
       "0                        09113                                449051   \n",
       "1                                                                      \n",
       "2                        09117   15.451.6208.1110.9829      44.90.51   \n",
       "3                        09117   15.451.6208.1110.9830      44.90.51   \n",
       "4                        09117   15.451.6208.1110.5557      44.90.51   \n",
       "..       ...      ...      ...                     ...           ...   \n",
       "203                      73901       28845090300FM0053  3.3.90.39.78   \n",
       "204                      73901       28845090300FM0053  3.3.90.39.44   \n",
       "205                                  06126621725572564        449039   \n",
       "206                                  06181621724699520        449052   \n",
       "207                      48101  03.122.8211.8517.0138.   33.90.39.16   \n",
       "\n",
       "                 DATA_ASS.                                        SIGNATARIOS  \\\n",
       "0    31 de outubro de 2013  Pelo DF, Antonio Sabino de Vasconcelos Neto, e...   \n",
       "1                                                                               \n",
       "2               24/10/2013  Pelo DF, Sebastiao Stenio Pinho e pela Contrat...   \n",
       "3               24/10/2013  Pelo DF, Sebastiao Stenio Pinho e pela Contrat...   \n",
       "4               29/10/2013  Pelo DF, Sebastiao Stenio Pinho e pela Contrat...   \n",
       "..                     ...                                                ...   \n",
       "203              23FEV2021  ALEXANDRE HENRIQUE GARCIA VIANNA - CEL QOPM, C...   \n",
       "204              22FEV2021  ALEXANDRE HENRIQUE GARCIA VIANNA - CEL QOPM, C...   \n",
       "205             01/02/2021                                                      \n",
       "206             10/02/2021                                                      \n",
       "207             03/03/2021                                                      \n",
       "\n",
       "                                              VIGENCIA  \\\n",
       "0    O presente Termo Aditivo entrara em vigor a pa...   \n",
       "1                                                        \n",
       "2    A partir da data de sua assinatura ate 30/12/2013   \n",
       "3                                                        \n",
       "4    A partir da data de sua assinatura ate 30/12/2013   \n",
       "..                                                 ...   \n",
       "203  O Contrato terá vigência de 12 (doze) meses a ...   \n",
       "204  O presente Contrato tem 12 (doze) meses de vig...   \n",
       "205                                                      \n",
       "206                                                      \n",
       "207                                                      \n",
       "\n",
       "                      NOTA_EMP. NUM_AJUSTE. PROCED.  \\\n",
       "0                   2013NE00430                       \n",
       "1                no 2013NE00430                       \n",
       "2                   2013NE00311                       \n",
       "3                   2013NE00312                       \n",
       "4                   2013NE00313                       \n",
       "..                          ...         ...     ...   \n",
       "203  inicial de R$ 2.854.568,90                       \n",
       "204             n° 2021NE000771                       \n",
       "205              nº 2021NE00157                       \n",
       "206              nº 2021NE00042                       \n",
       "207                                                   \n",
       "\n",
       "                                                labels  \\\n",
       "0    O O O B-CONTRATO I-CONTRATO O O O O O O O O B-...   \n",
       "1    O O O B-CONTRATO I-CONTRATO O O O O O O B-PROC...   \n",
       "2    O O O B-CONTRATO I-CONTRATO O O O O O O O B-PR...   \n",
       "3    O O O B-CONTRATO I-CONTRATO O O O O O O O B-PR...   \n",
       "4    O O O B-CONTRATO I-CONTRATO O O O O O O O B-PR...   \n",
       "..                                                 ...   \n",
       "203  O O O O O O O O O O O O B-PROCESSO I-PROCESSO ...   \n",
       "204  O O O B-CONTRATO I-CONTRATO O O O O O O O O O ...   \n",
       "205  O O O O O O O B-CONTRATO I-CONTRATO O O B-PART...   \n",
       "206  O O O O O B-CONTRATO I-CONTRATO O O B-PARTES I...   \n",
       "207  O O O B-CONTRATO I-CONTRATO O O B-PROCESSO I-P...   \n",
       "\n",
       "                                                  text  \n",
       "0    EXTRATO DO CONTRATO No 29/2013 , NOS TERMOS DO...  \n",
       "1    EXTRATO DO CONTRATO No 29/2013,NOS TERMOS DO P...  \n",
       "2    EXTRATO DO CONTRATO No 57/2013 , NOS TERMOS DO...  \n",
       "3    EXTRATO DO CONTRATO No 58/2013 , NOS TERMOS DO...  \n",
       "4    EXTRATO DO CONTRATO No 59/2013 , NOS TERMOS DO...  \n",
       "..                                                 ...  \n",
       "203  EXTRATO DO CONTRATO DE PRESTAÇÃO DE SERVIÇOS N...  \n",
       "204  EXTRATO DO CONTRATO Nº 01/2021 , NOS TERMOS DO...  \n",
       "205  EXTRATO DO CONTRATO DE PRESTAÇÃO DE SERVIÇOS N...  \n",
       "206  EXTRATO DO CONTRATO DE AQUISIÇÃO Nº 04/2021 Pa...  \n",
       "207  EXTRATO DO CONTRATO Nº 003/2021 Processo : 004...  \n",
       "\n",
       "[208 rows x 18 columns]"
      ]
     },
     "execution_count": 10,
     "metadata": {},
     "output_type": "execute_result"
    }
   ],
   "source": [
    "df"
   ]
  },
  {
   "cell_type": "code",
   "execution_count": 11,
   "metadata": {},
   "outputs": [
    {
     "data": {
      "text/plain": [
       "(208, 145, 145, 63, 63)"
      ]
     },
     "execution_count": 11,
     "metadata": {},
     "output_type": "execute_result"
    }
   ],
   "source": [
    "def extract_features(txt):\n",
    "  txt_features = []\n",
    "  for j in range(len(txt)):\n",
    "    word_feat = {\n",
    "            'word': txt[j].lower(), \n",
    "            'istitle()': txt[j].istitle(),\n",
    "            'all_capital': txt[j].isupper(),\n",
    "            'isdigit': txt[j].isdigit(),\n",
    "            # 'word_before': txt[j].lower() if j==0 else txt[j-1].lower(),\n",
    "            # 'word_after:': txt[j].lower() if j+1>=len(txt) else txt[j+1].lower(),\n",
    "            'BOS': True if (j-1<=0 or (txt[j-1]=='.' and not(txt[j-2].isdigit()))) else False,\n",
    "            'EOS': True if (j+1>=len(txt) or (txt[j+1]=='.' and (j+2<len(txt) and not(txt[j+2].isdigit())))) else False,\n",
    "            # adcionados depois\n",
    "            'ispunctuation':txt[j] in string.punctuation,\n",
    "            'wordlength': len(txt[j]),\n",
    "    }\n",
    "    if j > 0:\n",
    "      word_feat.update({\n",
    "            '-1.word()': txt[j-1].lower(),\n",
    "            '-1.istitle()': txt[j-1].istitle(),\n",
    "            '-1.all_capital': txt[j-1].isupper(),\n",
    "            '-1.isdigit': txt[j-1].isdigit(),\n",
    "            '-1.BOS': True if (j-2<=0 or (txt[j-2]=='.' and not(txt[j-3].isdigit()))) else False,\n",
    "            '-1.EOS': True if (j>=len(txt) or (txt[j]=='.' and (j+1<len(txt) and not(txt[j+1].isdigit())))) else False,   \n",
    "            '-1.ispunctuation':txt[j-1] in string.punctuation,\n",
    "            '-1.wordlength': len(txt[j-1]),      \n",
    "      })      \n",
    "    if j < (len(txt)-1):\n",
    "      word_feat.update({\n",
    "            '+1.word()': txt[j+1].lower(),\n",
    "            '+1.istitle()': txt[j+1].istitle(),\n",
    "            '+1.all_capital': txt[j+1].isupper(),\n",
    "            '+1.isdigit': txt[j+1].isdigit(),\n",
    "            '+1.BOS': True if (j<=0 or (txt[j]=='.' and not(txt[j-1].isdigit()))) else False,\n",
    "            '+1.EOS': True if (j+2>=len(txt) or (txt[j+2]=='.' and (j+3<len(txt) and not(txt[j+3].isdigit())))) else False,   \n",
    "            '+1.ispunctuation':txt[j+1] in string.punctuation,\n",
    "            '+1.wordlength': len(txt[j+1]),      \n",
    "      })      \n",
    "    txt_features.append(word_feat)\n",
    "  return txt_features\n",
    "\n",
    "def separate_cols(arq):\n",
    "    x = []\n",
    "    y = []\n",
    "    for i in range(len(arq)):\n",
    "        x.append(extract_features(arq['text'][i].split()))\n",
    "        y.append(arq['labels'][i].split())\n",
    "    return x, y\n",
    "\n",
    "x, y = separate_cols(df)\n",
    "train_x = x[:math.floor(0.7*len(df))]\n",
    "train_y = y[:math.floor(0.7*len(df))]\n",
    "test_x = x[math.floor(0.7*len(df)):]\n",
    "test_y = y[math.floor(0.7*len(df)):]\n",
    "\n",
    "len(df), len(train_x), len(train_y), len(test_x), len(test_y)"
   ]
  },
  {
   "cell_type": "code",
   "execution_count": 12,
   "metadata": {},
   "outputs": [],
   "source": [
    "model = sklearn_crfsuite.CRF(\n",
    "    # algorithm = 'l2sgd', #0,1 -> 0.179, 0.15, 0.0        1->0.09, 0.23, 0.4 ,0.53, 0.3\n",
    "    # c2=1,\n",
    "    # max_iterations=100, \n",
    "    # all_possible_transitions=True,\n",
    "    # verbose=False\n",
    "\n",
    "    #algorithm='ap', #0.35\n",
    "\n",
    "    #algorithm='pa',# 0.62\n",
    "\n",
    "    #algorithm='arow', #0.62\n",
    "\n",
    "    algorithm='lbfgs',\n",
    "    c1=0.1,\n",
    "    c2=0.1,\n",
    "    max_iterations=100,\n",
    "    all_possible_transitions=True   \n",
    ")\n",
    "\n",
    "model.fit(train_x, train_y)\n",
    "y_pred = model.predict(test_x)"
   ]
  },
  {
   "cell_type": "code",
   "execution_count": 18,
   "metadata": {},
   "outputs": [
    {
     "name": "stdout",
     "output_type": "stream",
     "text": [
      "['O', 'O', 'O', 'O', 'O', 'O', 'O', 'B-CONTRATO', 'I-CONTRATO', 'O', 'O', 'B-PROCESSO', 'I-PROCESSO', 'I-PROCESSO', 'O', 'O', 'O', 'O', 'O', 'O', 'O', 'O', 'O', 'B-PARTES', 'I-PARTES', 'I-PARTES', 'I-PARTES', 'I-PARTES', 'I-PARTES', 'I-PARTES', 'I-PARTES', 'I-PARTES', 'I-PARTES', 'I-PARTES', 'I-PARTES', 'I-PARTES', 'O', 'O', 'O', 'O', 'B-OBJETO', 'I-OBJETO', 'I-OBJETO', 'I-OBJETO', 'I-OBJETO', 'I-OBJETO', 'I-OBJETO', 'I-OBJETO', 'I-OBJETO', 'I-OBJETO', 'I-OBJETO', 'I-OBJETO', 'I-OBJETO', 'I-OBJETO', 'I-OBJETO', 'I-OBJETO', 'I-OBJETO', 'I-OBJETO', 'I-OBJETO', 'I-OBJETO', 'I-OBJETO', 'I-OBJETO', 'I-OBJETO', 'I-OBJETO', 'I-OBJETO', 'I-OBJETO', 'I-OBJETO', 'I-OBJETO', 'I-OBJETO', 'I-OBJETO', 'I-OBJETO', 'I-OBJETO', 'I-OBJETO', 'I-OBJETO', 'I-OBJETO', 'I-OBJETO', 'I-OBJETO', 'I-OBJETO', 'I-OBJETO', 'I-OBJETO', 'I-OBJETO', 'I-OBJETO', 'I-OBJETO', 'I-OBJETO', 'I-OBJETO', 'I-OBJETO', 'I-OBJETO', 'I-OBJETO', 'I-OBJETO', 'I-OBJETO', 'I-OBJETO', 'I-OBJETO', 'I-OBJETO', 'I-OBJETO', 'I-OBJETO', 'I-OBJETO', 'I-OBJETO', 'I-OBJETO', 'I-OBJETO', 'I-OBJETO', 'I-OBJETO', 'I-OBJETO', 'I-OBJETO', 'I-OBJETO', 'I-OBJETO', 'I-OBJETO', 'I-OBJETO', 'I-OBJETO', 'I-OBJETO', 'I-OBJETO', 'I-OBJETO', 'I-OBJETO', 'I-OBJETO', 'I-OBJETO', 'I-OBJETO', 'I-OBJETO', 'I-OBJETO', 'I-OBJETO', 'I-OBJETO', 'I-OBJETO', 'I-OBJETO', 'I-OBJETO', 'O', 'O', 'O', 'O', 'O', 'O', 'O', 'O', 'O', 'O', 'O', 'O', 'O', 'B-PROCESSO', 'I-PROCESSO', 'O', 'O', 'O', 'O', 'O', 'B-NAT_DESP.', 'O', 'O', 'O', 'O', 'O', 'O', 'O', 'O', 'O', 'O', 'O', 'O', 'O', 'O', 'O', 'O', 'O', 'B-VALOR', 'I-VALOR', 'O', 'O', 'O', 'O', 'O', 'O', 'O', 'O', 'O', 'O', 'O', 'O', 'O', 'O', 'O', 'O', 'O', 'O', 'O', 'O', 'O', 'O', 'O', 'O', 'O', 'O', 'O', 'O', 'O', 'O', 'O', 'O', 'O', 'O', 'O', 'O', 'O', 'O', 'O', 'O', 'O', 'O', 'O', 'O', 'O', 'O', 'O', 'O', 'O', 'O', 'O', 'O', 'O', 'O', 'O', 'O', 'O', 'O', 'O', 'O', 'O', 'O', 'O', 'O', 'O', 'O', 'O', 'O', 'O', 'O', 'O', 'O', 'O', 'O', 'O', 'O', 'O', 'O', 'O', 'O', 'O', 'O', 'O', 'O', 'O', 'O', 'O', 'O', 'O', 'O']\n"
     ]
    }
   ],
   "source": [
    "print(y_pred[0])"
   ]
  },
  {
   "cell_type": "code",
   "execution_count": 14,
   "metadata": {},
   "outputs": [
    {
     "name": "stdout",
     "output_type": "stream",
     "text": [
      "0.7857363004621053\n"
     ]
    },
    {
     "name": "stderr",
     "output_type": "stream",
     "text": [
      "C:\\Users\\tito\\AppData\\Local\\Programs\\Python\\Python39\\lib\\site-packages\\sklearn\\metrics\\_classification.py:1495: UndefinedMetricWarning: F-score is ill-defined and being set to 0.0 in labels with no true nor predicted samples. Use `zero_division` parameter to control this behavior.\n",
      "  _warn_prf(\n"
     ]
    }
   ],
   "source": [
    "labels = list(model.classes_)\n",
    "labels.remove('O')\n",
    "\n",
    "f1 = metrics.flat_f1_score(test_y, y_pred, \n",
    "                      average='weighted', labels=labels)\n",
    "print(f1)"
   ]
  },
  {
   "cell_type": "code",
   "execution_count": 15,
   "metadata": {},
   "outputs": [
    {
     "name": "stderr",
     "output_type": "stream",
     "text": [
      "C:\\Users\\tito\\AppData\\Local\\Programs\\Python\\Python39\\lib\\site-packages\\sklearn\\metrics\\_classification.py:1248: UndefinedMetricWarning: Precision and F-score are ill-defined and being set to 0.0 in labels with no predicted samples. Use `zero_division` parameter to control this behavior.\n",
      "  _warn_prf(average, modifier, msg_start, len(result))\n",
      "C:\\Users\\tito\\AppData\\Local\\Programs\\Python\\Python39\\lib\\site-packages\\sklearn\\metrics\\_classification.py:1248: UndefinedMetricWarning: Recall and F-score are ill-defined and being set to 0.0 in labels with no true samples. Use `zero_division` parameter to control this behavior.\n",
      "  _warn_prf(average, modifier, msg_start, len(result))\n",
      "C:\\Users\\tito\\AppData\\Local\\Programs\\Python\\Python39\\lib\\site-packages\\sklearn\\metrics\\_classification.py:1248: UndefinedMetricWarning: Precision and F-score are ill-defined and being set to 0.0 in labels with no predicted samples. Use `zero_division` parameter to control this behavior.\n",
      "  _warn_prf(average, modifier, msg_start, len(result))\n",
      "C:\\Users\\tito\\AppData\\Local\\Programs\\Python\\Python39\\lib\\site-packages\\sklearn\\metrics\\_classification.py:1248: UndefinedMetricWarning: Recall and F-score are ill-defined and being set to 0.0 in labels with no true samples. Use `zero_division` parameter to control this behavior.\n",
      "  _warn_prf(average, modifier, msg_start, len(result))\n"
     ]
    },
    {
     "name": "stdout",
     "output_type": "stream",
     "text": [
      "               precision    recall  f1-score   support\n",
      "\n",
      "   B-CONTRATO      0.982     0.933     0.957        60\n",
      "   I-CONTRATO      0.982     0.933     0.957        60\n",
      "   B-PROCESSO      0.911     0.823     0.864        62\n",
      "   I-PROCESSO      0.928     0.771     0.842       166\n",
      "     B-PARTES      0.913     0.977     0.944        43\n",
      "     I-PARTES      0.686     0.967     0.803       539\n",
      "     B-OBJETO      0.870     0.770     0.817        61\n",
      "     I-OBJETO      0.744     0.809     0.775      3483\n",
      "      B-VALOR      0.705     0.925     0.800        67\n",
      "      I-VALOR      0.705     0.925     0.800        67\n",
      "   B-UNI_ORC.      0.879     0.744     0.806        39\n",
      "  B-NAT_DESP.      0.828     0.632     0.716        38\n",
      "  B-NOTA_EMP.      0.806     0.617     0.699        47\n",
      "   B-VIGENCIA      0.707     0.744     0.725        39\n",
      "   I-VIGENCIA      0.722     0.691     0.706       901\n",
      "  B-DATA_ASS.      0.800     0.154     0.258        52\n",
      "  I-DATA_ASS.      0.000     0.000     0.000         8\n",
      "B-SIGNATARIOS      0.875     0.897     0.886        39\n",
      "I-SIGNATARIOS      0.826     0.936     0.877       890\n",
      "  I-NOTA_EMP.      0.833     0.543     0.658        46\n",
      " B-PROG_TRAB.      0.882     0.811     0.845        37\n",
      " I-PROG_TRAB.      1.000     0.583     0.737        12\n",
      "  I-NAT_DESP.      1.000     0.222     0.364         9\n",
      "   I-UNI_ORC.      0.000     0.000     0.000         0\n",
      "    B-PROCED.      1.000     1.000     1.000         1\n",
      "    I-PROCED.      1.000     1.000     1.000        18\n",
      "   B-LEI_ORC.      0.882     0.938     0.909        16\n",
      "   I-LEI_ORC.      0.985     1.000     0.992        65\n",
      "\n",
      "    micro avg      0.762     0.818     0.789      6865\n",
      "    macro avg      0.802     0.727     0.741      6865\n",
      " weighted avg      0.766     0.818     0.786      6865\n",
      "\n"
     ]
    },
    {
     "name": "stderr",
     "output_type": "stream",
     "text": [
      "C:\\Users\\tito\\AppData\\Local\\Programs\\Python\\Python39\\lib\\site-packages\\sklearn\\metrics\\_classification.py:1248: UndefinedMetricWarning: Precision and F-score are ill-defined and being set to 0.0 in labels with no predicted samples. Use `zero_division` parameter to control this behavior.\n",
      "  _warn_prf(average, modifier, msg_start, len(result))\n",
      "C:\\Users\\tito\\AppData\\Local\\Programs\\Python\\Python39\\lib\\site-packages\\sklearn\\metrics\\_classification.py:1248: UndefinedMetricWarning: Recall and F-score are ill-defined and being set to 0.0 in labels with no true samples. Use `zero_division` parameter to control this behavior.\n",
      "  _warn_prf(average, modifier, msg_start, len(result))\n"
     ]
    }
   ],
   "source": [
    "print(metrics.flat_classification_report(\n",
    "    test_y, y_pred, labels=labels, digits=3\n",
    "))"
   ]
  },
  {
   "cell_type": "code",
   "execution_count": 16,
   "metadata": {},
   "outputs": [
    {
     "data": {
      "text/plain": [
       "['contratos_ner.pkl']"
      ]
     },
     "execution_count": 16,
     "metadata": {},
     "output_type": "execute_result"
    }
   ],
   "source": [
    "# Save trained model\n",
    "joblib.dump(model, \"contratos_ner.pkl\")"
   ]
  },
  {
   "cell_type": "code",
   "execution_count": 17,
   "metadata": {},
   "outputs": [],
   "source": [
    "# txt=\"EXTRATO DO CONTRATO Nº 13/2014 Processo 410.000.434/2014 – DAS PARTES:SEPLAN x SERVEGEL – APOIO ADMINISTRATIVO E SUPORTE OPERACIONAL LTDA. DO PROCEDIMENTO: O presente Contrato obedece aos termos do EDITAL DE LICITAÇÃO DE PREGÃO ELETRONICO N.º 151/ 2012 – SULIC/SEPLAN (fls. 03 a 149) oriundo do processo licitatório autuado sob nº 411.000.023/ 2012. DO OBJETO: O Contrato tem por objeto a contratação de empresa especializada para realizar a prestação de serviços continuados de limpeza asseio e conservação nos próprios do Governo do Distrito Federal com fornecimento de mão-de-obra materiais e equipamentos conforme especificações e condições estabelecidas no Anexo I do Edital LOTE 11 consoante especificam o EDITAL DE LICITAÇÃO DE PREGÃO ELETRONICO N.º 151/2012 – SULIC/SEPLAN (fls. 03 a 149) oriundo do processo licitatório autuado sob nº 411.000.023/2012. DO VALOR: O valor total do contrato é de R$ 5.645.716,32 >(cinco milhões seiscentos e quarenta e cinco mil setecentos e dezesseis reais e trinta e dois centavos). DA DOTAÇÃO ORÇAMENTÁRIA: A despesa correrá à conta da seguinte Dotação Orçamentária: I – Unidade Orçamentária: 32.101; II – Programa de Trabalho: 04.122.6003.2990.0006; III – Natureza da Despesa: 3.3.90.37; IV – Fonte de Recursos: 100; V – Nota de Empenho: 2014NE00621. DO PRAZO DE VIGÊNCIA: O contrato terá vigência de 12 (doze) meses a contar da data de sua assinatura. DA ASSINATURA: 08/05/2014. DOS SIGNATÁRIOS: Pela SEPLAN: Paulo Antenor de Oliveira na qualidade de Secretário de Estado e pela CONTRATADA: Marcelo Henry Soares Monteiro, na qualidade de Sócio-Proprietário da Empresa\"\n",
    "\n",
    "# model.predict(txt)"
   ]
  }
 ],
 "metadata": {
  "interpreter": {
   "hash": "5c3b02fa24688d32a1d09351b7f8eac82a87272ad081601c73caead00a8e1fc4"
  },
  "kernelspec": {
   "display_name": "Python 2.7.9 64-bit (system)",
   "language": "python",
   "name": "python3"
  },
  "language_info": {
   "codemirror_mode": {
    "name": "ipython",
    "version": 3
   },
   "file_extension": ".py",
   "mimetype": "text/x-python",
   "name": "python",
   "nbconvert_exporter": "python",
   "pygments_lexer": "ipython3",
   "version": "3.9.0"
  },
  "orig_nbformat": 4
 },
 "nbformat": 4,
 "nbformat_minor": 2
}
