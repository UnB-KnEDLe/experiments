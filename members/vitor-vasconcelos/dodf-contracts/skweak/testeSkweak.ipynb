{
 "cells": [
  {
   "cell_type": "code",
   "execution_count": 34,
   "source": [
    "import re\r\n",
    "import docx\r\n",
    "import pandas as pd\r\n",
    "import spacy\r\n",
    "import skweak"
   ],
   "outputs": [],
   "metadata": {}
  },
  {
   "cell_type": "code",
   "execution_count": 35,
   "source": [
    "def getText(filename):\r\n",
    "    doc = docx.Document(filename)\r\n",
    "    fullText = []\r\n",
    "    for para in doc.paragraphs:\r\n",
    "        fullText.append(para.text)\r\n",
    "    return fullText"
   ],
   "outputs": [],
   "metadata": {}
  },
  {
   "cell_type": "code",
   "execution_count": 36,
   "source": [
    "texto = getText('dodf43-62.docx')\r\n",
    "# for txt in texto:\r\n",
    "#   print(txt)"
   ],
   "outputs": [],
   "metadata": {}
  },
  {
   "cell_type": "code",
   "execution_count": 37,
   "source": [
    "# nlp = spacy.load('en_core_web_sm', disable=[\"ner\", \"lemmatizer\"])\r\n",
    "nlp = spacy.load('pt_core_news_sm', disable=[\"ner\", \"lemmatizer\"])\r\n",
    "docs = list(nlp.pipe(texto))"
   ],
   "outputs": [],
   "metadata": {}
  },
  {
   "cell_type": "code",
   "execution_count": 83,
   "source": [
    "\r\n",
    "def contrato_detector_fun(doc):\r\n",
    "    for token in doc:\r\n",
    "        if token.text in {'Contrato','CONTRATO'}:#{'CONTRATO', 'Contrato'}\r\n",
    "            for x in range((len(doc)-token.i)):\r\n",
    "                if doc[token.i+x].text in {'.','-',',',';','('}:\r\n",
    "                    yield token.i, token.i+x, \"CONTRATO\"\r\n",
    "                    break\r\n",
    "\r\n",
    "def processo_detector_fun(doc):\r\n",
    "    for token in doc:                \r\n",
    "        if token.text in {'Processo','PROCESSO'}:\r\n",
    "            for x in range((len(doc)-token.i)):\r\n",
    "                if doc[token.i+x].text in {'.','-',',',';','('}:\r\n",
    "                    yield token.i, token.i+x, \"PROCESSO\"\r\n",
    "                    break\r\n",
    "\r\n",
    "def partes_detector_fun(doc):\r\n",
    "    for token in doc:             \r\n",
    "        if token.text in {'Partes','PARTES'}:\r\n",
    "            for x in range((len(doc)-token.i)):\r\n",
    "                if doc[token.i+x].text in {'.','-',',',';','('}:\r\n",
    "                    yield token.i, token.i+x, \"PARTES\"\r\n",
    "                    break\r\n",
    "\r\n",
    "def objeto_detector_fun(doc):\r\n",
    "    for token in doc:    \r\n",
    "        if token.text in {'Objeto','OBJETO'}:\r\n",
    "            for x in range((len(doc)-token.i)):\r\n",
    "                #if doc[token.i+x].text in {'Valor','Lei','Dotação','Partes','Vigência'}:\r\n",
    "                if doc[token.i+x].text in {'.',';'}:\r\n",
    "                    yield token.i, token.i+x, \"OBJETO\"\r\n",
    "                    break\r\n",
    "\r\n",
    "def valor_detector_fun(doc):\r\n",
    "    for token in doc:    \r\n",
    "        if token.text in {'Valor','VALOR'}:\r\n",
    "            for x in range((len(doc)-token.i)):\r\n",
    "                if doc[token.i+x].text in {'.','–','-'}:\r\n",
    "                    yield token.i, token.i+x, \"VALOR\",\r\n",
    "                    break\r\n",
    "\r\n",
    "def lei_orc_detector_fun(doc):\r\n",
    "    for token in doc:    \r\n",
    "        if token.text in {'Lei','LEI'} and doc[token.i+1].text in {'Orçamentária','ORÇAMENTÁRIA','ORÇAMENTARIA'}:\r\n",
    "            for x in range((len(doc)-token.i)):\r\n",
    "                if doc[token.i+x].text in {'.','-',',',';','('}:\r\n",
    "                    yield token.i, token.i+x, \"LEI ORC.\"\r\n",
    "                    break\r\n",
    "\r\n",
    "def dotacao_orc_detector_fun(doc):\r\n",
    "    for token in doc:    \r\n",
    "        if token.text in {'Dotação','DOTAÇÃO','DOTACAO'} and doc[token.i+1].text in {'Orçamentária','ORÇAMENTÁRIA','ORÇAMENTARIA'}:\r\n",
    "            for x in range((len(doc)-token.i)):\r\n",
    "                if doc[token.i+x].text in {'.','-',',',';','('}:\r\n",
    "                    yield token.i, token.i+x, \"DOT ORC.\"\r\n",
    "                    break\r\n",
    "\r\n",
    "def unidade_orc_detector_fun(doc):\r\n",
    "    for token in doc:    \r\n",
    "        if token.text in {'Unidade','UNIDADE'} and doc[token.i+1].text in {'Orçamentária','ORÇAMENTÁRIA','ORÇAMENTARIA'}:\r\n",
    "            for x in range((len(doc)-token.i)):\r\n",
    "                if doc[token.i+x].text in {'.','-',',',';','('}:\r\n",
    "                    yield token.i, token.i+x, \"UNI ORC.\"\r\n",
    "                    break\r\n",
    "\r\n",
    "def programa_trab_detector_fun(doc):\r\n",
    "    for token in doc:    \r\n",
    "        if token.text in {'Programa','PROGRAMA'} and doc[token.i+1].text in {'de','do','da','Trabalho','DE','DO','DA','TRABALHO'} and doc[token.i+2].text in {'Trabalho','TRABALHO'}:\r\n",
    "            for x in range((len(doc)-token.i)):\r\n",
    "                if doc[token.i+x].text in {'.','-',',',';','('}:\r\n",
    "                    yield token.i, token.i+x, \"PROG TRAB.\"\r\n",
    "                    break\r\n",
    "\r\n",
    "def natureza_desp_detector_fun(doc):\r\n",
    "    for token in doc:                   \r\n",
    "        if token.text in {'Natureza','NATUREZA'} and doc[token.i+1].text in {'de','do','da','Despesa','DE','DO','DA','DESPESA'} and doc[token.i+2].text in {'Despesa','DESPESA'}:\r\n",
    "            for x in range((len(doc)-token.i)):\r\n",
    "                if doc[token.i+x].text in {'.','-',',',';','('}:\r\n",
    "                    yield token.i, token.i+x, \"NAT DESP.\"\r\n",
    "                    break\r\n",
    "\r\n",
    "def data_detector_fun(doc):\r\n",
    "    for token in doc:    \r\n",
    "        if token.text in {'Data','DATA'} and doc[token.i+1].text in {'de','do','da','Assinatura','DE','DO','DA','ASSINATURA'} and doc[token.i+2].text in {'Assinatura','ASSINATURA'}:\r\n",
    "            for x in range((len(doc)-token.i)):\r\n",
    "                if doc[token.i+x].text in {'.','-',',',';','('}:\r\n",
    "                    yield token.i, token.i+x, \"DATA ASS.\"\r\n",
    "                    break\r\n",
    "\r\n",
    "def signatarios_detector_fun(doc):\r\n",
    "    for token in doc:    \r\n",
    "        if token.text in {'Signatários',\"SIGNATÁRIOS\",\"SIGNATARIOS\"}:\r\n",
    "            for x in range((len(doc)-token.i)):\r\n",
    "                if doc[token.i+x].text in {'.'}:\r\n",
    "                    yield token.i, token.i+x, \"SIGNATARIOS\"\r\n",
    "                    break\r\n",
    "\r\n",
    "def vigencia_detector_fun(doc):\r\n",
    "    for token in doc:    \r\n",
    "        if token.text in {'Vigência',\"VIGÊNCIA\",\"VIGENCIA\"}:\r\n",
    "            for x in range((len(doc)-token.i)):\r\n",
    "                if doc[token.i+x].text in {'.','-',';'}:\r\n",
    "                    yield token.i, token.i+x, \"VIGENCIA\"\r\n",
    "                    break\r\n",
    "                \r\n",
    "\r\n",
    "contrato_detector = skweak.heuristics.FunctionAnnotator(\"contrato_detector\", contrato_detector_fun)\r\n",
    "\r\n",
    "docs = list(contrato_detector.pipe(docs))\r\n",
    "\r\n",
    "processo_detector = skweak.heuristics.FunctionAnnotator(\"processo_detector\", processo_detector_fun)\r\n",
    "\r\n",
    "docs = list(processo_detector.pipe(docs))\r\n",
    "\r\n",
    "partes_detector = skweak.heuristics.FunctionAnnotator(\"partes_detector\", partes_detector_fun)\r\n",
    "\r\n",
    "docs = list(partes_detector.pipe(docs))\r\n",
    "\r\n",
    "objeto_detector = skweak.heuristics.FunctionAnnotator(\"objeto_detector\", objeto_detector_fun)\r\n",
    "\r\n",
    "docs = list(objeto_detector.pipe(docs))\r\n",
    "\r\n",
    "valor_detector = skweak.heuristics.FunctionAnnotator(\"valor_detector\", valor_detector_fun)\r\n",
    "\r\n",
    "docs = list(valor_detector.pipe(docs))\r\n",
    "\r\n",
    "lei_orc_detector = skweak.heuristics.FunctionAnnotator(\"lei_orc_detector\", lei_orc_detector_fun)\r\n",
    "\r\n",
    "docs = list(lei_orc_detector.pipe(docs))\r\n",
    "\r\n",
    "unidade_orc_detector = skweak.heuristics.FunctionAnnotator(\"unidade_orc_detector\", unidade_orc_detector_fun)\r\n",
    "\r\n",
    "docs = list(unidade_orc_detector.pipe(docs))\r\n",
    "\r\n",
    "unidade_orc_detector = skweak.heuristics.FunctionAnnotator(\"unidade_orc_detector\", unidade_orc_detector_fun)\r\n",
    "\r\n",
    "docs = list(unidade_orc_detector.pipe(docs))\r\n",
    "\r\n",
    "programa_trab_detector = skweak.heuristics.FunctionAnnotator(\"programa_trab_detector\", programa_trab_detector_fun)\r\n",
    "\r\n",
    "docs = list(programa_trab_detector.pipe(docs))\r\n",
    "\r\n",
    "natureza_desp_detector = skweak.heuristics.FunctionAnnotator(\"natureza_desp_detector\", natureza_desp_detector_fun)\r\n",
    "\r\n",
    "docs = list(natureza_desp_detector.pipe(docs))\r\n",
    "\r\n",
    "data_detector = skweak.heuristics.FunctionAnnotator(\"data_detector\", data_detector_fun)\r\n",
    "\r\n",
    "docs = list(data_detector.pipe(docs))\r\n",
    "\r\n",
    "signatarios_detector = skweak.heuristics.FunctionAnnotator(\"signatarios_detector\", signatarios_detector_fun)\r\n",
    "\r\n",
    "docs = list(signatarios_detector.pipe(docs))\r\n",
    "\r\n",
    "vigencia_detector = skweak.heuristics.FunctionAnnotator(\"vigencia_detector\", vigencia_detector_fun)\r\n",
    "\r\n",
    "docs = list(vigencia_detector.pipe(docs))\r\n",
    "\r\n"
   ],
   "outputs": [],
   "metadata": {}
  },
  {
   "cell_type": "code",
   "execution_count": 84,
   "source": [
    "\r\n",
    "model = skweak.aggregation.HMM(\"hmm\", [\"CONTRATO\", \"PROCESSO\", \"PARTES\", \"OBJETO\", \"VALOR\", \"LEI ORC.\", \"DOT ORC.\", \"UNI ORC.\", \"PROG TRAB.\", \"NAT DESP.\", \"DATA ASS.\", \"SIGNATARIOS\", \"VIGENCIA\"])\r\n",
    "\r\n",
    "model.add_underspecified_label(\"CTR\", [\"CONTRATO\", \"PROCESSO\", \"PARTES\", \"OBJETO\", \"VALOR\", \"LEI ORC.\", \"DOT ORC.\", \"UNI ORC.\", \"PROG TRAB.\", \"NAT DESP.\", \"DATA ASS.\", \"SIGNATARIOS\", \"VIGENCIA\"])\r\n",
    "\r\n",
    "docs = model.fit_and_aggregate(docs)\r\n"
   ],
   "outputs": [
    {
     "output_type": "stream",
     "name": "stdout",
     "text": [
      "Starting iteration 1\n",
      "Finished E-step with 18 documents\n",
      "Starting iteration 2\n"
     ]
    },
    {
     "output_type": "stream",
     "name": "stderr",
     "text": [
      "         1       -5549.2698             +nan\n"
     ]
    },
    {
     "output_type": "stream",
     "name": "stdout",
     "text": [
      "Finished E-step with 18 documents\n",
      "Starting iteration 3\n"
     ]
    },
    {
     "output_type": "stream",
     "name": "stderr",
     "text": [
      "         2       -3542.3974       +2006.8723\n"
     ]
    },
    {
     "output_type": "stream",
     "name": "stdout",
     "text": [
      "Finished E-step with 18 documents\n",
      "Starting iteration 4\n"
     ]
    },
    {
     "output_type": "stream",
     "name": "stderr",
     "text": [
      "         3       -3512.4450         +29.9524\n"
     ]
    },
    {
     "output_type": "stream",
     "name": "stdout",
     "text": [
      "Finished E-step with 18 documents\n",
      "Starting iteration 5\n"
     ]
    },
    {
     "output_type": "stream",
     "name": "stderr",
     "text": [
      "         4       -3508.5661          +3.8789\n"
     ]
    },
    {
     "output_type": "stream",
     "name": "stdout",
     "text": [
      "Finished E-step with 18 documents\n"
     ]
    },
    {
     "output_type": "stream",
     "name": "stderr",
     "text": [
      "         5       -3508.5603          +0.0058\n"
     ]
    }
   ],
   "metadata": {}
  },
  {
   "cell_type": "code",
   "execution_count": 85,
   "source": [
    "skweak.utils.display_entities(docs[1], \"hmm\", add_tooltip=True)"
   ],
   "outputs": [
    {
     "output_type": "display_data",
     "data": {
      "text/html": [
       "<span class=\"tex2jax_ignore\"><style>\n",
       ".tooltip {  position: relative;  border-bottom: 1px dotted black; }\n",
       ".tooltip .tooltip-text {visibility: hidden;  background-color: black;  color: white;\n",
       "                        line-height: 1.2;  text-align: right;  border-radius: 6px;\n",
       "                        padding: 5px 0; position: absolute; z-index: 1; margin-left:1em;\n",
       "                        opacity: 0; transition: opacity 1s;}\n",
       ".tooltip .tooltip-text::after {position: absolute; top: 1.5em; right: 100%; margin-top: -5px;\n",
       "                               border-width: 5px; border-style: solid; \n",
       "                               border-color: transparent black transparent transparent;}\n",
       ".tooltip:hover .tooltip-text {visibility: visible; opacity: 1;}\n",
       "</style>\n",
       "<div class=\"entities\" style=\"line-height: 2.5; direction: ltr\">EXTRATO DO \n",
       "<mark class=\"entity\" style=\"background: #ddd; padding: 0.45em 0.6em; margin: 0 0.25em; line-height: 1; border-radius: 0.35em;\">\n",
       "    <label class='tooltip'>CONTRATO<span class='tooltip-text' style='width:266px'>contrato_detector:\tCONTRATO&nbsp;&nbsp</span></label> <label class='tooltip'>Nº<span class='tooltip-text' style='width:266px'>contrato_detector:\tCONTRATO&nbsp;&nbsp</span></label> <label class='tooltip'>11/2013<span class='tooltip-text' style='width:266px'>contrato_detector:\tCONTRATO&nbsp;&nbsp</span></label>\n",
       "    <span style=\"font-size: 0.8em; font-weight: bold; line-height: 1; border-radius: 0.35em; vertical-align: middle; margin-left: 0.5rem\">CONTRATO</span>\n",
       "</mark>\n",
       ". \n",
       "<mark class=\"entity\" style=\"background: #ddd; padding: 0.45em 0.6em; margin: 0 0.25em; line-height: 1; border-radius: 0.35em;\">\n",
       "    <label class='tooltip'>Processo<span class='tooltip-text' style='width:266px'>processo_detector:\tPROCESSO&nbsp;&nbsp</span></label> <label class='tooltip'>040.003.743/2011-<span class='tooltip-text' style='width:266px'>processo_detector:\tPROCESSO&nbsp;&nbsp</span></label> <label class='tooltip'>Partes<span class='tooltip-text' style='width:266px'>processo_detector:\tPROCESSO&nbsp;&nbsp<br>partes_detector:\tPARTES&nbsp;&nbsp</span></label><label class='tooltip'>:<span class='tooltip-text' style='width:266px'>processo_detector:\tPROCESSO&nbsp;&nbsp<br>partes_detector:\tPARTES&nbsp;&nbsp</span></label> <label class='tooltip'>DF<span class='tooltip-text' style='width:266px'>processo_detector:\tPROCESSO&nbsp;&nbsp<br>partes_detector:\tPARTES&nbsp;&nbsp</span></label><label class='tooltip'>/<span class='tooltip-text' style='width:266px'>processo_detector:\tPROCESSO&nbsp;&nbsp<br>partes_detector:\tPARTES&nbsp;&nbsp</span></label><label class='tooltip'>SEF<span class='tooltip-text' style='width:266px'>processo_detector:\tPROCESSO&nbsp;&nbsp<br>partes_detector:\tPARTES&nbsp;&nbsp</span></label> <label class='tooltip'>X<span class='tooltip-text' style='width:266px'>processo_detector:\tPROCESSO&nbsp;&nbsp<br>partes_detector:\tPARTES&nbsp;&nbsp</span></label> <label class='tooltip'>ORACLE<span class='tooltip-text' style='width:266px'>processo_detector:\tPROCESSO&nbsp;&nbsp<br>partes_detector:\tPARTES&nbsp;&nbsp</span></label> <label class='tooltip'>DO<span class='tooltip-text' style='width:266px'>processo_detector:\tPROCESSO&nbsp;&nbsp<br>partes_detector:\tPARTES&nbsp;&nbsp</span></label> <label class='tooltip'>BRASIL<span class='tooltip-text' style='width:266px'>processo_detector:\tPROCESSO&nbsp;&nbsp<br>partes_detector:\tPARTES&nbsp;&nbsp</span></label> <label class='tooltip'>SISTEMAS<span class='tooltip-text' style='width:266px'>processo_detector:\tPROCESSO&nbsp;&nbsp<br>partes_detector:\tPARTES&nbsp;&nbsp</span></label> <label class='tooltip'>LTDA<span class='tooltip-text' style='width:266px'>processo_detector:\tPROCESSO&nbsp;&nbsp<br>partes_detector:\tPARTES&nbsp;&nbsp</span></label>\n",
       "    <span style=\"font-size: 0.8em; font-weight: bold; line-height: 1; border-radius: 0.35em; vertical-align: middle; margin-left: 0.5rem\">PROCESSO</span>\n",
       "</mark>\n",
       ". \n",
       "<mark class=\"entity\" style=\"background: #ddd; padding: 0.45em 0.6em; margin: 0 0.25em; line-height: 1; border-radius: 0.35em;\">\n",
       "    <label class='tooltip'>Objeto<span class='tooltip-text' style='width:238px'>objeto_detector:\tOBJETO&nbsp;&nbsp</span></label><label class='tooltip'>:<span class='tooltip-text' style='width:238px'>objeto_detector:\tOBJETO&nbsp;&nbsp</span></label> <label class='tooltip'>O<span class='tooltip-text' style='width:238px'>objeto_detector:\tOBJETO&nbsp;&nbsp</span></label> <label class='tooltip'>Contrato<span class='tooltip-text' style='width:266px'>contrato_detector:\tCONTRATO&nbsp;&nbsp<br>objeto_detector:\tOBJETO&nbsp;&nbsp</span></label> <label class='tooltip'>tem<span class='tooltip-text' style='width:266px'>contrato_detector:\tCONTRATO&nbsp;&nbsp<br>objeto_detector:\tOBJETO&nbsp;&nbsp</span></label> <label class='tooltip'>por<span class='tooltip-text' style='width:266px'>contrato_detector:\tCONTRATO&nbsp;&nbsp<br>objeto_detector:\tOBJETO&nbsp;&nbsp</span></label> <label class='tooltip'>objeto<span class='tooltip-text' style='width:266px'>contrato_detector:\tCONTRATO&nbsp;&nbsp<br>objeto_detector:\tOBJETO&nbsp;&nbsp</span></label> <label class='tooltip'>a<span class='tooltip-text' style='width:266px'>contrato_detector:\tCONTRATO&nbsp;&nbsp<br>objeto_detector:\tOBJETO&nbsp;&nbsp</span></label> <label class='tooltip'>prestação<span class='tooltip-text' style='width:266px'>contrato_detector:\tCONTRATO&nbsp;&nbsp<br>objeto_detector:\tOBJETO&nbsp;&nbsp</span></label> <label class='tooltip'>de<span class='tooltip-text' style='width:266px'>contrato_detector:\tCONTRATO&nbsp;&nbsp<br>objeto_detector:\tOBJETO&nbsp;&nbsp</span></label> <label class='tooltip'>serviços<span class='tooltip-text' style='width:266px'>contrato_detector:\tCONTRATO&nbsp;&nbsp<br>objeto_detector:\tOBJETO&nbsp;&nbsp</span></label> <label class='tooltip'>a<span class='tooltip-text' style='width:266px'>contrato_detector:\tCONTRATO&nbsp;&nbsp<br>objeto_detector:\tOBJETO&nbsp;&nbsp</span></label> <label class='tooltip'>serem<span class='tooltip-text' style='width:266px'>contrato_detector:\tCONTRATO&nbsp;&nbsp<br>objeto_detector:\tOBJETO&nbsp;&nbsp</span></label> <label class='tooltip'>executados<span class='tooltip-text' style='width:266px'>contrato_detector:\tCONTRATO&nbsp;&nbsp<br>objeto_detector:\tOBJETO&nbsp;&nbsp</span></label> <label class='tooltip'>de<span class='tooltip-text' style='width:266px'>contrato_detector:\tCONTRATO&nbsp;&nbsp<br>objeto_detector:\tOBJETO&nbsp;&nbsp</span></label> <label class='tooltip'>forma<span class='tooltip-text' style='width:266px'>contrato_detector:\tCONTRATO&nbsp;&nbsp<br>objeto_detector:\tOBJETO&nbsp;&nbsp</span></label> <label class='tooltip'>contínua<span class='tooltip-text' style='width:266px'>contrato_detector:\tCONTRATO&nbsp;&nbsp<br>objeto_detector:\tOBJETO&nbsp;&nbsp</span></label><label class='tooltip'>,<span class='tooltip-text' style='width:238px'>objeto_detector:\tOBJETO&nbsp;&nbsp</span></label> <label class='tooltip'>correspondentes<span class='tooltip-text' style='width:238px'>objeto_detector:\tOBJETO&nbsp;&nbsp</span></label> <label class='tooltip'>a<span class='tooltip-text' style='width:238px'>objeto_detector:\tOBJETO&nbsp;&nbsp</span></label> <label class='tooltip'>suporte<span class='tooltip-text' style='width:238px'>objeto_detector:\tOBJETO&nbsp;&nbsp</span></label> <label class='tooltip'>técnico<span class='tooltip-text' style='width:238px'>objeto_detector:\tOBJETO&nbsp;&nbsp</span></label> <label class='tooltip'>especializado<span class='tooltip-text' style='width:238px'>objeto_detector:\tOBJETO&nbsp;&nbsp</span></label> <label class='tooltip'>com<span class='tooltip-text' style='width:238px'>objeto_detector:\tOBJETO&nbsp;&nbsp</span></label> <label class='tooltip'>cobertura<span class='tooltip-text' style='width:238px'>objeto_detector:\tOBJETO&nbsp;&nbsp</span></label> <label class='tooltip'>do<span class='tooltip-text' style='width:238px'>objeto_detector:\tOBJETO&nbsp;&nbsp</span></label> <label class='tooltip'>tipo<span class='tooltip-text' style='width:238px'>objeto_detector:\tOBJETO&nbsp;&nbsp</span></label> <label class='tooltip'>24X7(vinte<span class='tooltip-text' style='width:238px'>objeto_detector:\tOBJETO&nbsp;&nbsp</span></label> <label class='tooltip'>e<span class='tooltip-text' style='width:238px'>objeto_detector:\tOBJETO&nbsp;&nbsp</span></label> <label class='tooltip'>quatro<span class='tooltip-text' style='width:238px'>objeto_detector:\tOBJETO&nbsp;&nbsp</span></label> <label class='tooltip'>horas<span class='tooltip-text' style='width:238px'>objeto_detector:\tOBJETO&nbsp;&nbsp</span></label> <label class='tooltip'>por<span class='tooltip-text' style='width:238px'>objeto_detector:\tOBJETO&nbsp;&nbsp</span></label> <label class='tooltip'>dia<span class='tooltip-text' style='width:238px'>objeto_detector:\tOBJETO&nbsp;&nbsp</span></label><label class='tooltip'>,<span class='tooltip-text' style='width:238px'>objeto_detector:\tOBJETO&nbsp;&nbsp</span></label> <label class='tooltip'>sete<span class='tooltip-text' style='width:238px'>objeto_detector:\tOBJETO&nbsp;&nbsp</span></label> <label class='tooltip'>dias<span class='tooltip-text' style='width:238px'>objeto_detector:\tOBJETO&nbsp;&nbsp</span></label> <label class='tooltip'>por<span class='tooltip-text' style='width:238px'>objeto_detector:\tOBJETO&nbsp;&nbsp</span></label> <label class='tooltip'>semana<span class='tooltip-text' style='width:238px'>objeto_detector:\tOBJETO&nbsp;&nbsp</span></label><label class='tooltip'>)<span class='tooltip-text' style='width:238px'>objeto_detector:\tOBJETO&nbsp;&nbsp</span></label><label class='tooltip'>,<span class='tooltip-text' style='width:238px'>objeto_detector:\tOBJETO&nbsp;&nbsp</span></label> <label class='tooltip'>para<span class='tooltip-text' style='width:238px'>objeto_detector:\tOBJETO&nbsp;&nbsp</span></label> <label class='tooltip'>os<span class='tooltip-text' style='width:238px'>objeto_detector:\tOBJETO&nbsp;&nbsp</span></label> <label class='tooltip'>equipamentos<span class='tooltip-text' style='width:238px'>objeto_detector:\tOBJETO&nbsp;&nbsp</span></label> <label class='tooltip'>e<span class='tooltip-text' style='width:238px'>objeto_detector:\tOBJETO&nbsp;&nbsp</span></label> <label class='tooltip'>softwares<span class='tooltip-text' style='width:238px'>objeto_detector:\tOBJETO&nbsp;&nbsp</span></label> <label class='tooltip'>do<span class='tooltip-text' style='width:238px'>objeto_detector:\tOBJETO&nbsp;&nbsp</span></label> <label class='tooltip'>fabricante<span class='tooltip-text' style='width:238px'>objeto_detector:\tOBJETO&nbsp;&nbsp</span></label> <label class='tooltip'>Sun<span class='tooltip-text' style='width:238px'>objeto_detector:\tOBJETO&nbsp;&nbsp</span></label><label class='tooltip'>/<span class='tooltip-text' style='width:238px'>objeto_detector:\tOBJETO&nbsp;&nbsp</span></label><label class='tooltip'>Oracle<span class='tooltip-text' style='width:238px'>objeto_detector:\tOBJETO&nbsp;&nbsp</span></label><label class='tooltip'>,<span class='tooltip-text' style='width:238px'>objeto_detector:\tOBJETO&nbsp;&nbsp</span></label> <label class='tooltip'>conforme<span class='tooltip-text' style='width:238px'>objeto_detector:\tOBJETO&nbsp;&nbsp</span></label> <label class='tooltip'>especifica<span class='tooltip-text' style='width:238px'>objeto_detector:\tOBJETO&nbsp;&nbsp</span></label> <label class='tooltip'>o<span class='tooltip-text' style='width:238px'>objeto_detector:\tOBJETO&nbsp;&nbsp</span></label> <label class='tooltip'>termo<span class='tooltip-text' style='width:238px'>objeto_detector:\tOBJETO&nbsp;&nbsp</span></label> <label class='tooltip'>de<span class='tooltip-text' style='width:238px'>objeto_detector:\tOBJETO&nbsp;&nbsp</span></label> <label class='tooltip'>referência<span class='tooltip-text' style='width:238px'>objeto_detector:\tOBJETO&nbsp;&nbsp</span></label> <label class='tooltip'>às<span class='tooltip-text' style='width:238px'>objeto_detector:\tOBJETO&nbsp;&nbsp</span></label> <label class='tooltip'>fls<span class='tooltip-text' style='width:238px'>objeto_detector:\tOBJETO&nbsp;&nbsp</span></label>\n",
       "    <span style=\"font-size: 0.8em; font-weight: bold; line-height: 1; border-radius: 0.35em; vertical-align: middle; margin-left: 0.5rem\">OBJETO</span>\n",
       "</mark>\n",
       ". (02 a 11). \n",
       "<mark class=\"entity\" style=\"background: #ddd; padding: 0.45em 0.6em; margin: 0 0.25em; line-height: 1; border-radius: 0.35em;\">\n",
       "    <label class='tooltip'>Valor<span class='tooltip-text' style='width:224px'>valor_detector:\tVALOR&nbsp;&nbsp</span></label><label class='tooltip'>:<span class='tooltip-text' style='width:224px'>valor_detector:\tVALOR&nbsp;&nbsp</span></label> <label class='tooltip'>O<span class='tooltip-text' style='width:224px'>valor_detector:\tVALOR&nbsp;&nbsp</span></label> <label class='tooltip'>valor<span class='tooltip-text' style='width:224px'>valor_detector:\tVALOR&nbsp;&nbsp</span></label> <label class='tooltip'>total<span class='tooltip-text' style='width:224px'>valor_detector:\tVALOR&nbsp;&nbsp</span></label> <label class='tooltip'>do<span class='tooltip-text' style='width:224px'>valor_detector:\tVALOR&nbsp;&nbsp</span></label> <label class='tooltip'>Contrato<span class='tooltip-text' style='width:266px'>contrato_detector:\tCONTRATO&nbsp;&nbsp<br>valor_detector:\tVALOR&nbsp;&nbsp</span></label> <label class='tooltip'>é<span class='tooltip-text' style='width:266px'>contrato_detector:\tCONTRATO&nbsp;&nbsp<br>valor_detector:\tVALOR&nbsp;&nbsp</span></label> <label class='tooltip'>de<span class='tooltip-text' style='width:266px'>contrato_detector:\tCONTRATO&nbsp;&nbsp<br>valor_detector:\tVALOR&nbsp;&nbsp</span></label> <label class='tooltip'>R$<span class='tooltip-text' style='width:266px'>contrato_detector:\tCONTRATO&nbsp;&nbsp<br>valor_detector:\tVALOR&nbsp;&nbsp</span></label> <label class='tooltip'>120.788,12<span class='tooltip-text' style='width:266px'>contrato_detector:\tCONTRATO&nbsp;&nbsp<br>valor_detector:\tVALOR&nbsp;&nbsp</span></label> <label class='tooltip'>(<span class='tooltip-text' style='width:224px'>valor_detector:\tVALOR&nbsp;&nbsp</span></label><label class='tooltip'>cento<span class='tooltip-text' style='width:224px'>valor_detector:\tVALOR&nbsp;&nbsp</span></label> <label class='tooltip'>e<span class='tooltip-text' style='width:224px'>valor_detector:\tVALOR&nbsp;&nbsp</span></label> <label class='tooltip'>vinte<span class='tooltip-text' style='width:224px'>valor_detector:\tVALOR&nbsp;&nbsp</span></label> <label class='tooltip'>mil<span class='tooltip-text' style='width:224px'>valor_detector:\tVALOR&nbsp;&nbsp</span></label><label class='tooltip'>,<span class='tooltip-text' style='width:224px'>valor_detector:\tVALOR&nbsp;&nbsp</span></label> <label class='tooltip'>setecentos<span class='tooltip-text' style='width:224px'>valor_detector:\tVALOR&nbsp;&nbsp</span></label> <label class='tooltip'>e<span class='tooltip-text' style='width:224px'>valor_detector:\tVALOR&nbsp;&nbsp</span></label> <label class='tooltip'>oitenta<span class='tooltip-text' style='width:224px'>valor_detector:\tVALOR&nbsp;&nbsp</span></label> <label class='tooltip'>e<span class='tooltip-text' style='width:224px'>valor_detector:\tVALOR&nbsp;&nbsp</span></label> <label class='tooltip'>oito<span class='tooltip-text' style='width:224px'>valor_detector:\tVALOR&nbsp;&nbsp</span></label> <label class='tooltip'>reais<span class='tooltip-text' style='width:224px'>valor_detector:\tVALOR&nbsp;&nbsp</span></label> <label class='tooltip'>e<span class='tooltip-text' style='width:224px'>valor_detector:\tVALOR&nbsp;&nbsp</span></label> <label class='tooltip'>doze<span class='tooltip-text' style='width:224px'>valor_detector:\tVALOR&nbsp;&nbsp</span></label> <label class='tooltip'>centavos<span class='tooltip-text' style='width:224px'>valor_detector:\tVALOR&nbsp;&nbsp</span></label><label class='tooltip'>)<span class='tooltip-text' style='width:224px'>valor_detector:\tVALOR&nbsp;&nbsp</span></label><label class='tooltip'>,<span class='tooltip-text' style='width:224px'>valor_detector:\tVALOR&nbsp;&nbsp</span></label> <label class='tooltip'>devendo<span class='tooltip-text' style='width:224px'>valor_detector:\tVALOR&nbsp;&nbsp</span></label> <label class='tooltip'>a<span class='tooltip-text' style='width:224px'>valor_detector:\tVALOR&nbsp;&nbsp</span></label> <label class='tooltip'>importância<span class='tooltip-text' style='width:224px'>valor_detector:\tVALOR&nbsp;&nbsp</span></label> <label class='tooltip'>de<span class='tooltip-text' style='width:224px'>valor_detector:\tVALOR&nbsp;&nbsp</span></label> <label class='tooltip'>R$<span class='tooltip-text' style='width:224px'>valor_detector:\tVALOR&nbsp;&nbsp</span></label> <label class='tooltip'>100.656,76<span class='tooltip-text' style='width:224px'>valor_detector:\tVALOR&nbsp;&nbsp</span></label> <label class='tooltip'>(<span class='tooltip-text' style='width:224px'>valor_detector:\tVALOR&nbsp;&nbsp</span></label><label class='tooltip'>cem<span class='tooltip-text' style='width:224px'>valor_detector:\tVALOR&nbsp;&nbsp</span></label> <label class='tooltip'>mil<span class='tooltip-text' style='width:224px'>valor_detector:\tVALOR&nbsp;&nbsp</span></label><label class='tooltip'>,<span class='tooltip-text' style='width:224px'>valor_detector:\tVALOR&nbsp;&nbsp</span></label> <label class='tooltip'>seiscentos<span class='tooltip-text' style='width:224px'>valor_detector:\tVALOR&nbsp;&nbsp</span></label> <label class='tooltip'>e<span class='tooltip-text' style='width:224px'>valor_detector:\tVALOR&nbsp;&nbsp</span></label> <label class='tooltip'>cinqüenta<span class='tooltip-text' style='width:224px'>valor_detector:\tVALOR&nbsp;&nbsp</span></label> <label class='tooltip'>e<span class='tooltip-text' style='width:224px'>valor_detector:\tVALOR&nbsp;&nbsp</span></label> <label class='tooltip'>seis<span class='tooltip-text' style='width:224px'>valor_detector:\tVALOR&nbsp;&nbsp</span></label> <label class='tooltip'>mil<span class='tooltip-text' style='width:224px'>valor_detector:\tVALOR&nbsp;&nbsp</span></label> <label class='tooltip'>e<span class='tooltip-text' style='width:224px'>valor_detector:\tVALOR&nbsp;&nbsp</span></label> <label class='tooltip'>setenta<span class='tooltip-text' style='width:224px'>valor_detector:\tVALOR&nbsp;&nbsp</span></label> <label class='tooltip'>e<span class='tooltip-text' style='width:224px'>valor_detector:\tVALOR&nbsp;&nbsp</span></label> <label class='tooltip'>sete<span class='tooltip-text' style='width:224px'>valor_detector:\tVALOR&nbsp;&nbsp</span></label> <label class='tooltip'>centavos<span class='tooltip-text' style='width:224px'>valor_detector:\tVALOR&nbsp;&nbsp</span></label><label class='tooltip'>)<span class='tooltip-text' style='width:224px'>valor_detector:\tVALOR&nbsp;&nbsp</span></label> <label class='tooltip'>ser<span class='tooltip-text' style='width:224px'>valor_detector:\tVALOR&nbsp;&nbsp</span></label> <label class='tooltip'>atendida<span class='tooltip-text' style='width:224px'>valor_detector:\tVALOR&nbsp;&nbsp</span></label> <label class='tooltip'>à<span class='tooltip-text' style='width:224px'>valor_detector:\tVALOR&nbsp;&nbsp</span></label> <label class='tooltip'>conta<span class='tooltip-text' style='width:224px'>valor_detector:\tVALOR&nbsp;&nbsp</span></label> <label class='tooltip'>de<span class='tooltip-text' style='width:224px'>valor_detector:\tVALOR&nbsp;&nbsp</span></label> <label class='tooltip'>dotações<span class='tooltip-text' style='width:224px'>valor_detector:\tVALOR&nbsp;&nbsp</span></label> <label class='tooltip'>orçamentárias<span class='tooltip-text' style='width:224px'>valor_detector:\tVALOR&nbsp;&nbsp</span></label> <label class='tooltip'>consignadas<span class='tooltip-text' style='width:224px'>valor_detector:\tVALOR&nbsp;&nbsp</span></label> <label class='tooltip'>no<span class='tooltip-text' style='width:224px'>valor_detector:\tVALOR&nbsp;&nbsp</span></label> <label class='tooltip'>orçamento<span class='tooltip-text' style='width:224px'>valor_detector:\tVALOR&nbsp;&nbsp</span></label> <label class='tooltip'>corrente<span class='tooltip-text' style='width:224px'>valor_detector:\tVALOR&nbsp;&nbsp</span></label>\n",
       "    <span style=\"font-size: 0.8em; font-weight: bold; line-height: 1; border-radius: 0.35em; vertical-align: middle; margin-left: 0.5rem\">VALOR</span>\n",
       "</mark>\n",
       " – \n",
       "<mark class=\"entity\" style=\"background: #ddd; padding: 0.45em 0.6em; margin: 0 0.25em; line-height: 1; border-radius: 0.35em;\">\n",
       "    <label class='tooltip'>Lei<span class='tooltip-text' style='width:259px'>lei_orc_detector:\tLEI ORC.&nbsp;&nbsp</span></label> <label class='tooltip'>Orçamentária<span class='tooltip-text' style='width:259px'>lei_orc_detector:\tLEI ORC.&nbsp;&nbsp</span></label> <label class='tooltip'>nº<span class='tooltip-text' style='width:259px'>lei_orc_detector:\tLEI ORC.&nbsp;&nbsp</span></label> <label class='tooltip'>4.744/2011<span class='tooltip-text' style='width:259px'>lei_orc_detector:\tLEI ORC.&nbsp;&nbsp</span></label>\n",
       "    <span style=\"font-size: 0.8em; font-weight: bold; line-height: 1; border-radius: 0.35em; vertical-align: middle; margin-left: 0.5rem\">LEI ORC.</span>\n",
       "</mark>\n",
       ", enquanto que a parcela remanescente no valor de R$ 20.131,36 (vinte mil, cento e trinta e um reais e trinta e seis centavos) será custeada à conta de dotação a ser alocada no orçamento seguinte. Dotação Orçamentária: \n",
       "<mark class=\"entity\" style=\"background: #ddd; padding: 0.45em 0.6em; margin: 0 0.25em; line-height: 1; border-radius: 0.35em;\">\n",
       "    <label class='tooltip'>Unidade<span class='tooltip-text' style='width:287px'>unidade_orc_detector:\tUNI ORC.&nbsp;&nbsp</span></label> <label class='tooltip'>Orçamentária<span class='tooltip-text' style='width:287px'>unidade_orc_detector:\tUNI ORC.&nbsp;&nbsp</span></label><label class='tooltip'>:<span class='tooltip-text' style='width:287px'>unidade_orc_detector:\tUNI ORC.&nbsp;&nbsp</span></label> <label class='tooltip'>19101<span class='tooltip-text' style='width:287px'>unidade_orc_detector:\tUNI ORC.&nbsp;&nbsp</span></label>\n",
       "    <span style=\"font-size: 0.8em; font-weight: bold; line-height: 1; border-radius: 0.35em; vertical-align: middle; margin-left: 0.5rem\">UNI ORC.</span>\n",
       "</mark>\n",
       "; \n",
       "<mark class=\"entity\" style=\"background: #ddd; padding: 0.45em 0.6em; margin: 0 0.25em; line-height: 1; border-radius: 0.35em;\">\n",
       "    <label class='tooltip'>Programa<span class='tooltip-text' style='width:315px'>programa_trab_detector:\tPROG TRAB.&nbsp;&nbsp</span></label> <label class='tooltip'>de<span class='tooltip-text' style='width:315px'>programa_trab_detector:\tPROG TRAB.&nbsp;&nbsp</span></label> <label class='tooltip'>Trabalho<span class='tooltip-text' style='width:315px'>programa_trab_detector:\tPROG TRAB.&nbsp;&nbsp</span></label><label class='tooltip'>:<span class='tooltip-text' style='width:315px'>programa_trab_detector:\tPROG TRAB.&nbsp;&nbsp</span></label> <label class='tooltip'>04126620325570007<span class='tooltip-text' style='width:315px'>programa_trab_detector:\tPROG TRAB.&nbsp;&nbsp</span></label>\n",
       "    <span style=\"font-size: 0.8em; font-weight: bold; line-height: 1; border-radius: 0.35em; vertical-align: middle; margin-left: 0.5rem\">PROG TRAB.</span>\n",
       "</mark>\n",
       ", \n",
       "<mark class=\"entity\" style=\"background: #ddd; padding: 0.45em 0.6em; margin: 0 0.25em; line-height: 1; border-radius: 0.35em;\">\n",
       "    <label class='tooltip'>Natureza<span class='tooltip-text' style='width:308px'>natureza_desp_detector:\tNAT DESP.&nbsp;&nbsp</span></label> <label class='tooltip'>da<span class='tooltip-text' style='width:308px'>natureza_desp_detector:\tNAT DESP.&nbsp;&nbsp</span></label> <label class='tooltip'>Despesa<span class='tooltip-text' style='width:308px'>natureza_desp_detector:\tNAT DESP.&nbsp;&nbsp</span></label><label class='tooltip'>:<span class='tooltip-text' style='width:308px'>natureza_desp_detector:\tNAT DESP.&nbsp;&nbsp</span></label> <label class='tooltip'>339039<span class='tooltip-text' style='width:308px'>natureza_desp_detector:\tNAT DESP.&nbsp;&nbsp</span></label>\n",
       "    <span style=\"font-size: 0.8em; font-weight: bold; line-height: 1; border-radius: 0.35em; vertical-align: middle; margin-left: 0.5rem\">NAT DESP.</span>\n",
       "</mark>\n",
       "; Fonte de Recursos 100. \n",
       "<mark class=\"entity\" style=\"background: #ddd; padding: 0.45em 0.6em; margin: 0 0.25em; line-height: 1; border-radius: 0.35em;\">\n",
       "    <label class='tooltip'>Data<span class='tooltip-text' style='width:245px'>data_detector:\tDATA ASS.&nbsp;&nbsp</span></label> <label class='tooltip'>da<span class='tooltip-text' style='width:245px'>data_detector:\tDATA ASS.&nbsp;&nbsp</span></label> <label class='tooltip'>Assinatura<span class='tooltip-text' style='width:245px'>data_detector:\tDATA ASS.&nbsp;&nbsp</span></label><label class='tooltip'>:<span class='tooltip-text' style='width:245px'>data_detector:\tDATA ASS.&nbsp;&nbsp</span></label> <label class='tooltip'>25/02/2013<span class='tooltip-text' style='width:245px'>data_detector:\tDATA ASS.&nbsp;&nbsp</span></label>\n",
       "    <span style=\"font-size: 0.8em; font-weight: bold; line-height: 1; border-radius: 0.35em; vertical-align: middle; margin-left: 0.5rem\">DATA ASS.</span>\n",
       "</mark>\n",
       ". \n",
       "<mark class=\"entity\" style=\"background: #ddd; padding: 0.45em 0.6em; margin: 0 0.25em; line-height: 1; border-radius: 0.35em;\">\n",
       "    <label class='tooltip'>Signatários<span class='tooltip-text' style='width:308px'>signatarios_detector:\tSIGNATARIOS&nbsp;&nbsp</span></label><label class='tooltip'>:<span class='tooltip-text' style='width:308px'>signatarios_detector:\tSIGNATARIOS&nbsp;&nbsp</span></label> <label class='tooltip'>Pelo<span class='tooltip-text' style='width:308px'>signatarios_detector:\tSIGNATARIOS&nbsp;&nbsp</span></label> <label class='tooltip'>Distrito<span class='tooltip-text' style='width:308px'>signatarios_detector:\tSIGNATARIOS&nbsp;&nbsp</span></label> <label class='tooltip'>Federal<span class='tooltip-text' style='width:308px'>signatarios_detector:\tSIGNATARIOS&nbsp;&nbsp</span></label><label class='tooltip'>:<span class='tooltip-text' style='width:308px'>signatarios_detector:\tSIGNATARIOS&nbsp;&nbsp</span></label> <label class='tooltip'>Eunice<span class='tooltip-text' style='width:308px'>signatarios_detector:\tSIGNATARIOS&nbsp;&nbsp</span></label> <label class='tooltip'>de<span class='tooltip-text' style='width:308px'>signatarios_detector:\tSIGNATARIOS&nbsp;&nbsp</span></label> <label class='tooltip'>Oliveira<span class='tooltip-text' style='width:308px'>signatarios_detector:\tSIGNATARIOS&nbsp;&nbsp</span></label> <label class='tooltip'>Ferreira<span class='tooltip-text' style='width:308px'>signatarios_detector:\tSIGNATARIOS&nbsp;&nbsp</span></label> <label class='tooltip'>Santos<span class='tooltip-text' style='width:308px'>signatarios_detector:\tSIGNATARIOS&nbsp;&nbsp</span></label><label class='tooltip'>,<span class='tooltip-text' style='width:308px'>signatarios_detector:\tSIGNATARIOS&nbsp;&nbsp</span></label> <label class='tooltip'>na<span class='tooltip-text' style='width:308px'>signatarios_detector:\tSIGNATARIOS&nbsp;&nbsp</span></label> <label class='tooltip'>qualidade<span class='tooltip-text' style='width:308px'>signatarios_detector:\tSIGNATARIOS&nbsp;&nbsp</span></label> <label class='tooltip'>de<span class='tooltip-text' style='width:308px'>signatarios_detector:\tSIGNATARIOS&nbsp;&nbsp</span></label> <label class='tooltip'>Subsecretária<span class='tooltip-text' style='width:308px'>signatarios_detector:\tSIGNATARIOS&nbsp;&nbsp</span></label> <label class='tooltip'>de<span class='tooltip-text' style='width:308px'>signatarios_detector:\tSIGNATARIOS&nbsp;&nbsp</span></label> <label class='tooltip'>Administração<span class='tooltip-text' style='width:308px'>signatarios_detector:\tSIGNATARIOS&nbsp;&nbsp</span></label> <label class='tooltip'>Geral<span class='tooltip-text' style='width:308px'>signatarios_detector:\tSIGNATARIOS&nbsp;&nbsp</span></label> <label class='tooltip'>da<span class='tooltip-text' style='width:308px'>signatarios_detector:\tSIGNATARIOS&nbsp;&nbsp</span></label> <label class='tooltip'>Secretaria<span class='tooltip-text' style='width:308px'>signatarios_detector:\tSIGNATARIOS&nbsp;&nbsp</span></label> <label class='tooltip'>de<span class='tooltip-text' style='width:308px'>signatarios_detector:\tSIGNATARIOS&nbsp;&nbsp</span></label> <label class='tooltip'>Estado<span class='tooltip-text' style='width:308px'>signatarios_detector:\tSIGNATARIOS&nbsp;&nbsp</span></label> <label class='tooltip'>de<span class='tooltip-text' style='width:308px'>signatarios_detector:\tSIGNATARIOS&nbsp;&nbsp</span></label> <label class='tooltip'>Fazenda<span class='tooltip-text' style='width:308px'>signatarios_detector:\tSIGNATARIOS&nbsp;&nbsp</span></label> <label class='tooltip'>do<span class='tooltip-text' style='width:308px'>signatarios_detector:\tSIGNATARIOS&nbsp;&nbsp</span></label> <label class='tooltip'>Distrito<span class='tooltip-text' style='width:308px'>signatarios_detector:\tSIGNATARIOS&nbsp;&nbsp</span></label> <label class='tooltip'>Federal<span class='tooltip-text' style='width:308px'>signatarios_detector:\tSIGNATARIOS&nbsp;&nbsp</span></label> <label class='tooltip'>/<span class='tooltip-text' style='width:308px'>signatarios_detector:\tSIGNATARIOS&nbsp;&nbsp</span></label> <label class='tooltip'>SUAG<span class='tooltip-text' style='width:308px'>signatarios_detector:\tSIGNATARIOS&nbsp;&nbsp</span></label><label class='tooltip'>/<span class='tooltip-text' style='width:308px'>signatarios_detector:\tSIGNATARIOS&nbsp;&nbsp</span></label><label class='tooltip'>SEF<span class='tooltip-text' style='width:308px'>signatarios_detector:\tSIGNATARIOS&nbsp;&nbsp</span></label><label class='tooltip'>;<span class='tooltip-text' style='width:308px'>signatarios_detector:\tSIGNATARIOS&nbsp;&nbsp</span></label> <label class='tooltip'>Pela<span class='tooltip-text' style='width:308px'>signatarios_detector:\tSIGNATARIOS&nbsp;&nbsp</span></label> <label class='tooltip'>Contratada<span class='tooltip-text' style='width:308px'>signatarios_detector:\tSIGNATARIOS&nbsp;&nbsp</span></label><label class='tooltip'>:<span class='tooltip-text' style='width:308px'>signatarios_detector:\tSIGNATARIOS&nbsp;&nbsp</span></label> <label class='tooltip'>Darcilene<span class='tooltip-text' style='width:308px'>signatarios_detector:\tSIGNATARIOS&nbsp;&nbsp</span></label> <label class='tooltip'>Sepúlveda<span class='tooltip-text' style='width:308px'>signatarios_detector:\tSIGNATARIOS&nbsp;&nbsp</span></label> <label class='tooltip'>Contaifer<span class='tooltip-text' style='width:308px'>signatarios_detector:\tSIGNATARIOS&nbsp;&nbsp</span></label><label class='tooltip'>,<span class='tooltip-text' style='width:308px'>signatarios_detector:\tSIGNATARIOS&nbsp;&nbsp</span></label> <label class='tooltip'>na<span class='tooltip-text' style='width:308px'>signatarios_detector:\tSIGNATARIOS&nbsp;&nbsp</span></label> <label class='tooltip'>qualidade<span class='tooltip-text' style='width:308px'>signatarios_detector:\tSIGNATARIOS&nbsp;&nbsp</span></label> <label class='tooltip'>de<span class='tooltip-text' style='width:308px'>signatarios_detector:\tSIGNATARIOS&nbsp;&nbsp</span></label> <label class='tooltip'>Procuradora<span class='tooltip-text' style='width:308px'>signatarios_detector:\tSIGNATARIOS&nbsp;&nbsp</span></label>\n",
       "    <span style=\"font-size: 0.8em; font-weight: bold; line-height: 1; border-radius: 0.35em; vertical-align: middle; margin-left: 0.5rem\">SIGNATARIOS</span>\n",
       "</mark>\n",
       ".</div></span>"
      ],
      "text/plain": [
       "<IPython.core.display.HTML object>"
      ]
     },
     "metadata": {}
    }
   ],
   "metadata": {}
  },
  {
   "cell_type": "code",
   "execution_count": 86,
   "source": [
    "for doc in docs:\r\n",
    "    doc.ents = doc.spans[\"hmm\"]\r\n",
    "skweak.utils.docbin_writer(docs, \"./data/reuters_small.spacy\")"
   ],
   "outputs": [
    {
     "output_type": "stream",
     "name": "stdout",
     "text": [
      "Write to ./data/reuters_small.spacy...done\n"
     ]
    }
   ],
   "metadata": {}
  },
  {
   "cell_type": "code",
   "execution_count": 87,
   "source": [
    "!spacy init config - --lang pt --pipeline ner --optimize accuracy | spacy train - --paths.train ./data/reuters_small.spacy  --paths.dev ./data/reuters_small.spacy --initialize.vectors pt_core_news_sm --output ./data/reuters_small"
   ],
   "outputs": [
    {
     "output_type": "stream",
     "name": "stdout",
     "text": [
      "ℹ Saving to output directory: data\\reuters_small"
     ]
    },
    {
     "output_type": "stream",
     "name": "stderr",
     "text": [
      "[2021-09-27 16:57:25,639] [INFO] Set up nlp object from config\n",
      "[2021-09-27 16:57:25,687] [INFO] Pipeline: ['tok2vec', 'ner']\n",
      "[2021-09-27 16:57:25,693] [INFO] Created vocabulary\n",
      "[2021-09-27 16:57:30,052] [WARNING] [W112] The model specified to use for initial vectors (pt_core_news_sm) has no vectors. This is almost certainly a mistake.\n",
      "[2021-09-27 16:57:30,055] [INFO] Added vectors: pt_core_news_sm\n",
      "[2021-09-27 16:57:30,056] [INFO] Finished initializing nlp object\n",
      "[2021-09-27 16:57:37,804] [INFO] Initialized pipeline components: ['tok2vec', 'ner']\n"
     ]
    },
    {
     "output_type": "stream",
     "name": "stdout",
     "text": [
      "\n",
      "ℹ Using CPU\n",
      "\u001b[1m\n",
      "=========================== Initializing pipeline ===========================\u001b[0m\n",
      "✔ Initialized pipeline\n",
      "\u001b[1m\n",
      "============================= Training pipeline =============================\u001b[0m\n",
      "ℹ Pipeline: ['tok2vec', 'ner']\n",
      "ℹ Initial learn rate: 0.001\n",
      "E    #       LOSS TOK2VEC  LOSS NER  ENTS_F  ENTS_P  ENTS_R  SCORE \n",
      "---  ------  ------------  --------  ------  ------  ------  ------\n",
      "  0       0          0.00    205.30    0.00    0.00    0.00    0.00\n",
      " 11     200       6912.31  13017.12   92.76   94.02   91.53    0.93\n",
      " 22     400       1048.74    507.38   99.20   99.47   98.94    0.99\n",
      " 33     600         50.03     67.57  100.00  100.00  100.00    1.00\n",
      " 44     800          0.19      0.86  100.00  100.00  100.00    1.00\n",
      " 55    1000          1.08      4.66  100.00  100.00  100.00    1.00\n",
      " 66    1200          0.00      0.00  100.00  100.00  100.00    1.00\n",
      " 77    1400          0.00      0.00  100.00  100.00  100.00    1.00\n",
      " 88    1600          0.00      0.00  100.00  100.00  100.00    1.00\n",
      "100    1800          0.00      0.00  100.00  100.00  100.00    1.00\n",
      "111    2000          0.00      0.00  100.00  100.00  100.00    1.00\n",
      "122    2200          0.00      0.00  100.00  100.00  100.00    1.00\n",
      "✔ Saved pipeline to output directory\n",
      "data\\reuters_small\\model-last\n"
     ]
    }
   ],
   "metadata": {}
  },
  {
   "cell_type": "code",
   "execution_count": 88,
   "source": [
    "nlp = spacy.load(\"./data/reuters_small/model-best\")"
   ],
   "outputs": [],
   "metadata": {}
  },
  {
   "cell_type": "code",
   "execution_count": 90,
   "source": [
    "skweak.utils.display_entities(nlp(texto[2]))"
   ],
   "outputs": [
    {
     "output_type": "display_data",
     "data": {
      "text/html": [
       "<span class=\"tex2jax_ignore\"><div class=\"entities\" style=\"line-height: 2.5; direction: ltr\">EXTRATO DO \n",
       "<mark class=\"entity\" style=\"background: #ddd; padding: 0.45em 0.6em; margin: 0 0.25em; line-height: 1; border-radius: 0.35em;\">\n",
       "    CONTRATO Nº 38/2013\n",
       "    <span style=\"font-size: 0.8em; font-weight: bold; line-height: 1; border-radius: 0.35em; vertical-align: middle; margin-left: 0.5rem\">CONTRATO</span>\n",
       "</mark>\n",
       ". \n",
       "<mark class=\"entity\" style=\"background: #ddd; padding: 0.45em 0.6em; margin: 0 0.25em; line-height: 1; border-radius: 0.35em;\">\n",
       "    Processo 040.001.626/2013\n",
       "    <span style=\"font-size: 0.8em; font-weight: bold; line-height: 1; border-radius: 0.35em; vertical-align: middle; margin-left: 0.5rem\">PROCESSO</span>\n",
       "</mark>\n",
       " - \n",
       "<mark class=\"entity\" style=\"background: #ddd; padding: 0.45em 0.6em; margin: 0 0.25em; line-height: 1; border-radius: 0.35em;\">\n",
       "    Partes: DF/SEF x PAULISTA SERVIÇOS E TRANSPORTES LTDA\n",
       "    <span style=\"font-size: 0.8em; font-weight: bold; line-height: 1; border-radius: 0.35em; vertical-align: middle; margin-left: 0.5rem\">PARTES</span>\n",
       "</mark>\n",
       ". \n",
       "<mark class=\"entity\" style=\"background: #ddd; padding: 0.45em 0.6em; margin: 0 0.25em; line-height: 1; border-radius: 0.35em;\">\n",
       "    Objeto: O Contrato tem por objeto a contratação de empresa especializada para prestação de serviços terceirizados de recepção e secretariado\n",
       "    <span style=\"font-size: 0.8em; font-weight: bold; line-height: 1; border-radius: 0.35em; vertical-align: middle; margin-left: 0.5rem\">OBJETO</span>\n",
       "</mark>\n",
       ". \n",
       "<mark class=\"entity\" style=\"background: #ddd; padding: 0.45em 0.6em; margin: 0 0.25em; line-height: 1; border-radius: 0.35em;\">\n",
       "    Vigência: O contrato terá vigência de 12 (doze) meses, a partir de sua assinatura, com eficácia a partir de sua publicação, podendo ser prorrogado por iguais e sucessivos períodos até o limite de 60 (sessenta) meses\n",
       "    <span style=\"font-size: 0.8em; font-weight: bold; line-height: 1; border-radius: 0.35em; vertical-align: middle; margin-left: 0.5rem\">VIGENCIA</span>\n",
       "</mark>\n",
       ". \n",
       "<mark class=\"entity\" style=\"background: #ddd; padding: 0.45em 0.6em; margin: 0 0.25em; line-height: 1; border-radius: 0.35em;\">\n",
       "    Valor: O valor total do Contrato é de R$ 920.725,56 (novecentos e vinte mil setecentos e vinte e cinco reais e cinquenta e seis centavos), devendo a importância de R$ 460.362,78(quatrocentos e sessenta mil trezentos e sessenta e dois reais e setenta e oito centavos) ser atendida à conta de dotações orçamentárias consignadas no orçamento corrente\n",
       "    <span style=\"font-size: 0.8em; font-weight: bold; line-height: 1; border-radius: 0.35em; vertical-align: middle; margin-left: 0.5rem\">VALOR</span>\n",
       "</mark>\n",
       " – \n",
       "<mark class=\"entity\" style=\"background: #ddd; padding: 0.45em 0.6em; margin: 0 0.25em; line-height: 1; border-radius: 0.35em;\">\n",
       "    Lei Orçamentária nº 5.011\n",
       "    <span style=\"font-size: 0.8em; font-weight: bold; line-height: 1; border-radius: 0.35em; vertical-align: middle; margin-left: 0.5rem\">LEI ORC.</span>\n",
       "</mark>\n",
       ", de 28.12.2012, enquanto a parcela remanescente será custeada à conta de dotações a serem alocadas no(s) orçamento(s) seguinte(s). Dotação Orçamentária: \n",
       "<mark class=\"entity\" style=\"background: #ddd; padding: 0.45em 0.6em; margin: 0 0.25em; line-height: 1; border-radius: 0.35em;\">\n",
       "    Unidade Orçamentária: 130103\n",
       "    <span style=\"font-size: 0.8em; font-weight: bold; line-height: 1; border-radius: 0.35em; vertical-align: middle; margin-left: 0.5rem\">UNI ORC.</span>\n",
       "</mark>\n",
       "; \n",
       "<mark class=\"entity\" style=\"background: #ddd; padding: 0.45em 0.6em; margin: 0 0.25em; line-height: 1; border-radius: 0.35em;\">\n",
       "    Programa de Trabalho: 04122.6003.8517.0051\n",
       "    <span style=\"font-size: 0.8em; font-weight: bold; line-height: 1; border-radius: 0.35em; vertical-align: middle; margin-left: 0.5rem\">PROG TRAB.</span>\n",
       "</mark>\n",
       "; \n",
       "<mark class=\"entity\" style=\"background: #ddd; padding: 0.45em 0.6em; margin: 0 0.25em; line-height: 1; border-radius: 0.35em;\">\n",
       "    Natureza da Despesa: 33.90.37\n",
       "    <span style=\"font-size: 0.8em; font-weight: bold; line-height: 1; border-radius: 0.35em; vertical-align: middle; margin-left: 0.5rem\">NAT DESP.</span>\n",
       "</mark>\n",
       "; Fonte de Recursos: 100. \n",
       "<mark class=\"entity\" style=\"background: #ddd; padding: 0.45em 0.6em; margin: 0 0.25em; line-height: 1; border-radius: 0.35em;\">\n",
       "    Data da Assinatura: 09/07/2013\n",
       "    <span style=\"font-size: 0.8em; font-weight: bold; line-height: 1; border-radius: 0.35em; vertical-align: middle; margin-left: 0.5rem\">DATA ASS.</span>\n",
       "</mark>\n",
       ". \n",
       "<mark class=\"entity\" style=\"background: #ddd; padding: 0.45em 0.6em; margin: 0 0.25em; line-height: 1; border-radius: 0.35em;\">\n",
       "    Signatários: Pelo Distrito Federal: Adonias dos Reis Santiago, na qualidade de Secretário de Estado de Fazenda do Distrito Federal; Pela Contratada: Almon Botelho de Alvarenga Júnior, na qualidade de Sócio Diretor\n",
       "    <span style=\"font-size: 0.8em; font-weight: bold; line-height: 1; border-radius: 0.35em; vertical-align: middle; margin-left: 0.5rem\">SIGNATARIOS</span>\n",
       "</mark>\n",
       ".</div></span>"
      ],
      "text/plain": [
       "<IPython.core.display.HTML object>"
      ]
     },
     "metadata": {}
    }
   ],
   "metadata": {}
  },
  {
   "cell_type": "code",
   "execution_count": 91,
   "source": [
    "txt=\"EXTRATO DO CONTRATO Nº 13/2014 Processo 410.000.434/2014 – DAS PARTES:SEPLAN x SERVEGEL – APOIO ADMINISTRATIVO E SUPORTE OPERACIONAL LTDA. DO PROCEDIMENTO: O presente Contrato obedece aos termos do EDITAL DE LICITAÇÃO DE PREGÃO ELETRONICO N.º 151/ 2012 – SULIC/SEPLAN (fls. 03 a 149) oriundo do processo licitatório autuado sob nº 411.000.023/ 2012. DO OBJETO: O Contrato tem por objeto a contratação de empresa especializada para realizar a prestação de serviços continuados de limpeza asseio e conservação nos próprios do Governo do Distrito Federal com fornecimento de mão-de-obra materiais e equipamentos conforme especificações e condições estabelecidas no Anexo I do Edital LOTE 11 consoante especificam o EDITAL DE LICITAÇÃO DE PREGÃO ELETRONICO N.º 151/2012 – SULIC/SEPLAN (fls. 03 a 149) oriundo do processo licitatório autuado sob nº 411.000.023/2012. DO VALOR: O valor total do contrato é de R$ 5.645.716,32 >(cinco milhões seiscentos e quarenta e cinco mil setecentos e dezesseis reais e trinta e dois centavos). DA DOTAÇÃO ORÇAMENTÁRIA: A despesa correrá à conta da seguinte Dotação Orçamentária: I – Unidade Orçamentária: 32.101; II – Programa de Trabalho: 04.122.6003.2990.0006; III – Natureza da Despesa: 3.3.90.37; IV – Fonte de Recursos: 100; V – Nota de Empenho: 2014NE00621. DO PRAZO DE VIGÊNCIA: O contrato terá vigência de 12 (doze) meses a contar da data de sua assinatura. DA ASSINATURA: 08/05/2014. DOS SIGNATÁRIOS: Pela SEPLAN: Paulo Antenor de Oliveira na qualidade de Secretário de Estado e pela CONTRATADA: Marcelo Henry Soares Monteiro, na qualidade de Sócio-Proprietário da Empresa\"\r\n",
    "\r\n",
    "skweak.utils.display_entities(nlp(txt))"
   ],
   "outputs": [
    {
     "output_type": "display_data",
     "data": {
      "text/html": [
       "<span class=\"tex2jax_ignore\"><div class=\"entities\" style=\"line-height: 2.5; direction: ltr\">EXTRATO DO \n",
       "<mark class=\"entity\" style=\"background: #ddd; padding: 0.45em 0.6em; margin: 0 0.25em; line-height: 1; border-radius: 0.35em;\">\n",
       "    CONTRATO Nº 13/2014\n",
       "    <span style=\"font-size: 0.8em; font-weight: bold; line-height: 1; border-radius: 0.35em; vertical-align: middle; margin-left: 0.5rem\">CONTRATO</span>\n",
       "</mark>\n",
       " \n",
       "<mark class=\"entity\" style=\"background: #ddd; padding: 0.45em 0.6em; margin: 0 0.25em; line-height: 1; border-radius: 0.35em;\">\n",
       "    Processo 410.000.434/2014 – DAS PARTES:SEPLAN x SERVEGEL – APOIO ADMINISTRATIVO E SUPORTE OPERACIONAL LTDA\n",
       "    <span style=\"font-size: 0.8em; font-weight: bold; line-height: 1; border-radius: 0.35em; vertical-align: middle; margin-left: 0.5rem\">PROCESSO</span>\n",
       "</mark>\n",
       ". DO \n",
       "<mark class=\"entity\" style=\"background: #ddd; padding: 0.45em 0.6em; margin: 0 0.25em; line-height: 1; border-radius: 0.35em;\">\n",
       "    PROCEDIMENTO: O presente Contrato obedece aos termos do EDITAL DE LICITAÇÃO DE PREGÃO ELETRONICO N.º 151/ 2012 – SULIC/SEPLAN (fls\n",
       "    <span style=\"font-size: 0.8em; font-weight: bold; line-height: 1; border-radius: 0.35em; vertical-align: middle; margin-left: 0.5rem\">PARTES</span>\n",
       "</mark>\n",
       ". 03 a 149) oriundo do processo licitatório autuado sob nº 411.000.023/ 2012. DO \n",
       "<mark class=\"entity\" style=\"background: #ddd; padding: 0.45em 0.6em; margin: 0 0.25em; line-height: 1; border-radius: 0.35em;\">\n",
       "    OBJETO: O Contrato tem por objeto a contratação de empresa especializada para realizar a prestação de serviços continuados de limpeza asseio e conservação nos próprios do Governo do Distrito Federal com fornecimento de mão-de-obra materiais e equipamentos conforme especificações e condições estabelecidas no Anexo I do Edital LOTE 11 consoante especificam o EDITAL DE LICITAÇÃO DE PREGÃO ELETRONICO N.º 151/2012 – SULIC/SEPLAN (fls\n",
       "    <span style=\"font-size: 0.8em; font-weight: bold; line-height: 1; border-radius: 0.35em; vertical-align: middle; margin-left: 0.5rem\">OBJETO</span>\n",
       "</mark>\n",
       ". 03 a 149) oriundo do processo licitatório autuado sob nº 411.000.023/2012. DO \n",
       "<mark class=\"entity\" style=\"background: #ddd; padding: 0.45em 0.6em; margin: 0 0.25em; line-height: 1; border-radius: 0.35em;\">\n",
       "    VALOR: O valor total do contrato é de R$ 5.645.716,32 &gt;(cinco milhões seiscentos e quarenta e cinco mil setecentos e dezesseis reais e trinta e dois centavos)\n",
       "    <span style=\"font-size: 0.8em; font-weight: bold; line-height: 1; border-radius: 0.35em; vertical-align: middle; margin-left: 0.5rem\">VALOR</span>\n",
       "</mark>\n",
       ". DA DOTAÇÃO ORÇAMENTÁRIA: A despesa correrá à conta da seguinte Dotação Orçamentária: I – \n",
       "<mark class=\"entity\" style=\"background: #ddd; padding: 0.45em 0.6em; margin: 0 0.25em; line-height: 1; border-radius: 0.35em;\">\n",
       "    Unidade Orçamentária: 32.101\n",
       "    <span style=\"font-size: 0.8em; font-weight: bold; line-height: 1; border-radius: 0.35em; vertical-align: middle; margin-left: 0.5rem\">UNI ORC.</span>\n",
       "</mark>\n",
       "; II – \n",
       "<mark class=\"entity\" style=\"background: #ddd; padding: 0.45em 0.6em; margin: 0 0.25em; line-height: 1; border-radius: 0.35em;\">\n",
       "    Programa de Trabalho: 04.122.6003.2990.0006\n",
       "    <span style=\"font-size: 0.8em; font-weight: bold; line-height: 1; border-radius: 0.35em; vertical-align: middle; margin-left: 0.5rem\">PROG TRAB.</span>\n",
       "</mark>\n",
       "; III – \n",
       "<mark class=\"entity\" style=\"background: #ddd; padding: 0.45em 0.6em; margin: 0 0.25em; line-height: 1; border-radius: 0.35em;\">\n",
       "    Natureza da Despesa: 3.3.90.37\n",
       "    <span style=\"font-size: 0.8em; font-weight: bold; line-height: 1; border-radius: 0.35em; vertical-align: middle; margin-left: 0.5rem\">NAT DESP.</span>\n",
       "</mark>\n",
       "; IV – Fonte de Recursos: 100; V – Nota de Empenho: 2014NE00621. DO PRAZO DE \n",
       "<mark class=\"entity\" style=\"background: #ddd; padding: 0.45em 0.6em; margin: 0 0.25em; line-height: 1; border-radius: 0.35em;\">\n",
       "    VIGÊNCIA: O contrato terá vigência de 12 (doze) meses a contar da data de sua assinatura\n",
       "    <span style=\"font-size: 0.8em; font-weight: bold; line-height: 1; border-radius: 0.35em; vertical-align: middle; margin-left: 0.5rem\">VIGENCIA</span>\n",
       "</mark>\n",
       ". DA ASSINATURA: 08/05/2014. DOS SIGNATÁRIOS: Pela SEPLAN: Paulo Antenor de Oliveira na qualidade de Secretário de Estado e pela CONTRATADA: Marcelo Henry Soares Monteiro, na qualidade de Sócio-Proprietário da Empresa</div></span>"
      ],
      "text/plain": [
       "<IPython.core.display.HTML object>"
      ]
     },
     "metadata": {}
    }
   ],
   "metadata": {}
  }
 ],
 "metadata": {
  "orig_nbformat": 4,
  "language_info": {
   "name": "python",
   "version": "3.9.0",
   "mimetype": "text/x-python",
   "codemirror_mode": {
    "name": "ipython",
    "version": 3
   },
   "pygments_lexer": "ipython3",
   "nbconvert_exporter": "python",
   "file_extension": ".py"
  },
  "kernelspec": {
   "name": "python3",
   "display_name": "Python 3.9.0 64-bit"
  },
  "interpreter": {
   "hash": "2d25926b55a4539beca7d758de54297df14d66ce24d1152a498ace6368316fe6"
  }
 },
 "nbformat": 4,
 "nbformat_minor": 2
}