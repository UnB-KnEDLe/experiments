{
 "cells": [
  {
   "cell_type": "code",
   "execution_count": null,
   "metadata": {},
   "outputs": [],
   "source": [
    "simbolos_pontuacao = [\"'\", '\"', \",\", \".\", \"!\", \":\", \";\", '#', '@', '-']\n",
    "texto = ['Lorem : \"ipsum\" \\'dolor\\', sit ! Amet ; bla ... bl @ #etc #, whiskas sache !!']\n",
    "\n",
    "# incluí um elemento com mais de um caractere\n",
    "simbolos_pontuacao = ['...', \"'\", '\"', \",\", \"!\", \":\", \";\", '#', '@']\n",
    "\n",
    "\n",
    "import re\n",
    "\n",
    "for c in simbolos_pontuacao:\n",
    "    r = re.compile('({\"|\".join(map(\"\\s+$\", \"\"))})',texto)\n",
    "#texto = r.sub('', texto)\n",
    "\n",
    "print(r) # Lorem ipsum dolor sit Amet blabl etc whiskas sache\n"
   ]
  },
  {
   "cell_type": "markdown",
   "metadata": {},
   "source": []
  }
 ],
 "metadata": {
  "language_info": {
   "name": "plaintext"
  },
  "orig_nbformat": 4
 },
 "nbformat": 4,
 "nbformat_minor": 2
}
