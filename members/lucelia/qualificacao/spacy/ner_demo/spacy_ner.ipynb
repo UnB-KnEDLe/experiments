{
 "cells": [
  {
   "cell_type": "markdown",
   "metadata": {},
   "source": [
    "# Step 1 - Instaal Spacy 3.1.2 library"
   ]
  },
  {
   "cell_type": "code",
   "execution_count": null,
   "metadata": {},
   "outputs": [],
   "source": [
    "!pip install -U spacy"
   ]
  },
  {
   "cell_type": "markdown",
   "metadata": {},
   "source": [
    "# Step 2 - download PT-BR Model"
   ]
  },
  {
   "cell_type": "code",
   "execution_count": null,
   "metadata": {},
   "outputs": [],
   "source": [
    "!python -m spacy download pt_core_news_sm"
   ]
  },
  {
   "cell_type": "markdown",
   "metadata": {},
   "source": [
    "# Step 3 - Clone the project:"
   ]
  },
  {
   "cell_type": "code",
   "execution_count": null,
   "metadata": {},
   "outputs": [],
   "source": [
    "#The pipelines/ner_demo project converts the spaCy v2 train_ner.py demo script into a spaCy v3 project.\n",
    "    \n",
    "!python -m spacy project clone pipelines/ner_demo"
   ]
  },
  {
   "cell_type": "markdown",
   "metadata": {},
   "source": [
    "# Step 4 - Install requirements and download any data assets:"
   ]
  },
  {
   "cell_type": "code",
   "execution_count": 1,
   "metadata": {},
   "outputs": [
    {
     "name": "stdout",
     "output_type": "stream",
     "text": [
      "Requirement already satisfied: spacy-streamlit>=1.0.0a0 in /usr/local/anaconda3/lib/python3.7/site-packages (from -r /Users/pessoal/spacy/ner_demo/requirements.txt (line 1)) (1.0.1)\n",
      "Requirement already satisfied: streamlit>=0.68.0 in /usr/local/anaconda3/lib/python3.7/site-packages (from spacy-streamlit>=1.0.0a0->-r /Users/pessoal/spacy/ner_demo/requirements.txt (line 1)) (0.87.0)\n",
      "Requirement already satisfied: pandas in /usr/local/anaconda3/lib/python3.7/site-packages (from spacy-streamlit>=1.0.0a0->-r /Users/pessoal/spacy/ner_demo/requirements.txt (line 1)) (1.1.0)\n",
      "Requirement already satisfied: spacy<4.0.0,>=3.0.0 in /usr/local/anaconda3/lib/python3.7/site-packages (from spacy-streamlit>=1.0.0a0->-r /Users/pessoal/spacy/ner_demo/requirements.txt (line 1)) (3.1.2)\n",
      "Requirement already satisfied: attrs in /usr/local/anaconda3/lib/python3.7/site-packages (from streamlit>=0.68.0->spacy-streamlit>=1.0.0a0->-r /Users/pessoal/spacy/ner_demo/requirements.txt (line 1)) (19.2.0)\n",
      "Requirement already satisfied: tzlocal in /usr/local/anaconda3/lib/python3.7/site-packages (from streamlit>=0.68.0->spacy-streamlit>=1.0.0a0->-r /Users/pessoal/spacy/ner_demo/requirements.txt (line 1)) (3.0)\n",
      "Requirement already satisfied: pyarrow in /usr/local/anaconda3/lib/python3.7/site-packages (from streamlit>=0.68.0->spacy-streamlit>=1.0.0a0->-r /Users/pessoal/spacy/ner_demo/requirements.txt (line 1)) (5.0.0)\n",
      "Requirement already satisfied: altair>=3.2.0 in /usr/local/anaconda3/lib/python3.7/site-packages (from streamlit>=0.68.0->spacy-streamlit>=1.0.0a0->-r /Users/pessoal/spacy/ner_demo/requirements.txt (line 1)) (4.1.0)\n",
      "Requirement already satisfied: validators in /usr/local/anaconda3/lib/python3.7/site-packages (from streamlit>=0.68.0->spacy-streamlit>=1.0.0a0->-r /Users/pessoal/spacy/ner_demo/requirements.txt (line 1)) (0.18.2)\n",
      "Requirement already satisfied: astor in /usr/local/anaconda3/lib/python3.7/site-packages (from streamlit>=0.68.0->spacy-streamlit>=1.0.0a0->-r /Users/pessoal/spacy/ner_demo/requirements.txt (line 1)) (0.8.1)\n",
      "Requirement already satisfied: python-dateutil in /usr/local/anaconda3/lib/python3.7/site-packages (from streamlit>=0.68.0->spacy-streamlit>=1.0.0a0->-r /Users/pessoal/spacy/ner_demo/requirements.txt (line 1)) (2.8.0)\n",
      "Requirement already satisfied: cachetools>=4.0 in /usr/local/anaconda3/lib/python3.7/site-packages (from streamlit>=0.68.0->spacy-streamlit>=1.0.0a0->-r /Users/pessoal/spacy/ner_demo/requirements.txt (line 1)) (4.2.2)\n",
      "Requirement already satisfied: blinker in /usr/local/anaconda3/lib/python3.7/site-packages (from streamlit>=0.68.0->spacy-streamlit>=1.0.0a0->-r /Users/pessoal/spacy/ner_demo/requirements.txt (line 1)) (1.4)\n",
      "Requirement already satisfied: base58 in /usr/local/anaconda3/lib/python3.7/site-packages (from streamlit>=0.68.0->spacy-streamlit>=1.0.0a0->-r /Users/pessoal/spacy/ner_demo/requirements.txt (line 1)) (2.1.0)\n",
      "Requirement already satisfied: requests in /usr/local/anaconda3/lib/python3.7/site-packages (from streamlit>=0.68.0->spacy-streamlit>=1.0.0a0->-r /Users/pessoal/spacy/ner_demo/requirements.txt (line 1)) (2.22.0)\n",
      "Requirement already satisfied: packaging in /usr/local/anaconda3/lib/python3.7/site-packages (from streamlit>=0.68.0->spacy-streamlit>=1.0.0a0->-r /Users/pessoal/spacy/ner_demo/requirements.txt (line 1)) (21.0)\n",
      "Requirement already satisfied: pydeck>=0.1.dev5 in /usr/local/anaconda3/lib/python3.7/site-packages (from streamlit>=0.68.0->spacy-streamlit>=1.0.0a0->-r /Users/pessoal/spacy/ner_demo/requirements.txt (line 1)) (0.6.2)\n",
      "Requirement already satisfied: protobuf!=3.11,>=3.6.0 in /usr/local/anaconda3/lib/python3.7/site-packages (from streamlit>=0.68.0->spacy-streamlit>=1.0.0a0->-r /Users/pessoal/spacy/ner_demo/requirements.txt (line 1)) (3.11.4)\n",
      "Requirement already satisfied: toml in /usr/local/anaconda3/lib/python3.7/site-packages (from streamlit>=0.68.0->spacy-streamlit>=1.0.0a0->-r /Users/pessoal/spacy/ner_demo/requirements.txt (line 1)) (0.10.2)\n",
      "Requirement already satisfied: numpy in /usr/local/anaconda3/lib/python3.7/site-packages (from streamlit>=0.68.0->spacy-streamlit>=1.0.0a0->-r /Users/pessoal/spacy/ner_demo/requirements.txt (line 1)) (1.17.3)\n",
      "Requirement already satisfied: pillow>=6.2.0 in /usr/local/anaconda3/lib/python3.7/site-packages (from streamlit>=0.68.0->spacy-streamlit>=1.0.0a0->-r /Users/pessoal/spacy/ner_demo/requirements.txt (line 1)) (8.3.1)\n",
      "Requirement already satisfied: gitpython!=3.1.19 in /usr/local/anaconda3/lib/python3.7/site-packages (from streamlit>=0.68.0->spacy-streamlit>=1.0.0a0->-r /Users/pessoal/spacy/ner_demo/requirements.txt (line 1)) (3.1.18)\n",
      "Requirement already satisfied: tornado>=5.0 in /usr/local/anaconda3/lib/python3.7/site-packages (from streamlit>=0.68.0->spacy-streamlit>=1.0.0a0->-r /Users/pessoal/spacy/ner_demo/requirements.txt (line 1)) (6.0.3)\n",
      "Requirement already satisfied: click<8.0,>=7.0 in /usr/local/anaconda3/lib/python3.7/site-packages (from streamlit>=0.68.0->spacy-streamlit>=1.0.0a0->-r /Users/pessoal/spacy/ner_demo/requirements.txt (line 1)) (7.1.2)\n",
      "Requirement already satisfied: pytz>=2017.2 in /usr/local/anaconda3/lib/python3.7/site-packages (from pandas->spacy-streamlit>=1.0.0a0->-r /Users/pessoal/spacy/ner_demo/requirements.txt (line 1)) (2019.3)\n",
      "Requirement already satisfied: catalogue<2.1.0,>=2.0.4 in /usr/local/anaconda3/lib/python3.7/site-packages (from spacy<4.0.0,>=3.0.0->spacy-streamlit>=1.0.0a0->-r /Users/pessoal/spacy/ner_demo/requirements.txt (line 1)) (2.0.6)\n",
      "Requirement already satisfied: tqdm<5.0.0,>=4.38.0 in /usr/local/anaconda3/lib/python3.7/site-packages (from spacy<4.0.0,>=3.0.0->spacy-streamlit>=1.0.0a0->-r /Users/pessoal/spacy/ner_demo/requirements.txt (line 1)) (4.62.1)\n",
      "Requirement already satisfied: jinja2 in /usr/local/anaconda3/lib/python3.7/site-packages (from spacy<4.0.0,>=3.0.0->spacy-streamlit>=1.0.0a0->-r /Users/pessoal/spacy/ner_demo/requirements.txt (line 1)) (2.10.3)\n",
      "Requirement already satisfied: wasabi<1.1.0,>=0.8.1 in /usr/local/anaconda3/lib/python3.7/site-packages (from spacy<4.0.0,>=3.0.0->spacy-streamlit>=1.0.0a0->-r /Users/pessoal/spacy/ner_demo/requirements.txt (line 1)) (0.8.2)\n",
      "Requirement already satisfied: typer<0.4.0,>=0.3.0 in /usr/local/anaconda3/lib/python3.7/site-packages (from spacy<4.0.0,>=3.0.0->spacy-streamlit>=1.0.0a0->-r /Users/pessoal/spacy/ner_demo/requirements.txt (line 1)) (0.3.2)\n",
      "Requirement already satisfied: pydantic!=1.8,!=1.8.1,<1.9.0,>=1.7.4 in /usr/local/anaconda3/lib/python3.7/site-packages (from spacy<4.0.0,>=3.0.0->spacy-streamlit>=1.0.0a0->-r /Users/pessoal/spacy/ner_demo/requirements.txt (line 1)) (1.8.2)\n",
      "Requirement already satisfied: cymem<2.1.0,>=2.0.2 in /usr/local/anaconda3/lib/python3.7/site-packages (from spacy<4.0.0,>=3.0.0->spacy-streamlit>=1.0.0a0->-r /Users/pessoal/spacy/ner_demo/requirements.txt (line 1)) (2.0.5)\n",
      "Requirement already satisfied: setuptools in /usr/local/anaconda3/lib/python3.7/site-packages (from spacy<4.0.0,>=3.0.0->spacy-streamlit>=1.0.0a0->-r /Users/pessoal/spacy/ner_demo/requirements.txt (line 1)) (41.4.0)\n",
      "Requirement already satisfied: typing-extensions<4.0.0.0,>=3.7.4; python_version < \"3.8\" in /usr/local/anaconda3/lib/python3.7/site-packages (from spacy<4.0.0,>=3.0.0->spacy-streamlit>=1.0.0a0->-r /Users/pessoal/spacy/ner_demo/requirements.txt (line 1)) (3.10.0.0)\n",
      "Requirement already satisfied: preshed<3.1.0,>=3.0.2 in /usr/local/anaconda3/lib/python3.7/site-packages (from spacy<4.0.0,>=3.0.0->spacy-streamlit>=1.0.0a0->-r /Users/pessoal/spacy/ner_demo/requirements.txt (line 1)) (3.0.5)\n",
      "Requirement already satisfied: pathy>=0.3.5 in /usr/local/anaconda3/lib/python3.7/site-packages (from spacy<4.0.0,>=3.0.0->spacy-streamlit>=1.0.0a0->-r /Users/pessoal/spacy/ner_demo/requirements.txt (line 1)) (0.6.0)\n",
      "Requirement already satisfied: spacy-legacy<3.1.0,>=3.0.7 in /usr/local/anaconda3/lib/python3.7/site-packages (from spacy<4.0.0,>=3.0.0->spacy-streamlit>=1.0.0a0->-r /Users/pessoal/spacy/ner_demo/requirements.txt (line 1)) (3.0.8)\n",
      "Requirement already satisfied: blis<0.8.0,>=0.4.0 in /usr/local/anaconda3/lib/python3.7/site-packages (from spacy<4.0.0,>=3.0.0->spacy-streamlit>=1.0.0a0->-r /Users/pessoal/spacy/ner_demo/requirements.txt (line 1)) (0.4.1)\n",
      "Requirement already satisfied: murmurhash<1.1.0,>=0.28.0 in /usr/local/anaconda3/lib/python3.7/site-packages (from spacy<4.0.0,>=3.0.0->spacy-streamlit>=1.0.0a0->-r /Users/pessoal/spacy/ner_demo/requirements.txt (line 1)) (1.0.5)\n",
      "Requirement already satisfied: thinc<8.1.0,>=8.0.8 in /usr/local/anaconda3/lib/python3.7/site-packages (from spacy<4.0.0,>=3.0.0->spacy-streamlit>=1.0.0a0->-r /Users/pessoal/spacy/ner_demo/requirements.txt (line 1)) (8.0.8)\n",
      "Requirement already satisfied: srsly<3.0.0,>=2.4.1 in /usr/local/anaconda3/lib/python3.7/site-packages (from spacy<4.0.0,>=3.0.0->spacy-streamlit>=1.0.0a0->-r /Users/pessoal/spacy/ner_demo/requirements.txt (line 1)) (2.4.1)\n",
      "Requirement already satisfied: backports.zoneinfo; python_version < \"3.9\" in /usr/local/anaconda3/lib/python3.7/site-packages (from tzlocal->streamlit>=0.68.0->spacy-streamlit>=1.0.0a0->-r /Users/pessoal/spacy/ner_demo/requirements.txt (line 1)) (0.2.1)\n",
      "Requirement already satisfied: entrypoints in /usr/local/anaconda3/lib/python3.7/site-packages (from altair>=3.2.0->streamlit>=0.68.0->spacy-streamlit>=1.0.0a0->-r /Users/pessoal/spacy/ner_demo/requirements.txt (line 1)) (0.3)\n",
      "Requirement already satisfied: toolz in /usr/local/anaconda3/lib/python3.7/site-packages (from altair>=3.2.0->streamlit>=0.68.0->spacy-streamlit>=1.0.0a0->-r /Users/pessoal/spacy/ner_demo/requirements.txt (line 1)) (0.10.0)\n",
      "Requirement already satisfied: jsonschema in /usr/local/anaconda3/lib/python3.7/site-packages (from altair>=3.2.0->streamlit>=0.68.0->spacy-streamlit>=1.0.0a0->-r /Users/pessoal/spacy/ner_demo/requirements.txt (line 1)) (3.0.2)\n",
      "Requirement already satisfied: decorator>=3.4.0 in /usr/local/anaconda3/lib/python3.7/site-packages (from validators->streamlit>=0.68.0->spacy-streamlit>=1.0.0a0->-r /Users/pessoal/spacy/ner_demo/requirements.txt (line 1)) (4.4.0)\n",
      "Requirement already satisfied: six>=1.4.0 in /usr/local/anaconda3/lib/python3.7/site-packages (from validators->streamlit>=0.68.0->spacy-streamlit>=1.0.0a0->-r /Users/pessoal/spacy/ner_demo/requirements.txt (line 1)) (1.12.0)\n",
      "Requirement already satisfied: idna<2.9,>=2.5 in /usr/local/anaconda3/lib/python3.7/site-packages (from requests->streamlit>=0.68.0->spacy-streamlit>=1.0.0a0->-r /Users/pessoal/spacy/ner_demo/requirements.txt (line 1)) (2.8)\n",
      "Requirement already satisfied: urllib3!=1.25.0,!=1.25.1,<1.26,>=1.21.1 in /usr/local/anaconda3/lib/python3.7/site-packages (from requests->streamlit>=0.68.0->spacy-streamlit>=1.0.0a0->-r /Users/pessoal/spacy/ner_demo/requirements.txt (line 1)) (1.24.2)\n",
      "Requirement already satisfied: certifi>=2017.4.17 in /usr/local/anaconda3/lib/python3.7/site-packages (from requests->streamlit>=0.68.0->spacy-streamlit>=1.0.0a0->-r /Users/pessoal/spacy/ner_demo/requirements.txt (line 1)) (2019.9.11)\n",
      "Requirement already satisfied: chardet<3.1.0,>=3.0.2 in /usr/local/anaconda3/lib/python3.7/site-packages (from requests->streamlit>=0.68.0->spacy-streamlit>=1.0.0a0->-r /Users/pessoal/spacy/ner_demo/requirements.txt (line 1)) (3.0.4)\n",
      "Requirement already satisfied: pyparsing>=2.0.2 in /usr/local/anaconda3/lib/python3.7/site-packages (from packaging->streamlit>=0.68.0->spacy-streamlit>=1.0.0a0->-r /Users/pessoal/spacy/ner_demo/requirements.txt (line 1)) (2.4.2)\n",
      "Requirement already satisfied: ipywidgets>=7.0.0 in /usr/local/anaconda3/lib/python3.7/site-packages (from pydeck>=0.1.dev5->streamlit>=0.68.0->spacy-streamlit>=1.0.0a0->-r /Users/pessoal/spacy/ner_demo/requirements.txt (line 1)) (7.5.1)\n",
      "Requirement already satisfied: ipykernel>=5.1.2; python_version >= \"3.4\" in /usr/local/anaconda3/lib/python3.7/site-packages (from pydeck>=0.1.dev5->streamlit>=0.68.0->spacy-streamlit>=1.0.0a0->-r /Users/pessoal/spacy/ner_demo/requirements.txt (line 1)) (5.1.2)\n",
      "Requirement already satisfied: traitlets>=4.3.2 in /usr/local/anaconda3/lib/python3.7/site-packages (from pydeck>=0.1.dev5->streamlit>=0.68.0->spacy-streamlit>=1.0.0a0->-r /Users/pessoal/spacy/ner_demo/requirements.txt (line 1)) (4.3.3)\n",
      "Requirement already satisfied: gitdb<5,>=4.0.1 in /usr/local/anaconda3/lib/python3.7/site-packages (from gitpython!=3.1.19->streamlit>=0.68.0->spacy-streamlit>=1.0.0a0->-r /Users/pessoal/spacy/ner_demo/requirements.txt (line 1)) (4.0.7)\n",
      "Requirement already satisfied: zipp>=0.5; python_version < \"3.8\" in /usr/local/anaconda3/lib/python3.7/site-packages (from catalogue<2.1.0,>=2.0.4->spacy<4.0.0,>=3.0.0->spacy-streamlit>=1.0.0a0->-r /Users/pessoal/spacy/ner_demo/requirements.txt (line 1)) (0.6.0)\n",
      "Requirement already satisfied: MarkupSafe>=0.23 in /usr/local/anaconda3/lib/python3.7/site-packages (from jinja2->spacy<4.0.0,>=3.0.0->spacy-streamlit>=1.0.0a0->-r /Users/pessoal/spacy/ner_demo/requirements.txt (line 1)) (1.1.1)\n",
      "Requirement already satisfied: smart-open<6.0.0,>=5.0.0 in /usr/local/anaconda3/lib/python3.7/site-packages (from pathy>=0.3.5->spacy<4.0.0,>=3.0.0->spacy-streamlit>=1.0.0a0->-r /Users/pessoal/spacy/ner_demo/requirements.txt (line 1)) (5.2.0)\n",
      "Requirement already satisfied: pyrsistent>=0.14.0 in /usr/local/anaconda3/lib/python3.7/site-packages (from jsonschema->altair>=3.2.0->streamlit>=0.68.0->spacy-streamlit>=1.0.0a0->-r /Users/pessoal/spacy/ner_demo/requirements.txt (line 1)) (0.15.4)\n",
      "Requirement already satisfied: nbformat>=4.2.0 in /usr/local/anaconda3/lib/python3.7/site-packages (from ipywidgets>=7.0.0->pydeck>=0.1.dev5->streamlit>=0.68.0->spacy-streamlit>=1.0.0a0->-r /Users/pessoal/spacy/ner_demo/requirements.txt (line 1)) (4.4.0)\n",
      "Requirement already satisfied: widgetsnbextension~=3.5.0 in /usr/local/anaconda3/lib/python3.7/site-packages (from ipywidgets>=7.0.0->pydeck>=0.1.dev5->streamlit>=0.68.0->spacy-streamlit>=1.0.0a0->-r /Users/pessoal/spacy/ner_demo/requirements.txt (line 1)) (3.5.1)\n",
      "Requirement already satisfied: ipython>=4.0.0; python_version >= \"3.3\" in /usr/local/anaconda3/lib/python3.7/site-packages (from ipywidgets>=7.0.0->pydeck>=0.1.dev5->streamlit>=0.68.0->spacy-streamlit>=1.0.0a0->-r /Users/pessoal/spacy/ner_demo/requirements.txt (line 1)) (7.8.0)\n",
      "Requirement already satisfied: jupyter-client in /usr/local/anaconda3/lib/python3.7/site-packages (from ipykernel>=5.1.2; python_version >= \"3.4\"->pydeck>=0.1.dev5->streamlit>=0.68.0->spacy-streamlit>=1.0.0a0->-r /Users/pessoal/spacy/ner_demo/requirements.txt (line 1)) (5.3.3)\n",
      "Requirement already satisfied: ipython-genutils in /usr/local/anaconda3/lib/python3.7/site-packages (from traitlets>=4.3.2->pydeck>=0.1.dev5->streamlit>=0.68.0->spacy-streamlit>=1.0.0a0->-r /Users/pessoal/spacy/ner_demo/requirements.txt (line 1)) (0.2.0)\n",
      "Requirement already satisfied: smmap<5,>=3.0.1 in /usr/local/anaconda3/lib/python3.7/site-packages (from gitdb<5,>=4.0.1->gitpython!=3.1.19->streamlit>=0.68.0->spacy-streamlit>=1.0.0a0->-r /Users/pessoal/spacy/ner_demo/requirements.txt (line 1)) (4.0.0)\n",
      "Requirement already satisfied: more-itertools in /usr/local/anaconda3/lib/python3.7/site-packages (from zipp>=0.5; python_version < \"3.8\"->catalogue<2.1.0,>=2.0.4->spacy<4.0.0,>=3.0.0->spacy-streamlit>=1.0.0a0->-r /Users/pessoal/spacy/ner_demo/requirements.txt (line 1)) (7.2.0)\n",
      "Requirement already satisfied: jupyter-core in /usr/local/anaconda3/lib/python3.7/site-packages (from nbformat>=4.2.0->ipywidgets>=7.0.0->pydeck>=0.1.dev5->streamlit>=0.68.0->spacy-streamlit>=1.0.0a0->-r /Users/pessoal/spacy/ner_demo/requirements.txt (line 1)) (4.5.0)\n",
      "Requirement already satisfied: notebook>=4.4.1 in /usr/local/anaconda3/lib/python3.7/site-packages (from widgetsnbextension~=3.5.0->ipywidgets>=7.0.0->pydeck>=0.1.dev5->streamlit>=0.68.0->spacy-streamlit>=1.0.0a0->-r /Users/pessoal/spacy/ner_demo/requirements.txt (line 1)) (6.0.1)\n",
      "Requirement already satisfied: backcall in /usr/local/anaconda3/lib/python3.7/site-packages (from ipython>=4.0.0; python_version >= \"3.3\"->ipywidgets>=7.0.0->pydeck>=0.1.dev5->streamlit>=0.68.0->spacy-streamlit>=1.0.0a0->-r /Users/pessoal/spacy/ner_demo/requirements.txt (line 1)) (0.1.0)\n",
      "Requirement already satisfied: pygments in /usr/local/anaconda3/lib/python3.7/site-packages (from ipython>=4.0.0; python_version >= \"3.3\"->ipywidgets>=7.0.0->pydeck>=0.1.dev5->streamlit>=0.68.0->spacy-streamlit>=1.0.0a0->-r /Users/pessoal/spacy/ner_demo/requirements.txt (line 1)) (2.4.2)\n",
      "Requirement already satisfied: pexpect; sys_platform != \"win32\" in /usr/local/anaconda3/lib/python3.7/site-packages (from ipython>=4.0.0; python_version >= \"3.3\"->ipywidgets>=7.0.0->pydeck>=0.1.dev5->streamlit>=0.68.0->spacy-streamlit>=1.0.0a0->-r /Users/pessoal/spacy/ner_demo/requirements.txt (line 1)) (4.7.0)\n",
      "Requirement already satisfied: appnope; sys_platform == \"darwin\" in /usr/local/anaconda3/lib/python3.7/site-packages (from ipython>=4.0.0; python_version >= \"3.3\"->ipywidgets>=7.0.0->pydeck>=0.1.dev5->streamlit>=0.68.0->spacy-streamlit>=1.0.0a0->-r /Users/pessoal/spacy/ner_demo/requirements.txt (line 1)) (0.1.0)\n",
      "Requirement already satisfied: jedi>=0.10 in /usr/local/anaconda3/lib/python3.7/site-packages (from ipython>=4.0.0; python_version >= \"3.3\"->ipywidgets>=7.0.0->pydeck>=0.1.dev5->streamlit>=0.68.0->spacy-streamlit>=1.0.0a0->-r /Users/pessoal/spacy/ner_demo/requirements.txt (line 1)) (0.15.1)\n",
      "Requirement already satisfied: pickleshare in /usr/local/anaconda3/lib/python3.7/site-packages (from ipython>=4.0.0; python_version >= \"3.3\"->ipywidgets>=7.0.0->pydeck>=0.1.dev5->streamlit>=0.68.0->spacy-streamlit>=1.0.0a0->-r /Users/pessoal/spacy/ner_demo/requirements.txt (line 1)) (0.7.5)\n",
      "Requirement already satisfied: prompt-toolkit<2.1.0,>=2.0.0 in /usr/local/anaconda3/lib/python3.7/site-packages (from ipython>=4.0.0; python_version >= \"3.3\"->ipywidgets>=7.0.0->pydeck>=0.1.dev5->streamlit>=0.68.0->spacy-streamlit>=1.0.0a0->-r /Users/pessoal/spacy/ner_demo/requirements.txt (line 1)) (2.0.10)\n",
      "Requirement already satisfied: pyzmq>=13 in /usr/local/anaconda3/lib/python3.7/site-packages (from jupyter-client->ipykernel>=5.1.2; python_version >= \"3.4\"->pydeck>=0.1.dev5->streamlit>=0.68.0->spacy-streamlit>=1.0.0a0->-r /Users/pessoal/spacy/ner_demo/requirements.txt (line 1)) (18.1.0)\n",
      "Requirement already satisfied: Send2Trash in /usr/local/anaconda3/lib/python3.7/site-packages (from notebook>=4.4.1->widgetsnbextension~=3.5.0->ipywidgets>=7.0.0->pydeck>=0.1.dev5->streamlit>=0.68.0->spacy-streamlit>=1.0.0a0->-r /Users/pessoal/spacy/ner_demo/requirements.txt (line 1)) (1.5.0)\n",
      "Requirement already satisfied: terminado>=0.8.1 in /usr/local/anaconda3/lib/python3.7/site-packages (from notebook>=4.4.1->widgetsnbextension~=3.5.0->ipywidgets>=7.0.0->pydeck>=0.1.dev5->streamlit>=0.68.0->spacy-streamlit>=1.0.0a0->-r /Users/pessoal/spacy/ner_demo/requirements.txt (line 1)) (0.8.2)\n",
      "Requirement already satisfied: nbconvert in /usr/local/anaconda3/lib/python3.7/site-packages (from notebook>=4.4.1->widgetsnbextension~=3.5.0->ipywidgets>=7.0.0->pydeck>=0.1.dev5->streamlit>=0.68.0->spacy-streamlit>=1.0.0a0->-r /Users/pessoal/spacy/ner_demo/requirements.txt (line 1)) (5.6.0)\n",
      "Requirement already satisfied: prometheus-client in /usr/local/anaconda3/lib/python3.7/site-packages (from notebook>=4.4.1->widgetsnbextension~=3.5.0->ipywidgets>=7.0.0->pydeck>=0.1.dev5->streamlit>=0.68.0->spacy-streamlit>=1.0.0a0->-r /Users/pessoal/spacy/ner_demo/requirements.txt (line 1)) (0.7.1)\n",
      "Requirement already satisfied: ptyprocess>=0.5 in /usr/local/anaconda3/lib/python3.7/site-packages (from pexpect; sys_platform != \"win32\"->ipython>=4.0.0; python_version >= \"3.3\"->ipywidgets>=7.0.0->pydeck>=0.1.dev5->streamlit>=0.68.0->spacy-streamlit>=1.0.0a0->-r /Users/pessoal/spacy/ner_demo/requirements.txt (line 1)) (0.6.0)\n",
      "Requirement already satisfied: parso>=0.5.0 in /usr/local/anaconda3/lib/python3.7/site-packages (from jedi>=0.10->ipython>=4.0.0; python_version >= \"3.3\"->ipywidgets>=7.0.0->pydeck>=0.1.dev5->streamlit>=0.68.0->spacy-streamlit>=1.0.0a0->-r /Users/pessoal/spacy/ner_demo/requirements.txt (line 1)) (0.5.1)\n",
      "Requirement already satisfied: wcwidth in /usr/local/anaconda3/lib/python3.7/site-packages (from prompt-toolkit<2.1.0,>=2.0.0->ipython>=4.0.0; python_version >= \"3.3\"->ipywidgets>=7.0.0->pydeck>=0.1.dev5->streamlit>=0.68.0->spacy-streamlit>=1.0.0a0->-r /Users/pessoal/spacy/ner_demo/requirements.txt (line 1)) (0.1.7)\n",
      "Requirement already satisfied: testpath in /usr/local/anaconda3/lib/python3.7/site-packages (from nbconvert->notebook>=4.4.1->widgetsnbextension~=3.5.0->ipywidgets>=7.0.0->pydeck>=0.1.dev5->streamlit>=0.68.0->spacy-streamlit>=1.0.0a0->-r /Users/pessoal/spacy/ner_demo/requirements.txt (line 1)) (0.4.2)\n",
      "Requirement already satisfied: mistune<2,>=0.8.1 in /usr/local/anaconda3/lib/python3.7/site-packages (from nbconvert->notebook>=4.4.1->widgetsnbextension~=3.5.0->ipywidgets>=7.0.0->pydeck>=0.1.dev5->streamlit>=0.68.0->spacy-streamlit>=1.0.0a0->-r /Users/pessoal/spacy/ner_demo/requirements.txt (line 1)) (0.8.4)\n",
      "Requirement already satisfied: bleach in /usr/local/anaconda3/lib/python3.7/site-packages (from nbconvert->notebook>=4.4.1->widgetsnbextension~=3.5.0->ipywidgets>=7.0.0->pydeck>=0.1.dev5->streamlit>=0.68.0->spacy-streamlit>=1.0.0a0->-r /Users/pessoal/spacy/ner_demo/requirements.txt (line 1)) (3.1.0)\n",
      "Requirement already satisfied: pandocfilters>=1.4.1 in /usr/local/anaconda3/lib/python3.7/site-packages (from nbconvert->notebook>=4.4.1->widgetsnbextension~=3.5.0->ipywidgets>=7.0.0->pydeck>=0.1.dev5->streamlit>=0.68.0->spacy-streamlit>=1.0.0a0->-r /Users/pessoal/spacy/ner_demo/requirements.txt (line 1)) (1.4.2)\n",
      "Requirement already satisfied: defusedxml in /usr/local/anaconda3/lib/python3.7/site-packages (from nbconvert->notebook>=4.4.1->widgetsnbextension~=3.5.0->ipywidgets>=7.0.0->pydeck>=0.1.dev5->streamlit>=0.68.0->spacy-streamlit>=1.0.0a0->-r /Users/pessoal/spacy/ner_demo/requirements.txt (line 1)) (0.6.0)\n",
      "Requirement already satisfied: webencodings in /usr/local/anaconda3/lib/python3.7/site-packages (from bleach->nbconvert->notebook>=4.4.1->widgetsnbextension~=3.5.0->ipywidgets>=7.0.0->pydeck>=0.1.dev5->streamlit>=0.68.0->spacy-streamlit>=1.0.0a0->-r /Users/pessoal/spacy/ner_demo/requirements.txt (line 1)) (0.5.1)\n"
     ]
    }
   ],
   "source": [
    "\n",
    "# follow the step https://github.com/explosion/spaCy/tree/master/examples\n",
    "    \n",
    "!python -m pip install -r /Users/pessoal/spacy/ner_demo/requirements.txt"
   ]
  },
  {
   "cell_type": "markdown",
   "metadata": {},
   "source": [
    "# Step 5 - Run the default workflow to convert, train and evaluate:\n",
    "#ver com os meninos como dar o cd ner_demo por aqui"
   ]
  },
  {
   "cell_type": "code",
   "execution_count": 4,
   "metadata": {},
   "outputs": [
    {
     "name": "stdout",
     "output_type": "stream",
     "text": [
      "/usr/local/anaconda3/lib/python3.7/site-packages/tensorflow/python/framework/dtypes.py:516: FutureWarning: Passing (type, 1) or '1type' as a synonym of type is deprecated; in a future version of numpy, it will be understood as (type, (1,)) / '(1,)type'.\n",
      "  _np_qint8 = np.dtype([(\"qint8\", np.int8, 1)])\n",
      "/usr/local/anaconda3/lib/python3.7/site-packages/tensorflow/python/framework/dtypes.py:517: FutureWarning: Passing (type, 1) or '1type' as a synonym of type is deprecated; in a future version of numpy, it will be understood as (type, (1,)) / '(1,)type'.\n",
      "  _np_quint8 = np.dtype([(\"quint8\", np.uint8, 1)])\n",
      "/usr/local/anaconda3/lib/python3.7/site-packages/tensorflow/python/framework/dtypes.py:518: FutureWarning: Passing (type, 1) or '1type' as a synonym of type is deprecated; in a future version of numpy, it will be understood as (type, (1,)) / '(1,)type'.\n",
      "  _np_qint16 = np.dtype([(\"qint16\", np.int16, 1)])\n",
      "/usr/local/anaconda3/lib/python3.7/site-packages/tensorflow/python/framework/dtypes.py:519: FutureWarning: Passing (type, 1) or '1type' as a synonym of type is deprecated; in a future version of numpy, it will be understood as (type, (1,)) / '(1,)type'.\n",
      "  _np_quint16 = np.dtype([(\"quint16\", np.uint16, 1)])\n",
      "/usr/local/anaconda3/lib/python3.7/site-packages/tensorflow/python/framework/dtypes.py:520: FutureWarning: Passing (type, 1) or '1type' as a synonym of type is deprecated; in a future version of numpy, it will be understood as (type, (1,)) / '(1,)type'.\n",
      "  _np_qint32 = np.dtype([(\"qint32\", np.int32, 1)])\n",
      "/usr/local/anaconda3/lib/python3.7/site-packages/tensorflow/python/framework/dtypes.py:525: FutureWarning: Passing (type, 1) or '1type' as a synonym of type is deprecated; in a future version of numpy, it will be understood as (type, (1,)) / '(1,)type'.\n",
      "  np_resource = np.dtype([(\"resource\", np.ubyte, 1)])\n",
      "\u001b[38;5;4mℹ Fetching 2 asset(s)\u001b[0m\n",
      "\u001b[38;5;2m✔ Asset already exists:\n",
      "/Users/pessoal/spacy/ner_demo/assets/train.json\u001b[0m\n",
      "\u001b[38;5;2m✔ Asset already exists:\n",
      "/Users/pessoal/spacy/ner_demo/assets/dev.json\u001b[0m\n"
     ]
    }
   ],
   "source": [
    "!python -m spacy project assets"
   ]
  },
  {
   "cell_type": "code",
   "execution_count": 10,
   "metadata": {},
   "outputs": [
    {
     "name": "stdout",
     "output_type": "stream",
     "text": [
      "/usr/local/anaconda3/lib/python3.7/site-packages/tensorflow/python/framework/dtypes.py:516: FutureWarning: Passing (type, 1) or '1type' as a synonym of type is deprecated; in a future version of numpy, it will be understood as (type, (1,)) / '(1,)type'.\n",
      "  _np_qint8 = np.dtype([(\"qint8\", np.int8, 1)])\n",
      "/usr/local/anaconda3/lib/python3.7/site-packages/tensorflow/python/framework/dtypes.py:517: FutureWarning: Passing (type, 1) or '1type' as a synonym of type is deprecated; in a future version of numpy, it will be understood as (type, (1,)) / '(1,)type'.\n",
      "  _np_quint8 = np.dtype([(\"quint8\", np.uint8, 1)])\n",
      "/usr/local/anaconda3/lib/python3.7/site-packages/tensorflow/python/framework/dtypes.py:518: FutureWarning: Passing (type, 1) or '1type' as a synonym of type is deprecated; in a future version of numpy, it will be understood as (type, (1,)) / '(1,)type'.\n",
      "  _np_qint16 = np.dtype([(\"qint16\", np.int16, 1)])\n",
      "/usr/local/anaconda3/lib/python3.7/site-packages/tensorflow/python/framework/dtypes.py:519: FutureWarning: Passing (type, 1) or '1type' as a synonym of type is deprecated; in a future version of numpy, it will be understood as (type, (1,)) / '(1,)type'.\n",
      "  _np_quint16 = np.dtype([(\"quint16\", np.uint16, 1)])\n",
      "/usr/local/anaconda3/lib/python3.7/site-packages/tensorflow/python/framework/dtypes.py:520: FutureWarning: Passing (type, 1) or '1type' as a synonym of type is deprecated; in a future version of numpy, it will be understood as (type, (1,)) / '(1,)type'.\n",
      "  _np_qint32 = np.dtype([(\"qint32\", np.int32, 1)])\n",
      "/usr/local/anaconda3/lib/python3.7/site-packages/tensorflow/python/framework/dtypes.py:525: FutureWarning: Passing (type, 1) or '1type' as a synonym of type is deprecated; in a future version of numpy, it will be understood as (type, (1,)) / '(1,)type'.\n",
      "  np_resource = np.dtype([(\"resource\", np.ubyte, 1)])\n",
      "\u001b[38;5;4mℹ Running workflow 'all'\u001b[0m\n",
      "\u001b[1m\n",
      "================================== convert ==================================\u001b[0m\n",
      "Running command: /usr/local/anaconda3/bin/python scripts/convert.py pt assets/train.json corpus/train.spacy\n",
      "/usr/local/anaconda3/lib/python3.7/site-packages/tensorflow/python/framework/dtypes.py:516: FutureWarning: Passing (type, 1) or '1type' as a synonym of type is deprecated; in a future version of numpy, it will be understood as (type, (1,)) / '(1,)type'.\n",
      "  _np_qint8 = np.dtype([(\"qint8\", np.int8, 1)])\n",
      "/usr/local/anaconda3/lib/python3.7/site-packages/tensorflow/python/framework/dtypes.py:517: FutureWarning: Passing (type, 1) or '1type' as a synonym of type is deprecated; in a future version of numpy, it will be understood as (type, (1,)) / '(1,)type'.\n",
      "  _np_quint8 = np.dtype([(\"quint8\", np.uint8, 1)])\n",
      "/usr/local/anaconda3/lib/python3.7/site-packages/tensorflow/python/framework/dtypes.py:518: FutureWarning: Passing (type, 1) or '1type' as a synonym of type is deprecated; in a future version of numpy, it will be understood as (type, (1,)) / '(1,)type'.\n",
      "  _np_qint16 = np.dtype([(\"qint16\", np.int16, 1)])\n",
      "/usr/local/anaconda3/lib/python3.7/site-packages/tensorflow/python/framework/dtypes.py:519: FutureWarning: Passing (type, 1) or '1type' as a synonym of type is deprecated; in a future version of numpy, it will be understood as (type, (1,)) / '(1,)type'.\n",
      "  _np_quint16 = np.dtype([(\"quint16\", np.uint16, 1)])\n",
      "/usr/local/anaconda3/lib/python3.7/site-packages/tensorflow/python/framework/dtypes.py:520: FutureWarning: Passing (type, 1) or '1type' as a synonym of type is deprecated; in a future version of numpy, it will be understood as (type, (1,)) / '(1,)type'.\n",
      "  _np_qint32 = np.dtype([(\"qint32\", np.int32, 1)])\n",
      "/usr/local/anaconda3/lib/python3.7/site-packages/tensorflow/python/framework/dtypes.py:525: FutureWarning: Passing (type, 1) or '1type' as a synonym of type is deprecated; in a future version of numpy, it will be understood as (type, (1,)) / '(1,)type'.\n",
      "  np_resource = np.dtype([(\"resource\", np.ubyte, 1)])\n",
      "Running command: /usr/local/anaconda3/bin/python scripts/convert.py pt assets/dev.json corpus/dev.spacy\n",
      "/usr/local/anaconda3/lib/python3.7/site-packages/tensorflow/python/framework/dtypes.py:516: FutureWarning: Passing (type, 1) or '1type' as a synonym of type is deprecated; in a future version of numpy, it will be understood as (type, (1,)) / '(1,)type'.\n",
      "  _np_qint8 = np.dtype([(\"qint8\", np.int8, 1)])\n",
      "/usr/local/anaconda3/lib/python3.7/site-packages/tensorflow/python/framework/dtypes.py:517: FutureWarning: Passing (type, 1) or '1type' as a synonym of type is deprecated; in a future version of numpy, it will be understood as (type, (1,)) / '(1,)type'.\n",
      "  _np_quint8 = np.dtype([(\"quint8\", np.uint8, 1)])\n",
      "/usr/local/anaconda3/lib/python3.7/site-packages/tensorflow/python/framework/dtypes.py:518: FutureWarning: Passing (type, 1) or '1type' as a synonym of type is deprecated; in a future version of numpy, it will be understood as (type, (1,)) / '(1,)type'.\n",
      "  _np_qint16 = np.dtype([(\"qint16\", np.int16, 1)])\n",
      "/usr/local/anaconda3/lib/python3.7/site-packages/tensorflow/python/framework/dtypes.py:519: FutureWarning: Passing (type, 1) or '1type' as a synonym of type is deprecated; in a future version of numpy, it will be understood as (type, (1,)) / '(1,)type'.\n",
      "  _np_quint16 = np.dtype([(\"quint16\", np.uint16, 1)])\n",
      "/usr/local/anaconda3/lib/python3.7/site-packages/tensorflow/python/framework/dtypes.py:520: FutureWarning: Passing (type, 1) or '1type' as a synonym of type is deprecated; in a future version of numpy, it will be understood as (type, (1,)) / '(1,)type'.\n",
      "  _np_qint32 = np.dtype([(\"qint32\", np.int32, 1)])\n",
      "/usr/local/anaconda3/lib/python3.7/site-packages/tensorflow/python/framework/dtypes.py:525: FutureWarning: Passing (type, 1) or '1type' as a synonym of type is deprecated; in a future version of numpy, it will be understood as (type, (1,)) / '(1,)type'.\n",
      "  np_resource = np.dtype([(\"resource\", np.ubyte, 1)])\n",
      "Traceback (most recent call last):\n",
      "  File \"scripts/convert.py\", line 31, in <module>\n",
      "    typer.run(convert)\n",
      "  File \"/usr/local/anaconda3/lib/python3.7/site-packages/typer/main.py\", line 859, in run\n",
      "    app()\n",
      "  File \"/usr/local/anaconda3/lib/python3.7/site-packages/typer/main.py\", line 214, in __call__\n",
      "    return get_command(self)(*args, **kwargs)\n",
      "  File \"/usr/local/anaconda3/lib/python3.7/site-packages/click/core.py\", line 829, in __call__\n",
      "    return self.main(*args, **kwargs)\n",
      "  File \"/usr/local/anaconda3/lib/python3.7/site-packages/click/core.py\", line 782, in main\n",
      "    rv = self.invoke(ctx)\n",
      "  File \"/usr/local/anaconda3/lib/python3.7/site-packages/click/core.py\", line 1066, in invoke\n",
      "    return ctx.invoke(self.callback, **ctx.params)\n",
      "  File \"/usr/local/anaconda3/lib/python3.7/site-packages/click/core.py\", line 610, in invoke\n",
      "    return callback(*args, **kwargs)\n",
      "  File \"/usr/local/anaconda3/lib/python3.7/site-packages/typer/main.py\", line 497, in wrapper\n",
      "    return callback(**use_params)  # type: ignore\n",
      "  File \"scripts/convert.py\", line 15, in convert\n",
      "    for text, annot in srsly.read_json(input_path):\n",
      "  File \"/usr/local/anaconda3/lib/python3.7/site-packages/srsly/_json_api.py\", line 53, in read_json\n",
      "    return ujson.load(f)\n",
      "ValueError: Unexpected character found when decoding array value (2)\n"
     ]
    }
   ],
   "source": [
    "!python -m spacy project run all"
   ]
  },
  {
   "cell_type": "markdown",
   "metadata": {},
   "source": [
    "# Step 6 - Package the model:"
   ]
  },
  {
   "cell_type": "code",
   "execution_count": 6,
   "metadata": {},
   "outputs": [
    {
     "name": "stdout",
     "output_type": "stream",
     "text": [
      "/usr/local/anaconda3/lib/python3.7/site-packages/tensorflow/python/framework/dtypes.py:516: FutureWarning: Passing (type, 1) or '1type' as a synonym of type is deprecated; in a future version of numpy, it will be understood as (type, (1,)) / '(1,)type'.\n",
      "  _np_qint8 = np.dtype([(\"qint8\", np.int8, 1)])\n",
      "/usr/local/anaconda3/lib/python3.7/site-packages/tensorflow/python/framework/dtypes.py:517: FutureWarning: Passing (type, 1) or '1type' as a synonym of type is deprecated; in a future version of numpy, it will be understood as (type, (1,)) / '(1,)type'.\n",
      "  _np_quint8 = np.dtype([(\"quint8\", np.uint8, 1)])\n",
      "/usr/local/anaconda3/lib/python3.7/site-packages/tensorflow/python/framework/dtypes.py:518: FutureWarning: Passing (type, 1) or '1type' as a synonym of type is deprecated; in a future version of numpy, it will be understood as (type, (1,)) / '(1,)type'.\n",
      "  _np_qint16 = np.dtype([(\"qint16\", np.int16, 1)])\n",
      "/usr/local/anaconda3/lib/python3.7/site-packages/tensorflow/python/framework/dtypes.py:519: FutureWarning: Passing (type, 1) or '1type' as a synonym of type is deprecated; in a future version of numpy, it will be understood as (type, (1,)) / '(1,)type'.\n",
      "  _np_quint16 = np.dtype([(\"quint16\", np.uint16, 1)])\n",
      "/usr/local/anaconda3/lib/python3.7/site-packages/tensorflow/python/framework/dtypes.py:520: FutureWarning: Passing (type, 1) or '1type' as a synonym of type is deprecated; in a future version of numpy, it will be understood as (type, (1,)) / '(1,)type'.\n",
      "  _np_qint32 = np.dtype([(\"qint32\", np.int32, 1)])\n",
      "/usr/local/anaconda3/lib/python3.7/site-packages/tensorflow/python/framework/dtypes.py:525: FutureWarning: Passing (type, 1) or '1type' as a synonym of type is deprecated; in a future version of numpy, it will be understood as (type, (1,)) / '(1,)type'.\n",
      "  np_resource = np.dtype([(\"resource\", np.ubyte, 1)])\n",
      "\u001b[1m\n",
      "================================== package ==================================\u001b[0m\n",
      "Running command: /usr/local/anaconda3/bin/python -m spacy package training/model-best packages --name ner_demo --version 0.0.0 --force\n",
      "/usr/local/anaconda3/lib/python3.7/site-packages/tensorflow/python/framework/dtypes.py:516: FutureWarning: Passing (type, 1) or '1type' as a synonym of type is deprecated; in a future version of numpy, it will be understood as (type, (1,)) / '(1,)type'.\n",
      "  _np_qint8 = np.dtype([(\"qint8\", np.int8, 1)])\n",
      "/usr/local/anaconda3/lib/python3.7/site-packages/tensorflow/python/framework/dtypes.py:517: FutureWarning: Passing (type, 1) or '1type' as a synonym of type is deprecated; in a future version of numpy, it will be understood as (type, (1,)) / '(1,)type'.\n",
      "  _np_quint8 = np.dtype([(\"quint8\", np.uint8, 1)])\n",
      "/usr/local/anaconda3/lib/python3.7/site-packages/tensorflow/python/framework/dtypes.py:518: FutureWarning: Passing (type, 1) or '1type' as a synonym of type is deprecated; in a future version of numpy, it will be understood as (type, (1,)) / '(1,)type'.\n",
      "  _np_qint16 = np.dtype([(\"qint16\", np.int16, 1)])\n",
      "/usr/local/anaconda3/lib/python3.7/site-packages/tensorflow/python/framework/dtypes.py:519: FutureWarning: Passing (type, 1) or '1type' as a synonym of type is deprecated; in a future version of numpy, it will be understood as (type, (1,)) / '(1,)type'.\n",
      "  _np_quint16 = np.dtype([(\"quint16\", np.uint16, 1)])\n",
      "/usr/local/anaconda3/lib/python3.7/site-packages/tensorflow/python/framework/dtypes.py:520: FutureWarning: Passing (type, 1) or '1type' as a synonym of type is deprecated; in a future version of numpy, it will be understood as (type, (1,)) / '(1,)type'.\n",
      "  _np_qint32 = np.dtype([(\"qint32\", np.int32, 1)])\n",
      "/usr/local/anaconda3/lib/python3.7/site-packages/tensorflow/python/framework/dtypes.py:525: FutureWarning: Passing (type, 1) or '1type' as a synonym of type is deprecated; in a future version of numpy, it will be understood as (type, (1,)) / '(1,)type'.\n",
      "  np_resource = np.dtype([(\"resource\", np.ubyte, 1)])\n",
      "\u001b[38;5;4mℹ Building package artifacts: sdist\u001b[0m\n",
      "\u001b[38;5;2m✔ Loaded meta.json from file\u001b[0m\n",
      "training/model-best/meta.json\n",
      "\u001b[38;5;4mℹ Using existing README.md from pipeline directory\u001b[0m\n",
      "\u001b[38;5;2m✔ Successfully created package 'en_ner_demo-0.0.0'\u001b[0m\n",
      "packages/en_ner_demo-0.0.0\n",
      "running sdist\n",
      "running egg_info\n",
      "writing en_ner_demo.egg-info/PKG-INFO\n",
      "writing dependency_links to en_ner_demo.egg-info/dependency_links.txt\n",
      "writing entry points to en_ner_demo.egg-info/entry_points.txt\n",
      "writing requirements to en_ner_demo.egg-info/requires.txt\n",
      "writing top-level names to en_ner_demo.egg-info/top_level.txt\n",
      "reading manifest file 'en_ner_demo.egg-info/SOURCES.txt'\n",
      "reading manifest template 'MANIFEST.in'\n",
      "warning: no files found matching 'LICENSE'\n",
      "warning: no files found matching 'LICENSES_SOURCES'\n",
      "writing manifest file 'en_ner_demo.egg-info/SOURCES.txt'\n",
      "running check\n",
      "warning: check: missing required meta-data: url\n",
      "\n",
      "warning: check: missing meta-data: either (author and author_email) or (maintainer and maintainer_email) must be supplied\n",
      "\n",
      "creating en_ner_demo-0.0.0\n",
      "creating en_ner_demo-0.0.0/en_ner_demo\n",
      "creating en_ner_demo-0.0.0/en_ner_demo.egg-info\n",
      "creating en_ner_demo-0.0.0/en_ner_demo/en_ner_demo-0.0.0\n",
      "creating en_ner_demo-0.0.0/en_ner_demo/en_ner_demo-0.0.0/ner\n",
      "creating en_ner_demo-0.0.0/en_ner_demo/en_ner_demo-0.0.0/tok2vec\n",
      "creating en_ner_demo-0.0.0/en_ner_demo/en_ner_demo-0.0.0/vocab\n",
      "copying files to en_ner_demo-0.0.0...\n",
      "copying MANIFEST.in -> en_ner_demo-0.0.0\n",
      "copying README.md -> en_ner_demo-0.0.0\n",
      "copying meta.json -> en_ner_demo-0.0.0\n",
      "copying setup.py -> en_ner_demo-0.0.0\n",
      "copying en_ner_demo/__init__.py -> en_ner_demo-0.0.0/en_ner_demo\n",
      "copying en_ner_demo/meta.json -> en_ner_demo-0.0.0/en_ner_demo\n",
      "copying en_ner_demo.egg-info/PKG-INFO -> en_ner_demo-0.0.0/en_ner_demo.egg-info\n",
      "copying en_ner_demo.egg-info/SOURCES.txt -> en_ner_demo-0.0.0/en_ner_demo.egg-info\n",
      "copying en_ner_demo.egg-info/dependency_links.txt -> en_ner_demo-0.0.0/en_ner_demo.egg-info\n",
      "copying en_ner_demo.egg-info/entry_points.txt -> en_ner_demo-0.0.0/en_ner_demo.egg-info\n",
      "copying en_ner_demo.egg-info/not-zip-safe -> en_ner_demo-0.0.0/en_ner_demo.egg-info\n",
      "copying en_ner_demo.egg-info/requires.txt -> en_ner_demo-0.0.0/en_ner_demo.egg-info\n",
      "copying en_ner_demo.egg-info/top_level.txt -> en_ner_demo-0.0.0/en_ner_demo.egg-info\n",
      "copying en_ner_demo/en_ner_demo-0.0.0/config.cfg -> en_ner_demo-0.0.0/en_ner_demo/en_ner_demo-0.0.0\n",
      "copying en_ner_demo/en_ner_demo-0.0.0/meta.json -> en_ner_demo-0.0.0/en_ner_demo/en_ner_demo-0.0.0\n",
      "copying en_ner_demo/en_ner_demo-0.0.0/tokenizer -> en_ner_demo-0.0.0/en_ner_demo/en_ner_demo-0.0.0\n",
      "copying en_ner_demo/en_ner_demo-0.0.0/ner/cfg -> en_ner_demo-0.0.0/en_ner_demo/en_ner_demo-0.0.0/ner\n",
      "copying en_ner_demo/en_ner_demo-0.0.0/ner/model -> en_ner_demo-0.0.0/en_ner_demo/en_ner_demo-0.0.0/ner\n",
      "copying en_ner_demo/en_ner_demo-0.0.0/ner/moves -> en_ner_demo-0.0.0/en_ner_demo/en_ner_demo-0.0.0/ner\n",
      "copying en_ner_demo/en_ner_demo-0.0.0/tok2vec/cfg -> en_ner_demo-0.0.0/en_ner_demo/en_ner_demo-0.0.0/tok2vec\n",
      "copying en_ner_demo/en_ner_demo-0.0.0/tok2vec/model -> en_ner_demo-0.0.0/en_ner_demo/en_ner_demo-0.0.0/tok2vec\n",
      "copying en_ner_demo/en_ner_demo-0.0.0/vocab/key2row -> en_ner_demo-0.0.0/en_ner_demo/en_ner_demo-0.0.0/vocab\n",
      "copying en_ner_demo/en_ner_demo-0.0.0/vocab/lookups.bin -> en_ner_demo-0.0.0/en_ner_demo/en_ner_demo-0.0.0/vocab\n",
      "copying en_ner_demo/en_ner_demo-0.0.0/vocab/strings.json -> en_ner_demo-0.0.0/en_ner_demo/en_ner_demo-0.0.0/vocab\n",
      "copying en_ner_demo/en_ner_demo-0.0.0/vocab/vectors -> en_ner_demo-0.0.0/en_ner_demo/en_ner_demo-0.0.0/vocab\n",
      "Writing en_ner_demo-0.0.0/setup.cfg\n",
      "Creating tar archive\n",
      "removing 'en_ner_demo-0.0.0' (and everything under it)\n",
      "\u001b[38;5;2m✔ Successfully created zipped Python package\u001b[0m\n",
      "packages/en_ner_demo-0.0.0/dist/en_ner_demo-0.0.0.tar.gz\n"
     ]
    }
   ],
   "source": [
    "!python -m spacy project run package"
   ]
  },
  {
   "cell_type": "markdown",
   "metadata": {},
   "source": [
    "# Visualize the model's output with Streamlit:\n"
   ]
  },
  {
   "cell_type": "code",
   "execution_count": 8,
   "metadata": {},
   "outputs": [
    {
     "name": "stdout",
     "output_type": "stream",
     "text": [
      "/usr/local/anaconda3/lib/python3.7/site-packages/tensorflow/python/framework/dtypes.py:516: FutureWarning: Passing (type, 1) or '1type' as a synonym of type is deprecated; in a future version of numpy, it will be understood as (type, (1,)) / '(1,)type'.\n",
      "  _np_qint8 = np.dtype([(\"qint8\", np.int8, 1)])\n",
      "/usr/local/anaconda3/lib/python3.7/site-packages/tensorflow/python/framework/dtypes.py:517: FutureWarning: Passing (type, 1) or '1type' as a synonym of type is deprecated; in a future version of numpy, it will be understood as (type, (1,)) / '(1,)type'.\n",
      "  _np_quint8 = np.dtype([(\"quint8\", np.uint8, 1)])\n",
      "/usr/local/anaconda3/lib/python3.7/site-packages/tensorflow/python/framework/dtypes.py:518: FutureWarning: Passing (type, 1) or '1type' as a synonym of type is deprecated; in a future version of numpy, it will be understood as (type, (1,)) / '(1,)type'.\n",
      "  _np_qint16 = np.dtype([(\"qint16\", np.int16, 1)])\n",
      "/usr/local/anaconda3/lib/python3.7/site-packages/tensorflow/python/framework/dtypes.py:519: FutureWarning: Passing (type, 1) or '1type' as a synonym of type is deprecated; in a future version of numpy, it will be understood as (type, (1,)) / '(1,)type'.\n",
      "  _np_quint16 = np.dtype([(\"quint16\", np.uint16, 1)])\n",
      "/usr/local/anaconda3/lib/python3.7/site-packages/tensorflow/python/framework/dtypes.py:520: FutureWarning: Passing (type, 1) or '1type' as a synonym of type is deprecated; in a future version of numpy, it will be understood as (type, (1,)) / '(1,)type'.\n",
      "  _np_qint32 = np.dtype([(\"qint32\", np.int32, 1)])\n",
      "/usr/local/anaconda3/lib/python3.7/site-packages/tensorflow/python/framework/dtypes.py:525: FutureWarning: Passing (type, 1) or '1type' as a synonym of type is deprecated; in a future version of numpy, it will be understood as (type, (1,)) / '(1,)type'.\n",
      "  np_resource = np.dtype([(\"resource\", np.ubyte, 1)])\n",
      "\u001b[1m\n",
      "============================== visualize-model ==============================\u001b[0m\n",
      "Running command: streamlit run scripts/visualize_model.py training/model-best 'I saw Shaka Khan in London.'\n",
      "Traceback (most recent call last):\n",
      "  File \"/usr/local/anaconda3/bin/streamlit\", line 6, in <module>\n",
      "    from streamlit.cli import main\n",
      "  File \"/usr/local/anaconda3/lib/python3.7/site-packages/streamlit/__init__.py\", line 48, in <module>\n",
      "    from streamlit.proto.RootContainer_pb2 import RootContainer\n",
      "  File \"/usr/local/anaconda3/lib/python3.7/site-packages/streamlit/proto/RootContainer_pb2.py\", line 22, in <module>\n",
      "    create_key=_descriptor._internal_create_key,\n",
      "AttributeError: module 'google.protobuf.descriptor' has no attribute '_internal_create_key'\n"
     ]
    }
   ],
   "source": [
    "!python -m spacy project run visualize-model"
   ]
  },
  {
   "cell_type": "code",
   "execution_count": null,
   "metadata": {},
   "outputs": [],
   "source": []
  }
 ],
 "metadata": {
  "kernelspec": {
   "display_name": "Python 3",
   "language": "python",
   "name": "python3"
  },
  "language_info": {
   "codemirror_mode": {
    "name": "ipython",
    "version": 3
   },
   "file_extension": ".py",
   "mimetype": "text/x-python",
   "name": "python",
   "nbconvert_exporter": "python",
   "pygments_lexer": "ipython3",
   "version": "3.7.4"
  }
 },
 "nbformat": 4,
 "nbformat_minor": 4
}
