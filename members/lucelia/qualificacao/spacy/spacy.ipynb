{
 "cells": [
  {
   "cell_type": "markdown",
   "metadata": {},
   "source": [
    "# Step 1 - Instaal Spacy 3.1.2 library"
   ]
  },
  {
   "cell_type": "code",
   "execution_count": null,
   "metadata": {},
   "outputs": [],
   "source": [
    "!pip install -U spacy"
   ]
  },
  {
   "cell_type": "markdown",
   "metadata": {},
   "source": [
    "# Step 2 - download PT-BR Model"
   ]
  },
  {
   "cell_type": "code",
   "execution_count": null,
   "metadata": {},
   "outputs": [],
   "source": [
    "!python -m spacy download pt_core_news_sm"
   ]
  },
  {
   "cell_type": "markdown",
   "metadata": {},
   "source": [
    "# Step 3 - Create model "
   ]
  },
  {
   "cell_type": "code",
   "execution_count": null,
   "metadata": {},
   "outputs": [],
   "source": [
    "#!python /Users/pessoal/Documents/GitHub/Alura/train_ner_2.py -m pt -o /Users/pessoal/Documents/GitHub/Alura/modelo_lucelia.md\n",
    "\n",
    "!python train_ner_2.py -m pt_core_news_sm -o modelo_lucelia.md"
   ]
  },
  {
   "cell_type": "markdown",
   "metadata": {},
   "source": [
    "# Step 4 - Load Model"
   ]
  },
  {
   "cell_type": "code",
   "execution_count": null,
   "metadata": {},
   "outputs": [],
   "source": [
    "import spacy\n",
    "nlp = spacy.load('modelo_lucelia.md')"
   ]
  },
  {
   "cell_type": "markdown",
   "metadata": {},
   "source": [
    "# Step 5 - Run Model Test 1"
   ]
  },
  {
   "cell_type": "code",
   "execution_count": null,
   "metadata": {},
   "outputs": [],
   "source": [
    "import spacy\n",
    "doc = nlp(u'O Rato roeu a roupa do rei de Roma em 01/10/2021')\n",
    "print([(entity, entity.label_) for entity in doc.ents])\n",
    "\n",
    "print(doc.text)\n",
    "\n",
    "from spacy import displacy\n",
    "displacy.render (doc, style='ent', jupyter=True)\n",
    "\n",
    "for token in doc:\n",
    "    print(token.text, token.pos_, token.dep_)"
   ]
  },
  {
   "cell_type": "markdown",
   "metadata": {},
   "source": [
    "# Step 5 - Run Model Test 2"
   ]
  },
  {
   "cell_type": "code",
   "execution_count": null,
   "metadata": {},
   "outputs": [],
   "source": [
    "#importamos o spaCy e passamos como parâmetro para nlp o modelo em português.\n",
    "\n",
    "import spacy\n",
    "from spacy.lang.pt.examples import sentences \n",
    "import pt_core_news_sm\n",
    "nlp = spacy.load(\"pt_core_news_sm\")"
   ]
  },
  {
   "cell_type": "code",
   "execution_count": null,
   "metadata": {},
   "outputs": [],
   "source": [
    "doc = nlp(sentences[0])\n",
    "print(doc.text)\n",
    "\n",
    "from spacy import displacy\n",
    "displacy.render (doc, style='ent', jupyter=True)\n",
    "\n",
    "for token in doc:\n",
    "    print(token.text, token.pos_, token.dep_)"
   ]
  },
  {
   "cell_type": "code",
   "execution_count": null,
   "metadata": {},
   "outputs": [],
   "source": [
    "from spacy import displacy\n",
    "displacy.render (doc, style='ent', jupyter=True)"
   ]
  },
  {
   "cell_type": "code",
   "execution_count": null,
   "metadata": {},
   "outputs": [],
   "source": [
    "!python /Users/pessoal/Documents/GitHub/Alura/train_ner.py -m pt -o /Users/pessoal/Documents/GitHub/Alura/modelo_lucelia.md"
   ]
  },
  {
   "cell_type": "code",
   "execution_count": null,
   "metadata": {},
   "outputs": [],
   "source": [
    "#The pipelines/ner_demo project converts the spaCy v2 train_ner.py demo script into a spaCy v3 project.\n",
    "#Clone the project:\n",
    "    \n",
    "!python -m spacy project clone pipelines/ner_demo"
   ]
  },
  {
   "cell_type": "code",
   "execution_count": null,
   "metadata": {},
   "outputs": [],
   "source": [
    "#Install requirements and download any data assets:\n",
    "    \n",
    "!python -m pip install -r /Users/pessoal/ner_demo/requirements.txt\n",
    "!python -m spacy project assets"
   ]
  },
  {
   "cell_type": "code",
   "execution_count": null,
   "metadata": {},
   "outputs": [],
   "source": [
    "#Run the default workflow to convert, train and evaluate:\n",
    "#ver com os meninos como dar o cd ner_demo por aqui\n",
    "!python -m spacy project run all"
   ]
  },
  {
   "cell_type": "code",
   "execution_count": null,
   "metadata": {},
   "outputs": [],
   "source": [
    "#Package the model:\n",
    "\n",
    "!python -m spacy project run package"
   ]
  },
  {
   "cell_type": "code",
   "execution_count": null,
   "metadata": {},
   "outputs": [],
   "source": [
    "#Visualize the model's output with Streamlit:\n",
    "\n",
    "!python -m spacy project run visualize-model"
   ]
  }
 ],
 "metadata": {
  "kernelspec": {
   "display_name": "Python 3 (ipykernel)",
   "language": "python",
   "name": "python3"
  },
  "language_info": {
   "codemirror_mode": {
    "name": "ipython",
    "version": 3
   },
   "file_extension": ".py",
   "mimetype": "text/x-python",
   "name": "python",
   "nbconvert_exporter": "python",
   "pygments_lexer": "ipython3",
   "version": "3.7.11"
  }
 },
 "nbformat": 4,
 "nbformat_minor": 4
}
