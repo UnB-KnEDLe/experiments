{
 "cells": [
  {
   "cell_type": "code",
   "execution_count": 1,
   "source": [
    "#instalando a biblioteca Spacy 3.1.2.\n",
    "pip install -U spacy"
   ],
   "outputs": [
    {
     "output_type": "stream",
     "name": "stdout",
     "text": [
      "Collecting spacy\n",
      "\u001b[?25l  Downloading https://files.pythonhosted.org/packages/20/1b/284010fe674c06ef11405e61dd71075195819c921f2038e8396171bded6e/spacy-3.1.2-cp37-cp37m-macosx_10_9_x86_64.whl (6.0MB)\n",
      "\u001b[K     |████████████████████████████████| 6.0MB 4.3MB/s eta 0:00:01     |████████████▉                   | 2.4MB 1.5MB/s eta 0:00:03     |█████████████████▌              | 3.3MB 1.5MB/s eta 0:00:02\n",
      "\u001b[?25hRequirement already satisfied, skipping upgrade: requests<3.0.0,>=2.13.0 in /usr/local/anaconda3/lib/python3.7/site-packages (from spacy) (2.22.0)\n",
      "Requirement already satisfied, skipping upgrade: blis<0.8.0,>=0.4.0 in /usr/local/anaconda3/lib/python3.7/site-packages (from spacy) (0.4.1)\n",
      "Collecting spacy-legacy<3.1.0,>=3.0.7 (from spacy)\n",
      "  Downloading https://files.pythonhosted.org/packages/d3/e8/1bc00eeff3faf1c50bde941f88a491a5c1128debb75dd8c913401e71585c/spacy_legacy-3.0.8-py2.py3-none-any.whl\n",
      "Requirement already satisfied, skipping upgrade: jinja2 in /usr/local/anaconda3/lib/python3.7/site-packages (from spacy) (2.10.3)\n",
      "Collecting pydantic!=1.8,!=1.8.1,<1.9.0,>=1.7.4 (from spacy)\n",
      "\u001b[?25l  Downloading https://files.pythonhosted.org/packages/12/b7/825bf1578e5bd4e70813f40f8e10c11c7ddcf0e0a59faefa79c65b37a139/pydantic-1.8.2-cp37-cp37m-macosx_10_9_x86_64.whl (2.6MB)\n",
      "\u001b[K     |████████████████████████████████| 2.6MB 6.1MB/s eta 0:00:01\n",
      "\u001b[?25hCollecting tqdm<5.0.0,>=4.38.0 (from spacy)\n",
      "\u001b[?25l  Downloading https://files.pythonhosted.org/packages/96/8f/61d0ab27df8252139eadfd54ba92c6520fec87b205b23ccf77fc3b8225b8/tqdm-4.62.1-py2.py3-none-any.whl (76kB)\n",
      "\u001b[K     |████████████████████████████████| 81kB 5.9MB/s eta 0:00:01\n",
      "\u001b[?25hRequirement already satisfied, skipping upgrade: setuptools in /usr/local/anaconda3/lib/python3.7/site-packages (from spacy) (41.4.0)\n",
      "Collecting thinc<8.1.0,>=8.0.8 (from spacy)\n",
      "\u001b[?25l  Downloading https://files.pythonhosted.org/packages/13/66/b4017fd5d8b13d88da103418c741fb586c9dd0d7f608978b0bccad5c6523/thinc-8.0.8-cp37-cp37m-macosx_10_9_x86_64.whl (591kB)\n",
      "\u001b[K     |████████████████████████████████| 593kB 3.7MB/s eta 0:00:01\n",
      "\u001b[?25hRequirement already satisfied, skipping upgrade: numpy>=1.15.0 in /usr/local/anaconda3/lib/python3.7/site-packages (from spacy) (1.17.3)\n",
      "Requirement already satisfied, skipping upgrade: preshed<3.1.0,>=3.0.2 in /usr/local/anaconda3/lib/python3.7/site-packages (from spacy) (3.0.5)\n",
      "Collecting typer<0.4.0,>=0.3.0 (from spacy)\n",
      "  Downloading https://files.pythonhosted.org/packages/90/34/d138832f6945432c638f32137e6c79a3b682f06a63c488dcfaca6b166c64/typer-0.3.2-py3-none-any.whl\n",
      "Requirement already satisfied, skipping upgrade: typing-extensions<4.0.0.0,>=3.7.4; python_version < \"3.8\" in /usr/local/anaconda3/lib/python3.7/site-packages (from spacy) (3.10.0.0)\n",
      "Requirement already satisfied, skipping upgrade: murmurhash<1.1.0,>=0.28.0 in /usr/local/anaconda3/lib/python3.7/site-packages (from spacy) (1.0.5)\n",
      "Requirement already satisfied, skipping upgrade: cymem<2.1.0,>=2.0.2 in /usr/local/anaconda3/lib/python3.7/site-packages (from spacy) (2.0.5)\n",
      "Collecting pathy>=0.3.5 (from spacy)\n",
      "\u001b[?25l  Downloading https://files.pythonhosted.org/packages/65/ae/ecfa3e2dc267010fa320034be0eb3a8e683dc98dae7e70f92b41605b4d35/pathy-0.6.0-py3-none-any.whl (42kB)\n",
      "\u001b[K     |████████████████████████████████| 51kB 7.9MB/s eta 0:00:01\n",
      "\u001b[?25hRequirement already satisfied, skipping upgrade: wasabi<1.1.0,>=0.8.1 in /usr/local/anaconda3/lib/python3.7/site-packages (from spacy) (0.8.2)\n",
      "Collecting srsly<3.0.0,>=2.4.1 (from spacy)\n",
      "\u001b[?25l  Downloading https://files.pythonhosted.org/packages/ff/95/acde60d539724a1580644e3aad295b78ba01487767149399d93ee9d6078e/srsly-2.4.1-cp37-cp37m-macosx_10_9_x86_64.whl (449kB)\n",
      "\u001b[K     |████████████████████████████████| 450kB 9.7MB/s eta 0:00:01\n",
      "\u001b[?25hCollecting catalogue<2.1.0,>=2.0.4 (from spacy)\n",
      "  Downloading https://files.pythonhosted.org/packages/1f/8b/273bf7d3863570302401991839e1b2c68ae544cc5b02367f58089db872cb/catalogue-2.0.6-py3-none-any.whl\n",
      "Collecting packaging>=20.0 (from spacy)\n",
      "\u001b[?25l  Downloading https://files.pythonhosted.org/packages/3c/77/e2362b676dc5008d81be423070dd9577fa03be5da2ba1105811900fda546/packaging-21.0-py3-none-any.whl (40kB)\n",
      "\u001b[K     |████████████████████████████████| 40kB 3.5MB/s eta 0:00:01\n",
      "\u001b[?25hRequirement already satisfied, skipping upgrade: idna<2.9,>=2.5 in /usr/local/anaconda3/lib/python3.7/site-packages (from requests<3.0.0,>=2.13.0->spacy) (2.8)\n",
      "Requirement already satisfied, skipping upgrade: urllib3!=1.25.0,!=1.25.1,<1.26,>=1.21.1 in /usr/local/anaconda3/lib/python3.7/site-packages (from requests<3.0.0,>=2.13.0->spacy) (1.24.2)\n",
      "Requirement already satisfied, skipping upgrade: certifi>=2017.4.17 in /usr/local/anaconda3/lib/python3.7/site-packages (from requests<3.0.0,>=2.13.0->spacy) (2019.9.11)\n",
      "Requirement already satisfied, skipping upgrade: chardet<3.1.0,>=3.0.2 in /usr/local/anaconda3/lib/python3.7/site-packages (from requests<3.0.0,>=2.13.0->spacy) (3.0.4)\n",
      "Requirement already satisfied, skipping upgrade: MarkupSafe>=0.23 in /usr/local/anaconda3/lib/python3.7/site-packages (from jinja2->spacy) (1.1.1)\n",
      "Collecting click<7.2.0,>=7.1.1 (from typer<0.4.0,>=0.3.0->spacy)\n",
      "\u001b[?25l  Downloading https://files.pythonhosted.org/packages/d2/3d/fa76db83bf75c4f8d338c2fd15c8d33fdd7ad23a9b5e57eb6c5de26b430e/click-7.1.2-py2.py3-none-any.whl (82kB)\n",
      "\u001b[K     |████████████████████████████████| 92kB 7.3MB/s eta 0:00:01\n",
      "\u001b[?25hCollecting smart-open<6.0.0,>=5.0.0 (from pathy>=0.3.5->spacy)\n",
      "\u001b[?25l  Downloading https://files.pythonhosted.org/packages/36/fd/3880dea47d6fe06d1cea561c93e077f0b131caf8193801d20a0a16d5e774/smart_open-5.2.0-py3-none-any.whl (58kB)\n",
      "\u001b[K     |████████████████████████████████| 61kB 6.7MB/s eta 0:00:011\n",
      "\u001b[?25hRequirement already satisfied, skipping upgrade: zipp>=0.5; python_version < \"3.8\" in /usr/local/anaconda3/lib/python3.7/site-packages (from catalogue<2.1.0,>=2.0.4->spacy) (0.6.0)\n",
      "Requirement already satisfied, skipping upgrade: pyparsing>=2.0.2 in /usr/local/anaconda3/lib/python3.7/site-packages (from packaging>=20.0->spacy) (2.4.2)\n",
      "Requirement already satisfied, skipping upgrade: more-itertools in /usr/local/anaconda3/lib/python3.7/site-packages (from zipp>=0.5; python_version < \"3.8\"->catalogue<2.1.0,>=2.0.4->spacy) (7.2.0)\n",
      "Installing collected packages: spacy-legacy, pydantic, tqdm, catalogue, srsly, thinc, click, typer, smart-open, pathy, packaging, spacy\n",
      "  Found existing installation: tqdm 4.36.1\n",
      "    Uninstalling tqdm-4.36.1:\n",
      "      Successfully uninstalled tqdm-4.36.1\n",
      "  Found existing installation: srsly 1.0.5\n",
      "    Uninstalling srsly-1.0.5:\n",
      "      Successfully uninstalled srsly-1.0.5\n",
      "  Found existing installation: thinc 7.1.1\n",
      "    Uninstalling thinc-7.1.1:\n",
      "      Successfully uninstalled thinc-7.1.1\n",
      "  Found existing installation: Click 7.0\n",
      "    Uninstalling Click-7.0:\n",
      "      Successfully uninstalled Click-7.0\n",
      "  Found existing installation: packaging 19.2\n",
      "    Uninstalling packaging-19.2:\n",
      "      Successfully uninstalled packaging-19.2\n",
      "  Found existing installation: spacy 2.2.0\n",
      "    Uninstalling spacy-2.2.0:\n",
      "      Successfully uninstalled spacy-2.2.0\n",
      "Successfully installed catalogue-2.0.6 click-7.1.2 packaging-21.0 pathy-0.6.0 pydantic-1.8.2 smart-open-5.2.0 spacy-3.1.2 spacy-legacy-3.0.8 srsly-2.4.1 thinc-8.0.8 tqdm-4.62.1 typer-0.3.2\n",
      "Note: you may need to restart the kernel to use updated packages.\n"
     ]
    }
   ],
   "metadata": {}
  },
  {
   "cell_type": "code",
   "execution_count": 12,
   "source": [
    "#download do modelo PT-BR\n",
    "!python -m spacy download pt_core_news_sm\n",
    "\n"
   ],
   "outputs": [
    {
     "output_type": "stream",
     "name": "stdout",
     "text": [
      "/usr/local/anaconda3/lib/python3.7/site-packages/tensorflow/python/framework/dtypes.py:516: FutureWarning: Passing (type, 1) or '1type' as a synonym of type is deprecated; in a future version of numpy, it will be understood as (type, (1,)) / '(1,)type'.\n",
      "  _np_qint8 = np.dtype([(\"qint8\", np.int8, 1)])\n",
      "/usr/local/anaconda3/lib/python3.7/site-packages/tensorflow/python/framework/dtypes.py:517: FutureWarning: Passing (type, 1) or '1type' as a synonym of type is deprecated; in a future version of numpy, it will be understood as (type, (1,)) / '(1,)type'.\n",
      "  _np_quint8 = np.dtype([(\"quint8\", np.uint8, 1)])\n",
      "/usr/local/anaconda3/lib/python3.7/site-packages/tensorflow/python/framework/dtypes.py:518: FutureWarning: Passing (type, 1) or '1type' as a synonym of type is deprecated; in a future version of numpy, it will be understood as (type, (1,)) / '(1,)type'.\n",
      "  _np_qint16 = np.dtype([(\"qint16\", np.int16, 1)])\n",
      "/usr/local/anaconda3/lib/python3.7/site-packages/tensorflow/python/framework/dtypes.py:519: FutureWarning: Passing (type, 1) or '1type' as a synonym of type is deprecated; in a future version of numpy, it will be understood as (type, (1,)) / '(1,)type'.\n",
      "  _np_quint16 = np.dtype([(\"quint16\", np.uint16, 1)])\n",
      "/usr/local/anaconda3/lib/python3.7/site-packages/tensorflow/python/framework/dtypes.py:520: FutureWarning: Passing (type, 1) or '1type' as a synonym of type is deprecated; in a future version of numpy, it will be understood as (type, (1,)) / '(1,)type'.\n",
      "  _np_qint32 = np.dtype([(\"qint32\", np.int32, 1)])\n",
      "/usr/local/anaconda3/lib/python3.7/site-packages/tensorflow/python/framework/dtypes.py:525: FutureWarning: Passing (type, 1) or '1type' as a synonym of type is deprecated; in a future version of numpy, it will be understood as (type, (1,)) / '(1,)type'.\n",
      "  np_resource = np.dtype([(\"resource\", np.ubyte, 1)])\n",
      "Collecting pt-core-news-sm==3.1.0 from https://github.com/explosion/spacy-models/releases/download/pt_core_news_sm-3.1.0/pt_core_news_sm-3.1.0-py3-none-any.whl#egg=pt_core_news_sm==3.1.0\n",
      "\u001b[?25l  Downloading https://github.com/explosion/spacy-models/releases/download/pt_core_news_sm-3.1.0/pt_core_news_sm-3.1.0-py3-none-any.whl (21.9MB)\n",
      "\u001b[K     |████████████████████████████████| 21.9MB 7.4MB/s eta 0:00:011   |████████████▊                   | 8.7MB 7.7MB/s eta 0:00:02\n",
      "\u001b[?25hRequirement already satisfied: spacy<3.2.0,>=3.1.0 in /usr/local/anaconda3/lib/python3.7/site-packages (from pt-core-news-sm==3.1.0) (3.1.2)\n",
      "Requirement already satisfied: catalogue<2.1.0,>=2.0.4 in /usr/local/anaconda3/lib/python3.7/site-packages (from spacy<3.2.0,>=3.1.0->pt-core-news-sm==3.1.0) (2.0.6)\n",
      "Requirement already satisfied: spacy-legacy<3.1.0,>=3.0.7 in /usr/local/anaconda3/lib/python3.7/site-packages (from spacy<3.2.0,>=3.1.0->pt-core-news-sm==3.1.0) (3.0.8)\n",
      "Requirement already satisfied: murmurhash<1.1.0,>=0.28.0 in /usr/local/anaconda3/lib/python3.7/site-packages (from spacy<3.2.0,>=3.1.0->pt-core-news-sm==3.1.0) (1.0.5)\n",
      "Requirement already satisfied: srsly<3.0.0,>=2.4.1 in /usr/local/anaconda3/lib/python3.7/site-packages (from spacy<3.2.0,>=3.1.0->pt-core-news-sm==3.1.0) (2.4.1)\n",
      "Requirement already satisfied: typer<0.4.0,>=0.3.0 in /usr/local/anaconda3/lib/python3.7/site-packages (from spacy<3.2.0,>=3.1.0->pt-core-news-sm==3.1.0) (0.3.2)\n",
      "Requirement already satisfied: pathy>=0.3.5 in /usr/local/anaconda3/lib/python3.7/site-packages (from spacy<3.2.0,>=3.1.0->pt-core-news-sm==3.1.0) (0.6.0)\n",
      "Requirement already satisfied: packaging>=20.0 in /usr/local/anaconda3/lib/python3.7/site-packages (from spacy<3.2.0,>=3.1.0->pt-core-news-sm==3.1.0) (21.0)\n",
      "Requirement already satisfied: setuptools in /usr/local/anaconda3/lib/python3.7/site-packages (from spacy<3.2.0,>=3.1.0->pt-core-news-sm==3.1.0) (41.4.0)\n",
      "Requirement already satisfied: typing-extensions<4.0.0.0,>=3.7.4; python_version < \"3.8\" in /usr/local/anaconda3/lib/python3.7/site-packages (from spacy<3.2.0,>=3.1.0->pt-core-news-sm==3.1.0) (3.10.0.0)\n",
      "Requirement already satisfied: preshed<3.1.0,>=3.0.2 in /usr/local/anaconda3/lib/python3.7/site-packages (from spacy<3.2.0,>=3.1.0->pt-core-news-sm==3.1.0) (3.0.5)\n",
      "Requirement already satisfied: requests<3.0.0,>=2.13.0 in /usr/local/anaconda3/lib/python3.7/site-packages (from spacy<3.2.0,>=3.1.0->pt-core-news-sm==3.1.0) (2.22.0)\n",
      "Requirement already satisfied: blis<0.8.0,>=0.4.0 in /usr/local/anaconda3/lib/python3.7/site-packages (from spacy<3.2.0,>=3.1.0->pt-core-news-sm==3.1.0) (0.4.1)\n",
      "Requirement already satisfied: wasabi<1.1.0,>=0.8.1 in /usr/local/anaconda3/lib/python3.7/site-packages (from spacy<3.2.0,>=3.1.0->pt-core-news-sm==3.1.0) (0.8.2)\n",
      "Requirement already satisfied: cymem<2.1.0,>=2.0.2 in /usr/local/anaconda3/lib/python3.7/site-packages (from spacy<3.2.0,>=3.1.0->pt-core-news-sm==3.1.0) (2.0.5)\n",
      "Requirement already satisfied: numpy>=1.15.0 in /usr/local/anaconda3/lib/python3.7/site-packages (from spacy<3.2.0,>=3.1.0->pt-core-news-sm==3.1.0) (1.17.3)\n",
      "Requirement already satisfied: pydantic!=1.8,!=1.8.1,<1.9.0,>=1.7.4 in /usr/local/anaconda3/lib/python3.7/site-packages (from spacy<3.2.0,>=3.1.0->pt-core-news-sm==3.1.0) (1.8.2)\n",
      "Requirement already satisfied: jinja2 in /usr/local/anaconda3/lib/python3.7/site-packages (from spacy<3.2.0,>=3.1.0->pt-core-news-sm==3.1.0) (2.10.3)\n",
      "Requirement already satisfied: tqdm<5.0.0,>=4.38.0 in /usr/local/anaconda3/lib/python3.7/site-packages (from spacy<3.2.0,>=3.1.0->pt-core-news-sm==3.1.0) (4.62.1)\n",
      "Requirement already satisfied: thinc<8.1.0,>=8.0.8 in /usr/local/anaconda3/lib/python3.7/site-packages (from spacy<3.2.0,>=3.1.0->pt-core-news-sm==3.1.0) (8.0.8)\n",
      "Requirement already satisfied: zipp>=0.5; python_version < \"3.8\" in /usr/local/anaconda3/lib/python3.7/site-packages (from catalogue<2.1.0,>=2.0.4->spacy<3.2.0,>=3.1.0->pt-core-news-sm==3.1.0) (0.6.0)\n",
      "Requirement already satisfied: click<7.2.0,>=7.1.1 in /usr/local/anaconda3/lib/python3.7/site-packages (from typer<0.4.0,>=0.3.0->spacy<3.2.0,>=3.1.0->pt-core-news-sm==3.1.0) (7.1.2)\n",
      "Requirement already satisfied: smart-open<6.0.0,>=5.0.0 in /usr/local/anaconda3/lib/python3.7/site-packages (from pathy>=0.3.5->spacy<3.2.0,>=3.1.0->pt-core-news-sm==3.1.0) (5.2.0)\n",
      "Requirement already satisfied: pyparsing>=2.0.2 in /usr/local/anaconda3/lib/python3.7/site-packages (from packaging>=20.0->spacy<3.2.0,>=3.1.0->pt-core-news-sm==3.1.0) (2.4.2)\n",
      "Requirement already satisfied: certifi>=2017.4.17 in /usr/local/anaconda3/lib/python3.7/site-packages (from requests<3.0.0,>=2.13.0->spacy<3.2.0,>=3.1.0->pt-core-news-sm==3.1.0) (2019.9.11)\n",
      "Requirement already satisfied: chardet<3.1.0,>=3.0.2 in /usr/local/anaconda3/lib/python3.7/site-packages (from requests<3.0.0,>=2.13.0->spacy<3.2.0,>=3.1.0->pt-core-news-sm==3.1.0) (3.0.4)\n",
      "Requirement already satisfied: idna<2.9,>=2.5 in /usr/local/anaconda3/lib/python3.7/site-packages (from requests<3.0.0,>=2.13.0->spacy<3.2.0,>=3.1.0->pt-core-news-sm==3.1.0) (2.8)\n",
      "Requirement already satisfied: urllib3!=1.25.0,!=1.25.1,<1.26,>=1.21.1 in /usr/local/anaconda3/lib/python3.7/site-packages (from requests<3.0.0,>=2.13.0->spacy<3.2.0,>=3.1.0->pt-core-news-sm==3.1.0) (1.24.2)\n",
      "Requirement already satisfied: MarkupSafe>=0.23 in /usr/local/anaconda3/lib/python3.7/site-packages (from jinja2->spacy<3.2.0,>=3.1.0->pt-core-news-sm==3.1.0) (1.1.1)\n",
      "Requirement already satisfied: more-itertools in /usr/local/anaconda3/lib/python3.7/site-packages (from zipp>=0.5; python_version < \"3.8\"->catalogue<2.1.0,>=2.0.4->spacy<3.2.0,>=3.1.0->pt-core-news-sm==3.1.0) (7.2.0)\n",
      "Installing collected packages: pt-core-news-sm\n",
      "Successfully installed pt-core-news-sm-3.1.0\n",
      "\u001b[38;5;2m✔ Download and installation successful\u001b[0m\n",
      "You can now load the package via spacy.load('pt_core_news_sm')\n"
     ]
    }
   ],
   "metadata": {}
  },
  {
   "cell_type": "code",
   "execution_count": 9,
   "source": [
    "!python train_ner_1.py -m pt_core_news_sm -o modelo_lucelia.md"
   ],
   "outputs": [
    {
     "output_type": "stream",
     "name": "stdout",
     "text": [
      "/usr/local/anaconda3/lib/python3.7/site-packages/tensorflow/python/framework/dtypes.py:516: FutureWarning: Passing (type, 1) or '1type' as a synonym of type is deprecated; in a future version of numpy, it will be understood as (type, (1,)) / '(1,)type'.\n",
      "  _np_qint8 = np.dtype([(\"qint8\", np.int8, 1)])\n",
      "/usr/local/anaconda3/lib/python3.7/site-packages/tensorflow/python/framework/dtypes.py:517: FutureWarning: Passing (type, 1) or '1type' as a synonym of type is deprecated; in a future version of numpy, it will be understood as (type, (1,)) / '(1,)type'.\n",
      "  _np_quint8 = np.dtype([(\"quint8\", np.uint8, 1)])\n",
      "/usr/local/anaconda3/lib/python3.7/site-packages/tensorflow/python/framework/dtypes.py:518: FutureWarning: Passing (type, 1) or '1type' as a synonym of type is deprecated; in a future version of numpy, it will be understood as (type, (1,)) / '(1,)type'.\n",
      "  _np_qint16 = np.dtype([(\"qint16\", np.int16, 1)])\n",
      "/usr/local/anaconda3/lib/python3.7/site-packages/tensorflow/python/framework/dtypes.py:519: FutureWarning: Passing (type, 1) or '1type' as a synonym of type is deprecated; in a future version of numpy, it will be understood as (type, (1,)) / '(1,)type'.\n",
      "  _np_quint16 = np.dtype([(\"quint16\", np.uint16, 1)])\n",
      "/usr/local/anaconda3/lib/python3.7/site-packages/tensorflow/python/framework/dtypes.py:520: FutureWarning: Passing (type, 1) or '1type' as a synonym of type is deprecated; in a future version of numpy, it will be understood as (type, (1,)) / '(1,)type'.\n",
      "  _np_qint32 = np.dtype([(\"qint32\", np.int32, 1)])\n",
      "/usr/local/anaconda3/lib/python3.7/site-packages/tensorflow/python/framework/dtypes.py:525: FutureWarning: Passing (type, 1) or '1type' as a synonym of type is deprecated; in a future version of numpy, it will be understood as (type, (1,)) / '(1,)type'.\n",
      "  np_resource = np.dtype([(\"resource\", np.ubyte, 1)])\n",
      "Loaded model 'pt_core_news_sm'\n",
      "Losses {'ner': 14.434191617827668}\n",
      "Losses {'ner': 15.730561508290544}\n",
      "Losses {'ner': 16.14220716551291}\n",
      "Losses {'ner': 9.212970903880095}\n",
      "Losses {'ner': 9.677749886960697}\n",
      "Losses {'ner': 8.875011341466593}\n",
      "Losses {'ner': 6.849069912941104}\n",
      "Losses {'ner': 10.263580133178039}\n",
      "Losses {'ner': 10.105755770807264}\n",
      "Losses {'ner': 8.897313292312901}\n",
      "Losses {'ner': 5.575599010353471}\n",
      "Losses {'ner': 6.244795496876577}\n",
      "Losses {'ner': 6.734142338624224}\n",
      "Losses {'ner': 6.897984393835941}\n",
      "Losses {'ner': 7.875970800334471}\n",
      "Losses {'ner': 3.9110888663853984}\n",
      "Losses {'ner': 4.4899944619319285}\n",
      "Losses {'ner': 6.7118456499883905}\n",
      "Losses {'ner': 5.733334569187718}\n",
      "Losses {'ner': 3.9435230112385398}\n",
      "Losses {'ner': 4.476920053111826}\n",
      "Losses {'ner': 3.3459237657662015}\n",
      "Losses {'ner': 3.521470136649441}\n",
      "Losses {'ner': 4.296728140310734}\n",
      "Losses {'ner': 3.5597559886732597}\n",
      "Losses {'ner': 2.8163525319232576}\n",
      "Losses {'ner': 3.3442911523905536}\n",
      "Losses {'ner': 5.102241621702699}\n",
      "Losses {'ner': 2.4344008328639717}\n",
      "Losses {'ner': 2.5833631607423753}\n",
      "Losses {'ner': 1.1531429529320718}\n",
      "Losses {'ner': 2.386047716926498}\n",
      "Losses {'ner': 0.9629602021606016}\n",
      "Losses {'ner': 5.190074328488436}\n",
      "Losses {'ner': 1.1187970012433937}\n",
      "Losses {'ner': 2.4753191248837094}\n",
      "Losses {'ner': 2.263418388277486}\n",
      "Losses {'ner': 0.8724158639415958}\n",
      "Losses {'ner': 0.7800968166173153}\n",
      "Losses {'ner': 3.156018109997831}\n",
      "Losses {'ner': 1.788207990079849}\n",
      "Losses {'ner': 1.1634926287560328}\n",
      "Losses {'ner': 2.71061872818938}\n",
      "Losses {'ner': 1.5506981226708292}\n",
      "Losses {'ner': 2.1766702739946537}\n",
      "Losses {'ner': 2.503748542195909}\n",
      "Losses {'ner': 2.036845003479784}\n",
      "Losses {'ner': 1.0855754516847063}\n",
      "Losses {'ner': 1.4714713698178805}\n",
      "Losses {'ner': 2.0996089051080955}\n",
      "Losses {'ner': 1.359777403581042}\n",
      "Losses {'ner': 0.8069948292292093}\n",
      "Losses {'ner': 1.599668841481179}\n",
      "Losses {'ner': 0.8135729055392114}\n",
      "Losses {'ner': 0.6188928201611422}\n",
      "Losses {'ner': 0.7507621085259943}\n",
      "Losses {'ner': 0.5438449385523653}\n",
      "Losses {'ner': 0.1095663946160256}\n",
      "Losses {'ner': 0.061782434307699884}\n",
      "Losses {'ner': 0.01923522366311639}\n",
      "Losses {'ner': 0.017446163701733925}\n",
      "Losses {'ner': 0.013595179980666932}\n",
      "Losses {'ner': 0.001159457818426975}\n",
      "Losses {'ner': 0.6194563759469311}\n",
      "Losses {'ner': 0.0007946423519299921}\n",
      "Losses {'ner': 0.0015268957325399117}\n",
      "Losses {'ner': 0.035077795839386416}\n",
      "Losses {'ner': 0.00014508567564737565}\n",
      "Losses {'ner': 3.606449548801132e-05}\n",
      "Losses {'ner': 0.00022364510181891302}\n",
      "Losses {'ner': 0.00013325981966438573}\n",
      "Losses {'ner': 0.00016085281142210088}\n",
      "Losses {'ner': 0.00013074443639719222}\n",
      "Losses {'ner': 2.8057121024475193e-05}\n",
      "Losses {'ner': 0.0003254130080330622}\n",
      "Losses {'ner': 0.00015019074258864118}\n",
      "Losses {'ner': 8.18057400011601e-05}\n",
      "Losses {'ner': 0.06670849140856736}\n",
      "Losses {'ner': 5.961563086571176e-05}\n",
      "Losses {'ner': 1.2827204332054938e-05}\n",
      "Losses {'ner': 0.000316907465863431}\n",
      "Losses {'ner': 1.9914524629065125e-05}\n",
      "Losses {'ner': 1.6283550725086606}\n",
      "Losses {'ner': 3.1027349754281134e-07}\n",
      "Losses {'ner': 0.8590647714278561}\n",
      "Losses {'ner': 0.01204065353163382}\n",
      "Losses {'ner': 0.005191483186188554}\n",
      "Losses {'ner': 2.6164821577496823e-05}\n",
      "Losses {'ner': 8.269813614401198e-06}\n",
      "Losses {'ner': 3.7010427099282706e-06}\n",
      "Losses {'ner': 1.5544750673102036e-06}\n",
      "Losses {'ner': 4.437023803948773e-06}\n",
      "Losses {'ner': 4.1593125014488514e-05}\n",
      "Losses {'ner': 2.398994296079553e-06}\n",
      "Losses {'ner': 0.0030915382371758146}\n",
      "Losses {'ner': 3.8154888291772625e-05}\n",
      "Losses {'ner': 2.8191772876330682e-05}\n",
      "Losses {'ner': 0.00787785944586728}\n",
      "Losses {'ner': 0.006010279173399922}\n",
      "Losses {'ner': 0.7955975761734818}\n",
      "Entities [('Almira', 'PER')]\n",
      "Tokens [('Almira', 'PER', 3), (' ', '', 2), ('uma', '', 2), ('ótima', '', 2), ('pessoa', '', 2), (',', '', 2), ('gosto', '', 2), ('muito', '', 2), ('dela', '', 2)]\n",
      "Entities [('João', 'PER'), ('Bahia', 'LOC')]\n",
      "Tokens [('João', 'PER', 3), ('foi', '', 2), ('para', '', 2), ('Bahia', 'LOC', 3), ('nas', '', 2), ('férias', '', 2)]\n",
      "Entities [('01/02/2006', 'DATE')]\n",
      "Tokens [('No', '', 2), ('dia', '', 2), ('01/02/2006', 'DATE', 3), ('foi', '', 2), ('decretada', '', 2), ('a', '', 2), ('sentança', '', 2)]\n",
      "Entities [('07/05/2018', 'DATE')]\n",
      "Tokens [('A', '', 2), ('data', '', 2), ('da', '', 2), ('festa', '', 2), ('foi', '', 2), ('07/05/2018', 'DATE', 3)]\n",
      "Entities [('London', 'LOC'), ('Berlin', 'LOC')]\n",
      "Tokens [('I', '', 2), ('like', '', 2), ('London', 'LOC', 3), ('and', '', 2), ('Berlin', 'LOC', 3), ('.', '', 2)]\n",
      "Entities [('Shaka Khan', 'PERSON')]\n",
      "Tokens [('Who', '', 2), ('is', '', 2), ('Shaka', 'PERSON', 3), ('Khan', 'PERSON', 1), ('?', '', 2)]\n",
      "Saved model to modelo_lucelia.md\n",
      "Loading from modelo_lucelia.md\n",
      "Entities [('Almira', 'PER')]\n",
      "Tokens [('Almira', 'PER', 3), (' ', '', 2), ('uma', '', 2), ('ótima', '', 2), ('pessoa', '', 2), (',', '', 2), ('gosto', '', 2), ('muito', '', 2), ('dela', '', 2)]\n",
      "Entities [('João', 'PER'), ('Bahia', 'LOC')]\n",
      "Tokens [('João', 'PER', 3), ('foi', '', 2), ('para', '', 2), ('Bahia', 'LOC', 3), ('nas', '', 2), ('férias', '', 2)]\n",
      "Entities [('01/02/2006', 'DATE')]\n",
      "Tokens [('No', '', 2), ('dia', '', 2), ('01/02/2006', 'DATE', 3), ('foi', '', 2), ('decretada', '', 2), ('a', '', 2), ('sentança', '', 2)]\n",
      "Entities [('07/05/2018', 'DATE')]\n",
      "Tokens [('A', '', 2), ('data', '', 2), ('da', '', 2), ('festa', '', 2), ('foi', '', 2), ('07/05/2018', 'DATE', 3)]\n",
      "Entities [('London', 'LOC'), ('Berlin', 'LOC')]\n",
      "Tokens [('I', '', 2), ('like', '', 2), ('London', 'LOC', 3), ('and', '', 2), ('Berlin', 'LOC', 3), ('.', '', 2)]\n",
      "Entities [('Shaka Khan', 'PERSON')]\n",
      "Tokens [('Who', '', 2), ('is', '', 2), ('Shaka', 'PERSON', 3), ('Khan', 'PERSON', 1), ('?', '', 2)]\n"
     ]
    }
   ],
   "metadata": {}
  },
  {
   "cell_type": "code",
   "execution_count": 10,
   "source": [
    "import spacy\n",
    "nlp = spacy.load('modelo_lucelia.md')"
   ],
   "outputs": [],
   "metadata": {}
  },
  {
   "cell_type": "code",
   "execution_count": 3,
   "source": [
    "import spacy\n",
    "doc = nlp(u'O Rato roeu a roupa do rei de Roma em 01/10/2021')\n",
    "print([(entity, entity.label_) for entity in doc.ents])"
   ],
   "outputs": [
    {
     "output_type": "error",
     "ename": "NameError",
     "evalue": "name 'nlp' is not defined",
     "traceback": [
      "\u001b[0;31m---------------------------------------------------------------------------\u001b[0m",
      "\u001b[0;31mNameError\u001b[0m                                 Traceback (most recent call last)",
      "\u001b[0;32m<ipython-input-3-ccf64c416d86>\u001b[0m in \u001b[0;36m<module>\u001b[0;34m\u001b[0m\n\u001b[1;32m      1\u001b[0m \u001b[0;32mimport\u001b[0m \u001b[0mspacy\u001b[0m\u001b[0;34m\u001b[0m\u001b[0;34m\u001b[0m\u001b[0m\n\u001b[0;32m----> 2\u001b[0;31m \u001b[0mdoc\u001b[0m \u001b[0;34m=\u001b[0m \u001b[0mnlp\u001b[0m\u001b[0;34m(\u001b[0m\u001b[0;34mu'O Rato roeu a roupa do rei de Roma em 01/10/2021'\u001b[0m\u001b[0;34m)\u001b[0m\u001b[0;34m\u001b[0m\u001b[0;34m\u001b[0m\u001b[0m\n\u001b[0m\u001b[1;32m      3\u001b[0m \u001b[0mprint\u001b[0m\u001b[0;34m(\u001b[0m\u001b[0;34m[\u001b[0m\u001b[0;34m(\u001b[0m\u001b[0mentity\u001b[0m\u001b[0;34m,\u001b[0m \u001b[0mentity\u001b[0m\u001b[0;34m.\u001b[0m\u001b[0mlabel_\u001b[0m\u001b[0;34m)\u001b[0m \u001b[0;32mfor\u001b[0m \u001b[0mentity\u001b[0m \u001b[0;32min\u001b[0m \u001b[0mdoc\u001b[0m\u001b[0;34m.\u001b[0m\u001b[0ments\u001b[0m\u001b[0;34m]\u001b[0m\u001b[0;34m)\u001b[0m\u001b[0;34m\u001b[0m\u001b[0;34m\u001b[0m\u001b[0m\n",
      "\u001b[0;31mNameError\u001b[0m: name 'nlp' is not defined"
     ]
    }
   ],
   "metadata": {}
  },
  {
   "cell_type": "code",
   "execution_count": 6,
   "source": [
    "#importamos o spaCy e passamos como parâmetro para nlp o modelo em português.\n",
    "\n",
    "import spacy\n",
    "from spacy.lang.pt.examples import sentences \n",
    "import pt_core_news_sm\n",
    "nlp = spacy.load(\"pt_core_news_sm\")"
   ],
   "outputs": [],
   "metadata": {}
  },
  {
   "cell_type": "code",
   "execution_count": 8,
   "source": [
    "doc = nlp(sentences[0])\n",
    "print(doc.text)\n",
    "\n",
    "from spacy import displacy\n",
    "displacy.render (doc, style='ent', jupyter=True)\n",
    "\n",
    "for token in doc:\n",
    "    print(token.text, token.pos_, token.dep_)"
   ],
   "outputs": [
    {
     "output_type": "stream",
     "name": "stdout",
     "text": [
      "Apple está querendo comprar uma startup do Reino Unido por 100 milhões de dólares\n"
     ]
    },
    {
     "output_type": "display_data",
     "data": {
      "text/plain": [
       "<IPython.core.display.HTML object>"
      ],
      "text/html": [
       "<span class=\"tex2jax_ignore\"><div class=\"entities\" style=\"line-height: 2.5; direction: ltr\">\n",
       "<mark class=\"entity\" style=\"background: #7aecec; padding: 0.45em 0.6em; margin: 0 0.25em; line-height: 1; border-radius: 0.35em;\">\n",
       "    Apple\n",
       "    <span style=\"font-size: 0.8em; font-weight: bold; line-height: 1; border-radius: 0.35em; vertical-align: middle; margin-left: 0.5rem\">ORG</span>\n",
       "</mark>\n",
       " está querendo comprar uma startup do \n",
       "<mark class=\"entity\" style=\"background: #ff9561; padding: 0.45em 0.6em; margin: 0 0.25em; line-height: 1; border-radius: 0.35em;\">\n",
       "    Reino Unido\n",
       "    <span style=\"font-size: 0.8em; font-weight: bold; line-height: 1; border-radius: 0.35em; vertical-align: middle; margin-left: 0.5rem\">LOC</span>\n",
       "</mark>\n",
       " por 100 milhões de dólares</div></span>"
      ]
     },
     "metadata": {}
    },
    {
     "output_type": "stream",
     "name": "stdout",
     "text": [
      "Apple PROPN nsubj\n",
      "está AUX aux\n",
      "querendo VERB ROOT\n",
      "comprar VERB xcomp\n",
      "uma DET det\n",
      "startup NOUN obj\n",
      "do ADP case\n",
      "Reino PROPN nmod\n",
      "Unido PROPN flat:name\n",
      "por ADP case\n",
      "100 NUM obl\n",
      "milhões NUM flat\n",
      "de ADP case\n",
      "dólares NOUN nmod\n"
     ]
    }
   ],
   "metadata": {}
  },
  {
   "cell_type": "code",
   "execution_count": 47,
   "source": [
    "from spacy import displacy\n",
    "displacy.render (doc, style='ent', jupyter=True)"
   ],
   "outputs": [
    {
     "output_type": "display_data",
     "data": {
      "text/plain": [
       "<IPython.core.display.HTML object>"
      ],
      "text/html": [
       "<span class=\"tex2jax_ignore\"><div class=\"entities\" style=\"line-height: 2.5; direction: ltr\">\n",
       "<mark class=\"entity\" style=\"background: #7aecec; padding: 0.45em 0.6em; margin: 0 0.25em; line-height: 1; border-radius: 0.35em;\">\n",
       "    Apple\n",
       "    <span style=\"font-size: 0.8em; font-weight: bold; line-height: 1; border-radius: 0.35em; vertical-align: middle; margin-left: 0.5rem\">ORG</span>\n",
       "</mark>\n",
       " está querendo comprar uma startup do \n",
       "<mark class=\"entity\" style=\"background: #ff9561; padding: 0.45em 0.6em; margin: 0 0.25em; line-height: 1; border-radius: 0.35em;\">\n",
       "    Reino Unido\n",
       "    <span style=\"font-size: 0.8em; font-weight: bold; line-height: 1; border-radius: 0.35em; vertical-align: middle; margin-left: 0.5rem\">LOC</span>\n",
       "</mark>\n",
       " por 100 milhões de dólares</div></span>"
      ]
     },
     "metadata": {}
    }
   ],
   "metadata": {}
  },
  {
   "cell_type": "code",
   "execution_count": 24,
   "source": [
    "!python /Users/pessoal/Documents/GitHub/Alura/train_ner.py -m pt -o /Users/pessoal/Documents/GitHub/Alura/modelo_lucelia.md"
   ],
   "outputs": [
    {
     "output_type": "stream",
     "name": "stdout",
     "text": [
      "  File \"/Users/pessoal/Documents/GitHub/Alura/train_ner.py\", line 2\r\n",
      "    (“Almira é uma ótima pessoa, gosto muito dela”, {‘entities’: [(0,6,”PER”)]}),\r\n",
      "           ^\r\n",
      "SyntaxError: invalid character in identifier\r\n"
     ]
    }
   ],
   "metadata": {}
  },
  {
   "cell_type": "code",
   "execution_count": 28,
   "source": [
    "#The pipelines/ner_demo project converts the spaCy v2 train_ner.py demo script into a spaCy v3 project.\n",
    "#Clone the project:\n",
    "    \n",
    "!python -m spacy project clone pipelines/ner_demo"
   ],
   "outputs": [
    {
     "output_type": "stream",
     "name": "stdout",
     "text": [
      "/usr/local/anaconda3/lib/python3.7/site-packages/tensorflow/python/framework/dtypes.py:516: FutureWarning: Passing (type, 1) or '1type' as a synonym of type is deprecated; in a future version of numpy, it will be understood as (type, (1,)) / '(1,)type'.\n",
      "  _np_qint8 = np.dtype([(\"qint8\", np.int8, 1)])\n",
      "/usr/local/anaconda3/lib/python3.7/site-packages/tensorflow/python/framework/dtypes.py:517: FutureWarning: Passing (type, 1) or '1type' as a synonym of type is deprecated; in a future version of numpy, it will be understood as (type, (1,)) / '(1,)type'.\n",
      "  _np_quint8 = np.dtype([(\"quint8\", np.uint8, 1)])\n",
      "/usr/local/anaconda3/lib/python3.7/site-packages/tensorflow/python/framework/dtypes.py:518: FutureWarning: Passing (type, 1) or '1type' as a synonym of type is deprecated; in a future version of numpy, it will be understood as (type, (1,)) / '(1,)type'.\n",
      "  _np_qint16 = np.dtype([(\"qint16\", np.int16, 1)])\n",
      "/usr/local/anaconda3/lib/python3.7/site-packages/tensorflow/python/framework/dtypes.py:519: FutureWarning: Passing (type, 1) or '1type' as a synonym of type is deprecated; in a future version of numpy, it will be understood as (type, (1,)) / '(1,)type'.\n",
      "  _np_quint16 = np.dtype([(\"quint16\", np.uint16, 1)])\n",
      "/usr/local/anaconda3/lib/python3.7/site-packages/tensorflow/python/framework/dtypes.py:520: FutureWarning: Passing (type, 1) or '1type' as a synonym of type is deprecated; in a future version of numpy, it will be understood as (type, (1,)) / '(1,)type'.\n",
      "  _np_qint32 = np.dtype([(\"qint32\", np.int32, 1)])\n",
      "/usr/local/anaconda3/lib/python3.7/site-packages/tensorflow/python/framework/dtypes.py:525: FutureWarning: Passing (type, 1) or '1type' as a synonym of type is deprecated; in a future version of numpy, it will be understood as (type, (1,)) / '(1,)type'.\n",
      "  np_resource = np.dtype([(\"resource\", np.ubyte, 1)])\n",
      "\u001b[38;5;2m✔ Cloned 'pipelines/ner_demo' from explosion/projects\u001b[0m\n",
      "/Users/pessoal/ner_demo\n",
      "\u001b[38;5;2m✔ Your project is now ready!\u001b[0m\n",
      "To fetch the assets, run:\n",
      "python -m spacy project assets /Users/pessoal/ner_demo\n"
     ]
    }
   ],
   "metadata": {}
  },
  {
   "cell_type": "code",
   "execution_count": 30,
   "source": [
    "#Install requirements and download any data assets:\n",
    "    \n",
    "!python -m pip install -r /Users/pessoal/ner_demo/requirements.txt\n",
    "!python -m spacy project assets"
   ],
   "outputs": [
    {
     "output_type": "stream",
     "name": "stdout",
     "text": [
      "Collecting spacy-streamlit>=1.0.0a0 (from -r /Users/pessoal/ner_demo/requirements.txt (line 1))\n",
      "  Downloading https://files.pythonhosted.org/packages/60/9f/f445e5a630275be045dd62c9003466e89a32d9b3fc418b39ac10a684489b/spacy_streamlit-1.0.1-py3-none-any.whl\n",
      "Requirement already satisfied: spacy<4.0.0,>=3.0.0 in /usr/local/anaconda3/lib/python3.7/site-packages (from spacy-streamlit>=1.0.0a0->-r /Users/pessoal/ner_demo/requirements.txt (line 1)) (3.1.2)\n",
      "Requirement already satisfied: pandas in /usr/local/anaconda3/lib/python3.7/site-packages (from spacy-streamlit>=1.0.0a0->-r /Users/pessoal/ner_demo/requirements.txt (line 1)) (1.1.0)\n",
      "Collecting streamlit>=0.68.0 (from spacy-streamlit>=1.0.0a0->-r /Users/pessoal/ner_demo/requirements.txt (line 1))\n",
      "\u001b[?25l  Downloading https://files.pythonhosted.org/packages/8d/7d/3b81bb455781eded9a9dec53043055ec985acdab6bb2f6ab5655702ce871/streamlit-0.87.0-py2.py3-none-any.whl (8.0MB)\n",
      "\u001b[K     |████████████████████████████████| 8.0MB 1.0MB/s eta 0:00:01\n",
      "\u001b[?25hRequirement already satisfied: blis<0.8.0,>=0.4.0 in /usr/local/anaconda3/lib/python3.7/site-packages (from spacy<4.0.0,>=3.0.0->spacy-streamlit>=1.0.0a0->-r /Users/pessoal/ner_demo/requirements.txt (line 1)) (0.4.1)\n",
      "Requirement already satisfied: wasabi<1.1.0,>=0.8.1 in /usr/local/anaconda3/lib/python3.7/site-packages (from spacy<4.0.0,>=3.0.0->spacy-streamlit>=1.0.0a0->-r /Users/pessoal/ner_demo/requirements.txt (line 1)) (0.8.2)\n",
      "Requirement already satisfied: preshed<3.1.0,>=3.0.2 in /usr/local/anaconda3/lib/python3.7/site-packages (from spacy<4.0.0,>=3.0.0->spacy-streamlit>=1.0.0a0->-r /Users/pessoal/ner_demo/requirements.txt (line 1)) (3.0.5)\n",
      "Requirement already satisfied: jinja2 in /usr/local/anaconda3/lib/python3.7/site-packages (from spacy<4.0.0,>=3.0.0->spacy-streamlit>=1.0.0a0->-r /Users/pessoal/ner_demo/requirements.txt (line 1)) (2.10.3)\n",
      "Requirement already satisfied: setuptools in /usr/local/anaconda3/lib/python3.7/site-packages (from spacy<4.0.0,>=3.0.0->spacy-streamlit>=1.0.0a0->-r /Users/pessoal/ner_demo/requirements.txt (line 1)) (41.4.0)\n",
      "Requirement already satisfied: packaging>=20.0 in /usr/local/anaconda3/lib/python3.7/site-packages (from spacy<4.0.0,>=3.0.0->spacy-streamlit>=1.0.0a0->-r /Users/pessoal/ner_demo/requirements.txt (line 1)) (21.0)\n",
      "Requirement already satisfied: thinc<8.1.0,>=8.0.8 in /usr/local/anaconda3/lib/python3.7/site-packages (from spacy<4.0.0,>=3.0.0->spacy-streamlit>=1.0.0a0->-r /Users/pessoal/ner_demo/requirements.txt (line 1)) (8.0.8)\n",
      "Requirement already satisfied: typing-extensions<4.0.0.0,>=3.7.4; python_version < \"3.8\" in /usr/local/anaconda3/lib/python3.7/site-packages (from spacy<4.0.0,>=3.0.0->spacy-streamlit>=1.0.0a0->-r /Users/pessoal/ner_demo/requirements.txt (line 1)) (3.10.0.0)\n",
      "Requirement already satisfied: cymem<2.1.0,>=2.0.2 in /usr/local/anaconda3/lib/python3.7/site-packages (from spacy<4.0.0,>=3.0.0->spacy-streamlit>=1.0.0a0->-r /Users/pessoal/ner_demo/requirements.txt (line 1)) (2.0.5)\n",
      "Requirement already satisfied: catalogue<2.1.0,>=2.0.4 in /usr/local/anaconda3/lib/python3.7/site-packages (from spacy<4.0.0,>=3.0.0->spacy-streamlit>=1.0.0a0->-r /Users/pessoal/ner_demo/requirements.txt (line 1)) (2.0.6)\n",
      "Requirement already satisfied: spacy-legacy<3.1.0,>=3.0.7 in /usr/local/anaconda3/lib/python3.7/site-packages (from spacy<4.0.0,>=3.0.0->spacy-streamlit>=1.0.0a0->-r /Users/pessoal/ner_demo/requirements.txt (line 1)) (3.0.8)\n",
      "Requirement already satisfied: typer<0.4.0,>=0.3.0 in /usr/local/anaconda3/lib/python3.7/site-packages (from spacy<4.0.0,>=3.0.0->spacy-streamlit>=1.0.0a0->-r /Users/pessoal/ner_demo/requirements.txt (line 1)) (0.3.2)\n",
      "Requirement already satisfied: requests<3.0.0,>=2.13.0 in /usr/local/anaconda3/lib/python3.7/site-packages (from spacy<4.0.0,>=3.0.0->spacy-streamlit>=1.0.0a0->-r /Users/pessoal/ner_demo/requirements.txt (line 1)) (2.22.0)\n",
      "Requirement already satisfied: tqdm<5.0.0,>=4.38.0 in /usr/local/anaconda3/lib/python3.7/site-packages (from spacy<4.0.0,>=3.0.0->spacy-streamlit>=1.0.0a0->-r /Users/pessoal/ner_demo/requirements.txt (line 1)) (4.62.1)\n",
      "Requirement already satisfied: srsly<3.0.0,>=2.4.1 in /usr/local/anaconda3/lib/python3.7/site-packages (from spacy<4.0.0,>=3.0.0->spacy-streamlit>=1.0.0a0->-r /Users/pessoal/ner_demo/requirements.txt (line 1)) (2.4.1)\n",
      "Requirement already satisfied: pydantic!=1.8,!=1.8.1,<1.9.0,>=1.7.4 in /usr/local/anaconda3/lib/python3.7/site-packages (from spacy<4.0.0,>=3.0.0->spacy-streamlit>=1.0.0a0->-r /Users/pessoal/ner_demo/requirements.txt (line 1)) (1.8.2)\n",
      "Requirement already satisfied: pathy>=0.3.5 in /usr/local/anaconda3/lib/python3.7/site-packages (from spacy<4.0.0,>=3.0.0->spacy-streamlit>=1.0.0a0->-r /Users/pessoal/ner_demo/requirements.txt (line 1)) (0.6.0)\n",
      "Requirement already satisfied: numpy>=1.15.0 in /usr/local/anaconda3/lib/python3.7/site-packages (from spacy<4.0.0,>=3.0.0->spacy-streamlit>=1.0.0a0->-r /Users/pessoal/ner_demo/requirements.txt (line 1)) (1.17.3)\n",
      "Requirement already satisfied: murmurhash<1.1.0,>=0.28.0 in /usr/local/anaconda3/lib/python3.7/site-packages (from spacy<4.0.0,>=3.0.0->spacy-streamlit>=1.0.0a0->-r /Users/pessoal/ner_demo/requirements.txt (line 1)) (1.0.5)\n",
      "Requirement already satisfied: python-dateutil>=2.7.3 in /usr/local/anaconda3/lib/python3.7/site-packages (from pandas->spacy-streamlit>=1.0.0a0->-r /Users/pessoal/ner_demo/requirements.txt (line 1)) (2.8.0)\n",
      "Requirement already satisfied: pytz>=2017.2 in /usr/local/anaconda3/lib/python3.7/site-packages (from pandas->spacy-streamlit>=1.0.0a0->-r /Users/pessoal/ner_demo/requirements.txt (line 1)) (2019.3)\n",
      "Collecting validators (from streamlit>=0.68.0->spacy-streamlit>=1.0.0a0->-r /Users/pessoal/ner_demo/requirements.txt (line 1))\n",
      "  Downloading https://files.pythonhosted.org/packages/db/2f/7fed3ee94ad665ad2c1de87f858f10a7785251ff75b4fd47987888d07ef1/validators-0.18.2-py3-none-any.whl\n",
      "Requirement already satisfied: protobuf!=3.11,>=3.6.0 in /usr/local/anaconda3/lib/python3.7/site-packages (from streamlit>=0.68.0->spacy-streamlit>=1.0.0a0->-r /Users/pessoal/ner_demo/requirements.txt (line 1)) (3.11.4)\n",
      "Collecting base58 (from streamlit>=0.68.0->spacy-streamlit>=1.0.0a0->-r /Users/pessoal/ner_demo/requirements.txt (line 1))\n",
      "  Downloading https://files.pythonhosted.org/packages/b8/a1/d9f565e9910c09fd325dc638765e8843a19fa696275c16cc08cf3b0a3c25/base58-2.1.0-py3-none-any.whl\n",
      "Collecting pydeck>=0.1.dev5 (from streamlit>=0.68.0->spacy-streamlit>=1.0.0a0->-r /Users/pessoal/ner_demo/requirements.txt (line 1))\n",
      "\u001b[?25l  Downloading https://files.pythonhosted.org/packages/d6/bc/f0e44828e4290367c869591d50d3671a4d0ee94926da6cb734b7b200308c/pydeck-0.6.2-py2.py3-none-any.whl (4.2MB)\n",
      "\u001b[K     |████████████████████████████████| 4.2MB 1.5MB/s eta 0:00:01\n",
      "\u001b[?25hRequirement already satisfied: attrs in /usr/local/anaconda3/lib/python3.7/site-packages (from streamlit>=0.68.0->spacy-streamlit>=1.0.0a0->-r /Users/pessoal/ner_demo/requirements.txt (line 1)) (19.2.0)\n",
      "Collecting toml (from streamlit>=0.68.0->spacy-streamlit>=1.0.0a0->-r /Users/pessoal/ner_demo/requirements.txt (line 1))\n",
      "  Downloading https://files.pythonhosted.org/packages/44/6f/7120676b6d73228c96e17f1f794d8ab046fc910d781c8d151120c3f1569e/toml-0.10.2-py2.py3-none-any.whl\n",
      "Requirement already satisfied: pillow>=6.2.0 in /usr/local/anaconda3/lib/python3.7/site-packages (from streamlit>=0.68.0->spacy-streamlit>=1.0.0a0->-r /Users/pessoal/ner_demo/requirements.txt (line 1)) (8.3.1)\n",
      "Collecting blinker (from streamlit>=0.68.0->spacy-streamlit>=1.0.0a0->-r /Users/pessoal/ner_demo/requirements.txt (line 1))\n",
      "\u001b[?25l  Downloading https://files.pythonhosted.org/packages/1b/51/e2a9f3b757eb802f61dc1f2b09c8c99f6eb01cf06416c0671253536517b6/blinker-1.4.tar.gz (111kB)\n",
      "\u001b[K     |████████████████████████████████| 112kB 2.4MB/s eta 0:00:01\n",
      "\u001b[?25hCollecting pyarrow (from streamlit>=0.68.0->spacy-streamlit>=1.0.0a0->-r /Users/pessoal/ner_demo/requirements.txt (line 1))\n",
      "\u001b[?25l  Downloading https://files.pythonhosted.org/packages/32/65/9c8df14c53763ab89413076dd18f8e56a680aedd654d5ae92fbc2da24f07/pyarrow-5.0.0-cp37-cp37m-macosx_10_13_x86_64.whl (17.6MB)\n",
      "\u001b[K     |████████████████████████████████| 17.6MB 5.2MB/s eta 0:00:01\n",
      "\u001b[?25hCollecting tzlocal (from streamlit>=0.68.0->spacy-streamlit>=1.0.0a0->-r /Users/pessoal/ner_demo/requirements.txt (line 1))\n"
     ]
    },
    {
     "output_type": "stream",
     "name": "stdout",
     "text": [
      "  Downloading https://files.pythonhosted.org/packages/99/73/0b78b979e457bde19266130929b1fceee7c31a2d68169048b34e997c5665/tzlocal-3.0-py3-none-any.whl\n",
      "Requirement already satisfied: click<8.0,>=7.0 in /usr/local/anaconda3/lib/python3.7/site-packages (from streamlit>=0.68.0->spacy-streamlit>=1.0.0a0->-r /Users/pessoal/ner_demo/requirements.txt (line 1)) (7.1.2)\n",
      "Collecting cachetools>=4.0 (from streamlit>=0.68.0->spacy-streamlit>=1.0.0a0->-r /Users/pessoal/ner_demo/requirements.txt (line 1))\n",
      "  Downloading https://files.pythonhosted.org/packages/bf/28/c4f5796c67ad06bb91d98d543a5e01805c1ff065e08871f78e52d2a331ad/cachetools-4.2.2-py3-none-any.whl\n",
      "Requirement already satisfied: astor in /usr/local/anaconda3/lib/python3.7/site-packages (from streamlit>=0.68.0->spacy-streamlit>=1.0.0a0->-r /Users/pessoal/ner_demo/requirements.txt (line 1)) (0.8.1)\n",
      "Requirement already satisfied: tornado>=5.0 in /usr/local/anaconda3/lib/python3.7/site-packages (from streamlit>=0.68.0->spacy-streamlit>=1.0.0a0->-r /Users/pessoal/ner_demo/requirements.txt (line 1)) (6.0.3)\n",
      "Collecting gitpython!=3.1.19 (from streamlit>=0.68.0->spacy-streamlit>=1.0.0a0->-r /Users/pessoal/ner_demo/requirements.txt (line 1))\n",
      "\u001b[?25l  Downloading https://files.pythonhosted.org/packages/bc/91/b38c4fabb6e5092ab23492ded4f318ab7299b19263272b703478038c0fbc/GitPython-3.1.18-py3-none-any.whl (170kB)\n",
      "\u001b[K     |████████████████████████████████| 174kB 919kB/s eta 0:00:01\n",
      "\u001b[?25hCollecting altair>=3.2.0 (from streamlit>=0.68.0->spacy-streamlit>=1.0.0a0->-r /Users/pessoal/ner_demo/requirements.txt (line 1))\n",
      "\u001b[?25l  Downloading https://files.pythonhosted.org/packages/01/55/0bb2226e34f21fa549c3f4557b4f154a5632f61132a969da17c95ca8eab9/altair-4.1.0-py3-none-any.whl (727kB)\n",
      "\u001b[K     |████████████████████████████████| 737kB 1.6MB/s eta 0:00:01\n",
      "\u001b[?25hRequirement already satisfied: MarkupSafe>=0.23 in /usr/local/anaconda3/lib/python3.7/site-packages (from jinja2->spacy<4.0.0,>=3.0.0->spacy-streamlit>=1.0.0a0->-r /Users/pessoal/ner_demo/requirements.txt (line 1)) (1.1.1)\n",
      "Requirement already satisfied: pyparsing>=2.0.2 in /usr/local/anaconda3/lib/python3.7/site-packages (from packaging>=20.0->spacy<4.0.0,>=3.0.0->spacy-streamlit>=1.0.0a0->-r /Users/pessoal/ner_demo/requirements.txt (line 1)) (2.4.2)\n",
      "Requirement already satisfied: zipp>=0.5; python_version < \"3.8\" in /usr/local/anaconda3/lib/python3.7/site-packages (from catalogue<2.1.0,>=2.0.4->spacy<4.0.0,>=3.0.0->spacy-streamlit>=1.0.0a0->-r /Users/pessoal/ner_demo/requirements.txt (line 1)) (0.6.0)\n",
      "Requirement already satisfied: urllib3!=1.25.0,!=1.25.1,<1.26,>=1.21.1 in /usr/local/anaconda3/lib/python3.7/site-packages (from requests<3.0.0,>=2.13.0->spacy<4.0.0,>=3.0.0->spacy-streamlit>=1.0.0a0->-r /Users/pessoal/ner_demo/requirements.txt (line 1)) (1.24.2)\n",
      "Requirement already satisfied: chardet<3.1.0,>=3.0.2 in /usr/local/anaconda3/lib/python3.7/site-packages (from requests<3.0.0,>=2.13.0->spacy<4.0.0,>=3.0.0->spacy-streamlit>=1.0.0a0->-r /Users/pessoal/ner_demo/requirements.txt (line 1)) (3.0.4)\n",
      "Requirement already satisfied: certifi>=2017.4.17 in /usr/local/anaconda3/lib/python3.7/site-packages (from requests<3.0.0,>=2.13.0->spacy<4.0.0,>=3.0.0->spacy-streamlit>=1.0.0a0->-r /Users/pessoal/ner_demo/requirements.txt (line 1)) (2019.9.11)\n",
      "Requirement already satisfied: idna<2.9,>=2.5 in /usr/local/anaconda3/lib/python3.7/site-packages (from requests<3.0.0,>=2.13.0->spacy<4.0.0,>=3.0.0->spacy-streamlit>=1.0.0a0->-r /Users/pessoal/ner_demo/requirements.txt (line 1)) (2.8)\n",
      "Requirement already satisfied: smart-open<6.0.0,>=5.0.0 in /usr/local/anaconda3/lib/python3.7/site-packages (from pathy>=0.3.5->spacy<4.0.0,>=3.0.0->spacy-streamlit>=1.0.0a0->-r /Users/pessoal/ner_demo/requirements.txt (line 1)) (5.2.0)\n",
      "Requirement already satisfied: six>=1.5 in /usr/local/anaconda3/lib/python3.7/site-packages (from python-dateutil>=2.7.3->pandas->spacy-streamlit>=1.0.0a0->-r /Users/pessoal/ner_demo/requirements.txt (line 1)) (1.12.0)\n",
      "Requirement already satisfied: decorator>=3.4.0 in /usr/local/anaconda3/lib/python3.7/site-packages (from validators->streamlit>=0.68.0->spacy-streamlit>=1.0.0a0->-r /Users/pessoal/ner_demo/requirements.txt (line 1)) (4.4.0)\n",
      "Requirement already satisfied: ipywidgets>=7.0.0 in /usr/local/anaconda3/lib/python3.7/site-packages (from pydeck>=0.1.dev5->streamlit>=0.68.0->spacy-streamlit>=1.0.0a0->-r /Users/pessoal/ner_demo/requirements.txt (line 1)) (7.5.1)\n",
      "Requirement already satisfied: traitlets>=4.3.2 in /usr/local/anaconda3/lib/python3.7/site-packages (from pydeck>=0.1.dev5->streamlit>=0.68.0->spacy-streamlit>=1.0.0a0->-r /Users/pessoal/ner_demo/requirements.txt (line 1)) (4.3.3)\n",
      "Requirement already satisfied: ipykernel>=5.1.2; python_version >= \"3.4\" in /usr/local/anaconda3/lib/python3.7/site-packages (from pydeck>=0.1.dev5->streamlit>=0.68.0->spacy-streamlit>=1.0.0a0->-r /Users/pessoal/ner_demo/requirements.txt (line 1)) (5.1.2)\n",
      "Collecting backports.zoneinfo; python_version < \"3.9\" (from tzlocal->streamlit>=0.68.0->spacy-streamlit>=1.0.0a0->-r /Users/pessoal/ner_demo/requirements.txt (line 1))\n",
      "\u001b[?25l  Downloading https://files.pythonhosted.org/packages/ad/85/475e514c3140937cf435954f78dedea1861aeab7662d11de232bdaa90655/backports.zoneinfo-0.2.1.tar.gz (74kB)\n",
      "\u001b[K     |████████████████████████████████| 81kB 1.2MB/s eta 0:00:01\n",
      "\u001b[?25h  Installing build dependencies ... \u001b[?25ldone\n",
      "\u001b[?25h  Getting requirements to build wheel ... \u001b[?25ldone\n",
      "\u001b[?25h    Preparing wheel metadata ... \u001b[?25ldone\n",
      "\u001b[?25hCollecting gitdb<5,>=4.0.1 (from gitpython!=3.1.19->streamlit>=0.68.0->spacy-streamlit>=1.0.0a0->-r /Users/pessoal/ner_demo/requirements.txt (line 1))\n",
      "\u001b[?25l  Downloading https://files.pythonhosted.org/packages/ea/e8/f414d1a4f0bbc668ed441f74f44c116d9816833a48bf81d22b697090dba8/gitdb-4.0.7-py3-none-any.whl (63kB)\n",
      "\u001b[K     |████████████████████████████████| 71kB 4.3MB/s eta 0:00:01\n",
      "\u001b[?25hRequirement already satisfied: toolz in /usr/local/anaconda3/lib/python3.7/site-packages (from altair>=3.2.0->streamlit>=0.68.0->spacy-streamlit>=1.0.0a0->-r /Users/pessoal/ner_demo/requirements.txt (line 1)) (0.10.0)\n",
      "Requirement already satisfied: jsonschema in /usr/local/anaconda3/lib/python3.7/site-packages (from altair>=3.2.0->streamlit>=0.68.0->spacy-streamlit>=1.0.0a0->-r /Users/pessoal/ner_demo/requirements.txt (line 1)) (3.0.2)\n",
      "Requirement already satisfied: entrypoints in /usr/local/anaconda3/lib/python3.7/site-packages (from altair>=3.2.0->streamlit>=0.68.0->spacy-streamlit>=1.0.0a0->-r /Users/pessoal/ner_demo/requirements.txt (line 1)) (0.3)\n",
      "Requirement already satisfied: more-itertools in /usr/local/anaconda3/lib/python3.7/site-packages (from zipp>=0.5; python_version < \"3.8\"->catalogue<2.1.0,>=2.0.4->spacy<4.0.0,>=3.0.0->spacy-streamlit>=1.0.0a0->-r /Users/pessoal/ner_demo/requirements.txt (line 1)) (7.2.0)\n",
      "Requirement already satisfied: nbformat>=4.2.0 in /usr/local/anaconda3/lib/python3.7/site-packages (from ipywidgets>=7.0.0->pydeck>=0.1.dev5->streamlit>=0.68.0->spacy-streamlit>=1.0.0a0->-r /Users/pessoal/ner_demo/requirements.txt (line 1)) (4.4.0)\n",
      "Requirement already satisfied: ipython>=4.0.0; python_version >= \"3.3\" in /usr/local/anaconda3/lib/python3.7/site-packages (from ipywidgets>=7.0.0->pydeck>=0.1.dev5->streamlit>=0.68.0->spacy-streamlit>=1.0.0a0->-r /Users/pessoal/ner_demo/requirements.txt (line 1)) (7.8.0)\n",
      "Requirement already satisfied: widgetsnbextension~=3.5.0 in /usr/local/anaconda3/lib/python3.7/site-packages (from ipywidgets>=7.0.0->pydeck>=0.1.dev5->streamlit>=0.68.0->spacy-streamlit>=1.0.0a0->-r /Users/pessoal/ner_demo/requirements.txt (line 1)) (3.5.1)\n",
      "Requirement already satisfied: ipython-genutils in /usr/local/anaconda3/lib/python3.7/site-packages (from traitlets>=4.3.2->pydeck>=0.1.dev5->streamlit>=0.68.0->spacy-streamlit>=1.0.0a0->-r /Users/pessoal/ner_demo/requirements.txt (line 1)) (0.2.0)\n",
      "Requirement already satisfied: jupyter-client in /usr/local/anaconda3/lib/python3.7/site-packages (from ipykernel>=5.1.2; python_version >= \"3.4\"->pydeck>=0.1.dev5->streamlit>=0.68.0->spacy-streamlit>=1.0.0a0->-r /Users/pessoal/ner_demo/requirements.txt (line 1)) (5.3.3)\n",
      "Collecting smmap<5,>=3.0.1 (from gitdb<5,>=4.0.1->gitpython!=3.1.19->streamlit>=0.68.0->spacy-streamlit>=1.0.0a0->-r /Users/pessoal/ner_demo/requirements.txt (line 1))\n"
     ]
    },
    {
     "output_type": "stream",
     "name": "stdout",
     "text": [
      "  Downloading https://files.pythonhosted.org/packages/68/ee/d540eb5e5996eb81c26ceffac6ee49041d473bc5125f2aa995cf51ec1cf1/smmap-4.0.0-py2.py3-none-any.whl\n",
      "Requirement already satisfied: pyrsistent>=0.14.0 in /usr/local/anaconda3/lib/python3.7/site-packages (from jsonschema->altair>=3.2.0->streamlit>=0.68.0->spacy-streamlit>=1.0.0a0->-r /Users/pessoal/ner_demo/requirements.txt (line 1)) (0.15.4)\n",
      "Requirement already satisfied: jupyter-core in /usr/local/anaconda3/lib/python3.7/site-packages (from nbformat>=4.2.0->ipywidgets>=7.0.0->pydeck>=0.1.dev5->streamlit>=0.68.0->spacy-streamlit>=1.0.0a0->-r /Users/pessoal/ner_demo/requirements.txt (line 1)) (4.5.0)\n",
      "Requirement already satisfied: pexpect; sys_platform != \"win32\" in /usr/local/anaconda3/lib/python3.7/site-packages (from ipython>=4.0.0; python_version >= \"3.3\"->ipywidgets>=7.0.0->pydeck>=0.1.dev5->streamlit>=0.68.0->spacy-streamlit>=1.0.0a0->-r /Users/pessoal/ner_demo/requirements.txt (line 1)) (4.7.0)\n",
      "Requirement already satisfied: pygments in /usr/local/anaconda3/lib/python3.7/site-packages (from ipython>=4.0.0; python_version >= \"3.3\"->ipywidgets>=7.0.0->pydeck>=0.1.dev5->streamlit>=0.68.0->spacy-streamlit>=1.0.0a0->-r /Users/pessoal/ner_demo/requirements.txt (line 1)) (2.4.2)\n",
      "Requirement already satisfied: prompt-toolkit<2.1.0,>=2.0.0 in /usr/local/anaconda3/lib/python3.7/site-packages (from ipython>=4.0.0; python_version >= \"3.3\"->ipywidgets>=7.0.0->pydeck>=0.1.dev5->streamlit>=0.68.0->spacy-streamlit>=1.0.0a0->-r /Users/pessoal/ner_demo/requirements.txt (line 1)) (2.0.10)\n",
      "Requirement already satisfied: jedi>=0.10 in /usr/local/anaconda3/lib/python3.7/site-packages (from ipython>=4.0.0; python_version >= \"3.3\"->ipywidgets>=7.0.0->pydeck>=0.1.dev5->streamlit>=0.68.0->spacy-streamlit>=1.0.0a0->-r /Users/pessoal/ner_demo/requirements.txt (line 1)) (0.15.1)\n",
      "Requirement already satisfied: backcall in /usr/local/anaconda3/lib/python3.7/site-packages (from ipython>=4.0.0; python_version >= \"3.3\"->ipywidgets>=7.0.0->pydeck>=0.1.dev5->streamlit>=0.68.0->spacy-streamlit>=1.0.0a0->-r /Users/pessoal/ner_demo/requirements.txt (line 1)) (0.1.0)\n",
      "Requirement already satisfied: appnope; sys_platform == \"darwin\" in /usr/local/anaconda3/lib/python3.7/site-packages (from ipython>=4.0.0; python_version >= \"3.3\"->ipywidgets>=7.0.0->pydeck>=0.1.dev5->streamlit>=0.68.0->spacy-streamlit>=1.0.0a0->-r /Users/pessoal/ner_demo/requirements.txt (line 1)) (0.1.0)\n",
      "Requirement already satisfied: pickleshare in /usr/local/anaconda3/lib/python3.7/site-packages (from ipython>=4.0.0; python_version >= \"3.3\"->ipywidgets>=7.0.0->pydeck>=0.1.dev5->streamlit>=0.68.0->spacy-streamlit>=1.0.0a0->-r /Users/pessoal/ner_demo/requirements.txt (line 1)) (0.7.5)\n",
      "Requirement already satisfied: notebook>=4.4.1 in /usr/local/anaconda3/lib/python3.7/site-packages (from widgetsnbextension~=3.5.0->ipywidgets>=7.0.0->pydeck>=0.1.dev5->streamlit>=0.68.0->spacy-streamlit>=1.0.0a0->-r /Users/pessoal/ner_demo/requirements.txt (line 1)) (6.0.1)\n",
      "Requirement already satisfied: pyzmq>=13 in /usr/local/anaconda3/lib/python3.7/site-packages (from jupyter-client->ipykernel>=5.1.2; python_version >= \"3.4\"->pydeck>=0.1.dev5->streamlit>=0.68.0->spacy-streamlit>=1.0.0a0->-r /Users/pessoal/ner_demo/requirements.txt (line 1)) (18.1.0)\n",
      "Requirement already satisfied: ptyprocess>=0.5 in /usr/local/anaconda3/lib/python3.7/site-packages (from pexpect; sys_platform != \"win32\"->ipython>=4.0.0; python_version >= \"3.3\"->ipywidgets>=7.0.0->pydeck>=0.1.dev5->streamlit>=0.68.0->spacy-streamlit>=1.0.0a0->-r /Users/pessoal/ner_demo/requirements.txt (line 1)) (0.6.0)\n",
      "Requirement already satisfied: wcwidth in /usr/local/anaconda3/lib/python3.7/site-packages (from prompt-toolkit<2.1.0,>=2.0.0->ipython>=4.0.0; python_version >= \"3.3\"->ipywidgets>=7.0.0->pydeck>=0.1.dev5->streamlit>=0.68.0->spacy-streamlit>=1.0.0a0->-r /Users/pessoal/ner_demo/requirements.txt (line 1)) (0.1.7)\n",
      "Requirement already satisfied: parso>=0.5.0 in /usr/local/anaconda3/lib/python3.7/site-packages (from jedi>=0.10->ipython>=4.0.0; python_version >= \"3.3\"->ipywidgets>=7.0.0->pydeck>=0.1.dev5->streamlit>=0.68.0->spacy-streamlit>=1.0.0a0->-r /Users/pessoal/ner_demo/requirements.txt (line 1)) (0.5.1)\n",
      "Requirement already satisfied: prometheus-client in /usr/local/anaconda3/lib/python3.7/site-packages (from notebook>=4.4.1->widgetsnbextension~=3.5.0->ipywidgets>=7.0.0->pydeck>=0.1.dev5->streamlit>=0.68.0->spacy-streamlit>=1.0.0a0->-r /Users/pessoal/ner_demo/requirements.txt (line 1)) (0.7.1)\n",
      "Requirement already satisfied: terminado>=0.8.1 in /usr/local/anaconda3/lib/python3.7/site-packages (from notebook>=4.4.1->widgetsnbextension~=3.5.0->ipywidgets>=7.0.0->pydeck>=0.1.dev5->streamlit>=0.68.0->spacy-streamlit>=1.0.0a0->-r /Users/pessoal/ner_demo/requirements.txt (line 1)) (0.8.2)\n",
      "Requirement already satisfied: nbconvert in /usr/local/anaconda3/lib/python3.7/site-packages (from notebook>=4.4.1->widgetsnbextension~=3.5.0->ipywidgets>=7.0.0->pydeck>=0.1.dev5->streamlit>=0.68.0->spacy-streamlit>=1.0.0a0->-r /Users/pessoal/ner_demo/requirements.txt (line 1)) (5.6.0)\n",
      "Requirement already satisfied: Send2Trash in /usr/local/anaconda3/lib/python3.7/site-packages (from notebook>=4.4.1->widgetsnbextension~=3.5.0->ipywidgets>=7.0.0->pydeck>=0.1.dev5->streamlit>=0.68.0->spacy-streamlit>=1.0.0a0->-r /Users/pessoal/ner_demo/requirements.txt (line 1)) (1.5.0)\n",
      "Requirement already satisfied: mistune<2,>=0.8.1 in /usr/local/anaconda3/lib/python3.7/site-packages (from nbconvert->notebook>=4.4.1->widgetsnbextension~=3.5.0->ipywidgets>=7.0.0->pydeck>=0.1.dev5->streamlit>=0.68.0->spacy-streamlit>=1.0.0a0->-r /Users/pessoal/ner_demo/requirements.txt (line 1)) (0.8.4)\n",
      "Requirement already satisfied: defusedxml in /usr/local/anaconda3/lib/python3.7/site-packages (from nbconvert->notebook>=4.4.1->widgetsnbextension~=3.5.0->ipywidgets>=7.0.0->pydeck>=0.1.dev5->streamlit>=0.68.0->spacy-streamlit>=1.0.0a0->-r /Users/pessoal/ner_demo/requirements.txt (line 1)) (0.6.0)\n",
      "Requirement already satisfied: testpath in /usr/local/anaconda3/lib/python3.7/site-packages (from nbconvert->notebook>=4.4.1->widgetsnbextension~=3.5.0->ipywidgets>=7.0.0->pydeck>=0.1.dev5->streamlit>=0.68.0->spacy-streamlit>=1.0.0a0->-r /Users/pessoal/ner_demo/requirements.txt (line 1)) (0.4.2)\n",
      "Requirement already satisfied: bleach in /usr/local/anaconda3/lib/python3.7/site-packages (from nbconvert->notebook>=4.4.1->widgetsnbextension~=3.5.0->ipywidgets>=7.0.0->pydeck>=0.1.dev5->streamlit>=0.68.0->spacy-streamlit>=1.0.0a0->-r /Users/pessoal/ner_demo/requirements.txt (line 1)) (3.1.0)\n",
      "Requirement already satisfied: pandocfilters>=1.4.1 in /usr/local/anaconda3/lib/python3.7/site-packages (from nbconvert->notebook>=4.4.1->widgetsnbextension~=3.5.0->ipywidgets>=7.0.0->pydeck>=0.1.dev5->streamlit>=0.68.0->spacy-streamlit>=1.0.0a0->-r /Users/pessoal/ner_demo/requirements.txt (line 1)) (1.4.2)\n",
      "Requirement already satisfied: webencodings in /usr/local/anaconda3/lib/python3.7/site-packages (from bleach->nbconvert->notebook>=4.4.1->widgetsnbextension~=3.5.0->ipywidgets>=7.0.0->pydeck>=0.1.dev5->streamlit>=0.68.0->spacy-streamlit>=1.0.0a0->-r /Users/pessoal/ner_demo/requirements.txt (line 1)) (0.5.1)\n",
      "Building wheels for collected packages: backports.zoneinfo\n",
      "  Building wheel for backports.zoneinfo (PEP 517) ... \u001b[?25ldone\n",
      "\u001b[?25h  Created wheel for backports.zoneinfo: filename=backports.zoneinfo-0.2.1-cp37-cp37m-macosx_10_9_x86_64.whl size=35106 sha256=41c030d56daee1e5be34198b859fdfeca96b68eecbadb7edfa1c3502eb4e490f\n",
      "  Stored in directory: /Users/pessoal/Library/Caches/pip/wheels/f6/94/b0/aac268a0eabb1516d5c040c18f254494345b54450657d29bf2\n",
      "Successfully built backports.zoneinfo\n",
      "Building wheels for collected packages: blinker\n",
      "  Building wheel for blinker (setup.py) ... \u001b[?25ldone\n",
      "\u001b[?25h  Created wheel for blinker: filename=blinker-1.4-cp37-none-any.whl size=13450 sha256=343313ed7bc9a266b8b1028fcbb2100bf503e5a9148d5901ec9f6798d15a026e\n",
      "  Stored in directory: /Users/pessoal/Library/Caches/pip/wheels/92/a0/00/8690a57883956a301d91cf4ec999cc0b258b01e3f548f86e89\n",
      "Successfully built blinker\n",
      "Installing collected packages: validators, base58, pydeck, toml, blinker, pyarrow, backports.zoneinfo, tzlocal, cachetools, smmap, gitdb, gitpython, altair, streamlit, spacy-streamlit\n"
     ]
    },
    {
     "output_type": "stream",
     "name": "stdout",
     "text": [
      "Successfully installed altair-4.1.0 backports.zoneinfo-0.2.1 base58-2.1.0 blinker-1.4 cachetools-4.2.2 gitdb-4.0.7 gitpython-3.1.18 pyarrow-5.0.0 pydeck-0.6.2 smmap-4.0.0 spacy-streamlit-1.0.1 streamlit-0.87.0 toml-0.10.2 tzlocal-3.0 validators-0.18.2\n",
      "/usr/local/anaconda3/lib/python3.7/site-packages/tensorflow/python/framework/dtypes.py:516: FutureWarning: Passing (type, 1) or '1type' as a synonym of type is deprecated; in a future version of numpy, it will be understood as (type, (1,)) / '(1,)type'.\n",
      "  _np_qint8 = np.dtype([(\"qint8\", np.int8, 1)])\n",
      "/usr/local/anaconda3/lib/python3.7/site-packages/tensorflow/python/framework/dtypes.py:517: FutureWarning: Passing (type, 1) or '1type' as a synonym of type is deprecated; in a future version of numpy, it will be understood as (type, (1,)) / '(1,)type'.\n",
      "  _np_quint8 = np.dtype([(\"quint8\", np.uint8, 1)])\n",
      "/usr/local/anaconda3/lib/python3.7/site-packages/tensorflow/python/framework/dtypes.py:518: FutureWarning: Passing (type, 1) or '1type' as a synonym of type is deprecated; in a future version of numpy, it will be understood as (type, (1,)) / '(1,)type'.\n",
      "  _np_qint16 = np.dtype([(\"qint16\", np.int16, 1)])\n",
      "/usr/local/anaconda3/lib/python3.7/site-packages/tensorflow/python/framework/dtypes.py:519: FutureWarning: Passing (type, 1) or '1type' as a synonym of type is deprecated; in a future version of numpy, it will be understood as (type, (1,)) / '(1,)type'.\n",
      "  _np_quint16 = np.dtype([(\"quint16\", np.uint16, 1)])\n",
      "/usr/local/anaconda3/lib/python3.7/site-packages/tensorflow/python/framework/dtypes.py:520: FutureWarning: Passing (type, 1) or '1type' as a synonym of type is deprecated; in a future version of numpy, it will be understood as (type, (1,)) / '(1,)type'.\n",
      "  _np_qint32 = np.dtype([(\"qint32\", np.int32, 1)])\n",
      "/usr/local/anaconda3/lib/python3.7/site-packages/tensorflow/python/framework/dtypes.py:525: FutureWarning: Passing (type, 1) or '1type' as a synonym of type is deprecated; in a future version of numpy, it will be understood as (type, (1,)) / '(1,)type'.\n",
      "  np_resource = np.dtype([(\"resource\", np.ubyte, 1)])\n",
      "\n",
      "\u001b[38;5;1m✘ Can't find project.yml\u001b[0m\n",
      "/Users/pessoal/project.yml\n",
      "\n"
     ]
    }
   ],
   "metadata": {}
  },
  {
   "cell_type": "code",
   "execution_count": 38,
   "source": [
    "#Run the default workflow to convert, train and evaluate:\n",
    "#ver com os meninos como dar o cd ner_demo por aqui\n",
    "!python -m spacy project run all"
   ],
   "outputs": [],
   "metadata": {}
  },
  {
   "cell_type": "code",
   "execution_count": null,
   "source": [
    "#Package the model:\n",
    "\n",
    "!python -m spacy project run package"
   ],
   "outputs": [],
   "metadata": {}
  },
  {
   "cell_type": "code",
   "execution_count": 40,
   "source": [
    "#Visualize the model's output with Streamlit:\n",
    "\n",
    "!python -m spacy project run visualize-model"
   ],
   "outputs": [
    {
     "output_type": "stream",
     "name": "stdout",
     "text": [
      "/usr/local/anaconda3/lib/python3.7/site-packages/tensorflow/python/framework/dtypes.py:516: FutureWarning: Passing (type, 1) or '1type' as a synonym of type is deprecated; in a future version of numpy, it will be understood as (type, (1,)) / '(1,)type'.\n",
      "  _np_qint8 = np.dtype([(\"qint8\", np.int8, 1)])\n",
      "/usr/local/anaconda3/lib/python3.7/site-packages/tensorflow/python/framework/dtypes.py:517: FutureWarning: Passing (type, 1) or '1type' as a synonym of type is deprecated; in a future version of numpy, it will be understood as (type, (1,)) / '(1,)type'.\n",
      "  _np_quint8 = np.dtype([(\"quint8\", np.uint8, 1)])\n",
      "/usr/local/anaconda3/lib/python3.7/site-packages/tensorflow/python/framework/dtypes.py:518: FutureWarning: Passing (type, 1) or '1type' as a synonym of type is deprecated; in a future version of numpy, it will be understood as (type, (1,)) / '(1,)type'.\n",
      "  _np_qint16 = np.dtype([(\"qint16\", np.int16, 1)])\n",
      "/usr/local/anaconda3/lib/python3.7/site-packages/tensorflow/python/framework/dtypes.py:519: FutureWarning: Passing (type, 1) or '1type' as a synonym of type is deprecated; in a future version of numpy, it will be understood as (type, (1,)) / '(1,)type'.\n",
      "  _np_quint16 = np.dtype([(\"quint16\", np.uint16, 1)])\n",
      "/usr/local/anaconda3/lib/python3.7/site-packages/tensorflow/python/framework/dtypes.py:520: FutureWarning: Passing (type, 1) or '1type' as a synonym of type is deprecated; in a future version of numpy, it will be understood as (type, (1,)) / '(1,)type'.\n",
      "  _np_qint32 = np.dtype([(\"qint32\", np.int32, 1)])\n",
      "/usr/local/anaconda3/lib/python3.7/site-packages/tensorflow/python/framework/dtypes.py:525: FutureWarning: Passing (type, 1) or '1type' as a synonym of type is deprecated; in a future version of numpy, it will be understood as (type, (1,)) / '(1,)type'.\n",
      "  np_resource = np.dtype([(\"resource\", np.ubyte, 1)])\n",
      "\n",
      "\u001b[38;5;1m✘ Can't find project.yml\u001b[0m\n",
      "/Users/pessoal/project.yml\n",
      "\n"
     ]
    }
   ],
   "metadata": {}
  }
 ],
 "metadata": {
  "kernelspec": {
   "name": "python3",
   "display_name": "Python 3.4.4 64-bit"
  },
  "language_info": {
   "codemirror_mode": {
    "name": "ipython",
    "version": 3
   },
   "file_extension": ".py",
   "mimetype": "text/x-python",
   "name": "python",
   "nbconvert_exporter": "python",
   "pygments_lexer": "ipython3",
   "version": "3.4.4"
  },
  "interpreter": {
   "hash": "075dfc45ec1c6e3b7febcfa8b5b40c46c3e66468e2816c025b419777ed9798bb"
  }
 },
 "nbformat": 4,
 "nbformat_minor": 2
}