{
 "cells": [
  {
   "cell_type": "code",
   "execution_count": 2,
   "metadata": {},
   "outputs": [],
   "source": [
    "from itertools import chain\n",
    "import nltk\n",
    "import sklearn\n",
    "import scipy.stats\n",
    "from sklearn.metrics import make_scorer\n",
    "from sklearn.model_selection import cross_val_score\n",
    "from sklearn.model_selection import RandomizedSearchCV\n",
    "import sklearn_crfsuite\n",
    "from sklearn_crfsuite import scorers\n",
    "from sklearn_crfsuite import metrics\n"
   ]
  },
  {
   "cell_type": "code",
   "execution_count": 2,
   "metadata": {},
   "outputs": [],
   "source": [
    "%matplotlib inline\n",
    "import matplotlib.pyplot as plt\n",
    "plt.style.use('ggplot')\n"
   ]
  },
  {
   "cell_type": "code",
   "execution_count": 1,
   "metadata": {},
   "outputs": [
    {
     "name": "stdout",
     "output_type": "stream",
     "text": [
      "absl-py==1.4.0\n",
      "appnope==0.1.3\n",
      "asttokens==2.0.8\n",
      "astunparse==1.6.3\n",
      "attrs==22.1.0\n",
      "backcall==0.2.0\n",
      "black==22.10.0\n",
      "blis==0.7.8\n",
      "bokeh==3.0.3\n",
      "cachetools==5.3.0\n",
      "catalogue==2.0.8\n",
      "certifi==2022.9.24\n",
      "charset-normalizer==2.1.1\n",
      "click==8.1.3\n",
      "compress-json==1.0.8\n",
      "confection==0.0.3\n",
      "contourpy==1.0.7\n",
      "cycler==0.11.0\n",
      "cymem==2.0.6\n",
      "debugpy==1.6.3\n",
      "decorator==5.1.1\n",
      "eli5==0.13.0\n",
      "entrypoints==0.4\n",
      "executing==1.1.1\n",
      "flatbuffers==23.1.21\n",
      "fonttools==4.38.0\n",
      "fst-pso==1.8.1\n",
      "FuzzyTM==2.0.5\n",
      "gast==0.4.0\n",
      "gensim==4.3.1\n",
      "google-auth==2.16.1\n",
      "google-auth-oauthlib==0.4.6\n",
      "google-pasta==0.2.0\n",
      "graphviz==0.20.1\n",
      "grpcio==1.51.3\n",
      "h5py==3.8.0\n",
      "hmmlearn==0.2.7\n",
      "idna==3.4\n",
      "importlib-metadata==6.0.0\n",
      "importlib-resources==5.12.0\n",
      "ipykernel==6.16.0\n",
      "ipython==8.5.0\n",
      "jedi==0.18.1\n",
      "Jinja2==3.1.2\n",
      "joblib==1.2.0\n",
      "jupyter-core==4.11.1\n",
      "jupyter_client==7.3.5\n",
      "keras==2.11.0\n",
      "kiwisolver==1.4.4\n",
      "langcodes==3.3.0\n",
      "libclang==15.0.6.1\n",
      "livelossplot==0.5.5\n",
      "Markdown==3.4.1\n",
      "MarkupSafe==2.1.1\n",
      "matplotlib==3.7.0\n",
      "matplotlib-inline==0.1.6\n",
      "miniful==0.0.6\n",
      "murmurhash==1.0.8\n",
      "mypy-extensions==0.4.3\n",
      "nest-asyncio==1.5.6\n",
      "nltk==3.7\n",
      "numpy==1.23.3\n",
      "oauthlib==3.2.2\n",
      "opt-einsum==3.3.0\n",
      "packaging==21.3\n",
      "pandas==1.5.0\n",
      "parso==0.8.3\n",
      "pathspec==0.10.1\n",
      "pathy==0.6.2\n",
      "pexpect==4.8.0\n",
      "pickleshare==0.7.5\n",
      "Pillow==9.2.0\n",
      "platformdirs==2.5.2\n",
      "plot-keras-history==1.1.38\n",
      "preshed==3.0.7\n",
      "prompt-toolkit==3.0.31\n",
      "protobuf==3.19.6\n",
      "psutil==5.9.2\n",
      "pt-core-news-sm @ https://github.com/explosion/spacy-models/releases/download/pt_core_news_sm-3.4.0/pt_core_news_sm-3.4.0-py3-none-any.whl\n",
      "ptyprocess==0.7.0\n",
      "pure-eval==0.2.2\n",
      "pyasn1==0.4.8\n",
      "pyasn1-modules==0.2.8\n",
      "pycodestyle==2.9.1\n",
      "pydantic==1.9.2\n",
      "pyFUME==0.2.25\n",
      "Pygments==2.13.0\n",
      "pyparsing==3.0.9\n",
      "python-crfsuite==0.9.8\n",
      "python-dateutil==2.8.2\n",
      "pytorch-crf==0.7.2\n",
      "pytz==2022.4\n",
      "PyYAML==6.0\n",
      "pyzmq==24.0.1\n",
      "regex==2022.9.13\n",
      "requests==2.28.1\n",
      "requests-oauthlib==1.3.1\n",
      "rsa==4.9\n",
      "sanitize-ml-labels==1.0.50\n",
      "scikit-learn==1.1.2\n",
      "scipy==1.9.2\n",
      "seqeval==1.2.2\n",
      "simpful==2.10.0\n",
      "six==1.16.0\n",
      "sklearn==0.0\n",
      "sklearn-crfsuite==0.3.6\n",
      "skweak==0.3.3\n",
      "smart-open==5.2.1\n",
      "spacy==3.4.2\n",
      "spacy-legacy==3.0.10\n",
      "spacy-loggers==1.0.3\n",
      "srsly==2.4.4\n",
      "stack-data==0.5.1\n",
      "support-developer==1.0.5\n",
      "tabulate==0.9.0\n",
      "tensorboard==2.11.2\n",
      "tensorboard-data-server==0.6.1\n",
      "tensorboard-plugin-wit==1.8.1\n",
      "tensorflow==2.11.0\n",
      "tensorflow-addons==0.19.0\n",
      "tensorflow-estimator==2.11.0\n",
      "tensorflow-io-gcs-filesystem==0.30.0\n",
      "termcolor==2.2.0\n",
      "thinc==8.1.3\n",
      "threadpoolctl==3.1.0\n",
      "toml==0.10.2\n",
      "tomli==2.0.1\n",
      "torch==1.12.1\n",
      "torchaudio==0.12.1\n",
      "torchvision==0.13.1\n",
      "tornado==6.2\n",
      "tqdm==4.64.1\n",
      "traitlets==5.4.0\n",
      "typeguard==2.13.3\n",
      "typer==0.4.2\n",
      "typing_extensions==4.4.0\n",
      "urllib3==1.26.12\n",
      "wasabi==0.10.1\n",
      "wcwidth==0.2.5\n",
      "Werkzeug==2.2.3\n",
      "wrapt==1.14.1\n",
      "xyzservices==2023.2.0\n",
      "yapf==0.32.0\n",
      "zipp==3.14.0\n"
     ]
    }
   ],
   "source": [
    "!pip freeze"
   ]
  },
  {
   "cell_type": "markdown",
   "metadata": {},
   "source": [
    "Inspeciona a classe com mais detalhe"
   ]
  },
  {
   "cell_type": "code",
   "execution_count": 293,
   "metadata": {},
   "outputs": [
    {
     "name": "stdout",
     "output_type": "stream",
     "text": [
      "              precision    recall  f1-score   support\n",
      "\n",
      "       B-LOC      0.787     0.074     0.135      1502\n",
      "       I-LOC      0.000     0.000     0.000         0\n",
      "      B-MISC      0.000     0.000     0.000         0\n",
      "      I-MISC      0.000     0.000     0.000         0\n",
      "       B-ORG      0.000     0.000     0.000         0\n",
      "       I-ORG      0.000     0.000     0.000         0\n",
      "       B-PER      0.381     0.005     0.010      1571\n",
      "       I-PER      0.000     0.000     0.000         0\n",
      "\n",
      "   micro avg      0.696     0.039     0.073      3073\n",
      "   macro avg      0.146     0.010     0.018      3073\n",
      "weighted avg      0.580     0.039     0.071      3073\n",
      "\n"
     ]
    }
   ],
   "source": [
    "# group B and I results\n",
    "sorted_labels = sorted(\n",
    "    labels,\n",
    "    key=lambda name: (name[1:], name[0])\n",
    ")\n",
    "print(metrics.flat_classification_report(\n",
    "    y_test, y_pred, labels=sorted_labels, digits=3\n",
    "))"
   ]
  },
  {
   "cell_type": "markdown",
   "metadata": {},
   "source": [
    "## Hyperparameter Optimization\n",
    "\n",
    "Para melhorar a qualidade, tente selecionar parâmetros de regularização usando pesquisa aleatória e validação cruzada de 3 vezes.\n",
    "\n",
    "Esta execução necessita de bastante tempo de CPU e RAM (estamos ajustando um modelo 50 * 3 = 150 vezes), então pegue um chá e seja paciente, ou reduza n_iter em RandomizedSearchCV, ou ajuste o modelo apenas em um subconjunto de dados de treinamento.\n",
    "\n"
   ]
  },
  {
   "cell_type": "markdown",
   "metadata": {},
   "source": [
    "Bibliotecas:\n",
    "  scikit-Learn==0.23.2\n",
    "  python 3.7\n"
   ]
  },
  {
   "cell_type": "code",
   "execution_count": 3,
   "metadata": {},
   "outputs": [
    {
     "ename": "NameError",
     "evalue": "name 'labels' is not defined",
     "output_type": "error",
     "traceback": [
      "\u001b[0;31m---------------------------------------------------------------------------\u001b[0m",
      "\u001b[0;31mNameError\u001b[0m                                 Traceback (most recent call last)",
      "File \u001b[0;32m<timed exec>:14\u001b[0m\n",
      "\u001b[0;31mNameError\u001b[0m: name 'labels' is not defined"
     ]
    }
   ],
   "source": [
    "%%time\n",
    "# define fixed parameters and parameters to search\n",
    "crf = sklearn_crfsuite.CRF(\n",
    "    algorithm='lbfgs',\n",
    "    max_iterations=100,\n",
    "    all_possible_transitions=True\n",
    ")\n",
    "params_space = {\n",
    "    'c1': scipy.stats.expon(scale=0.5),\n",
    "    'c2': scipy.stats.expon(scale=0.05),\n",
    "}\n",
    "\n",
    "# use the same metric for evaluation\n",
    "f1_scorer = make_scorer(metrics.flat_f1_score,\n",
    "                        average='weighted', labels=labels)\n",
    "\n",
    "# search\n",
    "rs = RandomizedSearchCV(crf, params_space,\n",
    "                        cv=3,\n",
    "                        verbose=1,\n",
    "                        n_jobs=-1,\n",
    "                        n_iter=50,\n",
    "                        scoring=f1_scorer)\n",
    "rs.fit(X_train, y_train)"
   ]
  },
  {
   "cell_type": "markdown",
   "metadata": {},
   "source": [
    "### Vamos ver o melhor resultado:"
   ]
  },
  {
   "cell_type": "code",
   "execution_count": null,
   "metadata": {},
   "outputs": [],
   "source": [
    "# crf = rs.best_estimator_\n",
    "print('best params:', rs.best_params_)\n",
    "print('best CV score:', rs.best_score_)\n",
    "print('model size: {:0.2f}M'.format(rs.best_estimator_.size_ / 1000000))"
   ]
  },
  {
   "cell_type": "markdown",
   "metadata": {},
   "source": [
    "### Verifique o espaço do parâmetro\n",
    "\n",
    "Para isso plot um gráfico que mostra quais valores c1 e c2 têm RandomizedSearchCV. \n",
    "A cor vermelha significa melhores resultados, azul significa pior."
   ]
  },
  {
   "cell_type": "code",
   "execution_count": null,
   "metadata": {},
   "outputs": [],
   "source": [
    "_x = [s['c1'] for s in rs.cv_results_['params']]\n",
    "_y = [s['c2'] for s in rs.cv_results_['params']]\n",
    "_c = [s for s in rs.cv_results_['mean_test_score']]\n",
    "\n",
    "fig = plt.figure()\n",
    "fig.set_size_inches(12, 12)\n",
    "ax = plt.gca()\n",
    "ax.set_yscale('log')\n",
    "ax.set_xscale('log')\n",
    "ax.set_xlabel('C1')\n",
    "ax.set_ylabel('C2')\n",
    "ax.set_title(\"Randomized Hyperparameter Search CV Results (min={:0.3}, max={:0.3})\".format(\n",
    "    min(_c), max(_c)\n",
    "))\n",
    "\n",
    "ax.scatter(_x, _y, c=_c, s=60, alpha=0.9, edgecolors=[0,0,0])\n",
    "\n",
    "print(\"Dark blue => {:0.4}, dark red => {:0.4}\".format(min(_c), max(_c)))"
   ]
  },
  {
   "cell_type": "markdown",
   "metadata": {},
   "source": [
    "### Verifica o melhor estimador em nossos dados de teste\n",
    "\n",
    "Como podemos ver, a qualidade é melhorada."
   ]
  },
  {
   "cell_type": "code",
   "execution_count": null,
   "metadata": {},
   "outputs": [],
   "source": [
    "crf = rs.best_estimator_\n",
    "y_pred = crf.predict(X_test)\n",
    "print(metrics.flat_classification_report(\n",
    "    y_test, y_pred, labels=sorted_labels, digits=3\n",
    "))\n"
   ]
  },
  {
   "cell_type": "markdown",
   "metadata": {},
   "source": [
    "### Vamos verificar o que o classificador aprendeu"
   ]
  },
  {
   "cell_type": "code",
   "execution_count": null,
   "metadata": {},
   "outputs": [],
   "source": [
    "#Let’s check what classifier learned\n",
    "from collections import Counter\n",
    "\n",
    "def print_transitions(trans_features):\n",
    "    for (label_from, label_to), weight in trans_features:\n",
    "        print(\"%-6s -> %-7s %0.6f\" % (label_from, label_to, weight))\n",
    "\n",
    "print(\"Top likely transitions:\")\n",
    "print_transitions(Counter(crf.transition_features_).most_common(20))\n",
    "\n",
    "print(\"\\nTop unlikely transitions:\")\n",
    "print_transitions(Counter(crf.transition_features_).most_common()[-20:])"
   ]
  },
  {
   "cell_type": "markdown",
   "metadata": {},
   "source": [
    "### Verifique as características de cada token:\n",
    "Podemos ver que, por exemplo, é muito provável que o início do nome de uma organização (B-ORG) seja seguido por um token dentro do nome da organização (I-ORG), mas transite para I-ORG de tokens com outros rótulos são penalizados.\n",
    "\n",
    "\n",
    "\n"
   ]
  },
  {
   "cell_type": "code",
   "execution_count": null,
   "metadata": {},
   "outputs": [],
   "source": [
    "def print_state_features(state_features):\n",
    "    for (attr, label), weight in state_features:\n",
    "        print(\"%0.6f %-8s %s\" % (weight, label, attr))\n",
    "\n",
    "print(\"Top positive:\")\n",
    "print_state_features(Counter(crf.state_features_).most_common(30))\n",
    "\n",
    "print(\"\\nTop negative:\")\n",
    "print_state_features(Counter(crf.state_features_).most_common()[-30:])"
   ]
  }
 ],
 "metadata": {
  "kernelspec": {
   "display_name": "Python 3 (ipykernel)",
   "language": "python",
   "name": "python3"
  },
  "language_info": {
   "codemirror_mode": {
    "name": "ipython",
    "version": 3
   },
   "file_extension": ".py",
   "mimetype": "text/x-python",
   "name": "python",
   "nbconvert_exporter": "python",
   "pygments_lexer": "ipython3",
   "version": "3.9.7"
  }
 },
 "nbformat": 4,
 "nbformat_minor": 2
}
