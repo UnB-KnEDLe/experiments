{
 "cells": [
  {
   "cell_type": "code",
   "execution_count": 345,
   "metadata": {},
   "outputs": [],
   "source": [
    "from itertools import chain\n",
    "from nltk.corpus.reader import ConllCorpusReader\n",
    "\n",
    "import nltk\n",
    "import sklearn\n",
    "import scipy.stats\n",
    "from sklearn.metrics import make_scorer\n",
    "from sklearn.model_selection import cross_val_score\n",
    "from sklearn.model_selection import RandomizedSearchCV\n",
    "\n",
    "import sklearn_crfsuite\n",
    "from sklearn_crfsuite import scorers\n",
    "from sklearn_crfsuite import metrics\n"
   ]
  },
  {
   "cell_type": "code",
   "execution_count": null,
   "metadata": {},
   "outputs": [],
   "source": [
    "%matplotlib inline\n",
    "import matplotlib.pyplot as plt\n",
    "plt.style.use('ggplot')\n"
   ]
  },
  {
   "source": [
    "Let's use CoNLL 2003 data to build a NER system\n",
    "\n",
    "We use English data."
   ],
   "cell_type": "markdown",
   "metadata": {}
  },
  {
   "source": [
    "Passo 1 - Treina o modelo"
   ],
   "cell_type": "markdown",
   "metadata": {}
  },
  {
   "cell_type": "code",
   "execution_count": 338,
   "metadata": {},
   "outputs": [],
   "source": [
    "#conll2003\n",
    "with open('/home/82068895153/POS/skweak/data/conll2003_dataset/train.txt', 'r') as file:\n",
    "  sentences = list(file.readlines())"
   ]
  },
  {
   "cell_type": "code",
   "execution_count": null,
   "metadata": {},
   "outputs": [],
   "source": [
    " print (sentences[5])\n",
    " len(sentences)"
   ]
  },
  {
   "cell_type": "code",
   "execution_count": 339,
   "metadata": {},
   "outputs": [],
   "source": [
    "def preprocess(sentences):\n",
    "    l_sentences = []\n",
    "    l1_ = []\n",
    "    for token in sentences[5:]: #a partir da quinta posicao\n",
    "    #for token in sentences:\n",
    "        #print('token==>', token)\n",
    "        cls = token.split()    \n",
    "        #print('token.split==>', cls)\n",
    "        if len(cls) != 0:\n",
    "            l1_.append(cls)\n",
    "            #print('apos o append==>', l1_)\n",
    "        else:\n",
    "            l_sentences.append(l1_)\n",
    "            l1_ = []\n",
    "    return l_sentences"
   ]
  },
  {
   "cell_type": "code",
   "execution_count": 340,
   "metadata": {
    "tags": []
   },
   "outputs": [],
   "source": [
    "#Quebra a sentença em lista\n",
    "sentences_1=preprocess(sentences)\n"
   ]
  },
  {
   "cell_type": "code",
   "execution_count": null,
   "metadata": {},
   "outputs": [],
   "source": [
    "print(sentences_1[5])"
   ]
  },
  {
   "cell_type": "code",
   "execution_count": 341,
   "metadata": {},
   "outputs": [],
   "source": [
    "def word2features(sent, i):\n",
    "    \n",
    "    word = sent[i][0]\n",
    "    #print ('word', word)\n",
    "    postag = sent[i][1]\n",
    "    #print ('postag', postag)\n",
    "\n",
    "    features = {\n",
    "        'bias': 1.0,\n",
    "        'word.lower()': word.lower(),\n",
    "        'word[-3:]': word[-3:],\n",
    "        'word[-2:]': word[-2:],\n",
    "        'word.isupper()': word.isupper(),\n",
    "        'word.istitle()': word.istitle(),\n",
    "        'word.isdigit()': word.isdigit(),\n",
    "        'postag': postag,\n",
    "        'postag[:2]': postag[:2],        \n",
    "    }\n",
    "    if i > 0:\n",
    "        word1 = sent[i-1][0]\n",
    "        postag1 = sent[i-1][1]\n",
    "        features.update({\n",
    "            '-1:word.lower()': word1.lower(),\n",
    "            '-1:word.istitle()': word1.istitle(),\n",
    "            '-1:word.isupper()': word1.isupper(),\n",
    "            '-1:postag': postag1,\n",
    "            '-1:postag[:2]': postag1[:2],\n",
    "        })\n",
    "    else:\n",
    "        features['BOS'] = True\n",
    "        \n",
    "    if i < len(sent)-1:\n",
    "        word1 = sent[i+1][0]\n",
    "        postag1 = sent[i+1][1]        \n",
    "        features.update({\n",
    "            '+1:word.lower()': word1.lower(),\n",
    "            '+1:word.istitle()': word1.istitle(),\n",
    "            '+1:word.isupper()': word1.isupper(),\n",
    "            '+1:postag': postag1,\n",
    "            '+1:postag[:2]': postag1[:2],\n",
    "        })\n",
    "    else:\n",
    "        features['EOS'] = True\n",
    "                \n",
    "    return features\n"
   ]
  },
  {
   "cell_type": "code",
   "execution_count": 342,
   "metadata": {},
   "outputs": [],
   "source": [
    "def sent2features(sent):\n",
    "    return [word2features(sent, i) for i in range(len(sent))]\n",
    "\n",
    "def sent2labels(sent):\n",
    "    return [label for token, postag, __, label in sent]\n",
    "\n",
    "def sent2tokens(sent):\n",
    "    return [token for token, postag, __, label in sent]\n"
   ]
  },
  {
   "cell_type": "code",
   "execution_count": 343,
   "metadata": {
    "scrolled": true,
    "tags": []
   },
   "outputs": [],
   "source": [
    "X_train = [sent2features(s) for s in sentences_1]\n",
    "\n",
    "y_train = [sent2labels(s) for s in sentences_1]\n"
   ]
  },
  {
   "cell_type": "code",
   "execution_count": null,
   "metadata": {},
   "outputs": [],
   "source": [
    "X_train [0]"
   ]
  },
  {
   "cell_type": "code",
   "execution_count": 346,
   "metadata": {},
   "outputs": [
    {
     "output_type": "execute_result",
     "data": {
      "text/plain": [
       "CRF(algorithm='lbfgs', all_possible_transitions=True, c1=0.1, c2=0.1,\n",
       "    keep_tempfiles=None, max_iterations=100)"
      ]
     },
     "metadata": {},
     "execution_count": 346
    }
   ],
   "source": [
    "crf = sklearn_crfsuite.CRF(\n",
    "    algorithm='lbfgs', \n",
    "    c1=0.1, \n",
    "    c2=0.1, \n",
    "    max_iterations=100, \n",
    "    all_possible_transitions=True\n",
    ")\n",
    "crf.fit(X_train, y_train)"
   ]
  },
  {
   "source": [
    "Passo 2 - Prepara o Y_test a partir do dataset do Ontonotes "
   ],
   "cell_type": "markdown",
   "metadata": {}
  },
  {
   "cell_type": "code",
   "execution_count": null,
   "metadata": {},
   "outputs": [],
   "source": [
    "#2.1 - Abre o Ontonotes para aplicar o tratamento \n",
    "with open('/home/82068895153/POS/skweak/data/Ontonotes/ner_train.txt', 'r') as file:\n",
    "   sentences = list(file.readlines())"
   ]
  },
  {
   "cell_type": "code",
   "execution_count": null,
   "metadata": {},
   "outputs": [],
   "source": [
    "len(sentences)"
   ]
  },
  {
   "cell_type": "code",
   "execution_count": null,
   "metadata": {
    "tags": []
   },
   "outputs": [],
   "source": [
    "#2.2 - Retira os espaços em branco e as words maiores que duas posições\n",
    "for i in range(len(sentences) - 1):\n",
    "    #print(sentences[116:122])\n",
    "    atual = sentences[i].split()\n",
    "    proximo = sentences[i+1].split()\n",
    "    if len(atual) == 0:\n",
    "        continue\n",
    "    while len(proximo) > 2:\n",
    "        #print(f'Convertendo ({atual}) e ({proximo}) para ', end = '')\n",
    "        atual[0] += proximo[0]\n",
    "        sentences[i] = '\\t'.join(atual)+'\\n'\n",
    "        proximo = proximo[1:]\n",
    "        sentences[i+1] = '\\t'.join(proximo)+'\\n'\n",
    "        #print(f'({atual}) e ({proximo})')"
   ]
  },
  {
   "cell_type": "code",
   "execution_count": null,
   "metadata": {},
   "outputs": [],
   "source": [
    "print(sentences[116:150])"
   ]
  },
  {
   "cell_type": "code",
   "execution_count": null,
   "metadata": {
    "tags": []
   },
   "outputs": [],
   "source": [
    "#2.3 - Verifica as linhas com mais de duas words e concatena\n",
    "for i in range(len(sentences) - 1):\n",
    "        atual = sentences[i].split()\n",
    "        if ((len(atual)>2) and (len(atual)<=3)):\n",
    "            #print('atual', atual)\n",
    "            sentences[i]=(''.join(atual[0]+atual[1]))+' '+atual[2]+'\\n' \n",
    "            #print('sentences', sentences[i])\n",
    "            #print(i)\n",
    "        elif ((len(atual)>3) and (len(atual)<=4)):\n",
    "            #print('atual', atual)\n",
    "            sentences[i]=(''.join(atual[0]+atual[1]+atual[2]))+' '+atual[3] +'\\n'  \n",
    "            #print('sentences', sentences[i])\n",
    "            #print(i)\n",
    "        elif (len(atual)>4):\n",
    "            sentences[i]=(''.join(atual[0]+atual[1]+atual[2]+atual[3]))+' '+atual[4] +'\\n' \n",
    "            #print(i)"
   ]
  },
  {
   "cell_type": "code",
   "execution_count": null,
   "metadata": {},
   "outputs": [],
   "source": [
    "print(sentences[116:150])"
   ]
  },
  {
   "cell_type": "code",
   "execution_count": null,
   "metadata": {},
   "outputs": [],
   "source": [
    "len(sentences)"
   ]
  },
  {
   "cell_type": "code",
   "execution_count": null,
   "metadata": {},
   "outputs": [],
   "source": [
    "#2.4 - Faz a troca dos labels\n",
    "def processarLinha(sentences):\n",
    "    #print(sentences)\n",
    "    #print(sentences[1])\n",
    "    #count = 0\n",
    "    # Write the file out again\n",
    "    with open('/home/82068895153/POS/skweak/data/Ontonotes/ner_train_label.txt', 'wt') as fileout:\n",
    "        for linha in sentences:\n",
    "            #count = count +1\n",
    "            #print (linha)\n",
    "            lista = linha.split(\"\\t\")\n",
    "            \n",
    "            #print (len(lista))\n",
    "            #print (lista)     \n",
    "            if len(lista)==2 and lista[1] == 'PERSON\\n':\n",
    "                lista[1]= 'B-PER\\n'\n",
    "                #print (lista)\n",
    "                fileout.write(lista[0]+'\\t'+lista[1])\n",
    "            elif len(lista)==2 and lista[1] == 'GPE\\n': \n",
    "                lista[1]= 'B-LOC\\n'\n",
    "                #print (lista)\n",
    "                fileout.write(lista[0]+'\\t'+lista[1])         \n",
    "            elif len(lista)==2:\n",
    "                fileout.write(lista[0]+'\\t'+lista[1])\n",
    "            #if count == 15:\n",
    "              #  break"
   ]
  },
  {
   "cell_type": "code",
   "execution_count": null,
   "metadata": {},
   "outputs": [],
   "source": [
    "processarLinha(sentences)"
   ]
  },
  {
   "cell_type": "code",
   "execution_count": null,
   "metadata": {},
   "outputs": [],
   "source": [
    "#2.5 - Abre o Ontonotes após aplicar ajuste do label\n",
    "with open('/home/82068895153/POS/skweak/data/Ontonotes/ner_train_label.txt', 'r') as file:\n",
    "   sentences_trat = list(file.readlines())"
   ]
  },
  {
   "cell_type": "code",
   "execution_count": null,
   "metadata": {
    "tags": []
   },
   "outputs": [],
   "source": [
    "len(sentences_trat)"
   ]
  },
  {
   "cell_type": "code",
   "execution_count": null,
   "metadata": {},
   "outputs": [],
   "source": [
    "#2.6 - Insere linha entre as sentenças\n",
    "arq1 = ''\n",
    "for linha in sentences_trat:\n",
    "    p=linha.find('.')\n",
    "    #print('linha', linha)\n",
    "    #print ('p == ',p)\n",
    "    if p==0:\n",
    "        arq1=arq1+linha+'\\n'\n",
    "        #print ('arq de p0 == ',arq)\n",
    "    else:\n",
    "        arq1=arq1+linha\n",
    "        #print ('arq de p = . == ',arq)"
   ]
  },
  {
   "cell_type": "code",
   "execution_count": null,
   "metadata": {},
   "outputs": [],
   "source": [
    "len(arq1)"
   ]
  },
  {
   "cell_type": "code",
   "execution_count": null,
   "metadata": {},
   "outputs": [],
   "source": [
    "#2.7 - Grava o arquivo após o tratamento\n",
    "with open('/home/82068895153/POS/skweak/data/Ontonotes/ner_train_arq1.txt', 'wt') as fileout:\n",
    "    fileout.write(arq1)"
   ]
  },
  {
   "cell_type": "code",
   "execution_count": null,
   "metadata": {},
   "outputs": [],
   "source": [
    "#2.7 - Abre o Ontonotes após concluir o tratamento para carregar o y_test\n",
    "with open('/home/82068895153/POS/skweak/data/Ontonotes/ner_train_arq1.txt', 'r') as file:\n",
    "   arq_sentences = list(file.readlines())"
   ]
  },
  {
   "cell_type": "code",
   "execution_count": null,
   "metadata": {},
   "outputs": [],
   "source": [
    "len(arq_sentences)"
   ]
  },
  {
   "cell_type": "code",
   "execution_count": null,
   "metadata": {},
   "outputs": [],
   "source": [
    "arq_sentences[0:16]"
   ]
  },
  {
   "cell_type": "code",
   "execution_count": null,
   "metadata": {},
   "outputs": [],
   "source": [
    "#2.8 - cria a função para inserir tokens dentro das sentencas -- quebra a setenca em uma lista\n",
    "def preprocess_b(arq_sentences):\n",
    "    l_sentences = []\n",
    "    l1_ = []\n",
    "    for token in arq_sentences[0:]: #a partir da quinta posicao\n",
    "    #for token in sentences:\n",
    "        #print('token==>', token)\n",
    "        cls = token.split()    \n",
    "        #print('token.split==>', cls)\n",
    "        if len(cls) != 0:\n",
    "            l1_.append(cls)\n",
    "            #print('apos o append==>', l1_)\n",
    "        else:\n",
    "            l_sentences.append(l1_)\n",
    "            l1_ = []\n",
    "    return l_sentences"
   ]
  },
  {
   "cell_type": "code",
   "execution_count": null,
   "metadata": {},
   "outputs": [],
   "source": [
    "#2.9  Aplica a função de tokens ao arquivo aberto\n",
    "arq_sentences_1 = preprocess_b(arq_sentences)"
   ]
  },
  {
   "cell_type": "code",
   "execution_count": null,
   "metadata": {},
   "outputs": [],
   "source": [
    "print(arq_sentences_1[0:2])"
   ]
  },
  {
   "cell_type": "code",
   "execution_count": null,
   "metadata": {},
   "outputs": [],
   "source": [
    "len(arq_sentences_1)"
   ]
  },
  {
   "cell_type": "code",
   "execution_count": null,
   "metadata": {},
   "outputs": [],
   "source": [
    "#3.0 - Função para extrair os rotulos reais\n",
    "def sent2labelsO(sent):\n",
    "    return [label for token, label in sent]\n"
   ]
  },
  {
   "cell_type": "code",
   "execution_count": null,
   "metadata": {},
   "outputs": [],
   "source": [
    "#3.1 - Verifica se o dataset tem mais elementos que a chamado do métoddo sent2labels\n",
    "\n",
    "for sentences in arq_sentences_1:\n",
    "    try: \n",
    "        _ = sent2labelsO(sentences)\n",
    "    except ValueError:\n",
    "        for word in sentences:\n",
    "            if len(word)!= 2:\n",
    "                print(f' {word} possui {len(word)} elementos.')\n",
    "                 \n",
    "        break"
   ]
  },
  {
   "cell_type": "code",
   "execution_count": null,
   "metadata": {},
   "outputs": [],
   "source": [
    "#3.2 Extrai os rótulos reais y_test\n",
    "y_test = [sent2labelsO(sentences) for sentences in arq_sentences_1]   "
   ]
  },
  {
   "cell_type": "code",
   "execution_count": null,
   "metadata": {},
   "outputs": [],
   "source": [
    "len(y_test)"
   ]
  },
  {
   "source": [
    "Passo 3 - Carrega o X_test a partir do dataset do Ontonotes "
   ],
   "cell_type": "markdown",
   "metadata": {}
  },
  {
   "cell_type": "code",
   "execution_count": null,
   "metadata": {
    "tags": []
   },
   "outputs": [],
   "source": [
    "#2.1 - Abre o Ontonotes para aplicar o tratamento \n",
    "with open('/home/82068895153/POS/skweak/data/Ontonotes/ner_train.txt', 'r') as file:\n",
    "   sentences_x = list(file.readlines())"
   ]
  },
  {
   "cell_type": "code",
   "execution_count": null,
   "metadata": {},
   "outputs": [],
   "source": [
    "len(sentences_x)"
   ]
  },
  {
   "cell_type": "code",
   "execution_count": null,
   "metadata": {},
   "outputs": [],
   "source": [
    "print(sentences_x[0]) "
   ]
  },
  {
   "cell_type": "code",
   "execution_count": null,
   "metadata": {},
   "outputs": [],
   "source": [
    "#2.2 - Retira os espaços em branco e as words maiores que duas posições\n",
    "for i in range(len(sentences_x) - 1):\n",
    "    #print(sentences[116:122])\n",
    "    atual = sentences_x[i].split()\n",
    "    proximo = sentences_x[i+1].split()\n",
    "    if len(atual) == 0:\n",
    "        continue\n",
    "    while len(proximo) > 2:\n",
    "        #print(f'Convertendo ({atual}) e ({proximo}) para ', end = '')\n",
    "        atual[0] += proximo[0]\n",
    "        sentences_x[i] = '\\t'.join(atual)+'\\n'\n",
    "        proximo = proximo[1:]\n",
    "        sentences_x[i+1] = '\\t'.join(proximo)+'\\n'\n",
    "        #print(f'({atual}) e ({proximo})')"
   ]
  },
  {
   "cell_type": "code",
   "execution_count": null,
   "metadata": {},
   "outputs": [],
   "source": [
    "#2.3 - Verifica as linhas com mais de duas words e concatena\n",
    "for i in range(len(sentences_x) - 1):\n",
    "        atual = sentences_x[i].split()\n",
    "        if ((len(atual)>2) and (len(atual)<=3)):\n",
    "            #print('atual', atual)\n",
    "            sentences_x[i]=(''.join(atual[0]+atual[1]))+' '+atual[2]+'\\n' \n",
    "            #print('sentences', sentences_x[i])\n",
    "            #print(i)\n",
    "        elif ((len(atual)>3) and (len(atual)<=4)):\n",
    "            #print('atual', atual)\n",
    "            sentences_x[i]=(''.join(atual[0]+atual[1]+atual[2]))+' '+atual[3] +'\\n'  \n",
    "            #print('sentences', sentences[i])\n",
    "            #print(i)\n",
    "        elif (len(atual)>4):\n",
    "            sentences_x[i]=(''.join(atual[0]+atual[1]+atual[2]+atual[3]))+' '+atual[4] +'\\n' \n",
    "            #print(i)"
   ]
  },
  {
   "cell_type": "code",
   "execution_count": null,
   "metadata": {},
   "outputs": [],
   "source": [
    "len(sentences_x)\n"
   ]
  },
  {
   "cell_type": "code",
   "execution_count": null,
   "metadata": {
    "tags": []
   },
   "outputs": [],
   "source": [
    "#2.4 - Remove o label original\n",
    "texto=''\n",
    "#count=0\n",
    "for linha in sentences_x:\n",
    "    if len(linha) != 1:\n",
    "        x=linha.split()[0]              \n",
    "        #print('x-->', x)\n",
    "        texto=texto+x+'\\n'\n",
    "        continue\n",
    "                \n",
    "                #verifica se a linha tem mais de 2 palavras\n",
    "                # if len(x) > 2:\n",
    "                #     #print('split', x)\n",
    "                #     print(f' {x} possui {len(x)} elementos.') \n",
    "                # if len(x) == 1:\n",
    "                #     #print('split', x)\n",
    "                #     print(f' {x} possui {len(x)} elementos.')    "
   ]
  },
  {
   "cell_type": "code",
   "execution_count": null,
   "metadata": {},
   "outputs": [],
   "source": [
    "print(texto[0:120])"
   ]
  },
  {
   "cell_type": "code",
   "execution_count": null,
   "metadata": {},
   "outputs": [],
   "source": [
    "len(texto)"
   ]
  },
  {
   "cell_type": "code",
   "execution_count": null,
   "metadata": {},
   "outputs": [],
   "source": [
    "#2.6 - Grava o arquivo após o tratamento\n",
    "with open('/home/82068895153/POS/skweak/data/Ontonotes/ner_train_arq_2.txt', 'wt') as fileout:\n",
    "    fileout.write(texto)"
   ]
  },
  {
   "cell_type": "code",
   "execution_count": null,
   "metadata": {},
   "outputs": [],
   "source": [
    "#2.7 - Abre o Ontonotes após concluir o tratamento para carregar o X_text\n",
    "with open('/home/82068895153/POS/skweak/data/Ontonotes/ner_train_arq_2.txt', 'r') as file:\n",
    "   arq_sentences_2 = list(file.readlines())"
   ]
  },
  {
   "cell_type": "code",
   "execution_count": null,
   "metadata": {},
   "outputs": [],
   "source": [
    "len(arq_sentences_2)"
   ]
  },
  {
   "cell_type": "code",
   "execution_count": 324,
   "metadata": {},
   "outputs": [],
   "source": [
    "#2.5 - Insere linha entre as sentenças\n",
    "arq_2 = ''\n",
    "for linha in arq_sentences_2:\n",
    "    p=linha.find('.')\n",
    "    #print('linha', linha)\n",
    "    #print ('p == ',p)\n",
    "    if p==0:\n",
    "        arq_2=arq_2+linha+'\\n'\n",
    "        #print ('arq de p0 == ',arq)\n",
    "    else:\n",
    "        arq_2=arq_2+linha\n",
    "        #print ('arq de p = . == ',arq)"
   ]
  },
  {
   "cell_type": "code",
   "execution_count": 325,
   "metadata": {},
   "outputs": [],
   "source": [
    "#2.6 - Grava o arquivo após o tratamento\n",
    "#with open('/home/82068895153/POS/skweak/data/Ontonotes/ner_train_arq_3.txt', 'wt') as fileout:\n",
    "#    fileout.write(arq_2)"
   ]
  },
  {
   "cell_type": "code",
   "execution_count": 326,
   "metadata": {},
   "outputs": [],
   "source": [
    "#2.7 - Abre o Ontonotes após concluir o tratamento para carregar o X_text\n",
    "with open('/home/82068895153/POS/skweak/data/Ontonotes/ner_train_arq_3.txt', 'r') as file:\n",
    "   arq_sentences_3 = list(file.readlines())"
   ]
  },
  {
   "cell_type": "code",
   "execution_count": 327,
   "metadata": {},
   "outputs": [
    {
     "output_type": "execute_result",
     "data": {
      "text/plain": [
       "3103448"
      ]
     },
     "metadata": {},
     "execution_count": 327
    }
   ],
   "source": [
    "len(arq_sentences_3)"
   ]
  },
  {
   "cell_type": "code",
   "execution_count": 328,
   "metadata": {},
   "outputs": [],
   "source": [
    "#2.8 - Cria os tokens dentro das sentencas -- quebra a setenca em uma lista\n",
    "def preprocess_O(arq_sentences_3):\n",
    "    l_sentences = []\n",
    "    l1_ = []\n",
    "    for token in arq_sentences_3[0:]: #a partir da quinta posicao\n",
    "    #for token in sentences:\n",
    "        #print('token==>', token)\n",
    "        cls = token.split()    \n",
    "        #print('token.split==>', cls)\n",
    "        if len(cls) != 0:\n",
    "            l1_.append(cls)\n",
    "            #print('apos o append==>', l1_)\n",
    "        else:\n",
    "            l_sentences.append(l1_)\n",
    "            l1_ = []\n",
    "    return l_sentences"
   ]
  },
  {
   "cell_type": "code",
   "execution_count": 329,
   "metadata": {
    "tags": []
   },
   "outputs": [],
   "source": [
    "#2.9 - Transforma a sentença em lista\n",
    "test_sentences_2=preprocess_O(arq_sentences_3)"
   ]
  },
  {
   "cell_type": "code",
   "execution_count": 330,
   "metadata": {
    "tags": [
     "outputPrepend"
    ]
   },
   "outputs": [
    {
     "output_type": "stream",
     "name": "stdout",
     "text": [
      "需吃药降低'], ['后遗症'], ['发生'], ['，'], ['李'], ['小弟弟'], ['仍然清楚'], ['记得'], ['当时'], ['摔下'], ['的'], ['过程'], ['。'], ['And'], ['they'], ['needed'], ['somebody'], ['as'], ['what'], ['they'], ['call'], ['a'], ['tutor'], ['MiniScribe'], ['said'], ['the'], ['disk'], ['drives'], ['have'], ['more'], ['memory'], ['capacity'], ['than'], ['other'], ['disks'], ['that'], ['size'], ['.']], [['The'], ['soft'], ['-'], ['spoken'], [','], ['silver'], ['-'], ['haired'], ['Manhattan'], ['borough'], ['president'], ['--'], ['the'], ['first'], ['black'], ['man'], ['to'], ['win'], ['the'], ['Democratic'], ['nomination'], ['for'], ['mayor'], ['here'], ['--'], ['does'], [\"n't\"], ['have'], ['a'], ['single'], ['prominent'], ['political'], ['enemy'], ['.']], [['Mr.'], ['Taler'], ['says'], ['Edwin'], ['Boje'], ['also'], ['lied'], ['about'], ['his'], ['dealings'], ['with'], ['the'], ['East'], ['German'], ['Stazi'], ['who'], ['he'], ['also'], ['sold'], ['timers'], ['to'], ['.']], [['This'], ['week'], [','], ['Israel'], ['began'], ['opening'], ['its'], ['borders'], [','], ['just'], ['slightly'], [','], ['so'], ['that'], ['some'], ['Palestinians'], ['could'], ['go'], ['back'], ['to'], ['work'], ['.']], [['As'], ['one'], ['of'], ['the'], ['most'], ['senior'], ['politicians'], ['in'], ['the'], ['Asian'], ['region'], [','], ['and'], ['a'], ['man'], ['who'], ['has'], ['had'], ['close'], ['ties'], ['with'], ['several'], ['generations'], ['of'], ['leaders'], ['on'], ['both'], ['sides'], ['of'], ['the'], ['Taiwan'], ['Strait'], [','], ['Lee'], ['Kuan'], ['Yew'], ['maintains'], ['a'], ['special'], ['status'], ['in'], ['both'], ['Taiwan'], ['and'], ['mainland'], ['China'], ['.']], [['“'], ['被'], ['他们'], ['拖进去'], ['，'], ['然后'], ['问'], ['我'], ['那'], ['钱'], ['是'], ['不'], ['是'], ['我'], ['偷'], ['的'], ['，'], ['我'], ['说'], ['不'], ['是'], ['，'], ['他'], ['就一直'], ['打'], ['我'], ['。”'], ['What'], ['do'], ['you'], ['think'], ['?'], [\"''\"], ['The'], ['child'], [\"'s\"], ['rapid'], ['success'], ['at'], ['picking'], ['up'], ['Taiwanese'], ['has'], ['amazed'], ['her'], ['.']], [['Again'], [','], ['that'], ['was'], ['Matthew'], ['Chance'], ['reporting'], ['from'], ['Jerusalem'], ['.']], [['One'], ['of'], ['the'], ['heads'], ['of'], ['the'], ['beast'], ['looked'], ['as'], ['if'], ['it'], ['had'], ['been'], ['wounded'], ['and'], ['killed'], [','], ['but'], ['the'], ['death'], ['wound'], ['was'], ['healed'], ['.']], [['That'], ['really'], ['hurt'], ['.']], [['Thus'], [','], ['it'], ['would'], ['be'], ['more'], ['effective'], ['to'], ['build'], ['an'], ['offensive'], ['missile'], ['system'], ['to'], ['deter'], ['the'], ['enemy'], ['.']], [['Agents'], ['searched'], ['the'], ['area'], ['at'], ['least'], ['four'], ['times'], ['since'], ['then'], ['.']], [['To'], ['remove'], ['the'], ['threat'], ['that'], ['the'], ['ice'], ['icicle'], ['caused'], ['to'], ['the'], ['local'], ['herders'], [','], ['the'], ['local'], ['government'], ['has'], ['invested'], ['over'], ['five'], ['million'], ['yuan'], ['in'], ['building'], ['129'], ['new'], ['houses'], ['in'], ['Kalatuohai'], ['Township'], [','], ['which'], ['are'], ['being'], ['used'], ['to'], ['settle'], ['the'], ['herders'], ['under'], ['threat'], ['from'], ['the'], ['ice'], ['icicle'], ['.']], [['The'], ['Father'], ['gives'], ['me'], ['my'], ['people'], ['.']], [['The'], ['message'], ['about'], ['him'], ['was'], ['told'], ['to'], ['the'], ['nations'], [';'], ['people'], ['in'], ['the'], ['world'], ['believed'], ['in'], ['him'], [';'], ['he'], ['was'], ['taken'], ['up'], ['to'], ['heaven'], ['in'], ['glory'], ['.']], [['农民'], ['堵路'], ['虽然是'], ['违法'], ['的'], ['，'], ['警察'], ['可以'], ['依法'], ['维护'], ['秩序'], ['，'], ['They'], ['will'], ['say'], ['to'], ['the'], ['hills'], [','], [\"'\"], ['Cover'], ['us'], ['!'], [\"'\"], ['and'], ['so'], ['it'], [\"'s\"], ['in'], ['the'], ['eighties'], ['It'], ['is'], ['believed'], ['that'], ['forces'], ['advocating'], ['and'], ['maintaining'], ['a'], ['peaceful'], ['transition'], ['will'], ['be'], ['increased'], ['greatly'], [','], ['and'], ['destroying'], ['a'], ['peaceful'], ['transition'], ['will'], ['lose'], ['even'], ['more'], ['of'], ['the'], ['people'], [\"'s\"], ['support'], ['.']], [['But'], ['the'], ['man'], ['of'], ['God'], ['said'], ['to'], ['Gehazi'], [','], ['``'], ['Leave'], ['her'], ['alone'], ['!'], ['He'], ['stayed'], ['there'], ['all'], ['night'], ['praying'], ['to'], ['God'], ['.']], [['Thus'], [','], ['a'], ['woman'], ['who'], ['used'], ['RU'], ['-'], ['486'], ['to'], ['have'], ['an'], ['abortion'], ['would'], ['have'], ['to'], ['make'], ['three'], ['trips'], ['to'], ['the'], ['clinic'], ['past'], ['those'], ['picket'], ['lines'], [';'], ['an'], ['initial'], ['visit'], ['for'], ['medical'], ['screening'], ['anemics'], ['and'], ['those'], ['with'], ['previous'], ['pregnancy'], ['problems'], ['are'], ['eliminated'], ['and'], ['to'], ['take'], ['the'], ['pill'], [','], ['a'], ['second'], ['trip'], ['48'], ['hours'], ['later'], ['for'], ['the'], ['prostaglandin'], [','], ['administered'], ['either'], ['via'], ['injection'], ['or'], ['vaginal'], ['suppository'], [','], ['and'], ['a'], ['third'], ['trip'], ['a'], ['week'], ['later'], ['to'], ['make'], ['sure'], ['she'], ['has'], ['completely'], ['aborted'], ['.']], [['God'], ['will'], ['really'], ['not'], ['forsake'], ['those'], ['who'], ['support'], ['His'], ['religion'], ['.']], [['oh'], ['The'], ['Spirit'], ['knows'], ['all'], ['things'], ['.']], [['我'], ['前两天'], ['呃昨天'], ['给'], ['小宋'], ['打'], ['了'], ['个'], ['很'], ['长'], ['的'], ['电话'], [','], ['Then'], ['he'], ['left'], ['and'], ['went'], ['to'], ['another'], ['place'], ['.']], [['中国'], ['石油天然气'], ['总'], ['公司'], ['的'], ['一'], ['位'], ['官员'], ['日前'], ['在'], ['接受'], ['本'], ['社记者采访'], ['时'], ['说'], ['，'], ['中国'], ['将进一步'], ['加快'], ['四川'], ['盆地天然气'], ['的'], ['勘探开发'], ['，'], ['增加'], ['后备'], ['储量'], ['和'], ['产量'], ['，'], ['并'], ['准备'], ['充分'], ['利用'], ['天然气资源'], ['，'], ['发展'], ['天然气化工'], ['。'], ['If'], ['you'], ['find'], ['water'], [','], ['you'], [\"'re\"], ['very'], ['likely'], ['to'], ['find'], ['signs'], ['of'], ['life'], ['.']], [['oh'], ['你'], ['克服'], ['了'], ['这'], ['一切'], ['．'], ['He'], ['chose'], ['the'], ['weak'], ['things'], ['of'], ['the'], ['world'], ['to'], ['shame'], ['the'], ['strong'], ['.']], [['And'], ['if'], ['it'], [\"'s\"], ['not'], [','], ['it'], [\"'s\"], ['like'], [','], ['you'], ['know'], [','], ['you'], [\"'re\"], ['going'], ['to'], ['have'], ['to'], ['deal'], ['with'], ['it'], ['anyway'], ['.']], [['运输业'], ['的'], ['未来'], ['属于研发替代'], ['以'], ['汽油'], ['为'], ['动力'], ['的'], ['汽车'], ['的'], ['产品'], ['的'], ['国家'], ['、'], ['公司'], ['或'], ['个人'], ['。'], ['Favorability'], ['fifty'], ['three'], ['percent'], ['in'], ['our'], ['latest'], ['gallop'], ['poll'], ['.']], [['Xinhua'], ['News'], ['Agency'], [','], ['Kunming'], [','], ['September'], ['1st'], [','], ['by'], ['reporter'], ['Ziliang'], ['Li'], ['就'], ['如同'], ['已'], ['有'], ['二十九'], ['年'], ['历史'], ['的'], ['美国那斯达克'], ['指数'], ['，'], ['从'], ['去年十月'], ['中旬'], ['起'], ['，'], ['突然'], ['由'], ['二千八百'], ['点'], ['一路'], ['飙涨到'], ['今年三月中'], ['的'], ['五千多'], ['点'], ['，'], ['电信股'], ['、'], ['网路股'], ['、'], ['生化类股'], ['等'], ['轮番大'], ['涨'], ['，'], ['某些'], ['个股'], ['的'], ['本益比'], ['甚至高'], ['达'], ['五百'], ['（'], ['股价'], ['是'], ['获利'], ['的'], ['五百'], ['倍'], ['），'], ['以致被'], ['讥为'], ['「'], ['本梦比'], ['」。'], ['تجمع'], ['قرابة'], ['70مواطناً'], ['عند'], ['الثامنة'], ['مساء'], ['امس'], ['امام'], ['مدخل'], ['قصر'], ['قريطم'], ['مطالبين'], ['ب'], ['لقاء'], ['الرئيس'], ['رفيق'], ['الحريري'], ['الذي'], ['كان'], ['آنذاك'], ['في'], ['مقر'], ['مجلس'], ['الوزراء'], ['ب'], ['المتحف'], ['.']], [['对'], [','], ['他'], ['所以'], ['来看'], ['那个'], ['人'], ['冒险'], ['似的'], ['.']], [['Applause'], ['Surplus'], ['power'], ['would'], ['be'], ['sold'], ['on'], ['the'], ['open'], ['market'], [','], ['Enron'], ['said'], ['.']], [['King'], ['Toi'], ['of'], ['Hamath'], ['heard'], ['that'], ['David'], ['had'], ['defeated'], ['Hadadezer'], [\"'s\"], ['whole'], ['army'], ['.']], [['Wrong'], ['.']], [['Who'], ['are'], ['you'], ['disgusted'], ['with'], ['?'], ['[alvarado]'], ['This'], ['semester'], ['I'], ['took'], ['a'], ['professional'], ['writing'], ['course'], [','], ['the'], ['teacher'], [\"'s\"], ['lectures'], ['were'], ['very'], ['interesting'], [','], ['about'], ['how'], ['to'], ['frame'], ['an'], ['article'], [','], ['lots'], ['of'], ['it'], ['was'], ['stuff'], ['I'], ['previously'], ['overlooked'], ['.']], [['But'], ['yesterday'], [\"'s\"], ['rally'], ['among'], ['``'], ['good'], [\"''\"], ['junk'], ['was'], ['a'], ['badly'], ['needed'], ['tonic'], ['for'], ['the'], ['market'], ['.']], [['When'], ['the'], ['men'], ['went'], ['to'], ['the'], ['jail'], [','], ['they'], ['could'], ['not'], ['find'], ['the'], ['apostles'], ['there'], ['.']], [['美国'], ['国防部'], ['１０号'], ['证实'], ['，'], ['中共'], ['在'], ['１１月４号'], ['进行'], ['东风'], ['３１'], ['型'], ['洲际'], ['弹道飞弹'], ['的'], ['第３'], ['次'], ['试射'], ['，'], ['当时'], ['美国'], ['参谋首长'], ['联席'], ['会议主席'], ['希尔顿'], ['将军'], ['正'], ['在'], ['中国'], ['大陆'], ['进行'], ['首'], ['次'], ['的'], ['访问'], ['。'], ['Before'], ['God'], ['and'], ['Christ'], ['Jesus'], ['I'], ['give'], ['you'], ['a'], ['command'], ['.']], [['Two'], ['days'], ['after'], ['the'], ['Saddam'], ['statue'], ['fell'], ['and'], ['we'], ['all'], ['knew'], ['it'], ['was'], ['over'], ['.']], [['当'], ['你'], ['只'], ['有'], ['十五'], ['岁'], ['的的'], ['时候'], ['，'], ['你'], ['不'], ['应该出现'], ['心脏病'], ['发作'], ['的'], ['情况'], ['．'], ['2'], ['-'], ['عدم'], ['ذكر'], ['القرار'], ['194'], ['الخاص'], ['ب'], ['حق'], ['العودة'], ['و'], ['عدم'], ['التطرق'], ['الي'], ['ه'], ['نهائيا'], ['في'], ['هذه'], ['الوثيقة'], ['.']], [['呃'], ['那个'], ['是'], ['辞'], ['了'], [','], ['但是好象又又'], ['跟'], ['老板'], ['商量'], ['了'], ['好象还'], ['要'], [','], ['就再'], ['哎'], ['又'], ['回去'], ['.']], [['My'], ['first'], ['break'], ['was'], ['a'], ['movie'], ['for'], ['television'], ['that'], ['I'], ['did'], ['with'], ['Mickey'], ['Roarke'], ['.']], [['But'], ['if'], ['people'], ['get'], ['hurt'], [','], ['if'], ['people'], ['get'], ['killed'], ['as'], ['a'], ['result'], ['of'], ['this'], ['the'], ['press'], ['is'], ['responsible'], ['.']], [['Gillette'], ['said'], ['its'], ['continued'], ['presence'], ['in'], ['South'], ['Africa'], ['``'], ['enables'], ['it'], ['to'], ['make'], ['meaningful'], ['contributions'], ['to'], ['South'], ['African'], ['society'], [','], ['to'], ['the'], ['lives'], ['of'], ['its'], ['employees'], ['and'], ['to'], ['the'], ['communities'], ['in'], ['which'], ['it'], ['operates'], ['.']], [[\"''\"], ['We'], ['are'], ['tremendously'], ['concerned'], ['that'], ['this'], ['is'], ['a'], ['harbinger'], ['of'], ['things'], ['to'], ['come'], ['.']], [['不过'], ['东南亚'], ['地区'], ['的'], ['大自然环境'], ['里没有'], ['狮子'], ['生存'], ['。'], ['Colombia'], ['alone'], ['--'], ['its'], ['government'], [','], ['its'], ['people'], [','], ['its'], ['newspapers'], ['--'], ['does'], ['not'], ['have'], ['the'], ['capacity'], ['to'], ['fight'], ['this'], ['battle'], ['successfully'], ['.']], [['but'], ['I'], ['have'], [\"n't\"], ['had'], ['you'], ['know'], ['any'], ['good'], ['response'], ['My'], ['wife'], ['truly'], ['treasures'], ['Chien'], ['-'], ['chien'], [','], ['and'], ['was'], ['not'], ['at'], ['all'], ['comfortable'], ['with'], ['the'], ['idea'], ['of'], ['leaving'], ['her'], ['with'], ['someone'], ['else'], ['.']], [['４６'], ['个'], ['国家'], ['的'], ['１９００多'], ['个'], ['厂家'], ['参展'], ['，'], ['参展'], ['飞机'], ['有'], ['２３０多'], ['架'], ['，'], ['并且'], ['有'], ['一些'], ['先进'], ['飞机'], ['进行'], ['了'], ['飞行表演'], ['。'], ['华国锋'], ['解决'], ['“'], ['四人帮'], ['”'], ['是'], ['权力'], ['之'], ['争'], ['，'], ['出发点'], ['不'], ['是'], ['路线斗争'], ['，'], ['而'], ['是'], ['个人野心'], ['。'], ['Every'], ['time'], ['we'], ['pray'], ['to'], ['God'], ['our'], ['Father'], ['we'], ['thank'], ['him'], ['for'], ['all'], ['that'], ['you'], ['have'], ['done'], ['because'], ['of'], ['your'], ['faith'], ['.']], [['And'], ['I'], ['would'], ['imagine'], ['that'], ['he'], ['would'], ['know'], ['that'], ['you'], [\"'re\"], ['not'], ['travelling'], ['around'], ['with'], ['your'], ['bicycle'], ['.']], [['And'], ['later'], ['no'], ['surprise'], ['here'], ['lots'], ['of'], ['emails'], ['on'], ['the'], ['Debra'], ['Lafave'], ['case'], ['and'], ['whether'], ['it'], [\"'s\"], ['a'], ['double'], ['standard'], ['when'], ['prosecuting'], ['female'], ['teachers'], ['who'], ['have'], ['sex'], ['with'], ['young'], ['boys'], ['.']], [['When'], ['Jesus'], ['finished'], ['speaking'], [','], ['he'], ['said'], ['to'], ['Simon'], [','], ['``'], ['Seth'], ['was'], ['the'], ['son'], ['of'], ['Adam'], ['.']], [['Then'], ['we'], ['could'], ['rule'], ['together'], ['with'], ['you'], ['.']], [['Concord'], ['New'], ['Horizons'], ['Corp.'], [','], ['creators'], ['of'], ['a'], ['1988'], ['movie'], ['called'], ['Nam'], ['Angels'], [','], ['used'], ['the'], ['gang'], [\"'s\"], ['name'], ['and'], ['trademarks'], ['without'], ['authorization'], [','], ['the'], ['not'], ['-'], ['for'], ['-'], ['profit'], ['corporation'], ['says'], ['in'], ['a'], ['complaint'], ['filed'], ['in'], ['federal'], ['court'], ['.']], [['and'], ['during'], ['it'], [','], ['many'], ['good'], ['things'], ['at'], ['least'], ['did'], ['happen'], ['.']], [['And'], ['I'], ['tell'], ['you'], ['that'], ['someone'], ['greater'], ['than'], ['Solomon'], ['is'], ['right'], ['here'], [','], ['but'], ['you'], ['wo'], [\"n't\"], ['listen'], ['!'], ['I'], ['do'], ['agree'], ['with'], ['the'], ['President'], ['that'], ['we'], ['know'], ['she'], ['has'], ['a'], ['conservative'], ['judicial'], ['philosophy'], ['.']], [['At'], ['81'], ['stories'], ['it'], ['is'], ['one'], ['of'], ['the'], ['tallest'], ['skyscrapers'], ['in'], ['Asia'], ['.']], [['They'], ['attached'], ['a'], ['second'], ['gene'], [','], ['for'], ['herbicide'], ['resistance'], [','], ['to'], ['the'], ['pollen'], ['-'], ['inhibiting'], ['gene'], ['.']], [['و'], ['يرى'], ['البعض'], ['ان'], ['روايات'], ['هؤلاء'], ['قد'], ['تحدث'], ['توتراً'], ['في'], ['العلاقات'], ['بين'], ['واشنطن'], ['التي'], ['اعتقلت'], ['سلطات'], ['ها'], ['مئات'], ['السعوديين'], ['ل'], ['لتحقيق'], ['مع'], ['هم'], [','], ['و'], ['الرياض'], ['التي'], ['تؤكد'], ['ان'], ['لا'], ['دليل'], ['على'], ['تورط'], ['مواطني'], ['ها'], ['على'], ['رغم'], ['الاعتقاد'], ['ان'], ['15'], ['من'], ['الانتحاريين'], ['ال_'], ['19'], ['الذين'], ['نفذوا'], ['الهجمات'], ['كانوا'], ['من'], ['المملكة'], ['العربية'], ['السعودية'], ['.']], [['getting'], ['a'], ['little'], ['crisp'], ['%huh'], ['?'], ['President'], ['Bush'], ['has'], ['sworn'], ['to'], ['bring'], ['him'], ['to'], ['justice'], ['.']], [['British'], ['Prime'], ['Minister'], ['Tony'], ['Blair'], ['yesterday'], ['ignited'], ['an'], ['already'], ['fiery'], ['controversy'], ['on'], ['religious'], ['tolerance'], ['and'], ['cultural'], ['conformity'], ['in'], ['the'], ['United'], ['Kingdom'], [','], ['when'], ['he'], ['said'], ['that'], ['it'], ['was'], ['the'], ['duty'], ['of'], ['all'], ['immigrants'], ['to'], ['integrate'], ['into'], ['British'], ['society'], ['.']], [['Officials'], ['go'], ['out'], ['to'], ['travel'], [','], ['while'], ['the'], ['people'], ['go'], ['out'], ['to'], ['make'], ['a'], ['living'], ['.']], [['换'], ['学校'], ['了'], ['？'], ['Half'], ['the'], ['amount'], ['that'], ['the'], ['investment'], ['tables'], ['suggest'], ['might'], ['be'], ['a'], ['good'], ['goal'], [','], ['he'], ['adds'], ['.']], [['After'], ['three'], ['years'], ['of'], ['experimentation'], [','], ['issuance'], ['methods'], ['and'], ['features'], ['of'], ['transferable'], ['bonds'], ['are'], ['accepted'], ['domestically'], ['.']], [['There'], ['was'], ['such'], ['an'], ['incident'], [','], ['um'], [','], ['uh-huh.'], ['中国'], ['政府'], ['将'], ['人口问题'], ['纳入'], ['国民经济'], ['与'], ['社会发展'], ['的'], ['总体规划'], ['中'], ['，'], ['始终'], ['强调'], ['人口'], ['的'], ['增长'], ['要'], ['与'], ['社会'], ['和'], ['经济'], ['的'], ['发展'], ['相'], ['适应'], ['，'], ['与'], ['资源利用'], ['和'], ['环境保护'], ['相'], ['协调'], ['。'], ['That'], [\"'s\"], ['right'], ['.']], [['But'], ['the'], ['average'], ['age'], ['of'], ['CHT'], [\"'s\"], ['workers'], ['is'], ['only'], ['46'], ['Frank'], ['Gilmartin'], [','], ['a'], ['trader'], ['who'], ['follows'], ['insurance'], ['stocks'], ['for'], ['Fox'], ['-'], ['Pitt'], ['Kelton'], [','], ['said'], ['his'], ['strategy'], ['was'], ['to'], ['sell'], ['early'], ['.']], [['U.S.'], ['and'], ['northern'], ['European'], ['diplomats'], ['confirm'], ['Mr.'], ['Korotich'], [\"'s\"], ['assessment'], ['that'], ['glasnost'], ['is'], ['in'], ['no'], ['immediate'], ['danger'], ['.']], [['LIVESTOCK'], ['AND'], ['MEATS'], [':'], ['And'], ['when'], ['they'], ['lose'], [','], ['then'], ['we'], ['can'], ['expect'], ['China'], ['to'], ['stop'], ['aid'], ['.']], [['All'], ['the'], ['great'], ['things'], ['that'], ['Azariah'], ['did'], ['are'], ['written'], ['in'], ['the'], ['book'], [','], ['The'], ['History'], ['of'], ['the'], ['Kings'], ['of'], ['Judah'], ['.']], [['The'], ['group'], ['replied'], ['through'], ['Dr.'], ['Mohammad'], ['Habib'], [','], ['the'], ['Deputy'], ['Supreme'], ['Guide'], [','], ['who'], ['said'], [':'], ['\"'], ['We'], ['do'], ['not'], ['have'], ['armed'], ['militias'], ['.']], [['\"'], ['新华社巴黎'], ['９月１日'], ['电'], ['（'], ['记者'], ['张有浩'], ['）'], ['President'], ['Bush'], ['said'], ['that'], ['three'], ['members'], ['of'], ['his'], ['cabinet'], ['will'], ['lead'], ['a'], ['presidential'], ['mission'], ['to'], ['Poland'], ['to'], ['gauge'], ['how'], ['the'], ['U.S.'], ['can'], ['help'], ['the'], ['new'], ['non-Communist'], ['government'], [\"'s\"], ['economic'], ['changes'], ['.']], [['The'], ['Dutch'], ['utility'], ['firm'], ['serves'], ['the'], ['Amsterdam'], ['and'], ['Utrecht'], ['areas'], ['.']], [['此外'], ['有关'], ['第四'], ['核能发电厂'], ['的'], ['兴建争议'], ['，'], ['张俊雄'], ['再度'], ['重申'], ['，'], ['为了'], ['政治'], ['大'], ['环境'], ['的'], ['稳定'], ['，'], ['以及'], ['替代方案'], ['的'], ['可行性'], ['的'], ['评估'], ['，'], ['核四'], ['争议'], ['还'], ['需要'], ['时间'], ['来'], ['凝聚'], ['共识'], ['。'], ['The'], ['people'], ['brought'], ['all'], ['their'], ['sick'], ['people'], ['to'], ['him'], ['.']], [['Market'], ['technicians'], ['were'], ['encouraged'], ['by'], ['the'], ['price'], ['patterns'], [','], ['which'], ['in'], ['the'], ['past'], ['have'], ['preceded'], ['sharp'], ['rallies'], ['.']], [['Well'], ['here'], ['in'], ['the'], ['state'], ['of'], ['Utah'], ['because'], ['the'], ['father'], ['had'], ['custody'], ['of'], ['the'], ['child'], ['they'], [\"'ve\"], ['been'], ['divorced'], ['now'], ['for'], ['uh'], ['three'], ['years'], ['he'], ['would'], ['be'], ['able'], ['to'], ['make'], ['the'], ['decision'], ['.']], [['for'], ['some'], ['reason'], ['I'], ['Well'], ['let'], [\"'s\"], ['see'], ['.']], [['و'], ['وضع'], ['فارس'], ['بري'], ['في'], ['أجواء'], ['الزيارة'], ['التي'], ['س'], ['يقوم'], ['ب'], ['ها'], ['مطلع'], ['الاسبوع'], ['المقبل'], ['ل'], ['روسيا'], [','], ['ف'], ['تمنى'], ['علي'], ['ه'], ['رئيس'], ['المجلس'], ['\"'], ['ان'], ['يؤكد'], ['ل'], ['رئيس'], ['الدوما'], ['الروسي'], ['الدعوة'], ['التي'], ['وجهت'], ['سابقا'], ['ً'], ['الي'], ['ه'], ['ل'], ['زيارة'], ['لبنان'], ['لدى'], ['مقابلت'], ['ه'], ['ايا'], ['ه'], ['\".'], ['No'], ['one'], ['but'], ['God'], ['can'], ['forgive'], ['sins'], ['.']], [[\"''\"], ['所以'], ['呢'], ['，'], ['你'], ['刚才'], ['讲'], ['的对'], ['，'], ['就'], ['是'], ['这个'], ['个人系统'], ['建立'], ['以后呢'], ['，'], ['对于'], ['促进'], ['这个'], ['中小'], ['企业贷款'], ['，'], ['或者说'], ['微小'], ['企业贷款'], ['的话有'], ['很'], ['大'], ['的'], ['作用'], ['。'], ['I'], ['know'], ['he'], ['Britain'], ['and'], ['a'], ['friend'], ['of'], ['Europe'], ['.']], [['Well'], [','], ['Japan'], ['is'], ['still'], ['like'], ['this'], [','], ['saying'], ['first'], ['return'], ['the'], ['territories'], [','], ['then'], ['we'], ['can'], ['talk'], ['about'], ['economics'], ['.']], [['[jilian]'], ['In'], ['his'], ['view'], [','], ['it'], ['seems'], ['this'], ['matter'], ['does'], ['not'], ['affect'], ['him'], ['at'], ['all'], [','], ['and'], ['there'], ['is'], ['no'], ['sign'], ['that'], ['he'], ['has'], ['any'], ['empathy'], ['for'], ['his'], ['Chinese'], ['compatriots'], ['.']], [['``'], ['When'], ['the'], ['going'], ['gets'], ['rough'], [','], ['China'], ['penalizes'], ['the'], ['efficient'], ['and'], ['rewards'], ['the'], ['incompetent'], [','], [\"''\"], ['says'], ['a'], ['Western'], ['economist'], ['.']], [['有关'], ['的'], ['调查报告'], ['二十七日'], ['公布'], ['后'], ['，'], ['ＡＷＢ'], ['公司'], ['受到'], ['严重'], ['打击'], ['。'], ['So'], ['I'], ['went'], ['to'], ['the'], ['doctor'], ['.']], [['His'], ['family'], ['heard'], ['about'], ['all'], ['these'], ['things'], ['.']], [['The'], ['ultimate'], ['blow'], ['to'], ['the'], ['ego'], ['is'], ['learning'], ['that'], ['even'], ['your'], ['mistakes'], ['go'], ['unnoticed'], ['.']], [['``'], ['I'], [\"'m\"], ['probably'], ['not'], ['going'], ['to'], ['vote'], ['for'], ['any'], ['capital'], ['-'], ['gains'], ['proposal'], ['.']], [['The'], ['Son'], ['of'], ['Man'], ['will'], ['suffer'], ['what'], ['the'], ['Scriptures'], ['say'], ['will'], ['happen'], ['to'], ['him'], ['.']], [['台北'], ['像'], ['是'], ['孤岛'], ['，'], ['又'], ['像'], ['一'], ['只'], ['亮丽'], ['而'], ['骄傲的'], ['孔雀'], ['，'], ['注定要'], ['寂寞'], ['。'], ['嗯嗯'], ['。'], ['So'], ['this'], ['must'], ['be'], ['a'], ['real'], ['boom'], ['to'], ['the'], ['local'], ['economy'], ['?'], ['What'], ['is'], ['black'], ['hat'], ['SEO'], ['technology'], ['?'], ['工程咨询公司'], ['“'], ['莫法特'], ['与'], ['尼科尔'], ['”'], ['去年'], ['为'], ['弗吉尼亚州'], ['港务局'], ['准备'], ['了'], ['一'], ['份'], ['研究'], ['，'], ['主张'], ['在'], ['美国'], ['４６０'], ['国道'], ['旁'], ['开发'], ['一'], ['个'], ['大型'], ['的'], ['转运站'], ['，'], ['以此'], ['处理预计'], ['每年有望'], ['通过'], ['港口'], ['的'], ['新增'], ['的'], ['９００，０００'], ['个'], ['集装箱'], ['。'], ['He'], ['will'], ['hold'], ['talks'], [','], ['probably'], ['behind'], ['closed'], ['doors'], [','], ['with'], ['President'], ['Vojislav'], ['Kostunica'], [','], ['but'], ['the'], ['United'], ['States'], ['is'], ['keeping'], ['a'], ['low'], ['profile'], ['because'], ['there'], ['is'], ['quite'], ['a'], ['lot'], ['of'], ['anti-American'], ['sentiment'], ['on'], ['the'], ['streets'], ['here'], ['in'], ['Serbia'], ['.']], [['改编自'], ['香港'], ['作家'], ['李碧华'], ['小说'], ['的'], ['《'], ['诱僧'], ['》，'], ['以'], ['华裔'], ['女星'], ['陈冲'], ['来'], ['「'], ['引诱'], ['」'], ['观众'], ['，'], ['特别是'], ['她'], ['剃光'], ['头发'], ['，'], ['裸体'], ['色诱'], ['是'], ['电影'], ['的'], ['焦点'], ['。'], ['لماذا'], ['الصلاة'], ['?'], ['Coffee'], ['-'], ['shop'], ['chatter'], ['does'], ['not'], ['lend'], ['itself'], ['to'], ['solving'], ['the'], ['problems'], ['of'], ['racism'], [','], ['teen'], ['pregnancy'], ['or'], ['lack'], ['of'], ['parental'], ['support'], ['or'], ['guidance'], ['.']], [['I'], ['know'], ['.']], [['Calisto'], ['Tanzi'], [','], ['Odeon'], [\"'s\"], ['owner'], [','], ['will'], ['retain'], ['his'], ['23.34'], ['%'], ['stake'], ['.']], [['Then'], ['he'], ['built'], ['a'], ['wall'], ['of'], ['dirt'], ['around'], ['the'], ['city'], ['.']], [['She'], ['added'], [','], ['however'], [':'], ['``'], ['It'], ['is'], ['not'], ['robust'], ['by'], ['any'], ['means'], ['.']], [[\"''\"], ['Visits'], ['to'], ['the'], ['Kuanghua'], ['computer'], ['market'], ['have'], ['proven'], ['especially'], ['popular'], ['.']], [['留守'], ['儿童'], ['尽管'], ['由于'], ['家长'], ['在'], ['外地'], ['打工挣钱'], ['，'], ['能'], ['在'], ['吃饭'], ['，'], ['穿衣'], ['，'], ['上学'], ['上有'], ['一定'], ['保证'], ['，'], ['但是'], ['他们'], ['的'], ['心理'], ['和'], ['生理'], ['都'], ['得'], ['不'], ['到'], ['应有'], ['的'], ['满足'], ['。'], ['The'], ['New'], ['Party'], ['is'], ['in'], ['the'], ['most'], ['embarrassing'], ['position'], [','], ['since'], ['its'], ['candidate'], ['Li'], ['Ao'], ['is'], ['not'], ['even'], ['a'], ['party'], ['member'], [','], ['and'], ['has'], ['been'], ['unable'], ['to'], ['keep'], ['most'], ['of'], ['its'], ['members'], ['from'], ['shifting'], ['their'], ['support'], ['to'], ['Soong'], ['instead'], [';'], ['this'], ['election'], ['could'], ['therefore'], ['hasten'], ['the'], ['collapse'], ['of'], ['the'], ['NP'], ['.']], [['Re-enactments'], ['have'], ['been'], ['used'], ['successfully'], ['for'], ['several'], ['seasons'], ['on'], ['such'], ['syndicated'], ['``'], ['tabloid'], ['TV'], [\"''\"], ['shows'], ['as'], ['``'], ['A'], ['Current'], ['Affair'], [','], [\"''\"], ['which'], ['is'], ['produced'], ['by'], ['the'], ['Fox'], ['Broadcasting'], ['Co.'], ['unit'], ['of'], ['Rupert'], ['Murdoch'], [\"'s\"], ['News'], ['Corp'], ['.']], [['In'], ['areas'], ['where'], ['the'], ['freeway'], ['made'], ['giant'], ['concrete'], ['sandwiches'], ['of'], ['itself'], ['lie'], ['cars'], ['that'], ['police'], ['say'], ['have'], ['been'], ['flattened'], ['into'], ['foot'], ['-'], ['thick'], ['slabs'], ['.']], [['This'], ['reminds'], ['me'], ['of'], ['the'], ['year'], ['1999'], ['.']], [['و'], ['نقلت'], ['عن'], ['ه'], ['الاذاعة'], ['الايرانية'], ['لدى'], ['لقائ'], ['ه'], ['الملحقين'], ['الثقافيين'], ['في'], ['السفارات'], ['الايرانية'], ['في'], ['الخارج'], ['\"'], ['ان'], ['رئيس'], ['الولايات'], ['المتحدة'], ['يستخدم'], ['لغة'], ['هتلر'], ['\".'], ['Senator'], ['Schumer'], ['as'], ['you'], ['well'], ['know'], ['in'], ['Connecticut'], ['your'], ['colleague'], ['and'], ['friend'], ['and'], ['former'], ['vice-presidential'], ['candidate'], ['Joe'], ['Lieberman'], ['has'], ['a'], ['heated'], ['primary'], ['race'], ['on'], ['his'], ['hands'], ['against'], ['anti-war'], ['candidate'], ['Ned'], ['Lamont'], ['.']], [['Second'], [','], ['check'], ['new'], ['products'], ['.']], [['The'], ['number'], ['of'], ['people'], ['registered'], ['as'], ['jobless'], ['at'], ['the'], ['end'], ['of'], ['October'], ['declined'], ['by'], ['900'], ['from'], ['September'], ['to'], ['78,600'], ['.']], [['On'], ['Capitol'], ['Hill'], [','], ['though'], [','], ['there'], ['does'], [\"n't\"], ['seem'], ['to'], ['be'], ['sufficient'], ['sentiment'], ['to'], ['pair'], ['capital'], ['gains'], ['and'], ['the'], ['deficit'], ['-'], ['reduction'], ['bill'], ['.']], [['Then'], ['I'], ['heard'], ['a'], ['voice'], ['talking'], ['to'], ['me'], ['in'], ['Aramaic'], ['.']], [['um'], ['and'], ['I'], ['just'], ['would'], [\"n't\"], ['give'], ['in.'], ['And'], ['I'], ['think'], ['we'], ['all'], ['regret'], ['uh'], ['that'], ['the'], ['times'], ['and'], ['other'], ['publications'], ['chose'], ['to'], ['do'], ['that'], ['.']], [['You'], ['lived'], ['the'], ['way'], ['the'], ['world'], ['lives'], [','], ['following'], ['the'], ['ruler'], ['of'], ['the'], ['evil'], ['powers'], ['over'], ['the'], ['earth'], ['.']], [['嗯嗯'], ['。'], ['``'], ['It'], ['increasingly'], ['appears'], ['that'], ['1987'], ['-'], ['88'], ['was'], ['a'], ['temporary'], ['inflation'], ['blip'], ['and'], ['not'], ['the'], ['beginning'], ['of'], ['a'], ['cyclical'], ['inflation'], ['problem'], [','], [\"''\"], ['argued'], ['Edward'], ['Yardeni'], [','], ['chief'], ['economist'], ['at'], ['Prudential'], ['-'], ['Bache'], ['Securities'], ['Inc.'], ['in'], ['New'], ['York'], ['.']], [['那么'], ['，'], ['台北'], ['真正'], ['异军突起'], ['，'], ['是'], ['从'], ['什么'], ['时候'], ['开始'], ['？'], ['又'], ['是'], ['什么'], ['原因'], ['造成'], ['的'], ['？'], ['＂'], ['群众利益'], ['没'], ['小事'], ['＂'], ['不仅'], ['是'], ['口号'], ['，'], ['更'], ['要落到'], ['实处'], ['。'], ['One'], ['leading'], ['farm'], ['group'], [','], ['the'], ['American'], ['Farm'], ['Bureau'], ['Federation'], ['describes'], ['it'], ['as'], ['a'], ['positive'], ['first'], ['step'], ['and'], ['much'], ['better'], ['than'], ['current'], ['law'], ['.']], [['There'], ['was'], ['an'], ['attack'], ['on'], ['a'], ['convoy'], ['of'], ['leadership'], ['that'], ['was'], ['identified'], ['through'], ['various'], ['intelligence'], ['means'], ['.']], [['Mr.'], ['Lehman'], [','], ['a'], ['Reagan'], ['Navy'], ['secretary'], [','], ['is'], ['a'], ['managing'], ['director'], ['of'], ['PaineWebber'], ['.']], [['Colony'], ['banks'], ['have'], ['a'], ['major'], ['stake'], ['in'], ['how'], ['interest'], ['rates'], ['move'], ['because'], ['of'], ['their'], ['enormous'], ['Hong'], ['Kong'], ['-'], ['dollar'], ['exposure'], ['.']], [['人们'], ['不'], ['是'], ['会假设'], ['这'], ['两'], ['个'], ['概念'], ['是相同的吗'], ['……'], ['就'], ['是'], ['员工'], ['会希望靠近'], ['合格'], ['的'], ['劳动队伍'], ['居住'], ['的'], ['地方'], ['……'], ['反之亦然'], ['？'], ['ف'], ['لا'], ['يجوز'], ['ال'], ['ا'], ['يكون'], ['الاتحاد'], ['العام'], ['الى'], ['جانب'], ['عودة'], ['ارباح'], ['هذا'], ['القطاع'], ['و'], ['التي'], ['تقدر'], ['ب'], ['مئات'], ['الملايين'], ['الى'], ['خزينة'], ['الدولة'], [','], ['و'], ['ب'], ['التالي'], ['كان'], ['علي'], ['ه'], ['ان'], ['يكون'], ['مدافعا'], ['عن'], ['وجهة'], ['نظر'], ['رئيس'], ['الجمهورية'], ['في'], ['تكريس'], ['ه'], ['كل'], ['ايرادات'], ['القطاع'], ['ل'], ['لدولة'], ['\".'], ['Last'], ['week'], [\"'s\"], ['output'], ['rose'], ['1.4'], ['%'], ['from'], ['the'], ['1,802,000'], ['tons'], ['produced'], ['a'], ['year'], ['earlier'], ['.']], [['我们'], ['可以审视'], ['哪些'], ['行'], ['得通'], ['，'], ['哪些'], ['行'], ['不'], ['通'], ['，'], ['并'], ['衡量'], ['那些'], ['地方'], ['的'], ['特点'], ['。'], ['：'], ['的'], ['才'], ['是'], ['主'], ['旋律'], ['，'], ['主'], ['旋律'], ['应该代表'], ['什么'], ['。'], ['It'], ['says'], ['the'], ['explosion'], ['happened'], ['more'], ['than'], ['two'], ['hours'], ['after'], ['the'], ['ship'], ['was'], ['tied'], ['to'], ['a'], ['fuel'], ['dock'], [','], ['not'], ['during'], ['the'], ['mooring'], ['operation'], [','], ['as'], ['previously'], ['thought'], ['.']], [['哦'], [','], ['NBC'], [\"'s\"], ['options'], ['could'], ['range'], ['from'], ['news'], ['-'], ['oriented'], ['programming'], ['to'], ['sports'], ['shows'], [','], ['although'], ['the'], ['network'], ['declined'], ['to'], ['comment'], ['.']], [['As'], ['an'], ['introduction'], ['to'], ['the'], ['topic'], [','], ['I'], ['will'], ['recount'], ['these'], ['two'], ['incidents'], ['for'], ['you'], [':'], ['The'], ['state'], ['of'], ['New'], ['Hampshire'], ['has'], ['favored'], ['that'], ['plan'], ['.']], [['「'], ['攻守'], ['一体'], ['」'], ['These'], ['people'], ['want'], ['to'], ['believe'], ['his'], ['story'], ['.']], [['And'], ['John'], ['if'], ['I'], ['have'], ['made'], ['a'], ['mistake'], ['here'], ['I'], ['will'], ['never'], ['forget'], ['it'], ['.']], [['Or'], ['in'], ['other'], ['couples'], [','], ['the'], ['embryo'], ['could'], ['be'], ['temporarily'], ['taken'], ['out'], ['and'], ['tested'], ['three'], ['days'], ['after'], ['conception'], ['and'], ['returned'], ['if'], ['healthy'], [','], ['or'], ['discarded'], ['if'], ['not'], ['.']], [['那么'], ['这个'], ['战略'], ['非常'], ['清楚'], ['，'], ['他'], ['用'], ['了'], ['一'], ['句'], ['话'], ['讲'], ['，'], ['俄罗斯'], ['的'], ['外交'], ['就'], ['是'], ['经济外交'], ['，'], ['The'], ['radio'], ['queries'], ['again'], ['.']], [['Despite'], ['plans'], ['to'], ['add'], ['two'], ['new'], ['Infiniti'], ['models'], ['next'], ['year'], [','], ['bringing'], ['the'], ['total'], ['to'], ['four'], [','], ['Infiniti'], ['wo'], [\"n't\"], ['show'], ['profits'], ['for'], ['at'], ['least'], ['five'], ['years'], [','], ['he'], ['adds'], ['.']], [['认为'], ['原'], ['，'], ['呃'], ['原因'], ['是'], ['，'], ['双方'], ['应本着'], ['友好'], ['协商'], ['的'], ['精神'], ['，'], ['解决'], ['尚'], ['待'], ['解决'], ['的'], ['问题'], ['。'], ['If'], ['your'], ['tree'], ['is'], ['not'], ['good'], [','], ['it'], ['will'], ['have'], ['bad'], ['fruit'], ['.']], [['行'], ['啊'], [','], ['现在'], ['又'], ['岔开'], ['了'], ['不'], ['是'], ['.']], [['哎'], ['.']], [['什么时候'], ['回去看'], ['你'], ['儿子'], ['啊'], [','], ['你'], ['儿子'], ['还'], [','], ['uh-huh'], ['I'], ['seem'], ['to'], ['be'], ['getting'], ['more'], ['questions'], ['whenever'], ['I'], ['pull'], ['up'], ['in'], ['my'], ['hybrid'], ['.']], [['For'], ['the'], ['future'], [','], ['he'], ['said'], ['he'], ['would'], ['run'], ['for'], ['governor'], ['of'], ['Florida'], ['.']], [['الحرية'], ['لن'], ['تهبط'], ['فجأة'], ['على'], ['من'], ['يدخل'], ['الجامعة'], ['.']], [['Liz'], [','], ['Liz'], [','], ['I'], ['do'], [\"n't\"], ['know'], ['whether'], ['you'], ['made'], ['a'], ['mistake'], ['or'], ['not'], ['.']], [['什么'], ['?'], ['光是'], ['住房消费'], ['，'], ['今年'], ['就'], ['销出'], ['了'], ['４００多万'], ['平方米'], ['，'], ['其中个人'], ['购房占'], ['８５．９％'], ['。'], ['别'], ['说'], ['我'], ['打扮'], ['的'], ['像'], ['阿花'], ['，'], ['人家'], ['可'], ['是'], ['店'], ['里'], ['的'], ['摇钱树'], ['！'], ['و'], ['في'], ['السادسة'], ['مساء'], ['اليوم'], [','], ['تسحب'], ['قرعة'], ['البطولة'], ['في'], ['قاعة'], ['المحاضرات'], ['ل'], ['لنادي'], ['الرياضي'], ['غزير'], ['في'], ['حضور'], ['رئيس'], ['الاتحاد'], ['العربي'], ['ل'], ['كرة'], ['السلة'], ['اللواء'], ['حسنين'], ['عمران'], ['و'], ['الامين'], ['العام'], ['نبيل'], ['مرسي'], ['اللذين'], ['وصلا'], ['الى'], ['بيروت'], ['امس'], [','], ['و'], ['رئيس'], ['اللجنة'], ['المنظمة'], ['ل'], ['لبطولة'], ['الامين'], ['العام'], ['ل'], ['لاتحاد'], ['اللبناني'], ['ل'], ['كرة'], ['السلة'], ['الدكتور'], ['روبير'], ['ابو'], ['عبدالله'], ['الذي'], ['رأس'], ['اجتماعا'], ['ل'], ['لجنة'], ['بعد'], ['ظهر'], ['امس'], ['أقرت'], ['في'], ['ه'], ['الترتيبات'], ['الاخيرة'], ['.']], [['Anyway..'], ['al'], ['-'], ['Maliki'], ['..']], [['knows'], ['the'], ['disgraceful'], ['situation'], ['over'], ['which'], ['he'], ['presides'], ['..']], [['Xinhua'], ['News'], ['Agency'], [','], ['Seoul'], [','], ['August'], ['31st'], [','], ['by'], ['reporter'], ['Shuifu'], ['Tang'], ['and'], ['then'], ['we'], ['have'], ['this'], ['big'], ['rose'], ['garden'], ['in'], ['front'], ['of'], ['us'], ['I'], ['will'], ['give'], ['it'], ['all'], ['to'], ['you'], [','], ['if'], ['you'], ['will'], ['only'], ['worship'], ['me'], ['.']], [[\"''\"], ['要说'], ['打折'], ['票'], ['怎么'], ['去'], ['呢'], ['？'], ['Most'], ['of'], ['his'], ['military'], ['communications'], ['were'], ['encoded'], ['with'], ['machines'], ['like'], ['this'], ['.']], [['对'], ['因为'], ['马上'], ['我们'], ['有'], ['一'], ['个'], ['同学'], ['要'], [','], ['呃'], ['他'], ['了'], [','], ['他'], ['夫人'], ['要回'], ['北京'], [','], ['嗯'], ['过几天'], ['要回'], ['北京'], ['.']], [['In'], ['response'], ['to'], ['the'], ['study'], [','], ['the'], ['FAA'], ['says'], ['it'], ['is'], ['considering'], ['changing'], ['its'], ['policy'], ['--'], ['or'], ['lack'], ['of'], ['it'], ['--'], ['on'], ['flight'], ['attendants'], ['.']], [['و'], ['هنا'], ['النتائج'], ['ك'], ['ما'], ['أذاع'], ['ها'], ['النادي'], ['المنظم'], ['البطل'], ['الدولي'], ['فادي'], ['طراف'], [':'], ['和谐'], ['社会'], ['有'], ['六'], ['个'], ['要素'], ['。'], ['其中'], ['有'], ['一'], ['个'], ['要素'], ['，'], ['就'], ['是'], ['诚信友爱'], ['。'], ['He'], ['has'], ['also'], ['written'], ['several'], ['books'], [','], ['including'], [':'], ['\"'], ['The'], ['Wushe'], ['Incident'], [','], ['\"'], ['\"'], ['Thick'], ['Fog'], [','], ['Dark'], ['Clouds'], [','], ['\"'], ['and'], ['\"'], ['The'], ['Face'], ['of'], ['the'], ['Thao'], ['.']], [['\"'], ['On'], ['the'], ['30th'], [','], ['the'], ['spaceship'], ['attempted'], ['to'], ['dock'], ['with'], ['the'], ['orbital'], ['station'], ['again'], [','], ['and'], ['the'], ['second'], ['docking'], ['failed'], ['again'], ['.']], [['而'], ['受到'], ['这个'], ['事件'], ['的'], ['影响'], ['，'], ['目前'], ['正'], ['在'], ['中国'], ['访问'], ['的'], ['美国'], ['海军部长'], ['丹奇克'], ['决定'], ['提早'], ['结束'], ['访问'], ['，'], ['返回'], ['华盛顿'], ['处理'], ['相关'], ['事宜'], ['。'], ['查克·舒默'], ['参议员'], ['来自'], ['纽约州'], ['，'], ['民主党'], ['，'], ['是'], ['司法委员会成员'], ['．'], ['Their'], ['vias'], ['are'], ['approved'], ['.']], [['So'], ['on'], ['the'], ['day'], ['of'], ['battle'], [','], ['none'], ['of'], ['the'], ['Israelite'], ['soldiers'], ['with'], ['Saul'], ['had'], ['iron'], ['swords'], ['or'], ['spears'], ['.']], [['One'], ['of'], ['the'], ['officers'], ['of'], ['the'], ['king'], ['of'], ['Aram'], ['said'], [','], ['``'], ['My'], ['lord'], ['and'], ['king'], [','], ['not'], ['one'], ['of'], ['us'], ['is'], ['a'], ['spy'], ['.']], [['One'], ['of'], ['this'], ['Christmas'], ['season'], [\"'s\"], ['hottest'], ['items'], ['is'], ['this'], ['.']], [['The'], ['man'], ['is'], ['my'], ['hero'], ['.']], [['Mazda'], ['has'], ['the'], ['Bongo'], ['truck'], ['and'], [','], ['under'], ['its'], ['Autozam'], ['nameplate'], [','], ['a'], ['``'], ['microvan'], [\"''\"], ['called'], ['the'], ['Scrum'], ['.']], [['for'], ['not'], ['doing'], ['more'], ['etcetera'], ['when'], ['the'], ['result'], ['was'], ['horrible'], ['generally'], ['would'], ['be'], ['thrown'], ['out.'], ['With'], ['four'], ['kids'], ['at'], ['the'], ['school'], [','], ['the'], ['financial'], ['burden'], ['was'], ['substantial'], [','], ['especially'], ['considering'], ['the'], ['fact'], ['that'], ['they'], ['were'], ['spending'], ['these'], ['sums'], ['back'], ['in'], ['the'], ['mid-1980s'], ['.']], [['But'], ['when'], ['asked'], ['whether'], ['the'], ['\"'], ['one'], ['country'], ['two'], ['systems'], ['\"'], ['formula'], [','], ['as'], ['used'], ['for'], ['Hong'], ['Kong'], ['and'], ['Macau'], [','], ['was'], ['acceptable'], ['for'], ['Taiwan'], [','], ['59'], ['%'], ['responded'], ['\"'], ['No'], [','], ['\"'], ['while'], ['27'], ['%'], ['said'], ['that'], ['they'], ['did'], [\"n't\"], ['know'], ['.']], [['哟'], [','], ['那么'], ['高啊'], [','], ['三十八'], ['度'], ['啊'], ['.']], [['A'], ['women'], [\"'s\"], ['soccer'], ['match'], ['is'], ['now'], ['being'], ['broadcasted'], ['live'], ['.']], [['在'], ['中共'], ['已'], ['加入'], ['的'], ['国际组织方面'], ['，'], ['以'], ['联合国'], ['为'], ['例'], ['，'], ['我'], ['国'], ['虽'], ['已'], ['八'], ['次'], ['叩关'], ['，'], ['却'], ['在'], ['中共'], ['「'], ['一'], ['个'], ['中国'], ['」'], ['的'], ['国际压力'], ['下'], ['，'], ['连连'], ['失败'], ['。'], ['华裔'], ['东南亚'], ['歌手'], ['接班'], ['有'], ['人'], ['——'], ['邻家女孩'], ['孙燕姿'], ['走红'], ['台湾'], ['Lu'], ['Yo'], ['Ching'], ['has'], ['freely'], ['admitted'], ['that'], ['he'], [\"'d\"], ['be'], ['pleased'], ['if'], ['the'], ['book'], ['version'], ['of'], ['his'], ['diary'], ['earns'], ['some'], ['money'], ['to'], ['support'], ['his'], ['wife'], ['and'], ['daughter'], [','], ['yet'], ['his'], ['real'], ['interest'], ['is'], ['to'], ['provoke'], ['debate'], ['on'], ['life'], ['and'], ['how'], ['to'], ['live'], ['it'], ['.']], [['那个'], [','], ['你'], [','], ['那个'], ['花儿'], [','], ['你'], ['养'], ['的'], ['那'], ['盆'], [','], ['那'], ['盆'], ['小的'], [','], ['快'], ['死'], ['了'], [','], ['连战'], ['被'], ['视为'], ['李登辉'], ['的'], ['接班人'], ['，'], ['但'], ['以'], ['国民党'], ['主席'], ['为'], ['任期制'], ['的'], ['情形'], ['看来'], ['，'], ['将'], ['会'], ['有'], ['一'], ['段'], ['时间'], ['是'], ['李登辉'], ['任'], ['党主席'], ['，'], ['连战'], ['任'], ['总统'], ['的'], ['情形'], ['，'], ['但'], ['国民党'], ['一向'], ['有'], ['由'], ['党主席'], ['主导'], ['政策走向'], ['的'], ['惯例'], ['，'], ['党'], ['、'], ['政'], ['之间'], ['究竟'], ['由'], ['谁'], ['主导'], ['，'], ['是否'], ['会'], ['再'], ['现'], ['过去'], ['严家淦'], ['任'], ['总统'], ['，'], ['蒋经国'], ['任'], ['党主席'], ['与'], ['行政院长'], ['，'], ['国政'], ['实际上'], ['由'], ['蒋经国'], ['主导'], ['的'], ['情形'], ['发生'], ['，'], ['是'], ['各界'], ['对'], ['国民党'], ['内部变化'], ['最为'], ['好奇'], ['的'], ['部份'], ['。'], ['First'], [','], ['they'], ['benefit'], ['from'], ['the'], ['unique'], ['geographical'], ['advantage'], ['of'], ['Xiamen'], ['.']], [['%um'], ['but'], ['she'], [\"'s\"], ['doing'], ['و'], ['هنا'], ['من'], ['الضروري'], ['التدقيق'], ['في'], ['سياسات'], ['الحكومة'], ['الاسرائيلية'], [','], ['التي'], ['وضعت'], ['منذ'], ['اعلان'], ['جورج'], ['بوش'], ['عن'], ['ارسال'], ['زيني'], ['الى'], ['المنطقة'], ['ثلاثة'], ['بدائل'], ['ل'], ['نسف'], ['مهمت'], ['ه'], ['من'], ['الاساس'], ['و'], ['هي'], [':'], ['oh'], ['my'], ['god'], ['!'], ['Presently'], [','], ['there'], ['are'], ['more'], ['than'], ['170'], ['associations'], ['or'], ['similar'], ['organizations'], ['established'], ['in'], ['over'], ['80'], ['countries'], ['and'], ['regions'], ['that'], ['aim'], ['to'], ['promote'], ['the'], ['peaceful'], ['reunification'], ['of'], ['China'], ['.']], [['Is'], ['it'], ['th-'], ['None'], ['of'], ['the'], ['brothers'], ['had'], ['any'], ['children'], ['with'], ['her'], ['.']], [['我'], ['不'], ['爱化妆'], ['，'], ['天天'], ['素面朝天'], ['。'], ['Jaw'], ['-'], ['ling'], ['Joanne'], ['Chang'], [','], ['a'], ['researcher'], ['at'], ['the'], ['Institute'], ['of'], ['European'], ['and'], ['American'], ['Studies'], ['at'], ['the'], ['Academia'], ['Sinica'], [','], ['says'], ['that'], ['the'], ['public'], ['needs'], ['to'], ['look'], ['at'], ['the'], ['issue'], ['from'], ['a'], ['new'], ['angle'], ['.']], [['The'], ['report'], ['follows'], ['five'], ['-'], ['consecutive'], ['declines'], ['in'], ['full'], ['monthly'], ['figures'], ['.']], [['Paul'], ['Vercammen'], [','], ['thank'], ['you'], ['very'], ['much'], ['.']], [['外出打工'], ['的'], ['农民'], ['，'], ['一般都'], ['是'], ['青壮年劳动力'], ['。'], ['而'], ['他们'], ['的'], ['子女'], ['这个'], ['时候'], ['，'], ['正好'], ['处于'], ['小学'], ['或'], ['初中阶段'], ['。'], ['Rivals'], ['carp'], ['at'], ['``'], ['the'], ['principle'], ['of'], ['Pilson'], [','], [\"''\"], ['as'], ['NBC'], [\"'s\"], ['Arthur'], ['Watson'], ['once'], ['put'], ['it'], ['--``'], ['he'], [\"'s\"], ['always'], ['expounding'], ['that'], ['rights'], ['are'], ['too'], ['high'], [','], ['then'], ['he'], [\"'s\"], ['going'], ['crazy'], ['.']], [[\"''\"], ['知道'], [','], ['那'], ['可以'], [','], ['Surrounded'], ['by'], ['bodyguards'], ['Slobodan'], ['Milosevic'], ['arrives'], ['at'], ['a'], ['special'], ['meeting'], ['of'], ['his'], ['Socialist'], ['Party'], ['to'], ['discuss'], ['election'], ['tactics'], ['.']], [['She'], ['went'], ['to'], ['speak'], ['with'], ['the'], ['king'], ['to'], ['ask'], ['him'], ['to'], ['help'], ['her'], ['get'], ['back'], ['her'], ['house'], ['and'], ['land'], ['.']], [['No'], ['uh'], ['the'], ['only'], ['thing'], ['I'], ['can'], ['tell'], ['you'], ['is'], ['that'], ['it'], ['would'], ['appear'], ['to'], ['me'], ['that'], ['at'], ['no'], ['time'], ['whatsoever'], ['was'], ['she'], ['a'], ['prisoner'], ['.']], [['It'], [\"'s\"], ['a'], ['Rubbermaid'], ['北韩'], ['领导人'], ['金正日'], ['的'], ['行踪'], ['一向'], ['是'], ['神秘莫测'], ['，'], ['根据'], ['我们'], ['综合'], ['各'], ['路'], ['的'], ['消息'], ['，'], ['金正日'], ['是'], ['在'], ['１５号早上'], ['通过'], ['大陆'], ['跟'], ['北韩'], ['接壤'], ['的'], ['丹东'], ['边境'], ['进入'], ['大陆'], ['访问'], ['，'], ['进行为期'], ['一'], ['个'], ['星期'], ['在'], ['北京'], ['跟'], ['上海'], ['的'], ['访问'], ['。'], ['消防人员'], ['也'], ['处于'], ['高度'], ['警戒状态'], ['。'], ['Mansour'], ['states'], ['that'], ['it'], ['was'], ['decided'], ['to'], ['replant'], ['the'], ['explosive'], ['package'], ['hours'], ['before'], ['the'], ['start'], ['of'], ['the'], ['celebration'], ['.']], [['This'], ['is'], ['what'], ['I'], ['learned'], [':'], ['The'], ['Jews'], ['said'], ['this'], ['man'], ['did'], ['some'], ['things'], ['that'], ['were'], ['wrong'], ['.']], [['اعتصام'], ['ل'], ['لمتعاقدين'], ['في'], ['الجامعة'], ['و'], ['ل'], ['طلاب'], ['كلية'], ['الصحة'], ['وزير'], ['التربية'], [':'], ['الدولة'], ['جادة'], ['في'], ['تطوير'], ['الجامعة'], ['菲律宾'], ['参议院'], ['７号'], ['正式'], ['展开'], ['对'], ['埃斯特拉达'], ['总统'], ['被'], ['控'], ['贪污案'], ['的'], ['审理工作'], ['。'], ['But'], ['Mr.'], ['Schulte'], [','], ['the'], ['bondholders'], [\"'\"], ['adviser'], [','], ['said'], ['Revco'], ['was'], ['dragging'], ['its'], ['feet'], ['in'], ['responding'], ['to'], ['the'], ['proposal'], ['.']], [['``'], ['After'], ['this'], [','], ['God'], ['gave'], ['our'], ['people'], ['judges'], ['until'], ['the'], ['time'], ['of'], ['Samuel'], ['the'], ['prophet'], ['.']], [['Thailand'], [\"'s\"], ['Prime'], ['Minister'], ['Samak'], ['stated'], ['on'], ['April'], ['30'], ['that'], ['the'], ['five'], ['rice'], ['-'], ['exporting'], ['countries'], [','], ['Cambodia'], [','], ['Laos'], [','], ['Myanmar'], [','], ['Thailand'], [','], ['and'], ['Vietnam'], [','], ['can'], ['establish'], ['an'], ['Organization'], ['of'], ['Rice'], ['Exporting'], ['Countries'], [','], ['similar'], ['to'], ['the'], ['Organization'], ['of'], ['Petroleum'], ['Exporting'], ['Countries'], [','], ['to'], ['impact'], ['international'], ['rice'], ['prices'], ['by'], ['bringing'], ['\"'], ['combined'], ['strengths'], ['\"'], ['into'], ['play'], ['.']], [['__'], ['二姨'], ['.__']], [['VIDEO'], ['TIP'], [':'], ['I'], ['think'], ['people'], ['are'], ['paying'], ['heed'], ['because'], ['I'], ['think'], ['people'], ['realize'], ['that'], ['there'], ['is'], ['a'], ['sense'], ['that'], ['it'], ['could'], ['happen'], ['.']], [['The'], ['award'], ['recognizes'], ['his'], ['efforts'], ['to'], ['end'], ['50'], ['years'], ['of'], ['bad'], ['blood'], ['between'], ['North'], ['and'], ['South'], ['Korea'], ['.']], [['It'], [\"'s\"], ['an'], ['activity'], ['she'], ['feels'], ['she'], ['can'], ['do'], ['for'], ['life'], [','], ['and'], ['by'], ['pulling'], ['a'], ['golf'], ['cart'], [','], ['she'], ['still'], ['gets'], ['a'], ['good'], ['workout'], ['.']], [['There'], ['are'], ['people'], ['that'], ['support'], ['the'], ['insurgency'], ['.']], [['An'], ['opposition'], ['spokesman'], ['demanded'], ['that'], ['Milosevic'], ['accept'], ['the'], ['electoral'], ['will'], ['of'], ['the'], ['people'], [','], ['that'], ['the'], ['Federal'], ['Electoral'], ['Commission'], ['reveal'], ['what'], ['she'], ['called'], ['the'], ['true'], ['result'], ['of'], ['the'], ['election'], ['.']], [['The'], ['market'], ['turned'], ['quiet'], ['after'], ['rising'], ['sharply'], ['late'], ['last'], ['week'], [','], ['according'], ['to'], ['one'], ['analyst'], ['.']], [['and'], ['I'], ['thought'], ['oh'], ['my'], ['god'], ['what'], ['have'], ['we'], ['wrought'], ['here'], ['.']], [['\"'], ['He'], ['expected'], ['that'], ['the'], ['current'], ['year'], ['would'], ['witness'], ['the'], ['restoration'], ['of'], ['equilibrium'], ['to'], ['the'], ['Saudi'], ['market'], ['after'], ['reaching'], ['a'], ['kind'], ['of'], ['sensibility'], ['.']], [['\"'], ['I'], ['wonder'], ['how'], ['the'], ['Journal'], ['would'], ['interpret'], ['news'], ['from'], ['the'], ['Washington'], ['Post'], ['today'], ['that'], ['Del.'], ['David'], ['B.'], ['Albo'], [','], ['R'], ['-'], ['Springfield'], ['and'], ['a'], ['number'], ['of'], ['other'], ['GOP'], ['delegates'], ['would'], ['like'], ['to'], ['raise'], ['an'], ['estimated'], ['$'], ['400'], ['million'], ['a'], ['year'], ['from'], ['Northern'], ['Virginia'], ['to'], ['spend'], ['on'], ['local'], ['road'], ['and'], ['rail'], ['projects'], ['.']], [['Three'], ['management'], ['methods'], ['have'], ['now'], ['formed'], ['within'], ['the'], ['the'], ['FAW'], ['Group'], [':'], ['special'], ['factories'], ['directly'], ['under'], ['the'], ['factory'], [','], ['wholly'], ['-'], ['owned'], ['subsidiaries'], [','], ['and'], ['holding'], ['subsidiaries'], ['.']], [['在'], ['二重'], ['疏洪道'], ['的'], ['堤防'], ['上'], ['，'], ['可以看到'], ['许多'], ['计程车'], ['，'], ['数量'], ['多'], ['到'], ['将近'], ['２００'], ['部'], ['，'], ['场面'], ['相当'], ['壮观'], ['并'], ['吓人'], ['。'], ['那么后来就是'], ['几经'], ['变化'], ['，'], ['俄罗斯'], ['象'], ['乔本龙太郎'], ['的'], ['时候'], ['啊'], ['，'], ['曾经'], ['提出'], ['政经'], ['分开'], ['，'], ['齐头并进'], ['，'], ['Wang'], ['Shi'], [\"'s\"], ['reasoning'], ['is'], ['that'], ['making'], ['donations'], ['to'], ['charities'], ['then'], ['the'], ['burden'], ['of'], ['businesses'], ['could'], ['cause'], ['companies'], ['to'], ['fail'], ['in'], ['market'], ['competition'], [';'], ['Aaron'], ['mentioned'], ['that'], ['as'], ['he'], ['got'], ['near'], ['the'], ['destination'], ['the'], ['night'], ['before'], ['his'], ['trek'], [','], ['that'], ['he'], ['realized'], ['he'], ['had'], [\"n't\"], ['left'], ['word'], ['and'], ['he'], ['actually'], ['thought'], ['about'], ['making'], ['that'], ['call'], ['and'], ['thought'], ['it'], ['was'], ['too'], ['late'], ['.']], [['People'], ['all'], ['like'], ['to'], ['call'], ['themselves'], ['son'], ['of'], ['the'], ['people'], [','], ['and'], ['son'], ['of'], ['the'], ['Chinese'], ['nation'], ['.']], [['据'], ['介绍'], ['，'], ['近年来'], ['天津'], ['海关'], ['积极'], ['与'], ['国际惯例'], ['接轨'], ['，'], ['从'], ['加强'], ['对'], ['企业'], ['宏观'], ['管理'], ['，'], ['优化'], ['通关环境'], ['，'], ['促进'], ['企业'], ['提高'], ['贸易效率'], ['出发'], ['，'], ['大力'], ['推广'], ['保税'], ['工程制度'], ['。'], ['Steve'], ['Jobs'], ['took'], ['a'], ['step'], ['back'], ['from'], ['the'], ['frontier'], ['of'], ['personal'], ['-'], ['computer'], ['technology'], ['in'], ['an'], ['effort'], ['to'], ['spur'], ['sales'], ['of'], ['Next'], ['Inc.'], [\"'s\"], ['new'], ['machine'], ['.']], [['It'], [\"'s\"], ['gone'], ['.']], [['做'], ['那个'], ['，'], ['皮带'], ['的'], ['插扣'], ['。'], ['他们'], ['被'], ['称为'], ['留守'], ['儿童'], ['。'], ['在'], ['这个'], ['前提'], ['之外'], ['引申'], ['这些'], ['积极'], ['意义'], ['是'], ['毫'], ['无'], ['意义'], ['的'], ['。'], ['而'], ['当年'], ['才'], ['５'], ['岁'], ['的'], ['吴忠延'], ['就'], ['在'], ['现场'], ['。'], ['He'], ['taught'], ['the'], ['people'], ['how'], ['they'], ['should'], ['honor'], ['the'], ['Lord'], ['.']], [['那么到底'], ['它'], ['的'], ['意图'], ['是'], ['在'], ['什么'], ['？'], ['回来'], ['以后'], [','], ['我'], ['觉得'], ['什么'], ['都不好'], ['吃'], ['.']], [['but'], ['she'], ['did'], ['have'], ['a'], ['heart'], ['attack'], ['Then'], ['they'], ['began'], ['jumping'], ['around'], ['on'], ['the'], ['altar'], ['they'], ['had'], ['built'], ['.']], [['God'], ['--'], ['the'], ['one'], ['who'], ['made'], ['all'], ['things'], ['and'], ['for'], ['whose'], ['glory'], ['all'], ['things'], ['exist'], ['--'], ['wanted'], ['many'], ['people'], ['to'], ['be'], ['his'], ['children'], ['and'], ['share'], ['his'], ['glory'], ['.']], [['In'], ['that'], ['case'], ['the'], ['benefits'], ['and'], ['disbenefits'], ['of'], [\"APF's\"], ['cancel'], ['each'], ['other'], ['out'], [','], ['看到'], ['这么'], ['多'], ['女人'], ['这样是'], ['一'], ['件'], ['很'], ['难受的'], ['事情'], ['．'], ['在'], ['这个'], ['新兴'], ['的'], ['传媒行业'], ['中'], ['，'], ['他'], ['算'], ['得'], ['上'], ['老'], ['人'], ['了'], ['。'], ['The'], ['benchmark'], ['11'], ['3/4'], ['%'], ['bond'], ['due'], ['2003'], ['/'], ['2007'], ['rose'], ['10/32'], ['to'], ['111'], ['14/32'], ['to'], ['yield'], ['10.14'], ['%'], [','], ['while'], ['the'], ['Treasury'], [\"'s\"], ['12'], ['%'], ['notes'], ['due'], ['1995'], ['rose'], ['7/32'], ['to'], ['103'], ['5/8'], ['to'], ['yield'], ['11.04'], ['%'], ['.']], [['对'], ['yeah'], ['But'], [','], ['it'], ['is'], ['this'], ['\"'], ['Dragon'], ['Queen'], ['\"'], ['who'], ['has'], ['built'], ['a'], ['fortune'], ['starting'], ['as'], ['a'], ['wage'], ['earner'], [','], ['who'], ['shrewdly'], ['and'], ['effectively'], ['put'], ['forward'], ['these'], ['three'], ['proposals'], [':'], ['\"'], ['exemptions'], ['from'], ['permanent'], ['work'], ['contracts'], [','], ['\"'], ['\"'], ['reducing'], ['the'], ['tax'], ['burden'], ['on'], ['the'], ['wealthy'], [','], ['\"'], ['and'], ['\"'], ['a'], ['transitional'], ['tax'], ['-'], ['exempt'], ['period'], ['for'], ['business'], ['imports'], ['of'], ['environmental'], ['protection'], ['equipment'], ['.']], [['\"'], ['不'], ['要'], ['钱'], ['就免费'], ['让'], ['她'], ['学'], ['了'], ['美容'], ['。'], ['后来又'], ['叫叫'], ['她'], ['三藩市郑明明'], ['的'], ['一'], ['个'], ['美容院'], ['就'], ['做'], ['这个'], ['美容师'], ['。'], ['The'], ['command'], ['staff'], ['works'], ['inside'], ['the'], ['wire'], ['.']], [['In'], ['fact'], [','], ['choruses'], ['of'], ['\"'], ['bo'], ['-'], ['po'], ['-'], ['mo'], ['\"'], ['and'], ['\"'], ['A'], ['-'], ['B'], ['-'], ['C'], ['\"'], ['have'], ['been'], ['recited'], ['in'], ['primary'], ['school'], ['classrooms'], ['for'], ['a'], ['long'], ['time'], ['now'], ['.']], [['Eh'], [','], ['well'], [','], ['President'], ['Putin'], ['and'], ['Prime'], ['Minister'], ['Koizumi'], [','], ['ah'], [','], ['the'], ['two'], ['talked'], ['for'], ['a'], ['total'], ['of'], ['two'], ['and'], ['a'], ['half'], ['hours'], ['and'], ['signed'], ['a'], ['total'], ['of'], ['12'], ['documents'], ['.']], [['好好'], ['的'], ['给'], ['小穗'], ['算'], ['哈'], [','], ['让'], ['小穗'], ['哈立秋以后'], ['.']], [['哎'], ['我'], ['记得'], ['你'], ['那'], ['年'], ['走'], [','], ['是'], ['不'], ['是'], ['就是'], ['立秋以后'], ['?'], ['I'], ['will'], ['honor'], ['people'], ['who'], ['honor'], ['me'], [','], ['but'], ['bad'], ['things'], ['will'], ['happen'], ['to'], ['those'], ['who'], ['refuse'], ['to'], ['respect'], ['me'], ['.']], [['we'], ['did'], [\"n't\"], ['take'], ['Taken'], ['by'], ['Weidong'], ['Liu'], ['and'], ['Guozhong'], ['Hou'], ['.']], [['Lo'], ['says'], ['that'], ['the'], ['main'], ['countries'], ['that'], ['will'], ['be'], ['at'], ['the'], ['center'], ['of'], ['future'], ['diplomatic'], ['work'], [','], ['besides'], ['the'], ['ROC'], [\"'s\"], ['existing'], ['diplomatic'], ['partners'], [','], ['will'], ['be'], ['the'], ['nations'], ['of'], ['North'], ['America'], ['and'], ['Europe'], ['.']], [['The'], ['Jewish'], ['leaders'], ['understood'], ['that'], ['Peter'], ['and'], ['John'], ['had'], ['no'], ['special'], ['training'], ['or'], ['education'], ['.']], [['He'], ['suffered'], ['a'], ['humiliating'], ['defeat'], ['back'], ['in'], ['September'], ['and'], ['the'], ['opinion'], ['polls'], ['predict'], ['another'], ['trouncing'], ['on'], ['Saturday'], [','], ['but'], ['his'], ['supporters'], ['are'], ['trying'], ['to'], ['put'], ['on'], ['a'], ['brave'], ['face'], ['.']], [['Units'], ['will'], ['cost'], ['from'], ['500,000'], ['to'], ['3.5'], ['million'], ['Australian'], ['dollars'], ['about'], ['US$'], ['386,000'], ['to'], ['US$'], ['2.7'], ['million'], ['.']], [['\"'], ['تستهدف'], ['بين'], ['الحين'], ['و'], ['الآخر'], ['دور'], ['العبادة'], [','], ['اما'], ['اعتداء'], ['اجرامياً'], ['ب'], ['القاء'], ['المتفجرات'], ['او'], ['جناية'], ['ب'], ['سرقة'], ['محتويات'], ['ها'], ['من'], ['اموال'], ['النذور'], ['و'], ['الممتلكات'], [','], ['او'], ['بعثرت'], ['ها'], [','], ['م'], ['ما'], ['يتسبب'], ['ب'], ['خلق'], ['جو'], ['من'], ['التوتر'], ['في'], ['ارجاء'], ['الوطن'], ['.']], [['In'], ['short'], [','], ['throw'], ['away'], ['the'], ['passbook'], ['and'], ['go'], ['for'], ['the'], ['glory'], ['.']], [['直到'], ['本'], ['周二'], ['晚间'], ['，'], ['政府'], ['才'], ['宣布'], ['营救人员'], ['已经'], ['到达'], ['了'], ['所有'], ['１，０４４'], ['个'], ['四川'], ['受灾'], ['最'], ['重的'], ['村庄'], ['。'], ['我'], ['马上'], ['给'], ['我'], ['的'], ['记者'], ['打'], ['电话'], ['，'], ['我'], ['说放下'], ['手中'], ['的'], ['一切'], ['，'], ['最'], ['快'], ['的'], ['时间'], ['赶到'], ['瑞金'], ['医院'], ['，'], ['因为'], ['我'], ['知道'], ['他'], ['住在'], ['瑞金'], ['医院'], ['嘛'], ['。'], ['I'], ['doubt'], ['that'], ['.']], [['When'], ['I'], ['hear'], ['about'], ['people'], ['making'], ['specific'], ['demands'], ['what'], ['has'], ['to'], ['be'], ['in'], ['a'], ['hotel'], ['room'], ['I'], ['think'], ['pampered'], ['rock'], ['stars'], ['who'], ['only'], ['eat'], ['a'], ['particular'], ['color'], ['M'], ['and'], ['M'], ['or'], ['certain'], ['divas'], ['who'], ['require'], ['a'], ['particular'], ['type'], ['of'], ['flower'], ['in'], ['their'], ['suite'], ['.']], [['Yes'], [','], ['the'], ['one'], ['who'], ['is'], ['life'], ['was'], ['shown'], ['to'], ['us'], ['.']], [['The'], ['sound'], ['of'], ['a'], ['millstone'], ['will'], ['never'], ['be'], ['heard'], ['in'], ['you'], ['again'], ['.']], [['At'], ['the'], ['same'], ['time'], [','], ['there'], ['appears'], ['to'], ['be'], ['a'], ['market'], ['for'], ['news'], ['-'], ['oriented'], ['programming'], [';'], ['Turner'], ['Broadcasting'], ['System'], ['Inc.'], [\"'s\"], ['Cable'], ['News'], ['Network'], ['has'], ['its'], ['highest'], ['ratings'], [','], ['outside'], ['of'], ['prime'], ['time'], [','], ['on'], ['Saturday'], ['mornings'], ['.']], [['港人'], ['在'], ['大陆'], ['的'], ['亲友'], ['拼命'], ['求援'], ['，'], ['死'], ['的'], ['、'], ['逃'], ['的'], ['不计其数'], ['。'], ['Yugoslavia'], [\"'s\"], ['new'], ['President'], [','], ['Vojislav'], ['Kostunica'], [','], ['is'], ['still'], ['having'], ['trouble'], ['consolidating'], ['his'], ['power'], ['.']], [['星期一'], ['，'], ['抵达'], ['华盛顿'], ['进行'], ['访问'], ['的'], ['孟加拉国'], ['总理'], ['哈西娜'], ['至今仍未'], ['见到'], ['克林顿'], ['总统'], ['。'], ['منذ'], ['العصر'], ['الصفوي'], [','], ['أصبح'], ['ل'], ['علماء'], ['الدين'], ['نفوذ'], ['كبير'], ['في'], ['ايران'], [','], ['و'], ['اصبح'], ['ل'], ['هذه'], ['الطبقة'], ['منزلة'], ['و'], ['حقوق'], ['و'], ['حصانة'], ['اجتماعية'], [','], ['اذا'], ['ما'], ['قورنت'], ['ب'], ['باقي'], ['الطبقات'], ['.']], [['it'], [\"'s\"], ['kind'], ['of'], ['like'], ['development'], ['我们'], ['－－'], ['啊'], ['体重'], ['增加'], ['这我'], ['已经'], ['加以'], ['注意'], ['了'], ['，'], ['我'], ['控制'], ['了'], ['体重'], ['，'], ['但是'], ['像'], ['，'], ['嗯'], ['，'], ['我'], ['的'], ['甲状腺'], ['．'], ['这些'], ['飞行员'], ['还没有'], ['受到'], ['起诉'], ['，'], ['自从'], ['新加坡'], ['民航客机'], ['在'], ['暴风雨'], ['的'], ['恶性'], ['气候条件'], ['下'], ['，'], ['在'], ['错误'], ['跑道'], ['上'], ['企图起飞'], ['而'], ['造成'], ['事故'], ['以来'], ['，'], ['三'], ['名'], ['飞行员'], ['一直'], ['被'], ['扣留'], ['在'], ['台湾'], ['。'], ['I'], ['have'], ['holy'], ['shit.'], ['fuck'], ['the'], ['idea'], ['of'], ['how'], ['I'], [\"'m\"], ['going'], ['to'], ['do'], ['it'], ['A'], ['prophet'], ['?'], ['伤员'], ['已'], ['送到'], ['医院'], ['救治'], ['，'], ['事故原因'], ['正'], ['在'], ['调查'], ['中'], ['。'], ['Then'], ['they'], ['stopped'], ['coming'], [','], ['and'], ['we'], ['heard'], ['about'], ['the'], ['ads'], [','], ['and'], ['they'], ['were'], ['exactly'], ['what'], ['we'], ['had'], ['presented'], ['for'], ['over'], ['a'], ['year'], ['.']], [['So'], ['if'], ['I'], ['do'], ['what'], ['I'], ['do'], [\"n't\"], ['want'], ['to'], ['do'], [','], ['then'], ['I'], ['am'], ['not'], ['really'], ['the'], ['one'], ['doing'], ['it'], ['.']], [['Of'], ['course'], ['President'], ['Lee'], ['Teng'], ['-'], ['hui'], [\"'s\"], ['exercise'], ['of'], ['such'], ['powers'], ['has'], ['not'], ['proved'], ['politically'], ['destabilizing'], ['because'], ['he'], ['has'], ['been'], ['concurrently'], ['chairman'], ['of'], ['the'], ['KMT'], [','], ['which'], ['enjoys'], ['a'], ['majority'], ['in'], ['the'], ['Legislative'], ['Yuan'], ['.']], [['他'], ['把'], ['美军'], ['的'], ['关键'], ['供给'], ['和'], ['军需服务'], ['拱手'], ['让给'], ['了'], ['掠夺'], ['利润'], ['的'], ['承包商'], ['。'], ['对'], ['他们'], ['来说'], ['，'], ['美军'], ['不'], ['是'], ['战友'], ['，'], ['甚至也不'], ['是'], ['股东'], ['，'], ['只'], ['是'], ['逮住'], ['的'], ['“'], ['客户'], ['”，'], ['根据'], ['有'], ['保障'], ['的'], ['合同'], ['，'], ['可以简慢无礼'], ['地'], ['对待'], ['。'], ['Xinhua'], ['News'], ['Agency'], [','], ['Shanghai'], [','], ['April'], ['15th'], [','], ['by'], ['reporter'], ['Ruge'], ['Xia'], ['and'], ['intern'], ['Jiansong'], ['Zhang'], ['是'], ['你'], ['的'], ['收支'], ['的'], ['一'], ['个'], ['表'], ['么'], [','], ['是吧'], ['?'], ['Each'], ['one'], ['held'], ['about'], ['20'], ['or'], ['30'], ['gallons'], ['.']], [['Say'], ['what'], ['?'], ['On'], ['this'], ['point'], [','], ['their'], ['two'], ['fates'], ['are'], ['connected'], ['.']], [['We'], ['will'], ['first'], ['talk'], ['about'], ['the'], ['Daily'], ['Mirror'], ['article'], ['that'], ['started'], ['it'], ['.']], [['We'], ['do'], [\"n't\"], ['have'], ['anything'], ['to'], ['demonstrate'], ['that'], ['commercialality'], ['.']], [['为了'], ['巩固'], ['价格'], ['最'], ['低的'], ['形象'], ['，'], ['半'], ['年'], ['前'], ['，'], ['家乐福'], ['大张旗鼓'], ['的'], ['召开'], ['记者会'], ['宣示'], ['「'], ['买贵退'], ['差价'], ['」'], ['的'], ['策略'], ['，'], ['卖场'], ['里'], ['大'], ['招牌'], ['和'], ['购物袋'], ['上'], ['都清楚'], ['标示'], ['，'], ['时时'], ['提醒'], ['消费者'], ['。'], ['As'], ['a'], ['result'], [','], ['they'], ['often'], ['speak'], ['one'], ['language'], ['at'], ['home'], [','], ['another'], ['at'], ['school'], ['.']], [['Is'], [\"n't\"], ['it'], ['reasonable'], ['to'], ['assume'], ['that'], ['the'], ['asset'], ['you'], ['own'], ['would'], ['be'], ['worth'], ['more'], ['if'], ['the'], ['government'], ['suddenly'], ['announced'], ['that'], ['if'], ['you'], ['sold'], ['it'], [','], ['you'], ['would'], ['be'], ['able'], ['to'], ['keep'], ['30'], ['%'], ['more'], ['of'], ['its'], ['gain'], ['than'], ['you'], ['previously'], ['believed'], ['?'], ['舆论'], ['就自然而然就'], ['浮现起来'], ['了'], ['，'], ['这些'], ['问题'], ['是'], ['布什'], ['在'], ['竞选'], ['总统期间'], ['曾经'], ['谈论'], ['了'], ['许多'], ['的'], ['问题'], ['，'], ['这'], ['位'], ['当选'], ['总统'], ['宣称要'], ['是'], ['美国'], ['政府'], ['发生'], ['变化'], ['。'], ['对'], ['。'], ['But'], ['the'], ['last'], ['Adam'], ['is'], ['a'], ['life'], ['-'], ['giving'], ['spirit'], ['.']], [['It'], ['now'], ['offers'], ['30'], ['regional'], ['editions'], [','], ['it'], ['very'], ['recently'], ['began'], ['running'], ['ads'], ['adjacent'], ['to'], ['articles'], [','], ['and'], ['it'], ['has'], ['been'], ['beefing'], ['up'], ['its'], ['sales'], ['force'], ['.']], [['Today'], [','], ['the'], ['Technology'], ['Committee'], ['of'], ['Russian'], ['Space'], ['-'], ['flight'], ['Control'], ['Center'], ['held'], ['a'], ['meeting'], ['to'], ['analyze'], ['the'], ['reasons'], ['for'], ['the'], ['two'], ['failed'], ['dockings'], ['and'], ['decided'], ['to'], ['perform'], ['a'], ['third'], ['docking'], ['attempt'], ['on'], ['September'], ['2nd'], ['.']], [['Every'], ['time'], ['he'], ['sees'], ['me'], [','], ['he'], ['gets'], ['very'], ['nervous'], ['.']], [[\"''\"], ['Herodias'], ['told'], ['her'], ['daughter'], ['what'], ['to'], ['ask'], ['for'], ['.']], [['４'], ['名'], ['法官'], ['在'], ['多数派决定'], ['中'], ['同意'], ['重新'], ['点票'], ['，'], ['３'], ['名'], ['法官'], ['反对'], ['。'], ['俄罗斯'], ['海军发言人'], ['表示'], ['，'], ['死难者'], ['的'], ['当中'], ['一些'], ['人'], ['的'], ['尸体'], ['被'], ['严重'], ['烧焦'], ['或者'], ['被'], ['撞烂'], ['，'], ['北方舰队发言人'], ['那柏伦罗斯斯基'], ['对'], ['俄罗斯'], ['一'], ['家'], ['通讯社'], ['表示'], ['：'], ['看起来'], ['库尔斯克号'], ['潜艇'], ['发生'], ['爆炸'], ['导致'], ['潜艇'], ['沉没'], ['的'], ['时候'], ['，'], ['也'], ['松脱'], ['了'], ['安装'], ['在'], ['潜艇'], ['上的'], ['各'], ['种'], ['设备'], ['，'], ['严重'], ['砸伤'], ['了'], ['一些'], ['船员'], ['。'], ['Why'], ['did'], ['Russian'], ['President'], ['Putin'], ['visit'], ['Japan'], ['again'], ['after'], [','], ['an'], ['interval'], ['of'], ['five'], ['years'], [','], ['after'], ['quite'], ['a'], ['few'], ['twists'], ['and'], ['turns'], ['?'], ['Most'], ['other'], ['states'], ['have'], ['enacted'], ['similar'], ['bans'], ['.']], [['If'], ['you'], ['are'], ['too'], ['hard'], ['to'], ['please'], [','], ['they'], ['might'], ['want'], ['to'], ['stop'], ['trying'], ['.']], [['As'], ['we'], ['continue'], ['to'], ['watch'], ['Air'], ['Force'], ['One'], [','], ['now'], ['on'], ['the'], ['ground'], ['outside'], ['Belfast'], [','], ['Northern'], ['Ireland'], [','], ['we'], [\"'ll\"], ['be'], ['watching'], ['President'], ['Bush'], ['emerge'], ['from'], ['the'], ['plane'], ['momentarily'], ['.']], [['Be'], ['sure'], ['you'], ['are'], ['not'], ['led'], ['away'], ['by'], ['the'], ['teaching'], ['of'], ['those'], ['who'], ['have'], ['nothing'], ['worth'], ['saying'], ['and'], ['only'], ['plan'], ['to'], ['deceive'], ['you'], ['.']], [['It'], ['indicates'], ['the'], ['feature'], ['of'], ['\"'], ['heaviness'], ['\"'], ['of'], ['our'], ['economy'], ['.']], [['Japan'], [\"'s\"], ['plans'], ['to'], ['\"'], ['conquer'], ['China'], ['in'], ['one'], ['attack'], ['\"'], ['and'], ['to'], ['\"'], ['take'], ['China'], ['in'], ['three'], ['to'], ['six'], ['months'], ['\"'], ['were'], ['not'], ['mere'], ['fantasy'], ['.']], [['嗯'], [','], ['不'], [','], ['问题'], ['是'], ['传真'], ['我们'], ['接'], ['不'], ['到'], [','], ['我我这边'], ['是'], ['接'], ['不'], ['到'], ['的'], [','], ['yeah'], [','], ['Do'], ['you'], ['think'], ['there'], [\"'s\"], ['a'], ['value'], ['in'], ['itself'], ['in'], ['having'], ['someone'], ['to'], ['go'], ['up'], ['there'], ['and'], ['just'], ['waste'], ['the'], ['place'], ['I'], ['mean'], ['in'], ['other'], ['words'], ['just'], ['give'], ['tough'], ['speeches'], ['try'], ['to'], ['humiliate'], ['them'], ['uh'], ['try'], ['to'], ['get'], ['them'], ['out'], ['and'], ['get'], ['them'], ['straightened'], ['out'], ['by'], ['just'], ['making'], ['fun'], ['of'], ['them'], ['by'], ['basically'], ['trashing'], ['some'], ['of'], ['those'], ['Third'], ['World'], ['members'], ['that'], ['have'], ['contributed'], ['to'], ['this'], ['uh'], ['horror'], ['in'], ['some'], ['of'], ['these'], ['cases'], ['you'], ['mentioned'], ['?'], ['The'], ['angel'], [\"'s\"], ['glory'], ['made'], ['the'], ['earth'], ['bright'], ['.']], [['He'], ['is'], ['seen'], ['as'], ['leading'], ['a'], ['second'], ['wave'], ['of'], ['\"'], ['anti-Lee'], ['Teng'], ['-'], ['hui'], ['\"'], ['sentiment'], [','], ['similar'], ['to'], ['that'], ['which'], ['led'], ['to'], ['the'], ['creation'], ['of'], ['the'], ['New'], ['Party'], ['several'], ['years'], ['ago'], ['.']], [['The'], ['President'], ['of'], ['Yemen'], ['says'], ['the'], ['boat'], ['used'], ['in'], ['the'], ['attack'], ['on'], ['the'], ['``'], ['USS'], ['Cole'], [\"''\"], ['was'], ['bought'], ['in'], ['Saudi'], ['Arabia'], ['.']], [['mhm.'], ['根据'], ['伊拉克'], ['新闻社'], ['报导'], ['，'], ['伊拉克'], ['两'], ['架'], ['民航机'], ['６号'], ['分别'], ['飞越'], ['南北'], ['两'], ['个'], ['禁航区'], ['。'], ['One'], ['dealer'], ['said'], ['the'], ['talk'], ['was'], ['that'], ['the'], ['firm'], ['sold'], ['about'], ['$'], ['500'], ['million'], ['of'], ['bellwether'], ['30'], ['-'], ['year'], ['bonds'], ['.']], [['تضامن'], ['عدد'], ['من'], ['اللاجئين'], ['العراقيين'], ['مع'], ['رفيق'], ['هم'], ['اسد'], ['محمد'], ['علي'], ['الراقد'], ['في'], ['غيبوبة'], ['في'], ['المستشفى'], ['ريثما'], ['يتوافر'], ['المال'], ['ل'], ['تغطية'], ['جراحتين'], ['تعالجان'], ['كسورا'], ['في'], ['الجمجمة'], ['و'], ['الفخذ'], ['.']], [['那为什么'], ['受'], ['工伤'], ['的'], ['更'], ['多'], ['的'], ['都'], ['是'], ['这些'], ['外来'], ['的'], ['工人'], ['，'], ['Ah'], [','], ['it'], [\"'s\"], ['a'], ['very'], ['large'], ['problem'], ['figure'], ['.']], [['啊'], ['陈鲁豫'], ['真不'], ['小心'], ['。'], ['内政部警政署刑事警察局'], ['明年'], ['将'], ['以'], ['打击'], ['毒品犯罪名义'], ['派遣'], ['５'], ['名'], ['干员'], ['赴'], ['大陆'], ['与'], ['中国'], ['公安'], ['合作打击'], ['海峡'], ['两'], ['岸犯罪'], ['，'], ['但是'], ['合作'], ['的'], ['管道'], ['还没有'], ['建立'], ['之前'], ['就已经'], ['传出'], ['四海帮帮主'], ['杨光南'], ['等'], ['８'], ['名'], ['台湾'], ['黑社会分子'], ['在'], ['大陆'], ['上海'], ['被'], ['捕'], ['的'], ['消息'], ['。'], ['عنان'], ['يقلل'], ['من'], ['رفض'], ['بغداد'], ['عودة'], ['المفتشين'], ['و'], ['مبارك'], ['أطلع'], ['الدوري'], ['على'], ['محادثات'], ['ه'], ['مع'], ['تشيني'], ['الدوري'], ['We'], ['have'], ['to'], ['be'], ['respectful'], ['of'], ['Afghan'], ['sovereignty'], ['and'], ['Tim'], ['respectful'], ['of'], ['the'], ['fact'], ['that'], ['this'], ['is'], ['a'], ['country'], ['that'], ['is'], ['coming'], ['out'], ['of'], ['twenty'], ['-'], ['five'], ['years'], ['of'], ['civil'], ['war'], ['a'], ['country'], ['that'], [\"'s\"], ['going'], ['to'], ['have'], ['to'], ['find'], ['its'], ['own'], ['way'], ['and'], ['a'], ['country'], ['that'], ['is'], ['going'], ['through'], ['one'], ['of'], ['the'], ['most'], ['difficult'], ['uh'], ['debates'], ['that'], ['any'], ['society'], ['goes'], ['through'], ['.']], [['Of'], ['Iraq'], [\"'s\"], ['27'], ['million'], ['prewar'], ['population'], [','], ['about'], ['1'], ['in'], ['8'], ['--'], ['some'], ['3.4'], ['million'], ['people'], ['--'], ['have'], ['left'], ['their'], ['homes'], ['since'], ['the'], ['invasion'], [','], ['according'], ['to'], ['the'], ['United'], ['Nations'], ['High'], ['Commission'], ['for'], ['Refugees'], ['unhcr'], [','], ['Also'], [','], ['many'], ['of'], ['those'], ['peasants'], ['who'], ['came'], ['into'], ['the'], ['store'], ['to'], ['buy'], ['fertilizer'], [','], ['they'], [\"'d\"], ['come'], ['into'], ['the'], ['store'], [','], ['and'], ['they'], ['really'], ['did'], [\"n't\"], ['have'], ['a'], ['clue'], [','], ['and'], ['they'], [\"'d\"], ['think'], [','], ['So'], ['-'], ['and'], ['-'], ['so'], ['is'], ['buying'], ['that'], [','], ['so'], ['I'], [\"'ll\"], ['buy'], ['that'], [','], ['and'], ['they'], ['basically'], ['did'], [\"n't\"], ['know'], [','], ['they'], ['did'], [\"n't\"], ['go'], ['and'], ['choose'], ['something'], ['based'], ['on'], ['what'], ['their'], ['own'], ['land'], ['needed'], ['.']], [['And'], ['he'], ['said'], ['next'], ['time'], ['I'], [\"'m\"], ['staying'], ['at'], ['grandma'], [\"'s\"], ['house'], ['.']], [['He'], ['seems'], ['to'], ['remember'], ['every'], ['soldier'], ['he'], ['ever'], ['met'], [':'], ['و'], ['حضر'], ['اللقاء'], ['سفير'], ['ايران'], ['في'], ['سوريا'], ['السيد'], ['حسين'], ['شيخ'], ['الاسلام'], ['و'], ['رئيس'], ['دائرة'], ['الشرق'], ['الاوسط'], ['في'], ['وزارة'], ['الخارجية'], ['الايرانية'], ['محمد'], ['ايراني'], [','], ['و'], ['تم'], ['عرض'], ['الوضع'], ['في'], ['لبنان'], ['و'], ['المنطقة'], ['.']], [['The'], ['1981'], ['novel'], ['``'], ['Wedding'], ['Song'], [\"''\"], ['also'], ['is'], ['experimental'], [','], ['and'], ['another'], ['badly'], ['aimed'], ['bullet'], ['.']], [['假如'], ['崇明岛'], ['一千二百多'], ['平方公里'], ['，'], ['全部'], ['是'], ['像'], ['我们'], ['的'], ['这'], ['一'], ['个'], ['黄浦区'], ['一样'], ['或者说'], ['甚至'], ['像'], ['我们'], ['的'], ['这'], ['一'], ['个'], ['这'], ['一'], ['个'], ['啊'], ['，'], ['宝山区'], ['一样'], ['，'], ['变成'], ['一'], ['个'], ['这样'], ['的'], ['一'], ['个'], ['地方'], ['，'], ['你'], ['想想'], ['，'], ['我们'], ['上海人'], ['的'], ['空气质量'], ['还'], ['会'], ['是今天'], ['这样'], ['的吗'], ['？'], ['The'], ['person'], ['who'], ['leaked'], ['the'], ['classified'], ['Pentagon'], ['Papers'], ['to'], ['The'], ['New'], ['York'], ['Times'], ['was'], ['defense'], ['analyst'], ['Daniel'], ['Ellsberg'], ['.']], [['Andy'], ['can'], ['explain'], ['why'], ['he'], [\"'s\"], ['a'], ['hot'], ['commodity'], ['.']], [['（'], ['经济观察'], ['）'], ['一九九八'], ['：'], ['I'], ['am'], ['telling'], ['you'], ['what'], ['my'], ['Father'], ['has'], ['shown'], ['me'], ['.']], [['I'], [\"'ve\"], ['never'], ['really'], ['like'], ['been'], ['up'], ['close'], ['to'], ['a'], ['pregnant'], ['woman'], ['before'], ['Tell'], ['us'], [','], ['is'], ['it'], ['right'], ['to'], ['pay'], ['taxes'], ['to'], ['Caesar'], ['?'], ['The'], ['New'], ['York'], ['arm'], ['of'], ['the'], ['London'], ['-'], ['based'], ['auction'], ['house'], ['auctioned'], ['off'], ['the'], ['estate'], ['of'], ['John'], ['T.'], ['Dorrance'], ['Jr.'], [','], ['the'], ['Campbell'], [\"'s\"], ['Soup'], ['Co.'], ['heir'], [','], ['for'], ['$'], ['131'], ['million'], ['last'], ['week'], [','], ['a'], ['record'], ['for'], ['a'], ['single'], ['-'], ['owner'], ['art'], ['collection'], ['.']], [['Notably'], [','], ['one'], ['of'], ['Mr.'], ['Krenz'], [\"'s\"], ['few'], ['official'], ['visits'], ['overseas'], ['came'], ['a'], ['few'], ['months'], ['ago'], [','], ['when'], ['he'], ['visited'], ['China'], ['after'], ['the'], ['massacre'], ['in'], ['Beijing'], ['.']], [['``'], ['His'], ['Phelan'], [\"'s\"], ['own'], ['interests'], ['are'], ['in'], ['building'], ['an'], ['electronic'], ['marketplace'], [','], [\"''\"], ['said'], ['a'], ['market'], ['maker'], ['.']], [['I'], [\"'m\"], ['thirty'], ['-'], ['two'], ['.']], [['English'], ['literature'], [','], ['right'], ['?'], ['We'], [\"'re\"], ['talking'], ['about'], ['a'], ['career'], ['criminal'], ['who'], ['knows'], ['about'], ['DNA'], ['who'], ['knows'], ['about'], ['criminal'], ['evidence'], ['who'], ['probably'], ['has'], ['been'], ['tried'], ['-'], ['I'], ['raised'], ['my'], ['head'], ['in'], ['expectation'], ['.']], [['So'], ['we'], [\"'re\"], ['sitting'], ['there'], ['in'], ['McDonald'], [\"'s\"], ['p-'], ['Western'], ['governments'], ['want'], ['Serbia'], ['to'], ['cooperate'], ['with'], ['the'], ['International'], ['War'], ['Crimes'], ['Tribunal'], ['in'], ['the'], ['Hague'], ['.']], [['提高到超过'], ['唐山'], ['的'], ['８．０'], ['级'], ['，'], ['可以'], ['为'], ['当局'], ['留下'], ['解释'], ['的'], ['余地'], ['，'], ['化解'], ['民怨'], ['。'], ['L'], ['O'], ['F'], ['T'], ['S'], ['lofts'], [','], ['to'], ['give'], ['us'], ['more'], ['room'], ['under'], ['That'], ['kind'], ['of'], ['faith'], ['first'], ['belonged'], ['to'], ['your'], ['grandmother'], ['Lois'], ['and'], ['to'], ['your'], ['mother'], ['Eunice'], ['.']], [['另'], ['据'], ['最新'], ['消息'], ['，'], ['美国'], ['选手'], ['张德培'], ['在'], ['男子'], ['第二'], ['轮'], ['比赛'], ['中'], ['以'], ['４'], ['：'], ['６'], ['、'], ['６'], ['：'], ['２'], ['、'], ['６'], ['：'], ['３'], ['、'], ['７'], ['：'], ['６'], ['战胜'], ['对手'], ['，'], ['进入'], ['第三'], ['轮'], ['。'], ['（'], ['完'], ['）'], ['Well'], [','], ['you'], [\"'re\"], ['not'], ['working'], ['at'], ['all'], ['now'], ['?'], ['他们'], ['要是'], ['为了'], ['打工'], ['，'], ['打工挣'], ['的'], ['钱'], ['会'], ['把'], ['身体'], ['累坏'], ['了'], ['。'], ['But'], ['the'], ['angel'], ['said'], ['to'], ['me'], [','], ['``'], ['Do'], [\"n't\"], ['worship'], ['me'], ['!'], ['中央台'], ['记者'], ['报道'], ['。'], ['过去'], ['原著民'], ['靠着'], ['打猎为生'], ['，'], ['把'], ['番刀'], ['看作'], ['是第一'], ['生命'], ['，'], ['成年'], ['的'], ['勇士'], ['经过'], ['严格的'], ['考验'], ['之后'], ['才'], ['可以'], ['随身'], ['配带'], ['，'], ['不过'], ['随着'], ['时代'], ['变迁'], ['呢'], ['，'], ['全'], ['省'], ['只'], ['剩下'], ['屏东'], ['有'], ['１'], ['名'], ['师傅'], ['懂得打'], ['番刀'], ['，'], ['而'], ['这'], ['项'], ['代表'], ['原著民骄傲'], ['的'], ['古老'], ['技艺'], ['恐怕即将'], ['要成为'], ['绝响'], ['了'], ['。'], ['What'], ['is'], ['therefore'], ['needed'], ['is'], ['a'], ['national'], ['oil'], ['industry'], [','], ['including'], ['a'], ['national'], ['private'], ['sector'], ['offering'], ['technical'], ['oil'], ['services'], [','], ['and'], ['this'], ['is'], ['what'], ['was'], ['not'], ['developed'], ['during'], ['the'], ['previous'], ['regime'], ['and'], ['what'], ['will'], ['hamper'], ['it'], ['as'], ['well'], ['is'], ['the'], ['reliance'], ['on'], ['foreign'], ['companies'], ['.']], [['Michael'], [','], ['as'], ['I'], ['read'], ['the'], ['article'], [','], ['we'], ['knew'], ['that'], ['these'], ['were'], ['not'], ['good'], ['guys'], [','], ['putting'], ['it'], ['mildly'], [','], ['but'], ['as'], ['you'], ['saw'], ['and'], ['heard'], ['the'], ['revelations'], [','], ['what'], ['were'], ['your'], ['reactions'], ['?'], ['上'], ['厕所'], ['。'], ['CNN'], ['has'], ['learned'], ['that'], ['the'], ['crew'], ['of'], ['the'], ['``'], ['USS'], ['Cole'], [\"''\"], ['was'], ['not'], ['briefed'], ['on'], ['the'], ['seriousness'], ['of'], ['the'], ['threat'], ['in'], ['Yemen'], [','], ['nor'], ['warned'], ['to'], ['be'], ['on'], ['guard'], ['for'], ['possible'], ['terrorist'], ['attack'], ['the'], ['day'], ['the'], ['warship'], ['was'], ['bombed'], ['.']], [['And'], ['it'], [\"'s\"], ['growing'], ['fast'], [','], ['with'], ['annual'], ['sales'], ['gains'], ['of'], ['more'], ['than'], ['10'], ['%'], ['.']], [['Some'], ['underwriters'], ['have'], ['been'], ['pressing'], ['for'], ['years'], ['to'], ['tap'], ['the'], ['low'], ['-'], ['margin'], ['business'], ['by'], ['selling'], ['some'], ['policies'], ['directly'], ['to'], ['consumers'], ['.']], [['手'], ['捧'], ['元宝'], ['的'], ['财神爷'], ['笑'], ['得'], ['嘴'], ['歪'], ['胡须'], ['翘'], ['：'], ['把'], ['我'], ['买回'], ['家'], ['，'], ['包'], ['你'], ['招财进宝'], ['一路'], ['发'], ['！'], ['*'], ['*'], ['*'], ['Maybe'], ['the'], ['Lord'], ['will'], ['use'], ['us'], ['to'], ['defeat'], ['them'], ['.']], [['``'], ['My'], ['own'], ['personal'], ['opinion'], ['is'], ['that'], ['Don'], ['threw'], ['in'], ['the'], ['towel'], ['just'], ['about'], ['the'], ['time'], ['he'], ['should'], ['have'], ['doubled'], ['his'], ['bet'], [','], [\"''\"], ['he'], ['says'], ['.']], [['و'], ['افادت'], ['وكالة'], ['\"'], ['برس'], ['ترست'], ['اوف'], ['انديا'], ['\"'], ['ان'], ['رئيس'], ['هيئة'], ['الاركان'], ['الهندي'], ['الجنرال'], ['محمد'], ['عزيز'], ['خان'], ['وصل'], ['الى'], ['بيجينغ'], ['ل'], ['اجراء'], ['مشاورات'], ['عادية'], ['مع'], ['المسؤولين'], ['الصينيين'], ['.']], [['And'], ['then'], ['a'], ['week'], ['later'], [','], ['she'], ['called'], ['me'], ['and'], ['left'], ['a'], ['message'], ['saying'], ['oh'], ['you'], ['know'], ['they'], ['had'], ['all'], ['these'], ['things'], ['on'], ['the'], ['burner'], ['oh'], ['I'], [\"'m\"], ['so'], ['glad'], ['you'], ['called'], ['.']], [['套票'], ['的'], ['打折折扣'], ['就更'], ['低了'], ['，'], ['就'], ['是'], ['这个'], ['折扣'], ['还不一定'], ['卖'], ['得'], ['出去'], ['。'], ['The'], ['rating'], ['agency'], ['said'], ['it'], ['lowered'], ['the'], ['ratings'], ['on'], ['$'], ['75'], ['million'], ['of'], ['the'], ['holding'], ['company'], [\"'s\"], ['convertible'], ['subordinated'], ['Eurodebentures'], ['to'], ['B'], ['-'], ['3'], ['from'], ['B'], ['-'], ['1'], ['.']], [['七九二零-'], ['哦'], [','], ['不'], [','], ['Ｎｏ'], ['．'], ['Ah'], ['North'], ['West'], ['.']], [['They'], ['refused'], ['the'], ['Lord'], [\"'s\"], ['laws'], ['and'], ['the'], ['agreement'], ['that'], ['he'], ['made'], ['with'], ['their'], ['ancestors'], ['.']], [['The'], ['rain'], ['is'], ['falling'], ['/'], ['然而'], ['，'], ['什么'], ['才'], ['是'], ['新'], ['世代'], ['应该具备'], ['的'], ['理财观'], ['？'], ['And'], ['the'], ['Lord'], ['had'], ['warned'], ['the'], ['Israelites'], ['.']], [['开发'], ['美国'], ['４６０'], ['国道'], ['，'], ['并'], ['把'], ['它'], ['连接到'], ['诺福克港'], ['的'], ['铁路'], ['、'], ['公路交叉口'], ['，'], ['这'], ['便'], ['是'], ['缓解'], ['半岛'], ['上'], ['Ｉ－６４'], ['上'], ['的'], ['交通'], ['的'], ['方法'], ['。'], ['And'], ['he'], ['has'], ['kept'], ['every'], ['one'], ['of'], ['them'], ['!'], ['Her'], ['husband'], ['said'], ['voting'], ['was'], ['a'], ['waste'], ['of'], ['time'], [','], ['but'], ['she'], ['insisted'], ['and'], ['mailed'], ['their'], ['ballots'], ['.']], [['1'], ['-'], ['علي'], ['عوض'], ['الجيش16.09.80'], ['دقيقة'], ['.']], [['What'], ['have'], ['you'], ['done'], ['wrong'], ['?'], [\"''\"], ['以后也'], ['会'], ['专门'], ['撰文'], ['，'], ['详细'], ['写写'], ['如何'], ['找到能够赚钱'], ['的'], ['生意'], ['，'], ['请'], ['大家'], ['关注'], ['我'], ['在'], ['donews'], ['的'], ['blog'], ['，'], ['http：／／blog．donews．com／pangshengdong'], ['，'], ['He'], ['had'], ['a'], ['big'], ['crowd'], ['of'], ['people'], ['with'], ['him'], [','], ['all'], ['carrying'], ['swords'], ['and'], ['clubs'], ['.']], [['Sometimes'], [','], ['when'], ['tidying'], ['up'], ['works'], ['of'], ['poetry'], ['from'], ['years'], ['before'], [','], ['he'], ['would'], ['come'], ['across'], ['one'], ['that'], ['he'], ['had'], ['no'], ['recollection'], ['of'], ['ever'], ['writing'], ['.']], [['（'], ['场地提供'], ['亚力山大'], ['健康休闲俱乐部'], ['）'], ['GOP'], ['leaders'], ['continued'], ['to'], ['press'], ['for'], ['a'], ['vote'], ['on'], ['the'], ['amendment'], ['to'], ['the'], ['Eastern'], ['Europe'], ['aid'], ['measure'], ['.']], [['President'], ['Clinton'], ['has'], ['called'], ['Yugoslavia'], [\"'s\"], ['popular'], ['uprising'], ['against'], ['Slobodan'], ['Milosevic'], ['an'], ['extraordinary'], ['victory'], ['for'], ['the'], ['Serbian'], ['people'], ['.']], [['yeah'], ['林业试验所研究员'], ['赵荣台'], ['则'], ['指出'], ['，'], ['正'], ['如'], ['龙坑'], ['污染事件'], ['，'], ['社会'], ['仍'], ['应'], ['将'], ['几'], ['起'], ['森林火灾'], ['视为'], ['警讯'], ['，'], ['它'], ['提醒'], ['台湾人'], ['，'], ['对'], ['自己'], ['所'], ['立足'], ['土地环境'], ['的'], ['了解'], ['已'], ['刻不容缓'], ['。'], ['و'], ['نالت'], ['كل'], ['من'], ['هما'], ['منحة'], ['سفر'], ['الى'], ['لندن'], ['ل'], ['لمشاركة'], ['في'], ['مباراة'], ['دولية'], ['ل'], ['لاتحاد'], ['الى'], ['جانب'], ['ممثلين'], ['من'], ['بلدان'], ['عدة'], ['.']], [['I'], ['do'], [\"n't\"], ['If'], ['it'], ['is'], [','], ['just'], ['simply'], ['tell'], ['me'], ['to'], ['shut'], ['up.'], ['you'], ['just'], ['ca'], [\"n't\"], ['do'], ['it'], ['.']], [['But'], ['we'], ['do'], [\"n't\"], ['think'], ['that'], ['way'], ['now'], ['.']], [['After'], ['years'], ['of'], ['hesitation'], [','], ['economic'], ['and'], ['political'], ['reform'], ['was'], ['embraced'], ['at'], ['the'], ['end'], ['of'], ['1986'], [','], ['but'], ['ringing'], ['declarations'], ['have'], ['yet'], ['to'], ['be'], ['translated'], ['into'], ['much'], ['action'], ['.']], [['Still'], [','], ['encrypting'], ['corporate'], ['communications'], ['is'], ['only'], ['a'], ['partial'], ['remedy'], ['.']], [['只要'], ['航运中心'], ['建'], ['好了'], ['，'], ['它'], ['就'], ['是'], ['实际上'], ['是'], ['贸易中心'], ['的'], ['最'], ['重要'], ['的'], ['一'], ['个'], ['基础'], ['就'], ['有了'], ['。'], ['In'], ['concluding'], ['his'], ['speech'], [','], ['Yuan'], ['Chen'], ['said'], ['that'], ['there'], ['are'], ['only'], ['64'], ['days'], ['left'], ['for'], ['China'], ['to'], ['regain'], ['the'], ['right'], ['to'], ['exercise'], ['sovereignty'], ['over'], ['Hong'], ['Kong'], ['.']], [['发信站'], ['：'], ['BBS'], ['未名'], ['空间站'], ['（'], ['MonJan2914：57：492007'], ['），'], ['站内'], ['哎'], [','], ['六零二七九二二幺六九'], ['.']], [['同时'], ['，'], ['新'], ['政府'], ['将'], ['成立'], ['国家人权委员会'], ['，'], ['以'], ['建立'], ['一'], ['个'], ['人权'], ['受'], ['尊重'], ['、'], ['保护'], ['的'], ['社会'], ['。'], ['而且当然'], ['了'], ['，'], ['卢旺达'], ['现在'], ['大约'], ['有'], ['三百七十'], ['头'], ['．'], ['济丹'], ['说'], ['：'], ['有'], ['４０'], ['个'], ['人'], ['参加'], ['这个'], ['活动'], ['的'], ['具体'], ['工作'], ['，'], ['这些'], ['人'], ['会前往'], ['不同'], ['的'], ['地区'], ['教育'], ['各'], ['地公众'], ['，'], ['包括'], ['各'], ['社区'], ['的'], ['老人'], ['、'], ['妇女'], ['、'], ['青年'], ['、'], ['教师'], ['和'], ['其他'], ['人'], ['让'], ['他们'], ['把'], ['这个'], ['信息'], ['带回'], ['家'], ['去'], ['。'], ['King'], ['David'], ['sang'], ['this'], ['sad'], ['song'], ['at'], ['Abner'], [\"'s\"], ['funeral'], [':'], ['``'], ['Did'], ['Abner'], ['die'], ['like'], ['some'], ['foolish'], ['criminal'], ['?'], ['So'], ['Nebuzaradan'], ['took'], ['the'], ['large'], ['bronze'], ['tank'], ['and'], ['the'], ['2'], ['bronze'], ['columns'], ['.']], [['对'], [','], ['生日'], ['我'], ['肯定'], ['回家过'], ['的'], [','], ['Oh'], ['I'], ['certainly'], ['think'], ['there'], ['is'], ['uh'], ['a'], ['lot'], ['to'], ['this'], ['report'], ['.']], [['Net'], ['income'], ['surged'], ['21'], ['%'], ['to'], ['55.59'], ['billion'], ['yen'], ['from'], ['46.02'], ['billion'], ['yen'], ['.']], [['CALL'], ['MONEY'], [':'], ['9'], ['3/4'], ['%'], ['to'], ['10'], ['%'], ['.']], [['Reasonable'], ['people'], ['can'], ['argue'], ['that'], ['Kaine'], [\"'s\"], ['position'], ['that'], ['would'], ['limit'], ['the'], ['ability'], ['to'], ['develop'], ['one'], [\"'s\"], ['land'], ['was'], ['stupid'], ['or'], ['plain'], ['wrong'], ['.']], [['``'], ['I'], ['baptize'], ['you'], ['with'], ['water'], ['to'], ['show'], ['that'], ['you'], ['have'], ['changed'], ['your'], ['hearts'], ['and'], ['lives'], ['.']], [['What'], ['happens'], ['to'], ['the'], ['patients'], ['?'], ['An'], ['ultra-orthodox'], ['party'], ['said'], ['it'], ['will'], ['support'], ['Barak'], [\"'s\"], ['dwindling'], ['coalition'], ['for'], ['30'], ['days'], ['when'], ['he'], ['negotiates'], ['with'], ['the'], ['right'], ['wing'], ['Likud'], ['Party'], ['in'], ['an'], ['effort'], ['to'], ['form'], ['a'], ['government'], ['of'], ['national'], ['unity'], ['.']], [['%mm'], ['They'], ['are'], [','], ['unfortunately'], [','], ['steps'], ['which'], ['find'], ['those'], ['who'], ['follow'], ['them'], [','], ['monitor'], ['them'], [','], ['scrutinize'], ['them'], [','], ['and'], ['document'], ['them'], ['in'], ['this'], ['article'], ['.']], [['They'], ['have'], ['to'], ['realize'], ['that'], ['this'], ['is'], ['not'], ['a'], ['game'], ['going'], ['on'], ['there'], ['.']], [['行'], [','], ['嗯'], ['.']], [['You'], ['see'], [','], ['Netanyahu'], ['gave'], ['up'], ['his'], ['parliamentary'], ['seat'], ['last'], ['year'], ['after'], ['his'], ['election'], ['lost'], ['to'], ['Barak'], ['and'], ['in'], ['Israel'], [','], ['if'], ['you'], ['are'], ['not'], ['in'], ['the'], ['Parliament'], [','], ['you'], ['ca'], [\"n't\"], ['run'], ['for'], ['Prime'], ['Minister'], ['.']], [['那'], ['给'], ['卢维家'], ['穿'], ['哪'], [','], ['卢维家'], ['穿'], ['太'], ['贵了'], [','], ['那'], ['他'], ['那'], ['他'], ['小孩儿'], ['他'], ['光'], ['踢球'], ['什么'], [','], ['一天就'], ['踢'], ['坏了'], [','], ['He'], ['has'], ['everything'], ['he'], ['needs'], ['.']], [['Michelle'], ['Pfeiffer'], ['ca'], [\"n't\"], ['chew'], ['gum'], ['and'], ['sing'], ['at'], ['the'], ['same'], ['time'], ['.']], [['Solomon'], ['had'], ['places'], ['to'], ['keep'], ['4000'], ['horses'], ['for'], ['his'], ['chariots'], ['and'], ['he'], ['had'], ['12,000'], ['horse'], ['soldiers'], ['.']], [['Yeah.'], ['The'], ['ghostly'], ['footsteps'], [':'], ['``'], ['Interstate'], ['64'], ['is'], ['a'], ['block'], ['away'], [','], ['and'], ['heavy'], ['traffic'], ['can'], ['sure'], ['set'], ['a'], ['house'], ['to'], ['vibrating'], ['.']], [[\"''\"], ['I'], ['heard'], ['a'], ['lot'], ['of'], ['people'], ['connecting'], ['the'], ['Persian'], ['enemy'], ['and'], ['the'], ['Zionist'], ['enemy'], [','], ['while'], ['Iran'], [','], ['until'], ['months'], ['ago'], [','], ['was'], ['the'], ['striker'], ['in'], ['confronting'], ['the'], ['Zionist'], ['and'], ['American'], ['project'], ['in'], ['the'], ['region'], ['.']], [['If'], ['this'], ['is'], ['true'], ['does'], [\"n't\"], ['this'], ['contradict'], ['that'], ['we'], ['are'], ['now'], ['safer'], ['for'], ['invading'], ['Iraq'], ['rhetoric'], ['the'], ['White'], ['House'], ['has'], ['been'], ['saying'], ['for'], ['a'], ['long'], ['time'], ['now'], ['?'], ['我'], ['说'], ['，'], ['我'], ['说'], ['的是'], ['认真'], ['学习'], ['Ivory'], ['Coast'], [\"'s\"], ['newly'], ['elected'], ['President'], ['Loran'], ['Gbagbo'], ['plans'], ['to'], ['announce'], ['his'], ['government'], ['today'], ['.']], [['What'], ['is'], ['certain'], ['is'], ['that'], ['if'], ['Americans'], ['allow'], ['another'], ['happening'], ['like'], ['the'], ['degrading'], ['Bork'], ['confirmation'], ['circus'], [','], ['it'], ['will'], ['be'], ['at'], ['their'], ['peril'], ['.']], [['Yet'], ['much'], ['of'], ['the'], ['political'], ['culture'], ['seems'], ['intent'], ['on'], ['castigating'], ['the'], ['Bush'], ['administration'], ['for'], ['not'], ['``'], ['helping'], [\"''\"], ['Mr.'], ['Gorbachev'], ['.']], [['غير'], ['ان'], ['\"'], ['الاوضاع'], ['في'], ['منطقة'], ['القرن'], ['الافريقي'], ['تستحق'], ['من'], ['الجامعة'], ['كل'], ['اهتمام'], ['و'], ['القيام'], ['ب'], ['دور'], ['بناء'], ['و'], ['فعال'], ['ل'], ['حل'], ['مشاكل'], ['القرن'], ['الافريقي'], ['\".'], ['I'], ['remember'], ['an'], ['example'], ['just'], ['like'], ['this'], ['from'], ['last'], ['year'], ['.']], [['是'], ['。'], ['His'], ['new'], ['forecast'], ['calls'], ['for'], ['``'], ['a'], ['soft'], ['landing'], ['.']], [[\"''\"], ['Which'], ['is'], ['?'], ['No'], [','], ['Other'], ['US'], ['cities'], ['expected'], ['to'], ['submit'], ['bids'], ['by'], ['the'], ['December'], ['15th'], ['deadline'], ['are'], ['Dallas'], [','], ['Washington'], [','], ['Baltimore'], [','], ['Cincinnati'], [','], ['Houston'], [','], ['New'], ['York'], [','], ['San'], ['Francisco'], ['and'], ['Tampa'], [','], ['Florida'], ['.']], [['In'], ['the'], ['fiscal'], ['nine'], ['months'], ['ended'], ['June'], ['30'], [','], ['reports'], ['Raymond'], ['P.'], ['Keenan'], [','], ['assistant'], ['commissioner'], ['for'], ['collection'], [','], ['they'], ['examined'], ['about'], ['13,000'], ['employers'], [','], ['assessed'], ['more'], ['than'], ['$'], ['67'], ['million'], ['in'], ['delinquent'], ['employment'], ['taxes'], [','], ['and'], ['reclassified'], ['about'], ['56,000'], ['workers'], ['as'], ['employees'], ['instead'], ['of'], ['self'], ['-'], ['employed'], ['contractors'], ['.']], [['Our'], ['old'], ['sinful'], ['life'], ['ended'], ['.']], [['：'], ['以'], ['我们'], ['会'], ['格外'], ['珍惜'], ['这'], ['个'], ['机会'], ['，'], ['不'], ['会让'], ['光阴'], ['虚度'], ['。'], ['所以'], ['如果'], ['你'], ['对'], ['中国'], ['农村'], ['根本不'], ['了解'], ['，'], ['当'], ['Wolf'], ['?'], ['yeah'], ['允许'], ['公民'], ['自由'], ['表达'], ['，'], ['会使'], ['政府'], ['不断'], ['地'], ['增强'], ['纠错能力'], ['。'], ['无论'], ['内容制作'], ['或是'], ['电子商务'], ['，'], ['都'], ['有'], ['很'], ['大的'], ['发展潜力'], ['。'], ['The'], ['European'], ['Union'], ['is'], ['expected'], ['to'], ['announce'], ['later'], ['today'], ['an'], ['easing'], ['of'], ['sanctions'], ['against'], ['Yugoslavia'], [','], ['now'], ['the'], ['former'], ['leader'], ['Slobodan'], ['Milosevic'], ['is'], ['out'], ['of'], ['office'], ['.']], [['And'], ['uh'], ['I'], ['ca'], [\"n't\"], ['imagine'], ['uh'], ['why'], ['they'], ['would'], ['punch'], ['someone'], ['in'], ['the'], ['back'], ['of'], ['the'], ['head'], ['uh'], ['uh'], ['in'], ['connection'], ['with'], ['subduing'], ['that'], ['person'], ['.']], [['Some'], ['gripes'], ['about'], ['red'], ['tape'], ['are'], ['predictable'], [':'], ['Architects'], ['complain'], ['about'], ['a'], ['host'], ['of'], ['building'], ['regulations'], [','], ['auto'], ['leasing'], ['companies'], ['about'], ['car'], ['insurance'], ['rules'], ['.']], [['Although'], ['many'], ['investors'], ['were'], ['aware'], ['that'], ['a'], ['bond'], ['offering'], ['was'], ['being'], ['scheduled'], [','], ['many'], ['expected'], ['a'], ['much'], ['smaller'], ['amount'], ['of'], ['bonds'], ['to'], ['be'], ['sold'], ['.']], [['：'], ['电视剧'], ['，'], ['是'], ['对'], ['广播电视自由'], ['的'], ['限制'], ['，'], ['也'], ['是'], ['用'], ['行政权力'], ['干涉'], ['大众娱乐取向'], ['；'], ['到底'], ['什么'], ['题材'], ['Friends'], ['pitched'], ['in.'], ['Then'], ['the'], ['world'], ['will'], ['know'], ['that'], ['you'], ['sent'], ['me'], ['and'], ['that'], ['you'], ['loved'], ['them'], ['just'], ['as'], ['you'], ['loved'], ['me'], ['.']], [['For'], ['example'], [','], ['he'], ['adopted'], ['a'], ['curfew'], ['for'], ['young'], ['people'], ['virtually'], ['unilaterally'], ['.']], [['They'], ['commonly'], ['give'], ['two'], ['scenarios'], [':'], ['One'], ['is'], ['based'], ['on'], ['interest'], ['rates'], ['that'], ['the'], ['company'], ['guarantees'], ['usually'], ['4'], ['%'], ['to'], ['4.5'], ['%'], ['and'], ['the'], ['other'], ['on'], ['the'], ['rate'], ['it'], ['is'], ['currently'], ['getting'], ['on'], ['investment'], [','], ['often'], ['8.5'], ['%'], ['or'], ['more'], ['.']], [['扣掉进口'], ['原料'], ['及'], ['各'], ['项'], ['成本'], ['后'], ['，'], ['纺织业'], ['更'], ['是'], ['我'], ['国'], ['第一'], ['大'], ['「'], ['创汇'], ['」'], ['产业'], ['，'], ['每'], ['年'], ['替'], ['台湾'], ['赚进'], ['一百多亿'], ['美元'], ['。'], ['I'], ['just'], ['wanted'], ['to'], ['break'], ['that'], ['league'], ['and'], ['survive'], ['in'], ['it'], ['as'], ['long'], ['as'], ['I'], ['could'], [','], ['and'], ['being'], ['in'], ['that'], ['position'], ['today'], ['is'], ['something'], ['big'], ['for'], ['me'], ['.']], [['“'], ['没有'], ['代表'], ['民意'], ['，'], ['不管'], ['它'], ['叫'], ['什么'], ['名字'], ['，'], ['形式'], ['上'], ['它'], ['是'], ['民意代表'], ['，'], ['那'], ['实质'], ['上'], ['它'], ['并没有'], ['代表'], ['民意'], ['，'], ['他们'], ['是'], ['国家'], ['的'], ['乱人'], ['啊'], ['。”'], ['Each'], ['chariot'], ['is'], ['assembled'], ['from'], ['over'], ['7,000'], ['different'], ['pieces'], [','], ['and'], ['is'], ['half'], ['the'], ['size'], ['of'], ['the'], ['original'], [','], ['which'], ['has'], ['been'], ['described'], ['as'], ['\"'], ['the'], ['most'], ['extraordinary'], ['bronze'], ['piece'], ['ever'], ['made'], ['\"'], ['on'], ['account'], ['of'], ['its'], ['huge'], ['size'], [','], ['complex'], ['structure'], [','], ['and'], ['lifelike'], ['realism'], ['.']], [['There'], ['are'], ['going'], ['to'], ['be'], ['big'], ['movements'], ['.']], [['虽然'], ['在'], ['民意测验'], ['中'], ['受挫'], ['，'], ['今年'], ['对于'], ['众议院'], ['和'], ['参议院竞选'], ['来说是'], ['一'], ['个'], ['非'], ['总统选举年'], ['．'], ['普京'], ['在'], ['起程返国'], ['前'], ['表示'], ['，'], ['在'], ['南国'], ['宪法法庭'], ['宣布'], ['９月２４号'], ['总统选举'], ['部分'], ['无效'], ['之后'], ['，'], ['俄国'], ['将'], ['调整'], ['他'], ['对'], ['这个'], ['事件'], ['的'], ['处理方针'], ['。'], ['Uh-huh.'], ['When'], ['they'], ['go'], ['shopping'], [','], ['they'], ['buy'], ['only'], ['South'], ['Korean'], ['products'], ['.']], [['The'], ['reasons'], ['are'], ['complex'], [','], ['but'], ['one'], ['simple'], ['reason'], ['ought'], ['not'], ['to'], ['be'], ['underestimated'], ['.']], [['Wang'], ['Chuang'], ['-'], ['wei'], ['was'], ['born'], ['in'], ['Hebei'], ['Province'], ['in'], ['1909'], [','], ['into'], ['an'], ['educated'], ['family'], ['-'], ['his'], ['father'], ['Wang'], ['Yi'], ['-'], ['pin'], ['was'], ['the'], ['last'], ['xiucai'], ['scholar'], ['-'], ['official'], ['of'], ['the'], ['Qing'], ['dynasty'], ['1644'], ['-'], ['1911'], ['.']], [['and'], ['%um'], ['then'], ['I'], ['have'], ['%um'], ['my'], ['Jewish'], ['Culture'], ['class'], ['%um'], ['taught'], ['by'], ['rabbi'], ['Rosen'], ['“'], ['重大的'], ['改变'], ['要看'], ['我们'], ['人民'], ['的'], ['力量'], ['、'], ['民众'], ['的'], ['力量'], ['、'], ['民众'], ['的'], ['声音'], ['，'], ['让'], ['今天'], ['的'], ['这个'], ['执政者'], ['能够'], ['真正的'], ['来'], ['虚心'], ['倾听'], ['，'], ['这'], ['才'], ['是'], ['我们'], ['的'], ['一'], ['个'], ['基本'], ['的'], ['心愿'], ['。”'], ['That'], ['may'], ['be'], ['because'], ['Mr.'], ['Gargan'], [','], ['smarting'], ['at'], ['what'], ['he'], ['considered'], ['slurs'], ['on'], ['his'], ['membership'], ['standards'], ['made'], ['by'], ['the'], ['rival'], ['group'], [','], ['enrolled'], ['his'], ['dog'], [','], ['Beauregard'], [','], ['as'], ['a'], ['member'], ['of'], ['the'], ['IAFP'], ['.']], [['他'], ['说'], ['，“'], ['和平'], ['”'], ['号轨道站'], ['上'], ['的'], ['食品'], ['尚'], ['可维持'], ['４０'], ['天'], ['的'], ['需求量'], ['。'], ['We'], ['could'], ['talk'], ['about'], ['email'], ['and'], ['stuff'], ['like'], ['that'], ['.']], [['The'], ['Jews'], ['thought'], ['that'], ['Paul'], ['had'], ['taken'], ['him'], ['into'], ['the'], ['holy'], ['area'], ['of'], ['the'], ['Temple'], ['.']], [['嗯'], ['。'], ['Shu'], ['Mu'], ['Yeng'], [','], ['the'], ['wife'], ['of'], ['cancer'], ['patient'], ['Lu'], ['Yo'], ['Ching'], ['.']], [['Among'], ['other'], ['concerns'], [','], ['the'], ['agency'], ['says'], ['researchers'], ['with'], ['business'], ['ties'], ['are'], ['more'], ['likely'], ['to'], ['falsify'], ['findings'], ['in'], ['order'], ['to'], ['tout'], ['new'], ['drugs'], ['.']], [['Over'], ['the'], ['years'], [','], ['it'], ['has'], ['helped'], ['encourage'], ['investments'], ['by'], ['entrepreneurs'], ['in'], ['the'], ['Third'], ['World'], ['through'], ['its'], ['extensive'], ['credit'], ['operations'], ['and'], ['through'], ['loans'], ['and'], ['investments'], ['by'], ['the'], ['International'], ['Finance'], ['Corp'], ['.']], [['王文江'], ['是'], ['一'], ['名'], ['律师'], ['，'], ['为'], ['持'], ['不重'], ['政见者'], ['作'], ['辩护'], ['，'], ['警方'], ['去年'], ['拘留'], ['他'], ['目的'], ['是'], ['不'], ['让'], ['他'], ['为'], ['中国'], ['民主党领袖'], ['王友财'], ['辩护'], ['。'], ['Like'], ['trying'], ['to'], ['buy'], ['life'], ['insurance'], [','], ['for'], ['instance'], [','], ['an'], ['endeavor'], ['notably'], ['lacking'], ['in'], ['dash'], ['.']], [['虽然'], ['南斯拉夫'], ['的'], ['革命'], ['迫使'], ['米洛舍维奇'], ['承认'], ['他'], ['在'], ['上'], ['个'], ['月'], ['的'], ['总统选举'], ['中'], ['失败'], ['，'], ['但是'], ['他'], ['的'], ['主要'], ['盟友'], ['还'], ['控制'], ['着'], ['南斯拉夫'], ['主要'], ['共和国'], ['塞尔维亚'], ['的'], ['议会'], ['和'], ['政府部门'], ['。'], ['「'], ['另'], ['一'], ['方面'], ['，'], ['岁末凋年'], ['更'], ['易'], ['提醒'], ['人们'], ['回顾检讨'], ['，」'], ['杨小云'], ['说'], ['，'], ['她'], ['每'], ['年'], ['除夕'], ['就一定'], ['要做'], ['一'], ['件'], ['例行'], ['功课'], ['：'], ['在'], ['家事'], ['告'], ['一'], ['段落'], ['后'], ['，'], ['时'], ['近'], ['午夜'], ['，'], ['年光'], ['交接'], ['之际'], ['，'], ['静'], ['坐下来反省'], ['和'], ['检讨'], ['一'], ['年'], ['的'], ['成长状态'], ['，'], ['制作'], ['「'], ['一'], ['年'], ['人生'], ['的'], ['损益表'], ['」，「'], ['这'], ['跟'], ['金钱'], ['的'], ['收益'], ['与'], ['亏损'], ['无关'], ['，'], ['而'], ['是'], ['考量'], ['自己'], ['在'], ['这'], ['一'], ['年'], ['里'], ['是否'], ['达成'], ['了'], ['预定'], ['的'], ['工作目标'], ['和'], ['成熟度'], ['，'], ['以及'], ['是否'], ['有'], ['一些'], ['恶习'], ['未'], ['改'], ['等'], ['？'], ['算是'], ['『'], ['精神'], ['的'], ['年菜'], ['』'], ['吧'], ['！」'], ['``'], ['It'], ['means'], ['that'], ['Sikes'], ['is'], ['serious'], ['about'], ['the'], ['deregulation'], ['of'], ['long'], ['distance'], [','], [\"''\"], ['said'], ['Jack'], ['Grubman'], [','], ['a'], ['telecommunications'], ['analyst'], ['at'], ['PaineWebber'], ['Inc.'], [','], ['who'], ['attended'], ['the'], ['FCC'], ['meeting'], ['.']], [['There'], ['was'], ['nothing'], ['about'], ['John'], ['Bolton'], ['as'], ['the'], ['architect'], ['for'], ['the'], ['war'], ['.']], [['我这边儿'], ['现在'], ['你'], ['要'], ['晚上的话'], [','], ['你'], ['还'], ['必须穿'], ['外套'], ['才'], ['行'], ['.']], [['否则'], ['冻'], ['的话'], [','], ['冷的话'], ['.']], [['Compare'], ['Taiwan'], ['to'], ['the'], ['US'], ['.']], [['But'], ['most'], ['U.S.'], ['insurers'], ['have'], [\"n't\"], ['rushed'], ['to'], ['change'], ['the'], ['way'], ['they'], ['do'], ['business'], ['in'], ['Europe'], ['because'], ['they'], ['believe'], ['the'], ['European'], ['market'], ['will'], ['still'], ['be'], ['dominated'], ['by'], ['a'], ['handful'], ['of'], ['domestic'], ['companies'], ['.']], [['After'], ['Iraq'], ['invaded'], ['Kuwait'], [','], ['China'], ['immediately'], ['stopped'], ['selling'], ['military'], ['equipment'], ['to'], ['Iraq'], ['.']], [['发信人'], ['：'], ['buabua'], ['（'], ['hj'], ['），'], ['信区'], ['：'], ['BusinessNews'], ['اذاع'], ['امس'], ['مدير'], ['المشاريع'], ['في'], ['مكتب'], ['الاونيسكو'], ['الاقليمي'], ['في'], ['بيروت'], ['جوزف'], ['كريدي'], ['توصيات'], ['ورشة'], ['العمل'], ['الاقليمية'], ['حول'], ['الاتجار'], ['غير'], ['المشروع'], ['ب'], ['الممتلكات'], ['الثقافية'], ['التي'], ['اقيمت'], ['اخيرا'], ['ب'], ['رعاية'], ['وزير'], ['الثقافة'], ['غسان'], ['سلامة'], ['و'], ['مشاركة'], ['ممثلي'], ['الجزائر'], ['و'], ['مصر'], ['و'], ['العراق'], ['و'], ['الاردن'], ['و'], ['لبنان'], ['و'], ['موريتانيا'], ['و'], ['المغرب'], ['و'], ['سلطنة'], ['عمان'], ['و'], ['المملكة'], ['العربية'], ['السعودية'], ['و'], ['السودان'], ['و'], ['سوريا'], ['و'], ['تونس'], ['و'], ['الامارات'], ['العربية'], ['المتحدة'], ['و'], ['اليمن'], [','], ['اضافة'], ['الى'], ['ممثلة'], ['مكتب'], ['الاونيسكو'], ['في'], ['باريس'], ['.']], [['It'], ['has'], ['been'], ['said'], [','], ['\"'], ['campaigning'], ['is'], ['like'], ['poetry'], [','], ['governing'], ['is'], ['like'], ['an'], ['essay'], ['.']], [['\"'], ['So'], [','], ['too'], [','], ['of'], ['course'], [','], ['could'], ['Saddam'], [\"'s\"], ['brutal'], ['1980s'], ['repression'], ['of'], ['the'], ['Shia'], [','], ['underlying'], ['the'], ['sectarian'], ['animus'], ['and'], ['resolve'], ['for'], ['vengeance'], ['and'], ['dominance'], ['by'], ['the'], ['U.S.'], ['-'], ['installed'], ['Shia'], ['regime'], ['after'], ['2003'], ['that'], ['shaped'], ['Rumsfeld'], [\"'s\"], [','], ['and'], ['America'], [\"'s\"], [','], ['historic'], ['failure'], ['in'], ['Iraq'], ['.']], [['Just'], ['then'], ['Jesus'], [\"'\"], ['followers'], ['came'], ['back'], ['from'], ['town'], ['.']], [['This'], ['would'], ['require'], ['Vice'], ['President'], ['Cheney'], ['to'], ['resign'], ['.']], [['Xinhua'], ['News'], ['Agency'], [','], ['Beijing'], [','], ['January'], ['14th'], [','], ['by'], ['reporter'], ['Zongming'], ['Zhou'], ['%huh.'], ['She'], [\"'s\"], ['a'], ['German'], ['chick'], ['They'], ['medicate'], ['with'], ['alcohol'], ['and'], ['too'], ['much'], ['food'], ['.']], [['But'], ['why'], ['not'], ['make'], ['conferences'], ['also'], ['similar'], ['to'], ['those'], ['first'], ['by'], ['targeting'], ['government'], ['ministries'], ['in'], ['particular'], ['.']], [['و'], ['لكن'], ['آليات'], ['التحكم'], ['هذه'], ['تطورت'], ['لدى'], ['البشر'], ['البدائيين'], ['الذين'], ['كانوا'], ['يجوعون'], ['على'], ['الارجح'], ['و'], ['يتبعون'], ['نظاماًغذائياً'], ['مختلفاً'], ['كلياً'], ['عن'], ['النظام'], ['الحالي'], ['.']], [['Then'], ['Elisha'], ['cut'], ['a'], ['stick'], ['and'], ['threw'], ['the'], ['stick'], ['into'], ['the'], ['water'], ['.']], [['I'], ['do'], [\"n't\"], ['know'], ['.']], [['And'], ['right'], ['now'], ['I'], ['think'], ['by'], ['any'], ['standard'], ['McCain'], ['is'], ['a'], ['frontrunner'], ['.']], [['不过'], ['我'], ['给'], ['米洛舍维奇'], ['思考'], ['的'], ['时间'], ['不'], ['多'], ['，'], ['因为'], ['他'], ['这'], ['次'], ['只'], ['有'], ['两'], ['个'], ['选择'], ['，'], ['一是'], ['尽快'], ['出国'], ['，'], ['二是'], ['面临'], ['塞尔维亚'], ['法院'], ['的'], ['审判'], ['。”'], ['و'], ['ل'], ['يتذكر'], ['مستحلو'], ['المحارم'], ['و'], ['مستبيحو'], ['الدماء'], ['علىأسرّة'], ['تخمت'], ['هم'], ['قول'], ['ابن'], ['نباته'], [':'], ['ب'], ['-'], ['في'], ['الاصلاح'], ['الجامعي'], [':'], ['After'], ['aggressive'], ['competition'], [','], ['the'], ['Zhongyi'], ['International'], ['Bidding'], ['Company'], ['won'], ['the'], ['bid'], [','], ['and'], ['will'], ['together'], ['with'], ['the'], ['China'], ['Electrical'], ['Import'], ['and'], ['Export'], ['Affiliation'], ['Company'], [','], ['provide'], ['the'], ['Railway'], ['Ministry'], ['with'], ['a'], ['total'], ['volume'], ['of'], ['220,000'], ['lines'], ['of'], ['program'], ['controlled'], ['switch'], ['equipment'], [','], ['with'], ['a'], ['total'], ['contract'], ['value'], ['of'], ['close'], ['to'], ['20'], ['million'], ['US'], ['dollars'], ['.']], [['My'], ['life'], ['was'], ['going'], ['to'], ['go'], ['out'], ['in'], ['flames'], ['.']], [['我们'], ['在'], ['澳门'], ['的'], ['一些'], ['景点'], ['和'], ['商业区'], ['采访'], ['的'], ['时候'], ['，'], ['也'], ['能够听到'], ['各'], ['国'], ['的'], ['语言'], ['，'], ['包括'], ['内地'], ['的'], ['各'], ['种'], ['方言'], ['，'], ['给'], ['人'], ['的'], ['感觉'], ['是'], ['澳门'], ['的'], ['旅游业'], ['旺起来'], ['了'], ['。'], ['so'], ['this'], ['helps'], ['a'], ['lot'], ['.']], [['当年'], ['父亲'], ['给'], ['他'], ['两'], ['本'], ['有关'], ['雾社'], ['事件'], ['的'], ['史料'], ['，'], ['促使'], ['邓相扬'], ['开始碰触'], ['这'], ['段'], ['敏感的'], ['历史'], ['，「'], ['我'], ['在'], ['民国'], ['七十'], ['年'], ['以后'], ['开始碰'], ['雾社'], ['事件'], ['，'], ['当时有'], ['人'], ['警告'], ['我'], ['要小心'], ['，」'], ['邓相扬'], ['说'], ['，'], ['早年台湾史'], ['很多'], ['人'], ['不'], ['敢碰'], ['，'], ['但'], ['机缘'], ['凑巧'], ['，'], ['当时'], ['台湾'], ['开始朝向'], ['多元化'], ['，'], ['再'], ['加上'], ['自己'], ['并'], ['非'], ['学者身份'], ['，'], ['做起来'], ['没有'], ['包袱'], ['。'], ['嗯'], ['.']], [['It'], [\"'s\"], ['worked'], ['out'], ['extremely'], ['well'], ['.']], [['U.S.'], ['officials'], ['keep'], ['finding'], ['cash'], ['hidden'], ['by'], ['Saddam'], [\"'s\"], ['regime'], ['.']], [['Chou'], ['You'], [','], ['who'], ['has'], ['produced'], ['more'], ['than'], ['4,000'], ['hours'], ['of'], ['dramatic'], ['series'], ['for'], ['television'], [','], ['says'], ['that'], ['prime'], ['time'], ['is'], ['like'], ['a'], ['battlefield'], ['for'], ['television'], ['stations'], ['.']], [['ف'], ['رحلت'], ['الى'], ['لندن'], ['و'], ['باريس'], ['.']]]\n"
     ]
    }
   ],
   "source": [
    "print(test_sentences_2)"
   ]
  },
  {
   "cell_type": "code",
   "execution_count": 331,
   "metadata": {},
   "outputs": [
    {
     "output_type": "execute_result",
     "data": {
      "text/plain": [
       "98807"
      ]
     },
     "metadata": {},
     "execution_count": 331
    }
   ],
   "source": [
    "len(test_sentences_2)"
   ]
  },
  {
   "cell_type": "code",
   "execution_count": 332,
   "metadata": {},
   "outputs": [],
   "source": [
    "#3.0 - Função para extrair as features do texto a ser rotulado\n",
    "\n",
    "def word2featuresO(sent, i):\n",
    "    #word = sent[i][0]\n",
    "    word = sent[i]\n",
    "    features = {\n",
    "        'bias': 1.0,\n",
    "        'word.lower()': word.lower(),\n",
    "        'word[-3:]': word[-3:],\n",
    "        'word[-2:]': word[-2:],\n",
    "        'word.isupper()': word.isupper(),\n",
    "        'word.istitle()': word.istitle(),\n",
    "        'word.isdigit()': word.isdigit()  \n",
    "    }\n",
    "    if i > 0:\n",
    "        word1 = sent[i-1]\n",
    "        features.update({\n",
    "            '-1:word.lower()': word1.lower(),\n",
    "            '-1:word.istitle()': word1.istitle(),\n",
    "            '-1:word.isupper()': word1.isupper()\n",
    "        })\n",
    "    else:\n",
    "        features['BOS'] = True\n",
    "        \n",
    "    if i < len(sent)-1:\n",
    "        word1 = sent[i+1]       \n",
    "        features.update({\n",
    "            '+1:word.lower()': word1.lower(),\n",
    "            '+1:word.istitle()': word1.istitle(),\n",
    "            '+1:word.isupper()': word1.isupper()\n",
    "        })\n",
    "    else:\n",
    "        features['EOS'] = True\n",
    "                \n",
    "    return features"
   ]
  },
  {
   "cell_type": "code",
   "execution_count": 333,
   "metadata": {},
   "outputs": [],
   "source": [
    "#3.1 - Função para chamada da Função para extrair as features do texto a ser rotulado\n",
    "def sent2featuresO(sent):\n",
    "    return [word2featuresO(sent, i) for i in range(len(sent))]"
   ]
  },
  {
   "cell_type": "code",
   "execution_count": 334,
   "metadata": {
    "tags": []
   },
   "outputs": [],
   "source": [
    "#3.2 - Extrai as fetatures de X_test \n",
    "X_test = [[sent2featuresO(s) for s in text] for text in test_sentences_2]"
   ]
  },
  {
   "cell_type": "code",
   "execution_count": null,
   "metadata": {
    "tags": []
   },
   "outputs": [],
   "source": [
    "len(X_test)"
   ]
  },
  {
   "cell_type": "code",
   "execution_count": null,
   "metadata": {},
   "outputs": [],
   "source": [
    "X_test[0]"
   ]
  },
  {
   "cell_type": "code",
   "execution_count": 336,
   "metadata": {},
   "outputs": [],
   "source": [
    "#3.2 - Retira o X_teste de dentro da lista aninhada para execução do y_pred\n",
    "for i in range(len(X_test)):\n",
    "        X_test[i] = [i[0] for i in X_test[i]]"
   ]
  },
  {
   "source": [
    "4 - Passo: Gerar o y_pred = rotulos preditos para o texto não rotulado"
   ],
   "cell_type": "markdown",
   "metadata": {}
  },
  {
   "cell_type": "code",
   "execution_count": 347,
   "metadata": {},
   "outputs": [],
   "source": [
    "#4.1 - Aplica o modelo treinado no dataset sem rotulos\n",
    "y_pred = crf.predict(X_test)\n"
   ]
  },
  {
   "cell_type": "code",
   "execution_count": 348,
   "metadata": {},
   "outputs": [
    {
     "output_type": "execute_result",
     "data": {
      "text/plain": [
       "98807"
      ]
     },
     "metadata": {},
     "execution_count": 348
    }
   ],
   "source": [
    "len(y_pred)"
   ]
  },
  {
   "cell_type": "code",
   "execution_count": 350,
   "metadata": {
    "tags": []
   },
   "outputs": [],
   "source": [
    "#Checa se as word do Y_test com o Y_pred estão batendo\n",
    " #len(sentences_trat) , len(arq_sentences_2) \n",
    " \n",
    "for i in range(len(arq_sentences_2)):\n",
    "    predicao = arq_sentences_2[i].split()\n",
    "    real =  sentences_trat[i].split()\n",
    "    #print('predicao',predicao[0] )\n",
    "    #print('real', real[0])\n",
    "    if predicao[0] != real[0]:\n",
    "        print(i)\n",
    "        print('real', real, count)\n",
    "        print('predicao', predicao, count)"
   ]
  },
  {
   "cell_type": "code",
   "execution_count": null,
   "metadata": {},
   "outputs": [],
   "source": [
    "\n",
    "print ('predicao', arq_sentences_2[141346:141349].split())\n",
    "print ('real' ,  sentences_trat[141346:141349].split()\n"
   ]
  },
  {
   "cell_type": "code",
   "execution_count": 351,
   "metadata": {
    "tags": []
   },
   "outputs": [
    {
     "output_type": "stream",
     "name": "stdout",
     "text": [
      "word do y_test   ==> [['angstrom', 'B-PER'], ['Larry', 'B-PER'], ['Drury', 'B-PER'], [',', 'O'], ['attorney', 'O'], ['for', 'O'], ['the', 'O'], ['plaintiffs', 'O'], [',', 'O'], ['valued', 'O'], ['the', 'O'], ['settlement', 'O'], ['at', 'O'], ['between', 'MONEY'], ['$', 'MONEY'], ['6', 'MONEY'], ['million', 'MONEY'], ['and', 'MONEY'], ['$', 'MONEY'], ['8', 'MONEY'], ['million', 'MONEY'], ['.', 'O']] \n\nword do y_pred   ==> [['angstrom'], ['Larry'], ['Drury'], [','], ['attorney'], ['for'], ['the'], ['plaintiffs'], [','], ['valued'], ['the'], ['settlement'], ['at'], ['between'], ['$'], ['6'], ['million'], ['and'], ['$'], ['8'], ['million'], ['.']] \n\nlabel do y_test  ==> ['B-PER', 'B-PER', 'B-PER', 'O', 'O', 'O', 'O', 'O', 'O', 'O', 'O', 'O', 'O', 'MONEY', 'MONEY', 'MONEY', 'MONEY', 'MONEY', 'MONEY', 'MONEY', 'MONEY', 'O'] \n\nlabel do y_pred  ==> ['O', 'O', 'O', 'O', 'O', 'O', 'O', 'O', 'O', 'O', 'O', 'O', 'O', 'O', 'O', 'O', 'O', 'O', 'O', 'O', 'O', 'O'] \n\n"
     ]
    }
   ],
   "source": [
    "print('word do y_test   ==>', arq_sentences_1[140],'\\n')\n",
    "print('word do y_pred   ==>', test_sentences_2[140],'\\n')\n",
    "print('label do y_test  ==>',y_test[140],'\\n')\n",
    "print('label do y_pred  ==>',y_pred[140],'\\n')"
   ]
  },
  {
   "cell_type": "code",
   "execution_count": 352,
   "metadata": {},
   "outputs": [
    {
     "output_type": "stream",
     "name": "stdout",
     "text": [
      "Qtde labels preditos 4238\ntamanho y_pred 98807\n"
     ]
    }
   ],
   "source": [
    "count = 0\n",
    "for i,x in enumerate(y_pred):\n",
    "        ss=set(x)\n",
    "        if len(ss) > 1:\n",
    "            count+=1\n",
    "print(\"Qtde labels preditos\", count)\n",
    "print(\"tamanho y_pred\", len(y_pred))"
   ]
  },
  {
   "source": [
    "Avaliação\n",
    "\n",
    "There is much more O entities in data set, but we’re more interested in other entities. To account for this we’ll use averaged F1 score computed for all labels except for O. sklearn-crfsuite.metrics package provides some useful metrics for sequence classification task, including this one."
   ],
   "cell_type": "markdown",
   "metadata": {}
  },
  {
   "cell_type": "code",
   "execution_count": 353,
   "metadata": {},
   "outputs": [
    {
     "output_type": "execute_result",
     "data": {
      "text/plain": [
       "['B-MISC', 'B-PER', 'I-PER', 'B-LOC', 'B-ORG', 'I-ORG', 'I-MISC', 'I-LOC']"
      ]
     },
     "metadata": {},
     "execution_count": 353
    }
   ],
   "source": [
    "#PERSON == 'B-PER' 'I-PER' (CONLL), ORG == 'B-ORG', GPE == 'B-LOC' 'I-LOC' (CONLL), MISC == TUDO QUE NAO AS OUTRAS 3 NO CONLL\n",
    "labels = list(crf.classes_)\n",
    "labels.remove('O')\n",
    "labels\n"
   ]
  },
  {
   "cell_type": "code",
   "execution_count": null,
   "metadata": {
    "tags": [
     "outputPrepend"
    ]
   },
   "outputs": [],
   "source": [
    "#Imprime os Labels do Y_pred diferentes de 'O'\n",
    "\n",
    "#for i in range(len(y_pred)):\n",
    "#    if y_pred[i]!= ('O'): \n",
    "#        print(y_pred[i])    \n",
    "\n",
    "for linha in y_pred:        \n",
    "    #print(list(linha))\n",
    "    for palavra in linha:\n",
    "          if palavra!= ('O'): \n",
    "                print(palavra)   "
   ]
  },
  {
   "cell_type": "code",
   "execution_count": 361,
   "metadata": {
    "tags": []
   },
   "outputs": [
    {
     "output_type": "stream",
     "name": "stdout",
     "text": [
      "Qtde labels preditos 4238\ntamanho em sentencas y_test 98807\ntamanho em sentencas y_pred 98807\ntamanho em linhas y_test  ==> 3103448\ntamanho em linhas y_pred  ==> 3103448\n"
     ]
    }
   ],
   "source": [
    "#Imprime o tamanho do y_test e y_pred e qtde de label predita\n",
    "count = 0\n",
    "for i,x in enumerate(y_pred):\n",
    "        ss=set(x)\n",
    "        if len(ss) > 1:\n",
    "            count+=1\n",
    "print(\"Qtde labels preditos\", count)\n",
    "print(\"tamanho em sentencas y_test\", len(y_test))\n",
    "print(\"tamanho em sentencas y_pred\", len(y_pred))\n",
    "print('tamanho em linhas y_test  ==>', len(arq_sentences))\n",
    "print('tamanho em linhas y_pred  ==>', len(arq_sentences_3))\n",
    "\n",
    "#Ontonotes sem rotulos ==> 1639268 (linhas)\n",
    "#                           153956 (sentencas)\n",
    "\n",
    "#Ontonotes com rotulos y_ test==> 3160787 (linhas)\n",
    "#                            98836 (sentencas) \n",
    "\n",
    "#ValueError: Found input variables with inconsistent numbers of samples: [3004715, 1485302]"
   ]
  },
  {
   "cell_type": "code",
   "execution_count": 354,
   "metadata": {},
   "outputs": [
    {
     "output_type": "execute_result",
     "data": {
      "text/plain": [
       "0.06900161764121217"
      ]
     },
     "metadata": {},
     "execution_count": 354
    }
   ],
   "source": [
    "metrics.flat_f1_score(y_test, y_pred, \n",
    "                      average='weighted', labels=labels)"
   ]
  },
  {
   "source": [
    "Inspect per-class results in more detail:"
   ],
   "cell_type": "markdown",
   "metadata": {}
  },
  {
   "cell_type": "code",
   "execution_count": 355,
   "metadata": {},
   "outputs": [
    {
     "output_type": "stream",
     "name": "stdout",
     "text": [
      "              precision    recall  f1-score   support\n\n       B-LOC      0.817     0.071     0.130     46165\n       I-LOC      0.000     0.000     0.000         0\n      B-MISC      0.000     0.000     0.000         0\n      I-MISC      0.000     0.000     0.000         0\n       B-ORG      0.000     0.000     0.000         0\n       I-ORG      0.000     0.000     0.000         0\n       B-PER      0.517     0.006     0.012     49382\n       I-PER      0.000     0.000     0.000         0\n\n   micro avg      0.754     0.037     0.071     95547\n   macro avg      0.167     0.010     0.018     95547\nweighted avg      0.662     0.037     0.069     95547\n\n"
     ]
    }
   ],
   "source": [
    "# group B and I results\n",
    "sorted_labels = sorted(\n",
    "    labels,\n",
    "    key=lambda name: (name[1:], name[0])\n",
    ")\n",
    "print(metrics.flat_classification_report(\n",
    "    y_test, y_pred, labels=sorted_labels, digits=3\n",
    "))"
   ]
  },
  {
   "source": [
    "Hyperparameter Optimization\n",
    "\n",
    "To improve quality try to select regularization parameters using randomized search and 3-fold cross-validation.\n",
    "\n",
    "I takes quite a lot of CPU time and RAM (we’re fitting a model 50 * 3 = 150 times), so grab a tea and be patient, or reduce n_iter in RandomizedSearchCV, or fit model only on a subset of training data.\n",
    "\n"
   ],
   "cell_type": "markdown",
   "metadata": {}
  },
  {
   "cell_type": "code",
   "execution_count": null,
   "metadata": {},
   "outputs": [],
   "source": [
    "%%time\n",
    "# define fixed parameters and parameters to search\n",
    "crf = sklearn_crfsuite.CRF(\n",
    "    algorithm='lbfgs',\n",
    "    max_iterations=100,\n",
    "    all_possible_transitions=True\n",
    ")\n",
    "params_space = {\n",
    "    'c1': scipy.stats.expon(scale=0.5),\n",
    "    'c2': scipy.stats.expon(scale=0.05),\n",
    "}\n",
    "\n",
    "# use the same metric for evaluation\n",
    "f1_scorer = make_scorer(metrics.flat_f1_score,\n",
    "                        average='weighted', labels=labels)\n",
    "\n",
    "# search\n",
    "rs = RandomizedSearchCV(crf, params_space,\n",
    "                        cv=3,\n",
    "                        verbose=1,\n",
    "                        n_jobs=-1,\n",
    "                        n_iter=50,\n",
    "                        scoring=f1_scorer)\n",
    "rs.fit(X_train, y_train)"
   ]
  },
  {
   "source": [
    "Best result:"
   ],
   "cell_type": "markdown",
   "metadata": {}
  },
  {
   "cell_type": "code",
   "execution_count": null,
   "metadata": {},
   "outputs": [],
   "source": [
    "# crf = rs.best_estimator_\n",
    "print('best params:', rs.best_params_)\n",
    "print('best CV score:', rs.best_score_)\n",
    "print('model size: {:0.2f}M'.format(rs.best_estimator_.size_ / 1000000))"
   ]
  },
  {
   "cell_type": "code",
   "execution_count": null,
   "metadata": {},
   "outputs": [],
   "source": [
    "Check parameter space\n",
    "\n",
    "A chart which shows which c1 and c2 values have RandomizedSearchCV checked. Red color means better results, blue means worse."
   ]
  },
  {
   "cell_type": "code",
   "execution_count": null,
   "metadata": {},
   "outputs": [],
   "source": [
    "_x = [s.parameters['c1'] for s in rs.grid_scores_]\n",
    "_y = [s.parameters['c2'] for s in rs.grid_scores_]\n",
    "_c = [s.mean_validation_score for s in rs.grid_scores_]\n",
    "\n",
    "fig = plt.figure()\n",
    "fig.set_size_inches(12, 12)\n",
    "ax = plt.gca()\n",
    "ax.set_yscale('log')\n",
    "ax.set_xscale('log')\n",
    "ax.set_xlabel('C1')\n",
    "ax.set_ylabel('C2')\n",
    "ax.set_title(\"Randomized Hyperparameter Search CV Results (min={:0.3}, max={:0.3})\".format(\n",
    "    min(_c), max(_c)))\n",
    "\n",
    "ax.scatter(_x, _y, c=_c, s=60, alpha=0.9, edgecolors=[0,0,0])\n",
    "\n",
    "print(\"Dark blue => {:0.4}, dark red => {:0.4}\".format(min(_c), max(_c)))"
   ]
  },
  {
   "source": [
    "Check best estimator on our test data\n",
    "\n",
    "As you can see, quality is improved."
   ],
   "cell_type": "markdown",
   "metadata": {}
  },
  {
   "cell_type": "code",
   "execution_count": null,
   "metadata": {},
   "outputs": [],
   "source": [
    "crf = rs.best_estimator_\n",
    "y_pred = crf.predict(X_test)\n",
    "print(metrics.flat_classification_report(\n",
    "    y_test, y_pred, labels=sorted_labels, digits=3\n",
    "))\n"
   ]
  },
  {
   "source": [
    "Let’s check what classifier learned"
   ],
   "cell_type": "markdown",
   "metadata": {}
  },
  {
   "cell_type": "code",
   "execution_count": null,
   "metadata": {},
   "outputs": [],
   "source": [
    "#Let’s check what classifier learned\n",
    "from collections import Counter\n",
    "\n",
    "def print_transitions(trans_features):\n",
    "    for (label_from, label_to), weight in trans_features:\n",
    "        print(\"%-6s -> %-7s %0.6f\" % (label_from, label_to, weight))\n",
    "\n",
    "print(\"Top likely transitions:\")\n",
    "print_transitions(Counter(crf.transition_features_).most_common(20))\n",
    "\n",
    "print(\"\\nTop unlikely transitions:\")\n",
    "print_transitions(Counter(crf.transition_features_).most_common()[-20:])"
   ]
  },
  {
   "source": [
    "We can see that, for example, it is very likely that the beginning of an organization name (B-ORG) will be followed by a token inside organization name (I-ORG), but transitions to I-ORG from tokens with other labels are penalized.\n",
    "\n",
    "Check the state features:\n",
    "\n"
   ],
   "cell_type": "markdown",
   "metadata": {}
  },
  {
   "cell_type": "code",
   "execution_count": null,
   "metadata": {},
   "outputs": [],
   "source": [
    "def print_state_features(state_features):\n",
    "    for (attr, label), weight in state_features:\n",
    "        print(\"%0.6f %-8s %s\" % (weight, label, attr))\n",
    "\n",
    "print(\"Top positive:\")\n",
    "print_state_features(Counter(crf.state_features_).most_common(30))\n",
    "\n",
    "print(\"\\nTop negative:\")\n",
    "print_state_features(Counter(crf.state_features_).most_common()[-30:])"
   ]
  },
  {
   "cell_type": "code",
   "execution_count": null,
   "metadata": {},
   "outputs": [],
   "source": [
    "## carregar a base ontonotes - ok\n",
    "## fazer mapeamento das labels - ok\n",
    "## fazer a predição - ok\n",
    "## fazer a comparação entre y_predito e y_real - ok"
   ]
  },
  {
   "cell_type": "code",
   "execution_count": null,
   "metadata": {},
   "outputs": [],
   "source": [
    "\n",
    "#Manipulando lista\n",
    "l = [1,2,3,4,5]\n",
    "\n",
    "#criando listas\n",
    "l = [[w] for w in \"We dont like it\".split()]\n",
    "l\n",
    "\n",
    "def sum(i):\n",
    "        return i+20\n",
    "[sum(x) for x in l]"
   ]
  },
  {
   "cell_type": "code",
   "execution_count": null,
   "metadata": {},
   "outputs": [],
   "source": [
    "#str(test_sentences_label_1[0]).strip('[]')\n",
    "#t=','.join(test_sentences_label_1)\n",
    "cars = (['rav4'], ['td5'], ['yaris'], ['land rover tdi']) \n",
    "\n",
    "print(\"I like the \"+cars[0][0]+\" ...\")"
   ]
  },
  {
   "cell_type": "code",
   "execution_count": null,
   "metadata": {},
   "outputs": [],
   "source": [
    "#X_text = [i for i in X_test_1] \n",
    "#import copy\n",
    "#X_text = [copy.copy(X_test_1)]\n",
    "#nova_lista is lista"
   ]
  },
  {
   "cell_type": "code",
   "execution_count": null,
   "metadata": {},
   "outputs": [],
   "source": [
    "#Muda o label na lista para o formato do Ontonotes  \n",
    "lista = []\n",
    "for p in y_pred:\n",
    "  for x in t:\n",
    "    #print(x)\n",
    "    if (x=='B-LOC'):\n",
    "        print(x)\n",
    "        lista.append('LOC')\n",
    "    if (x=='B-PER'):\n",
    "        print(x)\n",
    "        lista.append('PER')\n",
    "        print(lista) "
   ]
  },
  {
   "cell_type": "code",
   "execution_count": null,
   "metadata": {},
   "outputs": [],
   "source": [
    "#Exemplo\n",
    "#Retira os espaços em branco da lista test_sentences_1\n",
    "lista=[]\n",
    "for t in test_sentences_1:\n",
    "    if len(t)!=0:\n",
    "        lista.append([i[0] for i in t])\n",
    "    #else:\n",
    "    #    lista.append('\\n')\n",
    "#lista[0:5]\n",
    "\n",
    "#Exemplo\n",
    "#Retira os espaços em branco da lista test_sentences_1\n",
    "lista_y=[]\n",
    "for t in test_sentences_label_1:\n",
    "    if len(t)!=0:\n",
    "        lista_y.append([i[0] for i in t])\n",
    "    #else:\n",
    "    #    lista.append('\\n')\n",
    "#lista[0:5]\n",
    "\n",
    "#Exemplo\n",
    "#setenca=(zip(t[0],t[1])) for t in zip(test_sentences_1, y_pred)\n",
    "#zip(test_sentences_1[],y_pred[])\n",
    "#substantivo = ['O', 'O', 'O', 'O', 'O', 'O', 'O', 'O', 'O', 'O']\n",
    "#print(substantivo)\n",
    "#adjetivo = ['be', 'closed', 'for', 'the', 'rest', 'of', 'the', 'week', 'Anderson', '.']\n",
    "#print(adjetivo)\n",
    "#['%s %s' % (s, a) for s in substantivo for a in adjetivo ]\n",
    "#['pão pequeno', 'pé pequeno', 'carro caro', 'bolo bonito', 'bolo bom']\n",
    "\n",
    "\n",
    "\n",
    "#Exemplo \n",
    "#t=list('%s %s' % (s, a) for s in lista[0] for a in y_pred[0])\n",
    " #t\n",
    "\n",
    "#Exemplo\n",
    "#Concatena a palavra e o rotulo predito\n",
    "l = [list(zip(x, y)) for x, y in zip(lista, lista_y)]\n",
    "#print(l[0:20])\n",
    "\n",
    "#Exemplo\n",
    "for p in y_pred:\n",
    "    for r in p:\n",
    "#        #print(r)\n",
    "        if (r=='LOC' or r=='PER'):\n",
    "            #n=[i for i,x in enumerate(r)]\n",
    "            a=[list(zip(lista, lista_y))]\n",
    "            print(a)\n",
    "            #Concatena a palavra e o rotulo predito\n",
    "\n",
    "#print(l[0:20]\n",
    "#transforma a lista em sentenca\n",
    "texto_1 = ''\n",
    "for linha in a:\n",
    "    for z in linha:\n",
    "        texto_1='sentenca'+ (texto_1) +(z) + '\\n'\n",
    "# Write the file out again\n",
    "with open('/home/82068895153/POS/skweak/data/Ontonotes/train_labeled_comp.txt', 'wt') as fileout:\n",
    "  fileout.write(texto_1)\n",
    "#Exemplo\n",
    "#transforma a lista em sentenca\n",
    "texto = ''\n",
    "for linha in l:\n",
    "    for z,t in linha:\n",
    "        texto=texto + str(z)+' '+ t + '\\n'\n",
    "#Exemplo\n",
    "Texto = 'who was tagged for a pair of homers by Mike Devereaux and Brady Anderson and three runs in the ninth'\n",
    "\n",
    "#Exemplo\n",
    "tokenized = [Texto.split()]\n",
    "tokenized\n",
    "\n",
    "#exemplo\n",
    "#percorre a letra dentro da word dentro da sentenca\n",
    "X_t1 = [[sent2featuresO(s) for s in text] for text in tokenized]\n",
    "X_t1\n",
    "\n",
    "#exemplo\n",
    "#percorre a word dentro da sentença, mas sem criar uma nova lista\n",
    "X_t1 =  [sent2featuresO(s) for s in tokenized]\n",
    "X_t1\n",
    "\n",
    "#exemplo\n",
    "y_t = crf.predict(X_t1)\n",
    "y_t\n",
    "\n",
    "#exemplo\n",
    "#Pega apenas a word da\n",
    "for i in range(len(X_t1)):\n",
    "        X_t1[i] = [i[0] for i in X_t1[i]]\n",
    "\n",
    "#exemplo\n",
    "print ('predicao', l[0] )\n",
    "print ('rotulos reais', y_test[0], test_sentences_label[0])\n",
    "\n",
    "\n",
    "#Exemplo\n",
    "texto = texto.replace('I-','').replace('O-','')\n",
    "texto"
   ]
  }
 ],
 "metadata": {
  "kernelspec": {
   "display_name": "Python 3 (ipykernel)",
   "language": "python",
   "name": "python3"
  },
  "language_info": {
   "codemirror_mode": {
    "name": "ipython",
    "version": 3
   },
   "file_extension": ".py",
   "mimetype": "text/x-python",
   "name": "python",
   "nbconvert_exporter": "python",
   "pygments_lexer": "ipython3",
   "version": "3.9.9-final"
  }
 },
 "nbformat": 4,
 "nbformat_minor": 2
}