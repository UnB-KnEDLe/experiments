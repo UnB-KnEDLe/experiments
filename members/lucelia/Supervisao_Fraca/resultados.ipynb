{
 "cells": [
  {
   "cell_type": "code",
   "execution_count": 1,
   "metadata": {},
   "outputs": [],
   "source": [
    "import numpy as np\n",
    "from statistics import mean, stdev"
   ]
  },
  {
   "cell_type": "code",
   "execution_count": 2,
   "metadata": {},
   "outputs": [],
   "source": [
    "labels = ['B-numero_contrato',\n",
    " 'B-processo_gdf',\n",
    " 'I-processo_gdf',\n",
    " 'B-orgao_contratante',\n",
    " 'I-orgao_contratante',\n",
    " 'B-entidade_contratada',\n",
    " 'I-entidade_contratada',\n",
    " 'B-objeto_contrato',\n",
    " 'I-objeto_contrato',\n",
    " 'B-valor_contrato',\n",
    " 'B-programa_trabalho',\n",
    " 'B-fonte_recurso',\n",
    " 'B-nota_empenho',\n",
    " 'B-vigencia_contrato',\n",
    " 'I-vigencia_contrato',\n",
    " 'B-natureza_despesa',\n",
    " 'B-data_assinatura_contrato',\n",
    " 'B-unidade_orcamentaria',\n",
    " 'I-data_assinatura_contrato',\n",
    " 'B-nome_responsavel',\n",
    " 'I-nome_responsavel',\n",
    " 'I-numero_contrato',\n",
    " 'B-cnpj_entidade_contratada',\n",
    " 'I-cnpj_entidade_contratada',\n",
    " 'I-fonte_recurso',\n",
    " 'I-programa_trabalho',\n",
    " 'B-codigo_siggo',\n",
    " 'I-codigo_siggo',\n",
    " 'I-nota_empenho',\n",
    " 'I-valor_contrato',\n",
    " 'B-cnpj_orgao_contratante',\n",
    " 'I-cnpj_orgao_contratante',\n",
    " 'I-unidade_orcamentaria',\n",
    " 'I-natureza_despesa']"
   ]
  },
  {
   "cell_type": "code",
   "execution_count": 5,
   "metadata": {},
   "outputs": [],
   "source": [
    "atos = ['EXTRATO_CONTRATO']"
   ]
  },
  {
   "cell_type": "code",
   "execution_count": 6,
   "metadata": {},
   "outputs": [],
   "source": [
    "for ato in atos:\n",
    "    with open(f\"./Results/Tabela_Resultados_{ato}\", 'w+') as file:\n",
    "        for item in labels_sk:\n",
    "            file.write(\"{} \".format(item.replace(\"_\", \" \")))\n",
    "            valores = []\n",
    "            #print(item)\n",
    "            for exec in range(5):\n",
    "                metricas = (np.load(f\"./Results/METRICA_{ato}_{exec}.npy\",allow_pickle=True)).tolist()\n",
    "                #print(metricas)\n",
    "                a = metricas[item][\"f1-score\"]\n",
    "                valores.append(a)\n",
    "\n",
    "                file.write(\"& {} \".format(round(a,3)))\n",
    "            file.write(\"& {} & {}\".format(round(mean(valores),3),round(stdev(valores),3)))\n",
    "            file.write(\" \\\\\\\\ \\n\")\n",
    "        "
   ]
  },
  {
   "cell_type": "code",
   "execution_count": 3,
   "metadata": {},
   "outputs": [],
   "source": [
    "labels_sk = ['B-numero_contrato',\n",
    " 'B-processo_gdf',\n",
    " 'I-processo_gdf',\n",
    " 'B-data_assinatura_contrato',\n",
    " 'B-unidade_orcamentaria',\n",
    " 'B-programa_trabalho',\n",
    " 'B-natureza_despesa',\n",
    " 'B-nota_empenho',\n",
    " 'B-valor_contrato',\n",
    " 'I-programa_trabalho',\n",
    " 'I-natureza_despesa',\n",
    " 'I-nota_empenho',\n",
    " 'I-numero_contrato',\n",
    " 'I-data_assinatura_contrato',\n",
    " 'I-unidade_orcamentaria']"
   ]
  },
  {
   "cell_type": "code",
   "execution_count": 5,
   "metadata": {},
   "outputs": [
    {
     "ename": "FileNotFoundError",
     "evalue": "[Errno 2] No such file or directory: './Results/METRICA_EXTRATO_CONTRATO_SKWEAK_1.npy'",
     "output_type": "error",
     "traceback": [
      "\u001b[0;31m---------------------------------------------------------------------------\u001b[0m",
      "\u001b[0;31mFileNotFoundError\u001b[0m                         Traceback (most recent call last)",
      "Input \u001b[0;32mIn [5]\u001b[0m, in \u001b[0;36m<cell line: 1>\u001b[0;34m()\u001b[0m\n\u001b[1;32m      6\u001b[0m \u001b[38;5;66;03m#print(item)\u001b[39;00m\n\u001b[1;32m      7\u001b[0m \u001b[38;5;28;01mfor\u001b[39;00m exec \u001b[38;5;129;01min\u001b[39;00m \u001b[38;5;28mrange\u001b[39m(\u001b[38;5;241m3\u001b[39m):\n\u001b[0;32m----> 8\u001b[0m     metricas \u001b[38;5;241m=\u001b[39m (\u001b[43mnp\u001b[49m\u001b[38;5;241;43m.\u001b[39;49m\u001b[43mload\u001b[49m\u001b[43m(\u001b[49m\u001b[38;5;124;43mf\u001b[39;49m\u001b[38;5;124;43m\"\u001b[39;49m\u001b[38;5;124;43m./Results/METRICA_\u001b[39;49m\u001b[38;5;132;43;01m{\u001b[39;49;00m\u001b[43mato\u001b[49m\u001b[38;5;132;43;01m}\u001b[39;49;00m\u001b[38;5;124;43m_SKWEAK_\u001b[39;49m\u001b[38;5;132;43;01m{\u001b[39;49;00m\u001b[43mexec\u001b[49m\u001b[38;5;132;43;01m}\u001b[39;49;00m\u001b[38;5;124;43m.npy\u001b[39;49m\u001b[38;5;124;43m\"\u001b[39;49m\u001b[43m,\u001b[49m\u001b[43mallow_pickle\u001b[49m\u001b[38;5;241;43m=\u001b[39;49m\u001b[38;5;28;43;01mTrue\u001b[39;49;00m\u001b[43m)\u001b[49m)\u001b[38;5;241m.\u001b[39mtolist()\n\u001b[1;32m      9\u001b[0m     \u001b[38;5;66;03m#print(metricas)\u001b[39;00m\n\u001b[1;32m     10\u001b[0m     a \u001b[38;5;241m=\u001b[39m metricas[item][\u001b[38;5;124m\"\u001b[39m\u001b[38;5;124mf1-score\u001b[39m\u001b[38;5;124m\"\u001b[39m]\n",
      "File \u001b[0;32m~/Experimentos/venv/lib/python3.8/site-packages/numpy/lib/npyio.py:390\u001b[0m, in \u001b[0;36mload\u001b[0;34m(file, mmap_mode, allow_pickle, fix_imports, encoding)\u001b[0m\n\u001b[1;32m    388\u001b[0m     own_fid \u001b[38;5;241m=\u001b[39m \u001b[38;5;28;01mFalse\u001b[39;00m\n\u001b[1;32m    389\u001b[0m \u001b[38;5;28;01melse\u001b[39;00m:\n\u001b[0;32m--> 390\u001b[0m     fid \u001b[38;5;241m=\u001b[39m stack\u001b[38;5;241m.\u001b[39menter_context(\u001b[38;5;28;43mopen\u001b[39;49m\u001b[43m(\u001b[49m\u001b[43mos_fspath\u001b[49m\u001b[43m(\u001b[49m\u001b[43mfile\u001b[49m\u001b[43m)\u001b[49m\u001b[43m,\u001b[49m\u001b[43m \u001b[49m\u001b[38;5;124;43m\"\u001b[39;49m\u001b[38;5;124;43mrb\u001b[39;49m\u001b[38;5;124;43m\"\u001b[39;49m\u001b[43m)\u001b[49m)\n\u001b[1;32m    391\u001b[0m     own_fid \u001b[38;5;241m=\u001b[39m \u001b[38;5;28;01mTrue\u001b[39;00m\n\u001b[1;32m    393\u001b[0m \u001b[38;5;66;03m# Code to distinguish from NumPy binary files and pickles.\u001b[39;00m\n",
      "\u001b[0;31mFileNotFoundError\u001b[0m: [Errno 2] No such file or directory: './Results/METRICA_EXTRATO_CONTRATO_SKWEAK_1.npy'"
     ]
    }
   ],
   "source": [
    "for ato in atos:\n",
    "    with open(f\"./Results/Tabela_Resultados_{ato}_SKWEAK\", 'w+') as file:\n",
    "        for item in labels_sk:\n",
    "            file.write(\"{} \".format(item.replace(\"_\", \" \")))\n",
    "            valores = []\n",
    "            #print(item)\n",
    "            for exec in range(3):\n",
    "                metricas = (np.load(f\"./Results/METRICA_{ato}_SKWEAK_{exec}.npy\",allow_pickle=True)).tolist()\n",
    "                #print(metricas)\n",
    "                a = metricas[item][\"f1-score\"]\n",
    "                valores.append(a)\n",
    "\n",
    "                file.write(\"& {} \".format(round(a,3)))\n",
    "            file.write(\"& {} & {}\".format(round(mean(valores),3),round(stdev(valores),3)))\n",
    "            file.write(\" \\\\\\\\ \\n\")\n",
    "        "
   ]
  }
 ],
 "metadata": {
  "kernelspec": {
   "display_name": "Python 3.8.10 ('.venv': venv)",
   "language": "python",
   "name": "python3"
  },
  "language_info": {
   "codemirror_mode": {
    "name": "ipython",
    "version": 3
   },
   "file_extension": ".py",
   "mimetype": "text/x-python",
   "name": "python",
   "nbconvert_exporter": "python",
   "pygments_lexer": "ipython3",
   "version": "3.8.10"
  },
  "orig_nbformat": 4,
  "vscode": {
   "interpreter": {
    "hash": "3a364e88e268f24bb4b4cd28b7ddb26344d4bee608858daf4c5718cf9ad82c2c"
   }
  }
 },
 "nbformat": 4,
 "nbformat_minor": 2
}
