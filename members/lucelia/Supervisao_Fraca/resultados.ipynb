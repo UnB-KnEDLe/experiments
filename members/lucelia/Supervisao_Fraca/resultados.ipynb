{
 "cells": [
  {
   "cell_type": "code",
   "execution_count": 1,
   "metadata": {},
   "outputs": [],
   "source": [
    "import numpy as np\n",
    "from statistics import mean, stdev"
   ]
  },
  {
   "cell_type": "code",
   "execution_count": 2,
   "metadata": {},
   "outputs": [],
   "source": [
    "labels = ['B-numero_contrato',\n",
    " 'B-processo_gdf',\n",
    " 'I-processo_gdf',\n",
    " 'B-orgao_contratante',\n",
    " 'I-orgao_contratante',\n",
    " 'B-entidade_contratada',\n",
    " 'I-entidade_contratada',\n",
    " 'B-objeto_contrato',\n",
    " 'I-objeto_contrato',\n",
    " 'B-valor_contrato',\n",
    " 'B-programa_trabalho',\n",
    " 'B-fonte_recurso',\n",
    " 'B-nota_empenho',\n",
    " 'B-vigencia_contrato',\n",
    " 'I-vigencia_contrato',\n",
    " 'B-natureza_despesa',\n",
    " 'B-data_assinatura_contrato',\n",
    " 'B-unidade_orcamentaria',\n",
    " 'I-data_assinatura_contrato',\n",
    " 'B-nome_responsavel',\n",
    " 'I-nome_responsavel',\n",
    " 'I-numero_contrato',\n",
    " 'B-cnpj_entidade_contratada',\n",
    " 'I-cnpj_entidade_contratada',\n",
    " 'I-fonte_recurso',\n",
    " 'I-programa_trabalho',\n",
    " 'B-codigo_siggo',\n",
    " 'I-codigo_siggo',\n",
    " 'I-nota_empenho',\n",
    " 'I-valor_contrato',\n",
    " 'B-cnpj_orgao_contratante',\n",
    " 'I-cnpj_orgao_contratante',\n",
    " 'I-unidade_orcamentaria',\n",
    " 'I-natureza_despesa']"
   ]
  },
  {
   "cell_type": "code",
   "execution_count": 29,
   "metadata": {},
   "outputs": [],
   "source": [
    "labels_sk = ['B-numero_contrato',\n",
    " 'B-processo_gdf',\n",
    " 'B-data_assinatura_contrato',\n",
    " 'B-unidade_orcamentaria',\n",
    " 'B-programa_trabalho',\n",
    " 'B-natureza_despesa',\n",
    " 'B-nota_empenho',\n",
    " 'B-valor_contrato',\n",
    " 'I-processo_gdf',\n",
    " 'I-programa_trabalho',\n",
    " 'I-natureza_despesa',\n",
    " 'I-nota_empenho',\n",
    " 'I-numero_contrato',\n",
    " 'I-data_assinatura_contrato',\n",
    " 'I-unidade_orcamentaria']"
   ]
  },
  {
   "cell_type": "code",
   "execution_count": 3,
   "metadata": {},
   "outputs": [],
   "source": [
    "atos = ['EXTRATO_CONTRATO']"
   ]
  },
  {
   "cell_type": "code",
   "execution_count": 30,
   "metadata": {},
   "outputs": [],
   "source": [
    "for ato in atos:\n",
    "    with open(f\"./Results/Tabela_Resultados_{ato}_CRF\", 'w+') as file:\n",
    "        for item in labels_sk:\n",
    "            file.write(\"{} \".format(item.replace(\"_\", \" \")))\n",
    "            valores = []\n",
    "            #print(item)\n",
    "            for exec in range(5):\n",
    "                metricas = (np.load(f\"./Results/METRICA_{ato}_{exec}.npy\",allow_pickle=True)).tolist()\n",
    "                #print(metricas)\n",
    "                a = metricas[item][\"f1-score\"]\n",
    "                valores.append(a)\n",
    "\n",
    "                file.write(\"& {} \".format(round(a,3)))\n",
    "            file.write(\"& {} & {}\".format(round(mean(valores),3),round(stdev(valores),3)))\n",
    "            file.write(\" \\\\\\\\ \\n\")\n",
    "        "
   ]
  },
  {
   "cell_type": "code",
   "execution_count": 31,
   "metadata": {},
   "outputs": [],
   "source": [
    "for ato in atos:\n",
    "    with open(f\"./Results/Tabela_Resultados_{ato}_SKWEAK\", 'w+') as file:\n",
    "        for item in labels_sk:\n",
    "            file.write(\"{} \".format(item.replace(\"_\", \" \")))\n",
    "            valores = []\n",
    "            #print(item)\n",
    "            for exec in range(5):\n",
    "                metricas = (np.load(f\"./Results/METRICA_{ato}_SKWEAK_{exec}.npy\",allow_pickle=True)).tolist()\n",
    "                #print(metricas)\n",
    "                a = metricas[item][\"f1-score\"]\n",
    "                valores.append(a)\n",
    "\n",
    "                file.write(\"& {} \".format(round(a,3)))\n",
    "            file.write(\"& {} & {}\".format(round(mean(valores),3),round(stdev(valores),3)))\n",
    "            file.write(\" \\\\\\\\ \\n\")\n",
    "        "
   ]
  },
  {
   "cell_type": "code",
   "execution_count": 32,
   "metadata": {},
   "outputs": [],
   "source": [
    "\n",
    "for ato in atos:\n",
    "    with open(f\"./Results/Tabela_Resultados_{ato}_LB_DIRETO\", 'w+') as file:\n",
    "        for item in labels_sk:\n",
    "            file.write(\"{} \".format(item.replace(\"_\", \" \")))\n",
    "            valores = []\n",
    "            #print(item)\n",
    "            for exec in range(5):\n",
    "                metricas = (np.load(f\"./Results/METRICA_{ato}_LB_DIRETO_{exec}.npy\",allow_pickle=True)).tolist()\n",
    "                #print(metricas)\n",
    "                a = metricas[item][\"f1-score\"]\n",
    "                valores.append(a)\n",
    "                file.write(\"& {} \".format(round(a,3)))\n",
    "            file.write(\"& {} & {}\".format(round(mean(valores),3),round(stdev(valores),3)))\n",
    "            file.write(\" \\\\\\\\ \\n\")\n",
    "\n",
    "\n"
   ]
  },
  {
   "cell_type": "code",
   "execution_count": 33,
   "metadata": {},
   "outputs": [],
   "source": [
    "\n",
    "for ato in atos:\n",
    "    with open(f\"./Results/Tabela_Resultados_{ato}_Geral_Media\", 'w+') as file:\n",
    "        for item in labels_sk:\n",
    "            file.write(\"{} \".format(item.replace(\"_\", \" \")))\n",
    "            valores = []\n",
    "            #print(item)\n",
    "            for exec in range(5):\n",
    "                metricas = (np.load(f\"./Results/METRICA_{ato}_{exec}.npy\",allow_pickle=True)).tolist()\n",
    "                #print(metricas)\n",
    "                a = metricas[item][\"f1-score\"]\n",
    "                valores.append(a)\n",
    "            mean_crf = round(mean(valores),3)\n",
    "            stdev_crf = round(stdev(valores),3)   \n",
    "            \n",
    "            for exec in range(3):\n",
    "                metricas = (np.load(f\"./Results/METRICA_{ato}_SKWEAK_{exec}.npy\",allow_pickle=True)).tolist()\n",
    "                #print(metricas)\n",
    "                a = metricas[item][\"f1-score\"]\n",
    "                valores.append(a)\n",
    "            mean_sk = round(mean(valores),3)\n",
    "            stdev_sk = round(stdev(valores),3)   \n",
    "\n",
    "            for exec in range(3):\n",
    "                metricas = (np.load(f\"./Results/METRICA_{ato}_LB_DIRETO_{exec}.npy\",allow_pickle=True)).tolist()\n",
    "                #print(metricas)\n",
    "                a = metricas[item][\"f1-score\"]\n",
    "                valores.append(a)\n",
    "            mean_lb = round(mean(valores),3)\n",
    "            stdev_lb = round(stdev(valores),3)   \n",
    "            \n",
    "            #file.write(\"& {} & {} & {} & {} & {} & {}\".format(mean_crf, stdev_crf, mean_sk, stdev_sk, mean_lb, stdev_lb))\n",
    "            file.write(\"& {} & {} & {}\".format(mean_crf, mean_sk, mean_lb))\n",
    "            \n",
    "\n",
    "            file.write(\" \\\\\\\\ \\n\")\n"
   ]
  }
 ],
 "metadata": {
  "kernelspec": {
   "display_name": "Python 3.8.10 ('.venv': venv)",
   "language": "python",
   "name": "python3"
  },
  "language_info": {
   "codemirror_mode": {
    "name": "ipython",
    "version": 3
   },
   "file_extension": ".py",
   "mimetype": "text/x-python",
   "name": "python",
   "nbconvert_exporter": "python",
   "pygments_lexer": "ipython3",
   "version": "3.8.10"
  },
  "orig_nbformat": 4,
  "vscode": {
   "interpreter": {
    "hash": "3a364e88e268f24bb4b4cd28b7ddb26344d4bee608858daf4c5718cf9ad82c2c"
   }
  }
 },
 "nbformat": 4,
 "nbformat_minor": 2
}
