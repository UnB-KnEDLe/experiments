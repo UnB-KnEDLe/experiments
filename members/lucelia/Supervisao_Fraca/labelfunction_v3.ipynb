{
 "cells": [
  {
   "cell_type": "code",
   "execution_count": 275,
   "metadata": {},
   "outputs": [],
   "source": [
    "import pandas as pd\n",
    "import nltk\n",
    "import scipy.stats\n",
    "import sklearn\n",
    "import numpy"
   ]
  },
  {
   "cell_type": "code",
   "execution_count": 276,
   "metadata": {},
   "outputs": [],
   "source": [
    "data = pd.read_csv('./CSVs/DODFCorpus_contratos_licitacoes_v0.csv', dtype=str)"
   ]
  },
  {
   "cell_type": "code",
   "execution_count": 277,
   "metadata": {},
   "outputs": [
    {
     "data": {
      "text/html": [
       "<div>\n",
       "<style scoped>\n",
       "    .dataframe tbody tr th:only-of-type {\n",
       "        vertical-align: middle;\n",
       "    }\n",
       "\n",
       "    .dataframe tbody tr th {\n",
       "        vertical-align: top;\n",
       "    }\n",
       "\n",
       "    .dataframe thead th {\n",
       "        text-align: right;\n",
       "    }\n",
       "</style>\n",
       "<table border=\"1\" class=\"dataframe\">\n",
       "  <thead>\n",
       "    <tr style=\"text-align: right;\">\n",
       "      <th></th>\n",
       "      <th>Unnamed: 0</th>\n",
       "      <th>id_dodf</th>\n",
       "      <th>tipo_rel</th>\n",
       "      <th>id_rel</th>\n",
       "      <th>anotador_rel</th>\n",
       "      <th>tipo_ent</th>\n",
       "      <th>id_ent</th>\n",
       "      <th>anotador_ent</th>\n",
       "      <th>offset</th>\n",
       "      <th>length</th>\n",
       "      <th>texto</th>\n",
       "      <th>id_ato</th>\n",
       "    </tr>\n",
       "  </thead>\n",
       "  <tbody>\n",
       "    <tr>\n",
       "      <th>0</th>\n",
       "      <td>0</td>\n",
       "      <td>7_2.8.2019</td>\n",
       "      <td>REL_ADITAMENTO_CONTRATO</td>\n",
       "      <td>R11</td>\n",
       "      <td>anotador_4624608</td>\n",
       "      <td>numero_termo_aditivo</td>\n",
       "      <td>140</td>\n",
       "      <td>anotador_4624608</td>\n",
       "      <td>372177</td>\n",
       "      <td>6</td>\n",
       "      <td>QUARTO</td>\n",
       "      <td>7_2.8.2019-R11</td>\n",
       "    </tr>\n",
       "    <tr>\n",
       "      <th>1</th>\n",
       "      <td>1</td>\n",
       "      <td>7_2.8.2019</td>\n",
       "      <td>REL_ADITAMENTO_CONTRATO</td>\n",
       "      <td>R11</td>\n",
       "      <td>anotador_4624608</td>\n",
       "      <td>numero_contrato</td>\n",
       "      <td>141</td>\n",
       "      <td>anotador_4624608</td>\n",
       "      <td>372213</td>\n",
       "      <td>8</td>\n",
       "      <td>002/2019</td>\n",
       "      <td>7_2.8.2019-R11</td>\n",
       "    </tr>\n",
       "    <tr>\n",
       "      <th>2</th>\n",
       "      <td>2</td>\n",
       "      <td>7_2.8.2019</td>\n",
       "      <td>REL_ADITAMENTO_CONTRATO</td>\n",
       "      <td>R11</td>\n",
       "      <td>anotador_4624608</td>\n",
       "      <td>numero_contrato</td>\n",
       "      <td>142</td>\n",
       "      <td>anotador_4624608</td>\n",
       "      <td>372231</td>\n",
       "      <td>6</td>\n",
       "      <td>033411</td>\n",
       "      <td>7_2.8.2019-R11</td>\n",
       "    </tr>\n",
       "    <tr>\n",
       "      <th>3</th>\n",
       "      <td>3</td>\n",
       "      <td>7_2.8.2019</td>\n",
       "      <td>REL_ADITAMENTO_CONTRATO</td>\n",
       "      <td>R11</td>\n",
       "      <td>anotador_4624608</td>\n",
       "      <td>processo_gdf</td>\n",
       "      <td>139</td>\n",
       "      <td>anotador_4624608</td>\n",
       "      <td>372260</td>\n",
       "      <td>19</td>\n",
       "      <td>00361-0 000853/2016</td>\n",
       "      <td>7_2.8.2019-R11</td>\n",
       "    </tr>\n",
       "    <tr>\n",
       "      <th>4</th>\n",
       "      <td>4</td>\n",
       "      <td>7_2.8.2019</td>\n",
       "      <td>REL_ADITAMENTO_CONTRATO</td>\n",
       "      <td>R11</td>\n",
       "      <td>anotador_4624608</td>\n",
       "      <td>orgao_contratante</td>\n",
       "      <td>143</td>\n",
       "      <td>anotador_4624608</td>\n",
       "      <td>372294</td>\n",
       "      <td>82</td>\n",
       "      <td>SECRETARIA DE ESTADO DE\\nPROTECAO DA ORDEM URB...</td>\n",
       "      <td>7_2.8.2019-R11</td>\n",
       "    </tr>\n",
       "    <tr>\n",
       "      <th>...</th>\n",
       "      <td>...</td>\n",
       "      <td>...</td>\n",
       "      <td>...</td>\n",
       "      <td>...</td>\n",
       "      <td>...</td>\n",
       "      <td>...</td>\n",
       "      <td>...</td>\n",
       "      <td>...</td>\n",
       "      <td>...</td>\n",
       "      <td>...</td>\n",
       "      <td>...</td>\n",
       "      <td>...</td>\n",
       "    </tr>\n",
       "    <tr>\n",
       "      <th>30377</th>\n",
       "      <td>30394</td>\n",
       "      <td>631</td>\n",
       "      <td>REL_ADITAMENTO_CONTRATO</td>\n",
       "      <td>R157</td>\n",
       "      <td>anotador_4624608</td>\n",
       "      <td>orgao_contratante</td>\n",
       "      <td>2050</td>\n",
       "      <td>anotador_4624608</td>\n",
       "      <td>281629</td>\n",
       "      <td>38</td>\n",
       "      <td>Tribunal de Contas do Distrito Federal</td>\n",
       "      <td>631-R157</td>\n",
       "    </tr>\n",
       "    <tr>\n",
       "      <th>30378</th>\n",
       "      <td>30395</td>\n",
       "      <td>631</td>\n",
       "      <td>REL_ADITAMENTO_CONTRATO</td>\n",
       "      <td>R157</td>\n",
       "      <td>anotador_4624608</td>\n",
       "      <td>objeto_aditamento_contratual</td>\n",
       "      <td>2186</td>\n",
       "      <td>anotador_4624608</td>\n",
       "      <td>281779</td>\n",
       "      <td>477</td>\n",
       "      <td>prestação dos serviços de locação de veículos,...</td>\n",
       "      <td>631-R157</td>\n",
       "    </tr>\n",
       "    <tr>\n",
       "      <th>30379</th>\n",
       "      <td>30396</td>\n",
       "      <td>631</td>\n",
       "      <td>REL_ADITAMENTO_CONTRATO</td>\n",
       "      <td>R157</td>\n",
       "      <td>anotador_4624608</td>\n",
       "      <td>processo_gdf</td>\n",
       "      <td>2052</td>\n",
       "      <td>anotador_4624608</td>\n",
       "      <td>282273</td>\n",
       "      <td>10</td>\n",
       "      <td>20065/2016</td>\n",
       "      <td>631-R157</td>\n",
       "    </tr>\n",
       "    <tr>\n",
       "      <th>30380</th>\n",
       "      <td>30397</td>\n",
       "      <td>631</td>\n",
       "      <td>REL_ADITAMENTO_CONTRATO</td>\n",
       "      <td>R157</td>\n",
       "      <td>anotador_4624608</td>\n",
       "      <td>data_escrito</td>\n",
       "      <td>2185</td>\n",
       "      <td>anotador_4624608</td>\n",
       "      <td>283587</td>\n",
       "      <td>10</td>\n",
       "      <td>23/12/2021</td>\n",
       "      <td>631-R157</td>\n",
       "    </tr>\n",
       "    <tr>\n",
       "      <th>30381</th>\n",
       "      <td>30398</td>\n",
       "      <td>631</td>\n",
       "      <td>REL_ADITAMENTO_CONTRATO</td>\n",
       "      <td>R157</td>\n",
       "      <td>anotador_4624608</td>\n",
       "      <td>EXTRATO_ADITAMENTO_CONTRATUAL</td>\n",
       "      <td>2235</td>\n",
       "      <td>anotador_4624608</td>\n",
       "      <td>281565</td>\n",
       "      <td>2456</td>\n",
       "      <td>EXTRATO DO 6º TERMO ADITIVO AO CONTRATO Nº 28/...</td>\n",
       "      <td>631-R157</td>\n",
       "    </tr>\n",
       "  </tbody>\n",
       "</table>\n",
       "<p>30382 rows × 12 columns</p>\n",
       "</div>"
      ],
      "text/plain": [
       "      Unnamed: 0     id_dodf                 tipo_rel id_rel  \\\n",
       "0              0  7_2.8.2019  REL_ADITAMENTO_CONTRATO    R11   \n",
       "1              1  7_2.8.2019  REL_ADITAMENTO_CONTRATO    R11   \n",
       "2              2  7_2.8.2019  REL_ADITAMENTO_CONTRATO    R11   \n",
       "3              3  7_2.8.2019  REL_ADITAMENTO_CONTRATO    R11   \n",
       "4              4  7_2.8.2019  REL_ADITAMENTO_CONTRATO    R11   \n",
       "...          ...         ...                      ...    ...   \n",
       "30377      30394         631  REL_ADITAMENTO_CONTRATO   R157   \n",
       "30378      30395         631  REL_ADITAMENTO_CONTRATO   R157   \n",
       "30379      30396         631  REL_ADITAMENTO_CONTRATO   R157   \n",
       "30380      30397         631  REL_ADITAMENTO_CONTRATO   R157   \n",
       "30381      30398         631  REL_ADITAMENTO_CONTRATO   R157   \n",
       "\n",
       "           anotador_rel                       tipo_ent id_ent  \\\n",
       "0      anotador_4624608           numero_termo_aditivo    140   \n",
       "1      anotador_4624608                numero_contrato    141   \n",
       "2      anotador_4624608                numero_contrato    142   \n",
       "3      anotador_4624608                   processo_gdf    139   \n",
       "4      anotador_4624608              orgao_contratante    143   \n",
       "...                 ...                            ...    ...   \n",
       "30377  anotador_4624608              orgao_contratante   2050   \n",
       "30378  anotador_4624608   objeto_aditamento_contratual   2186   \n",
       "30379  anotador_4624608                   processo_gdf   2052   \n",
       "30380  anotador_4624608                   data_escrito   2185   \n",
       "30381  anotador_4624608  EXTRATO_ADITAMENTO_CONTRATUAL   2235   \n",
       "\n",
       "           anotador_ent  offset length  \\\n",
       "0      anotador_4624608  372177      6   \n",
       "1      anotador_4624608  372213      8   \n",
       "2      anotador_4624608  372231      6   \n",
       "3      anotador_4624608  372260     19   \n",
       "4      anotador_4624608  372294     82   \n",
       "...                 ...     ...    ...   \n",
       "30377  anotador_4624608  281629     38   \n",
       "30378  anotador_4624608  281779    477   \n",
       "30379  anotador_4624608  282273     10   \n",
       "30380  anotador_4624608  283587     10   \n",
       "30381  anotador_4624608  281565   2456   \n",
       "\n",
       "                                                   texto          id_ato  \n",
       "0                                                 QUARTO  7_2.8.2019-R11  \n",
       "1                                               002/2019  7_2.8.2019-R11  \n",
       "2                                                 033411  7_2.8.2019-R11  \n",
       "3                                    00361-0 000853/2016  7_2.8.2019-R11  \n",
       "4      SECRETARIA DE ESTADO DE\\nPROTECAO DA ORDEM URB...  7_2.8.2019-R11  \n",
       "...                                                  ...             ...  \n",
       "30377             Tribunal de Contas do Distrito Federal        631-R157  \n",
       "30378  prestação dos serviços de locação de veículos,...        631-R157  \n",
       "30379                                         20065/2016        631-R157  \n",
       "30380                                         23/12/2021        631-R157  \n",
       "30381  EXTRATO DO 6º TERMO ADITIVO AO CONTRATO Nº 28/...        631-R157  \n",
       "\n",
       "[30382 rows x 12 columns]"
      ]
     },
     "execution_count": 277,
     "metadata": {},
     "output_type": "execute_result"
    }
   ],
   "source": [
    "data"
   ]
  },
  {
   "cell_type": "code",
   "execution_count": 278,
   "metadata": {},
   "outputs": [
    {
     "data": {
      "text/html": [
       "<div>\n",
       "<style scoped>\n",
       "    .dataframe tbody tr th:only-of-type {\n",
       "        vertical-align: middle;\n",
       "    }\n",
       "\n",
       "    .dataframe tbody tr th {\n",
       "        vertical-align: top;\n",
       "    }\n",
       "\n",
       "    .dataframe thead th {\n",
       "        text-align: right;\n",
       "    }\n",
       "</style>\n",
       "<table border=\"1\" class=\"dataframe\">\n",
       "  <thead>\n",
       "    <tr style=\"text-align: right;\">\n",
       "      <th></th>\n",
       "      <th>Unnamed: 0</th>\n",
       "      <th>id_dodf</th>\n",
       "      <th>tipo_rel</th>\n",
       "      <th>id_rel</th>\n",
       "      <th>anotador_rel</th>\n",
       "      <th>tipo_ent</th>\n",
       "      <th>id_ent</th>\n",
       "      <th>anotador_ent</th>\n",
       "      <th>offset</th>\n",
       "      <th>length</th>\n",
       "      <th>texto</th>\n",
       "      <th>id_ato</th>\n",
       "    </tr>\n",
       "  </thead>\n",
       "  <tbody>\n",
       "    <tr>\n",
       "      <th>0</th>\n",
       "      <td>0</td>\n",
       "      <td>7_2.8.2019</td>\n",
       "      <td>REL_ADITAMENTO_CONTRATO</td>\n",
       "      <td>R11</td>\n",
       "      <td>anotador_4624608</td>\n",
       "      <td>numero_termo_aditivo</td>\n",
       "      <td>140</td>\n",
       "      <td>anotador_4624608</td>\n",
       "      <td>372177</td>\n",
       "      <td>6</td>\n",
       "      <td>QUARTO</td>\n",
       "      <td>7_2.8.2019-R11</td>\n",
       "    </tr>\n",
       "    <tr>\n",
       "      <th>1</th>\n",
       "      <td>1</td>\n",
       "      <td>7_2.8.2019</td>\n",
       "      <td>REL_ADITAMENTO_CONTRATO</td>\n",
       "      <td>R11</td>\n",
       "      <td>anotador_4624608</td>\n",
       "      <td>numero_contrato</td>\n",
       "      <td>141</td>\n",
       "      <td>anotador_4624608</td>\n",
       "      <td>372213</td>\n",
       "      <td>8</td>\n",
       "      <td>002/2019</td>\n",
       "      <td>7_2.8.2019-R11</td>\n",
       "    </tr>\n",
       "    <tr>\n",
       "      <th>2</th>\n",
       "      <td>2</td>\n",
       "      <td>7_2.8.2019</td>\n",
       "      <td>REL_ADITAMENTO_CONTRATO</td>\n",
       "      <td>R11</td>\n",
       "      <td>anotador_4624608</td>\n",
       "      <td>numero_contrato</td>\n",
       "      <td>142</td>\n",
       "      <td>anotador_4624608</td>\n",
       "      <td>372231</td>\n",
       "      <td>6</td>\n",
       "      <td>033411</td>\n",
       "      <td>7_2.8.2019-R11</td>\n",
       "    </tr>\n",
       "    <tr>\n",
       "      <th>3</th>\n",
       "      <td>3</td>\n",
       "      <td>7_2.8.2019</td>\n",
       "      <td>REL_ADITAMENTO_CONTRATO</td>\n",
       "      <td>R11</td>\n",
       "      <td>anotador_4624608</td>\n",
       "      <td>processo_gdf</td>\n",
       "      <td>139</td>\n",
       "      <td>anotador_4624608</td>\n",
       "      <td>372260</td>\n",
       "      <td>19</td>\n",
       "      <td>00361-0 000853/2016</td>\n",
       "      <td>7_2.8.2019-R11</td>\n",
       "    </tr>\n",
       "    <tr>\n",
       "      <th>4</th>\n",
       "      <td>4</td>\n",
       "      <td>7_2.8.2019</td>\n",
       "      <td>REL_ADITAMENTO_CONTRATO</td>\n",
       "      <td>R11</td>\n",
       "      <td>anotador_4624608</td>\n",
       "      <td>orgao_contratante</td>\n",
       "      <td>143</td>\n",
       "      <td>anotador_4624608</td>\n",
       "      <td>372294</td>\n",
       "      <td>82</td>\n",
       "      <td>SECRETARIA DE ESTADO DE\\nPROTECAO DA ORDEM URB...</td>\n",
       "      <td>7_2.8.2019-R11</td>\n",
       "    </tr>\n",
       "    <tr>\n",
       "      <th>...</th>\n",
       "      <td>...</td>\n",
       "      <td>...</td>\n",
       "      <td>...</td>\n",
       "      <td>...</td>\n",
       "      <td>...</td>\n",
       "      <td>...</td>\n",
       "      <td>...</td>\n",
       "      <td>...</td>\n",
       "      <td>...</td>\n",
       "      <td>...</td>\n",
       "      <td>...</td>\n",
       "      <td>...</td>\n",
       "    </tr>\n",
       "    <tr>\n",
       "      <th>30377</th>\n",
       "      <td>30394</td>\n",
       "      <td>631</td>\n",
       "      <td>REL_ADITAMENTO_CONTRATO</td>\n",
       "      <td>R157</td>\n",
       "      <td>anotador_4624608</td>\n",
       "      <td>orgao_contratante</td>\n",
       "      <td>2050</td>\n",
       "      <td>anotador_4624608</td>\n",
       "      <td>281629</td>\n",
       "      <td>38</td>\n",
       "      <td>Tribunal de Contas do Distrito Federal</td>\n",
       "      <td>631-R157</td>\n",
       "    </tr>\n",
       "    <tr>\n",
       "      <th>30378</th>\n",
       "      <td>30395</td>\n",
       "      <td>631</td>\n",
       "      <td>REL_ADITAMENTO_CONTRATO</td>\n",
       "      <td>R157</td>\n",
       "      <td>anotador_4624608</td>\n",
       "      <td>objeto_aditamento_contratual</td>\n",
       "      <td>2186</td>\n",
       "      <td>anotador_4624608</td>\n",
       "      <td>281779</td>\n",
       "      <td>477</td>\n",
       "      <td>prestação dos serviços de locação de veículos,...</td>\n",
       "      <td>631-R157</td>\n",
       "    </tr>\n",
       "    <tr>\n",
       "      <th>30379</th>\n",
       "      <td>30396</td>\n",
       "      <td>631</td>\n",
       "      <td>REL_ADITAMENTO_CONTRATO</td>\n",
       "      <td>R157</td>\n",
       "      <td>anotador_4624608</td>\n",
       "      <td>processo_gdf</td>\n",
       "      <td>2052</td>\n",
       "      <td>anotador_4624608</td>\n",
       "      <td>282273</td>\n",
       "      <td>10</td>\n",
       "      <td>20065/2016</td>\n",
       "      <td>631-R157</td>\n",
       "    </tr>\n",
       "    <tr>\n",
       "      <th>30380</th>\n",
       "      <td>30397</td>\n",
       "      <td>631</td>\n",
       "      <td>REL_ADITAMENTO_CONTRATO</td>\n",
       "      <td>R157</td>\n",
       "      <td>anotador_4624608</td>\n",
       "      <td>data_escrito</td>\n",
       "      <td>2185</td>\n",
       "      <td>anotador_4624608</td>\n",
       "      <td>283587</td>\n",
       "      <td>10</td>\n",
       "      <td>23/12/2021</td>\n",
       "      <td>631-R157</td>\n",
       "    </tr>\n",
       "    <tr>\n",
       "      <th>30381</th>\n",
       "      <td>30398</td>\n",
       "      <td>631</td>\n",
       "      <td>REL_ADITAMENTO_CONTRATO</td>\n",
       "      <td>R157</td>\n",
       "      <td>anotador_4624608</td>\n",
       "      <td>EXTRATO_ADITAMENTO_CONTRATUAL</td>\n",
       "      <td>2235</td>\n",
       "      <td>anotador_4624608</td>\n",
       "      <td>281565</td>\n",
       "      <td>2456</td>\n",
       "      <td>EXTRATO DO 6º TERMO ADITIVO AO CONTRATO Nº 28/...</td>\n",
       "      <td>631-R157</td>\n",
       "    </tr>\n",
       "  </tbody>\n",
       "</table>\n",
       "<p>30382 rows × 12 columns</p>\n",
       "</div>"
      ],
      "text/plain": [
       "      Unnamed: 0     id_dodf                 tipo_rel id_rel  \\\n",
       "0              0  7_2.8.2019  REL_ADITAMENTO_CONTRATO    R11   \n",
       "1              1  7_2.8.2019  REL_ADITAMENTO_CONTRATO    R11   \n",
       "2              2  7_2.8.2019  REL_ADITAMENTO_CONTRATO    R11   \n",
       "3              3  7_2.8.2019  REL_ADITAMENTO_CONTRATO    R11   \n",
       "4              4  7_2.8.2019  REL_ADITAMENTO_CONTRATO    R11   \n",
       "...          ...         ...                      ...    ...   \n",
       "30377      30394         631  REL_ADITAMENTO_CONTRATO   R157   \n",
       "30378      30395         631  REL_ADITAMENTO_CONTRATO   R157   \n",
       "30379      30396         631  REL_ADITAMENTO_CONTRATO   R157   \n",
       "30380      30397         631  REL_ADITAMENTO_CONTRATO   R157   \n",
       "30381      30398         631  REL_ADITAMENTO_CONTRATO   R157   \n",
       "\n",
       "           anotador_rel                       tipo_ent id_ent  \\\n",
       "0      anotador_4624608           numero_termo_aditivo    140   \n",
       "1      anotador_4624608                numero_contrato    141   \n",
       "2      anotador_4624608                numero_contrato    142   \n",
       "3      anotador_4624608                   processo_gdf    139   \n",
       "4      anotador_4624608              orgao_contratante    143   \n",
       "...                 ...                            ...    ...   \n",
       "30377  anotador_4624608              orgao_contratante   2050   \n",
       "30378  anotador_4624608   objeto_aditamento_contratual   2186   \n",
       "30379  anotador_4624608                   processo_gdf   2052   \n",
       "30380  anotador_4624608                   data_escrito   2185   \n",
       "30381  anotador_4624608  EXTRATO_ADITAMENTO_CONTRATUAL   2235   \n",
       "\n",
       "           anotador_ent  offset length  \\\n",
       "0      anotador_4624608  372177      6   \n",
       "1      anotador_4624608  372213      8   \n",
       "2      anotador_4624608  372231      6   \n",
       "3      anotador_4624608  372260     19   \n",
       "4      anotador_4624608  372294     82   \n",
       "...                 ...     ...    ...   \n",
       "30377  anotador_4624608  281629     38   \n",
       "30378  anotador_4624608  281779    477   \n",
       "30379  anotador_4624608  282273     10   \n",
       "30380  anotador_4624608  283587     10   \n",
       "30381  anotador_4624608  281565   2456   \n",
       "\n",
       "                                                   texto          id_ato  \n",
       "0                                                 QUARTO  7_2.8.2019-R11  \n",
       "1                                               002/2019  7_2.8.2019-R11  \n",
       "2                                                 033411  7_2.8.2019-R11  \n",
       "3                                    00361-0 000853/2016  7_2.8.2019-R11  \n",
       "4      SECRETARIA DE ESTADO DE\\nPROTECAO DA ORDEM URB...  7_2.8.2019-R11  \n",
       "...                                                  ...             ...  \n",
       "30377             Tribunal de Contas do Distrito Federal        631-R157  \n",
       "30378  prestação dos serviços de locação de veículos,...        631-R157  \n",
       "30379                                         20065/2016        631-R157  \n",
       "30380                                         23/12/2021        631-R157  \n",
       "30381  EXTRATO DO 6º TERMO ADITIVO AO CONTRATO Nº 28/...        631-R157  \n",
       "\n",
       "[30382 rows x 12 columns]"
      ]
     },
     "execution_count": 278,
     "metadata": {},
     "output_type": "execute_result"
    }
   ],
   "source": [
    "data['id_ato'] = data['id_dodf'] + '-' + data['id_rel']\n",
    "data"
   ]
  },
  {
   "cell_type": "code",
   "execution_count": 279,
   "metadata": {},
   "outputs": [
    {
     "name": "stdout",
     "output_type": "stream",
     "text": [
      "tipo_rel\n",
      "REL_ADITAMENTO_CONTRATO     1260\n",
      "REL_EXTRATO_CONTRATO        1223\n",
      "REL_AVISO_LICITACAO          317\n",
      "REL_ANUL_REVOG_LICITACAO      31\n",
      "REL_SUSPENSAO_LICITACAO       26\n",
      "REL_EXTRATO_CONVENIO          18\n",
      "Name: id_ato, dtype: int64\n"
     ]
    }
   ],
   "source": [
    "result = data.groupby('tipo_rel')['id_ato'].nunique()\n",
    "print(result.sort_values(ascending=False))"
   ]
  },
  {
   "cell_type": "code",
   "execution_count": 280,
   "metadata": {},
   "outputs": [
    {
     "data": {
      "text/html": [
       "<div>\n",
       "<style scoped>\n",
       "    .dataframe tbody tr th:only-of-type {\n",
       "        vertical-align: middle;\n",
       "    }\n",
       "\n",
       "    .dataframe tbody tr th {\n",
       "        vertical-align: top;\n",
       "    }\n",
       "\n",
       "    .dataframe thead th {\n",
       "        text-align: right;\n",
       "    }\n",
       "</style>\n",
       "<table border=\"1\" class=\"dataframe\">\n",
       "  <thead>\n",
       "    <tr style=\"text-align: right;\">\n",
       "      <th></th>\n",
       "      <th>Unnamed: 0</th>\n",
       "      <th>id_dodf</th>\n",
       "      <th>tipo_rel</th>\n",
       "      <th>id_rel</th>\n",
       "      <th>anotador_rel</th>\n",
       "      <th>tipo_ent</th>\n",
       "      <th>id_ent</th>\n",
       "      <th>anotador_ent</th>\n",
       "      <th>offset</th>\n",
       "      <th>length</th>\n",
       "      <th>texto</th>\n",
       "      <th>id_ato</th>\n",
       "    </tr>\n",
       "  </thead>\n",
       "  <tbody>\n",
       "    <tr>\n",
       "      <th>0</th>\n",
       "      <td>27</td>\n",
       "      <td>7_2.8.2019</td>\n",
       "      <td>REL_EXTRATO_CONTRATO</td>\n",
       "      <td>R1</td>\n",
       "      <td>anotador_57452550</td>\n",
       "      <td>numero_contrato</td>\n",
       "      <td>68</td>\n",
       "      <td>anotador_57452550</td>\n",
       "      <td>384816</td>\n",
       "      <td>7</td>\n",
       "      <td>01/2019</td>\n",
       "      <td>7_2.8.2019-R1</td>\n",
       "    </tr>\n",
       "    <tr>\n",
       "      <th>1</th>\n",
       "      <td>28</td>\n",
       "      <td>7_2.8.2019</td>\n",
       "      <td>REL_EXTRATO_CONTRATO</td>\n",
       "      <td>R1</td>\n",
       "      <td>anotador_57452550</td>\n",
       "      <td>orgao_contratante</td>\n",
       "      <td>69</td>\n",
       "      <td>anotador_57452550</td>\n",
       "      <td>384843</td>\n",
       "      <td>56</td>\n",
       "      <td>Companhia de\\nPlanejamento do Distrito Federal...</td>\n",
       "      <td>7_2.8.2019-R1</td>\n",
       "    </tr>\n",
       "    <tr>\n",
       "      <th>2</th>\n",
       "      <td>29</td>\n",
       "      <td>7_2.8.2019</td>\n",
       "      <td>REL_EXTRATO_CONTRATO</td>\n",
       "      <td>R1</td>\n",
       "      <td>anotador_57452550</td>\n",
       "      <td>entidade_contratada</td>\n",
       "      <td>70</td>\n",
       "      <td>anotador_57452550</td>\n",
       "      <td>384904</td>\n",
       "      <td>81</td>\n",
       "      <td>Servico Social da Industria - Departamento Reg...</td>\n",
       "      <td>7_2.8.2019-R1</td>\n",
       "    </tr>\n",
       "    <tr>\n",
       "      <th>3</th>\n",
       "      <td>30</td>\n",
       "      <td>7_2.8.2019</td>\n",
       "      <td>REL_EXTRATO_CONTRATO</td>\n",
       "      <td>R1</td>\n",
       "      <td>anotador_57452550</td>\n",
       "      <td>processo_gdf</td>\n",
       "      <td>67</td>\n",
       "      <td>anotador_57452550</td>\n",
       "      <td>384997</td>\n",
       "      <td>24</td>\n",
       "      <td>00121.00000.0897/2019-41</td>\n",
       "      <td>7_2.8.2019-R1</td>\n",
       "    </tr>\n",
       "    <tr>\n",
       "      <th>4</th>\n",
       "      <td>31</td>\n",
       "      <td>7_2.8.2019</td>\n",
       "      <td>REL_EXTRATO_CONTRATO</td>\n",
       "      <td>R1</td>\n",
       "      <td>anotador_57452550</td>\n",
       "      <td>objeto_contrato</td>\n",
       "      <td>71</td>\n",
       "      <td>anotador_57452550</td>\n",
       "      <td>385031</td>\n",
       "      <td>221</td>\n",
       "      <td>Patrocinio do Concurso V\\nPREMIO CODEPLAN DE T...</td>\n",
       "      <td>7_2.8.2019-R1</td>\n",
       "    </tr>\n",
       "    <tr>\n",
       "      <th>...</th>\n",
       "      <td>...</td>\n",
       "      <td>...</td>\n",
       "      <td>...</td>\n",
       "      <td>...</td>\n",
       "      <td>...</td>\n",
       "      <td>...</td>\n",
       "      <td>...</td>\n",
       "      <td>...</td>\n",
       "      <td>...</td>\n",
       "      <td>...</td>\n",
       "      <td>...</td>\n",
       "      <td>...</td>\n",
       "    </tr>\n",
       "    <tr>\n",
       "      <th>16544</th>\n",
       "      <td>30386</td>\n",
       "      <td>631</td>\n",
       "      <td>REL_EXTRATO_CONTRATO</td>\n",
       "      <td>R100</td>\n",
       "      <td>anotador_29845489</td>\n",
       "      <td>objeto_contrato</td>\n",
       "      <td>1323</td>\n",
       "      <td>anotador_29845489</td>\n",
       "      <td>280315</td>\n",
       "      <td>456</td>\n",
       "      <td>locação de máquinas e equipamentos destinados ...</td>\n",
       "      <td>631-R100</td>\n",
       "    </tr>\n",
       "    <tr>\n",
       "      <th>16545</th>\n",
       "      <td>30387</td>\n",
       "      <td>631</td>\n",
       "      <td>REL_EXTRATO_CONTRATO</td>\n",
       "      <td>R100</td>\n",
       "      <td>anotador_29845489</td>\n",
       "      <td>programa_trabalho</td>\n",
       "      <td>1325</td>\n",
       "      <td>anotador_29845489</td>\n",
       "      <td>280825</td>\n",
       "      <td>21</td>\n",
       "      <td>11.333.6207.2900.0017</td>\n",
       "      <td>631-R100</td>\n",
       "    </tr>\n",
       "    <tr>\n",
       "      <th>16546</th>\n",
       "      <td>30388</td>\n",
       "      <td>631</td>\n",
       "      <td>REL_EXTRATO_CONTRATO</td>\n",
       "      <td>R100</td>\n",
       "      <td>anotador_29845489</td>\n",
       "      <td>nota_empenho</td>\n",
       "      <td>1327</td>\n",
       "      <td>anotador_29845489</td>\n",
       "      <td>280921</td>\n",
       "      <td>11</td>\n",
       "      <td>2021NE00659</td>\n",
       "      <td>631-R100</td>\n",
       "    </tr>\n",
       "    <tr>\n",
       "      <th>16547</th>\n",
       "      <td>30389</td>\n",
       "      <td>631</td>\n",
       "      <td>REL_EXTRATO_CONTRATO</td>\n",
       "      <td>R100</td>\n",
       "      <td>anotador_29845489</td>\n",
       "      <td>valor_contrato</td>\n",
       "      <td>1329</td>\n",
       "      <td>anotador_29845489</td>\n",
       "      <td>281121</td>\n",
       "      <td>12</td>\n",
       "      <td>1.215.840,00</td>\n",
       "      <td>631-R100</td>\n",
       "    </tr>\n",
       "    <tr>\n",
       "      <th>16548</th>\n",
       "      <td>30390</td>\n",
       "      <td>631</td>\n",
       "      <td>REL_EXTRATO_CONTRATO</td>\n",
       "      <td>R100</td>\n",
       "      <td>anotador_29845489</td>\n",
       "      <td>data_assinatura_contrato</td>\n",
       "      <td>1331</td>\n",
       "      <td>anotador_29845489</td>\n",
       "      <td>281272</td>\n",
       "      <td>10</td>\n",
       "      <td>20/12/2021</td>\n",
       "      <td>631-R100</td>\n",
       "    </tr>\n",
       "  </tbody>\n",
       "</table>\n",
       "<p>16549 rows × 12 columns</p>\n",
       "</div>"
      ],
      "text/plain": [
       "      Unnamed: 0     id_dodf              tipo_rel id_rel       anotador_rel  \\\n",
       "0             27  7_2.8.2019  REL_EXTRATO_CONTRATO     R1  anotador_57452550   \n",
       "1             28  7_2.8.2019  REL_EXTRATO_CONTRATO     R1  anotador_57452550   \n",
       "2             29  7_2.8.2019  REL_EXTRATO_CONTRATO     R1  anotador_57452550   \n",
       "3             30  7_2.8.2019  REL_EXTRATO_CONTRATO     R1  anotador_57452550   \n",
       "4             31  7_2.8.2019  REL_EXTRATO_CONTRATO     R1  anotador_57452550   \n",
       "...          ...         ...                   ...    ...                ...   \n",
       "16544      30386         631  REL_EXTRATO_CONTRATO   R100  anotador_29845489   \n",
       "16545      30387         631  REL_EXTRATO_CONTRATO   R100  anotador_29845489   \n",
       "16546      30388         631  REL_EXTRATO_CONTRATO   R100  anotador_29845489   \n",
       "16547      30389         631  REL_EXTRATO_CONTRATO   R100  anotador_29845489   \n",
       "16548      30390         631  REL_EXTRATO_CONTRATO   R100  anotador_29845489   \n",
       "\n",
       "                       tipo_ent id_ent       anotador_ent  offset length  \\\n",
       "0               numero_contrato     68  anotador_57452550  384816      7   \n",
       "1             orgao_contratante     69  anotador_57452550  384843     56   \n",
       "2           entidade_contratada     70  anotador_57452550  384904     81   \n",
       "3                  processo_gdf     67  anotador_57452550  384997     24   \n",
       "4               objeto_contrato     71  anotador_57452550  385031    221   \n",
       "...                         ...    ...                ...     ...    ...   \n",
       "16544           objeto_contrato   1323  anotador_29845489  280315    456   \n",
       "16545         programa_trabalho   1325  anotador_29845489  280825     21   \n",
       "16546              nota_empenho   1327  anotador_29845489  280921     11   \n",
       "16547            valor_contrato   1329  anotador_29845489  281121     12   \n",
       "16548  data_assinatura_contrato   1331  anotador_29845489  281272     10   \n",
       "\n",
       "                                                   texto         id_ato  \n",
       "0                                                01/2019  7_2.8.2019-R1  \n",
       "1      Companhia de\\nPlanejamento do Distrito Federal...  7_2.8.2019-R1  \n",
       "2      Servico Social da Industria - Departamento Reg...  7_2.8.2019-R1  \n",
       "3                               00121.00000.0897/2019-41  7_2.8.2019-R1  \n",
       "4      Patrocinio do Concurso V\\nPREMIO CODEPLAN DE T...  7_2.8.2019-R1  \n",
       "...                                                  ...            ...  \n",
       "16544  locação de máquinas e equipamentos destinados ...       631-R100  \n",
       "16545                              11.333.6207.2900.0017       631-R100  \n",
       "16546                                        2021NE00659       631-R100  \n",
       "16547                                       1.215.840,00       631-R100  \n",
       "16548                                         20/12/2021       631-R100  \n",
       "\n",
       "[16549 rows x 12 columns]"
      ]
     },
     "execution_count": 280,
     "metadata": {},
     "output_type": "execute_result"
    }
   ],
   "source": [
    "tipo_ato = data.loc[data['tipo_rel'] == 'REL_EXTRATO_CONTRATO'].reset_index(drop=True)\n",
    "tipo_ato"
   ]
  },
  {
   "cell_type": "code",
   "execution_count": 281,
   "metadata": {},
   "outputs": [],
   "source": [
    "\n",
    "result = tipo_ato.groupby('tipo_ent')['id_ato'].nunique()\n",
    "#print(result)\n",
    "#print(result.sort_values(ascending=False))\n"
   ]
  },
  {
   "cell_type": "code",
   "execution_count": 282,
   "metadata": {},
   "outputs": [],
   "source": [
    "#apenas para rodar o iob com spacy\n",
    "#cria um novo dataset com as 2000 primeiras linhas\n",
    "#csv_reader = pd.read_csv(\"/home/lucelia_vieira/Experimentos/ner/CSVs/REL_EXTRATO_CONTRATO_COMPLETO.csv\", nrows=200)"
   ]
  },
  {
   "cell_type": "code",
   "execution_count": 283,
   "metadata": {},
   "outputs": [
    {
     "data": {
      "text/html": [
       "<div>\n",
       "<style scoped>\n",
       "    .dataframe tbody tr th:only-of-type {\n",
       "        vertical-align: middle;\n",
       "    }\n",
       "\n",
       "    .dataframe tbody tr th {\n",
       "        vertical-align: top;\n",
       "    }\n",
       "\n",
       "    .dataframe thead th {\n",
       "        text-align: right;\n",
       "    }\n",
       "</style>\n",
       "<table border=\"1\" class=\"dataframe\">\n",
       "  <thead>\n",
       "    <tr style=\"text-align: right;\">\n",
       "      <th></th>\n",
       "      <th>Unnamed: 0</th>\n",
       "      <th>id_dodf</th>\n",
       "      <th>tipo_rel</th>\n",
       "      <th>id_rel</th>\n",
       "      <th>anotador_rel</th>\n",
       "      <th>tipo_ent</th>\n",
       "      <th>id_ent</th>\n",
       "      <th>anotador_ent</th>\n",
       "      <th>offset</th>\n",
       "      <th>length</th>\n",
       "      <th>texto</th>\n",
       "      <th>id_ato</th>\n",
       "    </tr>\n",
       "  </thead>\n",
       "  <tbody>\n",
       "    <tr>\n",
       "      <th>0</th>\n",
       "      <td>35</td>\n",
       "      <td>7_2.8.2019</td>\n",
       "      <td>REL_EXTRATO_CONTRATO</td>\n",
       "      <td>R1</td>\n",
       "      <td>anotador_57452550</td>\n",
       "      <td>EXTRATO_CONTRATO</td>\n",
       "      <td>225</td>\n",
       "      <td>anotador_57452550</td>\n",
       "      <td>384757</td>\n",
       "      <td>874</td>\n",
       "      <td>EXTRATOS DE CONTRATOS\\nEXTRATO DO CONTRATO DE ...</td>\n",
       "      <td>7_2.8.2019-R1</td>\n",
       "    </tr>\n",
       "    <tr>\n",
       "      <th>1</th>\n",
       "      <td>44</td>\n",
       "      <td>7_2.8.2019</td>\n",
       "      <td>REL_EXTRATO_CONTRATO</td>\n",
       "      <td>R2</td>\n",
       "      <td>anotador_57452550</td>\n",
       "      <td>EXTRATO_CONTRATO</td>\n",
       "      <td>226</td>\n",
       "      <td>anotador_57452550</td>\n",
       "      <td>385630</td>\n",
       "      <td>870</td>\n",
       "      <td>EXTRATO DO CONTRATO DE PATROCINIO No 02/2019, ...</td>\n",
       "      <td>7_2.8.2019-R2</td>\n",
       "    </tr>\n",
       "    <tr>\n",
       "      <th>2</th>\n",
       "      <td>78</td>\n",
       "      <td>7_2.8.2019</td>\n",
       "      <td>REL_EXTRATO_CONTRATO</td>\n",
       "      <td>R3</td>\n",
       "      <td>anotador_57452550</td>\n",
       "      <td>EXTRATO_CONTRATO</td>\n",
       "      <td>98</td>\n",
       "      <td>anotador_57452550</td>\n",
       "      <td>396252</td>\n",
       "      <td>1029</td>\n",
       "      <td>EXTRATO DO CONTRATO No 34/2019\\nProcesso no: 0...</td>\n",
       "      <td>7_2.8.2019-R3</td>\n",
       "    </tr>\n",
       "    <tr>\n",
       "      <th>3</th>\n",
       "      <td>211</td>\n",
       "      <td>7_2.8.2019</td>\n",
       "      <td>REL_EXTRATO_CONTRATO</td>\n",
       "      <td>R4</td>\n",
       "      <td>anotador_57452550</td>\n",
       "      <td>EXTRATO_CONTRATO</td>\n",
       "      <td>229</td>\n",
       "      <td>anotador_57452550</td>\n",
       "      <td>457818</td>\n",
       "      <td>1245</td>\n",
       "      <td>EXTRATO DO CONTRATO No 11/2019\\nPROCESSO: 0039...</td>\n",
       "      <td>7_2.8.2019-R4</td>\n",
       "    </tr>\n",
       "    <tr>\n",
       "      <th>4</th>\n",
       "      <td>224</td>\n",
       "      <td>7_2.8.2019</td>\n",
       "      <td>REL_EXTRATO_CONTRATO</td>\n",
       "      <td>R5</td>\n",
       "      <td>anotador_57452550</td>\n",
       "      <td>EXTRATO_CONTRATO</td>\n",
       "      <td>230</td>\n",
       "      <td>anotador_57452550</td>\n",
       "      <td>459062</td>\n",
       "      <td>1264</td>\n",
       "      <td>EXTRATO DO CONTRATO No 05/2019\\nPROCESSO: 0039...</td>\n",
       "      <td>7_2.8.2019-R5</td>\n",
       "    </tr>\n",
       "    <tr>\n",
       "      <th>...</th>\n",
       "      <td>...</td>\n",
       "      <td>...</td>\n",
       "      <td>...</td>\n",
       "      <td>...</td>\n",
       "      <td>...</td>\n",
       "      <td>...</td>\n",
       "      <td>...</td>\n",
       "      <td>...</td>\n",
       "      <td>...</td>\n",
       "      <td>...</td>\n",
       "      <td>...</td>\n",
       "      <td>...</td>\n",
       "    </tr>\n",
       "    <tr>\n",
       "      <th>1218</th>\n",
       "      <td>30323</td>\n",
       "      <td>631</td>\n",
       "      <td>REL_EXTRATO_CONTRATO</td>\n",
       "      <td>R96</td>\n",
       "      <td>anotador_29845489</td>\n",
       "      <td>EXTRATO_CONTRATO</td>\n",
       "      <td>1278</td>\n",
       "      <td>anotador_29845489</td>\n",
       "      <td>273203</td>\n",
       "      <td>1757</td>\n",
       "      <td>EXTRATO DO CONTRATO DE AQUISIÇÃO DE BENS Nº 30...</td>\n",
       "      <td>631-R96</td>\n",
       "    </tr>\n",
       "    <tr>\n",
       "      <th>1219</th>\n",
       "      <td>30343</td>\n",
       "      <td>631</td>\n",
       "      <td>REL_EXTRATO_CONTRATO</td>\n",
       "      <td>R97</td>\n",
       "      <td>anotador_29845489</td>\n",
       "      <td>EXTRATO_CONTRATO</td>\n",
       "      <td>1291</td>\n",
       "      <td>anotador_29845489</td>\n",
       "      <td>274961</td>\n",
       "      <td>1742</td>\n",
       "      <td>EXTRATO DO CONTRATO DE AQUISIÇÃO DE BENS Nº 31...</td>\n",
       "      <td>631-R97</td>\n",
       "    </tr>\n",
       "    <tr>\n",
       "      <th>1220</th>\n",
       "      <td>30356</td>\n",
       "      <td>631</td>\n",
       "      <td>REL_EXTRATO_CONTRATO</td>\n",
       "      <td>R98</td>\n",
       "      <td>anotador_29845489</td>\n",
       "      <td>EXTRATO_CONTRATO</td>\n",
       "      <td>1309</td>\n",
       "      <td>anotador_29845489</td>\n",
       "      <td>276704</td>\n",
       "      <td>1696</td>\n",
       "      <td>EXTRATO DO CONTRATO DE AQUISIÇÃO DE BENS Nº 33...</td>\n",
       "      <td>631-R98</td>\n",
       "    </tr>\n",
       "    <tr>\n",
       "      <th>1221</th>\n",
       "      <td>30371</td>\n",
       "      <td>631</td>\n",
       "      <td>REL_EXTRATO_CONTRATO</td>\n",
       "      <td>R99</td>\n",
       "      <td>anotador_29845489</td>\n",
       "      <td>EXTRATO_CONTRATO</td>\n",
       "      <td>1319</td>\n",
       "      <td>anotador_29845489</td>\n",
       "      <td>278401</td>\n",
       "      <td>1684</td>\n",
       "      <td>EXTRATO DO CONTRATO DE AQUISIÇÃO DE BENS Nº 34...</td>\n",
       "      <td>631-R99</td>\n",
       "    </tr>\n",
       "    <tr>\n",
       "      <th>1222</th>\n",
       "      <td>30383</td>\n",
       "      <td>631</td>\n",
       "      <td>REL_EXTRATO_CONTRATO</td>\n",
       "      <td>R100</td>\n",
       "      <td>anotador_29845489</td>\n",
       "      <td>EXTRATO_CONTRATO</td>\n",
       "      <td>1332</td>\n",
       "      <td>anotador_29845489</td>\n",
       "      <td>280086</td>\n",
       "      <td>1460</td>\n",
       "      <td>EXTRATO DO CONTRATO DE PRESTAÇÃO DE SERVIÇOS N...</td>\n",
       "      <td>631-R100</td>\n",
       "    </tr>\n",
       "  </tbody>\n",
       "</table>\n",
       "<p>1223 rows × 12 columns</p>\n",
       "</div>"
      ],
      "text/plain": [
       "     Unnamed: 0     id_dodf              tipo_rel id_rel       anotador_rel  \\\n",
       "0            35  7_2.8.2019  REL_EXTRATO_CONTRATO     R1  anotador_57452550   \n",
       "1            44  7_2.8.2019  REL_EXTRATO_CONTRATO     R2  anotador_57452550   \n",
       "2            78  7_2.8.2019  REL_EXTRATO_CONTRATO     R3  anotador_57452550   \n",
       "3           211  7_2.8.2019  REL_EXTRATO_CONTRATO     R4  anotador_57452550   \n",
       "4           224  7_2.8.2019  REL_EXTRATO_CONTRATO     R5  anotador_57452550   \n",
       "...         ...         ...                   ...    ...                ...   \n",
       "1218      30323         631  REL_EXTRATO_CONTRATO    R96  anotador_29845489   \n",
       "1219      30343         631  REL_EXTRATO_CONTRATO    R97  anotador_29845489   \n",
       "1220      30356         631  REL_EXTRATO_CONTRATO    R98  anotador_29845489   \n",
       "1221      30371         631  REL_EXTRATO_CONTRATO    R99  anotador_29845489   \n",
       "1222      30383         631  REL_EXTRATO_CONTRATO   R100  anotador_29845489   \n",
       "\n",
       "              tipo_ent id_ent       anotador_ent  offset length  \\\n",
       "0     EXTRATO_CONTRATO    225  anotador_57452550  384757    874   \n",
       "1     EXTRATO_CONTRATO    226  anotador_57452550  385630    870   \n",
       "2     EXTRATO_CONTRATO     98  anotador_57452550  396252   1029   \n",
       "3     EXTRATO_CONTRATO    229  anotador_57452550  457818   1245   \n",
       "4     EXTRATO_CONTRATO    230  anotador_57452550  459062   1264   \n",
       "...                ...    ...                ...     ...    ...   \n",
       "1218  EXTRATO_CONTRATO   1278  anotador_29845489  273203   1757   \n",
       "1219  EXTRATO_CONTRATO   1291  anotador_29845489  274961   1742   \n",
       "1220  EXTRATO_CONTRATO   1309  anotador_29845489  276704   1696   \n",
       "1221  EXTRATO_CONTRATO   1319  anotador_29845489  278401   1684   \n",
       "1222  EXTRATO_CONTRATO   1332  anotador_29845489  280086   1460   \n",
       "\n",
       "                                                  texto         id_ato  \n",
       "0     EXTRATOS DE CONTRATOS\\nEXTRATO DO CONTRATO DE ...  7_2.8.2019-R1  \n",
       "1     EXTRATO DO CONTRATO DE PATROCINIO No 02/2019, ...  7_2.8.2019-R2  \n",
       "2     EXTRATO DO CONTRATO No 34/2019\\nProcesso no: 0...  7_2.8.2019-R3  \n",
       "3     EXTRATO DO CONTRATO No 11/2019\\nPROCESSO: 0039...  7_2.8.2019-R4  \n",
       "4     EXTRATO DO CONTRATO No 05/2019\\nPROCESSO: 0039...  7_2.8.2019-R5  \n",
       "...                                                 ...            ...  \n",
       "1218  EXTRATO DO CONTRATO DE AQUISIÇÃO DE BENS Nº 30...        631-R96  \n",
       "1219  EXTRATO DO CONTRATO DE AQUISIÇÃO DE BENS Nº 31...        631-R97  \n",
       "1220  EXTRATO DO CONTRATO DE AQUISIÇÃO DE BENS Nº 33...        631-R98  \n",
       "1221  EXTRATO DO CONTRATO DE AQUISIÇÃO DE BENS Nº 34...        631-R99  \n",
       "1222  EXTRATO DO CONTRATO DE PRESTAÇÃO DE SERVIÇOS N...       631-R100  \n",
       "\n",
       "[1223 rows x 12 columns]"
      ]
     },
     "execution_count": 283,
     "metadata": {},
     "output_type": "execute_result"
    }
   ],
   "source": [
    "#cria um novo dataset apenas com o tipo de entidade EXTATO_CONTRATO (TEXTO)\n",
    "tipo_ato1 = tipo_ato.loc[tipo_ato['tipo_ent'] == 'EXTRATO_CONTRATO'].reset_index(drop=True)\n",
    "tipo_ato1\n"
   ]
  },
  {
   "cell_type": "code",
   "execution_count": 284,
   "metadata": {},
   "outputs": [
    {
     "data": {
      "text/plain": [
       "0       EXTRATOS DE CONTRATOS\\nEXTRATO DO CONTRATO DE ...\n",
       "1       EXTRATO DO CONTRATO DE PATROCINIO No 02/2019, ...\n",
       "2       EXTRATO DO CONTRATO No 34/2019\\nProcesso no: 0...\n",
       "3       EXTRATO DO CONTRATO No 11/2019\\nPROCESSO: 0039...\n",
       "4       EXTRATO DO CONTRATO No 05/2019\\nPROCESSO: 0039...\n",
       "                              ...                        \n",
       "1218    EXTRATO DO CONTRATO DE AQUISIÇÃO DE BENS Nº 30...\n",
       "1219    EXTRATO DO CONTRATO DE AQUISIÇÃO DE BENS Nº 31...\n",
       "1220    EXTRATO DO CONTRATO DE AQUISIÇÃO DE BENS Nº 33...\n",
       "1221    EXTRATO DO CONTRATO DE AQUISIÇÃO DE BENS Nº 34...\n",
       "1222    EXTRATO DO CONTRATO DE PRESTAÇÃO DE SERVIÇOS N...\n",
       "Name: texto, Length: 1223, dtype: object"
      ]
     },
     "execution_count": 284,
     "metadata": {},
     "output_type": "execute_result"
    }
   ],
   "source": [
    "#criando novo dataframe somente com os textos\n",
    "df = tipo_ato1['texto'].reset_index(drop=True)\n",
    "df"
   ]
  },
  {
   "cell_type": "code",
   "execution_count": 285,
   "metadata": {},
   "outputs": [],
   "source": [
    "#df = [\"EXTRATO DO CONTRATO No 11/2019 PROCESSO: 00390-00003006/2019-92. ESPECIE: Contrato de Aquisicao de Bens pelo Distrito Federal no 11/2019. PARTES: Secretaria de Estado de Desenvolvimento Urbano e Habitacao do Distrito Federal - SEDUH/DF e INDUSTRIA DE AGUA MINERAL IBIA LTDA. DO OBJETO: Aquisicao de agua potavel de mesa sem gas e garrafao retornavel, destinados ao atendimento desta pasta, conforme demais especiGcacoes e condicoes estabelecidas no Termo de Referencia Anexo I do Edital de Pregao Eletronico no 0058/2018 - SCG/SEPLAG, da Proposta da empresa INDUSTRIA DE AGUA MINERAL IBIA LTDA de 11/06/2018 e da Lei no 8.666, de 21 de junho de 1993, que passam a integrar o presente Termo. DO VALOR: R$ 11.661,00 (onze mil, seiscentos e sessenta e um reais) conforme Nota de Empenho no 2019NE00180, emitida em 18/07/2019. Dotacao Orcamentaria P.T 15.122.6001.8517.0131 - Natureza da Despesa: 3390.30 - Fonte de Recursos: 100. DO PRAZO DE VIGENCIA: O Contrato tera vigencia de 06 (seis) meses a contar do dia 07/08/2019. DATA DE ASSINATURA: 22/07/2019. SIGNATARIOS: Pelo Distrito Federal: Mateus Leandro de Oliveira, na qualidade de Secretario de Estado. Pela Contratada: Eduardo Barros de Queiroz Rodrigues, na qualidade de Socio Administrador.\", \"EXTRATO DO CONTRATO Nº 06/2021 Processo: 00139-00001275/2021-00. Partes: DF - ADMINISTRAÇÃO REGIONAL DO CRUZEIRO X COMERCIAL DE ALIMENTOS PARK SUL. Objeto: O presente contrato tem por objeto a contratação de empresa especializada na área de alimentação para confecção e fornecimento de 50 KG DE BOLO CONFEITADO TIPO ANIVERSÁRIO COM MASSA PÃO DE LÓ COM RECHEIO DE BABA DE MOÇA, BEIJINHO OU DOCE DE LEITE E COBERTURA DE CHANTILLY DECORADO COM ACABAMENTO, no evento de comemoração ao aniversário de 62 anos do Cruzeiro no dia 30/11/2021. Valor do Contrato: R$ 2.000,00 (Dois Mil Reais). Dotação orçamentária: Unidade Orçamentária: 190113. Programa de Trabalho: 13.392.6219.3678.0136 . Natureza da Despesa: 339039. Fonte de Recursos: 120. Nota de Empenho: 2021NE00259. Valor do Empenho Inicial: R$ 2.000,00 (Dois Mil Reais), emitida em 26/11/2021 sob o evento 400091, na Modalidade 1   Ordinário. Fundamento Legal: Art. 24 da Lei nº 8.666/1993. Data da Assinatura: 29/11/2021. Signatários: Pelo DISTRITO FEDERAL: LUIZ EDUARDO GOMES DE PAULA PESSOA, na qualidade de Administrador Regional do Cruzeiro; pela COMERCIAL DE ALIMENTOS PARK SUL: GIVANILDES DE AGUIAR MORAIS, na qualidade de Gerente Geral.\"] "
   ]
  },
  {
   "cell_type": "code",
   "execution_count": 286,
   "metadata": {},
   "outputs": [],
   "source": [
    "# CODIGO RESPONSAVEL PELA LIMPEZA DO TEXTO DA BASE OURO\n",
    "import re\n",
    "\n",
    "df1 =[]\n",
    "\n",
    "for i in df:\n",
    "    i = i.replace(\"\\n\", \" \")\n",
    "    i = re.sub('xx[a-z]{1,10}', '', i)\n",
    "    #i = i.replace(r\"xx[a-z]{1,10}\",\"\")\n",
    "    aux = ' '.join(i.split())\n",
    "    #print(aux)\n",
    "    df1.append(aux)\n"
   ]
  },
  {
   "cell_type": "code",
   "execution_count": 287,
   "metadata": {},
   "outputs": [
    {
     "data": {
      "text/plain": [
       "1223"
      ]
     },
     "execution_count": 287,
     "metadata": {},
     "output_type": "execute_result"
    }
   ],
   "source": [
    "len(df1)"
   ]
  },
  {
   "cell_type": "code",
   "execution_count": 288,
   "metadata": {},
   "outputs": [
    {
     "data": {
      "text/plain": [
       "\" ## Carrega o Teste para aplicação da LB direto\\ndf_sk = pd.read_csv('./CSVs/Extrato_Contrato_Split_4_x_test_texto.csv', dtype=str)\\ndf_sk \""
      ]
     },
     "execution_count": 288,
     "metadata": {},
     "output_type": "execute_result"
    }
   ],
   "source": [
    "\"\"\" ## Carrega o Teste para aplicação da LB direto\n",
    "df_sk = pd.read_csv('./CSVs/Extrato_Contrato_Split_4_x_test_texto.csv', dtype=str)\n",
    "df_sk \"\"\""
   ]
  },
  {
   "cell_type": "code",
   "execution_count": 289,
   "metadata": {},
   "outputs": [
    {
     "data": {
      "text/plain": [
       "\" #criando novo dataframe de test somente com os textos\\ndf_sk = df_sk['Texto'].reset_index(drop=True)\\ndf_sk \""
      ]
     },
     "execution_count": 289,
     "metadata": {},
     "output_type": "execute_result"
    }
   ],
   "source": [
    "\"\"\" #criando novo dataframe de test somente com os textos\n",
    "df_sk = df_sk['Texto'].reset_index(drop=True)\n",
    "df_sk \"\"\""
   ]
  },
  {
   "cell_type": "code",
   "execution_count": 290,
   "metadata": {},
   "outputs": [],
   "source": [
    "# return_df=False para retornar atos e labels, ou  return_df=True para retornar dataset\n",
    "from iob_transformer import iob_transformer\n",
    "iob = iob_transformer('id_ato','texto','tipo_ent', keep_punctuation=False, return_df=False)"
   ]
  },
  {
   "cell_type": "code",
   "execution_count": 291,
   "metadata": {},
   "outputs": [],
   "source": [
    "atos, labels = iob.transform(tipo_ato)"
   ]
  },
  {
   "cell_type": "code",
   "execution_count": 292,
   "metadata": {},
   "outputs": [
    {
     "data": {
      "text/plain": [
       "1223"
      ]
     },
     "execution_count": 292,
     "metadata": {},
     "output_type": "execute_result"
    }
   ],
   "source": [
    "len(atos)"
   ]
  },
  {
   "cell_type": "code",
   "execution_count": 293,
   "metadata": {},
   "outputs": [
    {
     "name": "stdout",
     "output_type": "stream",
     "text": [
      "Starting iteration 1\n",
      "Number of processed documents: 1000\n",
      "Finished E-step with 1223 documents\n",
      "Starting iteration 2\n"
     ]
    },
    {
     "name": "stderr",
     "output_type": "stream",
     "text": [
      "         1      -63695.4375             +nan\n"
     ]
    },
    {
     "name": "stdout",
     "output_type": "stream",
     "text": [
      "Number of processed documents: 1000\n",
      "Finished E-step with 1223 documents\n",
      "Starting iteration 3\n"
     ]
    },
    {
     "name": "stderr",
     "output_type": "stream",
     "text": [
      "         2      -62047.6421       +1647.7954\n"
     ]
    },
    {
     "name": "stdout",
     "output_type": "stream",
     "text": [
      "Number of processed documents: 1000\n",
      "Finished E-step with 1223 documents\n",
      "Starting iteration 4\n"
     ]
    },
    {
     "name": "stderr",
     "output_type": "stream",
     "text": [
      "         3      -62004.3433         +43.2988\n"
     ]
    },
    {
     "name": "stdout",
     "output_type": "stream",
     "text": [
      "Number of processed documents: 1000\n",
      "Finished E-step with 1223 documents\n"
     ]
    },
    {
     "name": "stderr",
     "output_type": "stream",
     "text": [
      "         4      -61993.3932         +10.9501\n"
     ]
    },
    {
     "name": "stdout",
     "output_type": "stream",
     "text": [
      "Write to ./data/reuters_small.spacy...done\n"
     ]
    }
   ],
   "source": [
    "# CODIGO DE APLICACAO DA SUPERVISAO FRACA\n",
    "import dodfSkweak_v1_2\n",
    "skw = dodfSkweak_v1_2.SkweakContratos(df1)\n",
    "skw.apply_label_functions()\n",
    "skw.train_HMM_Dodf()\n",
    "#data_label=skw.get_hmm_dataframe()\n"
   ]
  },
  {
   "cell_type": "code",
   "execution_count": 294,
   "metadata": {},
   "outputs": [],
   "source": [
    "#data_label"
   ]
  },
  {
   "cell_type": "code",
   "execution_count": 295,
   "metadata": {},
   "outputs": [],
   "source": [
    "# converting to CSV file\n",
    "#data_label.to_csv(\"./CSVs/base_rotulada_supervisao_fraca.csv\")"
   ]
  },
  {
   "cell_type": "code",
   "execution_count": 296,
   "metadata": {},
   "outputs": [],
   "source": [
    "corpus = skw.get_IOB()"
   ]
  },
  {
   "cell_type": "code",
   "execution_count": 297,
   "metadata": {},
   "outputs": [],
   "source": [
    "#corpus"
   ]
  },
  {
   "cell_type": "code",
   "execution_count": 298,
   "metadata": {},
   "outputs": [],
   "source": [
    "termos_skweak = []\n",
    "debug=set()\n",
    "labels_skweak = []\n",
    "for ato in corpus:\n",
    "    x = []\n",
    "    y = []\n",
    "    for termo in ato:\n",
    "        termo_label = termo.split()\n",
    "        x.append(termo_label[0])\n",
    "        y.append(termo_label[1])\n",
    "        debug.add(termo_label[1])\n",
    "    termos_skweak.append(x)\n",
    "    labels_skweak.append(y)"
   ]
  },
  {
   "cell_type": "code",
   "execution_count": 299,
   "metadata": {},
   "outputs": [
    {
     "data": {
      "text/plain": [
       "{'B-data_assinatura_contrato',\n",
       " 'B-natureza_despesa',\n",
       " 'B-nota_empenho',\n",
       " 'B-numero_contrato',\n",
       " 'B-processo_gdf',\n",
       " 'B-programa_trabalho',\n",
       " 'B-unidade_orcamentaria',\n",
       " 'B-valor_contrato',\n",
       " 'I-data_assinatura_contrato',\n",
       " 'I-natureza_despesa',\n",
       " 'I-nota_empenho',\n",
       " 'I-numero_contrato',\n",
       " 'I-processo_gdf',\n",
       " 'I-programa_trabalho',\n",
       " 'I-unidade_orcamentaria',\n",
       " 'O'}"
      ]
     },
     "execution_count": 299,
     "metadata": {},
     "output_type": "execute_result"
    }
   ],
   "source": [
    "debug"
   ]
  },
  {
   "cell_type": "code",
   "execution_count": 300,
   "metadata": {},
   "outputs": [
    {
     "data": {
      "text/plain": [
       "1223"
      ]
     },
     "execution_count": 300,
     "metadata": {},
     "output_type": "execute_result"
    }
   ],
   "source": [
    "len(labels_skweak)"
   ]
  },
  {
   "cell_type": "code",
   "execution_count": 301,
   "metadata": {},
   "outputs": [
    {
     "data": {
      "text/plain": [
       "1223"
      ]
     },
     "execution_count": 301,
     "metadata": {},
     "output_type": "execute_result"
    }
   ],
   "source": [
    "len(termos_skweak)"
   ]
  },
  {
   "cell_type": "code",
   "execution_count": 302,
   "metadata": {},
   "outputs": [],
   "source": [
    "#labels_skweak"
   ]
  },
  {
   "cell_type": "code",
   "execution_count": 303,
   "metadata": {},
   "outputs": [
    {
     "data": {
      "text/plain": [
       "294686"
      ]
     },
     "execution_count": 303,
     "metadata": {},
     "output_type": "execute_result"
    }
   ],
   "source": [
    "termos_skweak_list = []\n",
    "for i in termos_skweak:\n",
    "   if not isinstance(i, list):\n",
    "      termos_skweak_list.append(i)\n",
    "   else:\n",
    "      for j in i:\n",
    "        termos_skweak_list.append(j)\n",
    "\n",
    "len(termos_skweak_list)"
   ]
  },
  {
   "cell_type": "code",
   "execution_count": 304,
   "metadata": {},
   "outputs": [],
   "source": [
    "#termos_skweak_list"
   ]
  },
  {
   "cell_type": "code",
   "execution_count": 305,
   "metadata": {},
   "outputs": [
    {
     "data": {
      "text/plain": [
       "294686"
      ]
     },
     "execution_count": 305,
     "metadata": {},
     "output_type": "execute_result"
    }
   ],
   "source": [
    "labels_skweak_list = []\n",
    "for i in labels_skweak:\n",
    "   if not isinstance(i, list):\n",
    "      labels_skweak_list.append(i)\n",
    "   else:\n",
    "      for j in i:\n",
    "        labels_skweak_list.append(j)\n",
    "\n",
    "len(labels_skweak_list)"
   ]
  },
  {
   "cell_type": "code",
   "execution_count": 306,
   "metadata": {},
   "outputs": [],
   "source": [
    "#labels_skweak_list"
   ]
  },
  {
   "cell_type": "code",
   "execution_count": 307,
   "metadata": {},
   "outputs": [
    {
     "data": {
      "text/plain": [
       "294686"
      ]
     },
     "execution_count": 307,
     "metadata": {},
     "output_type": "execute_result"
    }
   ],
   "source": [
    "labels_list = []\n",
    "for i in labels:\n",
    "   if not isinstance(i, list):\n",
    "      labels_list.append(i)\n",
    "   else:\n",
    "      for j in i:\n",
    "         labels_list.append(j)\n",
    "len(labels_list)"
   ]
  },
  {
   "cell_type": "code",
   "execution_count": 308,
   "metadata": {},
   "outputs": [],
   "source": [
    "#labels_list"
   ]
  },
  {
   "cell_type": "code",
   "execution_count": 309,
   "metadata": {},
   "outputs": [
    {
     "data": {
      "text/plain": [
       "294686"
      ]
     },
     "execution_count": 309,
     "metadata": {},
     "output_type": "execute_result"
    }
   ],
   "source": [
    "atos_list = []\n",
    "for i in atos:\n",
    "   if not isinstance(i, list):\n",
    "      atos_list.append(i)\n",
    "   else:\n",
    "      for j in i:\n",
    "         atos_list.append(j)\n",
    "len(atos_list)"
   ]
  },
  {
   "cell_type": "code",
   "execution_count": 310,
   "metadata": {},
   "outputs": [
    {
     "data": {
      "text/plain": [
       "294686"
      ]
     },
     "execution_count": 310,
     "metadata": {},
     "output_type": "execute_result"
    }
   ],
   "source": [
    "corpus_skweak_list = []\n",
    "for i in corpus:\n",
    "   if not isinstance(i, list):\n",
    "      corpus_skweak_list.append(i)\n",
    "   else:\n",
    "      for j in i:\n",
    "         corpus_skweak_list.append(j)\n",
    "#print(corpus_skweak_list)\n",
    "len(corpus_skweak_list)"
   ]
  },
  {
   "cell_type": "code",
   "execution_count": 311,
   "metadata": {},
   "outputs": [],
   "source": [
    "#corpus_skweak_list"
   ]
  },
  {
   "cell_type": "code",
   "execution_count": 312,
   "metadata": {},
   "outputs": [],
   "source": [
    "\n",
    "resultados = []\n",
    "for ato_sk_list , label_sk_list, ato_gold, label_gold in zip(termos_skweak_list, labels_skweak_list,  atos_list, labels_list):\n",
    "    tupla=(ato_sk_list , label_sk_list, ato_gold, label_gold)\n",
    "    resultados.append(tupla)\n",
    "    if ato_sk_list != ato_gold:\n",
    "        print(ato_sk_list, ato_gold)\n",
    "#print(resultados)\n",
    "#for item in resultados:\n",
    "    #print(item)"
   ]
  },
  {
   "cell_type": "code",
   "execution_count": 313,
   "metadata": {},
   "outputs": [
    {
     "name": "stdout",
     "output_type": "stream",
     "text": [
      "Tipo da entidade             Total Entidade Gold                 Total Entidade Skweak\n",
      "B-numero_contrato     1389     1187\n",
      "B-data_assinatura_contrato   901     845\n",
      "B-unidade_orcamentaria    806     768\n",
      "B-programa_trabalho    882     836\n"
     ]
    }
   ],
   "source": [
    "#labels_skweak = labels\n",
    "numero_contrato = 0\n",
    "numero_contrato_total = 0\n",
    "B_numero_contrato = 0\n",
    "numero_contrato_gold=[]\n",
    "\n",
    "data_assinatura_contrato = 0\n",
    "data_assinatura_contrato_total = 0\n",
    "B_data_assinatura_contrato = 0\n",
    "data_assinatura_contrato_gold = []\n",
    "\n",
    "unidade_orcamentaria = 0\n",
    "unidade_orcamentaria_total = 0\n",
    "B_unidade_orcamentaria = 0\n",
    "unidade_orcamentaria_gold = []\n",
    "teste=[]\n",
    "\n",
    "programa_trabalho = 0\n",
    "programa_trabalho_total = 0\n",
    "B_programa_trabalho = 0\n",
    "programa_trabalho_gold = []\n",
    "\n",
    "#for text_sk, label_skweak, text_gold,  label_gold in zip(termos_skweak, labels_skweak, atos, labels):\n",
    "for ato_sk , label_sk, ato_gold, label_gold in zip(termos_skweak_list, labels_skweak_list,  atos_list, labels_list):    \n",
    "    #for text_skw, termo_skweak, text_ato, termo_gold in zip(text_sk, label_skweak, text_gold,  label_gold ):\n",
    "       \n",
    "       #print(\"termo swkeak\", termo_skweak) \n",
    "       if label_gold == \"B-numero_contrato\":\n",
    "           #print(\"Teste\")\n",
    "           numero_contrato_total+=1\n",
    "           B_numero_contrato=label_gold\n",
    "           if label_gold == label_sk:\n",
    "               numero_contrato+=1\n",
    "           else:\n",
    "               numero_contrato_gold.append(ato_gold)\n",
    "\n",
    "       elif label_gold == \"B-data_assinatura_contrato\":\n",
    "                \n",
    "            data_assinatura_contrato_total+=1\n",
    "            B_data_assinatura_contrato=label_gold\n",
    "            if label_gold == label_sk:\n",
    "                data_assinatura_contrato+=1\n",
    "            else:\n",
    "                data_assinatura_contrato_gold.append(ato_gold)\n",
    "\n",
    "       elif label_gold == \"B-unidade_orcamentaria\":\n",
    "                \n",
    "            unidade_orcamentaria_total+=1\n",
    "            B_unidade_orcamentaria=label_gold\n",
    "            if label_gold == label_sk:\n",
    "                unidade_orcamentaria+=1\n",
    "                \n",
    "            else:\n",
    "                unidade_orcamentaria_gold.append(ato_gold) \n",
    "                 \n",
    "       elif label_gold == \"B-programa_trabalho\":\n",
    "                \n",
    "            programa_trabalho_total+=1\n",
    "            B_programa_trabalho=label_gold\n",
    "            if label_gold == label_sk:\n",
    "                programa_trabalho+=1\n",
    "            else:\n",
    "                programa_trabalho_gold.append(ato_gold)                \n",
    "print(\"Tipo da entidade             Total Entidade Gold                 Total Entidade Skweak\")                \n",
    "print(\"B-numero_contrato\",              \"   \",numero_contrato_total,         \"   \",numero_contrato)#,\"      \",\"       \",numero_contrato_gold)\n",
    "print(\"B-data_assinatura_contrato\",\" \",data_assinatura_contrato_total,\"   \",data_assinatura_contrato)#,\"      \",data_assinatura_contrato_gold)\n",
    "print(\"B-unidade_orcamentaria\",      \"  \",unidade_orcamentaria_total,    \"   \",unidade_orcamentaria)#,\"          \",unidade_orcamentaria_gold)\n",
    "print( \"B-programa_trabalho\",       \"  \",programa_trabalho_total,       \"   \",programa_trabalho)#,\"             \",programa_trabalho_gold)\n",
    "\n",
    "#print(programa_trabalho_gold)"
   ]
  },
  {
   "cell_type": "code",
   "execution_count": 314,
   "metadata": {},
   "outputs": [],
   "source": [
    "#supervisão fraca\n",
    "x=termos_skweak\n",
    "y=labels_skweak"
   ]
  },
  {
   "cell_type": "code",
   "execution_count": 315,
   "metadata": {},
   "outputs": [],
   "source": [
    "#gold\n",
    "x1=atos\n",
    "y1=labels"
   ]
  },
  {
   "cell_type": "code",
   "execution_count": 316,
   "metadata": {},
   "outputs": [
    {
     "name": "stdout",
     "output_type": "stream",
     "text": [
      "x_train 978 \n",
      " x_test 245 \n",
      " total atos 1223\n"
     ]
    }
   ],
   "source": [
    "#Split da Supervisão Fraca\n",
    "from sklearn.model_selection import train_test_split\n",
    "# 80% treino, 20% teste\n",
    "x_train, x_test, y_train, y_test = train_test_split(x, y, test_size=0.2, random_state=42, shuffle=False)\n",
    "print( 'x_train',len(x_train),'\\n','x_test',len(x_test),'\\n','total atos',len(x))"
   ]
  },
  {
   "cell_type": "code",
   "execution_count": 317,
   "metadata": {},
   "outputs": [],
   "source": [
    "#Carrega os atos do dataset de teste da base ouro\n",
    "#https://pt.stackoverflow.com/questions/232208/ler-uma-lista-de-listas-em-txt-python-3\n",
    "import pickle\n",
    "with open(\"./CSVs/Extrato_Contrato_Split_4_x_test.txt\", \"rb\") as file:\n",
    "    gold_x_test = pickle.load(file)"
   ]
  },
  {
   "cell_type": "code",
   "execution_count": 318,
   "metadata": {},
   "outputs": [
    {
     "data": {
      "text/plain": [
       "60270"
      ]
     },
     "execution_count": 318,
     "metadata": {},
     "output_type": "execute_result"
    }
   ],
   "source": [
    "#Cria uma Lista com o x_test\n",
    "gold_x_test_list = []\n",
    "for i in gold_x_test:\n",
    "   if not isinstance(i, list):\n",
    "      gold_x_test_list.append(i)\n",
    "   else:\n",
    "      for j in i:\n",
    "        gold_x_test_list.append(j)\n",
    "\n",
    "len(gold_x_test_list)"
   ]
  },
  {
   "cell_type": "code",
   "execution_count": 319,
   "metadata": {},
   "outputs": [],
   "source": [
    "#Carrega os labels do dataset de teste da base ouro\n",
    "import pickle\n",
    "with open(\"./CSVs/Extrato_Contrato_Split_4_y_test.txt\", \"rb\") as file:\n",
    "    gold_y_test = pickle.load(file)"
   ]
  },
  {
   "cell_type": "code",
   "execution_count": 320,
   "metadata": {},
   "outputs": [
    {
     "data": {
      "text/plain": [
       "60270"
      ]
     },
     "execution_count": 320,
     "metadata": {},
     "output_type": "execute_result"
    }
   ],
   "source": [
    "gold_y_test_list = []\n",
    "for i in gold_y_test:\n",
    "   if not isinstance(i, list):\n",
    "      gold_y_test_list.append(i)\n",
    "   else:\n",
    "      for j in i:\n",
    "       gold_y_test_list.append(j)\n",
    "\n",
    "len(gold_y_test_list)"
   ]
  },
  {
   "cell_type": "markdown",
   "metadata": {},
   "source": [
    "CRF"
   ]
  },
  {
   "cell_type": "code",
   "execution_count": 321,
   "metadata": {},
   "outputs": [],
   "source": [
    "#X_train\n",
    "\n",
    "def get_features(sentence):\n",
    "        \"\"\"Create features for each word in act.\n",
    "        Create a list of dict of words features to be used in the predictor module.\n",
    "        Args:\n",
    "            act (list): List of words in an act.\n",
    "        Returns:\n",
    "            A list with a dictionary of features for each of the words.\n",
    "        \"\"\"\n",
    "        sent_features = []\n",
    "        \n",
    "        for i in range(len(sentence)):\n",
    "            word_feat = {\n",
    "                'word': sentence[i].lower(),\n",
    "                'capital_letter': sentence[i][0].isupper(),\n",
    "                'all_capital': sentence[i].isupper(),\n",
    "                'isdigit': sentence[i].isdigit(),\n",
    "                'word_before': sentence[i].lower() if i == 0 else sentence[i-1].lower(),\n",
    "                'word_after:': sentence[i].lower() if i+1 >= len(sentence) else sentence[i+1].lower(),\n",
    "                'BOS': i == 0,\n",
    "                'EOS': i == len(sentence)-1\n",
    "            }\n",
    "            sent_features.append(word_feat)\n",
    "        return sent_features\n",
    "    \n",
    "for i in range(len(x_train)):\n",
    "    x_train[i] = get_features(x_train[i])"
   ]
  },
  {
   "cell_type": "code",
   "execution_count": 322,
   "metadata": {},
   "outputs": [],
   "source": [
    "#X_test\n",
    "def get_features(sentence):\n",
    "        \"\"\"Create features for each word in act.\n",
    "        Create a list of dict of words features to be used in the predictor module.\n",
    "        Args:\n",
    "            act (list): List of words in an act.\n",
    "        Returns:\n",
    "            A list with a dictionary of features for each of the words.\n",
    "        \"\"\"\n",
    "        x_test = []\n",
    "        sent_features = []\n",
    "        for i in range(len(sentence)):\n",
    "            word_feat = {\n",
    "                'word': sentence[i].lower(),\n",
    "                'capital_letter': sentence[i][0].isupper(),\n",
    "                'all_capital': sentence[i].isupper(),\n",
    "                'isdigit': sentence[i].isdigit(),\n",
    "                'word_before': sentence[i].lower() if i == 0 else sentence[i-1].lower(),\n",
    "                'word_after:': sentence[i].lower() if i+1 >= len(sentence) else sentence[i+1].lower(),\n",
    "                'BOS': i == 0,\n",
    "                'EOS': i == len(sentence)-1\n",
    "            }\n",
    "            sent_features.append(word_feat)\n",
    "        return sent_features\n",
    "    \n",
    "for i in range(len(gold_x_test)):\n",
    "    gold_x_test[i] = get_features(gold_x_test[i])"
   ]
  },
  {
   "cell_type": "code",
   "execution_count": 323,
   "metadata": {},
   "outputs": [],
   "source": [
    "import sklearn_crfsuite\n",
    "from sklearn_crfsuite import metrics\n",
    "\n",
    "\n",
    "crf = sklearn_crfsuite.CRF(\n",
    "    algorithm='lbfgs',\n",
    "    c1=10,\n",
    "    c2=0.1,\n",
    "    max_iterations=100,\n",
    "    #max_iterations=50,\n",
    "    \n",
    "    all_possible_transitions=False,\n",
    "    all_possible_states=True\n",
    ")\n",
    "\n",
    "#crf.fit(x_train, y_train)\n",
    "\n",
    "try:\n",
    "    #crf.fit(x_train[:200], y_train[:200])\n",
    "    crf.fit(x_train, y_train)\n",
    "except AttributeError:\n",
    "    pass\n"
   ]
  },
  {
   "cell_type": "code",
   "execution_count": 324,
   "metadata": {},
   "outputs": [
    {
     "data": {
      "text/plain": [
       "['O',\n",
       " 'B-numero_contrato',\n",
       " 'B-processo_gdf',\n",
       " 'I-processo_gdf',\n",
       " 'B-data_assinatura_contrato',\n",
       " 'B-unidade_orcamentaria',\n",
       " 'B-programa_trabalho',\n",
       " 'B-natureza_despesa',\n",
       " 'B-nota_empenho',\n",
       " 'B-valor_contrato',\n",
       " 'I-programa_trabalho',\n",
       " 'I-natureza_despesa',\n",
       " 'I-nota_empenho',\n",
       " 'I-numero_contrato',\n",
       " 'I-data_assinatura_contrato',\n",
       " 'I-unidade_orcamentaria']"
      ]
     },
     "execution_count": 324,
     "metadata": {},
     "output_type": "execute_result"
    }
   ],
   "source": [
    "crf.classes_"
   ]
  },
  {
   "cell_type": "code",
   "execution_count": 325,
   "metadata": {},
   "outputs": [
    {
     "data": {
      "text/plain": [
       "0.7652578185859178"
      ]
     },
     "execution_count": 325,
     "metadata": {},
     "output_type": "execute_result"
    }
   ],
   "source": [
    "#Rotulação baseada no modelo treinado com supervisão fraca\n",
    "classes = list(crf.classes_)\n",
    "classes.remove('O')\n",
    "\n",
    "y_pred = crf.predict(gold_x_test)\n",
    "metrics.flat_f1_score(gold_y_test, y_pred, average='weighted', labels=classes)"
   ]
  },
  {
   "cell_type": "code",
   "execution_count": 326,
   "metadata": {},
   "outputs": [
    {
     "name": "stderr",
     "output_type": "stream",
     "text": [
      "/home/lucelia_vieira/experiments/members/lucelia/.venv/lib/python3.8/site-packages/sklearn/metrics/_classification.py:1245: UndefinedMetricWarning: Precision and F-score are ill-defined and being set to 0.0 in labels with no predicted samples. Use `zero_division` parameter to control this behavior.\n",
      "  _warn_prf(average, modifier, msg_start, len(result))\n"
     ]
    },
    {
     "name": "stdout",
     "output_type": "stream",
     "text": [
      "                            precision    recall  f1-score   support\n",
      "\n",
      "         B-numero_contrato      0.949     0.608     0.741       273\n",
      "            B-processo_gdf      0.929     0.776     0.846       237\n",
      "            I-processo_gdf      0.929     0.948     0.939       194\n",
      "B-data_assinatura_contrato      0.568     0.905     0.698       148\n",
      "    B-unidade_orcamentaria      0.729     0.625     0.673       112\n",
      "       B-programa_trabalho      0.752     0.449     0.562       176\n",
      "        B-natureza_despesa      0.983     0.722     0.833       162\n",
      "            B-nota_empenho      0.960     0.684     0.799       209\n",
      "          B-valor_contrato      0.802     0.884     0.841       294\n",
      "       I-programa_trabalho      0.000     0.000     0.000         1\n",
      "        I-natureza_despesa      0.000     0.000     0.000         2\n",
      "            I-nota_empenho      0.000     0.000     0.000         2\n",
      "         I-numero_contrato      0.000     0.000     0.000        21\n",
      "I-data_assinatura_contrato      0.460     0.769     0.576        52\n",
      "    I-unidade_orcamentaria      0.000     0.000     0.000         1\n",
      "\n",
      "                 micro avg      0.800     0.731     0.764      1884\n",
      "                 macro avg      0.537     0.491     0.501      1884\n",
      "              weighted avg      0.837     0.731     0.765      1884\n",
      "\n"
     ]
    },
    {
     "name": "stderr",
     "output_type": "stream",
     "text": [
      "/home/lucelia_vieira/experiments/members/lucelia/.venv/lib/python3.8/site-packages/sklearn/metrics/_classification.py:1245: UndefinedMetricWarning: Precision and F-score are ill-defined and being set to 0.0 in labels with no predicted samples. Use `zero_division` parameter to control this behavior.\n",
      "  _warn_prf(average, modifier, msg_start, len(result))\n",
      "/home/lucelia_vieira/experiments/members/lucelia/.venv/lib/python3.8/site-packages/sklearn/metrics/_classification.py:1245: UndefinedMetricWarning: Precision and F-score are ill-defined and being set to 0.0 in labels with no predicted samples. Use `zero_division` parameter to control this behavior.\n",
      "  _warn_prf(average, modifier, msg_start, len(result))\n"
     ]
    }
   ],
   "source": [
    "report = metrics.flat_classification_report(\n",
    "    #y_test[:200], y_pred[:200], labels=classes, digits=3))\n",
    "   gold_y_test, y_pred, labels=classes, digits=3, output_dict=False)\n",
    "print(report)"
   ]
  },
  {
   "cell_type": "code",
   "execution_count": 327,
   "metadata": {},
   "outputs": [
    {
     "name": "stderr",
     "output_type": "stream",
     "text": [
      "/home/lucelia_vieira/experiments/members/lucelia/.venv/lib/python3.8/site-packages/sklearn/metrics/_classification.py:1245: UndefinedMetricWarning: Precision and F-score are ill-defined and being set to 0.0 in labels with no predicted samples. Use `zero_division` parameter to control this behavior.\n",
      "  _warn_prf(average, modifier, msg_start, len(result))\n",
      "/home/lucelia_vieira/experiments/members/lucelia/.venv/lib/python3.8/site-packages/sklearn/metrics/_classification.py:1245: UndefinedMetricWarning: Precision and F-score are ill-defined and being set to 0.0 in labels with no predicted samples. Use `zero_division` parameter to control this behavior.\n",
      "  _warn_prf(average, modifier, msg_start, len(result))\n",
      "/home/lucelia_vieira/experiments/members/lucelia/.venv/lib/python3.8/site-packages/sklearn/metrics/_classification.py:1245: UndefinedMetricWarning: Precision and F-score are ill-defined and being set to 0.0 in labels with no predicted samples. Use `zero_division` parameter to control this behavior.\n",
      "  _warn_prf(average, modifier, msg_start, len(result))\n"
     ]
    },
    {
     "name": "stdout",
     "output_type": "stream",
     "text": [
      "{'B-numero_contrato': {'precision': 0.9485714285714286, 'recall': 0.608058608058608, 'f1-score': 0.7410714285714286, 'support': 273}, 'B-processo_gdf': {'precision': 0.9292929292929293, 'recall': 0.7763713080168776, 'f1-score': 0.8459770114942529, 'support': 237}, 'I-processo_gdf': {'precision': 0.9292929292929293, 'recall': 0.9484536082474226, 'f1-score': 0.9387755102040816, 'support': 194}, 'B-data_assinatura_contrato': {'precision': 0.5677966101694916, 'recall': 0.9054054054054054, 'f1-score': 0.6979166666666666, 'support': 148}, 'B-unidade_orcamentaria': {'precision': 0.7291666666666666, 'recall': 0.625, 'f1-score': 0.6730769230769231, 'support': 112}, 'B-programa_trabalho': {'precision': 0.7523809523809524, 'recall': 0.44886363636363635, 'f1-score': 0.5622775800711743, 'support': 176}, 'B-natureza_despesa': {'precision': 0.9831932773109243, 'recall': 0.7222222222222222, 'f1-score': 0.8327402135231317, 'support': 162}, 'B-nota_empenho': {'precision': 0.959731543624161, 'recall': 0.6842105263157895, 'f1-score': 0.7988826815642458, 'support': 209}, 'B-valor_contrato': {'precision': 0.8024691358024691, 'recall': 0.8843537414965986, 'f1-score': 0.8414239482200647, 'support': 294}, 'I-programa_trabalho': {'precision': 0.0, 'recall': 0.0, 'f1-score': 0.0, 'support': 1}, 'I-natureza_despesa': {'precision': 0.0, 'recall': 0.0, 'f1-score': 0.0, 'support': 2}, 'I-nota_empenho': {'precision': 0.0, 'recall': 0.0, 'f1-score': 0.0, 'support': 2}, 'I-numero_contrato': {'precision': 0.0, 'recall': 0.0, 'f1-score': 0.0, 'support': 21}, 'I-data_assinatura_contrato': {'precision': 0.45977011494252873, 'recall': 0.7692307692307693, 'f1-score': 0.5755395683453237, 'support': 52}, 'I-unidade_orcamentaria': {'precision': 0.0, 'recall': 0.0, 'f1-score': 0.0, 'support': 1}, 'micro avg': {'precision': 0.800116211504939, 'recall': 0.7308917197452229, 'f1-score': 0.7639389736477116, 'support': 1884}, 'macro avg': {'precision': 0.5374443725369654, 'recall': 0.4914779883571553, 'f1-score': 0.5005121021158196, 'support': 1884}, 'weighted avg': {'precision': 0.8372080894696434, 'recall': 0.7308917197452229, 'f1-score': 0.7652578185859178, 'support': 1884}}\n"
     ]
    }
   ],
   "source": [
    "#output_dict=True gerar a saída para gravar no results\n",
    "\n",
    "import numpy as np\n",
    "report = metrics.flat_classification_report(\n",
    "    #y_test[:200], y_pred[:200], labels=classes, digits=3))\n",
    "    gold_y_test, y_pred, labels=classes, digits=3, output_dict=True)\n",
    "print(report)\n",
    "np.save(\"./Results/METRICA_EXTRATO_CONTRATO_SKWEAK_4.npy\", report)"
   ]
  },
  {
   "cell_type": "code",
   "execution_count": 328,
   "metadata": {},
   "outputs": [],
   "source": [
    "# CODIGO DE APLICACAO DO MODELO CRF TREINADO\n",
    "\n",
    "#import dodfCRF\n",
    "#crf = dodfCRF.CRFContratos()\n",
    "#crf.init_model_from_path(\"contratosFINAL.pkl\")\n",
    "#crfIOB = crf.model_predict(dados)"
   ]
  }
 ],
 "metadata": {
  "kernelspec": {
   "display_name": "Python 3.8.10 ('.venv': venv)",
   "language": "python",
   "name": "python3"
  },
  "language_info": {
   "codemirror_mode": {
    "name": "ipython",
    "version": 3
   },
   "file_extension": ".py",
   "mimetype": "text/x-python",
   "name": "python",
   "nbconvert_exporter": "python",
   "pygments_lexer": "ipython3",
   "version": "3.8.10"
  },
  "orig_nbformat": 4,
  "vscode": {
   "interpreter": {
    "hash": "3a364e88e268f24bb4b4cd28b7ddb26344d4bee608858daf4c5718cf9ad82c2c"
   }
  }
 },
 "nbformat": 4,
 "nbformat_minor": 2
}
