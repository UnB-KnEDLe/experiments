{
 "cells": [
  {
   "cell_type": "code",
   "execution_count": 1,
   "metadata": {},
   "outputs": [],
   "source": [
    "# CODIGO PARA EXTRAÇÃO DA BASE DE 50000 ATOS E PARA A ALICACAO DE SUPERVISAO FRACA NA BASE\n",
    "\n",
    "import pandas as pd\n",
    "import sklearn_crfsuite\n",
    "from sklearn_crfsuite import metrics\n",
    "import joblib\n",
    "import math\n",
    "\n",
    "import dodfSkweak\n",
    "import dodfCRF\n",
    "import re\n",
    "\n",
    "import string  \n",
    "from contract_extractor_v2 import ContractExtractor"
   ]
  },
  {
   "cell_type": "code",
   "execution_count": 2,
   "metadata": {},
   "outputs": [],
   "source": [
    "# EXTRAÇAO DA BASE DE 50000\n",
    "\n",
    "# data = pd.read_parquet(\"df.parquet.gzip\")\n",
    "\n",
    "# dodf_years = []\n",
    "\n",
    "# for year in data[\"year\"].unique():\n",
    "# \tdodf_years.append(data[data[\"year\"] == year].copy().reset_index(drop=True))\n",
    "\n",
    "# for dodf_year in dodf_years:\n",
    "# \tContractExtractor.extract_to_file(dodf_year)"
   ]
  },
  {
   "cell_type": "code",
   "execution_count": 3,
   "metadata": {},
   "outputs": [],
   "source": [
    "# # dodf_list=[\"DODF_EXTRATOS_CONTRATO_02-01-2018_31-12-2018.parquet\"]\n",
    "\n",
    "# dodf_list=[\"DODF_EXTRATOS_CONTRATO_01-01-2019_31-12-2019.parquet\",\"DODF_EXTRATOS_CONTRATO_02-01-2001_28-12-2001.parquet\",\"DODF_EXTRATOS_CONTRATO_02-01-2004_31-12-2004.parquet\",\"DODF_EXTRATOS_CONTRATO_02-01-2006_29-12-2006.parquet\",\"DODF_EXTRATOS_CONTRATO_02-01-2007_31-12-2007.parquet\",\"DODF_EXTRATOS_CONTRATO_02-01-2008_31-12-2008.parquet\",\"DODF_EXTRATOS_CONTRATO_02-01-2009_31-12-2009.parquet\",\"DODF_EXTRATOS_CONTRATO_02-01-2012_28-12-2012.parquet\",\"DODF_EXTRATOS_CONTRATO_02-01-2013_31-12-2013.parquet\",\"DODF_EXTRATOS_CONTRATO_02-01-2014_31-12-2014.parquet\",\"DODF_EXTRATOS_CONTRATO_02-01-2017_29-12-2017.parquet\",\"DODF_EXTRATOS_CONTRATO_02-01-2018_31-12-2018.parquet\",\"DODF_EXTRATOS_CONTRATO_02-01-2020_31-12-2020.parquet\",\"DODF_EXTRATOS_CONTRATO_03-01-2000_29-12-2000.parquet\",\"DODF_EXTRATOS_CONTRATO_03-01-2002_31-12-2002.parquet\",\"DODF_EXTRATOS_CONTRATO_03-01-2003_31-12-2003.parquet\",\"DODF_EXTRATOS_CONTRATO_04-01-2005_30-12-2005.parquet\",\"DODF_EXTRATOS_CONTRATO_04-01-2011_30-12-2011.parquet\",\"DODF_EXTRATOS_CONTRATO_04-01-2016_30-12-2016.parquet\",\"DODF_EXTRATOS_CONTRATO_04-01-2021_22-10-2021.parquet\",\"DODF_EXTRATOS_CONTRATO_05-01-2010_31-12-2010.parquet\",\"DODF_EXTRATOS_CONTRATO_05-01-2015_31-12-2015.parquet\"]\n",
    "\n",
    "# df = pd.DataFrame(columns=[\"CONTRATO\", \"PROCESSO\", \"PARTES\", \"OBJETO\", \"VALOR\", \"LEI_ORC.\", \"UNI_ORC.\",\"PROG_TRAB.\", \"NAT_DESP.\", \"NOTA_EMP.\", \"DATA_ASS.\", \"SIGNATARIOS\", \"VIGENCIA\",\"text\", \"labels\"])\n",
    "\n",
    "# crf = dodfCRF.CRFContratos()\n",
    "\n",
    "# for dodf in dodf_list:\n",
    "#     dados=[]\n",
    "#     dataframe = pd.read_parquet(\"./results/\"+dodf)\n",
    "\n",
    "#     print(dataframe)\n",
    "\n",
    "#     for i in dataframe[\"full_text\"]:\n",
    "#         if len(i)<1000000:\n",
    "#             aux=i.replace(\"\\n\", \" \")\n",
    "#             aux=' '.join(aux.split())\n",
    "#             dados.append(aux)\n",
    "\n",
    "#     aux_df = crf.get_dataframe(dados)\n",
    "    \n",
    "\n",
    "#     df = df.append(aux_df, ignore_index=True)\n",
    "\n",
    "# print(len(dados))\n",
    "# print(len(df))"
   ]
  },
  {
   "cell_type": "code",
   "execution_count": 4,
   "metadata": {},
   "outputs": [
    {
     "name": "stdout",
     "output_type": "stream",
     "text": [
      "Starting iteration 1\n",
      "Number of processed documents: 1000\n",
      "Number of processed documents: 2000\n",
      "Finished E-step with 2188 documents\n",
      "Starting iteration 2\n"
     ]
    },
    {
     "name": "stderr",
     "output_type": "stream",
     "text": [
      "         1     -346532.9289             +nan\n"
     ]
    },
    {
     "name": "stdout",
     "output_type": "stream",
     "text": [
      "Number of processed documents: 1000\n",
      "Number of processed documents: 2000\n",
      "Finished E-step with 2188 documents\n",
      "Starting iteration 3\n"
     ]
    },
    {
     "name": "stderr",
     "output_type": "stream",
     "text": [
      "         2     -199058.4072     +147474.5216\n"
     ]
    },
    {
     "name": "stdout",
     "output_type": "stream",
     "text": [
      "Number of processed documents: 1000\n",
      "Number of processed documents: 2000\n",
      "Finished E-step with 2188 documents\n",
      "Starting iteration 4\n"
     ]
    },
    {
     "name": "stderr",
     "output_type": "stream",
     "text": [
      "         3     -197966.9003       +1091.5069\n"
     ]
    },
    {
     "name": "stdout",
     "output_type": "stream",
     "text": [
      "Number of processed documents: 1000\n",
      "Number of processed documents: 2000\n",
      "Finished E-step with 2188 documents\n",
      "Starting iteration 5\n"
     ]
    },
    {
     "name": "stderr",
     "output_type": "stream",
     "text": [
      "         4     -197903.6307         +63.2696\n"
     ]
    },
    {
     "name": "stdout",
     "output_type": "stream",
     "text": [
      "Number of processed documents: 1000\n",
      "Number of processed documents: 2000\n",
      "Finished E-step with 2188 documents\n"
     ]
    },
    {
     "name": "stderr",
     "output_type": "stream",
     "text": [
      "         5     -197891.1194         +12.5113\n"
     ]
    },
    {
     "name": "stdout",
     "output_type": "stream",
     "text": [
      "Write to ./data/reuters_small.spacy...done\n",
      "Starting iteration 1\n",
      "Number of processed documents: 1000\n",
      "Finished E-step with 1622 documents\n",
      "Starting iteration 2\n"
     ]
    },
    {
     "name": "stderr",
     "output_type": "stream",
     "text": [
      "         1     -258343.7056             +nan\n"
     ]
    },
    {
     "name": "stdout",
     "output_type": "stream",
     "text": [
      "Number of processed documents: 1000\n",
      "Finished E-step with 1622 documents\n",
      "Starting iteration 3\n"
     ]
    },
    {
     "name": "stderr",
     "output_type": "stream",
     "text": [
      "         2     -161126.8740      +97216.8316\n"
     ]
    },
    {
     "name": "stdout",
     "output_type": "stream",
     "text": [
      "Number of processed documents: 1000\n",
      "Finished E-step with 1622 documents\n",
      "Starting iteration 4\n"
     ]
    },
    {
     "name": "stderr",
     "output_type": "stream",
     "text": [
      "         3     -160121.6296       +1005.2444\n"
     ]
    },
    {
     "name": "stdout",
     "output_type": "stream",
     "text": [
      "Number of processed documents: 1000\n",
      "Finished E-step with 1622 documents\n",
      "Starting iteration 5\n"
     ]
    },
    {
     "name": "stderr",
     "output_type": "stream",
     "text": [
      "         4     -160003.5329        +118.0968\n"
     ]
    },
    {
     "name": "stdout",
     "output_type": "stream",
     "text": [
      "Number of processed documents: 1000\n",
      "Finished E-step with 1622 documents\n"
     ]
    },
    {
     "name": "stderr",
     "output_type": "stream",
     "text": [
      "         5     -159930.2549         +73.2779\n"
     ]
    },
    {
     "name": "stdout",
     "output_type": "stream",
     "text": [
      "Write to ./data/reuters_small.spacy...done\n",
      "Starting iteration 1\n",
      "Number of processed documents: 1000\n",
      "Finished E-step with 1952 documents\n",
      "Starting iteration 2\n"
     ]
    },
    {
     "name": "stderr",
     "output_type": "stream",
     "text": [
      "         1     -308672.0876             +nan\n"
     ]
    },
    {
     "name": "stdout",
     "output_type": "stream",
     "text": [
      "Number of processed documents: 1000\n",
      "Finished E-step with 1952 documents\n",
      "Starting iteration 3\n"
     ]
    },
    {
     "name": "stderr",
     "output_type": "stream",
     "text": [
      "         2     -184455.3019     +124216.7857\n"
     ]
    },
    {
     "name": "stdout",
     "output_type": "stream",
     "text": [
      "Number of processed documents: 1000\n",
      "Finished E-step with 1952 documents\n",
      "Starting iteration 4\n"
     ]
    },
    {
     "name": "stderr",
     "output_type": "stream",
     "text": [
      "         3     -183330.6882       +1124.6136\n"
     ]
    },
    {
     "name": "stdout",
     "output_type": "stream",
     "text": [
      "Number of processed documents: 1000\n",
      "Finished E-step with 1952 documents\n",
      "Starting iteration 5\n"
     ]
    },
    {
     "name": "stderr",
     "output_type": "stream",
     "text": [
      "         4     -183290.9653         +39.7229\n"
     ]
    },
    {
     "name": "stdout",
     "output_type": "stream",
     "text": [
      "Number of processed documents: 1000\n",
      "Finished E-step with 1952 documents\n"
     ]
    },
    {
     "name": "stderr",
     "output_type": "stream",
     "text": [
      "         5     -183272.2286         +18.7367\n"
     ]
    },
    {
     "name": "stdout",
     "output_type": "stream",
     "text": [
      "Write to ./data/reuters_small.spacy...done\n",
      "Starting iteration 1\n",
      "Number of processed documents: 1000\n",
      "Finished E-step with 1785 documents\n",
      "Starting iteration 2\n"
     ]
    },
    {
     "name": "stderr",
     "output_type": "stream",
     "text": [
      "         1     -273943.7749             +nan\n"
     ]
    },
    {
     "name": "stdout",
     "output_type": "stream",
     "text": [
      "Number of processed documents: 1000\n",
      "Finished E-step with 1785 documents\n",
      "Starting iteration 3\n"
     ]
    },
    {
     "name": "stderr",
     "output_type": "stream",
     "text": [
      "         2     -165342.5252     +108601.2497\n"
     ]
    },
    {
     "name": "stdout",
     "output_type": "stream",
     "text": [
      "Number of processed documents: 1000\n",
      "Finished E-step with 1785 documents\n",
      "Starting iteration 4\n"
     ]
    },
    {
     "name": "stderr",
     "output_type": "stream",
     "text": [
      "         3     -164153.3278       +1189.1973\n"
     ]
    },
    {
     "name": "stdout",
     "output_type": "stream",
     "text": [
      "Number of processed documents: 1000\n",
      "Finished E-step with 1785 documents\n",
      "Starting iteration 5\n"
     ]
    },
    {
     "name": "stderr",
     "output_type": "stream",
     "text": [
      "         4     -164128.2601         +25.0678\n"
     ]
    },
    {
     "name": "stdout",
     "output_type": "stream",
     "text": [
      "Number of processed documents: 1000\n",
      "Finished E-step with 1785 documents\n"
     ]
    },
    {
     "name": "stderr",
     "output_type": "stream",
     "text": [
      "         5     -164113.4017         +14.8584\n"
     ]
    },
    {
     "name": "stdout",
     "output_type": "stream",
     "text": [
      "Write to ./data/reuters_small.spacy...done\n",
      "Starting iteration 1\n",
      "Number of processed documents: 1000\n",
      "Finished E-step with 1950 documents\n",
      "Starting iteration 2\n"
     ]
    },
    {
     "name": "stderr",
     "output_type": "stream",
     "text": [
      "         1     -339503.9195             +nan\n"
     ]
    },
    {
     "name": "stdout",
     "output_type": "stream",
     "text": [
      "Number of processed documents: 1000\n",
      "Finished E-step with 1950 documents\n",
      "Starting iteration 3\n"
     ]
    },
    {
     "name": "stderr",
     "output_type": "stream",
     "text": [
      "         2     -200960.0731     +138543.8464\n"
     ]
    },
    {
     "name": "stdout",
     "output_type": "stream",
     "text": [
      "Number of processed documents: 1000\n",
      "Finished E-step with 1950 documents\n",
      "Starting iteration 4\n"
     ]
    },
    {
     "name": "stderr",
     "output_type": "stream",
     "text": [
      "         3     -199819.2275       +1140.8456\n"
     ]
    },
    {
     "name": "stdout",
     "output_type": "stream",
     "text": [
      "Number of processed documents: 1000\n",
      "Finished E-step with 1950 documents\n",
      "Starting iteration 5\n"
     ]
    },
    {
     "name": "stderr",
     "output_type": "stream",
     "text": [
      "         4     -199792.1074         +27.1201\n"
     ]
    },
    {
     "name": "stdout",
     "output_type": "stream",
     "text": [
      "Number of processed documents: 1000\n",
      "Finished E-step with 1950 documents\n"
     ]
    },
    {
     "name": "stderr",
     "output_type": "stream",
     "text": [
      "         5     -199782.1640          +9.9433\n"
     ]
    },
    {
     "name": "stdout",
     "output_type": "stream",
     "text": [
      "Write to ./data/reuters_small.spacy...done\n",
      "Starting iteration 1\n",
      "Number of processed documents: 1000\n",
      "Number of processed documents: 2000\n",
      "Number of processed documents: 3000\n",
      "Finished E-step with 3076 documents\n",
      "Starting iteration 2\n"
     ]
    },
    {
     "name": "stderr",
     "output_type": "stream",
     "text": [
      "         1     -533921.4705             +nan\n"
     ]
    },
    {
     "name": "stdout",
     "output_type": "stream",
     "text": [
      "Number of processed documents: 1000\n",
      "Number of processed documents: 2000\n",
      "Number of processed documents: 3000\n",
      "Finished E-step with 3076 documents\n",
      "Starting iteration 3\n"
     ]
    },
    {
     "name": "stderr",
     "output_type": "stream",
     "text": [
      "         2     -316859.7084     +217061.7622\n"
     ]
    },
    {
     "name": "stdout",
     "output_type": "stream",
     "text": [
      "Number of processed documents: 1000\n",
      "Number of processed documents: 2000\n",
      "Number of processed documents: 3000\n",
      "Finished E-step with 3076 documents\n",
      "Starting iteration 4\n"
     ]
    },
    {
     "name": "stderr",
     "output_type": "stream",
     "text": [
      "         3     -314548.1952       +2311.5132\n"
     ]
    },
    {
     "name": "stdout",
     "output_type": "stream",
     "text": [
      "Number of processed documents: 1000\n",
      "Number of processed documents: 2000\n",
      "Number of processed documents: 3000\n",
      "Finished E-step with 3076 documents\n",
      "Starting iteration 5\n"
     ]
    },
    {
     "name": "stderr",
     "output_type": "stream",
     "text": [
      "         4     -314478.8448         +69.3504\n"
     ]
    },
    {
     "name": "stdout",
     "output_type": "stream",
     "text": [
      "Number of processed documents: 1000\n",
      "Number of processed documents: 2000\n",
      "Number of processed documents: 3000\n",
      "Finished E-step with 3076 documents\n"
     ]
    },
    {
     "name": "stderr",
     "output_type": "stream",
     "text": [
      "         5     -314450.3765         +28.4683\n"
     ]
    },
    {
     "name": "stdout",
     "output_type": "stream",
     "text": [
      "Write to ./data/reuters_small.spacy...done\n",
      "Starting iteration 1\n",
      "Number of processed documents: 1000\n",
      "Number of processed documents: 2000\n",
      "Number of processed documents: 3000\n",
      "Finished E-step with 3044 documents\n",
      "Starting iteration 2\n"
     ]
    },
    {
     "name": "stderr",
     "output_type": "stream",
     "text": [
      "         1     -490698.6045             +nan\n"
     ]
    },
    {
     "name": "stdout",
     "output_type": "stream",
     "text": [
      "Number of processed documents: 1000\n",
      "Number of processed documents: 2000\n",
      "Number of processed documents: 3000\n",
      "Finished E-step with 3044 documents\n",
      "Starting iteration 3\n"
     ]
    },
    {
     "name": "stderr",
     "output_type": "stream",
     "text": [
      "         2     -292376.0813     +198322.5232\n"
     ]
    },
    {
     "name": "stdout",
     "output_type": "stream",
     "text": [
      "Number of processed documents: 1000\n",
      "Number of processed documents: 2000\n",
      "Number of processed documents: 3000\n",
      "Finished E-step with 3044 documents\n",
      "Starting iteration 4\n"
     ]
    },
    {
     "name": "stderr",
     "output_type": "stream",
     "text": [
      "         3     -290928.4644       +1447.6169\n"
     ]
    },
    {
     "name": "stdout",
     "output_type": "stream",
     "text": [
      "Number of processed documents: 1000\n",
      "Number of processed documents: 2000\n",
      "Number of processed documents: 3000\n",
      "Finished E-step with 3044 documents\n",
      "Starting iteration 5\n"
     ]
    },
    {
     "name": "stderr",
     "output_type": "stream",
     "text": [
      "         4     -290822.5433        +105.9210\n"
     ]
    },
    {
     "name": "stdout",
     "output_type": "stream",
     "text": [
      "Number of processed documents: 1000\n",
      "Number of processed documents: 2000\n",
      "Number of processed documents: 3000\n",
      "Finished E-step with 3044 documents\n"
     ]
    },
    {
     "name": "stderr",
     "output_type": "stream",
     "text": [
      "         5     -290790.3259         +32.2175\n"
     ]
    },
    {
     "name": "stdout",
     "output_type": "stream",
     "text": [
      "Write to ./data/reuters_small.spacy...done\n",
      "Starting iteration 1\n",
      "Number of processed documents: 1000\n",
      "Number of processed documents: 2000\n",
      "Number of processed documents: 3000\n",
      "Finished E-step with 3093 documents\n",
      "Starting iteration 2\n"
     ]
    },
    {
     "name": "stderr",
     "output_type": "stream",
     "text": [
      "         1     -420065.2730             +nan\n"
     ]
    },
    {
     "name": "stdout",
     "output_type": "stream",
     "text": [
      "Number of processed documents: 1000\n",
      "Number of processed documents: 2000\n",
      "Number of processed documents: 3000\n",
      "Finished E-step with 3093 documents\n",
      "Starting iteration 3\n"
     ]
    },
    {
     "name": "stderr",
     "output_type": "stream",
     "text": [
      "         2     -259262.5021     +160802.7709\n"
     ]
    },
    {
     "name": "stdout",
     "output_type": "stream",
     "text": [
      "Number of processed documents: 1000\n",
      "Number of processed documents: 2000\n",
      "Number of processed documents: 3000\n",
      "Finished E-step with 3093 documents\n",
      "Starting iteration 4\n"
     ]
    },
    {
     "name": "stderr",
     "output_type": "stream",
     "text": [
      "         3     -257973.6906       +1288.8115\n"
     ]
    },
    {
     "name": "stdout",
     "output_type": "stream",
     "text": [
      "Number of processed documents: 1000\n",
      "Number of processed documents: 2000\n",
      "Number of processed documents: 3000\n",
      "Finished E-step with 3093 documents\n",
      "Starting iteration 5\n"
     ]
    },
    {
     "name": "stderr",
     "output_type": "stream",
     "text": [
      "         4     -257895.0826         +78.6080\n"
     ]
    },
    {
     "name": "stdout",
     "output_type": "stream",
     "text": [
      "Number of processed documents: 1000\n",
      "Number of processed documents: 2000\n",
      "Number of processed documents: 3000\n",
      "Finished E-step with 3093 documents\n"
     ]
    },
    {
     "name": "stderr",
     "output_type": "stream",
     "text": [
      "         5     -257863.9786         +31.1041\n"
     ]
    },
    {
     "name": "stdout",
     "output_type": "stream",
     "text": [
      "Write to ./data/reuters_small.spacy...done\n",
      "Starting iteration 1\n",
      "Number of processed documents: 1000\n",
      "Number of processed documents: 2000\n",
      "Number of processed documents: 3000\n",
      "Finished E-step with 3362 documents\n",
      "Starting iteration 2\n"
     ]
    },
    {
     "name": "stderr",
     "output_type": "stream",
     "text": [
      "         1     -566524.0952             +nan\n"
     ]
    },
    {
     "name": "stdout",
     "output_type": "stream",
     "text": [
      "Number of processed documents: 1000\n",
      "Number of processed documents: 2000\n",
      "Number of processed documents: 3000\n",
      "Finished E-step with 3362 documents\n",
      "Starting iteration 3\n"
     ]
    },
    {
     "name": "stderr",
     "output_type": "stream",
     "text": [
      "         2     -340198.0703     +226326.0249\n"
     ]
    },
    {
     "name": "stdout",
     "output_type": "stream",
     "text": [
      "Number of processed documents: 1000\n",
      "Number of processed documents: 2000\n",
      "Number of processed documents: 3000\n",
      "Finished E-step with 3362 documents\n",
      "Starting iteration 4\n"
     ]
    },
    {
     "name": "stderr",
     "output_type": "stream",
     "text": [
      "         3     -338681.5352       +1516.5351\n"
     ]
    },
    {
     "name": "stdout",
     "output_type": "stream",
     "text": [
      "Number of processed documents: 1000\n",
      "Number of processed documents: 2000\n",
      "Number of processed documents: 3000\n",
      "Finished E-step with 3362 documents\n",
      "Starting iteration 5\n"
     ]
    },
    {
     "name": "stderr",
     "output_type": "stream",
     "text": [
      "         4     -338584.0971         +97.4381\n"
     ]
    },
    {
     "name": "stdout",
     "output_type": "stream",
     "text": [
      "Number of processed documents: 1000\n",
      "Number of processed documents: 2000\n",
      "Number of processed documents: 3000\n",
      "Finished E-step with 3362 documents\n"
     ]
    },
    {
     "name": "stderr",
     "output_type": "stream",
     "text": [
      "         5     -338507.2390         +76.8581\n"
     ]
    },
    {
     "name": "stdout",
     "output_type": "stream",
     "text": [
      "Write to ./data/reuters_small.spacy...done\n",
      "Starting iteration 1\n",
      "Number of processed documents: 1000\n",
      "Number of processed documents: 2000\n",
      "Finished E-step with 2828 documents\n",
      "Starting iteration 2\n"
     ]
    },
    {
     "name": "stderr",
     "output_type": "stream",
     "text": [
      "         1     -491098.2894             +nan\n"
     ]
    },
    {
     "name": "stdout",
     "output_type": "stream",
     "text": [
      "Number of processed documents: 1000\n",
      "Number of processed documents: 2000\n",
      "Finished E-step with 2828 documents\n",
      "Starting iteration 3\n"
     ]
    },
    {
     "name": "stderr",
     "output_type": "stream",
     "text": [
      "         2     -286493.4500     +204604.8394\n"
     ]
    },
    {
     "name": "stdout",
     "output_type": "stream",
     "text": [
      "Number of processed documents: 1000\n",
      "Number of processed documents: 2000\n",
      "Finished E-step with 2828 documents\n",
      "Starting iteration 4\n"
     ]
    },
    {
     "name": "stderr",
     "output_type": "stream",
     "text": [
      "         3     -285191.7058       +1301.7441\n"
     ]
    },
    {
     "name": "stdout",
     "output_type": "stream",
     "text": [
      "Number of processed documents: 1000\n",
      "Number of processed documents: 2000\n",
      "Finished E-step with 2828 documents\n",
      "Starting iteration 5\n"
     ]
    },
    {
     "name": "stderr",
     "output_type": "stream",
     "text": [
      "         4     -285122.8932         +68.8127\n"
     ]
    },
    {
     "name": "stdout",
     "output_type": "stream",
     "text": [
      "Number of processed documents: 1000\n",
      "Number of processed documents: 2000\n",
      "Finished E-step with 2828 documents\n"
     ]
    },
    {
     "name": "stderr",
     "output_type": "stream",
     "text": [
      "         5     -285075.8411         +47.0520\n"
     ]
    },
    {
     "name": "stdout",
     "output_type": "stream",
     "text": [
      "Write to ./data/reuters_small.spacy...done\n",
      "Starting iteration 1\n",
      "Number of processed documents: 1000\n",
      "Finished E-step with 1835 documents\n",
      "Starting iteration 2\n"
     ]
    },
    {
     "name": "stderr",
     "output_type": "stream",
     "text": [
      "         1     -301936.9363             +nan\n"
     ]
    },
    {
     "name": "stdout",
     "output_type": "stream",
     "text": [
      "Number of processed documents: 1000\n",
      "Finished E-step with 1835 documents\n",
      "Starting iteration 3\n"
     ]
    },
    {
     "name": "stderr",
     "output_type": "stream",
     "text": [
      "         2     -176584.4419     +125352.4944\n"
     ]
    },
    {
     "name": "stdout",
     "output_type": "stream",
     "text": [
      "Number of processed documents: 1000\n",
      "Finished E-step with 1835 documents\n",
      "Starting iteration 4\n"
     ]
    },
    {
     "name": "stderr",
     "output_type": "stream",
     "text": [
      "         3     -175831.9775        +752.4644\n"
     ]
    },
    {
     "name": "stdout",
     "output_type": "stream",
     "text": [
      "Number of processed documents: 1000\n",
      "Finished E-step with 1835 documents\n",
      "Starting iteration 5\n"
     ]
    },
    {
     "name": "stderr",
     "output_type": "stream",
     "text": [
      "         4     -175784.2150         +47.7625\n"
     ]
    },
    {
     "name": "stdout",
     "output_type": "stream",
     "text": [
      "Number of processed documents: 1000\n",
      "Finished E-step with 1835 documents\n"
     ]
    },
    {
     "name": "stderr",
     "output_type": "stream",
     "text": [
      "         5     -175767.7120         +16.5030\n"
     ]
    },
    {
     "name": "stdout",
     "output_type": "stream",
     "text": [
      "Write to ./data/reuters_small.spacy...done\n",
      "Starting iteration 1\n",
      "Number of processed documents: 1000\n",
      "Number of processed documents: 2000\n",
      "Finished E-step with 2057 documents\n",
      "Starting iteration 2\n"
     ]
    },
    {
     "name": "stderr",
     "output_type": "stream",
     "text": [
      "         1     -370456.7730             +nan\n"
     ]
    },
    {
     "name": "stdout",
     "output_type": "stream",
     "text": [
      "Number of processed documents: 1000\n",
      "Number of processed documents: 2000\n",
      "Finished E-step with 2057 documents\n",
      "Starting iteration 3\n"
     ]
    },
    {
     "name": "stderr",
     "output_type": "stream",
     "text": [
      "         2     -212335.0433     +158121.7297\n"
     ]
    },
    {
     "name": "stdout",
     "output_type": "stream",
     "text": [
      "Number of processed documents: 1000\n",
      "Number of processed documents: 2000\n",
      "Finished E-step with 2057 documents\n",
      "Starting iteration 4\n"
     ]
    },
    {
     "name": "stderr",
     "output_type": "stream",
     "text": [
      "         3     -211130.0051       +1205.0382\n"
     ]
    },
    {
     "name": "stdout",
     "output_type": "stream",
     "text": [
      "Number of processed documents: 1000\n",
      "Number of processed documents: 2000\n",
      "Finished E-step with 2057 documents\n",
      "Starting iteration 5\n"
     ]
    },
    {
     "name": "stderr",
     "output_type": "stream",
     "text": [
      "         4     -211086.2418         +43.7633\n"
     ]
    },
    {
     "name": "stdout",
     "output_type": "stream",
     "text": [
      "Number of processed documents: 1000\n",
      "Number of processed documents: 2000\n",
      "Finished E-step with 2057 documents\n"
     ]
    },
    {
     "name": "stderr",
     "output_type": "stream",
     "text": [
      "         5     -211073.1752         +13.0666\n"
     ]
    },
    {
     "name": "stdout",
     "output_type": "stream",
     "text": [
      "Write to ./data/reuters_small.spacy...done\n",
      "Starting iteration 1\n",
      "Number of processed documents: 1000\n",
      "Number of processed documents: 2000\n",
      "Finished E-step with 2168 documents\n",
      "Starting iteration 2\n"
     ]
    },
    {
     "name": "stderr",
     "output_type": "stream",
     "text": [
      "         1     -364077.7174             +nan\n"
     ]
    },
    {
     "name": "stdout",
     "output_type": "stream",
     "text": [
      "Number of processed documents: 1000\n",
      "Number of processed documents: 2000\n",
      "Finished E-step with 2168 documents\n",
      "Starting iteration 3\n"
     ]
    },
    {
     "name": "stderr",
     "output_type": "stream",
     "text": [
      "         2     -211262.3240     +152815.3934\n"
     ]
    },
    {
     "name": "stdout",
     "output_type": "stream",
     "text": [
      "Number of processed documents: 1000\n",
      "Number of processed documents: 2000\n",
      "Finished E-step with 2168 documents\n",
      "Starting iteration 4\n"
     ]
    },
    {
     "name": "stderr",
     "output_type": "stream",
     "text": [
      "         3     -209233.9762       +2028.3477\n"
     ]
    },
    {
     "name": "stdout",
     "output_type": "stream",
     "text": [
      "Number of processed documents: 1000\n",
      "Number of processed documents: 2000\n",
      "Finished E-step with 2168 documents\n",
      "Starting iteration 5\n"
     ]
    },
    {
     "name": "stderr",
     "output_type": "stream",
     "text": [
      "         4     -209197.0783         +36.8979\n"
     ]
    },
    {
     "name": "stdout",
     "output_type": "stream",
     "text": [
      "Number of processed documents: 1000\n",
      "Number of processed documents: 2000\n",
      "Finished E-step with 2168 documents\n"
     ]
    },
    {
     "name": "stderr",
     "output_type": "stream",
     "text": [
      "         5     -209185.7508         +11.3275\n"
     ]
    },
    {
     "name": "stdout",
     "output_type": "stream",
     "text": [
      "Write to ./data/reuters_small.spacy...done\n",
      "Starting iteration 1\n",
      "Number of processed documents: 1000\n",
      "Finished E-step with 1544 documents\n",
      "Starting iteration 2\n"
     ]
    },
    {
     "name": "stderr",
     "output_type": "stream",
     "text": [
      "         1     -234201.2390             +nan\n"
     ]
    },
    {
     "name": "stdout",
     "output_type": "stream",
     "text": [
      "Number of processed documents: 1000\n",
      "Finished E-step with 1544 documents\n",
      "Starting iteration 3\n"
     ]
    },
    {
     "name": "stderr",
     "output_type": "stream",
     "text": [
      "         2     -149991.4542      +84209.7848\n"
     ]
    },
    {
     "name": "stdout",
     "output_type": "stream",
     "text": [
      "Number of processed documents: 1000\n",
      "Finished E-step with 1544 documents\n",
      "Starting iteration 4\n"
     ]
    },
    {
     "name": "stderr",
     "output_type": "stream",
     "text": [
      "         3     -149457.4504        +534.0038\n"
     ]
    },
    {
     "name": "stdout",
     "output_type": "stream",
     "text": [
      "Number of processed documents: 1000\n",
      "Finished E-step with 1544 documents\n",
      "Starting iteration 5\n"
     ]
    },
    {
     "name": "stderr",
     "output_type": "stream",
     "text": [
      "         4     -149408.2650         +49.1854\n"
     ]
    },
    {
     "name": "stdout",
     "output_type": "stream",
     "text": [
      "Number of processed documents: 1000\n",
      "Finished E-step with 1544 documents\n"
     ]
    },
    {
     "name": "stderr",
     "output_type": "stream",
     "text": [
      "         5     -149374.0308         +34.2342\n"
     ]
    },
    {
     "name": "stdout",
     "output_type": "stream",
     "text": [
      "Write to ./data/reuters_small.spacy...done\n",
      "Starting iteration 1\n",
      "Number of processed documents: 1000\n",
      "Number of processed documents: 2000\n",
      "Finished E-step with 2253 documents\n",
      "Starting iteration 2\n"
     ]
    },
    {
     "name": "stderr",
     "output_type": "stream",
     "text": [
      "         1     -327134.8665             +nan\n"
     ]
    },
    {
     "name": "stdout",
     "output_type": "stream",
     "text": [
      "Number of processed documents: 1000\n",
      "Number of processed documents: 2000\n",
      "Finished E-step with 2253 documents\n",
      "Starting iteration 3\n"
     ]
    },
    {
     "name": "stderr",
     "output_type": "stream",
     "text": [
      "         2     -203438.5549     +123696.3115\n"
     ]
    },
    {
     "name": "stdout",
     "output_type": "stream",
     "text": [
      "Number of processed documents: 1000\n",
      "Number of processed documents: 2000\n",
      "Finished E-step with 2253 documents\n",
      "Starting iteration 4\n"
     ]
    },
    {
     "name": "stderr",
     "output_type": "stream",
     "text": [
      "         3     -202349.5934       +1088.9616\n"
     ]
    },
    {
     "name": "stdout",
     "output_type": "stream",
     "text": [
      "Number of processed documents: 1000\n",
      "Number of processed documents: 2000\n",
      "Finished E-step with 2253 documents\n",
      "Starting iteration 5\n"
     ]
    },
    {
     "name": "stderr",
     "output_type": "stream",
     "text": [
      "         4     -202235.0097        +114.5837\n"
     ]
    },
    {
     "name": "stdout",
     "output_type": "stream",
     "text": [
      "Number of processed documents: 1000\n",
      "Number of processed documents: 2000\n",
      "Finished E-step with 2253 documents\n"
     ]
    },
    {
     "name": "stderr",
     "output_type": "stream",
     "text": [
      "         5     -202115.7911        +119.2186\n"
     ]
    },
    {
     "name": "stdout",
     "output_type": "stream",
     "text": [
      "Write to ./data/reuters_small.spacy...done\n",
      "Starting iteration 1\n",
      "Number of processed documents: 1000\n",
      "Finished E-step with 1773 documents\n",
      "Starting iteration 2\n"
     ]
    },
    {
     "name": "stderr",
     "output_type": "stream",
     "text": [
      "         1     -286409.3285             +nan\n"
     ]
    },
    {
     "name": "stdout",
     "output_type": "stream",
     "text": [
      "Number of processed documents: 1000\n",
      "Finished E-step with 1773 documents\n",
      "Starting iteration 3\n"
     ]
    },
    {
     "name": "stderr",
     "output_type": "stream",
     "text": [
      "         2     -174987.8253     +111421.5032\n"
     ]
    },
    {
     "name": "stdout",
     "output_type": "stream",
     "text": [
      "Number of processed documents: 1000\n",
      "Finished E-step with 1773 documents\n",
      "Starting iteration 4\n"
     ]
    },
    {
     "name": "stderr",
     "output_type": "stream",
     "text": [
      "         3     -174217.0808        +770.7445\n"
     ]
    },
    {
     "name": "stdout",
     "output_type": "stream",
     "text": [
      "Number of processed documents: 1000\n",
      "Finished E-step with 1773 documents\n",
      "Starting iteration 5\n"
     ]
    },
    {
     "name": "stderr",
     "output_type": "stream",
     "text": [
      "         4     -174104.8318        +112.2490\n"
     ]
    },
    {
     "name": "stdout",
     "output_type": "stream",
     "text": [
      "Number of processed documents: 1000\n",
      "Finished E-step with 1773 documents\n"
     ]
    },
    {
     "name": "stderr",
     "output_type": "stream",
     "text": [
      "         5     -174066.8250         +38.0068\n"
     ]
    },
    {
     "name": "stdout",
     "output_type": "stream",
     "text": [
      "Write to ./data/reuters_small.spacy...done\n",
      "Starting iteration 1\n",
      "Number of processed documents: 1000\n",
      "Number of processed documents: 2000\n",
      "Finished E-step with 2072 documents\n",
      "Starting iteration 2\n"
     ]
    },
    {
     "name": "stderr",
     "output_type": "stream",
     "text": [
      "         1     -290071.9499             +nan\n"
     ]
    },
    {
     "name": "stdout",
     "output_type": "stream",
     "text": [
      "Number of processed documents: 1000\n",
      "Number of processed documents: 2000\n",
      "Finished E-step with 2072 documents\n",
      "Starting iteration 3\n"
     ]
    },
    {
     "name": "stderr",
     "output_type": "stream",
     "text": [
      "         2     -177649.9200     +112422.0299\n"
     ]
    },
    {
     "name": "stdout",
     "output_type": "stream",
     "text": [
      "Number of processed documents: 1000\n",
      "Number of processed documents: 2000\n",
      "Finished E-step with 2072 documents\n",
      "Starting iteration 4\n"
     ]
    },
    {
     "name": "stderr",
     "output_type": "stream",
     "text": [
      "         3     -176822.4097        +827.5103\n"
     ]
    },
    {
     "name": "stdout",
     "output_type": "stream",
     "text": [
      "Number of processed documents: 1000\n",
      "Number of processed documents: 2000\n",
      "Finished E-step with 2072 documents\n",
      "Starting iteration 5\n"
     ]
    },
    {
     "name": "stderr",
     "output_type": "stream",
     "text": [
      "         4     -176789.8423         +32.5675\n"
     ]
    },
    {
     "name": "stdout",
     "output_type": "stream",
     "text": [
      "Number of processed documents: 1000\n",
      "Number of processed documents: 2000\n",
      "Finished E-step with 2072 documents\n"
     ]
    },
    {
     "name": "stderr",
     "output_type": "stream",
     "text": [
      "         5     -176768.0609         +21.7814\n"
     ]
    },
    {
     "name": "stdout",
     "output_type": "stream",
     "text": [
      "Write to ./data/reuters_small.spacy...done\n",
      "Starting iteration 1\n",
      "Number of processed documents: 1000\n",
      "Number of processed documents: 2000\n",
      "Finished E-step with 2207 documents\n",
      "Starting iteration 2\n"
     ]
    },
    {
     "name": "stderr",
     "output_type": "stream",
     "text": [
      "         1     -313363.6493             +nan\n"
     ]
    },
    {
     "name": "stdout",
     "output_type": "stream",
     "text": [
      "Number of processed documents: 1000\n",
      "Number of processed documents: 2000\n",
      "Finished E-step with 2207 documents\n",
      "Starting iteration 3\n"
     ]
    },
    {
     "name": "stderr",
     "output_type": "stream",
     "text": [
      "         2     -191040.2620     +122323.3873\n"
     ]
    },
    {
     "name": "stdout",
     "output_type": "stream",
     "text": [
      "Number of processed documents: 1000\n",
      "Number of processed documents: 2000\n",
      "Finished E-step with 2207 documents\n",
      "Starting iteration 4\n"
     ]
    },
    {
     "name": "stderr",
     "output_type": "stream",
     "text": [
      "         3     -189381.1342       +1659.1278\n"
     ]
    },
    {
     "name": "stdout",
     "output_type": "stream",
     "text": [
      "Number of processed documents: 1000\n",
      "Number of processed documents: 2000\n",
      "Finished E-step with 2207 documents\n",
      "Starting iteration 5\n"
     ]
    },
    {
     "name": "stderr",
     "output_type": "stream",
     "text": [
      "         4     -189304.6113         +76.5229\n"
     ]
    },
    {
     "name": "stdout",
     "output_type": "stream",
     "text": [
      "Number of processed documents: 1000\n",
      "Number of processed documents: 2000\n",
      "Finished E-step with 2207 documents\n"
     ]
    },
    {
     "name": "stderr",
     "output_type": "stream",
     "text": [
      "         5     -189257.3174         +47.2939\n"
     ]
    },
    {
     "name": "stdout",
     "output_type": "stream",
     "text": [
      "Write to ./data/reuters_small.spacy...done\n",
      "Starting iteration 1\n",
      "Number of processed documents: 1000\n",
      "Finished E-step with 1556 documents\n",
      "Starting iteration 2\n"
     ]
    },
    {
     "name": "stderr",
     "output_type": "stream",
     "text": [
      "         1     -240646.4789             +nan\n"
     ]
    },
    {
     "name": "stdout",
     "output_type": "stream",
     "text": [
      "Number of processed documents: 1000\n",
      "Finished E-step with 1556 documents\n",
      "Starting iteration 3\n"
     ]
    },
    {
     "name": "stderr",
     "output_type": "stream",
     "text": [
      "         2     -143342.0422      +97304.4367\n"
     ]
    },
    {
     "name": "stdout",
     "output_type": "stream",
     "text": [
      "Number of processed documents: 1000\n",
      "Finished E-step with 1556 documents\n",
      "Starting iteration 4\n"
     ]
    },
    {
     "name": "stderr",
     "output_type": "stream",
     "text": [
      "         3     -142684.0493        +657.9928\n"
     ]
    },
    {
     "name": "stdout",
     "output_type": "stream",
     "text": [
      "Number of processed documents: 1000\n",
      "Finished E-step with 1556 documents\n",
      "Starting iteration 5\n"
     ]
    },
    {
     "name": "stderr",
     "output_type": "stream",
     "text": [
      "         4     -142652.9310         +31.1184\n"
     ]
    },
    {
     "name": "stdout",
     "output_type": "stream",
     "text": [
      "Number of processed documents: 1000\n",
      "Finished E-step with 1556 documents\n"
     ]
    },
    {
     "name": "stderr",
     "output_type": "stream",
     "text": [
      "         5     -142633.0308         +19.9002\n"
     ]
    },
    {
     "name": "stdout",
     "output_type": "stream",
     "text": [
      "Write to ./data/reuters_small.spacy...done\n",
      "Starting iteration 1\n",
      "Number of processed documents: 1000\n",
      "Number of processed documents: 2000\n",
      "Finished E-step with 2472 documents\n",
      "Starting iteration 2\n"
     ]
    },
    {
     "name": "stderr",
     "output_type": "stream",
     "text": [
      "         1     -342942.1624             +nan\n"
     ]
    },
    {
     "name": "stdout",
     "output_type": "stream",
     "text": [
      "Number of processed documents: 1000\n",
      "Number of processed documents: 2000\n",
      "Finished E-step with 2472 documents\n",
      "Starting iteration 3\n"
     ]
    },
    {
     "name": "stderr",
     "output_type": "stream",
     "text": [
      "         2     -199973.9021     +142968.2603\n"
     ]
    },
    {
     "name": "stdout",
     "output_type": "stream",
     "text": [
      "Number of processed documents: 1000\n",
      "Number of processed documents: 2000\n",
      "Finished E-step with 2472 documents\n",
      "Starting iteration 4\n"
     ]
    },
    {
     "name": "stderr",
     "output_type": "stream",
     "text": [
      "         3     -198115.8217       +1858.0804\n"
     ]
    },
    {
     "name": "stdout",
     "output_type": "stream",
     "text": [
      "Number of processed documents: 1000\n",
      "Number of processed documents: 2000\n",
      "Finished E-step with 2472 documents\n",
      "Starting iteration 5\n"
     ]
    },
    {
     "name": "stderr",
     "output_type": "stream",
     "text": [
      "         4     -198081.7108         +34.1109\n"
     ]
    },
    {
     "name": "stdout",
     "output_type": "stream",
     "text": [
      "Number of processed documents: 1000\n",
      "Number of processed documents: 2000\n",
      "Finished E-step with 2472 documents\n"
     ]
    },
    {
     "name": "stderr",
     "output_type": "stream",
     "text": [
      "         5     -198063.6148         +18.0961\n"
     ]
    },
    {
     "name": "stdout",
     "output_type": "stream",
     "text": [
      "Write to ./data/reuters_small.spacy...done\n",
      "Starting iteration 1\n",
      "Number of processed documents: 1000\n",
      "Number of processed documents: 2000\n",
      "Finished E-step with 2796 documents\n",
      "Starting iteration 2\n"
     ]
    },
    {
     "name": "stderr",
     "output_type": "stream",
     "text": [
      "         1     -447947.0779             +nan\n"
     ]
    },
    {
     "name": "stdout",
     "output_type": "stream",
     "text": [
      "Number of processed documents: 1000\n",
      "Number of processed documents: 2000\n",
      "Finished E-step with 2796 documents\n",
      "Starting iteration 3\n"
     ]
    },
    {
     "name": "stderr",
     "output_type": "stream",
     "text": [
      "         2     -267069.2237     +180877.8542\n"
     ]
    },
    {
     "name": "stdout",
     "output_type": "stream",
     "text": [
      "Number of processed documents: 1000\n",
      "Number of processed documents: 2000\n",
      "Finished E-step with 2796 documents\n",
      "Starting iteration 4\n"
     ]
    },
    {
     "name": "stderr",
     "output_type": "stream",
     "text": [
      "         3     -265218.2109       +1851.0128\n"
     ]
    },
    {
     "name": "stdout",
     "output_type": "stream",
     "text": [
      "Number of processed documents: 1000\n",
      "Number of processed documents: 2000\n",
      "Finished E-step with 2796 documents\n",
      "Starting iteration 5\n"
     ]
    },
    {
     "name": "stderr",
     "output_type": "stream",
     "text": [
      "         4     -265072.1847        +146.0262\n"
     ]
    },
    {
     "name": "stdout",
     "output_type": "stream",
     "text": [
      "Number of processed documents: 1000\n",
      "Number of processed documents: 2000\n",
      "Finished E-step with 2796 documents\n"
     ]
    },
    {
     "name": "stderr",
     "output_type": "stream",
     "text": [
      "         5     -265031.8203         +40.3644\n"
     ]
    },
    {
     "name": "stdout",
     "output_type": "stream",
     "text": [
      "Write to ./data/reuters_small.spacy...done\n",
      "Starting iteration 1\n",
      "Number of processed documents: 1000\n",
      "Finished E-step with 1349 documents\n",
      "Starting iteration 2\n"
     ]
    },
    {
     "name": "stderr",
     "output_type": "stream",
     "text": [
      "         1     -216185.7807             +nan\n"
     ]
    },
    {
     "name": "stdout",
     "output_type": "stream",
     "text": [
      "Number of processed documents: 1000\n",
      "Finished E-step with 1349 documents\n",
      "Starting iteration 3\n"
     ]
    },
    {
     "name": "stderr",
     "output_type": "stream",
     "text": [
      "         2     -127536.3077      +88649.4730\n"
     ]
    },
    {
     "name": "stdout",
     "output_type": "stream",
     "text": [
      "Number of processed documents: 1000\n",
      "Finished E-step with 1349 documents\n",
      "Starting iteration 4\n"
     ]
    },
    {
     "name": "stderr",
     "output_type": "stream",
     "text": [
      "         3     -126910.6376        +625.6701\n"
     ]
    },
    {
     "name": "stdout",
     "output_type": "stream",
     "text": [
      "Number of processed documents: 1000\n",
      "Finished E-step with 1349 documents\n",
      "Starting iteration 5\n"
     ]
    },
    {
     "name": "stderr",
     "output_type": "stream",
     "text": [
      "         4     -126884.3763         +26.2613\n"
     ]
    },
    {
     "name": "stdout",
     "output_type": "stream",
     "text": [
      "Number of processed documents: 1000\n",
      "Finished E-step with 1349 documents\n"
     ]
    },
    {
     "name": "stderr",
     "output_type": "stream",
     "text": [
      "         5     -126872.9473         +11.4290\n"
     ]
    },
    {
     "name": "stdout",
     "output_type": "stream",
     "text": [
      "Write to ./data/reuters_small.spacy...done\n",
      "1349\n",
      "48982\n"
     ]
    }
   ],
   "source": [
    "# CODIGO PARA A ALICACAO DE SUPERVISAO FRACA NA BASE DE 50000 E GERAR UM BASE ROTULADA\n",
    "\n",
    "# dodf_list=[\"DODF_EXTRATOS_CONTRATO_02-01-2018_31-12-2018.parquet\"] 19\n",
    "\n",
    "dodf_list=[\"DODF_EXTRATOS_CONTRATO_01-01-2019_31-12-2019.parquet\",\"DODF_EXTRATOS_CONTRATO_02-01-2001_28-12-2001.parquet\",\"DODF_EXTRATOS_CONTRATO_02-01-2004_31-12-2004.parquet\",\"DODF_EXTRATOS_CONTRATO_02-01-2006_29-12-2006.parquet\",\"DODF_EXTRATOS_CONTRATO_02-01-2007_31-12-2007.parquet\",\"DODF_EXTRATOS_CONTRATO_02-01-2008_31-12-2008.parquet\",\"DODF_EXTRATOS_CONTRATO_02-01-2009_31-12-2009.parquet\",\"DODF_EXTRATOS_CONTRATO_02-01-2012_28-12-2012.parquet\",\"DODF_EXTRATOS_CONTRATO_02-01-2013_31-12-2013.parquet\",\"DODF_EXTRATOS_CONTRATO_02-01-2014_31-12-2014.parquet\",\"DODF_EXTRATOS_CONTRATO_02-01-2017_29-12-2017.parquet\",\"DODF_EXTRATOS_CONTRATO_02-01-2018_31-12-2018.parquet\",\"DODF_EXTRATOS_CONTRATO_02-01-2020_31-12-2020.parquet\",\"DODF_EXTRATOS_CONTRATO_03-01-2000_29-12-2000.parquet\",\"DODF_EXTRATOS_CONTRATO_03-01-2002_31-12-2002.parquet\",\"DODF_EXTRATOS_CONTRATO_03-01-2003_31-12-2003.parquet\",\"DODF_EXTRATOS_CONTRATO_04-01-2005_30-12-2005.parquet\",\"DODF_EXTRATOS_CONTRATO_04-01-2011_30-12-2011.parquet\",\"DODF_EXTRATOS_CONTRATO_04-01-2016_30-12-2016.parquet\",\"DODF_EXTRATOS_CONTRATO_04-01-2021_22-10-2021.parquet\",\"DODF_EXTRATOS_CONTRATO_05-01-2010_31-12-2010.parquet\",\"DODF_EXTRATOS_CONTRATO_05-01-2015_31-12-2015.parquet\"]\n",
    "\n",
    "#dodf_list=[\"DODF_EXTRATOS_CONTRATO_04-01-2021_22-10-2021.parquet\"]\n",
    "\n",
    "#dodf_list=[\"DODF_EXTRATOS_CONTRATO_02-01-2014_31-12-2014.parquet\",\"DODF_EXTRATOS_CONTRATO_02-01-2017_29-12-2017.parquet\",\"DODF_EXTRATOS_CONTRATO_02-01-2018_31-12-2018.parquet\",\"DODF_EXTRATOS_CONTRATO_02-01-2020_31-12-2020.parquet\",\"DODF_EXTRATOS_CONTRATO_03-01-2000_29-12-2000.parquet\",\"DODF_EXTRATOS_CONTRATO_03-01-2002_31-12-2002.parquet\"]\n",
    "\n",
    "df = pd.DataFrame(columns=[\"CONTRATO\", \"PROCESSO\", \"PARTES\", \"CONTRATANTE\", \"CONTRATADA\", \"OBJETO\", \"VALOR\", \"PROG_TRAB.\", \"NAT_DESP.\", \"NOTA_EMP.\", \"DATA_ASS.\", \"VIGENCIA\", \"text\", \"labels\"])\n",
    "\n",
    "crf = dodfCRF.CRFContratos()\n",
    "\n",
    "for dodf in dodf_list:\n",
    "    dados=[]\n",
    "    dataframe = pd.read_parquet(\"./results/\"+dodf)\n",
    "\n",
    "    #print(dataframe)\n",
    "\n",
    "    for i in dataframe[\"full_text\"]:\n",
    "        if len(i)<1000000:\n",
    "            aux=i.replace(\"\\n\", \" \")\n",
    "            aux=' '.join(aux.split())\n",
    "            dados.append(aux)\n",
    "\n",
    "    aux_df = crf.get_dataframe(dados)\n",
    "\n",
    "    aux_df2 = pd.DataFrame(columns=[\"DODF_rast\",\"data_dodf\"])\n",
    "\n",
    "    for index,row in dataframe.iterrows():\n",
    "        df2 = {\"DODF_rast\": row[\"file_name\"], \"data_dodf\":str(row[\"day\"])+\"-\"+str(row[\"month\"])+\"-\"+str(row[\"year\"])}\n",
    "        aux_df2 = aux_df2.append(df2, ignore_index=True)\n",
    "\n",
    "    #print(df2)\n",
    "    #print(aux_df2)\n",
    "    aux_df = aux_df.join(aux_df2)\n",
    "    df = df.append(aux_df, ignore_index=True)\n",
    "\n",
    "print(len(dados))\n",
    "print(len(df))"
   ]
  },
  {
   "cell_type": "code",
   "execution_count": 5,
   "metadata": {},
   "outputs": [],
   "source": [
    "df.to_csv(\"contratosFINAL.csv\")"
   ]
  },
  {
   "cell_type": "code",
   "execution_count": 6,
   "metadata": {},
   "outputs": [
    {
     "data": {
      "text/html": [
       "<div>\n",
       "<style scoped>\n",
       "    .dataframe tbody tr th:only-of-type {\n",
       "        vertical-align: middle;\n",
       "    }\n",
       "\n",
       "    .dataframe tbody tr th {\n",
       "        vertical-align: top;\n",
       "    }\n",
       "\n",
       "    .dataframe thead th {\n",
       "        text-align: right;\n",
       "    }\n",
       "</style>\n",
       "<table border=\"1\" class=\"dataframe\">\n",
       "  <thead>\n",
       "    <tr style=\"text-align: right;\">\n",
       "      <th></th>\n",
       "      <th>CONTRATO</th>\n",
       "      <th>PROCESSO</th>\n",
       "      <th>PARTES</th>\n",
       "      <th>CONTRATANTE</th>\n",
       "      <th>CONTRATADA</th>\n",
       "      <th>OBJETO</th>\n",
       "      <th>VALOR</th>\n",
       "      <th>PROG_TRAB.</th>\n",
       "      <th>NAT_DESP.</th>\n",
       "      <th>NOTA_EMP.</th>\n",
       "      <th>DATA_ASS.</th>\n",
       "      <th>VIGENCIA</th>\n",
       "      <th>text</th>\n",
       "      <th>labels</th>\n",
       "      <th>UNI_ORC.</th>\n",
       "      <th>DODF_rast</th>\n",
       "      <th>data_dodf</th>\n",
       "    </tr>\n",
       "  </thead>\n",
       "  <tbody>\n",
       "    <tr>\n",
       "      <th>0</th>\n",
       "      <td>150/2018-SES</td>\n",
       "      <td>060.004.302/2014</td>\n",
       "      <td>DISTRITO FEDERAL, por intermédio de sua SECRET...</td>\n",
       "      <td></td>\n",
       "      <td></td>\n",
       "      <td>prorrogar o prazo de vigência do Contrato nº 3...</td>\n",
       "      <td>568.476,31</td>\n",
       "      <td>10302620221450009</td>\n",
       "      <td>339039</td>\n",
       "      <td>2018NE11310</td>\n",
       "      <td>19/12/2018</td>\n",
       "      <td>a contar da assinatura</td>\n",
       "      <td>EXTRATOS CONTRATUAIS Espécie : SECRETARIA Cont...</td>\n",
       "      <td>O O O O O O O B-CONTRATO I-CONTRATO O O O O O ...</td>\n",
       "      <td>23901</td>\n",
       "      <td>DODF 003 04-01-2019</td>\n",
       "      <td>4-1-2019</td>\n",
       "    </tr>\n",
       "    <tr>\n",
       "      <th>1</th>\n",
       "      <td>072/2018 (*)</td>\n",
       "      <td>0113.028422/2017</td>\n",
       "      <td>DEPARTAMENTO DE ESTRADAS DE RODAGEM DODISTRITO...</td>\n",
       "      <td></td>\n",
       "      <td></td>\n",
       "      <td>aquisição de material permanente: 28 (vinte e ...</td>\n",
       "      <td>9.644.500,00</td>\n",
       "      <td></td>\n",
       "      <td></td>\n",
       "      <td></td>\n",
       "      <td>20/12/2018</td>\n",
       "      <td></td>\n",
       "      <td>EXTRATO DO CONTRATO Nº 072/2018 ( * ) PROCESSO...</td>\n",
       "      <td>O O O O B-CONTRATO I-CONTRATO I-CONTRATO I-CON...</td>\n",
       "      <td></td>\n",
       "      <td>DODF 003 04-01-2019</td>\n",
       "      <td>4-1-2019</td>\n",
       "    </tr>\n",
       "    <tr>\n",
       "      <th>2</th>\n",
       "      <td>647/2018-CEB</td>\n",
       "      <td>310.001289/2018</td>\n",
       "      <td>CEB Distribuição S.A. e JK Comércio e Represen...</td>\n",
       "      <td></td>\n",
       "      <td></td>\n",
       "      <td>Aquisição de Itens de Segurança</td>\n",
       "      <td>4.320,00</td>\n",
       "      <td></td>\n",
       "      <td></td>\n",
       "      <td></td>\n",
       "      <td>pela CEB Distribuição: Maurício Alvares da Sil...</td>\n",
       "      <td>8 (oito) meses</td>\n",
       "      <td>EXTRATOS DE CONTRATO Espécie : Contrato nº 647...</td>\n",
       "      <td>O O O O O O O B-CONTRATO I-CONTRATO O O O O B-...</td>\n",
       "      <td></td>\n",
       "      <td>DODF 003 04-01-2019</td>\n",
       "      <td>4-1-2019</td>\n",
       "    </tr>\n",
       "    <tr>\n",
       "      <th>3</th>\n",
       "      <td>2018/262</td>\n",
       "      <td>034/2018</td>\n",
       "      <td></td>\n",
       "      <td></td>\n",
       "      <td></td>\n",
       "      <td>Prestação de serviços de intermediação de vend...</td>\n",
       "      <td></td>\n",
       "      <td></td>\n",
       "      <td></td>\n",
       "      <td></td>\n",
       "      <td></td>\n",
       "      <td>03/01/2019 à 03/01/2024</td>\n",
       "      <td>EXTRATO DO CONTRATO BRB Nº 2018/262 Contratant...</td>\n",
       "      <td>O O O O O B-CONTRATO O O O O O O O O O O O O O...</td>\n",
       "      <td></td>\n",
       "      <td>DODF 004 07-01-2019</td>\n",
       "      <td>7-1-2019</td>\n",
       "    </tr>\n",
       "    <tr>\n",
       "      <th>4</th>\n",
       "      <td>2018/236</td>\n",
       "      <td>041.001.253/2018</td>\n",
       "      <td></td>\n",
       "      <td></td>\n",
       "      <td></td>\n",
       "      <td>contratação emergencial de empresa para presta...</td>\n",
       "      <td>358.767,36</td>\n",
       "      <td></td>\n",
       "      <td></td>\n",
       "      <td></td>\n",
       "      <td></td>\n",
       "      <td>da emergencialidade a 13/06/2019</td>\n",
       "      <td>EXTRATO DE CONTRATO BRB Nº 2018/236 Contratant...</td>\n",
       "      <td>O O O O O B-CONTRATO O O O O O O O O O O O O O...</td>\n",
       "      <td></td>\n",
       "      <td>DODF 004 07-01-2019</td>\n",
       "      <td>7-1-2019</td>\n",
       "    </tr>\n",
       "    <tr>\n",
       "      <th>...</th>\n",
       "      <td>...</td>\n",
       "      <td>...</td>\n",
       "      <td>...</td>\n",
       "      <td>...</td>\n",
       "      <td>...</td>\n",
       "      <td>...</td>\n",
       "      <td>...</td>\n",
       "      <td>...</td>\n",
       "      <td>...</td>\n",
       "      <td>...</td>\n",
       "      <td>...</td>\n",
       "      <td>...</td>\n",
       "      <td>...</td>\n",
       "      <td>...</td>\n",
       "      <td>...</td>\n",
       "      <td>...</td>\n",
       "      <td>...</td>\n",
       "    </tr>\n",
       "    <tr>\n",
       "      <th>48977</th>\n",
       "      <td>19/2015</td>\n",
       "      <td>392.006.443/2015</td>\n",
       "      <td>Companhia de Desenvolvimento Habitacional do D...</td>\n",
       "      <td></td>\n",
       "      <td></td>\n",
       "      <td>Contratação de empresa para execução das obras...</td>\n",
       "      <td>286.283,08</td>\n",
       "      <td>15451620811109565</td>\n",
       "      <td>44.90.51</td>\n",
       "      <td>2015NE00674</td>\n",
       "      <td></td>\n",
       "      <td>6 (seis) meses</td>\n",
       "      <td>EXTRATO DO CONTRATO Nº 19/2015 . Processo : 39...</td>\n",
       "      <td>O O O O B-CONTRATO O O O B-PROCESSO O O O O O ...</td>\n",
       "      <td>28.209</td>\n",
       "      <td>DODF 249 30-12-2015/DODF 249 30-12-2015 3</td>\n",
       "      <td>30-12-2015</td>\n",
       "    </tr>\n",
       "    <tr>\n",
       "      <th>48978</th>\n",
       "      <td>50 /2015</td>\n",
       "      <td>084.000377/2015</td>\n",
       "      <td>SEELDF X STAR LOCAÇÃO DE SERVIÇOS GERAIS LTDA ...</td>\n",
       "      <td></td>\n",
       "      <td></td>\n",
       "      <td>prestação de serviços necessários Educação ao ...</td>\n",
       "      <td>440.99,20</td>\n",
       "      <td>27.812.6206.4090.0069</td>\n",
       "      <td>3.3.90.39</td>\n",
       "      <td>2015NE05893</td>\n",
       "      <td>22/09/2015: Assinantes P/SEEDF: Júlio Gregório...</td>\n",
       "      <td>do Contrato: 12 (doze) meses, a contar da assi...</td>\n",
       "      <td>EXTRATO DO CONTRATO Nº 50 /2015 . Processo : 0...</td>\n",
       "      <td>O O O O B-CONTRATO I-CONTRATO O O O B-PROCESSO...</td>\n",
       "      <td>34902</td>\n",
       "      <td>DODF 250 31-12-2015/DODF 250 31-12-2015 3</td>\n",
       "      <td>31-12-2015</td>\n",
       "    </tr>\n",
       "    <tr>\n",
       "      <th>48979</th>\n",
       "      <td>10/2014</td>\n",
       "      <td>139.000.230/2014</td>\n",
       "      <td>ADMINISTRAÇÃO REGIONAL DO CRU- ZEIRO DF/RA-XI ...</td>\n",
       "      <td></td>\n",
       "      <td></td>\n",
       "      <td>prorrogação do prazo de vigência do contrato p...</td>\n",
       "      <td>22.261,62</td>\n",
       "      <td></td>\n",
       "      <td></td>\n",
       "      <td></td>\n",
       "      <td>22 de dezembro de 2015</td>\n",
       "      <td></td>\n",
       "      <td>EXTRATO DO CONTRATO Nº 10/2014 , NOS TERMOS DO...</td>\n",
       "      <td>O O O O B-CONTRATO O O O O O O O O O B-PROCESS...</td>\n",
       "      <td></td>\n",
       "      <td>DODF 250 31-12-2015/DODF 250 31-12-2015 3</td>\n",
       "      <td>31-12-2015</td>\n",
       "    </tr>\n",
       "    <tr>\n",
       "      <th>48980</th>\n",
       "      <td>06/2015</td>\n",
       "      <td>133.000.281/2015</td>\n",
       "      <td>DF/ADMINISTRAÇAO REGIONAL DE BRA- ZLÂNDIA CARV...</td>\n",
       "      <td></td>\n",
       "      <td></td>\n",
       "      <td>O Contrato tem por objeto a contratação de emp...</td>\n",
       "      <td>66.675,35</td>\n",
       "      <td>PT:15.451.6208.1110.5890</td>\n",
       "      <td>44.90.51</td>\n",
       "      <td>2015NE00398</td>\n",
       "      <td>29 de dezembro de 2015</td>\n",
       "      <td>60 (sessenta) dias, a contar da data de sua as...</td>\n",
       "      <td>EXTRATO DO CONTRATO DE EXECUÇÃO DE OBRAS Nº 06...</td>\n",
       "      <td>O O O O O O O O B-CONTRATO O O O B-PROCESSO O ...</td>\n",
       "      <td>28.106 -</td>\n",
       "      <td>DODF 250 31-12-2015/DODF 250 31-12-2015 3</td>\n",
       "      <td>31-12-2015</td>\n",
       "    </tr>\n",
       "    <tr>\n",
       "      <th>48981</th>\n",
       "      <td>07/2015</td>\n",
       "      <td>133.000.191/2015</td>\n",
       "      <td>DF/ADMINISTRAÇAO REGIONAL DE BRA- ZLÂNDIA VALE...</td>\n",
       "      <td></td>\n",
       "      <td></td>\n",
       "      <td>O Contrato tem por objeto a contratação de emp...</td>\n",
       "      <td>83.477,74</td>\n",
       "      <td></td>\n",
       "      <td></td>\n",
       "      <td></td>\n",
       "      <td></td>\n",
       "      <td></td>\n",
       "      <td>EXTRATO DO CONTRATO DE EXECUÇÃO DE OBRAS Nº 07...</td>\n",
       "      <td>O O O O O O O O B-CONTRATO O O O B-PROCESSO O ...</td>\n",
       "      <td>28.106</td>\n",
       "      <td>DODF 250 31-12-2015/DODF 250 31-12-2015 3</td>\n",
       "      <td>31-12-2015</td>\n",
       "    </tr>\n",
       "  </tbody>\n",
       "</table>\n",
       "<p>48982 rows × 17 columns</p>\n",
       "</div>"
      ],
      "text/plain": [
       "           CONTRATO          PROCESSO  \\\n",
       "0      150/2018-SES  060.004.302/2014   \n",
       "1      072/2018 (*)  0113.028422/2017   \n",
       "2      647/2018-CEB   310.001289/2018   \n",
       "3          2018/262          034/2018   \n",
       "4          2018/236  041.001.253/2018   \n",
       "...             ...               ...   \n",
       "48977       19/2015  392.006.443/2015   \n",
       "48978      50 /2015   084.000377/2015   \n",
       "48979       10/2014  139.000.230/2014   \n",
       "48980       06/2015  133.000.281/2015   \n",
       "48981       07/2015  133.000.191/2015   \n",
       "\n",
       "                                                  PARTES CONTRATANTE  \\\n",
       "0      DISTRITO FEDERAL, por intermédio de sua SECRET...               \n",
       "1      DEPARTAMENTO DE ESTRADAS DE RODAGEM DODISTRITO...               \n",
       "2      CEB Distribuição S.A. e JK Comércio e Represen...               \n",
       "3                                                                      \n",
       "4                                                                      \n",
       "...                                                  ...         ...   \n",
       "48977  Companhia de Desenvolvimento Habitacional do D...               \n",
       "48978  SEELDF X STAR LOCAÇÃO DE SERVIÇOS GERAIS LTDA ...               \n",
       "48979  ADMINISTRAÇÃO REGIONAL DO CRU- ZEIRO DF/RA-XI ...               \n",
       "48980  DF/ADMINISTRAÇAO REGIONAL DE BRA- ZLÂNDIA CARV...               \n",
       "48981  DF/ADMINISTRAÇAO REGIONAL DE BRA- ZLÂNDIA VALE...               \n",
       "\n",
       "      CONTRATADA                                             OBJETO  \\\n",
       "0                 prorrogar o prazo de vigência do Contrato nº 3...   \n",
       "1                 aquisição de material permanente: 28 (vinte e ...   \n",
       "2                                   Aquisição de Itens de Segurança   \n",
       "3                 Prestação de serviços de intermediação de vend...   \n",
       "4                 contratação emergencial de empresa para presta...   \n",
       "...          ...                                                ...   \n",
       "48977             Contratação de empresa para execução das obras...   \n",
       "48978             prestação de serviços necessários Educação ao ...   \n",
       "48979             prorrogação do prazo de vigência do contrato p...   \n",
       "48980             O Contrato tem por objeto a contratação de emp...   \n",
       "48981             O Contrato tem por objeto a contratação de emp...   \n",
       "\n",
       "              VALOR                PROG_TRAB.  NAT_DESP.    NOTA_EMP.  \\\n",
       "0        568.476,31         10302620221450009     339039  2018NE11310   \n",
       "1      9.644.500,00                                                     \n",
       "2          4.320,00                                                     \n",
       "3                                                                       \n",
       "4        358.767,36                                                     \n",
       "...             ...                       ...        ...          ...   \n",
       "48977    286.283,08         15451620811109565   44.90.51  2015NE00674   \n",
       "48978     440.99,20     27.812.6206.4090.0069  3.3.90.39  2015NE05893   \n",
       "48979     22.261,62                                                     \n",
       "48980     66.675,35  PT:15.451.6208.1110.5890   44.90.51  2015NE00398   \n",
       "48981     83.477,74                                                     \n",
       "\n",
       "                                               DATA_ASS.  \\\n",
       "0                                             19/12/2018   \n",
       "1                                             20/12/2018   \n",
       "2      pela CEB Distribuição: Maurício Alvares da Sil...   \n",
       "3                                                          \n",
       "4                                                          \n",
       "...                                                  ...   \n",
       "48977                                                      \n",
       "48978  22/09/2015: Assinantes P/SEEDF: Júlio Gregório...   \n",
       "48979                             22 de dezembro de 2015   \n",
       "48980                             29 de dezembro de 2015   \n",
       "48981                                                      \n",
       "\n",
       "                                                VIGENCIA  \\\n",
       "0                                 a contar da assinatura   \n",
       "1                                                          \n",
       "2                                         8 (oito) meses   \n",
       "3                                03/01/2019 à 03/01/2024   \n",
       "4                       da emergencialidade a 13/06/2019   \n",
       "...                                                  ...   \n",
       "48977                                     6 (seis) meses   \n",
       "48978  do Contrato: 12 (doze) meses, a contar da assi...   \n",
       "48979                                                      \n",
       "48980  60 (sessenta) dias, a contar da data de sua as...   \n",
       "48981                                                      \n",
       "\n",
       "                                                    text  \\\n",
       "0      EXTRATOS CONTRATUAIS Espécie : SECRETARIA Cont...   \n",
       "1      EXTRATO DO CONTRATO Nº 072/2018 ( * ) PROCESSO...   \n",
       "2      EXTRATOS DE CONTRATO Espécie : Contrato nº 647...   \n",
       "3      EXTRATO DO CONTRATO BRB Nº 2018/262 Contratant...   \n",
       "4      EXTRATO DE CONTRATO BRB Nº 2018/236 Contratant...   \n",
       "...                                                  ...   \n",
       "48977  EXTRATO DO CONTRATO Nº 19/2015 . Processo : 39...   \n",
       "48978  EXTRATO DO CONTRATO Nº 50 /2015 . Processo : 0...   \n",
       "48979  EXTRATO DO CONTRATO Nº 10/2014 , NOS TERMOS DO...   \n",
       "48980  EXTRATO DO CONTRATO DE EXECUÇÃO DE OBRAS Nº 06...   \n",
       "48981  EXTRATO DO CONTRATO DE EXECUÇÃO DE OBRAS Nº 07...   \n",
       "\n",
       "                                                  labels  UNI_ORC.  \\\n",
       "0      O O O O O O O B-CONTRATO I-CONTRATO O O O O O ...     23901   \n",
       "1      O O O O B-CONTRATO I-CONTRATO I-CONTRATO I-CON...             \n",
       "2      O O O O O O O B-CONTRATO I-CONTRATO O O O O B-...             \n",
       "3      O O O O O B-CONTRATO O O O O O O O O O O O O O...             \n",
       "4      O O O O O B-CONTRATO O O O O O O O O O O O O O...             \n",
       "...                                                  ...       ...   \n",
       "48977  O O O O B-CONTRATO O O O B-PROCESSO O O O O O ...    28.209   \n",
       "48978  O O O O B-CONTRATO I-CONTRATO O O O B-PROCESSO...     34902   \n",
       "48979  O O O O B-CONTRATO O O O O O O O O O B-PROCESS...             \n",
       "48980  O O O O O O O O B-CONTRATO O O O B-PROCESSO O ...  28.106 -   \n",
       "48981  O O O O O O O O B-CONTRATO O O O B-PROCESSO O ...    28.106   \n",
       "\n",
       "                                       DODF_rast   data_dodf  \n",
       "0                            DODF 003 04-01-2019    4-1-2019  \n",
       "1                            DODF 003 04-01-2019    4-1-2019  \n",
       "2                            DODF 003 04-01-2019    4-1-2019  \n",
       "3                            DODF 004 07-01-2019    7-1-2019  \n",
       "4                            DODF 004 07-01-2019    7-1-2019  \n",
       "...                                          ...         ...  \n",
       "48977  DODF 249 30-12-2015/DODF 249 30-12-2015 3  30-12-2015  \n",
       "48978  DODF 250 31-12-2015/DODF 250 31-12-2015 3  31-12-2015  \n",
       "48979  DODF 250 31-12-2015/DODF 250 31-12-2015 3  31-12-2015  \n",
       "48980  DODF 250 31-12-2015/DODF 250 31-12-2015 3  31-12-2015  \n",
       "48981  DODF 250 31-12-2015/DODF 250 31-12-2015 3  31-12-2015  \n",
       "\n",
       "[48982 rows x 17 columns]"
      ]
     },
     "execution_count": 6,
     "metadata": {},
     "output_type": "execute_result"
    }
   ],
   "source": [
    "df"
   ]
  },
  {
   "cell_type": "code",
   "execution_count": 7,
   "metadata": {},
   "outputs": [
    {
     "data": {
      "text/plain": [
       "0        EXTRATOS CONTRATUAIS Espécie : SECRETARIA Cont...\n",
       "1        EXTRATO DO CONTRATO Nº 072/2018 ( * ) PROCESSO...\n",
       "2        EXTRATOS DE CONTRATO Espécie : Contrato nº 647...\n",
       "3        EXTRATO DO CONTRATO BRB Nº 2018/262 Contratant...\n",
       "4        EXTRATO DE CONTRATO BRB Nº 2018/236 Contratant...\n",
       "                               ...                        \n",
       "48977    EXTRATO DO CONTRATO Nº 19/2015 . Processo : 39...\n",
       "48978    EXTRATO DO CONTRATO Nº 50 /2015 . Processo : 0...\n",
       "48979    EXTRATO DO CONTRATO Nº 10/2014 , NOS TERMOS DO...\n",
       "48980    EXTRATO DO CONTRATO DE EXECUÇÃO DE OBRAS Nº 06...\n",
       "48981    EXTRATO DO CONTRATO DE EXECUÇÃO DE OBRAS Nº 07...\n",
       "Name: text, Length: 48982, dtype: object"
      ]
     },
     "execution_count": 7,
     "metadata": {},
     "output_type": "execute_result"
    }
   ],
   "source": [
    "df[\"text\"]"
   ]
  }
 ],
 "metadata": {
  "interpreter": {
   "hash": "5c3b02fa24688d32a1d09351b7f8eac82a87272ad081601c73caead00a8e1fc4"
  },
  "kernelspec": {
   "display_name": "Python 2.7.9 64-bit (system)",
   "language": "python",
   "name": "python3"
  },
  "language_info": {
   "codemirror_mode": {
    "name": "ipython",
    "version": 3
   },
   "file_extension": ".py",
   "mimetype": "text/x-python",
   "name": "python",
   "nbconvert_exporter": "python",
   "pygments_lexer": "ipython3",
   "version": "3.8.10"
  },
  "orig_nbformat": 4
 },
 "nbformat": 4,
 "nbformat_minor": 2
}
