{
  "cells": [
    {
      "attachments": {},
      "cell_type": "markdown",
      "metadata": {
        "id": "fNkprJ1eMu3F"
      },
      "source": [
        "### Instalações"
      ]
    },
    {
      "cell_type": "code",
      "execution_count": 1,
      "metadata": {},
      "outputs": [],
      "source": [
        "%load_ext autoreload\n",
        "%autoreload 2"
      ]
    },
    {
      "cell_type": "code",
      "execution_count": 2,
      "metadata": {
        "colab": {
          "base_uri": "https://localhost:8080/",
          "height": 1000
        },
        "id": "qlZ-12rZLxHO",
        "outputId": "0221d9a4-b2de-4371-f627-5f58a263dd5b"
      },
      "outputs": [
        {
          "name": "stderr",
          "output_type": "stream",
          "text": [
            "[nltk_data] Downloading package punkt to /Users/lucelia/nltk_data...\n",
            "[nltk_data]   Package punkt is already up-to-date!\n",
            "2023-07-19 15:10:15.790848: I tensorflow/core/platform/cpu_feature_guard.cc:193] This TensorFlow binary is optimized with oneAPI Deep Neural Network Library (oneDNN) to use the following CPU instructions in performance-critical operations:  AVX2 FMA\n",
            "To enable them in other operations, rebuild TensorFlow with the appropriate compiler flags.\n"
          ]
        }
      ],
      "source": [
        "import pandas as pd\n",
        "\n",
        "from sklearn.preprocessing import LabelEncoder\n",
        "\n",
        "import nltk\n",
        "nltk.download('punkt')\n",
        "from nltk.tokenize import word_tokenize\n",
        "\n",
        "%matplotlib inline\n",
        "import matplotlib.pyplot as plt\n",
        "import numpy as np\n",
        "np.random.seed(0)\n",
        "plt.style.use(\"ggplot\")\n",
        "\n",
        "import tensorflow\n",
        "from tensorflow.keras.preprocessing.sequence import pad_sequences\n",
        "from gensim.models import Word2Vec\n",
        "from keras.models import Sequential\n",
        "from keras import Model, Input\n",
        "from tensorflow.keras.layers import LSTM, Dense, BatchNormalization, Dropout, Conv1D, MaxPooling1D, Embedding, TimeDistributed, Bidirectional,GlobalMaxPooling1D\n",
        "\n",
        "#!pip install -U gensim\n",
        "from gensim.models import Word2Vec\n",
        "\n",
        "#!pip install livelossplot\n",
        "from livelossplot.tf_keras import PlotLossesCallback\n",
        "\n",
        "#!pip install seqeval\n",
        "from seqeval.metrics import f1_score, classification_report, precision_score, recall_score, accuracy_score\n",
        "from seqeval.scheme import IOB2\n",
        "#! pip install plot_keras_history\n",
        "from plot_keras_history import plot_history\n",
        "from keras.optimizers import Adam\n",
        "from tensorflow.keras.callbacks import ModelCheckpoint, EarlyStopping"
      ]
    },
    {
      "attachments": {},
      "cell_type": "markdown",
      "metadata": {},
      "source": [
        "# Dados"
      ]
    },
    {
      "cell_type": "code",
      "execution_count": 3,
      "metadata": {},
      "outputs": [],
      "source": [
        "import pandas as pd\n",
        "\n",
        "df = pd.read_csv('./CSVs/V2/DODFCorpus_contratos_licitacoes_v2.csv', dtype=str)\n",
        "df = df.drop(['Unnamed: 0','Unnamed: 0.1'], axis =1)"
      ]
    },
    {
      "cell_type": "code",
      "execution_count": 4,
      "metadata": {},
      "outputs": [],
      "source": [
        "##Insere um espaço entre as entidade e insere um espaco apos :  : -> Processo:0...\n",
        "import re\n",
        "def correct_space_before_numeric_entities(string):\n",
        "    result = re.sub(r'([A-Za-z]:)[0-9]', r'\\1 ', string)\n",
        "    result = result.replace(\"\\n\", \" \")\n",
        "    return result"
      ]
    },
    {
      "cell_type": "code",
      "execution_count": 5,
      "metadata": {},
      "outputs": [],
      "source": [
        "df['texto']= df['texto'].map(correct_space_before_numeric_entities)"
      ]
    },
    {
      "cell_type": "code",
      "execution_count": 6,
      "metadata": {},
      "outputs": [
        {
          "data": {
            "text/plain": [
              "array(['REL_AVISO_LICITACAO', 'REL_SUSPENSAO_LICITACAO',\n",
              "       'REL_EXTRATO_CONTRATO', 'REL_ADITAMENTO_CONTRATO',\n",
              "       'REL_ANUL_REVOG_LICITACAO', 'REL_EXTRATO_CONVENIO'], dtype=object)"
            ]
          },
          "execution_count": 6,
          "metadata": {},
          "output_type": "execute_result"
        }
      ],
      "source": [
        "df.tipo_rel.unique()"
      ]
    },
    {
      "cell_type": "code",
      "execution_count": 7,
      "metadata": {},
      "outputs": [],
      "source": [
        "#Concatena o id_ato com o id_dodf\n",
        "df['id_ato'] = df['id_dodf'] + '-' + df['id_rel']\n",
        "#data"
      ]
    },
    {
      "cell_type": "code",
      "execution_count": 8,
      "metadata": {},
      "outputs": [
        {
          "name": "stdout",
          "output_type": "stream",
          "text": [
            "tipo_rel\n",
            "REL_EXTRATO_CONTRATO        1734\n",
            "REL_ADITAMENTO_CONTRATO     1551\n",
            "REL_AVISO_LICITACAO          639\n",
            "REL_SUSPENSAO_LICITACAO       82\n",
            "REL_ANUL_REVOG_LICITACAO      52\n",
            "REL_EXTRATO_CONVENIO          32\n",
            "Name: id_ato, dtype: int64\n"
          ]
        }
      ],
      "source": [
        "#Lista o tipo de relatório\n",
        "result =df.groupby('tipo_rel')['id_ato'].nunique()\n",
        "print(result.sort_values(ascending=False))"
      ]
    },
    {
      "cell_type": "code",
      "execution_count": 13,
      "metadata": {},
      "outputs": [],
      "source": [
        "tipo_ato = df.query(\"tipo_rel == 'REL_EXTRATO_CONTRATO'\").reset_index(drop=True)"
      ]
    },
    {
      "cell_type": "code",
      "execution_count": 14,
      "metadata": {},
      "outputs": [
        {
          "name": "stdout",
          "output_type": "stream",
          "text": [
            "tipo_ent\n",
            "EXTRATO_CONTRATO            1734\n",
            "cnpj_entidade_contratada     479\n",
            "cnpj_orgao_contratante       135\n",
            "codigo_siggo                 175\n",
            "data_assinatura_contrato    1286\n",
            "entidade_contratada         1721\n",
            "fonte_recurso               1317\n",
            "natureza_despesa            1068\n",
            "nome_responsavel             185\n",
            "nota_empenho                1214\n",
            "numero_contrato             1714\n",
            "objeto_contrato             1724\n",
            "orgao_contratante           1700\n",
            "processo_gdf                1721\n",
            "programa_trabalho           1280\n",
            "unidade_orcamentaria        1045\n",
            "valor_contrato              1566\n",
            "vigencia_contrato           1664\n",
            "Name: id_ato, dtype: int64\n"
          ]
        }
      ],
      "source": [
        "#Lista as entidades do tipo de ato\n",
        "result = tipo_ato.groupby('tipo_ent')['id_ato'].nunique()\n",
        "print(result)\n",
        "#print(result.sort_values(ascending=False))"
      ]
    },
    {
      "cell_type": "code",
      "execution_count": 15,
      "metadata": {},
      "outputs": [],
      "source": [
        "#cria um novo dataset apenas com o tipo de entidade EXTATO_CONTRATO (TEXTO)\n",
        "#tipo_ato1 = tipo_ato.query(\"tipo_ent == 'AVISO_ANUL_REV_LICITACAO'\").reset_index(drop=True)\n",
        "#tipo_ato1 = tipo_ato.query(\"tipo_ent == 'EXTRATO_CONTRATO'\").reset_index(drop=True)\n",
        "#tipo_ato1 = tipo_ato.query(\"tipo_ent == 'EXTRATO_CONTRATO'\").reset_index(drop=True)\n",
        "#tipo_ato1 = tipo_ato.query(\"tipo_ent == 'EXTRATO_ADITAMENTO_CONTRATUAL'\").reset_index(drop=True)\n",
        "#tipo_ato1 = tipo_ato.query(\"tipo_ent == 'EXTRATO_CONVENIO'\").reset_index(drop=True)\n",
        "tipo_ato1 = tipo_ato.query(\"tipo_ent == 'EXTRATO_CONTRATO'\").reset_index(drop=True)\n",
        "#tipo_ato1 = tipo_ato.query(\"tipo_ent == 'EXTRATO_ADITAMENTO_CONTRATUAL'\").reset_index(drop=True)\n",
        "#tipo_ato1"
      ]
    },
    {
      "cell_type": "code",
      "execution_count": 16,
      "metadata": {},
      "outputs": [
        {
          "data": {
            "text/plain": [
              "0       EXTRATO DO CONTRATO PARA AQUISICAO DE BENS No ...\n",
              "1       EXTRATO DO CONTRATO PARA AQUISICAO DE BENS No ...\n",
              "2       EXTRATO DO CONTRATO No 32/2018 AQUISICAO DE BE...\n",
              "3       EXTRATO DE CONTRATO CONTRATO No 9020. ASSINATU...\n",
              "4       EXTRATO DO CONTRATO No 01/2018, NOS TERMOS DO ...\n",
              "                              ...                        \n",
              "1729    EXTRATO DO CONTRATO PARA AQUISIÇÃO DE BENS Nº ...\n",
              "1730    EXTRATO DO CONTRATO DE EXECUÇÃO DE OBRAS PARA ...\n",
              "1731    EXTRATO DO CONTRATO Nº 45.926/2022 Processo: 0...\n",
              "1732    EXTRATO DO CONTRATO Nº 45832/2022 Processo: 00...\n",
              "1733    EXTRATO DO CONTRATO Nº 45927/2022 Processo: 00...\n",
              "Name: texto, Length: 1734, dtype: object"
            ]
          },
          "execution_count": 16,
          "metadata": {},
          "output_type": "execute_result"
        }
      ],
      "source": [
        "#criando novo dataframe somente com os textos\n",
        "data = tipo_ato1['texto'].reset_index(drop=True)\n",
        "#data.to_csv(\"./CSVs/V2/REL_ANUL_REVOG_LICITACAO.csv\")\n",
        "data"
      ]
    },
    {
      "cell_type": "code",
      "execution_count": 17,
      "metadata": {},
      "outputs": [],
      "source": [
        "# CODIGO RESPONSAVEL PELA LIMPEZA DO TEXTO DA BASE OURO\n",
        "import re\n",
        "\n",
        "df = []\n",
        "\n",
        "for i in data:\n",
        "    i = i.replace(\"\\n\", \" \")\n",
        "    i = re.sub('xx[a-z]{1,10}', '', i)\n",
        "    aux = ' '.join(i.split())\n",
        "    df.append(aux)\n",
        "    "
      ]
    },
    {
      "cell_type": "code",
      "execution_count": 14,
      "metadata": {},
      "outputs": [],
      "source": [
        "#df"
      ]
    },
    {
      "cell_type": "markdown",
      "metadata": {},
      "source": [
        "## Aplicando a Supervisão Fraca"
      ]
    },
    {
      "cell_type": "code",
      "execution_count": 18,
      "metadata": {},
      "outputs": [
        {
          "name": "stderr",
          "output_type": "stream",
          "text": [
            "/Users/lucelia/Documents/GitHub/experiments/members/lucelia/venv/lib/python3.9/site-packages/tqdm/auto.py:22: TqdmWarning: IProgress not found. Please update jupyter and ipywidgets. See https://ipywidgets.readthedocs.io/en/stable/user_install.html\n",
            "  from .autonotebook import tqdm as notebook_tqdm\n",
            "/Users/lucelia/Documents/GitHub/experiments/members/lucelia/venv/lib/python3.9/site-packages/spacy/language.py:1895: UserWarning: [W123] Argument disable with value ['ner', 'lemmatizer'] is used instead of ['senter'] as specified in the config. Be aware that this might affect other components in your pipeline.\n",
            "  warnings.warn(\n"
          ]
        },
        {
          "name": "stdout",
          "output_type": "stream",
          "text": [
            "Starting iteration 1\n",
            "Number of processed documents: 1000\n",
            "Finished E-step with 1734 documents\n",
            "Starting iteration 2\n"
          ]
        },
        {
          "name": "stderr",
          "output_type": "stream",
          "text": [
            "         1      -90438.4914             +nan\n"
          ]
        },
        {
          "name": "stdout",
          "output_type": "stream",
          "text": [
            "Number of processed documents: 1000\n",
            "Finished E-step with 1734 documents\n",
            "Starting iteration 3\n"
          ]
        },
        {
          "name": "stderr",
          "output_type": "stream",
          "text": [
            "         2      -88696.5614       +1741.9300\n"
          ]
        },
        {
          "name": "stdout",
          "output_type": "stream",
          "text": [
            "Number of processed documents: 1000\n",
            "Finished E-step with 1734 documents\n",
            "Starting iteration 4\n"
          ]
        },
        {
          "name": "stderr",
          "output_type": "stream",
          "text": [
            "         3      -88603.0361         +93.5253\n"
          ]
        },
        {
          "name": "stdout",
          "output_type": "stream",
          "text": [
            "Number of processed documents: 1000\n",
            "Finished E-step with 1734 documents\n"
          ]
        },
        {
          "name": "stderr",
          "output_type": "stream",
          "text": [
            "         4      -88579.9800         +23.0561\n"
          ]
        },
        {
          "name": "stdout",
          "output_type": "stream",
          "text": [
            "Write to ./data/reuters_small.spacy...done\n"
          ]
        }
      ],
      "source": [
        "# CODIGO DE APLICACAO DA SUPERVISAO FRACA\n",
        "\n",
        "#Para rodar aditamento de contrato \n",
        "#import dodfSkweak_Aditamento_2\n",
        "#skw = dodfSkweak_Aditamento_2.SkweakAditamento(df)\n",
        "\n",
        "#Para rodar Aviso Licitação\n",
        "#import dodfSkweak_Aviso_Licitacao\n",
        "#skw = dodfSkweak_Aviso_Licitacao.SkweakAvisoLicitacao(df)\n",
        "\n",
        "#Para rodar Suspensao \n",
        "#import dodfSkweak_Suspensao_1\n",
        "#skw = dodfSkweak_Suspensao_1.SkweakSuspensao(df)\n",
        "\n",
        "#Para rodar Anulacao e Revogação\n",
        "#import dodfSkweak_Anul_Revog_1\n",
        "#skw = dodfSkweak_Anul_Revog_1.SkweakAnulRevog(df)\n",
        "\n",
        "#Para rodar extrato de contrato\n",
        "import dodfSkweak_Contrato\n",
        "skw = dodfSkweak_Contrato.SkweakContratos(df)\n",
        "\n",
        "#Para rodar Convenio\n",
        "#import dodfSkweak_Convenio\n",
        "#skw = dodfSkweak_Convenio.SkweakConvenio(df)\n",
        "\n",
        "skw.apply_label_functions()\n",
        "skw.train_HMM_Dodf()"
      ]
    },
    {
      "cell_type": "code",
      "execution_count": null,
      "metadata": {},
      "outputs": [],
      "source": [
        "#List os tokens\n",
        "#skw.list_spans_all()\n",
        "skw.list_spans_specific(1)"
      ]
    },
    {
      "cell_type": "code",
      "execution_count": null,
      "metadata": {},
      "outputs": [],
      "source": [
        "#Imprimi o Dataset gerado pela supervisão \n",
        "data_label=skw.get_hmm_dataframe()\n",
        "data_label\n",
        "# converting to CSV file\n",
        "#data_label.to_csv(\"./CSVs/V2/supervisao_fraca/CONVENIO.csv\")"
      ]
    },
    {
      "cell_type": "code",
      "execution_count": 19,
      "metadata": {},
      "outputs": [],
      "source": [
        "#Aplica o IOB com spacy tokenizer\n",
        "corpus = skw.get_IOB()\n",
        "#corpus"
      ]
    },
    {
      "cell_type": "code",
      "execution_count": 20,
      "metadata": {},
      "outputs": [],
      "source": [
        "#Separa Tokens e os labels\n",
        "termos_skweak = []\n",
        "debug=set()\n",
        "labels_skweak = []\n",
        "for ato in corpus:\n",
        "    x = []\n",
        "    y = []\n",
        "    for termo in ato:\n",
        "        termo_label = termo.split()\n",
        "        x.append(termo_label[0])\n",
        "        y.append(termo_label[1])\n",
        "        classes=debug.add(termo_label[1])\n",
        "    termos_skweak.append(x)\n",
        "    labels_skweak.append(y) "
      ]
    },
    {
      "cell_type": "code",
      "execution_count": 21,
      "metadata": {},
      "outputs": [
        {
          "data": {
            "text/plain": [
              "{'B-data_assinatura_contrato',\n",
              " 'B-natureza_despesa',\n",
              " 'B-nota_empenho',\n",
              " 'B-numero_contrato',\n",
              " 'B-processo_gdf',\n",
              " 'B-programa_trabalho',\n",
              " 'B-unidade_orcamentaria',\n",
              " 'B-valor_contrato',\n",
              " 'I-data_assinatura_contrato',\n",
              " 'I-natureza_despesa',\n",
              " 'I-nota_empenho',\n",
              " 'I-numero_contrato',\n",
              " 'I-processo_gdf',\n",
              " 'I-programa_trabalho',\n",
              " 'I-unidade_orcamentaria',\n",
              " 'O'}"
            ]
          },
          "execution_count": 21,
          "metadata": {},
          "output_type": "execute_result"
        }
      ],
      "source": [
        "debug"
      ]
    },
    {
      "cell_type": "code",
      "execution_count": 22,
      "metadata": {
        "id": "37jvHNfpjBuA"
      },
      "outputs": [],
      "source": [
        "max_length = 400"
      ]
    },
    {
      "attachments": {},
      "cell_type": "markdown",
      "metadata": {
        "id": "QT1bvQEraCHm"
      },
      "source": [
        "### Ajustes das labels e dicionários"
      ]
    },
    {
      "cell_type": "code",
      "execution_count": 23,
      "metadata": {
        "id": "Hpss6yIoal1L"
      },
      "outputs": [],
      "source": [
        "def remove_wrong_tags(label_list):\n",
        "  for label in label_list:\n",
        "    for idx,w in enumerate(label):\n",
        "      if w in ['B-11','B-12','B-50', 'B-60', 'I-2']:\n",
        "        label[idx] = 'O'"
      ]
    },
    {
      "cell_type": "code",
      "execution_count": 24,
      "metadata": {},
      "outputs": [],
      "source": [
        "remove_wrong_tags(labels_skweak)"
      ]
    },
    {
      "attachments": {},
      "cell_type": "markdown",
      "metadata": {},
      "source": [
        "### Transformação dos dados de Treino"
      ]
    },
    {
      "cell_type": "code",
      "execution_count": 25,
      "metadata": {
        "id": "D6ZO2gIjcaUq"
      },
      "outputs": [],
      "source": [
        "words = set()\n",
        "\n",
        "for act in termos_skweak:\n",
        "    for word in act:\n",
        "        words.add(word)\n",
        "#convertendo o set em uma lista\n",
        "words = list(words)\n",
        "\n",
        "words.append(\"ENDPAD\")\n",
        "words.append(\"UNK\")\n",
        "\n",
        "words_amt = len(words)"
      ]
    },
    {
      "cell_type": "code",
      "execution_count": 26,
      "metadata": {
        "id": "EhTG_ChofhKx"
      },
      "outputs": [],
      "source": [
        "tags = set()\n",
        "\n",
        "for label in labels_skweak:\n",
        "    for tag in label:\n",
        "        tags.add(tag)\n",
        "tags = list(tags)\n",
        "tags_amt = len(tags)"
      ]
    },
    {
      "cell_type": "code",
      "execution_count": 27,
      "metadata": {
        "id": "Kcj8wAE6gqZM"
      },
      "outputs": [],
      "source": [
        "lab_enc = LabelEncoder()\n",
        "\n",
        "lab_enc.fit(words)\n",
        "words_i = dict(zip(lab_enc.classes_, lab_enc.transform(lab_enc.classes_)))\n",
        "\n",
        "i_words = {}\n",
        "\n",
        "for key in words_i:\n",
        "  i_words[words_i[key]] = key"
      ]
    },
    {
      "cell_type": "code",
      "execution_count": 28,
      "metadata": {
        "id": "PRkZ7eiphH5v"
      },
      "outputs": [],
      "source": [
        "lab_enc = LabelEncoder()\n",
        "\n",
        "lab_enc.fit(tags)\n",
        "tags_i = dict(zip(lab_enc.classes_, lab_enc.transform(lab_enc.classes_)))\n",
        "\n",
        "i_tags = {}\n",
        "\n",
        "for key in tags_i:\n",
        "  i_tags[tags_i[key]] = key"
      ]
    },
    {
      "cell_type": "code",
      "execution_count": 29,
      "metadata": {},
      "outputs": [],
      "source": [
        "def transform_data(x,y):\n",
        "    X,Y = [],[]\n",
        "\n",
        "    for act in x:\n",
        "        aux = []\n",
        "        for word in act:\n",
        "            aux.append(words_i[word])\n",
        "        X.append(aux)\n",
        "\n",
        "    for label in y:\n",
        "        aux = []\n",
        "        for word in label:\n",
        "            aux.append(tags_i[word])\n",
        "        Y.append(aux)\n",
        "\n",
        "    return X,Y"
      ]
    },
    {
      "cell_type": "code",
      "execution_count": 30,
      "metadata": {},
      "outputs": [],
      "source": [
        "inputs, targets = transform_data(termos_skweak,labels_skweak)"
      ]
    },
    {
      "cell_type": "code",
      "execution_count": 31,
      "metadata": {},
      "outputs": [],
      "source": [
        "inputs = pad_sequences(maxlen=max_length, sequences=inputs, padding=\"post\", value=words_i['ENDPAD'])\n",
        "targets = pad_sequences(maxlen=max_length, sequences=targets, padding=\"post\", value=tags_i[\"O\"])"
      ]
    },
    {
      "attachments": {},
      "cell_type": "markdown",
      "metadata": {
        "id": "8ZS0Whbtkuc7"
      },
      "source": [
        "### Funções auxiliares"
      ]
    },
    {
      "cell_type": "code",
      "execution_count": 32,
      "metadata": {
        "id": "9GdbjRdJjdOJ"
      },
      "outputs": [],
      "source": [
        "def convert_values(index_array,y_test):\n",
        "  pred_tags = []\n",
        "  real_tags = []\n",
        "\n",
        "  for act in index_array:\n",
        "    act_tags = []\n",
        "    for w in act:\n",
        "      act_tags.append(i_tags[w])\n",
        "    pred_tags.append(act_tags)\n",
        "\n",
        "  for ato in y_test:\n",
        "    tags_ato = []\n",
        "    for palavra in ato:\n",
        "      tags_ato.append(i_tags[palavra])\n",
        "    real_tags.append(tags_ato)\n",
        "\n",
        "  return real_tags, pred_tags"
      ]
    },
    {
      "attachments": {},
      "cell_type": "markdown",
      "metadata": {},
      "source": [
        "# K-fold"
      ]
    },
    {
      "cell_type": "code",
      "execution_count": 33,
      "metadata": {},
      "outputs": [],
      "source": [
        "from sklearn.model_selection import KFold\n",
        "kfold = KFold(n_splits=5, shuffle=True, random_state = 42)"
      ]
    },
    {
      "attachments": {},
      "cell_type": "markdown",
      "metadata": {
        "id": "6u6YTfgrqRSi"
      },
      "source": [
        "### CNN-BiLSTM"
      ]
    },
    {
      "cell_type": "code",
      "execution_count": 36,
      "metadata": {},
      "outputs": [
        {
          "data": {
            "text/plain": [
              "'\\n#Extrato de Convenio\\ncnnbilstm_lr = 0.003\\ncnnbilstm_units = 340\\ncnnbatch_size = 12\\ncnnepochs = 50\\n\\n\\n#Aviso de Licitação\\ncnnbilstm_lr = 0.0055\\ncnnbilstm_units = 140\\ncnnbatch_size = 5\\ncnnepochs = 50\\n\\n\\n#Suspensão\\ncnnbilstm_lr = 0.0065\\ncnnbilstm_units = 200\\ncnnbatch_size = 5\\ncnnepochs = 50 \\n\\n\\n\\n#Extrato de Contrato\\ncnnbilstm_lr = 0.003\\ncnnbilstm_units = 340\\ncnnbatch_size = 12\\ncnnepochs = 50\\n\\n\\n#Aditamento Contratual\\ncnnbilstm_lr = 0.001\\ncnnbilstm_units = 180\\ncnnbatch_size = 12\\ncnnepochs = 50\\n\\n\\n\\n\\n#Extrato de Convenio\\ncnnbilstm_lr = 0.003\\ncnnbilstm_units = 340\\ncnnbatch_size = 12\\ncnnepochs = 20\\n\\n#Extrato de Contrato\\ncnnbilstm_lr = 0.003\\ncnnbilstm_units = 340\\ncnnbatch_size = 12\\ncnnepochs = 20\\n\\n\\n#Revogação\\ncnnbilstm_lr = 0.008\\ncnnbilstm_units = 105\\ncnnbatch_size = 5\\ncnnepochs = 50\\n'"
            ]
          },
          "execution_count": 36,
          "metadata": {},
          "output_type": "execute_result"
        }
      ],
      "source": [
        "\n",
        "#Extrato de Contrato\n",
        "cnnbilstm_lr = 0.003\n",
        "cnnbilstm_units = 340\n",
        "cnnbatch_size = 12\n",
        "cnnepochs = 50\n",
        "\n",
        "'''\n",
        "#Extrato de Convenio\n",
        "cnnbilstm_lr = 0.003\n",
        "cnnbilstm_units = 340\n",
        "cnnbatch_size = 12\n",
        "cnnepochs = 50\n",
        "\n",
        "\n",
        "#Aviso de Licitação\n",
        "cnnbilstm_lr = 0.0055\n",
        "cnnbilstm_units = 140\n",
        "cnnbatch_size = 5\n",
        "cnnepochs = 50\n",
        "\n",
        "\n",
        "#Suspensão\n",
        "cnnbilstm_lr = 0.0065\n",
        "cnnbilstm_units = 200\n",
        "cnnbatch_size = 5\n",
        "cnnepochs = 50 \n",
        "\n",
        "\n",
        "\n",
        "#Extrato de Contrato\n",
        "cnnbilstm_lr = 0.003\n",
        "cnnbilstm_units = 340\n",
        "cnnbatch_size = 12\n",
        "cnnepochs = 50\n",
        "\n",
        "\n",
        "#Aditamento Contratual\n",
        "cnnbilstm_lr = 0.001\n",
        "cnnbilstm_units = 180\n",
        "cnnbatch_size = 12\n",
        "cnnepochs = 50\n",
        "\n",
        "\n",
        "\n",
        "\n",
        "#Extrato de Convenio\n",
        "cnnbilstm_lr = 0.003\n",
        "cnnbilstm_units = 340\n",
        "cnnbatch_size = 12\n",
        "cnnepochs = 20\n",
        "\n",
        "#Extrato de Contrato\n",
        "cnnbilstm_lr = 0.003\n",
        "cnnbilstm_units = 340\n",
        "cnnbatch_size = 12\n",
        "cnnepochs = 20\n",
        "\n",
        "\n",
        "#Revogação\n",
        "cnnbilstm_lr = 0.008\n",
        "cnnbilstm_units = 105\n",
        "cnnbatch_size = 5\n",
        "cnnepochs = 50\n",
        "'''"
      ]
    },
    {
      "cell_type": "code",
      "execution_count": 34,
      "metadata": {},
      "outputs": [
        {
          "data": {
            "text/plain": [
              "'EXTRATO_CONTRATO'"
            ]
          },
          "execution_count": 34,
          "metadata": {},
          "output_type": "execute_result"
        }
      ],
      "source": [
        "act_name='EXTRATO_CONTRATO'\n",
        "act_name"
      ]
    },
    {
      "cell_type": "code",
      "execution_count": 37,
      "metadata": {
        "colab": {
          "base_uri": "https://localhost:8080/"
        },
        "id": "NgJi4xoHrMCx",
        "outputId": "d268de3f-d90b-4910-f9cf-cab9adb2f45a"
      },
      "outputs": [
        {
          "name": "stdout",
          "output_type": "stream",
          "text": [
            "Epoch 1/50\n",
            "116/116 [==============================] - 912s 8s/step - loss: 0.1633 - accuracy: 0.9672\n",
            "Epoch 2/50\n",
            "116/116 [==============================] - 442s 4s/step - loss: 0.0457 - accuracy: 0.9881\n",
            "Epoch 3/50\n",
            "116/116 [==============================] - 443s 4s/step - loss: 0.0181 - accuracy: 0.9954\n",
            "Epoch 4/50\n",
            "116/116 [==============================] - 452s 4s/step - loss: 0.0098 - accuracy: 0.9975\n",
            "Epoch 5/50\n",
            "116/116 [==============================] - 462s 4s/step - loss: 0.0060 - accuracy: 0.9984\n",
            "Epoch 6/50\n",
            "116/116 [==============================] - 488s 4s/step - loss: 0.0042 - accuracy: 0.9988\n",
            "Epoch 7/50\n",
            "116/116 [==============================] - 499s 4s/step - loss: 0.0029 - accuracy: 0.9992\n",
            "Epoch 8/50\n",
            "116/116 [==============================] - 488s 4s/step - loss: 0.0024 - accuracy: 0.9993\n",
            "Epoch 9/50\n",
            "116/116 [==============================] - 332s 3s/step - loss: 0.0022 - accuracy: 0.9994\n",
            "Epoch 10/50\n",
            "116/116 [==============================] - 303s 3s/step - loss: 0.0019 - accuracy: 0.9995\n",
            "Epoch 11/50\n",
            "116/116 [==============================] - 320s 3s/step - loss: 0.0016 - accuracy: 0.9995\n",
            "Epoch 12/50\n",
            "116/116 [==============================] - 332s 3s/step - loss: 0.0014 - accuracy: 0.9996\n",
            "Epoch 13/50\n",
            "116/116 [==============================] - 331s 3s/step - loss: 0.0016 - accuracy: 0.9995\n",
            "Epoch 14/50\n",
            "116/116 [==============================] - 331s 3s/step - loss: 0.0014 - accuracy: 0.9996\n",
            "Epoch 15/50\n",
            "116/116 [==============================] - 326s 3s/step - loss: 0.0012 - accuracy: 0.9997\n",
            "Epoch 16/50\n",
            "116/116 [==============================] - 327s 3s/step - loss: 0.0012 - accuracy: 0.9996\n",
            "Epoch 17/50\n",
            "116/116 [==============================] - 324s 3s/step - loss: 0.0012 - accuracy: 0.9996\n",
            "Epoch 18/50\n",
            "116/116 [==============================] - 312s 3s/step - loss: 9.3153e-04 - accuracy: 0.9997\n",
            "Epoch 19/50\n",
            "116/116 [==============================] - 327s 3s/step - loss: 9.2977e-04 - accuracy: 0.9997\n",
            "Epoch 20/50\n",
            "116/116 [==============================] - 336s 3s/step - loss: 0.0011 - accuracy: 0.9997\n",
            "Epoch 21/50\n",
            "116/116 [==============================] - 334s 3s/step - loss: 7.5793e-04 - accuracy: 0.9998\n",
            "Epoch 22/50\n",
            "116/116 [==============================] - 331s 3s/step - loss: 8.4224e-04 - accuracy: 0.9998\n",
            "Epoch 23/50\n",
            "116/116 [==============================] - 333s 3s/step - loss: 8.3060e-04 - accuracy: 0.9997\n",
            "Epoch 24/50\n",
            "116/116 [==============================] - 313s 3s/step - loss: 8.0501e-04 - accuracy: 0.9997\n",
            "Epoch 25/50\n",
            "116/116 [==============================] - 268s 2s/step - loss: 8.9645e-04 - accuracy: 0.9997\n",
            "Epoch 26/50\n",
            "116/116 [==============================] - 296s 3s/step - loss: 6.9241e-04 - accuracy: 0.9998\n",
            "Epoch 27/50\n",
            "116/116 [==============================] - 273s 2s/step - loss: 4.8477e-04 - accuracy: 0.9999\n",
            "Epoch 28/50\n",
            "116/116 [==============================] - 274s 2s/step - loss: 8.0988e-04 - accuracy: 0.9998\n",
            "Epoch 29/50\n",
            "116/116 [==============================] - 291s 3s/step - loss: 8.6644e-04 - accuracy: 0.9997\n",
            "Epoch 30/50\n",
            "116/116 [==============================] - 276s 2s/step - loss: 5.4299e-04 - accuracy: 0.9998\n",
            "Epoch 31/50\n",
            "116/116 [==============================] - 1325s 11s/step - loss: 6.3838e-04 - accuracy: 0.9998\n",
            "Epoch 32/50\n",
            "116/116 [==============================] - 352s 3s/step - loss: 6.5882e-04 - accuracy: 0.9998\n",
            "Epoch 33/50\n",
            "116/116 [==============================] - 341s 3s/step - loss: 5.1853e-04 - accuracy: 0.9998\n",
            "Epoch 34/50\n",
            "116/116 [==============================] - 340s 3s/step - loss: 5.7542e-04 - accuracy: 0.9998\n",
            "Epoch 35/50\n",
            "116/116 [==============================] - 336s 3s/step - loss: 5.8569e-04 - accuracy: 0.9998\n",
            "Epoch 36/50\n",
            "116/116 [==============================] - 336s 3s/step - loss: 0.0010 - accuracy: 0.9997\n",
            "Epoch 37/50\n",
            "116/116 [==============================] - 325s 3s/step - loss: 0.0010 - accuracy: 0.9997\n",
            "Epoch 38/50\n",
            "116/116 [==============================] - 493s 4s/step - loss: 5.8067e-04 - accuracy: 0.9998\n",
            "Epoch 39/50\n",
            "116/116 [==============================] - 325s 3s/step - loss: 4.4707e-04 - accuracy: 0.9999\n",
            "Epoch 40/50\n",
            "116/116 [==============================] - 542s 5s/step - loss: 3.3592e-04 - accuracy: 0.9999\n",
            "Epoch 41/50\n",
            "116/116 [==============================] - 332s 3s/step - loss: 3.7841e-04 - accuracy: 0.9999\n",
            "Epoch 42/50\n",
            "116/116 [==============================] - 314s 3s/step - loss: 4.0186e-04 - accuracy: 0.9999\n",
            "Epoch 43/50\n",
            "116/116 [==============================] - 282s 2s/step - loss: 3.2906e-04 - accuracy: 0.9999\n",
            "Epoch 44/50\n",
            "116/116 [==============================] - 282s 2s/step - loss: 4.2480e-04 - accuracy: 0.9999\n",
            "Epoch 45/50\n",
            "116/116 [==============================] - 279s 2s/step - loss: 2.6831e-04 - accuracy: 0.9999\n",
            "Epoch 46/50\n",
            "116/116 [==============================] - 277s 2s/step - loss: 6.0656e-04 - accuracy: 0.9998\n",
            "Epoch 47/50\n",
            "116/116 [==============================] - 279s 2s/step - loss: 6.7372e-04 - accuracy: 0.9998\n",
            "Epoch 48/50\n",
            "116/116 [==============================] - 279s 2s/step - loss: 6.1065e-04 - accuracy: 0.9998\n",
            "Epoch 49/50\n",
            "116/116 [==============================] - 282s 2s/step - loss: 3.4110e-04 - accuracy: 0.9999\n",
            "Epoch 50/50\n",
            "116/116 [==============================] - 278s 2s/step - loss: 5.0456e-04 - accuracy: 0.9998\n",
            "Epoch 1/50\n",
            "116/116 [==============================] - 289s 2s/step - loss: 0.1651 - accuracy: 0.9661\n",
            "Epoch 2/50\n",
            "116/116 [==============================] - 285s 2s/step - loss: 0.0483 - accuracy: 0.9876\n",
            "Epoch 3/50\n",
            "116/116 [==============================] - 308s 3s/step - loss: 0.0250 - accuracy: 0.9934\n",
            "Epoch 4/50\n",
            "116/116 [==============================] - 333s 3s/step - loss: 0.0156 - accuracy: 0.9957\n",
            "Epoch 5/50\n",
            "116/116 [==============================] - 332s 3s/step - loss: 0.0111 - accuracy: 0.9971\n",
            "Epoch 6/50\n",
            "116/116 [==============================] - 333s 3s/step - loss: 0.0072 - accuracy: 0.9981\n",
            "Epoch 7/50\n",
            "116/116 [==============================] - 330s 3s/step - loss: 0.0057 - accuracy: 0.9984\n",
            "Epoch 8/50\n",
            "116/116 [==============================] - 326s 3s/step - loss: 0.0045 - accuracy: 0.9988\n",
            "Epoch 9/50\n",
            "116/116 [==============================] - 326s 3s/step - loss: 0.0037 - accuracy: 0.9990\n",
            "Epoch 10/50\n",
            "116/116 [==============================] - 325s 3s/step - loss: 0.0033 - accuracy: 0.9991\n",
            "Epoch 11/50\n",
            "116/116 [==============================] - 326s 3s/step - loss: 0.0027 - accuracy: 0.9992\n",
            "Epoch 12/50\n",
            "116/116 [==============================] - 332s 3s/step - loss: 0.0025 - accuracy: 0.9993\n",
            "Epoch 13/50\n",
            "116/116 [==============================] - 329s 3s/step - loss: 0.0021 - accuracy: 0.9994\n",
            "Epoch 14/50\n",
            "116/116 [==============================] - 332s 3s/step - loss: 0.0026 - accuracy: 0.9992\n",
            "Epoch 15/50\n",
            "116/116 [==============================] - 331s 3s/step - loss: 0.0020 - accuracy: 0.9994\n",
            "Epoch 16/50\n",
            "116/116 [==============================] - 329s 3s/step - loss: 0.0016 - accuracy: 0.9995\n",
            "Epoch 17/50\n",
            "116/116 [==============================] - 341s 3s/step - loss: 0.0015 - accuracy: 0.9996\n",
            "Epoch 18/50\n",
            "116/116 [==============================] - 345s 3s/step - loss: 0.0014 - accuracy: 0.9996\n",
            "Epoch 19/50\n",
            "116/116 [==============================] - 335s 3s/step - loss: 0.0014 - accuracy: 0.9996\n",
            "Epoch 20/50\n",
            "116/116 [==============================] - 377s 3s/step - loss: 0.0014 - accuracy: 0.9996\n",
            "Epoch 21/50\n",
            "116/116 [==============================] - 308s 3s/step - loss: 0.0011 - accuracy: 0.9996\n",
            "Epoch 22/50\n",
            "116/116 [==============================] - 320s 3s/step - loss: 0.0010 - accuracy: 0.9997\n",
            "Epoch 23/50\n",
            "116/116 [==============================] - 324s 3s/step - loss: 0.0016 - accuracy: 0.9995\n",
            "Epoch 24/50\n",
            "116/116 [==============================] - 330s 3s/step - loss: 0.0014 - accuracy: 0.9996\n",
            "Epoch 25/50\n",
            "116/116 [==============================] - 340s 3s/step - loss: 0.0012 - accuracy: 0.9996\n",
            "Epoch 26/50\n",
            "116/116 [==============================] - 302s 3s/step - loss: 0.0012 - accuracy: 0.9997\n",
            "Epoch 27/50\n",
            "116/116 [==============================] - 293s 3s/step - loss: 9.7673e-04 - accuracy: 0.9997\n",
            "Epoch 28/50\n",
            "116/116 [==============================] - 330s 3s/step - loss: 0.0011 - accuracy: 0.9997\n",
            "Epoch 29/50\n",
            "116/116 [==============================] - 330s 3s/step - loss: 0.0012 - accuracy: 0.9996\n",
            "Epoch 30/50\n",
            "116/116 [==============================] - 338s 3s/step - loss: 0.0015 - accuracy: 0.9996\n",
            "Epoch 31/50\n",
            "116/116 [==============================] - 331s 3s/step - loss: 0.0012 - accuracy: 0.9996\n",
            "Epoch 32/50\n",
            "116/116 [==============================] - 2114s 18s/step - loss: 0.0010 - accuracy: 0.9997\n",
            "Epoch 33/50\n",
            "116/116 [==============================] - 345s 3s/step - loss: 8.9577e-04 - accuracy: 0.9997\n",
            "Epoch 34/50\n",
            "116/116 [==============================] - 2114s 18s/step - loss: 9.0632e-04 - accuracy: 0.9997\n",
            "Epoch 35/50\n",
            "116/116 [==============================] - 343s 3s/step - loss: 6.3590e-04 - accuracy: 0.9998\n",
            "Epoch 36/50\n",
            "116/116 [==============================] - 283s 2s/step - loss: 0.0013 - accuracy: 0.9996\n",
            "Epoch 37/50\n",
            "116/116 [==============================] - 671s 6s/step - loss: 7.7402e-04 - accuracy: 0.9997\n",
            "Epoch 38/50\n",
            "116/116 [==============================] - 320s 3s/step - loss: 6.5693e-04 - accuracy: 0.9998\n",
            "Epoch 39/50\n",
            "116/116 [==============================] - 322s 3s/step - loss: 6.4826e-04 - accuracy: 0.9998\n",
            "Epoch 40/50\n",
            "116/116 [==============================] - 322s 3s/step - loss: 4.8792e-04 - accuracy: 0.9999\n",
            "Epoch 41/50\n",
            "116/116 [==============================] - 322s 3s/step - loss: 4.8684e-04 - accuracy: 0.9999\n",
            "Epoch 42/50\n",
            "116/116 [==============================] - 327s 3s/step - loss: 5.1179e-04 - accuracy: 0.9998\n",
            "Epoch 43/50\n",
            "116/116 [==============================] - 323s 3s/step - loss: 6.4349e-04 - accuracy: 0.9998\n",
            "Epoch 44/50\n",
            "116/116 [==============================] - 325s 3s/step - loss: 6.0462e-04 - accuracy: 0.9998\n",
            "Epoch 45/50\n",
            "116/116 [==============================] - 326s 3s/step - loss: 6.6865e-04 - accuracy: 0.9998\n",
            "Epoch 46/50\n",
            "116/116 [==============================] - 327s 3s/step - loss: 5.6477e-04 - accuracy: 0.9998\n",
            "Epoch 47/50\n",
            "116/116 [==============================] - 326s 3s/step - loss: 5.7389e-04 - accuracy: 0.9998\n",
            "Epoch 48/50\n",
            "116/116 [==============================] - 328s 3s/step - loss: 7.5542e-04 - accuracy: 0.9998\n",
            "Epoch 49/50\n",
            "116/116 [==============================] - 326s 3s/step - loss: 6.5844e-04 - accuracy: 0.9998\n",
            "Epoch 50/50\n",
            "116/116 [==============================] - 330s 3s/step - loss: 5.6553e-04 - accuracy: 0.9998\n",
            "Epoch 1/50\n",
            "116/116 [==============================] - 335s 3s/step - loss: 0.1558 - accuracy: 0.9656\n",
            "Epoch 2/50\n",
            "116/116 [==============================] - 322s 3s/step - loss: 0.0253 - accuracy: 0.9936\n",
            "Epoch 3/50\n",
            "116/116 [==============================] - 324s 3s/step - loss: 0.0120 - accuracy: 0.9970\n",
            "Epoch 4/50\n",
            "116/116 [==============================] - 306s 3s/step - loss: 0.0079 - accuracy: 0.9980\n",
            "Epoch 5/50\n",
            "116/116 [==============================] - 299s 3s/step - loss: 0.0058 - accuracy: 0.9985\n",
            "Epoch 6/50\n",
            "116/116 [==============================] - 324s 3s/step - loss: 0.0045 - accuracy: 0.9988\n",
            "Epoch 7/50\n",
            "116/116 [==============================] - 12252s 107s/step - loss: 0.0036 - accuracy: 0.9990\n",
            "Epoch 8/50\n",
            "116/116 [==============================] - 284s 2s/step - loss: 0.0031 - accuracy: 0.9991\n",
            "Epoch 9/50\n",
            "116/116 [==============================] - 276s 2s/step - loss: 0.0027 - accuracy: 0.9992\n",
            "Epoch 10/50\n",
            "116/116 [==============================] - 2074s 18s/step - loss: 0.0023 - accuracy: 0.9993\n",
            "Epoch 11/50\n",
            "116/116 [==============================] - 281s 2s/step - loss: 0.0023 - accuracy: 0.9993\n",
            "Epoch 12/50\n",
            "116/116 [==============================] - 870s 8s/step - loss: 0.0019 - accuracy: 0.9994\n",
            "Epoch 13/50\n",
            "116/116 [==============================] - 275s 2s/step - loss: 0.0013 - accuracy: 0.9996\n",
            "Epoch 14/50\n",
            "116/116 [==============================] - 274s 2s/step - loss: 0.0013 - accuracy: 0.9996\n",
            "Epoch 15/50\n",
            "116/116 [==============================] - 272s 2s/step - loss: 0.0012 - accuracy: 0.9996\n",
            "Epoch 16/50\n",
            "116/116 [==============================] - 269s 2s/step - loss: 0.0012 - accuracy: 0.9996\n",
            "Epoch 17/50\n",
            "116/116 [==============================] - 271s 2s/step - loss: 0.0015 - accuracy: 0.9995\n",
            "Epoch 18/50\n",
            "116/116 [==============================] - 258s 2s/step - loss: 0.0011 - accuracy: 0.9997\n",
            "Epoch 19/50\n",
            "116/116 [==============================] - 1906s 17s/step - loss: 0.0010 - accuracy: 0.9997\n",
            "Epoch 20/50\n",
            "116/116 [==============================] - 340s 3s/step - loss: 8.6740e-04 - accuracy: 0.9997\n",
            "Epoch 21/50\n",
            "116/116 [==============================] - 344s 3s/step - loss: 9.9452e-04 - accuracy: 0.9997\n",
            "Epoch 22/50\n",
            "116/116 [==============================] - 313s 3s/step - loss: 0.0011 - accuracy: 0.9997\n",
            "Epoch 23/50\n",
            "116/116 [==============================] - 283s 2s/step - loss: 8.5819e-04 - accuracy: 0.9998\n",
            "Epoch 24/50\n",
            "116/116 [==============================] - 279s 2s/step - loss: 7.8202e-04 - accuracy: 0.9998\n",
            "Epoch 25/50\n",
            "116/116 [==============================] - 305s 3s/step - loss: 7.2692e-04 - accuracy: 0.9998\n",
            "Epoch 26/50\n",
            "116/116 [==============================] - 365s 3s/step - loss: 5.8142e-04 - accuracy: 0.9998\n",
            "Epoch 27/50\n",
            "116/116 [==============================] - 266s 2s/step - loss: 4.6280e-04 - accuracy: 0.9998\n",
            "Epoch 28/50\n",
            "116/116 [==============================] - 255s 2s/step - loss: 7.5336e-04 - accuracy: 0.9998\n",
            "Epoch 29/50\n",
            "116/116 [==============================] - 324s 3s/step - loss: 6.1111e-04 - accuracy: 0.9998\n",
            "Epoch 30/50\n",
            "116/116 [==============================] - 311s 3s/step - loss: 6.3925e-04 - accuracy: 0.9998\n",
            "Epoch 31/50\n",
            "116/116 [==============================] - 324s 3s/step - loss: 5.5889e-04 - accuracy: 0.9998\n",
            "Epoch 32/50\n",
            "116/116 [==============================] - 330s 3s/step - loss: 5.6028e-04 - accuracy: 0.9998\n",
            "Epoch 33/50\n",
            "116/116 [==============================] - 345s 3s/step - loss: 7.0491e-04 - accuracy: 0.9998\n",
            "Epoch 34/50\n",
            "116/116 [==============================] - 328s 3s/step - loss: 6.8493e-04 - accuracy: 0.9998\n",
            "Epoch 35/50\n",
            "116/116 [==============================] - 327s 3s/step - loss: 9.2076e-04 - accuracy: 0.9997\n",
            "Epoch 36/50\n",
            "116/116 [==============================] - 345s 3s/step - loss: 7.8554e-04 - accuracy: 0.9997\n",
            "Epoch 37/50\n",
            "116/116 [==============================] - 435s 4s/step - loss: 6.5400e-04 - accuracy: 0.9998\n",
            "Epoch 38/50\n",
            "116/116 [==============================] - 372s 3s/step - loss: 8.1669e-04 - accuracy: 0.9998\n",
            "Epoch 39/50\n",
            "116/116 [==============================] - 385s 3s/step - loss: 6.7927e-04 - accuracy: 0.9998\n",
            "Epoch 40/50\n",
            "116/116 [==============================] - 385s 3s/step - loss: 5.1532e-04 - accuracy: 0.9999\n",
            "Epoch 41/50\n",
            "116/116 [==============================] - 382s 3s/step - loss: 4.4772e-04 - accuracy: 0.9999\n",
            "Epoch 42/50\n",
            "116/116 [==============================] - 394s 3s/step - loss: 6.3535e-04 - accuracy: 0.9998\n",
            "Epoch 43/50\n",
            "116/116 [==============================] - 376s 3s/step - loss: 5.8188e-04 - accuracy: 0.9998\n",
            "Epoch 44/50\n",
            "116/116 [==============================] - 373s 3s/step - loss: 4.8215e-04 - accuracy: 0.9998\n",
            "Epoch 45/50\n",
            "116/116 [==============================] - 377s 3s/step - loss: 4.6277e-04 - accuracy: 0.9999\n",
            "Epoch 46/50\n",
            "116/116 [==============================] - 382s 3s/step - loss: 4.1545e-04 - accuracy: 0.9999\n",
            "Epoch 47/50\n",
            "116/116 [==============================] - 365s 3s/step - loss: 3.7908e-04 - accuracy: 0.9999\n",
            "Epoch 48/50\n",
            "116/116 [==============================] - 378s 3s/step - loss: 5.0974e-04 - accuracy: 0.9998\n",
            "Epoch 49/50\n",
            "116/116 [==============================] - 339s 3s/step - loss: 7.8061e-04 - accuracy: 0.9998\n",
            "Epoch 50/50\n",
            "116/116 [==============================] - 266s 2s/step - loss: 0.0011 - accuracy: 0.9997\n",
            "Epoch 1/50\n",
            "116/116 [==============================] - 2070s 18s/step - loss: 0.1509 - accuracy: 0.9699\n",
            "Epoch 2/50\n",
            "116/116 [==============================] - 271s 2s/step - loss: 0.0276 - accuracy: 0.9929\n",
            "Epoch 3/50\n",
            "116/116 [==============================] - 270s 2s/step - loss: 0.0167 - accuracy: 0.9958\n",
            "Epoch 4/50\n",
            "116/116 [==============================] - 272s 2s/step - loss: 0.0082 - accuracy: 0.9978\n",
            "Epoch 5/50\n",
            "116/116 [==============================] - 267s 2s/step - loss: 0.0054 - accuracy: 0.9985\n",
            "Epoch 6/50\n",
            "116/116 [==============================] - 288s 2s/step - loss: 0.0042 - accuracy: 0.9988\n",
            "Epoch 7/50\n",
            "116/116 [==============================] - 290s 2s/step - loss: 0.0032 - accuracy: 0.9991\n",
            "Epoch 8/50\n",
            "116/116 [==============================] - 2087s 18s/step - loss: 0.0029 - accuracy: 0.9992\n",
            "Epoch 9/50\n",
            "116/116 [==============================] - 295s 3s/step - loss: 0.0023 - accuracy: 0.9994\n",
            "Epoch 10/50\n",
            "116/116 [==============================] - 286s 2s/step - loss: 0.0021 - accuracy: 0.9994\n",
            "Epoch 11/50\n",
            "116/116 [==============================] - 1494s 13s/step - loss: 0.0021 - accuracy: 0.9994\n",
            "Epoch 12/50\n",
            "116/116 [==============================] - 294s 3s/step - loss: 0.0016 - accuracy: 0.9996\n",
            "Epoch 13/50\n",
            "116/116 [==============================] - 291s 3s/step - loss: 0.0019 - accuracy: 0.9994\n",
            "Epoch 14/50\n",
            "116/116 [==============================] - 292s 3s/step - loss: 0.0014 - accuracy: 0.9996\n",
            "Epoch 15/50\n",
            "116/116 [==============================] - 295s 3s/step - loss: 0.0013 - accuracy: 0.9996\n",
            "Epoch 16/50\n",
            "116/116 [==============================] - 291s 3s/step - loss: 0.0012 - accuracy: 0.9996\n",
            "Epoch 17/50\n",
            "116/116 [==============================] - 312s 3s/step - loss: 9.2379e-04 - accuracy: 0.9998\n",
            "Epoch 18/50\n",
            "116/116 [==============================] - 328s 3s/step - loss: 0.0011 - accuracy: 0.9997\n",
            "Epoch 19/50\n",
            "116/116 [==============================] - 334s 3s/step - loss: 0.0010 - accuracy: 0.9997\n",
            "Epoch 20/50\n",
            "116/116 [==============================] - 639s 6s/step - loss: 9.4535e-04 - accuracy: 0.9997\n",
            "Epoch 21/50\n",
            "116/116 [==============================] - 325s 3s/step - loss: 0.0011 - accuracy: 0.9997\n",
            "Epoch 22/50\n",
            "116/116 [==============================] - 562s 5s/step - loss: 8.9860e-04 - accuracy: 0.9997\n",
            "Epoch 23/50\n",
            "116/116 [==============================] - 307s 3s/step - loss: 0.0015 - accuracy: 0.9996\n",
            "Epoch 24/50\n",
            "116/116 [==============================] - 352s 3s/step - loss: 0.0011 - accuracy: 0.9997\n",
            "Epoch 25/50\n",
            "116/116 [==============================] - 313s 3s/step - loss: 0.0010 - accuracy: 0.9997\n",
            "Epoch 26/50\n",
            "116/116 [==============================] - 320s 3s/step - loss: 6.9018e-04 - accuracy: 0.9998\n",
            "Epoch 27/50\n",
            "116/116 [==============================] - 386s 3s/step - loss: 8.3502e-04 - accuracy: 0.9998\n",
            "Epoch 28/50\n",
            "116/116 [==============================] - 359s 3s/step - loss: 7.7540e-04 - accuracy: 0.9997\n",
            "Epoch 29/50\n",
            "116/116 [==============================] - 327s 3s/step - loss: 6.7579e-04 - accuracy: 0.9998\n",
            "Epoch 30/50\n",
            "116/116 [==============================] - 322s 3s/step - loss: 6.1988e-04 - accuracy: 0.9998\n",
            "Epoch 31/50\n",
            "116/116 [==============================] - 346s 3s/step - loss: 6.1281e-04 - accuracy: 0.9998\n",
            "Epoch 32/50\n",
            "116/116 [==============================] - 336s 3s/step - loss: 6.2584e-04 - accuracy: 0.9998\n",
            "Epoch 33/50\n",
            "116/116 [==============================] - 334s 3s/step - loss: 4.7411e-04 - accuracy: 0.9999\n",
            "Epoch 34/50\n",
            "116/116 [==============================] - 337s 3s/step - loss: 7.2153e-04 - accuracy: 0.9998\n",
            "Epoch 35/50\n",
            "116/116 [==============================] - 339s 3s/step - loss: 4.2800e-04 - accuracy: 0.9999\n",
            "Epoch 36/50\n",
            "116/116 [==============================] - 336s 3s/step - loss: 8.3044e-04 - accuracy: 0.9997\n",
            "Epoch 37/50\n",
            "116/116 [==============================] - 341s 3s/step - loss: 0.0010 - accuracy: 0.9997\n",
            "Epoch 38/50\n",
            "116/116 [==============================] - 344s 3s/step - loss: 6.4161e-04 - accuracy: 0.9998\n",
            "Epoch 39/50\n",
            "116/116 [==============================] - 339s 3s/step - loss: 7.0117e-04 - accuracy: 0.9998\n",
            "Epoch 40/50\n",
            "116/116 [==============================] - 343s 3s/step - loss: 5.4768e-04 - accuracy: 0.9998\n",
            "Epoch 41/50\n",
            "116/116 [==============================] - 344s 3s/step - loss: 5.4331e-04 - accuracy: 0.9998\n",
            "Epoch 42/50\n",
            "116/116 [==============================] - 345s 3s/step - loss: 5.7062e-04 - accuracy: 0.9998\n",
            "Epoch 43/50\n",
            "116/116 [==============================] - 344s 3s/step - loss: 7.1094e-04 - accuracy: 0.9998\n",
            "Epoch 44/50\n",
            "116/116 [==============================] - 340s 3s/step - loss: 5.4559e-04 - accuracy: 0.9998\n",
            "Epoch 45/50\n",
            "116/116 [==============================] - 341s 3s/step - loss: 3.8764e-04 - accuracy: 0.9999\n",
            "Epoch 46/50\n",
            "116/116 [==============================] - 344s 3s/step - loss: 4.4231e-04 - accuracy: 0.9999\n",
            "Epoch 47/50\n",
            "116/116 [==============================] - 344s 3s/step - loss: 4.5589e-04 - accuracy: 0.9999\n",
            "Epoch 48/50\n",
            "116/116 [==============================] - 352s 3s/step - loss: 4.7523e-04 - accuracy: 0.9999\n",
            "Epoch 49/50\n",
            "116/116 [==============================] - 320s 3s/step - loss: 7.4057e-04 - accuracy: 0.9998\n",
            "Epoch 50/50\n",
            "116/116 [==============================] - 316s 3s/step - loss: 8.1583e-04 - accuracy: 0.9998\n",
            "Epoch 1/50\n",
            "116/116 [==============================] - 331s 3s/step - loss: 0.1386 - accuracy: 0.9709\n",
            "Epoch 2/50\n",
            "116/116 [==============================] - 547s 5s/step - loss: 0.0272 - accuracy: 0.9928\n",
            "Epoch 3/50\n",
            "116/116 [==============================] - 528s 5s/step - loss: 0.0145 - accuracy: 0.9962\n",
            "Epoch 4/50\n",
            "116/116 [==============================] - 243s 2s/step - loss: 0.0091 - accuracy: 0.9975\n",
            "Epoch 5/50\n",
            "116/116 [==============================] - 236s 2s/step - loss: 0.0065 - accuracy: 0.9982\n",
            "Epoch 6/50\n",
            "116/116 [==============================] - 639s 6s/step - loss: 0.0050 - accuracy: 0.9986\n",
            "Epoch 7/50\n",
            "116/116 [==============================] - 244s 2s/step - loss: 0.0045 - accuracy: 0.9987\n",
            "Epoch 8/50\n",
            "116/116 [==============================] - 241s 2s/step - loss: 0.0030 - accuracy: 0.9992\n",
            "Epoch 9/50\n",
            "116/116 [==============================] - 237s 2s/step - loss: 0.0028 - accuracy: 0.9992\n",
            "Epoch 10/50\n",
            "116/116 [==============================] - 237s 2s/step - loss: 0.0022 - accuracy: 0.9994\n",
            "Epoch 11/50\n",
            "116/116 [==============================] - 237s 2s/step - loss: 0.0019 - accuracy: 0.9994\n",
            "Epoch 12/50\n",
            "116/116 [==============================] - 238s 2s/step - loss: 0.0018 - accuracy: 0.9995\n",
            "Epoch 13/50\n",
            "116/116 [==============================] - 381s 3s/step - loss: 0.0018 - accuracy: 0.9995\n",
            "Epoch 14/50\n",
            "116/116 [==============================] - 755s 7s/step - loss: 0.0012 - accuracy: 0.9997\n",
            "Epoch 15/50\n",
            "116/116 [==============================] - 277s 2s/step - loss: 0.0013 - accuracy: 0.9996\n",
            "Epoch 16/50\n",
            "116/116 [==============================] - 259s 2s/step - loss: 0.0013 - accuracy: 0.9996\n",
            "Epoch 17/50\n",
            "116/116 [==============================] - 283s 2s/step - loss: 0.0012 - accuracy: 0.9997\n",
            "Epoch 18/50\n",
            "116/116 [==============================] - 244s 2s/step - loss: 0.0010 - accuracy: 0.9997\n",
            "Epoch 19/50\n",
            "116/116 [==============================] - 225s 2s/step - loss: 0.0011 - accuracy: 0.9997\n",
            "Epoch 20/50\n",
            "116/116 [==============================] - 240s 2s/step - loss: 0.0012 - accuracy: 0.9996\n",
            "Epoch 21/50\n",
            "116/116 [==============================] - 256s 2s/step - loss: 0.0011 - accuracy: 0.9997\n",
            "Epoch 22/50\n",
            "116/116 [==============================] - 266s 2s/step - loss: 8.3788e-04 - accuracy: 0.9998\n",
            "Epoch 23/50\n",
            "116/116 [==============================] - 252s 2s/step - loss: 9.7372e-04 - accuracy: 0.9997\n",
            "Epoch 24/50\n",
            "116/116 [==============================] - 274s 2s/step - loss: 8.5093e-04 - accuracy: 0.9997\n",
            "Epoch 25/50\n",
            "116/116 [==============================] - 273s 2s/step - loss: 8.3866e-04 - accuracy: 0.9998\n",
            "Epoch 26/50\n",
            "116/116 [==============================] - 279s 2s/step - loss: 8.9367e-04 - accuracy: 0.9997\n",
            "Epoch 27/50\n",
            "116/116 [==============================] - 262s 2s/step - loss: 9.5691e-04 - accuracy: 0.9997\n",
            "Epoch 28/50\n",
            "116/116 [==============================] - 255s 2s/step - loss: 0.0011 - accuracy: 0.9996\n",
            "Epoch 29/50\n",
            "116/116 [==============================] - 289s 2s/step - loss: 7.3259e-04 - accuracy: 0.9998\n",
            "Epoch 30/50\n",
            "116/116 [==============================] - 250s 2s/step - loss: 7.4873e-04 - accuracy: 0.9998\n",
            "Epoch 31/50\n",
            "116/116 [==============================] - 259s 2s/step - loss: 5.6069e-04 - accuracy: 0.9998\n",
            "Epoch 32/50\n",
            "116/116 [==============================] - 284s 2s/step - loss: 6.9489e-04 - accuracy: 0.9998\n",
            "Epoch 33/50\n",
            "116/116 [==============================] - 240s 2s/step - loss: 7.5832e-04 - accuracy: 0.9998\n",
            "Epoch 34/50\n",
            "116/116 [==============================] - 264s 2s/step - loss: 6.2083e-04 - accuracy: 0.9998\n",
            "Epoch 35/50\n",
            "116/116 [==============================] - 263s 2s/step - loss: 6.8543e-04 - accuracy: 0.9998\n",
            "Epoch 36/50\n",
            "116/116 [==============================] - 275s 2s/step - loss: 4.7942e-04 - accuracy: 0.9999\n",
            "Epoch 37/50\n",
            "116/116 [==============================] - 256s 2s/step - loss: 5.2955e-04 - accuracy: 0.9999\n",
            "Epoch 38/50\n",
            "116/116 [==============================] - 259s 2s/step - loss: 6.6625e-04 - accuracy: 0.9998\n",
            "Epoch 39/50\n",
            "116/116 [==============================] - 251s 2s/step - loss: 8.4480e-04 - accuracy: 0.9997\n",
            "Epoch 40/50\n",
            "116/116 [==============================] - 225s 2s/step - loss: 6.7647e-04 - accuracy: 0.9998\n",
            "Epoch 41/50\n",
            "116/116 [==============================] - 505s 4s/step - loss: 7.3066e-04 - accuracy: 0.9998\n",
            "Epoch 42/50\n",
            "116/116 [==============================] - 240s 2s/step - loss: 5.6604e-04 - accuracy: 0.9998\n",
            "Epoch 43/50\n",
            "116/116 [==============================] - 231s 2s/step - loss: 4.4679e-04 - accuracy: 0.9999\n",
            "Epoch 44/50\n",
            "116/116 [==============================] - 238s 2s/step - loss: 5.3812e-04 - accuracy: 0.9998\n",
            "Epoch 45/50\n",
            "116/116 [==============================] - 231s 2s/step - loss: 4.6009e-04 - accuracy: 0.9999\n",
            "Epoch 46/50\n",
            "116/116 [==============================] - 234s 2s/step - loss: 4.4711e-04 - accuracy: 0.9999\n",
            "Epoch 47/50\n",
            "116/116 [==============================] - 229s 2s/step - loss: 6.9237e-04 - accuracy: 0.9998\n",
            "Epoch 48/50\n",
            "116/116 [==============================] - 252s 2s/step - loss: 7.1708e-04 - accuracy: 0.9998\n",
            "Epoch 49/50\n",
            "116/116 [==============================] - 245s 2s/step - loss: 0.0011 - accuracy: 0.9997\n",
            "Epoch 50/50\n",
            "116/116 [==============================] - 237s 2s/step - loss: 6.2810e-04 - accuracy: 0.9998\n"
          ]
        }
      ],
      "source": [
        "#import os, pickle\n",
        "from tensorflow.keras.layers import BatchNormalization, Dropout, Conv1D, MaxPooling1D, Embedding, TimeDistributed, Bidirectional,GlobalMaxPooling1D\n",
        "\n",
        "acc_3 = []\n",
        "loss_3 = []\n",
        "f1_3 = []\n",
        "reports_3 = []\n",
        "fold = 0\n",
        "\n",
        "for train, test in kfold.split(inputs, targets):\n",
        " \n",
        "  x_train = inputs[train]\n",
        "  x_test = inputs[test]\n",
        "  y_train = targets[train]\n",
        "  y_test = targets[test]\n",
        "  \n",
        "  #x_test = test_splits[act_name][fold]['x']\n",
        "  #y_test = test_splits[act_name][fold]['y']\n",
        "          \n",
        "  cnn_bilstm = Sequential()\n",
        "  cnn_bilstm.add(Embedding(input_dim=words_amt, output_dim=50, input_length=max_length))\n",
        "  cnn_bilstm.add(Conv1D(filters=tags_amt, kernel_size=3, padding='same', activation='relu'))\n",
        "  cnn_bilstm.add(BatchNormalization())\n",
        "  cnn_bilstm.add(Dropout(0.5))\n",
        "  cnn_bilstm.add(Bidirectional(LSTM(cnnbilstm_units, return_sequences=True)))\n",
        "  cnn_bilstm.add(TimeDistributed(Dense(tags_amt, activation=\"softmax\")))\n",
        "\n",
        "  adam = Adam(learning_rate=cnnbilstm_lr)\n",
        "\n",
        "  cnn_bilstm.compile(optimizer=adam,loss=\"sparse_categorical_crossentropy\",metrics=[\"accuracy\"])\n",
        "\n",
        "  early_stopping = EarlyStopping(monitor='loss', mode='min', verbose=1, patience=5)\n",
        "  callbacks = [early_stopping]\n",
        "\n",
        "  history = cnn_bilstm.fit(x_train,y_train,batch_size=cnnbatch_size, epochs=cnnepochs)\n",
        "\n",
        "  scores = cnn_bilstm.evaluate(x_test,y_test,verbose=0)\n",
        "  acc_3.append(scores[1])\n",
        "  loss_3.append(scores[0])\n",
        "\n",
        "  predictions = cnn_bilstm.predict(x_test, verbose=0)\n",
        "  #y_pred = cnn_bilstm.predict(x_test, verbose=0)\n",
        " \n",
        "  predictions = np.argmax(predictions, axis=-1)\n",
        "  y_pred = np.argmax(predictions, axis=-1)\n",
        "  real_tags, pred_tags = convert_values(predictions,y_test)\n",
        "  \n",
        "\n",
        "  \n",
        "  f1_3.append(f1_score(real_tags, pred_tags))\n",
        "  reports_3.append(classification_report(real_tags, pred_tags))\n",
        "  \n",
        "  r = classification_report(real_tags,pred_tags, output_dict=True, mode='strict', scheme=IOB2)\n",
        "  \n",
        "  name =  act_name + '_f' + str(fold) +\".npy\"\n",
        "  np.save('./Results/V2/CISTI/27_06/WS_BILSTM/'+name, r)\n",
        "\n",
        "  fold = fold + 1\n",
        "  reports_3.append(r)"
      ]
    },
    {
      "cell_type": "code",
      "execution_count": 47,
      "metadata": {},
      "outputs": [],
      "source": [
        "#pred_tags\n"
      ]
    },
    {
      "cell_type": "code",
      "execution_count": 48,
      "metadata": {
        "colab": {
          "base_uri": "https://localhost:8080/"
        },
        "id": "QM1KApIvrw5k",
        "outputId": "ceac799a-f4dd-4ca4-81d9-6e9aba689974"
      },
      "outputs": [
        {
          "data": {
            "text/plain": [
              "0.0"
            ]
          },
          "execution_count": 48,
          "metadata": {},
          "output_type": "execute_result"
        }
      ],
      "source": [
        "f1_3[0]"
      ]
    },
    {
      "cell_type": "code",
      "execution_count": 41,
      "metadata": {
        "colab": {
          "base_uri": "https://localhost:8080/"
        },
        "id": "9x3Sp6dSrx37",
        "outputId": "fb92423a-3f13-4495-8838-11e6dba74119"
      },
      "outputs": [
        {
          "name": "stderr",
          "output_type": "stream",
          "text": [
            "/Users/lucelia/Documents/GitHub/experiments/members/lucelia/venv/lib/python3.9/site-packages/numpy/core/fromnumeric.py:3432: RuntimeWarning: Mean of empty slice.\n",
            "  return _methods._mean(a, axis=axis, dtype=dtype,\n",
            "/Users/lucelia/Documents/GitHub/experiments/members/lucelia/venv/lib/python3.9/site-packages/numpy/core/_methods.py:190: RuntimeWarning: invalid value encountered in double_scalars\n",
            "  ret = ret.dtype.type(ret / rcount)\n"
          ]
        },
        {
          "data": {
            "text/plain": [
              "nan"
            ]
          },
          "execution_count": 41,
          "metadata": {},
          "output_type": "execute_result"
        }
      ],
      "source": [
        "np.mean(f1_3)"
      ]
    },
    {
      "cell_type": "code",
      "execution_count": 50,
      "metadata": {
        "colab": {
          "base_uri": "https://localhost:8080/"
        },
        "id": "E0hX5KRKAAFa",
        "outputId": "7a7a4b79-0eda-41c2-94c1-a3c215815080"
      },
      "outputs": [
        {
          "data": {
            "text/plain": [
              "0.0"
            ]
          },
          "execution_count": 50,
          "metadata": {},
          "output_type": "execute_result"
        }
      ],
      "source": [
        "np.std(f1_3)"
      ]
    },
    {
      "cell_type": "code",
      "execution_count": 34,
      "metadata": {},
      "outputs": [
        {
          "data": {
            "text/plain": [
              "'ANUL_REV_LICITACAO'"
            ]
          },
          "execution_count": 34,
          "metadata": {},
          "output_type": "execute_result"
        }
      ],
      "source": [
        "act_name"
      ]
    },
    {
      "cell_type": "code",
      "execution_count": 99,
      "metadata": {
        "colab": {
          "base_uri": "https://localhost:8080/",
          "height": 35
        },
        "id": "lt7RSjdPLWTb",
        "outputId": "02ca80c3-085e-431e-a4ee-998d7e430072"
      },
      "outputs": [
        {
          "name": "stdout",
          "output_type": "stream",
          "text": [
            "                  precision    recall  f1-score   support\n",
            "\n",
            "numero_licitacao       1.00      0.54      0.70        13\n",
            "\n",
            "       micro avg       1.00      0.54      0.70        13\n",
            "       macro avg       1.00      0.54      0.70        13\n",
            "    weighted avg       1.00      0.54      0.70        13\n",
            "\n"
          ]
        }
      ],
      "source": [
        "print(reports_3[0])"
      ]
    }
  ],
  "metadata": {
    "accelerator": "GPU",
    "colab": {
      "collapsed_sections": [
        "QT1bvQEraCHm",
        "vnJCcepIfpfQ",
        "8ZS0Whbtkuc7"
      ],
      "provenance": []
    },
    "gpuClass": "standard",
    "kernelspec": {
      "display_name": "venv",
      "language": "python",
      "name": "python3"
    },
    "language_info": {
      "codemirror_mode": {
        "name": "ipython",
        "version": 3
      },
      "file_extension": ".py",
      "mimetype": "text/x-python",
      "name": "python",
      "nbconvert_exporter": "python",
      "pygments_lexer": "ipython3",
      "version": "3.9.7"
    },
    "vscode": {
      "interpreter": {
        "hash": "96baed6db0003f61f4a930eafeae8ace7abdbffdf58b8c787c6463efd11f449a"
      }
    }
  },
  "nbformat": 4,
  "nbformat_minor": 0
}
