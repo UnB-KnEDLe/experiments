{
 "cells": [
  {
   "cell_type": "code",
   "execution_count": 192,
   "metadata": {},
   "outputs": [],
   "source": [
    "import pandas as pd\n",
    "import nltk\n",
    "import scipy.stats\n",
    "import sklearn\n",
    "import numpy"
   ]
  },
  {
   "cell_type": "code",
   "execution_count": 593,
   "metadata": {},
   "outputs": [],
   "source": [
    "data = pd.read_csv('./CSVs/V2/DODFCorpus_contratos_licitacoes_v2.csv', dtype=str)"
   ]
  },
  {
   "cell_type": "code",
   "execution_count": 594,
   "metadata": {},
   "outputs": [],
   "source": [
    "#Insere um espaço entre as entidade e :\n",
    "import re\n",
    "def correct_space_before_numeric_entities(string):\n",
    "    result = re.sub(r'([A-Za-z]:)[0-9]', r'\\1 ', string)\n",
    "    result = result.replace(\"\\n\", \" \")\n",
    "    return result"
   ]
  },
  {
   "cell_type": "code",
   "execution_count": 595,
   "metadata": {},
   "outputs": [],
   "source": [
    "\n",
    "#Preprocessa o dataset para ajustar o casos de entidade e : sem espaço\n",
    "#df['a']=df['a'].map(func)\n",
    "#data['texto']= data['texto'].apply(result)\n",
    "data['texto']= data['texto'].map(correct_space_before_numeric_entities)\n"
   ]
  },
  {
   "cell_type": "code",
   "execution_count": 596,
   "metadata": {},
   "outputs": [],
   "source": [
    "data['id_ato'] = data['id_dodf'] + '-' + data['id_rel']\n",
    "#data"
   ]
  },
  {
   "cell_type": "code",
   "execution_count": 197,
   "metadata": {},
   "outputs": [
    {
     "name": "stdout",
     "output_type": "stream",
     "text": [
      "tipo_rel\n",
      "REL_EXTRATO_CONTRATO        1734\n",
      "REL_ADITAMENTO_CONTRATO     1551\n",
      "REL_AVISO_LICITACAO          639\n",
      "REL_SUSPENSAO_LICITACAO       82\n",
      "REL_ANUL_REVOG_LICITACAO      52\n",
      "REL_EXTRATO_CONVENIO          32\n",
      "Name: id_ato, dtype: int64\n"
     ]
    }
   ],
   "source": [
    "result = data.groupby('tipo_rel')['id_ato'].nunique()\n",
    "print(result.sort_values(ascending=False))"
   ]
  },
  {
   "cell_type": "code",
   "execution_count": 628,
   "metadata": {},
   "outputs": [],
   "source": [
    "#tipo_ato = data.loc[data['tipo_rel'] == 'REL_EXTRATO_CONVENIO'].reset_index(drop=True)\n",
    "tipo_ato = data.loc[data['tipo_rel'] == 'REL_EXTRATO_CONTRATO'].reset_index(drop=True) \n",
    "#tipo_ato.to_csv(\"./CSVs/V1/REL_AVISO_LICITACAO.csv\")\n",
    "#tipo_ato"
   ]
  },
  {
   "cell_type": "code",
   "execution_count": 629,
   "metadata": {},
   "outputs": [
    {
     "name": "stdout",
     "output_type": "stream",
     "text": [
      "tipo_ent\n",
      "EXTRATO_CONTRATO            1734\n",
      "cnpj_entidade_contratada     479\n",
      "cnpj_orgao_contratante       135\n",
      "codigo_siggo                 175\n",
      "data_assinatura_contrato    1286\n",
      "entidade_contratada         1721\n",
      "fonte_recurso               1317\n",
      "natureza_despesa            1068\n",
      "nome_responsavel             185\n",
      "nota_empenho                1214\n",
      "numero_contrato             1714\n",
      "objeto_contrato             1724\n",
      "orgao_contratante           1700\n",
      "processo_gdf                1721\n",
      "programa_trabalho           1280\n",
      "unidade_orcamentaria        1045\n",
      "valor_contrato              1566\n",
      "vigencia_contrato           1664\n",
      "Name: id_ato, dtype: int64\n"
     ]
    }
   ],
   "source": [
    "result = tipo_ato.groupby('tipo_ent')['id_ato'].nunique()\n",
    "print(result)\n",
    "#print(result.sort_values(ascending=False))"
   ]
  },
  {
   "cell_type": "code",
   "execution_count": 29,
   "metadata": {},
   "outputs": [],
   "source": [
    "#apenas para rodar o iob com spacy\n",
    "#cria um novo dataset com as 2000 primeiras linhas\n",
    "#tipo_ato = pd.read_csv(\"./CSVs/V1//REL_AVISO_LICITACAO.csv\", nrows=2000)"
   ]
  },
  {
   "cell_type": "code",
   "execution_count": 630,
   "metadata": {},
   "outputs": [],
   "source": [
    "#cria um novo dataset apenas com o tipo de entidade EXTATO_CONTRATO (TEXTO)\n",
    "tipo_ato1 = tipo_ato.loc[tipo_ato['tipo_ent'] == 'EXTRATO_CONTRATO'].reset_index(drop=True)\n",
    "#tipo_ato1\n"
   ]
  },
  {
   "cell_type": "code",
   "execution_count": 631,
   "metadata": {},
   "outputs": [],
   "source": [
    "#criando novo dataframe somente com os textos\n",
    "df = tipo_ato1['texto'].reset_index(drop=True)\n",
    "#df"
   ]
  },
  {
   "cell_type": "code",
   "execution_count": 32,
   "metadata": {},
   "outputs": [],
   "source": [
    "#df.to_csv(\"./CSVs/REL_SUSPENSAO_LICITACAO_COMPLETO_TEXTO_V1.csv\")"
   ]
  },
  {
   "cell_type": "code",
   "execution_count": 632,
   "metadata": {},
   "outputs": [],
   "source": [
    "# CODIGO RESPONSAVEL PELA LIMPEZA DO TEXTO DA BASE OURO\n",
    "import re\n",
    "\n",
    "df1 =[]\n",
    "\n",
    "for i in df:\n",
    "    i = i.replace(\"\\n\", \" \")\n",
    "    i = re.sub('xx[a-z]{1,10}', '', i)\n",
    "    #i = i.replace(r\"xx[a-z]{1,10}\",\"\")\n",
    "    aux = ' '.join(i.split())\n",
    "    #print(aux)\n",
    "    df1.append(aux)\n"
   ]
  },
  {
   "cell_type": "code",
   "execution_count": 34,
   "metadata": {},
   "outputs": [
    {
     "data": {
      "text/plain": [
       "24"
      ]
     },
     "execution_count": 34,
     "metadata": {},
     "output_type": "execute_result"
    }
   ],
   "source": [
    "len(df1)"
   ]
  },
  {
   "cell_type": "code",
   "execution_count": 35,
   "metadata": {},
   "outputs": [
    {
     "data": {
      "text/plain": [
       "\" ## Carrega o Teste para aplicação da LB direto\\ndf_sk = pd.read_csv('./CSVs/Extrato_Contrato_Split_4_x_test_texto.csv', dtype=str)\\ndf_sk \""
      ]
     },
     "execution_count": 35,
     "metadata": {},
     "output_type": "execute_result"
    }
   ],
   "source": [
    "\"\"\" ## Carrega o Teste para aplicação da LB direto\n",
    "df_sk = pd.read_csv('./CSVs/Extrato_Contrato_Split_4_x_test_texto.csv', dtype=str)\n",
    "df_sk \"\"\""
   ]
  },
  {
   "cell_type": "code",
   "execution_count": 36,
   "metadata": {},
   "outputs": [
    {
     "data": {
      "text/plain": [
       "\" #criando novo dataframe de test somente com os textos\\ndf_sk = df_sk['Texto'].reset_index(drop=True)\\ndf_sk \""
      ]
     },
     "execution_count": 36,
     "metadata": {},
     "output_type": "execute_result"
    }
   ],
   "source": [
    "\"\"\" #criando novo dataframe de test somente com os textos\n",
    "df_sk = df_sk['Texto'].reset_index(drop=True)\n",
    "df_sk \"\"\""
   ]
  },
  {
   "cell_type": "code",
   "execution_count": 635,
   "metadata": {},
   "outputs": [
    {
     "name": "stderr",
     "output_type": "stream",
     "text": [
      "/Users/lucelia/Documents/GitHub/experiments/members/lucelia/venv/lib/python3.9/site-packages/spacy/language.py:1895: UserWarning: [W123] Argument disable with value ['ner', 'lemmatizer'] is used instead of ['senter'] as specified in the config. Be aware that this might affect other components in your pipeline.\n",
      "  warnings.warn(\n"
     ]
    },
    {
     "name": "stdout",
     "output_type": "stream",
     "text": [
      "Starting iteration 1\n",
      "Number of processed documents: 1000\n",
      "Finished E-step with 1734 documents\n",
      "Starting iteration 2\n"
     ]
    },
    {
     "name": "stderr",
     "output_type": "stream",
     "text": [
      "         1      -90438.4914             +nan\n"
     ]
    },
    {
     "name": "stdout",
     "output_type": "stream",
     "text": [
      "Number of processed documents: 1000\n",
      "Finished E-step with 1734 documents\n",
      "Starting iteration 3\n"
     ]
    },
    {
     "name": "stderr",
     "output_type": "stream",
     "text": [
      "         2      -88696.5614       +1741.9300\n"
     ]
    },
    {
     "name": "stdout",
     "output_type": "stream",
     "text": [
      "Number of processed documents: 1000\n",
      "Finished E-step with 1734 documents\n",
      "Starting iteration 4\n"
     ]
    },
    {
     "name": "stderr",
     "output_type": "stream",
     "text": [
      "         3      -88603.0361         +93.5253\n"
     ]
    },
    {
     "name": "stdout",
     "output_type": "stream",
     "text": [
      "Number of processed documents: 1000\n",
      "Finished E-step with 1734 documents\n"
     ]
    },
    {
     "name": "stderr",
     "output_type": "stream",
     "text": [
      "         4      -88579.9800         +23.0561\n"
     ]
    },
    {
     "name": "stdout",
     "output_type": "stream",
     "text": [
      "Write to ./data/reuters_small.spacy...done\n"
     ]
    }
   ],
   "source": [
    "# CODIGO DE APLICACAO DA SUPERVISAO FRACA\n",
    "#Para rodar extrato de contrato\n",
    "import dodfSkweak_Contrato\n",
    "skw = dodfSkweak_Contrato.SkweakContratos(df1)\n",
    "\n",
    "#Para rodar aditamento de contrato \n",
    "#import dodfSkweak_Aditamento\n",
    "#skw = dodfSkweak_Aditamento.SkweakAditamento(df1)\n",
    "\n",
    "#Para rodar Aviso Licitação\n",
    "#import dodfSkweak_Aviso_Licitacao\n",
    "#skw = dodfSkweak_Aviso_Licitacao.SkweakAvisoLicitacao(df1)\n",
    "\n",
    "#Para rodar Suspensao \n",
    "#import dodfSkweak_Suspensao\n",
    "#skw = dodfSkweak_Suspensao.SkweakSuspensao(df1)\n",
    "\n",
    "#Para rodar Anulacao e Revogação\n",
    "#import dodfSkweak_Anul_Revog\n",
    "#skw = dodfSkweak_Anul_Revog.SkweakAnulRevog(df1)\n",
    "\n",
    "#Para rodar Convenio\n",
    "#import dodfSkweak_Convenio\n",
    "#skw = dodfSkweak_Convenio.SkweakConvenio(df1)\n",
    "\n",
    "skw.apply_label_functions()\n",
    "skw.train_HMM_Dodf()"
   ]
  },
  {
   "cell_type": "code",
   "execution_count": 352,
   "metadata": {},
   "outputs": [
    {
     "name": "stdout",
     "output_type": "stream",
     "text": [
      "[25/2018, 0050-00473/2016, 01 de novembro de 2018]\n"
     ]
    }
   ],
   "source": [
    "#skw.list_spans_all()\n",
    "skw.list_spans_specific(0)"
   ]
  },
  {
   "cell_type": "code",
   "execution_count": 636,
   "metadata": {},
   "outputs": [
    {
     "data": {
      "text/html": [
       "<div>\n",
       "<style scoped>\n",
       "    .dataframe tbody tr th:only-of-type {\n",
       "        vertical-align: middle;\n",
       "    }\n",
       "\n",
       "    .dataframe tbody tr th {\n",
       "        vertical-align: top;\n",
       "    }\n",
       "\n",
       "    .dataframe thead th {\n",
       "        text-align: right;\n",
       "    }\n",
       "</style>\n",
       "<table border=\"1\" class=\"dataframe\">\n",
       "  <thead>\n",
       "    <tr style=\"text-align: right;\">\n",
       "      <th></th>\n",
       "      <th>numero_contrato</th>\n",
       "      <th>processo_gdf</th>\n",
       "      <th>valor_contrato</th>\n",
       "      <th>unidade_orcamentaria</th>\n",
       "      <th>programa_trabalho</th>\n",
       "      <th>natureza_despesa</th>\n",
       "      <th>nota_empenho</th>\n",
       "      <th>data_assinatura_contrato</th>\n",
       "      <th>text</th>\n",
       "      <th>labels</th>\n",
       "      <th>PARTES</th>\n",
       "      <th>CONTRATANTE</th>\n",
       "      <th>CONTRATADA</th>\n",
       "      <th>OBJETO</th>\n",
       "      <th>VIGENCIA</th>\n",
       "    </tr>\n",
       "  </thead>\n",
       "  <tbody>\n",
       "    <tr>\n",
       "      <th>0</th>\n",
       "      <td>45/2018</td>\n",
       "      <td>00070-00016600/2018-76</td>\n",
       "      <td></td>\n",
       "      <td>14101</td>\n",
       "      <td>20.606.6207.2889.0003</td>\n",
       "      <td>449052</td>\n",
       "      <td>2018NE00464</td>\n",
       "      <td>21/11/2018</td>\n",
       "      <td>EXTRATO DO CONTRATO PARA AQUISICAO DE BENS No ...</td>\n",
       "      <td>O O O O O O O O B-numero_contrato O O B-proces...</td>\n",
       "      <td></td>\n",
       "      <td></td>\n",
       "      <td></td>\n",
       "      <td></td>\n",
       "      <td></td>\n",
       "    </tr>\n",
       "    <tr>\n",
       "      <th>1</th>\n",
       "      <td>47/2018</td>\n",
       "      <td>00070-00016822/2018-99</td>\n",
       "      <td>66.000,00</td>\n",
       "      <td>14101</td>\n",
       "      <td>20.606.6207.2889.0003</td>\n",
       "      <td>449052</td>\n",
       "      <td>2018NE00515</td>\n",
       "      <td>21/11/2018</td>\n",
       "      <td>EXTRATO DO CONTRATO PARA AQUISICAO DE BENS No ...</td>\n",
       "      <td>O O O O O O O O B-numero_contrato O O B-proces...</td>\n",
       "      <td></td>\n",
       "      <td></td>\n",
       "      <td></td>\n",
       "      <td></td>\n",
       "      <td></td>\n",
       "    </tr>\n",
       "    <tr>\n",
       "      <th>2</th>\n",
       "      <td>32/2018</td>\n",
       "      <td>00053-00055110/2018-85)</td>\n",
       "      <td></td>\n",
       "      <td>73901</td>\n",
       "      <td>28845090300NR0053</td>\n",
       "      <td>339030</td>\n",
       "      <td>645/2018 (13742441)</td>\n",
       "      <td>13/11/2018</td>\n",
       "      <td>EXTRATO DO CONTRATO No 32/2018 AQUISICAO DE BE...</td>\n",
       "      <td>O O O O B-numero_contrato O O O O B-processo_g...</td>\n",
       "      <td></td>\n",
       "      <td></td>\n",
       "      <td></td>\n",
       "      <td></td>\n",
       "      <td></td>\n",
       "    </tr>\n",
       "    <tr>\n",
       "      <th>3</th>\n",
       "      <td>9020</td>\n",
       "      <td>092.004402/2018</td>\n",
       "      <td>861.960,00</td>\n",
       "      <td>22.202</td>\n",
       "      <td>17.512.6210.7012.6024/44.90.51</td>\n",
       "      <td></td>\n",
       "      <td></td>\n",
       "      <td>20/11/2018</td>\n",
       "      <td>EXTRATO DE CONTRATO CONTRATO No 9020 . ASSINAT...</td>\n",
       "      <td>O O O O O B-numero_contrato O O O B-data_assin...</td>\n",
       "      <td></td>\n",
       "      <td></td>\n",
       "      <td></td>\n",
       "      <td></td>\n",
       "      <td></td>\n",
       "    </tr>\n",
       "    <tr>\n",
       "      <th>4</th>\n",
       "      <td>01/2018</td>\n",
       "      <td>00367-00001224/2018-26</td>\n",
       "      <td>49.620,00</td>\n",
       "      <td>59135</td>\n",
       "      <td>15.451.6207.5523.0003</td>\n",
       "      <td>449051</td>\n",
       "      <td>2018NE00107</td>\n",
       "      <td>16/10/2018</td>\n",
       "      <td>EXTRATO DO CONTRATO No 01/2018 , NOS TERMOS DO...</td>\n",
       "      <td>O O O O B-numero_contrato O O O O O O O O O O ...</td>\n",
       "      <td></td>\n",
       "      <td></td>\n",
       "      <td></td>\n",
       "      <td></td>\n",
       "      <td></td>\n",
       "    </tr>\n",
       "    <tr>\n",
       "      <th>...</th>\n",
       "      <td>...</td>\n",
       "      <td>...</td>\n",
       "      <td>...</td>\n",
       "      <td>...</td>\n",
       "      <td>...</td>\n",
       "      <td>...</td>\n",
       "      <td>...</td>\n",
       "      <td>...</td>\n",
       "      <td>...</td>\n",
       "      <td>...</td>\n",
       "      <td>...</td>\n",
       "      <td>...</td>\n",
       "      <td>...</td>\n",
       "      <td>...</td>\n",
       "      <td>...</td>\n",
       "    </tr>\n",
       "    <tr>\n",
       "      <th>1729</th>\n",
       "      <td>30/2022</td>\n",
       "      <td>00080-00247329/2021-87</td>\n",
       "      <td>1.796,00</td>\n",
       "      <td>18101</td>\n",
       "      <td>12.363.6221.2391.0001</td>\n",
       "      <td>4.4.90.52</td>\n",
       "      <td>2022NE01075</td>\n",
       "      <td>15/03/2022</td>\n",
       "      <td>EXTRATO DO CONTRATO PARA AQUISIÇÃO DE BENS Nº ...</td>\n",
       "      <td>O O O O O O O O B-numero_contrato O B-processo...</td>\n",
       "      <td></td>\n",
       "      <td></td>\n",
       "      <td></td>\n",
       "      <td></td>\n",
       "      <td></td>\n",
       "    </tr>\n",
       "    <tr>\n",
       "      <th>1730</th>\n",
       "      <td>22/2022</td>\n",
       "      <td>00080-00234240/2019-36</td>\n",
       "      <td>11.963.826,74</td>\n",
       "      <td>18101</td>\n",
       "      <td>12.368.6221.3982.0001</td>\n",
       "      <td>4.4.90.51</td>\n",
       "      <td>2022NE01302</td>\n",
       "      <td>17/03/2022</td>\n",
       "      <td>EXTRATO DO CONTRATO DE EXECUÇÃO DE OBRAS PARA ...</td>\n",
       "      <td>O O O O O O O O O O O O B-numero_contrato O B-...</td>\n",
       "      <td></td>\n",
       "      <td></td>\n",
       "      <td></td>\n",
       "      <td></td>\n",
       "      <td></td>\n",
       "    </tr>\n",
       "    <tr>\n",
       "      <th>1731</th>\n",
       "      <td>45.926/2022</td>\n",
       "      <td>00370-00002021/2021-11</td>\n",
       "      <td>47.948,95</td>\n",
       "      <td>20101</td>\n",
       "      <td>04122820785170062</td>\n",
       "      <td>339039</td>\n",
       "      <td>2022NE00039</td>\n",
       "      <td>15/03/2022</td>\n",
       "      <td>EXTRATO DO CONTRATO Nº 45.926/2022 Processo : ...</td>\n",
       "      <td>O O O O B-numero_contrato O O B-processo_gdf I...</td>\n",
       "      <td></td>\n",
       "      <td></td>\n",
       "      <td></td>\n",
       "      <td></td>\n",
       "      <td></td>\n",
       "    </tr>\n",
       "    <tr>\n",
       "      <th>1732</th>\n",
       "      <td>45832/2022</td>\n",
       "      <td>00431-00000747/2022-66</td>\n",
       "      <td>22.636,80</td>\n",
       "      <td>17.101</td>\n",
       "      <td>08.122.8228.8517.0139</td>\n",
       "      <td>33.90.30.04</td>\n",
       "      <td>2022NE00103</td>\n",
       "      <td>04/03/2022</td>\n",
       "      <td>EXTRATO DO CONTRATO Nº 45832/2022 Processo : 0...</td>\n",
       "      <td>O O O O B-numero_contrato O O B-processo_gdf I...</td>\n",
       "      <td></td>\n",
       "      <td></td>\n",
       "      <td></td>\n",
       "      <td></td>\n",
       "      <td></td>\n",
       "    </tr>\n",
       "    <tr>\n",
       "      <th>1733</th>\n",
       "      <td>45927/2022</td>\n",
       "      <td>00431-00024978/2021-84</td>\n",
       "      <td>547.811,64</td>\n",
       "      <td>17.101</td>\n",
       "      <td>08.244.6228.4232.0002</td>\n",
       "      <td>33.90.39.81</td>\n",
       "      <td>2022NE00130</td>\n",
       "      <td>11/03/2022</td>\n",
       "      <td>EXTRATO DO CONTRATO Nº 45927/2022 Processo : 0...</td>\n",
       "      <td>O O O O B-numero_contrato O O B-processo_gdf I...</td>\n",
       "      <td></td>\n",
       "      <td></td>\n",
       "      <td></td>\n",
       "      <td></td>\n",
       "      <td></td>\n",
       "    </tr>\n",
       "  </tbody>\n",
       "</table>\n",
       "<p>1734 rows × 15 columns</p>\n",
       "</div>"
      ],
      "text/plain": [
       "     numero_contrato             processo_gdf valor_contrato  \\\n",
       "0            45/2018   00070-00016600/2018-76                  \n",
       "1            47/2018   00070-00016822/2018-99      66.000,00   \n",
       "2            32/2018  00053-00055110/2018-85)                  \n",
       "3               9020          092.004402/2018     861.960,00   \n",
       "4            01/2018   00367-00001224/2018-26      49.620,00   \n",
       "...              ...                      ...            ...   \n",
       "1729         30/2022   00080-00247329/2021-87       1.796,00   \n",
       "1730         22/2022   00080-00234240/2019-36  11.963.826,74   \n",
       "1731     45.926/2022   00370-00002021/2021-11      47.948,95   \n",
       "1732      45832/2022   00431-00000747/2022-66      22.636,80   \n",
       "1733      45927/2022   00431-00024978/2021-84     547.811,64   \n",
       "\n",
       "     unidade_orcamentaria               programa_trabalho natureza_despesa  \\\n",
       "0                   14101           20.606.6207.2889.0003           449052   \n",
       "1                   14101           20.606.6207.2889.0003           449052   \n",
       "2                   73901               28845090300NR0053           339030   \n",
       "3                  22.202  17.512.6210.7012.6024/44.90.51                    \n",
       "4                   59135           15.451.6207.5523.0003           449051   \n",
       "...                   ...                             ...              ...   \n",
       "1729                18101           12.363.6221.2391.0001        4.4.90.52   \n",
       "1730                18101           12.368.6221.3982.0001        4.4.90.51   \n",
       "1731                20101               04122820785170062           339039   \n",
       "1732               17.101           08.122.8228.8517.0139      33.90.30.04   \n",
       "1733               17.101           08.244.6228.4232.0002      33.90.39.81   \n",
       "\n",
       "             nota_empenho data_assinatura_contrato  \\\n",
       "0             2018NE00464               21/11/2018   \n",
       "1             2018NE00515               21/11/2018   \n",
       "2     645/2018 (13742441)               13/11/2018   \n",
       "3                                       20/11/2018   \n",
       "4             2018NE00107               16/10/2018   \n",
       "...                   ...                      ...   \n",
       "1729          2022NE01075               15/03/2022   \n",
       "1730          2022NE01302               17/03/2022   \n",
       "1731          2022NE00039               15/03/2022   \n",
       "1732          2022NE00103               04/03/2022   \n",
       "1733          2022NE00130               11/03/2022   \n",
       "\n",
       "                                                   text  \\\n",
       "0     EXTRATO DO CONTRATO PARA AQUISICAO DE BENS No ...   \n",
       "1     EXTRATO DO CONTRATO PARA AQUISICAO DE BENS No ...   \n",
       "2     EXTRATO DO CONTRATO No 32/2018 AQUISICAO DE BE...   \n",
       "3     EXTRATO DE CONTRATO CONTRATO No 9020 . ASSINAT...   \n",
       "4     EXTRATO DO CONTRATO No 01/2018 , NOS TERMOS DO...   \n",
       "...                                                 ...   \n",
       "1729  EXTRATO DO CONTRATO PARA AQUISIÇÃO DE BENS Nº ...   \n",
       "1730  EXTRATO DO CONTRATO DE EXECUÇÃO DE OBRAS PARA ...   \n",
       "1731  EXTRATO DO CONTRATO Nº 45.926/2022 Processo : ...   \n",
       "1732  EXTRATO DO CONTRATO Nº 45832/2022 Processo : 0...   \n",
       "1733  EXTRATO DO CONTRATO Nº 45927/2022 Processo : 0...   \n",
       "\n",
       "                                                 labels PARTES CONTRATANTE  \\\n",
       "0     O O O O O O O O B-numero_contrato O O B-proces...                      \n",
       "1     O O O O O O O O B-numero_contrato O O B-proces...                      \n",
       "2     O O O O B-numero_contrato O O O O B-processo_g...                      \n",
       "3     O O O O O B-numero_contrato O O O B-data_assin...                      \n",
       "4     O O O O B-numero_contrato O O O O O O O O O O ...                      \n",
       "...                                                 ...    ...         ...   \n",
       "1729  O O O O O O O O B-numero_contrato O B-processo...                      \n",
       "1730  O O O O O O O O O O O O B-numero_contrato O B-...                      \n",
       "1731  O O O O B-numero_contrato O O B-processo_gdf I...                      \n",
       "1732  O O O O B-numero_contrato O O B-processo_gdf I...                      \n",
       "1733  O O O O B-numero_contrato O O B-processo_gdf I...                      \n",
       "\n",
       "     CONTRATADA OBJETO VIGENCIA  \n",
       "0                                \n",
       "1                                \n",
       "2                                \n",
       "3                                \n",
       "4                                \n",
       "...         ...    ...      ...  \n",
       "1729                             \n",
       "1730                             \n",
       "1731                             \n",
       "1732                             \n",
       "1733                             \n",
       "\n",
       "[1734 rows x 15 columns]"
      ]
     },
     "execution_count": 636,
     "metadata": {},
     "output_type": "execute_result"
    }
   ],
   "source": [
    "data_label=skw.get_hmm_dataframe()\n",
    "data_label"
   ]
  },
  {
   "cell_type": "code",
   "execution_count": 637,
   "metadata": {},
   "outputs": [],
   "source": [
    "# converting to CSV file\n",
    "data_label.to_csv(\"./CSVs/V2/supervisao_fraca/EXTRATO_CONTRATO_SUPERVISAO_FRACA.csv\")"
   ]
  },
  {
   "cell_type": "code",
   "execution_count": 638,
   "metadata": {},
   "outputs": [],
   "source": [
    "corpus = skw.get_IOB()"
   ]
  },
  {
   "cell_type": "code",
   "execution_count": 639,
   "metadata": {},
   "outputs": [],
   "source": [
    "termos_skweak = []\n",
    "debug=set()\n",
    "labels_skweak = []\n",
    "for ato in corpus:\n",
    "    x = []\n",
    "    y = []\n",
    "    for termo in ato:\n",
    "        termo_label = termo.split()\n",
    "        x.append(termo_label[0])\n",
    "        y.append(termo_label[1])\n",
    "        classes=debug.add(termo_label[1])\n",
    "    termos_skweak.append(x)\n",
    "    labels_skweak.append(y)"
   ]
  },
  {
   "cell_type": "code",
   "execution_count": 605,
   "metadata": {},
   "outputs": [
    {
     "data": {
      "text/plain": [
       "{'B-data_escrito',\n",
       " 'B-modalidade_licitacao',\n",
       " 'B-numero_licitacao',\n",
       " 'B-processo_gdf',\n",
       " 'I-data_escrito',\n",
       " 'I-modalidade_licitacao',\n",
       " 'I-processo_gdf',\n",
       " 'O'}"
      ]
     },
     "execution_count": 605,
     "metadata": {},
     "output_type": "execute_result"
    }
   ],
   "source": [
    "debug"
   ]
  },
  {
   "cell_type": "code",
   "execution_count": 640,
   "metadata": {},
   "outputs": [
    {
     "data": {
      "text/plain": [
       "416315"
      ]
     },
     "execution_count": 640,
     "metadata": {},
     "output_type": "execute_result"
    }
   ],
   "source": [
    "#Retira da lista aninhada\n",
    "termos_skweak_list = []\n",
    "for i in termos_skweak:\n",
    "   if not isinstance(i, list):\n",
    "      termos_skweak_list.append(i)\n",
    "   else:\n",
    "      for j in i:\n",
    "        termos_skweak_list.append(j)\n",
    "\n",
    "len(termos_skweak_list)"
   ]
  },
  {
   "cell_type": "code",
   "execution_count": 45,
   "metadata": {},
   "outputs": [],
   "source": [
    "#termos_skweak_list"
   ]
  },
  {
   "cell_type": "code",
   "execution_count": 641,
   "metadata": {},
   "outputs": [
    {
     "data": {
      "text/plain": [
       "416315"
      ]
     },
     "execution_count": 641,
     "metadata": {},
     "output_type": "execute_result"
    }
   ],
   "source": [
    "#Retira da lista aninhada\n",
    "labels_skweak_list = []\n",
    "for i in labels_skweak:\n",
    "   if not isinstance(i, list):\n",
    "      labels_skweak_list.append(i)\n",
    "   else:\n",
    "      for j in i:\n",
    "        labels_skweak_list.append(j)\n",
    "\n",
    "len(labels_skweak_list)"
   ]
  },
  {
   "cell_type": "code",
   "execution_count": 642,
   "metadata": {},
   "outputs": [
    {
     "data": {
      "text/plain": [
       "416315"
      ]
     },
     "execution_count": 642,
     "metadata": {},
     "output_type": "execute_result"
    }
   ],
   "source": [
    "#Retira da lista aninhada\n",
    "corpus_skweak_list = []\n",
    "for i in corpus:\n",
    "   if not isinstance(i, list):\n",
    "      corpus_skweak_list.append(i)\n",
    "   else:\n",
    "      for j in i:\n",
    "         corpus_skweak_list.append(j)\n",
    "#print(corpus_skweak_list)\n",
    "len(corpus_skweak_list)"
   ]
  },
  {
   "cell_type": "code",
   "execution_count": 643,
   "metadata": {},
   "outputs": [
    {
     "name": "stderr",
     "output_type": "stream",
     "text": [
      "/Users/lucelia/Documents/GitHub/experiments/members/lucelia/venv/lib/python3.9/site-packages/spacy/language.py:1895: UserWarning: [W123] Argument disable with value ['parser', 'ner'] is used instead of ['senter'] as specified in the config. Be aware that this might affect other components in your pipeline.\n",
      "  warnings.warn(\n"
     ]
    }
   ],
   "source": [
    "#APLICA O TOKENIZADOR EXTRAIR O IOB DA BASE GOLD\n",
    "# return_df=False para retornar atos e labels, ou  return_df=True para retornar dataset\n",
    "from iob_transformer import iob_transformer\n",
    "iob = iob_transformer('id_ato','texto','tipo_ent', keep_punctuation=False, return_df=False)"
   ]
  },
  {
   "cell_type": "code",
   "execution_count": 644,
   "metadata": {},
   "outputs": [],
   "source": [
    "atos, labels = iob.transform(tipo_ato)"
   ]
  },
  {
   "cell_type": "code",
   "execution_count": 645,
   "metadata": {},
   "outputs": [
    {
     "data": {
      "text/plain": [
       "416315"
      ]
     },
     "execution_count": 645,
     "metadata": {},
     "output_type": "execute_result"
    }
   ],
   "source": [
    "#Retira da lista aninhada\n",
    "labels_list = []\n",
    "for i in labels:\n",
    "   if not isinstance(i, list):\n",
    "      labels_list.append(i)\n",
    "   else:\n",
    "      for j in i:\n",
    "         labels_list.append(j)\n",
    "len(labels_list)"
   ]
  },
  {
   "cell_type": "code",
   "execution_count": 51,
   "metadata": {},
   "outputs": [],
   "source": [
    "#labels_list"
   ]
  },
  {
   "cell_type": "code",
   "execution_count": 646,
   "metadata": {},
   "outputs": [
    {
     "data": {
      "text/plain": [
       "416315"
      ]
     },
     "execution_count": 646,
     "metadata": {},
     "output_type": "execute_result"
    }
   ],
   "source": [
    "#Retira da lista aninhada\n",
    "atos_list = []\n",
    "for i in atos:\n",
    "   if not isinstance(i, list):\n",
    "      atos_list.append(i)\n",
    "   else:\n",
    "      for j in i:\n",
    "         atos_list.append(j)\n",
    "len(atos_list)"
   ]
  },
  {
   "cell_type": "code",
   "execution_count": 647,
   "metadata": {},
   "outputs": [],
   "source": [
    "#compara se houve quebra após a tokenização\n",
    "resultados = []\n",
    "for ato_sk_list , label_sk_list, ato_gold, label_gold in zip(termos_skweak_list, labels_skweak_list,  atos_list, labels_list):\n",
    "    tupla=(ato_sk_list , label_sk_list, ato_gold, label_gold)\n",
    "    resultados.append(tupla)\n",
    "    if ato_sk_list != ato_gold:\n",
    "        print(ato_sk_list, ato_gold)\n",
    "#for item in resultados:\n",
    "#    print(item)"
   ]
  },
  {
   "cell_type": "code",
   "execution_count": 54,
   "metadata": {},
   "outputs": [
    {
     "name": "stdout",
     "output_type": "stream",
     "text": [
      "Tipo da entidade             Total Entidade Gold                 Total Entidade Skweak\n",
      "B-processo_gdf   19     14        ['001.000.845/2019', '041.001.171/2021', '24562/2008', '0002532-82.2021.4.01.8006', '041.000.282/2021']\n"
     ]
    }
   ],
   "source": [
    "#Compara os labels reais e os preditos para avalir a rotulação fraca\n",
    "\n",
    "#labels_skweak = labels\n",
    "numero_contrato = 0\n",
    "numero_contrato_total = 0\n",
    "B_numero_contrato = 0\n",
    "numero_contrato_gold=[]\n",
    "\n",
    "data_assinatura_contrato = 0\n",
    "data_assinatura_contrato_total = 0\n",
    "B_data_assinatura_contrato = 0\n",
    "data_assinatura_contrato_gold = []\n",
    "\n",
    "processo_gdf = 0\n",
    "processo_gdf_total = 0\n",
    "B_processo_gdf = 0\n",
    "processo_gdf_gold = []\n",
    "\n",
    "unidade_orcamentaria = 0\n",
    "unidade_orcamentaria_total = 0\n",
    "B_unidade_orcamentaria = 0\n",
    "unidade_orcamentaria_gold = []\n",
    "teste=[]\n",
    "\n",
    "programa_trabalho = 0\n",
    "programa_trabalho_total = 0\n",
    "B_programa_trabalho = 0\n",
    "programa_trabalho_gold = []\n",
    "\n",
    "#for text_sk, label_skweak, text_gold,  label_gold in zip(termos_skweak, labels_skweak, atos, labels):\n",
    "for ato_sk , label_sk, ato_gold, label_gold in zip(termos_skweak_list, labels_skweak_list,  atos_list, labels_list):    \n",
    "    #for text_skw, termo_skweak, text_ato, termo_gold in zip(text_sk, label_skweak, text_gold,  label_gold ):\n",
    "       \n",
    "       #print(\"termo swkeak\", termo_skweak) \n",
    "       if label_gold == \"B-numero_contrato\":\n",
    "           #print(\"Teste\")\n",
    "           numero_contrato_total+=1\n",
    "           B_numero_contrato=label_gold\n",
    "           if label_gold == label_sk:\n",
    "               numero_contrato+=1\n",
    "           else:\n",
    "               numero_contrato_gold.append(ato_gold)\n",
    "\n",
    "       elif label_gold == \"B-data_escrito\":    \n",
    "            data_assinatura_contrato_total+=1\n",
    "            B_data_assinatura_contrato=label_gold\n",
    "            if label_gold == label_sk:\n",
    "                data_assinatura_contrato+=1\n",
    "            else:\n",
    "                data_assinatura_contrato_gold.append(ato_gold)\n",
    "       \n",
    "       elif label_gold == \"B-processo_gdf\":        \n",
    "            processo_gdf_total+=1\n",
    "            B_processo_gdf=label_gold\n",
    "            if label_gold == label_sk:\n",
    "                processo_gdf+=1\n",
    "            else:\n",
    "                processo_gdf_gold.append(ato_gold)         \n",
    "                \n",
    "\n",
    "       elif label_gold == \"B-unidade_orcamentaria\":     \n",
    "            unidade_orcamentaria_total+=1\n",
    "            B_unidade_orcamentaria=label_gold\n",
    "            if label_gold == label_sk:\n",
    "                unidade_orcamentaria+=1\n",
    "                \n",
    "            else:\n",
    "                unidade_orcamentaria_gold.append(ato_gold) \n",
    "                 \n",
    "       elif label_gold == \"B-programa_trabalho\":  \n",
    "            programa_trabalho_total+=1\n",
    "            B_programa_trabalho=label_gold\n",
    "            if label_gold == label_sk:\n",
    "                programa_trabalho+=1\n",
    "            else:\n",
    "                programa_trabalho_gold.append(ato_gold)                \n",
    "print(\"Tipo da entidade             Total Entidade Gold                 Total Entidade Skweak\")                \n",
    "#print(\"B-numero_contrato\",              \"   \",numero_contrato_total,         \"   \",numero_contrato,\"      \",\"       \",numero_contrato_gold)\n",
    "#print(\"B-data_assinatura_contrato\",\" \",data_assinatura_contrato_total,\"   \",data_assinatura_contrato,\"      \",data_assinatura_contrato_gold)\n",
    "print(\"B-processo_gdf\",\" \", processo_gdf_total,\"   \",processo_gdf,\"      \",processo_gdf_gold)\n",
    "\n",
    "#print(\"B-unidade_orcamentaria\",      \"  \",unidade_orcamentaria_total,    \"   \",unidade_orcamentaria)#,\"          \",unidade_orcamentaria_gold)\n",
    "#print( \"B-programa_trabalho\",       \"  \",programa_trabalho_total,       \"   \",programa_trabalho)#,\"             \",programa_trabalho_gold)\n",
    "\n",
    "#print(programa_trabalho_gold)"
   ]
  },
  {
   "cell_type": "code",
   "execution_count": 648,
   "metadata": {},
   "outputs": [],
   "source": [
    "#Atos e rótulos supervisão fraca\n",
    "X=termos_skweak\n",
    "y=labels_skweak"
   ]
  },
  {
   "cell_type": "code",
   "execution_count": 57,
   "metadata": {},
   "outputs": [
    {
     "data": {
      "text/plain": [
       "' x_train = []\\nfor i in x:\\n   if not isinstance(i, list):\\n      x_train.append(i)\\n   else:\\n      for j in i:\\n         x_train.append(j)\\n         \\ny_train = []\\nfor i in y:\\n   if not isinstance(i, list):\\n      y_train.append(i)\\n   else:\\n      for j in i:\\n         y_train.append(j) '"
      ]
     },
     "execution_count": 57,
     "metadata": {},
     "output_type": "execute_result"
    }
   ],
   "source": [
    "''' x_train = []\n",
    "for i in x:\n",
    "   if not isinstance(i, list):\n",
    "      x_train.append(i)\n",
    "   else:\n",
    "      for j in i:\n",
    "         x_train.append(j)\n",
    "         \n",
    "y_train = []\n",
    "for i in y:\n",
    "   if not isinstance(i, list):\n",
    "      y_train.append(i)\n",
    "   else:\n",
    "      for j in i:\n",
    "         y_train.append(j) '''"
   ]
  },
  {
   "cell_type": "code",
   "execution_count": 650,
   "metadata": {},
   "outputs": [],
   "source": [
    "#Lista quais entidades estão no x_train\n",
    "\n",
    "#Retira da lista aninhada\n",
    "ato_list = []\n",
    "for i in x_train:\n",
    "   if not isinstance(i, list):\n",
    "      ato_list.append(i)\n",
    "   else:\n",
    "      for j in i:\n",
    "         ato_list.append(j)\n",
    "label_list = []\n",
    "for i in y_train:\n",
    "   if not isinstance(i, list):\n",
    "      label_list.append(i)\n",
    "   else:\n",
    "      for j in i:\n",
    "        label_list.append(j)\n",
    "\n",
    "teste=  []\n",
    "for ato, label in zip(ato_list,label_list):\n",
    "    tupla=(ato,label)\n",
    "    teste.append(tupla)\n",
    "\n",
    "#teste"
   ]
  },
  {
   "cell_type": "code",
   "execution_count": 691,
   "metadata": {},
   "outputs": [
    {
     "name": "stdout",
     "output_type": "stream",
     "text": [
      "x_train 1387 \n",
      " x_test 347 \n",
      " total atos 299\n"
     ]
    }
   ],
   "source": [
    "#Split da base rotulada pela Supervisão Fraca para pegar o train e treinar o CRF\n",
    "# 80% treino, 20% teste\n",
    "\n",
    "from sklearn.model_selection import train_test_split\n",
    "x_train, x_test, y_train, y_test = train_test_split(X, y, test_size=0.2, random_state=None, shuffle=True)\n",
    "print( 'x_train',len(x_train),'\\n','x_test',len(x_test),'\\n','total atos',len(x))"
   ]
  },
  {
   "cell_type": "code",
   "execution_count": 693,
   "metadata": {},
   "outputs": [],
   "source": [
    "#Carrega os atos do dataset de teste da base ouro\n",
    "#https://pt.stackoverflow.com/questions/232208/ler-uma-lista-de-listas-em-txt-python-3\n",
    "import pickle\n",
    "#Suspensão\n",
    "#with open(\"./CSVs/V1/Suspensao_Licitacao_Split_0_x_test.txt\", \"rb\") as file:\n",
    "#Anul Revog\n",
    "with open(\"./CSVs/V2/Extrato_Contrato_Split_4_x_test.txt\", \"rb\") as file:\n",
    "    x_test = pickle.load(file)"
   ]
  },
  {
   "cell_type": "code",
   "execution_count": 694,
   "metadata": {},
   "outputs": [],
   "source": [
    "#Carrega os labels do dataset de teste da base ouro\n",
    "import pickle\n",
    "#Suspensao\n",
    "#with open(\"./CSVs/V1/Suspensao_Licitacao_Split_0_y_test.txt\", \"rb\") as file:\n",
    "#Anul e Revog\n",
    "with open(\"./CSVs/V2/Extrato_Contrato_Split_4_y_test.txt\", \"rb\") as file:    \n",
    "    y_test = pickle.load(file)"
   ]
  },
  {
   "cell_type": "code",
   "execution_count": 458,
   "metadata": {},
   "outputs": [],
   "source": [
    "#Lista quais entidades estão no x_teste\n",
    "\n",
    "#Retira da lista aninhada\n",
    "\n",
    "x_test_list = []\n",
    "for i in x_test:\n",
    "   if not isinstance(i, list):\n",
    "      x_test_list.append(i)\n",
    "   else:\n",
    "      for j in i:\n",
    "        x_test_list.append(j)\n",
    "\n",
    "#Retira da lista aninhada\n",
    "y_test_list = []\n",
    "for i in y_test:\n",
    "   if not isinstance(i, list):\n",
    "      y_test_list.append(i)\n",
    "   else:\n",
    "      for j in i:\n",
    "       y_test_list.append(j)\n",
    "\n",
    "\n",
    "\n",
    "teste =  []\n",
    "for ato, label in zip(x_test_list,y_test_list):\n",
    "    tupla=(ato,label)\n",
    "    teste.append(tupla)\n",
    "#teste"
   ]
  },
  {
   "cell_type": "markdown",
   "metadata": {},
   "source": [
    "CRF"
   ]
  },
  {
   "cell_type": "code",
   "execution_count": 695,
   "metadata": {},
   "outputs": [],
   "source": [
    "#X_train\n",
    "\n",
    "def get_features(sentence):\n",
    "        \"\"\"Create features for each word in act.\n",
    "        Create a list of dict of words features to be used in the predictor module.\n",
    "        Args:\n",
    "            act (list): List of words in an act.\n",
    "        Returns:\n",
    "            A list with a dictionary of features for each of the words.\n",
    "        \"\"\"\n",
    "        sent_features = []\n",
    "        \n",
    "        for i in range(len(sentence)):\n",
    "            word_feat = {\n",
    "                'word': sentence[i].lower(),\n",
    "                'capital_letter': sentence[i][0].isupper(),\n",
    "                'all_capital': sentence[i].isupper(),\n",
    "                'isdigit': sentence[i].isdigit(),\n",
    "                'word_before': sentence[i].lower() if i == 0 else sentence[i-1].lower(),\n",
    "                'word_after:': sentence[i].lower() if i+1 >= len(sentence) else sentence[i+1].lower(),\n",
    "                'BOS': i == 0,\n",
    "                'EOS': i == len(sentence)-1\n",
    "            }\n",
    "            sent_features.append(word_feat)\n",
    "        return sent_features\n",
    "    \n",
    "for i in range(len(x_train)):\n",
    "    x_train[i] = get_features(x_train[i])"
   ]
  },
  {
   "cell_type": "code",
   "execution_count": 696,
   "metadata": {},
   "outputs": [],
   "source": [
    "#X_test\n",
    "def get_features(sentence):\n",
    "        \"\"\"Create features for each word in act.\n",
    "        Create a list of dict of words features to be used in the predictor module.\n",
    "        Args:\n",
    "            act (list): List of words in an act.\n",
    "        Returns:\n",
    "            A list with a dictionary of features for each of the words.\n",
    "        \"\"\"\n",
    "        x_test = []\n",
    "        sent_features = []\n",
    "        for i in range(len(sentence)):\n",
    "            word_feat = {\n",
    "                'word': sentence[i].lower(),\n",
    "                'capital_letter': sentence[i][0].isupper(),\n",
    "                'all_capital': sentence[i].isupper(),\n",
    "                'isdigit': sentence[i].isdigit(),\n",
    "                'word_before': sentence[i].lower() if i == 0 else sentence[i-1].lower(),\n",
    "                'word_after:': sentence[i].lower() if i+1 >= len(sentence) else sentence[i+1].lower(),\n",
    "                'BOS': i == 0,\n",
    "                'EOS': i == len(sentence)-1\n",
    "            }\n",
    "            sent_features.append(word_feat)\n",
    "        return sent_features\n",
    "    \n",
    "for i in range(len(x_test)):\n",
    "    x_test[i] = get_features(x_test[i])"
   ]
  },
  {
   "cell_type": "code",
   "execution_count": 697,
   "metadata": {},
   "outputs": [],
   "source": [
    "import sklearn_crfsuite\n",
    "from sklearn_crfsuite import metrics\n",
    "\n",
    "\n",
    "crf = sklearn_crfsuite.CRF(\n",
    "    algorithm='lbfgs',\n",
    "    c1=0.1,\n",
    "    c2=0.1,\n",
    "    max_iterations=100,\n",
    "     \n",
    "    all_possible_transitions=False,\n",
    "    all_possible_states=True\n",
    ")\n",
    "\n",
    "#crf.fit(x_train, y_train)\n",
    "\n",
    "try:\n",
    "    #crf.fit(x_train[:200], y_train[:200])\n",
    "    crf.fit(x_train, y_train)\n",
    "except AttributeError:\n",
    "    pass\n"
   ]
  },
  {
   "cell_type": "code",
   "execution_count": 65,
   "metadata": {},
   "outputs": [],
   "source": [
    "#import eli5\n",
    "#eli5.show_weights(crf, top=30)\n",
    "#eli5.show_weights(crf, top=5, show=['transition_features'])"
   ]
  },
  {
   "cell_type": "code",
   "execution_count": 66,
   "metadata": {},
   "outputs": [
    {
     "data": {
      "text/plain": [
       "['O',\n",
       " 'B-numero_convenio',\n",
       " 'I-numero_convenio',\n",
       " 'B-processo_gdf',\n",
       " 'I-processo_gdf',\n",
       " 'B-valor_convenio',\n",
       " 'B-unidade_orcamentaria',\n",
       " 'B-data_assinatura_convenio',\n",
       " 'B-natureza_despesa',\n",
       " 'I-data_assinatura_convenio',\n",
       " 'B-nota_empenho',\n",
       " 'B-programa_trabalho',\n",
       " 'I-programa_trabalho',\n",
       " 'I-unidade_orcamentaria']"
      ]
     },
     "execution_count": 66,
     "metadata": {},
     "output_type": "execute_result"
    }
   ],
   "source": [
    "crf.classes_"
   ]
  },
  {
   "cell_type": "code",
   "execution_count": 698,
   "metadata": {},
   "outputs": [
    {
     "data": {
      "text/plain": [
       "0.8621629837730088"
      ]
     },
     "execution_count": 698,
     "metadata": {},
     "output_type": "execute_result"
    }
   ],
   "source": [
    "#Rotulação baseada no modelo treinado com supervisão fraca\n",
    "classes = list(crf.classes_)\n",
    "classes.remove('O')\n",
    "\n",
    "y_pred = crf.predict(x_test)\n",
    "metrics.flat_f1_score(y_test, y_pred, average='weighted', labels=classes)"
   ]
  },
  {
   "cell_type": "code",
   "execution_count": 699,
   "metadata": {},
   "outputs": [
    {
     "data": {
      "text/plain": [
       "83919"
      ]
     },
     "execution_count": 699,
     "metadata": {},
     "output_type": "execute_result"
    }
   ],
   "source": [
    "y_pred_list = []\n",
    "for i in y_pred:\n",
    "   if not isinstance(i, list):\n",
    "      y_pred_list.append(i)\n",
    "   else:\n",
    "      for j in i:\n",
    "       y_pred_list.append(j)\n",
    "\n",
    "len(y_pred_list)"
   ]
  },
  {
   "cell_type": "code",
   "execution_count": 394,
   "metadata": {},
   "outputs": [],
   "source": [
    "resultados = []\n",
    "for ato_gold, label_gold, label_pred in zip(x_test_list, y_test_list, y_pred_list):\n",
    "    \n",
    "   if (label_gold != label_pred) and (label_gold in ['B-modalidade_licitacao', 'B-numero_licitacao', 'B-processo_gdf', 'I-modalidade_licitacao', 'I-numero_licitacao', 'I-processo_gdf' ]):\n",
    "   #    print(label_gold, label_pred)\n",
    "        tupla=(ato_gold,  label_gold, label_pred)\n",
    "        resultados.append(tupla)\n",
    "#print(resultados)\n",
    "#for item in resultados:\n",
    "#    print(item)"
   ]
  },
  {
   "cell_type": "code",
   "execution_count": 700,
   "metadata": {},
   "outputs": [
    {
     "name": "stdout",
     "output_type": "stream",
     "text": [
      "                          precision    recall  f1-score   support\n",
      "\n",
      "cnpj_entidade_contratada       0.00      0.00      0.00        80\n",
      "  cnpj_orgao_contratante       0.00      0.00      0.00        22\n",
      "            codigo_siggo       0.00      0.00      0.00        31\n",
      "data_assinatura_contrato       0.67      0.89      0.76       218\n",
      "     entidade_contratada       0.00      0.00      0.00       360\n",
      "           fonte_recurso       0.00      0.00      0.00       273\n",
      "        natureza_despesa       0.96      0.81      0.88       221\n",
      "        nome_responsavel       0.00      0.00      0.00        48\n",
      "            nota_empenho       0.96      0.85      0.90       271\n",
      "         numero_contrato       0.93      0.79      0.86       380\n",
      "         objeto_contrato       0.00      0.00      0.00       343\n",
      "       orgao_contratante       0.00      0.00      0.00       509\n",
      "            processo_gdf       0.91      0.93      0.92       337\n",
      "       programa_trabalho       0.77      0.79      0.78       251\n",
      "    unidade_orcamentaria       0.69      0.93      0.79       153\n",
      "          valor_contrato       0.87      0.89      0.88       419\n",
      "       vigencia_contrato       0.00      0.00      0.00       332\n",
      "\n",
      "               micro avg       0.85      0.46      0.59      4248\n",
      "               macro avg       0.40      0.41      0.40      4248\n",
      "            weighted avg       0.46      0.46      0.45      4248\n",
      "\n"
     ]
    },
    {
     "name": "stderr",
     "output_type": "stream",
     "text": [
      "/Users/lucelia/Documents/GitHub/experiments/members/lucelia/venv/lib/python3.9/site-packages/seqeval/metrics/v1.py:57: UndefinedMetricWarning: Precision and F-score are ill-defined and being set to 0.0 in labels with no predicted samples. Use `zero_division` parameter to control this behavior.\n",
      "  _warn_prf(average, modifier, msg_start, len(result))\n"
     ]
    }
   ],
   "source": [
    "import numpy as np\n",
    "from seqeval.metrics import classification_report\n",
    "from seqeval.scheme import IOB2\n",
    "from seqeval.metrics import f1_score\n",
    "\n",
    "report = classification_report(y_test, y_pred, output_dict=False, mode='strict', scheme=IOB2)\n",
    "print(report)"
   ]
  },
  {
   "cell_type": "code",
   "execution_count": 701,
   "metadata": {},
   "outputs": [
    {
     "name": "stdout",
     "output_type": "stream",
     "text": [
      "{'cnpj_entidade_contratada': {'precision': 0.0, 'recall': 0.0, 'f1-score': 0.0, 'support': 80}, 'cnpj_orgao_contratante': {'precision': 0.0, 'recall': 0.0, 'f1-score': 0.0, 'support': 22}, 'codigo_siggo': {'precision': 0.0, 'recall': 0.0, 'f1-score': 0.0, 'support': 31}, 'data_assinatura_contrato': {'precision': 0.6724738675958188, 'recall': 0.8853211009174312, 'f1-score': 0.7643564356435645, 'support': 218}, 'entidade_contratada': {'precision': 0.0, 'recall': 0.0, 'f1-score': 0.0, 'support': 360}, 'fonte_recurso': {'precision': 0.0, 'recall': 0.0, 'f1-score': 0.0, 'support': 273}, 'natureza_despesa': {'precision': 0.9572192513368984, 'recall': 0.8099547511312217, 'f1-score': 0.877450980392157, 'support': 221}, 'nome_responsavel': {'precision': 0.0, 'recall': 0.0, 'f1-score': 0.0, 'support': 48}, 'nota_empenho': {'precision': 0.9621848739495799, 'recall': 0.8450184501845018, 'f1-score': 0.899803536345776, 'support': 271}, 'numero_contrato': {'precision': 0.9347826086956522, 'recall': 0.7921052631578948, 'f1-score': 0.8575498575498576, 'support': 380}, 'objeto_contrato': {'precision': 0.0, 'recall': 0.0, 'f1-score': 0.0, 'support': 343}, 'orgao_contratante': {'precision': 0.0, 'recall': 0.0, 'f1-score': 0.0, 'support': 509}, 'processo_gdf': {'precision': 0.9130434782608695, 'recall': 0.9347181008902077, 'f1-score': 0.9237536656891496, 'support': 337}, 'programa_trabalho': {'precision': 0.7653846153846153, 'recall': 0.7928286852589641, 'f1-score': 0.7788649706457924, 'support': 251}, 'unidade_orcamentaria': {'precision': 0.6908212560386473, 'recall': 0.934640522875817, 'f1-score': 0.7944444444444444, 'support': 153}, 'valor_contrato': {'precision': 0.8741258741258742, 'recall': 0.8949880668257757, 'f1-score': 0.884433962264151, 'support': 419}, 'vigencia_contrato': {'precision': 0.0, 'recall': 0.0, 'f1-score': 0.0, 'support': 332}, 'micro avg': {'precision': 0.8501098901098901, 'recall': 0.4552730696798493, 'f1-score': 0.5929786907864479, 'support': 4248}, 'macro avg': {'precision': 0.3982374014934092, 'recall': 0.40526911419069495, 'f1-score': 0.3988622266455819, 'support': 4248}, 'weighted avg': {'precision': 0.4580686991276207, 'recall': 0.4552730696798493, 'f1-score': 0.4541407714250545, 'support': 4248}}\n"
     ]
    }
   ],
   "source": [
    "import numpy as np\n",
    "from seqeval.metrics import classification_report\n",
    "from seqeval.scheme import IOB2\n",
    "from seqeval.metrics import f1_score\n",
    "\n",
    "report = classification_report(y_test, y_pred, output_dict=True, mode='strict', scheme=IOB2)\n",
    "print(report)\n",
    "np.save(\"./Results/V2/METRICA_EXTRATO_CONTRATO_SKWEAK_4.npy\", report)"
   ]
  },
  {
   "cell_type": "code",
   "execution_count": 71,
   "metadata": {},
   "outputs": [
    {
     "ename": "NameError",
     "evalue": "name 'gold_y_test' is not defined",
     "output_type": "error",
     "traceback": [
      "\u001b[0;31m---------------------------------------------------------------------------\u001b[0m",
      "\u001b[0;31mNameError\u001b[0m                                 Traceback (most recent call last)",
      "Cell \u001b[0;32mIn [71], line 3\u001b[0m\n\u001b[1;32m      1\u001b[0m report \u001b[39m=\u001b[39m metrics\u001b[39m.\u001b[39mflat_classification_report(\n\u001b[1;32m      2\u001b[0m     \u001b[39m#y_test[:200], y_pred[:200], labels=classes, digits=3))\u001b[39;00m\n\u001b[0;32m----> 3\u001b[0m    gold_y_test, y_pred, labels\u001b[39m=\u001b[39mclasses, digits\u001b[39m=\u001b[39m\u001b[39m3\u001b[39m, output_dict\u001b[39m=\u001b[39m\u001b[39mFalse\u001b[39;00m)\n\u001b[1;32m      4\u001b[0m \u001b[39mprint\u001b[39m(report)\n",
      "\u001b[0;31mNameError\u001b[0m: name 'gold_y_test' is not defined"
     ]
    }
   ],
   "source": [
    "''' report = metrics.flat_classification_report(\n",
    "    #y_test[:200], y_pred[:200], labels=classes, digits=3))\n",
    "   y_test, y_pred, labels=classes, digits=3, output_dict=False)\n",
    "print(report) '''"
   ]
  },
  {
   "cell_type": "code",
   "execution_count": null,
   "metadata": {},
   "outputs": [],
   "source": [
    "#output_dict=True gerar a saída para gravar no results\n",
    "''' \n",
    "import numpy as np\n",
    "report = metrics.flat_classification_report(\n",
    "    #y_test[:200], y_pred[:200], labels=classes, digits=3))\n",
    "    gold_y_test, y_pred, labels=classes, digits=3, output_dict=True)\n",
    "print(report)\n",
    "np.save(\"./Results/METRICA_EXTRATO_CONTRATO_SKWEAK_V1_0.npy\", report) '''"
   ]
  },
  {
   "cell_type": "code",
   "execution_count": null,
   "metadata": {},
   "outputs": [],
   "source": [
    "# CODIGO DE APLICACAO DO MODELO CRF TREINADO\n",
    "\n",
    "#import dodfCRF\n",
    "#crf = dodfCRF.CRFContratos()\n",
    "#crf.init_model_from_path(\"contratosFINAL.pkl\")\n",
    "#crfIOB = crf.model_predict(dados)"
   ]
  }
 ],
 "metadata": {
  "kernelspec": {
   "display_name": "Python 3.9.7 ('venv': venv)",
   "language": "python",
   "name": "python3"
  },
  "language_info": {
   "codemirror_mode": {
    "name": "ipython",
    "version": 3
   },
   "file_extension": ".py",
   "mimetype": "text/x-python",
   "name": "python",
   "nbconvert_exporter": "python",
   "pygments_lexer": "ipython3",
   "version": "3.9.7"
  },
  "orig_nbformat": 4,
  "vscode": {
   "interpreter": {
    "hash": "96baed6db0003f61f4a930eafeae8ace7abdbffdf58b8c787c6463efd11f449a"
   }
  }
 },
 "nbformat": 4,
 "nbformat_minor": 2
}
