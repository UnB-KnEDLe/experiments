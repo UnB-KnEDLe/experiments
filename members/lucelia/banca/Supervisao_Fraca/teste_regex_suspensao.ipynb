{
 "cells": [
  {
   "cell_type": "code",
   "execution_count": 1,
   "metadata": {},
   "outputs": [
    {
     "name": "stderr",
     "output_type": "stream",
     "text": [
      "/Users/lucelia/Documents/GitHub/experiments/members/lucelia/venv/lib/python3.9/site-packages/tqdm/auto.py:22: TqdmWarning: IProgress not found. Please update jupyter and ipywidgets. See https://ipywidgets.readthedocs.io/en/stable/user_install.html\n",
      "  from .autonotebook import tqdm as notebook_tqdm\n"
     ]
    }
   ],
   "source": [
    "import re\n",
    "import pandas as pd\n",
    "import spacy\n",
    "import skweak"
   ]
  },
  {
   "cell_type": "code",
   "execution_count": 2,
   "metadata": {},
   "outputs": [],
   "source": [
    "#data = pd.read_csv(\"./CSVs/V1/REL_ADITAMENTO_CONTRATO_V1.csv\", nrows=2000)\n",
    "data = pd.read_csv(\"./CSVs/V1/REL_SUSPENSAO_LICITACAO.csv\", nrows=5000)"
   ]
  },
  {
   "cell_type": "code",
   "execution_count": 3,
   "metadata": {},
   "outputs": [
    {
     "data": {
      "text/html": [
       "<div>\n",
       "<style scoped>\n",
       "    .dataframe tbody tr th:only-of-type {\n",
       "        vertical-align: middle;\n",
       "    }\n",
       "\n",
       "    .dataframe tbody tr th {\n",
       "        vertical-align: top;\n",
       "    }\n",
       "\n",
       "    .dataframe thead th {\n",
       "        text-align: right;\n",
       "    }\n",
       "</style>\n",
       "<table border=\"1\" class=\"dataframe\">\n",
       "  <thead>\n",
       "    <tr style=\"text-align: right;\">\n",
       "      <th></th>\n",
       "      <th>Unnamed: 0.1</th>\n",
       "      <th>Unnamed: 0</th>\n",
       "      <th>id_dodf</th>\n",
       "      <th>tipo_rel</th>\n",
       "      <th>id_rel</th>\n",
       "      <th>anotador_rel</th>\n",
       "      <th>tipo_ent</th>\n",
       "      <th>id_ent</th>\n",
       "      <th>anotador_ent</th>\n",
       "      <th>offset</th>\n",
       "      <th>length</th>\n",
       "      <th>texto</th>\n",
       "      <th>id_ato</th>\n",
       "    </tr>\n",
       "  </thead>\n",
       "  <tbody>\n",
       "    <tr>\n",
       "      <th>0</th>\n",
       "      <td>0</td>\n",
       "      <td>43</td>\n",
       "      <td>12_22.11.2018</td>\n",
       "      <td>REL_SUSPENSAO_LICITACAO</td>\n",
       "      <td>R8</td>\n",
       "      <td>anotador_57860312</td>\n",
       "      <td>AVISO_SUSPENSAO_LICITACAO</td>\n",
       "      <td>312</td>\n",
       "      <td>anotador_57860312</td>\n",
       "      <td>484129</td>\n",
       "      <td>274</td>\n",
       "      <td>AVISO DE SUSPENSAO PREGAO ELETRONICO POR SRP N...</td>\n",
       "      <td>12_22.11.2018-R8</td>\n",
       "    </tr>\n",
       "    <tr>\n",
       "      <th>1</th>\n",
       "      <td>1</td>\n",
       "      <td>44</td>\n",
       "      <td>12_22.11.2018</td>\n",
       "      <td>REL_SUSPENSAO_LICITACAO</td>\n",
       "      <td>R8</td>\n",
       "      <td>anotador_57860312</td>\n",
       "      <td>modalidade_licitacao</td>\n",
       "      <td>311</td>\n",
       "      <td>anotador_57860312</td>\n",
       "      <td>484148</td>\n",
       "      <td>17</td>\n",
       "      <td>PREGAO ELETRONICO</td>\n",
       "      <td>12_22.11.2018-R8</td>\n",
       "    </tr>\n",
       "    <tr>\n",
       "      <th>2</th>\n",
       "      <td>2</td>\n",
       "      <td>45</td>\n",
       "      <td>12_22.11.2018</td>\n",
       "      <td>REL_SUSPENSAO_LICITACAO</td>\n",
       "      <td>R8</td>\n",
       "      <td>anotador_57860312</td>\n",
       "      <td>numero_licitacao</td>\n",
       "      <td>308</td>\n",
       "      <td>anotador_57860312</td>\n",
       "      <td>484177</td>\n",
       "      <td>8</td>\n",
       "      <td>459/2018</td>\n",
       "      <td>12_22.11.2018-R8</td>\n",
       "    </tr>\n",
       "    <tr>\n",
       "      <th>3</th>\n",
       "      <td>3</td>\n",
       "      <td>46</td>\n",
       "      <td>12_22.11.2018</td>\n",
       "      <td>REL_SUSPENSAO_LICITACAO</td>\n",
       "      <td>R8</td>\n",
       "      <td>anotador_57860312</td>\n",
       "      <td>orgao_licitante</td>\n",
       "      <td>310</td>\n",
       "      <td>anotador_57860312</td>\n",
       "      <td>484243</td>\n",
       "      <td>49</td>\n",
       "      <td>Secretaria de Estado de Saude do Distrito Federal</td>\n",
       "      <td>12_22.11.2018-R8</td>\n",
       "    </tr>\n",
       "    <tr>\n",
       "      <th>4</th>\n",
       "      <td>4</td>\n",
       "      <td>47</td>\n",
       "      <td>12_22.11.2018</td>\n",
       "      <td>REL_SUSPENSAO_LICITACAO</td>\n",
       "      <td>R8</td>\n",
       "      <td>anotador_57860312</td>\n",
       "      <td>nome_responsavel</td>\n",
       "      <td>309</td>\n",
       "      <td>anotador_57860312</td>\n",
       "      <td>484378</td>\n",
       "      <td>25</td>\n",
       "      <td>LARISSA ALVIM DE OLIVEIRA</td>\n",
       "      <td>12_22.11.2018-R8</td>\n",
       "    </tr>\n",
       "    <tr>\n",
       "      <th>...</th>\n",
       "      <td>...</td>\n",
       "      <td>...</td>\n",
       "      <td>...</td>\n",
       "      <td>...</td>\n",
       "      <td>...</td>\n",
       "      <td>...</td>\n",
       "      <td>...</td>\n",
       "      <td>...</td>\n",
       "      <td>...</td>\n",
       "      <td>...</td>\n",
       "      <td>...</td>\n",
       "      <td>...</td>\n",
       "      <td>...</td>\n",
       "    </tr>\n",
       "    <tr>\n",
       "      <th>492</th>\n",
       "      <td>492</td>\n",
       "      <td>41051</td>\n",
       "      <td>638</td>\n",
       "      <td>REL_SUSPENSAO_LICITACAO</td>\n",
       "      <td>R7</td>\n",
       "      <td>anotador_32161579</td>\n",
       "      <td>processo_gdf</td>\n",
       "      <td>258</td>\n",
       "      <td>anotador_32161579</td>\n",
       "      <td>210132</td>\n",
       "      <td>22</td>\n",
       "      <td>04012-00000112/2022-79</td>\n",
       "      <td>638-R7</td>\n",
       "    </tr>\n",
       "    <tr>\n",
       "      <th>493</th>\n",
       "      <td>493</td>\n",
       "      <td>41052</td>\n",
       "      <td>638</td>\n",
       "      <td>REL_SUSPENSAO_LICITACAO</td>\n",
       "      <td>R7</td>\n",
       "      <td>anotador_32161579</td>\n",
       "      <td>orgao_licitante</td>\n",
       "      <td>255</td>\n",
       "      <td>anotador_32161579</td>\n",
       "      <td>210158</td>\n",
       "      <td>63</td>\n",
       "      <td>Secretaria de Estado de Trabalho do Distrito F...</td>\n",
       "      <td>638-R7</td>\n",
       "    </tr>\n",
       "    <tr>\n",
       "      <th>494</th>\n",
       "      <td>494</td>\n",
       "      <td>41053</td>\n",
       "      <td>638</td>\n",
       "      <td>REL_SUSPENSAO_LICITACAO</td>\n",
       "      <td>R7</td>\n",
       "      <td>anotador_32161579</td>\n",
       "      <td>objeto_licitacao</td>\n",
       "      <td>3902</td>\n",
       "      <td>anotador_32161579</td>\n",
       "      <td>210322</td>\n",
       "      <td>367</td>\n",
       "      <td>Registro de Preços para contratação de empresa...</td>\n",
       "      <td>638-R7</td>\n",
       "    </tr>\n",
       "    <tr>\n",
       "      <th>495</th>\n",
       "      <td>495</td>\n",
       "      <td>41054</td>\n",
       "      <td>638</td>\n",
       "      <td>REL_SUSPENSAO_LICITACAO</td>\n",
       "      <td>R7</td>\n",
       "      <td>anotador_32161579</td>\n",
       "      <td>orgao_licitante</td>\n",
       "      <td>3206</td>\n",
       "      <td>anotador_32161579</td>\n",
       "      <td>210631</td>\n",
       "      <td>58</td>\n",
       "      <td>Secretaria de Estado do Trabalho Distrito Fede...</td>\n",
       "      <td>638-R7</td>\n",
       "    </tr>\n",
       "    <tr>\n",
       "      <th>496</th>\n",
       "      <td>496</td>\n",
       "      <td>41055</td>\n",
       "      <td>638</td>\n",
       "      <td>REL_SUSPENSAO_LICITACAO</td>\n",
       "      <td>R7</td>\n",
       "      <td>anotador_32161579</td>\n",
       "      <td>nome_responsavel</td>\n",
       "      <td>3901</td>\n",
       "      <td>anotador_32161579</td>\n",
       "      <td>210768</td>\n",
       "      <td>25</td>\n",
       "      <td>JUNILMA OLIVEIRA FERREIRA</td>\n",
       "      <td>638-R7</td>\n",
       "    </tr>\n",
       "  </tbody>\n",
       "</table>\n",
       "<p>497 rows × 13 columns</p>\n",
       "</div>"
      ],
      "text/plain": [
       "     Unnamed: 0.1  Unnamed: 0        id_dodf                 tipo_rel id_rel  \\\n",
       "0               0          43  12_22.11.2018  REL_SUSPENSAO_LICITACAO     R8   \n",
       "1               1          44  12_22.11.2018  REL_SUSPENSAO_LICITACAO     R8   \n",
       "2               2          45  12_22.11.2018  REL_SUSPENSAO_LICITACAO     R8   \n",
       "3               3          46  12_22.11.2018  REL_SUSPENSAO_LICITACAO     R8   \n",
       "4               4          47  12_22.11.2018  REL_SUSPENSAO_LICITACAO     R8   \n",
       "..            ...         ...            ...                      ...    ...   \n",
       "492           492       41051            638  REL_SUSPENSAO_LICITACAO     R7   \n",
       "493           493       41052            638  REL_SUSPENSAO_LICITACAO     R7   \n",
       "494           494       41053            638  REL_SUSPENSAO_LICITACAO     R7   \n",
       "495           495       41054            638  REL_SUSPENSAO_LICITACAO     R7   \n",
       "496           496       41055            638  REL_SUSPENSAO_LICITACAO     R7   \n",
       "\n",
       "          anotador_rel                   tipo_ent  id_ent       anotador_ent  \\\n",
       "0    anotador_57860312  AVISO_SUSPENSAO_LICITACAO     312  anotador_57860312   \n",
       "1    anotador_57860312       modalidade_licitacao     311  anotador_57860312   \n",
       "2    anotador_57860312           numero_licitacao     308  anotador_57860312   \n",
       "3    anotador_57860312            orgao_licitante     310  anotador_57860312   \n",
       "4    anotador_57860312           nome_responsavel     309  anotador_57860312   \n",
       "..                 ...                        ...     ...                ...   \n",
       "492  anotador_32161579               processo_gdf     258  anotador_32161579   \n",
       "493  anotador_32161579            orgao_licitante     255  anotador_32161579   \n",
       "494  anotador_32161579           objeto_licitacao    3902  anotador_32161579   \n",
       "495  anotador_32161579            orgao_licitante    3206  anotador_32161579   \n",
       "496  anotador_32161579           nome_responsavel    3901  anotador_32161579   \n",
       "\n",
       "     offset  length                                              texto  \\\n",
       "0    484129     274  AVISO DE SUSPENSAO PREGAO ELETRONICO POR SRP N...   \n",
       "1    484148      17                                  PREGAO ELETRONICO   \n",
       "2    484177       8                                           459/2018   \n",
       "3    484243      49  Secretaria de Estado de Saude do Distrito Federal   \n",
       "4    484378      25                          LARISSA ALVIM DE OLIVEIRA   \n",
       "..      ...     ...                                                ...   \n",
       "492  210132      22                             04012-00000112/2022-79   \n",
       "493  210158      63  Secretaria de Estado de Trabalho do Distrito F...   \n",
       "494  210322     367  Registro de Preços para contratação de empresa...   \n",
       "495  210631      58  Secretaria de Estado do Trabalho Distrito Fede...   \n",
       "496  210768      25                          JUNILMA OLIVEIRA FERREIRA   \n",
       "\n",
       "               id_ato  \n",
       "0    12_22.11.2018-R8  \n",
       "1    12_22.11.2018-R8  \n",
       "2    12_22.11.2018-R8  \n",
       "3    12_22.11.2018-R8  \n",
       "4    12_22.11.2018-R8  \n",
       "..                ...  \n",
       "492            638-R7  \n",
       "493            638-R7  \n",
       "494            638-R7  \n",
       "495            638-R7  \n",
       "496            638-R7  \n",
       "\n",
       "[497 rows x 13 columns]"
      ]
     },
     "execution_count": 3,
     "metadata": {},
     "output_type": "execute_result"
    }
   ],
   "source": [
    "data"
   ]
  },
  {
   "cell_type": "code",
   "execution_count": 4,
   "metadata": {},
   "outputs": [
    {
     "data": {
      "text/html": [
       "<div>\n",
       "<style scoped>\n",
       "    .dataframe tbody tr th:only-of-type {\n",
       "        vertical-align: middle;\n",
       "    }\n",
       "\n",
       "    .dataframe tbody tr th {\n",
       "        vertical-align: top;\n",
       "    }\n",
       "\n",
       "    .dataframe thead th {\n",
       "        text-align: right;\n",
       "    }\n",
       "</style>\n",
       "<table border=\"1\" class=\"dataframe\">\n",
       "  <thead>\n",
       "    <tr style=\"text-align: right;\">\n",
       "      <th></th>\n",
       "      <th>Unnamed: 0.1</th>\n",
       "      <th>Unnamed: 0</th>\n",
       "      <th>id_dodf</th>\n",
       "      <th>tipo_rel</th>\n",
       "      <th>id_rel</th>\n",
       "      <th>anotador_rel</th>\n",
       "      <th>tipo_ent</th>\n",
       "      <th>id_ent</th>\n",
       "      <th>anotador_ent</th>\n",
       "      <th>offset</th>\n",
       "      <th>length</th>\n",
       "      <th>texto</th>\n",
       "      <th>id_ato</th>\n",
       "    </tr>\n",
       "  </thead>\n",
       "  <tbody>\n",
       "    <tr>\n",
       "      <th>0</th>\n",
       "      <td>0</td>\n",
       "      <td>43</td>\n",
       "      <td>12_22.11.2018</td>\n",
       "      <td>REL_SUSPENSAO_LICITACAO</td>\n",
       "      <td>R8</td>\n",
       "      <td>anotador_57860312</td>\n",
       "      <td>AVISO_SUSPENSAO_LICITACAO</td>\n",
       "      <td>312</td>\n",
       "      <td>anotador_57860312</td>\n",
       "      <td>484129</td>\n",
       "      <td>274</td>\n",
       "      <td>AVISO DE SUSPENSAO PREGAO ELETRONICO POR SRP N...</td>\n",
       "      <td>12_22.11.2018-R8</td>\n",
       "    </tr>\n",
       "    <tr>\n",
       "      <th>1</th>\n",
       "      <td>14</td>\n",
       "      <td>91</td>\n",
       "      <td>12_22.11.2018</td>\n",
       "      <td>REL_SUSPENSAO_LICITACAO</td>\n",
       "      <td>R9</td>\n",
       "      <td>anotador_57860312</td>\n",
       "      <td>AVISO_SUSPENSAO_LICITACAO</td>\n",
       "      <td>470</td>\n",
       "      <td>anotador_57860312</td>\n",
       "      <td>530019</td>\n",
       "      <td>510</td>\n",
       "      <td>AVISO DE SUSPENSAO CONCORRENCIA No 02/2018 O M...</td>\n",
       "      <td>12_22.11.2018-R9</td>\n",
       "    </tr>\n",
       "    <tr>\n",
       "      <th>2</th>\n",
       "      <td>19</td>\n",
       "      <td>281</td>\n",
       "      <td>12_22.11.2018</td>\n",
       "      <td>REL_SUSPENSAO_LICITACAO</td>\n",
       "      <td>R10</td>\n",
       "      <td>anotador_57860312</td>\n",
       "      <td>AVISO_SUSPENSAO_LICITACAO</td>\n",
       "      <td>472</td>\n",
       "      <td>anotador_57860312</td>\n",
       "      <td>597834</td>\n",
       "      <td>514</td>\n",
       "      <td>AVISO DE SUSPENSAO DE LICITACAO PREGAO ELETRON...</td>\n",
       "      <td>12_22.11.2018-R10</td>\n",
       "    </tr>\n",
       "    <tr>\n",
       "      <th>3</th>\n",
       "      <td>20</td>\n",
       "      <td>3562</td>\n",
       "      <td>11_30.10.2019</td>\n",
       "      <td>REL_SUSPENSAO_LICITACAO</td>\n",
       "      <td>R7</td>\n",
       "      <td>anotador_57860312</td>\n",
       "      <td>AVISO_SUSPENSAO_LICITACAO</td>\n",
       "      <td>115</td>\n",
       "      <td>anotador_57860312</td>\n",
       "      <td>484270</td>\n",
       "      <td>718</td>\n",
       "      <td>AVISO DE SUSPENSAO DE LICITACAO PREGAO ELETRON...</td>\n",
       "      <td>11_30.10.2019-R7</td>\n",
       "    </tr>\n",
       "    <tr>\n",
       "      <th>4</th>\n",
       "      <td>33</td>\n",
       "      <td>4226</td>\n",
       "      <td>15_28.11.2019</td>\n",
       "      <td>REL_SUSPENSAO_LICITACAO</td>\n",
       "      <td>R2</td>\n",
       "      <td>anotador_57860312</td>\n",
       "      <td>AVISO_SUSPENSAO_LICITACAO</td>\n",
       "      <td>381</td>\n",
       "      <td>anotador_57860312</td>\n",
       "      <td>540981</td>\n",
       "      <td>512</td>\n",
       "      <td>AVISO DE SUSPENSAO DE LICITACAO LIC ALIENACAO ...</td>\n",
       "      <td>15_28.11.2019-R2</td>\n",
       "    </tr>\n",
       "    <tr>\n",
       "      <th>...</th>\n",
       "      <td>...</td>\n",
       "      <td>...</td>\n",
       "      <td>...</td>\n",
       "      <td>...</td>\n",
       "      <td>...</td>\n",
       "      <td>...</td>\n",
       "      <td>...</td>\n",
       "      <td>...</td>\n",
       "      <td>...</td>\n",
       "      <td>...</td>\n",
       "      <td>...</td>\n",
       "      <td>...</td>\n",
       "      <td>...</td>\n",
       "    </tr>\n",
       "    <tr>\n",
       "      <th>63</th>\n",
       "      <td>454</td>\n",
       "      <td>39708</td>\n",
       "      <td>638</td>\n",
       "      <td>REL_SUSPENSAO_LICITACAO</td>\n",
       "      <td>R1</td>\n",
       "      <td>anotador_32161579</td>\n",
       "      <td>AVISO_SUSPENSAO_LICITACAO</td>\n",
       "      <td>3886</td>\n",
       "      <td>anotador_32161579</td>\n",
       "      <td>6322</td>\n",
       "      <td>463</td>\n",
       "      <td>AVISO DE SUSPENSÃO E NOVA DATA DO PREGÃO ELETR...</td>\n",
       "      <td>638-R1</td>\n",
       "    </tr>\n",
       "    <tr>\n",
       "      <th>64</th>\n",
       "      <td>464</td>\n",
       "      <td>39718</td>\n",
       "      <td>638</td>\n",
       "      <td>REL_SUSPENSAO_LICITACAO</td>\n",
       "      <td>R2</td>\n",
       "      <td>anotador_32161579</td>\n",
       "      <td>AVISO_SUSPENSAO_LICITACAO</td>\n",
       "      <td>3887</td>\n",
       "      <td>anotador_32161579</td>\n",
       "      <td>6786</td>\n",
       "      <td>474</td>\n",
       "      <td>AVISO DE SUSPENSÃO E NOVA DATA DO PREGÃO ELETR...</td>\n",
       "      <td>638-R2</td>\n",
       "    </tr>\n",
       "    <tr>\n",
       "      <th>65</th>\n",
       "      <td>472</td>\n",
       "      <td>39738</td>\n",
       "      <td>638</td>\n",
       "      <td>REL_SUSPENSAO_LICITACAO</td>\n",
       "      <td>R3</td>\n",
       "      <td>anotador_32161579</td>\n",
       "      <td>AVISO_SUSPENSAO_LICITACAO</td>\n",
       "      <td>3889</td>\n",
       "      <td>anotador_32161579</td>\n",
       "      <td>9435</td>\n",
       "      <td>631</td>\n",
       "      <td>AVISO DE SUSPENSÃO PREGÃO ELETRÔNICO POR SRP N...</td>\n",
       "      <td>638-R3</td>\n",
       "    </tr>\n",
       "    <tr>\n",
       "      <th>66</th>\n",
       "      <td>479</td>\n",
       "      <td>39840</td>\n",
       "      <td>638</td>\n",
       "      <td>REL_SUSPENSAO_LICITACAO</td>\n",
       "      <td>R4</td>\n",
       "      <td>anotador_32161579</td>\n",
       "      <td>AVISO_SUSPENSAO_LICITACAO</td>\n",
       "      <td>3892</td>\n",
       "      <td>anotador_32161579</td>\n",
       "      <td>27214</td>\n",
       "      <td>1746</td>\n",
       "      <td>AVISO DE SUSPENSÃO CONCORRÊNCIA PARA CONCESSÃO...</td>\n",
       "      <td>638-R4</td>\n",
       "    </tr>\n",
       "    <tr>\n",
       "      <th>67</th>\n",
       "      <td>490</td>\n",
       "      <td>41049</td>\n",
       "      <td>638</td>\n",
       "      <td>REL_SUSPENSAO_LICITACAO</td>\n",
       "      <td>R7</td>\n",
       "      <td>anotador_32161579</td>\n",
       "      <td>AVISO_SUSPENSAO_LICITACAO</td>\n",
       "      <td>3903</td>\n",
       "      <td>anotador_32161579</td>\n",
       "      <td>210050</td>\n",
       "      <td>753</td>\n",
       "      <td>AVISO DE REALIZAÇÃO DE EVENTO DE SUSPENSÃO PRE...</td>\n",
       "      <td>638-R7</td>\n",
       "    </tr>\n",
       "  </tbody>\n",
       "</table>\n",
       "<p>68 rows × 13 columns</p>\n",
       "</div>"
      ],
      "text/plain": [
       "    Unnamed: 0.1  Unnamed: 0        id_dodf                 tipo_rel id_rel  \\\n",
       "0              0          43  12_22.11.2018  REL_SUSPENSAO_LICITACAO     R8   \n",
       "1             14          91  12_22.11.2018  REL_SUSPENSAO_LICITACAO     R9   \n",
       "2             19         281  12_22.11.2018  REL_SUSPENSAO_LICITACAO    R10   \n",
       "3             20        3562  11_30.10.2019  REL_SUSPENSAO_LICITACAO     R7   \n",
       "4             33        4226  15_28.11.2019  REL_SUSPENSAO_LICITACAO     R2   \n",
       "..           ...         ...            ...                      ...    ...   \n",
       "63           454       39708            638  REL_SUSPENSAO_LICITACAO     R1   \n",
       "64           464       39718            638  REL_SUSPENSAO_LICITACAO     R2   \n",
       "65           472       39738            638  REL_SUSPENSAO_LICITACAO     R3   \n",
       "66           479       39840            638  REL_SUSPENSAO_LICITACAO     R4   \n",
       "67           490       41049            638  REL_SUSPENSAO_LICITACAO     R7   \n",
       "\n",
       "         anotador_rel                   tipo_ent  id_ent       anotador_ent  \\\n",
       "0   anotador_57860312  AVISO_SUSPENSAO_LICITACAO     312  anotador_57860312   \n",
       "1   anotador_57860312  AVISO_SUSPENSAO_LICITACAO     470  anotador_57860312   \n",
       "2   anotador_57860312  AVISO_SUSPENSAO_LICITACAO     472  anotador_57860312   \n",
       "3   anotador_57860312  AVISO_SUSPENSAO_LICITACAO     115  anotador_57860312   \n",
       "4   anotador_57860312  AVISO_SUSPENSAO_LICITACAO     381  anotador_57860312   \n",
       "..                ...                        ...     ...                ...   \n",
       "63  anotador_32161579  AVISO_SUSPENSAO_LICITACAO    3886  anotador_32161579   \n",
       "64  anotador_32161579  AVISO_SUSPENSAO_LICITACAO    3887  anotador_32161579   \n",
       "65  anotador_32161579  AVISO_SUSPENSAO_LICITACAO    3889  anotador_32161579   \n",
       "66  anotador_32161579  AVISO_SUSPENSAO_LICITACAO    3892  anotador_32161579   \n",
       "67  anotador_32161579  AVISO_SUSPENSAO_LICITACAO    3903  anotador_32161579   \n",
       "\n",
       "    offset  length                                              texto  \\\n",
       "0   484129     274  AVISO DE SUSPENSAO PREGAO ELETRONICO POR SRP N...   \n",
       "1   530019     510  AVISO DE SUSPENSAO CONCORRENCIA No 02/2018 O M...   \n",
       "2   597834     514  AVISO DE SUSPENSAO DE LICITACAO PREGAO ELETRON...   \n",
       "3   484270     718  AVISO DE SUSPENSAO DE LICITACAO PREGAO ELETRON...   \n",
       "4   540981     512  AVISO DE SUSPENSAO DE LICITACAO LIC ALIENACAO ...   \n",
       "..     ...     ...                                                ...   \n",
       "63    6322     463  AVISO DE SUSPENSÃO E NOVA DATA DO PREGÃO ELETR...   \n",
       "64    6786     474  AVISO DE SUSPENSÃO E NOVA DATA DO PREGÃO ELETR...   \n",
       "65    9435     631  AVISO DE SUSPENSÃO PREGÃO ELETRÔNICO POR SRP N...   \n",
       "66   27214    1746  AVISO DE SUSPENSÃO CONCORRÊNCIA PARA CONCESSÃO...   \n",
       "67  210050     753  AVISO DE REALIZAÇÃO DE EVENTO DE SUSPENSÃO PRE...   \n",
       "\n",
       "               id_ato  \n",
       "0    12_22.11.2018-R8  \n",
       "1    12_22.11.2018-R9  \n",
       "2   12_22.11.2018-R10  \n",
       "3    11_30.10.2019-R7  \n",
       "4    15_28.11.2019-R2  \n",
       "..                ...  \n",
       "63             638-R1  \n",
       "64             638-R2  \n",
       "65             638-R3  \n",
       "66             638-R4  \n",
       "67             638-R7  \n",
       "\n",
       "[68 rows x 13 columns]"
      ]
     },
     "execution_count": 4,
     "metadata": {},
     "output_type": "execute_result"
    }
   ],
   "source": [
    "#cria um novo dataset apenas com o tipo de entidade EXTATO_CONTRATO (TEXTO)\n",
    "\n",
    "#AVISO_SUSPENSAO_LICITACAO\n",
    "#EXTRATO_ADITAMENTO_CONTRATUAL\n",
    "\n",
    "tipo_ato1 = data.loc[data['tipo_ent'] == 'AVISO_SUSPENSAO_LICITACAO'].reset_index(drop=True)\n",
    "tipo_ato1"
   ]
  },
  {
   "cell_type": "code",
   "execution_count": 5,
   "metadata": {},
   "outputs": [
    {
     "data": {
      "text/plain": [
       "0     AVISO DE SUSPENSAO PREGAO ELETRONICO POR SRP N...\n",
       "1     AVISO DE SUSPENSAO CONCORRENCIA No 02/2018 O M...\n",
       "2     AVISO DE SUSPENSAO DE LICITACAO PREGAO ELETRON...\n",
       "3     AVISO DE SUSPENSAO DE LICITACAO PREGAO ELETRON...\n",
       "4     AVISO DE SUSPENSAO DE LICITACAO LIC ALIENACAO ...\n",
       "                            ...                        \n",
       "63    AVISO DE SUSPENSÃO E NOVA DATA DO PREGÃO ELETR...\n",
       "64    AVISO DE SUSPENSÃO E NOVA DATA DO PREGÃO ELETR...\n",
       "65    AVISO DE SUSPENSÃO PREGÃO ELETRÔNICO POR SRP N...\n",
       "66    AVISO DE SUSPENSÃO CONCORRÊNCIA PARA CONCESSÃO...\n",
       "67    AVISO DE REALIZAÇÃO DE EVENTO DE SUSPENSÃO PRE...\n",
       "Name: texto, Length: 68, dtype: object"
      ]
     },
     "execution_count": 5,
     "metadata": {},
     "output_type": "execute_result"
    }
   ],
   "source": [
    "#criando novo dataframe somente com os textos\n",
    "df = tipo_ato1['texto'].reset_index(drop=True)\n",
    "df"
   ]
  },
  {
   "cell_type": "code",
   "execution_count": 6,
   "metadata": {},
   "outputs": [
    {
     "data": {
      "text/plain": [
       "0     AVISO DE SUSPENSAO PREGAO ELETRONICO POR SRP N...\n",
       "1     AVISO DE SUSPENSAO CONCORRENCIA No 02/2018 O M...\n",
       "2     AVISO DE SUSPENSAO DE LICITACAO PREGAO ELETRON...\n",
       "3     AVISO DE SUSPENSAO DE LICITACAO PREGAO ELETRON...\n",
       "4     AVISO DE SUSPENSAO DE LICITACAO LIC ALIENACAO ...\n",
       "                            ...                        \n",
       "63    AVISO DE SUSPENSÃO E NOVA DATA DO PREGÃO ELETR...\n",
       "64    AVISO DE SUSPENSÃO E NOVA DATA DO PREGÃO ELETR...\n",
       "65    AVISO DE SUSPENSÃO PREGÃO ELETRÔNICO POR SRP N...\n",
       "66    AVISO DE SUSPENSÃO CONCORRÊNCIA PARA CONCESSÃO...\n",
       "67    AVISO DE REALIZAÇÃO DE EVENTO DE SUSPENSÃO PRE...\n",
       "Name: texto, Length: 68, dtype: object"
      ]
     },
     "execution_count": 6,
     "metadata": {},
     "output_type": "execute_result"
    }
   ],
   "source": [
    "#criando novo dataframe somente com os textos\n",
    "df = tipo_ato1['texto'].reset_index(drop=True)\n",
    "df"
   ]
  },
  {
   "cell_type": "code",
   "execution_count": 7,
   "metadata": {},
   "outputs": [
    {
     "name": "stdout",
     "output_type": "stream",
     "text": [
      "tipo_ent\n",
      "AVISO_SUSPENSAO_LICITACAO    68\n",
      "Name: id_ato, dtype: int64\n"
     ]
    }
   ],
   "source": [
    "\n",
    "result = tipo_ato1.groupby('tipo_ent')['id_ato'].nunique()\n",
    "print(result)\n",
    "#print(result.sort_values(ascending=False))\n"
   ]
  },
  {
   "cell_type": "code",
   "execution_count": 8,
   "metadata": {},
   "outputs": [],
   "source": [
    "#df = [\"EXTRATO DO CONTRATO No 11/2019 PROCESSO: 00390-00003006/2019-92. ESPECIE: Contrato de Aquisicao de Bens pelo Distrito Federal no 11/2019. PARTES: Secretaria de Estado de Desenvolvimento Urbano e Habitacao do Distrito Federal - SEDUH/DF e INDUSTRIA DE AGUA MINERAL IBIA LTDA. DO OBJETO: Aquisicao de agua potavel de mesa sem gas e garrafao retornavel, destinados ao atendimento desta pasta, conforme demais especiGcacoes e condicoes estabelecidas no Termo de Referencia Anexo I do Edital de Pregao Eletronico no 0058/2018 - SCG/SEPLAG, da Proposta da empresa INDUSTRIA DE AGUA MINERAL IBIA LTDA de 11/06/2018 e da Lei no 8.666, de 21 de junho de 1993, que passam a integrar o presente Termo. DO VALOR: R$ 11.661,00 (onze mil, seiscentos e sessenta e um reais) conforme Nota de Empenho no 2019NE00180, emitida em 18/07/2019. Dotacao Orcamentaria P.T 15.122.6001.8517.0131 - Natureza da Despesa: 3390.30 - Fonte de Recursos: 100. DO PRAZO DE VIGENCIA: O Contrato tera vigencia de 06 (seis) meses a contar do dia 07/08/2019. DATA DE ASSINATURA: 22/07/2019. SIGNATARIOS: Pelo Distrito Federal: Mateus Leandro de Oliveira, na qualidade de Secretario de Estado. Pela Contratada: Eduardo Barros de Queiroz Rodrigues, na qualidade de Socio Administrador.\", \"EXTRATO DO CONTRATO Nº 06/2021 Processo: 00139-00001275/2021-00. Partes: DF - ADMINISTRAÇÃO REGIONAL DO CRUZEIRO X COMERCIAL DE ALIMENTOS PARK SUL. Objeto: O presente contrato tem por objeto a contratação de empresa especializada na área de alimentação para confecção e fornecimento de 50 KG DE BOLO CONFEITADO TIPO ANIVERSÁRIO COM MASSA PÃO DE LÓ COM RECHEIO DE BABA DE MOÇA, BEIJINHO OU DOCE DE LEITE E COBERTURA DE CHANTILLY DECORADO COM ACABAMENTO, no evento de comemoração ao aniversário de 62 anos do Cruzeiro no dia 30/11/2021. Valor do Contrato: R$ 2.000,00 (Dois Mil Reais). Dotação orçamentária: Unidade Orçamentária: 190113. Programa de Trabalho: 13.392.6219.3678.0136 . Natureza da Despesa: 339039. Fonte de Recursos: 120. Nota de Empenho: 2021NE00259. Valor do Empenho Inicial: R$ 2.000,00 (Dois Mil Reais), emitida em 26/11/2021 sob o evento 400091, na Modalidade 1   Ordinário. Fundamento Legal: Art. 24 da Lei nº 8.666/1993. Data da Assinatura: 29/11/2021. Signatários: Pelo DISTRITO FEDERAL: LUIZ EDUARDO GOMES DE PAULA PESSOA, na qualidade de Administrador Regional do Cruzeiro; pela COMERCIAL DE ALIMENTOS PARK SUL: GIVANILDES DE AGUIAR MORAIS, na qualidade de Gerente Geral.\"] "
   ]
  },
  {
   "cell_type": "code",
   "execution_count": 9,
   "metadata": {},
   "outputs": [],
   "source": [
    "# CODIGO RESPONSAVEL PELA LIMPEZA DO TEXTO DA BASE OURO\n",
    "import re\n",
    "\n",
    "df1 =[]\n",
    "\n",
    "for i in df:\n",
    "    i = i.replace(\"\\n\", \" \")\n",
    "    i = re.sub('xx[a-z]{1,10}', '', i)\n",
    "    #i = i.replace(r\"xx[a-z]{1,10}\",\"\")\n",
    "    aux = ' '.join(i.split())\n",
    "    #print(aux)\n",
    "    df1.append(aux)"
   ]
  },
  {
   "cell_type": "code",
   "execution_count": 10,
   "metadata": {},
   "outputs": [
    {
     "name": "stderr",
     "output_type": "stream",
     "text": [
      "/Users/lucelia/Documents/GitHub/experiments/members/lucelia/venv/lib/python3.9/site-packages/spacy/language.py:1895: UserWarning: [W123] Argument disable with value ['ner', 'lemmatizer'] is used instead of ['senter'] as specified in the config. Be aware that this might affect other components in your pipeline.\n",
      "  warnings.warn(\n"
     ]
    }
   ],
   "source": [
    "# Carregando nlp do spacy em pt-br sem o ner e o lemmatizer\n",
    "nlp = spacy.load('pt_core_news_sm', disable=[\"ner\", \"lemmatizer\"])\n",
    "docs = list(nlp.pipe(df1))"
   ]
  },
  {
   "cell_type": "code",
   "execution_count": 18,
   "metadata": {},
   "outputs": [
    {
     "name": "stdout",
     "output_type": "stream",
     "text": [
      "01/2018 1\n",
      "01/2018 3\n"
     ]
    },
    {
     "data": {
      "text/html": [
       "<span class=\"tex2jax_ignore\"><div class=\"entities\" style=\"line-height: 2.5; direction: ltr\">AVISO DE SUSPENSAO \n",
       "<mark class=\"entity\" style=\"background: #ddd; padding: 0.45em 0.6em; margin: 0 0.25em; line-height: 1; border-radius: 0.35em;\">\n",
       "    PREGAO ELETRONICO\n",
       "    <span style=\"font-size: 0.8em; font-weight: bold; line-height: 1; border-radius: 0.35em; vertical-align: middle; margin-left: 0.5rem\">modalidade_licitacao</span>\n",
       "</mark>\n",
       " POR SRP No \n",
       "<mark class=\"entity\" style=\"background: #ddd; padding: 0.45em 0.6em; margin: 0 0.25em; line-height: 1; border-radius: 0.35em;\">\n",
       "    459/2018\n",
       "    <span style=\"font-size: 0.8em; font-weight: bold; line-height: 1; border-radius: 0.35em; vertical-align: middle; margin-left: 0.5rem\">numero_licitacao</span>\n",
       "</mark>\n",
       " - UASG 926119 A Pregoeira da Central de Compras/SUAG, da Secretaria de Estado de Saude do Distrito Federal, comunica a suspensao da licitacao supracitada, por acatar a impugnacao apresentada. LARISSA ALVIM DE OLIVEIRA</div></span>"
      ],
      "text/plain": [
       "<IPython.core.display.HTML object>"
      ]
     },
     "metadata": {},
     "output_type": "display_data"
    },
    {
     "data": {
      "text/html": [
       "<span class=\"tex2jax_ignore\"><div class=\"entities\" style=\"line-height: 2.5; direction: ltr\">AVISO DE SUSPENSAO \n",
       "<mark class=\"entity\" style=\"background: #ddd; padding: 0.45em 0.6em; margin: 0 0.25em; line-height: 1; border-radius: 0.35em;\">\n",
       "    CONCORRENCIA\n",
       "    <span style=\"font-size: 0.8em; font-weight: bold; line-height: 1; border-radius: 0.35em; vertical-align: middle; margin-left: 0.5rem\">modalidade_licitacao</span>\n",
       "</mark>\n",
       " No \n",
       "<mark class=\"entity\" style=\"background: #ddd; padding: 0.45em 0.6em; margin: 0 0.25em; line-height: 1; border-radius: 0.35em;\">\n",
       "    02/2018\n",
       "    <span style=\"font-size: 0.8em; font-weight: bold; line-height: 1; border-radius: 0.35em; vertical-align: middle; margin-left: 0.5rem\">numero_licitacao</span>\n",
       "</mark>\n",
       " O METRO-DF, por meio do Presidente da Comissao Especial de Licitacao, comunica a suspensao sine die da \n",
       "<mark class=\"entity\" style=\"background: #ddd; padding: 0.45em 0.6em; margin: 0 0.25em; line-height: 1; border-radius: 0.35em;\">\n",
       "    Concorrencia\n",
       "    <span style=\"font-size: 0.8em; font-weight: bold; line-height: 1; border-radius: 0.35em; vertical-align: middle; margin-left: 0.5rem\">modalidade_licitacao</span>\n",
       "</mark>\n",
       " no \n",
       "<mark class=\"entity\" style=\"background: #ddd; padding: 0.45em 0.6em; margin: 0 0.25em; line-height: 1; border-radius: 0.35em;\">\n",
       "    02/2018\n",
       "    <span style=\"font-size: 0.8em; font-weight: bold; line-height: 1; border-radius: 0.35em; vertical-align: middle; margin-left: 0.5rem\">numero_licitacao</span>\n",
       "</mark>\n",
       ", cujo objeto e a contratacao de empresa para execucao de Obras Civis para Expansao da Linha 1 - Trecho Samambaia do METRO-DF, conforme processo n.o \n",
       "<mark class=\"entity\" style=\"background: #ddd; padding: 0.45em 0.6em; margin: 0 0.25em; line-height: 1; border-radius: 0.35em;\">\n",
       "    00097-00004868/2018- 01\n",
       "    <span style=\"font-size: 0.8em; font-weight: bold; line-height: 1; border-radius: 0.35em; vertical-align: middle; margin-left: 0.5rem\">processo_gdf</span>\n",
       "</mark>\n",
       ", cuja data da sessao estava prevista para o dia 21/11/2018. A suspensao se da por forca da Decisao no 5531/2018 - TCDF. ANDERSON LUIZ SENNA COSTA Presidente da Comissao</div></span>"
      ],
      "text/plain": [
       "<IPython.core.display.HTML object>"
      ]
     },
     "metadata": {},
     "output_type": "display_data"
    },
    {
     "data": {
      "text/html": [
       "<span class=\"tex2jax_ignore\"><div class=\"entities\" style=\"line-height: 2.5; direction: ltr\">AVISO DE SUSPENSAO DE LICITACAO \n",
       "<mark class=\"entity\" style=\"background: #ddd; padding: 0.45em 0.6em; margin: 0 0.25em; line-height: 1; border-radius: 0.35em;\">\n",
       "    PREGAO ELETRONICO\n",
       "    <span style=\"font-size: 0.8em; font-weight: bold; line-height: 1; border-radius: 0.35em; vertical-align: middle; margin-left: 0.5rem\">modalidade_licitacao</span>\n",
       "</mark>\n",
       " No \n",
       "<mark class=\"entity\" style=\"background: #ddd; padding: 0.45em 0.6em; margin: 0 0.25em; line-height: 1; border-radius: 0.35em;\">\n",
       "    001-S001061/2018\n",
       "    <span style=\"font-size: 0.8em; font-weight: bold; line-height: 1; border-radius: 0.35em; vertical-align: middle; margin-left: 0.5rem\">numero_licitacao</span>\n",
       "</mark>\n",
       " A CEB DISTRIBUICAO S.A., por sua Comissao Permanente de Licitacao - CPL, situada no SIA Setor de Areas Publicas, Lote &quot;C&quot;, bloco &quot;H&quot;, Brasilia - DF, torna publico que, fica suspensa sine die, a abertura da licitacao em epigrafe. Demais informacoes, no horario das 08:00 as 12:00 e das 14:00 as 17:00 horas, pelos telefones: 3465-9021/9297 e fax 3465-9015. Brasilia/DF, 21 de novembro de 2018. WANDERLON ARAUJO DE CARVALHO Presidente da Comissao</div></span>"
      ],
      "text/plain": [
       "<IPython.core.display.HTML object>"
      ]
     },
     "metadata": {},
     "output_type": "display_data"
    },
    {
     "data": {
      "text/html": [
       "<span class=\"tex2jax_ignore\"><div class=\"entities\" style=\"line-height: 2.5; direction: ltr\">AVISO DE SUSPENSAO DE LICITACAO \n",
       "<mark class=\"entity\" style=\"background: #ddd; padding: 0.45em 0.6em; margin: 0 0.25em; line-height: 1; border-radius: 0.35em;\">\n",
       "    PREGAO ELETRONICO\n",
       "    <span style=\"font-size: 0.8em; font-weight: bold; line-height: 1; border-radius: 0.35em; vertical-align: middle; margin-left: 0.5rem\">modalidade_licitacao</span>\n",
       "</mark>\n",
       " No \n",
       "<mark class=\"entity\" style=\"background: #ddd; padding: 0.45em 0.6em; margin: 0 0.25em; line-height: 1; border-radius: 0.35em;\">\n",
       "    23/2019\n",
       "    <span style=\"font-size: 0.8em; font-weight: bold; line-height: 1; border-radius: 0.35em; vertical-align: middle; margin-left: 0.5rem\">numero_licitacao</span>\n",
       "</mark>\n",
       " Processo: \n",
       "<mark class=\"entity\" style=\"background: #ddd; padding: 0.45em 0.6em; margin: 0 0.25em; line-height: 1; border-radius: 0.35em;\">\n",
       "    00050-00003463/2019-65\n",
       "    <span style=\"font-size: 0.8em; font-weight: bold; line-height: 1; border-radius: 0.35em; vertical-align: middle; margin-left: 0.5rem\">processo_gdf</span>\n",
       "</mark>\n",
       ". Tipo: Menor Preco. Objeto: Contratacao de empresas especializadas para a prestacao de servico continuo, comum de preparacao e fornecimento de quatro alimentacoes diarias para pessoas privadas de liberdade, recolhidas no Centro de Progressao Penitenciaria (CPP), Penitenciaria Feminina do Distrito Federal (PFDF), unidades que compoem o Sistema Penitenciario do Distrito Federal. A SSP comunica a suspensao da abertura deste certame conforme Decisao Interlocutoria da 6a Vara de Fazenda Publica do DF no Mandado de Seguranca no 0710851-70.2019.8.07.0018. Brasilia/DF, 29 de outubro de 2019 GABRIELLA ALVES DA CUNHA Pregoeira</div></span>"
      ],
      "text/plain": [
       "<IPython.core.display.HTML object>"
      ]
     },
     "metadata": {},
     "output_type": "display_data"
    },
    {
     "data": {
      "text/html": [
       "<span class=\"tex2jax_ignore\"><div class=\"entities\" style=\"line-height: 2.5; direction: ltr\">AVISO DE SUSPENSAO DE LICITACAO LIC ALIENACAO CEB-D No 001-A01210/2019 Processo: \n",
       "<mark class=\"entity\" style=\"background: #ddd; padding: 0.45em 0.6em; margin: 0 0.25em; line-height: 1; border-radius: 0.35em;\">\n",
       "    00310-00013624/2019-39\n",
       "    <span style=\"font-size: 0.8em; font-weight: bold; line-height: 1; border-radius: 0.35em; vertical-align: middle; margin-left: 0.5rem\">processo_gdf</span>\n",
       "</mark>\n",
       ". Objeto: ALIENACAO DO TERRENO DE PROPRIEDADE DA CEB - CRUZEIRO. A CEB DISTRIBUICAO S.A., por sua Comissao Permanente de Licitacao-CPL, situada no SIA Setor de Areas Publicas, Lote &quot;C&quot;, Bloco &quot;H&quot;, Brasilia/DF, torna publico que esta suspensa a abertura da Licitacao em epigrafe. Demais informacoes pelo telefone: (61) 3465-9317. Brasilia/DF, 22 de novembro de 2019. MARCELO ANDRADE CRUZ Presidente da Comissao</div></span>"
      ],
      "text/plain": [
       "<IPython.core.display.HTML object>"
      ]
     },
     "metadata": {},
     "output_type": "display_data"
    },
    {
     "data": {
      "text/html": [
       "<span class=\"tex2jax_ignore\"><div class=\"entities\" style=\"line-height: 2.5; direction: ltr\">AVISO DE SUSPENSAO O Instituto do Cancer Infantil e Pediatria Especializada - Icipe torna publico a suspensao temporaria da empresa Cristal Distribuidora de Medicamentos Ltda - CNPJ 92.132.786/0001-19, em participar de cotacoes previas ou contratar com o Hospital da Crianca de Brasilia Jose Alencar pelo periodo de 01 (um) ano, a contar da publicacao. Este procedimento foi fundamentado no Decreto 33.390 de 06 de dezembro de 2011, que dispoe sobre a contratacao de obras, servicos e aquisicao de bens pelas Organizacoes Sociais qualificadas no ambito do Distrito Federal, no principio da previa e ampla defesa e foi motivado pelos reiterados atrasos no fornecimento de medicamentos e produtos para saude. Brasilia/DF, 01 de agosto de 2019. Nucleo de Planejamento e Logistica - NPL, Icipe/HCB.</div></span>"
      ],
      "text/plain": [
       "<IPython.core.display.HTML object>"
      ]
     },
     "metadata": {},
     "output_type": "display_data"
    },
    {
     "data": {
      "text/html": [
       "<span class=\"tex2jax_ignore\"><div class=\"entities\" style=\"line-height: 2.5; direction: ltr\">AVISO DE SUSPENSAO O Instituto do Cancer Infantil e Pediatria Especializada - Icipe torna publico a suspensao temporaria da empresa Meta Distribuidora de Medicamentos Ltda - CNPJ 15.797.759/0002-03, em participar de cotacoes previas ou contratar com o Hospital da Crianca de Brasilia Jose Alencar pelo periodo de 01 (um) ano, a contar da publicacao. Este procedimento foi fundamentado no Decreto 33.390 de 06 de dezembro de 2011, que dispoe sobre a contratacao de obras, servicos e aquisicao de bens pelas Organizacoes Sociais qualificadas no ambito do Distrito Federal, no principio da previa e ampla defesa e foi motivado pelos reiterados atrasos no fornecimento de medicamentos e produtos para saude. Brasilia/DF, 01 de agosto de 2019. Nucleo de Planejamento e Logistica - NPL, Icipe/HCB</div></span>"
      ],
      "text/plain": [
       "<IPython.core.display.HTML object>"
      ]
     },
     "metadata": {},
     "output_type": "display_data"
    },
    {
     "data": {
      "text/html": [
       "<span class=\"tex2jax_ignore\"><div class=\"entities\" style=\"line-height: 2.5; direction: ltr\">AVISO DE SUSPENSAO \n",
       "<mark class=\"entity\" style=\"background: #ddd; padding: 0.45em 0.6em; margin: 0 0.25em; line-height: 1; border-radius: 0.35em;\">\n",
       "    CONCORRENCIA\n",
       "    <span style=\"font-size: 0.8em; font-weight: bold; line-height: 1; border-radius: 0.35em; vertical-align: middle; margin-left: 0.5rem\">modalidade_licitacao</span>\n",
       "</mark>\n",
       " No \n",
       "<mark class=\"entity\" style=\"background: #ddd; padding: 0.45em 0.6em; margin: 0 0.25em; line-height: 1; border-radius: 0.35em;\">\n",
       "    001/\n",
       "    <span style=\"font-size: 0.8em; font-weight: bold; line-height: 1; border-radius: 0.35em; vertical-align: middle; margin-left: 0.5rem\">numero_licitacao</span>\n",
       "</mark>\n",
       "2018-CEL/SECOM A Secretaria de Estado de Comunicacao do Distrito Federal (SECOM), responsavel por processar e julgar a \n",
       "<mark class=\"entity\" style=\"background: #ddd; padding: 0.45em 0.6em; margin: 0 0.25em; line-height: 1; border-radius: 0.35em;\">\n",
       "    Concorrencia\n",
       "    <span style=\"font-size: 0.8em; font-weight: bold; line-height: 1; border-radius: 0.35em; vertical-align: middle; margin-left: 0.5rem\">modalidade_licitacao</span>\n",
       "</mark>\n",
       " em epigrafe, Considerando o disposto no Oficio no 87/2018-GAB DE TRANSICAO de 21/11/2018; Considerando o disposto no Oficio SEI-GDF No 192/2018 - TERRACAP/PRE de 04/12/2018; Considerando o disposto no Termo de Cooperacao No 02/2018 - SECOM/DF - TERRACAP, torna publico, com espeque na segunda parte do item 29.10 do Edital; e com base nas informacoes constantes do Processo SEI no \n",
       "<mark class=\"entity\" style=\"background: #ddd; padding: 0.45em 0.6em; margin: 0 0.25em; line-height: 1; border-radius: 0.35em;\">\n",
       "    00002-00007408/2018-9\n",
       "    <span style=\"font-size: 0.8em; font-weight: bold; line-height: 1; border-radius: 0.35em; vertical-align: middle; margin-left: 0.5rem\">processo_gdf</span>\n",
       "</mark>\n",
       ", que a \n",
       "<mark class=\"entity\" style=\"background: #ddd; padding: 0.45em 0.6em; margin: 0 0.25em; line-height: 1; border-radius: 0.35em;\">\n",
       "    Concorrencia\n",
       "    <span style=\"font-size: 0.8em; font-weight: bold; line-height: 1; border-radius: 0.35em; vertical-align: middle; margin-left: 0.5rem\">modalidade_licitacao</span>\n",
       "</mark>\n",
       " no \n",
       "<mark class=\"entity\" style=\"background: #ddd; padding: 0.45em 0.6em; margin: 0 0.25em; line-height: 1; border-radius: 0.35em;\">\n",
       "    001/\n",
       "    <span style=\"font-size: 0.8em; font-weight: bold; line-height: 1; border-radius: 0.35em; vertical-align: middle; margin-left: 0.5rem\">numero_licitacao</span>\n",
       "</mark>\n",
       "2018-SECOM, para contratacao de servicos de publicidade e propaganda para a TERRACAP, esta suspensa sine die. Brasilia-DF, 05 de dezembro de 2018 PAULO CEZAR CASTANHEIRO COELHO Secretario de Estado de Comunicacao</div></span>"
      ],
      "text/plain": [
       "<IPython.core.display.HTML object>"
      ]
     },
     "metadata": {},
     "output_type": "display_data"
    },
    {
     "data": {
      "text/html": [
       "<span class=\"tex2jax_ignore\"><div class=\"entities\" style=\"line-height: 2.5; direction: ltr\">AVISO DE SUSPENSAO \n",
       "<mark class=\"entity\" style=\"background: #ddd; padding: 0.45em 0.6em; margin: 0 0.25em; line-height: 1; border-radius: 0.35em;\">\n",
       "    PREGAO ELETRONICO\n",
       "    <span style=\"font-size: 0.8em; font-weight: bold; line-height: 1; border-radius: 0.35em; vertical-align: middle; margin-left: 0.5rem\">modalidade_licitacao</span>\n",
       "</mark>\n",
       " No \n",
       "<mark class=\"entity\" style=\"background: #ddd; padding: 0.45em 0.6em; margin: 0 0.25em; line-height: 1; border-radius: 0.35em;\">\n",
       "    481/2018\n",
       "    <span style=\"font-size: 0.8em; font-weight: bold; line-height: 1; border-radius: 0.35em; vertical-align: middle; margin-left: 0.5rem\">numero_licitacao</span>\n",
       "</mark>\n",
       " - UASG 926119 A Pregoeira da Central de Compras/SUAG, da Secretaria de Estado de Saude do Distrito Federal, comunica a suspensao da licitacao supracitada, para conclusao de analise de impugnacao. JULIANA ARAUJO E SOUZA</div></span>"
      ],
      "text/plain": [
       "<IPython.core.display.HTML object>"
      ]
     },
     "metadata": {},
     "output_type": "display_data"
    },
    {
     "data": {
      "text/html": [
       "<span class=\"tex2jax_ignore\"><div class=\"entities\" style=\"line-height: 2.5; direction: ltr\">AVISO DE SUSPENSAO DE LICITACAO \n",
       "<mark class=\"entity\" style=\"background: #ddd; padding: 0.45em 0.6em; margin: 0 0.25em; line-height: 1; border-radius: 0.35em;\">\n",
       "    PREGAO ELETRONICO\n",
       "    <span style=\"font-size: 0.8em; font-weight: bold; line-height: 1; border-radius: 0.35em; vertical-align: middle; margin-left: 0.5rem\">modalidade_licitacao</span>\n",
       "</mark>\n",
       " No \n",
       "<mark class=\"entity\" style=\"background: #ddd; padding: 0.45em 0.6em; margin: 0 0.25em; line-height: 1; border-radius: 0.35em;\">\n",
       "    32/2018\n",
       "    <span style=\"font-size: 0.8em; font-weight: bold; line-height: 1; border-radius: 0.35em; vertical-align: middle; margin-left: 0.5rem\">numero_licitacao</span>\n",
       "</mark>\n",
       " PROCESSO: \n",
       "<mark class=\"entity\" style=\"background: #ddd; padding: 0.45em 0.6em; margin: 0 0.25em; line-height: 1; border-radius: 0.35em;\">\n",
       "    0050-000653/2017\n",
       "    <span style=\"font-size: 0.8em; font-weight: bold; line-height: 1; border-radius: 0.35em; vertical-align: middle; margin-left: 0.5rem\">processo_gdf</span>\n",
       "</mark>\n",
       ". TIPO: Menor Preco. OBJETO: Contratacao de empresas especializadas para a prestacao de servico continuo, comum de preparacao e fornecimento de quatro alimentacoes diarias para pessoas privadas de liberdade, recolhidas no Centro de Detencao Provisoria (CDP), Penitenciaria do Distrito Federal I (PDF I), Penitenciaria do Distrito Federal II (PDF II), e Centro de Internamento e Reeducacao (CIR), unidades que compoem o Sistema Penitenciario do Distrito Federal, conforme especificacoes, condicoes e exigencias do Termo de Referencia que segue como Anexo I do Edital. A SSP comunica a suspensao sine die da abertura deste certame conforme decisao interlocutoria da 4a Vara de Fazenda Publica do DF no processo No 0711658-27.2018.8.07.0018. Brasilia/DF, 04 de dezembro de 2018 FRANKNEI DE OLIVEIRA RODRIGUES Coordenador</div></span>"
      ],
      "text/plain": [
       "<IPython.core.display.HTML object>"
      ]
     },
     "metadata": {},
     "output_type": "display_data"
    },
    {
     "data": {
      "text/html": [
       "<span class=\"tex2jax_ignore\"><div class=\"entities\" style=\"line-height: 2.5; direction: ltr\">AVISO DE SUSPENSAO \n",
       "<mark class=\"entity\" style=\"background: #ddd; padding: 0.45em 0.6em; margin: 0 0.25em; line-height: 1; border-radius: 0.35em;\">\n",
       "    PREGAO ELETRONICO\n",
       "    <span style=\"font-size: 0.8em; font-weight: bold; line-height: 1; border-radius: 0.35em; vertical-align: middle; margin-left: 0.5rem\">modalidade_licitacao</span>\n",
       "</mark>\n",
       " No \n",
       "<mark class=\"entity\" style=\"background: #ddd; padding: 0.45em 0.6em; margin: 0 0.25em; line-height: 1; border-radius: 0.35em;\">\n",
       "    20/2018\n",
       "    <span style=\"font-size: 0.8em; font-weight: bold; line-height: 1; border-radius: 0.35em; vertical-align: middle; margin-left: 0.5rem\">numero_licitacao</span>\n",
       "</mark>\n",
       " Processo: \n",
       "<mark class=\"entity\" style=\"background: #ddd; padding: 0.45em 0.6em; margin: 0 0.25em; line-height: 1; border-radius: 0.35em;\">\n",
       "    00055-00145115/2018-42\n",
       "    <span style=\"font-size: 0.8em; font-weight: bold; line-height: 1; border-radius: 0.35em; vertical-align: middle; margin-left: 0.5rem\">processo_gdf</span>\n",
       "</mark>\n",
       ". Comunico a suspensao do pregao a pedido da area tecnica para ajustes no Termo de Referencia (doc. SEI-GDF n 15876269). Objeto: Contratacao de leiloeiro profissional, regularmente matriculado na Junta Comercial do Distrito Federal, para prestacao de servico de logistica, avaliacao e alienacao dos bens moveis patrimoniais inserviveis pertencentes ao DETRAN/DF, assim como dos veiculos removidos ou recolhidos a qualquer titulo, por Orgaos e Entidades componentes do Sistema Nacional de Transito - SNT, na modalidade de \n",
       "<mark class=\"entity\" style=\"background: #ddd; padding: 0.45em 0.6em; margin: 0 0.25em; line-height: 1; border-radius: 0.35em;\">\n",
       "    leilao\n",
       "    <span style=\"font-size: 0.8em; font-weight: bold; line-height: 1; border-radius: 0.35em; vertical-align: middle; margin-left: 0.5rem\">modalidade_licitacao</span>\n",
       "</mark>\n",
       " publico, conforme especificacoes e quantitativos constantes no Termo de Referencia (Anexo A do Edital) l. Abertura: 5 de dezembro de 2018, as 14 horas. Valor total estimado: R$ 478.540,49 (quatrocentos e setenta e oito mil, quinhentos e quarenta reais e quarenta e nove centavos). As empresas e ou representantes que adquirirem o edital obrigam-se a acompanhar o Diario Oficial da Uniao sobre possiveis alteracoes. Mais informacoes na Gerencia de Licitacao - tel. (61) 3905-5979. Brasilia/DF, 05 de dezembro de 2018. PERCIVAL BISPO BIZERRA Pregoeiro</div></span>"
      ],
      "text/plain": [
       "<IPython.core.display.HTML object>"
      ]
     },
     "metadata": {},
     "output_type": "display_data"
    },
    {
     "data": {
      "text/html": [
       "<span class=\"tex2jax_ignore\"><div class=\"entities\" style=\"line-height: 2.5; direction: ltr\">AVISO DE SUSPENSAO O Instituto do Cancer Infantil e Pediatria Especializada - Icipe torna publico a suspensao temporaria da empresa D-Hosp Distribuidora Hospitalar Importacao e Exportacao Ltda - CNPJ 08.076.127/0012-59, em participar de cotacoes previas ou contratar com o Hospital da Crianca de Brasilia Jose Alencar pelo periodo de 01 (um) ano, a contar da publicacao. Este procedimento foi fundamentado no Decreto 33.390 de 06 de dezembro de 2011, que dispoe sobre a contratacao de obras, servicos e aquisicao de bens pelas Organizacoes Sociais qualificadas no ambito do Distrito Federal, no principio da previa e ampla defesa e foi motivado pela nao entrega dos Medicamentos solicitados. Brasilia/DF, 10 de outubro de 2019. Nucleo de Planejamento e Logistica - NPL, Icipe/HCB.</div></span>"
      ],
      "text/plain": [
       "<IPython.core.display.HTML object>"
      ]
     },
     "metadata": {},
     "output_type": "display_data"
    },
    {
     "data": {
      "text/html": [
       "<span class=\"tex2jax_ignore\"><div class=\"entities\" style=\"line-height: 2.5; direction: ltr\">AVISO DE SUSPENSAO \n",
       "<mark class=\"entity\" style=\"background: #ddd; padding: 0.45em 0.6em; margin: 0 0.25em; line-height: 1; border-radius: 0.35em;\">\n",
       "    PREGAO ELETRONICO\n",
       "    <span style=\"font-size: 0.8em; font-weight: bold; line-height: 1; border-radius: 0.35em; vertical-align: middle; margin-left: 0.5rem\">modalidade_licitacao</span>\n",
       "</mark>\n",
       " INTERNACIONAL No \n",
       "<mark class=\"entity\" style=\"background: #ddd; padding: 0.45em 0.6em; margin: 0 0.25em; line-height: 1; border-radius: 0.35em;\">\n",
       "    38/2019\n",
       "    <span style=\"font-size: 0.8em; font-weight: bold; line-height: 1; border-radius: 0.35em; vertical-align: middle; margin-left: 0.5rem\">numero_licitacao</span>\n",
       "</mark>\n",
       " A Pregoeira responsavel pelo certame, Processo: \n",
       "<mark class=\"entity\" style=\"background: #ddd; padding: 0.45em 0.6em; margin: 0 0.25em; line-height: 1; border-radius: 0.35em;\">\n",
       "    00052-00010607/2019-83\n",
       "    <span style=\"font-size: 0.8em; font-weight: bold; line-height: 1; border-radius: 0.35em; vertical-align: middle; margin-left: 0.5rem\">processo_gdf</span>\n",
       "</mark>\n",
       " cujo objeto e a aquisicao de 5.000 (cinco mil) kits compostos pelos seguintes itens: pistola nova e de primeiro uso, acompanhada de seu respectivo carregador, destinada ao uso individual, de porte, semiautomatica e de calibre 9x19mm; tres carregadores sobressalentes; um coldre velado; um coldre ostensivo; um porta-carregador duplo; um conjunto de manutencao/limpeza; uma maleta de transporte individual da pistola; e um manual de instrucoes em portugues brasileiro, conforme especificacoes e condicoes estabelecidas no termo de referencia constante do Anexo I do Edital, comunica a suspensao &quot;sine die&quot; da licitacao, para revisao do ato convocatorio. Maiores informacoes na CPL/PCDF fones: 3207-4071/4046 Brasilia/DF, 28 de novembro de 2019 LORELEI DE A. P. SANTOS FAUSTINO</div></span>"
      ],
      "text/plain": [
       "<IPython.core.display.HTML object>"
      ]
     },
     "metadata": {},
     "output_type": "display_data"
    },
    {
     "data": {
      "text/html": [
       "<span class=\"tex2jax_ignore\"><div class=\"entities\" style=\"line-height: 2.5; direction: ltr\">AVISO DE SUSPENSÃO \n",
       "<mark class=\"entity\" style=\"background: #ddd; padding: 0.45em 0.6em; margin: 0 0.25em; line-height: 1; border-radius: 0.35em;\">\n",
       "    PREGÃO ELETRÔNICO\n",
       "    <span style=\"font-size: 0.8em; font-weight: bold; line-height: 1; border-radius: 0.35em; vertical-align: middle; margin-left: 0.5rem\">modalidade_licitacao</span>\n",
       "</mark>\n",
       " Nº \n",
       "<mark class=\"entity\" style=\"background: #ddd; padding: 0.45em 0.6em; margin: 0 0.25em; line-height: 1; border-radius: 0.35em;\">\n",
       "    08/2021\n",
       "    <span style=\"font-size: 0.8em; font-weight: bold; line-height: 1; border-radius: 0.35em; vertical-align: middle; margin-left: 0.5rem\">numero_licitacao</span>\n",
       "</mark>\n",
       " - UASG 928082 Processo: \n",
       "<mark class=\"entity\" style=\"background: #ddd; padding: 0.45em 0.6em; margin: 0 0.25em; line-height: 1; border-radius: 0.35em;\">\n",
       "    04026-00012872/2021-06\n",
       "    <span style=\"font-size: 0.8em; font-weight: bold; line-height: 1; border-radius: 0.35em; vertical-align: middle; margin-left: 0.5rem\">processo_gdf</span>\n",
       "</mark>\n",
       ". Tipo: Menor preço. Objeto: Registro de preço para futura contratação de empresa especializada em prestação de serviços de locação de equipamentos e software de monitoração e rastreamento eletrônico de pessoas vinculadas a procedimentos judiciais no TJDFT - Tribunal de Justiça do Distrito Federal e Territórios, STJ - Superior Tribunal de Justiça, TRF1 - Tribunal Regional Federal 1º Região e STF - Supremo Tribunal Federal, por meio de dispositivo eletrônico portátil, em material não flexível, resistente a atos de violação acidental ou dolosa, tipo tornozeleiras e dispositivos eletrônicos de segurança preventiva, conforme especificações, condições, quantidades e exigências estabelecidas no Termo de Referência, Anexo do Edital, para a Secretaria de Estado de Administração Penitenciária do Distrito Federal - SEAPE. A SUAG informa a SUSPENSÃO da abertura da licitação, cuja abertura foi publicada no DODF nº 166, de 1º de setembro de 2021, tendo em vista a necessidade de revisão de especificação. A nova data de abertura da licitação será comunicada por meio de publicação na imprensa oficial ou www.seape.df.gov.br/licitacao. ROSIMEIRA PAIVA DA SILVA Subsecretária</div></span>"
      ],
      "text/plain": [
       "<IPython.core.display.HTML object>"
      ]
     },
     "metadata": {},
     "output_type": "display_data"
    },
    {
     "data": {
      "text/html": [
       "<span class=\"tex2jax_ignore\"><div class=\"entities\" style=\"line-height: 2.5; direction: ltr\">AVISO DE SUSPENSÃO (UASG) 926523 \n",
       "<mark class=\"entity\" style=\"background: #ddd; padding: 0.45em 0.6em; margin: 0 0.25em; line-height: 1; border-radius: 0.35em;\">\n",
       "    PREGÃO ELETRÔNICO\n",
       "    <span style=\"font-size: 0.8em; font-weight: bold; line-height: 1; border-radius: 0.35em; vertical-align: middle; margin-left: 0.5rem\">modalidade_licitacao</span>\n",
       "</mark>\n",
       " Nº \n",
       "<mark class=\"entity\" style=\"background: #ddd; padding: 0.45em 0.6em; margin: 0 0.25em; line-height: 1; border-radius: 0.35em;\">\n",
       "    10/2021\n",
       "    <span style=\"font-size: 0.8em; font-weight: bold; line-height: 1; border-radius: 0.35em; vertical-align: middle; margin-left: 0.5rem\">numero_licitacao</span>\n",
       "</mark>\n",
       " O Governo do Distrito Federal por meio da SECRETARIA DE ESTADO DA AGRICULTURA, ABASTECIMENTO E DESENVOLVIMENTO RURAL DO DISTRITO FEDERAL, torna público que, suspenderá a licitação em razão de não ter sido possível respostas aos pedidos de esclarecimentos no prazo previsto em Edital de 2 dias: LICITAÇÃO do tipo, Menor Preço, na modalidade de PREGÃO na forma ELETRÔNICA, com previsão para 25/11/2021, 09h30min, horário de Brasília, processo \n",
       "<mark class=\"entity\" style=\"background: #ddd; padding: 0.45em 0.6em; margin: 0 0.25em; line-height: 1; border-radius: 0.35em;\">\n",
       "    00070-00000738/2021-59\n",
       "    <span style=\"font-size: 0.8em; font-weight: bold; line-height: 1; border-radius: 0.35em; vertical-align: middle; margin-left: 0.5rem\">processo_gdf</span>\n",
       "</mark>\n",
       ", que será realizado de acordo com a Lei nº 10.520, de 17 de julho de 2002, e, subsidiariamente, com Lei nº 8.666, de 21 de junho de 1993, não sendo aplicável a Lei nº 14.133, de 1º de abril de 2021, observado o art. 191 desta Norma. OBJETO: Contratação de empresa especializada para elaboração de diagnóstico da situação ambiental de 97 nascentes situadas na região da Serrinha do Paranoá, na Bacia Hidrográfica do Paranoá, com indicação das ações necessárias à recuperação ambiental das referidas nascentes, de acordo com o detalhamento descrito no item 4, do Termo de Referência, com valor Total estimado de R$ 136.447,25 (cento e trinta e seis mil quatrocentos e quarenta e sete reais e vinte e cinco centavos). Após decisão será agendado nova data de abertura com prazo mínimo de 8 (oito) dias úteis para reapresentação das propostas já inseridas. O aviso de suspensão poderá ser retirado a partir da sua publicação no endereço: www.comprasgovernamentais.gov.br. e portal da SEAGRI/DF, www.agricultura.df.gov.br, Edital . NATANAEL FÉLIX DOS SANTOS Pregoeiro</div></span>"
      ],
      "text/plain": [
       "<IPython.core.display.HTML object>"
      ]
     },
     "metadata": {},
     "output_type": "display_data"
    },
    {
     "data": {
      "text/html": [
       "<span class=\"tex2jax_ignore\"><div class=\"entities\" style=\"line-height: 2.5; direction: ltr\">AVISO DE SUSPENSÃO DO \n",
       "<mark class=\"entity\" style=\"background: #ddd; padding: 0.45em 0.6em; margin: 0 0.25em; line-height: 1; border-radius: 0.35em;\">\n",
       "    PREGÃO ELETRÔNICO\n",
       "    <span style=\"font-size: 0.8em; font-weight: bold; line-height: 1; border-radius: 0.35em; vertical-align: middle; margin-left: 0.5rem\">modalidade_licitacao</span>\n",
       "</mark>\n",
       " Nº \n",
       "<mark class=\"entity\" style=\"background: #ddd; padding: 0.45em 0.6em; margin: 0 0.25em; line-height: 1; border-radius: 0.35em;\">\n",
       "    70/2021\n",
       "    <span style=\"font-size: 0.8em; font-weight: bold; line-height: 1; border-radius: 0.35em; vertical-align: middle; margin-left: 0.5rem\">numero_licitacao</span>\n",
       "</mark>\n",
       " O BRB - BANCO DE BRASÍLIA S.A., torna pública a suspensão do \n",
       "<mark class=\"entity\" style=\"background: #ddd; padding: 0.45em 0.6em; margin: 0 0.25em; line-height: 1; border-radius: 0.35em;\">\n",
       "    Pregão Eletrônico\n",
       "    <span style=\"font-size: 0.8em; font-weight: bold; line-height: 1; border-radius: 0.35em; vertical-align: middle; margin-left: 0.5rem\">modalidade_licitacao</span>\n",
       "</mark>\n",
       " nº \n",
       "<mark class=\"entity\" style=\"background: #ddd; padding: 0.45em 0.6em; margin: 0 0.25em; line-height: 1; border-radius: 0.35em;\">\n",
       "    70/2021\n",
       "    <span style=\"font-size: 0.8em; font-weight: bold; line-height: 1; border-radius: 0.35em; vertical-align: middle; margin-left: 0.5rem\">numero_licitacao</span>\n",
       "</mark>\n",
       ". Objeto: Contratação de empresa especializada de vigilância e segurança armada do patrimônio nas dependências do BRB localizadas no DF REGIÃO I, conforme condições do edital. Motivo: Despacho Singular nº 14/2022-MA/TCDF. UASG: 925008. Processo \n",
       "<mark class=\"entity\" style=\"background: #ddd; padding: 0.45em 0.6em; margin: 0 0.25em; line-height: 1; border-radius: 0.35em;\">\n",
       "    1.047/2021\n",
       "    <span style=\"font-size: 0.8em; font-weight: bold; line-height: 1; border-radius: 0.35em; vertical-align: middle; margin-left: 0.5rem\">processo_gdf</span>\n",
       "</mark>\n",
       ". RAUNI OKUBO BRITO Pregoeiro</div></span>"
      ],
      "text/plain": [
       "<IPython.core.display.HTML object>"
      ]
     },
     "metadata": {},
     "output_type": "display_data"
    },
    {
     "data": {
      "text/html": [
       "<span class=\"tex2jax_ignore\"><div class=\"entities\" style=\"line-height: 2.5; direction: ltr\">AVISO DE SUSPENSÃO \n",
       "<mark class=\"entity\" style=\"background: #ddd; padding: 0.45em 0.6em; margin: 0 0.25em; line-height: 1; border-radius: 0.35em;\">\n",
       "    PREGÃO ELETRÔNICO\n",
       "    <span style=\"font-size: 0.8em; font-weight: bold; line-height: 1; border-radius: 0.35em; vertical-align: middle; margin-left: 0.5rem\">modalidade_licitacao</span>\n",
       "</mark>\n",
       " Nº \n",
       "<mark class=\"entity\" style=\"background: #ddd; padding: 0.45em 0.6em; margin: 0 0.25em; line-height: 1; border-radius: 0.35em;\">\n",
       "    16/2021\n",
       "    <span style=\"font-size: 0.8em; font-weight: bold; line-height: 1; border-radius: 0.35em; vertical-align: middle; margin-left: 0.5rem\">numero_licitacao</span>\n",
       "</mark>\n",
       " UASG 928082 Processo: \n",
       "<mark class=\"entity\" style=\"background: #ddd; padding: 0.45em 0.6em; margin: 0 0.25em; line-height: 1; border-radius: 0.35em;\">\n",
       "    04026-00001946/2021-71\n",
       "    <span style=\"font-size: 0.8em; font-weight: bold; line-height: 1; border-radius: 0.35em; vertical-align: middle; margin-left: 0.5rem\">processo_gdf</span>\n",
       "</mark>\n",
       ". TIPO: Menor preço. OBJETO: Registro de Preços para a aquisição de ALGEMAS a fim de atender às necessidades da Secretaria de Administração Penitenciária do Distrito Federal (SEAPE) no que tange ao fornecimento de equipamento de menor potencial ofensivo essencial à segurança das escoltas e, consequentemente, garantir a qualidade e eficiência dos serviços prestados ao público assistido. A SUAG informa a SUSPENSÃO da abertura da licitação, cuja abertura foi publicada no DODF Nº 220, de 25/11/2021, tendo em vista a necessidade de revisão de especificação. A nova data de abertura da licitação será comunicada por meio de publicação na imprensa oficial ou www.seape.df.gov.br/licitacao. ROSIMEIRE PAIVA DA SILVA Subsecretária</div></span>"
      ],
      "text/plain": [
       "<IPython.core.display.HTML object>"
      ]
     },
     "metadata": {},
     "output_type": "display_data"
    },
    {
     "data": {
      "text/html": [
       "<span class=\"tex2jax_ignore\"><div class=\"entities\" style=\"line-height: 2.5; direction: ltr\">AVISO DE SUSPENSÃO \n",
       "<mark class=\"entity\" style=\"background: #ddd; padding: 0.45em 0.6em; margin: 0 0.25em; line-height: 1; border-radius: 0.35em;\">\n",
       "    PREGÃO ELETRÔNICO\n",
       "    <span style=\"font-size: 0.8em; font-weight: bold; line-height: 1; border-radius: 0.35em; vertical-align: middle; margin-left: 0.5rem\">modalidade_licitacao</span>\n",
       "</mark>\n",
       " POR SRP Nº \n",
       "<mark class=\"entity\" style=\"background: #ddd; padding: 0.45em 0.6em; margin: 0 0.25em; line-height: 1; border-radius: 0.35em;\">\n",
       "    444/2021\n",
       "    <span style=\"font-size: 0.8em; font-weight: bold; line-height: 1; border-radius: 0.35em; vertical-align: middle; margin-left: 0.5rem\">numero_licitacao</span>\n",
       "</mark>\n",
       " - UASG 926119 O Pregoeiro da Central de Compras/SUAG, da Secretaria de Estado de Saúde do Distrito Federal, comunica a suspensão da licitação supracitada, a qual tem como objeto a aquisição de Equipamentos de Oftalmologia para atender as necessidades da Secretaria de Saúde DF, conforme especificações e quantitativos constantes no Anexo I do Edital. (Processo \n",
       "<mark class=\"entity\" style=\"background: #ddd; padding: 0.45em 0.6em; margin: 0 0.25em; line-height: 1; border-radius: 0.35em;\">\n",
       "    00060-00169477/2017-41)\n",
       "    <span style=\"font-size: 0.8em; font-weight: bold; line-height: 1; border-radius: 0.35em; vertical-align: middle; margin-left: 0.5rem\">processo_gdf</span>\n",
       "</mark>\n",
       ", para avaliação dos questionamentos de impugnação. PEDRO PAULO B.D.C. FLEURY</div></span>"
      ],
      "text/plain": [
       "<IPython.core.display.HTML object>"
      ]
     },
     "metadata": {},
     "output_type": "display_data"
    },
    {
     "data": {
      "text/html": [
       "<span class=\"tex2jax_ignore\"><div class=\"entities\" style=\"line-height: 2.5; direction: ltr\">AVISO DE SUSPENSÃO DE LICITAÇÃO \n",
       "<mark class=\"entity\" style=\"background: #ddd; padding: 0.45em 0.6em; margin: 0 0.25em; line-height: 1; border-radius: 0.35em;\">\n",
       "    PREGÃO ELETRÔNICO\n",
       "    <span style=\"font-size: 0.8em; font-weight: bold; line-height: 1; border-radius: 0.35em; vertical-align: middle; margin-left: 0.5rem\">modalidade_licitacao</span>\n",
       "</mark>\n",
       " Nº \n",
       "<mark class=\"entity\" style=\"background: #ddd; padding: 0.45em 0.6em; margin: 0 0.25em; line-height: 1; border-radius: 0.35em;\">\n",
       "    37/2021\n",
       "    <span style=\"font-size: 0.8em; font-weight: bold; line-height: 1; border-radius: 0.35em; vertical-align: middle; margin-left: 0.5rem\">numero_licitacao</span>\n",
       "</mark>\n",
       " Processo: \n",
       "<mark class=\"entity\" style=\"background: #ddd; padding: 0.45em 0.6em; margin: 0 0.25em; line-height: 1; border-radius: 0.35em;\">\n",
       "    00010.00001572/2021-10\n",
       "    <span style=\"font-size: 0.8em; font-weight: bold; line-height: 1; border-radius: 0.35em; vertical-align: middle; margin-left: 0.5rem\">processo_gdf</span>\n",
       "</mark>\n",
       ". Tipo: Menor Preço. Modo de Disputa: Aberto. Objeto: Aquisição de bens de consumo (Colchões, Cobertores, Telhas e Lonas), para atender demanda da Defesa Civil do Distrito Federal, nos termos do artigo 22, do Decreto nº 10.024/2019, recepcionado pelo Decreto Distrital nº 40.205/2019, comunica a Suspensão da abertura deste Certame para retificação no Edital. Oportunamente será divulgada nova data de abertura, na forma da Lei. MARISTELA RODRIGUES FREIRE Pregoeira</div></span>"
      ],
      "text/plain": [
       "<IPython.core.display.HTML object>"
      ]
     },
     "metadata": {},
     "output_type": "display_data"
    },
    {
     "data": {
      "text/html": [
       "<span class=\"tex2jax_ignore\"><div class=\"entities\" style=\"line-height: 2.5; direction: ltr\">AVISO DE ABERTURA DE LICITAÇÃO Nº \n",
       "<mark class=\"entity\" style=\"background: #ddd; padding: 0.45em 0.6em; margin: 0 0.25em; line-height: 1; border-radius: 0.35em;\">\n",
       "    39/2021\n",
       "    <span style=\"font-size: 0.8em; font-weight: bold; line-height: 1; border-radius: 0.35em; vertical-align: middle; margin-left: 0.5rem\">numero_licitacao</span>\n",
       "</mark>\n",
       " - UASG 926334 RETIFICAÇÃO A Fundação Hemocentro de Brasília torna pública a SUSPENSÃO da Licitação em referência, em virtude de medidas administrativas. Objeto: contratação de empresa especializada para fornecimento de insumos, com disponibilização de equipamentos, em regime de locação, e serviços de manutenção, para realização dos exames de triagem imuno-hematológica, pelas metodologias de cartão-gel ou microplaca, pelo Laboratório de Imuno-hematologia de Doadores, da Fundação Hemocentro de Brasília - FHB, conforme condições, quantidades e exigências estabelecidas no Edital e seus anexos. Processo \n",
       "<mark class=\"entity\" style=\"background: #ddd; padding: 0.45em 0.6em; margin: 0 0.25em; line-height: 1; border-radius: 0.35em;\">\n",
       "    00063-00000984/2021-63\n",
       "    <span style=\"font-size: 0.8em; font-weight: bold; line-height: 1; border-radius: 0.35em; vertical-align: middle; margin-left: 0.5rem\">processo_gdf</span>\n",
       "</mark>\n",
       ". Oportunamente será divulgada, por meio dos mesmos veículos de comunicação, a nova data de abertura da licitação. Retificação da publicação do DODF nº 239, 23 de dezembro de 2021, página 49. HANLERY STEPHANNY DOS SANTOS Chefe, Substituta</div></span>"
      ],
      "text/plain": [
       "<IPython.core.display.HTML object>"
      ]
     },
     "metadata": {},
     "output_type": "display_data"
    },
    {
     "data": {
      "text/html": [
       "<span class=\"tex2jax_ignore\"><div class=\"entities\" style=\"line-height: 2.5; direction: ltr\">AVISO DE ABERTURA DE LICITAÇÃO Nº \n",
       "<mark class=\"entity\" style=\"background: #ddd; padding: 0.45em 0.6em; margin: 0 0.25em; line-height: 1; border-radius: 0.35em;\">\n",
       "    40/2021\n",
       "    <span style=\"font-size: 0.8em; font-weight: bold; line-height: 1; border-radius: 0.35em; vertical-align: middle; margin-left: 0.5rem\">numero_licitacao</span>\n",
       "</mark>\n",
       " - UASG 926334 RETIFICAÇÃO A Fundação Hemocentro de Brasília torna pública a SUSPENSÃO da Licitação em referência, em virtude de medidas administrativas. Objeto: aquisição de MATERIAIS TÉCNICOS, visando atender às demandas das áreas técnicas da FHB, conforme condições, quantidades e exigências estabelecidas no Edital e seus anexos. Processo \n",
       "<mark class=\"entity\" style=\"background: #ddd; padding: 0.45em 0.6em; margin: 0 0.25em; line-height: 1; border-radius: 0.35em;\">\n",
       "    00063-00005404/2021-24\n",
       "    <span style=\"font-size: 0.8em; font-weight: bold; line-height: 1; border-radius: 0.35em; vertical-align: middle; margin-left: 0.5rem\">processo_gdf</span>\n",
       "</mark>\n",
       ". Oportunamente será divulgada, por meio dos mesmos veículos de comunicação, a nova data de abertura da licitação. Retificação da publicação do DODF Nº 239, 23 de dezembro de 2021, página 49. HANLERY STEPHANNY DOS SANTOS Chefe, Substituta</div></span>"
      ],
      "text/plain": [
       "<IPython.core.display.HTML object>"
      ]
     },
     "metadata": {},
     "output_type": "display_data"
    },
    {
     "data": {
      "text/html": [
       "<span class=\"tex2jax_ignore\"><div class=\"entities\" style=\"line-height: 2.5; direction: ltr\">AVISO DE SUSPENSÃO E NOVA DATA DO \n",
       "<mark class=\"entity\" style=\"background: #ddd; padding: 0.45em 0.6em; margin: 0 0.25em; line-height: 1; border-radius: 0.35em;\">\n",
       "    PREGÃO ELETRÔNICO\n",
       "    <span style=\"font-size: 0.8em; font-weight: bold; line-height: 1; border-radius: 0.35em; vertical-align: middle; margin-left: 0.5rem\">modalidade_licitacao</span>\n",
       "</mark>\n",
       " Nº \n",
       "<mark class=\"entity\" style=\"background: #ddd; padding: 0.45em 0.6em; margin: 0 0.25em; line-height: 1; border-radius: 0.35em;\">\n",
       "    61/2021\n",
       "    <span style=\"font-size: 0.8em; font-weight: bold; line-height: 1; border-radius: 0.35em; vertical-align: middle; margin-left: 0.5rem\">numero_licitacao</span>\n",
       "</mark>\n",
       " O BRB torna pública a suspensão e a nova data de realização do \n",
       "<mark class=\"entity\" style=\"background: #ddd; padding: 0.45em 0.6em; margin: 0 0.25em; line-height: 1; border-radius: 0.35em;\">\n",
       "    Pregão Eletrônico\n",
       "    <span style=\"font-size: 0.8em; font-weight: bold; line-height: 1; border-radius: 0.35em; vertical-align: middle; margin-left: 0.5rem\">modalidade_licitacao</span>\n",
       "</mark>\n",
       " nº \n",
       "<mark class=\"entity\" style=\"background: #ddd; padding: 0.45em 0.6em; margin: 0 0.25em; line-height: 1; border-radius: 0.35em;\">\n",
       "    61/2021\n",
       "    <span style=\"font-size: 0.8em; font-weight: bold; line-height: 1; border-radius: 0.35em; vertical-align: middle; margin-left: 0.5rem\">numero_licitacao</span>\n",
       "</mark>\n",
       ". Nova data, horário e endereço eletrônico: 07/10/2021, às 8h (horário de Brasília), www.comprasgovernamentais.gov.br. Processo \n",
       "<mark class=\"entity\" style=\"background: #ddd; padding: 0.45em 0.6em; margin: 0 0.25em; line-height: 1; border-radius: 0.35em;\">\n",
       "    041.000.858/2021\n",
       "    <span style=\"font-size: 0.8em; font-weight: bold; line-height: 1; border-radius: 0.35em; vertical-align: middle; margin-left: 0.5rem\">processo_gdf</span>\n",
       "</mark>\n",
       ". CARLOS F L FAGUNDES Pregoeiro</div></span>"
      ],
      "text/plain": [
       "<IPython.core.display.HTML object>"
      ]
     },
     "metadata": {},
     "output_type": "display_data"
    },
    {
     "data": {
      "text/html": [
       "<span class=\"tex2jax_ignore\"><div class=\"entities\" style=\"line-height: 2.5; direction: ltr\">AVISO DE SUSPENSÃO &quot;SINE DIE&quot; \n",
       "<mark class=\"entity\" style=\"background: #ddd; padding: 0.45em 0.6em; margin: 0 0.25em; line-height: 1; border-radius: 0.35em;\">\n",
       "    PREGÃO ELETRÔNICO\n",
       "    <span style=\"font-size: 0.8em; font-weight: bold; line-height: 1; border-radius: 0.35em; vertical-align: middle; margin-left: 0.5rem\">modalidade_licitacao</span>\n",
       "</mark>\n",
       " Nº \n",
       "<mark class=\"entity\" style=\"background: #ddd; padding: 0.45em 0.6em; margin: 0 0.25em; line-height: 1; border-radius: 0.35em;\">\n",
       "    07/2021\n",
       "    <span style=\"font-size: 0.8em; font-weight: bold; line-height: 1; border-radius: 0.35em; vertical-align: middle; margin-left: 0.5rem\">numero_licitacao</span>\n",
       "</mark>\n",
       " A Companhia de Desenvolvimento Habitacional do Distrito Federal CODHAB torna público a suspensão Sine Die do \n",
       "<mark class=\"entity\" style=\"background: #ddd; padding: 0.45em 0.6em; margin: 0 0.25em; line-height: 1; border-radius: 0.35em;\">\n",
       "    Pregão Eletrônico\n",
       "    <span style=\"font-size: 0.8em; font-weight: bold; line-height: 1; border-radius: 0.35em; vertical-align: middle; margin-left: 0.5rem\">modalidade_licitacao</span>\n",
       "</mark>\n",
       " 07/2021, em andamento devido a abertura previamente agendada para o dia 20/09/2021, processo \n",
       "<mark class=\"entity\" style=\"background: #ddd; padding: 0.45em 0.6em; margin: 0 0.25em; line-height: 1; border-radius: 0.35em;\">\n",
       "    00392-00007567/2021-29\n",
       "    <span style=\"font-size: 0.8em; font-weight: bold; line-height: 1; border-radius: 0.35em; vertical-align: middle; margin-left: 0.5rem\">processo_gdf</span>\n",
       "</mark>\n",
       ", que tem por objeto Contratação de empresa ou consórcio de empresas para prestação de serviços técnicos para a elaboração de estudos e projetos para regularização fundiária e urbana da Área de Interesse Social - ARIS Sol Nascente, conforme descrito no Anexo I do Edital, face determinação do E. TCDF dada pelo Despacho Singular nº 293/2021 GCMA para suspensão até ulterior deliberação daquela Corte após analisar as diligências a serem promovidas pela Diretoria de Regularização de Interesse Social. Brasília/DF, 21 de setembro de 2021 FERNANDA VITORINO Pregoeira</div></span>"
      ],
      "text/plain": [
       "<IPython.core.display.HTML object>"
      ]
     },
     "metadata": {},
     "output_type": "display_data"
    },
    {
     "data": {
      "text/html": [
       "<span class=\"tex2jax_ignore\"><div class=\"entities\" style=\"line-height: 2.5; direction: ltr\">AVISO DE SUSPENSÃO - DATA DE ABERTURA DE PROPOSTA DE PREÇO \n",
       "<mark class=\"entity\" style=\"background: #ddd; padding: 0.45em 0.6em; margin: 0 0.25em; line-height: 1; border-radius: 0.35em;\">\n",
       "    CONCORRÊNCIA\n",
       "    <span style=\"font-size: 0.8em; font-weight: bold; line-height: 1; border-radius: 0.35em; vertical-align: middle; margin-left: 0.5rem\">modalidade_licitacao</span>\n",
       "</mark>\n",
       " N° 01/2021 Tornamos público, que, em cumprimento a determinação exarada no Mandado de Segurança n° 0706156-05.2021.8.07.0018, impetrado pelo Consórcio Remoção DF, fica suspensa a data de abertura da proposta de preços, marcada para 31/08/2021, publicado no Diário Oficial do Distrito Federal n° 160, de 24 de agosto de 2021, página 66. Brasília/DF, 30 de agosto de 2021 PAULO ROBERT SANTOS MACHADO Presidente da Comissão</div></span>"
      ],
      "text/plain": [
       "<IPython.core.display.HTML object>"
      ]
     },
     "metadata": {},
     "output_type": "display_data"
    },
    {
     "data": {
      "text/html": [
       "<span class=\"tex2jax_ignore\"><div class=\"entities\" style=\"line-height: 2.5; direction: ltr\">AVISO DE SUSPENSÃODE LICITAÇÃO \n",
       "<mark class=\"entity\" style=\"background: #ddd; padding: 0.45em 0.6em; margin: 0 0.25em; line-height: 1; border-radius: 0.35em;\">\n",
       "    PREGÃO ELETRÔNICO\n",
       "    <span style=\"font-size: 0.8em; font-weight: bold; line-height: 1; border-radius: 0.35em; vertical-align: middle; margin-left: 0.5rem\">modalidade_licitacao</span>\n",
       "</mark>\n",
       " Nº \n",
       "<mark class=\"entity\" style=\"background: #ddd; padding: 0.45em 0.6em; margin: 0 0.25em; line-height: 1; border-radius: 0.35em;\">\n",
       "    38/2021\n",
       "    <span style=\"font-size: 0.8em; font-weight: bold; line-height: 1; border-radius: 0.35em; vertical-align: middle; margin-left: 0.5rem\">numero_licitacao</span>\n",
       "</mark>\n",
       " Processo: \n",
       "<mark class=\"entity\" style=\"background: #ddd; padding: 0.45em 0.6em; margin: 0 0.25em; line-height: 1; border-radius: 0.35em;\">\n",
       "    00050-00000150/2021-70\n",
       "    <span style=\"font-size: 0.8em; font-weight: bold; line-height: 1; border-radius: 0.35em; vertical-align: middle; margin-left: 0.5rem\">processo_gdf</span>\n",
       "</mark>\n",
       ". TIPO: Menor Preço. MODO DE DISPUTA: Aberto. OBJETO: Registro de Preços para eventual aquisição de câmeras IP móveis (PTZ), câmeras fixas e câmeras fixas com LPR, sob demanda para aplicação no Projeto de Videomonitoramento Urbano do Distrito Federal (PVU) e execução do objeto do Convênio nº 905.051/2020 firmado entre a União e o Distrito Federal. A SSP, nos termos do artigo 22, do Decreto nº 10.024/2019, recepcionado pelo Decreto distrital nº 40.205/2019, comunica a Suspensão da abertura deste Certame para retificação no Edital, em função de pedido de impugnação interposto. Oportunamente será divulgada nova data de abertura, na forma da Lei. Brasília/DF, 28 de dezembro de 2021 AMILCAR UBIRATAN URACH VIEIRA Coordenador</div></span>"
      ],
      "text/plain": [
       "<IPython.core.display.HTML object>"
      ]
     },
     "metadata": {},
     "output_type": "display_data"
    },
    {
     "data": {
      "text/html": [
       "<span class=\"tex2jax_ignore\"><div class=\"entities\" style=\"line-height: 2.5; direction: ltr\">AVISO DE SUSPENSÃO DO \n",
       "<mark class=\"entity\" style=\"background: #ddd; padding: 0.45em 0.6em; margin: 0 0.25em; line-height: 1; border-radius: 0.35em;\">\n",
       "    PREGÃO ELETRÔNICO\n",
       "    <span style=\"font-size: 0.8em; font-weight: bold; line-height: 1; border-radius: 0.35em; vertical-align: middle; margin-left: 0.5rem\">modalidade_licitacao</span>\n",
       "</mark>\n",
       " Nº \n",
       "<mark class=\"entity\" style=\"background: #ddd; padding: 0.45em 0.6em; margin: 0 0.25em; line-height: 1; border-radius: 0.35em;\">\n",
       "    070/2021\n",
       "    <span style=\"font-size: 0.8em; font-weight: bold; line-height: 1; border-radius: 0.35em; vertical-align: middle; margin-left: 0.5rem\">numero_licitacao</span>\n",
       "</mark>\n",
       " O BRB - BANCO DE BRASÍLIA S.A. torna pública a suspensão do \n",
       "<mark class=\"entity\" style=\"background: #ddd; padding: 0.45em 0.6em; margin: 0 0.25em; line-height: 1; border-radius: 0.35em;\">\n",
       "    Pregão Eletrônico\n",
       "    <span style=\"font-size: 0.8em; font-weight: bold; line-height: 1; border-radius: 0.35em; vertical-align: middle; margin-left: 0.5rem\">modalidade_licitacao</span>\n",
       "</mark>\n",
       " nº \n",
       "<mark class=\"entity\" style=\"background: #ddd; padding: 0.45em 0.6em; margin: 0 0.25em; line-height: 1; border-radius: 0.35em;\">\n",
       "    070/2021\n",
       "    <span style=\"font-size: 0.8em; font-weight: bold; line-height: 1; border-radius: 0.35em; vertical-align: middle; margin-left: 0.5rem\">numero_licitacao</span>\n",
       "</mark>\n",
       ". Objeto: Contratação de empresa especializada de vigilância e segurança armada do patrimônio nas dependências do BRB localizadas no DF REGIÃO I, conforme condições do edital. Motivo: Despacho Singular nº 359/2021 GCMA/TCDF. UASG: 925008. Processo \n",
       "<mark class=\"entity\" style=\"background: #ddd; padding: 0.45em 0.6em; margin: 0 0.25em; line-height: 1; border-radius: 0.35em;\">\n",
       "    1.047/2021\n",
       "    <span style=\"font-size: 0.8em; font-weight: bold; line-height: 1; border-radius: 0.35em; vertical-align: middle; margin-left: 0.5rem\">processo_gdf</span>\n",
       "</mark>\n",
       ". RAUNI OKUBO BRITO Pregoeiro</div></span>"
      ],
      "text/plain": [
       "<IPython.core.display.HTML object>"
      ]
     },
     "metadata": {},
     "output_type": "display_data"
    },
    {
     "data": {
      "text/html": [
       "<span class=\"tex2jax_ignore\"><div class=\"entities\" style=\"line-height: 2.5; direction: ltr\">AVISO DE LICITAÇÃO \n",
       "<mark class=\"entity\" style=\"background: #ddd; padding: 0.45em 0.6em; margin: 0 0.25em; line-height: 1; border-radius: 0.35em;\">\n",
       "    PREGÃO ELETRÔNICO\n",
       "    <span style=\"font-size: 0.8em; font-weight: bold; line-height: 1; border-radius: 0.35em; vertical-align: middle; margin-left: 0.5rem\">modalidade_licitacao</span>\n",
       "</mark>\n",
       " Nº \n",
       "<mark class=\"entity\" style=\"background: #ddd; padding: 0.45em 0.6em; margin: 0 0.25em; line-height: 1; border-radius: 0.35em;\">\n",
       "    55/2021\n",
       "    <span style=\"font-size: 0.8em; font-weight: bold; line-height: 1; border-radius: 0.35em; vertical-align: middle; margin-left: 0.5rem\">numero_licitacao</span>\n",
       "</mark>\n",
       " - UASG 974002 O Pregoeiro comunica aos interessados que o pregão acima citado, cujo objeto é o Registro de Preços para eventual aquisição de alimentos e suplementos vitamínicos para animais, conforme condições e características constantes no Edital e seus anexos, encontrase suspenso sine die , para alterações no Termo de Referência, conforme solicitação do órgão interessado. Processo \n",
       "<mark class=\"entity\" style=\"background: #ddd; padding: 0.45em 0.6em; margin: 0 0.25em; line-height: 1; border-radius: 0.35em;\">\n",
       "    00040-00006466/2021-11\n",
       "    <span style=\"font-size: 0.8em; font-weight: bold; line-height: 1; border-radius: 0.35em; vertical-align: middle; margin-left: 0.5rem\">processo_gdf</span>\n",
       "</mark>\n",
       ". Demais informações pelo site: www.comprasgovernamentais.gov.br ou pelo e-mail: pregoeirosulog01@economia.df.gov.br. Brasília/DF, 23 de junho de 2021 AUGUSTO CESAR PIRES ARANHA</div></span>"
      ],
      "text/plain": [
       "<IPython.core.display.HTML object>"
      ]
     },
     "metadata": {},
     "output_type": "display_data"
    },
    {
     "data": {
      "text/html": [
       "<span class=\"tex2jax_ignore\"><div class=\"entities\" style=\"line-height: 2.5; direction: ltr\">AVISO DE SUSPENSÃO \n",
       "<mark class=\"entity\" style=\"background: #ddd; padding: 0.45em 0.6em; margin: 0 0.25em; line-height: 1; border-radius: 0.35em;\">\n",
       "    PREGÃO ELETRÔNICO\n",
       "    <span style=\"font-size: 0.8em; font-weight: bold; line-height: 1; border-radius: 0.35em; vertical-align: middle; margin-left: 0.5rem\">modalidade_licitacao</span>\n",
       "</mark>\n",
       " Nº \n",
       "<mark class=\"entity\" style=\"background: #ddd; padding: 0.45em 0.6em; margin: 0 0.25em; line-height: 1; border-radius: 0.35em;\">\n",
       "    20/2021\n",
       "    <span style=\"font-size: 0.8em; font-weight: bold; line-height: 1; border-radius: 0.35em; vertical-align: middle; margin-left: 0.5rem\">numero_licitacao</span>\n",
       "</mark>\n",
       " Processo: \n",
       "<mark class=\"entity\" style=\"background: #ddd; padding: 0.45em 0.6em; margin: 0 0.25em; line-height: 1; border-radius: 0.35em;\">\n",
       "    00054-00039252/2019-58\n",
       "    <span style=\"font-size: 0.8em; font-weight: bold; line-height: 1; border-radius: 0.35em; vertical-align: middle; margin-left: 0.5rem\">processo_gdf</span>\n",
       "</mark>\n",
       ". O Departamento de Logística e Finanças comunica aos interessados a SUSPENSÃO sine die do certame em epígrafe, cujo objeto é o Registro de Preços para futura prestação de serviços de certificado digital para pessoa física (eCPF), pessoa jurídica (e-CNPJ) e servidores de rede (SSL), com suporte e garantia, conforme condições, quantidades, exigências e estimativas estabelecidas, incluindo o fornecimento de dispositivos físicos de armazenamento tipo token criptográfico USB para os certificados digitais dos tipos e-CPF e e-CNPJ para a Polícia Militar do Distrito Federal - PMDF, na condição de Órgão Gerenciador, e Fundo Estadual De Segurança Pública - FESP/RR, UASG 927916 e Polícia Civil do Estado de Roraima PCRR, UASG 927020, na condição de Órgão Participante, em conformidade com as especificações e condições constantes do termo de referência de que trata o Anexo I do edital, agendado para o dia 08/07/2021 às 08h30min (horário de Brasília-DF). Valor estimado: R$ 252.080,75 (duzentos e cinquenta e dois mil oitenta reais e setenta e cinco centavos). Tipo: Menor Preço. Elemento de despesa: 4.4.90-52. Cópia do Edital se encontra no sítios: www.gov.br/compras e www.pm.df.gov.br. UASG: 926016. Informações: 3190-5557 e no e-mail: splpmdf@gmail.com. Brasília/DF, 07 de Julho de 2021 BILMAR ANGELIS DE ALMEIDA FERREIRA Ordenador de Despesa</div></span>"
      ],
      "text/plain": [
       "<IPython.core.display.HTML object>"
      ]
     },
     "metadata": {},
     "output_type": "display_data"
    },
    {
     "data": {
      "text/html": [
       "<span class=\"tex2jax_ignore\"><div class=\"entities\" style=\"line-height: 2.5; direction: ltr\">AVISO DE SUSPENSÃO \n",
       "<mark class=\"entity\" style=\"background: #ddd; padding: 0.45em 0.6em; margin: 0 0.25em; line-height: 1; border-radius: 0.35em;\">\n",
       "    PREGÃO ELETRÔNICO\n",
       "    <span style=\"font-size: 0.8em; font-weight: bold; line-height: 1; border-radius: 0.35em; vertical-align: middle; margin-left: 0.5rem\">modalidade_licitacao</span>\n",
       "</mark>\n",
       " DE SRP Nº \n",
       "<mark class=\"entity\" style=\"background: #ddd; padding: 0.45em 0.6em; margin: 0 0.25em; line-height: 1; border-radius: 0.35em;\">\n",
       "    07/2021\n",
       "    <span style=\"font-size: 0.8em; font-weight: bold; line-height: 1; border-radius: 0.35em; vertical-align: middle; margin-left: 0.5rem\">numero_licitacao</span>\n",
       "</mark>\n",
       " Processo: \n",
       "<mark class=\"entity\" style=\"background: #ddd; padding: 0.45em 0.6em; margin: 0 0.25em; line-height: 1; border-radius: 0.35em;\">\n",
       "    00431-00009550/2021-10\n",
       "    <span style=\"font-size: 0.8em; font-weight: bold; line-height: 1; border-radius: 0.35em; vertical-align: middle; margin-left: 0.5rem\">processo_gdf</span>\n",
       "</mark>\n",
       ". A Secretaria de Estado de Desenvolvimento Social SEDES/DF, torna público aos interessados a suspensão cautelar do \n",
       "<mark class=\"entity\" style=\"background: #ddd; padding: 0.45em 0.6em; margin: 0 0.25em; line-height: 1; border-radius: 0.35em;\">\n",
       "    Pregão Eletrônico\n",
       "    <span style=\"font-size: 0.8em; font-weight: bold; line-height: 1; border-radius: 0.35em; vertical-align: middle; margin-left: 0.5rem\">modalidade_licitacao</span>\n",
       "</mark>\n",
       " nº \n",
       "<mark class=\"entity\" style=\"background: #ddd; padding: 0.45em 0.6em; margin: 0 0.25em; line-height: 1; border-radius: 0.35em;\">\n",
       "    07/2021\n",
       "    <span style=\"font-size: 0.8em; font-weight: bold; line-height: 1; border-radius: 0.35em; vertical-align: middle; margin-left: 0.5rem\">numero_licitacao</span>\n",
       "</mark>\n",
       ", por meio da Decisão nº 1966/2021 do TCDF, UASG: 450858. Informações: (61) 3773.7150. JUNILMA OLIVEIRA FERREIRA Pregoeira</div></span>"
      ],
      "text/plain": [
       "<IPython.core.display.HTML object>"
      ]
     },
     "metadata": {},
     "output_type": "display_data"
    },
    {
     "data": {
      "text/html": [
       "<span class=\"tex2jax_ignore\"><div class=\"entities\" style=\"line-height: 2.5; direction: ltr\">AVISO DE SUSPENSÃO \n",
       "<mark class=\"entity\" style=\"background: #ddd; padding: 0.45em 0.6em; margin: 0 0.25em; line-height: 1; border-radius: 0.35em;\">\n",
       "    PREGÃO ELETRÔNICO\n",
       "    <span style=\"font-size: 0.8em; font-weight: bold; line-height: 1; border-radius: 0.35em; vertical-align: middle; margin-left: 0.5rem\">modalidade_licitacao</span>\n",
       "</mark>\n",
       " POR SRP Nº \n",
       "<mark class=\"entity\" style=\"background: #ddd; padding: 0.45em 0.6em; margin: 0 0.25em; line-height: 1; border-radius: 0.35em;\">\n",
       "    214/2021\n",
       "    <span style=\"font-size: 0.8em; font-weight: bold; line-height: 1; border-radius: 0.35em; vertical-align: middle; margin-left: 0.5rem\">numero_licitacao</span>\n",
       "</mark>\n",
       " - UASG 926119 A Pregoeira da Central de Compras SUAG, da Secretaria de Estado de Saúde do Distrito Federal, comunica a suspensão da licitação supracitada, a qual tem como objeto aquisição regular do medicamento PANCREATINA (LIPASE + AMILASE + PROTEASE) CAPSULA COM MICROGRANULOS DE LIBERACAO ENTERICA 25.000 UI e outros (Processo \n",
       "<mark class=\"entity\" style=\"background: #ddd; padding: 0.45em 0.6em; margin: 0 0.25em; line-height: 1; border-radius: 0.35em;\">\n",
       "    00060-00081445/2021-00)\n",
       "    <span style=\"font-size: 0.8em; font-weight: bold; line-height: 1; border-radius: 0.35em; vertical-align: middle; margin-left: 0.5rem\">processo_gdf</span>\n",
       "</mark>\n",
       ", tendo em vista a avaliação técnica dos questionamentos suscitados por meio de Pedido de Esclarecimento. PRISCILLA MOREIRA FALCÃO FIGUEIREDO</div></span>"
      ],
      "text/plain": [
       "<IPython.core.display.HTML object>"
      ]
     },
     "metadata": {},
     "output_type": "display_data"
    },
    {
     "data": {
      "text/html": [
       "<span class=\"tex2jax_ignore\"><div class=\"entities\" style=\"line-height: 2.5; direction: ltr\">AVISO DE SUSPENSÃO \n",
       "<mark class=\"entity\" style=\"background: #ddd; padding: 0.45em 0.6em; margin: 0 0.25em; line-height: 1; border-radius: 0.35em;\">\n",
       "    PREGÃO ELETRÔNICO\n",
       "    <span style=\"font-size: 0.8em; font-weight: bold; line-height: 1; border-radius: 0.35em; vertical-align: middle; margin-left: 0.5rem\">modalidade_licitacao</span>\n",
       "</mark>\n",
       " INTERNACIONAL Nº \n",
       "<mark class=\"entity\" style=\"background: #ddd; padding: 0.45em 0.6em; margin: 0 0.25em; line-height: 1; border-radius: 0.35em;\">\n",
       "    14/2021\n",
       "    <span style=\"font-size: 0.8em; font-weight: bold; line-height: 1; border-radius: 0.35em; vertical-align: middle; margin-left: 0.5rem\">numero_licitacao</span>\n",
       "</mark>\n",
       " Processo: \n",
       "<mark class=\"entity\" style=\"background: #ddd; padding: 0.45em 0.6em; margin: 0 0.25em; line-height: 1; border-radius: 0.35em;\">\n",
       "    00054-00134171/2020-02\n",
       "    <span style=\"font-size: 0.8em; font-weight: bold; line-height: 1; border-radius: 0.35em; vertical-align: middle; margin-left: 0.5rem\">processo_gdf</span>\n",
       "</mark>\n",
       ". O Departamento de Logística e Finanças comunica aos interessados a SUSPENSÃO sine die do certame em epígrafe, cujo objeto é o Registro de preço para aquisição no mercado interno ou externo de equipamentos de proteção individual - EPI (coldre e porta carregador duplo) referente às pistolas da marca CZ, pela Polícia Militar do Distrito Federal - PMDF, em conformidade com as especificações e condições constantes do termo de referência de que trata o Anexo I do edital, agendado para o dia 04/08/2021 às 14h30min (horário de Brasília-DF). Valor estimado: R$ 10.394.438,60 (dez milhões, trezentos e noventa e quatro mil quatrocentos e trinta e oito reais e sessenta centavos). Tipo: Menor Preço. Cópia do Edital se encontra no sítios: www.gov.br/compras e www.pm.df.gov.br. UASG: 926016. Informações: 3190-5557 e no e-mail: splpmdf@gmail.com. Brasília/DF, 13 de julho de 2021 BILMAR ANGELIS DE ALMEIDA FERREIRA Ordenador de Despesa</div></span>"
      ],
      "text/plain": [
       "<IPython.core.display.HTML object>"
      ]
     },
     "metadata": {},
     "output_type": "display_data"
    },
    {
     "data": {
      "text/html": [
       "<span class=\"tex2jax_ignore\"><div class=\"entities\" style=\"line-height: 2.5; direction: ltr\">AVISO DE SUSPENSÃO DE LICITAÇÃO \n",
       "<mark class=\"entity\" style=\"background: #ddd; padding: 0.45em 0.6em; margin: 0 0.25em; line-height: 1; border-radius: 0.35em;\">\n",
       "    PREGÃO ELETRÔNICO\n",
       "    <span style=\"font-size: 0.8em; font-weight: bold; line-height: 1; border-radius: 0.35em; vertical-align: middle; margin-left: 0.5rem\">modalidade_licitacao</span>\n",
       "</mark>\n",
       " Nº \n",
       "<mark class=\"entity\" style=\"background: #ddd; padding: 0.45em 0.6em; margin: 0 0.25em; line-height: 1; border-radius: 0.35em;\">\n",
       "    09/2021\n",
       "    <span style=\"font-size: 0.8em; font-weight: bold; line-height: 1; border-radius: 0.35em; vertical-align: middle; margin-left: 0.5rem\">numero_licitacao</span>\n",
       "</mark>\n",
       " Processo: \n",
       "<mark class=\"entity\" style=\"background: #ddd; padding: 0.45em 0.6em; margin: 0 0.25em; line-height: 1; border-radius: 0.35em;\">\n",
       "    00050-00031571/2020-61\n",
       "    <span style=\"font-size: 0.8em; font-weight: bold; line-height: 1; border-radius: 0.35em; vertical-align: middle; margin-left: 0.5rem\">processo_gdf</span>\n",
       "</mark>\n",
       " TIPO: Menor Preço. MODO DE DISPUTA: Aberto. OBJETO: Contratação de empresas especializadas em serviço de reformas diversas, bem como aquisição com instalação de coberturas para viaturas dentro das dependências do Edifício Sede da Secretaria de Segurança Pública do Distrito Federal, nos termos do artigo 22 do Decreto nº 10.024/2019, recepcionado pelo Decreto Distrital nº 40.205/2019, comunica a suspensão da abertura deste certame para retificação no Edital, em função de pedido de esclarecimento. Oportunamente será divulgada nova data de abertura na forma da Lei. Brasília/DF, 17 de junho de 2021 AMILCAR UBIRATAN URACH VIEIRA Coordenador</div></span>"
      ],
      "text/plain": [
       "<IPython.core.display.HTML object>"
      ]
     },
     "metadata": {},
     "output_type": "display_data"
    },
    {
     "data": {
      "text/html": [
       "<span class=\"tex2jax_ignore\"><div class=\"entities\" style=\"line-height: 2.5; direction: ltr\">AVISO DE SUSPENSÃO \n",
       "<mark class=\"entity\" style=\"background: #ddd; padding: 0.45em 0.6em; margin: 0 0.25em; line-height: 1; border-radius: 0.35em;\">\n",
       "    PREGÃO ELETRÔNICO\n",
       "    <span style=\"font-size: 0.8em; font-weight: bold; line-height: 1; border-radius: 0.35em; vertical-align: middle; margin-left: 0.5rem\">modalidade_licitacao</span>\n",
       "</mark>\n",
       " Nº \n",
       "<mark class=\"entity\" style=\"background: #ddd; padding: 0.45em 0.6em; margin: 0 0.25em; line-height: 1; border-radius: 0.35em;\">\n",
       "    15/2021\n",
       "    <span style=\"font-size: 0.8em; font-weight: bold; line-height: 1; border-radius: 0.35em; vertical-align: middle; margin-left: 0.5rem\">numero_licitacao</span>\n",
       "</mark>\n",
       " Processo: \n",
       "<mark class=\"entity\" style=\"background: #ddd; padding: 0.45em 0.6em; margin: 0 0.25em; line-height: 1; border-radius: 0.35em;\">\n",
       "    00055-00044695/2020-76\n",
       "    <span style=\"font-size: 0.8em; font-weight: bold; line-height: 1; border-radius: 0.35em; vertical-align: middle; margin-left: 0.5rem\">processo_gdf</span>\n",
       "</mark>\n",
       ". Comunico a suspensão do aludido pregão. Objeto: aquisição de 04 (quatro) veículos tipo caminhões auto socorro tipo guincho, conforme condições, especificações, quantidades e exigências estabelecidas no Termo de Referência e seus anexos, constantes do ANEXO A do Edital. Mais informações e-mail licitacao@detran.df.gov.br. Brasília/DF, 17 de junho de 2021 EDUARDO DA CRUZ OLIVEIRA Pregoeiro</div></span>"
      ],
      "text/plain": [
       "<IPython.core.display.HTML object>"
      ]
     },
     "metadata": {},
     "output_type": "display_data"
    },
    {
     "data": {
      "text/html": [
       "<span class=\"tex2jax_ignore\"><div class=\"entities\" style=\"line-height: 2.5; direction: ltr\">AVISO DE SUSPENSÃO Comunicamos aos interessados no \n",
       "<mark class=\"entity\" style=\"background: #ddd; padding: 0.45em 0.6em; margin: 0 0.25em; line-height: 1; border-radius: 0.35em;\">\n",
       "    Pregão Eletrônico\n",
       "    <span style=\"font-size: 0.8em; font-weight: bold; line-height: 1; border-radius: 0.35em; vertical-align: middle; margin-left: 0.5rem\">modalidade_licitacao</span>\n",
       "</mark>\n",
       " nº \n",
       "<mark class=\"entity\" style=\"background: #ddd; padding: 0.45em 0.6em; margin: 0 0.25em; line-height: 1; border-radius: 0.35em;\">\n",
       "    09/2021\n",
       "    <span style=\"font-size: 0.8em; font-weight: bold; line-height: 1; border-radius: 0.35em; vertical-align: middle; margin-left: 0.5rem\">numero_licitacao</span>\n",
       "</mark>\n",
       " DECOMP/DA do tipo menor preço (maior desconto), processo \n",
       "<mark class=\"entity\" style=\"background: #ddd; padding: 0.45em 0.6em; margin: 0 0.25em; line-height: 1; border-radius: 0.35em;\">\n",
       "    112-00022751/2020-07\n",
       "    <span style=\"font-size: 0.8em; font-weight: bold; line-height: 1; border-radius: 0.35em; vertical-align: middle; margin-left: 0.5rem\">processo_gdf</span>\n",
       "</mark>\n",
       ", que o mesmo fica suspenso, por Conveniência Administrativa, conforme o disposto na Decisão nº 2252/2021 do Tribunal de Contas do Distrito Federal TCDF, datada de 16 de junho de 2021, até ulterior deliberação daquela Corte. Data da primeira publicação no DODF nº 104, de 07 de junho de 2021, página 62. Contatos: (061) 3403-2321 ou (061) 3403-2322 e email: dilic@novacap.df.gov.br. Brasília/DF, 17 de junho de 2021 SHIRLEY DE FARIA SOARES DE CARVALHO Chefe</div></span>"
      ],
      "text/plain": [
       "<IPython.core.display.HTML object>"
      ]
     },
     "metadata": {},
     "output_type": "display_data"
    },
    {
     "data": {
      "text/html": [
       "<span class=\"tex2jax_ignore\"><div class=\"entities\" style=\"line-height: 2.5; direction: ltr\">AVISO DE SUSPENSÃO DE LICITAÇÃO LIC SERVIÇOS CEB-H Nº 001-S01452/2021 (ELETRÔNICO) A Companhia Energética de Brasília - CEB, por meio da Comissão Especial Julgadora de Licitação - CEJL, localizada no SIA Setor de Áreas Públicas, Lote C , Bloco F Brasília DF, torna público que, após ciência de notificação para suspensão da abertura desse certame, Decisão nº 111/2021 Tribunal de Contas do Distrito Federal, fica suspensa sine die, a licitação em epígrafe. Brasília/DF, 1º de junho de 2021 TIAGO GOMES DUTRA Presidente da Comissão</div></span>"
      ],
      "text/plain": [
       "<IPython.core.display.HTML object>"
      ]
     },
     "metadata": {},
     "output_type": "display_data"
    },
    {
     "data": {
      "text/html": [
       "<span class=\"tex2jax_ignore\"><div class=\"entities\" style=\"line-height: 2.5; direction: ltr\">AVISO DE SUSPENSÃO DE LICITAÇÃO LIC SERVIÇOS CEB-H Nº 001-S01453/2021 (ELETRÔNICO) A Companhia Energética de Brasília - CEB, por meio da Comissão Especial Julgadora de Licitação - CEJL, localizada no SIA Setor de Áreas Públicas, Lote C , Bloco F Brasília DF, torna público que, com fulcro no Despacho Singular nº 277/2021- GCRR Tribunal de Contas do Distrito Federal, fica suspensa sine die, a licitação em epígrafe. Brasília/DF, 02 de junho de 2021 TIAGO GOMES DUTRA Presidente da Comissão</div></span>"
      ],
      "text/plain": [
       "<IPython.core.display.HTML object>"
      ]
     },
     "metadata": {},
     "output_type": "display_data"
    },
    {
     "data": {
      "text/html": [
       "<span class=\"tex2jax_ignore\"><div class=\"entities\" style=\"line-height: 2.5; direction: ltr\">AVISO DE SUSPENSÃO \n",
       "<mark class=\"entity\" style=\"background: #ddd; padding: 0.45em 0.6em; margin: 0 0.25em; line-height: 1; border-radius: 0.35em;\">\n",
       "    PREGÃO ELETRÔNICO\n",
       "    <span style=\"font-size: 0.8em; font-weight: bold; line-height: 1; border-radius: 0.35em; vertical-align: middle; margin-left: 0.5rem\">modalidade_licitacao</span>\n",
       "</mark>\n",
       " Nº \n",
       "<mark class=\"entity\" style=\"background: #ddd; padding: 0.45em 0.6em; margin: 0 0.25em; line-height: 1; border-radius: 0.35em;\">\n",
       "    206/2021\n",
       "    <span style=\"font-size: 0.8em; font-weight: bold; line-height: 1; border-radius: 0.35em; vertical-align: middle; margin-left: 0.5rem\">numero_licitacao</span>\n",
       "</mark>\n",
       " - UASG 926119 A Pregoeira da Central de Compras SUAG, da Secretaria de Estado de Saúde do Distrito Federal, comunica a suspensão da licitação supracitada, a qual tem como objeto aquisição de PANO/FORRO ABSORVENTE e outros, tendo em vista a avaliação técnica dos questionamentos suscitados por meio de Pedido de Esclarecimento. LÍNEA CAROLINE DA SILVA LIMA</div></span>"
      ],
      "text/plain": [
       "<IPython.core.display.HTML object>"
      ]
     },
     "metadata": {},
     "output_type": "display_data"
    },
    {
     "data": {
      "text/html": [
       "<span class=\"tex2jax_ignore\"><div class=\"entities\" style=\"line-height: 2.5; direction: ltr\">AVISO DE SUSPENSÃO &quot;SINE DIE&quot; \n",
       "<mark class=\"entity\" style=\"background: #ddd; padding: 0.45em 0.6em; margin: 0 0.25em; line-height: 1; border-radius: 0.35em;\">\n",
       "    CONCORRÊNCIA\n",
       "    <span style=\"font-size: 0.8em; font-weight: bold; line-height: 1; border-radius: 0.35em; vertical-align: middle; margin-left: 0.5rem\">modalidade_licitacao</span>\n",
       "</mark>\n",
       " Nº \n",
       "<mark class=\"entity\" style=\"background: #ddd; padding: 0.45em 0.6em; margin: 0 0.25em; line-height: 1; border-radius: 0.35em;\">\n",
       "    01/2021\n",
       "    <span style=\"font-size: 0.8em; font-weight: bold; line-height: 1; border-radius: 0.35em; vertical-align: middle; margin-left: 0.5rem\">numero_licitacao</span>\n",
       "</mark>\n",
       " A Companhia de Desenvolvimento Habitacional do Distrito Federal CODHAB torna público a suspensão Sine Die da \n",
       "<mark class=\"entity\" style=\"background: #ddd; padding: 0.45em 0.6em; margin: 0 0.25em; line-height: 1; border-radius: 0.35em;\">\n",
       "    Concorrência\n",
       "    <span style=\"font-size: 0.8em; font-weight: bold; line-height: 1; border-radius: 0.35em; vertical-align: middle; margin-left: 0.5rem\">modalidade_licitacao</span>\n",
       "</mark>\n",
       " nº \n",
       "<mark class=\"entity\" style=\"background: #ddd; padding: 0.45em 0.6em; margin: 0 0.25em; line-height: 1; border-radius: 0.35em;\">\n",
       "    01/2021\n",
       "    <span style=\"font-size: 0.8em; font-weight: bold; line-height: 1; border-radius: 0.35em; vertical-align: middle; margin-left: 0.5rem\">numero_licitacao</span>\n",
       "</mark>\n",
       ", com abertura previamente agendada para o dia 13/07/2021, processo \n",
       "<mark class=\"entity\" style=\"background: #ddd; padding: 0.45em 0.6em; margin: 0 0.25em; line-height: 1; border-radius: 0.35em;\">\n",
       "    00392-00014723/2020-27\n",
       "    <span style=\"font-size: 0.8em; font-weight: bold; line-height: 1; border-radius: 0.35em; vertical-align: middle; margin-left: 0.5rem\">processo_gdf</span>\n",
       "</mark>\n",
       ", que tem por objeto a promoção de empreendimentos habitacionais por meio da produção e comercialização de Unidades Habitacionais a serem disponibilizadas ao cadastro de habitação, em terrenos de propriedade da CODHAB localizadas em Santa Maria RA XIII, em atendimento à política habitacional do Governo do Distrito Federal, face a instabilidade operacional do Módulo \n",
       "<mark class=\"entity\" style=\"background: #ddd; padding: 0.45em 0.6em; margin: 0 0.25em; line-height: 1; border-radius: 0.35em;\">\n",
       "    Concorrência\n",
       "    <span style=\"font-size: 0.8em; font-weight: bold; line-height: 1; border-radius: 0.35em; vertical-align: middle; margin-left: 0.5rem\">modalidade_licitacao</span>\n",
       "</mark>\n",
       " e a necessidade de buscar nova solução tecnológica para a realização do certame, a ser promovida pela Coordenação de Tecnologia. Brasília/DF, 1° de julho de 2021 FERNANDA VITORINO Presidente Comissão</div></span>"
      ],
      "text/plain": [
       "<IPython.core.display.HTML object>"
      ]
     },
     "metadata": {},
     "output_type": "display_data"
    },
    {
     "data": {
      "text/html": [
       "<span class=\"tex2jax_ignore\"><div class=\"entities\" style=\"line-height: 2.5; direction: ltr\">AVISO DE SUSPENSÃO \n",
       "<mark class=\"entity\" style=\"background: #ddd; padding: 0.45em 0.6em; margin: 0 0.25em; line-height: 1; border-radius: 0.35em;\">\n",
       "    PREGÃO ELETRÔNICO\n",
       "    <span style=\"font-size: 0.8em; font-weight: bold; line-height: 1; border-radius: 0.35em; vertical-align: middle; margin-left: 0.5rem\">modalidade_licitacao</span>\n",
       "</mark>\n",
       " POR SRP Nº \n",
       "<mark class=\"entity\" style=\"background: #ddd; padding: 0.45em 0.6em; margin: 0 0.25em; line-height: 1; border-radius: 0.35em;\">\n",
       "    191/2021\n",
       "    <span style=\"font-size: 0.8em; font-weight: bold; line-height: 1; border-radius: 0.35em; vertical-align: middle; margin-left: 0.5rem\">numero_licitacao</span>\n",
       "</mark>\n",
       " UASG 926119 A Pregoeira da Central de Compras/SUAG, da Secretaria de Estado de Saúde do Distrito Federal, comunica a suspensão da licitação supracitada, a qual tem como objeto aquisição de MÁQUINA DE HEMODIÁLISE e outros, tendo em vista a avaliação técnica dos questionamentos apresentados. CERIZE HELENA SOUZA SALES</div></span>"
      ],
      "text/plain": [
       "<IPython.core.display.HTML object>"
      ]
     },
     "metadata": {},
     "output_type": "display_data"
    },
    {
     "data": {
      "text/html": [
       "<span class=\"tex2jax_ignore\"><div class=\"entities\" style=\"line-height: 2.5; direction: ltr\">AVISO DE SUSPENSÃO REGIME DIFERENCIADO DE CONTRATAÇÃO - RDC Nº \n",
       "<mark class=\"entity\" style=\"background: #ddd; padding: 0.45em 0.6em; margin: 0 0.25em; line-height: 1; border-radius: 0.35em;\">\n",
       "    02/2021\n",
       "    <span style=\"font-size: 0.8em; font-weight: bold; line-height: 1; border-radius: 0.35em; vertical-align: middle; margin-left: 0.5rem\">numero_licitacao</span>\n",
       "</mark>\n",
       " Processo: \n",
       "<mark class=\"entity\" style=\"background: #ddd; padding: 0.45em 0.6em; margin: 0 0.25em; line-height: 1; border-radius: 0.35em;\">\n",
       "    00054-00116386/2020-33\n",
       "    <span style=\"font-size: 0.8em; font-weight: bold; line-height: 1; border-radius: 0.35em; vertical-align: middle; margin-left: 0.5rem\">processo_gdf</span>\n",
       "</mark>\n",
       ". O Departamento de Logística e Finanças comunica aos interessados a SUSPENSÃO Sine Die do certame em epígrafe, cujo objeto é a Contratação de empresa especializada em arquitetura e engenharia civil, para a execução da obra de: construção dos edifícios de Corpo da guarda, Administrativo e Garagem na Sede do 14º Batalhão da Polícia Militar do Distrito Federal no Setor Norte, Área Especial 13, Planaltina DF, conforme especificações, condições e exigências estabelecidas no Projeto Básico e seus anexos (Anexo I ao Edital) e demais anexos elencados no Item 28 do Instrumento Convocatório, agendado para o dia 21/06/2021 às 14h30min (horário de Brasília-DF). Valor estimado: R$ 7.064.836,84 (sete milhões, sessenta e quatro mil, oitocentos e trinta e seis reais e oitenta e quatro centavos). Tipo: menor preço. Elemento de despesa: 4.4.90-52. Cópia do Edital se encontra no sítios: www.gov.br/compras e www.pm.df.gov.br. UASG: 926016. Informações: 3190-5557 e no e-mail: splpmdf@gmail.com. Brasília/DF, 22 de junho de 2021 BILMAR ANGELIS DE ALMEIDA FERREIRA Ordenador de Despesa</div></span>"
      ],
      "text/plain": [
       "<IPython.core.display.HTML object>"
      ]
     },
     "metadata": {},
     "output_type": "display_data"
    },
    {
     "data": {
      "text/html": [
       "<span class=\"tex2jax_ignore\"><div class=\"entities\" style=\"line-height: 2.5; direction: ltr\">AVISO DE SUSPENSÃO \n",
       "<mark class=\"entity\" style=\"background: #ddd; padding: 0.45em 0.6em; margin: 0 0.25em; line-height: 1; border-radius: 0.35em;\">\n",
       "    PREGÃO ELETRÔNICO\n",
       "    <span style=\"font-size: 0.8em; font-weight: bold; line-height: 1; border-radius: 0.35em; vertical-align: middle; margin-left: 0.5rem\">modalidade_licitacao</span>\n",
       "</mark>\n",
       " INTERNACIONAL - PEI Nº 44/2020 Processo: \n",
       "<mark class=\"entity\" style=\"background: #ddd; padding: 0.45em 0.6em; margin: 0 0.25em; line-height: 1; border-radius: 0.35em;\">\n",
       "    0054-003134/2016\n",
       "    <span style=\"font-size: 0.8em; font-weight: bold; line-height: 1; border-radius: 0.35em; vertical-align: middle; margin-left: 0.5rem\">processo_gdf</span>\n",
       "</mark>\n",
       ". O Departamento de Logística e Finanças, da Polícia Militar do Distrito Federal torna público aos interessados a SUSPENSÃO &quot;sine die&quot; do certame em epígrafe, cujo objeto é o Registro de Preços para aquisição no mercado interno ou externo de capacetes antitumulto com proteção balística nível I, para proteção individual dos policiais militares do Distrito Federal nas ações de gestões democráticas de multidões, conforme especificação técnica constante no Anexo I do Edital. Valor estimado: R$ 21.074.592,25 (vinte e um milhões, setenta e quatro mil, quinhentos e noventa e dois reais e vinte e cinco centavos). Tipo: menor preço. UASG: 926016. Informações: (55) - (61) 3190-5557 / (55) - (61) - 3190-5559 e no e-mail: splpmdf@gmail.com. O certame será regido em conformidade ao art. 193, inciso II da Lei Federal nº 14.133, de 1º/04/2021. Brasília/DF, 10 de junho de 2021 BILMAR ANGELIS DE ALMEIDA FERREIRA Ordenador de Despesa</div></span>"
      ],
      "text/plain": [
       "<IPython.core.display.HTML object>"
      ]
     },
     "metadata": {},
     "output_type": "display_data"
    },
    {
     "data": {
      "text/html": [
       "<span class=\"tex2jax_ignore\"><div class=\"entities\" style=\"line-height: 2.5; direction: ltr\">AVISO DE SUSPENSÃO \n",
       "<mark class=\"entity\" style=\"background: #ddd; padding: 0.45em 0.6em; margin: 0 0.25em; line-height: 1; border-radius: 0.35em;\">\n",
       "    PREGÃO ELETRÔNICO\n",
       "    <span style=\"font-size: 0.8em; font-weight: bold; line-height: 1; border-radius: 0.35em; vertical-align: middle; margin-left: 0.5rem\">modalidade_licitacao</span>\n",
       "</mark>\n",
       " Nº \n",
       "<mark class=\"entity\" style=\"background: #ddd; padding: 0.45em 0.6em; margin: 0 0.25em; line-height: 1; border-radius: 0.35em;\">\n",
       "    04/2021\n",
       "    <span style=\"font-size: 0.8em; font-weight: bold; line-height: 1; border-radius: 0.35em; vertical-align: middle; margin-left: 0.5rem\">numero_licitacao</span>\n",
       "</mark>\n",
       " Processo: \n",
       "<mark class=\"entity\" style=\"background: #ddd; padding: 0.45em 0.6em; margin: 0 0.25em; line-height: 1; border-radius: 0.35em;\">\n",
       "    00055-00022429/2020-92\n",
       "    <span style=\"font-size: 0.8em; font-weight: bold; line-height: 1; border-radius: 0.35em; vertical-align: middle; margin-left: 0.5rem\">processo_gdf</span>\n",
       "</mark>\n",
       ". Comunico a suspensão do aludido pregão. Objeto: Contratação de empresa especializada para prestação de serviço de fornecimento de link dedicado para conexão permanente, exclusiva e completa da rede de dados corporativa do DETRAN/DF, à Internet por IP dedicado, com anti DDos, e de alta disponibilidade, de acordo com as condições e especificações constantes no Termo de Referência e seus anexos, constantes do ANEXO A do Edital. Mais informações e-mail licitacao@detran.df.gov.br. Brasília/DF, 09 de junho de 2021 KARINA DA SILVA LIMA Pregoeira</div></span>"
      ],
      "text/plain": [
       "<IPython.core.display.HTML object>"
      ]
     },
     "metadata": {},
     "output_type": "display_data"
    },
    {
     "data": {
      "text/html": [
       "<span class=\"tex2jax_ignore\"><div class=\"entities\" style=\"line-height: 2.5; direction: ltr\">AVISO DE SUSPENSÃO \n",
       "<mark class=\"entity\" style=\"background: #ddd; padding: 0.45em 0.6em; margin: 0 0.25em; line-height: 1; border-radius: 0.35em;\">\n",
       "    PREGÃO ELETRÔNICO\n",
       "    <span style=\"font-size: 0.8em; font-weight: bold; line-height: 1; border-radius: 0.35em; vertical-align: middle; margin-left: 0.5rem\">modalidade_licitacao</span>\n",
       "</mark>\n",
       " Nº \n",
       "<mark class=\"entity\" style=\"background: #ddd; padding: 0.45em 0.6em; margin: 0 0.25em; line-height: 1; border-radius: 0.35em;\">\n",
       "    32/2020\n",
       "    <span style=\"font-size: 0.8em; font-weight: bold; line-height: 1; border-radius: 0.35em; vertical-align: middle; margin-left: 0.5rem\">numero_licitacao</span>\n",
       "</mark>\n",
       " Processo: \n",
       "<mark class=\"entity\" style=\"background: #ddd; padding: 0.45em 0.6em; margin: 0 0.25em; line-height: 1; border-radius: 0.35em;\">\n",
       "    00054-00007433/2019-15\n",
       "    <span style=\"font-size: 0.8em; font-weight: bold; line-height: 1; border-radius: 0.35em; vertical-align: middle; margin-left: 0.5rem\">processo_gdf</span>\n",
       "</mark>\n",
       ". O Departamento de Logística e Finanças comunica aos interessados a SUSPENSÃO do certame em epígrafe, cujo objeto é Registro de Preços para aquisição de 842 (oitocentos e quarenta e dois) coletes de nível III-A com proteção balística e contra perfuro cortantes, 2.057 (dois mil e cinquenta e sete) nível III-A, todos com painéis balísticos e com capas externas, conforme Regulamento de Uniformes da Polícia Militar do Distrito Federal, a aquisição de 539 (quinhentos e trinta e nove) coletes de proteção balística dissimulados nível II-A e a aquisição de 110 (cento e dez ) coletes de proteção balística nível III, em conformidade com as especificações e condições constantes do Termo de Referência de que trata o Anexo I no Edital, agendado para o dia 31/05/2021 às 14h30min (horário de Brasília-DF). Valor estimado: R$ 7.701.013,90 (sete milhões, setecentos e um mil treze reais e noventa centavos). Tipo: menor preço. Elemento de despesa: 4.4.90-52. Cópia do Edital se encontra no sítios: www.gov.br/compras e www.pm.df.gov.br. UASG: 926016. Informações: 3190-5557 e no e-mail: splpmdf@gmail.com. Brasília/DF, 31 de maio de 2021 BILMAR ANGELIS DE ALMEIDA FERREIRA Ordenador de Despesa</div></span>"
      ],
      "text/plain": [
       "<IPython.core.display.HTML object>"
      ]
     },
     "metadata": {},
     "output_type": "display_data"
    },
    {
     "data": {
      "text/html": [
       "<span class=\"tex2jax_ignore\"><div class=\"entities\" style=\"line-height: 2.5; direction: ltr\">AVISO DE SUSPENSÃO DO \n",
       "<mark class=\"entity\" style=\"background: #ddd; padding: 0.45em 0.6em; margin: 0 0.25em; line-height: 1; border-radius: 0.35em;\">\n",
       "    PREGÃO ELETRÔNICO\n",
       "    <span style=\"font-size: 0.8em; font-weight: bold; line-height: 1; border-radius: 0.35em; vertical-align: middle; margin-left: 0.5rem\">modalidade_licitacao</span>\n",
       "</mark>\n",
       " Nº \n",
       "<mark class=\"entity\" style=\"background: #ddd; padding: 0.45em 0.6em; margin: 0 0.25em; line-height: 1; border-radius: 0.35em;\">\n",
       "    19/2022\n",
       "    <span style=\"font-size: 0.8em; font-weight: bold; line-height: 1; border-radius: 0.35em; vertical-align: middle; margin-left: 0.5rem\">numero_licitacao</span>\n",
       "</mark>\n",
       " O BRB - BANCO DE BRASÍLIA S.A, torna pública a suspensão do \n",
       "<mark class=\"entity\" style=\"background: #ddd; padding: 0.45em 0.6em; margin: 0 0.25em; line-height: 1; border-radius: 0.35em;\">\n",
       "    Pregão Eletrônico\n",
       "    <span style=\"font-size: 0.8em; font-weight: bold; line-height: 1; border-radius: 0.35em; vertical-align: middle; margin-left: 0.5rem\">modalidade_licitacao</span>\n",
       "</mark>\n",
       " nº \n",
       "<mark class=\"entity\" style=\"background: #ddd; padding: 0.45em 0.6em; margin: 0 0.25em; line-height: 1; border-radius: 0.35em;\">\n",
       "    019/2022\n",
       "    <span style=\"font-size: 0.8em; font-weight: bold; line-height: 1; border-radius: 0.35em; vertical-align: middle; margin-left: 0.5rem\">numero_licitacao</span>\n",
       "</mark>\n",
       ". Objeto: Serviços de apoio administrativo; manutenção; copeiragem, com o fornecimento de produtos alimentícios e descartáveis; limpeza e conservação, com fornecimento e utilização de insumos, nas dependências da Direção Geral do BRB Região I, localizadas no Distrito Federal. Motivo: Decisão administrativa. UASG: 925008. Processo \n",
       "<mark class=\"entity\" style=\"background: #ddd; padding: 0.45em 0.6em; margin: 0 0.25em; line-height: 1; border-radius: 0.35em;\">\n",
       "    218/2022\n",
       "    <span style=\"font-size: 0.8em; font-weight: bold; line-height: 1; border-radius: 0.35em; vertical-align: middle; margin-left: 0.5rem\">processo_gdf</span>\n",
       "</mark>\n",
       ". RAYSSA GOMES DA SILVA Pregoeira</div></span>"
      ],
      "text/plain": [
       "<IPython.core.display.HTML object>"
      ]
     },
     "metadata": {},
     "output_type": "display_data"
    },
    {
     "data": {
      "text/html": [
       "<span class=\"tex2jax_ignore\"><div class=\"entities\" style=\"line-height: 2.5; direction: ltr\">AVISO DE SUSPENSÃO DE LICITAÇÃO \n",
       "<mark class=\"entity\" style=\"background: #ddd; padding: 0.45em 0.6em; margin: 0 0.25em; line-height: 1; border-radius: 0.35em;\">\n",
       "    PREGÃO ELETRÔNICO\n",
       "    <span style=\"font-size: 0.8em; font-weight: bold; line-height: 1; border-radius: 0.35em; vertical-align: middle; margin-left: 0.5rem\">modalidade_licitacao</span>\n",
       "</mark>\n",
       " SRP Nº \n",
       "<mark class=\"entity\" style=\"background: #ddd; padding: 0.45em 0.6em; margin: 0 0.25em; line-height: 1; border-radius: 0.35em;\">\n",
       "    06/2022\n",
       "    <span style=\"font-size: 0.8em; font-weight: bold; line-height: 1; border-radius: 0.35em; vertical-align: middle; margin-left: 0.5rem\">numero_licitacao</span>\n",
       "</mark>\n",
       " Processo: \n",
       "<mark class=\"entity\" style=\"background: #ddd; padding: 0.45em 0.6em; margin: 0 0.25em; line-height: 1; border-radius: 0.35em;\">\n",
       "    00080-00159144/2021-16\n",
       "    <span style=\"font-size: 0.8em; font-weight: bold; line-height: 1; border-radius: 0.35em; vertical-align: middle; margin-left: 0.5rem\">processo_gdf</span>\n",
       "</mark>\n",
       ". Objeto: Registro de Preços visando a pretensa aquisição de mobiliários/equipamentos escolares e equipamentos eletrônicos e outros para atender as necessidades das Unidades Escolares, bem como das Unidades Administrativas da Secretaria de Estado de Educação do Distrito Federal - SEEDF, por meio do sistema de registro de preços. O Pregoeiro desta Secretaria de Educação do GDF decide SUSPENDER, o certame licitatório do \n",
       "<mark class=\"entity\" style=\"background: #ddd; padding: 0.45em 0.6em; margin: 0 0.25em; line-height: 1; border-radius: 0.35em;\">\n",
       "    Pregão Eletrônico\n",
       "    <span style=\"font-size: 0.8em; font-weight: bold; line-height: 1; border-radius: 0.35em; vertical-align: middle; margin-left: 0.5rem\">modalidade_licitacao</span>\n",
       "</mark>\n",
       " SRP nº \n",
       "<mark class=\"entity\" style=\"background: #ddd; padding: 0.45em 0.6em; margin: 0 0.25em; line-height: 1; border-radius: 0.35em;\">\n",
       "    06/2022\n",
       "    <span style=\"font-size: 0.8em; font-weight: bold; line-height: 1; border-radius: 0.35em; vertical-align: middle; margin-left: 0.5rem\">numero_licitacao</span>\n",
       "</mark>\n",
       ", para revisão do Termo de Referência - Anexo I do Edital. A nova data de abertura será divulgada na forma da Lei. RENI FERNANDES Pregoeiro</div></span>"
      ],
      "text/plain": [
       "<IPython.core.display.HTML object>"
      ]
     },
     "metadata": {},
     "output_type": "display_data"
    },
    {
     "data": {
      "text/html": [
       "<span class=\"tex2jax_ignore\"><div class=\"entities\" style=\"line-height: 2.5; direction: ltr\">AVISO DE SUSPENSÃO DO \n",
       "<mark class=\"entity\" style=\"background: #ddd; padding: 0.45em 0.6em; margin: 0 0.25em; line-height: 1; border-radius: 0.35em;\">\n",
       "    PREGÃO ELETRÔNICO\n",
       "    <span style=\"font-size: 0.8em; font-weight: bold; line-height: 1; border-radius: 0.35em; vertical-align: middle; margin-left: 0.5rem\">modalidade_licitacao</span>\n",
       "</mark>\n",
       " SRP Nº \n",
       "<mark class=\"entity\" style=\"background: #ddd; padding: 0.45em 0.6em; margin: 0 0.25em; line-height: 1; border-radius: 0.35em;\">\n",
       "    001/2022\n",
       "    <span style=\"font-size: 0.8em; font-weight: bold; line-height: 1; border-radius: 0.35em; vertical-align: middle; margin-left: 0.5rem\">numero_licitacao</span>\n",
       "</mark>\n",
       " PROCESSO: \n",
       "<mark class=\"entity\" style=\"background: #ddd; padding: 0.45em 0.6em; margin: 0 0.25em; line-height: 1; border-radius: 0.35em;\">\n",
       "    00220-00005432/2021-82 (\n",
       "    <span style=\"font-size: 0.8em; font-weight: bold; line-height: 1; border-radius: 0.35em; vertical-align: middle; margin-left: 0.5rem\">processo_gdf</span>\n",
       "</mark>\n",
       "AMPLA \n",
       "<mark class=\"entity\" style=\"background: #ddd; padding: 0.45em 0.6em; margin: 0 0.25em; line-height: 1; border-radius: 0.35em;\">\n",
       "    CONCORRÊNCIA\n",
       "    <span style=\"font-size: 0.8em; font-weight: bold; line-height: 1; border-radius: 0.35em; vertical-align: middle; margin-left: 0.5rem\">modalidade_licitacao</span>\n",
       "</mark>\n",
       ") O Distrito Federal - DF, por meio da SECRETARIA DE ESTADO DE ESPORTE E LAZER DO DISTRITO FEDERAL, autorizada pelo Decreto Distrital nº. 41.497/2020, por meio do Pregoeiro e Equipe de Apoio, designados pela Portaria n.º 247/2021, torna público, para conhecimento dos interessados, que o \n",
       "<mark class=\"entity\" style=\"background: #ddd; padding: 0.45em 0.6em; margin: 0 0.25em; line-height: 1; border-radius: 0.35em;\">\n",
       "    PREGÃO ELETRÔNICO\n",
       "    <span style=\"font-size: 0.8em; font-weight: bold; line-height: 1; border-radius: 0.35em; vertical-align: middle; margin-left: 0.5rem\">modalidade_licitacao</span>\n",
       "</mark>\n",
       " SRP N.º \n",
       "<mark class=\"entity\" style=\"background: #ddd; padding: 0.45em 0.6em; margin: 0 0.25em; line-height: 1; border-radius: 0.35em;\">\n",
       "    001/2022\n",
       "    <span style=\"font-size: 0.8em; font-weight: bold; line-height: 1; border-radius: 0.35em; vertical-align: middle; margin-left: 0.5rem\">numero_licitacao</span>\n",
       "</mark>\n",
       " - COLIC/SUAG/SEL/DF - (Ampla \n",
       "<mark class=\"entity\" style=\"background: #ddd; padding: 0.45em 0.6em; margin: 0 0.25em; line-height: 1; border-radius: 0.35em;\">\n",
       "    Concorrência\n",
       "    <span style=\"font-size: 0.8em; font-weight: bold; line-height: 1; border-radius: 0.35em; vertical-align: middle; margin-left: 0.5rem\">modalidade_licitacao</span>\n",
       "</mark>\n",
       "), cujo objeto é o Registro de preços para eventual contratação de empresa especializada na prestação de serviços de agenciamento de viagens, compreendendo a reserva, emissão, marcação, remarcação e cancelamento de bilhetes de passagens aéreas nacionais e internacionais, a fim de atender as demandas da Secretaria de Esporte e Lazer do Distrito Federal, SEL-DF, encontra-se SUSPENSO, tendo em vista que o e-mail: pregao.sel@esporte.df.gov.br da Unidade de Pregão não está funcionando, e nos possíveis Pedidos de Esclarecimento e Impugnações não respondidos, para no mérito, aguardar a solução do problema pela DITEC - SEL e posteriormente responder todos os Pedidos de Esclarecimentos e Impugnações que estão em conformidade com o que preleciona a Cláusula Quarta do EDITAL em epígrafe. Oportunamente será divulgada nova data de abertura do \n",
       "<mark class=\"entity\" style=\"background: #ddd; padding: 0.45em 0.6em; margin: 0 0.25em; line-height: 1; border-radius: 0.35em;\">\n",
       "    PREGÃO ELETRÔNICO\n",
       "    <span style=\"font-size: 0.8em; font-weight: bold; line-height: 1; border-radius: 0.35em; vertical-align: middle; margin-left: 0.5rem\">modalidade_licitacao</span>\n",
       "</mark>\n",
       " SRP N.º \n",
       "<mark class=\"entity\" style=\"background: #ddd; padding: 0.45em 0.6em; margin: 0 0.25em; line-height: 1; border-radius: 0.35em;\">\n",
       "    001/2022\n",
       "    <span style=\"font-size: 0.8em; font-weight: bold; line-height: 1; border-radius: 0.35em; vertical-align: middle; margin-left: 0.5rem\">numero_licitacao</span>\n",
       "</mark>\n",
       " - COLIC/SUAG/SEL/DF - (Ampla \n",
       "<mark class=\"entity\" style=\"background: #ddd; padding: 0.45em 0.6em; margin: 0 0.25em; line-height: 1; border-radius: 0.35em;\">\n",
       "    Concorrência\n",
       "    <span style=\"font-size: 0.8em; font-weight: bold; line-height: 1; border-radius: 0.35em; vertical-align: middle; margin-left: 0.5rem\">modalidade_licitacao</span>\n",
       "</mark>\n",
       ") por meio de publicação na Imprensa Oficial, na forma da Lei, Diário Oficial do Distrito Federal - DO-DF e/ou na página da Secretaria de Estado de Esporte e Lazer do Distrito Federal SEL/DF, www.esporte.df.gov.br (clicar em transparência licitações ). THIAGO MOREIRA CARVALHO Pregoeiro</div></span>"
      ],
      "text/plain": [
       "<IPython.core.display.HTML object>"
      ]
     },
     "metadata": {},
     "output_type": "display_data"
    },
    {
     "data": {
      "text/html": [
       "<span class=\"tex2jax_ignore\"><div class=\"entities\" style=\"line-height: 2.5; direction: ltr\">AVISO DE SUSPENSÃO SINE DIE \n",
       "<mark class=\"entity\" style=\"background: #ddd; padding: 0.45em 0.6em; margin: 0 0.25em; line-height: 1; border-radius: 0.35em;\">\n",
       "    CONCORRÊNCIA\n",
       "    <span style=\"font-size: 0.8em; font-weight: bold; line-height: 1; border-radius: 0.35em; vertical-align: middle; margin-left: 0.5rem\">modalidade_licitacao</span>\n",
       "</mark>\n",
       " Nº \n",
       "<mark class=\"entity\" style=\"background: #ddd; padding: 0.45em 0.6em; margin: 0 0.25em; line-height: 1; border-radius: 0.35em;\">\n",
       "    01/2022\n",
       "    <span style=\"font-size: 0.8em; font-weight: bold; line-height: 1; border-radius: 0.35em; vertical-align: middle; margin-left: 0.5rem\">numero_licitacao</span>\n",
       "</mark>\n",
       " Processo: \n",
       "<mark class=\"entity\" style=\"background: #ddd; padding: 0.45em 0.6em; margin: 0 0.25em; line-height: 1; border-radius: 0.35em;\">\n",
       "    00094-00005189/2020-41\n",
       "    <span style=\"font-size: 0.8em; font-weight: bold; line-height: 1; border-radius: 0.35em; vertical-align: middle; margin-left: 0.5rem\">processo_gdf</span>\n",
       "</mark>\n",
       ". Objeto: Contratação de empresa especializada para implantação, operação e manutenção das 3ª e 4ª etapas do Aterro Sanitário de Brasília, conforme as especificações, quantidades e condições constantes do Anexo I do Edital. A COMISSÃO PERMANENTE DE LICITAÇÃO, DO SERVIÇO DE LIMPEZA URBANA DO DISTRITO FEDERAL, torna público a suspensão da \n",
       "<mark class=\"entity\" style=\"background: #ddd; padding: 0.45em 0.6em; margin: 0 0.25em; line-height: 1; border-radius: 0.35em;\">\n",
       "    Concorrência\n",
       "    <span style=\"font-size: 0.8em; font-weight: bold; line-height: 1; border-radius: 0.35em; vertical-align: middle; margin-left: 0.5rem\">modalidade_licitacao</span>\n",
       "</mark>\n",
       ", em referência, agendada para o dia 15/03/2022, às 09h00min (horário de Brasília) no endereço Setor Comercial Sul Quadra 08 Bl. B-50, 6º andar Ed. Venâncio 2.000 Auditório - Brasília DF, está suspensa, sine die, para ajustes no Anexo I (Termo de Referência) do Edital, a qual impactará na formulação das propostas, em virtude de impugnação apresentada aos termos do Edital. A nova versão do Edital será republicada com nova data para abertura do certame. Informações pelo site do SLU www.slu.df.gov.br ou pelo telefones 3213-0200. Brasília/DF, 04 de março de 2022 NEIDE APARECIDA BARROS DA SILVA</div></span>"
      ],
      "text/plain": [
       "<IPython.core.display.HTML object>"
      ]
     },
     "metadata": {},
     "output_type": "display_data"
    },
    {
     "data": {
      "text/html": [
       "<span class=\"tex2jax_ignore\"><div class=\"entities\" style=\"line-height: 2.5; direction: ltr\">AVISO DE SUSPENSÃO \n",
       "<mark class=\"entity\" style=\"background: #ddd; padding: 0.45em 0.6em; margin: 0 0.25em; line-height: 1; border-radius: 0.35em;\">\n",
       "    PREGÃO ELETRÔNICO\n",
       "    <span style=\"font-size: 0.8em; font-weight: bold; line-height: 1; border-radius: 0.35em; vertical-align: middle; margin-left: 0.5rem\">modalidade_licitacao</span>\n",
       "</mark>\n",
       " Nº \n",
       "<mark class=\"entity\" style=\"background: #ddd; padding: 0.45em 0.6em; margin: 0 0.25em; line-height: 1; border-radius: 0.35em;\">\n",
       "    01/2022\n",
       "    <span style=\"font-size: 0.8em; font-weight: bold; line-height: 1; border-radius: 0.35em; vertical-align: middle; margin-left: 0.5rem\">numero_licitacao</span>\n",
       "</mark>\n",
       " - UASG 928082 Processo: \n",
       "<mark class=\"entity\" style=\"background: #ddd; padding: 0.45em 0.6em; margin: 0 0.25em; line-height: 1; border-radius: 0.35em;\">\n",
       "    04026-00018821/2021-80\n",
       "    <span style=\"font-size: 0.8em; font-weight: bold; line-height: 1; border-radius: 0.35em; vertical-align: middle; margin-left: 0.5rem\">processo_gdf</span>\n",
       "</mark>\n",
       ". TIPO: Menor preço. OBJETO: Registro de preços para contratação de serviço especializado de impressão corporativa (outsourcing de impressão), compreendendo impressão, digitalização e reprodução de cópias, incluindo assistência técnica, manutenção preventiva e corretiva dos equipamentos com substituição de peças, bem como o fornecimento de sistema de gerenciamento e contabilização (bilhetagem) e consumíveis (exceto papel), assim como serviços de gestão, controle e operacionalização da solução, a fim de atender as necessidades da Secretaria de Estado de Administração Penitenciária do Distrito Federal (SEAPE). A SUAG informa a SUSPENSÃO da abertura da licitação, cuja abertura foi publicada no DODF nº 47, de 10 de março de 2022, tendo em vista a necessidade de revisão de especificação. A nova data de abertura da licitação será comunicada por meio de publicação na imprensa oficial ou www.seape.df.gov.br/licitacao. JEFERSON LISBOA GIMENES Subsecretário</div></span>"
      ],
      "text/plain": [
       "<IPython.core.display.HTML object>"
      ]
     },
     "metadata": {},
     "output_type": "display_data"
    },
    {
     "data": {
      "text/html": [
       "<span class=\"tex2jax_ignore\"><div class=\"entities\" style=\"line-height: 2.5; direction: ltr\">AVISO DE SUSPENSÃO \n",
       "<mark class=\"entity\" style=\"background: #ddd; padding: 0.45em 0.6em; margin: 0 0.25em; line-height: 1; border-radius: 0.35em;\">\n",
       "    PREGÃO ELETRÔNICO\n",
       "    <span style=\"font-size: 0.8em; font-weight: bold; line-height: 1; border-radius: 0.35em; vertical-align: middle; margin-left: 0.5rem\">modalidade_licitacao</span>\n",
       "</mark>\n",
       " Nº \n",
       "<mark class=\"entity\" style=\"background: #ddd; padding: 0.45em 0.6em; margin: 0 0.25em; line-height: 1; border-radius: 0.35em;\">\n",
       "    11/2021\n",
       "    <span style=\"font-size: 0.8em; font-weight: bold; line-height: 1; border-radius: 0.35em; vertical-align: middle; margin-left: 0.5rem\">numero_licitacao</span>\n",
       "</mark>\n",
       " Processo: \n",
       "<mark class=\"entity\" style=\"background: #ddd; padding: 0.45em 0.6em; margin: 0 0.25em; line-height: 1; border-radius: 0.35em;\">\n",
       "    00055-00048823/2020-51\n",
       "    <span style=\"font-size: 0.8em; font-weight: bold; line-height: 1; border-radius: 0.35em; vertical-align: middle; margin-left: 0.5rem\">processo_gdf</span>\n",
       "</mark>\n",
       ". Comunico a suspensão do aludido pregão, publicado no DODF n° 105, de 08 de junho de 202, página 63. Objeto: Registro de Preços para aquisição de veículos automotores caracterizados a serem utilizados em transporte de servidores e carga do Departamento de Trânsito do Distrito Federal, conforme condições, quantidades, exigências e estimativas, estabelecidas no Termo de Referência, constantes no Anexo A deste Edital. Mais informações, e-mail: licitacao@detran.df.gov.br. Brasília/DF, 16 de junho de 2021 BRUNO OLIVEIRA CAETANO Pregoeiro</div></span>"
      ],
      "text/plain": [
       "<IPython.core.display.HTML object>"
      ]
     },
     "metadata": {},
     "output_type": "display_data"
    },
    {
     "data": {
      "text/html": [
       "<span class=\"tex2jax_ignore\"><div class=\"entities\" style=\"line-height: 2.5; direction: ltr\">AVISO DE SUSPENSÃO SINE DIE \n",
       "<mark class=\"entity\" style=\"background: #ddd; padding: 0.45em 0.6em; margin: 0 0.25em; line-height: 1; border-radius: 0.35em;\">\n",
       "    CONCORRÊNCIA\n",
       "    <span style=\"font-size: 0.8em; font-weight: bold; line-height: 1; border-radius: 0.35em; vertical-align: middle; margin-left: 0.5rem\">modalidade_licitacao</span>\n",
       "</mark>\n",
       " PÚBLICA Nº \n",
       "<mark class=\"entity\" style=\"background: #ddd; padding: 0.45em 0.6em; margin: 0 0.25em; line-height: 1; border-radius: 0.35em;\">\n",
       "    01/2018\n",
       "    <span style=\"font-size: 0.8em; font-weight: bold; line-height: 1; border-radius: 0.35em; vertical-align: middle; margin-left: 0.5rem\">numero_licitacao</span>\n",
       "</mark>\n",
       " Processo: \n",
       "<mark class=\"entity\" style=\"background: #ddd; padding: 0.45em 0.6em; margin: 0 0.25em; line-height: 1; border-radius: 0.35em;\">\n",
       "    094-0000608/2017\n",
       "    <span style=\"font-size: 0.8em; font-weight: bold; line-height: 1; border-radius: 0.35em; vertical-align: middle; margin-left: 0.5rem\">processo_gdf</span>\n",
       "</mark>\n",
       ". Objeto: Contratação de empresa(s) especializada(s) cujo objeto é a contratação de empresa especializada para prestação de serviços de operação e manutenção da Usina de Tratamento Mecânico Biológico da Ceilândia (UTMB) Ceilândia) e da Usina de Tratamento Mecânico Biológico da Asa Sul (UTMB Asa Sul), as quais tem como função o tratamento dos resíduos sólidos domiciliares indiferenciados provenientes da coleta convencional., conforme descritos no Edital. O SERVIÇO DE LIMPEZA URBANA DO DISTRITO FEDERAL, por meio de sua Comissão Especial de Licitação, TORNA PÚBLICO que a \n",
       "<mark class=\"entity\" style=\"background: #ddd; padding: 0.45em 0.6em; margin: 0 0.25em; line-height: 1; border-radius: 0.35em;\">\n",
       "    Concorrência\n",
       "    <span style=\"font-size: 0.8em; font-weight: bold; line-height: 1; border-radius: 0.35em; vertical-align: middle; margin-left: 0.5rem\">modalidade_licitacao</span>\n",
       "</mark>\n",
       " Pública, em referência, cuja abertura está agendada para o dia 21 de junho de 2021, às 09h00min (horário de Brasília) no endereço, no AUDITÓRIO DO SLU/DF Espaço do Saber - SETOR COMERCIAL SUL Quadra 08 Bl. B-50, 6º andar Ed. Venâncio 2.000 Brasília/DF, publicada no DODF nº 93, de 19 de maio de 2021 página 51, e no Jornal de Brasília, de 19 de maio de 2021, página 19, fica suspensa, sine die, para análise e ajuste nas Planilhas de Custos que integram o Edital. O Edital será republicado com nova data para abertura do certame. Informações pelo site do SLU: www.slu.df.gov.br ou pelo telefone (61) 3213-0200. NEIDE APARECIDA BARROS DA SILVA Presidente da Comissão</div></span>"
      ],
      "text/plain": [
       "<IPython.core.display.HTML object>"
      ]
     },
     "metadata": {},
     "output_type": "display_data"
    },
    {
     "data": {
      "text/html": [
       "<span class=\"tex2jax_ignore\"><div class=\"entities\" style=\"line-height: 2.5; direction: ltr\">AVISO DE SUSPENSÃO \n",
       "<mark class=\"entity\" style=\"background: #ddd; padding: 0.45em 0.6em; margin: 0 0.25em; line-height: 1; border-radius: 0.35em;\">\n",
       "    PREGÃO ELETRÔNICO\n",
       "    <span style=\"font-size: 0.8em; font-weight: bold; line-height: 1; border-radius: 0.35em; vertical-align: middle; margin-left: 0.5rem\">modalidade_licitacao</span>\n",
       "</mark>\n",
       " Nº \n",
       "<mark class=\"entity\" style=\"background: #ddd; padding: 0.45em 0.6em; margin: 0 0.25em; line-height: 1; border-radius: 0.35em;\">\n",
       "    56/2020\n",
       "    <span style=\"font-size: 0.8em; font-weight: bold; line-height: 1; border-radius: 0.35em; vertical-align: middle; margin-left: 0.5rem\">numero_licitacao</span>\n",
       "</mark>\n",
       " Processo: \n",
       "<mark class=\"entity\" style=\"background: #ddd; padding: 0.45em 0.6em; margin: 0 0.25em; line-height: 1; border-radius: 0.35em;\">\n",
       "    00054-00078653/2018-42\n",
       "    <span style=\"font-size: 0.8em; font-weight: bold; line-height: 1; border-radius: 0.35em; vertical-align: middle; margin-left: 0.5rem\">processo_gdf</span>\n",
       "</mark>\n",
       ". O Departamento de Logística e Finanças, da Polícia Militar do Distrito Federal torna público aos interessados a SUSPENSÃO &quot;sine die&quot; do certame em epígrafe, cujo objeto é o registro de preço para aquisição de três veículos, categoria mini furgão, adaptado para gerenciamento e suporte do sistema integrado de soluções tecnológicas utilizadas na interceptação ambiental, munido de equipamentos: mecânicos, elétricos, eletrônicos, informática e de comunicações, em conformidade com as especificações e condições constantes do termo de referência de que trata o Anexo I do edital. Valor estimado: R$ 1.077.533,55 (um milhão, setenta e sete mil, quinhentos e trinta e três reais e cinquenta e cinco centavos). Tipo: Menor Preço. Data limite para recebimento das propostas: Dia 05/07/2021 às 08h30 (horário de Brasília/DF). Elemento de despesa: 3.3.90.30 ou 4.4.90-52. UASG: 926016. Informações no e-mail: splpmdf@gmail.com e no tel.: (61) 3190-5557. Brasília/DF, 06 de julho de 2021 BILMAR ANGELIS DE ALMEIDA FERREIRA Ordenador de Despesa</div></span>"
      ],
      "text/plain": [
       "<IPython.core.display.HTML object>"
      ]
     },
     "metadata": {},
     "output_type": "display_data"
    },
    {
     "data": {
      "text/html": [
       "<span class=\"tex2jax_ignore\"><div class=\"entities\" style=\"line-height: 2.5; direction: ltr\">AVISO DE SUSPENSÃO \n",
       "<mark class=\"entity\" style=\"background: #ddd; padding: 0.45em 0.6em; margin: 0 0.25em; line-height: 1; border-radius: 0.35em;\">\n",
       "    PREGÃO ELETRÔNICO\n",
       "    <span style=\"font-size: 0.8em; font-weight: bold; line-height: 1; border-radius: 0.35em; vertical-align: middle; margin-left: 0.5rem\">modalidade_licitacao</span>\n",
       "</mark>\n",
       " Nº \n",
       "<mark class=\"entity\" style=\"background: #ddd; padding: 0.45em 0.6em; margin: 0 0.25em; line-height: 1; border-radius: 0.35em;\">\n",
       "    07/2021\n",
       "    <span style=\"font-size: 0.8em; font-weight: bold; line-height: 1; border-radius: 0.35em; vertical-align: middle; margin-left: 0.5rem\">numero_licitacao</span>\n",
       "</mark>\n",
       " (AMPLA \n",
       "<mark class=\"entity\" style=\"background: #ddd; padding: 0.45em 0.6em; margin: 0 0.25em; line-height: 1; border-radius: 0.35em;\">\n",
       "    CONCORRÊNCIA\n",
       "    <span style=\"font-size: 0.8em; font-weight: bold; line-height: 1; border-radius: 0.35em; vertical-align: middle; margin-left: 0.5rem\">modalidade_licitacao</span>\n",
       "</mark>\n",
       ") O GOVERNO DO DISTRITO FEDERAL POR MEIO DA SECRETARIA DE ESTADO DA AGRICULTURA, ABASTECIMENTO E DESENVOLVIMENTO RURAL DO DISTRITO FEDERAL SEAGRI/DF torna público que SUSPENDERÁ a licitação do tipo MENOR PREÇO UNITÁRIO, na modalidade de PREGÃO na forma ELETRÔNICA, com previsão de abertura do certame para 07/07/2021, às 09h30m. Processo \n",
       "<mark class=\"entity\" style=\"background: #ddd; padding: 0.45em 0.6em; margin: 0 0.25em; line-height: 1; border-radius: 0.35em;\">\n",
       "    0007000004590/2020-41(SEI\n",
       "    <span style=\"font-size: 0.8em; font-weight: bold; line-height: 1; border-radius: 0.35em; vertical-align: middle; margin-left: 0.5rem\">processo_gdf</span>\n",
       "</mark>\n",
       "). OBJETO: Aquisição de veículos do tipo furgão leve de carga para atender demandas de associações de produtores rurais do Distrito Federal, de modo a garantir o transporte de produtos da agricultura familiar até os pontos de comercialização e de insumos até as propriedades dos associados, de acordo com o detalhamento descrito no item 3, do Termo de Referência, bem como descrição, características, prazos, condições e demais obrigações e informações constantes, com valor Total estimado de R$ 164.000,00 (cento e sessenta e quatro mil reais). Após decidido as alterações do Termo de Referência será publicado nova data de abertura e novo Edital com o mínimo de 08 (oito) dias úteis pra novas propostas. O AVISO DE SUSPENSÃO poderá ser retirado a partir da publicação no Portal www.comprasgovernamentais.gov.br ou no portal da SEAGRI-DF, Licitação , a partir da sua divulgação. NATANAEL FÉLIX DOS SANTOS Pregoeiro</div></span>"
      ],
      "text/plain": [
       "<IPython.core.display.HTML object>"
      ]
     },
     "metadata": {},
     "output_type": "display_data"
    },
    {
     "data": {
      "text/html": [
       "<span class=\"tex2jax_ignore\"><div class=\"entities\" style=\"line-height: 2.5; direction: ltr\">AVISO DE SUSPENSÃO DE LICITAÇÃO LIC SERVIÇOS CEB-H Nº 01-S01424/2021 (ELETRÔNICO) A Companhia Energética de Brasília - CEB, por meio da Comissão Especial Julgadora de Licitação - CEJL, localizada no SIA Setor de Áreas Públicas, Lote C , Bloco F Brasília DF, torna público que, após ciência de notificação para suspensão da abertura desse certame, Decisão nº 2456/2021 Tribunal de Contas do Distrito Federal, fica suspensa sine die, a licitação em epígrafe. Brasília/DF, 05 de junho de 2021 MARCELO ANDRADE CRUZ Presidente da Comissão</div></span>"
      ],
      "text/plain": [
       "<IPython.core.display.HTML object>"
      ]
     },
     "metadata": {},
     "output_type": "display_data"
    },
    {
     "data": {
      "text/html": [
       "<span class=\"tex2jax_ignore\"><div class=\"entities\" style=\"line-height: 2.5; direction: ltr\">AVISO DE SUSPENSÃO SINE DIE \n",
       "<mark class=\"entity\" style=\"background: #ddd; padding: 0.45em 0.6em; margin: 0 0.25em; line-height: 1; border-radius: 0.35em;\">\n",
       "    PREGÃO ELETRÔNICO\n",
       "    <span style=\"font-size: 0.8em; font-weight: bold; line-height: 1; border-radius: 0.35em; vertical-align: middle; margin-left: 0.5rem\">modalidade_licitacao</span>\n",
       "</mark>\n",
       " Nº \n",
       "<mark class=\"entity\" style=\"background: #ddd; padding: 0.45em 0.6em; margin: 0 0.25em; line-height: 1; border-radius: 0.35em;\">\n",
       "    06/2021\n",
       "    <span style=\"font-size: 0.8em; font-weight: bold; line-height: 1; border-radius: 0.35em; vertical-align: middle; margin-left: 0.5rem\">numero_licitacao</span>\n",
       "</mark>\n",
       " Processo: \n",
       "<mark class=\"entity\" style=\"background: #ddd; padding: 0.45em 0.6em; margin: 0 0.25em; line-height: 1; border-radius: 0.35em;\">\n",
       "    00094-00005554/2020-17\n",
       "    <span style=\"font-size: 0.8em; font-weight: bold; line-height: 1; border-radius: 0.35em; vertical-align: middle; margin-left: 0.5rem\">processo_gdf</span>\n",
       "</mark>\n",
       ". Objeto: Contratação de Agente de Integração para operacionalização de Programa de Estágio não Obrigatório no Serviço de Limpeza Urbana do Distrito Federal, para estudantes matriculados e com frequência efetiva nos cursos vinculados ao ensino público e particular, oficiais ou reconhecidos e devidamente autorizados a funcionar, em cursos de educação superior, de ensino médio, de educação profissional de nível médio ou superior ou escolas de educação continuada, conforme especificações técnicas e demais condições constante do Termo de Referência - Anexo I do Edital. A Pregoeira do SERVIÇO DE LIMPEZA URBANA DO DISTRITO FEDERAL torna público que o \n",
       "<mark class=\"entity\" style=\"background: #ddd; padding: 0.45em 0.6em; margin: 0 0.25em; line-height: 1; border-radius: 0.35em;\">\n",
       "    Pregão Eletrônico\n",
       "    <span style=\"font-size: 0.8em; font-weight: bold; line-height: 1; border-radius: 0.35em; vertical-align: middle; margin-left: 0.5rem\">modalidade_licitacao</span>\n",
       "</mark>\n",
       ", em referência, cuja abertura está agendada para o dia 08 de julho de 2021, às 09h00min (horário de Brasília), no endereço eletrônico wvw.comprasgovernamentais.gov.br, publicado no DODF nº 118, de 25 de junho de 2021, página 57, fica suspenso sine die, para melhor análise da impugnação e do pedido de esclarecimento apresentados aos ternos do Edital. O Edital será republicado com nova data para abertura do certame. Informações pelo site do SLU: www.slu.df.gov.br ou pelo telefone (61) 3213-0200. NEIDE APARECIDA BARROS DA SILVA</div></span>"
      ],
      "text/plain": [
       "<IPython.core.display.HTML object>"
      ]
     },
     "metadata": {},
     "output_type": "display_data"
    },
    {
     "data": {
      "text/html": [
       "<span class=\"tex2jax_ignore\"><div class=\"entities\" style=\"line-height: 2.5; direction: ltr\">AVISO DE SUSPENSÃO &quot;SINE DIE&quot; \n",
       "<mark class=\"entity\" style=\"background: #ddd; padding: 0.45em 0.6em; margin: 0 0.25em; line-height: 1; border-radius: 0.35em;\">\n",
       "    PREGÃO ELETRÔNICO\n",
       "    <span style=\"font-size: 0.8em; font-weight: bold; line-height: 1; border-radius: 0.35em; vertical-align: middle; margin-left: 0.5rem\">modalidade_licitacao</span>\n",
       "</mark>\n",
       " SRP Nº \n",
       "<mark class=\"entity\" style=\"background: #ddd; padding: 0.45em 0.6em; margin: 0 0.25em; line-height: 1; border-radius: 0.35em;\">\n",
       "    09/2021\n",
       "    <span style=\"font-size: 0.8em; font-weight: bold; line-height: 1; border-radius: 0.35em; vertical-align: middle; margin-left: 0.5rem\">numero_licitacao</span>\n",
       "</mark>\n",
       " - (UASG 450432) A Pregoeira da Secretaria de Estado de Educação do Distrito Federal torna público a Suspensão &quot;sine die&quot; do \n",
       "<mark class=\"entity\" style=\"background: #ddd; padding: 0.45em 0.6em; margin: 0 0.25em; line-height: 1; border-radius: 0.35em;\">\n",
       "    pregão eletrônico\n",
       "    <span style=\"font-size: 0.8em; font-weight: bold; line-height: 1; border-radius: 0.35em; vertical-align: middle; margin-left: 0.5rem\">modalidade_licitacao</span>\n",
       "</mark>\n",
       " que tem como objeto o Registro de Preços para contratação de empresa especializada na prestação de serviços de vigilância armada (letal e não letal) e supervisão motorizada, com fornecimento de mão-de-obra, materiais e equipamentos nas Instituições Educacionais, Unidades Orgânicas e Coordenações Regionais de Ensino, conforme condições, quantidades e exigências estabelecidas no Edital e seus anexos. Processo \n",
       "<mark class=\"entity\" style=\"background: #ddd; padding: 0.45em 0.6em; margin: 0 0.25em; line-height: 1; border-radius: 0.35em;\">\n",
       "    00080-00169855/2020-18\n",
       "    <span style=\"font-size: 0.8em; font-weight: bold; line-height: 1; border-radius: 0.35em; vertical-align: middle; margin-left: 0.5rem\">processo_gdf</span>\n",
       "</mark>\n",
       ", a pedido do setor demandante, para análise das impugnações e esclarecimentos recebidos. Oportunamente, após a realização da análise, será divulgada nova data de abertura na forma da Lei. REGINA RODRIGUES PORTO</div></span>"
      ],
      "text/plain": [
       "<IPython.core.display.HTML object>"
      ]
     },
     "metadata": {},
     "output_type": "display_data"
    },
    {
     "data": {
      "text/html": [
       "<span class=\"tex2jax_ignore\"><div class=\"entities\" style=\"line-height: 2.5; direction: ltr\">AVISO DE SUSPENSÃO \n",
       "<mark class=\"entity\" style=\"background: #ddd; padding: 0.45em 0.6em; margin: 0 0.25em; line-height: 1; border-radius: 0.35em;\">\n",
       "    PREGÃO ELETRÔNICO\n",
       "    <span style=\"font-size: 0.8em; font-weight: bold; line-height: 1; border-radius: 0.35em; vertical-align: middle; margin-left: 0.5rem\">modalidade_licitacao</span>\n",
       "</mark>\n",
       " Nº \n",
       "<mark class=\"entity\" style=\"background: #ddd; padding: 0.45em 0.6em; margin: 0 0.25em; line-height: 1; border-radius: 0.35em;\">\n",
       "    09/2021\n",
       "    <span style=\"font-size: 0.8em; font-weight: bold; line-height: 1; border-radius: 0.35em; vertical-align: middle; margin-left: 0.5rem\">numero_licitacao</span>\n",
       "</mark>\n",
       " Processo: \n",
       "<mark class=\"entity\" style=\"background: #ddd; padding: 0.45em 0.6em; margin: 0 0.25em; line-height: 1; border-radius: 0.35em;\">\n",
       "    00055-00068177/2020-48\n",
       "    <span style=\"font-size: 0.8em; font-weight: bold; line-height: 1; border-radius: 0.35em; vertical-align: middle; margin-left: 0.5rem\">processo_gdf</span>\n",
       "</mark>\n",
       ". Comunico a suspensão do aludido pregão. Objeto: aquisição de 433 (quatrocentos e trinta e três) coletes de proteção balística nível III-A, confeccionados em polietileno ou aramida, com proteção a disparos de projéteis de armas de fogo de calibres até 44 magnum e 9mm FMJ RN de alta Velocidade, para atender as necessidades dos Agentes de Trânsito do Departamento de Trânsito do Distrito Federal no desempenho de suas atividades, de acordo com as condições, especificações, quantitativos, exigências e estimativas estabelecidas neste Termo de Referência e anexos. Mais informações e-mail licitacao@detran.df.gov.br. Brasília/DF, 28 de maio de 2021 KARINA DA SILVA LIMA Pregoeira</div></span>"
      ],
      "text/plain": [
       "<IPython.core.display.HTML object>"
      ]
     },
     "metadata": {},
     "output_type": "display_data"
    },
    {
     "data": {
      "text/html": [
       "<span class=\"tex2jax_ignore\"><div class=\"entities\" style=\"line-height: 2.5; direction: ltr\">AVISO DE SUSPENSÃO \n",
       "<mark class=\"entity\" style=\"background: #ddd; padding: 0.45em 0.6em; margin: 0 0.25em; line-height: 1; border-radius: 0.35em;\">\n",
       "    PREGÃO ELETRÔNICO\n",
       "    <span style=\"font-size: 0.8em; font-weight: bold; line-height: 1; border-radius: 0.35em; vertical-align: middle; margin-left: 0.5rem\">modalidade_licitacao</span>\n",
       "</mark>\n",
       " Nº \n",
       "<mark class=\"entity\" style=\"background: #ddd; padding: 0.45em 0.6em; margin: 0 0.25em; line-height: 1; border-radius: 0.35em;\">\n",
       "    41/2021\n",
       "    <span style=\"font-size: 0.8em; font-weight: bold; line-height: 1; border-radius: 0.35em; vertical-align: middle; margin-left: 0.5rem\">numero_licitacao</span>\n",
       "</mark>\n",
       " A presente licitação tem por objeto a contratação de empresa(s) para o fornecimento de peças, acessórios novos genuínos ou originais dos caminhões, automóveis, utilitários, camionetas, ônibus, micro ônibus, viaturas e motocicletas da frota do Departamento de Estradas de Rodagem do Distrito Federal - DER-DF e do Batalhão de Policiamento de Trânsito da Polícia Militar do Distrito Federal - BPRv, tudo conforme especificado no Edital e em seus anexos. Processo \n",
       "<mark class=\"entity\" style=\"background: #ddd; padding: 0.45em 0.6em; margin: 0 0.25em; line-height: 1; border-radius: 0.35em;\">\n",
       "    00113-00007569/2019-56\n",
       "    <span style=\"font-size: 0.8em; font-weight: bold; line-height: 1; border-radius: 0.35em; vertical-align: middle; margin-left: 0.5rem\">processo_gdf</span>\n",
       "</mark>\n",
       ". Fica suspensa em atendimento a determinação do Tribunal de Contas do Distrito Federal, contida no Despacho Singular nº 285/2021-GCRR, de 8 de junho de 2021. Brasília/DF, 08 de junho de 2021 ANA HILDA DO CARMO SILVA Diretora</div></span>"
      ],
      "text/plain": [
       "<IPython.core.display.HTML object>"
      ]
     },
     "metadata": {},
     "output_type": "display_data"
    },
    {
     "data": {
      "text/html": [
       "<span class=\"tex2jax_ignore\"><div class=\"entities\" style=\"line-height: 2.5; direction: ltr\">AVISO DE LICITAÇÃO \n",
       "<mark class=\"entity\" style=\"background: #ddd; padding: 0.45em 0.6em; margin: 0 0.25em; line-height: 1; border-radius: 0.35em;\">\n",
       "    PREGÃO ELETRÔNICO\n",
       "    <span style=\"font-size: 0.8em; font-weight: bold; line-height: 1; border-radius: 0.35em; vertical-align: middle; margin-left: 0.5rem\">modalidade_licitacao</span>\n",
       "</mark>\n",
       " Nº \n",
       "<mark class=\"entity\" style=\"background: #ddd; padding: 0.45em 0.6em; margin: 0 0.25em; line-height: 1; border-radius: 0.35em;\">\n",
       "    53/2021\n",
       "    <span style=\"font-size: 0.8em; font-weight: bold; line-height: 1; border-radius: 0.35em; vertical-align: middle; margin-left: 0.5rem\">numero_licitacao</span>\n",
       "</mark>\n",
       " - UASG 974002 O Pregoeiro comunica aos interessados que o pregão acima citado, tendo por objeto registro de preço a eventual contratação de empresa especializada para Expansão de Solução Integrada de Segurança de Redes composta de cluster de firewalls tipo chassi, com licenciamento, garantia e suporte técnico por 36 meses para equipamentos novos e legado, visando atender as necessidades da Subsecretaria de Tecnologia da Informação e Comunicação - SUTIC, da Secretaria de Estado de Economia do Distrito Federal, foi suspenso em obediência a determinação constante do inciso II, letra a , do despacho singular nº 189/2021-GCPM-TCDF, com fulcro no art. 113, § 2º, da Lei nº 8.666/93, c/c os arts. 123 e 277 do Regimento Interno do TCDF, até ulterior deliberação. Processo \n",
       "<mark class=\"entity\" style=\"background: #ddd; padding: 0.45em 0.6em; margin: 0 0.25em; line-height: 1; border-radius: 0.35em;\">\n",
       "    00040-00033884/2020-91\n",
       "    <span style=\"font-size: 0.8em; font-weight: bold; line-height: 1; border-radius: 0.35em; vertical-align: middle; margin-left: 0.5rem\">processo_gdf</span>\n",
       "</mark>\n",
       ". Demais informações no site: www.comprasgovernamentais.gov.br ou pelo e-mail: pregoeirosulog14@economia.df.gov.br. Brasília/DF, 21 de junho de 2021 EDMAR FIRMINO LIMA</div></span>"
      ],
      "text/plain": [
       "<IPython.core.display.HTML object>"
      ]
     },
     "metadata": {},
     "output_type": "display_data"
    },
    {
     "data": {
      "text/html": [
       "<span class=\"tex2jax_ignore\"><div class=\"entities\" style=\"line-height: 2.5; direction: ltr\">AVISO DE SUSPENSÃO DE LICITAÇÃO \n",
       "<mark class=\"entity\" style=\"background: #ddd; padding: 0.45em 0.6em; margin: 0 0.25em; line-height: 1; border-radius: 0.35em;\">\n",
       "    PREGÃO ELETRÔNICO\n",
       "    <span style=\"font-size: 0.8em; font-weight: bold; line-height: 1; border-radius: 0.35em; vertical-align: middle; margin-left: 0.5rem\">modalidade_licitacao</span>\n",
       "</mark>\n",
       " Nº \n",
       "<mark class=\"entity\" style=\"background: #ddd; padding: 0.45em 0.6em; margin: 0 0.25em; line-height: 1; border-radius: 0.35em;\">\n",
       "    14/2021\n",
       "    <span style=\"font-size: 0.8em; font-weight: bold; line-height: 1; border-radius: 0.35em; vertical-align: middle; margin-left: 0.5rem\">numero_licitacao</span>\n",
       "</mark>\n",
       " Processo: \n",
       "<mark class=\"entity\" style=\"background: #ddd; padding: 0.45em 0.6em; margin: 0 0.25em; line-height: 1; border-radius: 0.35em;\">\n",
       "    00050-00030703/2019-02\n",
       "    <span style=\"font-size: 0.8em; font-weight: bold; line-height: 1; border-radius: 0.35em; vertical-align: middle; margin-left: 0.5rem\">processo_gdf</span>\n",
       "</mark>\n",
       ". TIPO: Menor Preço. OBJETO: Aquisição de equipamentos de Tecnologia da Informação e Comunicação (TIC) objetivando a modernização do parque de computadores e notebooks do Centro Integrado de Operações de Brasília (CIOB), realizado pela Secretaria de Segurança Pública do Distrito Federal (SSP/DF), por meio da aquisição de estação de trabalho completa com microcomputador, monitor, teclado e mouse e computador portátil tipo notebook para a SSPDF. A SSP, nos termos do artigo 22 do Decreto 10.024/2019, recepcionado pelo Decreto distrital nº 40.205/2019, comunica a suspensão da abertura deste certame para retificação no Edital, em função de pedido de esclarecimento. Oportunamente será divulgada nova data de abertura na forma da Lei. Brasília/DF, 08 de junho de 2021 AMILCAR UBIRATAN URACH VIEIRA Coordenador</div></span>"
      ],
      "text/plain": [
       "<IPython.core.display.HTML object>"
      ]
     },
     "metadata": {},
     "output_type": "display_data"
    },
    {
     "data": {
      "text/html": [
       "<span class=\"tex2jax_ignore\"><div class=\"entities\" style=\"line-height: 2.5; direction: ltr\">AVISO DE SUSPENSÃO \n",
       "<mark class=\"entity\" style=\"background: #ddd; padding: 0.45em 0.6em; margin: 0 0.25em; line-height: 1; border-radius: 0.35em;\">\n",
       "    PREGÃO ELETRÔNICO\n",
       "    <span style=\"font-size: 0.8em; font-weight: bold; line-height: 1; border-radius: 0.35em; vertical-align: middle; margin-left: 0.5rem\">modalidade_licitacao</span>\n",
       "</mark>\n",
       " Nº \n",
       "<mark class=\"entity\" style=\"background: #ddd; padding: 0.45em 0.6em; margin: 0 0.25em; line-height: 1; border-radius: 0.35em;\">\n",
       "    39/2021\n",
       "    <span style=\"font-size: 0.8em; font-weight: bold; line-height: 1; border-radius: 0.35em; vertical-align: middle; margin-left: 0.5rem\">numero_licitacao</span>\n",
       "</mark>\n",
       " A presente licitação tem por objeto a contratação, por meio de Sistema de Registro de Preços, de empresa especializada para prestação dos serviços de Tratamento Ambiental do Departamento de Estradas de Rodagem do Distrito Federal - DER/DF, composto de Profilaxia com Soluções para Ambientes Biosseguros, dispondo de tecnologia para combater e eliminar contaminação do novo coronavírus e outros patógenos, como bactérias, fungos e ácaros, tudo conforme especificado no Edital e em seus anexos. Processo \n",
       "<mark class=\"entity\" style=\"background: #ddd; padding: 0.45em 0.6em; margin: 0 0.25em; line-height: 1; border-radius: 0.35em;\">\n",
       "    00113-00015070/2020-56\n",
       "    <span style=\"font-size: 0.8em; font-weight: bold; line-height: 1; border-radius: 0.35em; vertical-align: middle; margin-left: 0.5rem\">processo_gdf</span>\n",
       "</mark>\n",
       ". Fica suspensa em atendimento a determinação do Tribunal de Contas do Distrito Federal, contida no Despacho Singular n° 179/2021, de 07 de junho de 2021. Brasília/DF, 07 de junho de 2021 ANA HILDA DO CARMO SILVA Diretora</div></span>"
      ],
      "text/plain": [
       "<IPython.core.display.HTML object>"
      ]
     },
     "metadata": {},
     "output_type": "display_data"
    },
    {
     "data": {
      "text/html": [
       "<span class=\"tex2jax_ignore\"><div class=\"entities\" style=\"line-height: 2.5; direction: ltr\">AVISO DE SUSPENSÃO &quot;SINE DIE&quot; PROCEDIMENTO ORDINÁRIO DE LICITAÇÃO Nº \n",
       "<mark class=\"entity\" style=\"background: #ddd; padding: 0.45em 0.6em; margin: 0 0.25em; line-height: 1; border-radius: 0.35em;\">\n",
       "    02/2020\n",
       "    <span style=\"font-size: 0.8em; font-weight: bold; line-height: 1; border-radius: 0.35em; vertical-align: middle; margin-left: 0.5rem\">numero_licitacao</span>\n",
       "</mark>\n",
       " O METRÔ-DF torna pública a SUSPENSÃO &quot;SINE DIE&quot; da abertura do PROCEDIMENTO ORDINÁRIO DE LICITAÇÃO - POL Nº 02/2020 que objetiva a Contratação de empresa para Modernização do Sistema de Energia da Linha 1 do METRÔ-DF, instruído no processo \n",
       "<mark class=\"entity\" style=\"background: #ddd; padding: 0.45em 0.6em; margin: 0 0.25em; line-height: 1; border-radius: 0.35em;\">\n",
       "    00097-00011681/2020-71\n",
       "    <span style=\"font-size: 0.8em; font-weight: bold; line-height: 1; border-radius: 0.35em; vertical-align: middle; margin-left: 0.5rem\">processo_gdf</span>\n",
       "</mark>\n",
       ", por necessidade de alterações no Termo de Referência. As informações estão disponíveis nos endereços eletrônicos www.metro.df.gov.br e www.licitacoes-e.com.br. KLAUS VILAR WURMBAUER Presidente da Comissão</div></span>"
      ],
      "text/plain": [
       "<IPython.core.display.HTML object>"
      ]
     },
     "metadata": {},
     "output_type": "display_data"
    },
    {
     "data": {
      "text/html": [
       "<span class=\"tex2jax_ignore\"><div class=\"entities\" style=\"line-height: 2.5; direction: ltr\">AVISO DE SUSPENSÃO \n",
       "<mark class=\"entity\" style=\"background: #ddd; padding: 0.45em 0.6em; margin: 0 0.25em; line-height: 1; border-radius: 0.35em;\">\n",
       "    PREGÃO ELETRÔNICO\n",
       "    <span style=\"font-size: 0.8em; font-weight: bold; line-height: 1; border-radius: 0.35em; vertical-align: middle; margin-left: 0.5rem\">modalidade_licitacao</span>\n",
       "</mark>\n",
       " POR SRP Nº \n",
       "<mark class=\"entity\" style=\"background: #ddd; padding: 0.45em 0.6em; margin: 0 0.25em; line-height: 1; border-radius: 0.35em;\">\n",
       "    204/2021\n",
       "    <span style=\"font-size: 0.8em; font-weight: bold; line-height: 1; border-radius: 0.35em; vertical-align: middle; margin-left: 0.5rem\">numero_licitacao</span>\n",
       "</mark>\n",
       " - UASG 926119 A Pregoeira da Central de Compras/SUAG, da Secretaria de Estado de Saúde do Distrito Federal, comunica a suspensão do Pregão em referência, que tem como objeto a aquisição de APARELHO PARA TRICOTOMIA e outros, para retificação do quantitativo do item 02 (dois), constante na planilha de detalhamento das especificações. FABIANA MENDES DE OLIVEIRA CORTEZ</div></span>"
      ],
      "text/plain": [
       "<IPython.core.display.HTML object>"
      ]
     },
     "metadata": {},
     "output_type": "display_data"
    },
    {
     "data": {
      "text/html": [
       "<span class=\"tex2jax_ignore\"><div class=\"entities\" style=\"line-height: 2.5; direction: ltr\">AVISO DE SUSPENSÃO \n",
       "<mark class=\"entity\" style=\"background: #ddd; padding: 0.45em 0.6em; margin: 0 0.25em; line-height: 1; border-radius: 0.35em;\">\n",
       "    PREGÃO ELETRÔNICO\n",
       "    <span style=\"font-size: 0.8em; font-weight: bold; line-height: 1; border-radius: 0.35em; vertical-align: middle; margin-left: 0.5rem\">modalidade_licitacao</span>\n",
       "</mark>\n",
       " Nº \n",
       "<mark class=\"entity\" style=\"background: #ddd; padding: 0.45em 0.6em; margin: 0 0.25em; line-height: 1; border-radius: 0.35em;\">\n",
       "    55/2021\n",
       "    <span style=\"font-size: 0.8em; font-weight: bold; line-height: 1; border-radius: 0.35em; vertical-align: middle; margin-left: 0.5rem\">numero_licitacao</span>\n",
       "</mark>\n",
       " A presente licitação tem por objeto a contratação de empresa(s) especializada(s) na prestação de serviços de apoio administrativo, de manobrista; serviços/alocação de manutenção, nas áreas de mecânica, eletricidade, usinagem, serralheria, lanternagem, pintura e estofamento de veículos pertencentes à frota do Departamento de Estradas de Rodagem do Distrito Federal - DER-DF, tudo conforme especificado no Edital e em seus anexos. Processo \n",
       "<mark class=\"entity\" style=\"background: #ddd; padding: 0.45em 0.6em; margin: 0 0.25em; line-height: 1; border-radius: 0.35em;\">\n",
       "    00113-00015357/2020-86\n",
       "    <span style=\"font-size: 0.8em; font-weight: bold; line-height: 1; border-radius: 0.35em; vertical-align: middle; margin-left: 0.5rem\">processo_gdf</span>\n",
       "</mark>\n",
       ". A fundamentação está presente nos autos. Brasília/DF, 25 de junho de 2021 ANA HILDA DO CARMO SILVA Diretora</div></span>"
      ],
      "text/plain": [
       "<IPython.core.display.HTML object>"
      ]
     },
     "metadata": {},
     "output_type": "display_data"
    },
    {
     "data": {
      "text/html": [
       "<span class=\"tex2jax_ignore\"><div class=\"entities\" style=\"line-height: 2.5; direction: ltr\">AVISO DE SUSPENSÃO E NOVA DATA DO \n",
       "<mark class=\"entity\" style=\"background: #ddd; padding: 0.45em 0.6em; margin: 0 0.25em; line-height: 1; border-radius: 0.35em;\">\n",
       "    PREGÃO ELETRÔNICO\n",
       "    <span style=\"font-size: 0.8em; font-weight: bold; line-height: 1; border-radius: 0.35em; vertical-align: middle; margin-left: 0.5rem\">modalidade_licitacao</span>\n",
       "</mark>\n",
       " Nº \n",
       "<mark class=\"entity\" style=\"background: #ddd; padding: 0.45em 0.6em; margin: 0 0.25em; line-height: 1; border-radius: 0.35em;\">\n",
       "    12/2022\n",
       "    <span style=\"font-size: 0.8em; font-weight: bold; line-height: 1; border-radius: 0.35em; vertical-align: middle; margin-left: 0.5rem\">numero_licitacao</span>\n",
       "</mark>\n",
       " O BRB torna pública a suspensão e a nova data de realização do PE nº 12/2022. Nova data, horário e endereço eletrônico: 08/04/2022, às 10h (horário de Brasília), www.comprasgovernamentais.gov.br, UASG 925008. Objeto: Contratação dos serviços de manutenção do sistema de impermeabilização do mezanino da Torre de TV de Brasília Distrito Federal. Processo \n",
       "<mark class=\"entity\" style=\"background: #ddd; padding: 0.45em 0.6em; margin: 0 0.25em; line-height: 1; border-radius: 0.35em;\">\n",
       "    1.744/2021\n",
       "    <span style=\"font-size: 0.8em; font-weight: bold; line-height: 1; border-radius: 0.35em; vertical-align: middle; margin-left: 0.5rem\">processo_gdf</span>\n",
       "</mark>\n",
       ". LEIDIANA ALVES BRUN Pregoeira</div></span>"
      ],
      "text/plain": [
       "<IPython.core.display.HTML object>"
      ]
     },
     "metadata": {},
     "output_type": "display_data"
    },
    {
     "data": {
      "text/html": [
       "<span class=\"tex2jax_ignore\"><div class=\"entities\" style=\"line-height: 2.5; direction: ltr\">AVISO DE SUSPENSÃO E NOVA DATA DO \n",
       "<mark class=\"entity\" style=\"background: #ddd; padding: 0.45em 0.6em; margin: 0 0.25em; line-height: 1; border-radius: 0.35em;\">\n",
       "    PREGÃO ELETRÔNICO\n",
       "    <span style=\"font-size: 0.8em; font-weight: bold; line-height: 1; border-radius: 0.35em; vertical-align: middle; margin-left: 0.5rem\">modalidade_licitacao</span>\n",
       "</mark>\n",
       " Nº \n",
       "<mark class=\"entity\" style=\"background: #ddd; padding: 0.45em 0.6em; margin: 0 0.25em; line-height: 1; border-radius: 0.35em;\">\n",
       "    16/2022\n",
       "    <span style=\"font-size: 0.8em; font-weight: bold; line-height: 1; border-radius: 0.35em; vertical-align: middle; margin-left: 0.5rem\">numero_licitacao</span>\n",
       "</mark>\n",
       " O BRB torna pública a suspensão e a nova data de realização do PE nº 16/2022. Nova data, horário e endereço eletrônico: 31/03/2022, às 14h (horário de Brasília), www.comprasgovernamentais.gov.br, UASG 925008. Objeto: Fornecimento e montagem de mobiliário corporativo para implantação da unidade do BRB denominada Agência Salvador, localizada no estado da Bahia. Processo \n",
       "<mark class=\"entity\" style=\"background: #ddd; padding: 0.45em 0.6em; margin: 0 0.25em; line-height: 1; border-radius: 0.35em;\">\n",
       "    130/2022\n",
       "    <span style=\"font-size: 0.8em; font-weight: bold; line-height: 1; border-radius: 0.35em; vertical-align: middle; margin-left: 0.5rem\">processo_gdf</span>\n",
       "</mark>\n",
       ". MATHEUS T. PENNA Pregoeiro</div></span>"
      ],
      "text/plain": [
       "<IPython.core.display.HTML object>"
      ]
     },
     "metadata": {},
     "output_type": "display_data"
    },
    {
     "data": {
      "text/html": [
       "<span class=\"tex2jax_ignore\"><div class=\"entities\" style=\"line-height: 2.5; direction: ltr\">AVISO DE SUSPENSÃO \n",
       "<mark class=\"entity\" style=\"background: #ddd; padding: 0.45em 0.6em; margin: 0 0.25em; line-height: 1; border-radius: 0.35em;\">\n",
       "    PREGÃO ELETRÔNICO\n",
       "    <span style=\"font-size: 0.8em; font-weight: bold; line-height: 1; border-radius: 0.35em; vertical-align: middle; margin-left: 0.5rem\">modalidade_licitacao</span>\n",
       "</mark>\n",
       " POR SRP Nº \n",
       "<mark class=\"entity\" style=\"background: #ddd; padding: 0.45em 0.6em; margin: 0 0.25em; line-height: 1; border-radius: 0.35em;\">\n",
       "    241/2021\n",
       "    <span style=\"font-size: 0.8em; font-weight: bold; line-height: 1; border-radius: 0.35em; vertical-align: middle; margin-left: 0.5rem\">numero_licitacao</span>\n",
       "</mark>\n",
       " - UASG 926119 O Pregoeiro da Central de Compras/SUAG, da Secretaria de Estado de Saúde do Distrito Federal, comunica a suspensão da licitação supracitada, a qual tem como objeto a aquisição de material médico hospitalar LINHA ARTERIAL DE ENTRADA SIMPLES PARA HEMODIÁLISE e outros, em sistema de registro de preços, para atender a demanda da Secretaria de Saúde DF, conforme especificações e quantitativos constantes no Anexo I do Edital (Processo \n",
       "<mark class=\"entity\" style=\"background: #ddd; padding: 0.45em 0.6em; margin: 0 0.25em; line-height: 1; border-radius: 0.35em;\">\n",
       "    0060-00353385/2020-43)\n",
       "    <span style=\"font-size: 0.8em; font-weight: bold; line-height: 1; border-radius: 0.35em; vertical-align: middle; margin-left: 0.5rem\">processo_gdf</span>\n",
       "</mark>\n",
       ", para análise e manifestação técnica quanto ao esclarecimento apresentado. PEDRO PAULO B.D.C. FLEURY</div></span>"
      ],
      "text/plain": [
       "<IPython.core.display.HTML object>"
      ]
     },
     "metadata": {},
     "output_type": "display_data"
    },
    {
     "data": {
      "text/html": [
       "<span class=\"tex2jax_ignore\"><div class=\"entities\" style=\"line-height: 2.5; direction: ltr\">AVISO DE SUSPENSÃO \n",
       "<mark class=\"entity\" style=\"background: #ddd; padding: 0.45em 0.6em; margin: 0 0.25em; line-height: 1; border-radius: 0.35em;\">\n",
       "    CONCORRÊNCIA\n",
       "    <span style=\"font-size: 0.8em; font-weight: bold; line-height: 1; border-radius: 0.35em; vertical-align: middle; margin-left: 0.5rem\">modalidade_licitacao</span>\n",
       "</mark>\n",
       " PARA CONCESSÃO ONEROSA DE OBRA PÚBLICA - CAVE - Nº 01/2022 PROCESSO: \n",
       "<mark class=\"entity\" style=\"background: #ddd; padding: 0.45em 0.6em; margin: 0 0.25em; line-height: 1; border-radius: 0.35em;\">\n",
       "    04003-00000200/2020-18 (\n",
       "    <span style=\"font-size: 0.8em; font-weight: bold; line-height: 1; border-radius: 0.35em; vertical-align: middle; margin-left: 0.5rem\">processo_gdf</span>\n",
       "</mark>\n",
       "AMPLA \n",
       "<mark class=\"entity\" style=\"background: #ddd; padding: 0.45em 0.6em; margin: 0 0.25em; line-height: 1; border-radius: 0.35em;\">\n",
       "    CONCORRÊNCIA\n",
       "    <span style=\"font-size: 0.8em; font-weight: bold; line-height: 1; border-radius: 0.35em; vertical-align: middle; margin-left: 0.5rem\">modalidade_licitacao</span>\n",
       "</mark>\n",
       ") O Distrito Federal - DF, por meio da SECRETARIA DE ESTADO DE ESPORTE E LAZER DO DISTRITO FEDERAL, autorizada pelo Decreto Distrital nº 41.497/2020, por meio da Comissão Especial de Licitação, doravante denominada CEL/SEL/GDF, mediante a Portaria nº 22, de 1º de fevereiro de 2022, publicada no Diário Oficial do Distrito Federal nº 24, de 03 de fevereiro de 2022, torna público, para conhecimento dos interessados, a SUSPENSÃO da \n",
       "<mark class=\"entity\" style=\"background: #ddd; padding: 0.45em 0.6em; margin: 0 0.25em; line-height: 1; border-radius: 0.35em;\">\n",
       "    CONCORRÊNCIA\n",
       "    <span style=\"font-size: 0.8em; font-weight: bold; line-height: 1; border-radius: 0.35em; vertical-align: middle; margin-left: 0.5rem\">modalidade_licitacao</span>\n",
       "</mark>\n",
       " PARA CONCESSÃO ONEROSA DE OBRA PÚBLICA - CAVE - Nº 01/2022, cujo objeto é: a seleção de CONCESSIONÁRIA, por meio de licitação na MODALIDADE \n",
       "<mark class=\"entity\" style=\"background: #ddd; padding: 0.45em 0.6em; margin: 0 0.25em; line-height: 1; border-radius: 0.35em;\">\n",
       "    CONCORRÊNCIA\n",
       "    <span style=\"font-size: 0.8em; font-weight: bold; line-height: 1; border-radius: 0.35em; vertical-align: middle; margin-left: 0.5rem\">modalidade_licitacao</span>\n",
       "</mark>\n",
       ", do tipo OFERTA DE MAIOR PERCENTUAL SOBRE A RECEITA OPERACIONAL BRUTA, PARA PAGAMENTO DE OUTORGA VARIÁVEL PELA CONCESSÃO ONEROSA DE OBRA PÚBLICA, referente ao COMPLEXO ESPORTIVO E DE LAZER DO GUARÁ - CLUBE VIZINHANÇA, GINÁSIO DE ESPORTES, ESTÁDIO ANTÔNIO OTONI FILHO E ÁREAS ADJACENTES, para a implantação de um clube social e esportivo, realização de competições e eventos esportivos, locação de equipamentos, entretenimento, alimentação, lojas comerciais e publicidade, sob as condições de que esta CONSTRUA, REVITALIZE, MODERNIZE, MANTENHA E OPERE o referido equipamento público, e pague ao PODER CONCEDENTE o VALOR PELA OUTORGA, nos termos do edital e seus anexos&quot;, tendo em vista a Decisão nº 417/2022, exarada pelo Tribunal de Contas do Distrito Federal, na qual determina a abstenção da prática de novos atos no certame até ulterior manifestação do TCDF. Fica cancelada a sessão pública inicialmente designada para o dia 29 e março de 2022. SARAH SUZANA RAMOS DE ARAUJO Presidente da Comissão</div></span>"
      ],
      "text/plain": [
       "<IPython.core.display.HTML object>"
      ]
     },
     "metadata": {},
     "output_type": "display_data"
    },
    {
     "data": {
      "text/html": [
       "<span class=\"tex2jax_ignore\"><div class=\"entities\" style=\"line-height: 2.5; direction: ltr\">AVISO DE REALIZAÇÃO DE EVENTO DE SUSPENSÃO \n",
       "<mark class=\"entity\" style=\"background: #ddd; padding: 0.45em 0.6em; margin: 0 0.25em; line-height: 1; border-radius: 0.35em;\">\n",
       "    PREGÃO ELETRÔNICO\n",
       "    <span style=\"font-size: 0.8em; font-weight: bold; line-height: 1; border-radius: 0.35em; vertical-align: middle; margin-left: 0.5rem\">modalidade_licitacao</span>\n",
       "</mark>\n",
       " Nº \n",
       "<mark class=\"entity\" style=\"background: #ddd; padding: 0.45em 0.6em; margin: 0 0.25em; line-height: 1; border-radius: 0.35em;\">\n",
       "    04/2022\n",
       "    <span style=\"font-size: 0.8em; font-weight: bold; line-height: 1; border-radius: 0.35em; vertical-align: middle; margin-left: 0.5rem\">numero_licitacao</span>\n",
       "</mark>\n",
       " Processo \n",
       "<mark class=\"entity\" style=\"background: #ddd; padding: 0.45em 0.6em; margin: 0 0.25em; line-height: 1; border-radius: 0.35em;\">\n",
       "    04012-00000112/2022-79\n",
       "    <span style=\"font-size: 0.8em; font-weight: bold; line-height: 1; border-radius: 0.35em; vertical-align: middle; margin-left: 0.5rem\">processo_gdf</span>\n",
       "</mark>\n",
       ", a Secretaria de Estado de Trabalho do Distrito Federal- SETRAB/DF, torna público o aviso da realização de Evento de Suspensão, do Pregão em epígrafe, cujo objeto é o Registro de Preços para contratação de empresa especializada na prestação de serviços de logística de transporte e distribuição de gêneros alimentícios em domicilio em todo território do Distrito Federal, com utilização de motorista e ajudante para atendimento ao Programa Cesta do Trabalhador executado pela Secretaria de Estado do Trabalho Distrito Federal - SETRAB. Demais informações por meio do e-mail: dilic@setrab.df.gov.br. UASG 926210. JUNILMA OLIVEIRA FERREIRA Diretora</div></span>"
      ],
      "text/plain": [
       "<IPython.core.display.HTML object>"
      ]
     },
     "metadata": {},
     "output_type": "display_data"
    }
   ],
   "source": [
    "def processo_(doc):\n",
    "        '''\n",
    "        label function para extracao de processo usando regex\n",
    "\n",
    "        parametros:\n",
    "            doc: uma string respresentando o texto de um dos contratos oferecidos no vetor da base de dados\n",
    "        '''\n",
    "        expression = r\"[P|p][R|r][O|o][C|c][E|e][S|s][S|s][O|o][\\s\\S].*?[s|:]?.+?(?=[0-9]).*?(\\d*[^;|,|a-zA-Z]*)\"    \n",
    "        match = re.search(expression, str(doc))\n",
    "        if match:\n",
    "                    flag = 0\n",
    "                    for token in doc:\n",
    "                        if match.span(1)[0]+1 in range(token.idx, (token.idx+len(token))+1) and flag == 0:\n",
    "                            if(doc[token.i].text == ':'):\n",
    "                                start = doc[token.i+1]\n",
    "                            else:\n",
    "                                start = token\n",
    "                            flag = 1\n",
    "                        if token.idx >= match.span(1)[1] and flag == 1 and token.i > start.i:\n",
    "                            if(doc[token.i-1].text in ['.', '-', '—', ':']):\n",
    "                                end = doc[token.i-1]\n",
    "                            else:\n",
    "                                end = token\n",
    "                            yield start.i, end.i, \"processo_gdf\"\n",
    "                            break    \n",
    "\n",
    "def modalidade_(doc):\n",
    "        '''\n",
    "        label function para extracao de modalidade de licitação usando regex\n",
    "\n",
    "        parametros:\n",
    "            doc: uma string respresentando o texto de um dos contratos oferecidos no vetor da base de dados\n",
    "        '''\n",
    "        modalidade = r\"(?:PREG[AÃ]O|[Pp]reg[aã]o)\\s(?:ELETR[OÔ]NICO|[Ee]letr[oô]nico)|(?:CONCORR[EÊ]NCIA|[Cc]oncorr[eê]ncia)|(?:TOMADA|[Tt]omada)\\s[Dd][Ee]\\s(?:PRE[CÇ]OS?|[Pp]re[cç]os?)|(?:CARTA\\s|[Cc]arta\\s)?(?:CONVITE|[Cc]onvite)|(?:CONCURSO|[Cc]oncurso)|(?:LEIL[AÃ]O|[Ll]eil[aã]o)\"\n",
    "\n",
    "        match = re.finditer(modalidade, str(doc))\n",
    "        if match:\n",
    "            for grupo in match:\n",
    "                flag = 0\n",
    "                for token in doc:\n",
    "                    if grupo.span(0)[0]+1 in range(token.idx, (token.idx+len(token))+1) and flag == 0:\n",
    "                        if(doc[token.i].text == ':'):\n",
    "                            start = doc[token.i+1]\n",
    "                        else:\n",
    "                            start = token\n",
    "                        flag = 1\n",
    "                    if token.idx >= grupo.span(0)[1] and flag == 1 and token.i > start.i:\n",
    "                        if(doc[token.i-1].text in ['.', '-', '—', ':']):\n",
    "                            end = doc[token.i-1]\n",
    "                        else:\n",
    "                            end = token\n",
    "                        yield start.i, end.i, \"modalidade_licitacao\"\n",
    "                        break               \n",
    "def numero_licitacao_(doc):\n",
    "        '''\n",
    "        label function para extracao de modalidade de licitação usando regex\n",
    "\n",
    "        parametros:\n",
    "            doc: uma string respresentando o texto de um dos contratos oferecidos no vetor da base de dados\n",
    "        '''\n",
    "       \n",
    "        \n",
    "        expression = r\"((?:PREG[AÃ]O|[Pp]reg[aã]o)\\s(?:ELETR[OÔ]NICO|[Ee]letr[oô]nico)|(?:CONCORR[EÊ]NCIA|[Cc]oncorr[eê]ncia)|(?:TOMADA|[Tt]omada)\\s[Dd][Ee]\\s(?:PRE[CÇ]OS?|[Pp]re[cç]os?)|(?:CARTA\\s|[Cc]arta\\s)?(?:CONVITE|[Cc]onvite)|(?:CONCURSO|[Cc]oncurso)|(?:LEIL[AÃ]O|[Ll]eil[aã]o))[\\s\\S][N|n][\\s|o|º|.].+?(?=[0-9].*?)(\\d*[^;|,|a-zA-Z]*?)\"     \n",
    "        match = re.finditer(expression, str(doc))\n",
    "        if match:\n",
    "            for grupo in match:\n",
    "                flag = 0\n",
    "                for token in doc:\n",
    "                    if grupo.span(2)[0]+1 in range(token.idx, (token.idx+len(token))+1) and flag == 0:\n",
    "                        if(doc[token.i].text == ':'):\n",
    "                            start = doc[token.i+1]\n",
    "                        else:\n",
    "                            start = token\n",
    "                        flag = 1\n",
    "                    if token.idx >= grupo.span(2)[1] and flag == 1 and token.i > start.i:\n",
    "                        if(doc[token.i-1].text in ['.', '-', '—', ':']):\n",
    "                            end = doc[token.i-1]\n",
    "                        else:\n",
    "                            end = token\n",
    "                        yield start.i, end.i, \"numero_licitacao\"\n",
    "                        break          \n",
    "        \n",
    "        expression = r\"((?:CONCORR[E|Ê]NCIA|[Cc]oncorr[eê]ncia)\\s(?:P[ÚU]BLICA|[Pp][úu]blica))[\\s\\S][N|n][\\s|o|º|.].+?(?=[0-9].*?)(\\d*[^;|,|a-zA-Z]*?)\"\n",
    "             \n",
    "        match = re.finditer(expression, str(doc))\n",
    "        if match:\n",
    "            for grupo in match:\n",
    "                flag = 0\n",
    "                for token in doc:\n",
    "                    if grupo.span(2)[0]+1 in range(token.idx, (token.idx+len(token))+1) and flag == 0:\n",
    "                        print(token, \"1\")\n",
    "                        \n",
    "                        if(doc[token.i].text == ':'):\n",
    "                            start = doc[token.i+1]\n",
    "                            print(token, \"2\")\n",
    "                        else:\n",
    "                            start = token\n",
    "                            print(token, \"3\")\n",
    "                        flag = 1\n",
    "                    if token.idx >= grupo.span(2)[1] and flag == 1 and token.i > start.i:\n",
    "                        if(doc[token.i-1].text in ['.', '-', '—', ':']):\n",
    "                            end = doc[token.i-1]\n",
    "                        else:\n",
    "                            end = token\n",
    "                        yield start.i, end.i, \"numero_licitacao\"\n",
    "                        break\n",
    "        expression = r\"((?:PREG[AÃ]O|[Pp]reg[aã]o)\\s(?:ELETR[OÔ]NICO|[Ee]letr[oô]nico)\\s(?:[Ss][Rr][Pp]))[\\s\\S][N|n][\\s|o|º|.].+?(?=[0-9].*?)(\\d*[^;|,|a-zA-Z]*?)\"                \n",
    "        match = re.finditer(expression, str(doc))\n",
    "        if match:\n",
    "            for grupo in match:\n",
    "                flag = 0\n",
    "                for token in doc:\n",
    "                    if grupo.span(2)[0]+1 in range(token.idx, (token.idx+len(token))+1) and flag == 0:\n",
    "                        if(doc[token.i].text == ':'):\n",
    "                            start = doc[token.i+1]\n",
    "                        else:\n",
    "                            start = token\n",
    "                        flag = 1\n",
    "                    if token.idx >= grupo.span(2)[1] and flag == 1 and token.i > start.i:\n",
    "                        if(doc[token.i-1].text in ['.', '-', '—', ':']):\n",
    "                            end = doc[token.i-1]\n",
    "                        else:\n",
    "                            end = token\n",
    "                        yield start.i, end.i, \"numero_licitacao\"\n",
    "                        break        \n",
    "        #RDC Nº 02/2021 \n",
    "        expression = r\"([Rr][Dd][Cc])[\\s\\S][N|n][\\s|o|º|.].+?(?=[0-9].*?)(\\d*[^;|,|a-zA-Z]*?)\"                \n",
    "        match = re.finditer(expression, str(doc))\n",
    "        if match:\n",
    "            for grupo in match:\n",
    "                flag = 0\n",
    "                for token in doc:\n",
    "                    if grupo.span(2)[0]+1 in range(token.idx, (token.idx+len(token))+1) and flag == 0:\n",
    "                        if(doc[token.i].text == ':'):\n",
    "                            start = doc[token.i+1]\n",
    "                        else:\n",
    "                            start = token\n",
    "                        flag = 1\n",
    "                    if token.idx >= grupo.span(2)[1] and flag == 1 and token.i > start.i:\n",
    "                        if(doc[token.i-1].text in ['.', '-', '—', ':']):\n",
    "                            end = doc[token.i-1]\n",
    "                        else:\n",
    "                            end = token\n",
    "                        yield start.i, end.i, \"numero_licitacao\"\n",
    "                        break \n",
    "                    \n",
    "        expression = r\"((?:PREG[AÃ]O|[Pp]reg[aã]o)\\s(?:ELETR[OÔ]NICO|[Ee]letr[oô]nico)\\s(?:[Pp][Oo][Rr]|[Dd][Ee]|\\s)\\s(?:[Ss][Rr][Pp]))[\\s\\S][N|n][\\s|o|º|.].+?(?=[0-9].*?)(\\d*[^;|,|a-zA-Z]*?)\"                \n",
    "        match = re.finditer(expression, str(doc))\n",
    "        if match:\n",
    "            for grupo in match:\n",
    "                flag = 0\n",
    "                for token in doc:\n",
    "                    if grupo.span(2)[0]+1 in range(token.idx, (token.idx+len(token))+1) and flag == 0:\n",
    "                        if(doc[token.i].text == ':'):\n",
    "                            start = doc[token.i+1]\n",
    "                        else:\n",
    "                            start = token\n",
    "                        flag = 1\n",
    "                    if token.idx >= grupo.span(2)[1] and flag == 1 and token.i > start.i:\n",
    "                        if(doc[token.i-1].text in ['.', '-', '—', ':']):\n",
    "                            end = doc[token.i-1]\n",
    "                        else:\n",
    "                            end = token\n",
    "                        yield start.i, end.i, \"numero_licitacao\"\n",
    "                        break                    \n",
    "        \n",
    "        expression = r\"((?:PREG[AÃ]O|[Pp]reg[aã]o)\\s(?:ELETR[OÔ]NICO|[Ee]letr[oô]nico)\\s(?:[Ii][Nn][Tt][Ee][Rr][Nn][Aa][Cc][Ii][Oo][Nn][Aa][Ll]))[\\s\\S][N|n][\\s|o|º|.].+?(?=[0-9].*?)(\\d*[^;|,|a-zA-Z]*?)\"                \n",
    "        match = re.finditer(expression, str(doc))\n",
    "        if match:\n",
    "            for grupo in match:\n",
    "                flag = 0\n",
    "                for token in doc:\n",
    "                    if grupo.span(2)[0]+1 in range(token.idx, (token.idx+len(token))+1) and flag == 0:\n",
    "                        if(doc[token.i].text == ':'):\n",
    "                            start = doc[token.i+1]\n",
    "                        else:\n",
    "                            start = token\n",
    "                        flag = 1\n",
    "                    if token.idx >= grupo.span(2)[1] and flag == 1 and token.i > start.i:\n",
    "                        if(doc[token.i-1].text in ['.', '-', '—', ':']):\n",
    "                            end = doc[token.i-1]\n",
    "                        else:\n",
    "                            end = token\n",
    "                        yield start.i, end.i, \"numero_licitacao\"\n",
    "                        break\n",
    "        \n",
    "        expression = r\"(?:(?:DISPENSA\\sDE\\s|[Dd]ispensa\\s[Dd]e\\s)|)(?:LICITA[CÇ][AÃ]O|[Ll]icita[cç][aã]o)[\\s\\S][N|n][\\s|o|º|.].+?(?=[0-9].*?)(\\d*[^;|,|a-zA-Z]*?)\"                     \n",
    "        match = re.finditer(expression, str(doc))\n",
    "        if match:\n",
    "            for grupo in match:\n",
    "                flag = 0\n",
    "                for token in doc:\n",
    "                    if grupo.span(1)[0]+1 in range(token.idx, (token.idx+len(token))+1) and flag == 0:\n",
    "                        if(doc[token.i].text == ':'):\n",
    "                            start = doc[token.i+1]\n",
    "                        else:\n",
    "                            start = token\n",
    "                        flag = 1\n",
    "                    if token.idx >= grupo.span(1)[1] and flag == 1 and token.i > start.i:\n",
    "                        if(doc[token.i-1].text in ['.', '-', '—', ':']):\n",
    "                            end = doc[token.i-1]\n",
    "                        else:\n",
    "                            end = token\n",
    "                        yield start.i, end.i, \"numero_licitacao\"\n",
    "                        break\n",
    "''' \n",
    "     Aplica a label function para extracao do processo do ato de suspensão de licitação\n",
    "'''                    \n",
    "detec_processo = skweak.heuristics.FunctionAnnotator(\"detec_processo\", processo_)\n",
    "docs = list(detec_processo.pipe(docs))\n",
    "\n",
    "'''\n",
    "     Aplica a label function para extracao de modalidade de licitação do ato de suspensão de licitação\n",
    "'''                     \n",
    "detec_modalidade = skweak.heuristics.FunctionAnnotator(\"detec_modalidade\", modalidade_)\n",
    "docs = list(detec_modalidade.pipe(docs))\n",
    "\n",
    "'''\n",
    "     Aplica a label function para extracao do número de licitação do ato de suspensão de licitação \n",
    "'''                     \n",
    "detec_numero_licitacao = skweak.heuristics.FunctionAnnotator(\"detec_numero_licitacao\", numero_licitacao_)\n",
    "docs = list(detec_numero_licitacao.pipe(docs))\n",
    "\n",
    "'''\n",
    "     Exibe o contrato com os rótulos gerados pelas Labels Functions\n",
    "'''                    \n",
    "all_fun = [\"detec_processo\",\"detec_modalidade\", \"detec_numero_licitacao\"]\n",
    "for i in range(len(docs)):\n",
    "    skweak.utils.display_entities(docs[i], all_fun)"
   ]
  }
 ],
 "metadata": {
  "kernelspec": {
   "display_name": "Python 3.9.7 ('venv': venv)",
   "language": "python",
   "name": "python3"
  },
  "language_info": {
   "codemirror_mode": {
    "name": "ipython",
    "version": 3
   },
   "file_extension": ".py",
   "mimetype": "text/x-python",
   "name": "python",
   "nbconvert_exporter": "python",
   "pygments_lexer": "ipython3",
   "version": "3.9.7"
  },
  "orig_nbformat": 4,
  "vscode": {
   "interpreter": {
    "hash": "96baed6db0003f61f4a930eafeae8ace7abdbffdf58b8c787c6463efd11f449a"
   }
  }
 },
 "nbformat": 4,
 "nbformat_minor": 2
}
