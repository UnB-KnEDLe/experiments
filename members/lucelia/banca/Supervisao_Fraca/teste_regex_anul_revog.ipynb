{
 "cells": [
  {
   "cell_type": "code",
   "execution_count": 1,
   "metadata": {},
   "outputs": [
    {
     "name": "stderr",
     "output_type": "stream",
     "text": [
      "/Users/lucelia/Documents/GitHub/experiments/members/lucelia/venv/lib/python3.9/site-packages/tqdm/auto.py:22: TqdmWarning: IProgress not found. Please update jupyter and ipywidgets. See https://ipywidgets.readthedocs.io/en/stable/user_install.html\n",
      "  from .autonotebook import tqdm as notebook_tqdm\n"
     ]
    }
   ],
   "source": [
    "import re\n",
    "import pandas as pd\n",
    "import spacy\n",
    "import skweak"
   ]
  },
  {
   "cell_type": "code",
   "execution_count": 12,
   "metadata": {},
   "outputs": [],
   "source": [
    "data = pd.read_csv('./CSVs/V1/REL_ANUL_REVOG_LICITACAO.csv', dtype=str)"
   ]
  },
  {
   "cell_type": "code",
   "execution_count": 13,
   "metadata": {},
   "outputs": [
    {
     "data": {
      "text/html": [
       "<div>\n",
       "<style scoped>\n",
       "    .dataframe tbody tr th:only-of-type {\n",
       "        vertical-align: middle;\n",
       "    }\n",
       "\n",
       "    .dataframe tbody tr th {\n",
       "        vertical-align: top;\n",
       "    }\n",
       "\n",
       "    .dataframe thead th {\n",
       "        text-align: right;\n",
       "    }\n",
       "</style>\n",
       "<table border=\"1\" class=\"dataframe\">\n",
       "  <thead>\n",
       "    <tr style=\"text-align: right;\">\n",
       "      <th></th>\n",
       "      <th>Unnamed: 0.1</th>\n",
       "      <th>Unnamed: 0</th>\n",
       "      <th>id_dodf</th>\n",
       "      <th>tipo_rel</th>\n",
       "      <th>id_rel</th>\n",
       "      <th>anotador_rel</th>\n",
       "      <th>tipo_ent</th>\n",
       "      <th>id_ent</th>\n",
       "      <th>anotador_ent</th>\n",
       "      <th>offset</th>\n",
       "      <th>length</th>\n",
       "      <th>texto</th>\n",
       "      <th>id_ato</th>\n",
       "    </tr>\n",
       "  </thead>\n",
       "  <tbody>\n",
       "    <tr>\n",
       "      <th>0</th>\n",
       "      <td>0</td>\n",
       "      <td>1084</td>\n",
       "      <td>20_13.12.2019</td>\n",
       "      <td>REL_ANUL_REVOG_LICITACAO</td>\n",
       "      <td>R6</td>\n",
       "      <td>anotador_33083317</td>\n",
       "      <td>AVISO_ANUL_REV_LICITACAO</td>\n",
       "      <td>7</td>\n",
       "      <td>anotador_33083317</td>\n",
       "      <td>423546</td>\n",
       "      <td>1045</td>\n",
       "      <td>AVISO DE ANULACAO PREGAO ELETRONICO (SRP) 10/2...</td>\n",
       "      <td>20_13.12.2019-R6</td>\n",
       "    </tr>\n",
       "    <tr>\n",
       "      <th>1</th>\n",
       "      <td>1</td>\n",
       "      <td>1085</td>\n",
       "      <td>20_13.12.2019</td>\n",
       "      <td>REL_ANUL_REVOG_LICITACAO</td>\n",
       "      <td>R6</td>\n",
       "      <td>anotador_33083317</td>\n",
       "      <td>modalidade_licitacao</td>\n",
       "      <td>1</td>\n",
       "      <td>anotador_33083317</td>\n",
       "      <td>423564</td>\n",
       "      <td>17</td>\n",
       "      <td>PREGAO ELETRONICO</td>\n",
       "      <td>20_13.12.2019-R6</td>\n",
       "    </tr>\n",
       "    <tr>\n",
       "      <th>2</th>\n",
       "      <td>2</td>\n",
       "      <td>1086</td>\n",
       "      <td>20_13.12.2019</td>\n",
       "      <td>REL_ANUL_REVOG_LICITACAO</td>\n",
       "      <td>R6</td>\n",
       "      <td>anotador_33083317</td>\n",
       "      <td>numero_licitacao</td>\n",
       "      <td>2</td>\n",
       "      <td>anotador_33083317</td>\n",
       "      <td>423588</td>\n",
       "      <td>7</td>\n",
       "      <td>10/2019</td>\n",
       "      <td>20_13.12.2019-R6</td>\n",
       "    </tr>\n",
       "    <tr>\n",
       "      <th>3</th>\n",
       "      <td>3</td>\n",
       "      <td>1087</td>\n",
       "      <td>20_13.12.2019</td>\n",
       "      <td>REL_ANUL_REVOG_LICITACAO</td>\n",
       "      <td>R6</td>\n",
       "      <td>anotador_33083317</td>\n",
       "      <td>orgao_licitante</td>\n",
       "      <td>6</td>\n",
       "      <td>anotador_33083317</td>\n",
       "      <td>423639</td>\n",
       "      <td>94</td>\n",
       "      <td>SECRETARIA DE ESTADO DA AGRICULTURA, ABASTECIM...</td>\n",
       "      <td>20_13.12.2019-R6</td>\n",
       "    </tr>\n",
       "    <tr>\n",
       "      <th>4</th>\n",
       "      <td>4</td>\n",
       "      <td>1088</td>\n",
       "      <td>20_13.12.2019</td>\n",
       "      <td>REL_ANUL_REVOG_LICITACAO</td>\n",
       "      <td>R6</td>\n",
       "      <td>anotador_33083317</td>\n",
       "      <td>identificacao_ocorrencia</td>\n",
       "      <td>5</td>\n",
       "      <td>anotador_33083317</td>\n",
       "      <td>423758</td>\n",
       "      <td>7</td>\n",
       "      <td>anulada</td>\n",
       "      <td>20_13.12.2019-R6</td>\n",
       "    </tr>\n",
       "    <tr>\n",
       "      <th>...</th>\n",
       "      <td>...</td>\n",
       "      <td>...</td>\n",
       "      <td>...</td>\n",
       "      <td>...</td>\n",
       "      <td>...</td>\n",
       "      <td>...</td>\n",
       "      <td>...</td>\n",
       "      <td>...</td>\n",
       "      <td>...</td>\n",
       "      <td>...</td>\n",
       "      <td>...</td>\n",
       "      <td>...</td>\n",
       "      <td>...</td>\n",
       "    </tr>\n",
       "    <tr>\n",
       "      <th>345</th>\n",
       "      <td>345</td>\n",
       "      <td>40025</td>\n",
       "      <td>638</td>\n",
       "      <td>REL_ANUL_REVOG_LICITACAO</td>\n",
       "      <td>R5</td>\n",
       "      <td>anotador_32161579</td>\n",
       "      <td>modalidade_licitacao</td>\n",
       "      <td>3893</td>\n",
       "      <td>anotador_32161579</td>\n",
       "      <td>60710</td>\n",
       "      <td>17</td>\n",
       "      <td>Licitação Fechada</td>\n",
       "      <td>638-R5</td>\n",
       "    </tr>\n",
       "    <tr>\n",
       "      <th>346</th>\n",
       "      <td>346</td>\n",
       "      <td>40026</td>\n",
       "      <td>638</td>\n",
       "      <td>REL_ANUL_REVOG_LICITACAO</td>\n",
       "      <td>R5</td>\n",
       "      <td>anotador_32161579</td>\n",
       "      <td>numero_licitacao</td>\n",
       "      <td>214</td>\n",
       "      <td>anotador_32161579</td>\n",
       "      <td>60734</td>\n",
       "      <td>7</td>\n",
       "      <td>01/2020</td>\n",
       "      <td>638-R5</td>\n",
       "    </tr>\n",
       "    <tr>\n",
       "      <th>347</th>\n",
       "      <td>347</td>\n",
       "      <td>40027</td>\n",
       "      <td>638</td>\n",
       "      <td>REL_ANUL_REVOG_LICITACAO</td>\n",
       "      <td>R5</td>\n",
       "      <td>anotador_32161579</td>\n",
       "      <td>processo_gdf</td>\n",
       "      <td>217</td>\n",
       "      <td>anotador_32161579</td>\n",
       "      <td>60752</td>\n",
       "      <td>15</td>\n",
       "      <td>092.005499/2019</td>\n",
       "      <td>638-R5</td>\n",
       "    </tr>\n",
       "    <tr>\n",
       "      <th>348</th>\n",
       "      <td>348</td>\n",
       "      <td>40028</td>\n",
       "      <td>638</td>\n",
       "      <td>REL_ANUL_REVOG_LICITACAO</td>\n",
       "      <td>R5</td>\n",
       "      <td>anotador_32161579</td>\n",
       "      <td>identificacao_ocorrencia</td>\n",
       "      <td>216</td>\n",
       "      <td>anotador_32161579</td>\n",
       "      <td>60930</td>\n",
       "      <td>8</td>\n",
       "      <td>revogada</td>\n",
       "      <td>638-R5</td>\n",
       "    </tr>\n",
       "    <tr>\n",
       "      <th>349</th>\n",
       "      <td>349</td>\n",
       "      <td>40029</td>\n",
       "      <td>638</td>\n",
       "      <td>REL_ANUL_REVOG_LICITACAO</td>\n",
       "      <td>R5</td>\n",
       "      <td>anotador_32161579</td>\n",
       "      <td>nome_responsavel</td>\n",
       "      <td>218</td>\n",
       "      <td>anotador_32161579</td>\n",
       "      <td>60968</td>\n",
       "      <td>21</td>\n",
       "      <td>EDSON MIRANDA BEZERRA</td>\n",
       "      <td>638-R5</td>\n",
       "    </tr>\n",
       "  </tbody>\n",
       "</table>\n",
       "<p>350 rows × 13 columns</p>\n",
       "</div>"
      ],
      "text/plain": [
       "    Unnamed: 0.1 Unnamed: 0        id_dodf                  tipo_rel id_rel  \\\n",
       "0              0       1084  20_13.12.2019  REL_ANUL_REVOG_LICITACAO     R6   \n",
       "1              1       1085  20_13.12.2019  REL_ANUL_REVOG_LICITACAO     R6   \n",
       "2              2       1086  20_13.12.2019  REL_ANUL_REVOG_LICITACAO     R6   \n",
       "3              3       1087  20_13.12.2019  REL_ANUL_REVOG_LICITACAO     R6   \n",
       "4              4       1088  20_13.12.2019  REL_ANUL_REVOG_LICITACAO     R6   \n",
       "..           ...        ...            ...                       ...    ...   \n",
       "345          345      40025            638  REL_ANUL_REVOG_LICITACAO     R5   \n",
       "346          346      40026            638  REL_ANUL_REVOG_LICITACAO     R5   \n",
       "347          347      40027            638  REL_ANUL_REVOG_LICITACAO     R5   \n",
       "348          348      40028            638  REL_ANUL_REVOG_LICITACAO     R5   \n",
       "349          349      40029            638  REL_ANUL_REVOG_LICITACAO     R5   \n",
       "\n",
       "          anotador_rel                  tipo_ent id_ent       anotador_ent  \\\n",
       "0    anotador_33083317  AVISO_ANUL_REV_LICITACAO      7  anotador_33083317   \n",
       "1    anotador_33083317      modalidade_licitacao      1  anotador_33083317   \n",
       "2    anotador_33083317          numero_licitacao      2  anotador_33083317   \n",
       "3    anotador_33083317           orgao_licitante      6  anotador_33083317   \n",
       "4    anotador_33083317  identificacao_ocorrencia      5  anotador_33083317   \n",
       "..                 ...                       ...    ...                ...   \n",
       "345  anotador_32161579      modalidade_licitacao   3893  anotador_32161579   \n",
       "346  anotador_32161579          numero_licitacao    214  anotador_32161579   \n",
       "347  anotador_32161579              processo_gdf    217  anotador_32161579   \n",
       "348  anotador_32161579  identificacao_ocorrencia    216  anotador_32161579   \n",
       "349  anotador_32161579          nome_responsavel    218  anotador_32161579   \n",
       "\n",
       "     offset length                                              texto  \\\n",
       "0    423546   1045  AVISO DE ANULACAO PREGAO ELETRONICO (SRP) 10/2...   \n",
       "1    423564     17                                  PREGAO ELETRONICO   \n",
       "2    423588      7                                            10/2019   \n",
       "3    423639     94  SECRETARIA DE ESTADO DA AGRICULTURA, ABASTECIM...   \n",
       "4    423758      7                                            anulada   \n",
       "..      ...    ...                                                ...   \n",
       "345   60710     17                                  Licitação Fechada   \n",
       "346   60734      7                                            01/2020   \n",
       "347   60752     15                                    092.005499/2019   \n",
       "348   60930      8                                           revogada   \n",
       "349   60968     21                              EDSON MIRANDA BEZERRA   \n",
       "\n",
       "               id_ato  \n",
       "0    20_13.12.2019-R6  \n",
       "1    20_13.12.2019-R6  \n",
       "2    20_13.12.2019-R6  \n",
       "3    20_13.12.2019-R6  \n",
       "4    20_13.12.2019-R6  \n",
       "..                ...  \n",
       "345            638-R5  \n",
       "346            638-R5  \n",
       "347            638-R5  \n",
       "348            638-R5  \n",
       "349            638-R5  \n",
       "\n",
       "[350 rows x 13 columns]"
      ]
     },
     "execution_count": 13,
     "metadata": {},
     "output_type": "execute_result"
    }
   ],
   "source": [
    "data"
   ]
  },
  {
   "cell_type": "code",
   "execution_count": 15,
   "metadata": {},
   "outputs": [],
   "source": [
    "#cria um novo dataset apenas com o tipo de entidade EXTATO_CONTRATO (TEXTO)\n",
    "data = data.loc[data['tipo_ent'] == 'AVISO_ANUL_REV_LICITACAO'].reset_index(drop=True)\n",
    "\n"
   ]
  },
  {
   "cell_type": "code",
   "execution_count": 16,
   "metadata": {},
   "outputs": [
    {
     "data": {
      "text/plain": [
       "0     AVISO DE ANULACAO PREGAO ELETRONICO (SRP) 10/2...\n",
       "1     AVISO DE ANULACAO PREGAO ELETRONICO POR SRP No...\n",
       "2     AVISO DE ANULACAO PREGAO ELETRONICO No 16/2017...\n",
       "3     AVISO DE ANULACAO PREGAO ELETRONICO SRP No 03/...\n",
       "4     AVISO DE REVOGACAO DE LICITACAO PREGAO ELETRON...\n",
       "5     AVISO DE REVOGACAO DE LICITACAO A Caesb torna ...\n",
       "6     AVISO DE REVOGACAO PREGAO ELETRONICO No 08/201...\n",
       "7     AVISO DE REVOGACAO DE LICITACAO PREGAO ELETRON...\n",
       "8     AVISO DE REVOGACAO PREGAO ELETRONICO No 35/201...\n",
       "9     AVISO DE REVOGACAO Comunicamos aos interessado...\n",
       "10    AVISOS DE REVOGACAO LICITACAO No 001-P01013/20...\n",
       "11    AVISO DE REVOGACAO LICITACAO PUBLICA NACIONAL ...\n",
       "12    AVISO DE ANULACAO PREGAO ELETRONICO No 10/2019...\n",
       "13    AVISO DE REVOGACAO PREGAO ELETRONICO No 123/20...\n",
       "14    AVISO DE REVOGACAO PREGAO ELETRONICO No 14/201...\n",
       "15    AVISO DE REVOGACAO PREGAO ELETRONICO No 150/20...\n",
       "16    AVISO DE REVOGACAO EDITAL DE CONCORRENCIA N 12...\n",
       "17    AVISO DE ANULACAO PREGAO ELETRONICO No 37/2019...\n",
       "18    AVISO DE ANULAÇÃO DO PREGÃO ELETRÔNICO SRP Nº ...\n",
       "19    AVISO DE ANULAÇÃO DA LICITAÇÃO CONCORRÊNCIA Nº...\n",
       "20    AVISO DE REVOGAÇÃO PREGÃO ELETRÔNICO Nº 56/202...\n",
       "21    AVISO DE ANULAÇÃO DE LICITAÇÃO PREGÃO ELETRÔNI...\n",
       "22    AVISO DE REVOGAÇÃO DE PREGÃO ELETRÔNICO Nº 04/...\n",
       "23    AVISO DE ANULAÇÃO PREGÃO ELETRÔNICO Nº 02/2021...\n",
       "24    AVISO DE ANULAÇÃO PREGÃO ELETRÔNICO Nº 57/2021...\n",
       "25    AVISO DE REVOGAÇÃO DE LICITAÇÃO PREGÃO ELETRÔN...\n",
       "26    AVISO DE REVOGAÇÃO PARCIAL DE LICITAÇÃO PREGÃO...\n",
       "27    AVISO DE REVOGAÇÃO CONCORRÊNCIA Nº 02/2021 A C...\n",
       "28    AVISO DE LICITAÇÃO REFERENTE AO EDITAL Nº 07/2...\n",
       "29    AVISO DE REVOGAÇÃO DE PREGÃO ELETRÔNICO Nº 06/...\n",
       "30    AVISO DE REVOGAÇÃO DE LICITAÇÃO (*) O Presiden...\n",
       "31    AVISO DE REVOGAÇÃO DE LICITAÇÃO O Presidente d...\n",
       "32    AVISO DE REVOGAÇÃO PREGÃO ELETRÔNICO SRP Nº 02...\n",
       "33    AVISO DE ANULAÇÃO PREGÃO ELETRÔNICO Nº 12/2021...\n",
       "34    AVISO DE REVOGAÇÃO DE LICITAÇÃO A Caesb torna ...\n",
       "35    AVISO DE ANULAÇÃO DE LICITAÇÃO CONCORRÊNCIA N°...\n",
       "36    AVISO DE REVOGAÇÃO DE LICITAÇÃO A Caesb torna ...\n",
       "37    AVISO DE REVOGAÇÃO PREGÃO ELETRÔNICO Nº 190/20...\n",
       "38    AVISO DE LICITAÇÃO PREGÃO ELETRÔNICO N° 30/202...\n",
       "39    AVISO DE REVOGAÇÃO PREGÃO ELETRÔNICO Nº 06/202...\n",
       "40    AVISO DE REVOGAÇÃO PREGÃO ELETRÔNICO Nº 190/20...\n",
       "41    AVISO DE REVOGAÇÃO DE LICITAÇÃO Nº 06/2021 - U...\n",
       "42    AVISO DE LICITAÇÃO PREGÃO ELETRÔNICO Nº 45/202...\n",
       "43    AVISO DE REVOGAÇÃO PREGÃO ELETRÔNICO POR SRP N...\n",
       "44    AVISO DE REVOGAÇÃO PREGÃO ELETRÔNICO Nº 317/20...\n",
       "45    AVISO DE REVOGAÇÃO DE LICITAÇÃO A Caesb torna ...\n",
       "Name: texto, dtype: object"
      ]
     },
     "execution_count": 16,
     "metadata": {},
     "output_type": "execute_result"
    }
   ],
   "source": [
    "#criando novo dataframe somente com os textos\n",
    "df = data['texto'].reset_index(drop=True)\n",
    "df"
   ]
  },
  {
   "cell_type": "code",
   "execution_count": 62,
   "metadata": {},
   "outputs": [],
   "source": [
    "#df = [\"EXTRATO DO CONTRATO No 11/2019 PROCESSO: 00390-00003006/2019-92. ESPECIE: Contrato de Aquisicao de Bens pelo Distrito Federal no 11/2019. PARTES: Secretaria de Estado de Desenvolvimento Urbano e Habitacao do Distrito Federal - SEDUH/DF e INDUSTRIA DE AGUA MINERAL IBIA LTDA. DO OBJETO: Aquisicao de agua potavel de mesa sem gas e garrafao retornavel, destinados ao atendimento desta pasta, conforme demais especiGcacoes e condicoes estabelecidas no Termo de Referencia Anexo I do Edital de Pregao Eletronico no 0058/2018 - SCG/SEPLAG, da Proposta da empresa INDUSTRIA DE AGUA MINERAL IBIA LTDA de 11/06/2018 e da Lei no 8.666, de 21 de junho de 1993, que passam a integrar o presente Termo. DO VALOR: R$ 11.661,00 (onze mil, seiscentos e sessenta e um reais) conforme Nota de Empenho no 2019NE00180, emitida em 18/07/2019. Dotacao Orcamentaria P.T 15.122.6001.8517.0131 - Natureza da Despesa: 3390.30 - Fonte de Recursos: 100. DO PRAZO DE VIGENCIA: O Contrato tera vigencia de 06 (seis) meses a contar do dia 07/08/2019. DATA DE ASSINATURA: 22/07/2019. SIGNATARIOS: Pelo Distrito Federal: Mateus Leandro de Oliveira, na qualidade de Secretario de Estado. Pela Contratada: Eduardo Barros de Queiroz Rodrigues, na qualidade de Socio Administrador.\", \"EXTRATO DO CONTRATO Nº 06/2021 Processo: 00139-00001275/2021-00. Partes: DF - ADMINISTRAÇÃO REGIONAL DO CRUZEIRO X COMERCIAL DE ALIMENTOS PARK SUL. Objeto: O presente contrato tem por objeto a contratação de empresa especializada na área de alimentação para confecção e fornecimento de 50 KG DE BOLO CONFEITADO TIPO ANIVERSÁRIO COM MASSA PÃO DE LÓ COM RECHEIO DE BABA DE MOÇA, BEIJINHO OU DOCE DE LEITE E COBERTURA DE CHANTILLY DECORADO COM ACABAMENTO, no evento de comemoração ao aniversário de 62 anos do Cruzeiro no dia 30/11/2021. Valor do Contrato: R$ 2.000,00 (Dois Mil Reais). Dotação orçamentária: Unidade Orçamentária: 190113. Programa de Trabalho: 13.392.6219.3678.0136 . Natureza da Despesa: 339039. Fonte de Recursos: 120. Nota de Empenho: 2021NE00259. Valor do Empenho Inicial: R$ 2.000,00 (Dois Mil Reais), emitida em 26/11/2021 sob o evento 400091, na Modalidade 1   Ordinário. Fundamento Legal: Art. 24 da Lei nº 8.666/1993. Data da Assinatura: 29/11/2021. Signatários: Pelo DISTRITO FEDERAL: LUIZ EDUARDO GOMES DE PAULA PESSOA, na qualidade de Administrador Regional do Cruzeiro; pela COMERCIAL DE ALIMENTOS PARK SUL: GIVANILDES DE AGUIAR MORAIS, na qualidade de Gerente Geral.\"] "
   ]
  },
  {
   "cell_type": "code",
   "execution_count": 17,
   "metadata": {},
   "outputs": [],
   "source": [
    "# CODIGO RESPONSAVEL PELA LIMPEZA DO TEXTO DA BASE OURO\n",
    "import re\n",
    "\n",
    "df1 =[]\n",
    "\n",
    "for i in df:\n",
    "    i = i.replace(\"\\n\", \" \")\n",
    "    i = re.sub('xx[a-z]{1,10}', '', i)\n",
    "    #i = i.replace(r\"xx[a-z]{1,10}\",\"\")\n",
    "    aux = ' '.join(i.split())\n",
    "    #print(aux)\n",
    "    df1.append(aux)"
   ]
  },
  {
   "cell_type": "code",
   "execution_count": 18,
   "metadata": {},
   "outputs": [
    {
     "name": "stderr",
     "output_type": "stream",
     "text": [
      "/Users/lucelia/Documents/GitHub/experiments/members/lucelia/venv/lib/python3.9/site-packages/spacy/language.py:1895: UserWarning: [W123] Argument disable with value ['ner', 'lemmatizer'] is used instead of ['senter'] as specified in the config. Be aware that this might affect other components in your pipeline.\n",
      "  warnings.warn(\n"
     ]
    }
   ],
   "source": [
    "# Carregando nlp do spacy em pt-br sem o ner e o lemmatizer\n",
    "nlp = spacy.load('pt_core_news_sm', disable=[\"ner\", \"lemmatizer\"])\n",
    "docs = list(nlp.pipe(df1))"
   ]
  },
  {
   "cell_type": "code",
   "execution_count": 19,
   "metadata": {},
   "outputs": [
    {
     "data": {
      "text/plain": [
       "[AVISO DE ANULACAO PREGAO ELETRONICO (SRP) 10/2019 (EXCLUSIVO PARA ENTIDADES PREFERENCIAIS) A SECRETARIA DE ESTADO DA AGRICULTURA, ABASTECIMENTO E DESENVOLVIMENTO RURAL DO DISTRITO FEDERAL, torna publico que fica anulada a licitacao supracitada, referente ao Processo no 00070-00004102/2019-61. Objeto: Contratacao de servico de investigacao geotecnica para execucao de sondagem a percussao. Serao aproximadamente 30 (trinta) furos de sondagem a percussao, distribuidos em diversos terrenos de propriedade do Governo do Distrito Federal, visando subsidiar a elaboracao de projetos de fundacoes para edificacoes voltadas para a area rural e/ou para a manutencao dos proprios da SEAGRI, sobretudo nas Regioes Administrativas de Brazlandia, Lago Norte, Paranoa, Planaltina, Plano Piloto (Asa Norte) e Sao Sebastiao, para fins de correcao da forma de apresentacao dos precos em termo de referencia, para que seja possivel aos licitantes incluir nos precos ofertados todos os custos necessarios a execucao do servicos. EDILENE DIAS CERQUEIRA Pregoeira,\n",
       " AVISO DE ANULACAO PREGAO ELETRONICO POR SRP No 05/2019 - UASG 926119 A Pregoeira da Central de Compras/SUAG comunica a anulacao da licitacao supracitada, por decisao do Subsecretario de Administracao Geral, Antony Araujo Couto, haja vista as impropriedades tecnicas identificadas no termo de referencia. PRISCILLA MOREIRA FALCAO FIGUEIREDO,\n",
       " AVISO DE ANULACAO PREGAO ELETRONICO No 16/2017 - SRP Processo no 054.002.382/2017. O Chefe do Departamento de Saude e Assistencia ao Pessoal da Policia Militar do Distrito Federal torna publico aos interessados a ANULACAO do certame em epigrafe, inicialmente previsto para ocorrer em 23/1/2018, as 14h, por vicio de incompetencia na autorizacao do processo licitatorio. Objeto: Registro de Preco para aqui- sicao de material farmacologico e hospitalar, conforme especificacoes e quantidades cons- tantes no Anexo I do edital. Valor estimado de R$ 11.187,75 (onze mil cento e oitenta e sete reais de setenta e cinco centavos). Informacoes: (61) 3190-8054 e dsap.sspre- goes@pm.df.gov.br e dsap.sspregoes@gmail.com. Brasilia/DF, 08 de fevereiro de 2018. ROGERIO BRITO DE MIRANDA,\n",
       " AVISO DE ANULACAO PREGAO ELETRONICO SRP No 03/2017 O PREGOEIRO DA SECRETARIA DE ESTADO DE EDUCACAO DO DISTRITO FE- DERAL, em atendimento a Decisao no 3816/2018 do Tribunal de Contas do Distrito Federal, comunica a ANULACAO do PREGAO ELETRONICO - SRP no 03/2017, Contratacao de empresa especializada em transporte de pessoas para prestacao de servico de transporte escolar dos alunos da Rede Publica de Ensino do Distrito Federal na Regiao: \"C\" - Sao Sebastiao, por meio de veiculos com motorista, monitor e encarregado conforme espe- cificacao constante deste Termo Referencia e seu ENCARTE B, nos itinerarios residencia- escola e vice-versa, bem como nas atividades curriculares ou extracurriculares contidas nos Projetos Politicos Pedagogicos das Instituicoes Educacionais conforme especificacoes e con- dicoes estabelecidas no termo de referencia constante do Anexo I do Edital, objeto do procedimento administrativo no 080.000401/2016. Os autos ficam com vistas franqueadas aos interessados, nesta Secretaria de Estado de Educacao, na SGAN 607 Projecoes \"D\" sala 309 (telefone 3901-2319), nos sites http://www.comprasnet.gov.br e http://w w w. s e . d f . g o v. b r. JOSEMAR SALVIANO DA SILVA.,\n",
       " AVISO DE REVOGACAO DE LICITACAO PREGAO ELETRONICO PE No 2/2019 (UASG: 927507) A Secretaria de Estado de Justica e Cidadania do Distrito Federal, torna publico que, seguindo o interesse publico e com suporte na Manifestacao 233 da AJL, documento SEI no 26459672, revoga o Pregao Eletronico no 02/2019 objeto: Contratacao empresa especializada para prestacao de servicos graficos - incluindo material e mao de obra necessaria para a execucao e acabamento dos servicos graficos, sob demanda, necessarios a realizacao da eleicao dos Conselheiros Tutelares do Distrito Federal para o Quadrienio 2020/2023, conforme condicoes e exigencias estabelecidas no Projeto Basico constante do Anexo I do Edital. Processo SEI no 00400-00023725/2019-17, Informacoes pelo telefone: (61) 3213-0712. ERONILDO DE JESUS Pregoeiro,\n",
       " AVISO DE REVOGACAO DE LICITACAO A Caesb torna publico que o Pregao Eletronico PE No 221/2019, processo no 092.000207/2019, realizado no site: www.comprasnet.gov.br (UASG: 974200), tipo de licitacao: menor preco, para o registro de precos para aquisicao de parafusos, arruelas, porcas e chumbadores, foi revogada por tratar-se de licitacao fracassada. NARA MAGALHAES DA SILVA Pregoeira,\n",
       " AVISO DE REVOGACAO PREGAO ELETRONICO No 08/2019 A Pregoeira responsavel pelo certame, Processo: 0052.00015532/2018-46, Objeto: Aquisicao de eletrodomesticos (bebedouro, freezer, televisor, fogao a gas GLP, fogao cooktop eletrico 4 bocas vitroceramico) destinados a diversas unidades da Policia Civil do Distrito Federal, conforme Anexo I do Edital, comunica a revogacao da licitacao supracitada, em razao do interesse publico decorrente de fato superveniente consubstanciado na homologacao de Ata de Registro de Precos do Governo do Distrito Federal para aquisicao de eletrodomesticos. Maiores informacoes na CPL/PCDF fones: 3207-4071/4046. Brasilia/DF, 12 de abril de 2019 KELLY CRISTINA CORDEIRO GUEDES,\n",
       " AVISO DE REVOGACAO DE LICITACAO PREGAO ELETRONICO No 17/2019 A Camara Legislativa do Distrito Federal informa a revogacao do certame em epigrafe, conforme decisao proferida no processo no 001-000631/2019, cujo objeto e o Registro de Preco para eventual contratacao de empresa especializada em locacao, montagem e desmontagem de gradil de contencao e placas de fechamento para a Camara Legislativa do Distrito Federal. Mais informacoes: (61) 3348-8650 e cpl@cl.df.gov.br. Brasilia/DF, 15/07/2019. Daniel Luchine Ishihara - Pregoeiro.,\n",
       " AVISO DE REVOGACAO PREGAO ELETRONICO No 35/2019 Objeto: aquisicao de material de consumo - CBUQ - concreto betuminoso usinado a quente - faixa c, conforme especificacoes e condicoes no anexo I do edital, Processo SEI no 0011 3 . 0 0 0 1 3 8 8 2 / 2 0 1 9 - 2 3 . Revogada a licitacao acima, conforme fundamentacao nos autos do processo. Brasilia/DF, 15 de julho de 2019. CELIA MARIA SIQUEIRA LEAL Diretora,\n",
       " AVISO DE REVOGACAO Comunicamos aos interessados na Concorrencia no 010/2017 - ASCAL/PRES - do tipo menor preco unitario - para execucao de drenagem pluvial e pavimentacao asfaltica, intertravada e execucao de meio- fio no Setor de Habitacoes Coletivas Noroeste - Parque Burle Marx, em Brasilia - DF, que a mesma fica revogada por conveniencia administrativa, conforme fundamentado nos autos do processo no 112.000.935/2017. Data da ultima publicacao no DODF no 75, de 19 de abril de 2017, pagina 37. Para maiores informacoes ligar para o telefone (0xx61) 3403-2321 ou (0xx61) 3403-2322. Brasilia/DF, 15 de julho de 2019. DELCIMAR PIRES MARTINS Chefe da ASCAL/PRES,\n",
       " AVISOS DE REVOGACAO LICITACAO No 001-P01013/2018 A CEB Distribuicao S/A, por meio da Comissao Permanente de Licitacao - CPL, localizada no SIA Setor de Areas Publicas, Lote C, Bloco H, CEB - Brasilia-DF, torna publico que fica revogada a licitacao em epigrafe, relativa a CONTRATACAO DE OBRAS DE IMPLANTACAO DA LINHA AEREA DE DISTRIBUICAO EM 138kV ITAPOA x SOBRADINHO TRANSMISSAO. Demais informacoes, no horario das 8h as 12h e das 14h as 17h ou por meio dos telefones: 3465- 9012/9287. Brasilia/DF, 12 de julho de 2019 MARCELO ANDRADE CRUZ Presidente da Comissao,\n",
       " AVISO DE REVOGACAO LICITACAO PUBLICA NACIONAL - LPN 011/2019 A Caesb, no ambito de seu Programa de Saneamento Ambiental, financiado pelo Banco Interamericano de Desenvolvimento - BID, torna publico que a Licitacao Publica Nacional - LPN 011/2019, processo no 092.005465/2019, para execucao das Obras de Setorizacao e Adequacao de Redes nas localidades da Asa Sul, Cruzeiro, Asa Norte e Jardim Botanico, incluindo o fornecimento e Instalacao do Novo Booster, foi revogada por conveniencia administrativa. GILMAR PERES MONTEIRO Presidente da Comissao,\n",
       " AVISO DE ANULACAO PREGAO ELETRONICO No 10/2019 PROCESSO: 00053-00009769/2019-41/CBMDF. TIPO: Menor preco. OBJETO: Aquisicao de microscopio reto trinocular para realizacao das analises laboratoriais para o CBMDF. O DICOA informa a ANULACAO do certame, em razao da existencia de vicios insanaveis no certame. Esta aberto o prazo recursal na forma do Art. 109, I, \"c\", da Lei 8.666/1993. Inf.: (61) 3901-3481. Marcelo Teixeira Dantas.,\n",
       " AVISO DE REVOGACAO PREGAO ELETRONICO No 123/2019 - UASG 926119 A Pregoeira da Central de Compras torna publico aos interessados que, o procedimento licitatorio para contratacao de empresa especializada para a Operacao Logistica da cadeia de suprimentos, conforme especificacoes e quantitativos constantes no Anexo I do Edital, restou REVOGADO, nos termos do Processo no 00060-00123066/2018-91 e Art. 49 da Lei 8.666/93, por decisao prolatada pelo Subsecretario de Administracao Geral, Antony Araujo Couto, e pelo Secretario de Estado de Saude, Osnei Okumoto, para atender as necessidades e demandas exigidas para o sistema de operacao logistica desta Pasta, bem como para conclusao de mapeamento da Cadeia de Suprimentos. MERITA SIMIONE BORGES,\n",
       " AVISO DE REVOGACAO PREGAO ELETRONICO No 14/2019 PROCESSO: 0052.002.099/2016. OBJETO: Contratacao de servicos de solucao de impressao, copia e digitalizacao a fim de atender necessidades gerais e especificas das unidades policiais da PCDF. TIPO: Menor Preco. O ordenador de despesas da PCDF, de acordo com o artigo 109 1o da lei de licitacoes, torna publico aos licitantes e demais interessados que o certame supracitado foi revogado, devido a ocorrencia de falhas operacionais no Sistema COMPRASNET durante o tempo aleatorio para lances, com possibilidade de cerceamento da competitividade entre os licitantes, conforme decisao fundamentada no art. 49, caput, assegurado o prazo previsto no art. 109, inciso I, c, da Lei no 8.666/93. A integra do documento esta disponivel no site www.pcdf.df.gov.br, link licitacoes. Maiores informacoes na CPL/PCDF fones: 3207-4071/4046. Brasilia/DF, 1o de agosto de 2019. SILVERIO ANTONIO MOITA DE ANDRADE Diretor,\n",
       " AVISO DE REVOGACAO PREGAO ELETRONICO No 150/2018 - SRP - UASG 925041 Processo: 00410-00008137-27 - SEEC/DF. O pregoeiro comunica que o pregao acima citado foi revogado, com fulcro no art. 49 da Lei Federal n. o 8.666/93 e na Nota Tecnica no 27/2019 - AJL, acolhido pela Autoridade competente, devidamente fundamentado e constante dos autos. Maiores Informacoes: Coordenacoes de Licitacoes - COLIC/SEEC - DF, telefone: 0xx(61) 3313-8494. Brasilia/DF, 08 de outubro de 2019. EDSON DE SOUZA Coordenador,\n",
       " AVISO DE REVOGACAO EDITAL DE CONCORRENCIA N 12/2018 - CRIXA A Comissao Permanente de Licitacao - CPL/CODHAB comunica aos interessados que o Diretor- Presidente/CODHAB decidiu revogar o Edital de Concorrencia n 12/2018, processo n.o 0392-0003741/2018- 69 cujo objeto e a contratacao de empresa para a execucao das obras de implantacao de infraestrutura externa (sistemas de abastecimento de agua potavel e esgotamento sanitario, Drenagem e pavimentacao) ao empreendimento situado no Bairro Crixas em Sao Sebastiao, uma vez que o objeto nao mais atende suas necessidades atuais, consubstanciando sua decisao no Despacho SEI-GDF CODHAB/PRESI/CPL devidamente fundamentado na Despacho SEI-GDF CODHAB/PRESI/SECEX e com fulcro no caput do art. 49 da Lei 8.666/93 e Sumula 473 do STF, estando o processo a disposicao no Portal de Sistema Eletronico de Informacoes - SEI. Fica assegurado o direito a ampla defesa e ao contraditorio, nos termos do 3o, art. 49 c/c a alinea \"c\", inciso I do art. 109, da citada Lei. Transcorrido o prazo concedido para a ampla defesa e o contraditorio sem manifestacao o ato da Revogacao restara consumado. Brasilia/DF, 26 de dezembro de 2018 GILSON PARANHOS D i r e t o r- P r e s i d e n t e,\n",
       " AVISO DE ANULACAO PREGAO ELETRONICO No 37/2019 Processo No 00053-00050726/2019-41/CBMDF. TIPO: Menor preco. OBJETO: Contratacao de empresa especializada para realizar servicos continuados de manutencao, reparo e reposicao de pecas e fluidos originais dos equipamentos e aparelhos odontologicos da Policlinica Odontologica do CBMDF, conforme especificacoes e condicoes estabelecidas no Termo de Referencia constante do Anexo I do Edital. O DICOA informa a ANULACAO do item 6.8 do edital; do item 5.8 do termo de referencia; da tabela do item 5.6 do termo de referencia e a fase externa da licitacao do pregao em epigrafe, com fulcro no item 16.6 do edital c/c, art. 49 da Lei no 8.666/1993, art. 29 do Decreto no 5.450/2005 e art. 53 da Lei no 9.784/1999, em razao da existencia de vicios insanaveis no certame conforme aponta o Relatorio de Analise do Pregoeiro. Visto o art. 109, I, \"c\", da Lei 8.666/1993, fica aberto o prazo recursal de 5 (cinco) dias uteis. Inf.: (61) 3901-3481. MARCELO TEIXEIRA DANTAS Diretor,\n",
       " AVISO DE ANULAÇÃO DO PREGÃO ELETRÔNICO SRP Nº 07/2021 O DIRETOR-PRESIDENTE DA COMPANHIA DE DESENVOLVIMENTO HABITACIONAL DO DISTRITO FEDERAL, comunica aos interessados a ANULAÇÃO do Pregão Eletrônico nº 07/2021, cujo objeto trata de contratação de empresa ou consórcio de empresas para prestação de serviços técnicos para a elaboração de estudos e projetos para regularização fundiária e urbana da Área de Interesse Social - ARIS Sol Nascente, para atender a Companhia de Desenvolvimento Habitacional do Distrito Federal CODHAB/DF, conforme descrito no Anexo I do Edital, referente ao processo 00392-00007567/2021-29 Destaque-se que está disponível no sistema Comprasnet o evento de Anulação do certame em 16/02/2022, como procedimento para atendimento da Decisão 152/2022 TCDF. Brasília/DF, 15 de fevereiro de 2022 WELLINGTON LUIZ,\n",
       " AVISO DE ANULAÇÃO DA LICITAÇÃO CONCORRÊNCIA Nº 01/20121 A Companhia de Desenvolvimento Habitacional do Distrito Federal CODHAB/DF, no uso de suas atribuições, torna público o Aviso de anulação da Concorrência 01/2021 - PROCESSO SEI Nº 00392-00014723/2020-27, que tem por objeto a promoção de empreendimentos habitacionais por meio da produção e comercialização de Unidades Habitacionais a serem disponibilizadas ao cadastro de habitação, em terrenos de propriedade da CODHAB localizadas em Santa Maria RA XIII, em atendimento à política habitacional do Governo do Distrito Federal, de acordo com as especificações e quantitativos contidos no Projeto Básico constante do Anexo I do Edital, conforme após a aprovação da Súmula SEI-GDF CODHAB/PRESI/DIPRO n.º 26/2021 (67797043), pela Diretoria Executiva da CODHAB, em 23 de agosto de 2021 e solicitação da área demandante no Despacho CODHAB/PRESI/DIPRO/GEPHAB (72810303). Brasília/DF, 26 de outubro de 2021. FERNANDA VITORINO Presidente da Comissão,\n",
       " AVISO DE REVOGAÇÃO PREGÃO ELETRÔNICO Nº 56/2021 A presente licitação tem por objeto a aquisição de material permanente - aquisição de equipamentos para aparelhamento/substituição/melhoramento do Laboratório de Solos (NULSO) do Departamento de Estradas de Rodagem do Distrito Federal (DER/DF), tudo conforme especificado no Edital e em seus anexos. Processo 00113-00005906/2021-95. Fica revogada, fundamentação nos autos do processo. Brasília/DF, 29 de julho de 2021 ANA HILDA DO CARMO SILVA Diretora,\n",
       " AVISO DE ANULAÇÃO DE LICITAÇÃO PREGÃO ELETRÔNICO Nº 32/2021 Processo: 00050-00037099/2020-71. TIPO: Menor Preço. MODO DE DISPUTA: Aberto. OBJETO: Registro de Preço para futura aquisição de equipamentos de Tecnologia da Informação e Comunicação (TIC) objetivando a aquisição de Solução de Firewalls, envolvendo a prestação dos serviços de instalação, configuração, suporte técnico, manutenção e treinamento composto de operação assistida e tutela técnica para sustentação de serviços de Segurança Pública do DF. A SSP informa aos interessados no presente Certame a ANULAÇÃO do Pregão Eletrônico nº 32/2021-SSPDF, com fulcro nos termos do art. 4º, III, da Lei federal nº 10.520/2002 e art. 14, III, do Decreto federal nº 10.024/2019, bem como violação dos princípios da legalidade, do julgamento objetivo, da isonomia, da publicidade e da competitividade, estabelecidos pelo art. 37 da Constituição Federal, pelo art. 19 da Lei Orgânica do DF, e no art. 2º, do Decreto Federal nº 10.024/2019. Brasília/DF, 05 de janeiro de 2022 CELSO WAGNER LIMA Subsecretário,\n",
       " AVISO DE REVOGAÇÃO DE PREGÃO ELETRÔNICO Nº 04/2021 Processo: 00074-00000002/2020-97. OBJETO: Venda de madeira em pé da espécie Pinus sp, com corte e retirada do insumo no local, conforme especificações, condições e exigências estabelecidas no Edital nº 04/2021 e seus anexos. Em razão da impossibilidade de prosseguimento do certame em decorrência da falha de sistema relatada na Nota Técnica CAIXA - NT_0004_2021_CEPEM 08_12_2021 (75803745), REVOGA-SE o Pregão Eletrônico nº 04/2021, a que se refere o Edital de Licitação 04/2021 (67386008). SALVADOR CARDOSO Pregoeiro,\n",
       " AVISO DE ANULAÇÃO PREGÃO ELETRÔNICO Nº 02/2021 - UASG: 926319 A Pregoeira da Fundação de Apoio à Pesquisa do Distrito Federal, comunica a anulação do certame licitatório oriundo do Edital de Licitação do Pregão Eletrônico nº 0002/2021 - SUAG/DGA/FAPDF - EXCLUSIVO ME/EPP. Informamos que serão feitas as devidas alterações para a continuidade dos procedimentos. Processo 00193-00000432/2021-05. Os autos ficam com vistas franqueadas aos interessados, nesta Fundação de Apoio à Pesquisa do Distrito Federal, pelo e-mail: cpl@fap.df.gov.br. Brasília/DF, 24 de setembro de 2021 MARCILENE BONFIM LEITÃO SANTANA,\n",
       " AVISO DE ANULAÇÃO PREGÃO ELETRÔNICO Nº 57/2021 Processo: 00053-00082079/2021-51. TIPO: Menor preço. OBJETO: Contratação de empresa para execução de serviço contínuo comum de operação e manutenção preventiva e corretiva nos equipamentos de climatização instalados na Policlínica Médica (POMED) e Policlínica Odontológica (PODON) do CBMDF, conforme Edital e anexos. O DICOA informa que a licitação publicada no DODF nº 206 e DOU nº 207, ambos do dia 04/11/2021, foi ANULADA em virtude da identificação de vícios insanáveis no Edital. Inf: (61) 3901-3614. HÉLIO PEREIRA LIMA Diretor,\n",
       " AVISO DE REVOGAÇÃO DE LICITAÇÃO PREGÃO ELETRÔNICO Nº 07/2021 (AMPLA CONCORRÊNCIA) O GOVERNO DO DISTRITO FEDERAL POR MEIO DA SECRETARIA DE ESTADO DA AGRICULTURA, ABASTECIMENTO E DESENVOLVIMENTO RURAL DO DISTRITO FEDERAL SEAGRI/DF torna público que, por decisão da Autoridade Competente, nos termos do art. 50, caput, do Decreto nº 10.024/2019, e art. 49, caput, da Lei nº 8.666/93, REVOGA a licitação do tipo MENOR PREÇO UNITÁRIO, na modalidade de PREGÃO na forma ELETRÔNICA, com previsão de abertura do certame para 07/07/2021, às 09h30m que se encontrava suspensa, processo 00070-00004590/2020-41(SEI). OBJETO: Aquisição de veículos do tipo furgão leve de carga para atender demandas de associações de produtores rurais do Distrito Federal, de modo a garantir o transporte de produtos da agricultura familiar até os pontos de comercialização e de insumos até as propriedades dos associados, de acordo com o detalhamento descrito no item 03, do Termo de Referência, Anexo I do Edital, com valor Total estimado em R$ 164.000,00 (cento e sessenta e quatro mil reais). O aviso do evento de revogação poderá ser retirado a partir da publicação no Portal www.comprasgovernamentais.gov.br ou no portal da SEAGRI-DF, Licitação , a partir da sua divulgação. NATANAEL FÉLIX DOS SANTOS Pregoeiro,\n",
       " AVISO DE REVOGAÇÃO PARCIAL DE LICITAÇÃO PREGÃO ELETRÔNICO Nº 07/2021 LOTE 4 A CARTÃO BRB S.A. torna público que o Lote 4, integrante da licitação referenciada no preâmbulo, fica revogado, tendo em vista questionamento impetrado judicialmente, via Mandado de Segurança (0732084-09.2021.8.07.0001 25ª Vara Cível de Brasília). Assim, no intuito maior de pugnar pelo melhor atendimento do interesse público, bem como permitir maior competividade no âmbito do procedimento licitatório, o Lote 4 resta excluído do certame. Novo edital, específico para a alienação do imóvel de propriedade da BRBCARD, será publicado a posteriori. Quanto aos demais lotes, sobre os quais não pairaram questionamentos ou impedimentos de natureza judicial, informa-se que seus objetos restam devidamente homologados. ALMIR FRANCISCO GOMES FILHO Presidente da Comissão,\n",
       " AVISO DE REVOGAÇÃO CONCORRÊNCIA Nº 02/2021 A COMISSÃO PERMANENTE DE LICITAÇÃO, DA SUBSECRETARIA DE ADMINISTRAÇÃO GERAL, DA SECRETARIA DE ESTADO DE EDUCAÇÃO DO DISTRITO FEDERAL, comunica aos interessados que a Subsecretaria de Administração Geral da SEDF, por interesse da administração e, baseada na justificativa apresentadas pela Subsecretaria de Infraestrutura Escolar (SEI nº 66298959), constante no processo 00080-00008717/2020-63, a Revogação da Concorrência em epígrafe. Os autos ficam com vistas franqueadas aos interessados. JAIRO PEREIRA MARTINS Presidente,\n",
       " AVISO DE LICITAÇÃO REFERENTE AO EDITAL Nº 07/2016 - IMÓVEIS A Diretoria Colegiada da Companhia Imobiliária de Brasília - TERRACAP, em sua Decisão nº 570/2021-DIRET, 3569ª sessão, realizada em 13/10/2021, decidiu, em razão do pedido de desistência formulado pela licitante JR VIRGHINI EMPREENDIMENTOS IMOBILIÁRIOS LTDA (Proposta de Compra nº 5001003), pela revogação da licitação do ITEM 143 do Edital nº 07/2016, aplicando-se a penalidade de retenção do valor caucionado, pelos motivos apresentados no Relatório nº 211/2021-ADCOM. Brasília/DF, 21 de outubro de 2021 BRUNO CESAR SANTANA DE MENESES Presidente da Comissão,\n",
       " AVISO DE REVOGAÇÃO DE PREGÃO ELETRÔNICO Nº 06/2021-SRP UASG 926210 A Secretaria de Estado de Trabalho do Distrito Federal, no uso das atribuições legais, em conformidade com a Lei nº 8.666/93, Decreto nº 39.610/2019 e Decreto nº 38.362/2017, bem como a Decisão nº 3443/2021 do TCDF fundamentando sua decisão; a Nota Jurídica nº 37/2021-SETRAB/GAB/AJL e acolhida pelo Secretário de Estado de Trabalho do Distrito Federal, resolve: REVOGAR em todos os seus termos, por interesse, conveniência e oportunidade, o Pregão Eletrônico nº 006/2021, processo 04012-00003480/2020-15, cujo o objeto é o Registro de Preços para contratação de empresa especializada na prestação de serviço de qualificação profissional e atendimento em unidades móveis, incluído recursos materiais, humanos, tecnológicos e toda gestão operacional para atender à Secretaria de Estado de Trabalho do Distrito Federal - SETRAB. Brasília/DF, 06 de outubro de 2021 EUYNDHER SANTOS DE MORAIS Pregoeiro,\n",
       " AVISO DE REVOGAÇÃO DE LICITAÇÃO (*) O Presidente da Comissão de Licitação para Compra de Bens, Serviços e Obras CPLIC/TERRACAP, no uso das atribuições que lhe confere a Portaria nº 231/2021 - DIRAF, comunica a REVOGAÇÃO do seguinte certame. Processo: 0111-002346/2016 Modalidade/número: Concorrência nº 03/2017 - REVOGAÇÃO Objeto: Contratação da implantação das redes de esgotamento sanitário das redes públicas e condominiais para atendimento ao Trecho 2 da 1ª Etapa do Setor Habitacional Taquari - SHTQ; Brasília/DF, 26 de agosto de 2021 GLAUBER TEODORO FARIA Presidente da Comissão __________________ (*) Republicado por ter saído com incorreção no DODF nº 164, de 30 de agosto de 2021, página 55.,\n",
       " AVISO DE REVOGAÇÃO DE LICITAÇÃO O Presidente da Comissão de Licitação para Compra de Bens, Serviços e Obras, no uso das atribuições que lhe confere a Portaria nº 231/2021 - DIRAF, comunica a REVOGAÇÃO do seguinte certame. Processo: 00111-00009348/2019-79 Modalidade/número: Pregão Eletrônico nº 09/2020 - REVOGAÇÃO Tipo: Menor Preço por lote Objeto: Contratação de auditoria médica em serviços de assistência à saúde, avaliação atuarial e consultoria especializada para acompanhamento de contrato de plano de saúde Data/hora de abertura: 30/12/2020, às 10:00 horas,\n",
       " AVISO DE REVOGAÇÃO PREGÃO ELETRÔNICO SRP Nº 02/2021 UASG 926873 O Consórcio Interestadual de Desenvolvimento do Brasil Central, por intermédio da Secretaria Executiva, nos termos do art. 49 da Lei Federal nº 8.666/93, com suas alterações legais, torna público o aviso de Revogação do Pregão Eletrônico SRP n° 02/2021, da Licitação no Processo Administrativo Licitatório nº 20201607000083, cujo o objeto é o registro de preços para futura e eventual contratação de empresa especializada no fornecimento de Equipamento de Proteção Individual EPIs necessários para o atendimento pelos profissionais de saúde aos pacientes diagnosticados e em tratamento decorrente da infecção pelo novo coronavírus (SARS-CoV-2), em apoio aos Entes integrantes do Consórcio Interestadual de Desenvolvimento do Brasil Central - BrC (Distrito Federal, Mato Grosso, Mato Grosso do Sul e Tocantins). MARCUS VINICIUS BRITTO Secretário Executivo,\n",
       " AVISO DE ANULAÇÃO PREGÃO ELETRÔNICO Nº 12/2021 METRÔ-DF UASG 925046 O METRÔ-DF, por meio do Pregoeiro, comunica a anulação do mencionado pregão eletrônico, cujo objeto trata do Registro de Preços para eventual contratação de empresa para fornecimento e instalação de cerca (grade) de vedação e concertina ao longo da via permanente, em locais de vulnerabilidade, da Companhia do Metropolitano do Distrito Federal - METRÔ-DF e Companhia Urbanizadora da Nova Capital do Brasil NOVACAP, visto ter sido constatada a inviabilidade do julgamento das propostas pelo Metrô-DF, visto ter ocorrido equívoco no cadastramento da licitação no sistema Comprasnet em relação à disposição do item 11.5.1 do Edital. É garantido aos interessados a contestação do presente ato, no prazo de até cinco dias úteis a contar desta publicação. Transcorrido o prazo concedido e não havendo manifestação em contrário, o ato de anulação restará efetivado. Fica assegurado vista aos autos do processo 0009700011722/2020-29, mediante solicitação pelo e-mail: licitacao@metro.df.gov.br. DIEGO MONDINI DE SOUZA Pregoeiro,\n",
       " AVISO DE REVOGAÇÃO DE LICITAÇÃO A Caesb torna público que a Licitação Fechada - LF 003/2021-Caesb, processo 092.003265/2021, cujo objeto é a implantação do reservatório apoiado RAP.ALG.001, constituído de uma câmara de 6.000m³, fabricado em chapa de aço revestidas em epóxi, aparafusado, a ser implantado em Águas Lindas de Goiás - GO foi REVOGADA por conveniência administrativa, conforme despacho GABDE (0357317). Mais informações, acesse o site da Caesb (https://www.caesb.df.gov.br/licitacoes2/modalidadeslicitacao.html) e ComprasNet (http://comprasnet.gov.br/Livre/RDC/rdcEletronico.asp) SILVIO SANTOS GONÇALVES SOARES Pregoeiro,\n",
       " AVISO DE ANULAÇÃO DE LICITAÇÃO CONCORRÊNCIA N° 03/2022 O Jardim Botânico de Brasília, comunica aos interessados que a licitação referente à modalidade Concorrência nº 03/2022, tipo maior oferta, empreitada por Preço Global, modalidade: Concorrência, objetivando a Concessão de Uso de Bem Público do Distrito Federal no espaço denominado Quiosque 1 , localizado na Praça de Alimentação do Jardim Botânico de Brasília, na Alameda das Nações, situado na Área Especial SMDB, Estação Ecológica Jardim Botânico de Brasília, Lago Sul - Brasília, Distrito Federal, com a finalidade específica de exploração, por uma única empresa, de serviços de lanchonete, para fornecimento de lanches e bebidas em geral, excetuando-se hamburguerias, por esta ser objeto de concessão do \"Quiosque 3\", com edificação da área aproximada de 28,84 m² (vinte e oito e oitenta e quatro metros quadrados) somada à área comum, totalizando, aproximadamente, 60 m² (sessenta metros quadrados), por conta e risco do futuro Concessionário, foi anulado a partir da data dessa publicação, com fundamento no Art. 49 da Lei nº 8.666/93, justificativa fundamentada e apensada ao presente processo licitatório. Quaisquer dúvidas poderão ser esclarecidas junto a Comissão de Licitação no Prédio da Superintendência de Administração Geral-SUAG/JBB, localizada na Área Especial SMDB Estação Ecológica Jardim Botânico de Brasília/Lago Sul, Brasília/DF. Brasília/DF, 24 de fevereiro de 2022 ALINE DE PIERI Diretora-Executiva,\n",
       " AVISO DE REVOGAÇÃO DE LICITAÇÃO A Caesb torna público que o Pregão Eletrônico PE nº 126/2021, processo 00020270/202183, objeto: aquisição de componentes de equipamentos elétricos e eletrônicos (abraçadeira, anilha, cabo, canaleta, disjuntor, fio, lâmpada, refletor e outros), foi revogado por razões administrativas. ELIZABETH DUARTE ALVES Pregoeira,\n",
       " AVISO DE REVOGAÇÃO PREGÃO ELETRÔNICO Nº 190/2021 - UASG 926119 A Pregoeira da Central de Compras torna pública a REVOGAÇÃO, pela autoridade competente, da licitação supracitada, cujo objeto é Aquisição de Mobiliários: MESA DE CABECEIRA e MESA DE REFEIÇÕES. O certame será substituído pelo Pregão Eletrônico SES-DF n° 216/2021. LÍNEA CAROLINE DA SILVA LIMA,\n",
       " AVISO DE LICITAÇÃO PREGÃO ELETRÔNICO N° 30/2021 - UASG 974002 A Pregoeira da Subsecretaria de Compras Governamentais, em atendimento a Decisão nº 2265/2021 do Tribunal de Contas do Distrito Federal, comunica a anulação da fase posterior à abertura da sessão do Pregão Eletrônico nº 30/2021 - SCG/SPLAN/SEEC. Informamos que serão feitas as devidas alterações para a continuidade dos procedimentos. Processo 0004000023083/2020-18. Os autos ficam com vistas franqueadas aos interessados, nesta Secretaria de Estado de Economia do DF, no endereço eletrônico www.comprasgovernamentais.gov.br ou pelo e-mail: pregoeirosulog05@economia.df.gov.br. Brasília/DF, 18 de junho de 2021 KARLA REGINA DA SILVA ROCHA,\n",
       " AVISO DE REVOGAÇÃO PREGÃO ELETRÔNICO Nº 06/2020 A SUBSECRETÁRIA DE ADMINISTRAÇÃO GERAL, DA SECRETARIA DE ESTADO DE DESENVOLVIMENTO URBANO E HABITAÇÃO DO DISTRITO FEDERAL, torna público aos interessados, que o procedimento licitatório para Contratação de empresa especializada para prestação de serviços deseguro total automotivo, com cobertura contra danos materiais resultantes de sinistros de roubo ou furto, colisão, incêndio, danos causados pela natureza e assistência 24 horas, para 11 (onze) veículos pertencentes à frota desta Secretaria de Estado, conforme especificações e quantitativos constantes no Anexo I do Edital, restou REVOGADO, nos termos do processo 00390-00001558/2020-08 e decisão prolatada com fundamentação no Art. 49, caput, assegurado o decurso de prazo, previsto no art. 109, Inciso I, alínea \"c\", da Lei Federal n° 8.666/1993. ADRIANA ROSA SAVITE COORDENAÇÃO DE LICITAÇÃO,\n",
       " AVISO DE REVOGAÇÃO PREGÃO ELETRÔNICO Nº 190/2021 - UASG 926119 (*) A Pregoeira da Central de Compras torna pública a REVOGAÇÃO, pela autoridade competente, da licitação supracitada, cujo objeto é Aquisição de Mobiliários: MESA DE CABECEIRA e MESA DE REFEIÇÕES. O certame será substituído pelo Pregão Eletrônico SES-DF n° 220/2021. LÍNEA CAROLINE DA SILVA LIMA ____________________ (*) Republicado por ter sido encaminhado com incorreção no original, publicado no DODF n° 125, de 06 de julho de 2021, página 33.,\n",
       " AVISO DE REVOGAÇÃO DE LICITAÇÃO Nº 06/2021 - UASG 926334 A Fundação Hemocentro de Brasília torna pública com fundamento no art. 49, caput da Lei nº 8.666/1993 e justificativa que consta nos autos do processo 00063-00002703/202026, a revogação do Pregão Eletrônico nº 06/2021, cujo o objeto é a contratação de empresa especializada na prestação de serviços de CERTIFICAÇÃO de sistemas de gestão, em conformidade com a Norma ABNT NBR ISO 9001:2015 Sistemas de Gestão da Qualidade Requisitos para atender às necessidades da Fundação Hemocentro de Brasília, por se tratar de medida que melhor atende ao interesse público. Mais informações, assim como a íntegra da decisão podem ser solicitadas pelo e-mail licitacao@fhb.df.gov.br, bem como consulta pública nos autos do processo administrativo 00063-00002703/2020-26. HENRIQUE SANJIRO YUZUKI FARIAS Chefe,\n",
       " AVISO DE LICITAÇÃO PREGÃO ELETRÔNICO Nº 45/2021 - UASG 974002 O pregoeiro comunica aos interessados que o PE nº 45/2021, cujo objeto é o registro de preço para eventual contratação de Solução de Qualificação e Apoio à Recuperação de Débitos com base de dados própria, suporte presencial e remoto, teve sua fase externa anulada por inconsistência no edital, com fulcro no art. 49 da Lei Federal nº 8.666/93 e enunciado 473 do STF e Despacho-SEEC/SPLAN/SCG-SEI ID Nº 64438709, acolhido pela autoridade competente. Processo 00040-00017136/2020-61. Comunica ainda, que após os devidos ajustes será publicado novo edital com nova numeração. Informações no site: www.comprasgovernamentais.gov.br e pelo e-mail: pregoeirosulog14@economia.df.gov.br. Brasília/DF, 25 de junho de 2021 EDMAR FIRMINO LIMA,\n",
       " AVISO DE REVOGAÇÃO PREGÃO ELETRÔNICO POR SRP Nº 318/2017 - UASG 926119 A Pregoeira da Central de Compras torna público aos interessados que o procedimento licitatório para Contratação de empresa especializada para prestação de serviço de Central de Atendimento com fornecimento, instalação, configuração, customização, suporte técnico e manutenção de solução sistêmica integrada de comunicação de voz, dados, imagens, armazenamento e monitoramento remoto, rádio comunicação, composta de recursos completos para sua operação, inclusive adequações físicas, infraestrutura lógica e elétrica, estações de trabalho, pessoal, equipamentos e softwares de modo a atender a necessidade de integração dos serviços de comunicação do Serviço de Atendimento Móvel de Urgência SAMU/DF, conforme especificações e quantitativos constantes no Anexo I do Edital, (Processo: 00060.00025673/2017-13), restou REVOGADO pela autoridade competente, nos termos do art. 49 da Lei nº 8.666 de 1993. JULIANA ARAÚJO E SOUZA,\n",
       " AVISO DE REVOGAÇÃO PREGÃO ELETRÔNICO Nº 317/2020 - UASG 926119 A Pregoeira da Central de Compras torna público aos interessados que o procedimento licitatório referente à contratação de empresa especializada para a Operação Logística da Cadeia de Suprimentos e da Cadeia de Frio, abrangendo as atividades de Recebimento, Conferência, Armazenamento, Separação, Fracionamento, Expedição, Rastreabilidade, Transporte, Distribuição e Logística Reversa de Medicamentos, Órteses, Próteses e Materiais Especiais, Materiais Médico-Hospitalares, Laboratoriais, Odontológicos, de Expediente, Imunobiológicos, dentre outros produtos, incluindo recurso humanos, tecnológicos e operacionais, conforme condições, quantidades e exigências estabelecidas no Anexo I do Edital. (Processo Eletrônico: 00060-00384658/2019-68), restou REVOGADO pela Autoridade Competente, nos termos do art. 49 da Lei 8.666/93. CERIZE HELENA SOUZA SALES,\n",
       " AVISO DE REVOGAÇÃO DE LICITAÇÃO A Caesb torna público que a Licitação Fechada LF nº 01/2020, processo 092.005499/2019, objeto: Execução das obras de implantação da Adutora de Água Bruta do Sistema Paranoá Sul 1ª Etapa, realizada no site: www.comprasnet.gov.br (UASG: 974200), foi revogada por razões administrativas. EDSON MIRANDA BEZERRA Pregoeiro]"
      ]
     },
     "execution_count": 19,
     "metadata": {},
     "output_type": "execute_result"
    }
   ],
   "source": [
    "docs"
   ]
  },
  {
   "cell_type": "code",
   "execution_count": 23,
   "metadata": {},
   "outputs": [
    {
     "data": {
      "text/html": [
       "<span class=\"tex2jax_ignore\"><div class=\"entities\" style=\"line-height: 2.5; direction: ltr\">AVISO DE ANULACAO \n",
       "<mark class=\"entity\" style=\"background: #ddd; padding: 0.45em 0.6em; margin: 0 0.25em; line-height: 1; border-radius: 0.35em;\">\n",
       "    PREGAO ELETRONICO\n",
       "    <span style=\"font-size: 0.8em; font-weight: bold; line-height: 1; border-radius: 0.35em; vertical-align: middle; margin-left: 0.5rem\">modalidade_licitacao</span>\n",
       "</mark>\n",
       " (SRP) 10/2019 (EXCLUSIVO PARA ENTIDADES PREFERENCIAIS) A SECRETARIA DE ESTADO DA AGRICULTURA, ABASTECIMENTO E DESENVOLVIMENTO RURAL DO DISTRITO FEDERAL, torna publico que fica anulada a licitacao supracitada, referente ao Processo no \n",
       "<mark class=\"entity\" style=\"background: #ddd; padding: 0.45em 0.6em; margin: 0 0.25em; line-height: 1; border-radius: 0.35em;\">\n",
       "    00070-00004102/2019-61\n",
       "    <span style=\"font-size: 0.8em; font-weight: bold; line-height: 1; border-radius: 0.35em; vertical-align: middle; margin-left: 0.5rem\">processo_gdf</span>\n",
       "</mark>\n",
       ". Objeto: Contratacao de servico de investigacao geotecnica para execucao de sondagem a percussao. Serao aproximadamente 30 (trinta) furos de sondagem a percussao, distribuidos em diversos terrenos de propriedade do Governo do Distrito Federal, visando subsidiar a elaboracao de projetos de fundacoes para edificacoes voltadas para a area rural e/ou para a manutencao dos proprios da SEAGRI, sobretudo nas Regioes Administrativas de Brazlandia, Lago Norte, Paranoa, Planaltina, Plano Piloto (Asa Norte) e Sao Sebastiao, para fins de correcao da forma de apresentacao dos precos em termo de referencia, para que seja possivel aos licitantes incluir nos precos ofertados todos os custos necessarios a execucao do servicos. EDILENE DIAS CERQUEIRA Pregoeira</div></span>"
      ],
      "text/plain": [
       "<IPython.core.display.HTML object>"
      ]
     },
     "metadata": {},
     "output_type": "display_data"
    },
    {
     "data": {
      "text/html": [
       "<span class=\"tex2jax_ignore\"><div class=\"entities\" style=\"line-height: 2.5; direction: ltr\">AVISO DE ANULACAO \n",
       "<mark class=\"entity\" style=\"background: #ddd; padding: 0.45em 0.6em; margin: 0 0.25em; line-height: 1; border-radius: 0.35em;\">\n",
       "    PREGAO ELETRONICO\n",
       "    <span style=\"font-size: 0.8em; font-weight: bold; line-height: 1; border-radius: 0.35em; vertical-align: middle; margin-left: 0.5rem\">modalidade_licitacao</span>\n",
       "</mark>\n",
       " POR SRP No \n",
       "<mark class=\"entity\" style=\"background: #ddd; padding: 0.45em 0.6em; margin: 0 0.25em; line-height: 1; border-radius: 0.35em;\">\n",
       "    05/2019\n",
       "    <span style=\"font-size: 0.8em; font-weight: bold; line-height: 1; border-radius: 0.35em; vertical-align: middle; margin-left: 0.5rem\">numero_licitacao</span>\n",
       "</mark>\n",
       " - UASG 926119 A Pregoeira da Central de Compras/SUAG comunica a anulacao da licitacao supracitada, por decisao do Subsecretario de Administracao Geral, Antony Araujo Couto, haja vista as impropriedades tecnicas identificadas no termo de referencia. PRISCILLA MOREIRA FALCAO FIGUEIREDO</div></span>"
      ],
      "text/plain": [
       "<IPython.core.display.HTML object>"
      ]
     },
     "metadata": {},
     "output_type": "display_data"
    },
    {
     "data": {
      "text/html": [
       "<span class=\"tex2jax_ignore\"><div class=\"entities\" style=\"line-height: 2.5; direction: ltr\">AVISO DE ANULACAO \n",
       "<mark class=\"entity\" style=\"background: #ddd; padding: 0.45em 0.6em; margin: 0 0.25em; line-height: 1; border-radius: 0.35em;\">\n",
       "    PREGAO ELETRONICO\n",
       "    <span style=\"font-size: 0.8em; font-weight: bold; line-height: 1; border-radius: 0.35em; vertical-align: middle; margin-left: 0.5rem\">modalidade_licitacao</span>\n",
       "</mark>\n",
       " No \n",
       "<mark class=\"entity\" style=\"background: #ddd; padding: 0.45em 0.6em; margin: 0 0.25em; line-height: 1; border-radius: 0.35em;\">\n",
       "    16/2017\n",
       "    <span style=\"font-size: 0.8em; font-weight: bold; line-height: 1; border-radius: 0.35em; vertical-align: middle; margin-left: 0.5rem\">numero_licitacao</span>\n",
       "</mark>\n",
       " - SRP Processo no \n",
       "<mark class=\"entity\" style=\"background: #ddd; padding: 0.45em 0.6em; margin: 0 0.25em; line-height: 1; border-radius: 0.35em;\">\n",
       "    054.002.382/2017\n",
       "    <span style=\"font-size: 0.8em; font-weight: bold; line-height: 1; border-radius: 0.35em; vertical-align: middle; margin-left: 0.5rem\">processo_gdf</span>\n",
       "</mark>\n",
       ". O Chefe do Departamento de Saude e Assistencia ao Pessoal da Policia Militar do Distrito Federal torna publico aos interessados a ANULACAO do certame em epigrafe, inicialmente previsto para ocorrer em 23/1/2018, as 14h, por vicio de incompetencia na autorizacao do processo licitatorio. Objeto: Registro de Preco para aqui- sicao de material farmacologico e hospitalar, conforme especificacoes e quantidades cons- tantes no Anexo I do edital. Valor estimado de R$ 11.187,75 (onze mil cento e oitenta e sete reais de setenta e cinco centavos). Informacoes: (61) 3190-8054 e dsap.sspre- goes@pm.df.gov.br e dsap.sspregoes@gmail.com. Brasilia/DF, \n",
       "<mark class=\"entity\" style=\"background: #ddd; padding: 0.45em 0.6em; margin: 0 0.25em; line-height: 1; border-radius: 0.35em;\">\n",
       "    08 de fevereiro de 2018\n",
       "    <span style=\"font-size: 0.8em; font-weight: bold; line-height: 1; border-radius: 0.35em; vertical-align: middle; margin-left: 0.5rem\">data_escrito</span>\n",
       "</mark>\n",
       ". ROGERIO BRITO DE MIRANDA</div></span>"
      ],
      "text/plain": [
       "<IPython.core.display.HTML object>"
      ]
     },
     "metadata": {},
     "output_type": "display_data"
    },
    {
     "data": {
      "text/html": [
       "<span class=\"tex2jax_ignore\"><div class=\"entities\" style=\"line-height: 2.5; direction: ltr\">AVISO DE ANULACAO \n",
       "<mark class=\"entity\" style=\"background: #ddd; padding: 0.45em 0.6em; margin: 0 0.25em; line-height: 1; border-radius: 0.35em;\">\n",
       "    PREGAO ELETRONICO\n",
       "    <span style=\"font-size: 0.8em; font-weight: bold; line-height: 1; border-radius: 0.35em; vertical-align: middle; margin-left: 0.5rem\">modalidade_licitacao</span>\n",
       "</mark>\n",
       " SRP No \n",
       "<mark class=\"entity\" style=\"background: #ddd; padding: 0.45em 0.6em; margin: 0 0.25em; line-height: 1; border-radius: 0.35em;\">\n",
       "    03/2017\n",
       "    <span style=\"font-size: 0.8em; font-weight: bold; line-height: 1; border-radius: 0.35em; vertical-align: middle; margin-left: 0.5rem\">numero_licitacao</span>\n",
       "</mark>\n",
       " O PREGOEIRO DA SECRETARIA DE ESTADO DE EDUCACAO DO DISTRITO FE- DERAL, em atendimento a Decisao no 3816/2018 do Tribunal de Contas do Distrito Federal, comunica a ANULACAO do \n",
       "<mark class=\"entity\" style=\"background: #ddd; padding: 0.45em 0.6em; margin: 0 0.25em; line-height: 1; border-radius: 0.35em;\">\n",
       "    PREGAO ELETRONICO\n",
       "    <span style=\"font-size: 0.8em; font-weight: bold; line-height: 1; border-radius: 0.35em; vertical-align: middle; margin-left: 0.5rem\">modalidade_licitacao</span>\n",
       "</mark>\n",
       " - SRP no 03/2017, Contratacao de empresa especializada em transporte de pessoas para prestacao de servico de transporte escolar dos alunos da Rede Publica de Ensino do Distrito Federal na Regiao: &quot;C&quot; - Sao Sebastiao, por meio de veiculos com motorista, monitor e encarregado conforme espe- cificacao constante deste Termo Referencia e seu ENCARTE B, nos itinerarios residencia- escola e vice-versa, bem como nas atividades curriculares ou extracurriculares contidas nos Projetos Politicos Pedagogicos das Instituicoes Educacionais conforme especificacoes e con- dicoes estabelecidas no termo de referencia constante do Anexo I do Edital, objeto do procedimento administrativo no 080.000401/2016. Os autos ficam com vistas franqueadas aos interessados, nesta Secretaria de Estado de Educacao, na SGAN 607 Projecoes &quot;D&quot; sala 309 (telefone 3901-2319), nos sites http://www.comprasnet.gov.br e http://w w w. s e . d f . g o v. b r. JOSEMAR SALVIANO DA SILVA.</div></span>"
      ],
      "text/plain": [
       "<IPython.core.display.HTML object>"
      ]
     },
     "metadata": {},
     "output_type": "display_data"
    },
    {
     "data": {
      "text/html": [
       "<span class=\"tex2jax_ignore\"><div class=\"entities\" style=\"line-height: 2.5; direction: ltr\">AVISO DE REVOGACAO DE LICITACAO \n",
       "<mark class=\"entity\" style=\"background: #ddd; padding: 0.45em 0.6em; margin: 0 0.25em; line-height: 1; border-radius: 0.35em;\">\n",
       "    PREGAO ELETRONICO\n",
       "    <span style=\"font-size: 0.8em; font-weight: bold; line-height: 1; border-radius: 0.35em; vertical-align: middle; margin-left: 0.5rem\">modalidade_licitacao</span>\n",
       "</mark>\n",
       " PE No 2/2019 (UASG: 927507) A Secretaria de Estado de Justica e Cidadania do Distrito Federal, torna publico que, seguindo o interesse publico e com suporte na Manifestacao 233 da AJL, documento SEI no 26459672, revoga o \n",
       "<mark class=\"entity\" style=\"background: #ddd; padding: 0.45em 0.6em; margin: 0 0.25em; line-height: 1; border-radius: 0.35em;\">\n",
       "    Pregao Eletronico\n",
       "    <span style=\"font-size: 0.8em; font-weight: bold; line-height: 1; border-radius: 0.35em; vertical-align: middle; margin-left: 0.5rem\">modalidade_licitacao</span>\n",
       "</mark>\n",
       " no \n",
       "<mark class=\"entity\" style=\"background: #ddd; padding: 0.45em 0.6em; margin: 0 0.25em; line-height: 1; border-radius: 0.35em;\">\n",
       "    02/2019\n",
       "    <span style=\"font-size: 0.8em; font-weight: bold; line-height: 1; border-radius: 0.35em; vertical-align: middle; margin-left: 0.5rem\">numero_licitacao</span>\n",
       "</mark>\n",
       " objeto: Contratacao empresa especializada para prestacao de servicos graficos - incluindo material e mao de obra necessaria para a execucao e acabamento dos servicos graficos, sob demanda, necessarios a realizacao da eleicao dos Conselheiros Tutelares do Distrito Federal para o Quadrienio 2020/2023, conforme condicoes e exigencias estabelecidas no Projeto Basico constante do Anexo I do Edital. Processo SEI no \n",
       "<mark class=\"entity\" style=\"background: #ddd; padding: 0.45em 0.6em; margin: 0 0.25em; line-height: 1; border-radius: 0.35em;\">\n",
       "    00400-00023725/2019-17\n",
       "    <span style=\"font-size: 0.8em; font-weight: bold; line-height: 1; border-radius: 0.35em; vertical-align: middle; margin-left: 0.5rem\">processo_gdf</span>\n",
       "</mark>\n",
       ", Informacoes pelo telefone: (61) 3213-0712. ERONILDO DE JESUS Pregoeiro</div></span>"
      ],
      "text/plain": [
       "<IPython.core.display.HTML object>"
      ]
     },
     "metadata": {},
     "output_type": "display_data"
    },
    {
     "data": {
      "text/html": [
       "<span class=\"tex2jax_ignore\"><div class=\"entities\" style=\"line-height: 2.5; direction: ltr\">AVISO DE REVOGACAO DE LICITACAO A Caesb torna publico que o \n",
       "<mark class=\"entity\" style=\"background: #ddd; padding: 0.45em 0.6em; margin: 0 0.25em; line-height: 1; border-radius: 0.35em;\">\n",
       "    Pregao Eletronico\n",
       "    <span style=\"font-size: 0.8em; font-weight: bold; line-height: 1; border-radius: 0.35em; vertical-align: middle; margin-left: 0.5rem\">modalidade_licitacao</span>\n",
       "</mark>\n",
       " PE No 221/2019, processo no \n",
       "<mark class=\"entity\" style=\"background: #ddd; padding: 0.45em 0.6em; margin: 0 0.25em; line-height: 1; border-radius: 0.35em;\">\n",
       "    092.000207/2019\n",
       "    <span style=\"font-size: 0.8em; font-weight: bold; line-height: 1; border-radius: 0.35em; vertical-align: middle; margin-left: 0.5rem\">processo_gdf</span>\n",
       "</mark>\n",
       ", realizado no site: www.comprasnet.gov.br (UASG: 974200), tipo de licitacao: menor preco, para o registro de precos para aquisicao de parafusos, arruelas, porcas e chumbadores, foi revogada por tratar-se de licitacao fracassada. NARA MAGALHAES DA SILVA Pregoeira</div></span>"
      ],
      "text/plain": [
       "<IPython.core.display.HTML object>"
      ]
     },
     "metadata": {},
     "output_type": "display_data"
    },
    {
     "data": {
      "text/html": [
       "<span class=\"tex2jax_ignore\"><div class=\"entities\" style=\"line-height: 2.5; direction: ltr\">AVISO DE REVOGACAO \n",
       "<mark class=\"entity\" style=\"background: #ddd; padding: 0.45em 0.6em; margin: 0 0.25em; line-height: 1; border-radius: 0.35em;\">\n",
       "    PREGAO ELETRONICO\n",
       "    <span style=\"font-size: 0.8em; font-weight: bold; line-height: 1; border-radius: 0.35em; vertical-align: middle; margin-left: 0.5rem\">modalidade_licitacao</span>\n",
       "</mark>\n",
       " No \n",
       "<mark class=\"entity\" style=\"background: #ddd; padding: 0.45em 0.6em; margin: 0 0.25em; line-height: 1; border-radius: 0.35em;\">\n",
       "    08/2019\n",
       "    <span style=\"font-size: 0.8em; font-weight: bold; line-height: 1; border-radius: 0.35em; vertical-align: middle; margin-left: 0.5rem\">numero_licitacao</span>\n",
       "</mark>\n",
       " A Pregoeira responsavel pelo certame, Processo: \n",
       "<mark class=\"entity\" style=\"background: #ddd; padding: 0.45em 0.6em; margin: 0 0.25em; line-height: 1; border-radius: 0.35em;\">\n",
       "    0052.00015532/2018-46\n",
       "    <span style=\"font-size: 0.8em; font-weight: bold; line-height: 1; border-radius: 0.35em; vertical-align: middle; margin-left: 0.5rem\">processo_gdf</span>\n",
       "</mark>\n",
       ", Objeto: Aquisicao de eletrodomesticos (bebedouro, freezer, televisor, fogao a gas GLP, fogao cooktop eletrico 4 bocas vitroceramico) destinados a diversas unidades da Policia Civil do Distrito Federal, conforme Anexo I do Edital, comunica a revogacao da licitacao supracitada, em razao do interesse publico decorrente de fato superveniente consubstanciado na homologacao de Ata de Registro de Precos do Governo do Distrito Federal para aquisicao de eletrodomesticos. Maiores informacoes na CPL/PCDF fones: 3207-4071/4046. Brasilia/DF, \n",
       "<mark class=\"entity\" style=\"background: #ddd; padding: 0.45em 0.6em; margin: 0 0.25em; line-height: 1; border-radius: 0.35em;\">\n",
       "    12 de abril de 2019\n",
       "    <span style=\"font-size: 0.8em; font-weight: bold; line-height: 1; border-radius: 0.35em; vertical-align: middle; margin-left: 0.5rem\">data_escrito</span>\n",
       "</mark>\n",
       " KELLY CRISTINA CORDEIRO GUEDES</div></span>"
      ],
      "text/plain": [
       "<IPython.core.display.HTML object>"
      ]
     },
     "metadata": {},
     "output_type": "display_data"
    },
    {
     "data": {
      "text/html": [
       "<span class=\"tex2jax_ignore\"><div class=\"entities\" style=\"line-height: 2.5; direction: ltr\">AVISO DE REVOGACAO DE LICITACAO \n",
       "<mark class=\"entity\" style=\"background: #ddd; padding: 0.45em 0.6em; margin: 0 0.25em; line-height: 1; border-radius: 0.35em;\">\n",
       "    PREGAO ELETRONICO\n",
       "    <span style=\"font-size: 0.8em; font-weight: bold; line-height: 1; border-radius: 0.35em; vertical-align: middle; margin-left: 0.5rem\">modalidade_licitacao</span>\n",
       "</mark>\n",
       " No \n",
       "<mark class=\"entity\" style=\"background: #ddd; padding: 0.45em 0.6em; margin: 0 0.25em; line-height: 1; border-radius: 0.35em;\">\n",
       "    17/2019\n",
       "    <span style=\"font-size: 0.8em; font-weight: bold; line-height: 1; border-radius: 0.35em; vertical-align: middle; margin-left: 0.5rem\">numero_licitacao</span>\n",
       "</mark>\n",
       " A Camara Legislativa do Distrito Federal informa a revogacao do certame em epigrafe, conforme decisao proferida no processo no \n",
       "<mark class=\"entity\" style=\"background: #ddd; padding: 0.45em 0.6em; margin: 0 0.25em; line-height: 1; border-radius: 0.35em;\">\n",
       "    001-000631/2019\n",
       "    <span style=\"font-size: 0.8em; font-weight: bold; line-height: 1; border-radius: 0.35em; vertical-align: middle; margin-left: 0.5rem\">processo_gdf</span>\n",
       "</mark>\n",
       ", cujo objeto e o Registro de Preco para eventual contratacao de empresa especializada em locacao, montagem e desmontagem de gradil de contencao e placas de fechamento para a Camara Legislativa do Distrito Federal. Mais informacoes: (61) 3348-8650 e cpl@cl.df.gov.br. Brasilia/DF, \n",
       "<mark class=\"entity\" style=\"background: #ddd; padding: 0.45em 0.6em; margin: 0 0.25em; line-height: 1; border-radius: 0.35em;\">\n",
       "    15/07/2019\n",
       "    <span style=\"font-size: 0.8em; font-weight: bold; line-height: 1; border-radius: 0.35em; vertical-align: middle; margin-left: 0.5rem\">data_escrito</span>\n",
       "</mark>\n",
       ". Daniel Luchine Ishihara - Pregoeiro.</div></span>"
      ],
      "text/plain": [
       "<IPython.core.display.HTML object>"
      ]
     },
     "metadata": {},
     "output_type": "display_data"
    },
    {
     "data": {
      "text/html": [
       "<span class=\"tex2jax_ignore\"><div class=\"entities\" style=\"line-height: 2.5; direction: ltr\">AVISO DE REVOGACAO \n",
       "<mark class=\"entity\" style=\"background: #ddd; padding: 0.45em 0.6em; margin: 0 0.25em; line-height: 1; border-radius: 0.35em;\">\n",
       "    PREGAO ELETRONICO\n",
       "    <span style=\"font-size: 0.8em; font-weight: bold; line-height: 1; border-radius: 0.35em; vertical-align: middle; margin-left: 0.5rem\">modalidade_licitacao</span>\n",
       "</mark>\n",
       " No \n",
       "<mark class=\"entity\" style=\"background: #ddd; padding: 0.45em 0.6em; margin: 0 0.25em; line-height: 1; border-radius: 0.35em;\">\n",
       "    35/2019\n",
       "    <span style=\"font-size: 0.8em; font-weight: bold; line-height: 1; border-radius: 0.35em; vertical-align: middle; margin-left: 0.5rem\">numero_licitacao</span>\n",
       "</mark>\n",
       " Objeto: aquisicao de material de consumo - CBUQ - concreto betuminoso usinado a quente - faixa c, conforme especificacoes e condicoes no anexo I do edital, Processo SEI no \n",
       "<mark class=\"entity\" style=\"background: #ddd; padding: 0.45em 0.6em; margin: 0 0.25em; line-height: 1; border-radius: 0.35em;\">\n",
       "    0011 3 . 0 0 0 1 3 8 8 2 / 2 0 1 9 - 2 3\n",
       "    <span style=\"font-size: 0.8em; font-weight: bold; line-height: 1; border-radius: 0.35em; vertical-align: middle; margin-left: 0.5rem\">processo_gdf</span>\n",
       "</mark>\n",
       " . Revogada a licitacao acima, conforme fundamentacao nos autos do processo. Brasilia/DF, \n",
       "<mark class=\"entity\" style=\"background: #ddd; padding: 0.45em 0.6em; margin: 0 0.25em; line-height: 1; border-radius: 0.35em;\">\n",
       "    15 de julho de 2019\n",
       "    <span style=\"font-size: 0.8em; font-weight: bold; line-height: 1; border-radius: 0.35em; vertical-align: middle; margin-left: 0.5rem\">data_escrito</span>\n",
       "</mark>\n",
       ". CELIA MARIA SIQUEIRA LEAL Diretora</div></span>"
      ],
      "text/plain": [
       "<IPython.core.display.HTML object>"
      ]
     },
     "metadata": {},
     "output_type": "display_data"
    },
    {
     "data": {
      "text/html": [
       "<span class=\"tex2jax_ignore\"><div class=\"entities\" style=\"line-height: 2.5; direction: ltr\">AVISO DE REVOGACAO Comunicamos aos interessados na \n",
       "<mark class=\"entity\" style=\"background: #ddd; padding: 0.45em 0.6em; margin: 0 0.25em; line-height: 1; border-radius: 0.35em;\">\n",
       "    Concorrencia\n",
       "    <span style=\"font-size: 0.8em; font-weight: bold; line-height: 1; border-radius: 0.35em; vertical-align: middle; margin-left: 0.5rem\">modalidade_licitacao</span>\n",
       "</mark>\n",
       " no \n",
       "<mark class=\"entity\" style=\"background: #ddd; padding: 0.45em 0.6em; margin: 0 0.25em; line-height: 1; border-radius: 0.35em;\">\n",
       "    010/2017\n",
       "    <span style=\"font-size: 0.8em; font-weight: bold; line-height: 1; border-radius: 0.35em; vertical-align: middle; margin-left: 0.5rem\">numero_licitacao</span>\n",
       "</mark>\n",
       " - ASCAL/PRES - do tipo menor preco unitario - para execucao de drenagem pluvial e pavimentacao asfaltica, intertravada e execucao de meio- fio no Setor de Habitacoes Coletivas Noroeste - Parque Burle Marx, em Brasilia - DF, que a mesma fica revogada por conveniencia administrativa, conforme fundamentado nos autos do processo no \n",
       "<mark class=\"entity\" style=\"background: #ddd; padding: 0.45em 0.6em; margin: 0 0.25em; line-height: 1; border-radius: 0.35em;\">\n",
       "    112.000.935/2017\n",
       "    <span style=\"font-size: 0.8em; font-weight: bold; line-height: 1; border-radius: 0.35em; vertical-align: middle; margin-left: 0.5rem\">processo_gdf</span>\n",
       "</mark>\n",
       ". Data da ultima publicacao no DODF no 75, de \n",
       "<mark class=\"entity\" style=\"background: #ddd; padding: 0.45em 0.6em; margin: 0 0.25em; line-height: 1; border-radius: 0.35em;\">\n",
       "    19 de abril de 2017\n",
       "    <span style=\"font-size: 0.8em; font-weight: bold; line-height: 1; border-radius: 0.35em; vertical-align: middle; margin-left: 0.5rem\">data_escrito</span>\n",
       "</mark>\n",
       ", pagina 37. Para maiores informacoes ligar para o telefone (0xx61) 3403-2321 ou (0xx61) 3403-2322. Brasilia/DF, \n",
       "<mark class=\"entity\" style=\"background: #ddd; padding: 0.45em 0.6em; margin: 0 0.25em; line-height: 1; border-radius: 0.35em;\">\n",
       "    15 de julho de 2019\n",
       "    <span style=\"font-size: 0.8em; font-weight: bold; line-height: 1; border-radius: 0.35em; vertical-align: middle; margin-left: 0.5rem\">data_escrito</span>\n",
       "</mark>\n",
       ". DELCIMAR PIRES MARTINS Chefe da ASCAL/PRES</div></span>"
      ],
      "text/plain": [
       "<IPython.core.display.HTML object>"
      ]
     },
     "metadata": {},
     "output_type": "display_data"
    },
    {
     "data": {
      "text/html": [
       "<span class=\"tex2jax_ignore\"><div class=\"entities\" style=\"line-height: 2.5; direction: ltr\">AVISOS DE REVOGACAO LICITACAO No \n",
       "<mark class=\"entity\" style=\"background: #ddd; padding: 0.45em 0.6em; margin: 0 0.25em; line-height: 1; border-radius: 0.35em;\">\n",
       "    001-P01013/2018\n",
       "    <span style=\"font-size: 0.8em; font-weight: bold; line-height: 1; border-radius: 0.35em; vertical-align: middle; margin-left: 0.5rem\">numero_licitacao</span>\n",
       "</mark>\n",
       " A CEB Distribuicao S/A, por meio da Comissao Permanente de Licitacao - CPL, localizada no SIA Setor de Areas Publicas, Lote C, Bloco H, CEB - Brasilia-DF, torna publico que fica revogada a licitacao em epigrafe, relativa a CONTRATACAO DE OBRAS DE IMPLANTACAO DA LINHA AEREA DE DISTRIBUICAO EM 138kV ITAPOA x SOBRADINHO TRANSMISSAO. Demais informacoes, no horario das 8h as 12h e das 14h as 17h ou por meio dos telefones: 3465- 9012/9287. Brasilia/DF, \n",
       "<mark class=\"entity\" style=\"background: #ddd; padding: 0.45em 0.6em; margin: 0 0.25em; line-height: 1; border-radius: 0.35em;\">\n",
       "    12 de julho de 2019\n",
       "    <span style=\"font-size: 0.8em; font-weight: bold; line-height: 1; border-radius: 0.35em; vertical-align: middle; margin-left: 0.5rem\">data_escrito</span>\n",
       "</mark>\n",
       " MARCELO ANDRADE CRUZ Presidente da Comissao</div></span>"
      ],
      "text/plain": [
       "<IPython.core.display.HTML object>"
      ]
     },
     "metadata": {},
     "output_type": "display_data"
    },
    {
     "data": {
      "text/html": [
       "<span class=\"tex2jax_ignore\"><div class=\"entities\" style=\"line-height: 2.5; direction: ltr\">AVISO DE REVOGACAO LICITACAO PUBLICA NACIONAL - LPN 011/2019 A Caesb, no ambito de seu Programa de Saneamento Ambiental, financiado pelo Banco Interamericano de Desenvolvimento - BID, torna publico que a Licitacao Publica Nacional - LPN 011/2019, processo no \n",
       "<mark class=\"entity\" style=\"background: #ddd; padding: 0.45em 0.6em; margin: 0 0.25em; line-height: 1; border-radius: 0.35em;\">\n",
       "    092.005465/2019\n",
       "    <span style=\"font-size: 0.8em; font-weight: bold; line-height: 1; border-radius: 0.35em; vertical-align: middle; margin-left: 0.5rem\">processo_gdf</span>\n",
       "</mark>\n",
       ", para execucao das Obras de Setorizacao e Adequacao de Redes nas localidades da Asa Sul, Cruzeiro, Asa Norte e Jardim Botanico, incluindo o fornecimento e Instalacao do Novo Booster, foi revogada por conveniencia administrativa. GILMAR PERES MONTEIRO Presidente da Comissao</div></span>"
      ],
      "text/plain": [
       "<IPython.core.display.HTML object>"
      ]
     },
     "metadata": {},
     "output_type": "display_data"
    },
    {
     "data": {
      "text/html": [
       "<span class=\"tex2jax_ignore\"><div class=\"entities\" style=\"line-height: 2.5; direction: ltr\">AVISO DE ANULACAO \n",
       "<mark class=\"entity\" style=\"background: #ddd; padding: 0.45em 0.6em; margin: 0 0.25em; line-height: 1; border-radius: 0.35em;\">\n",
       "    PREGAO ELETRONICO\n",
       "    <span style=\"font-size: 0.8em; font-weight: bold; line-height: 1; border-radius: 0.35em; vertical-align: middle; margin-left: 0.5rem\">modalidade_licitacao</span>\n",
       "</mark>\n",
       " No \n",
       "<mark class=\"entity\" style=\"background: #ddd; padding: 0.45em 0.6em; margin: 0 0.25em; line-height: 1; border-radius: 0.35em;\">\n",
       "    10/2019\n",
       "    <span style=\"font-size: 0.8em; font-weight: bold; line-height: 1; border-radius: 0.35em; vertical-align: middle; margin-left: 0.5rem\">numero_licitacao</span>\n",
       "</mark>\n",
       " PROCESSO: \n",
       "<mark class=\"entity\" style=\"background: #ddd; padding: 0.45em 0.6em; margin: 0 0.25em; line-height: 1; border-radius: 0.35em;\">\n",
       "    00053-00009769/2019-41/\n",
       "    <span style=\"font-size: 0.8em; font-weight: bold; line-height: 1; border-radius: 0.35em; vertical-align: middle; margin-left: 0.5rem\">processo_gdf</span>\n",
       "</mark>\n",
       "CBMDF. TIPO: Menor preco. OBJETO: Aquisicao de microscopio reto trinocular para realizacao das analises laboratoriais para o CBMDF. O DICOA informa a ANULACAO do certame, em razao da existencia de vicios insanaveis no certame. Esta aberto o prazo recursal na forma do Art. 109, I, &quot;c&quot;, da Lei 8.666/1993. Inf.: (61) 3901-3481. Marcelo Teixeira Dantas.</div></span>"
      ],
      "text/plain": [
       "<IPython.core.display.HTML object>"
      ]
     },
     "metadata": {},
     "output_type": "display_data"
    },
    {
     "data": {
      "text/html": [
       "<span class=\"tex2jax_ignore\"><div class=\"entities\" style=\"line-height: 2.5; direction: ltr\">AVISO DE REVOGACAO \n",
       "<mark class=\"entity\" style=\"background: #ddd; padding: 0.45em 0.6em; margin: 0 0.25em; line-height: 1; border-radius: 0.35em;\">\n",
       "    PREGAO ELETRONICO\n",
       "    <span style=\"font-size: 0.8em; font-weight: bold; line-height: 1; border-radius: 0.35em; vertical-align: middle; margin-left: 0.5rem\">modalidade_licitacao</span>\n",
       "</mark>\n",
       " No \n",
       "<mark class=\"entity\" style=\"background: #ddd; padding: 0.45em 0.6em; margin: 0 0.25em; line-height: 1; border-radius: 0.35em;\">\n",
       "    123/2019\n",
       "    <span style=\"font-size: 0.8em; font-weight: bold; line-height: 1; border-radius: 0.35em; vertical-align: middle; margin-left: 0.5rem\">numero_licitacao</span>\n",
       "</mark>\n",
       " - UASG 926119 A Pregoeira da Central de Compras torna publico aos interessados que, o procedimento licitatorio para contratacao de empresa especializada para a Operacao Logistica da cadeia de suprimentos, conforme especificacoes e quantitativos constantes no Anexo I do Edital, restou REVOGADO, nos termos do Processo no \n",
       "<mark class=\"entity\" style=\"background: #ddd; padding: 0.45em 0.6em; margin: 0 0.25em; line-height: 1; border-radius: 0.35em;\">\n",
       "    00060-00123066/2018-91\n",
       "    <span style=\"font-size: 0.8em; font-weight: bold; line-height: 1; border-radius: 0.35em; vertical-align: middle; margin-left: 0.5rem\">processo_gdf</span>\n",
       "</mark>\n",
       " e Art. 49 da Lei 8.666/93, por decisao prolatada pelo Subsecretario de Administracao Geral, Antony Araujo Couto, e pelo Secretario de Estado de Saude, Osnei Okumoto, para atender as necessidades e demandas exigidas para o sistema de operacao logistica desta Pasta, bem como para conclusao de mapeamento da Cadeia de Suprimentos. MERITA SIMIONE BORGES</div></span>"
      ],
      "text/plain": [
       "<IPython.core.display.HTML object>"
      ]
     },
     "metadata": {},
     "output_type": "display_data"
    },
    {
     "data": {
      "text/html": [
       "<span class=\"tex2jax_ignore\"><div class=\"entities\" style=\"line-height: 2.5; direction: ltr\">AVISO DE REVOGACAO \n",
       "<mark class=\"entity\" style=\"background: #ddd; padding: 0.45em 0.6em; margin: 0 0.25em; line-height: 1; border-radius: 0.35em;\">\n",
       "    PREGAO ELETRONICO\n",
       "    <span style=\"font-size: 0.8em; font-weight: bold; line-height: 1; border-radius: 0.35em; vertical-align: middle; margin-left: 0.5rem\">modalidade_licitacao</span>\n",
       "</mark>\n",
       " No \n",
       "<mark class=\"entity\" style=\"background: #ddd; padding: 0.45em 0.6em; margin: 0 0.25em; line-height: 1; border-radius: 0.35em;\">\n",
       "    14/2019\n",
       "    <span style=\"font-size: 0.8em; font-weight: bold; line-height: 1; border-radius: 0.35em; vertical-align: middle; margin-left: 0.5rem\">numero_licitacao</span>\n",
       "</mark>\n",
       " PROCESSO: \n",
       "<mark class=\"entity\" style=\"background: #ddd; padding: 0.45em 0.6em; margin: 0 0.25em; line-height: 1; border-radius: 0.35em;\">\n",
       "    0052.002.099/2016\n",
       "    <span style=\"font-size: 0.8em; font-weight: bold; line-height: 1; border-radius: 0.35em; vertical-align: middle; margin-left: 0.5rem\">processo_gdf</span>\n",
       "</mark>\n",
       ". OBJETO: Contratacao de servicos de solucao de impressao, copia e digitalizacao a fim de atender necessidades gerais e especificas das unidades policiais da PCDF. TIPO: Menor Preco. O ordenador de despesas da PCDF, de acordo com o artigo 109 1o da lei de licitacoes, torna publico aos licitantes e demais interessados que o certame supracitado foi revogado, devido a ocorrencia de falhas operacionais no Sistema COMPRASNET durante o tempo aleatorio para lances, com possibilidade de cerceamento da competitividade entre os licitantes, conforme decisao fundamentada no art. 49, caput, assegurado o prazo previsto no art. 109, inciso I, c, da Lei no 8.666/93. A integra do documento esta disponivel no site www.pcdf.df.gov.br, link licitacoes. Maiores informacoes na CPL/PCDF fones: 3207-4071/4046. Brasilia/DF, \n",
       "<mark class=\"entity\" style=\"background: #ddd; padding: 0.45em 0.6em; margin: 0 0.25em; line-height: 1; border-radius: 0.35em;\">\n",
       "    1o de agosto de 2019\n",
       "    <span style=\"font-size: 0.8em; font-weight: bold; line-height: 1; border-radius: 0.35em; vertical-align: middle; margin-left: 0.5rem\">data_escrito</span>\n",
       "</mark>\n",
       ". SILVERIO ANTONIO MOITA DE ANDRADE Diretor</div></span>"
      ],
      "text/plain": [
       "<IPython.core.display.HTML object>"
      ]
     },
     "metadata": {},
     "output_type": "display_data"
    },
    {
     "data": {
      "text/html": [
       "<span class=\"tex2jax_ignore\"><div class=\"entities\" style=\"line-height: 2.5; direction: ltr\">AVISO DE REVOGACAO \n",
       "<mark class=\"entity\" style=\"background: #ddd; padding: 0.45em 0.6em; margin: 0 0.25em; line-height: 1; border-radius: 0.35em;\">\n",
       "    PREGAO ELETRONICO\n",
       "    <span style=\"font-size: 0.8em; font-weight: bold; line-height: 1; border-radius: 0.35em; vertical-align: middle; margin-left: 0.5rem\">modalidade_licitacao</span>\n",
       "</mark>\n",
       " No \n",
       "<mark class=\"entity\" style=\"background: #ddd; padding: 0.45em 0.6em; margin: 0 0.25em; line-height: 1; border-radius: 0.35em;\">\n",
       "    150/2018\n",
       "    <span style=\"font-size: 0.8em; font-weight: bold; line-height: 1; border-radius: 0.35em; vertical-align: middle; margin-left: 0.5rem\">numero_licitacao</span>\n",
       "</mark>\n",
       " - SRP - UASG 925041 Processo: \n",
       "<mark class=\"entity\" style=\"background: #ddd; padding: 0.45em 0.6em; margin: 0 0.25em; line-height: 1; border-radius: 0.35em;\">\n",
       "    00410-00008137-27\n",
       "    <span style=\"font-size: 0.8em; font-weight: bold; line-height: 1; border-radius: 0.35em; vertical-align: middle; margin-left: 0.5rem\">processo_gdf</span>\n",
       "</mark>\n",
       " - SEEC/DF. O pregoeiro comunica que o pregao acima citado foi revogado, com fulcro no art. 49 da Lei Federal n. o 8.666/93 e na Nota Tecnica no 27/2019 - AJL, acolhido pela Autoridade competente, devidamente fundamentado e constante dos autos. Maiores Informacoes: Coordenacoes de Licitacoes - COLIC/SEEC - DF, telefone: 0xx(61) 3313-8494. Brasilia/DF, \n",
       "<mark class=\"entity\" style=\"background: #ddd; padding: 0.45em 0.6em; margin: 0 0.25em; line-height: 1; border-radius: 0.35em;\">\n",
       "    08 de outubro de 2019\n",
       "    <span style=\"font-size: 0.8em; font-weight: bold; line-height: 1; border-radius: 0.35em; vertical-align: middle; margin-left: 0.5rem\">data_escrito</span>\n",
       "</mark>\n",
       ". EDSON DE SOUZA Coordenador</div></span>"
      ],
      "text/plain": [
       "<IPython.core.display.HTML object>"
      ]
     },
     "metadata": {},
     "output_type": "display_data"
    },
    {
     "data": {
      "text/html": [
       "<span class=\"tex2jax_ignore\"><div class=\"entities\" style=\"line-height: 2.5; direction: ltr\">AVISO DE REVOGACAO EDITAL DE \n",
       "<mark class=\"entity\" style=\"background: #ddd; padding: 0.45em 0.6em; margin: 0 0.25em; line-height: 1; border-radius: 0.35em;\">\n",
       "    CONCORRENCIA\n",
       "    <span style=\"font-size: 0.8em; font-weight: bold; line-height: 1; border-radius: 0.35em; vertical-align: middle; margin-left: 0.5rem\">modalidade_licitacao</span>\n",
       "</mark>\n",
       " N \n",
       "<mark class=\"entity\" style=\"background: #ddd; padding: 0.45em 0.6em; margin: 0 0.25em; line-height: 1; border-radius: 0.35em;\">\n",
       "    12/2018\n",
       "    <span style=\"font-size: 0.8em; font-weight: bold; line-height: 1; border-radius: 0.35em; vertical-align: middle; margin-left: 0.5rem\">numero_licitacao</span>\n",
       "</mark>\n",
       " - CRIXA A Comissao Permanente de Licitacao - CPL/CODHAB comunica aos interessados que o Diretor- Presidente/CODHAB decidiu revogar o Edital de \n",
       "<mark class=\"entity\" style=\"background: #ddd; padding: 0.45em 0.6em; margin: 0 0.25em; line-height: 1; border-radius: 0.35em;\">\n",
       "    Concorrencia\n",
       "    <span style=\"font-size: 0.8em; font-weight: bold; line-height: 1; border-radius: 0.35em; vertical-align: middle; margin-left: 0.5rem\">modalidade_licitacao</span>\n",
       "</mark>\n",
       " n \n",
       "<mark class=\"entity\" style=\"background: #ddd; padding: 0.45em 0.6em; margin: 0 0.25em; line-height: 1; border-radius: 0.35em;\">\n",
       "    12/2018\n",
       "    <span style=\"font-size: 0.8em; font-weight: bold; line-height: 1; border-radius: 0.35em; vertical-align: middle; margin-left: 0.5rem\">numero_licitacao</span>\n",
       "</mark>\n",
       ", processo n.o \n",
       "<mark class=\"entity\" style=\"background: #ddd; padding: 0.45em 0.6em; margin: 0 0.25em; line-height: 1; border-radius: 0.35em;\">\n",
       "    0392-0003741/2018- 69\n",
       "    <span style=\"font-size: 0.8em; font-weight: bold; line-height: 1; border-radius: 0.35em; vertical-align: middle; margin-left: 0.5rem\">processo_gdf</span>\n",
       "</mark>\n",
       " cujo objeto e a contratacao de empresa para a execucao das obras de implantacao de infraestrutura externa (sistemas de abastecimento de agua potavel e esgotamento sanitario, Drenagem e pavimentacao) ao empreendimento situado no Bairro Crixas em Sao Sebastiao, uma vez que o objeto nao mais atende suas necessidades atuais, consubstanciando sua decisao no Despacho SEI-GDF CODHAB/PRESI/CPL devidamente fundamentado na Despacho SEI-GDF CODHAB/PRESI/SECEX e com fulcro no caput do art. 49 da Lei 8.666/93 e Sumula 473 do STF, estando o processo a disposicao no Portal de Sistema Eletronico de Informacoes - SEI. Fica assegurado o direito a ampla defesa e ao contraditorio, nos termos do 3o, art. 49 c/c a alinea &quot;c&quot;, inciso I do art. 109, da citada Lei. Transcorrido o prazo concedido para a ampla defesa e o contraditorio sem manifestacao o ato da Revogacao restara consumado. Brasilia/DF, \n",
       "<mark class=\"entity\" style=\"background: #ddd; padding: 0.45em 0.6em; margin: 0 0.25em; line-height: 1; border-radius: 0.35em;\">\n",
       "    26 de dezembro de 2018\n",
       "    <span style=\"font-size: 0.8em; font-weight: bold; line-height: 1; border-radius: 0.35em; vertical-align: middle; margin-left: 0.5rem\">data_escrito</span>\n",
       "</mark>\n",
       " GILSON PARANHOS D i r e t o r- P r e s i d e n t e</div></span>"
      ],
      "text/plain": [
       "<IPython.core.display.HTML object>"
      ]
     },
     "metadata": {},
     "output_type": "display_data"
    },
    {
     "data": {
      "text/html": [
       "<span class=\"tex2jax_ignore\"><div class=\"entities\" style=\"line-height: 2.5; direction: ltr\">AVISO DE ANULACAO \n",
       "<mark class=\"entity\" style=\"background: #ddd; padding: 0.45em 0.6em; margin: 0 0.25em; line-height: 1; border-radius: 0.35em;\">\n",
       "    PREGAO ELETRONICO\n",
       "    <span style=\"font-size: 0.8em; font-weight: bold; line-height: 1; border-radius: 0.35em; vertical-align: middle; margin-left: 0.5rem\">modalidade_licitacao</span>\n",
       "</mark>\n",
       " No \n",
       "<mark class=\"entity\" style=\"background: #ddd; padding: 0.45em 0.6em; margin: 0 0.25em; line-height: 1; border-radius: 0.35em;\">\n",
       "    37/2019\n",
       "    <span style=\"font-size: 0.8em; font-weight: bold; line-height: 1; border-radius: 0.35em; vertical-align: middle; margin-left: 0.5rem\">numero_licitacao</span>\n",
       "</mark>\n",
       " Processo No \n",
       "<mark class=\"entity\" style=\"background: #ddd; padding: 0.45em 0.6em; margin: 0 0.25em; line-height: 1; border-radius: 0.35em;\">\n",
       "    00053-00050726/2019-41/\n",
       "    <span style=\"font-size: 0.8em; font-weight: bold; line-height: 1; border-radius: 0.35em; vertical-align: middle; margin-left: 0.5rem\">processo_gdf</span>\n",
       "</mark>\n",
       "CBMDF. TIPO: Menor preco. OBJETO: Contratacao de empresa especializada para realizar servicos continuados de manutencao, reparo e reposicao de pecas e fluidos originais dos equipamentos e aparelhos odontologicos da Policlinica Odontologica do CBMDF, conforme especificacoes e condicoes estabelecidas no Termo de Referencia constante do Anexo I do Edital. O DICOA informa a ANULACAO do item 6.8 do edital; do item 5.8 do termo de referencia; da tabela do item 5.6 do termo de referencia e a fase externa da licitacao do pregao em epigrafe, com fulcro no item 16.6 do edital c/c, art. 49 da Lei no 8.666/1993, art. 29 do Decreto no 5.450/2005 e art. 53 da Lei no 9.784/1999, em razao da existencia de vicios insanaveis no certame conforme aponta o Relatorio de Analise do Pregoeiro. Visto o art. 109, I, &quot;c&quot;, da Lei 8.666/1993, fica aberto o prazo recursal de 5 (cinco) dias uteis. Inf.: (61) 3901-3481. MARCELO TEIXEIRA DANTAS Diretor</div></span>"
      ],
      "text/plain": [
       "<IPython.core.display.HTML object>"
      ]
     },
     "metadata": {},
     "output_type": "display_data"
    },
    {
     "data": {
      "text/html": [
       "<span class=\"tex2jax_ignore\"><div class=\"entities\" style=\"line-height: 2.5; direction: ltr\">AVISO DE ANULAÇÃO DO \n",
       "<mark class=\"entity\" style=\"background: #ddd; padding: 0.45em 0.6em; margin: 0 0.25em; line-height: 1; border-radius: 0.35em;\">\n",
       "    PREGÃO ELETRÔNICO\n",
       "    <span style=\"font-size: 0.8em; font-weight: bold; line-height: 1; border-radius: 0.35em; vertical-align: middle; margin-left: 0.5rem\">modalidade_licitacao</span>\n",
       "</mark>\n",
       " SRP Nº \n",
       "<mark class=\"entity\" style=\"background: #ddd; padding: 0.45em 0.6em; margin: 0 0.25em; line-height: 1; border-radius: 0.35em;\">\n",
       "    07/2021\n",
       "    <span style=\"font-size: 0.8em; font-weight: bold; line-height: 1; border-radius: 0.35em; vertical-align: middle; margin-left: 0.5rem\">numero_licitacao</span>\n",
       "</mark>\n",
       " O DIRETOR-PRESIDENTE DA COMPANHIA DE DESENVOLVIMENTO HABITACIONAL DO DISTRITO FEDERAL, comunica aos interessados a ANULAÇÃO do \n",
       "<mark class=\"entity\" style=\"background: #ddd; padding: 0.45em 0.6em; margin: 0 0.25em; line-height: 1; border-radius: 0.35em;\">\n",
       "    Pregão Eletrônico\n",
       "    <span style=\"font-size: 0.8em; font-weight: bold; line-height: 1; border-radius: 0.35em; vertical-align: middle; margin-left: 0.5rem\">modalidade_licitacao</span>\n",
       "</mark>\n",
       " nº \n",
       "<mark class=\"entity\" style=\"background: #ddd; padding: 0.45em 0.6em; margin: 0 0.25em; line-height: 1; border-radius: 0.35em;\">\n",
       "    07/2021\n",
       "    <span style=\"font-size: 0.8em; font-weight: bold; line-height: 1; border-radius: 0.35em; vertical-align: middle; margin-left: 0.5rem\">numero_licitacao</span>\n",
       "</mark>\n",
       ", cujo objeto trata de contratação de empresa ou consórcio de empresas para prestação de serviços técnicos para a elaboração de estudos e projetos para regularização fundiária e urbana da Área de Interesse Social - ARIS Sol Nascente, para atender a Companhia de Desenvolvimento Habitacional do Distrito Federal CODHAB/DF, conforme descrito no Anexo I do Edital, referente ao processo \n",
       "<mark class=\"entity\" style=\"background: #ddd; padding: 0.45em 0.6em; margin: 0 0.25em; line-height: 1; border-radius: 0.35em;\">\n",
       "    00392-00007567/2021-29\n",
       "    <span style=\"font-size: 0.8em; font-weight: bold; line-height: 1; border-radius: 0.35em; vertical-align: middle; margin-left: 0.5rem\">processo_gdf</span>\n",
       "</mark>\n",
       " Destaque-se que está disponível no sistema Comprasnet o evento de Anulação do certame em 16/02/2022, como procedimento para atendimento da Decisão 152/2022 TCDF. Brasília/DF, \n",
       "<mark class=\"entity\" style=\"background: #ddd; padding: 0.45em 0.6em; margin: 0 0.25em; line-height: 1; border-radius: 0.35em;\">\n",
       "    15 de fevereiro de 2022\n",
       "    <span style=\"font-size: 0.8em; font-weight: bold; line-height: 1; border-radius: 0.35em; vertical-align: middle; margin-left: 0.5rem\">data_escrito</span>\n",
       "</mark>\n",
       " WELLINGTON LUIZ</div></span>"
      ],
      "text/plain": [
       "<IPython.core.display.HTML object>"
      ]
     },
     "metadata": {},
     "output_type": "display_data"
    },
    {
     "data": {
      "text/html": [
       "<span class=\"tex2jax_ignore\"><div class=\"entities\" style=\"line-height: 2.5; direction: ltr\">AVISO DE ANULAÇÃO DA LICITAÇÃO \n",
       "<mark class=\"entity\" style=\"background: #ddd; padding: 0.45em 0.6em; margin: 0 0.25em; line-height: 1; border-radius: 0.35em;\">\n",
       "    CONCORRÊNCIA\n",
       "    <span style=\"font-size: 0.8em; font-weight: bold; line-height: 1; border-radius: 0.35em; vertical-align: middle; margin-left: 0.5rem\">modalidade_licitacao</span>\n",
       "</mark>\n",
       " Nº \n",
       "<mark class=\"entity\" style=\"background: #ddd; padding: 0.45em 0.6em; margin: 0 0.25em; line-height: 1; border-radius: 0.35em;\">\n",
       "    01/20121\n",
       "    <span style=\"font-size: 0.8em; font-weight: bold; line-height: 1; border-radius: 0.35em; vertical-align: middle; margin-left: 0.5rem\">numero_licitacao</span>\n",
       "</mark>\n",
       " A Companhia de Desenvolvimento Habitacional do Distrito Federal CODHAB/DF, no uso de suas atribuições, torna público o Aviso de anulação da \n",
       "<mark class=\"entity\" style=\"background: #ddd; padding: 0.45em 0.6em; margin: 0 0.25em; line-height: 1; border-radius: 0.35em;\">\n",
       "    Concorrência\n",
       "    <span style=\"font-size: 0.8em; font-weight: bold; line-height: 1; border-radius: 0.35em; vertical-align: middle; margin-left: 0.5rem\">modalidade_licitacao</span>\n",
       "</mark>\n",
       " 01/2021 - PROCESSO SEI Nº \n",
       "<mark class=\"entity\" style=\"background: #ddd; padding: 0.45em 0.6em; margin: 0 0.25em; line-height: 1; border-radius: 0.35em;\">\n",
       "    00392-00014723/2020-27\n",
       "    <span style=\"font-size: 0.8em; font-weight: bold; line-height: 1; border-radius: 0.35em; vertical-align: middle; margin-left: 0.5rem\">processo_gdf</span>\n",
       "</mark>\n",
       ", que tem por objeto a promoção de empreendimentos habitacionais por meio da produção e comercialização de Unidades Habitacionais a serem disponibilizadas ao cadastro de habitação, em terrenos de propriedade da CODHAB localizadas em Santa Maria RA XIII, em atendimento à política habitacional do Governo do Distrito Federal, de acordo com as especificações e quantitativos contidos no Projeto Básico constante do Anexo I do Edital, conforme após a aprovação da Súmula SEI-GDF CODHAB/PRESI/DIPRO n.º 26/2021 (67797043), pela Diretoria Executiva da CODHAB, em 23 de agosto de 2021 e solicitação da área demandante no Despacho CODHAB/PRESI/DIPRO/GEPHAB (72810303). Brasília/DF, \n",
       "<mark class=\"entity\" style=\"background: #ddd; padding: 0.45em 0.6em; margin: 0 0.25em; line-height: 1; border-radius: 0.35em;\">\n",
       "    26 de outubro de 2021\n",
       "    <span style=\"font-size: 0.8em; font-weight: bold; line-height: 1; border-radius: 0.35em; vertical-align: middle; margin-left: 0.5rem\">data_escrito</span>\n",
       "</mark>\n",
       ". FERNANDA VITORINO Presidente da Comissão</div></span>"
      ],
      "text/plain": [
       "<IPython.core.display.HTML object>"
      ]
     },
     "metadata": {},
     "output_type": "display_data"
    },
    {
     "data": {
      "text/html": [
       "<span class=\"tex2jax_ignore\"><div class=\"entities\" style=\"line-height: 2.5; direction: ltr\">AVISO DE REVOGAÇÃO \n",
       "<mark class=\"entity\" style=\"background: #ddd; padding: 0.45em 0.6em; margin: 0 0.25em; line-height: 1; border-radius: 0.35em;\">\n",
       "    PREGÃO ELETRÔNICO\n",
       "    <span style=\"font-size: 0.8em; font-weight: bold; line-height: 1; border-radius: 0.35em; vertical-align: middle; margin-left: 0.5rem\">modalidade_licitacao</span>\n",
       "</mark>\n",
       " Nº \n",
       "<mark class=\"entity\" style=\"background: #ddd; padding: 0.45em 0.6em; margin: 0 0.25em; line-height: 1; border-radius: 0.35em;\">\n",
       "    56/2021\n",
       "    <span style=\"font-size: 0.8em; font-weight: bold; line-height: 1; border-radius: 0.35em; vertical-align: middle; margin-left: 0.5rem\">numero_licitacao</span>\n",
       "</mark>\n",
       " A presente licitação tem por objeto a aquisição de material permanente - aquisição de equipamentos para aparelhamento/substituição/melhoramento do Laboratório de Solos (NULSO) do Departamento de Estradas de Rodagem do Distrito Federal (DER/DF), tudo conforme especificado no Edital e em seus anexos. Processo \n",
       "<mark class=\"entity\" style=\"background: #ddd; padding: 0.45em 0.6em; margin: 0 0.25em; line-height: 1; border-radius: 0.35em;\">\n",
       "    00113-00005906/2021-95\n",
       "    <span style=\"font-size: 0.8em; font-weight: bold; line-height: 1; border-radius: 0.35em; vertical-align: middle; margin-left: 0.5rem\">processo_gdf</span>\n",
       "</mark>\n",
       ". Fica revogada, fundamentação nos autos do processo. Brasília/DF, \n",
       "<mark class=\"entity\" style=\"background: #ddd; padding: 0.45em 0.6em; margin: 0 0.25em; line-height: 1; border-radius: 0.35em;\">\n",
       "    29 de julho de 2021\n",
       "    <span style=\"font-size: 0.8em; font-weight: bold; line-height: 1; border-radius: 0.35em; vertical-align: middle; margin-left: 0.5rem\">data_escrito</span>\n",
       "</mark>\n",
       " ANA HILDA DO CARMO SILVA Diretora</div></span>"
      ],
      "text/plain": [
       "<IPython.core.display.HTML object>"
      ]
     },
     "metadata": {},
     "output_type": "display_data"
    },
    {
     "data": {
      "text/html": [
       "<span class=\"tex2jax_ignore\"><div class=\"entities\" style=\"line-height: 2.5; direction: ltr\">AVISO DE ANULAÇÃO DE LICITAÇÃO \n",
       "<mark class=\"entity\" style=\"background: #ddd; padding: 0.45em 0.6em; margin: 0 0.25em; line-height: 1; border-radius: 0.35em;\">\n",
       "    PREGÃO ELETRÔNICO\n",
       "    <span style=\"font-size: 0.8em; font-weight: bold; line-height: 1; border-radius: 0.35em; vertical-align: middle; margin-left: 0.5rem\">modalidade_licitacao</span>\n",
       "</mark>\n",
       " Nº \n",
       "<mark class=\"entity\" style=\"background: #ddd; padding: 0.45em 0.6em; margin: 0 0.25em; line-height: 1; border-radius: 0.35em;\">\n",
       "    32/2021\n",
       "    <span style=\"font-size: 0.8em; font-weight: bold; line-height: 1; border-radius: 0.35em; vertical-align: middle; margin-left: 0.5rem\">numero_licitacao</span>\n",
       "</mark>\n",
       " Processo: \n",
       "<mark class=\"entity\" style=\"background: #ddd; padding: 0.45em 0.6em; margin: 0 0.25em; line-height: 1; border-radius: 0.35em;\">\n",
       "    00050-00037099/2020-71\n",
       "    <span style=\"font-size: 0.8em; font-weight: bold; line-height: 1; border-radius: 0.35em; vertical-align: middle; margin-left: 0.5rem\">processo_gdf</span>\n",
       "</mark>\n",
       ". TIPO: Menor Preço. MODO DE DISPUTA: Aberto. OBJETO: Registro de Preço para futura aquisição de equipamentos de Tecnologia da Informação e Comunicação (TIC) objetivando a aquisição de Solução de Firewalls, envolvendo a prestação dos serviços de instalação, configuração, suporte técnico, manutenção e treinamento composto de operação assistida e tutela técnica para sustentação de serviços de Segurança Pública do DF. A SSP informa aos interessados no presente Certame a ANULAÇÃO do \n",
       "<mark class=\"entity\" style=\"background: #ddd; padding: 0.45em 0.6em; margin: 0 0.25em; line-height: 1; border-radius: 0.35em;\">\n",
       "    Pregão Eletrônico\n",
       "    <span style=\"font-size: 0.8em; font-weight: bold; line-height: 1; border-radius: 0.35em; vertical-align: middle; margin-left: 0.5rem\">modalidade_licitacao</span>\n",
       "</mark>\n",
       " nº \n",
       "<mark class=\"entity\" style=\"background: #ddd; padding: 0.45em 0.6em; margin: 0 0.25em; line-height: 1; border-radius: 0.35em;\">\n",
       "    32/\n",
       "    <span style=\"font-size: 0.8em; font-weight: bold; line-height: 1; border-radius: 0.35em; vertical-align: middle; margin-left: 0.5rem\">numero_licitacao</span>\n",
       "</mark>\n",
       "2021-SSPDF, com fulcro nos termos do art. 4º, III, da Lei federal nº 10.520/2002 e art. 14, III, do Decreto federal nº 10.024/2019, bem como violação dos princípios da legalidade, do julgamento objetivo, da isonomia, da publicidade e da competitividade, estabelecidos pelo art. 37 da Constituição Federal, pelo art. 19 da Lei Orgânica do DF, e no art. 2º, do Decreto Federal nº 10.024/2019. Brasília/DF, \n",
       "<mark class=\"entity\" style=\"background: #ddd; padding: 0.45em 0.6em; margin: 0 0.25em; line-height: 1; border-radius: 0.35em;\">\n",
       "    05 de janeiro de 2022\n",
       "    <span style=\"font-size: 0.8em; font-weight: bold; line-height: 1; border-radius: 0.35em; vertical-align: middle; margin-left: 0.5rem\">data_escrito</span>\n",
       "</mark>\n",
       " CELSO WAGNER LIMA Subsecretário</div></span>"
      ],
      "text/plain": [
       "<IPython.core.display.HTML object>"
      ]
     },
     "metadata": {},
     "output_type": "display_data"
    },
    {
     "data": {
      "text/html": [
       "<span class=\"tex2jax_ignore\"><div class=\"entities\" style=\"line-height: 2.5; direction: ltr\">AVISO DE REVOGAÇÃO DE \n",
       "<mark class=\"entity\" style=\"background: #ddd; padding: 0.45em 0.6em; margin: 0 0.25em; line-height: 1; border-radius: 0.35em;\">\n",
       "    PREGÃO ELETRÔNICO\n",
       "    <span style=\"font-size: 0.8em; font-weight: bold; line-height: 1; border-radius: 0.35em; vertical-align: middle; margin-left: 0.5rem\">modalidade_licitacao</span>\n",
       "</mark>\n",
       " Nº \n",
       "<mark class=\"entity\" style=\"background: #ddd; padding: 0.45em 0.6em; margin: 0 0.25em; line-height: 1; border-radius: 0.35em;\">\n",
       "    04/2021\n",
       "    <span style=\"font-size: 0.8em; font-weight: bold; line-height: 1; border-radius: 0.35em; vertical-align: middle; margin-left: 0.5rem\">numero_licitacao</span>\n",
       "</mark>\n",
       " Processo: \n",
       "<mark class=\"entity\" style=\"background: #ddd; padding: 0.45em 0.6em; margin: 0 0.25em; line-height: 1; border-radius: 0.35em;\">\n",
       "    00074-00000002/2020-97\n",
       "    <span style=\"font-size: 0.8em; font-weight: bold; line-height: 1; border-radius: 0.35em; vertical-align: middle; margin-left: 0.5rem\">processo_gdf</span>\n",
       "</mark>\n",
       ". OBJETO: Venda de madeira em pé da espécie Pinus sp, com corte e retirada do insumo no local, conforme especificações, condições e exigências estabelecidas no Edital nº 04/2021 e seus anexos. Em razão da impossibilidade de prosseguimento do certame em decorrência da falha de sistema relatada na Nota Técnica CAIXA - NT_0004_2021_CEPEM 08_12_2021 (75803745), REVOGA-SE o \n",
       "<mark class=\"entity\" style=\"background: #ddd; padding: 0.45em 0.6em; margin: 0 0.25em; line-height: 1; border-radius: 0.35em;\">\n",
       "    Pregão Eletrônico\n",
       "    <span style=\"font-size: 0.8em; font-weight: bold; line-height: 1; border-radius: 0.35em; vertical-align: middle; margin-left: 0.5rem\">modalidade_licitacao</span>\n",
       "</mark>\n",
       " nº \n",
       "<mark class=\"entity\" style=\"background: #ddd; padding: 0.45em 0.6em; margin: 0 0.25em; line-height: 1; border-radius: 0.35em;\">\n",
       "    04/2021\n",
       "    <span style=\"font-size: 0.8em; font-weight: bold; line-height: 1; border-radius: 0.35em; vertical-align: middle; margin-left: 0.5rem\">numero_licitacao</span>\n",
       "</mark>\n",
       ", a que se refere o Edital de Licitação 04/2021 (67386008). SALVADOR CARDOSO Pregoeiro</div></span>"
      ],
      "text/plain": [
       "<IPython.core.display.HTML object>"
      ]
     },
     "metadata": {},
     "output_type": "display_data"
    },
    {
     "data": {
      "text/html": [
       "<span class=\"tex2jax_ignore\"><div class=\"entities\" style=\"line-height: 2.5; direction: ltr\">AVISO DE ANULAÇÃO \n",
       "<mark class=\"entity\" style=\"background: #ddd; padding: 0.45em 0.6em; margin: 0 0.25em; line-height: 1; border-radius: 0.35em;\">\n",
       "    PREGÃO ELETRÔNICO\n",
       "    <span style=\"font-size: 0.8em; font-weight: bold; line-height: 1; border-radius: 0.35em; vertical-align: middle; margin-left: 0.5rem\">modalidade_licitacao</span>\n",
       "</mark>\n",
       " Nº \n",
       "<mark class=\"entity\" style=\"background: #ddd; padding: 0.45em 0.6em; margin: 0 0.25em; line-height: 1; border-radius: 0.35em;\">\n",
       "    02/2021\n",
       "    <span style=\"font-size: 0.8em; font-weight: bold; line-height: 1; border-radius: 0.35em; vertical-align: middle; margin-left: 0.5rem\">numero_licitacao</span>\n",
       "</mark>\n",
       " - UASG: 926319 A Pregoeira da Fundação de Apoio à Pesquisa do Distrito Federal, comunica a anulação do certame licitatório oriundo do Edital de Licitação do \n",
       "<mark class=\"entity\" style=\"background: #ddd; padding: 0.45em 0.6em; margin: 0 0.25em; line-height: 1; border-radius: 0.35em;\">\n",
       "    Pregão Eletrônico\n",
       "    <span style=\"font-size: 0.8em; font-weight: bold; line-height: 1; border-radius: 0.35em; vertical-align: middle; margin-left: 0.5rem\">modalidade_licitacao</span>\n",
       "</mark>\n",
       " nº \n",
       "<mark class=\"entity\" style=\"background: #ddd; padding: 0.45em 0.6em; margin: 0 0.25em; line-height: 1; border-radius: 0.35em;\">\n",
       "    0002/2021\n",
       "    <span style=\"font-size: 0.8em; font-weight: bold; line-height: 1; border-radius: 0.35em; vertical-align: middle; margin-left: 0.5rem\">numero_licitacao</span>\n",
       "</mark>\n",
       " - SUAG/DGA/FAPDF - EXCLUSIVO ME/EPP. Informamos que serão feitas as devidas alterações para a continuidade dos procedimentos. Processo \n",
       "<mark class=\"entity\" style=\"background: #ddd; padding: 0.45em 0.6em; margin: 0 0.25em; line-height: 1; border-radius: 0.35em;\">\n",
       "    00193-00000432/2021-05\n",
       "    <span style=\"font-size: 0.8em; font-weight: bold; line-height: 1; border-radius: 0.35em; vertical-align: middle; margin-left: 0.5rem\">processo_gdf</span>\n",
       "</mark>\n",
       ". Os autos ficam com vistas franqueadas aos interessados, nesta Fundação de Apoio à Pesquisa do Distrito Federal, pelo e-mail: cpl@fap.df.gov.br. Brasília/DF, \n",
       "<mark class=\"entity\" style=\"background: #ddd; padding: 0.45em 0.6em; margin: 0 0.25em; line-height: 1; border-radius: 0.35em;\">\n",
       "    24 de setembro de 2021\n",
       "    <span style=\"font-size: 0.8em; font-weight: bold; line-height: 1; border-radius: 0.35em; vertical-align: middle; margin-left: 0.5rem\">data_escrito</span>\n",
       "</mark>\n",
       " MARCILENE BONFIM LEITÃO SANTANA</div></span>"
      ],
      "text/plain": [
       "<IPython.core.display.HTML object>"
      ]
     },
     "metadata": {},
     "output_type": "display_data"
    },
    {
     "data": {
      "text/html": [
       "<span class=\"tex2jax_ignore\"><div class=\"entities\" style=\"line-height: 2.5; direction: ltr\">AVISO DE ANULAÇÃO \n",
       "<mark class=\"entity\" style=\"background: #ddd; padding: 0.45em 0.6em; margin: 0 0.25em; line-height: 1; border-radius: 0.35em;\">\n",
       "    PREGÃO ELETRÔNICO\n",
       "    <span style=\"font-size: 0.8em; font-weight: bold; line-height: 1; border-radius: 0.35em; vertical-align: middle; margin-left: 0.5rem\">modalidade_licitacao</span>\n",
       "</mark>\n",
       " Nº \n",
       "<mark class=\"entity\" style=\"background: #ddd; padding: 0.45em 0.6em; margin: 0 0.25em; line-height: 1; border-radius: 0.35em;\">\n",
       "    57/2021\n",
       "    <span style=\"font-size: 0.8em; font-weight: bold; line-height: 1; border-radius: 0.35em; vertical-align: middle; margin-left: 0.5rem\">numero_licitacao</span>\n",
       "</mark>\n",
       " Processo: \n",
       "<mark class=\"entity\" style=\"background: #ddd; padding: 0.45em 0.6em; margin: 0 0.25em; line-height: 1; border-radius: 0.35em;\">\n",
       "    00053-00082079/2021-51\n",
       "    <span style=\"font-size: 0.8em; font-weight: bold; line-height: 1; border-radius: 0.35em; vertical-align: middle; margin-left: 0.5rem\">processo_gdf</span>\n",
       "</mark>\n",
       ". TIPO: Menor preço. OBJETO: Contratação de empresa para execução de serviço contínuo comum de operação e manutenção preventiva e corretiva nos equipamentos de climatização instalados na Policlínica Médica (POMED) e Policlínica Odontológica (PODON) do CBMDF, conforme Edital e anexos. O DICOA informa que a licitação publicada no DODF nº 206 e DOU nº 207, ambos do dia 04/11/2021, foi ANULADA em virtude da identificação de vícios insanáveis no Edital. Inf: (61) 3901-3614. HÉLIO PEREIRA LIMA Diretor</div></span>"
      ],
      "text/plain": [
       "<IPython.core.display.HTML object>"
      ]
     },
     "metadata": {},
     "output_type": "display_data"
    },
    {
     "data": {
      "text/html": [
       "<span class=\"tex2jax_ignore\"><div class=\"entities\" style=\"line-height: 2.5; direction: ltr\">AVISO DE REVOGAÇÃO DE LICITAÇÃO \n",
       "<mark class=\"entity\" style=\"background: #ddd; padding: 0.45em 0.6em; margin: 0 0.25em; line-height: 1; border-radius: 0.35em;\">\n",
       "    PREGÃO ELETRÔNICO\n",
       "    <span style=\"font-size: 0.8em; font-weight: bold; line-height: 1; border-radius: 0.35em; vertical-align: middle; margin-left: 0.5rem\">modalidade_licitacao</span>\n",
       "</mark>\n",
       " Nº \n",
       "<mark class=\"entity\" style=\"background: #ddd; padding: 0.45em 0.6em; margin: 0 0.25em; line-height: 1; border-radius: 0.35em;\">\n",
       "    07/2021\n",
       "    <span style=\"font-size: 0.8em; font-weight: bold; line-height: 1; border-radius: 0.35em; vertical-align: middle; margin-left: 0.5rem\">numero_licitacao</span>\n",
       "</mark>\n",
       " (AMPLA \n",
       "<mark class=\"entity\" style=\"background: #ddd; padding: 0.45em 0.6em; margin: 0 0.25em; line-height: 1; border-radius: 0.35em;\">\n",
       "    CONCORRÊNCIA\n",
       "    <span style=\"font-size: 0.8em; font-weight: bold; line-height: 1; border-radius: 0.35em; vertical-align: middle; margin-left: 0.5rem\">modalidade_licitacao</span>\n",
       "</mark>\n",
       ") O GOVERNO DO DISTRITO FEDERAL POR MEIO DA SECRETARIA DE ESTADO DA AGRICULTURA, ABASTECIMENTO E DESENVOLVIMENTO RURAL DO DISTRITO FEDERAL SEAGRI/DF torna público que, por decisão da Autoridade Competente, nos termos do art. 50, caput, do Decreto nº 10.024/2019, e art. 49, caput, da Lei nº 8.666/93, REVOGA a licitação do tipo MENOR PREÇO UNITÁRIO, na modalidade de PREGÃO na forma ELETRÔNICA, com previsão de abertura do certame para 07/07/2021, às 09h30m que se encontrava suspensa, processo \n",
       "<mark class=\"entity\" style=\"background: #ddd; padding: 0.45em 0.6em; margin: 0 0.25em; line-height: 1; border-radius: 0.35em;\">\n",
       "    00070-00004590/2020-41(SEI\n",
       "    <span style=\"font-size: 0.8em; font-weight: bold; line-height: 1; border-radius: 0.35em; vertical-align: middle; margin-left: 0.5rem\">processo_gdf</span>\n",
       "</mark>\n",
       "). OBJETO: Aquisição de veículos do tipo furgão leve de carga para atender demandas de associações de produtores rurais do Distrito Federal, de modo a garantir o transporte de produtos da agricultura familiar até os pontos de comercialização e de insumos até as propriedades dos associados, de acordo com o detalhamento descrito no item 03, do Termo de Referência, Anexo I do Edital, com valor Total estimado em R$ 164.000,00 (cento e sessenta e quatro mil reais). O aviso do evento de revogação poderá ser retirado a partir da publicação no Portal www.comprasgovernamentais.gov.br ou no portal da SEAGRI-DF, Licitação , a partir da sua divulgação. NATANAEL FÉLIX DOS SANTOS Pregoeiro</div></span>"
      ],
      "text/plain": [
       "<IPython.core.display.HTML object>"
      ]
     },
     "metadata": {},
     "output_type": "display_data"
    },
    {
     "data": {
      "text/html": [
       "<span class=\"tex2jax_ignore\"><div class=\"entities\" style=\"line-height: 2.5; direction: ltr\">AVISO DE REVOGAÇÃO PARCIAL DE LICITAÇÃO \n",
       "<mark class=\"entity\" style=\"background: #ddd; padding: 0.45em 0.6em; margin: 0 0.25em; line-height: 1; border-radius: 0.35em;\">\n",
       "    PREGÃO ELETRÔNICO\n",
       "    <span style=\"font-size: 0.8em; font-weight: bold; line-height: 1; border-radius: 0.35em; vertical-align: middle; margin-left: 0.5rem\">modalidade_licitacao</span>\n",
       "</mark>\n",
       " Nº \n",
       "<mark class=\"entity\" style=\"background: #ddd; padding: 0.45em 0.6em; margin: 0 0.25em; line-height: 1; border-radius: 0.35em;\">\n",
       "    07/2021\n",
       "    <span style=\"font-size: 0.8em; font-weight: bold; line-height: 1; border-radius: 0.35em; vertical-align: middle; margin-left: 0.5rem\">numero_licitacao</span>\n",
       "</mark>\n",
       " LOTE 4 A CARTÃO BRB S.A. torna público que o Lote 4, integrante da licitação referenciada no preâmbulo, fica revogado, tendo em vista questionamento impetrado judicialmente, via Mandado de Segurança (0732084-09.2021.8.07.0001 25ª Vara Cível de Brasília). Assim, no intuito maior de pugnar pelo melhor atendimento do interesse público, bem como permitir maior competividade no âmbito do procedimento licitatório, o Lote 4 resta excluído do certame. Novo edital, específico para a alienação do imóvel de propriedade da BRBCARD, será publicado a posteriori. Quanto aos demais lotes, sobre os quais não pairaram questionamentos ou impedimentos de natureza judicial, informa-se que seus objetos restam devidamente homologados. ALMIR FRANCISCO GOMES FILHO Presidente da Comissão</div></span>"
      ],
      "text/plain": [
       "<IPython.core.display.HTML object>"
      ]
     },
     "metadata": {},
     "output_type": "display_data"
    },
    {
     "data": {
      "text/html": [
       "<span class=\"tex2jax_ignore\"><div class=\"entities\" style=\"line-height: 2.5; direction: ltr\">AVISO DE REVOGAÇÃO \n",
       "<mark class=\"entity\" style=\"background: #ddd; padding: 0.45em 0.6em; margin: 0 0.25em; line-height: 1; border-radius: 0.35em;\">\n",
       "    CONCORRÊNCIA\n",
       "    <span style=\"font-size: 0.8em; font-weight: bold; line-height: 1; border-radius: 0.35em; vertical-align: middle; margin-left: 0.5rem\">modalidade_licitacao</span>\n",
       "</mark>\n",
       " Nº \n",
       "<mark class=\"entity\" style=\"background: #ddd; padding: 0.45em 0.6em; margin: 0 0.25em; line-height: 1; border-radius: 0.35em;\">\n",
       "    02/2021\n",
       "    <span style=\"font-size: 0.8em; font-weight: bold; line-height: 1; border-radius: 0.35em; vertical-align: middle; margin-left: 0.5rem\">numero_licitacao</span>\n",
       "</mark>\n",
       " A COMISSÃO PERMANENTE DE LICITAÇÃO, DA SUBSECRETARIA DE ADMINISTRAÇÃO GERAL, DA SECRETARIA DE ESTADO DE EDUCAÇÃO DO DISTRITO FEDERAL, comunica aos interessados que a Subsecretaria de Administração Geral da SEDF, por interesse da administração e, baseada na justificativa apresentadas pela Subsecretaria de Infraestrutura Escolar (SEI nº 66298959), constante no processo \n",
       "<mark class=\"entity\" style=\"background: #ddd; padding: 0.45em 0.6em; margin: 0 0.25em; line-height: 1; border-radius: 0.35em;\">\n",
       "    00080-00008717/2020-63\n",
       "    <span style=\"font-size: 0.8em; font-weight: bold; line-height: 1; border-radius: 0.35em; vertical-align: middle; margin-left: 0.5rem\">processo_gdf</span>\n",
       "</mark>\n",
       ", a Revogação da \n",
       "<mark class=\"entity\" style=\"background: #ddd; padding: 0.45em 0.6em; margin: 0 0.25em; line-height: 1; border-radius: 0.35em;\">\n",
       "    Concorrência\n",
       "    <span style=\"font-size: 0.8em; font-weight: bold; line-height: 1; border-radius: 0.35em; vertical-align: middle; margin-left: 0.5rem\">modalidade_licitacao</span>\n",
       "</mark>\n",
       " em epígrafe. Os autos ficam com vistas franqueadas aos interessados. JAIRO PEREIRA MARTINS Presidente</div></span>"
      ],
      "text/plain": [
       "<IPython.core.display.HTML object>"
      ]
     },
     "metadata": {},
     "output_type": "display_data"
    },
    {
     "data": {
      "text/html": [
       "<span class=\"tex2jax_ignore\"><div class=\"entities\" style=\"line-height: 2.5; direction: ltr\">AVISO DE LICITAÇÃO REFERENTE AO EDITAL Nº 07/2016 - IMÓVEIS A Diretoria Colegiada da Companhia Imobiliária de Brasília - TERRACAP, em sua Decisão nº 570/2021-DIRET, 3569ª sessão, realizada em 13/10/2021, decidiu, em razão do pedido de desistência formulado pela licitante JR VIRGHINI EMPREENDIMENTOS IMOBILIÁRIOS LTDA (Proposta de Compra nº 5001003), pela revogação da licitação do ITEM 143 do Edital nº 07/2016, aplicando-se a penalidade de retenção do valor caucionado, pelos motivos apresentados no Relatório nº 211/2021-ADCOM. Brasília/DF, \n",
       "<mark class=\"entity\" style=\"background: #ddd; padding: 0.45em 0.6em; margin: 0 0.25em; line-height: 1; border-radius: 0.35em;\">\n",
       "    21 de outubro de 2021\n",
       "    <span style=\"font-size: 0.8em; font-weight: bold; line-height: 1; border-radius: 0.35em; vertical-align: middle; margin-left: 0.5rem\">data_escrito</span>\n",
       "</mark>\n",
       " BRUNO CESAR SANTANA DE MENESES Presidente da Comissão</div></span>"
      ],
      "text/plain": [
       "<IPython.core.display.HTML object>"
      ]
     },
     "metadata": {},
     "output_type": "display_data"
    },
    {
     "data": {
      "text/html": [
       "<span class=\"tex2jax_ignore\"><div class=\"entities\" style=\"line-height: 2.5; direction: ltr\">AVISO DE REVOGAÇÃO DE \n",
       "<mark class=\"entity\" style=\"background: #ddd; padding: 0.45em 0.6em; margin: 0 0.25em; line-height: 1; border-radius: 0.35em;\">\n",
       "    PREGÃO ELETRÔNICO\n",
       "    <span style=\"font-size: 0.8em; font-weight: bold; line-height: 1; border-radius: 0.35em; vertical-align: middle; margin-left: 0.5rem\">modalidade_licitacao</span>\n",
       "</mark>\n",
       " Nº \n",
       "<mark class=\"entity\" style=\"background: #ddd; padding: 0.45em 0.6em; margin: 0 0.25em; line-height: 1; border-radius: 0.35em;\">\n",
       "    06/\n",
       "    <span style=\"font-size: 0.8em; font-weight: bold; line-height: 1; border-radius: 0.35em; vertical-align: middle; margin-left: 0.5rem\">numero_licitacao</span>\n",
       "</mark>\n",
       "2021-SRP UASG 926210 A Secretaria de Estado de Trabalho do Distrito Federal, no uso das atribuições legais, em conformidade com a Lei nº 8.666/93, Decreto nº 39.610/2019 e Decreto nº 38.362/2017, bem como a Decisão nº 3443/2021 do TCDF fundamentando sua decisão; a Nota Jurídica nº 37/2021-SETRAB/GAB/AJL e acolhida pelo Secretário de Estado de Trabalho do Distrito Federal, resolve: REVOGAR em todos os seus termos, por interesse, conveniência e oportunidade, o \n",
       "<mark class=\"entity\" style=\"background: #ddd; padding: 0.45em 0.6em; margin: 0 0.25em; line-height: 1; border-radius: 0.35em;\">\n",
       "    Pregão Eletrônico\n",
       "    <span style=\"font-size: 0.8em; font-weight: bold; line-height: 1; border-radius: 0.35em; vertical-align: middle; margin-left: 0.5rem\">modalidade_licitacao</span>\n",
       "</mark>\n",
       " nº \n",
       "<mark class=\"entity\" style=\"background: #ddd; padding: 0.45em 0.6em; margin: 0 0.25em; line-height: 1; border-radius: 0.35em;\">\n",
       "    006/2021\n",
       "    <span style=\"font-size: 0.8em; font-weight: bold; line-height: 1; border-radius: 0.35em; vertical-align: middle; margin-left: 0.5rem\">numero_licitacao</span>\n",
       "</mark>\n",
       ", processo \n",
       "<mark class=\"entity\" style=\"background: #ddd; padding: 0.45em 0.6em; margin: 0 0.25em; line-height: 1; border-radius: 0.35em;\">\n",
       "    04012-00003480/2020-15\n",
       "    <span style=\"font-size: 0.8em; font-weight: bold; line-height: 1; border-radius: 0.35em; vertical-align: middle; margin-left: 0.5rem\">processo_gdf</span>\n",
       "</mark>\n",
       ", cujo o objeto é o Registro de Preços para contratação de empresa especializada na prestação de serviço de qualificação profissional e atendimento em unidades móveis, incluído recursos materiais, humanos, tecnológicos e toda gestão operacional para atender à Secretaria de Estado de Trabalho do Distrito Federal - SETRAB. Brasília/DF, \n",
       "<mark class=\"entity\" style=\"background: #ddd; padding: 0.45em 0.6em; margin: 0 0.25em; line-height: 1; border-radius: 0.35em;\">\n",
       "    06 de outubro de 2021\n",
       "    <span style=\"font-size: 0.8em; font-weight: bold; line-height: 1; border-radius: 0.35em; vertical-align: middle; margin-left: 0.5rem\">data_escrito</span>\n",
       "</mark>\n",
       " EUYNDHER SANTOS DE MORAIS Pregoeiro</div></span>"
      ],
      "text/plain": [
       "<IPython.core.display.HTML object>"
      ]
     },
     "metadata": {},
     "output_type": "display_data"
    },
    {
     "data": {
      "text/html": [
       "<span class=\"tex2jax_ignore\"><div class=\"entities\" style=\"line-height: 2.5; direction: ltr\">AVISO DE REVOGAÇÃO DE LICITAÇÃO (*) O Presidente da Comissão de Licitação para Compra de Bens, Serviços e Obras CPLIC/TERRACAP, no uso das atribuições que lhe confere a Portaria nº 231/2021 - DIRAF, comunica a REVOGAÇÃO do seguinte certame. Processo: \n",
       "<mark class=\"entity\" style=\"background: #ddd; padding: 0.45em 0.6em; margin: 0 0.25em; line-height: 1; border-radius: 0.35em;\">\n",
       "    0111-002346/2016\n",
       "    <span style=\"font-size: 0.8em; font-weight: bold; line-height: 1; border-radius: 0.35em; vertical-align: middle; margin-left: 0.5rem\">processo_gdf</span>\n",
       "</mark>\n",
       " Modalidade/número: \n",
       "<mark class=\"entity\" style=\"background: #ddd; padding: 0.45em 0.6em; margin: 0 0.25em; line-height: 1; border-radius: 0.35em;\">\n",
       "    Concorrência\n",
       "    <span style=\"font-size: 0.8em; font-weight: bold; line-height: 1; border-radius: 0.35em; vertical-align: middle; margin-left: 0.5rem\">modalidade_licitacao</span>\n",
       "</mark>\n",
       " nº \n",
       "<mark class=\"entity\" style=\"background: #ddd; padding: 0.45em 0.6em; margin: 0 0.25em; line-height: 1; border-radius: 0.35em;\">\n",
       "    03/2017\n",
       "    <span style=\"font-size: 0.8em; font-weight: bold; line-height: 1; border-radius: 0.35em; vertical-align: middle; margin-left: 0.5rem\">numero_licitacao</span>\n",
       "</mark>\n",
       " - REVOGAÇÃO Objeto: Contratação da implantação das redes de esgotamento sanitário das redes públicas e condominiais para atendimento ao Trecho 2 da 1ª Etapa do Setor Habitacional Taquari - SHTQ; Brasília/DF, \n",
       "<mark class=\"entity\" style=\"background: #ddd; padding: 0.45em 0.6em; margin: 0 0.25em; line-height: 1; border-radius: 0.35em;\">\n",
       "    26 de agosto de 2021\n",
       "    <span style=\"font-size: 0.8em; font-weight: bold; line-height: 1; border-radius: 0.35em; vertical-align: middle; margin-left: 0.5rem\">data_escrito</span>\n",
       "</mark>\n",
       " GLAUBER TEODORO FARIA Presidente da Comissão __________________ (*) Republicado por ter saído com incorreção no DODF nº 164, de 30 de agosto de 2021, página 55.</div></span>"
      ],
      "text/plain": [
       "<IPython.core.display.HTML object>"
      ]
     },
     "metadata": {},
     "output_type": "display_data"
    },
    {
     "data": {
      "text/html": [
       "<span class=\"tex2jax_ignore\"><div class=\"entities\" style=\"line-height: 2.5; direction: ltr\">AVISO DE REVOGAÇÃO DE LICITAÇÃO O Presidente da Comissão de Licitação para Compra de Bens, Serviços e Obras, no uso das atribuições que lhe confere a Portaria nº 231/2021 - DIRAF, comunica a REVOGAÇÃO do seguinte certame. Processo: \n",
       "<mark class=\"entity\" style=\"background: #ddd; padding: 0.45em 0.6em; margin: 0 0.25em; line-height: 1; border-radius: 0.35em;\">\n",
       "    00111-00009348/2019-79\n",
       "    <span style=\"font-size: 0.8em; font-weight: bold; line-height: 1; border-radius: 0.35em; vertical-align: middle; margin-left: 0.5rem\">processo_gdf</span>\n",
       "</mark>\n",
       " Modalidade/número: \n",
       "<mark class=\"entity\" style=\"background: #ddd; padding: 0.45em 0.6em; margin: 0 0.25em; line-height: 1; border-radius: 0.35em;\">\n",
       "    Pregão Eletrônico\n",
       "    <span style=\"font-size: 0.8em; font-weight: bold; line-height: 1; border-radius: 0.35em; vertical-align: middle; margin-left: 0.5rem\">modalidade_licitacao</span>\n",
       "</mark>\n",
       " nº \n",
       "<mark class=\"entity\" style=\"background: #ddd; padding: 0.45em 0.6em; margin: 0 0.25em; line-height: 1; border-radius: 0.35em;\">\n",
       "    09/2020\n",
       "    <span style=\"font-size: 0.8em; font-weight: bold; line-height: 1; border-radius: 0.35em; vertical-align: middle; margin-left: 0.5rem\">numero_licitacao</span>\n",
       "</mark>\n",
       " - REVOGAÇÃO Tipo: Menor Preço por lote Objeto: Contratação de auditoria médica em serviços de assistência à saúde, avaliação atuarial e consultoria especializada para acompanhamento de contrato de plano de saúde Data/hora de abertura: \n",
       "<mark class=\"entity\" style=\"background: #ddd; padding: 0.45em 0.6em; margin: 0 0.25em; line-height: 1; border-radius: 0.35em;\">\n",
       "    30/12/2020\n",
       "    <span style=\"font-size: 0.8em; font-weight: bold; line-height: 1; border-radius: 0.35em; vertical-align: middle; margin-left: 0.5rem\">data_escrito</span>\n",
       "</mark>\n",
       ", às 10:00 horas</div></span>"
      ],
      "text/plain": [
       "<IPython.core.display.HTML object>"
      ]
     },
     "metadata": {},
     "output_type": "display_data"
    },
    {
     "data": {
      "text/html": [
       "<span class=\"tex2jax_ignore\"><div class=\"entities\" style=\"line-height: 2.5; direction: ltr\">AVISO DE REVOGAÇÃO \n",
       "<mark class=\"entity\" style=\"background: #ddd; padding: 0.45em 0.6em; margin: 0 0.25em; line-height: 1; border-radius: 0.35em;\">\n",
       "    PREGÃO ELETRÔNICO\n",
       "    <span style=\"font-size: 0.8em; font-weight: bold; line-height: 1; border-radius: 0.35em; vertical-align: middle; margin-left: 0.5rem\">modalidade_licitacao</span>\n",
       "</mark>\n",
       " SRP Nº \n",
       "<mark class=\"entity\" style=\"background: #ddd; padding: 0.45em 0.6em; margin: 0 0.25em; line-height: 1; border-radius: 0.35em;\">\n",
       "    02/2021\n",
       "    <span style=\"font-size: 0.8em; font-weight: bold; line-height: 1; border-radius: 0.35em; vertical-align: middle; margin-left: 0.5rem\">numero_licitacao</span>\n",
       "</mark>\n",
       " UASG 926873 O Consórcio Interestadual de Desenvolvimento do Brasil Central, por intermédio da Secretaria Executiva, nos termos do art. 49 da Lei Federal nº 8.666/93, com suas alterações legais, torna público o aviso de Revogação do \n",
       "<mark class=\"entity\" style=\"background: #ddd; padding: 0.45em 0.6em; margin: 0 0.25em; line-height: 1; border-radius: 0.35em;\">\n",
       "    Pregão Eletrônico\n",
       "    <span style=\"font-size: 0.8em; font-weight: bold; line-height: 1; border-radius: 0.35em; vertical-align: middle; margin-left: 0.5rem\">modalidade_licitacao</span>\n",
       "</mark>\n",
       " SRP n° 02/2021, da Licitação no Processo Administrativo Licitatório nº \n",
       "<mark class=\"entity\" style=\"background: #ddd; padding: 0.45em 0.6em; margin: 0 0.25em; line-height: 1; border-radius: 0.35em;\">\n",
       "    20201607000083\n",
       "    <span style=\"font-size: 0.8em; font-weight: bold; line-height: 1; border-radius: 0.35em; vertical-align: middle; margin-left: 0.5rem\">processo_gdf</span>\n",
       "</mark>\n",
       ", cujo o objeto é o registro de preços para futura e eventual contratação de empresa especializada no fornecimento de Equipamento de Proteção Individual EPIs necessários para o atendimento pelos profissionais de saúde aos pacientes diagnosticados e em tratamento decorrente da infecção pelo novo coronavírus (SARS-CoV-2), em apoio aos Entes integrantes do Consórcio Interestadual de Desenvolvimento do Brasil Central - BrC (Distrito Federal, Mato Grosso, Mato Grosso do Sul e Tocantins). MARCUS VINICIUS BRITTO Secretário Executivo</div></span>"
      ],
      "text/plain": [
       "<IPython.core.display.HTML object>"
      ]
     },
     "metadata": {},
     "output_type": "display_data"
    },
    {
     "data": {
      "text/html": [
       "<span class=\"tex2jax_ignore\"><div class=\"entities\" style=\"line-height: 2.5; direction: ltr\">AVISO DE ANULAÇÃO \n",
       "<mark class=\"entity\" style=\"background: #ddd; padding: 0.45em 0.6em; margin: 0 0.25em; line-height: 1; border-radius: 0.35em;\">\n",
       "    PREGÃO ELETRÔNICO\n",
       "    <span style=\"font-size: 0.8em; font-weight: bold; line-height: 1; border-radius: 0.35em; vertical-align: middle; margin-left: 0.5rem\">modalidade_licitacao</span>\n",
       "</mark>\n",
       " Nº \n",
       "<mark class=\"entity\" style=\"background: #ddd; padding: 0.45em 0.6em; margin: 0 0.25em; line-height: 1; border-radius: 0.35em;\">\n",
       "    12/2021\n",
       "    <span style=\"font-size: 0.8em; font-weight: bold; line-height: 1; border-radius: 0.35em; vertical-align: middle; margin-left: 0.5rem\">numero_licitacao</span>\n",
       "</mark>\n",
       " METRÔ-DF UASG 925046 O METRÔ-DF, por meio do Pregoeiro, comunica a anulação do mencionado \n",
       "<mark class=\"entity\" style=\"background: #ddd; padding: 0.45em 0.6em; margin: 0 0.25em; line-height: 1; border-radius: 0.35em;\">\n",
       "    pregão eletrônico\n",
       "    <span style=\"font-size: 0.8em; font-weight: bold; line-height: 1; border-radius: 0.35em; vertical-align: middle; margin-left: 0.5rem\">modalidade_licitacao</span>\n",
       "</mark>\n",
       ", cujo objeto trata do Registro de Preços para eventual contratação de empresa para fornecimento e instalação de cerca (grade) de vedação e concertina ao longo da via permanente, em locais de vulnerabilidade, da Companhia do Metropolitano do Distrito Federal - METRÔ-DF e Companhia Urbanizadora da Nova Capital do Brasil NOVACAP, visto ter sido constatada a inviabilidade do julgamento das propostas pelo Metrô-DF, visto ter ocorrido equívoco no cadastramento da licitação no sistema Comprasnet em relação à disposição do item \n",
       "<mark class=\"entity\" style=\"background: #ddd; padding: 0.45em 0.6em; margin: 0 0.25em; line-height: 1; border-radius: 0.35em;\">\n",
       "    11.5.1\n",
       "    <span style=\"font-size: 0.8em; font-weight: bold; line-height: 1; border-radius: 0.35em; vertical-align: middle; margin-left: 0.5rem\">numero_licitacao</span>\n",
       "</mark>\n",
       " do Edital. É garantido aos interessados a contestação do presente ato, no prazo de até cinco dias úteis a contar desta publicação. Transcorrido o prazo concedido e não havendo manifestação em contrário, o ato de anulação restará efetivado. Fica assegurado vista aos autos do processo \n",
       "<mark class=\"entity\" style=\"background: #ddd; padding: 0.45em 0.6em; margin: 0 0.25em; line-height: 1; border-radius: 0.35em;\">\n",
       "    0009700011722/2020-29\n",
       "    <span style=\"font-size: 0.8em; font-weight: bold; line-height: 1; border-radius: 0.35em; vertical-align: middle; margin-left: 0.5rem\">processo_gdf</span>\n",
       "</mark>\n",
       ", mediante solicitação pelo e-mail: licitacao@metro.df.gov.br. DIEGO MONDINI DE SOUZA Pregoeiro</div></span>"
      ],
      "text/plain": [
       "<IPython.core.display.HTML object>"
      ]
     },
     "metadata": {},
     "output_type": "display_data"
    },
    {
     "data": {
      "text/html": [
       "<span class=\"tex2jax_ignore\"><div class=\"entities\" style=\"line-height: 2.5; direction: ltr\">AVISO DE REVOGAÇÃO DE LICITAÇÃO A Caesb torna público que a Licitação Fechada - LF 003/2021-Caesb, processo \n",
       "<mark class=\"entity\" style=\"background: #ddd; padding: 0.45em 0.6em; margin: 0 0.25em; line-height: 1; border-radius: 0.35em;\">\n",
       "    092.003265/2021\n",
       "    <span style=\"font-size: 0.8em; font-weight: bold; line-height: 1; border-radius: 0.35em; vertical-align: middle; margin-left: 0.5rem\">processo_gdf</span>\n",
       "</mark>\n",
       ", cujo objeto é a implantação do reservatório apoiado RAP.ALG.001, constituído de uma câmara de 6.000m³, fabricado em chapa de aço revestidas em epóxi, aparafusado, a ser implantado em Águas Lindas de Goiás - GO foi REVOGADA por conveniência administrativa, conforme despacho GABDE (0357317). Mais informações, acesse o site da Caesb (https://www.caesb.df.gov.br/licitacoes2/modalidadeslicitacao.html) e ComprasNet (http://comprasnet.gov.br/Livre/RDC/rdcEletronico.asp) SILVIO SANTOS GONÇALVES SOARES Pregoeiro</div></span>"
      ],
      "text/plain": [
       "<IPython.core.display.HTML object>"
      ]
     },
     "metadata": {},
     "output_type": "display_data"
    },
    {
     "data": {
      "text/html": [
       "<span class=\"tex2jax_ignore\"><div class=\"entities\" style=\"line-height: 2.5; direction: ltr\">AVISO DE ANULAÇÃO DE LICITAÇÃO \n",
       "<mark class=\"entity\" style=\"background: #ddd; padding: 0.45em 0.6em; margin: 0 0.25em; line-height: 1; border-radius: 0.35em;\">\n",
       "    CONCORRÊNCIA\n",
       "    <span style=\"font-size: 0.8em; font-weight: bold; line-height: 1; border-radius: 0.35em; vertical-align: middle; margin-left: 0.5rem\">modalidade_licitacao</span>\n",
       "</mark>\n",
       " N° 03/2022 O Jardim Botânico de Brasília, comunica aos interessados que a licitação referente à modalidade \n",
       "<mark class=\"entity\" style=\"background: #ddd; padding: 0.45em 0.6em; margin: 0 0.25em; line-height: 1; border-radius: 0.35em;\">\n",
       "    Concorrência\n",
       "    <span style=\"font-size: 0.8em; font-weight: bold; line-height: 1; border-radius: 0.35em; vertical-align: middle; margin-left: 0.5rem\">modalidade_licitacao</span>\n",
       "</mark>\n",
       " nº \n",
       "<mark class=\"entity\" style=\"background: #ddd; padding: 0.45em 0.6em; margin: 0 0.25em; line-height: 1; border-radius: 0.35em;\">\n",
       "    03/2022\n",
       "    <span style=\"font-size: 0.8em; font-weight: bold; line-height: 1; border-radius: 0.35em; vertical-align: middle; margin-left: 0.5rem\">numero_licitacao</span>\n",
       "</mark>\n",
       ", tipo maior oferta, empreitada por Preço Global, modalidade: \n",
       "<mark class=\"entity\" style=\"background: #ddd; padding: 0.45em 0.6em; margin: 0 0.25em; line-height: 1; border-radius: 0.35em;\">\n",
       "    Concorrência\n",
       "    <span style=\"font-size: 0.8em; font-weight: bold; line-height: 1; border-radius: 0.35em; vertical-align: middle; margin-left: 0.5rem\">modalidade_licitacao</span>\n",
       "</mark>\n",
       ", objetivando a Concessão de Uso de Bem Público do Distrito Federal no espaço denominado Quiosque 1 , localizado na Praça de Alimentação do Jardim Botânico de Brasília, na Alameda das Nações, situado na Área Especial SMDB, Estação Ecológica Jardim Botânico de Brasília, Lago Sul - Brasília, Distrito Federal, com a finalidade específica de exploração, por uma única empresa, de serviços de lanchonete, para fornecimento de lanches e bebidas em geral, excetuando-se hamburguerias, por esta ser objeto de concessão do &quot;Quiosque 3&quot;, com edificação da área aproximada de 28,84 m² (vinte e oito e oitenta e quatro metros quadrados) somada à área comum, totalizando, aproximadamente, 60 m² (sessenta metros quadrados), por conta e risco do futuro Concessionário, foi anulado a partir da data dessa publicação, com fundamento no Art. 49 da Lei nº 8.666/93, justificativa fundamentada e apensada ao presente processo licitatório. Quaisquer dúvidas poderão ser esclarecidas junto a Comissão de Licitação no Prédio da Superintendência de Administração Geral-SUAG/JBB, localizada na Área Especial SMDB Estação Ecológica Jardim Botânico de Brasília/Lago Sul, Brasília/DF. Brasília/DF, \n",
       "<mark class=\"entity\" style=\"background: #ddd; padding: 0.45em 0.6em; margin: 0 0.25em; line-height: 1; border-radius: 0.35em;\">\n",
       "    24 de fevereiro de 2022\n",
       "    <span style=\"font-size: 0.8em; font-weight: bold; line-height: 1; border-radius: 0.35em; vertical-align: middle; margin-left: 0.5rem\">data_escrito</span>\n",
       "</mark>\n",
       " ALINE DE PIERI Diretora-Executiva</div></span>"
      ],
      "text/plain": [
       "<IPython.core.display.HTML object>"
      ]
     },
     "metadata": {},
     "output_type": "display_data"
    },
    {
     "data": {
      "text/html": [
       "<span class=\"tex2jax_ignore\"><div class=\"entities\" style=\"line-height: 2.5; direction: ltr\">AVISO DE REVOGAÇÃO DE LICITAÇÃO A Caesb torna público que o \n",
       "<mark class=\"entity\" style=\"background: #ddd; padding: 0.45em 0.6em; margin: 0 0.25em; line-height: 1; border-radius: 0.35em;\">\n",
       "    Pregão Eletrônico\n",
       "    <span style=\"font-size: 0.8em; font-weight: bold; line-height: 1; border-radius: 0.35em; vertical-align: middle; margin-left: 0.5rem\">modalidade_licitacao</span>\n",
       "</mark>\n",
       " PE nº 126/2021, processo \n",
       "<mark class=\"entity\" style=\"background: #ddd; padding: 0.45em 0.6em; margin: 0 0.25em; line-height: 1; border-radius: 0.35em;\">\n",
       "    00020270/202183\n",
       "    <span style=\"font-size: 0.8em; font-weight: bold; line-height: 1; border-radius: 0.35em; vertical-align: middle; margin-left: 0.5rem\">processo_gdf</span>\n",
       "</mark>\n",
       ", objeto: aquisição de componentes de equipamentos elétricos e eletrônicos (abraçadeira, anilha, cabo, canaleta, disjuntor, fio, lâmpada, refletor e outros), foi revogado por razões administrativas. ELIZABETH DUARTE ALVES Pregoeira</div></span>"
      ],
      "text/plain": [
       "<IPython.core.display.HTML object>"
      ]
     },
     "metadata": {},
     "output_type": "display_data"
    },
    {
     "data": {
      "text/html": [
       "<span class=\"tex2jax_ignore\"><div class=\"entities\" style=\"line-height: 2.5; direction: ltr\">AVISO DE REVOGAÇÃO \n",
       "<mark class=\"entity\" style=\"background: #ddd; padding: 0.45em 0.6em; margin: 0 0.25em; line-height: 1; border-radius: 0.35em;\">\n",
       "    PREGÃO ELETRÔNICO\n",
       "    <span style=\"font-size: 0.8em; font-weight: bold; line-height: 1; border-radius: 0.35em; vertical-align: middle; margin-left: 0.5rem\">modalidade_licitacao</span>\n",
       "</mark>\n",
       " Nº \n",
       "<mark class=\"entity\" style=\"background: #ddd; padding: 0.45em 0.6em; margin: 0 0.25em; line-height: 1; border-radius: 0.35em;\">\n",
       "    190/2021\n",
       "    <span style=\"font-size: 0.8em; font-weight: bold; line-height: 1; border-radius: 0.35em; vertical-align: middle; margin-left: 0.5rem\">numero_licitacao</span>\n",
       "</mark>\n",
       " - UASG 926119 A Pregoeira da Central de Compras torna pública a REVOGAÇÃO, pela autoridade competente, da licitação supracitada, cujo objeto é Aquisição de Mobiliários: MESA DE CABECEIRA e MESA DE REFEIÇÕES. O certame será substituído pelo \n",
       "<mark class=\"entity\" style=\"background: #ddd; padding: 0.45em 0.6em; margin: 0 0.25em; line-height: 1; border-radius: 0.35em;\">\n",
       "    Pregão Eletrônico\n",
       "    <span style=\"font-size: 0.8em; font-weight: bold; line-height: 1; border-radius: 0.35em; vertical-align: middle; margin-left: 0.5rem\">modalidade_licitacao</span>\n",
       "</mark>\n",
       " SES-DF n° 216/2021. LÍNEA CAROLINE DA SILVA LIMA</div></span>"
      ],
      "text/plain": [
       "<IPython.core.display.HTML object>"
      ]
     },
     "metadata": {},
     "output_type": "display_data"
    },
    {
     "data": {
      "text/html": [
       "<span class=\"tex2jax_ignore\"><div class=\"entities\" style=\"line-height: 2.5; direction: ltr\">AVISO DE LICITAÇÃO \n",
       "<mark class=\"entity\" style=\"background: #ddd; padding: 0.45em 0.6em; margin: 0 0.25em; line-height: 1; border-radius: 0.35em;\">\n",
       "    PREGÃO ELETRÔNICO\n",
       "    <span style=\"font-size: 0.8em; font-weight: bold; line-height: 1; border-radius: 0.35em; vertical-align: middle; margin-left: 0.5rem\">modalidade_licitacao</span>\n",
       "</mark>\n",
       " N° 30/2021 - UASG 974002 A Pregoeira da Subsecretaria de Compras Governamentais, em atendimento a Decisão nº 2265/2021 do Tribunal de Contas do Distrito Federal, comunica a anulação da fase posterior à abertura da sessão do \n",
       "<mark class=\"entity\" style=\"background: #ddd; padding: 0.45em 0.6em; margin: 0 0.25em; line-height: 1; border-radius: 0.35em;\">\n",
       "    Pregão Eletrônico\n",
       "    <span style=\"font-size: 0.8em; font-weight: bold; line-height: 1; border-radius: 0.35em; vertical-align: middle; margin-left: 0.5rem\">modalidade_licitacao</span>\n",
       "</mark>\n",
       " nº \n",
       "<mark class=\"entity\" style=\"background: #ddd; padding: 0.45em 0.6em; margin: 0 0.25em; line-height: 1; border-radius: 0.35em;\">\n",
       "    30/2021\n",
       "    <span style=\"font-size: 0.8em; font-weight: bold; line-height: 1; border-radius: 0.35em; vertical-align: middle; margin-left: 0.5rem\">numero_licitacao</span>\n",
       "</mark>\n",
       " - SCG/SPLAN/SEEC. Informamos que serão feitas as devidas alterações para a continuidade dos procedimentos. Processo \n",
       "<mark class=\"entity\" style=\"background: #ddd; padding: 0.45em 0.6em; margin: 0 0.25em; line-height: 1; border-radius: 0.35em;\">\n",
       "    0004000023083/2020-18\n",
       "    <span style=\"font-size: 0.8em; font-weight: bold; line-height: 1; border-radius: 0.35em; vertical-align: middle; margin-left: 0.5rem\">processo_gdf</span>\n",
       "</mark>\n",
       ". Os autos ficam com vistas franqueadas aos interessados, nesta Secretaria de Estado de Economia do DF, no endereço eletrônico www.comprasgovernamentais.gov.br ou pelo e-mail: pregoeirosulog05@economia.df.gov.br. Brasília/DF, \n",
       "<mark class=\"entity\" style=\"background: #ddd; padding: 0.45em 0.6em; margin: 0 0.25em; line-height: 1; border-radius: 0.35em;\">\n",
       "    18 de junho de 2021\n",
       "    <span style=\"font-size: 0.8em; font-weight: bold; line-height: 1; border-radius: 0.35em; vertical-align: middle; margin-left: 0.5rem\">data_escrito</span>\n",
       "</mark>\n",
       " KARLA REGINA DA SILVA ROCHA</div></span>"
      ],
      "text/plain": [
       "<IPython.core.display.HTML object>"
      ]
     },
     "metadata": {},
     "output_type": "display_data"
    },
    {
     "data": {
      "text/html": [
       "<span class=\"tex2jax_ignore\"><div class=\"entities\" style=\"line-height: 2.5; direction: ltr\">AVISO DE REVOGAÇÃO \n",
       "<mark class=\"entity\" style=\"background: #ddd; padding: 0.45em 0.6em; margin: 0 0.25em; line-height: 1; border-radius: 0.35em;\">\n",
       "    PREGÃO ELETRÔNICO\n",
       "    <span style=\"font-size: 0.8em; font-weight: bold; line-height: 1; border-radius: 0.35em; vertical-align: middle; margin-left: 0.5rem\">modalidade_licitacao</span>\n",
       "</mark>\n",
       " Nº \n",
       "<mark class=\"entity\" style=\"background: #ddd; padding: 0.45em 0.6em; margin: 0 0.25em; line-height: 1; border-radius: 0.35em;\">\n",
       "    06/2020\n",
       "    <span style=\"font-size: 0.8em; font-weight: bold; line-height: 1; border-radius: 0.35em; vertical-align: middle; margin-left: 0.5rem\">numero_licitacao</span>\n",
       "</mark>\n",
       " A SUBSECRETÁRIA DE ADMINISTRAÇÃO GERAL, DA SECRETARIA DE ESTADO DE DESENVOLVIMENTO URBANO E HABITAÇÃO DO DISTRITO FEDERAL, torna público aos interessados, que o procedimento licitatório para Contratação de empresa especializada para prestação de serviços deseguro total automotivo, com cobertura contra danos materiais resultantes de sinistros de roubo ou furto, colisão, incêndio, danos causados pela natureza e assistência 24 horas, para 11 (onze) veículos pertencentes à frota desta Secretaria de Estado, conforme especificações e quantitativos constantes no Anexo I do Edital, restou REVOGADO, nos termos do processo \n",
       "<mark class=\"entity\" style=\"background: #ddd; padding: 0.45em 0.6em; margin: 0 0.25em; line-height: 1; border-radius: 0.35em;\">\n",
       "    00390-00001558/2020-08\n",
       "    <span style=\"font-size: 0.8em; font-weight: bold; line-height: 1; border-radius: 0.35em; vertical-align: middle; margin-left: 0.5rem\">processo_gdf</span>\n",
       "</mark>\n",
       " e decisão prolatada com fundamentação no Art. 49, caput, assegurado o decurso de prazo, previsto no art. 109, Inciso I, alínea &quot;c&quot;, da Lei Federal n° 8.666/1993. ADRIANA ROSA SAVITE COORDENAÇÃO DE LICITAÇÃO</div></span>"
      ],
      "text/plain": [
       "<IPython.core.display.HTML object>"
      ]
     },
     "metadata": {},
     "output_type": "display_data"
    },
    {
     "data": {
      "text/html": [
       "<span class=\"tex2jax_ignore\"><div class=\"entities\" style=\"line-height: 2.5; direction: ltr\">AVISO DE REVOGAÇÃO \n",
       "<mark class=\"entity\" style=\"background: #ddd; padding: 0.45em 0.6em; margin: 0 0.25em; line-height: 1; border-radius: 0.35em;\">\n",
       "    PREGÃO ELETRÔNICO\n",
       "    <span style=\"font-size: 0.8em; font-weight: bold; line-height: 1; border-radius: 0.35em; vertical-align: middle; margin-left: 0.5rem\">modalidade_licitacao</span>\n",
       "</mark>\n",
       " Nº \n",
       "<mark class=\"entity\" style=\"background: #ddd; padding: 0.45em 0.6em; margin: 0 0.25em; line-height: 1; border-radius: 0.35em;\">\n",
       "    190/2021\n",
       "    <span style=\"font-size: 0.8em; font-weight: bold; line-height: 1; border-radius: 0.35em; vertical-align: middle; margin-left: 0.5rem\">numero_licitacao</span>\n",
       "</mark>\n",
       " - UASG 926119 (*) A Pregoeira da Central de Compras torna pública a REVOGAÇÃO, pela autoridade competente, da licitação supracitada, cujo objeto é Aquisição de Mobiliários: MESA DE CABECEIRA e MESA DE REFEIÇÕES. O certame será substituído pelo \n",
       "<mark class=\"entity\" style=\"background: #ddd; padding: 0.45em 0.6em; margin: 0 0.25em; line-height: 1; border-radius: 0.35em;\">\n",
       "    Pregão Eletrônico\n",
       "    <span style=\"font-size: 0.8em; font-weight: bold; line-height: 1; border-radius: 0.35em; vertical-align: middle; margin-left: 0.5rem\">modalidade_licitacao</span>\n",
       "</mark>\n",
       " SES-DF n° 220/2021. LÍNEA CAROLINE DA SILVA LIMA ____________________ (*) Republicado por ter sido encaminhado com incorreção no original, publicado no DODF n° 125, de 06 de julho de 2021, página 33.</div></span>"
      ],
      "text/plain": [
       "<IPython.core.display.HTML object>"
      ]
     },
     "metadata": {},
     "output_type": "display_data"
    },
    {
     "data": {
      "text/html": [
       "<span class=\"tex2jax_ignore\"><div class=\"entities\" style=\"line-height: 2.5; direction: ltr\">AVISO DE REVOGAÇÃO DE LICITAÇÃO Nº \n",
       "<mark class=\"entity\" style=\"background: #ddd; padding: 0.45em 0.6em; margin: 0 0.25em; line-height: 1; border-radius: 0.35em;\">\n",
       "    06/2021\n",
       "    <span style=\"font-size: 0.8em; font-weight: bold; line-height: 1; border-radius: 0.35em; vertical-align: middle; margin-left: 0.5rem\">numero_licitacao</span>\n",
       "</mark>\n",
       " - UASG 926334 A Fundação Hemocentro de Brasília torna pública com fundamento no art. 49, caput da Lei nº 8.666/1993 e justificativa que consta nos autos do processo \n",
       "<mark class=\"entity\" style=\"background: #ddd; padding: 0.45em 0.6em; margin: 0 0.25em; line-height: 1; border-radius: 0.35em;\">\n",
       "    00063-00002703/202026\n",
       "    <span style=\"font-size: 0.8em; font-weight: bold; line-height: 1; border-radius: 0.35em; vertical-align: middle; margin-left: 0.5rem\">processo_gdf</span>\n",
       "</mark>\n",
       ", a revogação do \n",
       "<mark class=\"entity\" style=\"background: #ddd; padding: 0.45em 0.6em; margin: 0 0.25em; line-height: 1; border-radius: 0.35em;\">\n",
       "    Pregão Eletrônico\n",
       "    <span style=\"font-size: 0.8em; font-weight: bold; line-height: 1; border-radius: 0.35em; vertical-align: middle; margin-left: 0.5rem\">modalidade_licitacao</span>\n",
       "</mark>\n",
       " nº \n",
       "<mark class=\"entity\" style=\"background: #ddd; padding: 0.45em 0.6em; margin: 0 0.25em; line-height: 1; border-radius: 0.35em;\">\n",
       "    06/2021\n",
       "    <span style=\"font-size: 0.8em; font-weight: bold; line-height: 1; border-radius: 0.35em; vertical-align: middle; margin-left: 0.5rem\">numero_licitacao</span>\n",
       "</mark>\n",
       ", cujo o objeto é a contratação de empresa especializada na prestação de serviços de CERTIFICAÇÃO de sistemas de gestão, em conformidade com a Norma ABNT NBR ISO 9001:2015 Sistemas de Gestão da Qualidade Requisitos para atender às necessidades da Fundação Hemocentro de Brasília, por se tratar de medida que melhor atende ao interesse público. Mais informações, assim como a íntegra da decisão podem ser solicitadas pelo e-mail licitacao@fhb.df.gov.br, bem como consulta pública nos autos do processo administrativo 00063-00002703/2020-26. HENRIQUE SANJIRO YUZUKI FARIAS Chefe</div></span>"
      ],
      "text/plain": [
       "<IPython.core.display.HTML object>"
      ]
     },
     "metadata": {},
     "output_type": "display_data"
    },
    {
     "data": {
      "text/html": [
       "<span class=\"tex2jax_ignore\"><div class=\"entities\" style=\"line-height: 2.5; direction: ltr\">AVISO DE LICITAÇÃO \n",
       "<mark class=\"entity\" style=\"background: #ddd; padding: 0.45em 0.6em; margin: 0 0.25em; line-height: 1; border-radius: 0.35em;\">\n",
       "    PREGÃO ELETRÔNICO\n",
       "    <span style=\"font-size: 0.8em; font-weight: bold; line-height: 1; border-radius: 0.35em; vertical-align: middle; margin-left: 0.5rem\">modalidade_licitacao</span>\n",
       "</mark>\n",
       " Nº \n",
       "<mark class=\"entity\" style=\"background: #ddd; padding: 0.45em 0.6em; margin: 0 0.25em; line-height: 1; border-radius: 0.35em;\">\n",
       "    45/2021\n",
       "    <span style=\"font-size: 0.8em; font-weight: bold; line-height: 1; border-radius: 0.35em; vertical-align: middle; margin-left: 0.5rem\">numero_licitacao</span>\n",
       "</mark>\n",
       " - UASG 974002 O pregoeiro comunica aos interessados que o PE nº 45/2021, cujo objeto é o registro de preço para eventual contratação de Solução de Qualificação e Apoio à Recuperação de Débitos com base de dados própria, suporte presencial e remoto, teve sua fase externa anulada por inconsistência no edital, com fulcro no art. 49 da Lei Federal nº 8.666/93 e enunciado 473 do STF e Despacho-SEEC/SPLAN/SCG-SEI ID Nº 64438709, acolhido pela autoridade competente. Processo \n",
       "<mark class=\"entity\" style=\"background: #ddd; padding: 0.45em 0.6em; margin: 0 0.25em; line-height: 1; border-radius: 0.35em;\">\n",
       "    00040-00017136/2020-61\n",
       "    <span style=\"font-size: 0.8em; font-weight: bold; line-height: 1; border-radius: 0.35em; vertical-align: middle; margin-left: 0.5rem\">processo_gdf</span>\n",
       "</mark>\n",
       ". Comunica ainda, que após os devidos ajustes será publicado novo edital com nova numeração. Informações no site: www.comprasgovernamentais.gov.br e pelo e-mail: pregoeirosulog14@economia.df.gov.br. Brasília/DF, \n",
       "<mark class=\"entity\" style=\"background: #ddd; padding: 0.45em 0.6em; margin: 0 0.25em; line-height: 1; border-radius: 0.35em;\">\n",
       "    25 de junho de 2021\n",
       "    <span style=\"font-size: 0.8em; font-weight: bold; line-height: 1; border-radius: 0.35em; vertical-align: middle; margin-left: 0.5rem\">data_escrito</span>\n",
       "</mark>\n",
       " EDMAR FIRMINO LIMA</div></span>"
      ],
      "text/plain": [
       "<IPython.core.display.HTML object>"
      ]
     },
     "metadata": {},
     "output_type": "display_data"
    },
    {
     "data": {
      "text/html": [
       "<span class=\"tex2jax_ignore\"><div class=\"entities\" style=\"line-height: 2.5; direction: ltr\">AVISO DE REVOGAÇÃO \n",
       "<mark class=\"entity\" style=\"background: #ddd; padding: 0.45em 0.6em; margin: 0 0.25em; line-height: 1; border-radius: 0.35em;\">\n",
       "    PREGÃO ELETRÔNICO\n",
       "    <span style=\"font-size: 0.8em; font-weight: bold; line-height: 1; border-radius: 0.35em; vertical-align: middle; margin-left: 0.5rem\">modalidade_licitacao</span>\n",
       "</mark>\n",
       " POR SRP Nº \n",
       "<mark class=\"entity\" style=\"background: #ddd; padding: 0.45em 0.6em; margin: 0 0.25em; line-height: 1; border-radius: 0.35em;\">\n",
       "    318/2017\n",
       "    <span style=\"font-size: 0.8em; font-weight: bold; line-height: 1; border-radius: 0.35em; vertical-align: middle; margin-left: 0.5rem\">numero_licitacao</span>\n",
       "</mark>\n",
       " - UASG 926119 A Pregoeira da Central de Compras torna público aos interessados que o procedimento licitatório para Contratação de empresa especializada para prestação de serviço de Central de Atendimento com fornecimento, instalação, configuração, customização, suporte técnico e manutenção de solução sistêmica integrada de comunicação de voz, dados, imagens, armazenamento e monitoramento remoto, rádio comunicação, composta de recursos completos para sua operação, inclusive adequações físicas, infraestrutura lógica e elétrica, estações de trabalho, pessoal, equipamentos e softwares de modo a atender a necessidade de integração dos serviços de comunicação do Serviço de Atendimento Móvel de Urgência SAMU/DF, conforme especificações e quantitativos constantes no Anexo I do Edital, (Processo: \n",
       "<mark class=\"entity\" style=\"background: #ddd; padding: 0.45em 0.6em; margin: 0 0.25em; line-height: 1; border-radius: 0.35em;\">\n",
       "    00060.00025673/2017-13)\n",
       "    <span style=\"font-size: 0.8em; font-weight: bold; line-height: 1; border-radius: 0.35em; vertical-align: middle; margin-left: 0.5rem\">processo_gdf</span>\n",
       "</mark>\n",
       ", restou REVOGADO pela autoridade competente, nos termos do art. 49 da Lei nº 8.666 de 1993. JULIANA ARAÚJO E SOUZA</div></span>"
      ],
      "text/plain": [
       "<IPython.core.display.HTML object>"
      ]
     },
     "metadata": {},
     "output_type": "display_data"
    },
    {
     "data": {
      "text/html": [
       "<span class=\"tex2jax_ignore\"><div class=\"entities\" style=\"line-height: 2.5; direction: ltr\">AVISO DE REVOGAÇÃO \n",
       "<mark class=\"entity\" style=\"background: #ddd; padding: 0.45em 0.6em; margin: 0 0.25em; line-height: 1; border-radius: 0.35em;\">\n",
       "    PREGÃO ELETRÔNICO\n",
       "    <span style=\"font-size: 0.8em; font-weight: bold; line-height: 1; border-radius: 0.35em; vertical-align: middle; margin-left: 0.5rem\">modalidade_licitacao</span>\n",
       "</mark>\n",
       " Nº \n",
       "<mark class=\"entity\" style=\"background: #ddd; padding: 0.45em 0.6em; margin: 0 0.25em; line-height: 1; border-radius: 0.35em;\">\n",
       "    317/2020\n",
       "    <span style=\"font-size: 0.8em; font-weight: bold; line-height: 1; border-radius: 0.35em; vertical-align: middle; margin-left: 0.5rem\">numero_licitacao</span>\n",
       "</mark>\n",
       " - UASG 926119 A Pregoeira da Central de Compras torna público aos interessados que o procedimento licitatório referente à contratação de empresa especializada para a Operação Logística da Cadeia de Suprimentos e da Cadeia de Frio, abrangendo as atividades de Recebimento, Conferência, Armazenamento, Separação, Fracionamento, Expedição, Rastreabilidade, Transporte, Distribuição e Logística Reversa de Medicamentos, Órteses, Próteses e Materiais Especiais, Materiais Médico-Hospitalares, Laboratoriais, Odontológicos, de Expediente, Imunobiológicos, dentre outros produtos, incluindo recurso humanos, tecnológicos e operacionais, conforme condições, quantidades e exigências estabelecidas no Anexo I do Edital. (Processo Eletrônico: \n",
       "<mark class=\"entity\" style=\"background: #ddd; padding: 0.45em 0.6em; margin: 0 0.25em; line-height: 1; border-radius: 0.35em;\">\n",
       "    00060-00384658/2019-68)\n",
       "    <span style=\"font-size: 0.8em; font-weight: bold; line-height: 1; border-radius: 0.35em; vertical-align: middle; margin-left: 0.5rem\">processo_gdf</span>\n",
       "</mark>\n",
       ", restou REVOGADO pela Autoridade Competente, nos termos do art. 49 da Lei 8.666/93. CERIZE HELENA SOUZA SALES</div></span>"
      ],
      "text/plain": [
       "<IPython.core.display.HTML object>"
      ]
     },
     "metadata": {},
     "output_type": "display_data"
    },
    {
     "data": {
      "text/html": [
       "<span class=\"tex2jax_ignore\"><div class=\"entities\" style=\"line-height: 2.5; direction: ltr\">AVISO DE REVOGAÇÃO DE LICITAÇÃO A Caesb torna público que a Licitação Fechada LF nº 01/2020, processo \n",
       "<mark class=\"entity\" style=\"background: #ddd; padding: 0.45em 0.6em; margin: 0 0.25em; line-height: 1; border-radius: 0.35em;\">\n",
       "    092.005499/2019\n",
       "    <span style=\"font-size: 0.8em; font-weight: bold; line-height: 1; border-radius: 0.35em; vertical-align: middle; margin-left: 0.5rem\">processo_gdf</span>\n",
       "</mark>\n",
       ", objeto: Execução das obras de implantação da Adutora de Água Bruta do Sistema Paranoá Sul 1ª Etapa, realizada no site: www.comprasnet.gov.br (UASG: 974200), foi revogada por razões administrativas. EDSON MIRANDA BEZERRA Pregoeiro</div></span>"
      ],
      "text/plain": [
       "<IPython.core.display.HTML object>"
      ]
     },
     "metadata": {},
     "output_type": "display_data"
    }
   ],
   "source": [
    "def processo_(doc):\n",
    "        '''\n",
    "        label function para extracao de processo usando regex\n",
    "\n",
    "        parametros:\n",
    "            doc: uma string respresentando o texto de um dos contratos oferecidos no vetor da base de dados\n",
    "        '''\n",
    "        expression = r\"[P|p][R|r][O|o][C|c][E|e][S|s][S|s][O|o][\\s\\S].*?[s|:]?.+?(?=[0-9]).*?(\\d*[^;|,|a-zA-Z]*)\"    \n",
    "        match = re.search(expression, str(doc))\n",
    "        if match:\n",
    "                    flag = 0\n",
    "                    for token in doc:\n",
    "                        if match.span(1)[0]+1 in range(token.idx, (token.idx+len(token))+1) and flag == 0:\n",
    "                            if(doc[token.i].text == ':'):\n",
    "                                start = doc[token.i+1]\n",
    "                            else:\n",
    "                                start = token\n",
    "                            flag = 1\n",
    "                        if token.idx >= match.span(1)[1] and flag == 1 and token.i > start.i:\n",
    "                            if(doc[token.i-1].text in ['.', '-', '—', ':']):\n",
    "                                end = doc[token.i-1]\n",
    "                            else:\n",
    "                                end = token\n",
    "                            yield start.i, end.i, \"processo_gdf\"\n",
    "                            break    \n",
    "\n",
    "def modalidade_(doc):\n",
    "        '''\n",
    "        label function para extracao de modalidade de licitação usando regex\n",
    "\n",
    "        parametros:\n",
    "            doc: uma string respresentando o texto de um dos contratos oferecidos no vetor da base de dados\n",
    "        '''\n",
    "        modalidade = r\"(?:PREG[AÃ]O|[Pp]reg[aã]o)\\s(?:ELETR[OÔ]NICO|[Ee]letr[oô]nico)|(?:CONCORR[EÊ]NCIA|[Cc]oncorr[eê]ncia)|(?:TOMADA|[Tt]omada)\\s[Dd][Ee]\\s(?:PRE[CÇ]OS?|[Pp]re[cç]os?)|(?:CARTA\\s|[Cc]arta\\s)?(?:CONVITE|[Cc]onvite)|(?:CONCURSO|[Cc]oncurso)|(?:LEIL[AÃ]O|[Ll]eil[aã]o)\"\n",
    "\n",
    "        match = re.finditer(modalidade, str(doc))\n",
    "        if match:\n",
    "            for grupo in match:\n",
    "                flag = 0\n",
    "                for token in doc:\n",
    "                    if grupo.span(0)[0]+1 in range(token.idx, (token.idx+len(token))+1) and flag == 0:\n",
    "                        if(doc[token.i].text == ':'):\n",
    "                            start = doc[token.i+1]\n",
    "                        else:\n",
    "                            start = token\n",
    "                        flag = 1\n",
    "                    if token.idx >= grupo.span(0)[1] and flag == 1 and token.i > start.i:\n",
    "                        if(doc[token.i-1].text in ['.', '-', '—', ':']):\n",
    "                            end = doc[token.i-1]\n",
    "                        else:\n",
    "                            end = token\n",
    "                        yield start.i, end.i, \"modalidade_licitacao\"\n",
    "                        break               \n",
    "def numero_licitacao_(doc):\n",
    "        '''\n",
    "        label function para extracao de modalidade de licitação usando regex\n",
    "\n",
    "        parametros:\n",
    "            doc: uma string respresentando o texto de um dos contratos oferecidos no vetor da base de dados\n",
    "        '''\n",
    "       \n",
    "        \n",
    "        expression = r\"((?:PREG[AÃ]O|[Pp]reg[aã]o)\\s(?:ELETR[OÔ]NICO|[Ee]letr[oô]nico)|(?:CONCORR[EÊ]NCIA|[Cc]oncorr[eê]ncia)|(?:TOMADA|[Tt]omada)\\s[Dd][Ee]\\s(?:PRE[CÇ]OS?|[Pp]re[cç]os?)|(?:CARTA\\s|[Cc]arta\\s)?(?:CONVITE|[Cc]onvite)|(?:CONCURSO|[Cc]oncurso)|(?:LEIL[AÃ]O|[Ll]eil[aã]o))[\\s\\S][N|n][\\s|o|º|.].+?(?=[0-9].*?)(\\d*[^;|,|a-zA-Z]*?)\"     \n",
    "        match = re.finditer(expression, str(doc))\n",
    "        if match:\n",
    "            for grupo in match:\n",
    "                flag = 0\n",
    "                for token in doc:\n",
    "                    if grupo.span(2)[0]+1 in range(token.idx, (token.idx+len(token))+1) and flag == 0:\n",
    "                        if(doc[token.i].text == ':'):\n",
    "                            start = doc[token.i+1]\n",
    "                        else:\n",
    "                            start = token\n",
    "                        flag = 1\n",
    "                    if token.idx >= grupo.span(2)[1] and flag == 1 and token.i > start.i:\n",
    "                        if(doc[token.i-1].text in ['.', '-', '—', ':']):\n",
    "                            end = doc[token.i-1]\n",
    "                        else:\n",
    "                            end = token\n",
    "                        yield start.i, end.i, \"numero_licitacao\"\n",
    "                        break          \n",
    "        \n",
    "        expression = r\"((?:CONCORR[E|Ê]NCIA|[Cc]oncorr[eê]ncia)\\s(?:P[ÚU]BLICA|[Pp][úu]blica))[\\s\\S][N|n][\\s|o|º|.].+?(?=[0-9].*?)(\\d*[^;|,|a-zA-Z]*?)\"\n",
    "             \n",
    "        match = re.finditer(expression, str(doc))\n",
    "        if match:\n",
    "            for grupo in match:\n",
    "                flag = 0\n",
    "                for token in doc:\n",
    "                    if grupo.span(2)[0]+1 in range(token.idx, (token.idx+len(token))+1) and flag == 0:\n",
    "                        print(token, \"1\")\n",
    "                        \n",
    "                        if(doc[token.i].text == ':'):\n",
    "                            start = doc[token.i+1]\n",
    "                            print(token, \"2\")\n",
    "                        else:\n",
    "                            start = token\n",
    "                            print(token, \"3\")\n",
    "                        flag = 1\n",
    "                    if token.idx >= grupo.span(2)[1] and flag == 1 and token.i > start.i:\n",
    "                        if(doc[token.i-1].text in ['.', '-', '—', ':']):\n",
    "                            end = doc[token.i-1]\n",
    "                        else:\n",
    "                            end = token\n",
    "                        yield start.i, end.i, \"numero_licitacao\"\n",
    "                        break\n",
    "        expression = r\"((?:PREG[AÃ]O|[Pp]reg[aã]o)\\s(?:ELETR[OÔ]NICO|[Ee]letr[oô]nico)\\s(?:[Ss][Rr][Pp]))[\\s\\S][N|n][\\s|o|º|.].+?(?=[0-9].*?)(\\d*[^;|,|a-zA-Z]*?)\"                \n",
    "        match = re.finditer(expression, str(doc))\n",
    "        if match:\n",
    "            for grupo in match:\n",
    "                flag = 0\n",
    "                for token in doc:\n",
    "                    if grupo.span(2)[0]+1 in range(token.idx, (token.idx+len(token))+1) and flag == 0:\n",
    "                        if(doc[token.i].text == ':'):\n",
    "                            start = doc[token.i+1]\n",
    "                        else:\n",
    "                            start = token\n",
    "                        flag = 1\n",
    "                    if token.idx >= grupo.span(2)[1] and flag == 1 and token.i > start.i:\n",
    "                        if(doc[token.i-1].text in ['.', '-', '—', ':']):\n",
    "                            end = doc[token.i-1]\n",
    "                        else:\n",
    "                            end = token\n",
    "                        yield start.i, end.i, \"numero_licitacao\"\n",
    "                        break        \n",
    "        #RDC Nº 02/2021 \n",
    "        expression = r\"([Rr][Dd][Cc])[\\s\\S][N|n][\\s|o|º|.].+?(?=[0-9].*?)(\\d*[^;|,|a-zA-Z]*?)\"                \n",
    "        match = re.finditer(expression, str(doc))\n",
    "        if match:\n",
    "            for grupo in match:\n",
    "                flag = 0\n",
    "                for token in doc:\n",
    "                    if grupo.span(2)[0]+1 in range(token.idx, (token.idx+len(token))+1) and flag == 0:\n",
    "                        if(doc[token.i].text == ':'):\n",
    "                            start = doc[token.i+1]\n",
    "                        else:\n",
    "                            start = token\n",
    "                        flag = 1\n",
    "                    if token.idx >= grupo.span(2)[1] and flag == 1 and token.i > start.i:\n",
    "                        if(doc[token.i-1].text in ['.', '-', '—', ':']):\n",
    "                            end = doc[token.i-1]\n",
    "                        else:\n",
    "                            end = token\n",
    "                        yield start.i, end.i, \"numero_licitacao\"\n",
    "                        break \n",
    "                    \n",
    "        expression = r\"((?:PREG[AÃ]O|[Pp]reg[aã]o)\\s(?:ELETR[OÔ]NICO|[Ee]letr[oô]nico)\\s(?:[Pp][Oo][Rr]|[Dd][Ee]|\\s)\\s(?:[Ss][Rr][Pp]))[\\s\\S][N|n][\\s|o|º|.].+?(?=[0-9].*?)(\\d*[^;|,|a-zA-Z]*?)\"                \n",
    "        match = re.finditer(expression, str(doc))\n",
    "        if match:\n",
    "            for grupo in match:\n",
    "                flag = 0\n",
    "                for token in doc:\n",
    "                    if grupo.span(2)[0]+1 in range(token.idx, (token.idx+len(token))+1) and flag == 0:\n",
    "                        if(doc[token.i].text == ':'):\n",
    "                            start = doc[token.i+1]\n",
    "                        else:\n",
    "                            start = token\n",
    "                        flag = 1\n",
    "                    if token.idx >= grupo.span(2)[1] and flag == 1 and token.i > start.i:\n",
    "                        if(doc[token.i-1].text in ['.', '-', '—', ':']):\n",
    "                            end = doc[token.i-1]\n",
    "                        else:\n",
    "                            end = token\n",
    "                        yield start.i, end.i, \"numero_licitacao\"\n",
    "                        break                    \n",
    "        \n",
    "        expression = r\"((?:PREG[AÃ]O|[Pp]reg[aã]o)\\s(?:ELETR[OÔ]NICO|[Ee]letr[oô]nico)\\s(?:[Ii][Nn][Tt][Ee][Rr][Nn][Aa][Cc][Ii][Oo][Nn][Aa][Ll]))[\\s\\S][N|n][\\s|o|º|.].+?(?=[0-9].*?)(\\d*[^;|,|a-zA-Z]*?)\"                \n",
    "        match = re.finditer(expression, str(doc))\n",
    "        if match:\n",
    "            for grupo in match:\n",
    "                flag = 0\n",
    "                for token in doc:\n",
    "                    if grupo.span(2)[0]+1 in range(token.idx, (token.idx+len(token))+1) and flag == 0:\n",
    "                        if(doc[token.i].text == ':'):\n",
    "                            start = doc[token.i+1]\n",
    "                        else:\n",
    "                            start = token\n",
    "                        flag = 1\n",
    "                    if token.idx >= grupo.span(2)[1] and flag == 1 and token.i > start.i:\n",
    "                        if(doc[token.i-1].text in ['.', '-', '—', ':']):\n",
    "                            end = doc[token.i-1]\n",
    "                        else:\n",
    "                            end = token\n",
    "                        yield start.i, end.i, \"numero_licitacao\"\n",
    "                        break\n",
    "        \n",
    "        expression = r\"(?:(?:DISPENSA\\sDE\\s|[Dd]ispensa\\s[Dd]e\\s)|)(?:LICITA[CÇ][AÃ]O|[Ll]icita[cç][aã]o)[\\s\\S][N|n][\\s|o|º|.].+?(?=[0-9].*?)(\\d*[^;|,|a-zA-Z]*?)\"                     \n",
    "        match = re.finditer(expression, str(doc))\n",
    "        if match:\n",
    "            for grupo in match:\n",
    "                flag = 0\n",
    "                for token in doc:\n",
    "                    if grupo.span(1)[0]+1 in range(token.idx, (token.idx+len(token))+1) and flag == 0:\n",
    "                        if(doc[token.i].text == ':'):\n",
    "                            start = doc[token.i+1]\n",
    "                        else:\n",
    "                            start = token\n",
    "                        flag = 1\n",
    "                    if token.idx >= grupo.span(1)[1] and flag == 1 and token.i > start.i:\n",
    "                        if(doc[token.i-1].text in ['.', '-', '—', ':']):\n",
    "                            end = doc[token.i-1]\n",
    "                        else:\n",
    "                            end = token\n",
    "                        yield start.i, end.i, \"numero_licitacao\"\n",
    "                        break\n",
    "def data_assinatura_(doc):\n",
    "        '''\n",
    "        label function para extracao de data de assinatura usando regex\n",
    "\n",
    "        parametros:\n",
    "            doc: uma string respresentando o texto de um dos contratos oferecidos no vetor da base de dados\n",
    "        '''\n",
    "        #expression = r\"([A|a][S|s][S|s][I|i][N|n][A|a][T|t][U|u][R|r][A|a].*?[\\s\\S])(\\d{2}\\/\\d{2}\\/\\d{4}|\\d{2}[\\s\\S]\\w+[\\s\\S]\\w+[\\s\\S]\\w+[\\s\\S]\\d{4}|\\w{2}[\\s\\S]\\w+[\\s\\S]\\w+[\\s\\S]\\w+[\\s\\S]\\d{4}|[\\s\\S](\\d{2}\\.\\d{2}\\.\\d{4})|\\w{2}\\/\\d{2}\\/\\d{4})\"\n",
    "        #expression = r\"([A|a][S|s][S|s][I|i][N|n][A|a][T|t][U|u][R|r][A|a].*?[\\s\\S].*?[s|:]?)(\\d{2}\\/\\d{2}\\/\\d{4}|\\d{2}[\\s\\S]\\w+[\\s\\S]\\w+[\\s\\S]\\w+[\\s\\S]\\d{4}|\\w{2}[\\s\\S]\\w+[\\s\\S]\\w+[\\s\\S]\\w+[\\s\\S]\\d{4}|[\\s\\S](\\d{2}\\.\\d{2}\\.\\d{4})|\\w{2}\\/\\d{2}\\/\\d{4})\"\n",
    "        \n",
    "        expression = r\"[A|a][S|s][S|s][I|i][N|n][A|a][T|t][U|u][R|r][A|a][\\s\\S].+?(\\d{2}\\/\\d{2}\\/\\d{4}|\\d{2}[\\s\\S]\\w+[\\s\\S]\\w+[\\s\\S]\\w+[\\s\\S]\\d{4}|\\w{2}[\\s\\S]\\w+[\\s\\S]\\w+[\\s\\S]\\w+[\\s\\S]\\d{4}|[\\s\\S](\\d{2}\\.\\d{2}\\.\\d{4})|\\w{2}/\\d{2}\\/\\d{4})\"\n",
    "\n",
    "        match = re.finditer(expression, str(doc))\n",
    "        if match:\n",
    "            for grupo in match:\n",
    "                flag = 0\n",
    "                for token in doc:\n",
    "                    if grupo.span(1)[0]+1 in range(token.idx, (token.idx+len(token))+1) and flag == 0:\n",
    "                        if(doc[token.i].text == ':'):\n",
    "                            start = doc[token.i+1]\n",
    "                        else:\n",
    "                            start = token\n",
    "                        flag = 1\n",
    "                    if token.idx >= grupo.span(1)[1] and flag == 1 and token.i > start.i:\n",
    "                        if(doc[token.i-1].text in ['.', '-', '—', ':']):\n",
    "                            end = doc[token.i-1]\n",
    "                        else:\n",
    "                            end = token\n",
    "                        yield start.i, end.i, \"data_escrito\"\n",
    "                        break  \n",
    "        \n",
    "        expression = r\"[B|b][R|r][A|a][S|s][I|i|Í|í][L|l][I|i][A|a][\\/][D|d][F|f][\\s\\S].+?(\\d{2}\\/\\d{2}\\/\\d{4}|\\d{2}[\\s\\S]\\w+[\\s\\S]\\w+[\\s\\S]\\w+[\\s\\S]\\d{4}|\\w{2}[\\s\\S]\\w+[\\s\\S]\\w+[\\s\\S]\\w+[\\s\\S]\\d{4}|[\\s\\S](\\d{2}\\.\\d{2}\\.\\d{4})|\\w{2}/\\d{2}\\/\\d{4})\"\n",
    "\n",
    "        match = re.finditer(expression, str(doc))\n",
    "        if match:\n",
    "            for grupo in match:\n",
    "                flag = 0\n",
    "                for token in doc:\n",
    "                    if grupo.span(1)[0]+1 in range(token.idx, (token.idx+len(token))+1) and flag == 0:\n",
    "                        if(doc[token.i].text == ':'):\n",
    "                            start = doc[token.i+1]\n",
    "                        else:\n",
    "                            start = token\n",
    "                        flag = 1\n",
    "                    if token.idx >= grupo.span(1)[1] and flag == 1 and token.i > start.i:\n",
    "                        if(doc[token.i-1].text in ['.', '-', '—', ':']):\n",
    "                            end = doc[token.i-1]\n",
    "                        else:\n",
    "                            end = token\n",
    "                        yield start.i, end.i, \"data_escrito\"\n",
    "                        break                \n",
    "        expression = r\"[D|d][A|a][T|t][A|a][\\s\\S].+?(\\d{2}\\/\\d{2}\\/\\d{4}|\\d{2}[\\s\\S]\\w+[\\s\\S]\\w+[\\s\\S]\\w+[\\s\\S]\\d{4}|\\w{2}[\\s\\S]\\w+[\\s\\S]\\w+[\\s\\S]\\w+[\\s\\S]\\d{4}|[\\s\\S](\\d{2}\\.\\d{2}\\.\\d{4})|\\w{2}/\\d{2}\\/\\d{4})\"\n",
    "\n",
    "        match = re.finditer(expression, str(doc))\n",
    "        if match:\n",
    "            for grupo in match:\n",
    "                flag = 0\n",
    "                for token in doc:\n",
    "                    if grupo.span(1)[0]+1 in range(token.idx, (token.idx+len(token))+1) and flag == 0:\n",
    "                        if(doc[token.i].text == ':'):\n",
    "                            start = doc[token.i+1]\n",
    "                        else:\n",
    "                            start = token\n",
    "                        flag = 1\n",
    "                    if token.idx >= grupo.span(1)[1] and flag == 1 and token.i > start.i:\n",
    "                        if(doc[token.i-1].text in ['.', '-', '—', ':']):\n",
    "                            end = doc[token.i-1]\n",
    "                        else:\n",
    "                            end = token\n",
    "                        yield start.i, end.i, \"data_escrito\"\n",
    "                        break                 \n",
    "''' \n",
    "     Aplica a label function para extracao do processo do ato de suspensão de licitação\n",
    "'''                    \n",
    "detec_processo = skweak.heuristics.FunctionAnnotator(\"detec_processo\", processo_)\n",
    "docs = list(detec_processo.pipe(docs))\n",
    "\n",
    "'''\n",
    "     Aplica a label function para extracao de modalidade de licitação do ato de suspensão de licitação\n",
    "'''                     \n",
    "detec_modalidade = skweak.heuristics.FunctionAnnotator(\"detec_modalidade\", modalidade_)\n",
    "docs = list(detec_modalidade.pipe(docs))\n",
    "\n",
    "'''\n",
    "     Aplica a label function para extracao do número de licitação do ato de suspensão de licitação \n",
    "'''                     \n",
    "detec_numero_licitacao = skweak.heuristics.FunctionAnnotator(\"detec_numero_licitacao\", numero_licitacao_)\n",
    "docs = list(detec_numero_licitacao.pipe(docs))\n",
    "\n",
    "\n",
    "detec_data = skweak.heuristics.FunctionAnnotator(\"detec_data\", data_assinatura_)\n",
    "docs = list(detec_data.pipe(docs))\n",
    "\n",
    "'''\n",
    "     Exibe o contrato com os rótulos gerados pelas Labels Functions\n",
    "'''                    \n",
    "all_fun = [\"detec_processo\",\"detec_modalidade\", \"detec_numero_licitacao\", \"detec_data\"]\n",
    "for i in range(len(docs)):\n",
    "    skweak.utils.display_entities(docs[i], all_fun)"
   ]
  },
  {
   "cell_type": "code",
   "execution_count": null,
   "metadata": {},
   "outputs": [],
   "source": []
  }
 ],
 "metadata": {
  "kernelspec": {
   "display_name": "Python 3.9.7 ('venv': venv)",
   "language": "python",
   "name": "python3"
  },
  "language_info": {
   "codemirror_mode": {
    "name": "ipython",
    "version": 3
   },
   "file_extension": ".py",
   "mimetype": "text/x-python",
   "name": "python",
   "nbconvert_exporter": "python",
   "pygments_lexer": "ipython3",
   "version": "3.9.7"
  },
  "orig_nbformat": 4,
  "vscode": {
   "interpreter": {
    "hash": "96baed6db0003f61f4a930eafeae8ace7abdbffdf58b8c787c6463efd11f449a"
   }
  }
 },
 "nbformat": 4,
 "nbformat_minor": 2
}
