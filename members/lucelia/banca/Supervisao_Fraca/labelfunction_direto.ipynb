{
 "cells": [
  {
   "cell_type": "markdown",
   "metadata": {},
   "source": [
    "# Código para aplicação das LB direto no dado para rotulação"
   ]
  },
  {
   "cell_type": "markdown",
   "metadata": {},
   "source": [
    "## Preparando o test da base ouro para aplicar as labels functions"
   ]
  },
  {
   "cell_type": "code",
   "execution_count": 190,
   "metadata": {},
   "outputs": [],
   "source": [
    "import pandas as pd\n",
    "import nltk\n",
    "import scipy.stats\n",
    "import sklearn\n",
    "import sklearn_crfsuite\n",
    "from sklearn_crfsuite import metrics"
   ]
  },
  {
   "cell_type": "code",
   "execution_count": 191,
   "metadata": {},
   "outputs": [],
   "source": [
    "#apenas para testar o iob com spacy\n",
    "#cria um novo dataset com as 2000 primeiras linhas\n",
    "#csv_reader = pd.read_csv(\"/home/lucelia_vieira/Experimentos/ner/CSVs/REL_EXTRATO_CONTRATO_COMPLETO.csv\", nrows=200)"
   ]
  },
  {
   "cell_type": "code",
   "execution_count": 192,
   "metadata": {},
   "outputs": [],
   "source": [
    "#df = [\"EXTRATO DO CONTRATO No 11/2019 PROCESSO: 00390-00003006/2019-92. ESPECIE: Contrato de Aquisicao de Bens pelo Distrito Federal no 11/2019. PARTES: Secretaria de Estado de Desenvolvimento Urbano e Habitacao do Distrito Federal - SEDUH/DF e INDUSTRIA DE AGUA MINERAL IBIA LTDA. DO OBJETO: Aquisicao de agua potavel de mesa sem gas e garrafao retornavel, destinados ao atendimento desta pasta, conforme demais especiGcacoes e condicoes estabelecidas no Termo de Referencia Anexo I do Edital de Pregao Eletronico no 0058/2018 - SCG/SEPLAG, da Proposta da empresa INDUSTRIA DE AGUA MINERAL IBIA LTDA de 11/06/2018 e da Lei no 8.666, de 21 de junho de 1993, que passam a integrar o presente Termo. DO VALOR: R$ 11.661,00 (onze mil, seiscentos e sessenta e um reais) conforme Nota de Empenho no 2019NE00180, emitida em 18/07/2019. Dotacao Orcamentaria P.T 15.122.6001.8517.0131 - Natureza da Despesa: 3390.30 - Fonte de Recursos: 100. DO PRAZO DE VIGENCIA: O Contrato tera vigencia de 06 (seis) meses a contar do dia 07/08/2019. DATA DE ASSINATURA: 22/07/2019. SIGNATARIOS: Pelo Distrito Federal: Mateus Leandro de Oliveira, na qualidade de Secretario de Estado. Pela Contratada: Eduardo Barros de Queiroz Rodrigues, na qualidade de Socio Administrador.\", \"EXTRATO DO CONTRATO Nº 06/2021 Processo: 00139-00001275/2021-00. Partes: DF - ADMINISTRAÇÃO REGIONAL DO CRUZEIRO X COMERCIAL DE ALIMENTOS PARK SUL. Objeto: O presente contrato tem por objeto a contratação de empresa especializada na área de alimentação para confecção e fornecimento de 50 KG DE BOLO CONFEITADO TIPO ANIVERSÁRIO COM MASSA PÃO DE LÓ COM RECHEIO DE BABA DE MOÇA, BEIJINHO OU DOCE DE LEITE E COBERTURA DE CHANTILLY DECORADO COM ACABAMENTO, no evento de comemoração ao aniversário de 62 anos do Cruzeiro no dia 30/11/2021. Valor do Contrato: R$ 2.000,00 (Dois Mil Reais). Dotação orçamentária: Unidade Orçamentária: 190113. Programa de Trabalho: 13.392.6219.3678.0136 . Natureza da Despesa: 339039. Fonte de Recursos: 120. Nota de Empenho: 2021NE00259. Valor do Empenho Inicial: R$ 2.000,00 (Dois Mil Reais), emitida em 26/11/2021 sob o evento 400091, na Modalidade 1   Ordinário. Fundamento Legal: Art. 24 da Lei nº 8.666/1993. Data da Assinatura: 29/11/2021. Signatários: Pelo DISTRITO FEDERAL: LUIZ EDUARDO GOMES DE PAULA PESSOA, na qualidade de Administrador Regional do Cruzeiro; pela COMERCIAL DE ALIMENTOS PARK SUL: GIVANILDES DE AGUIAR MORAIS, na qualidade de Gerente Geral.\"] "
   ]
  },
  {
   "cell_type": "code",
   "execution_count": 193,
   "metadata": {},
   "outputs": [
    {
     "data": {
      "text/html": [
       "<div>\n",
       "<style scoped>\n",
       "    .dataframe tbody tr th:only-of-type {\n",
       "        vertical-align: middle;\n",
       "    }\n",
       "\n",
       "    .dataframe tbody tr th {\n",
       "        vertical-align: top;\n",
       "    }\n",
       "\n",
       "    .dataframe thead th {\n",
       "        text-align: right;\n",
       "    }\n",
       "</style>\n",
       "<table border=\"1\" class=\"dataframe\">\n",
       "  <thead>\n",
       "    <tr style=\"text-align: right;\">\n",
       "      <th></th>\n",
       "      <th>Unnamed: 0</th>\n",
       "      <th>Texto</th>\n",
       "    </tr>\n",
       "  </thead>\n",
       "  <tbody>\n",
       "    <tr>\n",
       "      <th>0</th>\n",
       "      <td>0</td>\n",
       "      <td>AVISO DE LICITAÇÃO PREGÃO ELETRÔNICO Nº 56/202...</td>\n",
       "    </tr>\n",
       "    <tr>\n",
       "      <th>1</th>\n",
       "      <td>1</td>\n",
       "      <td>AVISO DE LICITAÇÃO Procedimento Licitatório El...</td>\n",
       "    </tr>\n",
       "    <tr>\n",
       "      <th>2</th>\n",
       "      <td>2</td>\n",
       "      <td>AVISO DE LICITAÇÃO PREGÃO ELETRÔNICO SRP Nº 01...</td>\n",
       "    </tr>\n",
       "    <tr>\n",
       "      <th>3</th>\n",
       "      <td>3</td>\n",
       "      <td>AVISO DE ABERTURA DE LICITAÇÃO SISTEMA DE REGI...</td>\n",
       "    </tr>\n",
       "    <tr>\n",
       "      <th>4</th>\n",
       "      <td>4</td>\n",
       "      <td>AVISO DE LICITAÇÃO PREGÃO ELETRÔNICO Nº 53/202...</td>\n",
       "    </tr>\n",
       "    <tr>\n",
       "      <th>...</th>\n",
       "      <td>...</td>\n",
       "      <td>...</td>\n",
       "    </tr>\n",
       "    <tr>\n",
       "      <th>123</th>\n",
       "      <td>123</td>\n",
       "      <td>AVISO DE RETIFICAÇÃO ( * ) CONCORRÊNCIA Nº 003...</td>\n",
       "    </tr>\n",
       "    <tr>\n",
       "      <th>124</th>\n",
       "      <td>124</td>\n",
       "      <td>AVISO CONCORRÊNCIA Nº 02/2022 Processo : 00113...</td>\n",
       "    </tr>\n",
       "    <tr>\n",
       "      <th>125</th>\n",
       "      <td>125</td>\n",
       "      <td>AVISO DE LICITAÇÃO PREGÃO ELETRÔNICO Nº 07/202...</td>\n",
       "    </tr>\n",
       "    <tr>\n",
       "      <th>126</th>\n",
       "      <td>126</td>\n",
       "      <td>AVISO DE LICITAÇÃO - CONCORRÊNCIA Nº 03/2022 A...</td>\n",
       "    </tr>\n",
       "    <tr>\n",
       "      <th>127</th>\n",
       "      <td>127</td>\n",
       "      <td>AVISO DE RETOMADA DA LICITAÇÃO Concorrência nº...</td>\n",
       "    </tr>\n",
       "  </tbody>\n",
       "</table>\n",
       "<p>128 rows × 2 columns</p>\n",
       "</div>"
      ],
      "text/plain": [
       "    Unnamed: 0                                              Texto\n",
       "0            0  AVISO DE LICITAÇÃO PREGÃO ELETRÔNICO Nº 56/202...\n",
       "1            1  AVISO DE LICITAÇÃO Procedimento Licitatório El...\n",
       "2            2  AVISO DE LICITAÇÃO PREGÃO ELETRÔNICO SRP Nº 01...\n",
       "3            3  AVISO DE ABERTURA DE LICITAÇÃO SISTEMA DE REGI...\n",
       "4            4  AVISO DE LICITAÇÃO PREGÃO ELETRÔNICO Nº 53/202...\n",
       "..         ...                                                ...\n",
       "123        123  AVISO DE RETIFICAÇÃO ( * ) CONCORRÊNCIA Nº 003...\n",
       "124        124  AVISO CONCORRÊNCIA Nº 02/2022 Processo : 00113...\n",
       "125        125  AVISO DE LICITAÇÃO PREGÃO ELETRÔNICO Nº 07/202...\n",
       "126        126  AVISO DE LICITAÇÃO - CONCORRÊNCIA Nº 03/2022 A...\n",
       "127        127  AVISO DE RETOMADA DA LICITAÇÃO Concorrência nº...\n",
       "\n",
       "[128 rows x 2 columns]"
      ]
     },
     "execution_count": 193,
     "metadata": {},
     "output_type": "execute_result"
    }
   ],
   "source": [
    "#Carrega o dataset de teste para aplicacao das LB\n",
    "#data = pd.read_csv('./CSVs/V1/Suspensao_Licitacao_Split_0_x_test_texto.csv', dtype=str)\n",
    "#data = pd.read_csv('./CSVs/V1/Aditamento_Contrato_Split_0_x_test_texto.csv', dtype=str)\n",
    "#data = pd.read_csv('./CSVs/V1/Anul_Revog_Licitacao_Split_0_x_test_texto.csv', dtype=str)\n",
    "data = pd.read_csv('./CSVs/V1/Aviso_Licitacao_Split_0_x_test_texto.csv', dtype=str)\n",
    "\n",
    "data"
   ]
  },
  {
   "cell_type": "code",
   "execution_count": 194,
   "metadata": {},
   "outputs": [
    {
     "data": {
      "text/plain": [
       "0      AVISO DE LICITAÇÃO PREGÃO ELETRÔNICO Nº 56/202...\n",
       "1      AVISO DE LICITAÇÃO Procedimento Licitatório El...\n",
       "2      AVISO DE LICITAÇÃO PREGÃO ELETRÔNICO SRP Nº 01...\n",
       "3      AVISO DE ABERTURA DE LICITAÇÃO SISTEMA DE REGI...\n",
       "4      AVISO DE LICITAÇÃO PREGÃO ELETRÔNICO Nº 53/202...\n",
       "                             ...                        \n",
       "123    AVISO DE RETIFICAÇÃO ( * ) CONCORRÊNCIA Nº 003...\n",
       "124    AVISO CONCORRÊNCIA Nº 02/2022 Processo : 00113...\n",
       "125    AVISO DE LICITAÇÃO PREGÃO ELETRÔNICO Nº 07/202...\n",
       "126    AVISO DE LICITAÇÃO - CONCORRÊNCIA Nº 03/2022 A...\n",
       "127    AVISO DE RETOMADA DA LICITAÇÃO Concorrência nº...\n",
       "Name: Texto, Length: 128, dtype: object"
      ]
     },
     "execution_count": 194,
     "metadata": {},
     "output_type": "execute_result"
    }
   ],
   "source": [
    "#criando novo dataframe somente com os textos\n",
    "df1 = data['Texto'].reset_index(drop=True)\n",
    "#df1 = data['texto'].reset_index(drop=True)\n",
    "df1"
   ]
  },
  {
   "cell_type": "code",
   "execution_count": 195,
   "metadata": {},
   "outputs": [],
   "source": [
    "#len(df_sk)"
   ]
  },
  {
   "cell_type": "code",
   "execution_count": 196,
   "metadata": {},
   "outputs": [
    {
     "name": "stderr",
     "output_type": "stream",
     "text": [
      "/Users/lucelia/Documents/GitHub/experiments/members/lucelia/venv/lib/python3.9/site-packages/spacy/language.py:1895: UserWarning: [W123] Argument disable with value ['ner', 'lemmatizer'] is used instead of ['senter'] as specified in the config. Be aware that this might affect other components in your pipeline.\n",
      "  warnings.warn(\n"
     ]
    },
    {
     "name": "stdout",
     "output_type": "stream",
     "text": [
      "Starting iteration 1\n",
      "Finished E-step with 128 documents\n",
      "Starting iteration 2\n"
     ]
    },
    {
     "name": "stderr",
     "output_type": "stream",
     "text": [
      "         1       -3312.9298             +nan\n"
     ]
    },
    {
     "name": "stdout",
     "output_type": "stream",
     "text": [
      "Finished E-step with 128 documents\n",
      "Starting iteration 3\n"
     ]
    },
    {
     "name": "stderr",
     "output_type": "stream",
     "text": [
      "         2       -3144.6159        +168.3139\n"
     ]
    },
    {
     "name": "stdout",
     "output_type": "stream",
     "text": [
      "Finished E-step with 128 documents\n",
      "Starting iteration 4\n"
     ]
    },
    {
     "name": "stderr",
     "output_type": "stream",
     "text": [
      "         3       -3142.5704          +2.0455\n"
     ]
    },
    {
     "name": "stdout",
     "output_type": "stream",
     "text": [
      "Finished E-step with 128 documents\n"
     ]
    },
    {
     "name": "stderr",
     "output_type": "stream",
     "text": [
      "         4       -3142.0425          +0.5279\n"
     ]
    },
    {
     "name": "stdout",
     "output_type": "stream",
     "text": [
      "Write to ./data/aviso_licitacao.spacy...done\n"
     ]
    }
   ],
   "source": [
    "# CODIGO DE APLICACAO DA SUPERVISAO FRACA\n",
    "#Para rodar extrato de contrato descomente abaixo as duas linhas\n",
    "#import dodfSkweak_v1_2\n",
    "#skw = dodfSkweak_v1_2.SkweakContratos(df1)\n",
    "\n",
    "#Para rodar aditamento de contrato descomente abaixo as duas linhas\n",
    "#import dodfSkweak_Aditamento\n",
    "#skw = dodfSkweak_Aditamento.SkweakAditamento(df1)\n",
    "\n",
    "#Para rodar Suspensao descomente abaixo as duas linhas\n",
    "#import dodfSkweak_Suspensao\n",
    "#skw = dodfSkweak_Suspensao.SkweakSuspensao(df1)\n",
    "\n",
    "\n",
    "#Para rodar Anulacao e Revogação\n",
    "#import dodfSkweak_Anul_Revog\n",
    "#skw = dodfSkweak_Anul_Revog.SkweakAnulRevog(df1)\n",
    "\n",
    "#Para rodar Aviso Licitação\n",
    "import dodfSkweak_Aviso_Licitacao\n",
    "skw = dodfSkweak_Aviso_Licitacao.SkweakAvisoLicitacao(df1)\n",
    "\n",
    "skw.apply_label_functions()\n",
    "skw.train_HMM_Dodf()"
   ]
  },
  {
   "cell_type": "code",
   "execution_count": 197,
   "metadata": {},
   "outputs": [
    {
     "name": "stdout",
     "output_type": "stream",
     "text": [
      "[PREGÃO ELETRÔNICO, 56/2021, 0011300005906/ 2021-95, 26.833,33]\n"
     ]
    }
   ],
   "source": [
    "skw.list_spans_specific(0)"
   ]
  },
  {
   "cell_type": "code",
   "execution_count": 198,
   "metadata": {},
   "outputs": [],
   "source": [
    "#skw.list_spans_all()"
   ]
  },
  {
   "cell_type": "code",
   "execution_count": 199,
   "metadata": {},
   "outputs": [
    {
     "data": {
      "text/html": [
       "<div>\n",
       "<style scoped>\n",
       "    .dataframe tbody tr th:only-of-type {\n",
       "        vertical-align: middle;\n",
       "    }\n",
       "\n",
       "    .dataframe tbody tr th {\n",
       "        vertical-align: top;\n",
       "    }\n",
       "\n",
       "    .dataframe thead th {\n",
       "        text-align: right;\n",
       "    }\n",
       "</style>\n",
       "<table border=\"1\" class=\"dataframe\">\n",
       "  <thead>\n",
       "    <tr style=\"text-align: right;\">\n",
       "      <th></th>\n",
       "      <th>processo_gdf</th>\n",
       "      <th>modalidade_licitacao</th>\n",
       "      <th>numero_licitacao</th>\n",
       "      <th>valor_estimado_contratacao</th>\n",
       "      <th>text</th>\n",
       "      <th>labels</th>\n",
       "    </tr>\n",
       "  </thead>\n",
       "  <tbody>\n",
       "    <tr>\n",
       "      <th>0</th>\n",
       "      <td>0011300005906/ 2021-95</td>\n",
       "      <td>PREGÃO ELETRÔNICO</td>\n",
       "      <td>56/2021</td>\n",
       "      <td>26.833,33</td>\n",
       "      <td>AVISO DE LICITAÇÃO PREGÃO ELETRÔNICO Nº 56/202...</td>\n",
       "      <td>O O O B-modalidade_licitacao I-modalidade_lici...</td>\n",
       "    </tr>\n",
       "    <tr>\n",
       "      <th>1</th>\n",
       "      <td>00112-00012660/ 2021-36</td>\n",
       "      <td></td>\n",
       "      <td></td>\n",
       "      <td>511.074,77</td>\n",
       "      <td>AVISO DE LICITAÇÃO Procedimento Licitatório El...</td>\n",
       "      <td>O O O O O O O O O O O O O O O O O O O O O O O ...</td>\n",
       "    </tr>\n",
       "    <tr>\n",
       "      <th>2</th>\n",
       "      <td>00390-00000127/ 2020-16</td>\n",
       "      <td>PREGÃO ELETRÔNICO</td>\n",
       "      <td>01/2021</td>\n",
       "      <td>187.916,36</td>\n",
       "      <td>AVISO DE LICITAÇÃO PREGÃO ELETRÔNICO SRP Nº 01...</td>\n",
       "      <td>O O O B-modalidade_licitacao I-modalidade_lici...</td>\n",
       "    </tr>\n",
       "    <tr>\n",
       "      <th>3</th>\n",
       "      <td>00401-00003779/ 2021-44</td>\n",
       "      <td>PREGÃO ELETRÔNICO</td>\n",
       "      <td>08/2021</td>\n",
       "      <td></td>\n",
       "      <td>AVISO DE ABERTURA DE LICITAÇÃO SISTEMA DE REGI...</td>\n",
       "      <td>O O O O O O O O O O B-modalidade_licitacao I-m...</td>\n",
       "    </tr>\n",
       "    <tr>\n",
       "      <th>4</th>\n",
       "      <td>0004000033884/ 2020-91</td>\n",
       "      <td>PREGÃO ELETRÔNICO</td>\n",
       "      <td>53/2021</td>\n",
       "      <td>33.140.640,08</td>\n",
       "      <td>AVISO DE LICITAÇÃO PREGÃO ELETRÔNICO Nº 53/202...</td>\n",
       "      <td>O O O B-modalidade_licitacao I-modalidade_lici...</td>\n",
       "    </tr>\n",
       "    <tr>\n",
       "      <th>...</th>\n",
       "      <td>...</td>\n",
       "      <td>...</td>\n",
       "      <td>...</td>\n",
       "      <td>...</td>\n",
       "      <td>...</td>\n",
       "      <td>...</td>\n",
       "    </tr>\n",
       "    <tr>\n",
       "      <th>123</th>\n",
       "      <td>00113-00002946/ 2022-66</td>\n",
       "      <td></td>\n",
       "      <td>003/2022</td>\n",
       "      <td>5.257.461,51</td>\n",
       "      <td>AVISO DE RETIFICAÇÃO ( * ) CONCORRÊNCIA Nº 003...</td>\n",
       "      <td>O O O O O O O O B-numero_licitacao O O B-proce...</td>\n",
       "    </tr>\n",
       "    <tr>\n",
       "      <th>124</th>\n",
       "      <td>00113-00003425/ 2021-45</td>\n",
       "      <td></td>\n",
       "      <td>002/2022</td>\n",
       "      <td>5.899.518,69</td>\n",
       "      <td>AVISO CONCORRÊNCIA Nº 02/2022 Processo : 00113...</td>\n",
       "      <td>O O O B-numero_licitacao O O B-processo_gdf I-...</td>\n",
       "    </tr>\n",
       "    <tr>\n",
       "      <th>125</th>\n",
       "      <td>24</td>\n",
       "      <td>PREGÃO ELETRÔNICO</td>\n",
       "      <td>07/2022</td>\n",
       "      <td>70.000,00</td>\n",
       "      <td>AVISO DE LICITAÇÃO PREGÃO ELETRÔNICO Nº 07/202...</td>\n",
       "      <td>O O O B-modalidade_licitacao I-modalidade_lici...</td>\n",
       "    </tr>\n",
       "    <tr>\n",
       "      <th>126</th>\n",
       "      <td>00090-00001679/ 2022-42</td>\n",
       "      <td></td>\n",
       "      <td>03/2022</td>\n",
       "      <td></td>\n",
       "      <td>AVISO DE LICITAÇÃO - CONCORRÊNCIA Nº 03/2022 A...</td>\n",
       "      <td>O O O O O O B-numero_licitacao O O O O O O O O...</td>\n",
       "    </tr>\n",
       "    <tr>\n",
       "      <th>127</th>\n",
       "      <td>00110- 00002366/</td>\n",
       "      <td></td>\n",
       "      <td>09/2021</td>\n",
       "      <td>51.518.031,96</td>\n",
       "      <td>AVISO DE RETOMADA DA LICITAÇÃO Concorrência nº...</td>\n",
       "      <td>O O O O O O O B-numero_licitacao O O O O O O O...</td>\n",
       "    </tr>\n",
       "  </tbody>\n",
       "</table>\n",
       "<p>128 rows × 6 columns</p>\n",
       "</div>"
      ],
      "text/plain": [
       "                processo_gdf modalidade_licitacao numero_licitacao  \\\n",
       "0     0011300005906/ 2021-95    PREGÃO ELETRÔNICO          56/2021   \n",
       "1    00112-00012660/ 2021-36                                         \n",
       "2    00390-00000127/ 2020-16    PREGÃO ELETRÔNICO          01/2021   \n",
       "3    00401-00003779/ 2021-44    PREGÃO ELETRÔNICO          08/2021   \n",
       "4     0004000033884/ 2020-91    PREGÃO ELETRÔNICO          53/2021   \n",
       "..                       ...                  ...              ...   \n",
       "123  00113-00002946/ 2022-66                              003/2022   \n",
       "124  00113-00003425/ 2021-45                              002/2022   \n",
       "125                       24    PREGÃO ELETRÔNICO          07/2022   \n",
       "126  00090-00001679/ 2022-42                               03/2022   \n",
       "127         00110- 00002366/                               09/2021   \n",
       "\n",
       "    valor_estimado_contratacao  \\\n",
       "0                    26.833,33   \n",
       "1                   511.074,77   \n",
       "2                   187.916,36   \n",
       "3                                \n",
       "4                33.140.640,08   \n",
       "..                         ...   \n",
       "123               5.257.461,51   \n",
       "124               5.899.518,69   \n",
       "125                  70.000,00   \n",
       "126                              \n",
       "127              51.518.031,96   \n",
       "\n",
       "                                                  text  \\\n",
       "0    AVISO DE LICITAÇÃO PREGÃO ELETRÔNICO Nº 56/202...   \n",
       "1    AVISO DE LICITAÇÃO Procedimento Licitatório El...   \n",
       "2    AVISO DE LICITAÇÃO PREGÃO ELETRÔNICO SRP Nº 01...   \n",
       "3    AVISO DE ABERTURA DE LICITAÇÃO SISTEMA DE REGI...   \n",
       "4    AVISO DE LICITAÇÃO PREGÃO ELETRÔNICO Nº 53/202...   \n",
       "..                                                 ...   \n",
       "123  AVISO DE RETIFICAÇÃO ( * ) CONCORRÊNCIA Nº 003...   \n",
       "124  AVISO CONCORRÊNCIA Nº 02/2022 Processo : 00113...   \n",
       "125  AVISO DE LICITAÇÃO PREGÃO ELETRÔNICO Nº 07/202...   \n",
       "126  AVISO DE LICITAÇÃO - CONCORRÊNCIA Nº 03/2022 A...   \n",
       "127  AVISO DE RETOMADA DA LICITAÇÃO Concorrência nº...   \n",
       "\n",
       "                                                labels  \n",
       "0    O O O B-modalidade_licitacao I-modalidade_lici...  \n",
       "1    O O O O O O O O O O O O O O O O O O O O O O O ...  \n",
       "2    O O O B-modalidade_licitacao I-modalidade_lici...  \n",
       "3    O O O O O O O O O O B-modalidade_licitacao I-m...  \n",
       "4    O O O B-modalidade_licitacao I-modalidade_lici...  \n",
       "..                                                 ...  \n",
       "123  O O O O O O O O B-numero_licitacao O O B-proce...  \n",
       "124  O O O B-numero_licitacao O O B-processo_gdf I-...  \n",
       "125  O O O B-modalidade_licitacao I-modalidade_lici...  \n",
       "126  O O O O O O B-numero_licitacao O O O O O O O O...  \n",
       "127  O O O O O O O B-numero_licitacao O O O O O O O...  \n",
       "\n",
       "[128 rows x 6 columns]"
      ]
     },
     "execution_count": 199,
     "metadata": {},
     "output_type": "execute_result"
    }
   ],
   "source": [
    "data_label=skw.get_hmm_dataframe()\n",
    "data_label"
   ]
  },
  {
   "cell_type": "code",
   "execution_count": 200,
   "metadata": {},
   "outputs": [],
   "source": [
    "# converting to CSV file\n",
    "#data_label.to_csv(\"./CSVs/ANUL_REVOG_SUPERVISÃO_FRACA_TESTE.csv\")"
   ]
  },
  {
   "cell_type": "code",
   "execution_count": 201,
   "metadata": {},
   "outputs": [],
   "source": [
    "corpus = skw.get_IOB()"
   ]
  },
  {
   "cell_type": "code",
   "execution_count": 202,
   "metadata": {},
   "outputs": [
    {
     "data": {
      "text/plain": [
       "128"
      ]
     },
     "execution_count": 202,
     "metadata": {},
     "output_type": "execute_result"
    }
   ],
   "source": [
    "len(corpus)"
   ]
  },
  {
   "cell_type": "code",
   "execution_count": 203,
   "metadata": {},
   "outputs": [],
   "source": [
    "termos_skweak = []\n",
    "debug=set()\n",
    "labels_skweak = []\n",
    "for ato in corpus:\n",
    "    x = []\n",
    "    y = []\n",
    "    for termo in ato:\n",
    "        termo_label = termo.split()\n",
    "        x.append(termo_label[0])\n",
    "        y.append(termo_label[1])\n",
    "        debug.add(termo_label[1])\n",
    "    termos_skweak.append(x)\n",
    "    labels_skweak.append(y)\n"
   ]
  },
  {
   "cell_type": "code",
   "execution_count": 204,
   "metadata": {},
   "outputs": [
    {
     "data": {
      "text/plain": [
       "{'B-modalidade_licitacao',\n",
       " 'B-numero_licitacao',\n",
       " 'B-processo_gdf',\n",
       " 'B-valor_estimado_contratacao',\n",
       " 'I-modalidade_licitacao',\n",
       " 'I-processo_gdf',\n",
       " 'O'}"
      ]
     },
     "execution_count": 204,
     "metadata": {},
     "output_type": "execute_result"
    }
   ],
   "source": [
    "debug"
   ]
  },
  {
   "cell_type": "code",
   "execution_count": 205,
   "metadata": {},
   "outputs": [
    {
     "data": {
      "text/plain": [
       "128"
      ]
     },
     "execution_count": 205,
     "metadata": {},
     "output_type": "execute_result"
    }
   ],
   "source": [
    "len(termos_skweak)"
   ]
  },
  {
   "cell_type": "code",
   "execution_count": 206,
   "metadata": {},
   "outputs": [
    {
     "data": {
      "text/plain": [
       "21669"
      ]
     },
     "execution_count": 206,
     "metadata": {},
     "output_type": "execute_result"
    }
   ],
   "source": [
    "termos_skweak_list = []\n",
    "for i in termos_skweak:\n",
    "   if not isinstance(i, list):\n",
    "      termos_skweak_list .append(i)\n",
    "   else:\n",
    "      for j in i:\n",
    "       termos_skweak_list .append(j)\n",
    "\n",
    "len(termos_skweak_list )"
   ]
  },
  {
   "cell_type": "code",
   "execution_count": 207,
   "metadata": {},
   "outputs": [],
   "source": [
    "#termos_skweak_list"
   ]
  },
  {
   "cell_type": "code",
   "execution_count": 208,
   "metadata": {},
   "outputs": [],
   "source": [
    "#apenas para conferencia\n",
    "#df = pd.DataFrame(termos_skweak_list, columns=['Texto']) \n",
    "#df.to_csv('/home/lucelia_vieira/Experimentos/ner/CSVs/termos_skweak_list.csv')"
   ]
  },
  {
   "cell_type": "code",
   "execution_count": 209,
   "metadata": {},
   "outputs": [
    {
     "data": {
      "text/plain": [
       "21669"
      ]
     },
     "execution_count": 209,
     "metadata": {},
     "output_type": "execute_result"
    }
   ],
   "source": [
    "labels_skweak_list = []\n",
    "for i in labels_skweak:\n",
    "   if not isinstance(i, list):\n",
    "      labels_skweak_list.append(i)\n",
    "   else:\n",
    "      for j in i:\n",
    "        labels_skweak_list.append(j)\n",
    "\n",
    "len(labels_skweak_list)"
   ]
  },
  {
   "cell_type": "markdown",
   "metadata": {},
   "source": [
    "## Preparando o test da base ouro para fazer a validação"
   ]
  },
  {
   "cell_type": "code",
   "execution_count": 210,
   "metadata": {},
   "outputs": [],
   "source": [
    "#Carrega o dataset de teste da base ouro para aplicar a validação\n",
    "#df_gold_ato= pd.read_csv('./CSVs/Extrato_Contrato_Split_1_x_test.csv', dtype=str)\n",
    "#df_gold_ato"
   ]
  },
  {
   "cell_type": "code",
   "execution_count": 211,
   "metadata": {},
   "outputs": [],
   "source": [
    "#Carrega os atos do dataset de teste da base ouro\n",
    "#https://pt.stackoverflow.com/questions/232208/ler-uma-lista-de-listas-em-txt-python-3\n",
    "import pickle\n",
    "#Suspensao\n",
    "#with open(\"./CSVs/V1/Suspensao_Licitacao_Split_0_x_test.txt\", \"rb\") as file:\n",
    "#Anul e Revog\n",
    "#with open(\"./CSVs/V1/Anul_Revog_Licitacao_Split_0_x_test.txt\", \"rb\") as file: \n",
    "#Aviso Licitacao\n",
    "with open(\"./CSVs/V1/Aviso_Licitacao_Split_0_x_test.txt\", \"rb\") as file: \n",
    "       \n",
    "    x_test = pickle.load(file)"
   ]
  },
  {
   "cell_type": "code",
   "execution_count": 212,
   "metadata": {},
   "outputs": [
    {
     "data": {
      "text/plain": [
       "21669"
      ]
     },
     "execution_count": 212,
     "metadata": {},
     "output_type": "execute_result"
    }
   ],
   "source": [
    "# Retira uma nível da lista dos atos do dataset de teste da base ouro\n",
    "x_test_list = []\n",
    "for i in x_test:\n",
    "   if not isinstance(i, list):\n",
    "      x_test_list.append(i)\n",
    "   else:\n",
    "      for j in i:\n",
    "        x_test_list.append(j)\n",
    "\n",
    "len(x_test_list)"
   ]
  },
  {
   "cell_type": "code",
   "execution_count": 213,
   "metadata": {},
   "outputs": [],
   "source": [
    "#Carrega os labels do dataset de teste da base ouro (Lista dentro de lista)\n",
    "import pickle\n",
    "#Suspensao\n",
    "#with open(\"./CSVs/V1/Suspensao_Licitacao_Split_0_y_test.txt\", \"rb\") as file:\n",
    "#Anul e Revog\n",
    "#with open(\"./CSVs/V1/Anul_Revog_Licitacao_Split_0_y_test.txt\", \"rb\") as file:\n",
    "#Aviso Licitacao\n",
    "with open(\"./CSVs/V1/Aviso_Licitacao_Split_0_y_test.txt\", \"rb\") as file:    \n",
    "    y_test = pickle.load(file)"
   ]
  },
  {
   "cell_type": "code",
   "execution_count": 214,
   "metadata": {},
   "outputs": [
    {
     "data": {
      "text/plain": [
       "21669"
      ]
     },
     "execution_count": 214,
     "metadata": {},
     "output_type": "execute_result"
    }
   ],
   "source": [
    "#  Retira uma nível da lista dos labels do dataset de teste da base ouro\n",
    "\n",
    "y_test_list = []\n",
    "for i in y_test:\n",
    "   if not isinstance(i, list):\n",
    "      y_test_list.append(i)\n",
    "   else:\n",
    "      for j in i:\n",
    "       y_test_list.append(j)\n",
    "\n",
    "len(y_test_list)"
   ]
  },
  {
   "cell_type": "code",
   "execution_count": 215,
   "metadata": {},
   "outputs": [
    {
     "data": {
      "text/plain": [
       "21669"
      ]
     },
     "execution_count": 215,
     "metadata": {},
     "output_type": "execute_result"
    }
   ],
   "source": [
    "len(termos_skweak_list)"
   ]
  },
  {
   "cell_type": "code",
   "execution_count": 216,
   "metadata": {},
   "outputs": [],
   "source": [
    "#Apenas checa se os tokens estão batento\n",
    "resultados = []\n",
    "for sk_ato , gold_ato in zip(termos_skweak_list, x_test_list):\n",
    "    tupla=(sk_ato , gold_ato) \n",
    "    resultados.append(tupla)\n",
    "    if sk_ato != gold_ato:\n",
    "        print(sk_ato, gold_ato)\n",
    "\n",
    "#for item in resultados:\n",
    "#    print(item)\n"
   ]
  },
  {
   "cell_type": "code",
   "execution_count": 217,
   "metadata": {},
   "outputs": [
    {
     "data": {
      "text/plain": [
       "' #labels_skweak = labels\\nnumero_contrato = 0\\nnumero_contrato_total = 0\\nB_numero_contrato = 0\\nnumero_contrato_gold=[]\\nobj_sk=[]\\n\\n\\ndata_assinatura_contrato = 0\\ndata_assinatura_contrato_total = 0\\nB_data_assinatura_contrato = 0\\ndata_assinatura_contrato_gold = []\\n\\nunidade_orcamentaria = 0\\nunidade_orcamentaria_total = 0\\nB_unidade_orcamentaria = 0\\nunidade_orcamentaria_gold = []\\nteste=[]\\n\\nprograma_trabalho = 0\\nprograma_trabalho_total = 0\\nB_programa_trabalho = 0\\nprograma_trabalho_gold = []\\n\\nfor ato_sk , label_sk, ato_gold, label_gold in zip(termos_skweak_list, labels_skweak_list,  gold_x_test_list, gold_y_test_list):    \\n    if label_gold == \"B-numero_contrato\":\\n           #print(\"Teste\")\\n        numero_contrato_total+=1\\n        B_numero_contrato=label_gold\\n        if label_gold == label_sk:\\n               numero_contrato+=1\\n        else:\\n            numero_contrato_gold.append(ato_gold)\\n\\n    elif label_gold == \"B-data_assinatura_contrato\":\\n                \\n        data_assinatura_contrato_total+=1\\n        B_data_assinatura_contrato=label_gold\\n        if label_gold == label_sk:\\n            data_assinatura_contrato+=1\\n        else:\\n            data_assinatura_contrato_gold.append(ato_gold)    \\n    elif label_gold == \"B-unidade_orcamentaria\":    \\n        unidade_orcamentaria_total+=1\\n        B_unidade_orcamentaria=label_gold\\n        if label_gold == label_sk:\\n            unidade_orcamentaria+=1        \\n        else:\\n            unidade_orcamentaria_gold.append(ato_gold) \\n                 \\n    elif label_gold == \"B-programa_trabalho\":      \\n        programa_trabalho_total+=1\\n        B_programa_trabalho=label_gold\\n        if label_gold == label_sk:\\n            programa_trabalho+=1\\n        else:\\n            programa_trabalho_gold.append(ato_gold)                \\nprint(\"Tipo da entidade             Total Entidade Gold                 Total Entidade Skweak\")                \\nprint(\"B-numero_contrato\",              \"   \",numero_contrato_total,         \"   \",numero_contrato)#,\"      \",\"       \",numero_contrato_gold)\\nprint(\"B-data_assinatura_contrato\",\" \",data_assinatura_contrato_total,\"   \",data_assinatura_contrato)#,\"      \",data_assinatura_contrato_gold)\\nprint(\"B-unidade_orcamentaria\",      \"  \",unidade_orcamentaria_total,    \"   \",unidade_orcamentaria)#,\"          \",unidade_orcamentaria_gold)\\nprint( \"B-programa_trabalho\",       \"  \",programa_trabalho_total,       \"   \",programa_trabalho)#,\"             \",programa_trabalho_gold)\\n\\n#print(programa_trabalho_gold)\\n#print(programa_trabalho_gold) '"
      ]
     },
     "execution_count": 217,
     "metadata": {},
     "output_type": "execute_result"
    }
   ],
   "source": [
    "''' #labels_skweak = labels\n",
    "numero_contrato = 0\n",
    "numero_contrato_total = 0\n",
    "B_numero_contrato = 0\n",
    "numero_contrato_gold=[]\n",
    "obj_sk=[]\n",
    "\n",
    "\n",
    "data_assinatura_contrato = 0\n",
    "data_assinatura_contrato_total = 0\n",
    "B_data_assinatura_contrato = 0\n",
    "data_assinatura_contrato_gold = []\n",
    "\n",
    "unidade_orcamentaria = 0\n",
    "unidade_orcamentaria_total = 0\n",
    "B_unidade_orcamentaria = 0\n",
    "unidade_orcamentaria_gold = []\n",
    "teste=[]\n",
    "\n",
    "programa_trabalho = 0\n",
    "programa_trabalho_total = 0\n",
    "B_programa_trabalho = 0\n",
    "programa_trabalho_gold = []\n",
    "\n",
    "for ato_sk , label_sk, ato_gold, label_gold in zip(termos_skweak_list, labels_skweak_list,  gold_x_test_list, gold_y_test_list):    \n",
    "    if label_gold == \"B-numero_contrato\":\n",
    "           #print(\"Teste\")\n",
    "        numero_contrato_total+=1\n",
    "        B_numero_contrato=label_gold\n",
    "        if label_gold == label_sk:\n",
    "               numero_contrato+=1\n",
    "        else:\n",
    "            numero_contrato_gold.append(ato_gold)\n",
    "\n",
    "    elif label_gold == \"B-data_assinatura_contrato\":\n",
    "                \n",
    "        data_assinatura_contrato_total+=1\n",
    "        B_data_assinatura_contrato=label_gold\n",
    "        if label_gold == label_sk:\n",
    "            data_assinatura_contrato+=1\n",
    "        else:\n",
    "            data_assinatura_contrato_gold.append(ato_gold)    \n",
    "    elif label_gold == \"B-unidade_orcamentaria\":    \n",
    "        unidade_orcamentaria_total+=1\n",
    "        B_unidade_orcamentaria=label_gold\n",
    "        if label_gold == label_sk:\n",
    "            unidade_orcamentaria+=1        \n",
    "        else:\n",
    "            unidade_orcamentaria_gold.append(ato_gold) \n",
    "                 \n",
    "    elif label_gold == \"B-programa_trabalho\":      \n",
    "        programa_trabalho_total+=1\n",
    "        B_programa_trabalho=label_gold\n",
    "        if label_gold == label_sk:\n",
    "            programa_trabalho+=1\n",
    "        else:\n",
    "            programa_trabalho_gold.append(ato_gold)                \n",
    "print(\"Tipo da entidade             Total Entidade Gold                 Total Entidade Skweak\")                \n",
    "print(\"B-numero_contrato\",              \"   \",numero_contrato_total,         \"   \",numero_contrato)#,\"      \",\"       \",numero_contrato_gold)\n",
    "print(\"B-data_assinatura_contrato\",\" \",data_assinatura_contrato_total,\"   \",data_assinatura_contrato)#,\"      \",data_assinatura_contrato_gold)\n",
    "print(\"B-unidade_orcamentaria\",      \"  \",unidade_orcamentaria_total,    \"   \",unidade_orcamentaria)#,\"          \",unidade_orcamentaria_gold)\n",
    "print( \"B-programa_trabalho\",       \"  \",programa_trabalho_total,       \"   \",programa_trabalho)#,\"             \",programa_trabalho_gold)\n",
    "\n",
    "#print(programa_trabalho_gold)\n",
    "#print(programa_trabalho_gold) '''"
   ]
  },
  {
   "cell_type": "code",
   "execution_count": 218,
   "metadata": {},
   "outputs": [
    {
     "name": "stdout",
     "output_type": "stream",
     "text": [
      "Tipo da entidade             Total Entidade Gold                 Total Entidade Skweak\n",
      "B-numero_contrato     0     0                []\n",
      "B-data_assinatura_contrato   0     0        []\n",
      "B-processo_gdf   121     121        []\n"
     ]
    }
   ],
   "source": [
    "#Compara os labels reais e os preditos para avalir a rotulação fraca\n",
    "\n",
    "#labels_skweak = labels\n",
    "numero_contrato = 0\n",
    "numero_contrato_total = 0\n",
    "B_numero_contrato = 0\n",
    "numero_contrato_gold=[]\n",
    "\n",
    "data_assinatura_contrato = 0\n",
    "data_assinatura_contrato_total = 0\n",
    "B_data_assinatura_contrato = 0\n",
    "data_assinatura_contrato_gold = []\n",
    "\n",
    "processo_gdf = 0\n",
    "processo_gdf_total = 0\n",
    "B_processo_gdf = 0\n",
    "processo_gdf_gold = []\n",
    "\n",
    "unidade_orcamentaria = 0\n",
    "unidade_orcamentaria_total = 0\n",
    "B_unidade_orcamentaria = 0\n",
    "unidade_orcamentaria_gold = []\n",
    "teste=[]\n",
    "\n",
    "programa_trabalho = 0\n",
    "programa_trabalho_total = 0\n",
    "B_programa_trabalho = 0\n",
    "programa_trabalho_gold = []\n",
    "\n",
    "#for text_sk, label_skweak, text_gold,  label_gold in zip(termos_skweak, labels_skweak, atos, labels):\n",
    "for ato_sk , label_sk, ato_gold, label_gold in zip(termos_skweak_list, labels_skweak_list,  x_test_list, y_test_list):  \n",
    "    #for text_skw, termo_skweak, text_ato, termo_gold in zip(text_sk, label_skweak, text_gold,  label_gold ):\n",
    "       \n",
    "       #print(\"termo swkeak\", termo_skweak) \n",
    "       if label_gold == \"B-numero_contrato\":\n",
    "           #print(\"Teste\")\n",
    "           numero_contrato_total+=1\n",
    "           B_numero_contrato=label_gold\n",
    "           if label_gold == label_sk:\n",
    "               numero_contrato+=1\n",
    "           else:\n",
    "               numero_contrato_gold.append(ato_gold)\n",
    "\n",
    "       elif label_gold == \"B-data_escrito\":    \n",
    "            data_assinatura_contrato_total+=1\n",
    "            B_data_assinatura_contrato=label_gold\n",
    "            if label_gold == label_sk:\n",
    "                data_assinatura_contrato+=1\n",
    "            else:\n",
    "                data_assinatura_contrato_gold.append(ato_gold)\n",
    "       \n",
    "       elif label_gold == \"B-processo_gdf\":        \n",
    "            processo_gdf_total+=1\n",
    "            B_processo_gdf=label_gold\n",
    "            if label_gold == label_sk:\n",
    "                processo_gdf+=1\n",
    "            else:\n",
    "                processo_gdf_gold.append(ato_gold)         \n",
    "                \n",
    "\n",
    "       elif label_gold == \"B-unidade_orcamentaria\":     \n",
    "            unidade_orcamentaria_total+=1\n",
    "            B_unidade_orcamentaria=label_gold\n",
    "            if label_gold == label_sk:\n",
    "                unidade_orcamentaria+=1\n",
    "                \n",
    "            else:\n",
    "                unidade_orcamentaria_gold.append(ato_gold) \n",
    "                 \n",
    "       elif label_gold == \"B-programa_trabalho\":  \n",
    "            programa_trabalho_total+=1\n",
    "            B_programa_trabalho=label_gold\n",
    "            if label_gold == label_sk:\n",
    "                programa_trabalho+=1\n",
    "            else:\n",
    "                programa_trabalho_gold.append(ato_gold)                \n",
    "print(\"Tipo da entidade             Total Entidade Gold                 Total Entidade Skweak\")                \n",
    "print(\"B-numero_contrato\",              \"   \",numero_contrato_total,         \"   \",numero_contrato,\"      \",\"       \",numero_contrato_gold)\n",
    "print(\"B-data_assinatura_contrato\",\" \",data_assinatura_contrato_total,\"   \",data_assinatura_contrato,\"      \",data_assinatura_contrato_gold)\n",
    "print(\"B-processo_gdf\",\" \", processo_gdf_total,\"   \",processo_gdf,\"      \",processo_gdf_gold)\n",
    "\n",
    "#print(\"B-unidade_orcamentaria\",      \"  \",unidade_orcamentaria_total,    \"   \",unidade_orcamentaria)#,\"          \",unidade_orcamentaria_gold)\n",
    "#print( \"B-programa_trabalho\",       \"  \",programa_trabalho_total,       \"   \",programa_trabalho)#,\"             \",programa_trabalho_gold)\n",
    "\n",
    "#print(programa_trabalho_gold)"
   ]
  },
  {
   "cell_type": "code",
   "execution_count": 219,
   "metadata": {},
   "outputs": [],
   "source": [
    "classes = ['B-numero_contrato',\n",
    " 'B-processo_gdf',\n",
    " 'I-processo_gdf',\n",
    " 'B-data_assinatura_contrato',\n",
    " 'I-numero_contrato',\n",
    " 'I-data_assinatura_contrato']"
   ]
  },
  {
   "cell_type": "code",
   "execution_count": 220,
   "metadata": {},
   "outputs": [
    {
     "data": {
      "text/plain": [
       "21669"
      ]
     },
     "execution_count": 220,
     "metadata": {},
     "output_type": "execute_result"
    }
   ],
   "source": [
    "len(labels_skweak_list)"
   ]
  },
  {
   "cell_type": "code",
   "execution_count": 221,
   "metadata": {},
   "outputs": [
    {
     "data": {
      "text/plain": [
       "['B-numero_contrato',\n",
       " 'B-processo_gdf',\n",
       " 'I-processo_gdf',\n",
       " 'B-data_assinatura_contrato',\n",
       " 'I-numero_contrato',\n",
       " 'I-data_assinatura_contrato']"
      ]
     },
     "execution_count": 221,
     "metadata": {},
     "output_type": "execute_result"
    }
   ],
   "source": [
    "classes"
   ]
  },
  {
   "cell_type": "code",
   "execution_count": 222,
   "metadata": {},
   "outputs": [
    {
     "name": "stderr",
     "output_type": "stream",
     "text": [
      "/Users/lucelia/Documents/GitHub/experiments/members/lucelia/venv/lib/python3.9/site-packages/sklearn/metrics/_classification.py:1599: UndefinedMetricWarning: F-score is ill-defined and being set to 0.0 in labels with no true nor predicted samples. Use `zero_division` parameter to control this behavior.\n",
      "  _warn_prf(average, \"true nor predicted\", \"F-score is\", len(true_sum))\n"
     ]
    },
    {
     "data": {
      "text/plain": [
       "0.9814536151051818"
      ]
     },
     "execution_count": 222,
     "metadata": {},
     "output_type": "execute_result"
    }
   ],
   "source": [
    "#Validação com sklearn\n",
    "metrics.flat_f1_score(y_test, labels_skweak, average='weighted', labels=classes)"
   ]
  },
  {
   "cell_type": "code",
   "execution_count": 223,
   "metadata": {},
   "outputs": [
    {
     "data": {
      "text/plain": [
       "0.35628298280362153"
      ]
     },
     "execution_count": 223,
     "metadata": {},
     "output_type": "execute_result"
    }
   ],
   "source": [
    "#Validação com seqeval\n",
    "from seqeval.metrics import f1_score\n",
    "f1_score(y_test, labels_skweak, average='weighted')"
   ]
  },
  {
   "cell_type": "code",
   "execution_count": 224,
   "metadata": {},
   "outputs": [
    {
     "name": "stdout",
     "output_type": "stream",
     "text": [
      "                                  precision    recall  f1-score   support\n",
      "\n",
      "codigo_licitacao_sistema_compras       0.00      0.00      0.00        91\n",
      "         data_abertura_licitacao       0.00      0.00      0.00       127\n",
      "            modalidade_licitacao       0.99      0.82      0.90       139\n",
      "                nome_responsavel       0.00      0.00      0.00       129\n",
      "                numero_licitacao       0.99      0.87      0.93       143\n",
      "                objeto_licitacao       0.00      0.00      0.00       111\n",
      "                 orgao_licitante       0.00      0.00      0.00       101\n",
      "                    processo_gdf       0.95      0.99      0.97       121\n",
      "                 sistema_compras       0.00      0.00      0.00       158\n",
      "                     tipo_objeto       0.00      0.00      0.00        31\n",
      "      valor_estimado_contratacao       0.97      0.86      0.91        98\n",
      "\n",
      "                       micro avg       0.98      0.35      0.52      1249\n",
      "                       macro avg       0.35      0.32      0.34      1249\n",
      "                    weighted avg       0.39      0.35      0.37      1249\n",
      "\n"
     ]
    },
    {
     "name": "stderr",
     "output_type": "stream",
     "text": [
      "/Users/lucelia/Documents/GitHub/experiments/members/lucelia/venv/lib/python3.9/site-packages/seqeval/metrics/v1.py:57: UndefinedMetricWarning: Precision and F-score are ill-defined and being set to 0.0 in labels with no predicted samples. Use `zero_division` parameter to control this behavior.\n",
      "  _warn_prf(average, modifier, msg_start, len(result))\n"
     ]
    }
   ],
   "source": [
    "# classification_report Seqeval\n",
    "import numpy as np\n",
    "from seqeval.metrics import classification_report\n",
    "from seqeval.scheme import IOB2\n",
    "\n",
    "report = classification_report(y_test, labels_skweak, output_dict=False, mode='strict', scheme=IOB2)\n",
    "print(report)\n",
    "np.save(\"./Results/V1/METRICA_AVISO_LICITACAO_DIRETO_0.npy\", report)"
   ]
  },
  {
   "cell_type": "code",
   "execution_count": 225,
   "metadata": {},
   "outputs": [
    {
     "ename": "NameError",
     "evalue": "name 'gold_y_test' is not defined",
     "output_type": "error",
     "traceback": [
      "\u001b[0;31m---------------------------------------------------------------------------\u001b[0m",
      "\u001b[0;31mNameError\u001b[0m                                 Traceback (most recent call last)",
      "Cell \u001b[0;32mIn [225], line 4\u001b[0m\n\u001b[1;32m      1\u001b[0m \u001b[39m#classification_report sklearn\u001b[39;00m\n\u001b[1;32m      2\u001b[0m report \u001b[39m=\u001b[39m metrics\u001b[39m.\u001b[39mflat_classification_report(\n\u001b[1;32m      3\u001b[0m     \u001b[39m#y_test[:200], y_pred[:200], labels=classes, digits=3))\u001b[39;00m\n\u001b[0;32m----> 4\u001b[0m    gold_y_test, labels_skweak, labels\u001b[39m=\u001b[39mclasses, digits\u001b[39m=\u001b[39m\u001b[39m3\u001b[39m, output_dict\u001b[39m=\u001b[39m\u001b[39mFalse\u001b[39;00m)\n\u001b[1;32m      5\u001b[0m \u001b[39mprint\u001b[39m(report)\n",
      "\u001b[0;31mNameError\u001b[0m: name 'gold_y_test' is not defined"
     ]
    }
   ],
   "source": [
    "#classification_report sklearn\n",
    "report = metrics.flat_classification_report(\n",
    "    #y_test[:200], y_pred[:200], labels=classes, digits=3))\n",
    "   gold_y_test, labels_skweak, labels=classes, digits=3, output_dict=False)\n",
    "print(report)"
   ]
  },
  {
   "cell_type": "code",
   "execution_count": null,
   "metadata": {},
   "outputs": [],
   "source": [
    "import numpy as np\n",
    "report = metrics.flat_classification_report(\n",
    "    #y_test[:200], y_pred[:200], labels=classes, digits=3))\n",
    "    gold_y_test, labels_skweak, labels=classes, digits=3, output_dict=True)\n",
    "print(report)\n",
    "np.save(\"./Results/METRICA_EXTRATO_CONTRATO_LB_DIRETO_V1_0.npy\", report)"
   ]
  }
 ],
 "metadata": {
  "kernelspec": {
   "display_name": "Python 3.9.7 ('venv': venv)",
   "language": "python",
   "name": "python3"
  },
  "language_info": {
   "codemirror_mode": {
    "name": "ipython",
    "version": 3
   },
   "file_extension": ".py",
   "mimetype": "text/x-python",
   "name": "python",
   "nbconvert_exporter": "python",
   "pygments_lexer": "ipython3",
   "version": "3.9.7"
  },
  "orig_nbformat": 4,
  "vscode": {
   "interpreter": {
    "hash": "96baed6db0003f61f4a930eafeae8ace7abdbffdf58b8c787c6463efd11f449a"
   }
  }
 },
 "nbformat": 4,
 "nbformat_minor": 2
}
