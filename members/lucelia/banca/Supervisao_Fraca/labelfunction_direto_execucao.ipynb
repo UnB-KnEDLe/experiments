{
 "cells": [
  {
   "cell_type": "markdown",
   "metadata": {},
   "source": [
    "# Código para aplicação das LB direto no dado para rotulação"
   ]
  },
  {
   "cell_type": "markdown",
   "metadata": {},
   "source": [
    "## Preparando o test da base ouro para aplicar as labels functions"
   ]
  },
  {
   "cell_type": "code",
   "execution_count": 298,
   "metadata": {},
   "outputs": [
    {
     "name": "stdout",
     "output_type": "stream",
     "text": [
      "The autoreload extension is already loaded. To reload it, use:\n",
      "  %reload_ext autoreload\n"
     ]
    }
   ],
   "source": [
    "%load_ext autoreload\n",
    "%autoreload 2"
   ]
  },
  {
   "cell_type": "markdown",
   "metadata": {},
   "source": []
  },
  {
   "cell_type": "code",
   "execution_count": 299,
   "metadata": {},
   "outputs": [],
   "source": [
    "import pandas as pd\n",
    "import nltk\n",
    "import scipy.stats\n",
    "import sklearn\n",
    "import sklearn_crfsuite\n",
    "from sklearn_crfsuite import metrics"
   ]
  },
  {
   "cell_type": "code",
   "execution_count": 300,
   "metadata": {},
   "outputs": [],
   "source": [
    "#apenas para testar o iob com spacy\n",
    "#cria um novo dataset com as 2000 primeiras linhas\n",
    "#csv_reader = pd.read_csv(\"/home/lucelia_vieira/Experimentos/ner/CSVs/REL_EXTRATO_CONTRATO_COMPLETO.csv\", nrows=200)"
   ]
  },
  {
   "cell_type": "code",
   "execution_count": 301,
   "metadata": {},
   "outputs": [],
   "source": [
    "#df = [\"EXTRATO DO CONTRATO No 11/2019 PROCESSO: 00390-00003006/2019-92. ESPECIE: Contrato de Aquisicao de Bens pelo Distrito Federal no 11/2019. PARTES: Secretaria de Estado de Desenvolvimento Urbano e Habitacao do Distrito Federal - SEDUH/DF e INDUSTRIA DE AGUA MINERAL IBIA LTDA. DO OBJETO: Aquisicao de agua potavel de mesa sem gas e garrafao retornavel, destinados ao atendimento desta pasta, conforme demais especiGcacoes e condicoes estabelecidas no Termo de Referencia Anexo I do Edital de Pregao Eletronico no 0058/2018 - SCG/SEPLAG, da Proposta da empresa INDUSTRIA DE AGUA MINERAL IBIA LTDA de 11/06/2018 e da Lei no 8.666, de 21 de junho de 1993, que passam a integrar o presente Termo. DO VALOR: R$ 11.661,00 (onze mil, seiscentos e sessenta e um reais) conforme Nota de Empenho no 2019NE00180, emitida em 18/07/2019. Dotacao Orcamentaria P.T 15.122.6001.8517.0131 - Natureza da Despesa: 3390.30 - Fonte de Recursos: 100. DO PRAZO DE VIGENCIA: O Contrato tera vigencia de 06 (seis) meses a contar do dia 07/08/2019. DATA DE ASSINATURA: 22/07/2019. SIGNATARIOS: Pelo Distrito Federal: Mateus Leandro de Oliveira, na qualidade de Secretario de Estado. Pela Contratada: Eduardo Barros de Queiroz Rodrigues, na qualidade de Socio Administrador.\", \"EXTRATO DO CONTRATO Nº 06/2021 Processo: 00139-00001275/2021-00. Partes: DF - ADMINISTRAÇÃO REGIONAL DO CRUZEIRO X COMERCIAL DE ALIMENTOS PARK SUL. Objeto: O presente contrato tem por objeto a contratação de empresa especializada na área de alimentação para confecção e fornecimento de 50 KG DE BOLO CONFEITADO TIPO ANIVERSÁRIO COM MASSA PÃO DE LÓ COM RECHEIO DE BABA DE MOÇA, BEIJINHO OU DOCE DE LEITE E COBERTURA DE CHANTILLY DECORADO COM ACABAMENTO, no evento de comemoração ao aniversário de 62 anos do Cruzeiro no dia 30/11/2021. Valor do Contrato: R$ 2.000,00 (Dois Mil Reais). Dotação orçamentária: Unidade Orçamentária: 190113. Programa de Trabalho: 13.392.6219.3678.0136 . Natureza da Despesa: 339039. Fonte de Recursos: 120. Nota de Empenho: 2021NE00259. Valor do Empenho Inicial: R$ 2.000,00 (Dois Mil Reais), emitida em 26/11/2021 sob o evento 400091, na Modalidade 1   Ordinário. Fundamento Legal: Art. 24 da Lei nº 8.666/1993. Data da Assinatura: 29/11/2021. Signatários: Pelo DISTRITO FEDERAL: LUIZ EDUARDO GOMES DE PAULA PESSOA, na qualidade de Administrador Regional do Cruzeiro; pela COMERCIAL DE ALIMENTOS PARK SUL: GIVANILDES DE AGUIAR MORAIS, na qualidade de Gerente Geral.\"] "
   ]
  },
  {
   "cell_type": "code",
   "execution_count": 302,
   "metadata": {},
   "outputs": [
    {
     "data": {
      "text/html": [
       "<div>\n",
       "<style scoped>\n",
       "    .dataframe tbody tr th:only-of-type {\n",
       "        vertical-align: middle;\n",
       "    }\n",
       "\n",
       "    .dataframe tbody tr th {\n",
       "        vertical-align: top;\n",
       "    }\n",
       "\n",
       "    .dataframe thead th {\n",
       "        text-align: right;\n",
       "    }\n",
       "</style>\n",
       "<table border=\"1\" class=\"dataframe\">\n",
       "  <thead>\n",
       "    <tr style=\"text-align: right;\">\n",
       "      <th></th>\n",
       "      <th>Unnamed: 0</th>\n",
       "      <th>Texto</th>\n",
       "    </tr>\n",
       "  </thead>\n",
       "  <tbody>\n",
       "    <tr>\n",
       "      <th>0</th>\n",
       "      <td>0</td>\n",
       "      <td>AVISO DE SUSPENSÃO DE LICITAÇÃO PREGÃO ELETRÔN...</td>\n",
       "    </tr>\n",
       "    <tr>\n",
       "      <th>1</th>\n",
       "      <td>1</td>\n",
       "      <td>AVISO DE SUSPENSÃO DO PREGÃO ELETRÔNICO SRP Nº...</td>\n",
       "    </tr>\n",
       "    <tr>\n",
       "      <th>2</th>\n",
       "      <td>2</td>\n",
       "      <td>AVISO DE SUSPENSAO PREGAO ELETRONICO No 481/20...</td>\n",
       "    </tr>\n",
       "    <tr>\n",
       "      <th>3</th>\n",
       "      <td>3</td>\n",
       "      <td>AVISO DE SUSPENSÃO DO PREGÃO ELETRÔNICO Nº 70/...</td>\n",
       "    </tr>\n",
       "    <tr>\n",
       "      <th>4</th>\n",
       "      <td>4</td>\n",
       "      <td>AVISO DE SUSPENSÃO Comunicamos aos interessado...</td>\n",
       "    </tr>\n",
       "    <tr>\n",
       "      <th>5</th>\n",
       "      <td>5</td>\n",
       "      <td>AVISO DE SUSPENSÃO DE LICITAÇÃO LIC SERVIÇOS C...</td>\n",
       "    </tr>\n",
       "    <tr>\n",
       "      <th>6</th>\n",
       "      <td>6</td>\n",
       "      <td>AVISO DE SUSPENSÃO PREGÃO ELETRÔNICO Nº 04/202...</td>\n",
       "    </tr>\n",
       "    <tr>\n",
       "      <th>7</th>\n",
       "      <td>7</td>\n",
       "      <td>AVISO DE SUSPENSAO PREGAO ELETRONICO No 24/201...</td>\n",
       "    </tr>\n",
       "    <tr>\n",
       "      <th>8</th>\n",
       "      <td>8</td>\n",
       "      <td>AVISO DE SUSPENSAO O Instituto do Cancer Infan...</td>\n",
       "    </tr>\n",
       "    <tr>\n",
       "      <th>9</th>\n",
       "      <td>9</td>\n",
       "      <td>AVISO DE SUSPENSÃO PREGÃO ELETRÔNICO POR SRP N...</td>\n",
       "    </tr>\n",
       "    <tr>\n",
       "      <th>10</th>\n",
       "      <td>10</td>\n",
       "      <td>AVISO DE SUSPENSÃO E NOVA DATA DO PREGÃO ELETR...</td>\n",
       "    </tr>\n",
       "    <tr>\n",
       "      <th>11</th>\n",
       "      <td>11</td>\n",
       "      <td>AVISO DE SUSPENSAO O Instituto do Cancer Infan...</td>\n",
       "    </tr>\n",
       "    <tr>\n",
       "      <th>12</th>\n",
       "      <td>12</td>\n",
       "      <td>AVISO DE SUSPENSAO PREGAO ELETRONICO INTERNACI...</td>\n",
       "    </tr>\n",
       "    <tr>\n",
       "      <th>13</th>\n",
       "      <td>13</td>\n",
       "      <td>AVISO DE SUSPENSÃO \" SINE DIE \" PREGÃO ELETRÔN...</td>\n",
       "    </tr>\n",
       "    <tr>\n",
       "      <th>14</th>\n",
       "      <td>14</td>\n",
       "      <td>AVISO DE SUSPENSÃO SINE DIE CONCORRÊNCIA Nº 01...</td>\n",
       "    </tr>\n",
       "    <tr>\n",
       "      <th>15</th>\n",
       "      <td>15</td>\n",
       "      <td>AVISO DE SUSPENSÃODE LICITAÇÃO PREGÃO ELETRÔNI...</td>\n",
       "    </tr>\n",
       "    <tr>\n",
       "      <th>16</th>\n",
       "      <td>16</td>\n",
       "      <td>AVISO DE SUSPENSÃO REGIME DIFERENCIADO DE CONT...</td>\n",
       "    </tr>\n",
       "  </tbody>\n",
       "</table>\n",
       "</div>"
      ],
      "text/plain": [
       "   Unnamed: 0                                              Texto\n",
       "0           0  AVISO DE SUSPENSÃO DE LICITAÇÃO PREGÃO ELETRÔN...\n",
       "1           1  AVISO DE SUSPENSÃO DO PREGÃO ELETRÔNICO SRP Nº...\n",
       "2           2  AVISO DE SUSPENSAO PREGAO ELETRONICO No 481/20...\n",
       "3           3  AVISO DE SUSPENSÃO DO PREGÃO ELETRÔNICO Nº 70/...\n",
       "4           4  AVISO DE SUSPENSÃO Comunicamos aos interessado...\n",
       "5           5  AVISO DE SUSPENSÃO DE LICITAÇÃO LIC SERVIÇOS C...\n",
       "6           6  AVISO DE SUSPENSÃO PREGÃO ELETRÔNICO Nº 04/202...\n",
       "7           7  AVISO DE SUSPENSAO PREGAO ELETRONICO No 24/201...\n",
       "8           8  AVISO DE SUSPENSAO O Instituto do Cancer Infan...\n",
       "9           9  AVISO DE SUSPENSÃO PREGÃO ELETRÔNICO POR SRP N...\n",
       "10         10  AVISO DE SUSPENSÃO E NOVA DATA DO PREGÃO ELETR...\n",
       "11         11  AVISO DE SUSPENSAO O Instituto do Cancer Infan...\n",
       "12         12  AVISO DE SUSPENSAO PREGAO ELETRONICO INTERNACI...\n",
       "13         13  AVISO DE SUSPENSÃO \" SINE DIE \" PREGÃO ELETRÔN...\n",
       "14         14  AVISO DE SUSPENSÃO SINE DIE CONCORRÊNCIA Nº 01...\n",
       "15         15  AVISO DE SUSPENSÃODE LICITAÇÃO PREGÃO ELETRÔNI...\n",
       "16         16  AVISO DE SUSPENSÃO REGIME DIFERENCIADO DE CONT..."
      ]
     },
     "execution_count": 302,
     "metadata": {},
     "output_type": "execute_result"
    }
   ],
   "source": [
    "#Carrega o dataset de teste para aplicacao das LB\n",
    "#data = pd.read_csv('./CSVs/V2/split/Extrato_Contrato_Split_4_x_test_texto.csv', dtype=str)\n",
    "data = pd.read_csv('./CSVs/V2/split/Suspensao_Licitação_Split_1_x_test_texto.csv', dtype=str)\n",
    "#data = pd.read_csv('./CSVs/V2/split/Aditamento_Contrato_Split_4_x_test_texto.csv', dtype=str)\n",
    "#data = pd.read_csv('./CSVs/V2/split/Anul_Revog_Licitacao_Split_0_x_test_texto.csv', dtype=str)\n",
    "#data = pd.read_csv('./CSVs/V2/split/Aviso_Licitacao_Split_0_x_test_texto.csv', dtype=str)\n",
    "#data = pd.read_csv('./CSVs/V2/split/Extrato_Convenio_Split_4_x_test_texto.csv', dtype=str)\n",
    "\n",
    "\n",
    "data"
   ]
  },
  {
   "cell_type": "code",
   "execution_count": 303,
   "metadata": {},
   "outputs": [
    {
     "data": {
      "text/plain": [
       "0     AVISO DE SUSPENSÃO DE LICITAÇÃO PREGÃO ELETRÔN...\n",
       "1     AVISO DE SUSPENSÃO DO PREGÃO ELETRÔNICO SRP Nº...\n",
       "2     AVISO DE SUSPENSAO PREGAO ELETRONICO No 481/20...\n",
       "3     AVISO DE SUSPENSÃO DO PREGÃO ELETRÔNICO Nº 70/...\n",
       "4     AVISO DE SUSPENSÃO Comunicamos aos interessado...\n",
       "5     AVISO DE SUSPENSÃO DE LICITAÇÃO LIC SERVIÇOS C...\n",
       "6     AVISO DE SUSPENSÃO PREGÃO ELETRÔNICO Nº 04/202...\n",
       "7     AVISO DE SUSPENSAO PREGAO ELETRONICO No 24/201...\n",
       "8     AVISO DE SUSPENSAO O Instituto do Cancer Infan...\n",
       "9     AVISO DE SUSPENSÃO PREGÃO ELETRÔNICO POR SRP N...\n",
       "10    AVISO DE SUSPENSÃO E NOVA DATA DO PREGÃO ELETR...\n",
       "11    AVISO DE SUSPENSAO O Instituto do Cancer Infan...\n",
       "12    AVISO DE SUSPENSAO PREGAO ELETRONICO INTERNACI...\n",
       "13    AVISO DE SUSPENSÃO \" SINE DIE \" PREGÃO ELETRÔN...\n",
       "14    AVISO DE SUSPENSÃO SINE DIE CONCORRÊNCIA Nº 01...\n",
       "15    AVISO DE SUSPENSÃODE LICITAÇÃO PREGÃO ELETRÔNI...\n",
       "16    AVISO DE SUSPENSÃO REGIME DIFERENCIADO DE CONT...\n",
       "Name: Texto, dtype: object"
      ]
     },
     "execution_count": 303,
     "metadata": {},
     "output_type": "execute_result"
    }
   ],
   "source": [
    "#criando novo dataframe somente com os textos\n",
    "df1 = data['Texto'].reset_index(drop=True)\n",
    "#df1 = data['texto'].reset_index(drop=True)\n",
    "df1"
   ]
  },
  {
   "cell_type": "code",
   "execution_count": 304,
   "metadata": {},
   "outputs": [],
   "source": [
    "#len(df_sk)"
   ]
  },
  {
   "cell_type": "code",
   "execution_count": 305,
   "metadata": {},
   "outputs": [
    {
     "name": "stderr",
     "output_type": "stream",
     "text": [
      "/Users/lucelia/Documents/GitHub/experiments/members/lucelia/venv/lib/python3.9/site-packages/spacy/language.py:1895: UserWarning: [W123] Argument disable with value ['ner', 'lemmatizer'] is used instead of ['senter'] as specified in the config. Be aware that this might affect other components in your pipeline.\n",
      "  warnings.warn(\n"
     ]
    },
    {
     "name": "stdout",
     "output_type": "stream",
     "text": [
      "Starting iteration 1\n",
      "Finished E-step with 14 documents\n",
      "Starting iteration 2\n"
     ]
    },
    {
     "name": "stderr",
     "output_type": "stream",
     "text": [
      "         1        -363.9500             +nan\n",
      "         2        -348.1939         +15.7561\n",
      "         3        -347.7491          +0.4448\n"
     ]
    },
    {
     "name": "stdout",
     "output_type": "stream",
     "text": [
      "Finished E-step with 14 documents\n",
      "Starting iteration 3\n",
      "Finished E-step with 14 documents\n",
      "Starting iteration 4\n",
      "Finished E-step with 14 documents\n"
     ]
    },
    {
     "name": "stderr",
     "output_type": "stream",
     "text": [
      "         4        -347.4032          +0.3459\n"
     ]
    },
    {
     "name": "stdout",
     "output_type": "stream",
     "text": [
      "\n",
      "\n",
      "doc.spans \n",
      "{'detec_processo': [00010.00001572/ 2021-10], 'processo_detector': [00010.00001572/ 2021-10], 'detec_modalidade': [PREGÃO ELETRÔNICO], 'detec_numero_licitacao': [37/2021], 'detec_processo_ml': [], 'detec_numero_licitacao_ml': [], 'hmm': [PREGÃO ELETRÔNICO, 00010.00001572/ 2021-10]}\n",
      "\n",
      "\n",
      "doc.ents \n",
      "(PREGÃO ELETRÔNICO, 00010.00001572/ 2021-10)\n",
      "\n",
      "\n",
      "doc.spans \n",
      "{'detec_processo': [00220-00005432/ 2021-82 (], 'processo_detector': [00220-00005432/ 2021-82], 'detec_modalidade': [PREGÃO ELETRÔNICO, CONCORRÊNCIA, PREGÃO ELETRÔNICO, Concorrência, PREGÃO ELETRÔNICO, Concorrência], 'detec_numero_licitacao': [001/2022, 001/2022, 001/2022], 'detec_processo_ml': [], 'detec_numero_licitacao_ml': [], 'hmm': [PREGÃO ELETRÔNICO, 00220-00005432/ 2021-82 (, PREGÃO ELETRÔNICO, PREGÃO ELETRÔNICO]}\n",
      "\n",
      "\n",
      "doc.ents \n",
      "(PREGÃO ELETRÔNICO, 00220-00005432/ 2021-82 (, PREGÃO ELETRÔNICO, PREGÃO ELETRÔNICO)\n",
      "\n",
      "\n",
      "doc.spans \n",
      "{'detec_processo': [], 'processo_detector': [], 'detec_modalidade': [PREGAO ELETRONICO], 'detec_numero_licitacao': [481/2018], 'detec_processo_ml': [], 'detec_numero_licitacao_ml': [], 'hmm': [PREGAO ELETRONICO]}\n",
      "\n",
      "\n",
      "doc.ents \n",
      "(PREGAO ELETRONICO,)\n",
      "\n",
      "\n",
      "doc.spans \n",
      "{'detec_processo': [1.047/2021], 'processo_detector': [1.047/2021], 'detec_modalidade': [PREGÃO ELETRÔNICO, Pregão Eletrônico], 'detec_numero_licitacao': [70/2021, 70/2021], 'detec_processo_ml': [], 'detec_numero_licitacao_ml': [], 'hmm': [PREGÃO ELETRÔNICO, Pregão Eletrônico, 1.047/2021]}\n",
      "\n",
      "\n",
      "doc.ents \n",
      "(PREGÃO ELETRÔNICO, Pregão Eletrônico, 1.047/2021)\n",
      "\n",
      "\n",
      "doc.spans \n",
      "{'detec_processo': [112-00022751/ 2020-07], 'processo_detector': [], 'detec_modalidade': [Pregão Eletrônico], 'detec_numero_licitacao': [09/2021], 'detec_processo_ml': [], 'detec_numero_licitacao_ml': [], 'hmm': [Pregão Eletrônico, 112-00022751/ 2020-07]}\n",
      "\n",
      "\n",
      "doc.ents \n",
      "(Pregão Eletrônico, 112-00022751/ 2020-07)\n",
      "\n",
      "\n",
      "doc.spans \n",
      "{'detec_processo': [], 'processo_detector': [], 'detec_modalidade': [], 'detec_numero_licitacao': [], 'detec_processo_ml': [], 'detec_numero_licitacao_ml': [], 'hmm': []}\n",
      "\n",
      "\n",
      "doc.ents \n",
      "()\n",
      "\n",
      "\n",
      "doc.spans \n",
      "{'detec_processo': [00055-00022429/ 2020-92], 'processo_detector': [00055-00022429/ 2020-92], 'detec_modalidade': [PREGÃO ELETRÔNICO], 'detec_numero_licitacao': [04/2021], 'detec_processo_ml': [], 'detec_numero_licitacao_ml': [], 'hmm': [PREGÃO ELETRÔNICO, 00055-00022429/ 2020-92]}\n",
      "\n",
      "\n",
      "doc.ents \n",
      "(PREGÃO ELETRÔNICO, 00055-00022429/ 2020-92)\n",
      "\n",
      "\n",
      "doc.spans \n",
      "{'detec_processo': [054.003.435/2017], 'processo_detector': [054.003.435/2017], 'detec_modalidade': [PREGAO ELETRONICO], 'detec_numero_licitacao': [24/2018], 'detec_processo_ml': [], 'detec_numero_licitacao_ml': [], 'hmm': [PREGAO ELETRONICO, 054.003.435/2017]}\n",
      "\n",
      "\n",
      "doc.ents \n",
      "(PREGAO ELETRONICO, 054.003.435/2017)\n",
      "\n",
      "\n",
      "doc.spans \n",
      "{'detec_processo': [], 'processo_detector': [], 'detec_modalidade': [], 'detec_numero_licitacao': [], 'detec_processo_ml': [], 'detec_numero_licitacao_ml': [], 'hmm': []}\n",
      "\n",
      "\n",
      "doc.ents \n",
      "()\n",
      "\n",
      "\n",
      "doc.spans \n",
      "{'detec_processo': [00060-00169477/ 2017-41 )], 'processo_detector': [00060-00169477/ 2017-41], 'detec_modalidade': [PREGÃO ELETRÔNICO], 'detec_numero_licitacao': [444/2021], 'detec_processo_ml': [], 'detec_numero_licitacao_ml': [], 'hmm': [PREGÃO ELETRÔNICO, 00060-00169477/ 2017-41 )]}\n",
      "\n",
      "\n",
      "doc.ents \n",
      "(PREGÃO ELETRÔNICO, 00060-00169477/ 2017-41 ))\n",
      "\n",
      "\n",
      "doc.spans \n",
      "{'detec_processo': [130/2022], 'processo_detector': [130/2022], 'detec_modalidade': [PREGÃO ELETRÔNICO], 'detec_numero_licitacao': [16/2022], 'detec_processo_ml': [], 'detec_numero_licitacao_ml': [], 'hmm': [PREGÃO ELETRÔNICO, 130/2022]}\n",
      "\n",
      "\n",
      "doc.ents \n",
      "(PREGÃO ELETRÔNICO, 130/2022)\n",
      "\n",
      "\n",
      "doc.spans \n",
      "{'detec_processo': [], 'processo_detector': [], 'detec_modalidade': [], 'detec_numero_licitacao': [], 'detec_processo_ml': [], 'detec_numero_licitacao_ml': [], 'hmm': []}\n",
      "\n",
      "\n",
      "doc.ents \n",
      "()\n",
      "\n",
      "\n",
      "doc.spans \n",
      "{'detec_processo': [00052-00010607/ 2019-83], 'processo_detector': [00052-00010607/ 2019-83], 'detec_modalidade': [PREGAO ELETRONICO], 'detec_numero_licitacao': [38/2019], 'detec_processo_ml': [], 'detec_numero_licitacao_ml': [], 'hmm': [PREGAO ELETRONICO, 00052-00010607/ 2019-83]}\n",
      "\n",
      "\n",
      "doc.ents \n",
      "(PREGAO ELETRONICO, 00052-00010607/ 2019-83)\n",
      "\n",
      "\n",
      "doc.spans \n",
      "{'detec_processo': [00392-00007567/ 2021-29], 'processo_detector': [], 'detec_modalidade': [PREGÃO ELETRÔNICO, Pregão Eletrônico], 'detec_numero_licitacao': [07/2021], 'detec_processo_ml': [], 'detec_numero_licitacao_ml': [], 'hmm': [PREGÃO ELETRÔNICO, Pregão Eletrônico, 00392-00007567/ 2021-29]}\n",
      "\n",
      "\n",
      "doc.ents \n",
      "(PREGÃO ELETRÔNICO, Pregão Eletrônico, 00392-00007567/ 2021-29)\n",
      "\n",
      "\n",
      "doc.spans \n",
      "{'detec_processo': [00094-00005189/ 2020-41], 'processo_detector': [00094-00005189/ 2020-41], 'detec_modalidade': [CONCORRÊNCIA, Concorrência], 'detec_numero_licitacao': [01/2022], 'detec_processo_ml': [], 'detec_numero_licitacao_ml': [], 'hmm': [00094-00005189/ 2020-41]}\n",
      "\n",
      "\n",
      "doc.ents \n",
      "(00094-00005189/ 2020-41,)\n",
      "\n",
      "\n",
      "doc.spans \n",
      "{'detec_processo': [00050-00000150/ 2021-70], 'processo_detector': [00050-00000150/ 2021-70], 'detec_modalidade': [PREGÃO ELETRÔNICO], 'detec_numero_licitacao': [38/2021], 'detec_processo_ml': [], 'detec_numero_licitacao_ml': [], 'hmm': [PREGÃO ELETRÔNICO, 00050-00000150/ 2021-70]}\n",
      "\n",
      "\n",
      "doc.ents \n",
      "(PREGÃO ELETRÔNICO, 00050-00000150/ 2021-70)\n",
      "\n",
      "\n",
      "doc.spans \n",
      "{'detec_processo': [00054-00116386/ 2020-33], 'processo_detector': [00054-00116386/ 2020-33], 'detec_modalidade': [], 'detec_numero_licitacao': [02/2021], 'detec_processo_ml': [], 'detec_numero_licitacao_ml': [], 'hmm': [00054-00116386/ 2020-33]}\n",
      "\n",
      "\n",
      "doc.ents \n",
      "(00054-00116386/ 2020-33,)\n",
      "Write to ./data/suspensao.spacy...done\n"
     ]
    }
   ],
   "source": [
    "# CODIGO DE APLICACAO DA SUPERVISAO FRACA\n",
    "#Para rodar extrato de contrato descomente abaixo as duas linhas\n",
    "#import dodfSkweak_Contrato\n",
    "#skw = dodfSkweak_Contrato.SkweakContratos(df1)\n",
    "\n",
    "#Para rodar aditamento de contrato descomente abaixo as duas linhas\n",
    "#import dodfSkweak_Aditamento_2\n",
    "#skw = dodfSkweak_Aditamento_2.SkweakAditamento(df1)\n",
    "\n",
    "#Para rodar Aviso Licitação\n",
    "#import dodfSkweak_Aviso_Licitacao\n",
    "#skw = dodfSkweak_Aviso_Licitacao.SkweakAvisoLicitacao(df1)\n",
    "\n",
    "#Para rodar Suspensao descomente abaixo as duas linhas\n",
    "import dodfSkweak_Suspensao_1\n",
    "skw = dodfSkweak_Suspensao_1.SkweakSuspensao(df1)\n",
    "\n",
    "#Para rodar Anulacao e Revogação\n",
    "#import dodfSkweak_Anul_Revog\n",
    "#skw = dodfSkweak_Anul_Revog.SkweakAnulRevog(df1)\n",
    "\n",
    "#Para rodar Convenio\n",
    "#import dodfSkweak_Convenio_1\n",
    "#skw = dodfSkweak_Convenio_1.SkweakConvenio(df1)\n",
    "\n",
    "skw.apply_label_functions()\n",
    "skw.train_HMM_Dodf()"
   ]
  },
  {
   "cell_type": "code",
   "execution_count": 306,
   "metadata": {},
   "outputs": [
    {
     "name": "stdout",
     "output_type": "stream",
     "text": [
      "[PREGÃO ELETRÔNICO, 00010.00001572/ 2021-10]\n"
     ]
    }
   ],
   "source": [
    "skw.list_spans_specific(0)"
   ]
  },
  {
   "cell_type": "code",
   "execution_count": 307,
   "metadata": {},
   "outputs": [],
   "source": [
    "#skw.list_spans_all()"
   ]
  },
  {
   "cell_type": "code",
   "execution_count": 308,
   "metadata": {},
   "outputs": [
    {
     "data": {
      "text/html": [
       "<div>\n",
       "<style scoped>\n",
       "    .dataframe tbody tr th:only-of-type {\n",
       "        vertical-align: middle;\n",
       "    }\n",
       "\n",
       "    .dataframe tbody tr th {\n",
       "        vertical-align: top;\n",
       "    }\n",
       "\n",
       "    .dataframe thead th {\n",
       "        text-align: right;\n",
       "    }\n",
       "</style>\n",
       "<table border=\"1\" class=\"dataframe\">\n",
       "  <thead>\n",
       "    <tr style=\"text-align: right;\">\n",
       "      <th></th>\n",
       "      <th>processo_gdf</th>\n",
       "      <th>modalidade_licitacao</th>\n",
       "      <th>numero_licitacao</th>\n",
       "      <th>text</th>\n",
       "      <th>labels</th>\n",
       "    </tr>\n",
       "  </thead>\n",
       "  <tbody>\n",
       "    <tr>\n",
       "      <th>0</th>\n",
       "      <td>00010.00001572/ 2021-10</td>\n",
       "      <td>PREGÃO ELETRÔNICO</td>\n",
       "      <td></td>\n",
       "      <td>AVISO DE SUSPENSÃO DE LICITAÇÃO PREGÃO ELETRÔN...</td>\n",
       "      <td>O O O O O B-modalidade_licitacao I-modalidade_...</td>\n",
       "    </tr>\n",
       "    <tr>\n",
       "      <th>1</th>\n",
       "      <td>00220-00005432/ 2021-82 (</td>\n",
       "      <td>PREGÃO ELETRÔNICO</td>\n",
       "      <td></td>\n",
       "      <td>AVISO DE SUSPENSÃO DO PREGÃO ELETRÔNICO SRP Nº...</td>\n",
       "      <td>O O O O B-modalidade_licitacao I-modalidade_li...</td>\n",
       "    </tr>\n",
       "    <tr>\n",
       "      <th>2</th>\n",
       "      <td></td>\n",
       "      <td>PREGAO ELETRONICO</td>\n",
       "      <td></td>\n",
       "      <td>AVISO DE SUSPENSAO PREGAO ELETRONICO No 481/20...</td>\n",
       "      <td>O O O B-modalidade_licitacao I-modalidade_lici...</td>\n",
       "    </tr>\n",
       "    <tr>\n",
       "      <th>3</th>\n",
       "      <td>1.047/2021</td>\n",
       "      <td>Pregão Eletrônico</td>\n",
       "      <td></td>\n",
       "      <td>AVISO DE SUSPENSÃO DO PREGÃO ELETRÔNICO Nº 70/...</td>\n",
       "      <td>O O O O B-modalidade_licitacao I-modalidade_li...</td>\n",
       "    </tr>\n",
       "    <tr>\n",
       "      <th>4</th>\n",
       "      <td>112-00022751/ 2020-07</td>\n",
       "      <td>Pregão Eletrônico</td>\n",
       "      <td></td>\n",
       "      <td>AVISO DE SUSPENSÃO Comunicamos aos interessado...</td>\n",
       "      <td>O O O O O O O B-modalidade_licitacao I-modalid...</td>\n",
       "    </tr>\n",
       "    <tr>\n",
       "      <th>5</th>\n",
       "      <td></td>\n",
       "      <td></td>\n",
       "      <td></td>\n",
       "      <td>AVISO DE SUSPENSÃO DE LICITAÇÃO LIC SERVIÇOS C...</td>\n",
       "      <td>O O O O O O O O O O O O O O O O O O O O O O O ...</td>\n",
       "    </tr>\n",
       "    <tr>\n",
       "      <th>6</th>\n",
       "      <td>00055-00022429/ 2020-92</td>\n",
       "      <td>PREGÃO ELETRÔNICO</td>\n",
       "      <td></td>\n",
       "      <td>AVISO DE SUSPENSÃO PREGÃO ELETRÔNICO Nº 04/202...</td>\n",
       "      <td>O O O B-modalidade_licitacao I-modalidade_lici...</td>\n",
       "    </tr>\n",
       "    <tr>\n",
       "      <th>7</th>\n",
       "      <td>054.003.435/2017</td>\n",
       "      <td>PREGAO ELETRONICO</td>\n",
       "      <td></td>\n",
       "      <td>AVISO DE SUSPENSAO PREGAO ELETRONICO No 24/201...</td>\n",
       "      <td>O O O B-modalidade_licitacao I-modalidade_lici...</td>\n",
       "    </tr>\n",
       "    <tr>\n",
       "      <th>8</th>\n",
       "      <td></td>\n",
       "      <td></td>\n",
       "      <td></td>\n",
       "      <td>AVISO DE SUSPENSAO O Instituto do Cancer Infan...</td>\n",
       "      <td>O O O O O O O O O O O O O O O O O O O O O O O ...</td>\n",
       "    </tr>\n",
       "    <tr>\n",
       "      <th>9</th>\n",
       "      <td>00060-00169477/ 2017-41 )</td>\n",
       "      <td>PREGÃO ELETRÔNICO</td>\n",
       "      <td></td>\n",
       "      <td>AVISO DE SUSPENSÃO PREGÃO ELETRÔNICO POR SRP N...</td>\n",
       "      <td>O O O B-modalidade_licitacao I-modalidade_lici...</td>\n",
       "    </tr>\n",
       "    <tr>\n",
       "      <th>10</th>\n",
       "      <td>130/2022</td>\n",
       "      <td>PREGÃO ELETRÔNICO</td>\n",
       "      <td></td>\n",
       "      <td>AVISO DE SUSPENSÃO E NOVA DATA DO PREGÃO ELETR...</td>\n",
       "      <td>O O O O O O O B-modalidade_licitacao I-modalid...</td>\n",
       "    </tr>\n",
       "    <tr>\n",
       "      <th>11</th>\n",
       "      <td></td>\n",
       "      <td></td>\n",
       "      <td></td>\n",
       "      <td>AVISO DE SUSPENSAO O Instituto do Cancer Infan...</td>\n",
       "      <td>O O O O O O O O O O O O O O O O O O O O O O O ...</td>\n",
       "    </tr>\n",
       "    <tr>\n",
       "      <th>12</th>\n",
       "      <td>00052-00010607/ 2019-83</td>\n",
       "      <td>PREGAO ELETRONICO</td>\n",
       "      <td></td>\n",
       "      <td>AVISO DE SUSPENSAO PREGAO ELETRONICO INTERNACI...</td>\n",
       "      <td>O O O B-modalidade_licitacao I-modalidade_lici...</td>\n",
       "    </tr>\n",
       "    <tr>\n",
       "      <th>13</th>\n",
       "      <td>00392-00007567/ 2021-29</td>\n",
       "      <td>Pregão Eletrônico</td>\n",
       "      <td></td>\n",
       "      <td>AVISO DE SUSPENSÃO \" SINE DIE \" PREGÃO ELETRÔN...</td>\n",
       "      <td>O O O O O O O B-modalidade_licitacao I-modalid...</td>\n",
       "    </tr>\n",
       "    <tr>\n",
       "      <th>14</th>\n",
       "      <td>00094-00005189/ 2020-41</td>\n",
       "      <td></td>\n",
       "      <td></td>\n",
       "      <td>AVISO DE SUSPENSÃO SINE DIE CONCORRÊNCIA Nº 01...</td>\n",
       "      <td>O O O O O O O O O O B-processo_gdf I-processo_...</td>\n",
       "    </tr>\n",
       "    <tr>\n",
       "      <th>15</th>\n",
       "      <td>00050-00000150/ 2021-70</td>\n",
       "      <td>PREGÃO ELETRÔNICO</td>\n",
       "      <td></td>\n",
       "      <td>AVISO DE SUSPENSÃODE LICITAÇÃO PREGÃO ELETRÔNI...</td>\n",
       "      <td>O O O O B-modalidade_licitacao I-modalidade_li...</td>\n",
       "    </tr>\n",
       "    <tr>\n",
       "      <th>16</th>\n",
       "      <td>00054-00116386/ 2020-33</td>\n",
       "      <td></td>\n",
       "      <td></td>\n",
       "      <td>AVISO DE SUSPENSÃO REGIME DIFERENCIADO DE CONT...</td>\n",
       "      <td>O O O O O O O O O O O O O B-processo_gdf I-pro...</td>\n",
       "    </tr>\n",
       "  </tbody>\n",
       "</table>\n",
       "</div>"
      ],
      "text/plain": [
       "                 processo_gdf modalidade_licitacao numero_licitacao  \\\n",
       "0     00010.00001572/ 2021-10    PREGÃO ELETRÔNICO                    \n",
       "1   00220-00005432/ 2021-82 (    PREGÃO ELETRÔNICO                    \n",
       "2                                PREGAO ELETRONICO                    \n",
       "3                  1.047/2021    Pregão Eletrônico                    \n",
       "4       112-00022751/ 2020-07    Pregão Eletrônico                    \n",
       "5                                                                     \n",
       "6     00055-00022429/ 2020-92    PREGÃO ELETRÔNICO                    \n",
       "7            054.003.435/2017    PREGAO ELETRONICO                    \n",
       "8                                                                     \n",
       "9   00060-00169477/ 2017-41 )    PREGÃO ELETRÔNICO                    \n",
       "10                   130/2022    PREGÃO ELETRÔNICO                    \n",
       "11                                                                    \n",
       "12    00052-00010607/ 2019-83    PREGAO ELETRONICO                    \n",
       "13    00392-00007567/ 2021-29    Pregão Eletrônico                    \n",
       "14    00094-00005189/ 2020-41                                         \n",
       "15    00050-00000150/ 2021-70    PREGÃO ELETRÔNICO                    \n",
       "16    00054-00116386/ 2020-33                                         \n",
       "\n",
       "                                                 text  \\\n",
       "0   AVISO DE SUSPENSÃO DE LICITAÇÃO PREGÃO ELETRÔN...   \n",
       "1   AVISO DE SUSPENSÃO DO PREGÃO ELETRÔNICO SRP Nº...   \n",
       "2   AVISO DE SUSPENSAO PREGAO ELETRONICO No 481/20...   \n",
       "3   AVISO DE SUSPENSÃO DO PREGÃO ELETRÔNICO Nº 70/...   \n",
       "4   AVISO DE SUSPENSÃO Comunicamos aos interessado...   \n",
       "5   AVISO DE SUSPENSÃO DE LICITAÇÃO LIC SERVIÇOS C...   \n",
       "6   AVISO DE SUSPENSÃO PREGÃO ELETRÔNICO Nº 04/202...   \n",
       "7   AVISO DE SUSPENSAO PREGAO ELETRONICO No 24/201...   \n",
       "8   AVISO DE SUSPENSAO O Instituto do Cancer Infan...   \n",
       "9   AVISO DE SUSPENSÃO PREGÃO ELETRÔNICO POR SRP N...   \n",
       "10  AVISO DE SUSPENSÃO E NOVA DATA DO PREGÃO ELETR...   \n",
       "11  AVISO DE SUSPENSAO O Instituto do Cancer Infan...   \n",
       "12  AVISO DE SUSPENSAO PREGAO ELETRONICO INTERNACI...   \n",
       "13  AVISO DE SUSPENSÃO \" SINE DIE \" PREGÃO ELETRÔN...   \n",
       "14  AVISO DE SUSPENSÃO SINE DIE CONCORRÊNCIA Nº 01...   \n",
       "15  AVISO DE SUSPENSÃODE LICITAÇÃO PREGÃO ELETRÔNI...   \n",
       "16  AVISO DE SUSPENSÃO REGIME DIFERENCIADO DE CONT...   \n",
       "\n",
       "                                               labels  \n",
       "0   O O O O O B-modalidade_licitacao I-modalidade_...  \n",
       "1   O O O O B-modalidade_licitacao I-modalidade_li...  \n",
       "2   O O O B-modalidade_licitacao I-modalidade_lici...  \n",
       "3   O O O O B-modalidade_licitacao I-modalidade_li...  \n",
       "4   O O O O O O O B-modalidade_licitacao I-modalid...  \n",
       "5   O O O O O O O O O O O O O O O O O O O O O O O ...  \n",
       "6   O O O B-modalidade_licitacao I-modalidade_lici...  \n",
       "7   O O O B-modalidade_licitacao I-modalidade_lici...  \n",
       "8   O O O O O O O O O O O O O O O O O O O O O O O ...  \n",
       "9   O O O B-modalidade_licitacao I-modalidade_lici...  \n",
       "10  O O O O O O O B-modalidade_licitacao I-modalid...  \n",
       "11  O O O O O O O O O O O O O O O O O O O O O O O ...  \n",
       "12  O O O B-modalidade_licitacao I-modalidade_lici...  \n",
       "13  O O O O O O O B-modalidade_licitacao I-modalid...  \n",
       "14  O O O O O O O O O O B-processo_gdf I-processo_...  \n",
       "15  O O O O B-modalidade_licitacao I-modalidade_li...  \n",
       "16  O O O O O O O O O O O O O B-processo_gdf I-pro...  "
      ]
     },
     "execution_count": 308,
     "metadata": {},
     "output_type": "execute_result"
    }
   ],
   "source": [
    "data_label=skw.get_hmm_dataframe()\n",
    "data_label"
   ]
  },
  {
   "cell_type": "code",
   "execution_count": 309,
   "metadata": {},
   "outputs": [],
   "source": [
    "# converting to CSV file\n",
    "#data_label.to_csv(\"./CSVs/ANUL_REVOG_SUPERVISÃO_FRACA_TESTE.csv\")"
   ]
  },
  {
   "cell_type": "code",
   "execution_count": 310,
   "metadata": {},
   "outputs": [],
   "source": [
    "corpus = skw.get_IOB()"
   ]
  },
  {
   "cell_type": "code",
   "execution_count": 311,
   "metadata": {},
   "outputs": [
    {
     "data": {
      "text/plain": [
       "17"
      ]
     },
     "execution_count": 311,
     "metadata": {},
     "output_type": "execute_result"
    }
   ],
   "source": [
    "len(corpus)"
   ]
  },
  {
   "cell_type": "code",
   "execution_count": 312,
   "metadata": {},
   "outputs": [],
   "source": [
    "termos_skweak = []\n",
    "debug=set()\n",
    "labels_skweak = []\n",
    "for ato in corpus:\n",
    "    x = []\n",
    "    y = []\n",
    "    for termo in ato:\n",
    "        termo_label = termo.split()\n",
    "        x.append(termo_label[0])\n",
    "        y.append(termo_label[1])\n",
    "        debug.add(termo_label[1])\n",
    "    termos_skweak.append(x)\n",
    "    labels_skweak.append(y)\n"
   ]
  },
  {
   "cell_type": "code",
   "execution_count": 313,
   "metadata": {},
   "outputs": [
    {
     "data": {
      "text/plain": [
       "{'B-modalidade_licitacao',\n",
       " 'B-processo_gdf',\n",
       " 'I-modalidade_licitacao',\n",
       " 'I-processo_gdf',\n",
       " 'O'}"
      ]
     },
     "execution_count": 313,
     "metadata": {},
     "output_type": "execute_result"
    }
   ],
   "source": [
    "debug"
   ]
  },
  {
   "cell_type": "code",
   "execution_count": 314,
   "metadata": {},
   "outputs": [
    {
     "data": {
      "text/plain": [
       "17"
      ]
     },
     "execution_count": 314,
     "metadata": {},
     "output_type": "execute_result"
    }
   ],
   "source": [
    "len(termos_skweak)"
   ]
  },
  {
   "cell_type": "code",
   "execution_count": 315,
   "metadata": {},
   "outputs": [
    {
     "data": {
      "text/plain": [
       "2244"
      ]
     },
     "execution_count": 315,
     "metadata": {},
     "output_type": "execute_result"
    }
   ],
   "source": [
    "termos_skweak_list = []\n",
    "for i in termos_skweak:\n",
    "   if not isinstance(i, list):\n",
    "      termos_skweak_list .append(i)\n",
    "   else:\n",
    "      for j in i:\n",
    "       termos_skweak_list .append(j)\n",
    "\n",
    "len(termos_skweak_list )"
   ]
  },
  {
   "cell_type": "code",
   "execution_count": 316,
   "metadata": {},
   "outputs": [],
   "source": [
    "#termos_skweak_list"
   ]
  },
  {
   "cell_type": "code",
   "execution_count": 317,
   "metadata": {},
   "outputs": [],
   "source": [
    "#apenas para conferencia\n",
    "#df = pd.DataFrame(termos_skweak_list, columns=['Texto']) \n",
    "#df.to_csv('/home/lucelia_vieira/Experimentos/ner/CSVs/termos_skweak_list.csv')"
   ]
  },
  {
   "cell_type": "code",
   "execution_count": 318,
   "metadata": {},
   "outputs": [
    {
     "data": {
      "text/plain": [
       "2244"
      ]
     },
     "execution_count": 318,
     "metadata": {},
     "output_type": "execute_result"
    }
   ],
   "source": [
    "labels_skweak_list = []\n",
    "for i in labels_skweak:\n",
    "   if not isinstance(i, list):\n",
    "      labels_skweak_list.append(i)\n",
    "   else:\n",
    "      for j in i:\n",
    "        labels_skweak_list.append(j)\n",
    "\n",
    "len(labels_skweak_list)"
   ]
  },
  {
   "cell_type": "markdown",
   "metadata": {},
   "source": [
    "## Preparando o test da base ouro para fazer a validação"
   ]
  },
  {
   "cell_type": "code",
   "execution_count": 319,
   "metadata": {},
   "outputs": [],
   "source": [
    "#Carrega o dataset de teste da base ouro para aplicar a validação\n",
    "#df_gold_ato= pd.read_csv('./CSVs/Extrato_Contrato_Split_1_x_test.csv', dtype=str)\n",
    "#df_gold_ato"
   ]
  },
  {
   "cell_type": "code",
   "execution_count": 320,
   "metadata": {},
   "outputs": [],
   "source": [
    "#Carrega os atos do dataset de teste da base ouro\n",
    "#https://pt.stackoverflow.com/questions/232208/ler-uma-lista-de-listas-em-txt-python-3\n",
    "import pickle\n",
    "#Contrato\n",
    "#with open(\"./CSVs/V2/split/Extrato_Contrato_Split_4_x_test.txt\", \"rb\") as file:\n",
    "#Aditamento\n",
    "#with open(\"./CSVs/V2/split/Aditamento_Contrato_Split_4_x_test.txt\", \"rb\") as file:\n",
    "#Suspensao\n",
    "with open(\"./CSVs/V2/split/Suspensao_Licitação_Split_1_x_test.txt\", \"rb\") as file:\n",
    "#Aviso Licitacao\n",
    "#with open(\"./CSVs/V2/split/Extrato_Contrato_Split_0_x_test.txt\", \"rb\") as file: \n",
    "#Anul e Revog\n",
    "#with open(\"./CSVs/V2/split/Suspensao_Licitação_Split_4_x_test.txt\", \"rb\") as file: \n",
    "#Convenio\n",
    "#with open(\"./CSVs/V2/split/Extrato_Convenio_Split_4_x_test.txt\", \"rb\") as file:      \n",
    "    x_test = pickle.load(file)"
   ]
  },
  {
   "cell_type": "code",
   "execution_count": 321,
   "metadata": {},
   "outputs": [
    {
     "data": {
      "text/plain": [
       "2244"
      ]
     },
     "execution_count": 321,
     "metadata": {},
     "output_type": "execute_result"
    }
   ],
   "source": [
    "# Retira uma nível da lista dos atos do dataset de teste da base ouro\n",
    "x_test_list = []\n",
    "for i in x_test:\n",
    "   if not isinstance(i, list):\n",
    "      x_test_list.append(i)\n",
    "   else:\n",
    "      for j in i:\n",
    "        x_test_list.append(j)\n",
    "\n",
    "len(x_test_list)"
   ]
  },
  {
   "cell_type": "code",
   "execution_count": 322,
   "metadata": {},
   "outputs": [],
   "source": [
    "#Carrega os labels do dataset de teste da base ouro (Lista dentro de lista)\n",
    "import pickle\n",
    "#Contrato\n",
    "#with open(\"./CSVs/V2/split/Extrato_Contrato_Split_4_y_test.txt\", \"rb\") as file:\n",
    "#Aditamento\n",
    "#with open(\"./CSVs/V2/split/Aditamento_Contrato_Split_4_y_test.txt\", \"rb\") as file:\n",
    "#Suspensao\n",
    "with open(\"./CSVs/V2/split/Suspensao_Licitação_Split_1_y_test.txt\", \"rb\") as file:\n",
    "#Aviso Licitacao\n",
    "#with open(\"./CSVs/V2/split/Extrato_Contrato_Split_0_y_test.txt\", \"rb\") as file: \n",
    "#Anul e Revog\n",
    "#with open(\"./CSVs/V2/split/Suspensao_Licitação_Split_0_y_test.txt\", \"rb\") as file:\n",
    "#Convenio\n",
    "#with open(\"./CSVs/V2/split/Extrato_Convenio_Split_4_y_test.txt\", \"rb\") as file:        \n",
    "    y_test = pickle.load(file)"
   ]
  },
  {
   "cell_type": "markdown",
   "metadata": {},
   "source": []
  },
  {
   "cell_type": "code",
   "execution_count": 323,
   "metadata": {},
   "outputs": [
    {
     "data": {
      "text/plain": [
       "2244"
      ]
     },
     "execution_count": 323,
     "metadata": {},
     "output_type": "execute_result"
    }
   ],
   "source": [
    "#  Retira uma nível da lista dos labels do dataset de teste da base ouro\n",
    "\n",
    "y_test_list = []\n",
    "for i in y_test:\n",
    "   if not isinstance(i, list):\n",
    "      y_test_list.append(i)\n",
    "   else:\n",
    "      for j in i:\n",
    "       y_test_list.append(j)\n",
    "\n",
    "len(y_test_list)"
   ]
  },
  {
   "cell_type": "code",
   "execution_count": 324,
   "metadata": {},
   "outputs": [
    {
     "data": {
      "text/plain": [
       "2244"
      ]
     },
     "execution_count": 324,
     "metadata": {},
     "output_type": "execute_result"
    }
   ],
   "source": [
    "len(termos_skweak_list)"
   ]
  },
  {
   "cell_type": "code",
   "execution_count": 325,
   "metadata": {},
   "outputs": [],
   "source": [
    "#Apenas checa se os tokens estão batento\n",
    "resultados = []\n",
    "for sk_ato , gold_ato in zip(termos_skweak_list, x_test_list):\n",
    "    tupla=(sk_ato , gold_ato) \n",
    "    resultados.append(tupla)\n",
    "    if sk_ato != gold_ato:\n",
    "        print(sk_ato, gold_ato)\n",
    "\n",
    "#for item in resultados:\n",
    "#    print(item)\n"
   ]
  },
  {
   "cell_type": "code",
   "execution_count": 326,
   "metadata": {},
   "outputs": [
    {
     "data": {
      "text/plain": [
       "\" classes = ['B-numero_contrato',\\n 'B-processo_gdf',\\n 'I-processo_gdf',\\n 'B-data_assinatura_contrato',\\n 'I-numero_contrato',\\n 'I-data_assinatura_contrato'] \""
      ]
     },
     "execution_count": 326,
     "metadata": {},
     "output_type": "execute_result"
    }
   ],
   "source": [
    "\n",
    "''' classes = ['B-numero_contrato',\n",
    " 'B-processo_gdf',\n",
    " 'I-processo_gdf',\n",
    " 'B-data_assinatura_contrato',\n",
    " 'I-numero_contrato',\n",
    " 'I-data_assinatura_contrato'] '''\n"
   ]
  },
  {
   "cell_type": "code",
   "execution_count": 327,
   "metadata": {},
   "outputs": [],
   "source": [
    "#len(labels_skweak_list)"
   ]
  },
  {
   "cell_type": "code",
   "execution_count": 328,
   "metadata": {},
   "outputs": [],
   "source": [
    "#classes"
   ]
  },
  {
   "cell_type": "code",
   "execution_count": 329,
   "metadata": {},
   "outputs": [],
   "source": [
    "#Validação com sklearn\n",
    "#metrics.flat_f1_score(y_test, labels_skweak, average='weighted', labels=classes)"
   ]
  },
  {
   "cell_type": "code",
   "execution_count": 330,
   "metadata": {},
   "outputs": [
    {
     "data": {
      "text/plain": [
       "0.24924924924924927"
      ]
     },
     "execution_count": 330,
     "metadata": {},
     "output_type": "execute_result"
    }
   ],
   "source": [
    "#Validação com seqeval\n",
    "from seqeval.metrics import f1_score\n",
    "f1_score(y_test, labels_skweak, average='weighted')"
   ]
  },
  {
   "cell_type": "code",
   "execution_count": 331,
   "metadata": {},
   "outputs": [
    {
     "name": "stdout",
     "output_type": "stream",
     "text": [
      "                      precision    recall  f1-score   support\n",
      "\n",
      "                  50       0.00      0.00      0.00         1\n",
      "        decisao_tcdf       0.00      0.00      0.00         5\n",
      "modalidade_licitacao       0.94      0.75      0.83        20\n",
      "    nome_responsavel       0.00      0.00      0.00        17\n",
      "    numero_licitacao       0.00      0.00      0.00        20\n",
      "    objeto_licitacao       0.00      0.00      0.00        14\n",
      "     orgao_licitante       0.00      0.00      0.00        17\n",
      "        processo_gdf       0.85      0.85      0.85        13\n",
      "\n",
      "           micro avg       0.90      0.24      0.38       107\n",
      "           macro avg       0.22      0.20      0.21       107\n",
      "        weighted avg       0.28      0.24      0.26       107\n",
      "\n"
     ]
    },
    {
     "name": "stderr",
     "output_type": "stream",
     "text": [
      "/Users/lucelia/Documents/GitHub/experiments/members/lucelia/venv/lib/python3.9/site-packages/seqeval/metrics/v1.py:57: UndefinedMetricWarning: Precision and F-score are ill-defined and being set to 0.0 in labels with no predicted samples. Use `zero_division` parameter to control this behavior.\n",
      "  _warn_prf(average, modifier, msg_start, len(result))\n"
     ]
    }
   ],
   "source": [
    "# classification_report Seqeval\n",
    "import numpy as np\n",
    "from seqeval.metrics import classification_report\n",
    "from seqeval.scheme import IOB2\n",
    "\n",
    "report = classification_report(y_test, labels_skweak, output_dict=False, mode='strict', scheme=IOB2)\n",
    "print(report)\n"
   ]
  },
  {
   "cell_type": "code",
   "execution_count": 332,
   "metadata": {},
   "outputs": [
    {
     "name": "stdout",
     "output_type": "stream",
     "text": [
      "{'50': {'precision': 0.0, 'recall': 0.0, 'f1-score': 0.0, 'support': 1}, 'decisao_tcdf': {'precision': 0.0, 'recall': 0.0, 'f1-score': 0.0, 'support': 5}, 'modalidade_licitacao': {'precision': 0.9375, 'recall': 0.75, 'f1-score': 0.8333333333333334, 'support': 20}, 'nome_responsavel': {'precision': 0.0, 'recall': 0.0, 'f1-score': 0.0, 'support': 17}, 'numero_licitacao': {'precision': 0.0, 'recall': 0.0, 'f1-score': 0.0, 'support': 20}, 'objeto_licitacao': {'precision': 0.0, 'recall': 0.0, 'f1-score': 0.0, 'support': 14}, 'orgao_licitante': {'precision': 0.0, 'recall': 0.0, 'f1-score': 0.0, 'support': 17}, 'processo_gdf': {'precision': 0.8461538461538461, 'recall': 0.8461538461538461, 'f1-score': 0.8461538461538461, 'support': 13}, 'micro avg': {'precision': 0.896551724137931, 'recall': 0.24299065420560748, 'f1-score': 0.3823529411764706, 'support': 107}, 'macro avg': {'precision': 0.22295673076923078, 'recall': 0.19951923076923078, 'f1-score': 0.20993589743589744, 'support': 107}, 'weighted avg': {'precision': 0.2780373831775701, 'recall': 0.24299065420560748, 'f1-score': 0.25856697819314645, 'support': 107}}\n"
     ]
    }
   ],
   "source": [
    "# classification_report Seqeval\n",
    "import numpy as np\n",
    "from seqeval.metrics import classification_report\n",
    "from seqeval.scheme import IOB2\n",
    "\n",
    "report = classification_report(y_test, labels_skweak, output_dict=True, mode='strict', scheme=IOB2)\n",
    "print(report)\n",
    "np.save(\"./Results/V2/METRICA_SUSPENSAO_LICITACAO_LB_DIRETO_1.npy\", report)"
   ]
  },
  {
   "cell_type": "code",
   "execution_count": 333,
   "metadata": {},
   "outputs": [
    {
     "ename": "NameError",
     "evalue": "name 'gold_y_test' is not defined",
     "output_type": "error",
     "traceback": [
      "\u001b[0;31m---------------------------------------------------------------------------\u001b[0m",
      "\u001b[0;31mNameError\u001b[0m                                 Traceback (most recent call last)",
      "Cell \u001b[0;32mIn [333], line 4\u001b[0m\n\u001b[1;32m      1\u001b[0m \u001b[39m#classification_report sklearn\u001b[39;00m\n\u001b[1;32m      2\u001b[0m report \u001b[39m=\u001b[39m metrics\u001b[39m.\u001b[39mflat_classification_report(\n\u001b[1;32m      3\u001b[0m     \u001b[39m#y_test[:200], y_pred[:200], labels=classes, digits=3))\u001b[39;00m\n\u001b[0;32m----> 4\u001b[0m    gold_y_test, labels_skweak, labels\u001b[39m=\u001b[39mclasses, digits\u001b[39m=\u001b[39m\u001b[39m3\u001b[39m, output_dict\u001b[39m=\u001b[39m\u001b[39mFalse\u001b[39;00m)\n\u001b[1;32m      5\u001b[0m \u001b[39mprint\u001b[39m(report)\n",
      "\u001b[0;31mNameError\u001b[0m: name 'gold_y_test' is not defined"
     ]
    }
   ],
   "source": [
    "#classification_report sklearn\n",
    "report = metrics.flat_classification_report(\n",
    "    #y_test[:200], y_pred[:200], labels=classes, digits=3))\n",
    "   gold_y_test, labels_skweak, labels=classes, digits=3, output_dict=False)\n",
    "print(report)"
   ]
  },
  {
   "cell_type": "code",
   "execution_count": null,
   "metadata": {},
   "outputs": [],
   "source": [
    "import numpy as np\n",
    "report = metrics.flat_classification_report(\n",
    "    #y_test[:200], y_pred[:200], labels=classes, digits=3))\n",
    "    gold_y_test, labels_skweak, labels=classes, digits=3, output_dict=True)\n",
    "print(report)\n",
    "np.save(\"./Results/METRICA_EXTRATO_CONTRATO_LB_DIRETO_V1_1.npy\", report)"
   ]
  }
 ],
 "metadata": {
  "kernelspec": {
   "display_name": "Python 3.9.7 ('venv': venv)",
   "language": "python",
   "name": "python3"
  },
  "language_info": {
   "codemirror_mode": {
    "name": "ipython",
    "version": 3
   },
   "file_extension": ".py",
   "mimetype": "text/x-python",
   "name": "python",
   "nbconvert_exporter": "python",
   "pygments_lexer": "ipython3",
   "version": "3.9.7"
  },
  "orig_nbformat": 4,
  "vscode": {
   "interpreter": {
    "hash": "96baed6db0003f61f4a930eafeae8ace7abdbffdf58b8c787c6463efd11f449a"
   }
  }
 },
 "nbformat": 4,
 "nbformat_minor": 2
}
