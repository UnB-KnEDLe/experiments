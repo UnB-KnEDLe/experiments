{
 "cells": [
  {
   "cell_type": "code",
   "execution_count": 1,
   "metadata": {},
   "outputs": [],
   "source": [
    "import sklearn_crfsuite\n",
    "from sklearn_crfsuite import metrics\n",
    "import pandas as pd\n",
    "import glob\n",
    "import xml.etree.ElementTree as ET\n",
    "import nltk\n",
    "import math\n",
    "import numpy as np\n",
    "import warnings\n",
    "import mlflow\n",
    "from sklearn.model_selection import cross_validate\n",
    "from sklearn.pipeline import Pipeline\n",
    "\n",
    "\n",
    "warnings.filterwarnings(\"ignore\")"
   ]
  },
  {
   "cell_type": "markdown",
   "metadata": {},
   "source": [
    "---\n",
    "# 1. Extraindo trechos anotados dos XMLs"
   ]
  },
  {
   "cell_type": "markdown",
   "metadata": {},
   "source": [
    "### 1.1. Adiquirindo a raiz de cada XML"
   ]
  },
  {
   "cell_type": "code",
   "execution_count": 2,
   "metadata": {},
   "outputs": [],
   "source": [
    "glob_path = 'xml_batch1/*.xml' # Caminho até os XMLs\n",
    "roots = []\n",
    "for xml in glob.glob(glob_path):\n",
    "    tree = ET.parse(xml)\n",
    "    roots.append(tree.getroot())"
   ]
  },
  {
   "cell_type": "code",
   "execution_count": 3,
   "metadata": {},
   "outputs": [],
   "source": [
    "# Esse bloco deve demorar de alguns segundos a 1 minuto\n",
    "atos_csv_dict = {}\n",
    "\n",
    "for root in roots: # Intera sobre as raizes\n",
    "    for relation in root.findall(\".//relation\"):                            # Intera sobre as relações.\n",
    "        row_act = {}\n",
    "        type_relation = relation.find('.//infon[@key=\"type\"]').text\n",
    "        for node in relation.findall('node'):                               # Intera sobre os nós(anotações) da relação.\n",
    "            ref_id = node.get('refid')\n",
    "            annotation = root.find(f'.//annotation[@id=\"{ref_id}\"]')        # Encontra anotação.\n",
    "            type_annotation = annotation.find('.//infon[@key=\"type\"]').text # Encontra tipo da anotação.\n",
    "            text_annotation = annotation.find('text').text                  # Encontra texto da anotação.\n",
    "            row_act[type_annotation] = text_annotation\n",
    "        \n",
    "        if type_relation not in atos_csv_dict:                              # Checa se a tabela já existe, caso contrário, cria uma.\n",
    "            atos_csv_dict[type_relation] = pd.DataFrame()\n",
    "            \n",
    "        atos_csv_dict[type_relation] = atos_csv_dict[type_relation].append(row_act, ignore_index=True)"
   ]
  },
  {
   "cell_type": "code",
   "execution_count": 4,
   "metadata": {},
   "outputs": [
    {
     "data": {
      "text/html": [
       "<div>\n",
       "<style scoped>\n",
       "    .dataframe tbody tr th:only-of-type {\n",
       "        vertical-align: middle;\n",
       "    }\n",
       "\n",
       "    .dataframe tbody tr th {\n",
       "        vertical-align: top;\n",
       "    }\n",
       "\n",
       "    .dataframe thead th {\n",
       "        text-align: right;\n",
       "    }\n",
       "</style>\n",
       "<table border=\"1\" class=\"dataframe\">\n",
       "  <thead>\n",
       "    <tr style=\"text-align: right;\">\n",
       "      <th></th>\n",
       "      <th>Ato_Nomeacao_Comissionado</th>\n",
       "      <th>cargo_comissionado</th>\n",
       "      <th>hierarquia_lotacao</th>\n",
       "      <th>nome</th>\n",
       "      <th>orgao</th>\n",
       "      <th>simbolo</th>\n",
       "      <th>matricula</th>\n",
       "      <th>cargo_efetivo</th>\n",
       "      <th>matricula_SIAPE</th>\n",
       "    </tr>\n",
       "  </thead>\n",
       "  <tbody>\n",
       "    <tr>\n",
       "      <th>0</th>\n",
       "      <td>NOMEAR JOSE RAIMUNDO PINTO para exercer o Carg...</td>\n",
       "      <td>Assistente</td>\n",
       "      <td>Gerencia de Seguranca e Saude, da Diretoria de...</td>\n",
       "      <td>JOSE RAIMUNDO PINTO</td>\n",
       "      <td>\\nGovernadoria do Distrito Federal</td>\n",
       "      <td>DFA-\\n08</td>\n",
       "      <td>NaN</td>\n",
       "      <td>NaN</td>\n",
       "      <td>NaN</td>\n",
       "    </tr>\n",
       "    <tr>\n",
       "      <th>1</th>\n",
       "      <td>NOMEAR JOSE RAIMUNDO PINTO para exercer o Carg...</td>\n",
       "      <td>Assistente</td>\n",
       "      <td>Gerencia de Seguranca e Saude, da Diretoria de...</td>\n",
       "      <td>JOSE RAIMUNDO PINTO</td>\n",
       "      <td>\\nGovernadoria do Distrito Federal</td>\n",
       "      <td>DFA-\\n08</td>\n",
       "      <td>NaN</td>\n",
       "      <td>NaN</td>\n",
       "      <td>NaN</td>\n",
       "    </tr>\n",
       "    <tr>\n",
       "      <th>2</th>\n",
       "      <td>NOMEAR INACIA GRACCIELLA COSTA BARROS para exe...</td>\n",
       "      <td>Chefe</td>\n",
       "      <td>Assessoria de Comunicacao, do Gabinete, da Ad-...</td>\n",
       "      <td>INACIA GRACCIELLA COSTA BARROS</td>\n",
       "      <td>Casa Civil, \\nda Governadoria do Distrito Federal</td>\n",
       "      <td>CNE-07</td>\n",
       "      <td>NaN</td>\n",
       "      <td>NaN</td>\n",
       "      <td>NaN</td>\n",
       "    </tr>\n",
       "    <tr>\n",
       "      <th>3</th>\n",
       "      <td>NOMEAR INACIA GRACCIELLA COSTA BARROS para exe...</td>\n",
       "      <td>Chefe</td>\n",
       "      <td>Assessoria de Comunicacao, do Gabinete, da Ad-...</td>\n",
       "      <td>INACIA GRACCIELLA COSTA BARROS</td>\n",
       "      <td>Casa Civil, \\nda Governadoria do Distrito Federal</td>\n",
       "      <td>CNE-07</td>\n",
       "      <td>NaN</td>\n",
       "      <td>NaN</td>\n",
       "      <td>NaN</td>\n",
       "    </tr>\n",
       "    <tr>\n",
       "      <th>4</th>\n",
       "      <td>NOMEAR JORDANA ZANFERARI para exercer o Cargo ...</td>\n",
       "      <td>Gerente</td>\n",
       "      <td>Gerencia de Seguranca e Saude, da Diretoria de...</td>\n",
       "      <td>JORDANA ZANFERARI</td>\n",
       "      <td>Governa-\\ndoria do Distrito Federal</td>\n",
       "      <td>DFG-14</td>\n",
       "      <td>NaN</td>\n",
       "      <td>NaN</td>\n",
       "      <td>NaN</td>\n",
       "    </tr>\n",
       "    <tr>\n",
       "      <th>...</th>\n",
       "      <td>...</td>\n",
       "      <td>...</td>\n",
       "      <td>...</td>\n",
       "      <td>...</td>\n",
       "      <td>...</td>\n",
       "      <td>...</td>\n",
       "      <td>...</td>\n",
       "      <td>...</td>\n",
       "      <td>...</td>\n",
       "    </tr>\n",
       "    <tr>\n",
       "      <th>7682</th>\n",
       "      <td>NOMEAR o Tenente-Coronel QOBM/Comb. TITO VAZ D...</td>\n",
       "      <td>Chefe</td>\n",
       "      <td>Secao de Ensino, Pesquisa, \\nCiencia e Tecnolo...</td>\n",
       "      <td>Tenente-Coronel QOBM/Comb. TITO VAZ DE ABREU NETO</td>\n",
       "      <td>Corpo de Bombeiros \\nMilitar do Distrito Federal</td>\n",
       "      <td>DFG-14</td>\n",
       "      <td>1399904</td>\n",
       "      <td>NaN</td>\n",
       "      <td>NaN</td>\n",
       "    </tr>\n",
       "    <tr>\n",
       "      <th>7683</th>\n",
       "      <td>NOMEAR DOLORES MARIA DE ALBUQUERQUE para exerc...</td>\n",
       "      <td>Agente Operacional</td>\n",
       "      <td>Diretoria de Operacoes e Defesa do Solo e da \\...</td>\n",
       "      <td>DOLORES MARIA DE ALBUQUERQUE</td>\n",
       "      <td>Secretaria de Estado da \\nOrdem Publica do Dis...</td>\n",
       "      <td>DFA-10</td>\n",
       "      <td>NaN</td>\n",
       "      <td>NaN</td>\n",
       "      <td>NaN</td>\n",
       "    </tr>\n",
       "    <tr>\n",
       "      <th>7684</th>\n",
       "      <td>NOMEAR SANDRA MARIA FERREIRA para exercer o Ca...</td>\n",
       "      <td>NaN</td>\n",
       "      <td>Agente Operacional, da Diretoria de Operacoes ...</td>\n",
       "      <td>SANDRA MARIA FERREIRA</td>\n",
       "      <td>Secretaria de Estado da \\nOrdem Publica do Dis...</td>\n",
       "      <td>DFA-10</td>\n",
       "      <td>NaN</td>\n",
       "      <td>NaN</td>\n",
       "      <td>NaN</td>\n",
       "    </tr>\n",
       "    <tr>\n",
       "      <th>7685</th>\n",
       "      <td>NOMEAR BRUNO LUAN LIMA DOS SANTOS para exercer...</td>\n",
       "      <td>NaN</td>\n",
       "      <td>Agente Operacional, da Diretoria de Operacoes ...</td>\n",
       "      <td>BRUNO LUAN LIMA DOS SANTOS</td>\n",
       "      <td>Secretaria de Estado da \\nOrdem Publica do Dis...</td>\n",
       "      <td>DFA-10</td>\n",
       "      <td>NaN</td>\n",
       "      <td>NaN</td>\n",
       "      <td>NaN</td>\n",
       "    </tr>\n",
       "    <tr>\n",
       "      <th>7686</th>\n",
       "      <td>NOMEAR ROSILAINE RODRIGUES FARIAS para exercer...</td>\n",
       "      <td>Assessor Tecnico</td>\n",
       "      <td>Assessoria Juridica</td>\n",
       "      <td>ROSILAINE RODRIGUES FARIAS</td>\n",
       "      <td>Defensoria Publica do Distrito Federal</td>\n",
       "      <td>DFA-08</td>\n",
       "      <td>NaN</td>\n",
       "      <td>NaN</td>\n",
       "      <td>NaN</td>\n",
       "    </tr>\n",
       "  </tbody>\n",
       "</table>\n",
       "<p>619 rows × 9 columns</p>\n",
       "</div>"
      ],
      "text/plain": [
       "                              Ato_Nomeacao_Comissionado   cargo_comissionado  \\\n",
       "0     NOMEAR JOSE RAIMUNDO PINTO para exercer o Carg...           Assistente   \n",
       "1     NOMEAR JOSE RAIMUNDO PINTO para exercer o Carg...           Assistente   \n",
       "2     NOMEAR INACIA GRACCIELLA COSTA BARROS para exe...                Chefe   \n",
       "3     NOMEAR INACIA GRACCIELLA COSTA BARROS para exe...                Chefe   \n",
       "4     NOMEAR JORDANA ZANFERARI para exercer o Cargo ...              Gerente   \n",
       "...                                                 ...                  ...   \n",
       "7682  NOMEAR o Tenente-Coronel QOBM/Comb. TITO VAZ D...                Chefe   \n",
       "7683  NOMEAR DOLORES MARIA DE ALBUQUERQUE para exerc...   Agente Operacional   \n",
       "7684  NOMEAR SANDRA MARIA FERREIRA para exercer o Ca...                  NaN   \n",
       "7685  NOMEAR BRUNO LUAN LIMA DOS SANTOS para exercer...                  NaN   \n",
       "7686  NOMEAR ROSILAINE RODRIGUES FARIAS para exercer...     Assessor Tecnico   \n",
       "\n",
       "                                     hierarquia_lotacao  \\\n",
       "0     Gerencia de Seguranca e Saude, da Diretoria de...   \n",
       "1     Gerencia de Seguranca e Saude, da Diretoria de...   \n",
       "2     Assessoria de Comunicacao, do Gabinete, da Ad-...   \n",
       "3     Assessoria de Comunicacao, do Gabinete, da Ad-...   \n",
       "4     Gerencia de Seguranca e Saude, da Diretoria de...   \n",
       "...                                                 ...   \n",
       "7682  Secao de Ensino, Pesquisa, \\nCiencia e Tecnolo...   \n",
       "7683  Diretoria de Operacoes e Defesa do Solo e da \\...   \n",
       "7684  Agente Operacional, da Diretoria de Operacoes ...   \n",
       "7685  Agente Operacional, da Diretoria de Operacoes ...   \n",
       "7686                                Assessoria Juridica   \n",
       "\n",
       "                                                   nome  \\\n",
       "0                                   JOSE RAIMUNDO PINTO   \n",
       "1                                   JOSE RAIMUNDO PINTO   \n",
       "2                        INACIA GRACCIELLA COSTA BARROS   \n",
       "3                        INACIA GRACCIELLA COSTA BARROS   \n",
       "4                                     JORDANA ZANFERARI   \n",
       "...                                                 ...   \n",
       "7682  Tenente-Coronel QOBM/Comb. TITO VAZ DE ABREU NETO   \n",
       "7683                       DOLORES MARIA DE ALBUQUERQUE   \n",
       "7684                              SANDRA MARIA FERREIRA   \n",
       "7685                         BRUNO LUAN LIMA DOS SANTOS   \n",
       "7686                         ROSILAINE RODRIGUES FARIAS   \n",
       "\n",
       "                                                  orgao   simbolo matricula  \\\n",
       "0                    \\nGovernadoria do Distrito Federal  DFA-\\n08       NaN   \n",
       "1                    \\nGovernadoria do Distrito Federal  DFA-\\n08       NaN   \n",
       "2     Casa Civil, \\nda Governadoria do Distrito Federal    CNE-07       NaN   \n",
       "3     Casa Civil, \\nda Governadoria do Distrito Federal    CNE-07       NaN   \n",
       "4                   Governa-\\ndoria do Distrito Federal    DFG-14       NaN   \n",
       "...                                                 ...       ...       ...   \n",
       "7682   Corpo de Bombeiros \\nMilitar do Distrito Federal    DFG-14   1399904   \n",
       "7683  Secretaria de Estado da \\nOrdem Publica do Dis...    DFA-10       NaN   \n",
       "7684  Secretaria de Estado da \\nOrdem Publica do Dis...    DFA-10       NaN   \n",
       "7685  Secretaria de Estado da \\nOrdem Publica do Dis...    DFA-10       NaN   \n",
       "7686             Defensoria Publica do Distrito Federal    DFA-08       NaN   \n",
       "\n",
       "     cargo_efetivo matricula_SIAPE  \n",
       "0              NaN             NaN  \n",
       "1              NaN             NaN  \n",
       "2              NaN             NaN  \n",
       "3              NaN             NaN  \n",
       "4              NaN             NaN  \n",
       "...            ...             ...  \n",
       "7682           NaN             NaN  \n",
       "7683           NaN             NaN  \n",
       "7684           NaN             NaN  \n",
       "7685           NaN             NaN  \n",
       "7686           NaN             NaN  \n",
       "\n",
       "[619 rows x 9 columns]"
      ]
     },
     "execution_count": 4,
     "metadata": {},
     "output_type": "execute_result"
    }
   ],
   "source": [
    "nomeacao_df = atos_csv_dict['Ato_Nomeacao_Comissionado']\n",
    "\n",
    "nomeacao_fields = ['nome', 'cargo_efetivo', 'matricula', 'matricula_SIAPE', 'simbolo', 'cargo_comissionado', 'hierarquia_lotacao', 'orgao', 'Ato_Nomeacao_Comissionado']\n",
    "\n",
    "# Nessa linha todas as colunas que não pertencem a nomecao são extraidas para uma segunda lista. (Compreensão de listas).\n",
    "nomeacao_non_fields = [column for column in nomeacao_df.columns if column not in nomeacao_fields]\n",
    "\n",
    "# Exclusão de todas as linhas que possuam algum valor nos campos que não pertecem a nomeacao.\n",
    "nomeacao_df = nomeacao_df[nomeacao_df[nomeacao_non_fields].isna().any(axis=1)]\n",
    "\n",
    "# Exclusão de todas as colunas que não pertecem a nomeação.\n",
    "nomeacao_df = nomeacao_df.drop(columns=nomeacao_non_fields)\n",
    "\n",
    "# Exclusão das linhas que não possuem anotação de atos.\n",
    "nomeacao_df = nomeacao_df.dropna(subset=['Ato_Nomeacao_Comissionado'])\n",
    "\n",
    "atos_csv_dict['Ato_Nomeacao_Comissionado'] = nomeacao_df\n",
    "atos_csv_dict['Ato_Nomeacao_Comissionado']"
   ]
  },
  {
   "cell_type": "code",
   "execution_count": 5,
   "metadata": {},
   "outputs": [],
   "source": [
    "for key in atos_csv_dict.keys():\n",
    "    atos_csv_dict[key] = atos_csv_dict[key].dropna(subset=[key])"
   ]
  },
  {
   "cell_type": "code",
   "execution_count": 6,
   "metadata": {},
   "outputs": [],
   "source": [
    "_tokenizer = nltk.RegexpTokenizer(r\"\\w+\")\n",
    "def tokenize(sentence):\n",
    "    try:\n",
    "        new_words = _tokenizer.tokenize(sentence)\n",
    "        return new_words    \n",
    "    except:\n",
    "        print(\"SENTENCE:\", sentence)\n",
    "        input()\n",
    "    return ''\n",
    "\n",
    "\n",
    "def find_entity(row, token):\n",
    "    \"\"\" ...\n",
    "    \n",
    "    Assumes `row` has the whole text on the first collumn\n",
    "    and the remaining contain entities.\n",
    "    \"\"\"\n",
    "    for column in row.keys()[1:]:\n",
    "        if (row[column] is not np.nan \n",
    "            and token == tokenize(row[column])[0]):\n",
    "            return column\n",
    "    return None\n",
    "\n",
    "# Atualizar no futuro para qualquer ato.\n",
    "# Aparentemente esse algoritmo está O(n*m) onde n é a quantidade de tokens e m a quantidade de colunas do df.\n",
    "def generate_IOB_labels(row):\n",
    "    \"\"\"Generates IOB-labeling for whole text and entities.\n",
    "\n",
    "    Assumes `row` has the whole text on the first collumn\n",
    "    and the remaining contain entities.\n",
    "    \"\"\"\n",
    "    labels = []\n",
    "    entity_started = False\n",
    "    text = row.iloc[0]\n",
    "    for token in tokenize(text):                         # Intera sobre cada token da anotação do ato.\n",
    "        if not entity_started:                               # Caso uma entidade ainda n tenha sido identificada nos tokens.\n",
    "            entity = find_entity(row, token)                 # Busca o token atual no primeiro token de todos os campos do df.\n",
    "            if entity is not None:                           # Se foi encontrado o token no inicio de alguma entidade ele inicia a comparação token a token com a entidade.\n",
    "                entity_started = True\n",
    "                token_index = 1\n",
    "                labels.append('B-' + entity)\n",
    "            else:\n",
    "                labels.append('O')\n",
    "        else:                                                # Caso uma entidade já tenha sido identificada\n",
    "            if token_index < len(tokenize(row[entity])) and token == tokenize(row[entity])[token_index]: # Checa se o próximo token pertence à entidade e se o tamanho da entidade chegou ao fim.\n",
    "                labels.append('I-' + entity)                 # Se a entidade ainda possui tokens e a comparação foi bem sucedida adicione o label I.\n",
    "                token_index += 1\n",
    "                if token_index >= len(tokenize(row[entity])):\n",
    "                    entity_started = False\n",
    "            else:                                            # Se o token n for igual ou a entidade chegou ao fim.\n",
    "                entity_started = False\n",
    "                labels.append('O')\n",
    "                \n",
    "    return labels\n",
    "\n",
    "\n",
    "def find_entity(row, token, ignore_idx=0):\n",
    "    \"\"\"Searches for named entities on columns, except by ignore_idx-columns.\n",
    "    \n",
    "    ignore_idx: int indicating which column has\n",
    "                the TEXT where the named were extracted from\n",
    "    \"\"\"\n",
    "    for idx, column in enumerate(row.keys()):\n",
    "        if idx == ignore_idx:\n",
    "            continue\n",
    "        if row[column] is not np.nan and token == tokenize(row[column])[0]:\n",
    "            return column\n",
    "    \n",
    "    return None\n",
    "\n",
    "# Atualizar no futuro para qualquer ato.\n",
    "# Complexidade: O(n*m)\n",
    "# n: quantidade de tokens\n",
    "# m: quantidade de colunas do df.\n",
    "def generate_IOB_labels(row, idx=0):\n",
    "    \"\"\"Generate IOB-labels for idx-column.\"\"\"\n",
    "    labels = []\n",
    "    entity_started = False\n",
    "    text = row.iloc[idx]\n",
    "    for token in tokenize(text):                         # Intera sobre cada token da anotação do ato.\n",
    "        if not entity_started:                               # Caso uma entidade ainda n tenha sido identificada nos tokens.\n",
    "            entity = find_entity(row, token)                 # Busca o token atual no primeiro token de todos os campos do df.\n",
    "            if entity is not None:                           # Se foi encontrado o token no inicio de alguma entidade ele inicia a comparação token a token com a entidade.\n",
    "                entity_started = True\n",
    "                token_index = 1\n",
    "                labels.append('B-' + entity)\n",
    "            else:\n",
    "                labels.append('O')\n",
    "        else:                                                # Caso uma entidade já tenha sido identificada\n",
    "            if token_index < len(tokenize(row[entity])) and token == tokenize(row[entity])[token_index]: # Checa se o próximo token pertence à entidade e se o tamanho da entidade chegou ao fim.\n",
    "                labels.append('I-' + entity)                 # Se a entidade ainda possui tokens e a comparação foi bem sucedida adicione o label I.\n",
    "                token_index += 1\n",
    "                if token_index >= len(tokenize(row[entity])):\n",
    "                    entity_started = False\n",
    "            else:                                            # Se o token n for igual ou a entidade chegou ao fim.\n",
    "                entity_started = False\n",
    "                labels.append('O')\n",
    "                \n",
    "    return labels\n"
   ]
  },
  {
   "cell_type": "markdown",
   "metadata": {},
   "source": [
    "### 3.2. Agora, com as funções de geração label prontas iremos criar uma lista de strings representando os labels para adicionar ao df de cada ato."
   ]
  },
  {
   "cell_type": "markdown",
   "metadata": {},
   "source": [
    "---\n",
    "# 4. Criação das features e treinamento do CRF à moda José"
   ]
  },
  {
   "cell_type": "code",
   "execution_count": 7,
   "metadata": {
    "scrolled": true
   },
   "outputs": [],
   "source": [
    "# %%time\n",
    "def extract_features(sentence):\n",
    "    sentence_features = []\n",
    "    for j, sent in enumerate(sentence):\n",
    "        word_feat = {\n",
    "                'word': sent.lower(),\n",
    "                'capital_letter': sent[0].isupper(),\n",
    "                'all_capital': sent.isupper(),\n",
    "                'isdigit': sent.isdigit(),\n",
    "                'word_before': sent.lower() if j==0 else sentence[j-1].lower(),\n",
    "                'word_after:': sent.lower() if j+1>=len(sentence) else sentence[j+1].lower(),\n",
    "                'BOS': j==0,\n",
    "                'EOS': j==len(sentence)-1\n",
    "        }\n",
    "        sentence_features.append(word_feat)\n",
    "    return sentence_features\n",
    "\n",
    "\n",
    "def extract_rows_features(arq, idx=0):\n",
    "    \"\"\"\n",
    "    Tokenizes then extract features from idx-column.\n",
    "    \"\"\"\n",
    "    return arq.iloc[:, idx].map(tokenize).map(extract_features)\n",
    "\n",
    "\n",
    "\n",
    "class IOB_Transformer:\n",
    "    def __init__(self, idx=''):\n",
    "#         self.idx = idx\n",
    "        pass\n",
    "    def fit(self, X=None, y=None, **fit_params):\n",
    "        return self\n",
    "    def transform(self, df):\n",
    "        labels_row = []\n",
    "        for index, row in df.iterrows():\n",
    "            try:\n",
    "                labels_row.append(' '.join(generate_IOB_labels(row)))\n",
    "            except Exception as e:\n",
    "                print(row)\n",
    "                raise e\n",
    "\n",
    "        return pd.Series(labels_row).str.split()\n",
    "\n",
    "\n",
    "    \n",
    "class FeatureTransformer:\n",
    "    def __init__(self, key=''):\n",
    "        self.key = key\n",
    "    def fit(self, X=None, y=None, **fit_params):\n",
    "        return self\n",
    "    def transform(self, df):        \n",
    "        return extract_rows_features(df)\n"
   ]
  },
  {
   "cell_type": "code",
   "execution_count": 8,
   "metadata": {},
   "outputs": [
    {
     "data": {
      "text/plain": [
       "Index(['Ato_Cessao', 'cargo_efetivo', 'cargo_orgao_cessionario',\n",
       "       'fundamento_legal', 'matricula', 'nome', 'onus', 'orgao_cedente',\n",
       "       'orgao_cessionario', 'processo_SEI', 'simbolo', 'vigencia',\n",
       "       'hierarquia_lotacao'],\n",
       "      dtype='object')"
      ]
     },
     "execution_count": 8,
     "metadata": {},
     "output_type": "execute_result"
    }
   ],
   "source": [
    "atos_csv_dict['Ato_Cessao'].columns"
   ]
  },
  {
   "cell_type": "code",
   "execution_count": 11,
   "metadata": {},
   "outputs": [],
   "source": [
    "ss=atos_csv_dict['Ato_Cessao'].iloc[0]"
   ]
  },
  {
   "cell_type": "code",
   "execution_count": 13,
   "metadata": {},
   "outputs": [
    {
     "data": {
      "text/plain": [
       "1524"
      ]
     },
     "execution_count": 13,
     "metadata": {},
     "output_type": "execute_result"
    }
   ],
   "source": [
    "open('cessao_exemplo.csv', 'w').write(ss.to_csv())"
   ]
  },
  {
   "cell_type": "code",
   "execution_count": 23,
   "metadata": {},
   "outputs": [
    {
     "data": {
      "text/plain": [
       "(13, 13)"
      ]
     },
     "execution_count": 23,
     "metadata": {},
     "output_type": "execute_result"
    }
   ],
   "source": [
    "len(ss.values), len(ss.index)"
   ]
  },
  {
   "cell_type": "code",
   "execution_count": 27,
   "metadata": {
    "scrolled": false
   },
   "outputs": [],
   "source": [
    "df = pd.DataFrame(\n",
    "    data=[ss.values], columns=ss.index\n",
    ")\n",
    "df.to_csv('cessao_exemplo.csv')"
   ]
  },
  {
   "cell_type": "code",
   "execution_count": 39,
   "metadata": {},
   "outputs": [
    {
     "name": "stdout",
     "output_type": "stream",
     "text": [
      "\"Processo:060.011.183/2014. Interessado: FERNANDES BARNABE DA SILVA. Assunto: \\nCESSAO DE SERVIDOR.\\nAUTORIZO, com base no Decreto no 35.403 7/5/2014, combinado com o art. 152 \\nda Lei Complementar no 840 de 23/12/2011, a cessao de FERNANDES BARNABE \\nDA SILVA, Tecnico Administrativo, matricula 122.711-4, da Secretaria de Estado de \\nSaude do Distrito Federal a Secretaria de Estado de Educacao do Distrito Federal, \\npara exercer o cargo de Assessor da Unidade de Administracao Geral da Fundacao \\nUniversidade Aberta do Distrito Federal  UAG/FUNAB, simbolo DFG-14, com onus \\npara o orgao de origem.\\nEm conformidade com a Lei Complementar no 840, de 23 de Dezembro de 2011, art.153 inci-\\nsos I e II, a cessao termina com a exoneracao do cargo para o qual o servidor foi cedido ou a \\nrevogacao pela autoridade cedente.\\nPublique-se e encaminhe-se a Secretaria de Estado de Saude do Distrito Federal, para \\nas providencias pertinentes.\",\n",
      "\"Tecnico Administrativo\",\n",
      "\"Assessor da Unidade de Administracao Geral da Fundacao \\nUniversidade Aberta do Distrito Federal  UAG/FUNAB\",\n",
      "\"Decreto no 35.403 7/5/2014, combinado com o art. 152 \\nda Lei Complementar no 840 de 23/12/2011\",\n",
      "\"122.711-4\",\n",
      "\"FERNANDES BARNABE \\nDA SILVA\",\n",
      "\"para o orgao de origem\",\n",
      "\"Secretaria de Estado de \\nSaude do Distrito Federal\",\n",
      "\"Secretaria de Estado de Educacao do Distrito Federal\",\n",
      "\"060.011.183/2014\",\n",
      "\"DFG-14\",\n",
      "NaN,\n",
      "NaN,\n"
     ]
    }
   ],
   "source": [
    "import json\n",
    "for v in df.iloc[0]:\n",
    "    print(json.dumps(v), end=',\\n')"
   ]
  },
  {
   "cell_type": "code",
   "execution_count": 36,
   "metadata": {},
   "outputs": [
    {
     "data": {
      "text/plain": [
       "(13,)"
      ]
     },
     "execution_count": 36,
     "metadata": {},
     "output_type": "execute_result"
    }
   ],
   "source": [
    "v.shape"
   ]
  },
  {
   "cell_type": "code",
   "execution_count": 14,
   "metadata": {},
   "outputs": [
    {
     "data": {
      "text/html": [
       "<div>\n",
       "<style scoped>\n",
       "    .dataframe tbody tr th:only-of-type {\n",
       "        vertical-align: middle;\n",
       "    }\n",
       "\n",
       "    .dataframe tbody tr th {\n",
       "        vertical-align: top;\n",
       "    }\n",
       "\n",
       "    .dataframe thead th {\n",
       "        text-align: right;\n",
       "    }\n",
       "</style>\n",
       "<table border=\"1\" class=\"dataframe\">\n",
       "  <thead>\n",
       "    <tr style=\"text-align: right;\">\n",
       "      <th></th>\n",
       "      <th>Unnamed: 0</th>\n",
       "      <th>0</th>\n",
       "    </tr>\n",
       "  </thead>\n",
       "  <tbody>\n",
       "    <tr>\n",
       "      <th>0</th>\n",
       "      <td>Ato_Cessao</td>\n",
       "      <td>Processo:060.011.183/2014. Interessado: FERNAN...</td>\n",
       "    </tr>\n",
       "    <tr>\n",
       "      <th>1</th>\n",
       "      <td>cargo_efetivo</td>\n",
       "      <td>Tecnico Administrativo</td>\n",
       "    </tr>\n",
       "    <tr>\n",
       "      <th>2</th>\n",
       "      <td>cargo_orgao_cessionario</td>\n",
       "      <td>Assessor da Unidade de Administracao Geral da ...</td>\n",
       "    </tr>\n",
       "    <tr>\n",
       "      <th>3</th>\n",
       "      <td>fundamento_legal</td>\n",
       "      <td>Decreto no 35.403 7/5/2014, combinado com o ar...</td>\n",
       "    </tr>\n",
       "    <tr>\n",
       "      <th>4</th>\n",
       "      <td>matricula</td>\n",
       "      <td>122.711-4</td>\n",
       "    </tr>\n",
       "    <tr>\n",
       "      <th>5</th>\n",
       "      <td>nome</td>\n",
       "      <td>FERNANDES BARNABE \\nDA SILVA</td>\n",
       "    </tr>\n",
       "    <tr>\n",
       "      <th>6</th>\n",
       "      <td>onus</td>\n",
       "      <td>para o orgao de origem</td>\n",
       "    </tr>\n",
       "    <tr>\n",
       "      <th>7</th>\n",
       "      <td>orgao_cedente</td>\n",
       "      <td>Secretaria de Estado de \\nSaude do Distrito Fe...</td>\n",
       "    </tr>\n",
       "    <tr>\n",
       "      <th>8</th>\n",
       "      <td>orgao_cessionario</td>\n",
       "      <td>Secretaria de Estado de Educacao do Distrito F...</td>\n",
       "    </tr>\n",
       "    <tr>\n",
       "      <th>9</th>\n",
       "      <td>processo_SEI</td>\n",
       "      <td>060.011.183/2014</td>\n",
       "    </tr>\n",
       "    <tr>\n",
       "      <th>10</th>\n",
       "      <td>simbolo</td>\n",
       "      <td>DFG-14</td>\n",
       "    </tr>\n",
       "    <tr>\n",
       "      <th>11</th>\n",
       "      <td>vigencia</td>\n",
       "      <td>NaN</td>\n",
       "    </tr>\n",
       "    <tr>\n",
       "      <th>12</th>\n",
       "      <td>hierarquia_lotacao</td>\n",
       "      <td>NaN</td>\n",
       "    </tr>\n",
       "  </tbody>\n",
       "</table>\n",
       "</div>"
      ],
      "text/plain": [
       "                 Unnamed: 0                                                  0\n",
       "0                Ato_Cessao  Processo:060.011.183/2014. Interessado: FERNAN...\n",
       "1             cargo_efetivo                             Tecnico Administrativo\n",
       "2   cargo_orgao_cessionario  Assessor da Unidade de Administracao Geral da ...\n",
       "3          fundamento_legal  Decreto no 35.403 7/5/2014, combinado com o ar...\n",
       "4                 matricula                                          122.711-4\n",
       "5                      nome                       FERNANDES BARNABE \\nDA SILVA\n",
       "6                      onus                             para o orgao de origem\n",
       "7             orgao_cedente  Secretaria de Estado de \\nSaude do Distrito Fe...\n",
       "8         orgao_cessionario  Secretaria de Estado de Educacao do Distrito F...\n",
       "9              processo_SEI                                   060.011.183/2014\n",
       "10                  simbolo                                             DFG-14\n",
       "11                 vigencia                                                NaN\n",
       "12       hierarquia_lotacao                                                NaN"
      ]
     },
     "execution_count": 14,
     "metadata": {},
     "output_type": "execute_result"
    }
   ],
   "source": [
    "pd.read_csv('cessao_exemplo.csv')"
   ]
  },
  {
   "cell_type": "code",
   "execution_count": null,
   "metadata": {},
   "outputs": [],
   "source": []
  },
  {
   "cell_type": "code",
   "execution_count": 11,
   "metadata": {},
   "outputs": [],
   "source": [
    "for k, v in atos_csv_dict.items():\n",
    "    if 'labels_IOB' in v.columns:\n",
    "        v.pop('labels_IOB')\n"
   ]
  },
  {
   "cell_type": "code",
   "execution_count": 12,
   "metadata": {
    "scrolled": true
   },
   "outputs": [
    {
     "data": {
      "text/plain": [
       "Index(['Ato_Cessao', 'cargo_efetivo', 'cargo_orgao_cessionario',\n",
       "       'fundamento_legal', 'matricula', 'nome', 'onus', 'orgao_cedente',\n",
       "       'orgao_cessionario', 'processo_SEI', 'simbolo', 'vigencia',\n",
       "       'hierarquia_lotacao'],\n",
       "      dtype='object')"
      ]
     },
     "execution_count": 12,
     "metadata": {},
     "output_type": "execute_result"
    }
   ],
   "source": [
    "atos_csv_dict['Ato_Cessao'].columns"
   ]
  },
  {
   "cell_type": "code",
   "execution_count": 18,
   "metadata": {},
   "outputs": [
    {
     "name": "stderr",
     "output_type": "stream",
     "text": [
      "INFO  [alembic.runtime.migration] Context impl SQLiteImpl.\n",
      "INFO  [alembic.runtime.migration] Will assume non-transactional DDL.\n"
     ]
    }
   ],
   "source": [
    "mlflow.end_run()"
   ]
  },
  {
   "cell_type": "code",
   "execution_count": 19,
   "metadata": {
    "collapsed": true
   },
   "outputs": [
    {
     "name": "stderr",
     "output_type": "stream",
     "text": [
      "INFO  [alembic.runtime.migration] Context impl SQLiteImpl.\n",
      "INFO  [alembic.runtime.migration] Will assume non-transactional DDL.\n"
     ]
    },
    {
     "name": "stdout",
     "output_type": "stream",
     "text": [
      "RUN: 6fd0b1b454c24bbd9cb87082d398d904\n",
      "------------------------------------------------------------------------------------\n",
      "Ato:Ato_Exoneracao_Comissionado\n",
      "Tamanho: 755\n"
     ]
    },
    {
     "name": "stderr",
     "output_type": "stream",
     "text": [
      "INFO  [alembic.runtime.migration] Context impl SQLiteImpl.\n",
      "INFO  [alembic.runtime.migration] Will assume non-transactional DDL.\n",
      "INFO  [alembic.runtime.migration] Context impl SQLiteImpl.\n",
      "INFO  [alembic.runtime.migration] Will assume non-transactional DDL.\n",
      "INFO  [alembic.runtime.migration] Context impl SQLiteImpl.\n",
      "INFO  [alembic.runtime.migration] Will assume non-transactional DDL.\n",
      "Successfully registered model 'Ato_Exoneracao_Comissionado'.\n",
      "INFO  [alembic.runtime.migration] Context impl SQLiteImpl.\n",
      "INFO  [alembic.runtime.migration] Will assume non-transactional DDL.\n"
     ]
    },
    {
     "name": "stdout",
     "output_type": "stream",
     "text": [
      "{'fit_time': array([1.73572803, 1.71416402, 1.8003242 ]), 'score_time': array([0.1381259 , 0.12973213, 0.08950257]), 'estimator': (Pipeline(steps=[('featurizer',\n",
      "                 <__main__.FeatureTransformer object at 0x7f4bc83e9c70>),\n",
      "                ('model',\n",
      "                 CRF(algorithm='l2sgd', all_possible_transitions=True, c2=1,\n",
      "                     keep_tempfiles=None, max_iterations=10))]), Pipeline(steps=[('featurizer',\n",
      "                 <__main__.FeatureTransformer object at 0x7f4bc83e9ac0>),\n",
      "                ('model',\n",
      "                 CRF(algorithm='l2sgd', all_possible_transitions=True, c2=1,\n",
      "                     keep_tempfiles=None, max_iterations=10))]), Pipeline(steps=[('featurizer',\n",
      "                 <__main__.FeatureTransformer object at 0x7f4bc83e9670>),\n",
      "                ('model',\n",
      "                 CRF(algorithm='l2sgd', all_possible_transitions=True, c2=1,\n",
      "                     keep_tempfiles=None, max_iterations=10))])), 'test_score': array([0.88073691, 0.91179742, 0.91190716])}\n"
     ]
    },
    {
     "name": "stderr",
     "output_type": "stream",
     "text": [
      "2021/04/09 08:49:01 INFO mlflow.tracking._model_registry.client: Waiting up to 300 seconds for model version to finish creation.                     Model name: Ato_Exoneracao_Comissionado, version 1\n",
      "Created version '1' of model 'Ato_Exoneracao_Comissionado'.\n"
     ]
    },
    {
     "name": "stdout",
     "output_type": "stream",
     "text": [
      "------------------------------------------------------------------------------------\n",
      "Ato:Ato_Nomeacao_Comissionado\n",
      "Tamanho: 619\n"
     ]
    },
    {
     "name": "stderr",
     "output_type": "stream",
     "text": [
      "INFO  [alembic.runtime.migration] Context impl SQLiteImpl.\n",
      "INFO  [alembic.runtime.migration] Will assume non-transactional DDL.\n",
      "INFO  [alembic.runtime.migration] Context impl SQLiteImpl.\n",
      "INFO  [alembic.runtime.migration] Will assume non-transactional DDL.\n",
      "INFO  [alembic.runtime.migration] Context impl SQLiteImpl.\n",
      "INFO  [alembic.runtime.migration] Will assume non-transactional DDL.\n",
      "Successfully registered model 'Ato_Nomeacao_Comissionado'.\n",
      "INFO  [alembic.runtime.migration] Context impl SQLiteImpl.\n",
      "INFO  [alembic.runtime.migration] Will assume non-transactional DDL.\n",
      "2021/04/09 08:49:06 INFO mlflow.tracking._model_registry.client: Waiting up to 300 seconds for model version to finish creation.                     Model name: Ato_Nomeacao_Comissionado, version 1\n"
     ]
    },
    {
     "name": "stdout",
     "output_type": "stream",
     "text": [
      "{'fit_time': array([0.85650086, 0.88541746, 0.8450098 ]), 'score_time': array([0.08039355, 0.0732193 , 0.07158875]), 'estimator': (Pipeline(steps=[('featurizer',\n",
      "                 <__main__.FeatureTransformer object at 0x7f4bc31e2400>),\n",
      "                ('model',\n",
      "                 CRF(algorithm='l2sgd', all_possible_transitions=True, c2=1,\n",
      "                     keep_tempfiles=None, max_iterations=10))]), Pipeline(steps=[('featurizer',\n",
      "                 <__main__.FeatureTransformer object at 0x7f4bc31e2310>),\n",
      "                ('model',\n",
      "                 CRF(algorithm='l2sgd', all_possible_transitions=True, c2=1,\n",
      "                     keep_tempfiles=None, max_iterations=10))]), Pipeline(steps=[('featurizer',\n",
      "                 <__main__.FeatureTransformer object at 0x7f4bc31e2070>),\n",
      "                ('model',\n",
      "                 CRF(algorithm='l2sgd', all_possible_transitions=True, c2=1,\n",
      "                     keep_tempfiles=None, max_iterations=10))])), 'test_score': array([0.90603883, 0.90594945, 0.90653994])}\n",
      "------------------------------------------------------------------------------------\n",
      "Ato:Ato_Tornado_Sem_Efeito_Exo_Nom\n",
      "Tamanho: 54\n"
     ]
    },
    {
     "name": "stderr",
     "output_type": "stream",
     "text": [
      "Created version '1' of model 'Ato_Nomeacao_Comissionado'.\n",
      "INFO  [alembic.runtime.migration] Context impl SQLiteImpl.\n",
      "INFO  [alembic.runtime.migration] Will assume non-transactional DDL.\n",
      "INFO  [alembic.runtime.migration] Context impl SQLiteImpl.\n",
      "INFO  [alembic.runtime.migration] Will assume non-transactional DDL.\n",
      "INFO  [alembic.runtime.migration] Context impl SQLiteImpl.\n",
      "INFO  [alembic.runtime.migration] Will assume non-transactional DDL.\n",
      "Successfully registered model 'Ato_Tornado_Sem_Efeito_Exo_Nom'.\n",
      "INFO  [alembic.runtime.migration] Context impl SQLiteImpl.\n",
      "INFO  [alembic.runtime.migration] Will assume non-transactional DDL.\n",
      "2021/04/09 08:49:08 INFO mlflow.tracking._model_registry.client: Waiting up to 300 seconds for model version to finish creation.                     Model name: Ato_Tornado_Sem_Efeito_Exo_Nom, version 1\n"
     ]
    },
    {
     "name": "stdout",
     "output_type": "stream",
     "text": [
      "{'fit_time': array([0.18725252, 0.22993183, 0.25142217]), 'score_time': array([0.01307011, 0.01447725, 0.01560259]), 'estimator': (Pipeline(steps=[('featurizer',\n",
      "                 <__main__.FeatureTransformer object at 0x7f4bc83609a0>),\n",
      "                ('model',\n",
      "                 CRF(algorithm='l2sgd', all_possible_transitions=True, c2=1,\n",
      "                     keep_tempfiles=None, max_iterations=10))]), Pipeline(steps=[('featurizer',\n",
      "                 <__main__.FeatureTransformer object at 0x7f4bc8360490>),\n",
      "                ('model',\n",
      "                 CRF(algorithm='l2sgd', all_possible_transitions=True, c2=1,\n",
      "                     keep_tempfiles=None, max_iterations=10))]), Pipeline(steps=[('featurizer',\n",
      "                 <__main__.FeatureTransformer object at 0x7f4bc8360430>),\n",
      "                ('model',\n",
      "                 CRF(algorithm='l2sgd', all_possible_transitions=True, c2=1,\n",
      "                     keep_tempfiles=None, max_iterations=10))])), 'test_score': array([0.82083662, 0.8160834 , 0.9141252 ])}\n"
     ]
    },
    {
     "name": "stderr",
     "output_type": "stream",
     "text": [
      "Created version '1' of model 'Ato_Tornado_Sem_Efeito_Exo_Nom'.\n"
     ]
    },
    {
     "name": "stdout",
     "output_type": "stream",
     "text": [
      "------------------------------------------------------------------------------------\n",
      "Ato:Ato_Exoneracao_Efetivo\n",
      "Tamanho: 79\n"
     ]
    },
    {
     "name": "stderr",
     "output_type": "stream",
     "text": [
      "INFO  [alembic.runtime.migration] Context impl SQLiteImpl.\n",
      "INFO  [alembic.runtime.migration] Will assume non-transactional DDL.\n",
      "INFO  [alembic.runtime.migration] Context impl SQLiteImpl.\n",
      "INFO  [alembic.runtime.migration] Will assume non-transactional DDL.\n",
      "INFO  [alembic.runtime.migration] Context impl SQLiteImpl.\n",
      "INFO  [alembic.runtime.migration] Will assume non-transactional DDL.\n",
      "Successfully registered model 'Ato_Exoneracao_Efetivo'.\n",
      "INFO  [alembic.runtime.migration] Context impl SQLiteImpl.\n",
      "INFO  [alembic.runtime.migration] Will assume non-transactional DDL.\n",
      "2021/04/09 08:49:10 INFO mlflow.tracking._model_registry.client: Waiting up to 300 seconds for model version to finish creation.                     Model name: Ato_Exoneracao_Efetivo, version 1\n"
     ]
    },
    {
     "name": "stdout",
     "output_type": "stream",
     "text": [
      "{'fit_time': array([0.3453145 , 0.35548115, 0.33597589]), 'score_time': array([0.03133154, 0.02397823, 0.02232933]), 'estimator': (Pipeline(steps=[('featurizer',\n",
      "                 <__main__.FeatureTransformer object at 0x7f4bc8568ac0>),\n",
      "                ('model',\n",
      "                 CRF(algorithm='l2sgd', all_possible_transitions=True, c2=1,\n",
      "                     keep_tempfiles=None, max_iterations=10))]), Pipeline(steps=[('featurizer',\n",
      "                 <__main__.FeatureTransformer object at 0x7f4bc8568df0>),\n",
      "                ('model',\n",
      "                 CRF(algorithm='l2sgd', all_possible_transitions=True, c2=1,\n",
      "                     keep_tempfiles=None, max_iterations=10))]), Pipeline(steps=[('featurizer',\n",
      "                 <__main__.FeatureTransformer object at 0x7f4bc8568a00>),\n",
      "                ('model',\n",
      "                 CRF(algorithm='l2sgd', all_possible_transitions=True, c2=1,\n",
      "                     keep_tempfiles=None, max_iterations=10))])), 'test_score': array([0.96309963, 0.98827335, 0.87954309])}\n",
      "------------------------------------------------------------------------------------\n",
      "Ato:Ato_Retificacao_Comissionado\n",
      "Tamanho: 50\n"
     ]
    },
    {
     "name": "stderr",
     "output_type": "stream",
     "text": [
      "Created version '1' of model 'Ato_Exoneracao_Efetivo'.\n",
      "INFO  [alembic.runtime.migration] Context impl SQLiteImpl.\n",
      "INFO  [alembic.runtime.migration] Will assume non-transactional DDL.\n",
      "INFO  [alembic.runtime.migration] Context impl SQLiteImpl.\n",
      "INFO  [alembic.runtime.migration] Will assume non-transactional DDL.\n",
      "INFO  [alembic.runtime.migration] Context impl SQLiteImpl.\n",
      "INFO  [alembic.runtime.migration] Will assume non-transactional DDL.\n",
      "Successfully registered model 'Ato_Retificacao_Comissionado'.\n",
      "INFO  [alembic.runtime.migration] Context impl SQLiteImpl.\n",
      "INFO  [alembic.runtime.migration] Will assume non-transactional DDL.\n",
      "2021/04/09 08:49:12 INFO mlflow.tracking._model_registry.client: Waiting up to 300 seconds for model version to finish creation.                     Model name: Ato_Retificacao_Comissionado, version 1\n"
     ]
    },
    {
     "name": "stdout",
     "output_type": "stream",
     "text": [
      "{'fit_time': array([0.14762449, 0.16361856, 0.1792922 ]), 'score_time': array([0.01174927, 0.0138483 , 0.01304817]), 'estimator': (Pipeline(steps=[('featurizer',\n",
      "                 <__main__.FeatureTransformer object at 0x7f4bc3fc8a00>),\n",
      "                ('model',\n",
      "                 CRF(algorithm='l2sgd', all_possible_transitions=True, c2=1,\n",
      "                     keep_tempfiles=None, max_iterations=10))]), Pipeline(steps=[('featurizer',\n",
      "                 <__main__.FeatureTransformer object at 0x7f4bc3fc8220>),\n",
      "                ('model',\n",
      "                 CRF(algorithm='l2sgd', all_possible_transitions=True, c2=1,\n",
      "                     keep_tempfiles=None, max_iterations=10))]), Pipeline(steps=[('featurizer',\n",
      "                 <__main__.FeatureTransformer object at 0x7f4bc8b758e0>),\n",
      "                ('model',\n",
      "                 CRF(algorithm='l2sgd', all_possible_transitions=True, c2=1,\n",
      "                     keep_tempfiles=None, max_iterations=10))])), 'test_score': array([0.72805508, 0.66064415, 0.78390201])}\n",
      "------------------------------------------------------------------------------------\n",
      "Ato:Ato_Substituicao\n",
      "Tamanho: 308\n"
     ]
    },
    {
     "name": "stderr",
     "output_type": "stream",
     "text": [
      "Created version '1' of model 'Ato_Retificacao_Comissionado'.\n",
      "INFO  [alembic.runtime.migration] Context impl SQLiteImpl.\n",
      "INFO  [alembic.runtime.migration] Will assume non-transactional DDL.\n",
      "INFO  [alembic.runtime.migration] Context impl SQLiteImpl.\n",
      "INFO  [alembic.runtime.migration] Will assume non-transactional DDL.\n",
      "INFO  [alembic.runtime.migration] Context impl SQLiteImpl.\n",
      "INFO  [alembic.runtime.migration] Will assume non-transactional DDL.\n",
      "Successfully registered model 'Ato_Substituicao'.\n",
      "INFO  [alembic.runtime.migration] Context impl SQLiteImpl.\n",
      "INFO  [alembic.runtime.migration] Will assume non-transactional DDL.\n",
      "2021/04/09 08:49:20 INFO mlflow.tracking._model_registry.client: Waiting up to 300 seconds for model version to finish creation.                     Model name: Ato_Substituicao, version 1\n"
     ]
    },
    {
     "name": "stdout",
     "output_type": "stream",
     "text": [
      "{'fit_time': array([1.3461411 , 1.34763193, 1.54343343]), 'score_time': array([0.0775249 , 0.07454276, 0.07257032]), 'estimator': (Pipeline(steps=[('featurizer',\n",
      "                 <__main__.FeatureTransformer object at 0x7f4bc83d1b80>),\n",
      "                ('model',\n",
      "                 CRF(algorithm='l2sgd', all_possible_transitions=True, c2=1,\n",
      "                     keep_tempfiles=None, max_iterations=10))]), Pipeline(steps=[('featurizer',\n",
      "                 <__main__.FeatureTransformer object at 0x7f4bc329e760>),\n",
      "                ('model',\n",
      "                 CRF(algorithm='l2sgd', all_possible_transitions=True, c2=1,\n",
      "                     keep_tempfiles=None, max_iterations=10))]), Pipeline(steps=[('featurizer',\n",
      "                 <__main__.FeatureTransformer object at 0x7f4bc2f26bb0>),\n",
      "                ('model',\n",
      "                 CRF(algorithm='l2sgd', all_possible_transitions=True, c2=1,\n",
      "                     keep_tempfiles=None, max_iterations=10))])), 'test_score': array([0.84641594, 0.8557037 , 0.74656189])}\n",
      "------------------------------------------------------------------------------------\n",
      "Ato:Ato_Cessao\n",
      "Tamanho: 60\n"
     ]
    },
    {
     "name": "stderr",
     "output_type": "stream",
     "text": [
      "Created version '1' of model 'Ato_Substituicao'.\n",
      "INFO  [alembic.runtime.migration] Context impl SQLiteImpl.\n",
      "INFO  [alembic.runtime.migration] Will assume non-transactional DDL.\n",
      "INFO  [alembic.runtime.migration] Context impl SQLiteImpl.\n",
      "INFO  [alembic.runtime.migration] Will assume non-transactional DDL.\n",
      "INFO  [alembic.runtime.migration] Context impl SQLiteImpl.\n",
      "INFO  [alembic.runtime.migration] Will assume non-transactional DDL.\n",
      "Successfully registered model 'Ato_Cessao'.\n",
      "INFO  [alembic.runtime.migration] Context impl SQLiteImpl.\n",
      "INFO  [alembic.runtime.migration] Will assume non-transactional DDL.\n",
      "2021/04/09 08:49:24 INFO mlflow.tracking._model_registry.client: Waiting up to 300 seconds for model version to finish creation.                     Model name: Ato_Cessao, version 1\n"
     ]
    },
    {
     "name": "stdout",
     "output_type": "stream",
     "text": [
      "{'fit_time': array([0.48203325, 0.59248304, 0.57789063]), 'score_time': array([0.03817201, 0.03195262, 0.03377843]), 'estimator': (Pipeline(steps=[('featurizer',\n",
      "                 <__main__.FeatureTransformer object at 0x7f4bc83a16a0>),\n",
      "                ('model',\n",
      "                 CRF(algorithm='l2sgd', all_possible_transitions=True, c2=1,\n",
      "                     keep_tempfiles=None, max_iterations=10))]), Pipeline(steps=[('featurizer',\n",
      "                 <__main__.FeatureTransformer object at 0x7f4bc98f8d30>),\n",
      "                ('model',\n",
      "                 CRF(algorithm='l2sgd', all_possible_transitions=True, c2=1,\n",
      "                     keep_tempfiles=None, max_iterations=10))]), Pipeline(steps=[('featurizer',\n",
      "                 <__main__.FeatureTransformer object at 0x7f4bc867ff70>),\n",
      "                ('model',\n",
      "                 CRF(algorithm='l2sgd', all_possible_transitions=True, c2=1,\n",
      "                     keep_tempfiles=None, max_iterations=10))])), 'test_score': array([0.75240595, 0.6290886 , 0.72818455])}\n",
      "------------------------------------------------------------------------------------\n",
      "Ato:Ato_Retificacao_Efetivo\n",
      "Tamanho: 127\n"
     ]
    },
    {
     "name": "stderr",
     "output_type": "stream",
     "text": [
      "Created version '1' of model 'Ato_Cessao'.\n",
      "INFO  [alembic.runtime.migration] Context impl SQLiteImpl.\n",
      "INFO  [alembic.runtime.migration] Will assume non-transactional DDL.\n",
      "INFO  [alembic.runtime.migration] Context impl SQLiteImpl.\n",
      "INFO  [alembic.runtime.migration] Will assume non-transactional DDL.\n",
      "INFO  [alembic.runtime.migration] Context impl SQLiteImpl.\n",
      "INFO  [alembic.runtime.migration] Will assume non-transactional DDL.\n",
      "Successfully registered model 'Ato_Retificacao_Efetivo'.\n",
      "INFO  [alembic.runtime.migration] Context impl SQLiteImpl.\n",
      "INFO  [alembic.runtime.migration] Will assume non-transactional DDL.\n",
      "2021/04/09 08:49:29 INFO mlflow.tracking._model_registry.client: Waiting up to 300 seconds for model version to finish creation.                     Model name: Ato_Retificacao_Efetivo, version 1\n"
     ]
    },
    {
     "name": "stdout",
     "output_type": "stream",
     "text": [
      "{'fit_time': array([1.01865315, 0.8147068 , 0.46663809]), 'score_time': array([0.04298353, 0.04095507, 0.04090142]), 'estimator': (Pipeline(steps=[('featurizer',\n",
      "                 <__main__.FeatureTransformer object at 0x7f4bc84f7e50>),\n",
      "                ('model',\n",
      "                 CRF(algorithm='l2sgd', all_possible_transitions=True, c2=1,\n",
      "                     keep_tempfiles=None, max_iterations=10))]), Pipeline(steps=[('featurizer',\n",
      "                 <__main__.FeatureTransformer object at 0x7f4bc4169a90>),\n",
      "                ('model',\n",
      "                 CRF(algorithm='l2sgd', all_possible_transitions=True, c2=1,\n",
      "                     keep_tempfiles=None, max_iterations=10))]), Pipeline(steps=[('featurizer',\n",
      "                 <__main__.FeatureTransformer object at 0x7f4bc4169dc0>),\n",
      "                ('model',\n",
      "                 CRF(algorithm='l2sgd', all_possible_transitions=True, c2=1,\n",
      "                     keep_tempfiles=None, max_iterations=10))])), 'test_score': array([0.69959812, 0.58222491, 0.58292398])}\n",
      "------------------------------------------------------------------------------------\n",
      "Ato:Ato_Nomeacao_Efetivo\n",
      "Tamanho: 7\n"
     ]
    },
    {
     "name": "stderr",
     "output_type": "stream",
     "text": [
      "Created version '1' of model 'Ato_Retificacao_Efetivo'.\n",
      "INFO  [alembic.runtime.migration] Context impl SQLiteImpl.\n",
      "INFO  [alembic.runtime.migration] Will assume non-transactional DDL.\n",
      "INFO  [alembic.runtime.migration] Context impl SQLiteImpl.\n",
      "INFO  [alembic.runtime.migration] Will assume non-transactional DDL.\n",
      "INFO  [alembic.runtime.migration] Context impl SQLiteImpl.\n",
      "INFO  [alembic.runtime.migration] Will assume non-transactional DDL.\n",
      "Successfully registered model 'Ato_Nomeacao_Efetivo'.\n",
      "INFO  [alembic.runtime.migration] Context impl SQLiteImpl.\n",
      "INFO  [alembic.runtime.migration] Will assume non-transactional DDL.\n",
      "2021/04/09 08:49:29 INFO mlflow.tracking._model_registry.client: Waiting up to 300 seconds for model version to finish creation.                     Model name: Ato_Nomeacao_Efetivo, version 1\n"
     ]
    },
    {
     "name": "stdout",
     "output_type": "stream",
     "text": [
      "0.0\n",
      "                                precision    recall  f1-score   support\n",
      "\n",
      "            B-edital_normativo      0.000     0.000     0.000         2\n",
      "            I-edital_normativo      0.000     0.000     0.000         4\n",
      "B-numero_dodf_edital_normativo      0.000     0.000     0.000         3\n",
      "  B-data_dodf_edital_normativo      0.000     0.000     0.000         3\n",
      "  I-data_dodf_edital_normativo      0.000     0.000     0.000        12\n",
      " B-numero_dodf_resultado_final      0.000     0.000     0.000         3\n",
      "   B-data_dodf_resultado_final      0.000     0.000     0.000         3\n",
      "   I-data_dodf_resultado_final      0.000     0.000     0.000        12\n",
      "                       B-cargo      0.000     0.000     0.000         3\n",
      "                    B-carreira      0.000     0.000     0.000         3\n",
      "                       B-orgao      0.000     0.000     0.000         0\n",
      "                       I-orgao      0.000     0.000     0.000         0\n",
      "                   B-candidato      0.000     0.000     0.000         3\n",
      "                   I-candidato      0.000     0.000     0.000         9\n",
      "      B-edital_resultado_final      0.000     0.000     0.000         3\n",
      "      I-edital_resultado_final      0.000     0.000     0.000         4\n",
      "                        B-nome      0.000     0.000     0.000         0\n",
      "                        I-nome      0.000     0.000     0.000         0\n",
      "       B-data_edital_normativo      0.000     0.000     0.000         2\n",
      "       I-data_edital_normativo      0.000     0.000     0.000         8\n",
      " B-data_edital_resultado_final      0.000     0.000     0.000         3\n",
      " I-data_edital_resultado_final      0.000     0.000     0.000        12\n",
      "                       I-cargo      0.000     0.000     0.000        11\n",
      "\n",
      "                     micro avg      0.000     0.000     0.000       103\n",
      "                     macro avg      0.000     0.000     0.000       103\n",
      "                  weighted avg      0.000     0.000     0.000       103\n",
      "\n"
     ]
    },
    {
     "name": "stderr",
     "output_type": "stream",
     "text": [
      "Created version '1' of model 'Ato_Nomeacao_Efetivo'.\n"
     ]
    },
    {
     "name": "stdout",
     "output_type": "stream",
     "text": [
      "------------------------------------------------------------------------------------\n",
      "Ato:Ato_Abono_Permanencia\n",
      "Tamanho: 33\n"
     ]
    },
    {
     "name": "stderr",
     "output_type": "stream",
     "text": [
      "INFO  [alembic.runtime.migration] Context impl SQLiteImpl.\n",
      "INFO  [alembic.runtime.migration] Will assume non-transactional DDL.\n",
      "INFO  [alembic.runtime.migration] Context impl SQLiteImpl.\n",
      "INFO  [alembic.runtime.migration] Will assume non-transactional DDL.\n",
      "INFO  [alembic.runtime.migration] Context impl SQLiteImpl.\n",
      "INFO  [alembic.runtime.migration] Will assume non-transactional DDL.\n",
      "Successfully registered model 'Ato_Abono_Permanencia'.\n",
      "INFO  [alembic.runtime.migration] Context impl SQLiteImpl.\n",
      "INFO  [alembic.runtime.migration] Will assume non-transactional DDL.\n"
     ]
    },
    {
     "name": "stdout",
     "output_type": "stream",
     "text": [
      "{'fit_time': array([0.17945194, 0.12030792, 0.23139238]), 'score_time': array([0.01082611, 0.03179932, 0.01176691]), 'estimator': (Pipeline(steps=[('featurizer',\n",
      "                 <__main__.FeatureTransformer object at 0x7f4bc4190fa0>),\n",
      "                ('model',\n",
      "                 CRF(algorithm='l2sgd', all_possible_transitions=True, c2=1,\n",
      "                     keep_tempfiles=None, max_iterations=10))]), Pipeline(steps=[('featurizer',\n",
      "                 <__main__.FeatureTransformer object at 0x7f4bc4190e80>),\n",
      "                ('model',\n",
      "                 CRF(algorithm='l2sgd', all_possible_transitions=True, c2=1,\n",
      "                     keep_tempfiles=None, max_iterations=10))]), Pipeline(steps=[('featurizer',\n",
      "                 <__main__.FeatureTransformer object at 0x7f4bc4190eb0>),\n",
      "                ('model',\n",
      "                 CRF(algorithm='l2sgd', all_possible_transitions=True, c2=1,\n",
      "                     keep_tempfiles=None, max_iterations=10))])), 'test_score': array([0.70177074, 0.5326138 , 0.61961503])}\n"
     ]
    },
    {
     "name": "stderr",
     "output_type": "stream",
     "text": [
      "2021/04/09 08:49:31 INFO mlflow.tracking._model_registry.client: Waiting up to 300 seconds for model version to finish creation.                     Model name: Ato_Abono_Permanencia, version 1\n",
      "Created version '1' of model 'Ato_Abono_Permanencia'.\n",
      "INFO  [alembic.runtime.migration] Context impl SQLiteImpl.\n",
      "INFO  [alembic.runtime.migration] Will assume non-transactional DDL.\n",
      "INFO  [alembic.runtime.migration] Context impl SQLiteImpl.\n",
      "INFO  [alembic.runtime.migration] Will assume non-transactional DDL.\n",
      "INFO  [alembic.runtime.migration] Context impl SQLiteImpl.\n",
      "INFO  [alembic.runtime.migration] Will assume non-transactional DDL.\n",
      "Successfully registered model 'Ato_Tornado_Sem_Efeito_Apo'.\n",
      "INFO  [alembic.runtime.migration] Context impl SQLiteImpl.\n",
      "INFO  [alembic.runtime.migration] Will assume non-transactional DDL.\n"
     ]
    },
    {
     "name": "stdout",
     "output_type": "stream",
     "text": [
      "------------------------------------------------------------------------------------\n",
      "Ato:Ato_Tornado_Sem_Efeito_Apo\n",
      "Tamanho: 2\n",
      "0.0\n",
      "                    precision    recall  f1-score   support\n",
      "\n",
      "  B-tipo_documento      0.000     0.000     0.000         1\n",
      "  I-tipo_documento      0.000     0.000     0.000         0\n",
      "  B-data_documento      0.000     0.000     0.000         1\n",
      "  I-data_documento      0.000     0.000     0.000         2\n",
      "     B-numero_dodf      0.000     0.000     0.000         1\n",
      "       B-data_dodf      0.000     0.000     0.000         1\n",
      "       I-data_dodf      0.000     0.000     0.000         2\n",
      "     B-pagina_dodf      0.000     0.000     0.000         1\n",
      "            B-nome      0.000     0.000     0.000         1\n",
      "            I-nome      0.000     0.000     0.000         3\n",
      "       B-matricula      0.000     0.000     0.000         1\n",
      "       I-matricula      0.000     0.000     0.000         2\n",
      "   B-cargo_efetivo      0.000     0.000     0.000         0\n",
      "   I-cargo_efetivo      0.000     0.000     0.000         0\n",
      "B-fundamento_legal      0.000     0.000     0.000         0\n",
      "I-fundamento_legal      0.000     0.000     0.000         0\n",
      "    B-processo_SEI      0.000     0.000     0.000         1\n",
      "    I-processo_SEI      0.000     0.000     0.000         3\n",
      "\n",
      "         micro avg      0.000     0.000     0.000        20\n",
      "         macro avg      0.000     0.000     0.000        20\n",
      "      weighted avg      0.000     0.000     0.000        20\n",
      "\n"
     ]
    },
    {
     "name": "stderr",
     "output_type": "stream",
     "text": [
      "2021/04/09 08:49:31 INFO mlflow.tracking._model_registry.client: Waiting up to 300 seconds for model version to finish creation.                     Model name: Ato_Tornado_Sem_Efeito_Apo, version 1\n",
      "Created version '1' of model 'Ato_Tornado_Sem_Efeito_Apo'.\n",
      "INFO  [alembic.runtime.migration] Context impl SQLiteImpl.\n",
      "INFO  [alembic.runtime.migration] Will assume non-transactional DDL.\n",
      "INFO  [alembic.runtime.migration] Context impl SQLiteImpl.\n",
      "INFO  [alembic.runtime.migration] Will assume non-transactional DDL.\n"
     ]
    },
    {
     "name": "stdout",
     "output_type": "stream",
     "text": [
      "------------------------------------------------------------------------------------\n",
      "Ato:Ato_Reversao\n",
      "Tamanho: 8\n",
      "0.9139072847682119\n",
      "                    precision    recall  f1-score   support\n",
      "\n",
      "          B-quadro      0.000     0.000     0.000         0\n",
      "        B-vigencia      1.000     1.000     1.000         3\n",
      "        I-vigencia      1.000     1.000     1.000        12\n",
      "   B-cargo_efetivo      1.000     1.000     1.000        12\n",
      "       B-matricula      0.000     0.000     0.000         3\n",
      "       I-matricula      0.000     0.000     0.000         0\n",
      "          I-quadro      0.000     0.000     0.000         0\n",
      "B-fundamento_legal      1.000     1.000     1.000         3\n",
      "I-fundamento_legal      1.000     1.000     1.000        60\n",
      "          B-motivo      1.000     1.000     1.000         3\n",
      "          I-motivo      1.000     1.000     1.000        21\n",
      "   I-cargo_efetivo      1.000     1.000     1.000        24\n",
      "            B-nome      0.000     0.000     0.000         3\n",
      "            I-nome      0.000     0.000     0.000         7\n",
      "\n",
      "         micro avg      0.902     0.914     0.908       151\n",
      "         macro avg      0.571     0.571     0.571       151\n",
      "      weighted avg      0.914     0.914     0.914       151\n",
      "\n"
     ]
    },
    {
     "name": "stderr",
     "output_type": "stream",
     "text": [
      "INFO  [alembic.runtime.migration] Context impl SQLiteImpl.\n",
      "INFO  [alembic.runtime.migration] Will assume non-transactional DDL.\n",
      "Successfully registered model 'Ato_Reversao'.\n",
      "INFO  [alembic.runtime.migration] Context impl SQLiteImpl.\n",
      "INFO  [alembic.runtime.migration] Will assume non-transactional DDL.\n",
      "2021/04/09 08:49:31 INFO mlflow.tracking._model_registry.client: Waiting up to 300 seconds for model version to finish creation.                     Model name: Ato_Reversao, version 1\n"
     ]
    },
    {
     "name": "stdout",
     "output_type": "stream",
     "text": [
      "CPU times: user 39.9 s, sys: 161 ms, total: 40 s\n",
      "Wall time: 40.4 s\n"
     ]
    },
    {
     "name": "stderr",
     "output_type": "stream",
     "text": [
      "Created version '1' of model 'Ato_Reversao'.\n"
     ]
    }
   ],
   "source": [
    "# %%time\n",
    "# mlflow.set_registry_uri(\"\")\n",
    "mlflow.set_tracking_uri(\"sqlite:///localhost:5000\")\n",
    "training_ratio = 0.7\n",
    "try:\n",
    "    mlflow.end_run()\n",
    "except:\n",
    "    pass\n",
    "run = mlflow.start_run()\n",
    "print(\"RUN:\", run.info.run_id)\n",
    "\n",
    "model = sklearn_crfsuite.CRF(\n",
    "    algorithm = 'l2sgd', \n",
    "    c2=1,\n",
    "    max_iterations=10, \n",
    "    all_possible_transitions=True,\n",
    "    verbose=False\n",
    ")\n",
    "\n",
    "pipe = Pipeline([\n",
    "    ('featurizer', FeatureTransformer()),\n",
    "    ('model', model)\n",
    "])\n",
    "\n",
    "for key in atos_csv_dict.keys():\n",
    "    sz = len(atos_csv_dict[key])\n",
    "    limiar = math.floor(training_ratio*sz)\n",
    "    print(\"------------------------------------------------------------------------------------\")\n",
    "    print(\"Ato:\" + key)\n",
    "    print(\"Tamanho: \" + str(sz))\n",
    "    df = atos_csv_dict[key].copy()\n",
    "    \n",
    "    if sz < 10:\n",
    "        df_train, df_test = df.iloc[:limiar, :], df.iloc[limiar:, :]\n",
    "        pipe.fit(\n",
    "            df_train,\n",
    "            IOB_Transformer().transform(df_train),\n",
    "        );\n",
    "        y_pred = pipe.predict(df_test)\n",
    "        test_y = IOB_Transformer().transform(df_test)\n",
    "\n",
    "        labels = list(pipe.classes_)\n",
    "        labels.remove('O')\n",
    "\n",
    "        f1 = metrics.flat_f1_score(test_y, y_pred, \n",
    "                              average='weighted', labels=labels)\n",
    "    \n",
    "\n",
    "        print(f1)\n",
    "        print(metrics.flat_classification_report(\n",
    "            test_y, y_pred, labels=labels, digits=3\n",
    "        ))\n",
    "        model = pipe\n",
    "\n",
    "    else:\n",
    "        X, y = df, IOB_Transformer().transform(df)\n",
    "        res = cross_validate(\n",
    "            pipe, X, y,\n",
    "            cv = 3, return_estimator=True\n",
    "        )\n",
    "        model = res['estimator'][np.argmax(res['test_score'])]\n",
    "        print(res)\n",
    "    mlflow.sklearn.log_model(\n",
    "        sk_model=model,\n",
    "        artifact_path=f\"model-{key}\",\n",
    "        registered_model_name=key,\n",
    "    )"
   ]
  },
  {
   "cell_type": "code",
   "execution_count": 21,
   "metadata": {},
   "outputs": [],
   "source": [
    "mlflow.end_run()"
   ]
  }
 ],
 "metadata": {
  "kernelspec": {
   "display_name": "Python 3",
   "language": "python",
   "name": "python3"
  },
  "language_info": {
   "codemirror_mode": {
    "name": "ipython",
    "version": 3
   },
   "file_extension": ".py",
   "mimetype": "text/x-python",
   "name": "python",
   "nbconvert_exporter": "python",
   "pygments_lexer": "ipython3",
   "version": "3.8.1"
  }
 },
 "nbformat": 4,
 "nbformat_minor": 4
}
