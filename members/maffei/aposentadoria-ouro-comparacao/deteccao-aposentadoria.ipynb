{
 "cells": [
  {
   "cell_type": "code",
   "execution_count": 1,
   "metadata": {},
   "outputs": [],
   "source": [
    "import requests\n",
    "import ipykernel\n",
    "import re\n",
    "from notebook.notebookapp import list_running_servers\n",
    "from notebook import notebookapp\n",
    "\n",
    "servers = list(notebookapp.list_running_servers())\n",
    "\n",
    "TOKEN = servers[0]['token']\n",
    "\n",
    "base_url = next(list_running_servers())['url']\n",
    "r = requests.get(\n",
    "    url=base_url + 'api/sessions',\n",
    "    headers={'Authorization': 'token {}'.format(TOKEN),})\n",
    "\n",
    "r.raise_for_status()\n",
    "response = r.json()\n",
    "\n",
    "kernel_id = re.search(\n",
    "    'kernel-(.*).json',\n",
    "    ipykernel.connect.get_connection_file()\n",
    ").group(1)\n",
    "\n",
    "NOTEBOOK_PATH = {\n",
    "    r['kernel']['id']: r['notebook']['path']\n",
    "    for r in response\n",
    "}[kernel_id]"
   ]
  },
  {
   "cell_type": "code",
   "execution_count": 2,
   "metadata": {},
   "outputs": [],
   "source": [
    "%load_ext autoreload\n",
    "%autoreload 2\n",
    "import pandas as pd\n",
    "import numpy as np\n",
    "from itertools import chain\n",
    "from collections import Counter\n",
    "import unidecode\n",
    "\n",
    "import glob\n",
    "import re\n",
    "\n",
    "from dodfminer.extract.polished.acts.aposentadoria import Retirements\n",
    "from drawBoxes.drawBoxes import draw2\n",
    "\n",
    "import fitz\n",
    "from utils import get_dodf_num\n",
    "from utils import get_dodf_tipo\n",
    "from utils import get_dodf_reverse_date\n",
    "from utils import get_dodf_key\n",
    "\n",
    "import pickle"
   ]
  },
  {
   "cell_type": "code",
   "execution_count": 3,
   "metadata": {},
   "outputs": [],
   "source": [
    "def get_doc_blocks(doc):\n",
    "    lis = []\n",
    "    for idx, page in enumerate(doc, start=1):\n",
    "        bls = page.getTextBlocks()\n",
    "        bls = [(*i, idx) for i in bls]\n",
    "        lis.extend(bls)\n",
    "    return lis\n",
    "\n",
    "def get_dodfs_path():\n",
    "    return glob.glob('data/aposentadoria-ouro/pdfs/*.pdf')\n",
    "\n",
    "def wRetirements(s):\n",
    "    return Retirements(None, 'regex',\n",
    "                       txt= unidecode.unidecode_expect_ascii(s))\n",
    "def f(x):\n",
    "    if x.name == 'data':\n",
    "        return pd.to_datetime(x)\n",
    "    elif x.name == 'num':\n",
    "        return x.astype(np.int16)\n",
    "    return x\n",
    "\n",
    "INDEX_COL = ['data', 'num', 'tipo']\n",
    "\n",
    "NUM_FILES = 3\n",
    "NUM_FILES = None\n",
    "PATHS = get_dodfs_path()[:NUM_FILES]"
   ]
  },
  {
   "cell_type": "code",
   "execution_count": 4,
   "metadata": {},
   "outputs": [
    {
     "name": "stdout",
     "output_type": "stream",
     "text": [
      "CPU times: user 2min 20s, sys: 1.62 s, total: 2min 21s\n",
      "Wall time: 2min 21s\n"
     ]
    }
   ],
   "source": [
    "%%time\n",
    "df = pd.DataFrame()\n",
    "paths = get_dodfs_path()\n",
    "aposentadorias = {get_dodf_key(i): wRetirements('\\n'.join(\n",
    "        [i[4] for i in get_doc_blocks(fitz.open(i))]\n",
    "    ))\n",
    "    for i in paths\n",
    "}"
   ]
  },
  {
   "cell_type": "code",
   "execution_count": 5,
   "metadata": {},
   "outputs": [],
   "source": [
    "ks, vals = list(aposentadorias.keys()), list(aposentadorias.values())"
   ]
  },
  {
   "cell_type": "code",
   "execution_count": 6,
   "metadata": {},
   "outputs": [
    {
     "data": {
      "text/plain": [
       "('2019-08-16', 155, 'NORMAL')"
      ]
     },
     "execution_count": 6,
     "metadata": {},
     "output_type": "execute_result"
    }
   ],
   "source": [
    "ks[0]"
   ]
  },
  {
   "cell_type": "code",
   "execution_count": 7,
   "metadata": {},
   "outputs": [
    {
     "data": {
      "text/html": [
       "<div>\n",
       "<style scoped>\n",
       "    .dataframe tbody tr th:only-of-type {\n",
       "        vertical-align: middle;\n",
       "    }\n",
       "\n",
       "    .dataframe tbody tr th {\n",
       "        vertical-align: top;\n",
       "    }\n",
       "\n",
       "    .dataframe thead th {\n",
       "        text-align: right;\n",
       "    }\n",
       "</style>\n",
       "<table border=\"1\" class=\"dataframe\">\n",
       "  <thead>\n",
       "    <tr style=\"text-align: right;\">\n",
       "      <th></th>\n",
       "      <th></th>\n",
       "      <th></th>\n",
       "      <th>qtd_miner</th>\n",
       "    </tr>\n",
       "    <tr>\n",
       "      <th>data</th>\n",
       "      <th>num</th>\n",
       "      <th>tipo</th>\n",
       "      <th></th>\n",
       "    </tr>\n",
       "  </thead>\n",
       "  <tbody>\n",
       "    <tr>\n",
       "      <th>2018-04-02</th>\n",
       "      <th>62</th>\n",
       "      <th>NORMAL</th>\n",
       "      <td>10</td>\n",
       "    </tr>\n",
       "    <tr>\n",
       "      <th>2018-04-03</th>\n",
       "      <th>63</th>\n",
       "      <th>NORMAL</th>\n",
       "      <td>1</td>\n",
       "    </tr>\n",
       "    <tr>\n",
       "      <th>2018-04-04</th>\n",
       "      <th>64</th>\n",
       "      <th>NORMAL</th>\n",
       "      <td>15</td>\n",
       "    </tr>\n",
       "  </tbody>\n",
       "</table>\n",
       "</div>"
      ],
      "text/plain": [
       "                       qtd_miner\n",
       "data       num tipo             \n",
       "2018-04-02 62  NORMAL         10\n",
       "2018-04-03 63  NORMAL          1\n",
       "2018-04-04 64  NORMAL         15"
      ]
     },
     "execution_count": 7,
     "metadata": {},
     "output_type": "execute_result"
    }
   ],
   "source": [
    "df = pd.DataFrame.from_records(\n",
    "    [ (*k, v) for (k,v) in aposentadorias.items() ],\n",
    "    columns=INDEX_COL + ['qtd_miner'],\n",
    ")\n",
    "df['qtd_miner'] = df.qtd_miner.map(lambda x: x.data_frame.shape[0])\n",
    "df.set_index(INDEX_COL, inplace=True)\n",
    "df.sort_index(key=f, inplace=True)\n",
    "df.head(3)"
   ]
  },
  {
   "cell_type": "code",
   "execution_count": 8,
   "metadata": {},
   "outputs": [],
   "source": [
    "prf = 'dminer_ctr'\n",
    "df.to_csv(f'{prf}.csv')\n",
    "open(f'{prf}.txt', 'w').write(\n",
    "    f\"notebook de origem: {NOTEBOOK_PATH}\\n\\n\"\n",
    "    f\"O csv correspondente ({prf}.csv) contém o contador de quantos\\n\"\n",
    "    \"casos de aposentadoria foram detectados pela classe Retirements \\n\"\n",
    "    \"considerando os textos dos blocos de todas as páginas concatenados\\n\"\n",
    "    \"separados por quebra de linha.\"\n",
    ")\n",
    "del prf"
   ]
  }
 ],
 "metadata": {
  "kernelspec": {
   "display_name": "Python 3",
   "language": "python",
   "name": "python3"
  },
  "language_info": {
   "codemirror_mode": {
    "name": "ipython",
    "version": 3
   },
   "file_extension": ".py",
   "mimetype": "text/x-python",
   "name": "python",
   "nbconvert_exporter": "python",
   "pygments_lexer": "ipython3",
   "version": "3.8.1"
  }
 },
 "nbformat": 4,
 "nbformat_minor": 4
}
