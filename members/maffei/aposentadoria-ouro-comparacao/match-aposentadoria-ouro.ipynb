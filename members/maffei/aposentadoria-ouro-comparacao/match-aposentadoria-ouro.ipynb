{
 "cells": [
  {
   "cell_type": "code",
   "execution_count": 14,
   "metadata": {},
   "outputs": [],
   "source": [
    "# !ls data/"
   ]
  },
  {
   "cell_type": "code",
   "execution_count": 15,
   "metadata": {},
   "outputs": [],
   "source": [
    "import pandas as pd\n",
    "from collections import Counter\n",
    "import os\n",
    "import glob\n",
    "import re\n",
    "import shutil\n",
    "from matplotlib import pyplot as plt\n",
    "import numpy as np"
   ]
  },
  {
   "cell_type": "code",
   "execution_count": 16,
   "metadata": {},
   "outputs": [],
   "source": [
    "def count_null(df):\n",
    "    return df.isnull().sum()\n",
    "def columns_fix(df):\n",
    "    try:\n",
    "        df_ouro.drop('REF_ANOMES', inplace=True, axis=1)\n",
    "        df_ouro['pagina_dodf'] = df_ouro.pagina_dodf.str.replace(\n",
    "            r'([^\\d]+)',''\n",
    "        )\n",
    "    except:\n",
    "        pass\n",
    "    df_ouro.rename(str.lower, inplace=True, axis=1)\n",
    "    df_ouro.rename(lambda x: x.replace('_dodf', ''), axis=1, inplace=True)\n",
    "    df_ouro.rename(lambda x: x.replace('matricula', 'mat'), axis=1, inplace=True)\n",
    "\n",
    "def postprocess(df):\n",
    "    df['pagina'] = df.pagina.str.replace(r'([^\\d]+)', '')\n",
    "    to_drona_drop = [\n",
    "        'cod_mat_sigrh',\n",
    "        'nome_sigrh',\n",
    "        'fund_legal',\n",
    "        'cargo',\n",
    "        'ato',\n",
    "        \n",
    "    ]\n",
    "    df.dropna(subset=to_drona_drop, inplace=True)\n",
    "    df['data'] = pd.to_datetime(df.data)"
   ]
  },
  {
   "cell_type": "code",
   "execution_count": 17,
   "metadata": {
    "scrolled": true
   },
   "outputs": [],
   "source": [
    "df_ouro = pd.read_csv(\n",
    "    'data/aposentadoria-ouro/aposentaria-ouro-®.csv', sep='®',\n",
    "    engine='python',\n",
    "    index_col=False,\n",
    ")\n",
    "# count_null(df_ouro)\n",
    "columns_fix(df_ouro)\n",
    "postprocess(df_ouro)\n",
    "# df_ouro.columns, df_ouro.dtypes"
   ]
  },
  {
   "cell_type": "code",
   "execution_count": 18,
   "metadata": {
    "scrolled": true
   },
   "outputs": [
    {
     "data": {
      "text/html": [
       "<div>\n",
       "<style scoped>\n",
       "    .dataframe tbody tr th:only-of-type {\n",
       "        vertical-align: middle;\n",
       "    }\n",
       "\n",
       "    .dataframe tbody tr th {\n",
       "        vertical-align: top;\n",
       "    }\n",
       "\n",
       "    .dataframe thead th {\n",
       "        text-align: right;\n",
       "    }\n",
       "</style>\n",
       "<table border=\"1\" class=\"dataframe\">\n",
       "  <thead>\n",
       "    <tr style=\"text-align: right;\">\n",
       "      <th></th>\n",
       "      <th>num</th>\n",
       "      <th>data</th>\n",
       "      <th>nome_ato</th>\n",
       "      <th>ato</th>\n",
       "      <th>pagina</th>\n",
       "      <th>cod_mat_ato</th>\n",
       "      <th>cod_mat_sigrh</th>\n",
       "      <th>tipo</th>\n",
       "      <th>processo</th>\n",
       "    </tr>\n",
       "  </thead>\n",
       "  <tbody>\n",
       "    <tr>\n",
       "      <th>116</th>\n",
       "      <td>68</td>\n",
       "      <td>2018-04-10</td>\n",
       "      <td>CLAUDIA CRISTIANE CAVALCANTE AIELLO</td>\n",
       "      <td>CONCEDER APOSENTADORIA</td>\n",
       "      <td>26</td>\n",
       "      <td>1660377X</td>\n",
       "      <td>01007238</td>\n",
       "      <td>NORMAL</td>\n",
       "      <td>°00070.00011832/2018-38</td>\n",
       "    </tr>\n",
       "  </tbody>\n",
       "</table>\n",
       "</div>"
      ],
      "text/plain": [
       "     num       data                             nome_ato  \\\n",
       "116   68 2018-04-10  CLAUDIA CRISTIANE CAVALCANTE AIELLO   \n",
       "\n",
       "                        ato pagina cod_mat_ato cod_mat_sigrh    tipo  \\\n",
       "116  CONCEDER APOSENTADORIA     26    1660377X      01007238  NORMAL   \n",
       "\n",
       "                    processo  \n",
       "116  °00070.00011832/2018-38  "
      ]
     },
     "execution_count": 18,
     "metadata": {},
     "output_type": "execute_result"
    }
   ],
   "source": [
    "matters = ['num','data', 'nome_ato',\n",
    "        'ato', 'pagina',\n",
    "        'cod_mat_ato',\n",
    "        'cod_mat_sigrh', 'tipo', 'processo'\n",
    "        ]\n",
    "df_zip = df_ouro[matters]\n",
    "df_zip[df_zip.cod_mat_sigrh == '01007238']\n",
    "# df_zip.head()"
   ]
  },
  {
   "cell_type": "code",
   "execution_count": 19,
   "metadata": {
    "scrolled": false
   },
   "outputs": [
    {
     "data": {
      "text/plain": [
       "(CONCEDER APOSENTADORIA    4719\n",
       " APOSENTAR                  766\n",
       " Name: ato, dtype: int64,\n",
       " NORMAL          5442\n",
       " EDICAO EXTRA      42\n",
       " SUPLEMENTO         1\n",
       " Name: tipo, dtype: int64)"
      ]
     },
     "execution_count": 19,
     "metadata": {},
     "output_type": "execute_result"
    }
   ],
   "source": [
    "df_zip.ato.value_counts(),df_zip.tipo.value_counts()"
   ]
  },
  {
   "cell_type": "code",
   "execution_count": 20,
   "metadata": {
    "scrolled": true
   },
   "outputs": [
    {
     "data": {
      "text/html": [
       "<div>\n",
       "<style scoped>\n",
       "    .dataframe tbody tr th:only-of-type {\n",
       "        vertical-align: middle;\n",
       "    }\n",
       "\n",
       "    .dataframe tbody tr th {\n",
       "        vertical-align: top;\n",
       "    }\n",
       "\n",
       "    .dataframe thead th {\n",
       "        text-align: right;\n",
       "    }\n",
       "</style>\n",
       "<table border=\"1\" class=\"dataframe\">\n",
       "  <thead>\n",
       "    <tr style=\"text-align: right;\">\n",
       "      <th></th>\n",
       "      <th>data</th>\n",
       "      <th>num</th>\n",
       "      <th>qtd_miner</th>\n",
       "    </tr>\n",
       "  </thead>\n",
       "  <tbody>\n",
       "    <tr>\n",
       "      <th>0</th>\n",
       "      <td>05-09-2019</td>\n",
       "      <td>169</td>\n",
       "      <td>131</td>\n",
       "    </tr>\n",
       "    <tr>\n",
       "      <th>1</th>\n",
       "      <td>03-07-2018</td>\n",
       "      <td>124</td>\n",
       "      <td>116</td>\n",
       "    </tr>\n",
       "  </tbody>\n",
       "</table>\n",
       "</div>"
      ],
      "text/plain": [
       "         data  num  qtd_miner\n",
       "0  05-09-2019  169        131\n",
       "1  03-07-2018  124        116"
      ]
     },
     "execution_count": 20,
     "metadata": {},
     "output_type": "execute_result"
    }
   ],
   "source": [
    "gp = df_zip.groupby(['data', 'num'])\n",
    "# ks=[i for i in dir(gp) if not i.startswith('_')]\n",
    "date_num = gp.count().iloc[:, [0]].sort_values(\n",
    "    by=['nome_ato', 'data', 'num'], ascending=False)\n",
    "\n",
    "# Arquivo com datas e mnumeros dos DODFs pra baixar\n",
    "# cada qual contendo 50+ ocorrencias\n",
    "date_num = date_num[date_num.iloc[:, 0] > 50]\n",
    "date_num.reset_index(inplace=True)\n",
    "date_num = date_num.rename({'nome_ato':'qtd_miner'}, axis=1)\n",
    "date_num['data'] = date_num.data.map(lambda x: x.strftime('%d-%m-%Y'))\n",
    "date_num.sort_values('data').to_csv(\n",
    "    'data/date_num_gt50.csv',index=False\n",
    ");\n",
    "date_num.head(2)"
   ]
  },
  {
   "cell_type": "code",
   "execution_count": 21,
   "metadata": {},
   "outputs": [
    {
     "data": {
      "text/html": [
       "<div>\n",
       "<style scoped>\n",
       "    .dataframe tbody tr th:only-of-type {\n",
       "        vertical-align: middle;\n",
       "    }\n",
       "\n",
       "    .dataframe tbody tr th {\n",
       "        vertical-align: top;\n",
       "    }\n",
       "\n",
       "    .dataframe thead th {\n",
       "        text-align: right;\n",
       "    }\n",
       "</style>\n",
       "<table border=\"1\" class=\"dataframe\">\n",
       "  <thead>\n",
       "    <tr style=\"text-align: right;\">\n",
       "      <th></th>\n",
       "      <th>data</th>\n",
       "      <th>num</th>\n",
       "      <th>qtd_miner</th>\n",
       "    </tr>\n",
       "  </thead>\n",
       "  <tbody>\n",
       "    <tr>\n",
       "      <th>0</th>\n",
       "      <td>30-09-2019</td>\n",
       "      <td>186</td>\n",
       "      <td>66</td>\n",
       "    </tr>\n",
       "    <tr>\n",
       "      <th>1</th>\n",
       "      <td>26-09-2019</td>\n",
       "      <td>184</td>\n",
       "      <td>8</td>\n",
       "    </tr>\n",
       "  </tbody>\n",
       "</table>\n",
       "</div>"
      ],
      "text/plain": [
       "         data  num  qtd_miner\n",
       "0  30-09-2019  186         66\n",
       "1  26-09-2019  184          8"
      ]
     },
     "execution_count": 21,
     "metadata": {},
     "output_type": "execute_result"
    }
   ],
   "source": [
    "# Arquivo com datas e mnumeros dos DODFs pra baixar\n",
    "# cada qual contendo 50+ ocorrencias\n",
    "gp = df_zip.groupby(['data', 'num'])\n",
    "# ks=[i for i in dir(gp) if not i.startswith('_')]\n",
    "date_num = gp.count().iloc[:, [0]].sort_values(\n",
    "    by=['data', 'num', 'nome_ato', ], ascending=False)\n",
    "\n",
    "date_num.reset_index(inplace=True)\n",
    "date_num = date_num.rename({'nome_ato':'qtd_miner'}, axis=1)\n",
    "date_num['data'] = date_num.data.map(lambda x: x.strftime('%d-%m-%Y'))\n",
    "date_num.sort_values('data').to_csv(\n",
    "    'data/date_num.csv',index=False\n",
    ");\n",
    "date_num.head(2)"
   ]
  },
  {
   "cell_type": "code",
   "execution_count": 22,
   "metadata": {},
   "outputs": [],
   "source": [
    "\n",
    "# # Arquivo com datas e mnumeros dos DODFs pra baixar\n",
    "# # cada qual contendo 50+ ocorrencias\n",
    "# date_num = date_num[date_num.iloc[:, -1] > 50]\n",
    "# # date_num.reset_index(inplace=True)\n",
    "# date_num = date_num.rename({'nome_ato':'qtd'}, axis=1)\n",
    "# date_num['data'] = date_num.data.map(lambda x: x.strftime('%d-%m-%Y'))\n",
    "# date_num.sort_values('data').to_csv('data/date_num.csv', index=False);\n",
    "# date_num\n",
    "\n",
    "# # print(\"TOTAL (>50):\", date_num[date_num.nome_ato > 50].sum()[0],end=' ')\n"
   ]
  },
  {
   "cell_type": "code",
   "execution_count": 23,
   "metadata": {},
   "outputs": [],
   "source": [
    "# df_a = []\n",
    "# df_sea = []\n",
    "# for i in glob.glob('data/extraido/*.csv'):\n",
    "#     f = i.split('/')[-1]\n",
    "#     df = pd.read_csv(i, index_col=False)\n",
    "#     df.drop('Unnamed: 0', axis=1, inplace=True)\n",
    "#     df['num_date'] = df.shape[0] * [re.search(r'(\\d.+\\d)(?=[.])',f).group()]\n",
    "#     if f.startswith('aposentadoria'):\n",
    "#         df_a.append(df)\n",
    "#     else:\n",
    "#         df_sea.append(df)\n",
    "# df_a = pd.concat(df_a)\n",
    "# df_sea = pd.concat(df_sea)"
   ]
  }
 ],
 "metadata": {
  "kernelspec": {
   "display_name": "Python 3",
   "language": "python",
   "name": "python3"
  },
  "language_info": {
   "codemirror_mode": {
    "name": "ipython",
    "version": 3
   },
   "file_extension": ".py",
   "mimetype": "text/x-python",
   "name": "python",
   "nbconvert_exporter": "python",
   "pygments_lexer": "ipython3",
   "version": "3.8.1"
  }
 },
 "nbformat": 4,
 "nbformat_minor": 4
}
