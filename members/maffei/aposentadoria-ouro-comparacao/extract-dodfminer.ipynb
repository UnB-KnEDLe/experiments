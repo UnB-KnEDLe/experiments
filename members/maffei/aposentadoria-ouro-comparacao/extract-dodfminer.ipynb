{
 "cells": [
  {
   "cell_type": "code",
   "execution_count": 5,
   "metadata": {},
   "outputs": [],
   "source": [
    "import os\n",
    "import glob\n",
    "import re"
   ]
  },
  {
   "cell_type": "code",
   "execution_count": 6,
   "metadata": {},
   "outputs": [
    {
     "name": "stdout",
     "output_type": "stream",
     "text": [
      "data/010_15-01-2019_integra.pdf  data/117_25-06-2019_integra.pdf\r\n",
      "data/019_28-01-2019_integra.pdf  data/122_02-07-2019_integra.pdf\r\n",
      "data/039_25-02-2019_integra.pdf  data/124_03-07-2018_integra.pdf\r\n",
      "data/043_01-03-2019_integra.pdf  data/127_09-07-2019_integra.pdf\r\n",
      "data/047_12-03-2019_integra.pdf  data/144_01-08-2019_integra.pdf\r\n",
      "data/066_06-04-2018_SECAO1.pdf   data/147_03-08-2018_integra.pdf\r\n",
      "data/068_10-04-2018_SECAO1.pdf   data/156_19-08-2019_integra.pdf\r\n",
      "data/074_22-04-2019_integra.pdf  data/169_05-09-2019_integra.pdf\r\n",
      "data/081_02-05-2019_integra.pdf  data/175_13-09-2019_integra.pdf\r\n",
      "data/085_04-05-2018_SECAO1.pdf   data/180_20-09-2019_integra.pdf\r\n",
      "data/093_20-05-2019_integra.pdf  data/181_21-09-2018_integra.pdf\r\n",
      "data/104_04-06-2019_integra.pdf  data/186_30-09-2019_integra.pdf\r\n",
      "data/105_05-06-2018_integra.pdf  data/187_01-10-2018_integra.pdf\r\n",
      "data/108_08-06-2018_integra.pdf  data/197_16-10-2018_integra.pdf\r\n",
      "data/108_10-06-2019_integra.pdf  data/209_01-11-2018_integra.pdf\r\n",
      "data/114_18-06-2018_integra.pdf  data/248_01-01-2019_integra.pdf\r\n"
     ]
    }
   ],
   "source": [
    "ls data/*.pdf"
   ]
  },
  {
   "cell_type": "code",
   "execution_count": 7,
   "metadata": {},
   "outputs": [
    {
     "name": "stdout",
     "output_type": "stream",
     "text": [
      "file: data/127_09-07-2019_integra.pdf\n",
      "file: data/122_02-07-2019_integra.pdf\n",
      "file: data/124_03-07-2018_integra.pdf\n",
      "file: data/144_01-08-2019_integra.pdf\n",
      "file: data/181_21-09-2018_integra.pdf\n",
      "file: data/180_20-09-2019_integra.pdf\n",
      "file: data/093_20-05-2019_integra.pdf\n",
      "file: data/105_05-06-2018_integra.pdf\n",
      "file: data/197_16-10-2018_integra.pdf\n",
      "file: data/169_05-09-2019_integra.pdf\n",
      "file: data/047_12-03-2019_integra.pdf\n",
      "file: data/066_06-04-2018_SECAO1.pdf\n",
      "file: data/175_13-09-2019_integra.pdf\n",
      "file: data/209_01-11-2018_integra.pdf\n",
      "file: data/068_10-04-2018_SECAO1.pdf\n",
      "file: data/114_18-06-2018_integra.pdf\n",
      "file: data/039_25-02-2019_integra.pdf\n",
      "file: data/104_04-06-2019_integra.pdf\n",
      "file: data/108_08-06-2018_integra.pdf\n",
      "file: data/156_19-08-2019_integra.pdf\n",
      "file: data/085_04-05-2018_SECAO1.pdf\n",
      "file: data/248_01-01-2019_integra.pdf\n",
      "file: data/019_28-01-2019_integra.pdf\n",
      "file: data/147_03-08-2018_integra.pdf\n",
      "file: data/108_10-06-2019_integra.pdf\n",
      "file: data/010_15-01-2019_integra.pdf\n",
      "file: data/074_22-04-2019_integra.pdf\n",
      "file: data/186_30-09-2019_integra.pdf\n",
      "file: data/043_01-03-2019_integra.pdf\n",
      "file: data/187_01-10-2018_integra.pdf\n",
      "file: data/117_25-06-2019_integra.pdf\n",
      "file: data/081_02-05-2019_integra.pdf\n"
     ]
    }
   ],
   "source": [
    "l = [\"\", \" -a aposentadoria sem_efeito_aposentadoria\"] \n",
    "for i in glob.glob('data/*.pdf'): \n",
    "    num = re.search('\\d+', i).group()\n",
    "    data = re.search(r'\\d{2}-\\d{2}-\\d{4}', i).group()\n",
    "    print('file:', i) \n",
    "    l[0] = f\"dodfminer extract -s {i}\" \n",
    "    os.system(' '.join(l)) \n",
    "    os.renames(\n",
    "        'data/aposentadoria.csv',\n",
    "        f'data/extraido/aposentadoria-{num}_{data}.csv',\n",
    "    )\n",
    "    os.renames(\n",
    "        'data/sem_efeito_aposentadoria.csv',\n",
    "        f'data/extraido/sem_efeito_aposentadoria-{num}_{data}.csv',\n",
    "    )"
   ]
  },
  {
   "cell_type": "code",
   "execution_count": null,
   "metadata": {},
   "outputs": [],
   "source": []
  }
 ],
 "metadata": {
  "kernelspec": {
   "display_name": "Python 3",
   "language": "python",
   "name": "python3"
  },
  "language_info": {
   "codemirror_mode": {
    "name": "ipython",
    "version": 3
   },
   "file_extension": ".py",
   "mimetype": "text/x-python",
   "name": "python",
   "nbconvert_exporter": "python",
   "pygments_lexer": "ipython3",
   "version": "3.8.1"
  }
 },
 "nbformat": 4,
 "nbformat_minor": 4
}
