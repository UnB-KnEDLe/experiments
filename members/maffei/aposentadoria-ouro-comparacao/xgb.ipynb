{
 "cells": [
  {
   "cell_type": "code",
   "execution_count": 6,
   "metadata": {},
   "outputs": [
    {
     "name": "stdout",
     "output_type": "stream",
     "text": [
      "aposentadoria-ouro-comparacao/xgb.ipynb\n"
     ]
    }
   ],
   "source": [
    "import requests\n",
    "import ipykernel\n",
    "import re\n",
    "from notebook.notebookapp import list_running_servers\n",
    "from notebook import notebookapp\n",
    "\n",
    "from matplotlib import pyplot as plt\n",
    "servers = list(notebookapp.list_running_servers())\n",
    "\n",
    "TOKEN = servers[0]['token']\n",
    "\n",
    "base_url = next(list_running_servers())['url']\n",
    "r = requests.get(\n",
    "    url=base_url + 'api/sessions',\n",
    "    headers={'Authorization': 'token {}'.format(TOKEN),})\n",
    "\n",
    "r.raise_for_status()\n",
    "response = r.json()\n",
    "\n",
    "kernel_id = re.search(\n",
    "    'kernel-(.*).json',\n",
    "    ipykernel.connect.get_connection_file()\n",
    ").group(1)\n",
    "\n",
    "NOTEBOOK_PATH = {\n",
    "    r['kernel']['id']: r['notebook']['path']\n",
    "    for r in response\n",
    "}[kernel_id]\n",
    "print(NOTEBOOK_PATH)"
   ]
  },
  {
   "cell_type": "code",
   "execution_count": 14,
   "metadata": {},
   "outputs": [],
   "source": [
    "import os\n",
    "import glob\n",
    "import pickle\n",
    "from itertools import chain\n",
    "from collections import Counter\n",
    "import pandas as pd\n",
    "import numpy as np\n",
    "import matplotlib.pyplot as plt\n",
    "\n",
    "import fitz\n",
    "from dodfminer.extract.polished.acts.aposentadoria import Retirements\n",
    "import unidecode\n",
    "\n",
    "from sklearn.feature_extraction.text import TfidfVectorizer\n",
    "from sklearn.pipeline import Pipeline\n",
    "from sklearn.model_selection import cross_validate\n",
    "from sklearn.model_selection import train_test_split, StratifiedKFold\n",
    "\n",
    "from sklearn.model_selection import  cross_validate\n",
    "\n",
    "from sklearn.metrics import plot_confusion_matrix\n",
    "from sklearn.metrics import f1_score, accuracy_score\n",
    "import xgboost as xgb"
   ]
  },
  {
   "cell_type": "code",
   "execution_count": 8,
   "metadata": {},
   "outputs": [
    {
     "name": "stdout",
     "output_type": "stream",
     "text": [
      "CPU times: user 147 µs, sys: 30 µs, total: 177 µs\n",
      "Wall time: 182 µs\n"
     ]
    }
   ],
   "source": [
    "%%time\n",
    "pipe = Pipeline([\n",
    "    ('vectorizer', TfidfVectorizer()),\n",
    "    ('model', xgb.XGBClassifier(\n",
    "        objective='multi:softprob',\n",
    "        random_state=0,\n",
    "        num_class=2\n",
    "    ))\n",
    "])"
   ]
  },
  {
   "cell_type": "code",
   "execution_count": 17,
   "metadata": {
    "scrolled": true
   },
   "outputs": [
    {
     "name": "stdout",
     "output_type": "stream",
     "text": [
      "CPU times: user 1.09 s, sys: 95.8 ms, total: 1.18 s\n",
      "Wall time: 1.18 s\n"
     ]
    },
    {
     "data": {
      "text/html": [
       "<div>\n",
       "<style scoped>\n",
       "    .dataframe tbody tr th:only-of-type {\n",
       "        vertical-align: middle;\n",
       "    }\n",
       "\n",
       "    .dataframe tbody tr th {\n",
       "        vertical-align: top;\n",
       "    }\n",
       "\n",
       "    .dataframe thead th {\n",
       "        text-align: right;\n",
       "    }\n",
       "</style>\n",
       "<table border=\"1\" class=\"dataframe\">\n",
       "  <thead>\n",
       "    <tr style=\"text-align: right;\">\n",
       "      <th></th>\n",
       "      <th>x0</th>\n",
       "      <th>x</th>\n",
       "      <th>y0</th>\n",
       "      <th>y1</th>\n",
       "      <th>text</th>\n",
       "      <th>qtd_ents</th>\n",
       "      <th>y</th>\n",
       "    </tr>\n",
       "  </thead>\n",
       "  <tbody>\n",
       "    <tr>\n",
       "      <th>0</th>\n",
       "      <td>144.846329</td>\n",
       "      <td>190.436508</td>\n",
       "      <td>659.465149</td>\n",
       "      <td>208.861298</td>\n",
       "      <td>ANO XLVII EDICAO No- 248\\nBRASILIA - DF, TERCA...</td>\n",
       "      <td>0</td>\n",
       "      <td>0</td>\n",
       "    </tr>\n",
       "    <tr>\n",
       "      <th>1</th>\n",
       "      <td>56.702831</td>\n",
       "      <td>353.227753</td>\n",
       "      <td>344.850311</td>\n",
       "      <td>370.024231</td>\n",
       "      <td>Secretaria de Estado de Trabalho, Desenvolvime...</td>\n",
       "      <td>0</td>\n",
       "      <td>0</td>\n",
       "    </tr>\n",
       "  </tbody>\n",
       "</table>\n",
       "</div>"
      ],
      "text/plain": [
       "           x0           x          y0          y1  \\\n",
       "0  144.846329  190.436508  659.465149  208.861298   \n",
       "1   56.702831  353.227753  344.850311  370.024231   \n",
       "\n",
       "                                                text  qtd_ents  y  \n",
       "0  ANO XLVII EDICAO No- 248\\nBRASILIA - DF, TERCA...         0  0  \n",
       "1  Secretaria de Estado de Trabalho, Desenvolvime...         0  0  "
      ]
     },
     "execution_count": 17,
     "metadata": {},
     "output_type": "execute_result"
    }
   ],
   "source": [
    "%%time\n",
    "df = pd.read_csv('blocos_qtd_entidades.csv', index_col=False)\n",
    "df['y'] = (df.qtd_ents > 0).astype(int)\n",
    "df.head(2)"
   ]
  },
  {
   "cell_type": "code",
   "execution_count": 12,
   "metadata": {},
   "outputs": [],
   "source": [
    "# train_test_split(df.Text)"
   ]
  },
  {
   "cell_type": "code",
   "execution_count": 25,
   "metadata": {
    "scrolled": true
   },
   "outputs": [
    {
     "name": "stdout",
     "output_type": "stream",
     "text": [
      "CPU times: user 188 µs, sys: 0 ns, total: 188 µs\n",
      "Wall time: 194 µs\n"
     ]
    }
   ],
   "source": [
    "%%time\n",
    "\n",
    "pipe = Pipeline([\n",
    "    ('vectorizer', TfidfVectorizer()),\n",
    "    ('model', xgb.XGBClassifier(\n",
    "        objective='multi:softprob',\n",
    "        random_state=42,\n",
    "        num_class=2,\n",
    "        n_jobs=-1\n",
    "    ))\n",
    "])    "
   ]
  },
  {
   "cell_type": "code",
   "execution_count": 27,
   "metadata": {},
   "outputs": [
    {
     "name": "stdout",
     "output_type": "stream",
     "text": [
      "CPU times: user 15min 49s, sys: 1.31 s, total: 15min 51s\n",
      "Wall time: 15min 51s\n"
     ]
    }
   ],
   "source": [
    "%%time\n",
    "skf = StratifiedKFold(n_splits=5)\n",
    "scores = {\n",
    "    'acc': [],\n",
    "    'f1': [],\n",
    "}\n",
    "for train_index, test_index in skf.split(df.text, df.y):\n",
    "    x_train, x_test = df.text[train_index], df.text[test_index]\n",
    "    y_train, y_test = df.y[train_index], df.y[test_index]\n",
    "    pipe.fit(x_train, y_train)\n",
    "    y_pred = pipe.predict(x_test)\n",
    "    scores['acc'].append(f1_score(y_test, y_pred))\n",
    "    scores['f1'].append(accuracy_score(y_test, y_pred))\n",
    "#     break\n",
    "# y_pred = pipe.predict(df_test.text)"
   ]
  },
  {
   "cell_type": "code",
   "execution_count": 28,
   "metadata": {
    "scrolled": true
   },
   "outputs": [
    {
     "data": {
      "text/plain": [
       "{'acc': [0.9686098654708519,\n",
       "  0.9459459459459459,\n",
       "  0.9732142857142857,\n",
       "  0.9642857142857144,\n",
       "  0.9866666666666667],\n",
       " 'f1': [0.999661999034283,\n",
       "  0.9994205417934231,\n",
       "  0.9997102708967116,\n",
       "  0.9996136945289488,\n",
       "  0.9998551354483558]}"
      ]
     },
     "execution_count": 28,
     "metadata": {},
     "output_type": "execute_result"
    }
   ],
   "source": [
    "scores"
   ]
  },
  {
   "cell_type": "code",
   "execution_count": 32,
   "metadata": {},
   "outputs": [
    {
     "data": {
      "text/plain": [
       "(0.9677444956166928, 0.9996523283403445)"
      ]
     },
     "execution_count": 32,
     "metadata": {},
     "output_type": "execute_result"
    }
   ],
   "source": [
    "np.mean(scores['acc']), np.mean(scores['f1'])"
   ]
  },
  {
   "cell_type": "code",
   "execution_count": 30,
   "metadata": {},
   "outputs": [
    {
     "data": {
      "text/plain": [
       "304"
      ]
     },
     "execution_count": 30,
     "metadata": {},
     "output_type": "execute_result"
    }
   ],
   "source": [
    "prf = 'pipe_xgb'\n",
    "pickle.dump(pipe, open(f'{prf}.pkl', 'wb'))\n",
    "open(f'{prf}.txt', 'w').write(\n",
    "    f\"notebook de origem: {NOTEBOOK_PATH}\\n\\n\"\n",
    "    f\"`{prf}.pkl` contém um pipeline que contém uma instância\\n\"\n",
    "    \"treinada do modelo xgboost. A entrada é um vetor de strings\\n\"\n",
    "    \"e a saída um vetor de inteiros , 1-> verdadeiro 0-> falso\\n\"\n",
    "    \"(no que diz respeito à presença ou não de atos de aposentadoria).\\n\"\n",
    ")"
   ]
  }
 ],
 "metadata": {
  "kernelspec": {
   "display_name": "Python 3",
   "language": "python",
   "name": "python3"
  },
  "language_info": {
   "codemirror_mode": {
    "name": "ipython",
    "version": 3
   },
   "file_extension": ".py",
   "mimetype": "text/x-python",
   "name": "python",
   "nbconvert_exporter": "python",
   "pygments_lexer": "ipython3",
   "version": "3.8.1"
  }
 },
 "nbformat": 4,
 "nbformat_minor": 4
}
