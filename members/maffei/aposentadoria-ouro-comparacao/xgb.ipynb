{
 "cells": [
  {
   "cell_type": "code",
   "execution_count": 1,
   "metadata": {},
   "outputs": [
    {
     "name": "stdout",
     "output_type": "stream",
     "text": [
      "aposentadoria-ouro-comparacao/xgb.ipynb\n"
     ]
    }
   ],
   "source": [
    "import requests\n",
    "import ipykernel\n",
    "import re\n",
    "from notebook.notebookapp import list_running_servers\n",
    "from notebook import notebookapp\n",
    "\n",
    "from matplotlib import pyplot as plt\n",
    "servers = list(notebookapp.list_running_servers())\n",
    "\n",
    "TOKEN = servers[0]['token']\n",
    "\n",
    "base_url = next(list_running_servers())['url']\n",
    "r = requests.get(\n",
    "    url=base_url + 'api/sessions',\n",
    "    headers={'Authorization': 'token {}'.format(TOKEN),})\n",
    "\n",
    "r.raise_for_status()\n",
    "response = r.json()\n",
    "\n",
    "kernel_id = re.search(\n",
    "    'kernel-(.*).json',\n",
    "    ipykernel.connect.get_connection_file()\n",
    ").group(1)\n",
    "\n",
    "NOTEBOOK_PATH = {\n",
    "    r['kernel']['id']: r['notebook']['path']\n",
    "    for r in response\n",
    "}[kernel_id]\n",
    "print(NOTEBOOK_PATH)"
   ]
  },
  {
   "cell_type": "code",
   "execution_count": 64,
   "metadata": {},
   "outputs": [],
   "source": [
    "import os\n",
    "import glob\n",
    "import pickle\n",
    "from itertools import chain\n",
    "from collections import Counter\n",
    "import pandas as pd\n",
    "import numpy as np\n",
    "import matplotlib.pyplot as plt\n",
    "\n",
    "import fitz\n",
    "from dodfminer.extract.polished.acts.aposentadoria import Retirements\n",
    "import unidecode\n",
    "\n",
    "from sklearn.feature_extraction.text import TfidfVectorizer\n",
    "from sklearn.pipeline import Pipeline\n",
    "from sklearn.model_selection import cross_validate\n",
    "from sklearn.model_selection import train_test_split\n",
    "from sklearn.metrics import plot_confusion_matrix\n",
    "from sklearn.metrics import f1_score, accuracy_score\n",
    "import xgboost as xgb"
   ]
  },
  {
   "cell_type": "code",
   "execution_count": 3,
   "metadata": {},
   "outputs": [
    {
     "name": "stdout",
     "output_type": "stream",
     "text": [
      "CPU times: user 979 µs, sys: 179 µs, total: 1.16 ms\n",
      "Wall time: 1.18 ms\n"
     ]
    }
   ],
   "source": [
    "%%time\n",
    "pipe = Pipeline([\n",
    "    ('vectorizer', TfidfVectorizer()),\n",
    "    ('model', xgb.XGBClassifier(\n",
    "        objective='multi:softprob',\n",
    "        random_state=0,\n",
    "        num_class=2\n",
    "    ))\n",
    "])"
   ]
  },
  {
   "cell_type": "code",
   "execution_count": 14,
   "metadata": {},
   "outputs": [
    {
     "data": {
      "text/plain": [
       "'/home/leomaffei/Desktop/projeto-ia-unb/experiments/members/maffei/aposentadoria-ouro-comparacao'"
      ]
     },
     "execution_count": 14,
     "metadata": {},
     "output_type": "execute_result"
    }
   ],
   "source": [
    "pwd"
   ]
  },
  {
   "cell_type": "code",
   "execution_count": 53,
   "metadata": {
    "scrolled": true
   },
   "outputs": [
    {
     "data": {
      "text/plain": [
       "((109305, 12), (5169, 14))"
      ]
     },
     "execution_count": 53,
     "metadata": {},
     "output_type": "execute_result"
    }
   ],
   "source": [
    "df_train_block = pd.read_csv('xgb_train.csv', sep='®', engine='python',\n",
    "                       index_col=False)\n",
    "\n",
    "df_test_block = pd.read_csv('xgb_test.csv', sep='®', engine='python',\n",
    "                     index_col=False)\n",
    "\n",
    "df_blocos = pd.concat([df_train_block, df_test_block])\n",
    "df_blocos['len'] = df_blocos.text.map(len)\n",
    "\n",
    "df_ouro = pd.read_csv('labeled.csv', sep=',', engine='python')\n",
    "df_ouro = df_ouro[df_ouro.text.notna()]\n",
    "\n",
    "df_ouro['len'] = df_ouro.text.map(len)\n",
    "\n",
    "del df_train_block, df_test_block\n",
    "df_blocos.shape, df_ouro.shape"
   ]
  },
  {
   "cell_type": "code",
   "execution_count": 21,
   "metadata": {
    "scrolled": false
   },
   "outputs": [
    {
     "data": {
      "text/html": [
       "<div>\n",
       "<style scoped>\n",
       "    .dataframe tbody tr th:only-of-type {\n",
       "        vertical-align: middle;\n",
       "    }\n",
       "\n",
       "    .dataframe tbody tr th {\n",
       "        vertical-align: top;\n",
       "    }\n",
       "\n",
       "    .dataframe thead th {\n",
       "        text-align: right;\n",
       "    }\n",
       "</style>\n",
       "<table border=\"1\" class=\"dataframe\">\n",
       "  <thead>\n",
       "    <tr style=\"text-align: right;\">\n",
       "      <th></th>\n",
       "      <th>DATA_DODF</th>\n",
       "      <th>ATO</th>\n",
       "      <th>EMPRESA_ATO</th>\n",
       "      <th>COD_MATRICULA_ATO</th>\n",
       "      <th>NOME_ATO</th>\n",
       "      <th>CARGO</th>\n",
       "      <th>CLASSE</th>\n",
       "      <th>PADRAO</th>\n",
       "      <th>QUADRO</th>\n",
       "      <th>PROCESSO</th>\n",
       "      <th>FUND_LEGAL</th>\n",
       "      <th>text</th>\n",
       "      <th>labels</th>\n",
       "    </tr>\n",
       "  </thead>\n",
       "  <tbody>\n",
       "    <tr>\n",
       "      <th>0</th>\n",
       "      <td>01/01/2019</td>\n",
       "      <td>CONCEDER APOSENTADORIA</td>\n",
       "      <td>SECRETARIA DE ESTADO DE PLANEJAMENTO, ORCAMENT...</td>\n",
       "      <td>00317276</td>\n",
       "      <td>MARIA DE JESUS BARBOSA SANTOS</td>\n",
       "      <td>ANALISTA EM POLITICAS PUBLICAS E GESTAO GOVERN...</td>\n",
       "      <td>CLASSE ESPECIAL</td>\n",
       "      <td>PADRAO V</td>\n",
       "      <td>QUADRO DE PESSOAL DO DISTRITO FEDERAL</td>\n",
       "      <td>00410-00015650/2018-74</td>\n",
       "      <td>NOS TERMOS DO ARTIGO 3o, INCISOS I, II E III, ...</td>\n",
       "      <td>CONCEDER, aposentadoria voluntaria integral, a...</td>\n",
       "      <td>B-ATO I-ATO O O O O B-NOME_ATO I-NOME_ATO I-NO...</td>\n",
       "    </tr>\n",
       "  </tbody>\n",
       "</table>\n",
       "</div>"
      ],
      "text/plain": [
       "    DATA_DODF                     ATO  \\\n",
       "0  01/01/2019  CONCEDER APOSENTADORIA   \n",
       "\n",
       "                                         EMPRESA_ATO COD_MATRICULA_ATO  \\\n",
       "0  SECRETARIA DE ESTADO DE PLANEJAMENTO, ORCAMENT...          00317276   \n",
       "\n",
       "                        NOME_ATO  \\\n",
       "0  MARIA DE JESUS BARBOSA SANTOS   \n",
       "\n",
       "                                               CARGO           CLASSE  \\\n",
       "0  ANALISTA EM POLITICAS PUBLICAS E GESTAO GOVERN...  CLASSE ESPECIAL   \n",
       "\n",
       "     PADRAO                                 QUADRO                PROCESSO  \\\n",
       "0  PADRAO V  QUADRO DE PESSOAL DO DISTRITO FEDERAL  00410-00015650/2018-74   \n",
       "\n",
       "                                          FUND_LEGAL  \\\n",
       "0  NOS TERMOS DO ARTIGO 3o, INCISOS I, II E III, ...   \n",
       "\n",
       "                                                text  \\\n",
       "0  CONCEDER, aposentadoria voluntaria integral, a...   \n",
       "\n",
       "                                              labels  \n",
       "0  B-ATO I-ATO O O O O B-NOME_ATO I-NOME_ATO I-NO...  "
      ]
     },
     "execution_count": 21,
     "metadata": {},
     "output_type": "execute_result"
    }
   ],
   "source": [
    "df_train.head(1)"
   ]
  },
  {
   "cell_type": "code",
   "execution_count": 57,
   "metadata": {},
   "outputs": [
    {
     "name": "stdout",
     "output_type": "stream",
     "text": [
      "CPU times: user 988 µs, sys: 0 ns, total: 988 µs\n",
      "Wall time: 725 µs\n"
     ]
    }
   ],
   "source": [
    "%%time\n",
    "\n",
    "pipe = Pipeline([\n",
    "    ('vectorizer', TfidfVectorizer()),\n",
    "    ('model', xgb.XGBClassifier(\n",
    "        objective='multi:softprob',\n",
    "        random_state=42,\n",
    "        num_class=2\n",
    "    ))\n",
    "])    \n",
    "\n",
    "# pipe.fit(df_train.text, df_train.y);"
   ]
  },
  {
   "cell_type": "code",
   "execution_count": null,
   "metadata": {},
   "outputs": [],
   "source": []
  },
  {
   "cell_type": "code",
   "execution_count": 10,
   "metadata": {},
   "outputs": [
    {
     "name": "stdout",
     "output_type": "stream",
     "text": [
      "CPU times: user 3.98 s, sys: 43.9 ms, total: 4.02 s\n",
      "Wall time: 3.82 s\n"
     ]
    }
   ],
   "source": [
    "%%time\n",
    "y_pred = pipe.predict(df_test.text)"
   ]
  },
  {
   "cell_type": "code",
   "execution_count": 11,
   "metadata": {
    "scrolled": true
   },
   "outputs": [
    {
     "name": "stdout",
     "output_type": "stream",
     "text": [
      "\tf1: 0.98, acc: 1.00\n"
     ]
    }
   ],
   "source": [
    "X_test, y_test = df_test.text, df_test.y\n",
    "# disp = plot_confusion_matrix(pipe, X_test, y_test,\n",
    "#                         cmap=plt.cm.Blues,\n",
    "#                         normalize='true',\n",
    "#                         xticks_rotation='vertical',\n",
    "#                         )\n",
    "f1 = f1_score(y_true=y_test, y_pred=y_pred)\n",
    "acc = accuracy_score(y_true=y_test, y_pred=y_pred)\n",
    "print(f'\\tf1: {f1:.2f}, acc: {acc:.2f}')\n",
    "# disp.ax_.set_title(f'left out - {out}')"
   ]
  },
  {
   "cell_type": "code",
   "execution_count": 61,
   "metadata": {},
   "outputs": [],
   "source": [
    "pipe_xgb = pickle.load(open('pipe_xgb.pkl', 'rb'))"
   ]
  },
  {
   "cell_type": "code",
   "execution_count": 62,
   "metadata": {},
   "outputs": [],
   "source": [
    "y_pred = pipe_xgb.predict(df_ouro.text)"
   ]
  },
  {
   "cell_type": "code",
   "execution_count": 67,
   "metadata": {},
   "outputs": [
    {
     "data": {
      "text/plain": [
       "0.7272199651770168"
      ]
     },
     "execution_count": 67,
     "metadata": {},
     "output_type": "execute_result"
    }
   ],
   "source": [
    "sum(y_pred)/len(y_pred)"
   ]
  },
  {
   "cell_type": "code",
   "execution_count": 68,
   "metadata": {},
   "outputs": [
    {
     "data": {
      "text/plain": [
       "'/home/leomaffei/Desktop/projeto-ia-unb/experiments/members/maffei/aposentadoria-ouro-comparacao'"
      ]
     },
     "execution_count": 68,
     "metadata": {},
     "output_type": "execute_result"
    }
   ],
   "source": [
    "pwd"
   ]
  },
  {
   "cell_type": "code",
   "execution_count": 12,
   "metadata": {},
   "outputs": [
    {
     "data": {
      "text/plain": [
       "274"
      ]
     },
     "execution_count": 12,
     "metadata": {},
     "output_type": "execute_result"
    }
   ],
   "source": [
    "prf = 'pipe_xgb'\n",
    "pickle.dump(pipe, open(f'{prf}.pkl', 'wb'))\n",
    "open(f'{prf}.txt', 'w').write(\n",
    "    f\"notebook de origem: {NOTEBOOK_PATH}\\n\\n\"\n",
    "    f\"`{prf}.pkl` contém um pipeline que contém uma instância\\n\"\n",
    "    \"treinada do modelo xgboost. A entrada é um vetor de strings\\n\"\n",
    "    \"e a saída um vetor de inteiros , 1-> verdadeiro 0-> falso\\n\"\n",
    "    \"(no que diz respeito à presença ou não de atos de aposentadoria).\\n\"\n",
    ")"
   ]
  },
  {
   "cell_type": "code",
   "execution_count": 14,
   "metadata": {},
   "outputs": [],
   "source": [
    "df_full_rotulado = pd.concat([df_train, df_test], axis=0)"
   ]
  },
  {
   "cell_type": "code",
   "execution_count": 23,
   "metadata": {},
   "outputs": [
    {
     "name": "stdout",
     "output_type": "stream",
     "text": [
      "\tf1: 0.98, acc: 1.00\n",
      "CPU times: user 13.9 s, sys: 268 ms, total: 14.2 s\n",
      "Wall time: 13.3 s\n"
     ]
    }
   ],
   "source": [
    "%%time\n",
    "X_test_full, y_test_full = (\n",
    "    df_full_rotulado['text'],\n",
    "    df_full_rotulado['y']\n",
    ")\n",
    "y_pred_full = pipe.predict(X_test_full.values)\n",
    "f1_full = f1_score(y_true=y_test_full, y_pred=y_pred_full)\n",
    "acc = accuracy_score(y_true=y_test_full, y_pred=y_pred_full)\n",
    "print(f'\\tf1: {f1:.2f}, acc: {acc:.2f}')\n"
   ]
  },
  {
   "cell_type": "code",
   "execution_count": 25,
   "metadata": {},
   "outputs": [
    {
     "data": {
      "text/html": [
       "<div>\n",
       "<style scoped>\n",
       "    .dataframe tbody tr th:only-of-type {\n",
       "        vertical-align: middle;\n",
       "    }\n",
       "\n",
       "    .dataframe tbody tr th {\n",
       "        vertical-align: top;\n",
       "    }\n",
       "\n",
       "    .dataframe thead th {\n",
       "        text-align: right;\n",
       "    }\n",
       "</style>\n",
       "<table border=\"1\" class=\"dataframe\">\n",
       "  <thead>\n",
       "    <tr style=\"text-align: right;\">\n",
       "      <th></th>\n",
       "      <th>data</th>\n",
       "      <th>num</th>\n",
       "      <th>tipo</th>\n",
       "      <th>text</th>\n",
       "      <th>pnum</th>\n",
       "      <th>x0</th>\n",
       "      <th>y0</th>\n",
       "      <th>x1</th>\n",
       "      <th>y1</th>\n",
       "      <th>y</th>\n",
       "      <th>qtd</th>\n",
       "    </tr>\n",
       "  </thead>\n",
       "  <tbody>\n",
       "    <tr>\n",
       "      <th>5481</th>\n",
       "      <td>2019-03-12</td>\n",
       "      <td>47</td>\n",
       "      <td>NORMAL</td>\n",
       "      <td>REVER os proventos da Aposentadoria de ANGELA ...</td>\n",
       "      <td>42</td>\n",
       "      <td>56.691956</td>\n",
       "      <td>80.326134</td>\n",
       "      <td>404.125793</td>\n",
       "      <td>638.359253</td>\n",
       "      <td>False</td>\n",
       "      <td>0</td>\n",
       "    </tr>\n",
       "    <tr>\n",
       "      <th>17278</th>\n",
       "      <td>2018-04-02</td>\n",
       "      <td>62</td>\n",
       "      <td>NORMAL</td>\n",
       "      <td>ORDEM DE SERVIÇO N° 35, DE 22 DE MARÇO DE 2018...</td>\n",
       "      <td>45</td>\n",
       "      <td>418.109619</td>\n",
       "      <td>421.622986</td>\n",
       "      <td>758.285767</td>\n",
       "      <td>542.122498</td>\n",
       "      <td>False</td>\n",
       "      <td>0</td>\n",
       "    </tr>\n",
       "  </tbody>\n",
       "</table>\n",
       "</div>"
      ],
      "text/plain": [
       "             data  num    tipo  \\\n",
       "5481   2019-03-12   47  NORMAL   \n",
       "17278  2018-04-02   62  NORMAL   \n",
       "\n",
       "                                                    text  pnum          x0  \\\n",
       "5481   REVER os proventos da Aposentadoria de ANGELA ...    42   56.691956   \n",
       "17278  ORDEM DE SERVIÇO N° 35, DE 22 DE MARÇO DE 2018...    45  418.109619   \n",
       "\n",
       "               y0          x1          y1      y  qtd  \n",
       "5481    80.326134  404.125793  638.359253  False    0  \n",
       "17278  421.622986  758.285767  542.122498  False    0  "
      ]
     },
     "execution_count": 25,
     "metadata": {},
     "output_type": "execute_result"
    }
   ],
   "source": [
    "_ = df_full_rotulado[y_pred_full]\n",
    "_[_.qtd == 0]"
   ]
  },
  {
   "cell_type": "code",
   "execution_count": 27,
   "metadata": {
    "scrolled": true
   },
   "outputs": [
    {
     "name": "stdout",
     "output_type": "stream",
     "text": [
      "REVER os proventos da Aposentadoria de ANGELA MARIA CAMPOS MICHELINI matrícula\n",
      "57.540-2, no Cargo de Professor de Educação Básica, Padrão 23, Etapa II, do Quadro de Pessoal do\n",
      "Distrito Federal, efetivada por meio da Portaria, nº 49, de 19 de fevereiro de 2003, publicada no\n",
      "Diário Oficial do Distrito Federal nº 39, de 24 de fevereiro de 2003, a fim de considerá-la inativada\n",
      "com os proventos integrais nos termos do artigo 18, parágrafo 9º, da Lei Complementar nº 769, de\n",
      "01 de julho de 2008, com redação dada pelo artigo 291 da Lei Complementar nº 840, de 23 de\n",
      "dezembro de 2011, com seus efeitos a contar de 01 de julho de 2018. Processo 080 . 0 1 3 11 3 / 2 0 0 2 .\n",
      "RETIFICAR na Ordem de Serviço de 22 de novembro de 2017 publicada no Diário Oficial do\n",
      "Distrito Federal, de 29 de novembro de 2017, o ato que aposentou ANGISLANE LUZIA ALBERNAZ\n",
      "matricula 43.788-3, no Cargo de Professor de Educação Básica, Padrão 25, Etapa IV do Quadro de\n",
      "Pessoal do Distrito Federal a fim de considerá-lo fundamentado nos termos do Artigo 40, §1º, inciso\n",
      "I, in fine, da Constituição da República Federativa do Brasil, na redação dada pela Emenda\n",
      "Constitucional nº 41, de 31 de dezembro de 2003, combinado com o artigo 6º A Emenda\n",
      "Constitucional nº 41, de 31 de dezembro de 2003, incluído pela Emenda Constitucional nº 70, de 29\n",
      "de março de 2012, ficando ratificados os demais termos da concessão inicial. Processo 00410-\n",
      "00017182/2017-91.\n",
      "RETIFICAR na Ordem de Serviço de 06 de julho de 2017 publicada no Diário Oficial do Distrito\n",
      "Federal, de 10 de julho de 2017, o ato que concedeu aposentadoria a ASTROGILDO ALMEIDA\n",
      "MELO matricula 63.905-2, no Cargo de Professor de Educação Básica, Padrão 25, Etapa IV do\n",
      "Quadro de Pessoal do Distrito Federal a fim de considerá-lo fundamentado nos termos do Artigo 40,\n",
      "§1º, inciso I, in fine, da Constituição da República Federativa do Brasil, na redação dada pela Emenda\n",
      "Constitucional nº 41, de 31 de dezembro de 2003, combinado com o artigo 6º A Emenda\n",
      "Constitucional nº 41, de 31 de dezembro de 2003, incluído pela Emenda Constitucional nº70, de 29\n",
      "de março de 2012, e o artigo 18, § 5º da Lei Complementar nº 769, de 01 de julho de 2008, ficando\n",
      "ratificados os demais termos da concessão inicial. Processo 080.001901/2006.\n",
      "TORNAR SEM EFEITO na Ordem de Serviço de 22 de dezembro de 2017, publicada no Diário\n",
      "Oficial do Distrito Federal, de 26 de dezembro de 2017 o ato que retificou o que concedeu\n",
      "aposentadoria ao servidor JOÃO VILMAR BATISTA matricula 62.816-6, no Cargo de Professor,\n",
      "Classe A, Etapa 25 AD II do Quadro de Pessoal do Distrito Federal. Processo 463.000799/2009.\n",
      "RETIFICAR na Ordem de Serviço de 08 de fevereiro de 2010 publicada no Diário Oficial do Distrito\n",
      "Federal, de 09 de fevereiro de 2010, o ato que concedeu aposentadoria ao servidor JOÃO VILMAR\n",
      "BATISTA matricula 62.816-6, no Cargo de Professor, Classe A, Etapa 25 AD II do Quadro de Pessoal\n",
      "do Distrito Federal a fim de considerá-lo fundamentado nos termos do Artigo 40, §1º, inciso I, in\n",
      "fine, e § 3º da Constituição da República Federativa do Brasil, na redação dada pela Emenda\n",
      "Constitucional nº 20, de 11 de dezembro de 1998 e artigo 18, § 5º da Lei Complementar nº 769, de\n",
      "01 de julho de 2008, combinados com os artigos 3º e 7º da Emenda Constitucional nº 41, de 31 de\n",
      "dezembro de 2003, ficando ratificados os demais termos da concessão inicial. Processo\n",
      "463.000799/2009.\n",
      "RETIFICAR na Ordem de Serviço de 16 de novembro de 2017 publicada no Diário Oficial do\n",
      "Distrito Federal, de 17 de novembro de 2017, o ato que concedeu aposentadoria a servidora MARIA\n",
      "INGRID DE QUEIROZ FREITAS matricula 209.530-0, no Cargo de Técnico de Gestão\n",
      "Educacional/Apoio Administrativo, Nível 5, Padrão I, Etapa V do Quadro de Pessoal do Distrito\n",
      "Federal a fim de considerá-lo fundamentado nos termos do Artigo 40, §1º, inciso III, alínea \"a\" e §§\n",
      "3º, 8º e 17 da Constituição da República Federativa do Brasil, na redação dada pela Emenda\n",
      "Constitucional nº 41, de 31 de dezembro de 2003, e artigos 46 e 51 da Lei Complementar nº 769,\n",
      "de 01 de julho de 2008, ficando ratificados os demais termos da concessão inicial. Processo 00080-\n",
      "025963/2017-84.\n",
      "RETIFICAR na Ordem de Serviço de 24 de março de 2017 publicada no Diário Oficial do Distrito\n",
      "Federal, de 27 de março de 2017, o ato que aposentou MARIA DE NAZARETH GEGA DE\n",
      "MIRANDA matricula 24.207-1, no Cargo de Agente de Gestão Educacional/Portaria, Nível 8, Padrão\n",
      "2, Etapa V do Quadro de Pessoal do Distrito Federal a fim de considerá-lo fundamentado nos termos\n",
      "do Artigo 40, §1º, inciso I, in fine, da Constituição da República Federativa do Brasil, na redação\n",
      "dada pela Emenda Constitucional nº 41, de 31 de dezembro de 2003, combinado com o artigo 6º A\n",
      "da Emenda Constitucional nº 41, de 31 de dezembro de 2003, incluído pela Emenda Constitucional\n",
      "nº 70, de 29 de março de 2012, e o artigo 18, §§ 2º e 3º da Lei Complementar nº 769, de 01 de\n",
      "julho  de 2008,  ficando  ratificados  os demais  termos  da  concessão inicial.  Processo\n",
      "410.003732/2016.\n",
      "TORNAR SEM EFEITO na Portaria de 25 de janeiro de 2019, publicada no Diário Oficial do Distrito\n",
      "Federal, de 28 de janeiro de 2019 o ato que retificou o que aposentou o servidor PAULO SÉRGIO\n",
      "DA SILVA RESENDE matricula 214.450-6, no Cargo de Professor de Educação Básica, Padrão 05,\n",
      "Etapa III do Quadro de Pessoal do Distrito Federal. Processo 080.005832/2015.\n",
      "REVERTER À ATIVIDADE nos termos do artigo 34, inciso I, da Lei Complementar nº 840, de 26\n",
      "de dezembro de 2011, servidora SINARA DE CAMPOS SOUZA, Matricula 300.368-X, aposentada\n",
      "em 13 de outubro de 2017, no Cargo de Professor de Educação Básica, Padrão 23, Etapa IV, do\n",
      "Quadro de Pessoal do Distrito Federal, nos termos do artigo 40, § 1º, inciso I, da Constituição da\n",
      "República Federativa do Brasil, na redação dada pela Emenda Constitucional nº 41, de 31 de\n",
      "dezembro de 2003, combinado com o artigo 6º A da Emenda Constitucional nº 41, de 31 de dezembro\n",
      "de 2003, incluindo pela Emenda Constitucional nº 70, de 29 de março de 2012. Processo\n",
      "410.000455/2017.\n",
      "QUINTINO DOS REIS BORGES FILHO\n",
      "\n",
      "\n",
      "ORDEM DE SERVIÇO N° 35, DE 22 DE MARÇO DE 2018\n",
      "O SUBSECRETÁRIO DE ADMINISTRAÇÃO GERAL, DA SECRETARIA DE ESTADO\n",
      "DA SEGURANÇA PÚBLICA E DA PAZ SOCIAL DO DISTRITO FEDERAL, no uso das\n",
      "atribuições que lhe são conferidas pela Portaria nº 110 de 06.12.2002, publicada no DODF\n",
      "245 de 20.12.2002, RESOLVE: CONCEDER, aposentadoria voluntária integral, a servidora\n",
      "MARIA EMÍLIA GONÇALVES DA SILVA, matrícula n° 23.770-1, no cargo de Analista de\n",
      "Políticas Públicas e Gestão Governamental, Classe Especial, Padrão V do Quadro de Pessoal\n",
      "do Distrito Federal, nos termos do artigo 6°, incisos, I, II, III e IV da Emenda Constitucional\n",
      "n° 41, de 19.02.2003, com redação dada pelo artigo 2° da Emenda Constitucional n° 47 de\n",
      "05/07/2005, combinado com o artigo 43 da Lei Complementar n° 769, de 30/06/2008, com\n",
      "a vantagem pessoal prevista no artigo 5° da Lei n° 4.584, 08.07.2011. Processo SEI n°\n",
      "0 0 0 5 0 . 0 0 0 11 4 1 3 / 2 0 1 8 - 7 1 .\n",
      "ALVARO HENRIQUE FERREIRA DOS SANTOS\n",
      "\n",
      "\n"
     ]
    }
   ],
   "source": [
    "for t in _[_.qtd == 0].text:\n",
    "    print(t, end='\\n'*3)"
   ]
  },
  {
   "cell_type": "code",
   "execution_count": 28,
   "metadata": {},
   "outputs": [
    {
     "data": {
      "text/plain": [
       "3550"
      ]
     },
     "execution_count": 28,
     "metadata": {},
     "output_type": "execute_result"
    }
   ],
   "source": [
    "df_full_rotulado.qtd.sum()"
   ]
  }
 ],
 "metadata": {
  "kernelspec": {
   "display_name": "Python 3",
   "language": "python",
   "name": "python3"
  },
  "language_info": {
   "codemirror_mode": {
    "name": "ipython",
    "version": 3
   },
   "file_extension": ".py",
   "mimetype": "text/x-python",
   "name": "python",
   "nbconvert_exporter": "python",
   "pygments_lexer": "ipython3",
   "version": "3.8.1"
  }
 },
 "nbformat": 4,
 "nbformat_minor": 4
}
