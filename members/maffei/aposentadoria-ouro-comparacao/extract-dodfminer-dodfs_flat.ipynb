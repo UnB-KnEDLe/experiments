{
 "cells": [
  {
   "cell_type": "code",
   "execution_count": 103,
   "metadata": {},
   "outputs": [],
   "source": [
    "import os\n",
    "import glob\n",
    "import re\n",
    "import pandas as pd\n",
    "from dodfminer.extract.polished.acts.aposentadoria import Retirements\n",
    "import numpy as np\n",
    "from itertools import zip_longest"
   ]
  },
  {
   "cell_type": "code",
   "execution_count": 79,
   "metadata": {},
   "outputs": [],
   "source": [
    "# ls data/dodfs_flat/"
   ]
  },
  {
   "cell_type": "code",
   "execution_count": 80,
   "metadata": {},
   "outputs": [],
   "source": [
    "def get_reverse_date(s):\n",
    "    date = re.search( r'((\\d+)[-](\\d+)[-](\\d+))', s)\n",
    "    date = date.group()\n",
    "    date = '-'.join(date.split('-')[::-1])\n",
    "    return date\n",
    "\n",
    "def get_num(s):\n",
    "    return int(re.search('(\\d+)', s).group())"
   ]
  },
  {
   "cell_type": "code",
   "execution_count": 81,
   "metadata": {},
   "outputs": [],
   "source": [
    "df = pd.DataFrame()"
   ]
  },
  {
   "cell_type": "markdown",
   "metadata": {},
   "source": [
    "## Quantos DODFs baixados?"
   ]
  },
  {
   "cell_type": "code",
   "execution_count": 82,
   "metadata": {},
   "outputs": [
    {
     "data": {
      "text/plain": [
       "595"
      ]
     },
     "execution_count": 82,
     "metadata": {},
     "output_type": "execute_result"
    }
   ],
   "source": [
    "dodfs_txt = glob.glob('data/dodfs_flat/*.txt')\n",
    "df['file'] = [i.split('/')[-1] for i in dodfs_txt]\n",
    "df['date'] = [get_reverse_date(s) for s in df.file]\n",
    "# df['date'] = pd.to_datetime(df.date)\n",
    "df['num'] = [get_num(s) for s in df.file]\n",
    "df.drop('file', axis=1, inplace=True)\n",
    "len(dodfs_txt)"
   ]
  },
  {
   "cell_type": "markdown",
   "metadata": {},
   "source": [
    "## Quantos tiveram aposentadoria detectada?"
   ]
  },
  {
   "cell_type": "code",
   "execution_count": 83,
   "metadata": {},
   "outputs": [
    {
     "name": "stdout",
     "output_type": "stream",
     "text": [
      "TOTAL DE ARQUIVOS COM APOSENTADORIAS: 368\n",
      "CPU times: user 11.9 s, sys: 166 ms, total: 12.1 s\n",
      "Wall time: 12.1 s\n"
     ]
    }
   ],
   "source": [
    "%%time\n",
    "dodfs_ext = [Retirements(i, 'regex') for i in dodfs_txt]\n",
    "df['has_act'] = [not i.data_frame.empty for i in dodfs_ext] \n",
    "dodfs_ext = [i for i in dodfs_ext if not i.data_frame.empty]\n",
    "print(\n",
    "    \"TOTAL DE ARQUIVOS COM APOSENTADORIAS:\",\n",
    "    df[~df.has_act].shape[0]\n",
    ")"
   ]
  },
  {
   "cell_type": "code",
   "execution_count": 84,
   "metadata": {
    "scrolled": true
   },
   "outputs": [
    {
     "data": {
      "text/plain": [
       "(5516, 19)"
      ]
     },
     "execution_count": 84,
     "metadata": {},
     "output_type": "execute_result"
    }
   ],
   "source": [
    "douro = pd.read_csv('data/aposentadoria-ouro/aposentaria-ouro-®.csv',\n",
    "            sep='®', engine='python', index_col=False,)\n",
    "douro.shape"
   ]
  },
  {
   "cell_type": "code",
   "execution_count": 85,
   "metadata": {},
   "outputs": [
    {
     "data": {
      "text/plain": [
       "(227, 17)"
      ]
     },
     "execution_count": 85,
     "metadata": {},
     "output_type": "execute_result"
    }
   ],
   "source": [
    "douro.groupby(['DATA_DODF', 'NUM_DODF']).count().shape"
   ]
  },
  {
   "cell_type": "code",
   "execution_count": 86,
   "metadata": {},
   "outputs": [],
   "source": [
    "gp_ouro = douro.groupby(\n",
    "    ['DATA_DODF', 'NUM_DODF']).count().iloc[:, 0:0].index\n",
    "gp_miner = df[df.has_act].groupby(\n",
    "    ['date', 'num']).count().iloc[:, 0:0].index"
   ]
  },
  {
   "cell_type": "code",
   "execution_count": 87,
   "metadata": {},
   "outputs": [
    {
     "data": {
      "text/plain": [
       "(226, 227)"
      ]
     },
     "execution_count": 87,
     "metadata": {},
     "output_type": "execute_result"
    }
   ],
   "source": [
    "len(gp_miner), len(gp_ouro)"
   ]
  },
  {
   "cell_type": "code",
   "execution_count": 88,
   "metadata": {},
   "outputs": [],
   "source": [
    "sminer = set(gp_miner)\n",
    "souro = set(gp_ouro)"
   ]
  },
  {
   "cell_type": "code",
   "execution_count": 89,
   "metadata": {
    "scrolled": true
   },
   "outputs": [],
   "source": [
    "MATTERS = ['DATA_DODF', 'NUM_DODF']\n",
    "matters = ['date', 'num']\n",
    "df_dtnum = df[df.has_act][matters].groupby(matters).count()\n",
    "df_dtnum.reset_index(inplace=True)\n",
    "\n",
    "douro_dtnum = douro[MATTERS].groupby(MATTERS).count()\n",
    "douro_dtnum.reset_index(inplace=True)\n",
    "douro_dtnum.rename({'DATA_DODF':'date', 'NUM_DODF':'num'},\n",
    "                   inplace=True, axis=1)"
   ]
  },
  {
   "cell_type": "code",
   "execution_count": 90,
   "metadata": {},
   "outputs": [],
   "source": [
    "souro_date = set(douro_dtnum.date.astype(str))\n",
    "sdf_date = set(df_dtnum.date.astype(str))"
   ]
  },
  {
   "cell_type": "code",
   "execution_count": 105,
   "metadata": {
    "scrolled": true
   },
   "outputs": [
    {
     "data": {
      "text/plain": [
       "(28, 199)"
      ]
     },
     "execution_count": 105,
     "metadata": {},
     "output_type": "execute_result"
    }
   ],
   "source": [
    "duplis = list(zip_longest(douro_dtnum.values, df_dtnum.values))\n",
    "eq = [i for i in duplis if np.array_equal(*i)]\n",
    "neq = [i for i in duplis if not np.array_equal(*i)]\n",
    "len(eq), len(neq)"
   ]
  },
  {
   "cell_type": "code",
   "execution_count": 109,
   "metadata": {},
   "outputs": [
    {
     "data": {
      "text/plain": [
       "[(array(['2018-04-19', 75], dtype=object),\n",
       "  array(['2018-04-20', 76], dtype=object)),\n",
       " (array(['2018-04-20', 76], dtype=object),\n",
       "  array(['2018-04-23', 77], dtype=object)),\n",
       " (array(['2018-04-23', 77], dtype=object),\n",
       "  array(['2018-04-25', 79], dtype=object)),\n",
       " (array(['2018-04-25', 79], dtype=object),\n",
       "  array(['2018-04-26', 80], dtype=object)),\n",
       " (array(['2018-04-26', 80], dtype=object),\n",
       "  array(['2018-04-30', 82], dtype=object)),\n",
       " (array(['2018-04-30', 82], dtype=object),\n",
       "  array(['2018-05-02', 83], dtype=object)),\n",
       " (array(['2018-05-02', 83], dtype=object),\n",
       "  array(['2018-05-03', 84], dtype=object)),\n",
       " (array(['2018-05-03', 84], dtype=object),\n",
       "  array(['2018-05-04', 85], dtype=object)),\n",
       " (array(['2018-05-04', 85], dtype=object),\n",
       "  array(['2018-05-07', 86], dtype=object)),\n",
       " (array(['2018-05-07', 86], dtype=object),\n",
       "  array(['2018-05-08', 87], dtype=object)),\n",
       " (array(['2018-05-08', 87], dtype=object),\n",
       "  array(['2018-05-09', 88], dtype=object)),\n",
       " (array(['2018-05-09', 88], dtype=object),\n",
       "  array(['2018-05-11', 90], dtype=object)),\n",
       " (array(['2018-05-11', 90], dtype=object),\n",
       "  array(['2018-05-14', 91], dtype=object)),\n",
       " (array(['2018-05-14', 91], dtype=object),\n",
       "  array(['2018-05-15', 92], dtype=object)),\n",
       " (array(['2018-05-15', 92], dtype=object),\n",
       "  array(['2018-05-16', 93], dtype=object)),\n",
       " (array(['2018-05-16', 93], dtype=object),\n",
       "  array(['2018-05-18', 95], dtype=object)),\n",
       " (array(['2018-05-18', 95], dtype=object),\n",
       "  array(['2018-05-21', 96], dtype=object)),\n",
       " (array(['2018-05-21', 96], dtype=object),\n",
       "  array(['2018-05-28', 101], dtype=object)),\n",
       " (array(['2018-05-28', 101], dtype=object),\n",
       "  array(['2018-05-29', 102], dtype=object)),\n",
       " (array(['2018-05-29', 102], dtype=object),\n",
       "  array(['2018-05-30', 103], dtype=object)),\n",
       " (array(['2018-05-30', 103], dtype=object),\n",
       "  array(['2018-06-04', 104], dtype=object)),\n",
       " (array(['2018-06-04', 104], dtype=object),\n",
       "  array(['2018-06-05', 105], dtype=object)),\n",
       " (array(['2018-06-05', 105], dtype=object),\n",
       "  array(['2018-06-06', 106], dtype=object)),\n",
       " (array(['2018-06-06', 106], dtype=object),\n",
       "  array(['2018-06-07', 107], dtype=object)),\n",
       " (array(['2018-06-07', 107], dtype=object),\n",
       "  array(['2018-06-08', 108], dtype=object)),\n",
       " (array(['2018-06-08', 108], dtype=object),\n",
       "  array(['2018-06-11', 109], dtype=object)),\n",
       " (array(['2018-06-11', 109], dtype=object),\n",
       "  array(['2018-06-12', 110], dtype=object)),\n",
       " (array(['2018-06-12', 110], dtype=object),\n",
       "  array(['2018-06-13', 111], dtype=object)),\n",
       " (array(['2018-06-13', 111], dtype=object),\n",
       "  array(['2018-06-14', 112], dtype=object)),\n",
       " (array(['2018-06-14', 112], dtype=object),\n",
       "  array(['2018-06-18', 114], dtype=object)),\n",
       " (array(['2018-06-18', 114], dtype=object),\n",
       "  array(['2018-06-20', 116], dtype=object)),\n",
       " (array(['2018-07-12', 131], dtype=object),\n",
       "  array(['2018-07-11', 130], dtype=object)),\n",
       " (array(['2018-07-13', 132], dtype=object),\n",
       "  array(['2018-07-12', 131], dtype=object)),\n",
       " (array(['2018-07-16', 133], dtype=object),\n",
       "  array(['2018-07-13', 132], dtype=object)),\n",
       " (array(['2018-07-18', 135], dtype=object),\n",
       "  array(['2018-07-16', 133], dtype=object)),\n",
       " (array(['2018-07-20', 137], dtype=object),\n",
       "  array(['2018-07-18', 135], dtype=object)),\n",
       " (array(['2018-07-24', 139], dtype=object),\n",
       "  array(['2018-07-20', 137], dtype=object)),\n",
       " (array(['2018-07-26', 141], dtype=object),\n",
       "  array(['2018-07-24', 139], dtype=object)),\n",
       " (array(['2018-07-27', 142], dtype=object),\n",
       "  array(['2018-07-26', 141], dtype=object)),\n",
       " (array(['2018-07-31', 144], dtype=object),\n",
       "  array(['2018-07-27', 142], dtype=object)),\n",
       " (array(['2018-08-01', 145], dtype=object),\n",
       "  array(['2018-07-31', 144], dtype=object)),\n",
       " (array(['2018-08-02', 146], dtype=object),\n",
       "  array(['2018-08-01', 145], dtype=object)),\n",
       " (array(['2018-08-17', 157], dtype=object),\n",
       "  array(['2018-08-20', 158], dtype=object)),\n",
       " (array(['2018-08-20', 158], dtype=object),\n",
       "  array(['2018-08-21', 159], dtype=object)),\n",
       " (array(['2018-08-21', 159], dtype=object),\n",
       "  array(['2018-08-22', 160], dtype=object)),\n",
       " (array(['2018-08-22', 160], dtype=object),\n",
       "  array(['2018-08-24', 162], dtype=object)),\n",
       " (array(['2018-08-24', 162], dtype=object),\n",
       "  array(['2018-08-27', 163], dtype=object)),\n",
       " (array(['2018-08-27', 163], dtype=object),\n",
       "  array(['2018-08-30', 166], dtype=object)),\n",
       " (array(['2018-08-30', 166], dtype=object),\n",
       "  array(['2018-08-31', 167], dtype=object)),\n",
       " (array(['2018-08-31', 167], dtype=object),\n",
       "  array(['2018-09-03', 168], dtype=object)),\n",
       " (array(['2018-09-03', 168], dtype=object),\n",
       "  array(['2018-09-05', 170], dtype=object)),\n",
       " (array(['2018-09-05', 170], dtype=object),\n",
       "  array(['2018-09-11', 173], dtype=object)),\n",
       " (array(['2018-09-11', 173], dtype=object),\n",
       "  array(['2018-09-12', 174], dtype=object)),\n",
       " (array(['2018-09-12', 174], dtype=object),\n",
       "  array(['2018-09-14', 176], dtype=object)),\n",
       " (array(['2018-09-14', 176], dtype=object),\n",
       "  array(['2018-09-17', 177], dtype=object)),\n",
       " (array(['2018-09-17', 177], dtype=object),\n",
       "  array(['2018-09-19', 179], dtype=object)),\n",
       " (array(['2018-09-19', 179], dtype=object),\n",
       "  array(['2018-09-21', 181], dtype=object)),\n",
       " (array(['2018-09-21', 181], dtype=object),\n",
       "  array(['2018-09-24', 182], dtype=object)),\n",
       " (array(['2018-09-24', 182], dtype=object),\n",
       "  array(['2018-09-26', 184], dtype=object)),\n",
       " (array(['2018-09-26', 184], dtype=object),\n",
       "  array(['2018-10-01', 187], dtype=object)),\n",
       " (array(['2018-10-01', 187], dtype=object),\n",
       "  array(['2018-10-02', 188], dtype=object)),\n",
       " (array(['2018-10-02', 188], dtype=object),\n",
       "  array(['2018-10-03', 189], dtype=object)),\n",
       " (array(['2018-10-03', 189], dtype=object),\n",
       "  array(['2018-10-05', 191], dtype=object)),\n",
       " (array(['2018-10-05', 191], dtype=object),\n",
       "  array(['2018-10-09', 68], dtype=object)),\n",
       " (array(['2018-10-09', 68], dtype=object),\n",
       "  array(['2018-10-09', 193], dtype=object)),\n",
       " (array(['2018-10-09', 193], dtype=object),\n",
       "  array(['2018-10-11', 195], dtype=object)),\n",
       " (array(['2018-10-11', 195], dtype=object),\n",
       "  array(['2018-10-16', 197], dtype=object)),\n",
       " (array(['2018-10-16', 197], dtype=object),\n",
       "  array(['2018-10-17', 198], dtype=object)),\n",
       " (array(['2018-10-17', 198], dtype=object),\n",
       "  array(['2018-10-22', 201], dtype=object)),\n",
       " (array(['2018-10-22', 201], dtype=object),\n",
       "  array(['2018-10-30', 207], dtype=object)),\n",
       " (array(['2018-10-30', 207], dtype=object),\n",
       "  array(['2018-10-31', 208], dtype=object)),\n",
       " (array(['2018-10-31', 208], dtype=object),\n",
       "  array(['2018-11-01', 209], dtype=object)),\n",
       " (array(['2018-11-01', 209], dtype=object),\n",
       "  array(['2018-11-05', 210], dtype=object)),\n",
       " (array(['2018-11-05', 210], dtype=object),\n",
       "  array(['2018-11-08', 213], dtype=object)),\n",
       " (array(['2018-11-08', 213], dtype=object),\n",
       "  array(['2018-11-09', 214], dtype=object)),\n",
       " (array(['2018-11-09', 214], dtype=object),\n",
       "  array(['2018-11-12', 215], dtype=object)),\n",
       " (array(['2018-11-12', 215], dtype=object),\n",
       "  array(['2018-11-13', 216], dtype=object)),\n",
       " (array(['2018-11-13', 216], dtype=object),\n",
       "  array(['2018-11-16', 218], dtype=object)),\n",
       " (array(['2018-11-16', 218], dtype=object),\n",
       "  array(['2018-11-19', 219], dtype=object)),\n",
       " (array(['2018-11-19', 219], dtype=object),\n",
       "  array(['2018-11-20', 220], dtype=object)),\n",
       " (array(['2018-11-20', 220], dtype=object),\n",
       "  array(['2018-11-21', 221], dtype=object)),\n",
       " (array(['2018-11-21', 221], dtype=object),\n",
       "  array(['2018-11-26', 224], dtype=object)),\n",
       " (array(['2018-11-26', 224], dtype=object),\n",
       "  array(['2018-11-27', 225], dtype=object)),\n",
       " (array(['2018-11-27', 225], dtype=object),\n",
       "  array(['2018-11-28', 226], dtype=object)),\n",
       " (array(['2018-11-28', 226], dtype=object),\n",
       "  array(['2018-12-03', 228], dtype=object)),\n",
       " (array(['2018-12-03', 228], dtype=object),\n",
       "  array(['2018-12-04', 81], dtype=object)),\n",
       " (array(['2018-12-04', 81], dtype=object),\n",
       "  array(['2018-12-05', 230], dtype=object)),\n",
       " (array(['2018-12-05', 230], dtype=object),\n",
       "  array(['2018-12-12', 235], dtype=object)),\n",
       " (array(['2018-12-12', 235], dtype=object),\n",
       "  array(['2018-12-17', 238], dtype=object)),\n",
       " (array(['2018-12-17', 238], dtype=object),\n",
       "  array(['2018-12-19', 240], dtype=object)),\n",
       " (array(['2018-12-19', 240], dtype=object),\n",
       "  array(['2018-12-21', 242], dtype=object)),\n",
       " (array(['2018-12-21', 242], dtype=object),\n",
       "  array(['2018-12-26', 244], dtype=object)),\n",
       " (array(['2018-12-26', 244], dtype=object),\n",
       "  array(['2018-12-27', 245], dtype=object)),\n",
       " (array(['2018-12-27', 245], dtype=object),\n",
       "  array(['2019-01-01', 248], dtype=object)),\n",
       " (array(['2019-01-01', 248], dtype=object),\n",
       "  array(['2019-01-07', 4], dtype=object)),\n",
       " (array(['2019-01-07', 4], dtype=object),\n",
       "  array(['2019-01-08', 5], dtype=object)),\n",
       " (array(['2019-01-08', 5], dtype=object),\n",
       "  array(['2019-01-10', 7], dtype=object)),\n",
       " (array(['2019-01-10', 7], dtype=object),\n",
       "  array(['2019-01-14', 9], dtype=object)),\n",
       " (array(['2019-01-14', 9], dtype=object),\n",
       "  array(['2019-01-15', 10], dtype=object)),\n",
       " (array(['2019-01-15', 10], dtype=object),\n",
       "  array(['2019-01-16', 11], dtype=object)),\n",
       " (array(['2019-01-16', 11], dtype=object),\n",
       "  array(['2019-01-17', 12], dtype=object)),\n",
       " (array(['2019-01-17', 12], dtype=object),\n",
       "  array(['2019-01-21', 14], dtype=object)),\n",
       " (array(['2019-01-21', 14], dtype=object),\n",
       "  array(['2019-01-24', 17], dtype=object)),\n",
       " (array(['2019-01-24', 17], dtype=object),\n",
       "  array(['2019-01-28', 19], dtype=object)),\n",
       " (array(['2019-01-28', 19], dtype=object),\n",
       "  array(['2019-01-30', 21], dtype=object)),\n",
       " (array(['2019-01-30', 21], dtype=object),\n",
       "  array(['2019-02-01', 23], dtype=object)),\n",
       " (array(['2019-02-01', 23], dtype=object),\n",
       "  array(['2019-02-04', 24], dtype=object)),\n",
       " (array(['2019-02-04', 24], dtype=object),\n",
       "  array(['2019-02-08', 28], dtype=object)),\n",
       " (array(['2019-02-08', 28], dtype=object),\n",
       "  array(['2019-02-11', 29], dtype=object)),\n",
       " (array(['2019-02-11', 29], dtype=object),\n",
       "  array(['2019-02-12', 30], dtype=object)),\n",
       " (array(['2019-02-12', 30], dtype=object),\n",
       "  array(['2019-02-14', 32], dtype=object)),\n",
       " (array(['2019-02-14', 32], dtype=object),\n",
       "  array(['2019-02-15', 33], dtype=object)),\n",
       " (array(['2019-02-26', 16], dtype=object),\n",
       "  array(['2019-02-26', 40], dtype=object)),\n",
       " (array(['2019-02-26', 40], dtype=object),\n",
       "  array(['2019-02-28', 42], dtype=object)),\n",
       " (array(['2019-02-28', 42], dtype=object),\n",
       "  array(['2019-03-01', 43], dtype=object)),\n",
       " (array(['2019-03-01', 43], dtype=object),\n",
       "  array(['2019-03-08', 45], dtype=object)),\n",
       " (array(['2019-03-07', 44], dtype=object),\n",
       "  array(['2019-03-12', 47], dtype=object)),\n",
       " (array(['2019-03-08', 45], dtype=object),\n",
       "  array(['2019-03-15', 50], dtype=object)),\n",
       " (array(['2019-03-12', 47], dtype=object),\n",
       "  array(['2019-03-22', 55], dtype=object)),\n",
       " (array(['2019-03-15', 19], dtype=object),\n",
       "  array(['2019-03-25', 56], dtype=object)),\n",
       " (array(['2019-03-15', 50], dtype=object),\n",
       "  array(['2019-03-27', 58], dtype=object)),\n",
       " (array(['2019-03-22', 55], dtype=object),\n",
       "  array(['2019-03-28', 59], dtype=object)),\n",
       " (array(['2019-03-25', 56], dtype=object),\n",
       "  array(['2019-04-01', 61], dtype=object)),\n",
       " (array(['2019-03-28', 59], dtype=object),\n",
       "  array(['2019-04-02', 62], dtype=object)),\n",
       " (array(['2019-04-01', 61], dtype=object),\n",
       "  array(['2019-04-05', 65], dtype=object)),\n",
       " (array(['2019-04-02', 62], dtype=object),\n",
       "  array(['2019-04-08', 66], dtype=object)),\n",
       " (array(['2019-04-03', 63], dtype=object),\n",
       "  array(['2019-04-09', 67], dtype=object)),\n",
       " (array(['2019-04-05', 65], dtype=object),\n",
       "  array(['2019-04-11', 69], dtype=object)),\n",
       " (array(['2019-04-08', 66], dtype=object),\n",
       "  array(['2019-04-12', 70], dtype=object)),\n",
       " (array(['2019-04-09', 67], dtype=object),\n",
       "  array(['2019-04-15', 71], dtype=object)),\n",
       " (array(['2019-04-11', 69], dtype=object),\n",
       "  array(['2019-04-16', 72], dtype=object)),\n",
       " (array(['2019-04-12', 70], dtype=object),\n",
       "  array(['2019-04-17', 30], dtype=object)),\n",
       " (array(['2019-04-15', 71], dtype=object),\n",
       "  array(['2019-04-22', 74], dtype=object)),\n",
       " (array(['2019-04-16', 72], dtype=object),\n",
       "  array(['2019-04-24', 76], dtype=object)),\n",
       " (array(['2019-04-22', 74], dtype=object),\n",
       "  array(['2019-04-25', 77], dtype=object)),\n",
       " (array(['2019-04-24', 76], dtype=object),\n",
       "  array(['2019-04-29', 79], dtype=object)),\n",
       " (array(['2019-04-25', 77], dtype=object),\n",
       "  array(['2019-04-30', 80], dtype=object)),\n",
       " (array(['2019-04-29', 79], dtype=object),\n",
       "  array(['2019-05-02', 81], dtype=object)),\n",
       " (array(['2019-04-30', 80], dtype=object),\n",
       "  array(['2019-05-06', 83], dtype=object)),\n",
       " (array(['2019-05-02', 81], dtype=object),\n",
       "  array(['2019-05-08', 85], dtype=object)),\n",
       " (array(['2019-05-06', 83], dtype=object),\n",
       "  array(['2019-05-09', 86], dtype=object)),\n",
       " (array(['2019-05-08', 85], dtype=object),\n",
       "  array(['2019-05-10', 87], dtype=object)),\n",
       " (array(['2019-05-09', 86], dtype=object),\n",
       "  array(['2019-05-16', 91], dtype=object)),\n",
       " (array(['2019-05-10', 87], dtype=object),\n",
       "  array(['2019-05-17', 92], dtype=object)),\n",
       " (array(['2019-05-16', 91], dtype=object),\n",
       "  array(['2019-05-20', 93], dtype=object)),\n",
       " (array(['2019-05-17', 92], dtype=object),\n",
       "  array(['2019-05-22', 95], dtype=object)),\n",
       " (array(['2019-05-20', 93], dtype=object),\n",
       "  array(['2019-05-27', 98], dtype=object)),\n",
       " (array(['2019-05-22', 95], dtype=object),\n",
       "  array(['2019-06-03', 103], dtype=object)),\n",
       " (array(['2019-05-27', 98], dtype=object),\n",
       "  array(['2019-06-04', 104], dtype=object)),\n",
       " (array(['2019-06-03', 103], dtype=object),\n",
       "  array(['2019-06-05', 105], dtype=object)),\n",
       " (array(['2019-06-04', 104], dtype=object),\n",
       "  array(['2019-06-06', 106], dtype=object)),\n",
       " (array(['2019-06-05', 105], dtype=object),\n",
       "  array(['2019-06-07', 107], dtype=object)),\n",
       " (array(['2019-06-06', 106], dtype=object),\n",
       "  array(['2019-06-10', 108], dtype=object)),\n",
       " (array(['2019-06-07', 107], dtype=object),\n",
       "  array(['2019-06-11', 109], dtype=object)),\n",
       " (array(['2019-06-10', 108], dtype=object),\n",
       "  array(['2019-06-18', 114], dtype=object)),\n",
       " (array(['2019-06-11', 109], dtype=object),\n",
       "  array(['2019-06-24', 116], dtype=object)),\n",
       " (array(['2019-06-18', 114], dtype=object),\n",
       "  array(['2019-06-25', 117], dtype=object)),\n",
       " (array(['2019-06-24', 116], dtype=object),\n",
       "  array(['2019-06-26', 118], dtype=object)),\n",
       " (array(['2019-06-25', 117], dtype=object),\n",
       "  array(['2019-06-28', 120], dtype=object)),\n",
       " (array(['2019-06-26', 118], dtype=object),\n",
       "  array(['2019-07-01', 45], dtype=object)),\n",
       " (array(['2019-06-28', 120], dtype=object),\n",
       "  array(['2019-07-02', 122], dtype=object)),\n",
       " (array(['2019-07-01', 45], dtype=object),\n",
       "  array(['2019-07-09', 127], dtype=object)),\n",
       " (array(['2019-07-02', 122], dtype=object),\n",
       "  array(['2019-07-10', 128], dtype=object)),\n",
       " (array(['2019-07-03', 123], dtype=object),\n",
       "  array(['2019-07-12', 130], dtype=object)),\n",
       " (array(['2019-07-05', 125], dtype=object),\n",
       "  array(['2019-07-15', 131], dtype=object)),\n",
       " (array(['2019-07-09', 127], dtype=object),\n",
       "  array(['2019-07-17', 133], dtype=object)),\n",
       " (array(['2019-07-10', 128], dtype=object),\n",
       "  array(['2019-07-19', 135], dtype=object)),\n",
       " (array(['2019-07-12', 130], dtype=object),\n",
       "  array(['2019-07-22', 136], dtype=object)),\n",
       " (array(['2019-07-15', 131], dtype=object),\n",
       "  array(['2019-07-23', 47], dtype=object)),\n",
       " (array(['2019-07-17', 133], dtype=object),\n",
       "  array(['2019-07-25', 139], dtype=object)),\n",
       " (array(['2019-07-19', 135], dtype=object),\n",
       "  array(['2019-07-26', 140], dtype=object)),\n",
       " (array(['2019-07-22', 136], dtype=object),\n",
       "  array(['2019-08-01', 144], dtype=object)),\n",
       " (array(['2019-07-26', 140], dtype=object),\n",
       "  array(['2019-08-05', 146], dtype=object)),\n",
       " (array(['2019-08-01', 144], dtype=object),\n",
       "  array(['2019-08-08', 149], dtype=object)),\n",
       " (array(['2019-08-05', 146], dtype=object),\n",
       "  array(['2019-08-09', 150], dtype=object)),\n",
       " (array(['2019-08-08', 149], dtype=object),\n",
       "  array(['2019-08-14', 153], dtype=object)),\n",
       " (array(['2019-08-09', 150], dtype=object),\n",
       "  array(['2019-08-15', 154], dtype=object)),\n",
       " (array(['2019-08-14', 153], dtype=object),\n",
       "  array(['2019-08-16', 155], dtype=object)),\n",
       " (array(['2019-08-15', 154], dtype=object),\n",
       "  array(['2019-08-19', 156], dtype=object)),\n",
       " (array(['2019-08-16', 155], dtype=object),\n",
       "  array(['2019-08-20', 157], dtype=object)),\n",
       " (array(['2019-08-19', 156], dtype=object),\n",
       "  array(['2019-08-26', 161], dtype=object)),\n",
       " (array(['2019-08-20', 157], dtype=object),\n",
       "  array(['2019-08-27', 162], dtype=object)),\n",
       " (array(['2019-08-26', 161], dtype=object),\n",
       "  array(['2019-08-28', 163], dtype=object)),\n",
       " (array(['2019-08-27', 162], dtype=object),\n",
       "  array(['2019-08-30', 165], dtype=object)),\n",
       " (array(['2019-08-28', 163], dtype=object),\n",
       "  array(['2019-09-04', 168], dtype=object)),\n",
       " (array(['2019-09-02', 166], dtype=object),\n",
       "  array(['2019-09-05', 169], dtype=object)),\n",
       " (array(['2019-09-04', 168], dtype=object),\n",
       "  array(['2019-09-09', 171], dtype=object)),\n",
       " (array(['2019-09-05', 169], dtype=object),\n",
       "  array(['2019-09-10', 172], dtype=object)),\n",
       " (array(['2019-09-09', 171], dtype=object),\n",
       "  array(['2019-09-11', 173], dtype=object)),\n",
       " (array(['2019-09-11', 173], dtype=object),\n",
       "  array(['2019-09-13', 175], dtype=object)),\n",
       " (array(['2019-09-13', 175], dtype=object),\n",
       "  array(['2019-09-16', 176], dtype=object)),\n",
       " (array(['2019-09-16', 176], dtype=object),\n",
       "  array(['2019-09-17', 177], dtype=object)),\n",
       " (array(['2019-09-17', 177], dtype=object),\n",
       "  array(['2019-09-18', 178], dtype=object)),\n",
       " (array(['2019-09-18', 178], dtype=object),\n",
       "  array(['2019-09-20', 180], dtype=object)),\n",
       " (array(['2019-09-20', 180], dtype=object),\n",
       "  array(['2019-09-24', 182], dtype=object)),\n",
       " (array(['2019-09-24', 182], dtype=object),\n",
       "  array(['2019-09-25', 183], dtype=object)),\n",
       " (array(['2019-09-25', 183], dtype=object),\n",
       "  array(['2019-09-26', 184], dtype=object)),\n",
       " (array(['2019-09-26', 184], dtype=object),\n",
       "  array(['2019-09-30', 186], dtype=object)),\n",
       " (array(['2019-09-30', 186], dtype=object), None)]"
      ]
     },
     "execution_count": 109,
     "metadata": {},
     "output_type": "execute_result"
    }
   ],
   "source": [
    "neq"
   ]
  },
  {
   "cell_type": "code",
   "execution_count": 107,
   "metadata": {},
   "outputs": [
    {
     "data": {
      "text/plain": [
       "False"
      ]
     },
     "execution_count": 107,
     "metadata": {},
     "output_type": "execute_result"
    }
   ],
   "source": [
    "np.array_equal( duplis[0] , duplis[1])"
   ]
  },
  {
   "cell_type": "code",
   "execution_count": 108,
   "metadata": {},
   "outputs": [
    {
     "data": {
      "text/plain": [
       "True"
      ]
     },
     "execution_count": 108,
     "metadata": {},
     "output_type": "execute_result"
    }
   ],
   "source": [
    "np.array_equal(duplis[0][0], duplis[0][1])"
   ]
  },
  {
   "cell_type": "code",
   "execution_count": null,
   "metadata": {},
   "outputs": [],
   "source": []
  },
  {
   "cell_type": "code",
   "execution_count": 54,
   "metadata": {},
   "outputs": [
    {
     "data": {
      "text/plain": [
       "((226, 2), (227, 2))"
      ]
     },
     "execution_count": 54,
     "metadata": {},
     "output_type": "execute_result"
    }
   ],
   "source": [
    "df_dtnum.shape, douro_dtnum.shape"
   ]
  }
 ],
 "metadata": {
  "kernelspec": {
   "display_name": "Python 3",
   "language": "python",
   "name": "python3"
  },
  "language_info": {
   "codemirror_mode": {
    "name": "ipython",
    "version": 3
   },
   "file_extension": ".py",
   "mimetype": "text/x-python",
   "name": "python",
   "nbconvert_exporter": "python",
   "pygments_lexer": "ipython3",
   "version": "3.8.1"
  }
 },
 "nbformat": 4,
 "nbformat_minor": 4
}
