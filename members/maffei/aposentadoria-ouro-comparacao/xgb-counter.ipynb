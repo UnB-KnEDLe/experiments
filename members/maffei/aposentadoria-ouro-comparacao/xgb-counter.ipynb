{
 "cells": [
  {
   "cell_type": "code",
   "execution_count": 22,
   "metadata": {},
   "outputs": [
    {
     "ename": "KeyError",
     "evalue": "'21ba9375-98f8-4b82-b27e-7f173007056e'",
     "output_type": "error",
     "traceback": [
      "\u001b[0;31m---------------------------------------------------------------------------\u001b[0m",
      "\u001b[0;31mKeyError\u001b[0m                                  Traceback (most recent call last)",
      "\u001b[0;32m<ipython-input-22-f806d3bc0a94>\u001b[0m in \u001b[0;36m<module>\u001b[0;34m\u001b[0m\n\u001b[1;32m     23\u001b[0m ).group(1)\n\u001b[1;32m     24\u001b[0m \u001b[0;34m\u001b[0m\u001b[0m\n\u001b[0;32m---> 25\u001b[0;31m NOTEBOOK_PATH = {\n\u001b[0m\u001b[1;32m     26\u001b[0m     \u001b[0mr\u001b[0m\u001b[0;34m[\u001b[0m\u001b[0;34m'kernel'\u001b[0m\u001b[0;34m]\u001b[0m\u001b[0;34m[\u001b[0m\u001b[0;34m'id'\u001b[0m\u001b[0;34m]\u001b[0m\u001b[0;34m:\u001b[0m \u001b[0mr\u001b[0m\u001b[0;34m[\u001b[0m\u001b[0;34m'notebook'\u001b[0m\u001b[0;34m]\u001b[0m\u001b[0;34m[\u001b[0m\u001b[0;34m'path'\u001b[0m\u001b[0;34m]\u001b[0m\u001b[0;34m\u001b[0m\u001b[0;34m\u001b[0m\u001b[0m\n\u001b[1;32m     27\u001b[0m     \u001b[0;32mfor\u001b[0m \u001b[0mr\u001b[0m \u001b[0;32min\u001b[0m \u001b[0mresponse\u001b[0m\u001b[0;34m\u001b[0m\u001b[0;34m\u001b[0m\u001b[0m\n",
      "\u001b[0;31mKeyError\u001b[0m: '21ba9375-98f8-4b82-b27e-7f173007056e'"
     ]
    }
   ],
   "source": [
    "# import requests\n",
    "# import ipykernel\n",
    "# import re\n",
    "# from notebook.notebookapp import list_running_servers\n",
    "# from notebook import notebookapp\n",
    "\n",
    "# from matplotlib import pyplot as plt\n",
    "# servers = list(notebookapp.list_running_servers())\n",
    "\n",
    "# TOKEN = servers[0]['token']\n",
    "\n",
    "# base_url = next(list_running_servers())['url']\n",
    "# r = requests.get(\n",
    "#     url=base_url + 'api/sessions',\n",
    "#     headers={'Authorization': 'token {}'.format(TOKEN),})\n",
    "\n",
    "# r.raise_for_status()\n",
    "# response = r.json()\n",
    "\n",
    "# kernel_id = re.search(\n",
    "#     'kernel-(.*).json',\n",
    "#     ipykernel.connect.get_connection_file()\n",
    "# ).group(1)\n",
    "\n",
    "# NOTEBOOK_PATH = {\n",
    "#     r['kernel']['id']: r['notebook']['path']\n",
    "#     for r in response\n",
    "# }[kernel_id]\n",
    "# print(NOTEBOOK_PATH)"
   ]
  },
  {
   "cell_type": "code",
   "execution_count": 17,
   "metadata": {},
   "outputs": [],
   "source": [
    "import os\n",
    "import glob\n",
    "import pickle\n",
    "from itertools import chain\n",
    "from collections import Counter\n",
    "import pandas as pd\n",
    "import numpy as np\n",
    "import matplotlib.pyplot as plt\n",
    "\n",
    "import fitz\n",
    "from dodfminer.extract.polished.acts.aposentadoria import Retirements\n",
    "import unidecode\n",
    "\n",
    "from sklearn.feature_extraction.text import TfidfVectorizer\n",
    "from sklearn.pipeline import Pipeline\n",
    "from sklearn.model_selection import cross_validate\n",
    "from sklearn.model_selection import train_test_split, StratifiedKFold\n",
    "\n",
    "from sklearn.model_selection import  cross_validate\n",
    "\n",
    "from sklearn.metrics import plot_confusion_matrix\n",
    "# from sklearn.metrics import f1_score, accuracy_score\n",
    "from sklearn.metrics import mean_absolute_error, mean_squared_error\n",
    "import xgboost as xgb\n",
    "from sklearn.pipeline import Pipeline"
   ]
  },
  {
   "cell_type": "code",
   "execution_count": 10,
   "metadata": {},
   "outputs": [
    {
     "name": "stdout",
     "output_type": "stream",
     "text": [
      "CPU times: user 175 µs, sys: 50 µs, total: 225 µs\n",
      "Wall time: 231 µs\n"
     ]
    }
   ],
   "source": [
    "%%time\n",
    "pipe = Pipeline([\n",
    "    ('vectorizer', TfidfVectorizer()),\n",
    "    ('model', xgb.XGBClassifier(\n",
    "        objective='multi:softprob',\n",
    "        random_state=0,\n",
    "        num_class=2\n",
    "    ))\n",
    "])"
   ]
  },
  {
   "cell_type": "code",
   "execution_count": 11,
   "metadata": {
    "scrolled": true
   },
   "outputs": [
    {
     "name": "stdout",
     "output_type": "stream",
     "text": [
      "CPU times: user 1.17 s, sys: 214 ms, total: 1.38 s\n",
      "Wall time: 1.54 s\n"
     ]
    },
    {
     "data": {
      "text/html": [
       "<div>\n",
       "<style scoped>\n",
       "    .dataframe tbody tr th:only-of-type {\n",
       "        vertical-align: middle;\n",
       "    }\n",
       "\n",
       "    .dataframe tbody tr th {\n",
       "        vertical-align: top;\n",
       "    }\n",
       "\n",
       "    .dataframe thead th {\n",
       "        text-align: right;\n",
       "    }\n",
       "</style>\n",
       "<table border=\"1\" class=\"dataframe\">\n",
       "  <thead>\n",
       "    <tr style=\"text-align: right;\">\n",
       "      <th></th>\n",
       "      <th>x0</th>\n",
       "      <th>x</th>\n",
       "      <th>y0</th>\n",
       "      <th>y1</th>\n",
       "      <th>text</th>\n",
       "      <th>qtd_ents</th>\n",
       "      <th>y</th>\n",
       "    </tr>\n",
       "  </thead>\n",
       "  <tbody>\n",
       "    <tr>\n",
       "      <th>0</th>\n",
       "      <td>144.846329</td>\n",
       "      <td>190.436508</td>\n",
       "      <td>659.465149</td>\n",
       "      <td>208.861298</td>\n",
       "      <td>ANO XLVII EDICAO No- 248\\nBRASILIA - DF, TERCA...</td>\n",
       "      <td>0</td>\n",
       "      <td>0</td>\n",
       "    </tr>\n",
       "    <tr>\n",
       "      <th>1</th>\n",
       "      <td>56.702831</td>\n",
       "      <td>353.227753</td>\n",
       "      <td>344.850311</td>\n",
       "      <td>370.024231</td>\n",
       "      <td>Secretaria de Estado de Trabalho, Desenvolvime...</td>\n",
       "      <td>0</td>\n",
       "      <td>0</td>\n",
       "    </tr>\n",
       "  </tbody>\n",
       "</table>\n",
       "</div>"
      ],
      "text/plain": [
       "           x0           x          y0          y1  \\\n",
       "0  144.846329  190.436508  659.465149  208.861298   \n",
       "1   56.702831  353.227753  344.850311  370.024231   \n",
       "\n",
       "                                                text  qtd_ents  y  \n",
       "0  ANO XLVII EDICAO No- 248\\nBRASILIA - DF, TERCA...         0  0  \n",
       "1  Secretaria de Estado de Trabalho, Desenvolvime...         0  0  "
      ]
     },
     "execution_count": 11,
     "metadata": {},
     "output_type": "execute_result"
    }
   ],
   "source": [
    "%%time\n",
    "df = pd.read_csv('blocos_qtd_entidades.csv', index_col=False)\n",
    "df['y'] = (df.qtd_ents > 0).astype(int)\n",
    "df.head(2)"
   ]
  },
  {
   "cell_type": "code",
   "execution_count": 12,
   "metadata": {},
   "outputs": [],
   "source": [
    "# train_test_split(df.Text)"
   ]
  },
  {
   "cell_type": "code",
   "execution_count": 14,
   "metadata": {
    "scrolled": true
   },
   "outputs": [
    {
     "name": "stdout",
     "output_type": "stream",
     "text": [
      "CPU times: user 420 µs, sys: 103 µs, total: 523 µs\n",
      "Wall time: 541 µs\n"
     ]
    }
   ],
   "source": [
    "%%time\n",
    "\n",
    "pipe = Pipeline([\n",
    "    ('vectorizer', TfidfVectorizer()),\n",
    "    ('model', xgb.XGBRegressor(\n",
    "        objective='reg:squarederror',\n",
    "        random_state=42,\n",
    "        n_jobs=-1,\n",
    "        \n",
    "    )),\n",
    "    \n",
    "#     ('model', xgb.XGBClassifier(\n",
    "#         objective='multi:softprob',\n",
    "#         random_state=42,\n",
    "#         num_class=2,\n",
    "#         n_jobs=-1\n",
    "#     )),\n",
    "])    "
   ]
  },
  {
   "cell_type": "code",
   "execution_count": 25,
   "metadata": {},
   "outputs": [
    {
     "name": "stdout",
     "output_type": "stream",
     "text": [
      "CPU times: user 25min 1s, sys: 10.1 s, total: 25min 11s\n",
      "Wall time: 25min 12s\n"
     ]
    }
   ],
   "source": [
    "%%time\n",
    "skf = StratifiedKFold(n_splits=5)\n",
    "pipes = []\n",
    "scores = {\n",
    "    'mae': [],\n",
    "    'msae': [],\n",
    "}\n",
    "for train_index, test_index in skf.split(df.text, df.y):\n",
    "    x_train, x_test = df.text[train_index], df.text[test_index]\n",
    "    y_train, y_test = df.qtd_ents[train_index], df.qtd_ents[test_index]\n",
    "\n",
    "    pipe = Pipeline([\n",
    "        ('vectorizer', TfidfVectorizer()),\n",
    "        ('model', xgb.XGBRegressor(\n",
    "            objective='reg:squarederror',\n",
    "            random_state=42,\n",
    "            n_jobs=-1,\n",
    "\n",
    "        )),\n",
    "    ])\n",
    "    pipe.fit(x_train, y_train)\n",
    "\n",
    "    y_pred = pipe.predict(x_test)\n",
    "    scores['mae'].append(mean_absolute_error(y_test, y_pred))\n",
    "    scores['msae'].append(mean_squared_error(y_test, y_pred))\n",
    "    pipes.append(pipe)\n",
    "#     break\n",
    "# y_pred = pipe.predict(df_test.text)"
   ]
  },
  {
   "cell_type": "code",
   "execution_count": 26,
   "metadata": {
    "scrolled": false
   },
   "outputs": [
    {
     "data": {
      "text/plain": [
       "{'mae': [0.009181283275773392,\n",
       "  0.01218282581664885,\n",
       "  0.014890245705434721,\n",
       "  0.011848984107481152,\n",
       "  0.008639870786284098],\n",
       " 'msae': [0.025176130697841477,\n",
       "  0.03220102762547463,\n",
       "  0.06531995637920182,\n",
       "  0.037993706655144927,\n",
       "  0.01781413328532357]}"
      ]
     },
     "execution_count": 26,
     "metadata": {},
     "output_type": "execute_result"
    }
   ],
   "source": [
    "scores"
   ]
  },
  {
   "cell_type": "code",
   "execution_count": 27,
   "metadata": {},
   "outputs": [
    {
     "data": {
      "text/plain": [
       "(0.011348641938324444, 0.035700990928597284)"
      ]
     },
     "execution_count": 27,
     "metadata": {},
     "output_type": "execute_result"
    }
   ],
   "source": [
    "np.mean(scores['mae']), np.mean(scores['msae'])"
   ]
  },
  {
   "cell_type": "code",
   "execution_count": 30,
   "metadata": {},
   "outputs": [
    {
     "name": "stdout",
     "output_type": "stream",
     "text": [
      "CPU times: user 12 µs, sys: 0 ns, total: 12 µs\n",
      "Wall time: 20.7 µs\n"
     ]
    },
    {
     "data": {
      "text/html": [
       "<div>\n",
       "<style scoped>\n",
       "    .dataframe tbody tr th:only-of-type {\n",
       "        vertical-align: middle;\n",
       "    }\n",
       "\n",
       "    .dataframe tbody tr th {\n",
       "        vertical-align: top;\n",
       "    }\n",
       "\n",
       "    .dataframe thead th {\n",
       "        text-align: right;\n",
       "    }\n",
       "</style>\n",
       "<table border=\"1\" class=\"dataframe\">\n",
       "  <thead>\n",
       "    <tr style=\"text-align: right;\">\n",
       "      <th></th>\n",
       "      <th>y_pred</th>\n",
       "      <th>y</th>\n",
       "    </tr>\n",
       "  </thead>\n",
       "  <tbody>\n",
       "    <tr>\n",
       "      <th>0</th>\n",
       "      <td>-0.000148</td>\n",
       "      <td>0</td>\n",
       "    </tr>\n",
       "    <tr>\n",
       "      <th>1</th>\n",
       "      <td>-0.000148</td>\n",
       "      <td>0</td>\n",
       "    </tr>\n",
       "    <tr>\n",
       "      <th>2</th>\n",
       "      <td>-0.000148</td>\n",
       "      <td>0</td>\n",
       "    </tr>\n",
       "    <tr>\n",
       "      <th>3</th>\n",
       "      <td>-0.000148</td>\n",
       "      <td>0</td>\n",
       "    </tr>\n",
       "    <tr>\n",
       "      <th>4</th>\n",
       "      <td>-0.000148</td>\n",
       "      <td>0</td>\n",
       "    </tr>\n",
       "    <tr>\n",
       "      <th>...</th>\n",
       "      <td>...</td>\n",
       "      <td>...</td>\n",
       "    </tr>\n",
       "    <tr>\n",
       "      <th>104018</th>\n",
       "      <td>-0.000148</td>\n",
       "      <td>0</td>\n",
       "    </tr>\n",
       "    <tr>\n",
       "      <th>104019</th>\n",
       "      <td>-0.000148</td>\n",
       "      <td>0</td>\n",
       "    </tr>\n",
       "    <tr>\n",
       "      <th>104020</th>\n",
       "      <td>-0.000148</td>\n",
       "      <td>0</td>\n",
       "    </tr>\n",
       "    <tr>\n",
       "      <th>104021</th>\n",
       "      <td>-0.000148</td>\n",
       "      <td>0</td>\n",
       "    </tr>\n",
       "    <tr>\n",
       "      <th>104022</th>\n",
       "      <td>-0.000148</td>\n",
       "      <td>0</td>\n",
       "    </tr>\n",
       "  </tbody>\n",
       "</table>\n",
       "<p>104023 rows × 2 columns</p>\n",
       "</div>"
      ],
      "text/plain": [
       "          y_pred  y\n",
       "0      -0.000148  0\n",
       "1      -0.000148  0\n",
       "2      -0.000148  0\n",
       "3      -0.000148  0\n",
       "4      -0.000148  0\n",
       "...          ... ..\n",
       "104018 -0.000148  0\n",
       "104019 -0.000148  0\n",
       "104020 -0.000148  0\n",
       "104021 -0.000148  0\n",
       "104022 -0.000148  0\n",
       "\n",
       "[104023 rows x 2 columns]"
      ]
     },
     "execution_count": 30,
     "metadata": {},
     "output_type": "execute_result"
    }
   ],
   "source": [
    "%%time\n",
    "d0_pred=pd.DataFrame({\n",
    "    'y_pred':pipes[0].predict(df.text),\n",
    "    'y': df.qtd_ents\n",
    "})\n",
    "d0_pred"
   ]
  },
  {
   "cell_type": "code",
   "execution_count": 39,
   "metadata": {},
   "outputs": [
    {
     "name": "stdout",
     "output_type": "stream",
     "text": [
      "(arredondado)mse: 5.0606060606060606\n",
      "(arredondado)mae: 1.7272727272727273\n",
      "(nao-arredondado)mse: 5.241901407777309\n",
      "(nao-arredondado)mae: 1.6699442399872675\n"
     ]
    }
   ],
   "source": [
    "mask = (np.around(d0_pred.y_pred).astype(int) == d0_pred.y)\n",
    "d0_err = d0_pred[~mask].copy()\n",
    "y, y_pred = d0_err.y, d0_err.y_pred\n",
    "\n",
    "print('(arredondado)mse:', mean_squared_error(y, np.around(y_pred)))\n",
    "print('(arredondado)mae:', mean_absolute_error(y, np.around(y_pred)))\n",
    "\n",
    "print('(nao-arredondado)mse:', mean_squared_error(y, y_pred))\n",
    "print('(nao-arredondado)mae:', mean_absolute_error(y, y_pred))\n"
   ]
  },
  {
   "cell_type": "code",
   "execution_count": 41,
   "metadata": {},
   "outputs": [
    {
     "name": "stdout",
     "output_type": "stream",
     "text": [
      "Desvio padrão das quantidades (arredondadas) erroneamente preditas:  2.2148177835904974\n"
     ]
    }
   ],
   "source": [
    "print(\"Desvio padrão das quantidades (arredondadas) erroneamente preditas: \", np.std( y - np.around(y_pred) ))"
   ]
  },
  {
   "cell_type": "code",
   "execution_count": 23,
   "metadata": {},
   "outputs": [
    {
     "data": {
      "text/plain": [
       "292"
      ]
     },
     "execution_count": 23,
     "metadata": {},
     "output_type": "execute_result"
    }
   ],
   "source": [
    "prf = 'pipe_xgb_regressor'\n",
    "pickle.dump(pipe, open(f'{prf}.pkl', 'wb'))\n",
    "open(f'{prf}.txt', 'w').write(\n",
    "    f\"notebook de origem: xgb-counter.ipynb\\n\\n\"\n",
    "    f\"`{prf}.pkl` contém um pipeline que contém uma instância\\n\"\n",
    "    \"treinada do modelo xgboost. A entrada é um vetor de strings\\n\"\n",
    "    \"e a saída um vetor de inteiros , 1-> verdadeiro 0-> falso\\n\"\n",
    "    \"(no que diz respeito à presença ou não de atos de aposentadoria).\\n\"\n",
    ")"
   ]
  }
 ],
 "metadata": {
  "kernelspec": {
   "display_name": "Python 3",
   "language": "python",
   "name": "python3"
  },
  "language_info": {
   "codemirror_mode": {
    "name": "ipython",
    "version": 3
   },
   "file_extension": ".py",
   "mimetype": "text/x-python",
   "name": "python",
   "nbconvert_exporter": "python",
   "pygments_lexer": "ipython3",
   "version": "3.8.1"
  }
 },
 "nbformat": 4,
 "nbformat_minor": 4
}
