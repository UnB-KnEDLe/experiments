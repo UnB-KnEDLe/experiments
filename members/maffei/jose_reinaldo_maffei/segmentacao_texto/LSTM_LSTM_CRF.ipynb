{
  "nbformat": 4,
  "nbformat_minor": 0,
  "metadata": {
    "kernelspec": {
      "display_name": "Python 3",
      "language": "python",
      "name": "python3"
    },
    "language_info": {
      "codemirror_mode": {
        "name": "ipython",
        "version": 3
      },
      "file_extension": ".py",
      "mimetype": "text/x-python",
      "name": "python",
      "nbconvert_exporter": "python",
      "pygments_lexer": "ipython3",
      "version": "3.8.1"
    },
    "colab": {
      "name": "LSTM_LSTM_CRF.ipynb",
      "provenance": [],
      "collapsed_sections": []
    },
    "accelerator": "GPU"
  },
  "cells": [
    {
      "cell_type": "code",
      "metadata": {
        "colab": {
          "base_uri": "https://localhost:8080/"
        },
        "id": "u87-rtKYhaJh",
        "outputId": "eb129ec7-8ae4-44d9-fe5f-4031ea339dfd"
      },
      "source": [
        "!pip install pytorch-crf"
      ],
      "execution_count": null,
      "outputs": [
        {
          "output_type": "stream",
          "text": [
            "Collecting pytorch-crf\n",
            "  Downloading https://files.pythonhosted.org/packages/96/7d/4c4688e26ea015fc118a0327e5726e6596836abce9182d3738be8ec2e32a/pytorch_crf-0.7.2-py3-none-any.whl\n",
            "Installing collected packages: pytorch-crf\n",
            "Successfully installed pytorch-crf-0.7.2\n"
          ],
          "name": "stdout"
        }
      ]
    },
    {
      "cell_type": "code",
      "metadata": {
        "colab": {
          "base_uri": "https://localhost:8080/"
        },
        "id": "6AjVPbl6ZJmN",
        "outputId": "9a19a140-8421-4cd8-d8c7-9683c86910fc"
      },
      "source": [
        "from google.colab import drive\n",
        "drive.mount('/content/drive')"
      ],
      "execution_count": null,
      "outputs": [
        {
          "output_type": "stream",
          "text": [
            "Mounted at /content/drive\n"
          ],
          "name": "stdout"
        }
      ]
    },
    {
      "cell_type": "code",
      "metadata": {
        "id": "gRmUduDz95Z1"
      },
      "source": [
        "import torch\n",
        "from torch import nn\n",
        "from torch.utils.data import Dataset, DataLoader\n",
        "from gensim.models import KeyedVectors\n",
        "from torchcrf import CRF\n",
        "from tqdm import tqdm\n",
        "from tabulate import tabulate\n",
        "import unicodedata\n",
        "from math import floor\n",
        "import numpy as np\n",
        "from pathlib import Path\n",
        "\n",
        "PRF = Path('drive/MyDrive/knedle-data/')"
      ],
      "execution_count": null,
      "outputs": []
    },
    {
      "cell_type": "code",
      "metadata": {
        "id": "j_kmkctAh7hT"
      },
      "source": [
        "# !unzip drive/MyDrive/knedle-data/segmentation_aposentadoria.zip -d drive/MyDrive/knedle-data/"
      ],
      "execution_count": null,
      "outputs": []
    },
    {
      "cell_type": "markdown",
      "metadata": {
        "id": "iTnpbdHN95aE"
      },
      "source": [
        "# Parte 1 - Criando o dataset"
      ]
    },
    {
      "cell_type": "code",
      "metadata": {
        "scrolled": true,
        "id": "hmb9mcEk95aJ"
      },
      "source": [
        "emb = KeyedVectors.load_word2vec_format(\"drive/MyDrive/knedle-data/cbow_s50.txt\")"
      ],
      "execution_count": null,
      "outputs": []
    },
    {
      "cell_type": "code",
      "metadata": {
        "id": "zvYoDpNZ95aF"
      },
      "source": [
        "class segmentation_dataset(Dataset):\n",
        "    def __init__(self, tag2idx, word2idx, set_type, path='seg_data.txt'):\n",
        "        \"\"\"\n",
        "        Load the segmentation dataset, (self.__load__())\n",
        "        Truncate long sentences/split long blocks/ignore very short blocks (self.__trunc__())\n",
        "        get indices of words and tags (self.__get_idx__())\n",
        "        PAD the sentences and blocks/create MASKS representing padded elements (self.__pad__())\n",
        "        \"\"\"\n",
        "        self.set_type = set_type\n",
        "        self.min_block_length = 3\n",
        "        self.max_sentence_length = 30\n",
        "        self.max_block_length = 20\n",
        "        self.path = path\n",
        "\n",
        "        self.__load__()\n",
        "        self.__trunc__()\n",
        "        self.__split__()\n",
        "        self.__get_idx__(tag2idx, word2idx)\n",
        "        self.__pad__()\n",
        "        \n",
        "        self.x = torch.LongTensor(self.x)\n",
        "        self.y = torch.LongTensor(self.y)\n",
        "        self.mask = torch.ByteTensor(self.mask)\n",
        "        \n",
        "    def __getitem__(self, index):\n",
        "        \"\"\"\n",
        "        Get one item from the dataset\n",
        "        \"\"\"\n",
        "        return self.x[index], self.mask[index], self.y[index]\n",
        "    \n",
        "    def __len__(self):\n",
        "        \"\"\"\n",
        "        Returns the length of the dataset\n",
        "        \"\"\"\n",
        "        return len(self.x)\n",
        "    \n",
        "    def __load__(self):\n",
        "        \"\"\"\n",
        "        Load raw dataset from `self.path`\n",
        "        \"\"\"\n",
        "        data = open(self.path, 'r').read().splitlines()\n",
        "        x, y, temp_x, temp_y = [], [], [], []\n",
        "        for line in data:\n",
        "            if not line:\n",
        "                if len(temp_x)>0:\n",
        "                    x.append(temp_x)\n",
        "                    y.append(temp_y)\n",
        "                temp_x, temp_y = [], []\n",
        "            else:\n",
        "                if len(line.split())>=2:\n",
        "                    temp_x.append(line[1:].split())\n",
        "                    temp_y.append(line[0])\n",
        "        if temp_x:\n",
        "            x.append(temp_x)\n",
        "            y.append(temp_y)\n",
        "        \n",
        "        self.x = x\n",
        "        self.y = y\n",
        "        \n",
        "    def __trunc__(self):\n",
        "        \"\"\"\n",
        "        Truncate sentences with length > max_sentence_length\n",
        "        Separate blocks with length > max_block_length\n",
        "        Delete blocks with length < min_block_length\n",
        "        \"\"\"\n",
        "        # For each block in x\n",
        "        # for i in range(len(self.x)):\n",
        "        for i, x_i in enumerate(self.x):\n",
        "            # For each sentence in x[i]\n",
        "            for j, x_ij in enumerate(x_i):\n",
        "            # for j in range(len(self.x[i])):\n",
        "                if len(x_ij) > self.max_sentence_length:\n",
        "                # if len(self.x[i][j]) > self.max_sentence_length:\n",
        "                    self.x[i][j] = x_ij[:self.max_sentence_length]\n",
        "\n",
        "        sep_x = []\n",
        "        sep_y = []\n",
        "        # for i in range(len(self.x)):\n",
        "        maxbl = self.max_block_length\n",
        "        for i, x_i in enumerate(self.x):\n",
        "            # if len(self.x[i]) > self.max_block_length:\n",
        "            if len(x_i) > maxbl:\n",
        "                for j in range( (len(x_i) // maxbl) +1):\n",
        "                # for j in range( (len(x_i) // self.max_block_length) +1):\n",
        "                    # if self.x[i][j*self.max_block_length:(j+1)*self.max_block_length]:# and 'B' in self.y[i]:\n",
        "                    # if x_i[j*self.max_block_length:(j+1)*self.max_block_length]:# and 'B' in self.y[i]:\n",
        "                    if x_i[ j * maxbl : (j+1) * maxbl]:# and 'B' in self.y[i]:\n",
        "                        # sep_x.append(self.x[i][j*self.max_block_length:(j+1)*self.max_block_length])\n",
        "                        sep_x.append(x_i[j * maxbl : (j+1) * maxbl])\n",
        "                        # sep_y.append(self.y[i][j*self.max_block_length:(j+1)*self.max_block_length])\n",
        "                        sep_y.append(self.y[i][j * maxbl : (j+1) * maxbl])\n",
        "            elif len(x_i) < self.min_block_length:\n",
        "            # elif len(self.x[i]) < self.min_block_length:\n",
        "                continue\n",
        "#             elif 'B' in self.y[i]:\n",
        "            else:\n",
        "                # sep_x.append(self.x[i])\n",
        "                sep_x.append(x_i)\n",
        "                sep_y.append(self.y[i])\n",
        "        self.x = sep_x\n",
        "        self.y = sep_y\n",
        "        \n",
        "    def __split__(self):\n",
        "        train_split = floor(0.6*len(self.x))\n",
        "        valid_split = floor(0.1*len(self.x)) + train_split \n",
        "        if self.set_type == 'train':\n",
        "            print(\"Treinamento\")\n",
        "            self.x = self.x[:train_split]\n",
        "            self.y = self.y[:train_split]\n",
        "        elif self.set_type == 'valid':\n",
        "            print(\"validacao\")\n",
        "            self.x = self.x[train_split:valid_split]\n",
        "            self.y = self.y[train_split:valid_split]\n",
        "        else:\n",
        "            print(\"teste\")\n",
        "            self.x = self.x[valid_split:]\n",
        "            self.y = self.y[valid_split:]\n",
        "        \n",
        "    def __get_idx__(self, tag2idx, word2idx):\n",
        "        \"\"\"\n",
        "        Convert words (x) into indices for the embedding layer\n",
        "        PADs sentences to self.max_sentence_length\n",
        "        Convert tags (y) into indices \n",
        "        \"\"\"\n",
        "        # get_idx of x\n",
        "        for i in range(len(self.x)):\n",
        "            for j in range(len(self.x[i])):\n",
        "                for k in range(len(self.x[i][j])):\n",
        "                    w = self.x[i][j][k].replace(',', '').replace(';', '').replace(':', '').lower()\n",
        "                    if w in word2idx:\n",
        "                        self.x[i][j][k] = word2idx[w]\n",
        "                    else:\n",
        "                        self.x[i][j][k] = 0\n",
        "                while(len(self.x[i][j]) < self.max_sentence_length):\n",
        "                    self.x[i][j].append(0)\n",
        "                \n",
        "        # get_idx of y      \n",
        "        for i in range(len(self.y)):\n",
        "            for j in range(len(self.y[i])):\n",
        "                self.y[i][j] = tag2idx[self.y[i][j]]\n",
        "                \n",
        "    def __pad__(self):\n",
        "        \"\"\"\n",
        "        Pad blocks of sentences to self.max_block_length\n",
        "        Creates MASKS to indicate padded sentences in each block\n",
        "        \"\"\"\n",
        "        self.mask = []\n",
        "        sent_padder = [0 for i in range(self.max_sentence_length)]\n",
        "        for i in range(len(self.x)):\n",
        "            temp_mask = [0 for i in range(self.max_block_length)]\n",
        "            for j in range(len(self.x[i])):\n",
        "                temp_mask[j] = 1\n",
        "            self.mask.append(temp_mask)\n",
        "            while len(self.x[i]) < self.max_block_length:\n",
        "                self.x[i].append(sent_padder)\n",
        "                self.y[i].append(-1)\n",
        "                "
      ],
      "execution_count": null,
      "outputs": []
    },
    {
      "cell_type": "code",
      "metadata": {
        "colab": {
          "base_uri": "https://localhost:8080/"
        },
        "id": "7K_7t-kbafz_",
        "outputId": "6e89bcb0-0fd3-4c57-b219-af8431d12f64"
      },
      "source": [
        "import unicodedata\n",
        "\n",
        "dic = {}\n",
        "for j in emb.wv.index2word:\n",
        "    num = emb.vocab[j].index\n",
        "    word = unicodedata.normalize('NFKD', j).encode('ascii', 'ignore').decode('utf8')\n",
        "    dic[word] = emb.vocab[j].index\n",
        "print(len(dic))\n",
        "\n",
        "dic_tag = {'B': 0, 'I': 1, 'O': 2}\n",
        "idx2tag = {0: 'B', 1:'I', 2:'O'}"
      ],
      "execution_count": null,
      "outputs": [
        {
          "output_type": "stream",
          "text": [
            "/usr/local/lib/python3.7/dist-packages/ipykernel_launcher.py:4: DeprecationWarning: Call to deprecated `wv` (Attribute will be removed in 4.0.0, use self instead).\n",
            "  after removing the cwd from sys.path.\n"
          ],
          "name": "stderr"
        },
        {
          "output_type": "stream",
          "text": [
            "866822\n"
          ],
          "name": "stdout"
        }
      ]
    },
    {
      "cell_type": "code",
      "metadata": {
        "colab": {
          "base_uri": "https://localhost:8080/"
        },
        "id": "PuCK_7bF1qpl",
        "outputId": "5f3c6506-2464-4571-d793-14bccff48704"
      },
      "source": [
        "!ls drive/MyDrive/knedle-data"
      ],
      "execution_count": null,
      "outputs": [
        {
          "output_type": "stream",
          "text": [
            "cbow_s50.txt  seg_data.txt\t\t      seg_model_256_50dim_adam\n",
            "cbow_s50.zip  segmentation_aposentadoria.zip\n"
          ],
          "name": "stdout"
        }
      ]
    },
    {
      "cell_type": "code",
      "metadata": {
        "colab": {
          "base_uri": "https://localhost:8080/"
        },
        "id": "PflEO8AC95aN",
        "outputId": "ae9dbbbc-96c7-4750-bcb0-268ab5b1c2f4"
      },
      "source": [
        "seg_path = 'drive/MyDrive/knedle-data/seg_data.txt'\n",
        "train_dataset = segmentation_dataset(\n",
        "    tag2idx=dic_tag,\n",
        "    word2idx=dic, \n",
        "    set_type='train', path=seg_path,)\n",
        "valid_dataset = segmentation_dataset(\n",
        "    tag2idx=dic_tag, \n",
        "    word2idx=dic, \n",
        "    set_type='valid', path=seg_path,)\n",
        "test_dataset = segmentation_dataset(\n",
        "    tag2idx=dic_tag, \n",
        "    word2idx=dic, \n",
        "    set_type='test', path=seg_path,)\n",
        "len(train_dataset.x), len(valid_dataset.x), len(test_dataset.x)"
      ],
      "execution_count": null,
      "outputs": [
        {
          "output_type": "stream",
          "text": [
            "Treinamento\n",
            "validacao\n",
            "teste\n"
          ],
          "name": "stdout"
        },
        {
          "output_type": "execute_result",
          "data": {
            "text/plain": [
              "(81132, 13522, 40566)"
            ]
          },
          "metadata": {
            "tags": []
          },
          "execution_count": 10
        }
      ]
    },
    {
      "cell_type": "code",
      "metadata": {
        "colab": {
          "base_uri": "https://localhost:8080/"
        },
        "id": "1vywbWn695aO",
        "outputId": "f9b91bd7-23bf-4864-b3c7-1a16de7b78f7"
      },
      "source": [
        "print(\"Numero de classes por conjunto de dados (treinamento, validacao e teste)\")\n",
        "\n",
        "# tags = {'B':0, 'I':0, 'O':0}\n",
        "tags = [0, 0, 0]\n",
        "for block in train_dataset.y:\n",
        "    for tag in block:\n",
        "        tags[tag] += 1\n",
        "print(\"Conjunto de treinamento:\", tags)\n",
        "\n",
        "# tags = {'B':0, 'I':0, 'O':0}\n",
        "tags = [0, 0, 0]\n",
        "for block in valid_dataset.y:\n",
        "    for tag in block:\n",
        "        tags[tag] += 1\n",
        "print(\"Conjunto de validacao:\", tags)\n",
        "\n",
        "# tags = {'B':0, 'I':0, 'O':0}\n",
        "tags = [0, 0, 0]\n",
        "for block in test_dataset.y:\n",
        "    for tag in block:\n",
        "        tags[tag] += 1\n",
        "print(\"Conjunto de teste:\", tags)"
      ],
      "execution_count": null,
      "outputs": [
        {
          "output_type": "stream",
          "text": [
            "Numero de classes por conjunto de dados (treinamento, validacao e teste)\n",
            "Conjunto de treinamento: [3613, 10768, 1608259]\n",
            "Conjunto de validacao: [518, 1464, 268458]\n",
            "Conjunto de teste: [1251, 3875, 806194]\n"
          ],
          "name": "stdout"
        }
      ]
    },
    {
      "cell_type": "code",
      "metadata": {
        "id": "nG0CaNhs95aP"
      },
      "source": [
        "train_dataloader = DataLoader(\n",
        "    dataset = train_dataset,\n",
        "    batch_size=32, \n",
        "    shuffle=False, \n",
        "    num_workers=2, \n",
        "    pin_memory=True)\n",
        "valid_dataloader = DataLoader(\n",
        "    dataset = valid_dataset, \n",
        "    batch_size=32, \n",
        "    shuffle=False, \n",
        "    num_workers=2, \n",
        "    pin_memory=True)\n",
        "test_dataloader  = DataLoader(\n",
        "    dataset = test_dataset , \n",
        "    batch_size=32, \n",
        "    shuffle=False, \n",
        "    num_workers=2, \n",
        "    pin_memory=True)"
      ],
      "execution_count": null,
      "outputs": []
    },
    {
      "cell_type": "markdown",
      "metadata": {
        "id": "KdwEEqWD95aQ"
      },
      "source": [
        "# Parte 2 - Criando o modelo"
      ]
    },
    {
      "cell_type": "code",
      "metadata": {
        "id": "v91KCrIr95aQ"
      },
      "source": [
        "import time\n",
        "import copy\n",
        "import json\n",
        "\n",
        "def devicefy(lis, device):\n",
        "  return [i.to(device) for i in lis]\n",
        "\n",
        "DUMP_PATH = PRF / \"seg_model_256_50dim_adam\"\n",
        "\n",
        "class LSTM_CRF(nn.Module):\n",
        "    def __init__(self, embedding_dim, num_tags, hidden_dim, \n",
        "                 pretrained_emb, idx2tag, dump_path):\n",
        "        super(LSTM_CRF, self).__init__()\n",
        "        self.embedding_dim = embedding_dim\n",
        "        self.num_tags = num_tags\n",
        "        self.hidden_dim = hidden_dim\n",
        "        self.embed_layer       = nn.Embedding.from_pretrained(\n",
        "            torch.FloatTensor(pretrained_emb.vectors)\n",
        "            # torch.FloatTensor(pretrained_emb)\n",
        "        )\n",
        "\n",
        "        self.idx2tag_dict = idx2tag\n",
        "        self.dump_path = dump_path\n",
        "\n",
        "\n",
        "        # Defining all the nn layers\n",
        "        \n",
        "        # Bias\n",
        "        self.embed_layer.weight[0] = 0\n",
        "        \n",
        "        self.word_LSTM_layer   = nn.LSTM(\n",
        "            embedding_dim, hidden_dim, num_layers=1, batch_first=True\n",
        "        )\n",
        "        self.sent_LSTM_layer   = nn.LSTM(\n",
        "            hidden_dim, hidden_dim // 4, num_layers=1, batch_first=True\n",
        "        )\n",
        "        self.linear_layer      = nn.Linear(hidden_dim//4, num_tags)\n",
        "        self.crf_layer         = CRF(num_tags, batch_first=True)\n",
        "\n",
        "        # Set device for training\n",
        "        self.device = torch.device(\"cuda\" if torch.cuda.is_available() else \"cpu\")\n",
        "\n",
        "    def forward(self, batch_input, batch_tags):\n",
        "        \"\"\"\n",
        "        Method to compute the forward pass of the LSTM_CRF model\n",
        "        Input: (x) shape:        (batch_size) x (sequence_length) x (sentence_length)\n",
        "               (y) shape:        (batch_size) x (sequence_length)\n",
        "        output: log_likelihood  of the probability of the expected sequence of tags\n",
        "        \"\"\"\n",
        "        batch_size = batch_input.shape[0]\n",
        "        sequence_pad_size = batch_input.shape[1]\n",
        "        sentence_pad_size = batch_input.shape[2]\n",
        "        \n",
        "        # Embedding Layer\n",
        "        emb_out = self.embed_layer(batch_input)\n",
        "        # Word level LSTM layer\n",
        "        word_lstm_out, (hn, cn) = self.word_LSTM_layer(\n",
        "            emb_out.view(\n",
        "                batch_size*sequence_pad_size, \n",
        "                sentence_pad_size, \n",
        "                self.embedding_dim\n",
        "            )\n",
        "        )\n",
        "        # Sentence level LSTM layer\n",
        "        sent_lstm_out, (hn, cn) = self.sent_LSTM_layer(\n",
        "            hn.view(\n",
        "                batch_size,\n",
        "                sequence_pad_size,\n",
        "                self.hidden_dim\n",
        "            )\n",
        "        )\n",
        "        # Linear (fully-connected) layer\n",
        "        lin_out = self.linear_layer(\n",
        "            sent_lstm_out.reshape(\n",
        "                batch_size * sequence_pad_size,\n",
        "                self.hidden_dim//4\n",
        "            )\n",
        "        )\n",
        "        # CRF layer\n",
        "        return self.crf_layer(\n",
        "            lin_out.view(\n",
        "                batch_size,\n",
        "                sequence_pad_size,\n",
        "                self.num_tags),\n",
        "            batch_tags\n",
        "        )\n",
        "\n",
        "    def fit(self, epoch, train_loader, eval_loader, **kwargs):\n",
        "        \"\"\"\n",
        "        Method to train the LSTM_CRF model\n",
        "        Input: \n",
        "          (x) shape:\n",
        "            (number of batches) x (batch_size) x (sequence_length) x (sentence_length)\n",
        "          (y) shape:\n",
        "            (number of batches) x (batch_size) x (sequence_length)\n",
        "        \n",
        "        output: validation_loss (validation loss over all epochs)\n",
        "        \"\"\"\n",
        "        learning_rate = kwargs.get('lr', 0.01)\n",
        "        wd = kwargs.get('weight_decay', 1e-4)\n",
        "            \n",
        "        validation_loss = []\n",
        "        min_loss = float('inf')\n",
        "#         optimizer = torch.optim.SGD(self.parameters(), lr=learning_rate, weight_decay=wd)\n",
        "        optimizer = torch.optim.Adam(self.parameters(), lr=learning_rate, weight_decay=wd)\n",
        "        # TODO: mostrar a duração de tempo de cada época ( time.time() )\n",
        "        \n",
        "        best_params = self.state_dict()\n",
        "        for e in range(epoch):\n",
        "            print(\"Epoch:\", e, '...')\n",
        "            # for batch in tqdm(train_loader):\n",
        "            for i, batch in enumerate(train_loader):\n",
        "                x, mask, y = devicefy(batch, self.device)\n",
        "                # Zerar gradiente antes de usar a rede\n",
        "                self.zero_grad()\n",
        "                                                \n",
        "                loss = -self(x, y,)\n",
        "                loss.backward()\n",
        "                optimizer.step()\n",
        "                \n",
        "            new_loss = self.evaluate(eval_loader, opt='loss')\n",
        "            \n",
        "            validation_loss.append(new_loss)\n",
        "            if new_loss < min_loss:\n",
        "              st_dict = self.state_dict()\n",
        "              if str(best_params) == str(st_dict):\n",
        "                raise ValueError(\"UUPS!\")\n",
        "              min_loss = new_loss\n",
        "              best_params = self.state_dict()\n",
        "                \n",
        "        torch.save(best_params , self.dump_path)\n",
        "        return validation_loss\n",
        "    \n",
        "            \n",
        "    def predict(self, batch_input, mask):\n",
        "        \"\"\"\n",
        "        Method to predict segmentation tags\n",
        "        Input: sequence - shape:(batch_size)x(sequence_size)x(sentence_size)\n",
        "        output: Predicted tags - shape: (batch_size)x(sequence_size)\n",
        "        \"\"\"\n",
        "        with torch.no_grad():\n",
        "            batch_size, sequence_pad_size, sentence_pad_size = batch_input.shape\n",
        "\n",
        "            # Embedding Layer\n",
        "            emb_out = self.embed_layer(batch_input)\n",
        "            # Word level LSTM layer\n",
        "            word_lstm_out, (hn, cn) = self.word_LSTM_layer(\n",
        "                emb_out.view(\n",
        "                    batch_size*sequence_pad_size,\n",
        "                    sentence_pad_size,\n",
        "                    self.embedding_dim\n",
        "                )\n",
        "            )\n",
        "            # Sentence level LSTM layer\n",
        "            sent_lstm_out, (hn, cn) = self.sent_LSTM_layer(\n",
        "                hn.view(\n",
        "                    batch_size, \n",
        "                    sequence_pad_size, \n",
        "                    self.hidden_dim\n",
        "                )\n",
        "            )\n",
        "            # Linear (fully-connected) layer\n",
        "            lin_out = self.linear_layer(\n",
        "                sent_lstm_out.reshape(\n",
        "                    batch_size * sequence_pad_size,\n",
        "                    self.hidden_dim // 4\n",
        "                )\n",
        "            )\n",
        "            # CRF layer\n",
        "            return self.crf_layer.decode(\n",
        "                lin_out.view(\n",
        "                    batch_size, sequence_pad_size, self.num_tags\n",
        "                ),\n",
        "                mask=mask\n",
        "            )\n",
        "\n",
        "    def evaluate(self, valid_loader, opt):\n",
        "        \"\"\"\n",
        "        Method to evaluate trained model on unseen data\n",
        "        \"\"\"\n",
        "        print(\"whoami? \", type(self))\n",
        "        if opt == 'loss':\n",
        "            with torch.no_grad():\n",
        "                loss = 0\n",
        "                for batch in valid_loader:\n",
        "                    x, mask, y = devicefy(batch, self.device)                    \n",
        "                    loss -= self(x, y, )\n",
        "                return loss\n",
        "        \n",
        "        elif opt == 'f1':\n",
        "            TP, FP, FN = np.zeros((3, 3), int)\n",
        "            with torch.no_grad():\n",
        "                for batch in tqdm(valid_loader):\n",
        "                    x, mask, y = devicefy(batch, self.device, )\n",
        "\n",
        "                    pred = self.predict(x, mask)\n",
        "                    for i, p_i in enumerate(pred):\n",
        "                        for j, p_ij in enumerate(pred[i]):\n",
        "                            if y[i][j] == -1:\n",
        "                                break\n",
        "                            if p_ij == y[i][j]:\n",
        "                                TP[p_ij] += 1\n",
        "                            else:\n",
        "                                FP[p_ij] += 1\n",
        "                                FN[y[i][j]] += 1\n",
        "\n",
        "            recall = TP/(TP+FN)\n",
        "            precision = TP/(TP+FP)\n",
        "            f1_score = 2*(recall*precision)/(recall+precision)\n",
        "            print(tabulate([\n",
        "                ['Recall', recall[0], recall[1], recall[2]], \n",
        "                ['Precision', precision[0], precision[1], precision[2]], \n",
        "                ['F1 score', f1_score[0], f1_score[1], f1_score[2]]\n",
        "                ], \n",
        "                headers=['', self.idx2tag_dict[0], self.idx2tag_dict[1], self.idx2tag_dict[2]]\n",
        "            ))\n",
        "            return recall, precision, f1_score\n",
        "        \n",
        "        else:\n",
        "            print(\"Chosen opt doesn't exist\")\n",
        "\n"
      ],
      "execution_count": null,
      "outputs": []
    },
    {
      "cell_type": "code",
      "metadata": {
        "id": "5AIkm1jC95aW"
      },
      "source": [
        "model_maffei = LSTM_CRF(\n",
        "    embedding_dim=50,\n",
        "    num_tags=3,\n",
        "    hidden_dim=256,\n",
        "    pretrained_emb=emb, \n",
        "    idx2tag=idx2tag,\n",
        "    dump_path=DUMP_PATH,\n",
        ")\n",
        "\n",
        "\n",
        "model_maffei = model_maffei.to(model_maffei.device)\n",
        "\n",
        "# model_maffei.evaluate = model_jose.evaluate\n",
        "# model = model.to(model.device)"
      ],
      "execution_count": null,
      "outputs": []
    },
    {
      "cell_type": "code",
      "metadata": {
        "colab": {
          "base_uri": "https://localhost:8080/"
        },
        "id": "Cb_yRHMoM-dR",
        "outputId": "7f5a04af-f416-4299-fc6c-ab12d5f6b041"
      },
      "source": [
        "# model_jose.evaluate(test_dataloader, opt='f1')\n",
        "print(\"Test set loss:\", model_maffei.evaluate(test_dataloader, opt='loss'))"
      ],
      "execution_count": null,
      "outputs": [
        {
          "output_type": "stream",
          "text": [
            "whoami?  <class '__main__.LSTM_CRF'>\n",
            "Test set loss: tensor(879064.0625, device='cuda:0')\n"
          ],
          "name": "stdout"
        }
      ]
    },
    {
      "cell_type": "markdown",
      "metadata": {
        "id": "dTRbhSKC95aZ"
      },
      "source": [
        "# Parte 3 - Treinamento"
      ]
    },
    {
      "cell_type": "code",
      "metadata": {
        "id": "MYfLQ1QU95aZ"
      },
      "source": [
        "# print(torch.cuda.memory_allocated())\n",
        "# print(torch.cuda.memory_reserved())"
      ],
      "execution_count": null,
      "outputs": []
    },
    {
      "cell_type": "code",
      "metadata": {
        "colab": {
          "base_uri": "https://localhost:8080/",
          "height": 367
        },
        "id": "IWNjSpDT95aa",
        "outputId": "ddd6be73-75ed-4c33-d87a-41dbdbc3c94e"
      },
      "source": [
        "valid_loss = model_maffei.fit(\n",
        "    epoch=2, \n",
        "    train_loader = train_dataloader, \n",
        "    eval_loader = valid_dataloader, \n",
        "    lr=0.001, \n",
        "    weight_decay=1e-6,\n",
        ")"
      ],
      "execution_count": null,
      "outputs": [
        {
          "output_type": "stream",
          "text": [
            "Epoch: 0 ...\n",
            "whoami?  <class '__main__.LSTM_CRF'>\n"
          ],
          "name": "stdout"
        },
        {
          "output_type": "error",
          "ename": "ValueError",
          "evalue": "ignored",
          "traceback": [
            "\u001b[0;31m---------------------------------------------------------------------------\u001b[0m",
            "\u001b[0;31mValueError\u001b[0m                                Traceback (most recent call last)",
            "\u001b[0;32m<ipython-input-40-43f900b24bb2>\u001b[0m in \u001b[0;36m<module>\u001b[0;34m()\u001b[0m\n\u001b[1;32m      4\u001b[0m     \u001b[0meval_loader\u001b[0m \u001b[0;34m=\u001b[0m \u001b[0mvalid_dataloader\u001b[0m\u001b[0;34m,\u001b[0m\u001b[0;34m\u001b[0m\u001b[0;34m\u001b[0m\u001b[0m\n\u001b[1;32m      5\u001b[0m     \u001b[0mlr\u001b[0m\u001b[0;34m=\u001b[0m\u001b[0;36m0.001\u001b[0m\u001b[0;34m,\u001b[0m\u001b[0;34m\u001b[0m\u001b[0;34m\u001b[0m\u001b[0m\n\u001b[0;32m----> 6\u001b[0;31m     \u001b[0mweight_decay\u001b[0m\u001b[0;34m=\u001b[0m\u001b[0;36m1e-6\u001b[0m\u001b[0;34m,\u001b[0m\u001b[0;34m\u001b[0m\u001b[0;34m\u001b[0m\u001b[0m\n\u001b[0m\u001b[1;32m      7\u001b[0m )\n",
            "\u001b[0;32m<ipython-input-36-d9b784ec1f7e>\u001b[0m in \u001b[0;36mfit\u001b[0;34m(self, epoch, train_loader, eval_loader, **kwargs)\u001b[0m\n\u001b[1;32m    125\u001b[0m               \u001b[0mst_dict\u001b[0m \u001b[0;34m=\u001b[0m \u001b[0mself\u001b[0m\u001b[0;34m.\u001b[0m\u001b[0mstate_dict\u001b[0m\u001b[0;34m(\u001b[0m\u001b[0;34m)\u001b[0m\u001b[0;34m\u001b[0m\u001b[0;34m\u001b[0m\u001b[0m\n\u001b[1;32m    126\u001b[0m               \u001b[0;32mif\u001b[0m \u001b[0mstr\u001b[0m\u001b[0;34m(\u001b[0m\u001b[0mbest_params\u001b[0m\u001b[0;34m)\u001b[0m \u001b[0;34m==\u001b[0m \u001b[0mstr\u001b[0m\u001b[0;34m(\u001b[0m\u001b[0mst_dict\u001b[0m\u001b[0;34m)\u001b[0m\u001b[0;34m:\u001b[0m\u001b[0;34m\u001b[0m\u001b[0;34m\u001b[0m\u001b[0m\n\u001b[0;32m--> 127\u001b[0;31m                 \u001b[0;32mraise\u001b[0m \u001b[0mValueError\u001b[0m\u001b[0;34m(\u001b[0m\u001b[0;34m\"UUPS!\"\u001b[0m\u001b[0;34m)\u001b[0m\u001b[0;34m\u001b[0m\u001b[0;34m\u001b[0m\u001b[0m\n\u001b[0m\u001b[1;32m    128\u001b[0m               \u001b[0mmin_loss\u001b[0m \u001b[0;34m=\u001b[0m \u001b[0mnew_loss\u001b[0m\u001b[0;34m\u001b[0m\u001b[0;34m\u001b[0m\u001b[0m\n\u001b[1;32m    129\u001b[0m               \u001b[0mbest_params\u001b[0m \u001b[0;34m=\u001b[0m \u001b[0mself\u001b[0m\u001b[0;34m.\u001b[0m\u001b[0mstate_dict\u001b[0m\u001b[0;34m(\u001b[0m\u001b[0;34m)\u001b[0m\u001b[0;34m\u001b[0m\u001b[0;34m\u001b[0m\u001b[0m\n",
            "\u001b[0;31mValueError\u001b[0m: UUPS!"
          ]
        }
      ]
    },
    {
      "cell_type": "code",
      "metadata": {
        "colab": {
          "base_uri": "https://localhost:8080/",
          "height": 282
        },
        "id": "rHFPQz9c95ab",
        "outputId": "0d45c3d6-413c-4fab-9122-122d64954afc"
      },
      "source": [
        "import matplotlib.pyplot as plt\n",
        "plt.plot(valid_loss)"
      ],
      "execution_count": null,
      "outputs": [
        {
          "output_type": "execute_result",
          "data": {
            "text/plain": [
              "[<matplotlib.lines.Line2D at 0x7fbe7b3d5850>]"
            ]
          },
          "metadata": {
            "tags": []
          },
          "execution_count": 57
        },
        {
          "output_type": "display_data",
          "data": {
            "image/png": "[encoded data removed]",
            "text/plain": [
              "<Figure size 432x288 with 1 Axes>"
            ]
          },
          "metadata": {
            "tags": [],
            "needs_background": "light"
          }
        }
      ]
    },
    {
      "cell_type": "markdown",
      "metadata": {
        "id": "CKV0ZzVy95ac"
      },
      "source": [
        "# Parte 4 - Avaliacao do modelo no conjunto de teste"
      ]
    },
    {
      "cell_type": "code",
      "metadata": {
        "id": "QtrHgXUJ95ac"
      },
      "source": [
        "# model.load_state_dict(torch.load(DUMP_PATH))"
      ],
      "execution_count": null,
      "outputs": []
    },
    {
      "cell_type": "code",
      "metadata": {
        "scrolled": true,
        "colab": {
          "base_uri": "https://localhost:8080/"
        },
        "id": "bwdMqJnS95ad",
        "outputId": "cc659e82-3d5d-4162-8934-3b87d77ce2af"
      },
      "source": [
        "# model_jose.evaluate(test_dataloader, opt='f1')\n",
        "print(\"Test set loss:\", model_maffei.evaluate(test_dataloader, opt='loss'))"
      ],
      "execution_count": null,
      "outputs": [
        {
          "output_type": "stream",
          "text": [
            "WHOAM I <class '__main__.LSTM_CRF'>\n",
            "Test set loss: tensor(6079.5044, device='cuda:0')\n"
          ],
          "name": "stdout"
        }
      ]
    },
    {
      "cell_type": "markdown",
      "metadata": {
        "id": "hMSfpd_r95ae"
      },
      "source": [
        "# Parte 5 - Salvando o modelo"
      ]
    },
    {
      "cell_type": "code",
      "metadata": {
        "id": "nN5S3X1_95af"
      },
      "source": [
        "# To save trained pytorch model\n",
        "# torch.save(model.state_dict(), \"seg_model_256\")\n",
        "\n",
        "# # To load trained pytorch model\n",
        "# loaded_model = LSTM_CRF(embedding_dim=100, word2idx_dict=dic, num_tags=3, hidden_dim=128)\n",
        "# new_model.load_state_dict(torch.load(\"seg_model\"))"
      ],
      "execution_count": null,
      "outputs": []
    }
  ]
}