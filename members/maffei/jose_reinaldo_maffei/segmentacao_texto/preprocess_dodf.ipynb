{
 "cells": [
  {
   "cell_type": "markdown",
   "metadata": {},
   "source": [
    "# Preprocessamento do DODF para segmentacao \n",
    "\n",
    "Separa sentencas e as rotula no padrao IOB (B=sentenca de inicio do ato, I=sentenca continuacao do ato, O=sentenca nao faz parte do ato)"
   ]
  },
  {
   "cell_type": "code",
   "execution_count": 1,
   "metadata": {},
   "outputs": [],
   "source": [
    "import json\n",
    "import pandas as pd\n",
    "import glob\n",
    "import re"
   ]
  },
  {
   "cell_type": "markdown",
   "metadata": {},
   "source": [
    "## Parte 1 - Identificando os DODFs com anotacao de aposentadoria"
   ]
  },
  {
   "cell_type": "code",
   "execution_count": 2,
   "metadata": {},
   "outputs": [
    {
     "data": {
      "text/plain": [
       "Index(['DATA_DODF', 'NUM_DODF', 'ATO', 'EMPRESA_ATO', 'COD_MATRICULA_ATO',\n",
       "       'NOME_ATO', 'CARGO', 'CLASSE', 'PADRAO', 'QUADRO', 'PROCESSO',\n",
       "       'FUND_LEGAL', 'text', 'labels'],\n",
       "      dtype='object')"
      ]
     },
     "execution_count": 2,
     "metadata": {},
     "output_type": "execute_result"
    }
   ],
   "source": [
    "df = pd.read_csv(\"labeled.csv\")\n",
    "df.columns"
   ]
  },
  {
   "cell_type": "code",
   "execution_count": 3,
   "metadata": {},
   "outputs": [],
   "source": [
    "month = [\"01_Janeiro/\", \"02_Fevereiro/\", \"03_Março/\", \"04_Abril/\", \"05_Maio/\", \"06_Junho/\", \"07_Julho/\", \"08_Agosto/\", \"09_Setembro/\", \"10_Outubro/\", \"11_Novembro/\", \"12_Dezembro/\"]\n",
    "dodfs = []\n",
    "dic = {}\n",
    "\n",
    "for i in range(len(df)):\n",
    "    num_dodf = int(df.loc[i, 'NUM_DODF'])\n",
    "    data_dodf= df.loc[i, 'DATA_DODF']\n",
    "    if df.loc[i, 'text']:\n",
    "        if (num_dodf, data_dodf) not in dic:\n",
    "            dic[(num_dodf, data_dodf)] = -1\n",
    "            dia, mes, ano = data_dodf.split('/')\n",
    "            path = \"../dodfs/results/json/\" + ano + \"/\" + month[int(mes)-1]\n",
    "            for i in glob.glob(path+'*.json'):\n",
    "                aux = i.split('/')[-1]\n",
    "                aux = aux.split()\n",
    "                if int(aux[1])==num_dodf and aux[2] == data_dodf.replace('/', '-') and not re.search(\"SUPLEMENTO\", ' '.join(aux)):\n",
    "                    dic[(num_dodf, data_dodf)] = i\n",
    "                    dodfs.append(i)"
   ]
  },
  {
   "cell_type": "code",
   "execution_count": 4,
   "metadata": {},
   "outputs": [
    {
     "data": {
      "text/plain": [
       "(226, 227)"
      ]
     },
     "execution_count": 4,
     "metadata": {},
     "output_type": "execute_result"
    }
   ],
   "source": [
    "len(dodfs), len(dic)"
   ]
  },
  {
   "cell_type": "code",
   "execution_count": 5,
   "metadata": {},
   "outputs": [
    {
     "name": "stdout",
     "output_type": "stream",
     "text": [
      "Missing DODF: (76, '20/04/2018')\n"
     ]
    }
   ],
   "source": [
    "for i in dic:\n",
    "    if dic[i] not in dodfs:\n",
    "        print(\"Missing DODF:\", i)"
   ]
  },
  {
   "cell_type": "code",
   "execution_count": 6,
   "metadata": {},
   "outputs": [],
   "source": [
    "dodfs.append(\"../dodfs/results/json/2018/04_Abril/DODF 076 20-04-2018 SUPLEMENTO.json\")"
   ]
  },
  {
   "cell_type": "markdown",
   "metadata": {},
   "source": [
    "## Parte 2 - Identificando trechos de texto contendo ato de aposentadoria nos blocos do DODF"
   ]
  },
  {
   "cell_type": "code",
   "execution_count": 7,
   "metadata": {},
   "outputs": [],
   "source": [
    "path = \"../dodfs/results/json/2018/04_Abril/DODF 019 04-04-2018 EDICAO EXTRA.json\"\n",
    "f = open(path)\n",
    "data = json.load(f)"
   ]
  },
  {
   "cell_type": "code",
   "execution_count": 8,
   "metadata": {},
   "outputs": [],
   "source": [
    "full_base = []\n",
    "not_found = []\n",
    "cnt = 0\n",
    "temp = -1\n",
    "for dodf in dodfs:\n",
    "    f = open(dodf)\n",
    "    data = json.load(f)\n",
    "    aux = df.loc[(df['NUM_DODF'] == int(dodf.split('/')[-1].split()[1])) & (df['DATA_DODF'] == dodf.split('/')[-1].split()[2].replace('-', '/'))]\n",
    "    for j in range(len(data)):\n",
    "        data[j].append([])\n",
    "        data[j][4] = data[j][4].replace('\\n', ' ')\n",
    "    for i in aux.index:\n",
    "        cnt += 1\n",
    "        if not df.loc[i, 'text'] or pd.isna(df.loc[i, 'text']):\n",
    "            continue\n",
    "        find = False\n",
    "        for j in range(len(data)):\n",
    "            entity = re.search(df.loc[i, 'text'].replace('(', '\\(').replace(')', '\\)'), data[j][4])#.replace('\\n', ' '))\n",
    "            if entity:\n",
    "                temp = entity\n",
    "                find = True\n",
    "                if entity.span() not in data[j][5]:\n",
    "                    data[j][5].append(entity.span())\n",
    "        if not find:\n",
    "            not_found.append((dodf, df.loc[i, 'text'], i))\n",
    "    full_base.append(data)"
   ]
  },
  {
   "cell_type": "code",
   "execution_count": 9,
   "metadata": {
    "scrolled": false
   },
   "outputs": [
    {
     "name": "stdout",
     "output_type": "stream",
     "text": [
      "Total de anotacoes de atos:5516\n",
      "Atos nao identificados:132\n"
     ]
    }
   ],
   "source": [
    "print(f\"Total de anotacoes de atos:{cnt}\\nAtos nao identificados:{len(not_found)}\")"
   ]
  },
  {
   "cell_type": "code",
   "execution_count": 10,
   "metadata": {
    "scrolled": true
   },
   "outputs": [
    {
     "name": "stdout",
     "output_type": "stream",
     "text": [
      "Identificando trechos de atos com sobreposicao\n",
      "ERRO em DODF:71, Bloco:286\n",
      "ERRO em DODF:88, Bloco:1770\n",
      "ERRO em DODF:133, Bloco:427\n",
      "ERRO em DODF:165, Bloco:469\n",
      "ERRO em DODF:165, Bloco:470\n",
      "ERRO em DODF:165, Bloco:484\n"
     ]
    }
   ],
   "source": [
    "print(\"Identificando trechos de atos com sobreposicao\")\n",
    "for i in range(len(full_base)):\n",
    "    for j in range(len(full_base[i])):\n",
    "        full_base[i][j][5].sort()\n",
    "        for k in range(1, len(full_base[i][j][5])):\n",
    "            if full_base[i][j][5][k-1][1] >= full_base[i][j][5][k][0]:\n",
    "                print(f\"ERRO em DODF:{i}, Bloco:{j}\")\n",
    "                break"
   ]
  },
  {
   "cell_type": "markdown",
   "metadata": {},
   "source": [
    "### Correcao dos atos que se sobrepoem"
   ]
  },
  {
   "cell_type": "code",
   "execution_count": 11,
   "metadata": {},
   "outputs": [],
   "source": [
    "# Fix DODF 71, bloco 286\n",
    "full_base[71][286][5][1] = (778, 1285)\n",
    "\n",
    "# Fix DODF 88, bloco 1770\n",
    "full_base[88][1770][5][8] = (3378, 3724)\n",
    "\n",
    "# Fix DODF:133, Bloco:427\n",
    "full_base[133][427][5][1] = (664, 1272)\n",
    "\n",
    "# Fix DODF:165, Bloco:469\n",
    "full_base[165][469][5] = [(181, 799), (801, 1319), (1321, 1847)]\n",
    "\n",
    "# Fix DODF:165, Bloco:470\n",
    "full_base[165][470][5] = [(119, 623), (625, 1001), (1003, 1328), (1330, 1823), (1825, 2313), (2315, 2820), (2822, 3322), (3324, 3819), (3821, 4175), (4177, 4675)]\n",
    "\n",
    "# Fix DODF:165, Bloco:484\n",
    "full_base[165][484][5] = [(224, 822), (823, 1341), (1343, 1869), (1871, 2364), (2366, 2872), (2873, 3243), (3244, 3569), (3571, 4066), (4067, 4555), (5063, 5563), (5565, 6063), (6064, 6418), (6420, 6918)]\n",
    "\n"
   ]
  },
  {
   "cell_type": "code",
   "execution_count": 12,
   "metadata": {
    "scrolled": true
   },
   "outputs": [
    {
     "name": "stdout",
     "output_type": "stream",
     "text": [
      "Identificando trechos de atos com sobreposicao\n"
     ]
    }
   ],
   "source": [
    "print(\"Identificando trechos de atos com sobreposicao\")\n",
    "for i in range(len(full_base)):\n",
    "    for j in range(len(full_base[i])):\n",
    "        full_base[i][j][5].sort()\n",
    "        for k in range(1, len(full_base[i][j][5])):\n",
    "            if full_base[i][j][5][k-1][1] >= full_base[i][j][5][k][0]:\n",
    "                print(f\"ERRO em DODF:{i}, Bloco:{j}\")\n",
    "                break"
   ]
  },
  {
   "cell_type": "markdown",
   "metadata": {},
   "source": [
    "## Parte 3 - Rotulando dados no padrao MUC"
   ]
  },
  {
   "cell_type": "code",
   "execution_count": 13,
   "metadata": {},
   "outputs": [],
   "source": [
    "# # Fix - full_base[137][316][5] tinha um trecho de texto que cobria dois atos, corrigido para nao dar overlap\n",
    "# # no segundo ato de aposentadoria\n",
    "# for i in range(len(full_base[137][316][5])):\n",
    "#     if full_base[137][316][5][i] == (5637, 6496):\n",
    "#         print(\"trocou\")\n",
    "#         full_base[137][316][5][i] = (6147, 6496)"
   ]
  },
  {
   "cell_type": "code",
   "execution_count": 14,
   "metadata": {},
   "outputs": [],
   "source": [
    "def MUCify_block(block, i, j):\n",
    "    MUC_data = []\n",
    "    texto = block[4].replace('\\n', ' ')\n",
    "    if block[5]:\n",
    "        block[5].sort(reverse=True)\n",
    "        for ato in block[5]:\n",
    "            if re.search(\"</*aposentadoria>\", texto[ato[0]:ato[1]+1]):\n",
    "                print(f\"DODF:{i}, bloco:{j}\")\n",
    "                print(\"Sobreposicao de atos\")\n",
    "                break\n",
    "            texto = texto[:ato[0]] + \" <aposentadoria> \" + texto[ato[0]:ato[1]+1] + \" </aposentadoria> \" + texto[ato[1]+1:]\n",
    "    return texto\n",
    "\n",
    "# aux = full_base[0][364]\n",
    "# aux_r = MUCify_sentences(aux)"
   ]
  },
  {
   "cell_type": "code",
   "execution_count": 15,
   "metadata": {
    "scrolled": true
   },
   "outputs": [],
   "source": [
    "muc_base = []\n",
    "# Para cada DODF na base\n",
    "for i in range(len(full_base)):\n",
    "    # Para cada bloco no DODF\n",
    "    for j in range(len(full_base[i])):\n",
    "#         print(f\"DODF:{i}, bloco:{j}\")\n",
    "        muc_base.append(MUCify_block(full_base[i][j], i, j))"
   ]
  },
  {
   "cell_type": "markdown",
   "metadata": {},
   "source": [
    "## Parte 4 - Convertendo do padrao MUC para IOB"
   ]
  },
  {
   "cell_type": "code",
   "execution_count": 16,
   "metadata": {},
   "outputs": [],
   "source": [
    "def split_sentences(sent_to_split, is_aposentadoria):\n",
    "    labels = []\n",
    "    text = sent_to_split.split('.')\n",
    "    if is_aposentadoria:\n",
    "        labels = ['I' for _ in range(len(text))]\n",
    "        labels[0] = 'B'\n",
    "    else:\n",
    "        labels = ['O' for _ in range(len(text))]\n",
    "    return text, labels\n",
    "\n",
    "def MUCtoIOB_block(block):\n",
    "    block_sentences = []\n",
    "    block_labels = []\n",
    "    texto = block.split()\n",
    "    i = 0\n",
    "    sent = \"\"\n",
    "    while i < len(texto):\n",
    "        if texto[i] == \"<aposentadoria>\":\n",
    "            sentences, labels = split_sentences(sent, is_aposentadoria=False)\n",
    "            sent = \"\"\n",
    "            for s, l in zip(sentences, labels):\n",
    "                if s == '':\n",
    "                    continue\n",
    "                block_sentences.append(s)\n",
    "                block_labels.append(l)\n",
    "        elif texto[i] == \"</aposentadoria>\":\n",
    "            sentences, labels = split_sentences(sent, is_aposentadoria=True)\n",
    "            sent = \"\"\n",
    "            for s, l in zip(sentences, labels):\n",
    "                if s == '':\n",
    "                    continue\n",
    "                block_sentences.append(s)\n",
    "                block_labels.append(l)\n",
    "        else:\n",
    "            sent += ' ' + texto[i]\n",
    "        i += 1\n",
    "    if sent:\n",
    "        sentences, labels = split_sentences(sent, is_aposentadoria=False)\n",
    "        sent = \"\"\n",
    "        for s, l in zip(sentences, labels):\n",
    "            if s == '':\n",
    "                continue\n",
    "            block_sentences.append(s)\n",
    "            block_labels.append(l)\n",
    "    return block_sentences, block_labels"
   ]
  },
  {
   "cell_type": "code",
   "execution_count": 17,
   "metadata": {},
   "outputs": [],
   "source": [
    "iob_sentence = []\n",
    "iob_label = []\n",
    "for block in muc_base:\n",
    "    aux_sent, aux_label = MUCtoIOB_block(block)\n",
    "    iob_sentence.append(aux_sent)\n",
    "    iob_label.append(aux_label)"
   ]
  },
  {
   "cell_type": "markdown",
   "metadata": {},
   "source": [
    "## Parte 5 - Salvando os dados no formato CoNLL"
   ]
  },
  {
   "cell_type": "code",
   "execution_count": 18,
   "metadata": {},
   "outputs": [],
   "source": [
    "f = open('seg_data.txt', 'w')\n",
    "for sent_seq, label_seq in zip(iob_sentence, iob_label):\n",
    "    for sent, label in zip(sent_seq, label_seq):\n",
    "        f.write(f\"{label} {sent}\\n\")\n",
    "    f.write(\"\\n\")"
   ]
  }
 ],
 "metadata": {
  "kernelspec": {
   "display_name": "Python 3",
   "language": "python",
   "name": "python3"
  },
  "language_info": {
   "codemirror_mode": {
    "name": "ipython",
    "version": 3
   },
   "file_extension": ".py",
   "mimetype": "text/x-python",
   "name": "python",
   "nbconvert_exporter": "python",
   "pygments_lexer": "ipython3",
   "version": "3.8.5"
  }
 },
 "nbformat": 4,
 "nbformat_minor": 4
}
