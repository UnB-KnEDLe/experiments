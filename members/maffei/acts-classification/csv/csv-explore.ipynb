{
 "cells": [
  {
   "cell_type": "code",
   "execution_count": null,
   "metadata": {},
   "outputs": [],
   "source": [
    "import pandas as pd\n",
    "import os\n",
    "import re\n",
    "import numpy as np\n",
    "from collections import Counter\n",
    "import sys\n",
    "import gc\n",
    "sys.path.append('../')\n",
    "import helper"
   ]
  },
  {
   "cell_type": "code",
   "execution_count": null,
   "metadata": {},
   "outputs": [],
   "source": [
    "csv_lis = []\n",
    "for folder in os.listdir():\n",
    "    if os.path.isdir(folder):\n",
    "        for csv in os.listdir(folder):\n",
    "            if (os.path.isfile(folder+'/'+csv)\n",
    "                and csv.endswith('.csv')):\n",
    "                csv_lis.append(folder+'/'+csv)"
   ]
  },
  {
   "cell_type": "code",
   "execution_count": null,
   "metadata": {},
   "outputs": [],
   "source": [
    "ctr = Counter([i.split('/')[0] for i in csv_lis])\n",
    "\n",
    "df_dict = {}\n",
    "for k in ctr:\n",
    "    df_dict[k] = []\n",
    "\n",
    "for csv in csv_lis:\n",
    "    prf = csv.split('/')[0]\n",
    "    df_dict[prf].append(pd.read_csv(csv))"
   ]
  },
  {
   "cell_type": "code",
   "execution_count": null,
   "metadata": {},
   "outputs": [],
   "source": [
    "df_text = {}\n",
    "for k in df_dict:\n",
    "    df_text[k] = []\n",
    "\n",
    "for k, v in df_dict.items():\n",
    "    for df in v:\n",
    "        for t in df.texto:\n",
    "            df_text[k].append(t)\n",
    "\n",
    "df_filtered_text = {}\n",
    "for k in df_dict:\n",
    "    df_filtered_text[k] = []\n",
    "\n",
    "for k, v in df_dict.items():\n",
    "    for df in v:\n",
    "        for t in df.texto:\n",
    "            if len(t) < 1000:         \n",
    "                df_filtered_text[k].append(t)\n",
    "\n",
    "\n",
    "df_big_text = {}\n",
    "for k in df_dict:\n",
    "    df_big_text[k] = []\n",
    "\n",
    "for k, v in df_dict.items():\n",
    "    for df in v:\n",
    "        for t in df.texto:\n",
    "            if len(t) > 1000:         \n",
    "                df_big_text[k].append(t)\n",
    "\n"
   ]
  },
  {
   "cell_type": "code",
   "execution_count": null,
   "metadata": {},
   "outputs": [],
   "source": [
    "_ = [(len(df_text[k]), k) for k in df_text]\n",
    "__ = [(len(df_filtered_text[k]), k) for k in df_filtered_text]\n",
    "___ = [(len(df_big_text[k]), k) for k in df_big_text]\n",
    "print('WHOLE TEXT:')\n",
    "for sz, key in sorted(_, reverse=True):\n",
    "    print(f'\\t{sz} samples of {key}')\n",
    "\n",
    "print(\"LESS THAN 1000 text:\")\n",
    "for sz, key in sorted(__, reverse=True):\n",
    "    print(f'\\t{sz} samples of {key}')\n",
    "print(\"GREATER THAN 1000 text:\")\n",
    "for sz, key in sorted(___, reverse=True):\n",
    "    print(f'\\t{sz} samples of {key}')\n",
    "\n",
    "del _\n",
    "gc.collect()"
   ]
  },
  {
   "cell_type": "code",
   "execution_count": null,
   "metadata": {},
   "outputs": [],
   "source": [
    "for i in df_big_text['SemEfeitoAposentadoria']:\n",
    "    print(i, end=3*'\\n')\n",
    "    break"
   ]
  },
  {
   "cell_type": "code",
   "execution_count": null,
   "metadata": {},
   "outputs": [],
   "source": [
    "for i in df_filtered_text['SemEfeitoAposentadoria']:\n",
    "    print(i, end=3*'\\n\\n\\n')\n"
   ]
  },
  {
   "cell_type": "markdown",
   "metadata": {},
   "source": [
    "## Portanto realizar-se-á experimentos tendo em vista \"Substituicao\""
   ]
  },
  {
   "cell_type": "code",
   "execution_count": null,
   "metadata": {},
   "outputs": [],
   "source": [
    "s = df_text['Substituicao'][0]\n",
    "print(s)\n",
    "helper.sentencize_dodf(s)"
   ]
  },
  {
   "cell_type": "code",
   "execution_count": null,
   "metadata": {},
   "outputs": [],
   "source": [
    "for sb in df_text['Substituicao']:\n",
    "    print(sb, end='\\n\\n\\n')"
   ]
  },
  {
   "cell_type": "code",
   "execution_count": null,
   "metadata": {
    "scrolled": true
   },
   "outputs": [],
   "source": [
    "for sb in df_text['SemEfeitoAposentadoria']:\n",
    "    print(sb, end='\\n\\n\\n')"
   ]
  }
 ],
 "metadata": {
  "kernelspec": {
   "display_name": "Python 3",
   "language": "python",
   "name": "python3"
  },
  "language_info": {
   "codemirror_mode": {
    "name": "ipython",
    "version": 3
   },
   "file_extension": ".py",
   "mimetype": "text/x-python",
   "name": "python",
   "nbconvert_exporter": "python",
   "pygments_lexer": "ipython3",
   "version": "3.8.1"
  }
 },
 "nbformat": 4,
 "nbformat_minor": 4
}
