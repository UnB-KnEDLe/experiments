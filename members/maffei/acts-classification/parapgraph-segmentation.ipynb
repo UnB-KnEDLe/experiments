{
 "cells": [
  {
   "cell_type": "code",
   "execution_count": 1,
   "metadata": {},
   "outputs": [],
   "source": [
    "from collections import Counter\n",
    "import gc\n",
    "import numpy as np\n",
    "from typing import List, Dict, Iterable\n",
    "from itertools import chain\n",
    "\n",
    "import fitz\n",
    "from fitz.utils import getColor\n",
    "\n",
    "COLORS = fitz.utils.getColorList()\n",
    "NOTWHITE = [i for i in COLORS if 'WHITE' not in i]\n",
    "np.random.shuffle(NOTWHITE)\n",
    "\n",
    "FORBIDDEN = [\n",
    "    'Este documento pode ser',\n",
    "    'Documento assinado digita',\n",
    "    'Infraestrutura de Chaves',\n",
    "    'PÁG.',\n",
    "    'SEÇÃO',\n",
    "    'pelo código',\n",
    "]"
   ]
  },
  {
   "cell_type": "code",
   "execution_count": 2,
   "metadata": {},
   "outputs": [],
   "source": [
    "def gpk(lis_dic, key):\n",
    "    \"\"\"Group iterable of dict by specified `key`.\n",
    "    \n",
    "    Args:\n",
    "        lis_dic: Iterable[Dict]\n",
    "        key: whatever hashble value to be used as the key\n",
    "    Returns:\n",
    "        \n",
    "    \"\"\"\n",
    "    gp = {}\n",
    "    lis_key = []\n",
    "    for d in lis_dic:\n",
    "        gp[d[key]] = []\n",
    "    for d in lis_dic:\n",
    "        gp[d[key]].append(d)\n",
    "    return gp\n",
    "\n",
    "\n",
    "def get_lines(doc):\n",
    "    _, _, wid, hei = doc[0].MediaBox\n",
    "    lines = []\n",
    "    for pnum in range(doc.pageCount):\n",
    "        d = doc[pnum].getTextPage().extractDICT()\n",
    "        for block in d['blocks']:\n",
    "            for line in block['lines']:\n",
    "                lines.append(\n",
    "                    (*line['bbox'],\n",
    "                     '\\n'.join([sp['text'] for sp in line['spans']]),\n",
    "                    2*pnum + (1 if line['bbox'][0] > (wid/2) else 0)\n",
    "                    ))\n",
    "    return lines\n",
    "\n",
    "\n",
    "def get_spans_lines(doc, glue_horizon = False):\n",
    "    _, _, wid, hei = doc[0].MediaBox\n",
    "    spans = []\n",
    "    lines = []\n",
    "    for pnum in range(doc.pageCount):\n",
    "        d = doc[pnum].getTextPage().extractDICT()\n",
    "        for block in d['blocks']:\n",
    "            for line in block['lines']:\n",
    "                lines.append(\n",
    "                    (*line['bbox'],\n",
    "                     '\\n'.join([sp['text'] for sp in line['spans'] if all([not sp['text'].startswith(i) for i in FORBIDDEN])]),\n",
    "                    2*pnum + (1 if line['bbox'][0] > (wid/2) else 0)\n",
    "                    ))\n",
    "                for span in line['spans']:\n",
    "                    t = span['text']\n",
    "                    if len(t) > 2 and '....' not in t\\\n",
    "                        and all([not t.startswith(i) for i in FORBIDDEN]):\n",
    "                        span['page'] = 2 * pnum + (\n",
    "                            1 if span['bbox'][0] > (wid/2) else 0\n",
    "                        )\n",
    "                        if glue_horizon and spans:\n",
    "                            if int(span['bbox'][1]) == int(spans[-1]['bbox'][1]):\n",
    "                                spans[-1]['text'] += span['text']\n",
    "                                x0, y0, _, _ = spans[-1]['bbox']\n",
    "                                _, _, x1, y1 = span['bbox']\n",
    "                                \n",
    "                                spans[-1]['bbox'] = (x0, y0, x1, y1)\n",
    "                            else:\n",
    "                                spans.append(span)\n",
    "                        else:\n",
    "                            spans.append(span)       \n",
    "    return spans, lines\n",
    "\n",
    "def set_dic_par(seq):\n",
    "    lis = []\n",
    "    buf = []\n",
    "    pcounter = 0\n",
    "    for sp in sorted(seq, key=lambda x:(x['page'], x['bbox'][1])):        \n",
    "        if not buf:\n",
    "            sp['par'] = pcounter\n",
    "            f = sp\n",
    "            fbox = sp['bbox']\n",
    "            buf.append(f)\n",
    "        else:\n",
    "            bbox = sp['bbox']\n",
    "            if int(fbox[0]) == int(bbox[0]) \\\n",
    "                and int(fbox[2]) >= int(bbox[2]):\n",
    "                sp['par'] = pcounter\n",
    "                buf.append(sp)\n",
    "            else:\n",
    "                pcounter += 1\n",
    "                lis.extend(buf)\n",
    "                \n",
    "                sp['par'] = pcounter\n",
    "                f = sp\n",
    "                fbox = sp['bbox']            \n",
    "                buf = [sp]\n",
    "\n",
    "    lis.extend(buf)\n",
    "    return lis"
   ]
  },
  {
   "cell_type": "code",
   "execution_count": 3,
   "metadata": {
    "scrolled": true
   },
   "outputs": [
    {
     "name": "stdout",
     "output_type": "stream",
     "text": [
      "CPU times: user 56 ms, sys: 311 µs, total: 56.4 ms\n",
      "Wall time: 62.8 ms\n"
     ]
    },
    {
     "data": {
      "text/plain": [
       "20"
      ]
     },
     "execution_count": 3,
     "metadata": {},
     "output_type": "execute_result"
    }
   ],
   "source": [
    "%%time\n",
    "fpath = 'pdf/02-04-2019_canvas.pdf'\n",
    "fpath = 'pdf/2_jan_2019.pdf'\n",
    "fpath = 'pdf/2020_04_30.pdf'\n",
    "doc = fitz.open(fpath)\n",
    "gc.collect()"
   ]
  },
  {
   "cell_type": "code",
   "execution_count": 4,
   "metadata": {
    "scrolled": false
   },
   "outputs": [],
   "source": [
    "spans, lines = get_spans_lines(doc, glue_horizon=True)\n",
    "spans_sorted = sorted(spans, key=lambda x:(x['page'], x['bbox'][1]))\n",
    "fs = Counter(map(lambda x: x['size'], spans_sorted))"
   ]
  },
  {
   "cell_type": "code",
   "execution_count": 5,
   "metadata": {},
   "outputs": [],
   "source": [
    "# for idx, (_, lis) in enumerate(gpk(spans_sorted, 'size').items()):\n",
    "#     color = getColor(NOTWHITE[idx])\n",
    "#     for sp in lis:\n",
    "#         page = doc[sp['page']//2]\n",
    "#         page.drawRect( sp['bbox'], color=color, width=1)\n",
    "# doc.save('pdf/size.pdf')\n",
    "par_lis = set_dic_par(spans_sorted)\n",
    "doc = fitz.open(fpath)\n",
    "for idx, (key, l) in enumerate( gpk( par_lis, 'par').items() ):\n",
    "    color = getColor(NOTWHITE[idx % len(NOTWHITE)])\n",
    "    for sp in l:\n",
    "        page = doc[sp['page']//2]\n",
    "        page.drawRect( sp['bbox'], color=color, width=1)\n",
    "doc.save('pdf/par_spans.pdf')"
   ]
  },
  {
   "cell_type": "code",
   "execution_count": 6,
   "metadata": {},
   "outputs": [],
   "source": [
    "lines_dict = []\n",
    "lines_sorted = sorted(lines, key=lambda x: (x[-1], x[1]))"
   ]
  },
  {
   "cell_type": "code",
   "execution_count": 7,
   "metadata": {},
   "outputs": [],
   "source": [
    "doc = fitz.open(fpath)\n",
    "spans, lines = get_spans_lines(doc)\n",
    "for li in lines:\n",
    "    d = {}\n",
    "    if li[4]:\n",
    "        d['bbox'] = li[:-2]\n",
    "        d['text'] = li[4]\n",
    "        d['page'] = li[-1]\n",
    "        lines_dict.append(d)\n",
    "\n",
    "par_lis = set_dic_par(lines_dict)\n",
    "for idx, (key, l) in enumerate( gpk( par_lis, 'par').items() ):\n",
    "    color = getColor(NOTWHITE[idx % len(NOTWHITE)])\n",
    "    for sp in l:\n",
    "        page = doc[sp['page']//2]\n",
    "        page.drawRect( sp['bbox'], color=color, width=1)\n",
    "\n",
    "doc.save('pdf/par_lines.pdf')"
   ]
  }
 ],
 "metadata": {
  "kernelspec": {
   "display_name": "Python 3",
   "language": "python",
   "name": "python3"
  },
  "language_info": {
   "codemirror_mode": {
    "name": "ipython",
    "version": 3
   },
   "file_extension": ".py",
   "mimetype": "text/x-python",
   "name": "python",
   "nbconvert_exporter": "python",
   "pygments_lexer": "ipython3",
   "version": "3.8.1"
  }
 },
 "nbformat": 4,
 "nbformat_minor": 4
}
