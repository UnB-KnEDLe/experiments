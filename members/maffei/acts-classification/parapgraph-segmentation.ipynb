{
 "cells": [
  {
   "cell_type": "code",
   "execution_count": 1,
   "metadata": {},
   "outputs": [],
   "source": [
    "from collections import Counter\n",
    "import gc\n",
    "import numpy as np\n",
    "from typing import List, Dict, Iterable\n",
    "from itertools import chain\n",
    "\n",
    "import fitz\n",
    "from fitz.utils import getColor\n",
    "from par_seg import get_spans_lines, gpk\n",
    "from par_seg import set_dic_par, sort_byreading\n",
    "from par_seg import get_par_text\n",
    "\n",
    "COLORS = fitz.utils.getColorList()\n",
    "NOTWHITE = [i for i in COLORS if 'WHITE' not in i]\n",
    "np.random.shuffle(NOTWHITE)\n",
    "\n",
    "FORBIDDEN = [\n",
    "    'Este documento pode ser',\n",
    "    'Documento assinado digita',\n",
    "    'Infraestrutura de Chaves',\n",
    "    'PÁG.',\n",
    "    'SEÇÃO',\n",
    "    'pelo código',\n",
    "]"
   ]
  },
  {
   "cell_type": "code",
   "execution_count": 2,
   "metadata": {
    "scrolled": true
   },
   "outputs": [
    {
     "name": "stdout",
     "output_type": "stream",
     "text": [
      "CPU times: user 24.1 ms, sys: 0 ns, total: 24.1 ms\n",
      "Wall time: 24 ms\n"
     ]
    },
    {
     "data": {
      "text/plain": [
       "20"
      ]
     },
     "execution_count": 2,
     "metadata": {},
     "output_type": "execute_result"
    }
   ],
   "source": [
    "%%time\n",
    "fpath = 'pdf/2020_04_30.pdf'\n",
    "doc = fitz.open(fpath)\n",
    "gc.collect()"
   ]
  },
  {
   "cell_type": "code",
   "execution_count": 3,
   "metadata": {
    "scrolled": false
   },
   "outputs": [],
   "source": [
    "spans, lines = get_spans_lines(doc, glue_horizon=True)\n",
    "\n",
    "spans_sorted = sort_byreading(spans)\n",
    "lines_sorted = sort_byreading(lines)"
   ]
  },
  {
   "cell_type": "code",
   "execution_count": 4,
   "metadata": {},
   "outputs": [
    {
     "name": "stdout",
     "output_type": "stream",
     "text": [
      "355\n"
     ]
    }
   ],
   "source": [
    "# GOING TO FILTER THROUGH SOME HEURISTICS!\n",
    "par_lis = set_dic_par(spans_sorted)\n",
    "acc = 0\n",
    "# doc = fitz.open(fpath)\n",
    "valid_texts = []\n",
    "for idx, (key, l) in enumerate( gpk( par_lis, 'par').items() ):\n",
    "    color = getColor(NOTWHITE[idx % len(NOTWHITE)])\n",
    "    whole_tex = '\\n'.join([sp['text'] for sp in l])\n",
    "    if '\\n' not in whole_tex or len(whole_tex) < 40:\n",
    "        continue\n",
    "    valid_texts.append(whole_tex)\n",
    "    acc += 1\n",
    "    for sp in l:\n",
    "        page = doc[sp['page']//2]  # voltando ao valor original\n",
    "        page.drawRect( sp['bbox'], color=color, width=1)\n",
    "doc.save('pdf/par_spans_filtered.pdf')\n",
    "print(acc)"
   ]
  },
  {
   "cell_type": "code",
   "execution_count": 5,
   "metadata": {},
   "outputs": [],
   "source": [
    "ps=get_par_text(doc)\n",
    "assert valid_texts == ps"
   ]
  },
  {
   "cell_type": "code",
   "execution_count": 6,
   "metadata": {},
   "outputs": [],
   "source": [
    "# # doc = fitz.open(fpath)\n",
    "# par_lis = set_dic_par(lines)\n",
    "# for idx, (key, l) in enumerate( gpk( par_lis, 'par').items() ):\n",
    "#     color = getColor(NOTWHITE[idx % len(NOTWHITE)])\n",
    "#     for sp in l:\n",
    "#         page = doc[sp['page']//2]\n",
    "#         page.drawRect( sp['bbox'], color=color, width=1)\n",
    "# doc.save('pdf/par_lines2.pdf')\n",
    "\n",
    "# par_lis = set_dic_par(spans_sorted)\n",
    "# for idx, (key, l) in enumerate( gpk( par_lis, 'par').items() ):\n",
    "#     color = getColor(NOTWHITE[idx % len(NOTWHITE)])\n",
    "#     for sp in l:\n",
    "#         page = doc[sp['page']//2]  # voltando ao valor original\n",
    "#         page.drawRect( sp['bbox'], color=color, width=1)\n",
    "# doc.save('pdf/par_spans2.pdf')"
   ]
  }
 ],
 "metadata": {
  "kernelspec": {
   "display_name": "Python 3",
   "language": "python",
   "name": "python3"
  },
  "language_info": {
   "codemirror_mode": {
    "name": "ipython",
    "version": 3
   },
   "file_extension": ".py",
   "mimetype": "text/x-python",
   "name": "python",
   "nbconvert_exporter": "python",
   "pygments_lexer": "ipython3",
   "version": "3.8.1"
  }
 },
 "nbformat": 4,
 "nbformat_minor": 4
}
