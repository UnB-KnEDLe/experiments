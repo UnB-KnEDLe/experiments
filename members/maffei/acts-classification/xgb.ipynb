{
 "cells": [
  {
   "cell_type": "code",
   "execution_count": 53,
   "metadata": {},
   "outputs": [
    {
     "name": "stdout",
     "output_type": "stream",
     "text": [
      "The autoreload extension is already loaded. To reload it, use:\n",
      "  %reload_ext autoreload\n"
     ]
    }
   ],
   "source": [
    "%load_ext autoreload\n",
    "%autoreload 2\n",
    "from collections import Counter\n",
    "from itertools import combinations\n",
    "import pandas as pd\n",
    "\n",
    "from sklearn.feature_extraction.text import TfidfVectorizer\n",
    "from sklearn.pipeline import Pipeline\n",
    "from sklearn.model_selection import cross_validate\n",
    "from sklearn.model_selection import train_test_split\n",
    "from sklearn.metrics import plot_confusion_matrix\n",
    "import xgboost as xgb\n",
    "\n",
    "\n",
    "import fitz\n",
    "from par_seg import get_par_text\n",
    "from helper import get_all_acts, has_act"
   ]
  },
  {
   "cell_type": "code",
   "execution_count": 26,
   "metadata": {},
   "outputs": [
    {
     "data": {
      "text/plain": [
       "355"
      ]
     },
     "execution_count": 26,
     "metadata": {},
     "output_type": "execute_result"
    }
   ],
   "source": [
    "doc = fitz.open('pdf/2020_04_30.pdf')\n",
    "pars = get_par_text(doc)\n",
    "len(pars)"
   ]
  },
  {
   "cell_type": "code",
   "execution_count": 28,
   "metadata": {},
   "outputs": [
    {
     "name": "stdout",
     "output_type": "stream",
     "text": [
      "CPU times: user 967 ms, sys: 0 ns, total: 967 ms\n",
      "Wall time: 971 ms\n"
     ]
    },
    {
     "data": {
      "text/plain": [
       "False    334\n",
       "True      21\n",
       "Name: y, dtype: int64"
      ]
     },
     "execution_count": 28,
     "metadata": {},
     "output_type": "execute_result"
    }
   ],
   "source": [
    "%%time\n",
    "df = pd.DataFrame({\n",
    "    'X': pars,\n",
    "    'y': map(has_act, pars)\n",
    "})\n",
    "df.y.value_counts()"
   ]
  },
  {
   "cell_type": "code",
   "execution_count": 37,
   "metadata": {
    "collapsed": true
   },
   "outputs": [
    {
     "name": "stdout",
     "output_type": "stream",
     "text": [
      "CPU times: user 1.37 s, sys: 1.62 ms, total: 1.37 s\n",
      "Wall time: 241 ms\n"
     ]
    },
    {
     "data": {
      "text/plain": [
       "Pipeline(steps=[('vectorizer', TfidfVectorizer()),\n",
       "                ('model',\n",
       "                 XGBClassifier(base_score=0.5, booster='gbtree',\n",
       "                               colsample_bylevel=1, colsample_bynode=1,\n",
       "                               colsample_bytree=1, gamma=0, gpu_id=-1,\n",
       "                               importance_type='gain',\n",
       "                               interaction_constraints='',\n",
       "                               learning_rate=0.300000012, max_delta_step=0,\n",
       "                               max_depth=6, min_child_weight=1, missing=nan,\n",
       "                               monotone_constraints='()', n_estimators=100,\n",
       "                               n_jobs=0, num_class=2, num_parallel_tree=1,\n",
       "                               objective='multi:softprob', random_state=42,\n",
       "                               reg_alpha=0, reg_lambda=1, scale_pos_weight=None,\n",
       "                               subsample=1, tree_method='exact',\n",
       "                               validate_parameters=1, verbosity=None))])"
      ]
     },
     "execution_count": 37,
     "metadata": {},
     "output_type": "execute_result"
    }
   ],
   "source": [
    "%%time\n",
    "pipe = Pipeline([\n",
    "    ('vectorizer', TfidfVectorizer()),\n",
    "    ('model', xgb.XGBClassifier(\n",
    "        objective='multi:softprob',\n",
    "        random_state=42,\n",
    "        num_class=2\n",
    "    ))\n",
    "])\n",
    "pipe.fit(df.X, df.y);"
   ]
  },
  {
   "cell_type": "code",
   "execution_count": 39,
   "metadata": {},
   "outputs": [
    {
     "name": "stdout",
     "output_type": "stream",
     "text": [
      "CPU times: user 6.75 s, sys: 12.7 ms, total: 6.76 s\n",
      "Wall time: 1.1 s\n"
     ]
    }
   ],
   "source": [
    "%%time\n",
    "metrics = [\n",
    "    'f1_macro',\n",
    "    'f1_micro',\n",
    "    'f1_weighted',\n",
    "    'accuracy',\n",
    "    'balanced_accuracy'\n",
    "]\n",
    "cv = cross_validate(pipe, df.X, df.y, scoring=metrics)"
   ]
  },
  {
   "cell_type": "code",
   "execution_count": 40,
   "metadata": {
    "collapsed": true
   },
   "outputs": [
    {
     "data": {
      "text/plain": [
       "{'fit_time': array([0.21181226, 0.1694994 , 0.18326235, 0.19520426, 0.18693781]),\n",
       " 'score_time': array([0.02371311, 0.02539015, 0.02356195, 0.02424622, 0.02419662]),\n",
       " 'test_f1_macro': array([0.82598039, 0.68189964, 0.92486772, 0.82598039, 0.86753731]),\n",
       " 'test_f1_micro': array([0.97183099, 0.85915493, 0.98591549, 0.97183099, 0.97183099]),\n",
       " 'test_f1_weighted': array([0.96734328, 0.89259932, 0.98496162, 0.96734328, 0.96852008]),\n",
       " 'test_accuracy': array([0.97183099, 0.85915493, 0.98591549, 0.97183099, 0.97183099]),\n",
       " 'test_balanced_accuracy': array([0.75      , 0.92537313, 0.875     , 0.75      , 0.8       ])}"
      ]
     },
     "execution_count": 40,
     "metadata": {},
     "output_type": "execute_result"
    }
   ],
   "source": [
    "cv"
   ]
  },
  {
   "cell_type": "code",
   "execution_count": 81,
   "metadata": {},
   "outputs": [
    {
     "name": "stdout",
     "output_type": "stream",
     "text": [
      "CPU times: user 7.49 s, sys: 48 ms, total: 7.54 s\n",
      "Wall time: 7.54 s\n"
     ]
    }
   ],
   "source": [
    "%%time\n",
    "file_data = {\n",
    "    'pdf/' '2020_04_03.pdf':None,\n",
    "    'pdf/' '2020_04_30.pdf':None,\n",
    "    'pdf/' '2018_12_03.pdf':None,\n",
    "    'pdf/' '2_jan_2019.pdf':None,\n",
    "    'pdf/' '22_jan_2019.pdf':None,\n",
    "    'pdf/' '2001_11_01.pdf':None,\n",
    "    'pdf/' '2002_11_04.pdf':None,\n",
    "}\n",
    "for fname in file_data:\n",
    "    doc = fitz.open(fname)\n",
    "    pars = get_par_text(doc)\n",
    "    file_data[fname] = pd.DataFrame({\n",
    "        'X': pars,\n",
    "        'y': map(has_act, pars)\n",
    "    })"
   ]
  },
  {
   "cell_type": "code",
   "execution_count": 82,
   "metadata": {},
   "outputs": [
    {
     "name": "stdout",
     "output_type": "stream",
     "text": [
      "CPU times: user 4min 58s, sys: 175 ms, total: 4min 59s\n",
      "Wall time: 49.3 s\n"
     ]
    }
   ],
   "source": [
    "%%time\n",
    "combs = combinations(file_data, len(file_data) - 1)\n",
    "cvs = {}\n",
    "all_keys = set(file_data)\n",
    "for c in combs:\n",
    "    df = pd.concat(map(lambda x: file_data[x], c))\n",
    "#     continue\n",
    "    diff = list(all_keys - set(c))\n",
    "    cvs[diff[0]] = cross_validate(\n",
    "        pipe, df.X, df.y, scoring=metrics\n",
    "    )\n",
    "        "
   ]
  },
  {
   "cell_type": "code",
   "execution_count": 83,
   "metadata": {
    "collapsed": true
   },
   "outputs": [
    {
     "name": "stdout",
     "output_type": "stream",
     "text": [
      "leave-one-out: pdf/2002_11_04.pdf\n",
      "metrics (mean):\n",
      "\t test_f1_macro \t: [0.9, 0.94, 0.92, 0.91, 0.99]\n",
      "\t test_f1_micro \t: [0.97, 0.98, 0.97, 0.97, 1.0]\n",
      "\t test_f1_weighted \t: [0.97, 0.98, 0.97, 0.97, 1.0]\n",
      "\t test_accuracy \t: [0.97, 0.98, 0.97, 0.97, 1.0]\n",
      "\t test_balanced_accuracy \t: [0.95, 0.92, 0.96, 0.86, 0.97]\n",
      "\n",
      "\n",
      "leave-one-out: pdf/2001_11_01.pdf\n",
      "metrics (mean):\n",
      "\t test_f1_macro \t: [0.91, 0.94, 0.89, 0.91, 0.99]\n",
      "\t test_f1_micro \t: [0.96, 0.98, 0.95, 0.97, 0.99]\n",
      "\t test_f1_weighted \t: [0.97, 0.98, 0.96, 0.97, 0.99]\n",
      "\t test_accuracy \t: [0.96, 0.98, 0.95, 0.97, 0.99]\n",
      "\t test_balanced_accuracy \t: [0.95, 0.9, 0.96, 0.86, 0.97]\n",
      "\n",
      "\n",
      "leave-one-out: pdf/22_jan_2019.pdf\n",
      "metrics (mean):\n",
      "\t test_f1_macro \t: [0.9, 0.97, 0.85, 0.96, 0.9]\n",
      "\t test_f1_micro \t: [0.97, 0.99, 0.96, 0.99, 0.98]\n",
      "\t test_f1_weighted \t: [0.97, 0.99, 0.96, 0.99, 0.97]\n",
      "\t test_accuracy \t: [0.97, 0.99, 0.96, 0.99, 0.98]\n",
      "\t test_balanced_accuracy \t: [0.94, 0.97, 0.86, 0.94, 0.84]\n",
      "\n",
      "\n",
      "leave-one-out: pdf/2_jan_2019.pdf\n",
      "metrics (mean):\n",
      "\t test_f1_macro \t: [0.91, 0.94, 0.91, 0.89, 0.99]\n",
      "\t test_f1_micro \t: [0.97, 0.98, 0.97, 0.97, 1.0]\n",
      "\t test_f1_weighted \t: [0.97, 0.98, 0.97, 0.97, 1.0]\n",
      "\t test_accuracy \t: [0.97, 0.98, 0.97, 0.97, 1.0]\n",
      "\t test_balanced_accuracy \t: [0.96, 0.92, 0.92, 0.83, 0.97]\n",
      "\n",
      "\n",
      "leave-one-out: pdf/2018_12_03.pdf\n",
      "metrics (mean):\n",
      "\t test_f1_macro \t: [0.9, 0.89, 0.95, 0.92, 1.0]\n",
      "\t test_f1_micro \t: [0.97, 0.97, 0.99, 0.98, 1.0]\n",
      "\t test_f1_weighted \t: [0.97, 0.97, 0.99, 0.98, 1.0]\n",
      "\t test_accuracy \t: [0.97, 0.97, 0.99, 0.98, 1.0]\n",
      "\t test_balanced_accuracy \t: [0.96, 0.88, 0.91, 0.86, 1.0]\n",
      "\n",
      "\n",
      "leave-one-out: pdf/2020_04_30.pdf\n",
      "metrics (mean):\n",
      "\t test_f1_macro \t: [0.89, 0.86, 0.97, 0.9, 1.0]\n",
      "\t test_f1_micro \t: [0.97, 0.95, 0.99, 0.97, 1.0]\n",
      "\t test_f1_weighted \t: [0.97, 0.95, 0.99, 0.97, 1.0]\n",
      "\t test_accuracy \t: [0.97, 0.95, 0.99, 0.97, 1.0]\n",
      "\t test_balanced_accuracy \t: [0.88, 0.92, 0.96, 0.84, 1.0]\n",
      "\n",
      "\n",
      "leave-one-out: pdf/2020_04_03.pdf\n",
      "metrics (mean):\n",
      "\t test_f1_macro \t: [0.91, 0.86, 0.96, 0.86, 1.0]\n",
      "\t test_f1_micro \t: [0.98, 0.96, 0.99, 0.97, 1.0]\n",
      "\t test_f1_weighted \t: [0.98, 0.96, 0.99, 0.97, 1.0]\n",
      "\t test_accuracy \t: [0.98, 0.96, 0.99, 0.97, 1.0]\n",
      "\t test_balanced_accuracy \t: [0.89, 0.94, 0.93, 0.79, 1.0]\n",
      "\n",
      "\n"
     ]
    }
   ],
   "source": [
    "for k,v in cvs.items():\n",
    "    print(\"leave-one-out:\", k)\n",
    "    print(\"metrics (mean):\")\n",
    "    for k in v:\n",
    "        if 'test' in k:\n",
    "            nums = [round(i, 2) for i in v[k]]\n",
    "            print('\\t', k, '\\t:', nums)\n",
    "    print('\\n')"
   ]
  }
 ],
 "metadata": {
  "kernelspec": {
   "display_name": "Python 3",
   "language": "python",
   "name": "python3"
  },
  "language_info": {
   "codemirror_mode": {
    "name": "ipython",
    "version": 3
   },
   "file_extension": ".py",
   "mimetype": "text/x-python",
   "name": "python",
   "nbconvert_exporter": "python",
   "pygments_lexer": "ipython3",
   "version": "3.8.1"
  }
 },
 "nbformat": 4,
 "nbformat_minor": 4
}
