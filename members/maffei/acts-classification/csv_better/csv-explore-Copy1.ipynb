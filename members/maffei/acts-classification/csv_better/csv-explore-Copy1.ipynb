{
 "cells": [
  {
   "cell_type": "code",
   "execution_count": 214,
   "metadata": {},
   "outputs": [
    {
     "name": "stdout",
     "output_type": "stream",
     "text": [
      "The autoreload extension is already loaded. To reload it, use:\n",
      "  %reload_ext autoreload\n"
     ]
    }
   ],
   "source": [
    "%load_ext autoreload\n",
    "%autoreload 2\n",
    "import pandas as pd\n",
    "import os\n",
    "import re\n",
    "import numpy as np\n",
    "from collections import Counter\n",
    "import sys\n",
    "import gc\n",
    "from importlib import reload as rl\n",
    "from functools import reduce\n",
    "import spacy\n",
    "\n",
    "sys.path.append('../')\n",
    "import helper\n",
    "import core\n",
    "import math"
   ]
  },
  {
   "cell_type": "code",
   "execution_count": 146,
   "metadata": {},
   "outputs": [],
   "source": [
    "rl(core.atos.base);\n",
    "nlp = spacy.load('pt_core_news_sm')"
   ]
  },
  {
   "cell_type": "code",
   "execution_count": 147,
   "metadata": {},
   "outputs": [],
   "source": [
    "csv_lis = []\n",
    "for folder in os.listdir():\n",
    "    if os.path.isdir(folder):\n",
    "        for csv in os.listdir(folder):\n",
    "            if (os.path.isfile(folder+'/'+csv)\n",
    "                and csv.endswith('.csv')):\n",
    "                csv_lis.append(folder+'/'+csv)"
   ]
  },
  {
   "cell_type": "code",
   "execution_count": 148,
   "metadata": {},
   "outputs": [],
   "source": [
    "ctr = Counter([i.split('/')[0] for i in csv_lis])\n",
    "\n",
    "df_dict = {}\n",
    "for k in ctr:\n",
    "    df_dict[k] = []\n",
    "\n",
    "for csv in csv_lis:\n",
    "    prf = csv.split('/')[0]\n",
    "    df_dict[prf].append(pd.read_csv(csv))"
   ]
  },
  {
   "cell_type": "code",
   "execution_count": 149,
   "metadata": {},
   "outputs": [],
   "source": [
    "df_text = {}\n",
    "for k in df_dict:\n",
    "    df_text[k] = []\n",
    "\n",
    "for k, v in df_dict.items():\n",
    "    for df in v:\n",
    "        for t in df.texto:\n",
    "            df_text[k].append(t)\n",
    "\n",
    "df_filtered_text = {}\n",
    "for k in df_dict:\n",
    "    df_filtered_text[k] = []\n",
    "\n",
    "for k, v in df_dict.items():\n",
    "    for df in v:\n",
    "        for t in df.texto:\n",
    "            if len(t) < 1000:         \n",
    "                df_filtered_text[k].append(t)\n",
    "\n",
    "\n",
    "df_big_text = {}\n",
    "for k in df_dict:\n",
    "    df_big_text[k] = []\n",
    "\n",
    "for k, v in df_dict.items():\n",
    "    for df in v:\n",
    "        for t in df.texto:\n",
    "            if len(t) > 1000:         \n",
    "                df_big_text[k].append(t)\n",
    "\n"
   ]
  },
  {
   "cell_type": "code",
   "execution_count": 150,
   "metadata": {},
   "outputs": [
    {
     "name": "stdout",
     "output_type": "stream",
     "text": [
      "WHOLE TEXT:\n",
      "\t605 samples of Substituicao\n",
      "\t118 samples of Retirements\n",
      "\t61 samples of Exoneracao\n",
      "\t49 samples of NomeacaoComissionados\n",
      "\t25 samples of SemEfeitoAposentadoria\n",
      "\t10 samples of Cessoes\n",
      "\t9 samples of AbonoPermanencia\n",
      "\t2 samples of RetAposentadoria\n",
      "\t1 samples of Revertions\n"
     ]
    },
    {
     "data": {
      "text/plain": [
       "20"
      ]
     },
     "execution_count": 150,
     "metadata": {},
     "output_type": "execute_result"
    }
   ],
   "source": [
    "whole = [(len(df_text[k]), k) for k in df_text]\n",
    "lt = [(len(df_filtered_text[k]), k) for k in df_filtered_text]\n",
    "gt = [(len(df_big_text[k]), k) for k in df_big_text]\n",
    "print('WHOLE TEXT:')\n",
    "for sz, key in sorted(whole, reverse=True):\n",
    "    print(f'\\t{sz} samples of {key}')\n",
    "\n",
    "# print(\"LESS THAN 1000 text:\")\n",
    "# for sz, key in sorted(lt, reverse=True):\n",
    "#     print(f'\\t{sz} samples of {key}')\n",
    "# print(\"GREATER THAN 1000 text:\")\n",
    "# for sz, key in sorted(gt, reverse=True):\n",
    "#     print(f'\\t{sz} samples of {key}')\n",
    "\n",
    "del whole, lt, gt\n",
    "gc.collect()"
   ]
  },
  {
   "cell_type": "markdown",
   "metadata": {},
   "source": [
    "## A maior quantidade de casos extraídos é \"subtituição\". Porém, não foi possível realizar a curadoria das extrações. Por esta razão, serão utilizados os resultados de \"semEfeitoAposentadoria\""
   ]
  },
  {
   "cell_type": "code",
   "execution_count": 151,
   "metadata": {},
   "outputs": [
    {
     "name": "stdout",
     "output_type": "stream",
     "text": [
      "sentence number:\n",
      "\t Substituicao : 605\n",
      "\t Retirements : 304\n",
      "\t Exoneracao : 61\n",
      "\t Cessoes : 54\n",
      "\t NomeacaoComissionados : 49\n",
      "\t SemEfeitoAposentadoria : 40\n",
      "\t AbonoPermanencia : 12\n",
      "\t RetAposentadoria : 4\n",
      "\t Revertions : 2\n"
     ]
    }
   ],
   "source": [
    "sent_dict = {}\n",
    "for k in df_text:\n",
    "    sent_dict[k] = []\n",
    "    for s in df_text[k]:\n",
    "        sent_dict[k].extend(helper.sentencize_dodf(helper.preprocess(s)))\n",
    "print(\"sentence number:\")\n",
    "for k, v in sorted(sent_dict.items(), key=lambda x:len(x[1]), reverse=True):\n",
    "    print('\\t',k, ':', len(v))"
   ]
  },
  {
   "cell_type": "code",
   "execution_count": 152,
   "metadata": {
    "collapsed": true
   },
   "outputs": [
    {
     "name": "stdout",
     "output_type": "stream",
     "text": [
      "TORNAR SEM EFEITO A RETIFICACAO DA AVERBACAO DE TEMPO DE SERVICO da servidora LUZIA SOUZA DOS PASSOS, matricula 01362518, AUXILIAR DE ENFERMAGEM, Secretaria de Estado de Saude, publicada no DODF No 243, quinta-feira, 21 de dezembro de 2017, pag. 42. .\n",
      "\n",
      "\n",
      "TORNAR SEM EFEITO, na Ordem de Servico no 021, de 22 janeiro de 2020, publicada no DODF no 017, de 24/01/2020, pagina 24, o ato queRETIFICOUa AVERBACAO DE TEMPO DE SERVICO da servidora ANTONIA MARIA DA CONCEICAO, matricula no 135.843-X, AUXILIAR DE ENFERMAGEM, lotada no HMIB/SES, de 4.886 dias, ou seja, 13 anos, 4 meses e 21 dias, conforme certidao expedida pelo INSS, nos periodos de 01/09/1981 a 01/01/1984, de 15/03/1984 a 31/12/1984, de 14/01/1985 a 13/06/1987 e de 27/07/1989 a 31/05/1995, contados somente para fins de aposentadoria, de acordo com o processo no 272.000.401/2015. .\n",
      "\n",
      "\n",
      "TORNAR SEM EFEITO, na Ordem de Servico no 021, de 22 janeiro de 2020, publicada no DODF no 017, de 24/01/2020, pagina 24, o ato queRETIFICOUa AVERBACAO DE TEMPO DE SERVICO do servidor IRUILTON FAGUNDES DOS SANTOS, matricula no 140.367-2, AOSD-OPERADOR DE MAQUINA, lotado no HMIB/SES, de 5.677 dias, ou seja, 15 anos, 6 meses e 22 dias, conforme certidao expedida pelo INSS, nos periodos de 30/01/1972 a 16/06/1972, de 01/05/1974 a 25/04/1979, de 01/01/1985 a 31/10/1986, de 01/12/1986 a 31/05/1988, de 01/08/1988 a 28/02/1991, de 01/06/1991 a 31/08/1992, de 01/10/1992 a 31/05/1993, de 01/09/1993 a 30/04/1994, de 01/06/1994 a 30/06/1994, de 01/08/1994 a 30/09/1994 e de 01/11/1994 a 30/04/1996, contados somente para fins de aposentadoria, de acordo com o processo no 00060-00551812/2018-32. .\n",
      "\n",
      "\n",
      "TORNAR SEM EFEITO A AVERBACAO DE TEMPO DE SERVICO do servidor PAULO ASSUNCAO SOARES MONTEIRO, matricula 157.107-9, Medico - Ginecologia e Obstetricia, Secretaria de Estado de Saude do DF, que averbou 731 dias, ou seja, 2 anos e 1 dia, prestados a Secretaria de Estado de Saude do DF, no periodo de 19 de marco de 2004 a 19 de marco de 2006, publicada no DODF no 225, de 24 de novembro de 2011, pag. 29. .\n",
      "\n",
      "\n",
      "TORNAR SEM EFEITO o ato que concedeu Licenca Premio a servidora DEJENY ROSA LIMA DE OLIVEIRA, matricula 146.761-1, conforme ORDEM DE SERVICO DE 07 DE FEVEREIRO DE 2014, publicada no DODF No 36, de 17 de fevereiro de 2014, pagina 42.\n",
      "\n",
      "\n",
      "ROBLEDO DE SOUZA LEAO LACERDA RETIFICACAO Na Ordem de Servico no 411 de 19 de julho de 2018, publicada no DODF no 141, de 26 de julho de 2018, pag. 30, o ato que concedeu licenca premio ao servidor Renato Nakad Gouveia, ONDE SE LE: Nome: Renato Nakad Gouveia Mat. 1441663-8 Qq.: 1o 17.01.13 a 16.01.18 Requerimento; LEIA-SE Qq.: 1o 23.01.2013 a 21.01.2018.\n",
      "\n",
      "\n",
      "Ratificando as demais informacoes.\n",
      "\n",
      "\n",
      "Na Ordem de Servico no 411, de 19 de julho de 2018, publicada no DODF no 141, de 26 de julho de 2018, pag. 30, o ato que concedeu licenca premio ao servidor Leonardo Goncalves da Silva, ONDE SE LE: Nome: Leonardo Goncalves da Silva Mat. 1442270-0 Qq.: 1o 04.03.13 a 01.06.18 Requerimento; LEIA-SE Qq.: 1o 04.03.13 a 30.07.18.\n",
      "\n",
      "\n",
      "RATIFICANDO AS DEMAIS INFORMACOES.\n",
      "\n",
      "\n",
      "Na Ordem de Servico no 600, de 27 de setembro de 2018, publicada no DODF n 187 de 01 de outubro de 2018, pag. 20, o ato que averbou o tempo de servico da servidora ADRYENNE DE CARVALHO MELLO, 158.338-7, Enfermeiro, Secretaria de Estado de Saude do DF. .\n",
      "\n",
      "\n",
      "TORNAR SEM EFEITO na Ordem de Servico, de 23 de Novembro de 2018, publicada no Diario Oficial do Distrito Federal, de 26 de Novembro de 2018, o ato que Concedeu aposentadoria a servidora CELINA HENRIQUETA MATOS DE HEREDIA NASCIMENTO, matricula 60.199-3, no cargo de Professor de Educacao Basica, Padrao 24, Etapa 04, do Quadro de Pessoal do Distrito Federal, a contar de 26 de Novembro de 2018.\n",
      "\n",
      "\n",
      "Processo 00080-00069681/2018-70. .\n",
      "\n",
      "\n",
      "TORNAR SEM EFEITO A ORDEM DE SERVICO DE 17 de abril de 1998-DAP/SRH/SEA, publicada no DODF no 75, de 23 de abril de 1998, pagina 35, referente ao ato de Averbacao de Tempo de Servico do servidor BENEDITO DO NASCIMENTO, matricula no 42.558-3. .\n",
      "\n",
      "\n",
      "TORNAR SEM EFEITO a RETIFICACAO publicada no DODF no 15, de 20 de janeiro de 2014, pagina 33, referente ao ato de Averbacao de Tempo de Servico do servidor JOSE AIRTON DE OLIVEIRA, matricula no 32.975-4. .\n",
      "\n",
      "\n",
      "TORNAR SEM EFEITO a RETIFICACAO publicada no DODF no 212, de 06 de novembro de 2017, pagina 28, referente ao ato de Averbacao de Tempo de Servico da servidora NEIDE RIBEIRO DE SANTANA, matricula no 47.549-1. .\n",
      "\n",
      "\n",
      "TORNAR SEM EFEITO A AVERBACAO DE TEMPO DE SERVICO do servidor PAULO ASSUNCAO SOARES MONTEIRO, matricula 157.107-9, Medico - Ginecologia e Obstetricia, Secretaria de Estado de Saude do DF, que averbou 731 dias, ou seja, 2 anos e 1 dia, prestados a Secretaria de Estado de Saude do DF, no periodo de 19 de marco de 2004 a 19 de marco de 2006, publicada no DODF no 225, de 24 de novembro de 2011, pag. 29. .\n",
      "\n",
      "\n",
      "TORNAR SEM EFEITO o ato que concedeu Licenca Premio a servidora DEJENY ROSA LIMA DE OLIVEIRA, matricula 146.761-1, conforme ORDEM DE SERVICO DE 07 DE FEVEREIRO DE 2014, publicada no DODF No 36, de 17 de fevereiro de 2014, pagina 42.\n",
      "\n",
      "\n",
      "ROBLEDO DE SOUZA LEAO LACERDA RETIFICACAO Na Ordem de Servico no 411 de 19 de julho de 2018, publicada no DODF no 141, de 26 de julho de 2018, pag. 30, o ato que concedeu licenca premio ao servidor Renato Nakad Gouveia, ONDE SE LE: Nome: Renato Nakad Gouveia Mat. 1441663-8 Qq.: 1o 17.01.13 a 16.01.18 Requerimento; LEIA-SE Qq.: 1o 23.01.2013 a 21.01.2018.\n",
      "\n",
      "\n",
      "Ratificando as demais informacoes.\n",
      "\n",
      "\n",
      "Na Ordem de Servico no 411, de 19 de julho de 2018, publicada no DODF no 141, de 26 de julho de 2018, pag. 30, o ato que concedeu licenca premio ao servidor Leonardo Goncalves da Silva, ONDE SE LE: Nome: Leonardo Goncalves da Silva Mat. 1442270-0 Qq.: 1o 04.03.13 a 01.06.18 Requerimento; LEIA-SE Qq.: 1o 04.03.13 a 30.07.18.\n",
      "\n",
      "\n",
      "RATIFICANDO AS DEMAIS INFORMACOES.\n",
      "\n",
      "\n",
      "Na Ordem de Servico no 600, de 27 de setembro de 2018, publicada no DODF n 187 de 01 de outubro de 2018, pag. 20, o ato que averbou o tempo de servico da servidora ADRYENNE DE CARVALHO MELLO, 158.338-7, Enfermeiro, Secretaria de Estado de Saude do DF. .\n",
      "\n",
      "\n",
      "TORNAR SEM EFEITO na Ordem de Servico, de 23 de Novembro de 2018, publicada no Diario Oficial do Distrito Federal, de 26 de Novembro de 2018, o ato que Concedeu aposentadoria a servidora CELINA HENRIQUETA MATOS DE HEREDIA NASCIMENTO, matricula 60.199-3, no cargo de Professor de Educacao Basica, Padrao 24, Etapa 04, do Quadro de Pessoal do Distrito Federal, a contar de 26 de Novembro de 2018.\n",
      "\n",
      "\n",
      "Processo 00080-00069681/2018-70. .\n",
      "\n",
      "\n",
      "TORNAR SEM EFEITO A ORDEM DE SERVICO DE 17 de abril de 1998-DAP/SRH/SEA, publicada no DODF no 75, de 23 de abril de 1998, pagina 35, referente ao ato de Averbacao de Tempo de Servico do servidor BENEDITO DO NASCIMENTO, matricula no 42.558-3. .\n",
      "\n",
      "\n",
      "TORNAR SEM EFEITO a RETIFICACAO publicada no DODF no 15, de 20 de janeiro de 2014, pagina 33, referente ao ato de Averbacao de Tempo de Servico do servidor JOSE AIRTON DE OLIVEIRA, matricula no 32.975-4. .\n",
      "\n",
      "\n",
      "TORNAR SEM EFEITO a RETIFICACAO publicada no DODF no 212, de 06 de novembro de 2017, pagina 28, referente ao ato de Averbacao de Tempo de Servico da servidora NEIDE RIBEIRO DE SANTANA, matricula no 47.549-1. .\n",
      "\n",
      "\n",
      "TORNAR SEM EFEITO na Ordem de Servico no 162, de 15 de junho de 2011, publicada no DODF no 120, de 21 de junho de 2011, pag. 18, os atos de concessao e retificacao do tempo de servico do servidor JOSE GERALDO PAIVA, matricula no 24.840-1, Inspetor Tecnico de Controle Interno, relativos ao reconhecimento da contagem de tempo especial prestado em condicoes insalubre, bem a concessao de Adicional de Tempo Servico referente ao periodo de prestacao de servico a Telebrasilia, por haver interpretacao incorreta da base Legal e a edicao da Lei 6.067/1974. .\n",
      "\n",
      "\n",
      "TORNAR SEM EFEITO na Ordem de Servico no 174, de 10/08/2016, publicada no DODF no 154, de16/08/2016, o ato de retificacao de concessao de aposentadoria concedida a MAXIMIANA PEREIRA DOS SANTOS, em atendimento a Diligencia Interna - TCDF.\n",
      "\n",
      "\n",
      "Processo/SES no 0 6 0 . 0 0 6 . 4 9 2 / 2 0 11 . .\n",
      "\n",
      "\n",
      "TORNAR SEM EFEITO A RETIFICACAO DA AVERBACAO DE TEMPO DE SERVICO da servidora LUZIA SOUZA DOS PASSOS, matricula 01362518, AUXILIAR DE ENFERMAGEM, Secretaria de Estado de Saude, publicada no DODF No 243, quinta-feira, 21 de dezembro de 2017, pag. 42. .\n",
      "\n",
      "\n",
      "TORNAR SEM EFEITO a revisao da averbacao de tempo de contribuicao prestados ao Instituto de Pesos e Medidas de Fortaleza - INMETRO, da Instrucao \"AGEFIS\" no. 30 de 14 agosto de 2017, da Diretora de Gestao de Pessoas, da Superintendencia de Administracao e Logistica da Agencia de Fiscalizacao do DF, publicada no DODF no. 157, de 16 de agosto de 2017, p. 24 e 25 ao servidor JOAO LAZARO RIBEIRO SILVA, matricula 42.626-1. .\n",
      "\n",
      "\n",
      "TORNAR SEM EFEITO na Ordem de Servico no 136, de 25/10/2018, publicada no DODF no 207, de 30/10/2018, o ato que concedeu aposentadoria a HELIOMAR SOUZA SANTOS, matricula n 193.169-5, por falecimento anterior a publicacao. .\n",
      "\n",
      "\n",
      "TORNAR SEM EFEITO na Ordem de Servico no 159, de 29/05/2014, publicada no DODF no 109, de 30/05/2014, o ato que retificou a aposentadoria de ANTONIO LUIZ DE ARAUJO, mat. 143.610-4, em atendimento a Diligencia 1113-CONIP/CGDF.\n",
      "\n",
      "\n",
      "Processo n 060.014443/2013. .\n",
      "\n",
      "\n",
      "TORNAR SEM EFEITO a averbacao do tempo de servico e/ou contribuicao publicada no DODF no 43, de 1 de marco de 2019, pagina 30, referente a servidora SELMA COELHO DA SILVA, 184528-4, ENFERMEIRO. .\n",
      "\n",
      "\n",
      "TORNAR SEM EFEITO na Ordem de Servico de 18 de janeiro de 2019, publicada no Diario Oficial do Distrito Federal, de 24 de janeiro de 2019, o ato que concedeu aposentadoria ao servidor JOSE FRANCISCO ELOI, matricula 59.852-6, no Cargo de Professor de Educacao Basica, Padrao 25, Etapa IV do Quadro de Pessoal do Distrito Federal.\n",
      "\n",
      "\n",
      "Processo: 00080-00105850/2018-42. .\n",
      "\n",
      "\n",
      "TORNAR SEM EFEITO, na Ordem de Servico no 021, de 22 janeiro de 2020, publicada no DODF no 017, de 24/01/2020, pagina 24, o ato queRETIFICOUa AVERBACAO DE TEMPO DE SERVICO da servidora ANTONIA MARIA DA CONCEICAO, matricula no 135.843-X, AUXILIAR DE ENFERMAGEM, lotada no HMIB/SES, de 4.886 dias, ou seja, 13 anos, 4 meses e 21 dias, conforme certidao expedida pelo INSS, nos periodos de 01/09/1981 a 01/01/1984, de 15/03/1984 a 31/12/1984, de 14/01/1985 a 13/06/1987 e de 27/07/1989 a 31/05/1995, contados somente para fins de aposentadoria, de acordo com o processo no 272.000.401/2015. .\n",
      "\n",
      "\n",
      "TORNAR SEM EFEITO, na Ordem de Servico no 021, de 22 janeiro de 2020, publicada no DODF no 017, de 24/01/2020, pagina 24, o ato queRETIFICOUa AVERBACAO DE TEMPO DE SERVICO do servidor IRUILTON FAGUNDES DOS SANTOS, matricula no 140.367-2, AOSD-OPERADOR DE MAQUINA, lotado no HMIB/SES, de 5.677 dias, ou seja, 15 anos, 6 meses e 22 dias, conforme certidao expedida pelo INSS, nos periodos de 30/01/1972 a 16/06/1972, de 01/05/1974 a 25/04/1979, de 01/01/1985 a 31/10/1986, de 01/12/1986 a 31/05/1988, de 01/08/1988 a 28/02/1991, de 01/06/1991 a 31/08/1992, de 01/10/1992 a 31/05/1993, de 01/09/1993 a 30/04/1994, de 01/06/1994 a 30/06/1994, de 01/08/1994 a 30/09/1994 e de 01/11/1994 a 30/04/1996, contados somente para fins de aposentadoria, de acordo com o processo no 00060-00551812/2018-32. .\n",
      "\n",
      "\n"
     ]
    }
   ],
   "source": [
    "for ret in sent_dict['SemEfeitoAposentadoria']:\n",
    "    print(ret, end=3*'\\n')"
   ]
  },
  {
   "cell_type": "markdown",
   "metadata": {},
   "source": [
    "## Experimentação com xgboost (bons resultados previamente obtidos)"
   ]
  },
  {
   "cell_type": "code",
   "execution_count": 153,
   "metadata": {},
   "outputs": [],
   "source": [
    "import xgboost as xgb\n",
    "from sklearn.metrics import accuracy_score\n",
    "from sklearn.metrics import plot_confusion_matrix\n",
    "from sklearn.model_selection import cross_validate\n",
    "\n",
    "from sklearn.feature_extraction.text import TfidfVectorizer\n",
    "from sklearn.pipeline import Pipeline, make_pipeline\n",
    "from sklearn.preprocessing import LabelEncoder"
   ]
  },
  {
   "cell_type": "markdown",
   "metadata": {},
   "source": [
    "## IDEIA: supor todas as frases de um DODF n pertencentes da atos, ver resultados(podre, mas sem dados rotulados complica)"
   ]
  },
  {
   "cell_type": "code",
   "execution_count": 193,
   "metadata": {},
   "outputs": [
    {
     "name": "stdout",
     "output_type": "stream",
     "text": [
      "CPU times: user 1.34 s, sys: 11.7 ms, total: 1.35 s\n",
      "Wall time: 1.35 s\n"
     ]
    },
    {
     "data": {
      "text/plain": [
       "Counter({'substituicao': 605,\n",
       "         'aposentadoria': 118,\n",
       "         'nomeacao': 49,\n",
       "         'exoneracao': 61,\n",
       "         'abono': 9,\n",
       "         'retificacoes': 2,\n",
       "         'semEfeitoAposentadoria': 25,\n",
       "         'cessao': 10,\n",
       "         'reversoes': 1})"
      ]
     },
     "execution_count": 193,
     "metadata": {},
     "output_type": "execute_result"
    }
   ],
   "source": [
    "%%time\n",
    "prefix = '../pdf/results/txt/'\n",
    "all_matches = {'X': [], 'y':[]}\n",
    "for txt in os.listdir(prefix):\n",
    "    if txt.endswith('.txt'):\n",
    "        content = open(prefix+'/'+txt).read()\n",
    "        for k, v in core._dict.items():\n",
    "            res = v('',txt=content)\n",
    "            if res.data_frame.empty:\n",
    "                continue\n",
    "            else:\n",
    "                all_matches['X'].extend(res.acts_str)\n",
    "                all_matches['y'].extend(len(res.acts_str) * [k])\n",
    "\n",
    "Counter(all_matches['y'])"
   ]
  },
  {
   "cell_type": "code",
   "execution_count": 194,
   "metadata": {},
   "outputs": [
    {
     "name": "stdout",
     "output_type": "stream",
     "text": [
      "SENTENÇAS: 19009\n",
      "CPU times: user 519 ms, sys: 0 ns, total: 519 ms\n",
      "Wall time: 518 ms\n"
     ]
    }
   ],
   "source": [
    "%%time\n",
    "lis = os.listdir(prefix)\n",
    "acc = 0\n",
    "sents = {}\n",
    "for pdf in lis:\n",
    "    raw = open(prefix + pdf).read()\n",
    "    _sents = helper.sentencize_dodf(raw)\n",
    "    _sents = [i for i in _sents if i != i.upper()]\n",
    "    _sents = [i for i in _sents if '....' not in i]\n",
    "    sents[pdf] = _sents\n",
    "    acc += len(_sents)\n",
    "del _sents\n",
    "gc.collect()\n",
    "print(\"SENTENÇAS:\", acc)"
   ]
  },
  {
   "cell_type": "markdown",
   "metadata": {},
   "source": [
    "## Tentar rotular sentenças com os extratores"
   ]
  },
  {
   "cell_type": "code",
   "execution_count": 197,
   "metadata": {},
   "outputs": [
    {
     "name": "stdout",
     "output_type": "stream",
     "text": [
      "CPU times: user 47.8 s, sys: 2.09 ms, total: 47.8 s\n",
      "Wall time: 47.8 s\n"
     ]
    },
    {
     "data": {
      "text/plain": [
       "Counter({'0': 170875,\n",
       "         'exoneracao': 57,\n",
       "         'semEfeitoAposentadoria': 24,\n",
       "         'substituicao': 115,\n",
       "         'aposentadoria': 10,\n",
       "         'nomeacao': 2})"
      ]
     },
     "execution_count": 197,
     "metadata": {},
     "output_type": "execute_result"
    }
   ],
   "source": [
    "%%time\n",
    "sents_label = {'X':[], 'y':[]}\n",
    "\n",
    "for k,v in sents.items():\n",
    "    for s in v:\n",
    "        for name, ext in core._dict.items():\n",
    "            res = ext('', txt=s)\n",
    "            if res.data_frame.empty:\n",
    "                sents_label['X'].append(s)\n",
    "                sents_label['y'].append(\"0\")\n",
    "            else:\n",
    "                sents_label['X'].extend(res.acts_str)\n",
    "                sents_label['y'].extend(len(res.acts_str)*[name])\n",
    "Counter(sents_label['y'])"
   ]
  },
  {
   "cell_type": "code",
   "execution_count": 199,
   "metadata": {
    "collapsed": true
   },
   "outputs": [
    {
     "data": {
      "text/plain": [
       "0                         170875\n",
       "substituicao                 720\n",
       "aposentadoria                128\n",
       "exoneracao                   118\n",
       "nomeacao                      51\n",
       "semEfeitoAposentadoria        49\n",
       "cessao                        10\n",
       "abono                          9\n",
       "retificacoes                   2\n",
       "reversoes                      1\n",
       "Name: y, dtype: int64"
      ]
     },
     "execution_count": 199,
     "metadata": {},
     "output_type": "execute_result"
    }
   ],
   "source": [
    "final = {\n",
    "    'X': all_matches['X']+sents_label['X'],\n",
    "    'y':all_matches['y']+sents_label['y']\n",
    "}\n",
    "df = pd.DataFrame(final)\n",
    "df.y.value_counts()"
   ]
  },
  {
   "cell_type": "code",
   "execution_count": 202,
   "metadata": {},
   "outputs": [
    {
     "data": {
      "text/plain": [
       "0    170875\n",
       "1      1088\n",
       "Name: y, dtype: int64"
      ]
     },
     "execution_count": 202,
     "metadata": {},
     "output_type": "execute_result"
    }
   ],
   "source": [
    "final_df = df.copy()\n",
    "final_df['y'] = final_df.y.apply(lambda x: 0 if x == '0' else 1)\n",
    "final_df.y.value_counts()"
   ]
  },
  {
   "cell_type": "code",
   "execution_count": 203,
   "metadata": {},
   "outputs": [
    {
     "name": "stdout",
     "output_type": "stream",
     "text": [
      "CPU times: user 366 µs, sys: 8 µs, total: 374 µs\n",
      "Wall time: 378 µs\n"
     ]
    }
   ],
   "source": [
    "%%time\n",
    "X, y = final_df.X, final_df.y\n",
    "pipe = Pipeline([\n",
    "    ('tfidf',TfidfVectorizer()),\n",
    "    ('xgb',xgb.XGBClassifier(\n",
    "        objective='multi:softprob',\n",
    "#         num_class=len(df_text),        \n",
    "        num_class=2,\n",
    "    ))\n",
    "])"
   ]
  },
  {
   "cell_type": "code",
   "execution_count": 206,
   "metadata": {},
   "outputs": [
    {
     "name": "stdout",
     "output_type": "stream",
     "text": [
      "CPU times: user 18min 17s, sys: 1.96 s, total: 18min 19s\n",
      "Wall time: 3min 8s\n"
     ]
    }
   ],
   "source": [
    "%%time\n",
    "cv = cross_validate(pipe, X, y, scoring=[\n",
    "    'f1_macro', 'f1_micro', 'f1_weighted', 'accuracy']\n",
    ")"
   ]
  },
  {
   "cell_type": "code",
   "execution_count": 209,
   "metadata": {},
   "outputs": [],
   "source": [
    "fit_time = cv['fit_time']\n",
    "del cv['fit_time']"
   ]
  },
  {
   "cell_type": "code",
   "execution_count": 215,
   "metadata": {},
   "outputs": [
    {
     "name": "stdout",
     "output_type": "stream",
     "text": [
      "test_f1_macro\n",
      "\t 0.82 0.96 0.8 0.91 0.95\n",
      "test_f1_micro\n",
      "\t 0.99 1.0 0.99 1.0 1.0\n",
      "test_f1_weighted\n",
      "\t 0.99 1.0 0.99 1.0 1.0\n",
      "test_accuracy\n",
      "\t 0.99 1.0 0.99 1.0 1.0\n"
     ]
    }
   ],
   "source": [
    "for k,v in cv.items():\n",
    "    if k.startswith('test'):\n",
    "        print(k)\n",
    "        print('\\t', *[round(i, 2) for i in v])\n"
   ]
  },
  {
   "cell_type": "code",
   "execution_count": null,
   "metadata": {},
   "outputs": [],
   "source": []
  },
  {
   "cell_type": "code",
   "execution_count": null,
   "metadata": {},
   "outputs": [],
   "source": []
  },
  {
   "cell_type": "markdown",
   "metadata": {},
   "source": [
    "## Montar base de sentenças rotuladas"
   ]
  },
  {
   "cell_type": "code",
   "execution_count": 155,
   "metadata": {},
   "outputs": [],
   "source": [
    "rl(helper)\n",
    "rl(core.atos)\n",
    "rl(core)\n",
    "rl(core.atos.base)\n",
    "found = []\n",
    "SemEfeitoAposentadoria = core._dict['semEfeitoAposentadoria']"
   ]
  },
  {
   "cell_type": "code",
   "execution_count": 159,
   "metadata": {},
   "outputs": [
    {
     "data": {
      "text/plain": [
       "5"
      ]
     },
     "execution_count": 159,
     "metadata": {},
     "output_type": "execute_result"
    }
   ],
   "source": [
    "len(core._dict['semEfeitoAposentadoria']('', \n",
    "    txt=open('../pdf/results/txt/02-04-2019_canvas.txt').read()\n",
    ").acts_str)"
   ]
  },
  {
   "cell_type": "code",
   "execution_count": 160,
   "metadata": {},
   "outputs": [],
   "source": [
    "esub = core._dict['substituicao']\n",
    "\n",
    "all_subs = esub('', \n",
    "    txt=open('../pdf/results/txt/02-04-2019_canvas.txt').read()\n",
    ")\n",
    "\n",
    "t = open('../pdf/results/txt/02-04-2019_canvas.txt').read()\n",
    "\n",
    "lis = []\n",
    "for s in helper.sentencize_dodf(t):\n",
    "    res = esub('', txt=s)\n",
    "    if not res.data_frame.empty:\n",
    "        lis.extend(res.acts_str)"
   ]
  },
  {
   "cell_type": "code",
   "execution_count": 161,
   "metadata": {},
   "outputs": [
    {
     "name": "stdout",
     "output_type": "stream",
     "text": [
      "\n",
      "\t Designar SIDELE DE JESUS SILVEIRA, Ouvidora, matricula 1.691.643-3, ANTONIO CELIO\n",
      "RODRIGUES PIMENTEL, Chefe de Gabinete, matricula 1.689.965-7 e BARBARA GOMIDE\n",
      "ANDRADE, Chefe da Assessoria de Comunicacao, matricula 1.689.566-5, para sob a presidencia do\n",
      "primeiro comporem Grupo de Trabalho responsavel pela elaboracao e monitoramento da Carta de Servicos\n",
      "a Administracao Regional de Planaltina RA-VI, conforme Decreto no 36.419/2015 e reiterado pela Lei\n",
      "Federal no 13.460/2017\n",
      "\n",
      "\t Designar VILMAR AMANCIO DE OLIVEIRA, matricula n 175.676-1, para atuar como Executor\n",
      "e MARCELO ALVES DE SOUSA matricula n 1.690.189-4, como Executor Suplente, do contrato de\n",
      "prestacao de servicos de fornecimento de energia eletrica entre esta Administracao Regional do Guara e a\n",
      "CEB Distribuicao S/A (processo n137-00000630/2019-57)\n",
      "\n",
      "\t Designar RAIMUNDO FRANCISCO ALVES ABREU, matricula no 1.689.978-4, Gerente da\n",
      "Gerencia de Cultura, Esporte e Lazer, e RENATO ALEXANDRE CORTES JORGE, como executor e\n",
      "suplente, respectivamente, do ajuste firmado entre a Administracao Regional do SCIA e a Empresa CEB\n",
      "DISTRIBUICAO S/A, visando a execucao dos servicos de instalacao e retirada de 01(um) Ponto de\n",
      "Energia Trifasico de 70(setenta) Amperes e a instalacao e retirada de 04(quatro) Refletores de 1.000 Watts\n",
      "para atender as Comemoracoes festivas do Aniversario do Setor Complementar de Industria e\n",
      "Abastecimento - SCIA e Estrutural realizado no dia 23 de fevereiro de 2019, conforme processo sei no\n",
      "0306-00000151/2019-88\n",
      "\n",
      "\t Designar os servidores relacionados abaixo, para compor a Comissao Executora no Contrato\n",
      "no 38766/2019, celebrado entre o Distrito Federal, por intermedio desta Secretaria e a empresa\n",
      "INDUSTRIA DE AGUA MINERAL IBIA LTDA-ME, inscrita no CNPJ/MF no 05.655.158/0001-13,\n",
      "que tem por objeto a aquisicao de material de consumo: generos alimenticios e material de\n",
      "acondicionamento e embalagem, contemplando agua potavel de mesa, sem gas (vasilhame em regime\n",
      "de comodato) e garrafao retornavel, para fornecimento parcelado, a fim de atender a Secretaria de\n",
      "Estado de Fazenda, Planejamento, Orcamento e Gestao (SEFP), conforme especificacoes e condicoes\n",
      "constantes no Edital de Licitacao de Pregao Eletronico no 58/2018 - SCG/SEPLAG e seus anexos e\n",
      "na Proposta de Precos, a saber: 1\n",
      "\n",
      "\t Designar os servidores relacionados abaixo, com a indicacao das respectivas localidades, para\n",
      "atuarem como Executores do Contrato no 026/2013, celebrado entre o DISTRITO FEDERAL e a\n",
      "empresa REAL JG SERVICOS GERAIS EIRELI, que tem por objeto a prestacao de servicos\n",
      "continuados de limpeza, asseio e conservacao, nos proprios do Governo do Distrito Federal, com\n",
      "fornecimento de mao de obra, materiais e equipamentos, de acordo com as especificacoes\n",
      "estabelecidas no Anexo I do Edital de licitacao de pregao eletronico no 151/2012 - SULIC/SEPLAN,\n",
      "e respectivos anexos, referente ao Lote 10, conforme processo no 00410-000742/2013, a saber:\n",
      "1\n",
      "\n",
      "\t Designar os servidores relacionados abaixo, com a indicacao das respectivas localidades, para\n",
      "atuarem como Executores do Contrato no 05/2018, celebrado entre o Distrito Federal, e a empresa\n",
      "CENTRO DE INTEGRACAO EMPRESA ESCOLA (CIEE), cujo objeto e a contratacao de agente de\n",
      "integracao para operacionalizacao do Programa de Estagio da Secretaria de Estado de Fazenda,\n",
      "Planejamento, Orcamento e Gestao do Distrito Federal mediante concessao de Bolsa-Auxilio, a alunos\n",
      "regularmente matriculados e com frequencia efetiva em cursos de ensino regular, oferecidos por\n",
      "instituicoes de educacao superior, de educacao profissional, de ensino medio, da educacao especial,\n",
      "vinculados a estrutura do ensino publico e particular, Processo SEI no 00410-00015470/2017-10, a\n",
      "saber:\n",
      "1.RAIMUNDA IRIENE RODRIGUES TEIXEIRA BRAGA, Gestor em Politicas Publicas e Gestao\n",
      "Governamental, matricula no 137.164-9 e ROSANGELA GOMES SANTANA SOUSA, Gestor em\n",
      "Politicas Publicas e Gestao Governamental, matricula no 175.284-7, para atuarem, respectivamente,\n",
      "como  Executores Titular  e  Suplente  no ambito  da  SECRETARIA  DE ESTADO  DE\n",
      "DESENVOLVIMENTO ECONOMICO DO DISTRITO FEDERAL - SDE\n",
      "\n",
      "\t DESIGNAR EDMILSON\n",
      "AQUINO TEIXEIRA, matricula 113.644-5, ocupante do cargo de Tecnico Administrativo, para substituir\n",
      "o Chefe do Nucleo de Almoxarifado da Diretoria Administrativa do Hospital Materno Infantil de Brasilia\n",
      "da Secretaria de Estado de Saude do Distrito Federal, no periodo de 19/02/2019 a 28/02/2019, por motivo\n",
      "de ferias do titular\n",
      "\n",
      "\t DESIGNAR ELIANA DE SOUZA\n",
      "SARDEIRO, matricula 1.675.072-1, ocupante do cargo de Tecnico de Enfermagem, para substituir\n",
      "oficialmente o Chefe do Nucleo de Engenharia Clinica e Fisica Medica, da Gerencia de Apoio\n",
      "Operacional, da Diretoria Administrativa, do Hospital Materno Infantil de Brasilia, no periodo de\n",
      "01/04/2019 a 20/04/2019, por motivo de afastamento para gozo de ferias\n",
      "\n",
      "\t Designar como Executores do Contrato no 01/2018-FEPECS, cujo objeto e a prestacao de\n",
      "servico de publicacao institucional na imprensa oficial do Governo do Distrito Federal, Diario Oficial,\n",
      "de atos administrativos da FEPECS, MARIO DUTRA AMARAL, matricula 0274142-3 e LILIAN\n",
      "KARINA TAVEIRAS PADILHA, matricula 146805-7, como titular e substituta, respectivamente,\n",
      "conforme indicado no Processo: 00064-00000193/2018-18\n",
      "\n",
      "\t Designar DENILSON FAGUNDES DE SOUZA, matricula 36.137-2, Professor de Educacao\n",
      "Basica, para Presidente Suplente, e AISHA PAULO FONSECA, matricula 205.776-X, Professor de\n",
      "Educacao Basica, para Vogal Suplente da referida Comissao\n",
      "\n",
      "\t Designar LAYS CHRISTINE FERNANDES DA ROCHA, matricula 219.842-8, Analista de\n",
      "Gestao Direito e Legislacao, para na qualidade de Defensor Dativo, acompanhar, bem como apresentar\n",
      "defesa escrita no Processo Disciplinar no 465.000407/2015, que responde LUIS RENATO DE\n",
      "FREITAS VILELA, matricula 231.162-3 Professor de Educacao Basica, o qual foi devidamente Citado\n",
      "por Edital para acompanhar o referido processo, porem nao se apresentou no prazo legal\n",
      "\n",
      "\t Designar os empregados: ANA MARIA MOREIRA DA SILVA, matricula no 52.802-1, CARLOS\n",
      "ANDRE DOS SANTOS CARNEIRO MAC GINITY, matricula no 60.602-2, e AMANDA LISBOA\n",
      "MARTO RESENDE, matricula no 60.324-4, sob a coordenacao do primeiro membro\n",
      "\n",
      "\t Designar, como assistente tecnico, CHRISTINE BEATRIZ NASCIMENTO CARNEIRO\n",
      "PEREIRA, matricula no 273.584-9, lotada na Secretaria de Estado de Obras e Infraestrutura do Distrito\n",
      "Federal, para atuar na quantificacao dos danos referentes a Tomada de Contas Especial no 01/2018 -\n",
      "DFTRANS, instaurada pela Instrucao n 36, de 06 de marco de 2018\n",
      "\n",
      "\t Designar ALBERTO BOFF, matricula no 264.206-9, ANA CAROLINA RESENDE FROTA,\n",
      "matricula no 194.900-4 e BENEDITO ALBINO SILVA AZEVEDO, matricula no 176.423-3, para, sob a\n",
      "presidencia do primeiro, comporem a Comissao\n",
      "\n",
      "\t Designar ANA CAROLINA RESENDE FROTA, matricula no 194.900-4, para atuar como\n",
      "presidente nas ausencias do Titular\n",
      "\n",
      "\t Designar RAFAELLA NANTUA EVANGELISTA GIORDANO DE OLIVEIRA, matricula\n",
      "264.143-7, como Membro Suplente\n",
      "\n",
      "\t Designar AURILUCI DE OLIVEIRA COSTA, matricula no 180.481-2, CICERO LINDEMBERG\n",
      "ARAGAO VIEIRA, matricula no 264.102-X e MIRILANIA TAVARES DA ROCHA, matricula no\n",
      "260.001-3, para, sob a presidencia do primeiro, comporem a Comissao\n",
      "\n",
      "\t Designar CICERO LINDEMBERG ARAGAO VIEIRA, matricula no 264.102-X, para atuar como\n",
      "presidente nas ausencias do Titular\n",
      "\n",
      "\t Designar CLARISSA REGINA LIMA DA SILVA, matricula no 260.005-6, como membro suplente\n",
      "da Comissao\n",
      "\n",
      "\t DESIGNAR FRANCISCO\n",
      "FRANCINEUDO DE OLIVEIRA, matricula 0215255-X, para substituir o servidor ARLANIO\n",
      "DUARTE LIMA, matricula 0188685-1, no cargo de Diretor de Contratos\n",
      "e Convenios do\n",
      "Departamento de Estradas de Rodagem do Distrito Federal, Simbolo CNE 7, no periodo de\n",
      "06/05/2019 a 15/05/2019, por motivo de ferias regulamentares do titular do c a rg o \n",
      "\n",
      "\t DESIGNAR DENIS\n",
      "DANIEL DA SILVA matricula 193.489-9, para substituir o(a) servidor(a) ANA HILDA DO CARMO\n",
      "SILVA, matricula 94068-2, no cargo de Gerente de Licitacao da Superintendencia Administrativa e\n",
      "Financeira do Departamento de Estradas de Rodagem do Distrito Federal, Simbolo DFG-14 , no\n",
      "periodo de 28/02/2019 a 10/03/2019, por motivo de ferias regulamentares do titular do cargo\n",
      "\n",
      "\t Designar os servidores ANTONIO MARCOS RAMOS DE MORAIS, matricula 0188918-4, na\n",
      "funcao de Executor Titular, e Rafael Dos Santos Ferreira, matricula 93.695-2, na funcao de Suplente\n",
      "do Contrato no 017/2019, celebrado entre o Departamento de Estradas de Rodagem do Distrito Federal\n",
      "- DER/DF e a empresa MARELLI MOVEIS PARA ESCRITORIO S/A, cujo objeto e aquisicao de\n",
      "mobiliario destinado a suprir as necessidades do Departamento de Estradas e Rodagem do Distrito\n",
      "Federal - DER/DF, Processo SEI 00113-00003443/2019-11\n",
      "\n",
      "\t DESIGNAR KEILA NAARA FRAZAO MEDEIROS, matricula no 273.654-\n",
      "3, como substituto eventual do Cargo de Natureza Especial, Simbolo CNE-07, de Diretor, da Diretoria de\n",
      "Areas Economicas, da Subsecretaria de Programas e Incentivos Economicos, da Secretaria de Estado de\n",
      "Desenvolvimento Economico do Distrito Federal, no periodo de 08 a 17 de maio de 2019, por motivo de\n",
      "ferias regulares do titular\n",
      "\n",
      "\t Designar Comissao de Avaliacao para Selecao Interna das Agencias de Publicidade e Propaganda\n",
      "composta pelos servidores: NUBIA SANTOS DA CONCEICAO, matricula n 1689130-9, CPF no\n",
      "000.765.121-00, como presidente; LUCIA MARIA DI LORENZO LEAL, matricula no 1689146-5, CPF no\n",
      "772.720.486-20, como vice-presidente; DAISE DE MAGALHAES LISBOA, matricula n1689990-3, CPF\n",
      "no 128.879.781-87, como membro; MARILIA LUSTOSA FERREIRA, matricula 1690009-x, CPF no\n",
      "958.288.421-53, como membro; e SERGIO LUIZ DE SOUSA, matricula no 1689992-X, CPF no\n",
      "515.935.991-52, como Membro\n",
      "\n",
      "\t Designar EMIRTON DE ARAUJO CARVALHO, matricula 0383-2, como representante da\n",
      "EMATER-DF, para exercer a funcao de membro do referido Grupo de trabalho\n",
      "\n",
      "\t Designar VELSIO DE SOUSA MATOS matricula 1.660.429-6 e JOSE VOLTAIRE BRITO\n",
      "PEIXOTO matricula 1.689.412- X, para atuarem, respectivamente, como EXECUTOR e SUPLENTE, do\n",
      "Contrato para Aquisicao de Bens pelo Distrito Federal no 01/2019, que tem por objeto a aquisicao de\n",
      "1.120 (mil cento e vinte) KITS DE IRRIGACAO POR GOTEJAMENTO, por gravidade, cobertura de\n",
      "area de 500m2 (quinhentos metros quadrados) sistema de filtragem, tubos, conexoes e demais\n",
      "ferramentas necessarias para a montagem do sistema\n",
      "\n",
      "\t Designar para compor a CGPI: WILDER DA SILVA SANTOS, matricula no 1159, para exercer a\n",
      "funcao de Agente Setorial Patrimonial (ASP); NATALINO DE SOUZA NETO, matricula no 1066.9, para\n",
      "exercer a funcao de Agente Responsavel pelo Patrimonio Imobiliario (ARPI) e ALDEMIR ALVES\n",
      "OLIVEIRA, matricula 1117.7, para exercer a funcao de Agente Responsavel pela Manutencao Predial\n",
      "(ARMP)\n",
      "\n",
      "\t Designar a 2o TEN QOPMSM LEA CUNHA DE MORAES REGO Mat\n",
      "\n",
      "\t Designar, para a Comissao Central de Executores, o 2o TEN QOPMA GILDESIO ALVES DE\n",
      "OLIVEIRA, Mat\n",
      "\n",
      "\t DESIGNAR, o 2o SGT\n",
      "QPPMC ABEL BARBOSA DE OLIVEIRA, Mat\n",
      "\n",
      "\t DESIGNAR, para\n",
      "Comissao Central de Executores, o 3o SGT QPPMC FLAVIO MENDES DE OLIVEIRA, Mat\n",
      "\n",
      "\t DESIGNAR,\n",
      "para Comissao Central de Executores, o MAJ QOPM MARLOS ENDRIGO BARALDINI SILVA ,\n",
      "Mat.50.835-7, para a funcao de 1o membro\n",
      "\n",
      "\t Designar a SD QPPMC ANA ELISA RODRIGUES CAIXETA, Matr\n",
      "\n",
      "\t Designar AMANDA ROMEIRO MACEDO, matricula 184218-8; ISAEL CAETANO DE FARIA,\n",
      "matricula 878-8; FLAVIA MARIA ALVES LOPES, matricula 1178-9; e FABIO EDUARDO DE\n",
      "OLIVEIRA, matricula 250405-7, para, sob a presidencia da primeira, comporem a Comissao de definicao\n",
      "de procedimentos para Designacao e Pagamento da Banca Examinadora de Transito do Detran/DF\n",
      "\n",
      "\t Designar JANILSON LOPES CORREIA, matricula 250682-3, lotacao Dirtec, como Gestor\n",
      "Substituto do ajuste descrito no artigo anterior\n",
      "\n",
      "\t Designar BRUNO AURELIO BAZILIO GONCALVES, matricula 250346-8, PAULO DE\n",
      "TARSO SOARES PEREIRA, matricula 1432-X e LITO HAGA SILVA MENDES, matricula 904-0,\n",
      "todos com lotacao na Geren, como Comissao Gestora dos ajustes descritos no artigo anterior\n",
      "\n",
      "\t Designar LUIZ CARLOS SOUTO JUNIOR, matricula 660957, lotacao Dirpol, como Gestor\n",
      "Titular, e ARTHUR HENRIQUE ASSUNCAO MAGALHAES, matricula 835390, lotacao Dirpol, como\n",
      "Gestor substituto do ajuste descrito no artigo anterior\n",
      "\n",
      "\t DESIGNAR JOSE ALVES BEZERRA, Assistente de Transito, matricula\n",
      "741-2, para substituir PAULO SERGIO RODRIGUES, Assistente de Transito, matricula 1.200-9, chefe,\n",
      "simbolo DFG-12, do Nucleo de Atendimento de Habilitacao - Nuhab I, da Gerencia Regional de\n",
      "Transito de Brasilia - Gertran I, da Coordenacao geral de Atendimento ao Usuario - CGATE, da\n",
      "Diretoria de Controle de Veiculos e Condutores - Dirconv, do Detran/DF, no periodo de 04 a\n",
      "18/04/2019, por motivo de ferias do titular\n",
      "\n",
      "\t Designar TAIS BALDEZ CARVALHO SHIOZAKI, matricula no 217.933-4, em substituicao a\n",
      "JOSIMARA PEREIRA ALVES, matricula n 174.441-0, para atuar como executora titular do CONTRATO\n",
      "DE PRESTACAO DE SERVICOS No 06/2018/SEJUS, que trata da aquisicao de crachas, objeto do\n",
      "processo: 00400- 00004462/2018-58\n",
      "\n",
      "\t designar Comissao de Executores, para fiscalizacao e\n",
      "execucao dos servicos objeto do Contrato no 06/2019 - Processo no 0094-000739/2017, e o dever de\n",
      "garantir as condicoes minimas para o desenvolvimento adequado da execucao contratual, resolve:\n",
      "Art\n",
      "\n",
      "\t Designar os servidores EDMUNDO PACHECO GADELHA, matricula 83.550-1, FRANCISCO\n",
      "SOARES FILHO, matricula 81.635-3, GLAYSON LUIZ ALVARENGA CHAMICO, matricula 274.893-2\n",
      "e MARCO TULIO DOS SANTOS LOPES, matricula 273.570-9 para compor a comissao de executores do\n",
      "Contrato 06/2019, para atuarem na execucao das atividades administrativo financeiras e execucao das\n",
      "atividades tecnicas de engenharias, sendo que o servidor EDMUNDO PACHECO GADELHA atuara como\n",
      "Coordenador da Comissao, e na sua ausencia sera substituido pelo servidor FRANCISCO SOARES\n",
      "FILHO\n",
      "\n",
      "\t Designar HILDA MARIA NETO GONCALVES DA SILVA, matricula 197.402-5, CPF no\n",
      "859.216.701-97; ANTONIO DE PADUA ARAUJO, matricula 103.584-3, CPF no 247.714.653-04;\n",
      "EVANDRO MARCOS DE SOUZA MOREIRA, matricula 197.401-7, CPF no 900.733.635-53;\n",
      "servidores do Quadro de Pessoal da SEDS para requererem documentos a Secretaria da Receita Federal\n",
      "do Brasil, ao Instituto Nacional de Previdencia Social, a Procuradoria-Geral da Fazenda Nacional -\n",
      "PGFN, a Secretaria de Fazenda do Distrito Federal, ao Ministerio do Planejamento, Gestao e\n",
      "Orcamento, em nome da Secretaria de Estado de Desenvolvimento Social, CNPJ No 04.251.080/0001-\n",
      "09; renomeada pelo Decreto 39.610 de 01 de janeiro de 2019, bem como para Secretaria de Estado de\n",
      "Desenvolvimento Humano e Social, CNPJ: 00.394.734/0001-00; e do Fundo de Assistencia Social do\n",
      "Distrito Federal, CNPJ: 13.696.415/0001-93\n",
      "\n",
      "\t Designar ARTANI GRANGEIRO DA SILVA PEDROSA - Matricula no 0174925-0 - Gestora de\n",
      "Politicas Publicas e Gestao Governamental; AGHATTO AUGUSTO COSTA DOS SANTOS - Matricula no\n",
      "240.573-3 - Tecnico de Atividades Culturais e VENICIO EGIDIO DA SILVA - Matricula no 1650.349-7\n",
      "- Auxiliar de Atividades Culturais, como Executores para acompanhamento das contratacoes de servicos de\n",
      "remocao nao destrutiva das abelhas instaladas nos pilares do Centro de Danca, na parte interior da Caixa\n",
      "d'agua do Conjunto Cultural da Republica e na edificacao do Museu do Catetinho (reinfestacao), conforme\n",
      "processo SEI no 00.150.00000666/2019-53, competindo-lhes acompanhar e fiscalizar a execucao dos\n",
      "servicos em todas as fases, conforme paragrafos 1o e 2o do artigo 67, da Lei no 8.666, de 21 de junho de\n",
      "1993, combinando com artigo 41, paragrafo 5o, do Decreto no 32.598, de 15 de dezembro de 2010, bem\n",
      "como responsabilizar-se pelo cumprimento da Lei Distrital no 5.163/2013, fazendo juntar no Relatorio\n",
      "fotografias e/ou videos da placa informativa contendo as informacoes necessarias do projeto/evento, tais\n",
      "como valor do recursos publicos, o orgao responsavel pela contratacao e a pessoa fisica ou juridica\n",
      "contratada\n",
      "\n",
      "\t Designar CASSIO JOSE BENETTI - Matricula no 240574-1 - Tecnico de Atividades Culturais e\n",
      "LUCAS EVARISTO DAMASCENO - Matricula no 238602-X - Tecnico de Atividades Culturais, como\n",
      "Executores para acompanhamento TERMO DE AUTORIZACAO DE USO No 10/2019, conforme\n",
      "processo SEI no 00.150.00000940/2019-94, competindo-lhes acompanhar e fiscalizar a execucao dos\n",
      "servicos em todas as fases, conforme paragrafos 1o e 2o do artigo 67, da Lei no 8.666, de 21 de junho de\n",
      "1993, combinando com artigo 41, paragrafo 5o, do Decreto no 32.598, de 15 de dezembro de 2010, bem\n",
      "como responsabilizar-se pelo cumprimento da Lei Distrital no 5.163/2013, fazendo juntar no Relatorio\n",
      "fotografias e/ou videos da placa informativa contendo as informacoes necessarias do projeto/evento, tais\n",
      "como valor do recursos publicos, o orgao responsavel pela contratacao e a pessoa fisica ou juridica\n",
      "contratada\n",
      "\n",
      "\t Designar AGHATTO AUGUSTO COSTA DOS SANTOS, Matricula 240.573-3 - tecnico de\n",
      "atividades culturais, como Executor para acompanhamento do TERMO DE AUTORIZACAO DE USO No\n",
      "15/2019-SEC conforme processo SEI no 00150-00001057/2019-11, competindo-lhe acompanhar e\n",
      "fiscalizar a execucao dos servicos em todas as fases, conforme paragrafos 1o e 2o do artigo 67, da Lei no\n",
      "8.666, de 21 de junho de 1993, combinando com artigo 41, paragrafo 5o, do Decreto no 32.598, de 15 de\n",
      "dezembro de 2010, bem como responsabilizar-se pelo cumprimento da Lei Distrital no 5.163/2013, fazendo\n",
      "juntar no Relatorio fotografias e/ou videos da placa informativa contendo as informacoes necessarias do\n",
      "projeto/evento, tais como valor do recursos publicos, o orgao responsavel pela contratacao e a pessoa fisica\n",
      "ou juridica contratada\n",
      "\n",
      "\t Designar CASSIO JOSE BENETTI - matricula 240574-1 e LUCAS EVARISTO DAMASCENO -\n",
      "matricula 238602-X, como Executores para acompanhamento da realizacao do II Festival de Filmes Curta-\n",
      "Metragem das Escolas Publicas de Planaltina, conforme processo SEI no 00080-00033277/2019-49,\n",
      "competindo-lhes acompanhar e fiscalizar a execucao dos servicos em todas as fases, conforme paragrafos\n",
      "1o e 2o do artigo 67, da Lei no 8.666, de 21 de junho de 1993, combinando com artigo 41, paragrafo 5o,\n",
      "do Decreto no 32.598, de 15 de dezembro de 2010, bem como responsabilizar-se pelo cumprimento da Lei\n",
      "Distrital no 5.163/2013, fazendo juntar no Relatorio fotografias e/ou videos da placa informativa contendo\n",
      "as informacoes necessarias do projeto/evento, tais como valor do recursos publicos, o orgao responsavel\n",
      "pela contratacao e a pessoa fisica ou juridica contratada\n",
      "\n",
      "\t Designar SAMIA LANNA DA COSTA FERNANDES - Matricula no 172.208-5 - Analista de\n",
      "Politicas Publicas, como Executora, para acompanhamento da Formatura Militar no Auditorio do Cine\n",
      "Brasilia, localizado na entre quadras 106/107 sul, conforme processo SEI no 00054.00022337/2019-05,\n",
      "competindo-lhe acompanhar e fiscalizar a execucao dos servicos em todas as fases, conforme paragrafos\n",
      "1o e 2o do artigo 67, da Lei no 8.666, de 21 de junho de 1993, combinando com artigo 41, paragrafo 5o,\n",
      "do Decreto no 32.598, de 15 de dezembro de 2010, bem como responsabilizar-se pelo cumprimento da Lei\n",
      "Distrital no 5.163/2013, fazendo juntar no Relatorio fotografias e/ou videos da placa informativa contendo\n",
      "as informacoes necessarias do projeto/evento, tais como valor do recursos publicos, o orgao responsavel\n",
      "pela contratacao e a pessoa fisica ou juridica contratada\n",
      "\n",
      "\t Designar JOSELITO DA SILVA IMAFUKO - Chefe do Nucleo de Reparo Tecnico - Matricula no\n",
      "242702-8, como Executor para acompanhamento da contratacao de empresa especializada no fornecimento\n",
      "de equipamentos e servicos para a manutencao corretiva do sistema de grupo gerador de energia eletrica\n",
      "de emergencia das edificacoes do TNCS e Anexo, conforme processo SEI no 00.150.002482/2017,\n",
      "competindo-lhe acompanhar e fiscalizar a presente contratacao em todas as fases, conforme paragrafos 1o\n",
      "e 2o do artigo 67, da Lei no 8.666, de 21 de junho de 1993, combinando com artigo 41, paragrafo 5o, do\n",
      "Decreto no 32.598, de 15 de dezembro de 2010, bem como responsabilizar-se pelo cumprimento da Lei\n",
      "Distrital no 5.163/2013,se for o caso\n",
      "\n",
      "\t Designar para compor o Grupo de Trabalho os servidores listados a seguir: I - DANIELA RIBEIRO BYK PACHECO, matricula no 175.435-1, na qualidade de representante da Ouvidoria; II - LUCIANE RISSATO, matricula no 223.889-6, na qualidade de representante do Planejamento; III - MARIANA GOMES SASAKI, matricula no 224.115-3, na qualidade de representante da Assessoria de Comunicacao; Paragrafo unico\n",
      "\n"
     ]
    }
   ],
   "source": [
    "print(all_subs._file_name)\n",
    "for act in all_subs.acts_str:\n",
    "    print('\\t', act, end='\\n\\n')"
   ]
  },
  {
   "cell_type": "code",
   "execution_count": 162,
   "metadata": {},
   "outputs": [
    {
     "name": "stdout",
     "output_type": "stream",
     "text": [
      "\t Designar os servidores relacionados abaixo, com a indicacao das respectivas localidades, para\n",
      "atuarem como Executores do Contrato no 05/2018, celebrado entre o Distrito Federal, e a empresa\n",
      "CENTRO DE INTEGRACAO EMPRESA ESCOLA (CIEE), cujo objeto e a contratacao de agente de\n",
      "integracao para operacionalizacao do Programa de Estagio da Secretaria de Estado de Fazenda,\n",
      "Planejamento, Orcamento e Gestao do Distrito Federal mediante concessao de Bolsa-Auxilio, a alunos\n",
      "regularmente matriculados e com frequencia efetiva em cursos de ensino regular, oferecidos por\n",
      "instituicoes de educacao superior, de educacao profissional, de ensino medio, da educacao especial,\n",
      "vinculados a estrutura do ensino publico e particular, Processo SEI no 00410-00015470/2017-10, a\n",
      "saber:\n",
      "1.RAIMUNDA IRIENE RODRIGUES TEIXEIRA BRAGA, Gestor em Politicas Publicas e Gestao\n",
      "Governamental, matricula no 137.164-9 e ROSANGELA GOMES SANTANA SOUSA, Gestor em\n",
      "Politicas Publicas e Gestao Governamental, matricula no 175.284-7, para atuarem, respectivamente,\n",
      "como  Executores Titular  e  Suplente  no ambito  da  SECRETARIA  DE ESTADO  DE\n",
      "DESENVOLVIMENTO ECONOMICO DO DISTRITO FEDERAL - SDE\n",
      "\n",
      "\n",
      "\t Designar a 2o TEN QOPMSM LEA CUNHA DE MORAES REGO Mat\n",
      "\n",
      "\n",
      "\t Designar, para a Comissao Central de Executores, o 2o TEN QOPMA GILDESIO ALVES DE\n",
      "OLIVEIRA, Mat\n",
      "\n",
      "\n",
      "\t DESIGNAR, o 2o SGT\n",
      "QPPMC ABEL BARBOSA DE OLIVEIRA, Mat\n",
      "\n",
      "\n",
      "\t DESIGNAR, para\n",
      "Comissao Central de Executores, o 3o SGT QPPMC FLAVIO MENDES DE OLIVEIRA, Mat\n",
      "\n",
      "\n",
      "\t Designar a SD QPPMC ANA ELISA RODRIGUES CAIXETA, Matr\n",
      "\n",
      "\n",
      "\t designar Comissao de Executores, para fiscalizacao e\n",
      "execucao dos servicos objeto do Contrato no 06/2019 - Processo no 0094-000739/2017, e o dever de\n",
      "garantir as condicoes minimas para o desenvolvimento adequado da execucao contratual, resolve:\n",
      "Art\n",
      "\n",
      "\n"
     ]
    }
   ],
   "source": [
    "for i in lis:\n",
    "    print('\\t', i, end='\\n\\n\\n')"
   ]
  },
  {
   "cell_type": "code",
   "execution_count": null,
   "metadata": {},
   "outputs": [],
   "source": []
  },
  {
   "cell_type": "code",
   "execution_count": 163,
   "metadata": {},
   "outputs": [
    {
     "data": {
      "text/plain": [
       "7"
      ]
     },
     "execution_count": 163,
     "metadata": {},
     "output_type": "execute_result"
    }
   ],
   "source": [
    "len(lis)"
   ]
  },
  {
   "cell_type": "code",
   "execution_count": 164,
   "metadata": {},
   "outputs": [
    {
     "name": "stdout",
     "output_type": "stream",
     "text": [
      "/home/leomaffei/Desktop/projeto-ia-unb/experiments/members/maffei/acts-classification/csv_better\r\n"
     ]
    }
   ],
   "source": [
    "!pwd"
   ]
  },
  {
   "cell_type": "code",
   "execution_count": 167,
   "metadata": {
    "collapsed": true
   },
   "outputs": [
    {
     "data": {
      "text/plain": [
       "(                                                   X  y\n",
       " 0                              02-04-2019_canvas.txt  0\n",
       " 1                              2020_04_30_canvas.txt  0\n",
       " 2  NOMEAR ANA MARIA DE LIMA RODRIGUES, Auditor-Fi...  1\n",
       " 3  NOMEAR ANDRE WILLIAM NARDES MENDES, Auditor-Fi...  1\n",
       " 4  NOMEAR GERIVALDO ALVES MAGALHAES, Auditor-Fisc...  1,\n",
       " 1    1131\n",
       " 0       2\n",
       " Name: y, dtype: int64)"
      ]
     },
     "execution_count": 167,
     "metadata": {},
     "output_type": "execute_result"
    }
   ],
   "source": [
    "df_sea = pd.DataFrame()\n",
    "\n",
    "# not_sea = {'X': sents, 'y': len(sents) * [0]}\n",
    "not_sea = {'X': [], 'y': []}\n",
    "\n",
    "for s in sents:\n",
    "    not_sea['X'].append(s)\n",
    "    if 'PROCESSO' in s or re.search(r'\\bresolve\\b', s):\n",
    "        not_sea['y'].append(1)\n",
    "    else:\n",
    "        not_sea['y'].append(0)\n",
    "        \n",
    "\n",
    "for k in df_text:\n",
    "    for t in sent_dict[k]:\n",
    "        not_sea['X'].append(t)\n",
    "        not_sea['y'].append(1)\n",
    "\n",
    "df_sea = pd.DataFrame(not_sea)\n",
    "df_sea.head(), df_sea.y.value_counts()"
   ]
  },
  {
   "cell_type": "code",
   "execution_count": 168,
   "metadata": {},
   "outputs": [
    {
     "data": {
      "text/plain": [
       "1    1131\n",
       "0       2\n",
       "Name: y, dtype: int64"
      ]
     },
     "execution_count": 168,
     "metadata": {},
     "output_type": "execute_result"
    }
   ],
   "source": [
    "# label transformer (One vs ALL)\n",
    "# df_sea['y'] = df_sea.y.apply(\n",
    "#     lambda x: 1 if x == 'SemEfeitoAposentadoria' else 0)\n",
    "\n",
    "# df_sea['y'] = LabelEncoder().fit_transform(df_sea.y)\n",
    "# df_sea.y = 1\n",
    "df_sea.y.value_counts()"
   ]
  },
  {
   "cell_type": "code",
   "execution_count": null,
   "metadata": {},
   "outputs": [],
   "source": [
    "processos = [i for i in sents if 'PROCESSO' in i]\n",
    "processos"
   ]
  }
 ],
 "metadata": {
  "kernelspec": {
   "display_name": "Python 3",
   "language": "python",
   "name": "python3"
  },
  "language_info": {
   "codemirror_mode": {
    "name": "ipython",
    "version": 3
   },
   "file_extension": ".py",
   "mimetype": "text/x-python",
   "name": "python",
   "nbconvert_exporter": "python",
   "pygments_lexer": "ipython3",
   "version": "3.8.1"
  }
 },
 "nbformat": 4,
 "nbformat_minor": 4
}
