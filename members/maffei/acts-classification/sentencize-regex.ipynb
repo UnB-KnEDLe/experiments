{
 "cells": [
  {
   "cell_type": "code",
   "execution_count": 14,
   "metadata": {},
   "outputs": [],
   "source": [
    "import re\n",
    "import glob\n",
    "from itertools import zip_longest\n",
    "\n",
    "import fitz\n",
    "import hierarchy"
   ]
  },
  {
   "cell_type": "code",
   "execution_count": 15,
   "metadata": {},
   "outputs": [],
   "source": [
    "_reg = re.compile(r'(?!\\d\\s)([.])\\s(?=[A-Z])')\n",
    "def sentencize_dodf(s):\n",
    "    sents = re.split(_reg, s)\n",
    "    return [i[0] + (i[1] if not i[0].endswith('.') else '.') for i in\n",
    "        zip_longest(sents[0::2], sents[1::2], fillvalue='.')]\n",
    "\n",
    "def spaced_letters_fix(s):\n",
    "    mts = re.split(r'((?:[A-ZÀ-Ž]{1,2}\\s){3,})', s)\n",
    "    offset = 0\n",
    "    lis = [ s[:offset] ]\n",
    "    for text, spaced in zip_longest(mts[0::2], mts[1::2], fillvalue=''):\n",
    "        lis.append(text)\n",
    "        lis.append(spaced.replace(' ', ''))\n",
    "        lis.append(' ')\n",
    "    lis.pop()    # last space is extra\n",
    "    return ''.join(lis)\n",
    "\n",
    "\n",
    "\n",
    "def drop_parenthesis(s):\n",
    "    lis = re.split(r'([()])', s)\n",
    "    ext_lis = lis + ['(']\n",
    "    acc = 0\n",
    "    new = []\n",
    "    for tex, par in zip(ext_lis[0::2], ext_lis[1::2]):\n",
    "        if tex:\n",
    "            if not acc:\n",
    "                new.append(tex)\n",
    "        acc += (1 if par == '(' else -1)\n",
    "    return ''.join(new)\n",
    "\n",
    "def preprocess(s):\n",
    "    s = drop_parenthesis(s)\n",
    "    s = spaced_letters_fix(s)\n",
    "    s = re.sub(r'\\s{2,}', ' ', s)\n",
    "    return s\n"
   ]
  },
  {
   "cell_type": "code",
   "execution_count": 16,
   "metadata": {},
   "outputs": [],
   "source": [
    "files = glob.glob('pdf/*.pdf')\n",
    "# files"
   ]
  },
  {
   "cell_type": "code",
   "execution_count": 17,
   "metadata": {},
   "outputs": [],
   "source": [
    "doc_pdf = fitz.open(files[5])\n",
    "h = hierarchy.mount_hierarchy(doc_pdf)\n",
    "hierarchy.post_process_hierarchy(h);"
   ]
  },
  {
   "cell_type": "code",
   "execution_count": 18,
   "metadata": {},
   "outputs": [],
   "source": [
    "s = h['SEÇÃO I'][0][1][0][1]\n",
    "# s"
   ]
  },
  {
   "cell_type": "code",
   "execution_count": 19,
   "metadata": {},
   "outputs": [
    {
     "name": "stdout",
     "output_type": "stream",
     "text": [
      "DECRETO Nº 40.674, DE 02 DE MAIO DE 2020\n",
      "\n",
      "\n",
      "Altera o Decreto nº 40.583, de 1º de abril de 2020, que dispõe sobre as medidas para \n",
      "\n",
      "\n",
      "enfrentamento da emergência de saúde pública de importância internacional decorrente do \n",
      "\n",
      "\n",
      "novo coronavírus.\n",
      "\n",
      "\n",
      "O GOVERNADOR DO DISTRITO FEDERAL, no uso das atribuições que lhe conferem \n",
      "\n",
      "\n",
      "o artigo 100, incisos VII e XXVI, da Lei Orgânica do Distrito Federal, DECRETA:\n",
      "\n",
      "\n",
      "Art. 1º O Decreto nº 40.583, de 1º de abril de 2020, passa a vigorar com a seguinte \n",
      "\n",
      "\n",
      "alteração:\n",
      "\n",
      "\n",
      "“Art. 3º Ficam suspensos, no âmbito do Distrito Federal, até o dia 10 de maio de 2020:\n",
      "\n",
      "\n",
      ".............................................” (NR)\n",
      "\n",
      "\n",
      "Art. 2º Este Decreto entra em vigor na data de sua publicação.\n",
      "\n",
      "\n",
      "Brasília, 02 de maio de 2020.\n",
      "\n",
      "\n"
     ]
    }
   ],
   "source": [
    "\n",
    "for i in s[:-2]:\n",
    "    print(i)\n",
    "    print('\\n')"
   ]
  },
  {
   "cell_type": "code",
   "execution_count": 20,
   "metadata": {
    "scrolled": true
   },
   "outputs": [
    {
     "name": "stdout",
     "output_type": "stream",
     "text": [
      "Brasília, 02 de maio de 2020..\n",
      "\n",
      "\n",
      "CPU times: user 2.39 ms, sys: 0 ns, total: 2.39 ms\n",
      "Wall time: 1.85 ms\n"
     ]
    }
   ],
   "source": [
    "%%time\n",
    "sentences = sentencize_dodf(i)\n",
    "for sent in sentences:\n",
    "    print(sent, end='\\n\\n\\n')"
   ]
  },
  {
   "cell_type": "code",
   "execution_count": 21,
   "metadata": {
    "scrolled": true
   },
   "outputs": [
    {
     "name": "stdout",
     "output_type": "stream",
     "text": [
      "Brasília, 02 de maio de 2020..\n",
      "----\n"
     ]
    }
   ],
   "source": [
    "reg = r'[.:;]\\s(?=[A-Z])'\n",
    "l = [''.join(tup) for tup in\n",
    "    zip_longest(re.split(reg, i), re.findall(reg, i), fillvalue='.')\n",
    "]\n",
    "for _ in l:\n",
    "    print(_)\n",
    "    print('----')"
   ]
  },
  {
   "cell_type": "code",
   "execution_count": 22,
   "metadata": {},
   "outputs": [],
   "source": [
    "dic=hierarchy.hierarchy_text(h)\n",
    "del dic['SEÇÃO 0']\n",
    "tt = []\n",
    "for v in dic.values():\n",
    "    tt.extend(v)\n",
    "lis = [i for i in tt if not i == i.upper()]\n",
    "no_break = [i.replace('\\n', ' ') for i in lis]"
   ]
  },
  {
   "cell_type": "code",
   "execution_count": 23,
   "metadata": {},
   "outputs": [
    {
     "data": {
      "text/plain": [
       "['novo coronavírus..']"
      ]
     },
     "execution_count": 23,
     "metadata": {},
     "output_type": "execute_result"
    }
   ],
   "source": [
    "sentencize_dodf(preprocess( no_break[2] ))"
   ]
  },
  {
   "cell_type": "code",
   "execution_count": 24,
   "metadata": {},
   "outputs": [
    {
     "data": {
      "text/plain": [
       "['O GOVERNADOR DO DISTRITO FEDERAL, no uso das atribuições que lhe conferem .']"
      ]
     },
     "execution_count": 24,
     "metadata": {},
     "output_type": "execute_result"
    }
   ],
   "source": [
    "sentencize_dodf(preprocess( no_break[3] ))"
   ]
  },
  {
   "cell_type": "code",
   "execution_count": 25,
   "metadata": {},
   "outputs": [
    {
     "data": {
      "text/plain": [
       "['Altera o Decreto nº 40.583, de 1º de abril de 2020, que dispõe sobre as medidas para ',\n",
       " 'enfrentamento da emergência de saúde pública de importância internacional decorrente do ',\n",
       " 'novo coronavírus.',\n",
       " 'O GOVERNADOR DO DISTRITO FEDERAL, no uso das atribuições que lhe conferem ',\n",
       " 'o artigo 100, incisos VII e XXVI, da Lei Orgânica do Distrito Federal, DECRETA:',\n",
       " 'Art. 1º O Decreto nº 40.583, de 1º de abril de 2020, passa a vigorar com a seguinte ',\n",
       " 'alteração:',\n",
       " '“Art. 3º Ficam suspensos, no âmbito do Distrito Federal, até o dia 10 de maio de 2020:',\n",
       " 'Art. 2º Este Decreto entra em vigor na data de sua publicação.',\n",
       " 'Brasília, 02 de maio de 2020.',\n",
       " '132º da República e 61º de Brasília',\n",
       " 'A Subsecretaria de Administração Geral – SUAG/SES comunica, por meio do Ofício N° ',\n",
       " '801/2020,  a  abertura  para  recebimento  de  propostas  referente  à',\n",
       " 'Redação, Administração e Editoração:  Anexo do Palácio do Buriti, Sala 102, Térreo.  CEP: 70075-900, Brasília/DF.  Telefones: (0XX61) 3961-4503 - 3961-4596 ',\n",
       " 'Contratação emergencial de empresa especializada para execução de serviços ',\n",
       " 'laboratoriais de análises clínicas, para realização de 100.000 Testes Rápidos ',\n",
       " 'para Coronavírus COVID-19 IgG e IgM, no intervalo de 15 dias, englobando ',\n",
       " 'todos recursos humanos habilitados, estrutura física tipo Drive Thru, ',\n",
       " 'gerenciamento de resíduos, alimentação, gerenciamento de dados, emissão de ',\n",
       " 'resultado físico e eletrônico conforme especificações do Projeto Básico para ',\n",
       " 'enfrentamento ao COVID-19 e atendimento da necessidade da SES-DF, nos ',\n",
       " 'termos da Lei nº 13.979 de 6 de fevereiro de 2020, processo nº 00060-',\n",
       " '00180684/2020-52 - SES/DF (S.E.I.). O recebimento das propostas será até às ',\n",
       " '15h do dia 04 de maio de 2020, por meio eletrônico através do e-mail ',\n",
       " 'dispensadelicitacao.sesdf@gmail.com. O Ofício de convocação e o Projeto ',\n",
       " 'Básico deverão ser solicitados através do mesmo e-mail de envio das propostas.',\n",
       " 'Subsecretário de Administração Geral',\n",
       " 'A Subsecretaria de Administração Geral – SUAG/SES comunica, por meio do ',\n",
       " 'Ofício N° 802/2020, a abertura para recebimento de propostas referente à ',\n",
       " 'Aquisição emergencial de 50.000 (cinquenta mil) Testes Rápidos para ',\n",
       " 'detecção qualitativa específica de IgG e IgM do COVID-19 conforme ',\n",
       " 'especificações do Projeto Básico para enfrentamento ao COVID-19 e ',\n",
       " 'atendimento da necessidade da SES-DF, nos termos da Lei nº 13.979 de 6 de ',\n",
       " 'fevereiro de 2020, processo nº 00060-00159341/2020-29 - SES/DF (S.E.I.). O ',\n",
       " 'recebimento das propostas será até às 15h do dia 04 de maio de 2020, por ',\n",
       " 'meio eletrônico através do e-mail dispensadelicitacao.sesdf@gmail.com. O ',\n",
       " 'Ofício de convocação e o Projeto Básico deverão ser solicitados através do ',\n",
       " 'mesmo e-mail de envio das propostas.',\n",
       " 'Subsecretário de Administração Geral',\n",
       " 'Governador',\n",
       " 'Vice-Governador',\n",
       " 'Secretário de Estado Chefe da Casa Civil',\n",
       " 'Subsecretária de Atos Oficiais',\n",
       " 'Subsecretário de Tecnologia da Informação']"
      ]
     },
     "execution_count": 25,
     "metadata": {},
     "output_type": "execute_result"
    }
   ],
   "source": [
    "no_break"
   ]
  }
 ],
 "metadata": {
  "kernelspec": {
   "display_name": "Python 3",
   "language": "python",
   "name": "python3"
  },
  "language_info": {
   "codemirror_mode": {
    "name": "ipython",
    "version": 3
   },
   "file_extension": ".py",
   "mimetype": "text/x-python",
   "name": "python",
   "nbconvert_exporter": "python",
   "pygments_lexer": "ipython3",
   "version": "3.8.1"
  }
 },
 "nbformat": 4,
 "nbformat_minor": 4
}
