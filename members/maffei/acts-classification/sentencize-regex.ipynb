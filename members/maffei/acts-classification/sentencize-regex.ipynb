{
 "cells": [
  {
   "cell_type": "code",
   "execution_count": null,
   "metadata": {},
   "outputs": [],
   "source": [
    "import re\n",
    "import glob\n",
    "from itertools import zip_longest\n",
    "\n",
    "import fitz\n",
    "import hierarchy"
   ]
  },
  {
   "cell_type": "code",
   "execution_count": null,
   "metadata": {},
   "outputs": [],
   "source": [
    "_reg = re.compile(r'(?!\\d\\s)([.])\\s(?=[A-Z])')\n",
    "def sentencize_dodf(s):\n",
    "    sents = re.split(_reg, s)\n",
    "    return [i[0] + (i[1] if not i[0].endswith('.') else '.') for i in\n",
    "        zip_longest(sents[0::2], sents[1::2], fillvalue='.')]\n",
    "\n",
    "def spaced_letters_fix(s):\n",
    "    mts = re.split(r'((?:[A-ZÀ-Ž]{1,2}\\s){3,})', s)\n",
    "    offset = 0\n",
    "    lis = [ s[:offset] ]\n",
    "    for text, spaced in zip_longest(mts[0::2], mts[1::2], fillvalue=''):\n",
    "        lis.append(text)\n",
    "        lis.append(spaced.replace(' ', ''))\n",
    "        lis.append(' ')\n",
    "    lis.pop()    # last space is extra\n",
    "    return ''.join(lis)\n",
    "\n",
    "\n",
    "\n",
    "def drop_parenthesis(s):\n",
    "    lis = re.split(r'([()])', s)\n",
    "    ext_lis = lis + ['(']\n",
    "    acc = 0\n",
    "    new = []\n",
    "    for tex, par in zip(ext_lis[0::2], ext_lis[1::2]):\n",
    "        if tex:\n",
    "            if not acc:\n",
    "                new.append(tex)\n",
    "        acc += (1 if par == '(' else -1)\n",
    "    return ''.join(new)\n",
    "\n",
    "def preprocess(s):\n",
    "    s = drop_parenthesis(s)\n",
    "    s = spaced_letters_fix(s)\n",
    "    s = re.sub(r'\\s{2,}', ' ', s)\n",
    "    return s\n"
   ]
  },
  {
   "cell_type": "code",
   "execution_count": null,
   "metadata": {},
   "outputs": [],
   "source": [
    "files = glob.glob('pdf/*.pdf')\n",
    "# files"
   ]
  },
  {
   "cell_type": "code",
   "execution_count": null,
   "metadata": {},
   "outputs": [],
   "source": [
    "doc_pdf = fitz.open(files[5])\n",
    "h = hierarchy.mount_hierarchy(doc_pdf)\n",
    "hierarchy.post_process_hierarchy(h);"
   ]
  },
  {
   "cell_type": "code",
   "execution_count": null,
   "metadata": {},
   "outputs": [],
   "source": [
    "s = h['SEÇÃO I'][0][1][0][1]\n",
    "# s"
   ]
  },
  {
   "cell_type": "code",
   "execution_count": null,
   "metadata": {},
   "outputs": [],
   "source": [
    "\n",
    "for i in s[:-2]:\n",
    "    print(i)\n",
    "    print('\\n')"
   ]
  },
  {
   "cell_type": "code",
   "execution_count": null,
   "metadata": {
    "scrolled": true
   },
   "outputs": [],
   "source": [
    "%%time\n",
    "sentences = sentencize_dodf(i)\n",
    "for sent in sentences:\n",
    "    print(sent, end='\\n\\n\\n')"
   ]
  },
  {
   "cell_type": "code",
   "execution_count": null,
   "metadata": {
    "scrolled": true
   },
   "outputs": [],
   "source": [
    "reg = r'[.:;]\\s(?=[A-Z])'\n",
    "l = [''.join(tup) for tup in\n",
    "    zip_longest(re.split(reg, i), re.findall(reg, i), fillvalue='.')\n",
    "]\n",
    "for _ in l:\n",
    "    print(_)\n",
    "    print('----')"
   ]
  },
  {
   "cell_type": "code",
   "execution_count": null,
   "metadata": {},
   "outputs": [],
   "source": [
    "dic=hierarchy.hierarchy_text(h)\n",
    "del dic['SEÇÃO 0']\n",
    "tt = []\n",
    "for v in dic.values():\n",
    "    tt.extend(v)\n",
    "lis = [i for i in tt if not i == i.upper()]\n",
    "no_break = [i.replace('\\n', ' ') for i in lis]"
   ]
  },
  {
   "cell_type": "code",
   "execution_count": null,
   "metadata": {},
   "outputs": [],
   "source": [
    "sentencize_dodf(preprocess( no_break[2] ))"
   ]
  },
  {
   "cell_type": "code",
   "execution_count": null,
   "metadata": {},
   "outputs": [],
   "source": [
    "sentencize_dodf(preprocess( no_break[3] ))"
   ]
  },
  {
   "cell_type": "code",
   "execution_count": null,
   "metadata": {},
   "outputs": [],
   "source": [
    "no_break"
   ]
  }
 ],
 "metadata": {
  "kernelspec": {
   "display_name": "Python 3",
   "language": "python",
   "name": "python3"
  },
  "language_info": {
   "codemirror_mode": {
    "name": "ipython",
    "version": 3
   },
   "file_extension": ".py",
   "mimetype": "text/x-python",
   "name": "python",
   "nbconvert_exporter": "python",
   "pygments_lexer": "ipython3",
   "version": "3.8.1"
  }
 },
 "nbformat": 4,
 "nbformat_minor": 4
}
