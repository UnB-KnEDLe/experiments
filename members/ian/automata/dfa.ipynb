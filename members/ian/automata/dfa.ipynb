{
 "cells": [
  {
   "cell_type": "code",
   "execution_count": 1,
   "metadata": {},
   "outputs": [],
   "source": [
    "import glob\n",
    "import re\n",
    "import pandas as pd\n",
    "from yattag import Doc\n",
    "import unicodedata"
   ]
  },
  {
   "cell_type": "code",
   "execution_count": 2,
   "metadata": {},
   "outputs": [],
   "source": [
    "doc, tag, text = Doc().tagtext()\n",
    "txt_file = glob.glob('dodf/*.txt')\n",
    "\n",
    "all_contracts = []\n",
    "\n",
    "for txt in txt_file:\n",
    "    instance = re.findall(r'[\\s\\S]+', \n",
    "                unicodedata.normalize('NFKD', open(txt, encoding='utf-8').read()))\n",
    "    \n",
    "    instance = instance[0].split('<END_OF_BLOCK>\\nSECAO III\\n')\n",
    "    all_contracts.append(instance[-1])\n",
    "\n",
    "secao_3 = []\n",
    "\n",
    "for contract in all_contracts:\n",
    "    secao_3.append(contract.split('\\n'))\n"
   ]
  },
  {
   "cell_type": "markdown",
   "metadata": {},
   "source": [
    "### DFA\n",
    "\n",
    "- l = lista com toda a seção 3 de um único dodf \n",
    "- i = posição atual da lista l -> inicia-se com 0\n",
    "- l_acts = lista vazia que será preenchida com os atos\n",
    "- j = posição atual da lista l_acts -> inicia-se com 0\n",
    "- regex = regex do ato que está sendo procurado"
   ]
  },
  {
   "cell_type": "code",
   "execution_count": 4,
   "metadata": {},
   "outputs": [],
   "source": [
    "def q0(l, i, l_acts, j, regex):\n",
    "    \"\"\"Estado que procura por um aviso de abertura\"\"\"\n",
    "\n",
    "    if i == len(l):\n",
    "        return\n",
    "\n",
    "    if re.match(regex, l[i]):\n",
    "        l_acts.append(l[i])\n",
    "        q1(l, i + 1, l_acts, j, regex)\n",
    "\n",
    "    else:\n",
    "        q0(l, i + 1, l_acts, j, regex)\n",
    "\n",
    "\n",
    "def q1(l, i, l_acts, j, regex):\n",
    "    \"\"\"Estado que procura a continuação do aviso de abertura\"\"\"\n",
    "\n",
    "    if i == len(l)-1:\n",
    "        return\n",
    "\n",
    "    regex_s = r'AVISOS?|EXTRATOS?|RESULTADOS?|SECRETARIA'\n",
    "\n",
    "    if not re.match(regex, l[i]) and re.match(regex_s, l[i]) and ('<END_OF_BLOCK>' in l[i+1] or '<END_OF_BLOCK>' in l[i+2]):\n",
    "        q0(l, i + 1, l_acts, j + 1, regex)\n",
    "\n",
    "    elif re.match(regex, l[i]):\n",
    "        q0(l, i, l_acts, j + 1, regex)\n",
    "\n",
    "    else:\n",
    "        l_acts[j] += '\\n' + l[i]\n",
    "        q1(l, i + 1, l_acts, j, regex)\n",
    "\n"
   ]
  },
  {
   "cell_type": "code",
   "execution_count": 9,
   "metadata": {},
   "outputs": [],
   "source": [
    "regex = r'AVISO\\s+D[EO]\\s+ABERTURA\\s+D[EO]\\s+LICITACAO|AVISO\\s+D[EO]\\s+ABERTURA'\n",
    "# l_acts = []\n",
    "# q0(secao_3[1], 0, l_acts, 0, regex)\n",
    "\n",
    "aberturas = []\n",
    "\n",
    "for idx in secao_3:\n",
    "    l_acts = []\n",
    "    q0(idx, 0, l_acts, 0, regex)\n",
    "    aberturas.extend(l_acts)\n"
   ]
  },
  {
   "cell_type": "code",
   "execution_count": 10,
   "metadata": {},
   "outputs": [
    {
     "data": {
      "text/plain": [
       "['AVISO DE ABERTURA\\n<END_OF_BLOCK>\\nPREGAO ELETRONICO SRP No 01/2021 - (UASG 450432)\\n<END_OF_BLOCK>\\nObjeto: Aquisicao de generos alimenticios pereciveis - Cortes Congelados de Frango  tipo\\ncoxa e sobrecoxa sem pele, tipo file de peito de frango congelado sem pele e sem osso ou\\npeito de frango congelado sem pele e sem osso ou ainda, peito de frango congelado\\ndesossado sem pele, para o Programa de Alimentacao Escolar do Distrito Federal (PAE-DF),\\nconforme especificacoes e condicoes estabelecidas no Termo de Referencia e seus Anexos.\\nValor total estimado: R$ 45.261.284,29 (quarenta e cinco milhoes, duzentos e sessenta e um\\nmil duzentos e oitenta e quatro reais e vinte e nove centavos). Cadastro das Propostas: a partir\\nde 06/01/2021. Abertura das Propostas: 18/01/2021, as 10h, horario de Brasilia. O Edital\\nestara disponivel nos enderecos eletronicos: www.comprasgovernamentais.gov.br e\\nhttp://www.se.df.gov.br/pregao-eletronico-sistema-de-registro-de-precos/.\\n<END_OF_BLOCK>\\nBrasilia/DF, 05 de janeiro de 2021\\nREGINA RODRIGUES PORTO\\n<END_OF_BLOCK>\\nPregoeira\\n<END_OF_BLOCK>\\n\\n<END_OF_BLOCK>',\n",
       " 'AVISO DE ABERTURA DE LICITACAO\\n<END_OF_BLOCK>\\nPREGAO ELETRONICO No 55/2020\\n<END_OF_BLOCK>\\nProcesso: 00050-00011038/2020-83. TIPO: Menor Preco. MODO DE DISPUTA: Aberto.\\nOBJETO: Aquisicao de bens de imagem, iluminacao e sonorizacao, visando atender\\ndemanda da Secretaria de Estado de Seguranca Publica do Distrito Federal. VALOR\\nESTIMADO: Sigiloso. PRAZOS: De entrega: 30 (trinta) dias corridos contados do\\nrecebimento da nota de empenho ou da assinatura do contrato. Do Contrato: 90 (noventa)\\ndias a partir da data da assinatura. DATA DA SESSAO PUBLICA: 18/01/2021 as 09:00\\nhoras no www.gov.br/compras. UASG 450107. Edital tambem esta disponivel no\\nhttp://www.ssp.df.gov.br/licitacoes/.\\n<END_OF_BLOCK>\\nBrasilia/DF, 05 de janeiro de 2021\\n<END_OF_BLOCK>\\nFERNANDO CESAR NEVES\\n<END_OF_BLOCK>\\nCoordenador, Substituto\\n<END_OF_BLOCK>\\nPOLICIA MILITAR DO DISTRITO FEDERAL\\n<END_OF_BLOCK>\\nDEPARTAMENTO DE LOGISTICA E FINANCAS\\n<END_OF_BLOCK>\\n \\n<END_OF_BLOCK>',\n",
       " 'AVISO DE ABERTURA DE LICITACAO\\nTOMADA DE PRECOS No 02/2004\\nA COMISSAO PERMANENTE DE LICITACAO PARA SAUDE comunica aos interes-\\nsados a abertura de processo licitatorio referente a Tomada de Precos no 02/2004-SES, com\\ndata marcada para o dia 12/02/2004 as 10:00 horas, na sala de reuniao da CPLS, 3o andar,\\npara contratacao de empresa especializada para reforma para implantacao da UTI  Pedi-\\natrica no Hospital Regional da Asa Sul - HRAS. O edital podera ser retirado no SIA Trecho\\n1 -Lotes 1730/1760 - Bloco E 3o andar - Brasilia - DF, em dias uteis, no horario de 09:00\\nas 12:00 e 14:00 as 17:00 horas. Tel. (61) 403-2357, mediante a entrega de uma caixa de\\ndisquetes 3 12 lacrada.\\nBrasilia, 23 de janeiro de 2004\\nEDSON MANOEL DA C. DOS SANTOS\\nPresidente\\n<END_OF_BLOCK>']"
      ]
     },
     "execution_count": 10,
     "metadata": {},
     "output_type": "execute_result"
    }
   ],
   "source": [
    "aberturas"
   ]
  },
  {
   "cell_type": "code",
   "execution_count": 11,
   "metadata": {},
   "outputs": [
    {
     "data": {
      "text/plain": [
       "'AVISO DE ABERTURA\\n<END_OF_BLOCK>\\nPREGAO ELETRONICO SRP No 01/2021 - (UASG 450432)\\n<END_OF_BLOCK>\\nObjeto: Aquisicao de generos alimenticios pereciveis - Cortes Congelados de Frango  tipo\\ncoxa e sobrecoxa sem pele, tipo file de peito de frango congelado sem pele e sem osso ou\\npeito de frango congelado sem pele e sem osso ou ainda, peito de frango congelado\\ndesossado sem pele, para o Programa de Alimentacao Escolar do Distrito Federal (PAE-DF),\\nconforme especificacoes e condicoes estabelecidas no Termo de Referencia e seus Anexos.\\nValor total estimado: R$ 45.261.284,29 (quarenta e cinco milhoes, duzentos e sessenta e um\\nmil duzentos e oitenta e quatro reais e vinte e nove centavos). Cadastro das Propostas: a partir\\nde 06/01/2021. Abertura das Propostas: 18/01/2021, as 10h, horario de Brasilia. O Edital\\nestara disponivel nos enderecos eletronicos: www.comprasgovernamentais.gov.br e\\nhttp://www.se.df.gov.br/pregao-eletronico-sistema-de-registro-de-precos/.\\n<END_OF_BLOCK>\\nBrasilia/DF, 05 de janeiro de 2021\\nREGINA RODRIGUES PORTO\\n<END_OF_BLOCK>\\nPregoeira\\n<END_OF_BLOCK>\\n\\n<END_OF_BLOCK>'"
      ]
     },
     "execution_count": 11,
     "metadata": {},
     "output_type": "execute_result"
    }
   ],
   "source": [
    "aberturas[0]"
   ]
  },
  {
   "cell_type": "code",
   "execution_count": 12,
   "metadata": {},
   "outputs": [
    {
     "data": {
      "text/plain": [
       "'AVISO DE ABERTURA DE LICITACAO\\n<END_OF_BLOCK>\\nPREGAO ELETRONICO No 55/2020\\n<END_OF_BLOCK>\\nProcesso: 00050-00011038/2020-83. TIPO: Menor Preco. MODO DE DISPUTA: Aberto.\\nOBJETO: Aquisicao de bens de imagem, iluminacao e sonorizacao, visando atender\\ndemanda da Secretaria de Estado de Seguranca Publica do Distrito Federal. VALOR\\nESTIMADO: Sigiloso. PRAZOS: De entrega: 30 (trinta) dias corridos contados do\\nrecebimento da nota de empenho ou da assinatura do contrato. Do Contrato: 90 (noventa)\\ndias a partir da data da assinatura. DATA DA SESSAO PUBLICA: 18/01/2021 as 09:00\\nhoras no www.gov.br/compras. UASG 450107. Edital tambem esta disponivel no\\nhttp://www.ssp.df.gov.br/licitacoes/.\\n<END_OF_BLOCK>\\nBrasilia/DF, 05 de janeiro de 2021\\n<END_OF_BLOCK>\\nFERNANDO CESAR NEVES\\n<END_OF_BLOCK>\\nCoordenador, Substituto\\n<END_OF_BLOCK>\\nPOLICIA MILITAR DO DISTRITO FEDERAL\\n<END_OF_BLOCK>\\nDEPARTAMENTO DE LOGISTICA E FINANCAS\\n<END_OF_BLOCK>\\n \\n<END_OF_BLOCK>'"
      ]
     },
     "execution_count": 12,
     "metadata": {},
     "output_type": "execute_result"
    }
   ],
   "source": [
    "aberturas[1]"
   ]
  },
  {
   "cell_type": "code",
   "execution_count": 13,
   "metadata": {},
   "outputs": [
    {
     "data": {
      "text/plain": [
       "'AVISO DE ABERTURA DE LICITACAO\\nTOMADA DE PRECOS No 02/2004\\nA COMISSAO PERMANENTE DE LICITACAO PARA SAUDE comunica aos interes-\\nsados a abertura de processo licitatorio referente a Tomada de Precos no 02/2004-SES, com\\ndata marcada para o dia 12/02/2004 as 10:00 horas, na sala de reuniao da CPLS, 3o andar,\\npara contratacao de empresa especializada para reforma para implantacao da UTI  Pedi-\\natrica no Hospital Regional da Asa Sul - HRAS. O edital podera ser retirado no SIA Trecho\\n1 -Lotes 1730/1760 - Bloco E 3o andar - Brasilia - DF, em dias uteis, no horario de 09:00\\nas 12:00 e 14:00 as 17:00 horas. Tel. (61) 403-2357, mediante a entrega de uma caixa de\\ndisquetes 3 12 lacrada.\\nBrasilia, 23 de janeiro de 2004\\nEDSON MANOEL DA C. DOS SANTOS\\nPresidente\\n<END_OF_BLOCK>'"
      ]
     },
     "execution_count": 13,
     "metadata": {},
     "output_type": "execute_result"
    }
   ],
   "source": [
    "aberturas[2]"
   ]
  }
 ],
 "metadata": {
  "interpreter": {
   "hash": "6a5ed2ccc9d2ba59c3542bbda7f71bcfb6eae0ef46ae44aa32b9fd054184bad6"
  },
  "kernelspec": {
   "display_name": "Python 3.6.8 64-bit",
   "name": "python3"
  },
  "language_info": {
   "codemirror_mode": {
    "name": "ipython",
    "version": 3
   },
   "file_extension": ".py",
   "mimetype": "text/x-python",
   "name": "python",
   "nbconvert_exporter": "python",
   "pygments_lexer": "ipython3",
   "version": "3.6.8"
  },
  "orig_nbformat": 4
 },
 "nbformat": 4,
 "nbformat_minor": 2
}
