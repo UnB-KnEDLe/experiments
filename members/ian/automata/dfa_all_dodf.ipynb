{
 "cells": [
  {
   "cell_type": "code",
   "execution_count": 2,
   "metadata": {},
   "outputs": [],
   "source": [
    "import glob\n",
    "import re\n",
    "import pandas as pd\n",
    "from pandas import DataFrame\n",
    "from yattag import Doc\n",
    "import unicodedata"
   ]
  },
  {
   "cell_type": "code",
   "execution_count": 3,
   "metadata": {},
   "outputs": [],
   "source": [
    "doc, tag, text = Doc().tagtext()\n",
    "txt_file = glob.glob('AmostrasDODF/**/*.txt')\n",
    "\n",
    "all_contracts = []\n",
    "all_text = ''\n",
    "\n",
    "for row in range(len(txt_file)):\n",
    "    instance = re.findall(r'[\\s\\S]+', \n",
    "                unicodedata.normalize('NFKD', open(txt_file[row], encoding='utf-8').read()))\n",
    "\n",
    "    if txt_file[row] == txt_file[0]:\n",
    "        all_text += instance[0] + '\\n'\n",
    "    else:\n",
    "        if txt_file[row][:-7] == txt_file[row-1][:-7]:\n",
    "            all_text += instance[0] + '\\n'\n",
    "            if txt_file[row] == txt_file[-1]:   \n",
    "                all_contracts.append(txt_file[row][:-7] + '\\n' + all_text)\n",
    "        else:\n",
    "            all_contracts.append(txt_file[row-1][:-7] + '\\n' + all_text)\n",
    "            all_text = ''\n",
    "            all_text += instance[0] + '\\n'\n",
    "\n",
    "\n",
    "dodfs = []\n",
    "\n",
    "for contract in all_contracts:\n",
    "    dodfs.append(contract.split('\\n'))"
   ]
  },
  {
   "cell_type": "code",
   "execution_count": 4,
   "metadata": {},
   "outputs": [
    {
     "data": {
      "text/plain": [
       "20"
      ]
     },
     "execution_count": 4,
     "metadata": {},
     "output_type": "execute_result"
    }
   ],
   "source": [
    "len(dodfs)"
   ]
  },
  {
   "cell_type": "markdown",
   "metadata": {},
   "source": [
    "## Função DFA"
   ]
  },
  {
   "cell_type": "code",
   "execution_count": 12,
   "metadata": {},
   "outputs": [],
   "source": [
    "def dfa_licitacao():\n",
    "    regex5 = r'(?:xxbcet\\s+)?(?:AVISO\\s+D[EO]\\s+RESULTADO\\s+D[EO]\\s+JULGAMENTO|AVISO\\s+D[EO]\\s+JULGAMENTO)'\n",
    "    regex6 = r'(?:xxbcet\\s+)?(?:AVISO\\s+D[EO]\\s+LICITAÇÃO)'\n",
    "    regex7 = r'(?:xxbcet\\s+)?(?:AVISO\\s+D[EO]\\s+JULGAMENTO\\s+D[EO]\\s+HABILITAÇÃO)'\n",
    "    regex8 = r'(?:xxbcet\\s+)?(?:AVISO\\s+D[EO]\\s+RESULTADO\\s+D[EO]\\s+RECURSO\\s+E\\s+JULGAMENTO)'\n",
    "\n",
    "    regex_s = r'xxbcet (?:AVISOS?|EXTRATOS?|RESULTADOS?|SECRETARIA|PREGÃO|TOMADA|COMISSÃO)'\n",
    "\n",
    "\n",
    "    acts = []\n",
    "    l_acts = []\n",
    "    ato = False\n",
    "\n",
    "    for texto in dodfs:\n",
    "        i = 0\n",
    "        # print(len(texto))\n",
    "        while i != len(texto):\n",
    "            if re.match(regex5, texto[i]):\n",
    "                l_acts.append('[5] ' + texto[0] + texto[i])\n",
    "                ato = True\n",
    "                while ato:\n",
    "                    i += 1\n",
    "                    if i == len(texto):\n",
    "                        break\n",
    "                    if not re.match(regex5, texto[i]) and re.match(regex_s, texto[i]) and ('xxbob' in texto[i-1] or('—' in texto[i-1] and 'xxbob' in texto[i-2])):\n",
    "                        i -= 2\n",
    "                        break\n",
    "                    elif re.match(regex5, texto[i]):\n",
    "                        i -= 2\n",
    "                        break\n",
    "                    else:\n",
    "                        l_acts[-1] += '\\n' + texto[i]\n",
    "\n",
    "            elif re.match(regex6, texto[i]):\n",
    "                l_acts.append('[6] ' + texto[0] + texto[i])\n",
    "                ato = True\n",
    "                while ato:\n",
    "                    i += 1\n",
    "                    if i == len(texto):\n",
    "                        break\n",
    "                    if not re.match(regex6, texto[i]) and re.match(regex_s, texto[i]) and ('xxbob' in texto[i-1] or('—' in texto[i-1] and 'xxbob' in texto[i-2])):\n",
    "                        i -= 1\n",
    "                        break\n",
    "                    elif re.match(regex6, texto[i]):\n",
    "                        i -= 1\n",
    "                        break\n",
    "                    else:\n",
    "                        l_acts[-1] += '\\n' + texto[i]\n",
    "\n",
    "            elif re.match(regex7, texto[i]):\n",
    "                l_acts.append('[7] ' + texto[0] + texto[i])\n",
    "                ato = True\n",
    "                while ato:\n",
    "                    i += 1\n",
    "                    if i == len(texto):\n",
    "                        break\n",
    "                    if not re.match(regex7, texto[i]) and re.match(regex_s, texto[i]) and ('xxbob' in texto[i-1] or('—' in texto[i-1] and 'xxbob' in texto[i-2])):\n",
    "                        i -= 1\n",
    "                        break\n",
    "                    elif re.match(regex7, texto[i]):\n",
    "                        i -= 1\n",
    "                        break\n",
    "                    else:\n",
    "                        l_acts[-1] += '\\n' + texto[i]\n",
    "\n",
    "            elif re.match(regex8, texto[i]):\n",
    "                l_acts.append('[8] ' + texto[0] + texto[i])\n",
    "                ato = True\n",
    "                while ato:\n",
    "                    i += 1\n",
    "                    if i == len(texto):\n",
    "                        break\n",
    "                    if not re.match(regex8, texto[i]) and re.match(regex_s, texto[i]) and ('xxbob' in texto[i-1] or('—' in texto[i-1] and 'xxbob' in texto[i-2])):\n",
    "                        i -= 1\n",
    "                        break\n",
    "                    elif re.match(regex8, texto[i]):\n",
    "                        i -= 1\n",
    "                        break\n",
    "                    else:\n",
    "                        l_acts[-1] += '\\n' + texto[i]\n",
    "\n",
    "            else:\n",
    "                i+=1\n",
    "\n",
    "    return l_acts\n"
   ]
  },
  {
   "cell_type": "code",
   "execution_count": 18,
   "metadata": {},
   "outputs": [],
   "source": [
    "acts = dfa_licitacao()"
   ]
  },
  {
   "cell_type": "code",
   "execution_count": 19,
   "metadata": {},
   "outputs": [
    {
     "data": {
      "text/plain": [
       "87"
      ]
     },
     "execution_count": 19,
     "metadata": {},
     "output_type": "execute_result"
    }
   ],
   "source": [
    "len(acts)"
   ]
  },
  {
   "cell_type": "code",
   "execution_count": 21,
   "metadata": {},
   "outputs": [
    {
     "data": {
      "text/plain": [
       "'[6] AmostrasDODF\\\\DODF 008 11-01-2012 SECAO3_txt\\\\xxbcet AVISO DE LICITAÇÃO xxecet\\nxxbcet PREGÃO ELETRÔNICO No 8/2012. xxecet\\nACOMPANHIA DE SANEAMENTO AMBIENTAL DO DISTRITO FEDERAL torna público\\nque realizará o Pregão Eletrônico PE-008/2012-CAESB, processo no 092.011281/2011, Aquisi-\\nção de Reagentes Químicos e Vidrarias, conforme especificações técnicas constantes no Anexo\\nI(Pedido de Aquisição/Termo de Referência), por preço equalizado, por lote cotado. Data final\\nxxeob\\n\\nxxbob\\npara Recebimento das Propostas: 26 de janeiro de 2012, às 08h30. Início da Sessão de Disputa:\\n26 de janeiro 2012, às 10h00. O edital e seus anexos poderão ser encontrados no site www.\\nlicitacoes-e.com.br a partir do dia 12 de janeiro de 2012. Outras informações poderão ser obtidas\\npor meio do telefone (61) 3213-7275, email pregao(dcaesb.df.gov.br.\\nxxbcet Brasília/DF, 10 de janeiro de 2012. xxecet\\nxxbcet RAULINDO JUNIOR NAVES REZENDE xxecet\\nxxbcet Pregoeiro Caesb xxecet\\nxxeob\\n\\nxxbob'"
      ]
     },
     "execution_count": 21,
     "metadata": {},
     "output_type": "execute_result"
    }
   ],
   "source": [
    "acts[0]"
   ]
  },
  {
   "cell_type": "code",
   "execution_count": 22,
   "metadata": {},
   "outputs": [],
   "source": [
    "df = DataFrame(acts,columns=['Texto'])\n",
    "\n",
    "# Regex para encontrar o id do ato\n",
    "df['Id_ato'] =  df['Texto'].apply(lambda st: st[1:2])\n",
    "re_exp = r'\\[5\\]|\\[6\\]|\\[7\\]|\\[8\\]'\n",
    "df['Texto'] =  df['Texto'].str.replace(re_exp,'')\n",
    "\n",
    "\n",
    "# Regex para encontrar o dodf de onde está sendo retirado a informação\n",
    "df['Dodf'] =  df['Texto'].apply(lambda st: st.split('txt\\\\')[0])\n",
    "df['Texto'] =  df['Texto'].apply(lambda st: st.split('txt\\\\')[1])\n",
    "\n",
    "\n",
    "# Regex para encontrar o processo do ato\n",
    "df['Processo'] = df['Texto'].str.extract(r'''(?:(?:(?:P|p)rocesso(?:\\s+)?(?:(?:\\()?SEI(?:\\)?))?(?:\\s+)?(?:(?:no|n\\.o)?)?)|(?:P|p)rocesso:|(?:P|p)rocesso|Processo.|(?:P|p)rocesso\\s+no|(?:P|p)rocesso\\s+n.? ?o.?|(?:P|p)rocesso\\s+no:|(?:P|p)rocesso\\s+SEI\\s+no:|(?:P|p)rocesso\\s+SEI:|(?:P|p)rocesso\\s+SEI-GDF:|(?:P|p)rocesso\\s+SEI-GDF|(?:P|p)rocesso\\s+SEI\\s+no|(?:P|p)rocesso\\s+SEI\\s+n|(?:P|p)rocesso\\s+SEI|(?:P|p)rocesso-\\s+SEI|(?:P|p)rocesso\\s+SEI\\s+no.|(?:P|p)rocesso\\s+\\(SEI\\)\\s+no.|(?:P|p)rocesso\\s+SEI\\.|(?:P|p)rocesso\\s+\\(SEI-DF\\)\\s+no.|(?:P|p)rocesso\\s+SEI-GDF no|(?:P|p)rocesso\\s+n|(?:P|p)rocesso\\s+N|(?:P|p)rocesso\\s+administrativo no|(?:P|p)rocesso\\s+n:|PROCESSO: ?N?o?|PROCES-? ?SO|PROCESSO.|PROCESSO\\s+no|PROCESSO\\s+No|PROCESSO\\s+N.o:?|PROCESSO\\s+no.|PROCESSO\\s+no:|PROCESSO\\s+No:|PROCESSO\\s+SEI\\s+no:|PROCESSO\\s+SEI:|PROCESSO\\s+SEI|PROCESSO\\s+SEI-GDF:|PROCESSO\\s+SEI-GDF|PROCESSO\\s+SEI\\s+no|PROCESSO\\s+SEI\\s+No|PROCESSO\\s+SEI\\s+no.|PROCESSO\\s+SEI.)((?:(?!\\s\\d{2}.\\d{3}.\\d{3}/\\d{4}-\\d{2}))(?:(?:\\s)(?:(?:[\\d.]+)|(?:[\\d\\s]+))[.-]?(?:(?:\\d)|(?:[.\\d\\sSEI-|]+))(?:/|-\n",
    "\\b)(?:(?:(?:\\d)+|(?:[\\d\\s]+)))?(?:-(?:(?:\\d)+|(?:[\\d\\s]+)))?(?:-SECOM/DF|-?CEB|/CBMDF|F J Z B / D F)?))''')\n",
    "\n",
    "\n",
    "# Regex para encontrar a data do ato\n",
    "df['Data_dodf'] = df['Texto'].str.extract(r'''Brasí?i?lia(?:\\/?DF)?,?\\s+(\\d{2}\\s+de+\\s\\w+\\s+de\\s+\\d{4})''')\n",
    "for row in range(len(df)):\n",
    "    if pd.isna(df['Data_dodf'][row]):\n",
    "        df['Data_dodf'][row] = re.findall(r'\\d{2}-\\d{2}-\\d{4}', df['Dodf'][row])[0]"
   ]
  },
  {
   "cell_type": "code",
   "execution_count": 23,
   "metadata": {},
   "outputs": [
    {
     "data": {
      "text/html": [
       "<div>\n",
       "<style scoped>\n",
       "    .dataframe tbody tr th:only-of-type {\n",
       "        vertical-align: middle;\n",
       "    }\n",
       "\n",
       "    .dataframe tbody tr th {\n",
       "        vertical-align: top;\n",
       "    }\n",
       "\n",
       "    .dataframe thead th {\n",
       "        text-align: right;\n",
       "    }\n",
       "</style>\n",
       "<table border=\"1\" class=\"dataframe\">\n",
       "  <thead>\n",
       "    <tr style=\"text-align: right;\">\n",
       "      <th></th>\n",
       "      <th>Texto</th>\n",
       "      <th>Id_ato</th>\n",
       "      <th>Dodf</th>\n",
       "      <th>Processo</th>\n",
       "      <th>Data_dodf</th>\n",
       "    </tr>\n",
       "  </thead>\n",
       "  <tbody>\n",
       "    <tr>\n",
       "      <th>0</th>\n",
       "      <td>xxbcet AVISO DE LICITAÇÃO xxecet\\nxxbcet PRE...</td>\n",
       "      <td>6</td>\n",
       "      <td>AmostrasDODF\\DODF 008 11-01-2012 SECAO3_</td>\n",
       "      <td>092.011281/2011</td>\n",
       "      <td>10 de janeiro de 2012</td>\n",
       "    </tr>\n",
       "    <tr>\n",
       "      <th>1</th>\n",
       "      <td>xxbcet AVISO DO RESULTADO DE JULGAMENTO xxecet...</td>\n",
       "      <td>5</td>\n",
       "      <td>AmostrasDODF\\DODF 008 11-01-2012 SECAO3_</td>\n",
       "      <td>060.004.060/2011</td>\n",
       "      <td>10 de janeiro de 2012</td>\n",
       "    </tr>\n",
       "    <tr>\n",
       "      <th>2</th>\n",
       "      <td>xxbcet AVISO DO RESULTADO DE JULGAMENTO DESERT...</td>\n",
       "      <td>5</td>\n",
       "      <td>AmostrasDODF\\DODF 008 11-01-2012 SECAO3_</td>\n",
       "      <td>\\n411.000.335/2010</td>\n",
       "      <td>10 de janeiro de 2012</td>\n",
       "    </tr>\n",
       "    <tr>\n",
       "      <th>3</th>\n",
       "      <td>xxbcet AVISO DE LICITAÇÃO DESERTA xxecet\\nxx...</td>\n",
       "      <td>6</td>\n",
       "      <td>AmostrasDODF\\DODF 008 11-01-2012 SECAO3_</td>\n",
       "      <td>411.000.075/2011</td>\n",
       "      <td>10 de janeiro de 2011</td>\n",
       "    </tr>\n",
       "    <tr>\n",
       "      <th>4</th>\n",
       "      <td>xxbcet AVISO DE LICITAÇÃO NOVA DATA xxecet\\n...</td>\n",
       "      <td>6</td>\n",
       "      <td>AmostrasDODF\\DODF 008 11-01-2012 SECAO3_</td>\n",
       "      <td>NaN</td>\n",
       "      <td>10 de janeiro de 2012</td>\n",
       "    </tr>\n",
       "    <tr>\n",
       "      <th>...</th>\n",
       "      <td>...</td>\n",
       "      <td>...</td>\n",
       "      <td>...</td>\n",
       "      <td>...</td>\n",
       "      <td>...</td>\n",
       "    </tr>\n",
       "    <tr>\n",
       "      <th>82</th>\n",
       "      <td>xxbcet AVISO DE LICITAÇÃO xxecet\\nxxbcet TOM...</td>\n",
       "      <td>6</td>\n",
       "      <td>AmostrasDODF\\DODF 209 30-10-2007 SECAO3_</td>\n",
       "      <td>137.000.385/\\n2007</td>\n",
       "      <td>26 de outubro de 2007</td>\n",
       "    </tr>\n",
       "    <tr>\n",
       "      <th>83</th>\n",
       "      <td>xxbcet AVISO DE LICITAÇÃO xxecet\\nxxbcet CON...</td>\n",
       "      <td>6</td>\n",
       "      <td>AmostrasDODF\\DODF 209 30-10-2007 SECAO3_</td>\n",
       "      <td>NaN</td>\n",
       "      <td>29 de outubro de 2007</td>\n",
       "    </tr>\n",
       "    <tr>\n",
       "      <th>84</th>\n",
       "      <td>xxbcet AVISO DE LICITAÇÃO xxecet\\nxxbcet CON...</td>\n",
       "      <td>6</td>\n",
       "      <td>AmostrasDODF\\DODF 209 30-10-2007 SECAO3_</td>\n",
       "      <td>00092.004.823/2007</td>\n",
       "      <td>29 de outubro de 2007</td>\n",
       "    </tr>\n",
       "    <tr>\n",
       "      <th>85</th>\n",
       "      <td>xxbcet AVISO DE RESULTADO DE JULGAMENTO xxecet...</td>\n",
       "      <td>5</td>\n",
       "      <td>AmostrasDODF\\DODF 229 06-12-2005 SECAO3_</td>\n",
       "      <td>052.000.922/2004</td>\n",
       "      <td>05 de dezembro de 2005</td>\n",
       "    </tr>\n",
       "    <tr>\n",
       "      <th>86</th>\n",
       "      <td>xxbcet AVISO DE LICITAÇÃO xxecet\\nxxbcet CON...</td>\n",
       "      <td>6</td>\n",
       "      <td>AmostrasDODF\\DODF 229 06-12-2005 SECAO3_</td>\n",
       "      <td>NaN</td>\n",
       "      <td>06-12-2005</td>\n",
       "    </tr>\n",
       "  </tbody>\n",
       "</table>\n",
       "<p>87 rows × 5 columns</p>\n",
       "</div>"
      ],
      "text/plain": [
       "                                                Texto Id_ato  \\\n",
       "0   xxbcet AVISO DE LICITAÇÃO xxecet\\nxxbcet PRE...      6   \n",
       "1   xxbcet AVISO DO RESULTADO DE JULGAMENTO xxecet...      5   \n",
       "2   xxbcet AVISO DO RESULTADO DE JULGAMENTO DESERT...      5   \n",
       "3   xxbcet AVISO DE LICITAÇÃO DESERTA xxecet\\nxx...      6   \n",
       "4   xxbcet AVISO DE LICITAÇÃO NOVA DATA xxecet\\n...      6   \n",
       "..                                                ...    ...   \n",
       "82  xxbcet AVISO DE LICITAÇÃO xxecet\\nxxbcet TOM...      6   \n",
       "83  xxbcet AVISO DE LICITAÇÃO xxecet\\nxxbcet CON...      6   \n",
       "84  xxbcet AVISO DE LICITAÇÃO xxecet\\nxxbcet CON...      6   \n",
       "85  xxbcet AVISO DE RESULTADO DE JULGAMENTO xxecet...      5   \n",
       "86  xxbcet AVISO DE LICITAÇÃO xxecet\\nxxbcet CON...      6   \n",
       "\n",
       "                                         Dodf             Processo  \\\n",
       "0    AmostrasDODF\\DODF 008 11-01-2012 SECAO3_      092.011281/2011   \n",
       "1    AmostrasDODF\\DODF 008 11-01-2012 SECAO3_     060.004.060/2011   \n",
       "2    AmostrasDODF\\DODF 008 11-01-2012 SECAO3_   \\n411.000.335/2010   \n",
       "3    AmostrasDODF\\DODF 008 11-01-2012 SECAO3_     411.000.075/2011   \n",
       "4    AmostrasDODF\\DODF 008 11-01-2012 SECAO3_                  NaN   \n",
       "..                                        ...                  ...   \n",
       "82   AmostrasDODF\\DODF 209 30-10-2007 SECAO3_   137.000.385/\\n2007   \n",
       "83   AmostrasDODF\\DODF 209 30-10-2007 SECAO3_                  NaN   \n",
       "84   AmostrasDODF\\DODF 209 30-10-2007 SECAO3_   00092.004.823/2007   \n",
       "85   AmostrasDODF\\DODF 229 06-12-2005 SECAO3_     052.000.922/2004   \n",
       "86   AmostrasDODF\\DODF 229 06-12-2005 SECAO3_                  NaN   \n",
       "\n",
       "                 Data_dodf  \n",
       "0    10 de janeiro de 2012  \n",
       "1    10 de janeiro de 2012  \n",
       "2    10 de janeiro de 2012  \n",
       "3    10 de janeiro de 2011  \n",
       "4    10 de janeiro de 2012  \n",
       "..                     ...  \n",
       "82   26 de outubro de 2007  \n",
       "83   29 de outubro de 2007  \n",
       "84   29 de outubro de 2007  \n",
       "85  05 de dezembro de 2005  \n",
       "86              06-12-2005  \n",
       "\n",
       "[87 rows x 5 columns]"
      ]
     },
     "execution_count": 23,
     "metadata": {},
     "output_type": "execute_result"
    }
   ],
   "source": [
    "df"
   ]
  },
  {
   "cell_type": "code",
   "execution_count": 24,
   "metadata": {},
   "outputs": [
    {
     "data": {
      "text/plain": [
       "Texto         0\n",
       "Id_ato        0\n",
       "Dodf          0\n",
       "Processo     23\n",
       "Data_dodf     0\n",
       "dtype: int64"
      ]
     },
     "execution_count": 24,
     "metadata": {},
     "output_type": "execute_result"
    }
   ],
   "source": [
    "df.isnull().sum()"
   ]
  },
  {
   "cell_type": "code",
   "execution_count": 25,
   "metadata": {},
   "outputs": [
    {
     "data": {
      "text/plain": [
       "'xxbcet AVISO DE JULGAMENTO DE LICITAÇÃO xxecet\\nxxbcet TOMADA DE PREÇOS No 07/2010. xxecet\\nO PRESIDENTE DA COMISSÃO PERMANENTE DE LICITAÇÕES, DA COMPANHIA\\nDE SANEAMENTO AMBIENTAL DO DISTRITO FEDERAL, TORNA PÚBLICO o\\nresultado do julgamento da Tomada de Preços no 07/2010-CAESB, processo 092.001.810/\\n2010, tipo de licitação: menor preço, para contratação de empresa especializada para serviços\\nde projeto, fabricação e fornecimento de 01 (um) Centro de Controle de Motores (CCM) para\\na Elevatória Booster do Lago Sul, EBO.LS.02, do Sistema de Abastecimento de Água da Caesb,\\nna forma de execução indireta, sob regime de empreitada por preço global, da forma que se\\nsegue: a empresa AG TECH SISTEMAS LTDA - EPP julgada vencedora com o valor global de\\nR$ 80.000,00 (oitenta mil reais).\\nxxbcet Brasília/DF, 27 de agosto de 2010 xxecet\\nxxbcet JERÔNIMO BAREICHA JÚNIOR xxecet\\nxxeob\\n\\nxxbob'"
      ]
     },
     "execution_count": 25,
     "metadata": {},
     "output_type": "execute_result"
    }
   ],
   "source": [
    "df['Texto'][72]"
   ]
  },
  {
   "cell_type": "markdown",
   "metadata": {},
   "source": [
    "## Texto com as tags de marcação"
   ]
  },
  {
   "cell_type": "code",
   "execution_count": 30,
   "metadata": {},
   "outputs": [],
   "source": [
    "# data = df[['Texto']]\n",
    "# data"
   ]
  },
  {
   "cell_type": "code",
   "execution_count": 31,
   "metadata": {},
   "outputs": [],
   "source": [
    "# data.to_csv('CSVs/atos_with_tags.csv')"
   ]
  },
  {
   "cell_type": "markdown",
   "metadata": {},
   "source": [
    "## Texto sem as tags de marcação"
   ]
  },
  {
   "cell_type": "code",
   "execution_count": 32,
   "metadata": {},
   "outputs": [],
   "source": [
    "# re_exp = r'xxbcet ?|xxbcet ?|xxeob ?|xxbob ?|xxecet ?'\n",
    "# data['Texto'] =  data['Texto'].str.replace(re_exp,'')\n",
    "# data"
   ]
  },
  {
   "cell_type": "code",
   "execution_count": 33,
   "metadata": {},
   "outputs": [],
   "source": [
    "# data.to_csv('CSVs/atos_without_tags.csv')"
   ]
  },
  {
   "cell_type": "code",
   "execution_count": null,
   "metadata": {},
   "outputs": [],
   "source": []
  },
  {
   "cell_type": "code",
   "execution_count": null,
   "metadata": {},
   "outputs": [],
   "source": []
  }
 ],
 "metadata": {
  "interpreter": {
   "hash": "6a5ed2ccc9d2ba59c3542bbda7f71bcfb6eae0ef46ae44aa32b9fd054184bad6"
  },
  "kernelspec": {
   "display_name": "Python 3.6.8 64-bit",
   "name": "python3"
  },
  "language_info": {
   "codemirror_mode": {
    "name": "ipython",
    "version": 3
   },
   "file_extension": ".py",
   "mimetype": "text/x-python",
   "name": "python",
   "nbconvert_exporter": "python",
   "pygments_lexer": "ipython3",
   "version": "3.6.8"
  },
  "orig_nbformat": 4
 },
 "nbformat": 4,
 "nbformat_minor": 2
}
