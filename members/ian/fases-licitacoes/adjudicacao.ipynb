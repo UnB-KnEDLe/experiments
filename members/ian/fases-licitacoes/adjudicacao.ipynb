{
 "metadata": {
  "language_info": {
   "codemirror_mode": {
    "name": "ipython",
    "version": 3
   },
   "file_extension": ".py",
   "mimetype": "text/x-python",
   "name": "python",
   "nbconvert_exporter": "python",
   "pygments_lexer": "ipython3",
   "version": "3.6.8-final"
  },
  "orig_nbformat": 2,
  "kernelspec": {
   "name": "python368jvsc74a57bd06a5ed2ccc9d2ba59c3542bbda7f71bcfb6eae0ef46ae44aa32b9fd054184bad6",
   "display_name": "Python 3.6.8 64-bit"
  },
  "metadata": {
   "interpreter": {
    "hash": "6a5ed2ccc9d2ba59c3542bbda7f71bcfb6eae0ef46ae44aa32b9fd054184bad6"
   }
  }
 },
 "nbformat": 4,
 "nbformat_minor": 2,
 "cells": [
  {
   "source": [
    "# Adjudicação\n",
    "\n",
    "- Adjudicação é o ato da autoridade administrativa que põe o objeto da licitação à disposição do licitante vencedor.\n",
    "- Ao adjudicar o objeto da licitação, a autoridade competente está apenas declarando que o licitante vencedor está apto a ser contratado. Isso não significa, no entanto, que o licitante vencedor tenha direito subjetivo de ser contratado pela Administração.\n",
    "- A efetiva consequência da adjudicação é impedir que outro licitante, que não o vencedor da licitação, ou, ainda, um terceiro que não tenha participado da licitação, possa ser contratado para executar o objeto licitado. Nesse sentido dispõe o art. 50 da Lei nº 8.666/1993.\n",
    "- Com a adjudicação, encerra-se a licitação, e o passo seguinte é a convocação do adjudicatário para assinar o contrato.\n",
    "\n",
    "\n",
    "## Tabela de entidades e padrões\n",
    "\n",
    "- A fase de adjudicação se iniciam com os trechos **\"AVISO DE ADJUDICAÇÃO E HOMOLOGAÇÃO\"** ou **\"AVISOS DE HOMOLOGAÇÃO E ADJUDICAÇÃO\"**\n",
    "\n",
    "|id|Entidade|Padrão|Obrigatoriedade|\n",
    "|:--:|:--|:--|:--:|\n",
    "|1|Processo|Após \"PROCESSO:\" ou \"PROCESSO N° SEI -\" |Sim|\n",
    "|2|Tipo|Após \"TIPO:\"|Não|\n",
    "|3|Objeto|Após \"OBJETO:\"|Sim|\n",
    "|4|Finalidade|Começa com \"para 'palavra referente a finalidade (atender, identificar, o funcionamento, etc...)'\"|Não|\n",
    "|5|Licitante vencedor|Após \"informa a ADJUDICACAO do objeto/item {do certame} a {empresa}\",|Sim|\n",
    "|6|CNPJ da empresa|Após \"CNPJ{:}\"|Sim|\n",
    "|7|Valor|Após \"no valor de R*$*\" ou \"no valor total para n meses de R*$*\"|Sim|\n",
    "|8|Valor total|Após \"totalizando R*$*\" |Não|\n",
    "|9|Disputa|Após \"Modo de disputa:\"|Não|\n",
    "\n",
    "**OBS.:** o trecho que informa a fase de Adjudicação pode  possuir vários valores da entidade 5, ou seja, pode possuir vários licitantes vencedores, o primeiro valor possui a estrutura da tabela acima, os outros valores possuem as seguintes características:\n",
    "\n",
    "- Vem logo ápos ao valor do licitante vencedor anterior\n",
    "- Vem ápos \"do item n a\"\n",
    "\n",
    "**OBS.:** {} representa palavras ou frases que pode aparecer ou não\n",
    "\n",
    "## Exemplos\n",
    "\n",
    "### [DODF N° 15 - 22/01/2021](https://dodf.df.gov.br/index/visualizar-arquivo/?pasta=2021|01_Janeiro|DODF%20015%2022-01-2021|&arquivo=DODF%20015%2022-01-2021%20INTEGRA.pdf)\n",
    "\n",
    "\n",
    "> AVISO DE ADJUDICAÇÃO E HOMOLOGAÇÃO - SRP PREGÃO ELETRÔNICO Nº 57/2020 Processo: [00050-00032913/2020-61]()(1). TIPO: [Menor Preço]()(2). Modo de disputa: [Aberto]()(9). OBJETO: [Registro de Preços para futura contratação de empresa especializada, no fornecimento com instalação de licenças do software Milestone Xprotect e atualização da base existente, com as seguintes licenças: 1 (uma) licença básica, 840 (oitocentos e quarenta) licenças de dispositivo de hardware, com suporte por no mínimo 36 (trinta e seis) meses, aquisição de 1000 (mil) novas licenças de dispositivo de hardware, com suporte de 36 (trinta e seis) meses, para o software Milestone XProtect Corporate, 1.000 (mil) Licenças Milestone Xprotect de suporte por dispositivo adicional, mais Serviço de instalação, suporte e configurações de pacote]()(3), para [atender demanda da Secretaria de Estado da Segurança Pública do Distrito Federal – SSP/DF]()(4). A SSPDF informa, com fulcro no inciso IX do artigo 17, e inciso VI do Artigo 13 do Decreto nº 10.024/2019, a ADJUDICAÇÃO do objeto do certame à empresa [Control - Teleinformática Ltda.]()(5), CNPJ: [05.455.684/0001-30]()(6), no valor de R$ [2.013.430,00]()(7) (dois milhões, treze mil quatrocentos e trinta reais); e HOMOLOGAÇÃO do certame Brasília/DF, 21 de janeiro de 2021 FERNANDO CESAR NEVES Coordenador - Substituto\n",
    "\n",
    "> AVISO DE ADJUDICAÇÃO E HOMOLOGAÇÃO PREGÃO ELETRÔNICO Nº 55/2020 Processo: [00050-00011038/2020-83]()(1). TIPO: [Menor Preço]()(2). Modo de disputa: [Aberto]()(9). OBJETO: [Aquisição de bens de imagem, iluminação e sonorização]()(3), [visando atender demanda da Secretaria de Estado de Segurança Pública do Distrito Federal]()(4). A SSPDF informa, com fulcro no inciso IX do artigo 17, e incisos V e VI do Artigo 13 do Decreto nº 10.024/2019, a ADJUDICAÇÃO do item 19 a empresa [GASKAM COMERCIO E CONSTRUCAO CIVIL EIRELI]()(5), CNPJ: [32.519.346/0001-97]()(6), no valor de R*$* [17.599,05]()(7); dos itens 20, 21, 24 e 25 a empresa [ISALTEC COMERCIO DE INSTRUMENTOS DE MEDICAO LTDA]()(5), CNPJ: [01.682.745/0001-40]()(6), no valor de R*$* [17.265,25]()(7); do item 22 a empresa [DENISE DE OLIVEIRA LUCAS]()(5), CNPJ: [32.149.708/0001-03]()(6), no valor de R*$* [579,99]()(7); do item 23 a empresa [VC COMERCIO EIRELI]()(5), CNPJ: [31.472.148/0001-52]()(6), no valor de R*$* [1.801,00]()(7); dos itens 26 e 27 a empresa [EDYTUDO COMERCIO DE FERRAGENS E VARIEDADES LTDA]()(5), CNPJ: [10.214.272/0001-48]()(6), no valor de R*$* [1.734,00]()(7) e a HOMOLOGAÇÃO do certame. O grupo 1 e os itens 15, 16, 17, 18, 28, 29 e 30 restaram fracassados. O total licitado foi de R*$* [38.979,29]()(8). Brasília/DF, 21 de janeiro de 2021 FERNANDO CÉSAR NEVES Coordenador, Substituto\n",
    "\n",
    "\n",
    "### [DODF N° 243 - 28/12/2020](https://www.dodf.df.gov.br/index/visualizar-arquivo/?pasta=2020/12_Dezembro/DODF%20243%2028-12-2020&arquivo=DODF%20243%2028-12-2020%20INTEGRA.pdf)\n",
    "\n",
    "\n",
    "> AVISO DE ADJUDICAÇÃO E HOMOLOGAÇÃO PREGÃO ELETRÔNICO Nº 17/2020 Processo: [00072-00002813/2020-89]()(1). Objeto: [Contratação de serviços especializados de Medicina do Trabalho e Engenharia de Segurança do Trabalho para atividades de SESMT – Serviços Especializados em Engenharia de Segurança e em Medicina do Trabalho, PCMSO, PPRA, LTCAT, PPP e outros]()(3). A EMATER-DF informa a ADJUDICAÇÃO e HOMOLOGAÇÃO final do certame, com fulcro no Decreto nº 5.450/2005, de 31/05/2005,à empresa [BSB MED SEGURANÇA, MEDICINA DO TRABALHO E MEIO AMBIENTE LTDA]()(5), CNPJ [06.950.757.0001-22]()(6), no valor total deR*$* [40.186,00]()(7) (quarenta mil, cento e oitenta e seis reais) anual e R*$* [200.930,00]()(7) (duzentos novecentos e trinta reais) para o quinquênio. JOÃO DE DEUS ABREU SOARES Pregoeiro\n",
    "\n",
    "\n",
    "### [DODF N° 240 - 22/12/2019](https://www.dodf.df.gov.br/index/visualizar-arquivo/?pasta=2020/12_Dezembro/DODF%20240%2022-12-2020&arquivo=DODF%20240%2022-12-2020%20INTEGRA.pdf)\n",
    "\n",
    "> AVISO DE ADJUDICAÇÃO E HOMOLOGAÇÃO PREGÃO ELETRÔNICO Nº 12/2020 Processo: [00072-00002574/2020-67]()(1). Objeto: [Aquisição de Material de Consumo (Apicultura, Piscicultura, Jardinagem, Mudas, Fertilizantes e outros)]()(3). A EMATER-DF informa a ADJUDICAÇÃO e HOMOLOGAÇÃO final do certame, com fulcro no Decreto nº 5.450/2005, de 31/05/2005, Grupos 1 - Itens: 1 a 6; 2 – Itens: 7 a 10; e 3 – Itens: 11 a 25 – Cancelado o julgamento; Grupo 4 – Itens: 26 a 42; Grupo 6 – Itens: 48 a 53 e Grupo 7 – Itens: 54 a 63 - Cancelados por inexistência de proposta; Grupo 5 Itens 43 a 47 – [Qualite Distribuidora EIRELI]()(5), CNPJ[16.754.240/0001-11]()(6), no valor total de R$ [8.160,52]()(7) (oito mil e cento e sessenta reais e cinquenta e dois centavos). JOÃO DE DEUS ABREU SOARES Pregoeiro\n",
    "\n",
    "\n",
    "### [DODF N° 238 - 18/12/2019](https://www.dodf.df.gov.br/index/visualizar-arquivo/?pasta=2020/12_Dezembro/DODF%20238%2018-12-2020&arquivo=DODF%20238%2018-12-2020%20INTEGRA.pdf)\n",
    "\n",
    "> AVISO DE ADJUDICAÇÃO E HOMOLOGAÇÃO PREGÃO ELETRÔNICO Nº 04/2019 Processo: [00072-00000283/2020-34]()(1). Objeto: [Contratação de empresa especializada]()(3) para [prestação de serviços de gerenciamento, implementação e administração de cartão eletrônico/magnético, com tecnologia de CHIP, ou superior, de auxílio alimentação e refeição, que possibilite a aquisição de refeições prontas e gêneros alimentícios “in natura” em rede de estabelecimentos credenciados (Hipermercados, Atacadistas, Supermercados, Mercados, Mercearias, Açougues, Padarias, Frutarias, Peixarias, etc.)]()(4), na forma definida pelo Ministério do Trabalho e Emprego, regulamentado pelo Programa de Alimentação do Trabalhador – PAT, aos empregados da Empresa de Assistência Técnica e Extensão Rural do Distrito Federal EMATER – DF para um número estimado de 308 beneficiários (empregados) e 09 beneficiários (menores aprendizes), totalizando 317. A\n",
    "EMATER-DF informa a ADJUDICAÇÃO e HOMOLOGAÇÃO final do certame à [SODEXO PASS DO BRASIL SERVIÇOS E COMÉRCIO S.A]()(5), CNPJ [69.034.668/0001- 56]()(6), no valor total de R$ [16.005.000,00]()(7) (Dezesseis milhões e cinco mil reais). JOÃO DE DEUS ABREU SOARES Pregoeiro\n",
    "\n",
    "\n",
    "### [DODF N° 135 - 19/07/2019](http://www.buriti.df.gov.br/ftp/diariooficial/2019/07_Julho/DODF%20135%2019-07-2019/DODF%20135%2019-07-2019%20INTEGRA.pdf)\n",
    "\n",
    "\n",
    "> AVISO DE ADJUDICAÇÃO E HOMOLOGAÇÃO PREGÃO ELETRÔNICO Nº 36/2018 PROCESSO; [00050-00049042/2018-08]()(1). TIPO: [Menor Preço]()(2). OBJETO: [Contratação de empresa especializada para realização de serviço de locação de 10 (dez) equipamentos de Raio X (body scan e seus periféricos), compreendendo serviço de locação dos equipamentos, manutenções preventivas e corretivas dos equipamentos e cursos de treinamento para os operadores das máquinas, pelo período de 48 meses]()(3), para [inspeção corporal para os internos da Subsecretaria do Sistema Penitenciário da Secretaria de Estado da Segurança Pública]()(4) A SSPDF com fulcro nos incisos V e VI, do artigo 8º, do Decreto nº 5.450/2005, informa a ADJUDICAÇÃO do objeto à empresa [NUCTECH do Brasil LTDA]()(5), CNPJ: [19.892.624/0001-99]()(6), no valor total para 48 meses de R$ [4.560.000,00]()(7); e a HOMOLOGAÇÃO do certame. Brasília/DF, 18 de julho de 2019 AMILCAR UBIRATAN URACH VIEIRA Coordenador de Licitações, Contratos e Convênios\n",
    "\n",
    "> AVISO DE ADJUDICAÇÃO E HOMOLOGAÇÃO PREGÃO ELETRÔNICO Nº 17/2019 PROCESSO: [00050-00050849/2018-85]()(1). TIPO: [Menor Preço]()(2). OBJETO: [Registro de Preços de material para futura aquisição de televisões e Cartuchos/Tonners de impressão]()(3), para [atender demandas da Secretaria de Estado de Segurança Pública do Distrito Federal]()(4). A SSPDF informa, com fulcro no inciso IX do artigo 11, do Decreto nº 5.450/2005, a ADJUDICAÇÃO do item 1 à [INFOJET Comercio e Serviços de Informática LTDA]()(5), CNPJ [05.888.814/0001-28]()(6), no valor total de R*$* [14.398,90]()(7); do item 2 à [CGF Comércio de Produtos de Informática, Escritório e S]()(5), CNPJ [01.251.189/0001-58]()(6), no valor total de R*$* [65.970,00]()(7); dos itens 3 e 5 à [A H DA S MORAES]()(5), CNPJ [02.437.839/0001-17]()(6), no valor total de R*$* [3.250,00]()(7); dos itens 4 e 6 à [R.N. BALTAZAR Comércio de Informática]()(5), CNPJ [26.668.902/0001-94]()(6), no valor total de R*$* R*$* [5.049,50]()(7); totalizando R$ [88.668,40]()(8) licitados. A SSPDF informa ainda a HOMOLOGAÇÃO do certame com fulcro no inciso VI do Artigo 8º, do Decreto nº 5.450/2005. Brasília/DF, 18 de julho de 2019 AMILCAR UBIRATAN URACH VIEIRA Coordenador de Licitações, Contratos e Convênios\n",
    "\n",
    "> AVISO DE ADJUDICAÇÃO E HOMOLOGAÇÃO PREGÃO ELETRÔNICO Nº 16/2019 PROCESSO: [00050-00047771/2018-11]()(1). TIPO: [Menor Preço]()(2). OBJETO: [Aquisição de tiras de sandálias, de luvas multiuso de látex, cartões de memória e placa acrílica]()(3) para [identificação de autoridades em reuniões para atender demandas da Secretaria de Estado de Segurança Pública do Distrito Federal]()(4). A SSPDF informa, com fulcro no inciso IX do artigo 11, do Decreto nº 5.450/2005, a ADJUDICAÇÃO do item 1 à empresa [Ponto do Artesão Comércio e Distribuidora Ltda]()(5), CNPJ [01.229.218/0001-51]()(6), no valor total de R*$* [51.240,00]()(7); do item 2 à empresa [Almix Comércio de Suprimentos Eireli]()(5), CNPJ [11.594.621/0001-67]()(6) no valor total de R*$* [5.976,00]()(7); do item 3 à empresa [J2 Comércio de Utilidades e Distribuidora Logística Eireli]()(5); CNPJ: [13.816.522/0001-08]()(6), no valor total de R*$* [161,86]()(7); do item 4 à empresa [BR Display e Placas Eireli]()(5), CNPJ: [42.941.690/0001-23]()(6), no valor total de R*$* [3.135,00]()(7). Informa ainda a HOMOLOGAÇÃO do certame com fulcro no inciso VI do Artigo 8°, doDecreto nº 5.450/2005. Brasília/DF, 18 de julho de 2019 AMILCAR UBIRATAN URACH VIEIRA Coordenador de Licitações, Contratos e Convênios\n",
    "\n",
    "> AVISO DE ADJUDICAÇÃO E HOMOLOGAÇÃO PREGÃO ELETRÔNICO Nº 22/2019 PROCESSO: [00050-00004195/2019-07]()(1). TIPO: [Menor Preço]()(2). OBJETO: [Contratação de empresa especializada na prestação de serviços de limpeza e conservação forma contínua, com fornecimento de materiais]()(3), para [atender as unidades da Secretaria de Estado de Segurança Pública do Distrito Federal]()(4). A SSPDF informa, com fulcro nos incisos V e VI, do artigo 8º e no inciso IX do Artigo 11, do Decreto nº 5.450/2005, a ADJUDICAÇÃO dos grupos 1 e 3 à empresa [SERVEGEL Apoio Administrativo e Suporte Operacional Ltda.]()(5) CNPJ [01.608.603/0001-33]()(6), no valor anual de R*$* [7.562.507,28]()(7); e dos grupos 2 e 4 à empresa [R&R Serviços de Limpeza e Conservação Ltda.]()(5), CNPJ: [08.173.071/0001-06]()(6), no valor anual de R$ [1.627.922,86]()(7); e a HOMOLOGAÇÃO do certame. Brasília/DF, 18 de julho de 2019 AMILCAR UBIRATAN URACH VIEIRA Coordenador de Licitações, Contratos e Convênios\n",
    "\n",
    "> PREGÃO ELETRÔNICO Nº 23/2019 PROCESSO Nº SEI - [00053-00042559/2019-64/CBMDF]()(1). TIPO: [Menor preço]()(2). OBJETO: [Aquisição de otoscópios e fotóforos]()(3) para o [funcionamento da clínica de Otorrinolaringologia do CBMDF]()(4). O DICOA informa a ADJUDICAÇÃO do objeto da licitação às empresas: [DINÂMICA DISTRIBUIDORA DE EQUIPAMENTOS EIRELI]()(5), CNPJ: [21.034.428/0001-25]()(6), vencedora do item 1, com o valor de R*$* [4.499,97]()(7) e [DOCTUS EQUIPAMENTOS MEDICOS LTDA]()(5), CNPJ: [06.696.246/0001-26]()(6), vencedora do item 2, com valor de R*$* [13.752,00]()(7) e a HOMOLOGAÇÃO do certame com fulcro no art. 27 do Dec. Federal nº 5.450/05, Inf.: (61) 3901-3481. Marcelo Teixeira Dantas - Cel. QOBM/Combatente -D i r e t o r\n",
    "\n",
    "> PREGÃO ELETRÔNICO Nº 31/2019 PROCESSO Nº SEI - [00053-00046018/2019-13/CBMDF]()(1). TIPO: [Menor preço]()(2). OBJETO: [Aquisição de insumos para continuação de pesquisa técnico-científica sobre protótipo de Líquido Gerador de Espuma (LGE)]()(3) para o [CBMDF]()(4). O DICOA informa a ADJUDICAÇÃO do objeto da licitação às empresas: [MULTIPLIER DISTRIBUIDORA EIRELI EPP]()(5), CNPJ: [21.268.634/0001-08]()(6), vencedora dos grupos 1 e 2, com o valor de R*$* [43.895,00]()(7); [ADONEX COMÉRCIO DE PRODUTOS PARA LABORATÓRIO LTDA]()(5), CNPJ: [08.238.866/0001-47]()(6) vencedora do grupo 3, com o valor de R$ R*$* [2.380,00]()(7) e [CRYSTALLAB COMÉRCIO DE ARTIGOS PARA LABORATÓRIO EIRELI]()(5), CNPJ: [33.599.681/0001-05]()(6), vencedora do grupo 4, com valor de R*$* [3.990,70]()(7) e a HOMOLOGAÇÃO do certame com fulcro no art. 27 do Dec. Federal nº 5.450/05, Inf.: (61) 3901-3481. Marcelo Teixeira Dantas - Cel. QOBM/Combatente - Diretor.\n"
   ],
   "cell_type": "markdown",
   "metadata": {}
  },
  {
   "cell_type": "code",
   "execution_count": null,
   "metadata": {},
   "outputs": [],
   "source": []
  }
 ]
}