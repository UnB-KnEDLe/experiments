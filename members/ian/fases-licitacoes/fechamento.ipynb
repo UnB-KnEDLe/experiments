{
 "metadata": {
  "language_info": {
   "codemirror_mode": {
    "name": "ipython",
    "version": 3
   },
   "file_extension": ".py",
   "mimetype": "text/x-python",
   "name": "python",
   "nbconvert_exporter": "python",
   "pygments_lexer": "ipython3",
   "version": 3
  },
  "orig_nbformat": 2
 },
 "nbformat": 4,
 "nbformat_minor": 2,
 "cells": [
  {
   "source": [
    "# Fechamento (Resultado de licitação)\n",
    "\n",
    "\n",
    "\n",
    "## Tabela de entidades e padrões\n",
    "\n",
    "- A fase de resultado de licitação se iniciam com o trecho **\"AVISOS DE RESULTADO DE LICITAÇÃO\"**, porém em um DODF, aparecem vários pregões com os resultados no mesmo aviso\n",
    "\n",
    "|id|Entidade|Padrão|Obrigatoriedade|\n",
    "|:--:|:--|:--|:--:|\n",
    "|1|Código UASG| Após \"UASG:\" |Sim|\n",
    "|2|Objeto|Após \"cujo objeto {são}\"|Sim|\n",
    "|3|Empresa|Após \"Empresa:\"|Sim|\n",
    "|4|CNPJ|Após \"CNPJ:\"|Sim|\n",
    "|5|Valor|Após \"com valor total de R*$*\"|Sim|\n",
    "|6|Finalidade do objeto|Após \"para 'palavra referente a finalidade (auxiliar, etc...)'|Não|\n",
    "\n",
    "## Exemplos\n",
    "\n",
    "### [DODF N° 5 - 08/01/2021](https://dodf.df.gov.br/index/visualizar-arquivo/?pasta=2021|01_Janeiro|DODF%20005%2008-01-2021|&arquivo=DODF%20005%2008-01-2021%20INTEGRA.pdf)\n",
    "\n",
    "> PREGÃO ELETRÔNICO PE Nº 216/2020 O Pregoeiro da CAESB no uso de suas atribuições, torna público o resultado de julgamento do pregão supracitado, realizado no www.comprasnet.gov.br, UASG: [974200]()(1), cujo objeto [Registro de preços para aquisição de cal hidratada em pó sacos de 20kg]()(2), da forma que se segue: Empresa: [CASA DO BOI PRODUTOS AGROPECUARIOS EIRELI]()(3), CNPJ: [03.716.644/0001-79]()(4), vencedora do item 2, com o valor total de R*$* [98.302,04]()(5) e Empresa: [AVANEX INDUSTRIA E COMERCIO LTDA]()(3), CNPJ: [78.668.969/0001-22]()(4), vencedora do item 1 com o valor total de R*$*[239.208,05]()(5). DIEGO PIRINEUS PATTI\n",
    "\n",
    "> PREGÃO ELETRÔNICO PE Nº 219/2020 A Pregoeira da CAESB no uso de suas atribuições, torna público o resultado de julgamento do pregão supracitado, realizado no www.comprasnet.gov.br, UASG: [974200]()(1), cujo objeto [Registro de preços para aquisição de bloqueadores infláveis\n",
    "multidimensionais, com faixa de aplicação para tubulações de esgotos]()(2), da forma que se segue: Empresa: [MACCAFER COMÉRCIO DE MAQUINAS E EQUIPAMENTOS LTDA]()(3), CNPJ: [18.672.510/0001-70]()(4), vencedora dos itens 1 e 2, com valor total de R*$* [46.782,46]()(5); Empresa: [ICSER INDUSTRIA E COMERCIO LTDA]()(3), CNPJ:[58.096.728/0001-49]()(4), vencedora dos itens 3, 4, 5, 6, 7 e 8, com valor total de R*$* [50.263,19]()(5); Empresa: [NUNES OLIVEIRA MAQUINAS E FERRAMENTAS LTDA]()(3), CNPJ: [61.112.215/0001-99]()(4) vencedora do item 9, com valor total de R$ [27.192,97]()(5). ELISA TEREZINHA HAMMES \n",
    "\n",
    "\n",
    "### [DODF N° 226 - 02/12/2020](https://www.dodf.df.gov.br/index/visualizar-arquivo/?pasta=2020/12_Dezembro/DODF%20226%2002-12-2020&arquivo=DODF%20226%2002-12-2020%20INTEGRA.pdf)\n",
    "\n",
    "> PREGÃO ELETRÔNICO PE Nº 168/2020 O Pregoeiro da CAESB no uso de suas atribuições, torna público o resultado de julgamento do pregão supracitado, realizado no www.comprasnet.gov.br, UASG: [974200]()(1), cujo objeto são [serviços de calibrações, qualificações térmicas e/ou certificações, acreditadas pela Rede Brasileira de Calibração (RBC) ou Rede brasileira de Laboratórios de Ensaio (RBLE), incluindo manutenções preventivas]()(2), da forma que se segue: Empresa: [VISOMES COMERCIAL METROLOGICA LTDA]()(3), CNPJ: [00.567.892/0001-07]()(4), vencedora do item 1, com o valor total de R$ [199.950,00]()(5). DIEGO PIRINEUS PATTI\n",
    "\n",
    "> PREGÃO ELETRÔNICO PE Nº 217/2020 A Pregoeira da CAESB no uso de suas atribuições, torna público o resultado de julgamento do pregão supracitado, realizado no www.comprasnet.gov.br, UASG: [974200]()(1), cujo objeto é aquisição de [tubos em Polietileno de Alta Densidade – PEAD, na forma do Sistema de Registro de preços – SRP]()(2), da forma que se segue: Empresa: [F.G.S BRASIL INDÚSTRIA E COMÉRCIO LTDA]()(3), CNPJ: [02.291.486/0001-90]()(4), vencedora dos itens 9 e 10 com o valor total de R*$*[336.535,78]()(5); Empresa [POLIERG INDÚSTRIA E COMÉRCIO LTDA]()(3), CNPJ: [45.010.717/0001-52]()(4), vencedora dos itens 5 e 6 com o valor total de R*$*[664.848,00]()(5). Os itens 1, 2, 3, 4, 7, 8, 11, 12, 13, 14, 15, 16, 17 e 18 restaram fracassados. ELISA TEREZINHA HAMMES\n",
    "\n",
    "\n",
    "## [DODF N° 245 - 26/12/2019](https://www.dodf.df.gov.br/index/visualizar-arquivo/?pasta=2019/12_Dezembro/DODF%20245%2026-12-2019&arquivo=DODF%20245%2026-12-2019%20INTEGRA.pdf)\n",
    "\n",
    "> PREGÃO ELETRÔNICO PE Nº 158/2019 (*) A Pregoeira da CAESB no uso de suas atribuições, torna público o resultado de julgamento do pregão supracitado, realizado no www.comprasnet.gov.br, UASG: [974200]()(1), cujo objeto é a [Contratação de empresa especializada para fornecimento por meio de Registro de Preços para aquisição de café, açúcares e filtros de papel]()(2): da forma que se segue: [Empresa UEDAMA COMÉRCIO DE PRODUTOS ALIMENTÍCIOS LTDA]()(3), CNPJ: [00.543.061/0001-03]()(4), vencedora do itens 1, 2, 3 e 4 com o valor total de R*$* [44.704,00]()(5); Empresa [N. B. DISTRIBUIDORA E IMPORTADORA DE PRODUTOS E EQUIPAMENTOS EIRELLI]()(3) , CNPJ: [20.425.201/0001-48]()(4), vencedora do item 8 com o valor total de R*$* [1.120,00]()(5); Empresa [GLA COMERCIAL EIRELI]()(3), CNPJ: [29.492.549/0001-22]()(4), vencedora do item 7 com o valor total de R*$* [3.396,00]()(5) e Empresa [CAFÉ PACAEMBU LTDA]()(3) , CNPJ: [72.861.461/0001-60]()(4), vencedora dos itens 5 e 6 com o valor total de R*$* [120.448,00]()(5). Os itens 9 e 10 restaram fracassados. NARA MAGALHÃES DA SILVA\n",
    "\n",
    "> PREGÃO ELETRÔNICO PE Nº 224/2019 A Pregoeira da CAESB no uso de suas atribuições, torna público o resultado de julgamento do pregão supracitado, realizado no www.comprasnet.gov.br, UASG: [974200]()(1), cujo objeto é o [Registro de preços para aquisição de materiais de concreto armado para redes de água e esgoto (abrigo em concreto para hidrômetro, aduelas, blocos, dentre outros)]()(2), da forma que se segue: Empresa [PRO TELAS COMÉRCIO INDÚSTRIA LTDA]()(3), CNPJ: [00.569.582/0001-21]()(4), vencedora dos itens 1, 2, 3, 4, 9, 10, 11, 13, 15, 16, 17, 18, 19, 20, 21 e 22 com o valor total de R*$* [1.492.251,26]()(5); Empresa [BSB INDÚSTRIA E COMÉRCIO DE PREMOLDADOS LTDA]()(3), CNPJ: [03.912.731/0001-00]()(4), vencedora dos itens 5, 6, 7, 8, 12, 14 com o valor total de R*$* [247.212,78]()(5). Os itens 23, 24, 25, 26, 27, 28 restaram desertos e ou fracassados. NARA MAGALHÃES DA SILVA\n",
    "\n",
    "> PREGÃO ELETRÔNICO PE Nº 248/2019 O Pregoeiro da CAESB no uso de suas atribuições, torna público o resultado de julgamento do pregão supracitado, realizado no www.comprasnet.gov.br, UASG: [974200]()(1), cujo objeto é o [registro de preços para aquisição de peças e acessórios originais dos Cloradores Siemens (válvula de linha para tubos e conectores, injetor adj throat e outros)]()(2), da forma que se segue: Empresa [PLANALTO HIDROTECNOLOGIA LTDA]()(3), CNPJ: [03.040.521/0001-60]()(4), vencedora do item 1 com o valor total de R$ [1.227.700,67]()(5). DIEGO PIRINEUS PATTI\n",
    "\n",
    "\n",
    "## [DODF N° 244 - 24/12/2019](https://www.dodf.df.gov.br/index/visualizar-arquivo/?pasta=2019/12_Dezembro/DODF%20244%2024-12-2019&arquivo=DODF%20244%2024-12-2019%20INTEGRA.pdf)\n",
    "\n",
    "> PREGÃO ELETRÔNICO PE Nº 230/2019 O Pregoeiro da CAESB no uso de suas atribuições, torna público o resultado de julgamento do pregão supracitado, realizado no www.comprasnet.gov.br, UASG: [974200]()(1), cujo objeto é aquisição [Registro de preços para aquisição de materiais PEAD (tubo pead pe 100, luva e outros)]()(2), da forma que se segue: [Empresa F.G.S. BRASIL INDÚSTRIA E COMÉRCIO LTDA]()(3), CNPJ: [02.291.486/0001-90]()(4), vencedora do item 32 com o valor total de R*$* [44.396,10]()(5); Empresa [CORR PLASTIK SISTEMAS PLASTICOS LTDA]()(3), CNPJ: [32.540.611/0001-19]()(4), vencedora do item 26 com o valor total de R*$* [129.546,00]()(5); Empresa [NOVA ATACADISTA PARA CONSTRUCAO LTDA]()(3), CNPJ: [26.392.294/0001-38]()(4), vencedora dos itens 1, 2, 3, 4, 5, 6, 7, 8, 9, 15, 16, 17, 18, 19, 22, 23, 24, 25, 27, 30, 31, 33, 34, 35, 36 e 37 com o valor total de R*$* [178.206,07]()(5); Os itens 10, 11, 12, 13, 14, 20, 21, 28 e 29 restaram fracassados ou desertos. SILVIO S. GONÇALVES SOARES\n",
    "\n",
    "> PREGÃO ELETRÔNICO PE Nº 280/2019 O Pregoeiro da CAESB no uso de suas atribuições, torna público o resultado de julgamento do pregão supracitado, realizado no www.comprasnet.gov.br, UASG: [974200]()(1), cujo objeto é a contratação de [Serviço de Agente de Integração, público ou privado]()(2), para [auxiliar na gestão do Programa de Estágio de Formação Profissional da Caesb, que concede vagas de estágio profissional não obrigatório para estudantes de cursos de nível superior de instituições públicas ou privadas e de cursos de nível médio/técnico da rede pública de ensino]()(6), exclusivamente, da forma que se segue: [Empresa CENTRO DE INTEGRACAO EMPRESA ESCOLA CIE E]()(3), CNPJ: [61.600.839/0001-55]()(4), vencedora do item 1 com o valor total de R*$* [4.996.212,48]()(5). DIEGO PIRINEUS PATTI"
   ],
   "cell_type": "markdown",
   "metadata": {}
  },
  {
   "cell_type": "code",
   "execution_count": null,
   "metadata": {},
   "outputs": [],
   "source": []
  }
 ]
}