{
 "cells": [
  {
   "cell_type": "code",
   "execution_count": 15,
   "metadata": {},
   "outputs": [],
   "source": [
    "import pandas as pd\n",
    "import numpy as np"
   ]
  },
  {
   "cell_type": "code",
   "execution_count": 2,
   "metadata": {},
   "outputs": [],
   "source": [
    "df = pd.read_csv('csv/contrato_convenio.csv')"
   ]
  },
  {
   "cell_type": "code",
   "execution_count": 3,
   "metadata": {},
   "outputs": [
    {
     "data": {
      "text/plain": [
       "Index(['Unnamed: 0', 'arquivo_rast', 'text', 'ato', 'dodf', 'treated_text',\n",
       "       'PROCESSO', 'CONTRATANTE', 'CONTRATADA', 'OBJ_AJUSTE', 'VIGENCIA',\n",
       "       'VALOR', 'PT', 'DATA_ASSINATURA', 'CODIGO_UO', 'ND', 'NE',\n",
       "       'FUND_DISPENSA', 'ORGAO_LICITANTE', 'NUM_LICITACAO', 'NUM_CONTRATO',\n",
       "       'IDENT_DISPENSA', 'CONVENENTE', 'OG_ATA', 'FONTE_RECURSO',\n",
       "       'CNPJ_CONTRATADA', 'CONCEDENTE', 'CNPJ_CONVENENTE', 'CNPJ_CONTRATANTE',\n",
       "       'CNPJ_CONCEDENTE', 'NOME_RESPONSAVEL', 'IOB'],\n",
       "      dtype='object')"
      ]
     },
     "execution_count": 3,
     "metadata": {},
     "output_type": "execute_result"
    }
   ],
   "source": [
    "df.columns"
   ]
  },
  {
   "cell_type": "code",
   "execution_count": 19,
   "metadata": {},
   "outputs": [],
   "source": [
    "for i in range(len(df)):\n",
    "    if not pd.isna(df['CNPJ_CONTRATANTE'][i]) and not pd.isna(df['CNPJ_CONCEDENTE'][i]):\n",
    "        print(i)"
   ]
  },
  {
   "cell_type": "code",
   "execution_count": 16,
   "metadata": {},
   "outputs": [],
   "source": [
    "df['CONTRATANTE_ou_CONCEDENTE'] = np.nan\n",
    "\n",
    "for i in range(len(df)):\n",
    "    if not pd.isna(df['CONTRATANTE'][i]):\n",
    "        df.loc[i, 'CONTRATANTE_ou_CONCEDENTE'] = df['CONTRATANTE'][i]\n",
    "    elif not pd.isna(df['CONCEDENTE'][i]):\n",
    "        df.loc[i, 'CONTRATANTE_ou_CONCEDENTE'] = df['CONCEDENTE'][i]"
   ]
  },
  {
   "cell_type": "code",
   "execution_count": 17,
   "metadata": {},
   "outputs": [],
   "source": [
    "df['CONTRATADA_ou_CONVENENTE'] = np.nan\n",
    "\n",
    "for i in range(len(df)):\n",
    "    if i == 199:\n",
    "        df.loc[i, 'CONTRATANTE_ou_CONCEDENTE'] = df['CONTRATADA'][i]\n",
    "        df.loc[i, 'CONTRATADA_ou_CONVENENTE'] = df['CONVENENTE'][i]\n",
    "    elif not pd.isna(df['CONTRATADA'][i]):\n",
    "        df.loc[i, 'CONTRATADA_ou_CONVENENTE'] = df['CONTRATADA'][i]\n",
    "    elif not pd.isna(df['CONVENENTE'][i]):\n",
    "        df.loc[i, 'CONTRATADA_ou_CONVENENTE'] = df['CONVENENTE'][i]"
   ]
  },
  {
   "cell_type": "code",
   "execution_count": 20,
   "metadata": {},
   "outputs": [],
   "source": [
    "df['CNPJ_CONTRATANTE_ou_CONCEDENTE'] = np.nan\n",
    "\n",
    "for i in range(len(df)):\n",
    "    if not pd.isna(df['CNPJ_CONTRATANTE'][i]):\n",
    "        df.loc[i, 'CNPJ_CONTRATANTE_ou_CONCEDENTE'] = df['CNPJ_CONTRATANTE'][i]\n",
    "    elif not pd.isna(df['CNPJ_CONCEDENTE'][i]):\n",
    "        df.loc[i, 'CNPJ_CONTRATANTE_ou_CONCEDENTE'] = df['CNPJ_CONCEDENTE'][i]"
   ]
  },
  {
   "cell_type": "code",
   "execution_count": 21,
   "metadata": {},
   "outputs": [],
   "source": [
    "df['CNPJ_CONTRATADA_ou_CONVENENTE'] = np.nan\n",
    "\n",
    "for i in range(len(df)):\n",
    "    if not pd.isna(df['CNPJ_CONTRATADA'][i]):\n",
    "        df.loc[i, 'CNPJ_CONTRATADA_ou_CONVENENTE'] = df['CNPJ_CONTRATADA'][i]\n",
    "    elif not pd.isna(df['CNPJ_CONVENENTE'][i]):\n",
    "        df.loc[i, 'CNPJ_CONTRATADA_ou_CONVENENTE'] = df['CNPJ_CONVENENTE'][i]"
   ]
  },
  {
   "cell_type": "code",
   "execution_count": 22,
   "metadata": {},
   "outputs": [
    {
     "data": {
      "text/plain": [
       "Index(['Unnamed: 0', 'arquivo_rast', 'text', 'ato', 'dodf', 'treated_text',\n",
       "       'PROCESSO', 'CONTRATANTE', 'CONTRATADA', 'OBJ_AJUSTE', 'VIGENCIA',\n",
       "       'VALOR', 'PT', 'DATA_ASSINATURA', 'CODIGO_UO', 'ND', 'NE',\n",
       "       'FUND_DISPENSA', 'ORGAO_LICITANTE', 'NUM_LICITACAO', 'NUM_CONTRATO',\n",
       "       'IDENT_DISPENSA', 'CONVENENTE', 'OG_ATA', 'FONTE_RECURSO',\n",
       "       'CNPJ_CONTRATADA', 'CONCEDENTE', 'CNPJ_CONVENENTE', 'CNPJ_CONTRATANTE',\n",
       "       'CNPJ_CONCEDENTE', 'NOME_RESPONSAVEL', 'IOB',\n",
       "       'CONTRATANTE_ou_CONCEDENTE', 'CONTRATADA_ou_CONVENENTE',\n",
       "       'CNPJ_CONTRATANTE_ou_CONCEDENTE', 'CNPJ_CONTRATADA_ou_CONVENENTE'],\n",
       "      dtype='object')"
      ]
     },
     "execution_count": 22,
     "metadata": {},
     "output_type": "execute_result"
    }
   ],
   "source": [
    "df.columns"
   ]
  },
  {
   "cell_type": "code",
   "execution_count": 26,
   "metadata": {},
   "outputs": [],
   "source": [
    "data = df[['arquivo_rast', 'text', 'ato', 'dodf', 'treated_text',\n",
    "       'PROCESSO', 'OBJ_AJUSTE', 'VIGENCIA',\n",
    "       'VALOR', 'PT', 'DATA_ASSINATURA', 'CODIGO_UO', 'ND', 'NE',\n",
    "       'FUND_DISPENSA', 'ORGAO_LICITANTE', 'NUM_LICITACAO', 'NUM_CONTRATO',\n",
    "       'IDENT_DISPENSA', 'OG_ATA', 'FONTE_RECURSO', 'NOME_RESPONSAVEL', \n",
    "       'CONTRATANTE_ou_CONCEDENTE', 'CONTRATADA_ou_CONVENENTE',\n",
    "       'CNPJ_CONTRATANTE_ou_CONCEDENTE', 'CNPJ_CONTRATADA_ou_CONVENENTE', 'IOB']]"
   ]
  },
  {
   "cell_type": "code",
   "execution_count": 27,
   "metadata": {},
   "outputs": [],
   "source": [
    "data.to_csv('csv/contrato_convenio_unidos.csv')"
   ]
  }
 ],
 "metadata": {
  "kernelspec": {
   "display_name": "Python 3.9.13 ('venv': venv)",
   "language": "python",
   "name": "python3"
  },
  "language_info": {
   "codemirror_mode": {
    "name": "ipython",
    "version": 3
   },
   "file_extension": ".py",
   "mimetype": "text/x-python",
   "name": "python",
   "nbconvert_exporter": "python",
   "pygments_lexer": "ipython3",
   "version": "3.9.13"
  },
  "orig_nbformat": 4,
  "vscode": {
   "interpreter": {
    "hash": "326a1a2f783c07b18559778bdda0b8194460ae1418816323f0f6f16e12b614e5"
   }
  }
 },
 "nbformat": 4,
 "nbformat_minor": 2
}
