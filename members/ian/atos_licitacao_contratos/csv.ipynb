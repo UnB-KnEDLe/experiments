{
 "cells": [
  {
   "cell_type": "code",
   "execution_count": 1,
   "metadata": {},
   "outputs": [],
   "source": [
    "import pandas as pd"
   ]
  },
  {
   "cell_type": "code",
   "execution_count": 2,
   "metadata": {},
   "outputs": [],
   "source": [
    "adi = pd.read_parquet('parquet/aditamento_833_acts_200x_2018_2020.parquet')\n",
    "anr = pd.read_parquet('parquet/anulacao-revogacao_34_acts_200x_2018_2020.parquet')\n",
    "con = pd.read_parquet('parquet/contrato-convenio_566_acts_200x_2018_2020.parquet')\n",
    "lic = pd.read_parquet('parquet/licitacao_435_acts_200x_2018_2020.parquet')\n",
    "sus = pd.read_parquet('parquet/suspensao_25_acts_200x_2018_2020.parquet')\n"
   ]
  },
  {
   "cell_type": "code",
   "execution_count": 3,
   "metadata": {},
   "outputs": [],
   "source": [
    "adi.to_csv('csv/aditamento_contratual.csv')\n",
    "anr.to_csv('csv/anulacao_revogacao.csv')\n",
    "con.to_csv('csv/contrato_convenio.csv')\n",
    "lic.to_csv('csv/licitacao.csv')\n",
    "sus.to_csv('csv/suspensao.csv')"
   ]
  },
  {
   "cell_type": "code",
   "execution_count": null,
   "metadata": {},
   "outputs": [],
   "source": []
  }
 ],
 "metadata": {
  "interpreter": {
   "hash": "326a1a2f783c07b18559778bdda0b8194460ae1418816323f0f6f16e12b614e5"
  },
  "kernelspec": {
   "display_name": "Python 3.9.13 ('venv': venv)",
   "language": "python",
   "name": "python3"
  },
  "language_info": {
   "codemirror_mode": {
    "name": "ipython",
    "version": 3
   },
   "file_extension": ".py",
   "mimetype": "text/x-python",
   "name": "python",
   "nbconvert_exporter": "python",
   "pygments_lexer": "ipython3",
   "version": "3.9.13"
  },
  "orig_nbformat": 4
 },
 "nbformat": 4,
 "nbformat_minor": 2
}
