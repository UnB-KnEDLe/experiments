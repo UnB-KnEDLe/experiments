{
 "metadata": {
  "language_info": {
   "codemirror_mode": {
    "name": "ipython",
    "version": 3
   },
   "file_extension": ".py",
   "mimetype": "text/x-python",
   "name": "python",
   "nbconvert_exporter": "python",
   "pygments_lexer": "ipython3",
   "version": "3.6.8-final"
  },
  "orig_nbformat": 2,
  "kernelspec": {
   "name": "python368jvsc74a57bd06a5ed2ccc9d2ba59c3542bbda7f71bcfb6eae0ef46ae44aa32b9fd054184bad6",
   "display_name": "Python 3.6.8 64-bit"
  },
  "metadata": {
   "interpreter": {
    "hash": "6a5ed2ccc9d2ba59c3542bbda7f71bcfb6eae0ef46ae44aa32b9fd054184bad6"
   }
  }
 },
 "nbformat": 4,
 "nbformat_minor": 2,
 "cells": [
  {
   "source": [
    "import glob\n",
    "import re\n",
    "import pandas as pd\n",
    "from yattag import Doc\n",
    "import unicodedata"
   ],
   "cell_type": "code",
   "metadata": {},
   "execution_count": 253,
   "outputs": []
  },
  {
   "cell_type": "code",
   "execution_count": 254,
   "metadata": {},
   "outputs": [],
   "source": [
    "doc, tag, text = Doc().tagtext()"
   ]
  },
  {
   "cell_type": "code",
   "execution_count": 255,
   "metadata": {},
   "outputs": [],
   "source": [
    "txt_files = glob.glob('data/**/**/*.txt')"
   ]
  },
  {
   "source": [
    "# AVISOS DE RESULTADO DE LICITACAO"
   ],
   "cell_type": "markdown",
   "metadata": {}
  },
  {
   "cell_type": "code",
   "execution_count": 261,
   "metadata": {},
   "outputs": [],
   "source": [
    "all_contracts = []\n",
    "for txt in txt_files:\n",
    "    instances = re.findall('AVISOS (?:de)? RESULTADO (?:.*LICITACAO)([\\s\\S]*?)\\.\\n',\n",
    "                            unicodedata.normalize('NFKD', open(txt, encoding='utf-8').read()), \n",
    "                            re.IGNORECASE)\n",
    "    all_contracts.extend(instances)"
   ]
  },
  {
   "cell_type": "code",
   "execution_count": 262,
   "metadata": {
    "tags": [
     "outputPrepend"
    ]
   },
   "outputs": [
    {
     "output_type": "stream",
     "name": "stdout",
     "text": [
      "3, 94, 97 e 98 com o valor total de R$ 26.421,72; Empresa WZ UNIAO AUTOMACAO\\nE ELETRICA EIRELI, CNPJ: 08.772.301/0001-45, vencedora do item 100 com o valor total de R$\\n573,50; Empresa KHARISMA COMERCIAL LTDA, CNPJ: 17.475.850/0001-49, vencedora dos itens\\n47, 48, 49, 50, 51, 52, 54, 57, 58 e 76 com o valor total de R$ 78.142,27; Empresa RM COMERCIO\\nDE MERCADORIAS E MATERIAIS LTDA, CNPJ: 20.784.313/0001-95, vencedora dos itens 67 e 68\\ncom o valor total de R$ 36.009,05; Empresa NOVA ATACADISTA PARA CONSTRUCAO LTDA,\\nCNPJ: 26.392.294/0001-38, vencedora do item 60 com o valor total de R$ 1.388,80; Empresa S.K\\nFERNANDES AUTOMACAO INDUSTRIAL EIRELI, CNPJ: 27.253.891/0001-44, vencedora dos\\nitens 3, 25, 29, 32, 33, 37, 38, 39, 40 e 46 com o valor total de R$ 93.116,15; Empresa RBS\\nCONSTRUCAO E CONSERVACAO PREDIAL LTDA, CNPJ: 28.642.042/0001-45, vencedora dos\\nitens 84, 86 e 99 com o valor total de R$ 5.107,20; Empresa MARIA CONSUELO SOARES DA\\nMATA, CNPJ: 28.697.784/0001-78, vencedora dos itens 43, 44, 59, 61, 62, 63, 64, 69, 71, 72, 73,\\n74, 75, 89 e 90 com o valor total de R$ 15.383,10; Empresa ILUMINAR COMERCIO E\\nREPRESENTACOES EIRELI, CNPJ: 29.760.831/0001-43, vencedora dos itens 70, 81, 83 e 85 com\\no valor total de R$ 43.625,14 e Empresa J2R AUTOMACAO LTDA- EIRELI, CNPJ:\\n30.247.600/0001-10, vencedora dos itens 26, 28, 30, 34, 77, 78, 79, 80, 95 e 96 com o valor total\\nde R$ 81.061,02. Os itens 1, 2, 4, 5, 6, 7, 8, 9, 10, 11, 12, 13, 14, 15, 16, 17, 18, 19, 20, 21, 22,\\n41, 42, 45, 55, 56, 65, 66, 82, 87, 88, 91 e 92 restaram fracassados', '\\nPREGAO ELETRONICO No 201/2019\\nO Pregoeiro da CAESB no uso de suas atribuicoes, torna publico o resultado de julgamento do pregao\\nsupracitado, realizado no www.comprasnet.gov.br, UASG: 974200, cujo objeto e o servico de contratacao\\nde seguro empresarial de responsabilidade civil para administradores - D&O (Directors & Officers) e\\nextensoes, da forma que se segue: Empresa SOMPO SEGUROS S.A., CNPJ: 61.383.493/0001-80,\\nvencedora do item 1 com o valor total de R$ 76.800,00', '\\nPREGAO ELETRONICO No 194/2019-CAESB\\nO Pregoeiro da CAESB no uso de suas atribuicoes, torna publico o resultado de julgamento do pregao\\nsupracitado, realizado no www.comprasnet.gov.br, UASG: 974200, cujo objeto e Aquisicao de\\ncontainer maritimo Standard Dry, da forma que se segue: Empresa FRONT ESTRUTURAS EIRELI-\\nEPP, CNPJ: 12.219.645/0001-07, vencedora do item 1 com o valor total de R$ 76.271,16. O item\\n2 restou fracassado', '\\nPREGAO ELETRONICO PE No 229/2019\\nO Pregoeiro da CAESB no uso de suas atribuicoes, torna publico o resultado de julgamento do pregao\\nsupracitado, realizado no www.comprasnet.gov.br, UASG: 974200, cujo objeto e o Registro de precos para\\naquisicao de pecas e acessorios originais dos equipamentos Watson Marion (rotor em ferro fundido Bredel\\n65, drive qdos 120 e outros, da forma que se segue: Empresa WATSON-MARLOW BREDEL\\nINDUSTRIA E COMERCIO DE BOMBAS, CNPJ:07.910.191/0001-78, vencedora do lote 01(itens 1 a\\n594) com o valor total de R$ 21.665.144,76', '\\nA Caesb torna publico o resultado final do Pregao Eletronico PE 222/2018, Processo no\\n092.003787/2018, realizado no www.comprasnet.gov.br (UASG: 974200), cujo objeto e a contratacao\\nde empresa para prestacao de Servico de manutencao de equipamentos industriais das unidades do\\nSistema de Abastecimento de Agua (SSA) e do Sistema de Esgotamento Sanitario (SES) da Caesb no\\nDistrito Federal e suas areas de abrangencias, para atender as unidades da Regiao Sul e as unidades\\nda Regiao Centro Norte, da forma que se segue: empresa ATLANTICO ENGENHARIA LT D A ,\\nCNPJ:14.355.750/0001-90, vencedora do lote 1 com o valor global de R$ 8.667.791,92 (K = 0,8495),\\nque foi o maior desconto, percentual de 15,05% (quinze virgula zero cinco por cento). O resultado\\ndo lote 02 foi publicado no DODF n 51, secao 03, pagina n 37 do dia 18/03/19', '\\nPREGAO ELETRONICO PE No 198/2019\\nA Pregoeira da CAESB no uso de suas atribuicoes, torna publico o resultado de julgamento do pregao\\nsupracitado, realizado no www.comprasnet.gov.br, UASG: 974200, cujo objeto e Aquisicao de\\nequipamentos de medicao e controle de processos para serem utilizados nos laboratorios de analises fisico-\\nquimicas e microbiologicas de agua e esgoto da Caesb, da forma que se segue: Empresa LOBOV\\nCIENTIFICA,  IMPORTACAO, EXPORTACAO,  COMERCIO  DE EQUIPAMENTOS  PARA\\nLABORATO, CNPJ: 05.857.218/0001-80, vencedora dos itens 3, 7 e 8 com o valor total de R$\\n557.493,83; Empresa SOLAB LABORATORIO INDUSTRIA E COMERCIO EIRELI, CNPJ:\\n18.214.465/0001-00, vencedora dos itens 1 e 2 com o valor total de R$ 36.024,31; Empresa KATALYSIS\\nCOMERCIO, LOCACAO E SERVICOS EM EQUIPAMENTOS DE LABORATORIO LTDA, CNPJ:\\n14.448.178/0001-04, vencedora do item 9 com o valor total de R$ 884.210,52; Empresa RIW\\nEQUIPAMENTOS PARA LABORATORIO EIRELI, CNPJ: 23.842.405/0001-72, vencedora do item 20\\ncom o valor total de R$ 30.045,04; Empresa JPA LABOR COMERCIAL EIRELLI, CNPJ:\\n29.054.890/0001-04, vencedora dos itens 21 e 22 com o valor total de R$ 102.830,28; Empresa HEXIS\\nCIENTIFICA LTDA, CNPJ: 53.276.010/0001-10, vencedora do item 19 com o valor total de R$\\n32.894,73; Empresa DIGICROM ANALITICA LTDA, CNPJ: 60.160.546/0001-31, vencedora do item 10\\ncom o valor de R$ 531.531,52 e EMPRESA NOVA ANALITICA IMPORTACAO E EXPORTACAO\\nLTDA, CNPJ: 67.774.679/0001-47, vencedora do item 12 com o valor de R$ 63.157,89. Os itens 4, 5, 6,\\n11, 13, 14, 15, 16, 17 e 18 restaram fracassados ou desertos', '\\nPREGAO ELETRONICO PE No 194/2019 (*)\\nO Pregoeiro da CAESB no uso de suas atribuicoes, torna publico o resultado de julgamento do pregao\\nsupracitado, realizado no www.comprasnet.gov.br, UASG: 974200, cujo objeto e aquisicao de container\\nmaritimo Standard Dry, da forma que se segue: Empresa FRONT ESTRUTURAS EIRELI- EPP, CNPJ:\\n12.219.645/0001-07, vencedora do item 1 com o valor total de R$ 81.081,06', '\\nPREGAO ELETRONICO PE No 230/2019\\nO Pregoeiro da CAESB no uso de suas atribuicoes, torna publico o resultado de julgamento do pregao\\nsupracitado, realizado no www.comprasnet.gov.br, UASG: 974200, cujo objeto e aquisicao Registro de\\nprecos para aquisicao de materiais PEAD (tubo pead pe 100, luva e outros), da forma que se segue:\\nEmpresa F.G.S. BRASIL INDUSTRIA E COMERCIO LTDA, CNPJ: 02.291.486/0001-90, vencedora\\ndo item 32 com o valor total de R$ 44.396,10; Empresa CORR PLASTIK SISTEMAS PLASTICOS\\nLTDA, CNPJ: 32.540.611/0001-19, vencedora do item 26 com o valor total de R$ 129.546,00;\\nEmpresa NOVA ATACADISTA PARA CONSTRUCAO LTDA, CNPJ: 26.392.294/0001-38, vencedora\\ndos itens 1, 2, 3, 4, 5, 6, 7, 8, 9, 15, 16, 17, 18, 19, 22, 23, 24, 25, 27, 30, 31, 33, 34, 35, 36 e\\n37 com o valor total de R$ 178.206,07; Os itens 10, 11, 12, 13, 14, 20, 21, 28 e 29 restaram\\nfracassados ou desertos', '\\nPREGAO ELETRONICO PE No 158/2019 (*)\\nA Pregoeira da CAESB no uso de suas atribuicoes, torna publico o resultado de julgamento do pregao\\nsupracitado, realizado no www.comprasnet.gov.br, UASG: 974200, cujo objeto e a Contratacao de empresa\\nespecializada para fornecimento por meio de Registro de Precos para aquisicao de cafe, acucares e filtros\\nde papel: da forma que se segue: Empresa UEDAMA COMERCIO DE PRODUTOS ALIMENTICIOS\\nLTDA, CNPJ: 00.543.061/0001-03, vencedora do itens 1, 2, 3 e 4 com o valor total de R$ 44.704,00;\\nEmpresa N. B. DISTRIBUIDORA E IMPORTADORA DE PRODUTOS E EQUIPAMENTOS EIRELLI ,\\nCNPJ: 20.425.201/0001-48, vencedora do item 8 com o valor total de R$ 1.120,00; Empresa GLA\\nCOMERCIAL EIRELI, CNPJ: 29.492.549/0001-22, vencedora do item 7 com o valor total de R$ 3.396,00\\ne Empresa CAFE PACAEMBU LTDA , CNPJ: 72.861.461/0001-60, vencedora dos itens 5 e 6 com o valor\\ntotal de R$ 120.448,00. Os itens 9 e 10 restaram fracassados', '\\nPREGAO ELETRONICO PE No 232/2019\\nA Pregoeira da CAESB no uso de suas atribuicoes, torna publico o resultado de julgamento do pregao\\nsupracitado, realizado no www.comprasnet.gov.br, UASG: 974200, cujo objeto e aquisicao Registro de\\nprecos para aquisicao de combustiveis, lubrificantes, oleos, graxas e ceras (agente redutor liquido\\nautomotivo - ARLA 32 -, querosene e outros), da forma que se segue: Empresa MARKET LUBE\\nINDUSTRIA E COMERCIO LTDA, CNPJ: 02.871.109/0001-20, vencedora dos itens 14, 15 e 21 com\\no valor total de R$ 18.638,00; Empresa NA ATIVA COMERCIAL LTDA, CNPJ: 09.043.182/0001-52,\\nvencedora dos itens 3, 4, 8, 9, 18, e 22 com o valor total de R$ 20.649,60; Empresa STORE DO\\nBRASIL LTDA, CNPJ: 13.990.290/0001-00, vencedora dos itens 12 e 13 com o valor total de R$\\n5.265,60; Empresa NOVA ATACADISTA PARA CONSTRUCAO LTDA, CNPJ: 26.392.294/0001-38,\\nvencedora dos itens 23 e 24 com o valor total de R$ 99.320,00; Empresa WEST PARTS PECAS E\\nLUBRIFICANTES EIRELI, CNPJ: 27.614.905/0001-08, vencedora do item 19 com o valor total de\\nR$ 2.757,00. Empresa MOVIMENTO COMERCIO DE PECAS E SERVICOS AUTOMOTIVOS,\\nCNPJ: 34.638.332/0001-18, vencedora dos itens 16 e 17 com o valor total de R$ 22.098,60; Empresa\\nENGEMAQ COMPONENTES PARA TRATORES LTDA, CNPJ: 55.118.103/0001-42, vencedora dos\\nitens 1, 2, 5, 6 e 7 com o valor total de R$ 89.077,29. Os itens 10,11 e 20 restaram fracassados ou\\ndesertos', '\\nPREGAO ELETRONICO PE No 269/2019\\nA Pregoeira da CAESB no uso de suas atribuicoes, torna publico o resultado de julgamento do pregao\\nsupracitado, realizado no www.comprasnet.gov.br, UASG: 974200, cujo objeto e aquisicao Registro de\\nprecos para aquisicao de Barrilha Leve - Carbonato de Sodio, da forma que se segue: Empresa\\nSABARA QUIMICOS E INGREDIENTES S/A, CNPJ: 12.884.672/0004-39, vencedora dos itens 1 e\\n2 com o valor total de R$ 94.120,00', '\\nPREGAO ELETRONICO PE No 205/2019 (*)\\nA Pregoeira da CAESB no uso de suas atribuicoes, torna publico o resultado de julgamento do pregao\\nsupracitado, realizado no www.comprasnet.gov.br, UASG: 974200, cujo objeto e a aquisicao de\\nequipamentos de laboratorio para monitoramento da qualidade de agua tratada a serem utilizados em\\nunidades de tratamento da Caesb e laboratorios de analise de esgoto da PGO, da forma que se segue:\\nEmpresa E.S COMERCIO E LICITACOES EIRELI, CNPJ: 33.423.000/0001-53, vencedora do item 6\\ncom o valor total de R$ 7.075,43; Empresa JPA LABOR COMERCIAL EIRELLI, CNPJ:\\n29.054.890/0001-04, vencedora dos itens 1, 2, 7 e 17 com o valor total de R$ 33.686,44; Empresa MARTE\\nEQUIPAMENTOS PARA LABORATORIO LTDA, CNPJ: 68.886.605/0001-65, vencedora do item 14\\ncom o valor total de R$ 42.313,46; Empresa PROSCIENCE COMERCIO, IMPORTACAO E\\nEXPORTACAO LTDA, CNPJ: 12.426.369/0001-40, vencedora do item 13 com o valor total de R$\\n2.702,70; Empresa INDUSTRIA E COMERCIO ELETRO ELETRONICA GEHAKA LTDA, CNPJ:\\n60.637.667/0001-21, vencedora do item 11 com o valor total de R$ 2.787,82 e Empresa LINECONTROL\\nCOMERCIO IMPORTACAO E EXPORTACAO LTDA, CNPJ: 04.196.357/0001-48, vencedora do item 8\\ncom o valor total de R$ 9.009,00. Os itens 3, 4, 5, 9, 10, 12, 15 e 16 restaram fracassados ou\\ndesertos', '\\nPREGAO ELETRONICO PE No 187/2019\\nO Pregoeiro da CAESB no uso de suas atribuicoes, torna publico o resultado de julgamento do pregao \\nsupracitado, realizado no www.comprasnet.gov.br, UASG: 974200, cujo objeto e o registro de precos \\npara aquisicao de baterias estacionarias, da forma que se segue: Empresa INFRACOMIX COMERCIO \\nE SERVICOS DE INFORMATICA EIRELI, CNPJ: 22.801.116/0001-62, vencedora do item 7 com o \\nvalor total de R$ 10.127,00; Empresa BRASUMIX EIRELI, CNPJ: 28.314.084/0001-57, vencedora do \\nitem 14 com o valor total de R$ 406,96; Empresa ILUMINAR COMERCIO E REPRESENTACOES \\nEIRELI, CNPJ: 29.760.831/0001-43, vencedora dos itens 1, 2, 8, 17 e 18 com o valor total de R$ \\n70.408,02 e Empresa JP COMERCIO DE PRODUTOS ELETROELETRONICOS EIRELI, CNPJ: \\n31.552.188/0001-04, vencedora dos itens 3, 4, 5, 6, 9, 10, 11, 12, 13, 15 e 16 com o valor total de R$ \\n133.601,95', '\\nPREGAO ELETRONICO PE No 021/2020\\nA Pregoeira da CAESB no uso de suas atribuicoes, torna publico o resultado de julgamento do pregao\\nsupracitado, realizado no www.comprasnet.gov.br, UASG: 974200, cujo objeto e registro de precos para\\naquisicao de pecas e acessorios para equipamento GEREMIA, da forma que se segue: Empresa\\nHelibombas - Industria e Comercio de Equipamentos Hidraulicos LTDA, CNPJ: 01.679.707/0001-39,\\nvencedora do lote 01 com o valor total de R$ 1.394.491,10', '\\nPREGAO ELETRONICO PE No 024/2020\\nO Pregoeiro da CAESB no uso de suas atribuicoes torna publico o resultado de \\njulgamento do pregao supracitado, PROCESSO No: 092.007108/2019, realizado no \\nwww.comprasnet.gov.br, UASG: 974200, cujo objeto e a contratacao de empresa \\nespecializada na execucao de servicos de prevencao e combate a incendio e primeiros \\nsocorros, por meio de equipe de Bombeiros Civis (Brigada de Incendio) e Lideres, em \\npostos diurnos e noturnos, com o fornecimento de todos os materiais, equipamentos, \\nacessorios e ferramentas necessarias a perfeita execucao dos servicos, a serem executados \\nde forma continua, para atender a demanda do Edificio Sede e do Parque de Servicos do \\nSIA da Caesb, da forma que se segue: empresa 5 ESTRELAS SISTEMA DE \\nSEGURANCA LTDA, CNPJ: 72.591.894/0001-42, vencedora do objeto com o valor \\nglobal para 30 (trinta) meses de R$ 7.128.994,80', '\\nPREGAO ELETRONICO PE No 056/2020\\nA Pregoeira da CAESB no uso de suas atribuicoes, torna publico o resultado de \\njulgamento do pregao supracitado, realizado no www.comprasnet.gov.br, UASG: 974200, \\ncujo objeto o registro de precos para aquisicao de materiais para corte e ligacao de agua \\n(junta, porca, tubete e outros), da forma que se segue: Empresa RAEM INDUSTRIA E \\nCOMERCIO LTDA, CNPJ: 03.984.588/0001-53, vencedora dos itens 1, 2, 3, 4, 5, 6, 7 e 8 \\ncom o valor total de R$ 204.400,00', '\\nPREGAO ELETRONICO PE No 028/2020\\nA Pregoeira da CAESB no uso de suas atribuicoes, torna publico o resultado de \\njulgamento do pregao supracitado, realizado no www.comprasnet.gov.br, UASG: 974200, \\ncujo objeto e Aquisicao de Sulfato de Aluminio Liquido e Solido, da forma que se segue: \\nEmpresa Bauminas Quimica Ltda, CNPJ:19.525.278/0010-00, vencedora dos itens 1 e 2 \\ncom o valor total de R$ 23.400.000,00; Empresa Vinne Comercio e Representacoes Eireli -\\nME, CNPJ:28.277.654/0001-86, vencedora do item 3 com o valor total de R$ \\n18.954.000,00; Empresa Pam Dias, CNPJ:33.467.343/0001-10, vencedora do item 4 com \\no valor total de R$ 4.446.000,00. Os itens 5 e 6 restaram fracassados ou desertos', '\\nPREGAO ELETRONICO PE No 029/2020\\nProcesso: 092.006845/2019. Objeto: Registro de precos. O Pregoeiro da CAESB no uso de \\nsuas atribuicoes, torna publico o resultado de julgamento do pregao supracitado, realizado no \\nwww.comprasnet.gov.br, UASG: 974200, cujo objeto e o Registro de precos para aquisicao \\nde materiais para construcao e acabamento (adesivo estrutural, argamassa, corda, ferro para \\nconstrucao e outros), da forma que se segue: Empresa ARIADNER DA SILVA MESSIAS, \\nCNPJ: 27.204.689/0001-22, vencedora dos itens 15, 16, 17, 18, 79 e 80 com o valor total de \\nR$ 2.119,40; Empresa COMERCIAL VANGUARDEIRA EIRELI, CNPJ: 10.942.831/0001-\\n36, vencedora dos itens 3 e 4 com o valor total de R$ 672,00; Empresa GRANDES \\nMARCAS COMERCIO DE EQUIPAMENTOS LTDA, CNPJ: 14.396.046/0001-86, \\nvencedora dos itens 23, 24, 63 e 64 com o valor total de R$ 9.612,00; Empresa ITACA \\nEIRELI, CNPJ: 24.845.457/0001-65, vencedora dos itens 77 e 78 com o valor total de R$ \\n428,40; Empresa NOVA ATACADISTA PARA CONSTRUCAO LTDA, CNPJ: \\n26.392.294/0001-38, vencedora dos itens 1, 2, 5, 6, 13, 14, 21, 22, 27, 28, 29, 30, 31, 33, 34, \\n35, 36, 37, 38, 39, 40, 41, 42, 43, 44, 47, 48, 49, 50, 51, 52, 55, 56, 57, 58, 59, 60, 61, 62, 65, \\n66, 69, 70, 73, 74, 75, 76, 81, 82, 83 e 84 com o valor total de R$ 858.178,90 e Empresa RBS \\nCONSTRUCAO E CONSERVACAO PREDIAL LTDA, CNPJ: 28.642.042/0001-45, \\nvencedora do item 32 com o valor total de R$ 2.996,50. Os itens 7, 8, 9, 10, 11, 12, 19, 20, \\n25, 26, 45, 46, 53, 54, 67, 68, 71 e 72 restaram fracassados ou desertos', '\\nPREGAO ELETRONICO PE No 040/2020\\nO Pregoeiro da CAESB no uso de suas atribuicoes torna publico o resultado de \\njulgamento do pregao supracitado, realizado no www.comprasnet.gov.br, UASG: 974200, \\ncujo objeto e o Registro de precos para aquisicao de componentes de equipamentos \\neletricos e eletronicos (lampada, luminaria, plafon, refletor, plugue e outros), da forma que \\nse segue: empresas 1) GOLED INDUSTRIA E COMERCIO LTDA, CNPJ: \\n32.617.419/0001-83, vencedora do GRUPO G2(itens 2, 4, 6, 8, 10, 12, 14, e 16) com o \\nvalor total de R$ 36.293,67; 2) NOVA ATACADISTA PARA CONSTRUCAO LTDA, \\nCNPJ: 26.392.294/0001-38, vencedora dos GRUPOS G1(itens 1, 3, 5, 7, 9, 11, 13 e 15),\\nPAGINA 41\\nDiario Oficial do Distrito Federal\\nNo 68, QUINTA-FEIRA, 09 DE ABRIL DE 2020\\nDocumento assinado digitalmente, original em https://www.dodf.df.gov.br\\nG5(itens 23, 25 e 35), G6(itens 24, 26 e 36), G9(itens 57, 59, 61, 63 e 65) e G10(itens 58, \\n60, 62, 64 e 66) com o valor total de R$ 193.256,33 e VOLT MATERIAIS ELETRICOS \\nEIRELI, CNPJ: 26.507.653/0001-55, vencedora dos GRUPOS G7(itens 27, 29, 31, 33, 37, \\n39, 41, 43, 45, 47, 49, 51, 53, 55, 69 e 71) e G8(itens 28, 30, 32, 34, 38, 40, 42, 44, 46, 48, \\n50, 52, 54, 56, 70 e 72) com o valor total de R$ 35.724,78. Os GRUPOS G3(itens 17 e 19) \\ne G4(18 e 20) restaram FRACASSADOS e os itens 21, 22, 67 e 68 foram \\nCANCELADOS', '\\nPREGAO ELETRONICO PE No 062/2020\\nO Pregoeiro da CAESB no uso de suas atribuicoes torna publico o resultado de \\njulgamento do pregao supracitado, realizado no www.comprasnet.gov.br, UASG: 974200, \\ncujo objeto e o Registro de precos para aquisicao de materiais de ferro galvanizado para \\nredes de agua (cruzeta, curva, joelho, tubo e outros), da forma que se segue, Empresas: \\nMB ENGENHARIA E COMERCIO EIRELI, CNPJ 31.483.566/0001-45, vencedora dos \\nitens 1, 2, 3, 4, 5, 6, 7, 8, 9, 10, 11, 12, 13, 14, 15, 16, 17, 18, 21, 22, 23, 24, 25 e 26 com o \\nvalor total de R$ 27.002,77; NOVA ATACADISTA PARA CONSTRUCAO LTDA, \\nCNPJ: 26.392.294/0001-38, vencedora dos itens 29, 30, 31, 32, 33 e 34 com o valor total \\nde R$ 132.652,86 e R.P.A CONSTRUTORA E SERVICOS TERCEIRIZADOS EIRELI, \\nCNPJ: 28.313.205/0001-46, vencedora dos itens 35 e 37 com o valor total de R$ 1.821,75. \\nOs Itens 19, 20, 27, 28, 36 e 38 restaram fracassados', '\\nPREGAO ELETRONICO PE No 053/2020\\nA Pregoeira da CAESB no uso de suas atribuicoes, torna publico o resultado de \\njulgamento do pregao supracitado, realizado no www.comprasnet.gov.br, UASG: 974200, \\ncujo objeto e o registro de precos para aquisicao de materiais de cobre, bronze e latao para \\ngases e liquidos (ferrule de metal, valvula e outros), da forma que se segue:, da forma que \\nse segue: Empresa ITALY VALVULAS E METAIS EIRELI, CNPJ: 01.149.960/0001-80, \\nvencedora do item 3 com o valor total de R$7.399,70; Empresa SOLUX \\nDISTRIBUIDORA EIRELI, CNPJ: 23.291.920/0001-01, vencedora do item 4 com o valor \\ntotal de R$2.421,72; Empresa NOVA ATACADISTA PARA CONSTRUCAO LTDA, \\nCNPJ: 26.392.294/0001-38, vencedora dos itens 2, 5, 6, 7 e 8 com o valor total de \\nR$400.073,60; Empresa FORTHY TUBOS E CONEXOES EIRELI EPP, CNPJ: \\n66.643.966/0001-55, vencedora dos itens 1, 11, e 12 com o valor total de R$ 14.484,87; \\nEmpresa DOCOL METAIS SANITARIOS LTDA, CNPJ: 75.339.051/0001-41, \\nvencedora dos itens 9 e 10 com o valor total de R$ 18.825,96', '\\nPREGAO ELETRONICO PE No 077/2020\\nA Pregoeira da CAESB no uso de suas atribuicoes, torna publico o resultado de \\njulgamento do pregao supracitado, realizado no www.comprasnet.gov.br, UASG: 974200, \\ncujo objeto e a aquisicao de maquinas industriais de lavar roupas, tipo extratoras e \\nmaquinas industriais de secar roupas a serem instaladas em estacoes de tratamento de \\nesgotos da Caesb, da forma que se segue; Empresa Alianca Equipamentos Profissionais \\npara Lavanderia Ltda, CNPJ: 19.294.988/0001-77, vencedora do grupo 1: itens 1 e 2 no \\nvalor de R$ 230.561,45']\n"
     ]
    }
   ],
   "source": [
    "print(all_contracts)"
   ]
  },
  {
   "cell_type": "code",
   "execution_count": 263,
   "metadata": {},
   "outputs": [],
   "source": [
    "regex_dict = {\n",
    "    'UASG': 'UASG[:] (\\d{6})',\n",
    "    'objeto': 'objeto[\\s\\S]*?:?([\\s\\S]*?)\\.',\n",
    "    'empresa': '[E|e]mpresa[\\s\\S]*?:?([\\s\\S]*?)\\,',\n",
    "    'CNPJ': 'CNPJ[\\s\\S]*(\\d{2}.\\d{3}.\\d{3}/\\d{4}-\\d{2})',\n",
    "    'valor': 'com o valor total[\\s\\S]*?(\\d+(?:\\.\\d+)*,\\d\\d)',          \n",
    "}\n",
    "\n",
    "df_dict = {\n",
    "    'UASG': [],\n",
    "    'objeto': [],\n",
    "    'empresa': [],\n",
    "    'CNPJ': [],\n",
    "    'valor': [],\n",
    "    'texto': [],   \n",
    "}"
   ]
  },
  {
   "cell_type": "code",
   "execution_count": 264,
   "metadata": {},
   "outputs": [],
   "source": [
    "for contract in all_contracts:\n",
    "    df_dict['texto'].append(contract)\n",
    "    for field in regex_dict:\n",
    "        match = re.search(regex_dict[field], contract, re.IGNORECASE)\n",
    "        if match:\n",
    "            res = tuple(x for x in match.groups() if x is not None)\n",
    "            df_dict[field].append(res[0])\n",
    "        else:\n",
    "            df_dict[field].append(np.nan)\n",
    "\n",
    "df = pd.DataFrame.from_dict(df_dict)\n",
    "df.to_csv('resultadoLicitacao_regex.csv')"
   ]
  },
  {
   "cell_type": "code",
   "execution_count": 265,
   "metadata": {},
   "outputs": [
    {
     "output_type": "execute_result",
     "data": {
      "text/plain": [
       "    Unnamed: 0    UASG                                             objeto  \\\n",
       "0            0  974200   e o registro de precos\\npara aquisicao de mat...   \n",
       "1            1  974200   e o Registro de precos para\\naquisicao de ele...   \n",
       "2            2  974200   e o Registro de precos para\\naquisicao de rea...   \n",
       "3            3  974200   e o registro de precos para\\naquisicao de tin...   \n",
       "4            4  974200   e o registro de precos para\\naquisicao de rea...   \n",
       "5            5  974200   e o Servico de natureza\\ncontinua e essencial...   \n",
       "6            6  974200   e Registro de precos para\\naquisicao de equip...   \n",
       "7            7  974200   e Registro de precos para\\naquisicao de mater...   \n",
       "8            8  974200   e o registro de precos\\npara aquisicao de tin...   \n",
       "9            9  974200   e o Registro de precos para\\naquisicao de cab...   \n",
       "10          10  974200   e a Aquisicao de\\nmodulos para sistema de aut...   \n",
       "11          11  974200   e o\\nRegistro de precos para aquisicao de fer...   \n",
       "12          12  974200   e o registro de precos para\\naquisicao de con...   \n",
       "13          13  974200   e o Registro de precos\\npara aquisicao de com...   \n",
       "14          14  974200   e o servico de contratacao\\nde seguro empresa...   \n",
       "15          15  974200   e Aquisicao de\\ncontainer maritimo Standard D...   \n",
       "16          16  974200   e o Registro de precos para\\naquisicao de pec...   \n",
       "17          17  974200   e a contratacao\\nde empresa para prestacao de...   \n",
       "18          18  974200   e Aquisicao de\\nequipamentos de medicao e con...   \n",
       "19          19  974200   e aquisicao de container\\nmaritimo Standard D...   \n",
       "20          20  974200   e aquisicao Registro de\\nprecos para aquisica...   \n",
       "21          21  974200   e a Contratacao de empresa\\nespecializada par...   \n",
       "22          22  974200   e aquisicao Registro de\\nprecos para aquisica...   \n",
       "23          23  974200   e aquisicao Registro de\\nprecos para aquisica...   \n",
       "24          24  974200   e a aquisicao de\\nequipamentos de laboratorio...   \n",
       "25          25  974200   e o registro de precos \\npara aquisicao de ba...   \n",
       "26          26  974200   e registro de precos para\\naquisicao de pecas...   \n",
       "27          27  974200   e a contratacao de empresa \\nespecializada na...   \n",
       "28          28  974200   o registro de precos para aquisicao de materi...   \n",
       "29          29  974200   e Aquisicao de Sulfato de Aluminio Liquido e ...   \n",
       "30          30  974200                                 Registro de precos   \n",
       "31          31  974200   e o Registro de precos para aquisicao de comp...   \n",
       "32          32  974200   e o Registro de precos para aquisicao de mate...   \n",
       "33          33  974200   e o registro de precos para aquisicao de mate...   \n",
       "34          34  974200   e a aquisicao de maquinas industriais de lava...   \n",
       "\n",
       "                                              empresa                CNPJ  \\\n",
       "0         KLM COMERCO SERVICOS E MANUTENCAO\\n- EIRELI  78.334.307/0001-16   \n",
       "1         OMEGA 3 SUPRIMENTOS PARA\\nLABORATORIOS LTDA  96.591.128/0001-46   \n",
       "2                          LUDWIG BIOTECNOLOGIA\\nLTDA  73.264.251/0001-57   \n",
       "3                           NA ATIVA COMERCIAL EIRELI  26.392.294/0001-38   \n",
       "4             PRO ANALISE QUIMICA E\\nDIAGNOSTICA LTDA  73.264.251/0001-57   \n",
       "5               INTERAT I VA - D E D E T I Z A C A O   05.058.935/0001-42   \n",
       "6       IGATU FILTROS PARA AGUA INDUSTRIA E\\nCOMERCIO  28.199.997/0001-70   \n",
       "7     EDYTUDO COMERCIO DE FERRAGENS E VARIEDADES LTDA  78.334.307/0001-16   \n",
       "8                 FLEXICOAT INDUSTRIA E COMERCIO LTDA  31.483.566/0001-45   \n",
       "9    GRANDES\\nMARCAS DE MATERIAIS E EQUIPAMENTOS E...  14.396.046/0001-86   \n",
       "10       \\nvencedora: ELETRO COMERCIAL REYMASTER LTDA  80.223.324/0001-28   \n",
       "11  s vencedoras 1) OLITHIER\\nCOMERCIO DE MATERIAI...  26.392.294/0001-38   \n",
       "12   RC SCIENTIFIC COMERCIO DE\\nINSTRUMENTOS ANALI...  27.263.741/0001-11   \n",
       "13                TECAUT AUTOMACAO INDUSTRIAL\\nEIRELI  30.247.600/0001-10   \n",
       "14  rial de responsabilidade civil para administra...  61.383.493/0001-80   \n",
       "15                      FRONT ESTRUTURAS EIRELI-\\nEPP  12.219.645/0001-07   \n",
       "16   WATSON-MARLOW BREDEL\\nINDUSTRIA E COMERCIO DE...  07.910.191/0001-78   \n",
       "17   para prestacao de Servico de manutencao de eq...  14.355.750/0001-90   \n",
       "18                                  LOBOV\\nCIENTIFICA  67.774.679/0001-47   \n",
       "19                       FRONT ESTRUTURAS EIRELI- EPP  12.219.645/0001-07   \n",
       "20            F.G.S. BRASIL INDUSTRIA E COMERCIO LTDA  26.392.294/0001-38   \n",
       "21  \\nespecializada para fornecimento por meio de ...  72.861.461/0001-60   \n",
       "22             MARKET LUBE\\nINDUSTRIA E COMERCIO LTDA  55.118.103/0001-42   \n",
       "23               \\nSABARA QUIMICOS E INGREDIENTES S/A  12.884.672/0004-39   \n",
       "24                   E.S COMERCIO E LICITACOES EIRELI  04.196.357/0001-48   \n",
       "25   INFRACOMIX COMERCIO \\nE SERVICOS DE INFORMATI...  31.552.188/0001-04   \n",
       "26  \\nHelibombas - Industria e Comercio de Equipam...  01.679.707/0001-39   \n",
       "27   \\nespecializada na execucao de servicos de pr...  72.591.894/0001-42   \n",
       "28                   RAEM INDUSTRIA E \\nCOMERCIO LTDA  03.984.588/0001-53   \n",
       "29                              Bauminas Quimica Ltda  33.467.343/0001-10   \n",
       "30                          ARIADNER DA SILVA MESSIAS  28.642.042/0001-45   \n",
       "31               s 1) GOLED INDUSTRIA E COMERCIO LTDA  26.507.653/0001-55   \n",
       "32               s: \\nMB ENGENHARIA E COMERCIO EIRELI  28.313.205/0001-46   \n",
       "33                     ITALY VALVULAS E METAIS EIRELI  75.339.051/0001-41   \n",
       "34   Alianca Equipamentos Profissionais \\npara Lav...  19.294.988/0001-77   \n",
       "\n",
       "            valor                                              texto  \n",
       "0       60.917,66  \\nPREGAO ELETRONICO PE No 008/2019\\nA Pregoeir...  \n",
       "1       56.279,62  \\nPREGAO ELETRONICO PE No 069/2019\\nA Pregoeir...  \n",
       "2          194,75  \\nPREGAO ELETRONICO PE No 053/2019\\nA Pregoeir...  \n",
       "3           41,58  \\nPREGAO ELETRONICO PE No 018/2019\\nO Pregoeir...  \n",
       "4        1.740,16  \\nPREGAO ELETRONICO PE No 071/2019\\nA Pregoeir...  \n",
       "5             NaN  \\nPREGAO ELETRONICO PE No 52/2019\\nA Pregoeira...  \n",
       "6        1.797,75  \\nPREGAO ELETRONICO PE No 126/2019\\nA Pregoeir...  \n",
       "7       11.012,05  \\nPREGAO ELETRONICO No 142/2019\\nA Pregoeira d...  \n",
       "8       49.278,88  \\nPREGAO ELETRONICO PE No 164/2019\\nO Pregoeir...  \n",
       "9       83.315,30  \\nPREGAO ELETRONICO PE No 115/2019\\nO Pregoeir...  \n",
       "10     102.089,89  \\nPREGAO ELETRONICO PE No 200/2019\\nO Pregoeir...  \n",
       "11       1.512,00  \\nPREGAO ELETRONICO PE No 110/2019\\nO Pregoeir...  \n",
       "12      35.279,48  \\nPREGAO ELETRONICO PE No 166/2019\\nA Pregoeir...  \n",
       "13      19.454,01  \\nPREGAO ELETRONICO PE No 111/2019\\nO Pregoeir...  \n",
       "14      76.800,00  \\nPREGAO ELETRONICO No 201/2019\\nO Pregoeiro d...  \n",
       "15      76.271,16  \\nPREGAO ELETRONICO No 194/2019-CAESB\\nO Prego...  \n",
       "16  21.665.144,76  \\nPREGAO ELETRONICO PE No 229/2019\\nO Pregoeir...  \n",
       "17            NaN  \\nA Caesb torna publico o resultado final do P...  \n",
       "18     557.493,83  \\nPREGAO ELETRONICO PE No 198/2019\\nA Pregoeir...  \n",
       "19      81.081,06  \\nPREGAO ELETRONICO PE No 194/2019 (*)\\nO Preg...  \n",
       "20      44.396,10  \\nPREGAO ELETRONICO PE No 230/2019\\nO Pregoeir...  \n",
       "21      44.704,00  \\nPREGAO ELETRONICO PE No 158/2019 (*)\\nA Preg...  \n",
       "22      20.649,60  \\nPREGAO ELETRONICO PE No 232/2019\\nA Pregoeir...  \n",
       "23      94.120,00  \\nPREGAO ELETRONICO PE No 269/2019\\nA Pregoeir...  \n",
       "24       7.075,43  \\nPREGAO ELETRONICO PE No 205/2019 (*)\\nA Preg...  \n",
       "25         406,96  \\nPREGAO ELETRONICO PE No 187/2019\\nO Pregoeir...  \n",
       "26   1.394.491,10  \\nPREGAO ELETRONICO PE No 021/2020\\nA Pregoeir...  \n",
       "27            NaN  \\nPREGAO ELETRONICO PE No 024/2020\\nO Pregoeir...  \n",
       "28     204.400,00  \\nPREGAO ELETRONICO PE No 056/2020\\nA Pregoeir...  \n",
       "29  23.400.000,00  \\nPREGAO ELETRONICO PE No 028/2020\\nA Pregoeir...  \n",
       "30       2.119,40  \\nPREGAO ELETRONICO PE No 029/2020\\nProcesso: ...  \n",
       "31     193.256,33  \\nPREGAO ELETRONICO PE No 040/2020\\nO Pregoeir...  \n",
       "32     132.652,86  \\nPREGAO ELETRONICO PE No 062/2020\\nO Pregoeir...  \n",
       "33       7.399,70  \\nPREGAO ELETRONICO PE No 053/2020\\nA Pregoeir...  \n",
       "34            NaN  \\nPREGAO ELETRONICO PE No 077/2020\\nA Pregoeir...  "
      ],
      "text/html": "<div>\n<style scoped>\n    .dataframe tbody tr th:only-of-type {\n        vertical-align: middle;\n    }\n\n    .dataframe tbody tr th {\n        vertical-align: top;\n    }\n\n    .dataframe thead th {\n        text-align: right;\n    }\n</style>\n<table border=\"1\" class=\"dataframe\">\n  <thead>\n    <tr style=\"text-align: right;\">\n      <th></th>\n      <th>Unnamed: 0</th>\n      <th>UASG</th>\n      <th>objeto</th>\n      <th>empresa</th>\n      <th>CNPJ</th>\n      <th>valor</th>\n      <th>texto</th>\n    </tr>\n  </thead>\n  <tbody>\n    <tr>\n      <th>0</th>\n      <td>0</td>\n      <td>974200</td>\n      <td>e o registro de precos\\npara aquisicao de mat...</td>\n      <td>KLM COMERCO SERVICOS E MANUTENCAO\\n- EIRELI</td>\n      <td>78.334.307/0001-16</td>\n      <td>60.917,66</td>\n      <td>\\nPREGAO ELETRONICO PE No 008/2019\\nA Pregoeir...</td>\n    </tr>\n    <tr>\n      <th>1</th>\n      <td>1</td>\n      <td>974200</td>\n      <td>e o Registro de precos para\\naquisicao de ele...</td>\n      <td>OMEGA 3 SUPRIMENTOS PARA\\nLABORATORIOS LTDA</td>\n      <td>96.591.128/0001-46</td>\n      <td>56.279,62</td>\n      <td>\\nPREGAO ELETRONICO PE No 069/2019\\nA Pregoeir...</td>\n    </tr>\n    <tr>\n      <th>2</th>\n      <td>2</td>\n      <td>974200</td>\n      <td>e o Registro de precos para\\naquisicao de rea...</td>\n      <td>LUDWIG BIOTECNOLOGIA\\nLTDA</td>\n      <td>73.264.251/0001-57</td>\n      <td>194,75</td>\n      <td>\\nPREGAO ELETRONICO PE No 053/2019\\nA Pregoeir...</td>\n    </tr>\n    <tr>\n      <th>3</th>\n      <td>3</td>\n      <td>974200</td>\n      <td>e o registro de precos para\\naquisicao de tin...</td>\n      <td>NA ATIVA COMERCIAL EIRELI</td>\n      <td>26.392.294/0001-38</td>\n      <td>41,58</td>\n      <td>\\nPREGAO ELETRONICO PE No 018/2019\\nO Pregoeir...</td>\n    </tr>\n    <tr>\n      <th>4</th>\n      <td>4</td>\n      <td>974200</td>\n      <td>e o registro de precos para\\naquisicao de rea...</td>\n      <td>PRO ANALISE QUIMICA E\\nDIAGNOSTICA LTDA</td>\n      <td>73.264.251/0001-57</td>\n      <td>1.740,16</td>\n      <td>\\nPREGAO ELETRONICO PE No 071/2019\\nA Pregoeir...</td>\n    </tr>\n    <tr>\n      <th>5</th>\n      <td>5</td>\n      <td>974200</td>\n      <td>e o Servico de natureza\\ncontinua e essencial...</td>\n      <td>INTERAT I VA - D E D E T I Z A C A O</td>\n      <td>05.058.935/0001-42</td>\n      <td>NaN</td>\n      <td>\\nPREGAO ELETRONICO PE No 52/2019\\nA Pregoeira...</td>\n    </tr>\n    <tr>\n      <th>6</th>\n      <td>6</td>\n      <td>974200</td>\n      <td>e Registro de precos para\\naquisicao de equip...</td>\n      <td>IGATU FILTROS PARA AGUA INDUSTRIA E\\nCOMERCIO</td>\n      <td>28.199.997/0001-70</td>\n      <td>1.797,75</td>\n      <td>\\nPREGAO ELETRONICO PE No 126/2019\\nA Pregoeir...</td>\n    </tr>\n    <tr>\n      <th>7</th>\n      <td>7</td>\n      <td>974200</td>\n      <td>e Registro de precos para\\naquisicao de mater...</td>\n      <td>EDYTUDO COMERCIO DE FERRAGENS E VARIEDADES LTDA</td>\n      <td>78.334.307/0001-16</td>\n      <td>11.012,05</td>\n      <td>\\nPREGAO ELETRONICO No 142/2019\\nA Pregoeira d...</td>\n    </tr>\n    <tr>\n      <th>8</th>\n      <td>8</td>\n      <td>974200</td>\n      <td>e o registro de precos\\npara aquisicao de tin...</td>\n      <td>FLEXICOAT INDUSTRIA E COMERCIO LTDA</td>\n      <td>31.483.566/0001-45</td>\n      <td>49.278,88</td>\n      <td>\\nPREGAO ELETRONICO PE No 164/2019\\nO Pregoeir...</td>\n    </tr>\n    <tr>\n      <th>9</th>\n      <td>9</td>\n      <td>974200</td>\n      <td>e o Registro de precos para\\naquisicao de cab...</td>\n      <td>GRANDES\\nMARCAS DE MATERIAIS E EQUIPAMENTOS E...</td>\n      <td>14.396.046/0001-86</td>\n      <td>83.315,30</td>\n      <td>\\nPREGAO ELETRONICO PE No 115/2019\\nO Pregoeir...</td>\n    </tr>\n    <tr>\n      <th>10</th>\n      <td>10</td>\n      <td>974200</td>\n      <td>e a Aquisicao de\\nmodulos para sistema de aut...</td>\n      <td>\\nvencedora: ELETRO COMERCIAL REYMASTER LTDA</td>\n      <td>80.223.324/0001-28</td>\n      <td>102.089,89</td>\n      <td>\\nPREGAO ELETRONICO PE No 200/2019\\nO Pregoeir...</td>\n    </tr>\n    <tr>\n      <th>11</th>\n      <td>11</td>\n      <td>974200</td>\n      <td>e o\\nRegistro de precos para aquisicao de fer...</td>\n      <td>s vencedoras 1) OLITHIER\\nCOMERCIO DE MATERIAI...</td>\n      <td>26.392.294/0001-38</td>\n      <td>1.512,00</td>\n      <td>\\nPREGAO ELETRONICO PE No 110/2019\\nO Pregoeir...</td>\n    </tr>\n    <tr>\n      <th>12</th>\n      <td>12</td>\n      <td>974200</td>\n      <td>e o registro de precos para\\naquisicao de con...</td>\n      <td>RC SCIENTIFIC COMERCIO DE\\nINSTRUMENTOS ANALI...</td>\n      <td>27.263.741/0001-11</td>\n      <td>35.279,48</td>\n      <td>\\nPREGAO ELETRONICO PE No 166/2019\\nA Pregoeir...</td>\n    </tr>\n    <tr>\n      <th>13</th>\n      <td>13</td>\n      <td>974200</td>\n      <td>e o Registro de precos\\npara aquisicao de com...</td>\n      <td>TECAUT AUTOMACAO INDUSTRIAL\\nEIRELI</td>\n      <td>30.247.600/0001-10</td>\n      <td>19.454,01</td>\n      <td>\\nPREGAO ELETRONICO PE No 111/2019\\nO Pregoeir...</td>\n    </tr>\n    <tr>\n      <th>14</th>\n      <td>14</td>\n      <td>974200</td>\n      <td>e o servico de contratacao\\nde seguro empresa...</td>\n      <td>rial de responsabilidade civil para administra...</td>\n      <td>61.383.493/0001-80</td>\n      <td>76.800,00</td>\n      <td>\\nPREGAO ELETRONICO No 201/2019\\nO Pregoeiro d...</td>\n    </tr>\n    <tr>\n      <th>15</th>\n      <td>15</td>\n      <td>974200</td>\n      <td>e Aquisicao de\\ncontainer maritimo Standard D...</td>\n      <td>FRONT ESTRUTURAS EIRELI-\\nEPP</td>\n      <td>12.219.645/0001-07</td>\n      <td>76.271,16</td>\n      <td>\\nPREGAO ELETRONICO No 194/2019-CAESB\\nO Prego...</td>\n    </tr>\n    <tr>\n      <th>16</th>\n      <td>16</td>\n      <td>974200</td>\n      <td>e o Registro de precos para\\naquisicao de pec...</td>\n      <td>WATSON-MARLOW BREDEL\\nINDUSTRIA E COMERCIO DE...</td>\n      <td>07.910.191/0001-78</td>\n      <td>21.665.144,76</td>\n      <td>\\nPREGAO ELETRONICO PE No 229/2019\\nO Pregoeir...</td>\n    </tr>\n    <tr>\n      <th>17</th>\n      <td>17</td>\n      <td>974200</td>\n      <td>e a contratacao\\nde empresa para prestacao de...</td>\n      <td>para prestacao de Servico de manutencao de eq...</td>\n      <td>14.355.750/0001-90</td>\n      <td>NaN</td>\n      <td>\\nA Caesb torna publico o resultado final do P...</td>\n    </tr>\n    <tr>\n      <th>18</th>\n      <td>18</td>\n      <td>974200</td>\n      <td>e Aquisicao de\\nequipamentos de medicao e con...</td>\n      <td>LOBOV\\nCIENTIFICA</td>\n      <td>67.774.679/0001-47</td>\n      <td>557.493,83</td>\n      <td>\\nPREGAO ELETRONICO PE No 198/2019\\nA Pregoeir...</td>\n    </tr>\n    <tr>\n      <th>19</th>\n      <td>19</td>\n      <td>974200</td>\n      <td>e aquisicao de container\\nmaritimo Standard D...</td>\n      <td>FRONT ESTRUTURAS EIRELI- EPP</td>\n      <td>12.219.645/0001-07</td>\n      <td>81.081,06</td>\n      <td>\\nPREGAO ELETRONICO PE No 194/2019 (*)\\nO Preg...</td>\n    </tr>\n    <tr>\n      <th>20</th>\n      <td>20</td>\n      <td>974200</td>\n      <td>e aquisicao Registro de\\nprecos para aquisica...</td>\n      <td>F.G.S. BRASIL INDUSTRIA E COMERCIO LTDA</td>\n      <td>26.392.294/0001-38</td>\n      <td>44.396,10</td>\n      <td>\\nPREGAO ELETRONICO PE No 230/2019\\nO Pregoeir...</td>\n    </tr>\n    <tr>\n      <th>21</th>\n      <td>21</td>\n      <td>974200</td>\n      <td>e a Contratacao de empresa\\nespecializada par...</td>\n      <td>\\nespecializada para fornecimento por meio de ...</td>\n      <td>72.861.461/0001-60</td>\n      <td>44.704,00</td>\n      <td>\\nPREGAO ELETRONICO PE No 158/2019 (*)\\nA Preg...</td>\n    </tr>\n    <tr>\n      <th>22</th>\n      <td>22</td>\n      <td>974200</td>\n      <td>e aquisicao Registro de\\nprecos para aquisica...</td>\n      <td>MARKET LUBE\\nINDUSTRIA E COMERCIO LTDA</td>\n      <td>55.118.103/0001-42</td>\n      <td>20.649,60</td>\n      <td>\\nPREGAO ELETRONICO PE No 232/2019\\nA Pregoeir...</td>\n    </tr>\n    <tr>\n      <th>23</th>\n      <td>23</td>\n      <td>974200</td>\n      <td>e aquisicao Registro de\\nprecos para aquisica...</td>\n      <td>\\nSABARA QUIMICOS E INGREDIENTES S/A</td>\n      <td>12.884.672/0004-39</td>\n      <td>94.120,00</td>\n      <td>\\nPREGAO ELETRONICO PE No 269/2019\\nA Pregoeir...</td>\n    </tr>\n    <tr>\n      <th>24</th>\n      <td>24</td>\n      <td>974200</td>\n      <td>e a aquisicao de\\nequipamentos de laboratorio...</td>\n      <td>E.S COMERCIO E LICITACOES EIRELI</td>\n      <td>04.196.357/0001-48</td>\n      <td>7.075,43</td>\n      <td>\\nPREGAO ELETRONICO PE No 205/2019 (*)\\nA Preg...</td>\n    </tr>\n    <tr>\n      <th>25</th>\n      <td>25</td>\n      <td>974200</td>\n      <td>e o registro de precos \\npara aquisicao de ba...</td>\n      <td>INFRACOMIX COMERCIO \\nE SERVICOS DE INFORMATI...</td>\n      <td>31.552.188/0001-04</td>\n      <td>406,96</td>\n      <td>\\nPREGAO ELETRONICO PE No 187/2019\\nO Pregoeir...</td>\n    </tr>\n    <tr>\n      <th>26</th>\n      <td>26</td>\n      <td>974200</td>\n      <td>e registro de precos para\\naquisicao de pecas...</td>\n      <td>\\nHelibombas - Industria e Comercio de Equipam...</td>\n      <td>01.679.707/0001-39</td>\n      <td>1.394.491,10</td>\n      <td>\\nPREGAO ELETRONICO PE No 021/2020\\nA Pregoeir...</td>\n    </tr>\n    <tr>\n      <th>27</th>\n      <td>27</td>\n      <td>974200</td>\n      <td>e a contratacao de empresa \\nespecializada na...</td>\n      <td>\\nespecializada na execucao de servicos de pr...</td>\n      <td>72.591.894/0001-42</td>\n      <td>NaN</td>\n      <td>\\nPREGAO ELETRONICO PE No 024/2020\\nO Pregoeir...</td>\n    </tr>\n    <tr>\n      <th>28</th>\n      <td>28</td>\n      <td>974200</td>\n      <td>o registro de precos para aquisicao de materi...</td>\n      <td>RAEM INDUSTRIA E \\nCOMERCIO LTDA</td>\n      <td>03.984.588/0001-53</td>\n      <td>204.400,00</td>\n      <td>\\nPREGAO ELETRONICO PE No 056/2020\\nA Pregoeir...</td>\n    </tr>\n    <tr>\n      <th>29</th>\n      <td>29</td>\n      <td>974200</td>\n      <td>e Aquisicao de Sulfato de Aluminio Liquido e ...</td>\n      <td>Bauminas Quimica Ltda</td>\n      <td>33.467.343/0001-10</td>\n      <td>23.400.000,00</td>\n      <td>\\nPREGAO ELETRONICO PE No 028/2020\\nA Pregoeir...</td>\n    </tr>\n    <tr>\n      <th>30</th>\n      <td>30</td>\n      <td>974200</td>\n      <td>Registro de precos</td>\n      <td>ARIADNER DA SILVA MESSIAS</td>\n      <td>28.642.042/0001-45</td>\n      <td>2.119,40</td>\n      <td>\\nPREGAO ELETRONICO PE No 029/2020\\nProcesso: ...</td>\n    </tr>\n    <tr>\n      <th>31</th>\n      <td>31</td>\n      <td>974200</td>\n      <td>e o Registro de precos para aquisicao de comp...</td>\n      <td>s 1) GOLED INDUSTRIA E COMERCIO LTDA</td>\n      <td>26.507.653/0001-55</td>\n      <td>193.256,33</td>\n      <td>\\nPREGAO ELETRONICO PE No 040/2020\\nO Pregoeir...</td>\n    </tr>\n    <tr>\n      <th>32</th>\n      <td>32</td>\n      <td>974200</td>\n      <td>e o Registro de precos para aquisicao de mate...</td>\n      <td>s: \\nMB ENGENHARIA E COMERCIO EIRELI</td>\n      <td>28.313.205/0001-46</td>\n      <td>132.652,86</td>\n      <td>\\nPREGAO ELETRONICO PE No 062/2020\\nO Pregoeir...</td>\n    </tr>\n    <tr>\n      <th>33</th>\n      <td>33</td>\n      <td>974200</td>\n      <td>e o registro de precos para aquisicao de mate...</td>\n      <td>ITALY VALVULAS E METAIS EIRELI</td>\n      <td>75.339.051/0001-41</td>\n      <td>7.399,70</td>\n      <td>\\nPREGAO ELETRONICO PE No 053/2020\\nA Pregoeir...</td>\n    </tr>\n    <tr>\n      <th>34</th>\n      <td>34</td>\n      <td>974200</td>\n      <td>e a aquisicao de maquinas industriais de lava...</td>\n      <td>Alianca Equipamentos Profissionais \\npara Lav...</td>\n      <td>19.294.988/0001-77</td>\n      <td>NaN</td>\n      <td>\\nPREGAO ELETRONICO PE No 077/2020\\nA Pregoeir...</td>\n    </tr>\n  </tbody>\n</table>\n</div>"
     },
     "metadata": {},
     "execution_count": 265
    }
   ],
   "source": [
    "dados_resultadoLicitacao = pd.read_csv('resultadoLicitacao_regex.csv')\n",
    "dados_resultadoLicitacao"
   ]
  },
  {
   "cell_type": "code",
   "execution_count": 266,
   "metadata": {},
   "outputs": [
    {
     "output_type": "execute_result",
     "data": {
      "text/plain": [
       "Unnamed: 0    0\n",
       "UASG          0\n",
       "objeto        0\n",
       "empresa       0\n",
       "CNPJ          0\n",
       "valor         4\n",
       "texto         0\n",
       "dtype: int64"
      ]
     },
     "metadata": {},
     "execution_count": 266
    }
   ],
   "source": [
    "dados_resultadoLicitacao.isnull().sum()"
   ]
  },
  {
   "source": [
    "# AVISO DE DECLARAÇÃO DE VENCEDOR"
   ],
   "cell_type": "markdown",
   "metadata": {}
  },
  {
   "cell_type": "code",
   "execution_count": 289,
   "metadata": {},
   "outputs": [],
   "source": [
    "all_contracts = []\n",
    "for txt in txt_files:\n",
    "    instances = re.findall('AVIS[O|OS] (?:de)? DECLARACAO DE (?:.*VENCEDOR)([\\s\\S]*?)\\.\\n',\n",
    "                            unicodedata.normalize('NFKD', open(txt, encoding='utf-8').read()), \n",
    "                            re.IGNORECASE)\n",
    "    all_contracts.extend(instances)"
   ]
  },
  {
   "cell_type": "code",
   "execution_count": 290,
   "metadata": {
    "tags": []
   },
   "outputs": [
    {
     "output_type": "stream",
     "name": "stdout",
     "text": [
      "['\\nComunicamos aos interessados no Procedimento Licitatorio no 004/2019 - ASCAL/PRES, que apos a\\nrealizacao do certame e verificado o atendimento das exigencias do Edital, fica declarada vencedora do\\ncertame a empresa GW CONSTRUCOES E INCORPORACOES LTDA, com o valor total de R$\\n7.850.000,00, na forma do Instrumento Convocatorio, ficando aberto o prazo de recursos. Processo no\\n00112-00019341/2019-37.  Contatos:  (061)  3403-2321  ou  (061)  3403-  2322  e  email\\na s c a l @ n o v a c a p . d f . g o v. b r', '\\nComunicamos aos interessados no Procedimento Licitatorio Eletronico no 008/2019 - ASCAL/PRES,\\nque apos a realizacao do certame e verificada a aceitabilidade da documentacao e proposta de precos,\\nna forma do Instrumento Convocatorio, fica declarada vencedora do certame a empresa OLIMPIO\\nCONSTRUCOES EIRELI, com o valor total de R$ 868.218,66, ficando aberto o prazo recursal', '\\nComunicamos aos interessados no Procedimento Licitatorio Eletronico no 011/2019 - ASCAL/PRES, que\\napos a realizacao do certame e verificada a aceitabilidade da documentacao e proposta de precos, na forma\\ndo Instrumento Convocatorio, ficam declaradas vencedoras do certame as empresas: WM Paisagismo,\\nUrbanismo e Comercio Eireli - ME - Lotes: 01 - R$ 317.721,36; 03 - R$ 219.673,08 e 05 - R$ 367.538,21\\ne Via Verde Projetos e Servicos Ambientais Eireli - Lotes: 02 - R$ 290.999,00 e 04 - R$ 413.000,00. Fica\\naberto o prazo recursal. Processo: 00112-00024219/2019-82. Contatos: (061) 3403-2321 ou (061) 3403-\\n2322 e email ascal@novacap.df.gov.br. Comunicamos aos interessados no Procedimento Licitatorio\\nEletronico no 013/2019 - ASCAL/PRES, que apos a realizacao do certame e verificada a aceitabilidade da\\ndocumentacao e proposta de precos, na forma do Instrumento Convocatorio, fica declarada vencedora do\\ncertame a empresa ConcrEpoxi - Engenharia Ltda, com o valor total de R$ 468.378,54. Fica aberto o prazo\\nrecursal. Processo: 00112-00016896/2019-27. Contatos: (061) 3403-2321 ou (061) 3403- 2322 e email\\na s c a l @ n o v a c a p . d f . g o v. b r', '\\nComunicamos aos interessados no Procedimento Licitatorio no 005/2019 - ASCAL/PRES, que apos a\\nrealizacao do certame e verificada a aceitabilidade da proposta de precos e documentacao, na forma\\ndo Instrumento Convocatorio, foi declarada vencedora do certame a empresa: Infra Engeth - Infra-\\nEstrutura, Construcao e Comercio Ltda - CNPJ 02.237.437/0001-79, com o valor total de R$\\n1.590.739,82. Fica aberto o prazo para apresentacoes de recursos. Processo no 00112-00016080/2019-\\n01. Contatos: (061) 3403-2321 ou (061) 3403- 2322 e email ascal@novacap.df. g o v. b r', '\\nComunicamos aos interessados no Procedimento Licitatorio Eletronico no 016/2019 - ASCAL/PRES, que\\napos finalizado o exame e verificada a aceitabilidade da proposta de precos e documentacao, na forma do\\nInstrumento Convocatorio, foi declarada vencedora do Lote 10 a empresa GALAXI ENGENHARIA\\nEIRELI - CNPJ 25.451.351/0001-40, com o valor total de R$ 3.200.000,00. Fica aberto o prazo para\\napresentacoes de recursos. Processo no 00112-00024192/2019-28. Contatos: (061) 3403-2321 ou (061)\\n3403- 2322 e email ascal@novacap.df.gov.br', '\\nComunicamos aos interessados no Procedimento Licitatorio Eletronico no 019/2019 - ASCAL/PRES, que\\napos finalizado o exame e verificada a aceitabilidade da proposta de precos e documentacao, na forma do\\nInstrumento Convocatorio, foi declarada vencedora do certame a empresa CONSTRUTORA PREMIUM E\\nSERVICOS GERAIS LTDA - CNPJ 18.695.016/0001-21, com o valor total de R$ 90.297,58. Fica aberto\\no prazo para apresentacoes de recursos. Processo: 00110-00001761/2018-32. Contatos: (061) 3403-2321 ou\\n(061) 3403- 2322 e email ascal@novacap.df.gov.br', '\\nComunicamos aos interessados no Procedimento Licitatorio Eletronico no 020/2019 - ASCAL/PRES,\\nque apos finalizado o exame e verificada a aceitabilidade da proposta de precos e documentacao, na\\nforma do Instrumento Convocatorio, foi declarada vencedora do certame a empresa LA DART\\nINDUSTRIA E COMERCIO EIRELI - EPP - CNPJ 01.251.610/0001-20, com o valor total de R$\\n353.830,00. Fica aberto o prazo para apresentacao de recurso. Processo no 00300-00001751/2019-22', '\\nComunicamos aos interessados no Procedimento Licitatorio Eletronico no 17/2019 - ASCAL/PRES, que\\napos finalizado o exame e verificada a aceitabilidade da proposta de precos e documentacao, na forma do\\nInstrumento Convocatorio, foi declarada vencedora do certame a empresa C.Q.O. - CONSTRUTORA\\nQUEIROZ OLIVEIRA - CNPJ 06.224.599/0001-23, com o valor total de R$ 3.106.000,00. Fica aberto o\\nprazo para apresentacao de recurso. Processo: 0112-003718/2017. Contatos: (061) 3403-2321 ou (061)\\n3403- 2322 e email: ascal@novacap.df.gov.br', ' publicado no DODF no 5, de 08 de janeiro de 2020,\\npagina 45, que declarou vencedora do certame a empresa CONSTRUTORA PREMIUM E SERVICOS\\nGERAIS LTDA - CPNJ 18.695.016/0001-21, com o valor total de R$ 468.116,00, fica o mesmo sem\\nefeito. Contatos: (061) 3403-2321 ou (061) 3403- 2322 e email ascal@novacap . d f . g o v. b r\\nBrasilia/DF, 16 de janeiro de 2020\\nDELCIMAR PIRES MARTINS\\nChefe\\nCOMPANHIA ENERGETICA DE BRASILIA\\nEXTRATO DE CONTRATO\\nEspecie: Aquisicao de luminarias de tecnologia LED para eficientizacao da Iluminacao Publica em\\ndiversas localidades do Distrito Federal // Contrato no 002/2020-CJU/CEB // Processo no 00093-\\n00000228/2019-16. Contratada:  GLOBAL Iluminacao LTDA  EPP, inscrita sob  o CNPJ\\n03.204.444/0001-37. Contratante: Companhia Energetica de Brasilia - CEB, inscrita sob o CNPJ\\n00.070.698/0001-11. Do objeto: Aquisicao de Luminarias para Iluminacao Publica a LED, potencia de\\n120 Watts (1.744 unidades), de 80 Watts (1.230 unidades), e de 60 Watts (073 unidades). Do valor:\\nR$ 1.378.691,00 (um milhao, trezentos e setenta e oito mil, e seiscentos e noventa e um reais). Do\\nprazo de vigencia: o prazo de vigencia do contrato sera de 12 (doze) meses, contados da data de\\npublicacao do instrumento contratual na imprensa oficial. Da assinatura do contrato: 13 de janeiro de\\n2020. Pela CEB: Fabiano Cardoso Pinto - Diretor Tecnico e Edison Antonio Costa Britto Garcia -\\nDiretor-Presidente. Pela Contratada: Janaina Andreeta Munhoz Velasquez', '\\nComunicamos aos interessados no Procedimento Licitatorio Presencial no 005/2019 - ASCAL/PRES, que apos\\nfinalizado o exame e verificada a aceitabilidade da proposta de precos e documentacao, na forma do\\nInstrumento Convocatorio e com base no estabelecido na Lei Complementar no 123/2006, os beneficios ali\\nestabelecidos por tratar-se de empresa de pequeno porte, foi declarada nova vencedora do certame e adjudicado\\no objeto da licitacao, em favor da empresa ANGLOS CONSTRUCOES LTDA-EPP - CNPJ 37.068.772/0001-\\n75, com o valor total de R$ 1.590.020,38. Fica aberto o prazo para apresentacao de recurso. Processo no 00112-\\n00016080/2019-01. Contatos: (061) 3403-2321 ou (061) 3403- 2322 e email asc a l @ n o v a c a p . d f . g o v. b r', '\\nComunicamos aos interessados no Procedimento Licitatorio Eletronico no 021/2019 - ASCAL/PRES,\\nque apos finalizado o exame e verificada a aceitabilidade da proposta de precos e documentacao, na\\nforma do Instrumento Convocatorio, fica declarada vencedora do certame a empresa CQO -\\nCONSTRUTORA QUEIROZ OLIVEIRA LTDA - EPP CNPJ 06.224.599/0001-23, com o valor total\\nde R$ 2.965.500,00. Fica aberto o prazo para apresentacao de recurso. Processo no 00112-\\n00007281/2019-18. Contatos:  (061) 3403-2321  ou (061)  3403- 2322  e email\\na s c a l @ n o v a c a p . d f . g o v. b r', '\\nComunicamos aos interessados no Procedimento Licitatorio Eletronico no 007/2019 - ASCAL/PRES, que\\napos finalizado o exame e verificada a aceitabilidade da proposta de precos e documentacao, na forma do\\nInstrumento Convocatorio, ficam declaradas vencedoras do certame as empresas: WM PAISAGISMO\\nURBANISMO E COMERCIO EIRELI ME - CNPJ 20.830.895/0001-07 - Lote 01 - R$ 1.760.000,00; Lote\\n02 - R$ 455.000,00; Lote 04 - R$ 600.000,00 e Lote 05 - 890.000,00 e a MARCO AURELIO AMARO\\nDA SILVA EPP - CNPJ 10.399.971/0001-00 - Lote 03 - 464.000,00; Lote 09 - R$ 589.000,00 e Lote 10\\n- R$ 809.000,00. Fica aberto o prazo para apresentacao de recurso. Processo no 00112-00024328/2019-08', '\\nComunicamos aos interessados no Procedimento Licitatorio Eletronico no 009/2019 - ASCAL/PRES, que\\napos finalizado o exame e verificada a aceitabilidade da proposta de precos e documentacao, na forma do\\nInstrumento Convocatorio, fica declarada vencedora a empresa DR7 SERVICO DE OBRAS DE\\nALVENARIA LTDA - CNPJ 01.335.516/0001-50, dos Lotes: 01 - R$ 3.791.724,40; 02 - R$ 3.791.724,40;\\n04 - R$ 3.349.930,19; 05 - R$ 3.349.930,19; 06 - R$ 3.791.724,41; 07 - R$ 3.791.724,41; 09 - R$\\n3.493.498,62 e 10 - R$ 3.493.498,62. Processo no 00112-00033628/2018-99. Fica aberto o prazo para\\napresentacao  de  recurso.  Contatos:  (061)  3403-2321  ou  (061)  3403-  2322  e  email\\na s c a l @ n o v a c a p . d f . g o v. b r', '\\nComunicamos aos interessados no Procedimento Licitatorio Eletronico no 007/2019 - ASCAL/PRES,\\nque apos finalizado o exame e verificada a aceitabilidade da proposta de precos e documentacao, na\\nforma do Instrumento Convocatorio, fica declarada vencedora do Lote 06 a LEAO Servicos Gerais de\\nConservacao e Limpeza Ltda - CNPJ - 10.952.035/0001-84 - com valor total de R$ 1.030.000,00; do\\nLote 07 a CONSTRUTEQ - Construcoes Terraplenagem e Comercio de Equipamentos Eireli EPP -\\nCNPJ - 37.991.338/0001-62, com o valor de R$ 990.000,00 e do Lote 08 a WM PAISAGISMO\\nURBANISMO E COMERCIO EIRELI ME - CNPJ 20.830.895/0001-07, com o valor de R$\\n700.000,00. Processo no 00112-00024328/2019-08. Fica aberto o prazo para apresentacao de recurso', '\\nComunicamos aos interessados no Procedimento Licitatorio Eletronico no 009/2019 - ASCAL/PRES, que\\napos finalizado o exame e verificada a aceitabilidade da proposta de precos e documentacao, na forma do\\nInstrumento Convocatorio, fica declarada vencedora do Lote 08 a empresa Civil Engenharia Ltda - CNPJ\\n- 01.710.170/0001-22 - com valor total de R$ 2.875.790,92 - processo no 00112-00033628/2018-99. Fica\\naberto  o prazo  recursal. Contatos:  (061) 3403-2321  ou (061)  3403- 2322  e email\\na s c a l @ n o v a c a p . d f . g o v. b r', '\\nComunicamos aos interessados no Procedimento Licitatorio Eletronico no 007/2019 - ASCAL/PRES, que\\napos finalizado o exame e verificada a aceitabilidade da proposta de precos e documentacao, na forma do\\nInstrumento Convocatorio, fica declarada vencedora do Lote 03 a empresa WM PA I S A G I S M O\\nURBANISMO E COMERCIO EIRELI ME - CNPJ - 20.830.895/0001-07 - com valor total de R$\\n750.000,00 - processo no 00112-00024328/2019-08. Fica aberto o prazo recursal de 05 (cinco) dias uteis', '\\nComunicamos aos interessados no Procedimento Licitatorio Eletronico no 016/2019 - ASCAL/PRES, que\\napos finalizado o exame e verificada a aceitabilidade da proposta de precos e documentacao, na forma do\\nInstrumento Convocatorio, ficam declaradas vencedoras: Lote 01, com o valor total de R$ 3.313.154,57 -\\na empresa ASTOKE ENGENHARIA - EDILSON JANUARIO TEIXEIRA - CNPJ - 12.058.887/0001-58;\\nLote 02, com o valor total de R$ 3.385.882,35, Lote 04, com o valor total de R$ 3.977.622,98 e Lote 08,\\ncom o valor total de R$ 4.037.678,84 - a empresa INFRA ENGETH INFRA-ESTRUTURA\\nCONSTRUCAO E COMERCIO LTDA - CNPJ 02.237.437/0001-79; Lote 03, com o valor total de R$\\n3.683.335,84 e Lote 06, com o valor total de R$ 4.175.683,55 a empresa CEJEN ENGENHARIA LTDA\\n- CNPJ 79.540.670/0001-50 - processo no 00112-00024192/2019-28. Fica aberto o prazo recursal de 05\\n(cinco) dias uteis. Contatos: (061) 3403-2321 ou (061) 3403- 2322 e email asc a l @ n o v a c a p . d f . g o v. b r', '\\nComunicamos aos interessados no Procedimento Licitatorio Eletronico no 001/2020  \\nASCAL/PRES, que apos finalizado o exame e verificada a aceitabilidade da proposta de \\nprecos e documentacao, na forma do Instrumento Convocatorio, fica declarada vencedora \\ndo certame a empresa C.Q.O  Construtora Queiroz Oliveira Ltda  EPP  CNPJ \\n06.224.599/0001-23, com o valor total de R$ 2.599.000,00 - processo no \\n0112.003722/2017. Fica aberto o prazo recursal de 05 (cinco) dias uteis. Contatos: (061) \\n3403-2321 ou (061) 3403- 2322 e email: ascal@novacap.df.gov.br', '\\nComunicamos aos interessados no Procedimento Licitatorio Eletronico no 023/2019  \\nASCAL/PRES, que apos finalizado o exame e verificada a aceitabilidade da proposta de \\nprecos e documentacao, na forma do Instrumento Convocatorio, fica declarada vencedora \\ndo certame a empresa ASTOKE ENGENHARIA  EDILSON JANUARIO TEIXEIRA  \\nME  CNPJ 12.058.887/0001-58, com o valor total de R$ 8.389.197,25 - processo no \\n00112.00023308/2019-10. Fica aberto o prazo recursal de 05 (cinco) dias uteis. Contatos: \\n(061) 3403-2321 ou (061) 3403- 2322 e email ascal@novacap.df.gov.br', '\\nComunicamos aos interessados no Procedimento Licitatorio Eletronico no 015/2019  \\nASCAL/PRES, que apos finalizado o exame e verificada a aceitabilidade da proposta de \\nprecos e documentacao, na forma do Instrumento Convocatorio, fica declarada vencedora \\ndo certame a empresa CONSTRUTORA PREMIUM E SERVICOS GERAIS EIRELI  \\nME  CNPJ 18.695.016/0001-21, com o valor total de R$ 468.116,00 - processo no \\n00112.00026487/2018-58. Fica aberto o prazo recursal de 05 (cinco) dias uteis. Contatos: \\n(061) 3403-2321 ou (061) 3403- 2322 e email ascal@novacap.df.gov.br']\n"
     ]
    }
   ],
   "source": [
    "print(all_contracts)"
   ]
  },
  {
   "cell_type": "code",
   "execution_count": 298,
   "metadata": {},
   "outputs": [],
   "source": [
    "regex_dict = {\n",
    "    'processo': '[P|p]rocesso[\\s\\S]*(\\d{5}[\\.|\\-]\\d{8}/\\d{4}-\\d{2})',\n",
    "    'CNPJ': 'CNPJ[\\s\\S]*(\\d{2}.\\d{3}.\\d{3}/\\d{4}-\\d{2})',\n",
    "    'empresa': 'a empresa[\\s\\S]*?:?([\\s\\S]*?)\\-',\n",
    "    'valor': 'com o valor total[\\s\\S]*?(\\d+(?:\\.\\d+)*,\\d\\d)',             \n",
    "}\n",
    "\n",
    "df_dict = {\n",
    "    'processo': [],\n",
    "    'CNPJ': [],\n",
    "    'empresa': [],\n",
    "    'valor': [],\n",
    "    'texto': [],   \n",
    "}\n"
   ]
  },
  {
   "cell_type": "code",
   "execution_count": 299,
   "metadata": {},
   "outputs": [],
   "source": [
    "for contract in all_contracts:\n",
    "    df_dict['texto'].append(contract)\n",
    "    for field in regex_dict:\n",
    "        match = re.search(regex_dict[field], contract, re.IGNORECASE)\n",
    "        if match:\n",
    "            res = tuple(x for x in match.groups() if x is not None)\n",
    "            df_dict[field].append(res[0])\n",
    "        else:\n",
    "            df_dict[field].append(np.nan)\n",
    "\n",
    "df = pd.DataFrame.from_dict(df_dict)\n",
    "df.to_csv('declaracaoVencedor_regex.csv')"
   ]
  },
  {
   "cell_type": "code",
   "execution_count": 300,
   "metadata": {},
   "outputs": [
    {
     "output_type": "execute_result",
     "data": {
      "text/plain": [
       "    Unnamed: 0                processo                CNPJ  \\\n",
       "0            0  00112-00019341/2019-37                 NaN   \n",
       "1            1                     NaN                 NaN   \n",
       "2            2  00112-00016896/2019-27                 NaN   \n",
       "3            3                     NaN  02.237.437/0001-79   \n",
       "4            4  00112-00024192/2019-28  25.451.351/0001-40   \n",
       "5            5  00110-00001761/2018-32  18.695.016/0001-21   \n",
       "6            6  00300-00001751/2019-22  01.251.610/0001-20   \n",
       "7            7                     NaN  06.224.599/0001-23   \n",
       "8            8                     NaN  00.070.698/0001-11   \n",
       "9            9                     NaN                 NaN   \n",
       "10          10                     NaN  06.224.599/0001-23   \n",
       "11          11  00112-00024328/2019-08  10.399.971/0001-00   \n",
       "12          12  00112-00033628/2018-99  01.335.516/0001-50   \n",
       "13          13  00112-00024328/2019-08  20.830.895/0001-07   \n",
       "14          14  00112-00033628/2018-99  01.710.170/0001-22   \n",
       "15          15  00112-00024328/2019-08  20.830.895/0001-07   \n",
       "16          16  00112-00024192/2019-28  79.540.670/0001-50   \n",
       "17          17                     NaN  06.224.599/0001-23   \n",
       "18          18  00112.00023308/2019-10  12.058.887/0001-58   \n",
       "19          19  00112.00026487/2018-58  18.695.016/0001-21   \n",
       "\n",
       "                                              empresa         valor  \\\n",
       "0    GW CONSTRUCOES E INCORPORACOES LTDA, com o va...  7.850.000,00   \n",
       "1                                                 NaN    868.218,66   \n",
       "2                                         ConcrEpoxi     468.378,54   \n",
       "3                                       Infra Engeth   1.590.739,82   \n",
       "4                          GALAXI ENGENHARIA\\nEIRELI   3.200.000,00   \n",
       "5        CONSTRUTORA PREMIUM E\\nSERVICOS GERAIS LTDA      90.297,58   \n",
       "6               LA DART\\nINDUSTRIA E COMERCIO EIRELI     353.830,00   \n",
       "7                                             C.Q.O.   3.106.000,00   \n",
       "8        CONSTRUTORA PREMIUM E SERVICOS\\nGERAIS LTDA     468.116,00   \n",
       "9                             ANGLOS CONSTRUCOES LTDA  1.590.020,38   \n",
       "10                                               CQO   2.965.500,00   \n",
       "11                                                NaN           NaN   \n",
       "12           DR7 SERVICO DE OBRAS DE\\nALVENARIA LTDA            NaN   \n",
       "13                                                NaN           NaN   \n",
       "14                             Civil Engenharia Ltda            NaN   \n",
       "15   WM PA I S A G I S M O\\nURBANISMO E COMERCIO E...           NaN   \n",
       "16                                 ASTOKE ENGENHARIA   3.313.154,57   \n",
       "17   C.Q.O  Construtora Queiroz Oliveira Ltda  EPP...  2.599.000,00   \n",
       "18   ASTOKE ENGENHARIA  EDILSON JANUARIO TEIXEIRA ...  8.389.197,25   \n",
       "19   CONSTRUTORA PREMIUM E SERVICOS GERAIS EIRELI ...    468.116,00   \n",
       "\n",
       "                                                texto  \n",
       "0   \\nComunicamos aos interessados no Procedimento...  \n",
       "1   \\nComunicamos aos interessados no Procedimento...  \n",
       "2   \\nComunicamos aos interessados no Procedimento...  \n",
       "3   \\nComunicamos aos interessados no Procedimento...  \n",
       "4   \\nComunicamos aos interessados no Procedimento...  \n",
       "5   \\nComunicamos aos interessados no Procedimento...  \n",
       "6   \\nComunicamos aos interessados no Procedimento...  \n",
       "7   \\nComunicamos aos interessados no Procedimento...  \n",
       "8    publicado no DODF no 5, de 08 de janeiro de 2...  \n",
       "9   \\nComunicamos aos interessados no Procedimento...  \n",
       "10  \\nComunicamos aos interessados no Procedimento...  \n",
       "11  \\nComunicamos aos interessados no Procedimento...  \n",
       "12  \\nComunicamos aos interessados no Procedimento...  \n",
       "13  \\nComunicamos aos interessados no Procedimento...  \n",
       "14  \\nComunicamos aos interessados no Procedimento...  \n",
       "15  \\nComunicamos aos interessados no Procedimento...  \n",
       "16  \\nComunicamos aos interessados no Procedimento...  \n",
       "17  \\nComunicamos aos interessados no Procedimento...  \n",
       "18  \\nComunicamos aos interessados no Procedimento...  \n",
       "19  \\nComunicamos aos interessados no Procedimento...  "
      ],
      "text/html": "<div>\n<style scoped>\n    .dataframe tbody tr th:only-of-type {\n        vertical-align: middle;\n    }\n\n    .dataframe tbody tr th {\n        vertical-align: top;\n    }\n\n    .dataframe thead th {\n        text-align: right;\n    }\n</style>\n<table border=\"1\" class=\"dataframe\">\n  <thead>\n    <tr style=\"text-align: right;\">\n      <th></th>\n      <th>Unnamed: 0</th>\n      <th>processo</th>\n      <th>CNPJ</th>\n      <th>empresa</th>\n      <th>valor</th>\n      <th>texto</th>\n    </tr>\n  </thead>\n  <tbody>\n    <tr>\n      <th>0</th>\n      <td>0</td>\n      <td>00112-00019341/2019-37</td>\n      <td>NaN</td>\n      <td>GW CONSTRUCOES E INCORPORACOES LTDA, com o va...</td>\n      <td>7.850.000,00</td>\n      <td>\\nComunicamos aos interessados no Procedimento...</td>\n    </tr>\n    <tr>\n      <th>1</th>\n      <td>1</td>\n      <td>NaN</td>\n      <td>NaN</td>\n      <td>NaN</td>\n      <td>868.218,66</td>\n      <td>\\nComunicamos aos interessados no Procedimento...</td>\n    </tr>\n    <tr>\n      <th>2</th>\n      <td>2</td>\n      <td>00112-00016896/2019-27</td>\n      <td>NaN</td>\n      <td>ConcrEpoxi</td>\n      <td>468.378,54</td>\n      <td>\\nComunicamos aos interessados no Procedimento...</td>\n    </tr>\n    <tr>\n      <th>3</th>\n      <td>3</td>\n      <td>NaN</td>\n      <td>02.237.437/0001-79</td>\n      <td>Infra Engeth</td>\n      <td>1.590.739,82</td>\n      <td>\\nComunicamos aos interessados no Procedimento...</td>\n    </tr>\n    <tr>\n      <th>4</th>\n      <td>4</td>\n      <td>00112-00024192/2019-28</td>\n      <td>25.451.351/0001-40</td>\n      <td>GALAXI ENGENHARIA\\nEIRELI</td>\n      <td>3.200.000,00</td>\n      <td>\\nComunicamos aos interessados no Procedimento...</td>\n    </tr>\n    <tr>\n      <th>5</th>\n      <td>5</td>\n      <td>00110-00001761/2018-32</td>\n      <td>18.695.016/0001-21</td>\n      <td>CONSTRUTORA PREMIUM E\\nSERVICOS GERAIS LTDA</td>\n      <td>90.297,58</td>\n      <td>\\nComunicamos aos interessados no Procedimento...</td>\n    </tr>\n    <tr>\n      <th>6</th>\n      <td>6</td>\n      <td>00300-00001751/2019-22</td>\n      <td>01.251.610/0001-20</td>\n      <td>LA DART\\nINDUSTRIA E COMERCIO EIRELI</td>\n      <td>353.830,00</td>\n      <td>\\nComunicamos aos interessados no Procedimento...</td>\n    </tr>\n    <tr>\n      <th>7</th>\n      <td>7</td>\n      <td>NaN</td>\n      <td>06.224.599/0001-23</td>\n      <td>C.Q.O.</td>\n      <td>3.106.000,00</td>\n      <td>\\nComunicamos aos interessados no Procedimento...</td>\n    </tr>\n    <tr>\n      <th>8</th>\n      <td>8</td>\n      <td>NaN</td>\n      <td>00.070.698/0001-11</td>\n      <td>CONSTRUTORA PREMIUM E SERVICOS\\nGERAIS LTDA</td>\n      <td>468.116,00</td>\n      <td>publicado no DODF no 5, de 08 de janeiro de 2...</td>\n    </tr>\n    <tr>\n      <th>9</th>\n      <td>9</td>\n      <td>NaN</td>\n      <td>NaN</td>\n      <td>ANGLOS CONSTRUCOES LTDA</td>\n      <td>1.590.020,38</td>\n      <td>\\nComunicamos aos interessados no Procedimento...</td>\n    </tr>\n    <tr>\n      <th>10</th>\n      <td>10</td>\n      <td>NaN</td>\n      <td>06.224.599/0001-23</td>\n      <td>CQO</td>\n      <td>2.965.500,00</td>\n      <td>\\nComunicamos aos interessados no Procedimento...</td>\n    </tr>\n    <tr>\n      <th>11</th>\n      <td>11</td>\n      <td>00112-00024328/2019-08</td>\n      <td>10.399.971/0001-00</td>\n      <td>NaN</td>\n      <td>NaN</td>\n      <td>\\nComunicamos aos interessados no Procedimento...</td>\n    </tr>\n    <tr>\n      <th>12</th>\n      <td>12</td>\n      <td>00112-00033628/2018-99</td>\n      <td>01.335.516/0001-50</td>\n      <td>DR7 SERVICO DE OBRAS DE\\nALVENARIA LTDA</td>\n      <td>NaN</td>\n      <td>\\nComunicamos aos interessados no Procedimento...</td>\n    </tr>\n    <tr>\n      <th>13</th>\n      <td>13</td>\n      <td>00112-00024328/2019-08</td>\n      <td>20.830.895/0001-07</td>\n      <td>NaN</td>\n      <td>NaN</td>\n      <td>\\nComunicamos aos interessados no Procedimento...</td>\n    </tr>\n    <tr>\n      <th>14</th>\n      <td>14</td>\n      <td>00112-00033628/2018-99</td>\n      <td>01.710.170/0001-22</td>\n      <td>Civil Engenharia Ltda</td>\n      <td>NaN</td>\n      <td>\\nComunicamos aos interessados no Procedimento...</td>\n    </tr>\n    <tr>\n      <th>15</th>\n      <td>15</td>\n      <td>00112-00024328/2019-08</td>\n      <td>20.830.895/0001-07</td>\n      <td>WM PA I S A G I S M O\\nURBANISMO E COMERCIO E...</td>\n      <td>NaN</td>\n      <td>\\nComunicamos aos interessados no Procedimento...</td>\n    </tr>\n    <tr>\n      <th>16</th>\n      <td>16</td>\n      <td>00112-00024192/2019-28</td>\n      <td>79.540.670/0001-50</td>\n      <td>ASTOKE ENGENHARIA</td>\n      <td>3.313.154,57</td>\n      <td>\\nComunicamos aos interessados no Procedimento...</td>\n    </tr>\n    <tr>\n      <th>17</th>\n      <td>17</td>\n      <td>NaN</td>\n      <td>06.224.599/0001-23</td>\n      <td>C.Q.O  Construtora Queiroz Oliveira Ltda  EPP...</td>\n      <td>2.599.000,00</td>\n      <td>\\nComunicamos aos interessados no Procedimento...</td>\n    </tr>\n    <tr>\n      <th>18</th>\n      <td>18</td>\n      <td>00112.00023308/2019-10</td>\n      <td>12.058.887/0001-58</td>\n      <td>ASTOKE ENGENHARIA  EDILSON JANUARIO TEIXEIRA ...</td>\n      <td>8.389.197,25</td>\n      <td>\\nComunicamos aos interessados no Procedimento...</td>\n    </tr>\n    <tr>\n      <th>19</th>\n      <td>19</td>\n      <td>00112.00026487/2018-58</td>\n      <td>18.695.016/0001-21</td>\n      <td>CONSTRUTORA PREMIUM E SERVICOS GERAIS EIRELI ...</td>\n      <td>468.116,00</td>\n      <td>\\nComunicamos aos interessados no Procedimento...</td>\n    </tr>\n  </tbody>\n</table>\n</div>"
     },
     "metadata": {},
     "execution_count": 300
    }
   ],
   "source": [
    "dados_declaracaoVencedor = pd.read_csv('declaracaoVencedor_regex.csv')\n",
    "dados_declaracaoVencedor"
   ]
  },
  {
   "cell_type": "code",
   "execution_count": 301,
   "metadata": {},
   "outputs": [
    {
     "output_type": "execute_result",
     "data": {
      "text/plain": [
       "Unnamed: 0    0\n",
       "processo      7\n",
       "CNPJ          4\n",
       "empresa       3\n",
       "valor         5\n",
       "texto         0\n",
       "dtype: int64"
      ]
     },
     "metadata": {},
     "execution_count": 301
    }
   ],
   "source": [
    "dados_declaracaoVencedor.isnull().sum()"
   ]
  }
 ]
}