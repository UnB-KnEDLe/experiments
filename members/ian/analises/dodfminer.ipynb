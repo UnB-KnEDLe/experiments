{
 "metadata": {
  "language_info": {
   "codemirror_mode": {
    "name": "ipython",
    "version": 3
   },
   "file_extension": ".py",
   "mimetype": "text/x-python",
   "name": "python",
   "nbconvert_exporter": "python",
   "pygments_lexer": "ipython3",
   "version": "3.6.8-final"
  },
  "orig_nbformat": 2,
  "kernelspec": {
   "name": "python368jvsc74a57bd06a5ed2ccc9d2ba59c3542bbda7f71bcfb6eae0ef46ae44aa32b9fd054184bad6",
   "display_name": "Python 3.6.8 64-bit"
  },
  "metadata": {
   "interpreter": {
    "hash": "6a5ed2ccc9d2ba59c3542bbda7f71bcfb6eae0ef46ae44aa32b9fd054184bad6"
   }
  }
 },
 "nbformat": 4,
 "nbformat_minor": 2,
 "cells": [
  {
   "cell_type": "code",
   "execution_count": 1,
   "metadata": {},
   "outputs": [
    {
     "output_type": "stream",
     "name": "stdout",
     "text": [
      "Requirement already satisfied: dodfminer in c:\\users\\ianfi\\appdata\\local\\programs\\python\\python36\\lib\\site-packages (1.3.2)\nRequirement already satisfied: pandas==1.0.4 in c:\\users\\ianfi\\appdata\\local\\programs\\python\\python36\\lib\\site-packages (from dodfminer) (1.0.4)\nRequirement already satisfied: torch==1.7.1 in c:\\users\\ianfi\\appdata\\local\\programs\\python\\python36\\lib\\site-packages (from dodfminer) (1.7.1)\nRequirement already satisfied: nltk==3.5 in c:\\users\\ianfi\\appdata\\local\\programs\\python\\python36\\lib\\site-packages (from dodfminer) (3.5)\nRequirement already satisfied: certifi==2020.4.5.2 in c:\\users\\ianfi\\appdata\\local\\programs\\python\\python36\\lib\\site-packages (from dodfminer) (2020.4.5.2)\nRequirement already satisfied: soupsieve==2.0.1 in c:\\users\\ianfi\\appdata\\local\\programs\\python\\python36\\lib\\site-packages (from dodfminer) (2.0.1)\nRequirement already satisfied: PyMuPDF==1.17.0 in c:\\users\\ianfi\\appdata\\local\\programs\\python\\python36\\lib\\site-packages (from dodfminer) (1.17.0)\nRequirement already satisfied: pytest==6.0.2 in c:\\users\\ianfi\\appdata\\local\\programs\\python\\python36\\lib\\site-packages (from dodfminer) (6.0.2)\nRequirement already satisfied: numpy==1.18.5 in c:\\users\\ianfi\\appdata\\local\\programs\\python\\python36\\lib\\site-packages (from dodfminer) (1.18.5)\nRequirement already satisfied: coveralls==2.1.2 in c:\\users\\ianfi\\appdata\\local\\programs\\python\\python36\\lib\\site-packages (from dodfminer) (2.1.2)\nRequirement already satisfied: lxml==4.5.2 in c:\\users\\ianfi\\appdata\\local\\programs\\python\\python36\\lib\\site-packages (from dodfminer) (4.5.2)\nRequirement already satisfied: utils==1.0.1 in c:\\users\\ianfi\\appdata\\local\\programs\\python\\python36\\lib\\site-packages (from dodfminer) (1.0.1)\nRequirement already satisfied: beautifulsoup4==4.9.1 in c:\\users\\ianfi\\appdata\\local\\programs\\python\\python36\\lib\\site-packages (from dodfminer) (4.9.1)\nRequirement already satisfied: Jinja2==2.11.2 in c:\\users\\ianfi\\appdata\\local\\programs\\python\\python36\\lib\\site-packages (from dodfminer) (2.11.2)\nRequirement already satisfied: requests==2.23.0 in c:\\users\\ianfi\\appdata\\local\\programs\\python\\python36\\lib\\site-packages (from dodfminer) (2.23.0)\nRequirement already satisfied: pytest-mock==3.3.1 in c:\\users\\ianfi\\appdata\\local\\programs\\python\\python36\\lib\\site-packages (from dodfminer) (3.3.1)\nRequirement already satisfied: bs4==0.0.1 in c:\\users\\ianfi\\appdata\\local\\programs\\python\\python36\\lib\\site-packages (from dodfminer) (0.0.1)\nRequirement already satisfied: sklearn-crfsuite==0.3.6 in c:\\users\\ianfi\\appdata\\local\\programs\\python\\python36\\lib\\site-packages (from dodfminer) (0.3.6)\nRequirement already satisfied: six==1.15.0 in c:\\users\\ianfi\\appdata\\local\\programs\\python\\python36\\lib\\site-packages (from dodfminer) (1.15.0)\nRequirement already satisfied: chardet==3.0.4 in c:\\users\\ianfi\\appdata\\local\\programs\\python\\python36\\lib\\site-packages (from dodfminer) (3.0.4)\nRequirement already satisfied: urllib3==1.25.9 in c:\\users\\ianfi\\appdata\\local\\programs\\python\\python36\\lib\\site-packages (from dodfminer) (1.25.9)\nRequirement already satisfied: idna==2.9 in c:\\users\\ianfi\\appdata\\local\\programs\\python\\python36\\lib\\site-packages (from dodfminer) (2.9)\nRequirement already satisfied: tqdm==4.46.1 in c:\\users\\ianfi\\appdata\\local\\programs\\python\\python36\\lib\\site-packages (from dodfminer) (4.46.1)\nRequirement already satisfied: gdown==3.12.2 in c:\\users\\ianfi\\appdata\\local\\programs\\python\\python36\\lib\\site-packages (from dodfminer) (3.12.2)\nRequirement already satisfied: pytz==2020.1 in c:\\users\\ianfi\\appdata\\local\\programs\\python\\python36\\lib\\site-packages (from dodfminer) (2020.1)\nRequirement already satisfied: joblib==0.16.0 in c:\\users\\ianfi\\appdata\\local\\programs\\python\\python36\\lib\\site-packages (from dodfminer) (0.16.0)\nRequirement already satisfied: pytest-cov==2.10.1 in c:\\users\\ianfi\\appdata\\local\\programs\\python\\python36\\lib\\site-packages (from dodfminer) (2.10.1)\nRequirement already satisfied: python-dateutil==2.8.1 in c:\\users\\ianfi\\appdata\\local\\programs\\python\\python36\\lib\\site-packages (from dodfminer) (2.8.1)\nRequirement already satisfied: docopt>=0.6.1 in c:\\users\\ianfi\\appdata\\local\\programs\\python\\python36\\lib\\site-packages (from coveralls==2.1.2->dodfminer) (0.6.2)\nRequirement already satisfied: coverage<6.0,>=4.1 in c:\\users\\ianfi\\appdata\\local\\programs\\python\\python36\\lib\\site-packages (from coveralls==2.1.2->dodfminer) (5.5)\nRequirement already satisfied: filelock in c:\\users\\ianfi\\appdata\\local\\programs\\python\\python36\\lib\\site-packages (from gdown==3.12.2->dodfminer) (3.0.12)\nRequirement already satisfied: MarkupSafe>=0.23 in c:\\users\\ianfi\\appdata\\local\\programs\\python\\python36\\lib\\site-packages (from Jinja2==2.11.2->dodfminer) (1.1.1)\nRequirement already satisfied: click in c:\\users\\ianfi\\appdata\\local\\programs\\python\\python36\\lib\\site-packages (from nltk==3.5->dodfminer) (7.1.2)\nRequirement already satisfied: regex in c:\\users\\ianfi\\appdata\\local\\programs\\python\\python36\\lib\\site-packages (from nltk==3.5->dodfminer) (2020.11.13)\nRequirement already satisfied: toml in c:\\users\\ianfi\\appdata\\local\\programs\\python\\python36\\lib\\site-packages (from pytest==6.0.2->dodfminer) (0.10.2)\nRequirement already satisfied: atomicwrites>=1.0 in c:\\users\\ianfi\\appdata\\local\\programs\\python\\python36\\lib\\site-packages (from pytest==6.0.2->dodfminer) (1.4.0)\nRequirement already satisfied: colorama in c:\\users\\ianfi\\appdata\\local\\programs\\python\\python36\\lib\\site-packages (from pytest==6.0.2->dodfminer) (0.4.4)\nRequirement already satisfied: more-itertools>=4.0.0 in c:\\users\\ianfi\\appdata\\local\\programs\\python\\python36\\lib\\site-packages (from pytest==6.0.2->dodfminer) (8.7.0)\nRequirement already satisfied: attrs>=17.4.0 in c:\\users\\ianfi\\appdata\\local\\programs\\python\\python36\\lib\\site-packages (from pytest==6.0.2->dodfminer) (20.3.0)\nRequirement already satisfied: packaging in c:\\users\\ianfi\\appdata\\local\\programs\\python\\python36\\lib\\site-packages (from pytest==6.0.2->dodfminer) (20.9)\nRequirement already satisfied: importlib-metadata>=0.12 in c:\\users\\ianfi\\appdata\\local\\programs\\python\\python36\\lib\\site-packages (from pytest==6.0.2->dodfminer) (3.7.2)\nRequirement already satisfied: iniconfig in c:\\users\\ianfi\\appdata\\local\\programs\\python\\python36\\lib\\site-packages (from pytest==6.0.2->dodfminer) (1.1.1)\nRequirement already satisfied: py>=1.8.2 in c:\\users\\ianfi\\appdata\\local\\programs\\python\\python36\\lib\\site-packages (from pytest==6.0.2->dodfminer) (1.10.0)\nRequirement already satisfied: pluggy<1.0,>=0.12 in c:\\users\\ianfi\\appdata\\local\\programs\\python\\python36\\lib\\site-packages (from pytest==6.0.2->dodfminer) (0.13.1)\nRequirement already satisfied: python-crfsuite>=0.8.3 in c:\\users\\ianfi\\appdata\\local\\programs\\python\\python36\\lib\\site-packages (from sklearn-crfsuite==0.3.6->dodfminer) (0.9.7)\nRequirement already satisfied: tabulate in c:\\users\\ianfi\\appdata\\local\\programs\\python\\python36\\lib\\site-packages (from sklearn-crfsuite==0.3.6->dodfminer) (0.8.9)\nRequirement already satisfied: typing-extensions in c:\\users\\ianfi\\appdata\\local\\programs\\python\\python36\\lib\\site-packages (from torch==1.7.1->dodfminer) (3.7.4.3)\nRequirement already satisfied: dataclasses in c:\\users\\ianfi\\appdata\\local\\programs\\python\\python36\\lib\\site-packages (from torch==1.7.1->dodfminer) (0.8)\nRequirement already satisfied: zipp>=0.5 in c:\\users\\ianfi\\appdata\\local\\programs\\python\\python36\\lib\\site-packages (from importlib-metadata>=0.12->pytest==6.0.2->dodfminer) (3.4.1)\nRequirement already satisfied: pyparsing>=2.0.2 in c:\\users\\ianfi\\appdata\\local\\programs\\python\\python36\\lib\\site-packages (from packaging->pytest==6.0.2->dodfminer) (2.4.7)\nRequirement already satisfied: PySocks!=1.5.7,>=1.5.6 in c:\\users\\ianfi\\appdata\\local\\programs\\python\\python36\\lib\\site-packages (from requests==2.23.0->dodfminer) (1.7.1)\n"
     ]
    }
   ],
   "source": [
    "!pip install --upgrade dodfminer"
   ]
  },
  {
   "cell_type": "code",
   "execution_count": 2,
   "metadata": {},
   "outputs": [],
   "source": [
    "import requests\n",
    "from dodfminer import ContentExtractor\n",
    "from dodfminer import ActsExtractor\n",
    "from dodfminer.extract.polished.segmentation.core import Segmentation"
   ]
  },
  {
   "cell_type": "code",
   "execution_count": 4,
   "metadata": {},
   "outputs": [],
   "source": [
    "%%capture\n",
    "\n",
    "urls = ['https://www.dodf.df.gov.br/index/visualizar-arquivo/?pasta=2019/12_Dezembro/DODF%20244%2024-12-2019&arquivo=DODF%20244%2024-12-2019%20INTEGRA.pdf',\n",
    "        'https://dodf.df.gov.br/index/visualizar-arquivo/?pasta=2021|01_Janeiro|DODF%20005%2008-01-2021|&arquivo=DODF%20005%2008-01-2021%20INTEGRA.pdf',\n",
    "        'https://www.dodf.df.gov.br/index/visualizar-arquivo/?pasta=2020/12_Dezembro/DODF%20226%2002-12-2020&arquivo=DODF%20226%2002-12-2020%20INTEGRA.pdf',\n",
    "        'https://www.dodf.df.gov.br/index/visualizar-arquivo/?pasta=2019/12_Dezembro/DODF%20245%2026-12-2019&arquivo=DODF%20245%2026-12-2019%20INTEGRA.pdf',\n",
    "        'https://dodf.df.gov.br/index/visualizar-arquivo/?pasta=2021|01_Janeiro|DODF%20015%2022-01-2021|&arquivo=DODF%20015%2022-01-2021%20INTEGRA.pdf',\n",
    "        'https://www.dodf.df.gov.br/index/visualizar-arquivo/?pasta=2020/12_Dezembro/DODF%20243%2028-12-2020&arquivo=DODF%20243%2028-12-2020%20INTEGRA.pdf',\n",
    "        'https://www.dodf.df.gov.br/index/visualizar-arquivo/?pasta=2020/12_Dezembro/DODF%20240%2022-12-2020&arquivo=DODF%20240%2022-12-2020%20INTEGRA.pdf',\n",
    "        'https://www.dodf.df.gov.br/index/visualizar-arquivo/?pasta=2020/12_Dezembro/DODF%20238%2018-12-2020&arquivo=DODF%20238%2018-12-2020%20INTEGRA.pdf',\n",
    "        'http://www.buriti.df.gov.br/ftp/diariooficial/2019/07_Julho/DODF%20135%2019-07-2019/DODF%20135%2019-07-2019%20INTEGRA.pdf']\n",
    "\n",
    "pdfs = ['dodfs/DODF_244.pdf',\n",
    "        'dodfs/DODF_005.pdf',\n",
    "        'dodfs/DODF_226.pdf',\n",
    "        'dodfs/DODF_245.pdf',\n",
    "        'dodfs/DODF_015.pdf',\n",
    "        'dodfs/DODF_243.pdf',\n",
    "        'dodfs/DODF_240.pdf',\n",
    "        'dodfs/DODF_238.pdf',\n",
    "        'dodfs/DODF_135.pdf']\n",
    "\n",
    "cont = 0\n",
    "for url in urls:\n",
    "    r = requests.get(url)\n",
    "    open(pdfs[cont], 'wb').write(r.content)\n",
    "    pdf_file = pdfs[cont]\n",
    "    ContentExtractor.extract_text(pdf_file, single=True)\n",
    "    cont+=1"
   ]
  }
 ]
}