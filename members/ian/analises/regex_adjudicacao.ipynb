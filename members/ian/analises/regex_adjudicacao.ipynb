{
 "metadata": {
  "language_info": {
   "codemirror_mode": {
    "name": "ipython",
    "version": 3
   },
   "file_extension": ".py",
   "mimetype": "text/x-python",
   "name": "python",
   "nbconvert_exporter": "python",
   "pygments_lexer": "ipython3",
   "version": "3.6.8-final"
  },
  "orig_nbformat": 2,
  "kernelspec": {
   "name": "python368jvsc74a57bd06a5ed2ccc9d2ba59c3542bbda7f71bcfb6eae0ef46ae44aa32b9fd054184bad6",
   "display_name": "Python 3.6.8 64-bit"
  },
  "metadata": {
   "interpreter": {
    "hash": "6a5ed2ccc9d2ba59c3542bbda7f71bcfb6eae0ef46ae44aa32b9fd054184bad6"
   }
  }
 },
 "nbformat": 4,
 "nbformat_minor": 2,
 "cells": [
  {
   "cell_type": "code",
   "execution_count": 201,
   "metadata": {},
   "outputs": [],
   "source": [
    "import glob\n",
    "import re\n",
    "import pandas as pd\n",
    "from yattag import Doc\n",
    "import unicodedata"
   ]
  },
  {
   "cell_type": "code",
   "execution_count": 202,
   "metadata": {},
   "outputs": [],
   "source": [
    "doc, tag, text = Doc().tagtext()"
   ]
  },
  {
   "cell_type": "code",
   "execution_count": 203,
   "metadata": {},
   "outputs": [],
   "source": [
    "txt_files = glob.glob('data/**/**/*.txt')"
   ]
  },
  {
   "cell_type": "code",
   "execution_count": 204,
   "metadata": {},
   "outputs": [],
   "source": [
    "# AVISO DE ADJUDICACAO E HOMOLOGACAO\n",
    "all_contracts = []\n",
    "for txt in txt_files:\n",
    "    instances = re.findall('AVISO (?:de)? ADJUDICACAO (?:.*HOMOLOGACAO)([\\s\\S]*?)\\.\\n',\n",
    "                            unicodedata.normalize('NFKD', open(txt, encoding='utf-8').read()), \n",
    "                            re.IGNORECASE)\n",
    "    all_contracts.extend(instances)"
   ]
  },
  {
   "cell_type": "code",
   "execution_count": 205,
   "metadata": {
    "tags": [
     "outputPrepend"
    ]
   },
   "outputs": [
    {
     "output_type": "stream",
     "name": "stdout",
     "text": [
      "deiras\\nplasticas, para atender demandas da Secretaria de Estado de Seguranca Publica do Distrito Federal. A\\nSSPDF informa, com fulcro no inciso IX do artigo 17 e inciso VI do artigo 13 do Decreto no\\n10.024/2019, a ADJUDICACAO do item 1 a Aiala Eventos Eireli, CNPJ 10.862.668/0001-00, no\\nvalor total de R$ 7.740,00; do item 2 a Supreme Artigos de Plastico Ltda, CNPJ 23.036.879/0001-\\n27, no valor total de R$3.229,20. A SSPDF informa ainda a HOMOLOGACAO do certame com\\nfulcro no inciso VI do Artigo 13, do Decreto no 10.024/2019', '\\nPREGAO ELETRONICO No 30/2019\\nProcesso: 00050.00036456/2019-40. Tipo: Menor Preco. Objeto: Registro de Precos para futura aquisicao\\nde Rocadeira manual com motor e Podador de galhos com motor, para atender demandas da Secretaria de\\nEstado de Seguranca Publica do Distrito Federal. A SSPDF informa, com fulcro no inciso IX do artigo 17\\ndo Decreto no 10.024/2019, a ADJUDICACAO do item 1 a Comercial Vanguardeira Eireli, CNPJ\\n10.942.831/0001-36, no valor unitario de R$ 985,00; do item 2 a Vidente Construcoes e Comercio Ltda,\\nCNPJ 26.517.495/0001-14, no valor unitario de R$ 1.070,00. A SSPDF informa ainda a\\nHOMOLOGACAO do certame com fulcro no inciso VI do Artigo 13, do Decreto no 10.024/2019', '\\nPREGAO ELETRONICO No 45/2019-SSP\\nProcesso: 00050-00035682/2019-78. TIPO: Disputa pelo menor preco estimado (sigiloso) de um\\nquilograma da refeicao (almoco). OBJETO: Selecao de empresa especializada no fornecimento de\\nservicos de alimentacao, relativos a restaurante e lanchonete no pavimento terreo do Edificio Sede da\\nSecretaria de Estado de Seguranca de Publica do Distrito Federal, mediante concessao de uso onerosa\\nde espaco publico com area total de 76,79m2, localizada no Setor de Administracao Municipal - SAM,\\nBloco \"A\", Brasilia, DF, Brasilia, DF. A SSPDF informa, com fulcro no inciso IX do artigo 17, e\\ninciso VI do Artigo 13 do Decreto no 10.024/2019, a ADJUDICACAO do objeto a RM Restaurante\\ne Lanchonete EIRELI - ME, CNPJ No: 22.414.980/0001-01, no valor unitario de R$ 21,53 por quilo\\nde refeicao; e a HOMOLOGACAO do certame', '\\nPREGAO ELETRONICO No 11/2019\\nProcesso: 00072-00001421/2019-69. Objeto: Contratacao, sob demanda, de empresa especializada em\\nesgotamento sanitario individual, para fornecimento e instalacao de sistemas individuais Reatores\\nAnaerobios biologicos, autonomos, para tratamento de efluentes domesticos, fabricado em fibra de vidro,\\ndentro das normas NBR 7.229/93 e NBR 13.969/97, sem utilizacao de energia eletrica ou qualquer produto\\nquimico adicional, por meio da acao das bacterias anaerobias presentes no esgoto, com disposicao de\\nefluentes no solo atraves de valas de infiltracao minimizando o impacto ambiental em aguas subterraneas', ' - SRP\\nPREGAO ELETRONICO No 40/2019-SSPDF\\nProcesso: 00050-00035446/2019-97. TIPO: Menor Preco. OBJETO: Registro de Precos para futura\\naquisicao de materiais para manutencao e conservacao de bens imoveis (materiais de construcao), para\\natender demandas da Secretaria de Estado de Seguranca Publica do Distrito Federal. A SSPDF informa,\\ncom fulcro no inciso IX do artigo 17, e inciso VI do Artigo 13 do Decreto no 10.024/2019, a\\nADJUDICACAO do item 175 a Flexicoat Industria e Comercio Ltda., CNPJ 00.768.990/0001-02, no\\nvalor unitario R$ 48,50; dos itens 179 e 186 a ABV Construcoes Ltda., CNPJ 01.911.452/0001-98, no\\nvalor unitario de R$ 89,50 e 57,00; do item 136 a Ellen Moallem & Cia Ltda., CNPJ 08.084.695/0001-\\n49, no valor unitario de R$ 20,00; dos itens 4, 14, 23, 24, 25, 26, 32, 59, 70, 71 e 96 a J. J. Vitalli, CNPJ\\n08.658.622/0001-13, no valor unitario de R$ 12,00, R$ 16,90, R$ 5,18, R$ 1,00, R$ 2,70, R$ 3,66, R$\\n2,50, R$ 6,27, R$ 22,00, R$ 19,50 e R$ 0,39; do item 165 a Eldorado Industria e Comercio de Tintas\\nLtda., CNPJ 09.656.722/0001-73, no valor unitario de R$ 69,90; dos itens 15, 48, 53, 150 e 151 a GFK\\nComercio e Construcao Ltda., CNPJ 10.943.754/0001-39, no valor unitario de R$ 5,50, R$ 41,80, R$\\n4,22, R$ 32,00 e R$ 23,00; do item 90 a Supermax Empreendimentos Ltda., CNPJ 10.973.149/0001-00,\\nno valor unitario de R$ 155,00; do item 102 a Eldorado Madeiras Ltda., CNPJ 11.130.573/0001-56, no\\nvalor unitario de R$ 6,80; dos itens 79, 192 e 205 a G.P.A Gerenciamento e Projetos Eireli, CNPJ\\n11.175.931/0001-47, no valor unitario de R$ 34,35, R$ 44,41 e R$ 69,47; dos itens 56, 89 e 127 a\\nMetalurgica Souza e Martins Ltda., CNPJ 14.221.952/0001-40, no valor unitario de R$ 8,60, R$ 4,41 e\\nR$ 15,68; dos itens 6, 8, 10, 11, 13, 28, 31, 38, 61, 63, 66, 68, 72, 73, 75, 84, 85, 93, 94, 95, 101, 106,\\n107, 109, 110, 113, 116, 117, 119, 120, 132, 134, 135, 138, 153, 154, 155, 162, 163, 164, 176, 178, 202\\ne 203 a AAZ Comercial Eireli, CNPJ 15.449.518/0001-84, no valor unitario de R$ 122,59, R$ 186,99, R$\\n83,99, R$ 18,75, R$ 5,98, R$ 33,37, R$ 0,13, R$ 10,00, R$ 7,92, R$ 7,80, R$ 4,18, R$ 1,53, R$ 7,56,\\nR$ 2,50, R$ 6,94, R$ 22,99, R$ 20,86, R$ 3,00, R$ 3,34, R$ 0,43, R$ 4,39, R$ 32,50, R$ 13,43, R$\\n29,49, R$ 12,50, R$ 162,48, R$ 24,28, R$ 36,98, R$ 11,30, R$ 11,70, R$ 149,49, R$ 15,40, R$ 9,05, R$\\n1,89, R$ 250,25, R$ 33,88, R$ 0,44, R$ 45,47, R$ 43,44, R$ 48,44, R$ 64,78, R$ 157,00, R$ 19,99 e R$\\n27,19; dos itens 159, 160 e 161 a T C da Silva Rosas, CNPJ 16.513.231/0001-39, no valor unitario de\\nR$ 77,90, R$ 74,10 e R$ 82,30; dos itens 81 e 82 a Art Stilo Papelaria, Livraria, Comercio e Informatica\\nEireli CNPJ 16.731.837/0001-40, no valor unitario de R$ 2,14 e R$ 2,88; dos itens 115, 145 e 147 a\\nLicitare Produtos, Materiais e Servicos Ltda., CNPJ 18.641.075/0001-17, no valor unitario de R$ 22,74,\\nR$ 3,25 e R$ 24,04; dos itens 52, 100 e 114 a Extincom do Brasil - Comercio e Manutencao de\\nExtintores e Equipamentos de Seguranca Eireli, CNPJ 19.320.823/0001-22, no valor unitario de R$ 48,50,\\nR$ 1,80 e R$ 2,49; do item 47 a N. B. Distribuidora e Importadora de Produtos e Equipam, CNPJ\\n20.425.201/0001-48, no valor unitario de R$ 100,00; do item 152 a Antonio Marques Filho & Cia Ltda.,\\nCNPJ 20.892.519/0001-39, no valor unitario de R$ 11,80; dos itens 1, 2, 27, 29, 30, 33, 35, 54, 55, 62,\\n65, 67, 69, 74, 86, 88, 103, 108, 128, 129, 130, 131, 133, 139, 140, 141, 142, 143, 149, 156, 157, 185,\\n196, 197, 198, 199, 201, 209 e 210 a Comercio de Materiais de Construcoes Cavalheiros Ltda., CNPJ\\n21.875.005/0001-38, no valor unitario de R$ 36,72, R$ 10,90, R$ 4,36, R$ 0,07, R$ 0,09, R$ 11,21, R$\\n12,60, R$ 56,11, R$ 10,70, R$ 2,80, R$ 6,12, R$ 22,40, R$ 34,00, R$ 9,35, R$ 6,11, R$ 5,20, R$ 30,00,\\nR$ 1,40, R$ 88,40, R$ 112,58, R$ ,106,54 R$ 7,90, R$ 0,72, R$ 13,38, R$ 16,80, R$ 22,00, R$ 21,88,\\nR$ 21,15, R$ 4,88, R$ 0,46, R$ 0,68, R$ 5,10, R$ 14,97, R$ 15,03, R$ 15,28, R$ 15,15, R$ 27,60,R$\\n16,80 e R$ 28,00; dos itens 18, 20, 39, 41, 42, 78, 112, 125, 171, 172, 173, 181, 182, 183, 187, 188, 189,\\n191, 195, 204, 206 e 207 a MDX Industria e Comercio de Aco Ltda., CNPJ 24.013.628/0001-90, no valor\\nunitario de R$ 28,07, R$ 27,10, R$ 119,15, 32,50, R$ 19,73, R$ 13,90, R$ 60,70, R$ 9,78, R$ 92,85, R$\\n56,08, R$ 89,92, R$ 46,90, R$ 46,15, R$ 25,14, R$ 18,14, R$ 23,48, R$ 34,34, R$ 52,10, R$ 30,36, R$\\n45,00, R$ 91,66, e R$ 41,05; do item 121 a Eletrica TI Eireli, CNPJ 25.041.538/0001-75, no valor\\nunitario de R$ 43,00; dos itens 7, 12, 57, 58, 60, 87, 91, 111, 122, 144, 146, 148, 177 e 190 a Nova\\nAtacadista para Construcao Ltda., CNPJ 26.392.294/0001-38, no valor unitario de R$ 10,50, R$ 13,17, R$\\n27,38, R$ 27,80, R$ 36,61, R$ 459,00, R$ 399,50, R$ 39,57, R$ 55,50, R$ 2,54, R$ 6,41, R$ 55,50, R$\\n37,50, e R$ 42,03; do item 168 a Cemaco Comercio de Materiais de Construcao Ltda., CNPJ\\n26.500.918/0001-93, no valor unitario de R$ 64,20; dos itens 9, 83 e 174 a Safira Comercial Eireli, CNPJ\\n26.746.569/0001-94, no valor unitario de R$ 12,50, R$ 13,70 e 8,25; dos itens 17, 50, 97, 167 e 194 a\\nFenix Materiais de Construcao Ltda., CNPJ 28.128.604/0001-37, no valor unitario de R$ 77,48, R$ 3,03,\\nR$ 0,36, R$ 20,00 e R$ 13,85; dos itens 16, 19, 22, 36, 40, 44 e 46 a N.S.S. Comercial & Construtora\\nEIRELI, CNPJ 28.634.818/0001-85, no valor unitario de R$ 51,00, R$ 12,77, R$ 38,37, R$ 19,50, R$\\n56,90, R$ 77,00 e R$ 11,79; dos itens 3, 5, 34, 64, 76, 77, 80, 92, 98, 104, 118, 124, 137, 169, 180 e\\n208 a Costa & Nascimento Comercio e Servicos Ltda., CNPJ 31.119.687/0001-02, no valor unitario de R$\\n13,00, R$ 12,80, R$ 6,57, R$ 100,00, R$ 32,50, R$ 26,49, R$ 5,38, R$ 31,50, R$ 0,49, R$ 2,86, R$ 1,82,\\nR$ 9,40, R$ 17,70, R$ 5,97, R$ 16,90 e R$ 55,50; do item 51 a Hung Chih Chen, CNPJ\\n33.531.168/0001-82, no valor unitario de R$ 21,00; do item 170 a Gabriela Bresolin, CNPJ\\n33.578.868/0001-22, no valor unitario de R$ 184,07; do item 193 a Franco & Oliveira Ltda., CNPJ\\n34.049.507/0001-51, no valor unitario de R$ 52,10; e a HOMOLOGACAO do certame. O total licitado\\nfoi de R$ 3.773.331,13. Os itens 21, 37, 43, 45, 49, 99, 105, 123, 126, 158, 166, 184 e 200\\nfracassaram', '\\nRDC No 01/2020\\nPROCESSO No SEI - 00053-00067499/2017-21/CBMDF. TIPO: Menor preco. OBJETO: Contratacao de\\nempresa de especializada para construcao do Grupamento de Protecao Ambiental (GPRAM) e 2 (duas)\\nGaragens Operacionais do CBMDF, situado na SGAN 916, Area Especial S/No - Asa Norte. O DICOA\\nNo 43, quinta-feira, 5 de marco de 2020\\nPAGINA 71\\nDiario Oficial do Distrito Federal\\nEste documento pode ser verificado no endereco eletronico h t t p : / / w w w. i n . g o v. b r / a u t e n t i c i d a d e . h t m l\\npelo codigo 50012020030500071\\nDocumento assinado digitalmente conforme MP no 2.200-2 de 24/08/2001, que institui a\\nInfraestrutura de Chaves Publicas Brasileira - ICP-Brasil', '\\nRDC No 02/2020\\nPROCESSO No SEI - 00053-00049078/2019-80/CBMDF. TIPO: Menor preco. OBJETO: Contratacao de\\nempresa especializada para reforma e ampliacao do 1o Grupamento de Bombeiro Militar - 1o\\nGBM/CBMDF, situado na - SAFN - Quadra 04 Lote 02 - Brasilia - Distrito Federal. O DICOA informa\\na ADJUDICACAO do objeto da licitacao a empresa L. D. G. CONSTRUCOES EIRELI, CNPJ:\\n33.535.242/0001-39, com o valor total de R$ 2.985.045,00; e a HOMOLOGACAO do certame com fulcro\\nno art. 28, IV, da Lei no 12.462/2011. Inf.: (61) 3901-3481', '\\nPREGAO ELETRONICO No 35/2019\\nProcesso: 00050-00035077/2019-32. Tipo: Menor Preco. Objeto: Registro de Precos para futura\\naquisicao de materiais para manutencao de bens imoveis (materiais eletricos) para as unidades\\nprisionais da Subsecretaria do Sistema Penitenciario e unidades da Secretaria de Estado da Seguranca\\nPublica. A SSPDF informa, com fulcro no inciso IX do artigo 17, e inciso VI do Artigo 13 do\\nDecreto no 10.024/2019, a ADJUDICACAO dos itens 18, 19 e 23 a AAZ Comercial Eireli, CNPJ\\n15.449.518/0001-84, no valor unitario R$ 17,71, R$ 15,30 e R$ 143,81; dos itens 12, 13, 15, 22, 37\\ne 38 a Comercio de Materiais de Construcoes Cavalheiros Ltda., CNPJ 21.875.005/0001-38, no valor\\nunitario de R$ 8,70, R$ 4,33, R$ 4,19, R$ 24,02, R$ 2,48 e R$ 3,18; do item 26 a Eficilux Comercio\\ne Servico de Equipamentos Eletricos Ltda., CNPJ 26.503.796/0001-99, no valor unitario de R$ 35,70;\\ndos itens 29, 34, 35 e 36, a VOLT Materiais Eletricos Eireli, CNPJ 26.507.653/0001-55, no valor\\nunitario de R$ 69,77, R$ 33,66, R$ 18,83 e R$ 24,83; dos itens 3, 4, 6, 7, 8, 9, 14 e 16 a ESC\\nConstrucoes e Distribuidora Eireli, CNPJ 27.323.299/0001-71, no valor unitario de R$ 11,42, R$\\n12,46, R$ 5,59, R$ 5,77, R$ 9,18, R$ 10,00, R$ 3,92 e R$ 2,24; dos itens 10, 27, 28, 30, 31, 32\\ne 33, a Costa & Nascimento Comercio e Servicos Ltda, CNPJ 31.119.687/0001-02, no valor unitario\\nde R$ 22,00, R$ 32,56, R$ 32,74, R$ 36,50, R$ 32,94, R$ 32,56 e R$ 7,50; dos itens 1, 2, 5 e 11\\na GOLED Industria e Comercio Ltda., CNPJ 32.617.419/0001-83, no valor unitario de R$ 25,00, R$\\n25,00, R$ 7,10 e R$ 15,00; dos itens 40, 41, 42 e 43, a JA Comercio Varejista e Atacadista, Servicos\\ne Distribuidora Eireli, CNPJ 33.063.052/0001-66, no valor unitario de R$ 1.095,00, R$ 393,00, R$\\n1.095,00 e R$ 393,00; e a HOMOLOGACAO do certame. O total licitado foi de R$ 559.414,46. Os\\nitens 17, 20, 21, 24 25 e 39 fracassaram', '\\nPREGAO ELETRONICO No 08/2019\\nProcesso:0072-00000904/2019-46. Objeto: Pregao Eletronico: Contratacao de empresa especializada para\\nconservacao/manutencao do Escritorio Local de VARGEM BONITA da Emater-DF, composto por servicos\\nessenciais para a manutencao do mesmo. O escritorio de VARGEM BONITA esta localizado no Setor Park\\nWay - Nucleo Bandeirante, Brasilia - DF, CEP 71750-000 e o servico tera uma area aproximada de 281,50\\nm2. A EMATER-DF informa a ADJUDICACAO e HOMOLOGACAO final do certame, com fulcro no\\nDecreto no 5.450/2005, de 31/05/2005, a empresa ENGIEX ENGENHARIA E CONSTRUTORA EIREL,\\nCNPJ 30.223.850/0001-10 no valor total de R$ 186.119,97 (Cento e oitenta e seis mil e cento e dezenove\\nreais e noventa sete centavos). Assina: LUCIANA DE ANDRADE CAMPOS - Pregoeira', '\\nPREGAO ELETRONICO No 11/2019\\nProcesso: 00072-00001421/2019-69. Objeto: Contratacao, sob demanda, de empresa \\nespecializada em esgotamento sanitario individual, para fornecimento e instalacao de \\nsistemas individuais Reatores Anaerobios biologicos, autonomos, para tratamento de \\nefluentes domesticos, fabricado em fibra de vidro, dentro das normas NBR 7.229/93 e \\nNBR 13.969/97, sem utilizacao de energia eletrica ou qualquer produto quimico \\nadicional, por meio da acao das bacterias anaerobias presentes no esgoto, com \\ndisposicao de efluentes no solo atraves de valas de infiltracao minimizando o impacto \\nambiental em aguas subterraneas. A EMATER-DF informa a ADJUDICACAO e \\nHOMOLOGACAO final do certame, com fulcro no Decreto no 5.450/2005, de \\n31/05/2005. Item I  SETE  SISTEMA ECOLOGICO DE TRATAMENTO DE \\nESGOTO EIRELI, CNPJ 11.755.081/001-56, no valor total de R$ 594.000,00 \\n(quinhentos e noventa e quatro mil reais)', '\\nPREGAO ELETRONICO No 34/2019-SSP\\nCom participacao exclusiva das ME/MEI/EPPs\\nProcesso: 00050-00025796/2019-45. TIPO: Menor Preco. OBJETO: Aquisicao de \\npulpitos com a logomarca e sigla da Secretaria de Estado de Seguranca Publica do Distrito \\nFederal, visando atender as demandas de eventos, palestras, seminarios, cursos e reunioes, \\npatrocinadas pelo Gabinete, Subsecretarias e CIOB, todos pertencentes a estrutura \\nadministrativa da SSP/DF, bem como aquisicao de maquinas de cortar cabelo, tipo \\nprofissional, para atender demanda dos reclusos do Sistema Prisional do Distrito Federal - \\nSESIPE. A SSPDF informa, com fulcro no inciso IV e VI do artigo 13 do Decreto no \\n10.024/2019, a ADJUDICACAO do item 1 a M.L Comercio e Servico Eirelli-EPP, CNPJ \\n21.323.689/0001-65, no valor total de R$ 6.795,00; e a HOMOLOGACAO do certame. A \\nSSPDF informa ainda que o item 2 restou fracassado', '\\nRDC No 05/2020\\nProcesso: 00053-00094716/2019-17/CBMDF. TIPO: Menor preco. OBJETO: Contratacao \\nde empresa especializada para construcao do Canil Militar do Grupamento de Busca e \\nSalvamento (GBSAL) do CBMDF. O DICOA informa a ADJUDICACAO do objeto da \\nlicitacao a empresa SANTOS ENGENHARIA E SERVICOS EIRELI, CNPJ: \\n11.064.583/0001-30, com o valor total de R$ 930.000,00 e a HOMOLOGACAO do \\ncertame com fulcro no art. 28, IV, da Lei no 12.462/2011. Inf.: (61) 3901-3481', '\\nPREGAO ELETRONICO No 02/2020\\nProcesso: 00050-00008415/2019-63. TIPO: Menor Preco. OBJETO: Registro de precos \\npara futura aquisicao de medicamentos nao fornecidos pela Secretaria de Estado de Saude \\npara os internos, conforme Portaria Conjunta no 01, de 23 de fevereiro de 2010 SSP/SES, \\nvisando atender demanda da Subsecretaria do Sistema Penitenciario da Secretaria de \\nEstado de Seguranca Publica do Distrito Federal. A SSPDF informa, com fulcro no inciso \\nIX do artigo 17, e inciso VI do Artigo 13 do Decreto no 10.024/2019, a ADJUDICACAO \\ndos itens 3, 9, 17, 26, 31, 35, 56, 63, 65, 75, 79, 84, 87 e 95 a Distribuidora De \\nMedicamentos Backes Eireli, CNPJ 25.279.552/0001-01, no valor unitario de R$ 2,94, R$ \\n0,06, R$ 0,18, R$ 5,96, R$ 0,28, R$2,00, R$ 0,03, R$ 2,78, R$ 0,22, R$ 0,11, R$ 0,48, R$ \\n7,24, R$ 2,90 e R$ 2,45; do item 5, 83 e 94 a Semear Distribuidora Eireli, CNPJ \\n10.269.296/0001-02, no valor unitario de R$ 0,05, R$ 2,57 e R$ 0,09; dos itens 7, 18, 28, \\n67, 68 e 114 a Unique Distribuidora De Medicamentos Eireli, CNPJ 23.864.942/0001-13, \\nno valor unitario de R$ 1,00, R$ 13,00, R$ 9,78, R$ 25,50, R$ 25,90 e R$ 0,48; dos itens \\n117 e 118 a M Med Comercial De Medicamentos E Produtos Hospitalares Eirelli, CNPJ \\n28.387.424/0001-70, no valor unitario de R$ 0,76 e R$ 0,30; dos itens 12, 20, 53, 58, 59 e \\n60 a Med Vitta Comercio De Produtos Hospitalares Ltda, CNPJ 28.418.133/0001-00, no \\nvalor unitario de R$ 0,26, R$ 0,26, R$ 0,13, R$ 9,50, R$ 0,26, R$ 1,34; do item 14 a \\nCosta Camargo Comercio De Produtos Hospitalares Ltda, CNPJ 36.325.157/0001-34, no \\nvalor unitario de R$ 24,50; e a HOMOLOGACAO do certame. O total licitado foi de R$ \\n364.712,40. Os itens 2, 4, 6, 8, 10, 11, 13, 15, 16, 19, 21, 22, 23, 24, 25, 27, 29, 30, 32, 33, \\n34, 36, 37, 38, 39, 40, 41, 42, 43, 44, 45, 46, 47, 48, 49, 50, 51, 52, 54, 55, 57, 61, 62, 66, \\n69, 70, 71, 73, 74, 76, 78, 80, 81, 82, 85, 86, 88, 89, 90, 91, 92, 93, 96, 99, 100, 101, 102, \\n103, 105, 106, 107, 108, 109, 110, 111, 112, 113, 116 e 119 fracassaram. Os itens 01, 64, \\n72, 77, 97, 98, 104, 115 e 120 restaram desertos', '\\nPREGAO ELETRONICO No 04/2020\\nProcesso: 00050-00063790/2019-76. TIPO: Menor Preco. Modo de disputa: Aberto. \\nOBJETO: Contratacao de empresa especializada para prestacao de servico comum de \\nmanutencao preventiva e limpeza da piscina localizada na Residencia Oficial de Aguas \\nClaras, pertencente a Secretaria de Estado de Seguranca Publica do Distrito Federal. A \\nSSPDF informa, com fulcro nos incisos V e VI do Artigo 13 do Decreto no 10.024/2019, a \\nADJUDICACAO do objeto a Piscinas Motta Ltda., CNPJ 00.611.418/0001-35, no valor \\ntotal para 30 meses de R$ 26.970,00; e a HOMOLOGACAO do certame', '  SRP\\nPREGAO ELETRONICO No 20/2020\\nProcesso: 00050-00035077/2019-32. TIPO: Menor Preco. OBJETO: Registro de Precos \\npara futura aquisicao de materiais para manutencao de bens imoveis (materiais eletricos) \\npara as unidades prisionais da Subsecretaria do Sistema Penitenciario e unidades da \\nSecretaria de Estado da Seguranca Publica. A SSPDF informa, com fulcro no inciso IX do \\nartigo 17, e inciso VI do Artigo 13 do Decreto no 10.024/2019, a ADJUDICACAO do \\nitem 5 a AAZ Comercial Eireli, CNPJ 15.449.518/0001-84, no valor unitario R$ 187,50; \\ndo item 4, Eletrica TI EIRELI, CNPJ 25.041.538/0001-75, no valor unitario de R$ 475,00; \\ndos itens 2, 3 e 6 a FENIX Materiais de Construcao Ltda., CNPJ 28.128.604/0001-37, no \\nvalor unitario de R$ 6,50, R$ 0,90 e R$ 11,95; e a HOMOLOGACAO do certame. O total \\nlicitado foi de R$ 11.879,40. O item 1 fracassou', '\\nPREGAO ELETRONICO No 22/2020\\nProcesso: 00050-00017677/2020-52. TIPO: Menor Preco. Modo de disputa: Aberto. \\nOBJETO: Aquisicao de bens de consumo, Dispenser para alcool em gel, Refil de alcool \\nem gel, Mascara descartavel, Luvas de latex, Termometro Digital, Sabao liquido, Oculos \\nde protecao, visando atender demanda da Secretaria de Estado de Seguranca Publica do \\nDistrito Federal, no combate a Pandemia do Coronavirus. A SSPDF informa, com fulcro \\nno inciso IX do artigo 17, e inciso VI do Artigo 13 do Decreto no 10.024/2019, a \\nADJUDICACAO do item 7 a Chrispim Nedi Carrilho Eireli, CNPJ 01.402.400/0001-96, \\nno valor total R$ 200,00; dos itens 4, 5 e 6, AAZ Comercial Eireli, CNPJ \\n15.449.518/0001-84, no valor total de R$ 176.265,36; dos itens 1 e 2 a Fenix Materiais de \\nConstrucao Ltda., CNPJ 28.128.604/0001-37, no valor total de R$ 71.022,96; do item 8 a \\nAlex Finimundo, CNPJ 36.030.048/0001-90, no valor total de R$ 2.310,00; do item 9 a \\nDefenser Militar Aventura e Outdoor Comercio de Equipamentos e Artigos de Seguranca \\nEireli, CNPJ 36.596.714/0001-51, no valor total de R$ 3.900,00; e a HOMOLOGACAO \\ndo certame. O total licitado foi de R$ 253.698,32. O item 3 fracassou']\n"
     ]
    }
   ],
   "source": [
    "print(all_contracts)"
   ]
  },
  {
   "cell_type": "code",
   "execution_count": 206,
   "metadata": {},
   "outputs": [],
   "source": [
    "regex_dict = {\n",
    "  'processo': 'PROCESSO[\\s\\S]*(\\d{5}[\\.|\\-]\\d{8}/\\d{4}-\\d{2})',\n",
    "  'tipo': 'TIPO[:]?([\\s\\S]*?)\\.',\n",
    "  'objeto': 'OBJETO[\\s\\S]*?:?([\\s\\S]*?)\\.',\n",
    "  # 'licitante_vencedor': '',\n",
    "  'CNPJ': 'CNPJ[\\s\\S]*(\\d{2}.\\d{3}.\\d{3}/\\d{4}-\\d{2})',\n",
    "  'valor': 'no valor[\\s\\S]*?(\\d+(?:\\.\\d+)*,\\d\\d)',\n",
    "  'valor_total': '[total licitado|totalizando](\\d+(?:\\.\\d+)*,\\d\\d)',\n",
    "  'modo_disputa': 'Modo de disputa[:]?([\\s\\S]*?)\\.',              \n",
    "}\n",
    "\n",
    "df_dict = {\n",
    "    'processo': [],\n",
    "    'tipo': [],\n",
    "    'objeto': [],\n",
    "    # 'licitante_vencedor': [],\n",
    "    'CNPJ': [],\n",
    "    'valor': [],\n",
    "    'valor_total': [],\n",
    "    'modo_disputa': [],\n",
    "    'texto': [],   \n",
    "}"
   ]
  },
  {
   "cell_type": "code",
   "execution_count": 207,
   "metadata": {},
   "outputs": [],
   "source": [
    "for contract in all_contracts:\n",
    "    df_dict['texto'].append(contract)\n",
    "    for field in regex_dict:\n",
    "        match = re.search(regex_dict[field], contract, re.IGNORECASE)\n",
    "        if match:\n",
    "            res = tuple(x for x in match.groups() if x is not None)\n",
    "            df_dict[field].append(res[0])\n",
    "        else:\n",
    "            df_dict[field].append(np.nan)\n",
    "\n",
    "df = pd.DataFrame.from_dict(df_dict)\n",
    "df.to_csv('adjudicacao_regex.csv')"
   ]
  },
  {
   "cell_type": "code",
   "execution_count": 209,
   "metadata": {},
   "outputs": [
    {
     "output_type": "execute_result",
     "data": {
      "text/plain": [
       "     Unnamed: 0                processo          tipo  \\\n",
       "0             0  00097-00003259/2018-27   Menor Preco   \n",
       "1             1                     NaN   Menor Preco   \n",
       "2             2                     NaN   Menor Preco   \n",
       "3             3  00097-00001909/2018-08   Menor Preco   \n",
       "4             4  00097-00006864/2018-50   Menor Preco   \n",
       "..          ...                     ...           ...   \n",
       "106         106  00053-00094716/2019-17   Menor preco   \n",
       "107         107  00050-00008415/2019-63   Menor Preco   \n",
       "108         108  00050-00063790/2019-76   Menor Preco   \n",
       "109         109  00050-00035077/2019-32   Menor Preco   \n",
       "110         110  00050-00017677/2020-52   Menor Preco   \n",
       "\n",
       "                                                objeto                CNPJ  \\\n",
       "0                                                  NaN  08.012.469/0001-52   \n",
       "1                                                  NaN  92.863.505/0001-06   \n",
       "2                                                  NaN  51.832.889/0001-57   \n",
       "3                                                  NaN  72.649.361/0001-74   \n",
       "4                                                  NaN  10.336.598/0001-48   \n",
       "..                                                 ...                 ...   \n",
       "106   Contratacao \\nde empresa especializada para c...  11.064.583/0001-30   \n",
       "107   Registro de precos \\npara futura aquisicao de...  36.325.157/0001-34   \n",
       "108   Contratacao de empresa especializada para pre...  00.611.418/0001-35   \n",
       "109   Registro de Precos \\npara futura aquisicao de...  28.128.604/0001-37   \n",
       "110   Aquisicao de bens de consumo, Dispenser para ...  36.596.714/0001-51   \n",
       "\n",
       "          valor valor_total modo_disputa  \\\n",
       "0    121.500,00         NaN          NaN   \n",
       "1    210.540,00         NaN          NaN   \n",
       "2    200.100,00         NaN          NaN   \n",
       "3     42.023,90         NaN          NaN   \n",
       "4      7.468,47         NaN          NaN   \n",
       "..          ...         ...          ...   \n",
       "106         NaN  930.000,00          NaN   \n",
       "107        2,94        2,94          NaN   \n",
       "108   26.970,00   26.970,00       Aberto   \n",
       "109      187,50      187,50          NaN   \n",
       "110      200,00      200,00       Aberto   \n",
       "\n",
       "                                                 texto  \n",
       "0    \\nPREGAO ELETRONICO No 21/2018-METRO-DF,\\nOCOR...  \n",
       "1    \\nPREGAO ELETRONICO No 23/2018-METRO-DF, OCORR...  \n",
       "2    \\nPREGAO ELETRONICO No 17/2018-METRO-DF,\\nOCOR...  \n",
       "3    \\nPREGAO ELETRONICO No 27/2018-METRO-DF,\\nOCOR...  \n",
       "4    \\nPREGAO ELETRONICO No 24/2018-METRO-DF,\\nOCOR...  \n",
       "..                                                 ...  \n",
       "106  \\nRDC No 05/2020\\nProcesso: 00053-00094716/201...  \n",
       "107  \\nPREGAO ELETRONICO No 02/2020\\nProcesso: 0005...  \n",
       "108  \\nPREGAO ELETRONICO No 04/2020\\nProcesso: 0005...  \n",
       "109    SRP\\nPREGAO ELETRONICO No 20/2020\\nProcesso:...  \n",
       "110  \\nPREGAO ELETRONICO No 22/2020\\nProcesso: 0005...  \n",
       "\n",
       "[111 rows x 9 columns]"
      ],
      "text/html": "<div>\n<style scoped>\n    .dataframe tbody tr th:only-of-type {\n        vertical-align: middle;\n    }\n\n    .dataframe tbody tr th {\n        vertical-align: top;\n    }\n\n    .dataframe thead th {\n        text-align: right;\n    }\n</style>\n<table border=\"1\" class=\"dataframe\">\n  <thead>\n    <tr style=\"text-align: right;\">\n      <th></th>\n      <th>Unnamed: 0</th>\n      <th>processo</th>\n      <th>tipo</th>\n      <th>objeto</th>\n      <th>CNPJ</th>\n      <th>valor</th>\n      <th>valor_total</th>\n      <th>modo_disputa</th>\n      <th>texto</th>\n    </tr>\n  </thead>\n  <tbody>\n    <tr>\n      <th>0</th>\n      <td>0</td>\n      <td>00097-00003259/2018-27</td>\n      <td>Menor Preco</td>\n      <td>NaN</td>\n      <td>08.012.469/0001-52</td>\n      <td>121.500,00</td>\n      <td>NaN</td>\n      <td>NaN</td>\n      <td>\\nPREGAO ELETRONICO No 21/2018-METRO-DF,\\nOCOR...</td>\n    </tr>\n    <tr>\n      <th>1</th>\n      <td>1</td>\n      <td>NaN</td>\n      <td>Menor Preco</td>\n      <td>NaN</td>\n      <td>92.863.505/0001-06</td>\n      <td>210.540,00</td>\n      <td>NaN</td>\n      <td>NaN</td>\n      <td>\\nPREGAO ELETRONICO No 23/2018-METRO-DF, OCORR...</td>\n    </tr>\n    <tr>\n      <th>2</th>\n      <td>2</td>\n      <td>NaN</td>\n      <td>Menor Preco</td>\n      <td>NaN</td>\n      <td>51.832.889/0001-57</td>\n      <td>200.100,00</td>\n      <td>NaN</td>\n      <td>NaN</td>\n      <td>\\nPREGAO ELETRONICO No 17/2018-METRO-DF,\\nOCOR...</td>\n    </tr>\n    <tr>\n      <th>3</th>\n      <td>3</td>\n      <td>00097-00001909/2018-08</td>\n      <td>Menor Preco</td>\n      <td>NaN</td>\n      <td>72.649.361/0001-74</td>\n      <td>42.023,90</td>\n      <td>NaN</td>\n      <td>NaN</td>\n      <td>\\nPREGAO ELETRONICO No 27/2018-METRO-DF,\\nOCOR...</td>\n    </tr>\n    <tr>\n      <th>4</th>\n      <td>4</td>\n      <td>00097-00006864/2018-50</td>\n      <td>Menor Preco</td>\n      <td>NaN</td>\n      <td>10.336.598/0001-48</td>\n      <td>7.468,47</td>\n      <td>NaN</td>\n      <td>NaN</td>\n      <td>\\nPREGAO ELETRONICO No 24/2018-METRO-DF,\\nOCOR...</td>\n    </tr>\n    <tr>\n      <th>...</th>\n      <td>...</td>\n      <td>...</td>\n      <td>...</td>\n      <td>...</td>\n      <td>...</td>\n      <td>...</td>\n      <td>...</td>\n      <td>...</td>\n      <td>...</td>\n    </tr>\n    <tr>\n      <th>106</th>\n      <td>106</td>\n      <td>00053-00094716/2019-17</td>\n      <td>Menor preco</td>\n      <td>Contratacao \\nde empresa especializada para c...</td>\n      <td>11.064.583/0001-30</td>\n      <td>NaN</td>\n      <td>930.000,00</td>\n      <td>NaN</td>\n      <td>\\nRDC No 05/2020\\nProcesso: 00053-00094716/201...</td>\n    </tr>\n    <tr>\n      <th>107</th>\n      <td>107</td>\n      <td>00050-00008415/2019-63</td>\n      <td>Menor Preco</td>\n      <td>Registro de precos \\npara futura aquisicao de...</td>\n      <td>36.325.157/0001-34</td>\n      <td>2,94</td>\n      <td>2,94</td>\n      <td>NaN</td>\n      <td>\\nPREGAO ELETRONICO No 02/2020\\nProcesso: 0005...</td>\n    </tr>\n    <tr>\n      <th>108</th>\n      <td>108</td>\n      <td>00050-00063790/2019-76</td>\n      <td>Menor Preco</td>\n      <td>Contratacao de empresa especializada para pre...</td>\n      <td>00.611.418/0001-35</td>\n      <td>26.970,00</td>\n      <td>26.970,00</td>\n      <td>Aberto</td>\n      <td>\\nPREGAO ELETRONICO No 04/2020\\nProcesso: 0005...</td>\n    </tr>\n    <tr>\n      <th>109</th>\n      <td>109</td>\n      <td>00050-00035077/2019-32</td>\n      <td>Menor Preco</td>\n      <td>Registro de Precos \\npara futura aquisicao de...</td>\n      <td>28.128.604/0001-37</td>\n      <td>187,50</td>\n      <td>187,50</td>\n      <td>NaN</td>\n      <td>SRP\\nPREGAO ELETRONICO No 20/2020\\nProcesso:...</td>\n    </tr>\n    <tr>\n      <th>110</th>\n      <td>110</td>\n      <td>00050-00017677/2020-52</td>\n      <td>Menor Preco</td>\n      <td>Aquisicao de bens de consumo, Dispenser para ...</td>\n      <td>36.596.714/0001-51</td>\n      <td>200,00</td>\n      <td>200,00</td>\n      <td>Aberto</td>\n      <td>\\nPREGAO ELETRONICO No 22/2020\\nProcesso: 0005...</td>\n    </tr>\n  </tbody>\n</table>\n<p>111 rows × 9 columns</p>\n</div>"
     },
     "metadata": {},
     "execution_count": 209
    }
   ],
   "source": [
    "dados_adjudicacao = pd.read_csv('adjudicacao_regex.csv')\n",
    "dados_adjudicacao"
   ]
  },
  {
   "cell_type": "code",
   "execution_count": 210,
   "metadata": {},
   "outputs": [
    {
     "output_type": "execute_result",
     "data": {
      "text/plain": [
       "Unnamed: 0        0\n",
       "processo         28\n",
       "tipo             29\n",
       "objeto           30\n",
       "CNPJ             20\n",
       "valor            44\n",
       "valor_total      32\n",
       "modo_disputa    109\n",
       "texto             0\n",
       "dtype: int64"
      ]
     },
     "metadata": {},
     "execution_count": 210
    }
   ],
   "source": [
    "dados_adjudicacao.isnull().sum()"
   ]
  }
 ]
}