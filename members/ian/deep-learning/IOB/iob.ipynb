{
 "cells": [
  {
   "cell_type": "code",
   "execution_count": 118,
   "metadata": {},
   "outputs": [],
   "source": [
    "import pandas as pd\n",
    "import nltk\n",
    "from nltk.tokenize import word_tokenize\n",
    "import numpy as np\n",
    "import os\n",
    "import re\n",
    "from typing import List, Tuple, Dict, Union\n",
    "from typing import Iterable as Iter\n",
    "from typing import Callable\n",
    "from sklearn.base import BaseEstimator, TransformerMixin"
   ]
  },
  {
   "cell_type": "code",
   "execution_count": 119,
   "metadata": {},
   "outputs": [
    {
     "data": {
      "text/html": [
       "<div>\n",
       "<style scoped>\n",
       "    .dataframe tbody tr th:only-of-type {\n",
       "        vertical-align: middle;\n",
       "    }\n",
       "\n",
       "    .dataframe tbody tr th {\n",
       "        vertical-align: top;\n",
       "    }\n",
       "\n",
       "    .dataframe thead th {\n",
       "        text-align: right;\n",
       "    }\n",
       "</style>\n",
       "<table border=\"1\" class=\"dataframe\">\n",
       "  <thead>\n",
       "    <tr style=\"text-align: right;\">\n",
       "      <th></th>\n",
       "      <th>ORGAO_LICITANTE</th>\n",
       "      <th>NUM_LICITACAO</th>\n",
       "      <th>OBJ_LICITACAO</th>\n",
       "      <th>MODALIDADE_LICITACAO</th>\n",
       "      <th>PROCESSO</th>\n",
       "      <th>DATA_ABERTURA</th>\n",
       "      <th>VALOR_ESTIMADO</th>\n",
       "      <th>CODIGO_SISTEMA_COMPRAS</th>\n",
       "      <th>SISTEMA_COMPRAS</th>\n",
       "      <th>NOME_RESPONSAVEL</th>\n",
       "      <th>treated_text</th>\n",
       "      <th>IOB</th>\n",
       "    </tr>\n",
       "  </thead>\n",
       "  <tbody>\n",
       "    <tr>\n",
       "      <th>0</th>\n",
       "      <td>None</td>\n",
       "      <td>214/2020</td>\n",
       "      <td>Aquisição de cabos elétricos especiais e ótico...</td>\n",
       "      <td>PREGÃO ELETRÔNICO</td>\n",
       "      <td>092.04570/2020</td>\n",
       "      <td>10/11/2020</td>\n",
       "      <td>None</td>\n",
       "      <td>974200</td>\n",
       "      <td>www.comprasnet.gov.br</td>\n",
       "      <td>None</td>\n",
       "      <td>AVISO DE LICITAÇÃO PREGÃO ELETRÔNICO PE Nº 214...</td>\n",
       "      <td>O O O B-MODALIDADE_LICITACAO I-MODALIDADE_LICI...</td>\n",
       "    </tr>\n",
       "    <tr>\n",
       "      <th>1</th>\n",
       "      <td>None</td>\n",
       "      <td>208/2020</td>\n",
       "      <td>Aquisição de conjuntos motobomba do tipo subme...</td>\n",
       "      <td>PREGÃO ELETRÔNICO</td>\n",
       "      <td>092.017888/2020</td>\n",
       "      <td>10/11/2020</td>\n",
       "      <td>None</td>\n",
       "      <td>974200</td>\n",
       "      <td>www.comprasnet.gov.br</td>\n",
       "      <td>None</td>\n",
       "      <td>AVISO DE LICITAÇÃO PREGÃO ELETRÔNICO PE Nº 208...</td>\n",
       "      <td>O O O B-MODALIDADE_LICITACAO I-MODALIDADE_LICI...</td>\n",
       "    </tr>\n",
       "  </tbody>\n",
       "</table>\n",
       "</div>"
      ],
      "text/plain": [
       "  ORGAO_LICITANTE NUM_LICITACAO  \\\n",
       "0            None      214/2020   \n",
       "1            None      208/2020   \n",
       "\n",
       "                                       OBJ_LICITACAO MODALIDADE_LICITACAO  \\\n",
       "0  Aquisição de cabos elétricos especiais e ótico...    PREGÃO ELETRÔNICO   \n",
       "1  Aquisição de conjuntos motobomba do tipo subme...    PREGÃO ELETRÔNICO   \n",
       "\n",
       "          PROCESSO DATA_ABERTURA VALOR_ESTIMADO CODIGO_SISTEMA_COMPRAS  \\\n",
       "0   092.04570/2020    10/11/2020           None                 974200   \n",
       "1  092.017888/2020    10/11/2020           None                 974200   \n",
       "\n",
       "         SISTEMA_COMPRAS NOME_RESPONSAVEL  \\\n",
       "0  www.comprasnet.gov.br             None   \n",
       "1  www.comprasnet.gov.br             None   \n",
       "\n",
       "                                        treated_text  \\\n",
       "0  AVISO DE LICITAÇÃO PREGÃO ELETRÔNICO PE Nº 214...   \n",
       "1  AVISO DE LICITAÇÃO PREGÃO ELETRÔNICO PE Nº 208...   \n",
       "\n",
       "                                                 IOB  \n",
       "0  O O O B-MODALIDADE_LICITACAO I-MODALIDADE_LICI...  \n",
       "1  O O O B-MODALIDADE_LICITACAO I-MODALIDADE_LICI...  "
      ]
     },
     "execution_count": 119,
     "metadata": {},
     "output_type": "execute_result"
    }
   ],
   "source": [
    "df = pd.read_parquet('')\n",
    "df.head(2)"
   ]
  },
  {
   "cell_type": "code",
   "execution_count": 120,
   "metadata": {},
   "outputs": [],
   "source": [
    "from nltk.tokenize import word_tokenize"
   ]
  },
  {
   "cell_type": "code",
   "execution_count": 121,
   "metadata": {},
   "outputs": [],
   "source": [
    "DEFAULT_TOKENIZER = nltk.RegexpTokenizer(r\"\\w+\").tokenize\n",
    "class Tokenizer(TransformerMixin, BaseEstimator):\n",
    "    \"\"\" Class to apply tokenizer to pandas DataFrame.\n",
    "    \"\"\"\n",
    "    def __init__(self, tokenizer=DEFAULT_TOKENIZER):\n",
    "        self.tokenizer = tokenizer\n",
    "\n",
    "\n",
    "    def __call__(self, X, **kw_params):\n",
    "        return self.tokenizer(X, **kw_params)\n",
    "\n",
    "\n",
    "    def fit(self, X, y=None, **fit_params):\n",
    "        return self\n",
    "\n",
    "\n",
    "    def transform(self, X, **kw_params):\n",
    "        if not isinstance(X, pd.Series):\n",
    "            print(\"[preprocess.Tokenizer.transform] TYPE:\", type(X))\n",
    "            print('X:::: ', X)\n",
    "            X = pd.Series(X)\n",
    "        return X.map(self)\n",
    "\n",
    "\n",
    "from sklearn.base import BaseEstimator, TransformerMixin\n",
    "\n",
    "class IOBifyer(TransformerMixin, BaseEstimator):\n",
    "\n",
    "\n",
    "    @staticmethod\n",
    "    def find_entity(row, token, ignore_idx=0,\n",
    "        tokenizer=DEFAULT_TOKENIZER):\n",
    "        # TODO: aceitar opção de offset, para não ter tennhum tipo de problema\n",
    "        \"\"\"Searches for named entities on columns, except by ignore_idx-columns.\n",
    "\n",
    "        ignore_idx: int indicating which column has\n",
    "                    the TEXT where the named entity were extracted from\n",
    "        \"\"\"\n",
    "        for idx, column in enumerate(row.keys()):\n",
    "            if idx == ignore_idx:\n",
    "                continue\n",
    "            if isinstance(row[column], str) and \\\n",
    "                token == word_tokenize(row[column])[0]:\n",
    "                return column\n",
    "\n",
    "        return None\n",
    "\n",
    "\n",
    "    @staticmethod\n",
    "    def generate_IOB_labels(row, idx, tokenizer, dbg={}):\n",
    "        \"\"\"[summary]\n",
    "\n",
    "        Args:\n",
    "            row ([pd.Series]): [pandas series having act text and entities text]\n",
    "            idx ([int]): [index such that `row[idx]` has the whole act]\n",
    "            tokenizer ([Callable]): [function to use to tokenize `row[idx]`]\n",
    "            dbg (dict, optional): [dictionay for debug purposes]. Defaults to {}.\n",
    "\n",
    "        Returns:\n",
    "            [Iter[Iter[str]]]: [matrix of IOB labels]\n",
    "        \"\"\"\n",
    "        labels = []\n",
    "        entity_started = False\n",
    "        text = row.iloc[idx]\n",
    "        for token in word_tokenize(text):                         # Itera sobre cada token da anotação do ato.\n",
    "            if not entity_started:                               # Caso uma entidade ainda n tenha sido identificada nos tokens.\n",
    "                entity = IOBifyer.find_entity(row, token, idx)                 # Busca o token atual no primeiro token de todos os campos do df.\n",
    "                if entity is not None:                           # Se foi encontrado o token no inicio de alguma entidade ele inicia a comparação token a token com a entidade.\n",
    "                    entity_started = True\n",
    "                    token_index = 1\n",
    "                    labels.append('B-' + entity)\n",
    "                else:\n",
    "                    labels.append('O')\n",
    "            else:     # Caso uma entidade já tenha sido identificada\n",
    "                if token_index < len(word_tokenize(row[entity])) and \\\n",
    "                    token == word_tokenize(row[entity])[token_index]:\n",
    "                    # Checa se o próximo token pertence à entidade\n",
    "                    # e se o tamanho da entidade chegou ao fim.\n",
    "                    labels.append('I-' + entity)\n",
    "                    # Se a entidade ainda possui tokens e a comparação foi bem\n",
    "                    # sucedida adicione o label I.\n",
    "                    token_index += 1\n",
    "                    if token_index >= len(word_tokenize(row[entity])):\n",
    "                        entity_started = False\n",
    "                else:\n",
    "                    # Se o token n for igual ou a entidade chegou ao fim.\n",
    "                    entity_started = False\n",
    "                    labels.append('O')\n",
    "        if labels[0] != 'O':\n",
    "            dbg['l'] = dbg.get('l', []) + [(row, idx)]\n",
    "\n",
    "        return labels\n",
    "\n",
    "\n",
    "    @staticmethod\n",
    "    def dump_iob(tokens_mat, labels_mat, path='dump.txt',\n",
    "                            sep=' X X ', sent_sep='\\n',):\n",
    "        \"\"\"This method dumps the token matrix according its IOB labels.\n",
    "\n",
    "        For debug purposes, a list of list of pairs (token, label) is returned.\n",
    "        Args:\n",
    "            tokens_mat ([Iter[Iter[str]]]): [matrix of strings corresponding to tokens]\n",
    "            labels_mat ([Iter[Iter[str]]]): [matrix of strings corresponding to IOB labels]\n",
    "            path (str, optional): [Path to dump text file]. Defaults to 'dump.txt'.\n",
    "            sep (str, optional): [description]. Defaults to ' X X '.\n",
    "            sent_sep (str, optional): [description]. Defaults to '\\n'.\n",
    "\n",
    "        Returns:\n",
    "            [List[LIst[Tuple(str, str)]]]: [list of list of pairs (token, label), as dumped. For debug purposes.]\n",
    "        \"\"\"\n",
    "        dbg_mat = []\n",
    "        if isinstance(path, Path):\n",
    "            path = path.as_posix()\n",
    "        if '/' in path:\n",
    "            os.makedirs('/'.join(path.split('/')[:-1]), exist_ok=True)\n",
    "\n",
    "        with open(path, 'w') as fp:\n",
    "            for tokens_lis, labels_lis in zip(tokens_mat, labels_mat):\n",
    "                dbg_mat.append([])\n",
    "                for token, label in zip(tokens_lis, labels_lis):\n",
    "                    dbg_mat[-1].append((token, label))\n",
    "                    fp.write(f\"{token}{sep}{label}\\n\")\n",
    "                fp.write(sent_sep)\n",
    "        return dbg_mat\n",
    "\n",
    "\n",
    "    def __init__(self, column='act_column',\n",
    "        tokenizer=DEFAULT_TOKENIZER):\n",
    "        self.column = column\n",
    "        self.tokenizer = tokenizer\n",
    "        self.dbg = {}\n",
    "\n",
    "\n",
    "    def fit(self, X=None, y=None, **fit_params):\n",
    "        return self\n",
    "\n",
    "\n",
    "    def transform(self, df):\n",
    "        if not isinstance(df, pd.DataFrame):\n",
    "            raise TypeError(f\"`df` expected to be a pd.DataFrame. Got {type(df)}\")\n",
    "        if df.empty:\n",
    "            print(\"[core.preprocess]Warning: empty DataFrame. There won't be ioblabels.\")\n",
    "            return pd.Series()\n",
    "\n",
    "        idx = self.column if isinstance(self.column, int) else  \\\n",
    "                df.columns.get_loc(self.column)\n",
    "        labels_row = []\n",
    "        for index, row in df.iterrows():\n",
    "            try:\n",
    "                labels_row.append(\n",
    "                    IOBifyer.generate_IOB_labels(\n",
    "                        row, idx, self.tokenizer, self.dbg\n",
    "                    )\n",
    "                )\n",
    "            except Exception as e:\n",
    "                print(\"problem iobifyin row:\", row)\n",
    "                raise e\n",
    "        return pd.Series(labels_row)\n"
   ]
  },
  {
   "cell_type": "code",
   "execution_count": 122,
   "metadata": {},
   "outputs": [],
   "source": [
    "iob = IOBifyer(column='treated_text')\n",
    "r = iob.transform(df)"
   ]
  },
  {
   "cell_type": "code",
   "execution_count": 123,
   "metadata": {},
   "outputs": [
    {
     "data": {
      "text/plain": [
       "0     [O, O, O, B-MODALIDADE_LICITACAO, I-MODALIDADE...\n",
       "1     [O, O, O, B-MODALIDADE_LICITACAO, I-MODALIDADE...\n",
       "2     [O, O, O, O, O, O, O, B-MODALIDADE_LICITACAO, ...\n",
       "3     [O, O, O, B-MODALIDADE_LICITACAO, I-MODALIDADE...\n",
       "4     [B-MODALIDADE_LICITACAO, I-MODALIDADE_LICITACA...\n",
       "                            ...                        \n",
       "61    [O, O, O, O, O, O, O, O, O, O, O, O, O, B-ORGA...\n",
       "62    [B-MODALIDADE_LICITACAO, I-MODALIDADE_LICITACA...\n",
       "63    [O, O, O, O, O, O, O, O, O, O, O, O, O, O, O, ...\n",
       "64    [O, O, O, O, O, B-MODALIDADE_LICITACAO, I-MODA...\n",
       "65    [B-MODALIDADE_LICITACAO, I-MODALIDADE_LICITACA...\n",
       "Length: 66, dtype: object"
      ]
     },
     "execution_count": 123,
     "metadata": {},
     "output_type": "execute_result"
    }
   ],
   "source": [
    "r"
   ]
  },
  {
   "cell_type": "code",
   "execution_count": 124,
   "metadata": {},
   "outputs": [
    {
     "data": {
      "text/plain": [
       "((66, 12), (66,))"
      ]
     },
     "execution_count": 124,
     "metadata": {},
     "output_type": "execute_result"
    }
   ],
   "source": [
    "df.shape, r.shape"
   ]
  },
  {
   "cell_type": "code",
   "execution_count": 125,
   "metadata": {},
   "outputs": [],
   "source": [
    "df[\"IOB\"] = np.nan"
   ]
  },
  {
   "cell_type": "code",
   "execution_count": 126,
   "metadata": {},
   "outputs": [],
   "source": [
    "for i in range(len(df)):\n",
    "    df.loc[i, \"IOB\"] = ' '.join(r[i])"
   ]
  },
  {
   "cell_type": "code",
   "execution_count": 127,
   "metadata": {},
   "outputs": [
    {
     "data": {
      "text/plain": [
       "'AVISO DE LICITAÇÃO PREGÃO ELETRÔNICO PE Nº 214/2020 Processo: 092.04570/2020. OBJETO: Aquisição de cabos elétricos especiais e óticos para uso nos sistemas de automação do Sistema de Abastecimento de Água (SAA) e do Sistema de Esgotamento Sanitário (SES) da Caesb, para possibilitar a reposição nos referidos equipamentos industriais. CRITÉRIO DE JULGAMENTO: Menor Preço; DOTAÇÃO ORÇAMENTÁRIA: UO: 22202; PROGRAMA DE TRABALHO: 17.122.8209.8517/6977; NATUREZA DE DESPESA: 33.90.30; Código de Aplicação: 12.203.205.200-07. FONTE DE RECURSO: Recursos Próprios, CÓDIGO: 11.101.000.000-3. ENTREGA: 90 dias. ABERTURA: 10/11/2020, às 09 horas no site www.comprasnet.gov.br (UASG: 974200). INFORMAÇÕES: O edital e seus anexos encontram-se disponíveis nos sites: www.caesb.df.gov.br e www.comprasnet.gov.br — menu Licitações, a partir do dia 26/10/2020. Fone: (61) 3213-7122, E-mail: licitacao Ocaesb.df gov.br. ELISA TEREZINHA HAMMES Pregoeira'"
      ]
     },
     "execution_count": 127,
     "metadata": {},
     "output_type": "execute_result"
    }
   ],
   "source": [
    "df['treated_text'][0]"
   ]
  },
  {
   "cell_type": "code",
   "execution_count": 128,
   "metadata": {},
   "outputs": [
    {
     "data": {
      "text/plain": [
       "(163, 163)"
      ]
     },
     "execution_count": 128,
     "metadata": {},
     "output_type": "execute_result"
    }
   ],
   "source": [
    "len(word_tokenize(df['treated_text'][0])), len(df['IOB'][0].split())"
   ]
  },
  {
   "cell_type": "code",
   "execution_count": 129,
   "metadata": {},
   "outputs": [
    {
     "data": {
      "text/plain": [
       "'O O O B-MODALIDADE_LICITACAO I-MODALIDADE_LICITACAO O O B-NUM_LICITACAO O O B-PROCESSO O O O B-OBJ_LICITACAO I-OBJ_LICITACAO I-OBJ_LICITACAO I-OBJ_LICITACAO I-OBJ_LICITACAO I-OBJ_LICITACAO I-OBJ_LICITACAO I-OBJ_LICITACAO I-OBJ_LICITACAO I-OBJ_LICITACAO I-OBJ_LICITACAO I-OBJ_LICITACAO I-OBJ_LICITACAO I-OBJ_LICITACAO I-OBJ_LICITACAO I-OBJ_LICITACAO I-OBJ_LICITACAO I-OBJ_LICITACAO I-OBJ_LICITACAO I-OBJ_LICITACAO I-OBJ_LICITACAO I-OBJ_LICITACAO I-OBJ_LICITACAO I-OBJ_LICITACAO I-OBJ_LICITACAO I-OBJ_LICITACAO I-OBJ_LICITACAO I-OBJ_LICITACAO I-OBJ_LICITACAO I-OBJ_LICITACAO I-OBJ_LICITACAO I-OBJ_LICITACAO I-OBJ_LICITACAO I-OBJ_LICITACAO I-OBJ_LICITACAO I-OBJ_LICITACAO I-OBJ_LICITACAO I-OBJ_LICITACAO I-OBJ_LICITACAO I-OBJ_LICITACAO I-OBJ_LICITACAO I-OBJ_LICITACAO I-OBJ_LICITACAO O O O O O O O O O O O O O O O O O O O O O O O O O O O O O O O O O O O O O O O O O O O O O O O O O O B-DATA_ABERTURA O O O O O O B-SISTEMA_COMPRAS O O O B-CODIGO_SISTEMA_COMPRAS O O O O B-IOB O O O O O O O O O O O B-SISTEMA_COMPRAS O O O O O O O O O O O O O O O O O O O O O O O O O O O'"
      ]
     },
     "execution_count": 129,
     "metadata": {},
     "output_type": "execute_result"
    }
   ],
   "source": [
    "df['IOB'][0]"
   ]
  },
  {
   "cell_type": "code",
   "execution_count": 130,
   "metadata": {},
   "outputs": [],
   "source": [
    "for i in range(len(df)):\n",
    "    if len(word_tokenize(df['treated_text'][i])) != len(df['IOB'][i].split()):\n",
    "        print(i)"
   ]
  }
 ],
 "metadata": {
  "interpreter": {
   "hash": "37a8dfbc9063806559ed6fb3e0b9be32bbbe69eb175d93b540a8930d21ddca46"
  },
  "kernelspec": {
   "display_name": "Python 3.9.7 ('ian': venv)",
   "language": "python",
   "name": "python3"
  },
  "language_info": {
   "codemirror_mode": {
    "name": "ipython",
    "version": 3
   },
   "file_extension": ".py",
   "mimetype": "text/x-python",
   "name": "python",
   "nbconvert_exporter": "python",
   "pygments_lexer": "ipython3",
   "version": "3.9.7"
  },
  "orig_nbformat": 4
 },
 "nbformat": 4,
 "nbformat_minor": 2
}
