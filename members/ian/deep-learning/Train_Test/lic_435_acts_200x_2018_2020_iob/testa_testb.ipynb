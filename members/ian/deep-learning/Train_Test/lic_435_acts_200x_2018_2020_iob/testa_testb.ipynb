{
 "cells": [
  {
   "cell_type": "code",
   "execution_count": 57,
   "metadata": {},
   "outputs": [],
   "source": [
    "import os\n",
    "import re\n",
    "import pandas as pd\n",
    "import numpy as np"
   ]
  },
  {
   "cell_type": "code",
   "execution_count": 58,
   "metadata": {},
   "outputs": [
    {
     "data": {
      "text/html": [
       "<div>\n",
       "<style scoped>\n",
       "    .dataframe tbody tr th:only-of-type {\n",
       "        vertical-align: middle;\n",
       "    }\n",
       "\n",
       "    .dataframe tbody tr th {\n",
       "        vertical-align: top;\n",
       "    }\n",
       "\n",
       "    .dataframe thead th {\n",
       "        text-align: right;\n",
       "    }\n",
       "</style>\n",
       "<table border=\"1\" class=\"dataframe\">\n",
       "  <thead>\n",
       "    <tr style=\"text-align: right;\">\n",
       "      <th></th>\n",
       "      <th>ORGAO_LICITANTE</th>\n",
       "      <th>NUM_LICITACAO</th>\n",
       "      <th>OBJ_LICITACAO</th>\n",
       "      <th>MODALIDADE_LICITACAO</th>\n",
       "      <th>PROCESSO</th>\n",
       "      <th>DATA_ABERTURA</th>\n",
       "      <th>VALOR_ESTIMADO</th>\n",
       "      <th>CODIGO_SISTEMA_COMPRAS</th>\n",
       "      <th>SISTEMA_COMPRAS</th>\n",
       "      <th>NOME_RESPONSAVEL</th>\n",
       "      <th>treated_text</th>\n",
       "      <th>IOB</th>\n",
       "    </tr>\n",
       "  </thead>\n",
       "  <tbody>\n",
       "    <tr>\n",
       "      <th>0</th>\n",
       "      <td>None</td>\n",
       "      <td>024/2002</td>\n",
       "      <td>aquisi- ção ção de conectores</td>\n",
       "      <td>Tomada de Preços de Material</td>\n",
       "      <td>None</td>\n",
       "      <td>10/02/2003</td>\n",
       "      <td>None</td>\n",
       "      <td>None</td>\n",
       "      <td>None</td>\n",
       "      <td>None</td>\n",
       "      <td>AVISO DE LICITAÇÃO A COMPANHIA ENERGÉTICA DE B...</td>\n",
       "      <td>O O O O O O O O O O O O O O O O O O O O O O O ...</td>\n",
       "    </tr>\n",
       "    <tr>\n",
       "      <th>1</th>\n",
       "      <td>None</td>\n",
       "      <td>005/2002</td>\n",
       "      <td>Aquisição de materiais permanentes para uso na...</td>\n",
       "      <td>TOMADA DE PREÇOS</td>\n",
       "      <td>053.000.918/2002</td>\n",
       "      <td>11/10/2002</td>\n",
       "      <td>None</td>\n",
       "      <td>None</td>\n",
       "      <td>None</td>\n",
       "      <td>None</td>\n",
       "      <td>AVISO DE LICITAÇÃO PROCESSO N.º 053.000.918/20...</td>\n",
       "      <td>O O O O O O B-PROCESSO I-PROCESSO O O B-MODALI...</td>\n",
       "    </tr>\n",
       "    <tr>\n",
       "      <th>2</th>\n",
       "      <td>None</td>\n",
       "      <td>04/2018</td>\n",
       "      <td>Execucao de 05 (Cinco) Edificios habitacionais...</td>\n",
       "      <td>CONCORRENCIA</td>\n",
       "      <td>392.003.366/2017</td>\n",
       "      <td>15 de marco de 2018</td>\n",
       "      <td>None</td>\n",
       "      <td>None</td>\n",
       "      <td>None</td>\n",
       "      <td>CLAYTON FERREIRA ARAGAO</td>\n",
       "      <td>AVISO DE LICITACAO CONCORRENCIA No 04/2018 Obj...</td>\n",
       "      <td>O O O B-MODALIDADE_LICITACAO O B-NUM_LICITACAO...</td>\n",
       "    </tr>\n",
       "    <tr>\n",
       "      <th>3</th>\n",
       "      <td>None</td>\n",
       "      <td>240/2019</td>\n",
       "      <td>Registro de precos para aquisicao de pecas e a...</td>\n",
       "      <td>aquisicao</td>\n",
       "      <td>092.005543/2019</td>\n",
       "      <td>23/10/2019</td>\n",
       "      <td>None</td>\n",
       "      <td>974200</td>\n",
       "      <td>www.comprasnet.gov.br</td>\n",
       "      <td>NARA MAGALHAES DA SILVA</td>\n",
       "      <td>AVISO DE LICITACAO PREGAO ELETRONICO PE No 240...</td>\n",
       "      <td>O O O O O O O B-NUM_LICITACAO I-NUM_LICITACAO ...</td>\n",
       "    </tr>\n",
       "    <tr>\n",
       "      <th>4</th>\n",
       "      <td>None</td>\n",
       "      <td>241/2019</td>\n",
       "      <td>Registro de precos para aquisicao de materiais...</td>\n",
       "      <td>aquisicao</td>\n",
       "      <td>092.004513/2019</td>\n",
       "      <td>23/10/2019</td>\n",
       "      <td>None</td>\n",
       "      <td>974200</td>\n",
       "      <td>www. c o m p r a s n e t . g o v. b r</td>\n",
       "      <td>SILVIO SANTOS GONCALVES SOARES</td>\n",
       "      <td>AVISO DE LICITACAO PREGAO ELETRONICO PE No 241...</td>\n",
       "      <td>O O O O O O O B-NUM_LICITACAO I-NUM_LICITACAO ...</td>\n",
       "    </tr>\n",
       "    <tr>\n",
       "      <th>...</th>\n",
       "      <td>...</td>\n",
       "      <td>...</td>\n",
       "      <td>...</td>\n",
       "      <td>...</td>\n",
       "      <td>...</td>\n",
       "      <td>...</td>\n",
       "      <td>...</td>\n",
       "      <td>...</td>\n",
       "      <td>...</td>\n",
       "      <td>...</td>\n",
       "      <td>...</td>\n",
       "      <td>...</td>\n",
       "    </tr>\n",
       "    <tr>\n",
       "      <th>126</th>\n",
       "      <td>None</td>\n",
       "      <td>224/2014</td>\n",
       "      <td>aquisição de materiais de copa, cozinha, limpe...</td>\n",
       "      <td>PREGÃO ELETRÔNICO</td>\n",
       "      <td>414.000.216/2014</td>\n",
       "      <td>None</td>\n",
       "      <td>116.236,56</td>\n",
       "      <td>None</td>\n",
       "      <td>http://www.compras.df.gov.br</td>\n",
       "      <td>None</td>\n",
       "      <td>AVISO DE LICITAÇÃO NOVA DATA PREGÃO ELETRÔNICO...</td>\n",
       "      <td>O O O O O B-MODALIDADE_LICITACAO I-MODALIDADE_...</td>\n",
       "    </tr>\n",
       "    <tr>\n",
       "      <th>127</th>\n",
       "      <td>ACOMPANHIA DE SANEAMENTO AMBIENTAL DO DISTRITO...</td>\n",
       "      <td>144/2012</td>\n",
       "      <td>Registro de Preços para fornecimento de reagen...</td>\n",
       "      <td>PREGÃO ELETRÔNICO</td>\n",
       "      <td>092.006540/2012</td>\n",
       "      <td>16 de outubro de 2012</td>\n",
       "      <td>204.314,58</td>\n",
       "      <td>None</td>\n",
       "      <td>www.licitacoes-e.com.br</td>\n",
       "      <td>None</td>\n",
       "      <td>PREGÃO ELETRÔNICO Nº 144/2012 ACOMPANHIA DE SA...</td>\n",
       "      <td>B-MODALIDADE_LICITACAO I-MODALIDADE_LICITACAO ...</td>\n",
       "    </tr>\n",
       "    <tr>\n",
       "      <th>128</th>\n",
       "      <td>COMPANHIA DE SANEAMENTO AMBIENTAL DO DISTRITO ...</td>\n",
       "      <td>05/2007</td>\n",
       "      <td>aquisição de peças/acessórios rios para equipa...</td>\n",
       "      <td>TOMADA DE PREÇOS</td>\n",
       "      <td>00092.000.301/2007</td>\n",
       "      <td>09 de maio de 2007</td>\n",
       "      <td>None</td>\n",
       "      <td>None</td>\n",
       "      <td>None</td>\n",
       "      <td>None</td>\n",
       "      <td>AVISO DE LICITAÇÕES TOMADA DE PREÇOS Nº 05/200...</td>\n",
       "      <td>O O O B-MODALIDADE_LICITACAO I-MODALIDADE_LICI...</td>\n",
       "    </tr>\n",
       "    <tr>\n",
       "      <th>129</th>\n",
       "      <td>Centrais de Abastecimento do Distrito Federal S.A</td>\n",
       "      <td>05/2018</td>\n",
       "      <td>contratação de - empresa para a prestação de s...</td>\n",
       "      <td>PREGÃO ELETRÔNICO</td>\n",
       "      <td>071.000040/2018</td>\n",
       "      <td>None</td>\n",
       "      <td>75.000,00</td>\n",
       "      <td>926245</td>\n",
       "      <td>www.comprasnet.gov.br</td>\n",
       "      <td>None</td>\n",
       "      <td>AVISO DE LICITAÇÃO EXCLUSIVA PARA ME E EPP PRE...</td>\n",
       "      <td>O O O O O O O O B-MODALIDADE_LICITACAO I-MODAL...</td>\n",
       "    </tr>\n",
       "    <tr>\n",
       "      <th>130</th>\n",
       "      <td>COMPANHIA ENERGÉTICA DE BRASÍLIA CEB</td>\n",
       "      <td>31/2000</td>\n",
       "      <td>None</td>\n",
       "      <td>TOMADA DE PREÇOS</td>\n",
       "      <td>None</td>\n",
       "      <td>31/07/2000</td>\n",
       "      <td>None</td>\n",
       "      <td>None</td>\n",
       "      <td>None</td>\n",
       "      <td>None</td>\n",
       "      <td>AVISO DE LICITAÇÃO TOMADA DE PREÇOS Nº 31/2000...</td>\n",
       "      <td>O O O B-MODALIDADE_LICITACAO I-MODALIDADE_LICI...</td>\n",
       "    </tr>\n",
       "  </tbody>\n",
       "</table>\n",
       "<p>131 rows × 12 columns</p>\n",
       "</div>"
      ],
      "text/plain": [
       "                                       ORGAO_LICITANTE NUM_LICITACAO  \\\n",
       "0                                                 None      024/2002   \n",
       "1                                                 None      005/2002   \n",
       "2                                                 None       04/2018   \n",
       "3                                                 None      240/2019   \n",
       "4                                                 None      241/2019   \n",
       "..                                                 ...           ...   \n",
       "126                                               None      224/2014   \n",
       "127  ACOMPANHIA DE SANEAMENTO AMBIENTAL DO DISTRITO...      144/2012   \n",
       "128  COMPANHIA DE SANEAMENTO AMBIENTAL DO DISTRITO ...       05/2007   \n",
       "129  Centrais de Abastecimento do Distrito Federal S.A       05/2018   \n",
       "130               COMPANHIA ENERGÉTICA DE BRASÍLIA CEB       31/2000   \n",
       "\n",
       "                                         OBJ_LICITACAO  \\\n",
       "0                        aquisi- ção ção de conectores   \n",
       "1    Aquisição de materiais permanentes para uso na...   \n",
       "2    Execucao de 05 (Cinco) Edificios habitacionais...   \n",
       "3    Registro de precos para aquisicao de pecas e a...   \n",
       "4    Registro de precos para aquisicao de materiais...   \n",
       "..                                                 ...   \n",
       "126  aquisição de materiais de copa, cozinha, limpe...   \n",
       "127  Registro de Preços para fornecimento de reagen...   \n",
       "128  aquisição de peças/acessórios rios para equipa...   \n",
       "129  contratação de - empresa para a prestação de s...   \n",
       "130                                               None   \n",
       "\n",
       "             MODALIDADE_LICITACAO            PROCESSO          DATA_ABERTURA  \\\n",
       "0    Tomada de Preços de Material                None             10/02/2003   \n",
       "1                TOMADA DE PREÇOS    053.000.918/2002             11/10/2002   \n",
       "2                    CONCORRENCIA    392.003.366/2017    15 de marco de 2018   \n",
       "3                       aquisicao     092.005543/2019             23/10/2019   \n",
       "4                       aquisicao     092.004513/2019             23/10/2019   \n",
       "..                            ...                 ...                    ...   \n",
       "126             PREGÃO ELETRÔNICO    414.000.216/2014                   None   \n",
       "127             PREGÃO ELETRÔNICO     092.006540/2012  16 de outubro de 2012   \n",
       "128              TOMADA DE PREÇOS  00092.000.301/2007     09 de maio de 2007   \n",
       "129             PREGÃO ELETRÔNICO     071.000040/2018                   None   \n",
       "130              TOMADA DE PREÇOS                None             31/07/2000   \n",
       "\n",
       "    VALOR_ESTIMADO CODIGO_SISTEMA_COMPRAS  \\\n",
       "0             None                   None   \n",
       "1             None                   None   \n",
       "2             None                   None   \n",
       "3             None                 974200   \n",
       "4             None                 974200   \n",
       "..             ...                    ...   \n",
       "126     116.236,56                   None   \n",
       "127     204.314,58                   None   \n",
       "128           None                   None   \n",
       "129      75.000,00                 926245   \n",
       "130           None                   None   \n",
       "\n",
       "                           SISTEMA_COMPRAS                NOME_RESPONSAVEL  \\\n",
       "0                                     None                            None   \n",
       "1                                     None                            None   \n",
       "2                                     None         CLAYTON FERREIRA ARAGAO   \n",
       "3                    www.comprasnet.gov.br         NARA MAGALHAES DA SILVA   \n",
       "4    www. c o m p r a s n e t . g o v. b r  SILVIO SANTOS GONCALVES SOARES   \n",
       "..                                     ...                             ...   \n",
       "126           http://www.compras.df.gov.br                            None   \n",
       "127                www.licitacoes-e.com.br                            None   \n",
       "128                                   None                            None   \n",
       "129                  www.comprasnet.gov.br                            None   \n",
       "130                                   None                            None   \n",
       "\n",
       "                                          treated_text  \\\n",
       "0    AVISO DE LICITAÇÃO A COMPANHIA ENERGÉTICA DE B...   \n",
       "1    AVISO DE LICITAÇÃO PROCESSO N.º 053.000.918/20...   \n",
       "2    AVISO DE LICITACAO CONCORRENCIA No 04/2018 Obj...   \n",
       "3    AVISO DE LICITACAO PREGAO ELETRONICO PE No 240...   \n",
       "4    AVISO DE LICITACAO PREGAO ELETRONICO PE No 241...   \n",
       "..                                                 ...   \n",
       "126  AVISO DE LICITAÇÃO NOVA DATA PREGÃO ELETRÔNICO...   \n",
       "127  PREGÃO ELETRÔNICO Nº 144/2012 ACOMPANHIA DE SA...   \n",
       "128  AVISO DE LICITAÇÕES TOMADA DE PREÇOS Nº 05/200...   \n",
       "129  AVISO DE LICITAÇÃO EXCLUSIVA PARA ME E EPP PRE...   \n",
       "130  AVISO DE LICITAÇÃO TOMADA DE PREÇOS Nº 31/2000...   \n",
       "\n",
       "                                                   IOB  \n",
       "0    O O O O O O O O O O O O O O O O O O O O O O O ...  \n",
       "1    O O O O O O B-PROCESSO I-PROCESSO O O B-MODALI...  \n",
       "2    O O O B-MODALIDADE_LICITACAO O B-NUM_LICITACAO...  \n",
       "3    O O O O O O O B-NUM_LICITACAO I-NUM_LICITACAO ...  \n",
       "4    O O O O O O O B-NUM_LICITACAO I-NUM_LICITACAO ...  \n",
       "..                                                 ...  \n",
       "126  O O O O O B-MODALIDADE_LICITACAO I-MODALIDADE_...  \n",
       "127  B-MODALIDADE_LICITACAO I-MODALIDADE_LICITACAO ...  \n",
       "128  O O O B-MODALIDADE_LICITACAO I-MODALIDADE_LICI...  \n",
       "129  O O O O O O O O B-MODALIDADE_LICITACAO I-MODAL...  \n",
       "130  O O O B-MODALIDADE_LICITACAO I-MODALIDADE_LICI...  \n",
       "\n",
       "[131 rows x 12 columns]"
      ]
     },
     "execution_count": 58,
     "metadata": {},
     "output_type": "execute_result"
    }
   ],
   "source": [
    "df = pd.read_parquet('test.parquet')\n",
    "df"
   ]
  },
  {
   "cell_type": "code",
   "execution_count": 59,
   "metadata": {},
   "outputs": [
    {
     "data": {
      "text/plain": [
       "ORGAO_LICITANTE            82\n",
       "NUM_LICITACAO               2\n",
       "OBJ_LICITACAO               1\n",
       "MODALIDADE_LICITACAO        1\n",
       "PROCESSO                   15\n",
       "DATA_ABERTURA              19\n",
       "VALOR_ESTIMADO             50\n",
       "CODIGO_SISTEMA_COMPRAS     71\n",
       "SISTEMA_COMPRAS            31\n",
       "NOME_RESPONSAVEL          111\n",
       "treated_text                0\n",
       "IOB                         0\n",
       "dtype: int64"
      ]
     },
     "execution_count": 59,
     "metadata": {},
     "output_type": "execute_result"
    }
   ],
   "source": [
    "df.isnull().sum()"
   ]
  },
  {
   "cell_type": "code",
   "execution_count": 60,
   "metadata": {},
   "outputs": [],
   "source": [
    "ORGAO_LICITANTE = []\n",
    "VALOR_ESTIMADO = []\n",
    "NOME_RESPONSAVEL = []\n",
    "\n",
    "for i in range(len(df)):\n",
    "    if df['ORGAO_LICITANTE'][i] != None:\n",
    "        ORGAO_LICITANTE.append(i)\n",
    "    if df['VALOR_ESTIMADO'][i] != None:\n",
    "        VALOR_ESTIMADO.append(i)\n",
    "    if df['NOME_RESPONSAVEL'][i] != None:\n",
    "        NOME_RESPONSAVEL.append(i)"
   ]
  },
  {
   "cell_type": "code",
   "execution_count": 61,
   "metadata": {},
   "outputs": [
    {
     "data": {
      "text/plain": [
       "(49, 81, 20)"
      ]
     },
     "execution_count": 61,
     "metadata": {},
     "output_type": "execute_result"
    }
   ],
   "source": [
    "len(ORGAO_LICITANTE), len(VALOR_ESTIMADO), len(NOME_RESPONSAVEL)"
   ]
  },
  {
   "cell_type": "code",
   "execution_count": 62,
   "metadata": {},
   "outputs": [],
   "source": [
    "NOME_RESPONSAVEL_1 = NOME_RESPONSAVEL[:(len(NOME_RESPONSAVEL_set)*50)//100]\n",
    "NOME_RESPONSAVEL_2 = NOME_RESPONSAVEL[(len(NOME_RESPONSAVEL)*50)//100:]\n",
    "\n",
    "ORGAO_LICITANTE_set = set(ORGAO_LICITANTE).difference(set(NOME_RESPONSAVEL_2))\n",
    "ORGAO_LICITANTE_1 = list(ORGAO_LICITANTE_set)[:(len(ORGAO_LICITANTE_set)*50)//100]\n",
    "ORGAO_LICITANTE_2 = set(list(ORGAO_LICITANTE_set)[(len(ORGAO_LICITANTE_set)*50)//100:]).difference(set(NOME_RESPONSAVEL_1))\n",
    "\n",
    "VALOR_ESTIMADO_set = set(VALOR_ESTIMADO).difference(set(ORGAO_LICITANTE_2))\n",
    "VALOR_ESTIMADO_1 = list(VALOR_ESTIMADO_set)[:(len(VALOR_ESTIMADO_set)*50)//100]\n",
    "VALOR_ESTIMADO_2 = set(list(VALOR_ESTIMADO_set)[(len(VALOR_ESTIMADO_set)*50)//100:]).difference(set(NOME_RESPONSAVEL_1))\n",
    "VALOR_ESTIMADO_2 = set(list(VALOR_ESTIMADO_set)[(len(VALOR_ESTIMADO_set)*50)//100:]).difference(set(ORGAO_LICITANTE_1))"
   ]
  },
  {
   "cell_type": "code",
   "execution_count": 63,
   "metadata": {},
   "outputs": [
    {
     "data": {
      "text/plain": [
       "(21, 21, 36, 35, 10, 10)"
      ]
     },
     "execution_count": 63,
     "metadata": {},
     "output_type": "execute_result"
    }
   ],
   "source": [
    "len(ORGAO_LICITANTE_1), len(ORGAO_LICITANTE_2), len(VALOR_ESTIMADO_1), len(VALOR_ESTIMADO_2), len(NOME_RESPONSAVEL_1), len(NOME_RESPONSAVEL_2)"
   ]
  },
  {
   "cell_type": "code",
   "execution_count": 64,
   "metadata": {},
   "outputs": [],
   "source": [
    "lic = []\n",
    "\n",
    "lic.extend(NOME_RESPONSAVEL_1)\n",
    "lic.extend(ORGAO_LICITANTE_1)\n",
    "lic.extend(VALOR_ESTIMADO_1)\n",
    "\n",
    "lic = sorted(list(set(lic)))\n",
    "\n",
    "not_lic = []\n",
    "\n",
    "not_lic.extend(NOME_RESPONSAVEL_2)\n",
    "not_lic.extend(ORGAO_LICITANTE_2)\n",
    "not_lic.extend(VALOR_ESTIMADO_2)\n",
    "\n",
    "not_lic = sorted(list(set(not_lic)))"
   ]
  },
  {
   "cell_type": "code",
   "execution_count": 65,
   "metadata": {},
   "outputs": [
    {
     "data": {
      "text/plain": [
       "(57, 66)"
      ]
     },
     "execution_count": 65,
     "metadata": {},
     "output_type": "execute_result"
    }
   ],
   "source": [
    "len(lic), len(not_lic)"
   ]
  },
  {
   "cell_type": "code",
   "execution_count": 66,
   "metadata": {},
   "outputs": [],
   "source": [
    "for i in lic:\n",
    "    for j in not_lic:\n",
    "        if i == j:\n",
    "            not_lic.pop(not_lic.index(j))\n",
    "\n",
    "for i in lic:\n",
    "    for j in not_lic:\n",
    "        if i == j:\n",
    "            print(i)"
   ]
  },
  {
   "cell_type": "code",
   "execution_count": 67,
   "metadata": {},
   "outputs": [],
   "source": [
    "df_lic = df.iloc[lic]\n",
    "df_not_lic = df.iloc[not_lic]"
   ]
  },
  {
   "cell_type": "code",
   "execution_count": 68,
   "metadata": {},
   "outputs": [
    {
     "data": {
      "text/plain": [
       "(57, 57)"
      ]
     },
     "execution_count": 68,
     "metadata": {},
     "output_type": "execute_result"
    }
   ],
   "source": [
    "len(df_lic), len(df_not_lic)"
   ]
  },
  {
   "cell_type": "code",
   "execution_count": 69,
   "metadata": {},
   "outputs": [],
   "source": [
    "df_real = df.drop(df_lic.index)\n",
    "df_real = df_real.drop(df_not_lic.index)"
   ]
  },
  {
   "cell_type": "code",
   "execution_count": 70,
   "metadata": {},
   "outputs": [
    {
     "data": {
      "text/plain": [
       "17"
      ]
     },
     "execution_count": 70,
     "metadata": {},
     "output_type": "execute_result"
    }
   ],
   "source": [
    "len(df_real)"
   ]
  },
  {
   "cell_type": "code",
   "execution_count": 71,
   "metadata": {},
   "outputs": [],
   "source": [
    "testa = pd.concat([df_lic, df_real[:int(len(df)*0.5) - len(df_lic)]])\n",
    "testb = pd.concat([df_real[int(len(df)*0.5) - len(df_lic):], df_not_lic])"
   ]
  },
  {
   "cell_type": "code",
   "execution_count": 72,
   "metadata": {},
   "outputs": [
    {
     "data": {
      "text/plain": [
       "(65, 66, 131)"
      ]
     },
     "execution_count": 72,
     "metadata": {},
     "output_type": "execute_result"
    }
   ],
   "source": [
    "len(testa), len(testb), len(df)"
   ]
  },
  {
   "cell_type": "code",
   "execution_count": 73,
   "metadata": {},
   "outputs": [
    {
     "name": "stdout",
     "output_type": "stream",
     "text": [
      "ORGAO_LICITANTE: 55.10204081632653%\n",
      "NUM_LICITACAO: 48.83720930232558%\n",
      "OBJ_LICITACAO: 49.23076923076923%\n",
      "MODALIDADE_LICITACAO: 49.23076923076923%\n",
      "PROCESSO: 50.0%\n",
      "DATA_ABERTURA: 50.0%\n",
      "VALOR_ESTIMADO: 45.67901234567901%\n",
      "CODIGO_SISTEMA_COMPRAS: 51.666666666666664%\n",
      "SISTEMA_COMPRAS: 49.0%\n",
      "NOME_RESPONSAVEL: 95.0%\n",
      "treated_text: 49.61832061068702%\n",
      "IOB: 49.61832061068702%\n"
     ]
    }
   ],
   "source": [
    "i = 0\n",
    "for col in list(df.columns):\n",
    "    print(f'{col}: {((len(testa) - list(testa.isnull().sum())[i]) * 100) / (len(df) - list(df.isnull().sum())[i])}%')\n",
    "    i += 1"
   ]
  },
  {
   "cell_type": "code",
   "execution_count": 74,
   "metadata": {},
   "outputs": [
    {
     "name": "stdout",
     "output_type": "stream",
     "text": [
      "ORGAO_LICITANTE: 44.89795918367347%\n",
      "NUM_LICITACAO: 51.16279069767442%\n",
      "OBJ_LICITACAO: 50.76923076923077%\n",
      "MODALIDADE_LICITACAO: 50.76923076923077%\n",
      "PROCESSO: 50.0%\n",
      "DATA_ABERTURA: 50.0%\n",
      "VALOR_ESTIMADO: 54.32098765432099%\n",
      "CODIGO_SISTEMA_COMPRAS: 48.333333333333336%\n",
      "SISTEMA_COMPRAS: 51.0%\n",
      "NOME_RESPONSAVEL: 5.0%\n",
      "treated_text: 50.38167938931298%\n",
      "IOB: 50.38167938931298%\n"
     ]
    }
   ],
   "source": [
    "i = 0\n",
    "for col in list(df.columns):\n",
    "    print(f'{col}: {((len(testb) - list(testb.isnull().sum())[i]) * 100) / (len(df) - list(df.isnull().sum())[i])}%')\n",
    "    i += 1"
   ]
  },
  {
   "cell_type": "code",
   "execution_count": 75,
   "metadata": {},
   "outputs": [],
   "source": [
    "testa = testa.reset_index(drop=True)\n",
    "testb = testb.reset_index(drop=True)"
   ]
  },
  {
   "cell_type": "code",
   "execution_count": 76,
   "metadata": {},
   "outputs": [],
   "source": [
    "testa.to_parquet('testa.parquet')\n",
    "testb.to_parquet('testb.parquet')"
   ]
  },
  {
   "cell_type": "code",
   "execution_count": 77,
   "metadata": {},
   "outputs": [
    {
     "data": {
      "text/plain": [
       "(65, 66)"
      ]
     },
     "execution_count": 77,
     "metadata": {},
     "output_type": "execute_result"
    }
   ],
   "source": [
    "testa = pd.read_parquet('testa.parquet')\n",
    "testb = pd.read_parquet('testb.parquet')\n",
    "\n",
    "len(testa), len(testb)"
   ]
  }
 ],
 "metadata": {
  "interpreter": {
   "hash": "d973542429c9f505f96bdf709f83097f4740f6c9df1afcdf6fa66ab031bc1ccc"
  },
  "kernelspec": {
   "display_name": "Python 3.9.7 ('ian': venv)",
   "language": "python",
   "name": "python3"
  },
  "language_info": {
   "codemirror_mode": {
    "name": "ipython",
    "version": 3
   },
   "file_extension": ".py",
   "mimetype": "text/x-python",
   "name": "python",
   "nbconvert_exporter": "python",
   "pygments_lexer": "ipython3",
   "version": "3.9.7"
  },
  "orig_nbformat": 4
 },
 "nbformat": 4,
 "nbformat_minor": 2
}
