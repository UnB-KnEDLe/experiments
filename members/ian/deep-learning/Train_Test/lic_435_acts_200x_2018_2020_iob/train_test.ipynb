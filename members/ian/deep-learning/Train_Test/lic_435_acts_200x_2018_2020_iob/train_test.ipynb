{
 "cells": [
  {
   "cell_type": "code",
   "execution_count": 66,
   "metadata": {},
   "outputs": [],
   "source": [
    "import os\n",
    "import re\n",
    "import pandas as pd\n",
    "import numpy as np"
   ]
  },
  {
   "cell_type": "code",
   "execution_count": 67,
   "metadata": {},
   "outputs": [
    {
     "data": {
      "text/html": [
       "<div>\n",
       "<style scoped>\n",
       "    .dataframe tbody tr th:only-of-type {\n",
       "        vertical-align: middle;\n",
       "    }\n",
       "\n",
       "    .dataframe tbody tr th {\n",
       "        vertical-align: top;\n",
       "    }\n",
       "\n",
       "    .dataframe thead th {\n",
       "        text-align: right;\n",
       "    }\n",
       "</style>\n",
       "<table border=\"1\" class=\"dataframe\">\n",
       "  <thead>\n",
       "    <tr style=\"text-align: right;\">\n",
       "      <th></th>\n",
       "      <th>ORGAO_LICITANTE</th>\n",
       "      <th>NUM_LICITACAO</th>\n",
       "      <th>OBJ_LICITACAO</th>\n",
       "      <th>MODALIDADE_LICITACAO</th>\n",
       "      <th>PROCESSO</th>\n",
       "      <th>DATA_ABERTURA</th>\n",
       "      <th>VALOR_ESTIMADO</th>\n",
       "      <th>CODIGO_SISTEMA_COMPRAS</th>\n",
       "      <th>SISTEMA_COMPRAS</th>\n",
       "      <th>NOME_RESPONSAVEL</th>\n",
       "      <th>treated_text</th>\n",
       "      <th>IOB</th>\n",
       "    </tr>\n",
       "  </thead>\n",
       "  <tbody>\n",
       "    <tr>\n",
       "      <th>0</th>\n",
       "      <td>demais orgaos participantes do Sistema de Regi...</td>\n",
       "      <td>001/2020</td>\n",
       "      <td>Registro de Precos visando a eventual aquisica...</td>\n",
       "      <td>PREGAO ELETRONICO</td>\n",
       "      <td>00040-00017799/2019-42</td>\n",
       "      <td>08/01/2020</td>\n",
       "      <td>170.704,26</td>\n",
       "      <td>None</td>\n",
       "      <td>Comprasnet</td>\n",
       "      <td>KARLA REGINA DA SILVA ROCHA</td>\n",
       "      <td>AVISO DE LICITACAO PREGAO ELETRONICO No 001/20...</td>\n",
       "      <td>O O O B-MODALIDADE_LICITACAO I-MODALIDADE_LICI...</td>\n",
       "    </tr>\n",
       "    <tr>\n",
       "      <th>1</th>\n",
       "      <td>METRO-DF</td>\n",
       "      <td>03/2019</td>\n",
       "      <td>contratacao de empresa especializada para o fo...</td>\n",
       "      <td>PREGAO ELETRONICO</td>\n",
       "      <td>00097-00003659/2018-32</td>\n",
       "      <td>None</td>\n",
       "      <td>sigiloso</td>\n",
       "      <td>925046</td>\n",
       "      <td>www.comprasgovernamentais.gov.br</td>\n",
       "      <td>ANDERSON LUIZ SENNA COSTA</td>\n",
       "      <td>PREGAO ELETRONICO No 03/2019 UASG UASG 925046 ...</td>\n",
       "      <td>B-MODALIDADE_LICITACAO I-MODALIDADE_LICITACAO ...</td>\n",
       "    </tr>\n",
       "    <tr>\n",
       "      <th>2</th>\n",
       "      <td>Secretaria de Estado de Seguranca Publica do D...</td>\n",
       "      <td>31/2019</td>\n",
       "      <td>Registro de Precos para futura aquisicao de eq...</td>\n",
       "      <td>PREGAO ELETRONICO</td>\n",
       "      <td>00050-00034379/2019-93</td>\n",
       "      <td>03/01/2020</td>\n",
       "      <td>None</td>\n",
       "      <td>450107</td>\n",
       "      <td>www.comprasgovernamentais.gov.br</td>\n",
       "      <td>AMILCAR UBIRATAN URACH VIEIRA</td>\n",
       "      <td>AVISO DE ABERTURA DE LICITACAO SRP SRP PREGAO ...</td>\n",
       "      <td>O O O O O O O B-MODALIDADE_LICITACAO I-MODALID...</td>\n",
       "    </tr>\n",
       "    <tr>\n",
       "      <th>3</th>\n",
       "      <td>None</td>\n",
       "      <td>301/2019</td>\n",
       "      <td>Registro de precos para aquisicao de EPIEquipa...</td>\n",
       "      <td>PREGAO ELETRONICO</td>\n",
       "      <td>092.006186/2019</td>\n",
       "      <td>16/01/2020</td>\n",
       "      <td>None</td>\n",
       "      <td>974200</td>\n",
       "      <td>www.comprasnet.gov.br</td>\n",
       "      <td>NARA MAGALHAES DA SILVA</td>\n",
       "      <td>AVISOS DE LICITACAO PREGAO ELETRONICO PE No 30...</td>\n",
       "      <td>O O O B-MODALIDADE_LICITACAO I-MODALIDADE_LICI...</td>\n",
       "    </tr>\n",
       "    <tr>\n",
       "      <th>4</th>\n",
       "      <td>None</td>\n",
       "      <td>116/2018</td>\n",
       "      <td>Registro de Precos visando a eventual aquisica...</td>\n",
       "      <td>PREGAO ELETRONICO</td>\n",
       "      <td>00410-00024534/2017-65</td>\n",
       "      <td>20/11/2018</td>\n",
       "      <td>767.907,37</td>\n",
       "      <td>None</td>\n",
       "      <td>www.compras.df.gov.br</td>\n",
       "      <td>GERARDA DA SILVA CARVALHO</td>\n",
       "      <td>AVISOS DE LICITACOES PREGAO ELETRONICO No 116/...</td>\n",
       "      <td>O O O B-MODALIDADE_LICITACAO I-MODALIDADE_LICI...</td>\n",
       "    </tr>\n",
       "    <tr>\n",
       "      <th>...</th>\n",
       "      <td>...</td>\n",
       "      <td>...</td>\n",
       "      <td>...</td>\n",
       "      <td>...</td>\n",
       "      <td>...</td>\n",
       "      <td>...</td>\n",
       "      <td>...</td>\n",
       "      <td>...</td>\n",
       "      <td>...</td>\n",
       "      <td>...</td>\n",
       "      <td>...</td>\n",
       "      <td>...</td>\n",
       "    </tr>\n",
       "    <tr>\n",
       "      <th>430</th>\n",
       "      <td>None</td>\n",
       "      <td>442/2004</td>\n",
       "      <td>Aquisição de material de consumo farmacológico...</td>\n",
       "      <td>PREGÃO</td>\n",
       "      <td>None</td>\n",
       "      <td>24/08/2004</td>\n",
       "      <td>None</td>\n",
       "      <td>None</td>\n",
       "      <td>None</td>\n",
       "      <td>None</td>\n",
       "      <td>PREGÃO Nº 442/2004 SUCOM/SEF/DF Objeto: Aquisi...</td>\n",
       "      <td>B-MODALIDADE_LICITACAO O B-NUM_LICITACAO I-NUM...</td>\n",
       "    </tr>\n",
       "    <tr>\n",
       "      <th>431</th>\n",
       "      <td>None</td>\n",
       "      <td>451/2004</td>\n",
       "      <td>Aquisição de medicamentos (Lamivudina, octreot...</td>\n",
       "      <td>PREGÃO</td>\n",
       "      <td>None</td>\n",
       "      <td>02/09/2004</td>\n",
       "      <td>None</td>\n",
       "      <td>None</td>\n",
       "      <td>None</td>\n",
       "      <td>None</td>\n",
       "      <td>PREGÃO Nº 451/2004 SUCOM/SEF/DF Objeto: Aquisi...</td>\n",
       "      <td>B-MODALIDADE_LICITACAO O B-NUM_LICITACAO I-NUM...</td>\n",
       "    </tr>\n",
       "    <tr>\n",
       "      <th>432</th>\n",
       "      <td>None</td>\n",
       "      <td>024/2002</td>\n",
       "      <td>aquisi- ção ção de conectores</td>\n",
       "      <td>Tomada de Preços de Material</td>\n",
       "      <td>None</td>\n",
       "      <td>10/02/2003</td>\n",
       "      <td>None</td>\n",
       "      <td>None</td>\n",
       "      <td>None</td>\n",
       "      <td>None</td>\n",
       "      <td>AVISO DE LICITAÇÃO A COMPANHIA ENERGÉTICA DE B...</td>\n",
       "      <td>O O O O O O O O O O O O O O O O O O O O O O O ...</td>\n",
       "    </tr>\n",
       "    <tr>\n",
       "      <th>433</th>\n",
       "      <td>None</td>\n",
       "      <td>005/2002</td>\n",
       "      <td>Aquisição de materiais permanentes para uso na...</td>\n",
       "      <td>TOMADA DE PREÇOS</td>\n",
       "      <td>053.000.918/2002</td>\n",
       "      <td>11/10/2002</td>\n",
       "      <td>None</td>\n",
       "      <td>None</td>\n",
       "      <td>None</td>\n",
       "      <td>None</td>\n",
       "      <td>AVISO DE LICITAÇÃO PROCESSO N.º 053.000.918/20...</td>\n",
       "      <td>O O O O O O B-PROCESSO I-PROCESSO O O B-MODALI...</td>\n",
       "    </tr>\n",
       "    <tr>\n",
       "      <th>434</th>\n",
       "      <td>COMPANHIA ENERGÉTICA DE BRASÍLIA CEB</td>\n",
       "      <td>31/2000</td>\n",
       "      <td>None</td>\n",
       "      <td>TOMADA DE PREÇOS</td>\n",
       "      <td>None</td>\n",
       "      <td>31/07/2000</td>\n",
       "      <td>None</td>\n",
       "      <td>None</td>\n",
       "      <td>None</td>\n",
       "      <td>None</td>\n",
       "      <td>AVISO DE LICITAÇÃO TOMADA DE PREÇOS Nº 31/2000...</td>\n",
       "      <td>O O O B-MODALIDADE_LICITACAO I-MODALIDADE_LICI...</td>\n",
       "    </tr>\n",
       "  </tbody>\n",
       "</table>\n",
       "<p>435 rows × 12 columns</p>\n",
       "</div>"
      ],
      "text/plain": [
       "                                       ORGAO_LICITANTE NUM_LICITACAO  \\\n",
       "0    demais orgaos participantes do Sistema de Regi...      001/2020   \n",
       "1                                             METRO-DF       03/2019   \n",
       "2    Secretaria de Estado de Seguranca Publica do D...       31/2019   \n",
       "3                                                 None      301/2019   \n",
       "4                                                 None      116/2018   \n",
       "..                                                 ...           ...   \n",
       "430                                               None      442/2004   \n",
       "431                                               None      451/2004   \n",
       "432                                               None      024/2002   \n",
       "433                                               None      005/2002   \n",
       "434               COMPANHIA ENERGÉTICA DE BRASÍLIA CEB       31/2000   \n",
       "\n",
       "                                         OBJ_LICITACAO  \\\n",
       "0    Registro de Precos visando a eventual aquisica...   \n",
       "1    contratacao de empresa especializada para o fo...   \n",
       "2    Registro de Precos para futura aquisicao de eq...   \n",
       "3    Registro de precos para aquisicao de EPIEquipa...   \n",
       "4    Registro de Precos visando a eventual aquisica...   \n",
       "..                                                 ...   \n",
       "430  Aquisição de material de consumo farmacológico...   \n",
       "431  Aquisição de medicamentos (Lamivudina, octreot...   \n",
       "432                      aquisi- ção ção de conectores   \n",
       "433  Aquisição de materiais permanentes para uso na...   \n",
       "434                                               None   \n",
       "\n",
       "             MODALIDADE_LICITACAO                PROCESSO DATA_ABERTURA  \\\n",
       "0               PREGAO ELETRONICO  00040-00017799/2019-42    08/01/2020   \n",
       "1               PREGAO ELETRONICO  00097-00003659/2018-32          None   \n",
       "2               PREGAO ELETRONICO  00050-00034379/2019-93    03/01/2020   \n",
       "3               PREGAO ELETRONICO         092.006186/2019    16/01/2020   \n",
       "4               PREGAO ELETRONICO  00410-00024534/2017-65    20/11/2018   \n",
       "..                            ...                     ...           ...   \n",
       "430                        PREGÃO                    None    24/08/2004   \n",
       "431                        PREGÃO                    None    02/09/2004   \n",
       "432  Tomada de Preços de Material                    None    10/02/2003   \n",
       "433              TOMADA DE PREÇOS        053.000.918/2002    11/10/2002   \n",
       "434              TOMADA DE PREÇOS                    None    31/07/2000   \n",
       "\n",
       "    VALOR_ESTIMADO CODIGO_SISTEMA_COMPRAS                   SISTEMA_COMPRAS  \\\n",
       "0       170.704,26                   None                        Comprasnet   \n",
       "1         sigiloso                 925046  www.comprasgovernamentais.gov.br   \n",
       "2             None                 450107  www.comprasgovernamentais.gov.br   \n",
       "3             None                 974200             www.comprasnet.gov.br   \n",
       "4       767.907,37                   None             www.compras.df.gov.br   \n",
       "..             ...                    ...                               ...   \n",
       "430           None                   None                              None   \n",
       "431           None                   None                              None   \n",
       "432           None                   None                              None   \n",
       "433           None                   None                              None   \n",
       "434           None                   None                              None   \n",
       "\n",
       "                  NOME_RESPONSAVEL  \\\n",
       "0      KARLA REGINA DA SILVA ROCHA   \n",
       "1        ANDERSON LUIZ SENNA COSTA   \n",
       "2    AMILCAR UBIRATAN URACH VIEIRA   \n",
       "3          NARA MAGALHAES DA SILVA   \n",
       "4        GERARDA DA SILVA CARVALHO   \n",
       "..                             ...   \n",
       "430                           None   \n",
       "431                           None   \n",
       "432                           None   \n",
       "433                           None   \n",
       "434                           None   \n",
       "\n",
       "                                          treated_text  \\\n",
       "0    AVISO DE LICITACAO PREGAO ELETRONICO No 001/20...   \n",
       "1    PREGAO ELETRONICO No 03/2019 UASG UASG 925046 ...   \n",
       "2    AVISO DE ABERTURA DE LICITACAO SRP SRP PREGAO ...   \n",
       "3    AVISOS DE LICITACAO PREGAO ELETRONICO PE No 30...   \n",
       "4    AVISOS DE LICITACOES PREGAO ELETRONICO No 116/...   \n",
       "..                                                 ...   \n",
       "430  PREGÃO Nº 442/2004 SUCOM/SEF/DF Objeto: Aquisi...   \n",
       "431  PREGÃO Nº 451/2004 SUCOM/SEF/DF Objeto: Aquisi...   \n",
       "432  AVISO DE LICITAÇÃO A COMPANHIA ENERGÉTICA DE B...   \n",
       "433  AVISO DE LICITAÇÃO PROCESSO N.º 053.000.918/20...   \n",
       "434  AVISO DE LICITAÇÃO TOMADA DE PREÇOS Nº 31/2000...   \n",
       "\n",
       "                                                   IOB  \n",
       "0    O O O B-MODALIDADE_LICITACAO I-MODALIDADE_LICI...  \n",
       "1    B-MODALIDADE_LICITACAO I-MODALIDADE_LICITACAO ...  \n",
       "2    O O O O O O O B-MODALIDADE_LICITACAO I-MODALID...  \n",
       "3    O O O B-MODALIDADE_LICITACAO I-MODALIDADE_LICI...  \n",
       "4    O O O B-MODALIDADE_LICITACAO I-MODALIDADE_LICI...  \n",
       "..                                                 ...  \n",
       "430  B-MODALIDADE_LICITACAO O B-NUM_LICITACAO I-NUM...  \n",
       "431  B-MODALIDADE_LICITACAO O B-NUM_LICITACAO I-NUM...  \n",
       "432  O O O O O O O O O O O O O O O O O O O O O O O ...  \n",
       "433  O O O O O O B-PROCESSO I-PROCESSO O O B-MODALI...  \n",
       "434  O O O B-MODALIDADE_LICITACAO I-MODALIDADE_LICI...  \n",
       "\n",
       "[435 rows x 12 columns]"
      ]
     },
     "execution_count": 67,
     "metadata": {},
     "output_type": "execute_result"
    }
   ],
   "source": [
    "df = pd.read_parquet('../../acts_parquet/lic_435_acts_200x_2018_2020_iob.parquet')\n",
    "df"
   ]
  },
  {
   "cell_type": "code",
   "execution_count": 68,
   "metadata": {},
   "outputs": [
    {
     "data": {
      "text/plain": [
       "ORGAO_LICITANTE           274\n",
       "NUM_LICITACAO               7\n",
       "OBJ_LICITACAO               2\n",
       "MODALIDADE_LICITACAO        8\n",
       "PROCESSO                   67\n",
       "DATA_ABERTURA              38\n",
       "VALOR_ESTIMADO            217\n",
       "CODIGO_SISTEMA_COMPRAS    251\n",
       "SISTEMA_COMPRAS            89\n",
       "NOME_RESPONSAVEL          242\n",
       "treated_text                0\n",
       "IOB                         0\n",
       "dtype: int64"
      ]
     },
     "execution_count": 68,
     "metadata": {},
     "output_type": "execute_result"
    }
   ],
   "source": [
    "df.isnull().sum()"
   ]
  },
  {
   "cell_type": "code",
   "execution_count": 69,
   "metadata": {},
   "outputs": [],
   "source": [
    "ORGAO_LICITANTE = []\n",
    "VALOR_ESTIMADO = []\n",
    "CODIGO_SISTEMA_COMPRAS = []\n",
    "NOME_RESPONSAVEL = []\n",
    "\n",
    "\n",
    "for i in range(len(df)):\n",
    "    if df['ORGAO_LICITANTE'][i] != None:\n",
    "        ORGAO_LICITANTE.append(i)\n",
    "    if df['VALOR_ESTIMADO'][i] != None:\n",
    "        VALOR_ESTIMADO.append(i)\n",
    "    if df['CODIGO_SISTEMA_COMPRAS'][i] != None:\n",
    "        CODIGO_SISTEMA_COMPRAS.append(i)\n",
    "    if df['NOME_RESPONSAVEL'][i] != None:\n",
    "        NOME_RESPONSAVEL.append(i)"
   ]
  },
  {
   "cell_type": "code",
   "execution_count": 70,
   "metadata": {},
   "outputs": [
    {
     "data": {
      "text/plain": [
       "(161, 218, 184, 193)"
      ]
     },
     "execution_count": 70,
     "metadata": {},
     "output_type": "execute_result"
    }
   ],
   "source": [
    "len(ORGAO_LICITANTE), len(VALOR_ESTIMADO), len(CODIGO_SISTEMA_COMPRAS), len(NOME_RESPONSAVEL)"
   ]
  },
  {
   "cell_type": "code",
   "execution_count": 71,
   "metadata": {},
   "outputs": [],
   "source": [
    "ORGAO_LICITANTE_1 = ORGAO_LICITANTE[:(len(ORGAO_LICITANTE)*70)//100]\n",
    "ORGAO_LICITANTE_2 = ORGAO_LICITANTE[(len(ORGAO_LICITANTE)*70)//100:]\n",
    "\n",
    "VALOR_ESTIMADO_set = set(VALOR_ESTIMADO).difference(set(ORGAO_LICITANTE_2))\n",
    "VALOR_ESTIMADO_1 = list(VALOR_ESTIMADO_set)[:(len(VALOR_ESTIMADO_set)*70)//100]\n",
    "VALOR_ESTIMADO_2 = set(list(VALOR_ESTIMADO_set)[(len(VALOR_ESTIMADO_set)*70)//100:]).difference(set(ORGAO_LICITANTE_1))\n",
    "\n",
    "CODIGO_SISTEMA_COMPRAS_set = set(CODIGO_SISTEMA_COMPRAS).difference(set(ORGAO_LICITANTE_2))\n",
    "CODIGO_SISTEMA_COMPRAS_set = set(CODIGO_SISTEMA_COMPRAS_set).difference(set(VALOR_ESTIMADO_2))\n",
    "CODIGO_SISTEMA_COMPRAS_1 = list(CODIGO_SISTEMA_COMPRAS_set)[:(len(CODIGO_SISTEMA_COMPRAS_set)*70)//100]\n",
    "CODIGO_SISTEMA_COMPRAS_2 = set(list(CODIGO_SISTEMA_COMPRAS_set)[(len(CODIGO_SISTEMA_COMPRAS_set)*70)//100:]).difference(set(ORGAO_LICITANTE_1))\n",
    "CODIGO_SISTEMA_COMPRAS_2 = set(list(CODIGO_SISTEMA_COMPRAS_set)[(len(CODIGO_SISTEMA_COMPRAS_set)*70)//100:]).difference(set(VALOR_ESTIMADO_1))\n",
    "\n",
    "NOME_RESPONSAVEL_set = set(NOME_RESPONSAVEL).difference(set(ORGAO_LICITANTE_2))\n",
    "NOME_RESPONSAVEL_set = set(NOME_RESPONSAVEL_set).difference(set(VALOR_ESTIMADO_2))\n",
    "NOME_RESPONSAVEL_set = set(NOME_RESPONSAVEL_set).difference(set(CODIGO_SISTEMA_COMPRAS_2))\n",
    "NOME_RESPONSAVEL_1 = list(NOME_RESPONSAVEL_set)[:(len(NOME_RESPONSAVEL_set)*70)//100]\n",
    "NOME_RESPONSAVEL_2 = set(list(NOME_RESPONSAVEL_set)[(len(NOME_RESPONSAVEL_set)*70)//100:]).difference(set(ORGAO_LICITANTE_1))\n",
    "NOME_RESPONSAVEL_2 = set(list(NOME_RESPONSAVEL_set)[(len(NOME_RESPONSAVEL_set)*70)//100:]).difference(set(VALOR_ESTIMADO_1))\n",
    "NOME_RESPONSAVEL_2 = set(list(NOME_RESPONSAVEL_set)[(len(NOME_RESPONSAVEL_set)*70)//100:]).difference(set(CODIGO_SISTEMA_COMPRAS_1))"
   ]
  },
  {
   "cell_type": "code",
   "execution_count": 72,
   "metadata": {},
   "outputs": [
    {
     "data": {
      "text/plain": [
       "(112, 49, 136, 58, 101, 26, 118, 32)"
      ]
     },
     "execution_count": 72,
     "metadata": {},
     "output_type": "execute_result"
    }
   ],
   "source": [
    "len(ORGAO_LICITANTE_1), len(ORGAO_LICITANTE_2), len(VALOR_ESTIMADO_1), len(VALOR_ESTIMADO_2), len(CODIGO_SISTEMA_COMPRAS_1), len(CODIGO_SISTEMA_COMPRAS_2), len(NOME_RESPONSAVEL_1), len(NOME_RESPONSAVEL_2)"
   ]
  },
  {
   "cell_type": "code",
   "execution_count": 73,
   "metadata": {},
   "outputs": [],
   "source": [
    "lic = []\n",
    "\n",
    "lic.extend(ORGAO_LICITANTE_1)\n",
    "lic.extend(VALOR_ESTIMADO_1)\n",
    "lic.extend(CODIGO_SISTEMA_COMPRAS_1)\n",
    "lic.extend(NOME_RESPONSAVEL_1)\n",
    "\n",
    "lic = sorted(list(set(lic)))"
   ]
  },
  {
   "cell_type": "code",
   "execution_count": 74,
   "metadata": {},
   "outputs": [],
   "source": [
    "not_lic = []\n",
    "\n",
    "not_lic.extend(ORGAO_LICITANTE_2)\n",
    "not_lic.extend(VALOR_ESTIMADO_2)\n",
    "not_lic.extend(CODIGO_SISTEMA_COMPRAS_2)\n",
    "not_lic.extend(NOME_RESPONSAVEL_2)\n",
    "\n",
    "not_lic = sorted(list(set(not_lic)))"
   ]
  },
  {
   "cell_type": "code",
   "execution_count": 75,
   "metadata": {},
   "outputs": [
    {
     "data": {
      "text/plain": [
       "(179, 165)"
      ]
     },
     "execution_count": 75,
     "metadata": {},
     "output_type": "execute_result"
    }
   ],
   "source": [
    "len(lic), len(not_lic)"
   ]
  },
  {
   "cell_type": "code",
   "execution_count": 76,
   "metadata": {},
   "outputs": [],
   "source": [
    "for i in lic:\n",
    "    for j in not_lic:\n",
    "        if i == j:\n",
    "            not_lic.pop(not_lic.index(j))\n",
    "\n",
    "for i in lic:\n",
    "    for j in not_lic:\n",
    "        if i == j:\n",
    "            print(i)"
   ]
  },
  {
   "cell_type": "code",
   "execution_count": 77,
   "metadata": {},
   "outputs": [],
   "source": [
    "df_lic = df.iloc[lic]\n",
    "df_not_lic = df.iloc[not_lic]"
   ]
  },
  {
   "cell_type": "code",
   "execution_count": 78,
   "metadata": {},
   "outputs": [
    {
     "data": {
      "text/plain": [
       "(179, 129)"
      ]
     },
     "execution_count": 78,
     "metadata": {},
     "output_type": "execute_result"
    }
   ],
   "source": [
    "len(df_lic), len(df_not_lic)"
   ]
  },
  {
   "cell_type": "code",
   "execution_count": 79,
   "metadata": {},
   "outputs": [
    {
     "data": {
      "text/plain": [
       "ORGAO_LICITANTE           67\n",
       "NUM_LICITACAO              5\n",
       "OBJ_LICITACAO              1\n",
       "MODALIDADE_LICITACAO       7\n",
       "PROCESSO                   5\n",
       "DATA_ABERTURA              9\n",
       "VALOR_ESTIMADO            42\n",
       "CODIGO_SISTEMA_COMPRAS    55\n",
       "SISTEMA_COMPRAS           20\n",
       "NOME_RESPONSAVEL           6\n",
       "treated_text               0\n",
       "IOB                        0\n",
       "dtype: int64"
      ]
     },
     "execution_count": 79,
     "metadata": {},
     "output_type": "execute_result"
    }
   ],
   "source": [
    "df_lic.isnull().sum()"
   ]
  },
  {
   "cell_type": "code",
   "execution_count": 80,
   "metadata": {},
   "outputs": [
    {
     "data": {
      "text/plain": [
       "ORGAO_LICITANTE            80\n",
       "NUM_LICITACAO               2\n",
       "OBJ_LICITACAO               1\n",
       "MODALIDADE_LICITACAO        1\n",
       "PROCESSO                   14\n",
       "DATA_ABERTURA              19\n",
       "VALOR_ESTIMADO             48\n",
       "CODIGO_SISTEMA_COMPRAS     69\n",
       "SISTEMA_COMPRAS            29\n",
       "NOME_RESPONSAVEL          109\n",
       "treated_text                0\n",
       "IOB                         0\n",
       "dtype: int64"
      ]
     },
     "execution_count": 80,
     "metadata": {},
     "output_type": "execute_result"
    }
   ],
   "source": [
    "df_not_lic.isnull().sum()"
   ]
  },
  {
   "cell_type": "code",
   "execution_count": 81,
   "metadata": {},
   "outputs": [],
   "source": [
    "df_real = df.drop(df_lic.index)\n",
    "df_real = df_real.drop(df_not_lic.index)"
   ]
  },
  {
   "cell_type": "code",
   "execution_count": 82,
   "metadata": {},
   "outputs": [
    {
     "data": {
      "text/plain": [
       "127"
      ]
     },
     "execution_count": 82,
     "metadata": {},
     "output_type": "execute_result"
    }
   ],
   "source": [
    "len(df_real)"
   ]
  },
  {
   "cell_type": "code",
   "execution_count": 83,
   "metadata": {},
   "outputs": [],
   "source": [
    "train = pd.concat([df_lic, df_real[:int(len(df)*0.7) - len(df_lic)]])\n",
    "test = pd.concat([df_real[int(len(df)*0.7) - len(df_lic):], df_not_lic])"
   ]
  },
  {
   "cell_type": "code",
   "execution_count": 84,
   "metadata": {},
   "outputs": [
    {
     "data": {
      "text/plain": [
       "(304, 131, 435)"
      ]
     },
     "execution_count": 84,
     "metadata": {},
     "output_type": "execute_result"
    }
   ],
   "source": [
    "len(train), len(test), len(df)"
   ]
  },
  {
   "cell_type": "code",
   "execution_count": 85,
   "metadata": {},
   "outputs": [
    {
     "data": {
      "text/plain": [
       "ORGAO_LICITANTE            82\n",
       "NUM_LICITACAO               2\n",
       "OBJ_LICITACAO               1\n",
       "MODALIDADE_LICITACAO        1\n",
       "PROCESSO                   15\n",
       "DATA_ABERTURA              19\n",
       "VALOR_ESTIMADO             50\n",
       "CODIGO_SISTEMA_COMPRAS     71\n",
       "SISTEMA_COMPRAS            31\n",
       "NOME_RESPONSAVEL          111\n",
       "treated_text                0\n",
       "IOB                         0\n",
       "dtype: int64"
      ]
     },
     "execution_count": 85,
     "metadata": {},
     "output_type": "execute_result"
    }
   ],
   "source": [
    "test.isnull().sum()"
   ]
  },
  {
   "cell_type": "code",
   "execution_count": 86,
   "metadata": {},
   "outputs": [
    {
     "data": {
      "text/plain": [
       "ORGAO_LICITANTE           192\n",
       "NUM_LICITACAO               5\n",
       "OBJ_LICITACAO               1\n",
       "MODALIDADE_LICITACAO        7\n",
       "PROCESSO                   52\n",
       "DATA_ABERTURA              19\n",
       "VALOR_ESTIMADO            167\n",
       "CODIGO_SISTEMA_COMPRAS    180\n",
       "SISTEMA_COMPRAS            58\n",
       "NOME_RESPONSAVEL          131\n",
       "treated_text                0\n",
       "IOB                         0\n",
       "dtype: int64"
      ]
     },
     "execution_count": 86,
     "metadata": {},
     "output_type": "execute_result"
    }
   ],
   "source": [
    "train.isnull().sum()"
   ]
  },
  {
   "cell_type": "code",
   "execution_count": 87,
   "metadata": {},
   "outputs": [
    {
     "name": "stdout",
     "output_type": "stream",
     "text": [
      "ORGAO_LICITANTE: 69.56521739130434%\n",
      "NUM_LICITACAO: 69.85981308411215%\n",
      "OBJ_LICITACAO: 69.9769053117783%\n",
      "MODALIDADE_LICITACAO: 69.55503512880563%\n",
      "PROCESSO: 68.47826086956522%\n",
      "DATA_ABERTURA: 71.78841309823677%\n",
      "VALOR_ESTIMADO: 62.84403669724771%\n",
      "CODIGO_SISTEMA_COMPRAS: 67.3913043478261%\n",
      "SISTEMA_COMPRAS: 71.09826589595376%\n",
      "NOME_RESPONSAVEL: 89.63730569948187%\n",
      "treated_text: 69.88505747126437%\n",
      "IOB: 69.88505747126437%\n"
     ]
    }
   ],
   "source": [
    "i = 0\n",
    "for col in list(df.columns):\n",
    "    print(f'{col}: {((len(train) - list(train.isnull().sum())[i]) * 100) / (len(df) - list(df.isnull().sum())[i])}%')\n",
    "    i += 1"
   ]
  },
  {
   "cell_type": "code",
   "execution_count": 88,
   "metadata": {},
   "outputs": [],
   "source": [
    "train = train.reset_index(drop=True)\n",
    "test = test.reset_index(drop=True)"
   ]
  },
  {
   "cell_type": "code",
   "execution_count": 89,
   "metadata": {},
   "outputs": [],
   "source": [
    "train.to_parquet('train.parquet')\n",
    "test.to_parquet('test.parquet')"
   ]
  },
  {
   "cell_type": "code",
   "execution_count": 92,
   "metadata": {},
   "outputs": [
    {
     "data": {
      "text/plain": [
       "(304, 131, 435)"
      ]
     },
     "execution_count": 92,
     "metadata": {},
     "output_type": "execute_result"
    }
   ],
   "source": [
    "train = pd.read_parquet('train.parquet')\n",
    "test = pd.read_parquet('test.parquet')\n",
    "\n",
    "len(train), len(test), len(train) + len(test)"
   ]
  },
  {
   "cell_type": "code",
   "execution_count": null,
   "metadata": {},
   "outputs": [],
   "source": []
  }
 ],
 "metadata": {
  "interpreter": {
   "hash": "d973542429c9f505f96bdf709f83097f4740f6c9df1afcdf6fa66ab031bc1ccc"
  },
  "kernelspec": {
   "display_name": "Python 3.9.7 ('ian': venv)",
   "language": "python",
   "name": "python3"
  },
  "language_info": {
   "codemirror_mode": {
    "name": "ipython",
    "version": 3
   },
   "file_extension": ".py",
   "mimetype": "text/x-python",
   "name": "python",
   "nbconvert_exporter": "python",
   "pygments_lexer": "ipython3",
   "version": "3.9.7"
  },
  "orig_nbformat": 4
 },
 "nbformat": 4,
 "nbformat_minor": 2
}
