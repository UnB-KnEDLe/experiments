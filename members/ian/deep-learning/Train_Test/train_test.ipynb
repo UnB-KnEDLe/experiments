{
 "cells": [
  {
   "cell_type": "code",
   "execution_count": 5,
   "metadata": {},
   "outputs": [],
   "source": [
    "import os\n",
    "import re\n",
    "import pandas as pd\n",
    "import numpy as np"
   ]
  },
  {
   "cell_type": "code",
   "execution_count": 6,
   "metadata": {},
   "outputs": [
    {
     "data": {
      "text/html": [
       "<div>\n",
       "<style scoped>\n",
       "    .dataframe tbody tr th:only-of-type {\n",
       "        vertical-align: middle;\n",
       "    }\n",
       "\n",
       "    .dataframe tbody tr th {\n",
       "        vertical-align: top;\n",
       "    }\n",
       "\n",
       "    .dataframe thead th {\n",
       "        text-align: right;\n",
       "    }\n",
       "</style>\n",
       "<table border=\"1\" class=\"dataframe\">\n",
       "  <thead>\n",
       "    <tr style=\"text-align: right;\">\n",
       "      <th></th>\n",
       "      <th>ORGAO_LICITANTE</th>\n",
       "      <th>NUM_LICITACAO</th>\n",
       "      <th>OBJ_LICITACAO</th>\n",
       "      <th>MODALIDADE_LICITACAO</th>\n",
       "      <th>PROCESSO</th>\n",
       "      <th>DATA_ABERTURA</th>\n",
       "      <th>TIPO_OBJ</th>\n",
       "      <th>VALOR_ESTIMADO</th>\n",
       "      <th>CODIGO_SISTEMA_COMPRAS</th>\n",
       "      <th>SISTEMA_COMPRAS</th>\n",
       "      <th>treated_text</th>\n",
       "      <th>IOB</th>\n",
       "    </tr>\n",
       "  </thead>\n",
       "  <tbody>\n",
       "    <tr>\n",
       "      <th>0</th>\n",
       "      <td>None</td>\n",
       "      <td>01/2021</td>\n",
       "      <td>Contratação de Concessionária Autorizada pela ...</td>\n",
       "      <td>PREGÃO ELETRÔNICO</td>\n",
       "      <td>00052-00021170/2020-47</td>\n",
       "      <td>None</td>\n",
       "      <td>prestação de serviços</td>\n",
       "      <td>R$ 826.897,20</td>\n",
       "      <td>926015</td>\n",
       "      <td>www.comprasnet.gov.br</td>\n",
       "      <td>AVISO DE LICITAÇÃO PREGÃO ELETRÔNICO Nº 01/202...</td>\n",
       "      <td>O O O B-MODALIDADE_LICITACAO I-MODALIDADE_LICI...</td>\n",
       "    </tr>\n",
       "    <tr>\n",
       "      <th>1</th>\n",
       "      <td>None</td>\n",
       "      <td>50/2018</td>\n",
       "      <td>Contratação de empresa especializada para forn...</td>\n",
       "      <td>PREGÃO ELETRÔNICO</td>\n",
       "      <td>0052.0001119/2017</td>\n",
       "      <td>None</td>\n",
       "      <td>fornecimento de licenças de software</td>\n",
       "      <td>8.568.972,28</td>\n",
       "      <td>926015</td>\n",
       "      <td>www.comprasnet.gov.br</td>\n",
       "      <td>AVISO DE LICITAÇÃO PREGÃO ELETRÔNICO Nº 50/201...</td>\n",
       "      <td>O O O B-MODALIDADE_LICITACAO I-MODALIDADE_LICI...</td>\n",
       "    </tr>\n",
       "    <tr>\n",
       "      <th>2</th>\n",
       "      <td>None</td>\n",
       "      <td>14/2021</td>\n",
       "      <td>Aquisição de lubrificantes (graxa, lubrificant...</td>\n",
       "      <td>PREGÃO ELETRÔNICO</td>\n",
       "      <td>092.041904/2020</td>\n",
       "      <td>01/02/2021</td>\n",
       "      <td>Aquisição</td>\n",
       "      <td>None</td>\n",
       "      <td>974200</td>\n",
       "      <td>www.comprasnet.gov.br</td>\n",
       "      <td>PREGÃO ELETRÔNICO Nº 14/2021 Processo: 092.041...</td>\n",
       "      <td>B-MODALIDADE_LICITACAO I-MODALIDADE_LICITACAO ...</td>\n",
       "    </tr>\n",
       "    <tr>\n",
       "      <th>3</th>\n",
       "      <td>None</td>\n",
       "      <td>02/2021</td>\n",
       "      <td>A presente licitação tem como objeto, Registro...</td>\n",
       "      <td>PREGÃO ELETRÔNICO</td>\n",
       "      <td>00070-00004150/2020-93</td>\n",
       "      <td>21/01/2021</td>\n",
       "      <td>Registro de Preços</td>\n",
       "      <td>R$ 1.346.049,80</td>\n",
       "      <td>None</td>\n",
       "      <td>WWwW.comprasgovernamentais.gov.br</td>\n",
       "      <td>AVISO DE LICITAÇÃO PREGÃO ELETRÔNICO (SRP) Nº ...</td>\n",
       "      <td>O O O B-MODALIDADE_LICITACAO I-MODALIDADE_LICI...</td>\n",
       "    </tr>\n",
       "    <tr>\n",
       "      <th>4</th>\n",
       "      <td>None</td>\n",
       "      <td>144/2006</td>\n",
       "      <td>AQUISI- çÃo çÃo DE MATERIAL DE LIMPEZA E PRODU...</td>\n",
       "      <td>TOMADA DE PREÇOS</td>\n",
       "      <td>052.001.505/2005</td>\n",
       "      <td>10 de janeiro de 2006</td>\n",
       "      <td>AQUISI- çÃo çÃo</td>\n",
       "      <td>None</td>\n",
       "      <td>None</td>\n",
       "      <td>www.compras.df.gov.br</td>\n",
       "      <td>AVISO DE LICITAÇÃO TOMADA DE PREÇOS Nº 144/200...</td>\n",
       "      <td>O O O B-MODALIDADE_LICITACAO I-MODALIDADE_LICI...</td>\n",
       "    </tr>\n",
       "    <tr>\n",
       "      <th>...</th>\n",
       "      <td>...</td>\n",
       "      <td>...</td>\n",
       "      <td>...</td>\n",
       "      <td>...</td>\n",
       "      <td>...</td>\n",
       "      <td>...</td>\n",
       "      <td>...</td>\n",
       "      <td>...</td>\n",
       "      <td>...</td>\n",
       "      <td>...</td>\n",
       "      <td>...</td>\n",
       "      <td>...</td>\n",
       "    </tr>\n",
       "    <tr>\n",
       "      <th>229</th>\n",
       "      <td>None</td>\n",
       "      <td>442/2004</td>\n",
       "      <td>Aquisição de material de consumo farmacológico...</td>\n",
       "      <td>PREGÃO</td>\n",
       "      <td>None</td>\n",
       "      <td>24/08/2004</td>\n",
       "      <td>Aquisição</td>\n",
       "      <td>None</td>\n",
       "      <td>None</td>\n",
       "      <td>None</td>\n",
       "      <td>PREGÃO Nº 442/2004 SUCOM/SEF/DF Objeto: Aquisi...</td>\n",
       "      <td>B-MODALIDADE_LICITACAO O B-NUM_LICITACAO I-NUM...</td>\n",
       "    </tr>\n",
       "    <tr>\n",
       "      <th>230</th>\n",
       "      <td>None</td>\n",
       "      <td>451/2004</td>\n",
       "      <td>Aquisição de medicamentos (Lamivudina, octreot...</td>\n",
       "      <td>PREGÃO</td>\n",
       "      <td>None</td>\n",
       "      <td>02/09/2004</td>\n",
       "      <td>Aquisição</td>\n",
       "      <td>None</td>\n",
       "      <td>None</td>\n",
       "      <td>None</td>\n",
       "      <td>PREGÃO Nº 451/2004 SUCOM/SEF/DF Objeto: Aquisi...</td>\n",
       "      <td>B-MODALIDADE_LICITACAO O B-NUM_LICITACAO I-NUM...</td>\n",
       "    </tr>\n",
       "    <tr>\n",
       "      <th>231</th>\n",
       "      <td>None</td>\n",
       "      <td>024/2002</td>\n",
       "      <td>aquisi- ção ção de conectores</td>\n",
       "      <td>Tomada de Preços de Material</td>\n",
       "      <td>None</td>\n",
       "      <td>10/02/2003</td>\n",
       "      <td>aquisi- ção ção</td>\n",
       "      <td>None</td>\n",
       "      <td>None</td>\n",
       "      <td>None</td>\n",
       "      <td>AVISO DE LICITAÇÃO A COMPANHIA ENERGÉTICA DE B...</td>\n",
       "      <td>O O O O O O O O O O O O O O O O O O O O O O O ...</td>\n",
       "    </tr>\n",
       "    <tr>\n",
       "      <th>232</th>\n",
       "      <td>None</td>\n",
       "      <td>005/2002</td>\n",
       "      <td>Aquisição de materiais permanentes para uso na...</td>\n",
       "      <td>TOMADA DE PREÇOS</td>\n",
       "      <td>053.000.918/2002</td>\n",
       "      <td>11/10/2002</td>\n",
       "      <td>Aquisição</td>\n",
       "      <td>None</td>\n",
       "      <td>None</td>\n",
       "      <td>None</td>\n",
       "      <td>AVISO DE LICITAÇÃO PROCESSO N.º 053.000.918/20...</td>\n",
       "      <td>O O O O O O B-PROCESSO I-PROCESSO O O B-MODALI...</td>\n",
       "    </tr>\n",
       "    <tr>\n",
       "      <th>233</th>\n",
       "      <td>COMPANHIA ENERGÉTICA DE BRASÍLIA CEB</td>\n",
       "      <td>31/2000</td>\n",
       "      <td>None</td>\n",
       "      <td>TOMADA DE PREÇOS</td>\n",
       "      <td>None</td>\n",
       "      <td>31/07/2000</td>\n",
       "      <td>None</td>\n",
       "      <td>None</td>\n",
       "      <td>None</td>\n",
       "      <td>None</td>\n",
       "      <td>AVISO DE LICITAÇÃO TOMADA DE PREÇOS Nº 31/2000...</td>\n",
       "      <td>O O O B-MODALIDADE_LICITACAO I-MODALIDADE_LICI...</td>\n",
       "    </tr>\n",
       "  </tbody>\n",
       "</table>\n",
       "<p>234 rows × 12 columns</p>\n",
       "</div>"
      ],
      "text/plain": [
       "                          ORGAO_LICITANTE NUM_LICITACAO  \\\n",
       "0                                    None       01/2021   \n",
       "1                                    None       50/2018   \n",
       "2                                    None       14/2021   \n",
       "3                                    None       02/2021   \n",
       "4                                    None      144/2006   \n",
       "..                                    ...           ...   \n",
       "229                                  None      442/2004   \n",
       "230                                  None      451/2004   \n",
       "231                                  None      024/2002   \n",
       "232                                  None      005/2002   \n",
       "233  COMPANHIA ENERGÉTICA DE BRASÍLIA CEB       31/2000   \n",
       "\n",
       "                                         OBJ_LICITACAO  \\\n",
       "0    Contratação de Concessionária Autorizada pela ...   \n",
       "1    Contratação de empresa especializada para forn...   \n",
       "2    Aquisição de lubrificantes (graxa, lubrificant...   \n",
       "3    A presente licitação tem como objeto, Registro...   \n",
       "4    AQUISI- çÃo çÃo DE MATERIAL DE LIMPEZA E PRODU...   \n",
       "..                                                 ...   \n",
       "229  Aquisição de material de consumo farmacológico...   \n",
       "230  Aquisição de medicamentos (Lamivudina, octreot...   \n",
       "231                      aquisi- ção ção de conectores   \n",
       "232  Aquisição de materiais permanentes para uso na...   \n",
       "233                                               None   \n",
       "\n",
       "             MODALIDADE_LICITACAO                PROCESSO  \\\n",
       "0               PREGÃO ELETRÔNICO  00052-00021170/2020-47   \n",
       "1               PREGÃO ELETRÔNICO       0052.0001119/2017   \n",
       "2               PREGÃO ELETRÔNICO         092.041904/2020   \n",
       "3               PREGÃO ELETRÔNICO  00070-00004150/2020-93   \n",
       "4                TOMADA DE PREÇOS        052.001.505/2005   \n",
       "..                            ...                     ...   \n",
       "229                        PREGÃO                    None   \n",
       "230                        PREGÃO                    None   \n",
       "231  Tomada de Preços de Material                    None   \n",
       "232              TOMADA DE PREÇOS        053.000.918/2002   \n",
       "233              TOMADA DE PREÇOS                    None   \n",
       "\n",
       "             DATA_ABERTURA                              TIPO_OBJ  \\\n",
       "0                     None                 prestação de serviços   \n",
       "1                     None  fornecimento de licenças de software   \n",
       "2               01/02/2021                             Aquisição   \n",
       "3               21/01/2021                    Registro de Preços   \n",
       "4    10 de janeiro de 2006                       AQUISI- çÃo çÃo   \n",
       "..                     ...                                   ...   \n",
       "229             24/08/2004                             Aquisição   \n",
       "230             02/09/2004                             Aquisição   \n",
       "231             10/02/2003                       aquisi- ção ção   \n",
       "232             11/10/2002                             Aquisição   \n",
       "233             31/07/2000                                  None   \n",
       "\n",
       "      VALOR_ESTIMADO CODIGO_SISTEMA_COMPRAS  \\\n",
       "0      R$ 826.897,20                 926015   \n",
       "1       8.568.972,28                 926015   \n",
       "2               None                 974200   \n",
       "3    R$ 1.346.049,80                   None   \n",
       "4               None                   None   \n",
       "..               ...                    ...   \n",
       "229             None                   None   \n",
       "230             None                   None   \n",
       "231             None                   None   \n",
       "232             None                   None   \n",
       "233             None                   None   \n",
       "\n",
       "                       SISTEMA_COMPRAS  \\\n",
       "0                www.comprasnet.gov.br   \n",
       "1                www.comprasnet.gov.br   \n",
       "2                www.comprasnet.gov.br   \n",
       "3    WWwW.comprasgovernamentais.gov.br   \n",
       "4                www.compras.df.gov.br   \n",
       "..                                 ...   \n",
       "229                               None   \n",
       "230                               None   \n",
       "231                               None   \n",
       "232                               None   \n",
       "233                               None   \n",
       "\n",
       "                                          treated_text  \\\n",
       "0    AVISO DE LICITAÇÃO PREGÃO ELETRÔNICO Nº 01/202...   \n",
       "1    AVISO DE LICITAÇÃO PREGÃO ELETRÔNICO Nº 50/201...   \n",
       "2    PREGÃO ELETRÔNICO Nº 14/2021 Processo: 092.041...   \n",
       "3    AVISO DE LICITAÇÃO PREGÃO ELETRÔNICO (SRP) Nº ...   \n",
       "4    AVISO DE LICITAÇÃO TOMADA DE PREÇOS Nº 144/200...   \n",
       "..                                                 ...   \n",
       "229  PREGÃO Nº 442/2004 SUCOM/SEF/DF Objeto: Aquisi...   \n",
       "230  PREGÃO Nº 451/2004 SUCOM/SEF/DF Objeto: Aquisi...   \n",
       "231  AVISO DE LICITAÇÃO A COMPANHIA ENERGÉTICA DE B...   \n",
       "232  AVISO DE LICITAÇÃO PROCESSO N.º 053.000.918/20...   \n",
       "233  AVISO DE LICITAÇÃO TOMADA DE PREÇOS Nº 31/2000...   \n",
       "\n",
       "                                                   IOB  \n",
       "0    O O O B-MODALIDADE_LICITACAO I-MODALIDADE_LICI...  \n",
       "1    O O O B-MODALIDADE_LICITACAO I-MODALIDADE_LICI...  \n",
       "2    B-MODALIDADE_LICITACAO I-MODALIDADE_LICITACAO ...  \n",
       "3    O O O B-MODALIDADE_LICITACAO I-MODALIDADE_LICI...  \n",
       "4    O O O B-MODALIDADE_LICITACAO I-MODALIDADE_LICI...  \n",
       "..                                                 ...  \n",
       "229  B-MODALIDADE_LICITACAO O B-NUM_LICITACAO I-NUM...  \n",
       "230  B-MODALIDADE_LICITACAO O B-NUM_LICITACAO I-NUM...  \n",
       "231  O O O O O O O O O O O O O O O O O O O O O O O ...  \n",
       "232  O O O O O O B-PROCESSO I-PROCESSO O O B-MODALI...  \n",
       "233  O O O B-MODALIDADE_LICITACAO I-MODALIDADE_LICI...  \n",
       "\n",
       "[234 rows x 12 columns]"
      ]
     },
     "execution_count": 6,
     "metadata": {},
     "output_type": "execute_result"
    }
   ],
   "source": [
    "df = pd.read_parquet('../acts_parquet/aviso_licitacao_all_entities_iob.parquet')\n",
    "df"
   ]
  },
  {
   "cell_type": "code",
   "execution_count": 7,
   "metadata": {},
   "outputs": [
    {
     "data": {
      "text/plain": [
       "ORGAO_LICITANTE           195\n",
       "NUM_LICITACAO               2\n",
       "OBJ_LICITACAO               1\n",
       "MODALIDADE_LICITACAO        1\n",
       "PROCESSO                   62\n",
       "DATA_ABERTURA              29\n",
       "TIPO_OBJ                   11\n",
       "VALOR_ESTIMADO            166\n",
       "CODIGO_SISTEMA_COMPRAS    191\n",
       "SISTEMA_COMPRAS            67\n",
       "treated_text                0\n",
       "IOB                         0\n",
       "dtype: int64"
      ]
     },
     "execution_count": 7,
     "metadata": {},
     "output_type": "execute_result"
    }
   ],
   "source": [
    "df.isnull().sum()"
   ]
  },
  {
   "cell_type": "code",
   "execution_count": 8,
   "metadata": {},
   "outputs": [],
   "source": [
    "ORGAO_LICITANTE = []\n",
    "VALOR_ESTIMADO = []\n",
    "CODIGO_SISTEMA_COMPRAS = []\n",
    "\n",
    "\n",
    "for i in range(len(df)):\n",
    "    if df['ORGAO_LICITANTE'][i] != None:\n",
    "        ORGAO_LICITANTE.append(i)\n",
    "    if df['VALOR_ESTIMADO'][i] != None:\n",
    "        VALOR_ESTIMADO.append(i)\n",
    "    if df['CODIGO_SISTEMA_COMPRAS'][i] != None:\n",
    "        CODIGO_SISTEMA_COMPRAS.append(i)"
   ]
  },
  {
   "cell_type": "code",
   "execution_count": 9,
   "metadata": {},
   "outputs": [
    {
     "data": {
      "text/plain": [
       "(39, 68, 43)"
      ]
     },
     "execution_count": 9,
     "metadata": {},
     "output_type": "execute_result"
    }
   ],
   "source": [
    "len(ORGAO_LICITANTE), len(VALOR_ESTIMADO), len(CODIGO_SISTEMA_COMPRAS)"
   ]
  },
  {
   "cell_type": "code",
   "execution_count": 10,
   "metadata": {},
   "outputs": [],
   "source": [
    "ORGAO_LICITANTE_1 = ORGAO_LICITANTE[:(len(ORGAO_LICITANTE)*70)//100]\n",
    "ORGAO_LICITANTE_2 = ORGAO_LICITANTE[(len(ORGAO_LICITANTE)*70)//100:]\n",
    "\n",
    "VALOR_ESTIMADO_set = set(VALOR_ESTIMADO).difference(set(ORGAO_LICITANTE_2))\n",
    "VALOR_ESTIMADO_1 = list(VALOR_ESTIMADO_set)[:(len(VALOR_ESTIMADO_set)*70)//100]\n",
    "VALOR_ESTIMADO_2 = set(list(VALOR_ESTIMADO_set)[(len(VALOR_ESTIMADO_set)*70)//100:]).difference(set(ORGAO_LICITANTE_1))\n",
    "\n",
    "CODIGO_SISTEMA_COMPRAS_set = set(CODIGO_SISTEMA_COMPRAS).difference(set(ORGAO_LICITANTE_2))\n",
    "CODIGO_SISTEMA_COMPRAS_set = set(CODIGO_SISTEMA_COMPRAS_set).difference(set(VALOR_ESTIMADO_2))\n",
    "CODIGO_SISTEMA_COMPRAS_1 = list(CODIGO_SISTEMA_COMPRAS_set)[:(len(CODIGO_SISTEMA_COMPRAS_set)*70)//100]\n",
    "CODIGO_SISTEMA_COMPRAS_2 = set(list(CODIGO_SISTEMA_COMPRAS_set)[(len(CODIGO_SISTEMA_COMPRAS_set)*70)//100:]).difference(set(ORGAO_LICITANTE_1))\n",
    "CODIGO_SISTEMA_COMPRAS_2 = set(list(CODIGO_SISTEMA_COMPRAS_set)[(len(CODIGO_SISTEMA_COMPRAS_set)*70)//100:]).difference(set(VALOR_ESTIMADO_1))\n"
   ]
  },
  {
   "cell_type": "code",
   "execution_count": 11,
   "metadata": {},
   "outputs": [
    {
     "data": {
      "text/plain": [
       "(27, 12, 44, 15, 23, 3)"
      ]
     },
     "execution_count": 11,
     "metadata": {},
     "output_type": "execute_result"
    }
   ],
   "source": [
    "len(ORGAO_LICITANTE_1), len(ORGAO_LICITANTE_2), len(VALOR_ESTIMADO_1), len(VALOR_ESTIMADO_2), len(CODIGO_SISTEMA_COMPRAS_1), len(CODIGO_SISTEMA_COMPRAS_2)"
   ]
  },
  {
   "cell_type": "code",
   "execution_count": 12,
   "metadata": {},
   "outputs": [],
   "source": [
    "lic = []\n",
    "\n",
    "lic.extend(ORGAO_LICITANTE_1)\n",
    "lic.extend(VALOR_ESTIMADO_1)\n",
    "lic.extend(CODIGO_SISTEMA_COMPRAS_1)\n",
    "\n",
    "lic = sorted(list(set(lic)))"
   ]
  },
  {
   "cell_type": "code",
   "execution_count": 13,
   "metadata": {},
   "outputs": [],
   "source": [
    "not_lic = []\n",
    "\n",
    "not_lic.extend(ORGAO_LICITANTE_2)\n",
    "not_lic.extend(VALOR_ESTIMADO_2)\n",
    "not_lic.extend(CODIGO_SISTEMA_COMPRAS_2)\n",
    "\n",
    "not_lic = sorted(list(set(not_lic)))"
   ]
  },
  {
   "cell_type": "code",
   "execution_count": 14,
   "metadata": {},
   "outputs": [
    {
     "data": {
      "text/plain": [
       "(77, 30)"
      ]
     },
     "execution_count": 14,
     "metadata": {},
     "output_type": "execute_result"
    }
   ],
   "source": [
    "len(lic), len(not_lic)"
   ]
  },
  {
   "cell_type": "code",
   "execution_count": 15,
   "metadata": {},
   "outputs": [],
   "source": [
    "for i in lic:\n",
    "    for j in not_lic:\n",
    "        if i == j:\n",
    "            print(i)"
   ]
  },
  {
   "cell_type": "code",
   "execution_count": 16,
   "metadata": {},
   "outputs": [],
   "source": [
    "df_lic = df.iloc[lic]\n",
    "df_not_lic = df.iloc[not_lic]"
   ]
  },
  {
   "cell_type": "code",
   "execution_count": 17,
   "metadata": {},
   "outputs": [
    {
     "data": {
      "text/plain": [
       "(77, 30)"
      ]
     },
     "execution_count": 17,
     "metadata": {},
     "output_type": "execute_result"
    }
   ],
   "source": [
    "len(df_lic), len(df_not_lic)"
   ]
  },
  {
   "cell_type": "code",
   "execution_count": 18,
   "metadata": {},
   "outputs": [
    {
     "data": {
      "text/plain": [
       "ORGAO_LICITANTE           50\n",
       "NUM_LICITACAO              2\n",
       "OBJ_LICITACAO              0\n",
       "MODALIDADE_LICITACAO       1\n",
       "PROCESSO                   9\n",
       "DATA_ABERTURA             15\n",
       "TIPO_OBJ                   5\n",
       "VALOR_ESTIMADO            29\n",
       "CODIGO_SISTEMA_COMPRAS    46\n",
       "SISTEMA_COMPRAS           18\n",
       "treated_text               0\n",
       "IOB                        0\n",
       "dtype: int64"
      ]
     },
     "execution_count": 18,
     "metadata": {},
     "output_type": "execute_result"
    }
   ],
   "source": [
    "df_lic.isnull().sum()"
   ]
  },
  {
   "cell_type": "code",
   "execution_count": 19,
   "metadata": {},
   "outputs": [
    {
     "data": {
      "text/plain": [
       "ORGAO_LICITANTE           18\n",
       "NUM_LICITACAO              0\n",
       "OBJ_LICITACAO              1\n",
       "MODALIDADE_LICITACAO       0\n",
       "PROCESSO                   5\n",
       "DATA_ABERTURA              4\n",
       "TIPO_OBJ                   1\n",
       "VALOR_ESTIMADO            10\n",
       "CODIGO_SISTEMA_COMPRAS    18\n",
       "SISTEMA_COMPRAS            9\n",
       "treated_text               0\n",
       "IOB                        0\n",
       "dtype: int64"
      ]
     },
     "execution_count": 19,
     "metadata": {},
     "output_type": "execute_result"
    }
   ],
   "source": [
    "df_not_lic.isnull().sum()"
   ]
  },
  {
   "cell_type": "code",
   "execution_count": 20,
   "metadata": {},
   "outputs": [],
   "source": [
    "df_real = df.drop(df_lic.index)\n",
    "df_real = df_real.drop(df_not_lic.index)"
   ]
  },
  {
   "cell_type": "code",
   "execution_count": 21,
   "metadata": {},
   "outputs": [
    {
     "data": {
      "text/plain": [
       "127"
      ]
     },
     "execution_count": 21,
     "metadata": {},
     "output_type": "execute_result"
    }
   ],
   "source": [
    "len(df_real)"
   ]
  },
  {
   "cell_type": "code",
   "execution_count": 22,
   "metadata": {},
   "outputs": [],
   "source": [
    "train = pd.concat([df_lic, df_real[:int(len(df)*0.7) - len(df_lic)]])\n",
    "test = pd.concat([df_real[int(len(df)*0.7) - len(df_lic):], df_not_lic])"
   ]
  },
  {
   "cell_type": "code",
   "execution_count": 23,
   "metadata": {},
   "outputs": [
    {
     "data": {
      "text/plain": [
       "(163, 71, 234)"
      ]
     },
     "execution_count": 23,
     "metadata": {},
     "output_type": "execute_result"
    }
   ],
   "source": [
    "len(train), len(test), len(df)"
   ]
  },
  {
   "cell_type": "code",
   "execution_count": 24,
   "metadata": {},
   "outputs": [
    {
     "data": {
      "text/plain": [
       "ORGAO_LICITANTE           59\n",
       "NUM_LICITACAO              0\n",
       "OBJ_LICITACAO              1\n",
       "MODALIDADE_LICITACAO       0\n",
       "PROCESSO                  19\n",
       "DATA_ABERTURA              6\n",
       "TIPO_OBJ                   2\n",
       "VALOR_ESTIMADO            51\n",
       "CODIGO_SISTEMA_COMPRAS    59\n",
       "SISTEMA_COMPRAS           23\n",
       "treated_text               0\n",
       "IOB                        0\n",
       "dtype: int64"
      ]
     },
     "execution_count": 24,
     "metadata": {},
     "output_type": "execute_result"
    }
   ],
   "source": [
    "test.isnull().sum()"
   ]
  },
  {
   "cell_type": "code",
   "execution_count": 25,
   "metadata": {},
   "outputs": [
    {
     "data": {
      "text/plain": [
       "ORGAO_LICITANTE           136\n",
       "NUM_LICITACAO               2\n",
       "OBJ_LICITACAO               0\n",
       "MODALIDADE_LICITACAO        1\n",
       "PROCESSO                   43\n",
       "DATA_ABERTURA              23\n",
       "TIPO_OBJ                    9\n",
       "VALOR_ESTIMADO            115\n",
       "CODIGO_SISTEMA_COMPRAS    132\n",
       "SISTEMA_COMPRAS            44\n",
       "treated_text                0\n",
       "IOB                         0\n",
       "dtype: int64"
      ]
     },
     "execution_count": 25,
     "metadata": {},
     "output_type": "execute_result"
    }
   ],
   "source": [
    "train.isnull().sum()"
   ]
  },
  {
   "cell_type": "code",
   "execution_count": 26,
   "metadata": {},
   "outputs": [
    {
     "name": "stdout",
     "output_type": "stream",
     "text": [
      "ORGAO_LICITANTE: 69.23076923076923%\n",
      "NUM_LICITACAO: 69.39655172413794%\n",
      "OBJ_LICITACAO: 69.95708154506438%\n",
      "MODALIDADE_LICITACAO: 69.52789699570816%\n",
      "PROCESSO: 69.76744186046511%\n",
      "DATA_ABERTURA: 68.29268292682927%\n",
      "TIPO_OBJ: 69.05829596412556%\n",
      "VALOR_ESTIMADO: 70.58823529411765%\n",
      "CODIGO_SISTEMA_COMPRAS: 72.09302325581395%\n",
      "SISTEMA_COMPRAS: 71.25748502994011%\n",
      "treated_text: 69.65811965811966%\n",
      "IOB: 69.65811965811966%\n"
     ]
    }
   ],
   "source": [
    "i = 0\n",
    "for col in list(df.columns):\n",
    "    print(f'{col}: {((len(train) - list(train.isnull().sum())[i]) * 100) / (len(df) - list(df.isnull().sum())[i])}%')\n",
    "    i += 1"
   ]
  },
  {
   "cell_type": "code",
   "execution_count": 27,
   "metadata": {},
   "outputs": [],
   "source": [
    "train = train.reset_index(drop=True)\n",
    "test = test.reset_index(drop=True)"
   ]
  },
  {
   "cell_type": "code",
   "execution_count": 28,
   "metadata": {},
   "outputs": [],
   "source": [
    "train.to_parquet('train.parquet')\n",
    "test.to_parquet('test.parquet')"
   ]
  },
  {
   "cell_type": "code",
   "execution_count": 29,
   "metadata": {},
   "outputs": [
    {
     "data": {
      "text/plain": [
       "(163, 71)"
      ]
     },
     "execution_count": 29,
     "metadata": {},
     "output_type": "execute_result"
    }
   ],
   "source": [
    "train = pd.read_parquet('train.parquet')\n",
    "test = pd.read_parquet('test.parquet')\n",
    "\n",
    "len(train), len(test)"
   ]
  },
  {
   "cell_type": "code",
   "execution_count": null,
   "metadata": {},
   "outputs": [],
   "source": []
  }
 ],
 "metadata": {
  "interpreter": {
   "hash": "d973542429c9f505f96bdf709f83097f4740f6c9df1afcdf6fa66ab031bc1ccc"
  },
  "kernelspec": {
   "display_name": "Python 3.9.7 ('ian': venv)",
   "language": "python",
   "name": "python3"
  },
  "language_info": {
   "codemirror_mode": {
    "name": "ipython",
    "version": 3
   },
   "file_extension": ".py",
   "mimetype": "text/x-python",
   "name": "python",
   "nbconvert_exporter": "python",
   "pygments_lexer": "ipython3",
   "version": "3.9.7"
  },
  "orig_nbformat": 4
 },
 "nbformat": 4,
 "nbformat_minor": 2
}
