{
 "cells": [
  {
   "cell_type": "code",
   "execution_count": 1,
   "metadata": {},
   "outputs": [],
   "source": [
    "import os\n",
    "import re\n",
    "import pandas as pd\n",
    "import numpy as np"
   ]
  },
  {
   "cell_type": "code",
   "execution_count": 2,
   "metadata": {},
   "outputs": [
    {
     "data": {
      "text/html": [
       "<div>\n",
       "<style scoped>\n",
       "    .dataframe tbody tr th:only-of-type {\n",
       "        vertical-align: middle;\n",
       "    }\n",
       "\n",
       "    .dataframe tbody tr th {\n",
       "        vertical-align: top;\n",
       "    }\n",
       "\n",
       "    .dataframe thead th {\n",
       "        text-align: right;\n",
       "    }\n",
       "</style>\n",
       "<table border=\"1\" class=\"dataframe\">\n",
       "  <thead>\n",
       "    <tr style=\"text-align: right;\">\n",
       "      <th></th>\n",
       "      <th>ORGAO_LICITANTE</th>\n",
       "      <th>NUM_LICITACAO</th>\n",
       "      <th>OBJ_LICITACAO</th>\n",
       "      <th>MODALIDADE_LICITACAO</th>\n",
       "      <th>PROCESSO</th>\n",
       "      <th>DATA_ABERTURA</th>\n",
       "      <th>TIPO_OBJ</th>\n",
       "      <th>VALOR_ESTIMADO</th>\n",
       "      <th>CODIGO_SISTEMA_COMPRAS</th>\n",
       "      <th>SISTEMA_COMPRAS</th>\n",
       "      <th>treated_text</th>\n",
       "      <th>IOB</th>\n",
       "    </tr>\n",
       "  </thead>\n",
       "  <tbody>\n",
       "    <tr>\n",
       "      <th>0</th>\n",
       "      <td>None</td>\n",
       "      <td>249/00</td>\n",
       "      <td>AQUISIÇÃO DE MATERIAL DE CONSUMO ; MATERIAL PA...</td>\n",
       "      <td>CONVITE</td>\n",
       "      <td>None</td>\n",
       "      <td>24/07/00</td>\n",
       "      <td>AQUISIÇÃO</td>\n",
       "      <td>None</td>\n",
       "      <td>None</td>\n",
       "      <td>http://www fazenda df gov.br</td>\n",
       "      <td>CONVITE Nº 249/00 Objeto: AQUISIÇÃO DE MATERIA...</td>\n",
       "      <td>B-MODALIDADE_LICITACAO O B-NUM_LICITACAO I-NUM...</td>\n",
       "    </tr>\n",
       "    <tr>\n",
       "      <th>1</th>\n",
       "      <td>None</td>\n",
       "      <td>1.437/2008</td>\n",
       "      <td>Contratação de empresa para prestação de servi...</td>\n",
       "      <td>PREGÃO ELETRÔNICO</td>\n",
       "      <td>053.001.258/2008</td>\n",
       "      <td>16 de janeiro de 2009</td>\n",
       "      <td>prestação de serviços</td>\n",
       "      <td>None</td>\n",
       "      <td>None</td>\n",
       "      <td>www.compras.df.gov.br</td>\n",
       "      <td>AVISO DE LICITAÇÃO PREGÃO ELETRÔNICO Nº 1.437/...</td>\n",
       "      <td>O O O B-MODALIDADE_LICITACAO I-MODALIDADE_LICI...</td>\n",
       "    </tr>\n",
       "    <tr>\n",
       "      <th>2</th>\n",
       "      <td>None</td>\n",
       "      <td>5/2003</td>\n",
       "      <td>Aquisição de material de consumo ( limpeza, co...</td>\n",
       "      <td>CONCORRENCIA</td>\n",
       "      <td>None</td>\n",
       "      <td>10.03.2003</td>\n",
       "      <td>None</td>\n",
       "      <td>None</td>\n",
       "      <td>None</td>\n",
       "      <td>www.fazenda.df.gov.br</td>\n",
       "      <td>AVISOS DE LICITAÇÃO CONCORRENCIA N.º 5/2003-Su...</td>\n",
       "      <td>O O O B-MODALIDADE_LICITACAO O O B-NUM_LICITAC...</td>\n",
       "    </tr>\n",
       "    <tr>\n",
       "      <th>3</th>\n",
       "      <td>None</td>\n",
       "      <td>50/2015</td>\n",
       "      <td>Aquisição de material consumo Termoplástico Te...</td>\n",
       "      <td>PREGÃO ELETRÔNICO</td>\n",
       "      <td>113.013360/2015</td>\n",
       "      <td>27 de janeiro de 2016</td>\n",
       "      <td>Aquisição</td>\n",
       "      <td>None</td>\n",
       "      <td>None</td>\n",
       "      <td>None</td>\n",
       "      <td>AVISO DE LICITAÇÃ NOVA DATA PREGÃO ELETRÔNICO ...</td>\n",
       "      <td>O O O O O B-MODALIDADE_LICITACAO I-MODALIDADE_...</td>\n",
       "    </tr>\n",
       "    <tr>\n",
       "      <th>4</th>\n",
       "      <td>None</td>\n",
       "      <td>964/2008</td>\n",
       "      <td>Contratação de firma especializada em confecçã...</td>\n",
       "      <td>PREGÃO ELETRÔNICO</td>\n",
       "      <td>220.000.570/2008</td>\n",
       "      <td>11 de setembro de 2008</td>\n",
       "      <td>Contratação</td>\n",
       "      <td>None</td>\n",
       "      <td>None</td>\n",
       "      <td>www.compras.df.gov.br</td>\n",
       "      <td>PREGÃO ELETRÔNICO Nº 964/2008. Objeto: Contrat...</td>\n",
       "      <td>B-MODALIDADE_LICITACAO I-MODALIDADE_LICITACAO ...</td>\n",
       "    </tr>\n",
       "    <tr>\n",
       "      <th>...</th>\n",
       "      <td>...</td>\n",
       "      <td>...</td>\n",
       "      <td>...</td>\n",
       "      <td>...</td>\n",
       "      <td>...</td>\n",
       "      <td>...</td>\n",
       "      <td>...</td>\n",
       "      <td>...</td>\n",
       "      <td>...</td>\n",
       "      <td>...</td>\n",
       "      <td>...</td>\n",
       "      <td>...</td>\n",
       "    </tr>\n",
       "    <tr>\n",
       "      <th>66</th>\n",
       "      <td>None</td>\n",
       "      <td>224/2014</td>\n",
       "      <td>aquisição de materiais de copa, cozinha, limpe...</td>\n",
       "      <td>PREGÃO ELETRÔNICO</td>\n",
       "      <td>414.000.216/2014</td>\n",
       "      <td>None</td>\n",
       "      <td>aquisição</td>\n",
       "      <td>116.236,56</td>\n",
       "      <td>None</td>\n",
       "      <td>http://www.compras.df.gov.br</td>\n",
       "      <td>AVISO DE LICITAÇÃO NOVA DATA PREGÃO ELETRÔNICO...</td>\n",
       "      <td>O O O O O B-MODALIDADE_LICITACAO I-MODALIDADE_...</td>\n",
       "    </tr>\n",
       "    <tr>\n",
       "      <th>67</th>\n",
       "      <td>ACOMPANHIA DE SANEAMENTO AMBIENTAL DO DISTRITO...</td>\n",
       "      <td>144/2012</td>\n",
       "      <td>Registro de Preços para fornecimento de reagen...</td>\n",
       "      <td>PREGÃO ELETRÔNICO</td>\n",
       "      <td>092.006540/2012</td>\n",
       "      <td>16 de outubro de 2012</td>\n",
       "      <td>Registro de Preços</td>\n",
       "      <td>204.314,58</td>\n",
       "      <td>None</td>\n",
       "      <td>www.licitacoes-e.com.br</td>\n",
       "      <td>PREGÃO ELETRÔNICO Nº 144/2012 ACOMPANHIA DE SA...</td>\n",
       "      <td>B-MODALIDADE_LICITACAO I-MODALIDADE_LICITACAO ...</td>\n",
       "    </tr>\n",
       "    <tr>\n",
       "      <th>68</th>\n",
       "      <td>COMPANHIA DE SANEAMENTO AMBIENTAL DO DISTRITO ...</td>\n",
       "      <td>05/2007</td>\n",
       "      <td>aquisição de peças/acessórios rios para equipa...</td>\n",
       "      <td>TOMADA DE PREÇOS</td>\n",
       "      <td>00092.000.301/2007</td>\n",
       "      <td>09 de maio de 2007</td>\n",
       "      <td>aquisição</td>\n",
       "      <td>None</td>\n",
       "      <td>None</td>\n",
       "      <td>None</td>\n",
       "      <td>AVISO DE LICITAÇÕES TOMADA DE PREÇOS Nº 05/200...</td>\n",
       "      <td>O O O B-MODALIDADE_LICITACAO I-MODALIDADE_LICI...</td>\n",
       "    </tr>\n",
       "    <tr>\n",
       "      <th>69</th>\n",
       "      <td>Centrais de Abastecimento do Distrito Federal S.A</td>\n",
       "      <td>05/2018</td>\n",
       "      <td>contratação de - empresa para a prestação de s...</td>\n",
       "      <td>PREGÃO ELETRÔNICO</td>\n",
       "      <td>071.000040/2018</td>\n",
       "      <td>None</td>\n",
       "      <td>contratação</td>\n",
       "      <td>75.000,00</td>\n",
       "      <td>926245</td>\n",
       "      <td>www.comprasnet.gov.br</td>\n",
       "      <td>AVISO DE LICITAÇÃO EXCLUSIVA PARA ME E EPP PRE...</td>\n",
       "      <td>O O O O O O O O B-MODALIDADE_LICITACAO I-MODAL...</td>\n",
       "    </tr>\n",
       "    <tr>\n",
       "      <th>70</th>\n",
       "      <td>COMPANHIA ENERGÉTICA DE BRASÍLIA CEB</td>\n",
       "      <td>31/2000</td>\n",
       "      <td>None</td>\n",
       "      <td>TOMADA DE PREÇOS</td>\n",
       "      <td>None</td>\n",
       "      <td>31/07/2000</td>\n",
       "      <td>None</td>\n",
       "      <td>None</td>\n",
       "      <td>None</td>\n",
       "      <td>None</td>\n",
       "      <td>AVISO DE LICITAÇÃO TOMADA DE PREÇOS Nº 31/2000...</td>\n",
       "      <td>O O O B-MODALIDADE_LICITACAO I-MODALIDADE_LICI...</td>\n",
       "    </tr>\n",
       "  </tbody>\n",
       "</table>\n",
       "<p>71 rows × 12 columns</p>\n",
       "</div>"
      ],
      "text/plain": [
       "                                      ORGAO_LICITANTE NUM_LICITACAO  \\\n",
       "0                                                None        249/00   \n",
       "1                                                None    1.437/2008   \n",
       "2                                                None        5/2003   \n",
       "3                                                None       50/2015   \n",
       "4                                                None      964/2008   \n",
       "..                                                ...           ...   \n",
       "66                                               None      224/2014   \n",
       "67  ACOMPANHIA DE SANEAMENTO AMBIENTAL DO DISTRITO...      144/2012   \n",
       "68  COMPANHIA DE SANEAMENTO AMBIENTAL DO DISTRITO ...       05/2007   \n",
       "69  Centrais de Abastecimento do Distrito Federal S.A       05/2018   \n",
       "70               COMPANHIA ENERGÉTICA DE BRASÍLIA CEB       31/2000   \n",
       "\n",
       "                                        OBJ_LICITACAO MODALIDADE_LICITACAO  \\\n",
       "0   AQUISIÇÃO DE MATERIAL DE CONSUMO ; MATERIAL PA...              CONVITE   \n",
       "1   Contratação de empresa para prestação de servi...    PREGÃO ELETRÔNICO   \n",
       "2   Aquisição de material de consumo ( limpeza, co...         CONCORRENCIA   \n",
       "3   Aquisição de material consumo Termoplástico Te...    PREGÃO ELETRÔNICO   \n",
       "4   Contratação de firma especializada em confecçã...    PREGÃO ELETRÔNICO   \n",
       "..                                                ...                  ...   \n",
       "66  aquisição de materiais de copa, cozinha, limpe...    PREGÃO ELETRÔNICO   \n",
       "67  Registro de Preços para fornecimento de reagen...    PREGÃO ELETRÔNICO   \n",
       "68  aquisição de peças/acessórios rios para equipa...     TOMADA DE PREÇOS   \n",
       "69  contratação de - empresa para a prestação de s...    PREGÃO ELETRÔNICO   \n",
       "70                                               None     TOMADA DE PREÇOS   \n",
       "\n",
       "              PROCESSO           DATA_ABERTURA               TIPO_OBJ  \\\n",
       "0                 None                24/07/00              AQUISIÇÃO   \n",
       "1     053.001.258/2008   16 de janeiro de 2009  prestação de serviços   \n",
       "2                 None              10.03.2003                   None   \n",
       "3      113.013360/2015   27 de janeiro de 2016              Aquisição   \n",
       "4     220.000.570/2008  11 de setembro de 2008            Contratação   \n",
       "..                 ...                     ...                    ...   \n",
       "66    414.000.216/2014                    None              aquisição   \n",
       "67     092.006540/2012   16 de outubro de 2012     Registro de Preços   \n",
       "68  00092.000.301/2007      09 de maio de 2007              aquisição   \n",
       "69     071.000040/2018                    None            contratação   \n",
       "70                None              31/07/2000                   None   \n",
       "\n",
       "   VALOR_ESTIMADO CODIGO_SISTEMA_COMPRAS               SISTEMA_COMPRAS  \\\n",
       "0            None                   None  http://www fazenda df gov.br   \n",
       "1            None                   None         www.compras.df.gov.br   \n",
       "2            None                   None         www.fazenda.df.gov.br   \n",
       "3            None                   None                          None   \n",
       "4            None                   None         www.compras.df.gov.br   \n",
       "..            ...                    ...                           ...   \n",
       "66     116.236,56                   None  http://www.compras.df.gov.br   \n",
       "67     204.314,58                   None       www.licitacoes-e.com.br   \n",
       "68           None                   None                          None   \n",
       "69      75.000,00                 926245         www.comprasnet.gov.br   \n",
       "70           None                   None                          None   \n",
       "\n",
       "                                         treated_text  \\\n",
       "0   CONVITE Nº 249/00 Objeto: AQUISIÇÃO DE MATERIA...   \n",
       "1   AVISO DE LICITAÇÃO PREGÃO ELETRÔNICO Nº 1.437/...   \n",
       "2   AVISOS DE LICITAÇÃO CONCORRENCIA N.º 5/2003-Su...   \n",
       "3   AVISO DE LICITAÇÃ NOVA DATA PREGÃO ELETRÔNICO ...   \n",
       "4   PREGÃO ELETRÔNICO Nº 964/2008. Objeto: Contrat...   \n",
       "..                                                ...   \n",
       "66  AVISO DE LICITAÇÃO NOVA DATA PREGÃO ELETRÔNICO...   \n",
       "67  PREGÃO ELETRÔNICO Nº 144/2012 ACOMPANHIA DE SA...   \n",
       "68  AVISO DE LICITAÇÕES TOMADA DE PREÇOS Nº 05/200...   \n",
       "69  AVISO DE LICITAÇÃO EXCLUSIVA PARA ME E EPP PRE...   \n",
       "70  AVISO DE LICITAÇÃO TOMADA DE PREÇOS Nº 31/2000...   \n",
       "\n",
       "                                                  IOB  \n",
       "0   B-MODALIDADE_LICITACAO O B-NUM_LICITACAO I-NUM...  \n",
       "1   O O O B-MODALIDADE_LICITACAO I-MODALIDADE_LICI...  \n",
       "2   O O O B-MODALIDADE_LICITACAO O O B-NUM_LICITAC...  \n",
       "3   O O O O O B-MODALIDADE_LICITACAO I-MODALIDADE_...  \n",
       "4   B-MODALIDADE_LICITACAO I-MODALIDADE_LICITACAO ...  \n",
       "..                                                ...  \n",
       "66  O O O O O B-MODALIDADE_LICITACAO I-MODALIDADE_...  \n",
       "67  B-MODALIDADE_LICITACAO I-MODALIDADE_LICITACAO ...  \n",
       "68  O O O B-MODALIDADE_LICITACAO I-MODALIDADE_LICI...  \n",
       "69  O O O O O O O O B-MODALIDADE_LICITACAO I-MODAL...  \n",
       "70  O O O B-MODALIDADE_LICITACAO I-MODALIDADE_LICI...  \n",
       "\n",
       "[71 rows x 12 columns]"
      ]
     },
     "execution_count": 2,
     "metadata": {},
     "output_type": "execute_result"
    }
   ],
   "source": [
    "df = pd.read_parquet('test.parquet')\n",
    "df"
   ]
  },
  {
   "cell_type": "code",
   "execution_count": 3,
   "metadata": {},
   "outputs": [
    {
     "data": {
      "text/plain": [
       "ORGAO_LICITANTE           59\n",
       "NUM_LICITACAO              0\n",
       "OBJ_LICITACAO              1\n",
       "MODALIDADE_LICITACAO       0\n",
       "PROCESSO                  19\n",
       "DATA_ABERTURA              6\n",
       "TIPO_OBJ                   2\n",
       "VALOR_ESTIMADO            51\n",
       "CODIGO_SISTEMA_COMPRAS    59\n",
       "SISTEMA_COMPRAS           23\n",
       "treated_text               0\n",
       "IOB                        0\n",
       "dtype: int64"
      ]
     },
     "execution_count": 3,
     "metadata": {},
     "output_type": "execute_result"
    }
   ],
   "source": [
    "df.isnull().sum()"
   ]
  },
  {
   "cell_type": "code",
   "execution_count": 4,
   "metadata": {},
   "outputs": [],
   "source": [
    "ORGAO_LICITANTE = []\n",
    "VALOR_ESTIMADO = []\n",
    "\n",
    "\n",
    "for i in range(len(df)):\n",
    "    if df['ORGAO_LICITANTE'][i] != None:\n",
    "        ORGAO_LICITANTE.append(i)\n",
    "    if df['VALOR_ESTIMADO'][i] != None:\n",
    "        VALOR_ESTIMADO.append(i)"
   ]
  },
  {
   "cell_type": "code",
   "execution_count": 5,
   "metadata": {},
   "outputs": [
    {
     "data": {
      "text/plain": [
       "(12, 20)"
      ]
     },
     "execution_count": 5,
     "metadata": {},
     "output_type": "execute_result"
    }
   ],
   "source": [
    "len(ORGAO_LICITANTE), len(VALOR_ESTIMADO)"
   ]
  },
  {
   "cell_type": "code",
   "execution_count": 6,
   "metadata": {},
   "outputs": [],
   "source": [
    "ORGAO_LICITANTE_1 = ORGAO_LICITANTE[:(len(ORGAO_LICITANTE)*50)//100]\n",
    "ORGAO_LICITANTE_2 = ORGAO_LICITANTE[(len(ORGAO_LICITANTE)*50)//100:]\n",
    "\n",
    "VALOR_ESTIMADO_set = set(VALOR_ESTIMADO).difference(set(ORGAO_LICITANTE_2))\n",
    "VALOR_ESTIMADO_1 = list(VALOR_ESTIMADO_set)[:(len(VALOR_ESTIMADO_set)*50)//100]\n",
    "VALOR_ESTIMADO_2 = set(list(VALOR_ESTIMADO_set)[(len(VALOR_ESTIMADO_set)*50)//100:]).difference(set(ORGAO_LICITANTE_1))\n"
   ]
  },
  {
   "cell_type": "code",
   "execution_count": 7,
   "metadata": {},
   "outputs": [
    {
     "data": {
      "text/plain": [
       "(6, 6, 9, 6)"
      ]
     },
     "execution_count": 7,
     "metadata": {},
     "output_type": "execute_result"
    }
   ],
   "source": [
    "len(ORGAO_LICITANTE_1), len(ORGAO_LICITANTE_2), len(VALOR_ESTIMADO_1), len(VALOR_ESTIMADO_2)"
   ]
  },
  {
   "cell_type": "code",
   "execution_count": 8,
   "metadata": {},
   "outputs": [],
   "source": [
    "lic = []\n",
    "\n",
    "lic.extend(ORGAO_LICITANTE_1)\n",
    "lic.extend(VALOR_ESTIMADO_1)\n",
    "\n",
    "lic = sorted(list(set(lic)))\n",
    "\n",
    "not_lic = []\n",
    "\n",
    "not_lic.extend(ORGAO_LICITANTE_2)\n",
    "not_lic.extend(VALOR_ESTIMADO_2)\n",
    "\n",
    "not_lic = sorted(list(set(not_lic)))"
   ]
  },
  {
   "cell_type": "code",
   "execution_count": 9,
   "metadata": {},
   "outputs": [
    {
     "data": {
      "text/plain": [
       "(15, 12)"
      ]
     },
     "execution_count": 9,
     "metadata": {},
     "output_type": "execute_result"
    }
   ],
   "source": [
    "len(lic), len(not_lic)"
   ]
  },
  {
   "cell_type": "code",
   "execution_count": 10,
   "metadata": {},
   "outputs": [],
   "source": [
    "for i in lic:\n",
    "    for j in not_lic:\n",
    "        if i == j:\n",
    "            print(i)"
   ]
  },
  {
   "cell_type": "code",
   "execution_count": 11,
   "metadata": {},
   "outputs": [],
   "source": [
    "df_lic = df.iloc[lic]\n",
    "df_not_lic = df.iloc[not_lic]"
   ]
  },
  {
   "cell_type": "code",
   "execution_count": 12,
   "metadata": {},
   "outputs": [
    {
     "data": {
      "text/plain": [
       "(15, 12)"
      ]
     },
     "execution_count": 12,
     "metadata": {},
     "output_type": "execute_result"
    }
   ],
   "source": [
    "len(df_lic), len(df_not_lic)"
   ]
  },
  {
   "cell_type": "code",
   "execution_count": 13,
   "metadata": {},
   "outputs": [],
   "source": [
    "df_real = df.drop(df_lic.index)\n",
    "df_real = df_real.drop(df_not_lic.index)"
   ]
  },
  {
   "cell_type": "code",
   "execution_count": 14,
   "metadata": {},
   "outputs": [
    {
     "data": {
      "text/plain": [
       "44"
      ]
     },
     "execution_count": 14,
     "metadata": {},
     "output_type": "execute_result"
    }
   ],
   "source": [
    "len(df_real)"
   ]
  },
  {
   "cell_type": "code",
   "execution_count": 15,
   "metadata": {},
   "outputs": [],
   "source": [
    "testa = pd.concat([df_lic, df_real[:int(len(df)*0.5) - len(df_lic)]])\n",
    "testb = pd.concat([df_real[int(len(df)*0.5) - len(df_lic):], df_not_lic])"
   ]
  },
  {
   "cell_type": "code",
   "execution_count": 16,
   "metadata": {},
   "outputs": [
    {
     "data": {
      "text/plain": [
       "(35, 36, 71)"
      ]
     },
     "execution_count": 16,
     "metadata": {},
     "output_type": "execute_result"
    }
   ],
   "source": [
    "len(testa), len(testb), len(df)"
   ]
  },
  {
   "cell_type": "code",
   "execution_count": 17,
   "metadata": {},
   "outputs": [
    {
     "name": "stdout",
     "output_type": "stream",
     "text": [
      "ORGAO_LICITANTE: 50.0%\n",
      "NUM_LICITACAO: 49.29577464788732%\n",
      "OBJ_LICITACAO: 50.0%\n",
      "MODALIDADE_LICITACAO: 49.29577464788732%\n",
      "PROCESSO: 50.0%\n",
      "DATA_ABERTURA: 50.76923076923077%\n",
      "TIPO_OBJ: 49.27536231884058%\n",
      "VALOR_ESTIMADO: 60.0%\n",
      "CODIGO_SISTEMA_COMPRAS: 50.0%\n",
      "SISTEMA_COMPRAS: 50.0%\n",
      "treated_text: 49.29577464788732%\n",
      "IOB: 49.29577464788732%\n"
     ]
    }
   ],
   "source": [
    "i = 0\n",
    "for col in list(df.columns):\n",
    "    print(f'{col}: {((len(testa) - list(testa.isnull().sum())[i]) * 100) / (len(df) - list(df.isnull().sum())[i])}%')\n",
    "    i += 1"
   ]
  },
  {
   "cell_type": "code",
   "execution_count": 18,
   "metadata": {},
   "outputs": [
    {
     "name": "stdout",
     "output_type": "stream",
     "text": [
      "ORGAO_LICITANTE: 50.0%\n",
      "NUM_LICITACAO: 50.70422535211268%\n",
      "OBJ_LICITACAO: 50.0%\n",
      "MODALIDADE_LICITACAO: 50.70422535211268%\n",
      "PROCESSO: 50.0%\n",
      "DATA_ABERTURA: 49.23076923076923%\n",
      "TIPO_OBJ: 50.72463768115942%\n",
      "VALOR_ESTIMADO: 40.0%\n",
      "CODIGO_SISTEMA_COMPRAS: 50.0%\n",
      "SISTEMA_COMPRAS: 50.0%\n",
      "treated_text: 50.70422535211268%\n",
      "IOB: 50.70422535211268%\n"
     ]
    }
   ],
   "source": [
    "i = 0\n",
    "for col in list(df.columns):\n",
    "    print(f'{col}: {((len(testb) - list(testb.isnull().sum())[i]) * 100) / (len(df) - list(df.isnull().sum())[i])}%')\n",
    "    i += 1"
   ]
  },
  {
   "cell_type": "code",
   "execution_count": 19,
   "metadata": {},
   "outputs": [],
   "source": [
    "testa = testa.reset_index(drop=True)\n",
    "testb = testb.reset_index(drop=True)"
   ]
  },
  {
   "cell_type": "code",
   "execution_count": 20,
   "metadata": {},
   "outputs": [],
   "source": [
    "testa.to_parquet('testa.parquet')\n",
    "testb.to_parquet('testb.parquet')"
   ]
  },
  {
   "cell_type": "code",
   "execution_count": 21,
   "metadata": {},
   "outputs": [
    {
     "data": {
      "text/plain": [
       "(35, 36)"
      ]
     },
     "execution_count": 21,
     "metadata": {},
     "output_type": "execute_result"
    }
   ],
   "source": [
    "testa = pd.read_parquet('testa.parquet')\n",
    "testb = pd.read_parquet('testb.parquet')\n",
    "\n",
    "len(testa), len(testb)"
   ]
  }
 ],
 "metadata": {
  "interpreter": {
   "hash": "d973542429c9f505f96bdf709f83097f4740f6c9df1afcdf6fa66ab031bc1ccc"
  },
  "kernelspec": {
   "display_name": "Python 3.9.7 ('ian': venv)",
   "language": "python",
   "name": "python3"
  },
  "language_info": {
   "codemirror_mode": {
    "name": "ipython",
    "version": 3
   },
   "file_extension": ".py",
   "mimetype": "text/x-python",
   "name": "python",
   "nbconvert_exporter": "python",
   "pygments_lexer": "ipython3",
   "version": "3.9.7"
  },
  "orig_nbformat": 4
 },
 "nbformat": 4,
 "nbformat_minor": 2
}
