{
 "cells": [
  {
   "cell_type": "code",
   "execution_count": 1,
   "metadata": {},
   "outputs": [],
   "source": [
    "import pandas as pd\n",
    "import nltk\n",
    "from nltk.tokenize import word_tokenize\n",
    "import numpy as np\n",
    "\n",
    "import os\n",
    "import re\n",
    "import pandas as pd\n",
    "import numpy as np\n",
    "from typing import List, Tuple, Dict, Union\n",
    "from typing import Iterable as Iter\n",
    "from typing import Callable\n",
    "from sklearn.base import BaseEstimator, TransformerMixin"
   ]
  },
  {
   "cell_type": "code",
   "execution_count": 32,
   "metadata": {},
   "outputs": [],
   "source": [
    "acts = 'parquet_labelbox/labelbox_atos_aviso_licitacao.parquet'\n",
    "entities = 'parquet_labelbox/labelbox_entidades_aviso_licitacao.parquet'\n",
    "texts = 'parquet_labelbox/tokenized_texts_aviso_licitacao.parquet'\n",
    "\n",
    "df1 = pd.read_parquet(acts)\n",
    "df2 = pd.read_parquet(entities)\n",
    "df3 = pd.read_parquet(texts)"
   ]
  },
  {
   "cell_type": "code",
   "execution_count": 33,
   "metadata": {},
   "outputs": [
    {
     "data": {
      "text/plain": [
       "array(['ORGAO_LICITANTE', 'NUM_LICITACAO', 'OBJ_LICITACAO',\n",
       "       'MODALIDADE_LICITACAO', 'PROCESSO', 'DATA_ABERTURA', 'TIPO_OBJ',\n",
       "       'VALOR_ESTIMADO', 'CODIGO_SISTEMA_COMPRAS', 'SISTEMA_COMPRAS'],\n",
       "      dtype=object)"
      ]
     },
     "execution_count": 33,
     "metadata": {},
     "output_type": "execute_result"
    }
   ],
   "source": [
    "df2['ner_token'].unique()"
   ]
  },
  {
   "cell_type": "code",
   "execution_count": 34,
   "metadata": {},
   "outputs": [],
   "source": [
    "tokens = df2['ner_token'].unique()\n",
    "\n",
    "for token in tokens:\n",
    "    df1[token] = np.nan"
   ]
  },
  {
   "cell_type": "code",
   "execution_count": 35,
   "metadata": {},
   "outputs": [],
   "source": [
    "def clean_text_by_word(text):\n",
    "    a = \"\\n\".join([l for l in text.split(\"\\n\") if l != \"\"])\n",
    "    words = a.replace(\"\\n\", \" \").split(\" \")\n",
    "    words = [w for w in words if w != \"\"]\n",
    "    \n",
    "    m_words = []\n",
    "    dash_cut = False\n",
    "\n",
    "    for i in range(len(words)):\n",
    "        word = words[i]\n",
    "\n",
    "        if (word[-1] == \"-\") and (i+1)<len(words):\n",
    "            word = word[:-1] + words[i+1]\n",
    "            i += 1\n",
    "\n",
    "        m_words.append(word)\n",
    "        \n",
    "    return \" \".join(m_words)"
   ]
  },
  {
   "cell_type": "code",
   "execution_count": 36,
   "metadata": {},
   "outputs": [],
   "source": [
    "for i in range(len(df2)):\n",
    "    for j in range(len(df1)):\n",
    "        if df2['arquivo_rast'][i] == df1['arquivo_rast'][j]:\n",
    "            entitie = re.sub('xxbcet ?|xxbcet ?|xxeob ?|xxbob ?|xxecet ?', '', clean_text_by_word(df2['entidade'][i]).replace(\"\\r\", \"\"))\n",
    "            df1.loc[j, df2['ner_token'][i]] = entitie\n"
   ]
  },
  {
   "cell_type": "markdown",
   "metadata": {},
   "source": [
    "### IOB"
   ]
  },
  {
   "cell_type": "code",
   "execution_count": 5,
   "metadata": {},
   "outputs": [],
   "source": [
    "DEFAULT_TOKENIZER = nltk.RegexpTokenizer(r\"\\w+\").tokenize\n",
    "class Tokenizer(TransformerMixin, BaseEstimator):\n",
    "    \"\"\" Class to apply tokenizer to pandas DataFrame.\n",
    "    \"\"\"\n",
    "    def __init__(self, tokenizer=DEFAULT_TOKENIZER):\n",
    "        self.tokenizer = tokenizer\n",
    "\n",
    "\n",
    "    def __call__(self, X, **kw_params):\n",
    "        return self.tokenizer(X, **kw_params)\n",
    "\n",
    "\n",
    "    def fit(self, X, y=None, **fit_params):\n",
    "        return self\n",
    "\n",
    "\n",
    "    def transform(self, X, **kw_params):\n",
    "        if not isinstance(X, pd.Series):\n",
    "            print(\"[preprocess.Tokenizer.transform] TYPE:\", type(X))\n",
    "            print('X:::: ', X)\n",
    "            X = pd.Series(X)\n",
    "        return X.map(self)\n",
    "\n",
    "\n",
    "from sklearn.base import BaseEstimator, TransformerMixin\n",
    "\n",
    "class IOBifyer(TransformerMixin, BaseEstimator):\n",
    "\n",
    "\n",
    "    @staticmethod\n",
    "    def find_entity(row, token, ignore_idx=0,\n",
    "        tokenizer=DEFAULT_TOKENIZER):\n",
    "        # TODO: aceitar opção de offset, para não ter tennhum tipo de problema\n",
    "        \"\"\"Searches for named entities on columns, except by ignore_idx-columns.\n",
    "\n",
    "        ignore_idx: int indicating which column has\n",
    "                    the TEXT where the named entity were extracted from\n",
    "        \"\"\"\n",
    "        for idx, column in enumerate(row.keys()):\n",
    "            if idx == ignore_idx:\n",
    "                continue\n",
    "            if isinstance(row[column], str) and \\\n",
    "                token == tokenizer(row[column])[0]:\n",
    "                return column\n",
    "\n",
    "        return None\n",
    "\n",
    "\n",
    "    @staticmethod\n",
    "    def generate_IOB_labels(row, idx, tokenizer, dbg={}):\n",
    "        \"\"\"[summary]\n",
    "\n",
    "        Args:\n",
    "            row ([pd.Series]): [pandas series having act text and entities text]\n",
    "            idx ([int]): [index such that `row[idx]` has the whole act]\n",
    "            tokenizer ([Callable]): [function to use to tokenize `row[idx]`]\n",
    "            dbg (dict, optional): [dictionay for debug purposes]. Defaults to {}.\n",
    "\n",
    "        Returns:\n",
    "            [Iter[Iter[str]]]: [matrix of IOB labels]\n",
    "        \"\"\"\n",
    "        labels = []\n",
    "        entity_started = False\n",
    "        text = row.iloc[idx]\n",
    "        for token in tokenizer(text):                         # Itera sobre cada token da anotação do ato.\n",
    "            if not entity_started:                               # Caso uma entidade ainda n tenha sido identificada nos tokens.\n",
    "                entity = IOBifyer.find_entity(row, token, idx)                 # Busca o token atual no primeiro token de todos os campos do df.\n",
    "                if entity is not None:                           # Se foi encontrado o token no inicio de alguma entidade ele inicia a comparação token a token com a entidade.\n",
    "                    entity_started = True\n",
    "                    token_index = 1\n",
    "                    labels.append('B-' + entity)\n",
    "                else:\n",
    "                    labels.append('O')\n",
    "            else:     # Caso uma entidade já tenha sido identificada\n",
    "                if token_index < len(tokenizer(row[entity])) and \\\n",
    "                    token == tokenizer(row[entity])[token_index]:\n",
    "                    # Checa se o próximo token pertence à entidade\n",
    "                    # e se o tamanho da entidade chegou ao fim.\n",
    "                    labels.append('I-' + entity)\n",
    "                    # Se a entidade ainda possui tokens e a comparação foi bem\n",
    "                    # sucedida adicione o label I.\n",
    "                    token_index += 1\n",
    "                    if token_index >= len(tokenizer(row[entity])):\n",
    "                        entity_started = False\n",
    "                else:\n",
    "                    # Se o token n for igual ou a entidade chegou ao fim.\n",
    "                    entity_started = False\n",
    "                    labels.append('O')\n",
    "        if labels[0] != 'O':\n",
    "            dbg['l'] = dbg.get('l', []) + [(row, idx)]\n",
    "\n",
    "        return labels\n",
    "\n",
    "\n",
    "    @staticmethod\n",
    "    def dump_iob(tokens_mat, labels_mat, path='dump.txt',\n",
    "                            sep=' X X ', sent_sep='\\n',):\n",
    "        \"\"\"This method dumps the token matrix according its IOB labels.\n",
    "\n",
    "        For debug purposes, a list of list of pairs (token, label) is returned.\n",
    "        Args:\n",
    "            tokens_mat ([Iter[Iter[str]]]): [matrix of strings corresponding to tokens]\n",
    "            labels_mat ([Iter[Iter[str]]]): [matrix of strings corresponding to IOB labels]\n",
    "            path (str, optional): [Path to dump text file]. Defaults to 'dump.txt'.\n",
    "            sep (str, optional): [description]. Defaults to ' X X '.\n",
    "            sent_sep (str, optional): [description]. Defaults to '\\n'.\n",
    "\n",
    "        Returns:\n",
    "            [List[LIst[Tuple(str, str)]]]: [list of list of pairs (token, label), as dumped. For debug purposes.]\n",
    "        \"\"\"\n",
    "        dbg_mat = []\n",
    "        if isinstance(path, Path):\n",
    "            path = path.as_posix()\n",
    "        if '/' in path:\n",
    "            os.makedirs('/'.join(path.split('/')[:-1]), exist_ok=True)\n",
    "\n",
    "        with open(path, 'w') as fp:\n",
    "            for tokens_lis, labels_lis in zip(tokens_mat, labels_mat):\n",
    "                dbg_mat.append([])\n",
    "                for token, label in zip(tokens_lis, labels_lis):\n",
    "                    dbg_mat[-1].append((token, label))\n",
    "                    fp.write(f\"{token}{sep}{label}\\n\")\n",
    "                fp.write(sent_sep)\n",
    "        return dbg_mat\n",
    "\n",
    "\n",
    "    def __init__(self, column='act_column',\n",
    "        tokenizer=DEFAULT_TOKENIZER):\n",
    "        self.column = column\n",
    "        self.tokenizer = tokenizer\n",
    "        self.dbg = {}\n",
    "\n",
    "\n",
    "    def fit(self, X=None, y=None, **fit_params):\n",
    "        return self\n",
    "\n",
    "\n",
    "    def transform(self, df):\n",
    "        if not isinstance(df, pd.DataFrame):\n",
    "            raise TypeError(f\"`df` expected to be a pd.DataFrame. Got {type(df)}\")\n",
    "        if df.empty:\n",
    "            print(\"[core.preprocess]Warning: empty DataFrame. There won't be ioblabels.\")\n",
    "            return pd.Series()\n",
    "\n",
    "        idx = self.column if isinstance(self.column, int) else  \\\n",
    "                df.columns.get_loc(self.column)\n",
    "        labels_row = []\n",
    "        for index, row in df.iterrows():\n",
    "            try:\n",
    "                labels_row.append(\n",
    "                    IOBifyer.generate_IOB_labels(\n",
    "                        row, idx, self.tokenizer, self.dbg\n",
    "                    )\n",
    "                )\n",
    "            except Exception as e:\n",
    "                print(\"problem iobifyin row:\", row)\n",
    "                raise e\n",
    "        return pd.Series(labels_row)\n"
   ]
  },
  {
   "cell_type": "code",
   "execution_count": 40,
   "metadata": {},
   "outputs": [
    {
     "data": {
      "text/plain": [
       "Index(['arquivo_rast', 'text', 'ato', 'dodf', 'treated_text',\n",
       "       'ORGAO_LICITANTE', 'NUM_LICITACAO', 'OBJ_LICITACAO',\n",
       "       'MODALIDADE_LICITACAO', 'PROCESSO', 'DATA_ABERTURA', 'TIPO_OBJ',\n",
       "       'VALOR_ESTIMADO', 'CODIGO_SISTEMA_COMPRAS', 'SISTEMA_COMPRAS'],\n",
       "      dtype='object')"
      ]
     },
     "execution_count": 40,
     "metadata": {},
     "output_type": "execute_result"
    }
   ],
   "source": [
    "df1.columns"
   ]
  },
  {
   "cell_type": "code",
   "execution_count": 41,
   "metadata": {},
   "outputs": [],
   "source": [
    "data = df1[['ORGAO_LICITANTE', 'NUM_LICITACAO', 'OBJ_LICITACAO',\n",
    "       'MODALIDADE_LICITACAO', 'PROCESSO', 'DATA_ABERTURA', 'TIPO_OBJ',\n",
    "       'VALOR_ESTIMADO', 'CODIGO_SISTEMA_COMPRAS', 'SISTEMA_COMPRAS', 'treated_text',]]"
   ]
  },
  {
   "cell_type": "code",
   "execution_count": 42,
   "metadata": {},
   "outputs": [
    {
     "name": "stderr",
     "output_type": "stream",
     "text": [
      "C:\\Users\\ianfi\\AppData\\Local\\Temp\\ipykernel_23900\\1869218167.py:1: SettingWithCopyWarning: \n",
      "A value is trying to be set on a copy of a slice from a DataFrame\n",
      "\n",
      "See the caveats in the documentation: https://pandas.pydata.org/pandas-docs/stable/user_guide/indexing.html#returning-a-view-versus-a-copy\n",
      "  data.drop(166, inplace=True)\n"
     ]
    }
   ],
   "source": [
    "data.drop(166, inplace=True)\n",
    "data = data.reset_index(drop=True)"
   ]
  },
  {
   "cell_type": "code",
   "execution_count": 43,
   "metadata": {},
   "outputs": [],
   "source": [
    "iob = IOBifyer(column='treated_text')\n",
    "r = iob.transform(data)"
   ]
  },
  {
   "cell_type": "code",
   "execution_count": 44,
   "metadata": {},
   "outputs": [
    {
     "data": {
      "text/plain": [
       "0      [O, O, O, B-MODALIDADE_LICITACAO, I-MODALIDADE...\n",
       "1      [O, O, O, B-MODALIDADE_LICITACAO, I-MODALIDADE...\n",
       "2      [B-MODALIDADE_LICITACAO, I-MODALIDADE_LICITACA...\n",
       "3      [O, O, O, B-MODALIDADE_LICITACAO, I-MODALIDADE...\n",
       "4      [O, O, O, B-MODALIDADE_LICITACAO, I-MODALIDADE...\n",
       "                             ...                        \n",
       "229    [B-MODALIDADE_LICITACAO, O, B-NUM_LICITACAO, I...\n",
       "230    [B-MODALIDADE_LICITACAO, O, B-NUM_LICITACAO, I...\n",
       "231    [O, O, O, O, O, O, O, O, O, O, O, O, O, O, O, ...\n",
       "232    [O, O, O, O, O, O, B-PROCESSO, I-PROCESSO, I-P...\n",
       "233    [O, O, O, B-MODALIDADE_LICITACAO, I-MODALIDADE...\n",
       "Length: 234, dtype: object"
      ]
     },
     "execution_count": 44,
     "metadata": {},
     "output_type": "execute_result"
    }
   ],
   "source": [
    "r"
   ]
  },
  {
   "cell_type": "code",
   "execution_count": 45,
   "metadata": {},
   "outputs": [
    {
     "data": {
      "text/plain": [
       "((234, 11), (234,))"
      ]
     },
     "execution_count": 45,
     "metadata": {},
     "output_type": "execute_result"
    }
   ],
   "source": [
    "data.shape, r.shape"
   ]
  },
  {
   "cell_type": "code",
   "execution_count": 46,
   "metadata": {},
   "outputs": [],
   "source": [
    "data[\"IOB\"] = np.nan"
   ]
  },
  {
   "cell_type": "code",
   "execution_count": 47,
   "metadata": {},
   "outputs": [],
   "source": [
    "for i in range(len(data)):\n",
    "    data.loc[i, \"IOB\"] = ' '.join(r[i])"
   ]
  },
  {
   "cell_type": "code",
   "execution_count": 48,
   "metadata": {},
   "outputs": [
    {
     "data": {
      "text/plain": [
       "'AVISO DE LICITAÇÃO PREGÃO ELETRÔNICO Nº 01/2021 Processo: 00052-00021170/2020-47. OBJETO: Contratação de Concessionária Autorizada pela Montadora RENA ULT, localizada no Distrito Federal, para prestação de serviços de forma contínua durante o período de garantia, para as manutenções preventivas e corretivas, com fomecimento e aplicação de peças e acessórios genuínos, lubrificantes, óleos, aditivos, higienizadores, alinhamento e balanceamento para 40 (quarenta) viaturas marca RENAULT, modelo Importado Logan ZEN 16MT, anos/modelos 2020/2021, 1.6 flex (gasolina/álcool), pertencentes à frota da Polícia Civil do Distrito Federal., conforme especificações e condições estabelecidas no termo de referência constante do Anexo I do Edital. TIPO: Menor Preço. Valor estimado da licitação: R$ 826.897,20 (oitocentos e vinte e seis mil, oitocentos e noventa e sete reais e vinte centavos). Natureza de Despesa: 33.90.30 e 33.90.39, Fonte 100. Programa de Trabalho 28.845.0903.00NR.0053 Manutenção da Polícia Civil do Distrito Federal. Unidade Orçamentária: 73.901 Fundo Constitucional do Distrito Federal. UASG 926015. Prazo de execução: conforme Termo de Referência. Data limite do recebimento das propostas: 28 de janeiro de 2021, às 10:30h. O Edital, com todos seus anexos, deverá ser obtido nos sites www.comprasnet.gov.br e www.pcdf.df.gov.br ou ainda na Comissão Permanente de Licitação, localizada no SPO, Conjunto A, Lote 23, Edifício da Direção Geral, 3º Andar, Complexo da PCDF, Brasília-DF, nos dias úteis, das 12h às 18h30min, através de mídia, a qual deverá ser fornecida pelo interessado. Maiores informações na CPL/PCDF fones: 3207-4071/4046. Brasília/DF, 14 de janeiro de 2021 KELLY CRISTINA CORDEIRO GUEDES Pregoeira'"
      ]
     },
     "execution_count": 48,
     "metadata": {},
     "output_type": "execute_result"
    }
   ],
   "source": [
    "data['treated_text'][0]"
   ]
  },
  {
   "cell_type": "code",
   "execution_count": 49,
   "metadata": {},
   "outputs": [
    {
     "data": {
      "text/plain": [
       "273"
      ]
     },
     "execution_count": 49,
     "metadata": {},
     "output_type": "execute_result"
    }
   ],
   "source": [
    "len(DEFAULT_TOKENIZER(data['treated_text'][0]))"
   ]
  },
  {
   "cell_type": "code",
   "execution_count": 50,
   "metadata": {},
   "outputs": [
    {
     "data": {
      "text/plain": [
       "'O O O B-MODALIDADE_LICITACAO I-MODALIDADE_LICITACAO O B-NUM_LICITACAO I-NUM_LICITACAO O B-PROCESSO I-PROCESSO I-PROCESSO I-PROCESSO O B-OBJ_LICITACAO I-OBJ_LICITACAO I-OBJ_LICITACAO I-OBJ_LICITACAO I-OBJ_LICITACAO I-OBJ_LICITACAO I-OBJ_LICITACAO I-OBJ_LICITACAO I-OBJ_LICITACAO I-OBJ_LICITACAO I-OBJ_LICITACAO I-OBJ_LICITACAO I-OBJ_LICITACAO I-OBJ_LICITACAO I-OBJ_LICITACAO I-OBJ_LICITACAO I-OBJ_LICITACAO I-OBJ_LICITACAO I-OBJ_LICITACAO I-OBJ_LICITACAO I-OBJ_LICITACAO I-OBJ_LICITACAO I-OBJ_LICITACAO I-OBJ_LICITACAO I-OBJ_LICITACAO I-OBJ_LICITACAO I-OBJ_LICITACAO I-OBJ_LICITACAO I-OBJ_LICITACAO I-OBJ_LICITACAO I-OBJ_LICITACAO I-OBJ_LICITACAO I-OBJ_LICITACAO I-OBJ_LICITACAO I-OBJ_LICITACAO I-OBJ_LICITACAO I-OBJ_LICITACAO I-OBJ_LICITACAO I-OBJ_LICITACAO I-OBJ_LICITACAO I-OBJ_LICITACAO I-OBJ_LICITACAO I-OBJ_LICITACAO I-OBJ_LICITACAO I-OBJ_LICITACAO I-OBJ_LICITACAO I-OBJ_LICITACAO I-OBJ_LICITACAO I-OBJ_LICITACAO I-OBJ_LICITACAO I-OBJ_LICITACAO I-OBJ_LICITACAO I-OBJ_LICITACAO I-OBJ_LICITACAO I-OBJ_LICITACAO I-OBJ_LICITACAO I-OBJ_LICITACAO I-OBJ_LICITACAO I-OBJ_LICITACAO I-OBJ_LICITACAO I-OBJ_LICITACAO I-OBJ_LICITACAO I-OBJ_LICITACAO I-OBJ_LICITACAO I-OBJ_LICITACAO I-OBJ_LICITACAO I-OBJ_LICITACAO I-OBJ_LICITACAO I-OBJ_LICITACAO I-OBJ_LICITACAO I-OBJ_LICITACAO I-OBJ_LICITACAO I-OBJ_LICITACAO I-OBJ_LICITACAO I-OBJ_LICITACAO O O O O O O O O O O O O O O O O O O O O O O B-VALOR_ESTIMADO I-VALOR_ESTIMADO I-VALOR_ESTIMADO I-VALOR_ESTIMADO O O O O O O O O O O O O O O O O O O O O O O O O O O O O O O O O O O O O O O O O O O O O O O O O O O O O B-CODIGO_SISTEMA_COMPRAS O O O O O O O O O O O O O O O O O O O O O O O O O O O O O O O O B-SISTEMA_COMPRAS I-SISTEMA_COMPRAS I-SISTEMA_COMPRAS I-SISTEMA_COMPRAS O B-SISTEMA_COMPRAS O O O O O O O O O O O O O O O O O O O O O O O O O O O O O O O O O O O O O O O O O O O O O O O O O O O O O O O O O O O O O O O O O O O'"
      ]
     },
     "execution_count": 50,
     "metadata": {},
     "output_type": "execute_result"
    }
   ],
   "source": [
    "data['IOB'][0]"
   ]
  },
  {
   "cell_type": "code",
   "execution_count": 51,
   "metadata": {},
   "outputs": [
    {
     "data": {
      "text/plain": [
       "273"
      ]
     },
     "execution_count": 51,
     "metadata": {},
     "output_type": "execute_result"
    }
   ],
   "source": [
    "len(data['IOB'][0].split())"
   ]
  },
  {
   "cell_type": "code",
   "execution_count": 52,
   "metadata": {},
   "outputs": [],
   "source": [
    "df_iob = data[['treated_text', 'IOB']]"
   ]
  },
  {
   "cell_type": "code",
   "execution_count": 53,
   "metadata": {},
   "outputs": [],
   "source": [
    "df_iob.to_parquet('iob_aviso_licitacao.parquet')"
   ]
  },
  {
   "cell_type": "code",
   "execution_count": 2,
   "metadata": {},
   "outputs": [
    {
     "data": {
      "text/html": [
       "<div>\n",
       "<style scoped>\n",
       "    .dataframe tbody tr th:only-of-type {\n",
       "        vertical-align: middle;\n",
       "    }\n",
       "\n",
       "    .dataframe tbody tr th {\n",
       "        vertical-align: top;\n",
       "    }\n",
       "\n",
       "    .dataframe thead th {\n",
       "        text-align: right;\n",
       "    }\n",
       "</style>\n",
       "<table border=\"1\" class=\"dataframe\">\n",
       "  <thead>\n",
       "    <tr style=\"text-align: right;\">\n",
       "      <th></th>\n",
       "      <th>treated_text</th>\n",
       "      <th>IOB</th>\n",
       "    </tr>\n",
       "  </thead>\n",
       "  <tbody>\n",
       "    <tr>\n",
       "      <th>0</th>\n",
       "      <td>AVISO DE LICITAÇÃO PREGÃO ELETRÔNICO Nº 01/202...</td>\n",
       "      <td>O O O B-MODALIDADE_LICITACAO I-MODALIDADE_LICI...</td>\n",
       "    </tr>\n",
       "    <tr>\n",
       "      <th>1</th>\n",
       "      <td>AVISO DE LICITAÇÃO PREGÃO ELETRÔNICO Nº 50/201...</td>\n",
       "      <td>O O O B-MODALIDADE_LICITACAO I-MODALIDADE_LICI...</td>\n",
       "    </tr>\n",
       "    <tr>\n",
       "      <th>2</th>\n",
       "      <td>PREGÃO ELETRÔNICO Nº 14/2021 Processo: 092.041...</td>\n",
       "      <td>B-MODALIDADE_LICITACAO I-MODALIDADE_LICITACAO ...</td>\n",
       "    </tr>\n",
       "    <tr>\n",
       "      <th>3</th>\n",
       "      <td>AVISO DE LICITAÇÃO PREGÃO ELETRÔNICO (SRP) Nº ...</td>\n",
       "      <td>O O O B-MODALIDADE_LICITACAO I-MODALIDADE_LICI...</td>\n",
       "    </tr>\n",
       "    <tr>\n",
       "      <th>4</th>\n",
       "      <td>AVISO DE LICITAÇÃO TOMADA DE PREÇOS Nº 144/200...</td>\n",
       "      <td>O O O B-MODALIDADE_LICITACAO I-MODALIDADE_LICI...</td>\n",
       "    </tr>\n",
       "    <tr>\n",
       "      <th>...</th>\n",
       "      <td>...</td>\n",
       "      <td>...</td>\n",
       "    </tr>\n",
       "    <tr>\n",
       "      <th>229</th>\n",
       "      <td>PREGÃO Nº 442/2004 SUCOM/SEF/DF Objeto: Aquisi...</td>\n",
       "      <td>B-MODALIDADE_LICITACAO O B-NUM_LICITACAO I-NUM...</td>\n",
       "    </tr>\n",
       "    <tr>\n",
       "      <th>230</th>\n",
       "      <td>PREGÃO Nº 451/2004 SUCOM/SEF/DF Objeto: Aquisi...</td>\n",
       "      <td>B-MODALIDADE_LICITACAO O B-NUM_LICITACAO I-NUM...</td>\n",
       "    </tr>\n",
       "    <tr>\n",
       "      <th>231</th>\n",
       "      <td>AVISO DE LICITAÇÃO A COMPANHIA ENERGÉTICA DE B...</td>\n",
       "      <td>O O O O O O O O O O O O O O O O O O O O O O O ...</td>\n",
       "    </tr>\n",
       "    <tr>\n",
       "      <th>232</th>\n",
       "      <td>AVISO DE LICITAÇÃO PROCESSO N.º 053.000.918/20...</td>\n",
       "      <td>O O O O O O B-PROCESSO I-PROCESSO I-PROCESSO I...</td>\n",
       "    </tr>\n",
       "    <tr>\n",
       "      <th>233</th>\n",
       "      <td>AVISO DE LICITAÇÃO TOMADA DE PREÇOS Nº 31/2000...</td>\n",
       "      <td>O O O B-MODALIDADE_LICITACAO I-MODALIDADE_LICI...</td>\n",
       "    </tr>\n",
       "  </tbody>\n",
       "</table>\n",
       "<p>234 rows × 2 columns</p>\n",
       "</div>"
      ],
      "text/plain": [
       "                                          treated_text  \\\n",
       "0    AVISO DE LICITAÇÃO PREGÃO ELETRÔNICO Nº 01/202...   \n",
       "1    AVISO DE LICITAÇÃO PREGÃO ELETRÔNICO Nº 50/201...   \n",
       "2    PREGÃO ELETRÔNICO Nº 14/2021 Processo: 092.041...   \n",
       "3    AVISO DE LICITAÇÃO PREGÃO ELETRÔNICO (SRP) Nº ...   \n",
       "4    AVISO DE LICITAÇÃO TOMADA DE PREÇOS Nº 144/200...   \n",
       "..                                                 ...   \n",
       "229  PREGÃO Nº 442/2004 SUCOM/SEF/DF Objeto: Aquisi...   \n",
       "230  PREGÃO Nº 451/2004 SUCOM/SEF/DF Objeto: Aquisi...   \n",
       "231  AVISO DE LICITAÇÃO A COMPANHIA ENERGÉTICA DE B...   \n",
       "232  AVISO DE LICITAÇÃO PROCESSO N.º 053.000.918/20...   \n",
       "233  AVISO DE LICITAÇÃO TOMADA DE PREÇOS Nº 31/2000...   \n",
       "\n",
       "                                                   IOB  \n",
       "0    O O O B-MODALIDADE_LICITACAO I-MODALIDADE_LICI...  \n",
       "1    O O O B-MODALIDADE_LICITACAO I-MODALIDADE_LICI...  \n",
       "2    B-MODALIDADE_LICITACAO I-MODALIDADE_LICITACAO ...  \n",
       "3    O O O B-MODALIDADE_LICITACAO I-MODALIDADE_LICI...  \n",
       "4    O O O B-MODALIDADE_LICITACAO I-MODALIDADE_LICI...  \n",
       "..                                                 ...  \n",
       "229  B-MODALIDADE_LICITACAO O B-NUM_LICITACAO I-NUM...  \n",
       "230  B-MODALIDADE_LICITACAO O B-NUM_LICITACAO I-NUM...  \n",
       "231  O O O O O O O O O O O O O O O O O O O O O O O ...  \n",
       "232  O O O O O O B-PROCESSO I-PROCESSO I-PROCESSO I...  \n",
       "233  O O O B-MODALIDADE_LICITACAO I-MODALIDADE_LICI...  \n",
       "\n",
       "[234 rows x 2 columns]"
      ]
     },
     "execution_count": 2,
     "metadata": {},
     "output_type": "execute_result"
    }
   ],
   "source": [
    "df = pd.read_parquet('iob_aviso_licitacao.parquet')\n",
    "df"
   ]
  },
  {
   "cell_type": "code",
   "execution_count": 3,
   "metadata": {},
   "outputs": [
    {
     "data": {
      "text/plain": [
       "'O O O B-MODALIDADE_LICITACAO I-MODALIDADE_LICITACAO O B-NUM_LICITACAO I-NUM_LICITACAO O B-PROCESSO I-PROCESSO I-PROCESSO I-PROCESSO O B-OBJ_LICITACAO I-OBJ_LICITACAO I-OBJ_LICITACAO I-OBJ_LICITACAO I-OBJ_LICITACAO I-OBJ_LICITACAO I-OBJ_LICITACAO I-OBJ_LICITACAO I-OBJ_LICITACAO I-OBJ_LICITACAO I-OBJ_LICITACAO I-OBJ_LICITACAO I-OBJ_LICITACAO I-OBJ_LICITACAO I-OBJ_LICITACAO I-OBJ_LICITACAO I-OBJ_LICITACAO I-OBJ_LICITACAO I-OBJ_LICITACAO I-OBJ_LICITACAO I-OBJ_LICITACAO I-OBJ_LICITACAO I-OBJ_LICITACAO I-OBJ_LICITACAO I-OBJ_LICITACAO I-OBJ_LICITACAO I-OBJ_LICITACAO I-OBJ_LICITACAO I-OBJ_LICITACAO I-OBJ_LICITACAO I-OBJ_LICITACAO I-OBJ_LICITACAO I-OBJ_LICITACAO I-OBJ_LICITACAO I-OBJ_LICITACAO I-OBJ_LICITACAO I-OBJ_LICITACAO I-OBJ_LICITACAO I-OBJ_LICITACAO I-OBJ_LICITACAO I-OBJ_LICITACAO I-OBJ_LICITACAO I-OBJ_LICITACAO I-OBJ_LICITACAO I-OBJ_LICITACAO I-OBJ_LICITACAO I-OBJ_LICITACAO I-OBJ_LICITACAO I-OBJ_LICITACAO I-OBJ_LICITACAO I-OBJ_LICITACAO I-OBJ_LICITACAO I-OBJ_LICITACAO I-OBJ_LICITACAO I-OBJ_LICITACAO I-OBJ_LICITACAO I-OBJ_LICITACAO I-OBJ_LICITACAO I-OBJ_LICITACAO I-OBJ_LICITACAO I-OBJ_LICITACAO I-OBJ_LICITACAO I-OBJ_LICITACAO I-OBJ_LICITACAO I-OBJ_LICITACAO I-OBJ_LICITACAO I-OBJ_LICITACAO I-OBJ_LICITACAO I-OBJ_LICITACAO I-OBJ_LICITACAO I-OBJ_LICITACAO I-OBJ_LICITACAO I-OBJ_LICITACAO I-OBJ_LICITACAO I-OBJ_LICITACAO O O O O O O O O O O O O O O O O O O O O O O B-VALOR_ESTIMADO I-VALOR_ESTIMADO I-VALOR_ESTIMADO I-VALOR_ESTIMADO O O O O O O O O O O O O O O O O O O O O O O O O O O O O O O O O O O O O O O O O O O O O O O O O O O O O B-CODIGO_SISTEMA_COMPRAS O O O O O O O O O O O O O O O O O O O O O O O O O O O O O O O O B-SISTEMA_COMPRAS I-SISTEMA_COMPRAS I-SISTEMA_COMPRAS I-SISTEMA_COMPRAS O B-SISTEMA_COMPRAS O O O O O O O O O O O O O O O O O O O O O O O O O O O O O O O O O O O O O O O O O O O O O O O O O O O O O O O O O O O O O O O O O O O'"
      ]
     },
     "execution_count": 3,
     "metadata": {},
     "output_type": "execute_result"
    }
   ],
   "source": [
    "df['IOB'][0]"
   ]
  }
 ],
 "metadata": {
  "interpreter": {
   "hash": "d973542429c9f505f96bdf709f83097f4740f6c9df1afcdf6fa66ab031bc1ccc"
  },
  "kernelspec": {
   "display_name": "Python 3.9.7 ('ian': venv)",
   "language": "python",
   "name": "python3"
  },
  "language_info": {
   "codemirror_mode": {
    "name": "ipython",
    "version": 3
   },
   "file_extension": ".py",
   "mimetype": "text/x-python",
   "name": "python",
   "nbconvert_exporter": "python",
   "pygments_lexer": "ipython3",
   "version": "3.9.7"
  },
  "orig_nbformat": 4
 },
 "nbformat": 4,
 "nbformat_minor": 2
}
