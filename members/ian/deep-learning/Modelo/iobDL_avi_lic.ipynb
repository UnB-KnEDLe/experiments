{
 "cells": [
  {
   "cell_type": "code",
   "execution_count": 1,
   "metadata": {},
   "outputs": [],
   "source": [
    "import pandas as pd\n",
    "import nltk\n",
    "from nltk.tokenize import word_tokenize\n",
    "import numpy as np\n",
    "\n",
    "import os\n",
    "import re\n",
    "import pandas as pd\n",
    "import numpy as np\n",
    "from typing import List, Tuple, Dict, Union\n",
    "from typing import Iterable as Iter\n",
    "from typing import Callable\n",
    "from sklearn.base import BaseEstimator, TransformerMixin"
   ]
  },
  {
   "cell_type": "code",
   "execution_count": 4,
   "metadata": {},
   "outputs": [],
   "source": [
    "train = pd.read_parquet('../Train_Test/train.parquet')\n",
    "testa = pd.read_parquet('../Train_Test/testa.parquet')\n",
    "testb = pd.read_parquet('../Train_Test/testb.parquet')"
   ]
  },
  {
   "cell_type": "code",
   "execution_count": 6,
   "metadata": {},
   "outputs": [],
   "source": [
    "train['iobDL'] = np.nan\n",
    "testa['iobDL'] = np.nan\n",
    "testb['iobDL'] = np.nan"
   ]
  },
  {
   "cell_type": "code",
   "execution_count": 7,
   "metadata": {},
   "outputs": [
    {
     "name": "stderr",
     "output_type": "stream",
     "text": [
      "C:\\Users\\ianfi\\AppData\\Local\\Temp\\ipykernel_28092\\924314299.py:8: SettingWithCopyWarning: \n",
      "A value is trying to be set on a copy of a slice from a DataFrame\n",
      "\n",
      "See the caveats in the documentation: https://pandas.pydata.org/pandas-docs/stable/user_guide/indexing.html#returning-a-view-versus-a-copy\n",
      "  train['iobDL'][row] = '\\n'.join(lista_IOB)\n",
      "C:\\Users\\ianfi\\AppData\\Local\\Temp\\ipykernel_28092\\924314299.py:15: SettingWithCopyWarning: \n",
      "A value is trying to be set on a copy of a slice from a DataFrame\n",
      "\n",
      "See the caveats in the documentation: https://pandas.pydata.org/pandas-docs/stable/user_guide/indexing.html#returning-a-view-versus-a-copy\n",
      "  testa['iobDL'][row] = '\\n'.join(lista_IOB)\n",
      "C:\\Users\\ianfi\\AppData\\Local\\Temp\\ipykernel_28092\\924314299.py:22: SettingWithCopyWarning: \n",
      "A value is trying to be set on a copy of a slice from a DataFrame\n",
      "\n",
      "See the caveats in the documentation: https://pandas.pydata.org/pandas-docs/stable/user_guide/indexing.html#returning-a-view-versus-a-copy\n",
      "  testb['iobDL'][row] = '\\n'.join(lista_IOB)\n"
     ]
    }
   ],
   "source": [
    "DEFAULT_TOKENIZER = nltk.RegexpTokenizer(r\"\\w+\").tokenize\n",
    "\n",
    "for row in range(len(train)):\n",
    "    lista_IOB = []\n",
    "    for idx in range(len(DEFAULT_TOKENIZER(train['treated_text'][row]))):\n",
    "        texto = f\"{DEFAULT_TOKENIZER(train['treated_text'][row])[idx]} X X {train['IOB'][row].split()[idx]}\"\n",
    "        lista_IOB.append(texto)\n",
    "    train['iobDL'][row] = '\\n'.join(lista_IOB)\n",
    "\n",
    "for row in range(len(testa)):\n",
    "    lista_IOB = []\n",
    "    for idx in range(len(DEFAULT_TOKENIZER(testa['treated_text'][row]))):\n",
    "        texto = f\"{DEFAULT_TOKENIZER(testa['treated_text'][row])[idx]} X X {testa['IOB'][row].split()[idx]}\"\n",
    "        lista_IOB.append(texto)\n",
    "    testa['iobDL'][row] = '\\n'.join(lista_IOB)\n",
    "\n",
    "for row in range(len(testb)):\n",
    "    lista_IOB = []\n",
    "    for idx in range(len(DEFAULT_TOKENIZER(testb['treated_text'][row]))):\n",
    "        texto = f\"{DEFAULT_TOKENIZER(testb['treated_text'][row])[idx]} X X {testb['IOB'][row].split()[idx]}\"\n",
    "        lista_IOB.append(texto)\n",
    "    testb['iobDL'][row] = '\\n'.join(lista_IOB)\n"
   ]
  },
  {
   "cell_type": "code",
   "execution_count": 9,
   "metadata": {},
   "outputs": [],
   "source": [
    "train = train[['iobDL']]\n",
    "testa = testa[['iobDL']]\n",
    "testb = testb[['iobDL']]"
   ]
  },
  {
   "cell_type": "code",
   "execution_count": 11,
   "metadata": {},
   "outputs": [],
   "source": [
    "with open('avi_lic_train.txt', mode='w', encoding='utf-8') as arquivo:\n",
    "    for i in range(len(train)):\n",
    "        arquivo.write(f\"{train['iobDL'][i]}\\n\\n\")\n",
    "\n",
    "with open('avi_lic_testa.txt', mode='w', encoding='utf-8') as arquivo:\n",
    "    for i in range(len(testa)):\n",
    "        arquivo.write(f\"{testa['iobDL'][i]}\\n\\n\")\n",
    "\n",
    "with open('avi_lic_testb.txt', mode='w', encoding='utf-8') as arquivo:\n",
    "    for i in range(len(testb)):\n",
    "        arquivo.write(f\"{testb['iobDL'][i]}\\n\\n\")"
   ]
  },
  {
   "cell_type": "code",
   "execution_count": null,
   "metadata": {},
   "outputs": [],
   "source": []
  }
 ],
 "metadata": {
  "interpreter": {
   "hash": "626ec445a74cc7297bec962345187ab2994649717c32e529167b33811ce24629"
  },
  "kernelspec": {
   "display_name": "Python 3.9.7 64-bit",
   "language": "python",
   "name": "python3"
  },
  "language_info": {
   "codemirror_mode": {
    "name": "ipython",
    "version": 3
   },
   "file_extension": ".py",
   "mimetype": "text/x-python",
   "name": "python",
   "nbconvert_exporter": "python",
   "pygments_lexer": "ipython3",
   "version": "3.9.7"
  },
  "orig_nbformat": 4
 },
 "nbformat": 4,
 "nbformat_minor": 2
}
