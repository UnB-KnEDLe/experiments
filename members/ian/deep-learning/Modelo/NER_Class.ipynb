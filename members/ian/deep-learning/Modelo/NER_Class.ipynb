{
 "cells": [
  {
   "cell_type": "markdown",
   "metadata": {},
   "source": [
    "### Dados"
   ]
  },
  {
   "cell_type": "code",
   "execution_count": 24,
   "metadata": {},
   "outputs": [
    {
     "data": {
      "text/plain": [
       "['AVISO X X O',\n",
       " 'DE X X O',\n",
       " 'LICITACAO X X O',\n",
       " 'PREGAO X X B-MODALIDADE_LICITACAO',\n",
       " 'ELETRONICO X X I-MODALIDADE_LICITACAO',\n",
       " 'No X X O',\n",
       " '001/2020 X X B-NUM_LICITACAO',\n",
       " 'UASG X X O',\n",
       " 'UASG X X O',\n",
       " '974002 X X O',\n",
       " 'A X X O',\n",
       " 'fim X X O',\n",
       " 'de X X O',\n",
       " 'atender X X O',\n",
       " 'a X X O',\n",
       " 'demanda X X O',\n",
       " 'do X X O',\n",
       " 'Instituto X X O',\n",
       " 'Brasilia X X O',\n",
       " 'Ambiental X X O']"
      ]
     },
     "execution_count": 24,
     "metadata": {},
     "output_type": "execute_result"
    }
   ],
   "source": [
    "train_path = 'avi_lic_train.txt'\n",
    "f = open(train_path, mode='r', encoding='utf-8').read().splitlines()\n",
    "f[:20]"
   ]
  },
  {
   "cell_type": "markdown",
   "metadata": {},
   "source": [
    "## Pré-processamento dos dados"
   ]
  },
  {
   "cell_type": "markdown",
   "metadata": {},
   "source": [
    "### Passo 1: Separando as palavras e as classes"
   ]
  },
  {
   "cell_type": "code",
   "execution_count": 25,
   "metadata": {},
   "outputs": [],
   "source": [
    "def preprocess(ner_set):\n",
    "    sentences = []\n",
    "    tags = []\n",
    "\n",
    "    temp_sentence = []\n",
    "    temp_tag = []\n",
    "    for line in ner_set:\n",
    "        try:\n",
    "            word, _, _, tag = line.split()\n",
    "            temp_sentence.append(word)\n",
    "            temp_tag.append(tag)\n",
    "        except:\n",
    "            sentences.append(temp_sentence)\n",
    "            tags.append(temp_tag)\n",
    "            temp_sentence = []\n",
    "            temp_tag = []\n",
    "\n",
    "    if temp_sentence:\n",
    "        sentences.append(temp_sentence)\n",
    "        tags.append(temp_tag)\n",
    "    return sentences, tags"
   ]
  },
  {
   "cell_type": "code",
   "execution_count": 26,
   "metadata": {},
   "outputs": [],
   "source": [
    "train_x, train_y = preprocess(open('avi_lic_train.txt', mode='r', encoding='utf-8'))\n",
    "valid_x, valid_y = preprocess(open('avi_lic_testa.txt', mode='r', encoding='utf-8'))\n",
    "test_x, test_y = preprocess(open('avi_lic_testb.txt', mode='r', encoding='utf-8'))"
   ]
  },
  {
   "cell_type": "code",
   "execution_count": 27,
   "metadata": {},
   "outputs": [
    {
     "data": {
      "text/plain": [
       "(304, 304, 65, 65, 66, 66)"
      ]
     },
     "execution_count": 27,
     "metadata": {},
     "output_type": "execute_result"
    }
   ],
   "source": [
    "len(train_x), len(train_y), len(valid_x), len(valid_y), len(test_x), len(test_y)"
   ]
  },
  {
   "cell_type": "code",
   "execution_count": 28,
   "metadata": {},
   "outputs": [
    {
     "name": "stdout",
     "output_type": "stream",
     "text": [
      "AVISO DE LICITACAO PREGAO ELETRONICO No 001/2020 UASG UASG 974002 A fim de atender a demanda do Instituto Brasilia Ambiental ( IBRAM ) e dos demais orgaos participantes do Sistema de Registro de Precos do Governo do Distrito Federal , a Subsecretaria de Compras Governamentais SCG/SEGEA/SEEC SCG/SEGEA/SEEC operacionalizara licitacao no sistema Comprasnet , cujo objeto e o Registro de Precos visando a eventual aquisicao de material de informatica ( cartuchos de tinta e de toner ) , conforme especificacoes e condicoes constantes do Anexo I do Edital . Valor estimado : R $ 170.704,26 ( cento e setenta mil , setecentos e quadro reais e vinte e seis centavos ) . Tipo de Licitacao : Menor Preco . Elemento de despesa : 33.90.30 . Abertura das propostas dia 08/01/2020 , as 09:30 horas . Processo no : 00040-00017799/2019-42 . O edital podera ser retirado no endereco eletronico www.comprasgovernamentais.gov.br . Informacoes pelo telefone : ( 61 ) 3313.8453 . Brasilia/DF , 19 de dezembro de 2019 KARLA REGINA DA SILVA ROCHA Pregoeira\n",
      "\n",
      "O O O B-MODALIDADE_LICITACAO I-MODALIDADE_LICITACAO O B-NUM_LICITACAO O O O O O O O O O O O O O O O O O O B-ORGAO_LICITANTE I-ORGAO_LICITANTE I-ORGAO_LICITANTE I-ORGAO_LICITANTE I-ORGAO_LICITANTE I-ORGAO_LICITANTE I-ORGAO_LICITANTE I-ORGAO_LICITANTE I-ORGAO_LICITANTE I-ORGAO_LICITANTE I-ORGAO_LICITANTE I-ORGAO_LICITANTE I-ORGAO_LICITANTE I-ORGAO_LICITANTE O O O O O O O O O O O O B-SISTEMA_COMPRAS O O O O O B-OBJ_LICITACAO I-OBJ_LICITACAO I-OBJ_LICITACAO I-OBJ_LICITACAO I-OBJ_LICITACAO I-OBJ_LICITACAO I-OBJ_LICITACAO I-OBJ_LICITACAO I-OBJ_LICITACAO I-OBJ_LICITACAO I-OBJ_LICITACAO I-OBJ_LICITACAO I-OBJ_LICITACAO I-OBJ_LICITACAO I-OBJ_LICITACAO I-OBJ_LICITACAO I-OBJ_LICITACAO I-OBJ_LICITACAO I-OBJ_LICITACAO I-OBJ_LICITACAO I-OBJ_LICITACAO I-OBJ_LICITACAO I-OBJ_LICITACAO I-OBJ_LICITACAO I-OBJ_LICITACAO I-OBJ_LICITACAO I-OBJ_LICITACAO I-OBJ_LICITACAO I-OBJ_LICITACAO I-OBJ_LICITACAO O O O O O O B-VALOR_ESTIMADO O O O O O O O O O O O O O O O O O O O O O O O O O O O O O O O O O O B-DATA_ABERTURA O O O O O O O O B-PROCESSO O B-IOB O O O O O O O O O O O O O O O O O O O O O O O O O B-NOME_RESPONSAVEL I-NOME_RESPONSAVEL I-NOME_RESPONSAVEL I-NOME_RESPONSAVEL I-NOME_RESPONSAVEL O\n"
     ]
    }
   ],
   "source": [
    "print(' '.join(train_x[0]))\n",
    "print()\n",
    "print(' '.join(train_y[0]))"
   ]
  },
  {
   "cell_type": "markdown",
   "metadata": {},
   "source": [
    "### Passo 2: Criando os dicionários de palavras e classes (utilizando o conjunto de treinamento)\n",
    "\n",
    "Incluindo os tokens especiais \\<UNK\\>, \\<BOS\\>, \\<EOS\\> de palavras e \\<PAD\\> para classes"
   ]
  },
  {
   "cell_type": "code",
   "execution_count": 29,
   "metadata": {},
   "outputs": [],
   "source": [
    "from collections import OrderedDict\n",
    "\n",
    "def word_dict(sentences):\n",
    "    word2idx = OrderedDict({'<UNK>': 0, '<PAD>': 1, '<BOS>': 2, '<EOS>': 3})\n",
    "    for sentence in sentences:\n",
    "        for word in sentence:\n",
    "            if word not in word2idx:\n",
    "                word2idx[word] = len(word2idx)\n",
    "    return word2idx\n",
    "\n",
    "def tag_dict(tag_sentences):\n",
    "    tag2idx = OrderedDict({'<PAD>': 0})\n",
    "    for tags in tag_sentences:\n",
    "        for tag in tags:\n",
    "            if tag not in tag2idx:\n",
    "                tag2idx[tag] = len(tag2idx)\n",
    "    return tag2idx\n",
    "\n",
    "word2idx = word_dict(train_x)\n",
    "tag2idx  = tag_dict(train_y)"
   ]
  },
  {
   "cell_type": "code",
   "execution_count": 30,
   "metadata": {},
   "outputs": [
    {
     "data": {
      "text/plain": [
       "OrderedDict([('<PAD>', 0),\n",
       "             ('O', 1),\n",
       "             ('B-MODALIDADE_LICITACAO', 2),\n",
       "             ('I-MODALIDADE_LICITACAO', 3),\n",
       "             ('B-NUM_LICITACAO', 4),\n",
       "             ('B-ORGAO_LICITANTE', 5),\n",
       "             ('I-ORGAO_LICITANTE', 6),\n",
       "             ('B-SISTEMA_COMPRAS', 7),\n",
       "             ('B-OBJ_LICITACAO', 8),\n",
       "             ('I-OBJ_LICITACAO', 9),\n",
       "             ('B-VALOR_ESTIMADO', 10),\n",
       "             ('B-DATA_ABERTURA', 11),\n",
       "             ('B-PROCESSO', 12),\n",
       "             ('B-IOB', 13),\n",
       "             ('B-NOME_RESPONSAVEL', 14),\n",
       "             ('I-NOME_RESPONSAVEL', 15),\n",
       "             ('B-CODIGO_SISTEMA_COMPRAS', 16),\n",
       "             ('I-DATA_ABERTURA', 17),\n",
       "             ('I-PROCESSO', 18),\n",
       "             ('I-SISTEMA_COMPRAS', 19),\n",
       "             ('I-VALOR_ESTIMADO', 20),\n",
       "             ('I-CODIGO_SISTEMA_COMPRAS', 21),\n",
       "             ('I-NUM_LICITACAO', 22)])"
      ]
     },
     "execution_count": 30,
     "metadata": {},
     "output_type": "execute_result"
    }
   ],
   "source": [
    "tag2idx"
   ]
  },
  {
   "cell_type": "code",
   "execution_count": 31,
   "metadata": {},
   "outputs": [
    {
     "name": "stdout",
     "output_type": "stream",
     "text": [
      "<UNK> 0\n",
      "<PAD> 1\n",
      "<BOS> 2\n",
      "<EOS> 3\n",
      "AVISO 4\n",
      "DE 5\n",
      "LICITACAO 6\n",
      "PREGAO 7\n",
      "ELETRONICO 8\n",
      "No 9\n",
      "001/2020 10\n",
      "UASG 11\n",
      "974002 12\n",
      "A 13\n",
      "fim 14\n",
      "de 15\n",
      "atender 16\n",
      "a 17\n",
      "demanda 18\n",
      "do 19\n",
      "Instituto 20\n"
     ]
    }
   ],
   "source": [
    "for idx, word in enumerate(word2idx):\n",
    "    print(word, word2idx[word])\n",
    "    if idx >= 20:\n",
    "        break"
   ]
  },
  {
   "cell_type": "markdown",
   "metadata": {},
   "source": [
    "### Passo 3: Substituir as palavras e classes pelos seus indices nos dicionarios criados"
   ]
  },
  {
   "cell_type": "code",
   "execution_count": 32,
   "metadata": {},
   "outputs": [
    {
     "data": {
      "text/plain": [
       "[4,\n",
       " 5,\n",
       " 6,\n",
       " 7,\n",
       " 8,\n",
       " 9,\n",
       " 10,\n",
       " 11,\n",
       " 11,\n",
       " 12,\n",
       " 13,\n",
       " 14,\n",
       " 15,\n",
       " 16,\n",
       " 17,\n",
       " 18,\n",
       " 19,\n",
       " 20,\n",
       " 21,\n",
       " 22,\n",
       " 23,\n",
       " 24,\n",
       " 25,\n",
       " 26,\n",
       " 27,\n",
       " 28,\n",
       " 29,\n",
       " 30,\n",
       " 19,\n",
       " 31,\n",
       " 15,\n",
       " 32,\n",
       " 15,\n",
       " 33,\n",
       " 19,\n",
       " 34,\n",
       " 19,\n",
       " 35,\n",
       " 36,\n",
       " 37,\n",
       " 17,\n",
       " 38,\n",
       " 15,\n",
       " 39,\n",
       " 40,\n",
       " 41,\n",
       " 41,\n",
       " 42,\n",
       " 43,\n",
       " 44,\n",
       " 45,\n",
       " 46,\n",
       " 37,\n",
       " 47,\n",
       " 48,\n",
       " 26,\n",
       " 49,\n",
       " 32,\n",
       " 15,\n",
       " 33,\n",
       " 50,\n",
       " 17,\n",
       " 51,\n",
       " 52,\n",
       " 15,\n",
       " 53,\n",
       " 15,\n",
       " 54,\n",
       " 23,\n",
       " 55,\n",
       " 15,\n",
       " 56,\n",
       " 26,\n",
       " 15,\n",
       " 57,\n",
       " 25,\n",
       " 37,\n",
       " 58,\n",
       " 59,\n",
       " 26,\n",
       " 60,\n",
       " 61,\n",
       " 19,\n",
       " 62,\n",
       " 63,\n",
       " 19,\n",
       " 64,\n",
       " 65,\n",
       " 66,\n",
       " 67,\n",
       " 68,\n",
       " 69,\n",
       " 70,\n",
       " 71,\n",
       " 23,\n",
       " 72,\n",
       " 26,\n",
       " 73,\n",
       " 74,\n",
       " 37,\n",
       " 75,\n",
       " 26,\n",
       " 76,\n",
       " 77,\n",
       " 26,\n",
       " 78,\n",
       " 26,\n",
       " 79,\n",
       " 80,\n",
       " 25,\n",
       " 65,\n",
       " 81,\n",
       " 15,\n",
       " 82,\n",
       " 68,\n",
       " 83,\n",
       " 84,\n",
       " 65,\n",
       " 85,\n",
       " 15,\n",
       " 86,\n",
       " 68,\n",
       " 87,\n",
       " 65,\n",
       " 88,\n",
       " 89,\n",
       " 90,\n",
       " 91,\n",
       " 92,\n",
       " 37,\n",
       " 93,\n",
       " 94,\n",
       " 95,\n",
       " 65,\n",
       " 96,\n",
       " 44,\n",
       " 68,\n",
       " 97,\n",
       " 65,\n",
       " 98,\n",
       " 99,\n",
       " 100,\n",
       " 101,\n",
       " 102,\n",
       " 44,\n",
       " 103,\n",
       " 104,\n",
       " 105,\n",
       " 65,\n",
       " 106,\n",
       " 107,\n",
       " 108,\n",
       " 68,\n",
       " 23,\n",
       " 109,\n",
       " 25,\n",
       " 110,\n",
       " 65,\n",
       " 111,\n",
       " 37,\n",
       " 112,\n",
       " 15,\n",
       " 113,\n",
       " 15,\n",
       " 114,\n",
       " 115,\n",
       " 116,\n",
       " 117,\n",
       " 118,\n",
       " 119,\n",
       " 120]"
      ]
     },
     "execution_count": 32,
     "metadata": {},
     "output_type": "execute_result"
    }
   ],
   "source": [
    "def numericalize(sentences, word2idx, tag_sentences, tag2idx):\n",
    "    numericalized_sentences = [[word2idx['<UNK>'] if word not in word2idx else word2idx[word] for word in sentence] for sentence in sentences]\n",
    "    numericalized_tags = [[tag2idx[tag] for tag in tags] for tags in tag_sentences]\n",
    "    return numericalized_sentences, numericalized_tags\n",
    "\n",
    "train_x, train_y = numericalize(train_x, word2idx, train_y, tag2idx)\n",
    "valid_x, valid_y = numericalize(valid_x, word2idx, valid_y, tag2idx)\n",
    "test_x, test_y = numericalize(test_x, word2idx, test_y, tag2idx)\n",
    "\n",
    "train_x[0]"
   ]
  },
  {
   "cell_type": "markdown",
   "metadata": {},
   "source": [
    "### Passo 4: Adicionar tokens de inicio e final de sentenca"
   ]
  },
  {
   "cell_type": "code",
   "execution_count": 33,
   "metadata": {},
   "outputs": [
    {
     "data": {
      "text/plain": [
       "tensor([  2,   4,   5,   6,   7,   8,   9,  10,  11,  11,  12,  13,  14,  15,\n",
       "         16,  17,  18,  19,  20,  21,  22,  23,  24,  25,  26,  27,  28,  29,\n",
       "         30,  19,  31,  15,  32,  15,  33,  19,  34,  19,  35,  36,  37,  17,\n",
       "         38,  15,  39,  40,  41,  41,  42,  43,  44,  45,  46,  37,  47,  48,\n",
       "         26,  49,  32,  15,  33,  50,  17,  51,  52,  15,  53,  15,  54,  23,\n",
       "         55,  15,  56,  26,  15,  57,  25,  37,  58,  59,  26,  60,  61,  19,\n",
       "         62,  63,  19,  64,  65,  66,  67,  68,  69,  70,  71,  23,  72,  26,\n",
       "         73,  74,  37,  75,  26,  76,  77,  26,  78,  26,  79,  80,  25,  65,\n",
       "         81,  15,  82,  68,  83,  84,  65,  85,  15,  86,  68,  87,  65,  88,\n",
       "         89,  90,  91,  92,  37,  93,  94,  95,  65,  96,  44,  68,  97,  65,\n",
       "         98,  99, 100, 101, 102,  44, 103, 104, 105,  65, 106, 107, 108,  68,\n",
       "         23, 109,  25, 110,  65, 111,  37, 112,  15, 113,  15, 114, 115, 116,\n",
       "        117, 118, 119, 120,   3])"
      ]
     },
     "execution_count": 33,
     "metadata": {},
     "output_type": "execute_result"
    }
   ],
   "source": [
    "import itertools\n",
    "import torch\n",
    "def add_special_tokens(sentences, word2idx, tag_sentences, tag2idx):\n",
    "    formatted_sentences = [torch.LongTensor([word for word in itertools.chain([word2idx['<BOS>']], sentence, [word2idx['<EOS>']])]) for sentence in sentences]\n",
    "    formatted_tags = [torch.LongTensor([tag for tag in itertools.chain([tag2idx['O']], tags, [tag2idx['O']])]) for tags in tag_sentences]\n",
    "    return formatted_sentences, formatted_tags\n",
    "\n",
    "train_x, train_y = add_special_tokens(train_x, word2idx, train_y, tag2idx)\n",
    "valid_x, valid_y = add_special_tokens(valid_x, word2idx, valid_y, tag2idx)\n",
    "test_x, test_y   = add_special_tokens(test_x, word2idx, test_y, tag2idx)\n",
    "\n",
    "train_x[0]"
   ]
  },
  {
   "cell_type": "markdown",
   "metadata": {},
   "source": [
    "### Passo 5: Criar os mini-batches de treinamento"
   ]
  },
  {
   "cell_type": "code",
   "execution_count": 34,
   "metadata": {},
   "outputs": [
    {
     "data": {
      "text/plain": [
       "(304, 627)"
      ]
     },
     "execution_count": 34,
     "metadata": {},
     "output_type": "execute_result"
    }
   ],
   "source": [
    "len(train_x), max([len(ato) for ato in train_x])"
   ]
  },
  {
   "cell_type": "code",
   "execution_count": 35,
   "metadata": {},
   "outputs": [],
   "source": [
    "import numpy as np\n",
    "\n",
    "# Ordenando sentencas por tamanho (antes de criar os batches)\n",
    "ordered_idx = np.argsort([len(train_x[i]) for i in range(len(train_x))])\n",
    "train_x = [train_x[idx] for idx in ordered_idx]\n",
    "train_y = [train_y[idx] for idx in ordered_idx]"
   ]
  },
  {
   "cell_type": "code",
   "execution_count": 36,
   "metadata": {},
   "outputs": [],
   "source": [
    "from torch.nn.utils.rnn import pad_sequence\n",
    "\n",
    "def create_batches(x, y, batch_size, pad_token, pad_class):\n",
    "    batch_x = []\n",
    "    batch_y = []\n",
    "    mask = []\n",
    "\n",
    "    # Separando os batches pelo tamanho de batch_size\n",
    "    i = 0\n",
    "    while i < len(x):\n",
    "        batch_x.append(x[i:min(len(x), i+batch_size)])\n",
    "        batch_y.append(y[i:min(len(y), i+batch_size)])\n",
    "        i += batch_size\n",
    "    \n",
    "    # Realizando padding dos batches e criando mask para identificar padding durante o treinamento\n",
    "    for i in range(len(batch_x)):\n",
    "        batch_x[i] = pad_sequence(batch_x[i], batch_first = True, padding_value = pad_token)\n",
    "        batch_y[i] = pad_sequence(batch_y[i], batch_first = True, padding_value = pad_class)\n",
    "        mask.append(batch_x[i] != pad_token)\n",
    "\n",
    "    return batch_x, batch_y, mask\n",
    "\n",
    "train_x, train_y, mask = create_batches(train_x, train_y, batch_size=32, pad_token=word2idx['<PAD>'], pad_class=tag2idx['<PAD>'])\n",
    "valid_x, _, valid_mask = create_batches(valid_x, valid_y, batch_size=len(valid_x), pad_token=word2idx['<PAD>'], pad_class=tag2idx['<PAD>'])\n",
    "test_x, _, test_mask   = create_batches(test_x,  test_y,  batch_size=len(test_x),  pad_token=word2idx['<PAD>'], pad_class=tag2idx['<PAD>'])"
   ]
  },
  {
   "cell_type": "code",
   "execution_count": 37,
   "metadata": {},
   "outputs": [
    {
     "data": {
      "text/plain": [
       "(torch.Size([32, 101]), torch.Size([32, 101]), torch.Size([32, 101]))"
      ]
     },
     "execution_count": 37,
     "metadata": {},
     "output_type": "execute_result"
    }
   ],
   "source": [
    "train_x[0].shape, train_y[0].shape, mask[0].shape"
   ]
  },
  {
   "cell_type": "code",
   "execution_count": 38,
   "metadata": {},
   "outputs": [
    {
     "data": {
      "text/plain": [
       "tensor([   2, 1684,    3])"
      ]
     },
     "execution_count": 38,
     "metadata": {},
     "output_type": "execute_result"
    }
   ],
   "source": [
    "train_x[0][0, :mask[0][0].sum()]"
   ]
  },
  {
   "cell_type": "markdown",
   "metadata": {},
   "source": [
    "## Criando o modelo neural biLSTM-CRF\n",
    "\n",
    "O modelo consiste em:\n",
    "\n",
    "\n",
    "\n",
    "1.   Camada de embeddings (transforma indices das palavras em vetores numericos)\n",
    "2.   Camada biLSTM para encode da informação (-> <-)\n",
    "3.   Camada linear para reducao da dimensao do vetor de saida da camada biLSTM\n",
    "3.   Camada CRF para classificação de cada token de entrada"
   ]
  },
  {
   "cell_type": "code",
   "execution_count": 39,
   "metadata": {},
   "outputs": [],
   "source": [
    "from torchcrf import CRF"
   ]
  },
  {
   "cell_type": "code",
   "execution_count": 40,
   "metadata": {},
   "outputs": [],
   "source": [
    "class bilstm_crf(torch.nn.Module):\n",
    "    def __init__(self, word2idx, tag2idx):\n",
    "        super(bilstm_crf, self).__init__()\n",
    "        # Camada de embeddings\n",
    "        self.embedding = torch.nn.Embedding(num_embeddings=len(word2idx), embedding_dim = 50, padding_idx = word2idx['<PAD>'])\n",
    "        # Camada biLSTM\n",
    "        self.bilstm = torch.nn.LSTM(input_size=50, hidden_size = 200, num_layers = 2, batch_first = True, bidirectional = True, dropout = 0.25)\n",
    "        # Camada linear\n",
    "        self.linear = torch.nn.Linear(400, len(tag2idx))\n",
    "        # Camada CRF\n",
    "        self.crf = CRF(num_tags = len(tag2idx), batch_first = True)\n",
    "\n",
    "    def forward(self, x, y, mask):\n",
    "        x = self.embedding(x)\n",
    "        x, _ = self.bilstm(x)\n",
    "        x = self.linear(x)\n",
    "        loss = self.crf(x, y, mask=mask)\n",
    "        return loss\n",
    "\n",
    "    def decode(self, x, mask):\n",
    "        x = self.embedding(x)\n",
    "        x, _ = self.bilstm(x)\n",
    "        x = self.linear(x)\n",
    "        prediction = self.crf.decode(x, mask=mask)\n",
    "        return prediction"
   ]
  },
  {
   "cell_type": "code",
   "execution_count": 41,
   "metadata": {},
   "outputs": [
    {
     "data": {
      "text/plain": [
       "tensor(-7989.6680, grad_fn=<SumBackward0>)"
      ]
     },
     "execution_count": 41,
     "metadata": {},
     "output_type": "execute_result"
    }
   ],
   "source": [
    "model = bilstm_crf(word2idx = word2idx, tag2idx = tag2idx)\n",
    "loss = model(train_x[0], train_y[0], mask[0])\n",
    "prediction = model.decode(valid_x[0], valid_mask[0])\n",
    "\n",
    "loss"
   ]
  },
  {
   "cell_type": "code",
   "execution_count": 42,
   "metadata": {},
   "outputs": [
    {
     "name": "stdout",
     "output_type": "stream",
     "text": [
      "cpu\n"
     ]
    }
   ],
   "source": [
    "device = torch.device(\"cuda\" if torch.cuda.is_available() else \"cpu\")\n",
    "print(device)\n",
    "model = model.to(device)"
   ]
  },
  {
   "cell_type": "markdown",
   "metadata": {},
   "source": [
    "## Código para avaliação do modelo\n",
    "\n",
    "Métrica span-based f1-score (f1-score a nível de entidades)\n",
    "\n",
    "$f_1 = 2\\frac{precision\\times recall}{precision + recall}$\n",
    "\n",
    "$precision = \\frac{TP}{TP + FP}$\n",
    "\n",
    "$recall = \\frac{TP}{TP + FN}$"
   ]
  },
  {
   "cell_type": "code",
   "execution_count": 43,
   "metadata": {},
   "outputs": [],
   "source": [
    "from seqeval.metrics import f1_score\n",
    "from seqeval.scheme import IOB1"
   ]
  },
  {
   "cell_type": "code",
   "execution_count": 44,
   "metadata": {},
   "outputs": [],
   "source": [
    "idx2tag = {idx: tag for tag, idx in tag2idx.items()}\n",
    "\n",
    "def IOBify(tags_sequence, idx2tag):\n",
    "    if isinstance(tags_sequence[0], list):\n",
    "        iob_y = [[idx2tag[tag] for tag in tags] for tags in tags_sequence]\n",
    "    else:\n",
    "        iob_y = [[idx2tag[tag.item()] for tag in tags] for tags in tags_sequence]\n",
    "    return iob_y\n",
    "\n",
    "y_true = IOBify(valid_y, idx2tag)\n",
    "y_pred = IOBify(prediction, idx2tag)"
   ]
  },
  {
   "cell_type": "code",
   "execution_count": 45,
   "metadata": {},
   "outputs": [
    {
     "data": {
      "text/plain": [
       "0.009359662139025227"
      ]
     },
     "execution_count": 45,
     "metadata": {},
     "output_type": "execute_result"
    }
   ],
   "source": [
    "f1_score(y_true, y_pred)"
   ]
  },
  {
   "cell_type": "markdown",
   "metadata": {},
   "source": [
    "## Código para treinamento do modelo"
   ]
  },
  {
   "cell_type": "code",
   "execution_count": 46,
   "metadata": {},
   "outputs": [],
   "source": [
    "lrate = 0.015\n",
    "optim = torch.optim.SGD(model.parameters(), lr=lrate, momentum=0.9)"
   ]
  },
  {
   "cell_type": "code",
   "execution_count": 47,
   "metadata": {},
   "outputs": [],
   "source": [
    "f1_history = []\n",
    "mean_loss_history = []"
   ]
  },
  {
   "cell_type": "code",
   "execution_count": 151,
   "metadata": {},
   "outputs": [],
   "source": [
    "# Alterar numero de epocas de treinamento (~30-50 epocas para modelo bem treinado)\n",
    "for epoch in range(110):\n",
    "    mean_loss = 0.0\n",
    "    model.train()\n",
    "    # Iniciando uma epoch de treinamento supervisionado\n",
    "    for batch in range(len(train_x)):\n",
    "        x = train_x[batch].to(device)\n",
    "        y = train_y[batch].to(device)\n",
    "        m = mask[batch].to(device)\n",
    "        optim.zero_grad()\n",
    "        loss = -model(x, y, m)\n",
    "        loss.backward()\n",
    "        torch.nn.utils.clip_grad_norm_(model.parameters(), 5.0)\n",
    "        optim.step()\n",
    "        mean_loss += loss\n",
    "    mean_loss /= len(train_x)\n",
    "    mean_loss_history.append(mean_loss)\n",
    "\n",
    "    model.eval()\n",
    "    # Calculo do desempenho do modelo treinado nesta epoch\n",
    "    y_pred = model.decode(valid_x[0].to(device), valid_mask[0].to(device))\n",
    "    y_pred = IOBify(y_pred, idx2tag)\n",
    "    y_true = IOBify(valid_y, idx2tag)\n",
    "    f1 = f1_score(y_true, y_pred)\n",
    "    f1_history.append(f1)\n",
    "\n",
    "    print(f'Epoch: {epoch} | Loss media: {mean_loss} | f1-score: {f1}')"
   ]
  },
  {
   "cell_type": "markdown",
   "metadata": {},
   "source": [
    "## Avaliando modelo"
   ]
  },
  {
   "cell_type": "code",
   "execution_count": 62,
   "metadata": {},
   "outputs": [],
   "source": [
    "mean_loss_history_ = [mean_loss.item() for mean_loss in mean_loss_history]"
   ]
  },
  {
   "cell_type": "code",
   "execution_count": 63,
   "metadata": {},
   "outputs": [
    {
     "data": {
      "text/plain": [
       "0.747191011235955"
      ]
     },
     "execution_count": 63,
     "metadata": {},
     "output_type": "execute_result"
    }
   ],
   "source": [
    "max(f1_history)"
   ]
  },
  {
   "cell_type": "code",
   "execution_count": 64,
   "metadata": {},
   "outputs": [
    {
     "data": {
      "text/plain": [
       "[Text(0.5, 0, 'epochs'), Text(0, 0.5, 'mean loss')]"
      ]
     },
     "execution_count": 64,
     "metadata": {},
     "output_type": "execute_result"
    },
    {
     "data": {
      "image/png": "[encoded data removed]",
      "text/plain": [
       "<Figure size 432x288 with 2 Axes>"
      ]
     },
     "metadata": {
      "needs_background": "light"
     },
     "output_type": "display_data"
    }
   ],
   "source": [
    "import matplotlib.pyplot as plt\n",
    "\n",
    "fig, axs = plt.subplots(2)\n",
    "axs[0].plot(f1_history)\n",
    "axs[1].plot(mean_loss_history_)\n",
    "axs[0].set(ylabel='f1-score')\n",
    "axs[1].set(xlabel='epochs', ylabel='mean loss')"
   ]
  },
  {
   "cell_type": "markdown",
   "metadata": {},
   "source": [
    "## Salvando modelo"
   ]
  },
  {
   "cell_type": "code",
   "execution_count": 74,
   "metadata": {},
   "outputs": [],
   "source": [
    "# torch.save(model.state_dict(), 'model/inference_ner_model_453acts_74.pt')\n",
    "# torch.save(model, 'model/entire_ner_model453acts_74.pt')"
   ]
  },
  {
   "cell_type": "markdown",
   "metadata": {},
   "source": [
    "## Carregando o modelo"
   ]
  },
  {
   "cell_type": "code",
   "execution_count": 100,
   "metadata": {},
   "outputs": [],
   "source": [
    "from nltk.tokenize import word_tokenize"
   ]
  },
  {
   "cell_type": "code",
   "execution_count": 170,
   "metadata": {},
   "outputs": [],
   "source": [
    "modo = 'inference'\n",
    "\n",
    "if modo == 'inference':\n",
    "    model.load_state_dict(torch.load('model/inference_ner_model_453acts_74.pt'))\n",
    "else:\n",
    "    model = torch.load('model/entire_ner_model453acts_74.pt')"
   ]
  },
  {
   "cell_type": "code",
   "execution_count": 171,
   "metadata": {},
   "outputs": [
    {
     "data": {
      "text/plain": [
       "bilstm_crf(\n",
       "  (embedding): Embedding(5806, 50, padding_idx=1)\n",
       "  (bilstm): LSTM(50, 200, num_layers=2, batch_first=True, dropout=0.25, bidirectional=True)\n",
       "  (linear): Linear(in_features=400, out_features=23, bias=True)\n",
       "  (crf): CRF(num_tags=23)\n",
       ")"
      ]
     },
     "execution_count": 171,
     "metadata": {},
     "output_type": "execute_result"
    }
   ],
   "source": [
    "model.eval()"
   ]
  },
  {
   "cell_type": "markdown",
   "metadata": {},
   "source": [
    "## Utilização do modelo treinado para predição em novos dados e interface com usuário\n",
    "\n",
    "Passos:\n",
    "\n",
    "\n",
    "1.   Transformar as palavras do texto em indices utilizando o dicionario word2idx e converter para tensor\n",
    "2.   Realizar as predições\n",
    "3.   Realizar extração das entidades de acordo com as predições"
   ]
  },
  {
   "cell_type": "markdown",
   "metadata": {},
   "source": [
    "### Passo 1: Transformar as palavras em indices utilizando word2idx"
   ]
  },
  {
   "cell_type": "code",
   "execution_count": 172,
   "metadata": {},
   "outputs": [
    {
     "name": "stdout",
     "output_type": "stream",
     "text": [
      "< BOS > AVISO DE LICITAÇÃO PREGÃO ELETRÔNICO Nº 18/2022 - UASG 974002 A Pregoeira comunica aos interessados que a fim de atender a demanda do Jardim Botânico e Brasília - JBB , a Subsecretaria de Compras Governamentais - SCG/SPLAN/SEEC operacionalizará licitação do PE nº 18/2022 no sistema Comprasnet , cujo objeto é a aquisição de bomba com vazão , bomba hidráulica , motobomba , bloco de cimento , cimento , relê , disjuntor , mini contactor , etc , conforme especificações e condições estabelecidas no termo de referência constante do Anexo I do Edital . Valor total estimado : R $ 46.237,77 . Tipo de Licitação : Menor Preço . Unidade Orçamentária : 150106 ; Programa de Trabalho : 18.122.8210.8517.9658 . Elemento de despesa : 33.90.30 e 44.90.52 . Fonte : 100 e 120 . Abertura das propostas dia 21/02/2022 , às 9h30min . Processo 00195-00000275/2021-73 . O edital poderá ser retirado no endereço eletrônico : www.comprasgovernamentais.gov.br . Informações pelo e-mail : pregoeirosulog08 @ economia.df.gov.br Brasília/DF , 04 de fevereiro de 2022 RITA DE CÁSSIA GODINHO DE CAMPOS < EOS >\n"
     ]
    }
   ],
   "source": [
    "# text = word_tokenize('<BOS> AVISO DE ABERTURA DE LICITACAO PREGAO ELETRONICO No 34/2019. Processo: 001-001334/2019. Objeto: Registro de precos para eventual contratacao de servicos de organizacao de eventos e correlatos, a serem realizados nas dependencias internas e externas da Camara Legislativa do Distrito Federal, sob demanda, abrangendo o planejamento operacional, apoio logistico, organizacao, execucao, montagem de infraestrutura, fornecimento de bens e mao-de-obra, independentemente da prestacao de servicos concomitantes, utilizando mobiliario necessario e adequado, fornecimento de layouts para estandes e exposicoes, compreendendo a montagem, desmontagem, limpeza, manutencao, sonorizacao, iluminacao, instalacoes eletrica e equipamentos, conforme os requisitos e condicoes estabelecidos no Termo de Referencia - Anexo I, do Edital. Valor estimado: R$ 6.014.928,12. Data/hora da Sessao Publica: 25/10/2019. Local: Internet, no endereco www.comprasnet.gov.br. Tipo: menor preco global. O edital encontra-se nos enderecos: www.comprasnet.gov.br (UASG 974004) e www.cl.df.gov.br, no link transparencia. Maiores informacoes (61) 3348-8650. Brasilia/DF, 14 de outubro de 2019. DOUGLAS BRUNO GONCALVES DE LAET. <EOS>')\n",
    "text = word_tokenize('<BOS> AVISO DE LICITAÇÃO PREGÃO ELETRÔNICO Nº 18/2022 - UASG 974002 A Pregoeira comunica aos interessados que a fim de atender a demanda do Jardim Botânico e Brasília - JBB, a Subsecretaria de Compras Governamentais - SCG/SPLAN/SEEC operacionalizará licitação do PE nº 18/2022 no sistema Comprasnet, cujo objeto é a aquisição de bomba com vazão, bomba hidráulica, motobomba, bloco de cimento, cimento, relê, disjuntor, mini contactor, etc, conforme especificações e condições estabelecidas no termo de referência constante do Anexo I do Edital. Valor total estimado: R$ 46.237,77. Tipo de Licitação: Menor Preço. Unidade Orçamentária: 150106; Programa de Trabalho: 18.122.8210.8517.9658. Elemento de despesa: 33.90.30 e 44.90.52. Fonte: 100 e 120. Abertura das propostas dia 21/02/2022, às 9h30min. Processo 00195-00000275/2021-73. O edital poderá ser retirado no endereço eletrônico: www.comprasgovernamentais.gov.br. Informações pelo e-mail: pregoeirosulog08@economia.df.gov.br Brasília/DF, 04 de fevereiro de 2022 RITA DE CÁSSIA GODINHO DE CAMPOS <EOS>')\n",
    "# text = word_tokenize('<BOS> AVISO DE LICITAÇÃO PREGÃO ELETRÔNICO Nº 06/2022 Objeto: Contratação de empresa especializada para fornecimento de 13 (treze) notebooks de alta performance e prestação de garantia on site de 12 (doze) meses, para atendimento das demandas internas do Tribunal de Contas do Distrito Federal. Processo: 00600-00000249/2021-80-TCDF. Valor estimado: R$ 155.654,46; enquadramento: natureza 4.4.90.52.35 – Equipamentos e Material Permanente; classificação funcional e programática 01.126.8231.1471.0005 - Modernização de Sistema de Informação do TCDF; fonte de Recursos 100. Data limite de recebimento das propostas: 17/02/2022, às 14h30min. Cópia do Edital encontra-se à disposição no Serviço de Licitação, localizado no 2º Andar do Ed. Anexo do TCDF, telefone (61) 3314- 2742 ou pelos sítios: www.tc.df.gov.br e www.comprasnet.gov.br (UASG: 974003). A Sessão Pública será processada no sítio do ComprasNet, nos termos do Edital. Em atendimento à Lei Distrital nº 5.453/2015, as informações referentes ao certame também estão disponíveis no sítio www.tc.df.gov.br, link: Consulta Processo do TCDF. Brasília/DF, 02 de fevereiro de 2022 ALESSANDRA RIBEIRO ASTUTI Pregoeira <EOS>')\n",
    "# text = word_tokenize('<BOS> AVISO DE ABERTURA PREGÃO ELETRÔNICO POR SRP Nº 33/2022 - UASG 926119 Objeto: Aquisição de material médico hospitalar CATETER INTRAVENOSO PERIFÉRICO 14G e outros, para atender a demanda da Secretaria de Saúde – DF, conforme especificações e quantitativos constantes no Anexo I do Edital. Processo 00060-00437454/2021-51. Total de 37 itens (Ampla concorrência e cotas destinadas às ME/EPPs). Valor Estimado: R$ 7.833.355,042. Cadastro das Propostas: a partir de 31/01/2022. Abertura das Propostas 10/02/2022, às 9h, horário de Brasília, no site www. net.gov.br. O Edital encontra-se disponibilizado, sem ônus, no site, ou, com ônus, no endereço: SRTVN, Quadra 701, Conjunto C, Edifício PO 700, 2º andar, sala: Central de Compras/DAQ/SUAG, CEP: 70.723-040 – Brasília/DF. PEDRO PAULO B.D.C. FLEURY Pregoeiro <EOS>')\n",
    "print(' '.join(text))"
   ]
  },
  {
   "cell_type": "code",
   "execution_count": 173,
   "metadata": {},
   "outputs": [
    {
     "data": {
      "text/plain": [
       "(torch.Size([1, 182]), torch.Size([1, 182]))"
      ]
     },
     "execution_count": 173,
     "metadata": {},
     "output_type": "execute_result"
    }
   ],
   "source": [
    "num_text = torch.LongTensor([word2idx['<UNK>'] if word not in word2idx else word2idx[word] for word in text]).unsqueeze(dim=0)\n",
    "mask = num_text != -1\n",
    "num_text.shape, mask.shape"
   ]
  },
  {
   "cell_type": "markdown",
   "metadata": {
    "id": "hwT-Tipv_c-v"
   },
   "source": [
    "### Passo 2: Realizar predições"
   ]
  },
  {
   "cell_type": "code",
   "execution_count": 174,
   "metadata": {
    "id": "AqQY9yZ-8XyV"
   },
   "outputs": [],
   "source": [
    "model = model.to('cpu')"
   ]
  },
  {
   "cell_type": "code",
   "execution_count": 175,
   "metadata": {
    "colab": {
     "base_uri": "https://localhost:8080/"
    },
    "id": "6WgukIwD74HC",
    "outputId": "26929600-940a-41e3-e163-daf3840c7947"
   },
   "outputs": [
    {
     "name": "stdout",
     "output_type": "stream",
     "text": [
      "< O\n",
      "BOS O\n",
      "> O\n",
      "AVISO O\n",
      "DE O\n",
      "LICITAÇÃO O\n",
      "PREGÃO B-MODALIDADE_LICITACAO\n",
      "ELETRÔNICO I-MODALIDADE_LICITACAO\n",
      "Nº O\n",
      "18/2022 B-NUM_LICITACAO\n",
      "- O\n",
      "UASG O\n",
      "974002 O\n",
      "A O\n",
      "Pregoeira O\n",
      "comunica O\n",
      "aos O\n",
      "interessados O\n",
      "que O\n",
      "a O\n",
      "fim O\n"
     ]
    }
   ],
   "source": [
    "y_pred = model.decode(num_text, mask)\n",
    "y_pred = IOBify(y_pred, idx2tag)\n",
    "for idx, (word, tag) in enumerate(zip(text, y_pred[0])):\n",
    "    print(word, tag)\n",
    "    if idx >= 20:\n",
    "        break"
   ]
  },
  {
   "cell_type": "markdown",
   "metadata": {
    "id": "qy7nDudU_mS2"
   },
   "source": [
    "### Passo 3: Realizar extração das entidades de acordo com as predições"
   ]
  },
  {
   "cell_type": "code",
   "execution_count": 176,
   "metadata": {
    "id": "0KIfxDeD8aaI"
   },
   "outputs": [],
   "source": [
    "def extract_entities(y_pred, text):\n",
    "    inside_entity = False\n",
    "    entity_type = ''\n",
    "    entity = ''\n",
    "    entities = []\n",
    "    for word, tag in zip(text, y_pred[0]):\n",
    "        if not inside_entity:\n",
    "            if tag[0] == 'B':\n",
    "                inside_entity = True\n",
    "                entity = word\n",
    "                entity_type = tag[2:]\n",
    "        else:\n",
    "            if tag[0] == 'B':\n",
    "                entities.append((entity_type, entity))\n",
    "                entity = word\n",
    "                entity_type = tag[2:]\n",
    "                inside_entity = True\n",
    "            elif tag[0] == 'I':\n",
    "                entity = entity + ' ' + word\n",
    "                inside_entity = True\n",
    "            else:\n",
    "                entities.append((entity_type, entity))\n",
    "                entity = ''\n",
    "                entity_type = 'O'\n",
    "                inside_entity = False\n",
    "    return entities\n",
    "\n",
    "entities = extract_entities(y_pred, text)"
   ]
  },
  {
   "cell_type": "code",
   "execution_count": 177,
   "metadata": {
    "colab": {
     "base_uri": "https://localhost:8080/"
    },
    "id": "H_l51CHq-HsZ",
    "outputId": "9d29aab6-9813-454a-d81c-2ac6b85261fc"
   },
   "outputs": [
    {
     "data": {
      "text/plain": [
       "[('MODALIDADE_LICITACAO', 'PREGÃO ELETRÔNICO'),\n",
       " ('NUM_LICITACAO', '18/2022'),\n",
       " ('OBJ_LICITACAO',\n",
       "  'aquisição de bomba com vazão , bomba hidráulica , motobomba , bloco de cimento , cimento , relê , disjuntor , mini contactor , etc , conforme especificações e condições estabelecidas no termo de referência constante do Anexo I do Edital'),\n",
       " ('VALOR_ESTIMADO', '46.237,77'),\n",
       " ('DATA_ABERTURA', '21/02/2022'),\n",
       " ('SISTEMA_COMPRAS', 'www.comprasgovernamentais.gov.br')]"
      ]
     },
     "execution_count": 177,
     "metadata": {},
     "output_type": "execute_result"
    }
   ],
   "source": [
    "entities"
   ]
  },
  {
   "cell_type": "code",
   "execution_count": null,
   "metadata": {},
   "outputs": [],
   "source": []
  },
  {
   "cell_type": "code",
   "execution_count": null,
   "metadata": {},
   "outputs": [],
   "source": []
  },
  {
   "cell_type": "code",
   "execution_count": null,
   "metadata": {},
   "outputs": [],
   "source": []
  },
  {
   "cell_type": "code",
   "execution_count": 178,
   "metadata": {},
   "outputs": [],
   "source": [
    "# https://www.investopedia.com/ask/answers/032615/what-are-some-examples-stratified-random-sampling.asp#:~:text=Stratified%20random%20sampling%20is%20a,into%20groups%20is%20called%20stratification.\n",
    "\n",
    "\n",
    "# https://scikit-learn.org/stable/modules/generated/sklearn.model_selection.StratifiedShuffleSplit.html"
   ]
  }
 ],
 "metadata": {
  "interpreter": {
   "hash": "37a8dfbc9063806559ed6fb3e0b9be32bbbe69eb175d93b540a8930d21ddca46"
  },
  "kernelspec": {
   "display_name": "Python 3.9.7 ('ian': venv)",
   "language": "python",
   "name": "python3"
  },
  "language_info": {
   "codemirror_mode": {
    "name": "ipython",
    "version": 3
   },
   "file_extension": ".py",
   "mimetype": "text/x-python",
   "name": "python",
   "nbconvert_exporter": "python",
   "pygments_lexer": "ipython3",
   "version": "3.9.7"
  },
  "orig_nbformat": 4
 },
 "nbformat": 4,
 "nbformat_minor": 2
}
