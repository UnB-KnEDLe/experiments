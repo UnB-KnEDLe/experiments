{
 "cells": [
  {
   "cell_type": "markdown",
   "metadata": {},
   "source": [
    "### Dados"
   ]
  },
  {
   "cell_type": "code",
   "execution_count": 25,
   "metadata": {},
   "outputs": [
    {
     "data": {
      "text/plain": [
       "['PREGÃO X X B-MODALIDADE_LICITACAO',\n",
       " 'Nº X X O',\n",
       " '519 X X B-NUM_LICITACAO',\n",
       " '2005 X X I-NUM_LICITACAO',\n",
       " 'Objeto X X O',\n",
       " 'AQUISIÇÃO X X B-OBJ_LICITACAO',\n",
       " 'DE X X I-OBJ_LICITACAO',\n",
       " 'APARELHOS X X I-OBJ_LICITACAO',\n",
       " 'equipamentos X X I-OBJ_LICITACAO',\n",
       " 'utensílios X X I-OBJ_LICITACAO',\n",
       " 'médico X X I-OBJ_LICITACAO',\n",
       " 'odontologico X X I-OBJ_LICITACAO',\n",
       " 'laboratorial X X I-OBJ_LICITACAO',\n",
       " 'ratorial X X I-OBJ_LICITACAO',\n",
       " 'e X X I-OBJ_LICITACAO',\n",
       " 'hospitalar X X I-OBJ_LICITACAO',\n",
       " 'Sistema X X I-OBJ_LICITACAO',\n",
       " 'de X X I-OBJ_LICITACAO',\n",
       " 'ultra X X I-OBJ_LICITACAO',\n",
       " 'som X X I-OBJ_LICITACAO']"
      ]
     },
     "execution_count": 25,
     "metadata": {},
     "output_type": "execute_result"
    }
   ],
   "source": [
    "train_path = 'avi_lic_train.txt'\n",
    "f = open(train_path, mode='r', encoding='utf-8').read().splitlines()\n",
    "f[:20]"
   ]
  },
  {
   "cell_type": "markdown",
   "metadata": {},
   "source": [
    "## Pré-processamento dos dados"
   ]
  },
  {
   "cell_type": "markdown",
   "metadata": {},
   "source": [
    "### Passo 1: Separando as palavras e as classes"
   ]
  },
  {
   "cell_type": "code",
   "execution_count": 26,
   "metadata": {},
   "outputs": [],
   "source": [
    "def preprocess(ner_set):\n",
    "    sentences = []\n",
    "    tags = []\n",
    "\n",
    "    temp_sentence = []\n",
    "    temp_tag = []\n",
    "    for line in ner_set:\n",
    "        try:\n",
    "            word, _, _, tag = line.split()\n",
    "            temp_sentence.append(word)\n",
    "            temp_tag.append(tag)\n",
    "        except:\n",
    "            sentences.append(temp_sentence)\n",
    "            tags.append(temp_tag)\n",
    "            temp_sentence = []\n",
    "            temp_tag = []\n",
    "\n",
    "    if temp_sentence:\n",
    "        sentences.append(temp_sentence)\n",
    "        tags.append(temp_tag)\n",
    "    return sentences, tags"
   ]
  },
  {
   "cell_type": "code",
   "execution_count": 27,
   "metadata": {},
   "outputs": [],
   "source": [
    "train_x, train_y = preprocess(open('avi_lic_train.txt', mode='r', encoding='utf-8'))\n",
    "valid_x, valid_y = preprocess(open('avi_lic_testa.txt', mode='r', encoding='utf-8'))\n",
    "test_x, test_y = preprocess(open('avi_lic_testb.txt', mode='r', encoding='utf-8'))"
   ]
  },
  {
   "cell_type": "code",
   "execution_count": 28,
   "metadata": {},
   "outputs": [
    {
     "data": {
      "text/plain": [
       "(164, 164, 70, 70, 70, 70)"
      ]
     },
     "execution_count": 28,
     "metadata": {},
     "output_type": "execute_result"
    }
   ],
   "source": [
    "len(train_x), len(train_y), len(valid_x), len(valid_y), len(test_x), len(test_y)"
   ]
  },
  {
   "cell_type": "code",
   "execution_count": 29,
   "metadata": {},
   "outputs": [
    {
     "name": "stdout",
     "output_type": "stream",
     "text": [
      "PREGÃO Nº 519 2005 Objeto AQUISIÇÃO DE APARELHOS equipamentos utensílios médico odontologico laboratorial ratorial e hospitalar Sistema de ultra som com dopller conforme quantidade e especificações constante no anexo I do Edital Processo 060 002 756 2005 Abertura 06 de setembro 2005 às 8h30 O respectivo edital poderá ser retirado pelo endereço eletrônico www fazenda df gov br ou na Seção de Protocolo desta Subsecretaria de Compras e Licitações do Distrito Federal no Setor Bancário Sul Quadra 02 Bloco L Térreo Edifício Lino Martins Pinto das 08 às 12h e das 14às 18h mediante a apresentação do comprovante de recolhimento pago em qualquer agência bancária através de DAR código 357 3 no valor de R 7 00 sete reais As empresas e ou representantes que adquirirem o edital via Internet obrigam se a acompanhar o Diário Oficial do Distrito Federal à possíveis alterações Brasília DF 23 de agosto de 2005 FÁBIO PAIXÃO DE AZEVEDO Pregoeiro\n",
      "\n",
      "B-MODALIDADE_LICITACAO O B-NUM_LICITACAO I-NUM_LICITACAO O B-OBJ_LICITACAO I-OBJ_LICITACAO I-OBJ_LICITACAO I-OBJ_LICITACAO I-OBJ_LICITACAO I-OBJ_LICITACAO I-OBJ_LICITACAO I-OBJ_LICITACAO I-OBJ_LICITACAO I-OBJ_LICITACAO I-OBJ_LICITACAO I-OBJ_LICITACAO I-OBJ_LICITACAO I-OBJ_LICITACAO I-OBJ_LICITACAO I-OBJ_LICITACAO I-OBJ_LICITACAO I-OBJ_LICITACAO I-OBJ_LICITACAO I-OBJ_LICITACAO I-OBJ_LICITACAO I-OBJ_LICITACAO I-OBJ_LICITACAO I-OBJ_LICITACAO I-OBJ_LICITACAO I-OBJ_LICITACAO I-OBJ_LICITACAO O B-PROCESSO I-PROCESSO I-PROCESSO I-PROCESSO O B-DATA_ABERTURA I-DATA_ABERTURA I-DATA_ABERTURA I-DATA_ABERTURA O O O O O O O O O O O B-SISTEMA_COMPRAS I-SISTEMA_COMPRAS I-SISTEMA_COMPRAS I-SISTEMA_COMPRAS I-SISTEMA_COMPRAS O O O O O O O O O O O O O O O O O O O O O O O O O O O O O O O O O O O O O O O O O O O O O O O O O O O O O O O O O O O O O O O O O O O O O O O O O O O O O O O O O O O O O O O O O O O O O O O O O\n"
     ]
    }
   ],
   "source": [
    "print(' '.join(train_x[0]))\n",
    "print()\n",
    "print(' '.join(train_y[0]))"
   ]
  },
  {
   "cell_type": "markdown",
   "metadata": {},
   "source": [
    "### Passo 2: Criando os dicionários de palavras e classes (utilizando o conjunto de treinamento)\n",
    "\n",
    "Incluindo os tokens especiais \\<UNK\\>, \\<BOS\\>, \\<EOS\\> de palavras e \\<PAD\\> para classes"
   ]
  },
  {
   "cell_type": "code",
   "execution_count": 30,
   "metadata": {},
   "outputs": [],
   "source": [
    "from collections import OrderedDict\n",
    "\n",
    "def word_dict(sentences):\n",
    "    word2idx = OrderedDict({'<UNK>': 0, '<PAD>': 1, '<BOS>': 2, '<EOS>': 3})\n",
    "    for sentence in sentences:\n",
    "        for word in sentence:\n",
    "            if word not in word2idx:\n",
    "                word2idx[word] = len(word2idx)\n",
    "    return word2idx\n",
    "\n",
    "def tag_dict(tag_sentences):\n",
    "    tag2idx = OrderedDict({'<PAD>': 0})\n",
    "    for tags in tag_sentences:\n",
    "        for tag in tags:\n",
    "            if tag not in tag2idx:\n",
    "                tag2idx[tag] = len(tag2idx)\n",
    "    return tag2idx\n",
    "\n",
    "word2idx = word_dict(train_x)\n",
    "tag2idx  = tag_dict(train_y)"
   ]
  },
  {
   "cell_type": "code",
   "execution_count": 31,
   "metadata": {},
   "outputs": [
    {
     "data": {
      "text/plain": [
       "OrderedDict([('<PAD>', 0),\n",
       "             ('B-MODALIDADE_LICITACAO', 1),\n",
       "             ('O', 2),\n",
       "             ('B-NUM_LICITACAO', 3),\n",
       "             ('I-NUM_LICITACAO', 4),\n",
       "             ('B-OBJ_LICITACAO', 5),\n",
       "             ('I-OBJ_LICITACAO', 6),\n",
       "             ('B-PROCESSO', 7),\n",
       "             ('I-PROCESSO', 8),\n",
       "             ('B-DATA_ABERTURA', 9),\n",
       "             ('I-DATA_ABERTURA', 10),\n",
       "             ('B-SISTEMA_COMPRAS', 11),\n",
       "             ('I-SISTEMA_COMPRAS', 12),\n",
       "             ('B-CODIGO_SISTEMA_COMPRAS', 13),\n",
       "             ('I-CODIGO_SISTEMA_COMPRAS', 14),\n",
       "             ('B-VALOR_ESTIMADO', 15),\n",
       "             ('I-VALOR_ESTIMADO', 16),\n",
       "             ('I-MODALIDADE_LICITACAO', 17),\n",
       "             ('B-ORGAO_LICITANTE', 18),\n",
       "             ('I-ORGAO_LICITANTE', 19),\n",
       "             ('B-TIPO_OBJ', 20),\n",
       "             ('I-TIPO_OBJ', 21)])"
      ]
     },
     "execution_count": 31,
     "metadata": {},
     "output_type": "execute_result"
    }
   ],
   "source": [
    "tag2idx"
   ]
  },
  {
   "cell_type": "code",
   "execution_count": 32,
   "metadata": {},
   "outputs": [
    {
     "name": "stdout",
     "output_type": "stream",
     "text": [
      "<UNK> 0\n",
      "<PAD> 1\n",
      "<BOS> 2\n",
      "<EOS> 3\n",
      "PREGÃO 4\n",
      "Nº 5\n",
      "519 6\n",
      "2005 7\n",
      "Objeto 8\n",
      "AQUISIÇÃO 9\n",
      "DE 10\n",
      "APARELHOS 11\n",
      "equipamentos 12\n",
      "utensílios 13\n",
      "médico 14\n",
      "odontologico 15\n",
      "laboratorial 16\n",
      "ratorial 17\n",
      "e 18\n",
      "hospitalar 19\n",
      "Sistema 20\n"
     ]
    }
   ],
   "source": [
    "for idx, word in enumerate(word2idx):\n",
    "    print(word, word2idx[word])\n",
    "    if idx >= 20:\n",
    "        break"
   ]
  },
  {
   "cell_type": "markdown",
   "metadata": {},
   "source": [
    "### Passo 3: Substituir as palavras e classes pelos seus indices nos dicionarios criados"
   ]
  },
  {
   "cell_type": "code",
   "execution_count": 33,
   "metadata": {},
   "outputs": [
    {
     "data": {
      "text/plain": [
       "[4,\n",
       " 5,\n",
       " 6,\n",
       " 7,\n",
       " 8,\n",
       " 9,\n",
       " 10,\n",
       " 11,\n",
       " 12,\n",
       " 13,\n",
       " 14,\n",
       " 15,\n",
       " 16,\n",
       " 17,\n",
       " 18,\n",
       " 19,\n",
       " 20,\n",
       " 21,\n",
       " 22,\n",
       " 23,\n",
       " 24,\n",
       " 25,\n",
       " 26,\n",
       " 27,\n",
       " 18,\n",
       " 28,\n",
       " 29,\n",
       " 30,\n",
       " 31,\n",
       " 32,\n",
       " 33,\n",
       " 34,\n",
       " 35,\n",
       " 36,\n",
       " 37,\n",
       " 38,\n",
       " 7,\n",
       " 39,\n",
       " 40,\n",
       " 21,\n",
       " 41,\n",
       " 7,\n",
       " 42,\n",
       " 43,\n",
       " 44,\n",
       " 45,\n",
       " 46,\n",
       " 47,\n",
       " 48,\n",
       " 49,\n",
       " 50,\n",
       " 51,\n",
       " 52,\n",
       " 53,\n",
       " 54,\n",
       " 55,\n",
       " 56,\n",
       " 57,\n",
       " 58,\n",
       " 59,\n",
       " 60,\n",
       " 21,\n",
       " 61,\n",
       " 62,\n",
       " 63,\n",
       " 21,\n",
       " 64,\n",
       " 18,\n",
       " 65,\n",
       " 33,\n",
       " 66,\n",
       " 67,\n",
       " 30,\n",
       " 68,\n",
       " 69,\n",
       " 70,\n",
       " 71,\n",
       " 72,\n",
       " 73,\n",
       " 74,\n",
       " 75,\n",
       " 76,\n",
       " 77,\n",
       " 78,\n",
       " 79,\n",
       " 80,\n",
       " 81,\n",
       " 42,\n",
       " 82,\n",
       " 18,\n",
       " 80,\n",
       " 83,\n",
       " 84,\n",
       " 85,\n",
       " 86,\n",
       " 87,\n",
       " 33,\n",
       " 88,\n",
       " 21,\n",
       " 89,\n",
       " 90,\n",
       " 91,\n",
       " 92,\n",
       " 93,\n",
       " 94,\n",
       " 95,\n",
       " 21,\n",
       " 96,\n",
       " 97,\n",
       " 98,\n",
       " 99,\n",
       " 30,\n",
       " 100,\n",
       " 21,\n",
       " 101,\n",
       " 102,\n",
       " 103,\n",
       " 104,\n",
       " 105,\n",
       " 106,\n",
       " 107,\n",
       " 18,\n",
       " 58,\n",
       " 108,\n",
       " 109,\n",
       " 110,\n",
       " 111,\n",
       " 46,\n",
       " 112,\n",
       " 113,\n",
       " 114,\n",
       " 115,\n",
       " 86,\n",
       " 116,\n",
       " 111,\n",
       " 117,\n",
       " 118,\n",
       " 33,\n",
       " 66,\n",
       " 67,\n",
       " 119,\n",
       " 120,\n",
       " 121,\n",
       " 122,\n",
       " 123,\n",
       " 124,\n",
       " 21,\n",
       " 125,\n",
       " 21,\n",
       " 7,\n",
       " 126,\n",
       " 127,\n",
       " 10,\n",
       " 128,\n",
       " 129]"
      ]
     },
     "execution_count": 33,
     "metadata": {},
     "output_type": "execute_result"
    }
   ],
   "source": [
    "def numericalize(sentences, word2idx, tag_sentences, tag2idx):\n",
    "    numericalized_sentences = [[word2idx['<UNK>'] if word not in word2idx else word2idx[word] for word in sentence] for sentence in sentences]\n",
    "    numericalized_tags = [[tag2idx[tag] for tag in tags] for tags in tag_sentences]\n",
    "    return numericalized_sentences, numericalized_tags\n",
    "\n",
    "train_x, train_y = numericalize(train_x, word2idx, train_y, tag2idx)\n",
    "valid_x, valid_y = numericalize(valid_x, word2idx, valid_y, tag2idx)\n",
    "test_x, test_y = numericalize(test_x, word2idx, test_y, tag2idx)\n",
    "\n",
    "train_x[0]"
   ]
  },
  {
   "cell_type": "markdown",
   "metadata": {},
   "source": [
    "### Passo 4: Adicionar tokens de inicio e final de sentenca"
   ]
  },
  {
   "cell_type": "code",
   "execution_count": 34,
   "metadata": {},
   "outputs": [
    {
     "data": {
      "text/plain": [
       "tensor([  2,   4,   5,   6,   7,   8,   9,  10,  11,  12,  13,  14,  15,  16,\n",
       "         17,  18,  19,  20,  21,  22,  23,  24,  25,  26,  27,  18,  28,  29,\n",
       "         30,  31,  32,  33,  34,  35,  36,  37,  38,   7,  39,  40,  21,  41,\n",
       "          7,  42,  43,  44,  45,  46,  47,  48,  49,  50,  51,  52,  53,  54,\n",
       "         55,  56,  57,  58,  59,  60,  21,  61,  62,  63,  21,  64,  18,  65,\n",
       "         33,  66,  67,  30,  68,  69,  70,  71,  72,  73,  74,  75,  76,  77,\n",
       "         78,  79,  80,  81,  42,  82,  18,  80,  83,  84,  85,  86,  87,  33,\n",
       "         88,  21,  89,  90,  91,  92,  93,  94,  95,  21,  96,  97,  98,  99,\n",
       "         30, 100,  21, 101, 102, 103, 104, 105, 106, 107,  18,  58, 108, 109,\n",
       "        110, 111,  46, 112, 113, 114, 115,  86, 116, 111, 117, 118,  33,  66,\n",
       "         67, 119, 120, 121, 122, 123, 124,  21, 125,  21,   7, 126, 127,  10,\n",
       "        128, 129,   3])"
      ]
     },
     "execution_count": 34,
     "metadata": {},
     "output_type": "execute_result"
    }
   ],
   "source": [
    "import itertools\n",
    "import torch\n",
    "def add_special_tokens(sentences, word2idx, tag_sentences, tag2idx):\n",
    "    formatted_sentences = [torch.LongTensor([word for word in itertools.chain([word2idx['<BOS>']], sentence, [word2idx['<EOS>']])]) for sentence in sentences]\n",
    "    formatted_tags = [torch.LongTensor([tag for tag in itertools.chain([tag2idx['O']], tags, [tag2idx['O']])]) for tags in tag_sentences]\n",
    "    return formatted_sentences, formatted_tags\n",
    "\n",
    "train_x, train_y = add_special_tokens(train_x, word2idx, train_y, tag2idx)\n",
    "valid_x, valid_y = add_special_tokens(valid_x, word2idx, valid_y, tag2idx)\n",
    "test_x, test_y   = add_special_tokens(test_x, word2idx, test_y, tag2idx)\n",
    "\n",
    "train_x[0]"
   ]
  },
  {
   "cell_type": "markdown",
   "metadata": {},
   "source": [
    "### Passo 5: Criar os mini-batches de treinamento"
   ]
  },
  {
   "cell_type": "code",
   "execution_count": 35,
   "metadata": {},
   "outputs": [
    {
     "data": {
      "text/plain": [
       "(164, 347)"
      ]
     },
     "execution_count": 35,
     "metadata": {},
     "output_type": "execute_result"
    }
   ],
   "source": [
    "len(train_x), max([len(ato) for ato in train_x])"
   ]
  },
  {
   "cell_type": "code",
   "execution_count": 36,
   "metadata": {},
   "outputs": [],
   "source": [
    "import numpy as np\n",
    "\n",
    "# Ordenando sentencas por tamanho (antes de criar os batches)\n",
    "ordered_idx = np.argsort([len(train_x[i]) for i in range(len(train_x))])\n",
    "train_x = [train_x[idx] for idx in ordered_idx]\n",
    "train_y = [train_y[idx] for idx in ordered_idx]"
   ]
  },
  {
   "cell_type": "code",
   "execution_count": 37,
   "metadata": {},
   "outputs": [],
   "source": [
    "from torch.nn.utils.rnn import pad_sequence\n",
    "\n",
    "def create_batches(x, y, batch_size, pad_token, pad_class):\n",
    "    batch_x = []\n",
    "    batch_y = []\n",
    "    mask = []\n",
    "\n",
    "    # Separando os batches pelo tamanho de batch_size\n",
    "    i = 0\n",
    "    while i < len(x):\n",
    "        batch_x.append(x[i:min(len(x), i+batch_size)])\n",
    "        batch_y.append(y[i:min(len(y), i+batch_size)])\n",
    "        i += batch_size\n",
    "    \n",
    "    # Realizando padding dos batches e criando mask para identificar padding durante o treinamento\n",
    "    for i in range(len(batch_x)):\n",
    "        batch_x[i] = pad_sequence(batch_x[i], batch_first = True, padding_value = pad_token)\n",
    "        batch_y[i] = pad_sequence(batch_y[i], batch_first = True, padding_value = pad_class)\n",
    "        mask.append(batch_x[i] != pad_token)\n",
    "\n",
    "    return batch_x, batch_y, mask\n",
    "\n",
    "train_x, train_y, mask = create_batches(train_x, train_y, batch_size=32, pad_token=word2idx['<PAD>'], pad_class=tag2idx['<PAD>'])\n",
    "valid_x, _, valid_mask = create_batches(valid_x, valid_y, batch_size=len(valid_x), pad_token=word2idx['<PAD>'], pad_class=tag2idx['<PAD>'])\n",
    "test_x, _, test_mask   = create_batches(test_x,  test_y,  batch_size=len(test_x),  pad_token=word2idx['<PAD>'], pad_class=tag2idx['<PAD>'])"
   ]
  },
  {
   "cell_type": "code",
   "execution_count": 38,
   "metadata": {},
   "outputs": [
    {
     "data": {
      "text/plain": [
       "(torch.Size([32, 105]), torch.Size([32, 105]), torch.Size([32, 105]))"
      ]
     },
     "execution_count": 38,
     "metadata": {},
     "output_type": "execute_result"
    }
   ],
   "source": [
    "train_x[0].shape, train_y[0].shape, mask[0].shape"
   ]
  },
  {
   "cell_type": "code",
   "execution_count": 39,
   "metadata": {},
   "outputs": [
    {
     "data": {
      "text/plain": [
       "tensor([   2,  389,  456, 1035,  252,  459,  491,   33,  437,  461,  462,  865,\n",
       "         864, 1036,  150,  255,   21, 1037, 1038, 1039, 1040, 1041, 1042, 1043,\n",
       "        1044, 1045, 1046, 1047, 1048, 1049,  923, 1050,  199, 1051, 1052, 1053,\n",
       "        1054,   18,  804,  274,   18,  275,  199,  239,  312,  333,  252,   42,\n",
       "         721,  772,    3])"
      ]
     },
     "execution_count": 39,
     "metadata": {},
     "output_type": "execute_result"
    }
   ],
   "source": [
    "train_x[0][0, :mask[0][0].sum()]"
   ]
  },
  {
   "cell_type": "markdown",
   "metadata": {},
   "source": [
    "## Criando o modelo neural biLSTM-CRF\n",
    "\n",
    "O modelo consiste em:\n",
    "\n",
    "\n",
    "\n",
    "1.   Camada de embeddings (transforma indices das palavras em vetores numericos)\n",
    "2.   Camada biLSTM para encode da informação (-> <-)\n",
    "3.   Camada linear para reducao da dimensao do vetor de saida da camada biLSTM\n",
    "3.   Camada CRF para classificação de cada token de entrada"
   ]
  },
  {
   "cell_type": "code",
   "execution_count": 40,
   "metadata": {},
   "outputs": [],
   "source": [
    "from torchcrf import CRF"
   ]
  },
  {
   "cell_type": "code",
   "execution_count": 41,
   "metadata": {},
   "outputs": [],
   "source": [
    "class bilstm_crf(torch.nn.Module):\n",
    "    def __init__(self, word2idx, tag2idx):\n",
    "        super(bilstm_crf, self).__init__()\n",
    "        # Camada de embeddings\n",
    "        self.embedding = torch.nn.Embedding(num_embeddings=len(word2idx), embedding_dim = 50, padding_idx = word2idx['<PAD>'])\n",
    "        # Camada biLSTM\n",
    "        self.bilstm = torch.nn.LSTM(input_size=50, hidden_size = 200, num_layers = 2, batch_first = True, bidirectional = True, dropout = 0.25)\n",
    "        # Camada linear\n",
    "        self.linear = torch.nn.Linear(400, len(tag2idx))\n",
    "        # Camada CRF\n",
    "        self.crf = CRF(num_tags = len(tag2idx), batch_first = True)\n",
    "\n",
    "    def forward(self, x, y, mask):\n",
    "        x = self.embedding(x)\n",
    "        x, _ = self.bilstm(x)\n",
    "        x = self.linear(x)\n",
    "        loss = self.crf(x, y, mask=mask)\n",
    "        return loss\n",
    "\n",
    "    def decode(self, x, mask):\n",
    "        x = self.embedding(x)\n",
    "        x, _ = self.bilstm(x)\n",
    "        x = self.linear(x)\n",
    "        prediction = self.crf.decode(x, mask=mask)\n",
    "        return prediction"
   ]
  },
  {
   "cell_type": "code",
   "execution_count": 42,
   "metadata": {},
   "outputs": [
    {
     "data": {
      "text/plain": [
       "tensor(-9002.9863, grad_fn=<SumBackward0>)"
      ]
     },
     "execution_count": 42,
     "metadata": {},
     "output_type": "execute_result"
    }
   ],
   "source": [
    "model = bilstm_crf(word2idx = word2idx, tag2idx = tag2idx)\n",
    "loss = model(train_x[0], train_y[0], mask[0])\n",
    "prediction = model.decode(valid_x[0], valid_mask[0])\n",
    "\n",
    "loss"
   ]
  },
  {
   "cell_type": "code",
   "execution_count": 43,
   "metadata": {},
   "outputs": [
    {
     "name": "stdout",
     "output_type": "stream",
     "text": [
      "cpu\n"
     ]
    }
   ],
   "source": [
    "device = torch.device(\"cuda\" if torch.cuda.is_available() else \"cpu\")\n",
    "print(device)\n",
    "model = model.to(device)"
   ]
  },
  {
   "cell_type": "markdown",
   "metadata": {},
   "source": [
    "## Código para avaliação do modelo\n",
    "\n",
    "Métrica span-based f1-score (f1-score a nível de entidades)\n",
    "\n",
    "$f_1 = 2\\frac{precision\\times recall}{precision + recall}$\n",
    "\n",
    "$precision = \\frac{TP}{TP + FP}$\n",
    "\n",
    "$recall = \\frac{TP}{TP + FN}$"
   ]
  },
  {
   "cell_type": "code",
   "execution_count": 44,
   "metadata": {},
   "outputs": [],
   "source": [
    "from seqeval.metrics import f1_score\n",
    "from seqeval.scheme import IOB1"
   ]
  },
  {
   "cell_type": "code",
   "execution_count": 45,
   "metadata": {},
   "outputs": [],
   "source": [
    "idx2tag = {idx: tag for tag, idx in tag2idx.items()}\n",
    "\n",
    "def IOBify(tags_sequence, idx2tag):\n",
    "    if isinstance(tags_sequence[0], list):\n",
    "        iob_y = [[idx2tag[tag] for tag in tags] for tags in tags_sequence]\n",
    "    else:\n",
    "        iob_y = [[idx2tag[tag.item()] for tag in tags] for tags in tags_sequence]\n",
    "    return iob_y\n",
    "\n",
    "y_true = IOBify(valid_y, idx2tag)\n",
    "y_pred = IOBify(prediction, idx2tag)"
   ]
  },
  {
   "cell_type": "code",
   "execution_count": 46,
   "metadata": {},
   "outputs": [
    {
     "data": {
      "text/plain": [
       "0.0021777003484320556"
      ]
     },
     "execution_count": 46,
     "metadata": {},
     "output_type": "execute_result"
    }
   ],
   "source": [
    "f1_score(y_true, y_pred)"
   ]
  },
  {
   "cell_type": "markdown",
   "metadata": {},
   "source": [
    "## Código para treinamento do modelo"
   ]
  },
  {
   "cell_type": "code",
   "execution_count": 47,
   "metadata": {},
   "outputs": [],
   "source": [
    "lrate = 0.015\n",
    "optim = torch.optim.SGD(model.parameters(), lr=lrate, momentum=0.9)"
   ]
  },
  {
   "cell_type": "code",
   "execution_count": 48,
   "metadata": {},
   "outputs": [
    {
     "name": "stdout",
     "output_type": "stream",
     "text": [
      "Epoch: 0 | Loss media: 10525.5546875 | f1-score: 0.0\n",
      "Epoch: 1 | Loss media: 4984.36181640625 | f1-score: 0.0\n",
      "Epoch: 2 | Loss media: 4031.839599609375 | f1-score: 0.0\n",
      "Epoch: 3 | Loss media: 3434.268310546875 | f1-score: 0.0\n",
      "Epoch: 4 | Loss media: 3233.984375 | f1-score: 0.0\n",
      "Epoch: 5 | Loss media: 2777.2060546875 | f1-score: 0.0\n",
      "Epoch: 6 | Loss media: 2623.4521484375 | f1-score: 0.0\n",
      "Epoch: 7 | Loss media: 2441.472412109375 | f1-score: 0.0\n",
      "Epoch: 8 | Loss media: 2214.09423828125 | f1-score: 0.0\n",
      "Epoch: 9 | Loss media: 2061.86669921875 | f1-score: 0.01532567049808429\n",
      "Epoch: 10 | Loss media: 1882.01611328125 | f1-score: 0.0\n",
      "Epoch: 11 | Loss media: 1741.376953125 | f1-score: 0.012048192771084338\n",
      "Epoch: 12 | Loss media: 1631.0379638671875 | f1-score: 0.062256809338521395\n",
      "Epoch: 13 | Loss media: 1579.0018310546875 | f1-score: 0.06772908366533865\n",
      "Epoch: 14 | Loss media: 1486.8380126953125 | f1-score: 0.07157057654075547\n",
      "Epoch: 15 | Loss media: 1446.5245361328125 | f1-score: 0.10058027079303675\n",
      "Epoch: 16 | Loss media: 1336.4044189453125 | f1-score: 0.15584415584415584\n",
      "Epoch: 17 | Loss media: 1267.7021484375 | f1-score: 0.21702838063439062\n",
      "Epoch: 18 | Loss media: 1207.0047607421875 | f1-score: 0.27986348122866894\n",
      "Epoch: 19 | Loss media: 1135.0623779296875 | f1-score: 0.28027681660899656\n",
      "Epoch: 20 | Loss media: 1109.7772216796875 | f1-score: 0.3201320132013201\n",
      "Epoch: 21 | Loss media: 1176.552978515625 | f1-score: 0.304857621440536\n",
      "Epoch: 22 | Loss media: 1264.6563720703125 | f1-score: 0.2931937172774869\n",
      "Epoch: 23 | Loss media: 1273.657958984375 | f1-score: 0.28324697754749567\n",
      "Epoch: 24 | Loss media: 1234.75244140625 | f1-score: 0.3638644918444166\n",
      "Epoch: 25 | Loss media: 1120.8594970703125 | f1-score: 0.34080717488789236\n",
      "Epoch: 26 | Loss media: 978.9469604492188 | f1-score: 0.37537537537537535\n",
      "Epoch: 27 | Loss media: 896.6459350585938 | f1-score: 0.3903903903903904\n",
      "Epoch: 28 | Loss media: 861.8251953125 | f1-score: 0.379746835443038\n",
      "Epoch: 29 | Loss media: 977.785888671875 | f1-score: 0.37731196054254007\n",
      "Epoch: 30 | Loss media: 899.543212890625 | f1-score: 0.37643678160919536\n",
      "Epoch: 31 | Loss media: 817.326171875 | f1-score: 0.4426877470355731\n",
      "Epoch: 32 | Loss media: 755.3408813476562 | f1-score: 0.4264099037138927\n",
      "Epoch: 33 | Loss media: 725.5637817382812 | f1-score: 0.4341926729986431\n",
      "Epoch: 34 | Loss media: 689.71337890625 | f1-score: 0.44859813084112143\n",
      "Epoch: 35 | Loss media: 653.1600341796875 | f1-score: 0.47150259067357514\n",
      "Epoch: 36 | Loss media: 625.93212890625 | f1-score: 0.46763540290620875\n",
      "Epoch: 37 | Loss media: 611.6885375976562 | f1-score: 0.4502923976608187\n",
      "Epoch: 38 | Loss media: 753.296142578125 | f1-score: 0.4722222222222222\n",
      "Epoch: 39 | Loss media: 603.902587890625 | f1-score: 0.5079365079365079\n",
      "Epoch: 40 | Loss media: 580.8934936523438 | f1-score: 0.502979737783075\n",
      "Epoch: 41 | Loss media: 545.8334350585938 | f1-score: 0.5076741440377804\n",
      "Epoch: 42 | Loss media: 550.15771484375 | f1-score: 0.5287637698898409\n",
      "Epoch: 43 | Loss media: 505.3742370605469 | f1-score: 0.5233415233415234\n",
      "Epoch: 44 | Loss media: 484.625244140625 | f1-score: 0.5406758448060075\n",
      "Epoch: 45 | Loss media: 458.1432189941406 | f1-score: 0.539906103286385\n",
      "Epoch: 46 | Loss media: 435.38232421875 | f1-score: 0.5342624854819977\n",
      "Epoch: 47 | Loss media: 418.0888366699219 | f1-score: 0.5353075170842824\n",
      "Epoch: 48 | Loss media: 425.2127380371094 | f1-score: 0.5338645418326693\n",
      "Epoch: 49 | Loss media: 470.98193359375 | f1-score: 0.5657015590200445\n"
     ]
    }
   ],
   "source": [
    "f1_history = []\n",
    "mean_loss_history = []\n",
    "\n",
    "# Alterar numero de epocas de treinamento (~30-50 epocas para modelo bem treinado)\n",
    "for epoch in range(50):\n",
    "    mean_loss = 0.0\n",
    "    model.train()\n",
    "    # Iniciando uma epoch de treinamento supervisionado\n",
    "    for batch in range(len(train_x)):\n",
    "        x = train_x[batch].to(device)\n",
    "        y = train_y[batch].to(device)\n",
    "        m = mask[batch].to(device)\n",
    "        optim.zero_grad()\n",
    "        loss = -model(x, y, m)\n",
    "        loss.backward()\n",
    "        torch.nn.utils.clip_grad_norm_(model.parameters(), 5.0)\n",
    "        optim.step()\n",
    "        mean_loss += loss\n",
    "    mean_loss /= len(train_x)\n",
    "    mean_loss_history.append(mean_loss)\n",
    "\n",
    "    model.eval()\n",
    "    # Calculo do desempenho do modelo treinado nesta epoch\n",
    "    y_pred = model.decode(valid_x[0].to(device), valid_mask[0].to(device))\n",
    "    y_pred = IOBify(y_pred, idx2tag)\n",
    "    y_true = IOBify(valid_y, idx2tag)\n",
    "    f1 = f1_score(y_true, y_pred)\n",
    "    f1_history.append(f1)\n",
    "\n",
    "    print(f'Epoch: {epoch} | Loss media: {mean_loss} | f1-score: {f1}')"
   ]
  },
  {
   "cell_type": "code",
   "execution_count": 49,
   "metadata": {},
   "outputs": [],
   "source": [
    "mean_loss_history_ = [mean_loss.item() for mean_loss in mean_loss_history]"
   ]
  },
  {
   "cell_type": "code",
   "execution_count": 50,
   "metadata": {},
   "outputs": [
    {
     "data": {
      "text/plain": [
       "[Text(0.5, 0, 'epochs'), Text(0, 0.5, 'mean loss')]"
      ]
     },
     "execution_count": 50,
     "metadata": {},
     "output_type": "execute_result"
    },
    {
     "data": {
      "image/png": "[encoded data removed]",
      "text/plain": [
       "<Figure size 432x288 with 2 Axes>"
      ]
     },
     "metadata": {
      "needs_background": "light"
     },
     "output_type": "display_data"
    }
   ],
   "source": [
    "import matplotlib.pyplot as plt\n",
    "\n",
    "fig, axs = plt.subplots(2)\n",
    "axs[0].plot(f1_history)\n",
    "axs[1].plot(mean_loss_history_)\n",
    "axs[0].set(ylabel='f1-score')\n",
    "axs[1].set(xlabel='epochs', ylabel='mean loss')"
   ]
  },
  {
   "cell_type": "markdown",
   "metadata": {},
   "source": [
    "## Utilização do modelo treinado para predição em novos dados e interface com usuário\n",
    "\n",
    "Passos:\n",
    "\n",
    "\n",
    "1.   Transformar as palavras do texto em indices utilizando o dicionario word2idx e converter para tensor\n",
    "2.   Realizar as predições\n",
    "3.   Realizar extração das entidades de acordo com as predições"
   ]
  },
  {
   "cell_type": "markdown",
   "metadata": {},
   "source": [
    "### Passo 1: Transformar as palavras em indices utilizando word2idx"
   ]
  },
  {
   "cell_type": "code",
   "execution_count": 52,
   "metadata": {},
   "outputs": [
    {
     "name": "stdout",
     "output_type": "stream",
     "text": [
      "<BOS> AVISO DE LICITAÇÃO PREGÃO ELETRÔNICO Nº 46/2022 - UASG 974002 O Pregoeiro comunica aos interessados que a fim de atender a demanda dos Órgãos que compõem a estrutura administrativa do Distrito Federal, a Subsecretaria de Compras Governamentais-SCG/SPLAN/SEEC-DF operacionalizará o Pregão Eletrônico acima referenciado, cujo objeto é Registro de Preços para a eventual aquisição de materiais de copa e cozinha (colher, filtro para café, jarra e outros), conforme especificações e quantidades constantes no Edital e seus Anexos. Valor estimado: R$ 1.827.205,95. Tipo de Licitação: menor preço. Abertura das propostas dia 27/04/2022, às 10h. Processo n.º 00040-00002212/2022-04. O edital poderá ser retirado no endereço eletrônico: www.comprasgovernamentais.gov.br. Informações pelo e-mail: pregoeirosulog01@economia.df.gov.br. Brasília/DF, 12 de abril de 2022 AUGUSTO CESAR PIRES ARANHA <EOS>\n"
     ]
    }
   ],
   "source": [
    "text = '<BOS> AVISO DE LICITAÇÃO PREGÃO ELETRÔNICO Nº 46/2022 - UASG 974002 O Pregoeiro comunica aos interessados que a fim de atender a demanda dos Órgãos que compõem a estrutura administrativa do Distrito Federal, a Subsecretaria de Compras Governamentais-SCG/SPLAN/SEEC-DF operacionalizará o Pregão Eletrônico acima referenciado, cujo objeto é Registro de Preços para a eventual aquisição de materiais de copa e cozinha (colher, filtro para café, jarra e outros), conforme especificações e quantidades constantes no Edital e seus Anexos. Valor estimado: R$ 1.827.205,95. Tipo de Licitação: menor preço. Abertura das propostas dia 27/04/2022, às 10h. Processo n.º 00040-00002212/2022-04. O edital poderá ser retirado no endereço eletrônico: www.comprasgovernamentais.gov.br. Informações pelo e-mail: pregoeirosulog01@economia.df.gov.br. Brasília/DF, 12 de abril de 2022 AUGUSTO CESAR PIRES ARANHA <EOS>'.split()\n",
    "print(' '.join(text))"
   ]
  },
  {
   "cell_type": "code",
   "execution_count": 53,
   "metadata": {},
   "outputs": [
    {
     "data": {
      "text/plain": [
       "(torch.Size([1, 120]), torch.Size([1, 120]))"
      ]
     },
     "execution_count": 53,
     "metadata": {},
     "output_type": "execute_result"
    }
   ],
   "source": [
    "num_text = torch.LongTensor([word2idx['<UNK>'] if word not in word2idx else word2idx[word] for word in text]).unsqueeze(dim=0)\n",
    "mask = num_text != -1\n",
    "num_text.shape, mask.shape"
   ]
  },
  {
   "cell_type": "markdown",
   "metadata": {
    "id": "hwT-Tipv_c-v"
   },
   "source": [
    "### Passo 2: Realizar predições"
   ]
  },
  {
   "cell_type": "code",
   "execution_count": 54,
   "metadata": {
    "id": "AqQY9yZ-8XyV"
   },
   "outputs": [],
   "source": [
    "model = model.to('cpu')"
   ]
  },
  {
   "cell_type": "code",
   "execution_count": 55,
   "metadata": {
    "colab": {
     "base_uri": "https://localhost:8080/"
    },
    "id": "6WgukIwD74HC",
    "outputId": "26929600-940a-41e3-e163-daf3840c7947"
   },
   "outputs": [
    {
     "name": "stdout",
     "output_type": "stream",
     "text": [
      "<BOS> O\n",
      "AVISO O\n",
      "DE O\n",
      "LICITAÇÃO O\n",
      "PREGÃO B-MODALIDADE_LICITACAO\n",
      "ELETRÔNICO I-MODALIDADE_LICITACAO\n",
      "Nº O\n",
      "46/2022 B-NUM_LICITACAO\n",
      "- I-NUM_LICITACAO\n",
      "UASG B-NUM_LICITACAO\n",
      "974002 I-NUM_LICITACAO\n",
      "O O\n",
      "Pregoeiro O\n",
      "comunica O\n",
      "aos O\n",
      "interessados O\n",
      "que O\n",
      "a O\n",
      "fim O\n",
      "de O\n",
      "atender O\n"
     ]
    }
   ],
   "source": [
    "y_pred = model.decode(num_text, mask)\n",
    "y_pred = IOBify(y_pred, idx2tag)\n",
    "for idx, (word, tag) in enumerate(zip(text, y_pred[0])):\n",
    "    print(word, tag)\n",
    "    if idx >= 20:\n",
    "        break"
   ]
  },
  {
   "cell_type": "markdown",
   "metadata": {
    "id": "qy7nDudU_mS2"
   },
   "source": [
    "### Passo 3: Realizar extração das entidades de acordo com as predições"
   ]
  },
  {
   "cell_type": "code",
   "execution_count": 56,
   "metadata": {
    "id": "0KIfxDeD8aaI"
   },
   "outputs": [],
   "source": [
    "def extract_entities(y_pred, text):\n",
    "    inside_entity = False\n",
    "    entity_type = ''\n",
    "    entity = ''\n",
    "    entities = []\n",
    "    for word, tag in zip(text, y_pred[0]):\n",
    "        if not inside_entity:\n",
    "            if tag[0] == 'B':\n",
    "                inside_entity = True\n",
    "                entity = word\n",
    "                entity_type = tag[2:]\n",
    "        else:\n",
    "            if tag[0] == 'B':\n",
    "                entities.append((entity_type, entity))\n",
    "                entity = word\n",
    "                entity_type = tag[2:]\n",
    "                inside_entity = True\n",
    "            elif tag[0] == 'I':\n",
    "                entity = entity + ' ' + word\n",
    "                inside_entity = True\n",
    "            else:\n",
    "                entities.append((entity_type, entity))\n",
    "                entity = ''\n",
    "                entity_type = 'O'\n",
    "                inside_entity = False\n",
    "    return entities\n",
    "\n",
    "entities = extract_entities(y_pred, text)"
   ]
  },
  {
   "cell_type": "code",
   "execution_count": 57,
   "metadata": {
    "colab": {
     "base_uri": "https://localhost:8080/"
    },
    "id": "H_l51CHq-HsZ",
    "outputId": "9d29aab6-9813-454a-d81c-2ac6b85261fc"
   },
   "outputs": [
    {
     "data": {
      "text/plain": [
       "[('MODALIDADE_LICITACAO', 'PREGÃO ELETRÔNICO'),\n",
       " ('NUM_LICITACAO', '46/2022 -'),\n",
       " ('NUM_LICITACAO', 'UASG 974002'),\n",
       " ('OBJ_LICITACAO',\n",
       "  'Registro de Preços para a eventual aquisição de materiais de copa e cozinha (colher, filtro para café, jarra e outros), conforme especificações e quantidades constantes no Edital e seus Anexos.')]"
      ]
     },
     "execution_count": 57,
     "metadata": {},
     "output_type": "execute_result"
    }
   ],
   "source": [
    "entities"
   ]
  },
  {
   "cell_type": "code",
   "execution_count": null,
   "metadata": {},
   "outputs": [],
   "source": []
  },
  {
   "cell_type": "code",
   "execution_count": null,
   "metadata": {},
   "outputs": [],
   "source": []
  },
  {
   "cell_type": "code",
   "execution_count": null,
   "metadata": {},
   "outputs": [],
   "source": []
  },
  {
   "cell_type": "code",
   "execution_count": null,
   "metadata": {},
   "outputs": [],
   "source": [
    "# https://www.investopedia.com/ask/answers/032615/what-are-some-examples-stratified-random-sampling.asp#:~:text=Stratified%20random%20sampling%20is%20a,into%20groups%20is%20called%20stratification.\n",
    "\n",
    "\n",
    "# https://scikit-learn.org/stable/modules/generated/sklearn.model_selection.StratifiedShuffleSplit.html"
   ]
  }
 ],
 "metadata": {
  "interpreter": {
   "hash": "d973542429c9f505f96bdf709f83097f4740f6c9df1afcdf6fa66ab031bc1ccc"
  },
  "kernelspec": {
   "display_name": "Python 3.9.7 ('ian': venv)",
   "language": "python",
   "name": "python3"
  },
  "language_info": {
   "codemirror_mode": {
    "name": "ipython",
    "version": 3
   },
   "file_extension": ".py",
   "mimetype": "text/x-python",
   "name": "python",
   "nbconvert_exporter": "python",
   "pygments_lexer": "ipython3",
   "version": "3.9.7"
  },
  "orig_nbformat": 4
 },
 "nbformat": 4,
 "nbformat_minor": 2
}
