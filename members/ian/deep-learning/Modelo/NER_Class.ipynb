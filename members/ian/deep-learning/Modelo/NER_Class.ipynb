{
 "cells": [
  {
   "cell_type": "markdown",
   "metadata": {},
   "source": [
    "### Dados"
   ]
  },
  {
   "cell_type": "code",
   "execution_count": 1,
   "metadata": {},
   "outputs": [
    {
     "data": {
      "text/plain": [
       "['AVISO X X O',\n",
       " 'DE X X O',\n",
       " 'LICITAÇÃO X X O',\n",
       " 'PREGÃO X X B-MODALIDADE_LICITACAO',\n",
       " 'ELETRÔNICO X X I-MODALIDADE_LICITACAO',\n",
       " 'Nº X X O',\n",
       " '01 X X B-NUM_LICITACAO',\n",
       " '2021 X X I-NUM_LICITACAO',\n",
       " 'Processo X X O',\n",
       " '00052 X X B-PROCESSO',\n",
       " '00021170 X X I-PROCESSO',\n",
       " '2020 X X I-PROCESSO',\n",
       " '47 X X I-PROCESSO',\n",
       " 'OBJETO X X O',\n",
       " 'Contratação X X B-OBJ_LICITACAO',\n",
       " 'de X X I-OBJ_LICITACAO',\n",
       " 'Concessionária X X I-OBJ_LICITACAO',\n",
       " 'Autorizada X X I-OBJ_LICITACAO',\n",
       " 'pela X X I-OBJ_LICITACAO',\n",
       " 'Montadora X X I-OBJ_LICITACAO']"
      ]
     },
     "execution_count": 1,
     "metadata": {},
     "output_type": "execute_result"
    }
   ],
   "source": [
    "train_path = 'avi_lic_train.txt'\n",
    "f = open(train_path, mode='r', encoding='utf-8').read().splitlines()\n",
    "f[:20]"
   ]
  },
  {
   "cell_type": "markdown",
   "metadata": {},
   "source": [
    "## Pré-processamento dos dados"
   ]
  },
  {
   "cell_type": "markdown",
   "metadata": {},
   "source": [
    "### Passo 1: Separando as palavras e as classes"
   ]
  },
  {
   "cell_type": "code",
   "execution_count": 2,
   "metadata": {},
   "outputs": [],
   "source": [
    "def preprocess(ner_set):\n",
    "    sentences = []\n",
    "    tags = []\n",
    "\n",
    "    temp_sentence = []\n",
    "    temp_tag = []\n",
    "    for line in ner_set:\n",
    "        try:\n",
    "            word, _, _, tag = line.split()\n",
    "            temp_sentence.append(word)\n",
    "            temp_tag.append(tag)\n",
    "        except:\n",
    "            sentences.append(temp_sentence)\n",
    "            tags.append(temp_tag)\n",
    "            temp_sentence = []\n",
    "            temp_tag = []\n",
    "\n",
    "    if temp_sentence:\n",
    "        sentences.append(temp_sentence)\n",
    "        tags.append(temp_tag)\n",
    "    return sentences, tags"
   ]
  },
  {
   "cell_type": "code",
   "execution_count": 3,
   "metadata": {},
   "outputs": [],
   "source": [
    "train_x, train_y = preprocess(open('avi_lic_train.txt', mode='r', encoding='utf-8'))\n",
    "valid_x, valid_y = preprocess(open('avi_lic_testa.txt', mode='r', encoding='utf-8'))\n",
    "test_x, test_y = preprocess(open('avi_lic_testb.txt', mode='r', encoding='utf-8'))"
   ]
  },
  {
   "cell_type": "code",
   "execution_count": 4,
   "metadata": {},
   "outputs": [
    {
     "data": {
      "text/plain": [
       "(163, 163, 35, 35, 36, 36)"
      ]
     },
     "execution_count": 4,
     "metadata": {},
     "output_type": "execute_result"
    }
   ],
   "source": [
    "len(train_x), len(train_y), len(valid_x), len(valid_y), len(test_x), len(test_y)"
   ]
  },
  {
   "cell_type": "code",
   "execution_count": 5,
   "metadata": {},
   "outputs": [
    {
     "name": "stdout",
     "output_type": "stream",
     "text": [
      "AVISO DE LICITAÇÃO PREGÃO ELETRÔNICO Nº 01 2021 Processo 00052 00021170 2020 47 OBJETO Contratação de Concessionária Autorizada pela Montadora RENA ULT localizada no Distrito Federal para prestação de serviços de forma contínua durante o período de garantia para as manutenções preventivas e corretivas com fomecimento e aplicação de peças e acessórios genuínos lubrificantes óleos aditivos higienizadores alinhamento e balanceamento para 40 quarenta viaturas marca RENAULT modelo Importado Logan ZEN 16MT anos modelos 2020 2021 1 6 flex gasolina álcool pertencentes à frota da Polícia Civil do Distrito Federal conforme especificações e condições estabelecidas no termo de referência constante do Anexo I do Edital TIPO Menor Preço Valor estimado da licitação R 826 897 20 oitocentos e vinte e seis mil oitocentos e noventa e sete reais e vinte centavos Natureza de Despesa 33 90 30 e 33 90 39 Fonte 100 Programa de Trabalho 28 845 0903 00NR 0053 Manutenção da Polícia Civil do Distrito Federal Unidade Orçamentária 73 901 Fundo Constitucional do Distrito Federal UASG 926015 Prazo de execução conforme Termo de Referência Data limite do recebimento das propostas 28 de janeiro de 2021 às 10 30h O Edital com todos seus anexos deverá ser obtido nos sites www comprasnet gov br e www pcdf df gov br ou ainda na Comissão Permanente de Licitação localizada no SPO Conjunto A Lote 23 Edifício da Direção Geral 3º Andar Complexo da PCDF Brasília DF nos dias úteis das 12h às 18h30min através de mídia a qual deverá ser fornecida pelo interessado Maiores informações na CPL PCDF fones 3207 4071 4046 Brasília DF 14 de janeiro de 2021 KELLY CRISTINA CORDEIRO GUEDES Pregoeira\n",
      "\n",
      "O O O B-MODALIDADE_LICITACAO I-MODALIDADE_LICITACAO O B-NUM_LICITACAO I-NUM_LICITACAO O B-PROCESSO I-PROCESSO I-PROCESSO I-PROCESSO O B-OBJ_LICITACAO I-OBJ_LICITACAO I-OBJ_LICITACAO I-OBJ_LICITACAO I-OBJ_LICITACAO I-OBJ_LICITACAO I-OBJ_LICITACAO I-OBJ_LICITACAO I-OBJ_LICITACAO I-OBJ_LICITACAO I-OBJ_LICITACAO I-OBJ_LICITACAO I-OBJ_LICITACAO I-OBJ_LICITACAO I-OBJ_LICITACAO I-OBJ_LICITACAO I-OBJ_LICITACAO I-OBJ_LICITACAO I-OBJ_LICITACAO I-OBJ_LICITACAO I-OBJ_LICITACAO I-OBJ_LICITACAO I-OBJ_LICITACAO I-OBJ_LICITACAO I-OBJ_LICITACAO I-OBJ_LICITACAO I-OBJ_LICITACAO I-OBJ_LICITACAO I-OBJ_LICITACAO I-OBJ_LICITACAO I-OBJ_LICITACAO I-OBJ_LICITACAO I-OBJ_LICITACAO I-OBJ_LICITACAO I-OBJ_LICITACAO I-OBJ_LICITACAO I-OBJ_LICITACAO I-OBJ_LICITACAO I-OBJ_LICITACAO I-OBJ_LICITACAO I-OBJ_LICITACAO I-OBJ_LICITACAO I-OBJ_LICITACAO I-OBJ_LICITACAO I-OBJ_LICITACAO I-OBJ_LICITACAO I-OBJ_LICITACAO I-OBJ_LICITACAO I-OBJ_LICITACAO I-OBJ_LICITACAO I-OBJ_LICITACAO I-OBJ_LICITACAO I-OBJ_LICITACAO I-OBJ_LICITACAO I-OBJ_LICITACAO I-OBJ_LICITACAO I-OBJ_LICITACAO I-OBJ_LICITACAO I-OBJ_LICITACAO I-OBJ_LICITACAO I-OBJ_LICITACAO I-OBJ_LICITACAO I-OBJ_LICITACAO I-OBJ_LICITACAO I-OBJ_LICITACAO I-OBJ_LICITACAO I-OBJ_LICITACAO I-OBJ_LICITACAO I-OBJ_LICITACAO I-OBJ_LICITACAO I-OBJ_LICITACAO I-OBJ_LICITACAO I-OBJ_LICITACAO I-OBJ_LICITACAO I-OBJ_LICITACAO O O O O O O O O O O O O O O O O O O O O O O B-VALOR_ESTIMADO I-VALOR_ESTIMADO I-VALOR_ESTIMADO I-VALOR_ESTIMADO O O O O O O O O O O O O O O O O O O O O O O O O O O O O O O O O O O O O O O O O O O O O O O O O O O O O B-CODIGO_SISTEMA_COMPRAS O O O O O O O O O O O O O O O O O O O O O O O O O O O O O O O O B-SISTEMA_COMPRAS I-SISTEMA_COMPRAS I-SISTEMA_COMPRAS I-SISTEMA_COMPRAS O B-SISTEMA_COMPRAS O O O O O O O O O O O O O O O O O O O O O O O O O O O O O O O O O O O O O O O O O O O O O O O O O O O O O O O O O O O O O O O O O O O\n"
     ]
    }
   ],
   "source": [
    "print(' '.join(train_x[0]))\n",
    "print()\n",
    "print(' '.join(train_y[0]))"
   ]
  },
  {
   "cell_type": "markdown",
   "metadata": {},
   "source": [
    "### Passo 2: Criando os dicionários de palavras e classes (utilizando o conjunto de treinamento)\n",
    "\n",
    "Incluindo os tokens especiais \\<UNK\\>, \\<BOS\\>, \\<EOS\\> de palavras e \\<PAD\\> para classes"
   ]
  },
  {
   "cell_type": "code",
   "execution_count": 6,
   "metadata": {},
   "outputs": [],
   "source": [
    "from collections import OrderedDict\n",
    "\n",
    "def word_dict(sentences):\n",
    "    word2idx = OrderedDict({'<UNK>': 0, '<PAD>': 1, '<BOS>': 2, '<EOS>': 3})\n",
    "    for sentence in sentences:\n",
    "        for word in sentence:\n",
    "            if word not in word2idx:\n",
    "                word2idx[word] = len(word2idx)\n",
    "    return word2idx\n",
    "\n",
    "def tag_dict(tag_sentences):\n",
    "    tag2idx = OrderedDict({'<PAD>': 0})\n",
    "    for tags in tag_sentences:\n",
    "        for tag in tags:\n",
    "            if tag not in tag2idx:\n",
    "                tag2idx[tag] = len(tag2idx)\n",
    "    return tag2idx\n",
    "\n",
    "word2idx = word_dict(train_x)\n",
    "tag2idx  = tag_dict(train_y)"
   ]
  },
  {
   "cell_type": "code",
   "execution_count": 7,
   "metadata": {},
   "outputs": [
    {
     "data": {
      "text/plain": [
       "OrderedDict([('<PAD>', 0),\n",
       "             ('O', 1),\n",
       "             ('B-MODALIDADE_LICITACAO', 2),\n",
       "             ('I-MODALIDADE_LICITACAO', 3),\n",
       "             ('B-NUM_LICITACAO', 4),\n",
       "             ('I-NUM_LICITACAO', 5),\n",
       "             ('B-PROCESSO', 6),\n",
       "             ('I-PROCESSO', 7),\n",
       "             ('B-OBJ_LICITACAO', 8),\n",
       "             ('I-OBJ_LICITACAO', 9),\n",
       "             ('B-VALOR_ESTIMADO', 10),\n",
       "             ('I-VALOR_ESTIMADO', 11),\n",
       "             ('B-CODIGO_SISTEMA_COMPRAS', 12),\n",
       "             ('B-SISTEMA_COMPRAS', 13),\n",
       "             ('I-SISTEMA_COMPRAS', 14),\n",
       "             ('B-DATA_ABERTURA', 15),\n",
       "             ('I-DATA_ABERTURA', 16),\n",
       "             ('B-TIPO_OBJ', 17),\n",
       "             ('I-TIPO_OBJ', 18),\n",
       "             ('B-ORGAO_LICITANTE', 19),\n",
       "             ('I-ORGAO_LICITANTE', 20),\n",
       "             ('I-CODIGO_SISTEMA_COMPRAS', 21)])"
      ]
     },
     "execution_count": 7,
     "metadata": {},
     "output_type": "execute_result"
    }
   ],
   "source": [
    "tag2idx"
   ]
  },
  {
   "cell_type": "code",
   "execution_count": 8,
   "metadata": {},
   "outputs": [
    {
     "name": "stdout",
     "output_type": "stream",
     "text": [
      "<UNK> 0\n",
      "<PAD> 1\n",
      "<BOS> 2\n",
      "<EOS> 3\n",
      "AVISO 4\n",
      "DE 5\n",
      "LICITAÇÃO 6\n",
      "PREGÃO 7\n",
      "ELETRÔNICO 8\n",
      "Nº 9\n",
      "01 10\n",
      "2021 11\n",
      "Processo 12\n",
      "00052 13\n",
      "00021170 14\n",
      "2020 15\n",
      "47 16\n",
      "OBJETO 17\n",
      "Contratação 18\n",
      "de 19\n",
      "Concessionária 20\n"
     ]
    }
   ],
   "source": [
    "for idx, word in enumerate(word2idx):\n",
    "    print(word, word2idx[word])\n",
    "    if idx >= 20:\n",
    "        break"
   ]
  },
  {
   "cell_type": "markdown",
   "metadata": {},
   "source": [
    "### Passo 3: Substituir as palavras e classes pelos seus indices nos dicionarios criados"
   ]
  },
  {
   "cell_type": "code",
   "execution_count": 9,
   "metadata": {},
   "outputs": [
    {
     "data": {
      "text/plain": [
       "[4,\n",
       " 5,\n",
       " 6,\n",
       " 7,\n",
       " 8,\n",
       " 9,\n",
       " 10,\n",
       " 11,\n",
       " 12,\n",
       " 13,\n",
       " 14,\n",
       " 15,\n",
       " 16,\n",
       " 17,\n",
       " 18,\n",
       " 19,\n",
       " 20,\n",
       " 21,\n",
       " 22,\n",
       " 23,\n",
       " 24,\n",
       " 25,\n",
       " 26,\n",
       " 27,\n",
       " 28,\n",
       " 29,\n",
       " 30,\n",
       " 31,\n",
       " 19,\n",
       " 32,\n",
       " 19,\n",
       " 33,\n",
       " 34,\n",
       " 35,\n",
       " 36,\n",
       " 37,\n",
       " 19,\n",
       " 38,\n",
       " 30,\n",
       " 39,\n",
       " 40,\n",
       " 41,\n",
       " 42,\n",
       " 43,\n",
       " 44,\n",
       " 45,\n",
       " 42,\n",
       " 46,\n",
       " 19,\n",
       " 47,\n",
       " 42,\n",
       " 48,\n",
       " 49,\n",
       " 50,\n",
       " 51,\n",
       " 52,\n",
       " 53,\n",
       " 54,\n",
       " 42,\n",
       " 55,\n",
       " 30,\n",
       " 56,\n",
       " 57,\n",
       " 58,\n",
       " 59,\n",
       " 60,\n",
       " 61,\n",
       " 62,\n",
       " 63,\n",
       " 64,\n",
       " 65,\n",
       " 66,\n",
       " 67,\n",
       " 15,\n",
       " 11,\n",
       " 68,\n",
       " 69,\n",
       " 70,\n",
       " 71,\n",
       " 72,\n",
       " 73,\n",
       " 74,\n",
       " 75,\n",
       " 76,\n",
       " 77,\n",
       " 78,\n",
       " 79,\n",
       " 28,\n",
       " 29,\n",
       " 80,\n",
       " 81,\n",
       " 42,\n",
       " 82,\n",
       " 83,\n",
       " 27,\n",
       " 84,\n",
       " 19,\n",
       " 85,\n",
       " 86,\n",
       " 79,\n",
       " 87,\n",
       " 88,\n",
       " 79,\n",
       " 89,\n",
       " 90,\n",
       " 91,\n",
       " 92,\n",
       " 93,\n",
       " 94,\n",
       " 76,\n",
       " 95,\n",
       " 96,\n",
       " 97,\n",
       " 98,\n",
       " 99,\n",
       " 100,\n",
       " 42,\n",
       " 101,\n",
       " 42,\n",
       " 102,\n",
       " 103,\n",
       " 100,\n",
       " 42,\n",
       " 104,\n",
       " 42,\n",
       " 105,\n",
       " 106,\n",
       " 42,\n",
       " 101,\n",
       " 107,\n",
       " 108,\n",
       " 19,\n",
       " 109,\n",
       " 110,\n",
       " 111,\n",
       " 112,\n",
       " 42,\n",
       " 110,\n",
       " 111,\n",
       " 113,\n",
       " 114,\n",
       " 115,\n",
       " 116,\n",
       " 19,\n",
       " 117,\n",
       " 118,\n",
       " 119,\n",
       " 120,\n",
       " 121,\n",
       " 122,\n",
       " 123,\n",
       " 76,\n",
       " 77,\n",
       " 78,\n",
       " 79,\n",
       " 28,\n",
       " 29,\n",
       " 124,\n",
       " 125,\n",
       " 126,\n",
       " 127,\n",
       " 128,\n",
       " 129,\n",
       " 79,\n",
       " 28,\n",
       " 29,\n",
       " 130,\n",
       " 131,\n",
       " 132,\n",
       " 19,\n",
       " 133,\n",
       " 80,\n",
       " 134,\n",
       " 19,\n",
       " 135,\n",
       " 136,\n",
       " 137,\n",
       " 79,\n",
       " 138,\n",
       " 139,\n",
       " 140,\n",
       " 118,\n",
       " 19,\n",
       " 141,\n",
       " 19,\n",
       " 11,\n",
       " 142,\n",
       " 143,\n",
       " 144,\n",
       " 145,\n",
       " 89,\n",
       " 44,\n",
       " 146,\n",
       " 147,\n",
       " 148,\n",
       " 149,\n",
       " 150,\n",
       " 151,\n",
       " 152,\n",
       " 153,\n",
       " 154,\n",
       " 155,\n",
       " 156,\n",
       " 157,\n",
       " 42,\n",
       " 154,\n",
       " 158,\n",
       " 159,\n",
       " 156,\n",
       " 157,\n",
       " 160,\n",
       " 161,\n",
       " 162,\n",
       " 163,\n",
       " 164,\n",
       " 19,\n",
       " 165,\n",
       " 26,\n",
       " 27,\n",
       " 166,\n",
       " 167,\n",
       " 168,\n",
       " 169,\n",
       " 170,\n",
       " 171,\n",
       " 76,\n",
       " 172,\n",
       " 173,\n",
       " 174,\n",
       " 175,\n",
       " 176,\n",
       " 76,\n",
       " 177,\n",
       " 178,\n",
       " 179,\n",
       " 152,\n",
       " 180,\n",
       " 181,\n",
       " 139,\n",
       " 182,\n",
       " 142,\n",
       " 183,\n",
       " 184,\n",
       " 19,\n",
       " 185,\n",
       " 186,\n",
       " 187,\n",
       " 149,\n",
       " 150,\n",
       " 188,\n",
       " 189,\n",
       " 190,\n",
       " 191,\n",
       " 192,\n",
       " 162,\n",
       " 193,\n",
       " 177,\n",
       " 194,\n",
       " 195,\n",
       " 196,\n",
       " 197,\n",
       " 178,\n",
       " 179,\n",
       " 198,\n",
       " 19,\n",
       " 141,\n",
       " 19,\n",
       " 11,\n",
       " 199,\n",
       " 200,\n",
       " 201,\n",
       " 202,\n",
       " 203]"
      ]
     },
     "execution_count": 9,
     "metadata": {},
     "output_type": "execute_result"
    }
   ],
   "source": [
    "def numericalize(sentences, word2idx, tag_sentences, tag2idx):\n",
    "    numericalized_sentences = [[word2idx['<UNK>'] if word not in word2idx else word2idx[word] for word in sentence] for sentence in sentences]\n",
    "    numericalized_tags = [[tag2idx[tag] for tag in tags] for tags in tag_sentences]\n",
    "    return numericalized_sentences, numericalized_tags\n",
    "\n",
    "train_x, train_y = numericalize(train_x, word2idx, train_y, tag2idx)\n",
    "valid_x, valid_y = numericalize(valid_x, word2idx, valid_y, tag2idx)\n",
    "test_x, test_y = numericalize(test_x, word2idx, test_y, tag2idx)\n",
    "\n",
    "train_x[0]"
   ]
  },
  {
   "cell_type": "markdown",
   "metadata": {},
   "source": [
    "### Passo 4: Adicionar tokens de inicio e final de sentenca"
   ]
  },
  {
   "cell_type": "code",
   "execution_count": 10,
   "metadata": {},
   "outputs": [
    {
     "data": {
      "text/plain": [
       "tensor([  2,   4,   5,   6,   7,   8,   9,  10,  11,  12,  13,  14,  15,  16,\n",
       "         17,  18,  19,  20,  21,  22,  23,  24,  25,  26,  27,  28,  29,  30,\n",
       "         31,  19,  32,  19,  33,  34,  35,  36,  37,  19,  38,  30,  39,  40,\n",
       "         41,  42,  43,  44,  45,  42,  46,  19,  47,  42,  48,  49,  50,  51,\n",
       "         52,  53,  54,  42,  55,  30,  56,  57,  58,  59,  60,  61,  62,  63,\n",
       "         64,  65,  66,  67,  15,  11,  68,  69,  70,  71,  72,  73,  74,  75,\n",
       "         76,  77,  78,  79,  28,  29,  80,  81,  42,  82,  83,  27,  84,  19,\n",
       "         85,  86,  79,  87,  88,  79,  89,  90,  91,  92,  93,  94,  76,  95,\n",
       "         96,  97,  98,  99, 100,  42, 101,  42, 102, 103, 100,  42, 104,  42,\n",
       "        105, 106,  42, 101, 107, 108,  19, 109, 110, 111, 112,  42, 110, 111,\n",
       "        113, 114, 115, 116,  19, 117, 118, 119, 120, 121, 122, 123,  76,  77,\n",
       "         78,  79,  28,  29, 124, 125, 126, 127, 128, 129,  79,  28,  29, 130,\n",
       "        131, 132,  19, 133,  80, 134,  19, 135, 136, 137,  79, 138, 139, 140,\n",
       "        118,  19, 141,  19,  11, 142, 143, 144, 145,  89,  44, 146, 147, 148,\n",
       "        149, 150, 151, 152, 153, 154, 155, 156, 157,  42, 154, 158, 159, 156,\n",
       "        157, 160, 161, 162, 163, 164,  19, 165,  26,  27, 166, 167, 168, 169,\n",
       "        170, 171,  76, 172, 173, 174, 175, 176,  76, 177, 178, 179, 152, 180,\n",
       "        181, 139, 182, 142, 183, 184,  19, 185, 186, 187, 149, 150, 188, 189,\n",
       "        190, 191, 192, 162, 193, 177, 194, 195, 196, 197, 178, 179, 198,  19,\n",
       "        141,  19,  11, 199, 200, 201, 202, 203,   3])"
      ]
     },
     "execution_count": 10,
     "metadata": {},
     "output_type": "execute_result"
    }
   ],
   "source": [
    "import itertools\n",
    "import torch\n",
    "def add_special_tokens(sentences, word2idx, tag_sentences, tag2idx):\n",
    "    formatted_sentences = [torch.LongTensor([word for word in itertools.chain([word2idx['<BOS>']], sentence, [word2idx['<EOS>']])]) for sentence in sentences]\n",
    "    formatted_tags = [torch.LongTensor([tag for tag in itertools.chain([tag2idx['O']], tags, [tag2idx['O']])]) for tags in tag_sentences]\n",
    "    return formatted_sentences, formatted_tags\n",
    "\n",
    "train_x, train_y = add_special_tokens(train_x, word2idx, train_y, tag2idx)\n",
    "valid_x, valid_y = add_special_tokens(valid_x, word2idx, valid_y, tag2idx)\n",
    "test_x, test_y   = add_special_tokens(test_x, word2idx, test_y, tag2idx)\n",
    "\n",
    "train_x[0]"
   ]
  },
  {
   "cell_type": "markdown",
   "metadata": {},
   "source": [
    "### Passo 5: Criar os mini-batches de treinamento"
   ]
  },
  {
   "cell_type": "code",
   "execution_count": 11,
   "metadata": {},
   "outputs": [
    {
     "data": {
      "text/plain": [
       "(163, 347)"
      ]
     },
     "execution_count": 11,
     "metadata": {},
     "output_type": "execute_result"
    }
   ],
   "source": [
    "len(train_x), max([len(ato) for ato in train_x])"
   ]
  },
  {
   "cell_type": "code",
   "execution_count": 12,
   "metadata": {},
   "outputs": [],
   "source": [
    "import numpy as np\n",
    "\n",
    "# Ordenando sentencas por tamanho (antes de criar os batches)\n",
    "ordered_idx = np.argsort([len(train_x[i]) for i in range(len(train_x))])\n",
    "train_x = [train_x[idx] for idx in ordered_idx]\n",
    "train_y = [train_y[idx] for idx in ordered_idx]"
   ]
  },
  {
   "cell_type": "code",
   "execution_count": 13,
   "metadata": {},
   "outputs": [],
   "source": [
    "from torch.nn.utils.rnn import pad_sequence\n",
    "\n",
    "def create_batches(x, y, batch_size, pad_token, pad_class):\n",
    "    batch_x = []\n",
    "    batch_y = []\n",
    "    mask = []\n",
    "\n",
    "    # Separando os batches pelo tamanho de batch_size\n",
    "    i = 0\n",
    "    while i < len(x):\n",
    "        batch_x.append(x[i:min(len(x), i+batch_size)])\n",
    "        batch_y.append(y[i:min(len(y), i+batch_size)])\n",
    "        i += batch_size\n",
    "    \n",
    "    # Realizando padding dos batches e criando mask para identificar padding durante o treinamento\n",
    "    for i in range(len(batch_x)):\n",
    "        batch_x[i] = pad_sequence(batch_x[i], batch_first = True, padding_value = pad_token)\n",
    "        batch_y[i] = pad_sequence(batch_y[i], batch_first = True, padding_value = pad_class)\n",
    "        mask.append(batch_x[i] != pad_token)\n",
    "\n",
    "    return batch_x, batch_y, mask\n",
    "\n",
    "train_x, train_y, mask = create_batches(train_x, train_y, batch_size=32, pad_token=word2idx['<PAD>'], pad_class=tag2idx['<PAD>'])\n",
    "valid_x, _, valid_mask = create_batches(valid_x, valid_y, batch_size=len(valid_x), pad_token=word2idx['<PAD>'], pad_class=tag2idx['<PAD>'])\n",
    "test_x, _, test_mask   = create_batches(test_x,  test_y,  batch_size=len(test_x),  pad_token=word2idx['<PAD>'], pad_class=tag2idx['<PAD>'])"
   ]
  },
  {
   "cell_type": "code",
   "execution_count": 14,
   "metadata": {},
   "outputs": [
    {
     "data": {
      "text/plain": [
       "(torch.Size([32, 105]), torch.Size([32, 105]), torch.Size([32, 105]))"
      ]
     },
     "execution_count": 14,
     "metadata": {},
     "output_type": "execute_result"
    }
   ],
   "source": [
    "train_x[0].shape, train_y[0].shape, mask[0].shape"
   ]
  },
  {
   "cell_type": "code",
   "execution_count": 15,
   "metadata": {},
   "outputs": [
    {
     "data": {
      "text/plain": [
       "tensor([   2,    4,    5,    6,    7, 1370,  555, 1122, 1409,  497,  345,   19,\n",
       "         548,   19,  549, 1043,  363,  453,  680,  143, 1409,  142,  296,  284,\n",
       "        1683,   79,  287,  708,  289,   74,  710,  162, 1656,   19,  165,   42,\n",
       "        2650, 1178,   79,  171,   87, 1246, 2082, 2868,   42,   27,  234,  154,\n",
       "        1688,  159,  156,  157,  178,  523,   19,  724,   19, 1409, 2853,    5,\n",
       "        2854,  766,  390,    3])"
      ]
     },
     "execution_count": 15,
     "metadata": {},
     "output_type": "execute_result"
    }
   ],
   "source": [
    "train_x[0][0, :mask[0][0].sum()]"
   ]
  },
  {
   "cell_type": "markdown",
   "metadata": {},
   "source": [
    "## Criando o modelo neural biLSTM-CRF\n",
    "\n",
    "O modelo consiste em:\n",
    "\n",
    "\n",
    "\n",
    "1.   Camada de embeddings (transforma indices das palavras em vetores numericos)\n",
    "2.   Camada biLSTM para encode da informação (-> <-)\n",
    "3.   Camada linear para reducao da dimensao do vetor de saida da camada biLSTM\n",
    "3.   Camada CRF para classificação de cada token de entrada"
   ]
  },
  {
   "cell_type": "code",
   "execution_count": 16,
   "metadata": {},
   "outputs": [],
   "source": [
    "from torchcrf import CRF"
   ]
  },
  {
   "cell_type": "code",
   "execution_count": 17,
   "metadata": {},
   "outputs": [],
   "source": [
    "class bilstm_crf(torch.nn.Module):\n",
    "    def __init__(self, word2idx, tag2idx):\n",
    "        super(bilstm_crf, self).__init__()\n",
    "        # Camada de embeddings\n",
    "        self.embedding = torch.nn.Embedding(num_embeddings=len(word2idx), embedding_dim = 50, padding_idx = word2idx['<PAD>'])\n",
    "        # Camada biLSTM\n",
    "        self.bilstm = torch.nn.LSTM(input_size=50, hidden_size = 200, num_layers = 2, batch_first = True, bidirectional = True, dropout = 0.25)\n",
    "        # Camada linear\n",
    "        self.linear = torch.nn.Linear(400, len(tag2idx))\n",
    "        # Camada CRF\n",
    "        self.crf = CRF(num_tags = len(tag2idx), batch_first = True)\n",
    "\n",
    "    def forward(self, x, y, mask):\n",
    "        x = self.embedding(x)\n",
    "        x, _ = self.bilstm(x)\n",
    "        x = self.linear(x)\n",
    "        loss = self.crf(x, y, mask=mask)\n",
    "        return loss\n",
    "\n",
    "    def decode(self, x, mask):\n",
    "        x = self.embedding(x)\n",
    "        x, _ = self.bilstm(x)\n",
    "        x = self.linear(x)\n",
    "        prediction = self.crf.decode(x, mask=mask)\n",
    "        return prediction"
   ]
  },
  {
   "cell_type": "code",
   "execution_count": 18,
   "metadata": {},
   "outputs": [
    {
     "data": {
      "text/plain": [
       "tensor(-9315.2754, grad_fn=<SumBackward0>)"
      ]
     },
     "execution_count": 18,
     "metadata": {},
     "output_type": "execute_result"
    }
   ],
   "source": [
    "model = bilstm_crf(word2idx = word2idx, tag2idx = tag2idx)\n",
    "loss = model(train_x[0], train_y[0], mask[0])\n",
    "prediction = model.decode(valid_x[0], valid_mask[0])\n",
    "\n",
    "loss"
   ]
  },
  {
   "cell_type": "code",
   "execution_count": 19,
   "metadata": {},
   "outputs": [
    {
     "name": "stdout",
     "output_type": "stream",
     "text": [
      "cpu\n"
     ]
    }
   ],
   "source": [
    "device = torch.device(\"cuda\" if torch.cuda.is_available() else \"cpu\")\n",
    "print(device)\n",
    "model = model.to(device)"
   ]
  },
  {
   "cell_type": "markdown",
   "metadata": {},
   "source": [
    "## Código para avaliação do modelo\n",
    "\n",
    "Métrica span-based f1-score (f1-score a nível de entidades)\n",
    "\n",
    "$f_1 = 2\\frac{precision\\times recall}{precision + recall}$\n",
    "\n",
    "$precision = \\frac{TP}{TP + FP}$\n",
    "\n",
    "$recall = \\frac{TP}{TP + FN}$"
   ]
  },
  {
   "cell_type": "code",
   "execution_count": 20,
   "metadata": {},
   "outputs": [],
   "source": [
    "from seqeval.metrics import f1_score\n",
    "from seqeval.scheme import IOB1"
   ]
  },
  {
   "cell_type": "code",
   "execution_count": 21,
   "metadata": {},
   "outputs": [],
   "source": [
    "idx2tag = {idx: tag for tag, idx in tag2idx.items()}\n",
    "\n",
    "def IOBify(tags_sequence, idx2tag):\n",
    "    if isinstance(tags_sequence[0], list):\n",
    "        iob_y = [[idx2tag[tag] for tag in tags] for tags in tags_sequence]\n",
    "    else:\n",
    "        iob_y = [[idx2tag[tag.item()] for tag in tags] for tags in tags_sequence]\n",
    "    return iob_y\n",
    "\n",
    "y_true = IOBify(valid_y, idx2tag)\n",
    "y_pred = IOBify(prediction, idx2tag)"
   ]
  },
  {
   "cell_type": "code",
   "execution_count": 22,
   "metadata": {},
   "outputs": [
    {
     "name": "stderr",
     "output_type": "stream",
     "text": [
      "e:\\Git\\GitHub\\experiments\\members\\ian\\ian\\lib\\site-packages\\seqeval\\metrics\\sequence_labeling.py:171: UserWarning: <PAD> seems not to be NE tag.\n",
      "  warnings.warn('{} seems not to be NE tag.'.format(chunk))\n"
     ]
    },
    {
     "data": {
      "text/plain": [
       "0.002680965147453083"
      ]
     },
     "execution_count": 22,
     "metadata": {},
     "output_type": "execute_result"
    }
   ],
   "source": [
    "f1_score(y_true, y_pred)"
   ]
  },
  {
   "cell_type": "markdown",
   "metadata": {},
   "source": [
    "## Código para treinamento do modelo"
   ]
  },
  {
   "cell_type": "code",
   "execution_count": 23,
   "metadata": {},
   "outputs": [],
   "source": [
    "lrate = 0.015\n",
    "optim = torch.optim.SGD(model.parameters(), lr=lrate, momentum=0.9)"
   ]
  },
  {
   "cell_type": "code",
   "execution_count": 24,
   "metadata": {},
   "outputs": [
    {
     "name": "stdout",
     "output_type": "stream",
     "text": [
      "Epoch: 0 | Loss media: 10893.1279296875 | f1-score: 0.0\n",
      "Epoch: 1 | Loss media: 5137.67041015625 | f1-score: 0.0\n",
      "Epoch: 2 | Loss media: 4122.6474609375 | f1-score: 0.0\n",
      "Epoch: 3 | Loss media: 4198.5068359375 | f1-score: 0.0\n",
      "Epoch: 4 | Loss media: 3216.703369140625 | f1-score: 0.0\n",
      "Epoch: 5 | Loss media: 3024.0361328125 | f1-score: 0.0\n",
      "Epoch: 6 | Loss media: 3166.7216796875 | f1-score: 0.0\n",
      "Epoch: 7 | Loss media: 2716.830078125 | f1-score: 0.0\n",
      "Epoch: 8 | Loss media: 2402.154052734375 | f1-score: 0.0\n",
      "Epoch: 9 | Loss media: 2242.1494140625 | f1-score: 0.0\n",
      "Epoch: 10 | Loss media: 2070.036865234375 | f1-score: 0.0\n",
      "Epoch: 11 | Loss media: 1926.1700439453125 | f1-score: 0.015625\n",
      "Epoch: 12 | Loss media: 1761.24560546875 | f1-score: 0.0\n",
      "Epoch: 13 | Loss media: 1728.4588623046875 | f1-score: 0.07317073170731707\n",
      "Epoch: 14 | Loss media: 1612.4495849609375 | f1-score: 0.07228915662650602\n",
      "Epoch: 15 | Loss media: 1519.3876953125 | f1-score: 0.08032128514056225\n",
      "Epoch: 16 | Loss media: 1462.5703125 | f1-score: 0.10077519379844962\n",
      "Epoch: 17 | Loss media: 1405.8265380859375 | f1-score: 0.16417910447761194\n",
      "Epoch: 18 | Loss media: 1344.198486328125 | f1-score: 0.17910447761194032\n",
      "Epoch: 19 | Loss media: 1290.40380859375 | f1-score: 0.2\n",
      "Epoch: 20 | Loss media: 1243.7713623046875 | f1-score: 0.22377622377622375\n",
      "Epoch: 21 | Loss media: 1182.0076904296875 | f1-score: 0.24742268041237117\n",
      "Epoch: 22 | Loss media: 1107.1724853515625 | f1-score: 0.2732919254658385\n",
      "Epoch: 23 | Loss media: 1023.92626953125 | f1-score: 0.3636363636363637\n",
      "Epoch: 24 | Loss media: 941.8040161132812 | f1-score: 0.41071428571428575\n",
      "Epoch: 25 | Loss media: 889.5856323242188 | f1-score: 0.41269841269841273\n",
      "Epoch: 26 | Loss media: 811.8208618164062 | f1-score: 0.4648648648648649\n",
      "Epoch: 27 | Loss media: 852.2685546875 | f1-score: 0.4252873563218391\n",
      "Epoch: 28 | Loss media: 907.76416015625 | f1-score: 0.3910112359550562\n",
      "Epoch: 29 | Loss media: 885.1864624023438 | f1-score: 0.43564356435643564\n",
      "Epoch: 30 | Loss media: 777.6857299804688 | f1-score: 0.4817518248175182\n",
      "Epoch: 31 | Loss media: 678.6256713867188 | f1-score: 0.48120300751879697\n",
      "Epoch: 32 | Loss media: 644.1145629882812 | f1-score: 0.4634760705289673\n",
      "Epoch: 33 | Loss media: 603.02001953125 | f1-score: 0.47769028871391067\n",
      "Epoch: 34 | Loss media: 597.7909545898438 | f1-score: 0.5050505050505051\n",
      "Epoch: 35 | Loss media: 571.6541137695312 | f1-score: 0.5253012048192771\n",
      "Epoch: 36 | Loss media: 537.8577270507812 | f1-score: 0.5141509433962266\n",
      "Epoch: 37 | Loss media: 604.0029296875 | f1-score: 0.48395061728395067\n",
      "Epoch: 38 | Loss media: 564.9484252929688 | f1-score: 0.5\n",
      "Epoch: 39 | Loss media: 704.7041015625 | f1-score: 0.51010101010101\n",
      "Epoch: 40 | Loss media: 519.035400390625 | f1-score: 0.5200945626477541\n",
      "Epoch: 41 | Loss media: 475.1162414550781 | f1-score: 0.5181598062953996\n",
      "Epoch: 42 | Loss media: 463.7879943847656 | f1-score: 0.4693333333333333\n",
      "Epoch: 43 | Loss media: 590.7074584960938 | f1-score: 0.5211267605633803\n",
      "Epoch: 44 | Loss media: 567.2926635742188 | f1-score: 0.5256124721603563\n",
      "Epoch: 45 | Loss media: 608.4391479492188 | f1-score: 0.5\n",
      "Epoch: 46 | Loss media: 435.3583679199219 | f1-score: 0.543778801843318\n",
      "Epoch: 47 | Loss media: 408.4715881347656 | f1-score: 0.5371702637889688\n",
      "Epoch: 48 | Loss media: 452.4837646484375 | f1-score: 0.5480769230769231\n",
      "Epoch: 49 | Loss media: 445.8965148925781 | f1-score: 0.5580357142857143\n",
      "Epoch: 50 | Loss media: 520.8811645507812 | f1-score: 0.5590909090909091\n",
      "Epoch: 51 | Loss media: 411.3864440917969 | f1-score: 0.5509259259259259\n",
      "Epoch: 52 | Loss media: 363.2725524902344 | f1-score: 0.5701559020044544\n",
      "Epoch: 53 | Loss media: 358.7528076171875 | f1-score: 0.582392776523702\n",
      "Epoch: 54 | Loss media: 356.3582458496094 | f1-score: 0.563380281690141\n",
      "Epoch: 55 | Loss media: 321.9327697753906 | f1-score: 0.5496535796766743\n",
      "Epoch: 56 | Loss media: 308.51251220703125 | f1-score: 0.5720620842572062\n",
      "Epoch: 57 | Loss media: 343.8387145996094 | f1-score: 0.587962962962963\n",
      "Epoch: 58 | Loss media: 379.1452331542969 | f1-score: 0.5695364238410596\n",
      "Epoch: 59 | Loss media: 317.7247009277344 | f1-score: 0.5586854460093897\n",
      "Epoch: 60 | Loss media: 287.3901672363281 | f1-score: 0.5539906103286385\n",
      "Epoch: 61 | Loss media: 271.785888671875 | f1-score: 0.5931034482758619\n",
      "Epoch: 62 | Loss media: 261.2947082519531 | f1-score: 0.57847533632287\n",
      "Epoch: 63 | Loss media: 264.8898010253906 | f1-score: 0.5787037037037037\n",
      "Epoch: 64 | Loss media: 279.3210144042969 | f1-score: 0.5566037735849056\n",
      "Epoch: 65 | Loss media: 296.420654296875 | f1-score: 0.6113537117903929\n",
      "Epoch: 66 | Loss media: 288.046875 | f1-score: 0.5701754385964912\n",
      "Epoch: 67 | Loss media: 352.7483825683594 | f1-score: 0.6086956521739131\n",
      "Epoch: 68 | Loss media: 234.5429229736328 | f1-score: 0.5813953488372092\n",
      "Epoch: 69 | Loss media: 226.6638946533203 | f1-score: 0.5815602836879431\n",
      "Epoch: 70 | Loss media: 214.792724609375 | f1-score: 0.5806451612903226\n",
      "Epoch: 71 | Loss media: 251.505859375 | f1-score: 0.5740318906605923\n",
      "Epoch: 72 | Loss media: 284.36865234375 | f1-score: 0.5770065075921909\n",
      "Epoch: 73 | Loss media: 312.3331604003906 | f1-score: 0.5973451327433628\n",
      "Epoch: 74 | Loss media: 203.3867645263672 | f1-score: 0.5825688073394495\n",
      "Epoch: 75 | Loss media: 208.64691162109375 | f1-score: 0.6096491228070176\n",
      "Epoch: 76 | Loss media: 195.05194091796875 | f1-score: 0.6\n",
      "Epoch: 77 | Loss media: 202.6954345703125 | f1-score: 0.597285067873303\n",
      "Epoch: 78 | Loss media: 218.80723571777344 | f1-score: 0.6180257510729614\n",
      "Epoch: 79 | Loss media: 240.1942596435547 | f1-score: 0.6219239373601789\n",
      "Epoch: 80 | Loss media: 187.2104949951172 | f1-score: 0.6199095022624435\n",
      "Epoch: 81 | Loss media: 206.7132110595703 | f1-score: 0.5924276169265033\n",
      "Epoch: 82 | Loss media: 198.6770477294922 | f1-score: 0.6247191011235955\n",
      "Epoch: 83 | Loss media: 196.4881591796875 | f1-score: 0.6200873362445414\n",
      "Epoch: 84 | Loss media: 198.2900390625 | f1-score: 0.585034013605442\n",
      "Epoch: 85 | Loss media: 179.1515655517578 | f1-score: 0.6434782608695653\n",
      "Epoch: 86 | Loss media: 188.1616973876953 | f1-score: 0.5441527446300716\n",
      "Epoch: 87 | Loss media: 180.61712646484375 | f1-score: 0.6436285097192224\n",
      "Epoch: 88 | Loss media: 240.88427734375 | f1-score: 0.587962962962963\n",
      "Epoch: 89 | Loss media: 202.1185302734375 | f1-score: 0.5986078886310906\n",
      "Epoch: 90 | Loss media: 293.3340148925781 | f1-score: 0.6334056399132322\n",
      "Epoch: 91 | Loss media: 228.298583984375 | f1-score: 0.589622641509434\n",
      "Epoch: 92 | Loss media: 173.7568817138672 | f1-score: 0.6491228070175439\n",
      "Epoch: 93 | Loss media: 192.84254455566406 | f1-score: 0.6104783599088838\n",
      "Epoch: 94 | Loss media: 174.7090301513672 | f1-score: 0.6178489702517163\n",
      "Epoch: 95 | Loss media: 167.23106384277344 | f1-score: 0.6433260393873085\n",
      "Epoch: 96 | Loss media: 185.7392120361328 | f1-score: 0.6045454545454545\n",
      "Epoch: 97 | Loss media: 150.4350128173828 | f1-score: 0.6225165562913906\n",
      "Epoch: 98 | Loss media: 144.43955993652344 | f1-score: 0.6431718061674009\n",
      "Epoch: 99 | Loss media: 145.1111297607422 | f1-score: 0.6126126126126126\n"
     ]
    }
   ],
   "source": [
    "f1_history = []\n",
    "mean_loss_history = []\n",
    "\n",
    "# Alterar numero de epocas de treinamento (~30-50 epocas para modelo bem treinado)\n",
    "for epoch in range(100):\n",
    "    mean_loss = 0.0\n",
    "    model.train()\n",
    "    # Iniciando uma epoch de treinamento supervisionado\n",
    "    for batch in range(len(train_x)):\n",
    "        x = train_x[batch].to(device)\n",
    "        y = train_y[batch].to(device)\n",
    "        m = mask[batch].to(device)\n",
    "        optim.zero_grad()\n",
    "        loss = -model(x, y, m)\n",
    "        loss.backward()\n",
    "        torch.nn.utils.clip_grad_norm_(model.parameters(), 5.0)\n",
    "        optim.step()\n",
    "        mean_loss += loss\n",
    "    mean_loss /= len(train_x)\n",
    "    mean_loss_history.append(mean_loss)\n",
    "\n",
    "    model.eval()\n",
    "    # Calculo do desempenho do modelo treinado nesta epoch\n",
    "    y_pred = model.decode(valid_x[0].to(device), valid_mask[0].to(device))\n",
    "    y_pred = IOBify(y_pred, idx2tag)\n",
    "    y_true = IOBify(valid_y, idx2tag)\n",
    "    f1 = f1_score(y_true, y_pred)\n",
    "    f1_history.append(f1)\n",
    "\n",
    "    print(f'Epoch: {epoch} | Loss media: {mean_loss} | f1-score: {f1}')"
   ]
  },
  {
   "cell_type": "code",
   "execution_count": 25,
   "metadata": {},
   "outputs": [],
   "source": [
    "mean_loss_history_ = [mean_loss.item() for mean_loss in mean_loss_history]"
   ]
  },
  {
   "cell_type": "code",
   "execution_count": 26,
   "metadata": {},
   "outputs": [
    {
     "data": {
      "text/plain": [
       "[Text(0.5, 0, 'epochs'), Text(0, 0.5, 'mean loss')]"
      ]
     },
     "execution_count": 26,
     "metadata": {},
     "output_type": "execute_result"
    },
    {
     "data": {
      "image/png": "[encoded data removed]",
      "text/plain": [
       "<Figure size 432x288 with 2 Axes>"
      ]
     },
     "metadata": {
      "needs_background": "light"
     },
     "output_type": "display_data"
    }
   ],
   "source": [
    "import matplotlib.pyplot as plt\n",
    "\n",
    "fig, axs = plt.subplots(2)\n",
    "axs[0].plot(f1_history)\n",
    "axs[1].plot(mean_loss_history_)\n",
    "axs[0].set(ylabel='f1-score')\n",
    "axs[1].set(xlabel='epochs', ylabel='mean loss')"
   ]
  },
  {
   "cell_type": "markdown",
   "metadata": {},
   "source": [
    "## Utilização do modelo treinado para predição em novos dados e interface com usuário\n",
    "\n",
    "Passos:\n",
    "\n",
    "\n",
    "1.   Transformar as palavras do texto em indices utilizando o dicionario word2idx e converter para tensor\n",
    "2.   Realizar as predições\n",
    "3.   Realizar extração das entidades de acordo com as predições"
   ]
  },
  {
   "cell_type": "markdown",
   "metadata": {},
   "source": [
    "### Passo 1: Transformar as palavras em indices utilizando word2idx"
   ]
  },
  {
   "cell_type": "code",
   "execution_count": 33,
   "metadata": {},
   "outputs": [
    {
     "name": "stdout",
     "output_type": "stream",
     "text": [
      "<BOS> AVISO DE LICITAÇÃO PREGÃO ELETRÔNICO Nº 18/2022 - UASG 974002 A Pregoeira comunica aos interessados que a fim de atender a demanda do Jardim Botânico e Brasília - JBB, a Subsecretaria de Compras Governamentais - SCG/SPLAN/SEEC operacionalizará licitação do PE nº 18/2022 no sistema Comprasnet, cujo objeto é a aquisição de bomba com vazão, bomba hidráulica, motobomba, bloco de cimento, cimento, relê, disjuntor, mini contactor, etc, conforme especificações e condições estabelecidas no termo de referência constante do Anexo I do Edital. Valor total estimado: R$ 46.237,77. Tipo de Licitação: Menor Preço. Unidade Orçamentária: 150106; Programa de Trabalho: 18.122.8210.8517.9658. Elemento de despesa: 33.90.30 e 44.90.52. Fonte: 100 e 120. Abertura das propostas dia 21/02/2022, às 9h30min. Processo 00195-00000275/2021-73. O edital poderá ser retirado no endereço eletrônico: www.comprasgovernamentais.gov.br. Informações pelo e-mail: pregoeirosulog08@economia.df.gov.br Brasília/DF, 04 de fevereiro de 2022 RITA DE CÁSSIA GODINHO DE CAMPOS <EOS>\n"
     ]
    }
   ],
   "source": [
    "text = '<BOS> AVISO DE LICITAÇÃO PREGÃO ELETRÔNICO Nº 18/2022 - UASG 974002 A Pregoeira comunica aos interessados que a fim de atender a demanda do Jardim Botânico e Brasília - JBB, a Subsecretaria de Compras Governamentais - SCG/SPLAN/SEEC operacionalizará licitação do PE nº 18/2022 no sistema Comprasnet, cujo objeto é a aquisição de bomba com vazão, bomba hidráulica, motobomba, bloco de cimento, cimento, relê, disjuntor, mini contactor, etc, conforme especificações e condições estabelecidas no termo de referência constante do Anexo I do Edital. Valor total estimado: R$ 46.237,77. Tipo de Licitação: Menor Preço. Unidade Orçamentária: 150106; Programa de Trabalho: 18.122.8210.8517.9658. Elemento de despesa: 33.90.30 e 44.90.52. Fonte: 100 e 120. Abertura das propostas dia 21/02/2022, às 9h30min. Processo 00195-00000275/2021-73. O edital poderá ser retirado no endereço eletrônico: www.comprasgovernamentais.gov.br. Informações pelo e-mail: pregoeirosulog08@economia.df.gov.br Brasília/DF, 04 de fevereiro de 2022 RITA DE CÁSSIA GODINHO DE CAMPOS <EOS>'.split()\n",
    "print(' '.join(text))"
   ]
  },
  {
   "cell_type": "code",
   "execution_count": 34,
   "metadata": {},
   "outputs": [
    {
     "data": {
      "text/plain": [
       "(torch.Size([1, 144]), torch.Size([1, 144]))"
      ]
     },
     "execution_count": 34,
     "metadata": {},
     "output_type": "execute_result"
    }
   ],
   "source": [
    "num_text = torch.LongTensor([word2idx['<UNK>'] if word not in word2idx else word2idx[word] for word in text]).unsqueeze(dim=0)\n",
    "mask = num_text != -1\n",
    "num_text.shape, mask.shape"
   ]
  },
  {
   "cell_type": "markdown",
   "metadata": {
    "id": "hwT-Tipv_c-v"
   },
   "source": [
    "### Passo 2: Realizar predições"
   ]
  },
  {
   "cell_type": "code",
   "execution_count": 35,
   "metadata": {
    "id": "AqQY9yZ-8XyV"
   },
   "outputs": [],
   "source": [
    "model = model.to('cpu')"
   ]
  },
  {
   "cell_type": "code",
   "execution_count": 36,
   "metadata": {
    "colab": {
     "base_uri": "https://localhost:8080/"
    },
    "id": "6WgukIwD74HC",
    "outputId": "26929600-940a-41e3-e163-daf3840c7947"
   },
   "outputs": [
    {
     "name": "stdout",
     "output_type": "stream",
     "text": [
      "<BOS> O\n",
      "AVISO O\n",
      "DE O\n",
      "LICITAÇÃO O\n",
      "PREGÃO B-MODALIDADE_LICITACAO\n",
      "ELETRÔNICO I-MODALIDADE_LICITACAO\n",
      "Nº O\n",
      "18/2022 B-NUM_LICITACAO\n",
      "- I-NUM_LICITACAO\n",
      "UASG O\n",
      "974002 O\n",
      "A O\n",
      "Pregoeira O\n",
      "comunica O\n",
      "aos O\n",
      "interessados O\n",
      "que O\n",
      "a O\n",
      "fim O\n",
      "de O\n",
      "atender O\n"
     ]
    }
   ],
   "source": [
    "y_pred = model.decode(num_text, mask)\n",
    "y_pred = IOBify(y_pred, idx2tag)\n",
    "for idx, (word, tag) in enumerate(zip(text, y_pred[0])):\n",
    "    print(word, tag)\n",
    "    if idx >= 20:\n",
    "        break"
   ]
  },
  {
   "cell_type": "markdown",
   "metadata": {
    "id": "qy7nDudU_mS2"
   },
   "source": [
    "### Passo 3: Realizar extração das entidades de acordo com as predições"
   ]
  },
  {
   "cell_type": "code",
   "execution_count": 37,
   "metadata": {
    "id": "0KIfxDeD8aaI"
   },
   "outputs": [],
   "source": [
    "def extract_entities(y_pred, text):\n",
    "    inside_entity = False\n",
    "    entity_type = ''\n",
    "    entity = ''\n",
    "    entities = []\n",
    "    for word, tag in zip(text, y_pred[0]):\n",
    "        if not inside_entity:\n",
    "            if tag[0] == 'B':\n",
    "                inside_entity = True\n",
    "                entity = word\n",
    "                entity_type = tag[2:]\n",
    "        else:\n",
    "            if tag[0] == 'B':\n",
    "                entities.append((entity_type, entity))\n",
    "                entity = word\n",
    "                entity_type = tag[2:]\n",
    "                inside_entity = True\n",
    "            elif tag[0] == 'I':\n",
    "                entity = entity + ' ' + word\n",
    "                inside_entity = True\n",
    "            else:\n",
    "                entities.append((entity_type, entity))\n",
    "                entity = ''\n",
    "                entity_type = 'O'\n",
    "                inside_entity = False\n",
    "    return entities\n",
    "\n",
    "entities = extract_entities(y_pred, text)"
   ]
  },
  {
   "cell_type": "code",
   "execution_count": 40,
   "metadata": {
    "colab": {
     "base_uri": "https://localhost:8080/"
    },
    "id": "H_l51CHq-HsZ",
    "outputId": "9d29aab6-9813-454a-d81c-2ac6b85261fc"
   },
   "outputs": [
    {
     "data": {
      "text/plain": [
       "[('MODALIDADE_LICITACAO', 'PREGÃO ELETRÔNICO'),\n",
       " ('NUM_LICITACAO', '18/2022 -'),\n",
       " ('OBJ_LICITACAO',\n",
       "  'aquisição de bomba com vazão, bomba hidráulica, motobomba, bloco de cimento, cimento, relê, disjuntor, mini contactor, etc,')]"
      ]
     },
     "execution_count": 40,
     "metadata": {},
     "output_type": "execute_result"
    }
   ],
   "source": [
    "entities"
   ]
  },
  {
   "cell_type": "code",
   "execution_count": null,
   "metadata": {},
   "outputs": [],
   "source": []
  },
  {
   "cell_type": "code",
   "execution_count": null,
   "metadata": {},
   "outputs": [],
   "source": []
  },
  {
   "cell_type": "code",
   "execution_count": null,
   "metadata": {},
   "outputs": [],
   "source": []
  },
  {
   "cell_type": "code",
   "execution_count": null,
   "metadata": {},
   "outputs": [],
   "source": [
    "# https://www.investopedia.com/ask/answers/032615/what-are-some-examples-stratified-random-sampling.asp#:~:text=Stratified%20random%20sampling%20is%20a,into%20groups%20is%20called%20stratification.\n",
    "\n",
    "\n",
    "# https://scikit-learn.org/stable/modules/generated/sklearn.model_selection.StratifiedShuffleSplit.html"
   ]
  }
 ],
 "metadata": {
  "interpreter": {
   "hash": "d973542429c9f505f96bdf709f83097f4740f6c9df1afcdf6fa66ab031bc1ccc"
  },
  "kernelspec": {
   "display_name": "Python 3.9.7 ('ian': venv)",
   "language": "python",
   "name": "python3"
  },
  "language_info": {
   "codemirror_mode": {
    "name": "ipython",
    "version": 3
   },
   "file_extension": ".py",
   "mimetype": "text/x-python",
   "name": "python",
   "nbconvert_exporter": "python",
   "pygments_lexer": "ipython3",
   "version": "3.9.7"
  },
  "orig_nbformat": 4
 },
 "nbformat": 4,
 "nbformat_minor": 2
}
