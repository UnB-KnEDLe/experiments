{
 "cells": [
  {
   "cell_type": "code",
   "execution_count": 1,
   "metadata": {},
   "outputs": [],
   "source": [
    "import pandas as pd\n",
    "import nltk\n",
    "from nltk.tokenize import word_tokenize\n",
    "import numpy as np\n",
    "\n",
    "import os\n",
    "import re\n",
    "import pandas as pd\n",
    "import numpy as np\n",
    "from typing import List, Tuple, Dict, Union\n",
    "from typing import Iterable as Iter\n",
    "from typing import Callable\n",
    "from sklearn.base import BaseEstimator, TransformerMixin"
   ]
  },
  {
   "cell_type": "code",
   "execution_count": 14,
   "metadata": {},
   "outputs": [],
   "source": [
    "acts = '../../thais/contrato-licitações/estudo_crf/result/labelbox_atos.parquet'\n",
    "entities = '../../thais/contrato-licitações/estudo_crf/result/labelbox_entidades.parquet'\n",
    "texts = '../../thais/contrato-licitações/estudo_crf/result/tokenized_texts.parquet'\n",
    "\n",
    "df1 = pd.read_parquet(acts)\n",
    "df2 = pd.read_parquet(entities)\n",
    "df3 = pd.read_parquet(texts)"
   ]
  },
  {
   "cell_type": "code",
   "execution_count": 15,
   "metadata": {},
   "outputs": [
    {
     "data": {
      "text/html": [
       "<div>\n",
       "<style scoped>\n",
       "    .dataframe tbody tr th:only-of-type {\n",
       "        vertical-align: middle;\n",
       "    }\n",
       "\n",
       "    .dataframe tbody tr th {\n",
       "        vertical-align: top;\n",
       "    }\n",
       "\n",
       "    .dataframe thead th {\n",
       "        text-align: right;\n",
       "    }\n",
       "</style>\n",
       "<table border=\"1\" class=\"dataframe\">\n",
       "  <thead>\n",
       "    <tr style=\"text-align: right;\">\n",
       "      <th></th>\n",
       "      <th>arquivo_rast</th>\n",
       "      <th>text</th>\n",
       "      <th>ato</th>\n",
       "      <th>dodf</th>\n",
       "      <th>treated_text</th>\n",
       "    </tr>\n",
       "  </thead>\n",
       "  <tbody>\n",
       "    <tr>\n",
       "      <th>0</th>\n",
       "      <td>0_aviso_de_licitacao_DODF_010_15-01-2021.txt</td>\n",
       "      <td>xxbcet AVISO DE LICITAÇÃO xxecet\\nxxbcet PREGÃ...</td>\n",
       "      <td>aviso_de_licitacao</td>\n",
       "      <td>DODF_010_15-01-2021</td>\n",
       "      <td>AVISO DE LICITAÇÃO PREGÃO ELETRÔNICO Nº 01/202...</td>\n",
       "    </tr>\n",
       "    <tr>\n",
       "      <th>1</th>\n",
       "      <td>0_aviso_de_licitacao_DODF_093_20-05-2019.txt</td>\n",
       "      <td>xxbcet AVISO DE LICITAÇÃO xxecet\\r\\nxxbcet PRE...</td>\n",
       "      <td>aviso_de_licitacao</td>\n",
       "      <td>DODF_093_20-05-2019</td>\n",
       "      <td>AVISO DE LICITAÇÃO PREGÃO ELETRÔNICO Nº 50/201...</td>\n",
       "    </tr>\n",
       "    <tr>\n",
       "      <th>2</th>\n",
       "      <td>2_aviso_de_licitacao_DODF_010_15-01-2021.txt</td>\n",
       "      <td>xxbcet PREGÃO ELETRÔNICO Nº 14/2021 xxecet\\nPr...</td>\n",
       "      <td>aviso_de_licitacao</td>\n",
       "      <td>DODF_010_15-01-2021</td>\n",
       "      <td>PREGÃO ELETRÔNICO Nº 14/2021 Processo: 092.041...</td>\n",
       "    </tr>\n",
       "    <tr>\n",
       "      <th>3</th>\n",
       "      <td>6_aviso_de_licitacao_DODF_002_05-01-2021.txt</td>\n",
       "      <td>xxbcet AVISO DE LICITAÇÃO xxecet\\nxxbcet PREGÃ...</td>\n",
       "      <td>aviso_de_licitacao</td>\n",
       "      <td>DODF_002_05-01-2021</td>\n",
       "      <td>AVISO DE LICITAÇÃO PREGÃO ELETRÔNICO (SRP) Nº ...</td>\n",
       "    </tr>\n",
       "    <tr>\n",
       "      <th>4</th>\n",
       "      <td>9_extrato_de_contrato_ou_convenio_DODF_004_07-...</td>\n",
       "      <td>xxbcet EXTRATO DE CONTRATO SIMPLIFICADO Nº 6/2...</td>\n",
       "      <td>extrato_de_contrato_ou_convenio</td>\n",
       "      <td>DODF_004_07-01-2016</td>\n",
       "      <td>EXTRATO DE CONTRATO SIMPLIFICADO Nº 6/2015 Esp...</td>\n",
       "    </tr>\n",
       "    <tr>\n",
       "      <th>...</th>\n",
       "      <td>...</td>\n",
       "      <td>...</td>\n",
       "      <td>...</td>\n",
       "      <td>...</td>\n",
       "      <td>...</td>\n",
       "    </tr>\n",
       "    <tr>\n",
       "      <th>1163</th>\n",
       "      <td>100_rinst_extrato_de_aditamento_contratual_DOD...</td>\n",
       "      <td>xxbcet EXTRATO DE INSTRUMENTO CONTRATUAL xxece...</td>\n",
       "      <td>aviso_de_aditamento_contratual</td>\n",
       "      <td>DODF_189_02-10-2017</td>\n",
       "      <td>EXTRATO DE INSTRUMENTO CONTRATUAL PROCESSO: 11...</td>\n",
       "    </tr>\n",
       "    <tr>\n",
       "      <th>1164</th>\n",
       "      <td>101_rinst_extrato_de_aditamento_contratual_DOD...</td>\n",
       "      <td>PROCESSO: 112.003.048/2016. ESPÉCIE: SEXTO TER...</td>\n",
       "      <td>aviso_de_aditamento_contratual</td>\n",
       "      <td>DODF_189_02-10-2017</td>\n",
       "      <td>PROCESSO: 112.003.048/2016. ESPÉCIE: SEXTO TER...</td>\n",
       "    </tr>\n",
       "    <tr>\n",
       "      <th>1165</th>\n",
       "      <td>102_rinst_extrato_de_aditamento_contratual_DOD...</td>\n",
       "      <td>PROCESSO: 112.003.777/2013. ESPÉCIE: NONO TERM...</td>\n",
       "      <td>aviso_de_aditamento_contratual</td>\n",
       "      <td>DODF_189_02-10-2017</td>\n",
       "      <td>PROCESSO: 112.003.777/2013. ESPÉCIE: NONO TERM...</td>\n",
       "    </tr>\n",
       "    <tr>\n",
       "      <th>1166</th>\n",
       "      <td>103_rinst_extrato_de_aditamento_contratual_DOD...</td>\n",
       "      <td>PROCESSO: 112.004.652/2015. ESPÉCIE: SEGUNDO T...</td>\n",
       "      <td>aviso_de_aditamento_contratual</td>\n",
       "      <td>DODF_189_02-10-2017</td>\n",
       "      <td>PROCESSO: 112.004.652/2015. ESPÉCIE: SEGUNDO T...</td>\n",
       "    </tr>\n",
       "    <tr>\n",
       "      <th>1167</th>\n",
       "      <td>104_rinst_extrato_de_aditamento_contratual_DOD...</td>\n",
       "      <td>PROCESSO: nº 110.000.414/2012. ESPÉCIE: SÉTIMO...</td>\n",
       "      <td>aviso_de_aditamento_contratual</td>\n",
       "      <td>DODF_189_02-10-2017</td>\n",
       "      <td>PROCESSO: nº 110.000.414/2012. ESPÉCIE: SÉTIMO...</td>\n",
       "    </tr>\n",
       "  </tbody>\n",
       "</table>\n",
       "<p>1168 rows × 5 columns</p>\n",
       "</div>"
      ],
      "text/plain": [
       "                                           arquivo_rast  \\\n",
       "0          0_aviso_de_licitacao_DODF_010_15-01-2021.txt   \n",
       "1          0_aviso_de_licitacao_DODF_093_20-05-2019.txt   \n",
       "2          2_aviso_de_licitacao_DODF_010_15-01-2021.txt   \n",
       "3          6_aviso_de_licitacao_DODF_002_05-01-2021.txt   \n",
       "4     9_extrato_de_contrato_ou_convenio_DODF_004_07-...   \n",
       "...                                                 ...   \n",
       "1163  100_rinst_extrato_de_aditamento_contratual_DOD...   \n",
       "1164  101_rinst_extrato_de_aditamento_contratual_DOD...   \n",
       "1165  102_rinst_extrato_de_aditamento_contratual_DOD...   \n",
       "1166  103_rinst_extrato_de_aditamento_contratual_DOD...   \n",
       "1167  104_rinst_extrato_de_aditamento_contratual_DOD...   \n",
       "\n",
       "                                                   text  \\\n",
       "0     xxbcet AVISO DE LICITAÇÃO xxecet\\nxxbcet PREGÃ...   \n",
       "1     xxbcet AVISO DE LICITAÇÃO xxecet\\r\\nxxbcet PRE...   \n",
       "2     xxbcet PREGÃO ELETRÔNICO Nº 14/2021 xxecet\\nPr...   \n",
       "3     xxbcet AVISO DE LICITAÇÃO xxecet\\nxxbcet PREGÃ...   \n",
       "4     xxbcet EXTRATO DE CONTRATO SIMPLIFICADO Nº 6/2...   \n",
       "...                                                 ...   \n",
       "1163  xxbcet EXTRATO DE INSTRUMENTO CONTRATUAL xxece...   \n",
       "1164  PROCESSO: 112.003.048/2016. ESPÉCIE: SEXTO TER...   \n",
       "1165  PROCESSO: 112.003.777/2013. ESPÉCIE: NONO TERM...   \n",
       "1166  PROCESSO: 112.004.652/2015. ESPÉCIE: SEGUNDO T...   \n",
       "1167  PROCESSO: nº 110.000.414/2012. ESPÉCIE: SÉTIMO...   \n",
       "\n",
       "                                  ato                 dodf  \\\n",
       "0                  aviso_de_licitacao  DODF_010_15-01-2021   \n",
       "1                  aviso_de_licitacao  DODF_093_20-05-2019   \n",
       "2                  aviso_de_licitacao  DODF_010_15-01-2021   \n",
       "3                  aviso_de_licitacao  DODF_002_05-01-2021   \n",
       "4     extrato_de_contrato_ou_convenio  DODF_004_07-01-2016   \n",
       "...                               ...                  ...   \n",
       "1163   aviso_de_aditamento_contratual  DODF_189_02-10-2017   \n",
       "1164   aviso_de_aditamento_contratual  DODF_189_02-10-2017   \n",
       "1165   aviso_de_aditamento_contratual  DODF_189_02-10-2017   \n",
       "1166   aviso_de_aditamento_contratual  DODF_189_02-10-2017   \n",
       "1167   aviso_de_aditamento_contratual  DODF_189_02-10-2017   \n",
       "\n",
       "                                           treated_text  \n",
       "0     AVISO DE LICITAÇÃO PREGÃO ELETRÔNICO Nº 01/202...  \n",
       "1     AVISO DE LICITAÇÃO PREGÃO ELETRÔNICO Nº 50/201...  \n",
       "2     PREGÃO ELETRÔNICO Nº 14/2021 Processo: 092.041...  \n",
       "3     AVISO DE LICITAÇÃO PREGÃO ELETRÔNICO (SRP) Nº ...  \n",
       "4     EXTRATO DE CONTRATO SIMPLIFICADO Nº 6/2015 Esp...  \n",
       "...                                                 ...  \n",
       "1163  EXTRATO DE INSTRUMENTO CONTRATUAL PROCESSO: 11...  \n",
       "1164  PROCESSO: 112.003.048/2016. ESPÉCIE: SEXTO TER...  \n",
       "1165  PROCESSO: 112.003.777/2013. ESPÉCIE: NONO TERM...  \n",
       "1166  PROCESSO: 112.004.652/2015. ESPÉCIE: SEGUNDO T...  \n",
       "1167  PROCESSO: nº 110.000.414/2012. ESPÉCIE: SÉTIMO...  \n",
       "\n",
       "[1168 rows x 5 columns]"
      ]
     },
     "execution_count": 15,
     "metadata": {},
     "output_type": "execute_result"
    }
   ],
   "source": [
    "df1"
   ]
  },
  {
   "cell_type": "code",
   "execution_count": 16,
   "metadata": {},
   "outputs": [
    {
     "data": {
      "text/html": [
       "<div>\n",
       "<style scoped>\n",
       "    .dataframe tbody tr th:only-of-type {\n",
       "        vertical-align: middle;\n",
       "    }\n",
       "\n",
       "    .dataframe tbody tr th {\n",
       "        vertical-align: top;\n",
       "    }\n",
       "\n",
       "    .dataframe thead th {\n",
       "        text-align: right;\n",
       "    }\n",
       "</style>\n",
       "<table border=\"1\" class=\"dataframe\">\n",
       "  <thead>\n",
       "    <tr style=\"text-align: right;\">\n",
       "      <th></th>\n",
       "      <th>titulo_entidade</th>\n",
       "      <th>valor_entidade</th>\n",
       "      <th>entidade</th>\n",
       "      <th>arquivo_rast</th>\n",
       "      <th>loc_begin</th>\n",
       "      <th>loc_end</th>\n",
       "      <th>ato</th>\n",
       "      <th>ner_token</th>\n",
       "    </tr>\n",
       "  </thead>\n",
       "  <tbody>\n",
       "    <tr>\n",
       "      <th>0</th>\n",
       "      <td>Processo do GDF</td>\n",
       "      <td>processo_do_gdf</td>\n",
       "      <td>150.001.430/2010</td>\n",
       "      <td>99_extrato_de_contrato_ou_convenio_DODF_179_17...</td>\n",
       "      <td>59</td>\n",
       "      <td>75</td>\n",
       "      <td>extrato_de_contrato_ou_convenio</td>\n",
       "      <td>PROCESSO</td>\n",
       "    </tr>\n",
       "    <tr>\n",
       "      <th>1</th>\n",
       "      <td>Número do ajuste</td>\n",
       "      <td>numero_do_ajuste</td>\n",
       "      <td>292/2010</td>\n",
       "      <td>99_extrato_de_contrato_ou_convenio_DODF_179_17...</td>\n",
       "      <td>30</td>\n",
       "      <td>38</td>\n",
       "      <td>extrato_de_contrato_ou_convenio</td>\n",
       "      <td>NUM_AJUSTE</td>\n",
       "    </tr>\n",
       "    <tr>\n",
       "      <th>2</th>\n",
       "      <td>Órgão contratante</td>\n",
       "      <td>orgao_contratante</td>\n",
       "      <td>DF/SC/FAC</td>\n",
       "      <td>99_extrato_de_contrato_ou_convenio_DODF_179_17...</td>\n",
       "      <td>85</td>\n",
       "      <td>94</td>\n",
       "      <td>extrato_de_contrato_ou_convenio</td>\n",
       "      <td>CONTRATANTE</td>\n",
       "    </tr>\n",
       "    <tr>\n",
       "      <th>3</th>\n",
       "      <td>Entidade contratada</td>\n",
       "      <td>entidade_contratada</td>\n",
       "      <td>PATRÍCIA BARROSO HERZOG</td>\n",
       "      <td>99_extrato_de_contrato_ou_convenio_DODF_179_17...</td>\n",
       "      <td>97</td>\n",
       "      <td>120</td>\n",
       "      <td>extrato_de_contrato_ou_convenio</td>\n",
       "      <td>CONTRATADA</td>\n",
       "    </tr>\n",
       "    <tr>\n",
       "      <th>4</th>\n",
       "      <td>Objeto do ajuste</td>\n",
       "      <td>objeto_do_ajuste</td>\n",
       "      <td>O presente\\r\\r\\ncontrato tem por objeto o fome...</td>\n",
       "      <td>99_extrato_de_contrato_ou_convenio_DODF_179_17...</td>\n",
       "      <td>193</td>\n",
       "      <td>384</td>\n",
       "      <td>extrato_de_contrato_ou_convenio</td>\n",
       "      <td>OBJ_AJUSTE</td>\n",
       "    </tr>\n",
       "    <tr>\n",
       "      <th>...</th>\n",
       "      <td>...</td>\n",
       "      <td>...</td>\n",
       "      <td>...</td>\n",
       "      <td>...</td>\n",
       "      <td>...</td>\n",
       "      <td>...</td>\n",
       "      <td>...</td>\n",
       "      <td>...</td>\n",
       "    </tr>\n",
       "    <tr>\n",
       "      <th>7941</th>\n",
       "      <td>Objeto do aditamento contratual</td>\n",
       "      <td>objeto_do_aditamento_contratual</td>\n",
       "      <td>O objeto do presente Termo Aditivo é a convali...</td>\n",
       "      <td>103_rinst_extrato_de_aditamento_contratual_DOD...</td>\n",
       "      <td>297</td>\n",
       "      <td>993</td>\n",
       "      <td>aviso_de_aditamento_contratual</td>\n",
       "      <td>OBJ_ADITIVO</td>\n",
       "    </tr>\n",
       "    <tr>\n",
       "      <th>7942</th>\n",
       "      <td>Órgão contratante</td>\n",
       "      <td>orgao_contratante</td>\n",
       "      <td>COMPANHIA URBANIZADORA DA NOVA CAPITAL DO BRAS...</td>\n",
       "      <td>104_rinst_extrato_de_aditamento_contratual_DOD...</td>\n",
       "      <td>153</td>\n",
       "      <td>210</td>\n",
       "      <td>aviso_de_aditamento_contratual</td>\n",
       "      <td>CONTRATANTE</td>\n",
       "    </tr>\n",
       "    <tr>\n",
       "      <th>7943</th>\n",
       "      <td>Número do contrato</td>\n",
       "      <td>numero_do_contrato</td>\n",
       "      <td>610/2014</td>\n",
       "      <td>104_rinst_extrato_de_aditamento_contratual_DOD...</td>\n",
       "      <td>116</td>\n",
       "      <td>124</td>\n",
       "      <td>aviso_de_aditamento_contratual</td>\n",
       "      <td>NUM_CONTRATO</td>\n",
       "    </tr>\n",
       "    <tr>\n",
       "      <th>7944</th>\n",
       "      <td>Número do termo aditivo</td>\n",
       "      <td>numero_do_termo_aditivo</td>\n",
       "      <td>SÉTIMO TERMO ADITIVO</td>\n",
       "      <td>104_rinst_extrato_de_aditamento_contratual_DOD...</td>\n",
       "      <td>40</td>\n",
       "      <td>60</td>\n",
       "      <td>aviso_de_aditamento_contratual</td>\n",
       "      <td>NUM_ADITIVO</td>\n",
       "    </tr>\n",
       "    <tr>\n",
       "      <th>7945</th>\n",
       "      <td>Objeto do aditamento contratual</td>\n",
       "      <td>objeto_do_aditamento_contratual</td>\n",
       "      <td>O O objeto\\ndo presente Termo Aditivo é a pror...</td>\n",
       "      <td>104_rinst_extrato_de_aditamento_contratual_DOD...</td>\n",
       "      <td>263</td>\n",
       "      <td>891</td>\n",
       "      <td>aviso_de_aditamento_contratual</td>\n",
       "      <td>OBJ_ADITIVO</td>\n",
       "    </tr>\n",
       "  </tbody>\n",
       "</table>\n",
       "<p>7946 rows × 8 columns</p>\n",
       "</div>"
      ],
      "text/plain": [
       "                      titulo_entidade                   valor_entidade  \\\n",
       "0                     Processo do GDF                  processo_do_gdf   \n",
       "1                    Número do ajuste                 numero_do_ajuste   \n",
       "2                   Órgão contratante                orgao_contratante   \n",
       "3                 Entidade contratada              entidade_contratada   \n",
       "4                    Objeto do ajuste                 objeto_do_ajuste   \n",
       "...                               ...                              ...   \n",
       "7941  Objeto do aditamento contratual  objeto_do_aditamento_contratual   \n",
       "7942                Órgão contratante                orgao_contratante   \n",
       "7943               Número do contrato               numero_do_contrato   \n",
       "7944          Número do termo aditivo          numero_do_termo_aditivo   \n",
       "7945  Objeto do aditamento contratual  objeto_do_aditamento_contratual   \n",
       "\n",
       "                                               entidade  \\\n",
       "0                                      150.001.430/2010   \n",
       "1                                              292/2010   \n",
       "2                                             DF/SC/FAC   \n",
       "3                               PATRÍCIA BARROSO HERZOG   \n",
       "4     O presente\\r\\r\\ncontrato tem por objeto o fome...   \n",
       "...                                                 ...   \n",
       "7941  O objeto do presente Termo Aditivo é a convali...   \n",
       "7942  COMPANHIA URBANIZADORA DA NOVA CAPITAL DO BRAS...   \n",
       "7943                                           610/2014   \n",
       "7944                               SÉTIMO TERMO ADITIVO   \n",
       "7945  O O objeto\\ndo presente Termo Aditivo é a pror...   \n",
       "\n",
       "                                           arquivo_rast  loc_begin  loc_end  \\\n",
       "0     99_extrato_de_contrato_ou_convenio_DODF_179_17...         59       75   \n",
       "1     99_extrato_de_contrato_ou_convenio_DODF_179_17...         30       38   \n",
       "2     99_extrato_de_contrato_ou_convenio_DODF_179_17...         85       94   \n",
       "3     99_extrato_de_contrato_ou_convenio_DODF_179_17...         97      120   \n",
       "4     99_extrato_de_contrato_ou_convenio_DODF_179_17...        193      384   \n",
       "...                                                 ...        ...      ...   \n",
       "7941  103_rinst_extrato_de_aditamento_contratual_DOD...        297      993   \n",
       "7942  104_rinst_extrato_de_aditamento_contratual_DOD...        153      210   \n",
       "7943  104_rinst_extrato_de_aditamento_contratual_DOD...        116      124   \n",
       "7944  104_rinst_extrato_de_aditamento_contratual_DOD...         40       60   \n",
       "7945  104_rinst_extrato_de_aditamento_contratual_DOD...        263      891   \n",
       "\n",
       "                                  ato     ner_token  \n",
       "0     extrato_de_contrato_ou_convenio      PROCESSO  \n",
       "1     extrato_de_contrato_ou_convenio    NUM_AJUSTE  \n",
       "2     extrato_de_contrato_ou_convenio   CONTRATANTE  \n",
       "3     extrato_de_contrato_ou_convenio    CONTRATADA  \n",
       "4     extrato_de_contrato_ou_convenio    OBJ_AJUSTE  \n",
       "...                               ...           ...  \n",
       "7941   aviso_de_aditamento_contratual   OBJ_ADITIVO  \n",
       "7942   aviso_de_aditamento_contratual   CONTRATANTE  \n",
       "7943   aviso_de_aditamento_contratual  NUM_CONTRATO  \n",
       "7944   aviso_de_aditamento_contratual   NUM_ADITIVO  \n",
       "7945   aviso_de_aditamento_contratual   OBJ_ADITIVO  \n",
       "\n",
       "[7946 rows x 8 columns]"
      ]
     },
     "execution_count": 16,
     "metadata": {},
     "output_type": "execute_result"
    }
   ],
   "source": [
    "df2"
   ]
  },
  {
   "cell_type": "code",
   "execution_count": 17,
   "metadata": {},
   "outputs": [
    {
     "data": {
      "text/plain": [
       "array(['PROCESSO', 'NUM_AJUSTE', 'CONTRATANTE', 'CONTRATADA',\n",
       "       'OBJ_AJUSTE', 'VIGENCIA', 'VALOR', 'PT', 'DATA_ASSINATURA',\n",
       "       'CODIGO_UO', 'ND', 'NE', 'FUND_DISPENSA', 'ORGAO_LICITANTE',\n",
       "       'NUM_LICITACAO', 'OBJ_LICITACAO', 'MODALIDADE_LICITACAO',\n",
       "       'DATA_ABERTURA', 'TIPO_OBJ', 'VALOR_ESTIMADO',\n",
       "       'CODIGO_SISTEMA_COMPRAS', 'NUM_CONTRATO', 'OBJ_ADITIVO',\n",
       "       'NUM_ADITIVO', 'IDENT_REVOGACAO_ANULACAO', 'IDENT_DISPENSA',\n",
       "       'SISTEMA_COMPRAS', 'CONVENENTE', 'DECISAO_TCDF', 'PRAZO_SUSPENSAO',\n",
       "       'OG_ATA'], dtype=object)"
      ]
     },
     "execution_count": 17,
     "metadata": {},
     "output_type": "execute_result"
    }
   ],
   "source": [
    "df2['ner_token'].unique()"
   ]
  },
  {
   "cell_type": "code",
   "execution_count": 18,
   "metadata": {},
   "outputs": [],
   "source": [
    "tokens = df2['ner_token'].unique()\n",
    "\n",
    "for token in tokens:\n",
    "    df1[token] = np.nan"
   ]
  },
  {
   "cell_type": "code",
   "execution_count": 19,
   "metadata": {},
   "outputs": [],
   "source": [
    "def clean_text_by_word(text):\n",
    "    a = \"\\n\".join([l for l in text.split(\"\\n\") if l != \"\"])\n",
    "    words = a.replace(\"\\n\", \" \").split(\" \")\n",
    "    words = [w for w in words if w != \"\"]\n",
    "    \n",
    "    m_words = []\n",
    "    dash_cut = False\n",
    "\n",
    "    for i in range(len(words)):\n",
    "        word = words[i]\n",
    "\n",
    "        if (word[-1] == \"-\") and (i+1)<len(words):\n",
    "            word = word[:-1] + words[i+1]\n",
    "            i += 1\n",
    "\n",
    "        m_words.append(word)\n",
    "        \n",
    "    return \" \".join(m_words)"
   ]
  },
  {
   "cell_type": "code",
   "execution_count": 20,
   "metadata": {},
   "outputs": [],
   "source": [
    "for i in range(len(df2)):\n",
    "    for j in range(len(df1)):\n",
    "        if df2['arquivo_rast'][i] == df1['arquivo_rast'][j]:\n",
    "            entitie = re.sub('xxbcet ?|xxbcet ?|xxeob ?|xxbob ?|xxecet ?', '', clean_text_by_word(df2['entidade'][i]).replace(\"\\r\", \"\"))\n",
    "            df1.loc[j, df2['ner_token'][i]] = entitie\n"
   ]
  },
  {
   "cell_type": "markdown",
   "metadata": {},
   "source": [
    "### IOB"
   ]
  },
  {
   "cell_type": "code",
   "execution_count": 21,
   "metadata": {},
   "outputs": [],
   "source": [
    "DEFAULT_TOKENIZER = nltk.RegexpTokenizer(r\"\\w+\").tokenize\n",
    "class Tokenizer(TransformerMixin, BaseEstimator):\n",
    "    \"\"\" Class to apply tokenizer to pandas DataFrame.\n",
    "    \"\"\"\n",
    "    def __init__(self, tokenizer=DEFAULT_TOKENIZER):\n",
    "        self.tokenizer = tokenizer\n",
    "\n",
    "\n",
    "    def __call__(self, X, **kw_params):\n",
    "        return self.tokenizer(X, **kw_params)\n",
    "\n",
    "\n",
    "    def fit(self, X, y=None, **fit_params):\n",
    "        return self\n",
    "\n",
    "\n",
    "    def transform(self, X, **kw_params):\n",
    "        if not isinstance(X, pd.Series):\n",
    "            print(\"[preprocess.Tokenizer.transform] TYPE:\", type(X))\n",
    "            print('X:::: ', X)\n",
    "            X = pd.Series(X)\n",
    "        return X.map(self)\n",
    "\n",
    "\n",
    "from sklearn.base import BaseEstimator, TransformerMixin\n",
    "\n",
    "class IOBifyer(TransformerMixin, BaseEstimator):\n",
    "\n",
    "\n",
    "    @staticmethod\n",
    "    def find_entity(row, token, ignore_idx=0,\n",
    "        tokenizer=DEFAULT_TOKENIZER):\n",
    "        # TODO: aceitar opção de offset, para não ter tennhum tipo de problema\n",
    "        \"\"\"Searches for named entities on columns, except by ignore_idx-columns.\n",
    "\n",
    "        ignore_idx: int indicating which column has\n",
    "                    the TEXT where the named entity were extracted from\n",
    "        \"\"\"\n",
    "        for idx, column in enumerate(row.keys()):\n",
    "            if idx == ignore_idx:\n",
    "                continue\n",
    "            if isinstance(row[column], str) and \\\n",
    "                token == tokenizer(row[column])[0]:\n",
    "                return column\n",
    "\n",
    "        return None\n",
    "\n",
    "\n",
    "    @staticmethod\n",
    "    def generate_IOB_labels(row, idx, tokenizer, dbg={}):\n",
    "        \"\"\"[summary]\n",
    "\n",
    "        Args:\n",
    "            row ([pd.Series]): [pandas series having act text and entities text]\n",
    "            idx ([int]): [index such that `row[idx]` has the whole act]\n",
    "            tokenizer ([Callable]): [function to use to tokenize `row[idx]`]\n",
    "            dbg (dict, optional): [dictionay for debug purposes]. Defaults to {}.\n",
    "\n",
    "        Returns:\n",
    "            [Iter[Iter[str]]]: [matrix of IOB labels]\n",
    "        \"\"\"\n",
    "        labels = []\n",
    "        entity_started = False\n",
    "        text = row.iloc[idx]\n",
    "        for token in tokenizer(text):                         # Itera sobre cada token da anotação do ato.\n",
    "            if not entity_started:                               # Caso uma entidade ainda n tenha sido identificada nos tokens.\n",
    "                entity = IOBifyer.find_entity(row, token, idx)                 # Busca o token atual no primeiro token de todos os campos do df.\n",
    "                if entity is not None:                           # Se foi encontrado o token no inicio de alguma entidade ele inicia a comparação token a token com a entidade.\n",
    "                    entity_started = True\n",
    "                    token_index = 1\n",
    "                    labels.append('B-' + entity)\n",
    "                else:\n",
    "                    labels.append('O')\n",
    "            else:     # Caso uma entidade já tenha sido identificada\n",
    "                if token_index < len(tokenizer(row[entity])) and \\\n",
    "                    token == tokenizer(row[entity])[token_index]:\n",
    "                    # Checa se o próximo token pertence à entidade\n",
    "                    # e se o tamanho da entidade chegou ao fim.\n",
    "                    labels.append('I-' + entity)\n",
    "                    # Se a entidade ainda possui tokens e a comparação foi bem\n",
    "                    # sucedida adicione o label I.\n",
    "                    token_index += 1\n",
    "                    if token_index >= len(tokenizer(row[entity])):\n",
    "                        entity_started = False\n",
    "                else:\n",
    "                    # Se o token n for igual ou a entidade chegou ao fim.\n",
    "                    entity_started = False\n",
    "                    labels.append('O')\n",
    "        if labels[0] != 'O':\n",
    "            dbg['l'] = dbg.get('l', []) + [(row, idx)]\n",
    "\n",
    "        return labels\n",
    "\n",
    "\n",
    "    @staticmethod\n",
    "    def dump_iob(tokens_mat, labels_mat, path='dump.txt',\n",
    "                            sep=' X X ', sent_sep='\\n',):\n",
    "        \"\"\"This method dumps the token matrix according its IOB labels.\n",
    "\n",
    "        For debug purposes, a list of list of pairs (token, label) is returned.\n",
    "        Args:\n",
    "            tokens_mat ([Iter[Iter[str]]]): [matrix of strings corresponding to tokens]\n",
    "            labels_mat ([Iter[Iter[str]]]): [matrix of strings corresponding to IOB labels]\n",
    "            path (str, optional): [Path to dump text file]. Defaults to 'dump.txt'.\n",
    "            sep (str, optional): [description]. Defaults to ' X X '.\n",
    "            sent_sep (str, optional): [description]. Defaults to '\\n'.\n",
    "\n",
    "        Returns:\n",
    "            [List[LIst[Tuple(str, str)]]]: [list of list of pairs (token, label), as dumped. For debug purposes.]\n",
    "        \"\"\"\n",
    "        dbg_mat = []\n",
    "        if isinstance(path, Path):\n",
    "            path = path.as_posix()\n",
    "        if '/' in path:\n",
    "            os.makedirs('/'.join(path.split('/')[:-1]), exist_ok=True)\n",
    "\n",
    "        with open(path, 'w') as fp:\n",
    "            for tokens_lis, labels_lis in zip(tokens_mat, labels_mat):\n",
    "                dbg_mat.append([])\n",
    "                for token, label in zip(tokens_lis, labels_lis):\n",
    "                    dbg_mat[-1].append((token, label))\n",
    "                    fp.write(f\"{token}{sep}{label}\\n\")\n",
    "                fp.write(sent_sep)\n",
    "        return dbg_mat\n",
    "\n",
    "\n",
    "    def __init__(self, column='act_column',\n",
    "        tokenizer=DEFAULT_TOKENIZER):\n",
    "        self.column = column\n",
    "        self.tokenizer = tokenizer\n",
    "        self.dbg = {}\n",
    "\n",
    "\n",
    "    def fit(self, X=None, y=None, **fit_params):\n",
    "        return self\n",
    "\n",
    "\n",
    "    def transform(self, df):\n",
    "        if not isinstance(df, pd.DataFrame):\n",
    "            raise TypeError(f\"`df` expected to be a pd.DataFrame. Got {type(df)}\")\n",
    "        if df.empty:\n",
    "            print(\"[core.preprocess]Warning: empty DataFrame. There won't be ioblabels.\")\n",
    "            return pd.Series()\n",
    "\n",
    "        idx = self.column if isinstance(self.column, int) else  \\\n",
    "                df.columns.get_loc(self.column)\n",
    "        labels_row = []\n",
    "        for index, row in df.iterrows():\n",
    "            try:\n",
    "                labels_row.append(\n",
    "                    IOBifyer.generate_IOB_labels(\n",
    "                        row, idx, self.tokenizer, self.dbg\n",
    "                    )\n",
    "                )\n",
    "            except Exception as e:\n",
    "                print(\"problem iobifyin row:\", row)\n",
    "                raise e\n",
    "        return pd.Series(labels_row)\n"
   ]
  },
  {
   "cell_type": "code",
   "execution_count": 22,
   "metadata": {},
   "outputs": [
    {
     "data": {
      "text/plain": [
       "Index(['arquivo_rast', 'text', 'ato', 'dodf', 'treated_text', 'PROCESSO',\n",
       "       'NUM_AJUSTE', 'CONTRATANTE', 'CONTRATADA', 'OBJ_AJUSTE', 'VIGENCIA',\n",
       "       'VALOR', 'PT', 'DATA_ASSINATURA', 'CODIGO_UO', 'ND', 'NE',\n",
       "       'FUND_DISPENSA', 'ORGAO_LICITANTE', 'NUM_LICITACAO', 'OBJ_LICITACAO',\n",
       "       'MODALIDADE_LICITACAO', 'DATA_ABERTURA', 'TIPO_OBJ', 'VALOR_ESTIMADO',\n",
       "       'CODIGO_SISTEMA_COMPRAS', 'NUM_CONTRATO', 'OBJ_ADITIVO', 'NUM_ADITIVO',\n",
       "       'IDENT_REVOGACAO_ANULACAO', 'IDENT_DISPENSA', 'SISTEMA_COMPRAS',\n",
       "       'CONVENENTE', 'DECISAO_TCDF', 'PRAZO_SUSPENSAO', 'OG_ATA'],\n",
       "      dtype='object')"
      ]
     },
     "execution_count": 22,
     "metadata": {},
     "output_type": "execute_result"
    }
   ],
   "source": [
    "df1.columns"
   ]
  },
  {
   "cell_type": "code",
   "execution_count": 26,
   "metadata": {},
   "outputs": [],
   "source": [
    "# df1.to_parquet('all_acts_entities.parquet')"
   ]
  },
  {
   "cell_type": "code",
   "execution_count": 14,
   "metadata": {},
   "outputs": [],
   "source": [
    "data = df1[['PROCESSO', 'NUM_AJUSTE', 'CONTRATANTE', 'CONTRATADA', 'OBJ_AJUSTE', 'VIGENCIA',\n",
    "'VALOR', 'PT', 'DATA_ASSINATURA', 'CODIGO_UO', 'ND', 'NE',\n",
    "'FUND_DISPENSA', 'ORGAO_LICITANTE', 'NUM_LICITACAO', 'OBJ_LICITACAO',\n",
    "'MODALIDADE_LICITACAO', 'VALOR_ESTIMADO',\n",
    "'CODIGO_SISTEMA_COMPRAS', 'NUM_CONTRATO', 'OBJ_ADITIVO', 'NUM_ADITIVO',\n",
    "'IDENT_REVOGACAO_ANULACAO', 'IDENT_DISPENSA', 'SISTEMA_COMPRAS',\n",
    "'CONVENENTE', 'DECISAO_TCDF', 'PRAZO_SUSPENSAO', 'OG_ATA', 'treated_text',]]"
   ]
  },
  {
   "cell_type": "code",
   "execution_count": 15,
   "metadata": {},
   "outputs": [
    {
     "name": "stderr",
     "output_type": "stream",
     "text": [
      "C:\\Users\\ianfi\\AppData\\Local\\Temp\\ipykernel_22752\\291838482.py:1: SettingWithCopyWarning: \n",
      "A value is trying to be set on a copy of a slice from a DataFrame\n",
      "\n",
      "See the caveats in the documentation: https://pandas.pydata.org/pandas-docs/stable/user_guide/indexing.html#returning-a-view-versus-a-copy\n",
      "  data.drop(758, inplace=True)\n"
     ]
    }
   ],
   "source": [
    "data.drop(758, inplace=True)\n",
    "data = data.reset_index(drop=True)"
   ]
  },
  {
   "cell_type": "code",
   "execution_count": 16,
   "metadata": {},
   "outputs": [],
   "source": [
    "iob = IOBifyer(column='treated_text')\n",
    "r = iob.transform(data)"
   ]
  },
  {
   "cell_type": "code",
   "execution_count": 17,
   "metadata": {},
   "outputs": [
    {
     "data": {
      "text/plain": [
       "0       [O, O, O, B-MODALIDADE_LICITACAO, I-MODALIDADE...\n",
       "1       [O, O, O, B-MODALIDADE_LICITACAO, I-MODALIDADE...\n",
       "2       [B-MODALIDADE_LICITACAO, I-MODALIDADE_LICITACA...\n",
       "3       [O, O, O, B-MODALIDADE_LICITACAO, I-MODALIDADE...\n",
       "4       [O, O, O, O, O, B-NUM_AJUSTE, I-NUM_AJUSTE, O,...\n",
       "                              ...                        \n",
       "1162    [O, O, O, O, O, O, O, O, O, O, B-NUM_ADITIVO, ...\n",
       "1163    [O, O, O, O, O, O, B-NUM_ADITIVO, I-NUM_ADITIV...\n",
       "1164    [O, O, O, O, O, O, B-NUM_ADITIVO, I-NUM_ADITIV...\n",
       "1165    [O, O, O, O, O, O, B-NUM_ADITIVO, I-NUM_ADITIV...\n",
       "1166    [O, O, O, O, O, O, O, B-NUM_ADITIVO, I-NUM_ADI...\n",
       "Length: 1167, dtype: object"
      ]
     },
     "execution_count": 17,
     "metadata": {},
     "output_type": "execute_result"
    }
   ],
   "source": [
    "r"
   ]
  },
  {
   "cell_type": "code",
   "execution_count": 18,
   "metadata": {},
   "outputs": [
    {
     "data": {
      "text/plain": [
       "((1167, 30), (1167,))"
      ]
     },
     "execution_count": 18,
     "metadata": {},
     "output_type": "execute_result"
    }
   ],
   "source": [
    "data.shape, r.shape"
   ]
  },
  {
   "cell_type": "code",
   "execution_count": 19,
   "metadata": {},
   "outputs": [],
   "source": [
    "data[\"IOB\"] = np.nan"
   ]
  },
  {
   "cell_type": "code",
   "execution_count": 20,
   "metadata": {},
   "outputs": [],
   "source": [
    "for i in range(len(data)):\n",
    "    data.loc[i, \"IOB\"] = ' '.join(r[i])"
   ]
  },
  {
   "cell_type": "code",
   "execution_count": 21,
   "metadata": {},
   "outputs": [
    {
     "data": {
      "text/plain": [
       "'AVISO DE LICITAÇÃO PREGÃO ELETRÔNICO Nº 01/2021 Processo: 00052-00021170/2020-47. OBJETO: Contratação de Concessionária Autorizada pela Montadora RENA ULT, localizada no Distrito Federal, para prestação de serviços de forma contínua durante o período de garantia, para as manutenções preventivas e corretivas, com fomecimento e aplicação de peças e acessórios genuínos, lubrificantes, óleos, aditivos, higienizadores, alinhamento e balanceamento para 40 (quarenta) viaturas marca RENAULT, modelo Importado Logan ZEN 16MT, anos/modelos 2020/2021, 1.6 flex (gasolina/álcool), pertencentes à frota da Polícia Civil do Distrito Federal., conforme especificações e condições estabelecidas no termo de referência constante do Anexo I do Edital. TIPO: Menor Preço. Valor estimado da licitação: R$ 826.897,20 (oitocentos e vinte e seis mil, oitocentos e noventa e sete reais e vinte centavos). Natureza de Despesa: 33.90.30 e 33.90.39, Fonte 100. Programa de Trabalho 28.845.0903.00NR.0053 Manutenção da Polícia Civil do Distrito Federal. Unidade Orçamentária: 73.901 Fundo Constitucional do Distrito Federal. UASG 926015. Prazo de execução: conforme Termo de Referência. Data limite do recebimento das propostas: 28 de janeiro de 2021, às 10:30h. O Edital, com todos seus anexos, deverá ser obtido nos sites www.comprasnet.gov.br e www.pcdf.df.gov.br ou ainda na Comissão Permanente de Licitação, localizada no SPO, Conjunto A, Lote 23, Edifício da Direção Geral, 3º Andar, Complexo da PCDF, Brasília-DF, nos dias úteis, das 12h às 18h30min, através de mídia, a qual deverá ser fornecida pelo interessado. Maiores informações na CPL/PCDF fones: 3207-4071/4046. Brasília/DF, 14 de janeiro de 2021 KELLY CRISTINA CORDEIRO GUEDES Pregoeira'"
      ]
     },
     "execution_count": 21,
     "metadata": {},
     "output_type": "execute_result"
    }
   ],
   "source": [
    "data['treated_text'][0]"
   ]
  },
  {
   "cell_type": "code",
   "execution_count": 23,
   "metadata": {},
   "outputs": [
    {
     "data": {
      "text/plain": [
       "273"
      ]
     },
     "execution_count": 23,
     "metadata": {},
     "output_type": "execute_result"
    }
   ],
   "source": [
    "len(DEFAULT_TOKENIZER(data['treated_text'][0]))"
   ]
  },
  {
   "cell_type": "code",
   "execution_count": 24,
   "metadata": {},
   "outputs": [
    {
     "data": {
      "text/plain": [
       "'O O O B-MODALIDADE_LICITACAO I-MODALIDADE_LICITACAO O B-NUM_LICITACAO I-NUM_LICITACAO O B-PROCESSO I-PROCESSO I-PROCESSO I-PROCESSO O B-OBJ_LICITACAO I-OBJ_LICITACAO I-OBJ_LICITACAO I-OBJ_LICITACAO I-OBJ_LICITACAO I-OBJ_LICITACAO I-OBJ_LICITACAO I-OBJ_LICITACAO I-OBJ_LICITACAO I-OBJ_LICITACAO I-OBJ_LICITACAO I-OBJ_LICITACAO I-OBJ_LICITACAO I-OBJ_LICITACAO I-OBJ_LICITACAO I-OBJ_LICITACAO I-OBJ_LICITACAO I-OBJ_LICITACAO I-OBJ_LICITACAO I-OBJ_LICITACAO I-OBJ_LICITACAO I-OBJ_LICITACAO I-OBJ_LICITACAO I-OBJ_LICITACAO I-OBJ_LICITACAO I-OBJ_LICITACAO I-OBJ_LICITACAO I-OBJ_LICITACAO I-OBJ_LICITACAO I-OBJ_LICITACAO I-OBJ_LICITACAO I-OBJ_LICITACAO I-OBJ_LICITACAO I-OBJ_LICITACAO I-OBJ_LICITACAO I-OBJ_LICITACAO I-OBJ_LICITACAO I-OBJ_LICITACAO I-OBJ_LICITACAO I-OBJ_LICITACAO I-OBJ_LICITACAO I-OBJ_LICITACAO I-OBJ_LICITACAO I-OBJ_LICITACAO I-OBJ_LICITACAO I-OBJ_LICITACAO I-OBJ_LICITACAO I-OBJ_LICITACAO I-OBJ_LICITACAO I-OBJ_LICITACAO I-OBJ_LICITACAO I-OBJ_LICITACAO I-OBJ_LICITACAO I-OBJ_LICITACAO I-OBJ_LICITACAO I-OBJ_LICITACAO I-OBJ_LICITACAO I-OBJ_LICITACAO I-OBJ_LICITACAO I-OBJ_LICITACAO I-OBJ_LICITACAO I-OBJ_LICITACAO I-OBJ_LICITACAO I-OBJ_LICITACAO I-OBJ_LICITACAO I-OBJ_LICITACAO I-OBJ_LICITACAO I-OBJ_LICITACAO I-OBJ_LICITACAO I-OBJ_LICITACAO I-OBJ_LICITACAO I-OBJ_LICITACAO I-OBJ_LICITACAO I-OBJ_LICITACAO I-OBJ_LICITACAO O O O O O O O O O O O O O O O O O O O O O O B-VALOR_ESTIMADO I-VALOR_ESTIMADO I-VALOR_ESTIMADO I-VALOR_ESTIMADO O O O O O O O O O O O O O O O O O O O O O O O O O O O O O O O O O O O O O O O O O O O O O O O O O O O O B-CODIGO_SISTEMA_COMPRAS O O O O O O O O O O O O O O O O O O O O O O O O O O O O O O O O B-SISTEMA_COMPRAS I-SISTEMA_COMPRAS I-SISTEMA_COMPRAS I-SISTEMA_COMPRAS O B-SISTEMA_COMPRAS O O O O O O O O O O O O O O O O O O O O O O O O O O O O O O O O O O O O O O O O O O O O O O O O O O O O O O O O O O O O O O O O O O O'"
      ]
     },
     "execution_count": 24,
     "metadata": {},
     "output_type": "execute_result"
    }
   ],
   "source": [
    "data['IOB'][0]"
   ]
  },
  {
   "cell_type": "code",
   "execution_count": 25,
   "metadata": {},
   "outputs": [
    {
     "data": {
      "text/plain": [
       "273"
      ]
     },
     "execution_count": 25,
     "metadata": {},
     "output_type": "execute_result"
    }
   ],
   "source": [
    "len(data['IOB'][0].split())"
   ]
  },
  {
   "cell_type": "code",
   "execution_count": 26,
   "metadata": {},
   "outputs": [],
   "source": [
    "df_iob = data[['treated_text', 'IOB']]"
   ]
  },
  {
   "cell_type": "code",
   "execution_count": 28,
   "metadata": {},
   "outputs": [],
   "source": [
    "df_iob.to_parquet('iob_all_acts.parquet')"
   ]
  },
  {
   "cell_type": "code",
   "execution_count": 8,
   "metadata": {},
   "outputs": [
    {
     "data": {
      "text/html": [
       "<div>\n",
       "<style scoped>\n",
       "    .dataframe tbody tr th:only-of-type {\n",
       "        vertical-align: middle;\n",
       "    }\n",
       "\n",
       "    .dataframe tbody tr th {\n",
       "        vertical-align: top;\n",
       "    }\n",
       "\n",
       "    .dataframe thead th {\n",
       "        text-align: right;\n",
       "    }\n",
       "</style>\n",
       "<table border=\"1\" class=\"dataframe\">\n",
       "  <thead>\n",
       "    <tr style=\"text-align: right;\">\n",
       "      <th></th>\n",
       "      <th>treated_text</th>\n",
       "      <th>IOB</th>\n",
       "    </tr>\n",
       "  </thead>\n",
       "  <tbody>\n",
       "    <tr>\n",
       "      <th>0</th>\n",
       "      <td>AVISO DE LICITAÇÃO PREGÃO ELETRÔNICO Nº 01/202...</td>\n",
       "      <td>O O O B-MODALIDADE_LICITACAO I-MODALIDADE_LICI...</td>\n",
       "    </tr>\n",
       "    <tr>\n",
       "      <th>1</th>\n",
       "      <td>AVISO DE LICITAÇÃO PREGÃO ELETRÔNICO Nº 50/201...</td>\n",
       "      <td>O O O B-MODALIDADE_LICITACAO I-MODALIDADE_LICI...</td>\n",
       "    </tr>\n",
       "    <tr>\n",
       "      <th>2</th>\n",
       "      <td>PREGÃO ELETRÔNICO Nº 14/2021 Processo: 092.041...</td>\n",
       "      <td>B-MODALIDADE_LICITACAO I-MODALIDADE_LICITACAO ...</td>\n",
       "    </tr>\n",
       "    <tr>\n",
       "      <th>3</th>\n",
       "      <td>AVISO DE LICITAÇÃO PREGÃO ELETRÔNICO (SRP) Nº ...</td>\n",
       "      <td>O O O B-MODALIDADE_LICITACAO I-MODALIDADE_LICI...</td>\n",
       "    </tr>\n",
       "    <tr>\n",
       "      <th>4</th>\n",
       "      <td>EXTRATO DE CONTRATO SIMPLIFICADO Nº 6/2015 Esp...</td>\n",
       "      <td>O O O O O B-NUM_AJUSTE I-NUM_AJUSTE O O O O O ...</td>\n",
       "    </tr>\n",
       "    <tr>\n",
       "      <th>...</th>\n",
       "      <td>...</td>\n",
       "      <td>...</td>\n",
       "    </tr>\n",
       "    <tr>\n",
       "      <th>1162</th>\n",
       "      <td>EXTRATO DE INSTRUMENTO CONTRATUAL PROCESSO: 11...</td>\n",
       "      <td>O O O O O O O O O O B-NUM_ADITIVO I-NUM_ADITIV...</td>\n",
       "    </tr>\n",
       "    <tr>\n",
       "      <th>1163</th>\n",
       "      <td>PROCESSO: 112.003.048/2016. ESPÉCIE: SEXTO TER...</td>\n",
       "      <td>O O O O O O B-NUM_ADITIVO I-NUM_ADITIVO I-NUM_...</td>\n",
       "    </tr>\n",
       "    <tr>\n",
       "      <th>1164</th>\n",
       "      <td>PROCESSO: 112.003.777/2013. ESPÉCIE: NONO TERM...</td>\n",
       "      <td>O O O O O O B-NUM_ADITIVO I-NUM_ADITIVO I-NUM_...</td>\n",
       "    </tr>\n",
       "    <tr>\n",
       "      <th>1165</th>\n",
       "      <td>PROCESSO: 112.004.652/2015. ESPÉCIE: SEGUNDO T...</td>\n",
       "      <td>O O O O O O B-NUM_ADITIVO I-NUM_ADITIVO I-NUM_...</td>\n",
       "    </tr>\n",
       "    <tr>\n",
       "      <th>1166</th>\n",
       "      <td>PROCESSO: nº 110.000.414/2012. ESPÉCIE: SÉTIMO...</td>\n",
       "      <td>O O O O O O O B-NUM_ADITIVO I-NUM_ADITIVO I-NU...</td>\n",
       "    </tr>\n",
       "  </tbody>\n",
       "</table>\n",
       "<p>1167 rows × 2 columns</p>\n",
       "</div>"
      ],
      "text/plain": [
       "                                           treated_text  \\\n",
       "0     AVISO DE LICITAÇÃO PREGÃO ELETRÔNICO Nº 01/202...   \n",
       "1     AVISO DE LICITAÇÃO PREGÃO ELETRÔNICO Nº 50/201...   \n",
       "2     PREGÃO ELETRÔNICO Nº 14/2021 Processo: 092.041...   \n",
       "3     AVISO DE LICITAÇÃO PREGÃO ELETRÔNICO (SRP) Nº ...   \n",
       "4     EXTRATO DE CONTRATO SIMPLIFICADO Nº 6/2015 Esp...   \n",
       "...                                                 ...   \n",
       "1162  EXTRATO DE INSTRUMENTO CONTRATUAL PROCESSO: 11...   \n",
       "1163  PROCESSO: 112.003.048/2016. ESPÉCIE: SEXTO TER...   \n",
       "1164  PROCESSO: 112.003.777/2013. ESPÉCIE: NONO TERM...   \n",
       "1165  PROCESSO: 112.004.652/2015. ESPÉCIE: SEGUNDO T...   \n",
       "1166  PROCESSO: nº 110.000.414/2012. ESPÉCIE: SÉTIMO...   \n",
       "\n",
       "                                                    IOB  \n",
       "0     O O O B-MODALIDADE_LICITACAO I-MODALIDADE_LICI...  \n",
       "1     O O O B-MODALIDADE_LICITACAO I-MODALIDADE_LICI...  \n",
       "2     B-MODALIDADE_LICITACAO I-MODALIDADE_LICITACAO ...  \n",
       "3     O O O B-MODALIDADE_LICITACAO I-MODALIDADE_LICI...  \n",
       "4     O O O O O B-NUM_AJUSTE I-NUM_AJUSTE O O O O O ...  \n",
       "...                                                 ...  \n",
       "1162  O O O O O O O O O O B-NUM_ADITIVO I-NUM_ADITIV...  \n",
       "1163  O O O O O O B-NUM_ADITIVO I-NUM_ADITIVO I-NUM_...  \n",
       "1164  O O O O O O B-NUM_ADITIVO I-NUM_ADITIVO I-NUM_...  \n",
       "1165  O O O O O O B-NUM_ADITIVO I-NUM_ADITIVO I-NUM_...  \n",
       "1166  O O O O O O O B-NUM_ADITIVO I-NUM_ADITIVO I-NU...  \n",
       "\n",
       "[1167 rows x 2 columns]"
      ]
     },
     "execution_count": 8,
     "metadata": {},
     "output_type": "execute_result"
    }
   ],
   "source": [
    "df = pd.read_parquet('iob_all_acts.parquet')\n",
    "df"
   ]
  },
  {
   "cell_type": "code",
   "execution_count": 33,
   "metadata": {},
   "outputs": [
    {
     "data": {
      "text/plain": [
       "'O O O B-MODALIDADE_LICITACAO I-MODALIDADE_LICITACAO O B-NUM_LICITACAO I-NUM_LICITACAO O B-PROCESSO I-PROCESSO I-PROCESSO I-PROCESSO O B-OBJ_LICITACAO I-OBJ_LICITACAO I-OBJ_LICITACAO I-OBJ_LICITACAO I-OBJ_LICITACAO I-OBJ_LICITACAO I-OBJ_LICITACAO I-OBJ_LICITACAO I-OBJ_LICITACAO I-OBJ_LICITACAO I-OBJ_LICITACAO I-OBJ_LICITACAO I-OBJ_LICITACAO I-OBJ_LICITACAO I-OBJ_LICITACAO I-OBJ_LICITACAO I-OBJ_LICITACAO I-OBJ_LICITACAO I-OBJ_LICITACAO I-OBJ_LICITACAO I-OBJ_LICITACAO I-OBJ_LICITACAO I-OBJ_LICITACAO I-OBJ_LICITACAO I-OBJ_LICITACAO I-OBJ_LICITACAO I-OBJ_LICITACAO I-OBJ_LICITACAO I-OBJ_LICITACAO I-OBJ_LICITACAO I-OBJ_LICITACAO I-OBJ_LICITACAO I-OBJ_LICITACAO I-OBJ_LICITACAO I-OBJ_LICITACAO I-OBJ_LICITACAO I-OBJ_LICITACAO I-OBJ_LICITACAO I-OBJ_LICITACAO I-OBJ_LICITACAO I-OBJ_LICITACAO I-OBJ_LICITACAO I-OBJ_LICITACAO I-OBJ_LICITACAO I-OBJ_LICITACAO I-OBJ_LICITACAO I-OBJ_LICITACAO I-OBJ_LICITACAO I-OBJ_LICITACAO I-OBJ_LICITACAO I-OBJ_LICITACAO I-OBJ_LICITACAO I-OBJ_LICITACAO I-OBJ_LICITACAO I-OBJ_LICITACAO I-OBJ_LICITACAO I-OBJ_LICITACAO I-OBJ_LICITACAO I-OBJ_LICITACAO I-OBJ_LICITACAO I-OBJ_LICITACAO I-OBJ_LICITACAO I-OBJ_LICITACAO I-OBJ_LICITACAO I-OBJ_LICITACAO I-OBJ_LICITACAO I-OBJ_LICITACAO I-OBJ_LICITACAO I-OBJ_LICITACAO I-OBJ_LICITACAO I-OBJ_LICITACAO I-OBJ_LICITACAO I-OBJ_LICITACAO I-OBJ_LICITACAO I-OBJ_LICITACAO O O O O O O O O O O O O O O O O O O O O O O B-VALOR_ESTIMADO I-VALOR_ESTIMADO I-VALOR_ESTIMADO I-VALOR_ESTIMADO O O O O O O O O O O O O O O O O O O O O O O O O O O O O O O O O O O O O O O O O O O O O O O O O O O O O B-CODIGO_SISTEMA_COMPRAS O O O O O O O O O O O O O O O O O O O O O O O O O O O O O O O O B-SISTEMA_COMPRAS I-SISTEMA_COMPRAS I-SISTEMA_COMPRAS I-SISTEMA_COMPRAS O B-SISTEMA_COMPRAS O O O O O O O O O O O O O O O O O O O O O O O O O O O O O O O O O O O O O O O O O O O O O O O O O O O O O O O O O O O O O O O O O O O'"
      ]
     },
     "execution_count": 33,
     "metadata": {},
     "output_type": "execute_result"
    }
   ],
   "source": [
    "df['IOB'][0]"
   ]
  }
 ],
 "metadata": {
  "interpreter": {
   "hash": "d973542429c9f505f96bdf709f83097f4740f6c9df1afcdf6fa66ab031bc1ccc"
  },
  "kernelspec": {
   "display_name": "Python 3.9.7 ('ian': venv)",
   "language": "python",
   "name": "python3"
  },
  "language_info": {
   "codemirror_mode": {
    "name": "ipython",
    "version": 3
   },
   "file_extension": ".py",
   "mimetype": "text/x-python",
   "name": "python",
   "nbconvert_exporter": "python",
   "pygments_lexer": "ipython3",
   "version": "3.9.7"
  },
  "orig_nbformat": 4
 },
 "nbformat": 4,
 "nbformat_minor": 2
}
