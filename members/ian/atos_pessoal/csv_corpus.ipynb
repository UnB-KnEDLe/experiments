{
 "cells": [
  {
   "cell_type": "code",
   "execution_count": 1,
   "metadata": {},
   "outputs": [],
   "source": [
    "import pandas as pd\n",
    "import numpy as np\n",
    "import os\n",
    "import re"
   ]
  },
  {
   "cell_type": "markdown",
   "metadata": {},
   "source": [
    "# Encontrando atos no DODFCorpus_contratos_licitacoes_v0"
   ]
  },
  {
   "cell_type": "code",
   "execution_count": 22,
   "metadata": {},
   "outputs": [],
   "source": [
    "data = pd.read_csv('dodf_atos_pessoal_final_version.csv')"
   ]
  },
  {
   "cell_type": "code",
   "execution_count": 21,
   "metadata": {},
   "outputs": [],
   "source": [
    "# data[list(data.columns)].loc[(data['id_ato'] == '38_129.7.7.2015-R4')]"
   ]
  },
  {
   "cell_type": "code",
   "execution_count": 23,
   "metadata": {},
   "outputs": [
    {
     "data": {
      "text/html": [
       "<div>\n",
       "<style scoped>\n",
       "    .dataframe tbody tr th:only-of-type {\n",
       "        vertical-align: middle;\n",
       "    }\n",
       "\n",
       "    .dataframe tbody tr th {\n",
       "        vertical-align: top;\n",
       "    }\n",
       "\n",
       "    .dataframe thead th {\n",
       "        text-align: right;\n",
       "    }\n",
       "</style>\n",
       "<table border=\"1\" class=\"dataframe\">\n",
       "  <thead>\n",
       "    <tr style=\"text-align: right;\">\n",
       "      <th></th>\n",
       "      <th>id_ato</th>\n",
       "      <th>id_dodf</th>\n",
       "      <th>num_doc_dodf</th>\n",
       "      <th>data_doc_dodf</th>\n",
       "      <th>tipo_rel</th>\n",
       "      <th>id_rel</th>\n",
       "      <th>anotador_rel</th>\n",
       "      <th>texto_rel</th>\n",
       "      <th>tipo_ent</th>\n",
       "      <th>id_ent</th>\n",
       "      <th>anotador_ent</th>\n",
       "      <th>texto_ent</th>\n",
       "    </tr>\n",
       "  </thead>\n",
       "  <tbody>\n",
       "    <tr>\n",
       "      <th>0</th>\n",
       "      <td>38_129.7.7.2015-R4</td>\n",
       "      <td>38_129.7.7.2015</td>\n",
       "      <td>129</td>\n",
       "      <td>7.7.2015</td>\n",
       "      <td>Ato_Substituicao</td>\n",
       "      <td>R4</td>\n",
       "      <td>marco_antonio</td>\n",
       "      <td>DESIGNAR ROBERTO MARTINS DE MELO, Inspetor Tec...</td>\n",
       "      <td>nome_substituto</td>\n",
       "      <td>1290</td>\n",
       "      <td>DODFMiner</td>\n",
       "      <td>ROBERTO MARTINS DE MELO</td>\n",
       "    </tr>\n",
       "    <tr>\n",
       "      <th>1</th>\n",
       "      <td>38_129.7.7.2015-R4</td>\n",
       "      <td>38_129.7.7.2015</td>\n",
       "      <td>129</td>\n",
       "      <td>7.7.2015</td>\n",
       "      <td>Ato_Substituicao</td>\n",
       "      <td>R4</td>\n",
       "      <td>marco_antonio</td>\n",
       "      <td>DESIGNAR ROBERTO MARTINS DE MELO, Inspetor Tec...</td>\n",
       "      <td>matricula_substituto</td>\n",
       "      <td>1189</td>\n",
       "      <td>DODFMiner</td>\n",
       "      <td>25.856-3</td>\n",
       "    </tr>\n",
       "    <tr>\n",
       "      <th>2</th>\n",
       "      <td>38_129.7.7.2015-R4</td>\n",
       "      <td>38_129.7.7.2015</td>\n",
       "      <td>129</td>\n",
       "      <td>7.7.2015</td>\n",
       "      <td>Ato_Substituicao</td>\n",
       "      <td>R4</td>\n",
       "      <td>marco_antonio</td>\n",
       "      <td>DESIGNAR ROBERTO MARTINS DE MELO, Inspetor Tec...</td>\n",
       "      <td>nome_substituido</td>\n",
       "      <td>1291</td>\n",
       "      <td>DODFMiner</td>\n",
       "      <td>IVANILDA SOUSA PEREIRA DE MESQUITA</td>\n",
       "    </tr>\n",
       "    <tr>\n",
       "      <th>3</th>\n",
       "      <td>38_129.7.7.2015-R4</td>\n",
       "      <td>38_129.7.7.2015</td>\n",
       "      <td>129</td>\n",
       "      <td>7.7.2015</td>\n",
       "      <td>Ato_Substituicao</td>\n",
       "      <td>R4</td>\n",
       "      <td>marco_antonio</td>\n",
       "      <td>DESIGNAR ROBERTO MARTINS DE MELO, Inspetor Tec...</td>\n",
       "      <td>matricula_substituido</td>\n",
       "      <td>1292</td>\n",
       "      <td>DODFMiner</td>\n",
       "      <td>25.810-5</td>\n",
       "    </tr>\n",
       "    <tr>\n",
       "      <th>4</th>\n",
       "      <td>38_129.7.7.2015-R4</td>\n",
       "      <td>38_129.7.7.2015</td>\n",
       "      <td>129</td>\n",
       "      <td>7.7.2015</td>\n",
       "      <td>Ato_Substituicao</td>\n",
       "      <td>R4</td>\n",
       "      <td>marco_antonio</td>\n",
       "      <td>DESIGNAR ROBERTO MARTINS DE MELO, Inspetor Tec...</td>\n",
       "      <td>cargo_substituto</td>\n",
       "      <td>8989</td>\n",
       "      <td>marco_antonio</td>\n",
       "      <td>Inspetor Tecnico de Controle Interno</td>\n",
       "    </tr>\n",
       "    <tr>\n",
       "      <th>...</th>\n",
       "      <td>...</td>\n",
       "      <td>...</td>\n",
       "      <td>...</td>\n",
       "      <td>...</td>\n",
       "      <td>...</td>\n",
       "      <td>...</td>\n",
       "      <td>...</td>\n",
       "      <td>...</td>\n",
       "      <td>...</td>\n",
       "      <td>...</td>\n",
       "      <td>...</td>\n",
       "      <td>...</td>\n",
       "    </tr>\n",
       "    <tr>\n",
       "      <th>96519</th>\n",
       "      <td>72_147.31.7.8-R128</td>\n",
       "      <td>72_147.31.7.8</td>\n",
       "      <td>147</td>\n",
       "      <td>31.7.8</td>\n",
       "      <td>Ato_Substituicao</td>\n",
       "      <td>R128</td>\n",
       "      <td>vinicius_borges</td>\n",
       "      <td>DESIGNAR MANOEL CHARLES AIRES LUSTOSA, matricu...</td>\n",
       "      <td>data_final</td>\n",
       "      <td>5793</td>\n",
       "      <td>vinicius_borges</td>\n",
       "      <td>05/11/2008</td>\n",
       "    </tr>\n",
       "    <tr>\n",
       "      <th>96520</th>\n",
       "      <td>72_147.31.7.8-R128</td>\n",
       "      <td>72_147.31.7.8</td>\n",
       "      <td>147</td>\n",
       "      <td>31.7.8</td>\n",
       "      <td>Ato_Substituicao</td>\n",
       "      <td>R128</td>\n",
       "      <td>vinicius_borges</td>\n",
       "      <td>DESIGNAR MANOEL CHARLES AIRES LUSTOSA, matricu...</td>\n",
       "      <td>hierarquia_lotacao</td>\n",
       "      <td>5797</td>\n",
       "      <td>vinicius_borges</td>\n",
       "      <td>Divisao de Registro e Con-\\ntrole de Processos...</td>\n",
       "    </tr>\n",
       "    <tr>\n",
       "      <th>96521</th>\n",
       "      <td>72_147.31.7.8-R128</td>\n",
       "      <td>72_147.31.7.8</td>\n",
       "      <td>147</td>\n",
       "      <td>31.7.8</td>\n",
       "      <td>Ato_Substituicao</td>\n",
       "      <td>R128</td>\n",
       "      <td>vinicius_borges</td>\n",
       "      <td>DESIGNAR MANOEL CHARLES AIRES LUSTOSA, matricu...</td>\n",
       "      <td>orgao</td>\n",
       "      <td>5798</td>\n",
       "      <td>vinicius_borges</td>\n",
       "      <td>Procuradoria-Geral do\\nDistrito Federal</td>\n",
       "    </tr>\n",
       "    <tr>\n",
       "      <th>96522</th>\n",
       "      <td>72_147.31.7.8-R128</td>\n",
       "      <td>72_147.31.7.8</td>\n",
       "      <td>147</td>\n",
       "      <td>31.7.8</td>\n",
       "      <td>Ato_Substituicao</td>\n",
       "      <td>R128</td>\n",
       "      <td>vinicius_borges</td>\n",
       "      <td>DESIGNAR MANOEL CHARLES AIRES LUSTOSA, matricu...</td>\n",
       "      <td>cargo_objeto_substituicao</td>\n",
       "      <td>5807</td>\n",
       "      <td>vinicius_borges</td>\n",
       "      <td>Diretora</td>\n",
       "    </tr>\n",
       "    <tr>\n",
       "      <th>96523</th>\n",
       "      <td>72_147.31.7.8-R128</td>\n",
       "      <td>72_147.31.7.8</td>\n",
       "      <td>147</td>\n",
       "      <td>31.7.8</td>\n",
       "      <td>Ato_Substituicao</td>\n",
       "      <td>R128</td>\n",
       "      <td>vinicius_borges</td>\n",
       "      <td>DESIGNAR MANOEL CHARLES AIRES LUSTOSA, matricu...</td>\n",
       "      <td>Ato_Substituicao</td>\n",
       "      <td>5820</td>\n",
       "      <td>vinicius_borges</td>\n",
       "      <td>DESIGNAR MANOEL CHARLES AIRES LUSTOSA, matricu...</td>\n",
       "    </tr>\n",
       "  </tbody>\n",
       "</table>\n",
       "<p>96524 rows × 12 columns</p>\n",
       "</div>"
      ],
      "text/plain": [
       "                   id_ato          id_dodf  num_doc_dodf data_doc_dodf  \\\n",
       "0      38_129.7.7.2015-R4  38_129.7.7.2015           129      7.7.2015   \n",
       "1      38_129.7.7.2015-R4  38_129.7.7.2015           129      7.7.2015   \n",
       "2      38_129.7.7.2015-R4  38_129.7.7.2015           129      7.7.2015   \n",
       "3      38_129.7.7.2015-R4  38_129.7.7.2015           129      7.7.2015   \n",
       "4      38_129.7.7.2015-R4  38_129.7.7.2015           129      7.7.2015   \n",
       "...                   ...              ...           ...           ...   \n",
       "96519  72_147.31.7.8-R128    72_147.31.7.8           147        31.7.8   \n",
       "96520  72_147.31.7.8-R128    72_147.31.7.8           147        31.7.8   \n",
       "96521  72_147.31.7.8-R128    72_147.31.7.8           147        31.7.8   \n",
       "96522  72_147.31.7.8-R128    72_147.31.7.8           147        31.7.8   \n",
       "96523  72_147.31.7.8-R128    72_147.31.7.8           147        31.7.8   \n",
       "\n",
       "               tipo_rel id_rel     anotador_rel  \\\n",
       "0      Ato_Substituicao     R4    marco_antonio   \n",
       "1      Ato_Substituicao     R4    marco_antonio   \n",
       "2      Ato_Substituicao     R4    marco_antonio   \n",
       "3      Ato_Substituicao     R4    marco_antonio   \n",
       "4      Ato_Substituicao     R4    marco_antonio   \n",
       "...                 ...    ...              ...   \n",
       "96519  Ato_Substituicao   R128  vinicius_borges   \n",
       "96520  Ato_Substituicao   R128  vinicius_borges   \n",
       "96521  Ato_Substituicao   R128  vinicius_borges   \n",
       "96522  Ato_Substituicao   R128  vinicius_borges   \n",
       "96523  Ato_Substituicao   R128  vinicius_borges   \n",
       "\n",
       "                                               texto_rel  \\\n",
       "0      DESIGNAR ROBERTO MARTINS DE MELO, Inspetor Tec...   \n",
       "1      DESIGNAR ROBERTO MARTINS DE MELO, Inspetor Tec...   \n",
       "2      DESIGNAR ROBERTO MARTINS DE MELO, Inspetor Tec...   \n",
       "3      DESIGNAR ROBERTO MARTINS DE MELO, Inspetor Tec...   \n",
       "4      DESIGNAR ROBERTO MARTINS DE MELO, Inspetor Tec...   \n",
       "...                                                  ...   \n",
       "96519  DESIGNAR MANOEL CHARLES AIRES LUSTOSA, matricu...   \n",
       "96520  DESIGNAR MANOEL CHARLES AIRES LUSTOSA, matricu...   \n",
       "96521  DESIGNAR MANOEL CHARLES AIRES LUSTOSA, matricu...   \n",
       "96522  DESIGNAR MANOEL CHARLES AIRES LUSTOSA, matricu...   \n",
       "96523  DESIGNAR MANOEL CHARLES AIRES LUSTOSA, matricu...   \n",
       "\n",
       "                        tipo_ent  id_ent     anotador_ent  \\\n",
       "0                nome_substituto    1290        DODFMiner   \n",
       "1           matricula_substituto    1189        DODFMiner   \n",
       "2               nome_substituido    1291        DODFMiner   \n",
       "3          matricula_substituido    1292        DODFMiner   \n",
       "4               cargo_substituto    8989    marco_antonio   \n",
       "...                          ...     ...              ...   \n",
       "96519                 data_final    5793  vinicius_borges   \n",
       "96520         hierarquia_lotacao    5797  vinicius_borges   \n",
       "96521                      orgao    5798  vinicius_borges   \n",
       "96522  cargo_objeto_substituicao    5807  vinicius_borges   \n",
       "96523           Ato_Substituicao    5820  vinicius_borges   \n",
       "\n",
       "                                               texto_ent  \n",
       "0                                ROBERTO MARTINS DE MELO  \n",
       "1                                               25.856-3  \n",
       "2                     IVANILDA SOUSA PEREIRA DE MESQUITA  \n",
       "3                                               25.810-5  \n",
       "4                   Inspetor Tecnico de Controle Interno  \n",
       "...                                                  ...  \n",
       "96519                                         05/11/2008  \n",
       "96520  Divisao de Registro e Con-\\ntrole de Processos...  \n",
       "96521            Procuradoria-Geral do\\nDistrito Federal  \n",
       "96522                                           Diretora  \n",
       "96523  DESIGNAR MANOEL CHARLES AIRES LUSTOSA, matricu...  \n",
       "\n",
       "[96524 rows x 12 columns]"
      ]
     },
     "execution_count": 23,
     "metadata": {},
     "output_type": "execute_result"
    }
   ],
   "source": [
    "data"
   ]
  },
  {
   "cell_type": "code",
   "execution_count": 24,
   "metadata": {},
   "outputs": [],
   "source": [
    "def clean_text_by_word(text):\n",
    "    a = \"\\n\".join([l for l in text.split(\"\\n\") if l != \"\"])\n",
    "    words = a.replace(\"\\n\", \" \").split(\" \")\n",
    "    words = [w for w in words if w != \"\"]\n",
    "    \n",
    "    m_words = []\n",
    "    dash_cut = False\n",
    "\n",
    "    for i in range(len(words)):\n",
    "        word = words[i]\n",
    "\n",
    "        if (word[-1] == \"-\") and (i+1)<len(words):\n",
    "            word = word[:-1] + words[i+1]\n",
    "            i += 1\n",
    "\n",
    "        m_words.append(word)\n",
    "        \n",
    "    return \" \".join(m_words)"
   ]
  },
  {
   "cell_type": "code",
   "execution_count": 25,
   "metadata": {},
   "outputs": [],
   "source": [
    "data1 = data[['id_ato', 'id_dodf', 'num_doc_dodf', 'data_doc_dodf', 'tipo_ent', 'texto_ent']].loc[(data['tipo_ent'] == 'Ato_Substituicao') |\\\n",
    "                                                               (data['tipo_ent'] == 'Ato_Abono_Permanencia') |\\\n",
    "                                                               (data['tipo_ent'] == 'Ato_Retificacao_Efetivo') |\\\n",
    "                                                               (data['tipo_ent'] == 'Ato_Cessao') |\\\n",
    "                                                               (data['tipo_ent'] == 'Ato_Reversao') |\\\n",
    "                                                               (data['tipo_ent'] == 'Ato_Exoneracao_Comissionado') |\\\n",
    "                                                               (data['tipo_ent'] == 'Ato_Tornado_Sem_Efeito_Exo_Nom') |\\\n",
    "                                                               (data['tipo_ent'] == 'Ato_Nomeacao_Comissionado') |\\\n",
    "                                                               (data['tipo_ent'] == 'Ato_Retificacao_Comissionado') |\\\n",
    "                                                               (data['tipo_ent'] == 'Ato_Exoneracao_Efetivo') |\\\n",
    "                                                               (data['tipo_ent'] == 'Ato_Tornado_Sem_Efeito_Apo') |\\\n",
    "                                                               (data['tipo_ent'] == 'Ato_Nomeacao_Efetivo')]"
   ]
  },
  {
   "cell_type": "code",
   "execution_count": 26,
   "metadata": {},
   "outputs": [],
   "source": [
    "data = data[['id_ato', 'id_dodf', 'tipo_rel', 'id_rel', 'anotador_rel', \n",
    "       'tipo_ent', 'id_ent', 'anotador_ent', 'texto_ent']\n",
    "       ].loc[(data['tipo_ent'] != 'Ato_Substituicao')]\n",
    "\n",
    "data = data[['id_ato', 'id_dodf', 'tipo_rel', 'id_rel', 'anotador_rel', \n",
    "       'tipo_ent', 'id_ent', 'anotador_ent', 'texto_ent']\n",
    "       ].loc[(data['tipo_ent'] != 'Ato_Abono_Permanencia')]\n",
    "\n",
    "data = data[['id_ato', 'id_dodf', 'tipo_rel', 'id_rel', 'anotador_rel', \n",
    "       'tipo_ent', 'id_ent', 'anotador_ent', 'texto_ent']\n",
    "       ].loc[(data['tipo_ent'] != 'Ato_Retificacao_Efetivo')]\n",
    "\n",
    "data = data[['id_ato', 'id_dodf', 'tipo_rel', 'id_rel', 'anotador_rel', \n",
    "       'tipo_ent', 'id_ent', 'anotador_ent', 'texto_ent']\n",
    "       ].loc[(data['tipo_ent'] != 'Ato_Cessao')]\n",
    "\n",
    "data = data[['id_ato', 'id_dodf', 'tipo_rel', 'id_rel', 'anotador_rel', \n",
    "       'tipo_ent', 'id_ent', 'anotador_ent', 'texto_ent']\n",
    "       ].loc[(data['tipo_ent'] != 'Ato_Reversao')]\n",
    "\n",
    "data = data[['id_ato', 'id_dodf', 'tipo_rel', 'id_rel', 'anotador_rel', \n",
    "       'tipo_ent', 'id_ent', 'anotador_ent', 'texto_ent']\n",
    "       ].loc[(data['tipo_ent'] != 'Ato_Exoneracao_Comissionado')]   \n",
    "\n",
    "data = data[['id_ato', 'id_dodf', 'tipo_rel', 'id_rel', 'anotador_rel', \n",
    "       'tipo_ent', 'id_ent', 'anotador_ent', 'texto_ent']\n",
    "       ].loc[(data['tipo_ent'] != 'Ato_Tornado_Sem_Efeito_Exo_Nom')]   \n",
    "\n",
    "data = data[['id_ato', 'id_dodf', 'tipo_rel', 'id_rel', 'anotador_rel', \n",
    "       'tipo_ent', 'id_ent', 'anotador_ent', 'texto_ent']\n",
    "       ].loc[(data['tipo_ent'] != 'Ato_Nomeacao_Comissionado')]   \n",
    "\n",
    "data = data[['id_ato', 'id_dodf', 'tipo_rel', 'id_rel', 'anotador_rel', \n",
    "       'tipo_ent', 'id_ent', 'anotador_ent', 'texto_ent']\n",
    "       ].loc[(data['tipo_ent'] != 'Ato_Retificacao_Comissionado')]   \n",
    "\n",
    "data = data[['id_ato', 'id_dodf', 'tipo_rel', 'id_rel', 'anotador_rel', \n",
    "       'tipo_ent', 'id_ent', 'anotador_ent', 'texto_ent']\n",
    "       ].loc[(data['tipo_ent'] != 'Ato_Exoneracao_Efetivo')]   \n",
    "\n",
    "data = data[['id_ato', 'id_dodf', 'tipo_rel', 'id_rel', 'anotador_rel', \n",
    "       'tipo_ent', 'id_ent', 'anotador_ent', 'texto_ent']\n",
    "       ].loc[(data['tipo_ent'] != 'Ato_Tornado_Sem_Efeito_Apo')]   \n",
    "\n",
    "data = data[['id_ato', 'id_dodf', 'tipo_rel', 'id_rel', 'anotador_rel', \n",
    "       'tipo_ent', 'id_ent', 'anotador_ent', 'texto_ent']\n",
    "       ].loc[(data['tipo_ent'] != 'Ato_Nomeacao_Efetivo')]   "
   ]
  },
  {
   "cell_type": "code",
   "execution_count": 27,
   "metadata": {},
   "outputs": [],
   "source": [
    "data = data.reset_index(drop=True)\n",
    "data1 = data1.reset_index(drop=True)"
   ]
  },
  {
   "cell_type": "code",
   "execution_count": 28,
   "metadata": {},
   "outputs": [],
   "source": [
    "tokens = data['tipo_ent'].unique()\n",
    "\n",
    "for token in tokens:\n",
    "    data1[token] = np.nan"
   ]
  },
  {
   "cell_type": "code",
   "execution_count": 35,
   "metadata": {},
   "outputs": [],
   "source": [
    "for i in range(len(data1)):\n",
    "    texto = clean_text_by_word(data1.loc[i, 'texto_ent']).replace(\"\\r\", \"\")\n",
    "    data1.loc[i, 'texto_ent'] = texto"
   ]
  },
  {
   "cell_type": "code",
   "execution_count": 36,
   "metadata": {},
   "outputs": [],
   "source": [
    "for i in range(len(data)):\n",
    "    for j in range(len(data1)):\n",
    "        if data['id_ato'][i] == data1['id_ato'][j]:\n",
    "            entitie = re.sub('xxbcet ?|xxbcet ?|xxeob ?|xxbob ?|xxecet ?', '', clean_text_by_word(data['texto_ent'][i]).replace(\"\\r\", \"\"))\n",
    "            data1.loc[j, data['tipo_ent'][i]] = entitie"
   ]
  },
  {
   "cell_type": "markdown",
   "metadata": {},
   "source": [
    "## Renomeando as colunas"
   ]
  },
  {
   "cell_type": "code",
   "execution_count": 44,
   "metadata": {},
   "outputs": [],
   "source": [
    "data1.rename({'id_dodf': 'dodf', 'tipo_ent': 'ato', 'texto_ent': 'texto_ato'}, axis=1, inplace=True)\n",
    "data1.rename({'id_dodf': 'dodf', 'tipo_ent': 'ato', 'texto_ent': 'texto_ato'}, axis=1, inplace=True)"
   ]
  },
  {
   "cell_type": "code",
   "execution_count": 45,
   "metadata": {},
   "outputs": [
    {
     "data": {
      "text/plain": [
       "Index(['id_ato', 'dodf', 'num_doc_dodf', 'data_doc_dodf', 'ato', 'texto_ato',\n",
       "       'nome_substituto', 'matricula_substituto', 'nome_substituido',\n",
       "       'matricula_substituido', 'cargo_substituto',\n",
       "       'cargo_objeto_substituicao', 'simbolo_objeto_substituicao',\n",
       "       'hierarquia_lotacao', 'orgao', 'data_inicial', 'data_final', 'motivo',\n",
       "       'nome', 'matricula', 'cargo_efetivo', 'quadro', 'fundamento_legal',\n",
       "       'vigencia', 'processo_SEI', 'tipo_documento', 'data_documento',\n",
       "       'numero_dodf', 'data_dodf', 'pagina_dodf', 'informacao_errada',\n",
       "       'informacao_corrigida', 'tipo_ato', 'numero_documento', 'lotacao',\n",
       "       'matricula_SIAPE', 'simbolo_substituto', 'orgao_cedente',\n",
       "       'orgao_cessionario', 'onus', 'padrao', 'classe', 'cargo_comissionado',\n",
       "       'simbolo', 'a_pedido_ou_nao', 'tipo_edicao', 'cargo_orgao_cessionario',\n",
       "       'carreira', 'edital_normativo', 'data_edital_normativo',\n",
       "       'numero_dodf_edital_normativo', 'data_dodf_edital_normativo',\n",
       "       'data_edital_resultado_final', 'numero_dodf_resultado_final', 'cargo',\n",
       "       'candidato', 'data_dodf_resultado_final', 'edital_resultado_final',\n",
       "       'especialidade', 'candidato_PNE'],\n",
       "      dtype='object')"
      ]
     },
     "execution_count": 45,
     "metadata": {},
     "output_type": "execute_result"
    }
   ],
   "source": [
    "data1.columns"
   ]
  },
  {
   "cell_type": "code",
   "execution_count": 48,
   "metadata": {},
   "outputs": [],
   "source": [
    "data_acts = data1[['dodf', 'num_doc_dodf', 'data_doc_dodf', 'ato', 'texto_ato',\n",
    "       'nome_substituto', 'matricula_substituto', 'nome_substituido',\n",
    "       'matricula_substituido', 'cargo_substituto',\n",
    "       'cargo_objeto_substituicao', 'simbolo_objeto_substituicao',\n",
    "       'hierarquia_lotacao', 'orgao', 'data_inicial', 'data_final', 'motivo',\n",
    "       'nome', 'matricula', 'cargo_efetivo', 'quadro', 'fundamento_legal',\n",
    "       'vigencia', 'processo_SEI', 'tipo_documento', 'data_documento',\n",
    "       'numero_dodf', 'data_dodf', 'pagina_dodf', 'informacao_errada',\n",
    "       'informacao_corrigida', 'tipo_ato', 'numero_documento', 'lotacao',\n",
    "       'matricula_SIAPE', 'simbolo_substituto', 'orgao_cedente',\n",
    "       'orgao_cessionario', 'onus', 'padrao', 'classe', 'cargo_comissionado',\n",
    "       'simbolo', 'a_pedido_ou_nao', 'tipo_edicao', 'cargo_orgao_cessionario',\n",
    "       'carreira', 'edital_normativo', 'data_edital_normativo',\n",
    "       'numero_dodf_edital_normativo', 'data_dodf_edital_normativo',\n",
    "       'data_edital_resultado_final', 'numero_dodf_resultado_final', 'cargo',\n",
    "       'candidato', 'data_dodf_resultado_final', 'edital_resultado_final',\n",
    "       'especialidade', 'candidato_PNE']]"
   ]
  },
  {
   "cell_type": "code",
   "execution_count": 50,
   "metadata": {},
   "outputs": [],
   "source": [
    "# data_acts.to_csv('data_acts.csv', index=False)"
   ]
  },
  {
   "cell_type": "markdown",
   "metadata": {},
   "source": [
    "# Separando atos"
   ]
  },
  {
   "cell_type": "code",
   "execution_count": 84,
   "metadata": {},
   "outputs": [],
   "source": [
    "data_acts = pd.read_csv('data_acts.csv')"
   ]
  },
  {
   "cell_type": "code",
   "execution_count": 85,
   "metadata": {},
   "outputs": [
    {
     "data": {
      "text/plain": [
       "array(['Ato_Substituicao', 'Ato_Abono_Permanencia',\n",
       "       'Ato_Retificacao_Efetivo', 'Ato_Cessao', 'Ato_Reversao',\n",
       "       'Ato_Exoneracao_Comissionado', 'Ato_Tornado_Sem_Efeito_Exo_Nom',\n",
       "       'Ato_Nomeacao_Comissionado', 'Ato_Retificacao_Comissionado',\n",
       "       'Ato_Exoneracao_Efetivo', 'Ato_Tornado_Sem_Efeito_Apo',\n",
       "       'Ato_Nomeacao_Efetivo'], dtype=object)"
      ]
     },
     "execution_count": 85,
     "metadata": {},
     "output_type": "execute_result"
    }
   ],
   "source": [
    "data_acts['ato'].unique()"
   ]
  },
  {
   "cell_type": "code",
   "execution_count": 86,
   "metadata": {},
   "outputs": [],
   "source": [
    "data_Substituicao = data_acts[list(data_acts.columns)].loc[(data_acts['ato'] == 'Ato_Substituicao')]\n",
    "data_Substituicao = data_Substituicao.reset_index(drop=True)\n",
    "\n",
    "data_Abono_Permanencia = data_acts[list(data_acts.columns)].loc[(data_acts['ato'] == 'Ato_Abono_Permanencia')]\n",
    "data_Abono_Permanencia = data_Abono_Permanencia.reset_index(drop=True)\n",
    "\n",
    "data_Retificacao_Efetivo = data_acts[list(data_acts.columns)].loc[(data_acts['ato'] == 'Ato_Retificacao_Efetivo')]\n",
    "data_Retificacao_Efetivo = data_Retificacao_Efetivo.reset_index(drop=True)\n",
    "\n",
    "data_Cessao = data_acts[list(data_acts.columns)].loc[(data_acts['ato'] == 'Ato_Cessao')]\n",
    "data_Cessao = data_Cessao.reset_index(drop=True)\n",
    "\n",
    "data_Reversao = data_acts[list(data_acts.columns)].loc[(data_acts['ato'] == 'Ato_Reversao')]\n",
    "data_Reversao = data_Reversao.reset_index(drop=True)\n",
    "\n",
    "data_Exoneracao_Comissionado = data_acts[list(data_acts.columns)].loc[(data_acts['ato'] == 'Ato_Exoneracao_Comissionado')]\n",
    "data_Exoneracao_Comissionado = data_Exoneracao_Comissionado.reset_index(drop=True)\n",
    "\n",
    "data_Tornado_Sem_Efeito_Exo_Nom = data_acts[list(data_acts.columns)].loc[(data_acts['ato'] == 'Ato_Tornado_Sem_Efeito_Exo_Nom')]\n",
    "data_Tornado_Sem_Efeito_Exo_Nom = data_Tornado_Sem_Efeito_Exo_Nom.reset_index(drop=True)\n",
    "\n",
    "data_Nomeacao_Comissionado = data_acts[list(data_acts.columns)].loc[(data_acts['ato'] == 'Ato_Nomeacao_Comissionado')]\n",
    "data_Nomeacao_Comissionado = data_Nomeacao_Comissionado.reset_index(drop=True)\n",
    "\n",
    "data_Retificacao_Comissionado = data_acts[list(data_acts.columns)].loc[(data_acts['ato'] == 'Ato_Retificacao_Comissionado')]\n",
    "data_Retificacao_Comissionado = data_Retificacao_Comissionado.reset_index(drop=True)\n",
    "\n",
    "data_Exoneracao_Efetivo = data_acts[list(data_acts.columns)].loc[(data_acts['ato'] == 'Ato_Exoneracao_Efetivo')]\n",
    "data_Exoneracao_Efetivo = data_Exoneracao_Efetivo.reset_index(drop=True)\n",
    "\n",
    "data_Tornado_Sem_Efeito_Apo = data_acts[list(data_acts.columns)].loc[(data_acts['ato'] == 'Ato_Tornado_Sem_Efeito_Apo')]\n",
    "data_Tornado_Sem_Efeito_Apo = data_Tornado_Sem_Efeito_Apo.reset_index(drop=True)\n",
    "\n",
    "data_Nomeacao_Efetivo = data_acts[list(data_acts.columns)].loc[(data_acts['ato'] == 'Ato_Nomeacao_Efetivo')]\n",
    "data_Nomeacao_Efetivo = data_Nomeacao_Efetivo.reset_index(drop=True)"
   ]
  },
  {
   "cell_type": "code",
   "execution_count": 87,
   "metadata": {},
   "outputs": [
    {
     "data": {
      "text/plain": [
       "(2548, 138, 1254, 331, 61, 2379, 251, 2328, 201, 303, 22, 78)"
      ]
     },
     "execution_count": 87,
     "metadata": {},
     "output_type": "execute_result"
    }
   ],
   "source": [
    "len(data_Substituicao), len(data_Abono_Permanencia), len(data_Retificacao_Efetivo), len(data_Cessao), len(data_Reversao), len(data_Exoneracao_Comissionado), len(data_Tornado_Sem_Efeito_Exo_Nom), len(data_Nomeacao_Comissionado), len(data_Retificacao_Comissionado), len(data_Exoneracao_Efetivo), len(data_Tornado_Sem_Efeito_Apo), len(data_Nomeacao_Efetivo)"
   ]
  },
  {
   "cell_type": "code",
   "execution_count": 88,
   "metadata": {},
   "outputs": [],
   "source": [
    "ent = ['dodf', 'num_doc_dodf', 'data_doc_dodf', 'ato', 'texto_ato']\n",
    "\n",
    "for i in range(5, len(list(data_Substituicao.isnull().sum()))):\n",
    "    if list(data_Substituicao.isnull().sum())[i] != len(data_Substituicao):\n",
    "        ent.append(list(data_Substituicao.columns)[i])\n",
    "\n",
    "data_Substituicao = data_Substituicao[ent]"
   ]
  },
  {
   "cell_type": "code",
   "execution_count": 89,
   "metadata": {},
   "outputs": [],
   "source": [
    "ent = ['dodf', 'num_doc_dodf', 'data_doc_dodf', 'ato', 'texto_ato']\n",
    "\n",
    "for i in range(5, len(list(data_Abono_Permanencia.isnull().sum()))):\n",
    "    if list(data_Abono_Permanencia.isnull().sum())[i] != len(data_Abono_Permanencia):\n",
    "        ent.append(list(data_Abono_Permanencia.columns)[i])\n",
    "\n",
    "data_Abono_Permanencia = data_Abono_Permanencia[ent]"
   ]
  },
  {
   "cell_type": "code",
   "execution_count": 90,
   "metadata": {},
   "outputs": [],
   "source": [
    "ent = ['dodf', 'num_doc_dodf', 'data_doc_dodf', 'ato', 'texto_ato']\n",
    "\n",
    "for i in range(5, len(list(data_Retificacao_Efetivo.isnull().sum()))):\n",
    "    if list(data_Retificacao_Efetivo.isnull().sum())[i] != len(data_Retificacao_Efetivo):\n",
    "        ent.append(list(data_Retificacao_Efetivo.columns)[i])\n",
    "\n",
    "data_Retificacao_Efetivo = data_Retificacao_Efetivo[ent]"
   ]
  },
  {
   "cell_type": "code",
   "execution_count": 91,
   "metadata": {},
   "outputs": [],
   "source": [
    "ent = ['dodf', 'num_doc_dodf', 'data_doc_dodf', 'ato', 'texto_ato']\n",
    "\n",
    "for i in range(5, len(list(data_Cessao.isnull().sum()))):\n",
    "    if list(data_Cessao.isnull().sum())[i] != len(data_Cessao):\n",
    "        ent.append(list(data_Cessao.columns)[i])\n",
    "\n",
    "data_Cessao = data_Cessao[ent]"
   ]
  },
  {
   "cell_type": "code",
   "execution_count": 92,
   "metadata": {},
   "outputs": [],
   "source": [
    "ent = ['dodf', 'num_doc_dodf', 'data_doc_dodf', 'ato', 'texto_ato']\n",
    "\n",
    "for i in range(5, len(list(data_Reversao.isnull().sum()))):\n",
    "    if list(data_Reversao.isnull().sum())[i] != len(data_Reversao):\n",
    "        ent.append(list(data_Reversao.columns)[i])\n",
    "\n",
    "data_Reversao = data_Reversao[ent]"
   ]
  },
  {
   "cell_type": "code",
   "execution_count": 93,
   "metadata": {},
   "outputs": [],
   "source": [
    "ent = ['dodf', 'num_doc_dodf', 'data_doc_dodf', 'ato', 'texto_ato']\n",
    "\n",
    "for i in range(5, len(list(data_Exoneracao_Comissionado.isnull().sum()))):\n",
    "    if list(data_Exoneracao_Comissionado.isnull().sum())[i] != len(data_Exoneracao_Comissionado):\n",
    "        ent.append(list(data_Exoneracao_Comissionado.columns)[i])\n",
    "\n",
    "data_Exoneracao_Comissionado = data_Exoneracao_Comissionado[ent]"
   ]
  },
  {
   "cell_type": "code",
   "execution_count": 94,
   "metadata": {},
   "outputs": [],
   "source": [
    "ent = ['dodf', 'num_doc_dodf', 'data_doc_dodf', 'ato', 'texto_ato']\n",
    "\n",
    "for i in range(5, len(list(data_Tornado_Sem_Efeito_Exo_Nom.isnull().sum()))):\n",
    "    if list(data_Tornado_Sem_Efeito_Exo_Nom.isnull().sum())[i] != len(data_Tornado_Sem_Efeito_Exo_Nom):\n",
    "        ent.append(list(data_Tornado_Sem_Efeito_Exo_Nom.columns)[i])\n",
    "\n",
    "data_Tornado_Sem_Efeito_Exo_Nom = data_Tornado_Sem_Efeito_Exo_Nom[ent]"
   ]
  },
  {
   "cell_type": "code",
   "execution_count": 95,
   "metadata": {},
   "outputs": [],
   "source": [
    "ent = ['dodf', 'num_doc_dodf', 'data_doc_dodf', 'ato', 'texto_ato']\n",
    "\n",
    "for i in range(5, len(list(data_Nomeacao_Comissionado.isnull().sum()))):\n",
    "    if list(data_Nomeacao_Comissionado.isnull().sum())[i] != len(data_Nomeacao_Comissionado):\n",
    "        ent.append(list(data_Nomeacao_Comissionado.columns)[i])\n",
    "\n",
    "data_Nomeacao_Comissionado = data_Nomeacao_Comissionado[ent]"
   ]
  },
  {
   "cell_type": "code",
   "execution_count": 96,
   "metadata": {},
   "outputs": [],
   "source": [
    "ent = ['dodf', 'num_doc_dodf', 'data_doc_dodf', 'ato', 'texto_ato']\n",
    "\n",
    "for i in range(5, len(list(data_Retificacao_Comissionado.isnull().sum()))):\n",
    "    if list(data_Retificacao_Comissionado.isnull().sum())[i] != len(data_Retificacao_Comissionado):\n",
    "        ent.append(list(data_Retificacao_Comissionado.columns)[i])\n",
    "\n",
    "data_Retificacao_Comissionado = data_Retificacao_Comissionado[ent]"
   ]
  },
  {
   "cell_type": "code",
   "execution_count": 97,
   "metadata": {},
   "outputs": [],
   "source": [
    "ent = ['dodf', 'num_doc_dodf', 'data_doc_dodf', 'ato', 'texto_ato']\n",
    "\n",
    "for i in range(5, len(list(data_Exoneracao_Efetivo.isnull().sum()))):\n",
    "    if list(data_Exoneracao_Efetivo.isnull().sum())[i] != len(data_Exoneracao_Efetivo):\n",
    "        ent.append(list(data_Exoneracao_Efetivo.columns)[i])\n",
    "\n",
    "data_Exoneracao_Efetivo = data_Exoneracao_Efetivo[ent]"
   ]
  },
  {
   "cell_type": "code",
   "execution_count": 98,
   "metadata": {},
   "outputs": [],
   "source": [
    "ent = ['dodf', 'num_doc_dodf', 'data_doc_dodf', 'ato', 'texto_ato']\n",
    "\n",
    "for i in range(5, len(list(data_Tornado_Sem_Efeito_Apo.isnull().sum()))):\n",
    "    if list(data_Tornado_Sem_Efeito_Apo.isnull().sum())[i] != len(data_Tornado_Sem_Efeito_Apo):\n",
    "        ent.append(list(data_Tornado_Sem_Efeito_Apo.columns)[i])\n",
    "\n",
    "data_Tornado_Sem_Efeito_Apo = data_Tornado_Sem_Efeito_Apo[ent]"
   ]
  },
  {
   "cell_type": "code",
   "execution_count": 99,
   "metadata": {},
   "outputs": [],
   "source": [
    "ent = ['dodf', 'num_doc_dodf', 'data_doc_dodf', 'ato', 'texto_ato']\n",
    "\n",
    "for i in range(5, len(list(data_Nomeacao_Efetivo.isnull().sum()))):\n",
    "    if list(data_Nomeacao_Efetivo.isnull().sum())[i] != len(data_Nomeacao_Efetivo):\n",
    "        ent.append(list(data_Nomeacao_Efetivo.columns)[i])\n",
    "\n",
    "data_Nomeacao_Efetivo = data_Nomeacao_Efetivo[ent]"
   ]
  },
  {
   "cell_type": "markdown",
   "metadata": {},
   "source": [
    "## IOB"
   ]
  },
  {
   "cell_type": "code",
   "execution_count": 100,
   "metadata": {},
   "outputs": [],
   "source": [
    "import nltk\n",
    "from nltk.tokenize import word_tokenize\n",
    "from sklearn.base import BaseEstimator, TransformerMixin"
   ]
  },
  {
   "cell_type": "code",
   "execution_count": 101,
   "metadata": {},
   "outputs": [],
   "source": [
    "class Tokenizer(TransformerMixin, BaseEstimator):\n",
    "    def __init__(self, tokenizer=''):\n",
    "        self.tokenizer = tokenizer\n",
    "\n",
    "\n",
    "    def __call__(self, X, **kw_params):\n",
    "        return self.tokenizer(X, **kw_params)\n",
    "\n",
    "\n",
    "    def fit(self, X, y=None, **fit_params):\n",
    "        return self\n",
    "\n",
    "\n",
    "    def transform(self, X, **kw_params):\n",
    "        if not isinstance(X, pd.Series):\n",
    "            print(\"[preprocess.Tokenizer.transform] TYPE:\", type(X))\n",
    "            print('X:::: ', X)\n",
    "            X = pd.Series(X)\n",
    "        return X.map(self)\n",
    "\n",
    "\n",
    "from sklearn.base import BaseEstimator, TransformerMixin\n",
    "\n",
    "class IOBifyer(TransformerMixin, BaseEstimator):\n",
    "\n",
    "    @staticmethod\n",
    "    def find_entity(row, token, ignore_idx=0,\n",
    "        tokenizer=''):\n",
    "        # TODO: aceitar opção de offset, para não ter tennhum tipo de problema\n",
    "        for idx, column in enumerate(row.keys()):\n",
    "            if idx == ignore_idx:\n",
    "                continue\n",
    "            if isinstance(row[column], str) and \\\n",
    "                token == word_tokenize(row[column])[0]:\n",
    "                return column\n",
    "\n",
    "        return None\n",
    "\n",
    "\n",
    "    @staticmethod\n",
    "    def generate_IOB_labels(row, idx, tokenizer, dbg={}):\n",
    "        labels = []\n",
    "        entity_started = False\n",
    "        text = row.iloc[idx]\n",
    "        for token in word_tokenize(text):                         \n",
    "            if not entity_started:                               \n",
    "                entity = IOBifyer.find_entity(row, token, idx)                 \n",
    "                if entity is not None:                           \n",
    "                    entity_started = True\n",
    "                    token_index = 1\n",
    "                    labels.append('B-' + entity)\n",
    "                else:\n",
    "                    labels.append('O')\n",
    "            else:\n",
    "                if token_index < len(word_tokenize(row[entity])) and \\\n",
    "                    token == word_tokenize(row[entity])[token_index]:\n",
    "                    labels.append('I-' + entity)\n",
    "                    token_index += 1\n",
    "                    if token_index >= len(word_tokenize(row[entity])):\n",
    "                        entity_started = False\n",
    "                else:\n",
    "                    entity_started = False\n",
    "                    labels.append('O')\n",
    "        if labels[0] != 'O':\n",
    "            dbg['l'] = dbg.get('l', []) + [(row, idx)]\n",
    "\n",
    "        return labels\n",
    "\n",
    "\n",
    "    @staticmethod\n",
    "    def dump_iob(tokens_mat, labels_mat, path='dump.txt',\n",
    "                            sep=' X X ', sent_sep='\\n',):\n",
    "        dbg_mat = []\n",
    "        if isinstance(path, Path):\n",
    "            path = path.as_posix()\n",
    "        if '/' in path:\n",
    "            os.makedirs('/'.join(path.split('/')[:-1]), exist_ok=True)\n",
    "\n",
    "        with open(path, 'w') as fp:\n",
    "            for tokens_lis, labels_lis in zip(tokens_mat, labels_mat):\n",
    "                dbg_mat.append([])\n",
    "                for token, label in zip(tokens_lis, labels_lis):\n",
    "                    dbg_mat[-1].append((token, label))\n",
    "                    fp.write(f\"{token}{sep}{label}\\n\")\n",
    "                fp.write(sent_sep)\n",
    "        return dbg_mat\n",
    "\n",
    "\n",
    "    def __init__(self, column='act_column',\n",
    "        tokenizer=''):\n",
    "        self.column = column\n",
    "        self.tokenizer = tokenizer\n",
    "        self.dbg = {}\n",
    "\n",
    "\n",
    "    def fit(self, X=None, y=None, **fit_params):\n",
    "        return self\n",
    "\n",
    "\n",
    "    def transform(self, df):\n",
    "        if not isinstance(df, pd.DataFrame):\n",
    "            raise TypeError(f\"`df` expected to be a pd.DataFrame. Got {type(df)}\")\n",
    "        if df.empty:\n",
    "            print(\"[core.preprocess]Warning: empty DataFrame. There won't be ioblabels.\")\n",
    "            return pd.Series()\n",
    "\n",
    "        idx = self.column if isinstance(self.column, int) else  \\\n",
    "                df.columns.get_loc(self.column)\n",
    "        labels_row = []\n",
    "        for index, row in df.iterrows():\n",
    "            try:\n",
    "                labels_row.append(\n",
    "                    IOBifyer.generate_IOB_labels(\n",
    "                        row, idx, self.tokenizer, self.dbg\n",
    "                    )\n",
    "                )\n",
    "            except Exception as e:\n",
    "                print(\"problem iobifyin row:\", row)\n",
    "                raise e\n",
    "        return pd.Series(labels_row)\n"
   ]
  },
  {
   "cell_type": "code",
   "execution_count": 102,
   "metadata": {},
   "outputs": [],
   "source": [
    "# data_Substituicao\n",
    "data_Substituicao_iob = data_Substituicao[list(data_Substituicao.columns)[4:]]\n",
    "\n",
    "iob_data_Substituicao= IOBifyer(column='texto_ato')\n",
    "r_data_Substituicao = iob_data_Substituicao.transform(data_Substituicao_iob)\n",
    "data_Substituicao[\"IOB\"] = np.nan\n",
    "\n",
    "for i in range(len(data_Substituicao)):\n",
    "    data_Substituicao.loc[i, \"IOB\"] = ' '.join(r_data_Substituicao[i])"
   ]
  },
  {
   "cell_type": "code",
   "execution_count": 103,
   "metadata": {},
   "outputs": [],
   "source": [
    "# data_Abono_Permanencia\n",
    "data_Abono_Permanencia_iob = data_Abono_Permanencia[list(data_Abono_Permanencia.columns)[4:]]\n",
    "\n",
    "iob_data_Abono_Permanencia = IOBifyer(column='texto_ato')\n",
    "r_data_Abono_Permanencia = iob_data_Abono_Permanencia.transform(data_Abono_Permanencia_iob)\n",
    "data_Abono_Permanencia[\"IOB\"] = np.nan\n",
    "\n",
    "for i in range(len(data_Abono_Permanencia)):\n",
    "    data_Abono_Permanencia.loc[i, \"IOB\"] = ' '.join(r_data_Abono_Permanencia[i])"
   ]
  },
  {
   "cell_type": "code",
   "execution_count": 104,
   "metadata": {},
   "outputs": [],
   "source": [
    "# data_Retificacao_Efetivo\n",
    "data_Retificacao_Efetivo_iob = data_Retificacao_Efetivo[list(data_Retificacao_Efetivo.columns)[4:]]\n",
    "\n",
    "iob_data_Retificacao_Efetivo = IOBifyer(column='texto_ato')\n",
    "r_data_Retificacao_Efetivo = iob_data_Retificacao_Efetivo.transform(data_Retificacao_Efetivo_iob)\n",
    "data_Retificacao_Efetivo[\"IOB\"] = np.nan\n",
    "\n",
    "for i in range(len(data_Retificacao_Efetivo)):\n",
    "    data_Retificacao_Efetivo.loc[i, \"IOB\"] = ' '.join(r_data_Retificacao_Efetivo[i])"
   ]
  },
  {
   "cell_type": "code",
   "execution_count": 105,
   "metadata": {},
   "outputs": [],
   "source": [
    "# data_Cessao\n",
    "data_Cessao_iob = data_Cessao[list(data_Cessao.columns)[4:]]\n",
    "\n",
    "iob_data_Cessao = IOBifyer(column='texto_ato')\n",
    "r_data_Cessao = iob_data_Cessao.transform(data_Cessao_iob)\n",
    "data_Cessao[\"IOB\"] = np.nan\n",
    "\n",
    "for i in range(len(data_Cessao)):\n",
    "    data_Cessao.loc[i, \"IOB\"] = ' '.join(r_data_Cessao[i])"
   ]
  },
  {
   "cell_type": "code",
   "execution_count": 106,
   "metadata": {},
   "outputs": [],
   "source": [
    "# data_Reversao\n",
    "data_Reversao_iob = data_Reversao[list(data_Reversao.columns)[4:]]\n",
    "\n",
    "iob_data_Reversao = IOBifyer(column='texto_ato')\n",
    "r_data_Reversao = iob_data_Reversao.transform(data_Reversao_iob)\n",
    "data_Reversao[\"IOB\"] = np.nan\n",
    "\n",
    "for i in range(len(data_Reversao)):\n",
    "    data_Reversao.loc[i, \"IOB\"] = ' '.join(r_data_Reversao[i])"
   ]
  },
  {
   "cell_type": "code",
   "execution_count": 107,
   "metadata": {},
   "outputs": [],
   "source": [
    "# data_Exoneracao_Comissionado\n",
    "data_Exoneracao_Comissionado_iob = data_Exoneracao_Comissionado[list(data_Exoneracao_Comissionado.columns)[4:]]\n",
    "\n",
    "iob_data_Exoneracao_Comissionado = IOBifyer(column='texto_ato')\n",
    "r_data_Exoneracao_Comissionado = iob_data_Exoneracao_Comissionado.transform(data_Exoneracao_Comissionado_iob)\n",
    "data_Exoneracao_Comissionado[\"IOB\"] = np.nan\n",
    "\n",
    "for i in range(len(data_Exoneracao_Comissionado)):\n",
    "    data_Exoneracao_Comissionado.loc[i, \"IOB\"] = ' '.join(r_data_Exoneracao_Comissionado[i])"
   ]
  },
  {
   "cell_type": "code",
   "execution_count": 108,
   "metadata": {},
   "outputs": [],
   "source": [
    "# data_Tornado_Sem_Efeito_Exo_Nom\n",
    "data_Tornado_Sem_Efeito_Exo_Nom_iob = data_Tornado_Sem_Efeito_Exo_Nom[list(data_Tornado_Sem_Efeito_Exo_Nom.columns)[4:]]\n",
    "\n",
    "iob_data_Tornado_Sem_Efeito_Exo_Nom = IOBifyer(column='texto_ato')\n",
    "r_data_Tornado_Sem_Efeito_Exo_Nom = iob_data_Tornado_Sem_Efeito_Exo_Nom.transform(data_Tornado_Sem_Efeito_Exo_Nom_iob)\n",
    "data_Tornado_Sem_Efeito_Exo_Nom[\"IOB\"] = np.nan\n",
    "\n",
    "for i in range(len(data_Tornado_Sem_Efeito_Exo_Nom)):\n",
    "    data_Tornado_Sem_Efeito_Exo_Nom.loc[i, \"IOB\"] = ' '.join(r_data_Tornado_Sem_Efeito_Exo_Nom[i])"
   ]
  },
  {
   "cell_type": "code",
   "execution_count": 109,
   "metadata": {},
   "outputs": [],
   "source": [
    "# data_Nomeacao_Comissionado\n",
    "data_Nomeacao_Comissionado_iob = data_Nomeacao_Comissionado[list(data_Nomeacao_Comissionado.columns)[4:]]\n",
    "\n",
    "iob_data_Nomeacao_Comissionado = IOBifyer(column='texto_ato')\n",
    "r_data_Nomeacao_Comissionado = iob_data_Nomeacao_Comissionado.transform(data_Nomeacao_Comissionado_iob)\n",
    "data_Nomeacao_Comissionado[\"IOB\"] = np.nan\n",
    "\n",
    "for i in range(len(data_Nomeacao_Comissionado)):\n",
    "    data_Nomeacao_Comissionado.loc[i, \"IOB\"] = ' '.join(r_data_Nomeacao_Comissionado[i])"
   ]
  },
  {
   "cell_type": "code",
   "execution_count": 110,
   "metadata": {},
   "outputs": [],
   "source": [
    "# data_Retificacao_Comissionado\n",
    "data_Retificacao_Comissionado_iob = data_Retificacao_Comissionado[list(data_Retificacao_Comissionado.columns)[4:]]\n",
    "\n",
    "iob_data_Retificacao_Comissionado = IOBifyer(column='texto_ato')\n",
    "r_data_Retificacao_Comissionado = iob_data_Retificacao_Comissionado.transform(data_Retificacao_Comissionado_iob)\n",
    "data_Retificacao_Comissionado[\"IOB\"] = np.nan\n",
    "\n",
    "for i in range(len(data_Retificacao_Comissionado)):\n",
    "    data_Retificacao_Comissionado.loc[i, \"IOB\"] = ' '.join(r_data_Retificacao_Comissionado[i])"
   ]
  },
  {
   "cell_type": "code",
   "execution_count": 111,
   "metadata": {},
   "outputs": [],
   "source": [
    "# data_Exoneracao_Efetivo\n",
    "data_Exoneracao_Efetivo_iob = data_Exoneracao_Efetivo[list(data_Exoneracao_Efetivo.columns)[4:]]\n",
    "\n",
    "iob_data_Exoneracao_Efetivo = IOBifyer(column='texto_ato')\n",
    "r_data_Exoneracao_Efetivo = iob_data_Exoneracao_Efetivo.transform(data_Exoneracao_Efetivo_iob)\n",
    "data_Exoneracao_Efetivo[\"IOB\"] = np.nan\n",
    "\n",
    "for i in range(len(data_Exoneracao_Efetivo)):\n",
    "    data_Exoneracao_Efetivo.loc[i, \"IOB\"] = ' '.join(r_data_Exoneracao_Efetivo[i])"
   ]
  },
  {
   "cell_type": "code",
   "execution_count": 112,
   "metadata": {},
   "outputs": [],
   "source": [
    "# data_Tornado_Sem_Efeito_Apo\n",
    "data_Tornado_Sem_Efeito_Apo_iob = data_Tornado_Sem_Efeito_Apo[list(data_Tornado_Sem_Efeito_Apo.columns)[4:]]\n",
    "\n",
    "iob_data_Tornado_Sem_Efeito_Apo = IOBifyer(column='texto_ato')\n",
    "r_data_Tornado_Sem_Efeito_Apo = iob_data_Tornado_Sem_Efeito_Apo.transform(data_Tornado_Sem_Efeito_Apo_iob)\n",
    "data_Tornado_Sem_Efeito_Apo[\"IOB\"] = np.nan\n",
    "\n",
    "for i in range(len(data_Tornado_Sem_Efeito_Apo)):\n",
    "    data_Tornado_Sem_Efeito_Apo.loc[i, \"IOB\"] = ' '.join(r_data_Tornado_Sem_Efeito_Apo[i])"
   ]
  },
  {
   "cell_type": "code",
   "execution_count": 113,
   "metadata": {},
   "outputs": [],
   "source": [
    "# data_Nomeacao_Efetivo\n",
    "data_Nomeacao_Efetivo_iob = data_Nomeacao_Efetivo[list(data_Nomeacao_Efetivo.columns)[4:]]\n",
    "\n",
    "iob_data_Nomeacao_Efetivo = IOBifyer(column='texto_ato')\n",
    "r_data_Nomeacao_Efetivo = iob_data_Nomeacao_Efetivo.transform(data_Nomeacao_Efetivo_iob)\n",
    "data_Nomeacao_Efetivo[\"IOB\"] = np.nan\n",
    "\n",
    "for i in range(len(data_Nomeacao_Efetivo)):\n",
    "    data_Nomeacao_Efetivo.loc[i, \"IOB\"] = ' '.join(r_data_Nomeacao_Efetivo[i])"
   ]
  },
  {
   "cell_type": "code",
   "execution_count": 129,
   "metadata": {},
   "outputs": [],
   "source": [
    "# for i in range(len(data_Nomeacao_Efetivo)):\n",
    "#     if len(data_Nomeacao_Efetivo.loc[i, \"IOB\"].split()) != len(word_tokenize(data_Nomeacao_Efetivo.loc[i, \"texto_ato\"])):\n",
    "#         print(i)"
   ]
  },
  {
   "cell_type": "code",
   "execution_count": null,
   "metadata": {},
   "outputs": [],
   "source": [
    "# data_Substituicao\n",
    "# data_Abono_Permanencia\n",
    "# data_Retificacao_Efetivo\n",
    "# data_Cessao\n",
    "# data_Reversao\n",
    "# data_Exoneracao_Comissionado\n",
    "# data_Tornado_Sem_Efeito_Exo_Nom\n",
    "# data_Nomeacao_Comissionado\n",
    "# data_Retificacao_Comissionado\n",
    "# data_Exoneracao_Efetivo\n",
    "# data_Tornado_Sem_Efeito_Apo\n",
    "# data_Nomeacao_Efetivo"
   ]
  },
  {
   "cell_type": "code",
   "execution_count": 130,
   "metadata": {},
   "outputs": [],
   "source": [
    "# data_Substituicao.to_csv('CorpusPessoal/Substituicao.csv', index=False)\n",
    "# data_Abono_Permanencia.to_csv('CorpusPessoal/Abono_Permanencia.csv', index=False)\n",
    "# data_Retificacao_Efetivo.to_csv('CorpusPessoal/Retificacao_Efetivo.csv', index=False)\n",
    "# data_Cessao.to_csv('CorpusPessoal/Cessao.csv', index=False)\n",
    "# data_Reversao.to_csv('CorpusPessoal/Reversao.csv', index=False)\n",
    "# data_Exoneracao_Comissionado.to_csv('CorpusPessoal/Exoneracao_Comissionado.csv', index=False)\n",
    "# data_Tornado_Sem_Efeito_Exo_Nom.to_csv('CorpusPessoal/Tornado_Sem_Efeito_Exo_Nom.csv', index=False)\n",
    "# data_Nomeacao_Comissionado.to_csv('CorpusPessoal/Nomeacao_Comissionado.csv', index=False)\n",
    "# data_Retificacao_Comissionado.to_csv('CorpusPessoal/Retificacao_Comissionado.csv', index=False)\n",
    "# data_Exoneracao_Efetivo.to_csv('CorpusPessoal/Exoneracao_Efetivo.csv', index=False)\n",
    "# data_Tornado_Sem_Efeito_Apo.to_csv('CorpusPessoal/Tornado_Sem_Efeito_Apo.csv', index=False)\n",
    "# data_Nomeacao_Efetivo.to_csv('CorpusPessoal/Nomeacao_Efetivo.csv', index=False)"
   ]
  }
 ],
 "metadata": {
  "kernelspec": {
   "display_name": "venv",
   "language": "python",
   "name": "python3"
  },
  "language_info": {
   "codemirror_mode": {
    "name": "ipython",
    "version": 3
   },
   "file_extension": ".py",
   "mimetype": "text/x-python",
   "name": "python",
   "nbconvert_exporter": "python",
   "pygments_lexer": "ipython3",
   "version": "3.9.13"
  },
  "orig_nbformat": 4,
  "vscode": {
   "interpreter": {
    "hash": "f3a68236c0d4eb7c29a6474fab349ce61e820596e339e95d586f0102a11cc41a"
   }
  }
 },
 "nbformat": 4,
 "nbformat_minor": 2
}
