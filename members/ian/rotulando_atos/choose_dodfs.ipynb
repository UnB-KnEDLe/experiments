{
 "cells": [
  {
   "cell_type": "code",
   "execution_count": 1,
   "metadata": {},
   "outputs": [],
   "source": [
    "import pandas as pd\n",
    "import re\n",
    "from pandas import DataFrame\n",
    "import numpy as np"
   ]
  },
  {
   "cell_type": "code",
   "execution_count": 2,
   "metadata": {},
   "outputs": [
    {
     "data": {
      "text/html": [
       "<div>\n",
       "<style scoped>\n",
       "    .dataframe tbody tr th:only-of-type {\n",
       "        vertical-align: middle;\n",
       "    }\n",
       "\n",
       "    .dataframe tbody tr th {\n",
       "        vertical-align: top;\n",
       "    }\n",
       "\n",
       "    .dataframe thead th {\n",
       "        text-align: right;\n",
       "    }\n",
       "</style>\n",
       "<table border=\"1\" class=\"dataframe\">\n",
       "  <thead>\n",
       "    <tr style=\"text-align: right;\">\n",
       "      <th></th>\n",
       "      <th>Dodfs_list</th>\n",
       "    </tr>\n",
       "  </thead>\n",
       "  <tbody>\n",
       "    <tr>\n",
       "      <th>0</th>\n",
       "      <td>DODF 001 03-01-2000\\n\\nxxbob\\nPÁGINA 4\\nxxeob\\...</td>\n",
       "    </tr>\n",
       "    <tr>\n",
       "      <th>1</th>\n",
       "      <td>DODF 002 04-01-2000\\n\\nxxbob\\nAGENTE FALA, A G...</td>\n",
       "    </tr>\n",
       "    <tr>\n",
       "      <th>2</th>\n",
       "      <td>DODF 003 05-01-2000\\n\\nxxbob\\nGoverno\\nTRIO\\nF...</td>\n",
       "    </tr>\n",
       "    <tr>\n",
       "      <th>3</th>\n",
       "      <td>DODF 004 06-01-2000\\n\\nxxbob\\nDO GOvERRO\\nDIST...</td>\n",
       "    </tr>\n",
       "    <tr>\n",
       "      <th>4</th>\n",
       "      <td>DODF 005 07-01-2000\\n\\nxxbob\\nDIÁRIO OFICIAL\\n...</td>\n",
       "    </tr>\n",
       "    <tr>\n",
       "      <th>...</th>\n",
       "      <td>...</td>\n",
       "    </tr>\n",
       "    <tr>\n",
       "      <th>5315</th>\n",
       "      <td>DODF 195 18-10-2021\\n\\nxxbob\\nGOVERNO DO DISTR...</td>\n",
       "    </tr>\n",
       "    <tr>\n",
       "      <th>5316</th>\n",
       "      <td>DODF 196 19-10-2021\\n\\nxxbob\\nGOVERNO DO DISTR...</td>\n",
       "    </tr>\n",
       "    <tr>\n",
       "      <th>5317</th>\n",
       "      <td>DODF 197 20-10-2021\\n\\nxxbob\\nPÁGINA 13\\nxxeob...</td>\n",
       "    </tr>\n",
       "    <tr>\n",
       "      <th>5318</th>\n",
       "      <td>DODF 198 21-10-2021\\n\\nxxbob\\nGOVERNO DO DISTR...</td>\n",
       "    </tr>\n",
       "    <tr>\n",
       "      <th>5319</th>\n",
       "      <td>DODF 199 22-10-2021\\n\\nxxbob\\nGOVERNO DO DISTR...</td>\n",
       "    </tr>\n",
       "  </tbody>\n",
       "</table>\n",
       "<p>5320 rows × 1 columns</p>\n",
       "</div>"
      ],
      "text/plain": [
       "                                             Dodfs_list\n",
       "0     DODF 001 03-01-2000\\n\\nxxbob\\nPÁGINA 4\\nxxeob\\...\n",
       "1     DODF 002 04-01-2000\\n\\nxxbob\\nAGENTE FALA, A G...\n",
       "2     DODF 003 05-01-2000\\n\\nxxbob\\nGoverno\\nTRIO\\nF...\n",
       "3     DODF 004 06-01-2000\\n\\nxxbob\\nDO GOvERRO\\nDIST...\n",
       "4     DODF 005 07-01-2000\\n\\nxxbob\\nDIÁRIO OFICIAL\\n...\n",
       "...                                                 ...\n",
       "5315  DODF 195 18-10-2021\\n\\nxxbob\\nGOVERNO DO DISTR...\n",
       "5316  DODF 196 19-10-2021\\n\\nxxbob\\nGOVERNO DO DISTR...\n",
       "5317  DODF 197 20-10-2021\\n\\nxxbob\\nPÁGINA 13\\nxxeob...\n",
       "5318  DODF 198 21-10-2021\\n\\nxxbob\\nGOVERNO DO DISTR...\n",
       "5319  DODF 199 22-10-2021\\n\\nxxbob\\nGOVERNO DO DISTR...\n",
       "\n",
       "[5320 rows x 1 columns]"
      ]
     },
     "execution_count": 2,
     "metadata": {},
     "output_type": "execute_result"
    }
   ],
   "source": [
    "df = pd.read_parquet(\"../chunk_acts/dodfs.parquet.gzip\", engine='fastparquet')\n",
    "df"
   ]
  },
  {
   "cell_type": "code",
   "execution_count": 3,
   "metadata": {},
   "outputs": [],
   "source": [
    "year = list(range(2000, 2021+1))\n",
    "i = 0\n",
    "\n",
    "rows = []\n",
    "\n",
    "for row in range(len(df)):\n",
    "    if i == len(year):\n",
    "        break\n",
    "    if str(year[i]) in df['Dodfs_list'][row][:df['Dodfs_list'][row].index('\\n')]:\n",
    "        rows.append(row)\n",
    "        i += 1\n"
   ]
  },
  {
   "cell_type": "code",
   "execution_count": 4,
   "metadata": {},
   "outputs": [],
   "source": [
    "from random import randint\n",
    "\n",
    "dodfs = []\n",
    "\n",
    "for i in range(len(rows)):\n",
    "    if i == len(rows)-1:\n",
    "        data = df[rows[i]:]\n",
    "    else:\n",
    "        data = df[rows[i]:rows[i+1]]\n",
    "        \n",
    "    data = data.reset_index(drop=True)\n",
    "    number = randint(0, len(data))\n",
    "    dodfs.append(data['Dodfs_list'][number])\n",
    "    number = randint(0, len(data))\n",
    "    dodfs.append(data['Dodfs_list'][number])"
   ]
  },
  {
   "cell_type": "code",
   "execution_count": 5,
   "metadata": {},
   "outputs": [],
   "source": [
    "import os\n",
    "dir = './dodfs_not_labeled'       \n",
    "os.mkdir(dir)\n",
    "\n",
    "for dodf in dodfs:\n",
    "    file_name = dodf[:dodf.index('\\n')]\n",
    "    if '/' in file_name:\n",
    "        file_name = file_name[:file_name.index('/')]\n",
    "\n",
    "    with open(f\"dodfs_not_labeled/{file_name}.txt\", \"w\", encoding='utf-8') as text_file:\n",
    "        text_file.write(dodf)"
   ]
  },
  {
   "cell_type": "code",
   "execution_count": null,
   "metadata": {},
   "outputs": [],
   "source": []
  }
 ],
 "metadata": {
  "interpreter": {
   "hash": "6a5ed2ccc9d2ba59c3542bbda7f71bcfb6eae0ef46ae44aa32b9fd054184bad6"
  },
  "kernelspec": {
   "display_name": "Python 3.6.8 64-bit",
   "language": "python",
   "name": "python3"
  },
  "language_info": {
   "codemirror_mode": {
    "name": "ipython",
    "version": 3
   },
   "file_extension": ".py",
   "mimetype": "text/x-python",
   "name": "python",
   "nbconvert_exporter": "python",
   "pygments_lexer": "ipython3",
   "version": "3.6.8"
  },
  "orig_nbformat": 4
 },
 "nbformat": 4,
 "nbformat_minor": 2
}
