{
 "cells": [
  {
   "cell_type": "markdown",
   "metadata": {},
   "source": [
    "# CRF model\n",
    "\n",
    "### Modelo CRF para ato de abertura de licitação"
   ]
  },
  {
   "cell_type": "code",
   "execution_count": 3,
   "metadata": {},
   "outputs": [],
   "source": [
    "import pandas as pd\n",
    "\n",
    "import nltk\n",
    "\n",
    "import scipy.stats\n",
    "\n",
    "import sklearn\n",
    "from sklearn.metrics import make_scorer\n",
    "from sklearn.model_selection import cross_val_score\n",
    "from sklearn.model_selection import RandomizedSearchCV\n",
    "from sklearn.model_selection import GridSearchCV\n",
    "\n",
    "import sklearn_crfsuite\n",
    "from sklearn_crfsuite import scorers\n",
    "from sklearn_crfsuite import metrics\n",
    "\n",
    "import matplotlib.pyplot as plt\n",
    "import seaborn as sns\n",
    "sns.set(color_codes=True)\n",
    "sns.set(font_scale=1)\n",
    "%matplotlib inline\n",
    "%config InlineBackend.figure_format = 'svg'"
   ]
  },
  {
   "cell_type": "markdown",
   "metadata": {},
   "source": [
    "## Load csv with text and IOB"
   ]
  },
  {
   "cell_type": "code",
   "execution_count": 4,
   "metadata": {},
   "outputs": [
    {
     "data": {
      "text/plain": [
       "(1243, 1243)"
      ]
     },
     "execution_count": 4,
     "metadata": {},
     "output_type": "execute_result"
    }
   ],
   "source": [
    "DEFAULT_TOKENIZER = nltk.RegexpTokenizer(r\"\\w+\").tokenize\n",
    "\n",
    "data = pd.read_csv('CSVs/IOBabertura.csv')\n",
    "x = []\n",
    "y = []\n",
    "for row in range(len(data)):\n",
    "    if pd.notna(data['Texto'][row]) and pd.notna(data['IOB'][row]):\n",
    "        x.append(DEFAULT_TOKENIZER(data['Texto'][row]))\n",
    "        y.append(data['IOB'][row].split())\n",
    "len(x), len(y)"
   ]
  },
  {
   "cell_type": "code",
   "execution_count": 5,
   "metadata": {},
   "outputs": [
    {
     "data": {
      "text/html": [
       "<div>\n",
       "<style scoped>\n",
       "    .dataframe tbody tr th:only-of-type {\n",
       "        vertical-align: middle;\n",
       "    }\n",
       "\n",
       "    .dataframe tbody tr th {\n",
       "        vertical-align: top;\n",
       "    }\n",
       "\n",
       "    .dataframe thead th {\n",
       "        text-align: right;\n",
       "    }\n",
       "</style>\n",
       "<table border=\"1\" class=\"dataframe\">\n",
       "  <thead>\n",
       "    <tr style=\"text-align: right;\">\n",
       "      <th></th>\n",
       "      <th>Unnamed: 0</th>\n",
       "      <th>ATO</th>\n",
       "      <th>DATA</th>\n",
       "      <th>PROCESSO</th>\n",
       "      <th>TIPO</th>\n",
       "      <th>DISPUTA</th>\n",
       "      <th>V_ESTIMADO</th>\n",
       "      <th>REDATOR</th>\n",
       "      <th>Texto</th>\n",
       "      <th>IOB</th>\n",
       "    </tr>\n",
       "  </thead>\n",
       "  <tbody>\n",
       "    <tr>\n",
       "      <th>0</th>\n",
       "      <td>0</td>\n",
       "      <td>AVISO DE ABERTURA DE LICITACAO</td>\n",
       "      <td>23 de janeiro de 2004</td>\n",
       "      <td>NaN</td>\n",
       "      <td>NaN</td>\n",
       "      <td>NaN</td>\n",
       "      <td>NaN</td>\n",
       "      <td>NaN</td>\n",
       "      <td>AVISO DE ABERTURA DE LICITACAO TOMADA DE PRECO...</td>\n",
       "      <td>B-ATO I-ATO I-ATO I-ATO I-ATO O O O O O O O O ...</td>\n",
       "    </tr>\n",
       "    <tr>\n",
       "      <th>1</th>\n",
       "      <td>1</td>\n",
       "      <td>AVISO DE ABERTURA DE LICITACAO</td>\n",
       "      <td>29 de janeiro de 2004</td>\n",
       "      <td>NaN</td>\n",
       "      <td>NaN</td>\n",
       "      <td>NaN</td>\n",
       "      <td>NaN</td>\n",
       "      <td>NaN</td>\n",
       "      <td>AVISO DE ABERTURA DE LICITACAO TOMADA DE PRECO...</td>\n",
       "      <td>B-ATO I-ATO I-ATO I-ATO I-ATO O O O O O O O O ...</td>\n",
       "    </tr>\n",
       "    <tr>\n",
       "      <th>2</th>\n",
       "      <td>2</td>\n",
       "      <td>AVISO DE ABERTURA DE LICITACAO</td>\n",
       "      <td>04-02-2004</td>\n",
       "      <td>1.018682e+09</td>\n",
       "      <td>NaN</td>\n",
       "      <td>NaN</td>\n",
       "      <td>NaN</td>\n",
       "      <td>NaN</td>\n",
       "      <td>AVISO DE ABERTURA DE LICITACAO PREGAO No 001/2...</td>\n",
       "      <td>B-ATO I-ATO I-ATO I-ATO I-ATO O O O O O O O O ...</td>\n",
       "    </tr>\n",
       "    <tr>\n",
       "      <th>3</th>\n",
       "      <td>3</td>\n",
       "      <td>AVISO DE ABERTURA DE LICITACAO</td>\n",
       "      <td>25-02-2004</td>\n",
       "      <td>1.001312e+10</td>\n",
       "      <td>NaN</td>\n",
       "      <td>NaN</td>\n",
       "      <td>NaN</td>\n",
       "      <td>NaN</td>\n",
       "      <td>AVISO DE ABERTURA DE LICITACAO CONVITE No 001/...</td>\n",
       "      <td>B-ATO I-ATO I-ATO I-ATO I-ATO O O O O O O O O ...</td>\n",
       "    </tr>\n",
       "    <tr>\n",
       "      <th>4</th>\n",
       "      <td>4</td>\n",
       "      <td>AVISO DE ABERTURA DE LICITACAO</td>\n",
       "      <td>25-02-2004</td>\n",
       "      <td>1.001312e+10</td>\n",
       "      <td>NaN</td>\n",
       "      <td>NaN</td>\n",
       "      <td>NaN</td>\n",
       "      <td>NaN</td>\n",
       "      <td>AVISO DE ABERTURA DE LICITACAO CONVITE No 001/...</td>\n",
       "      <td>B-ATO I-ATO I-ATO I-ATO I-ATO O O O O O O O O ...</td>\n",
       "    </tr>\n",
       "    <tr>\n",
       "      <th>...</th>\n",
       "      <td>...</td>\n",
       "      <td>...</td>\n",
       "      <td>...</td>\n",
       "      <td>...</td>\n",
       "      <td>...</td>\n",
       "      <td>...</td>\n",
       "      <td>...</td>\n",
       "      <td>...</td>\n",
       "      <td>...</td>\n",
       "      <td>...</td>\n",
       "    </tr>\n",
       "    <tr>\n",
       "      <th>1238</th>\n",
       "      <td>1238</td>\n",
       "      <td>AVISO DE ABERTURA DE LICITACAO</td>\n",
       "      <td>24 de agosto de 2021</td>\n",
       "      <td>5.000035e+15</td>\n",
       "      <td>Menor Preco</td>\n",
       "      <td>Aberto</td>\n",
       "      <td>R$ 3.864.574,44</td>\n",
       "      <td>AMILCAR UBIRATAN URACH VIEIRA</td>\n",
       "      <td>AVISO DE ABERTURA DE LICITACAO PREGAO ELETRONI...</td>\n",
       "      <td>B-ATO I-ATO I-ATO I-ATO I-ATO O O O O O O B-PR...</td>\n",
       "    </tr>\n",
       "    <tr>\n",
       "      <th>1239</th>\n",
       "      <td>1239</td>\n",
       "      <td>AVISO DE ABERTURA DE LICITACAO</td>\n",
       "      <td>25-08-2021</td>\n",
       "      <td>7.200001e+15</td>\n",
       "      <td>Menor Preco por item</td>\n",
       "      <td>NaN</td>\n",
       "      <td>NaN</td>\n",
       "      <td>JOAO DE DEUS ABREU SOARES</td>\n",
       "      <td>AVISO DE ABERTURA DE LICITACAO PREGAO ELETRONI...</td>\n",
       "      <td>B-ATO I-ATO I-ATO I-ATO I-ATO O O O O O O B-PR...</td>\n",
       "    </tr>\n",
       "    <tr>\n",
       "      <th>1240</th>\n",
       "      <td>1240</td>\n",
       "      <td>AVISO DE ABERTURA DE LICITACAO</td>\n",
       "      <td>26-08-2021</td>\n",
       "      <td>4.026000e+17</td>\n",
       "      <td>Menor Preco</td>\n",
       "      <td>NaN</td>\n",
       "      <td>R$ 19.940,00</td>\n",
       "      <td>ROSIMEIRE PAIVA DA SILVA</td>\n",
       "      <td>AVISO DE ABERTURA DE LICITACAO SRP PREGAO ELET...</td>\n",
       "      <td>B-ATO I-ATO I-ATO I-ATO I-ATO O O O O O O O B-...</td>\n",
       "    </tr>\n",
       "    <tr>\n",
       "      <th>1241</th>\n",
       "      <td>1241</td>\n",
       "      <td>AVISO DE ABERTURA DE LICITACAO</td>\n",
       "      <td>26-08-2021</td>\n",
       "      <td>7.200000e+15</td>\n",
       "      <td>Menor Preco por Grupo</td>\n",
       "      <td>NaN</td>\n",
       "      <td>NaN</td>\n",
       "      <td>JOAO DE DEUS ABREU SOARES</td>\n",
       "      <td>AVISO DE ABERTURA DE LICITACAO PREGAO ELETRONI...</td>\n",
       "      <td>B-ATO I-ATO I-ATO I-ATO I-ATO O O O O O O B-PR...</td>\n",
       "    </tr>\n",
       "    <tr>\n",
       "      <th>1242</th>\n",
       "      <td>1242</td>\n",
       "      <td>AVISO DE ABERTURA DE LICITACAO</td>\n",
       "      <td>30 de agosto de 2021</td>\n",
       "      <td>4.026000e+17</td>\n",
       "      <td>Menor Preco</td>\n",
       "      <td>NaN</td>\n",
       "      <td>NaN</td>\n",
       "      <td>VALTER CASIMIRO SILVEIRA</td>\n",
       "      <td>AVISO DE ABERTURA DE LICITACAO PREGAO ELETRONI...</td>\n",
       "      <td>B-ATO I-ATO I-ATO I-ATO I-ATO O O O O O O B-PR...</td>\n",
       "    </tr>\n",
       "  </tbody>\n",
       "</table>\n",
       "<p>1243 rows × 10 columns</p>\n",
       "</div>"
      ],
      "text/plain": [
       "      Unnamed: 0                             ATO                   DATA  \\\n",
       "0              0  AVISO DE ABERTURA DE LICITACAO  23 de janeiro de 2004   \n",
       "1              1  AVISO DE ABERTURA DE LICITACAO  29 de janeiro de 2004   \n",
       "2              2  AVISO DE ABERTURA DE LICITACAO             04-02-2004   \n",
       "3              3  AVISO DE ABERTURA DE LICITACAO             25-02-2004   \n",
       "4              4  AVISO DE ABERTURA DE LICITACAO             25-02-2004   \n",
       "...          ...                             ...                    ...   \n",
       "1238        1238  AVISO DE ABERTURA DE LICITACAO   24 de agosto de 2021   \n",
       "1239        1239  AVISO DE ABERTURA DE LICITACAO             25-08-2021   \n",
       "1240        1240  AVISO DE ABERTURA DE LICITACAO             26-08-2021   \n",
       "1241        1241  AVISO DE ABERTURA DE LICITACAO             26-08-2021   \n",
       "1242        1242  AVISO DE ABERTURA DE LICITACAO   30 de agosto de 2021   \n",
       "\n",
       "          PROCESSO                    TIPO  DISPUTA         V_ESTIMADO  \\\n",
       "0              NaN                     NaN      NaN                NaN   \n",
       "1              NaN                     NaN      NaN                NaN   \n",
       "2     1.018682e+09                     NaN      NaN                NaN   \n",
       "3     1.001312e+10                     NaN      NaN                NaN   \n",
       "4     1.001312e+10                     NaN      NaN                NaN   \n",
       "...            ...                     ...      ...                ...   \n",
       "1238  5.000035e+15             Menor Preco   Aberto   R$ 3.864.574,44    \n",
       "1239  7.200001e+15    Menor Preco por item      NaN                NaN   \n",
       "1240  4.026000e+17             Menor Preco      NaN      R$ 19.940,00    \n",
       "1241  7.200000e+15   Menor Preco por Grupo      NaN                NaN   \n",
       "1242  4.026000e+17             Menor Preco      NaN                NaN   \n",
       "\n",
       "                            REDATOR  \\\n",
       "0                               NaN   \n",
       "1                               NaN   \n",
       "2                               NaN   \n",
       "3                               NaN   \n",
       "4                               NaN   \n",
       "...                             ...   \n",
       "1238  AMILCAR UBIRATAN URACH VIEIRA   \n",
       "1239      JOAO DE DEUS ABREU SOARES   \n",
       "1240       ROSIMEIRE PAIVA DA SILVA   \n",
       "1241      JOAO DE DEUS ABREU SOARES   \n",
       "1242       VALTER CASIMIRO SILVEIRA   \n",
       "\n",
       "                                                  Texto  \\\n",
       "0     AVISO DE ABERTURA DE LICITACAO TOMADA DE PRECO...   \n",
       "1     AVISO DE ABERTURA DE LICITACAO TOMADA DE PRECO...   \n",
       "2     AVISO DE ABERTURA DE LICITACAO PREGAO No 001/2...   \n",
       "3     AVISO DE ABERTURA DE LICITACAO CONVITE No 001/...   \n",
       "4     AVISO DE ABERTURA DE LICITACAO CONVITE No 001/...   \n",
       "...                                                 ...   \n",
       "1238  AVISO DE ABERTURA DE LICITACAO PREGAO ELETRONI...   \n",
       "1239  AVISO DE ABERTURA DE LICITACAO PREGAO ELETRONI...   \n",
       "1240  AVISO DE ABERTURA DE LICITACAO SRP PREGAO ELET...   \n",
       "1241  AVISO DE ABERTURA DE LICITACAO PREGAO ELETRONI...   \n",
       "1242  AVISO DE ABERTURA DE LICITACAO PREGAO ELETRONI...   \n",
       "\n",
       "                                                    IOB  \n",
       "0     B-ATO I-ATO I-ATO I-ATO I-ATO O O O O O O O O ...  \n",
       "1     B-ATO I-ATO I-ATO I-ATO I-ATO O O O O O O O O ...  \n",
       "2     B-ATO I-ATO I-ATO I-ATO I-ATO O O O O O O O O ...  \n",
       "3     B-ATO I-ATO I-ATO I-ATO I-ATO O O O O O O O O ...  \n",
       "4     B-ATO I-ATO I-ATO I-ATO I-ATO O O O O O O O O ...  \n",
       "...                                                 ...  \n",
       "1238  B-ATO I-ATO I-ATO I-ATO I-ATO O O O O O O B-PR...  \n",
       "1239  B-ATO I-ATO I-ATO I-ATO I-ATO O O O O O O B-PR...  \n",
       "1240  B-ATO I-ATO I-ATO I-ATO I-ATO O O O O O O O B-...  \n",
       "1241  B-ATO I-ATO I-ATO I-ATO I-ATO O O O O O O B-PR...  \n",
       "1242  B-ATO I-ATO I-ATO I-ATO I-ATO O O O O O O B-PR...  \n",
       "\n",
       "[1243 rows x 10 columns]"
      ]
     },
     "execution_count": 5,
     "metadata": {},
     "output_type": "execute_result"
    }
   ],
   "source": [
    "data"
   ]
  },
  {
   "cell_type": "code",
   "execution_count": 3,
   "metadata": {},
   "outputs": [
    {
     "data": {
      "text/plain": [
       "146"
      ]
     },
     "execution_count": 3,
     "metadata": {},
     "output_type": "execute_result"
    }
   ],
   "source": [
    "len(x[0])"
   ]
  },
  {
   "cell_type": "code",
   "execution_count": 4,
   "metadata": {},
   "outputs": [
    {
     "data": {
      "text/plain": [
       "146"
      ]
     },
     "execution_count": 4,
     "metadata": {},
     "output_type": "execute_result"
    }
   ],
   "source": [
    "len(y[0])"
   ]
  },
  {
   "cell_type": "markdown",
   "metadata": {},
   "source": [
    "## Create dictionary feature for each word in each sequence in x"
   ]
  },
  {
   "cell_type": "code",
   "execution_count": 5,
   "metadata": {},
   "outputs": [],
   "source": [
    "def get_features(sentence):\n",
    "        \"\"\"Create features for each word in act.\n",
    "        Create a list of dict of words features to be used in the predictor module.\n",
    "        Args:\n",
    "            act (list): List of words in an act.\n",
    "        Returns:\n",
    "            A list with a dictionary of features for each of the words.\n",
    "        \"\"\"\n",
    "        sent_features = []\n",
    "        for i in range(len(sentence)):\n",
    "            word_feat = {\n",
    "                'word': sentence[i].lower(),\n",
    "                'capital_letter': sentence[i][0].isupper(),\n",
    "                'all_capital': sentence[i].isupper(),\n",
    "                'isdigit': sentence[i].isdigit(),\n",
    "                'word_before': sentence[i].lower() if i == 0 else sentence[i-1].lower(),\n",
    "                'word_after:': sentence[i].lower() if i+1 >= len(sentence) else sentence[i+1].lower(),\n",
    "                'BOS': i == 0,\n",
    "                'EOS': i == len(sentence)-1\n",
    "            }\n",
    "            sent_features.append(word_feat)\n",
    "        return sent_features\n",
    "    \n",
    "for i in range(len(x)):\n",
    "    x[i] = get_features(x[i])"
   ]
  },
  {
   "cell_type": "markdown",
   "metadata": {},
   "source": [
    "## Separate train and test splits (in order)"
   ]
  },
  {
   "cell_type": "code",
   "execution_count": 38,
   "metadata": {},
   "outputs": [
    {
     "data": {
      "text/plain": [
       "(994, 249, 1243)"
      ]
     },
     "execution_count": 38,
     "metadata": {},
     "output_type": "execute_result"
    }
   ],
   "source": [
    "import math\n",
    "split_idx = math.floor(0.8*len(x))\n",
    "x_train = x[0:split_idx]\n",
    "y_train = y[0:split_idx]\n",
    "x_test = x[split_idx:]\n",
    "y_test = y[split_idx:]\n",
    "len(x_train),  len(x_test), len(x)\n"
   ]
  },
  {
   "cell_type": "code",
   "execution_count": 39,
   "metadata": {},
   "outputs": [
    {
     "name": "stderr",
     "output_type": "stream",
     "text": [
      "C:\\Users\\ianfi\\AppData\\Local\\Programs\\Python\\Python36\\lib\\site-packages\\sklearn\\base.py:213: FutureWarning: From version 0.24, get_params will raise an AttributeError if a parameter cannot be retrieved as an instance attribute. Previously it would return None.\n",
      "  FutureWarning)\n"
     ]
    },
    {
     "data": {
      "text/plain": [
       "CRF(algorithm='lbfgs', all_possible_states=True, all_possible_transitions=False,\n",
       "    c1=10, c2=0.1, keep_tempfiles=None, max_iterations=100)"
      ]
     },
     "execution_count": 39,
     "metadata": {},
     "output_type": "execute_result"
    }
   ],
   "source": [
    "import sklearn_crfsuite\n",
    "from sklearn_crfsuite import metrics\n",
    "\n",
    "crf = sklearn_crfsuite.CRF(\n",
    "    algorithm='lbfgs',\n",
    "    c1=10,\n",
    "    c2=0.1,\n",
    "    max_iterations=100,\n",
    "    all_possible_transitions=False,\n",
    "    all_possible_states=True\n",
    ")\n",
    "\n",
    "crf.fit(x_train, y_train)"
   ]
  },
  {
   "cell_type": "markdown",
   "metadata": {},
   "source": [
    "## Evaluation"
   ]
  },
  {
   "cell_type": "code",
   "execution_count": 8,
   "metadata": {},
   "outputs": [
    {
     "data": {
      "text/plain": [
       "0.9141661869699788"
      ]
     },
     "execution_count": 8,
     "metadata": {},
     "output_type": "execute_result"
    }
   ],
   "source": [
    "classes = list(crf.classes_)\n",
    "# classes.remove('O')\n",
    "\n",
    "y_pred = crf.predict(x_test)\n",
    "metrics.flat_f1_score(y_test, y_pred, average='weighted', labels=classes)"
   ]
  },
  {
   "cell_type": "code",
   "execution_count": 9,
   "metadata": {},
   "outputs": [
    {
     "name": "stderr",
     "output_type": "stream",
     "text": [
      "C:\\Users\\ianfi\\AppData\\Local\\Programs\\Python\\Python36\\lib\\site-packages\\sklearn\\utils\\validation.py:70: FutureWarning: Pass labels=['B-ATO', 'I-ATO', 'O', 'B-DATA', 'I-DATA', 'B-PROCESSO', 'B-REDATOR', 'I-REDATOR', 'B-V_ESTIMADO', 'I-V_ESTIMADO', 'B-TIPO', 'I-TIPO', 'B-DISPUTA', 'I-DISPUTA'] as keyword args. From version 0.25 passing these as positional arguments will result in an error\n",
      "  FutureWarning)\n",
      "C:\\Users\\ianfi\\AppData\\Local\\Programs\\Python\\Python36\\lib\\site-packages\\sklearn\\metrics\\_classification.py:1221: UndefinedMetricWarning: Precision and F-score are ill-defined and being set to 0.0 in labels with no predicted samples. Use `zero_division` parameter to control this behavior.\n",
      "  _warn_prf(average, modifier, msg_start, len(result))\n"
     ]
    },
    {
     "name": "stdout",
     "output_type": "stream",
     "text": [
      "              precision    recall  f1-score   support\n",
      "\n",
      "       B-ATO      1.000     0.996     0.998       258\n",
      "       I-ATO      0.995     0.999     0.997      1023\n",
      "           O      0.932     0.997     0.964     33199\n",
      "      B-DATA      0.937     0.563     0.704       158\n",
      "      I-DATA      0.937     0.776     0.849       459\n",
      "  B-PROCESSO      0.996     1.000     0.998       241\n",
      "   B-REDATOR      0.807     0.673     0.734       217\n",
      "   I-REDATOR      0.964     0.753     0.846       640\n",
      "B-V_ESTIMADO      0.585     0.087     0.151       277\n",
      "I-V_ESTIMADO      0.575     0.098     0.167       235\n",
      "      B-TIPO      1.000     0.889     0.942       190\n",
      "      I-TIPO      0.995     0.121     0.216      1697\n",
      "   B-DISPUTA      1.000     0.886     0.939        35\n",
      "   I-DISPUTA      0.000     0.000     0.000        63\n",
      "\n",
      "    accuracy                          0.934     38692\n",
      "   macro avg      0.837     0.631     0.679     38692\n",
      "weighted avg      0.932     0.934     0.914     38692\n",
      "\n"
     ]
    }
   ],
   "source": [
    "print(metrics.flat_classification_report(\n",
    "    y_test, y_pred, labels=classes, digits=3\n",
    "))"
   ]
  },
  {
   "cell_type": "code",
   "execution_count": 10,
   "metadata": {},
   "outputs": [
    {
     "data": {
      "text/plain": [
       "0.6151794685411471"
      ]
     },
     "execution_count": 10,
     "metadata": {},
     "output_type": "execute_result"
    }
   ],
   "source": [
    "classes = list(crf.classes_)\n",
    "classes.remove('O')\n",
    "\n",
    "y_pred = crf.predict(x_test)\n",
    "metrics.flat_f1_score(y_test, y_pred, average='weighted', labels=classes)"
   ]
  },
  {
   "cell_type": "code",
   "execution_count": 11,
   "metadata": {},
   "outputs": [
    {
     "name": "stderr",
     "output_type": "stream",
     "text": [
      "C:\\Users\\ianfi\\AppData\\Local\\Programs\\Python\\Python36\\lib\\site-packages\\sklearn\\utils\\validation.py:70: FutureWarning: Pass labels=['B-ATO', 'I-ATO', 'B-DATA', 'I-DATA', 'B-PROCESSO', 'B-REDATOR', 'I-REDATOR', 'B-V_ESTIMADO', 'I-V_ESTIMADO', 'B-TIPO', 'I-TIPO', 'B-DISPUTA', 'I-DISPUTA'] as keyword args. From version 0.25 passing these as positional arguments will result in an error\n",
      "  FutureWarning)\n"
     ]
    },
    {
     "name": "stdout",
     "output_type": "stream",
     "text": [
      "              precision    recall  f1-score   support\n",
      "\n",
      "       B-ATO      1.000     0.996     0.998       258\n",
      "       I-ATO      0.995     0.999     0.997      1023\n",
      "      B-DATA      0.937     0.563     0.704       158\n",
      "      I-DATA      0.937     0.776     0.849       459\n",
      "  B-PROCESSO      0.996     1.000     0.998       241\n",
      "   B-REDATOR      0.807     0.673     0.734       217\n",
      "   I-REDATOR      0.964     0.753     0.846       640\n",
      "B-V_ESTIMADO      0.585     0.087     0.151       277\n",
      "I-V_ESTIMADO      0.575     0.098     0.167       235\n",
      "      B-TIPO      1.000     0.889     0.942       190\n",
      "      I-TIPO      0.995     0.121     0.216      1697\n",
      "   B-DISPUTA      1.000     0.886     0.939        35\n",
      "   I-DISPUTA      0.000     0.000     0.000        63\n",
      "\n",
      "   micro avg      0.961     0.555     0.703      5493\n",
      "   macro avg      0.830     0.603     0.657      5493\n",
      "weighted avg      0.928     0.555     0.615      5493\n",
      "\n"
     ]
    }
   ],
   "source": [
    "print(metrics.flat_classification_report(\n",
    "    y_test, y_pred, labels=classes, digits=3\n",
    "))"
   ]
  },
  {
   "cell_type": "markdown",
   "metadata": {},
   "source": [
    "## Hyperparameter Optimization"
   ]
  },
  {
   "cell_type": "code",
   "execution_count": 12,
   "metadata": {},
   "outputs": [
    {
     "name": "stdout",
     "output_type": "stream",
     "text": [
      "Fitting 3 folds for each of 50 candidates, totalling 150 fits\n"
     ]
    },
    {
     "name": "stderr",
     "output_type": "stream",
     "text": [
      "[Parallel(n_jobs=-1)]: Using backend LokyBackend with 12 concurrent workers.\n",
      "C:\\Users\\ianfi\\AppData\\Local\\Programs\\Python\\Python36\\lib\\site-packages\\joblib\\externals\\loky\\process_executor.py:691: UserWarning: A worker stopped while some jobs were given to the executor. This can be caused by a too short worker timeout or by a memory leak.\n",
      "  \"timeout or by a memory leak.\", UserWarning\n",
      "[Parallel(n_jobs=-1)]: Done  26 tasks      | elapsed: 16.1min\n",
      "[Parallel(n_jobs=-1)]: Done 150 out of 150 | elapsed: 89.5min finished\n"
     ]
    },
    {
     "data": {
      "text/plain": [
       "RandomizedSearchCV(cv=3,\n",
       "                   estimator=CRF(algorithm='lbfgs', all_possible_states=True,\n",
       "                                 all_possible_transitions=True,\n",
       "                                 keep_tempfiles=None, max_iterations=100),\n",
       "                   n_iter=50, n_jobs=-1,\n",
       "                   param_distributions={'c1': <scipy.stats._distn_infrastructure.rv_frozen object at 0x000001F9839B6FD0>,\n",
       "                                        'c2': <scipy.stats._distn_infrastructure.rv_frozen object at 0x000001F9839B6278>},\n",
       "                   scoring=make_scorer(flat_f1_score, average=weighted, labels=['B-ATO', 'I-ATO', 'B-DATA', 'I-DATA', 'B-PROCESSO', 'B-REDATOR', 'I-REDATOR', 'B-V_ESTIMADO', 'I-V_ESTIMADO', 'B-TIPO', 'I-TIPO', 'B-DISPUTA', 'I-DISPUTA']),\n",
       "                   verbose=1)"
      ]
     },
     "execution_count": 12,
     "metadata": {},
     "output_type": "execute_result"
    }
   ],
   "source": [
    "# define fixed parameters and parameters to search\n",
    "crf = sklearn_crfsuite.CRF(\n",
    "    algorithm='lbfgs',\n",
    "    max_iterations=100,\n",
    "    all_possible_transitions=True,\n",
    "    all_possible_states=True\n",
    ")\n",
    "params_space = {\n",
    "    'c1': scipy.stats.expon(scale=15.0),\n",
    "    'c2': scipy.stats.expon(scale=1.0),\n",
    "}\n",
    "\n",
    "\n",
    "# use the same metric for evaluation\n",
    "f1_scorer = make_scorer(metrics.flat_f1_score,\n",
    "                        average='weighted', labels=classes)\n",
    "\n",
    "# search\n",
    "rs = RandomizedSearchCV(crf, params_space,\n",
    "                        cv=3,\n",
    "                        verbose=1,\n",
    "                        n_jobs=-1,\n",
    "                        n_iter=50,\n",
    "                        scoring=f1_scorer)\n",
    "rs.fit(x_train, y_train)"
   ]
  },
  {
   "cell_type": "code",
   "execution_count": 18,
   "metadata": {},
   "outputs": [
    {
     "name": "stdout",
     "output_type": "stream",
     "text": [
      "best params: {'c1': 3.827954989443119, 'c2': 0.09387710654084042}\n",
      "best CV score: 0.7162594297020441\n",
      "model size: 0.06M\n"
     ]
    }
   ],
   "source": [
    "print('best params:', rs.best_params_)\n",
    "print('best CV score:', rs.best_score_)\n",
    "print('model size: {:0.2f}M'.format(rs.best_estimator_.size_ / 1000000))"
   ]
  },
  {
   "cell_type": "markdown",
   "metadata": {},
   "source": [
    "## Check best estimator on our test data"
   ]
  },
  {
   "cell_type": "code",
   "execution_count": 19,
   "metadata": {},
   "outputs": [],
   "source": [
    "sorted_classes = sorted(\n",
    "    classes,\n",
    "    key=lambda name: (name[1:], name[0])\n",
    ")"
   ]
  },
  {
   "cell_type": "code",
   "execution_count": 31,
   "metadata": {},
   "outputs": [
    {
     "data": {
      "text/plain": [
       "0.6474571946297808"
      ]
     },
     "execution_count": 31,
     "metadata": {},
     "output_type": "execute_result"
    }
   ],
   "source": [
    "classes = list(crf.classes_)\n",
    "classes.remove('O')\n",
    "\n",
    "y_pred = crf.predict(x_test)\n",
    "metrics.flat_f1_score(y_test, y_pred, average='weighted', labels=classes)"
   ]
  },
  {
   "cell_type": "code",
   "execution_count": 30,
   "metadata": {},
   "outputs": [
    {
     "name": "stdout",
     "output_type": "stream",
     "text": [
      "              precision    recall  f1-score   support\n",
      "\n",
      "       B-ATO      1.000     1.000     1.000       258\n",
      "       I-ATO      0.997     0.999     0.998      1023\n",
      "      B-DATA      0.941     0.601     0.734       158\n",
      "      I-DATA      0.933     0.821     0.874       459\n",
      "   B-DISPUTA      1.000     0.886     0.939        35\n",
      "   I-DISPUTA      0.000     0.000     0.000        63\n",
      "  B-PROCESSO      1.000     1.000     1.000       241\n",
      "   B-REDATOR      0.852     0.770     0.809       217\n",
      "   I-REDATOR      0.939     0.866     0.901       640\n",
      "      B-TIPO      1.000     0.900     0.947       190\n",
      "      I-TIPO      0.988     0.145     0.253      1697\n",
      "B-V_ESTIMADO      0.578     0.094     0.161       277\n",
      "I-V_ESTIMADO      0.726     0.226     0.344       235\n",
      "\n",
      "   micro avg      0.958     0.590     0.730      5493\n",
      "   macro avg      0.843     0.639     0.689      5493\n",
      "weighted avg      0.931     0.590     0.647      5493\n",
      "\n"
     ]
    }
   ],
   "source": [
    "crf = rs.best_estimator_\n",
    "y_pred = crf.predict(x_test)\n",
    "print(metrics.flat_classification_report(\n",
    "    y_test, y_pred, labels=sorted_classes, digits=3\n",
    "))"
   ]
  },
  {
   "cell_type": "markdown",
   "metadata": {},
   "source": [
    "## Let’s check what classifier learned"
   ]
  },
  {
   "cell_type": "code",
   "execution_count": 21,
   "metadata": {},
   "outputs": [
    {
     "name": "stdout",
     "output_type": "stream",
     "text": [
      "Top likely transitions:\n",
      "O      -> O       6.951327\n",
      "I-TIPO -> I-TIPO  6.672961\n",
      "I-V_ESTIMADO -> I-V_ESTIMADO 5.540480\n",
      "B-TIPO -> I-TIPO  4.248815\n",
      "I-DATA -> I-DATA  4.246677\n",
      "B-REDATOR -> I-REDATOR 4.216292\n",
      "O      -> B-V_ESTIMADO 3.304356\n",
      "I-REDATOR -> I-REDATOR 3.301610\n",
      "O      -> B-REDATOR 2.932066\n",
      "O      -> B-DATA  2.925795\n",
      "I-ATO  -> I-ATO   2.871139\n",
      "O      -> B-TIPO  2.616860\n",
      "B-V_ESTIMADO -> I-V_ESTIMADO 2.309509\n",
      "B-ATO  -> I-ATO   2.190152\n",
      "B-V_ESTIMADO -> O       1.958944\n",
      "I-ATO  -> O       1.577792\n",
      "I-DATA -> O       1.521440\n",
      "I-V_ESTIMADO -> O       1.274088\n",
      "B-DATA -> O       1.259533\n",
      "B-DATA -> I-DATA  1.239651\n",
      "\n",
      "Top unlikely transitions:\n",
      "B-V_ESTIMADO -> I-REDATOR -0.502562\n",
      "B-V_ESTIMADO -> B-DATA  -0.528547\n",
      "I-REDATOR -> B-ATO   -0.587319\n",
      "B-PROCESSO -> I-V_ESTIMADO -0.721172\n",
      "I-REDATOR -> I-ATO   -0.751840\n",
      "O      -> I-TIPO  -0.836569\n",
      "B-REDATOR -> O       -0.901386\n",
      "B-PROCESSO -> I-TIPO  -1.054468\n",
      "I-ATO  -> I-REDATOR -1.058103\n",
      "I-REDATOR -> O       -1.131006\n",
      "B-DATA -> I-V_ESTIMADO -1.184755\n",
      "B-DATA -> B-PROCESSO -1.250456\n",
      "B-DATA -> B-DATA  -1.348977\n",
      "O      -> I-ATO   -1.469443\n",
      "I-REDATOR -> B-REDATOR -1.474134\n",
      "B-V_ESTIMADO -> I-DATA  -1.494818\n",
      "O      -> I-V_ESTIMADO -2.657498\n",
      "I-DATA -> I-REDATOR -2.901297\n",
      "O      -> I-REDATOR -3.229876\n",
      "O      -> I-DATA  -3.382435\n"
     ]
    }
   ],
   "source": [
    "from collections import Counter\n",
    "\n",
    "def print_transitions(trans_features):\n",
    "    for (label_from, label_to), weight in trans_features:\n",
    "        print(\"%-6s -> %-7s %0.6f\" % (label_from, label_to, weight))\n",
    "\n",
    "print(\"Top likely transitions:\")\n",
    "print_transitions(Counter(crf.transition_features_).most_common(20))\n",
    "\n",
    "print(\"\\nTop unlikely transitions:\")\n",
    "print_transitions(Counter(crf.transition_features_).most_common()[-20:])"
   ]
  },
  {
   "cell_type": "code",
   "execution_count": 22,
   "metadata": {},
   "outputs": [
    {
     "name": "stdout",
     "output_type": "stream",
     "text": [
      "Top positive:\n",
      "8.288086 B-ATO    word:aviso\n",
      "7.762159 B-TIPO   word:menor\n",
      "7.692698 B-PROCESSO word_before:processo\n",
      "5.726582 B-DISPUTA word_before:disputa\n",
      "5.134986 B-V_ESTIMADO word:r\n",
      "4.447545 B-PROCESSO isdigit\n",
      "4.419830 B-DATA   word_before:brasilia\n",
      "4.339073 I-V_ESTIMADO word_after::classificacao\n",
      "4.226758 I-DATA   word_before:de\n",
      "4.020117 B-DISPUTA word:aberto\n",
      "3.725989 I-ATO    word:abertura\n",
      "3.681526 B-DATA   isdigit\n",
      "3.630837 O        word:processo\n",
      "3.626531 B-V_ESTIMADO word:da\n",
      "3.439164 I-ATO    word:licitacao\n",
      "3.326734 O        word_after::aviso\n",
      "3.265885 B-DATA   word:24\n",
      "3.129679 B-TIPO   word:maior\n",
      "3.115425 B-REDATOR word:departamento\n",
      "3.107413 B-REDATOR word:ineditoriais\n",
      "2.854801 B-TIPO   word_before:tipo\n",
      "2.852048 B-REDATOR word:fundacao\n",
      "2.790989 I-V_ESTIMADO word_after::data\n",
      "2.778209 O        word_before:companhia\n",
      "2.746854 B-DATA   word_before:df\n",
      "2.640818 B-DATA   word:05\n",
      "2.573038 B-DATA   word:15\n",
      "2.540899 O        word:data\n",
      "2.537661 B-TIPO   word_before:licitacao\n",
      "2.512727 I-ATO    word_before:aviso\n",
      "\n",
      "Top negative:\n",
      "-1.264270 O        word_before:u\n",
      "-1.289643 I-TIPO   word_before:global\n",
      "-1.299451 B-REDATOR word:do\n",
      "-1.303334 O        word_before:abertura\n",
      "-1.317465 O        word_after::sde\n",
      "-1.378467 O        word_before:tipo\n",
      "-1.381564 O        word_after::pavimentacao\n",
      "-1.402899 O        word_after::prazos\n",
      "-1.426387 B-V_ESTIMADO word_after::a\n",
      "-1.457633 O        word:menor\n",
      "-1.545680 I-ATO    EOS\n",
      "-1.549092 O        word_before:responsabilidade\n",
      "-1.577311 O        word_after::delvo\n",
      "-1.610416 B-DATA   capital_letter\n",
      "-1.772763 B-DATA   word:de\n",
      "-1.847468 I-DATA   capital_letter\n",
      "-1.899950 I-ATO    word_before:licitacao\n",
      "-2.282184 I-TIPO   word:o\n",
      "-2.303200 B-TIPO   word_after::preco\n",
      "-2.354358 B-PROCESSO word:de\n",
      "-2.437398 B-PROCESSO capital_letter\n",
      "-2.444055 O        word:aviso\n",
      "-2.556328 O        word:r\n",
      "-2.646899 O        word:sigiloso\n",
      "-2.930205 O        word_after::infraestrutura\n",
      "-3.147412 B-V_ESTIMADO word_after::o\n",
      "-3.153741 B-REDATOR word_before:de\n",
      "-3.299660 O        word:aberto\n",
      "-3.797087 O        word_before:processo\n",
      "-4.000963 B-REDATOR word:de\n"
     ]
    }
   ],
   "source": [
    "def print_state_features(state_features):\n",
    "    for (attr, label), weight in state_features:\n",
    "        print(\"%0.6f %-8s %s\" % (weight, label, attr))\n",
    "\n",
    "print(\"Top positive:\")\n",
    "print_state_features(Counter(crf.state_features_).most_common(30))\n",
    "\n",
    "print(\"\\nTop negative:\")\n",
    "print_state_features(Counter(crf.state_features_).most_common()[-30:])"
   ]
  },
  {
   "cell_type": "markdown",
   "metadata": {},
   "source": [
    "## Persistindo o melhor modelo em disco"
   ]
  },
  {
   "cell_type": "code",
   "execution_count": 34,
   "metadata": {},
   "outputs": [
    {
     "data": {
      "text/plain": [
       "['crf_model.pkl']"
      ]
     },
     "execution_count": 34,
     "metadata": {},
     "output_type": "execute_result"
    }
   ],
   "source": [
    "import joblib\n",
    "\n",
    "joblib.dump(crf, 'crf_model.pkl')"
   ]
  },
  {
   "cell_type": "code",
   "execution_count": 35,
   "metadata": {},
   "outputs": [],
   "source": [
    "model = joblib.load('crf_model.pkl')"
   ]
  },
  {
   "cell_type": "code",
   "execution_count": 36,
   "metadata": {},
   "outputs": [
    {
     "data": {
      "text/plain": [
       "CRF(algorithm='lbfgs', all_possible_states=True, all_possible_transitions=True,\n",
       "    c1=3.827954989443119, c2=0.09387710654084042, keep_tempfiles=None,\n",
       "    max_iterations=100)"
      ]
     },
     "execution_count": 36,
     "metadata": {},
     "output_type": "execute_result"
    }
   ],
   "source": [
    "model"
   ]
  },
  {
   "cell_type": "code",
   "execution_count": 37,
   "metadata": {},
   "outputs": [
    {
     "data": {
      "text/plain": [
       "['B-ATO',\n",
       " 'I-ATO',\n",
       " 'O',\n",
       " 'B-DATA',\n",
       " 'I-DATA',\n",
       " 'B-PROCESSO',\n",
       " 'B-REDATOR',\n",
       " 'I-REDATOR',\n",
       " 'B-V_ESTIMADO',\n",
       " 'I-V_ESTIMADO',\n",
       " 'B-TIPO',\n",
       " 'I-TIPO',\n",
       " 'B-DISPUTA',\n",
       " 'I-DISPUTA']"
      ]
     },
     "execution_count": 37,
     "metadata": {},
     "output_type": "execute_result"
    }
   ],
   "source": [
    "model.classes_"
   ]
  },
  {
   "cell_type": "code",
   "execution_count": null,
   "metadata": {},
   "outputs": [],
   "source": []
  },
  {
   "cell_type": "code",
   "execution_count": null,
   "metadata": {},
   "outputs": [],
   "source": []
  },
  {
   "cell_type": "code",
   "execution_count": null,
   "metadata": {},
   "outputs": [],
   "source": []
  },
  {
   "cell_type": "code",
   "execution_count": null,
   "metadata": {},
   "outputs": [],
   "source": []
  },
  {
   "cell_type": "code",
   "execution_count": null,
   "metadata": {},
   "outputs": [],
   "source": []
  },
  {
   "cell_type": "code",
   "execution_count": null,
   "metadata": {},
   "outputs": [],
   "source": []
  }
 ],
 "metadata": {
  "interpreter": {
   "hash": "6a5ed2ccc9d2ba59c3542bbda7f71bcfb6eae0ef46ae44aa32b9fd054184bad6"
  },
  "kernelspec": {
   "display_name": "Python 3.6.8 64-bit",
   "name": "python3"
  },
  "language_info": {
   "codemirror_mode": {
    "name": "ipython",
    "version": 3
   },
   "file_extension": ".py",
   "mimetype": "text/x-python",
   "name": "python",
   "nbconvert_exporter": "python",
   "pygments_lexer": "ipython3",
   "version": "3.9.7"
  }
 },
 "nbformat": 4,
 "nbformat_minor": 4
}
