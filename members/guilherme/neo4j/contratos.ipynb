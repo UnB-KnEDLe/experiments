{
 "cells": [
  {
   "cell_type": "markdown",
   "id": "d859cd84",
   "metadata": {},
   "source": [
    "# Neo4J"
   ]
  },
  {
   "cell_type": "code",
   "execution_count": 4,
   "id": "e0d0532e",
   "metadata": {},
   "outputs": [
    {
     "name": "stdout",
     "output_type": "stream",
     "text": [
      "Requirement already satisfied: neo4j in /home/guiz/Dev/venv/lib/python3.8/site-packages (4.3.4)\n",
      "Requirement already satisfied: pytz in /home/guiz/Dev/venv/lib/python3.8/site-packages (from neo4j) (2021.1)\n",
      "\u001b[33mWARNING: You are using pip version 21.2.3; however, version 21.2.4 is available.\n",
      "You should consider upgrading via the '/home/guiz/Dev/venv/bin/python -m pip install --upgrade pip' command.\u001b[0m\n",
      "Collecting py2neo\n",
      "  Downloading py2neo-2021.2.0-py2.py3-none-any.whl (176 kB)\n",
      "\u001b[K     |████████████████████████████████| 176 kB 1.4 MB/s eta 0:00:01\n",
      "\u001b[?25hCollecting interchange~=2021.0.3\n",
      "  Downloading interchange-2021.0.3-py2.py3-none-any.whl (29 kB)\n",
      "Collecting monotonic\n",
      "  Downloading monotonic-1.6-py2.py3-none-any.whl (8.2 kB)\n",
      "Collecting pansi>=2020.7.3\n",
      "  Downloading pansi-2020.7.3-py2.py3-none-any.whl (10 kB)\n",
      "Requirement already satisfied: packaging in /home/guiz/Dev/venv/lib/python3.8/site-packages (from py2neo) (21.0)\n",
      "Requirement already satisfied: pygments>=2.0.0 in /home/guiz/Dev/venv/lib/python3.8/site-packages (from py2neo) (2.10.0)\n",
      "Requirement already satisfied: six>=1.15.0 in /home/guiz/Dev/venv/lib/python3.8/site-packages (from py2neo) (1.16.0)\n",
      "Collecting certifi\n",
      "  Downloading certifi-2021.5.30-py2.py3-none-any.whl (145 kB)\n",
      "\u001b[K     |████████████████████████████████| 145 kB 3.1 MB/s eta 0:00:01\n",
      "\u001b[?25hCollecting urllib3\n",
      "  Downloading urllib3-1.26.6-py2.py3-none-any.whl (138 kB)\n",
      "\u001b[K     |████████████████████████████████| 138 kB 3.3 MB/s eta 0:00:01\n",
      "\u001b[?25hRequirement already satisfied: pytz in /home/guiz/Dev/venv/lib/python3.8/site-packages (from interchange~=2021.0.3->py2neo) (2021.1)\n",
      "Requirement already satisfied: pyparsing>=2.0.2 in /home/guiz/Dev/venv/lib/python3.8/site-packages (from packaging->py2neo) (2.4.7)\n",
      "Installing collected packages: urllib3, pansi, monotonic, interchange, certifi, py2neo\n",
      "Successfully installed certifi-2021.5.30 interchange-2021.0.3 monotonic-1.6 pansi-2020.7.3 py2neo-2021.2.0 urllib3-1.26.6\n",
      "\u001b[33mWARNING: You are using pip version 21.2.3; however, version 21.2.4 is available.\n",
      "You should consider upgrading via the '/home/guiz/Dev/venv/bin/python -m pip install --upgrade pip' command.\u001b[0m\n"
     ]
    }
   ],
   "source": [
    "!pip install neo4j\n",
    "!pip install py2neo"
   ]
  },
  {
   "cell_type": "code",
   "execution_count": 9,
   "id": "beb510ba",
   "metadata": {},
   "outputs": [],
   "source": [
    "from py2neo import Graph\n",
    "from glob import glob"
   ]
  },
  {
   "cell_type": "code",
   "execution_count": 6,
   "id": "63d89a85",
   "metadata": {},
   "outputs": [],
   "source": [
    "graph = Graph(\"bolt://localhost:7687\", auth=(\"neo4j\", \"123\"))"
   ]
  },
  {
   "cell_type": "code",
   "execution_count": 11,
   "id": "adcf23f1",
   "metadata": {},
   "outputs": [],
   "source": [
    "file = glob('atosLicitacao.csv')"
   ]
  },
  {
   "cell_type": "code",
   "execution_count": 22,
   "id": "cc5b7051",
   "metadata": {},
   "outputs": [],
   "source": [
    "graph.run(\"LOAD CSV WITH HEADERS FROM '/home/guiz/Downloads/atosLicitacao.csv' AS line WITH line LIMIT 1 RETURN line\")"
   ]
  },
  {
   "cell_type": "code",
   "execution_count": 36,
   "id": "a16c8509",
   "metadata": {},
   "outputs": [
    {
     "data": {
      "text/plain": [
       "[{'a': Node('Act', date='25-04-2019', id='1', text='AVISO DE RESULTADO DE LICITACAO PREGAO ELETRONICO PE No 156/2018 O Pregoeiro da CAESB no uso de suas atribuicoes'),\n",
       "  'b': Node('Company', cnpj='11.502.964/0001-54', id='3', item='9, 10, 11, 12, 13, 14, 15, 16, 17, 18, 19, 20', name='IRRIGARURAL - INSUMOS E SISTEMAS IRRIGADOS LTDA', value='64.040,95'),\n",
       "  'r': POSTED(Node('Act', date='25-04-2019', id='1', text='AVISO DE RESULTADO DE LICITACAO PREGAO ELETRONICO PE No 156/2018 O Pregoeiro da CAESB no uso de suas atribuicoes'), Node('Company', cnpj='11.502.964/0001-54', id='3', item='9, 10, 11, 12, 13, 14, 15, 16, 17, 18, 19, 20', name='IRRIGARURAL - INSUMOS E SISTEMAS IRRIGADOS LTDA', value='64.040,95'))},\n",
       " {'a': Node('Act', date='25-04-2019', id='1', text='AVISO DE RESULTADO DE LICITACAO PREGAO ELETRONICO PE No 156/2018 O Pregoeiro da CAESB no uso de suas atribuicoes'),\n",
       "  'b': Node('Company', cnpj='20.483.193/0001-96', id='2', item='1, 2, 3, 4, 5, 6, 43, 44', name='BRASIDAS EIRELI - ME', value='6.446,68'),\n",
       "  'r': POSTED(Node('Act', date='25-04-2019', id='1', text='AVISO DE RESULTADO DE LICITACAO PREGAO ELETRONICO PE No 156/2018 O Pregoeiro da CAESB no uso de suas atribuicoes'), Node('Company', cnpj='20.483.193/0001-96', id='2', item='1, 2, 3, 4, 5, 6, 43, 44', name='BRASIDAS EIRELI - ME', value='6.446,68'))},\n",
       " {'a': Node('Act', date='25-04-2019', id='1', text='AVISO DE RESULTADO DE LICITACAO PREGAO ELETRONICO PE No 156/2018 O Pregoeiro da CAESB no uso de suas atribuicoes'),\n",
       "  'b': Node('Company', cnpj='01.739265/0001-79', id='1', item='7, 8', name='ESTRUTURA CENTER COMERCIO MATERIAL DE CONSTRUCAO LTDA-EPP', value='1.826,28'),\n",
       "  'r': POSTED(Node('Act', date='25-04-2019', id='1', text='AVISO DE RESULTADO DE LICITACAO PREGAO ELETRONICO PE No 156/2018 O Pregoeiro da CAESB no uso de suas atribuicoes'), Node('Company', cnpj='01.739265/0001-79', id='1', item='7, 8', name='ESTRUTURA CENTER COMERCIO MATERIAL DE CONSTRUCAO LTDA-EPP', value='1.826,28'))},\n",
       " {'a': Node('Act', date='25-04-2019', id='1', text='AVISO DE RESULTADO DE LICITACAO PREGAO ELETRONICO PE No 156/2018 O Pregoeiro da CAESB no uso de suas atribuicoes'),\n",
       "  'b': Node('Type_act', id='5', name='AVISO DE RESULTADO DE LICITACAO'),\n",
       "  'r': POSSESS(Node('Act', date='25-04-2019', id='1', text='AVISO DE RESULTADO DE LICITACAO PREGAO ELETRONICO PE No 156/2018 O Pregoeiro da CAESB no uso de suas atribuicoes'), Node('Type_act', id='5', name='AVISO DE RESULTADO DE LICITACAO'))},\n",
       " {'a': Node('Act', date='25-04-2019', id='1', text='AVISO DE RESULTADO DE LICITACAO PREGAO ELETRONICO PE No 156/2018 O Pregoeiro da CAESB no uso de suas atribuicoes'),\n",
       "  'b': Node('Certame', id='1', n_process='0000000000003920000832017'),\n",
       "  'r': POSSES(Node('Act', date='25-04-2019', id='1', text='AVISO DE RESULTADO DE LICITACAO PREGAO ELETRONICO PE No 156/2018 O Pregoeiro da CAESB no uso de suas atribuicoes'), Node('Certame', id='1', n_process='0000000000003920000832017'))},\n",
       " {'a': Node('Act', date='25-04-2019', id='1', text='AVISO DE RESULTADO DE LICITACAO PREGAO ELETRONICO PE No 156/2018 O Pregoeiro da CAESB no uso de suas atribuicoes'),\n",
       "  'b': Node('Company', cnpj='11.502.964/0001-54', id='3', item='9, 10, 11, 12, 13, 14, 15, 16, 17, 18, 19, 20', name='IRRIGARURAL - INSUMOS E SISTEMAS IRRIGADOS LTDA', value='64.040,95'),\n",
       "  'r': POSTED(Node('Act', date='25-04-2019', id='1', text='AVISO DE RESULTADO DE LICITACAO PREGAO ELETRONICO PE No 156/2018 O Pregoeiro da CAESB no uso de suas atribuicoes'), Node('Company', cnpj='11.502.964/0001-54', id='3', item='9, 10, 11, 12, 13, 14, 15, 16, 17, 18, 19, 20', name='IRRIGARURAL - INSUMOS E SISTEMAS IRRIGADOS LTDA', value='64.040,95'))},\n",
       " {'a': Node('Act', date='25-04-2019', id='1', text='AVISO DE RESULTADO DE LICITACAO PREGAO ELETRONICO PE No 156/2018 O Pregoeiro da CAESB no uso de suas atribuicoes'),\n",
       "  'b': Node('Company', cnpj='20.483.193/0001-96', id='2', item='1, 2, 3, 4, 5, 6, 43, 44', name='BRASIDAS EIRELI - ME', value='6.446,68'),\n",
       "  'r': POSTED(Node('Act', date='25-04-2019', id='1', text='AVISO DE RESULTADO DE LICITACAO PREGAO ELETRONICO PE No 156/2018 O Pregoeiro da CAESB no uso de suas atribuicoes'), Node('Company', cnpj='20.483.193/0001-96', id='2', item='1, 2, 3, 4, 5, 6, 43, 44', name='BRASIDAS EIRELI - ME', value='6.446,68'))},\n",
       " {'a': Node('Act', date='25-04-2019', id='1', text='AVISO DE RESULTADO DE LICITACAO PREGAO ELETRONICO PE No 156/2018 O Pregoeiro da CAESB no uso de suas atribuicoes'),\n",
       "  'b': Node('Company', cnpj='01.739265/0001-79', id='1', item='7, 8', name='ESTRUTURA CENTER COMERCIO MATERIAL DE CONSTRUCAO LTDA-EPP', value='1.826,28'),\n",
       "  'r': POSTED(Node('Act', date='25-04-2019', id='1', text='AVISO DE RESULTADO DE LICITACAO PREGAO ELETRONICO PE No 156/2018 O Pregoeiro da CAESB no uso de suas atribuicoes'), Node('Company', cnpj='01.739265/0001-79', id='1', item='7, 8', name='ESTRUTURA CENTER COMERCIO MATERIAL DE CONSTRUCAO LTDA-EPP', value='1.826,28'))},\n",
       " {'a': Node('Act', date='25-04-2019', id='1', text='AVISO DE RESULTADO DE LICITACAO PREGAO ELETRONICO PE No 156/2018 O Pregoeiro da CAESB no uso de suas atribuicoes'),\n",
       "  'b': Node('Type_act', id='5', name='AVISO DE RESULTADO DE LICITACAO'),\n",
       "  'r': POSSESS(Node('Act', date='25-04-2019', id='1', text='AVISO DE RESULTADO DE LICITACAO PREGAO ELETRONICO PE No 156/2018 O Pregoeiro da CAESB no uso de suas atribuicoes'), Node('Type_act', id='5', name='AVISO DE RESULTADO DE LICITACAO'))},\n",
       " {'a': Node('Act', date='25-04-2019', id='1', text='AVISO DE RESULTADO DE LICITACAO PREGAO ELETRONICO PE No 156/2018 O Pregoeiro da CAESB no uso de suas atribuicoes'),\n",
       "  'b': Node('Certame', id='1', n_process='0000000000003920000832017'),\n",
       "  'r': POSSES(Node('Act', date='25-04-2019', id='1', text='AVISO DE RESULTADO DE LICITACAO PREGAO ELETRONICO PE No 156/2018 O Pregoeiro da CAESB no uso de suas atribuicoes'), Node('Certame', id='1', n_process='0000000000003920000832017'))}]"
      ]
     },
     "execution_count": 36,
     "metadata": {},
     "output_type": "execute_result"
    }
   ],
   "source": [
    "graphs = graph.run(\"MATCH (a)-[r]->(b) RETURN * LIMIT 25\").data()\n",
    "graphs"
   ]
  }
 ],
 "metadata": {
  "kernelspec": {
   "display_name": "Python 3 (ipykernel)",
   "language": "python",
   "name": "python3"
  },
  "language_info": {
   "codemirror_mode": {
    "name": "ipython",
    "version": 3
   },
   "file_extension": ".py",
   "mimetype": "text/x-python",
   "name": "python",
   "nbconvert_exporter": "python",
   "pygments_lexer": "ipython3",
   "version": "3.8.10"
  }
 },
 "nbformat": 4,
 "nbformat_minor": 5
}
