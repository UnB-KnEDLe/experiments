{
 "cells": [
  {
   "source": [
    "## Identificar separação dos blocos "
   ],
   "cell_type": "markdown",
   "metadata": {}
  },
  {
   "source": [
    "* box_extractor\n",
    "* title_extractor\n",
    "* title_filter"
   ],
   "cell_type": "markdown",
   "metadata": {}
  },
  {
   "source": [
    "* ### Extract DODFs pymu\n",
    "\n",
    "* Extração dos conteúdos dos DODFs e exportados em JSON.\n",
    "\n",
    "* DODF 088 12-05-2020 INTEGRA\n",
    "    * RATIFICAÇÃO DE DISPENSA DE LICITAÇÂO Nº 12/20\n",
    "\n",
    "* Quebra página\n",
    "\n",
    "![extract](img/extract_pymu.png)"
   ],
   "cell_type": "markdown",
   "metadata": {}
  },
  {
   "source": [
    "* DODF 20041 2003-03-2020 20 INTEGRA\n",
    "    * Abertura de Licitação    \n",
    "* Quebra por coluna]\n",
    "\n",
    "![extract](img/extract_dodf.png)"
   ],
   "cell_type": "markdown",
   "metadata": {}
  },
  {
   "source": [],
   "cell_type": "markdown",
   "metadata": {}
  },
  {
   "cell_type": "code",
   "execution_count": null,
   "metadata": {},
   "outputs": [],
   "source": []
  },
  {
   "cell_type": "code",
   "execution_count": 183,
   "metadata": {},
   "outputs": [],
   "source": [
    "import glob\n",
    "from yattag import Doc\n",
    "import re\n",
    "import json\n",
    "import unicodedata\n",
    "import pandas as pd"
   ]
  },
  {
   "cell_type": "code",
   "execution_count": 98,
   "metadata": {},
   "outputs": [],
   "source": [
    "doc, tag, text = Doc().tagtext()"
   ]
  },
  {
   "cell_type": "code",
   "execution_count": 178,
   "metadata": {
    "tags": [
     "outputPrepend"
    ]
   },
   "outputs": [
    {
     "output_type": "stream",
     "name": "stdout",
     "text": [
      "tratos/revogacao/data/blocks/2019/01_Janeiro/DODF 002 03-01-2019 INTEGRA.json', 'contratos/revogacao/data/blocks/2019/01_Janeiro/DODF 009 14-01-2019 INTEGRA.json', 'contratos/revogacao/data/blocks/2019/01_Janeiro/DODF 003 11-01-2019 EDICAO EXTRA.json', 'contratos/revogacao/data/blocks/2019/01_Janeiro/DODF 008 11-01-2019 INTEGRA.json', 'contratos/revogacao/data/blocks/2019/01_Janeiro/DODF 004 07-01-2019 INTEGRA.json', 'contratos/revogacao/data/blocks/2019/01_Janeiro/DODF 019 28-01-2019 SUPLEMENTO.json', 'contratos/revogacao/data/blocks/2019/01_Janeiro/DODF 248 01-01-2019 INTEGRA.json', 'contratos/revogacao/data/blocks/2019/01_Janeiro/DODF 006 17-01-2019 EDICAO EXTRA.json', 'contratos/revogacao/data/blocks/2019/01_Janeiro/DODF 020 29-01-2019 INTEGRA.json', 'contratos/revogacao/data/blocks/2019/01_Janeiro/DODF 005 08-01-2019 INTEGRA.json', 'contratos/revogacao/data/blocks/2019/01_Janeiro/DODF 007 10-01-2019 INTEGRA.json', 'contratos/revogacao/data/blocks/2019/01_Janeiro/DODF 014 21-01-2019 INTEGRA.json', 'contratos/revogacao/data/blocks/2019/01_Janeiro/DODF 012 17-01-2019 INTEGRA.json', 'contratos/revogacao/data/blocks/2019/01_Janeiro/DODF 019 28-01-2019 INTEGRA.json', 'contratos/revogacao/data/blocks/2019/01_Janeiro/DODF 001 02-01-2019 INTEGRA.json', 'contratos/revogacao/data/blocks/2019/01_Janeiro/DODF 003 04-01-2019 INTEGRA.json', 'contratos/revogacao/data/blocks/2019/01_Janeiro/DODF 022 31-01-2019 SUPLEMENTO.json', 'contratos/revogacao/data/blocks/2019/01_Janeiro/DODF 016 23-01-2019 INTEGRA.json', 'contratos/revogacao/data/blocks/2019/01_Janeiro/DODF 002 08-01-2019 EDICAO EXTRA.json', 'contratos/revogacao/data/blocks/2019/01_Janeiro/DODF 006 09-01-2019 INTEGRA.json', 'contratos/revogacao/data/blocks/2019/01_Janeiro/DODF 008 22-01-2019 EDICAO EXTRA.json', 'contratos/revogacao/data/blocks/2019/01_Janeiro/DODF 010 15-01-2019 INTEGRA.json', 'contratos/revogacao/data/blocks/2019/01_Janeiro/DODF 015 22-01-2019 INTEGRA.json', 'contratos/revogacao/data/blocks/2019/01_Janeiro/DODF 018 25-01-2019 INTEGRA.json', 'contratos/revogacao/data/blocks/2019/01_Janeiro/DODF 017 24-01-2019 INTEGRA.json', 'contratos/revogacao/data/blocks/2019/01_Janeiro/DODF 005 15-01-2019 EDICAO EXTRA.json', 'contratos/revogacao/data/blocks/2019/01_Janeiro/DODF 001 01-01-2019 EDICAO ESPECIAL.json', 'contratos/revogacao/data/blocks/2019/01_Janeiro/DODF 012 17-01-2019 SUPLEMENTO B.json', 'contratos/revogacao/data/blocks/2019/01_Janeiro/DODF 004 07-01-2019 SUPLEMENTO.json', 'contratos/revogacao/data/blocks/2019/01_Janeiro/DODF 021 30-01-2019 INTEGRA.json', 'contratos/revogacao/data/blocks/2019/01_Janeiro/DODF 022 31-01-2019 INTEGRA.json', 'contratos/revogacao/data/blocks/2019/01_Janeiro/DODF 004 14-01-2019 EDICAO EXTRA.json', 'contratos/revogacao/data/blocks/2019/01_Janeiro/DODF 021 30-01-2019 SUPLEMENTO A.json', 'contratos/revogacao/data/blocks/2019/01_Janeiro/DODF 009 25-01-2019 EDICAO EXTRA.json', 'contratos/revogacao/data/blocks/2020/04_Abril/DODF 061 29-04-2020 EDICAO EXTRA.json', 'contratos/revogacao/data/blocks/2020/04_Abril/DODF 050 08-04-2020 EDICAO EXTRA.json', 'contratos/revogacao/data/blocks/2020/04_Abril/DODF 068 09-04-2020 SUPLEMENTO.json', 'contratos/revogacao/data/blocks/2020/04_Abril/DODF 069 13-04-2020 INTEGRA.json', 'contratos/revogacao/data/blocks/2020/04_Abril/DODF 048 05-04-2020 EDICAO EXTRA.json', 'contratos/revogacao/data/blocks/2020/04_Abril/DODF 046 03-04-2020 EDICAO EXTRA B.json', 'contratos/revogacao/data/blocks/2020/04_Abril/DODF 057 22-04-2020 EDICAO EXTRA.json', 'contratos/revogacao/data/blocks/2020/04_Abril/DODF 078 27-04-2020 INTEGRA.json', 'contratos/revogacao/data/blocks/2020/04_Abril/DODF 049 07-04-2020 EDICAO EXTRA.json', 'contratos/revogacao/data/blocks/2020/04_Abril/DODF 067 08-04-2020 INTEGRA.json', 'contratos/revogacao/data/blocks/2020/04_Abril/DODF 053 14-04-2020 EDICAO EXTRA.json', 'contratos/revogacao/data/blocks/2020/04_Abril/DODF 081 30-04-2020 INTEGRA.json', 'contratos/revogacao/data/blocks/2020/04_Abril/DODF 077 24-04-2020 INTEGRA.json', 'contratos/revogacao/data/blocks/2020/04_Abril/DODF 058 23-04-2020 EDICAO EXTRA.json', 'contratos/revogacao/data/blocks/2020/04_Abril/DODF 064 03-04-2020 INTEGRA.json', 'contratos/revogacao/data/blocks/2020/04_Abril/DODF 071 15-04-2020 INTEGRA.json', 'contratos/revogacao/data/blocks/2020/04_Abril/DODF 067 08-04-2020 SUPLEMENTO.json', 'contratos/revogacao/data/blocks/2020/04_Abril/DODF 073 17-04-2020 INTEGRA.json', 'contratos/revogacao/data/blocks/2020/04_Abril/DODF 063 02-04-2020 INTEGRA.json', 'contratos/revogacao/data/blocks/2020/04_Abril/DODF 055 16-04-2020 EDICAO EXTRA A.json', 'contratos/revogacao/data/blocks/2020/04_Abril/DODF 055 16-04-2020 EDICAO EXTRA B.json', 'contratos/revogacao/data/blocks/2020/04_Abril/DODF 068 09-04-2020 INTEGRA.json', 'contratos/revogacao/data/blocks/2020/04_Abril/DODF 065 06-04-2020 INTEGRA.json', 'contratos/revogacao/data/blocks/2020/04_Abril/DODF 046 03-04-2020 EDICAO EXTRA A.json', 'contratos/revogacao/data/blocks/2020/04_Abril/DODF 044 01-04-2020 EDICAO EXTRA.json', 'contratos/revogacao/data/blocks/2020/04_Abril/DODF 054 15-04-2020 EDICAO EXTRA.json', 'contratos/revogacao/data/blocks/2020/04_Abril/DODF 059 24-04-2020 EDICAO EXTRA.json', 'contratos/revogacao/data/blocks/2020/04_Abril/DODF 060 28-04-2020 EDICAO EXTRA.json', 'contratos/revogacao/data/blocks/2020/04_Abril/DODF 051 09-04-2020 EDICAO EXTRA.json', 'contratos/revogacao/data/blocks/2020/04_Abril/DODF 076 23-04-2020 INTEGRA.json', 'contratos/revogacao/data/blocks/2020/04_Abril/DODF 045 02-04-2020 EDICAO EXTRA A.json', 'contratos/revogacao/data/blocks/2020/04_Abril/DODF 079 28-04-2020 INTEGRA.json', 'contratos/revogacao/data/blocks/2020/04_Abril/DODF 062 30-04-2020 EDICAO EXTRA.json', 'contratos/revogacao/data/blocks/2020/04_Abril/DODF 056 20-04-2020 EDICAO EXTRA.json', 'contratos/revogacao/data/blocks/2020/04_Abril/DODF 045 02-04-2020 EDICAO EXTRA B.json', 'contratos/revogacao/data/blocks/2020/04_Abril/DODF 066 07-04-2020 INTEGRA.json', 'contratos/revogacao/data/blocks/2020/04_Abril/DODF 074 20-04-2020 INTEGRA.json', 'contratos/revogacao/data/blocks/2020/04_Abril/DODF 070 14-04-2020 INTEGRA.json', 'contratos/revogacao/data/blocks/2020/04_Abril/DODF 072 16-04-2020 INTEGRA.json', 'contratos/revogacao/data/blocks/2020/04_Abril/DODF 072 16-04-2020 SUPLEMENTO.json', 'contratos/revogacao/data/blocks/2020/04_Abril/DODF 047 04-04-2020 EDICAO EXTRA A.json', 'contratos/revogacao/data/blocks/2020/04_Abril/DODF 079 28-04-2020 SUPLEMENTO.json', 'contratos/revogacao/data/blocks/2020/04_Abril/DODF 062 01-04-2020 INTEGRA.json', 'contratos/revogacao/data/blocks/2020/04_Abril/DODF 052 13-04-2020 EDICAO EXTRA.json', 'contratos/revogacao/data/blocks/2020/02_Fevereiro/DODF 031 13-02-2020 INTEGRA.json', 'contratos/revogacao/data/blocks/2020/02_Fevereiro/DODF 013 07-02-2020 EDICAO EXTRA.json', 'contratos/revogacao/data/blocks/2020/02_Fevereiro/DODF 036 20-02-2020 INTEGRA.json', 'contratos/revogacao/data/blocks/2020/02_Fevereiro/DODF 012 06-02-2020 EDICAO EXTRA.json', 'contratos/revogacao/data/blocks/2020/02_Fevereiro/DODF 018 19-02-2020 EDICAO EXTRA.json', 'contratos/revogacao/data/blocks/2020/02_Fevereiro/DODF 021 28-02-2020 EDICAO EXTRA.json', 'contratos/revogacao/data/blocks/2020/02_Fevereiro/DODF 016 13-02-2020 EDICAO EXTRA.json', 'contratos/revogacao/data/blocks/2020/02_Fevereiro/DODF 037 21-02-2020 INTEGRA.json', 'contratos/revogacao/data/blocks/2020/02_Fevereiro/DODF 032 14-02-2020 INTEGRA.json', 'contratos/revogacao/data/blocks/2020/02_Fevereiro/DODF 020 21-02-2020 EDICAO EXTRA.json', 'contratos/revogacao/data/blocks/2020/02_Fevereiro/DODF 019 20-02-2020 EDICAO EXTRA.json', 'contratos/revogacao/data/blocks/2020/02_Fevereiro/DODF 015 11-02-2020 EDICAO EXTRA.json', 'contratos/revogacao/data/blocks/2020/02_Fevereiro/DODF 024 04-02-2020 INTEGRA.json', 'contratos/revogacao/data/blocks/2020/02_Fevereiro/DODF 033 17-02-2020 INTEGRA.json', 'contratos/revogacao/data/blocks/2020/02_Fevereiro/DODF 035 19-02-2020 INTEGRA.json', 'contratos/revogacao/data/blocks/2020/02_Fevereiro/DODF 030 12-02-2020 INTEGRA.json', 'contratos/revogacao/data/blocks/2020/02_Fevereiro/DODF 026 06-02-2020 INTEGRA.json', 'contratos/revogacao/data/blocks/2020/02_Fevereiro/DODF 023 03-02-2020 INTEGRA.json', 'contratos/revogacao/data/blocks/2020/02_Fevereiro/DODF 025 05-02-2020 INTEGRA.json', 'contratos/revogacao/data/blocks/2020/02_Fevereiro/DODF 029 11-02-2020 INTEGRA.json', 'contratos/revogacao/data/blocks/2020/02_Fevereiro/DODF 038 27-02-2020 INTEGRA.json', 'contratos/revogacao/data/blocks/2020/02_Fevereiro/DODF 010 04-02-2020 EDICAO EXTRA.json', 'contratos/revogacao/data/blocks/2020/02_Fevereiro/DODF 011 05-02-2020 EDICAO EXTRA.json', 'contratos/revogacao/data/blocks/2020/02_Fevereiro/DODF 014 10-02-2020 EDICAO EXTRA.json', 'contratos/revogacao/data/blocks/2020/02_Fevereiro/DODF 034 18-02-2020 INTEGRA.json', 'contratos/revogacao/data/blocks/2020/02_Fevereiro/DODF 027 07-02-2020 INTEGRA.json', 'contratos/revogacao/data/blocks/2020/02_Fevereiro/DODF 039 28-02-2020 INTEGRA.json', 'contratos/revogacao/data/blocks/2020/02_Fevereiro/DODF 017 17-02-2020 EDICAO EXTRA.json', 'contratos/revogacao/data/blocks/2020/02_Fevereiro/DODF 028 10-02-2020 INTEGRA.json', 'contratos/revogacao/data/blocks/2020/05_Maio/DODF 085 07-05-2020 INTEGRA.json', 'contratos/revogacao/data/blocks/2020/05_Maio/DODF 074 15-05-2020 EDICAO EXTRA.json', 'contratos/revogacao/data/blocks/2020/05_Maio/DODF 081 24-05-2020 EDICAO EXTRA.json', 'contratos/revogacao/data/blocks/2020/05_Maio/DODF 067 08-05-2020 EDICAO EXTRA.json', 'contratos/revogacao/data/blocks/2020/05_Maio/DODF 084 27-05-2020 EDICAO EXTRA.json', 'contratos/revogacao/data/blocks/2020/05_Maio/DODF 082 25-05-2020 EDICAO EXTRA.json', 'contratos/revogacao/data/blocks/2020/05_Maio/DODF 088 12-05-2020 INTEGRA.json', 'contratos/revogacao/data/blocks/2020/05_Maio/DODF 083 05-05-2020 INTEGRA.json', 'contratos/revogacao/data/blocks/2020/05_Maio/DODF 076 18-05-2020 EDICAO EXTRA A.json', 'contratos/revogacao/data/blocks/2020/05_Maio/DODF 073 14-05-2020 EDICAO EXTRA B.json', 'contratos/revogacao/data/blocks/2020/05_Maio/DODF 070 11-05-2020 EDICAO EXTRA.json', 'contratos/revogacao/data/blocks/2020/05_Maio/DODF 064 04-05-2020 EDICAO EXTRA B.json', 'contratos/revogacao/data/blocks/2020/05_Maio/DODF 086 30-05-2020 EDICAO EXTRA.json', 'contratos/revogacao/data/blocks/2020/05_Maio/DODF 087 11-05-2020 INTEGRA.json', 'contratos/revogacao/data/blocks/2020/05_Maio/DODF 063 02-05-2020 EDICAO EXTRA.json', 'contratos/revogacao/data/blocks/2020/05_Maio/DODF 083 26-05-2020 EDICAO EXTRA.json', 'contratos/revogacao/data/blocks/2020/05_Maio/DODF 066 07-05-2020 EDICAO EXTRA A.json', 'contratos/revogacao/data/blocks/2020/05_Maio/DODF 080 22-05-2020 EDICAO EXTRA.json', 'contratos/revogacao/data/blocks/2020/05_Maio/DODF 068 09-05-2020 EDICAO EXTRA.json', 'contratos/revogacao/data/blocks/2020/05_Maio/DODF 078 20-05-2020 EDICAO EXTRA.json', 'contratos/revogacao/data/blocks/2020/05_Maio/DODF 069 10-05-2020 EDICAO EXTRA.json', 'contratos/revogacao/data/blocks/2020/05_Maio/DODF 082 04-05-2020 INTEGRA.json', 'contratos/revogacao/data/blocks/2020/05_Maio/DODF 079 21-05-2020 EDICAO EXTRA.json', 'contratos/revogacao/data/blocks/2020/05_Maio/DODF 075 16-05-2020 EDICAO EXTRA A.json', 'contratos/revogacao/data/blocks/2020/05_Maio/DODF 089 13-05-2020 INTEGRA.json', 'contratos/revogacao/data/blocks/2020/05_Maio/DODF 072 13-05-2020 EDICAO EXTRA.json', 'contratos/revogacao/data/blocks/2020/05_Maio/DODF 086 08-05-2020 INTEGRA.json', 'contratos/revogacao/data/blocks/2020/05_Maio/DODF 084 06-05-2020 INTEGRA.json', 'contratos/revogacao/data/blocks/2020/05_Maio/DODF 071 12-05-2020 EDICAO EXTRA B.json', 'contratos/revogacao/data/blocks/2020/05_Maio/DODF 064 04-05-2020 EDICAO EXTRA A.json', 'contratos/revogacao/data/blocks/2020/05_Maio/DODF 066 07-05-2020 EDICAO EXTRA B.json', 'contratos/revogacao/data/blocks/2020/05_Maio/DODF 084 06-05-2020 SUPLEMENTO.json', 'contratos/revogacao/data/blocks/2020/05_Maio/DODF 071 12-05-2020 EDICAO EXTRA A.json', 'contratos/revogacao/data/blocks/2020/05_Maio/DODF 085 29-05-2020 EDICAO EXTRA.json', 'contratos/revogacao/data/blocks/2020/05_Maio/DODF 077 19-05-2020 EDICAO EXTRA.json', 'contratos/revogacao/data/blocks/2020/05_Maio/DODF 065 05-05-2020 EDICAO EXTRA.json', 'contratos/revogacao/data/blocks/2020/05_Maio/DODF 076 18-05-2020 EDICAO EXTRA B.json', 'contratos/revogacao/data/blocks/2020/05_Maio/DODF 073 14-05-2020 EDICAO EXTRA A.json', 'contratos/revogacao/data/blocks/2020/03_Março/DODF 030 16-03-2020 EDICAO EXTRA.json', 'contratos/revogacao/data/blocks/2020/03_Março/DODF 041 28-03-2020 EDICAO EXTRA A.json', 'contratos/revogacao/data/blocks/2020/03_Março/DODF 045 09-03-2020 INTEGRA.json', 'contratos/revogacao/data/blocks/2020/03_Março/DODF 053 19-03-2020 INTEGRA.json', 'contratos/revogacao/data/blocks/2020/03_Março/DODF 052 18-03-2020 INTEGRA.json', 'contratos/revogacao/data/blocks/2020/03_Março/DODF 032 18-03-2020 EDICAO EXTRA A.json', 'contratos/revogacao/data/blocks/2020/03_Março/DODF 031 17-03-2020 EDICAO EXTRA B.json', 'contratos/revogacao/data/blocks/2020/03_Março/DODF 022 05-03-2020 EDICAO EXTRA.json', 'contratos/revogacao/data/blocks/2020/03_Março/DODF 056 24-03-2020 INTEGRA.json', 'contratos/revogacao/data/blocks/2020/03_Março/DODF 040 27-03-2020 EDICAO EXTRA B.json', 'contratos/revogacao/data/blocks/2020/03_Março/DODF 047 11-03-2020 INTEGRA.json', 'contratos/revogacao/data/blocks/2020/03_Março/DODF 025 11-03-2020 EDICAO EXTRA.json', 'contratos/revogacao/data/blocks/2020/03_Março/DODF 040 27-03-2020 EDICAO EXTRA A.json', 'contratos/revogacao/data/blocks/2020/03_Março/DODF 035 22-03-2020 EDICAO EXTRA.json', 'contratos/revogacao/data/blocks/2020/03_Março/DODF 046 10-03-2020 INTEGRA.json', 'contratos/revogacao/data/blocks/2020/03_Março/DODF 048 12-03-2020 INTEGRA.json', 'contratos/revogacao/data/blocks/2020/03_Março/DODF 040 02-03-2020 SUPLEMENTO.json', 'contratos/revogacao/data/blocks/2020/03_Março/DODF 026 12-03-2020 EDICAO EXTRA.json', 'contratos/revogacao/data/blocks/2020/03_Março/DODF 042 04-03-2020 INTEGRA.json', 'contratos/revogacao/data/blocks/2020/03_Março/DODF 054 20-03-2020 INTEGRA.json', 'contratos/revogacao/data/blocks/2020/03_Março/DODF 043 31-03-2020 EDICAO EXTRA.json', 'contratos/revogacao/data/blocks/2020/03_Março/DODF 058 26-03-2020 SUPLEMENTO.json', 'contratos/revogacao/data/blocks/2020/03_Março/DODF 042 30-03-2020 EDICAO EXTRA B.json', 'contratos/revogacao/data/blocks/2020/03_Março/DODF 027 13-03-2020 EDICAO EXTRA.json', 'contratos/revogacao/data/blocks/2020/03_Março/DODF 037 24-03-2020 EDICAO EXTRA A.json', 'contratos/revogacao/data/blocks/2020/03_Março/DODF 061 31-03-2020 SUPLEMENTO.json', 'contratos/revogacao/data/blocks/2020/03_Março/DODF 039 26-03-2020 EDICAO EXTRA.json', 'contratos/revogacao/data/blocks/2020/03_Março/DODF 023 06-03-2020 EDICAO EXTRA.json', 'contratos/revogacao/data/blocks/2020/03_Março/DODF 043 05-03-2020 INTEGRA.json', 'contratos/revogacao/data/blocks/2020/03_Março/DODF 036 23-03-2020 EDICAO EXTRA.json', 'contratos/revogacao/data/blocks/2020/03_Março/DODF 061 31-03-2020 INTEGRA.json', 'contratos/revogacao/data/blocks/2020/03_Março/DODF 031 17-03-2020 EDICAO EXTRA A.json', 'contratos/revogacao/data/blocks/2020/03_Março/DODF 024 09-03-2020 EDICAO EXTRA.json', 'contratos/revogacao/data/blocks/2020/03_Março/DODF 044 06-03-2020 INTEGRA.json', 'contratos/revogacao/data/blocks/2020/03_Março/DODF 057 25-03-2020 INTEGRA.json', 'contratos/revogacao/data/blocks/2020/03_Março/DODF 029 15-03-2020 EDICAO EXTRA B.json', 'contratos/revogacao/data/blocks/2020/03_Março/DODF 050 16-03-2020 INTEGRA.json', 'contratos/revogacao/data/blocks/2020/03_Março/DODF 059 27-03-2020 INTEGRA.json', 'contratos/revogacao/data/blocks/2020/03_Março/DODF 031 17-03-2020 EDICAO EXTRA C.json', 'contratos/revogacao/data/blocks/2020/03_Março/DODF 029 15-03-2020 EDICAO EXTRA A.json', 'contratos/revogacao/data/blocks/2020/03_Março/DODF 051 17-03-2020 INTEGRA.json', 'contratos/revogacao/data/blocks/2020/03_Março/DODF 037 24-03-2020 EDICAO EXTRA B.json', 'contratos/revogacao/data/blocks/2020/03_Março/DODF 033 19-03-2020 EDICAO EXTRA A.json', 'contratos/revogacao/data/blocks/2020/03_Março/DODF 034 20-03-2020 EDICAO EXTRA A.json', 'contratos/revogacao/data/blocks/2020/03_Março/DODF 038 25-03-2020 EDICAO EXTRA B.json', 'contratos/revogacao/data/blocks/2020/03_Março/DODF 032 18-03-2020 EDICAO EXTRA B.json', 'contratos/revogacao/data/blocks/2020/03_Março/DODF 049 13-03-2020 INTEGRA.json', 'contratos/revogacao/data/blocks/2020/03_Março/DODF 058 26-03-2020 INTEGRA.json', 'contratos/revogacao/data/blocks/2020/03_Março/DODF 038 25-03-2020 EDICAO EXTRA A.json', 'contratos/revogacao/data/blocks/2020/03_Março/DODF 055 23-03-2020 INTEGRA.json', 'contratos/revogacao/data/blocks/2020/03_Março/DODF 042 30-03-2020 EDICAO EXTRA A.json', 'contratos/revogacao/data/blocks/2020/03_Março/DODF 041 03-03-2020 INTEGRA.json', 'contratos/revogacao/data/blocks/2020/03_Março/DODF 034 20-03-2020 EDICAO EXTRA B.json', 'contratos/revogacao/data/blocks/2020/03_Março/DODF 028 14-03-2020 EDICAO EXTRA.json', 'contratos/revogacao/data/blocks/2020/01_Janeiro/DODF 005 24-01-2020 EDICAO EXTRA.json', 'contratos/revogacao/data/blocks/2020/01_Janeiro/DODF 020 29-01-2020 INTEGRA.json', 'contratos/revogacao/data/blocks/2020/01_Janeiro/DODF 008 30-01-2020 EDICAO EXTRA.json', 'contratos/revogacao/data/blocks/2020/01_Janeiro/DODF 011 16-01-2020 INTEGRA.json', 'contratos/revogacao/data/blocks/2020/01_Janeiro/DODF 003 06-01-2020 INTEGRA.json', 'contratos/revogacao/data/blocks/2020/01_Janeiro/DODF 005 08-01-2020 INTEGRA.json', 'contratos/revogacao/data/blocks/2020/01_Janeiro/DODF 001 10-01-2020 EDICAO EXTRA.json', 'contratos/revogacao/data/blocks/2020/01_Janeiro/DODF 010 15-01-2020 INTEGRA.json', 'contratos/revogacao/data/blocks/2020/01_Janeiro/DODF 016 23-01-2020 INTEGRA.json', 'contratos/revogacao/data/blocks/2020/01_Janeiro/DODF 021 30-01-2020 SUPLEMENTO.json', 'contratos/revogacao/data/blocks/2020/01_Janeiro/DODF 004 07-01-2020 INTEGRA.json', 'contratos/revogacao/data/blocks/2020/01_Janeiro/DODF 017 24-01-2020 INTEGRA.json', 'contratos/revogacao/data/blocks/2020/01_Janeiro/DODF 007 10-01-2020 SUPLEMENTO.json', 'contratos/revogacao/data/blocks/2020/01_Janeiro/DODF 022 31-01-2020 INTEGRA.json', 'contratos/revogacao/data/blocks/2020/01_Janeiro/DODF 006 09-01-2020 INTEGRA.json', 'contratos/revogacao/data/blocks/2020/01_Janeiro/DODF 012 17-01-2020 INTEGRA.json', 'contratos/revogacao/data/blocks/2020/01_Janeiro/DODF 013 20-01-2020 INTEGRA.json', 'contratos/revogacao/data/blocks/2020/01_Janeiro/DODF 003 21-01-2020 EDICAO EXTRA.json', 'contratos/revogacao/data/blocks/2020/01_Janeiro/DODF 018 27-01-2020 INTEGRA.json', 'contratos/revogacao/data/blocks/2020/01_Janeiro/DODF 012 17-01-2020 SUPLEMENTO.json', 'contratos/revogacao/data/blocks/2020/01_Janeiro/DODF 019 28-01-2020 INTEGRA.json', 'contratos/revogacao/data/blocks/2020/01_Janeiro/DODF 007 29-01-2020 EDICAO EXTRA.json', 'contratos/revogacao/data/blocks/2020/01_Janeiro/DODF 014 21-01-2020 INTEGRA.json', 'contratos/revogacao/data/blocks/2020/01_Janeiro/DODF 007 10-01-2020 INTEGRA.json', 'contratos/revogacao/data/blocks/2020/01_Janeiro/DODF 008 13-01-2020 INTEGRA.json', 'contratos/revogacao/data/blocks/2020/01_Janeiro/DODF 004 22-01-2020 EDICAO EXTRA.json', 'contratos/revogacao/data/blocks/2020/01_Janeiro/DODF 009 14-01-2020 INTEGRA.json', 'contratos/revogacao/data/blocks/2020/01_Janeiro/DODF 002 03-01-2020 INTEGRA.json', 'contratos/revogacao/data/blocks/2020/01_Janeiro/DODF 002 16-01-2020 EDICAO EXTRA.json', 'contratos/revogacao/data/blocks/2020/01_Janeiro/DODF 001 02-01-2020 INTEGRA.json', 'contratos/revogacao/data/blocks/2020/01_Janeiro/DODF 009 31-01-2020 EDICAO EXTRA.json', 'contratos/revogacao/data/blocks/2020/01_Janeiro/DODF 021 30-01-2020 INTEGRA.json', 'contratos/revogacao/data/blocks/2020/01_Janeiro/DODF 006 28-01-2020 EDICAO EXTRA.json', 'contratos/revogacao/data/blocks/2020/01_Janeiro/DODF 015 22-01-2020 INTEGRA.json']\n"
     ]
    }
   ],
   "source": [
    "block_files = glob.glob('contratos/revogacao/data/blocks/**/**/**.json')\n",
    "print(block_files)"
   ]
  },
  {
   "cell_type": "code",
   "execution_count": 175,
   "metadata": {},
   "outputs": [],
   "source": [
    "blocks = []\n",
    "regex = 'RATIFICACAO (?:DE)? (?:.*LICITACAO No 12/2020)([\\s\\S]*)'\n",
    "regex_abertura = 'AVISO (?:DE)? ABERTURA (?:.*LICITACAO)([\\s\\S]*)'\n",
    "for j in block_files:\n",
    "    list_blocks = json.loads(open(j, encoding='utf-8').read())\n",
    "    for block in list_blocks:\n",
    "        instances = re.findall(regex, unicodedata.normalize('NFKD', block[4]), re.IGNORECASE)\n",
    "        blocks.extend(instances)"
   ]
  },
  {
   "cell_type": "code",
   "execution_count": 176,
   "metadata": {},
   "outputs": [
    {
     "output_type": "stream",
     "name": "stdout",
     "text": [
      "[346.6889953613281, 729.892578125, 519.1643676757812, 738.9638061523438, \"RATIFICACAO DE DISPENSA DE LICITACAO No 12/2020\"], [308.8349914550781, 739.5455932617188, 559.2210693359375, 767.9218139648438, \"A Subsecretaria de Administracao Geral autorizou a realizacao de despesa mediante \nDispensa de Licitacao no 12/2020 processo 00060-00128648/2019-44, cujo objeto e a \ncontratacao empresa especializada para prestacao de servico de manutencao e garantia de\"], [41.25, 38.42848587036133, 557.8458251953125, 53.065486907958984, \"PAGINA 32\nDiario Oficial do Distrito Federal               \nNo 88, TERCA-FEIRA, 12 DE MAIO DE 2020\"], [192.7899932861328, 774.7846069335938, 396.0216979980469, 783.8558349609375, \"Documento assinado digitalmente, original em https://www.dodf.df.gov.br\"], [42.0, 54.19061279296875, 292.217529296875, 196.91177368164062, \"solucao tecnologica composta de uma Central de Regulacao Medica de Urgencia com \nrecursos completos de hardware, software, solucao sistemica integrada de comunicacao \nde voz, dados, imagens, armazenamento, monitoramento remoto, GPS, servico de \ntelefonia celular, com minutagem para ligacoes locais ilimitadas e fornecimento de \naparelhos, Internet movel e fixa de forma a sustentar a utilizacao da Solucao, de modo \na atender a necessidade continuada dos servicos prestados ao Servico de Atendimento \nMovel de Urgencia  SAMU/DF, em todas as suas unidades, em favor da empresa \nINOVA COMUNICACOES E SISTEMAS LTDA, para atender as necessidades da \nSecretaria de Saude  SES-DF, no valor total de R$ 3.151.914,00 (tres milhoes, cento e \ncinquenta e um mil novecentos e quatorze reais). Conforme especificado no Projeto \nBasico dos autos, com fundamento legal no artigo 24, inciso IV da Lei no 8.666 de 21 \nde junho de 1993. Previa autorizacao de acordo com o Decreto no 34.466 de 18 de \njunho de 2013. Ato que ratifiquei em 08 de maio 2020 nos termos do artigo 26, da Lei \nno 8.666 de 21 de junho de 1993 e determinei sua publicacao no Diario Oficial do DF, \npara que adquirisse a necessaria eficacia. FRANCISCO ARAUJO FILHO, Secretario \nde Estado de Saude do Distrito Federal.\"]\n"
     ]
    }
   ],
   "source": [
    "print(ratificacao)"
   ]
  },
  {
   "cell_type": "code",
   "execution_count": 186,
   "metadata": {},
   "outputs": [
    {
     "output_type": "execute_result",
     "data": {
      "text/plain": [
       "     Unnamed: 0                processo  \\\n",
       "0             0  00050-00005593/2018-51   \n",
       "1             1  00401-00022075/2018-75   \n",
       "2             2                     NaN   \n",
       "3             3                     NaN   \n",
       "4             4  00050-00020438/2018-65   \n",
       "..          ...                     ...   \n",
       "270         270  00400-00034420/2019-22   \n",
       "271         271                     NaN   \n",
       "272         272  00050-00035059/2019-51   \n",
       "273         273                     NaN   \n",
       "274         274  00050-00035446/2019-97   \n",
       "\n",
       "                                                objeto valor_estimado  \\\n",
       "0     Contratacao de empresa\\npara prestacao de ser...   4.693.316,68   \n",
       "1     Contratacao de empresa especializada para pre...      11.808,27   \n",
       "2     Contratacao de empresa especializada para pre...      20.967,60   \n",
       "3                                                  NaN            NaN   \n",
       "4     Registro de Precos de material de\\nconstrucao...     188.338,00   \n",
       "..                                                 ...            ...   \n",
       "270   A selecao de 51 (cinquenta e uma) empresas, o...            NaN   \n",
       "271   Aquisicao de suprimentos (toner,\\ncilindros e...      25.454,32   \n",
       "272   Registro de Precos para futura aquisicao\\nde ...            NaN   \n",
       "273   Contratacao de fornecedor de servicos tecnico...   1.349.072,84   \n",
       "274   Registro de Precos para futura aquisicao\\nde ...            NaN   \n",
       "\n",
       "                                                 prazo  \\\n",
       "0     O inicio da execucao contratual se dara em\\na...   \n",
       "1                                                  NaN   \n",
       "2                                                  NaN   \n",
       "3                                                  NaN   \n",
       "4     Entrega: ate 30 dias corridos contados do rec...   \n",
       "..                                                 ...   \n",
       "270                                                NaN   \n",
       "271                                                NaN   \n",
       "272   De entrega: 30\\n(trinta) dias contados do rec...   \n",
       "273                                                NaN   \n",
       "274   De entrega: 30\\n(trinta) dias contados do rec...   \n",
       "\n",
       "                                                  tipo  \\\n",
       "0                                          Menor Preco   \n",
       "1     menor preco, representado pelo menor valor\\ng...   \n",
       "2                                   menor preco global   \n",
       "3                                                  NaN   \n",
       "4                                          Menor Preco   \n",
       "..                                                 ...   \n",
       "270   MAIOR oferta, nos casos de pagamento ao poder...   \n",
       "271                                                NaN   \n",
       "272                                        Menor Preco   \n",
       "273                                        menor preco   \n",
       "274                                        Menor Preco   \n",
       "\n",
       "                                                  data  \\\n",
       "0                                  15/04/2019 as 09:00   \n",
       "1                                                  NaN   \n",
       "2       23 de abril de 2019. Local da sessao: Internet   \n",
       "3                                                  NaN   \n",
       "4                                  03/05/2019 as 09:00   \n",
       "..                                                 ...   \n",
       "270                                                NaN   \n",
       "271                                05/02/2020 as 10:00   \n",
       "272  16/01/2020 as 9:30 horas no www.comprasgoverna...   \n",
       "273                               13/02/2020, as 14h00   \n",
       "274  06/02/2020 as 9:00 horas no www.comprasgoverna...   \n",
       "\n",
       "                                                 texto  \n",
       "0    \\nPREGAO ELETRONICO No 14/2018-SSPDF\\nPROCESSO...  \n",
       "1    \\nPREGAO ELETRONICO No 02/2019 (UASG:926314)\\n...  \n",
       "2    \\nPREGAO ELETRONICO No 11/2019\\nProcesso: 001-...  \n",
       "3    ,\\nREFERENTE A LICITACAO PRESENCIAL N03/2018,\\...  \n",
       "4     -SRP\\nPREGAO ELETRONICO No 11/2019\\nREPETICAO...  \n",
       "..                                                 ...  \n",
       "270  \\nEDITAL DE CONCORRENCIA No 01/2020\\nO Distrit...  \n",
       "271  \\nPREGAO ELETRONICO No 16/2019 (EXCLUSIVA PARA...  \n",
       "272   - SRP\\nPREGAO ELETRONICO No 39/2019-SSPDF\\nPr...  \n",
       "273  \\nPREGAO ELETRONICO No 01/2020\\nProcesso: 001-...  \n",
       "274   - SRP\\nPREGAO ELETRONICO No 40/2019\\nCom part...  \n",
       "\n",
       "[275 rows x 8 columns]"
      ],
      "text/html": "<div>\n<style scoped>\n    .dataframe tbody tr th:only-of-type {\n        vertical-align: middle;\n    }\n\n    .dataframe tbody tr th {\n        vertical-align: top;\n    }\n\n    .dataframe thead th {\n        text-align: right;\n    }\n</style>\n<table border=\"1\" class=\"dataframe\">\n  <thead>\n    <tr style=\"text-align: right;\">\n      <th></th>\n      <th>Unnamed: 0</th>\n      <th>processo</th>\n      <th>objeto</th>\n      <th>valor_estimado</th>\n      <th>prazo</th>\n      <th>tipo</th>\n      <th>data</th>\n      <th>texto</th>\n    </tr>\n  </thead>\n  <tbody>\n    <tr>\n      <th>0</th>\n      <td>0</td>\n      <td>00050-00005593/2018-51</td>\n      <td>Contratacao de empresa\\npara prestacao de ser...</td>\n      <td>4.693.316,68</td>\n      <td>O inicio da execucao contratual se dara em\\na...</td>\n      <td>Menor Preco</td>\n      <td>15/04/2019 as 09:00</td>\n      <td>\\nPREGAO ELETRONICO No 14/2018-SSPDF\\nPROCESSO...</td>\n    </tr>\n    <tr>\n      <th>1</th>\n      <td>1</td>\n      <td>00401-00022075/2018-75</td>\n      <td>Contratacao de empresa especializada para pre...</td>\n      <td>11.808,27</td>\n      <td>NaN</td>\n      <td>menor preco, representado pelo menor valor\\ng...</td>\n      <td>NaN</td>\n      <td>\\nPREGAO ELETRONICO No 02/2019 (UASG:926314)\\n...</td>\n    </tr>\n    <tr>\n      <th>2</th>\n      <td>2</td>\n      <td>NaN</td>\n      <td>Contratacao de empresa especializada para pre...</td>\n      <td>20.967,60</td>\n      <td>NaN</td>\n      <td>menor preco global</td>\n      <td>23 de abril de 2019. Local da sessao: Internet</td>\n      <td>\\nPREGAO ELETRONICO No 11/2019\\nProcesso: 001-...</td>\n    </tr>\n    <tr>\n      <th>3</th>\n      <td>3</td>\n      <td>NaN</td>\n      <td>NaN</td>\n      <td>NaN</td>\n      <td>NaN</td>\n      <td>NaN</td>\n      <td>NaN</td>\n      <td>,\\nREFERENTE A LICITACAO PRESENCIAL N03/2018,\\...</td>\n    </tr>\n    <tr>\n      <th>4</th>\n      <td>4</td>\n      <td>00050-00020438/2018-65</td>\n      <td>Registro de Precos de material de\\nconstrucao...</td>\n      <td>188.338,00</td>\n      <td>Entrega: ate 30 dias corridos contados do rec...</td>\n      <td>Menor Preco</td>\n      <td>03/05/2019 as 09:00</td>\n      <td>-SRP\\nPREGAO ELETRONICO No 11/2019\\nREPETICAO...</td>\n    </tr>\n    <tr>\n      <th>...</th>\n      <td>...</td>\n      <td>...</td>\n      <td>...</td>\n      <td>...</td>\n      <td>...</td>\n      <td>...</td>\n      <td>...</td>\n      <td>...</td>\n    </tr>\n    <tr>\n      <th>270</th>\n      <td>270</td>\n      <td>00400-00034420/2019-22</td>\n      <td>A selecao de 51 (cinquenta e uma) empresas, o...</td>\n      <td>NaN</td>\n      <td>NaN</td>\n      <td>MAIOR oferta, nos casos de pagamento ao poder...</td>\n      <td>NaN</td>\n      <td>\\nEDITAL DE CONCORRENCIA No 01/2020\\nO Distrit...</td>\n    </tr>\n    <tr>\n      <th>271</th>\n      <td>271</td>\n      <td>NaN</td>\n      <td>Aquisicao de suprimentos (toner,\\ncilindros e...</td>\n      <td>25.454,32</td>\n      <td>NaN</td>\n      <td>NaN</td>\n      <td>05/02/2020 as 10:00</td>\n      <td>\\nPREGAO ELETRONICO No 16/2019 (EXCLUSIVA PARA...</td>\n    </tr>\n    <tr>\n      <th>272</th>\n      <td>272</td>\n      <td>00050-00035059/2019-51</td>\n      <td>Registro de Precos para futura aquisicao\\nde ...</td>\n      <td>NaN</td>\n      <td>De entrega: 30\\n(trinta) dias contados do rec...</td>\n      <td>Menor Preco</td>\n      <td>16/01/2020 as 9:30 horas no www.comprasgoverna...</td>\n      <td>- SRP\\nPREGAO ELETRONICO No 39/2019-SSPDF\\nPr...</td>\n    </tr>\n    <tr>\n      <th>273</th>\n      <td>273</td>\n      <td>NaN</td>\n      <td>Contratacao de fornecedor de servicos tecnico...</td>\n      <td>1.349.072,84</td>\n      <td>NaN</td>\n      <td>menor preco</td>\n      <td>13/02/2020, as 14h00</td>\n      <td>\\nPREGAO ELETRONICO No 01/2020\\nProcesso: 001-...</td>\n    </tr>\n    <tr>\n      <th>274</th>\n      <td>274</td>\n      <td>00050-00035446/2019-97</td>\n      <td>Registro de Precos para futura aquisicao\\nde ...</td>\n      <td>NaN</td>\n      <td>De entrega: 30\\n(trinta) dias contados do rec...</td>\n      <td>Menor Preco</td>\n      <td>06/02/2020 as 9:00 horas no www.comprasgoverna...</td>\n      <td>- SRP\\nPREGAO ELETRONICO No 40/2019\\nCom part...</td>\n    </tr>\n  </tbody>\n</table>\n<p>275 rows × 8 columns</p>\n</div>"
     },
     "metadata": {},
     "execution_count": 186
    }
   ],
   "source": [
    "abertura_block = pd.read_csv('abertura_regex_block.csv')\n",
    "abertura_block"
   ]
  },
  {
   "cell_type": "code",
   "execution_count": 189,
   "metadata": {},
   "outputs": [
    {
     "output_type": "execute_result",
     "data": {
      "text/plain": [
       "'\\nPREGAO ELETRONICO No 34/2019\\nParticipacao exclusiva de ME/EPP\\nProcesso: 00050-00025796/2019-45. TIPO: Menor Preco. OBJETO: Aquisicao de pulpitos com a\\nlogomarca e sigla da Secretaria de Estado de Seguranca Publica do Distrito Federal, visando atender as\\ndemandas de eventos, palestras, seminarios, cursos e reunioes, patrocinadas pelo Gabinete, Subsecretarias\\ne CIOB, todos pertencentes a estrutura administrativa da SSP/DF, bem como aquisicao de maquinas de'"
      ]
     },
     "metadata": {},
     "execution_count": 189
    }
   ],
   "source": [
    "abertura_block.loc[266, 'texto']"
   ]
  },
  {
   "cell_type": "code",
   "execution_count": 180,
   "metadata": {},
   "outputs": [
    {
     "output_type": "stream",
     "name": "stdout",
     "text": [
      "[56.6920166015625, 818.5408935546875, 404.0615234375, 874.08203125, \"AVISO DE ABERTURA DE LICITACAO\nPREGAO ELETRONICO No 34/2019\nParticipacao exclusiva de ME/EPP\nProcesso: 00050-00025796/2019-45. TIPO: Menor Preco. OBJETO: Aquisicao de pulpitos com a\nlogomarca e sigla da Secretaria de Estado de Seguranca Publica do Distrito Federal, visando atender as\ndemandas de eventos, palestras, seminarios, cursos e reunioes, patrocinadas pelo Gabinete, Subsecretarias\ne CIOB, todos pertencentes a estrutura administrativa da SSP/DF, bem como aquisicao de maquinas de\"], [418.1086730957031, 80.32613372802734, 765.4680786132812, 161.7420654296875, \"cortar cabelo, tipo profissional, para atender demanda dos reclusos do Sistema Prisional do Distrito\nFederal - SESIPE. VALOR ESTIMADO: Sigiloso para as empresas e sera aberto apos o encerramento da\netapa de lances. PRAZOS: Entrega ate 30 dias corridos contatos da data de recebimento da Nota de\nEmpenho ou da assinatura do contrato. Vigencia do Contrato: 90 (noventa) dias a partir da data da\nassinatura.  DATA  DA SESSAO  PUBLICA:  13/03/2020  as 13:30  horas  no\nwww.comprasgovernamentais.gov.br. UASG 450107. Edital esta disponivel no endereco acima e no\nh t t p : / / s s p . d f . g o v. b r / l i c i t a c o e s .\nBrasilia/DF, 02 de marco de 2020\nAMILCAR UBIRATAN URACH VIEIRA\nCoordenador\"]\n"
     ]
    }
   ],
   "source": [
    "print(quebra_abertura)"
   ]
  },
  {
   "cell_type": "code",
   "execution_count": 204,
   "metadata": {},
   "outputs": [],
   "source": [
    "block_files = glob.glob('contratos/revogacao/data/blocks/**/**/**.json')\n"
   ]
  },
  {
   "cell_type": "code",
   "execution_count": 207,
   "metadata": {},
   "outputs": [
    {
     "output_type": "stream",
     "name": "stderr",
     "text": [
      "[nltk_data] Downloading package stopwords to /home/guiz/nltk_data...\n",
      "[nltk_data]   Unzipping corpora/stopwords.zip.\n"
     ]
    }
   ],
   "source": [
    "import nltk\n",
    "nltk.download('stopwords')\n",
    "stop_list = nltk.corpus.stopwords.words(\"portuguese\")"
   ]
  },
  {
   "cell_type": "code",
   "execution_count": null,
   "metadata": {},
   "outputs": [],
   "source": []
  },
  {
   "cell_type": "code",
   "execution_count": 208,
   "metadata": {},
   "outputs": [
    {
     "output_type": "execute_result",
     "data": {
      "text/plain": [
       "'[56.6920166015625, 818.5408935546875, 404.0615234375, 874.08203125, \"AVISO DE ABERTURA DE LICITACAO PREGAO ELETRONICO No 34/2019 Participacao exclusiva ME/EPP Processo: 00050-00025796/2019-45. TIPO: Menor Preco. OBJETO: Aquisicao pulpitos logomarca sigla Secretaria Estado Seguranca Publica Distrito Federal, visando atender demandas eventos, palestras, seminarios, cursos reunioes, patrocinadas Gabinete, Subsecretarias CIOB, todos pertencentes estrutura administrativa SSP/DF, bem aquisicao maquinas de\"], [418.1086730957031, 80.32613372802734, 765.4680786132812, 161.7420654296875, \"cortar cabelo, tipo profissional, atender demanda reclusos Sistema Prisional Distrito Federal - SESIPE. VALOR ESTIMADO: Sigiloso empresas sera aberto apos encerramento etapa lances. PRAZOS: Entrega ate 30 dias corridos contatos data recebimento Nota Empenho assinatura contrato. Vigencia Contrato: 90 (noventa) dias partir data assinatura. DATA DA SESSAO PUBLICA: 13/03/2020 13:30 horas www.comprasgovernamentais.gov.br. UASG 450107. Edital disponivel endereco acima h t t p : / / s s p . d f . g v. b r / l i c i t c s . Brasilia/DF, 02 marco 2020 AMILCAR UBIRATAN URACH VIEIRA Coordenador\"]'"
      ]
     },
     "metadata": {},
     "execution_count": 208
    }
   ],
   "source": [
    "stopWords = set(stop_list)\n",
    "\" \".join(word for word in quebra_abertura.split() if word not in stopWords)"
   ]
  },
  {
   "cell_type": "code",
   "execution_count": null,
   "metadata": {},
   "outputs": [],
   "source": [
    "full_base = []\n",
    "not_found = []\n",
    "cnt = 0\n",
    "temp = -1\n",
    "for dodf in dodfs:\n",
    "    f = open(dodf)\n",
    "    data = json.load(f)\n",
    "    aux = df.loc[(df['NUM_DODF'] == int(dodf.split('/')[-1].split()[1])) & (df['DATA_DODF'] == dodf.split('/')[-1].split()[2].replace('-', '/'))]\n",
    "    for j in range(len(data)):\n",
    "        data[j].append([])\n",
    "        data[j][4] = data[j][4].replace('\\n', ' ')\n",
    "    for i in aux.index:\n",
    "        cnt += 1\n",
    "        if not df.loc[i, 'text'] or pd.isna(df.loc[i, 'text']):\n",
    "            continue\n",
    "        find = False\n",
    "        for j in range(len(data)):\n",
    "            entity = re.search(df.loc[i, 'text'].replace('(', '\\(').replace(')', '\\)'), data[j][4])\n",
    "            if entity:\n",
    "                temp = entity\n",
    "                find = True\n",
    "                if entity.span() not in data[j][5]:\n",
    "                    data[j][5].append(entity.span())\n",
    "        if not find:\n",
    "            not_found.append((dodf, df.loc[i, 'text'], i))\n",
    "    full_base.append(data)"
   ]
  }
 ],
 "metadata": {
  "kernelspec": {
   "display_name": "Python 3",
   "language": "python",
   "name": "python3"
  },
  "language_info": {
   "codemirror_mode": {
    "name": "ipython",
    "version": 3
   },
   "file_extension": ".py",
   "mimetype": "text/x-python",
   "name": "python",
   "nbconvert_exporter": "python",
   "pygments_lexer": "ipython3",
   "version": "3.8.6"
  }
 },
 "nbformat": 4,
 "nbformat_minor": 5
}