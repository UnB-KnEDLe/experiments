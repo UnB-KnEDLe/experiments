{
 "metadata": {
  "language_info": {
   "codemirror_mode": {
    "name": "ipython",
    "version": 3
   },
   "file_extension": ".py",
   "mimetype": "text/x-python",
   "name": "python",
   "nbconvert_exporter": "python",
   "pygments_lexer": "ipython3",
   "version": "3.8.6"
  },
  "orig_nbformat": 2,
  "kernelspec": {
   "name": "python3",
   "display_name": "Python 3",
   "language": "python"
  }
 },
 "nbformat": 4,
 "nbformat_minor": 2,
 "cells": [
  {
   "cell_type": "code",
   "execution_count": 23,
   "metadata": {},
   "outputs": [],
   "source": [
    "import pandas as pd\n",
    "\n",
    "from tqdm import tqdm\n",
    "tqdm.pandas()"
   ]
  },
  {
   "cell_type": "code",
   "execution_count": 24,
   "metadata": {},
   "outputs": [],
   "source": [
    "df = pd.read_csv('./atosLicitacao2.csv')"
   ]
  },
  {
   "cell_type": "code",
   "execution_count": 25,
   "metadata": {},
   "outputs": [
    {
     "output_type": "execute_result",
     "data": {
      "text/plain": [
       "20210"
      ]
     },
     "metadata": {},
     "execution_count": 25
    }
   ],
   "source": [
    "len(df)"
   ]
  },
  {
   "cell_type": "code",
   "execution_count": 26,
   "metadata": {},
   "outputs": [
    {
     "output_type": "stream",
     "name": "stdout",
     "text": [
      "<class 'pandas.core.frame.DataFrame'>\nRangeIndex: 20210 entries, 0 to 20209\nData columns (total 5 columns):\n #   Column      Non-Null Count  Dtype \n---  ------      --------------  ----- \n 0   Unnamed: 0  20210 non-null  int64 \n 1   id_ato      20210 non-null  int64 \n 2   processo    15858 non-null  object\n 3   data_dodf   20210 non-null  object\n 4   texto       20210 non-null  object\ndtypes: int64(2), object(3)\nmemory usage: 789.6+ KB\n"
     ]
    }
   ],
   "source": [
    "df.info()"
   ]
  },
  {
   "cell_type": "code",
   "execution_count": 27,
   "metadata": {},
   "outputs": [
    {
     "output_type": "execute_result",
     "data": {
      "text/plain": [
       "   Unnamed: 0  id_ato                   processo   data_dodf  \\\n",
       "0           0     999  0000000000001970016272016  07-02-2019   \n",
       "1           1      14  0000000000000010006082018  07-02-2019   \n",
       "2           2     999                        NaN  07-02-2019   \n",
       "3           3     999                        NaN  07-02-2019   \n",
       "4           4     999  0000000000000000010062018  07-02-2019   \n",
       "\n",
       "                                               texto  \n",
       "0  EXTRATOS DE OUTORGA\\nO SUPERINTENDENTE DE RECU...  \n",
       "1  AVISO DE LICITACAO EXCLUSIVA\\nPREGAO ELETRONIC...  \n",
       "2  AVISO DE ABERTURA DO PLANO DE SUPRIMENTOS No 0...  \n",
       "3  AVISO DO PREGAO ELETRONICO No 017/2019\\nO BRB ...  \n",
       "4  AVISO DO PREGAO ELETRONICO No 068/2018\\nO BRB ...  "
      ],
      "text/html": "<div>\n<style scoped>\n    .dataframe tbody tr th:only-of-type {\n        vertical-align: middle;\n    }\n\n    .dataframe tbody tr th {\n        vertical-align: top;\n    }\n\n    .dataframe thead th {\n        text-align: right;\n    }\n</style>\n<table border=\"1\" class=\"dataframe\">\n  <thead>\n    <tr style=\"text-align: right;\">\n      <th></th>\n      <th>Unnamed: 0</th>\n      <th>id_ato</th>\n      <th>processo</th>\n      <th>data_dodf</th>\n      <th>texto</th>\n    </tr>\n  </thead>\n  <tbody>\n    <tr>\n      <th>0</th>\n      <td>0</td>\n      <td>999</td>\n      <td>0000000000001970016272016</td>\n      <td>07-02-2019</td>\n      <td>EXTRATOS DE OUTORGA\\nO SUPERINTENDENTE DE RECU...</td>\n    </tr>\n    <tr>\n      <th>1</th>\n      <td>1</td>\n      <td>14</td>\n      <td>0000000000000010006082018</td>\n      <td>07-02-2019</td>\n      <td>AVISO DE LICITACAO EXCLUSIVA\\nPREGAO ELETRONIC...</td>\n    </tr>\n    <tr>\n      <th>2</th>\n      <td>2</td>\n      <td>999</td>\n      <td>NaN</td>\n      <td>07-02-2019</td>\n      <td>AVISO DE ABERTURA DO PLANO DE SUPRIMENTOS No 0...</td>\n    </tr>\n    <tr>\n      <th>3</th>\n      <td>3</td>\n      <td>999</td>\n      <td>NaN</td>\n      <td>07-02-2019</td>\n      <td>AVISO DO PREGAO ELETRONICO No 017/2019\\nO BRB ...</td>\n    </tr>\n    <tr>\n      <th>4</th>\n      <td>4</td>\n      <td>999</td>\n      <td>0000000000000000010062018</td>\n      <td>07-02-2019</td>\n      <td>AVISO DO PREGAO ELETRONICO No 068/2018\\nO BRB ...</td>\n    </tr>\n  </tbody>\n</table>\n</div>"
     },
     "metadata": {},
     "execution_count": 27
    }
   ],
   "source": [
    "df.head()"
   ]
  },
  {
   "cell_type": "code",
   "execution_count": 28,
   "metadata": {},
   "outputs": [],
   "source": [
    "import re"
   ]
  },
  {
   "cell_type": "code",
   "execution_count": 29,
   "metadata": {},
   "outputs": [],
   "source": [
    "df['id_certame'] = range(1,len(df.processo.tolist())+1)"
   ]
  },
  {
   "cell_type": "code",
   "execution_count": 6,
   "metadata": {},
   "outputs": [
    {
     "output_type": "stream",
     "name": "stderr",
     "text": [
      "100%|██████████| 20210/20210 [00:00<00:00, 24257.43it/s]\n"
     ]
    }
   ],
   "source": [
    "df_CERTAME = pd.DataFrame({'n_processo':df.processo.tolist(), 'id_certame': df.id_certame.tolist()})\n",
    "\n",
    "df_CERTAME['insert'] = df_CERTAME.progress_apply(lambda row:'INSERT INTO CERTAME (id_certame, n_processo) VALUES ('+ str(row.id_certame) + \",'\" + str(row.n_processo) + \"');\",axis=1)"
   ]
  },
  {
   "cell_type": "code",
   "execution_count": 7,
   "metadata": {},
   "outputs": [],
   "source": [
    "df_CERTAME.to_csv('./df_certame.csv')"
   ]
  },
  {
   "cell_type": "code",
   "execution_count": 61,
   "metadata": {},
   "outputs": [],
   "source": [
    "import math\n",
    "tipos_dict = {\n",
    "    1: 'AVISO DE ABERTURA DE LICITACAO',\n",
    "    2: 'AVISO DE HOMOLOGACAO E ADJUDICACAO',\n",
    "    3: 'AVISO DE HOMOLOGACAO E CONVOCACAO',\n",
    "    4: 'AVISO DE RESULTADO',\n",
    "    5: 'AVISO DO RESULTADO DE JULGAMENTO',\n",
    "    6: 'AVISO DE DECLARACAO DE VENCEDOR',\n",
    "    7: 'AVISO DE JULGAMENTO',\n",
    "    8: 'AVISO DE JULGAMENTO DE HABILITACAO',\n",
    "    9: 'AVISO DE JULGAMENTO DE RECURSO ADMINISTRATIVO',\n",
    "    10: 'AVISO DE SUSPENSAO DE LICITACAO',\n",
    "    11: 'AVISO DE ADIAMENTO DE LICITACAO',\n",
    "    12: 'AVISO DE NOVA DATA DE ABERTURA',\n",
    "    13: 'AVISO DE REABERTURA',\n",
    "    14: 'AVISO DE LICITACAO',\n",
    "    15: 'EXTRATOS DE CONTRATO',\n",
    "    999: 'DESCONHECIDO'\n",
    "}\n",
    "\n",
    "df['id_ato'] = df.apply(lambda row: 999 if math.isnan(float(row.id_ato) ) else row.id_ato, axis=1)\n",
    "df['descricao'] = df.apply(lambda row: tipos_dict[row.id_ato], axis=1)"
   ]
  },
  {
   "cell_type": "code",
   "execution_count": 30,
   "metadata": {},
   "outputs": [
    {
     "output_type": "execute_result",
     "data": {
      "text/plain": [
       "999    13389\n",
       "15      2716\n",
       "4       1724\n",
       "14      1397\n",
       "3        325\n",
       "1        223\n",
       "2        173\n",
       "13        93\n",
       "7         76\n",
       "10        41\n",
       "6         27\n",
       "12        19\n",
       "11         7\n",
       "Name: id_ato, dtype: int64"
      ]
     },
     "metadata": {},
     "execution_count": 30
    }
   ],
   "source": [
    "df.id_ato.value_counts()"
   ]
  },
  {
   "cell_type": "code",
   "execution_count": 47,
   "metadata": {},
   "outputs": [
    {
     "output_type": "stream",
     "name": "stderr",
     "text": [
      "100%|██████████| 20210/20210 [00:02<00:00, 8183.27it/s]\n"
     ]
    }
   ],
   "source": [
    "df_ATOS = pd.DataFrame({\n",
    "    'id_ato': range(1,len(df.processo.tolist())+1),\n",
    "    'data_dodf': df.data_dodf.tolist(),\n",
    "    'texto': df.texto.tolist(),\n",
    "    'id_certame': df.id_certame.tolist(),\n",
    "    'id_tipo': df.id_ato.tolist()\n",
    "})\n",
    "df_ATOS['insert'] = df_ATOS.progress_apply(lambda row:'INSERT INTO ATOS (id_ato, data_dodf, texto, id_certame, id_tipo) VALUES ('+ str(row.id_ato) + \",\" + \"TO_DATE('\" + row.data_dodf + \"','\" + 'dd-MM-yyyy' + \"')\" + \",'\" + re.sub(\"'|\\\"\",' ',str(row.texto)) + \"',\" + str(row.id_certame) + ',' + str(row.id_tipo) + ');', axis=1)"
   ]
  },
  {
   "cell_type": "code",
   "execution_count": 49,
   "metadata": {},
   "outputs": [],
   "source": [
    "df_ATOS['insert'].to_csv('./df_atos.csv')"
   ]
  },
  {
   "cell_type": "code",
   "execution_count": 48,
   "metadata": {},
   "outputs": [
    {
     "output_type": "execute_result",
     "data": {
      "text/plain": [
       "\"INSERT INTO ATOS (id_ato, data_dodf, texto, id_certame, id_tipo) VALUES (1,TO_DATE('07-02-2019','dd-MM-yyyy'),'EXTRATOS DE OUTORGA\\nO SUPERINTENDENTE DE RECURSOS HIDRICOS DA AGENCIA REGULADORA DE AGUAS,\\nENERGIA E SANEAMENTO BASICO DO DISTRITO FEDERAL - Adasa torna publicas as\\no u t o rg a s :\\nDespacho/SRH no 118/2018. VANDERLEI VIEIRA, concede outorga previa para perfuracao de um\\npoco tubular, irrigacao e piscicultura, Bacia Hidrografica do Rio Descoberto, Nucleo Rural Alexandre\\nGusmao, Gleba 03, Reserva F, Chacara F, Brazlandia/DF. Processo SEI no 0197-001627/2016.',1,999);\""
      ]
     },
     "metadata": {},
     "execution_count": 48
    }
   ],
   "source": [
    "df_ATOS.head(1)['insert'].values[0]"
   ]
  }
 ]
}