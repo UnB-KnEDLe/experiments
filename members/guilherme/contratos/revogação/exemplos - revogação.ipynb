{
 "cells": [
  {
   "cell_type": "markdown",
   "id": "floral-report",
   "metadata": {},
   "source": [
    "# Aviso de Revogação de Licitação"
   ]
  },
  {
   "cell_type": "markdown",
   "id": "declared-blair",
   "metadata": {},
   "source": [
    "## Exemplos de documentos"
   ]
  },
  {
   "cell_type": "markdown",
   "id": "hollywood-relief",
   "metadata": {},
   "source": [
    "## Documentos:\n",
    "### 1 - [DODF - 033](https://dodf.df.gov.br/index/visualizar-arquivo/?pasta=2021|02_Fevereiro|DODF%20033%2019-02-2021|&arquivo=DODF%20033%2019-02-2021%20INTEGRA.pdf)\n",
    "\n",
    "### 2 - [DODF - 038](https://dodf.df.gov.br/index/visualizar-arquivo/?pasta=2021|02_Fevereiro|DODF%20038%2026-02-2021|&arquivo=DODF%20038%2026-02-2021%20INTEGRA.pdf)\n",
    "\n",
    "### 3 - [DODF - 050](https://dodf.df.gov.br/index/visualizar-arquivo/?pasta=2021|03_Mar%C3%A7o|DODF%20050%2016-03-2021|&arquivo=DODF%20050%2016-03-2021%20INTEGRA.pdf)\n",
    "\n",
    "### 4 - [DODF - 115](https://www.dodf.df.gov.br/index/visualizar-arquivo/?pasta=2020/06_Junho/DODF%20115%2022-06-2020&arquivo=DODF%20115%2022-06-2020%20INTEGRA.pdf)\n",
    "\n",
    "### 5 - [DODF - 063](https://www.dodf.df.gov.br/index/visualizar-arquivo/?pasta=2020/04_Abril/DODF%20063%2002-04-2020&arquivo=DODF%20063%2002-04-2020%20INTEGRA.pdf)\n"
   ]
  },
  {
   "cell_type": "raw",
   "id": "familiar-adult",
   "metadata": {},
   "source": [
    "Exemplo 1:\n",
    "\n",
    "AVISO DE REVOGAÇÃO DE LICITAÇÃO\n",
    "A Caesb torna público que o Pregão Eletrônico PE 014/2021-CAESB, Processo nº\n",
    "092.041904/2020, objeto: Aquisição de lubrificantes (graxa, lubrificante, óleo e outros),\n",
    "na forma do Sistema de Registro de preços - SRP, foi revogado por razões administrativas.\n",
    "LUDYMILLA RODRIGUES NUNES\n",
    "Pregoeira"
   ]
  },
  {
   "cell_type": "raw",
   "id": "synthetic-responsibility",
   "metadata": {},
   "source": [
    "PADRÕES:\n",
    "* DESCRIÇAO OBJETO\n",
    "* ORGAO\n",
    "* PROCESSO\n",
    "* OBJETO\n",
    "* DECISÃO"
   ]
  },
  {
   "cell_type": "raw",
   "id": "perceived-nightmare",
   "metadata": {},
   "source": [
    "Exemplo 2:\n",
    "\n",
    "AVISO DE REVOGAÇÃO DE LICITAÇÃO\n",
    "A Caesb torna público que o Pregão Eletrônico PE 206/2020-CAESB, Processo nº\n",
    "092.023793/2020, objeto: Registro de preços para aquisição de equipamentos e máquinas\n",
    "para oficina e acabamento (arame, broca, jogo de macho em aço, tijolo e outros), realizado\n",
    "no site: www.comprasnet.gov.br (UASG: 974200), foi revogado por razões\n",
    "administrativas.\n",
    "DIEGO PIRINEUS PATTI\n",
    "Pregoeiro"
   ]
  },
  {
   "cell_type": "raw",
   "id": "selective-zambia",
   "metadata": {},
   "source": [
    "PADRÕES:\n",
    "* DESCRIÇAO OBJETO\n",
    "* ORGAO\n",
    "* PROCESSO\n",
    "* OBJETO"
   ]
  },
  {
   "cell_type": "raw",
   "id": "modified-woman",
   "metadata": {},
   "source": [
    "Exemplo 3:\n",
    "\n",
    "AVISO DE REVOGAÇÃO DE LICITAÇÃO\n",
    "O Presidente da Comissão de Licitação para Compra de Bens, Serviços e Obras –\n",
    "CPLIC/TERRACAP, no uso das atribuições que lhe confere a Portaria nº 298/2020 -\n",
    "DIRAF, comunica a REVOGAÇÃO DA LICITAÇÃO do seguinte certame.\n",
    "Processo: 00111-00003553/2020-64\n",
    "Modalidade/número: Licitação Presencial nº 18/2020\n",
    "Tipo: Menor Preço\n",
    "Objeto:\n",
    "Contratação de Estudo Prévio de Impacto de Vizinhança – EIV para o\n",
    "empreendimento QE 60, conjuntos “A” e “R”, Guará – RA X.\n",
    "Decisão\n",
    "REVOGAÇÃO do processo da Licitação Presencial nº 18/2020,\n",
    "autorizado pela Decisão n.º 098/2020 - TERRACAP/PRESI/DITEC\n",
    "Brasília/DF, 12 de março de 2021\n",
    "GLAUBER TEODORO FARIA\n",
    "Presidente da Comissão"
   ]
  },
  {
   "cell_type": "raw",
   "id": "manufactured-liberty",
   "metadata": {},
   "source": [
    "PADRÕES:\n",
    "* DESCRIÇAO OBJETO\n",
    "* ORGAO\n",
    "* MODALIDADE\n",
    "* TIPO\n",
    "* PROCESSO\n",
    "* OBJETO\n",
    "* DECISÃO"
   ]
  },
  {
   "cell_type": "raw",
   "id": "confident-return",
   "metadata": {},
   "source": [
    "Exemplo 4:\n",
    "\n",
    "AVISO DE REVOGAÇÃO DE LICITAÇÃO nº 23/2020 - UASG 926334\n",
    "A Fundação Hemocentro de Brasília torna pública a REVOGAÇÃO de Pregão Eletrônico\n",
    "para o contratação de empresa especializada para o fornecimento de solução de\n",
    "softwarecomposta por módulos de gestão dos processos e atividades do Sistema de Gestão\n",
    "da Qualidade (SGQ), da Fundação Hemocentro de Brasília - FHB. Processo nº 00063-\n",
    "00001216/2017-41. Informa-se que devido à revisão de preços sugerida por essa área\n",
    "técnica, a fim de mitigar eventual fracasso de licitação, informamos a REVOGAÇÃO do\n",
    "Pregão 23/2020, para reajustamento do Termo de Referência, nos termos do art. 49 da Lei\n",
    "8.666/93. O aviso encontra-se disponibilizado, sem ônus, no sítio:\n",
    "www.comprasgovernamentais.gov.br ou www.fhb.df.gov.br, ou com ônus no endereço:\n",
    "Setor Médico Hospitalar Norte-SMHN, Quadra 03, Conjunto A, Bloco 03, Asa Norte –\n",
    "CEP 70710-908 – Brasília/DF.\n",
    "OSNEI OKUMOTO\n",
    "Diretor-Presidente"
   ]
  },
  {
   "cell_type": "raw",
   "id": "endangered-footwear",
   "metadata": {},
   "source": [
    "PADRÕES:\n",
    "* DESCRIÇAO OBJETO\n",
    "* ORGAO\n",
    "* PROCESSO\n",
    "* OBJETO"
   ]
  },
  {
   "cell_type": "raw",
   "id": "forbidden-carol",
   "metadata": {},
   "source": [
    "Exemplo 5:\n",
    "\n",
    "AVISO DE REVOGAÇÃO DE LICITAÇÃO\n",
    "A Caesb torna público que o Pregão Eletrônico PE 229/2019-CAESB, Processo nº\n",
    "092.004076/2019, objeto: Registro de preços para aquisição de peças e acessórios\n",
    "originais dos equipamentos Watson Marion (rotor em ferro fundido Bedel 65, drive\n",
    "QDOS 120 e outros), realizado no site: www.comprasnet.gov.br (UASG: 974200), foi\n",
    "revogado por razões administrativas (Recusa da empresa vencedora em assinar a Ata de\n",
    "Registro de Preços, por desequilíbrio financeiro da proposta).\n",
    "Prazo para recurso: até 08/04/2020. Prazo para contrarrazão: até 15/04/2020.\n",
    "SILVIO S. GONÇALVES SOARES\n",
    "Pregoeiro"
   ]
  },
  {
   "cell_type": "raw",
   "id": "female-professional",
   "metadata": {},
   "source": [
    "PADRÕES:\n",
    "* DESCRIÇAO OBJETO\n",
    "* ORGAO\n",
    "* PROCESSO\n",
    "* OBJETO"
   ]
  },
  {
   "cell_type": "markdown",
   "id": "grand-manufacturer",
   "metadata": {},
   "source": [
    "## PADRÕES"
   ]
  },
  {
   "cell_type": "markdown",
   "id": "after-tourism",
   "metadata": {},
   "source": [
    "* DESCRIÇAO OBJETO\n",
    "* ORGAO\n",
    "* PROCESSO\n",
    "* OBJETO\n",
    "* DECISÃO"
   ]
  },
  {
   "cell_type": "markdown",
   "id": "statistical-sphere",
   "metadata": {},
   "source": [
    "### DESCRIÇÃO OBJETO\n",
    "* AVISO DE REVOGAÇÃO DE LICITAÇÃO"
   ]
  },
  {
   "cell_type": "markdown",
   "id": "tribal-myrtle",
   "metadata": {},
   "source": [
    "### ORGAO\n",
    "* CAESB\n",
    "* CPLIC/TERRACAP\n",
    "* Fundação Hemocentro de Brasília"
   ]
  },
  {
   "cell_type": "markdown",
   "id": "mineral-turning",
   "metadata": {},
   "source": [
    "### PROCESSO\n",
    "* 092.041904/2020\n",
    "* 092.023793/2020\n",
    "* 092.004076/2019"
   ]
  },
  {
   "cell_type": "markdown",
   "id": "decimal-premiere",
   "metadata": {},
   "source": [
    "### OBJETO\n",
    "* Aquisição de lubrificantes (graxa, lubrificante, óleo e outros)\n",
    "* Registro de preços para aquisição de equipamentos e máquinas para oficina e acabamento (arame, broca, jogo de macho em aço, tijolo e outros)\n",
    "* Contratação de Estudo Prévio de Impacto de Vizinhança – EIV para o empreendimento QE 60\n",
    "* Contratação de empresa especializada para o fornecimento de solução de softwarecomposta por módulos de gestão dos processos e atividades do Sistema de Gestão da Qualidade (SGQ)\n",
    "* Registro de preços para aquisição de peças e acessórios originais dos equipamentos Watson Marion (rotor em ferro fundido Bedel 65"
   ]
  },
  {
   "cell_type": "markdown",
   "id": "mexican-interpretation",
   "metadata": {},
   "source": [
    "### DECISÃO\n",
    "* ,foi revogado por razões administrativas.\n",
    "* ,foi revogado por razões administrativas.\n",
    "* REVOGAÇÃO do processo da Licitação Presencial nº 18/2020.\n",
    "* Informa-se que devido à revisão de preços sugerida por essa área técnica, a fim de mitigar eventual fracasso de licitação, informamos a REVOGAÇÃO do Pregão 23/2020,\n",
    "* foi revogado por razões administrativas (Recusa da empresa vencedora em assinar a Ata de Registro de Preços,"
   ]
  },
  {
   "cell_type": "code",
   "execution_count": 172,
   "id": "fatty-ecology",
   "metadata": {},
   "outputs": [],
   "source": [
    "# Exemplo 1:\n",
    "exmpl_1 = 'AVISO DE REVOGAÇÃO DE LICITAÇÃO \\\n",
    "A Caesb torna público que o Pregão Eletrônico PE 014/2021-CAESB, Processo nº 092.041904/2020, \\\n",
    "objeto: Aquisição de lubrificantes (graxa, lubrificante, óleo e outros), \\\n",
    "na forma do Sistema de Registro de preços - SRP, foi revogado por razões administrativas. \\\n",
    "LUDYMILLA RODRIGUES NUNES \\\n",
    "Pregoeira'"
   ]
  },
  {
   "cell_type": "code",
   "execution_count": 245,
   "id": "whole-durham",
   "metadata": {},
   "outputs": [
    {
     "name": "stdout",
     "output_type": "stream",
     "text": [
      "Processo nº 092.041904/2020\n"
     ]
    }
   ],
   "source": [
    "import re\n",
    "\n",
    "tipo_ato = r\"(AVISO DE REVOGAÇÃO DE LICITAÇÃO,?\\s?)\"\n",
    "#orgao    = r\"(^.*\\r?\\n(.*))\"\n",
    "processo = r\"\"\n",
    "objeto   = r\"objeto: ([\\s\\S]*?)[,]\"\n",
    "decisao  = r\"foi revogado ([\\s\\S]*?)[.]\"\n",
    "\n",
    "match = re.search(processo, exmpl_1, re.IGNORECASE)\n",
    "\n",
    "if match:\n",
    "  print(match.group())\n",
    "else:\n",
    "  print(\"pattern not found\")"
   ]
  },
  {
   "cell_type": "code",
   "execution_count": 206,
   "id": "finite-guest",
   "metadata": {},
   "outputs": [],
   "source": [
    "import glob\n",
    "import re\n",
    "import pandas as pd\n",
    "from yattag import Doc\n",
    "import unicodedata\n",
    "import os"
   ]
  },
  {
   "cell_type": "code",
   "execution_count": 207,
   "id": "canadian-marketing",
   "metadata": {},
   "outputs": [],
   "source": [
    "doc, tag, text = Doc().tagtext()"
   ]
  },
  {
   "cell_type": "code",
   "execution_count": 208,
   "id": "ordered-principal",
   "metadata": {},
   "outputs": [],
   "source": [
    "txt_files = glob.glob('data/**/**/*.txt')"
   ]
  },
  {
   "cell_type": "code",
   "execution_count": 246,
   "id": "green-fisher",
   "metadata": {},
   "outputs": [],
   "source": [
    "all_contracts = []\n",
    "for txt in txt_files:\n",
    "    instances = re.findall('AVISO (?:de)? REVOGACAO (?:.*LICITACAO)([\\s\\S]*?)\\.\\n',\n",
    "                            unicodedata.normalize('NFKD', open(txt, encoding='utf-8').read()), \n",
    "                            re.IGNORECASE)\n",
    "    all_contracts.extend(instances)"
   ]
  },
  {
   "cell_type": "code",
   "execution_count": 247,
   "id": "average-champagne",
   "metadata": {},
   "outputs": [
    {
     "name": "stdout",
     "output_type": "stream",
     "text": [
      "[' PUBLICA NACIONAL - LPN 019/2018\\n1. A Caesb, no ambito de seu Programa de Saneamento Ambiental, financiado pelo Banco Interamericano\\nde Desenvolvimento - BID, torna publica a revogacao da Licitacao Publica Nacional LPN 019/2018, para\\na execucao das obras de implantacao do Subsistema Gama - Melhorias nas Captacoes dos Corregos\\nCrispim 1 e 2, Olho D`Agua, Ponte de Terra 2 e 3 e Alagado, do Distrito Federal e recuperacao e\\nrevitalizacao dos Reservatorios Rap Brasilia (RAP.PPL.002), Rap Brazlandia (RAP.BRZ.001), Rap Gama\\n01 (RAP.GAM.001), Rap Santa Maria (RAP.STM.001) e REQ Gama (REQ.GAM.001). Processo no\\n092.005049/2018. Foi revogada por razoes administrativas. 2. Mais informacoes poderao ser obtidas no\\nsite www.caesb.df.gov.br e telefone (61) 3213-7122', ' PUBLICA NACIONAL - LPN 022/2018\\n1. A Caesb, no ambito de seu Programa de Saneamento Ambiental, financiado pelo Banco Interamericano\\nde Desenvolvimento - BID, torna publica a revogacao da Licitacao Publica Nacional LPN 022/2018, para\\na execucao das obras de setorizacao e adequacao de redes nas localidades de Sobradinho I e Sobradinho\\nII (Lote 1) e Itapoa e Paranoa (Lote 2). Processo no 092.006322/2018. Foi revogada por razoes\\nadministrativas. 2. Mais informacoes poderao ser obtidas no site www.caesb.df.gov.bre telefone (61) 3213-\\n7122\\nMAURICIO KENJI SUEMORI\\nPresidente da Comissao\\nAVISO DE LICITACAO\\nLICITACAO FECHADA LF no 004/2019-Caesb, PROCESSO no 092.001172/2019, OBJETO: Contratacao\\nde servico de operacao, conservacao e manutencao da Rede Hidrometeorologica e Piezometrica da Caesb,\\nno ambito de sua area de atuacao, no Distrito Federal e Entorno. CRITERIO DE JULGAMENTO: Maior\\nDesconto. ABERTURA DA LICITACAO: 21/05/2019 as 09:00 horas. VALOR ESTIMADO: R$\\n1.872.442,11.  DOTACAO ORCAMENTARIA:  UO: 22.202;  PROGRAMA DE  TRABALHO:\\nProjeto/Subtitulo 17.122.60018517/6977, NATUREZA DA DESPESA: 33.90.39, Codigo de Aplicacao\\n12.103.110.300-6. FONTE DE RECURSO: Recursos Proprios, Codigo 11.101.000.00-3. PRAZO DE\\nVIGENCIA: 365 dias consecutivos. A partir do dia 29/04/2019, o edital e seus anexos poderao ser\\nencontrados no site www.caesb.df.gov.br - menu Licitacoes, em atendimento a Lei Distrital no 5.453/2015', '\\nPREGAO ELETRONICO No 001-S001079/2018\\nA CEB Distribuicao S.A., por meio da Comissao Permanente de Licitacao - CPL, localizada no Setor\\nde Areas Publicas, Lote C, Bloco H, SIA - Brasilia-DF, torna publico que, em cumprimento a\\nResolucao da Diretoria no 025, de 08.03.2019, fica revogada a licitacao em epigrafe, relativa a\\nNo 63, quarta-feira, 3 de abril de 2019\\nPAGINA 53\\nDiario Oficial do Distrito Federal\\nEste documento pode ser verificado no endereco eletronico h t t p : / / w w w. i n . g o v. b r / a u t e n t i c i d a d e . h t m l\\npelo codigo 50012019040300053\\nDocumento assinado digitalmente conforme MP no 2.200-2 de 24/08/2001, que institui a\\nInfraestrutura de Chaves Publicas Brasileira - ICP-Brasil', '\\nA Centrais de Abastecimento do Distrito Federal S.A torna publico, que seguindo o interesse publico\\ne por determinacao do Ordenador de Despesas revogou o Pregao Eletronico no 26/2018 objetos:\\nContratacao de uma empresa de Engenharia/Arquitetura especializada em elaboracao de projetos\\nreferente: Arquitetura, Estrutura Metalica, Fundacoes, Drenagem Pluvial, Instalacoes Eletricas e SPDA,\\nCombate a Incendio e Elaboracao de Orcamento. Sendo projetos basico e executivo, com a finalidade\\nde construir novas coberturas dos pavilhoes desta Ceasa/DF', ' PUBLICA NACIONAL 20/2018\\nA Caesb, no ambito de seu Programa de Saneamento Ambiental, financiado pelo Banco Interamericano de\\nDesenvolvimento - BID, torna publica a revogacao da Licitacao Publica Nacional LPN 020/2018, para a\\nexecucao das obras de setorizacao e adequacao de redes nas localidades da Asa Sul e Cruzeiro (Lote 1), Asa\\nNorte (Lote 2) e Jardim Botanico, inclusive o fornecimento e instalacao do novo Booster (Lote 3). Processo no\\n092.005939/2018. Foi revogada por razoes administrativas. 2. Mais informacoes poderao ser obtidas no site\\nwww.caesb.df.gov.br e telefone (61) 3213-7122', ' PUBLICA NACIONAL - LPN 03/2019\\nA Caesb, no ambito de seu Programa de Saneamento Ambiental, financiado pelo Banco Interamericano de\\nDesenvolvimento - BID, torna publica a revogacao da Licitacao Publica Nacional LPN 003/2019, para a\\nexecucao das obras de setorizacao, adequacao e substituicao de redes nas localidades do Guara, Vicente Pires,\\nNucleo Bandeirante e Metropolitana. Processo no 092.000196/2019. Foi revogada por razoes administrativas. 2', ' PUBLICA NACIONAL - LPN 04/2019\\nA Caesb, no ambito de seu Programa de Saneamento Ambiental, financiado pelo Banco Interamericano de\\nDesenvolvimento - BID, torna publica a revogacao da Licitacao Publica Nacional LPN 004/2019 para\\nsetorizacao, adequacao e substituicao de redes nas localidades do Gama, Recanto das Emas, Samambaia e Santa\\nMaria. Processo no 092.000436/2019. Foi revogada por razoes administrativas. 2. Mais informacoes poderao ser\\nobtidas no site www.caesb.df.gov.br e telefone (61) 3213-7122', '\\nPREGAO ELETRONICO PE No 2/2019 (UASG: 927507)\\nA Secretaria de Estado de Justica e Cidadania do Distrito Federal, torna publico que, seguindo o\\ninteresse publico e com suporte na Manifestacao 233 da AJL, documento SEI no 26459672, revoga\\no Pregao Eletronico no 02/2019 objeto: Contratacao empresa especializada para prestacao de servicos\\ngraficos - incluindo material e mao de obra necessaria para a execucao e acabamento dos servicos\\ngraficos, sob demanda, necessarios a realizacao da eleicao dos Conselheiros Tutelares do Distrito\\nFederal para o Quadrienio 2020/2023, conforme condicoes e exigencias estabelecidas no Projeto\\nBasico constante do Anexo I do Edital. Processo SEI no 00400-00023725/2019-17, Informacoes pelo\\ntelefone: (61) 3213-0712', '\\nLICITACAO CEB-D No 1-P00944/2018\\nA CEB Distribuicao S.A., por meio da Comissao Permanente de Licitacao - CPL, localizada no SIA Setor\\nde Areas Publicas, Lote C, Bloco H, CEB - Brasilia-DF, torna publico que fica revogada a licitacao em\\nepigrafe, relativa a contratacao de solucao de Data Center modular outdoor, incluindo implantacao e\\nintegracao com a rede logica existente. Demais informacoes, no horario das 8h as 12h e das 14h as 17h\\nou por meio dos telefones: 3465-9012/9297', '\\nA Caesb torna publico que a Concorrencia CP 003/2015-Caesb, processo no 092.002144/2015, para\\nexecucao das obras/servicos de implantacao da 1a Etapa do Sistema Produtor de Agua Paranoa - Grupo I\\n- obras civis e equipamentos em Brasilia/DF, incluindo as unidades de producao de agua: Captacao,\\nEstacao Elevatoria de Agua Bruta EEAB, Adutora de Agua Bruta AD 05, Estacao de Tratamento de Agua\\nETA Paranoa, Reservatorio Pulmao e Estacoes Elevatorias de EAT06 e EAT07, incluindo ainda a\\nelaboracao dos projetos executivos, na forma de execucao indireta, sob regime de empreitada parte por\\npreco unitario parte por preco global, foi revogada por conveniencia administrativa', '\\nPREGAO ELETRONICO No 20/2019\\nA Camara Legislativa do Distrito Federal informa a revogacao do certame em epigrafe, conforme decisao\\nproferida no Processo: 001-000395/2017, cujo objeto e a aquisicao de equipamentos de rede, com garantia\\ne suporte tecnico pelo periodo de 60 (sessenta) meses, para a Camara Legislativa do Distrito Federal', '\\nA Caesb torna publico que a Concorrencia CP 007/2015-CAESB, processo no 092.004627/2015, para\\nexecucao das obras/servicos de implantacao da 1a Etapa do Sistema Produtor de Agua Paranoa - Grupo 2\\n- obras civis e equipamentos, em Brasilia - DF, incluindo as Unidades do Sistema de Producao de Agua:\\nAdutoras de Agua Tratada AD 07 com travessia do Rio Paranoa, AD 09, AD 10, AD NC1 e Estacoes\\nElevatorias de Agua Tratada EAT09 e EATNC1, incluindo ainda a elaboracao de todos os projetos\\nexecutivos, na forma de execucao indireta, sob regime de empreitada parte por preco unitario parte por\\npreco global, foi revogada por conveniencia administrativa', '\\nPREGAO ELETRONICO No 100/2018-CAESB\\nA Caesb torna publico que o Pregao Eletronico PE 100/2018-CAESB, processo no 092.003059/2018,\\nrealizado no site: www.comprasnet.gov.br (UASG: 974200), tipo de licitacao: menor preco, para\\nPA.112/2018 AQUISICAO DE BLOQUEADOR SOLAR FPS 30, foi revogada por razoes\\nadministrativas', '\\nPREGAO ELETRONICO No 930/2018\\nA CEB Distribuicao S.A., por meio da CPL, localizada no Setor de Industria e Abastecimento - SIA, Area\\nde Servico Publico S/N, Lote C, Bloco H, Guara, Brasilia-DF, torna publico que, em conformidade com\\no Despacho Conjunto relativo a 683a Reuniao Ordinaria da CEB-DIS, fica revogada a licitacao relativa a\\nContratacao de Obras de Implantacao da Linha de Distribuicao Subterranea e Sublacustre em 138KV\\nBrasilia Centro-06 x Brasilia Leste. Demais informacoes, no horario das 8 as 12 e das 14 as 17h, pelos\\ntelefones: 3465-9317/9297/9016', ' DA CONCORRENCIA No 04/2017\\nA Comissao Permanente de Licitacao da Companhia de Desenvolvimento Habitacional Do Distrito\\nFederal, CPL/CODHAB no uso de suas Atribuicoes, TORNA PUBLICA a presente publicacao para\\ninformar que fica REVOGADO a CONCORRENCIA 004/2017, Processo no 0392-002367/2017, que tem\\npor objeto e a promocao de 05 empreendimentos habitacionais por meio da producao e comercializacao de\\nUnidades Habitacionais a serem disponibilizadas prioritariamente ao novo cadastro de habitacao, em\\nprojecoes de propriedade da CODHAB localizadas em Sobradinho - RA V, em atendimento a politica\\nhabitacional do Governo do Distrito Federal, devidamente fundamentado apos a aprovacao da Sumula SEI-\\nGDF CODHAB/PRESI/DIPRO n.o 5/2019 (18014545), pela Diretoria Executiva da CODHAB e com\\nfulcro no caput do art. 49 da Lei 8.666/93 e Sumula 473 do STF, estando o processo a disposicao no Portal\\nde Sistema Eletronico de Informacoes - SEI, uma vez que merece ser reavaliado e futuramente\\nreapresentado para a adocao de eventuais novas licitacoes', ' DA CONCORRENCIA No 04/2018\\nA Comissao Permanente de Licitacao da Companhia de Desenvolvimento Habitacional do Distrito Federal,\\nCPL/CODHAB no uso de suas Atribuicoes, TORNA PUBLICA a presente publicacao para informar que\\nfica REVOGADO a CONCORRENCIA 004/2018, Processo no 0392-003366/2017, que tem por objeto e a\\nexecucao de 05 (Cinco) Edificios habitacionais de interesse social localizado em Samambaia - RA XII, de\\nacordo com os projetos tecnicos, especificacoes, servicos e orcamento, contidos no Anexo II e Anexo III,\\nem atendimento a politica habitacional do Governo do Distrito Federal, devidamente fundamentado apos\\na aprovacao da Sumula SEI-GDF CODHAB/PRESI/DIPRO n.o 6/2019 (18016478), pela Diretoria\\nExecutiva da CODHAB, e com fulcro no caput do art. 49 da Lei 8.666/93 e Sumula 473 do STF, estando\\no processo a disposicao no Portal de Sistema Eletronico de Informacoes - SEI, uma vez que merece ser\\nreavaliado e futuramente reapresentado para a adocao de eventuais novas licitacoes', '\\nA Caesb torna publico que o Pregao Eletronico PE 111/2018-CAESB, processo no 092.003360/2018,\\nrealizado no site: www.comprasnet.gov.br (UASG: 974200), tipo de licitacao: menor preco, para\\nAquisicao de Centro de Usinagem Vertical Alta Velocidade com 5 Eixos Simultaneos, foi revogada', \"\\nA Caesb torna publico que o Pregao Eletronico PE 140/2019-CAESB, processo no 092.002402/2019,\\nrealizado no site : www.comprasnet.gov.br (UASG: 974200), tipo de licitacao: menor preco, para\\ncontratacao de empresa para a prestacao de servicos de limpeza, tratamento da agua e manutencao geral\\nde piscinas, subdivididas em 03 (tres) tipos de manutencao, contemplando: limpeza das piscinas por meio\\nda sanitizacao e desinfeccao atras de cloro, substituicao de piso ceramico, pedras e revestimento,\\nmanutencao da casa de maquinas e equipamentos, abrangendo as bombas d'agua, quadro eletrico,\\naquecedores solar e eletrico, rebobinamento de motores eletricos e pintura, incluindo a cloracao,\\naquecimento e filtros de agua, alem do fornecimento de todo material quimico necessario para limpeza,\\nmanutencao e funcionamento diario das piscinas do Projeto Golfinho, foi revogada por razoes\\nadministrativas\", '\\nA Caesb torna publico que o Pregao Eletronico PE 145/2019-CAESB, processo no 092.001831/2019,\\nrealizado no site www.comprasnet.gov.br (UASG: 974200), tipo de licitacao: menor preco, para\\nContratacao de servico de comunicacao de dados que permita trafego de dados, voz e video de\\nabrangencia nacional, por meio de uma rede IP multisservicos, em Multi Protocol Label Switching\\n(MPLS); por fibra otica com suporte e solucao de problemas, foi revogada por inconsistencias no Termo\\nde Referencia', '\\nPREGAO ELETRONICO No 97/2019\\nA Caesb torna publico que o Pregao Eletronico PE 097/2019-CAESB, Processo no 092.003164/2018,\\nrealizado no site : www.comprasnet.gov.br (UASG: 974200), tipo de licitacao: menor preco, para\\nContratacao de empresa especializada na prestacao, de forma continua, de servicos de prevencao e combate\\na incendio e panico, por meio de Brigada de Incendio, para atuacao na Companhia de Saneamento\\nAmbiental do Distrito Federal - Caesb, em suas instalacoes localizadas na Avenida Sibipiruna, Lotes 13 a\\n21, Centro de Gestao de Aguas Emendadas, Aguas Claras- DF, de forma a prover as edificacoes, de\\npessoal treinado e capacitado para atuar na seguranca preventiva e ostensiva, no combate a incendio,\\npanico, sinistros e nos atendimentos de primeiros socorros e pre-hospitalar de urgencia e emergencia,\\npreservando a integridade fisica e a vida de seus empregados e colaboradores, de modo a reduzir as\\nconsequencias sociais do fortuito e os danos ao patrimonio publico e ao meio ambiente, foi revogada por\\nperda do objeto, uma vez que a Companhia licitara o referido servico paras as areas da sede e do SIA', '\\nPREGAO ELETRONICO PE No 127/2019\\nA Caesb torna publico que o Pregao Eletronico PE 127/2019-CAESB, processo no 092.001884/2019,\\nrealizado no site: www.comprasnet.gov.br (UASG: 974200), tipo de licitacao: menor preco, para\\nRegistro de precos para aquisicao de barrilha leve - carbonato de sodio, foi revogada por tratar-se de\\nlicitacao fracassada', '\\nA Caesb torna publico que o Pregao Eletronico PE No 221/2019, processo no 092.000207/2019, realizado\\nno site: www.comprasnet.gov.br (UASG: 974200), tipo de licitacao: menor preco, para o registro de precos\\npara aquisicao de parafusos, arruelas, porcas e chumbadores, foi revogada por tratar-se de licitacao\\nfracassada', '\\nPREGAO ELETRONICO PE No 165/2019\\nA Caesb torna publico que o Pregao Eletronico PE 165/2019-CAESB, processo no 092.001664/2018,\\nrealizado no site: www.comprasnet.gov.br (UASG: 974200), tipo de licitacao: menor preco, para\\nAquisicao de 02 (dois) Transformadores de Forca, trifasicos, sendo 01 (um) de 138 kV-13,8 kV e 01\\n(um) de 34,5 kV-2,4 kV e equipamentos perifericos complementares, incluindo servicos de projeto,\\ntreinamento de pessoal, fabricacao, ensaios, montagem, comissionamento, a serem instalados nas\\nSubestacoes Eletricas da Elevatoria de Agua Bruta do Rio Descoberto - EAB.RDE.001 e da Elevatoria\\nde Agua Bruta do Torto - EAB.TOR.001, da CAESB, foi revogada por tratar-se de licitacao\\nfracassada', '\\nA Caesb torna publico que o Pregao Eletronico PE 085/2019-CAESB, processo no 092.000279/2019,\\nrealizado no site: www.comprasnet.gov.br (UASG: 974200), tipo de licitacao: menor preco, para o\\nregistro de precos para aquisicao de equipamentos e maquinas para oficina e acabamento, foi revogada\\npor tratar-se de licitacao fracassada', '\\nPREGAO ELETRONICO PARA REGISTRO DE PRECOS No 31/2018\\nPROCESSO: 053.00034738/2018-47/CBMDF. TIPO: Menor preco. OBJETO Registro de preco para\\naquisicao de materiais e equipamentos de radiocomunicacao para o CBMDF. O DICOA informa a\\nREVOGACAO do certame, com fulcro no art. 49 da Lei no 8.666/93, conforme Decisao no 1901/2019,\\nproferida pelo Tribunal de Constas do DF, em 04/06/2019. Inf: (61) 3901-3483. Marcelo Teixeira Dantas\\n- Diretor', '\\nEDITAL DE CONCORRENCIA No 01/2018\\nO Secretario Executivo da Secretaria de Estado de Justica e Cidadania do Distrito Federal, no uso das\\natribuicoes que lhe foram conferidas pelo artigo 114, do seu Regimento Interno, aprovado pelo Decreto no\\n34.320, de 26 de abril de 2013, e, delegadas pelo artigo 1o, incisos VII e XXII, da Portaria no 65, de 13\\nde maio de 2013, publicada no DODF no 97, de 14 de maio de 2013, com fulcro no caput do artigo 49\\nda Lei no 8.666/1993, e:\\nCONSIDERANDO que o ato administrativo revogatorio e resultante do poder discricionario da\\nAdministracao; os principios da Indisponibilidade do Interesse Publico e da Eficiencia Administrativa; o\\ndisposto no Despacho Singular no 510/2018-GC/PT/TCDF, de 11 de dezembro de 2018, do Tribunal de\\nContas do Distrito Federal; resolve:\\nTORNAR PUBLICA a revogacao do Edital de Concorrencia no 01/2018, publicado no Diario Oficial do\\nDistrito Federal no 214, de 09 de novembro de 2018, republicado no DODF No 231, de 06 de dezembro\\nde 2018, cujo objeto e a selecao de empresas para outorga de permissoes com a finalidade de explorar e\\nprestar servicos funerarios em grupos de Regioes Administrativas do Distrito Federal. Fica aberto o prazo\\nde 05 (cinco) dias uteis para que os interessados possam apresentar recurso administrativo, em\\nconformidade com o disposto no artigo 109, inciso I, alinea c, da Lei no 8.666/93', ' PE No 007/2019\\nA Caesb torna publico que o Pregao Eletronico PE 007/2019-CAESB, processo no 092.006194/2018,\\nrealizado no site: www.comprasnet.gov.br (UASG: 974200), tipo de licitacao: menor preco, para o registro\\nde precos para aquisicao de EPI - Equipamentos de Protecao e Seguranca Individual, foi revogada por\\ntratar-se de licitacao fracassada', ' PUBLICA NACIONAL - LPN 011/2019\\nA Caesb, no ambito de seu Programa de Saneamento Ambiental, financiado pelo Banco Interamericano de\\nDesenvolvimento - BID, torna publico que a Licitacao Publica Nacional - LPN 011/2019, processo no\\n092.005465/2019, para execucao das Obras de Setorizacao e Adequacao de Redes nas localidades da Asa\\nSul, Cruzeiro, Asa Norte e Jardim Botanico, incluindo o fornecimento e Instalacao do Novo Booster, foi\\nrevogada por conveniencia administrativa', '\\nA Caesb torna publico que o Pregao Eletronico PE 106/2018-CAESB, processo no 092.003419/2018,\\nrealizado no site: www.comprasnet.gov.br (UASG: 974200), tipo de licitacao: menor preco, para o registro\\nde precos para aquisicao de ferramentas manuais (alicate, cadeado, caixa de ferramentas, chave de fenda,\\nchave para tubos, jogo com soquetes, jogo de chaves e outros), foi revogada por tratar-se de licitacao\\nfracassada', '\\nA Caesb torna publico que a concorrencia CP 061/2009-Caesb, processo no 00092.003711/2008, tipo de\\nlicitacao: menor preco, para execucao das obras para implantacao do sistema coletor de esgotos das\\nquadras QE 48, QE 50, QE 52, QE 54, QE 56 e alguns conjuntos habitacionais das quadras QE 38 e\\nQE 44 da cidade do Guara, Distrito Federal, na forma de execucao indireta, sob regime de empreitada\\npor preco unitario, foi revogada por razoes administrativas', '\\nA Caesb torna publico que a Concorrencia CP 064/2009-Caesb, processo no 00092.003718/2008, tipo de\\nlicitacao: menor preco, para execucao das obras para remanejamento e substituicao da subadutora 2 e\\nimplantacao de redes de distribuicao de agua da expansao do Guara II, quadras QE 48 a QE 58, da\\nCidade do Guara, Distrito Federal, na forma de execucao indireta, sob regime de empreitada por preco\\nunitario, foi revogada por razoes administrativas', '\\nA Caesb torna publico que o Pregao Eletronico PE 135/2019-CAESB, processo no 092.001645/2019,\\nrealizado no site : www.comprasnet.gov.br (UASG: 974200), tipo de licitacao: menor preco, para\\nregistro de precos para aquisicao de acido fluossilicico, foi revogada por tratar-se de licitacao\\nfracassada', '\\nPREGAO ELETRONICO No 17/2019\\nA Camara Legislativa do Distrito Federal informa a revogacao do certame em epigrafe, conforme decisao\\nproferida no processo no 001-000631/2019, cujo objeto e o Registro de Preco para eventual contratacao de\\nempresa especializada em locacao, montagem e desmontagem de gradil de contencao e placas de\\nfechamento para a Camara Legislativa do Distrito Federal. Mais informacoes: (61) 3348-8650 e\\ncpl@cl.df.gov.br. Brasilia/DF, 15/07/2019. Daniel Luchine Ishihara - Pregoeiro', '\\nA Caesb torna publico que o Pregao Eletronico PE 219/2018-CAESB, processo no 092.004562/2018,\\nrealizado no site: www.comprasnet.gov.br (UASG: 974200), tipo de licitacao: menor preco, para Aquisicao\\nde equipamento compostador de residuos organicos revolvedor de leiras automotriz, zero horas, a ser\\nutilizado na operacao da Unidade de Gestao de Lodo de esgoto de Samambaia/Melchior - UGL, no ambito\\nde atuacao da CAESB/DF, foi revogada por tratar-se de licitacao fracassada', '\\nO Presidente da Comissao de Licitacao para Compra de Bens, Servicos e Obras  \\nCPLIC/TERRACAP, no uso das atribuicoes que lhe confere a Portaria no 577/2019 - \\nDIRAF, COMUNICA A REVOGACAO do seguinte certame', '\\nA Caesb torna publico que o Pregao Eletronico PE 229/2019-CAESB, Processo no \\n092.004076/2019, objeto: Registro de precos para aquisicao de pecas e acessorios \\noriginais dos equipamentos Watson Marion (rotor em ferro fundido Bedel 65, drive \\nQDOS 120 e outros), realizado no site: www.comprasnet.gov.br (UASG: 974200), foi \\nrevogado por razoes administrativas (Recusa da empresa vencedora em assinar a Ata de \\nRegistro de Precos, por desequilibrio financeiro da proposta)', '\\nCONCORRENCIA N 02/2020\\nA Companhia de Desenvolvimento Habitacional do Distrito Federal  CODHAB/DF, no \\nuso de suas atribuicoes, torna publico o Aviso de revogacao da Concorrencia N 02/20 - \\nProcesso no 00392-00010422/2019-91, cujo OBJETO: Visa subsidiar a contratacao sobre \\nregime de DEMANDA de servicos tecnicos para elaboracao de projetos e estudos para \\nregularizacao urbanistica e fundiaria de areas de interesse inseridas na Regiao \\nAdministrativa de Sao Sebastiao - RA XIV, em atendimento a politica habitacional do \\nGoverno do Distrito Federal, conforme Decisao do TCDF No 1005/2020', '\\nA Caesb torna publico que o Pregao Eletronico PE 287/2019-CAESB, processo no 092.005762/2019,\\nrealizado no site: www.comprasnet.gov.br (UASG: 974200), tipo de licitacao: menor preco, para\\nregistro de precos para aquisicao de materiais em aco para adutoras e redes de agua foi revogada por\\nrazoes administrativas', ' DA CONCORRENCIA N 05/2019\\nA Companhia de Desenvolvimento Habitacional do Distrito Federal - CODHAB/DF, no uso de suas\\natribuicoes, torna publico o Aviso de revogacao da Concorrencia 05/2019 - Processo no 00392-\\n00007176/2018-17, cujo OBJETO: Consiste na promocao de empreendimentos habitacionais por meio da\\nproducao e comercializacao de Unidades Habitacionais a serem disponibilizadas ao cadastro de habitacao,\\nem terrenos de propriedade do Distrito Federal localizados na Quadra 105, Setor Habitacional Sol\\nNascente, Trecho 02, em Ceilandia, em atendimento a politica habitacional do Governo do Distrito Federal,\\nconforme Sumula SEI-GDF CODHAB/PRESI/DIPRO n.o 4/2020 e Decisoes do TCDF No 4143/2019 e\\n4144/2019', ' PUBLICA NACIONAL  LPN 007/2019\\nA Caesb, no ambito de seu Programa de Saneamento Ambiental, financiado pelo Banco \\nInteramericano de Desenvolvimento - BID torna publica a revogacao da Licitacao Publica \\nNacional LPN 007/2019, para a execucao das Obras de setorizacao, adequacao e \\nsubstituicao de Redes nas localidades de Aguas Claras, Riacho Fundo e Lago Sul. \\nProcesso no 092.001235/2019. Foi revogada por conveniencia administrativa. Mais \\ninformacoes poderao ser obtidas no site www.caesb.df.gov.br e telefone (61) 3213-7122', ' PUBLICA NACIONAL  LPN 008/2019\\nA Caesb, no ambito de seu Programa de Saneamento Ambiental, financiado pelo Banco \\nInteramericano de Desenvolvimento - BID torna publica a revogacao da Licitacao Publica \\nNacional LPN 008/2019, para execucao das obras de Setorizacao, Adequacao e Substituicao \\nde Redes nas localidades do Guara, Vicente Pires, Nucleo Bandeirante e Metropolitana. \\nProcesso no 092.004840/2019. Foi revogada por conveniencia administrativa. Mais \\ninformacoes poderao ser obtidas no site www.caesb.df.gov.br e telefone (61) 3213-7122', ' PUBLICA NACIONAL  LPN 009/2019\\nA Caesb, no ambito de seu Programa de Saneamento Ambiental, financiado pelo Banco \\nInteramericano de Desenvolvimento - BID torna publica a revogacao da Licitacao Publica \\nNacional LPN 009/2019, para execucao das obras de setorizacao, adequacao e \\nsubstituicao de redes nas localidades de Gama, Recanto das Emas, Samambaia e Santa \\nMaria. Processo no 092.004932/2019. Foi revogada por conveniencia administrativa. Mais \\ninformacoes poderao ser obtidas no site www.caesb.df.gov.br e telefone (61) 3213-7122', ' PUBLICA NACIONAL  LPN 010/2019\\nA Caesb, no ambito de seu Programa de Saneamento Ambiental, financiado pelo Banco \\nInteramericano de Desenvolvimento - BID torna publica a revogacao da Licitacao Publica \\nNacional LPN 010/2019, para execucao das Obras de Setorizacao, Adequacao e \\nSubstituicao de Redes nas localidades de Planaltina, Mestre Darmas e Arapoanga. \\nProcesso no 092.001067/2019. Foi revogada por conveniencia administrativa. Mais \\ninformacoes poderao ser obtidas no site www.caesb.df.gov.br e telefone (61) 3213-7122', '\\nA Caesb torna publico que o Pregao Eletronico PE 247/2019-CAESB, processo no 092.004133/2019,\\nrealizado no site: www.comprasnet.gov.br (UASG: 974200), tipo de licitacao: menor preco, para\\nAquisicao de centro de controle de motores - CCM e inversores de frequencia para as elevatorias de\\nagua bruta da cabeca do veado e do lago sul, foi revogada para ajustes na especificacao tecnica do\\nedital. Prazo para recurso e contrarrazoes de acordo com o artigo n 82 do regulamento de licitacoes\\ne contratacoes da CAESB-RILC']\n"
     ]
    }
   ],
   "source": [
    "print(all_contracts)"
   ]
  },
  {
   "cell_type": "code",
   "execution_count": 252,
   "id": "embedded-duncan",
   "metadata": {},
   "outputs": [],
   "source": [
    "regex_dict = {'processo': 'processo[\\s\\S]*(\\d{3}.\\d{6}/\\d{4}?)', \n",
    "              'objeto': 'objeto[\\s\\S]*?:?([\\s\\S]*?)\\.',\n",
    "              'decisao': 'foi revogad[a-z][\\s\\S]*?:?([\\s\\S]*?)\\.'\n",
    "}\n",
    "\n",
    "df_dict = {\n",
    "    'processo': [],\n",
    "    'objeto': [],\n",
    "    'decisao': [],\n",
    "    'texto': [],\n",
    "}"
   ]
  },
  {
   "cell_type": "code",
   "execution_count": 253,
   "id": "intermediate-functionality",
   "metadata": {},
   "outputs": [],
   "source": [
    "for contract in all_contracts:\n",
    "    df_dict['texto'].append(contract)\n",
    "    for field in regex_dict:\n",
    "        match = re.search(regex_dict[field], contract, re.IGNORECASE)\n",
    "        if match:\n",
    "            res = tuple(x for x in match.groups() if x is not None)\n",
    "            df_dict[field].append(res[0])\n",
    "        else:\n",
    "            df_dict[field].append('nan')\n",
    "\n",
    "df = pd.DataFrame.from_dict(df_dict)\n",
    "df.to_csv('regovacao_regex.csv')"
   ]
  },
  {
   "cell_type": "code",
   "execution_count": null,
   "id": "naughty-school",
   "metadata": {},
   "outputs": [],
   "source": []
  },
  {
   "cell_type": "code",
   "execution_count": null,
   "id": "lyric-commerce",
   "metadata": {},
   "outputs": [],
   "source": []
  }
 ],
 "metadata": {
  "kernelspec": {
   "display_name": "Python 3",
   "language": "python",
   "name": "python3"
  },
  "language_info": {
   "codemirror_mode": {
    "name": "ipython",
    "version": 3
   },
   "file_extension": ".py",
   "mimetype": "text/x-python",
   "name": "python",
   "nbconvert_exporter": "python",
   "pygments_lexer": "ipython3",
   "version": "3.8.6"
  }
 },
 "nbformat": 4,
 "nbformat_minor": 5
}
