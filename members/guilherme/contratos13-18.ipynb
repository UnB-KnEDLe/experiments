{
 "cells": [
  {
   "cell_type": "markdown",
   "id": "convinced-launch",
   "metadata": {},
   "source": [
    "## Encontrar amostra do ato no DODF e Consolidar atos semelhantes"
   ]
  },
  {
   "cell_type": "markdown",
   "id": "annual-motel",
   "metadata": {},
   "source": [
    " ### 1) Aviso Errata 02\n",
    " ### 2) Aviso de Licitação \n",
    " ### 3) Aviso de Convocação para devolução de Invólucros\n",
    " ### 4) Aviso de Revogação\n",
    " ### 5) 2º Aviso Alteração Subcomissão Técnica\n",
    " ### 6) 1º Aviso Alteração Subcomissão Técnica"
   ]
  },
  {
   "cell_type": "markdown",
   "id": "every-tribe",
   "metadata": {},
   "source": [
    "## DODF - AVISO ERRATA 02"
   ]
  },
  {
   "cell_type": "markdown",
   "id": "aware-broad",
   "metadata": {},
   "source": [
    "![errata_1](img/errata_1.png)"
   ]
  },
  {
   "cell_type": "markdown",
   "id": "informal-tactics",
   "metadata": {},
   "source": [
    "![errata_2](img/errata_2.png)"
   ]
  },
  {
   "cell_type": "markdown",
   "id": "pregnant-milwaukee",
   "metadata": {},
   "source": [
    "![errata_3](img/errata_3.png)"
   ]
  },
  {
   "cell_type": "markdown",
   "id": "entertaining-machine",
   "metadata": {},
   "source": [
    "![errata_4](img/errata_4.png)"
   ]
  },
  {
   "cell_type": "markdown",
   "id": "saved-meaning",
   "metadata": {},
   "source": [
    "![errata_5](img/errata_5.png)"
   ]
  },
  {
   "cell_type": "markdown",
   "id": "likely-january",
   "metadata": {},
   "source": [
    "* **Média ocorrência no DODF.**"
   ]
  },
  {
   "cell_type": "markdown",
   "id": "tested-extent",
   "metadata": {},
   "source": [
    "* **Keywords:**\n",
    "    * AVISO DE ERRATA\n",
    "    * LICITAÇÃO\n",
    "    * Retificado/Retificar"
   ]
  },
  {
   "cell_type": "markdown",
   "id": "based-population",
   "metadata": {},
   "source": [
    "## DODF - AVISO DE LICITAÇÃO"
   ]
  },
  {
   "cell_type": "markdown",
   "id": "north-constant",
   "metadata": {},
   "source": [
    "![licitacao_1](img/licitacao_1.png)"
   ]
  },
  {
   "cell_type": "markdown",
   "id": "novel-activity",
   "metadata": {},
   "source": [
    "![licitacao_2](img/licitacao_2.png)"
   ]
  },
  {
   "cell_type": "markdown",
   "id": "numerical-precipitation",
   "metadata": {},
   "source": [
    "![licitacao_3](img/licitacao_3.png)"
   ]
  },
  {
   "cell_type": "markdown",
   "id": "liked-massachusetts",
   "metadata": {},
   "source": [
    "![licitacao_4](img/licitacao_4.png)"
   ]
  },
  {
   "cell_type": "markdown",
   "id": "mature-market",
   "metadata": {},
   "source": [
    "![licitacao_5](img/licitacao_5.png)"
   ]
  },
  {
   "cell_type": "markdown",
   "id": "divided-underwear",
   "metadata": {},
   "source": [
    "* **Alta ocorrência no DODF.**"
   ]
  },
  {
   "cell_type": "markdown",
   "id": "elementary-tyler",
   "metadata": {},
   "source": [
    "* **Keywords**:\n",
    "    * AVISO DE LICITAÇÃO\n",
    "    * Contratação\n",
    "    * licitação"
   ]
  },
  {
   "cell_type": "markdown",
   "id": "fiscal-endorsement",
   "metadata": {},
   "source": [
    "## DODF - AVISO CONVOCAÇÃO PARA DEVOLUÇÃO DE INVÓLUCROS"
   ]
  },
  {
   "cell_type": "markdown",
   "id": "fiscal-style",
   "metadata": {},
   "source": [
    "![devolucao_1](img/devolucao_1.png)"
   ]
  },
  {
   "cell_type": "markdown",
   "id": "widespread-assets",
   "metadata": {},
   "source": [
    "* **Baixa ocorrência no DODF.**"
   ]
  },
  {
   "cell_type": "markdown",
   "id": "future-impact",
   "metadata": {},
   "source": [
    "* **Keywords**:\n",
    "    * AVISO DE CONVOCAÇÃO PARA DEVOLUÇÃO DOS INVÓLUCROS DAS PROPOSTAS TÉCNICAS"
   ]
  },
  {
   "cell_type": "markdown",
   "id": "unlike-rental",
   "metadata": {},
   "source": [
    "## DODF - AVISO DE REVOGAÇÃO"
   ]
  },
  {
   "cell_type": "markdown",
   "id": "separated-discrimination",
   "metadata": {},
   "source": [
    "![revogacao_1](img/revogacao_1.png)"
   ]
  },
  {
   "cell_type": "markdown",
   "id": "rubber-elevation",
   "metadata": {},
   "source": [
    "![revogacao_2](img/revogacao_2.png)"
   ]
  },
  {
   "cell_type": "markdown",
   "id": "orange-anatomy",
   "metadata": {},
   "source": [
    "![revogacao_3](img/revogacao_3.png)"
   ]
  },
  {
   "cell_type": "markdown",
   "id": "english-welsh",
   "metadata": {},
   "source": [
    "![revogacao_4](img/revogacao_4.png)"
   ]
  },
  {
   "cell_type": "markdown",
   "id": "essential-neighbor",
   "metadata": {},
   "source": [
    "![revogacao_5](img/revogacao_5.png)"
   ]
  },
  {
   "cell_type": "markdown",
   "id": "interesting-alarm",
   "metadata": {},
   "source": [
    "* **Alta ocorrência no DODF.**"
   ]
  },
  {
   "cell_type": "markdown",
   "id": "urban-anthropology",
   "metadata": {},
   "source": [
    "* **Keywords**: \n",
    "    * AVISO DE REVOGAÇÃO\n",
    "    * REVOGADA\n",
    "    * revogação"
   ]
  },
  {
   "cell_type": "markdown",
   "id": "lesbian-success",
   "metadata": {},
   "source": [
    "## DODF - 1º e 2º AVISO ALTERAÇÃO SUBCOMISSÃO TÉCNICA"
   ]
  },
  {
   "cell_type": "markdown",
   "id": "solid-migration",
   "metadata": {},
   "source": [
    "![alteracao_1](img/alteracao_1.png)"
   ]
  },
  {
   "cell_type": "markdown",
   "id": "quantitative-capture",
   "metadata": {},
   "source": [
    "![alteracao_2](img/alteracao_2.png)"
   ]
  },
  {
   "cell_type": "markdown",
   "id": "residential-kernel",
   "metadata": {},
   "source": [
    "![alteracao_3](img/alteracao_3.png)"
   ]
  },
  {
   "cell_type": "markdown",
   "id": "ignored-governor",
   "metadata": {},
   "source": [
    "![alteracao_4](img/alteracao_4.png)"
   ]
  },
  {
   "cell_type": "markdown",
   "id": "alpine-aside",
   "metadata": {},
   "source": [
    "![alteracao_5](img/alteracao_5.png)"
   ]
  },
  {
   "cell_type": "markdown",
   "id": "optimum-beginning",
   "metadata": {},
   "source": [
    "* **Média ocorrência no DODF.**"
   ]
  },
  {
   "cell_type": "markdown",
   "id": "warming-plenty",
   "metadata": {},
   "source": [
    "* **Keywords:**\n",
    "    * AVISO DE ALTERAÇÃO DA COMPOSIÇÃO DA SUBCOMISSÃO TÉCNICA CONCORRÊNCIA \n",
    "    * Subcomissão Técnica.\n",
    "    * Concorrência."
   ]
  },
  {
   "cell_type": "markdown",
   "id": "general-sympathy",
   "metadata": {},
   "source": [
    "### Referências:\n",
    "* http://www.comunicacao.df.gov.br/category/licitacao/\n",
    "* https://www.dodf.df.gov.br/"
   ]
  }
 ],
 "metadata": {
  "kernelspec": {
   "display_name": "Python 3",
   "language": "python",
   "name": "python3"
  },
  "language_info": {
   "codemirror_mode": {
    "name": "ipython",
    "version": 3
   },
   "file_extension": ".py",
   "mimetype": "text/x-python",
   "name": "python",
   "nbconvert_exporter": "python",
   "pygments_lexer": "ipython3",
   "version": "3.8.6"
  }
 },
 "nbformat": 4,
 "nbformat_minor": 5
}
